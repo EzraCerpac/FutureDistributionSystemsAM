{
 "cells": [
  {
   "cell_type": "markdown",
   "id": "7f84b5c35c7dac9",
   "metadata": {},
   "source": [
    "# 2D Magnetodynamics (Time-Harmonic) - Distribution Transformer"
   ]
  },
  {
   "cell_type": "code",
   "execution_count": 1,
   "id": "23ad8ead3de6d37f",
   "metadata": {},
   "outputs": [
    {
     "name": "stderr",
     "output_type": "stream",
     "text": [
      "\u001b[33m\u001b[1m┌ \u001b[22m\u001b[39m\u001b[33m\u001b[1mWarning: \u001b[22m\u001b[39mReplacing docs for `Main.MagnetostaticsFEM.WeakFormProblem :: Union{}` in module `Main.MagnetostaticsFEM`\n",
      "\u001b[33m\u001b[1m└ \u001b[22m\u001b[39m\u001b[90m@ Base.Docs docs/Docs.jl:243\u001b[39m\n",
      "\u001b[33m\u001b[1m┌ \u001b[22m\u001b[39m\u001b[33m\u001b[1mWarning: \u001b[22m\u001b[39mReplacing docs for `Main.MagnetostaticsFEM.magnetostatics_weak_form :: Tuple{Gridap.Geometry.Triangulation, Gridap.CellData.Measure, AbstractArray, Any, Any}` in module `Main.MagnetostaticsFEM`\n",
      "\u001b[33m\u001b[1m└ \u001b[22m\u001b[39m\u001b[90m@ Base.Docs docs/Docs.jl:243\u001b[39m\n",
      "\u001b[33m\u001b[1m┌ \u001b[22m\u001b[39m\u001b[33m\u001b[1mWarning: \u001b[22m\u001b[39mReplacing docs for `Main.MagnetostaticsFEM.magnetodynamics_harmonic_weak_form :: Tuple{Gridap.Geometry.Triangulation, Gridap.CellData.Measure, AbstractArray, Any, Any, Any, Float64}` in module `Main.MagnetostaticsFEM`\n",
      "\u001b[33m\u001b[1m└ \u001b[22m\u001b[39m\u001b[90m@ Base.Docs docs/Docs.jl:243\u001b[39m\n",
      "\u001b[33m\u001b[1m┌ \u001b[22m\u001b[39m\u001b[33m\u001b[1mWarning: \u001b[22m\u001b[39mReplacing docs for `Main.MagnetostaticsFEM.magnetodynamics_harmonic_coupled_weak_form :: Tuple{Gridap.Geometry.Triangulation, Gridap.CellData.Measure, AbstractArray, Gridap.CellData.CellField, Function, Function, Float64}` in module `Main.MagnetostaticsFEM`\n",
      "\u001b[33m\u001b[1m└ \u001b[22m\u001b[39m\u001b[90m@ Base.Docs docs/Docs.jl:243\u001b[39m\n",
      "\u001b[33m\u001b[1m┌ \u001b[22m\u001b[39m\u001b[33m\u001b[1mWarning: \u001b[22m\u001b[39mReplacing docs for `Main.MagnetostaticsFEM.magnetodynamics_harmonic_coupled_weak_form :: Tuple{Gridap.Geometry.Triangulation, Gridap.CellData.Measure, AbstractArray, Function, Function, Function, Float64}` in module `Main.MagnetostaticsFEM`\n",
      "\u001b[33m\u001b[1m└ \u001b[22m\u001b[39m\u001b[90m@ Base.Docs docs/Docs.jl:243\u001b[39m\n",
      "\u001b[33m\u001b[1m┌ \u001b[22m\u001b[39m\u001b[33m\u001b[1mWarning: \u001b[22m\u001b[39mReplacing docs for `Main.MagnetostaticsFEM.define_reluctivity :: Tuple{Dict{String, Int64}, Float64, Float64}` in module `Main.MagnetostaticsFEM`\n",
      "\u001b[33m\u001b[1m└ \u001b[22m\u001b[39m\u001b[90m@ Base.Docs docs/Docs.jl:243\u001b[39m\n",
      "\u001b[33m\u001b[1m┌ \u001b[22m\u001b[39m\u001b[33m\u001b[1mWarning: \u001b[22m\u001b[39mReplacing docs for `Main.MagnetostaticsFEM.define_nonlinear_reluctivity :: Tuple{Dict{String, Int64}, Vararg{Float64, 4}}` in module `Main.MagnetostaticsFEM`\n",
      "\u001b[33m\u001b[1m└ \u001b[22m\u001b[39m\u001b[90m@ Base.Docs docs/Docs.jl:243\u001b[39m\n",
      "\u001b[33m\u001b[1m┌ \u001b[22m\u001b[39m\u001b[33m\u001b[1mWarning: \u001b[22m\u001b[39mReplacing docs for `Main.MagnetostaticsFEM.update_reluctivity_from_field :: Tuple{Any, Any, Any}` in module `Main.MagnetostaticsFEM`\n",
      "\u001b[33m\u001b[1m└ \u001b[22m\u001b[39m\u001b[90m@ Base.Docs docs/Docs.jl:243\u001b[39m\n",
      "\u001b[33m\u001b[1m┌ \u001b[22m\u001b[39m\u001b[33m\u001b[1mWarning: \u001b[22m\u001b[39mReplacing docs for `Main.MagnetostaticsFEM.define_current_density :: Tuple{Dict{String, Int64}, Float64}` in module `Main.MagnetostaticsFEM`\n",
      "\u001b[33m\u001b[1m└ \u001b[22m\u001b[39m\u001b[90m@ Base.Docs docs/Docs.jl:243\u001b[39m\n",
      "\u001b[33m\u001b[1m┌ \u001b[22m\u001b[39m\u001b[33m\u001b[1mWarning: \u001b[22m\u001b[39mReplacing docs for `Main.MagnetostaticsFEM.define_conductivity :: Tuple{Dict{String, Int64}, Float64}` in module `Main.MagnetostaticsFEM`\n",
      "\u001b[33m\u001b[1m└ \u001b[22m\u001b[39m\u001b[90m@ Base.Docs docs/Docs.jl:243\u001b[39m\n"
     ]
    }
   ],
   "source": [
    "include(joinpath(dirname(@__DIR__), \"config.jl\"))\n",
    "paths = get_project_paths(\"examples_2d\")\n",
    "\n",
    "# Ensure the module is reloaded if changed\n",
    "if isdefined(Main, :MagnetostaticsFEM)\n",
    "    println(\"Reloading MagnetostaticsFEM...\")\n",
    "    # A simple way to force reload in interactive sessions\n",
    "    try; delete!(LOAD_PATH, paths[\"SRC_DIR\"]); catch; end\n",
    "    try; delete!(Base.loaded_modules, Base.PkgId(Base.UUID(\"f8a2b3c4-d5e6-f7a8-b9c0-d1e2f3a4b5c6\"), \"MagnetostaticsFEM\")); catch; end\n",
    "end\n",
    "include(joinpath(paths[\"SRC_DIR\"], \"MagnetostaticsFEM.jl\"))\n",
    "\n",
    "using LinearAlgebra\n",
    "using Plots\n",
    "using LaTeXStrings\n",
    "using Gmsh: gmsh\n",
    "using Gridap\n",
    "using GridapGmsh: GmshDiscreteModel\n",
    "using .MagnetostaticsFEM\n",
    "using Printf # For animation title formatting"
   ]
  },
  {
   "cell_type": "markdown",
   "id": "89bde36d295a4dd9",
   "metadata": {},
   "source": [
    "## Define Parameters and Paths"
   ]
  },
  {
   "cell_type": "code",
   "execution_count": 2,
   "id": "76fe27956b56408f",
   "metadata": {},
   "outputs": [
    {
     "name": "stdout",
     "output_type": "stream",
     "text": [
      "Mesh file: /Users/ezracerpac/PycharmProjects/FutureDistributionSystemsAM/examples_2d/geo/2D_quad_transformer.msh\n",
      "Output directory: /Users/ezracerpac/PycharmProjects/FutureDistributionSystemsAM/examples_2d/output\n"
     ]
    }
   ],
   "source": [
    "# Model Parameters\n",
    "J0 = 2.2e4       # Source current density [A/m²]\n",
    "μ0 = 4e-7 * pi  # Vacuum permeability [H/m]\n",
    "μr_core = 1500.0 # Relative permeability of the core (linear case)\n",
    "σ_core = 1e6    # Conductivity of the core [S/m] (Laminated)\n",
    "freq = 50.0     # Frequency [Hz]\n",
    "ω = 2 * pi * freq # Angular frequency [rad/s]\n",
    "\n",
    "# FEM Parameters\n",
    "order = 2\n",
    "field_type = ComplexF64 # Use ComplexF64 marker for setup_fe_spacesju\n",
    "dirichlet_tag_name = \"Enclosure\" # Name of the physical group for Dirichlet BC\n",
    "dirichlet_value = 0.0 + 0.0im # Dirichlet BC for Az = u + iv\n",
    "\n",
    "# Paths\n",
    "mesh_file = joinpath(paths[\"GEO_DIR\"], \"2D_quad_transformer.msh\")\n",
    "output_file_base = joinpath(paths[\"OUTPUT_DIR\"], \"harmonic\")\n",
    "\n",
    "println(\"Mesh file: \", mesh_file)\n",
    "println(\"Output directory: \", paths[\"OUTPUT_DIR\"])"
   ]
  },
  {
   "cell_type": "markdown",
   "id": "e03c683cd67911ba",
   "metadata": {},
   "source": [
    "## Setup FEM Problem (Linear Magnetodynamics)"
   ]
  },
  {
   "cell_type": "code",
   "execution_count": 3,
   "id": "8d363313451393b1",
   "metadata": {},
   "outputs": [
    {
     "name": "stdout",
     "output_type": "stream",
     "text": [
      "Info    : Reading '/Users/ezracerpac/PycharmProjects/FutureDistributionSystemsAM/examples_2d/geo/2D_quad_transformer.msh'...\n",
      "Info    : 86 entities\n",
      "Info    : 1712 nodes\n",
      "Info    : 1731 elements\n",
      "Info    : Done reading '/Users/ezracerpac/PycharmProjects/FutureDistributionSystemsAM/examples_2d/geo/2D_quad_transformer.msh'\n",
      "Material Tags: Dict(\"Core\" => 3, \"Coil2\" => 5, \"Air\" => 2, \"Coil1\" => 4)\n"
     ]
    },
    {
     "data": {
      "text/plain": [
       "Main.MagnetostaticsFEM.WeakFormProblem(Main.MagnetostaticsFEM.var\"#a#37\"{Gridap.CellData.GenericMeasure, Float64, Gridap.CellData.OperationCellField{ReferenceDomain}, Gridap.CellData.OperationCellField{ReferenceDomain}}(GenericMeasure(), 314.1592653589793, OperationCellField(), OperationCellField()), Main.MagnetostaticsFEM.var\"#b#38\"{Gridap.CellData.GenericMeasure, Gridap.CellData.OperationCellField{ReferenceDomain}}(GenericMeasure(), OperationCellField()))"
      ]
     },
     "execution_count": 3,
     "metadata": {},
     "output_type": "execute_result"
    }
   ],
   "source": [
    "# Load mesh and tags\n",
    "model, labels, tags = load_mesh_and_tags(mesh_file)\n",
    "\n",
    "# Get material tags dictionary using the 2D specific function\n",
    "material_tags = get_material_tags(labels)\n",
    "println(\"Material Tags: \", material_tags)\n",
    "\n",
    "# Set up triangulation and measures\n",
    "Ω = Triangulation(model)\n",
    "dΩ = Measure(Ω, 2*order)\n",
    "\n",
    "reluctivity_func = define_reluctivity(material_tags, μ0, μr_core; core_tag_name=\"Core\")\n",
    "conductivity_func = define_conductivity(material_tags, σ_core; core_tag_name=\"Core\")\n",
    "source_current_func = define_current_density(material_tags, J0)\n",
    "\n",
    "# Setup FE spaces (multi-field: Real, Imag parts)\n",
    "U, V = setup_fe_spaces(model, order, field_type, dirichlet_tag_name, dirichlet_value)\n",
    "\n",
    "# Define the weak form problem for the coupled system using the real reference source\n",
    "problem = magnetodynamics_harmonic_coupled_weak_form(Ω, dΩ, tags, reluctivity_func, conductivity_func, source_current_func, ω)"
   ]
  },
  {
   "cell_type": "markdown",
   "id": "6f2f75a88edab374",
   "metadata": {},
   "source": [
    "## Solve FEM Problem"
   ]
  },
  {
   "cell_type": "code",
   "execution_count": 4,
   "id": "145f9004f4e49384",
   "metadata": {},
   "outputs": [
    {
     "data": {
      "text/plain": [
       "SingleFieldFEFunction():\n",
       " num_cells: 1691\n",
       " DomainStyle: ReferenceDomain()\n",
       " Triangulation: BodyFittedTriangulation()\n",
       " Triangulation id: 6164576479981392742"
      ]
     },
     "execution_count": 4,
     "metadata": {},
     "output_type": "execute_result"
    }
   ],
   "source": [
    "# Solve the real coupled linear FE system\n",
    "uv = solve_fem_problem(problem, U, V) # uv is a MultiFieldFEFunction\n",
    "\n",
    "# Extract real and imaginary parts\n",
    "u = uv[1] # Real part of Az\n",
    "v = uv[2] # Imag part of Az"
   ]
  },
  {
   "cell_type": "markdown",
   "id": "edbf85a32002b2a5",
   "metadata": {},
   "source": [
    "## Post-processing"
   ]
  },
  {
   "cell_type": "code",
   "execution_count": 5,
   "id": "2fdb66365a3a4edc",
   "metadata": {},
   "outputs": [
    {
     "name": "stdout",
     "output_type": "stream",
     "text": [
      "Saving results as time series PVD...\n",
      "Saved frame 1 (t=0.0) to /Users/ezracerpac/PycharmProjects/FutureDistributionSystemsAM/examples_2d/output/harmonic/B_t0001.vtu\n",
      "Saved frame 2 (t=0.00020202020202020202) to /Users/ezracerpac/PycharmProjects/FutureDistributionSystemsAM/examples_2d/output/harmonic/B_t0002.vtu\n",
      "Saved frame 3 (t=0.00040404040404040404) to /Users/ezracerpac/PycharmProjects/FutureDistributionSystemsAM/examples_2d/output/harmonic/B_t0003.vtu\n",
      "Saved frame 4 (t=0.0006060606060606061) to /Users/ezracerpac/PycharmProjects/FutureDistributionSystemsAM/examples_2d/output/harmonic/B_t0004.vtu\n",
      "Saved frame 5 (t=0.0008080808080808081) to /Users/ezracerpac/PycharmProjects/FutureDistributionSystemsAM/examples_2d/output/harmonic/B_t0005.vtu\n",
      "Saved frame 6 (t=0.00101010101010101) to /Users/ezracerpac/PycharmProjects/FutureDistributionSystemsAM/examples_2d/output/harmonic/B_t0006.vtu\n",
      "Saved frame 7 (t=0.0012121212121212121) to /Users/ezracerpac/PycharmProjects/FutureDistributionSystemsAM/examples_2d/output/harmonic/B_t0007.vtu\n",
      "Saved frame 8 (t=0.0014141414141414141) to /Users/ezracerpac/PycharmProjects/FutureDistributionSystemsAM/examples_2d/output/harmonic/B_t0008.vtu\n",
      "Saved frame 9 (t=0.0016161616161616162) to /Users/ezracerpac/PycharmProjects/FutureDistributionSystemsAM/examples_2d/output/harmonic/B_t0009.vtu\n",
      "Saved frame 10 (t=0.0018181818181818182) to /Users/ezracerpac/PycharmProjects/FutureDistributionSystemsAM/examples_2d/output/harmonic/B_t0010.vtu\n",
      "Saved frame 11 (t=0.00202020202020202) to /Users/ezracerpac/PycharmProjects/FutureDistributionSystemsAM/examples_2d/output/harmonic/B_t0011.vtu\n",
      "Saved frame 12 (t=0.0022222222222222222) to /Users/ezracerpac/PycharmProjects/FutureDistributionSystemsAM/examples_2d/output/harmonic/B_t0012.vtu\n",
      "Saved frame 13 (t=0.0024242424242424242) to /Users/ezracerpac/PycharmProjects/FutureDistributionSystemsAM/examples_2d/output/harmonic/B_t0013.vtu\n",
      "Saved frame 14 (t=0.0026262626262626263) to /Users/ezracerpac/PycharmProjects/FutureDistributionSystemsAM/examples_2d/output/harmonic/B_t0014.vtu\n",
      "Saved frame 15 (t=0.0028282828282828283) to /Users/ezracerpac/PycharmProjects/FutureDistributionSystemsAM/examples_2d/output/harmonic/B_t0015.vtu\n",
      "Saved frame 16 (t=0.0030303030303030303) to /Users/ezracerpac/PycharmProjects/FutureDistributionSystemsAM/examples_2d/output/harmonic/B_t0016.vtu\n",
      "Saved frame 17 (t=0.0032323232323232323) to /Users/ezracerpac/PycharmProjects/FutureDistributionSystemsAM/examples_2d/output/harmonic/B_t0017.vtu\n",
      "Saved frame 18 (t=0.0034343434343434343) to /Users/ezracerpac/PycharmProjects/FutureDistributionSystemsAM/examples_2d/output/harmonic/B_t0018.vtu\n",
      "Saved frame 19 (t=0.0036363636363636364) to /Users/ezracerpac/PycharmProjects/FutureDistributionSystemsAM/examples_2d/output/harmonic/B_t0019.vtu\n",
      "Saved frame 20 (t=0.0038383838383838384) to /Users/ezracerpac/PycharmProjects/FutureDistributionSystemsAM/examples_2d/output/harmonic/B_t0020.vtu\n",
      "Saved frame 21 (t=0.00404040404040404) to /Users/ezracerpac/PycharmProjects/FutureDistributionSystemsAM/examples_2d/output/harmonic/B_t0021.vtu\n",
      "Saved frame 22 (t=0.004242424242424243) to /Users/ezracerpac/PycharmProjects/FutureDistributionSystemsAM/examples_2d/output/harmonic/B_t0022.vtu\n",
      "Saved frame 23 (t=0.0044444444444444444) to /Users/ezracerpac/PycharmProjects/FutureDistributionSystemsAM/examples_2d/output/harmonic/B_t0023.vtu\n",
      "Saved frame 24 (t=0.004646464646464647) to /Users/ezracerpac/PycharmProjects/FutureDistributionSystemsAM/examples_2d/output/harmonic/B_t0024.vtu\n",
      "Saved frame 25 (t=0.0048484848484848485) to /Users/ezracerpac/PycharmProjects/FutureDistributionSystemsAM/examples_2d/output/harmonic/B_t0025.vtu\n",
      "Saved frame 26 (t=0.005050505050505051) to /Users/ezracerpac/PycharmProjects/FutureDistributionSystemsAM/examples_2d/output/harmonic/B_t0026.vtu\n",
      "Saved frame 27 (t=0.0052525252525252525) to /Users/ezracerpac/PycharmProjects/FutureDistributionSystemsAM/examples_2d/output/harmonic/B_t0027.vtu\n",
      "Saved frame 28 (t=0.005454545454545455) to /Users/ezracerpac/PycharmProjects/FutureDistributionSystemsAM/examples_2d/output/harmonic/B_t0028.vtu\n",
      "Saved frame 29 (t=0.0056565656565656566) to /Users/ezracerpac/PycharmProjects/FutureDistributionSystemsAM/examples_2d/output/harmonic/B_t0029.vtu\n",
      "Saved frame 30 (t=0.005858585858585859) to /Users/ezracerpac/PycharmProjects/FutureDistributionSystemsAM/examples_2d/output/harmonic/B_t0030.vtu\n",
      "Saved frame 31 (t=0.006060606060606061) to /Users/ezracerpac/PycharmProjects/FutureDistributionSystemsAM/examples_2d/output/harmonic/B_t0031.vtu\n",
      "Saved frame 32 (t=0.006262626262626263) to /Users/ezracerpac/PycharmProjects/FutureDistributionSystemsAM/examples_2d/output/harmonic/B_t0032.vtu\n",
      "Saved frame 33 (t=0.006464646464646465) to /Users/ezracerpac/PycharmProjects/FutureDistributionSystemsAM/examples_2d/output/harmonic/B_t0033.vtu\n",
      "Saved frame 34 (t=0.006666666666666667) to /Users/ezracerpac/PycharmProjects/FutureDistributionSystemsAM/examples_2d/output/harmonic/B_t0034.vtu\n",
      "Saved frame 35 (t=0.006868686868686869) to /Users/ezracerpac/PycharmProjects/FutureDistributionSystemsAM/examples_2d/output/harmonic/B_t0035.vtu\n",
      "Saved frame 36 (t=0.007070707070707071) to /Users/ezracerpac/PycharmProjects/FutureDistributionSystemsAM/examples_2d/output/harmonic/B_t0036.vtu\n",
      "Saved frame 37 (t=0.007272727272727273) to /Users/ezracerpac/PycharmProjects/FutureDistributionSystemsAM/examples_2d/output/harmonic/B_t0037.vtu\n",
      "Saved frame 38 (t=0.007474747474747475) to /Users/ezracerpac/PycharmProjects/FutureDistributionSystemsAM/examples_2d/output/harmonic/B_t0038.vtu\n",
      "Saved frame 39 (t=0.007676767676767677) to /Users/ezracerpac/PycharmProjects/FutureDistributionSystemsAM/examples_2d/output/harmonic/B_t0039.vtu\n",
      "Saved frame 40 (t=0.00787878787878788) to /Users/ezracerpac/PycharmProjects/FutureDistributionSystemsAM/examples_2d/output/harmonic/B_t0040.vtu\n",
      "Saved frame 41 (t=0.00808080808080808) to /Users/ezracerpac/PycharmProjects/FutureDistributionSystemsAM/examples_2d/output/harmonic/B_t0041.vtu\n",
      "Saved frame 42 (t=0.008282828282828282) to /Users/ezracerpac/PycharmProjects/FutureDistributionSystemsAM/examples_2d/output/harmonic/B_t0042.vtu\n",
      "Saved frame 43 (t=0.008484848484848486) to /Users/ezracerpac/PycharmProjects/FutureDistributionSystemsAM/examples_2d/output/harmonic/B_t0043.vtu\n",
      "Saved frame 44 (t=0.008686868686868687) to /Users/ezracerpac/PycharmProjects/FutureDistributionSystemsAM/examples_2d/output/harmonic/B_t0044.vtu\n",
      "Saved frame 45 (t=0.008888888888888889) to /Users/ezracerpac/PycharmProjects/FutureDistributionSystemsAM/examples_2d/output/harmonic/B_t0045.vtu\n",
      "Saved frame 46 (t=0.00909090909090909) to /Users/ezracerpac/PycharmProjects/FutureDistributionSystemsAM/examples_2d/output/harmonic/B_t0046.vtu\n",
      "Saved frame 47 (t=0.009292929292929294) to /Users/ezracerpac/PycharmProjects/FutureDistributionSystemsAM/examples_2d/output/harmonic/B_t0047.vtu\n",
      "Saved frame 48 (t=0.009494949494949495) to /Users/ezracerpac/PycharmProjects/FutureDistributionSystemsAM/examples_2d/output/harmonic/B_t0048.vtu\n",
      "Saved frame 49 (t=0.009696969696969697) to /Users/ezracerpac/PycharmProjects/FutureDistributionSystemsAM/examples_2d/output/harmonic/B_t0049.vtu\n",
      "Saved frame 50 (t=0.009898989898989899) to /Users/ezracerpac/PycharmProjects/FutureDistributionSystemsAM/examples_2d/output/harmonic/B_t0050.vtu\n",
      "Saved frame 51 (t=0.010101010101010102) to /Users/ezracerpac/PycharmProjects/FutureDistributionSystemsAM/examples_2d/output/harmonic/B_t0051.vtu\n",
      "Saved frame 52 (t=0.010303030303030303) to /Users/ezracerpac/PycharmProjects/FutureDistributionSystemsAM/examples_2d/output/harmonic/B_t0052.vtu\n",
      "Saved frame 53 (t=0.010505050505050505) to /Users/ezracerpac/PycharmProjects/FutureDistributionSystemsAM/examples_2d/output/harmonic/B_t0053.vtu\n",
      "Saved frame 54 (t=0.010707070707070707) to /Users/ezracerpac/PycharmProjects/FutureDistributionSystemsAM/examples_2d/output/harmonic/B_t0054.vtu\n",
      "Saved frame 55 (t=0.01090909090909091) to /Users/ezracerpac/PycharmProjects/FutureDistributionSystemsAM/examples_2d/output/harmonic/B_t0055.vtu\n",
      "Saved frame 56 (t=0.011111111111111112) to /Users/ezracerpac/PycharmProjects/FutureDistributionSystemsAM/examples_2d/output/harmonic/B_t0056.vtu\n",
      "Saved frame 57 (t=0.011313131313131313) to /Users/ezracerpac/PycharmProjects/FutureDistributionSystemsAM/examples_2d/output/harmonic/B_t0057.vtu\n",
      "Saved frame 58 (t=0.011515151515151515) to /Users/ezracerpac/PycharmProjects/FutureDistributionSystemsAM/examples_2d/output/harmonic/B_t0058.vtu\n",
      "Saved frame 59 (t=0.011717171717171718) to /Users/ezracerpac/PycharmProjects/FutureDistributionSystemsAM/examples_2d/output/harmonic/B_t0059.vtu\n",
      "Saved frame 60 (t=0.01191919191919192) to /Users/ezracerpac/PycharmProjects/FutureDistributionSystemsAM/examples_2d/output/harmonic/B_t0060.vtu\n",
      "Saved frame 61 (t=0.012121212121212121) to /Users/ezracerpac/PycharmProjects/FutureDistributionSystemsAM/examples_2d/output/harmonic/B_t0061.vtu\n",
      "Saved frame 62 (t=0.012323232323232323) to /Users/ezracerpac/PycharmProjects/FutureDistributionSystemsAM/examples_2d/output/harmonic/B_t0062.vtu\n",
      "Saved frame 63 (t=0.012525252525252526) to /Users/ezracerpac/PycharmProjects/FutureDistributionSystemsAM/examples_2d/output/harmonic/B_t0063.vtu\n",
      "Saved frame 64 (t=0.012727272727272728) to /Users/ezracerpac/PycharmProjects/FutureDistributionSystemsAM/examples_2d/output/harmonic/B_t0064.vtu\n",
      "Saved frame 65 (t=0.01292929292929293) to /Users/ezracerpac/PycharmProjects/FutureDistributionSystemsAM/examples_2d/output/harmonic/B_t0065.vtu\n",
      "Saved frame 66 (t=0.013131313131313131) to /Users/ezracerpac/PycharmProjects/FutureDistributionSystemsAM/examples_2d/output/harmonic/B_t0066.vtu\n",
      "Saved frame 67 (t=0.013333333333333334) to /Users/ezracerpac/PycharmProjects/FutureDistributionSystemsAM/examples_2d/output/harmonic/B_t0067.vtu\n",
      "Saved frame 68 (t=0.013535353535353536) to /Users/ezracerpac/PycharmProjects/FutureDistributionSystemsAM/examples_2d/output/harmonic/B_t0068.vtu\n",
      "Saved frame 69 (t=0.013737373737373737) to /Users/ezracerpac/PycharmProjects/FutureDistributionSystemsAM/examples_2d/output/harmonic/B_t0069.vtu\n",
      "Saved frame 70 (t=0.013939393939393939) to /Users/ezracerpac/PycharmProjects/FutureDistributionSystemsAM/examples_2d/output/harmonic/B_t0070.vtu\n",
      "Saved frame 71 (t=0.014141414141414142) to /Users/ezracerpac/PycharmProjects/FutureDistributionSystemsAM/examples_2d/output/harmonic/B_t0071.vtu\n",
      "Saved frame 72 (t=0.014343434343434344) to /Users/ezracerpac/PycharmProjects/FutureDistributionSystemsAM/examples_2d/output/harmonic/B_t0072.vtu\n",
      "Saved frame 73 (t=0.014545454545454545) to /Users/ezracerpac/PycharmProjects/FutureDistributionSystemsAM/examples_2d/output/harmonic/B_t0073.vtu\n",
      "Saved frame 74 (t=0.014747474747474747) to /Users/ezracerpac/PycharmProjects/FutureDistributionSystemsAM/examples_2d/output/harmonic/B_t0074.vtu\n",
      "Saved frame 75 (t=0.01494949494949495) to /Users/ezracerpac/PycharmProjects/FutureDistributionSystemsAM/examples_2d/output/harmonic/B_t0075.vtu\n",
      "Saved frame 76 (t=0.015151515151515152) to /Users/ezracerpac/PycharmProjects/FutureDistributionSystemsAM/examples_2d/output/harmonic/B_t0076.vtu\n",
      "Saved frame 77 (t=0.015353535353535354) to /Users/ezracerpac/PycharmProjects/FutureDistributionSystemsAM/examples_2d/output/harmonic/B_t0077.vtu\n",
      "Saved frame 78 (t=0.015555555555555555) to /Users/ezracerpac/PycharmProjects/FutureDistributionSystemsAM/examples_2d/output/harmonic/B_t0078.vtu\n",
      "Saved frame 79 (t=0.01575757575757576) to /Users/ezracerpac/PycharmProjects/FutureDistributionSystemsAM/examples_2d/output/harmonic/B_t0079.vtu\n",
      "Saved frame 80 (t=0.01595959595959596) to /Users/ezracerpac/PycharmProjects/FutureDistributionSystemsAM/examples_2d/output/harmonic/B_t0080.vtu\n",
      "Saved frame 81 (t=0.01616161616161616) to /Users/ezracerpac/PycharmProjects/FutureDistributionSystemsAM/examples_2d/output/harmonic/B_t0081.vtu\n",
      "Saved frame 82 (t=0.016363636363636365) to /Users/ezracerpac/PycharmProjects/FutureDistributionSystemsAM/examples_2d/output/harmonic/B_t0082.vtu\n",
      "Saved frame 83 (t=0.016565656565656565) to /Users/ezracerpac/PycharmProjects/FutureDistributionSystemsAM/examples_2d/output/harmonic/B_t0083.vtu\n",
      "Saved frame 84 (t=0.016767676767676768) to /Users/ezracerpac/PycharmProjects/FutureDistributionSystemsAM/examples_2d/output/harmonic/B_t0084.vtu\n",
      "Saved frame 85 (t=0.01696969696969697) to /Users/ezracerpac/PycharmProjects/FutureDistributionSystemsAM/examples_2d/output/harmonic/B_t0085.vtu\n",
      "Saved frame 86 (t=0.01717171717171717) to /Users/ezracerpac/PycharmProjects/FutureDistributionSystemsAM/examples_2d/output/harmonic/B_t0086.vtu\n",
      "Saved frame 87 (t=0.017373737373737375) to /Users/ezracerpac/PycharmProjects/FutureDistributionSystemsAM/examples_2d/output/harmonic/B_t0087.vtu\n",
      "Saved frame 88 (t=0.017575757575757574) to /Users/ezracerpac/PycharmProjects/FutureDistributionSystemsAM/examples_2d/output/harmonic/B_t0088.vtu\n",
      "Saved frame 89 (t=0.017777777777777778) to /Users/ezracerpac/PycharmProjects/FutureDistributionSystemsAM/examples_2d/output/harmonic/B_t0089.vtu\n",
      "Saved frame 90 (t=0.01797979797979798) to /Users/ezracerpac/PycharmProjects/FutureDistributionSystemsAM/examples_2d/output/harmonic/B_t0090.vtu\n",
      "Saved frame 91 (t=0.01818181818181818) to /Users/ezracerpac/PycharmProjects/FutureDistributionSystemsAM/examples_2d/output/harmonic/B_t0091.vtu\n",
      "Saved frame 92 (t=0.018383838383838384) to /Users/ezracerpac/PycharmProjects/FutureDistributionSystemsAM/examples_2d/output/harmonic/B_t0092.vtu\n",
      "Saved frame 93 (t=0.018585858585858588) to /Users/ezracerpac/PycharmProjects/FutureDistributionSystemsAM/examples_2d/output/harmonic/B_t0093.vtu\n",
      "Saved frame 94 (t=0.018787878787878787) to /Users/ezracerpac/PycharmProjects/FutureDistributionSystemsAM/examples_2d/output/harmonic/B_t0094.vtu\n",
      "Saved frame 95 (t=0.01898989898989899) to /Users/ezracerpac/PycharmProjects/FutureDistributionSystemsAM/examples_2d/output/harmonic/B_t0095.vtu\n",
      "Saved frame 96 (t=0.01919191919191919) to /Users/ezracerpac/PycharmProjects/FutureDistributionSystemsAM/examples_2d/output/harmonic/B_t0096.vtu\n",
      "Saved frame 97 (t=0.019393939393939394) to /Users/ezracerpac/PycharmProjects/FutureDistributionSystemsAM/examples_2d/output/harmonic/B_t0097.vtu\n",
      "Saved frame 98 (t=0.019595959595959597) to /Users/ezracerpac/PycharmProjects/FutureDistributionSystemsAM/examples_2d/output/harmonic/B_t0098.vtu\n",
      "Saved frame 99 (t=0.019797979797979797) to /Users/ezracerpac/PycharmProjects/FutureDistributionSystemsAM/examples_2d/output/harmonic/B_t0099.vtu\n",
      "Saved frame 100 (t=0.02) to /Users/ezracerpac/PycharmProjects/FutureDistributionSystemsAM/examples_2d/output/harmonic/B_t0100.vtu\n",
      "Time series PVD collection saved to /Users/ezracerpac/PycharmProjects/FutureDistributionSystemsAM/examples_2d/output/harmonic/B.pvd\n"
     ]
    }
   ],
   "source": [
    "# Compute B-field (Real and Imag parts)\n",
    "B_re, B_im = calculate_b_field(uv)\n",
    "\n",
    "# Compute Eddy Currents (Real and Imag parts)\n",
    "J_eddy_re, J_eddy_im = calculate_eddy_current(uv, conductivity_func, ω, Ω, tags)\n",
    "\n",
    "# Define helper functions for magnitude squared\n",
    "mag_sq_scalar(re, im) = re*re + im*im\n",
    "mag_sq_vector(re, im) = inner(re, re) + inner(im, im)\n",
    "\n",
    "# Calculate Magnitudes for saving/plotting using composition\n",
    "Az_mag = sqrt ∘ (mag_sq_scalar ∘ (u, v))\n",
    "B_mag = sqrt ∘ (mag_sq_vector ∘ (B_re, B_im))\n",
    "Jeddy_mag = sqrt ∘ (mag_sq_scalar ∘ (J_eddy_re, J_eddy_im))\n",
    "\n",
    "# Calculate total current density magnitude (approximation)\n",
    "# J_total_re = source_current_func_real(tags) + J_eddy_re # Need CellField source\n",
    "# J_total_im = J_eddy_im\n",
    "# J_total_mag = sqrt ∘ (mag_sq_scalar ∘ (J_total_re, J_total_im))\n",
    "# TODO: Need a better way to handle source current in post-processing\n",
    "\n",
    "# Save results to VTK format\n",
    "save_results_vtk(Ω, output_file_base, \n",
    "    Dict(\n",
    "        \"Az_re\" => u, \"Az_im\" => v, \"Az_mag\" => Az_mag,\n",
    "        \"B_re\" => B_re, \"B_im\" => B_im, \"B_mag\" => B_mag,\n",
    "        \"Jeddy_re\" => J_eddy_re, \"Jeddy_im\" => J_eddy_im, \"Jeddy_mag\" => Jeddy_mag\n",
    "        # \"Jtotal_mag\" => J_total_mag\n",
    "    ),\n",
    "    save_time_series=true, ω=ω, nframes=100,\n",
    ")"
   ]
  },
  {
   "cell_type": "markdown",
   "id": "893e0421e6e76772",
   "metadata": {},
   "source": [
    "## Visualization (Contour Plots)"
   ]
  },
  {
   "cell_type": "code",
   "execution_count": null,
   "id": "9fbd17f08b2e7e72",
   "metadata": {},
   "outputs": [],
   "source": [
    "# Plot the magnitude of the magnetic vector potential\n",
    "plot_contour_2d(Ω, Az_mag, title=\"Magnetic Vector Potential Magnitude |Az|\", output_path=joinpath(paths[\"OUTPUT_DIR\"], \"Az_magnitude_contour.pdf\"))\n",
    "\n",
    "# Plot the magnitude of the magnetic flux density\n",
    "plot_contour_2d(Ω, B_mag, title=\"Magnetic Flux Density Magnitude |B|\", output_path=joinpath(paths[\"OUTPUT_DIR\"], \"B_magnitude_contour.pdf\"))\n",
    "\n",
    "# Plot the magnitude of the eddy current density\n",
    "plot_contour_2d(Ω, Jeddy_mag, title=\"Eddy Current Density Magnitude |Jeddy|\", output_path=joinpath(paths[\"OUTPUT_DIR\"], \"Jeddy_magnitude_contour.pdf\"))"
   ]
  },
  {
   "cell_type": "code",
   "execution_count": null,
   "id": "2b25d808d5a698f1",
   "metadata": {},
   "outputs": [],
   "source": []
  }
 ],
 "metadata": {
  "kernelspec": {
   "display_name": "Julia-FutureDistributionSystems 1.10.9",
   "language": "julia",
   "name": "julia-futuredistributionsystems-1.10"
  },
  "language_info": {
   "file_extension": ".jl",
   "mimetype": "application/julia",
   "name": "julia",
   "version": "1.10.9"
  }
 },
 "nbformat": 4,
 "nbformat_minor": 5
}
