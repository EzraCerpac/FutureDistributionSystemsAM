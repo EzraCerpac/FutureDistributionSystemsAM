{
 "cells": [
  {
   "cell_type": "markdown",
   "id": "7f84b5c35c7dac9",
   "metadata": {},
   "source": [
    "# 2D Magnetodynamics (Time-Harmonic) - Distribution Transformer"
   ]
  },
  {
   "cell_type": "code",
   "execution_count": 1,
   "id": "23ad8ead3de6d37f",
   "metadata": {},
   "outputs": [
    {
     "name": "stderr",
     "output_type": "stream",
     "text": [
      "\u001b[36m\u001b[1m[ \u001b[22m\u001b[39m\u001b[36m\u001b[1mInfo: \u001b[22m\u001b[39mPrecompiling Gridap [56d4f2e9-7ea1-5844-9cf6-b9c51ca7ce8e] (cache misses: wrong dep version loaded (2))\n",
      "\u001b[91m\u001b[1mERROR: \u001b[22m\u001b[39mLoadError: too many parameters for type AbstractTriangular\n",
      "Stacktrace:\n",
      " [1] top-level scope\n",
      "\u001b[90m   @\u001b[39m \u001b[90m\u001b[4mnone:1\u001b[24m\u001b[39m\n",
      " [2] \u001b[0m\u001b[1meval\u001b[22m\u001b[0m\u001b[1m(\u001b[22m\u001b[90mm\u001b[39m::\u001b[0mModule, \u001b[90me\u001b[39m::\u001b[0mAny\u001b[0m\u001b[1m)\u001b[22m\n",
      "\u001b[90m   @\u001b[39m \u001b[90mCore\u001b[39m \u001b[90m.\\\u001b[39m\u001b[90m\u001b[4mboot.jl:430\u001b[24m\u001b[39m\n",
      " [3] top-level scope\n",
      "\u001b[90m   @\u001b[39m \u001b[90mC:\\Users\\30698\\.julia\\packages\\BlockArrays\\TOpxG\\src\\\u001b[39m\u001b[90m\u001b[4mabstractblockarray.jl:187\u001b[24m\u001b[39m\n",
      " [4] \u001b[0m\u001b[1minclude\u001b[22m\u001b[0m\u001b[1m(\u001b[22m\u001b[90mmod\u001b[39m::\u001b[0mModule, \u001b[90m_path\u001b[39m::\u001b[0mString\u001b[0m\u001b[1m)\u001b[22m\n",
      "\u001b[90m   @\u001b[39m \u001b[90mBase\u001b[39m \u001b[90m.\\\u001b[39m\u001b[90m\u001b[4mBase.jl:557\u001b[24m\u001b[39m\n",
      " [5] \u001b[0m\u001b[1minclude\u001b[22m\u001b[0m\u001b[1m(\u001b[22m\u001b[90mx\u001b[39m::\u001b[0mString\u001b[0m\u001b[1m)\u001b[22m\n",
      "\u001b[90m   @\u001b[39m \u001b[35mBlockArrays\u001b[39m \u001b[90mC:\\Users\\30698\\.julia\\packages\\BlockArrays\\TOpxG\\src\\\u001b[39m\u001b[90m\u001b[4mBlockArrays.jl:1\u001b[24m\u001b[39m\n",
      " [6] top-level scope\n",
      "\u001b[90m   @\u001b[39m \u001b[90mC:\\Users\\30698\\.julia\\packages\\BlockArrays\\TOpxG\\src\\\u001b[39m\u001b[90m\u001b[4mBlockArrays.jl:49\u001b[24m\u001b[39m\n",
      " [7] \u001b[0m\u001b[1minclude\u001b[22m\n",
      "\u001b[90m   @\u001b[39m \u001b[90m.\\\u001b[39m\u001b[90m\u001b[4mBase.jl:557\u001b[24m\u001b[39m\u001b[90m [inlined]\u001b[39m\n",
      " [8] \u001b[0m\u001b[1minclude_package_for_output\u001b[22m\u001b[0m\u001b[1m(\u001b[22m\u001b[90mpkg\u001b[39m::\u001b[0mBase.PkgId, \u001b[90minput\u001b[39m::\u001b[0mString, \u001b[90mdepot_path\u001b[39m::\u001b[0mVector\u001b[90m{String}\u001b[39m, \u001b[90mdl_load_path\u001b[39m::\u001b[0mVector\u001b[90m{String}\u001b[39m, \u001b[90mload_path\u001b[39m::\u001b[0mVector\u001b[90m{String}\u001b[39m, \u001b[90mconcrete_deps\u001b[39m::\u001b[0mVector\u001b[90m{Pair{Base.PkgId, UInt128}}\u001b[39m, \u001b[90msource\u001b[39m::\u001b[0mString\u001b[0m\u001b[1m)\u001b[22m\n",
      "\u001b[90m   @\u001b[39m \u001b[90mBase\u001b[39m \u001b[90m.\\\u001b[39m\u001b[90m\u001b[4mloading.jl:2881\u001b[24m\u001b[39m\n",
      " [9] top-level scope\n",
      "\u001b[90m   @\u001b[39m \u001b[90m\u001b[4mstdin:6\u001b[24m\u001b[39m\n",
      "in expression starting at C:\\Users\\30698\\.julia\\packages\\BlockArrays\\TOpxG\\src\\abstractblockarray.jl:186\n",
      "in expression starting at C:\\Users\\30698\\.julia\\packages\\BlockArrays\\TOpxG\\src\\BlockArrays.jl:1\n",
      "in expression starting at stdin:6\n",
      "\u001b[91m\u001b[1mERROR: \u001b[22m\u001b[39mLoadError: Failed to precompile BlockArrays [8e7c35d0-a365-5155-bbbb-fb81a777f24e] to \"C:\\\\Users\\\\30698\\\\.julia\\\\compiled\\\\v1.11\\\\BlockArrays\\\\jl_C671.tmp\".\n",
      "Stacktrace:\n",
      "  [1] \u001b[0m\u001b[1merror\u001b[22m\u001b[0m\u001b[1m(\u001b[22m\u001b[90ms\u001b[39m::\u001b[0mString\u001b[0m\u001b[1m)\u001b[22m\n",
      "\u001b[90m    @\u001b[39m \u001b[90mBase\u001b[39m \u001b[90m.\\\u001b[39m\u001b[90m\u001b[4merror.jl:35\u001b[24m\u001b[39m\n",
      "  [2] \u001b[0m\u001b[1mcompilecache\u001b[22m\u001b[0m\u001b[1m(\u001b[22m\u001b[90mpkg\u001b[39m::\u001b[0mBase.PkgId, \u001b[90mpath\u001b[39m::\u001b[0mString, \u001b[90minternal_stderr\u001b[39m::\u001b[0mIO, \u001b[90minternal_stdout\u001b[39m::\u001b[0mIO, \u001b[90mkeep_loaded_modules\u001b[39m::\u001b[0mBool; \u001b[90mflags\u001b[39m::\u001b[0mCmd, \u001b[90mcacheflags\u001b[39m::\u001b[0mBase.CacheFlags, \u001b[90mreasons\u001b[39m::\u001b[0mDict\u001b[90m{String, Int64}\u001b[39m, \u001b[90mloadable_exts\u001b[39m::\u001b[0mNothing\u001b[0m\u001b[1m)\u001b[22m\n",
      "\u001b[90m    @\u001b[39m \u001b[90mBase\u001b[39m \u001b[90m.\\\u001b[39m\u001b[90m\u001b[4mloading.jl:3174\u001b[24m\u001b[39m\n",
      "  [3] \u001b[0m\u001b[1m(::Base.var\"#1110#1111\"{Base.PkgId})\u001b[22m\u001b[0m\u001b[1m(\u001b[22m\u001b[0m\u001b[1m)\u001b[22m\n",
      "\u001b[90m    @\u001b[39m \u001b[90mBase\u001b[39m \u001b[90m.\\\u001b[39m\u001b[90m\u001b[4mloading.jl:2579\u001b[24m\u001b[39m\n",
      "  [4] \u001b[0m\u001b[1mmkpidlock\u001b[22m\u001b[0m\u001b[1m(\u001b[22m\u001b[90mf\u001b[39m::\u001b[0mBase.var\"#1110#1111\"\u001b[90m{Base.PkgId}\u001b[39m, \u001b[90mat\u001b[39m::\u001b[0mString, \u001b[90mpid\u001b[39m::\u001b[0mInt32; \u001b[90mkwopts\u001b[39m::\u001b[0m@Kwargs\u001b[90m{stale_age::Int64, wait::Bool}\u001b[39m\u001b[0m\u001b[1m)\u001b[22m\n",
      "\u001b[90m    @\u001b[39m \u001b[35mFileWatching.Pidfile\u001b[39m \u001b[90mC:\\Users\\30698\\AppData\\Local\\Programs\\Julia-1.11.4\\share\\julia\\stdlib\\v1.11\\FileWatching\\src\\\u001b[39m\u001b[90m\u001b[4mpidfile.jl:95\u001b[24m\u001b[39m\n",
      "  [5] \u001b[0m\u001b[1m#mkpidlock#6\u001b[22m\n",
      "\u001b[90m    @\u001b[39m \u001b[90mC:\\Users\\30698\\AppData\\Local\\Programs\\Julia-1.11.4\\share\\julia\\stdlib\\v1.11\\FileWatching\\src\\\u001b[39m\u001b[90m\u001b[4mpidfile.jl:90\u001b[24m\u001b[39m\u001b[90m [inlined]\u001b[39m\n",
      "  [6] \u001b[0m\u001b[1mtrymkpidlock\u001b[22m\u001b[0m\u001b[1m(\u001b[22m::\u001b[0mFunction, ::\u001b[0mVararg\u001b[90m{Any}\u001b[39m; \u001b[90mkwargs\u001b[39m::\u001b[0m@Kwargs\u001b[90m{stale_age::Int64}\u001b[39m\u001b[0m\u001b[1m)\u001b[22m\n",
      "\u001b[90m    @\u001b[39m \u001b[35mFileWatching.Pidfile\u001b[39m \u001b[90mC:\\Users\\30698\\AppData\\Local\\Programs\\Julia-1.11.4\\share\\julia\\stdlib\\v1.11\\FileWatching\\src\\\u001b[39m\u001b[90m\u001b[4mpidfile.jl:116\u001b[24m\u001b[39m\n",
      "  [7] \u001b[0m\u001b[1m#invokelatest#2\u001b[22m\n",
      "\u001b[90m    @\u001b[39m \u001b[90m.\\\u001b[39m\u001b[90m\u001b[4messentials.jl:1057\u001b[24m\u001b[39m\u001b[90m [inlined]\u001b[39m\n",
      "  [8] \u001b[0m\u001b[1minvokelatest\u001b[22m\n",
      "\u001b[90m    @\u001b[39m \u001b[90m.\\\u001b[39m\u001b[90m\u001b[4messentials.jl:1052\u001b[24m\u001b[39m\u001b[90m [inlined]\u001b[39m\n",
      "  [9] \u001b[0m\u001b[1mmaybe_cachefile_lock\u001b[22m\u001b[0m\u001b[1m(\u001b[22m\u001b[90mf\u001b[39m::\u001b[0mBase.var\"#1110#1111\"\u001b[90m{Base.PkgId}\u001b[39m, \u001b[90mpkg\u001b[39m::\u001b[0mBase.PkgId, \u001b[90msrcpath\u001b[39m::\u001b[0mString; \u001b[90mstale_age\u001b[39m::\u001b[0mInt64\u001b[0m\u001b[1m)\u001b[22m\n",
      "\u001b[90m    @\u001b[39m \u001b[90mBase\u001b[39m \u001b[90m.\\\u001b[39m\u001b[90m\u001b[4mloading.jl:3698\u001b[24m\u001b[39m\n",
      " [10] \u001b[0m\u001b[1mmaybe_cachefile_lock\u001b[22m\n",
      "\u001b[90m    @\u001b[39m \u001b[90m.\\\u001b[39m\u001b[90m\u001b[4mloading.jl:3695\u001b[24m\u001b[39m\u001b[90m [inlined]\u001b[39m\n",
      " [11] \u001b[0m\u001b[1m_require\u001b[22m\u001b[0m\u001b[1m(\u001b[22m\u001b[90mpkg\u001b[39m::\u001b[0mBase.PkgId, \u001b[90menv\u001b[39m::\u001b[0mString\u001b[0m\u001b[1m)\u001b[22m\n",
      "\u001b[90m    @\u001b[39m \u001b[90mBase\u001b[39m \u001b[90m.\\\u001b[39m\u001b[90m\u001b[4mloading.jl:2565\u001b[24m\u001b[39m\n",
      " [12] \u001b[0m\u001b[1m__require_prelocked\u001b[22m\u001b[0m\u001b[1m(\u001b[22m\u001b[90muuidkey\u001b[39m::\u001b[0mBase.PkgId, \u001b[90menv\u001b[39m::\u001b[0mString\u001b[0m\u001b[1m)\u001b[22m\n",
      "\u001b[90m    @\u001b[39m \u001b[90mBase\u001b[39m \u001b[90m.\\\u001b[39m\u001b[90m\u001b[4mloading.jl:2388\u001b[24m\u001b[39m\n",
      " [13] \u001b[0m\u001b[1m#invoke_in_world#3\u001b[22m\n",
      "\u001b[90m    @\u001b[39m \u001b[90m.\\\u001b[39m\u001b[90m\u001b[4messentials.jl:1089\u001b[24m\u001b[39m\u001b[90m [inlined]\u001b[39m\n",
      " [14] \u001b[0m\u001b[1minvoke_in_world\u001b[22m\n",
      "\u001b[90m    @\u001b[39m \u001b[90m.\\\u001b[39m\u001b[90m\u001b[4messentials.jl:1086\u001b[24m\u001b[39m\u001b[90m [inlined]\u001b[39m\n",
      " [15] \u001b[0m\u001b[1m_require_prelocked\u001b[22m\u001b[0m\u001b[1m(\u001b[22m\u001b[90muuidkey\u001b[39m::\u001b[0mBase.PkgId, \u001b[90menv\u001b[39m::\u001b[0mString\u001b[0m\u001b[1m)\u001b[22m\n",
      "\u001b[90m    @\u001b[39m \u001b[90mBase\u001b[39m \u001b[90m.\\\u001b[39m\u001b[90m\u001b[4mloading.jl:2375\u001b[24m\u001b[39m\n",
      " [16] \u001b[0m\u001b[1mmacro expansion\u001b[22m\n",
      "\u001b[90m    @\u001b[39m \u001b[90m.\\\u001b[39m\u001b[90m\u001b[4mloading.jl:2314\u001b[24m\u001b[39m\u001b[90m [inlined]\u001b[39m\n",
      " [17] \u001b[0m\u001b[1mmacro expansion\u001b[22m\n",
      "\u001b[90m    @\u001b[39m \u001b[90m.\\\u001b[39m\u001b[90m\u001b[4mlock.jl:273\u001b[24m\u001b[39m\u001b[90m [inlined]\u001b[39m\n",
      " [18] \u001b[0m\u001b[1m__require\u001b[22m\u001b[0m\u001b[1m(\u001b[22m\u001b[90minto\u001b[39m::\u001b[0mModule, \u001b[90mmod\u001b[39m::\u001b[0mSymbol\u001b[0m\u001b[1m)\u001b[22m\n",
      "\u001b[90m    @\u001b[39m \u001b[90mBase\u001b[39m \u001b[90m.\\\u001b[39m\u001b[90m\u001b[4mloading.jl:2271\u001b[24m\u001b[39m\n",
      " [19] \u001b[0m\u001b[1m#invoke_in_world#3\u001b[22m\n",
      "\u001b[90m    @\u001b[39m \u001b[90m.\\\u001b[39m\u001b[90m\u001b[4messentials.jl:1089\u001b[24m\u001b[39m\u001b[90m [inlined]\u001b[39m\n",
      " [20] \u001b[0m\u001b[1minvoke_in_world\u001b[22m\n",
      "\u001b[90m    @\u001b[39m \u001b[90m.\\\u001b[39m\u001b[90m\u001b[4messentials.jl:1086\u001b[24m\u001b[39m\u001b[90m [inlined]\u001b[39m\n",
      " [21] \u001b[0m\u001b[1mrequire\u001b[22m\u001b[0m\u001b[1m(\u001b[22m\u001b[90minto\u001b[39m::\u001b[0mModule, \u001b[90mmod\u001b[39m::\u001b[0mSymbol\u001b[0m\u001b[1m)\u001b[22m\n",
      "\u001b[90m    @\u001b[39m \u001b[90mBase\u001b[39m \u001b[90m.\\\u001b[39m\u001b[90m\u001b[4mloading.jl:2260\u001b[24m\u001b[39m\n",
      " [22] \u001b[0m\u001b[1minclude\u001b[22m\u001b[0m\u001b[1m(\u001b[22m\u001b[90mmod\u001b[39m::\u001b[0mModule, \u001b[90m_path\u001b[39m::\u001b[0mString\u001b[0m\u001b[1m)\u001b[22m\n",
      "\u001b[90m    @\u001b[39m \u001b[90mBase\u001b[39m \u001b[90m.\\\u001b[39m\u001b[90m\u001b[4mBase.jl:557\u001b[24m\u001b[39m\n",
      " [23] \u001b[0m\u001b[1minclude\u001b[22m\u001b[0m\u001b[1m(\u001b[22m\u001b[90mx\u001b[39m::\u001b[0mString\u001b[0m\u001b[1m)\u001b[22m\n",
      "\u001b[90m    @\u001b[39m \u001b[36mGridap\u001b[39m \u001b[90mC:\\Users\\30698\\.julia\\packages\\Gridap\\dKMpW\\src\\\u001b[39m\u001b[90m\u001b[4mGridap.jl:27\u001b[24m\u001b[39m\n",
      " [24] top-level scope\n",
      "\u001b[90m    @\u001b[39m \u001b[90mC:\\Users\\30698\\.julia\\packages\\Gridap\\dKMpW\\src\\\u001b[39m\u001b[90m\u001b[4mGridap.jl:35\u001b[24m\u001b[39m\n",
      " [25] \u001b[0m\u001b[1minclude\u001b[22m\n",
      "\u001b[90m    @\u001b[39m \u001b[90m.\\\u001b[39m\u001b[90m\u001b[4mBase.jl:557\u001b[24m\u001b[39m\u001b[90m [inlined]\u001b[39m\n",
      " [26] \u001b[0m\u001b[1minclude_package_for_output\u001b[22m\u001b[0m\u001b[1m(\u001b[22m\u001b[90mpkg\u001b[39m::\u001b[0mBase.PkgId, \u001b[90minput\u001b[39m::\u001b[0mString, \u001b[90mdepot_path\u001b[39m::\u001b[0mVector\u001b[90m{String}\u001b[39m, \u001b[90mdl_load_path\u001b[39m::\u001b[0mVector\u001b[90m{String}\u001b[39m, \u001b[90mload_path\u001b[39m::\u001b[0mVector\u001b[90m{String}\u001b[39m, \u001b[90mconcrete_deps\u001b[39m::\u001b[0mVector\u001b[90m{Pair{Base.PkgId, UInt128}}\u001b[39m, \u001b[90msource\u001b[39m::\u001b[0mString\u001b[0m\u001b[1m)\u001b[22m\n",
      "\u001b[90m    @\u001b[39m \u001b[90mBase\u001b[39m \u001b[90m.\\\u001b[39m\u001b[90m\u001b[4mloading.jl:2881\u001b[24m\u001b[39m\n",
      " [27] top-level scope\n",
      "\u001b[90m    @\u001b[39m \u001b[90m\u001b[4mstdin:6\u001b[24m\u001b[39m\n",
      "in expression starting at C:\\Users\\30698\\.julia\\packages\\Gridap\\dKMpW\\src\\Algebra\\Algebra.jl:1\n",
      "in expression starting at C:\\Users\\30698\\.julia\\packages\\Gridap\\dKMpW\\src\\Gridap.jl:1\n",
      "in expression starting at stdin:6\n"
     ]
    },
    {
     "ename": "LoadError",
     "evalue": "LoadError: Failed to precompile Gridap [56d4f2e9-7ea1-5844-9cf6-b9c51ca7ce8e] to \"C:\\\\Users\\\\30698\\\\.julia\\\\compiled\\\\v1.11\\\\Gridap\\\\jl_BF6C.tmp\".\nin expression starting at C:\\Users\\30698\\Desktop\\tu delft\\spring sem\\advanced model\\FutureDistributionSystemsAM\\src\\MagnetostaticsFEM.jl:1",
     "output_type": "error",
     "traceback": [
      "LoadError: Failed to precompile Gridap [56d4f2e9-7ea1-5844-9cf6-b9c51ca7ce8e] to \"C:\\\\Users\\\\30698\\\\.julia\\\\compiled\\\\v1.11\\\\Gridap\\\\jl_BF6C.tmp\".\nin expression starting at C:\\Users\\30698\\Desktop\\tu delft\\spring sem\\advanced model\\FutureDistributionSystemsAM\\src\\MagnetostaticsFEM.jl:1",
      "",
      "Stacktrace:",
      "  [1] error(s::String)",
      "    @ Base .\\error.jl:35",
      "  [2] compilecache(pkg::Base.PkgId, path::String, internal_stderr::IO, internal_stdout::IO, keep_loaded_modules::Bool; flags::Cmd, cacheflags::Base.CacheFlags, reasons::Dict{String, Int64}, loadable_exts::Nothing)",
      "    @ Base .\\loading.jl:3174",
      "  [3] (::Base.var\"#1110#1111\"{Base.PkgId})()",
      "    @ Base .\\loading.jl:2579",
      "  [4] mkpidlock(f::Base.var\"#1110#1111\"{Base.PkgId}, at::String, pid::Int32; kwopts::@Kwargs{stale_age::Int64, wait::Bool})",
      "    @ FileWatching.Pidfile C:\\Users\\30698\\AppData\\Local\\Programs\\Julia-1.11.4\\share\\julia\\stdlib\\v1.11\\FileWatching\\src\\pidfile.jl:95",
      "  [5] #mkpidlock#6",
      "    @ C:\\Users\\30698\\AppData\\Local\\Programs\\Julia-1.11.4\\share\\julia\\stdlib\\v1.11\\FileWatching\\src\\pidfile.jl:90 [inlined]",
      "  [6] trymkpidlock(::Function, ::Vararg{Any}; kwargs::@Kwargs{stale_age::Int64})",
      "    @ FileWatching.Pidfile C:\\Users\\30698\\AppData\\Local\\Programs\\Julia-1.11.4\\share\\julia\\stdlib\\v1.11\\FileWatching\\src\\pidfile.jl:116",
      "  [7] #invokelatest#2",
      "    @ .\\essentials.jl:1057 [inlined]",
      "  [8] invokelatest",
      "    @ .\\essentials.jl:1052 [inlined]",
      "  [9] maybe_cachefile_lock(f::Base.var\"#1110#1111\"{Base.PkgId}, pkg::Base.PkgId, srcpath::String; stale_age::Int64)",
      "    @ Base .\\loading.jl:3698",
      " [10] maybe_cachefile_lock",
      "    @ .\\loading.jl:3695 [inlined]",
      " [11] _require(pkg::Base.PkgId, env::String)",
      "    @ Base .\\loading.jl:2565",
      " [12] __require_prelocked(uuidkey::Base.PkgId, env::String)",
      "    @ Base .\\loading.jl:2388",
      " [13] #invoke_in_world#3",
      "    @ .\\essentials.jl:1089 [inlined]",
      " [14] invoke_in_world",
      "    @ .\\essentials.jl:1086 [inlined]",
      " [15] _require_prelocked(uuidkey::Base.PkgId, env::String)",
      "    @ Base .\\loading.jl:2375",
      " [16] macro expansion",
      "    @ .\\loading.jl:2314 [inlined]",
      " [17] macro expansion",
      "    @ .\\lock.jl:273 [inlined]",
      " [18] __require(into::Module, mod::Symbol)",
      "    @ Base .\\loading.jl:2271",
      " [19] #invoke_in_world#3",
      "    @ .\\essentials.jl:1089 [inlined]",
      " [20] invoke_in_world",
      "    @ .\\essentials.jl:1086 [inlined]",
      " [21] require(into::Module, mod::Symbol)",
      "    @ Base .\\loading.jl:2260",
      " [22] include(fname::String)",
      "    @ Main .\\sysimg.jl:38",
      " [23] top-level scope",
      "    @ In[1]:11"
     ]
    }
   ],
   "source": [
    "include(joinpath(dirname(@__DIR__), \"config.jl\"))\n",
    "paths = get_project_paths(\"examples_2d\")\n",
    "\n",
    "# Ensure the module is reloaded if changed\n",
    "if isdefined(Main, :MagnetostaticsFEM)\n",
    "    println(\"Reloading MagnetostaticsFEM...\")\n",
    "    # A simple way to force reload in interactive sessions\n",
    "    try; delete!(LOAD_PATH, paths[\"SRC_DIR\"]); catch; end\n",
    "    try; delete!(Base.loaded_modules, Base.PkgId(Base.UUID(\"f8a2b3c4-d5e6-f7a8-b9c0-d1e2f3a4b5c6\"), \"MagnetostaticsFEM\")); catch; end\n",
    "end\n",
    "include(joinpath(paths[\"SRC_DIR\"], \"MagnetostaticsFEM.jl\"))\n",
    "\n",
    "using LinearAlgebra\n",
    "using Plots\n",
    "using LaTeXStrings\n",
    "using Gmsh: gmsh\n",
    "using Gridap\n",
    "using GridapGmsh: GmshDiscreteModel\n",
    "using .MagnetostaticsFEM\n",
    "using Printf # For animation title formatting"
   ]
  },
  {
   "cell_type": "markdown",
   "id": "89bde36d295a4dd9",
   "metadata": {},
   "source": [
    "## Define Parameters and Paths"
   ]
  },
  {
   "cell_type": "code",
   "execution_count": 2,
   "id": "76fe27956b56408f",
   "metadata": {},
   "outputs": [
    {
     "name": "stdout",
     "output_type": "stream",
     "text": [
      "Mesh file: C:\\Users\\30698\\Desktop\\tu delft\\spring sem\\advanced model\\FutureDistributionSystemsAM\\examples_2d\\geo\\2D_quad_transformer.msh"
     ]
    },
    {
     "ename": "LoadError",
     "evalue": "InterruptException:",
     "output_type": "error",
     "traceback": [
      "InterruptException:",
      "",
      "Stacktrace:",
      "  [1] try_yieldto(undo::typeof(Base.ensure_rescheduled))",
      "    @ Base .\\task.jl:958",
      "  [2] wait()",
      "    @ Base .\\task.jl:1022",
      "  [3] uv_write(s::Base.PipeEndpoint, p::Ptr{UInt8}, n::UInt64)",
      "    @ Base .\\stream.jl:1081",
      "  [4] unsafe_write(s::Base.PipeEndpoint, p::Ptr{UInt8}, n::UInt64)",
      "    @ Base .\\stream.jl:1154",
      "  [5] unsafe_write",
      "    @ .\\io.jl:452 [inlined]",
      "  [6] write",
      "    @ .\\strings\\io.jl:248 [inlined]",
      "  [7] print",
      "    @ .\\strings\\io.jl:250 [inlined]",
      "  [8] print(::IJulia.IJuliaStdio{Base.PipeEndpoint}, ::String, ::String, ::Vararg{String})",
      "    @ Base .\\strings\\io.jl:46",
      "  [9] println(::IJulia.IJuliaStdio{Base.PipeEndpoint}, ::String, ::Vararg{String})",
      "    @ Base .\\strings\\io.jl:75",
      " [10] println(::String, ::String)",
      "    @ Base .\\coreio.jl:4",
      " [11] top-level scope",
      "    @ In[2]:19"
     ]
    }
   ],
   "source": [
    "# Model Parameters\n",
    "J0 = 2.2e4       # Source current density [A/m²]\n",
    "μ0 = 4e-7 * pi  # Vacuum permeability [H/m]\n",
    "μr_core = 1500.0 # Relative permeability of the core (linear case)\n",
    "σ_core = 1e6    # Conductivity of the core [S/m] (Laminated)\n",
    "freq = 50.0     # Frequency [Hz]\n",
    "ω = 2 * pi * freq # Angular frequency [rad/s]\n",
    "\n",
    "# FEM Parameters\n",
    "order = 2\n",
    "field_type = ComplexF64 # Use ComplexF64 marker for setup_fe_spacesju\n",
    "dirichlet_tag_name = \"Enclosure\" # Name of the physical group for Dirichlet BC\n",
    "dirichlet_value = 0.0 + 0.0im # Dirichlet BC for Az = u + iv\n",
    "\n",
    "# Paths\n",
    "mesh_file = joinpath(paths[\"GEO_DIR\"], \"2D_quad_transformer.msh\")\n",
    "output_file_base = joinpath(paths[\"OUTPUT_DIR\"], \"harmonic\")\n",
    "\n",
    "println(\"Mesh file: \", mesh_file)\n",
    "println(\"Output directory: \", paths[\"OUTPUT_DIR\"])"
   ]
  },
  {
   "cell_type": "markdown",
   "id": "e03c683cd67911ba",
   "metadata": {},
   "source": [
    "## Setup FEM Problem (Linear Magnetodynamics)"
   ]
  },
  {
   "cell_type": "code",
   "execution_count": 3,
   "id": "8d363313451393b1",
   "metadata": {},
   "outputs": [
    {
     "ename": "LoadError",
     "evalue": "UndefVarError: `load_mesh_and_tags` not defined in `Main`\nSuggestion: check for spelling errors or missing imports.",
     "output_type": "error",
     "traceback": [
      "UndefVarError: `load_mesh_and_tags` not defined in `Main`\nSuggestion: check for spelling errors or missing imports.",
      "",
      "Stacktrace:",
      " [1] top-level scope",
      "   @ In[3]:2"
     ]
    }
   ],
   "source": [
    "# Load mesh and tags\n",
    "model, labels, tags = load_mesh_and_tags(mesh_file)\n",
    "\n",
    "# Get material tags dictionary using the 2D specific function\n",
    "material_tags = get_material_tags(labels)\n",
    "println(\"Material Tags: \", material_tags)\n",
    "\n",
    "# Set up triangulation and measures\n",
    "Ω = Triangulation(model)\n",
    "dΩ = Measure(Ω, 2*order)\n",
    "\n",
    "reluctivity_func = define_reluctivity(material_tags, μ0, μr_core; core_tag_name=\"Core\")\n",
    "conductivity_func = define_conductivity(material_tags, σ_core; core_tag_name=\"Core\")\n",
    "source_current_func = define_current_density(material_tags, J0)\n",
    "\n",
    "# Setup FE spaces (multi-field: Real, Imag parts)\n",
    "U, V = setup_fe_spaces(model, order, field_type, dirichlet_tag_name, dirichlet_value)\n",
    "\n",
    "# Define the weak form problem for the coupled system using the real reference source\n",
    "problem = magnetodynamics_harmonic_coupled_weak_form(Ω, dΩ, tags, reluctivity_func, conductivity_func, source_current_func, ω)"
   ]
  },
  {
   "cell_type": "markdown",
   "id": "6f2f75a88edab374",
   "metadata": {},
   "source": [
    "## Solve FEM Problem"
   ]
  },
  {
   "cell_type": "code",
   "execution_count": null,
   "id": "145f9004f4e49384",
   "metadata": {},
   "outputs": [
    {
     "ename": "LoadError",
     "evalue": "UndefVarError: `solve_fem_problem` not defined in `Main`\nSuggestion: check for spelling errors or missing imports.",
     "output_type": "error",
     "traceback": [
      "UndefVarError: `solve_fem_problem` not defined in `Main`\nSuggestion: check for spelling errors or missing imports.",
      "",
      "Stacktrace:",
      " [1] top-level scope",
      "   @ In[4]:2"
     ]
    }
   ],
   "source": [
    "# Solve the real coupled linear FE system\n",
    "uv = solve_fem_problem(problem, U, V) # uv is a MultiFieldFEFunction\n",
    "\n",
    "# Extract real and imaginary parts\n",
    "u = uv[1] # Real part of Az\n",
    "v = uv[2] # Imag part of Az"
   ]
  },
  {
   "cell_type": "markdown",
   "id": "edbf85a32002b2a5",
   "metadata": {},
   "source": [
    "## Post-processing"
   ]
  },
  {
   "cell_type": "code",
   "execution_count": null,
   "id": "2fdb66365a3a4edc",
   "metadata": {},
   "outputs": [
    {
     "ename": "LoadError",
     "evalue": "UndefVarError: `calculate_b_field` not defined in `Main`\nSuggestion: check for spelling errors or missing imports.",
     "output_type": "error",
     "traceback": [
      "UndefVarError: `calculate_b_field` not defined in `Main`\nSuggestion: check for spelling errors or missing imports.",
      "",
      "Stacktrace:",
      " [1] top-level scope",
      "   @ In[5]:2"
     ]
    }
   ],
   "source": [
    "# Compute B-field (Real and Imag parts)\n",
    "B_re, B_im = calculate_b_field(uv)\n",
    "\n",
    "# Compute Eddy Currents (Real and Imag parts)\n",
    "J_eddy_re, J_eddy_im = calculate_eddy_current(uv, conductivity_func, ω, Ω, tags)\n",
    "\n",
    "# Define helper functions for magnitude squared\n",
    "mag_sq_scalar(re, im) = re*re + im*im\n",
    "mag_sq_vector(re, im) = inner(re, re) + inner(im, im)\n",
    "\n",
    "# Calculate Magnitudes for saving/plotting using composition\n",
    "Az_mag = sqrt ∘ (mag_sq_scalar ∘ (u, v))\n",
    "B_mag = sqrt ∘ (mag_sq_vector ∘ (B_re, B_im))\n",
    "Jeddy_mag = sqrt ∘ (mag_sq_scalar ∘ (J_eddy_re, J_eddy_im))\n",
    "\n",
    "# Calculate total current density magnitude (approximation)\n",
    "# J_total_re = source_current_func_real(tags) + J_eddy_re # Need CellField source\n",
    "# J_total_im = J_eddy_im\n",
    "# J_total_mag = sqrt ∘ (mag_sq_scalar ∘ (J_total_re, J_total_im))\n",
    "# TODO: Need a better way to handle source current in post-processing\n",
    "\n",
    "# Save results to VTK format\n",
    "save_results_vtk(Ω, output_file_base, \n",
    "    Dict(\n",
    "        \"Az_re\" => u, \"Az_im\" => v, \"Az_mag\" => Az_mag,\n",
    "        \"B_re\" => B_re, \"B_im\" => B_im, \"B_mag\" => B_mag,\n",
    "        \"Jeddy_re\" => J_eddy_re, \"Jeddy_im\" => J_eddy_im, \"Jeddy_mag\" => Jeddy_mag\n",
    "        # \"Jtotal_mag\" => J_total_mag\n",
    "    ),\n",
    "    save_time_series=true, ω=ω, nframes=100,\n",
    ")"
   ]
  },
  {
   "cell_type": "markdown",
   "id": "893e0421e6e76772",
   "metadata": {},
   "source": [
    "## Visualization (Contour Plots)"
   ]
  },
  {
   "cell_type": "code",
   "execution_count": null,
   "id": "9fbd17f08b2e7e72",
   "metadata": {},
   "outputs": [
    {
     "ename": "LoadError",
     "evalue": "UndefVarError: `plot_contour_2d` not defined in `Main`\nSuggestion: check for spelling errors or missing imports.",
     "output_type": "error",
     "traceback": [
      "UndefVarError: `plot_contour_2d` not defined in `Main`\nSuggestion: check for spelling errors or missing imports.",
      "",
      "Stacktrace:",
      " [1] top-level scope",
      "   @ In[6]:2"
     ]
    }
   ],
   "source": [
    "# Plot the magnitude of the magnetic vector potential\n",
    "plot_contour_2d(Ω, Az_mag, title=\"Magnetic Vector Potential Magnitude |Az|\", output_path=joinpath(paths[\"OUTPUT_DIR\"], \"Az_magnitude_contour.pdf\"))\n",
    "\n",
    "# Plot the magnitude of the magnetic flux density\n",
    "plot_contour_2d(Ω, B_mag, title=\"Magnetic Flux Density Magnitude |B|\", output_path=joinpath(paths[\"OUTPUT_DIR\"], \"B_magnitude_contour.pdf\"))\n",
    "\n",
    "# Plot the magnitude of the eddy current density\n",
    "plot_contour_2d(Ω, Jeddy_mag, title=\"Eddy Current Density Magnitude |Jeddy|\", output_path=joinpath(paths[\"OUTPUT_DIR\"], \"Jeddy_magnitude_contour.pdf\"))"
   ]
  },
  {
   "cell_type": "code",
   "execution_count": null,
   "id": "2b25d808d5a698f1",
   "metadata": {},
   "outputs": [],
   "source": []
  }
 ],
 "metadata": {
  "kernelspec": {
   "display_name": "Julia 1.11.4",
   "language": "julia",
   "name": "julia-1.11"
  },
  "language_info": {
   "file_extension": ".jl",
   "mimetype": "application/julia",
   "name": "julia",
   "version": "1.11.4"
  }
 },
 "nbformat": 4,
 "nbformat_minor": 5
}
