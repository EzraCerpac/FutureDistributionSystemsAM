{
 "cells": [
  {
   "cell_type": "markdown",
   "id": "a1e9f0bf",
   "metadata": {},
   "source": [
    "# EE4375 Usage GMSH \n",
    "\n",
    "This notebook gives guidelines for using install and running [GMSH](https://gmsh.info) in the EE4375 course. \n",
    "\n",
    "## Section 1: Installation \n",
    "\n",
    "Install the [GMSH.jl](https://github.com/JuliaFEM/Gmsh.jl/tree/master) package. \n",
    "\n",
    "## Section 2: Geometry Definition\n",
    "\n",
    "### Examples by Gijs Lagerweij go here  \n",
    "\n",
    "### To look into \n",
    "\n",
    "1. moving geometry (linear actuator - rotating machines) using scripting;\n",
    "2. curved shaped using spline using scripting to enable shape optimization at a later stage; \n",
    "3. 3D geometries using SALOME or Open-Cascade for parametric CAD models;\n",
    "\n",
    "## Section 3:  Mesh Generation \n",
    "\n",
    "Mixed triangular quadrilaterals meshes, 3D meshes;\n",
    "\n",
    "### Geometry Definition and Mesh Generation Using GMSH  \n",
    "See [gijswl/ee4375_fem_ta/tree/main/general](https://github.com/gijswl/ee4375_fem_ta/tree/main/general); (Domenico needs to reread)\n",
    "\n",
    "Existing Documentation \n",
    "1. [Post on stackexchange: Connectivity matrix in Finite Element Method in Triangular elements](https://scicomp.stackexchange.com/questions/30169/connectivity-matrix-in-finite-element-method-in-triangular-elements): small mesh on square geometry with clear illustration labeling nodes and elements;\n",
    "2. [21 Tutorial Examples from GMSH tutorials/julia](https://gitlab.onelab.info/gmsh/gmsh/-/tree/master/tutorials/julia)\n",
    "3. [2 Test Examples t1.geo and 16.go from GMSH.jl](https://github.com/JuliaFEM/Gmsh.jl)\n",
    "\n",
    "### Add as exercises on the use of GMSH  \n",
    "1. semi-circle from Victoria Hernandez (parametrize geometry with r and a, take r=0.133 m and a = 0.01 m) (need to solve radiation problem using gridap.jl); \n",
    "2. STEDIN distribution transformer (cfd. Max van Dijk);\n",
    "3. linear actuator (need to recover dimensions from papers); \n",
    "4. machine from Jianning Dong (see hard drive); \n",
    "5. Contactless energy transfer - Litz wire \n",
    "6. [Telsa Model 3 S Motor](https://www.youtube.com/watch?v=esUb7Zy5Oi) \n",
    "\n",
    "## Section 4: Write to and Reading From File \n",
    "\n",
    "## Section 5: Auliary Tools\n",
    "\n",
    "## Section 6: Alternatives for GMSH \n",
    "\n",
    "1. [Triangle.jl](https://cvdlab.github.io/Triangle.jl/)\n",
    "2. [TetGen.jl](https://juliageometry.github.io/TetGen.jl/stable/)\n",
    "3. [DistMesh.jl](https://distmesh.juliageometry.org/dev/)\n",
    "\n",
    "## References "
   ]
  },
  {
   "cell_type": "code",
   "execution_count": null,
   "id": "89c58890",
   "metadata": {},
   "outputs": [],
   "source": []
  },
  {
   "cell_type": "code",
   "execution_count": null,
   "id": "05786ac8",
   "metadata": {},
   "outputs": [],
   "source": []
  }
 ],
 "metadata": {
  "kernelspec": {
   "display_name": "Julia 1.8.1",
   "language": "julia",
   "name": "julia-1.8"
  },
  "language_info": {
   "file_extension": ".jl",
   "mimetype": "application/julia",
   "name": "julia",
   "version": "1.8.1"
  }
 },
 "nbformat": 4,
 "nbformat_minor": 5
}
