{
 "cells": [
  {
   "cell_type": "markdown",
   "id": "f0c7601a",
   "metadata": {},
   "source": [
    "# Finite Element Methods for Electrical Engineering Applications (EE4375)"
   ]
  },
  {
   "cell_type": "markdown",
   "id": "d354058d",
   "metadata": {},
   "source": [
    "## Section 1:/ Introduction\n",
    "\n",
    "This course consists of three blocks. \n",
    "\n",
    "### First Block \n",
    "In the first block we discuss the finite difference method to solve the Poisson equation in one and two spatial dimensions. We restrict ourselves to the interval and the square discretized by a uniform mesh. The Poisson equation models a diffusion process and typically appears in the computation of electrostatic and magneto-static fields. Our motivation is to introduce initial problem formulations and simplified numerical solution methods. \n",
    "\n",
    "### Second Block \n",
    "In the second block we discuss the variational formulation of the Poisson equation in one spatial dimension. This variational formulation allows to subsequently solve the problem by a finite element method using non-uniform meshes. We show that the versatility of the finite element method in solving problems that are more complex than in the first block. \n",
    "\n",
    "### Third Block \n",
    "In the third and last block we discuss the finite element solution of the Poisson equation in two spatial dimension. We discuss the mesh generation using triangle and the construction of the discrete problem using a loop over all elements. We illustrate the method in the computation of magnetostatic fields in transformers and electrical machines.  \n",
    "\n",
    "### Assessment \n",
    "Each block will be concluded with a graded homework assignment. The three homework assignments have to be defended during the oral exam. \n",
    "\n",
    "### Learning Activities \n",
    "The course consists of two hours of lectures and four hours of computer lab sessions each week. We will use the programing language julia (see julialang.org) and Jupiter notebooks to develop the assignments. We will use the gmsh mesh generation software. You are kindly requested to install Julia, the Jupiter notebook system and the Julia interface to gmsh (Gmsh.jl) on your laptop. You are most welcome to give a look at the references below. \n",
    "\n",
    "### References for First Block\n",
    "1. [wiki on the Laplace equation](https://en.wikipedia.org/wiki/Laplace's_equation)\n",
    "2. [wiki on the Poisson equation](https://en.wikipedia.org/wiki/Poisson%27s_equation): including an example on electrostatics\n",
    "3. [wiki on boundary value problem](https://en.wikipedia.org/wiki/Boundary_value_problem)\n",
    "4. [wiki on electrostatics](https://en.wikipedia.org/wiki/Electrostatics)\n",
    "5. [wiki on magnetostatics](https://en.wikipedia.org/wiki/Magnetostatics)\n",
    "6. [wiki on discrete Poisson matrix](https://en.wikipedia.org/wiki/Discrete_Poisson_equation)  \n",
    "7. [wiki on finite difference method](https://en.wikipedia.org/wiki/Finite_difference_method) \n",
    "\n",
    "### References for Second Block\n",
    "1. [Introduction to Numerical Methods for Variational Problems](https://link.springer.com/book/10.1007/978-3-030-23788-2) by Hans Petter Langtangen and Kent-Andre Mardal. The [book](https://link.springer.com/book/10.1007/978-3-030-23788-2) is freely available; \n",
    "2. [Wolfgang Bangerth's video lectures](https://www.math.colostate.edu/~bangerth/videos.html); \n",
    "3. [wiki Finite Element Method](https://en.wikipedia.org/wiki/Finite_element_method): Section 3 for the weak form and Section 4 for the finite element discretization;  \n",
    "4. [Comsol Multiphysics Finite Element Method](https://www.comsol.com/multiphysics/finite-element-method): more information and illustrations; \n",
    "5. [Comsol Multiphysics Brief Introduction to the Weak Form](https://www.comsol.com/blogs/brief-introduction-weak-form): good introduction to a theoretical concept that provides a basis for the finite element method; \n",
    "6. [Sphinx Finite Element Method](http://hplgit.github.io/INF5620/doc/pub/sphinx-fem/): reference for implementation;\n",
    "\n",
    "## Section 2:/ Lectures \n",
    "The course slides are available in the slides directory. \n",
    "\n",
    "## Section 3:/ Lab Sessions\n",
    "1. [first lab session](lab-sessions/1-lab-session.ipynb) and [small GMSH manual](lab-sessions/Mesh-Generation-using-Gmsh.html)\n",
    "2. [second lab session](lab-sessions/2-lab-session.ipynb)\n",
    "3. [third lab session](lab-sessions/3-lab-session.ipynb)\n",
    "4. [fourth lab session](lab-sessions/4-lab-session.ipynb)\n",
    "5. [fifth lab session](lab-sessions/5-lab-session.ipynb)\n",
    "6. [sixth lab session](lab-sessions/6-lab-session.ipynb)\n",
    "7. [seventh lab session](lab-sessions/7-lab-session.ipynb)"
   ]
  },
  {
   "cell_type": "code",
   "execution_count": null,
   "id": "4a0da8f6",
   "metadata": {},
   "outputs": [],
   "source": []
  }
 ],
 "metadata": {
  "kernelspec": {
   "display_name": "Julia 1.8.1",
   "language": "julia",
   "name": "julia-1.8"
  },
  "language_info": {
   "file_extension": ".jl",
   "mimetype": "application/julia",
   "name": "julia",
   "version": "1.8.1"
  }
 },
 "nbformat": 4,
 "nbformat_minor": 5
}
