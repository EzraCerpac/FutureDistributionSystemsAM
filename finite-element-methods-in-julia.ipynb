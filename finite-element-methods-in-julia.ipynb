{
 "cells": [
  {
   "cell_type": "markdown",
   "id": "a1e9f0bf",
   "metadata": {},
   "source": [
    "# Finite Element Methods in Julia \n",
    "\n",
    "\n",
    "## Section 1: GMSH for Geometry Definition and Mesh Generation \n",
    "\n",
    "GMESH is at [GMSH](https://gmsh.info). \n",
    "\n",
    "### GMSH for Geometry Definition \n",
    "\n",
    "Use [Gmsh v0.2.0](https://github.com/JuliaFEM/Gmsh.jl/releases) to have access to OpenCascade. Tutorial on using OpenCascade [t16.geo](https://gmsh.info/doc/texinfo/gmsh.html#t16).  \n",
    "\n",
    "### GMSH for Mesh Generation \n",
    "\n",
    "What algorithms does GMSH employ to generate meshes. What parameters are involved in advancing front mesh generation (parameter lc). See existing Documentation \n",
    "1. [Seven Examples from tutorials/julia](https://gitlab.onelab.info/gmsh/gmsh/-/tree/master/tutorials/julia)\n",
    "2. [Examples within JuliaFEM](https://github.com/JuliaFEM/Gmsh.jl): see test-directory for two examples; mesh on triangle; mesh on other examples\n",
    "3. [Examples on stackexchange](https://scicomp.stackexchange.com/questions/30169/connectivity-matrix-in-finite-element-method-in-triangular-elements): small mesh om square geometry; \n",
    "\n",
    "### GMSH Mesh Reading from and Writing to File \n",
    "\n",
    "### GMSH Mesh Traversals\n",
    "\n",
    "How to traverse over elements in the mesh and on the boundary? How is connectivity encoded? \n",
    "\n",
    "## Section 2: Finite Difference Method in Julia \n",
    "\n",
    "1. [BSplineKit.jl](https://jipolanco.github.io/BSplineKit.jl/dev/): provides both collocation, Galerkin methods and banded matrices;\n",
    "2. [ApproxFun.jl](https://docs.sciml.ai/ApproxFun/stable/): provides a boundary value problem solver and a finite difference solver for the Poisson equation; \n",
    "3. [Kronecker.jl](https://michielstock.github.io/Kronecker.jl/stable/man/basic/): lazy evaluation of Kronecker product of matrices; \n",
    "\n",
    "## Section 3: Gridap.jl for Finite Element Analysis Analysis\n",
    "\n",
    "1. Gridap.jl documentation is at [Gridap home page](https://gridap.github.io/Gridap.jl/stable/); \n",
    "2. Gridap tutorials are at [Gridap tutorials](https://gridap.github.io/Tutorials/stable/); \n",
    "3. Gridap Gitter channel [Gridap Gitter](https://gitter.im/Gridap-jl/community) ask questions; \n",
    "4. description of low-level interface [page](https://gridap.github.io/Tutorials/dev/pages/t013_poisson_dev_fe/)\n",
    "5. Verdugo talk during JuliaCon-2020 [talk](https://www.youtube.com/watch?v=txcb3ROQBS4&t=1135s); \n",
    "6. Verdugo-Neiva-Colomes-Badia talk during JuliaCon-2021 [talk](https://www.youtube.com/watch?v=hsQiFP4S5RY&t=109s); \n",
    "7. Colomes talk during JuliaCon-2022 [talk](https://www.youtube.com/watch?v=heeiSoKnlUk); \n",
    "\n",
    "## Section 4: Ferrite-fem.jl for Finite Element Analysis Analysis \n",
    "\n",
    "1. Ferrite-fem.jl documentation is at [Ferrite-fem home page](https://ferrite-fem.github.io/Ferrite.jl/stable/examples/helmholtz/); \n",
    "2. Ferrite-fem slack channel at julialang.slack.com \n",
    "\n",
    "## Section 5: Other Julia Package for Finite Element Analysis Analysis\n",
    "\n",
    "\n",
    "\n",
    "## Section 6: Related Information (Student Projects in 2022-23) \n",
    "\n",
    "1. Shallow Water Equations solved using Gridap at [gridapGeosciences](https://github.com/gridapapps/GridapGeosciences.jl);\n",
    "2. Topology Optimization using Julia at [topopt](https://github.com/JuliaTopOpt/TopOpt.jl); "
   ]
  },
  {
   "cell_type": "code",
   "execution_count": null,
   "id": "89c58890",
   "metadata": {},
   "outputs": [],
   "source": []
  },
  {
   "cell_type": "code",
   "execution_count": null,
   "id": "05786ac8",
   "metadata": {},
   "outputs": [],
   "source": []
  }
 ],
 "metadata": {
  "kernelspec": {
   "display_name": "Julia 1.8.1",
   "language": "julia",
   "name": "julia-1.8"
  },
  "language_info": {
   "file_extension": ".jl",
   "mimetype": "application/julia",
   "name": "julia",
   "version": "1.8.1"
  }
 },
 "nbformat": 4,
 "nbformat_minor": 5
}
