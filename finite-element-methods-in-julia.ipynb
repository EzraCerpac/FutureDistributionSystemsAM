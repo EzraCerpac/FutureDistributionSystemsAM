{
 "cells": [
  {
   "cell_type": "markdown",
   "id": "a1e9f0bf",
   "metadata": {},
   "source": [
    "# Finite Element Methods in Julia \n",
    "\n",
    "\n",
    "## Section 1:/ GMSH for Geometry Definition and Mesh Generation \n",
    "\n",
    "GMESH is at [GMSH](https://gmsh.info). \n",
    "\n",
    "### GMSH for Geometry Definition \n",
    "\n",
    "More later. \n",
    "\n",
    "### GMSH for Mesh Generation \n",
    "\n",
    "Existing Documentation \n",
    "1. [Seven Examples from tutorials/julia](https://gitlab.onelab.info/gmsh/gmsh/-/tree/master/tutorials/julia)\n",
    "2. [Examples within JuliaFEM](https://github.com/JuliaFEM/Gmsh.jl): see test-directory for two examples; mesh on triangle; mesh on other examples\n",
    "3. [Examples on stackexchange](https://scicomp.stackexchange.com/questions/30169/connectivity-matrix-in-finite-element-method-in-triangular-elements): small mesh om square geometry; \n",
    "\n",
    "## Section 2:/ Gridap.jl for Finite Element Analysis Analysis\n",
    "\n",
    "1. Gridap.jl documentation is at [Gridap home page](https://gridap.github.io/Gridap.jl/stable/); \n",
    "2. Gridap tutorials are at [Gridap tutorials](https://gridap.github.io/Tutorials/stable/); \n",
    "3. Gridap Gitter channel [Gridap Gitter](https://gitter.im/Gridap-jl/community) ask questions; \n",
    "4. description of low-level interface [page](https://gridap.github.io/Tutorials/dev/pages/t013_poisson_dev_fe/)\n",
    "5. Verdugo talk during JuliaCon-2020 [talk](https://www.youtube.com/watch?v=txcb3ROQBS4&t=1135s); \n",
    "6. Verdugo-Neiva-Colomes-Badia talk during JuliaCon-2021 [talk](https://www.youtube.com/watch?v=hsQiFP4S5RY&t=109s); \n",
    "7. Colomes talk during JuliaCon-2022 [talk](https://www.youtube.com/watch?v=heeiSoKnlUk); \n",
    "\n",
    "## Section 3:/ Ferrite-fem.jl for Finite Element Analysis Analysis \n",
    "\n",
    "1. Ferrite-fem.jl documentation is at [Ferrite-fem home page](https://ferrite-fem.github.io/Ferrite.jl/stable/examples/helmholtz/); \n",
    "2. Ferrite-fem slack channel at julialang.slack.com \n",
    "\n",
    "## Section 4:/ Information for Student Projects in 2022-23 \n",
    "\n",
    "1. Shallow Water Equations solved using Gridap at [gridapGeosciences](https://github.com/gridapapps/GridapGeosciences.jl);\n",
    "2. Topology Optimization using Julia at [topopt](https://github.com/JuliaTopOpt/TopOpt.jl); "
   ]
  },
  {
   "cell_type": "code",
   "execution_count": null,
   "id": "89c58890",
   "metadata": {},
   "outputs": [],
   "source": []
  },
  {
   "cell_type": "code",
   "execution_count": null,
   "id": "05786ac8",
   "metadata": {},
   "outputs": [],
   "source": []
  }
 ],
 "metadata": {
  "kernelspec": {
   "display_name": "Julia 1.6.2",
   "language": "julia",
   "name": "julia-1.6"
  },
  "language_info": {
   "file_extension": ".jl",
   "mimetype": "application/julia",
   "name": "julia",
   "version": "1.6.2"
  }
 },
 "nbformat": 4,
 "nbformat_minor": 5
}
