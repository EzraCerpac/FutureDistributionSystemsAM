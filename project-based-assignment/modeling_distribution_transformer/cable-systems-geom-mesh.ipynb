{
 "cells": [
  {
   "cell_type": "markdown",
   "id": "caf1f6c1",
   "metadata": {},
   "source": [
    "# Three-Phase Cable With Eddy Current Lossses in Ferromagnetic Casing\n",
    "\n",
    "The goal of this notebook is to introduce CAD modeling and mesh generation for the three-phase cable system.  "
   ]
  },
  {
   "cell_type": "markdown",
   "id": "fda60f7f",
   "metadata": {},
   "source": [
    "## Import Packages "
   ]
  },
  {
   "cell_type": "code",
   "execution_count": 7,
   "id": "7a6077ed",
   "metadata": {},
   "outputs": [],
   "source": [
    "try\n",
    "    using Gmsh: gmsh\n",
    "catch\n",
    "    using gmsh\n",
    "end "
   ]
  },
  {
   "cell_type": "markdown",
   "id": "78a18a4a",
   "metadata": {},
   "source": [
    "## Section 1: Introduction\n",
    "\n",
    "More later. "
   ]
  },
  {
   "cell_type": "markdown",
   "id": "48c6dd84",
   "metadata": {},
   "source": [
    "## Section 2: Single Phase Cable - One Wire Only "
   ]
  },
  {
   "cell_type": "code",
   "execution_count": 10,
   "id": "22811b65",
   "metadata": {},
   "outputs": [
    {
     "name": "stdout",
     "output_type": "stream",
     "text": [
      "Info    : Meshing 1D...\n",
      "Info    : [  0%] Meshing curve 1 (Circle)\n",
      "Info    : [ 40%] Meshing curve 2 (Circle)\n",
      "Info    : [ 70%] Meshing curve 3 (Circle)\n",
      "Info    : Done meshing 1D (Wall 0.00238304s, CPU 0.001337s)\n",
      "Info    : Meshing 2D...\n",
      "Info    : [  0%] Meshing surface 1 (Plane, Frontal-Delaunay)\n",
      "Info    : [ 40%] Meshing surface 2 (Plane, Frontal-Delaunay)\n",
      "Info    : [ 70%] Meshing surface 3 (Plane, Frontal-Delaunay)\n",
      "Info    : Done meshing 2D (Wall 1.04402s, CPU 1.0286s)\n",
      "Info    : 37058 nodes 74840 elements\n",
      "Info    : Writing 'single-phase-cable.msh'...\n",
      "Info    : Done writing 'single-phase-cable.msh'\n",
      "-------------------------------------------------------\n",
      "Version       : 4.13.1\n",
      "License       : GNU General Public License\n",
      "Build OS      : MacOSX-sdk\n",
      "Build date    : 19700101\n",
      "Build host    : amdci7.julia.csail.mit.edu\n",
      "Build options : 64Bit ALGLIB[contrib] ANN[contrib] Bamg Blossom Cairo DIntegration Dlopen DomHex Eigen[contrib] Fltk GMP Gmm[contrib] Hxt Jpeg Kbipack MathEx[contrib] Mesh Metis[contrib] Mmg Mpeg Netgen Nii2mesh ONELAB ONELABMetamodel OpenCASCADE OpenCASCADE-CAF OpenGL OpenMP OptHom Parser Plugins Png Post QuadMeshingTools QuadTri Solver TetGen/BR TinyXML2[contrib] Untangle Voro++[contrib] WinslowUntangler Zlib\n",
      "FLTK version  : 1.3.8\n",
      "OCC version   : 7.7.2\n",
      "Packaged by   : root\n",
      "Web site      : https://gmsh.info\n",
      "Issue tracker : https://gitlab.onelab.info/gmsh/gmsh/issues\n",
      "-------------------------------------------------------\n"
     ]
    }
   ],
   "source": [
    "#..1/7: initialize gmsh \n",
    "gmsh.initialize()\n",
    "\n",
    "#..2/7: generate geometry \n",
    "gmsh.option.setNumber(\"General.Terminal\", 1) \n",
    "dim = 2 \n",
    "\n",
    "gmsh.model.add(\"single-phase-cable\")\n",
    "#..geomettry parameters \n",
    "Rout = 10.\n",
    "Rmid = 7 \n",
    "Rin  = 4.5\n",
    "Rwire = 1. \n",
    "Rpos  = 3 \n",
    "th1 = pi/2\n",
    "th2 = th1+2*pi/3 \n",
    "th3 = th1-2*pi/3\n",
    "\n",
    "c1_circ  = gmsh.model.occ.add_circle(0, 0, 0, Rout)\n",
    "c2_circ  = gmsh.model.occ.add_circle(0, 0, 0,  Rmid)\n",
    "c3_circ  = gmsh.model.occ.add_circle(0, 0, 0,  Rin)\n",
    "\n",
    "c1_curve  = gmsh.model.occ.add_curve_loop([c1_circ])\n",
    "c2_curve  = gmsh.model.occ.add_curve_loop([c2_circ])\n",
    "c3_curve  = gmsh.model.occ.add_curve_loop([c3_circ])\n",
    "\n",
    "c1_surf  = gmsh.model.occ.add_plane_surface([c1_curve ,-c2_curve])\n",
    "c2_surf  = gmsh.model.occ.add_plane_surface([c2_curve ,-c3_curve])\n",
    "c3_surf  = gmsh.model.occ.add_plane_surface([c3_curve])\n",
    "\n",
    "gmsh.model.occ.synchronize()\n",
    "\n",
    "#..4/7: assign physical groups\n",
    "gmsh.model.addPhysicalGroup(1, [c1_circ], -1, \"boundary\")\n",
    "gmsh.model.addPhysicalGroup(2, [c1_surf], -1, \"oil\")\n",
    "gmsh.model.addPhysicalGroup(2, [c2_surf], -1, \"core\")\n",
    "gmsh.model.addPhysicalGroup(2, [c3_surf], -1, \"insulation\")\n",
    "\n",
    "gmsh.option.setNumber(\"Mesh.MeshSizeMax\",0.1)\n",
    "gmsh.model.mesh.generate(dim)\n",
    "\n",
    "#..6/7: write mesh to mesh and visualize the mesh  \n",
    "#..if true, write mesh to file for further processing \n",
    "if (true) gmsh.write(\"single-phase-cable.msh\") end \n",
    "#..if true, visualize mesh through the GUI \n",
    "if (true) gmsh.fltk.run() end \n",
    "\n",
    "#..7/7: finalize gmsh \n",
    "gmsh.finalize()"
   ]
  },
  {
   "cell_type": "markdown",
   "id": "dccbd91f",
   "metadata": {},
   "source": [
    "## Section 3: Three Phase Cable System \n",
    "\n",
    "Requires boundary and subdomain settings. \n"
   ]
  },
  {
   "cell_type": "code",
   "execution_count": 9,
   "id": "c77444ea",
   "metadata": {},
   "outputs": [
    {
     "name": "stdout",
     "output_type": "stream",
     "text": [
      "Info    : Meshing 1D...\n",
      "Info    : [  0%] Meshing curve 1 (Circle)\n",
      "Info    : [ 20%] Meshing curve 2 (Circle)\n",
      "Info    : [ 40%] Meshing curve 3 (Circle)\n",
      "Info    : [ 60%] Meshing curve 4 (Circle)\n",
      "Info    : [ 70%] Meshing curve 5 (Circle)\n",
      "Info    : [ 90%] Meshing curve 6 (Circle)\n",
      "Info    : Done meshing 1D (Wall 0.000605916s, CPU 0.000588s)\n",
      "Info    : Meshing 2D...\n",
      "Info    : [  0%] Meshing surface 1 (Plane, Frontal-Delaunay)\n",
      "Info    : [ 20%] Meshing surface 2 (Plane, Frontal-Delaunay)\n",
      "Info    : [ 40%] Meshing surface 3 (Plane, Frontal-Delaunay)\n",
      "Info    : [ 60%] Meshing surface 4 (Plane, Frontal-Delaunay)\n",
      "Info    : [ 70%] Meshing surface 5 (Plane, Frontal-Delaunay)\n",
      "Info    : [ 90%] Meshing surface 6 (Plane, Frontal-Delaunay)\n",
      "Info    : Done meshing 2D (Wall 1.07526s, CPU 1.06355s)\n",
      "Info    : 38294 nodes 77309 elements\n",
      "Info    : Writing 'three-phase-cable.msh'...\n",
      "Info    : Done writing 'three-phase-cable.msh'\n",
      "-------------------------------------------------------\n",
      "Version       : 4.13.1\n",
      "License       : GNU General Public License\n",
      "Build OS      : MacOSX-sdk\n",
      "Build date    : 19700101\n",
      "Build host    : amdci7.julia.csail.mit.edu\n",
      "Build options : 64Bit ALGLIB[contrib] ANN[contrib] Bamg Blossom Cairo DIntegration Dlopen DomHex Eigen[contrib] Fltk GMP Gmm[contrib] Hxt Jpeg Kbipack MathEx[contrib] Mesh Metis[contrib] Mmg Mpeg Netgen Nii2mesh ONELAB ONELABMetamodel OpenCASCADE OpenCASCADE-CAF OpenGL OpenMP OptHom Parser Plugins Png Post QuadMeshingTools QuadTri Solver TetGen/BR TinyXML2[contrib] Untangle Voro++[contrib] WinslowUntangler Zlib\n",
      "FLTK version  : 1.3.8\n",
      "OCC version   : 7.7.2\n",
      "Packaged by   : root\n",
      "Web site      : https://gmsh.info\n",
      "Issue tracker : https://gitlab.onelab.info/gmsh/gmsh/issues\n",
      "-------------------------------------------------------\n"
     ]
    }
   ],
   "source": [
    "#..1/7: initialize gmsh \n",
    "gmsh.initialize()\n",
    "\n",
    "#..2/7: generate geometry \n",
    "gmsh.option.setNumber(\"General.Terminal\", 1) \n",
    "dim = 2 \n",
    "\n",
    "gmsh.model.add(\"three-phase-cable\")\n",
    "#..geomettry parameters \n",
    "Rout = 10.\n",
    "Rmid = 7 \n",
    "Rin  = 4.5\n",
    "Rwire = 1. \n",
    "Rpos  = 3 \n",
    "th1 = pi/2\n",
    "th2 = th1+2*pi/3 \n",
    "th3 = th1-2*pi/3\n",
    "\n",
    "c1_circ  = gmsh.model.occ.add_circle(0, 0, 0, Rout)\n",
    "c2_circ  = gmsh.model.occ.add_circle(0, 0, 0,  Rmid)\n",
    "c3_circ  = gmsh.model.occ.add_circle(0, 0, 0,  Rin)\n",
    "cw1_circ = gmsh.model.occ.add_circle(Rpos*cos(th1), Rpos*sin(th1), 0,  Rwire)\n",
    "cw2_circ = gmsh.model.occ.add_circle(Rpos*cos(th2), Rpos*sin(th2), 0,  Rwire)\n",
    "cw3_circ = gmsh.model.occ.add_circle(Rpos*cos(th3), Rpos*sin(th3), 0,  Rwire)\n",
    "\n",
    "c1_curve  = gmsh.model.occ.add_curve_loop([c1_circ])\n",
    "c2_curve  = gmsh.model.occ.add_curve_loop([c2_circ])\n",
    "c3_curve  = gmsh.model.occ.add_curve_loop([c3_circ])\n",
    "cw1_curve = gmsh.model.occ.add_curve_loop([cw1_circ])\n",
    "cw2_curve = gmsh.model.occ.add_curve_loop([cw2_circ])\n",
    "cw3_curve = gmsh.model.occ.add_curve_loop([cw3_circ])\n",
    "\n",
    "c1_surf  = gmsh.model.occ.add_plane_surface([c1_curve ,-c2_curve])\n",
    "c2_surf  = gmsh.model.occ.add_plane_surface([c2_curve ,-c3_curve])\n",
    "c3_surf  = gmsh.model.occ.add_plane_surface([c3_curve])\n",
    "cw1_surf = gmsh.model.occ.add_plane_surface([cw1_curve])\n",
    "cw2_surf = gmsh.model.occ.add_plane_surface([cw2_curve])\n",
    "cw3_surf = gmsh.model.occ.add_plane_surface([cw3_curve])\n",
    "\n",
    "gmsh.model.occ.synchronize()\n",
    "\n",
    "#..4/7: assign physical groups\n",
    "gmsh.model.addPhysicalGroup(1, [c1_circ], -1, \"boundary\")\n",
    "gmsh.model.addPhysicalGroup(2, [c1_surf], -1, \"oil\")\n",
    "gmsh.model.addPhysicalGroup(2, [c2_surf], -1, \"core\")\n",
    "gmsh.model.addPhysicalGroup(2, [c3_surf], -1, \"insulation\")\n",
    "gmsh.model.addPhysicalGroup(2, [cw1_surf], -1, \"wire-a\")\n",
    "gmsh.model.addPhysicalGroup(2, [cw2_surf], -1, \"wire-b\")\n",
    "gmsh.model.addPhysicalGroup(2, [cw3_surf], -1, \"wire-c\")\n",
    "\n",
    "\n",
    "gmsh.option.setNumber(\"Mesh.MeshSizeMax\",0.1)\n",
    "gmsh.model.mesh.generate(dim)\n",
    "\n",
    "#..6/7: write mesh to mesh and visualize the mesh  \n",
    "#..if true, write mesh to file for further processing \n",
    "if (true) gmsh.write(\"three-phase-cable.msh\") end \n",
    "#..if true, visualize mesh through the GUI \n",
    "if (true) gmsh.fltk.run() end \n",
    "\n",
    "#..7/7: finalize gmsh \n",
    "gmsh.finalize()"
   ]
  },
  {
   "cell_type": "markdown",
   "id": "5693b3e9",
   "metadata": {},
   "source": [
    "## References"
   ]
  },
  {
   "cell_type": "code",
   "execution_count": null,
   "id": "be32c1f4",
   "metadata": {},
   "outputs": [],
   "source": []
  }
 ],
 "metadata": {
  "kernelspec": {
   "display_name": "Julia 1.8.1",
   "language": "julia",
   "name": "julia-1.8"
  },
  "language_info": {
   "file_extension": ".jl",
   "mimetype": "application/julia",
   "name": "julia",
   "version": "1.8.1"
  }
 },
 "nbformat": 4,
 "nbformat_minor": 5
}
