{
 "cells": [
  {
   "cell_type": "markdown",
   "id": "e5100145",
   "metadata": {},
   "source": [
    "# Safety Concerns "
   ]
  },
  {
   "cell_type": "markdown",
   "id": "1ac2b2bd",
   "metadata": {},
   "source": [
    "## Introduction \n",
    "\n",
    "The <b>goal</b> of this project is to leverage existing open-source CFD tools that are fit-for-purpose for the improved understanding of large scale industrial hazards (i.e., accidental releases, dispersion, fire, explosions, etc.) in, including but not limited to, carbon-free energy carriers (i.e., H2 and NH3).\n",
    "\n",
    "With recent advances in computational power (i.e., use of GPUs, see e.g. [juliagpu](https://cuda.juliagpu.org/stable/)) and numerical techniques (i.e., Lattice Boltzmann methods, see e.g. [swalbe.jl](https://zitzeronion.github.io/Swalbe.jl/dev/)) we are closer to being able to simulate <i>real situations</i> including the entire sequence of events involved in an accident. That is, the release of fuel into congestion, all the flow-obstacle interactions that are responsible for the generation of background turbulence that later feed into the flame dynamics, the delayed ignition of the cloud, the propagation and acceleration of the resulting flame front which will ultimately enable accurate overpressure predictions. \n",
    "\n",
    "There are a host of fundamental problems embedded in each of these type of scenarios. The ultimate (mid-/long-term) goal being the development and deployment of truly predictive tools for major hazards management under realistic conditions thereby reducing the unknowns/uncertainties in projects regarding ignition, explosion and deflagration-to-detonation transition hazards.\n",
    "\n",
    "## Modeling Approach \n",
    "\n",
    "How to construct first one-dimensional models?  \n",
    "\n",
    "## Experimental Data \n",
    "\n",
    "What validation data is publically available? \n",
    "\n",
    "## References \n",
    "\n",
    "1. General reference into the field? \n",
    "2. [Dutch Armed Forces - Knowledge Center for Explosion and Hydrogen Safety](http://www.explosionsolutions.org/kcehs/#kehsed20240823)"
   ]
  },
  {
   "cell_type": "code",
   "execution_count": null,
   "id": "99adc909",
   "metadata": {},
   "outputs": [],
   "source": []
  },
  {
   "cell_type": "code",
   "execution_count": null,
   "id": "3875a912",
   "metadata": {},
   "outputs": [],
   "source": []
  }
 ],
 "metadata": {
  "kernelspec": {
   "display_name": "Julia 1.8.1",
   "language": "julia",
   "name": "julia-1.8"
  },
  "language_info": {
   "file_extension": ".jl",
   "mimetype": "application/julia",
   "name": "julia",
   "version": "1.8.1"
  }
 },
 "nbformat": 4,
 "nbformat_minor": 5
}
