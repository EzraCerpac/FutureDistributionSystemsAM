{
 "cells": [
  {
   "cell_type": "markdown",
   "id": "e4191cb0",
   "metadata": {},
   "source": [
    "# Building the Hydrogen Storage Infrastructure in the Arabian Gulf Region using Metal-Organic Frameworks\n",
    "\n",
    "### Domenico Lahaye, Delft Institute of Applied Mathematics, Technical University of Delft, d.j.p.lahaye@tudelft.nl\n",
    "### Valentina Olabi, Gulf Petrochemical Chemical Association, valentina@gpca.org.ae\n",
    "### Rudy Paiman Sadi, Almajdouie - de Rijke, Kingdom of Saudi Arabia; sadirp@almajdouie.com "
   ]
  },
  {
   "cell_type": "markdown",
   "id": "0f386735",
   "metadata": {},
   "source": [
    "## Section 1: Introduction\n",
    "\n",
    "The aim of this project is to contribute to the deployment of hydrogen gas as a sustainable fuel in the Arabian Gulf. This includes the design of infrastructure for storage, transport and distribution of hydrogen. Other goals are looking into alternative modes of transport and energy prodiuction that accelerate the adoption of hydrogen as energy carier. Mathematical modeling techniques and numerical simulation tools are expected to provide indispensable insight allowing to compare various scenarios.\n",
    "\n",
    "In the Arabian Gulf, the joint use of solar and wind energy is expected to play a crucial role in the production of sustainable (green) hydrogen gas.  Hydrogen opens the perspectives to replace hydro-carbon fuels and to allow for clean combustion without pollutant formation. This combustion can supply energy in various ways. It can generate heat (household boilers), drive the generation of electricity (see e.g. recent studies on (micro) gas turbine engines) and be used as a fuel in internal combustion engines or fuel cells for cars and trucks. Hydrogen, however, has a small molecular size and low density. The storage of hydrogen (at e.g. low temperatures and high pressure) is therefore a well-known technical challenge. \n",
    " \n",
    "This project intends to study solutions for the storage of hydrogen. Both small (individual households, personalized trasnsport) and large scale storage (industrial, residential, mass transport) systems can be examined (quantify small and large, amount of hydrogen fuel and storage capacity). The batteries proposed will be adapted to local  circumstances in the Arab Gulf.  Here solar energy is abundantly available in large flat dessert areas. This energy can be harnessed to produce, store and discharge hydrogen. \n",
    " \n",
    "This project aims to investigate alternative hydrogen utilisation and storage techniques in the Arabian Gulf region. In Section 2, we give an overview of existing hydrogen storage techniques. In Section 3, we describe the utilisation of Metal Organic Frameworks (MOFs) as the potential future solution to wide-scale hydrogen storage."
   ]
  },
  {
   "cell_type": "markdown",
   "id": "90ecbfa2",
   "metadata": {},
   "source": [
    "## Section 2: Metal-Organic Frameworks for Hydrogen Gas Storage \n",
    "\n",
    "The storage of hydrogen is not without technical difficulties due to its [chemical properties](https://en.wikipedia.org/wiki/Hydrogen). Options for hydrogen storage are listed at [hydrogen_storage](https://en.wikipedia.org/wiki/Hydrogen_storage). \n",
    "\n",
    "[Langmuir_adsorption_model](https://en.wikipedia.org/wiki/Langmuir_adsorption_model) "
   ]
  },
  {
   "cell_type": "markdown",
   "id": "87be204d",
   "metadata": {},
   "source": [
    "## Section 3: Project Stages \n",
    "\n",
    "### Literature Study \n",
    "\n",
    "Consider battery for truck, forklift or similar vehicle; \n",
    "\n",
    "1. find and read relevant sources;\n",
    "2. summarize in own wording; \n",
    "3. dialogue with project partners on information gained; \n",
    "4. in case feasible, attend [Combura2024](https://www.combura.nl) on Thursday, October 24th, and meet and discuss with Rudy Sadi; \n",
    "\n",
    "### Mathematical Modeling and Numerical Simulation \n",
    "\n",
    "1. chemical reaction of absorption and desorption in absence of flow or plug-flow reactor;\n",
    "2. laminar flow through void and metal-oxide filled spaces assuming no absorption or desorption takes places; \n",
    "3. combine two above physical processes; \n",
    "\n",
    "### Study Visit to the Arabian Gulf \n",
    "\n",
    "1. verify findings, place findings in broader context; \n",
    "\n",
    "### Report and Presentation "
   ]
  },
  {
   "cell_type": "markdown",
   "id": "9ce23fb0",
   "metadata": {},
   "source": [
    "## Section 4: Mathematical Modeling and Numerical Simulation \n",
    "\n",
    "More details on the mathematical modeling and numerical simlation using the [Julia](https://julialang.org) programmibng language are given in [absorption of hydrogen](darzi-2016.ipynb). "
   ]
  },
  {
   "cell_type": "markdown",
   "id": "1e075422",
   "metadata": {},
   "source": [
    "## References  \n",
    "\n",
    "1. List more references here; \n",
    "2. [Liquid_organic_hydrogen_carriers](https://en.wikipedia.org/wiki/Liquid_organic_hydrogen_carriers) "
   ]
  },
  {
   "cell_type": "code",
   "execution_count": null,
   "id": "7b266ea3",
   "metadata": {},
   "outputs": [],
   "source": []
  }
 ],
 "metadata": {
  "kernelspec": {
   "display_name": "Julia 1.8.1",
   "language": "julia",
   "name": "julia-1.8"
  },
  "language_info": {
   "file_extension": ".jl",
   "mimetype": "application/julia",
   "name": "julia",
   "version": "1.8.1"
  }
 },
 "nbformat": 4,
 "nbformat_minor": 5
}
