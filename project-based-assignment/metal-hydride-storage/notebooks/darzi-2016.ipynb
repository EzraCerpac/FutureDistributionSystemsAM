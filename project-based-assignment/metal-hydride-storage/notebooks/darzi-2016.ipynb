{
 "cells": [
  {
   "cell_type": "markdown",
   "id": "f5dec432",
   "metadata": {},
   "source": [
    "# Mathematical Modeling and Numerical Simulation of Absorption and Desorption of Hydrogen in Long Metal Hydride Tank Equipped with Phase Change Material Jacket \n",
    "\n",
    "## Darzi e.a. - Journal Hydrogen Energy 2016 "
   ]
  },
  {
   "cell_type": "markdown",
   "id": "cbbc39ba",
   "metadata": {},
   "source": [
    "## Import Julia Packages "
   ]
  },
  {
   "cell_type": "code",
   "execution_count": 1,
   "id": "09edef86",
   "metadata": {},
   "outputs": [],
   "source": [
    "using LinearAlgebra\n",
    "using DifferentialEquations\n",
    "using Plots"
   ]
  },
  {
   "cell_type": "code",
   "execution_count": 2,
   "id": "7dd9c0d9",
   "metadata": {},
   "outputs": [],
   "source": [
    "# deliberately use include to include code \n",
    "# see e.g. https://docs.julialang.org/en/v1/manual/code-loading/ \n",
    "include(\"flemish-fish.jl\")"
   ]
  },
  {
   "cell_type": "code",
   "execution_count": null,
   "id": "12f5074c",
   "metadata": {},
   "outputs": [],
   "source": [
    "?fdmmesh"
   ]
  },
  {
   "cell_type": "markdown",
   "id": "9d766068",
   "metadata": {},
   "source": [
    "## Section 1: Introduction \n",
    "\n",
    "The <b>goals</b> of this notebook are:  \n",
    "1. to reproduce the results by Darzi e.a. in their 2016 paper entitled <i>Absorption and Desorption of Hydrogen in Long Metal Hydride Tank Equipped with Phase Change Material Jacket</i>. This paper discusses the mathematical modeling and numerical simulation of metal-hydride materials for the storage (absorption (intake) and desorption (release)) of hygrogen gas. The [Van 't Hoff plot](https://en.wikipedia.org/wiki/Van_'t_Hoff_equation) is used to estimate the enthalpy (heat intake or release) and entropy of the chemical reaction of binding and release of hydrogen gas; \n",
    "\n",
    "1. <b>0D modeling</b>: to construct a one-dimensional (stationary (steady state) and/or transient?) model for the storage and release of hydrogen gas. The model will consists of two submodels. The first submodel is a model for laminar non-isothermal flow of the hydrogen gas through the bed of metal-oxide material bed. This material bed will be modeled as a porous medium. The first submodel will consist of conservation of mass (diffusion equation for the pressure resulting in a pressure gradient over the reactor), conservation of momentum (convection-diffusion equation for the velocity) and conservation of energy. The second submodel is a model for the mass fraction of the hydrogen gas and the avialable metal-oxide. Use time stepping method available in DifferentialEquations.jl to solve these models.\n",
    "\n",
    "1. Need to desribe the two-way coupling between the two models;\n",
    "\n",
    "1. <b>1D modeling in space</b>: to construct a one-dimensional stationary models for the storage and release of hydrogen gas from tank with and without MOFs. Use shooting method available in DifferentialEquations.jl to solve these models. \n",
    "\n",
    "1. <b>1D+1 modeling in space and time</b>: Use method of lines avialable in ModelingToolkit.jl to solve these models.   \n",
    "\n",
    "1. collect information allowing an informed and critical discussion on future outlook with project partners;   \n",
    "\n",
    "<img src=\"./darzi-2016-table1.png\" width=800 />\n",
    "Table-1 from Darzi-2016. \n",
    "\n",
    "More on the introduction will come later. \n",
    "\n",
    "<b>Next steps</b>\n",
    "1. solve 0D-reactor using [this notebook](./zero-D-reactor-model.ipynb)\n",
    "1. specify equations in the remainder of the notebook;\n",
    "1. prepare rectangular 2D mesh geometry using GMSH for simulations using Ferrite.jl; "
   ]
  },
  {
   "cell_type": "markdown",
   "id": "17b648e7",
   "metadata": {},
   "source": [
    "## Section 2: 0D Reactor Models \n",
    "\n",
    "### Section 1.2: Only Solid Density in Spatially Homogenous Reactor \n",
    "\n",
    "<b>Assumptions</b>: \n",
    "1. the reactor to be spatially homogeneous (well stirred reactor model, reactor has no spatial dimensions); \n",
    "1. pressure and temperature of reactor are constant; \n",
    "1. given empty bed density $\\rho_{emp}$: see Table-1 for realistic value;  \n",
    "1. saturated bed density $\\rho_{sat}$: see Table-1 for realistic value?; \n",
    "\n",
    "<b>Problem Formulation</b>:\n",
    "\n",
    "Model time-evolution of density of hydrogen gas bounded to the metal-oxide solid $\\rho_s = \\rho_s(t)$ in both absorption and desorption conditions, i.e, solve the (single) ordinary differential equation  \n",
    "\n",
    "$$\n",
    "(1 - \\epsilon) \\frac{d \\, \\rho_s}{dt} = \\dot{m}(\\rho_s, t) \n",
    "\\text{ given } \\rho_s(t = 0) = \\rho_{s,0} \\,    \n",
    "$$\n",
    "\n",
    "where for <b>absorption</b> conditions (density of solid increases until reaching saturation)\n",
    "\n",
    "$$\n",
    "\\dot{m}(\\rho_s, t) = \\dot{m}_a(\\rho_s, t)\n",
    "                   = C_a \\exp(- \\frac{E_a}{R \\, T}) \\, \n",
    "                        \\log( \\frac{p_p}{p_{eq,a}} ) \\, (\\rho_{sat} - \\rho_s(t)) \\, ,     \n",
    "$$\n",
    "\n",
    "and for <b>desorption</b> conditions (density decreases until reaching minimum value)\n",
    "\n",
    "$$\n",
    "\\dot{m}(\\rho_s, t) = \\dot{m}_d(\\rho_s, t)\n",
    "                   = C_d \\exp(- \\frac{E_d}{R \\, T}) \\, \n",
    "                         ( \\frac{p_p - p_{eq,d}}{p_{eq,d}} ) \\, \n",
    "                         (\\rho_s(t) - \\rho_{emp}) \\, ,       \n",
    "$$\n",
    "\n",
    "assuming final time to evolve between one and a few minutes. Observe that \n",
    "1. the mass flow rate $\\dot{m}(\\rho_s, t)$ is <i>independent</i> of the density of the gas $\\rho_s(t)$;\n",
    "1. the steady-state solution for absoroption and desorption is given by $\\rho_s=\\rho_{sat}$ and $\\rho_s=\\rho_{emp}$, respectively; \n",
    "\n",
    "<b>Coding</b>:\n",
    "\n",
    "Code the problem set-up and solve using a suitable time-integration choosen from [DifferentialEquations.jl](https://docs.sciml.ai/DiffEqDocs/stable/). Plot time evolution of $\\rho_s(t)$ and $\\dot{m}$. Explore the sensitivity of the computed solution w.r.t. temperature and pressure operating conditions.   "
   ]
  },
  {
   "cell_type": "markdown",
   "id": "d149eae2",
   "metadata": {},
   "source": [
    "<b>Absorption Case</b> \n",
    "Here we model an absorption case. This case is seperable and can thus be solved analytically using seperation of variables, either using pen-and-paper and symbolic computations (using sympy e.g.). "
   ]
  },
  {
   "cell_type": "code",
   "execution_count": null,
   "id": "648cc4dc",
   "metadata": {},
   "outputs": [],
   "source": [
    "# problem set-up: rhs function that defines the ODE\n",
    "function rhs(u,p,t)\n",
    "    return (.5-u) # absorption assuming \\rho_{sat} = 1 and multiplying factors equal 1\n",
    "end \n",
    "\n",
    "# problem set-up: initial condition\n",
    "u0 = .2;\n",
    "\n",
    "# problem set-up: set time span\n",
    "Tend = 4\n",
    "tspan = (0.0,Tend)\n",
    "\n",
    "# problem set-up: define ODE problem \n",
    "prob = ODEProblem(rhs,u0,tspan)\n",
    "\n",
    "# solve: perform time integration \n",
    "sol = solve(prob,AutoVern7(Rodas5()),reltol=1e-4,abstol=1e-4)\n",
    "\n",
    "# post-process: plot computed solution \n",
    "p1 = plot(sol.t, sol.u, xlabel = \"t\",line = :blue, title=\"density of gas absorbed\")\n",
    "\n",
    "# post-process:evaluate and plot the source term \n",
    "p2 = plot(sol.t, rhs.(sol.u,1,sol.t),xlabel=\"t\", line = :red, title=\"absorption source term\")\n",
    "plot(p1,p2,layout=(1,2))"
   ]
  },
  {
   "cell_type": "markdown",
   "id": "8eb3ed0e",
   "metadata": {},
   "source": [
    "<b>Desorption Case</b> \n",
    "Here we model an desorption case."
   ]
  },
  {
   "cell_type": "code",
   "execution_count": null,
   "id": "2147d948",
   "metadata": {},
   "outputs": [],
   "source": [
    "# problem set-up: rhs function that defines the ODE \n",
    "function rhs(u,p,t)\n",
    "    return (0.1*u-1)*(u>0.001) # desorption assuming \\rho_{emp} = 0.1 and rest equals 1 \n",
    "end \n",
    "\n",
    "# problem set-up: initial condition \n",
    "u0 = .2;\n",
    "\n",
    "# problem set-up: set time span\n",
    "Tend = 4\n",
    "tspan = (0.0,Tend)\n",
    "\n",
    "# problem set-up: define ODE problem \n",
    "prob = ODEProblem(rhs,u0,tspan)\n",
    "\n",
    "# solve: perform time integration \n",
    "sol = solve(prob,AutoVern7(Rodas5()),reltol=1e-4,abstol=1e-4)\n",
    "\n",
    "# post-process: plot computed solution \n",
    "p1 = plot(sol.t, sol.u, xlabel = \"t\",line = :blue, title=\"density of gas desorbed\")\n",
    "\n",
    "# post-process:evaluate and plot the source term \n",
    "p2 = plot(sol.t, rhs.(sol.u,1,sol.t),xlabel=\"t\", line = :red, title=\"desorption source term\")\n",
    "plot(p1,p2,layout=(1,2))"
   ]
  },
  {
   "cell_type": "markdown",
   "id": "2bf612ae",
   "metadata": {},
   "source": [
    "### Section 2.2: Coupled Solid/Gas Density in Spatially Homogenous Reactor\n",
    "\n",
    "<b>Assumptions</b>: as before \n",
    "\n",
    "<b>Problem Formulation</b>:\n",
    "\n",
    "Model time-evolution of hydrogen gas bounded to the metal-oxide solid $\\rho_s = \\rho_s(t)$ and density of the hydrogen gas $\\rho_g = \\rho_g(t)$  in both absorption and desorption conditions, i.e, solve the two ordinary differential equations coupled via the depency of the flow rate on the \n",
    "\n",
    "$$\n",
    "(1 - \\epsilon) \\frac{d \\, \\rho_s}{dt} = \\dot{m}(\\rho_s, t) \n",
    "\\text{ given } \\rho_s(t = 0) = \\rho_{s,0} \\,    \n",
    "$$\n",
    "\n",
    "and \n",
    "\n",
    "$$\n",
    "\\epsilon \\frac{d \\, \\rho_g}{dt} = - \\dot{m}(\\rho_s, t) \n",
    "\\text{ given } \\rho_g(t = 0) = \\rho_{g,0} \\, .     \n",
    "$$\n",
    "\n",
    "Not sure about signs in the equation. \n",
    "\n",
    "<b>Remarks</b>: what initial conditions make sense to use here? \n",
    "\n",
    "<b>Coding</b>: extend before from one to two coupled ordinary differential equations. "
   ]
  },
  {
   "cell_type": "code",
   "execution_count": null,
   "id": "3fbf6c49",
   "metadata": {},
   "outputs": [],
   "source": [
    "# problem set-up: rhs function that defines the ODE \n",
    "function rhs!(du,u,p,t)\n",
    " mdot = (.5-u[1])\n",
    " epsilon = 0.7 \n",
    " du[1] = mdot/(1-epsilon)\n",
    " du[2] = -mdot/epsilon \n",
    "end\n",
    "\n",
    "# problem set-up: initial condition\n",
    "u0 = [0.2,0.3] \n",
    "\n",
    "# problem set-up: set time span\n",
    "Tend = 4\n",
    "tspan = (0.0,Tend)\n",
    "\n",
    "# problem set-up: define ODE problem\n",
    "prob = ODEProblem(rhs!,u0,tspan)\n",
    "\n",
    "# solve: perform time integration\n",
    "sol = solve(prob)\n",
    "\n",
    "# post-process: plot computed solution\n",
    "p1 = plot(sol,idxs=1,line = :blue,title=\"Solid Density\")\n",
    "p2 = plot(sol,idxs=2,line = :red,title=\"Gas Density\")\n",
    "plot(p1,p2,layout = (1,2))"
   ]
  },
  {
   "cell_type": "markdown",
   "id": "b2d58b1f",
   "metadata": {},
   "source": [
    "### Section 2.3: Pressure Evolution During Tank Fill / Emptying \n",
    "\n",
    "See [zero-D-reactor-model](zero-D-reactor-model.ipynb). "
   ]
  },
  {
   "cell_type": "markdown",
   "id": "4d2669e9",
   "metadata": {},
   "source": [
    "## Section 3: One-Dimensional Reactor Models With A-Priori Given Axial Velocity \n",
    "\n",
    "<b>Assumptions</b>:\n",
    "1. assume reactor to extend in space along the $z$-axis of a cylindrical coordinate system from $z=0$ to $z = 0.8 \\, \\text{m}$. \n",
    "2. assume $z$-axis to be discretized using either an uniform mesh or non-uniform mesh; \n",
    "3. for both the absorption and desorption case, assume the axial velocity $u_z(z)$ (in $\\text{m}/\\text{s}$) to be a given function of $z$. Examples include linear profiles for $u_z(z)$ (in positive $z$-direction for absorption and in negative $z$-direction for desorption) or solutions of the convection-diffusion equation for $u_z(z)$; \n",
    "\n",
    "<b>Problem Formulation</b>:\n",
    "\n",
    "We assume the velocity $u_z(z)$ to be known (a-priori given). \n",
    "\n",
    "$$\n",
    "(1 - \\epsilon) \\frac{\\partial \\, \\rho_s}{\\partial t} = \\dot{m}(\\rho_s, t) \n",
    "\\text{ given initial conditions } \\rho_s(t = 0) = \\rho_{s,0} \n",
    "$$\n",
    "\n",
    "and \n",
    "\n",
    "$$\n",
    "\\epsilon \\frac{\\partial \\, \\rho_g}{\\partial t} = \n",
    "D \\, \\frac{\\partial^2 \\, \\rho_g}{\\partial z^2}\n",
    "+ u_z \\, \\frac{\\partial \\, \\rho_g}{\\partial z} \n",
    "+ \\dot{m}(\\rho_s, t) \n",
    "\\text{ given initial conditions } \\rho_g(t = 0) = \\rho_{g,0} \n",
    "\\text{ and boundary conditions} \\, .     \n",
    "$$\n",
    "\n",
    "In the stead-state case, only the convection-diffusion equation with a source term for $\\rho_g(z)$ \n",
    "\n",
    "$$\n",
    "D \\, \\frac{\\partial^2 \\, \\rho_g}{\\partial z^2}\n",
    "+ u_z \\, \\frac{\\partial \\, \\rho_g}{\\partial z} \n",
    "+ \\dot{m}(\\rho_s, t) = 0 \n",
    "\\text{ given boundary conditions}     \n",
    "$$\n",
    "\n",
    "needs to be solved. \n",
    "\n",
    "<b>Weak or Variational Problem Formulation</b>: details to be filled in;\n",
    "\n",
    "<b>Coding of Steady-State Problem</b>:\n",
    "\n",
    "Assuming $u_z(z)$ to be known in either the case of absorption or desorption, the steady model can be solved using a shooting method, a finite difference method (using FlemishFish.jl) or a finite element method (using Ferrite.jl).  \n",
    " \n",
    "<b>Coding of Set-up Phase of the Transient Problem</b>: \n",
    "\n",
    "For <b>discretization</b> in space: discretize the diffusion using second-order three-point finite difference stencil (tri-diagonal matrix $S$) and first-order two-point convection (bi-diagonal matrix $C$) operator using finite differences on a uniform mesh. See example of using FlemishFish.jl (in Section 5 of FlemishFish.ipynb - aslk Domenico for details). \n",
    "\n",
    "For <b>discretization</b> in time: using DifferentialEquations.jl as before. See e.g. [EE4375 course](https://github.com/ziolai/finite_element_electrical_engineering/tree/main) for examples. Or use e.g. [Ferrite](https://ferrite-fem.github.io/Ferrite.jl/stable/) (observe that Ferrite ha no stabilization methods for convection dominated flows, assume no stabilization require for laminar flow through porous media); "
   ]
  },
  {
   "cell_type": "markdown",
   "id": "525329e2",
   "metadata": {},
   "source": [
    "### Section 1.3: Steady State: Convection-Diffusion Equation for Gas Density $\\rho_g$\n",
    "\n",
    "Use use [Ferrite](https://ferrite-fem.github.io/Ferrite.jl/stable/) in space to verify this solution. Implement weak, intermediate and strong convection."
   ]
  },
  {
   "cell_type": "code",
   "execution_count": 1,
   "id": "f3d1f388",
   "metadata": {},
   "outputs": [
    {
     "data": {
      "text/plain": [
       "bc (generic function with 1 method)"
      ]
     },
     "execution_count": 1,
     "metadata": {},
     "output_type": "execute_result"
    }
   ],
   "source": [
    "# set source function \n",
    "src(x) = 0.  \n",
    "\n",
    "# set right-hand side \n",
    "# u''(x) = - f(x) reformulated as \n",
    "# coupled first order system as \n",
    "# u'(x) = v(x) and v'(x) = - f(x) or \n",
    "# du[1] = u[2] and du[2] = - f(x) \n",
    "function rhs!(du, u, p, x)\n",
    "    rhog = u[1]; drhog = u[2]\n",
    "    du[1] = drhog\n",
    "    du[2] = -10*drhog + src(x)\n",
    "end\n",
    "\n",
    "# set boundary conditions \n",
    "# boundary conditions on the left and right of computational domain \n",
    "# requires explaining syntax \n",
    "function bc(residual, u, p, x)\n",
    "    rhogleft = 1; rhogright=0; \n",
    "    residual[1] = u[1][1] - rhogleft \n",
    "    residual[2] = u[end][1] - rhogright\n",
    "end"
   ]
  },
  {
   "cell_type": "code",
   "execution_count": 2,
   "id": "23e7160a",
   "metadata": {},
   "outputs": [
    {
     "ename": "LoadError",
     "evalue": "UndefVarError: BVProblem not defined",
     "output_type": "error",
     "traceback": [
      "UndefVarError: BVProblem not defined",
      "",
      "Stacktrace:",
      " [1] top-level scope",
      "   @ In[2]:11"
     ]
    }
   ],
   "source": [
    "# set constants \n",
    "p = [1]\n",
    "\n",
    "# set domain size \n",
    "xspan = (0.,1.)\n",
    "\n",
    "# set initial guess \n",
    "start = [0., 0.]\n",
    "\n",
    "# define and solve the problem \n",
    "bvp = BVProblem(rhs!, bc, start, xspan,p)\n",
    "sol = solve(bvp, MIRK4(), dt = 0.005);"
   ]
  },
  {
   "cell_type": "code",
   "execution_count": null,
   "id": "91af196b",
   "metadata": {},
   "outputs": [],
   "source": [
    "# plot u(x) and du/dx(x)\n",
    "rhog  = [u[1] for u in sol.u]\n",
    "drhog = [u[2] for u in sol.u]\n",
    "p1 = plot(sol.t, rhog, xlabel=\"x\", ylabel = \"rho_g(x)\") \n",
    "p2 = plot(sol.t, drhog, xlabel=\"x\", ylabel = \"drho_g(x)\") \n",
    "plot(p1,p2,layout=(1,2))"
   ]
  },
  {
   "cell_type": "markdown",
   "id": "a9714526",
   "metadata": {},
   "source": [
    "### Section 2.3: Transient State: Coupled Reaction-Convection-Diffusion for Gas and Solid Density  "
   ]
  },
  {
   "cell_type": "code",
   "execution_count": null,
   "id": "92dcc807",
   "metadata": {},
   "outputs": [],
   "source": [
    "# spatial discretization \n",
    "N = (10,); Np1 = N[1]+1\n",
    "m = fdmmesh(N)\n",
    "A = stiffmat(m)\n",
    "C = convectionmat(m);"
   ]
  },
  {
   "cell_type": "code",
   "execution_count": null,
   "id": "a0138827",
   "metadata": {},
   "outputs": [],
   "source": [
    "# ODE model functions\n",
    "function plug_flow_reactor!(du,u,p,t)\n",
    "    Np1         = length(u) ÷ 2 \n",
    "    rhos        = @view u[1:Np1]\n",
    "    rhog        = @view u[Np1+1:end]\n",
    "    mdot        = 1 .- rhos\n",
    "    epsilon     = 0.5 \n",
    "    du[1:Np1]  .= mdot/(1-epsilon)  \n",
    "    du[Np1+1:end] .= -A*rhog - mdot/epsilon # .= A*rhog - mdot/epsilon  \n",
    "    du[Np1+1] = 0; du[end] = 0 \n",
    "end\n",
    "\n",
    "# set initial conditions \n",
    "rhos0 = [.2 for xi in m[1]]\n",
    "rhog0 = [.3 for xi in m[1]]; rhog0[1] = 0.; rhog0[end] = 0.;  \n",
    "u0  = [rhos0; rhog0]\n",
    "\n",
    "# set time interval \n",
    "tspan = (0.0,0.1)\n",
    "\n",
    "# define and solve the problem \n",
    "prob = ODEProblem(plug_flow_reactor!,u0,tspan,p)\n",
    "sol = solve(prob, AutoVern7(Rodas5()), reltol = 1e-8, abstol = 1e-8, save_everystep = true);"
   ]
  },
  {
   "cell_type": "code",
   "execution_count": null,
   "id": "037dace6",
   "metadata": {},
   "outputs": [],
   "source": [
    "# post-processing \n",
    "rhosmat = reduce(hcat,[uti[1:Np1] for uti in sol.u])\n",
    "rhogmat = reduce(hcat,[uti[Np1+1:end] for uti in sol.u])\n",
    "\n",
    "p1 = surface(sol.t,m[1],rhosmat,xlabel=\"t\", ylabel=\"x\",title=\"Solid density\")\n",
    "p2 = surface(sol.t,m[1],rhogmat,xlabel=\"t\", ylabel=\"x\",title=\"Gas density\")\n",
    "plot(p1,p2,layout=(1,2))"
   ]
  },
  {
   "cell_type": "markdown",
   "id": "1a648773",
   "metadata": {},
   "source": [
    "## Section 4: More Advanced One-Dimensional Models for the Axial Velocity \n",
    "\n",
    "The <b>goal</b> of this section is to arrive at more realistic (non-linear and pressure driven) one-dimensional flow models for the axial velocity in case of filling and emptying the tank. \n",
    "\n",
    "The boundary of the tank consists of walls and inlet (in case of filling) and of walls on outlet (in case of emtying) \n",
    "\n",
    "<b> Questions: </b>\n",
    "1. how to set the pressure and velocity boundary conditions in case of filling and emtying the tank? Using total pressure (cfr. Ansys Fluent Guide)?  See [this CFD online post by Paolo Lampitella](https://www.cfd-online.com/Forums/main/234508-how-properly-set-pressure-inlet-pressure.html)\n",
    "1. how to use these flow models in the previous (Section 3) models for solid and gas density; "
   ]
  },
  {
   "cell_type": "markdown",
   "id": "4808de39",
   "metadata": {},
   "source": [
    "### Section 1.4: Conservation of momentum \n",
    "\n",
    "<b>Problem to solve</b> Given $x \\in \\Omega = (0,1)$, given the pressure gradient $f(x)$ (we thus avoid solving for the pressure), given the Reynolds number $Re>0$, we intend to solve for the unknown velocity $u(x)$\n",
    "\n",
    "$$\n",
    "u(x) \\, u'(x) = 1/Re \\, u''(x) + f(x) \\text{ (conservation of momentum)}\n",
    "$$\n",
    "\n",
    "supplied with boundary conditions $u(x=0) = u_{in}$ (left boundary acts as an inlet velocity) and $u(x=0) = 0$ (right boundary condition acts as a wall)"
   ]
  },
  {
   "cell_type": "code",
   "execution_count": 13,
   "id": "d980bc8d",
   "metadata": {},
   "outputs": [
    {
     "data": {
      "text/plain": [
       "bc (generic function with 1 method)"
      ]
     },
     "execution_count": 13,
     "metadata": {},
     "output_type": "execute_result"
    }
   ],
   "source": [
    "# set source function \n",
    "src(x) = 1-x  \n",
    "\n",
    "# set right-hand side \n",
    "# u''(x) + u'(x) = f(x) reformulated as \n",
    "# coupled first order system as \n",
    "# u'(x) = v(x) and v'(x) = - f(x) or \n",
    "# du[1] = u[2] and du[2] = - f(x) \n",
    "function rhs!(du, u, p, x)\n",
    "    du[1] = u[2]\n",
    "    du[2] = 5*u[1]*u[2] + src(x)\n",
    "end\n",
    "\n",
    "# set boundary conditions \n",
    "# boundary conditions on the left and right of computational domain \n",
    "# requires explaining syntax \n",
    "function bc(residual, u, p, x)\n",
    "    uleft = 1; uright=0; \n",
    "    residual[1] = u[1][1] - uleft \n",
    "    residual[2] = u[end][1] - uright\n",
    "end"
   ]
  },
  {
   "cell_type": "code",
   "execution_count": 14,
   "id": "3383aa3f",
   "metadata": {},
   "outputs": [
    {
     "name": "stderr",
     "output_type": "stream",
     "text": [
      "\u001b[33m\u001b[1m┌ \u001b[22m\u001b[39m\u001b[33m\u001b[1mWarning: \u001b[22m\u001b[39mBackwards compatability support of the new return codes to Symbols will be deprecated with the Julia v1.9 release. Please see https://docs.sciml.ai/SciMLBase/stable/interfaces/Solutions/#retcodes for more information\n",
      "\u001b[33m\u001b[1m└ \u001b[22m\u001b[39m\u001b[90m@ SciMLBase ~/.julia/packages/SciMLBase/QqtZA/src/retcodes.jl:355\u001b[39m\n"
     ]
    }
   ],
   "source": [
    "# set constants \n",
    "p = [1]\n",
    "\n",
    "# set domain size \n",
    "xspan = (0.,1.)\n",
    "\n",
    "# set initial guess \n",
    "start = [0., 0.]\n",
    "\n",
    "# define and solve the problem \n",
    "bvp = BVProblem(rhs!, bc, start, xspan,p)\n",
    "sol = solve(bvp, MIRK4(), dt = 0.005);"
   ]
  },
  {
   "cell_type": "code",
   "execution_count": 15,
   "id": "b47fafa2",
   "metadata": {},
   "outputs": [
    {
     "data": {
      "image/svg+xml": [
       "<?xml version=\"1.0\" encoding=\"utf-8\"?>\n",
       "<svg xmlns=\"http://www.w3.org/2000/svg\" xmlns:xlink=\"http://www.w3.org/1999/xlink\" width=\"600\" height=\"400\" viewBox=\"0 0 2400 1600\">\n",
       "<defs>\n",
       "  <clipPath id=\"clip600\">\n",
       "    <rect x=\"0\" y=\"0\" width=\"2400\" height=\"1600\"/>\n",
       "  </clipPath>\n",
       "</defs>\n",
       "<path clip-path=\"url(#clip600)\" d=\"M0 1600 L2400 1600 L2400 0 L0 0  Z\" fill=\"#ffffff\" fill-rule=\"evenodd\" fill-opacity=\"1\"/>\n",
       "<defs>\n",
       "  <clipPath id=\"clip601\">\n",
       "    <rect x=\"480\" y=\"0\" width=\"1681\" height=\"1600\"/>\n",
       "  </clipPath>\n",
       "</defs>\n",
       "<path clip-path=\"url(#clip600)\" d=\"M249.542 1423.18 L1148.92 1423.18 L1148.92 47.2441 L249.542 47.2441  Z\" fill=\"#ffffff\" fill-rule=\"evenodd\" fill-opacity=\"1\"/>\n",
       "<defs>\n",
       "  <clipPath id=\"clip602\">\n",
       "    <rect x=\"249\" y=\"47\" width=\"900\" height=\"1377\"/>\n",
       "  </clipPath>\n",
       "</defs>\n",
       "<polyline clip-path=\"url(#clip602)\" style=\"stroke:#000000; stroke-linecap:round; stroke-linejoin:round; stroke-width:2; stroke-opacity:0.1; fill:none\" points=\"274.996,1423.18 274.996,47.2441 \"/>\n",
       "<polyline clip-path=\"url(#clip602)\" style=\"stroke:#000000; stroke-linecap:round; stroke-linejoin:round; stroke-width:2; stroke-opacity:0.1; fill:none\" points=\"487.115,1423.18 487.115,47.2441 \"/>\n",
       "<polyline clip-path=\"url(#clip602)\" style=\"stroke:#000000; stroke-linecap:round; stroke-linejoin:round; stroke-width:2; stroke-opacity:0.1; fill:none\" points=\"699.233,1423.18 699.233,47.2441 \"/>\n",
       "<polyline clip-path=\"url(#clip602)\" style=\"stroke:#000000; stroke-linecap:round; stroke-linejoin:round; stroke-width:2; stroke-opacity:0.1; fill:none\" points=\"911.352,1423.18 911.352,47.2441 \"/>\n",
       "<polyline clip-path=\"url(#clip602)\" style=\"stroke:#000000; stroke-linecap:round; stroke-linejoin:round; stroke-width:2; stroke-opacity:0.1; fill:none\" points=\"1123.47,1423.18 1123.47,47.2441 \"/>\n",
       "<polyline clip-path=\"url(#clip600)\" style=\"stroke:#000000; stroke-linecap:round; stroke-linejoin:round; stroke-width:4; stroke-opacity:1; fill:none\" points=\"249.542,1423.18 1148.92,1423.18 \"/>\n",
       "<polyline clip-path=\"url(#clip600)\" style=\"stroke:#000000; stroke-linecap:round; stroke-linejoin:round; stroke-width:4; stroke-opacity:1; fill:none\" points=\"274.996,1423.18 274.996,1404.28 \"/>\n",
       "<polyline clip-path=\"url(#clip600)\" style=\"stroke:#000000; stroke-linecap:round; stroke-linejoin:round; stroke-width:4; stroke-opacity:1; fill:none\" points=\"487.115,1423.18 487.115,1404.28 \"/>\n",
       "<polyline clip-path=\"url(#clip600)\" style=\"stroke:#000000; stroke-linecap:round; stroke-linejoin:round; stroke-width:4; stroke-opacity:1; fill:none\" points=\"699.233,1423.18 699.233,1404.28 \"/>\n",
       "<polyline clip-path=\"url(#clip600)\" style=\"stroke:#000000; stroke-linecap:round; stroke-linejoin:round; stroke-width:4; stroke-opacity:1; fill:none\" points=\"911.352,1423.18 911.352,1404.28 \"/>\n",
       "<polyline clip-path=\"url(#clip600)\" style=\"stroke:#000000; stroke-linecap:round; stroke-linejoin:round; stroke-width:4; stroke-opacity:1; fill:none\" points=\"1123.47,1423.18 1123.47,1404.28 \"/>\n",
       "<path clip-path=\"url(#clip600)\" d=\"M237.3 1454.1 Q233.689 1454.1 231.86 1457.66 Q230.054 1461.2 230.054 1468.33 Q230.054 1475.44 231.86 1479.01 Q233.689 1482.55 237.3 1482.55 Q240.934 1482.55 242.739 1479.01 Q244.568 1475.44 244.568 1468.33 Q244.568 1461.2 242.739 1457.66 Q240.934 1454.1 237.3 1454.1 M237.3 1450.39 Q243.11 1450.39 246.165 1455 Q249.244 1459.58 249.244 1468.33 Q249.244 1477.06 246.165 1481.67 Q243.11 1486.25 237.3 1486.25 Q231.49 1486.25 228.411 1481.67 Q225.355 1477.06 225.355 1468.33 Q225.355 1459.58 228.411 1455 Q231.49 1450.39 237.3 1450.39 Z\" fill=\"#000000\" fill-rule=\"nonzero\" fill-opacity=\"1\" /><path clip-path=\"url(#clip600)\" d=\"M257.462 1479.7 L262.346 1479.7 L262.346 1485.58 L257.462 1485.58 L257.462 1479.7 Z\" fill=\"#000000\" fill-rule=\"nonzero\" fill-opacity=\"1\" /><path clip-path=\"url(#clip600)\" d=\"M282.531 1454.1 Q278.92 1454.1 277.091 1457.66 Q275.286 1461.2 275.286 1468.33 Q275.286 1475.44 277.091 1479.01 Q278.92 1482.55 282.531 1482.55 Q286.165 1482.55 287.971 1479.01 Q289.799 1475.44 289.799 1468.33 Q289.799 1461.2 287.971 1457.66 Q286.165 1454.1 282.531 1454.1 M282.531 1450.39 Q288.341 1450.39 291.397 1455 Q294.475 1459.58 294.475 1468.33 Q294.475 1477.06 291.397 1481.67 Q288.341 1486.25 282.531 1486.25 Q276.721 1486.25 273.642 1481.67 Q270.587 1477.06 270.587 1468.33 Q270.587 1459.58 273.642 1455 Q276.721 1450.39 282.531 1450.39 Z\" fill=\"#000000\" fill-rule=\"nonzero\" fill-opacity=\"1\" /><path clip-path=\"url(#clip600)\" d=\"M312.693 1454.1 Q309.082 1454.1 307.253 1457.66 Q305.447 1461.2 305.447 1468.33 Q305.447 1475.44 307.253 1479.01 Q309.082 1482.55 312.693 1482.55 Q316.327 1482.55 318.133 1479.01 Q319.961 1475.44 319.961 1468.33 Q319.961 1461.2 318.133 1457.66 Q316.327 1454.1 312.693 1454.1 M312.693 1450.39 Q318.503 1450.39 321.559 1455 Q324.637 1459.58 324.637 1468.33 Q324.637 1477.06 321.559 1481.67 Q318.503 1486.25 312.693 1486.25 Q306.883 1486.25 303.804 1481.67 Q300.748 1477.06 300.748 1468.33 Q300.748 1459.58 303.804 1455 Q306.883 1450.39 312.693 1450.39 Z\" fill=\"#000000\" fill-rule=\"nonzero\" fill-opacity=\"1\" /><path clip-path=\"url(#clip600)\" d=\"M449.916 1454.1 Q446.305 1454.1 444.476 1457.66 Q442.671 1461.2 442.671 1468.33 Q442.671 1475.44 444.476 1479.01 Q446.305 1482.55 449.916 1482.55 Q453.55 1482.55 455.356 1479.01 Q457.184 1475.44 457.184 1468.33 Q457.184 1461.2 455.356 1457.66 Q453.55 1454.1 449.916 1454.1 M449.916 1450.39 Q455.726 1450.39 458.782 1455 Q461.86 1459.58 461.86 1468.33 Q461.86 1477.06 458.782 1481.67 Q455.726 1486.25 449.916 1486.25 Q444.106 1486.25 441.027 1481.67 Q437.972 1477.06 437.972 1468.33 Q437.972 1459.58 441.027 1455 Q444.106 1450.39 449.916 1450.39 Z\" fill=\"#000000\" fill-rule=\"nonzero\" fill-opacity=\"1\" /><path clip-path=\"url(#clip600)\" d=\"M470.078 1479.7 L474.962 1479.7 L474.962 1485.58 L470.078 1485.58 L470.078 1479.7 Z\" fill=\"#000000\" fill-rule=\"nonzero\" fill-opacity=\"1\" /><path clip-path=\"url(#clip600)\" d=\"M489.175 1481.64 L505.494 1481.64 L505.494 1485.58 L483.55 1485.58 L483.55 1481.64 Q486.212 1478.89 490.795 1474.26 Q495.402 1469.61 496.582 1468.27 Q498.828 1465.74 499.707 1464.01 Q500.61 1462.25 500.61 1460.56 Q500.61 1457.8 498.666 1456.07 Q496.744 1454.33 493.643 1454.33 Q491.444 1454.33 488.99 1455.09 Q486.559 1455.86 483.782 1457.41 L483.782 1452.69 Q486.606 1451.55 489.059 1450.97 Q491.513 1450.39 493.55 1450.39 Q498.92 1450.39 502.115 1453.08 Q505.309 1455.77 505.309 1460.26 Q505.309 1462.39 504.499 1464.31 Q503.712 1466.2 501.606 1468.8 Q501.027 1469.47 497.925 1472.69 Q494.823 1475.88 489.175 1481.64 Z\" fill=\"#000000\" fill-rule=\"nonzero\" fill-opacity=\"1\" /><path clip-path=\"url(#clip600)\" d=\"M515.355 1451.02 L533.712 1451.02 L533.712 1454.96 L519.638 1454.96 L519.638 1463.43 Q520.656 1463.08 521.675 1462.92 Q522.693 1462.73 523.712 1462.73 Q529.499 1462.73 532.879 1465.9 Q536.258 1469.08 536.258 1474.49 Q536.258 1480.07 532.786 1483.17 Q529.314 1486.25 522.994 1486.25 Q520.818 1486.25 518.55 1485.88 Q516.305 1485.51 513.897 1484.77 L513.897 1480.07 Q515.98 1481.2 518.203 1481.76 Q520.425 1482.32 522.902 1482.32 Q526.906 1482.32 529.244 1480.21 Q531.582 1478.1 531.582 1474.49 Q531.582 1470.88 529.244 1468.77 Q526.906 1466.67 522.902 1466.67 Q521.027 1466.67 519.152 1467.08 Q517.3 1467.5 515.355 1468.38 L515.355 1451.02 Z\" fill=\"#000000\" fill-rule=\"nonzero\" fill-opacity=\"1\" /><path clip-path=\"url(#clip600)\" d=\"M661.537 1454.1 Q657.926 1454.1 656.097 1457.66 Q654.292 1461.2 654.292 1468.33 Q654.292 1475.44 656.097 1479.01 Q657.926 1482.55 661.537 1482.55 Q665.171 1482.55 666.977 1479.01 Q668.805 1475.44 668.805 1468.33 Q668.805 1461.2 666.977 1457.66 Q665.171 1454.1 661.537 1454.1 M661.537 1450.39 Q667.347 1450.39 670.403 1455 Q673.481 1459.58 673.481 1468.33 Q673.481 1477.06 670.403 1481.67 Q667.347 1486.25 661.537 1486.25 Q655.727 1486.25 652.648 1481.67 Q649.593 1477.06 649.593 1468.33 Q649.593 1459.58 652.648 1455 Q655.727 1450.39 661.537 1450.39 Z\" fill=\"#000000\" fill-rule=\"nonzero\" fill-opacity=\"1\" /><path clip-path=\"url(#clip600)\" d=\"M681.699 1479.7 L686.583 1479.7 L686.583 1485.58 L681.699 1485.58 L681.699 1479.7 Z\" fill=\"#000000\" fill-rule=\"nonzero\" fill-opacity=\"1\" /><path clip-path=\"url(#clip600)\" d=\"M696.815 1451.02 L715.171 1451.02 L715.171 1454.96 L701.097 1454.96 L701.097 1463.43 Q702.115 1463.08 703.134 1462.92 Q704.152 1462.73 705.171 1462.73 Q710.958 1462.73 714.338 1465.9 Q717.717 1469.08 717.717 1474.49 Q717.717 1480.07 714.245 1483.17 Q710.773 1486.25 704.453 1486.25 Q702.277 1486.25 700.009 1485.88 Q697.764 1485.51 695.356 1484.77 L695.356 1480.07 Q697.439 1481.2 699.662 1481.76 Q701.884 1482.32 704.361 1482.32 Q708.365 1482.32 710.703 1480.21 Q713.041 1478.1 713.041 1474.49 Q713.041 1470.88 710.703 1468.77 Q708.365 1466.67 704.361 1466.67 Q702.486 1466.67 700.611 1467.08 Q698.759 1467.5 696.815 1468.38 L696.815 1451.02 Z\" fill=\"#000000\" fill-rule=\"nonzero\" fill-opacity=\"1\" /><path clip-path=\"url(#clip600)\" d=\"M736.93 1454.1 Q733.319 1454.1 731.49 1457.66 Q729.685 1461.2 729.685 1468.33 Q729.685 1475.44 731.49 1479.01 Q733.319 1482.55 736.93 1482.55 Q740.564 1482.55 742.37 1479.01 Q744.199 1475.44 744.199 1468.33 Q744.199 1461.2 742.37 1457.66 Q740.564 1454.1 736.93 1454.1 M736.93 1450.39 Q742.74 1450.39 745.796 1455 Q748.874 1459.58 748.874 1468.33 Q748.874 1477.06 745.796 1481.67 Q742.74 1486.25 736.93 1486.25 Q731.12 1486.25 728.041 1481.67 Q724.986 1477.06 724.986 1468.33 Q724.986 1459.58 728.041 1455 Q731.12 1450.39 736.93 1450.39 Z\" fill=\"#000000\" fill-rule=\"nonzero\" fill-opacity=\"1\" /><path clip-path=\"url(#clip600)\" d=\"M874.153 1454.1 Q870.542 1454.1 868.713 1457.66 Q866.908 1461.2 866.908 1468.33 Q866.908 1475.44 868.713 1479.01 Q870.542 1482.55 874.153 1482.55 Q877.787 1482.55 879.593 1479.01 Q881.422 1475.44 881.422 1468.33 Q881.422 1461.2 879.593 1457.66 Q877.787 1454.1 874.153 1454.1 M874.153 1450.39 Q879.963 1450.39 883.019 1455 Q886.098 1459.58 886.098 1468.33 Q886.098 1477.06 883.019 1481.67 Q879.963 1486.25 874.153 1486.25 Q868.343 1486.25 865.264 1481.67 Q862.209 1477.06 862.209 1468.33 Q862.209 1459.58 865.264 1455 Q868.343 1450.39 874.153 1450.39 Z\" fill=\"#000000\" fill-rule=\"nonzero\" fill-opacity=\"1\" /><path clip-path=\"url(#clip600)\" d=\"M894.315 1479.7 L899.199 1479.7 L899.199 1485.58 L894.315 1485.58 L894.315 1479.7 Z\" fill=\"#000000\" fill-rule=\"nonzero\" fill-opacity=\"1\" /><path clip-path=\"url(#clip600)\" d=\"M908.204 1451.02 L930.426 1451.02 L930.426 1453.01 L917.88 1485.58 L912.996 1485.58 L924.801 1454.96 L908.204 1454.96 L908.204 1451.02 Z\" fill=\"#000000\" fill-rule=\"nonzero\" fill-opacity=\"1\" /><path clip-path=\"url(#clip600)\" d=\"M939.593 1451.02 L957.949 1451.02 L957.949 1454.96 L943.875 1454.96 L943.875 1463.43 Q944.894 1463.08 945.912 1462.92 Q946.931 1462.73 947.949 1462.73 Q953.736 1462.73 957.116 1465.9 Q960.495 1469.08 960.495 1474.49 Q960.495 1480.07 957.023 1483.17 Q953.551 1486.25 947.232 1486.25 Q945.056 1486.25 942.787 1485.88 Q940.542 1485.51 938.134 1484.77 L938.134 1480.07 Q940.218 1481.2 942.44 1481.76 Q944.662 1482.32 947.139 1482.32 Q951.144 1482.32 953.481 1480.21 Q955.819 1478.1 955.819 1474.49 Q955.819 1470.88 953.481 1468.77 Q951.144 1466.67 947.139 1466.67 Q945.264 1466.67 943.389 1467.08 Q941.537 1467.5 939.593 1468.38 L939.593 1451.02 Z\" fill=\"#000000\" fill-rule=\"nonzero\" fill-opacity=\"1\" /><path clip-path=\"url(#clip600)\" d=\"M1075.54 1481.64 L1083.18 1481.64 L1083.18 1455.28 L1074.87 1456.95 L1074.87 1452.69 L1083.14 1451.02 L1087.81 1451.02 L1087.81 1481.64 L1095.45 1481.64 L1095.45 1485.58 L1075.54 1485.58 L1075.54 1481.64 Z\" fill=\"#000000\" fill-rule=\"nonzero\" fill-opacity=\"1\" /><path clip-path=\"url(#clip600)\" d=\"M1104.89 1479.7 L1109.78 1479.7 L1109.78 1485.58 L1104.89 1485.58 L1104.89 1479.7 Z\" fill=\"#000000\" fill-rule=\"nonzero\" fill-opacity=\"1\" /><path clip-path=\"url(#clip600)\" d=\"M1129.96 1454.1 Q1126.35 1454.1 1124.52 1457.66 Q1122.72 1461.2 1122.72 1468.33 Q1122.72 1475.44 1124.52 1479.01 Q1126.35 1482.55 1129.96 1482.55 Q1133.6 1482.55 1135.4 1479.01 Q1137.23 1475.44 1137.23 1468.33 Q1137.23 1461.2 1135.4 1457.66 Q1133.6 1454.1 1129.96 1454.1 M1129.96 1450.39 Q1135.77 1450.39 1138.83 1455 Q1141.91 1459.58 1141.91 1468.33 Q1141.91 1477.06 1138.83 1481.67 Q1135.77 1486.25 1129.96 1486.25 Q1124.15 1486.25 1121.07 1481.67 Q1118.02 1477.06 1118.02 1468.33 Q1118.02 1459.58 1121.07 1455 Q1124.15 1450.39 1129.96 1450.39 Z\" fill=\"#000000\" fill-rule=\"nonzero\" fill-opacity=\"1\" /><path clip-path=\"url(#clip600)\" d=\"M1160.13 1454.1 Q1156.51 1454.1 1154.69 1457.66 Q1152.88 1461.2 1152.88 1468.33 Q1152.88 1475.44 1154.69 1479.01 Q1156.51 1482.55 1160.13 1482.55 Q1163.76 1482.55 1165.57 1479.01 Q1167.39 1475.44 1167.39 1468.33 Q1167.39 1461.2 1165.57 1457.66 Q1163.76 1454.1 1160.13 1454.1 M1160.13 1450.39 Q1165.94 1450.39 1168.99 1455 Q1172.07 1459.58 1172.07 1468.33 Q1172.07 1477.06 1168.99 1481.67 Q1165.94 1486.25 1160.13 1486.25 Q1154.32 1486.25 1151.24 1481.67 Q1148.18 1477.06 1148.18 1468.33 Q1148.18 1459.58 1151.24 1455 Q1154.32 1450.39 1160.13 1450.39 Z\" fill=\"#000000\" fill-rule=\"nonzero\" fill-opacity=\"1\" /><path clip-path=\"url(#clip600)\" d=\"M715.848 1532.4 L702.957 1549.74 L716.516 1568.04 L709.61 1568.04 L699.233 1554.04 L688.857 1568.04 L681.951 1568.04 L695.796 1549.39 L683.128 1532.4 L690.035 1532.4 L699.488 1545.1 L708.941 1532.4 L715.848 1532.4 Z\" fill=\"#000000\" fill-rule=\"nonzero\" fill-opacity=\"1\" /><polyline clip-path=\"url(#clip602)\" style=\"stroke:#000000; stroke-linecap:round; stroke-linejoin:round; stroke-width:2; stroke-opacity:0.1; fill:none\" points=\"249.542,1384.24 1148.92,1384.24 \"/>\n",
       "<polyline clip-path=\"url(#clip602)\" style=\"stroke:#000000; stroke-linecap:round; stroke-linejoin:round; stroke-width:2; stroke-opacity:0.1; fill:none\" points=\"249.542,1059.73 1148.92,1059.73 \"/>\n",
       "<polyline clip-path=\"url(#clip602)\" style=\"stroke:#000000; stroke-linecap:round; stroke-linejoin:round; stroke-width:2; stroke-opacity:0.1; fill:none\" points=\"249.542,735.212 1148.92,735.212 \"/>\n",
       "<polyline clip-path=\"url(#clip602)\" style=\"stroke:#000000; stroke-linecap:round; stroke-linejoin:round; stroke-width:2; stroke-opacity:0.1; fill:none\" points=\"249.542,410.699 1148.92,410.699 \"/>\n",
       "<polyline clip-path=\"url(#clip602)\" style=\"stroke:#000000; stroke-linecap:round; stroke-linejoin:round; stroke-width:2; stroke-opacity:0.1; fill:none\" points=\"249.542,86.1857 1148.92,86.1857 \"/>\n",
       "<polyline clip-path=\"url(#clip600)\" style=\"stroke:#000000; stroke-linecap:round; stroke-linejoin:round; stroke-width:4; stroke-opacity:1; fill:none\" points=\"249.542,1423.18 249.542,47.2441 \"/>\n",
       "<polyline clip-path=\"url(#clip600)\" style=\"stroke:#000000; stroke-linecap:round; stroke-linejoin:round; stroke-width:4; stroke-opacity:1; fill:none\" points=\"249.542,1384.24 268.44,1384.24 \"/>\n",
       "<polyline clip-path=\"url(#clip600)\" style=\"stroke:#000000; stroke-linecap:round; stroke-linejoin:round; stroke-width:4; stroke-opacity:1; fill:none\" points=\"249.542,1059.73 268.44,1059.73 \"/>\n",
       "<polyline clip-path=\"url(#clip600)\" style=\"stroke:#000000; stroke-linecap:round; stroke-linejoin:round; stroke-width:4; stroke-opacity:1; fill:none\" points=\"249.542,735.212 268.44,735.212 \"/>\n",
       "<polyline clip-path=\"url(#clip600)\" style=\"stroke:#000000; stroke-linecap:round; stroke-linejoin:round; stroke-width:4; stroke-opacity:1; fill:none\" points=\"249.542,410.699 268.44,410.699 \"/>\n",
       "<polyline clip-path=\"url(#clip600)\" style=\"stroke:#000000; stroke-linecap:round; stroke-linejoin:round; stroke-width:4; stroke-opacity:1; fill:none\" points=\"249.542,86.1857 268.44,86.1857 \"/>\n",
       "<path clip-path=\"url(#clip600)\" d=\"M126.205 1370.04 Q122.593 1370.04 120.765 1373.6 Q118.959 1377.14 118.959 1384.27 Q118.959 1391.38 120.765 1394.94 Q122.593 1398.49 126.205 1398.49 Q129.839 1398.49 131.644 1394.94 Q133.473 1391.38 133.473 1384.27 Q133.473 1377.14 131.644 1373.6 Q129.839 1370.04 126.205 1370.04 M126.205 1366.33 Q132.015 1366.33 135.07 1370.94 Q138.149 1375.52 138.149 1384.27 Q138.149 1393 135.07 1397.61 Q132.015 1402.19 126.205 1402.19 Q120.394 1402.19 117.316 1397.61 Q114.26 1393 114.26 1384.27 Q114.26 1375.52 117.316 1370.94 Q120.394 1366.33 126.205 1366.33 Z\" fill=\"#000000\" fill-rule=\"nonzero\" fill-opacity=\"1\" /><path clip-path=\"url(#clip600)\" d=\"M146.366 1395.64 L151.251 1395.64 L151.251 1401.52 L146.366 1401.52 L146.366 1395.64 Z\" fill=\"#000000\" fill-rule=\"nonzero\" fill-opacity=\"1\" /><path clip-path=\"url(#clip600)\" d=\"M171.436 1370.04 Q167.825 1370.04 165.996 1373.6 Q164.19 1377.14 164.19 1384.27 Q164.19 1391.38 165.996 1394.94 Q167.825 1398.49 171.436 1398.49 Q175.07 1398.49 176.876 1394.94 Q178.704 1391.38 178.704 1384.27 Q178.704 1377.14 176.876 1373.6 Q175.07 1370.04 171.436 1370.04 M171.436 1366.33 Q177.246 1366.33 180.301 1370.94 Q183.38 1375.52 183.38 1384.27 Q183.38 1393 180.301 1397.61 Q177.246 1402.19 171.436 1402.19 Q165.626 1402.19 162.547 1397.61 Q159.491 1393 159.491 1384.27 Q159.491 1375.52 162.547 1370.94 Q165.626 1366.33 171.436 1366.33 Z\" fill=\"#000000\" fill-rule=\"nonzero\" fill-opacity=\"1\" /><path clip-path=\"url(#clip600)\" d=\"M201.598 1370.04 Q197.987 1370.04 196.158 1373.6 Q194.352 1377.14 194.352 1384.27 Q194.352 1391.38 196.158 1394.94 Q197.987 1398.49 201.598 1398.49 Q205.232 1398.49 207.037 1394.94 Q208.866 1391.38 208.866 1384.27 Q208.866 1377.14 207.037 1373.6 Q205.232 1370.04 201.598 1370.04 M201.598 1366.33 Q207.408 1366.33 210.463 1370.94 Q213.542 1375.52 213.542 1384.27 Q213.542 1393 210.463 1397.61 Q207.408 1402.19 201.598 1402.19 Q195.787 1402.19 192.709 1397.61 Q189.653 1393 189.653 1384.27 Q189.653 1375.52 192.709 1370.94 Q195.787 1366.33 201.598 1366.33 Z\" fill=\"#000000\" fill-rule=\"nonzero\" fill-opacity=\"1\" /><path clip-path=\"url(#clip600)\" d=\"M127.2 1045.52 Q123.589 1045.52 121.76 1049.09 Q119.955 1052.63 119.955 1059.76 Q119.955 1066.87 121.76 1070.43 Q123.589 1073.97 127.2 1073.97 Q130.834 1073.97 132.64 1070.43 Q134.468 1066.87 134.468 1059.76 Q134.468 1052.63 132.64 1049.09 Q130.834 1045.52 127.2 1045.52 M127.2 1041.82 Q133.01 1041.82 136.066 1046.43 Q139.144 1051.01 139.144 1059.76 Q139.144 1068.49 136.066 1073.09 Q133.01 1077.68 127.2 1077.68 Q121.39 1077.68 118.311 1073.09 Q115.256 1068.49 115.256 1059.76 Q115.256 1051.01 118.311 1046.43 Q121.39 1041.82 127.2 1041.82 Z\" fill=\"#000000\" fill-rule=\"nonzero\" fill-opacity=\"1\" /><path clip-path=\"url(#clip600)\" d=\"M147.362 1071.13 L152.246 1071.13 L152.246 1077.01 L147.362 1077.01 L147.362 1071.13 Z\" fill=\"#000000\" fill-rule=\"nonzero\" fill-opacity=\"1\" /><path clip-path=\"url(#clip600)\" d=\"M166.459 1073.07 L182.778 1073.07 L182.778 1077.01 L160.834 1077.01 L160.834 1073.07 Q163.496 1070.32 168.079 1065.69 Q172.686 1061.03 173.866 1059.69 Q176.112 1057.17 176.991 1055.43 Q177.894 1053.67 177.894 1051.98 Q177.894 1049.23 175.95 1047.49 Q174.028 1045.76 170.927 1045.76 Q168.727 1045.76 166.274 1046.52 Q163.843 1047.28 161.065 1048.83 L161.065 1044.11 Q163.89 1042.98 166.343 1042.4 Q168.797 1041.82 170.834 1041.82 Q176.204 1041.82 179.399 1044.51 Q182.593 1047.19 182.593 1051.68 Q182.593 1053.81 181.783 1055.73 Q180.996 1057.63 178.889 1060.22 Q178.311 1060.89 175.209 1064.11 Q172.107 1067.31 166.459 1073.07 Z\" fill=\"#000000\" fill-rule=\"nonzero\" fill-opacity=\"1\" /><path clip-path=\"url(#clip600)\" d=\"M192.639 1042.45 L210.996 1042.45 L210.996 1046.38 L196.922 1046.38 L196.922 1054.85 Q197.94 1054.51 198.959 1054.34 Q199.977 1054.16 200.996 1054.16 Q206.783 1054.16 210.162 1057.33 Q213.542 1060.5 213.542 1065.92 Q213.542 1071.5 210.07 1074.6 Q206.598 1077.68 200.278 1077.68 Q198.102 1077.68 195.834 1077.31 Q193.588 1076.94 191.181 1076.19 L191.181 1071.5 Q193.264 1072.63 195.487 1073.19 Q197.709 1073.74 200.186 1073.74 Q204.19 1073.74 206.528 1071.63 Q208.866 1069.53 208.866 1065.92 Q208.866 1062.31 206.528 1060.2 Q204.19 1058.09 200.186 1058.09 Q198.311 1058.09 196.436 1058.51 Q194.584 1058.93 192.639 1059.81 L192.639 1042.45 Z\" fill=\"#000000\" fill-rule=\"nonzero\" fill-opacity=\"1\" /><path clip-path=\"url(#clip600)\" d=\"M126.205 721.011 Q122.593 721.011 120.765 724.575 Q118.959 728.117 118.959 735.247 Q118.959 742.353 120.765 745.918 Q122.593 749.46 126.205 749.46 Q129.839 749.46 131.644 745.918 Q133.473 742.353 133.473 735.247 Q133.473 728.117 131.644 724.575 Q129.839 721.011 126.205 721.011 M126.205 717.307 Q132.015 717.307 135.07 721.913 Q138.149 726.497 138.149 735.247 Q138.149 743.973 135.07 748.58 Q132.015 753.163 126.205 753.163 Q120.394 753.163 117.316 748.58 Q114.26 743.973 114.26 735.247 Q114.26 726.497 117.316 721.913 Q120.394 717.307 126.205 717.307 Z\" fill=\"#000000\" fill-rule=\"nonzero\" fill-opacity=\"1\" /><path clip-path=\"url(#clip600)\" d=\"M146.366 746.612 L151.251 746.612 L151.251 752.492 L146.366 752.492 L146.366 746.612 Z\" fill=\"#000000\" fill-rule=\"nonzero\" fill-opacity=\"1\" /><path clip-path=\"url(#clip600)\" d=\"M161.482 717.932 L179.839 717.932 L179.839 721.867 L165.765 721.867 L165.765 730.339 Q166.783 729.992 167.802 729.83 Q168.82 729.645 169.839 729.645 Q175.626 729.645 179.005 732.816 Q182.385 735.987 182.385 741.404 Q182.385 746.983 178.913 750.085 Q175.44 753.163 169.121 753.163 Q166.945 753.163 164.677 752.793 Q162.431 752.423 160.024 751.682 L160.024 746.983 Q162.107 748.117 164.329 748.673 Q166.552 749.228 169.028 749.228 Q173.033 749.228 175.371 747.122 Q177.709 745.015 177.709 741.404 Q177.709 737.793 175.371 735.687 Q173.033 733.58 169.028 733.58 Q167.153 733.58 165.278 733.997 Q163.427 734.413 161.482 735.293 L161.482 717.932 Z\" fill=\"#000000\" fill-rule=\"nonzero\" fill-opacity=\"1\" /><path clip-path=\"url(#clip600)\" d=\"M201.598 721.011 Q197.987 721.011 196.158 724.575 Q194.352 728.117 194.352 735.247 Q194.352 742.353 196.158 745.918 Q197.987 749.46 201.598 749.46 Q205.232 749.46 207.037 745.918 Q208.866 742.353 208.866 735.247 Q208.866 728.117 207.037 724.575 Q205.232 721.011 201.598 721.011 M201.598 717.307 Q207.408 717.307 210.463 721.913 Q213.542 726.497 213.542 735.247 Q213.542 743.973 210.463 748.58 Q207.408 753.163 201.598 753.163 Q195.787 753.163 192.709 748.58 Q189.653 743.973 189.653 735.247 Q189.653 726.497 192.709 721.913 Q195.787 717.307 201.598 717.307 Z\" fill=\"#000000\" fill-rule=\"nonzero\" fill-opacity=\"1\" /><path clip-path=\"url(#clip600)\" d=\"M127.2 396.498 Q123.589 396.498 121.76 400.062 Q119.955 403.604 119.955 410.734 Q119.955 417.84 121.76 421.405 Q123.589 424.946 127.2 424.946 Q130.834 424.946 132.64 421.405 Q134.468 417.84 134.468 410.734 Q134.468 403.604 132.64 400.062 Q130.834 396.498 127.2 396.498 M127.2 392.794 Q133.01 392.794 136.066 397.4 Q139.144 401.984 139.144 410.734 Q139.144 419.46 136.066 424.067 Q133.01 428.65 127.2 428.65 Q121.39 428.65 118.311 424.067 Q115.256 419.46 115.256 410.734 Q115.256 401.984 118.311 397.4 Q121.39 392.794 127.2 392.794 Z\" fill=\"#000000\" fill-rule=\"nonzero\" fill-opacity=\"1\" /><path clip-path=\"url(#clip600)\" d=\"M147.362 422.099 L152.246 422.099 L152.246 427.979 L147.362 427.979 L147.362 422.099 Z\" fill=\"#000000\" fill-rule=\"nonzero\" fill-opacity=\"1\" /><path clip-path=\"url(#clip600)\" d=\"M161.251 393.419 L183.473 393.419 L183.473 395.41 L170.927 427.979 L166.042 427.979 L177.848 397.354 L161.251 397.354 L161.251 393.419 Z\" fill=\"#000000\" fill-rule=\"nonzero\" fill-opacity=\"1\" /><path clip-path=\"url(#clip600)\" d=\"M192.639 393.419 L210.996 393.419 L210.996 397.354 L196.922 397.354 L196.922 405.826 Q197.94 405.479 198.959 405.317 Q199.977 405.132 200.996 405.132 Q206.783 405.132 210.162 408.303 Q213.542 411.474 213.542 416.891 Q213.542 422.47 210.07 425.571 Q206.598 428.65 200.278 428.65 Q198.102 428.65 195.834 428.28 Q193.588 427.909 191.181 427.169 L191.181 422.47 Q193.264 423.604 195.487 424.159 Q197.709 424.715 200.186 424.715 Q204.19 424.715 206.528 422.608 Q208.866 420.502 208.866 416.891 Q208.866 413.28 206.528 411.173 Q204.19 409.067 200.186 409.067 Q198.311 409.067 196.436 409.484 Q194.584 409.9 192.639 410.78 L192.639 393.419 Z\" fill=\"#000000\" fill-rule=\"nonzero\" fill-opacity=\"1\" /><path clip-path=\"url(#clip600)\" d=\"M117.015 99.5305 L124.654 99.5305 L124.654 73.1649 L116.343 74.8316 L116.343 70.5723 L124.607 68.9057 L129.283 68.9057 L129.283 99.5305 L136.922 99.5305 L136.922 103.466 L117.015 103.466 L117.015 99.5305 Z\" fill=\"#000000\" fill-rule=\"nonzero\" fill-opacity=\"1\" /><path clip-path=\"url(#clip600)\" d=\"M146.366 97.5861 L151.251 97.5861 L151.251 103.466 L146.366 103.466 L146.366 97.5861 Z\" fill=\"#000000\" fill-rule=\"nonzero\" fill-opacity=\"1\" /><path clip-path=\"url(#clip600)\" d=\"M171.436 71.9844 Q167.825 71.9844 165.996 75.5492 Q164.19 79.0908 164.19 86.2204 Q164.19 93.3268 165.996 96.8916 Q167.825 100.433 171.436 100.433 Q175.07 100.433 176.876 96.8916 Q178.704 93.3268 178.704 86.2204 Q178.704 79.0908 176.876 75.5492 Q175.07 71.9844 171.436 71.9844 M171.436 68.2807 Q177.246 68.2807 180.301 72.8871 Q183.38 77.4704 183.38 86.2204 Q183.38 94.9472 180.301 99.5537 Q177.246 104.137 171.436 104.137 Q165.626 104.137 162.547 99.5537 Q159.491 94.9472 159.491 86.2204 Q159.491 77.4704 162.547 72.8871 Q165.626 68.2807 171.436 68.2807 Z\" fill=\"#000000\" fill-rule=\"nonzero\" fill-opacity=\"1\" /><path clip-path=\"url(#clip600)\" d=\"M201.598 71.9844 Q197.987 71.9844 196.158 75.5492 Q194.352 79.0908 194.352 86.2204 Q194.352 93.3268 196.158 96.8916 Q197.987 100.433 201.598 100.433 Q205.232 100.433 207.037 96.8916 Q208.866 93.3268 208.866 86.2204 Q208.866 79.0908 207.037 75.5492 Q205.232 71.9844 201.598 71.9844 M201.598 68.2807 Q207.408 68.2807 210.463 72.8871 Q213.542 77.4704 213.542 86.2204 Q213.542 94.9472 210.463 99.5537 Q207.408 104.137 201.598 104.137 Q195.787 104.137 192.709 99.5537 Q189.653 94.9472 189.653 86.2204 Q189.653 77.4704 192.709 72.8871 Q195.787 68.2807 201.598 68.2807 Z\" fill=\"#000000\" fill-rule=\"nonzero\" fill-opacity=\"1\" /><path clip-path=\"url(#clip600)\" d=\"M49.9359 795.018 L28.3562 795.018 L28.3562 789.161 L49.7131 789.161 Q54.7739 789.161 57.3202 787.188 Q59.8346 785.215 59.8346 781.268 Q59.8346 776.525 56.8109 773.788 Q53.7872 771.019 48.5673 771.019 L28.3562 771.019 L28.3562 765.163 L64.0042 765.163 L64.0042 771.019 L58.5296 771.019 Q61.7762 773.152 63.3676 775.984 Q64.9272 778.785 64.9272 782.509 Q64.9272 788.652 61.1078 791.835 Q57.2883 795.018 49.9359 795.018 M27.4968 780.281 L27.4968 780.281 Z\" fill=\"#000000\" fill-rule=\"nonzero\" fill-opacity=\"1\" /><path clip-path=\"url(#clip600)\" d=\"M14.5426 739.031 Q21.8632 743.296 29.0246 745.365 Q36.186 747.434 43.5384 747.434 Q50.8908 747.434 58.1159 745.365 Q65.3091 743.265 72.5979 739.031 L72.5979 744.124 Q65.1182 748.898 57.8931 751.285 Q50.668 753.641 43.5384 753.641 Q36.4406 753.641 29.2474 751.285 Q22.0542 748.93 14.5426 744.124 L14.5426 739.031 Z\" fill=\"#000000\" fill-rule=\"nonzero\" fill-opacity=\"1\" /><path clip-path=\"url(#clip600)\" d=\"M28.3562 698.036 L45.7028 710.927 L64.0042 697.368 L64.0042 704.275 L49.9996 714.651 L64.0042 725.027 L64.0042 731.934 L45.3526 718.088 L28.3562 730.756 L28.3562 723.849 L41.0558 714.396 L28.3562 704.943 L28.3562 698.036 Z\" fill=\"#000000\" fill-rule=\"nonzero\" fill-opacity=\"1\" /><path clip-path=\"url(#clip600)\" d=\"M14.5426 690.015 L14.5426 684.923 Q22.0542 680.149 29.2474 677.793 Q36.4406 675.406 43.5384 675.406 Q50.668 675.406 57.8931 677.793 Q65.1182 680.149 72.5979 684.923 L72.5979 690.015 Q65.3091 685.782 58.1159 683.713 Q50.8908 681.613 43.5384 681.613 Q36.186 681.613 29.0246 683.713 Q21.8632 685.782 14.5426 690.015 Z\" fill=\"#000000\" fill-rule=\"nonzero\" fill-opacity=\"1\" /><polyline clip-path=\"url(#clip602)\" style=\"stroke:#009af9; stroke-linecap:round; stroke-linejoin:round; stroke-width:4; stroke-opacity:1; fill:none\" points=\"274.996,86.1857 279.239,87.7208 283.481,89.262 287.723,90.8096 291.966,92.3639 296.208,93.9252 300.45,95.4937 304.693,97.0697 308.935,98.6536 313.178,100.246 317.42,101.846 321.662,103.456 325.905,105.074 330.147,106.702 334.389,108.34 338.632,109.988 342.874,111.646 347.117,113.316 351.359,114.997 355.601,116.689 359.844,118.394 364.086,120.111 368.328,121.841 372.571,123.584 376.813,125.342 381.056,127.113 385.298,128.899 389.54,130.7 393.783,132.517 398.025,134.35 402.267,136.199 406.51,138.066 410.752,139.95 414.995,141.852 419.237,143.773 423.479,145.713 427.722,147.672 431.964,149.652 436.206,151.653 440.449,153.676 444.691,155.72 448.934,157.787 453.176,159.878 457.418,161.992 461.661,164.131 465.903,166.295 470.145,168.485 474.388,170.702 478.63,172.946 482.872,175.218 487.115,177.519 491.357,179.849 495.6,182.21 499.842,184.601 504.084,187.025 508.327,189.48 512.569,191.97 516.811,194.493 521.054,197.051 525.296,199.646 529.539,202.276 533.781,204.945 538.023,207.652 542.266,210.399 546.508,213.185 550.75,216.013 554.993,218.884 559.235,221.797 563.478,224.754 567.72,227.757 571.962,230.806 576.205,233.902 580.447,237.046 584.689,240.239 588.932,243.483 593.174,246.778 597.417,250.125 601.659,253.527 605.901,256.982 610.144,260.494 614.386,264.063 618.628,267.689 622.871,271.375 627.113,275.122 631.356,278.93 635.598,282.802 639.84,286.737 644.083,290.738 648.325,294.805 652.567,298.94 656.81,303.144 661.052,307.419 665.294,311.766 669.537,316.185 673.779,320.679 678.022,325.248 682.264,329.895 686.506,334.619 690.749,339.424 694.991,344.309 699.233,349.276 703.476,354.327 707.718,359.463 711.961,364.686 716.203,369.996 720.445,375.395 724.688,380.884 728.93,386.465 733.172,392.139 737.415,397.908 741.657,403.772 745.9,409.733 750.142,415.793 754.384,421.952 758.627,428.212 762.869,434.575 767.111,441.041 771.354,447.612 775.596,454.289 779.839,461.073 784.081,467.965 788.323,474.967 792.566,482.08 796.808,489.305 801.05,496.643 805.293,504.095 809.535,511.662 813.778,519.345 818.02,527.145 822.262,535.063 826.505,543.1 830.747,551.258 834.989,559.535 839.232,567.934 843.474,576.455 847.716,585.099 851.959,593.867 856.201,602.758 860.444,611.774 864.686,620.915 868.928,630.182 873.171,639.574 877.413,649.092 881.655,658.736 885.898,668.507 890.14,678.404 894.383,688.428 898.625,698.578 902.867,708.855 907.11,719.257 911.352,729.785 915.594,740.439 919.837,751.217 924.079,762.12 928.322,773.147 932.564,784.296 936.806,795.568 941.049,806.962 945.291,818.475 949.533,830.108 953.776,841.859 958.018,853.727 962.261,865.71 966.503,877.808 970.745,890.018 974.988,902.338 979.23,914.768 983.472,927.306 987.715,939.949 991.957,952.695 996.2,965.542 1000.44,978.489 1004.68,991.533 1008.93,1004.67 1013.17,1017.9 1017.41,1031.22 1021.65,1044.63 1025.9,1058.12 1030.14,1071.69 1034.38,1085.34 1038.62,1099.06 1042.87,1112.86 1047.11,1126.73 1051.35,1140.66 1055.59,1154.66 1059.84,1168.71 1064.08,1182.82 1068.32,1196.99 1072.56,1211.2 1076.8,1225.46 1081.05,1239.76 1085.29,1254.1 1089.53,1268.47 1093.77,1282.87 1098.02,1297.3 1102.26,1311.76 1106.5,1326.23 1110.74,1340.72 1114.99,1355.22 1119.23,1369.73 1123.47,1384.24 \"/>\n",
       "<path clip-path=\"url(#clip600)\" d=\"M976.577 196.789 L1118.95 196.789 L1118.95 93.1086 L976.577 93.1086  Z\" fill=\"#ffffff\" fill-rule=\"evenodd\" fill-opacity=\"1\"/>\n",
       "<polyline clip-path=\"url(#clip600)\" style=\"stroke:#000000; stroke-linecap:round; stroke-linejoin:round; stroke-width:4; stroke-opacity:1; fill:none\" points=\"976.577,196.789 1118.95,196.789 1118.95,93.1086 976.577,93.1086 976.577,196.789 \"/>\n",
       "<polyline clip-path=\"url(#clip600)\" style=\"stroke:#009af9; stroke-linecap:round; stroke-linejoin:round; stroke-width:4; stroke-opacity:1; fill:none\" points=\"986.57,144.949 1046.53,144.949 \"/>\n",
       "<path clip-path=\"url(#clip600)\" d=\"M1070.36 164.636 Q1068.56 169.266 1066.85 170.678 Q1065.13 172.09 1062.26 172.09 L1058.86 172.09 L1058.86 168.525 L1061.36 168.525 Q1063.12 168.525 1064.09 167.692 Q1065.06 166.858 1066.24 163.756 L1067.01 161.812 L1056.52 136.303 L1061.04 136.303 L1069.14 156.581 L1077.24 136.303 L1081.75 136.303 L1070.36 164.636 Z\" fill=\"#000000\" fill-rule=\"nonzero\" fill-opacity=\"1\" /><path clip-path=\"url(#clip600)\" d=\"M1089.05 158.293 L1096.68 158.293 L1096.68 131.928 L1088.37 133.595 L1088.37 129.335 L1096.64 127.669 L1101.31 127.669 L1101.31 158.293 L1108.95 158.293 L1108.95 162.229 L1089.05 162.229 L1089.05 158.293 Z\" fill=\"#000000\" fill-rule=\"nonzero\" fill-opacity=\"1\" /><path clip-path=\"url(#clip600)\" d=\"M1453.37 1423.18 L2352.76 1423.18 L2352.76 47.2441 L1453.37 47.2441  Z\" fill=\"#ffffff\" fill-rule=\"evenodd\" fill-opacity=\"1\"/>\n",
       "<defs>\n",
       "  <clipPath id=\"clip603\">\n",
       "    <rect x=\"1453\" y=\"47\" width=\"900\" height=\"1377\"/>\n",
       "  </clipPath>\n",
       "</defs>\n",
       "<polyline clip-path=\"url(#clip603)\" style=\"stroke:#000000; stroke-linecap:round; stroke-linejoin:round; stroke-width:2; stroke-opacity:0.1; fill:none\" points=\"1478.83,1423.18 1478.83,47.2441 \"/>\n",
       "<polyline clip-path=\"url(#clip603)\" style=\"stroke:#000000; stroke-linecap:round; stroke-linejoin:round; stroke-width:2; stroke-opacity:0.1; fill:none\" points=\"1690.95,1423.18 1690.95,47.2441 \"/>\n",
       "<polyline clip-path=\"url(#clip603)\" style=\"stroke:#000000; stroke-linecap:round; stroke-linejoin:round; stroke-width:2; stroke-opacity:0.1; fill:none\" points=\"1903.06,1423.18 1903.06,47.2441 \"/>\n",
       "<polyline clip-path=\"url(#clip603)\" style=\"stroke:#000000; stroke-linecap:round; stroke-linejoin:round; stroke-width:2; stroke-opacity:0.1; fill:none\" points=\"2115.18,1423.18 2115.18,47.2441 \"/>\n",
       "<polyline clip-path=\"url(#clip603)\" style=\"stroke:#000000; stroke-linecap:round; stroke-linejoin:round; stroke-width:2; stroke-opacity:0.1; fill:none\" points=\"2327.3,1423.18 2327.3,47.2441 \"/>\n",
       "<polyline clip-path=\"url(#clip600)\" style=\"stroke:#000000; stroke-linecap:round; stroke-linejoin:round; stroke-width:4; stroke-opacity:1; fill:none\" points=\"1453.37,1423.18 2352.76,1423.18 \"/>\n",
       "<polyline clip-path=\"url(#clip600)\" style=\"stroke:#000000; stroke-linecap:round; stroke-linejoin:round; stroke-width:4; stroke-opacity:1; fill:none\" points=\"1478.83,1423.18 1478.83,1404.28 \"/>\n",
       "<polyline clip-path=\"url(#clip600)\" style=\"stroke:#000000; stroke-linecap:round; stroke-linejoin:round; stroke-width:4; stroke-opacity:1; fill:none\" points=\"1690.95,1423.18 1690.95,1404.28 \"/>\n",
       "<polyline clip-path=\"url(#clip600)\" style=\"stroke:#000000; stroke-linecap:round; stroke-linejoin:round; stroke-width:4; stroke-opacity:1; fill:none\" points=\"1903.06,1423.18 1903.06,1404.28 \"/>\n",
       "<polyline clip-path=\"url(#clip600)\" style=\"stroke:#000000; stroke-linecap:round; stroke-linejoin:round; stroke-width:4; stroke-opacity:1; fill:none\" points=\"2115.18,1423.18 2115.18,1404.28 \"/>\n",
       "<polyline clip-path=\"url(#clip600)\" style=\"stroke:#000000; stroke-linecap:round; stroke-linejoin:round; stroke-width:4; stroke-opacity:1; fill:none\" points=\"2327.3,1423.18 2327.3,1404.28 \"/>\n",
       "<path clip-path=\"url(#clip600)\" d=\"M1441.13 1454.1 Q1437.52 1454.1 1435.69 1457.66 Q1433.89 1461.2 1433.89 1468.33 Q1433.89 1475.44 1435.69 1479.01 Q1437.52 1482.55 1441.13 1482.55 Q1444.76 1482.55 1446.57 1479.01 Q1448.4 1475.44 1448.4 1468.33 Q1448.4 1461.2 1446.57 1457.66 Q1444.76 1454.1 1441.13 1454.1 M1441.13 1450.39 Q1446.94 1450.39 1450 1455 Q1453.08 1459.58 1453.08 1468.33 Q1453.08 1477.06 1450 1481.67 Q1446.94 1486.25 1441.13 1486.25 Q1435.32 1486.25 1432.24 1481.67 Q1429.19 1477.06 1429.19 1468.33 Q1429.19 1459.58 1432.24 1455 Q1435.32 1450.39 1441.13 1450.39 Z\" fill=\"#000000\" fill-rule=\"nonzero\" fill-opacity=\"1\" /><path clip-path=\"url(#clip600)\" d=\"M1461.29 1479.7 L1466.18 1479.7 L1466.18 1485.58 L1461.29 1485.58 L1461.29 1479.7 Z\" fill=\"#000000\" fill-rule=\"nonzero\" fill-opacity=\"1\" /><path clip-path=\"url(#clip600)\" d=\"M1486.36 1454.1 Q1482.75 1454.1 1480.92 1457.66 Q1479.12 1461.2 1479.12 1468.33 Q1479.12 1475.44 1480.92 1479.01 Q1482.75 1482.55 1486.36 1482.55 Q1490 1482.55 1491.8 1479.01 Q1493.63 1475.44 1493.63 1468.33 Q1493.63 1461.2 1491.8 1457.66 Q1490 1454.1 1486.36 1454.1 M1486.36 1450.39 Q1492.17 1450.39 1495.23 1455 Q1498.31 1459.58 1498.31 1468.33 Q1498.31 1477.06 1495.23 1481.67 Q1492.17 1486.25 1486.36 1486.25 Q1480.55 1486.25 1477.47 1481.67 Q1474.42 1477.06 1474.42 1468.33 Q1474.42 1459.58 1477.47 1455 Q1480.55 1450.39 1486.36 1450.39 Z\" fill=\"#000000\" fill-rule=\"nonzero\" fill-opacity=\"1\" /><path clip-path=\"url(#clip600)\" d=\"M1516.52 1454.1 Q1512.91 1454.1 1511.08 1457.66 Q1509.28 1461.2 1509.28 1468.33 Q1509.28 1475.44 1511.08 1479.01 Q1512.91 1482.55 1516.52 1482.55 Q1520.16 1482.55 1521.96 1479.01 Q1523.79 1475.44 1523.79 1468.33 Q1523.79 1461.2 1521.96 1457.66 Q1520.16 1454.1 1516.52 1454.1 M1516.52 1450.39 Q1522.33 1450.39 1525.39 1455 Q1528.47 1459.58 1528.47 1468.33 Q1528.47 1477.06 1525.39 1481.67 Q1522.33 1486.25 1516.52 1486.25 Q1510.71 1486.25 1507.63 1481.67 Q1504.58 1477.06 1504.58 1468.33 Q1504.58 1459.58 1507.63 1455 Q1510.71 1450.39 1516.52 1450.39 Z\" fill=\"#000000\" fill-rule=\"nonzero\" fill-opacity=\"1\" /><path clip-path=\"url(#clip600)\" d=\"M1653.75 1454.1 Q1650.14 1454.1 1648.31 1457.66 Q1646.5 1461.2 1646.5 1468.33 Q1646.5 1475.44 1648.31 1479.01 Q1650.14 1482.55 1653.75 1482.55 Q1657.38 1482.55 1659.19 1479.01 Q1661.02 1475.44 1661.02 1468.33 Q1661.02 1461.2 1659.19 1457.66 Q1657.38 1454.1 1653.75 1454.1 M1653.75 1450.39 Q1659.56 1450.39 1662.61 1455 Q1665.69 1459.58 1665.69 1468.33 Q1665.69 1477.06 1662.61 1481.67 Q1659.56 1486.25 1653.75 1486.25 Q1647.94 1486.25 1644.86 1481.67 Q1641.8 1477.06 1641.8 1468.33 Q1641.8 1459.58 1644.86 1455 Q1647.94 1450.39 1653.75 1450.39 Z\" fill=\"#000000\" fill-rule=\"nonzero\" fill-opacity=\"1\" /><path clip-path=\"url(#clip600)\" d=\"M1673.91 1479.7 L1678.79 1479.7 L1678.79 1485.58 L1673.91 1485.58 L1673.91 1479.7 Z\" fill=\"#000000\" fill-rule=\"nonzero\" fill-opacity=\"1\" /><path clip-path=\"url(#clip600)\" d=\"M1693.01 1481.64 L1709.33 1481.64 L1709.33 1485.58 L1687.38 1485.58 L1687.38 1481.64 Q1690.04 1478.89 1694.63 1474.26 Q1699.23 1469.61 1700.41 1468.27 Q1702.66 1465.74 1703.54 1464.01 Q1704.44 1462.25 1704.44 1460.56 Q1704.44 1457.8 1702.5 1456.07 Q1700.58 1454.33 1697.47 1454.33 Q1695.27 1454.33 1692.82 1455.09 Q1690.39 1455.86 1687.61 1457.41 L1687.61 1452.69 Q1690.44 1451.55 1692.89 1450.97 Q1695.34 1450.39 1697.38 1450.39 Q1702.75 1450.39 1705.95 1453.08 Q1709.14 1455.77 1709.14 1460.26 Q1709.14 1462.39 1708.33 1464.31 Q1707.54 1466.2 1705.44 1468.8 Q1704.86 1469.47 1701.76 1472.69 Q1698.65 1475.88 1693.01 1481.64 Z\" fill=\"#000000\" fill-rule=\"nonzero\" fill-opacity=\"1\" /><path clip-path=\"url(#clip600)\" d=\"M1719.19 1451.02 L1737.54 1451.02 L1737.54 1454.96 L1723.47 1454.96 L1723.47 1463.43 Q1724.49 1463.08 1725.51 1462.92 Q1726.52 1462.73 1727.54 1462.73 Q1733.33 1462.73 1736.71 1465.9 Q1740.09 1469.08 1740.09 1474.49 Q1740.09 1480.07 1736.62 1483.17 Q1733.14 1486.25 1726.83 1486.25 Q1724.65 1486.25 1722.38 1485.88 Q1720.14 1485.51 1717.73 1484.77 L1717.73 1480.07 Q1719.81 1481.2 1722.03 1481.76 Q1724.26 1482.32 1726.73 1482.32 Q1730.74 1482.32 1733.08 1480.21 Q1735.41 1478.1 1735.41 1474.49 Q1735.41 1470.88 1733.08 1468.77 Q1730.74 1466.67 1726.73 1466.67 Q1724.86 1466.67 1722.98 1467.08 Q1721.13 1467.5 1719.19 1468.38 L1719.19 1451.02 Z\" fill=\"#000000\" fill-rule=\"nonzero\" fill-opacity=\"1\" /><path clip-path=\"url(#clip600)\" d=\"M1865.37 1454.1 Q1861.76 1454.1 1859.93 1457.66 Q1858.12 1461.2 1858.12 1468.33 Q1858.12 1475.44 1859.93 1479.01 Q1861.76 1482.55 1865.37 1482.55 Q1869 1482.55 1870.81 1479.01 Q1872.64 1475.44 1872.64 1468.33 Q1872.64 1461.2 1870.81 1457.66 Q1869 1454.1 1865.37 1454.1 M1865.37 1450.39 Q1871.18 1450.39 1874.23 1455 Q1877.31 1459.58 1877.31 1468.33 Q1877.31 1477.06 1874.23 1481.67 Q1871.18 1486.25 1865.37 1486.25 Q1859.56 1486.25 1856.48 1481.67 Q1853.42 1477.06 1853.42 1468.33 Q1853.42 1459.58 1856.48 1455 Q1859.56 1450.39 1865.37 1450.39 Z\" fill=\"#000000\" fill-rule=\"nonzero\" fill-opacity=\"1\" /><path clip-path=\"url(#clip600)\" d=\"M1885.53 1479.7 L1890.41 1479.7 L1890.41 1485.58 L1885.53 1485.58 L1885.53 1479.7 Z\" fill=\"#000000\" fill-rule=\"nonzero\" fill-opacity=\"1\" /><path clip-path=\"url(#clip600)\" d=\"M1900.65 1451.02 L1919 1451.02 L1919 1454.96 L1904.93 1454.96 L1904.93 1463.43 Q1905.95 1463.08 1906.96 1462.92 Q1907.98 1462.73 1909 1462.73 Q1914.79 1462.73 1918.17 1465.9 Q1921.55 1469.08 1921.55 1474.49 Q1921.55 1480.07 1918.08 1483.17 Q1914.6 1486.25 1908.28 1486.25 Q1906.11 1486.25 1903.84 1485.88 Q1901.59 1485.51 1899.19 1484.77 L1899.19 1480.07 Q1901.27 1481.2 1903.49 1481.76 Q1905.71 1482.32 1908.19 1482.32 Q1912.2 1482.32 1914.53 1480.21 Q1916.87 1478.1 1916.87 1474.49 Q1916.87 1470.88 1914.53 1468.77 Q1912.2 1466.67 1908.19 1466.67 Q1906.32 1466.67 1904.44 1467.08 Q1902.59 1467.5 1900.65 1468.38 L1900.65 1451.02 Z\" fill=\"#000000\" fill-rule=\"nonzero\" fill-opacity=\"1\" /><path clip-path=\"url(#clip600)\" d=\"M1940.76 1454.1 Q1937.15 1454.1 1935.32 1457.66 Q1933.52 1461.2 1933.52 1468.33 Q1933.52 1475.44 1935.32 1479.01 Q1937.15 1482.55 1940.76 1482.55 Q1944.4 1482.55 1946.2 1479.01 Q1948.03 1475.44 1948.03 1468.33 Q1948.03 1461.2 1946.2 1457.66 Q1944.4 1454.1 1940.76 1454.1 M1940.76 1450.39 Q1946.57 1450.39 1949.63 1455 Q1952.71 1459.58 1952.71 1468.33 Q1952.71 1477.06 1949.63 1481.67 Q1946.57 1486.25 1940.76 1486.25 Q1934.95 1486.25 1931.87 1481.67 Q1928.82 1477.06 1928.82 1468.33 Q1928.82 1459.58 1931.87 1455 Q1934.95 1450.39 1940.76 1450.39 Z\" fill=\"#000000\" fill-rule=\"nonzero\" fill-opacity=\"1\" /><path clip-path=\"url(#clip600)\" d=\"M2077.98 1454.1 Q2074.37 1454.1 2072.54 1457.66 Q2070.74 1461.2 2070.74 1468.33 Q2070.74 1475.44 2072.54 1479.01 Q2074.37 1482.55 2077.98 1482.55 Q2081.62 1482.55 2083.42 1479.01 Q2085.25 1475.44 2085.25 1468.33 Q2085.25 1461.2 2083.42 1457.66 Q2081.62 1454.1 2077.98 1454.1 M2077.98 1450.39 Q2083.79 1450.39 2086.85 1455 Q2089.93 1459.58 2089.93 1468.33 Q2089.93 1477.06 2086.85 1481.67 Q2083.79 1486.25 2077.98 1486.25 Q2072.17 1486.25 2069.1 1481.67 Q2066.04 1477.06 2066.04 1468.33 Q2066.04 1459.58 2069.1 1455 Q2072.17 1450.39 2077.98 1450.39 Z\" fill=\"#000000\" fill-rule=\"nonzero\" fill-opacity=\"1\" /><path clip-path=\"url(#clip600)\" d=\"M2098.15 1479.7 L2103.03 1479.7 L2103.03 1485.58 L2098.15 1485.58 L2098.15 1479.7 Z\" fill=\"#000000\" fill-rule=\"nonzero\" fill-opacity=\"1\" /><path clip-path=\"url(#clip600)\" d=\"M2112.03 1451.02 L2134.26 1451.02 L2134.26 1453.01 L2121.71 1485.58 L2116.83 1485.58 L2128.63 1454.96 L2112.03 1454.96 L2112.03 1451.02 Z\" fill=\"#000000\" fill-rule=\"nonzero\" fill-opacity=\"1\" /><path clip-path=\"url(#clip600)\" d=\"M2143.42 1451.02 L2161.78 1451.02 L2161.78 1454.96 L2147.71 1454.96 L2147.71 1463.43 Q2148.72 1463.08 2149.74 1462.92 Q2150.76 1462.73 2151.78 1462.73 Q2157.57 1462.73 2160.95 1465.9 Q2164.33 1469.08 2164.33 1474.49 Q2164.33 1480.07 2160.85 1483.17 Q2157.38 1486.25 2151.06 1486.25 Q2148.89 1486.25 2146.62 1485.88 Q2144.37 1485.51 2141.97 1484.77 L2141.97 1480.07 Q2144.05 1481.2 2146.27 1481.76 Q2148.49 1482.32 2150.97 1482.32 Q2154.97 1482.32 2157.31 1480.21 Q2159.65 1478.1 2159.65 1474.49 Q2159.65 1470.88 2157.31 1468.77 Q2154.97 1466.67 2150.97 1466.67 Q2149.09 1466.67 2147.22 1467.08 Q2145.37 1467.5 2143.42 1468.38 L2143.42 1451.02 Z\" fill=\"#000000\" fill-rule=\"nonzero\" fill-opacity=\"1\" /><path clip-path=\"url(#clip600)\" d=\"M2279.37 1481.64 L2287.01 1481.64 L2287.01 1455.28 L2278.7 1456.95 L2278.7 1452.69 L2286.97 1451.02 L2291.64 1451.02 L2291.64 1481.64 L2299.28 1481.64 L2299.28 1485.58 L2279.37 1485.58 L2279.37 1481.64 Z\" fill=\"#000000\" fill-rule=\"nonzero\" fill-opacity=\"1\" /><path clip-path=\"url(#clip600)\" d=\"M2308.73 1479.7 L2313.61 1479.7 L2313.61 1485.58 L2308.73 1485.58 L2308.73 1479.7 Z\" fill=\"#000000\" fill-rule=\"nonzero\" fill-opacity=\"1\" /><path clip-path=\"url(#clip600)\" d=\"M2333.79 1454.1 Q2330.18 1454.1 2328.35 1457.66 Q2326.55 1461.2 2326.55 1468.33 Q2326.55 1475.44 2328.35 1479.01 Q2330.18 1482.55 2333.79 1482.55 Q2337.43 1482.55 2339.23 1479.01 Q2341.06 1475.44 2341.06 1468.33 Q2341.06 1461.2 2339.23 1457.66 Q2337.43 1454.1 2333.79 1454.1 M2333.79 1450.39 Q2339.6 1450.39 2342.66 1455 Q2345.74 1459.58 2345.74 1468.33 Q2345.74 1477.06 2342.66 1481.67 Q2339.6 1486.25 2333.79 1486.25 Q2327.98 1486.25 2324.91 1481.67 Q2321.85 1477.06 2321.85 1468.33 Q2321.85 1459.58 2324.91 1455 Q2327.98 1450.39 2333.79 1450.39 Z\" fill=\"#000000\" fill-rule=\"nonzero\" fill-opacity=\"1\" /><path clip-path=\"url(#clip600)\" d=\"M2363.96 1454.1 Q2360.35 1454.1 2358.52 1457.66 Q2356.71 1461.2 2356.71 1468.33 Q2356.71 1475.44 2358.52 1479.01 Q2360.35 1482.55 2363.96 1482.55 Q2367.59 1482.55 2369.4 1479.01 Q2371.23 1475.44 2371.23 1468.33 Q2371.23 1461.2 2369.4 1457.66 Q2367.59 1454.1 2363.96 1454.1 M2363.96 1450.39 Q2369.77 1450.39 2372.82 1455 Q2375.9 1459.58 2375.9 1468.33 Q2375.9 1477.06 2372.82 1481.67 Q2369.77 1486.25 2363.96 1486.25 Q2358.15 1486.25 2355.07 1481.67 Q2352.01 1477.06 2352.01 1468.33 Q2352.01 1459.58 2355.07 1455 Q2358.15 1450.39 2363.96 1450.39 Z\" fill=\"#000000\" fill-rule=\"nonzero\" fill-opacity=\"1\" /><path clip-path=\"url(#clip600)\" d=\"M1919.68 1532.4 L1906.79 1549.74 L1920.35 1568.04 L1913.44 1568.04 L1903.06 1554.04 L1892.69 1568.04 L1885.78 1568.04 L1899.63 1549.39 L1886.96 1532.4 L1893.87 1532.4 L1903.32 1545.1 L1912.77 1532.4 L1919.68 1532.4 Z\" fill=\"#000000\" fill-rule=\"nonzero\" fill-opacity=\"1\" /><polyline clip-path=\"url(#clip603)\" style=\"stroke:#000000; stroke-linecap:round; stroke-linejoin:round; stroke-width:2; stroke-opacity:0.1; fill:none\" points=\"1453.37,1231.02 2352.76,1231.02 \"/>\n",
       "<polyline clip-path=\"url(#clip603)\" style=\"stroke:#000000; stroke-linecap:round; stroke-linejoin:round; stroke-width:2; stroke-opacity:0.1; fill:none\" points=\"1453.37,906.511 2352.76,906.511 \"/>\n",
       "<polyline clip-path=\"url(#clip603)\" style=\"stroke:#000000; stroke-linecap:round; stroke-linejoin:round; stroke-width:2; stroke-opacity:0.1; fill:none\" points=\"1453.37,581.998 2352.76,581.998 \"/>\n",
       "<polyline clip-path=\"url(#clip603)\" style=\"stroke:#000000; stroke-linecap:round; stroke-linejoin:round; stroke-width:2; stroke-opacity:0.1; fill:none\" points=\"1453.37,257.484 2352.76,257.484 \"/>\n",
       "<polyline clip-path=\"url(#clip600)\" style=\"stroke:#000000; stroke-linecap:round; stroke-linejoin:round; stroke-width:4; stroke-opacity:1; fill:none\" points=\"1453.37,1423.18 1453.37,47.2441 \"/>\n",
       "<polyline clip-path=\"url(#clip600)\" style=\"stroke:#000000; stroke-linecap:round; stroke-linejoin:round; stroke-width:4; stroke-opacity:1; fill:none\" points=\"1453.37,1231.02 1472.27,1231.02 \"/>\n",
       "<polyline clip-path=\"url(#clip600)\" style=\"stroke:#000000; stroke-linecap:round; stroke-linejoin:round; stroke-width:4; stroke-opacity:1; fill:none\" points=\"1453.37,906.511 1472.27,906.511 \"/>\n",
       "<polyline clip-path=\"url(#clip600)\" style=\"stroke:#000000; stroke-linecap:round; stroke-linejoin:round; stroke-width:4; stroke-opacity:1; fill:none\" points=\"1453.37,581.998 1472.27,581.998 \"/>\n",
       "<polyline clip-path=\"url(#clip600)\" style=\"stroke:#000000; stroke-linecap:round; stroke-linejoin:round; stroke-width:4; stroke-opacity:1; fill:none\" points=\"1453.37,257.484 1472.27,257.484 \"/>\n",
       "<path clip-path=\"url(#clip600)\" d=\"M1310.43 1231.48 L1340.1 1231.48 L1340.1 1235.41 L1310.43 1235.41 L1310.43 1231.48 Z\" fill=\"#000000\" fill-rule=\"nonzero\" fill-opacity=\"1\" /><path clip-path=\"url(#clip600)\" d=\"M1354.23 1244.37 L1370.54 1244.37 L1370.54 1248.3 L1348.6 1248.3 L1348.6 1244.37 Q1351.26 1241.61 1355.85 1236.98 Q1360.45 1232.33 1361.63 1230.99 Q1363.88 1228.47 1364.76 1226.73 Q1365.66 1224.97 1365.66 1223.28 Q1365.66 1220.53 1363.72 1218.79 Q1361.79 1217.05 1358.69 1217.05 Q1356.49 1217.05 1354.04 1217.82 Q1351.61 1218.58 1348.83 1220.13 L1348.83 1215.41 Q1351.66 1214.28 1354.11 1213.7 Q1356.56 1213.12 1358.6 1213.12 Q1363.97 1213.12 1367.16 1215.8 Q1370.36 1218.49 1370.36 1222.98 Q1370.36 1225.11 1369.55 1227.03 Q1368.76 1228.93 1366.66 1231.52 Q1366.08 1232.19 1362.98 1235.41 Q1359.87 1238.6 1354.23 1244.37 Z\" fill=\"#000000\" fill-rule=\"nonzero\" fill-opacity=\"1\" /><path clip-path=\"url(#clip600)\" d=\"M1380.36 1242.42 L1385.24 1242.42 L1385.24 1248.3 L1380.36 1248.3 L1380.36 1242.42 Z\" fill=\"#000000\" fill-rule=\"nonzero\" fill-opacity=\"1\" /><path clip-path=\"url(#clip600)\" d=\"M1405.43 1216.82 Q1401.82 1216.82 1399.99 1220.39 Q1398.18 1223.93 1398.18 1231.06 Q1398.18 1238.17 1399.99 1241.73 Q1401.82 1245.27 1405.43 1245.27 Q1409.06 1245.27 1410.87 1241.73 Q1412.7 1238.17 1412.7 1231.06 Q1412.7 1223.93 1410.87 1220.39 Q1409.06 1216.82 1405.43 1216.82 M1405.43 1213.12 Q1411.24 1213.12 1414.29 1217.73 Q1417.37 1222.31 1417.37 1231.06 Q1417.37 1239.79 1414.29 1244.39 Q1411.24 1248.98 1405.43 1248.98 Q1399.62 1248.98 1396.54 1244.39 Q1393.48 1239.79 1393.48 1231.06 Q1393.48 1222.31 1396.54 1217.73 Q1399.62 1213.12 1405.43 1213.12 Z\" fill=\"#000000\" fill-rule=\"nonzero\" fill-opacity=\"1\" /><path clip-path=\"url(#clip600)\" d=\"M1311.42 906.962 L1341.1 906.962 L1341.1 910.897 L1311.42 910.897 L1311.42 906.962 Z\" fill=\"#000000\" fill-rule=\"nonzero\" fill-opacity=\"1\" /><path clip-path=\"url(#clip600)\" d=\"M1352 919.856 L1359.64 919.856 L1359.64 893.49 L1351.33 895.157 L1351.33 890.897 L1359.6 889.231 L1364.27 889.231 L1364.27 919.856 L1371.91 919.856 L1371.91 923.791 L1352 923.791 L1352 919.856 Z\" fill=\"#000000\" fill-rule=\"nonzero\" fill-opacity=\"1\" /><path clip-path=\"url(#clip600)\" d=\"M1381.35 917.911 L1386.24 917.911 L1386.24 923.791 L1381.35 923.791 L1381.35 917.911 Z\" fill=\"#000000\" fill-rule=\"nonzero\" fill-opacity=\"1\" /><path clip-path=\"url(#clip600)\" d=\"M1396.47 889.231 L1414.83 889.231 L1414.83 893.166 L1400.75 893.166 L1400.75 901.638 Q1401.77 901.291 1402.79 901.129 Q1403.81 900.944 1404.83 900.944 Q1410.61 900.944 1413.99 904.115 Q1417.37 907.286 1417.37 912.703 Q1417.37 918.282 1413.9 921.383 Q1410.43 924.462 1404.11 924.462 Q1401.93 924.462 1399.66 924.092 Q1397.42 923.721 1395.01 922.981 L1395.01 918.282 Q1397.1 919.416 1399.32 919.971 Q1401.54 920.527 1404.02 920.527 Q1408.02 920.527 1410.36 918.42 Q1412.7 916.314 1412.7 912.703 Q1412.7 909.092 1410.36 906.985 Q1408.02 904.879 1404.02 904.879 Q1402.14 904.879 1400.27 905.296 Q1398.41 905.712 1396.47 906.592 L1396.47 889.231 Z\" fill=\"#000000\" fill-rule=\"nonzero\" fill-opacity=\"1\" /><path clip-path=\"url(#clip600)\" d=\"M1310.43 582.449 L1340.1 582.449 L1340.1 586.384 L1310.43 586.384 L1310.43 582.449 Z\" fill=\"#000000\" fill-rule=\"nonzero\" fill-opacity=\"1\" /><path clip-path=\"url(#clip600)\" d=\"M1351.01 595.342 L1358.65 595.342 L1358.65 568.977 L1350.34 570.644 L1350.34 566.384 L1358.6 564.718 L1363.28 564.718 L1363.28 595.342 L1370.91 595.342 L1370.91 599.278 L1351.01 599.278 L1351.01 595.342 Z\" fill=\"#000000\" fill-rule=\"nonzero\" fill-opacity=\"1\" /><path clip-path=\"url(#clip600)\" d=\"M1380.36 593.398 L1385.24 593.398 L1385.24 599.278 L1380.36 599.278 L1380.36 593.398 Z\" fill=\"#000000\" fill-rule=\"nonzero\" fill-opacity=\"1\" /><path clip-path=\"url(#clip600)\" d=\"M1405.43 567.796 Q1401.82 567.796 1399.99 571.361 Q1398.18 574.903 1398.18 582.032 Q1398.18 589.139 1399.99 592.704 Q1401.82 596.245 1405.43 596.245 Q1409.06 596.245 1410.87 592.704 Q1412.7 589.139 1412.7 582.032 Q1412.7 574.903 1410.87 571.361 Q1409.06 567.796 1405.43 567.796 M1405.43 564.093 Q1411.24 564.093 1414.29 568.699 Q1417.37 573.282 1417.37 582.032 Q1417.37 590.759 1414.29 595.366 Q1411.24 599.949 1405.43 599.949 Q1399.62 599.949 1396.54 595.366 Q1393.48 590.759 1393.48 582.032 Q1393.48 573.282 1396.54 568.699 Q1399.62 564.093 1405.43 564.093 Z\" fill=\"#000000\" fill-rule=\"nonzero\" fill-opacity=\"1\" /><path clip-path=\"url(#clip600)\" d=\"M1311.42 257.936 L1341.1 257.936 L1341.1 261.871 L1311.42 261.871 L1311.42 257.936 Z\" fill=\"#000000\" fill-rule=\"nonzero\" fill-opacity=\"1\" /><path clip-path=\"url(#clip600)\" d=\"M1361.19 243.283 Q1357.58 243.283 1355.75 246.848 Q1353.95 250.39 1353.95 257.519 Q1353.95 264.626 1355.75 268.19 Q1357.58 271.732 1361.19 271.732 Q1364.83 271.732 1366.63 268.19 Q1368.46 264.626 1368.46 257.519 Q1368.46 250.39 1366.63 246.848 Q1364.83 243.283 1361.19 243.283 M1361.19 239.579 Q1367 239.579 1370.06 244.186 Q1373.14 248.769 1373.14 257.519 Q1373.14 266.246 1370.06 270.852 Q1367 275.436 1361.19 275.436 Q1355.38 275.436 1352.3 270.852 Q1349.25 266.246 1349.25 257.519 Q1349.25 248.769 1352.3 244.186 Q1355.38 239.579 1361.19 239.579 Z\" fill=\"#000000\" fill-rule=\"nonzero\" fill-opacity=\"1\" /><path clip-path=\"url(#clip600)\" d=\"M1381.35 268.885 L1386.24 268.885 L1386.24 274.764 L1381.35 274.764 L1381.35 268.885 Z\" fill=\"#000000\" fill-rule=\"nonzero\" fill-opacity=\"1\" /><path clip-path=\"url(#clip600)\" d=\"M1396.47 240.204 L1414.83 240.204 L1414.83 244.14 L1400.75 244.14 L1400.75 252.612 Q1401.77 252.265 1402.79 252.103 Q1403.81 251.917 1404.83 251.917 Q1410.61 251.917 1413.99 255.089 Q1417.37 258.26 1417.37 263.677 Q1417.37 269.255 1413.9 272.357 Q1410.43 275.436 1404.11 275.436 Q1401.93 275.436 1399.66 275.065 Q1397.42 274.695 1395.01 273.954 L1395.01 269.255 Q1397.1 270.39 1399.32 270.945 Q1401.54 271.501 1404.02 271.501 Q1408.02 271.501 1410.36 269.394 Q1412.7 267.288 1412.7 263.677 Q1412.7 260.065 1410.36 257.959 Q1408.02 255.853 1404.02 255.853 Q1402.14 255.853 1400.27 256.269 Q1398.41 256.686 1396.47 257.566 L1396.47 240.204 Z\" fill=\"#000000\" fill-rule=\"nonzero\" fill-opacity=\"1\" /><path clip-path=\"url(#clip600)\" d=\"M1229.94 841.631 L1210.65 841.631 L1210.65 835.774 L1260.17 835.774 L1260.17 841.631 L1254.83 841.631 Q1258.01 843.477 1259.57 846.309 Q1261.1 849.11 1261.1 853.057 Q1261.1 859.518 1255.94 863.592 Q1250.78 867.635 1242.38 867.635 Q1233.98 867.635 1228.82 863.592 Q1223.67 859.518 1223.67 853.057 Q1223.67 849.11 1225.23 846.309 Q1226.75 843.477 1229.94 841.631 M1242.38 861.587 Q1248.84 861.587 1252.53 858.945 Q1256.19 856.272 1256.19 851.625 Q1256.19 846.978 1252.53 844.304 Q1248.84 841.631 1242.38 841.631 Q1235.92 841.631 1232.26 844.304 Q1228.57 846.978 1228.57 851.625 Q1228.57 856.272 1232.26 858.945 Q1235.92 861.587 1242.38 861.587 Z\" fill=\"#000000\" fill-rule=\"nonzero\" fill-opacity=\"1\" /><path clip-path=\"url(#clip600)\" d=\"M1246.1 824.316 L1224.53 824.316 L1224.53 818.459 L1245.88 818.459 Q1250.94 818.459 1253.49 816.486 Q1256 814.513 1256 810.566 Q1256 805.824 1252.98 803.086 Q1249.96 800.317 1244.74 800.317 L1224.53 800.317 L1224.53 794.461 L1260.17 794.461 L1260.17 800.317 L1254.7 800.317 Q1257.95 802.45 1259.54 805.282 Q1261.1 808.083 1261.1 811.807 Q1261.1 817.95 1257.28 821.133 Q1253.46 824.316 1246.1 824.316 M1223.67 809.579 L1223.67 809.579 Z\" fill=\"#000000\" fill-rule=\"nonzero\" fill-opacity=\"1\" /><path clip-path=\"url(#clip600)\" d=\"M1212.65 771.99 L1212.65 766.579 L1266.22 783.13 L1266.22 788.541 L1212.65 771.99 Z\" fill=\"#000000\" fill-rule=\"nonzero\" fill-opacity=\"1\" /><path clip-path=\"url(#clip600)\" d=\"M1229.94 736.978 L1210.65 736.978 L1210.65 731.122 L1260.17 731.122 L1260.17 736.978 L1254.83 736.978 Q1258.01 738.825 1259.57 741.657 Q1261.1 744.458 1261.1 748.405 Q1261.1 754.866 1255.94 758.94 Q1250.78 762.982 1242.38 762.982 Q1233.98 762.982 1228.82 758.94 Q1223.67 754.866 1223.67 748.405 Q1223.67 744.458 1225.23 741.657 Q1226.75 738.825 1229.94 736.978 M1242.38 756.935 Q1248.84 756.935 1252.53 754.293 Q1256.19 751.62 1256.19 746.973 Q1256.19 742.326 1252.53 739.652 Q1248.84 736.978 1242.38 736.978 Q1235.92 736.978 1232.26 739.652 Q1228.57 742.326 1228.57 746.973 Q1228.57 751.62 1232.26 754.293 Q1235.92 756.935 1242.38 756.935 Z\" fill=\"#000000\" fill-rule=\"nonzero\" fill-opacity=\"1\" /><path clip-path=\"url(#clip600)\" d=\"M1224.53 689.427 L1241.87 702.317 L1260.17 688.758 L1260.17 695.665 L1246.17 706.041 L1260.17 716.417 L1260.17 723.324 L1241.52 709.479 L1224.53 722.146 L1224.53 715.24 L1237.22 705.786 L1224.53 696.333 L1224.53 689.427 Z\" fill=\"#000000\" fill-rule=\"nonzero\" fill-opacity=\"1\" /><path clip-path=\"url(#clip600)\" d=\"M1210.71 666.415 Q1218.03 670.68 1225.19 672.748 Q1232.36 674.817 1239.71 674.817 Q1247.06 674.817 1254.28 672.748 Q1261.48 670.648 1268.77 666.415 L1268.77 671.507 Q1261.29 676.281 1254.06 678.669 Q1246.84 681.024 1239.71 681.024 Q1232.61 681.024 1225.42 678.669 Q1218.22 676.313 1210.71 671.507 L1210.71 666.415 Z\" fill=\"#000000\" fill-rule=\"nonzero\" fill-opacity=\"1\" /><path clip-path=\"url(#clip600)\" d=\"M1224.53 625.419 L1241.87 638.31 L1260.17 624.751 L1260.17 631.658 L1246.17 642.034 L1260.17 652.41 L1260.17 659.317 L1241.52 645.471 L1224.53 658.139 L1224.53 651.232 L1237.22 641.779 L1224.53 632.326 L1224.53 625.419 Z\" fill=\"#000000\" fill-rule=\"nonzero\" fill-opacity=\"1\" /><path clip-path=\"url(#clip600)\" d=\"M1210.71 617.399 L1210.71 612.306 Q1218.22 607.532 1225.42 605.176 Q1232.61 602.789 1239.71 602.789 Q1246.84 602.789 1254.06 605.176 Q1261.29 607.532 1268.77 612.306 L1268.77 617.399 Q1261.48 613.165 1254.28 611.097 Q1247.06 608.996 1239.71 608.996 Q1232.36 608.996 1225.19 611.097 Q1218.03 613.165 1210.71 617.399 Z\" fill=\"#000000\" fill-rule=\"nonzero\" fill-opacity=\"1\" /><polyline clip-path=\"url(#clip603)\" style=\"stroke:#009af9; stroke-linecap:round; stroke-linejoin:round; stroke-width:4; stroke-opacity:1; fill:none\" points=\"1478.83,86.1857 1483.07,86.7842 1487.31,87.4096 1491.55,88.0626 1495.8,88.7439 1500.04,89.4539 1504.28,90.1936 1508.52,90.9634 1512.77,91.764 1517.01,92.5963 1521.25,93.4609 1525.49,94.3585 1529.74,95.2898 1533.98,96.2557 1538.22,97.2569 1542.46,98.2941 1546.71,99.3682 1550.95,100.48 1555.19,101.63 1559.43,102.82 1563.67,104.05 1567.92,105.321 1572.16,106.633 1576.4,107.989 1580.64,109.389 1584.89,110.833 1589.13,112.323 1593.37,113.859 1597.61,115.443 1601.86,117.076 1606.1,118.758 1610.34,120.491 1614.58,122.275 1618.83,124.113 1623.07,126.004 1627.31,127.949 1631.55,129.951 1635.8,132.01 1640.04,134.127 1644.28,136.304 1648.52,138.541 1652.76,140.84 1657.01,143.202 1661.25,145.628 1665.49,148.119 1669.73,150.677 1673.98,153.303 1678.22,155.998 1682.46,158.764 1686.7,161.601 1690.95,164.512 1695.19,167.497 1699.43,170.557 1703.67,173.695 1707.92,176.911 1712.16,180.207 1716.4,183.584 1720.64,187.044 1724.88,190.587 1729.13,194.217 1733.37,197.933 1737.61,201.737 1741.85,205.631 1746.1,209.617 1750.34,213.695 1754.58,217.867 1758.82,222.134 1763.07,226.499 1767.31,230.962 1771.55,235.525 1775.79,240.189 1780.04,244.956 1784.28,249.827 1788.52,254.804 1792.76,259.888 1797.01,265.081 1801.25,270.384 1805.49,275.797 1809.73,281.324 1813.97,286.965 1818.22,292.721 1822.46,298.593 1826.7,304.584 1830.94,310.694 1835.19,316.925 1839.43,323.278 1843.67,329.753 1847.91,336.352 1852.16,343.077 1856.4,349.928 1860.64,356.906 1864.88,364.012 1869.13,371.248 1873.37,378.614 1877.61,386.11 1881.85,393.738 1886.09,401.498 1890.34,409.391 1894.58,417.418 1898.82,425.578 1903.06,433.873 1907.31,442.302 1911.55,450.866 1915.79,459.565 1920.03,468.399 1924.28,477.368 1928.52,486.471 1932.76,495.709 1937,505.081 1941.25,514.586 1945.49,524.225 1949.73,533.995 1953.97,543.897 1958.22,553.929 1962.46,564.09 1966.7,574.379 1970.94,584.794 1975.18,595.334 1979.43,605.997 1983.67,616.781 1987.91,627.684 1992.15,638.703 1996.4,649.837 2000.64,661.082 2004.88,672.437 2009.12,683.897 2013.37,695.46 2017.61,707.122 2021.85,718.881 2026.09,730.731 2030.34,742.67 2034.58,754.692 2038.82,766.795 2043.06,778.972 2047.31,791.22 2051.55,803.533 2055.79,815.907 2060.03,828.335 2064.27,840.813 2068.52,853.334 2072.76,865.892 2077,878.482 2081.24,891.096 2085.49,903.729 2089.73,916.373 2093.97,929.021 2098.21,941.666 2102.46,954.301 2106.7,966.918 2110.94,979.51 2115.18,992.067 2119.43,1004.58 2123.67,1017.05 2127.91,1029.46 2132.15,1041.8 2136.39,1054.06 2140.64,1066.24 2144.88,1078.33 2149.12,1090.31 2153.36,1102.18 2157.61,1113.93 2161.85,1125.55 2166.09,1137.04 2170.33,1148.37 2174.58,1159.54 2178.82,1170.55 2183.06,1181.37 2187.3,1192.01 2191.55,1202.46 2195.79,1212.7 2200.03,1222.72 2204.27,1232.52 2208.52,1242.09 2212.76,1251.41 2217,1260.49 2221.24,1269.3 2225.48,1277.84 2229.73,1286.11 2233.97,1294.09 2238.21,1301.78 2242.45,1309.17 2246.7,1316.25 2250.94,1323.01 2255.18,1329.45 2259.42,1335.56 2263.67,1341.33 2267.91,1346.76 2272.15,1351.84 2276.39,1356.57 2280.64,1360.94 2284.88,1364.95 2289.12,1368.59 2293.36,1371.85 2297.61,1374.74 2301.85,1377.25 2306.09,1379.38 2310.33,1381.13 2314.57,1382.49 2318.82,1383.46 2323.06,1384.04 2327.3,1384.24 \"/>\n",
       "<path clip-path=\"url(#clip600)\" d=\"M2180.41 196.789 L2322.78 196.789 L2322.78 93.1086 L2180.41 93.1086  Z\" fill=\"#ffffff\" fill-rule=\"evenodd\" fill-opacity=\"1\"/>\n",
       "<polyline clip-path=\"url(#clip600)\" style=\"stroke:#000000; stroke-linecap:round; stroke-linejoin:round; stroke-width:4; stroke-opacity:1; fill:none\" points=\"2180.41,196.789 2322.78,196.789 2322.78,93.1086 2180.41,93.1086 2180.41,196.789 \"/>\n",
       "<polyline clip-path=\"url(#clip600)\" style=\"stroke:#009af9; stroke-linecap:round; stroke-linejoin:round; stroke-width:4; stroke-opacity:1; fill:none\" points=\"2190.4,144.949 2250.36,144.949 \"/>\n",
       "<path clip-path=\"url(#clip600)\" d=\"M2274.2 164.636 Q2272.39 169.266 2270.68 170.678 Q2268.96 172.09 2266.09 172.09 L2262.69 172.09 L2262.69 168.525 L2265.19 168.525 Q2266.95 168.525 2267.92 167.692 Q2268.89 166.858 2270.08 163.756 L2270.84 161.812 L2260.35 136.303 L2264.87 136.303 L2272.97 156.581 L2281.07 136.303 L2285.58 136.303 L2274.2 164.636 Z\" fill=\"#000000\" fill-rule=\"nonzero\" fill-opacity=\"1\" /><path clip-path=\"url(#clip600)\" d=\"M2292.88 158.293 L2300.51 158.293 L2300.51 131.928 L2292.2 133.595 L2292.2 129.335 L2300.47 127.669 L2305.14 127.669 L2305.14 158.293 L2312.78 158.293 L2312.78 162.229 L2292.88 162.229 L2292.88 158.293 Z\" fill=\"#000000\" fill-rule=\"nonzero\" fill-opacity=\"1\" /></svg>\n"
      ]
     },
     "execution_count": 15,
     "metadata": {},
     "output_type": "execute_result"
    }
   ],
   "source": [
    "# plot u(x) and du/dx(x)\n",
    "myv   = [u[1] for u in sol.u]\n",
    "mydv  = [u[2] for u in sol.u]\n",
    "rhog  = [u[3] for u in sol.u]\n",
    "drhog = [u[4] for u in sol.u]\n",
    "p1 = plot(sol.t, myv, xlabel=\"x\", ylabel = \"u(x)\") \n",
    "p2 = plot(sol.t, mydv, xlabel=\"x\", ylabel = \"du/dx(x)\") \n",
    "p3 = plot(sol.t, rhog, xlabel=\"x\", ylabel = \"rho_g(x)\") \n",
    "p4 = plot(sol.t, drhog, xlabel=\"x\", ylabel = \"drho_g(x)\") \n",
    "plot(p1,p2,p3,p4,layout=(2,2))"
   ]
  },
  {
   "cell_type": "markdown",
   "id": "b90fd563",
   "metadata": {},
   "source": [
    "### Section 2.4: Conservation of mass - momentum \n",
    "\n",
    "<b>Problem to solve</b> Given $x \\in \\Omega = (0,1)$ and given the Reynolds number $Re>0$, we intend to solve for the unknown velocity $u(x)$ and pressure $p(x)$ (added stabilization terms in the conservation of mass)\n",
    "\n",
    "$$\n",
    "p''(x) = u'(x) \\text{ (plus boundary conditions) (conservation of momentum)} \n",
    "$$\n",
    "\n",
    "$$\n",
    "u(x) \\, u'(x) = 1/Re \\, u''(x) + f(x) = 1/Re \\, u''(x) - p'(x) \\text{ (plus boundary conditions) (conservation of momentum)}\n",
    "$$\n",
    "\n",
    "supplied with the following boundary conditions. This model can again be implemented using a shooting method.\n",
    "\n",
    "<b>Variational Problem Formulation</b>:"
   ]
  },
  {
   "cell_type": "markdown",
   "id": "e297d28a",
   "metadata": {},
   "source": [
    "### Section 3.4: Conservation of mass - momentum - energy\n",
    "\n",
    "1. add transport equation and source term ((de-)compression of gas) for the energy (enthalpy or temperature) to the previous model; \n",
    "1. add ideal gas law as equation of state; \n",
    "\n",
    "<b>Problem to solve</b> Given $x \\in \\Omega = (0,1)$ and given the Reynolds number $Re>0$, we intend to solve for the unknown velocity $u(x)$, pressure $p(x)$ and enthalpy (added stabilization terms in the conservation of mass)"
   ]
  },
  {
   "cell_type": "markdown",
   "id": "0f61c7e1",
   "metadata": {},
   "source": [
    "## Section 5: One-Dimensional Model with More Realistic Flow Profile \n",
    "1D model for conservation of momentum and hydrogn gas transport"
   ]
  },
  {
   "cell_type": "code",
   "execution_count": 2,
   "id": "b71b6762",
   "metadata": {},
   "outputs": [
    {
     "data": {
      "text/plain": [
       "bc (generic function with 1 method)"
      ]
     },
     "execution_count": 2,
     "metadata": {},
     "output_type": "execute_result"
    }
   ],
   "source": [
    "# set source function \n",
    "src(x) = 1-x  \n",
    "\n",
    "# set right-hand side \n",
    "# u''(x) + u'(x) = f(x) reformulated as \n",
    "# coupled first order system as \n",
    "# u'(x) = v(x) and v'(x) = - f(x) or \n",
    "# du[1] = u[2] and du[2] = - f(x) \n",
    "function rhs!(du, u, p, x)\n",
    "    v = u[1]; dv = u[2]; rhog = u[3]; drhog = u[4]\n",
    "    du[1] = dv \n",
    "    du[2] = v*dv + src(x)\n",
    "    du[3] = drhog\n",
    "    du[4] = v*drhog + src(x)\n",
    "end\n",
    "\n",
    "# set boundary conditions \n",
    "# boundary conditions on the left and right of computational domain \n",
    "# requires explaining syntax \n",
    "function bc(residual, u, p, x)\n",
    "    vleft = 1; vright=0; rhogleft = 1; rhogright=0;\n",
    "    residual[1] = u[1][1] - vleft \n",
    "    residual[2] = u[end][1] - vright\n",
    "    residual[3] = u[1][3] - rhogleft \n",
    "    residual[4] = u[end][3] - rhogright\n",
    "end"
   ]
  },
  {
   "cell_type": "code",
   "execution_count": 3,
   "id": "8dfe05e3",
   "metadata": {},
   "outputs": [
    {
     "name": "stderr",
     "output_type": "stream",
     "text": [
      "\u001b[33m\u001b[1m┌ \u001b[22m\u001b[39m\u001b[33m\u001b[1mWarning: \u001b[22m\u001b[39mBackwards compatability support of the new return codes to Symbols will be deprecated with the Julia v1.9 release. Please see https://docs.sciml.ai/SciMLBase/stable/interfaces/Solutions/#retcodes for more information\n",
      "\u001b[33m\u001b[1m└ \u001b[22m\u001b[39m\u001b[90m@ SciMLBase ~/.julia/packages/SciMLBase/QqtZA/src/retcodes.jl:355\u001b[39m\n"
     ]
    }
   ],
   "source": [
    "# set constants \n",
    "p = [1]\n",
    "\n",
    "# set domain size \n",
    "xspan = (0.,1.)\n",
    "\n",
    "# set initial guess \n",
    "start = [0., 0., 0., 0.]\n",
    "\n",
    "# define and solve the problem \n",
    "bvp = BVProblem(rhs!, bc, start, xspan,p)\n",
    "sol = solve(bvp, MIRK4(), dt = 0.005);"
   ]
  },
  {
   "cell_type": "code",
   "execution_count": 3,
   "id": "89023f7a",
   "metadata": {},
   "outputs": [
    {
     "ename": "LoadError",
     "evalue": "UndefVarError: sol not defined",
     "output_type": "error",
     "traceback": [
      "UndefVarError: sol not defined",
      "",
      "Stacktrace:",
      " [1] top-level scope",
      "   @ In[3]:2"
     ]
    }
   ],
   "source": [
    "# plot u(x) and du/dx(x)\n",
    "myv   = [u[1] for u in sol.u]\n",
    "mydv  = [u[2] for u in sol.u]\n",
    "rhog  = [u[3] for u in sol.u]\n",
    "drhog = [u[4] for u in sol.u]\n",
    "p1 = plot(sol.t, myv, xlabel=\"x\", ylabel = \"u(x)\") \n",
    "p2 = plot(sol.t, mydv, xlabel=\"x\", ylabel = \"du/dx(x)\") \n",
    "p3 = plot(sol.t, rhog, xlabel=\"x\", ylabel = \"rho_g(x)\") \n",
    "p4 = plot(sol.t, drhog, xlabel=\"x\", ylabel = \"drho_g(x)\") \n",
    "plot(p1,p2,p3,p4,layout=(2,2))"
   ]
  },
  {
   "cell_type": "markdown",
   "id": "4f4a39b1",
   "metadata": {},
   "source": [
    "## Section 6: Geometry Modeling and Mesh Generation \n",
    "\n",
    "See seperate notebook [tankAndNozzle](tankAndNozzle.ipynb). "
   ]
  },
  {
   "cell_type": "markdown",
   "id": "e95c2a00",
   "metadata": {},
   "source": [
    "## Section 7: Potential Flow in 2D Cylindrical Reactor\n",
    "\n",
    "Solve Laplace Equation for the velocity potential and post-process for the axial ($u_z(r,z)$) and radial velocity ($u_r(r,z)$) components. Solve the Laplace using the mesh file tankAndNozzle.msh as input. Diffusive terms are neglected.    \n",
    "\n",
    "See seperate notebook [potential_flow.ipynb](potential_flow.ipynb). \n",
    "\n",
    "## Section 8: Stokes Flow in 2D Cylindrical Reactor\n",
    "\n",
    "Solve presssure-velocity coupling using Stokes flow model. Neglect non-linear convective terms. Adapt [Stokes Flow Tutorial](https://ferrite-fem.github.io/Ferrite.jl/stable/tutorials/stokes-flow/) to 2D cylindrical reaction. \n",
    "\n",
    "1. assemble on interior nodes: the 3 blocks (velocity-velocity, velocity-pressure and pressure-velocity) of the Stokes system;\n",
    "1. assemble on the boundary nodes: velocity on the inlet, no-slip on the walls, pressure on the outlet. \n",
    "1. solve the Stokes system using LU decomposition; \n",
    "1. compare with closed tank (no outlet).  \n",
    "\n",
    "## Section 9: Laminar Iso-Thermal Porous Media Flow (Pressure/Velocity) in Reactor \n",
    "\n",
    "The goal of this section is to implement a laminar flow model for the gas phase in the reactor filled with porous material.\n",
    "\n",
    "Adapt [Ferrite Incompressible Navier-Stokes](https://ferrite-fem.github.io/Ferrite.jl/stable/tutorials/ns_vs_diffeq/) to cylindrical reactor geometry and flow conditions;    \n",
    "\n",
    "<b>Assumptions</b>: \n",
    "\n",
    "<b>Problem Formulation</b>: PDE + boundary conditions for inlet (fix velocity), outlet (fix pressure), wall (no slip) and symmetry;  \n",
    "\n",
    "<b>Coding of Set-up Phase</b>: \n",
    "\n",
    "For <b>discretization</b> in space\n",
    "\n",
    "For <b>discretization</b> in time \n",
    "\n",
    "<b>Coding of Set-up Phase</b>:"
   ]
  },
  {
   "cell_type": "markdown",
   "id": "bd1c4417",
   "metadata": {},
   "source": [
    "## Section 10: Solid/Gas Density in 2D Cylindrical Reactor with Porous Material  \n",
    "\n",
    "Extend previous analysis from 1D space (only $x$) to 2D space (both $x$ and $y$). Assume a predefined velocity field for the gas phase velocity. Solve 2 coupled convection-diffusion-reaction equations for $\\rho_s(x,y,t)$ and $\\rho_g(x,y,t)$. \n",
    "1. Adapt [Ferrite Heat Equation Tutorial](https://ferrite-fem.github.io/Ferrite.jl/stable/tutorials/heat_equation/) (steady state) from from one field to be solved to two fields to be solved for;\n",
    "1. Similarly, adapt [transient_heat_equation](https://ferrite-fem.github.io/Ferrite.jl/stable/tutorials/transient_heat_equation/) from from one field to be solved to two fields to be solved for; \n",
    "\n",
    "<b>Assumptions</b>: \n",
    "\n",
    "<b>Problem Formulation</b>:\n",
    "\n",
    "<b>Coding of Set-up Phase</b>: \n",
    "\n",
    "For <b>discretization</b> in space\n",
    "\n",
    "For <b>discretization</b> in time \n",
    "\n",
    "<b>Coding of Set-up Phase</b>:"
   ]
  },
  {
   "cell_type": "markdown",
   "id": "37ac6dd1",
   "metadata": {},
   "source": []
  },
  {
   "cell_type": "markdown",
   "id": "94bf623f",
   "metadata": {},
   "source": [
    "## Section 11: Laminar Non-Iso-Thermal Porous Media Flow in Reactor\n",
    "\n",
    "Add heat effects to the flow field.  \n",
    "\n",
    "<b>Assumptions</b>: \n",
    "\n",
    "<b>Problem Formulation</b>:\n",
    "\n",
    "<b>Coding of Set-up Phase</b>: \n",
    "\n",
    "For <b>discretization</b> in space\n",
    "\n",
    "For <b>discretization</b> in time \n",
    "\n",
    "<b>Coding of Set-up Phase</b>:"
   ]
  },
  {
   "cell_type": "markdown",
   "id": "3a513100",
   "metadata": {},
   "source": [
    "## Section 12: Hydrogen Ab/Desorption in Reactor \n",
    "\n",
    "Ad hydrogen absorption and desorption to the model. \n",
    "\n",
    "<b>Assumptions</b>: \n",
    "\n",
    "<b>Problem Formulation</b>:\n",
    "\n",
    "<b>Coding of Set-up Phase</b>: \n",
    "\n",
    "For <b>discretization</b> in space\n",
    "\n",
    "For <b>discretization</b> in time \n",
    "\n",
    "<b>Coding of Set-up Phase</b>:"
   ]
  },
  {
   "cell_type": "markdown",
   "id": "67b4ec61",
   "metadata": {},
   "source": [
    "## Section 13: Conclusions \n",
    "\n",
    "## References \n",
    "\n",
    "1. Anoushka's work: [HydrogenProject.ipynb](https://github.com/AnouchkaDESMETTRE/HydrogenProject/blob/main/HydrogenProject.ipynb);"
   ]
  },
  {
   "cell_type": "markdown",
   "id": "f83b1a08",
   "metadata": {},
   "source": []
  },
  {
   "cell_type": "code",
   "execution_count": null,
   "id": "0451a0ab",
   "metadata": {},
   "outputs": [],
   "source": []
  },
  {
   "cell_type": "code",
   "execution_count": null,
   "id": "3e196bce",
   "metadata": {},
   "outputs": [],
   "source": []
  },
  {
   "cell_type": "code",
   "execution_count": null,
   "id": "70f4d747",
   "metadata": {},
   "outputs": [],
   "source": []
  }
 ],
 "metadata": {
  "kernelspec": {
   "display_name": "Julia 1.8.1",
   "language": "julia",
   "name": "julia-1.8"
  },
  "language_info": {
   "file_extension": ".jl",
   "mimetype": "application/julia",
   "name": "julia",
   "version": "1.8.1"
  }
 },
 "nbformat": 4,
 "nbformat_minor": 5
}
