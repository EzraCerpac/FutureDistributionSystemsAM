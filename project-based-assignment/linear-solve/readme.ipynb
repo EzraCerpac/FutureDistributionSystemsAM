{
 "cells": [
  {
   "cell_type": "markdown",
   "id": "670cf415",
   "metadata": {},
   "source": [
    "# Adam Research Linear Solvers "
   ]
  },
  {
   "cell_type": "code",
   "execution_count": 1,
   "id": "9a9fd319",
   "metadata": {},
   "outputs": [],
   "source": [
    "using SparseArrays\n",
    "using DelimitedFiles\n",
    "using IterativeSolvers\n",
    "using Preconditioners"
   ]
  },
  {
   "cell_type": "markdown",
   "id": "0202ca10",
   "metadata": {},
   "source": [
    "## Section 1: Introduction \n",
    "\n",
    "The goal of the project is to replace a commercial algebraic multigrid (AMG) code using in an application code by a public domain one. Given previous experience, we will adopt AMG codes available within the PETSc library.  We foresee two approaches: \n",
    "\n",
    "<b>First Approach (intermediate step?)</b> Program in Julia reads linear system from file and solves using [PETSc2.jl](https://www.optimaldesignlab.com/PETSc2.jl/latest/index.html). Possibly easier for students to get acquainted with.  \n",
    "\n",
    "<b>Second Approach (final goal?)</b> Program in Fortran or C reads linear system from file and solves using [PETSc](https://petsc.org). Possibly closer to final application.\n",
    "\n",
    "<img src=\"overview.png\" width=700 />"
   ]
  },
  {
   "cell_type": "markdown",
   "id": "b9eb43a7",
   "metadata": {},
   "source": [
    "## Section 2: Read Data Files from Disk and Convert to Linear System   "
   ]
  },
  {
   "cell_type": "markdown",
   "id": "99f3abb8",
   "metadata": {},
   "source": [
    "### Read RHS vector of size 7103 \n",
    "Skip over first line to skip size information."
   ]
  },
  {
   "cell_type": "code",
   "execution_count": 2,
   "id": "18087ab9",
   "metadata": {},
   "outputs": [],
   "source": [
    "file = open(\"B.dat\", \"r\")\n",
    "b = readdlm(file, Float64, skipstart=1); "
   ]
  },
  {
   "cell_type": "markdown",
   "id": "6cbac8fb",
   "metadata": {},
   "source": [
    "### Read sparse coefficient matrix of size 7103-by-7103 and 44355 non-zero elements from file \n",
    "1. ia is one element longer than problem size. This is because ia[end] - ia[end-1] holds the number of non-zeros of the last row of the coefficient matrix. Read by skipping over one line of row information;\n",
    "1. ja is an integer vector of size 44355. ja contains the column index of the non-zero entries; \n",
    "1. a is a float vector of size 44355. a contains matrix entries. "
   ]
  },
  {
   "cell_type": "code",
   "execution_count": 7,
   "id": "290af394",
   "metadata": {},
   "outputs": [],
   "source": [
    "n = 7103 \n",
    "file = open(\"ia.dat\", \"r\")\n",
    "ia = readdlm(file, Int64, skipstart=1); \n",
    "ia = reduce(vcat,ia)\n",
    "file = open(\"ja.dat\", \"r\")\n",
    "ja = readdlm(file, Int64, skipstart=1); \n",
    "ja = reduce(vcat,ja)\n",
    "file = open(\"A.dat\", \"r\")\n",
    "a = readdlm(file, Float64, skipstart=1)\n",
    "a = reduce(vcat,a);"
   ]
  },
  {
   "cell_type": "code",
   "execution_count": 8,
   "id": "8a011af6",
   "metadata": {},
   "outputs": [
    {
     "data": {
      "text/plain": [
       "7103×7103 SparseMatrixCSC{Float64, Int64} with 44355 stored entries:\n",
       "⎡⠻⣦⡈⠀⠈⠉⠉⠁⠀⠀⠀⠀⠀⠘⢦⡀⠀⠀⠀⠀⠀⠀⠀⠀⠀⠀⠀⠀⠀⠀⠀⠀⠀⠀⠀⠀⠀⠀⠀⠀⎤\n",
       "⎢⠂⠈⠻⣦⡀⠀⠀⠀⠀⠀⠀⠀⠀⠀⠀⠙⢦⡀⠀⠀⠀⠀⠀⠀⠀⠀⠀⠀⠀⠀⠀⠀⠀⠀⠀⠀⠀⠀⠀⠀⎥\n",
       "⎢⡆⠀⠀⠈⠻⣦⡀⠀⠀⠀⠀⠀⠀⠀⠀⠀⠀⠙⢦⡀⠀⠀⠀⠀⠀⠀⠀⠀⠀⠀⠀⠀⠀⠀⠀⠀⠀⠀⠀⠀⎥\n",
       "⎢⠇⠀⠀⠀⠀⠈⠻⣦⡀⠀⠀⠀⠀⠀⠀⠀⠀⠀⠀⠙⢦⡀⠀⠀⠀⠀⠀⠀⠀⠀⠀⠀⠀⠀⠀⠀⠀⠀⠀⠀⎥\n",
       "⎢⠀⠀⠀⠀⠀⠀⠀⠈⠻⣦⡀⠀⠀⠀⠀⠀⠀⠀⠀⠀⠀⠙⢦⡀⠀⠀⠀⠀⠀⠀⠀⠀⠀⠀⠀⠀⠀⠀⠀⠀⎥\n",
       "⎢⠀⠀⠀⠀⠀⠀⠀⠀⠀⠈⠻⣦⡀⠀⠀⠀⠀⠀⠀⠀⠀⠀⠀⠙⢦⡀⠀⠀⠀⠀⠀⠀⠀⠀⠀⠀⠀⠀⠀⠀⎥\n",
       "⎢⣀⠀⠀⠀⠀⠀⠀⠀⠀⠀⠀⠈⠻⢆⡀⠀⠀⠀⠀⠀⠀⠀⠀⠀⠀⠙⢦⡀⠀⠀⠀⠀⠀⠀⠀⠀⠀⠀⠀⠀⎥\n",
       "⎢⠈⠳⣄⠀⠀⠀⠀⠀⠀⠀⠀⠀⠀⠈⠻⣦⡀⠀⠀⠀⠀⠀⠀⠀⠀⠀⠀⠙⢦⡀⠀⠀⠀⠀⠀⠀⠀⠀⠀⠀⎥\n",
       "⎢⠀⠀⠈⠳⣄⠀⠀⠀⠀⠀⠀⠀⠀⠀⠀⠈⠻⣦⡀⠀⠀⠀⠀⠀⠀⠀⠀⠀⠀⠙⢦⡀⠀⠀⠀⠀⠀⠀⠀⠀⎥\n",
       "⎢⠀⠀⠀⠀⠈⠳⣄⠀⠀⠀⠀⠀⠀⠀⠀⠀⠀⠈⠻⣦⡀⠀⠀⠀⠀⠀⠀⠀⠀⠀⠀⠙⢦⡀⠀⠀⠀⠀⠀⠀⎥\n",
       "⎢⠀⠀⠀⠀⠀⠀⠈⠳⣄⠀⠀⠀⠀⠀⠀⠀⠀⠀⠀⠈⠻⣦⡀⠀⠀⠀⠀⠀⠀⠀⠀⠀⠀⠙⢦⡀⠀⠀⠀⠀⎥\n",
       "⎢⠀⠀⠀⠀⠀⠀⠀⠀⠈⠳⣄⠀⠀⠀⠀⠀⠀⠀⠀⠀⠀⠈⠻⣦⡀⠀⠀⠀⠀⠀⠀⠀⠀⠀⠀⠙⢦⡀⠀⠀⎥\n",
       "⎢⠀⠀⠀⠀⠀⠀⠀⠀⠀⠀⠈⠳⣄⠀⠀⠀⠀⠀⠀⠀⠀⠀⠀⠈⠻⣦⡀⠀⠀⠀⠀⠀⠀⠀⠀⠀⠀⠙⢦⡀⎥\n",
       "⎢⠀⠀⠀⠀⠀⠀⠀⠀⠀⠀⠀⠀⠈⠳⣄⠀⠀⠀⠀⠀⠀⠀⠀⠀⠀⠈⠻⣦⡀⠀⠀⠀⠀⠀⠀⠀⠀⠀⠀⠙⎥\n",
       "⎢⠀⠀⠀⠀⠀⠀⠀⠀⠀⠀⠀⠀⠀⠀⠈⠳⣄⠀⠀⠀⠀⠀⠀⠀⠀⠀⠀⠈⠻⣦⡀⠀⠀⠀⠀⠀⠀⠀⠀⠀⎥\n",
       "⎢⠀⠀⠀⠀⠀⠀⠀⠀⠀⠀⠀⠀⠀⠀⠀⠀⠈⠳⣄⠀⠀⠀⠀⠀⠀⠀⠀⠀⠀⠈⠻⣦⡀⠀⠀⠀⠀⠀⠀⠀⎥\n",
       "⎢⠀⠀⠀⠀⠀⠀⠀⠀⠀⠀⠀⠀⠀⠀⠀⠀⠀⠀⠈⠳⣄⠀⠀⠀⠀⠀⠀⠀⠀⠀⠀⠈⠻⣦⡀⠀⠀⠀⠀⠀⎥\n",
       "⎢⠀⠀⠀⠀⠀⠀⠀⠀⠀⠀⠀⠀⠀⠀⠀⠀⠀⠀⠀⠀⠈⠳⣄⠀⠀⠀⠀⠀⠀⠀⠀⠀⠀⠈⠻⣦⡀⠀⠀⠀⎥\n",
       "⎢⠀⠀⠀⠀⠀⠀⠀⠀⠀⠀⠀⠀⠀⠀⠀⠀⠀⠀⠀⠀⠀⠀⠈⠳⣄⠀⠀⠀⠀⠀⠀⠀⠀⠀⠀⠈⠻⣦⡀⠀⎥\n",
       "⎣⠀⠀⠀⠀⠀⠀⠀⠀⠀⠀⠀⠀⠀⠀⠀⠀⠀⠀⠀⠀⠀⠀⠀⠀⠈⠳⣄⠀⠀⠀⠀⠀⠀⠀⠀⠀⠀⠈⠻⣦⎦"
      ]
     },
     "execution_count": 8,
     "metadata": {},
     "output_type": "execute_result"
    }
   ],
   "source": [
    "A = SparseMatrixCSC(n,n,ia,ja,a)"
   ]
  },
  {
   "cell_type": "markdown",
   "id": "9d17e66b",
   "metadata": {},
   "source": [
    "### Read Solution vector (for verification purposes) of size 7103 \n",
    "Again, skip over first line to skip size information."
   ]
  },
  {
   "cell_type": "code",
   "execution_count": 9,
   "id": "dd809645",
   "metadata": {},
   "outputs": [],
   "source": [
    "file = open(\"X.dat\", \"r\")\n",
    "x = readdlm(file, Float64, skipstart=1); "
   ]
  },
  {
   "cell_type": "markdown",
   "id": "19f1aba0",
   "metadata": {},
   "source": [
    "## Section 3: Solve by sparse direct method \n",
    "Do not recover the reference solution. Issue with scaling or boundary conditions. "
   ]
  },
  {
   "cell_type": "code",
   "execution_count": 10,
   "id": "8e5b5a11",
   "metadata": {},
   "outputs": [
    {
     "data": {
      "text/plain": [
       "7103×1 Matrix{Float64}:\n",
       " 1.609350373641022e-5\n",
       " 1.609759074595404e-5\n",
       " 1.6104230636046218e-5\n",
       " 1.6572965332887793e-5\n",
       " 1.6571367875810626e-5\n",
       " 1.6573952247652233e-5\n",
       " 1.6572427907009742e-5\n",
       " 1.6235447973061156e-5\n",
       " 1.6238617237537282e-5\n",
       " 1.624418199461355e-5\n",
       " 1.6576679974280646e-5\n",
       " 1.6576023155036176e-5\n",
       " 1.6580272294414088e-5\n",
       " ⋮\n",
       " 3.0033829434505285e-7\n",
       " 3.004779493612513e-7\n",
       " 3.0061192756879103e-7\n",
       " 3.0075466227768267e-7\n",
       " 3.009226131365465e-7\n",
       " 3.011353773207696e-7\n",
       " 3.014171281235321e-7\n",
       " 3.0179570158989866e-7\n",
       " 3.022929274348417e-7\n",
       " 3.0288900887783957e-7\n",
       " 3.034328642820852e-7\n",
       " 3.0355428535942326e-7"
      ]
     },
     "execution_count": 10,
     "metadata": {},
     "output_type": "execute_result"
    }
   ],
   "source": [
    "myx = A \\ b"
   ]
  },
  {
   "cell_type": "code",
   "execution_count": 11,
   "id": "678c5ecd",
   "metadata": {},
   "outputs": [
    {
     "data": {
      "text/plain": [
       "7103×1 Matrix{Float64}:\n",
       " 2.39049237778038e6\n",
       " 2.3902948838946684e6\n",
       " 2.3898173894958026e6\n",
       " 4.9299293773174435e6\n",
       " 4.939051604434922e6\n",
       " 4.923793629874082e6\n",
       " 4.932766510491893e6\n",
       " 2.1737123792383247e6\n",
       " 2.1737069845332424e6\n",
       " 2.1734988379356707e6\n",
       " 4.903859705836597e6\n",
       " 4.905977436270511e6\n",
       " 4.876365792821687e6\n",
       " ⋮\n",
       " 1.0380052708365831e8\n",
       " 1.036007392045291e8\n",
       " 1.0345539146873803e8\n",
       " 1.033481419121836e8\n",
       " 1.0326669186562625e8\n",
       " 1.0320269887213455e8\n",
       " 1.0315083795448035e8\n",
       " 1.0310789504516332e8\n",
       " 1.0307207723034275e8\n",
       " 1.0304296741560197e8\n",
       " 1.0301891028133456e8\n",
       " 1.0299665207884121e8"
      ]
     },
     "execution_count": 11,
     "metadata": {},
     "output_type": "execute_result"
    }
   ],
   "source": [
    "x ./ myx"
   ]
  },
  {
   "cell_type": "markdown",
   "id": "de3df015",
   "metadata": {},
   "source": [
    "## Section 4: Solve by iterative method "
   ]
  },
  {
   "cell_type": "code",
   "execution_count": 12,
   "id": "04baf73c",
   "metadata": {},
   "outputs": [
    {
     "data": {
      "text/plain": [
       "Not converged after 100000 iterations."
      ]
     },
     "metadata": {},
     "output_type": "display_data"
    }
   ],
   "source": [
    "prec  = AMGPreconditioner{RugeStuben}(A)\n",
    "u, ch = cg(A, b, Pl=prec, maxiter=100000, log=true)\n",
    "\n",
    "display(ch)\n"
   ]
  },
  {
   "cell_type": "code",
   "execution_count": null,
   "id": "52b447a3",
   "metadata": {},
   "outputs": [],
   "source": []
  }
 ],
 "metadata": {
  "kernelspec": {
   "display_name": "Julia 1.10.5",
   "language": "julia",
   "name": "julia-1.10"
  },
  "language_info": {
   "file_extension": ".jl",
   "mimetype": "application/julia",
   "name": "julia",
   "version": "1.10.5"
  }
 },
 "nbformat": 4,
 "nbformat_minor": 5
}
