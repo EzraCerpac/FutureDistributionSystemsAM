{
 "cells": [
  {
   "cell_type": "markdown",
   "metadata": {
    "collapsed": true
   },
   "source": [
    "# 1D FEM: Symbolic Computation of Elementary Stiffness and Mass Matrix "
   ]
  },
  {
   "cell_type": "code",
   "execution_count": 1,
   "metadata": {},
   "outputs": [
    {
     "name": "stdout",
     "output_type": "stream",
     "text": [
      "Succesfully imported numpy -- Version: 1.21.6\n",
      "Succesfully imported scipy -- Version: 1.7.3\n",
      "Succesfully imported sympy -- Version: 1.8\n"
     ]
    }
   ],
   "source": [
    "import numpy as np\n",
    "print(\"Succesfully imported %s -- Version: %s\"%(np.__name__,np.__version__))\n",
    "import scipy\n",
    "print(\"Succesfully imported %s -- Version: %s\"%(scipy.__name__,scipy.__version__))\n",
    "import sympy as sym \n",
    "print(\"Succesfully imported %s -- Version: %s\"%(sym.__name__,sym.__version__))\n",
    "import matplotlib.pyplot as plt"
   ]
  },
  {
   "cell_type": "markdown",
   "metadata": {},
   "source": [
    "## Section 1/: 1D Linear Shape Function"
   ]
  },
  {
   "cell_type": "markdown",
   "metadata": {},
   "source": [
    "### Assume element length 1 and thus no scaling with mesh width"
   ]
  },
  {
   "cell_type": "code",
   "execution_count": 2,
   "metadata": {},
   "outputs": [
    {
     "name": "stdout",
     "output_type": "stream",
     "text": [
      "contribution to the stiffness matrix\n",
      "⎡1   -1⎤\n",
      "⎢      ⎥\n",
      "⎣-1  1 ⎦\n",
      "contribution to the mass matrix\n",
      "⎡1/3  1/6⎤\n",
      "⎢        ⎥\n",
      "⎣1/6  1/3⎦\n"
     ]
    },
    {
     "data": {
      "text/plain": [
       "(None, None)"
      ]
     },
     "execution_count": 2,
     "metadata": {},
     "output_type": "execute_result"
    }
   ],
   "source": [
    "sym.var('x')\n",
    "phi1 = 1-x\n",
    "phi2 = x\n",
    "phi = sym.Matrix([phi1, phi2])\n",
    "dphi = sym.diff(phi, x)\n",
    "A = sym.integrate(dphi*sym.Transpose(dphi), (x, 0.,1))\n",
    "M = sym.integrate(phi*sym.Transpose(phi), (x, 0.,1))\n",
    "print('contribution to the stiffness matrix'), sym.pprint(A)\n",
    "print('contribution to the mass matrix'), sym.pprint(M)"
   ]
  },
  {
   "cell_type": "markdown",
   "metadata": {},
   "source": [
    "### Assume element length h and thus scaling with h "
   ]
  },
  {
   "cell_type": "code",
   "execution_count": 8,
   "metadata": {},
   "outputs": [
    {
     "name": "stdout",
     "output_type": "stream",
     "text": [
      "contribution to the stiffness matrix\n",
      "⎡ 1   -1 ⎤\n",
      "⎢ ─   ───⎥\n",
      "⎢ h    h ⎥\n",
      "⎢        ⎥\n",
      "⎢-1    1 ⎥\n",
      "⎢───   ─ ⎥\n",
      "⎣ h    h ⎦\n",
      "contribution to the mass matrix\n",
      "⎡h  h⎤\n",
      "⎢─  ─⎥\n",
      "⎢3  6⎥\n",
      "⎢    ⎥\n",
      "⎢h  h⎥\n",
      "⎢─  ─⎥\n",
      "⎣6  3⎦\n"
     ]
    },
    {
     "data": {
      "image/png": "[encoded data removed]",
      "text/plain": [
       "<Figure size 432x288 with 1 Axes>"
      ]
     },
     "metadata": {
      "needs_background": "light"
     },
     "output_type": "display_data"
    }
   ],
   "source": [
    "sym.var('x')\n",
    "sym.var('xl')\n",
    "sym.var('h')\n",
    "phi1 = (xl-x)/(h)\n",
    "phi2 = (x-xl-h)/(h)\n",
    "phi = sym.Matrix([phi1, phi2])\n",
    "dphi = sym.diff(phi, x)\n",
    "A = sym.integrate(dphi*sym.Transpose(dphi), (x, xl, xl+h))\n",
    "M = sym.integrate(phi*sym.Transpose(phi), (x, xl, xl+h))\n",
    "print('contribution to the stiffness matrix'), sym.pprint(sym.simplify(A))\n",
    "print('contribution to the mass matrix'), sym.pprint(sym.simplify(M))\n",
    "\n",
    "#..lambdify the symbolic expression \n",
    "phi1_lambda = sym.lambdify((x, xl, h), phi1)\n",
    "phi2_lambda = sym.lambdify((x, xl, h), phi2)\n",
    "\n",
    "#..sample the lambda expression for the computed solution \n",
    "x1 = 0.1\n",
    "x2 = 0.2\n",
    "nsamples = 100 \n",
    "xvec = np.linspace(x1,x2,nsamples)\n",
    "phi1_vec = phi1_lambda(xvec,x1,x2-x1)\n",
    "phi2_vec = phi2_lambda(xvec,x1,x2-x1)\n",
    "\n",
    "#..plot the computed solution \n",
    "plt.plot(xvec,phi1_vec,label='phi1')\n",
    "plt.plot(xvec,phi2_vec,label='phi2')\n",
    "plt.xlabel('x')\n",
    "plt.legend(loc='best')\n",
    "plt.grid()\n",
    "plt.show()"
   ]
  },
  {
   "cell_type": "markdown",
   "metadata": {},
   "source": [
    "## Section 2: 1D Quadratic Shape Functions\n",
    "To plot the basis functions, the symbolic expressions are lambdafied. This currently fails for functions in more variables."
   ]
  },
  {
   "cell_type": "markdown",
   "metadata": {},
   "source": [
    "### Assume element length 1 and thus no scaling with mesh width"
   ]
  },
  {
   "cell_type": "code",
   "execution_count": 4,
   "metadata": {},
   "outputs": [
    {
     "name": "stdout",
     "output_type": "stream",
     "text": [
      "contribution to the stiffness matrix\n",
      "⎡2.33333333333333   -2.66666666666667  0.333333333333332⎤\n",
      "⎢                                                       ⎥\n",
      "⎢-2.66666666666667        16/3         -2.66666666666667⎥\n",
      "⎢                                                       ⎥\n",
      "⎣0.333333333333332  -2.66666666666667  2.33333333333333 ⎦\n",
      "contribution to the mass matrix\n",
      "⎡ 0.133333333333333   0.0666666666666673  -0.0333333333333332⎤\n",
      "⎢                                                            ⎥\n",
      "⎢0.0666666666666673          8/15         0.0666666666666667 ⎥\n",
      "⎢                                                            ⎥\n",
      "⎣-0.0333333333333332  0.0666666666666667   0.133333333333333 ⎦\n"
     ]
    },
    {
     "data": {
      "image/png": "[encoded data removed]",
      "text/plain": [
       "<Figure size 432x288 with 1 Axes>"
      ]
     },
     "metadata": {
      "needs_background": "light"
     },
     "output_type": "display_data"
    }
   ],
   "source": [
    "sym.var('x')\n",
    "phi1 = 2*(1-x)*(0.5-x)\n",
    "phi2 = 4*x*(1-x)\n",
    "phi3 = 2*x*(x-0.5)\n",
    "phi = sym.Matrix([phi1, phi2, phi3])\n",
    "dphi = sym.diff(phi, x)\n",
    "A = sym.integrate(dphi*sym.Transpose(dphi), (x, 0.,1))\n",
    "M = sym.integrate(phi*sym.Transpose(phi), (x, 0.,1))\n",
    "print('contribution to the stiffness matrix'), sym.pprint(A)\n",
    "print('contribution to the mass matrix'), sym.pprint(M)\n",
    "\n",
    "#..lambdify the symbolic expression \n",
    "phi1_lambda = sym.lambdify(x, phi1)\n",
    "phi2_lambda = sym.lambdify(x, phi2)\n",
    "phi3_lambda = sym.lambdify(x, phi3)\n",
    "\n",
    "#..sample the lambda expression for the computed solution \n",
    "nsamples = 100 \n",
    "xvec = np.linspace(0,1,nsamples)\n",
    "phi1_vec = phi1_lambda(xvec)\n",
    "phi2_vec = phi2_lambda(xvec)\n",
    "phi3_vec = phi3_lambda(xvec)\n",
    "\n",
    "#..plot the basis function \n",
    "plt.plot(xvec,phi1_vec,label='phi1')\n",
    "plt.plot(xvec,phi2_vec,label='phi2')\n",
    "plt.plot(xvec,phi3_vec,label='phi3')\n",
    "plt.xlabel('x')\n",
    "plt.legend(loc='best')\n",
    "plt.grid()\n",
    "plt.show()"
   ]
  },
  {
   "cell_type": "markdown",
   "metadata": {},
   "source": [
    "### Assume element length h and thus scaling with h"
   ]
  },
  {
   "cell_type": "code",
   "execution_count": 7,
   "metadata": {},
   "outputs": [
    {
     "name": "stdout",
     "output_type": "stream",
     "text": [
      "integral of basis functionbs\n",
      "⎡ h ⎤\n",
      "⎢ ─ ⎥\n",
      "⎢ 6 ⎥\n",
      "⎢   ⎥\n",
      "⎢2⋅h⎥\n",
      "⎢───⎥\n",
      "⎢ 3 ⎥\n",
      "⎢   ⎥\n",
      "⎢ h ⎥\n",
      "⎢ ─ ⎥\n",
      "⎣ 6 ⎦\n",
      "contribution to the stiffness matrix\n",
      "⎡ 7   -8    1 ⎤\n",
      "⎢───  ───  ───⎥\n",
      "⎢3⋅h  3⋅h  3⋅h⎥\n",
      "⎢             ⎥\n",
      "⎢-8    16  -8 ⎥\n",
      "⎢───  ───  ───⎥\n",
      "⎢3⋅h  3⋅h  3⋅h⎥\n",
      "⎢             ⎥\n",
      "⎢ 1   -8    7 ⎥\n",
      "⎢───  ───  ───⎥\n",
      "⎣3⋅h  3⋅h  3⋅h⎦\n",
      "contribution to the mass matrix\n",
      "⎡2⋅h  h    -h ⎤\n",
      "⎢───  ──   ───⎥\n",
      "⎢ 15  15    30⎥\n",
      "⎢             ⎥\n",
      "⎢h    8⋅h  h  ⎥\n",
      "⎢──   ───  ── ⎥\n",
      "⎢15    15  15 ⎥\n",
      "⎢             ⎥\n",
      "⎢-h   h    2⋅h⎥\n",
      "⎢───  ──   ───⎥\n",
      "⎣ 30  15    15⎦\n"
     ]
    },
    {
     "data": {
      "image/png": "[encoded data removed]",
      "text/plain": [
       "<Figure size 432x288 with 1 Axes>"
      ]
     },
     "metadata": {
      "needs_background": "light"
     },
     "output_type": "display_data"
    }
   ],
   "source": [
    "sym.var('x')\n",
    "sym.var('xl')\n",
    "sym.var('h')\n",
    "phi1 = (xl-x)*(xl+h/2-x)/(h*h/2)\n",
    "phi2 = (xl-x)*(x-xl-h)/(h*h/4)\n",
    "phi3 = (x-xl-h)*(x-xl-h/2)/(h*h/2)\n",
    "phi = sym.Matrix([phi1, phi2, phi3])\n",
    "dphi = sym.diff(phi, x)\n",
    "iphi = sym.integrate(phi, (x, xl, xl+h))\n",
    "A = sym.integrate(dphi*sym.Transpose(dphi), (x, xl, xl+h))\n",
    "M = sym.integrate(phi*sym.Transpose(phi), (x, xl, xl+h))\n",
    "print('integral of basis functionbs'), sym.pprint(sym.simplify(iphi))\n",
    "print('contribution to the stiffness matrix'), sym.pprint(sym.simplify(A))\n",
    "print('contribution to the mass matrix'), sym.pprint(sym.simplify(M))\n",
    "\n",
    "#..lambdify the symbolic expression \n",
    "phi1_lambda = sym.lambdify((x, xl, h), phi1)\n",
    "phi2_lambda = sym.lambdify((x, xl, h), phi2)\n",
    "phi3_lambda = sym.lambdify((x, xl, h), phi3)\n",
    "\n",
    "#..sample the lambda expression for the computed solution \n",
    "x1 = 0.1\n",
    "x2 = 0.2\n",
    "nsamples = 100 \n",
    "xvec = np.linspace(x1,x2,nsamples)\n",
    "phi1_vec = phi1_lambda(xvec,x1,x2-x1)\n",
    "phi2_vec = phi2_lambda(xvec,x1,x2-x1)\n",
    "phi3_vec = phi3_lambda(xvec,x1,x2-x1)\n",
    "\n",
    "#..plot the computed solution \n",
    "plt.plot(xvec,phi1_vec,label='phi1')\n",
    "plt.plot(xvec,phi2_vec,label='phi2')\n",
    "plt.plot(xvec,phi3_vec,label='phi3')\n",
    "plt.xlabel('x')\n",
    "plt.legend(loc='best')\n",
    "plt.grid()\n",
    "plt.show()"
   ]
  },
  {
   "cell_type": "markdown",
   "metadata": {},
   "source": [
    "## Section 3:/ Linear Triangular Elements "
   ]
  },
  {
   "cell_type": "code",
   "execution_count": 73,
   "metadata": {},
   "outputs": [
    {
     "name": "stdout",
     "output_type": "stream",
     "text": [
      "contribution to the stiffness matrix\n",
      "⎡ 1    -1/2  -1/2⎤\n",
      "⎢                ⎥\n",
      "⎢-1/2  1/2    0  ⎥\n",
      "⎢                ⎥\n",
      "⎣-1/2   0    1/2 ⎦\n",
      "contribution to the mass matrix\n",
      "⎡1/12  1/24  1/24⎤\n",
      "⎢                ⎥\n",
      "⎢1/24  1/12  1/24⎥\n",
      "⎢                ⎥\n",
      "⎣1/24  1/24  1/12⎦\n"
     ]
    },
    {
     "data": {
      "text/plain": [
       "(None, None)"
      ]
     },
     "execution_count": 73,
     "metadata": {},
     "output_type": "execute_result"
    }
   ],
   "source": [
    "sym.var('x')\n",
    "sym.var('y')\n",
    "phi1 = 1-x-y\n",
    "phi2 = x\n",
    "phi3 = y\n",
    "phi  = sym.Matrix([phi1, phi2, phi3])\n",
    "phi2 = phi*sym.Transpose(phi)\n",
    "dxphi = sym.diff(phi, x)\n",
    "dyphi = sym.diff(phi, y)\n",
    "gradphi2 = dxphi*sym.Transpose(dxphi) + dyphi*sym.Transpose(dyphi) \n",
    "A = sym.integrate(sym.integrate(gradphi2,(x,0,1-y)),(y,0,1))\n",
    "M = sym.integrate(sym.integrate(phi2,(x,0,1-y)),(y,0,1))\n",
    "print('contribution to the stiffness matrix'), sym.pprint(A)\n",
    "print('contribution to the mass matrix'), sym.pprint(M)"
   ]
  },
  {
   "cell_type": "markdown",
   "metadata": {},
   "source": [
    "## Section 4:/ Quadratic Triangular Elements \n",
    "See [Slides FEM Basis Functions](https://www.geophysik.uni-muenchen.de/~igel/Lectures/NMG/08_finite_elements_basisfunctions.pdf)."
   ]
  },
  {
   "cell_type": "code",
   "execution_count": 75,
   "metadata": {},
   "outputs": [
    {
     "name": "stdout",
     "output_type": "stream",
     "text": [
      "contribution to the stiffness matrix\n",
      "⎡ 1    1/6   1/6   -2/3   0    -2/3⎤\n",
      "⎢                                  ⎥\n",
      "⎢1/6   1/2    0    -2/3   0     0  ⎥\n",
      "⎢                                  ⎥\n",
      "⎢1/6    0    1/2    0     0    -2/3⎥\n",
      "⎢                                  ⎥\n",
      "⎢-2/3  -2/3   0    8/3   -4/3   0  ⎥\n",
      "⎢                                  ⎥\n",
      "⎢ 0     0     0    -4/3  8/3   -4/3⎥\n",
      "⎢                                  ⎥\n",
      "⎣-2/3   0    -2/3   0    -4/3  8/3 ⎦\n",
      "contribution to the mass matrix\n",
      "⎡ 1/60   -1/360  -1/360    0    -1/90    0  ⎤\n",
      "⎢                                           ⎥\n",
      "⎢-1/360   1/60   -1/360    0      0    -1/90⎥\n",
      "⎢                                           ⎥\n",
      "⎢-1/360  -1/360   1/60   -1/90    0      0  ⎥\n",
      "⎢                                           ⎥\n",
      "⎢  0       0     -1/90   4/45   2/45   2/45 ⎥\n",
      "⎢                                           ⎥\n",
      "⎢-1/90     0       0     2/45   4/45   2/45 ⎥\n",
      "⎢                                           ⎥\n",
      "⎣  0     -1/90     0     2/45   2/45   4/45 ⎦\n"
     ]
    },
    {
     "data": {
      "text/plain": [
       "(None, None)"
      ]
     },
     "execution_count": 75,
     "metadata": {},
     "output_type": "execute_result"
    }
   ],
   "source": [
    "sym.var('x')\n",
    "sym.var('y')\n",
    "phi1 = (1-x-y)*(1-2*x-2*y)\n",
    "phi2 = x*(2*x-1)\n",
    "phi3 = y*(2*y-1)\n",
    "phi4 = 4*x*(1-x-y)\n",
    "phi5 = 4*x*y\n",
    "phi6 = 4*y*(1-x-y)\n",
    "phi  = sym.Matrix([phi1, phi2, phi3, phi4, phi5, phi6])\n",
    "phi2 = phi*sym.Transpose(phi)\n",
    "dxphi = sym.diff(phi, x)\n",
    "dyphi = sym.diff(phi, y)\n",
    "gradphi2 = dxphi*sym.Transpose(dxphi) + dyphi*sym.Transpose(dyphi) \n",
    "A = sym.integrate(sym.integrate(gradphi2,(x,0,1-y)),(y,0,1))\n",
    "M = sym.integrate(sym.integrate(phi2,(x,0,1-y)),(y,0,1))\n",
    "print('contribution to the stiffness matrix'), sym.pprint(A)\n",
    "print('contribution to the mass matrix'), sym.pprint(M)"
   ]
  },
  {
   "cell_type": "markdown",
   "metadata": {},
   "source": [
    "## Section 5:/ Quadrilateral Linear Elements "
   ]
  },
  {
   "cell_type": "code",
   "execution_count": 76,
   "metadata": {},
   "outputs": [
    {
     "name": "stdout",
     "output_type": "stream",
     "text": [
      "contribution to the stiffness matrix\n",
      "⎡2/3   -1/6  -1/3  -1/6⎤\n",
      "⎢                      ⎥\n",
      "⎢-1/6  2/3   -1/6  -1/3⎥\n",
      "⎢                      ⎥\n",
      "⎢-1/3  -1/6  2/3   -1/6⎥\n",
      "⎢                      ⎥\n",
      "⎣-1/6  -1/3  -1/6  2/3 ⎦\n",
      "contribution to the mass matrix\n",
      "⎡1/9   1/18  1/36  1/18⎤\n",
      "⎢                      ⎥\n",
      "⎢1/18  1/9   1/18  1/36⎥\n",
      "⎢                      ⎥\n",
      "⎢1/36  1/18  1/9   1/18⎥\n",
      "⎢                      ⎥\n",
      "⎣1/18  1/36  1/18  1/9 ⎦\n"
     ]
    },
    {
     "data": {
      "text/plain": [
       "(None, None)"
      ]
     },
     "execution_count": 76,
     "metadata": {},
     "output_type": "execute_result"
    }
   ],
   "source": [
    "sym.var('x')\n",
    "sym.var('y')\n",
    "phi1 = (1-x)*(1-y)\n",
    "phi2 = (1-x)*y\n",
    "phi3 = x*y\n",
    "phi4 = x*(1-y)\n",
    "phi  = sym.Matrix([phi1, phi2, phi3, phi4])\n",
    "phi2 = phi*sym.Transpose(phi)\n",
    "dxphi = sym.diff(phi, x)\n",
    "dyphi = sym.diff(phi, y)\n",
    "gradphi2 = dxphi*sym.Transpose(dxphi) + dyphi*sym.Transpose(dyphi) \n",
    "A = sym.integrate(sym.integrate(gradphi2,(x,0,1)),(y,0,1))\n",
    "M = sym.integrate(sym.integrate(phi2,(x,0,1)),(y,0,1))\n",
    "print('contribution to the stiffness matrix'), sym.pprint(A)\n",
    "print('contribution to the mass matrix'), sym.pprint(M)"
   ]
  },
  {
   "cell_type": "code",
   "execution_count": null,
   "metadata": {},
   "outputs": [],
   "source": []
  }
 ],
 "metadata": {
  "kernelspec": {
   "display_name": "Python 3",
   "language": "python",
   "name": "python3"
  },
  "language_info": {
   "codemirror_mode": {
    "name": "ipython",
    "version": 3
   },
   "file_extension": ".py",
   "mimetype": "text/x-python",
   "name": "python",
   "nbconvert_exporter": "python",
   "pygments_lexer": "ipython3",
   "version": "3.7.10"
  }
 },
 "nbformat": 4,
 "nbformat_minor": 2
}
