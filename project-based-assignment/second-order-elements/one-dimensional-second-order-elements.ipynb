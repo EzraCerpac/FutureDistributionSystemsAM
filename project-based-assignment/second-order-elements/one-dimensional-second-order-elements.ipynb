{
 "cells": [
  {
   "cell_type": "markdown",
   "metadata": {},
   "source": [
    "# One-Dimensional Second Order Lagrange Elements  "
   ]
  },
  {
   "cell_type": "markdown",
   "metadata": {},
   "source": [
    "Solves the Poisson equation $- \\frac{d^2 \\, u(x)}{dx^2} = f(x)$ on the unit bar domain $x \\in \\Omega=(0,1)$ supplied with various boundary conditions and various source terms. The Galerkin finite element method with second order Lagrangian elements is employed.  "
   ]
  },
  {
   "cell_type": "markdown",
   "metadata": {},
   "source": [
    "## To do "
   ]
  },
  {
   "cell_type": "markdown",
   "metadata": {},
   "source": [
    "1. extend documentation: what is Emast, Xi, Xis, Phi, dPhi?\n",
    "2. extend to include saturation. Include 1/mu(normB2). "
   ]
  },
  {
   "cell_type": "markdown",
   "metadata": {},
   "source": [
    "## Import Packages"
   ]
  },
  {
   "cell_type": "code",
   "execution_count": 1,
   "metadata": {},
   "outputs": [],
   "source": [
    "using LinearAlgebra\n",
    "using FastGaussQuadrature\n",
    "using Plots\n",
    "using SparseArrays\n",
    "using BenchmarkTools \n",
    "using Test"
   ]
  },
  {
   "cell_type": "markdown",
   "metadata": {},
   "source": [
    "## Section 1/: Introduction  \n",
    "The <b>goals</b> of this notebook are two-fold. The first goal is to to extend previously developed notebooks from linear to quadratic notebook. The second goal is to introduce quadrature in the assembly process. "
   ]
  },
  {
   "cell_type": "code",
   "execution_count": null,
   "metadata": {},
   "outputs": [],
   "source": []
  },
  {
   "cell_type": "markdown",
   "metadata": {},
   "source": [
    "## Section 2:/ Verification using First Order Basis Functions"
   ]
  },
  {
   "cell_type": "code",
   "execution_count": 6,
   "metadata": {},
   "outputs": [
    {
     "data": {
      "text/plain": [
       "([-0.8611363115940526, -0.3399810435848563, 0.3399810435848563, 0.8611363115940526], [0.34785484513745385, 0.6521451548625462, 0.6521451548625462, 0.34785484513745385])"
      ]
     },
     "execution_count": 6,
     "metadata": {},
     "output_type": "execute_result"
    }
   ],
   "source": [
    "# polynomial degree to FE approximation  \n",
    "pdegree = 1;\n",
    "# degree of numerical quadrature \n",
    "qorder = 4; \n",
    "xi, w = gausslegendre(qorder) "
   ]
  },
  {
   "cell_type": "code",
   "execution_count": 7,
   "metadata": {},
   "outputs": [
    {
     "data": {
      "text/plain": [
       "2×2 Matrix{Float64}:\n",
       " -2.0   2.0\n",
       "  2.0  -1.0"
      ]
     },
     "execution_count": 7,
     "metadata": {},
     "output_type": "execute_result"
    }
   ],
   "source": [
    "# coordinates of single finite element \n",
    "x1 = 0; x2 = 2;\n",
    "x1 = 0.5; x2 = 1;\n",
    "x = [x1; x2];  \n",
    "X = [x1^j for x1 in x, j=pdegree:-1:0] # X is the Vandermonde matrix constructed from x \n",
    "I = [1. 0; 0 1.]; \n",
    "Emat = X\\I"
   ]
  },
  {
   "cell_type": "code",
   "execution_count": 13,
   "metadata": {},
   "outputs": [],
   "source": [
    "# vector of quadrature points on the physical element \n",
    "xs = .5*(x2-x1)*xi.+(x1+x2)/2;\n",
    "# Vandermonde Matrix for evaluation of the basis functions\n",
    "Xs = zeros(length(w),pdegree+1);   \n",
    "Xs  = [xs1^p for xs1 in xs, p=pdegree:-1:0];\n",
    "# Vandermonde Matrix for evaluation of the derivaties of basis functions\n",
    "dXs = zeros(length(w),pdegree+1);    \n",
    "dXs[:,1:pdegree] = [p*xs1^(p-1) for xs1 in xs, p=pdegree:-1:1];"
   ]
  },
  {
   "cell_type": "code",
   "execution_count": 14,
   "metadata": {},
   "outputs": [],
   "source": [
    "# column basis and derivative of the basis vectors  \n",
    "Phi  = Xs*Emat; \n",
    "dPhi = dXs*Emat; "
   ]
  },
  {
   "cell_type": "code",
   "execution_count": 15,
   "metadata": {},
   "outputs": [
    {
     "data": {
      "text/plain": [
       "\u001b[32m\u001b[1mTest Passed\u001b[22m\u001b[39m"
      ]
     },
     "execution_count": 15,
     "metadata": {},
     "output_type": "execute_result"
    }
   ],
   "source": [
    "# test on the local stiffness matrix \n",
    "dPhidPhi = zeros(length(w),(pdegree+1)^2);\n",
    "[dPhidPhi[:,(j-1)*(pdegree+1)+i] = dPhi[:,i].*dPhi[:,j] for i=1:(pdegree+1),j=1:(pdegree+1)];\n",
    "Aloc = (x2-x1)/2*Transpose(w)*dPhidPhi\n",
    "@test Aloc == 1/(x2-x1)*[1 -1 -1 1]"
   ]
  },
  {
   "cell_type": "code",
   "execution_count": 16,
   "metadata": {},
   "outputs": [
    {
     "data": {
      "text/plain": [
       "1×4 transpose(::Vector{Float64}) with eltype Float64:\n",
       " 0.166667  0.0833333  0.0833333  0.166667"
      ]
     },
     "metadata": {},
     "output_type": "display_data"
    },
    {
     "data": {
      "text/plain": [
       "\u001b[32m\u001b[1mTest Passed\u001b[22m\u001b[39m"
      ]
     },
     "execution_count": 16,
     "metadata": {},
     "output_type": "execute_result"
    }
   ],
   "source": [
    "# test on the local mass matrix \n",
    "PhiPhi = zeros(length(w),(pdegree+1)^2);\n",
    "[PhiPhi[:,(j-1)*(pdegree+1)+i] = Phi[:,i].*Phi[:,j] for i=1:(pdegree+1),j=1:(pdegree+1)];\n",
    "Mloc = (x2-x1)/2*Transpose(w)*PhiPhi\n",
    "display(Mloc)\n",
    "@test Mloc ≈ (x2-x1)*[1.0/3. 1.0/6. 1.0/6. 1.0/3.]"
   ]
  },
  {
   "cell_type": "markdown",
   "metadata": {},
   "source": [
    "## Section 3:/ Settings used Further in this Notebook  "
   ]
  },
  {
   "cell_type": "markdown",
   "metadata": {},
   "source": [
    "### Section 1.3:/ Define Degree of FE Approximation and Order of Quadrature \n",
    "Note that the reference element is $[-1,1]$ and *not* $[0,1]$. Here the use matrix comprehension to construction a matrix from a vector."
   ]
  },
  {
   "cell_type": "code",
   "execution_count": 18,
   "metadata": {},
   "outputs": [
    {
     "data": {
      "text/plain": [
       "([-0.8611363115940526, -0.3399810435848563, 0.3399810435848563, 0.8611363115940526], [0.34785484513745385, 0.6521451548625462, 0.6521451548625462, 0.34785484513745385])"
      ]
     },
     "execution_count": 18,
     "metadata": {},
     "output_type": "execute_result"
    }
   ],
   "source": [
    "# polynomial degree to FE approximation  \n",
    "pdegree = 2;\n",
    "# degree of numerical quadrature \n",
    "qorder = 4; \n",
    "xi, w = gausslegendre(qorder) "
   ]
  },
  {
   "cell_type": "markdown",
   "metadata": {},
   "source": [
    "### Section 2.3:/ Define Source Function  "
   ]
  },
  {
   "cell_type": "code",
   "execution_count": 19,
   "metadata": {},
   "outputs": [
    {
     "data": {
      "text/plain": [
       "sourceFct (generic function with 1 method)"
      ]
     },
     "execution_count": 19,
     "metadata": {},
     "output_type": "execute_result"
    }
   ],
   "source": [
    "function sourceFct(x)\n",
    "    return x*x \n",
    "end "
   ]
  },
  {
   "cell_type": "markdown",
   "metadata": {},
   "source": [
    "## Section 4/: Construction of the Basis Functions for pdegree=2"
   ]
  },
  {
   "cell_type": "markdown",
   "metadata": {},
   "source": [
    "### Section 1.4/: Compute Coefficients Defining Polynomial Basis Function on Physical Element  "
   ]
  },
  {
   "cell_type": "code",
   "execution_count": 20,
   "metadata": {},
   "outputs": [
    {
     "data": {
      "text/plain": [
       "3×3 Matrix{Float64}:\n",
       "  0.5  -1.0  0.5\n",
       " -0.5   0.0  0.5\n",
       "  0.0   1.0  0.0"
      ]
     },
     "execution_count": 20,
     "metadata": {},
     "output_type": "execute_result"
    }
   ],
   "source": [
    "# x1, x2 and x3 are the nodes on the physical element  \n",
    "# x1 = 0.; x3 = 1.; x2 = (x1+x3)/2;\n",
    "x1 = -1.; x3 = 1.; x2 = (x1+x3)/2;\n",
    "x = [x1; x2; x3];  \n",
    "X = [x1^j for x1 in x, j=pdegree:-1:0] # X is the Vandermonde matrix constructed from x \n",
    "I = [1. 0 0; 0 1. 0; 0 0 1.]; \n",
    "Emat = X\\I"
   ]
  },
  {
   "cell_type": "code",
   "execution_count": 28,
   "metadata": {},
   "outputs": [
    {
     "data": {
      "text/plain": [
       "4-element Vector{Float64}:\n",
       " -0.8611363115940526\n",
       " -0.3399810435848563\n",
       "  0.3399810435848563\n",
       "  0.8611363115940526"
      ]
     },
     "metadata": {},
     "output_type": "display_data"
    }
   ],
   "source": [
    "# vector of quadrature points on the finite element \n",
    "xs = .5*(x3-x1)*xi.+(x1+x3)/2;\n",
    "# Vandermonde Matrix for evaluation of the basis functions\n",
    "Xs = zeros(length(w),pdegree+1);   \n",
    "Xs  = [xs1^p for xs1 in xs, p=pdegree:-1:0];\n",
    "# Vandermonde Matrix for evaluation of the derivaties of basis functions\n",
    "dXs = zeros(length(w),pdegree+1);    \n",
    "dXs[:,1:pdegree] = [p*xs1^(p-1) for xs1 in xs, p=pdegree:-1:1];\n",
    "display(xs)"
   ]
  },
  {
   "cell_type": "markdown",
   "metadata": {},
   "source": [
    "### Section 2.4:/ Check on Computations performed"
   ]
  },
  {
   "cell_type": "code",
   "execution_count": 29,
   "metadata": {},
   "outputs": [
    {
     "data": {
      "image/svg+xml": [
       "<?xml version=\"1.0\" encoding=\"utf-8\"?>\n",
       "<svg xmlns=\"http://www.w3.org/2000/svg\" xmlns:xlink=\"http://www.w3.org/1999/xlink\" width=\"600\" height=\"400\" viewBox=\"0 0 2400 1600\">\n",
       "<defs>\n",
       "  <clipPath id=\"clip490\">\n",
       "    <rect x=\"0\" y=\"0\" width=\"2400\" height=\"1600\"/>\n",
       "  </clipPath>\n",
       "</defs>\n",
       "<path clip-path=\"url(#clip490)\" d=\"M0 1600 L2400 1600 L2400 0 L0 0  Z\" fill=\"#ffffff\" fill-rule=\"evenodd\" fill-opacity=\"1\"/>\n",
       "<defs>\n",
       "  <clipPath id=\"clip491\">\n",
       "    <rect x=\"480\" y=\"0\" width=\"1681\" height=\"1600\"/>\n",
       "  </clipPath>\n",
       "</defs>\n",
       "<path clip-path=\"url(#clip490)\" d=\"M186.274 1486.45 L752.756 1486.45 L752.756 47.2441 L186.274 47.2441  Z\" fill=\"#ffffff\" fill-rule=\"evenodd\" fill-opacity=\"1\"/>\n",
       "<defs>\n",
       "  <clipPath id=\"clip492\">\n",
       "    <rect x=\"186\" y=\"47\" width=\"567\" height=\"1440\"/>\n",
       "  </clipPath>\n",
       "</defs>\n",
       "<polyline clip-path=\"url(#clip492)\" style=\"stroke:#000000; stroke-linecap:round; stroke-linejoin:round; stroke-width:2; stroke-opacity:0.1; fill:none\" points=\"202.307,1486.45 202.307,47.2441 \"/>\n",
       "<polyline clip-path=\"url(#clip492)\" style=\"stroke:#000000; stroke-linecap:round; stroke-linejoin:round; stroke-width:2; stroke-opacity:0.1; fill:none\" points=\"335.911,1486.45 335.911,47.2441 \"/>\n",
       "<polyline clip-path=\"url(#clip492)\" style=\"stroke:#000000; stroke-linecap:round; stroke-linejoin:round; stroke-width:2; stroke-opacity:0.1; fill:none\" points=\"469.515,1486.45 469.515,47.2441 \"/>\n",
       "<polyline clip-path=\"url(#clip492)\" style=\"stroke:#000000; stroke-linecap:round; stroke-linejoin:round; stroke-width:2; stroke-opacity:0.1; fill:none\" points=\"603.119,1486.45 603.119,47.2441 \"/>\n",
       "<polyline clip-path=\"url(#clip492)\" style=\"stroke:#000000; stroke-linecap:round; stroke-linejoin:round; stroke-width:2; stroke-opacity:0.1; fill:none\" points=\"736.723,1486.45 736.723,47.2441 \"/>\n",
       "<polyline clip-path=\"url(#clip490)\" style=\"stroke:#000000; stroke-linecap:round; stroke-linejoin:round; stroke-width:4; stroke-opacity:1; fill:none\" points=\"186.274,1486.45 752.756,1486.45 \"/>\n",
       "<polyline clip-path=\"url(#clip490)\" style=\"stroke:#000000; stroke-linecap:round; stroke-linejoin:round; stroke-width:4; stroke-opacity:1; fill:none\" points=\"202.307,1486.45 202.307,1467.55 \"/>\n",
       "<polyline clip-path=\"url(#clip490)\" style=\"stroke:#000000; stroke-linecap:round; stroke-linejoin:round; stroke-width:4; stroke-opacity:1; fill:none\" points=\"335.911,1486.45 335.911,1467.55 \"/>\n",
       "<polyline clip-path=\"url(#clip490)\" style=\"stroke:#000000; stroke-linecap:round; stroke-linejoin:round; stroke-width:4; stroke-opacity:1; fill:none\" points=\"469.515,1486.45 469.515,1467.55 \"/>\n",
       "<polyline clip-path=\"url(#clip490)\" style=\"stroke:#000000; stroke-linecap:round; stroke-linejoin:round; stroke-width:4; stroke-opacity:1; fill:none\" points=\"603.119,1486.45 603.119,1467.55 \"/>\n",
       "<polyline clip-path=\"url(#clip490)\" style=\"stroke:#000000; stroke-linecap:round; stroke-linejoin:round; stroke-width:4; stroke-opacity:1; fill:none\" points=\"736.723,1486.45 736.723,1467.55 \"/>\n",
       "<path clip-path=\"url(#clip490)\" d=\"M148.835 1532.02 L178.51 1532.02 L178.51 1535.95 L148.835 1535.95 L148.835 1532.02 Z\" fill=\"#000000\" fill-rule=\"evenodd\" fill-opacity=\"1\" /><path clip-path=\"url(#clip490)\" d=\"M189.413 1544.91 L197.052 1544.91 L197.052 1518.55 L188.742 1520.21 L188.742 1515.95 L197.006 1514.29 L201.682 1514.29 L201.682 1544.91 L209.32 1544.91 L209.32 1548.85 L189.413 1548.85 L189.413 1544.91 Z\" fill=\"#000000\" fill-rule=\"evenodd\" fill-opacity=\"1\" /><path clip-path=\"url(#clip490)\" d=\"M218.765 1542.97 L223.649 1542.97 L223.649 1548.85 L218.765 1548.85 L218.765 1542.97 Z\" fill=\"#000000\" fill-rule=\"evenodd\" fill-opacity=\"1\" /><path clip-path=\"url(#clip490)\" d=\"M243.834 1517.37 Q240.223 1517.37 238.394 1520.93 Q236.589 1524.47 236.589 1531.6 Q236.589 1538.71 238.394 1542.27 Q240.223 1545.82 243.834 1545.82 Q247.468 1545.82 249.274 1542.27 Q251.103 1538.71 251.103 1531.6 Q251.103 1524.47 249.274 1520.93 Q247.468 1517.37 243.834 1517.37 M243.834 1513.66 Q249.644 1513.66 252.7 1518.27 Q255.778 1522.85 255.778 1531.6 Q255.778 1540.33 252.7 1544.94 Q249.644 1549.52 243.834 1549.52 Q238.024 1549.52 234.945 1544.94 Q231.89 1540.33 231.89 1531.6 Q231.89 1522.85 234.945 1518.27 Q238.024 1513.66 243.834 1513.66 Z\" fill=\"#000000\" fill-rule=\"evenodd\" fill-opacity=\"1\" /><path clip-path=\"url(#clip490)\" d=\"M282.936 1532.02 L312.612 1532.02 L312.612 1535.95 L282.936 1535.95 L282.936 1532.02 Z\" fill=\"#000000\" fill-rule=\"evenodd\" fill-opacity=\"1\" /><path clip-path=\"url(#clip490)\" d=\"M332.705 1517.37 Q329.094 1517.37 327.265 1520.93 Q325.459 1524.47 325.459 1531.6 Q325.459 1538.71 327.265 1542.27 Q329.094 1545.82 332.705 1545.82 Q336.339 1545.82 338.145 1542.27 Q339.973 1538.71 339.973 1531.6 Q339.973 1524.47 338.145 1520.93 Q336.339 1517.37 332.705 1517.37 M332.705 1513.66 Q338.515 1513.66 341.57 1518.27 Q344.649 1522.85 344.649 1531.6 Q344.649 1540.33 341.57 1544.94 Q338.515 1549.52 332.705 1549.52 Q326.895 1549.52 323.816 1544.94 Q320.76 1540.33 320.76 1531.6 Q320.76 1522.85 323.816 1518.27 Q326.895 1513.66 332.705 1513.66 Z\" fill=\"#000000\" fill-rule=\"evenodd\" fill-opacity=\"1\" /><path clip-path=\"url(#clip490)\" d=\"M352.867 1542.97 L357.751 1542.97 L357.751 1548.85 L352.867 1548.85 L352.867 1542.97 Z\" fill=\"#000000\" fill-rule=\"evenodd\" fill-opacity=\"1\" /><path clip-path=\"url(#clip490)\" d=\"M367.982 1514.29 L386.339 1514.29 L386.339 1518.22 L372.265 1518.22 L372.265 1526.7 Q373.283 1526.35 374.302 1526.19 Q375.32 1526 376.339 1526 Q382.126 1526 385.505 1529.17 Q388.885 1532.34 388.885 1537.76 Q388.885 1543.34 385.413 1546.44 Q381.941 1549.52 375.621 1549.52 Q373.445 1549.52 371.177 1549.15 Q368.931 1548.78 366.524 1548.04 L366.524 1543.34 Q368.607 1544.47 370.83 1545.03 Q373.052 1545.58 375.529 1545.58 Q379.533 1545.58 381.871 1543.48 Q384.209 1541.37 384.209 1537.76 Q384.209 1534.15 381.871 1532.04 Q379.533 1529.94 375.529 1529.94 Q373.654 1529.94 371.779 1530.35 Q369.927 1530.77 367.982 1531.65 L367.982 1514.29 Z\" fill=\"#000000\" fill-rule=\"evenodd\" fill-opacity=\"1\" /><path clip-path=\"url(#clip490)\" d=\"M446.899 1517.37 Q443.288 1517.37 441.46 1520.93 Q439.654 1524.47 439.654 1531.6 Q439.654 1538.71 441.46 1542.27 Q443.288 1545.82 446.899 1545.82 Q450.534 1545.82 452.339 1542.27 Q454.168 1538.71 454.168 1531.6 Q454.168 1524.47 452.339 1520.93 Q450.534 1517.37 446.899 1517.37 M446.899 1513.66 Q452.709 1513.66 455.765 1518.27 Q458.844 1522.85 458.844 1531.6 Q458.844 1540.33 455.765 1544.94 Q452.709 1549.52 446.899 1549.52 Q441.089 1549.52 438.01 1544.94 Q434.955 1540.33 434.955 1531.6 Q434.955 1522.85 438.01 1518.27 Q441.089 1513.66 446.899 1513.66 Z\" fill=\"#000000\" fill-rule=\"evenodd\" fill-opacity=\"1\" /><path clip-path=\"url(#clip490)\" d=\"M467.061 1542.97 L471.945 1542.97 L471.945 1548.85 L467.061 1548.85 L467.061 1542.97 Z\" fill=\"#000000\" fill-rule=\"evenodd\" fill-opacity=\"1\" /><path clip-path=\"url(#clip490)\" d=\"M492.131 1517.37 Q488.519 1517.37 486.691 1520.93 Q484.885 1524.47 484.885 1531.6 Q484.885 1538.71 486.691 1542.27 Q488.519 1545.82 492.131 1545.82 Q495.765 1545.82 497.57 1542.27 Q499.399 1538.71 499.399 1531.6 Q499.399 1524.47 497.57 1520.93 Q495.765 1517.37 492.131 1517.37 M492.131 1513.66 Q497.941 1513.66 500.996 1518.27 Q504.075 1522.85 504.075 1531.6 Q504.075 1540.33 500.996 1544.94 Q497.941 1549.52 492.131 1549.52 Q486.32 1549.52 483.242 1544.94 Q480.186 1540.33 480.186 1531.6 Q480.186 1522.85 483.242 1518.27 Q486.32 1513.66 492.131 1513.66 Z\" fill=\"#000000\" fill-rule=\"evenodd\" fill-opacity=\"1\" /><path clip-path=\"url(#clip490)\" d=\"M581.001 1517.37 Q577.39 1517.37 575.561 1520.93 Q573.756 1524.47 573.756 1531.6 Q573.756 1538.71 575.561 1542.27 Q577.39 1545.82 581.001 1545.82 Q584.635 1545.82 586.441 1542.27 Q588.27 1538.71 588.27 1531.6 Q588.27 1524.47 586.441 1520.93 Q584.635 1517.37 581.001 1517.37 M581.001 1513.66 Q586.811 1513.66 589.867 1518.27 Q592.946 1522.85 592.946 1531.6 Q592.946 1540.33 589.867 1544.94 Q586.811 1549.52 581.001 1549.52 Q575.191 1549.52 572.112 1544.94 Q569.057 1540.33 569.057 1531.6 Q569.057 1522.85 572.112 1518.27 Q575.191 1513.66 581.001 1513.66 Z\" fill=\"#000000\" fill-rule=\"evenodd\" fill-opacity=\"1\" /><path clip-path=\"url(#clip490)\" d=\"M601.163 1542.97 L606.047 1542.97 L606.047 1548.85 L601.163 1548.85 L601.163 1542.97 Z\" fill=\"#000000\" fill-rule=\"evenodd\" fill-opacity=\"1\" /><path clip-path=\"url(#clip490)\" d=\"M616.279 1514.29 L634.635 1514.29 L634.635 1518.22 L620.561 1518.22 L620.561 1526.7 Q621.58 1526.35 622.598 1526.19 Q623.617 1526 624.635 1526 Q630.422 1526 633.802 1529.17 Q637.181 1532.34 637.181 1537.76 Q637.181 1543.34 633.709 1546.44 Q630.237 1549.52 623.918 1549.52 Q621.742 1549.52 619.473 1549.15 Q617.228 1548.78 614.821 1548.04 L614.821 1543.34 Q616.904 1544.47 619.126 1545.03 Q621.348 1545.58 623.825 1545.58 Q627.83 1545.58 630.168 1543.48 Q632.506 1541.37 632.506 1537.76 Q632.506 1534.15 630.168 1532.04 Q627.83 1529.94 623.825 1529.94 Q621.95 1529.94 620.075 1530.35 Q618.223 1530.77 616.279 1531.65 L616.279 1514.29 Z\" fill=\"#000000\" fill-rule=\"evenodd\" fill-opacity=\"1\" /><path clip-path=\"url(#clip490)\" d=\"M703.876 1544.91 L711.515 1544.91 L711.515 1518.55 L703.205 1520.21 L703.205 1515.95 L711.469 1514.29 L716.145 1514.29 L716.145 1544.91 L723.784 1544.91 L723.784 1548.85 L703.876 1548.85 L703.876 1544.91 Z\" fill=\"#000000\" fill-rule=\"evenodd\" fill-opacity=\"1\" /><path clip-path=\"url(#clip490)\" d=\"M733.228 1542.97 L738.112 1542.97 L738.112 1548.85 L733.228 1548.85 L733.228 1542.97 Z\" fill=\"#000000\" fill-rule=\"evenodd\" fill-opacity=\"1\" /><path clip-path=\"url(#clip490)\" d=\"M758.297 1517.37 Q754.686 1517.37 752.858 1520.93 Q751.052 1524.47 751.052 1531.6 Q751.052 1538.71 752.858 1542.27 Q754.686 1545.82 758.297 1545.82 Q761.932 1545.82 763.737 1542.27 Q765.566 1538.71 765.566 1531.6 Q765.566 1524.47 763.737 1520.93 Q761.932 1517.37 758.297 1517.37 M758.297 1513.66 Q764.108 1513.66 767.163 1518.27 Q770.242 1522.85 770.242 1531.6 Q770.242 1540.33 767.163 1544.94 Q764.108 1549.52 758.297 1549.52 Q752.487 1549.52 749.409 1544.94 Q746.353 1540.33 746.353 1531.6 Q746.353 1522.85 749.409 1518.27 Q752.487 1513.66 758.297 1513.66 Z\" fill=\"#000000\" fill-rule=\"evenodd\" fill-opacity=\"1\" /><polyline clip-path=\"url(#clip492)\" style=\"stroke:#000000; stroke-linecap:round; stroke-linejoin:round; stroke-width:2; stroke-opacity:0.1; fill:none\" points=\"186.274,1294.86 752.756,1294.86 \"/>\n",
       "<polyline clip-path=\"url(#clip492)\" style=\"stroke:#000000; stroke-linecap:round; stroke-linejoin:round; stroke-width:2; stroke-opacity:0.1; fill:none\" points=\"186.274,993.136 752.756,993.136 \"/>\n",
       "<polyline clip-path=\"url(#clip492)\" style=\"stroke:#000000; stroke-linecap:round; stroke-linejoin:round; stroke-width:2; stroke-opacity:0.1; fill:none\" points=\"186.274,691.416 752.756,691.416 \"/>\n",
       "<polyline clip-path=\"url(#clip492)\" style=\"stroke:#000000; stroke-linecap:round; stroke-linejoin:round; stroke-width:2; stroke-opacity:0.1; fill:none\" points=\"186.274,389.696 752.756,389.696 \"/>\n",
       "<polyline clip-path=\"url(#clip492)\" style=\"stroke:#000000; stroke-linecap:round; stroke-linejoin:round; stroke-width:2; stroke-opacity:0.1; fill:none\" points=\"186.274,87.9763 752.756,87.9763 \"/>\n",
       "<polyline clip-path=\"url(#clip490)\" style=\"stroke:#000000; stroke-linecap:round; stroke-linejoin:round; stroke-width:4; stroke-opacity:1; fill:none\" points=\"186.274,1486.45 186.274,47.2441 \"/>\n",
       "<polyline clip-path=\"url(#clip490)\" style=\"stroke:#000000; stroke-linecap:round; stroke-linejoin:round; stroke-width:4; stroke-opacity:1; fill:none\" points=\"186.274,1294.86 205.172,1294.86 \"/>\n",
       "<polyline clip-path=\"url(#clip490)\" style=\"stroke:#000000; stroke-linecap:round; stroke-linejoin:round; stroke-width:4; stroke-opacity:1; fill:none\" points=\"186.274,993.136 205.172,993.136 \"/>\n",
       "<polyline clip-path=\"url(#clip490)\" style=\"stroke:#000000; stroke-linecap:round; stroke-linejoin:round; stroke-width:4; stroke-opacity:1; fill:none\" points=\"186.274,691.416 205.172,691.416 \"/>\n",
       "<polyline clip-path=\"url(#clip490)\" style=\"stroke:#000000; stroke-linecap:round; stroke-linejoin:round; stroke-width:4; stroke-opacity:1; fill:none\" points=\"186.274,389.696 205.172,389.696 \"/>\n",
       "<polyline clip-path=\"url(#clip490)\" style=\"stroke:#000000; stroke-linecap:round; stroke-linejoin:round; stroke-width:4; stroke-opacity:1; fill:none\" points=\"186.274,87.9763 205.172,87.9763 \"/>\n",
       "<path clip-path=\"url(#clip490)\" d=\"M62.9365 1280.65 Q59.3254 1280.65 57.4967 1284.22 Q55.6912 1287.76 55.6912 1294.89 Q55.6912 1302 57.4967 1305.56 Q59.3254 1309.1 62.9365 1309.1 Q66.5707 1309.1 68.3763 1305.56 Q70.205 1302 70.205 1294.89 Q70.205 1287.76 68.3763 1284.22 Q66.5707 1280.65 62.9365 1280.65 M62.9365 1276.95 Q68.7467 1276.95 71.8022 1281.56 Q74.8809 1286.14 74.8809 1294.89 Q74.8809 1303.62 71.8022 1308.22 Q68.7467 1312.81 62.9365 1312.81 Q57.1264 1312.81 54.0477 1308.22 Q50.9921 1303.62 50.9921 1294.89 Q50.9921 1286.14 54.0477 1281.56 Q57.1264 1276.95 62.9365 1276.95 Z\" fill=\"#000000\" fill-rule=\"evenodd\" fill-opacity=\"1\" /><path clip-path=\"url(#clip490)\" d=\"M83.0984 1306.26 L87.9827 1306.26 L87.9827 1312.14 L83.0984 1312.14 L83.0984 1306.26 Z\" fill=\"#000000\" fill-rule=\"evenodd\" fill-opacity=\"1\" /><path clip-path=\"url(#clip490)\" d=\"M108.168 1280.65 Q104.557 1280.65 102.728 1284.22 Q100.922 1287.76 100.922 1294.89 Q100.922 1302 102.728 1305.56 Q104.557 1309.1 108.168 1309.1 Q111.802 1309.1 113.608 1305.56 Q115.436 1302 115.436 1294.89 Q115.436 1287.76 113.608 1284.22 Q111.802 1280.65 108.168 1280.65 M108.168 1276.95 Q113.978 1276.95 117.033 1281.56 Q120.112 1286.14 120.112 1294.89 Q120.112 1303.62 117.033 1308.22 Q113.978 1312.81 108.168 1312.81 Q102.358 1312.81 99.2789 1308.22 Q96.2234 1303.62 96.2234 1294.89 Q96.2234 1286.14 99.2789 1281.56 Q102.358 1276.95 108.168 1276.95 Z\" fill=\"#000000\" fill-rule=\"evenodd\" fill-opacity=\"1\" /><path clip-path=\"url(#clip490)\" d=\"M138.33 1280.65 Q134.719 1280.65 132.89 1284.22 Q131.084 1287.76 131.084 1294.89 Q131.084 1302 132.89 1305.56 Q134.719 1309.1 138.33 1309.1 Q141.964 1309.1 143.769 1305.56 Q145.598 1302 145.598 1294.89 Q145.598 1287.76 143.769 1284.22 Q141.964 1280.65 138.33 1280.65 M138.33 1276.95 Q144.14 1276.95 147.195 1281.56 Q150.274 1286.14 150.274 1294.89 Q150.274 1303.62 147.195 1308.22 Q144.14 1312.81 138.33 1312.81 Q132.519 1312.81 129.441 1308.22 Q126.385 1303.62 126.385 1294.89 Q126.385 1286.14 129.441 1281.56 Q132.519 1276.95 138.33 1276.95 Z\" fill=\"#000000\" fill-rule=\"evenodd\" fill-opacity=\"1\" /><path clip-path=\"url(#clip490)\" d=\"M63.9319 978.935 Q60.3208 978.935 58.4921 982.499 Q56.6865 986.041 56.6865 993.171 Q56.6865 1000.28 58.4921 1003.84 Q60.3208 1007.38 63.9319 1007.38 Q67.5661 1007.38 69.3717 1003.84 Q71.2004 1000.28 71.2004 993.171 Q71.2004 986.041 69.3717 982.499 Q67.5661 978.935 63.9319 978.935 M63.9319 975.231 Q69.742 975.231 72.7976 979.837 Q75.8763 984.421 75.8763 993.171 Q75.8763 1001.9 72.7976 1006.5 Q69.742 1011.09 63.9319 1011.09 Q58.1217 1011.09 55.043 1006.5 Q51.9875 1001.9 51.9875 993.171 Q51.9875 984.421 55.043 979.837 Q58.1217 975.231 63.9319 975.231 Z\" fill=\"#000000\" fill-rule=\"evenodd\" fill-opacity=\"1\" /><path clip-path=\"url(#clip490)\" d=\"M84.0938 1004.54 L88.978 1004.54 L88.978 1010.42 L84.0938 1010.42 L84.0938 1004.54 Z\" fill=\"#000000\" fill-rule=\"evenodd\" fill-opacity=\"1\" /><path clip-path=\"url(#clip490)\" d=\"M103.191 1006.48 L119.51 1006.48 L119.51 1010.42 L97.566 1010.42 L97.566 1006.48 Q100.228 1003.73 104.811 999.097 Q109.418 994.444 110.598 993.101 Q112.844 990.578 113.723 988.842 Q114.626 987.083 114.626 985.393 Q114.626 982.638 112.682 980.902 Q110.76 979.166 107.658 979.166 Q105.459 979.166 103.006 979.93 Q100.575 980.694 97.7974 982.245 L97.7974 977.523 Q100.621 976.388 103.075 975.81 Q105.529 975.231 107.566 975.231 Q112.936 975.231 116.131 977.916 Q119.325 980.601 119.325 985.092 Q119.325 987.222 118.515 989.143 Q117.728 991.041 115.621 993.634 Q115.043 994.305 111.941 997.522 Q108.839 1000.72 103.191 1006.48 Z\" fill=\"#000000\" fill-rule=\"evenodd\" fill-opacity=\"1\" /><path clip-path=\"url(#clip490)\" d=\"M129.371 975.856 L147.728 975.856 L147.728 979.791 L133.654 979.791 L133.654 988.263 Q134.672 987.916 135.691 987.754 Q136.709 987.569 137.728 987.569 Q143.515 987.569 146.894 990.74 Q150.274 993.911 150.274 999.328 Q150.274 1004.91 146.802 1008.01 Q143.33 1011.09 137.01 1011.09 Q134.834 1011.09 132.566 1010.72 Q130.32 1010.35 127.913 1009.61 L127.913 1004.91 Q129.996 1006.04 132.219 1006.6 Q134.441 1007.15 136.918 1007.15 Q140.922 1007.15 143.26 1005.05 Q145.598 1002.94 145.598 999.328 Q145.598 995.717 143.26 993.61 Q140.922 991.504 136.918 991.504 Q135.043 991.504 133.168 991.921 Q131.316 992.337 129.371 993.217 L129.371 975.856 Z\" fill=\"#000000\" fill-rule=\"evenodd\" fill-opacity=\"1\" /><path clip-path=\"url(#clip490)\" d=\"M62.9365 677.215 Q59.3254 677.215 57.4967 680.779 Q55.6912 684.321 55.6912 691.451 Q55.6912 698.557 57.4967 702.122 Q59.3254 705.664 62.9365 705.664 Q66.5707 705.664 68.3763 702.122 Q70.205 698.557 70.205 691.451 Q70.205 684.321 68.3763 680.779 Q66.5707 677.215 62.9365 677.215 M62.9365 673.511 Q68.7467 673.511 71.8022 678.117 Q74.8809 682.701 74.8809 691.451 Q74.8809 700.178 71.8022 704.784 Q68.7467 709.367 62.9365 709.367 Q57.1264 709.367 54.0477 704.784 Q50.9921 700.178 50.9921 691.451 Q50.9921 682.701 54.0477 678.117 Q57.1264 673.511 62.9365 673.511 Z\" fill=\"#000000\" fill-rule=\"evenodd\" fill-opacity=\"1\" /><path clip-path=\"url(#clip490)\" d=\"M83.0984 702.816 L87.9827 702.816 L87.9827 708.696 L83.0984 708.696 L83.0984 702.816 Z\" fill=\"#000000\" fill-rule=\"evenodd\" fill-opacity=\"1\" /><path clip-path=\"url(#clip490)\" d=\"M98.2141 674.136 L116.57 674.136 L116.57 678.071 L102.496 678.071 L102.496 686.543 Q103.515 686.196 104.534 686.034 Q105.552 685.849 106.571 685.849 Q112.358 685.849 115.737 689.02 Q119.117 692.191 119.117 697.608 Q119.117 703.187 115.645 706.289 Q112.172 709.367 105.853 709.367 Q103.677 709.367 101.409 708.997 Q99.1632 708.627 96.7558 707.886 L96.7558 703.187 Q98.8391 704.321 101.061 704.877 Q103.284 705.432 105.76 705.432 Q109.765 705.432 112.103 703.326 Q114.441 701.219 114.441 697.608 Q114.441 693.997 112.103 691.891 Q109.765 689.784 105.76 689.784 Q103.885 689.784 102.01 690.201 Q100.159 690.617 98.2141 691.497 L98.2141 674.136 Z\" fill=\"#000000\" fill-rule=\"evenodd\" fill-opacity=\"1\" /><path clip-path=\"url(#clip490)\" d=\"M138.33 677.215 Q134.719 677.215 132.89 680.779 Q131.084 684.321 131.084 691.451 Q131.084 698.557 132.89 702.122 Q134.719 705.664 138.33 705.664 Q141.964 705.664 143.769 702.122 Q145.598 698.557 145.598 691.451 Q145.598 684.321 143.769 680.779 Q141.964 677.215 138.33 677.215 M138.33 673.511 Q144.14 673.511 147.195 678.117 Q150.274 682.701 150.274 691.451 Q150.274 700.178 147.195 704.784 Q144.14 709.367 138.33 709.367 Q132.519 709.367 129.441 704.784 Q126.385 700.178 126.385 691.451 Q126.385 682.701 129.441 678.117 Q132.519 673.511 138.33 673.511 Z\" fill=\"#000000\" fill-rule=\"evenodd\" fill-opacity=\"1\" /><path clip-path=\"url(#clip490)\" d=\"M63.9319 375.495 Q60.3208 375.495 58.4921 379.06 Q56.6865 382.601 56.6865 389.731 Q56.6865 396.837 58.4921 400.402 Q60.3208 403.944 63.9319 403.944 Q67.5661 403.944 69.3717 400.402 Q71.2004 396.837 71.2004 389.731 Q71.2004 382.601 69.3717 379.06 Q67.5661 375.495 63.9319 375.495 M63.9319 371.791 Q69.742 371.791 72.7976 376.398 Q75.8763 380.981 75.8763 389.731 Q75.8763 398.458 72.7976 403.064 Q69.742 407.647 63.9319 407.647 Q58.1217 407.647 55.043 403.064 Q51.9875 398.458 51.9875 389.731 Q51.9875 380.981 55.043 376.398 Q58.1217 371.791 63.9319 371.791 Z\" fill=\"#000000\" fill-rule=\"evenodd\" fill-opacity=\"1\" /><path clip-path=\"url(#clip490)\" d=\"M84.0938 401.097 L88.978 401.097 L88.978 406.976 L84.0938 406.976 L84.0938 401.097 Z\" fill=\"#000000\" fill-rule=\"evenodd\" fill-opacity=\"1\" /><path clip-path=\"url(#clip490)\" d=\"M97.9826 372.416 L120.205 372.416 L120.205 374.407 L107.658 406.976 L102.774 406.976 L114.58 376.351 L97.9826 376.351 L97.9826 372.416 Z\" fill=\"#000000\" fill-rule=\"evenodd\" fill-opacity=\"1\" /><path clip-path=\"url(#clip490)\" d=\"M129.371 372.416 L147.728 372.416 L147.728 376.351 L133.654 376.351 L133.654 384.823 Q134.672 384.476 135.691 384.314 Q136.709 384.129 137.728 384.129 Q143.515 384.129 146.894 387.3 Q150.274 390.472 150.274 395.888 Q150.274 401.467 146.802 404.569 Q143.33 407.647 137.01 407.647 Q134.834 407.647 132.566 407.277 Q130.32 406.907 127.913 406.166 L127.913 401.467 Q129.996 402.601 132.219 403.157 Q134.441 403.712 136.918 403.712 Q140.922 403.712 143.26 401.606 Q145.598 399.499 145.598 395.888 Q145.598 392.277 143.26 390.171 Q140.922 388.064 136.918 388.064 Q135.043 388.064 133.168 388.481 Q131.316 388.898 129.371 389.777 L129.371 372.416 Z\" fill=\"#000000\" fill-rule=\"evenodd\" fill-opacity=\"1\" /><path clip-path=\"url(#clip490)\" d=\"M53.7467 101.321 L61.3856 101.321 L61.3856 74.9555 L53.0754 76.6222 L53.0754 72.3629 L61.3393 70.6963 L66.0152 70.6963 L66.0152 101.321 L73.654 101.321 L73.654 105.256 L53.7467 105.256 L53.7467 101.321 Z\" fill=\"#000000\" fill-rule=\"evenodd\" fill-opacity=\"1\" /><path clip-path=\"url(#clip490)\" d=\"M83.0984 99.3767 L87.9827 99.3767 L87.9827 105.256 L83.0984 105.256 L83.0984 99.3767 Z\" fill=\"#000000\" fill-rule=\"evenodd\" fill-opacity=\"1\" /><path clip-path=\"url(#clip490)\" d=\"M108.168 73.775 Q104.557 73.775 102.728 77.3398 Q100.922 80.8814 100.922 88.011 Q100.922 95.1174 102.728 98.6822 Q104.557 102.224 108.168 102.224 Q111.802 102.224 113.608 98.6822 Q115.436 95.1174 115.436 88.011 Q115.436 80.8814 113.608 77.3398 Q111.802 73.775 108.168 73.775 M108.168 70.0713 Q113.978 70.0713 117.033 74.6777 Q120.112 79.261 120.112 88.011 Q120.112 96.7378 117.033 101.344 Q113.978 105.928 108.168 105.928 Q102.358 105.928 99.2789 101.344 Q96.2234 96.7378 96.2234 88.011 Q96.2234 79.261 99.2789 74.6777 Q102.358 70.0713 108.168 70.0713 Z\" fill=\"#000000\" fill-rule=\"evenodd\" fill-opacity=\"1\" /><path clip-path=\"url(#clip490)\" d=\"M138.33 73.775 Q134.719 73.775 132.89 77.3398 Q131.084 80.8814 131.084 88.011 Q131.084 95.1174 132.89 98.6822 Q134.719 102.224 138.33 102.224 Q141.964 102.224 143.769 98.6822 Q145.598 95.1174 145.598 88.011 Q145.598 80.8814 143.769 77.3398 Q141.964 73.775 138.33 73.775 M138.33 70.0713 Q144.14 70.0713 147.195 74.6777 Q150.274 79.261 150.274 88.011 Q150.274 96.7378 147.195 101.344 Q144.14 105.928 138.33 105.928 Q132.519 105.928 129.441 101.344 Q126.385 96.7378 126.385 88.011 Q126.385 79.261 129.441 74.6777 Q132.519 70.0713 138.33 70.0713 Z\" fill=\"#000000\" fill-rule=\"evenodd\" fill-opacity=\"1\" /><polyline clip-path=\"url(#clip492)\" style=\"stroke:#009af9; stroke-linecap:round; stroke-linejoin:round; stroke-width:4; stroke-opacity:1; fill:none\" points=\"202.307,87.9763 207.651,123.941 212.995,159.424 218.339,194.423 223.683,228.94 229.027,262.974 234.372,296.525 239.716,329.594 245.06,362.179 250.404,394.282 255.748,425.903 261.092,457.04 266.437,487.695 271.781,517.867 277.125,547.556 282.469,576.762 287.813,605.486 293.157,633.727 298.502,661.485 303.846,688.761 309.19,715.554 314.534,741.864 319.878,767.691 325.222,793.035 330.567,817.897 335.911,842.276 341.255,866.172 346.599,889.586 351.943,912.516 357.287,934.964 362.632,956.93 367.976,978.412 373.32,999.412 378.664,1019.93 384.008,1039.96 389.352,1059.51 394.697,1078.58 400.041,1097.17 405.385,1115.27 410.729,1132.89 416.073,1150.03 421.417,1166.69 426.762,1182.86 432.106,1198.55 437.45,1213.75 442.794,1228.48 448.138,1242.72 453.482,1256.48 458.827,1269.75 464.171,1282.55 469.515,1294.86 474.859,1306.68 480.203,1318.03 485.547,1328.89 490.892,1339.27 496.236,1349.17 501.58,1358.58 506.924,1367.51 512.268,1375.96 517.612,1383.92 522.957,1391.41 528.301,1398.41 533.645,1404.92 538.989,1410.96 544.333,1416.51 549.677,1421.58 555.022,1426.16 560.366,1430.27 565.71,1433.89 571.054,1437.03 576.398,1439.68 581.743,1441.85 587.087,1443.54 592.431,1444.75 597.775,1445.47 603.119,1445.72 608.463,1445.47 613.808,1444.75 619.152,1443.54 624.496,1441.85 629.84,1439.68 635.184,1437.03 640.528,1433.89 645.873,1430.27 651.217,1426.16 656.561,1421.58 661.905,1416.51 667.249,1410.96 672.593,1404.92 677.938,1398.41 683.282,1391.41 688.626,1383.92 693.97,1375.96 699.314,1367.51 704.658,1358.58 710.003,1349.17 715.347,1339.27 720.691,1328.89 726.035,1318.03 731.379,1306.68 736.723,1294.86 \"/>\n",
       "<path clip-path=\"url(#clip490)\" d=\"M624.795 198.898 L733.873 198.898 L733.873 95.2176 L624.795 95.2176  Z\" fill=\"#ffffff\" fill-rule=\"evenodd\" fill-opacity=\"1\"/>\n",
       "<polyline clip-path=\"url(#clip490)\" style=\"stroke:#000000; stroke-linecap:round; stroke-linejoin:round; stroke-width:4; stroke-opacity:1; fill:none\" points=\"624.795,198.898 733.873,198.898 733.873,95.2176 624.795,95.2176 624.795,198.898 \"/>\n",
       "<polyline clip-path=\"url(#clip490)\" style=\"stroke:#009af9; stroke-linecap:round; stroke-linejoin:round; stroke-width:4; stroke-opacity:1; fill:none\" points=\"631.089,147.058 668.854,147.058 \"/>\n",
       "<path clip-path=\"url(#clip490)\" d=\"M688.991 166.745 Q687.186 171.375 685.473 172.787 Q683.76 174.199 680.889 174.199 L677.487 174.199 L677.487 170.634 L679.987 170.634 Q681.746 170.634 682.718 169.8 Q683.69 168.967 684.871 165.865 L685.635 163.921 L675.149 138.412 L679.663 138.412 L687.764 158.689 L695.866 138.412 L700.38 138.412 L688.991 166.745 Z\" fill=\"#000000\" fill-rule=\"evenodd\" fill-opacity=\"1\" /><path clip-path=\"url(#clip490)\" d=\"M707.672 160.402 L715.31 160.402 L715.31 134.037 L707 135.703 L707 131.444 L715.264 129.778 L719.94 129.778 L719.94 160.402 L727.579 160.402 L727.579 164.338 L707.672 164.338 L707.672 160.402 Z\" fill=\"#000000\" fill-rule=\"evenodd\" fill-opacity=\"1\" /><path clip-path=\"url(#clip490)\" d=\"M986.274 1486.45 L1552.76 1486.45 L1552.76 47.2441 L986.274 47.2441  Z\" fill=\"#ffffff\" fill-rule=\"evenodd\" fill-opacity=\"1\"/>\n",
       "<defs>\n",
       "  <clipPath id=\"clip493\">\n",
       "    <rect x=\"986\" y=\"47\" width=\"567\" height=\"1440\"/>\n",
       "  </clipPath>\n",
       "</defs>\n",
       "<polyline clip-path=\"url(#clip493)\" style=\"stroke:#000000; stroke-linecap:round; stroke-linejoin:round; stroke-width:2; stroke-opacity:0.1; fill:none\" points=\"1002.31,1486.45 1002.31,47.2441 \"/>\n",
       "<polyline clip-path=\"url(#clip493)\" style=\"stroke:#000000; stroke-linecap:round; stroke-linejoin:round; stroke-width:2; stroke-opacity:0.1; fill:none\" points=\"1135.91,1486.45 1135.91,47.2441 \"/>\n",
       "<polyline clip-path=\"url(#clip493)\" style=\"stroke:#000000; stroke-linecap:round; stroke-linejoin:round; stroke-width:2; stroke-opacity:0.1; fill:none\" points=\"1269.51,1486.45 1269.51,47.2441 \"/>\n",
       "<polyline clip-path=\"url(#clip493)\" style=\"stroke:#000000; stroke-linecap:round; stroke-linejoin:round; stroke-width:2; stroke-opacity:0.1; fill:none\" points=\"1403.12,1486.45 1403.12,47.2441 \"/>\n",
       "<polyline clip-path=\"url(#clip493)\" style=\"stroke:#000000; stroke-linecap:round; stroke-linejoin:round; stroke-width:2; stroke-opacity:0.1; fill:none\" points=\"1536.72,1486.45 1536.72,47.2441 \"/>\n",
       "<polyline clip-path=\"url(#clip490)\" style=\"stroke:#000000; stroke-linecap:round; stroke-linejoin:round; stroke-width:4; stroke-opacity:1; fill:none\" points=\"986.274,1486.45 1552.76,1486.45 \"/>\n",
       "<polyline clip-path=\"url(#clip490)\" style=\"stroke:#000000; stroke-linecap:round; stroke-linejoin:round; stroke-width:4; stroke-opacity:1; fill:none\" points=\"1002.31,1486.45 1002.31,1467.55 \"/>\n",
       "<polyline clip-path=\"url(#clip490)\" style=\"stroke:#000000; stroke-linecap:round; stroke-linejoin:round; stroke-width:4; stroke-opacity:1; fill:none\" points=\"1135.91,1486.45 1135.91,1467.55 \"/>\n",
       "<polyline clip-path=\"url(#clip490)\" style=\"stroke:#000000; stroke-linecap:round; stroke-linejoin:round; stroke-width:4; stroke-opacity:1; fill:none\" points=\"1269.51,1486.45 1269.51,1467.55 \"/>\n",
       "<polyline clip-path=\"url(#clip490)\" style=\"stroke:#000000; stroke-linecap:round; stroke-linejoin:round; stroke-width:4; stroke-opacity:1; fill:none\" points=\"1403.12,1486.45 1403.12,1467.55 \"/>\n",
       "<polyline clip-path=\"url(#clip490)\" style=\"stroke:#000000; stroke-linecap:round; stroke-linejoin:round; stroke-width:4; stroke-opacity:1; fill:none\" points=\"1536.72,1486.45 1536.72,1467.55 \"/>\n",
       "<path clip-path=\"url(#clip490)\" d=\"M948.835 1532.02 L978.51 1532.02 L978.51 1535.95 L948.835 1535.95 L948.835 1532.02 Z\" fill=\"#000000\" fill-rule=\"evenodd\" fill-opacity=\"1\" /><path clip-path=\"url(#clip490)\" d=\"M989.413 1544.91 L997.052 1544.91 L997.052 1518.55 L988.742 1520.21 L988.742 1515.95 L997.006 1514.29 L1001.68 1514.29 L1001.68 1544.91 L1009.32 1544.91 L1009.32 1548.85 L989.413 1548.85 L989.413 1544.91 Z\" fill=\"#000000\" fill-rule=\"evenodd\" fill-opacity=\"1\" /><path clip-path=\"url(#clip490)\" d=\"M1018.76 1542.97 L1023.65 1542.97 L1023.65 1548.85 L1018.76 1548.85 L1018.76 1542.97 Z\" fill=\"#000000\" fill-rule=\"evenodd\" fill-opacity=\"1\" /><path clip-path=\"url(#clip490)\" d=\"M1043.83 1517.37 Q1040.22 1517.37 1038.39 1520.93 Q1036.59 1524.47 1036.59 1531.6 Q1036.59 1538.71 1038.39 1542.27 Q1040.22 1545.82 1043.83 1545.82 Q1047.47 1545.82 1049.27 1542.27 Q1051.1 1538.71 1051.1 1531.6 Q1051.1 1524.47 1049.27 1520.93 Q1047.47 1517.37 1043.83 1517.37 M1043.83 1513.66 Q1049.64 1513.66 1052.7 1518.27 Q1055.78 1522.85 1055.78 1531.6 Q1055.78 1540.33 1052.7 1544.94 Q1049.64 1549.52 1043.83 1549.52 Q1038.02 1549.52 1034.95 1544.94 Q1031.89 1540.33 1031.89 1531.6 Q1031.89 1522.85 1034.95 1518.27 Q1038.02 1513.66 1043.83 1513.66 Z\" fill=\"#000000\" fill-rule=\"evenodd\" fill-opacity=\"1\" /><path clip-path=\"url(#clip490)\" d=\"M1082.94 1532.02 L1112.61 1532.02 L1112.61 1535.95 L1082.94 1535.95 L1082.94 1532.02 Z\" fill=\"#000000\" fill-rule=\"evenodd\" fill-opacity=\"1\" /><path clip-path=\"url(#clip490)\" d=\"M1132.7 1517.37 Q1129.09 1517.37 1127.26 1520.93 Q1125.46 1524.47 1125.46 1531.6 Q1125.46 1538.71 1127.26 1542.27 Q1129.09 1545.82 1132.7 1545.82 Q1136.34 1545.82 1138.14 1542.27 Q1139.97 1538.71 1139.97 1531.6 Q1139.97 1524.47 1138.14 1520.93 Q1136.34 1517.37 1132.7 1517.37 M1132.7 1513.66 Q1138.51 1513.66 1141.57 1518.27 Q1144.65 1522.85 1144.65 1531.6 Q1144.65 1540.33 1141.57 1544.94 Q1138.51 1549.52 1132.7 1549.52 Q1126.89 1549.52 1123.82 1544.94 Q1120.76 1540.33 1120.76 1531.6 Q1120.76 1522.85 1123.82 1518.27 Q1126.89 1513.66 1132.7 1513.66 Z\" fill=\"#000000\" fill-rule=\"evenodd\" fill-opacity=\"1\" /><path clip-path=\"url(#clip490)\" d=\"M1152.87 1542.97 L1157.75 1542.97 L1157.75 1548.85 L1152.87 1548.85 L1152.87 1542.97 Z\" fill=\"#000000\" fill-rule=\"evenodd\" fill-opacity=\"1\" /><path clip-path=\"url(#clip490)\" d=\"M1167.98 1514.29 L1186.34 1514.29 L1186.34 1518.22 L1172.26 1518.22 L1172.26 1526.7 Q1173.28 1526.35 1174.3 1526.19 Q1175.32 1526 1176.34 1526 Q1182.13 1526 1185.51 1529.17 Q1188.88 1532.34 1188.88 1537.76 Q1188.88 1543.34 1185.41 1546.44 Q1181.94 1549.52 1175.62 1549.52 Q1173.45 1549.52 1171.18 1549.15 Q1168.93 1548.78 1166.52 1548.04 L1166.52 1543.34 Q1168.61 1544.47 1170.83 1545.03 Q1173.05 1545.58 1175.53 1545.58 Q1179.53 1545.58 1181.87 1543.48 Q1184.21 1541.37 1184.21 1537.76 Q1184.21 1534.15 1181.87 1532.04 Q1179.53 1529.94 1175.53 1529.94 Q1173.65 1529.94 1171.78 1530.35 Q1169.93 1530.77 1167.98 1531.65 L1167.98 1514.29 Z\" fill=\"#000000\" fill-rule=\"evenodd\" fill-opacity=\"1\" /><path clip-path=\"url(#clip490)\" d=\"M1246.9 1517.37 Q1243.29 1517.37 1241.46 1520.93 Q1239.65 1524.47 1239.65 1531.6 Q1239.65 1538.71 1241.46 1542.27 Q1243.29 1545.82 1246.9 1545.82 Q1250.53 1545.82 1252.34 1542.27 Q1254.17 1538.71 1254.17 1531.6 Q1254.17 1524.47 1252.34 1520.93 Q1250.53 1517.37 1246.9 1517.37 M1246.9 1513.66 Q1252.71 1513.66 1255.77 1518.27 Q1258.84 1522.85 1258.84 1531.6 Q1258.84 1540.33 1255.77 1544.94 Q1252.71 1549.52 1246.9 1549.52 Q1241.09 1549.52 1238.01 1544.94 Q1234.95 1540.33 1234.95 1531.6 Q1234.95 1522.85 1238.01 1518.27 Q1241.09 1513.66 1246.9 1513.66 Z\" fill=\"#000000\" fill-rule=\"evenodd\" fill-opacity=\"1\" /><path clip-path=\"url(#clip490)\" d=\"M1267.06 1542.97 L1271.95 1542.97 L1271.95 1548.85 L1267.06 1548.85 L1267.06 1542.97 Z\" fill=\"#000000\" fill-rule=\"evenodd\" fill-opacity=\"1\" /><path clip-path=\"url(#clip490)\" d=\"M1292.13 1517.37 Q1288.52 1517.37 1286.69 1520.93 Q1284.89 1524.47 1284.89 1531.6 Q1284.89 1538.71 1286.69 1542.27 Q1288.52 1545.82 1292.13 1545.82 Q1295.76 1545.82 1297.57 1542.27 Q1299.4 1538.71 1299.4 1531.6 Q1299.4 1524.47 1297.57 1520.93 Q1295.76 1517.37 1292.13 1517.37 M1292.13 1513.66 Q1297.94 1513.66 1301 1518.27 Q1304.07 1522.85 1304.07 1531.6 Q1304.07 1540.33 1301 1544.94 Q1297.94 1549.52 1292.13 1549.52 Q1286.32 1549.52 1283.24 1544.94 Q1280.19 1540.33 1280.19 1531.6 Q1280.19 1522.85 1283.24 1518.27 Q1286.32 1513.66 1292.13 1513.66 Z\" fill=\"#000000\" fill-rule=\"evenodd\" fill-opacity=\"1\" /><path clip-path=\"url(#clip490)\" d=\"M1381 1517.37 Q1377.39 1517.37 1375.56 1520.93 Q1373.76 1524.47 1373.76 1531.6 Q1373.76 1538.71 1375.56 1542.27 Q1377.39 1545.82 1381 1545.82 Q1384.64 1545.82 1386.44 1542.27 Q1388.27 1538.71 1388.27 1531.6 Q1388.27 1524.47 1386.44 1520.93 Q1384.64 1517.37 1381 1517.37 M1381 1513.66 Q1386.81 1513.66 1389.87 1518.27 Q1392.95 1522.85 1392.95 1531.6 Q1392.95 1540.33 1389.87 1544.94 Q1386.81 1549.52 1381 1549.52 Q1375.19 1549.52 1372.11 1544.94 Q1369.06 1540.33 1369.06 1531.6 Q1369.06 1522.85 1372.11 1518.27 Q1375.19 1513.66 1381 1513.66 Z\" fill=\"#000000\" fill-rule=\"evenodd\" fill-opacity=\"1\" /><path clip-path=\"url(#clip490)\" d=\"M1401.16 1542.97 L1406.05 1542.97 L1406.05 1548.85 L1401.16 1548.85 L1401.16 1542.97 Z\" fill=\"#000000\" fill-rule=\"evenodd\" fill-opacity=\"1\" /><path clip-path=\"url(#clip490)\" d=\"M1416.28 1514.29 L1434.64 1514.29 L1434.64 1518.22 L1420.56 1518.22 L1420.56 1526.7 Q1421.58 1526.35 1422.6 1526.19 Q1423.62 1526 1424.64 1526 Q1430.42 1526 1433.8 1529.17 Q1437.18 1532.34 1437.18 1537.76 Q1437.18 1543.34 1433.71 1546.44 Q1430.24 1549.52 1423.92 1549.52 Q1421.74 1549.52 1419.47 1549.15 Q1417.23 1548.78 1414.82 1548.04 L1414.82 1543.34 Q1416.9 1544.47 1419.13 1545.03 Q1421.35 1545.58 1423.83 1545.58 Q1427.83 1545.58 1430.17 1543.48 Q1432.51 1541.37 1432.51 1537.76 Q1432.51 1534.15 1430.17 1532.04 Q1427.83 1529.94 1423.83 1529.94 Q1421.95 1529.94 1420.08 1530.35 Q1418.22 1530.77 1416.28 1531.65 L1416.28 1514.29 Z\" fill=\"#000000\" fill-rule=\"evenodd\" fill-opacity=\"1\" /><path clip-path=\"url(#clip490)\" d=\"M1503.88 1544.91 L1511.52 1544.91 L1511.52 1518.55 L1503.21 1520.21 L1503.21 1515.95 L1511.47 1514.29 L1516.14 1514.29 L1516.14 1544.91 L1523.78 1544.91 L1523.78 1548.85 L1503.88 1548.85 L1503.88 1544.91 Z\" fill=\"#000000\" fill-rule=\"evenodd\" fill-opacity=\"1\" /><path clip-path=\"url(#clip490)\" d=\"M1533.23 1542.97 L1538.11 1542.97 L1538.11 1548.85 L1533.23 1548.85 L1533.23 1542.97 Z\" fill=\"#000000\" fill-rule=\"evenodd\" fill-opacity=\"1\" /><path clip-path=\"url(#clip490)\" d=\"M1558.3 1517.37 Q1554.69 1517.37 1552.86 1520.93 Q1551.05 1524.47 1551.05 1531.6 Q1551.05 1538.71 1552.86 1542.27 Q1554.69 1545.82 1558.3 1545.82 Q1561.93 1545.82 1563.74 1542.27 Q1565.57 1538.71 1565.57 1531.6 Q1565.57 1524.47 1563.74 1520.93 Q1561.93 1517.37 1558.3 1517.37 M1558.3 1513.66 Q1564.11 1513.66 1567.16 1518.27 Q1570.24 1522.85 1570.24 1531.6 Q1570.24 1540.33 1567.16 1544.94 Q1564.11 1549.52 1558.3 1549.52 Q1552.49 1549.52 1549.41 1544.94 Q1546.35 1540.33 1546.35 1531.6 Q1546.35 1522.85 1549.41 1518.27 Q1552.49 1513.66 1558.3 1513.66 Z\" fill=\"#000000\" fill-rule=\"evenodd\" fill-opacity=\"1\" /><polyline clip-path=\"url(#clip493)\" style=\"stroke:#000000; stroke-linecap:round; stroke-linejoin:round; stroke-width:2; stroke-opacity:0.1; fill:none\" points=\"986.274,1445.72 1552.76,1445.72 \"/>\n",
       "<polyline clip-path=\"url(#clip493)\" style=\"stroke:#000000; stroke-linecap:round; stroke-linejoin:round; stroke-width:2; stroke-opacity:0.1; fill:none\" points=\"986.274,1106.28 1552.76,1106.28 \"/>\n",
       "<polyline clip-path=\"url(#clip493)\" style=\"stroke:#000000; stroke-linecap:round; stroke-linejoin:round; stroke-width:2; stroke-opacity:0.1; fill:none\" points=\"986.274,766.846 1552.76,766.846 \"/>\n",
       "<polyline clip-path=\"url(#clip493)\" style=\"stroke:#000000; stroke-linecap:round; stroke-linejoin:round; stroke-width:2; stroke-opacity:0.1; fill:none\" points=\"986.274,427.411 1552.76,427.411 \"/>\n",
       "<polyline clip-path=\"url(#clip493)\" style=\"stroke:#000000; stroke-linecap:round; stroke-linejoin:round; stroke-width:2; stroke-opacity:0.1; fill:none\" points=\"986.274,87.9763 1552.76,87.9763 \"/>\n",
       "<polyline clip-path=\"url(#clip490)\" style=\"stroke:#000000; stroke-linecap:round; stroke-linejoin:round; stroke-width:4; stroke-opacity:1; fill:none\" points=\"986.274,1486.45 986.274,47.2441 \"/>\n",
       "<polyline clip-path=\"url(#clip490)\" style=\"stroke:#000000; stroke-linecap:round; stroke-linejoin:round; stroke-width:4; stroke-opacity:1; fill:none\" points=\"986.274,1445.72 1005.17,1445.72 \"/>\n",
       "<polyline clip-path=\"url(#clip490)\" style=\"stroke:#000000; stroke-linecap:round; stroke-linejoin:round; stroke-width:4; stroke-opacity:1; fill:none\" points=\"986.274,1106.28 1005.17,1106.28 \"/>\n",
       "<polyline clip-path=\"url(#clip490)\" style=\"stroke:#000000; stroke-linecap:round; stroke-linejoin:round; stroke-width:4; stroke-opacity:1; fill:none\" points=\"986.274,766.846 1005.17,766.846 \"/>\n",
       "<polyline clip-path=\"url(#clip490)\" style=\"stroke:#000000; stroke-linecap:round; stroke-linejoin:round; stroke-width:4; stroke-opacity:1; fill:none\" points=\"986.274,427.411 1005.17,427.411 \"/>\n",
       "<polyline clip-path=\"url(#clip490)\" style=\"stroke:#000000; stroke-linecap:round; stroke-linejoin:round; stroke-width:4; stroke-opacity:1; fill:none\" points=\"986.274,87.9763 1005.17,87.9763 \"/>\n",
       "<path clip-path=\"url(#clip490)\" d=\"M862.937 1431.51 Q859.325 1431.51 857.497 1435.08 Q855.691 1438.62 855.691 1445.75 Q855.691 1452.86 857.497 1456.42 Q859.325 1459.96 862.937 1459.96 Q866.571 1459.96 868.376 1456.42 Q870.205 1452.86 870.205 1445.75 Q870.205 1438.62 868.376 1435.08 Q866.571 1431.51 862.937 1431.51 M862.937 1427.81 Q868.747 1427.81 871.802 1432.42 Q874.881 1437 874.881 1445.75 Q874.881 1454.48 871.802 1459.08 Q868.747 1463.67 862.937 1463.67 Q857.126 1463.67 854.048 1459.08 Q850.992 1454.48 850.992 1445.75 Q850.992 1437 854.048 1432.42 Q857.126 1427.81 862.937 1427.81 Z\" fill=\"#000000\" fill-rule=\"evenodd\" fill-opacity=\"1\" /><path clip-path=\"url(#clip490)\" d=\"M883.098 1457.12 L887.983 1457.12 L887.983 1463 L883.098 1463 L883.098 1457.12 Z\" fill=\"#000000\" fill-rule=\"evenodd\" fill-opacity=\"1\" /><path clip-path=\"url(#clip490)\" d=\"M908.168 1431.51 Q904.557 1431.51 902.728 1435.08 Q900.922 1438.62 900.922 1445.75 Q900.922 1452.86 902.728 1456.42 Q904.557 1459.96 908.168 1459.96 Q911.802 1459.96 913.608 1456.42 Q915.436 1452.86 915.436 1445.75 Q915.436 1438.62 913.608 1435.08 Q911.802 1431.51 908.168 1431.51 M908.168 1427.81 Q913.978 1427.81 917.033 1432.42 Q920.112 1437 920.112 1445.75 Q920.112 1454.48 917.033 1459.08 Q913.978 1463.67 908.168 1463.67 Q902.358 1463.67 899.279 1459.08 Q896.223 1454.48 896.223 1445.75 Q896.223 1437 899.279 1432.42 Q902.358 1427.81 908.168 1427.81 Z\" fill=\"#000000\" fill-rule=\"evenodd\" fill-opacity=\"1\" /><path clip-path=\"url(#clip490)\" d=\"M938.33 1431.51 Q934.719 1431.51 932.89 1435.08 Q931.084 1438.62 931.084 1445.75 Q931.084 1452.86 932.89 1456.42 Q934.719 1459.96 938.33 1459.96 Q941.964 1459.96 943.769 1456.42 Q945.598 1452.86 945.598 1445.75 Q945.598 1438.62 943.769 1435.08 Q941.964 1431.51 938.33 1431.51 M938.33 1427.81 Q944.14 1427.81 947.195 1432.42 Q950.274 1437 950.274 1445.75 Q950.274 1454.48 947.195 1459.08 Q944.14 1463.67 938.33 1463.67 Q932.519 1463.67 929.441 1459.08 Q926.385 1454.48 926.385 1445.75 Q926.385 1437 929.441 1432.42 Q932.519 1427.81 938.33 1427.81 Z\" fill=\"#000000\" fill-rule=\"evenodd\" fill-opacity=\"1\" /><path clip-path=\"url(#clip490)\" d=\"M863.932 1092.08 Q860.321 1092.08 858.492 1095.64 Q856.687 1099.19 856.687 1106.32 Q856.687 1113.42 858.492 1116.99 Q860.321 1120.53 863.932 1120.53 Q867.566 1120.53 869.372 1116.99 Q871.2 1113.42 871.2 1106.32 Q871.2 1099.19 869.372 1095.64 Q867.566 1092.08 863.932 1092.08 M863.932 1088.38 Q869.742 1088.38 872.798 1092.98 Q875.876 1097.57 875.876 1106.32 Q875.876 1115.04 872.798 1119.65 Q869.742 1124.23 863.932 1124.23 Q858.122 1124.23 855.043 1119.65 Q851.987 1115.04 851.987 1106.32 Q851.987 1097.57 855.043 1092.98 Q858.122 1088.38 863.932 1088.38 Z\" fill=\"#000000\" fill-rule=\"evenodd\" fill-opacity=\"1\" /><path clip-path=\"url(#clip490)\" d=\"M884.094 1117.68 L888.978 1117.68 L888.978 1123.56 L884.094 1123.56 L884.094 1117.68 Z\" fill=\"#000000\" fill-rule=\"evenodd\" fill-opacity=\"1\" /><path clip-path=\"url(#clip490)\" d=\"M903.191 1119.63 L919.51 1119.63 L919.51 1123.56 L897.566 1123.56 L897.566 1119.63 Q900.228 1116.87 904.811 1112.24 Q909.418 1107.59 910.598 1106.25 Q912.844 1103.72 913.723 1101.99 Q914.626 1100.23 914.626 1098.54 Q914.626 1095.78 912.682 1094.05 Q910.76 1092.31 907.658 1092.31 Q905.459 1092.31 903.006 1093.07 Q900.575 1093.84 897.797 1095.39 L897.797 1090.67 Q900.621 1089.53 903.075 1088.95 Q905.529 1088.38 907.566 1088.38 Q912.936 1088.38 916.131 1091.06 Q919.325 1093.75 919.325 1098.24 Q919.325 1100.37 918.515 1102.29 Q917.728 1104.19 915.621 1106.78 Q915.043 1107.45 911.941 1110.67 Q908.839 1113.86 903.191 1119.63 Z\" fill=\"#000000\" fill-rule=\"evenodd\" fill-opacity=\"1\" /><path clip-path=\"url(#clip490)\" d=\"M929.371 1089 L947.728 1089 L947.728 1092.94 L933.654 1092.94 L933.654 1101.41 Q934.672 1101.06 935.691 1100.9 Q936.709 1100.71 937.728 1100.71 Q943.515 1100.71 946.894 1103.89 Q950.274 1107.06 950.274 1112.47 Q950.274 1118.05 946.802 1121.15 Q943.33 1124.23 937.01 1124.23 Q934.834 1124.23 932.566 1123.86 Q930.32 1123.49 927.913 1122.75 L927.913 1118.05 Q929.996 1119.19 932.219 1119.74 Q934.441 1120.3 936.918 1120.3 Q940.922 1120.3 943.26 1118.19 Q945.598 1116.08 945.598 1112.47 Q945.598 1108.86 943.26 1106.76 Q940.922 1104.65 936.918 1104.65 Q935.043 1104.65 933.168 1105.07 Q931.316 1105.48 929.371 1106.36 L929.371 1089 Z\" fill=\"#000000\" fill-rule=\"evenodd\" fill-opacity=\"1\" /><path clip-path=\"url(#clip490)\" d=\"M862.937 752.645 Q859.325 752.645 857.497 756.209 Q855.691 759.751 855.691 766.881 Q855.691 773.987 857.497 777.552 Q859.325 781.094 862.937 781.094 Q866.571 781.094 868.376 777.552 Q870.205 773.987 870.205 766.881 Q870.205 759.751 868.376 756.209 Q866.571 752.645 862.937 752.645 M862.937 748.941 Q868.747 748.941 871.802 753.547 Q874.881 758.131 874.881 766.881 Q874.881 775.608 871.802 780.214 Q868.747 784.797 862.937 784.797 Q857.126 784.797 854.048 780.214 Q850.992 775.608 850.992 766.881 Q850.992 758.131 854.048 753.547 Q857.126 748.941 862.937 748.941 Z\" fill=\"#000000\" fill-rule=\"evenodd\" fill-opacity=\"1\" /><path clip-path=\"url(#clip490)\" d=\"M883.098 778.246 L887.983 778.246 L887.983 784.126 L883.098 784.126 L883.098 778.246 Z\" fill=\"#000000\" fill-rule=\"evenodd\" fill-opacity=\"1\" /><path clip-path=\"url(#clip490)\" d=\"M898.214 749.566 L916.57 749.566 L916.57 753.501 L902.496 753.501 L902.496 761.973 Q903.515 761.626 904.534 761.464 Q905.552 761.279 906.571 761.279 Q912.358 761.279 915.737 764.45 Q919.117 767.621 919.117 773.038 Q919.117 778.617 915.645 781.719 Q912.172 784.797 905.853 784.797 Q903.677 784.797 901.409 784.427 Q899.163 784.057 896.756 783.316 L896.756 778.617 Q898.839 779.751 901.061 780.307 Q903.284 780.862 905.76 780.862 Q909.765 780.862 912.103 778.756 Q914.441 776.649 914.441 773.038 Q914.441 769.427 912.103 767.321 Q909.765 765.214 905.76 765.214 Q903.885 765.214 902.01 765.631 Q900.159 766.047 898.214 766.927 L898.214 749.566 Z\" fill=\"#000000\" fill-rule=\"evenodd\" fill-opacity=\"1\" /><path clip-path=\"url(#clip490)\" d=\"M938.33 752.645 Q934.719 752.645 932.89 756.209 Q931.084 759.751 931.084 766.881 Q931.084 773.987 932.89 777.552 Q934.719 781.094 938.33 781.094 Q941.964 781.094 943.769 777.552 Q945.598 773.987 945.598 766.881 Q945.598 759.751 943.769 756.209 Q941.964 752.645 938.33 752.645 M938.33 748.941 Q944.14 748.941 947.195 753.547 Q950.274 758.131 950.274 766.881 Q950.274 775.608 947.195 780.214 Q944.14 784.797 938.33 784.797 Q932.519 784.797 929.441 780.214 Q926.385 775.608 926.385 766.881 Q926.385 758.131 929.441 753.547 Q932.519 748.941 938.33 748.941 Z\" fill=\"#000000\" fill-rule=\"evenodd\" fill-opacity=\"1\" /><path clip-path=\"url(#clip490)\" d=\"M863.932 413.21 Q860.321 413.21 858.492 416.775 Q856.687 420.316 856.687 427.446 Q856.687 434.552 858.492 438.117 Q860.321 441.659 863.932 441.659 Q867.566 441.659 869.372 438.117 Q871.2 434.552 871.2 427.446 Q871.2 420.316 869.372 416.775 Q867.566 413.21 863.932 413.21 M863.932 409.506 Q869.742 409.506 872.798 414.113 Q875.876 418.696 875.876 427.446 Q875.876 436.173 872.798 440.779 Q869.742 445.362 863.932 445.362 Q858.122 445.362 855.043 440.779 Q851.987 436.173 851.987 427.446 Q851.987 418.696 855.043 414.113 Q858.122 409.506 863.932 409.506 Z\" fill=\"#000000\" fill-rule=\"evenodd\" fill-opacity=\"1\" /><path clip-path=\"url(#clip490)\" d=\"M884.094 438.812 L888.978 438.812 L888.978 444.691 L884.094 444.691 L884.094 438.812 Z\" fill=\"#000000\" fill-rule=\"evenodd\" fill-opacity=\"1\" /><path clip-path=\"url(#clip490)\" d=\"M897.983 410.131 L920.205 410.131 L920.205 412.122 L907.658 444.691 L902.774 444.691 L914.58 414.066 L897.983 414.066 L897.983 410.131 Z\" fill=\"#000000\" fill-rule=\"evenodd\" fill-opacity=\"1\" /><path clip-path=\"url(#clip490)\" d=\"M929.371 410.131 L947.728 410.131 L947.728 414.066 L933.654 414.066 L933.654 422.538 Q934.672 422.191 935.691 422.029 Q936.709 421.844 937.728 421.844 Q943.515 421.844 946.894 425.015 Q950.274 428.187 950.274 433.603 Q950.274 439.182 946.802 442.284 Q943.33 445.362 937.01 445.362 Q934.834 445.362 932.566 444.992 Q930.32 444.622 927.913 443.881 L927.913 439.182 Q929.996 440.316 932.219 440.872 Q934.441 441.427 936.918 441.427 Q940.922 441.427 943.26 439.321 Q945.598 437.214 945.598 433.603 Q945.598 429.992 943.26 427.886 Q940.922 425.779 936.918 425.779 Q935.043 425.779 933.168 426.196 Q931.316 426.613 929.371 427.492 L929.371 410.131 Z\" fill=\"#000000\" fill-rule=\"evenodd\" fill-opacity=\"1\" /><path clip-path=\"url(#clip490)\" d=\"M853.747 101.321 L861.386 101.321 L861.386 74.9555 L853.075 76.6222 L853.075 72.3629 L861.339 70.6963 L866.015 70.6963 L866.015 101.321 L873.654 101.321 L873.654 105.256 L853.747 105.256 L853.747 101.321 Z\" fill=\"#000000\" fill-rule=\"evenodd\" fill-opacity=\"1\" /><path clip-path=\"url(#clip490)\" d=\"M883.098 99.3767 L887.983 99.3767 L887.983 105.256 L883.098 105.256 L883.098 99.3767 Z\" fill=\"#000000\" fill-rule=\"evenodd\" fill-opacity=\"1\" /><path clip-path=\"url(#clip490)\" d=\"M908.168 73.775 Q904.557 73.775 902.728 77.3398 Q900.922 80.8814 900.922 88.011 Q900.922 95.1174 902.728 98.6822 Q904.557 102.224 908.168 102.224 Q911.802 102.224 913.608 98.6822 Q915.436 95.1174 915.436 88.011 Q915.436 80.8814 913.608 77.3398 Q911.802 73.775 908.168 73.775 M908.168 70.0713 Q913.978 70.0713 917.033 74.6777 Q920.112 79.261 920.112 88.011 Q920.112 96.7378 917.033 101.344 Q913.978 105.928 908.168 105.928 Q902.358 105.928 899.279 101.344 Q896.223 96.7378 896.223 88.011 Q896.223 79.261 899.279 74.6777 Q902.358 70.0713 908.168 70.0713 Z\" fill=\"#000000\" fill-rule=\"evenodd\" fill-opacity=\"1\" /><path clip-path=\"url(#clip490)\" d=\"M938.33 73.775 Q934.719 73.775 932.89 77.3398 Q931.084 80.8814 931.084 88.011 Q931.084 95.1174 932.89 98.6822 Q934.719 102.224 938.33 102.224 Q941.964 102.224 943.769 98.6822 Q945.598 95.1174 945.598 88.011 Q945.598 80.8814 943.769 77.3398 Q941.964 73.775 938.33 73.775 M938.33 70.0713 Q944.14 70.0713 947.195 74.6777 Q950.274 79.261 950.274 88.011 Q950.274 96.7378 947.195 101.344 Q944.14 105.928 938.33 105.928 Q932.519 105.928 929.441 101.344 Q926.385 96.7378 926.385 88.011 Q926.385 79.261 929.441 74.6777 Q932.519 70.0713 938.33 70.0713 Z\" fill=\"#000000\" fill-rule=\"evenodd\" fill-opacity=\"1\" /><polyline clip-path=\"url(#clip493)\" style=\"stroke:#009af9; stroke-linecap:round; stroke-linejoin:round; stroke-width:4; stroke-opacity:1; fill:none\" points=\"1002.31,1445.72 1007.65,1391.95 1012.99,1339.27 1018.34,1287.67 1023.68,1237.17 1029.03,1187.75 1034.37,1139.41 1039.72,1092.16 1045.06,1046 1050.4,1000.92 1055.75,956.93 1061.09,914.025 1066.44,872.207 1071.78,831.474 1077.12,791.828 1082.47,753.269 1087.81,715.795 1093.16,679.408 1098.5,644.106 1103.85,609.891 1109.19,576.762 1114.53,544.72 1119.88,513.763 1125.22,483.893 1130.57,455.109 1135.91,427.411 1141.25,400.799 1146.6,375.274 1151.94,350.835 1157.29,327.482 1162.63,305.215 1167.98,284.034 1173.32,263.939 1178.66,244.931 1184.01,227.009 1189.35,210.173 1194.7,194.423 1200.04,179.759 1205.38,166.182 1210.73,153.691 1216.07,142.286 1221.42,131.967 1226.76,122.734 1232.11,114.588 1237.45,107.528 1242.79,101.554 1248.14,96.6658 1253.48,92.8641 1258.83,90.1487 1264.17,88.5194 1269.51,87.9763 1274.86,88.5194 1280.2,90.1487 1285.55,92.8641 1290.89,96.6658 1296.24,101.554 1301.58,107.528 1306.92,114.588 1312.27,122.734 1317.61,131.967 1322.96,142.286 1328.3,153.691 1333.64,166.182 1338.99,179.759 1344.33,194.423 1349.68,210.173 1355.02,227.009 1360.37,244.931 1365.71,263.939 1371.05,284.034 1376.4,305.215 1381.74,327.482 1387.09,350.835 1392.43,375.274 1397.78,400.799 1403.12,427.411 1408.46,455.109 1413.81,483.893 1419.15,513.763 1424.5,544.72 1429.84,576.762 1435.18,609.891 1440.53,644.106 1445.87,679.408 1451.22,715.795 1456.56,753.269 1461.91,791.828 1467.25,831.474 1472.59,872.207 1477.94,914.025 1483.28,956.93 1488.63,1000.92 1493.97,1046 1499.31,1092.16 1504.66,1139.41 1510,1187.75 1515.35,1237.17 1520.69,1287.67 1526.04,1339.27 1531.38,1391.95 1536.72,1445.72 \"/>\n",
       "<path clip-path=\"url(#clip490)\" d=\"M1424.79 198.898 L1533.87 198.898 L1533.87 95.2176 L1424.79 95.2176  Z\" fill=\"#ffffff\" fill-rule=\"evenodd\" fill-opacity=\"1\"/>\n",
       "<polyline clip-path=\"url(#clip490)\" style=\"stroke:#000000; stroke-linecap:round; stroke-linejoin:round; stroke-width:4; stroke-opacity:1; fill:none\" points=\"1424.79,198.898 1533.87,198.898 1533.87,95.2176 1424.79,95.2176 1424.79,198.898 \"/>\n",
       "<polyline clip-path=\"url(#clip490)\" style=\"stroke:#009af9; stroke-linecap:round; stroke-linejoin:round; stroke-width:4; stroke-opacity:1; fill:none\" points=\"1431.09,147.058 1468.85,147.058 \"/>\n",
       "<path clip-path=\"url(#clip490)\" d=\"M1488.99 166.745 Q1487.19 171.375 1485.47 172.787 Q1483.76 174.199 1480.89 174.199 L1477.49 174.199 L1477.49 170.634 L1479.99 170.634 Q1481.75 170.634 1482.72 169.8 Q1483.69 168.967 1484.87 165.865 L1485.63 163.921 L1475.15 138.412 L1479.66 138.412 L1487.76 158.689 L1495.87 138.412 L1500.38 138.412 L1488.99 166.745 Z\" fill=\"#000000\" fill-rule=\"evenodd\" fill-opacity=\"1\" /><path clip-path=\"url(#clip490)\" d=\"M1507.67 160.402 L1515.31 160.402 L1515.31 134.037 L1507 135.703 L1507 131.444 L1515.26 129.778 L1519.94 129.778 L1519.94 160.402 L1527.58 160.402 L1527.58 164.338 L1507.67 164.338 L1507.67 160.402 Z\" fill=\"#000000\" fill-rule=\"evenodd\" fill-opacity=\"1\" /><path clip-path=\"url(#clip490)\" d=\"M1786.27 1486.45 L2352.76 1486.45 L2352.76 47.2441 L1786.27 47.2441  Z\" fill=\"#ffffff\" fill-rule=\"evenodd\" fill-opacity=\"1\"/>\n",
       "<defs>\n",
       "  <clipPath id=\"clip494\">\n",
       "    <rect x=\"1786\" y=\"47\" width=\"567\" height=\"1440\"/>\n",
       "  </clipPath>\n",
       "</defs>\n",
       "<polyline clip-path=\"url(#clip494)\" style=\"stroke:#000000; stroke-linecap:round; stroke-linejoin:round; stroke-width:2; stroke-opacity:0.1; fill:none\" points=\"1802.31,1486.45 1802.31,47.2441 \"/>\n",
       "<polyline clip-path=\"url(#clip494)\" style=\"stroke:#000000; stroke-linecap:round; stroke-linejoin:round; stroke-width:2; stroke-opacity:0.1; fill:none\" points=\"1935.91,1486.45 1935.91,47.2441 \"/>\n",
       "<polyline clip-path=\"url(#clip494)\" style=\"stroke:#000000; stroke-linecap:round; stroke-linejoin:round; stroke-width:2; stroke-opacity:0.1; fill:none\" points=\"2069.51,1486.45 2069.51,47.2441 \"/>\n",
       "<polyline clip-path=\"url(#clip494)\" style=\"stroke:#000000; stroke-linecap:round; stroke-linejoin:round; stroke-width:2; stroke-opacity:0.1; fill:none\" points=\"2203.12,1486.45 2203.12,47.2441 \"/>\n",
       "<polyline clip-path=\"url(#clip494)\" style=\"stroke:#000000; stroke-linecap:round; stroke-linejoin:round; stroke-width:2; stroke-opacity:0.1; fill:none\" points=\"2336.72,1486.45 2336.72,47.2441 \"/>\n",
       "<polyline clip-path=\"url(#clip490)\" style=\"stroke:#000000; stroke-linecap:round; stroke-linejoin:round; stroke-width:4; stroke-opacity:1; fill:none\" points=\"1786.27,1486.45 2352.76,1486.45 \"/>\n",
       "<polyline clip-path=\"url(#clip490)\" style=\"stroke:#000000; stroke-linecap:round; stroke-linejoin:round; stroke-width:4; stroke-opacity:1; fill:none\" points=\"1802.31,1486.45 1802.31,1467.55 \"/>\n",
       "<polyline clip-path=\"url(#clip490)\" style=\"stroke:#000000; stroke-linecap:round; stroke-linejoin:round; stroke-width:4; stroke-opacity:1; fill:none\" points=\"1935.91,1486.45 1935.91,1467.55 \"/>\n",
       "<polyline clip-path=\"url(#clip490)\" style=\"stroke:#000000; stroke-linecap:round; stroke-linejoin:round; stroke-width:4; stroke-opacity:1; fill:none\" points=\"2069.51,1486.45 2069.51,1467.55 \"/>\n",
       "<polyline clip-path=\"url(#clip490)\" style=\"stroke:#000000; stroke-linecap:round; stroke-linejoin:round; stroke-width:4; stroke-opacity:1; fill:none\" points=\"2203.12,1486.45 2203.12,1467.55 \"/>\n",
       "<polyline clip-path=\"url(#clip490)\" style=\"stroke:#000000; stroke-linecap:round; stroke-linejoin:round; stroke-width:4; stroke-opacity:1; fill:none\" points=\"2336.72,1486.45 2336.72,1467.55 \"/>\n",
       "<path clip-path=\"url(#clip490)\" d=\"M1748.83 1532.02 L1778.51 1532.02 L1778.51 1535.95 L1748.83 1535.95 L1748.83 1532.02 Z\" fill=\"#000000\" fill-rule=\"evenodd\" fill-opacity=\"1\" /><path clip-path=\"url(#clip490)\" d=\"M1789.41 1544.91 L1797.05 1544.91 L1797.05 1518.55 L1788.74 1520.21 L1788.74 1515.95 L1797.01 1514.29 L1801.68 1514.29 L1801.68 1544.91 L1809.32 1544.91 L1809.32 1548.85 L1789.41 1548.85 L1789.41 1544.91 Z\" fill=\"#000000\" fill-rule=\"evenodd\" fill-opacity=\"1\" /><path clip-path=\"url(#clip490)\" d=\"M1818.76 1542.97 L1823.65 1542.97 L1823.65 1548.85 L1818.76 1548.85 L1818.76 1542.97 Z\" fill=\"#000000\" fill-rule=\"evenodd\" fill-opacity=\"1\" /><path clip-path=\"url(#clip490)\" d=\"M1843.83 1517.37 Q1840.22 1517.37 1838.39 1520.93 Q1836.59 1524.47 1836.59 1531.6 Q1836.59 1538.71 1838.39 1542.27 Q1840.22 1545.82 1843.83 1545.82 Q1847.47 1545.82 1849.27 1542.27 Q1851.1 1538.71 1851.1 1531.6 Q1851.1 1524.47 1849.27 1520.93 Q1847.47 1517.37 1843.83 1517.37 M1843.83 1513.66 Q1849.64 1513.66 1852.7 1518.27 Q1855.78 1522.85 1855.78 1531.6 Q1855.78 1540.33 1852.7 1544.94 Q1849.64 1549.52 1843.83 1549.52 Q1838.02 1549.52 1834.95 1544.94 Q1831.89 1540.33 1831.89 1531.6 Q1831.89 1522.85 1834.95 1518.27 Q1838.02 1513.66 1843.83 1513.66 Z\" fill=\"#000000\" fill-rule=\"evenodd\" fill-opacity=\"1\" /><path clip-path=\"url(#clip490)\" d=\"M1882.94 1532.02 L1912.61 1532.02 L1912.61 1535.95 L1882.94 1535.95 L1882.94 1532.02 Z\" fill=\"#000000\" fill-rule=\"evenodd\" fill-opacity=\"1\" /><path clip-path=\"url(#clip490)\" d=\"M1932.7 1517.37 Q1929.09 1517.37 1927.26 1520.93 Q1925.46 1524.47 1925.46 1531.6 Q1925.46 1538.71 1927.26 1542.27 Q1929.09 1545.82 1932.7 1545.82 Q1936.34 1545.82 1938.14 1542.27 Q1939.97 1538.71 1939.97 1531.6 Q1939.97 1524.47 1938.14 1520.93 Q1936.34 1517.37 1932.7 1517.37 M1932.7 1513.66 Q1938.51 1513.66 1941.57 1518.27 Q1944.65 1522.85 1944.65 1531.6 Q1944.65 1540.33 1941.57 1544.94 Q1938.51 1549.52 1932.7 1549.52 Q1926.89 1549.52 1923.82 1544.94 Q1920.76 1540.33 1920.76 1531.6 Q1920.76 1522.85 1923.82 1518.27 Q1926.89 1513.66 1932.7 1513.66 Z\" fill=\"#000000\" fill-rule=\"evenodd\" fill-opacity=\"1\" /><path clip-path=\"url(#clip490)\" d=\"M1952.87 1542.97 L1957.75 1542.97 L1957.75 1548.85 L1952.87 1548.85 L1952.87 1542.97 Z\" fill=\"#000000\" fill-rule=\"evenodd\" fill-opacity=\"1\" /><path clip-path=\"url(#clip490)\" d=\"M1967.98 1514.29 L1986.34 1514.29 L1986.34 1518.22 L1972.26 1518.22 L1972.26 1526.7 Q1973.28 1526.35 1974.3 1526.19 Q1975.32 1526 1976.34 1526 Q1982.13 1526 1985.51 1529.17 Q1988.88 1532.34 1988.88 1537.76 Q1988.88 1543.34 1985.41 1546.44 Q1981.94 1549.52 1975.62 1549.52 Q1973.45 1549.52 1971.18 1549.15 Q1968.93 1548.78 1966.52 1548.04 L1966.52 1543.34 Q1968.61 1544.47 1970.83 1545.03 Q1973.05 1545.58 1975.53 1545.58 Q1979.53 1545.58 1981.87 1543.48 Q1984.21 1541.37 1984.21 1537.76 Q1984.21 1534.15 1981.87 1532.04 Q1979.53 1529.94 1975.53 1529.94 Q1973.65 1529.94 1971.78 1530.35 Q1969.93 1530.77 1967.98 1531.65 L1967.98 1514.29 Z\" fill=\"#000000\" fill-rule=\"evenodd\" fill-opacity=\"1\" /><path clip-path=\"url(#clip490)\" d=\"M2046.9 1517.37 Q2043.29 1517.37 2041.46 1520.93 Q2039.65 1524.47 2039.65 1531.6 Q2039.65 1538.71 2041.46 1542.27 Q2043.29 1545.82 2046.9 1545.82 Q2050.53 1545.82 2052.34 1542.27 Q2054.17 1538.71 2054.17 1531.6 Q2054.17 1524.47 2052.34 1520.93 Q2050.53 1517.37 2046.9 1517.37 M2046.9 1513.66 Q2052.71 1513.66 2055.77 1518.27 Q2058.84 1522.85 2058.84 1531.6 Q2058.84 1540.33 2055.77 1544.94 Q2052.71 1549.52 2046.9 1549.52 Q2041.09 1549.52 2038.01 1544.94 Q2034.95 1540.33 2034.95 1531.6 Q2034.95 1522.85 2038.01 1518.27 Q2041.09 1513.66 2046.9 1513.66 Z\" fill=\"#000000\" fill-rule=\"evenodd\" fill-opacity=\"1\" /><path clip-path=\"url(#clip490)\" d=\"M2067.06 1542.97 L2071.95 1542.97 L2071.95 1548.85 L2067.06 1548.85 L2067.06 1542.97 Z\" fill=\"#000000\" fill-rule=\"evenodd\" fill-opacity=\"1\" /><path clip-path=\"url(#clip490)\" d=\"M2092.13 1517.37 Q2088.52 1517.37 2086.69 1520.93 Q2084.89 1524.47 2084.89 1531.6 Q2084.89 1538.71 2086.69 1542.27 Q2088.52 1545.82 2092.13 1545.82 Q2095.76 1545.82 2097.57 1542.27 Q2099.4 1538.71 2099.4 1531.6 Q2099.4 1524.47 2097.57 1520.93 Q2095.76 1517.37 2092.13 1517.37 M2092.13 1513.66 Q2097.94 1513.66 2101 1518.27 Q2104.07 1522.85 2104.07 1531.6 Q2104.07 1540.33 2101 1544.94 Q2097.94 1549.52 2092.13 1549.52 Q2086.32 1549.52 2083.24 1544.94 Q2080.19 1540.33 2080.19 1531.6 Q2080.19 1522.85 2083.24 1518.27 Q2086.32 1513.66 2092.13 1513.66 Z\" fill=\"#000000\" fill-rule=\"evenodd\" fill-opacity=\"1\" /><path clip-path=\"url(#clip490)\" d=\"M2181 1517.37 Q2177.39 1517.37 2175.56 1520.93 Q2173.76 1524.47 2173.76 1531.6 Q2173.76 1538.71 2175.56 1542.27 Q2177.39 1545.82 2181 1545.82 Q2184.64 1545.82 2186.44 1542.27 Q2188.27 1538.71 2188.27 1531.6 Q2188.27 1524.47 2186.44 1520.93 Q2184.64 1517.37 2181 1517.37 M2181 1513.66 Q2186.81 1513.66 2189.87 1518.27 Q2192.95 1522.85 2192.95 1531.6 Q2192.95 1540.33 2189.87 1544.94 Q2186.81 1549.52 2181 1549.52 Q2175.19 1549.52 2172.11 1544.94 Q2169.06 1540.33 2169.06 1531.6 Q2169.06 1522.85 2172.11 1518.27 Q2175.19 1513.66 2181 1513.66 Z\" fill=\"#000000\" fill-rule=\"evenodd\" fill-opacity=\"1\" /><path clip-path=\"url(#clip490)\" d=\"M2201.16 1542.97 L2206.05 1542.97 L2206.05 1548.85 L2201.16 1548.85 L2201.16 1542.97 Z\" fill=\"#000000\" fill-rule=\"evenodd\" fill-opacity=\"1\" /><path clip-path=\"url(#clip490)\" d=\"M2216.28 1514.29 L2234.64 1514.29 L2234.64 1518.22 L2220.56 1518.22 L2220.56 1526.7 Q2221.58 1526.35 2222.6 1526.19 Q2223.62 1526 2224.64 1526 Q2230.42 1526 2233.8 1529.17 Q2237.18 1532.34 2237.18 1537.76 Q2237.18 1543.34 2233.71 1546.44 Q2230.24 1549.52 2223.92 1549.52 Q2221.74 1549.52 2219.47 1549.15 Q2217.23 1548.78 2214.82 1548.04 L2214.82 1543.34 Q2216.9 1544.47 2219.13 1545.03 Q2221.35 1545.58 2223.83 1545.58 Q2227.83 1545.58 2230.17 1543.48 Q2232.51 1541.37 2232.51 1537.76 Q2232.51 1534.15 2230.17 1532.04 Q2227.83 1529.94 2223.83 1529.94 Q2221.95 1529.94 2220.08 1530.35 Q2218.22 1530.77 2216.28 1531.65 L2216.28 1514.29 Z\" fill=\"#000000\" fill-rule=\"evenodd\" fill-opacity=\"1\" /><path clip-path=\"url(#clip490)\" d=\"M2303.88 1544.91 L2311.52 1544.91 L2311.52 1518.55 L2303.21 1520.21 L2303.21 1515.95 L2311.47 1514.29 L2316.14 1514.29 L2316.14 1544.91 L2323.78 1544.91 L2323.78 1548.85 L2303.88 1548.85 L2303.88 1544.91 Z\" fill=\"#000000\" fill-rule=\"evenodd\" fill-opacity=\"1\" /><path clip-path=\"url(#clip490)\" d=\"M2333.23 1542.97 L2338.11 1542.97 L2338.11 1548.85 L2333.23 1548.85 L2333.23 1542.97 Z\" fill=\"#000000\" fill-rule=\"evenodd\" fill-opacity=\"1\" /><path clip-path=\"url(#clip490)\" d=\"M2358.3 1517.37 Q2354.69 1517.37 2352.86 1520.93 Q2351.05 1524.47 2351.05 1531.6 Q2351.05 1538.71 2352.86 1542.27 Q2354.69 1545.82 2358.3 1545.82 Q2361.93 1545.82 2363.74 1542.27 Q2365.57 1538.71 2365.57 1531.6 Q2365.57 1524.47 2363.74 1520.93 Q2361.93 1517.37 2358.3 1517.37 M2358.3 1513.66 Q2364.11 1513.66 2367.16 1518.27 Q2370.24 1522.85 2370.24 1531.6 Q2370.24 1540.33 2367.16 1544.94 Q2364.11 1549.52 2358.3 1549.52 Q2352.49 1549.52 2349.41 1544.94 Q2346.35 1540.33 2346.35 1531.6 Q2346.35 1522.85 2349.41 1518.27 Q2352.49 1513.66 2358.3 1513.66 Z\" fill=\"#000000\" fill-rule=\"evenodd\" fill-opacity=\"1\" /><polyline clip-path=\"url(#clip494)\" style=\"stroke:#000000; stroke-linecap:round; stroke-linejoin:round; stroke-width:2; stroke-opacity:0.1; fill:none\" points=\"1786.27,1294.86 2352.76,1294.86 \"/>\n",
       "<polyline clip-path=\"url(#clip494)\" style=\"stroke:#000000; stroke-linecap:round; stroke-linejoin:round; stroke-width:2; stroke-opacity:0.1; fill:none\" points=\"1786.27,993.136 2352.76,993.136 \"/>\n",
       "<polyline clip-path=\"url(#clip494)\" style=\"stroke:#000000; stroke-linecap:round; stroke-linejoin:round; stroke-width:2; stroke-opacity:0.1; fill:none\" points=\"1786.27,691.416 2352.76,691.416 \"/>\n",
       "<polyline clip-path=\"url(#clip494)\" style=\"stroke:#000000; stroke-linecap:round; stroke-linejoin:round; stroke-width:2; stroke-opacity:0.1; fill:none\" points=\"1786.27,389.696 2352.76,389.696 \"/>\n",
       "<polyline clip-path=\"url(#clip494)\" style=\"stroke:#000000; stroke-linecap:round; stroke-linejoin:round; stroke-width:2; stroke-opacity:0.1; fill:none\" points=\"1786.27,87.9763 2352.76,87.9763 \"/>\n",
       "<polyline clip-path=\"url(#clip490)\" style=\"stroke:#000000; stroke-linecap:round; stroke-linejoin:round; stroke-width:4; stroke-opacity:1; fill:none\" points=\"1786.27,1486.45 1786.27,47.2441 \"/>\n",
       "<polyline clip-path=\"url(#clip490)\" style=\"stroke:#000000; stroke-linecap:round; stroke-linejoin:round; stroke-width:4; stroke-opacity:1; fill:none\" points=\"1786.27,1294.86 1805.17,1294.86 \"/>\n",
       "<polyline clip-path=\"url(#clip490)\" style=\"stroke:#000000; stroke-linecap:round; stroke-linejoin:round; stroke-width:4; stroke-opacity:1; fill:none\" points=\"1786.27,993.136 1805.17,993.136 \"/>\n",
       "<polyline clip-path=\"url(#clip490)\" style=\"stroke:#000000; stroke-linecap:round; stroke-linejoin:round; stroke-width:4; stroke-opacity:1; fill:none\" points=\"1786.27,691.416 1805.17,691.416 \"/>\n",
       "<polyline clip-path=\"url(#clip490)\" style=\"stroke:#000000; stroke-linecap:round; stroke-linejoin:round; stroke-width:4; stroke-opacity:1; fill:none\" points=\"1786.27,389.696 1805.17,389.696 \"/>\n",
       "<polyline clip-path=\"url(#clip490)\" style=\"stroke:#000000; stroke-linecap:round; stroke-linejoin:round; stroke-width:4; stroke-opacity:1; fill:none\" points=\"1786.27,87.9763 1805.17,87.9763 \"/>\n",
       "<path clip-path=\"url(#clip490)\" d=\"M1662.94 1280.65 Q1659.33 1280.65 1657.5 1284.22 Q1655.69 1287.76 1655.69 1294.89 Q1655.69 1302 1657.5 1305.56 Q1659.33 1309.1 1662.94 1309.1 Q1666.57 1309.1 1668.38 1305.56 Q1670.2 1302 1670.2 1294.89 Q1670.2 1287.76 1668.38 1284.22 Q1666.57 1280.65 1662.94 1280.65 M1662.94 1276.95 Q1668.75 1276.95 1671.8 1281.56 Q1674.88 1286.14 1674.88 1294.89 Q1674.88 1303.62 1671.8 1308.22 Q1668.75 1312.81 1662.94 1312.81 Q1657.13 1312.81 1654.05 1308.22 Q1650.99 1303.62 1650.99 1294.89 Q1650.99 1286.14 1654.05 1281.56 Q1657.13 1276.95 1662.94 1276.95 Z\" fill=\"#000000\" fill-rule=\"evenodd\" fill-opacity=\"1\" /><path clip-path=\"url(#clip490)\" d=\"M1683.1 1306.26 L1687.98 1306.26 L1687.98 1312.14 L1683.1 1312.14 L1683.1 1306.26 Z\" fill=\"#000000\" fill-rule=\"evenodd\" fill-opacity=\"1\" /><path clip-path=\"url(#clip490)\" d=\"M1708.17 1280.65 Q1704.56 1280.65 1702.73 1284.22 Q1700.92 1287.76 1700.92 1294.89 Q1700.92 1302 1702.73 1305.56 Q1704.56 1309.1 1708.17 1309.1 Q1711.8 1309.1 1713.61 1305.56 Q1715.44 1302 1715.44 1294.89 Q1715.44 1287.76 1713.61 1284.22 Q1711.8 1280.65 1708.17 1280.65 M1708.17 1276.95 Q1713.98 1276.95 1717.03 1281.56 Q1720.11 1286.14 1720.11 1294.89 Q1720.11 1303.62 1717.03 1308.22 Q1713.98 1312.81 1708.17 1312.81 Q1702.36 1312.81 1699.28 1308.22 Q1696.22 1303.62 1696.22 1294.89 Q1696.22 1286.14 1699.28 1281.56 Q1702.36 1276.95 1708.17 1276.95 Z\" fill=\"#000000\" fill-rule=\"evenodd\" fill-opacity=\"1\" /><path clip-path=\"url(#clip490)\" d=\"M1738.33 1280.65 Q1734.72 1280.65 1732.89 1284.22 Q1731.08 1287.76 1731.08 1294.89 Q1731.08 1302 1732.89 1305.56 Q1734.72 1309.1 1738.33 1309.1 Q1741.96 1309.1 1743.77 1305.56 Q1745.6 1302 1745.6 1294.89 Q1745.6 1287.76 1743.77 1284.22 Q1741.96 1280.65 1738.33 1280.65 M1738.33 1276.95 Q1744.14 1276.95 1747.2 1281.56 Q1750.27 1286.14 1750.27 1294.89 Q1750.27 1303.62 1747.2 1308.22 Q1744.14 1312.81 1738.33 1312.81 Q1732.52 1312.81 1729.44 1308.22 Q1726.39 1303.62 1726.39 1294.89 Q1726.39 1286.14 1729.44 1281.56 Q1732.52 1276.95 1738.33 1276.95 Z\" fill=\"#000000\" fill-rule=\"evenodd\" fill-opacity=\"1\" /><path clip-path=\"url(#clip490)\" d=\"M1663.93 978.935 Q1660.32 978.935 1658.49 982.499 Q1656.69 986.041 1656.69 993.171 Q1656.69 1000.28 1658.49 1003.84 Q1660.32 1007.38 1663.93 1007.38 Q1667.57 1007.38 1669.37 1003.84 Q1671.2 1000.28 1671.2 993.171 Q1671.2 986.041 1669.37 982.499 Q1667.57 978.935 1663.93 978.935 M1663.93 975.231 Q1669.74 975.231 1672.8 979.837 Q1675.88 984.421 1675.88 993.171 Q1675.88 1001.9 1672.8 1006.5 Q1669.74 1011.09 1663.93 1011.09 Q1658.12 1011.09 1655.04 1006.5 Q1651.99 1001.9 1651.99 993.171 Q1651.99 984.421 1655.04 979.837 Q1658.12 975.231 1663.93 975.231 Z\" fill=\"#000000\" fill-rule=\"evenodd\" fill-opacity=\"1\" /><path clip-path=\"url(#clip490)\" d=\"M1684.09 1004.54 L1688.98 1004.54 L1688.98 1010.42 L1684.09 1010.42 L1684.09 1004.54 Z\" fill=\"#000000\" fill-rule=\"evenodd\" fill-opacity=\"1\" /><path clip-path=\"url(#clip490)\" d=\"M1703.19 1006.48 L1719.51 1006.48 L1719.51 1010.42 L1697.57 1010.42 L1697.57 1006.48 Q1700.23 1003.73 1704.81 999.097 Q1709.42 994.444 1710.6 993.101 Q1712.84 990.578 1713.72 988.842 Q1714.63 987.083 1714.63 985.393 Q1714.63 982.638 1712.68 980.902 Q1710.76 979.166 1707.66 979.166 Q1705.46 979.166 1703.01 979.93 Q1700.58 980.694 1697.8 982.245 L1697.8 977.523 Q1700.62 976.388 1703.08 975.81 Q1705.53 975.231 1707.57 975.231 Q1712.94 975.231 1716.13 977.916 Q1719.33 980.601 1719.33 985.092 Q1719.33 987.222 1718.51 989.143 Q1717.73 991.041 1715.62 993.634 Q1715.04 994.305 1711.94 997.522 Q1708.84 1000.72 1703.19 1006.48 Z\" fill=\"#000000\" fill-rule=\"evenodd\" fill-opacity=\"1\" /><path clip-path=\"url(#clip490)\" d=\"M1729.37 975.856 L1747.73 975.856 L1747.73 979.791 L1733.65 979.791 L1733.65 988.263 Q1734.67 987.916 1735.69 987.754 Q1736.71 987.569 1737.73 987.569 Q1743.51 987.569 1746.89 990.74 Q1750.27 993.911 1750.27 999.328 Q1750.27 1004.91 1746.8 1008.01 Q1743.33 1011.09 1737.01 1011.09 Q1734.83 1011.09 1732.57 1010.72 Q1730.32 1010.35 1727.91 1009.61 L1727.91 1004.91 Q1730 1006.04 1732.22 1006.6 Q1734.44 1007.15 1736.92 1007.15 Q1740.92 1007.15 1743.26 1005.05 Q1745.6 1002.94 1745.6 999.328 Q1745.6 995.717 1743.26 993.61 Q1740.92 991.504 1736.92 991.504 Q1735.04 991.504 1733.17 991.921 Q1731.32 992.337 1729.37 993.217 L1729.37 975.856 Z\" fill=\"#000000\" fill-rule=\"evenodd\" fill-opacity=\"1\" /><path clip-path=\"url(#clip490)\" d=\"M1662.94 677.215 Q1659.33 677.215 1657.5 680.779 Q1655.69 684.321 1655.69 691.451 Q1655.69 698.557 1657.5 702.122 Q1659.33 705.664 1662.94 705.664 Q1666.57 705.664 1668.38 702.122 Q1670.2 698.557 1670.2 691.451 Q1670.2 684.321 1668.38 680.779 Q1666.57 677.215 1662.94 677.215 M1662.94 673.511 Q1668.75 673.511 1671.8 678.117 Q1674.88 682.701 1674.88 691.451 Q1674.88 700.178 1671.8 704.784 Q1668.75 709.367 1662.94 709.367 Q1657.13 709.367 1654.05 704.784 Q1650.99 700.178 1650.99 691.451 Q1650.99 682.701 1654.05 678.117 Q1657.13 673.511 1662.94 673.511 Z\" fill=\"#000000\" fill-rule=\"evenodd\" fill-opacity=\"1\" /><path clip-path=\"url(#clip490)\" d=\"M1683.1 702.816 L1687.98 702.816 L1687.98 708.696 L1683.1 708.696 L1683.1 702.816 Z\" fill=\"#000000\" fill-rule=\"evenodd\" fill-opacity=\"1\" /><path clip-path=\"url(#clip490)\" d=\"M1698.21 674.136 L1716.57 674.136 L1716.57 678.071 L1702.5 678.071 L1702.5 686.543 Q1703.51 686.196 1704.53 686.034 Q1705.55 685.849 1706.57 685.849 Q1712.36 685.849 1715.74 689.02 Q1719.12 692.191 1719.12 697.608 Q1719.12 703.187 1715.64 706.289 Q1712.17 709.367 1705.85 709.367 Q1703.68 709.367 1701.41 708.997 Q1699.16 708.627 1696.76 707.886 L1696.76 703.187 Q1698.84 704.321 1701.06 704.877 Q1703.28 705.432 1705.76 705.432 Q1709.76 705.432 1712.1 703.326 Q1714.44 701.219 1714.44 697.608 Q1714.44 693.997 1712.1 691.891 Q1709.76 689.784 1705.76 689.784 Q1703.89 689.784 1702.01 690.201 Q1700.16 690.617 1698.21 691.497 L1698.21 674.136 Z\" fill=\"#000000\" fill-rule=\"evenodd\" fill-opacity=\"1\" /><path clip-path=\"url(#clip490)\" d=\"M1738.33 677.215 Q1734.72 677.215 1732.89 680.779 Q1731.08 684.321 1731.08 691.451 Q1731.08 698.557 1732.89 702.122 Q1734.72 705.664 1738.33 705.664 Q1741.96 705.664 1743.77 702.122 Q1745.6 698.557 1745.6 691.451 Q1745.6 684.321 1743.77 680.779 Q1741.96 677.215 1738.33 677.215 M1738.33 673.511 Q1744.14 673.511 1747.2 678.117 Q1750.27 682.701 1750.27 691.451 Q1750.27 700.178 1747.2 704.784 Q1744.14 709.367 1738.33 709.367 Q1732.52 709.367 1729.44 704.784 Q1726.39 700.178 1726.39 691.451 Q1726.39 682.701 1729.44 678.117 Q1732.52 673.511 1738.33 673.511 Z\" fill=\"#000000\" fill-rule=\"evenodd\" fill-opacity=\"1\" /><path clip-path=\"url(#clip490)\" d=\"M1663.93 375.495 Q1660.32 375.495 1658.49 379.06 Q1656.69 382.601 1656.69 389.731 Q1656.69 396.837 1658.49 400.402 Q1660.32 403.944 1663.93 403.944 Q1667.57 403.944 1669.37 400.402 Q1671.2 396.837 1671.2 389.731 Q1671.2 382.601 1669.37 379.06 Q1667.57 375.495 1663.93 375.495 M1663.93 371.791 Q1669.74 371.791 1672.8 376.398 Q1675.88 380.981 1675.88 389.731 Q1675.88 398.458 1672.8 403.064 Q1669.74 407.647 1663.93 407.647 Q1658.12 407.647 1655.04 403.064 Q1651.99 398.458 1651.99 389.731 Q1651.99 380.981 1655.04 376.398 Q1658.12 371.791 1663.93 371.791 Z\" fill=\"#000000\" fill-rule=\"evenodd\" fill-opacity=\"1\" /><path clip-path=\"url(#clip490)\" d=\"M1684.09 401.097 L1688.98 401.097 L1688.98 406.976 L1684.09 406.976 L1684.09 401.097 Z\" fill=\"#000000\" fill-rule=\"evenodd\" fill-opacity=\"1\" /><path clip-path=\"url(#clip490)\" d=\"M1697.98 372.416 L1720.2 372.416 L1720.2 374.407 L1707.66 406.976 L1702.77 406.976 L1714.58 376.351 L1697.98 376.351 L1697.98 372.416 Z\" fill=\"#000000\" fill-rule=\"evenodd\" fill-opacity=\"1\" /><path clip-path=\"url(#clip490)\" d=\"M1729.37 372.416 L1747.73 372.416 L1747.73 376.351 L1733.65 376.351 L1733.65 384.823 Q1734.67 384.476 1735.69 384.314 Q1736.71 384.129 1737.73 384.129 Q1743.51 384.129 1746.89 387.3 Q1750.27 390.472 1750.27 395.888 Q1750.27 401.467 1746.8 404.569 Q1743.33 407.647 1737.01 407.647 Q1734.83 407.647 1732.57 407.277 Q1730.32 406.907 1727.91 406.166 L1727.91 401.467 Q1730 402.601 1732.22 403.157 Q1734.44 403.712 1736.92 403.712 Q1740.92 403.712 1743.26 401.606 Q1745.6 399.499 1745.6 395.888 Q1745.6 392.277 1743.26 390.171 Q1740.92 388.064 1736.92 388.064 Q1735.04 388.064 1733.17 388.481 Q1731.32 388.898 1729.37 389.777 L1729.37 372.416 Z\" fill=\"#000000\" fill-rule=\"evenodd\" fill-opacity=\"1\" /><path clip-path=\"url(#clip490)\" d=\"M1653.75 101.321 L1661.39 101.321 L1661.39 74.9555 L1653.08 76.6222 L1653.08 72.3629 L1661.34 70.6963 L1666.02 70.6963 L1666.02 101.321 L1673.65 101.321 L1673.65 105.256 L1653.75 105.256 L1653.75 101.321 Z\" fill=\"#000000\" fill-rule=\"evenodd\" fill-opacity=\"1\" /><path clip-path=\"url(#clip490)\" d=\"M1683.1 99.3767 L1687.98 99.3767 L1687.98 105.256 L1683.1 105.256 L1683.1 99.3767 Z\" fill=\"#000000\" fill-rule=\"evenodd\" fill-opacity=\"1\" /><path clip-path=\"url(#clip490)\" d=\"M1708.17 73.775 Q1704.56 73.775 1702.73 77.3398 Q1700.92 80.8814 1700.92 88.011 Q1700.92 95.1174 1702.73 98.6822 Q1704.56 102.224 1708.17 102.224 Q1711.8 102.224 1713.61 98.6822 Q1715.44 95.1174 1715.44 88.011 Q1715.44 80.8814 1713.61 77.3398 Q1711.8 73.775 1708.17 73.775 M1708.17 70.0713 Q1713.98 70.0713 1717.03 74.6777 Q1720.11 79.261 1720.11 88.011 Q1720.11 96.7378 1717.03 101.344 Q1713.98 105.928 1708.17 105.928 Q1702.36 105.928 1699.28 101.344 Q1696.22 96.7378 1696.22 88.011 Q1696.22 79.261 1699.28 74.6777 Q1702.36 70.0713 1708.17 70.0713 Z\" fill=\"#000000\" fill-rule=\"evenodd\" fill-opacity=\"1\" /><path clip-path=\"url(#clip490)\" d=\"M1738.33 73.775 Q1734.72 73.775 1732.89 77.3398 Q1731.08 80.8814 1731.08 88.011 Q1731.08 95.1174 1732.89 98.6822 Q1734.72 102.224 1738.33 102.224 Q1741.96 102.224 1743.77 98.6822 Q1745.6 95.1174 1745.6 88.011 Q1745.6 80.8814 1743.77 77.3398 Q1741.96 73.775 1738.33 73.775 M1738.33 70.0713 Q1744.14 70.0713 1747.2 74.6777 Q1750.27 79.261 1750.27 88.011 Q1750.27 96.7378 1747.2 101.344 Q1744.14 105.928 1738.33 105.928 Q1732.52 105.928 1729.44 101.344 Q1726.39 96.7378 1726.39 88.011 Q1726.39 79.261 1729.44 74.6777 Q1732.52 70.0713 1738.33 70.0713 Z\" fill=\"#000000\" fill-rule=\"evenodd\" fill-opacity=\"1\" /><polyline clip-path=\"url(#clip494)\" style=\"stroke:#009af9; stroke-linecap:round; stroke-linejoin:round; stroke-width:4; stroke-opacity:1; fill:none\" points=\"1802.31,1294.86 1807.65,1306.68 1812.99,1318.03 1818.34,1328.89 1823.68,1339.27 1829.03,1349.17 1834.37,1358.58 1839.72,1367.51 1845.06,1375.96 1850.4,1383.92 1855.75,1391.41 1861.09,1398.41 1866.44,1404.92 1871.78,1410.96 1877.12,1416.51 1882.47,1421.58 1887.81,1426.16 1893.16,1430.27 1898.5,1433.89 1903.85,1437.03 1909.19,1439.68 1914.53,1441.85 1919.88,1443.54 1925.22,1444.75 1930.57,1445.47 1935.91,1445.72 1941.25,1445.47 1946.6,1444.75 1951.94,1443.54 1957.29,1441.85 1962.63,1439.68 1967.98,1437.03 1973.32,1433.89 1978.66,1430.27 1984.01,1426.16 1989.35,1421.58 1994.7,1416.51 2000.04,1410.96 2005.38,1404.92 2010.73,1398.41 2016.07,1391.41 2021.42,1383.92 2026.76,1375.96 2032.11,1367.51 2037.45,1358.58 2042.79,1349.17 2048.14,1339.27 2053.48,1328.89 2058.83,1318.03 2064.17,1306.68 2069.51,1294.86 2074.86,1282.55 2080.2,1269.75 2085.55,1256.48 2090.89,1242.72 2096.24,1228.48 2101.58,1213.75 2106.92,1198.55 2112.27,1182.86 2117.61,1166.69 2122.96,1150.03 2128.3,1132.89 2133.64,1115.27 2138.99,1097.17 2144.33,1078.58 2149.68,1059.51 2155.02,1039.96 2160.37,1019.93 2165.71,999.412 2171.05,978.412 2176.4,956.93 2181.74,934.964 2187.09,912.516 2192.43,889.586 2197.78,866.172 2203.12,842.276 2208.46,817.897 2213.81,793.035 2219.15,767.691 2224.5,741.864 2229.84,715.554 2235.18,688.761 2240.53,661.485 2245.87,633.727 2251.22,605.486 2256.56,576.762 2261.91,547.556 2267.25,517.867 2272.59,487.695 2277.94,457.04 2283.28,425.903 2288.63,394.282 2293.97,362.179 2299.31,329.594 2304.66,296.525 2310,262.974 2315.35,228.94 2320.69,194.423 2326.04,159.424 2331.38,123.941 2336.72,87.9763 \"/>\n",
       "<path clip-path=\"url(#clip490)\" d=\"M1805.16 198.898 L1914.24 198.898 L1914.24 95.2176 L1805.16 95.2176  Z\" fill=\"#ffffff\" fill-rule=\"evenodd\" fill-opacity=\"1\"/>\n",
       "<polyline clip-path=\"url(#clip490)\" style=\"stroke:#000000; stroke-linecap:round; stroke-linejoin:round; stroke-width:4; stroke-opacity:1; fill:none\" points=\"1805.16,198.898 1914.24,198.898 1914.24,95.2176 1805.16,95.2176 1805.16,198.898 \"/>\n",
       "<polyline clip-path=\"url(#clip490)\" style=\"stroke:#009af9; stroke-linecap:round; stroke-linejoin:round; stroke-width:4; stroke-opacity:1; fill:none\" points=\"1811.45,147.058 1849.22,147.058 \"/>\n",
       "<path clip-path=\"url(#clip490)\" d=\"M1869.35 166.745 Q1867.55 171.375 1865.83 172.787 Q1864.12 174.199 1861.25 174.199 L1857.85 174.199 L1857.85 170.634 L1860.35 170.634 Q1862.11 170.634 1863.08 169.8 Q1864.05 168.967 1865.23 165.865 L1866 163.921 L1855.51 138.412 L1860.02 138.412 L1868.13 158.689 L1876.23 138.412 L1880.74 138.412 L1869.35 166.745 Z\" fill=\"#000000\" fill-rule=\"evenodd\" fill-opacity=\"1\" /><path clip-path=\"url(#clip490)\" d=\"M1888.03 160.402 L1895.67 160.402 L1895.67 134.037 L1887.36 135.703 L1887.36 131.444 L1895.63 129.778 L1900.3 129.778 L1900.3 160.402 L1907.94 160.402 L1907.94 164.338 L1888.03 164.338 L1888.03 160.402 Z\" fill=\"#000000\" fill-rule=\"evenodd\" fill-opacity=\"1\" /></svg>\n"
      ]
     },
     "execution_count": 29,
     "metadata": {},
     "output_type": "execute_result"
    }
   ],
   "source": [
    "function plotBasisFcts(x1,x3,Emat)\n",
    "    xvec = [x1:(x3-x1)/100:x3]\n",
    "    a1, b1, c1 = Emat[:,1]; a2, b2, c2 = Emat[:,2]; a3, b3, c3 = Emat[:,3];  \n",
    "    phi1(s) = a1*s.*s .+ b1*s .+ c1; y1 = phi1.(xvec); p1 = plot(xvec,y1)\n",
    "    phi2(s) = a2*s.*s .+ b2*s .+ c2; y2 = phi2.(xvec); p2 = plot(xvec,y2)\n",
    "    phi3(s) = a3*s.*s .+ b3*s .+ c3; y3 = phi3.(xvec); p3 = plot(xvec,y3)\n",
    "    plot(p1,p2,p3,layout=(1,3))\n",
    "end \n",
    "plotBasisFcts(x1,x3,Emat)"
   ]
  },
  {
   "cell_type": "markdown",
   "metadata": {},
   "source": [
    "### Section 3.4/: Basis Functions and First Derivatives in the Quadrature Points \n",
    "The matrix Phi (dPhi) is a matrix of size qorder by (porder+1) of which each column is formed by evaluating the (derivative of the) basis function in the quadrature points.   "
   ]
  },
  {
   "cell_type": "code",
   "execution_count": 30,
   "metadata": {},
   "outputs": [
    {
     "data": {
      "text/plain": [
       "4×3 Matrix{Float64}:\n",
       "  0.801346   0.258444  -0.0597903\n",
       "  0.227784   0.884413  -0.112197\n",
       " -0.112197   0.884413   0.227784\n",
       " -0.0597903  0.258444   0.801346"
      ]
     },
     "metadata": {},
     "output_type": "display_data"
    },
    {
     "data": {
      "text/plain": [
       "4×3 Matrix{Float64}:\n",
       " -1.36114    1.72227   -0.361136\n",
       " -0.839981   0.679962   0.160019\n",
       " -0.160019  -0.679962   0.839981\n",
       "  0.361136  -1.72227    1.36114"
      ]
     },
     "metadata": {},
     "output_type": "display_data"
    }
   ],
   "source": [
    "Phi  = Xs*Emat; \n",
    "dPhi = dXs*Emat; \n",
    "display(Phi)\n",
    "display(dPhi)"
   ]
  },
  {
   "cell_type": "markdown",
   "metadata": {},
   "source": [
    "### Section 4.4/: Compute Integrals of (Functions of) the Basis Functions  "
   ]
  },
  {
   "cell_type": "code",
   "execution_count": 31,
   "metadata": {},
   "outputs": [
    {
     "data": {
      "text/plain": [
       "1×3 transpose(::Vector{Float64}) with eltype Float64:\n",
       " 0.333333  1.33333  0.333333"
      ]
     },
     "execution_count": 31,
     "metadata": {},
     "output_type": "execute_result"
    }
   ],
   "source": [
    "(x3-x1)/2*Transpose(w)*Phi # evaluate basis functions over the reference element "
   ]
  },
  {
   "cell_type": "markdown",
   "metadata": {},
   "source": [
    "## Section 5:/ Construction of the Local Vector  "
   ]
  },
  {
   "cell_type": "code",
   "execution_count": 32,
   "metadata": {},
   "outputs": [
    {
     "data": {
      "text/plain": [
       "1×3 transpose(::Vector{Float64}) with eltype Float64:\n",
       " 0.266667  1.06667  0.266667"
      ]
     },
     "execution_count": 32,
     "metadata": {},
     "output_type": "execute_result"
    }
   ],
   "source": [
    "(x3-x1)/2*Transpose(w)*sourceFct.(Xs*Emat)"
   ]
  },
  {
   "cell_type": "markdown",
   "metadata": {},
   "source": [
    "## Section 6:/ Construction of the Local Stiffness Matrix  "
   ]
  },
  {
   "cell_type": "code",
   "execution_count": 38,
   "metadata": {},
   "outputs": [
    {
     "data": {
      "text/plain": [
       "3×3 reshape(transpose(::Vector{Float64}), 3, 3) with eltype Float64:\n",
       "  7.0  -8.0   1.0\n",
       " -8.0  16.0  -8.0\n",
       "  1.0  -8.0   7.0"
      ]
     },
     "metadata": {},
     "output_type": "display_data"
    },
    {
     "data": {
      "text/plain": [
       "\u001b[32m\u001b[1mTest Passed\u001b[22m\u001b[39m"
      ]
     },
     "execution_count": 38,
     "metadata": {},
     "output_type": "execute_result"
    }
   ],
   "source": [
    "dPhidP hi = zeros(length(w),(pdegree+1)^2);\n",
    "[dPhidPhi[:,(j-1)*(pdegree+1)+i] = dPhi[:,i].*dPhi[:,j] for i=1:(pdegree+1),j=1:(pdegree+1)];\n",
    "Aloc = (x3-x1)/2*Transpose(w)*dPhidPhi\n",
    "Bloc = reshape(3*(x3-x1)*Aloc,3,3)\n",
    "display(Bloc)\n",
    "@test Aloc ≈ 1/(x3-x1)*[7 -8 1 -8 16 -8 1 -8 7]/3"
   ]
  },
  {
   "cell_type": "markdown",
   "metadata": {},
   "source": [
    "## Section 7:/ Construction of the Local Mass Matrix "
   ]
  },
  {
   "cell_type": "code",
   "execution_count": 42,
   "metadata": {},
   "outputs": [
    {
     "data": {
      "text/plain": [
       "3×3 reshape(transpose(::Vector{Float64}), 3, 3) with eltype Float64:\n",
       "  8.0   4.0  -2.0\n",
       "  4.0  32.0   4.0\n",
       " -2.0   4.0   8.0"
      ]
     },
     "metadata": {},
     "output_type": "display_data"
    },
    {
     "data": {
      "text/plain": [
       "\u001b[32m\u001b[1mTest Passed\u001b[22m\u001b[39m"
      ]
     },
     "execution_count": 42,
     "metadata": {},
     "output_type": "execute_result"
    }
   ],
   "source": [
    "PhiPhi = zeros(length(w),(pdegree+1)^2);\n",
    "[PhiPhi[:,(j-1)*(pdegree+1)+i] = Phi[:,i].*Phi[:,j] for i=1:(pdegree+1),j=1:(pdegree+1)];\n",
    "Mloc = (x3-x1)/2*Transpose(w)*PhiPhi\n",
    "Bloc = reshape(30*Mloc,3,3)\n",
    "display(Bloc)\n",
    "@test  Mloc ≈ (x3-x1)*[4 2 -1 2 16 2 -1 2 4]/30 "
   ]
  },
  {
   "cell_type": "markdown",
   "metadata": {},
   "source": [
    "## Section 8:/ Assembly to Global Matrices and Vectors "
   ]
  },
  {
   "cell_type": "code",
   "execution_count": 48,
   "metadata": {},
   "outputs": [
    {
     "data": {
      "image/svg+xml": [
       "<?xml version=\"1.0\" encoding=\"utf-8\"?>\n",
       "<svg xmlns=\"http://www.w3.org/2000/svg\" xmlns:xlink=\"http://www.w3.org/1999/xlink\" width=\"600\" height=\"400\" viewBox=\"0 0 2400 1600\">\n",
       "<defs>\n",
       "  <clipPath id=\"clip650\">\n",
       "    <rect x=\"0\" y=\"0\" width=\"2400\" height=\"1600\"/>\n",
       "  </clipPath>\n",
       "</defs>\n",
       "<path clip-path=\"url(#clip650)\" d=\"M0 1600 L2400 1600 L2400 0 L0 0  Z\" fill=\"#ffffff\" fill-rule=\"evenodd\" fill-opacity=\"1\"/>\n",
       "<defs>\n",
       "  <clipPath id=\"clip651\">\n",
       "    <rect x=\"480\" y=\"0\" width=\"1681\" height=\"1600\"/>\n",
       "  </clipPath>\n",
       "</defs>\n",
       "<path clip-path=\"url(#clip650)\" d=\"M250.028 1423.18 L2352.76 1423.18 L2352.76 123.472 L250.028 123.472  Z\" fill=\"#ffffff\" fill-rule=\"evenodd\" fill-opacity=\"1\"/>\n",
       "<defs>\n",
       "  <clipPath id=\"clip652\">\n",
       "    <rect x=\"250\" y=\"123\" width=\"2104\" height=\"1301\"/>\n",
       "  </clipPath>\n",
       "</defs>\n",
       "<polyline clip-path=\"url(#clip652)\" style=\"stroke:#000000; stroke-linecap:round; stroke-linejoin:round; stroke-width:2; stroke-opacity:0.1; fill:none\" points=\"309.539,1423.18 309.539,123.472 \"/>\n",
       "<polyline clip-path=\"url(#clip652)\" style=\"stroke:#000000; stroke-linecap:round; stroke-linejoin:round; stroke-width:2; stroke-opacity:0.1; fill:none\" points=\"805.466,1423.18 805.466,123.472 \"/>\n",
       "<polyline clip-path=\"url(#clip652)\" style=\"stroke:#000000; stroke-linecap:round; stroke-linejoin:round; stroke-width:2; stroke-opacity:0.1; fill:none\" points=\"1301.39,1423.18 1301.39,123.472 \"/>\n",
       "<polyline clip-path=\"url(#clip652)\" style=\"stroke:#000000; stroke-linecap:round; stroke-linejoin:round; stroke-width:2; stroke-opacity:0.1; fill:none\" points=\"1797.32,1423.18 1797.32,123.472 \"/>\n",
       "<polyline clip-path=\"url(#clip652)\" style=\"stroke:#000000; stroke-linecap:round; stroke-linejoin:round; stroke-width:2; stroke-opacity:0.1; fill:none\" points=\"2293.24,1423.18 2293.24,123.472 \"/>\n",
       "<polyline clip-path=\"url(#clip650)\" style=\"stroke:#000000; stroke-linecap:round; stroke-linejoin:round; stroke-width:4; stroke-opacity:1; fill:none\" points=\"250.028,1423.18 2352.76,1423.18 \"/>\n",
       "<polyline clip-path=\"url(#clip650)\" style=\"stroke:#000000; stroke-linecap:round; stroke-linejoin:round; stroke-width:4; stroke-opacity:1; fill:none\" points=\"309.539,1423.18 309.539,1404.28 \"/>\n",
       "<polyline clip-path=\"url(#clip650)\" style=\"stroke:#000000; stroke-linecap:round; stroke-linejoin:round; stroke-width:4; stroke-opacity:1; fill:none\" points=\"805.466,1423.18 805.466,1404.28 \"/>\n",
       "<polyline clip-path=\"url(#clip650)\" style=\"stroke:#000000; stroke-linecap:round; stroke-linejoin:round; stroke-width:4; stroke-opacity:1; fill:none\" points=\"1301.39,1423.18 1301.39,1404.28 \"/>\n",
       "<polyline clip-path=\"url(#clip650)\" style=\"stroke:#000000; stroke-linecap:round; stroke-linejoin:round; stroke-width:4; stroke-opacity:1; fill:none\" points=\"1797.32,1423.18 1797.32,1404.28 \"/>\n",
       "<polyline clip-path=\"url(#clip650)\" style=\"stroke:#000000; stroke-linecap:round; stroke-linejoin:round; stroke-width:4; stroke-opacity:1; fill:none\" points=\"2293.24,1423.18 2293.24,1404.28 \"/>\n",
       "<path clip-path=\"url(#clip650)\" d=\"M271.843 1454.1 Q268.232 1454.1 266.403 1457.66 Q264.597 1461.2 264.597 1468.33 Q264.597 1475.44 266.403 1479.01 Q268.232 1482.55 271.843 1482.55 Q275.477 1482.55 277.283 1479.01 Q279.111 1475.44 279.111 1468.33 Q279.111 1461.2 277.283 1457.66 Q275.477 1454.1 271.843 1454.1 M271.843 1450.39 Q277.653 1450.39 280.708 1455 Q283.787 1459.58 283.787 1468.33 Q283.787 1477.06 280.708 1481.67 Q277.653 1486.25 271.843 1486.25 Q266.033 1486.25 262.954 1481.67 Q259.898 1477.06 259.898 1468.33 Q259.898 1459.58 262.954 1455 Q266.033 1450.39 271.843 1450.39 Z\" fill=\"#000000\" fill-rule=\"evenodd\" fill-opacity=\"1\" /><path clip-path=\"url(#clip650)\" d=\"M292.005 1479.7 L296.889 1479.7 L296.889 1485.58 L292.005 1485.58 L292.005 1479.7 Z\" fill=\"#000000\" fill-rule=\"evenodd\" fill-opacity=\"1\" /><path clip-path=\"url(#clip650)\" d=\"M317.074 1454.1 Q313.463 1454.1 311.634 1457.66 Q309.829 1461.2 309.829 1468.33 Q309.829 1475.44 311.634 1479.01 Q313.463 1482.55 317.074 1482.55 Q320.708 1482.55 322.514 1479.01 Q324.342 1475.44 324.342 1468.33 Q324.342 1461.2 322.514 1457.66 Q320.708 1454.1 317.074 1454.1 M317.074 1450.39 Q322.884 1450.39 325.94 1455 Q329.018 1459.58 329.018 1468.33 Q329.018 1477.06 325.94 1481.67 Q322.884 1486.25 317.074 1486.25 Q311.264 1486.25 308.185 1481.67 Q305.13 1477.06 305.13 1468.33 Q305.13 1459.58 308.185 1455 Q311.264 1450.39 317.074 1450.39 Z\" fill=\"#000000\" fill-rule=\"evenodd\" fill-opacity=\"1\" /><path clip-path=\"url(#clip650)\" d=\"M347.236 1454.1 Q343.625 1454.1 341.796 1457.66 Q339.991 1461.2 339.991 1468.33 Q339.991 1475.44 341.796 1479.01 Q343.625 1482.55 347.236 1482.55 Q350.87 1482.55 352.676 1479.01 Q354.504 1475.44 354.504 1468.33 Q354.504 1461.2 352.676 1457.66 Q350.87 1454.1 347.236 1454.1 M347.236 1450.39 Q353.046 1450.39 356.102 1455 Q359.18 1459.58 359.18 1468.33 Q359.18 1477.06 356.102 1481.67 Q353.046 1486.25 347.236 1486.25 Q341.426 1486.25 338.347 1481.67 Q335.291 1477.06 335.291 1468.33 Q335.291 1459.58 338.347 1455 Q341.426 1450.39 347.236 1450.39 Z\" fill=\"#000000\" fill-rule=\"evenodd\" fill-opacity=\"1\" /><path clip-path=\"url(#clip650)\" d=\"M768.267 1454.1 Q764.656 1454.1 762.827 1457.66 Q761.021 1461.2 761.021 1468.33 Q761.021 1475.44 762.827 1479.01 Q764.656 1482.55 768.267 1482.55 Q771.901 1482.55 773.707 1479.01 Q775.535 1475.44 775.535 1468.33 Q775.535 1461.2 773.707 1457.66 Q771.901 1454.1 768.267 1454.1 M768.267 1450.39 Q774.077 1450.39 777.132 1455 Q780.211 1459.58 780.211 1468.33 Q780.211 1477.06 777.132 1481.67 Q774.077 1486.25 768.267 1486.25 Q762.457 1486.25 759.378 1481.67 Q756.322 1477.06 756.322 1468.33 Q756.322 1459.58 759.378 1455 Q762.457 1450.39 768.267 1450.39 Z\" fill=\"#000000\" fill-rule=\"evenodd\" fill-opacity=\"1\" /><path clip-path=\"url(#clip650)\" d=\"M788.429 1479.7 L793.313 1479.7 L793.313 1485.58 L788.429 1485.58 L788.429 1479.7 Z\" fill=\"#000000\" fill-rule=\"evenodd\" fill-opacity=\"1\" /><path clip-path=\"url(#clip650)\" d=\"M807.526 1481.64 L823.845 1481.64 L823.845 1485.58 L801.901 1485.58 L801.901 1481.64 Q804.563 1478.89 809.146 1474.26 Q813.753 1469.61 814.933 1468.27 Q817.179 1465.74 818.058 1464.01 Q818.961 1462.25 818.961 1460.56 Q818.961 1457.8 817.017 1456.07 Q815.095 1454.33 811.993 1454.33 Q809.794 1454.33 807.341 1455.09 Q804.91 1455.86 802.132 1457.41 L802.132 1452.69 Q804.956 1451.55 807.41 1450.97 Q809.864 1450.39 811.901 1450.39 Q817.271 1450.39 820.466 1453.08 Q823.66 1455.77 823.66 1460.26 Q823.66 1462.39 822.85 1464.31 Q822.063 1466.2 819.956 1468.8 Q819.378 1469.47 816.276 1472.69 Q813.174 1475.88 807.526 1481.64 Z\" fill=\"#000000\" fill-rule=\"evenodd\" fill-opacity=\"1\" /><path clip-path=\"url(#clip650)\" d=\"M833.706 1451.02 L852.063 1451.02 L852.063 1454.96 L837.989 1454.96 L837.989 1463.43 Q839.007 1463.08 840.026 1462.92 Q841.044 1462.73 842.063 1462.73 Q847.85 1462.73 851.229 1465.9 Q854.609 1469.08 854.609 1474.49 Q854.609 1480.07 851.137 1483.17 Q847.665 1486.25 841.345 1486.25 Q839.169 1486.25 836.901 1485.88 Q834.655 1485.51 832.248 1484.77 L832.248 1480.07 Q834.331 1481.2 836.553 1481.76 Q838.776 1482.32 841.253 1482.32 Q845.257 1482.32 847.595 1480.21 Q849.933 1478.1 849.933 1474.49 Q849.933 1470.88 847.595 1468.77 Q845.257 1466.67 841.253 1466.67 Q839.378 1466.67 837.503 1467.08 Q835.651 1467.5 833.706 1468.38 L833.706 1451.02 Z\" fill=\"#000000\" fill-rule=\"evenodd\" fill-opacity=\"1\" /><path clip-path=\"url(#clip650)\" d=\"M1263.7 1454.1 Q1260.08 1454.1 1258.26 1457.66 Q1256.45 1461.2 1256.45 1468.33 Q1256.45 1475.44 1258.26 1479.01 Q1260.08 1482.55 1263.7 1482.55 Q1267.33 1482.55 1269.14 1479.01 Q1270.96 1475.44 1270.96 1468.33 Q1270.96 1461.2 1269.14 1457.66 Q1267.33 1454.1 1263.7 1454.1 M1263.7 1450.39 Q1269.51 1450.39 1272.56 1455 Q1275.64 1459.58 1275.64 1468.33 Q1275.64 1477.06 1272.56 1481.67 Q1269.51 1486.25 1263.7 1486.25 Q1257.89 1486.25 1254.81 1481.67 Q1251.75 1477.06 1251.75 1468.33 Q1251.75 1459.58 1254.81 1455 Q1257.89 1450.39 1263.7 1450.39 Z\" fill=\"#000000\" fill-rule=\"evenodd\" fill-opacity=\"1\" /><path clip-path=\"url(#clip650)\" d=\"M1283.86 1479.7 L1288.74 1479.7 L1288.74 1485.58 L1283.86 1485.58 L1283.86 1479.7 Z\" fill=\"#000000\" fill-rule=\"evenodd\" fill-opacity=\"1\" /><path clip-path=\"url(#clip650)\" d=\"M1298.97 1451.02 L1317.33 1451.02 L1317.33 1454.96 L1303.26 1454.96 L1303.26 1463.43 Q1304.27 1463.08 1305.29 1462.92 Q1306.31 1462.73 1307.33 1462.73 Q1313.12 1462.73 1316.5 1465.9 Q1319.88 1469.08 1319.88 1474.49 Q1319.88 1480.07 1316.4 1483.17 Q1312.93 1486.25 1306.61 1486.25 Q1304.44 1486.25 1302.17 1485.88 Q1299.92 1485.51 1297.51 1484.77 L1297.51 1480.07 Q1299.6 1481.2 1301.82 1481.76 Q1304.04 1482.32 1306.52 1482.32 Q1310.52 1482.32 1312.86 1480.21 Q1315.2 1478.1 1315.2 1474.49 Q1315.2 1470.88 1312.86 1468.77 Q1310.52 1466.67 1306.52 1466.67 Q1304.64 1466.67 1302.77 1467.08 Q1300.92 1467.5 1298.97 1468.38 L1298.97 1451.02 Z\" fill=\"#000000\" fill-rule=\"evenodd\" fill-opacity=\"1\" /><path clip-path=\"url(#clip650)\" d=\"M1339.09 1454.1 Q1335.48 1454.1 1333.65 1457.66 Q1331.84 1461.2 1331.84 1468.33 Q1331.84 1475.44 1333.65 1479.01 Q1335.48 1482.55 1339.09 1482.55 Q1342.72 1482.55 1344.53 1479.01 Q1346.36 1475.44 1346.36 1468.33 Q1346.36 1461.2 1344.53 1457.66 Q1342.72 1454.1 1339.09 1454.1 M1339.09 1450.39 Q1344.9 1450.39 1347.95 1455 Q1351.03 1459.58 1351.03 1468.33 Q1351.03 1477.06 1347.95 1481.67 Q1344.9 1486.25 1339.09 1486.25 Q1333.28 1486.25 1330.2 1481.67 Q1327.14 1477.06 1327.14 1468.33 Q1327.14 1459.58 1330.2 1455 Q1333.28 1450.39 1339.09 1450.39 Z\" fill=\"#000000\" fill-rule=\"evenodd\" fill-opacity=\"1\" /><path clip-path=\"url(#clip650)\" d=\"M1760.12 1454.1 Q1756.51 1454.1 1754.68 1457.66 Q1752.87 1461.2 1752.87 1468.33 Q1752.87 1475.44 1754.68 1479.01 Q1756.51 1482.55 1760.12 1482.55 Q1763.75 1482.55 1765.56 1479.01 Q1767.39 1475.44 1767.39 1468.33 Q1767.39 1461.2 1765.56 1457.66 Q1763.75 1454.1 1760.12 1454.1 M1760.12 1450.39 Q1765.93 1450.39 1768.99 1455 Q1772.06 1459.58 1772.06 1468.33 Q1772.06 1477.06 1768.99 1481.67 Q1765.93 1486.25 1760.12 1486.25 Q1754.31 1486.25 1751.23 1481.67 Q1748.18 1477.06 1748.18 1468.33 Q1748.18 1459.58 1751.23 1455 Q1754.31 1450.39 1760.12 1450.39 Z\" fill=\"#000000\" fill-rule=\"evenodd\" fill-opacity=\"1\" /><path clip-path=\"url(#clip650)\" d=\"M1780.28 1479.7 L1785.17 1479.7 L1785.17 1485.58 L1780.28 1485.58 L1780.28 1479.7 Z\" fill=\"#000000\" fill-rule=\"evenodd\" fill-opacity=\"1\" /><path clip-path=\"url(#clip650)\" d=\"M1794.17 1451.02 L1816.39 1451.02 L1816.39 1453.01 L1803.85 1485.58 L1798.96 1485.58 L1810.77 1454.96 L1794.17 1454.96 L1794.17 1451.02 Z\" fill=\"#000000\" fill-rule=\"evenodd\" fill-opacity=\"1\" /><path clip-path=\"url(#clip650)\" d=\"M1825.56 1451.02 L1843.92 1451.02 L1843.92 1454.96 L1829.84 1454.96 L1829.84 1463.43 Q1830.86 1463.08 1831.88 1462.92 Q1832.9 1462.73 1833.92 1462.73 Q1839.7 1462.73 1843.08 1465.9 Q1846.46 1469.08 1846.46 1474.49 Q1846.46 1480.07 1842.99 1483.17 Q1839.52 1486.25 1833.2 1486.25 Q1831.02 1486.25 1828.75 1485.88 Q1826.51 1485.51 1824.1 1484.77 L1824.1 1480.07 Q1826.18 1481.2 1828.41 1481.76 Q1830.63 1482.32 1833.11 1482.32 Q1837.11 1482.32 1839.45 1480.21 Q1841.79 1478.1 1841.79 1474.49 Q1841.79 1470.88 1839.45 1468.77 Q1837.11 1466.67 1833.11 1466.67 Q1831.23 1466.67 1829.36 1467.08 Q1827.5 1467.5 1825.56 1468.38 L1825.56 1451.02 Z\" fill=\"#000000\" fill-rule=\"evenodd\" fill-opacity=\"1\" /><path clip-path=\"url(#clip650)\" d=\"M2245.32 1481.64 L2252.96 1481.64 L2252.96 1455.28 L2244.65 1456.95 L2244.65 1452.69 L2252.91 1451.02 L2257.59 1451.02 L2257.59 1481.64 L2265.22 1481.64 L2265.22 1485.58 L2245.32 1485.58 L2245.32 1481.64 Z\" fill=\"#000000\" fill-rule=\"evenodd\" fill-opacity=\"1\" /><path clip-path=\"url(#clip650)\" d=\"M2274.67 1479.7 L2279.55 1479.7 L2279.55 1485.58 L2274.67 1485.58 L2274.67 1479.7 Z\" fill=\"#000000\" fill-rule=\"evenodd\" fill-opacity=\"1\" /><path clip-path=\"url(#clip650)\" d=\"M2299.74 1454.1 Q2296.13 1454.1 2294.3 1457.66 Q2292.49 1461.2 2292.49 1468.33 Q2292.49 1475.44 2294.3 1479.01 Q2296.13 1482.55 2299.74 1482.55 Q2303.37 1482.55 2305.18 1479.01 Q2307.01 1475.44 2307.01 1468.33 Q2307.01 1461.2 2305.18 1457.66 Q2303.37 1454.1 2299.74 1454.1 M2299.74 1450.39 Q2305.55 1450.39 2308.6 1455 Q2311.68 1459.58 2311.68 1468.33 Q2311.68 1477.06 2308.6 1481.67 Q2305.55 1486.25 2299.74 1486.25 Q2293.93 1486.25 2290.85 1481.67 Q2287.79 1477.06 2287.79 1468.33 Q2287.79 1459.58 2290.85 1455 Q2293.93 1450.39 2299.74 1450.39 Z\" fill=\"#000000\" fill-rule=\"evenodd\" fill-opacity=\"1\" /><path clip-path=\"url(#clip650)\" d=\"M2329.9 1454.1 Q2326.29 1454.1 2324.46 1457.66 Q2322.65 1461.2 2322.65 1468.33 Q2322.65 1475.44 2324.46 1479.01 Q2326.29 1482.55 2329.9 1482.55 Q2333.53 1482.55 2335.34 1479.01 Q2337.17 1475.44 2337.17 1468.33 Q2337.17 1461.2 2335.34 1457.66 Q2333.53 1454.1 2329.9 1454.1 M2329.9 1450.39 Q2335.71 1450.39 2338.77 1455 Q2341.84 1459.58 2341.84 1468.33 Q2341.84 1477.06 2338.77 1481.67 Q2335.71 1486.25 2329.9 1486.25 Q2324.09 1486.25 2321.01 1481.67 Q2317.96 1477.06 2317.96 1468.33 Q2317.96 1459.58 2321.01 1455 Q2324.09 1450.39 2329.9 1450.39 Z\" fill=\"#000000\" fill-rule=\"evenodd\" fill-opacity=\"1\" /><path clip-path=\"url(#clip650)\" d=\"M1318.01 1532.4 L1305.12 1549.74 L1318.67 1568.04 L1311.77 1568.04 L1301.39 1554.04 L1291.02 1568.04 L1284.11 1568.04 L1297.95 1549.39 L1285.29 1532.4 L1292.19 1532.4 L1301.65 1545.1 L1311.1 1532.4 L1318.01 1532.4 Z\" fill=\"#000000\" fill-rule=\"evenodd\" fill-opacity=\"1\" /><polyline clip-path=\"url(#clip652)\" style=\"stroke:#000000; stroke-linecap:round; stroke-linejoin:round; stroke-width:2; stroke-opacity:0.1; fill:none\" points=\"250.028,1386.4 2352.76,1386.4 \"/>\n",
       "<polyline clip-path=\"url(#clip652)\" style=\"stroke:#000000; stroke-linecap:round; stroke-linejoin:round; stroke-width:2; stroke-opacity:0.1; fill:none\" points=\"250.028,1190.21 2352.76,1190.21 \"/>\n",
       "<polyline clip-path=\"url(#clip652)\" style=\"stroke:#000000; stroke-linecap:round; stroke-linejoin:round; stroke-width:2; stroke-opacity:0.1; fill:none\" points=\"250.028,994.031 2352.76,994.031 \"/>\n",
       "<polyline clip-path=\"url(#clip652)\" style=\"stroke:#000000; stroke-linecap:round; stroke-linejoin:round; stroke-width:2; stroke-opacity:0.1; fill:none\" points=\"250.028,797.849 2352.76,797.849 \"/>\n",
       "<polyline clip-path=\"url(#clip652)\" style=\"stroke:#000000; stroke-linecap:round; stroke-linejoin:round; stroke-width:2; stroke-opacity:0.1; fill:none\" points=\"250.028,601.666 2352.76,601.666 \"/>\n",
       "<polyline clip-path=\"url(#clip652)\" style=\"stroke:#000000; stroke-linecap:round; stroke-linejoin:round; stroke-width:2; stroke-opacity:0.1; fill:none\" points=\"250.028,405.484 2352.76,405.484 \"/>\n",
       "<polyline clip-path=\"url(#clip652)\" style=\"stroke:#000000; stroke-linecap:round; stroke-linejoin:round; stroke-width:2; stroke-opacity:0.1; fill:none\" points=\"250.028,209.302 2352.76,209.302 \"/>\n",
       "<polyline clip-path=\"url(#clip650)\" style=\"stroke:#000000; stroke-linecap:round; stroke-linejoin:round; stroke-width:4; stroke-opacity:1; fill:none\" points=\"250.028,1423.18 250.028,123.472 \"/>\n",
       "<polyline clip-path=\"url(#clip650)\" style=\"stroke:#000000; stroke-linecap:round; stroke-linejoin:round; stroke-width:4; stroke-opacity:1; fill:none\" points=\"250.028,1386.4 268.926,1386.4 \"/>\n",
       "<polyline clip-path=\"url(#clip650)\" style=\"stroke:#000000; stroke-linecap:round; stroke-linejoin:round; stroke-width:4; stroke-opacity:1; fill:none\" points=\"250.028,1190.21 268.926,1190.21 \"/>\n",
       "<polyline clip-path=\"url(#clip650)\" style=\"stroke:#000000; stroke-linecap:round; stroke-linejoin:round; stroke-width:4; stroke-opacity:1; fill:none\" points=\"250.028,994.031 268.926,994.031 \"/>\n",
       "<polyline clip-path=\"url(#clip650)\" style=\"stroke:#000000; stroke-linecap:round; stroke-linejoin:round; stroke-width:4; stroke-opacity:1; fill:none\" points=\"250.028,797.849 268.926,797.849 \"/>\n",
       "<polyline clip-path=\"url(#clip650)\" style=\"stroke:#000000; stroke-linecap:round; stroke-linejoin:round; stroke-width:4; stroke-opacity:1; fill:none\" points=\"250.028,601.666 268.926,601.666 \"/>\n",
       "<polyline clip-path=\"url(#clip650)\" style=\"stroke:#000000; stroke-linecap:round; stroke-linejoin:round; stroke-width:4; stroke-opacity:1; fill:none\" points=\"250.028,405.484 268.926,405.484 \"/>\n",
       "<polyline clip-path=\"url(#clip650)\" style=\"stroke:#000000; stroke-linecap:round; stroke-linejoin:round; stroke-width:4; stroke-opacity:1; fill:none\" points=\"250.028,209.302 268.926,209.302 \"/>\n",
       "<path clip-path=\"url(#clip650)\" d=\"M126.691 1372.19 Q123.08 1372.19 121.251 1375.76 Q119.445 1379.3 119.445 1386.43 Q119.445 1393.54 121.251 1397.1 Q123.08 1400.64 126.691 1400.64 Q130.325 1400.64 132.13 1397.1 Q133.959 1393.54 133.959 1386.43 Q133.959 1379.3 132.13 1375.76 Q130.325 1372.19 126.691 1372.19 M126.691 1368.49 Q132.501 1368.49 135.556 1373.1 Q138.635 1377.68 138.635 1386.43 Q138.635 1395.16 135.556 1399.76 Q132.501 1404.35 126.691 1404.35 Q120.88 1404.35 117.802 1399.76 Q114.746 1395.16 114.746 1386.43 Q114.746 1377.68 117.802 1373.1 Q120.88 1368.49 126.691 1368.49 Z\" fill=\"#000000\" fill-rule=\"evenodd\" fill-opacity=\"1\" /><path clip-path=\"url(#clip650)\" d=\"M146.853 1397.8 L151.737 1397.8 L151.737 1403.68 L146.853 1403.68 L146.853 1397.8 Z\" fill=\"#000000\" fill-rule=\"evenodd\" fill-opacity=\"1\" /><path clip-path=\"url(#clip650)\" d=\"M171.922 1372.19 Q168.311 1372.19 166.482 1375.76 Q164.677 1379.3 164.677 1386.43 Q164.677 1393.54 166.482 1397.1 Q168.311 1400.64 171.922 1400.64 Q175.556 1400.64 177.362 1397.1 Q179.19 1393.54 179.19 1386.43 Q179.19 1379.3 177.362 1375.76 Q175.556 1372.19 171.922 1372.19 M171.922 1368.49 Q177.732 1368.49 180.788 1373.1 Q183.866 1377.68 183.866 1386.43 Q183.866 1395.16 180.788 1399.76 Q177.732 1404.35 171.922 1404.35 Q166.112 1404.35 163.033 1399.76 Q159.978 1395.16 159.978 1386.43 Q159.978 1377.68 163.033 1373.1 Q166.112 1368.49 171.922 1368.49 Z\" fill=\"#000000\" fill-rule=\"evenodd\" fill-opacity=\"1\" /><path clip-path=\"url(#clip650)\" d=\"M202.084 1372.19 Q198.473 1372.19 196.644 1375.76 Q194.838 1379.3 194.838 1386.43 Q194.838 1393.54 196.644 1397.1 Q198.473 1400.64 202.084 1400.64 Q205.718 1400.64 207.524 1397.1 Q209.352 1393.54 209.352 1386.43 Q209.352 1379.3 207.524 1375.76 Q205.718 1372.19 202.084 1372.19 M202.084 1368.49 Q207.894 1368.49 210.949 1373.1 Q214.028 1377.68 214.028 1386.43 Q214.028 1395.16 210.949 1399.76 Q207.894 1404.35 202.084 1404.35 Q196.274 1404.35 193.195 1399.76 Q190.139 1395.16 190.139 1386.43 Q190.139 1377.68 193.195 1373.1 Q196.274 1368.49 202.084 1368.49 Z\" fill=\"#000000\" fill-rule=\"evenodd\" fill-opacity=\"1\" /><path clip-path=\"url(#clip650)\" d=\"M128.288 1176.01 Q124.677 1176.01 122.848 1179.58 Q121.043 1183.12 121.043 1190.25 Q121.043 1197.35 122.848 1200.92 Q124.677 1204.46 128.288 1204.46 Q131.922 1204.46 133.728 1200.92 Q135.556 1197.35 135.556 1190.25 Q135.556 1183.12 133.728 1179.58 Q131.922 1176.01 128.288 1176.01 M128.288 1172.31 Q134.098 1172.31 137.154 1176.91 Q140.232 1181.5 140.232 1190.25 Q140.232 1198.97 137.154 1203.58 Q134.098 1208.16 128.288 1208.16 Q122.478 1208.16 119.399 1203.58 Q116.343 1198.97 116.343 1190.25 Q116.343 1181.5 119.399 1176.91 Q122.478 1172.31 128.288 1172.31 Z\" fill=\"#000000\" fill-rule=\"evenodd\" fill-opacity=\"1\" /><path clip-path=\"url(#clip650)\" d=\"M148.45 1201.61 L153.334 1201.61 L153.334 1207.49 L148.45 1207.49 L148.45 1201.61 Z\" fill=\"#000000\" fill-rule=\"evenodd\" fill-opacity=\"1\" /><path clip-path=\"url(#clip650)\" d=\"M173.519 1176.01 Q169.908 1176.01 168.079 1179.58 Q166.274 1183.12 166.274 1190.25 Q166.274 1197.35 168.079 1200.92 Q169.908 1204.46 173.519 1204.46 Q177.153 1204.46 178.959 1200.92 Q180.788 1197.35 180.788 1190.25 Q180.788 1183.12 178.959 1179.58 Q177.153 1176.01 173.519 1176.01 M173.519 1172.31 Q179.329 1172.31 182.385 1176.91 Q185.463 1181.5 185.463 1190.25 Q185.463 1198.97 182.385 1203.58 Q179.329 1208.16 173.519 1208.16 Q167.709 1208.16 164.63 1203.58 Q161.575 1198.97 161.575 1190.25 Q161.575 1181.5 164.63 1176.91 Q167.709 1172.31 173.519 1172.31 Z\" fill=\"#000000\" fill-rule=\"evenodd\" fill-opacity=\"1\" /><path clip-path=\"url(#clip650)\" d=\"M197.709 1203.56 L214.028 1203.56 L214.028 1207.49 L192.084 1207.49 L192.084 1203.56 Q194.746 1200.8 199.329 1196.17 Q203.936 1191.52 205.116 1190.18 Q207.362 1187.66 208.241 1185.92 Q209.144 1184.16 209.144 1182.47 Q209.144 1179.72 207.199 1177.98 Q205.278 1176.24 202.176 1176.24 Q199.977 1176.24 197.524 1177.01 Q195.093 1177.77 192.315 1179.32 L192.315 1174.6 Q195.139 1173.47 197.593 1172.89 Q200.047 1172.31 202.084 1172.31 Q207.454 1172.31 210.649 1174.99 Q213.843 1177.68 213.843 1182.17 Q213.843 1184.3 213.033 1186.22 Q212.246 1188.12 210.139 1190.71 Q209.561 1191.38 206.459 1194.6 Q203.357 1197.79 197.709 1203.56 Z\" fill=\"#000000\" fill-rule=\"evenodd\" fill-opacity=\"1\" /><path clip-path=\"url(#clip650)\" d=\"M126.205 979.83 Q122.593 979.83 120.765 983.395 Q118.959 986.936 118.959 994.066 Q118.959 1001.17 120.765 1004.74 Q122.593 1008.28 126.205 1008.28 Q129.839 1008.28 131.644 1004.74 Q133.473 1001.17 133.473 994.066 Q133.473 986.936 131.644 983.395 Q129.839 979.83 126.205 979.83 M126.205 976.126 Q132.015 976.126 135.07 980.733 Q138.149 985.316 138.149 994.066 Q138.149 1002.79 135.07 1007.4 Q132.015 1011.98 126.205 1011.98 Q120.394 1011.98 117.316 1007.4 Q114.26 1002.79 114.26 994.066 Q114.26 985.316 117.316 980.733 Q120.394 976.126 126.205 976.126 Z\" fill=\"#000000\" fill-rule=\"evenodd\" fill-opacity=\"1\" /><path clip-path=\"url(#clip650)\" d=\"M146.366 1005.43 L151.251 1005.43 L151.251 1011.31 L146.366 1011.31 L146.366 1005.43 Z\" fill=\"#000000\" fill-rule=\"evenodd\" fill-opacity=\"1\" /><path clip-path=\"url(#clip650)\" d=\"M171.436 979.83 Q167.825 979.83 165.996 983.395 Q164.19 986.936 164.19 994.066 Q164.19 1001.17 165.996 1004.74 Q167.825 1008.28 171.436 1008.28 Q175.07 1008.28 176.876 1004.74 Q178.704 1001.17 178.704 994.066 Q178.704 986.936 176.876 983.395 Q175.07 979.83 171.436 979.83 M171.436 976.126 Q177.246 976.126 180.301 980.733 Q183.38 985.316 183.38 994.066 Q183.38 1002.79 180.301 1007.4 Q177.246 1011.98 171.436 1011.98 Q165.626 1011.98 162.547 1007.4 Q159.491 1002.79 159.491 994.066 Q159.491 985.316 162.547 980.733 Q165.626 976.126 171.436 976.126 Z\" fill=\"#000000\" fill-rule=\"evenodd\" fill-opacity=\"1\" /><path clip-path=\"url(#clip650)\" d=\"M204.445 980.825 L192.639 999.274 L204.445 999.274 L204.445 980.825 M203.218 976.751 L209.098 976.751 L209.098 999.274 L214.028 999.274 L214.028 1003.16 L209.098 1003.16 L209.098 1011.31 L204.445 1011.31 L204.445 1003.16 L188.843 1003.16 L188.843 998.649 L203.218 976.751 Z\" fill=\"#000000\" fill-rule=\"evenodd\" fill-opacity=\"1\" /><path clip-path=\"url(#clip650)\" d=\"M126.529 783.647 Q122.918 783.647 121.089 787.212 Q119.283 790.754 119.283 797.883 Q119.283 804.99 121.089 808.555 Q122.918 812.096 126.529 812.096 Q130.163 812.096 131.968 808.555 Q133.797 804.99 133.797 797.883 Q133.797 790.754 131.968 787.212 Q130.163 783.647 126.529 783.647 M126.529 779.944 Q132.339 779.944 135.394 784.55 Q138.473 789.134 138.473 797.883 Q138.473 806.61 135.394 811.217 Q132.339 815.8 126.529 815.8 Q120.718 815.8 117.64 811.217 Q114.584 806.61 114.584 797.883 Q114.584 789.134 117.64 784.55 Q120.718 779.944 126.529 779.944 Z\" fill=\"#000000\" fill-rule=\"evenodd\" fill-opacity=\"1\" /><path clip-path=\"url(#clip650)\" d=\"M146.691 809.249 L151.575 809.249 L151.575 815.129 L146.691 815.129 L146.691 809.249 Z\" fill=\"#000000\" fill-rule=\"evenodd\" fill-opacity=\"1\" /><path clip-path=\"url(#clip650)\" d=\"M171.76 783.647 Q168.149 783.647 166.32 787.212 Q164.515 790.754 164.515 797.883 Q164.515 804.99 166.32 808.555 Q168.149 812.096 171.76 812.096 Q175.394 812.096 177.2 808.555 Q179.028 804.99 179.028 797.883 Q179.028 790.754 177.2 787.212 Q175.394 783.647 171.76 783.647 M171.76 779.944 Q177.57 779.944 180.626 784.55 Q183.704 789.134 183.704 797.883 Q183.704 806.61 180.626 811.217 Q177.57 815.8 171.76 815.8 Q165.95 815.8 162.871 811.217 Q159.815 806.61 159.815 797.883 Q159.815 789.134 162.871 784.55 Q165.95 779.944 171.76 779.944 Z\" fill=\"#000000\" fill-rule=\"evenodd\" fill-opacity=\"1\" /><path clip-path=\"url(#clip650)\" d=\"M202.5 795.985 Q199.352 795.985 197.5 798.138 Q195.672 800.291 195.672 804.041 Q195.672 807.768 197.5 809.944 Q199.352 812.096 202.5 812.096 Q205.649 812.096 207.477 809.944 Q209.329 807.768 209.329 804.041 Q209.329 800.291 207.477 798.138 Q205.649 795.985 202.5 795.985 M211.783 781.333 L211.783 785.592 Q210.024 784.759 208.218 784.319 Q206.436 783.879 204.676 783.879 Q200.047 783.879 197.593 787.004 Q195.163 790.129 194.815 796.448 Q196.181 794.434 198.241 793.37 Q200.301 792.282 202.778 792.282 Q207.987 792.282 210.996 795.453 Q214.028 798.601 214.028 804.041 Q214.028 809.365 210.88 812.582 Q207.732 815.8 202.5 815.8 Q196.505 815.8 193.334 811.217 Q190.163 806.61 190.163 797.883 Q190.163 789.689 194.051 784.828 Q197.94 779.944 204.491 779.944 Q206.25 779.944 208.033 780.291 Q209.838 780.638 211.783 781.333 Z\" fill=\"#000000\" fill-rule=\"evenodd\" fill-opacity=\"1\" /><path clip-path=\"url(#clip650)\" d=\"M126.783 587.465 Q123.172 587.465 121.343 591.03 Q119.538 594.572 119.538 601.701 Q119.538 608.808 121.343 612.372 Q123.172 615.914 126.783 615.914 Q130.417 615.914 132.223 612.372 Q134.052 608.808 134.052 601.701 Q134.052 594.572 132.223 591.03 Q130.417 587.465 126.783 587.465 M126.783 583.761 Q132.593 583.761 135.649 588.368 Q138.728 592.951 138.728 601.701 Q138.728 610.428 135.649 615.034 Q132.593 619.618 126.783 619.618 Q120.973 619.618 117.894 615.034 Q114.839 610.428 114.839 601.701 Q114.839 592.951 117.894 588.368 Q120.973 583.761 126.783 583.761 Z\" fill=\"#000000\" fill-rule=\"evenodd\" fill-opacity=\"1\" /><path clip-path=\"url(#clip650)\" d=\"M146.945 613.067 L151.829 613.067 L151.829 618.946 L146.945 618.946 L146.945 613.067 Z\" fill=\"#000000\" fill-rule=\"evenodd\" fill-opacity=\"1\" /><path clip-path=\"url(#clip650)\" d=\"M172.014 587.465 Q168.403 587.465 166.575 591.03 Q164.769 594.572 164.769 601.701 Q164.769 608.808 166.575 612.372 Q168.403 615.914 172.014 615.914 Q175.649 615.914 177.454 612.372 Q179.283 608.808 179.283 601.701 Q179.283 594.572 177.454 591.03 Q175.649 587.465 172.014 587.465 M172.014 583.761 Q177.825 583.761 180.88 588.368 Q183.959 592.951 183.959 601.701 Q183.959 610.428 180.88 615.034 Q177.825 619.618 172.014 619.618 Q166.204 619.618 163.126 615.034 Q160.07 610.428 160.07 601.701 Q160.07 592.951 163.126 588.368 Q166.204 583.761 172.014 583.761 Z\" fill=\"#000000\" fill-rule=\"evenodd\" fill-opacity=\"1\" /><path clip-path=\"url(#clip650)\" d=\"M202.176 602.535 Q198.843 602.535 196.922 604.317 Q195.024 606.099 195.024 609.224 Q195.024 612.349 196.922 614.132 Q198.843 615.914 202.176 615.914 Q205.51 615.914 207.431 614.132 Q209.352 612.326 209.352 609.224 Q209.352 606.099 207.431 604.317 Q205.533 602.535 202.176 602.535 M197.5 600.544 Q194.491 599.803 192.801 597.743 Q191.135 595.683 191.135 592.72 Q191.135 588.576 194.075 586.169 Q197.037 583.761 202.176 583.761 Q207.338 583.761 210.278 586.169 Q213.218 588.576 213.218 592.72 Q213.218 595.683 211.528 597.743 Q209.861 599.803 206.875 600.544 Q210.255 601.331 212.13 603.622 Q214.028 605.914 214.028 609.224 Q214.028 614.247 210.949 616.933 Q207.894 619.618 202.176 619.618 Q196.459 619.618 193.38 616.933 Q190.325 614.247 190.325 609.224 Q190.325 605.914 192.223 603.622 Q194.121 601.331 197.5 600.544 M195.787 593.16 Q195.787 595.845 197.454 597.349 Q199.144 598.854 202.176 598.854 Q205.186 598.854 206.875 597.349 Q208.588 595.845 208.588 593.16 Q208.588 590.474 206.875 588.97 Q205.186 587.465 202.176 587.465 Q199.144 587.465 197.454 588.97 Q195.787 590.474 195.787 593.16 Z\" fill=\"#000000\" fill-rule=\"evenodd\" fill-opacity=\"1\" /><path clip-path=\"url(#clip650)\" d=\"M126.691 391.283 Q123.08 391.283 121.251 394.848 Q119.445 398.389 119.445 405.519 Q119.445 412.625 121.251 416.19 Q123.08 419.732 126.691 419.732 Q130.325 419.732 132.13 416.19 Q133.959 412.625 133.959 405.519 Q133.959 398.389 132.13 394.848 Q130.325 391.283 126.691 391.283 M126.691 387.579 Q132.501 387.579 135.556 392.186 Q138.635 396.769 138.635 405.519 Q138.635 414.246 135.556 418.852 Q132.501 423.435 126.691 423.435 Q120.88 423.435 117.802 418.852 Q114.746 414.246 114.746 405.519 Q114.746 396.769 117.802 392.186 Q120.88 387.579 126.691 387.579 Z\" fill=\"#000000\" fill-rule=\"evenodd\" fill-opacity=\"1\" /><path clip-path=\"url(#clip650)\" d=\"M146.853 416.885 L151.737 416.885 L151.737 422.764 L146.853 422.764 L146.853 416.885 Z\" fill=\"#000000\" fill-rule=\"evenodd\" fill-opacity=\"1\" /><path clip-path=\"url(#clip650)\" d=\"M162.732 418.829 L170.371 418.829 L170.371 392.463 L162.061 394.13 L162.061 389.871 L170.325 388.204 L175.001 388.204 L175.001 418.829 L182.639 418.829 L182.639 422.764 L162.732 422.764 L162.732 418.829 Z\" fill=\"#000000\" fill-rule=\"evenodd\" fill-opacity=\"1\" /><path clip-path=\"url(#clip650)\" d=\"M202.084 391.283 Q198.473 391.283 196.644 394.848 Q194.838 398.389 194.838 405.519 Q194.838 412.625 196.644 416.19 Q198.473 419.732 202.084 419.732 Q205.718 419.732 207.524 416.19 Q209.352 412.625 209.352 405.519 Q209.352 398.389 207.524 394.848 Q205.718 391.283 202.084 391.283 M202.084 387.579 Q207.894 387.579 210.949 392.186 Q214.028 396.769 214.028 405.519 Q214.028 414.246 210.949 418.852 Q207.894 423.435 202.084 423.435 Q196.274 423.435 193.195 418.852 Q190.139 414.246 190.139 405.519 Q190.139 396.769 193.195 392.186 Q196.274 387.579 202.084 387.579 Z\" fill=\"#000000\" fill-rule=\"evenodd\" fill-opacity=\"1\" /><path clip-path=\"url(#clip650)\" d=\"M128.288 195.101 Q124.677 195.101 122.848 198.665 Q121.043 202.207 121.043 209.337 Q121.043 216.443 122.848 220.008 Q124.677 223.549 128.288 223.549 Q131.922 223.549 133.728 220.008 Q135.556 216.443 135.556 209.337 Q135.556 202.207 133.728 198.665 Q131.922 195.101 128.288 195.101 M128.288 191.397 Q134.098 191.397 137.154 196.003 Q140.232 200.587 140.232 209.337 Q140.232 218.063 137.154 222.67 Q134.098 227.253 128.288 227.253 Q122.478 227.253 119.399 222.67 Q116.343 218.063 116.343 209.337 Q116.343 200.587 119.399 196.003 Q122.478 191.397 128.288 191.397 Z\" fill=\"#000000\" fill-rule=\"evenodd\" fill-opacity=\"1\" /><path clip-path=\"url(#clip650)\" d=\"M148.45 220.702 L153.334 220.702 L153.334 226.582 L148.45 226.582 L148.45 220.702 Z\" fill=\"#000000\" fill-rule=\"evenodd\" fill-opacity=\"1\" /><path clip-path=\"url(#clip650)\" d=\"M164.329 222.647 L171.968 222.647 L171.968 196.281 L163.658 197.948 L163.658 193.689 L171.922 192.022 L176.598 192.022 L176.598 222.647 L184.237 222.647 L184.237 226.582 L164.329 226.582 L164.329 222.647 Z\" fill=\"#000000\" fill-rule=\"evenodd\" fill-opacity=\"1\" /><path clip-path=\"url(#clip650)\" d=\"M197.709 222.647 L214.028 222.647 L214.028 226.582 L192.084 226.582 L192.084 222.647 Q194.746 219.892 199.329 215.262 Q203.936 210.61 205.116 209.267 Q207.362 206.744 208.241 205.008 Q209.144 203.249 209.144 201.559 Q209.144 198.804 207.199 197.068 Q205.278 195.332 202.176 195.332 Q199.977 195.332 197.524 196.096 Q195.093 196.86 192.315 198.411 L192.315 193.689 Q195.139 192.554 197.593 191.976 Q200.047 191.397 202.084 191.397 Q207.454 191.397 210.649 194.082 Q213.843 196.767 213.843 201.258 Q213.843 203.388 213.033 205.309 Q212.246 207.207 210.139 209.8 Q209.561 210.471 206.459 213.688 Q203.357 216.883 197.709 222.647 Z\" fill=\"#000000\" fill-rule=\"evenodd\" fill-opacity=\"1\" /><path clip-path=\"url(#clip650)\" d=\"M49.9359 833.132 L28.3562 833.132 L28.3562 827.275 L49.7131 827.275 Q54.7739 827.275 57.3202 825.302 Q59.8346 823.329 59.8346 819.382 Q59.8346 814.639 56.8109 811.902 Q53.7872 809.133 48.5673 809.133 L28.3562 809.133 L28.3562 803.277 L64.0042 803.277 L64.0042 809.133 L58.5296 809.133 Q61.7762 811.266 63.3676 814.098 Q64.9272 816.899 64.9272 820.623 Q64.9272 826.766 61.1078 829.949 Q57.2883 833.132 49.9359 833.132 M27.4968 818.395 L27.4968 818.395 Z\" fill=\"#000000\" fill-rule=\"evenodd\" fill-opacity=\"1\" /><path clip-path=\"url(#clip650)\" d=\"M14.5426 777.145 Q21.8632 781.41 29.0246 783.479 Q36.186 785.548 43.5384 785.548 Q50.8908 785.548 58.1159 783.479 Q65.3091 781.379 72.5979 777.145 L72.5979 782.238 Q65.1182 787.012 57.8931 789.399 Q50.668 791.755 43.5384 791.755 Q36.4406 791.755 29.2474 789.399 Q22.0542 787.044 14.5426 782.238 L14.5426 777.145 Z\" fill=\"#000000\" fill-rule=\"evenodd\" fill-opacity=\"1\" /><path clip-path=\"url(#clip650)\" d=\"M28.3562 736.15 L45.7028 749.041 L64.0042 735.482 L64.0042 742.389 L49.9996 752.765 L64.0042 763.141 L64.0042 770.048 L45.3526 756.202 L28.3562 768.87 L28.3562 761.963 L41.0558 752.51 L28.3562 743.057 L28.3562 736.15 Z\" fill=\"#000000\" fill-rule=\"evenodd\" fill-opacity=\"1\" /><path clip-path=\"url(#clip650)\" d=\"M14.5426 728.129 L14.5426 723.037 Q22.0542 718.263 29.2474 715.907 Q36.4406 713.52 43.5384 713.52 Q50.668 713.52 57.8931 715.907 Q65.1182 718.263 72.5979 723.037 L72.5979 728.129 Q65.3091 723.896 58.1159 721.827 Q50.8908 719.727 43.5384 719.727 Q36.186 719.727 29.0246 721.827 Q21.8632 723.896 14.5426 728.129 Z\" fill=\"#000000\" fill-rule=\"evenodd\" fill-opacity=\"1\" /><path clip-path=\"url(#clip650)\" d=\"M661.369 12.096 L672.388 12.096 L699.205 62.6918 L699.205 12.096 L707.145 12.096 L707.145 72.576 L696.126 72.576 L669.309 21.9802 L669.309 72.576 L661.369 72.576 L661.369 12.096 Z\" fill=\"#000000\" fill-rule=\"evenodd\" fill-opacity=\"1\" /><path clip-path=\"url(#clip650)\" d=\"M722.336 54.671 L722.336 27.2059 L729.789 27.2059 L729.789 54.3874 Q729.789 60.8284 732.301 64.0691 Q734.812 67.2693 739.835 67.2693 Q745.871 67.2693 749.355 63.421 Q752.879 59.5726 752.879 52.9291 L752.879 27.2059 L760.333 27.2059 L760.333 72.576 L752.879 72.576 L752.879 65.6084 Q750.165 69.7404 746.56 71.7658 Q742.995 73.7508 738.256 73.7508 Q730.437 73.7508 726.386 68.8897 Q722.336 64.0286 722.336 54.671 M741.091 26.1121 L741.091 26.1121 Z\" fill=\"#000000\" fill-rule=\"evenodd\" fill-opacity=\"1\" /><path clip-path=\"url(#clip650)\" d=\"M811.01 35.9153 Q813.805 30.8922 817.694 28.5022 Q821.583 26.1121 826.849 26.1121 Q833.938 26.1121 837.786 31.0947 Q841.635 36.0368 841.635 45.1919 L841.635 72.576 L834.14 72.576 L834.14 45.4349 Q834.14 38.913 831.831 35.7533 Q829.522 32.5936 824.783 32.5936 Q818.99 32.5936 815.628 36.4419 Q812.266 40.2903 812.266 46.9338 L812.266 72.576 L804.771 72.576 L804.771 45.4349 Q804.771 38.8725 802.462 35.7533 Q800.153 32.5936 795.333 32.5936 Q789.621 32.5936 786.259 36.4824 Q782.897 40.3308 782.897 46.9338 L782.897 72.576 L775.402 72.576 L775.402 27.2059 L782.897 27.2059 L782.897 34.2544 Q785.449 30.082 789.013 28.0971 Q792.578 26.1121 797.48 26.1121 Q802.422 26.1121 805.865 28.6237 Q809.349 31.1352 811.01 35.9153 Z\" fill=\"#000000\" fill-rule=\"evenodd\" fill-opacity=\"1\" /><path clip-path=\"url(#clip650)\" d=\"M895.309 48.0275 L895.309 51.6733 L861.038 51.6733 Q861.525 59.3701 865.657 63.421 Q869.829 67.4314 877.242 67.4314 Q881.536 67.4314 885.546 66.3781 Q889.597 65.3249 893.567 63.2184 L893.567 70.267 Q889.557 71.9684 885.344 72.8596 Q881.131 73.7508 876.796 73.7508 Q865.94 73.7508 859.58 67.4314 Q853.261 61.1119 853.261 50.3365 Q853.261 39.1965 859.256 32.6746 Q865.292 26.1121 875.5 26.1121 Q884.655 26.1121 889.962 32.0264 Q895.309 37.9003 895.309 48.0275 M887.855 45.84 Q887.774 39.7232 884.412 36.0774 Q881.09 32.4315 875.581 32.4315 Q869.343 32.4315 865.575 35.9558 Q861.849 39.4801 861.282 45.8805 L887.855 45.84 Z\" fill=\"#000000\" fill-rule=\"evenodd\" fill-opacity=\"1\" /><path clip-path=\"url(#clip650)\" d=\"M933.833 34.1734 Q932.577 33.4443 931.079 33.1202 Q929.62 32.7556 927.838 32.7556 Q921.518 32.7556 918.116 36.8875 Q914.753 40.9789 914.753 48.6757 L914.753 72.576 L907.259 72.576 L907.259 27.2059 L914.753 27.2059 L914.753 34.2544 Q917.103 30.1225 920.87 28.1376 Q924.638 26.1121 930.025 26.1121 Q930.795 26.1121 931.727 26.2337 Q932.658 26.3147 933.793 26.5172 L933.833 34.1734 Z\" fill=\"#000000\" fill-rule=\"evenodd\" fill-opacity=\"1\" /><path clip-path=\"url(#clip650)\" d=\"M941.651 27.2059 L949.105 27.2059 L949.105 72.576 L941.651 72.576 L941.651 27.2059 M941.651 9.54393 L949.105 9.54393 L949.105 18.9825 L941.651 18.9825 L941.651 9.54393 Z\" fill=\"#000000\" fill-rule=\"evenodd\" fill-opacity=\"1\" /><path clip-path=\"url(#clip650)\" d=\"M997.351 28.9478 L997.351 35.9153 Q994.192 34.1734 990.991 33.3227 Q987.832 32.4315 984.591 32.4315 Q977.34 32.4315 973.33 37.0496 Q969.319 41.6271 969.319 49.9314 Q969.319 58.2358 973.33 62.8538 Q977.34 67.4314 984.591 67.4314 Q987.832 67.4314 990.991 66.5807 Q994.192 65.6895 997.351 63.9476 L997.351 70.8341 Q994.232 72.2924 990.87 73.0216 Q987.548 73.7508 983.781 73.7508 Q973.532 73.7508 967.496 67.3098 Q961.46 60.8689 961.46 49.9314 Q961.46 38.832 967.537 32.472 Q973.654 26.1121 984.267 26.1121 Q987.71 26.1121 990.991 26.8413 Q994.273 27.5299 997.351 28.9478 Z\" fill=\"#000000\" fill-rule=\"evenodd\" fill-opacity=\"1\" /><path clip-path=\"url(#clip650)\" d=\"M1030.93 49.7694 Q1021.9 49.7694 1018.42 51.8354 Q1014.93 53.9013 1014.93 58.8839 Q1014.93 62.8538 1017.52 65.2034 Q1020.16 67.5124 1024.65 67.5124 Q1030.85 67.5124 1034.58 63.1374 Q1038.35 58.7219 1038.35 51.4303 L1038.35 49.7694 L1030.93 49.7694 M1045.8 46.6907 L1045.8 72.576 L1038.35 72.576 L1038.35 65.6895 Q1035.79 69.8214 1031.99 71.8063 Q1028.18 73.7508 1022.67 73.7508 Q1015.7 73.7508 1011.57 69.8619 Q1007.48 65.9325 1007.48 59.3701 Q1007.48 51.7138 1012.58 47.825 Q1017.73 43.9361 1027.9 43.9361 L1038.35 43.9361 L1038.35 43.2069 Q1038.35 38.0623 1034.94 35.2672 Q1031.58 32.4315 1025.46 32.4315 Q1021.58 32.4315 1017.89 33.3632 Q1014.2 34.295 1010.8 36.1584 L1010.8 29.2718 Q1014.89 27.692 1018.74 26.9223 Q1022.59 26.1121 1026.23 26.1121 Q1036.08 26.1121 1040.94 31.2163 Q1045.8 36.3204 1045.8 46.6907 Z\" fill=\"#000000\" fill-rule=\"evenodd\" fill-opacity=\"1\" /><path clip-path=\"url(#clip650)\" d=\"M1061.15 9.54393 L1068.61 9.54393 L1068.61 72.576 L1061.15 72.576 L1061.15 9.54393 Z\" fill=\"#000000\" fill-rule=\"evenodd\" fill-opacity=\"1\" /><path clip-path=\"url(#clip650)\" d=\"M1084.2 9.54393 L1091.66 9.54393 L1091.66 72.576 L1084.2 72.576 L1084.2 9.54393 Z\" fill=\"#000000\" fill-rule=\"evenodd\" fill-opacity=\"1\" /><path clip-path=\"url(#clip650)\" d=\"M1126.13 76.7889 Q1122.97 84.8907 1119.97 87.3618 Q1116.97 89.8329 1111.95 89.8329 L1106 89.8329 L1106 83.5945 L1110.37 83.5945 Q1113.45 83.5945 1115.15 82.1361 Q1116.85 80.6778 1118.92 75.2496 L1120.26 71.8468 L1101.91 27.2059 L1109.8 27.2059 L1123.98 62.6918 L1138.16 27.2059 L1146.06 27.2059 L1126.13 76.7889 Z\" fill=\"#000000\" fill-rule=\"evenodd\" fill-opacity=\"1\" /><path clip-path=\"url(#clip650)\" d=\"M1215.37 28.9478 L1215.37 35.9153 Q1212.21 34.1734 1209.01 33.3227 Q1205.85 32.4315 1202.61 32.4315 Q1195.36 32.4315 1191.35 37.0496 Q1187.34 41.6271 1187.34 49.9314 Q1187.34 58.2358 1191.35 62.8538 Q1195.36 67.4314 1202.61 67.4314 Q1205.85 67.4314 1209.01 66.5807 Q1212.21 65.6895 1215.37 63.9476 L1215.37 70.8341 Q1212.25 72.2924 1208.89 73.0216 Q1205.57 73.7508 1201.8 73.7508 Q1191.55 73.7508 1185.52 67.3098 Q1179.48 60.8689 1179.48 49.9314 Q1179.48 38.832 1185.56 32.472 Q1191.67 26.1121 1202.29 26.1121 Q1205.73 26.1121 1209.01 26.8413 Q1212.29 27.5299 1215.37 28.9478 Z\" fill=\"#000000\" fill-rule=\"evenodd\" fill-opacity=\"1\" /><path clip-path=\"url(#clip650)\" d=\"M1245.91 32.4315 Q1239.92 32.4315 1236.44 37.1306 Q1232.95 41.7891 1232.95 49.9314 Q1232.95 58.0738 1236.4 62.7728 Q1239.88 67.4314 1245.91 67.4314 Q1251.87 67.4314 1255.35 62.7323 Q1258.84 58.0333 1258.84 49.9314 Q1258.84 41.8701 1255.35 37.1711 Q1251.87 32.4315 1245.91 32.4315 M1245.91 26.1121 Q1255.64 26.1121 1261.19 32.4315 Q1266.74 38.7509 1266.74 49.9314 Q1266.74 61.0714 1261.19 67.4314 Q1255.64 73.7508 1245.91 73.7508 Q1236.15 73.7508 1230.6 67.4314 Q1225.09 61.0714 1225.09 49.9314 Q1225.09 38.7509 1230.6 32.4315 Q1236.15 26.1121 1245.91 26.1121 Z\" fill=\"#000000\" fill-rule=\"evenodd\" fill-opacity=\"1\" /><path clip-path=\"url(#clip650)\" d=\"M1314.42 35.9153 Q1317.21 30.8922 1321.1 28.5022 Q1324.99 26.1121 1330.25 26.1121 Q1337.34 26.1121 1341.19 31.0947 Q1345.04 36.0368 1345.04 45.1919 L1345.04 72.576 L1337.55 72.576 L1337.55 45.4349 Q1337.55 38.913 1335.24 35.7533 Q1332.93 32.5936 1328.19 32.5936 Q1322.4 32.5936 1319.03 36.4419 Q1315.67 40.2903 1315.67 46.9338 L1315.67 72.576 L1308.18 72.576 L1308.18 45.4349 Q1308.18 38.8725 1305.87 35.7533 Q1303.56 32.5936 1298.74 32.5936 Q1293.03 32.5936 1289.66 36.4824 Q1286.3 40.3308 1286.3 46.9338 L1286.3 72.576 L1278.81 72.576 L1278.81 27.2059 L1286.3 27.2059 L1286.3 34.2544 Q1288.85 30.082 1292.42 28.0971 Q1295.98 26.1121 1300.89 26.1121 Q1305.83 26.1121 1309.27 28.6237 Q1312.75 31.1352 1314.42 35.9153 Z\" fill=\"#000000\" fill-rule=\"evenodd\" fill-opacity=\"1\" /><path clip-path=\"url(#clip650)\" d=\"M1367.12 65.7705 L1367.12 89.8329 L1359.62 89.8329 L1359.62 27.2059 L1367.12 27.2059 L1367.12 34.0924 Q1369.47 30.0415 1373.03 28.0971 Q1376.64 26.1121 1381.62 26.1121 Q1389.88 26.1121 1395.03 32.6746 Q1400.21 39.2371 1400.21 49.9314 Q1400.21 60.6258 1395.03 67.1883 Q1389.88 73.7508 1381.62 73.7508 Q1376.64 73.7508 1373.03 71.8063 Q1369.47 69.8214 1367.12 65.7705 M1392.48 49.9314 Q1392.48 41.7081 1389.07 37.0496 Q1385.71 32.3505 1379.8 32.3505 Q1373.88 32.3505 1370.48 37.0496 Q1367.12 41.7081 1367.12 49.9314 Q1367.12 58.1548 1370.48 62.8538 Q1373.88 67.5124 1379.8 67.5124 Q1385.71 67.5124 1389.07 62.8538 Q1392.48 58.1548 1392.48 49.9314 Z\" fill=\"#000000\" fill-rule=\"evenodd\" fill-opacity=\"1\" /><path clip-path=\"url(#clip650)\" d=\"M1411.8 54.671 L1411.8 27.2059 L1419.25 27.2059 L1419.25 54.3874 Q1419.25 60.8284 1421.76 64.0691 Q1424.28 67.2693 1429.3 67.2693 Q1435.34 67.2693 1438.82 63.421 Q1442.34 59.5726 1442.34 52.9291 L1442.34 27.2059 L1449.8 27.2059 L1449.8 72.576 L1442.34 72.576 L1442.34 65.6084 Q1439.63 69.7404 1436.02 71.7658 Q1432.46 73.7508 1427.72 73.7508 Q1419.9 73.7508 1415.85 68.8897 Q1411.8 64.0286 1411.8 54.671 M1430.56 26.1121 L1430.56 26.1121 Z\" fill=\"#000000\" fill-rule=\"evenodd\" fill-opacity=\"1\" /><path clip-path=\"url(#clip650)\" d=\"M1472.52 14.324 L1472.52 27.2059 L1487.88 27.2059 L1487.88 32.9987 L1472.52 32.9987 L1472.52 57.6282 Q1472.52 63.1779 1474.02 64.7578 Q1475.56 66.3376 1480.22 66.3376 L1487.88 66.3376 L1487.88 72.576 L1480.22 72.576 Q1471.59 72.576 1468.31 69.3758 Q1465.03 66.1351 1465.03 57.6282 L1465.03 32.9987 L1459.56 32.9987 L1459.56 27.2059 L1465.03 27.2059 L1465.03 14.324 L1472.52 14.324 Z\" fill=\"#000000\" fill-rule=\"evenodd\" fill-opacity=\"1\" /><path clip-path=\"url(#clip650)\" d=\"M1536.49 48.0275 L1536.49 51.6733 L1502.22 51.6733 Q1502.7 59.3701 1506.83 63.421 Q1511.01 67.4314 1518.42 67.4314 Q1522.71 67.4314 1526.72 66.3781 Q1530.77 65.3249 1534.74 63.2184 L1534.74 70.267 Q1530.73 71.9684 1526.52 72.8596 Q1522.31 73.7508 1517.97 73.7508 Q1507.12 73.7508 1500.76 67.4314 Q1494.44 61.1119 1494.44 50.3365 Q1494.44 39.1965 1500.43 32.6746 Q1506.47 26.1121 1516.68 26.1121 Q1525.83 26.1121 1531.14 32.0264 Q1536.49 37.9003 1536.49 48.0275 M1529.03 45.84 Q1528.95 39.7232 1525.59 36.0774 Q1522.27 32.4315 1516.76 32.4315 Q1510.52 32.4315 1506.75 35.9558 Q1503.03 39.4801 1502.46 45.8805 L1529.03 45.84 Z\" fill=\"#000000\" fill-rule=\"evenodd\" fill-opacity=\"1\" /><path clip-path=\"url(#clip650)\" d=\"M1578.58 34.0924 L1578.58 9.54393 L1586.03 9.54393 L1586.03 72.576 L1578.58 72.576 L1578.58 65.7705 Q1576.23 69.8214 1572.62 71.8063 Q1569.06 73.7508 1564.03 73.7508 Q1555.81 73.7508 1550.62 67.1883 Q1545.48 60.6258 1545.48 49.9314 Q1545.48 39.2371 1550.62 32.6746 Q1555.81 26.1121 1564.03 26.1121 Q1569.06 26.1121 1572.62 28.0971 Q1576.23 30.0415 1578.58 34.0924 M1553.18 49.9314 Q1553.18 58.1548 1556.54 62.8538 Q1559.94 67.5124 1565.86 67.5124 Q1571.77 67.5124 1575.17 62.8538 Q1578.58 58.1548 1578.58 49.9314 Q1578.58 41.7081 1575.17 37.0496 Q1571.77 32.3505 1565.86 32.3505 Q1559.94 32.3505 1556.54 37.0496 Q1553.18 41.7081 1553.18 49.9314 Z\" fill=\"#000000\" fill-rule=\"evenodd\" fill-opacity=\"1\" /><path clip-path=\"url(#clip650)\" d=\"M1656.68 28.5427 L1656.68 35.5912 Q1653.52 33.9709 1650.11 33.1607 Q1646.71 32.3505 1643.07 32.3505 Q1637.52 32.3505 1634.72 34.0519 Q1631.97 35.7533 1631.97 39.156 Q1631.97 41.7486 1633.95 43.2475 Q1635.94 44.7058 1641.93 46.0426 L1644.48 46.6097 Q1652.42 48.3111 1655.74 51.4303 Q1659.11 54.509 1659.11 60.0587 Q1659.11 66.3781 1654.08 70.0644 Q1649.1 73.7508 1640.35 73.7508 Q1636.71 73.7508 1632.74 73.0216 Q1628.81 72.3329 1624.43 70.9151 L1624.43 63.2184 Q1628.56 65.3654 1632.57 66.4591 Q1636.58 67.5124 1640.51 67.5124 Q1645.78 67.5124 1648.62 65.73 Q1651.45 63.9071 1651.45 60.6258 Q1651.45 57.5877 1649.38 55.9673 Q1647.36 54.3469 1640.43 52.8481 L1637.84 52.2405 Q1630.91 50.7821 1627.83 47.7845 Q1624.76 44.7463 1624.76 39.4801 Q1624.76 33.0797 1629.29 29.5959 Q1633.83 26.1121 1642.17 26.1121 Q1646.31 26.1121 1649.95 26.7198 Q1653.6 27.3274 1656.68 28.5427 Z\" fill=\"#000000\" fill-rule=\"evenodd\" fill-opacity=\"1\" /><path clip-path=\"url(#clip650)\" d=\"M1688.56 32.4315 Q1682.56 32.4315 1679.08 37.1306 Q1675.59 41.7891 1675.59 49.9314 Q1675.59 58.0738 1679.04 62.7728 Q1682.52 67.4314 1688.56 67.4314 Q1694.51 67.4314 1698 62.7323 Q1701.48 58.0333 1701.48 49.9314 Q1701.48 41.8701 1698 37.1711 Q1694.51 32.4315 1688.56 32.4315 M1688.56 26.1121 Q1698.28 26.1121 1703.83 32.4315 Q1709.38 38.7509 1709.38 49.9314 Q1709.38 61.0714 1703.83 67.4314 Q1698.28 73.7508 1688.56 73.7508 Q1678.79 73.7508 1673.24 67.4314 Q1667.74 61.0714 1667.74 49.9314 Q1667.74 38.7509 1673.24 32.4315 Q1678.79 26.1121 1688.56 26.1121 Z\" fill=\"#000000\" fill-rule=\"evenodd\" fill-opacity=\"1\" /><path clip-path=\"url(#clip650)\" d=\"M1721.73 9.54393 L1729.19 9.54393 L1729.19 72.576 L1721.73 72.576 L1721.73 9.54393 Z\" fill=\"#000000\" fill-rule=\"evenodd\" fill-opacity=\"1\" /><path clip-path=\"url(#clip650)\" d=\"M1744.01 54.671 L1744.01 27.2059 L1751.47 27.2059 L1751.47 54.3874 Q1751.47 60.8284 1753.98 64.0691 Q1756.49 67.2693 1761.51 67.2693 Q1767.55 67.2693 1771.03 63.421 Q1774.56 59.5726 1774.56 52.9291 L1774.56 27.2059 L1782.01 27.2059 L1782.01 72.576 L1774.56 72.576 L1774.56 65.6084 Q1771.84 69.7404 1768.24 71.7658 Q1764.67 73.7508 1759.93 73.7508 Q1752.12 73.7508 1748.06 68.8897 Q1744.01 64.0286 1744.01 54.671 M1762.77 26.1121 L1762.77 26.1121 Z\" fill=\"#000000\" fill-rule=\"evenodd\" fill-opacity=\"1\" /><path clip-path=\"url(#clip650)\" d=\"M1804.74 14.324 L1804.74 27.2059 L1820.09 27.2059 L1820.09 32.9987 L1804.74 32.9987 L1804.74 57.6282 Q1804.74 63.1779 1806.24 64.7578 Q1807.78 66.3376 1812.43 66.3376 L1820.09 66.3376 L1820.09 72.576 L1812.43 72.576 Q1803.81 72.576 1800.52 69.3758 Q1797.24 66.1351 1797.24 57.6282 L1797.24 32.9987 L1791.77 32.9987 L1791.77 27.2059 L1797.24 27.2059 L1797.24 14.324 L1804.74 14.324 Z\" fill=\"#000000\" fill-rule=\"evenodd\" fill-opacity=\"1\" /><path clip-path=\"url(#clip650)\" d=\"M1829.89 27.2059 L1837.35 27.2059 L1837.35 72.576 L1829.89 72.576 L1829.89 27.2059 M1829.89 9.54393 L1837.35 9.54393 L1837.35 18.9825 L1829.89 18.9825 L1829.89 9.54393 Z\" fill=\"#000000\" fill-rule=\"evenodd\" fill-opacity=\"1\" /><path clip-path=\"url(#clip650)\" d=\"M1870.52 32.4315 Q1864.53 32.4315 1861.04 37.1306 Q1857.56 41.7891 1857.56 49.9314 Q1857.56 58.0738 1861 62.7728 Q1864.49 67.4314 1870.52 67.4314 Q1876.48 67.4314 1879.96 62.7323 Q1883.45 58.0333 1883.45 49.9314 Q1883.45 41.8701 1879.96 37.1711 Q1876.48 32.4315 1870.52 32.4315 M1870.52 26.1121 Q1880.25 26.1121 1885.8 32.4315 Q1891.35 38.7509 1891.35 49.9314 Q1891.35 61.0714 1885.8 67.4314 Q1880.25 73.7508 1870.52 73.7508 Q1860.76 73.7508 1855.21 67.4314 Q1849.7 61.0714 1849.7 49.9314 Q1849.7 38.7509 1855.21 32.4315 Q1860.76 26.1121 1870.52 26.1121 Z\" fill=\"#000000\" fill-rule=\"evenodd\" fill-opacity=\"1\" /><path clip-path=\"url(#clip650)\" d=\"M1941.41 45.1919 L1941.41 72.576 L1933.96 72.576 L1933.96 45.4349 Q1933.96 38.994 1931.45 35.7938 Q1928.94 32.5936 1923.91 32.5936 Q1917.88 32.5936 1914.4 36.4419 Q1910.91 40.2903 1910.91 46.9338 L1910.91 72.576 L1903.42 72.576 L1903.42 27.2059 L1910.91 27.2059 L1910.91 34.2544 Q1913.58 30.163 1917.19 28.1376 Q1920.84 26.1121 1925.58 26.1121 Q1933.39 26.1121 1937.4 30.9732 Q1941.41 35.7938 1941.41 45.1919 Z\" fill=\"#000000\" fill-rule=\"evenodd\" fill-opacity=\"1\" /><polyline clip-path=\"url(#clip652)\" style=\"stroke:#009af9; stroke-linecap:round; stroke-linejoin:round; stroke-width:4; stroke-opacity:1; fill:none\" points=\"309.539,1386.4 325.037,1348.38 340.535,1310.96 356.032,1274.14 371.53,1237.92 387.028,1202.3 402.525,1167.27 418.023,1132.85 433.521,1099.02 449.019,1065.79 464.516,1033.16 480.014,1001.13 495.512,969.7 511.009,938.867 526.507,908.632 542.005,878.997 557.502,849.96 573,821.521 588.498,793.682 603.996,766.441 619.493,739.799 634.991,713.755 650.489,688.31 665.986,663.464 681.484,639.217 696.982,615.568 712.479,592.518 727.977,570.067 743.475,548.214 758.973,526.961 774.47,506.305 789.968,486.249 805.466,466.791 820.963,447.932 836.461,429.672 851.959,412.01 867.456,394.947 882.954,378.483 898.452,362.617 913.95,347.35 929.447,332.682 944.945,318.613 960.443,305.142 975.94,292.27 991.438,279.996 1006.94,268.322 1022.43,257.246 1037.93,246.769 1053.43,236.89 1068.93,227.61 1084.42,218.929 1099.92,210.847 1115.42,203.363 1130.92,196.478 1146.42,190.191 1161.91,184.504 1177.41,179.415 1192.91,174.924 1208.41,171.033 1223.9,167.74 1239.4,165.046 1254.9,162.95 1270.4,161.454 1285.89,160.556 1301.39,160.256 1316.89,160.556 1332.39,161.454 1347.89,162.95 1363.38,165.046 1378.88,167.74 1394.38,171.033 1409.88,174.924 1425.37,179.415 1440.87,184.504 1456.37,190.191 1471.87,196.478 1487.36,203.363 1502.86,210.847 1518.36,218.929 1533.86,227.61 1549.36,236.89 1564.85,246.769 1580.35,257.246 1595.85,268.322 1611.35,279.996 1626.84,292.27 1642.34,305.142 1657.84,318.613 1673.34,332.682 1688.83,347.35 1704.33,362.617 1719.83,378.483 1735.33,394.947 1750.83,412.01 1766.32,429.672 1781.82,447.932 1797.32,466.791 1812.82,486.249 1828.31,506.305 1843.81,526.961 1859.31,548.214 1874.81,570.067 1890.3,592.518 1905.8,615.568 1921.3,639.217 1936.8,663.464 1952.3,688.31 1967.79,713.755 1983.29,739.799 1998.79,766.441 2014.29,793.682 2029.78,821.521 2045.28,849.96 2060.78,878.997 2076.28,908.632 2091.77,938.867 2107.27,969.7 2122.77,1001.13 2138.27,1033.16 2153.77,1065.79 2169.26,1099.02 2184.76,1132.85 2200.26,1167.27 2215.76,1202.3 2231.25,1237.92 2246.75,1274.14 2262.25,1310.96 2277.75,1348.38 2293.24,1386.4 \"/>\n",
       "<path clip-path=\"url(#clip650)\" d=\"M2019.96 270.476 L2282.66 270.476 L2282.66 166.796 L2019.96 166.796  Z\" fill=\"#ffffff\" fill-rule=\"evenodd\" fill-opacity=\"1\"/>\n",
       "<polyline clip-path=\"url(#clip650)\" style=\"stroke:#000000; stroke-linecap:round; stroke-linejoin:round; stroke-width:4; stroke-opacity:1; fill:none\" points=\"2019.96,270.476 2282.66,270.476 2282.66,166.796 2019.96,166.796 2019.96,270.476 \"/>\n",
       "<polyline clip-path=\"url(#clip650)\" style=\"stroke:#009af9; stroke-linecap:round; stroke-linejoin:round; stroke-width:4; stroke-opacity:1; fill:none\" points=\"2043.33,218.636 2183.51,218.636 \"/>\n",
       "<path clip-path=\"url(#clip650)\" d=\"M2220.71 238.323 Q2218.91 242.953 2217.2 244.365 Q2215.48 245.777 2212.61 245.777 L2209.21 245.777 L2209.21 242.212 L2211.71 242.212 Q2213.47 242.212 2214.44 241.379 Q2215.41 240.545 2216.59 237.443 L2217.36 235.499 L2206.87 209.99 L2211.38 209.99 L2219.49 230.268 L2227.59 209.99 L2232.1 209.99 L2220.71 238.323 Z\" fill=\"#000000\" fill-rule=\"evenodd\" fill-opacity=\"1\" /><path clip-path=\"url(#clip650)\" d=\"M2239.39 231.981 L2247.03 231.981 L2247.03 205.615 L2238.72 207.282 L2238.72 203.022 L2246.99 201.356 L2251.66 201.356 L2251.66 231.981 L2259.3 231.981 L2259.3 235.916 L2239.39 235.916 L2239.39 231.981 Z\" fill=\"#000000\" fill-rule=\"evenodd\" fill-opacity=\"1\" /></svg>\n"
      ]
     },
     "execution_count": 48,
     "metadata": {},
     "output_type": "execute_result"
    }
   ],
   "source": [
    "#..construct the mesh: see before \n",
    "N = 64; Np1 = N+1; h = 1/N; NN = 2*N+1; \n",
    "x = Vector(0:h:1) \n",
    "\n",
    "#..Mesh with points and edges \n",
    "#..point holds the coordinates of the left and right node of the element\n",
    "#..edges holds the global indices of the left and right node of the element\n",
    "points = collect( [x[i], x[i+1]] for i in 1:N) \n",
    "edges = collect( [2*i-1, 2*i, 2*i+1] for i in 1:N) \n",
    "\n",
    "#..Set the source function \n",
    "fsource(x) = x\n",
    "\n",
    "#..Initialize global matrix and right-hand side value \n",
    "floc = zeros(Float64,3,1)\n",
    "Aloc = zeros(Float64,3,3)\n",
    "A = zeros(Float64,NN,NN)\n",
    "f = zeros(Float64,NN,1)\n",
    "\n",
    "#..Perform loop over elements and assemble vector \n",
    "for i=1:N \n",
    "\n",
    "  x1, x3 = points[i,:][1]\n",
    "  x2 = (x1+x3)/2;\n",
    "  x  = [x1; x2; x3];  \n",
    "  X  = [x1^j for x1 in x, j=pdegree:-1:0] # X is the Vandermonde matrix constructed from x \n",
    "  I = [1. 0 0; 0 1. 0; 0 0 1.]; \n",
    "  Emat = X\\I;\n",
    "    \n",
    "  # vector of quadrature points on the finite element \n",
    "  xs = .5*(x3-x1)*xi.+(x1+x3)/2;\n",
    "  # Vandermonde Matrix for evaluation of the basis functions\n",
    "  Xs = zeros(length(w),pdegree+1);   \n",
    "  Xs  = [xs1^p for xs1 in xs, p=pdegree:-1:0];\n",
    "\n",
    "  Phi  = Xs*Emat; \n",
    "    \n",
    "  floc = Transpose((x3-x1)/2*Transpose(w)*fsource.(Phi)) \n",
    "\n",
    "  f[edges[i]] += floc\n",
    "\n",
    "end\n",
    "\n",
    "#display(f)\n",
    "\n",
    "#..Perform loop over elements and assemble matrix \n",
    "for i=1:N \n",
    "\n",
    "  x1, x3 = points[i,:][1]\n",
    "  x2 = (x1+x3)/2;\n",
    "  x  = [x1; x2; x3];  \n",
    "  X  = [x1^j for x1 in x, j=pdegree:-1:0] # X is the Vandermonde matrix constructed from x \n",
    "  I = [1. 0 0; 0 1. 0; 0 0 1.]; \n",
    "  Emat = X\\I;\n",
    "\n",
    "  # vector of quadrature points on the finite element  \n",
    "  xs = .5*(x3-x1)*xi.+(x1+x3)/2;\n",
    "  # Vandermonde Matrix for evaluation of the derivaties of basis functions\n",
    "  dXs = zeros(length(w),pdegree+1);    \n",
    "  dXs[:,1:pdegree] = [p*xs1^(p-1) for xs1 in xs, p=pdegree:-1:1];\n",
    "\n",
    "  dPhi = dXs*Emat; \n",
    "    \n",
    "  dPhidPhi = zeros(length(w),(pdegree+1)^2);\n",
    "  [dPhidPhi[:,(j-1)*(pdegree+1)+i] = dPhi[:,i].*dPhi[:,j] for i=1:(pdegree+1),j=1:(pdegree+1)];\n",
    "    \n",
    "  Aloc = reshape(.5*(x3-x1)*Transpose(w)*dPhidPhi,3,3) \n",
    "\n",
    "  A[edges[i],edges[i]] += Aloc \n",
    "\n",
    "end\n",
    "\n",
    "#..handle the boundary conditions in the matrix and right-hand side vector \n",
    "A[1,1] = 1;       A[1,2] = 0;        A[1,3] = 0;      f[1]   = 0\n",
    "A[end,end-2] = 0; A[end,end-1] = 0;  A[end,end] = 1;  f[end] = 0\n",
    "\n",
    "#display(A)\n",
    "\n",
    "#..solve the linear system\n",
    "u = A \\ f\n",
    "\n",
    "#..plot the solution \n",
    "xx = Vector(0:h/2:1) \n",
    "p1=plot(xx,u)\n",
    "xlabel!(\"x\") \n",
    "ylabel!(\"u(x)\")\n",
    "title!(\"Numerically computed solution\")"
   ]
  },
  {
   "cell_type": "code",
   "execution_count": null,
   "metadata": {},
   "outputs": [],
   "source": []
  }
 ],
 "metadata": {
  "kernelspec": {
   "display_name": "Julia 1.8.1",
   "language": "julia",
   "name": "julia-1.8"
  },
  "language_info": {
   "file_extension": ".jl",
   "mimetype": "application/julia",
   "name": "julia",
   "version": "1.8.1"
  }
 },
 "nbformat": 4,
 "nbformat_minor": 2
}
