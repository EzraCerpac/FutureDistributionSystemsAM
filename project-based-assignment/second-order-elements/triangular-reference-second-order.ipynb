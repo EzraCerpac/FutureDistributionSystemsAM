{
 "cells": [
  {
   "cell_type": "markdown",
   "id": "6447154e",
   "metadata": {},
   "source": [
    "# Second Order Lagrange Triangular Reference Element"
   ]
  },
  {
   "cell_type": "markdown",
   "id": "085b835b",
   "metadata": {},
   "source": [
    "## Import Packages"
   ]
  },
  {
   "cell_type": "code",
   "execution_count": 9,
   "id": "cf249ee8",
   "metadata": {},
   "outputs": [],
   "source": [
    "using LinearAlgebra # to define uniform scaling \n",
    "using Plots"
   ]
  },
  {
   "cell_type": "code",
   "execution_count": 10,
   "id": "77a6b760",
   "metadata": {},
   "outputs": [
    {
     "data": {
      "text/plain": [
       "compute_weights_triangle"
      ]
     },
     "execution_count": 10,
     "metadata": {},
     "output_type": "execute_result"
    }
   ],
   "source": [
    "include(\"quadrature.jl\")"
   ]
  },
  {
   "cell_type": "markdown",
   "id": "640f40a7",
   "metadata": {},
   "source": [
    "## Defining quadrature points and weights"
   ]
  },
  {
   "cell_type": "code",
   "execution_count": 12,
   "id": "6ee595d5",
   "metadata": {},
   "outputs": [
    {
     "data": {
      "text/plain": [
       "4-element Vector{Vector{Float64}}:\n",
       " [0.21132486540518708, 0.16666666666666663]\n",
       " [0.21132486540518708, 0.6220084679281462]\n",
       " [0.7886751345948129, 0.044658198738520435]\n",
       " [0.7886751345948129, 0.16666666666666663]"
      ]
     },
     "metadata": {},
     "output_type": "display_data"
    },
    {
     "data": {
      "text/plain": [
       "4-element Vector{Float64}:\n",
       " 0.19716878364870322\n",
       " 0.19716878364870322\n",
       " 0.05283121635129677\n",
       " 0.05283121635129677"
      ]
     },
     "metadata": {},
     "output_type": "display_data"
    }
   ],
   "source": [
    "# polynomial degree to FE approximation  \n",
    "pdegree = 1;\n",
    "# degree of numerical quadrature \n",
    "qorder = 1; \n",
    "xi = compute_coordinates_triangle(qorder)\n",
    "w  = compute_weights_triangle(qorder)\n",
    "display(xi)\n",
    "display(w)"
   ]
  },
  {
   "cell_type": "markdown",
   "id": "d866747a",
   "metadata": {},
   "source": [
    "## Computation on the Reference Element "
   ]
  },
  {
   "cell_type": "code",
   "execution_count": 15,
   "id": "73feaf6e",
   "metadata": {},
   "outputs": [
    {
     "name": "stdout",
     "output_type": "stream",
     "text": [
      "Matrix Emat definining basis functions"
     ]
    },
    {
     "data": {
      "text/plain": [
       "6×6 Matrix{Float64}:\n",
       "  2.0   2.0   0.0  -4.0  0.0  -0.0\n",
       "  2.0   0.0   2.0   0.0  0.0  -4.0\n",
       "  4.0   0.0   0.0  -4.0  4.0  -4.0\n",
       " -3.0  -1.0   0.0   4.0  0.0   0.0\n",
       " -3.0   0.0  -1.0   0.0  0.0   4.0\n",
       "  1.0   0.0   0.0   0.0  0.0   0.0"
      ]
     },
     "metadata": {},
     "output_type": "display_data"
    },
    {
     "name": "stdout",
     "output_type": "stream",
     "text": [
      "Elementary stiffness matrix"
     ]
    },
    {
     "data": {
      "text/plain": [
       "6×6 reshape(transpose(::Vector{Float64}), 6, 6) with eltype Float64:\n",
       "  1.0           0.166667      0.166667     …  -4.44089e-16  -0.666667\n",
       "  0.166667      0.5           0.0             -1.41031e-16   1.41031e-16\n",
       "  0.166667      0.0           0.5             -2.77556e-17  -0.666667\n",
       " -0.666667     -0.666667      2.77556e-17     -1.33333      -2.22045e-16\n",
       " -4.44089e-16  -1.41031e-16  -2.77556e-17      2.66667      -1.33333\n",
       " -0.666667      1.41031e-16  -0.666667     …  -1.33333       2.66667"
      ]
     },
     "metadata": {},
     "output_type": "display_data"
    },
    {
     "name": "stdout",
     "output_type": "stream",
     "text": [
      "Elementary mass matrix"
     ]
    },
    {
     "data": {
      "text/plain": [
       "6×6 reshape(transpose(::Vector{Float64}), 6, 6) with eltype Float64:\n",
       "  0.00771605  -0.00462963   -0.00617284  …  -0.00925926    0.00308642\n",
       " -0.00462963   0.0277778    -0.00462963      9.56591e-19  -0.0185185\n",
       " -0.00617284  -0.00462963    0.00771605      0.00925926    0.00308642\n",
       "  0.00925926  -4.51594e-18  -0.00925926      0.037037      0.0555556\n",
       " -0.00925926   9.56591e-19   0.00925926      0.0740741     0.0555556\n",
       "  0.00308642  -0.0185185     0.00308642  …   0.0555556     0.0679012"
      ]
     },
     "metadata": {},
     "output_type": "display_data"
    }
   ],
   "source": [
    "x1 = [0.,0.]; x2 = [1.,0.]; x3 = [0.,1.];  \n",
    "x4 = (x1+x2)/2; x5 = (x2+x3)/2; x6 = (x1+x3)/2;  \n",
    "\n",
    "#....compute surface area of the current element\n",
    "area_id = 0.5 \n",
    "\n",
    "#....computation of the coefficients of the basis functions \n",
    "x = [x1, x2, x3, x4, x5, x6]\n",
    "X = [[x1[1]^2, x1[2]^2, x1[1]*x1[2], x1[1], x1[2], 1] for x1 in x]\n",
    "X = reduce(vcat,transpose(X))\n",
    "Emat = X\\UniformScaling(1.)\n",
    "   \n",
    "#....transform quadrature points to physical domain    \n",
    "T = zeros(2,2); T[:,1] = x2 - x1; T[:,2] = x3 - x1; \n",
    "xs = [T*xi1+x1 for xi1 in xi];\n",
    "\n",
    "#....construct Vandermonde Matrix for evaluation of the basis functions\n",
    "Xs = zeros(length(w),6);   \n",
    "Xs = [[xs1[1]^2, xs1[2]^2, xs1[1]*xs1[2], xs1[1], xs1[2], 1] for xs1 in xs];\n",
    "Xs = reduce(vcat,transpose(Xs))\n",
    "    \n",
    "#....construct Vandermonde Matrix for evaluation of the x/y derivatives of basis functions\n",
    "dxXs = zeros(length(w),6);\n",
    "dxXs = [[2*xs1[1], 0 , xs1[2], 1, 0, 0] for xs1 in xs];\n",
    "dxXs = reduce(vcat,transpose(dxXs))\n",
    "dyXs = zeros(length(w),6);\n",
    "dyXs = [[0, 2*xs1[2], xs1[1], 0, 1, 0] for xs1 in xs];\n",
    "dyXs = reduce(vcat,transpose(dyXs))\n",
    "    \n",
    "#....coonstruct column matrices of basis functions and derivatives of the basis functions   \n",
    "Phi   = Xs*Emat; \n",
    "dxPhi = dxXs*Emat; \n",
    "dyPhi = dyXs*Emat; \n",
    "\n",
    "#....compute contributions to the local mass and stiffness matrix   \n",
    "PhiPhi = zeros(length(w),36);\n",
    "[PhiPhi[:,(j-1)*6+i] = Phi[:,i].*Phi[:,j] for i=1:6,j=1:6];\n",
    "dxPhidxPhi = zeros(length(w),36);\n",
    "[dxPhidxPhi[:,(j-1)*6+i] = dxPhi[:,i].*dxPhi[:,j] for i=1:6,j=1:6];\n",
    "dyPhidyPhi = zeros(length(w),36);\n",
    "[dyPhidyPhi[:,(j-1)*6+i] = dyPhi[:,i].*dyPhi[:,j] for i=1:6,j=1:6];\n",
    "dPhidPhi = dxPhidxPhi + dyPhidyPhi; \n",
    "Mloc = 2*area_id*Transpose(w)*PhiPhi\n",
    "Mloc = reshape(Mloc,6,6)\n",
    "Aloc = 2*area_id*Transpose(w)*dPhidPhi\n",
    "Aloc = reshape(Aloc,6,6)\n",
    "\n",
    "print(\"Matrix Emat definining basis functions\")\n",
    "display(Emat)\n",
    "print(\"Elementary stiffness matrix\")\n",
    "display(Aloc)\n",
    "print(\"Elementary mass matrix\")\n",
    "display(Mloc)"
   ]
  },
  {
   "cell_type": "code",
   "execution_count": null,
   "id": "9dc70100",
   "metadata": {},
   "outputs": [],
   "source": []
  }
 ],
 "metadata": {
  "kernelspec": {
   "display_name": "Julia 1.8.1",
   "language": "julia",
   "name": "julia-1.8"
  },
  "language_info": {
   "file_extension": ".jl",
   "mimetype": "application/julia",
   "name": "julia",
   "version": "1.8.1"
  }
 },
 "nbformat": 4,
 "nbformat_minor": 5
}
