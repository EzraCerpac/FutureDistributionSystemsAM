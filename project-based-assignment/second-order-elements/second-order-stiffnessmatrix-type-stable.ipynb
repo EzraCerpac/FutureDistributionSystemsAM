{
 "cells": [
  {
   "cell_type": "markdown",
   "metadata": {},
   "source": [
    "# MWE \n",
    "# Static Vector Multiply by Scalar \n",
    "# D. Lahaye"
   ]
  },
  {
   "cell_type": "markdown",
   "metadata": {},
   "source": [
    "## Importing Libraries"
   ]
  },
  {
   "cell_type": "code",
   "execution_count": 1,
   "metadata": {},
   "outputs": [],
   "source": [
    "import Gmsh: gmsh \n",
    "\n",
    "using LinearAlgebra \n",
    "using SparseArrays \n",
    "using StaticArrays\n",
    "using StaticRanges\n",
    "\n",
    "using BenchmarkTools\n",
    "\n",
    "using Plots "
   ]
  },
  {
   "cell_type": "markdown",
   "metadata": {},
   "source": [
    "## Defining structs "
   ]
  },
  {
   "cell_type": "code",
   "execution_count": 2,
   "metadata": {},
   "outputs": [
    {
     "data": {
      "text/plain": [
       "area_triangle (generic function with 1 method)"
      ]
     },
     "execution_count": 2,
     "metadata": {},
     "output_type": "execute_result"
    }
   ],
   "source": [
    "# struct to hold 2D point\n",
    "struct Point\n",
    "    x::Float64   # x coordinates\n",
    "    y::Float64   # y coordinates \n",
    "end\n",
    "  \n",
    "  # struct to hold a single mesh element\n",
    "struct Element\n",
    "    p1::Point       # coordinates first node \n",
    "    p2::Point       # coordinates second node \n",
    "    p3::Point       # coordinates third node   \n",
    "    p4::Point       # coordinates node between first and second node\n",
    "    p5::Point       # coordinates node between second and third node\n",
    "    p6::Point       # coordinates node between third and first node\n",
    "\n",
    "    e1::Int64       # global index first node\n",
    "    e2::Int64       # global index second node\n",
    "    e3::Int64       # global index third node\n",
    "    e4::Int64       # global index fourth node\n",
    "    e5::Int64       # global index fifth node\n",
    "    e6::Int64       # global index sixth node\n",
    "    \n",
    "    area::Float64   # area of the element\n",
    "end\n",
    "  \n",
    "# struct to hold entire mesh\n",
    "struct Mesh\n",
    "    nnodes::Int64               # number of nodes \n",
    "    nelems::Int64               # number of elements\n",
    "    Elements::Array{Element,1}  # list of Elements \n",
    "    bndNodeIds::Vector{Int64}   # indices of nodes where Dirichlet bc are applied  \n",
    "    dofPerElem::Int64           # number of dofs per element \n",
    "end\n",
    "\n",
    "function area_triangle(p1,p2,p3)    \n",
    "    x12 = p2.x - p1.x; x13 = p3.x-p1.x;\n",
    "    y12 = p2.y - p1.y; y13 = p3.y-p1.y;\n",
    "    area_id = x12*y13 - x13*y12; \n",
    "    area_id = abs(area_id)/2.\n",
    "    return area_id \n",
    "end"
   ]
  },
  {
   "cell_type": "markdown",
   "metadata": {},
   "source": [
    "## Reading Mesh From File"
   ]
  },
  {
   "cell_type": "code",
   "execution_count": 3,
   "metadata": {},
   "outputs": [
    {
     "data": {
      "text/plain": [
       "meshFromGmsh (generic function with 1 method)"
      ]
     },
     "execution_count": 3,
     "metadata": {},
     "output_type": "execute_result"
    }
   ],
   "source": [
    "# read elements from mesh file \n",
    "function meshFromGmsh(meshFile)    \n",
    "    \n",
    "    #Initialize GMSH\n",
    "    gmsh.initialize()\n",
    "    \n",
    "    #Read mesh from file\n",
    "    gmsh.open(meshFile)\n",
    "\n",
    "    # Get the mesh nodes\n",
    "    # Observe that although the mesh is two-dimensional,\n",
    "    # the z-coordinate that is equal to zero is stored as well.\n",
    "    # Observe that the coordinates are stored contiguously for computational efficiency\n",
    "    node_ids, node_coord, _ = gmsh.model.mesh.getNodes()\n",
    "    nnodes = length(node_ids)\n",
    "    # sort the node coordinates by ID, such that Node one sits at row 1\n",
    "    tosort = [node_ids node_coord[1:3:end] node_coord[2:3:end]];\n",
    "    sorted = sortslices(tosort , dims = 1);\n",
    "    node_ids = sorted[:,1]\n",
    "    xnode = sorted[:,2]\n",
    "    ynode = sorted[:,3]\n",
    "\n",
    "    # Get the mesh elements\n",
    "    # Observe that we get all the two-dimensional triangular elements from the mesh\n",
    "    element_types, element_ids, element_connectivity = gmsh.model.mesh.getElements(2)\n",
    "    nelems = length(element_ids[1])\n",
    "      \n",
    "    # Construct uninitialized array of length nelements  \n",
    "    Elements = Array{Element}(undef,nelems)\n",
    "\n",
    "    # Construct the array of elements \n",
    "    for element_id in 1:nelems\n",
    "        e1 = element_connectivity[1][6*(element_id-1)+1]\n",
    "        e2 = element_connectivity[1][6*(element_id-1)+2]\n",
    "        e3 = element_connectivity[1][6*(element_id-1)+3]\n",
    "        e4 = element_connectivity[1][6*(element_id-1)+4]\n",
    "        e5 = element_connectivity[1][6*(element_id-1)+5]\n",
    "        e6 = element_connectivity[1][6*(element_id-1)+6]\n",
    "\n",
    "        p1 = Point(sorted[e1,2], sorted[e1,3])\n",
    "        p2 = Point(sorted[e2,2], sorted[e2,3])\n",
    "        p3 = Point(sorted[e3,2], sorted[e3,3])\n",
    "        p4 = Point(sorted[e4,2], sorted[e4,3])\n",
    "        p5 = Point(sorted[e5,2], sorted[e5,3])\n",
    "        p6 = Point(sorted[e6,2], sorted[e6,3])\n",
    "        \n",
    "        area = area_triangle(p1,p2,p3);\n",
    "\n",
    "        Elements[element_id] = Element(p1,p2,p3,p4,p5,p6,e1,e2,e3,e4,e5,e6,area)\n",
    "    end\n",
    "\n",
    "    # retrieve boundary nodes by loop over corner point and boundary edges\n",
    "    node_ids1=[]; node_ids2=[]; node_ids3=[]; node_ids4=[]; \n",
    "    node_ids5=[]; node_ids6=[]; node_ids7=[]; node_ids8=[]; \n",
    "    node_ids1, node_coord, _ = gmsh.model.mesh.getNodes(0,1)\n",
    "    node_ids2, node_coord, _ = gmsh.model.mesh.getNodes(0,2)\n",
    "    node_ids3, node_coord, _ = gmsh.model.mesh.getNodes(0,3)\n",
    "    node_ids4, node_coord, _ = gmsh.model.mesh.getNodes(0,4)\n",
    "    node_ids5, node_coord, _ = gmsh.model.mesh.getNodes(1,1)\n",
    "    node_ids6, node_coord, _ = gmsh.model.mesh.getNodes(1,2)\n",
    "    node_ids7, node_coord, _ = gmsh.model.mesh.getNodes(1,3)\n",
    "    node_ids8, node_coord, _ = gmsh.model.mesh.getNodes(1,4)\n",
    "    bnd_node_ids = union(node_ids1,node_ids2,node_ids3,node_ids4,node_ids5,node_ids6,node_ids7,node_ids8)\n",
    "    \n",
    "    # Set DOF per element\n",
    "    dofPerElement = 36\n",
    "    \n",
    "    # Store data inside mesh struct  \n",
    "    mesh = Mesh(nnodes,nelems,Elements,bnd_node_ids,dofPerElement) \n",
    "    \n",
    "    # Finalize gmsh\n",
    "    gmsh.finalize()\n",
    "    \n",
    "    return mesh \n",
    "end"
   ]
  },
  {
   "cell_type": "code",
   "execution_count": 4,
   "metadata": {},
   "outputs": [
    {
     "name": "stdout",
     "output_type": "stream",
     "text": [
      "Info    : Reading 'square-2nd-coarse.msh'...\n",
      "Info    : 9 entities\n",
      "Info    : 13 nodes\n",
      "Info    : 12 elements\n",
      "Info    : Done reading 'square-2nd-coarse.msh'\n"
     ]
    },
    {
     "data": {
      "text/plain": [
       "Mesh"
      ]
     },
     "execution_count": 4,
     "metadata": {},
     "output_type": "execute_result"
    }
   ],
   "source": [
    "# read coarse mesh  \n",
    "mesh_coarse = meshFromGmsh(\"square-2nd-coarse.msh\")\n",
    "typeof(mesh_coarse)"
   ]
  },
  {
   "cell_type": "code",
   "execution_count": 5,
   "metadata": {},
   "outputs": [
    {
     "name": "stdout",
     "output_type": "stream",
     "text": [
      "Info    : Reading 'square-2nd-normal.msh'...\n",
      "Info    : 9 entities\n",
      "Info    : 37 nodes\n",
      "Info    : 26 elements\n",
      "Info    : Done reading 'square-2nd-normal.msh'\n"
     ]
    },
    {
     "data": {
      "text/plain": [
       "Mesh"
      ]
     },
     "execution_count": 5,
     "metadata": {},
     "output_type": "execute_result"
    }
   ],
   "source": [
    "# read normal mesh\n",
    "mesh_normal = meshFromGmsh(\"square-2nd-normal.msh\")\n",
    "typeof(mesh_normal)"
   ]
  },
  {
   "cell_type": "code",
   "execution_count": 6,
   "metadata": {},
   "outputs": [
    {
     "name": "stdout",
     "output_type": "stream",
     "text": [
      "Info    : Reading 'square-2nd-fine.msh'...\n",
      "Info    : 9 entities\n",
      "Info    : 1969 nodes\n",
      "Info    : 1028 elements\n",
      "Info    : Done reading 'square-2nd-fine.msh'\n"
     ]
    },
    {
     "data": {
      "text/plain": [
       "Mesh"
      ]
     },
     "execution_count": 6,
     "metadata": {},
     "output_type": "execute_result"
    }
   ],
   "source": [
    "# read fine mesh \n",
    "mesh_fine = meshFromGmsh(\"square-2nd-fine.msh\")\n",
    "typeof(mesh_fine)"
   ]
  },
  {
   "cell_type": "markdown",
   "metadata": {},
   "source": [
    "## Finite Element Matrix Assembly"
   ]
  },
  {
   "cell_type": "code",
   "execution_count": 7,
   "metadata": {},
   "outputs": [
    {
     "data": {
      "text/plain": [
       "genStiffMat (generic function with 1 method)"
      ]
     },
     "execution_count": 7,
     "metadata": {},
     "output_type": "execute_result"
    }
   ],
   "source": [
    "# Function to assemble the stiffness matrix\n",
    "function genLocStiffMat(element::Element)\n",
    "    p1 = element.p1; p2 = element.p2; p3 = element.p3; p4 = element.p4; p5 = element.p5; p6 = element.p6;\n",
    "    e1 = element.e1; e2 = element.e2; e3 = element.e3; e4 = element.e4; e5 = element.e5; e6 = element.e6;\n",
    "    area = element.area  \n",
    "    \n",
    "    Iloc = SVector(e1, e1, e1, e1, e1, e1, e2, e2, e2, e2, e2, e2, e3, e3, e3, e3, e3, e3, e4, e4, e4, e4, e4, e4, e5, e5, e5, e5, e5, e5, e6, e6, e6, e6, e6, e6)\n",
    "\n",
    "    Jloc = SVector(e1, e2, e3, e4, e5, e6, e1, e2, e3, e4, e5, e6, e1, e2, e3, e4, e5, e6, e1, e2, e3, e4, e5, e6, e1, e2, e3, e4, e5, e6, e1, e2, e3, e4, e5, e6)\n",
    "    \n",
    "    Aloc = SVector(1., -1/6, 1/6, 0., 1/6, -1/6,\n",
    "                   -1/6, 1/6, -1/6, -1/12, 0., 0.,\n",
    "                    1/6, -1/6, 1/2, 0., 0., 0.,\n",
    "                    0., -1/12, 0., 1/6, 0., -1/12,\n",
    "                    1/6, 0., 0., 0., 1/2, -1/6,\n",
    "                    -1/6, 0., 0., -1/12, -1/6, 1/6)\n",
    "    \n",
    "    Aloc = SVector{36}(Aloc./area)   \n",
    "            \n",
    "    return Iloc, Jloc, Aloc \n",
    "end\n",
    "\n",
    "function genStiffMat(mesh::Mesh)\n",
    "\n",
    "    nelems = mesh.nelems\n",
    "    dofPerElem = mesh.dofPerElem\n",
    "\n",
    "    Avalues = zeros(Float64, dofPerElem*nelems)\n",
    "    I = zeros(Int64, length(Avalues))\n",
    "    J = zeros(Int64, length(Avalues))\n",
    "\n",
    "    for i = 1:nelems\n",
    "        element = mesh.Elements[i]\n",
    "        Iloc, Jloc, Aloc = genLocStiffMat(element)\n",
    "        irange = mrange(dofPerElem*i-35, dofPerElem*i)\n",
    "        I[irange] = Iloc\n",
    "        J[irange] = Jloc\n",
    "        Avalues[irange] = Aloc  \n",
    "    end\n",
    "\n",
    "    A = sparse(I,J,Avalues)\n",
    "\n",
    "    return A;\n",
    "end"
   ]
  },
  {
   "cell_type": "code",
   "execution_count": 8,
   "metadata": {},
   "outputs": [
    {
     "data": {
      "text/plain": [
       "1969×1969 SparseMatrixCSC{Float64, Int64} with 22033 stored entries:\n",
       "⡿⣯⡉⢹⠆⠀⠀⠀⣷⣤⢀⣿⠞⠩⣬⠤⢀⣲⣸⡰⢶⡆⠖⠆⠀⠃⠘⣤⢠⢀⠀⠀⢠⠃⡀⢀⣀⡿⣼⡅\n",
       "⣇⣈⣿⣿⠅⠀⠀⢀⣿⣾⢈⣻⣀⣒⣶⣖⣿⣿⣯⣻⣃⣷⣇⣀⠀⡀⢀⣰⢰⢸⣱⢈⣁⡀⣇⣈⣋⣘⣺⣱\n",
       "⠈⠁⠁⠁⣿⣿⣿⡁⡭⣿⣯⢌⠀⢄⠈⢀⢉⡾⢞⣿⣧⣷⣿⣷⣷⣶⣿⣿⣿⣿⣿⣷⣿⣶⣯⣍⡉⠄⢈⢀\n",
       "⠀⠀⠀⢀⠟⠻⣿⣿⣿⣿⣿⣿⣷⣝⣇⣟⣯⣬⠻⡮⣳⣿⢿⣿⡿⢿⣿⢿⣿⡿⢿⡟⣿⣿⣿⣿⣶⡿⣝⣏\n",
       "⠙⣿⣻⣿⣧⣯⣿⣿⣿⣿⣿⣿⣏⣵⣿⡻⣻⣿⣯⡿⣿⢿⣾⣽⣭⣤⣬⣀⣼⣅⣍⣡⡕⣤⣼⣭⣟⠽⣿⡿\n",
       "⣤⣴⣦⣰⡋⢟⣿⣿⣿⣿⣿⣿⣿⣷⣦⣮⡽⢫⣼⢿⣿⣗⡿⢿⢫⠽⣾⢝⢟⠛⢛⣟⣫⠿⣻⡿⣷⣯⣧⣥\n",
       "⡞⡁⢠⢸⠀⢄⣝⢿⢏⣽⢿⣿⡿⣯⣏⣍⠁⠩⠄⣀⡅⠊⠈⠑⠰⠆⢦⣬⢈⠀⠀⣀⠛⠗⠩⢇⢈⣿⣉⠯\n",
       "⠂⡟⢸⢿⠂⢀⣭⢽⣿⡻⡨⣿⡏⢽⣿⣿⡧⢬⡪⢊⢢⡵⢀⠈⠀⢀⢄⠰⠘⠀⠨⢠⢀⠭⡔⠉⢥⢨⣿⣧\n",
       "⢠⣰⣿⣿⣣⡴⡋⣿⣿⣾⡷⣋⡅⡀⡉⣏⣿⣿⣶⣯⣧⡓⣫⠙⠴⢂⡄⠂⡐⠰⡌⠈⠂⠒⠌⠓⠪⡀⢉⣨\n",
       "⢒⡺⣯⣻⣾⣵⡻⡦⣯⡿⣶⣟⠀⢡⡪⢊⡼⣿⣿⣿⣧⣕⣷⠝⣞⢒⢴⡊⠴⠅⡄⠨⡅⢄⢠⢶⠦⠚⡉⠉\n",
       "⠸⠷⢭⣼⢭⣿⣽⣾⣿⣟⢿⢿⡡⠉⢌⡶⢭⠻⢍⢿⣿⣿⣟⣴⠛⡠⠅⠁⢠⡡⢄⠦⠢⠅⠎⢬⣤⠵⡫⢪\n",
       "⠸⠅⠉⢹⢿⣿⣿⣷⣞⣿⣿⣏⢆⠀⡀⠐⣏⠚⣝⠟⢛⣽⣿⣿⣿⣎⡜⢶⡷⡌⠑⡲⡄⠬⡃⠕⣈⡎⡊⠐\n",
       "⠤⠀⠀⠠⢹⣿⣿⣏⠃⣿⣏⡖⠰⠆⠀⢀⠰⢃⢺⢙⠛⡠⡻⢿⣿⣿⣏⣯⣱⠊⣿⣂⢇⣋⢀⢁⡁⣆⠐⠐\n",
       "⠒⣤⢀⣰⣿⣿⣿⣟⠂⢻⣞⢟⡈⣷⢀⡑⠠⠉⡰⠳⠅⠁⢲⣍⡯⣽⢟⣵⣿⣿⣳⣯⡦⢔⠖⠉⡈⠇⢁⡃\n",
       "⠀⢒⣐⣒⣿⣿⣿⡿⠖⢿⣿⠑⠂⠐⠒⠀⢐⡈⠔⠇⠄⡲⡙⠯⡱⠚⣿⣿⣿⣿⣿⣞⣷⡳⡷⢏⠀⠀⠑⠀\n",
       "⠀⠀⡑⢚⢿⣿⣿⠷⠇⣹⣿⢴⠀⢠⠂⣂⡂⠉⡀⡉⠠⡕⢱⡠⠻⢻⡽⣾⣻⢿⡿⣯⣷⣳⣢⡸⡷⠠⢒⠄\n",
       "⠤⠒⠁⠸⢻⣿⣿⣿⠑⣭⣯⡞⢿⠄⡄⡔⢨⠀⠁⢍⠌⠆⡀⡍⡭⢱⢈⢏⢽⡻⢽⣻⣿⣿⣿⣍⠔⣆⠚⠂\n",
       "⠀⢈⡉⢹⡏⢿⣿⣿⡖⣿⣿⡾⠧⢆⡔⠉⢦⠁⢠⣖⡊⣅⢍⠌⠄⢐⡜⠁⡽⢏⣈⡺⡟⢿⣿⣿⣿⠕⡏⠏\n",
       "⣤⡼⣋⢸⠃⠌⣼⡿⣟⡝⡽⣿⣦⣴⡁⣓⠊⠢⣨⠃⢄⡟⡢⠼⠡⢬⠦⠌⠀⠀⠙⡋⠰⢥⢟⠟⢛⣴⣟⣲\n",
       "⠖⠿⢞⣺⠂⢐⡷⢽⣿⡿⠍⣿⡧⡜⠿⣿⡃⣰⡇⠈⡫⣊⢊⠈⢐⠀⠥⠰⠑⠀⠘⠔⠺⠀⡯⠍⢻⣹⣿⣿"
      ]
     },
     "metadata": {},
     "output_type": "display_data"
    }
   ],
   "source": [
    "#mesh = meshFromGmsh(\"square-2nd.msh\")\n",
    "A = genStiffMat(mesh_fine);\n",
    "display(A)"
   ]
  },
  {
   "cell_type": "code",
   "execution_count": 9,
   "metadata": {},
   "outputs": [
    {
     "name": "stdout",
     "output_type": "stream",
     "text": [
      "  0.000015 seconds (13 allocations: 8.516 KiB)\n",
      "  0.000014 seconds (13 allocations: 27.312 KiB)\n",
      "  0.000407 seconds (20 allocations: 1.679 MiB)\n"
     ]
    }
   ],
   "source": [
    "@time genStiffMat(mesh_coarse);\n",
    "@time genStiffMat(mesh_normal);\n",
    "@time genStiffMat(mesh_fine);"
   ]
  },
  {
   "cell_type": "code",
   "execution_count": null,
   "metadata": {},
   "outputs": [],
   "source": []
  },
  {
   "cell_type": "code",
   "execution_count": null,
   "metadata": {},
   "outputs": [],
   "source": []
  }
 ],
 "metadata": {
  "kernelspec": {
   "display_name": "Julia 1.8.1",
   "language": "julia",
   "name": "julia-1.8"
  },
  "language_info": {
   "file_extension": ".jl",
   "mimetype": "application/julia",
   "name": "julia",
   "version": "1.8.1"
  }
 },
 "nbformat": 4,
 "nbformat_minor": 2
}
