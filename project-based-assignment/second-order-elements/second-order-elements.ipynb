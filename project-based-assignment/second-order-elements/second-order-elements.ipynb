{
 "cells": [
  {
   "cell_type": "markdown",
   "id": "dffd7712",
   "metadata": {},
   "source": [
    "# Second Order Elements "
   ]
  },
  {
   "cell_type": "markdown",
   "id": "dd239c4b",
   "metadata": {},
   "source": [
    "## Section 1:/ Symbolic Computations \n",
    "[symbolic computations](element-by-element-computations.ipynb)"
   ]
  },
  {
   "cell_type": "code",
   "execution_count": null,
   "id": "4ff84abc",
   "metadata": {},
   "outputs": [],
   "source": []
  },
  {
   "cell_type": "markdown",
   "id": "b439f7b6",
   "metadata": {},
   "source": [
    "## Section 2:/ 1D Second Order Elements \n",
    "[one dimensional implementation](./one-dimensional-second-order-elements.ipynb)"
   ]
  },
  {
   "cell_type": "code",
   "execution_count": null,
   "id": "09a34cc7",
   "metadata": {},
   "outputs": [],
   "source": []
  },
  {
   "cell_type": "markdown",
   "id": "f9c2bdc2",
   "metadata": {},
   "source": [
    "## Section 3:/ 2D Triangular Second Order Elements\n",
    "- [quadrature for first order elememts on unit square](./unit-square-1st-order-quadrature.ipynb)\n",
    "- [quadrature for second order elememts on unit square with for elements](unit-square-2nd-order-4-element-mesh.ipynb)\n",
    "- [quadrature for second order elememts on unit square](unit-square-2nd-order.ipynb)"
   ]
  },
  {
   "cell_type": "code",
   "execution_count": null,
   "id": "eda1183a",
   "metadata": {},
   "outputs": [],
   "source": []
  },
  {
   "cell_type": "markdown",
   "id": "2134fc2c",
   "metadata": {},
   "source": [
    "## Section 4:/ 2D Quadrilateral Second Order Elements"
   ]
  },
  {
   "cell_type": "code",
   "execution_count": null,
   "id": "3309880b",
   "metadata": {},
   "outputs": [],
   "source": []
  },
  {
   "cell_type": "code",
   "execution_count": null,
   "id": "a396d6bf",
   "metadata": {},
   "outputs": [],
   "source": []
  },
  {
   "cell_type": "code",
   "execution_count": null,
   "id": "5c23d1a5",
   "metadata": {},
   "outputs": [],
   "source": []
  }
 ],
 "metadata": {
  "kernelspec": {
   "display_name": "Python 3",
   "language": "python",
   "name": "python3"
  },
  "language_info": {
   "codemirror_mode": {
    "name": "ipython",
    "version": 3
   },
   "file_extension": ".py",
   "mimetype": "text/x-python",
   "name": "python",
   "nbconvert_exporter": "python",
   "pygments_lexer": "ipython3",
   "version": "3.7.10"
  }
 },
 "nbformat": 4,
 "nbformat_minor": 5
}
