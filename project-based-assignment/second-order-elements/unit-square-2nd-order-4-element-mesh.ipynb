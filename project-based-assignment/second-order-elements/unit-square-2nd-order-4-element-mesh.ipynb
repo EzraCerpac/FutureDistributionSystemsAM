{
 "cells": [
  {
   "cell_type": "markdown",
   "metadata": {},
   "source": [
    "# EE4375-2022: Extension to Sixth Lab Session to second order elements: 4-element/13-node mesh "
   ]
  },
  {
   "cell_type": "markdown",
   "metadata": {},
   "source": [
    "Second order triangular elements on unit square with mesh with only 4 triangles and 13 (4+4+4+1) nodes. 4 nodes are the vertices of square, 4 nodes are the midpoints on the edges of the square, 4 nodes are the midpoints of the internal edges of the square and 1 node in the common (central) node of the triangles. "
   ]
  },
  {
   "cell_type": "markdown",
   "metadata": {},
   "source": [
    "## Import Packages"
   ]
  },
  {
   "cell_type": "code",
   "execution_count": 41,
   "metadata": {},
   "outputs": [],
   "source": [
    "import Gmsh: gmsh \n",
    "using GR \n",
    "using LinearAlgebra\n",
    "using SparseArrays \n",
    "using Plots\n",
    "using LaTeXStrings"
   ]
  },
  {
   "cell_type": "code",
   "execution_count": 42,
   "metadata": {},
   "outputs": [
    {
     "data": {
      "text/plain": [
       "compute_weights_triangle"
      ]
     },
     "execution_count": 42,
     "metadata": {},
     "output_type": "execute_result"
    }
   ],
   "source": [
    "include(\"quadrature.jl\")"
   ]
  },
  {
   "cell_type": "markdown",
   "metadata": {},
   "source": [
    "## Section 1: Geometry and Mesh Generation of Unit Square Geometry\n",
    "Here we ask GMSH to generate a second order mesh. We set the parameter lc to a ridiculously large value to generate the coarsest possible mesh.  "
   ]
  },
  {
   "cell_type": "code",
   "execution_count": 43,
   "metadata": {},
   "outputs": [
    {
     "name": "stdout",
     "output_type": "stream",
     "text": [
      "Info    : Meshing 1D...\n",
      "Info    : [  0%] Meshing curve 1 (Line)\n",
      "Info    : [ 30%] Meshing curve 2 (Line)\n",
      "Info    : [ 50%] Meshing curve 3 (Line)\n",
      "Info    : [ 80%] Meshing curve 4 (Line)\n",
      "Info    : Done meshing 1D (Wall 0.00284263s, CPU 0.000291s)\n",
      "Info    : Meshing 2D...\n",
      "Info    : Meshing surface 1 (Plane, Frontal-Delaunay)\n",
      "Info    : Done meshing 2D (Wall 0.00313083s, CPU 0.000163s)\n",
      "Info    : Meshing order 2 (curvilinear off)...\n",
      "Info    : [  0%] Meshing curve 1 order 2\n",
      "Info    : [ 20%] Meshing curve 2 order 2\n",
      "Info    : [ 40%] Meshing curve 3 order 2\n",
      "Info    : [ 60%] Meshing curve 4 order 2\n",
      "Info    : [ 80%] Meshing surface 1 order 2\n",
      "Info    : Surface mesh: worst distortion = 1 (0 elements in ]0, 0.2]); worst gamma = 0.828427\n",
      "Info    : Done meshing order 2 (Wall 0.00123421s, CPU 5.9e-05s)\n",
      "Info    : 13 nodes 12 elements\n",
      "Info    : Writing 'square-2nd.msh'...\n",
      "Info    : Done writing 'square-2nd.msh'\n"
     ]
    }
   ],
   "source": [
    "#..1/4: initialize gmsh \n",
    "gmsh.initialize()\n",
    "\n",
    "#..2/4: generate geometry \n",
    "gmsh.option.setNumber(\"General.Terminal\", 1)\n",
    "gmsh.model.add(\"square\")\n",
    "#..set mesh density parameter \n",
    "lc = 5.\n",
    "#..define four points via (x,y,z) coordinates \n",
    "gmsh.model.geo.addPoint(0, 0, 0, lc, 1)\n",
    "gmsh.model.geo.addPoint(1., 0,  0, lc, 2)\n",
    "gmsh.model.geo.addPoint(1., 1., 0, lc, 3)\n",
    "gmsh.model.geo.addPoint(0, 1., 0, lc, 4)\n",
    "#..define four edges by connecting point labels pairwise  \n",
    "gmsh.model.geo.addLine(1, 2, 1)\n",
    "gmsh.model.geo.addLine(2, 3, 2)\n",
    "gmsh.model.geo.addLine(3, 4, 3)\n",
    "gmsh.model.geo.addLine(4, 1, 4)\n",
    "#..define curved loop by connecting four edge labels  \n",
    "gmsh.model.geo.addCurveLoop([1, 2, 3, 4], 1)\n",
    "#..define surface by curved loop \n",
    "gmsh.model.geo.addPlaneSurface([1], 1)\n",
    "#..give label to the surface \n",
    "#..syntax of the function being used is gmsh.model.setPhysicalName(dim, tag, name) \n",
    "gmsh.model.setPhysicalName(2, 1, \"My surface\")\n",
    "#..synchronize model \n",
    "gmsh.model.geo.synchronize()\n",
    "\n",
    "#..3/4: generate two-dimensional mesh \n",
    "gmsh.option.setNumber(\"Mesh.ElementOrder\", 2)\n",
    "gmsh.option.setNumber(\"Mesh.SecondOrderLinear\", 1)\n",
    "gmsh.model.mesh.generate(2)\n",
    "#..if true, write mesh to file for further processing \n",
    "if (true) gmsh.write(\"square-2nd.msh\") end \n",
    "#..if true, visualize mesh through the GUI \n",
    "if (false) gmsh.fltk.run() end \n",
    "\n",
    "#..4/4: finalize gmsh \n",
    "gmsh.finalize()"
   ]
  },
  {
   "cell_type": "markdown",
   "metadata": {},
   "source": [
    "## Section 2:/ Read Mesh from file and perform loop over the elements\n",
    "In this section we retrieve information for the GMSH data structure and find out where GMSH stores a lot of its goodies. "
   ]
  },
  {
   "cell_type": "markdown",
   "metadata": {},
   "source": [
    "### Section 1.2/ Loop over 2D (triangular, surface) elements \n",
    "Note how each 2D element is connected to six (6) nodes and how in total 13 nodes appear. "
   ]
  },
  {
   "cell_type": "code",
   "execution_count": 34,
   "metadata": {},
   "outputs": [
    {
     "name": "stdout",
     "output_type": "stream",
     "text": [
      "Info    : Reading 'square-2nd.msh'...\n",
      "Info    : 9 entities\n",
      "Info    : 13 nodes\n",
      "Info    : 12 elements\n",
      "Info    : Done reading 'square-2nd.msh'\n",
      "on element 1 node-1 has global number 1\n",
      "on element 1 node-2 has global number 2\n",
      "on element 1 node-3 has global number 9\n",
      "on element 1 node-4 has global number 5\n",
      "on element 1 node-5 has global number 10\n",
      "on element 1 node-6 has global number 11\n",
      " \n",
      "on element 2 node-1 has global number 4\n",
      "on element 2 node-2 has global number 1\n",
      "on element 2 node-3 has global number 9\n",
      "on element 2 node-4 has global number 8\n",
      "on element 2 node-5 has global number 11\n",
      "on element 2 node-6 has global number 12\n",
      " \n",
      "on element 3 node-1 has global number 2\n",
      "on element 3 node-2 has global number 3\n",
      "on element 3 node-3 has global number 9\n",
      "on element 3 node-4 has global number 6\n",
      "on element 3 node-5 has global number 13\n",
      "on element 3 node-6 has global number 10\n",
      " \n",
      "on element 4 node-1 has global number 3\n",
      "on element 4 node-2 has global number 4\n",
      "on element 4 node-3 has global number 9\n",
      "on element 4 node-4 has global number 7\n",
      "on element 4 node-5 has global number 12\n",
      "on element 4 node-6 has global number 13\n",
      " \n"
     ]
    }
   ],
   "source": [
    "#..1/5: Finalize gmsh\n",
    "gmsh.initialize()\n",
    "\n",
    "#..2/5: Read mesh from file\n",
    "gmsh.open(\"square-2nd.msh\")\n",
    "\n",
    "#..3/5: retrieve number of triangular elements on the 2D surface and their connectivity \n",
    "element_types, element_ids, element_connectivity = gmsh.model.mesh.getElements(2)\n",
    "nelements = length(element_ids[1])\n",
    "\n",
    "#..4/5: perform loop over the 2D elemements \n",
    "for element_id in 1:nelements\n",
    "\n",
    "    #....retrieve global numbering of the local nodes of the current element\n",
    "    node1_id = element_connectivity[1][6*(element_id-1)+1]\n",
    "    node2_id = element_connectivity[1][6*(element_id-1)+2]\n",
    "    node3_id = element_connectivity[1][6*(element_id-1)+3]\n",
    "    node4_id = element_connectivity[1][6*(element_id-1)+4]\n",
    "    node5_id = element_connectivity[1][6*(element_id-1)+5]\n",
    "    node6_id = element_connectivity[1][6*(element_id-1)+6]    \n",
    "\n",
    "    println(\"on element \", element_id, \" node-1 has global number \", node1_id)\n",
    "    println(\"on element \", element_id, \" node-2 has global number \", node2_id)\n",
    "    println(\"on element \", element_id, \" node-3 has global number \", node3_id)\n",
    "    println(\"on element \", element_id, \" node-4 has global number \", node4_id)\n",
    "    println(\"on element \", element_id, \" node-5 has global number \", node5_id)\n",
    "    println(\"on element \", element_id, \" node-6 has global number \", node6_id)\n",
    "    println(\" \")\n",
    "\n",
    "end \n",
    "\n",
    "#..5/5: Finalize gmsh\n",
    "gmsh.finalize()"
   ]
  },
  {
   "cell_type": "markdown",
   "metadata": {},
   "source": [
    "### Section 2.2/ Loop over 1D (line, boundary) elements and construct array of boundary indices (to be editted as a function taking the mesh as an input)"
   ]
  },
  {
   "cell_type": "code",
   "execution_count": 12,
   "metadata": {},
   "outputs": [
    {
     "name": "stdout",
     "output_type": "stream",
     "text": [
      "Info    : Reading 'square-2nd.msh'...\n",
      "Info    : 9 entities\n",
      "Info    : 13 nodes\n",
      "Info    : 12 elements\n",
      "Info    : Done reading 'square-2nd.msh'\n",
      "on element 1 node-1 has global number 1\n",
      "on element 1 node-2 has global number 2\n",
      "on element 1 node-3 has global number 5\n",
      " \n",
      "on element 2 node-1 has global number 2\n",
      "on element 2 node-2 has global number 3\n",
      "on element 2 node-3 has global number 6\n",
      " \n",
      "on element 3 node-1 has global number 3\n",
      "on element 3 node-2 has global number 4\n",
      "on element 3 node-3 has global number 7\n",
      " \n",
      "on element 4 node-1 has global number 4\n",
      "on element 4 node-2 has global number 1\n",
      "on element 4 node-3 has global number 8\n",
      " \n"
     ]
    },
    {
     "data": {
      "text/plain": [
       "8-element Vector{Int64}:\n",
       " 1\n",
       " 5\n",
       " 2\n",
       " 6\n",
       " 3\n",
       " 7\n",
       " 4\n",
       " 8"
      ]
     },
     "metadata": {},
     "output_type": "display_data"
    }
   ],
   "source": [
    "#..1/6: Finalize gmsh\n",
    "gmsh.initialize()\n",
    "\n",
    "#..2/6: Read mesh from file\n",
    "gmsh.open(\"square-2nd.msh\")\n",
    "\n",
    "#..3/6: perform loop over the 1D elemements and construct I_bnd  \n",
    "element_types, element_ids, element_connectivity = gmsh.model.mesh.getElements(1)\n",
    "nelements = length(element_ids[1])\n",
    "\n",
    "#..4/6: initialize vector of boundaryv indices (to be editted to avoid allocations withoi)\n",
    "bnd_node_ids = Vector{Int64}([])\n",
    "\n",
    "#..5/6: retrieve number of triangular elements on the 2D surface and their connectivity\n",
    "for element_id in 1:nelements\n",
    "\n",
    "    #....retrieve global numbering of the local nodes of the current element\n",
    "    node1_id = element_connectivity[1][3*(element_id-1)+1]\n",
    "    node2_id = element_connectivity[1][3*(element_id-1)+2]\n",
    "    node3_id = element_connectivity[1][3*(element_id-1)+3]\n",
    "\n",
    "    println(\"on element \", element_id, \" node-1 has global number \", node1_id)\n",
    "    println(\"on element \", element_id, \" node-2 has global number \", node2_id)\n",
    "    println(\"on element \", element_id, \" node-3 has global number \", node3_id)\n",
    "    println(\" \")\n",
    "\n",
    "    union!(bnd_node_ids,node1_id, node3_id, node3_id)\n",
    "    \n",
    "end \n",
    "\n",
    "#..6/6: Finalize gmsh\n",
    "gmsh.finalize()\n",
    "\n",
    "display(bnd_node_ids)"
   ]
  },
  {
   "cell_type": "markdown",
   "metadata": {},
   "source": [
    "### Section 3.2/ Lookup of the number of nodes\n",
    "Retrieve the number of nodes from the mesh. Note that we include the nodes on the boundary. "
   ]
  },
  {
   "cell_type": "code",
   "execution_count": 52,
   "metadata": {},
   "outputs": [
    {
     "name": "stdout",
     "output_type": "stream",
     "text": [
      "Info    : Reading 'square-2nd.msh'...\n",
      "Info    : 9 entities\n",
      "Info    : 13 nodes\n",
      "Info    : 12 elements\n",
      "Info    : Done reading 'square-2nd.msh'\n",
      " getNodes() results in 13 nodes \n",
      "\n",
      " getNodes(2) results in 5 nodes \n",
      "\n",
      " getNodes(2,-1, true) results in 13 nodes \n",
      "\n",
      " getNodes(1) results in 4 nodes \n",
      "\n"
     ]
    }
   ],
   "source": [
    "#..1/4: Finalize gmsh\n",
    "gmsh.initialize()\n",
    "\n",
    "#..2/4: Read mesh from file\n",
    "gmsh.open(\"square-2nd.msh\")\n",
    "\n",
    "#..3/4: look-up of the number of nodes \n",
    "node_ids, node_coord, _ = gmsh.model.mesh.getNodes()\n",
    "nnodes = length(node_ids)\n",
    "println(\" getNodes() results in \", nnodes, \" nodes \\n\")\n",
    "\n",
    "node_ids, node_coord, _ = gmsh.model.mesh.getNodes(2)\n",
    "nnodes = length(node_ids)\n",
    "println(\" getNodes(2) results in \", nnodes, \" nodes \\n\")\n",
    "\n",
    "node_ids, node_coord, _ = gmsh.model.mesh.getNodes(2,-1, true)\n",
    "nnodes = length(node_ids)\n",
    "println(\" getNodes(2,-1, true) results in \", nnodes, \" nodes \\n\")\n",
    "\n",
    "node_ids, node_coord, _ = gmsh.model.mesh.getNodes(1)\n",
    "nnodes = length(node_ids)\n",
    "println(\" getNodes(1) results in \", nnodes, \" nodes \\n\")\n",
    "\n",
    "#..4/4: Finalize gmsh\n",
    "gmsh.finalize()"
   ]
  },
  {
   "cell_type": "markdown",
   "metadata": {},
   "source": [
    "### Section 4.2/ Additional Information on GMSH \n",
    "Here we provide pointers to retrieve even more information. "
   ]
  },
  {
   "cell_type": "code",
   "execution_count": 9,
   "metadata": {},
   "outputs": [
    {
     "data": {
      "text/latex": [
       "\\begin{verbatim}\n",
       "gmsh.model.mesh.getElements(dim = -1, tag = -1)\n",
       "\\end{verbatim}\n",
       "Get the elements classified on the entity of dimension \\texttt{dim} and tag \\texttt{tag}. If \\texttt{tag} < 0, get the elements for all entities of dimension \\texttt{dim}. If \\texttt{dim} and \\texttt{tag} are negative, get all the elements in the mesh. \\texttt{elementTypes} contains the MSH types of the elements (e.g. \\texttt{2} for 3-node triangles: see \\texttt{getElementProperties} to obtain the properties for a given element type). \\texttt{elementTags} is a vector of the same length as \\texttt{elementTypes}; each entry is a vector containing the tags (unique, strictly positive identifiers) of the elements of the corresponding type. \\texttt{nodeTags} is also a vector of the same length as \\texttt{elementTypes}; each entry is a vector of length equal to the number of elements of the given type times the number N of nodes for this type of element, that contains the node tags of all the elements of the given type, concatenated: [e1n1, e1n2, ..., e1nN, e2n1, ...].\n",
       "\n",
       "Return \\texttt{elementTypes}, \\texttt{elementTags}, \\texttt{nodeTags}.\n",
       "\n"
      ],
      "text/markdown": [
       "```\n",
       "gmsh.model.mesh.getElements(dim = -1, tag = -1)\n",
       "```\n",
       "\n",
       "Get the elements classified on the entity of dimension `dim` and tag `tag`. If `tag` < 0, get the elements for all entities of dimension `dim`. If `dim` and `tag` are negative, get all the elements in the mesh. `elementTypes` contains the MSH types of the elements (e.g. `2` for 3-node triangles: see `getElementProperties` to obtain the properties for a given element type). `elementTags` is a vector of the same length as `elementTypes`; each entry is a vector containing the tags (unique, strictly positive identifiers) of the elements of the corresponding type. `nodeTags` is also a vector of the same length as `elementTypes`; each entry is a vector of length equal to the number of elements of the given type times the number N of nodes for this type of element, that contains the node tags of all the elements of the given type, concatenated: [e1n1, e1n2, ..., e1nN, e2n1, ...].\n",
       "\n",
       "Return `elementTypes`, `elementTags`, `nodeTags`.\n"
      ],
      "text/plain": [
       "  \u001b[39mgmsh\u001b[0m\u001b[38;5;197m.\u001b[0m\u001b[39mmodel\u001b[0m\u001b[38;5;197m.\u001b[0m\u001b[39mmesh\u001b[0m\u001b[38;5;197m.\u001b[0m\u001b[38;5;81mgetElements\u001b[0m(\u001b[0m\u001b[39mdim\u001b[0m \u001b[0m\u001b[38;5;197m=\u001b[0m \u001b[0m\u001b[38;5;141m-1\u001b[0m\u001b[39m,\u001b[0m \u001b[0m\u001b[39mtag\u001b[0m \u001b[0m\u001b[38;5;197m=\u001b[0m \u001b[0m\u001b[38;5;141m-1\u001b[0m\u001b[39m)\u001b[0m\n",
       "\n",
       "\n",
       "  Get the elements classified on the entity of dimension \u001b[36mdim\u001b[39m and tag \u001b[36mtag\u001b[39m. If\n",
       "  \u001b[36mtag\u001b[39m < 0, get the elements for all entities of dimension \u001b[36mdim\u001b[39m. If \u001b[36mdim\u001b[39m and \u001b[36mtag\u001b[39m\n",
       "  are negative, get all the elements in the mesh. \u001b[36melementTypes\u001b[39m contains the\n",
       "  MSH types of the elements (e.g. \u001b[36m2\u001b[39m for 3-node triangles: see\n",
       "  \u001b[36mgetElementProperties\u001b[39m to obtain the properties for a given element type).\n",
       "  \u001b[36melementTags\u001b[39m is a vector of the same length as \u001b[36melementTypes\u001b[39m; each entry is a\n",
       "  vector containing the tags (unique, strictly positive identifiers) of the\n",
       "  elements of the corresponding type. \u001b[36mnodeTags\u001b[39m is also a vector of the same\n",
       "  length as \u001b[36melementTypes\u001b[39m; each entry is a vector of length equal to the number\n",
       "  of elements of the given type times the number N of nodes for this type of\n",
       "  element, that contains the node tags of all the elements of the given type,\n",
       "  concatenated: [e1n1, e1n2, ..., e1nN, e2n1, ...].\n",
       "\n",
       "  Return \u001b[36melementTypes\u001b[39m, \u001b[36melementTags\u001b[39m, \u001b[36mnodeTags\u001b[39m."
      ]
     },
     "execution_count": 9,
     "metadata": {},
     "output_type": "execute_result"
    }
   ],
   "source": [
    "?gmsh.model.mesh.getElements"
   ]
  },
  {
   "cell_type": "code",
   "execution_count": 10,
   "metadata": {},
   "outputs": [
    {
     "data": {
      "text/latex": [
       "\\begin{verbatim}\n",
       "gmsh.model.mesh.getElementProperties(elementType)\n",
       "\\end{verbatim}\n",
       "Get the properties of an element of type \\texttt{elementType}: its name (\\texttt{elementName}), dimension (\\texttt{dim}), order (\\texttt{order}), number of nodes (\\texttt{numNodes}), local coordinates of the nodes in the reference element (\\texttt{localNodeCoord} vector, of length \\texttt{dim} times \\texttt{numNodes}) and number of primary (first order) nodes (\\texttt{numPrimaryNodes}).\n",
       "\n",
       "Return \\texttt{elementName}, \\texttt{dim}, \\texttt{order}, \\texttt{numNodes}, \\texttt{localNodeCoord}, \\texttt{numPrimaryNodes}.\n",
       "\n"
      ],
      "text/markdown": [
       "```\n",
       "gmsh.model.mesh.getElementProperties(elementType)\n",
       "```\n",
       "\n",
       "Get the properties of an element of type `elementType`: its name (`elementName`), dimension (`dim`), order (`order`), number of nodes (`numNodes`), local coordinates of the nodes in the reference element (`localNodeCoord` vector, of length `dim` times `numNodes`) and number of primary (first order) nodes (`numPrimaryNodes`).\n",
       "\n",
       "Return `elementName`, `dim`, `order`, `numNodes`, `localNodeCoord`, `numPrimaryNodes`.\n"
      ],
      "text/plain": [
       "  \u001b[39mgmsh\u001b[0m\u001b[38;5;197m.\u001b[0m\u001b[39mmodel\u001b[0m\u001b[38;5;197m.\u001b[0m\u001b[39mmesh\u001b[0m\u001b[38;5;197m.\u001b[0m\u001b[38;5;81mgetElementProperties\u001b[0m(\u001b[0m\u001b[39melementType\u001b[0m\u001b[39m)\u001b[0m\n",
       "\n",
       "\n",
       "  Get the properties of an element of type \u001b[36melementType\u001b[39m: its name\n",
       "  (\u001b[36melementName\u001b[39m), dimension (\u001b[36mdim\u001b[39m), order (\u001b[36morder\u001b[39m), number of nodes (\u001b[36mnumNodes\u001b[39m),\n",
       "  local coordinates of the nodes in the reference element (\u001b[36mlocalNodeCoord\u001b[39m\n",
       "  vector, of length \u001b[36mdim\u001b[39m times \u001b[36mnumNodes\u001b[39m) and number of primary (first order)\n",
       "  nodes (\u001b[36mnumPrimaryNodes\u001b[39m).\n",
       "\n",
       "  Return \u001b[36melementName\u001b[39m, \u001b[36mdim\u001b[39m, \u001b[36morder\u001b[39m, \u001b[36mnumNodes\u001b[39m, \u001b[36mlocalNodeCoord\u001b[39m, \u001b[36mnumPrimaryNodes\u001b[39m."
      ]
     },
     "execution_count": 10,
     "metadata": {},
     "output_type": "execute_result"
    }
   ],
   "source": [
    "?gmsh.model.mesh.getElementProperties(9)"
   ]
  },
  {
   "cell_type": "code",
   "execution_count": 24,
   "metadata": {},
   "outputs": [
    {
     "data": {
      "text/latex": [
       "\\begin{verbatim}\n",
       "gmsh.model.mesh.getNodes(dim = -1, tag = -1, includeBoundary = false, returnParametricCoord = true)\n",
       "\\end{verbatim}\n",
       "Get the nodes classified on the entity of dimension \\texttt{dim} and tag \\texttt{tag}. If \\texttt{tag} < 0, get the nodes for all entities of dimension \\texttt{dim}. If \\texttt{dim} and \\texttt{tag} are negative, get all the nodes in the mesh. \\texttt{nodeTags} contains the node tags (their unique, strictly positive identification numbers). \\texttt{coord} is a vector of length 3 times the length of \\texttt{nodeTags} that contains the x, y, z coordinates of the nodes, concatenated: [n1x, n1y, n1z, n2x, ...]. If \\texttt{dim} >= 0 and \\texttt{returnParamtricCoord} is set, \\texttt{parametricCoord} contains the parametric coordinates ([u1, u2, ...] or [u1, v1, u2, ...]) of the nodes, if available. The length of \\texttt{parametricCoord} can be 0 or \\texttt{dim} times the length of \\texttt{nodeTags}. If \\texttt{includeBoundary} is set, also return the nodes classified on the boundary of the entity (which will be reparametrized on the entity if \\texttt{dim} >= 0 in order to compute their parametric coordinates).\n",
       "\n",
       "Return \\texttt{nodeTags}, \\texttt{coord}, \\texttt{parametricCoord}.\n",
       "\n"
      ],
      "text/markdown": [
       "```\n",
       "gmsh.model.mesh.getNodes(dim = -1, tag = -1, includeBoundary = false, returnParametricCoord = true)\n",
       "```\n",
       "\n",
       "Get the nodes classified on the entity of dimension `dim` and tag `tag`. If `tag` < 0, get the nodes for all entities of dimension `dim`. If `dim` and `tag` are negative, get all the nodes in the mesh. `nodeTags` contains the node tags (their unique, strictly positive identification numbers). `coord` is a vector of length 3 times the length of `nodeTags` that contains the x, y, z coordinates of the nodes, concatenated: [n1x, n1y, n1z, n2x, ...]. If `dim` >= 0 and `returnParamtricCoord` is set, `parametricCoord` contains the parametric coordinates ([u1, u2, ...] or [u1, v1, u2, ...]) of the nodes, if available. The length of `parametricCoord` can be 0 or `dim` times the length of `nodeTags`. If `includeBoundary` is set, also return the nodes classified on the boundary of the entity (which will be reparametrized on the entity if `dim` >= 0 in order to compute their parametric coordinates).\n",
       "\n",
       "Return `nodeTags`, `coord`, `parametricCoord`.\n"
      ],
      "text/plain": [
       "  \u001b[39mgmsh\u001b[0m\u001b[38;5;197m.\u001b[0m\u001b[39mmodel\u001b[0m\u001b[38;5;197m.\u001b[0m\u001b[39mmesh\u001b[0m\u001b[38;5;197m.\u001b[0m\u001b[38;5;81mgetNodes\u001b[0m(\u001b[0m\u001b[39mdim\u001b[0m \u001b[0m\u001b[38;5;197m=\u001b[0m \u001b[0m\u001b[38;5;141m-1\u001b[0m\u001b[39m,\u001b[0m \u001b[0m\u001b[39mtag\u001b[0m \u001b[0m\u001b[38;5;197m=\u001b[0m \u001b[0m\u001b[38;5;141m-1\u001b[0m\u001b[39m,\u001b[0m \u001b[0m\u001b[39mincludeBoundary\u001b[0m \u001b[0m\u001b[38;5;197m=\u001b[0m \u001b[0m\u001b[38;5;197mfalse\u001b[0m\u001b[39m,\u001b[0m \u001b[0m\u001b[39mreturnParametricCoord\u001b[0m \u001b[0m\u001b[38;5;197m=\u001b[0m \u001b[0m\u001b[38;5;197mtrue\u001b[0m\u001b[39m)\u001b[0m\n",
       "\n",
       "\n",
       "  Get the nodes classified on the entity of dimension \u001b[36mdim\u001b[39m and tag \u001b[36mtag\u001b[39m. If \u001b[36mtag\u001b[39m\n",
       "  < 0, get the nodes for all entities of dimension \u001b[36mdim\u001b[39m. If \u001b[36mdim\u001b[39m and \u001b[36mtag\u001b[39m are\n",
       "  negative, get all the nodes in the mesh. \u001b[36mnodeTags\u001b[39m contains the node tags\n",
       "  (their unique, strictly positive identification numbers). \u001b[36mcoord\u001b[39m is a vector\n",
       "  of length 3 times the length of \u001b[36mnodeTags\u001b[39m that contains the x, y, z\n",
       "  coordinates of the nodes, concatenated: [n1x, n1y, n1z, n2x, ...]. If \u001b[36mdim\u001b[39m >=\n",
       "  0 and \u001b[36mreturnParamtricCoord\u001b[39m is set, \u001b[36mparametricCoord\u001b[39m contains the parametric\n",
       "  coordinates ([u1, u2, ...] or [u1, v1, u2, ...]) of the nodes, if available.\n",
       "  The length of \u001b[36mparametricCoord\u001b[39m can be 0 or \u001b[36mdim\u001b[39m times the length of \u001b[36mnodeTags\u001b[39m.\n",
       "  If \u001b[36mincludeBoundary\u001b[39m is set, also return the nodes classified on the boundary\n",
       "  of the entity (which will be reparametrized on the entity if \u001b[36mdim\u001b[39m >= 0 in\n",
       "  order to compute their parametric coordinates).\n",
       "\n",
       "  Return \u001b[36mnodeTags\u001b[39m, \u001b[36mcoord\u001b[39m, \u001b[36mparametricCoord\u001b[39m."
      ]
     },
     "execution_count": 24,
     "metadata": {},
     "output_type": "execute_result"
    }
   ],
   "source": [
    "?gmsh.model.mesh.getNodes"
   ]
  },
  {
   "cell_type": "markdown",
   "metadata": {},
   "source": [
    "## Section 3:/ Extract Data from the Mesh and Perform a FEM Computation "
   ]
  },
  {
   "cell_type": "code",
   "execution_count": 13,
   "metadata": {},
   "outputs": [
    {
     "data": {
      "text/plain": [
       "area_triangle (generic function with 1 method)"
      ]
     },
     "execution_count": 13,
     "metadata": {},
     "output_type": "execute_result"
    }
   ],
   "source": [
    "function area_triangle(x1,x2,x3,y1,y2,y3)\n",
    "    x12 = x2 - x1; x13 = x3-x1;\n",
    "    y12 = y2 - y1; y13 = y3-y1;\n",
    "    area_id = x12*y13 - x13*y12; \n",
    "    area_id = abs(area_id)/2\n",
    "    return area_id \n",
    "end"
   ]
  },
  {
   "cell_type": "code",
   "execution_count": 14,
   "metadata": {},
   "outputs": [
    {
     "data": {
      "text/plain": [
       "16-element Vector{Vector{Float64}}:\n",
       " [0.06943184420297371, 0.06461106321354769]\n",
       " [0.06943184420297371, 0.30709631153115907]\n",
       " [0.06943184420297371, 0.6234718442658671]\n",
       " [0.06943184420297371, 0.8659570925834785]\n",
       " [0.33000947820757187, 0.046518677526560935]\n",
       " [0.33000947820757187, 0.22110322250073802]\n",
       " [0.33000947820757187, 0.44888729929169013]\n",
       " [0.33000947820757187, 0.6234718442658671]\n",
       " [0.6699905217924281, 0.02291316667641278]\n",
       " [0.6699905217924281, 0.10890625570683385]\n",
       " [0.6699905217924281, 0.22110322250073802]\n",
       " [0.6699905217924281, 0.30709631153115907]\n",
       " [0.9305681557970262, 0.004820780989426014]\n",
       " [0.9305681557970262, 0.02291316667641278]\n",
       " [0.9305681557970262, 0.046518677526560935]\n",
       " [0.9305681557970262, 0.06461106321354769]"
      ]
     },
     "metadata": {},
     "output_type": "display_data"
    },
    {
     "data": {
      "text/plain": [
       "16-element Vector{Float64}:\n",
       " 0.02815038307692565\n",
       " 0.0527752773542295\n",
       " 0.0527752773542295\n",
       " 0.02815038307692565\n",
       " 0.03799714764795021\n",
       " 0.0712356204997401\n",
       " 0.0712356204997401\n",
       " 0.03799714764795021\n",
       " 0.018715815315012756\n",
       " 0.0350877052529335\n",
       " 0.0350877052529335\n",
       " 0.018715815315012756\n",
       " 0.0021003652444748482\n",
       " 0.003937685608733464\n",
       " 0.003937685608733464\n",
       " 0.0021003652444748482"
      ]
     },
     "metadata": {},
     "output_type": "display_data"
    }
   ],
   "source": [
    "# polynomial degree to FE approximation  \n",
    "pdegree = 1;\n",
    "# degree of numerical quadrature \n",
    "qorder = 6; \n",
    "xi = compute_coordinates_triangle(qorder)\n",
    "w  = compute_weights_triangle(qorder)\n",
    "display(xi)\n",
    "display(w)"
   ]
  },
  {
   "cell_type": "code",
   "execution_count": 53,
   "metadata": {},
   "outputs": [
    {
     "data": {
      "text/plain": [
       "g (generic function with 1 method)"
      ]
     },
     "execution_count": 53,
     "metadata": {},
     "output_type": "execute_result"
    }
   ],
   "source": [
    "g(x,y) = x^2+y^3"
   ]
  },
  {
   "cell_type": "code",
   "execution_count": 63,
   "metadata": {},
   "outputs": [
    {
     "data": {
      "text/plain": [
       "16"
      ]
     },
     "execution_count": 63,
     "metadata": {},
     "output_type": "execute_result"
    }
   ],
   "source": [
    "length(xi)"
   ]
  },
  {
   "cell_type": "code",
   "execution_count": 67,
   "metadata": {},
   "outputs": [
    {
     "data": {
      "text/plain": [
       "16×6 Matrix{Float64}:\n",
       " 0.00509051  0.00509051  0.00509051  0.00509051  0.00509051  0.00509051\n",
       " 0.0337825   0.0337825   0.0337825   0.0337825   0.0337825   0.0337825\n",
       " 0.247175    0.247175    0.247175    0.247175    0.247175    0.247175\n",
       " 0.654186    0.654186    0.654186    0.654186    0.654186    0.654186\n",
       " 0.109007    0.109007    0.109007    0.109007    0.109007    0.109007\n",
       " 0.119715    0.119715    0.119715    0.119715    0.119715    0.119715\n",
       " 0.199357    0.199357    0.199357    0.199357    0.199357    0.199357\n",
       " 0.35126     0.35126     0.35126     0.35126     0.35126     0.35126\n",
       " 0.448899    0.448899    0.448899    0.448899    0.448899    0.448899\n",
       " 0.450179    0.450179    0.450179    0.450179    0.450179    0.450179\n",
       " 0.459696    0.459696    0.459696    0.459696    0.459696    0.459696\n",
       " 0.477849    0.477849    0.477849    0.477849    0.477849    0.477849\n",
       " 0.865957    0.865957    0.865957    0.865957    0.865957    0.865957\n",
       " 0.865969    0.865969    0.865969    0.865969    0.865969    0.865969\n",
       " 0.866058    0.866058    0.866058    0.866058    0.866058    0.866058\n",
       " 0.866227    0.866227    0.866227    0.866227    0.866227    0.866227"
      ]
     },
     "metadata": {},
     "output_type": "display_data"
    }
   ],
   "source": [
    "fvaluesloc = [g(xi[i][1],xi[i][2]) for i=1:length(xi)] \n",
    "fvaluesloc = repeat(fvaluesloc,outer=(1,6))\n",
    "display(fvaluesloc)"
   ]
  },
  {
   "cell_type": "code",
   "execution_count": 73,
   "metadata": {},
   "outputs": [
    {
     "name": "stdout",
     "output_type": "stream",
     "text": [
      "Info    : Reading 'square-2nd.msh'...\n",
      "Info    : 9 entities\n",
      "Info    : 13 nodes\n",
      "Info    : 12 elements\n",
      "Info    : Done reading 'square-2nd.msh'\n"
     ]
    },
    {
     "name": "stderr",
     "output_type": "stream",
     "text": [
      "Warning : Gmsh has aleady been initialized\n"
     ]
    },
    {
     "data": {
      "text/plain": [
       "16×6 Matrix{Float64}:\n",
       " 0.134043  0.134043  0.134043  0.134043  0.134043  0.134043\n",
       " 0.376528  0.376528  0.376528  0.376528  0.376528  0.376528\n",
       " 0.692904  0.692904  0.692904  0.692904  0.692904  0.692904\n",
       " 0.935389  0.935389  0.935389  0.935389  0.935389  0.935389\n",
       " 0.376528  0.376528  0.376528  0.376528  0.376528  0.376528\n",
       " 0.551113  0.551113  0.551113  0.551113  0.551113  0.551113\n",
       " 0.778897  0.778897  0.778897  0.778897  0.778897  0.778897\n",
       " 0.953481  0.953481  0.953481  0.953481  0.953481  0.953481\n",
       " 0.692904  0.692904  0.692904  0.692904  0.692904  0.692904\n",
       " 0.778897  0.778897  0.778897  0.778897  0.778897  0.778897\n",
       " 0.891094  0.891094  0.891094  0.891094  0.891094  0.891094\n",
       " 0.977087  0.977087  0.977087  0.977087  0.977087  0.977087\n",
       " 0.935389  0.935389  0.935389  0.935389  0.935389  0.935389\n",
       " 0.953481  0.953481  0.953481  0.953481  0.953481  0.953481\n",
       " 0.977087  0.977087  0.977087  0.977087  0.977087  0.977087\n",
       " 0.995179  0.995179  0.995179  0.995179  0.995179  0.995179"
      ]
     },
     "metadata": {},
     "output_type": "display_data"
    },
    {
     "data": {
      "text/plain": [
       "1×6 transpose(::Vector{Float64}) with eltype Float64:\n",
       " -0.0166667  0.00833333  0.00833333  0.1  0.133333  0.1"
      ]
     },
     "metadata": {},
     "output_type": "display_data"
    },
    {
     "data": {
      "text/plain": [
       "6×1 transpose(transpose(::Vector{Float64})) with eltype Float64:\n",
       " -0.00833333333333333\n",
       "  0.00416666666666667\n",
       "  0.004166666666666657\n",
       "  0.04999999999999999\n",
       "  0.06666666666666668\n",
       "  0.05"
      ]
     },
     "metadata": {},
     "output_type": "display_data"
    },
    {
     "data": {
      "text/plain": [
       "16×6 Matrix{Float64}:\n",
       " 0.134043  0.134043  0.134043  0.134043  0.134043  0.134043\n",
       " 0.376528  0.376528  0.376528  0.376528  0.376528  0.376528\n",
       " 0.692904  0.692904  0.692904  0.692904  0.692904  0.692904\n",
       " 0.935389  0.935389  0.935389  0.935389  0.935389  0.935389\n",
       " 0.376528  0.376528  0.376528  0.376528  0.376528  0.376528\n",
       " 0.551113  0.551113  0.551113  0.551113  0.551113  0.551113\n",
       " 0.778897  0.778897  0.778897  0.778897  0.778897  0.778897\n",
       " 0.953481  0.953481  0.953481  0.953481  0.953481  0.953481\n",
       " 0.692904  0.692904  0.692904  0.692904  0.692904  0.692904\n",
       " 0.778897  0.778897  0.778897  0.778897  0.778897  0.778897\n",
       " 0.891094  0.891094  0.891094  0.891094  0.891094  0.891094\n",
       " 0.977087  0.977087  0.977087  0.977087  0.977087  0.977087\n",
       " 0.935389  0.935389  0.935389  0.935389  0.935389  0.935389\n",
       " 0.953481  0.953481  0.953481  0.953481  0.953481  0.953481\n",
       " 0.977087  0.977087  0.977087  0.977087  0.977087  0.977087\n",
       " 0.995179  0.995179  0.995179  0.995179  0.995179  0.995179"
      ]
     },
     "metadata": {},
     "output_type": "display_data"
    },
    {
     "data": {
      "text/plain": [
       "1×6 transpose(::Vector{Float64}) with eltype Float64:\n",
       " -0.0166667  0.00833333  0.00833333  0.1  0.133333  0.1"
      ]
     },
     "metadata": {},
     "output_type": "display_data"
    },
    {
     "data": {
      "text/plain": [
       "6×1 transpose(transpose(::Vector{Float64})) with eltype Float64:\n",
       " -0.008333333333333333\n",
       "  0.004166666666666681\n",
       "  0.004166666666666657\n",
       "  0.05\n",
       "  0.06666666666666668\n",
       "  0.05000000000000002"
      ]
     },
     "metadata": {},
     "output_type": "display_data"
    },
    {
     "data": {
      "text/plain": [
       "16×6 Matrix{Float64}:\n",
       " 0.134043  0.134043  0.134043  0.134043  0.134043  0.134043\n",
       " 0.376528  0.376528  0.376528  0.376528  0.376528  0.376528\n",
       " 0.692904  0.692904  0.692904  0.692904  0.692904  0.692904\n",
       " 0.935389  0.935389  0.935389  0.935389  0.935389  0.935389\n",
       " 0.376528  0.376528  0.376528  0.376528  0.376528  0.376528\n",
       " 0.551113  0.551113  0.551113  0.551113  0.551113  0.551113\n",
       " 0.778897  0.778897  0.778897  0.778897  0.778897  0.778897\n",
       " 0.953481  0.953481  0.953481  0.953481  0.953481  0.953481\n",
       " 0.692904  0.692904  0.692904  0.692904  0.692904  0.692904\n",
       " 0.778897  0.778897  0.778897  0.778897  0.778897  0.778897\n",
       " 0.891094  0.891094  0.891094  0.891094  0.891094  0.891094\n",
       " 0.977087  0.977087  0.977087  0.977087  0.977087  0.977087\n",
       " 0.935389  0.935389  0.935389  0.935389  0.935389  0.935389\n",
       " 0.953481  0.953481  0.953481  0.953481  0.953481  0.953481\n",
       " 0.977087  0.977087  0.977087  0.977087  0.977087  0.977087\n",
       " 0.995179  0.995179  0.995179  0.995179  0.995179  0.995179"
      ]
     },
     "metadata": {},
     "output_type": "display_data"
    },
    {
     "data": {
      "text/plain": [
       "1×6 transpose(::Vector{Float64}) with eltype Float64:\n",
       " -0.0166667  0.00833333  0.00833333  0.1  0.133333  0.1"
      ]
     },
     "metadata": {},
     "output_type": "display_data"
    },
    {
     "data": {
      "text/plain": [
       "6×1 transpose(transpose(::Vector{Float64})) with eltype Float64:\n",
       " -0.008333333333333328\n",
       "  0.004166666666666683\n",
       "  0.004166666666666645\n",
       "  0.04999999999999999\n",
       "  0.06666666666666674\n",
       "  0.049999999999999996"
      ]
     },
     "metadata": {},
     "output_type": "display_data"
    },
    {
     "data": {
      "text/plain": [
       "16×6 Matrix{Float64}:\n",
       " 0.134043  0.134043  0.134043  0.134043  0.134043  0.134043\n",
       " 0.376528  0.376528  0.376528  0.376528  0.376528  0.376528\n",
       " 0.692904  0.692904  0.692904  0.692904  0.692904  0.692904\n",
       " 0.935389  0.935389  0.935389  0.935389  0.935389  0.935389\n",
       " 0.376528  0.376528  0.376528  0.376528  0.376528  0.376528\n",
       " 0.551113  0.551113  0.551113  0.551113  0.551113  0.551113\n",
       " 0.778897  0.778897  0.778897  0.778897  0.778897  0.778897\n",
       " 0.953481  0.953481  0.953481  0.953481  0.953481  0.953481\n",
       " 0.692904  0.692904  0.692904  0.692904  0.692904  0.692904\n",
       " 0.778897  0.778897  0.778897  0.778897  0.778897  0.778897\n",
       " 0.891094  0.891094  0.891094  0.891094  0.891094  0.891094\n",
       " 0.977087  0.977087  0.977087  0.977087  0.977087  0.977087\n",
       " 0.935389  0.935389  0.935389  0.935389  0.935389  0.935389\n",
       " 0.953481  0.953481  0.953481  0.953481  0.953481  0.953481\n",
       " 0.977087  0.977087  0.977087  0.977087  0.977087  0.977087\n",
       " 0.995179  0.995179  0.995179  0.995179  0.995179  0.995179"
      ]
     },
     "metadata": {},
     "output_type": "display_data"
    },
    {
     "data": {
      "text/plain": [
       "1×6 transpose(::Vector{Float64}) with eltype Float64:\n",
       " -0.0166667  0.00833333  0.00833333  0.1  0.133333  0.1"
      ]
     },
     "metadata": {},
     "output_type": "display_data"
    },
    {
     "data": {
      "text/plain": [
       "6×1 transpose(transpose(::Vector{Float64})) with eltype Float64:\n",
       " -0.008333333333333318\n",
       "  0.004166666666666665\n",
       "  0.004166666666666645\n",
       "  0.05\n",
       "  0.06666666666666665\n",
       "  0.05000000000000004"
      ]
     },
     "metadata": {},
     "output_type": "display_data"
    },
    {
     "data": {
      "text/plain": [
       "8×8 Matrix{Float64}:\n",
       " 1.0  0.0  0.0  0.0  0.0  0.0  0.0  0.0\n",
       " 0.0  1.0  0.0  0.0  0.0  0.0  0.0  0.0\n",
       " 0.0  0.0  1.0  0.0  0.0  0.0  0.0  0.0\n",
       " 0.0  0.0  0.0  1.0  0.0  0.0  0.0  0.0\n",
       " 0.0  0.0  0.0  0.0  1.0  0.0  0.0  0.0\n",
       " 0.0  0.0  0.0  0.0  0.0  1.0  0.0  0.0\n",
       " 0.0  0.0  0.0  0.0  0.0  0.0  1.0  0.0\n",
       " 0.0  0.0  0.0  0.0  0.0  0.0  0.0  1.0"
      ]
     },
     "metadata": {},
     "output_type": "display_data"
    },
    {
     "data": {
      "image/svg+xml": [
       "<?xml version=\"1.0\" encoding=\"utf-8\"?>\n",
       "<svg xmlns=\"http://www.w3.org/2000/svg\" xmlns:xlink=\"http://www.w3.org/1999/xlink\" width=\"600\" height=\"450\" viewBox=\"0 0 2400 1800\">\n",
       "<defs>\n",
       "  <clipPath id=\"clip370\">\n",
       "    <rect x=\"435\" y=\"45\" width=\"1441\" height=\"1621\"/>\n",
       "  </clipPath>\n",
       "</defs>\n",
       "<defs>\n",
       "  <clipPath id=\"clip371\">\n",
       "    <rect x=\"0\" y=\"0\" width=\"2400\" height=\"1800\"/>\n",
       "  </clipPath>\n",
       "</defs>\n",
       "<polyline clip-path=\"url(#clip371)\" style=\"stroke:#ededed; stroke-linecap:round; stroke-linejoin:round; stroke-width:3.6; stroke-opacity:1; fill:none\" points=\"629.134,1090.6 1194.85,851.251 \"/>\n",
       "<polyline clip-path=\"url(#clip371)\" style=\"stroke:#ededed; stroke-linecap:round; stroke-linejoin:round; stroke-width:3.6; stroke-opacity:1; fill:none\" points=\"1194.85,851.251 1696.94,1145.21 \"/>\n",
       "<polyline clip-path=\"url(#clip371)\" style=\"stroke:#cccccc; stroke-linecap:round; stroke-linejoin:round; stroke-width:3.6; stroke-opacity:1; fill:none\" points=\"621.727,1028.36 1195.33,794.532 \"/>\n",
       "<polyline clip-path=\"url(#clip371)\" style=\"stroke:#cccccc; stroke-linecap:round; stroke-linejoin:round; stroke-width:3.6; stroke-opacity:1; fill:none\" points=\"1195.33,794.532 1704.81,1081.83 \"/>\n",
       "<polyline clip-path=\"url(#clip371)\" style=\"stroke:#ededed; stroke-linecap:round; stroke-linejoin:round; stroke-width:3.6; stroke-opacity:1; fill:none\" points=\"614.107,964.336 1195.83,736.415 \"/>\n",
       "<polyline clip-path=\"url(#clip371)\" style=\"stroke:#ededed; stroke-linecap:round; stroke-linejoin:round; stroke-width:3.6; stroke-opacity:1; fill:none\" points=\"1195.83,736.415 1712.91,1016.59 \"/>\n",
       "<polyline clip-path=\"url(#clip371)\" style=\"stroke:#cccccc; stroke-linecap:round; stroke-linejoin:round; stroke-width:3.6; stroke-opacity:1; fill:none\" points=\"606.267,898.459 1196.34,676.846 \"/>\n",
       "<polyline clip-path=\"url(#clip371)\" style=\"stroke:#cccccc; stroke-linecap:round; stroke-linejoin:round; stroke-width:3.6; stroke-opacity:1; fill:none\" points=\"1196.34,676.846 1721.26,949.387 \"/>\n",
       "<polyline clip-path=\"url(#clip371)\" style=\"stroke:#ededed; stroke-linecap:round; stroke-linejoin:round; stroke-width:3.6; stroke-opacity:1; fill:none\" points=\"598.196,830.643 1196.86,615.772 \"/>\n",
       "<polyline clip-path=\"url(#clip371)\" style=\"stroke:#ededed; stroke-linecap:round; stroke-linejoin:round; stroke-width:3.6; stroke-opacity:1; fill:none\" points=\"1196.86,615.772 1729.85,880.147 \"/>\n",
       "<polyline clip-path=\"url(#clip371)\" style=\"stroke:#cccccc; stroke-linecap:round; stroke-linejoin:round; stroke-width:3.6; stroke-opacity:1; fill:none\" points=\"589.884,760.803 1197.4,553.135 \"/>\n",
       "<polyline clip-path=\"url(#clip371)\" style=\"stroke:#cccccc; stroke-linecap:round; stroke-linejoin:round; stroke-width:3.6; stroke-opacity:1; fill:none\" points=\"1197.4,553.135 1738.72,808.771 \"/>\n",
       "<polyline clip-path=\"url(#clip371)\" style=\"stroke:#ededed; stroke-linecap:round; stroke-linejoin:round; stroke-width:3.6; stroke-opacity:1; fill:none\" points=\"581.32,688.846 1197.94,488.873 \"/>\n",
       "<polyline clip-path=\"url(#clip371)\" style=\"stroke:#ededed; stroke-linecap:round; stroke-linejoin:round; stroke-width:3.6; stroke-opacity:1; fill:none\" points=\"1197.94,488.873 1747.86,735.159 \"/>\n",
       "<polyline clip-path=\"url(#clip371)\" style=\"stroke:#cccccc; stroke-linecap:round; stroke-linejoin:round; stroke-width:3.6; stroke-opacity:1; fill:none\" points=\"572.493,614.674 1198.51,422.923 \"/>\n",
       "<polyline clip-path=\"url(#clip371)\" style=\"stroke:#cccccc; stroke-linecap:round; stroke-linejoin:round; stroke-width:3.6; stroke-opacity:1; fill:none\" points=\"1198.51,422.923 1757.29,659.205 \"/>\n",
       "<polyline clip-path=\"url(#clip371)\" style=\"stroke:#ededed; stroke-linecap:round; stroke-linejoin:round; stroke-width:3.6; stroke-opacity:1; fill:none\" points=\"563.39,538.185 1199.09,355.216 \"/>\n",
       "<polyline clip-path=\"url(#clip371)\" style=\"stroke:#ededed; stroke-linecap:round; stroke-linejoin:round; stroke-width:3.6; stroke-opacity:1; fill:none\" points=\"1199.09,355.216 1767.03,580.795 \"/>\n",
       "<polyline clip-path=\"url(#clip371)\" style=\"stroke:#ededed; stroke-linecap:round; stroke-linejoin:round; stroke-width:3.6; stroke-opacity:1; fill:none\" points=\"674.941,1185.35 1236.72,932.311 \"/>\n",
       "<polyline clip-path=\"url(#clip371)\" style=\"stroke:#ededed; stroke-linecap:round; stroke-linejoin:round; stroke-width:3.6; stroke-opacity:1; fill:none\" points=\"1236.72,932.311 1247.95,303.583 \"/>\n",
       "<polyline clip-path=\"url(#clip371)\" style=\"stroke:#cccccc; stroke-linecap:round; stroke-linejoin:round; stroke-width:3.6; stroke-opacity:1; fill:none\" points=\"714.999,1220.84 1280.46,958.837 \"/>\n",
       "<polyline clip-path=\"url(#clip371)\" style=\"stroke:#cccccc; stroke-linecap:round; stroke-linejoin:round; stroke-width:3.6; stroke-opacity:1; fill:none\" points=\"1280.46,958.837 1298.01,322.148 \"/>\n",
       "<polyline clip-path=\"url(#clip371)\" style=\"stroke:#ededed; stroke-linecap:round; stroke-linejoin:round; stroke-width:3.6; stroke-opacity:1; fill:none\" points=\"756.597,1257.71 1325.64,986.24 \"/>\n",
       "<polyline clip-path=\"url(#clip371)\" style=\"stroke:#ededed; stroke-linecap:round; stroke-linejoin:round; stroke-width:3.6; stroke-opacity:1; fill:none\" points=\"1325.64,986.24 1349.97,341.415 \"/>\n",
       "<polyline clip-path=\"url(#clip371)\" style=\"stroke:#cccccc; stroke-linecap:round; stroke-linejoin:round; stroke-width:3.6; stroke-opacity:1; fill:none\" points=\"799.827,1296.01 1372.34,1014.57 \"/>\n",
       "<polyline clip-path=\"url(#clip371)\" style=\"stroke:#cccccc; stroke-linecap:round; stroke-linejoin:round; stroke-width:3.6; stroke-opacity:1; fill:none\" points=\"1372.34,1014.57 1403.93,361.425 \"/>\n",
       "<polyline clip-path=\"url(#clip371)\" style=\"stroke:#ededed; stroke-linecap:round; stroke-linejoin:round; stroke-width:3.6; stroke-opacity:1; fill:none\" points=\"844.785,1335.85 1420.64,1043.86 \"/>\n",
       "<polyline clip-path=\"url(#clip371)\" style=\"stroke:#ededed; stroke-linecap:round; stroke-linejoin:round; stroke-width:3.6; stroke-opacity:1; fill:none\" points=\"1420.64,1043.86 1460.01,382.222 \"/>\n",
       "<polyline clip-path=\"url(#clip371)\" style=\"stroke:#cccccc; stroke-linecap:round; stroke-linejoin:round; stroke-width:3.6; stroke-opacity:1; fill:none\" points=\"891.578,1377.32 1470.63,1074.18 \"/>\n",
       "<polyline clip-path=\"url(#clip371)\" style=\"stroke:#cccccc; stroke-linecap:round; stroke-linejoin:round; stroke-width:3.6; stroke-opacity:1; fill:none\" points=\"1470.63,1074.18 1518.33,403.853 \"/>\n",
       "<polyline clip-path=\"url(#clip371)\" style=\"stroke:#ededed; stroke-linecap:round; stroke-linejoin:round; stroke-width:3.6; stroke-opacity:1; fill:none\" points=\"940.32,1420.51 1522.39,1105.57 \"/>\n",
       "<polyline clip-path=\"url(#clip371)\" style=\"stroke:#ededed; stroke-linecap:round; stroke-linejoin:round; stroke-width:3.6; stroke-opacity:1; fill:none\" points=\"1522.39,1105.57 1579.05,426.369 \"/>\n",
       "<polyline clip-path=\"url(#clip371)\" style=\"stroke:#cccccc; stroke-linecap:round; stroke-linejoin:round; stroke-width:3.6; stroke-opacity:1; fill:none\" points=\"991.136,1465.54 1576.01,1138.1 \"/>\n",
       "<polyline clip-path=\"url(#clip371)\" style=\"stroke:#cccccc; stroke-linecap:round; stroke-linejoin:round; stroke-width:3.6; stroke-opacity:1; fill:none\" points=\"1576.01,1138.1 1642.3,449.826 \"/>\n",
       "<polyline clip-path=\"url(#clip371)\" style=\"stroke:#ededed; stroke-linecap:round; stroke-linejoin:round; stroke-width:3.6; stroke-opacity:1; fill:none\" points=\"1044.16,1512.53 1631.61,1171.82 \"/>\n",
       "<polyline clip-path=\"url(#clip371)\" style=\"stroke:#ededed; stroke-linecap:round; stroke-linejoin:round; stroke-width:3.6; stroke-opacity:1; fill:none\" points=\"1631.61,1171.82 1708.26,474.284 \"/>\n",
       "<polyline clip-path=\"url(#clip371)\" style=\"stroke:#cccccc; stroke-linecap:round; stroke-linejoin:round; stroke-width:3.6; stroke-opacity:1; fill:none\" points=\"1099.54,1561.61 1689.29,1206.81 \"/>\n",
       "<polyline clip-path=\"url(#clip371)\" style=\"stroke:#cccccc; stroke-linecap:round; stroke-linejoin:round; stroke-width:3.6; stroke-opacity:1; fill:none\" points=\"1689.29,1206.81 1777.09,499.809 \"/>\n",
       "<polyline clip-path=\"url(#clip371)\" style=\"stroke:#ededed; stroke-linecap:round; stroke-linejoin:round; stroke-width:3.6; stroke-opacity:1; fill:none\" points=\"699.688,1123.38 1168.23,1520.28 \"/>\n",
       "<polyline clip-path=\"url(#clip371)\" style=\"stroke:#ededed; stroke-linecap:round; stroke-linejoin:round; stroke-width:3.6; stroke-opacity:1; fill:none\" points=\"699.688,1123.38 628.659,439.195 \"/>\n",
       "<polyline clip-path=\"url(#clip371)\" style=\"stroke:#cccccc; stroke-linecap:round; stroke-linejoin:round; stroke-width:3.6; stroke-opacity:1; fill:none\" points=\"761.162,1096.44 1234.45,1480.44 \"/>\n",
       "<polyline clip-path=\"url(#clip371)\" style=\"stroke:#cccccc; stroke-linecap:round; stroke-linejoin:round; stroke-width:3.6; stroke-opacity:1; fill:none\" points=\"761.162,1096.44 700.771,419.808 \"/>\n",
       "<polyline clip-path=\"url(#clip371)\" style=\"stroke:#ededed; stroke-linecap:round; stroke-linejoin:round; stroke-width:3.6; stroke-opacity:1; fill:none\" points=\"820.842,1070.29 1298.33,1442.01 \"/>\n",
       "<polyline clip-path=\"url(#clip371)\" style=\"stroke:#ededed; stroke-linecap:round; stroke-linejoin:round; stroke-width:3.6; stroke-opacity:1; fill:none\" points=\"820.842,1070.29 770.463,401.073 \"/>\n",
       "<polyline clip-path=\"url(#clip371)\" style=\"stroke:#cccccc; stroke-linecap:round; stroke-linejoin:round; stroke-width:3.6; stroke-opacity:1; fill:none\" points=\"878.806,1044.9 1360,1404.91 \"/>\n",
       "<polyline clip-path=\"url(#clip371)\" style=\"stroke:#cccccc; stroke-linecap:round; stroke-linejoin:round; stroke-width:3.6; stroke-opacity:1; fill:none\" points=\"878.806,1044.9 837.853,382.956 \"/>\n",
       "<polyline clip-path=\"url(#clip371)\" style=\"stroke:#ededed; stroke-linecap:round; stroke-linejoin:round; stroke-width:3.6; stroke-opacity:1; fill:none\" points=\"935.127,1020.22 1419.56,1369.08 \"/>\n",
       "<polyline clip-path=\"url(#clip371)\" style=\"stroke:#ededed; stroke-linecap:round; stroke-linejoin:round; stroke-width:3.6; stroke-opacity:1; fill:none\" points=\"935.127,1020.22 903.055,365.427 \"/>\n",
       "<polyline clip-path=\"url(#clip371)\" style=\"stroke:#cccccc; stroke-linecap:round; stroke-linejoin:round; stroke-width:3.6; stroke-opacity:1; fill:none\" points=\"989.874,996.228 1477.12,1334.45 \"/>\n",
       "<polyline clip-path=\"url(#clip371)\" style=\"stroke:#cccccc; stroke-linecap:round; stroke-linejoin:round; stroke-width:3.6; stroke-opacity:1; fill:none\" points=\"989.874,996.228 966.173,348.459 \"/>\n",
       "<polyline clip-path=\"url(#clip371)\" style=\"stroke:#ededed; stroke-linecap:round; stroke-linejoin:round; stroke-width:3.6; stroke-opacity:1; fill:none\" points=\"1043.11,972.9 1532.79,1300.96 \"/>\n",
       "<polyline clip-path=\"url(#clip371)\" style=\"stroke:#ededed; stroke-linecap:round; stroke-linejoin:round; stroke-width:3.6; stroke-opacity:1; fill:none\" points=\"1043.11,972.9 1027.31,332.025 \"/>\n",
       "<polyline clip-path=\"url(#clip371)\" style=\"stroke:#cccccc; stroke-linecap:round; stroke-linejoin:round; stroke-width:3.6; stroke-opacity:1; fill:none\" points=\"1094.9,950.207 1586.65,1268.56 \"/>\n",
       "<polyline clip-path=\"url(#clip371)\" style=\"stroke:#cccccc; stroke-linecap:round; stroke-linejoin:round; stroke-width:3.6; stroke-opacity:1; fill:none\" points=\"1094.9,950.207 1086.54,316.099 \"/>\n",
       "<polyline clip-path=\"url(#clip371)\" style=\"stroke:#ededed; stroke-linecap:round; stroke-linejoin:round; stroke-width:3.6; stroke-opacity:1; fill:none\" points=\"1145.3,928.122 1638.79,1237.19 \"/>\n",
       "<polyline clip-path=\"url(#clip371)\" style=\"stroke:#ededed; stroke-linecap:round; stroke-linejoin:round; stroke-width:3.6; stroke-opacity:1; fill:none\" points=\"1145.3,928.122 1143.98,300.659 \"/>\n",
       "<polyline clip-path=\"url(#clip371)\" style=\"stroke:#cccccc; stroke-linecap:round; stroke-linejoin:round; stroke-width:3.6; stroke-opacity:1; fill:none\" points=\"1194.37,906.622 1689.29,1206.81 \"/>\n",
       "<polyline clip-path=\"url(#clip371)\" style=\"stroke:#cccccc; stroke-linecap:round; stroke-linejoin:round; stroke-width:3.6; stroke-opacity:1; fill:none\" points=\"1194.37,906.622 1199.68,285.683 \"/>\n",
       "<path clip-path=\"url(#clip370)\" d=\"M1194.37 906.622 L935.127 1020.22 L1178.28 599.322  Z\" fill=\"#3e4b89\" fill-rule=\"evenodd\" fill-opacity=\"1\"/>\n",
       "<polyline clip-path=\"url(#clip370)\" style=\"stroke:#00528a; stroke-linecap:round; stroke-linejoin:round; stroke-width:3.6; stroke-opacity:1; fill:none\" points=\"1194.37,906.622 935.127,1020.22 1178.28,599.322 1194.37,906.622 \"/>\n",
       "<path clip-path=\"url(#clip370)\" d=\"M1178.28 599.322 L1420.64 1043.86 L1194.37 906.622  Z\" fill=\"#3e4b89\" fill-rule=\"evenodd\" fill-opacity=\"1\"/>\n",
       "<polyline clip-path=\"url(#clip370)\" style=\"stroke:#00528a; stroke-linecap:round; stroke-linejoin:round; stroke-width:3.6; stroke-opacity:1; fill:none\" points=\"1178.28,599.322 1420.64,1043.86 1194.37,906.622 1178.28,599.322 \"/>\n",
       "<path clip-path=\"url(#clip370)\" d=\"M935.127 1020.22 L866.372 709.307 L1178.28 599.322  Z\" fill=\"#24888e\" fill-rule=\"evenodd\" fill-opacity=\"1\"/>\n",
       "<polyline clip-path=\"url(#clip370)\" style=\"stroke:#00528a; stroke-linecap:round; stroke-linejoin:round; stroke-width:3.6; stroke-opacity:1; fill:none\" points=\"935.127,1020.22 866.372,709.307 1178.28,599.322 935.127,1020.22 \"/>\n",
       "<path clip-path=\"url(#clip370)\" d=\"M1178.28 599.322 L1448.4 732.566 L1420.64 1043.86  Z\" fill=\"#24888e\" fill-rule=\"evenodd\" fill-opacity=\"1\"/>\n",
       "<polyline clip-path=\"url(#clip370)\" style=\"stroke:#00528a; stroke-linecap:round; stroke-linejoin:round; stroke-width:3.6; stroke-opacity:1; fill:none\" points=\"1178.28,599.322 1448.4,732.566 1420.64,1043.86 1178.28,599.322 \"/>\n",
       "<path clip-path=\"url(#clip370)\" d=\"M866.372 709.307 L935.127 1020.22 L636.339 1151.14  Z\" fill=\"#3e4b89\" fill-rule=\"evenodd\" fill-opacity=\"1\"/>\n",
       "<polyline clip-path=\"url(#clip370)\" style=\"stroke:#00528a; stroke-linecap:round; stroke-linejoin:round; stroke-width:3.6; stroke-opacity:1; fill:none\" points=\"866.372,709.307 935.127,1020.22 636.339,1151.14 866.372,709.307 \"/>\n",
       "<path clip-path=\"url(#clip370)\" d=\"M1178.28 599.322 L866.372 709.307 L1155 479.188  Z\" fill=\"#73d056\" fill-rule=\"evenodd\" fill-opacity=\"1\"/>\n",
       "<polyline clip-path=\"url(#clip370)\" style=\"stroke:#00528a; stroke-linecap:round; stroke-linejoin:round; stroke-width:3.6; stroke-opacity:1; fill:none\" points=\"1178.28,599.322 866.372,709.307 1155,479.188 1178.28,599.322 \"/>\n",
       "<path clip-path=\"url(#clip370)\" d=\"M1155 479.188 L1448.4 732.566 L1178.28 599.322  Z\" fill=\"#73d056\" fill-rule=\"evenodd\" fill-opacity=\"1\"/>\n",
       "<polyline clip-path=\"url(#clip370)\" style=\"stroke:#00528a; stroke-linecap:round; stroke-linejoin:round; stroke-width:3.6; stroke-opacity:1; fill:none\" points=\"1155,479.188 1448.4,732.566 1178.28,599.322 1155,479.188 \"/>\n",
       "<path clip-path=\"url(#clip370)\" d=\"M1689.29 1206.81 L1420.64 1043.86 L1448.4 732.566  Z\" fill=\"#3e4b89\" fill-rule=\"evenodd\" fill-opacity=\"1\"/>\n",
       "<polyline clip-path=\"url(#clip370)\" style=\"stroke:#00528a; stroke-linecap:round; stroke-linejoin:round; stroke-width:3.6; stroke-opacity:1; fill:none\" points=\"1689.29,1206.81 1420.64,1043.86 1448.4,732.566 1689.29,1206.81 \"/>\n",
       "<path clip-path=\"url(#clip370)\" d=\"M636.339 1151.14 L844.785 1335.85 L866.372 709.307  Z\" fill=\"#3e4b89\" fill-rule=\"evenodd\" fill-opacity=\"1\"/>\n",
       "<polyline clip-path=\"url(#clip370)\" style=\"stroke:#00528a; stroke-linecap:round; stroke-linejoin:round; stroke-width:3.6; stroke-opacity:1; fill:none\" points=\"636.339,1151.14 844.785,1335.85 866.372,709.307 636.339,1151.14 \"/>\n",
       "<path clip-path=\"url(#clip370)\" d=\"M866.372 709.307 L1126.91 867.513 L1155 479.188  Z\" fill=\"#73d056\" fill-rule=\"evenodd\" fill-opacity=\"1\"/>\n",
       "<polyline clip-path=\"url(#clip370)\" style=\"stroke:#00528a; stroke-linecap:round; stroke-linejoin:round; stroke-width:3.6; stroke-opacity:1; fill:none\" points=\"866.372,709.307 1126.91,867.513 1155,479.188 866.372,709.307 \"/>\n",
       "<path clip-path=\"url(#clip370)\" d=\"M1155 479.188 L1126.91 867.513 L1448.4 732.566  Z\" fill=\"#73d056\" fill-rule=\"evenodd\" fill-opacity=\"1\"/>\n",
       "<polyline clip-path=\"url(#clip370)\" style=\"stroke:#00528a; stroke-linecap:round; stroke-linejoin:round; stroke-width:3.6; stroke-opacity:1; fill:none\" points=\"1155,479.188 1126.91,867.513 1448.4,732.566 1155,479.188 \"/>\n",
       "<path clip-path=\"url(#clip370)\" d=\"M1448.4 732.566 L1419.56 1369.08 L1689.29 1206.81  Z\" fill=\"#3e4b89\" fill-rule=\"evenodd\" fill-opacity=\"1\"/>\n",
       "<polyline clip-path=\"url(#clip370)\" style=\"stroke:#00528a; stroke-linecap:round; stroke-linejoin:round; stroke-width:3.6; stroke-opacity:1; fill:none\" points=\"1448.4,732.566 1419.56,1369.08 1689.29,1206.81 1448.4,732.566 \"/>\n",
       "<path clip-path=\"url(#clip370)\" d=\"M844.785 1335.85 L1126.91 867.513 L866.372 709.307  Z\" fill=\"#24888e\" fill-rule=\"evenodd\" fill-opacity=\"1\"/>\n",
       "<polyline clip-path=\"url(#clip370)\" style=\"stroke:#00528a; stroke-linecap:round; stroke-linejoin:round; stroke-width:3.6; stroke-opacity:1; fill:none\" points=\"844.785,1335.85 1126.91,867.513 866.372,709.307 844.785,1335.85 \"/>\n",
       "<path clip-path=\"url(#clip370)\" d=\"M1448.4 732.566 L1126.91 867.513 L1419.56 1369.08  Z\" fill=\"#24888e\" fill-rule=\"evenodd\" fill-opacity=\"1\"/>\n",
       "<polyline clip-path=\"url(#clip370)\" style=\"stroke:#00528a; stroke-linecap:round; stroke-linejoin:round; stroke-width:3.6; stroke-opacity:1; fill:none\" points=\"1448.4,732.566 1126.91,867.513 1419.56,1369.08 1448.4,732.566 \"/>\n",
       "<path clip-path=\"url(#clip370)\" d=\"M1126.91 867.513 L844.785 1335.85 L1099.54 1561.61  Z\" fill=\"#3e4b89\" fill-rule=\"evenodd\" fill-opacity=\"1\"/>\n",
       "<polyline clip-path=\"url(#clip370)\" style=\"stroke:#00528a; stroke-linecap:round; stroke-linejoin:round; stroke-width:3.6; stroke-opacity:1; fill:none\" points=\"1126.91,867.513 844.785,1335.85 1099.54,1561.61 1126.91,867.513 \"/>\n",
       "<path clip-path=\"url(#clip370)\" d=\"M1099.54 1561.61 L1419.56 1369.08 L1126.91 867.513  Z\" fill=\"#3e4b89\" fill-rule=\"evenodd\" fill-opacity=\"1\"/>\n",
       "<polyline clip-path=\"url(#clip370)\" style=\"stroke:#00528a; stroke-linecap:round; stroke-linejoin:round; stroke-width:3.6; stroke-opacity:1; fill:none\" points=\"1099.54,1561.61 1419.56,1369.08 1126.91,867.513 1099.54,1561.61 \"/>\n",
       "<path clip-path=\"url(#clip371)\" d=\"M533.256 1065.26 Q532.508 1059.91 533.562 1056.39 Q534.995 1051.22 539.8 1049.27 Q540.818 1048.86 541.91 1048.7 Q543.018 1048.52 544.493 1048.95 Q545.986 1049.38 547.027 1050.65 Q549.015 1053.1 549.753 1058.53 Q550.472 1063.82 549.417 1067.29 Q547.877 1072.35 543.209 1074.27 Q541.453 1074.99 539.542 1074.9 Q537.649 1074.8 536.241 1073.27 Q534.06 1071 533.256 1065.26 M536.458 1063.48 Q537.22 1068.96 537.944 1070.96 Q538.749 1073.12 540.191 1073.61 Q541.649 1074.07 543.099 1073.48 Q544.663 1072.84 545.812 1071.23 Q546.977 1069.6 547.055 1067.08 Q547.177 1064.59 546.449 1059.41 Q545.757 1054.35 545.098 1052.48 Q544.257 1050.33 542.748 1049.94 Q541.254 1049.53 539.873 1050.09 Q539.354 1050.3 538.817 1050.67 Q538.299 1051.03 537.568 1051.76 Q536.837 1052.49 536.363 1053.75 Q535.908 1055.01 535.833 1056.66 Q535.8 1058.76 536.458 1063.48 Z\" fill=\"#000000\" fill-rule=\"nonzero\" fill-opacity=\"1\" /><path clip-path=\"url(#clip371)\" d=\"M556.696 1067.28 Q556.03 1066.94 555.928 1066.18 Q555.826 1065.43 556.34 1064.64 Q556.853 1063.83 557.744 1063.47 Q558.597 1063.12 559.237 1063.41 Q559.893 1063.68 560.006 1064.53 Q560.117 1065.36 559.565 1066.16 Q559.03 1066.94 558.253 1067.26 Q557.362 1067.62 556.696 1067.28 Z\" fill=\"#000000\" fill-rule=\"nonzero\" fill-opacity=\"1\" /><path clip-path=\"url(#clip371)\" d=\"M563.644 1052.86 Q562.937 1047.54 563.993 1044.04 Q565.432 1038.9 570.169 1036.98 Q571.172 1036.57 572.248 1036.42 Q573.339 1036.24 574.788 1036.68 Q576.254 1037.11 577.271 1038.38 Q579.213 1040.83 579.91 1046.23 Q580.588 1051.5 579.531 1054.95 Q577.989 1059.98 573.385 1061.87 Q571.654 1062.59 569.775 1062.49 Q567.912 1062.38 566.536 1060.85 Q564.403 1058.58 563.644 1052.86 M566.803 1051.11 Q567.523 1056.56 568.224 1058.56 Q569.004 1060.71 570.42 1061.2 Q571.851 1061.67 573.282 1061.08 Q574.824 1060.45 575.963 1058.85 Q577.118 1057.23 577.209 1054.73 Q577.343 1052.25 576.654 1047.09 Q576.002 1042.06 575.363 1040.19 Q574.548 1038.05 573.065 1037.66 Q571.598 1037.24 570.236 1037.79 Q569.725 1038 569.195 1038.37 Q568.683 1038.72 567.96 1039.45 Q567.237 1040.17 566.763 1041.43 Q566.309 1042.67 566.226 1044.31 Q566.182 1046.4 566.803 1051.11 Z\" fill=\"#000000\" fill-rule=\"nonzero\" fill-opacity=\"1\" /><path clip-path=\"url(#clip371)\" d=\"M583.708 1035.13 L583.563 1034 Q588.183 1032.13 590.273 1028.84 Q590.929 1028.58 591.059 1028.67 Q591.19 1028.77 591.272 1029.42 L593.819 1049.66 Q593.953 1050.73 594.554 1050.84 Q595.155 1050.94 597.594 1049.94 L598.803 1049.44 L598.94 1050.55 Q597.588 1050.99 592.746 1052.98 Q587.893 1054.97 586.58 1055.62 L586.439 1054.52 L587.654 1054.02 Q590.064 1053.03 590.603 1052.48 Q591.139 1051.91 591.002 1050.82 L588.637 1032.13 Q586.751 1033.9 583.708 1035.13 Z\" fill=\"#000000\" fill-rule=\"nonzero\" fill-opacity=\"1\" /><path clip-path=\"url(#clip371)\" d=\"M513.615 934.138 Q512.819 928.465 513.899 924.803 Q515.365 919.403 520.336 917.551 Q521.389 917.159 522.519 917.035 Q523.667 916.886 525.197 917.408 Q526.745 917.921 527.828 919.301 Q529.896 921.973 530.68 927.725 Q531.444 933.332 530.364 936.948 Q528.787 942.224 523.958 944.054 Q522.142 944.742 520.162 944.567 Q518.2 944.384 516.736 942.709 Q514.469 940.228 513.615 934.138 M516.925 932.399 Q517.735 938.206 518.492 940.349 Q519.334 942.654 520.83 943.231 Q522.341 943.781 523.842 943.213 Q525.46 942.6 526.643 940.952 Q527.844 939.278 527.917 936.632 Q528.034 934.007 527.261 928.516 Q526.526 923.155 525.836 921.155 Q524.957 918.847 523.392 918.378 Q521.843 917.883 520.414 918.416 Q519.878 918.616 519.323 918.982 Q518.787 919.341 518.033 920.079 Q517.278 920.818 516.791 922.133 Q516.325 923.44 516.253 925.175 Q516.227 927.388 516.925 932.399 Z\" fill=\"#000000\" fill-rule=\"nonzero\" fill-opacity=\"1\" /><path clip-path=\"url(#clip371)\" d=\"M537.903 937.24 Q537.211 936.854 537.103 936.051 Q536.994 935.248 537.525 934.438 Q538.052 933.611 538.974 933.262 Q539.857 932.929 540.52 933.267 Q541.2 933.579 541.32 934.475 Q541.438 935.352 540.869 936.175 Q540.318 936.972 539.515 937.276 Q538.594 937.625 537.903 937.24 Z\" fill=\"#000000\" fill-rule=\"nonzero\" fill-opacity=\"1\" /><path clip-path=\"url(#clip371)\" d=\"M545.047 922.327 Q544.296 916.681 545.377 913.041 Q546.849 907.674 551.749 905.849 Q552.786 905.462 553.899 905.344 Q555.028 905.199 556.53 905.723 Q558.05 906.239 559.107 907.616 Q561.127 910.281 561.866 916.006 Q562.587 921.587 561.504 925.181 Q559.925 930.424 555.165 932.228 Q553.375 932.906 551.429 932.725 Q549.5 932.536 548.07 930.865 Q545.853 928.388 545.047 922.327 M548.312 920.608 Q549.076 926.388 549.81 928.522 Q550.625 930.819 552.093 931.398 Q553.576 931.951 555.055 931.39 Q556.65 930.786 557.823 929.151 Q559.013 927.49 559.099 924.858 Q559.229 922.247 558.499 916.781 Q557.806 911.446 557.138 909.454 Q556.286 907.154 554.75 906.683 Q553.229 906.185 551.821 906.71 Q551.292 906.907 550.744 907.269 Q550.215 907.624 549.469 908.356 Q548.723 909.089 548.237 910.395 Q547.771 911.693 547.691 913.419 Q547.653 915.621 548.312 920.608 Z\" fill=\"#000000\" fill-rule=\"nonzero\" fill-opacity=\"1\" /><path clip-path=\"url(#clip371)\" d=\"M567.005 926.864 Q566.917 926.177 566.948 925.951 Q566.999 925.717 567.269 925.284 L573.828 914.265 Q577.411 908.192 576.917 904.252 Q576.595 901.69 574.972 900.376 Q573.365 899.052 570.826 899.999 Q569.079 900.65 567.735 902.233 Q566.39 903.815 565.945 905.906 Q566.057 905.825 566.465 905.673 Q567.455 905.302 568.075 905.699 Q568.714 906.087 568.816 906.892 Q568.948 907.921 568.314 908.688 Q567.697 909.429 567.018 909.683 Q566.746 909.785 566.37 909.867 Q566.014 909.942 565.383 909.629 Q564.75 909.297 564.628 908.342 Q564.284 905.662 566.11 902.74 Q567.955 899.811 571.178 898.611 Q574.822 897.253 577.466 898.465 Q580.121 899.648 580.527 902.901 Q580.669 904.04 580.433 905.223 Q580.214 906.379 579.832 907.362 Q579.47 908.337 578.358 910.102 Q577.246 911.866 576.339 913.164 Q575.431 914.461 573.378 917.263 L569.684 922.772 L576.806 920.08 Q580.271 918.77 580.503 918.371 Q580.82 917.687 580.946 914.663 L581.946 914.286 L581.656 921.315 L567.005 926.864 Z\" fill=\"#000000\" fill-rule=\"nonzero\" fill-opacity=\"1\" /><path clip-path=\"url(#clip371)\" d=\"M493.709 794.611 Q492.864 788.586 493.969 784.765 Q495.47 779.124 500.617 777.381 Q501.707 777.012 502.879 776.93 Q504.067 776.822 505.655 777.438 Q507.262 778.047 508.389 779.551 Q510.542 782.461 511.375 788.568 Q512.187 794.521 511.08 798.293 Q509.465 803.797 504.466 805.523 Q502.586 806.172 500.534 805.903 Q498.5 805.626 496.976 803.795 Q494.616 801.079 493.709 794.611 M497.135 792.916 Q497.995 799.083 498.788 801.378 Q499.669 803.848 501.221 804.521 Q502.79 805.166 504.343 804.63 Q506.017 804.052 507.238 802.362 Q508.477 800.646 508.543 797.856 Q508.655 795.089 507.834 789.258 Q507.053 783.565 506.331 781.424 Q505.412 778.948 503.788 778.386 Q502.181 777.797 500.701 778.298 Q500.146 778.486 499.572 778.849 Q499.018 779.205 498.238 779.953 Q497.458 780.701 496.959 782.068 Q496.48 783.429 496.411 785.258 Q496.392 787.594 497.135 792.916 Z\" fill=\"#000000\" fill-rule=\"nonzero\" fill-opacity=\"1\" /><path clip-path=\"url(#clip371)\" d=\"M518.894 798.923 Q518.176 798.486 518.061 797.634 Q517.945 796.781 518.492 795.949 Q519.036 795.098 519.99 794.769 Q520.903 794.455 521.592 794.84 Q522.298 795.199 522.425 796.15 Q522.55 797.081 521.964 797.926 Q521.395 798.744 520.564 799.03 Q519.611 799.359 518.894 798.923 Z\" fill=\"#000000\" fill-rule=\"nonzero\" fill-opacity=\"1\" /><path clip-path=\"url(#clip371)\" d=\"M526.244 783.482 Q525.447 777.489 526.555 773.692 Q528.061 768.087 533.132 766.37 Q534.205 766.007 535.358 765.929 Q536.527 765.825 538.085 766.443 Q539.662 767.054 540.762 768.552 Q542.863 771.453 543.648 777.53 Q544.413 783.452 543.304 787.2 Q541.685 792.667 536.761 794.368 Q534.909 795.008 532.892 794.733 Q530.894 794.452 529.406 792.626 Q527.1 789.917 526.244 783.482 M529.622 781.808 Q530.433 787.943 531.2 790.228 Q532.053 792.687 533.576 793.361 Q535.114 794.008 536.644 793.48 Q538.294 792.91 539.504 791.234 Q540.732 789.531 540.812 786.756 Q540.937 784.005 540.162 778.204 Q539.426 772.54 538.728 770.408 Q537.838 767.943 536.244 767.38 Q534.667 766.789 533.209 767.283 Q532.662 767.468 532.096 767.827 Q531.549 768.179 530.779 768.92 Q530.008 769.662 529.509 771.02 Q529.031 772.371 528.953 774.19 Q528.921 776.513 529.622 781.808 Z\" fill=\"#000000\" fill-rule=\"nonzero\" fill-opacity=\"1\" /><path clip-path=\"url(#clip371)\" d=\"M547.987 783.876 Q547.832 782.67 548.46 781.856 Q549.088 781.041 549.99 780.732 Q550.931 780.409 551.67 780.795 Q552.425 781.154 552.559 782.2 Q552.702 783.326 551.983 784.232 Q551.284 785.132 550.143 785.36 Q551.33 786.64 553.222 786.749 Q555.132 786.851 556.807 786.273 Q558.561 785.668 559.787 783.684 Q561.032 781.692 560.572 778.025 Q560.18 774.906 558.716 773.531 Q557.271 772.147 554.852 772.974 L553.05 773.59 Q552.429 773.802 552.242 773.805 Q552.054 773.807 552.011 773.47 Q551.96 773.074 552.571 772.782 Q553.192 772.57 554.158 772.116 Q556.529 771.224 557.531 768.753 Q558.431 766.461 558.089 763.743 Q557.777 761.26 556.445 760.633 Q555.129 759.98 553.585 760.503 Q552.14 760.993 550.629 762.128 Q549.118 763.264 548.424 764.891 Q550.976 764.024 551.236 766.072 Q551.35 766.967 550.844 767.761 Q550.356 768.528 549.412 768.849 Q548.509 769.157 547.835 768.806 Q547.158 768.434 547.033 767.46 Q546.734 765.132 548.62 762.809 Q550.525 760.481 553.617 759.433 Q556.665 758.401 559.108 759.233 Q561.566 760.056 561.872 762.498 Q562.171 764.898 560.82 767.404 Q559.469 769.909 557.034 771.588 Q560.227 771.137 562.344 772.598 Q564.455 774.037 564.773 776.582 Q565.166 779.735 562.951 782.921 Q560.734 786.088 557.069 787.354 Q553.678 788.525 551.009 787.554 Q548.335 786.581 547.987 783.876 Z\" fill=\"#000000\" fill-rule=\"nonzero\" fill-opacity=\"1\" /><path clip-path=\"url(#clip371)\" d=\"M472.269 646.361 Q471.369 639.95 472.502 635.956 Q474.038 630.054 479.375 628.437 Q480.504 628.095 481.72 628.06 Q482.954 627.998 484.604 628.72 Q486.274 629.436 487.45 631.076 Q489.695 634.25 490.581 640.748 Q491.446 647.08 490.311 651.021 Q488.655 656.77 483.475 658.377 Q481.527 658.981 479.396 658.606 Q477.283 658.223 475.695 656.22 Q473.236 653.243 472.269 646.361 M475.819 644.719 Q476.735 651.28 477.566 653.742 Q478.49 656.394 480.104 657.174 Q481.734 657.925 483.344 657.426 Q485.079 656.889 486.34 655.155 Q487.619 653.394 487.677 650.446 Q487.783 647.524 486.909 641.32 Q486.078 635.264 485.32 632.967 Q484.357 630.307 482.67 629.641 Q480.999 628.946 479.465 629.411 Q478.89 629.586 478.295 629.944 Q477.722 630.296 476.915 631.053 Q476.109 631.81 475.595 633.235 Q475.103 634.653 475.039 636.585 Q475.028 639.056 475.819 644.719 Z\" fill=\"#000000\" fill-rule=\"nonzero\" fill-opacity=\"1\" /><path clip-path=\"url(#clip371)\" d=\"M498.421 652.031 Q497.675 651.537 497.552 650.63 Q497.429 649.724 497.993 648.868 Q498.554 647.991 499.543 647.686 Q500.489 647.394 501.205 647.832 Q501.939 648.242 502.075 649.254 Q502.208 650.244 501.603 651.111 Q501.015 651.951 500.154 652.218 Q499.166 652.524 498.421 652.031 Z\" fill=\"#000000\" fill-rule=\"nonzero\" fill-opacity=\"1\" /><path clip-path=\"url(#clip371)\" d=\"M505.991 636.024 Q505.142 629.649 506.278 625.682 Q507.821 619.82 513.075 618.228 Q514.187 617.891 515.383 617.86 Q516.595 617.802 518.214 618.525 Q519.851 619.24 520.998 620.874 Q523.187 624.035 524.022 630.497 Q524.837 636.794 523.7 640.708 Q522.04 646.419 516.939 648 Q515.02 648.595 512.928 648.216 Q510.853 647.83 509.304 645.834 Q506.902 642.868 505.991 636.024 M509.489 634.402 Q510.353 640.927 511.156 643.377 Q512.05 646.015 513.632 646.795 Q515.23 647.547 516.815 647.056 Q518.524 646.526 519.773 644.807 Q521.04 643.06 521.113 640.129 Q521.234 637.225 520.41 631.056 Q519.626 625.033 518.894 622.747 Q517.962 620.101 516.307 619.434 Q514.669 618.739 513.158 619.197 Q512.592 619.369 512.005 619.723 Q511.439 620.072 510.643 620.821 Q509.846 621.571 509.333 622.986 Q508.841 624.394 508.768 626.315 Q508.743 628.771 509.489 634.402 Z\" fill=\"#000000\" fill-rule=\"nonzero\" fill-opacity=\"1\" /><path clip-path=\"url(#clip371)\" d=\"M527.775 636.282 L527.605 634.958 L538.084 610.696 Q538.349 610.067 538.871 609.931 Q539.348 609.786 539.475 609.945 Q539.603 610.104 539.696 610.845 L542.162 630.477 L546.389 629.176 L546.553 630.496 L542.328 631.798 L542.797 635.528 Q542.952 636.763 543.496 637.007 Q544.061 637.245 546.243 636.57 L547.127 636.296 L547.291 637.613 Q545.548 638.023 541.553 639.261 Q537.571 640.494 535.851 641.158 L535.683 639.838 L536.572 639.563 Q538.762 638.886 539.23 638.349 Q539.696 637.792 539.537 636.535 L539.066 632.803 L527.775 636.282 M528.809 634.587 L539.147 631.405 L537.115 615.315 L528.809 634.587 Z\" fill=\"#000000\" fill-rule=\"nonzero\" fill-opacity=\"1\" /><polyline clip-path=\"url(#clip371)\" style=\"stroke:#000000; stroke-linecap:round; stroke-linejoin:round; stroke-width:3.6; stroke-opacity:1; fill:none\" points=\"636.339,1151.14 636.339,1151.14 620.658,1158.01 636.339,1151.14 629.134,1090.6 621.186,1093.96 629.134,1090.6 621.727,1028.36 605.546,1034.95 621.727,1028.36 614.107,964.336 605.902,967.551 614.107,964.336 606.267,898.459 589.555,904.735 606.267,898.459 598.196,830.643 589.717,833.686 598.196,830.643 589.884,760.803 572.604,766.71 589.884,760.803 581.32,688.846 572.549,691.69 581.32,688.846 572.493,614.674 554.607,620.153 572.493,614.674 563.39,538.185 554.306,540.799 563.39,538.185 553.997,459.266 \"/>\n",
       "<path clip-path=\"url(#clip371)\" d=\"M646.219 1253.4 Q642.864 1250.28 642.468 1247.93 Q641.748 1244.49 646.429 1242.33 Q647.42 1241.88 648.615 1241.56 Q649.817 1241.22 651.735 1241.18 Q653.673 1241.13 655.478 1241.69 Q658.949 1242.77 662.373 1245.92 Q665.729 1249.01 666.143 1251.35 Q666.747 1254.79 662.152 1256.94 Q660.424 1257.74 658.128 1258.07 Q655.85 1258.4 653.47 1257.74 Q649.843 1256.78 646.219 1253.4 M649.135 1251.66 Q652.593 1254.87 654.386 1255.96 Q656.349 1257.13 658.28 1257.14 Q660.218 1257.13 661.645 1256.47 Q663.184 1255.75 663.772 1254.52 Q664.367 1253.27 663.263 1251.71 Q662.221 1250.15 658.917 1247.13 Q655.731 1244.19 654.086 1243.19 Q652.1 1242.06 650.165 1242.13 Q648.238 1242.19 646.891 1242.81 Q646.386 1243.05 645.932 1243.38 Q645.497 1243.7 644.985 1244.29 Q644.472 1244.88 644.505 1245.75 Q644.558 1246.6 645.233 1247.62 Q646.168 1248.91 649.135 1251.66 Z\" fill=\"#000000\" fill-rule=\"nonzero\" fill-opacity=\"1\" /><path clip-path=\"url(#clip371)\" d=\"M674.727 1249.86 Q673.776 1249.78 673.291 1249.34 Q672.806 1248.89 673.034 1248.3 Q673.251 1247.7 674.127 1247.3 Q674.965 1246.91 675.862 1246.96 Q676.766 1246.99 677.308 1247.48 Q677.839 1247.97 677.575 1248.58 Q677.318 1249.16 676.554 1249.52 Q675.678 1249.93 674.727 1249.86 Z\" fill=\"#000000\" fill-rule=\"nonzero\" fill-opacity=\"1\" /><path clip-path=\"url(#clip371)\" d=\"M683.774 1246.16 Q683.355 1245.77 683.286 1245.64 Q683.236 1245.49 683.341 1245.17 L685.673 1237.29 Q686.914 1232.99 684.54 1230.84 Q683.002 1229.45 680.576 1229.07 Q678.17 1228.68 675.754 1229.8 Q674.093 1230.56 673.303 1231.77 Q672.513 1232.98 672.962 1234.27 Q673.051 1234.2 673.44 1234.02 Q674.383 1233.59 675.259 1233.67 Q676.154 1233.75 676.637 1234.19 Q677.254 1234.75 676.891 1235.33 Q676.535 1235.9 675.887 1236.2 Q675.628 1236.32 675.242 1236.45 Q674.875 1236.57 674.024 1236.54 Q673.161 1236.49 672.59 1235.97 Q670.989 1234.51 671.713 1232.43 Q672.454 1230.34 675.518 1228.93 Q678.983 1227.33 682.502 1227.42 Q686.028 1227.49 687.983 1229.25 Q688.669 1229.87 688.95 1230.6 Q689.238 1231.31 689.262 1231.96 Q689.305 1232.6 688.866 1233.87 Q688.427 1235.14 688.002 1236.09 Q687.577 1237.04 686.552 1239.13 L684.918 1243.16 L691.749 1239.98 Q695.073 1238.44 695.15 1238.15 Q695.19 1237.69 693.918 1235.91 L694.876 1235.46 L697.844 1239.6 L683.774 1246.16 Z\" fill=\"#000000\" fill-rule=\"nonzero\" fill-opacity=\"1\" /><path clip-path=\"url(#clip371)\" d=\"M728.938 1331.63 Q725.31 1328.25 724.794 1325.7 Q723.894 1321.99 728.668 1319.65 Q729.678 1319.16 730.906 1318.81 Q732.141 1318.45 734.135 1318.4 Q736.147 1318.35 738.048 1318.95 Q741.706 1320.12 745.407 1323.53 Q749.035 1326.87 749.569 1329.41 Q750.351 1333.13 745.667 1335.45 Q743.906 1336.32 741.532 1336.68 Q739.176 1337.03 736.671 1336.31 Q732.856 1335.28 728.938 1331.63 M731.894 1329.74 Q735.632 1333.22 737.545 1334.4 Q739.64 1335.66 741.648 1335.67 Q743.664 1335.66 745.119 1334.94 Q746.688 1334.16 747.245 1332.83 Q747.807 1331.49 746.59 1329.79 Q745.437 1328.11 741.867 1324.84 Q738.423 1321.66 736.668 1320.58 Q734.552 1319.35 732.544 1319.44 Q730.542 1319.5 729.169 1320.17 Q728.654 1320.42 728.197 1320.78 Q727.759 1321.13 727.252 1321.77 Q726.745 1322.41 726.818 1323.35 Q726.91 1324.27 727.657 1325.37 Q728.686 1326.76 731.894 1329.74 Z\" fill=\"#000000\" fill-rule=\"nonzero\" fill-opacity=\"1\" /><path clip-path=\"url(#clip371)\" d=\"M758.431 1327.79 Q757.438 1327.71 756.914 1327.23 Q756.389 1326.75 756.6 1326.11 Q756.799 1325.46 757.692 1325.02 Q758.546 1324.6 759.481 1324.65 Q760.423 1324.69 761.009 1325.22 Q761.583 1325.75 761.336 1326.4 Q761.095 1327.04 760.316 1327.42 Q759.423 1327.87 758.431 1327.79 Z\" fill=\"#000000\" fill-rule=\"nonzero\" fill-opacity=\"1\" /><path clip-path=\"url(#clip371)\" d=\"M762.693 1320.44 L761.926 1319.74 L762.116 1303.33 Q762.114 1302.91 762.595 1302.7 Q763.027 1302.49 763.229 1302.54 Q763.432 1302.59 763.855 1302.97 L775.182 1313.21 L779.031 1311.31 L779.801 1312.01 L775.951 1313.9 L778.129 1315.87 Q778.852 1316.53 779.537 1316.51 Q780.24 1316.49 782.232 1315.51 L783.039 1315.11 L783.813 1315.8 Q782.161 1316.52 778.512 1318.32 Q774.875 1320.12 773.363 1320.97 L772.592 1320.27 L773.403 1319.87 Q775.402 1318.88 775.652 1318.45 Q775.891 1318.01 775.156 1317.34 L772.979 1315.37 L762.693 1320.44 M763.023 1319.2 L772.436 1314.56 L763.147 1306.15 L763.023 1319.2 Z\" fill=\"#000000\" fill-rule=\"nonzero\" fill-opacity=\"1\" /><path clip-path=\"url(#clip371)\" d=\"M820.017 1415.63 Q816.081 1411.97 815.425 1409.2 Q814.315 1405.17 819.176 1402.65 Q820.205 1402.11 821.467 1401.74 Q822.736 1401.34 824.809 1401.29 Q826.902 1401.24 828.91 1401.89 Q832.773 1403.15 836.787 1406.85 Q840.722 1410.47 841.398 1413.22 Q842.389 1417.26 837.619 1419.77 Q835.826 1420.72 833.37 1421.11 Q830.934 1421.49 828.291 1420.71 Q824.268 1419.59 820.017 1415.63 M823.007 1413.59 Q827.063 1417.35 829.111 1418.63 Q831.352 1420 833.444 1420.01 Q835.543 1420 837.025 1419.22 Q838.622 1418.38 839.139 1416.94 Q839.662 1415.48 838.314 1413.64 Q837.034 1411.81 833.162 1408.27 Q829.427 1404.83 827.549 1403.65 Q825.289 1402.32 823.202 1402.41 Q821.12 1402.48 819.723 1403.21 Q819.198 1403.48 818.739 1403.87 Q818.299 1404.25 817.801 1404.94 Q817.303 1405.64 817.422 1406.65 Q817.561 1407.65 818.391 1408.85 Q819.528 1410.36 823.007 1413.59 Z\" fill=\"#000000\" fill-rule=\"nonzero\" fill-opacity=\"1\" /><path clip-path=\"url(#clip371)\" d=\"M850.549 1411.47 Q849.512 1411.38 848.943 1410.86 Q848.374 1410.34 848.564 1409.65 Q848.74 1408.94 849.649 1408.47 Q850.519 1408.01 851.495 1408.07 Q852.477 1408.1 853.113 1408.68 Q853.736 1409.25 853.509 1409.97 Q853.288 1410.66 852.495 1411.07 Q851.586 1411.55 850.549 1411.47 Z\" fill=\"#000000\" fill-rule=\"nonzero\" fill-opacity=\"1\" /><path clip-path=\"url(#clip371)\" d=\"M851.12 1399.49 Q846.885 1395.63 847.451 1391.64 Q848.001 1387.65 852.036 1385.55 Q854.385 1384.32 856.507 1384.39 Q858.636 1384.44 859.897 1385.58 Q860.593 1386.21 860.304 1386.79 Q860.015 1387.37 859.405 1387.69 Q858.698 1388.06 857.816 1388.05 Q856.933 1388.04 856.342 1387.51 Q855.135 1386.42 857.292 1385.29 Q855.205 1384.85 852.78 1386.11 Q852.035 1386.5 851.428 1387.04 Q850.807 1387.57 850.309 1388.54 Q849.812 1389.51 849.832 1390.62 Q849.852 1391.74 850.799 1393.36 Q851.746 1394.99 853.681 1396.75 L854.327 1397.34 Q853.266 1394.07 856.575 1392.36 Q859.865 1390.64 863.866 1391.01 Q867.867 1391.38 870.435 1393.69 Q873.074 1396.07 872.458 1398.9 Q871.84 1401.74 868.504 1403.5 Q867.006 1404.29 865.204 1404.61 Q863.433 1404.93 861.182 1404.7 Q858.95 1404.47 856.319 1403.15 Q853.692 1401.84 851.12 1399.49 M857.162 1399.81 Q859.82 1402.22 861.803 1403.01 Q862.131 1403.14 862.672 1403.27 Q863.233 1403.4 864.06 1403.51 Q864.893 1403.61 865.894 1403.44 Q866.882 1403.26 867.746 1402.81 Q870.373 1401.43 869.869 1399.16 Q869.557 1397.92 866.893 1395.51 Q864.181 1393.07 862.484 1392.54 Q859.605 1391.66 857.155 1392.94 Q855.508 1393.8 855.135 1395.11 Q854.78 1396.4 855.38 1397.58 Q856 1398.75 857.162 1399.81 Z\" fill=\"#000000\" fill-rule=\"nonzero\" fill-opacity=\"1\" /><path clip-path=\"url(#clip371)\" d=\"M918.391 1507.22 Q914.107 1503.23 913.288 1500.22 Q911.935 1495.84 916.883 1493.08 Q917.93 1492.5 919.229 1492.09 Q920.532 1491.66 922.693 1491.61 Q924.873 1491.55 926.999 1492.26 Q931.091 1493.64 935.458 1497.66 Q939.741 1501.6 940.581 1504.6 Q941.813 1508.99 936.96 1511.73 Q935.134 1512.76 932.591 1513.18 Q930.067 1513.6 927.271 1512.75 Q923.019 1511.53 918.391 1507.22 M921.412 1504.99 Q925.827 1509.09 928.026 1510.48 Q930.431 1511.98 932.615 1511.99 Q934.804 1511.98 936.312 1511.13 Q937.937 1510.21 938.406 1508.64 Q938.88 1507.05 937.384 1505.05 Q935.959 1503.06 931.746 1499.21 Q927.682 1495.46 925.665 1494.18 Q923.243 1492.73 921.071 1492.83 Q918.903 1492.9 917.48 1493.7 Q916.946 1493.99 916.486 1494.42 Q916.046 1494.83 915.56 1495.58 Q915.074 1496.34 915.248 1497.44 Q915.442 1498.53 916.365 1499.83 Q917.624 1501.47 921.412 1504.99 Z\" fill=\"#000000\" fill-rule=\"nonzero\" fill-opacity=\"1\" /><path clip-path=\"url(#clip371)\" d=\"M950.042 1502.68 Q948.956 1502.59 948.337 1502.02 Q947.718 1501.46 947.882 1500.7 Q948.031 1499.94 948.955 1499.42 Q949.84 1498.92 950.861 1498.98 Q951.888 1499.02 952.58 1499.66 Q953.257 1500.28 953.056 1501.05 Q952.86 1501.8 952.053 1502.26 Q951.128 1502.78 950.042 1502.68 Z\" fill=\"#000000\" fill-rule=\"nonzero\" fill-opacity=\"1\" /><path clip-path=\"url(#clip371)\" d=\"M954.902 1494.08 Q951.611 1491.08 955.253 1485.92 Q951.541 1486.18 950.734 1486.11 Q947.545 1485.79 945.76 1484.17 Q943.721 1482.31 944.419 1479.85 Q945.122 1477.38 948.12 1475.71 Q950.977 1474.12 954.343 1474.01 Q957.709 1473.91 959.638 1475.65 Q962.357 1478.1 959.374 1482.45 Q964.027 1481.99 965.402 1482.13 Q968.941 1482.48 970.973 1484.31 Q973.34 1486.44 972.525 1489.29 Q971.693 1492.14 968.3 1494.05 Q964.979 1495.93 961.064 1496.03 Q957.149 1496.13 954.902 1494.08 M956.899 1492.96 Q958.728 1494.62 961.813 1494.69 Q964.917 1494.75 967.514 1493.29 Q970.03 1491.87 970.83 1489.85 Q971.647 1487.82 970.059 1486.38 Q969.438 1485.82 968.613 1485.51 Q967.808 1485.18 966.826 1485.12 Q965.85 1485.03 965.312 1485.06 Q964.78 1485.06 963.807 1485.12 L956.614 1485.81 Q953.836 1490.17 956.899 1492.96 M946.376 1482.15 Q947.775 1483.42 950.756 1483.18 L958.053 1482.54 Q960.295 1478.79 957.891 1476.62 Q956.334 1475.22 953.696 1475.19 Q951.043 1475.14 948.807 1476.39 Q946.607 1477.61 945.844 1479.29 Q945.065 1480.95 946.376 1482.15 Z\" fill=\"#000000\" fill-rule=\"nonzero\" fill-opacity=\"1\" /><path clip-path=\"url(#clip371)\" d=\"M1019.64 1598.51 L1018.65 1597.59 Q1023.6 1594.63 1024.13 1591.22 Q1024.83 1590.8 1025.08 1590.85 Q1025.32 1590.89 1025.9 1591.42 L1043.8 1607.98 Q1044.76 1608.86 1045.66 1608.77 Q1046.57 1608.68 1049.2 1607.09 L1050.51 1606.3 L1051.5 1607.21 Q1049.96 1608 1044.72 1611.17 Q1039.48 1614.35 1038.14 1615.31 L1037.15 1614.39 L1038.46 1613.59 Q1041.07 1612.01 1041.41 1611.37 Q1041.74 1610.72 1040.76 1609.82 L1024.22 1594.49 Q1022.9 1596.56 1019.64 1598.51 Z\" fill=\"#000000\" fill-rule=\"nonzero\" fill-opacity=\"1\" /><path clip-path=\"url(#clip371)\" d=\"M1058.42 1602.23 Q1057.28 1602.13 1056.6 1601.5 Q1055.92 1600.88 1056.06 1600.06 Q1056.17 1599.23 1057.11 1598.66 Q1058.01 1598.11 1059.08 1598.18 Q1060.16 1598.23 1060.91 1598.92 Q1061.65 1599.59 1061.48 1600.44 Q1061.31 1601.26 1060.5 1601.76 Q1059.56 1602.33 1058.42 1602.23 Z\" fill=\"#000000\" fill-rule=\"nonzero\" fill-opacity=\"1\" /><path clip-path=\"url(#clip371)\" d=\"M1057.51 1587.95 Q1052.8 1583.67 1051.76 1580.43 Q1050.07 1575.73 1055.02 1572.77 Q1056.07 1572.14 1057.38 1571.7 Q1058.71 1571.24 1060.94 1571.19 Q1063.2 1571.12 1065.45 1571.88 Q1069.78 1573.36 1074.57 1577.68 Q1079.27 1581.91 1080.34 1585.14 Q1081.9 1589.86 1077.05 1592.8 Q1075.23 1593.91 1072.62 1594.36 Q1070.03 1594.81 1067.07 1593.9 Q1062.59 1592.58 1057.51 1587.95 M1060.49 1585.56 Q1065.34 1589.97 1067.71 1591.46 Q1070.3 1593.07 1072.56 1593.08 Q1074.83 1593.07 1076.34 1592.15 Q1077.97 1591.17 1078.35 1589.48 Q1078.73 1587.77 1077.05 1585.63 Q1075.45 1583.49 1070.83 1579.34 Q1066.37 1575.32 1064.19 1573.95 Q1061.59 1572.39 1059.34 1572.5 Q1057.1 1572.58 1055.68 1573.43 Q1055.14 1573.74 1054.69 1574.2 Q1054.27 1574.64 1053.81 1575.45 Q1053.36 1576.26 1053.61 1577.45 Q1053.88 1578.62 1054.92 1580.02 Q1056.34 1581.78 1060.49 1585.56 Z\" fill=\"#000000\" fill-rule=\"nonzero\" fill-opacity=\"1\" /><polyline clip-path=\"url(#clip371)\" style=\"stroke:#000000; stroke-linecap:round; stroke-linejoin:round; stroke-width:3.6; stroke-opacity:1; fill:none\" points=\"636.339,1151.14 636.339,1151.14 620.658,1158.01 636.339,1151.14 674.941,1185.35 667.043,1188.9 674.941,1185.35 714.999,1220.84 699.027,1228.24 714.999,1220.84 756.597,1257.71 748.555,1261.54 756.597,1257.71 799.827,1296.01 783.567,1304.01 799.827,1296.01 844.785,1335.85 836.6,1340 844.785,1335.85 891.578,1377.32 875.035,1385.98 891.578,1377.32 940.32,1420.51 931.997,1425.02 940.32,1420.51 991.136,1465.54 974.319,1474.96 991.136,1465.54 1044.16,1512.53 1035.71,1517.44 1044.16,1512.53 1099.54,1561.61 1082.47,1571.88 1099.54,1561.61 \"/>\n",
       "<path clip-path=\"url(#clip371)\" d=\"M1254.75 1498.06 Q1260.19 1494.74 1264.38 1493.93 Q1270.5 1492.64 1274.57 1495.92 Q1275.44 1496.61 1276.07 1497.5 Q1276.73 1498.39 1276.88 1499.92 Q1277.06 1501.47 1276.14 1503.04 Q1274.34 1506.05 1268.8 1509.46 Q1263.37 1512.81 1259.16 1513.62 Q1253 1514.8 1249.01 1511.53 Q1247.51 1510.31 1246.84 1508.53 Q1246.19 1506.77 1247.29 1504.74 Q1248.87 1501.64 1254.75 1498.06 M1257.96 1500.02 Q1252.36 1503.45 1250.48 1505.1 Q1248.46 1506.92 1248.51 1508.46 Q1248.59 1510.02 1249.83 1511.03 Q1251.17 1512.12 1253.39 1512.35 Q1255.64 1512.57 1258.41 1511.37 Q1261.17 1510.21 1266.47 1506.93 Q1271.63 1503.76 1273.36 1502.23 Q1275.32 1500.4 1275.09 1498.86 Q1274.91 1497.33 1273.73 1496.39 Q1273.29 1496.03 1272.67 1495.74 Q1272.07 1495.46 1270.99 1495.17 Q1269.91 1494.89 1268.36 1495.1 Q1266.83 1495.32 1265.03 1496.07 Q1262.77 1497.08 1257.96 1500.02 Z\" fill=\"#000000\" fill-rule=\"nonzero\" fill-opacity=\"1\" /><path clip-path=\"url(#clip371)\" d=\"M1262.19 1520.28 Q1262.28 1519.49 1263.07 1519 Q1263.85 1518.52 1264.93 1518.59 Q1266.02 1518.64 1266.79 1519.27 Q1267.53 1519.88 1267.48 1520.62 Q1267.46 1521.36 1266.58 1521.9 Q1265.73 1522.43 1264.62 1522.34 Q1263.54 1522.25 1262.87 1521.7 Q1262.1 1521.07 1262.19 1520.28 Z\" fill=\"#000000\" fill-rule=\"nonzero\" fill-opacity=\"1\" /><path clip-path=\"url(#clip371)\" d=\"M1269.26 1526.93 Q1269.94 1526.51 1270.19 1526.42 Q1270.46 1526.35 1271.03 1526.38 L1285.53 1526.72 Q1293.5 1526.88 1297.33 1524.49 Q1299.81 1522.94 1300.38 1520.87 Q1300.96 1518.81 1298.78 1517.06 Q1297.29 1515.85 1295.04 1515.45 Q1292.78 1515.05 1290.43 1515.68 Q1290.57 1515.74 1290.92 1516.02 Q1291.76 1516.71 1291.65 1517.44 Q1291.55 1518.19 1290.77 1518.67 Q1289.77 1519.29 1288.69 1519.11 Q1287.64 1518.94 1287.06 1518.47 Q1286.83 1518.28 1286.57 1517.99 Q1286.32 1517.72 1286.35 1517.01 Q1286.39 1516.3 1287.32 1515.73 Q1289.9 1514.12 1293.75 1514.29 Q1297.61 1514.46 1300.37 1516.69 Q1303.5 1519.2 1303.53 1522.12 Q1303.6 1525.05 1300.45 1527.02 Q1299.34 1527.71 1298.01 1528.09 Q1296.71 1528.47 1295.51 1528.62 Q1294.33 1528.78 1291.98 1528.67 Q1289.62 1528.56 1287.85 1528.4 Q1286.08 1528.24 1282.2 1527.81 L1274.76 1527.27 L1280.88 1532.27 Q1283.88 1534.72 1284.4 1534.72 Q1285.27 1534.67 1288.48 1533.26 L1289.34 1533.97 L1281.87 1537.24 L1269.26 1526.93 Z\" fill=\"#000000\" fill-rule=\"nonzero\" fill-opacity=\"1\" /><path clip-path=\"url(#clip371)\" d=\"M1380.56 1421.32 Q1385.63 1418.23 1389.63 1417.48 Q1395.47 1416.27 1399.58 1419.33 Q1400.45 1419.98 1401.11 1420.8 Q1401.8 1421.63 1402.03 1423.06 Q1402.28 1424.5 1401.48 1425.96 Q1399.91 1428.77 1394.75 1431.94 Q1389.7 1435.05 1385.68 1435.81 Q1379.81 1436.91 1375.77 1433.87 Q1374.26 1432.73 1373.51 1431.08 Q1372.79 1429.44 1373.74 1427.54 Q1375.09 1424.66 1380.56 1421.32 M1383.77 1423.15 Q1378.55 1426.34 1376.83 1427.88 Q1374.99 1429.57 1375.12 1431.01 Q1375.29 1432.46 1376.54 1433.4 Q1377.89 1434.42 1380.04 1434.63 Q1382.23 1434.84 1384.83 1433.71 Q1387.43 1432.63 1392.36 1429.58 Q1397.17 1426.63 1398.75 1425.21 Q1400.54 1423.5 1400.24 1422.07 Q1399.98 1420.65 1398.79 1419.76 Q1398.35 1419.43 1397.74 1419.16 Q1397.14 1418.9 1396.08 1418.64 Q1395.02 1418.37 1393.54 1418.56 Q1392.07 1418.77 1390.38 1419.47 Q1388.25 1420.41 1383.77 1423.15 Z\" fill=\"#000000\" fill-rule=\"nonzero\" fill-opacity=\"1\" /><path clip-path=\"url(#clip371)\" d=\"M1388.97 1442.01 Q1389.02 1441.27 1389.75 1440.82 Q1390.48 1440.37 1391.52 1440.43 Q1392.58 1440.49 1393.36 1441.07 Q1394.1 1441.63 1394.09 1442.32 Q1394.12 1443.02 1393.3 1443.52 Q1392.5 1444.01 1391.43 1443.93 Q1390.39 1443.84 1389.71 1443.33 Q1388.93 1442.74 1388.97 1442.01 Z\" fill=\"#000000\" fill-rule=\"nonzero\" fill-opacity=\"1\" /><path clip-path=\"url(#clip371)\" d=\"M1401.15 1444.07 L1402.22 1443.41 L1428.95 1441.19 Q1429.64 1441.13 1430.04 1441.45 Q1430.43 1441.74 1430.36 1441.9 Q1430.3 1442.05 1429.71 1442.42 L1413.99 1452.24 L1417.44 1454.83 L1416.37 1455.5 L1412.92 1452.91 L1409.9 1454.8 Q1408.89 1455.43 1408.98 1455.93 Q1409.07 1456.45 1410.86 1457.79 L1411.58 1458.34 L1410.51 1459.01 Q1409.2 1457.88 1405.94 1455.42 Q1402.7 1452.98 1401.19 1451.99 L1402.26 1451.32 L1402.98 1451.86 Q1404.76 1453.2 1405.48 1453.32 Q1406.22 1453.44 1407.24 1452.8 L1410.26 1450.92 L1401.15 1444.07 M1403.18 1444.14 L1411.53 1450.4 L1424.43 1442.36 L1403.18 1444.14 Z\" fill=\"#000000\" fill-rule=\"nonzero\" fill-opacity=\"1\" /><path clip-path=\"url(#clip371)\" d=\"M1497.88 1349.77 Q1502.61 1346.88 1506.44 1346.18 Q1512.01 1345.06 1516.14 1347.91 Q1517.02 1348.51 1517.7 1349.29 Q1518.41 1350.06 1518.71 1351.39 Q1519.03 1352.74 1518.33 1354.1 Q1516.97 1356.72 1512.15 1359.68 Q1507.44 1362.59 1503.6 1363.29 Q1497.98 1364.32 1493.92 1361.48 Q1492.4 1360.42 1491.59 1358.87 Q1490.8 1357.35 1491.61 1355.57 Q1492.77 1352.89 1497.88 1349.77 M1501.08 1351.48 Q1496.2 1354.45 1494.62 1355.9 Q1492.93 1357.47 1493.14 1358.82 Q1493.38 1360.16 1494.63 1361.04 Q1495.99 1361.99 1498.09 1362.19 Q1500.21 1362.38 1502.66 1361.34 Q1505.12 1360.33 1509.72 1357.48 Q1514.2 1354.73 1515.66 1353.4 Q1517.3 1351.81 1516.93 1350.47 Q1516.6 1349.14 1515.41 1348.32 Q1514.96 1348.01 1514.35 1347.75 Q1513.77 1347.51 1512.73 1347.26 Q1511.69 1347.01 1510.27 1347.2 Q1508.86 1347.39 1507.27 1348.04 Q1505.26 1348.92 1501.08 1351.48 Z\" fill=\"#000000\" fill-rule=\"nonzero\" fill-opacity=\"1\" /><path clip-path=\"url(#clip371)\" d=\"M1507.11 1369.07 Q1507.11 1368.39 1507.79 1367.97 Q1508.47 1367.55 1509.48 1367.61 Q1510.51 1367.66 1511.29 1368.2 Q1512.04 1368.73 1512.07 1369.37 Q1512.13 1370.02 1511.37 1370.49 Q1510.62 1370.95 1509.58 1370.87 Q1508.57 1370.79 1507.89 1370.31 Q1507.1 1369.76 1507.11 1369.07 Z\" fill=\"#000000\" fill-rule=\"nonzero\" fill-opacity=\"1\" /><path clip-path=\"url(#clip371)\" d=\"M1524.34 1368.31 Q1529.41 1365.17 1535.26 1365.16 Q1541.12 1365.13 1544.68 1367.58 Q1546.76 1369.02 1546.92 1370.43 Q1547.12 1371.84 1545.61 1372.78 Q1544.78 1373.31 1543.89 1373.17 Q1543.01 1373.03 1542.47 1372.66 Q1541.84 1372.22 1541.74 1371.64 Q1541.65 1371.06 1542.35 1370.61 Q1543.8 1369.71 1545.71 1371.03 Q1546.1 1369.61 1543.95 1368.13 Q1543.29 1367.68 1542.43 1367.33 Q1541.58 1366.97 1540.11 1366.73 Q1538.64 1366.5 1537.02 1366.62 Q1535.41 1366.74 1533.16 1367.52 Q1530.91 1368.3 1528.6 1369.74 L1527.83 1370.22 Q1532.44 1369.21 1535.32 1371.23 Q1538.22 1373.24 1538.17 1375.92 Q1538.12 1378.61 1535.06 1380.53 Q1531.91 1382.5 1527.72 1382.34 Q1523.53 1382.19 1520.59 1380.14 Q1519.28 1379.22 1518.61 1378.05 Q1517.94 1376.92 1518 1375.41 Q1518.08 1373.92 1519.68 1372.07 Q1521.27 1370.22 1524.34 1368.31 M1524.6 1372.31 Q1521.42 1374.29 1520.52 1375.67 Q1520.37 1375.89 1520.24 1376.26 Q1520.13 1376.64 1520.05 1377.2 Q1520.01 1377.76 1520.37 1378.41 Q1520.74 1379.04 1521.5 1379.57 Q1523.81 1381.19 1527.03 1380.65 Q1528.8 1380.33 1531.98 1378.34 Q1535.21 1376.32 1535.77 1375.15 Q1536.7 1373.16 1534.54 1371.66 Q1533.1 1370.66 1531.16 1370.54 Q1529.23 1370.43 1527.6 1370.93 Q1525.99 1371.45 1524.6 1372.31 Z\" fill=\"#000000\" fill-rule=\"nonzero\" fill-opacity=\"1\" /><path clip-path=\"url(#clip371)\" d=\"M1607.53 1282.9 Q1611.95 1280.2 1615.62 1279.54 Q1620.95 1278.48 1625.1 1281.15 Q1625.98 1281.72 1626.67 1282.44 Q1627.4 1283.17 1627.76 1284.41 Q1628.14 1285.67 1627.53 1286.94 Q1626.35 1289.4 1621.84 1292.17 Q1617.43 1294.89 1613.75 1295.55 Q1608.38 1296.51 1604.3 1293.85 Q1602.78 1292.86 1601.91 1291.41 Q1601.07 1289.98 1601.77 1288.33 Q1602.74 1285.81 1607.53 1282.9 M1610.71 1284.49 Q1606.15 1287.28 1604.7 1288.63 Q1603.14 1290.1 1603.41 1291.36 Q1603.71 1292.62 1604.97 1293.44 Q1606.33 1294.33 1608.37 1294.51 Q1610.44 1294.7 1612.75 1293.72 Q1615.07 1292.78 1619.38 1290.11 Q1623.57 1287.53 1624.91 1286.29 Q1626.41 1284.8 1625.99 1283.55 Q1625.6 1282.31 1624.41 1281.54 Q1623.96 1281.25 1623.36 1281.01 Q1622.78 1280.78 1621.76 1280.55 Q1620.74 1280.32 1619.38 1280.49 Q1618.03 1280.67 1616.52 1281.28 Q1614.62 1282.1 1610.71 1284.49 Z\" fill=\"#000000\" fill-rule=\"nonzero\" fill-opacity=\"1\" /><path clip-path=\"url(#clip371)\" d=\"M1617.45 1300.95 Q1617.42 1300.31 1618.06 1299.92 Q1618.69 1299.53 1619.67 1299.58 Q1620.66 1299.63 1621.45 1300.14 Q1622.2 1300.63 1622.26 1301.23 Q1622.35 1301.83 1621.64 1302.27 Q1620.95 1302.71 1619.93 1302.63 Q1618.95 1302.55 1618.27 1302.11 Q1617.48 1301.59 1617.45 1300.95 Z\" fill=\"#000000\" fill-rule=\"nonzero\" fill-opacity=\"1\" /><path clip-path=\"url(#clip371)\" d=\"M1629.09 1303.34 Q1632.47 1301.24 1639.62 1303.1 Q1638.75 1300.93 1638.73 1300.45 Q1638.68 1298.56 1640.52 1297.42 Q1642.62 1296.11 1645.89 1296.38 Q1649.19 1296.66 1651.8 1298.33 Q1654.28 1299.93 1654.92 1301.92 Q1655.55 1303.91 1653.57 1305.15 Q1650.78 1306.9 1644.69 1305.36 Q1645.97 1308.09 1645.99 1308.92 Q1646.05 1311.04 1643.97 1312.35 Q1641.54 1313.87 1637.73 1313.52 Q1633.94 1313.17 1630.99 1311.25 Q1628.12 1309.38 1627.45 1307.07 Q1626.78 1304.77 1629.09 1303.34 M1630.8 1304.45 Q1628.92 1305.62 1629.27 1307.44 Q1629.63 1309.28 1631.87 1310.75 Q1634.05 1312.17 1636.78 1312.54 Q1639.52 1312.93 1641.15 1311.91 Q1641.78 1311.51 1642.07 1311 Q1642.38 1310.51 1642.32 1309.92 Q1642.29 1309.34 1642.18 1309.02 Q1642.09 1308.7 1641.88 1308.13 L1639.96 1303.9 Q1633.95 1302.5 1630.8 1304.45 M1643.21 1297.67 Q1641.77 1298.56 1642.51 1300.3 L1644.39 1304.58 Q1649.58 1305.71 1652.05 1304.17 Q1653.65 1303.17 1653.3 1301.6 Q1652.96 1300.03 1651.01 1298.77 Q1649.11 1297.55 1646.83 1297.19 Q1644.56 1296.83 1643.21 1297.67 Z\" fill=\"#000000\" fill-rule=\"nonzero\" fill-opacity=\"1\" /><path clip-path=\"url(#clip371)\" d=\"M1717.32 1215.93 L1718.2 1215.4 Q1722.27 1217.86 1726.18 1218.03 Q1726.76 1218.38 1726.75 1218.51 Q1726.74 1218.64 1726.23 1218.95 L1710.37 1228.66 Q1709.53 1229.18 1709.76 1229.65 Q1710 1230.11 1712.18 1231.44 L1713.26 1232.1 L1712.38 1232.64 Q1711.27 1231.86 1706.94 1229.22 Q1702.63 1226.59 1701.37 1225.92 L1702.25 1225.39 L1703.32 1226.04 Q1705.46 1227.35 1706.22 1227.51 Q1707 1227.66 1707.86 1227.14 L1722.52 1218.17 Q1720 1217.56 1717.32 1215.93 Z\" fill=\"#000000\" fill-rule=\"nonzero\" fill-opacity=\"1\" /><path clip-path=\"url(#clip371)\" d=\"M1719.04 1236.14 Q1718.98 1235.54 1719.57 1235.17 Q1720.17 1234.81 1721.12 1234.86 Q1722.08 1234.9 1722.87 1235.38 Q1723.62 1235.84 1723.71 1236.4 Q1723.83 1236.97 1723.16 1237.38 Q1722.51 1237.78 1721.52 1237.71 Q1720.57 1237.64 1719.89 1237.22 Q1719.1 1236.74 1719.04 1236.14 Z\" fill=\"#000000\" fill-rule=\"nonzero\" fill-opacity=\"1\" /><path clip-path=\"url(#clip371)\" d=\"M1735.1 1235.35 Q1739.25 1232.77 1742.79 1232.15 Q1747.93 1231.14 1752.14 1233.69 Q1753.04 1234.22 1753.76 1234.91 Q1754.52 1235.6 1754.95 1236.79 Q1755.39 1237.99 1754.88 1239.2 Q1753.88 1241.54 1749.66 1244.18 Q1745.52 1246.76 1741.97 1247.39 Q1736.79 1248.31 1732.65 1245.78 Q1731.09 1244.83 1730.16 1243.46 Q1729.25 1242.1 1729.82 1240.52 Q1730.62 1238.12 1735.1 1235.35 M1738.31 1236.87 Q1734.03 1239.52 1732.7 1240.8 Q1731.28 1242.21 1731.62 1243.4 Q1731.99 1244.61 1733.27 1245.39 Q1734.66 1246.24 1736.65 1246.41 Q1738.68 1246.58 1740.88 1245.65 Q1743.09 1244.75 1747.12 1242.21 Q1751.05 1239.76 1752.28 1238.58 Q1753.66 1237.16 1753.17 1235.97 Q1752.71 1234.78 1751.49 1234.05 Q1751.03 1233.77 1750.44 1233.55 Q1749.85 1233.33 1748.85 1233.11 Q1747.84 1232.89 1746.52 1233.05 Q1745.21 1233.22 1743.77 1233.8 Q1741.98 1234.59 1738.31 1236.87 Z\" fill=\"#000000\" fill-rule=\"nonzero\" fill-opacity=\"1\" /><polyline clip-path=\"url(#clip371)\" style=\"stroke:#000000; stroke-linecap:round; stroke-linejoin:round; stroke-width:3.6; stroke-opacity:1; fill:none\" points=\"1099.54,1561.61 1099.54,1561.61 1113.37,1573.86 1099.54,1561.61 1168.23,1520.28 1175.18,1526.17 1168.23,1520.28 1234.45,1480.44 1248.48,1491.83 1234.45,1480.44 1298.33,1442.01 1305.37,1447.49 1298.33,1442.01 1360,1404.91 1374.17,1415.52 1360,1404.91 1419.56,1369.08 1426.65,1374.19 1419.56,1369.08 1477.12,1334.45 1491.39,1344.35 1477.12,1334.45 1532.79,1300.96 1539.92,1305.74 1532.79,1300.96 1586.65,1268.56 1600.97,1277.83 1586.65,1268.56 1638.79,1237.19 1645.94,1241.67 1638.79,1237.19 1689.29,1206.81 1703.63,1215.5 1689.29,1206.81 \"/>\n",
       "<defs>\n",
       "  <clipPath id=\"clip372\">\n",
       "    <rect x=\"2043\" y=\"45\" width=\"73\" height=\"1621\"/>\n",
       "  </clipPath>\n",
       "</defs>\n",
       "<g clip-path=\"url(#clip372)\">\n",
       "<image width=\"72\" height=\"1620\" xlink:href=\"data:image/png;base64,\n",
       "iVBORw0KGgoAAAANSUhEUgAAAEgAAAZUCAYAAABCKUSdAAANfElEQVR4nO3cwQ3jSBAEQXLRrpz/\n",
       "Zq0VHK4F1/mkHhEWCIkCiBlKup+//70X/+vP1x/g1wkUBAoCBYGCQGHOdb7+DD/NgoJAQaAgUBAo\n",
       "zPN6im0sKAgUBAoCBYHCnMuN68aCgkBBoCBQECgIFFy5BgsKAgWBgkBBoDDP67C6saAgUBAoCBQE\n",
       "Cq5cgwUFgYJAQaAgUBAozOMxv7KgIFAQKAgUBAoOq8GCgkBBoCBQECh4cRgsKAgUBAoCBYGCQGF8\n",
       "x3VnQUGgIFAQKAgUvDgMFhQECgIFgYJAYR4PsZUFBYGCQEGgIFAQKLhyDRYUBAoCBYGCQGGe6/76\n",
       "M/w0CwoCBYGCQEGgMMeV68qCgkBBoCBQECgIFBxWgwUFgYJAQaAgUPAUCxYUBAoCBYGCQGHO6ym2\n",
       "saAgUBAoCBQECgIFh9VgQUGgIFAQKAgU5tFopU4QKAgUBAoCBVeuwYKCQEGgIFAQKAgUXLkGCwoC\n",
       "BYGCQEGgMM+r0UadIFAQKAgUBApzNFqpEwQKAgWBgkBBoODKNVhQECgIFAQKAgVXrkGdIFAQKAgU\n",
       "BApznMVWFhQECgIFgYJAQaDgJ5lBnSBQECgIFAQKrlyDOkGgIFAQKAgUfMs1qBMECgIFgYJAQaAw\n",
       "j/8PWllQECgIFAQKAgUvDoM6QaAgUBAoCBTmeHG4UicIFAQKAgWBgkDBYTWoEwQKAgWBgkDBi8Ng\n",
       "QUGgIFAQKAgUfMs1qBMECgIFgYJAQaDgJ5lBnSBQECgIFAQK/gUvWFAQKAgUBAoCBWexoE4QKAgU\n",
       "BAoCBYGCb7kGdYJAQaAgUBAozPEt15UFBYGCQEGgIFBwFgvqBIGCQEGgIFAQKPj/oKBOECgIFAQK\n",
       "AoV5fMt1ZUFBoCBQECgIFJzFgjpBoCBQECgIFAQKDqvBgoJAQaAgUBAoOKwGdYJAQaAgUBAo+GOB\n",
       "oE4QKAgUBAoCBYGCf8ELFhQECgIFgYJAwWE1qBMECgIFgYJAwd/jBAsKAgWBgkBBoCBQ8P9BQZ0g\n",
       "UBAoCBQECg6rwYKCQEGgIFAQKMzRaKVOECgIFAQKAgWBwjwOqysLCgIFgYJAQaDgyjVYUBAoCBQE\n",
       "CgIFf48T1AkCBYGCQEGgIFDwX67BgoJAQaAgUBAouHINFhQECgIFgYJAwZVrUCcIFAQKAgWBgkDB\n",
       "f7kGCwoCBYGCQEGg4LcawYKCQEGgIFAQKLhyDeoEgYJAQaAgUPD1l2BBQaAgUBAoCBQECl4cBgsK\n",
       "AgWBgkBBoOCwGiwoCBQECgIFgYIXh0GdIFAQKAgUBAoCBYfVYEFBoCBQECgIFLw4DBYUBAoCBYGC\n",
       "QMFZLFhQECgIFAQKAgWBgsd8sKAgUBAoCBQECp5iwYKCQEGgIFAQKHiKBQsKAgWBgkBBoCBQ8P2g\n",
       "YEFBoCBQECgIFBxWgwUFgYJAQaAgUPAUCxYUBAoCBYGCQEGg4DEfLCgIFAQKAgWBgqdYsKAgUBAo\n",
       "CBQECvN6iq0sKAgUBAoCBYGCQMG3XIMFBYGCQEGgIFBw5RosKAgUBAoCBYGCK9dgQUGgIFAQKAgU\n",
       "BAoOq8GCgkBBoCBQECg4rAYLCgIFgYJAQaDgLBYsKAgUBAoCBYGCQGHe9+uP8NssKAgUBAoCBYGC\n",
       "32oECwoCBYGCQEGg4MVhsKAgUBAoCBQECgIFb1aDBQWBgkBBoCBQ8OIwWFAQKAgUBAoCBVeuwYKC\n",
       "QEGgIFAQKAgUPOaDBQWBgkBBoCBQ8OIwWFAQKAgUBAoCBS8OgwUFgYJAQaAgUBAouHINFhQECgIF\n",
       "gYJAwVMsWFAQKAgUBAoChXHjurOgIFAQKAgUBAoCBYfVYEFBoCBQECgIFOZyWl1ZUBAoCBQECgIF\n",
       "Z7FgQUGgIFAQKAgUBAp+zBIsKAgUBAoCBYGCw2qwoCBQECgIFAQKc3mKrSwoCBQECgIFgYJAwZVr\n",
       "sKAgUBAoCBQECr7lGiwoCBQECgIFgYIXh8GCgkBBoCBQECgIFBxWgwUFgYJAQaAgUHBYDRYUBAoC\n",
       "BYGCQMFZLFhQECgIFAQKAgWBwlyXw+rGgoJAQaAgUBAoOKwGCwoCBYGCQEGg4CkWLCgIFAQKAgWB\n",
       "gkDB/wcFCwoCBYGCQEGg4O9xggUFgYJAQaAgUHDlGiwoCBQECgIFgYJAwZVrsKAgUBAoCBQECnM7\n",
       "rK4sKAgUBAoCBYGCK9dgQUGgIFAQKAgUBAquXIMFBYGCQEGgIFBwWA0WFAQKAgWBgkDBUyxYUBAo\n",
       "CBQECgIFgYLHfLCgIFAQKAgUBApeHAYLCgIFgYJAQaDgtxrBgoJAQaAgUBAoCBRcuQYLCgIFgYJA\n",
       "QaAgUBAoCBQECgIFgYIr12BBQaAgUBAoCBR8/SVYUBAoCBQECgIFgYIXh8GCgkBBoCBQECh4igUL\n",
       "CgIFgYJAQaDgxWGwoCBQECgIFAQKAgWH1WBBQaAgUBAoCBQ8xYIFBYGCQEGgIFBw5RosKAgUBAoC\n",
       "BYGCQMGPWYIFBYGCQEGgIFBw5RosKAgUBAoCBYGCK9dgQUGgIFAQKAgUBAoOq8GCgkBBoCBQECg4\n",
       "rAYLCgIFgYJAQaDgLBYsKAgUBAoCBYGCQMFjPlhQECgIFAQKAgVXrsGCgkBBoCBQECgIFAQKAgWB\n",
       "gkBBoCBQcOUaLCgIFAQKAgWBgivXYEFBoCBQECgIFJzFggUFgYJAQaAgUBAoeMwHCwoCBYGCQEGg\n",
       "4Mo1WFAQKAgUBAoCBWexYEFBoCBQECgIFAQKDqvBgoJAQaAgUBAoOKwGCwoCBYGCQEGg4CkWLCgI\n",
       "FAQKAgWBgkDBlWuwoCBQECgIFAQKDqvBgoJAQaAgUBAoeIoFCwoCBYGCQEGgIFBw5RosKAgUBAoC\n",
       "BYGCw2qwoCBQECgIFAQKzmLBgoJAQaAgUBAoCBQcVoMFBYGCQEGgIFDwFAsWFAQKAgWBgkBh7q8/\n",
       "wY+zoCBQECgIFAQKAgWH1WBBQaAgUBAoCBR8PyhYUBAoCBQECgIFZ7FgQUGgIFAQKAgUBAoe88GC\n",
       "gkBBoCBQECi4cg0WFAQKAgWBgkDBWSxYUBAoCBQECgIFgYLDarCgIFAQKAgUBAoOq8GCgkBBoCBQ\n",
       "ECg4iwULCgIFgYJAQaAgUHBYDRYUBAoCBYGCQMFTLFhQECgIFAQKAgVXrsGCgkBBoCBQECgIFBxW\n",
       "gwUFgYJAQaAgUJj79RjbWFAQKAgUBAoCBWexYEFBoCBQECgIFAQK3qwGCwoCBYGCQEGg4LAaLCgI\n",
       "FAQKAgWBgrNYsKAgUBAoCBQECgIFh9VgQUGgIFAQKAgUHFaDBQWBgkBBoCBQcBYLFhQECgIFgYJA\n",
       "QaDgsBosKAgUBAoCBYHCXP5YYGVBQaAgUBAoCBScxYIFBYGCQEGgIFAQKHizGiwoCBQECgIFgcLc\n",
       "5+uP8NssKAgUBAoCBYGCs1iwoCBQECgIFAQKAgVvVoMFBYGCQEGgIFDwLddgQUGgIFAQKAgUnMWC\n",
       "BQWBgkBBoCBQ8OIwWFAQKAgUBAoCBYGCw2qwoCBQECgIFAQKXhwGCwoCBYGCQEGg4CwWLCgIFAQK\n",
       "AgWBgkDBm9VgQUGgIFAQKAgUHFaDBQWBgkBBoCBQmOt4jG0sKAgUBAoCBYGCQMGVa7CgIFAQKAgU\n",
       "BAquXIMFBYGCQEGgIFDwW41gQUGgIFAQKAgUBAoOq8GCgkBBoCBQECh4cRgsKAgUBAoCBYHC3K5c\n",
       "VxYUBAoCBYGCQEGgMNf5+iP8NgsKAgWBgkBBoOCwGiwoCBQECgIFgYIXh8GCgkBBoCBQECgIFPyY\n",
       "JVhQECgIFAQKAgW/1QgWFAQKAgWBgkDBWSxYUBAoCBQECgIFgcLcvuW6sqAgUBAoCBQECg6rwYKC\n",
       "QEGgIFAQKPiWa7CgIFAQKAgUBAoCBT/JDBYUBAoCBYGCQMGVa7CgIFAQKAgUBAr+5C1YUBAoCBQE\n",
       "CgIFgYIr12BBQaAgUBAoCBRcuQYLCgIFgYJAQaDgKRYsKAgUBAoCBYGCQMGb1WBBQaAgUBAoCBS8\n",
       "OAwWFAQKAgWBgkDBlWuwoCBQECgIFAQKAgWP+WBBQaAgUBAoCBQ8xYIFBYGCQEGgIFDw9ZdgQUGg\n",
       "IFAQKAgUBAq+HxQsKAgUBAoCBYGCK9dgQUGgIFAQKAgU5jqeYhsLCgIFgYJAQaAgUHBYDRYUBAoC\n",
       "BYGCQMFTLFhQECgIFAQKAgVPsWBBQaAgUBAoCBQECt6sBgsKAgWBgkBBoDDX6zeZGwsKAgWBgkBB\n",
       "oODKNVhQECgIFAQKAgWBgivXYEFBoCBQECgIFBxWgwUFgYJAQaAgUPAUCxYUBAoCBYGCQEGg4DEf\n",
       "LCgIFAQKAgWBwlzHt1w3FhQECgIFgYJAwVksWFAQKAgUBAoCBYGCx3ywoCBQECgIFAQKfqsRLCgI\n",
       "FAQKAgWBwrz+HmdlQUGgIFAQKAgUBAoOq8GCgkBBoCBQECh4cRgsKAgUBAoCBYGC32oECwoCBYGC\n",
       "QEGgIFBwWA0WFAQKAgWBgkBhXofVlQUFgYJAQaAgUHAWCxYUBAoCBYGCQEGg4FuuwYKCQEGgIFAQ\n",
       "KMzlJ5krCwoCBYGCQEGgMK+z2MqCgkBBoCBQECgIFBxWgwUFgYJAQaAgUHBYDRYUBAoCBYGCQMFZ\n",
       "LFhQECgIFAQKAoV/DdWNSSJqhIUAAAAASUVORK5CYII=\n",
       "\" transform=\"translate(2043, 45)\"/>\n",
       "</g>\n",
       "<path clip-path=\"url(#clip371)\" d=\"M2151 1662.46 Q2151 1655 2152.88 1650.93 Q2155.51 1644.89 2161.71 1644.89 Q2163.02 1644.89 2164.39 1645.26 Q2165.77 1645.61 2167.51 1646.97 Q2169.27 1648.33 2170.34 1650.56 Q2172.37 1654.88 2172.37 1662.46 Q2172.37 1669.87 2170.48 1673.91 Q2167.73 1679.81 2161.66 1679.81 Q2159.38 1679.81 2157.05 1678.65 Q2154.74 1677.48 2153.28 1674.68 Q2151 1670.49 2151 1662.46 M2155.21 1661.84 Q2155.21 1669.5 2155.76 1672.55 Q2156.38 1675.85 2158.06 1677.29 Q2159.78 1678.7 2161.66 1678.7 Q2163.69 1678.7 2165.38 1677.19 Q2167.09 1675.65 2167.61 1672.35 Q2168.18 1669.11 2168.15 1661.84 Q2168.15 1654.78 2167.66 1651.95 Q2166.99 1648.65 2165.2 1647.34 Q2163.44 1646 2161.66 1646 Q2160.99 1646 2160.27 1646.2 Q2159.58 1646.4 2158.56 1646.97 Q2157.54 1647.54 2156.75 1648.95 Q2155.98 1650.36 2155.61 1652.5 Q2155.21 1655.25 2155.21 1661.84 Z\" fill=\"#000000\" fill-rule=\"nonzero\" fill-opacity=\"1\" /><path clip-path=\"url(#clip371)\" d=\"M2151 1338.46 Q2151 1331 2152.88 1326.93 Q2155.51 1320.89 2161.71 1320.89 Q2163.02 1320.89 2164.39 1321.26 Q2165.77 1321.61 2167.51 1322.97 Q2169.27 1324.33 2170.34 1326.56 Q2172.37 1330.88 2172.37 1338.46 Q2172.37 1345.87 2170.48 1349.91 Q2167.73 1355.81 2161.66 1355.81 Q2159.38 1355.81 2157.05 1354.65 Q2154.74 1353.48 2153.28 1350.68 Q2151 1346.49 2151 1338.46 M2155.21 1337.84 Q2155.21 1345.5 2155.76 1348.55 Q2156.38 1351.85 2158.06 1353.29 Q2159.78 1354.7 2161.66 1354.7 Q2163.69 1354.7 2165.38 1353.19 Q2167.09 1351.65 2167.61 1348.35 Q2168.18 1345.11 2168.15 1337.84 Q2168.15 1330.78 2167.66 1327.95 Q2166.99 1324.65 2165.2 1323.34 Q2163.44 1322 2161.66 1322 Q2160.99 1322 2160.27 1322.2 Q2159.58 1322.4 2158.56 1322.97 Q2157.54 1323.54 2156.75 1324.95 Q2155.98 1326.36 2155.61 1328.5 Q2155.21 1331.25 2155.21 1337.84 Z\" fill=\"#000000\" fill-rule=\"nonzero\" fill-opacity=\"1\" /><path clip-path=\"url(#clip371)\" d=\"M2179.48 1353.88 Q2178.71 1353.06 2178.71 1352 Q2178.71 1350.93 2179.48 1350.16 Q2180.25 1349.37 2181.42 1349.37 Q2182.53 1349.37 2183.28 1350.11 Q2184.04 1350.83 2184.04 1352.02 Q2184.04 1353.19 2183.23 1353.95 Q2182.43 1354.7 2181.42 1354.7 Q2180.25 1354.7 2179.48 1353.88 Z\" fill=\"#000000\" fill-rule=\"nonzero\" fill-opacity=\"1\" /><path clip-path=\"url(#clip371)\" d=\"M2190.49 1338.46 Q2190.49 1331 2192.37 1326.93 Q2195 1320.89 2201.2 1320.89 Q2202.51 1320.89 2203.87 1321.26 Q2205.26 1321.61 2207 1322.97 Q2208.76 1324.33 2209.82 1326.56 Q2211.86 1330.88 2211.86 1338.46 Q2211.86 1345.87 2209.97 1349.91 Q2207.22 1355.81 2201.15 1355.81 Q2198.87 1355.81 2196.54 1354.65 Q2194.23 1353.48 2192.77 1350.68 Q2190.49 1346.49 2190.49 1338.46 M2194.7 1337.84 Q2194.7 1345.5 2195.25 1348.55 Q2195.87 1351.85 2197.55 1353.29 Q2199.26 1354.7 2201.15 1354.7 Q2203.18 1354.7 2204.87 1353.19 Q2206.58 1351.65 2207.1 1348.35 Q2207.67 1345.11 2207.64 1337.84 Q2207.64 1330.78 2207.15 1327.95 Q2206.48 1324.65 2204.69 1323.34 Q2202.93 1322 2201.15 1322 Q2200.48 1322 2199.76 1322.2 Q2199.07 1322.4 2198.05 1322.97 Q2197.03 1323.54 2196.24 1324.95 Q2195.47 1326.36 2195.1 1328.5 Q2194.7 1331.25 2194.7 1337.84 Z\" fill=\"#000000\" fill-rule=\"nonzero\" fill-opacity=\"1\" /><path clip-path=\"url(#clip371)\" d=\"M2218.4 1325.72 L2218.4 1324.13 Q2224.5 1324.13 2227.65 1320.89 Q2228.52 1320.89 2228.66 1321.08 Q2228.81 1321.28 2228.81 1322.2 L2228.81 1350.68 Q2228.81 1352.19 2229.56 1352.67 Q2230.3 1353.14 2233.55 1353.14 L2235.16 1353.14 L2235.16 1354.7 Q2233.37 1354.55 2226.93 1354.55 Q2220.48 1354.55 2218.72 1354.7 L2218.72 1353.14 L2220.33 1353.14 Q2223.53 1353.14 2224.3 1352.69 Q2225.07 1352.22 2225.07 1350.68 L2225.07 1324.38 Q2222.42 1325.72 2218.4 1325.72 Z\" fill=\"#000000\" fill-rule=\"nonzero\" fill-opacity=\"1\" /><path clip-path=\"url(#clip371)\" d=\"M2151 1014.46 Q2151 1007 2152.88 1002.93 Q2155.51 996.886 2161.71 996.886 Q2163.02 996.886 2164.39 997.258 Q2165.77 997.605 2167.51 998.969 Q2169.27 1000.33 2170.34 1002.56 Q2172.37 1006.88 2172.37 1014.46 Q2172.37 1021.87 2170.48 1025.91 Q2167.73 1031.81 2161.66 1031.81 Q2159.38 1031.81 2157.05 1030.65 Q2154.74 1029.48 2153.28 1026.68 Q2151 1022.49 2151 1014.46 M2155.21 1013.84 Q2155.21 1021.5 2155.76 1024.55 Q2156.38 1027.85 2158.06 1029.29 Q2159.78 1030.7 2161.66 1030.7 Q2163.69 1030.7 2165.38 1029.19 Q2167.09 1027.65 2167.61 1024.35 Q2168.18 1021.11 2168.15 1013.84 Q2168.15 1006.78 2167.66 1003.95 Q2166.99 1000.65 2165.2 999.34 Q2163.44 998.002 2161.66 998.002 Q2160.99 998.002 2160.27 998.2 Q2159.58 998.398 2158.56 998.969 Q2157.54 999.539 2156.75 1000.95 Q2155.98 1002.36 2155.61 1004.5 Q2155.21 1007.25 2155.21 1013.84 Z\" fill=\"#000000\" fill-rule=\"nonzero\" fill-opacity=\"1\" /><path clip-path=\"url(#clip371)\" d=\"M2179.48 1029.88 Q2178.71 1029.06 2178.71 1028 Q2178.71 1026.93 2179.48 1026.16 Q2180.25 1025.37 2181.42 1025.37 Q2182.53 1025.37 2183.28 1026.11 Q2184.04 1026.83 2184.04 1028.02 Q2184.04 1029.19 2183.23 1029.95 Q2182.43 1030.7 2181.42 1030.7 Q2180.25 1030.7 2179.48 1029.88 Z\" fill=\"#000000\" fill-rule=\"nonzero\" fill-opacity=\"1\" /><path clip-path=\"url(#clip371)\" d=\"M2190.49 1014.46 Q2190.49 1007 2192.37 1002.93 Q2195 996.886 2201.2 996.886 Q2202.51 996.886 2203.87 997.258 Q2205.26 997.605 2207 998.969 Q2208.76 1000.33 2209.82 1002.56 Q2211.86 1006.88 2211.86 1014.46 Q2211.86 1021.87 2209.97 1025.91 Q2207.22 1031.81 2201.15 1031.81 Q2198.87 1031.81 2196.54 1030.65 Q2194.23 1029.48 2192.77 1026.68 Q2190.49 1022.49 2190.49 1014.46 M2194.7 1013.84 Q2194.7 1021.5 2195.25 1024.55 Q2195.87 1027.85 2197.55 1029.29 Q2199.26 1030.7 2201.15 1030.7 Q2203.18 1030.7 2204.87 1029.19 Q2206.58 1027.65 2207.1 1024.35 Q2207.67 1021.11 2207.64 1013.84 Q2207.64 1006.78 2207.15 1003.95 Q2206.48 1000.65 2204.69 999.34 Q2202.93 998.002 2201.15 998.002 Q2200.48 998.002 2199.76 998.2 Q2199.07 998.398 2198.05 998.969 Q2197.03 999.539 2196.24 1000.95 Q2195.47 1002.36 2195.1 1004.5 Q2194.7 1007.25 2194.7 1013.84 Z\" fill=\"#000000\" fill-rule=\"nonzero\" fill-opacity=\"1\" /><path clip-path=\"url(#clip371)\" d=\"M2216.42 1030.7 Q2216.42 1029.78 2216.49 1029.51 Q2216.59 1029.24 2216.99 1028.81 L2226.73 1017.96 Q2232.06 1011.96 2232.06 1006.73 Q2232.06 1003.33 2230.28 1000.9 Q2228.52 998.473 2225.27 998.473 Q2223.04 998.473 2221.15 999.836 Q2219.27 1001.2 2218.4 1003.63 Q2218.55 1003.58 2219.07 1003.58 Q2220.33 1003.58 2221.03 1004.37 Q2221.75 1005.17 2221.75 1006.23 Q2221.75 1007.6 2220.86 1008.26 Q2219.99 1008.91 2219.12 1008.91 Q2218.77 1008.91 2218.3 1008.83 Q2217.86 1008.76 2217.14 1008.07 Q2216.42 1007.35 2216.42 1006.08 Q2216.42 1002.54 2219.1 999.712 Q2221.8 996.886 2225.91 996.886 Q2230.57 996.886 2233.62 999.663 Q2236.7 1002.41 2236.7 1006.73 Q2236.7 1008.24 2236.22 1009.63 Q2235.78 1010.99 2235.16 1012.06 Q2234.56 1013.12 2232.93 1014.83 Q2231.29 1016.54 2229.98 1017.76 Q2228.66 1018.97 2225.71 1021.55 L2220.33 1026.78 L2229.48 1026.78 Q2233.94 1026.78 2234.29 1026.39 Q2234.79 1025.67 2235.41 1021.87 L2236.7 1021.87 L2235.26 1030.7 L2216.42 1030.7 Z\" fill=\"#000000\" fill-rule=\"nonzero\" fill-opacity=\"1\" /><path clip-path=\"url(#clip371)\" d=\"M2151 690.462 Q2151 683 2152.88 678.935 Q2155.51 672.886 2161.71 672.886 Q2163.02 672.886 2164.39 673.258 Q2165.77 673.605 2167.51 674.969 Q2169.27 676.332 2170.34 678.563 Q2172.37 682.876 2172.37 690.462 Q2172.37 697.874 2170.48 701.914 Q2167.73 707.814 2161.66 707.814 Q2159.38 707.814 2157.05 706.649 Q2154.74 705.484 2153.28 702.683 Q2151 698.493 2151 690.462 M2155.21 689.842 Q2155.21 697.502 2155.76 700.551 Q2156.38 703.848 2158.06 705.286 Q2159.78 706.699 2161.66 706.699 Q2163.69 706.699 2165.38 705.186 Q2167.09 703.649 2167.61 700.353 Q2168.18 697.105 2168.15 689.842 Q2168.15 682.777 2167.66 679.951 Q2166.99 676.654 2165.2 675.34 Q2163.44 674.002 2161.66 674.002 Q2160.99 674.002 2160.27 674.2 Q2159.58 674.398 2158.56 674.969 Q2157.54 675.539 2156.75 676.952 Q2155.98 678.365 2155.61 680.497 Q2155.21 683.248 2155.21 689.842 Z\" fill=\"#000000\" fill-rule=\"nonzero\" fill-opacity=\"1\" /><path clip-path=\"url(#clip371)\" d=\"M2179.48 705.88 Q2178.71 705.062 2178.71 703.997 Q2178.71 702.931 2179.48 702.162 Q2180.25 701.369 2181.42 701.369 Q2182.53 701.369 2183.28 702.113 Q2184.04 702.831 2184.04 704.021 Q2184.04 705.186 2183.23 705.955 Q2182.43 706.699 2181.42 706.699 Q2180.25 706.699 2179.48 705.88 Z\" fill=\"#000000\" fill-rule=\"nonzero\" fill-opacity=\"1\" /><path clip-path=\"url(#clip371)\" d=\"M2190.49 690.462 Q2190.49 683 2192.37 678.935 Q2195 672.886 2201.2 672.886 Q2202.51 672.886 2203.87 673.258 Q2205.26 673.605 2207 674.969 Q2208.76 676.332 2209.82 678.563 Q2211.86 682.876 2211.86 690.462 Q2211.86 697.874 2209.97 701.914 Q2207.22 707.814 2201.15 707.814 Q2198.87 707.814 2196.54 706.649 Q2194.23 705.484 2192.77 702.683 Q2190.49 698.493 2190.49 690.462 M2194.7 689.842 Q2194.7 697.502 2195.25 700.551 Q2195.87 703.848 2197.55 705.286 Q2199.26 706.699 2201.15 706.699 Q2203.18 706.699 2204.87 705.186 Q2206.58 703.649 2207.1 700.353 Q2207.67 697.105 2207.64 689.842 Q2207.64 682.777 2207.15 679.951 Q2206.48 676.654 2204.69 675.34 Q2202.93 674.002 2201.15 674.002 Q2200.48 674.002 2199.76 674.2 Q2199.07 674.398 2198.05 674.969 Q2197.03 675.539 2196.24 676.952 Q2195.47 678.365 2195.1 680.497 Q2194.7 683.248 2194.7 689.842 Z\" fill=\"#000000\" fill-rule=\"nonzero\" fill-opacity=\"1\" /><path clip-path=\"url(#clip371)\" d=\"M2216.02 699.857 Q2216.02 698.345 2216.89 697.626 Q2217.76 696.907 2218.87 696.907 Q2220.04 696.907 2220.86 697.675 Q2221.7 698.419 2221.7 699.733 Q2221.7 701.146 2220.71 701.939 Q2219.74 702.732 2218.35 702.534 Q2219.57 704.567 2221.8 705.484 Q2224.05 706.401 2226.14 706.401 Q2228.32 706.401 2230.08 704.517 Q2231.86 702.633 2231.86 698.022 Q2231.86 694.106 2230.32 691.85 Q2228.81 689.594 2225.81 689.594 L2223.58 689.594 Q2222.81 689.594 2222.59 689.52 Q2222.37 689.445 2222.37 689.024 Q2222.37 688.528 2223.14 688.429 Q2223.9 688.429 2225.12 688.28 Q2228.07 688.181 2229.63 685.628 Q2231.04 683.248 2231.04 679.852 Q2231.04 676.753 2229.56 675.464 Q2228.09 674.151 2226.18 674.151 Q2224.4 674.151 2222.44 674.894 Q2220.48 675.638 2219.42 677.299 Q2222.57 677.299 2222.57 679.852 Q2222.57 680.968 2221.85 681.711 Q2221.15 682.43 2219.99 682.43 Q2218.87 682.43 2218.13 681.736 Q2217.38 681.017 2217.38 679.802 Q2217.38 676.902 2219.96 674.894 Q2222.57 672.886 2226.38 672.886 Q2230.15 672.886 2232.93 674.869 Q2235.73 676.853 2235.73 679.902 Q2235.73 682.901 2233.75 685.355 Q2231.76 687.809 2228.61 688.826 Q2232.48 689.594 2234.79 692.222 Q2237.09 694.825 2237.09 698.022 Q2237.09 701.989 2233.97 704.914 Q2230.85 707.814 2226.28 707.814 Q2222.07 707.814 2219.05 705.533 Q2216.02 703.253 2216.02 699.857 Z\" fill=\"#000000\" fill-rule=\"nonzero\" fill-opacity=\"1\" /><path clip-path=\"url(#clip371)\" d=\"M2151 366.462 Q2151 359 2152.88 354.935 Q2155.51 348.886 2161.71 348.886 Q2163.02 348.886 2164.39 349.258 Q2165.77 349.605 2167.51 350.969 Q2169.27 352.332 2170.34 354.563 Q2172.37 358.876 2172.37 366.462 Q2172.37 373.874 2170.48 377.914 Q2167.73 383.814 2161.66 383.814 Q2159.38 383.814 2157.05 382.649 Q2154.74 381.484 2153.28 378.683 Q2151 374.493 2151 366.462 M2155.21 365.842 Q2155.21 373.502 2155.76 376.551 Q2156.38 379.848 2158.06 381.286 Q2159.78 382.699 2161.66 382.699 Q2163.69 382.699 2165.38 381.186 Q2167.09 379.649 2167.61 376.353 Q2168.18 373.105 2168.15 365.842 Q2168.15 358.777 2167.66 355.951 Q2166.99 352.654 2165.2 351.34 Q2163.44 350.002 2161.66 350.002 Q2160.99 350.002 2160.27 350.2 Q2159.58 350.398 2158.56 350.969 Q2157.54 351.539 2156.75 352.952 Q2155.98 354.365 2155.61 356.497 Q2155.21 359.248 2155.21 365.842 Z\" fill=\"#000000\" fill-rule=\"nonzero\" fill-opacity=\"1\" /><path clip-path=\"url(#clip371)\" d=\"M2179.48 381.88 Q2178.71 381.062 2178.71 379.997 Q2178.71 378.931 2179.48 378.162 Q2180.25 377.369 2181.42 377.369 Q2182.53 377.369 2183.28 378.113 Q2184.04 378.831 2184.04 380.021 Q2184.04 381.186 2183.23 381.955 Q2182.43 382.699 2181.42 382.699 Q2180.25 382.699 2179.48 381.88 Z\" fill=\"#000000\" fill-rule=\"nonzero\" fill-opacity=\"1\" /><path clip-path=\"url(#clip371)\" d=\"M2190.49 366.462 Q2190.49 359 2192.37 354.935 Q2195 348.886 2201.2 348.886 Q2202.51 348.886 2203.87 349.258 Q2205.26 349.605 2207 350.969 Q2208.76 352.332 2209.82 354.563 Q2211.86 358.876 2211.86 366.462 Q2211.86 373.874 2209.97 377.914 Q2207.22 383.814 2201.15 383.814 Q2198.87 383.814 2196.54 382.649 Q2194.23 381.484 2192.77 378.683 Q2190.49 374.493 2190.49 366.462 M2194.7 365.842 Q2194.7 373.502 2195.25 376.551 Q2195.87 379.848 2197.55 381.286 Q2199.26 382.699 2201.15 382.699 Q2203.18 382.699 2204.87 381.186 Q2206.58 379.649 2207.1 376.353 Q2207.67 373.105 2207.64 365.842 Q2207.64 358.777 2207.15 355.951 Q2206.48 352.654 2204.69 351.34 Q2202.93 350.002 2201.15 350.002 Q2200.48 350.002 2199.76 350.2 Q2199.07 350.398 2198.05 350.969 Q2197.03 351.539 2196.24 352.952 Q2195.47 354.365 2195.1 356.497 Q2194.7 359.248 2194.7 365.842 Z\" fill=\"#000000\" fill-rule=\"nonzero\" fill-opacity=\"1\" /><path clip-path=\"url(#clip371)\" d=\"M2215.3 374.32 L2215.3 372.758 L2230.89 348.936 Q2231.29 348.316 2231.91 348.341 Q2232.48 348.341 2232.61 348.564 Q2232.73 348.787 2232.73 349.655 L2232.73 372.758 L2237.81 372.758 L2237.81 374.32 L2232.73 374.32 L2232.73 378.732 Q2232.73 380.195 2233.32 380.666 Q2233.94 381.137 2236.57 381.137 L2237.64 381.137 L2237.64 382.699 Q2235.56 382.55 2230.75 382.55 Q2225.96 382.55 2223.88 382.699 L2223.88 381.137 L2224.95 381.137 Q2227.57 381.137 2228.19 380.691 Q2228.81 380.22 2228.81 378.732 L2228.81 374.32 L2215.3 374.32 M2216.74 372.758 L2229.11 372.758 L2229.11 353.819 L2216.74 372.758 Z\" fill=\"#000000\" fill-rule=\"nonzero\" fill-opacity=\"1\" /><path clip-path=\"url(#clip371)\" d=\"M2151 42.4617 Q2151 35.0002 2152.88 30.9349 Q2155.51 24.8863 2161.71 24.8863 Q2163.02 24.8863 2164.39 25.2582 Q2165.77 25.6052 2167.51 26.9686 Q2169.27 28.332 2170.34 30.563 Q2172.37 34.8763 2172.37 42.4617 Q2172.37 49.8736 2170.48 53.9142 Q2167.73 59.814 2161.66 59.814 Q2159.38 59.814 2157.05 58.6489 Q2154.74 57.4839 2153.28 54.6827 Q2151 50.4934 2151 42.4617 M2155.21 41.842 Q2155.21 49.5018 2155.76 52.5508 Q2156.38 55.8478 2158.06 57.2855 Q2159.78 58.6985 2161.66 58.6985 Q2163.69 58.6985 2165.38 57.1864 Q2167.09 55.6495 2167.61 52.3525 Q2168.18 49.1052 2168.15 41.842 Q2168.15 34.7771 2167.66 31.9512 Q2166.99 28.6543 2165.2 27.3404 Q2163.44 26.0018 2161.66 26.0018 Q2160.99 26.0018 2160.27 26.2002 Q2159.58 26.3985 2158.56 26.9686 Q2157.54 27.5388 2156.75 28.9517 Q2155.98 30.3647 2155.61 32.4966 Q2155.21 35.2481 2155.21 41.842 Z\" fill=\"#000000\" fill-rule=\"nonzero\" fill-opacity=\"1\" /><path clip-path=\"url(#clip371)\" d=\"M2179.48 57.8805 Q2178.71 57.0624 2178.71 55.9965 Q2178.71 54.9306 2179.48 54.1621 Q2180.25 53.3689 2181.42 53.3689 Q2182.53 53.3689 2183.28 54.1126 Q2184.04 54.8314 2184.04 56.0213 Q2184.04 57.1864 2183.23 57.9548 Q2182.43 58.6985 2181.42 58.6985 Q2180.25 58.6985 2179.48 57.8805 Z\" fill=\"#000000\" fill-rule=\"nonzero\" fill-opacity=\"1\" /><path clip-path=\"url(#clip371)\" d=\"M2190.49 42.4617 Q2190.49 35.0002 2192.37 30.9349 Q2195 24.8863 2201.2 24.8863 Q2202.51 24.8863 2203.87 25.2582 Q2205.26 25.6052 2207 26.9686 Q2208.76 28.332 2209.82 30.563 Q2211.86 34.8763 2211.86 42.4617 Q2211.86 49.8736 2209.97 53.9142 Q2207.22 59.814 2201.15 59.814 Q2198.87 59.814 2196.54 58.6489 Q2194.23 57.4839 2192.77 54.6827 Q2190.49 50.4934 2190.49 42.4617 M2194.7 41.842 Q2194.7 49.5018 2195.25 52.5508 Q2195.87 55.8478 2197.55 57.2855 Q2199.26 58.6985 2201.15 58.6985 Q2203.18 58.6985 2204.87 57.1864 Q2206.58 55.6495 2207.1 52.3525 Q2207.67 49.1052 2207.64 41.842 Q2207.64 34.7771 2207.15 31.9512 Q2206.48 28.6543 2204.69 27.3404 Q2202.93 26.0018 2201.15 26.0018 Q2200.48 26.0018 2199.76 26.2002 Q2199.07 26.3985 2198.05 26.9686 Q2197.03 27.5388 2196.24 28.9517 Q2195.47 30.3647 2195.1 32.4966 Q2194.7 35.2481 2194.7 41.842 Z\" fill=\"#000000\" fill-rule=\"nonzero\" fill-opacity=\"1\" /><path clip-path=\"url(#clip371)\" d=\"M2216.42 50.5182 Q2216.42 49.006 2217.24 48.4359 Q2218.05 47.8409 2218.92 47.8409 Q2220.09 47.8409 2220.76 48.5846 Q2221.45 49.3035 2221.45 50.3198 Q2221.45 51.3362 2220.76 52.0799 Q2220.09 52.7987 2218.92 52.7987 Q2218.35 52.7987 2218.05 52.6996 Q2218.72 55.0297 2220.76 56.7154 Q2222.81 58.4011 2225.52 58.4011 Q2228.91 58.4011 2230.94 55.1041 Q2232.16 52.9723 2232.16 48.1384 Q2232.16 43.8747 2231.24 41.7429 Q2229.83 38.4955 2226.93 38.4955 Q2222.81 38.4955 2220.38 42.0403 Q2220.09 42.4865 2219.74 42.5113 Q2219.24 42.5113 2219.12 42.2386 Q2219.02 41.9412 2219.02 41.1727 L2219.02 26.1506 Q2219.02 24.9359 2219.52 24.9359 Q2219.72 24.9359 2220.14 25.0847 Q2223.33 26.4976 2226.88 26.5224 Q2230.52 26.5224 2233.8 25.0351 Q2234.04 24.8863 2234.19 24.8863 Q2234.69 24.8863 2234.71 25.4565 Q2234.71 25.6548 2234.29 26.2497 Q2233.89 26.8199 2233.03 27.5883 Q2232.16 28.332 2231.04 29.0509 Q2229.93 29.7698 2228.29 30.2656 Q2226.68 30.7365 2224.9 30.7365 Q2222.76 30.7365 2220.58 30.0672 L2220.58 39.958 Q2223.21 37.38 2227.03 37.38 Q2231.09 37.38 2233.89 40.6521 Q2236.7 43.9243 2236.7 48.4855 Q2236.7 53.2697 2233.37 56.5419 Q2230.08 59.814 2225.61 59.814 Q2221.55 59.814 2218.97 56.9137 Q2216.42 54.0134 2216.42 50.5182 Z\" fill=\"#000000\" fill-rule=\"nonzero\" fill-opacity=\"1\" /><polyline clip-path=\"url(#clip371)\" style=\"stroke:#000000; stroke-linecap:round; stroke-linejoin:round; stroke-width:3.6; stroke-opacity:1; fill:none\" points=\"2115,1665 2115,1665 2139,1665 2115,1665 2115,1341 2139,1341 2115,1341 2115,1017 2139,1017 2115,1017 2115,693 2139,693 2115,693 2115,369 2139,369 2115,369 2115,45 2139,45 2115,45 2115,45 \"/>\n",
       "</svg>\n"
      ],
      "text/plain": [
       "GR.SVG(UInt8[0x3c, 0x3f, 0x78, 0x6d, 0x6c, 0x20, 0x76, 0x65, 0x72, 0x73  …  0x2f, 0x3e, 0x0a, 0x3c, 0x2f, 0x73, 0x76, 0x67, 0x3e, 0x0a])"
      ]
     },
     "execution_count": 73,
     "metadata": {},
     "output_type": "execute_result"
    }
   ],
   "source": [
    "#..1/12: Finalize gmsh\n",
    "gmsh.initialize()\n",
    "\n",
    "#..2/12: Generate the mesh\n",
    "gmsh.open(\"square-2nd.msh\")\n",
    "\n",
    "#..3/12 Get and sort the mesh nodes\n",
    "#..Observe that although the mesh is two-dimensional,\n",
    "#..the z-coordinate that is equal to zero is stored as well.\n",
    "#..Observe that the coordinates are stored contiguously for computational\n",
    "#..efficiency\n",
    "node_ids, node_coord, _ = gmsh.model.mesh.getNodes()\n",
    "nnodes = length(node_ids)\n",
    "#..sort the node coordinates by ID, such that Node one sits at row 1\n",
    "tosort = [node_ids node_coord[1:3:end] node_coord[2:3:end]];\n",
    "sorted = sortslices(tosort , dims = 1);\n",
    "node_ids = sorted[:,1]\n",
    "xnode = sorted[:,2]\n",
    "ynode = sorted[:,3]\n",
    "\n",
    "#..4/12 Get the mesh elements\n",
    "#..observe that we get all the two-dimensional triangular elements from the mesh\n",
    "element_types, element_ids, element_connectivity = gmsh.model.mesh.getElements(2)\n",
    "nelements = length(element_ids[1])\n",
    "\n",
    "#..5/12 Define the source function and apply the source function to the local coordinates\n",
    "sourcefunction(x,y) = x+y\n",
    "\n",
    "#..6/12 Initialize global matrix A and global vector f\n",
    "#..observe that for simplicity we use dense matrix here\n",
    "A = zeros(nnodes,nnodes)\n",
    "M = zeros(nnodes,nnodes)\n",
    "f = zeros(nnodes,1)\n",
    "\n",
    "#..7/12 Perform a loop over the elements\n",
    "for element_id in 1:nelements\n",
    "\n",
    "  #....retrieve global numbering of the local nodes of the current element\n",
    "  node1_id = element_connectivity[1][6*(element_id-1)+1]\n",
    "  node2_id = element_connectivity[1][6*(element_id-1)+2]\n",
    "  node3_id = element_connectivity[1][6*(element_id-1)+3]\n",
    "  node4_id = element_connectivity[1][6*(element_id-1)+4]\n",
    "  node5_id = element_connectivity[1][6*(element_id-1)+5]\n",
    "  node6_id = element_connectivity[1][6*(element_id-1)+6]    \n",
    "  I = Vector{Int64}([node1_id; node2_id; node3_id; node4_id; node5_id; node6_id])\n",
    "  # display(I)\n",
    "    \n",
    "  #....retrieve the x and y coordinates of the local nodes of the current element\n",
    "  xnode1 = xnode[node1_id]; xnode2 = xnode[node2_id]; xnode3 = xnode[node3_id];\n",
    "  xnode4 = xnode[node4_id]; xnode5 = xnode[node5_id]; xnode6 = xnode[node6_id];\n",
    "  ynode1 = ynode[node1_id]; ynode2 = ynode[node2_id]; ynode3 = ynode[node3_id];\n",
    "  ynode4 = ynode[node4_id]; ynode5 = ynode[node5_id]; ynode6 = ynode[node6_id];\n",
    "  x1 = [xnode1, ynode1]; x2 = [xnode2, ynode2]; x3 = [xnode3, ynode3];  \n",
    "  x4 = [xnode4, ynode4]; x5 = [xnode5, ynode5]; x6 = [xnode6, ynode6];  \n",
    "\n",
    "  #....compute surface area of the current element\n",
    "  area_id = area_triangle(xnode1,xnode2,xnode3,ynode1,ynode2,ynode3)\n",
    "\n",
    "  #....computation of the coefficients of the basis functions \n",
    "  x = [x1, x2, x3, x4, x5, x6]\n",
    "  X = [[x1[1]^2, x1[2]^2, x1[1]*x1[2], x1[1], x1[2], 1] for x1 in x]\n",
    "  X = reduce(vcat,transpose(X))\n",
    "  Emat = X\\UniformScaling(1.)\n",
    "   \n",
    "  #....transform quadrature points to physical domain    \n",
    "  T = zeros(2,2); T[:,1] = x2 - x1; T[:,2] = x3 - x1; \n",
    "  xs = [T*xi1+x1 for xi1 in xi];\n",
    "\n",
    "  #....construct Vandermonde Matrix for evaluation of the basis functions\n",
    "  Xs = zeros(length(w),6);   \n",
    "  Xs = [[xs1[1]^2, xs1[2]^2, xs1[1]*xs1[2], xs1[1], xs1[2], 1] for xs1 in xs];\n",
    "  Xs = reduce(vcat,transpose(Xs))\n",
    "    \n",
    "  #....construct Vandermonde Matrix for evaluation of the x/y derivatives of basis functions\n",
    "  dxXs = zeros(length(w),6);\n",
    "  dxXs = [[2*xs1[1], 0 , xs1[2], 1, 0, 0] for xs1 in xs];\n",
    "  dxXs = reduce(vcat,transpose(dxXs))\n",
    "  dyXs = zeros(length(w),6);\n",
    "  dyXs = [[0, 2*xs1[2], xs1[1], 0, 1, 0] for xs1 in xs];\n",
    "  dyXs = reduce(vcat,transpose(dyXs))\n",
    "    \n",
    "  #....coonstruct column matrices of basis functions and derivatives of the basis functions   \n",
    "  Phi   = Xs*Emat; \n",
    "  dxPhi = dxXs*Emat; \n",
    "  dyPhi = dyXs*Emat; \n",
    "\n",
    "  #....compute contributions to the local mass and stiffness matrix   \n",
    "  PhiPhi = zeros(length(w),36);\n",
    "  [PhiPhi[:,(j-1)*6+i] = Phi[:,i].*Phi[:,j] for i=1:6,j=1:6];\n",
    "  dxPhidxPhi = zeros(length(w),36);\n",
    "  [dxPhidxPhi[:,(j-1)*6+i] = dxPhi[:,i].*dxPhi[:,j] for i=1:6,j=1:6];\n",
    "  dyPhidyPhi = zeros(length(w),36);\n",
    "  [dyPhidyPhi[:,(j-1)*6+i] = dyPhi[:,i].*dyPhi[:,j] for i=1:6,j=1:6];\n",
    "  dPhidPhi = dxPhidxPhi + dyPhidyPhi; \n",
    "  Mloc = 2*area_id*Transpose(w)*PhiPhi\n",
    "  Aloc = 2*area_id*Transpose(w)*dPhidPhi\n",
    "  Aloc = reshape(Aloc,6,6)  \n",
    "    \n",
    "  #....compute local vector contribution floc \n",
    "  fvaluesloc = [sourcefunction(xi[i][1],xi[i][2]) for i=1:length(xi)] \n",
    "  fvaluesloc = repeat(fvaluesloc,outer=(1,6))\n",
    "  floc = 2*area_id*Transpose(w)*(fvaluesloc.*Phi)  \n",
    "  floc = Transpose(floc)\n",
    "    \n",
    "  #....perform loop over nodes of the current element\n",
    "  #....and add local contribution Aloc to global matrix entity A\n",
    "  f[I] += floc\n",
    "  A[I,I] += Aloc\n",
    "#  M[I,I] += Mloc\n",
    "\n",
    "end\n",
    "\n",
    "#..8/12 Handle the boundary conditions\n",
    "#..retrieve boundary nodes by loop over corner point and boundary edges\n",
    "A[bnd_node_ids,:] .= 0;\n",
    "A[bnd_node_ids,bnd_node_ids] = Diagonal(ones(size(bnd_node_ids)))\n",
    "f[bnd_node_ids] .= 0;\n",
    "\n",
    "#..9/12 Make A sparse and M diagonal \n",
    "display(A[bnd_node_ids,bnd_node_ids])\n",
    "\n",
    "#..10/12 Compute the numerical solution\n",
    "u = A\\f\n",
    "\n",
    "#..10/12: Finalize gmsh\n",
    "gmsh.finalize()\n",
    "\n",
    "#..11/12 Plot the numerical solution\n",
    "GR.trisurf(xnode,ynode,u)"
   ]
  },
  {
   "cell_type": "code",
   "execution_count": null,
   "metadata": {},
   "outputs": [],
   "source": []
  },
  {
   "cell_type": "code",
   "execution_count": null,
   "metadata": {},
   "outputs": [],
   "source": []
  },
  {
   "cell_type": "code",
   "execution_count": null,
   "metadata": {},
   "outputs": [],
   "source": []
  }
 ],
 "metadata": {
  "kernelspec": {
   "display_name": "Julia 1.8.1",
   "language": "julia",
   "name": "julia-1.8"
  },
  "language_info": {
   "file_extension": ".jl",
   "mimetype": "application/julia",
   "name": "julia",
   "version": "1.8.1"
  }
 },
 "nbformat": 4,
 "nbformat_minor": 2
}
