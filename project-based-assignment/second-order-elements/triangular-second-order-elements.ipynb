{
 "cells": [
  {
   "cell_type": "markdown",
   "id": "33c8729f",
   "metadata": {},
   "source": [
    "# Triangular Lagrangian Second Order Elements \n",
    "The <b>goal</b> of this notebook is to implement second order Lagrange shape functions on triangular elements.\n",
    "\n",
    "Remark\n",
    "- the reference element for quadrature has vertices $(\\xi_1,\\eta_1) = (0,0)$, $(\\xi_2,\\eta_2) =(1,0)$ and $(\\xi_3,\\eta_3) = (0,1)$; \n",
    "\n",
    "This notebook is structured as follows: "
   ]
  },
  {
   "cell_type": "markdown",
   "id": "13cac631",
   "metadata": {},
   "source": [
    "## To do "
   ]
  },
  {
   "cell_type": "markdown",
   "id": "1ef18e07",
   "metadata": {},
   "source": [
    "1. Document analytical reference results;\n",
    "2. Documenty this notebook better; \n",
    "3. Use static arrays to define the identity matrix; \n",
    "4. Replace quadrature from [MinFEM.jl](https://github.com/MinFEM/MinFEM.jl/blob/b2640edd547c598a7d6f1779771a93372e0393a6/src/mesh.jl) by [Integrals.jl](https://github.com/SciML/Integrals.jl); \n",
    "5. improve plot of the quadrature points;  \n",
    "6. plotting the shape function over triangular elements. See e.g. [this website](https://discourse.julialang.org/t/ternary-diagrams-and-surfaces-on-non-rectangular-grids/43423) or [this website](https://lruepke.github.io/FEM_lecture/lecture4/fem_in_2d.html);  "
   ]
  },
  {
   "cell_type": "markdown",
   "id": "4f3930b5",
   "metadata": {},
   "source": [
    "## Import Packages"
   ]
  },
  {
   "cell_type": "code",
   "execution_count": 11,
   "id": "001fdf92",
   "metadata": {},
   "outputs": [],
   "source": [
    "using LinearAlgebra\n",
    "using FastGaussQuadrature\n",
    "using Plots\n",
    "using SparseArrays\n",
    "using BenchmarkTools \n",
    "using Test"
   ]
  },
  {
   "cell_type": "code",
   "execution_count": 12,
   "id": "3549b306",
   "metadata": {},
   "outputs": [
    {
     "data": {
      "text/plain": [
       "compute_weights_triangle"
      ]
     },
     "execution_count": 12,
     "metadata": {},
     "output_type": "execute_result"
    }
   ],
   "source": [
    "include(\"quadrature.jl\")"
   ]
  },
  {
   "cell_type": "markdown",
   "id": "3521dbb5",
   "metadata": {},
   "source": [
    "## Section 1:/ Introduction "
   ]
  },
  {
   "cell_type": "code",
   "execution_count": 13,
   "id": "2f197eb7",
   "metadata": {},
   "outputs": [
    {
     "data": {
      "text/plain": [
       "area_triangle (generic function with 1 method)"
      ]
     },
     "execution_count": 13,
     "metadata": {},
     "output_type": "execute_result"
    }
   ],
   "source": [
    "# from https://github.com/MinFEM/MinFEM.jl/blob/b2640edd547c598a7d6f1779771a93372e0393a6/src/mesh.jl \n",
    "function area_triangle(x1,x2,x3)\n",
    "    l3 = norm(x1-x2)\n",
    "    l2 = norm(x1-x3)\n",
    "    l1 = norm(x2-x3)\n",
    "\n",
    "    lc = 0.5 * (l1+l2+l3)\n",
    "    area = sqrt(lc*(lc-l1)*(lc-l2)*(lc-l3))\n",
    "    \n",
    "    return area\n",
    "end "
   ]
  },
  {
   "cell_type": "code",
   "execution_count": 14,
   "id": "511e44ed",
   "metadata": {},
   "outputs": [
    {
     "data": {
      "text/plain": [
       "1.9999999999999991"
      ]
     },
     "execution_count": 14,
     "metadata": {},
     "output_type": "execute_result"
    }
   ],
   "source": [
    "x1 = [0,0]; x2 = [2,0]; x3 = [0,2];\n",
    "area = area_triangle(x1,x2,x3) "
   ]
  },
  {
   "cell_type": "markdown",
   "id": "08d06d1c",
   "metadata": {},
   "source": [
    "## Section 2:/ Verification using Linear Shape Functions "
   ]
  },
  {
   "cell_type": "code",
   "execution_count": 39,
   "id": "3965b121",
   "metadata": {},
   "outputs": [
    {
     "data": {
      "text/plain": [
       "16-element Vector{Vector{Float64}}:\n",
       " [0.06943184420297371, 0.06461106321354769]\n",
       " [0.06943184420297371, 0.30709631153115907]\n",
       " [0.06943184420297371, 0.6234718442658671]\n",
       " [0.06943184420297371, 0.8659570925834785]\n",
       " [0.33000947820757187, 0.046518677526560935]\n",
       " [0.33000947820757187, 0.22110322250073802]\n",
       " [0.33000947820757187, 0.44888729929169013]\n",
       " [0.33000947820757187, 0.6234718442658671]\n",
       " [0.6699905217924281, 0.02291316667641278]\n",
       " [0.6699905217924281, 0.10890625570683385]\n",
       " [0.6699905217924281, 0.22110322250073802]\n",
       " [0.6699905217924281, 0.30709631153115907]\n",
       " [0.9305681557970262, 0.004820780989426014]\n",
       " [0.9305681557970262, 0.02291316667641278]\n",
       " [0.9305681557970262, 0.046518677526560935]\n",
       " [0.9305681557970262, 0.06461106321354769]"
      ]
     },
     "metadata": {},
     "output_type": "display_data"
    },
    {
     "data": {
      "text/plain": [
       "16-element Vector{Float64}:\n",
       " 0.02815038307692565\n",
       " 0.0527752773542295\n",
       " 0.0527752773542295\n",
       " 0.02815038307692565\n",
       " 0.03799714764795021\n",
       " 0.0712356204997401\n",
       " 0.0712356204997401\n",
       " 0.03799714764795021\n",
       " 0.018715815315012756\n",
       " 0.0350877052529335\n",
       " 0.0350877052529335\n",
       " 0.018715815315012756\n",
       " 0.0021003652444748482\n",
       " 0.003937685608733464\n",
       " 0.003937685608733464\n",
       " 0.0021003652444748482"
      ]
     },
     "metadata": {},
     "output_type": "display_data"
    }
   ],
   "source": [
    "# polynomial degree to FE approximation  \n",
    "pdegree = 1;\n",
    "# degree of numerical quadrature \n",
    "qorder = 6; \n",
    "xi = compute_coordinates_triangle(qorder)\n",
    "w  = compute_weights_triangle(qorder)\n",
    "display(xi)\n",
    "display(w)"
   ]
  },
  {
   "cell_type": "code",
   "execution_count": 40,
   "id": "5584a355",
   "metadata": {},
   "outputs": [
    {
     "data": {
      "image/svg+xml": [
       "<?xml version=\"1.0\" encoding=\"utf-8\"?>\n",
       "<svg xmlns=\"http://www.w3.org/2000/svg\" xmlns:xlink=\"http://www.w3.org/1999/xlink\" width=\"600\" height=\"400\" viewBox=\"0 0 2400 1600\">\n",
       "<defs>\n",
       "  <clipPath id=\"clip010\">\n",
       "    <rect x=\"0\" y=\"0\" width=\"2400\" height=\"1600\"/>\n",
       "  </clipPath>\n",
       "</defs>\n",
       "<path clip-path=\"url(#clip010)\" d=\"M0 1600 L2400 1600 L2400 0 L0 0  Z\" fill=\"#ffffff\" fill-rule=\"evenodd\" fill-opacity=\"1\"/>\n",
       "<defs>\n",
       "  <clipPath id=\"clip011\">\n",
       "    <rect x=\"480\" y=\"0\" width=\"1681\" height=\"1600\"/>\n",
       "  </clipPath>\n",
       "</defs>\n",
       "<path clip-path=\"url(#clip010)\" d=\"M156.598 1486.45 L2352.76 1486.45 L2352.76 47.2441 L156.598 47.2441  Z\" fill=\"#ffffff\" fill-rule=\"evenodd\" fill-opacity=\"1\"/>\n",
       "<defs>\n",
       "  <clipPath id=\"clip012\">\n",
       "    <rect x=\"156\" y=\"47\" width=\"2197\" height=\"1440\"/>\n",
       "  </clipPath>\n",
       "</defs>\n",
       "<polyline clip-path=\"url(#clip012)\" style=\"stroke:#000000; stroke-linecap:round; stroke-linejoin:round; stroke-width:2; stroke-opacity:0.1; fill:none\" points=\"532.893,1486.45 532.893,47.2441 \"/>\n",
       "<polyline clip-path=\"url(#clip012)\" style=\"stroke:#000000; stroke-linecap:round; stroke-linejoin:round; stroke-width:2; stroke-opacity:0.1; fill:none\" points=\"1014.08,1486.45 1014.08,47.2441 \"/>\n",
       "<polyline clip-path=\"url(#clip012)\" style=\"stroke:#000000; stroke-linecap:round; stroke-linejoin:round; stroke-width:2; stroke-opacity:0.1; fill:none\" points=\"1495.27,1486.45 1495.27,47.2441 \"/>\n",
       "<polyline clip-path=\"url(#clip012)\" style=\"stroke:#000000; stroke-linecap:round; stroke-linejoin:round; stroke-width:2; stroke-opacity:0.1; fill:none\" points=\"1976.46,1486.45 1976.46,47.2441 \"/>\n",
       "<polyline clip-path=\"url(#clip010)\" style=\"stroke:#000000; stroke-linecap:round; stroke-linejoin:round; stroke-width:4; stroke-opacity:1; fill:none\" points=\"156.598,1486.45 2352.76,1486.45 \"/>\n",
       "<polyline clip-path=\"url(#clip010)\" style=\"stroke:#000000; stroke-linecap:round; stroke-linejoin:round; stroke-width:4; stroke-opacity:1; fill:none\" points=\"532.893,1486.45 532.893,1467.55 \"/>\n",
       "<polyline clip-path=\"url(#clip010)\" style=\"stroke:#000000; stroke-linecap:round; stroke-linejoin:round; stroke-width:4; stroke-opacity:1; fill:none\" points=\"1014.08,1486.45 1014.08,1467.55 \"/>\n",
       "<polyline clip-path=\"url(#clip010)\" style=\"stroke:#000000; stroke-linecap:round; stroke-linejoin:round; stroke-width:4; stroke-opacity:1; fill:none\" points=\"1495.27,1486.45 1495.27,1467.55 \"/>\n",
       "<polyline clip-path=\"url(#clip010)\" style=\"stroke:#000000; stroke-linecap:round; stroke-linejoin:round; stroke-width:4; stroke-opacity:1; fill:none\" points=\"1976.46,1486.45 1976.46,1467.55 \"/>\n",
       "<path clip-path=\"url(#clip010)\" d=\"M511.076 1517.37 Q507.465 1517.37 505.637 1520.93 Q503.831 1524.47 503.831 1531.6 Q503.831 1538.71 505.637 1542.27 Q507.465 1545.82 511.076 1545.82 Q514.711 1545.82 516.516 1542.27 Q518.345 1538.71 518.345 1531.6 Q518.345 1524.47 516.516 1520.93 Q514.711 1517.37 511.076 1517.37 M511.076 1513.66 Q516.887 1513.66 519.942 1518.27 Q523.021 1522.85 523.021 1531.6 Q523.021 1540.33 519.942 1544.94 Q516.887 1549.52 511.076 1549.52 Q505.266 1549.52 502.188 1544.94 Q499.132 1540.33 499.132 1531.6 Q499.132 1522.85 502.188 1518.27 Q505.266 1513.66 511.076 1513.66 Z\" fill=\"#000000\" fill-rule=\"nonzero\" fill-opacity=\"1\" /><path clip-path=\"url(#clip010)\" d=\"M531.238 1542.97 L536.123 1542.97 L536.123 1548.85 L531.238 1548.85 L531.238 1542.97 Z\" fill=\"#000000\" fill-rule=\"nonzero\" fill-opacity=\"1\" /><path clip-path=\"url(#clip010)\" d=\"M550.336 1544.91 L566.655 1544.91 L566.655 1548.85 L544.711 1548.85 L544.711 1544.91 Q547.373 1542.16 551.956 1537.53 Q556.562 1532.88 557.743 1531.53 Q559.988 1529.01 560.868 1527.27 Q561.771 1525.51 561.771 1523.82 Q561.771 1521.07 559.826 1519.33 Q557.905 1517.6 554.803 1517.6 Q552.604 1517.6 550.15 1518.36 Q547.72 1519.13 544.942 1520.68 L544.942 1515.95 Q547.766 1514.82 550.22 1514.24 Q552.673 1513.66 554.71 1513.66 Q560.081 1513.66 563.275 1516.35 Q566.47 1519.03 566.47 1523.52 Q566.47 1525.65 565.66 1527.57 Q564.872 1529.47 562.766 1532.07 Q562.187 1532.74 559.085 1535.95 Q555.984 1539.15 550.336 1544.91 Z\" fill=\"#000000\" fill-rule=\"nonzero\" fill-opacity=\"1\" /><path clip-path=\"url(#clip010)\" d=\"M991.224 1517.37 Q987.613 1517.37 985.784 1520.93 Q983.979 1524.47 983.979 1531.6 Q983.979 1538.71 985.784 1542.27 Q987.613 1545.82 991.224 1545.82 Q994.858 1545.82 996.664 1542.27 Q998.492 1538.71 998.492 1531.6 Q998.492 1524.47 996.664 1520.93 Q994.858 1517.37 991.224 1517.37 M991.224 1513.66 Q997.034 1513.66 1000.09 1518.27 Q1003.17 1522.85 1003.17 1531.6 Q1003.17 1540.33 1000.09 1544.94 Q997.034 1549.52 991.224 1549.52 Q985.414 1549.52 982.335 1544.94 Q979.279 1540.33 979.279 1531.6 Q979.279 1522.85 982.335 1518.27 Q985.414 1513.66 991.224 1513.66 Z\" fill=\"#000000\" fill-rule=\"nonzero\" fill-opacity=\"1\" /><path clip-path=\"url(#clip010)\" d=\"M1011.39 1542.97 L1016.27 1542.97 L1016.27 1548.85 L1011.39 1548.85 L1011.39 1542.97 Z\" fill=\"#000000\" fill-rule=\"nonzero\" fill-opacity=\"1\" /><path clip-path=\"url(#clip010)\" d=\"M1039.3 1518.36 L1027.5 1536.81 L1039.3 1536.81 L1039.3 1518.36 M1038.08 1514.29 L1043.96 1514.29 L1043.96 1536.81 L1048.89 1536.81 L1048.89 1540.7 L1043.96 1540.7 L1043.96 1548.85 L1039.3 1548.85 L1039.3 1540.7 L1023.7 1540.7 L1023.7 1536.19 L1038.08 1514.29 Z\" fill=\"#000000\" fill-rule=\"nonzero\" fill-opacity=\"1\" /><path clip-path=\"url(#clip010)\" d=\"M1472.57 1517.37 Q1468.96 1517.37 1467.14 1520.93 Q1465.33 1524.47 1465.33 1531.6 Q1465.33 1538.71 1467.14 1542.27 Q1468.96 1545.82 1472.57 1545.82 Q1476.21 1545.82 1478.01 1542.27 Q1479.84 1538.71 1479.84 1531.6 Q1479.84 1524.47 1478.01 1520.93 Q1476.21 1517.37 1472.57 1517.37 M1472.57 1513.66 Q1478.39 1513.66 1481.44 1518.27 Q1484.52 1522.85 1484.52 1531.6 Q1484.52 1540.33 1481.44 1544.94 Q1478.39 1549.52 1472.57 1549.52 Q1466.76 1549.52 1463.69 1544.94 Q1460.63 1540.33 1460.63 1531.6 Q1460.63 1522.85 1463.69 1518.27 Q1466.76 1513.66 1472.57 1513.66 Z\" fill=\"#000000\" fill-rule=\"nonzero\" fill-opacity=\"1\" /><path clip-path=\"url(#clip010)\" d=\"M1492.74 1542.97 L1497.62 1542.97 L1497.62 1548.85 L1492.74 1548.85 L1492.74 1542.97 Z\" fill=\"#000000\" fill-rule=\"nonzero\" fill-opacity=\"1\" /><path clip-path=\"url(#clip010)\" d=\"M1518.38 1529.7 Q1515.24 1529.7 1513.38 1531.86 Q1511.56 1534.01 1511.56 1537.76 Q1511.56 1541.49 1513.38 1543.66 Q1515.24 1545.82 1518.38 1545.82 Q1521.53 1545.82 1523.36 1543.66 Q1525.21 1541.49 1525.21 1537.76 Q1525.21 1534.01 1523.36 1531.86 Q1521.53 1529.7 1518.38 1529.7 M1527.67 1515.05 L1527.67 1519.31 Q1525.91 1518.48 1524.1 1518.04 Q1522.32 1517.6 1520.56 1517.6 Q1515.93 1517.6 1513.48 1520.72 Q1511.05 1523.85 1510.7 1530.17 Q1512.07 1528.15 1514.13 1527.09 Q1516.19 1526 1518.66 1526 Q1523.87 1526 1526.88 1529.17 Q1529.91 1532.32 1529.91 1537.76 Q1529.91 1543.08 1526.76 1546.3 Q1523.62 1549.52 1518.38 1549.52 Q1512.39 1549.52 1509.22 1544.94 Q1506.05 1540.33 1506.05 1531.6 Q1506.05 1523.41 1509.94 1518.55 Q1513.82 1513.66 1520.38 1513.66 Q1522.13 1513.66 1523.92 1514.01 Q1525.72 1514.36 1527.67 1515.05 Z\" fill=\"#000000\" fill-rule=\"nonzero\" fill-opacity=\"1\" /><path clip-path=\"url(#clip010)\" d=\"M1953.89 1517.37 Q1950.28 1517.37 1948.45 1520.93 Q1946.65 1524.47 1946.65 1531.6 Q1946.65 1538.71 1948.45 1542.27 Q1950.28 1545.82 1953.89 1545.82 Q1957.53 1545.82 1959.33 1542.27 Q1961.16 1538.71 1961.16 1531.6 Q1961.16 1524.47 1959.33 1520.93 Q1957.53 1517.37 1953.89 1517.37 M1953.89 1513.66 Q1959.7 1513.66 1962.76 1518.27 Q1965.84 1522.85 1965.84 1531.6 Q1965.84 1540.33 1962.76 1544.94 Q1959.7 1549.52 1953.89 1549.52 Q1948.08 1549.52 1945 1544.94 Q1941.95 1540.33 1941.95 1531.6 Q1941.95 1522.85 1945 1518.27 Q1948.08 1513.66 1953.89 1513.66 Z\" fill=\"#000000\" fill-rule=\"nonzero\" fill-opacity=\"1\" /><path clip-path=\"url(#clip010)\" d=\"M1974.05 1542.97 L1978.94 1542.97 L1978.94 1548.85 L1974.05 1548.85 L1974.05 1542.97 Z\" fill=\"#000000\" fill-rule=\"nonzero\" fill-opacity=\"1\" /><path clip-path=\"url(#clip010)\" d=\"M1999.12 1532.44 Q1995.79 1532.44 1993.87 1534.22 Q1991.97 1536 1991.97 1539.13 Q1991.97 1542.25 1993.87 1544.03 Q1995.79 1545.82 1999.12 1545.82 Q2002.46 1545.82 2004.38 1544.03 Q2006.3 1542.23 2006.3 1539.13 Q2006.3 1536 2004.38 1534.22 Q2002.48 1532.44 1999.12 1532.44 M1994.45 1530.45 Q1991.44 1529.7 1989.75 1527.64 Q1988.08 1525.58 1988.08 1522.62 Q1988.08 1518.48 1991.02 1516.07 Q1993.98 1513.66 1999.12 1513.66 Q2004.28 1513.66 2007.22 1516.07 Q2010.16 1518.48 2010.16 1522.62 Q2010.16 1525.58 2008.47 1527.64 Q2006.81 1529.7 2003.82 1530.45 Q2007.2 1531.23 2009.08 1533.52 Q2010.97 1535.82 2010.97 1539.13 Q2010.97 1544.15 2007.9 1546.83 Q2004.84 1549.52 1999.12 1549.52 Q1993.41 1549.52 1990.33 1546.83 Q1987.27 1544.15 1987.27 1539.13 Q1987.27 1535.82 1989.17 1533.52 Q1991.07 1531.23 1994.45 1530.45 M1992.73 1523.06 Q1992.73 1525.75 1994.4 1527.25 Q1996.09 1528.76 1999.12 1528.76 Q2002.13 1528.76 2003.82 1527.25 Q2005.53 1525.75 2005.53 1523.06 Q2005.53 1520.38 2003.82 1518.87 Q2002.13 1517.37 1999.12 1517.37 Q1996.09 1517.37 1994.4 1518.87 Q1992.73 1520.38 1992.73 1523.06 Z\" fill=\"#000000\" fill-rule=\"nonzero\" fill-opacity=\"1\" /><polyline clip-path=\"url(#clip012)\" style=\"stroke:#000000; stroke-linecap:round; stroke-linejoin:round; stroke-width:2; stroke-opacity:0.1; fill:none\" points=\"156.598,1453.32 2352.76,1453.32 \"/>\n",
       "<polyline clip-path=\"url(#clip012)\" style=\"stroke:#000000; stroke-linecap:round; stroke-linejoin:round; stroke-width:2; stroke-opacity:0.1; fill:none\" points=\"156.598,1137.98 2352.76,1137.98 \"/>\n",
       "<polyline clip-path=\"url(#clip012)\" style=\"stroke:#000000; stroke-linecap:round; stroke-linejoin:round; stroke-width:2; stroke-opacity:0.1; fill:none\" points=\"156.598,822.643 2352.76,822.643 \"/>\n",
       "<polyline clip-path=\"url(#clip012)\" style=\"stroke:#000000; stroke-linecap:round; stroke-linejoin:round; stroke-width:2; stroke-opacity:0.1; fill:none\" points=\"156.598,507.306 2352.76,507.306 \"/>\n",
       "<polyline clip-path=\"url(#clip012)\" style=\"stroke:#000000; stroke-linecap:round; stroke-linejoin:round; stroke-width:2; stroke-opacity:0.1; fill:none\" points=\"156.598,191.97 2352.76,191.97 \"/>\n",
       "<polyline clip-path=\"url(#clip010)\" style=\"stroke:#000000; stroke-linecap:round; stroke-linejoin:round; stroke-width:4; stroke-opacity:1; fill:none\" points=\"156.598,1486.45 156.598,47.2441 \"/>\n",
       "<polyline clip-path=\"url(#clip010)\" style=\"stroke:#000000; stroke-linecap:round; stroke-linejoin:round; stroke-width:4; stroke-opacity:1; fill:none\" points=\"156.598,1453.32 175.496,1453.32 \"/>\n",
       "<polyline clip-path=\"url(#clip010)\" style=\"stroke:#000000; stroke-linecap:round; stroke-linejoin:round; stroke-width:4; stroke-opacity:1; fill:none\" points=\"156.598,1137.98 175.496,1137.98 \"/>\n",
       "<polyline clip-path=\"url(#clip010)\" style=\"stroke:#000000; stroke-linecap:round; stroke-linejoin:round; stroke-width:4; stroke-opacity:1; fill:none\" points=\"156.598,822.643 175.496,822.643 \"/>\n",
       "<polyline clip-path=\"url(#clip010)\" style=\"stroke:#000000; stroke-linecap:round; stroke-linejoin:round; stroke-width:4; stroke-opacity:1; fill:none\" points=\"156.598,507.306 175.496,507.306 \"/>\n",
       "<polyline clip-path=\"url(#clip010)\" style=\"stroke:#000000; stroke-linecap:round; stroke-linejoin:round; stroke-width:4; stroke-opacity:1; fill:none\" points=\"156.598,191.97 175.496,191.97 \"/>\n",
       "<path clip-path=\"url(#clip010)\" d=\"M63.4226 1439.12 Q59.8115 1439.12 57.9828 1442.68 Q56.1773 1446.22 56.1773 1453.35 Q56.1773 1460.46 57.9828 1464.02 Q59.8115 1467.56 63.4226 1467.56 Q67.0569 1467.56 68.8624 1464.02 Q70.6911 1460.46 70.6911 1453.35 Q70.6911 1446.22 68.8624 1442.68 Q67.0569 1439.12 63.4226 1439.12 M63.4226 1435.41 Q69.2328 1435.41 72.2883 1440.02 Q75.367 1444.6 75.367 1453.35 Q75.367 1462.08 72.2883 1466.68 Q69.2328 1471.27 63.4226 1471.27 Q57.6125 1471.27 54.5338 1466.68 Q51.4782 1462.08 51.4782 1453.35 Q51.4782 1444.6 54.5338 1440.02 Q57.6125 1435.41 63.4226 1435.41 Z\" fill=\"#000000\" fill-rule=\"nonzero\" fill-opacity=\"1\" /><path clip-path=\"url(#clip010)\" d=\"M83.5845 1464.72 L88.4688 1464.72 L88.4688 1470.6 L83.5845 1470.6 L83.5845 1464.72 Z\" fill=\"#000000\" fill-rule=\"nonzero\" fill-opacity=\"1\" /><path clip-path=\"url(#clip010)\" d=\"M108.654 1439.12 Q105.043 1439.12 103.214 1442.68 Q101.409 1446.22 101.409 1453.35 Q101.409 1460.46 103.214 1464.02 Q105.043 1467.56 108.654 1467.56 Q112.288 1467.56 114.094 1464.02 Q115.922 1460.46 115.922 1453.35 Q115.922 1446.22 114.094 1442.68 Q112.288 1439.12 108.654 1439.12 M108.654 1435.41 Q114.464 1435.41 117.52 1440.02 Q120.598 1444.6 120.598 1453.35 Q120.598 1462.08 117.52 1466.68 Q114.464 1471.27 108.654 1471.27 Q102.844 1471.27 99.765 1466.68 Q96.7095 1462.08 96.7095 1453.35 Q96.7095 1444.6 99.765 1440.02 Q102.844 1435.41 108.654 1435.41 Z\" fill=\"#000000\" fill-rule=\"nonzero\" fill-opacity=\"1\" /><path clip-path=\"url(#clip010)\" d=\"M65.0198 1123.78 Q61.4087 1123.78 59.58 1127.34 Q57.7745 1130.88 57.7745 1138.01 Q57.7745 1145.12 59.58 1148.69 Q61.4087 1152.23 65.0198 1152.23 Q68.6541 1152.23 70.4596 1148.69 Q72.2883 1145.12 72.2883 1138.01 Q72.2883 1130.88 70.4596 1127.34 Q68.6541 1123.78 65.0198 1123.78 M65.0198 1120.07 Q70.83 1120.07 73.8855 1124.68 Q76.9642 1129.26 76.9642 1138.01 Q76.9642 1146.74 73.8855 1151.35 Q70.83 1155.93 65.0198 1155.93 Q59.2097 1155.93 56.131 1151.35 Q53.0754 1146.74 53.0754 1138.01 Q53.0754 1129.26 56.131 1124.68 Q59.2097 1120.07 65.0198 1120.07 Z\" fill=\"#000000\" fill-rule=\"nonzero\" fill-opacity=\"1\" /><path clip-path=\"url(#clip010)\" d=\"M85.1818 1149.38 L90.066 1149.38 L90.066 1155.26 L85.1818 1155.26 L85.1818 1149.38 Z\" fill=\"#000000\" fill-rule=\"nonzero\" fill-opacity=\"1\" /><path clip-path=\"url(#clip010)\" d=\"M104.279 1151.32 L120.598 1151.32 L120.598 1155.26 L98.6539 1155.26 L98.6539 1151.32 Q101.316 1148.57 105.899 1143.94 Q110.506 1139.29 111.686 1137.95 Q113.932 1135.42 114.811 1133.69 Q115.714 1131.93 115.714 1130.24 Q115.714 1127.48 113.77 1125.75 Q111.848 1124.01 108.746 1124.01 Q106.547 1124.01 104.094 1124.77 Q101.663 1125.54 98.8854 1127.09 L98.8854 1122.37 Q101.709 1121.23 104.163 1120.65 Q106.617 1120.07 108.654 1120.07 Q114.024 1120.07 117.219 1122.76 Q120.413 1125.45 120.413 1129.94 Q120.413 1132.07 119.603 1133.99 Q118.816 1135.88 116.709 1138.48 Q116.131 1139.15 113.029 1142.37 Q109.927 1145.56 104.279 1151.32 Z\" fill=\"#000000\" fill-rule=\"nonzero\" fill-opacity=\"1\" /><path clip-path=\"url(#clip010)\" d=\"M62.9365 808.442 Q59.3254 808.442 57.4967 812.007 Q55.6912 815.548 55.6912 822.678 Q55.6912 829.784 57.4967 833.349 Q59.3254 836.891 62.9365 836.891 Q66.5707 836.891 68.3763 833.349 Q70.205 829.784 70.205 822.678 Q70.205 815.548 68.3763 812.007 Q66.5707 808.442 62.9365 808.442 M62.9365 804.738 Q68.7467 804.738 71.8022 809.345 Q74.8809 813.928 74.8809 822.678 Q74.8809 831.405 71.8022 836.011 Q68.7467 840.594 62.9365 840.594 Q57.1264 840.594 54.0477 836.011 Q50.9921 831.405 50.9921 822.678 Q50.9921 813.928 54.0477 809.345 Q57.1264 804.738 62.9365 804.738 Z\" fill=\"#000000\" fill-rule=\"nonzero\" fill-opacity=\"1\" /><path clip-path=\"url(#clip010)\" d=\"M83.0984 834.044 L87.9827 834.044 L87.9827 839.923 L83.0984 839.923 L83.0984 834.044 Z\" fill=\"#000000\" fill-rule=\"nonzero\" fill-opacity=\"1\" /><path clip-path=\"url(#clip010)\" d=\"M111.015 809.437 L99.2095 827.886 L111.015 827.886 L111.015 809.437 M109.788 805.363 L115.668 805.363 L115.668 827.886 L120.598 827.886 L120.598 831.775 L115.668 831.775 L115.668 839.923 L111.015 839.923 L111.015 831.775 L95.4132 831.775 L95.4132 827.261 L109.788 805.363 Z\" fill=\"#000000\" fill-rule=\"nonzero\" fill-opacity=\"1\" /><path clip-path=\"url(#clip010)\" d=\"M63.2606 493.105 Q59.6495 493.105 57.8208 496.67 Q56.0152 500.212 56.0152 507.341 Q56.0152 514.448 57.8208 518.012 Q59.6495 521.554 63.2606 521.554 Q66.8948 521.554 68.7004 518.012 Q70.5291 514.448 70.5291 507.341 Q70.5291 500.212 68.7004 496.67 Q66.8948 493.105 63.2606 493.105 M63.2606 489.401 Q69.0707 489.401 72.1263 494.008 Q75.205 498.591 75.205 507.341 Q75.205 516.068 72.1263 520.674 Q69.0707 525.258 63.2606 525.258 Q57.4504 525.258 54.3717 520.674 Q51.3162 516.068 51.3162 507.341 Q51.3162 498.591 54.3717 494.008 Q57.4504 489.401 63.2606 489.401 Z\" fill=\"#000000\" fill-rule=\"nonzero\" fill-opacity=\"1\" /><path clip-path=\"url(#clip010)\" d=\"M83.4225 518.707 L88.3067 518.707 L88.3067 524.586 L83.4225 524.586 L83.4225 518.707 Z\" fill=\"#000000\" fill-rule=\"nonzero\" fill-opacity=\"1\" /><path clip-path=\"url(#clip010)\" d=\"M109.071 505.443 Q105.922 505.443 104.071 507.596 Q102.242 509.749 102.242 513.499 Q102.242 517.225 104.071 519.401 Q105.922 521.554 109.071 521.554 Q112.219 521.554 114.047 519.401 Q115.899 517.225 115.899 513.499 Q115.899 509.749 114.047 507.596 Q112.219 505.443 109.071 505.443 M118.353 490.79 L118.353 495.05 Q116.594 494.216 114.788 493.776 Q113.006 493.337 111.246 493.337 Q106.617 493.337 104.163 496.462 Q101.733 499.587 101.385 505.906 Q102.751 503.892 104.811 502.827 Q106.871 501.739 109.348 501.739 Q114.557 501.739 117.566 504.911 Q120.598 508.059 120.598 513.499 Q120.598 518.823 117.45 522.04 Q114.302 525.258 109.071 525.258 Q103.075 525.258 99.9039 520.674 Q96.7326 516.068 96.7326 507.341 Q96.7326 499.147 100.621 494.286 Q104.51 489.401 111.061 489.401 Q112.82 489.401 114.603 489.749 Q116.408 490.096 118.353 490.79 Z\" fill=\"#000000\" fill-rule=\"nonzero\" fill-opacity=\"1\" /><path clip-path=\"url(#clip010)\" d=\"M63.5152 177.768 Q59.9041 177.768 58.0754 181.333 Q56.2699 184.875 56.2699 192.004 Q56.2699 199.111 58.0754 202.676 Q59.9041 206.217 63.5152 206.217 Q67.1494 206.217 68.955 202.676 Q70.7837 199.111 70.7837 192.004 Q70.7837 184.875 68.955 181.333 Q67.1494 177.768 63.5152 177.768 M63.5152 174.065 Q69.3254 174.065 72.3809 178.671 Q75.4596 183.255 75.4596 192.004 Q75.4596 200.731 72.3809 205.338 Q69.3254 209.921 63.5152 209.921 Q57.7051 209.921 54.6264 205.338 Q51.5708 200.731 51.5708 192.004 Q51.5708 183.255 54.6264 178.671 Q57.7051 174.065 63.5152 174.065 Z\" fill=\"#000000\" fill-rule=\"nonzero\" fill-opacity=\"1\" /><path clip-path=\"url(#clip010)\" d=\"M83.6771 203.37 L88.5614 203.37 L88.5614 209.25 L83.6771 209.25 L83.6771 203.37 Z\" fill=\"#000000\" fill-rule=\"nonzero\" fill-opacity=\"1\" /><path clip-path=\"url(#clip010)\" d=\"M108.746 192.838 Q105.413 192.838 103.492 194.62 Q101.594 196.403 101.594 199.528 Q101.594 202.653 103.492 204.435 Q105.413 206.217 108.746 206.217 Q112.08 206.217 114.001 204.435 Q115.922 202.629 115.922 199.528 Q115.922 196.403 114.001 194.62 Q112.103 192.838 108.746 192.838 M104.071 190.847 Q101.061 190.106 99.3715 188.046 Q97.7048 185.986 97.7048 183.023 Q97.7048 178.88 100.645 176.472 Q103.608 174.065 108.746 174.065 Q113.908 174.065 116.848 176.472 Q119.788 178.88 119.788 183.023 Q119.788 185.986 118.098 188.046 Q116.432 190.106 113.445 190.847 Q116.825 191.634 118.7 193.926 Q120.598 196.217 120.598 199.528 Q120.598 204.551 117.52 207.236 Q114.464 209.921 108.746 209.921 Q103.029 209.921 99.9502 207.236 Q96.8947 204.551 96.8947 199.528 Q96.8947 196.217 98.7928 193.926 Q100.691 191.634 104.071 190.847 M102.358 183.463 Q102.358 186.148 104.024 187.653 Q105.714 189.157 108.746 189.157 Q111.756 189.157 113.445 187.653 Q115.158 186.148 115.158 183.463 Q115.158 180.778 113.445 179.273 Q111.756 177.768 108.746 177.768 Q105.714 177.768 104.024 179.273 Q102.358 180.778 102.358 183.463 Z\" fill=\"#000000\" fill-rule=\"nonzero\" fill-opacity=\"1\" /><polyline clip-path=\"url(#clip012)\" style=\"stroke:#009af9; stroke-linecap:round; stroke-linejoin:round; stroke-width:4; stroke-opacity:1; fill:none\" points=\"218.754,1351.45 218.754,969.123 218.754,470.299 218.754,87.9763 845.689,1379.97 845.689,1104.71 845.689,745.563 845.689,470.299 1663.66,1417.19 1663.66,1281.61 1663.66,1104.71 1663.66,969.123 2290.6,1445.72 2290.6,1417.19 2290.6,1379.97 2290.6,1351.45 \"/>\n",
       "<circle clip-path=\"url(#clip012)\" cx=\"218.754\" cy=\"1351.45\" r=\"7.2\" fill=\"#009af9\" fill-rule=\"evenodd\" fill-opacity=\"1\" stroke=\"#000000\" stroke-opacity=\"1\" stroke-width=\"3.2\"/>\n",
       "<circle clip-path=\"url(#clip012)\" cx=\"218.754\" cy=\"969.123\" r=\"7.2\" fill=\"#009af9\" fill-rule=\"evenodd\" fill-opacity=\"1\" stroke=\"#000000\" stroke-opacity=\"1\" stroke-width=\"3.2\"/>\n",
       "<circle clip-path=\"url(#clip012)\" cx=\"218.754\" cy=\"470.299\" r=\"7.2\" fill=\"#009af9\" fill-rule=\"evenodd\" fill-opacity=\"1\" stroke=\"#000000\" stroke-opacity=\"1\" stroke-width=\"3.2\"/>\n",
       "<circle clip-path=\"url(#clip012)\" cx=\"218.754\" cy=\"87.9763\" r=\"7.2\" fill=\"#009af9\" fill-rule=\"evenodd\" fill-opacity=\"1\" stroke=\"#000000\" stroke-opacity=\"1\" stroke-width=\"3.2\"/>\n",
       "<circle clip-path=\"url(#clip012)\" cx=\"845.689\" cy=\"1379.97\" r=\"7.2\" fill=\"#009af9\" fill-rule=\"evenodd\" fill-opacity=\"1\" stroke=\"#000000\" stroke-opacity=\"1\" stroke-width=\"3.2\"/>\n",
       "<circle clip-path=\"url(#clip012)\" cx=\"845.689\" cy=\"1104.71\" r=\"7.2\" fill=\"#009af9\" fill-rule=\"evenodd\" fill-opacity=\"1\" stroke=\"#000000\" stroke-opacity=\"1\" stroke-width=\"3.2\"/>\n",
       "<circle clip-path=\"url(#clip012)\" cx=\"845.689\" cy=\"745.563\" r=\"7.2\" fill=\"#009af9\" fill-rule=\"evenodd\" fill-opacity=\"1\" stroke=\"#000000\" stroke-opacity=\"1\" stroke-width=\"3.2\"/>\n",
       "<circle clip-path=\"url(#clip012)\" cx=\"845.689\" cy=\"470.299\" r=\"7.2\" fill=\"#009af9\" fill-rule=\"evenodd\" fill-opacity=\"1\" stroke=\"#000000\" stroke-opacity=\"1\" stroke-width=\"3.2\"/>\n",
       "<circle clip-path=\"url(#clip012)\" cx=\"1663.66\" cy=\"1417.19\" r=\"7.2\" fill=\"#009af9\" fill-rule=\"evenodd\" fill-opacity=\"1\" stroke=\"#000000\" stroke-opacity=\"1\" stroke-width=\"3.2\"/>\n",
       "<circle clip-path=\"url(#clip012)\" cx=\"1663.66\" cy=\"1281.61\" r=\"7.2\" fill=\"#009af9\" fill-rule=\"evenodd\" fill-opacity=\"1\" stroke=\"#000000\" stroke-opacity=\"1\" stroke-width=\"3.2\"/>\n",
       "<circle clip-path=\"url(#clip012)\" cx=\"1663.66\" cy=\"1104.71\" r=\"7.2\" fill=\"#009af9\" fill-rule=\"evenodd\" fill-opacity=\"1\" stroke=\"#000000\" stroke-opacity=\"1\" stroke-width=\"3.2\"/>\n",
       "<circle clip-path=\"url(#clip012)\" cx=\"1663.66\" cy=\"969.123\" r=\"7.2\" fill=\"#009af9\" fill-rule=\"evenodd\" fill-opacity=\"1\" stroke=\"#000000\" stroke-opacity=\"1\" stroke-width=\"3.2\"/>\n",
       "<circle clip-path=\"url(#clip012)\" cx=\"2290.6\" cy=\"1445.72\" r=\"7.2\" fill=\"#009af9\" fill-rule=\"evenodd\" fill-opacity=\"1\" stroke=\"#000000\" stroke-opacity=\"1\" stroke-width=\"3.2\"/>\n",
       "<circle clip-path=\"url(#clip012)\" cx=\"2290.6\" cy=\"1417.19\" r=\"7.2\" fill=\"#009af9\" fill-rule=\"evenodd\" fill-opacity=\"1\" stroke=\"#000000\" stroke-opacity=\"1\" stroke-width=\"3.2\"/>\n",
       "<circle clip-path=\"url(#clip012)\" cx=\"2290.6\" cy=\"1379.97\" r=\"7.2\" fill=\"#009af9\" fill-rule=\"evenodd\" fill-opacity=\"1\" stroke=\"#000000\" stroke-opacity=\"1\" stroke-width=\"3.2\"/>\n",
       "<circle clip-path=\"url(#clip012)\" cx=\"2290.6\" cy=\"1351.45\" r=\"7.2\" fill=\"#009af9\" fill-rule=\"evenodd\" fill-opacity=\"1\" stroke=\"#000000\" stroke-opacity=\"1\" stroke-width=\"3.2\"/>\n",
       "<path clip-path=\"url(#clip010)\" d=\"M2007.5 198.898 L2279.55 198.898 L2279.55 95.2176 L2007.5 95.2176  Z\" fill=\"#ffffff\" fill-rule=\"evenodd\" fill-opacity=\"1\"/>\n",
       "<polyline clip-path=\"url(#clip010)\" style=\"stroke:#000000; stroke-linecap:round; stroke-linejoin:round; stroke-width:4; stroke-opacity:1; fill:none\" points=\"2007.5,198.898 2279.55,198.898 2279.55,95.2176 2007.5,95.2176 2007.5,198.898 \"/>\n",
       "<polyline clip-path=\"url(#clip010)\" style=\"stroke:#009af9; stroke-linecap:round; stroke-linejoin:round; stroke-width:4; stroke-opacity:1; fill:none\" points=\"2031.91,147.058 2178.32,147.058 \"/>\n",
       "<circle clip-path=\"url(#clip010)\" cx=\"2105.11\" cy=\"147.058\" r=\"18.432\" fill=\"#009af9\" fill-rule=\"evenodd\" fill-opacity=\"1\" stroke=\"#000000\" stroke-opacity=\"1\" stroke-width=\"8.192\"/>\n",
       "<path clip-path=\"url(#clip010)\" d=\"M2216.56 166.745 Q2214.76 171.375 2213.04 172.787 Q2211.33 174.199 2208.46 174.199 L2205.06 174.199 L2205.06 170.634 L2207.56 170.634 Q2209.32 170.634 2210.29 169.8 Q2211.26 168.967 2212.44 165.865 L2213.2 163.921 L2202.72 138.412 L2207.23 138.412 L2215.33 158.689 L2223.44 138.412 L2227.95 138.412 L2216.56 166.745 Z\" fill=\"#000000\" fill-rule=\"nonzero\" fill-opacity=\"1\" /><path clip-path=\"url(#clip010)\" d=\"M2235.24 160.402 L2242.88 160.402 L2242.88 134.037 L2234.57 135.703 L2234.57 131.444 L2242.83 129.778 L2247.51 129.778 L2247.51 160.402 L2255.15 160.402 L2255.15 164.338 L2235.24 164.338 L2235.24 160.402 Z\" fill=\"#000000\" fill-rule=\"nonzero\" fill-opacity=\"1\" /></svg>\n"
      ]
     },
     "execution_count": 40,
     "metadata": {},
     "output_type": "execute_result"
    }
   ],
   "source": [
    "xxi = [xi1[1] for xi1 in xi]\n",
    "yxi = [xi1[2] for xi1 in xi]\n",
    "plot(xxi, yxi,marker=2)\n",
    "# display(xxi)\n",
    "# display(yxi)"
   ]
  },
  {
   "cell_type": "code",
   "execution_count": null,
   "id": "16633de6",
   "metadata": {},
   "outputs": [],
   "source": []
  },
  {
   "cell_type": "code",
   "execution_count": 41,
   "id": "f481876d",
   "metadata": {},
   "outputs": [
    {
     "data": {
      "text/plain": [
       "3×3 Matrix{Float64}:\n",
       " -1.0  1.0  0.0\n",
       " -1.0  0.0  1.0\n",
       "  1.0  0.0  0.0"
      ]
     },
     "execution_count": 41,
     "metadata": {},
     "output_type": "execute_result"
    }
   ],
   "source": [
    "# computation of the coefficients of the basis functions \n",
    "x = [[0.,0.], [1.,0], [0.,1.]]\n",
    "X = [[x1[1], x1[2], 1] for x1 in x]\n",
    "X = reduce(vcat,transpose(X))\n",
    "I = [1. 0 0; 0 1. 0; 0 0 1.]; \n",
    "Emat = X\\UniformScaling(1.)"
   ]
  },
  {
   "cell_type": "code",
   "execution_count": 42,
   "id": "12f62b5e",
   "metadata": {},
   "outputs": [
    {
     "data": {
      "text/plain": [
       "16×3 Matrix{Int64}:\n",
       " 1  0  0\n",
       " 1  0  0\n",
       " 1  0  0\n",
       " 1  0  0\n",
       " 1  0  0\n",
       " 1  0  0\n",
       " 1  0  0\n",
       " 1  0  0\n",
       " 1  0  0\n",
       " 1  0  0\n",
       " 1  0  0\n",
       " 1  0  0\n",
       " 1  0  0\n",
       " 1  0  0\n",
       " 1  0  0\n",
       " 1  0  0"
      ]
     },
     "metadata": {},
     "output_type": "display_data"
    }
   ],
   "source": [
    "# set coordinates of physical point \n",
    "# x1 = [0.,0.]; x2 = [2.,0.]; x3 = [0.,2.];  \n",
    "x1 = [0.,0.]; x2 = [1.,0.]; x3 = [0.,1.];  \n",
    "T = zeros(2,2); T[:,1] = x2 - x1; T[:,2] = x3 - x1; \n",
    "# vector of quadrature points on the physical finite element \n",
    "xs = [T*xi1+x1 for xi1 in xi];\n",
    "# Vandermonde Matrix for evaluation of the basis functions\n",
    "Xs = zeros(length(w),3);   \n",
    "Xs = [[xs1[1], xs1[2], 1] for xs1 in xs];\n",
    "Xs = reduce(vcat,transpose(Xs))\n",
    "# Vandermonde Matrix for evaluation of the x/y derivatives of basis functions\n",
    "dxXs = zeros(length(w),3);\n",
    "dxXs = [[1, 0, 0] for xs1 in xs];\n",
    "dxXs = reduce(vcat,transpose(dxXs))\n",
    "dyXs = zeros(length(w),3);\n",
    "dyXs = [[0, 1, 0] for xs1 in xs];\n",
    "dyXs = reduce(vcat,transpose(dyXs))\n",
    "display(dxXs)"
   ]
  },
  {
   "cell_type": "code",
   "execution_count": 43,
   "id": "5a11f9fd",
   "metadata": {},
   "outputs": [
    {
     "data": {
      "text/plain": [
       "16×3 Matrix{Float64}:\n",
       " 0.0694318  0.0646111   1.0\n",
       " 0.0694318  0.307096    1.0\n",
       " 0.0694318  0.623472    1.0\n",
       " 0.0694318  0.865957    1.0\n",
       " 0.330009   0.0465187   1.0\n",
       " 0.330009   0.221103    1.0\n",
       " 0.330009   0.448887    1.0\n",
       " 0.330009   0.623472    1.0\n",
       " 0.669991   0.0229132   1.0\n",
       " 0.669991   0.108906    1.0\n",
       " 0.669991   0.221103    1.0\n",
       " 0.669991   0.307096    1.0\n",
       " 0.930568   0.00482078  1.0\n",
       " 0.930568   0.0229132   1.0\n",
       " 0.930568   0.0465187   1.0\n",
       " 0.930568   0.0646111   1.0"
      ]
     },
     "metadata": {},
     "output_type": "display_data"
    },
    {
     "data": {
      "text/plain": [
       "3×3 Matrix{Float64}:\n",
       " -1.0  1.0  0.0\n",
       " -1.0  0.0  1.0\n",
       "  1.0  0.0  0.0"
      ]
     },
     "metadata": {},
     "output_type": "display_data"
    }
   ],
   "source": [
    "display(Xs)\n",
    "display(Emat)"
   ]
  },
  {
   "cell_type": "code",
   "execution_count": 44,
   "id": "17d55ad4",
   "metadata": {},
   "outputs": [
    {
     "data": {
      "text/plain": [
       "16×3 Matrix{Float64}:\n",
       " 0.865957    0.0694318  0.0646111\n",
       " 0.623472    0.0694318  0.307096\n",
       " 0.307096    0.0694318  0.623472\n",
       " 0.0646111   0.0694318  0.865957\n",
       " 0.623472    0.330009   0.0465187\n",
       " 0.448887    0.330009   0.221103\n",
       " 0.221103    0.330009   0.448887\n",
       " 0.0465187   0.330009   0.623472\n",
       " 0.307096    0.669991   0.0229132\n",
       " 0.221103    0.669991   0.108906\n",
       " 0.108906    0.669991   0.221103\n",
       " 0.0229132   0.669991   0.307096\n",
       " 0.0646111   0.930568   0.00482078\n",
       " 0.0465187   0.930568   0.0229132\n",
       " 0.0229132   0.930568   0.0465187\n",
       " 0.00482078  0.930568   0.0646111"
      ]
     },
     "metadata": {},
     "output_type": "display_data"
    }
   ],
   "source": [
    "# column basis and derivative of the basis vectors  \n",
    "Phi   = Xs*Emat; \n",
    "dxPhi = dxXs*Emat; \n",
    "dyPhi = dyXs*Emat; \n",
    "display(Phi)"
   ]
  },
  {
   "cell_type": "code",
   "execution_count": 45,
   "id": "e857a5d7",
   "metadata": {},
   "outputs": [
    {
     "data": {
      "text/plain": [
       "\u001b[32m\u001b[1mTest Passed\u001b[22m\u001b[39m"
      ]
     },
     "execution_count": 45,
     "metadata": {},
     "output_type": "execute_result"
    }
   ],
   "source": [
    "# test whether basis function form a partition of unity   \n",
    "vv = ones(3);\n",
    "partionUnity = Phi * vv; \n",
    "@test partionUnity ≈ ones(length(w))"
   ]
  },
  {
   "cell_type": "code",
   "execution_count": 46,
   "id": "2853f883",
   "metadata": {},
   "outputs": [
    {
     "data": {
      "text/plain": [
       "16×9 Matrix{Float64}:\n",
       " 0.749882     0.060125    0.0559504    0.060125    …  0.00448607  0.00417459\n",
       " 0.388717     0.0432888   0.191466     0.0432888      0.0213223   0.0943081\n",
       " 0.0943081    0.0213223   0.191466     0.0213223      0.0432888   0.388717\n",
       " 0.00417459   0.00448607  0.0559504    0.00448607     0.060125    0.749882\n",
       " 0.388717     0.205752    0.0290031    0.205752       0.0153516   0.00216399\n",
       " 0.2015       0.148137    0.0992504    0.148137    …  0.0729662   0.0488866\n",
       " 0.0488866    0.0729662   0.0992504    0.0729662      0.148137    0.2015\n",
       " 0.00216399   0.0153516   0.0290031    0.0153516      0.205752    0.388717\n",
       " 0.0943081    0.205752    0.00703655   0.205752       0.0153516   0.000525013\n",
       " 0.0488866    0.148137    0.0240795    0.148137       0.0729662   0.0118606\n",
       " 0.0118606    0.0729662   0.0240795    0.0729662   …  0.148137    0.0488866\n",
       " 0.000525013  0.0153516   0.00703655   0.0153516      0.205752    0.0943081\n",
       " 0.00417459   0.060125    0.000311476  0.060125       0.00448607  2.32399e-5\n",
       " 0.00216399   0.0432888   0.00106589   0.0432888      0.0213223   0.000525013\n",
       " 0.000525013  0.0213223   0.00106589   0.0213223      0.0432888   0.00216399\n",
       " 2.32399e-5   0.00448607  0.000311476  0.00448607  …  0.060125    0.00417459"
      ]
     },
     "metadata": {},
     "output_type": "display_data"
    },
    {
     "data": {
      "text/plain": [
       "3×3 reshape(transpose(::Vector{Float64}), 3, 3) with eltype Float64:\n",
       " 0.0833333  0.0416667  0.0416667\n",
       " 0.0416667  0.0833333  0.0416667\n",
       " 0.0416667  0.0416667  0.0833333"
      ]
     },
     "metadata": {},
     "output_type": "display_data"
    },
    {
     "data": {
      "text/plain": [
       "3×3 reshape(transpose(::Vector{Float64}), 3, 3) with eltype Float64:\n",
       "  1.0  -0.5  -0.5\n",
       " -0.5   0.5   0.0\n",
       " -0.5   0.0   0.5"
      ]
     },
     "metadata": {},
     "output_type": "display_data"
    }
   ],
   "source": [
    "PhiPhi = zeros(length(w),9);\n",
    "[PhiPhi[:,(j-1)*3+i] = Phi[:,i].*Phi[:,j] for i=1:3,j=1:3];\n",
    "dxPhidxPhi = zeros(length(w),9);\n",
    "[dxPhidxPhi[:,(j-1)*3+i] = dxPhi[:,i].*dxPhi[:,j] for i=1:3,j=1:3];\n",
    "dyPhidyPhi = zeros(length(w),9);\n",
    "[dyPhidyPhi[:,(j-1)*3+i] = dyPhi[:,i].*dyPhi[:,j] for i=1:3,j=1:3];\n",
    "dPhidPhi = dxPhidxPhi + dyPhidyPhi; \n",
    "area = area_triangle(x1,x2,x3)\n",
    "Mloc = 2*area*Transpose(w)*PhiPhi\n",
    "Aloc = 2*area*Transpose(w)*dPhidPhi\n",
    "display(PhiPhi)\n",
    "display(reshape(Mloc,3,3))\n",
    "display(reshape(Aloc,3,3))"
   ]
  },
  {
   "cell_type": "code",
   "execution_count": 47,
   "id": "8a04d124",
   "metadata": {},
   "outputs": [
    {
     "data": {
      "text/plain": [
       "3×3 Matrix{Float64}:\n",
       "  1.0  -0.5  -0.5\n",
       " -0.5   0.5   0.0\n",
       " -0.5   0.0   0.5"
      ]
     },
     "metadata": {},
     "output_type": "display_data"
    }
   ],
   "source": [
    "Emat[3,:] .= 0;\n",
    "AlocRef = area*(transpose(Emat)*Emat);\n",
    "MlocRef = area/3*[1 0 0; 0 1 0; 0 0 1];\n",
    "display(AlocRef)"
   ]
  },
  {
   "cell_type": "markdown",
   "id": "5c7904e2",
   "metadata": {},
   "source": [
    "## Section 3:/ Quadratic Shape Functions "
   ]
  },
  {
   "cell_type": "code",
   "execution_count": 48,
   "id": "240c1e51",
   "metadata": {},
   "outputs": [
    {
     "data": {
      "text/plain": [
       "6×6 Matrix{Float64}:\n",
       "  2.0   2.0   0.0  -4.0  0.0  -0.0\n",
       "  2.0   0.0   2.0   0.0  0.0  -4.0\n",
       "  4.0   0.0   0.0  -4.0  4.0  -4.0\n",
       " -3.0  -1.0   0.0   4.0  0.0   0.0\n",
       " -3.0   0.0  -1.0   0.0  0.0   4.0\n",
       "  1.0   0.0   0.0   0.0  0.0   0.0"
      ]
     },
     "execution_count": 48,
     "metadata": {},
     "output_type": "execute_result"
    }
   ],
   "source": [
    "# computation of the coefficients of the basis functions \n",
    "x = [[0.,0.], [1.,0], [0.,1.], [0.5,0.], [0.5,0.5], [0.,0.5]]\n",
    "X = [[x1[1]^2, x1[2]^2, x1[1]*x1[2], x1[1], x1[2], 1] for x1 in x]\n",
    "X = reduce(vcat,transpose(X))\n",
    "Emat = X\\UniformScaling(1.)"
   ]
  },
  {
   "cell_type": "code",
   "execution_count": 49,
   "id": "fe361c55",
   "metadata": {},
   "outputs": [
    {
     "data": {
      "text/plain": [
       "16×6 Matrix{Float64}:\n",
       " 0.277727  0.0  0.129222    1.0  0.0  0.0\n",
       " 0.277727  0.0  0.614193    1.0  0.0  0.0\n",
       " 0.277727  0.0  1.24694     1.0  0.0  0.0\n",
       " 0.277727  0.0  1.73191     1.0  0.0  0.0\n",
       " 1.32004   0.0  0.0930374   1.0  0.0  0.0\n",
       " 1.32004   0.0  0.442206    1.0  0.0  0.0\n",
       " 1.32004   0.0  0.897775    1.0  0.0  0.0\n",
       " 1.32004   0.0  1.24694     1.0  0.0  0.0\n",
       " 2.67996   0.0  0.0458263   1.0  0.0  0.0\n",
       " 2.67996   0.0  0.217813    1.0  0.0  0.0\n",
       " 2.67996   0.0  0.442206    1.0  0.0  0.0\n",
       " 2.67996   0.0  0.614193    1.0  0.0  0.0\n",
       " 3.72227   0.0  0.00964156  1.0  0.0  0.0\n",
       " 3.72227   0.0  0.0458263   1.0  0.0  0.0\n",
       " 3.72227   0.0  0.0930374   1.0  0.0  0.0\n",
       " 3.72227   0.0  0.129222    1.0  0.0  0.0"
      ]
     },
     "metadata": {},
     "output_type": "display_data"
    }
   ],
   "source": [
    "# set coordinates of physical point \n",
    "x1 = [0.,0.]; x2 = [2.,0.]; x3 = [0.,2.]; \n",
    "x12 = (x1+x2)/2; x23 = (x2+x3)/2; x13 = (x1+x3)/2; \n",
    "T = zeros(2,2); T[:,1] = x2 - x1; T[:,2] = x3 - x1; \n",
    "# vector of quadrature points on the physical finite element \n",
    "xs = [T*xi1+x1 for xi1 in xi];\n",
    "# Vandermonde Matrix for evaluation of the basis functions\n",
    "Xs = zeros(length(w),6);   \n",
    "Xs = [[xs1[1]^2, xs1[2]^2, xs1[1]*xs1[2], xs1[1], xs1[2], 1] for xs1 in xs];\n",
    "Xs = reduce(vcat,transpose(Xs))\n",
    "# Vandermonde Matrix for evaluation of the x/y derivatives of basis functions\n",
    "dxXs = zeros(length(w),6);\n",
    "dxXs = [[2*xs1[1], 0 , xs1[2], 1, 0, 0] for xs1 in xs];\n",
    "dxXs = reduce(vcat,transpose(dxXs))\n",
    "dyXs = zeros(length(w),6);\n",
    "dyXs = [[0, 2*xs1[2], xs1[1], 0, 1, 0] for xs1 in xs];\n",
    "dyXs = reduce(vcat,transpose(dyXs))\n",
    "display(dxXs)"
   ]
  },
  {
   "cell_type": "code",
   "execution_count": 50,
   "id": "3050fc90",
   "metadata": {},
   "outputs": [
    {
     "data": {
      "text/plain": [
       "16×6 Matrix{Float64}:\n",
       "  0.339483  -0.100297  -0.0958254    0.406545  0.071777   0.378318\n",
       " -0.124981  -0.100297   0.140273     0.137166  0.341156   0.606684\n",
       "  0.683502  -0.100297   1.86279     -0.214299  0.692621  -1.92432\n",
       "  2.38729   -0.100297   4.26714     -0.483678  0.962     -6.03245\n",
       " -0.124981   0.211231  -0.0757255    0.65195   0.245626   0.0919\n",
       "  0.123125   0.211231  -0.0511134   -0.269883  1.16746   -0.180819\n",
       "  1.18006    0.211231   0.714224    -1.47262   2.37019   -2.00309\n",
       "  2.55213    0.211231   1.86279     -2.39445   3.29203   -4.52373\n",
       "  0.683502   2.25112   -0.0416262   -2.0679    0.245626  -0.0707205\n",
       "  1.18006    2.25112   -0.122928    -2.98973   1.16746   -0.485978\n",
       "  2.00582    2.25112   -0.0511134   -4.19247   2.37019   -1.38355\n",
       "  2.77507    2.25112    0.140273    -5.1143    3.29203   -2.34419\n",
       "  2.38729    5.06652   -0.00945564  -6.48255   0.071777  -0.0335826\n",
       "  2.55213    5.06652   -0.0416262   -6.75192   0.341156  -0.166251\n",
       "  2.77507    5.06652   -0.0757255   -7.10339   0.692621  -0.355095\n",
       "  2.95198    5.06652   -0.0958254   -7.37277   0.962     -0.511905"
      ]
     },
     "metadata": {},
     "output_type": "display_data"
    }
   ],
   "source": [
    "# column basis and derivative of the basis vectors  \n",
    "Phi   = Xs*Emat; \n",
    "dxPhi = dxXs*Emat; \n",
    "dyPhi = dyXs*Emat; \n",
    "display(Phi)"
   ]
  },
  {
   "cell_type": "code",
   "execution_count": 51,
   "id": "be4bb535",
   "metadata": {},
   "outputs": [
    {
     "data": {
      "text/plain": [
       "\u001b[32m\u001b[1mTest Passed\u001b[22m\u001b[39m"
      ]
     },
     "execution_count": 51,
     "metadata": {},
     "output_type": "execute_result"
    }
   ],
   "source": [
    "# test whether basis function form a partition of unity   \n",
    "vv = ones(6);\n",
    "partionUnity = Phi * vv; \n",
    "@test partionUnity ≈ ones(length(w))"
   ]
  },
  {
   "cell_type": "code",
   "execution_count": 52,
   "id": "29334e76",
   "metadata": {},
   "outputs": [
    {
     "data": {
      "text/plain": [
       "6×6 reshape(transpose(::Vector{Float64}), 6, 6) with eltype Float64:\n",
       "  3.86667   2.35556     2.35556    -5.33333   4.08889  -5.33333\n",
       "  2.35556   3.46667    -0.0444444  -5.33333   2.13333  -1.24444\n",
       "  2.35556  -0.0444444   3.46667    -1.24444   2.13333  -5.33333\n",
       " -5.33333  -5.33333    -1.24444     9.95556  -5.68889   4.97778\n",
       "  4.08889   2.13333     2.13333    -5.68889   5.68889  -5.68889\n",
       " -5.33333  -1.24444    -5.33333     4.97778  -5.68889   9.95556"
      ]
     },
     "metadata": {},
     "output_type": "display_data"
    },
    {
     "data": {
      "text/plain": [
       "6×6 reshape(transpose(::Vector{Float64}), 6, 6) with eltype Float64:\n",
       "  36.0      11.3333    11.3333   -45.3333    32.0      -45.3333\n",
       "  11.3333   12.6667     0.0      -24.0        5.33333   -5.33333\n",
       "  11.3333    0.0       12.6667    -5.33333    5.33333  -24.0\n",
       " -45.3333  -24.0       -5.33333   74.6667   -42.6667    42.6667\n",
       "  32.0       5.33333    5.33333  -42.6667    42.6667   -42.6667\n",
       " -45.3333   -5.33333  -24.0       42.6667   -42.6667    74.6667"
      ]
     },
     "metadata": {},
     "output_type": "display_data"
    }
   ],
   "source": [
    "PhiPhi = zeros(length(w),36);\n",
    "[PhiPhi[:,(j-1)*6+i] = Phi[:,i].*Phi[:,j] for i=1:6,j=1:6];\n",
    "dxPhidxPhi = zeros(length(w),36);\n",
    "[dxPhidxPhi[:,(j-1)*6+i] = dxPhi[:,i].*dxPhi[:,j] for i=1:6,j=1:6];\n",
    "dyPhidyPhi = zeros(length(w),36);\n",
    "[dyPhidyPhi[:,(j-1)*6+i] = dyPhi[:,i].*dyPhi[:,j] for i=1:6,j=1:6];\n",
    "dPhidPhi = dxPhidxPhi + dyPhidyPhi; \n",
    "area = area_triangle(x1,x2,x3)\n",
    "Mloc = 2*area*Transpose(w)*PhiPhi\n",
    "Aloc = 2*area*Transpose(w)*dPhidPhi\n",
    "display(reshape(Mloc,6,6))\n",
    "display(reshape(Aloc,6,6))"
   ]
  },
  {
   "cell_type": "code",
   "execution_count": null,
   "id": "86639587",
   "metadata": {},
   "outputs": [],
   "source": []
  },
  {
   "cell_type": "code",
   "execution_count": null,
   "id": "5e3e5bf6",
   "metadata": {},
   "outputs": [],
   "source": []
  }
 ],
 "metadata": {
  "kernelspec": {
   "display_name": "Julia 1.8.1",
   "language": "julia",
   "name": "julia-1.8"
  },
  "language_info": {
   "file_extension": ".jl",
   "mimetype": "application/julia",
   "name": "julia",
   "version": "1.8.1"
  }
 },
 "nbformat": 4,
 "nbformat_minor": 5
}
