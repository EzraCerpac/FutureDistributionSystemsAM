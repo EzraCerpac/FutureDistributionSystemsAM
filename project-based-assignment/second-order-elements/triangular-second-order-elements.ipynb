{
 "cells": [
  {
   "cell_type": "markdown",
   "id": "33c8729f",
   "metadata": {},
   "source": [
    "# Triangular Lagrangian Second Order Elements \n",
    "The <b>goal</b> of this notebook is to implement second order Lagrange shape functions on triangular elements.\n",
    "\n",
    "Remark\n",
    "- the reference element for quadrature has vertices $(\\xi_1,\\eta_1) = (0,0)$, $(\\xi_2,\\eta_2) =(1,0)$ and $(\\xi_3,\\eta_3) = (0,1)$; \n",
    "\n",
    "This notebook is structured as follows: "
   ]
  },
  {
   "cell_type": "markdown",
   "id": "4f3930b5",
   "metadata": {},
   "source": [
    "## Import Packages"
   ]
  },
  {
   "cell_type": "code",
   "execution_count": 13,
   "id": "001fdf92",
   "metadata": {},
   "outputs": [],
   "source": [
    "using LinearAlgebra\n",
    "using FastGaussQuadrature\n",
    "using Plots\n",
    "using SparseArrays\n",
    "using BenchmarkTools \n",
    "using Test"
   ]
  },
  {
   "cell_type": "code",
   "execution_count": 14,
   "id": "2a18c588",
   "metadata": {},
   "outputs": [
    {
     "data": {
      "text/plain": [
       "compute_weights_triangle"
      ]
     },
     "execution_count": 14,
     "metadata": {},
     "output_type": "execute_result"
    }
   ],
   "source": [
    "include(\"quadrature.jl\")"
   ]
  },
  {
   "cell_type": "markdown",
   "id": "dc86068c",
   "metadata": {},
   "source": [
    "## Section 1:/ Introduction "
   ]
  },
  {
   "cell_type": "code",
   "execution_count": 67,
   "id": "2f197eb7",
   "metadata": {},
   "outputs": [
    {
     "data": {
      "text/plain": [
       "area_triangle (generic function with 1 method)"
      ]
     },
     "execution_count": 67,
     "metadata": {},
     "output_type": "execute_result"
    }
   ],
   "source": [
    "function area_triangle(x1,x2,x3)\n",
    "    l3 = norm(x[1]-x[2])\n",
    "    l2 = norm(x[1]-x[3])\n",
    "    l1 = norm(x[2]-x[3])\n",
    "\n",
    "    lc = 0.5 * (l1+l2+l3)\n",
    "    area = sqrt(lc*(lc-l1)*(lc-l2)*(lc-l3))\n",
    "    \n",
    "    return area\n",
    "end "
   ]
  },
  {
   "cell_type": "code",
   "execution_count": 69,
   "id": "4b225fea",
   "metadata": {},
   "outputs": [
    {
     "data": {
      "text/plain": [
       "0.4999999999999998"
      ]
     },
     "execution_count": 69,
     "metadata": {},
     "output_type": "execute_result"
    }
   ],
   "source": [
    "x1 = [0,0]; x2 = [2,0]; x3 = [0,-2];\n",
    "area = area_triangle(x1,x2,x3) "
   ]
  },
  {
   "cell_type": "markdown",
   "id": "db88948a",
   "metadata": {},
   "source": [
    "## Section 2:/ Verification using Linear Shape Functions "
   ]
  },
  {
   "cell_type": "code",
   "execution_count": 40,
   "id": "3965b121",
   "metadata": {},
   "outputs": [
    {
     "data": {
      "text/plain": [
       "9-element Vector{Vector{Float64}}:\n",
       " [0.1127016653792583, 0.09999999999999999]\n",
       " [0.1127016653792583, 0.44364916731037085]\n",
       " [0.1127016653792583, 0.7872983346207417]\n",
       " [0.5, 0.05635083268962915]\n",
       " [0.5, 0.25]\n",
       " [0.5, 0.44364916731037085]\n",
       " [0.8872983346207417, 0.012701665379258308]\n",
       " [0.8872983346207417, 0.05635083268962915]\n",
       " [0.8872983346207417, 0.09999999999999999]"
      ]
     },
     "metadata": {},
     "output_type": "display_data"
    },
    {
     "data": {
      "text/plain": [
       "9-element Vector{Float64}:\n",
       " 0.06846437767135354\n",
       " 0.10954300427416563\n",
       " 0.06846437767135354\n",
       " 0.06172839506172839\n",
       " 0.09876543209876543\n",
       " 0.06172839506172839\n",
       " 0.008696116155806968\n",
       " 0.01391378584929115\n",
       " 0.008696116155806968"
      ]
     },
     "metadata": {},
     "output_type": "display_data"
    }
   ],
   "source": [
    "# polynomial degree to FE approximation  \n",
    "pdegree = 1;\n",
    "# degree of numerical quadrature \n",
    "qorder = 4; \n",
    "xi = compute_coordinates_triangle(qorder)\n",
    "w  = compute_weights_triangle(qorder)\n",
    "display(xi)\n",
    "display(w)"
   ]
  },
  {
   "cell_type": "code",
   "execution_count": 41,
   "id": "7d66cf3e",
   "metadata": {},
   "outputs": [
    {
     "data": {
      "image/svg+xml": [
       "<?xml version=\"1.0\" encoding=\"utf-8\"?>\n",
       "<svg xmlns=\"http://www.w3.org/2000/svg\" xmlns:xlink=\"http://www.w3.org/1999/xlink\" width=\"600\" height=\"400\" viewBox=\"0 0 2400 1600\">\n",
       "<defs>\n",
       "  <clipPath id=\"clip340\">\n",
       "    <rect x=\"0\" y=\"0\" width=\"2400\" height=\"1600\"/>\n",
       "  </clipPath>\n",
       "</defs>\n",
       "<path clip-path=\"url(#clip340)\" d=\"M0 1600 L2400 1600 L2400 0 L0 0  Z\" fill=\"#ffffff\" fill-rule=\"evenodd\" fill-opacity=\"1\"/>\n",
       "<defs>\n",
       "  <clipPath id=\"clip341\">\n",
       "    <rect x=\"480\" y=\"0\" width=\"1681\" height=\"1600\"/>\n",
       "  </clipPath>\n",
       "</defs>\n",
       "<path clip-path=\"url(#clip340)\" d=\"M156.598 1486.45 L2352.76 1486.45 L2352.76 47.2441 L156.598 47.2441  Z\" fill=\"#ffffff\" fill-rule=\"evenodd\" fill-opacity=\"1\"/>\n",
       "<defs>\n",
       "  <clipPath id=\"clip342\">\n",
       "    <rect x=\"156\" y=\"47\" width=\"2197\" height=\"1440\"/>\n",
       "  </clipPath>\n",
       "</defs>\n",
       "<polyline clip-path=\"url(#clip342)\" style=\"stroke:#000000; stroke-linecap:round; stroke-linejoin:round; stroke-width:2; stroke-opacity:0.1; fill:none\" points=\"452.254,1486.45 452.254,47.2441 \"/>\n",
       "<polyline clip-path=\"url(#clip342)\" style=\"stroke:#000000; stroke-linecap:round; stroke-linejoin:round; stroke-width:2; stroke-opacity:0.1; fill:none\" points=\"987.203,1486.45 987.203,47.2441 \"/>\n",
       "<polyline clip-path=\"url(#clip342)\" style=\"stroke:#000000; stroke-linecap:round; stroke-linejoin:round; stroke-width:2; stroke-opacity:0.1; fill:none\" points=\"1522.15,1486.45 1522.15,47.2441 \"/>\n",
       "<polyline clip-path=\"url(#clip342)\" style=\"stroke:#000000; stroke-linecap:round; stroke-linejoin:round; stroke-width:2; stroke-opacity:0.1; fill:none\" points=\"2057.1,1486.45 2057.1,47.2441 \"/>\n",
       "<polyline clip-path=\"url(#clip340)\" style=\"stroke:#000000; stroke-linecap:round; stroke-linejoin:round; stroke-width:4; stroke-opacity:1; fill:none\" points=\"156.598,1486.45 2352.76,1486.45 \"/>\n",
       "<polyline clip-path=\"url(#clip340)\" style=\"stroke:#000000; stroke-linecap:round; stroke-linejoin:round; stroke-width:4; stroke-opacity:1; fill:none\" points=\"452.254,1486.45 452.254,1467.55 \"/>\n",
       "<polyline clip-path=\"url(#clip340)\" style=\"stroke:#000000; stroke-linecap:round; stroke-linejoin:round; stroke-width:4; stroke-opacity:1; fill:none\" points=\"987.203,1486.45 987.203,1467.55 \"/>\n",
       "<polyline clip-path=\"url(#clip340)\" style=\"stroke:#000000; stroke-linecap:round; stroke-linejoin:round; stroke-width:4; stroke-opacity:1; fill:none\" points=\"1522.15,1486.45 1522.15,1467.55 \"/>\n",
       "<polyline clip-path=\"url(#clip340)\" style=\"stroke:#000000; stroke-linecap:round; stroke-linejoin:round; stroke-width:4; stroke-opacity:1; fill:none\" points=\"2057.1,1486.45 2057.1,1467.55 \"/>\n",
       "<path clip-path=\"url(#clip340)\" d=\"M430.437 1517.37 Q426.826 1517.37 424.997 1520.93 Q423.192 1524.47 423.192 1531.6 Q423.192 1538.71 424.997 1542.27 Q426.826 1545.82 430.437 1545.82 Q434.071 1545.82 435.877 1542.27 Q437.706 1538.71 437.706 1531.6 Q437.706 1524.47 435.877 1520.93 Q434.071 1517.37 430.437 1517.37 M430.437 1513.66 Q436.247 1513.66 439.303 1518.27 Q442.382 1522.85 442.382 1531.6 Q442.382 1540.33 439.303 1544.94 Q436.247 1549.52 430.437 1549.52 Q424.627 1549.52 421.548 1544.94 Q418.493 1540.33 418.493 1531.6 Q418.493 1522.85 421.548 1518.27 Q424.627 1513.66 430.437 1513.66 Z\" fill=\"#000000\" fill-rule=\"evenodd\" fill-opacity=\"1\" /><path clip-path=\"url(#clip340)\" d=\"M450.599 1542.97 L455.483 1542.97 L455.483 1548.85 L450.599 1548.85 L450.599 1542.97 Z\" fill=\"#000000\" fill-rule=\"evenodd\" fill-opacity=\"1\" /><path clip-path=\"url(#clip340)\" d=\"M469.696 1544.91 L486.016 1544.91 L486.016 1548.85 L464.071 1548.85 L464.071 1544.91 Q466.733 1542.16 471.317 1537.53 Q475.923 1532.88 477.104 1531.53 Q479.349 1529.01 480.229 1527.27 Q481.131 1525.51 481.131 1523.82 Q481.131 1521.07 479.187 1519.33 Q477.266 1517.6 474.164 1517.6 Q471.965 1517.6 469.511 1518.36 Q467.081 1519.13 464.303 1520.68 L464.303 1515.95 Q467.127 1514.82 469.581 1514.24 Q472.034 1513.66 474.071 1513.66 Q479.442 1513.66 482.636 1516.35 Q485.83 1519.03 485.83 1523.52 Q485.83 1525.65 485.02 1527.57 Q484.233 1529.47 482.127 1532.07 Q481.548 1532.74 478.446 1535.95 Q475.344 1539.15 469.696 1544.91 Z\" fill=\"#000000\" fill-rule=\"evenodd\" fill-opacity=\"1\" /><path clip-path=\"url(#clip340)\" d=\"M964.344 1517.37 Q960.733 1517.37 958.904 1520.93 Q957.099 1524.47 957.099 1531.6 Q957.099 1538.71 958.904 1542.27 Q960.733 1545.82 964.344 1545.82 Q967.978 1545.82 969.784 1542.27 Q971.613 1538.71 971.613 1531.6 Q971.613 1524.47 969.784 1520.93 Q967.978 1517.37 964.344 1517.37 M964.344 1513.66 Q970.154 1513.66 973.21 1518.27 Q976.288 1522.85 976.288 1531.6 Q976.288 1540.33 973.21 1544.94 Q970.154 1549.52 964.344 1549.52 Q958.534 1549.52 955.455 1544.94 Q952.4 1540.33 952.4 1531.6 Q952.4 1522.85 955.455 1518.27 Q958.534 1513.66 964.344 1513.66 Z\" fill=\"#000000\" fill-rule=\"evenodd\" fill-opacity=\"1\" /><path clip-path=\"url(#clip340)\" d=\"M984.506 1542.97 L989.39 1542.97 L989.39 1548.85 L984.506 1548.85 L984.506 1542.97 Z\" fill=\"#000000\" fill-rule=\"evenodd\" fill-opacity=\"1\" /><path clip-path=\"url(#clip340)\" d=\"M1012.42 1518.36 L1000.62 1536.81 L1012.42 1536.81 L1012.42 1518.36 M1011.2 1514.29 L1017.08 1514.29 L1017.08 1536.81 L1022.01 1536.81 L1022.01 1540.7 L1017.08 1540.7 L1017.08 1548.85 L1012.42 1548.85 L1012.42 1540.7 L996.821 1540.7 L996.821 1536.19 L1011.2 1514.29 Z\" fill=\"#000000\" fill-rule=\"evenodd\" fill-opacity=\"1\" /><path clip-path=\"url(#clip340)\" d=\"M1499.45 1517.37 Q1495.84 1517.37 1494.01 1520.93 Q1492.21 1524.47 1492.21 1531.6 Q1492.21 1538.71 1494.01 1542.27 Q1495.84 1545.82 1499.45 1545.82 Q1503.09 1545.82 1504.89 1542.27 Q1506.72 1538.71 1506.72 1531.6 Q1506.72 1524.47 1504.89 1520.93 Q1503.09 1517.37 1499.45 1517.37 M1499.45 1513.66 Q1505.26 1513.66 1508.32 1518.27 Q1511.4 1522.85 1511.4 1531.6 Q1511.4 1540.33 1508.32 1544.94 Q1505.26 1549.52 1499.45 1549.52 Q1493.64 1549.52 1490.57 1544.94 Q1487.51 1540.33 1487.51 1531.6 Q1487.51 1522.85 1490.57 1518.27 Q1493.64 1513.66 1499.45 1513.66 Z\" fill=\"#000000\" fill-rule=\"evenodd\" fill-opacity=\"1\" /><path clip-path=\"url(#clip340)\" d=\"M1519.62 1542.97 L1524.5 1542.97 L1524.5 1548.85 L1519.62 1548.85 L1519.62 1542.97 Z\" fill=\"#000000\" fill-rule=\"evenodd\" fill-opacity=\"1\" /><path clip-path=\"url(#clip340)\" d=\"M1545.26 1529.7 Q1542.12 1529.7 1540.26 1531.86 Q1538.44 1534.01 1538.44 1537.76 Q1538.44 1541.49 1540.26 1543.66 Q1542.12 1545.82 1545.26 1545.82 Q1548.41 1545.82 1550.24 1543.66 Q1552.09 1541.49 1552.09 1537.76 Q1552.09 1534.01 1550.24 1531.86 Q1548.41 1529.7 1545.26 1529.7 M1554.55 1515.05 L1554.55 1519.31 Q1552.79 1518.48 1550.98 1518.04 Q1549.2 1517.6 1547.44 1517.6 Q1542.81 1517.6 1540.36 1520.72 Q1537.93 1523.85 1537.58 1530.17 Q1538.95 1528.15 1541.01 1527.09 Q1543.07 1526 1545.54 1526 Q1550.75 1526 1553.76 1529.17 Q1556.79 1532.32 1556.79 1537.76 Q1556.79 1543.08 1553.64 1546.3 Q1550.5 1549.52 1545.26 1549.52 Q1539.27 1549.52 1536.1 1544.94 Q1532.93 1540.33 1532.93 1531.6 Q1532.93 1523.41 1536.82 1518.55 Q1540.7 1513.66 1547.26 1513.66 Q1549.01 1513.66 1550.8 1514.01 Q1552.6 1514.36 1554.55 1515.05 Z\" fill=\"#000000\" fill-rule=\"evenodd\" fill-opacity=\"1\" /><path clip-path=\"url(#clip340)\" d=\"M2034.53 1517.37 Q2030.92 1517.37 2029.09 1520.93 Q2027.29 1524.47 2027.29 1531.6 Q2027.29 1538.71 2029.09 1542.27 Q2030.92 1545.82 2034.53 1545.82 Q2038.16 1545.82 2039.97 1542.27 Q2041.8 1538.71 2041.8 1531.6 Q2041.8 1524.47 2039.97 1520.93 Q2038.16 1517.37 2034.53 1517.37 M2034.53 1513.66 Q2040.34 1513.66 2043.4 1518.27 Q2046.47 1522.85 2046.47 1531.6 Q2046.47 1540.33 2043.4 1544.94 Q2040.34 1549.52 2034.53 1549.52 Q2028.72 1549.52 2025.64 1544.94 Q2022.59 1540.33 2022.59 1531.6 Q2022.59 1522.85 2025.64 1518.27 Q2028.72 1513.66 2034.53 1513.66 Z\" fill=\"#000000\" fill-rule=\"evenodd\" fill-opacity=\"1\" /><path clip-path=\"url(#clip340)\" d=\"M2054.69 1542.97 L2059.58 1542.97 L2059.58 1548.85 L2054.69 1548.85 L2054.69 1542.97 Z\" fill=\"#000000\" fill-rule=\"evenodd\" fill-opacity=\"1\" /><path clip-path=\"url(#clip340)\" d=\"M2079.76 1532.44 Q2076.43 1532.44 2074.51 1534.22 Q2072.61 1536 2072.61 1539.13 Q2072.61 1542.25 2074.51 1544.03 Q2076.43 1545.82 2079.76 1545.82 Q2083.1 1545.82 2085.02 1544.03 Q2086.94 1542.23 2086.94 1539.13 Q2086.94 1536 2085.02 1534.22 Q2083.12 1532.44 2079.76 1532.44 M2075.09 1530.45 Q2072.08 1529.7 2070.39 1527.64 Q2068.72 1525.58 2068.72 1522.62 Q2068.72 1518.48 2071.66 1516.07 Q2074.62 1513.66 2079.76 1513.66 Q2084.92 1513.66 2087.86 1516.07 Q2090.8 1518.48 2090.8 1522.62 Q2090.8 1525.58 2089.11 1527.64 Q2087.45 1529.7 2084.46 1530.45 Q2087.84 1531.23 2089.72 1533.52 Q2091.61 1535.82 2091.61 1539.13 Q2091.61 1544.15 2088.53 1546.83 Q2085.48 1549.52 2079.76 1549.52 Q2074.04 1549.52 2070.97 1546.83 Q2067.91 1544.15 2067.91 1539.13 Q2067.91 1535.82 2069.81 1533.52 Q2071.71 1531.23 2075.09 1530.45 M2073.37 1523.06 Q2073.37 1525.75 2075.04 1527.25 Q2076.73 1528.76 2079.76 1528.76 Q2082.77 1528.76 2084.46 1527.25 Q2086.17 1525.75 2086.17 1523.06 Q2086.17 1520.38 2084.46 1518.87 Q2082.77 1517.37 2079.76 1517.37 Q2076.73 1517.37 2075.04 1518.87 Q2073.37 1520.38 2073.37 1523.06 Z\" fill=\"#000000\" fill-rule=\"evenodd\" fill-opacity=\"1\" /><polyline clip-path=\"url(#clip342)\" style=\"stroke:#000000; stroke-linecap:round; stroke-linejoin:round; stroke-width:2; stroke-opacity:0.1; fill:none\" points=\"156.598,1467.98 2352.76,1467.98 \"/>\n",
       "<polyline clip-path=\"url(#clip342)\" style=\"stroke:#000000; stroke-linecap:round; stroke-linejoin:round; stroke-width:2; stroke-opacity:0.1; fill:none\" points=\"156.598,1117.41 2352.76,1117.41 \"/>\n",
       "<polyline clip-path=\"url(#clip342)\" style=\"stroke:#000000; stroke-linecap:round; stroke-linejoin:round; stroke-width:2; stroke-opacity:0.1; fill:none\" points=\"156.598,766.846 2352.76,766.846 \"/>\n",
       "<polyline clip-path=\"url(#clip342)\" style=\"stroke:#000000; stroke-linecap:round; stroke-linejoin:round; stroke-width:2; stroke-opacity:0.1; fill:none\" points=\"156.598,416.279 2352.76,416.279 \"/>\n",
       "<polyline clip-path=\"url(#clip342)\" style=\"stroke:#000000; stroke-linecap:round; stroke-linejoin:round; stroke-width:2; stroke-opacity:0.1; fill:none\" points=\"156.598,65.7124 2352.76,65.7124 \"/>\n",
       "<polyline clip-path=\"url(#clip340)\" style=\"stroke:#000000; stroke-linecap:round; stroke-linejoin:round; stroke-width:4; stroke-opacity:1; fill:none\" points=\"156.598,1486.45 156.598,47.2441 \"/>\n",
       "<polyline clip-path=\"url(#clip340)\" style=\"stroke:#000000; stroke-linecap:round; stroke-linejoin:round; stroke-width:4; stroke-opacity:1; fill:none\" points=\"156.598,1467.98 175.496,1467.98 \"/>\n",
       "<polyline clip-path=\"url(#clip340)\" style=\"stroke:#000000; stroke-linecap:round; stroke-linejoin:round; stroke-width:4; stroke-opacity:1; fill:none\" points=\"156.598,1117.41 175.496,1117.41 \"/>\n",
       "<polyline clip-path=\"url(#clip340)\" style=\"stroke:#000000; stroke-linecap:round; stroke-linejoin:round; stroke-width:4; stroke-opacity:1; fill:none\" points=\"156.598,766.846 175.496,766.846 \"/>\n",
       "<polyline clip-path=\"url(#clip340)\" style=\"stroke:#000000; stroke-linecap:round; stroke-linejoin:round; stroke-width:4; stroke-opacity:1; fill:none\" points=\"156.598,416.279 175.496,416.279 \"/>\n",
       "<polyline clip-path=\"url(#clip340)\" style=\"stroke:#000000; stroke-linecap:round; stroke-linejoin:round; stroke-width:4; stroke-opacity:1; fill:none\" points=\"156.598,65.7124 175.496,65.7124 \"/>\n",
       "<path clip-path=\"url(#clip340)\" d=\"M63.4226 1453.78 Q59.8115 1453.78 57.9828 1457.34 Q56.1773 1460.88 56.1773 1468.01 Q56.1773 1475.12 57.9828 1478.69 Q59.8115 1482.23 63.4226 1482.23 Q67.0569 1482.23 68.8624 1478.69 Q70.6911 1475.12 70.6911 1468.01 Q70.6911 1460.88 68.8624 1457.34 Q67.0569 1453.78 63.4226 1453.78 M63.4226 1450.07 Q69.2328 1450.07 72.2883 1454.68 Q75.367 1459.26 75.367 1468.01 Q75.367 1476.74 72.2883 1481.35 Q69.2328 1485.93 63.4226 1485.93 Q57.6125 1485.93 54.5338 1481.35 Q51.4782 1476.74 51.4782 1468.01 Q51.4782 1459.26 54.5338 1454.68 Q57.6125 1450.07 63.4226 1450.07 Z\" fill=\"#000000\" fill-rule=\"evenodd\" fill-opacity=\"1\" /><path clip-path=\"url(#clip340)\" d=\"M83.5845 1479.38 L88.4688 1479.38 L88.4688 1485.26 L83.5845 1485.26 L83.5845 1479.38 Z\" fill=\"#000000\" fill-rule=\"evenodd\" fill-opacity=\"1\" /><path clip-path=\"url(#clip340)\" d=\"M108.654 1453.78 Q105.043 1453.78 103.214 1457.34 Q101.409 1460.88 101.409 1468.01 Q101.409 1475.12 103.214 1478.69 Q105.043 1482.23 108.654 1482.23 Q112.288 1482.23 114.094 1478.69 Q115.922 1475.12 115.922 1468.01 Q115.922 1460.88 114.094 1457.34 Q112.288 1453.78 108.654 1453.78 M108.654 1450.07 Q114.464 1450.07 117.52 1454.68 Q120.598 1459.26 120.598 1468.01 Q120.598 1476.74 117.52 1481.35 Q114.464 1485.93 108.654 1485.93 Q102.844 1485.93 99.765 1481.35 Q96.7095 1476.74 96.7095 1468.01 Q96.7095 1459.26 99.765 1454.68 Q102.844 1450.07 108.654 1450.07 Z\" fill=\"#000000\" fill-rule=\"evenodd\" fill-opacity=\"1\" /><path clip-path=\"url(#clip340)\" d=\"M65.0198 1103.21 Q61.4087 1103.21 59.58 1106.78 Q57.7745 1110.32 57.7745 1117.45 Q57.7745 1124.55 59.58 1128.12 Q61.4087 1131.66 65.0198 1131.66 Q68.6541 1131.66 70.4596 1128.12 Q72.2883 1124.55 72.2883 1117.45 Q72.2883 1110.32 70.4596 1106.78 Q68.6541 1103.21 65.0198 1103.21 M65.0198 1099.51 Q70.83 1099.51 73.8855 1104.11 Q76.9642 1108.7 76.9642 1117.45 Q76.9642 1126.17 73.8855 1130.78 Q70.83 1135.36 65.0198 1135.36 Q59.2097 1135.36 56.131 1130.78 Q53.0754 1126.17 53.0754 1117.45 Q53.0754 1108.7 56.131 1104.11 Q59.2097 1099.51 65.0198 1099.51 Z\" fill=\"#000000\" fill-rule=\"evenodd\" fill-opacity=\"1\" /><path clip-path=\"url(#clip340)\" d=\"M85.1818 1128.81 L90.066 1128.81 L90.066 1134.69 L85.1818 1134.69 L85.1818 1128.81 Z\" fill=\"#000000\" fill-rule=\"evenodd\" fill-opacity=\"1\" /><path clip-path=\"url(#clip340)\" d=\"M104.279 1130.76 L120.598 1130.76 L120.598 1134.69 L98.6539 1134.69 L98.6539 1130.76 Q101.316 1128 105.899 1123.37 Q110.506 1118.72 111.686 1117.38 Q113.932 1114.85 114.811 1113.12 Q115.714 1111.36 115.714 1109.67 Q115.714 1106.92 113.77 1105.18 Q111.848 1103.44 108.746 1103.44 Q106.547 1103.44 104.094 1104.21 Q101.663 1104.97 98.8854 1106.52 L98.8854 1101.8 Q101.709 1100.67 104.163 1100.09 Q106.617 1099.51 108.654 1099.51 Q114.024 1099.51 117.219 1102.19 Q120.413 1104.88 120.413 1109.37 Q120.413 1111.5 119.603 1113.42 Q118.816 1115.32 116.709 1117.91 Q116.131 1118.58 113.029 1121.8 Q109.927 1124.99 104.279 1130.76 Z\" fill=\"#000000\" fill-rule=\"evenodd\" fill-opacity=\"1\" /><path clip-path=\"url(#clip340)\" d=\"M62.9365 752.645 Q59.3254 752.645 57.4967 756.209 Q55.6912 759.751 55.6912 766.881 Q55.6912 773.987 57.4967 777.552 Q59.3254 781.094 62.9365 781.094 Q66.5707 781.094 68.3763 777.552 Q70.205 773.987 70.205 766.881 Q70.205 759.751 68.3763 756.209 Q66.5707 752.645 62.9365 752.645 M62.9365 748.941 Q68.7467 748.941 71.8022 753.547 Q74.8809 758.131 74.8809 766.881 Q74.8809 775.608 71.8022 780.214 Q68.7467 784.797 62.9365 784.797 Q57.1264 784.797 54.0477 780.214 Q50.9921 775.608 50.9921 766.881 Q50.9921 758.131 54.0477 753.547 Q57.1264 748.941 62.9365 748.941 Z\" fill=\"#000000\" fill-rule=\"evenodd\" fill-opacity=\"1\" /><path clip-path=\"url(#clip340)\" d=\"M83.0984 778.246 L87.9827 778.246 L87.9827 784.126 L83.0984 784.126 L83.0984 778.246 Z\" fill=\"#000000\" fill-rule=\"evenodd\" fill-opacity=\"1\" /><path clip-path=\"url(#clip340)\" d=\"M111.015 753.64 L99.2095 772.089 L111.015 772.089 L111.015 753.64 M109.788 749.566 L115.668 749.566 L115.668 772.089 L120.598 772.089 L120.598 775.978 L115.668 775.978 L115.668 784.126 L111.015 784.126 L111.015 775.978 L95.4132 775.978 L95.4132 771.464 L109.788 749.566 Z\" fill=\"#000000\" fill-rule=\"evenodd\" fill-opacity=\"1\" /><path clip-path=\"url(#clip340)\" d=\"M63.2606 402.078 Q59.6495 402.078 57.8208 405.643 Q56.0152 409.184 56.0152 416.314 Q56.0152 423.42 57.8208 426.985 Q59.6495 430.527 63.2606 430.527 Q66.8948 430.527 68.7004 426.985 Q70.5291 423.42 70.5291 416.314 Q70.5291 409.184 68.7004 405.643 Q66.8948 402.078 63.2606 402.078 M63.2606 398.374 Q69.0707 398.374 72.1263 402.981 Q75.205 407.564 75.205 416.314 Q75.205 425.041 72.1263 429.647 Q69.0707 434.23 63.2606 434.23 Q57.4504 434.23 54.3717 429.647 Q51.3162 425.041 51.3162 416.314 Q51.3162 407.564 54.3717 402.981 Q57.4504 398.374 63.2606 398.374 Z\" fill=\"#000000\" fill-rule=\"evenodd\" fill-opacity=\"1\" /><path clip-path=\"url(#clip340)\" d=\"M83.4225 427.68 L88.3067 427.68 L88.3067 433.559 L83.4225 433.559 L83.4225 427.68 Z\" fill=\"#000000\" fill-rule=\"evenodd\" fill-opacity=\"1\" /><path clip-path=\"url(#clip340)\" d=\"M109.071 414.416 Q105.922 414.416 104.071 416.569 Q102.242 418.721 102.242 422.471 Q102.242 426.198 104.071 428.374 Q105.922 430.527 109.071 430.527 Q112.219 430.527 114.047 428.374 Q115.899 426.198 115.899 422.471 Q115.899 418.721 114.047 416.569 Q112.219 414.416 109.071 414.416 M118.353 399.763 L118.353 404.022 Q116.594 403.189 114.788 402.749 Q113.006 402.309 111.246 402.309 Q106.617 402.309 104.163 405.434 Q101.733 408.559 101.385 414.879 Q102.751 412.865 104.811 411.8 Q106.871 410.712 109.348 410.712 Q114.557 410.712 117.566 413.883 Q120.598 417.031 120.598 422.471 Q120.598 427.795 117.45 431.013 Q114.302 434.23 109.071 434.23 Q103.075 434.23 99.9039 429.647 Q96.7326 425.041 96.7326 416.314 Q96.7326 408.119 100.621 403.258 Q104.51 398.374 111.061 398.374 Q112.82 398.374 114.603 398.721 Q116.408 399.069 118.353 399.763 Z\" fill=\"#000000\" fill-rule=\"evenodd\" fill-opacity=\"1\" /><path clip-path=\"url(#clip340)\" d=\"M63.5152 51.5111 Q59.9041 51.5111 58.0754 55.0758 Q56.2699 58.6175 56.2699 65.7471 Q56.2699 72.8535 58.0754 76.4183 Q59.9041 79.96 63.5152 79.96 Q67.1494 79.96 68.955 76.4183 Q70.7837 72.8535 70.7837 65.7471 Q70.7837 58.6175 68.955 55.0758 Q67.1494 51.5111 63.5152 51.5111 M63.5152 47.8074 Q69.3254 47.8074 72.3809 52.4138 Q75.4596 56.9971 75.4596 65.7471 Q75.4596 74.4739 72.3809 79.0803 Q69.3254 83.6637 63.5152 83.6637 Q57.7051 83.6637 54.6264 79.0803 Q51.5708 74.4739 51.5708 65.7471 Q51.5708 56.9971 54.6264 52.4138 Q57.7051 47.8074 63.5152 47.8074 Z\" fill=\"#000000\" fill-rule=\"evenodd\" fill-opacity=\"1\" /><path clip-path=\"url(#clip340)\" d=\"M83.6771 77.1128 L88.5614 77.1128 L88.5614 82.9924 L83.6771 82.9924 L83.6771 77.1128 Z\" fill=\"#000000\" fill-rule=\"evenodd\" fill-opacity=\"1\" /><path clip-path=\"url(#clip340)\" d=\"M108.746 66.5804 Q105.413 66.5804 103.492 68.3628 Q101.594 70.1452 101.594 73.2702 Q101.594 76.3952 103.492 78.1776 Q105.413 79.96 108.746 79.96 Q112.08 79.96 114.001 78.1776 Q115.922 76.372 115.922 73.2702 Q115.922 70.1452 114.001 68.3628 Q112.103 66.5804 108.746 66.5804 M104.071 64.5897 Q101.061 63.8489 99.3715 61.7888 Q97.7048 59.7286 97.7048 56.7657 Q97.7048 52.6222 100.645 50.2148 Q103.608 47.8074 108.746 47.8074 Q113.908 47.8074 116.848 50.2148 Q119.788 52.6222 119.788 56.7657 Q119.788 59.7286 118.098 61.7888 Q116.432 63.8489 113.445 64.5897 Q116.825 65.3767 118.7 67.6684 Q120.598 69.96 120.598 73.2702 Q120.598 78.2933 117.52 80.9785 Q114.464 83.6637 108.746 83.6637 Q103.029 83.6637 99.9502 80.9785 Q96.8947 78.2933 96.8947 73.2702 Q96.8947 69.96 98.7928 67.6684 Q100.691 65.3767 104.071 64.5897 M102.358 57.2055 Q102.358 59.8906 104.024 61.3953 Q105.714 62.8999 108.746 62.8999 Q111.756 62.8999 113.445 61.3953 Q115.158 59.8906 115.158 57.2055 Q115.158 54.5203 113.445 53.0157 Q111.756 51.5111 108.746 51.5111 Q105.714 51.5111 104.024 53.0157 Q102.358 54.5203 102.358 57.2055 Z\" fill=\"#000000\" fill-rule=\"evenodd\" fill-opacity=\"1\" /><polyline clip-path=\"url(#clip342)\" style=\"stroke:#009af9; stroke-linecap:round; stroke-linejoin:round; stroke-width:4; stroke-opacity:1; fill:none\" points=\"218.754,1292.7 218.754,690.336 218.754,87.9763 1254.68,1369.21 1254.68,1029.77 1254.68,690.336 2290.6,1445.72 2290.6,1369.21 2290.6,1292.7 \"/>\n",
       "<circle clip-path=\"url(#clip342)\" cx=\"218.754\" cy=\"1292.7\" r=\"7.2\" fill=\"#009af9\" fill-rule=\"evenodd\" fill-opacity=\"1\" stroke=\"#000000\" stroke-opacity=\"1\" stroke-width=\"3.2\"/>\n",
       "<circle clip-path=\"url(#clip342)\" cx=\"218.754\" cy=\"690.336\" r=\"7.2\" fill=\"#009af9\" fill-rule=\"evenodd\" fill-opacity=\"1\" stroke=\"#000000\" stroke-opacity=\"1\" stroke-width=\"3.2\"/>\n",
       "<circle clip-path=\"url(#clip342)\" cx=\"218.754\" cy=\"87.9763\" r=\"7.2\" fill=\"#009af9\" fill-rule=\"evenodd\" fill-opacity=\"1\" stroke=\"#000000\" stroke-opacity=\"1\" stroke-width=\"3.2\"/>\n",
       "<circle clip-path=\"url(#clip342)\" cx=\"1254.68\" cy=\"1369.21\" r=\"7.2\" fill=\"#009af9\" fill-rule=\"evenodd\" fill-opacity=\"1\" stroke=\"#000000\" stroke-opacity=\"1\" stroke-width=\"3.2\"/>\n",
       "<circle clip-path=\"url(#clip342)\" cx=\"1254.68\" cy=\"1029.77\" r=\"7.2\" fill=\"#009af9\" fill-rule=\"evenodd\" fill-opacity=\"1\" stroke=\"#000000\" stroke-opacity=\"1\" stroke-width=\"3.2\"/>\n",
       "<circle clip-path=\"url(#clip342)\" cx=\"1254.68\" cy=\"690.336\" r=\"7.2\" fill=\"#009af9\" fill-rule=\"evenodd\" fill-opacity=\"1\" stroke=\"#000000\" stroke-opacity=\"1\" stroke-width=\"3.2\"/>\n",
       "<circle clip-path=\"url(#clip342)\" cx=\"2290.6\" cy=\"1445.72\" r=\"7.2\" fill=\"#009af9\" fill-rule=\"evenodd\" fill-opacity=\"1\" stroke=\"#000000\" stroke-opacity=\"1\" stroke-width=\"3.2\"/>\n",
       "<circle clip-path=\"url(#clip342)\" cx=\"2290.6\" cy=\"1369.21\" r=\"7.2\" fill=\"#009af9\" fill-rule=\"evenodd\" fill-opacity=\"1\" stroke=\"#000000\" stroke-opacity=\"1\" stroke-width=\"3.2\"/>\n",
       "<circle clip-path=\"url(#clip342)\" cx=\"2290.6\" cy=\"1292.7\" r=\"7.2\" fill=\"#009af9\" fill-rule=\"evenodd\" fill-opacity=\"1\" stroke=\"#000000\" stroke-opacity=\"1\" stroke-width=\"3.2\"/>\n",
       "<path clip-path=\"url(#clip340)\" d=\"M2007.5 198.898 L2279.55 198.898 L2279.55 95.2176 L2007.5 95.2176  Z\" fill=\"#ffffff\" fill-rule=\"evenodd\" fill-opacity=\"1\"/>\n",
       "<polyline clip-path=\"url(#clip340)\" style=\"stroke:#000000; stroke-linecap:round; stroke-linejoin:round; stroke-width:4; stroke-opacity:1; fill:none\" points=\"2007.5,198.898 2279.55,198.898 2279.55,95.2176 2007.5,95.2176 2007.5,198.898 \"/>\n",
       "<polyline clip-path=\"url(#clip340)\" style=\"stroke:#009af9; stroke-linecap:round; stroke-linejoin:round; stroke-width:4; stroke-opacity:1; fill:none\" points=\"2031.91,147.058 2178.32,147.058 \"/>\n",
       "<circle clip-path=\"url(#clip340)\" cx=\"2105.11\" cy=\"147.058\" r=\"20.3348\" fill=\"#009af9\" fill-rule=\"evenodd\" fill-opacity=\"1\" stroke=\"#000000\" stroke-opacity=\"1\" stroke-width=\"10.24\"/>\n",
       "<path clip-path=\"url(#clip340)\" d=\"M2216.56 166.745 Q2214.76 171.375 2213.04 172.787 Q2211.33 174.199 2208.46 174.199 L2205.06 174.199 L2205.06 170.634 L2207.56 170.634 Q2209.32 170.634 2210.29 169.8 Q2211.26 168.967 2212.44 165.865 L2213.2 163.921 L2202.72 138.412 L2207.23 138.412 L2215.33 158.689 L2223.44 138.412 L2227.95 138.412 L2216.56 166.745 Z\" fill=\"#000000\" fill-rule=\"evenodd\" fill-opacity=\"1\" /><path clip-path=\"url(#clip340)\" d=\"M2235.24 160.402 L2242.88 160.402 L2242.88 134.037 L2234.57 135.703 L2234.57 131.444 L2242.83 129.778 L2247.51 129.778 L2247.51 160.402 L2255.15 160.402 L2255.15 164.338 L2235.24 164.338 L2235.24 160.402 Z\" fill=\"#000000\" fill-rule=\"evenodd\" fill-opacity=\"1\" /></svg>\n"
      ]
     },
     "execution_count": 41,
     "metadata": {},
     "output_type": "execute_result"
    }
   ],
   "source": [
    "xxi = [xi1[1] for xi1 in xi]\n",
    "yxi = [xi1[2] for xi1 in xi]\n",
    "plot(xxi, yxi,marker=2)\n",
    "# display(xxi)\n",
    "# display(yxi)"
   ]
  },
  {
   "cell_type": "code",
   "execution_count": null,
   "id": "08796dbf",
   "metadata": {},
   "outputs": [],
   "source": []
  },
  {
   "cell_type": "code",
   "execution_count": 18,
   "id": "95d2cb55",
   "metadata": {},
   "outputs": [
    {
     "data": {
      "text/plain": [
       "3×3 Matrix{Float64}:\n",
       " -1.0  1.0  0.0\n",
       " -1.0  0.0  1.0\n",
       "  1.0  0.0  0.0"
      ]
     },
     "execution_count": 18,
     "metadata": {},
     "output_type": "execute_result"
    }
   ],
   "source": [
    "# computation of the coefficients of the basis functions \n",
    "x = [[0.,0.], [1.,0], [0.,1.]]\n",
    "X = [[x1[1], x1[2], 1] for x1 in x]\n",
    "X = reduce(vcat,transpose(X))\n",
    "I = [1. 0 0; 0 1. 0; 0 0 1.]; \n",
    "Emat = X\\I"
   ]
  },
  {
   "cell_type": "code",
   "execution_count": 55,
   "id": "c7901696",
   "metadata": {},
   "outputs": [
    {
     "data": {
      "text/plain": [
       "9×3 Matrix{Int64}:\n",
       " 1  0  0\n",
       " 1  0  0\n",
       " 1  0  0\n",
       " 1  0  0\n",
       " 1  0  0\n",
       " 1  0  0\n",
       " 1  0  0\n",
       " 1  0  0\n",
       " 1  0  0"
      ]
     },
     "metadata": {},
     "output_type": "display_data"
    }
   ],
   "source": [
    "# set coordinates of physical point \n",
    "x1 = [0.,0.]; x2 = [2.,0.]; x3 = [0.,2.];  \n",
    "T = zeros(2,2); T[:,1] = x2 - x1; T[:,2] = x3 - x1; \n",
    "# vector of quadrature points on the physical finite element \n",
    "xs = [T*xi1+x1 for xi1 in xi];\n",
    "# Vandermonde Matrix for evaluation of the basis functions\n",
    "Xs = zeros(length(w),3);   \n",
    "Xs = [[xs1[1], xs1[2], 1] for xs1 in xs];\n",
    "Xs = reduce(vcat,transpose(Xs))\n",
    "# Vandermonde Matrix for evaluation of the x/y derivatives of basis functions\n",
    "dxXs = zeros(length(w),3);\n",
    "dxXs = [[1, 0, 0] for xs1 in xs];\n",
    "dxXs = reduce(vcat,transpose(dxXs))\n",
    "dyXs = zeros(length(w),3);\n",
    "dyXs = [[0, 1, 0] for xs1 in xs];\n",
    "dyXs = reduce(vcat,transpose(dyXs))\n",
    "display(dxXs)"
   ]
  },
  {
   "cell_type": "code",
   "execution_count": 58,
   "id": "015a5433",
   "metadata": {},
   "outputs": [
    {
     "data": {
      "text/plain": [
       "9×3 Matrix{Float64}:\n",
       " -1.0  0.0  1.0\n",
       " -1.0  0.0  1.0\n",
       " -1.0  0.0  1.0\n",
       " -1.0  0.0  1.0\n",
       " -1.0  0.0  1.0\n",
       " -1.0  0.0  1.0\n",
       " -1.0  0.0  1.0\n",
       " -1.0  0.0  1.0\n",
       " -1.0  0.0  1.0"
      ]
     },
     "metadata": {},
     "output_type": "display_data"
    }
   ],
   "source": [
    "# column basis and derivative of the basis vectors  \n",
    "Phi   = Xs*Emat; \n",
    "dxPhi = dxXs*Emat; \n",
    "dyPhi = dyXs*Emat; \n",
    "display(dyPhi)"
   ]
  },
  {
   "cell_type": "code",
   "execution_count": 70,
   "id": "6a234a52",
   "metadata": {},
   "outputs": [
    {
     "data": {
      "text/plain": [
       "3×3 reshape(transpose(::Vector{Float64}), 3, 3) with eltype Float64:\n",
       "  1.0  -0.5  -0.5\n",
       " -0.5   0.5   0.0\n",
       " -0.5   0.0   0.5"
      ]
     },
     "metadata": {},
     "output_type": "display_data"
    }
   ],
   "source": [
    "dxPhidxPhi = zeros(length(w),9);\n",
    "[dxPhidxPhi[:,(j-1)*3+i] = dxPhi[:,i].*dxPhi[:,j] for i=1:3,j=1:3];\n",
    "dyPhidyPhi = zeros(length(w),9);\n",
    "[dyPhidyPhi[:,(j-1)*3+i] = dyPhi[:,i].*dyPhi[:,j] for i=1:3,j=1:3];\n",
    "dPhidPhi = dxPhidxPhi + dyPhidyPhi; \n",
    "area = area_triangle(x1,x2,x3)\n",
    "Aloc = 2*area*Transpose(w)*dPhidPhi\n",
    "display(reshape(Aloc,3,3))"
   ]
  },
  {
   "cell_type": "code",
   "execution_count": null,
   "id": "19089b75",
   "metadata": {},
   "outputs": [],
   "source": []
  }
 ],
 "metadata": {
  "kernelspec": {
   "display_name": "Julia 1.8.1",
   "language": "julia",
   "name": "julia-1.8"
  },
  "language_info": {
   "file_extension": ".jl",
   "mimetype": "application/julia",
   "name": "julia",
   "version": "1.8.1"
  }
 },
 "nbformat": 4,
 "nbformat_minor": 5
}
