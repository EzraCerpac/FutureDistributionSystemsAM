{
 "cells": [
  {
   "cell_type": "markdown",
   "id": "7849702b",
   "metadata": {},
   "source": [
    "# MoM for Spherical Shell with Analytical Reference by Composing hcubature and forwardDiff \n",
    "\n",
    "Goal of this notebook is to perform MoM computations for the spherical shell test case with an analytical reference solution by \n",
    "1. allowing forwardDiff to operate twice on the output of hcubature to generate the MoM matrix; \n",
    "2. solve the MoM linear systems using a direct solver. \n",
    "\n",
    "As mesh, we use a uniform mesh of 90-degree cubes in space of spherical coordinates spanning the spherical shell source domain. \n",
    "\n",
    "As basis function, we use either constant functions or tensor products of constant and linear functions (other basis functions can in principle be used as well). \n",
    "\n",
    "We allow for collocation and Galerkin method. \n",
    "\n",
    "The analytical solution for magnetization vector, magnetic vector potential and magnetic flux provides intermediate reference results. "
   ]
  },
  {
   "cell_type": "markdown",
   "id": "822bae6a",
   "metadata": {},
   "source": [
    "## Import Packages"
   ]
  },
  {
   "cell_type": "code",
   "execution_count": 2,
   "id": "868a432f",
   "metadata": {},
   "outputs": [],
   "source": [
    "using ForwardDiff\n",
    "using QuadGK\n",
    "using HCubature \n",
    "using StaticArrays \n",
    "using LinearAlgebra\n",
    "using BenchmarkTools\n",
    "using Plots"
   ]
  },
  {
   "cell_type": "code",
   "execution_count": 3,
   "id": "899a1b86",
   "metadata": {},
   "outputs": [],
   "source": [
    "# a point in 3D is a tuple of 3 coordinates \n",
    "# we here introduce static vectors that appear to be vital to reduce the number of allocations \n",
    "const Point3D = SVector{3,Float64};"
   ]
  },
  {
   "cell_type": "code",
   "execution_count": 22,
   "id": "20c9768a",
   "metadata": {},
   "outputs": [
    {
     "data": {
      "text/plain": [
       "3×3 Matrix{SVector{3, Float64}}:\n",
       " [0.0, 0.0, 0.0]  [0.0, 0.0, 0.0]  [0.0, 0.0, 0.0]\n",
       " [0.0, 0.0, 0.0]  [0.0, 0.0, 0.0]  [0.0, 0.0, 0.0]\n",
       " [0.0, 0.0, 0.0]  [0.0, 0.0, 0.0]  [0.0, 0.0, 0.0]"
      ]
     },
     "execution_count": 22,
     "metadata": {},
     "output_type": "execute_result"
    }
   ],
   "source": [
    "zeros(Point3D,3,3)"
   ]
  },
  {
   "cell_type": "markdown",
   "id": "8c9c6955",
   "metadata": {},
   "source": [
    "## To do (Lisette?)\n",
    "\n",
    "1. decompose the $\\phi$-component of $\\vec{A}$ into cartesian basis vectors. Plot 3 cartesian components seperately as function of $(r,\\theta,\\phi)$ over the spherical shell; \n",
    "2. steal definitions of constants $\\beta_1$ and $\\gamma_1$ from Lisette's notebook;"
   ]
  },
  {
   "cell_type": "markdown",
   "id": "36fc22a4",
   "metadata": {},
   "source": [
    "## Section 1: Introduction \n",
    "In this notebook, we perform computations in various steps described below. \n",
    "\n",
    "<b>Spherical Coordinate System</b> \n",
    "We use the spherical coordinate system $\\vec{r}(r,\\theta,\\phi)$ with [physical convection](https://en.wikipedia.org/wiki/Spherical_coordinate_system) with $0<r<\\infty$, $0 \\leq \\theta \\leq \\pi$ and $0 \\leq \\phi < 2 \\pi$. Using these coordinates, the volume of a sphere with radius $R$ is given by \n",
    "\n",
    "$$\n",
    "\\int_0^{R} \\int_0^{\\pi} \\int_0^{2\\pi}\n",
    "r^2 \\sin(\\theta) \\, dr \\, d\\theta \\, d\\phi = 4/3 \\pi \\, R^3 \\, .  \n",
    "$$\n",
    "\n",
    "We will use this (and similar) computations as a reference for our numerical computations below. \n",
    "\n",
    "<b>References</b>\n",
    "1. wiki on [spherical coordinates](https://en.wikipedia.org/wiki/Spherical_coordinate_system); \n",
    "2. (uses different convention, but has expression for the basis vectors) Expressions for [spherical coordinates](https://dynref.engr.illinois.edu/rvs.html);  "
   ]
  },
  {
   "cell_type": "markdown",
   "id": "7a9bdfe2",
   "metadata": {},
   "source": [
    "## Section 2: Set Constant for Test Case "
   ]
  },
  {
   "cell_type": "code",
   "execution_count": 4,
   "id": "36b97399",
   "metadata": {},
   "outputs": [],
   "source": [
    "# inner and outer radius of spherical shell \n",
    "Ra = 1; Rb = 2;"
   ]
  },
  {
   "cell_type": "markdown",
   "id": "c9329b00",
   "metadata": {},
   "source": [
    "## Section 3: Volume Integration over the Spherical Shell in Spherical Coordinates \n",
    "\n",
    "This section is meant to be independent of the method of moment method. "
   ]
  },
  {
   "cell_type": "markdown",
   "id": "2e9b0edf",
   "metadata": {},
   "source": [
    "### Section 1.3: Generate Uniform Mesh in (r_p, theta_p, phi_p) space"
   ]
  },
  {
   "cell_type": "code",
   "execution_count": 5,
   "id": "8fbba80e",
   "metadata": {},
   "outputs": [],
   "source": [
    "# loop over midpoints of elements \n",
    "Nr = 1; hr = (Rb-Ra)/Nr;\n",
    "rmesh = Vector(Ra:hr:Rb)\n",
    "Nt = 5; ht = π/Nt\n",
    "tmesh = Vector(0:ht:π)\n",
    "Np = 5; hp = 2*π/Np\n",
    "pmesh = Vector(0:hp:2*π)\n",
    "for ri in rmesh[1:end-1] \n",
    "    for tj in tmesh[1:end-1] \n",
    "        for pk in pmesh[1:end-1]\n",
    "            mid = Point3D(ri+hr/2,tj+ht/2,pk+hp/2)\n",
    "            # display(mid)\n",
    "        end \n",
    "   end \n",
    "end "
   ]
  },
  {
   "cell_type": "markdown",
   "id": "21f64ad8",
   "metadata": {},
   "source": [
    "### Section 2.3: Scalar Case \n",
    "Remark: we deliberately evaluate the integral in the dow-lower-left corner of the cell. Compared to Lisette, we take a shortcut. We rely on the difference to be small as the mesh is refined. "
   ]
  },
  {
   "cell_type": "code",
   "execution_count": 6,
   "id": "52cf216e",
   "metadata": {},
   "outputs": [
    {
     "data": {
      "text/plain": [
       "29.32153143350823"
      ]
     },
     "metadata": {},
     "output_type": "display_data"
    },
    {
     "data": {
      "text/plain": [
       "29.321531433504735"
      ]
     },
     "metadata": {},
     "output_type": "display_data"
    }
   ],
   "source": [
    "# test integration assuming integrand for which answer can be checked analytically \n",
    "function settoone(rp)\n",
    "    return 1.0\n",
    "end \n",
    "\n",
    "# set analytical reference solution \n",
    "anal_result = 4/3*π*(Rb^3-Ra^3)\n",
    "\n",
    "# loop over midpoints of elements \n",
    "Nr = 1; hr = (Rb-Ra)/Nr;\n",
    "rmesh = Vector(Ra:hr:Rb)\n",
    "Nt = 5; ht = π/Nt\n",
    "tmesh = Vector(0:ht:π)\n",
    "Np = 5; hp = 2*π/Np\n",
    "pmesh = Vector(0:hp:2*π)\n",
    "result = zeros(Nr,Nt,Np)\n",
    "for (i,ri) in enumerate(rmesh[1:end-1])\n",
    "    for (j,tj) in enumerate(tmesh[1:end-1])\n",
    "        for (k,pk) in enumerate(pmesh[1:end-1])\n",
    "            mid = Point3D(ri+hr/2,tj+ht/2,pk+hp/2)\n",
    "            # display(mid)\n",
    "            result[i,j,k] = hcubature(rp -> settoone(rp)*rp[1]*rp[1]*sin(rp[2]), (ri,tj,pk), (ri+hr,tj+ht,pk+hp))[1]\n",
    "        end \n",
    "   end \n",
    "end \n",
    "display(sum(result)) \n",
    "\n",
    "display(anal_result)"
   ]
  },
  {
   "cell_type": "code",
   "execution_count": 7,
   "id": "d4846dd4",
   "metadata": {},
   "outputs": [
    {
     "data": {
      "text/plain": [
       "looprprimeScalar (generic function with 1 method)"
      ]
     },
     "execution_count": 7,
     "metadata": {},
     "output_type": "execute_result"
    }
   ],
   "source": [
    "# ugly and inefficient - fix later \n",
    "function looprprimeScalar(integrand,rmesh,tmesh,pmesh)\n",
    "\n",
    "    Nr = length(rmesh)\n",
    "    Nt = length(tmesh)\n",
    "    Np = length(pmesh)\n",
    "    partialresult = zeros(Nr,Nt,Np)\n",
    "    for (i,ri) in enumerate(rmesh[1:end-1])\n",
    "       for (j,tj) in enumerate(tmesh[1:end-1])\n",
    "          for (k,pk) in enumerate(pmesh[1:end-1])\n",
    "             partialresult[i,j,k] = hcubature(rp -> integrand(rp)*rp[1]*rp[1]*sin(rp[2]), (ri,tj,pk), (ri+hr,tj+ht,pk+hp))[1]\n",
    "          end \n",
    "       end \n",
    "    end\n",
    "    \n",
    "    result = sum(partialresult)\n",
    "    return result \n",
    "end "
   ]
  },
  {
   "cell_type": "code",
   "execution_count": 10,
   "id": "3f166fbf",
   "metadata": {},
   "outputs": [
    {
     "data": {
      "text/plain": [
       "29.321531433508227"
      ]
     },
     "metadata": {},
     "output_type": "display_data"
    },
    {
     "data": {
      "text/plain": [
       "29.321531433504735"
      ]
     },
     "metadata": {},
     "output_type": "display_data"
    }
   ],
   "source": [
    "function settoone(rp)\n",
    "    return 1.0 \n",
    "end \n",
    "\n",
    "# set analytical reference solution \n",
    "anal_result = 4/3*π*(Rb^3-Ra^3)\n",
    "\n",
    "Nr = 1; hr = (Rb-Ra)/Nr;\n",
    "rmesh = Vector(Ra:hr:Rb)\n",
    "Nt = 5; ht = π/Nt\n",
    "tmesh = Vector(0:ht:π)\n",
    "Np = 5; hp = 2*π/Np\n",
    "pmesh = Vector(0:hp:2*π)\n",
    "\n",
    "result = looprprimeScalar(settoone,rmesh,tmesh,pmesh)\n",
    "\n",
    "display(result) \n",
    "\n",
    "display(anal_result)"
   ]
  },
  {
   "cell_type": "markdown",
   "id": "c1689ab9",
   "metadata": {},
   "source": [
    "### Section 3.3: Scalar Function Case"
   ]
  },
  {
   "cell_type": "code",
   "execution_count": 31,
   "id": "32af08bc",
   "metadata": {},
   "outputs": [
    {
     "data": {
      "text/plain": [
       "looprprimeFunction (generic function with 1 method)"
      ]
     },
     "execution_count": 31,
     "metadata": {},
     "output_type": "execute_result"
    }
   ],
   "source": [
    "function looprprimeFunction(r,integrand::Function,rmesh,tmesh,pmesh)\n",
    "\n",
    "    Nr = length(rmesh)\n",
    "    Nt = length(tmesh)\n",
    "    Np = length(pmesh)\n",
    "    partialresult = zeros(Point3D,Nr,Nt,Np)\n",
    "    for (i,ri) in enumerate(rmesh[1:end-1])\n",
    "       for (j,tj) in enumerate(tmesh[1:end-1])\n",
    "          for (k,pk) in enumerate(pmesh[1:end-1])\n",
    "             mid = Point3D(ri+hr/2,tj+ht/2,pk+hp/2)\n",
    "             # display(mid)\n",
    "             partialresult[i,j,k] = hcubature(rp -> integrand(r,rp)*rp[1]*rp[1]*sin(rp[2]), (ri,tj,pk), (ri+hr,tj+ht,pk+hp))[1]\n",
    "          end \n",
    "       end \n",
    "    end\n",
    "    \n",
    "    result = sum(partialresult)\n",
    "    return result \n",
    "end "
   ]
  },
  {
   "cell_type": "code",
   "execution_count": 16,
   "id": "cb4a5246",
   "metadata": {},
   "outputs": [
    {
     "data": {
      "text/plain": [
       "-17.802358370345083"
      ]
     },
     "execution_count": 16,
     "metadata": {},
     "output_type": "execute_result"
    }
   ],
   "source": [
    "function scalarIntegrand(r,rprime)\n",
    "    return r[1] - rprime[1]\n",
    "end \n",
    "\n",
    "# loop over midpoints of elements \n",
    "Nr = 1; hr = (Rb-Ra)/Nr;\n",
    "rmesh = Vector(Ra:hr:Rb)\n",
    "Nt = 5; ht = π/Nt\n",
    "tmesh = Vector(0:ht:π)\n",
    "Np = 5; hp = 2*π/Np\n",
    "pmesh = Vector(0:hp:2*π)\n",
    "\n",
    "corner = Point3D(rmesh[1],tmesh[1],pmesh[1])\n",
    "\n",
    "result = looprprimeFunction(corner,scalarIntegrand,rmesh,tmesh,pmesh)"
   ]
  },
  {
   "cell_type": "code",
   "execution_count": 20,
   "id": "943bc0ea",
   "metadata": {},
   "outputs": [
    {
     "data": {
      "text/plain": [
       "2×5×5 Array{Float64, 3}:\n",
       "[:, :, 1] =\n",
       " -17.8024   -17.8024   -17.8024   -17.8024   -17.8024\n",
       "  -3.14159   -3.14159   -3.14159   -3.14159   -3.14159\n",
       "\n",
       "[:, :, 2] =\n",
       " -17.8024   -17.8024   -17.8024   -17.8024   -17.8024\n",
       "  -3.14159   -3.14159   -3.14159   -3.14159   -3.14159\n",
       "\n",
       "[:, :, 3] =\n",
       " -17.8024   -17.8024   -17.8024   -17.8024   -17.8024\n",
       "  -3.14159   -3.14159   -3.14159   -3.14159   -3.14159\n",
       "\n",
       "[:, :, 4] =\n",
       " -17.8024   -17.8024   -17.8024   -17.8024   -17.8024\n",
       "  -3.14159   -3.14159   -3.14159   -3.14159   -3.14159\n",
       "\n",
       "[:, :, 5] =\n",
       " -17.8024   -17.8024   -17.8024   -17.8024   -17.8024\n",
       "  -3.14159   -3.14159   -3.14159   -3.14159   -3.14159"
      ]
     },
     "execution_count": 20,
     "metadata": {},
     "output_type": "execute_result"
    }
   ],
   "source": [
    "# test integration assuming integrand for which answer can be checked analytically \n",
    "function scalarIntegrand(r,rprime)\n",
    "    return r[1] - rprime[1]\n",
    "end \n",
    "\n",
    "# loop over midpoints of elements \n",
    "Nr = 2; hr = (Rb-Ra)/Nr;\n",
    "rmesh = Vector(Ra:hr:Rb)\n",
    "Nt = 5; ht = π/Nt\n",
    "tmesh = Vector(0:ht:π)\n",
    "Np = 5; hp = 2*π/Np\n",
    "pmesh = Vector(0:hp:2*π)\n",
    "result = zeros(Nr,Nt,Np)\n",
    "for (i,ri) in enumerate(rmesh[1:end-1])\n",
    "    for (j,tj) in enumerate(tmesh[1:end-1])\n",
    "        for (k,pk) in enumerate(pmesh[1:end-1])\n",
    "            corner = Point3D(ri,tj,pk)\n",
    "            # display(mid)\n",
    "            result[i,j,k] = looprprimeFunction(corner,scalarIntegrand,rmesh,tmesh,pmesh)\n",
    "        end \n",
    "   end \n",
    "end \n",
    "result"
   ]
  },
  {
   "cell_type": "code",
   "execution_count": 33,
   "id": "8ee69219",
   "metadata": {},
   "outputs": [
    {
     "data": {
      "text/plain": [
       "3-element SVector{3, Float64} with indices SOneTo(3):\n",
       " -17.80235837035287\n",
       " -46.05815387175555\n",
       " -92.11630774351073"
      ]
     },
     "execution_count": 33,
     "metadata": {},
     "output_type": "execute_result"
    }
   ],
   "source": [
    "function scalarIntegrand(r,rprime)\n",
    "    return r - rprime\n",
    "end \n",
    "\n",
    "# loop over midpoints of elements \n",
    "Nr = 1; hr = (Rb-Ra)/Nr;\n",
    "rmesh = Vector(Ra:hr:Rb)\n",
    "Nt = 5; ht = π/Nt\n",
    "tmesh = Vector(0:ht:π)\n",
    "Np = 5; hp = 2*π/Np\n",
    "pmesh = Vector(0:hp:2*π)\n",
    "\n",
    "corner = Point3D(rmesh[1],tmesh[1],pmesh[1])\n",
    "\n",
    "point2 = Point3D(rmesh[2],tmesh[2],pmesh[2])\n",
    "\n",
    "scalarIntegrand(corner, point2)\n",
    "\n",
    "hcubature(rp -> scalarIntegrand(corner,rp)*rp[1]*rp[1]*sin(rp[2]), (rmesh[1],tmesh[1],pmesh[1]), (rmesh[2],tmesh[2],pmesh[2]))[1]\n",
    "\n",
    "result = looprprimeFunction(corner,scalarIntegrand,rmesh,tmesh,pmesh)"
   ]
  },
  {
   "cell_type": "code",
   "execution_count": 34,
   "id": "58e281b4",
   "metadata": {},
   "outputs": [
    {
     "data": {
      "text/plain": [
       "2×5×5 Array{SVector{3, Float64}, 3}:\n",
       "[:, :, 1] =\n",
       " [-17.8024, -46.0582, -92.1163]  …  [-17.8024, 27.6349, -92.1163]\n",
       " [-3.14159, -46.0582, -92.1163]     [-3.14159, 27.6349, -92.1163]\n",
       "\n",
       "[:, :, 2] =\n",
       " [-17.8024, -46.0582, -55.2698]  …  [-17.8024, 27.6349, -55.2698]\n",
       " [-3.14159, -46.0582, -55.2698]     [-3.14159, 27.6349, -55.2698]\n",
       "\n",
       "[:, :, 3] =\n",
       " [-17.8024, -46.0582, -18.4233]  …  [-17.8024, 27.6349, -18.4233]\n",
       " [-3.14159, -46.0582, -18.4233]     [-3.14159, 27.6349, -18.4233]\n",
       "\n",
       "[:, :, 4] =\n",
       " [-17.8024, -46.0582, 18.4233]  …  [-17.8024, 27.6349, 18.4233]\n",
       " [-3.14159, -46.0582, 18.4233]     [-3.14159, 27.6349, 18.4233]\n",
       "\n",
       "[:, :, 5] =\n",
       " [-17.8024, -46.0582, 55.2698]  …  [-17.8024, 27.6349, 55.2698]\n",
       " [-3.14159, -46.0582, 55.2698]     [-3.14159, 27.6349, 55.2698]"
      ]
     },
     "execution_count": 34,
     "metadata": {},
     "output_type": "execute_result"
    }
   ],
   "source": [
    "function scalarIntegrand(r,rprime)\n",
    "    return r - rprime\n",
    "end \n",
    "\n",
    "# loop over midpoints of elements \n",
    "Nr = 2; hr = (Rb-Ra)/Nr;\n",
    "rmesh = Vector(Ra:hr:Rb)\n",
    "Nt = 5; ht = π/Nt\n",
    "tmesh = Vector(0:ht:π)\n",
    "Np = 5; hp = 2*π/Np\n",
    "pmesh = Vector(0:hp:2*π)\n",
    "result = zeros(Point3D,Nr,Nt,Np)\n",
    "for (i,ri) in enumerate(rmesh[1:end-1])\n",
    "    for (j,tj) in enumerate(tmesh[1:end-1])\n",
    "        for (k,pk) in enumerate(pmesh[1:end-1])\n",
    "            corner = Point3D(ri,tj,pk)\n",
    "            # display(mid)\n",
    "            result[i,j,k] = looprprimeFunction(corner,scalarIntegrand,rmesh,tmesh,pmesh)\n",
    "        end \n",
    "   end \n",
    "end \n",
    "result"
   ]
  },
  {
   "cell_type": "markdown",
   "id": "bfdc4a25",
   "metadata": {},
   "source": [
    "### Section 4.3: Vector Function Case - Regular Kernel \n",
    "\n",
    "### Section 5.3: Vector Function Case - Singular Kernel "
   ]
  },
  {
   "cell_type": "code",
   "execution_count": null,
   "id": "ebad89ed",
   "metadata": {},
   "outputs": [],
   "source": []
  },
  {
   "cell_type": "markdown",
   "id": "a627f98a",
   "metadata": {},
   "source": [
    "## Section 4: Given Magnetization Vector, Compute Vector Potential\n",
    "\n",
    "<b>Introduction</b> \n",
    "Here we perform an explicit computation (intended as merely a verification step): given the $r$ and $\\theta$ componenten of the magnetization vector, we compute the magetic vector potential $\\vec{A}$ and verify that (a) the $\\phi$-component of the magnetic vector potential matches the analytical expression and that (b) the $r$-component and $\\theta$- componenten of the  magnetic vector potential are zero;\n",
    "\n",
    "We define the kernel of integration or the vector potential density $\\text{vp-dens}$ in spherical coordinates $(r,\\theta,\\phi)$. As in the cartesian case, the function $\\text{vp-dens}$ takes the following three arguments as input:\n",
    "1. the position vector of the observer (or destination) $\\vec{r}(r,\\theta, \\phi)$;\n",
    "2. the position vector of the source $\\vec{r}_p(r_p,\\theta_p,\\phi_p)$;\n",
    "3. the magnetization vector $\\vec{M}$ evaluated in the coordinates of the source. \n",
    "\n",
    "Note that: \n",
    "1. even though magnetization vector $\\vec{M}$ is $\\phi$-independent, the vector potential density $\\text{vp-dens}$ <b>is</b> $\\phi$-dependent through $\\vec{r}$ and $\\vec{r}_p$. 3D-integration over the source domain (spherical shell) is thus required;\n",
    "2. we would like to take advantage of the spherical symmetry of the source domain and perform integration in spherical coordinates. To deal with singularity of the kernel, we will perform integration over a set of uniform 90-degrees cubes in the 3D space $R_a <= r_p <= R_b$, $0 \\leq \\theta_p \\leq \\pi$ and $0 \\leq \\phi_p < 2 \\, \\pi$. \n",
    "\n",
    "The 3-component vector-valued function $\\text{vp-dens}$ is given by \n",
    "\n",
    "$$ \n",
    "\\begin{eqnarray}\n",
    "\\text{vp-dens}[\\vec{r}, \\vec{r}_p, \\vec{M}] & = & \n",
    "   \\text{vp-dens}[\\vec{r}(r,\\theta,\\phi), \n",
    "                  \\vec{r}_p(r_p,\\theta_p,\\phi_p), \\vec{M}(r_p,\\theta_p,\\phi_p)] \\\\ \n",
    "   & = & \\frac{\\vec{M}(r_p,\\theta_p,\\phi_p) \\times (\\vec{r} - \\vec{r}_p)}\n",
    "        {\\| \\vec{r}(r,\\theta,\\phi) - \\vec{r}_p(r_p,\\theta_p,\\phi_p) \\|}\n",
    "\\end{eqnarray}\n",
    "$$\n",
    "\n",
    "Note that: \n",
    "1. in the expression above one can choose to express the cross product in either carthesian or spherical basis vectors. For reasons explaned below, we will choose cartesian basis vectors. \n",
    "\n",
    "The 3-component magnetic vector potential $\\vec{A}(r,\\theta,\\phi)$ is then obtained by integrating its density over the source domain, i.e., by \n",
    "\n",
    "$$ \n",
    "   \\vec{A}(r,\\theta,\\phi) = \n",
    "   \\int_{R_a}^{R_b} \\int_0^{\\pi} \\int_0^{2\\pi}\n",
    "   \\text{vp-dens}[\\vec{r}, \\vec{r}_p, \\vec{M}] \\, \n",
    "   r^2 \\sin(\\theta) \\, dr \\, d\\theta \\, d\\phi \n",
    "$$\n",
    "\n",
    "Note that integration over the source domain returns a vector with 3 components (the function hcubature.jl is indeed able to integrate vector-valued functions). The resulting vector can be expressed in either carthesian or spherical coordinates.   \n",
    "\n",
    "<b>Analytical reference solution</b>\n",
    "In the test case for a spherical shell, the magnetization vector $\\vec{M}(r_p,\\theta_p,\\phi_p)$ only has a $r$-component and a $\\theta$ component. \n",
    "$$\n",
    "\\vec{M}(r_p,\\theta_p,\\phi_p) = [M_r(r,\\theta), M_{\\theta}(r,\\theta), 0] \n",
    "$$\n",
    "\n",
    "with \n",
    "$$\n",
    "M_r(r,\\theta) = -\\beta_1 \\cos(\\theta)+2 \\, \\gamma_1/r^3 \\cos(\\theta)\n",
    "$$\n",
    "\n",
    "and \n",
    "\n",
    "$$\n",
    "M_{\\theta}(r,\\theta) = \\beta_1 \\sin(\\theta)+\\gamma_1/r^3 \\sin(\\theta)\n",
    "$$\n",
    "\n",
    "Need to express $\\vec{M}$ is carthesian basis vector in order to be able to compute the  curl with $\\vec{r} - \\vec{r}_p$. \n",
    "\n",
    "The  magnetic vector potential only has a $\\phi$-component is given by \n",
    "\n",
    "$$\n",
    "\\vec{A}(r,\\theta,\\phi) = [0, 0, A_{\\phi}(r,\\theta)] \n",
    "                       = [0,0,(-\\beta_1 \\, r/2 +\\gamma_1/r^2) \\sin(\\theta)]  \\, . \n",
    "$$\n",
    "Need to transform this to carthesian basis vector in order to be able to compare with output of hcubatute. \n",
    "\n",
    "<b>Pre-processing stage in function computing the vector-potential density</b>\n",
    "The position vectors $\\vec{r}$ and $\\vec{r}_p$ can be expressed in either cartesian or spherical unit vector. For $\\vec{r}$ for example, the expansion in spherical basis vectors is $\\vec{r}(r,\\theta,\\phi) = r \\, \\vec{e}_r(r,\\theta,\\phi)$. Similarly for $\\vec{r}_p(r_p,\\theta_p,\\phi_p) = r_p \\, \\vec{e}_r(r_p,\\theta_p,\\phi_p)$. Expression the vector of the difference $\\vec{r}(r,\\theta,\\phi) - \\vec{r}_p(r_p,\\theta_p,\\phi_p)$ in spherical basis vectors would require tranporting $\\vec{r}_p$ to the same position as $\\vec{r}_p$ (or the vice-versa). To avoid this nuisance, we express $\\vec{r}$ and $\\vec{r}_p$ in carthesian basis vectors. For $\\vec{r}$ we have that \n",
    "$$ \\vec{r}(r,\\theta,\\phi) = r \\, \\vec{e}_r(r,\\theta,\\phi) = \n",
    "   r \\cos(\\theta) \\sin(\\phi) \\, \\vec{\\iota} + r \\sin(\\theta) \\sin(\\phi) \\, \\vec{j} \n",
    "   + r \\cos(\\phi) \\, \\vec{k}$$\n",
    "and similary for $\\vec{r}_p$\n",
    "\n",
    "This can be asccomplished by a function <b>positiontoCartesian</b> (to be defined). The function <b>magnetizationtoCartesian</b> \n",
    "\n",
    "Need to transform vector components back to spherical basis vectors. "
   ]
  },
  {
   "cell_type": "code",
   "execution_count": null,
   "id": "e1776494",
   "metadata": {},
   "outputs": [],
   "source": [
    "function positiontoCartesian(r) \n",
    "# result = SVector{3} something    \n",
    "    return result   \n",
    "end"
   ]
  },
  {
   "cell_type": "code",
   "execution_count": null,
   "id": "db0751f2",
   "metadata": {},
   "outputs": [],
   "source": [
    "function magnetizationtoCartesian(M)\n",
    "# result = SVector{3} something    \n",
    "    return result   \n",
    "end"
   ]
  },
  {
   "cell_type": "code",
   "execution_count": null,
   "id": "583e7398",
   "metadata": {},
   "outputs": [],
   "source": [
    "# define vector potential density \n",
    "function vp_density(r, rprime, M)\n",
    "    cartr = positiontoCartesian(r) \n",
    "    cartrprime = positiontoCartesian(rprime) \n",
    "    cartM = magnetizationtoCartesian(M)\n",
    "    num = cross(cartM, (cartr - cartrprime))\n",
    "    denom = norm(r - rprime)^3\n",
    "    result = num/denom\n",
    "    return result   \n",
    "end"
   ]
  },
  {
   "cell_type": "code",
   "execution_count": null,
   "id": "712da4d3",
   "metadata": {},
   "outputs": [],
   "source": [
    "M = [0.,0.,1.]\n",
    "r = [1.,0.,0.]\n",
    "rp = [0.,1.,0.]\n",
    "vp_density(r,rp,M)"
   ]
  },
  {
   "cell_type": "code",
   "execution_count": null,
   "id": "6d9e3c9f",
   "metadata": {},
   "outputs": [],
   "source": [
    "M = [0.,0.,1.]\n",
    "r = [1.,0.,0.]\n",
    "t = 0.5 \n",
    "hcubature(rp -> vp_density(r,rp,M), (0.0, 0.0, -t), (1.0, 1.0, t))[1]"
   ]
  },
  {
   "cell_type": "markdown",
   "id": "9d6c7fe3",
   "metadata": {},
   "source": []
  },
  {
   "cell_type": "code",
   "execution_count": null,
   "id": "541c11ec",
   "metadata": {},
   "outputs": [],
   "source": []
  },
  {
   "cell_type": "markdown",
   "id": "613bf667",
   "metadata": {},
   "source": [
    "### Perform Integration with Analytical Reference Answer over Mesh in (r_p, theta_p, phi_p) - Verify answer analytically "
   ]
  },
  {
   "cell_type": "code",
   "execution_count": null,
   "id": "8afd117d",
   "metadata": {},
   "outputs": [],
   "source": []
  },
  {
   "cell_type": "markdown",
   "id": "3ed900d5",
   "metadata": {},
   "source": [
    "### Perform Integration of the vector potential density over Mesh in (r_p, theta_p, phi_p) "
   ]
  },
  {
   "cell_type": "code",
   "execution_count": null,
   "id": "214f46fd",
   "metadata": {},
   "outputs": [],
   "source": []
  },
  {
   "cell_type": "code",
   "execution_count": null,
   "id": "0be8bfc1",
   "metadata": {},
   "outputs": [],
   "source": []
  },
  {
   "cell_type": "code",
   "execution_count": null,
   "id": "76e8f8da",
   "metadata": {},
   "outputs": [],
   "source": []
  },
  {
   "cell_type": "markdown",
   "id": "f8d9e6ea",
   "metadata": {},
   "source": [
    "## Section 5: Given Magnetization Vector, Compute Magnetic Flux\n",
    "\n",
    "Add the computation of the curl of magnetic vector potential to previous step. Compare with analytical results for the magnetic flux. \n",
    "\n",
    "## Section 6: Compute Jacobian of the M-to-A Mapping \n",
    "\n",
    "Assume $\\vec{M}$ to be constant (or linear) (but otherwise unknown) over each 3D cube in $(r_p,\\theta_p,\\phi_p)$  \n",
    "\n",
    "## Section 7: Compute Jacobian of the M-to-B Mapping \n",
    "\n",
    "## Section 8: Given B, compute M using MoM \n",
    "\n",
    "## Section 9: Conclusions "
   ]
  },
  {
   "cell_type": "code",
   "execution_count": null,
   "id": "9fcd4ffd",
   "metadata": {},
   "outputs": [],
   "source": []
  }
 ],
 "metadata": {
  "kernelspec": {
   "display_name": "Julia 1.8.1",
   "language": "julia",
   "name": "julia-1.8"
  },
  "language_info": {
   "file_extension": ".jl",
   "mimetype": "application/julia",
   "name": "julia",
   "version": "1.8.1"
  }
 },
 "nbformat": 4,
 "nbformat_minor": 5
}
