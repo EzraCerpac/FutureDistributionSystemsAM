{
 "cells": [
  {
   "cell_type": "markdown",
   "id": "e8be430d",
   "metadata": {},
   "source": [
    "# Additional Information on Automatic Differentiation"
   ]
  },
  {
   "cell_type": "markdown",
   "id": "117cf9a9",
   "metadata": {},
   "source": [
    "## Import Packages "
   ]
  },
  {
   "cell_type": "code",
   "execution_count": 3,
   "id": "1fbde818",
   "metadata": {},
   "outputs": [],
   "source": [
    "using ForwardDiff\n",
    "using QuadGK\n",
    "using HCubature\n",
    "using StaticArrays \n",
    "using LinearAlgebra\n",
    "using BenchmarkTools\n",
    "using Plots "
   ]
  },
  {
   "cell_type": "code",
   "execution_count": 4,
   "id": "e2cca2b2",
   "metadata": {},
   "outputs": [
    {
     "data": {
      "text/plain": [
       "SVector{3, Float64}\u001b[90m (alias for \u001b[39m\u001b[90mSArray{Tuple{3}, Float64, 1, 3}\u001b[39m\u001b[90m)\u001b[39m"
      ]
     },
     "execution_count": 4,
     "metadata": {},
     "output_type": "execute_result"
    }
   ],
   "source": [
    "const Point3D = SVector{3,Float64}"
   ]
  },
  {
   "cell_type": "markdown",
   "id": "18225945",
   "metadata": {},
   "source": [
    "## Section 1: Introduction \n",
    "Our goal is to construct the local MoM matrix using automatic differentiation assuming that magnetization only has one component. \n",
    "\n",
    "### To do\n",
    "\n",
    "1. define reference triangular element;\n",
    "2. study coordinate transformation from reference triangle to reference square; \n",
    "3. define the 3 nodal basis functions;\n",
    "4. define the x-component of the magnetization as a linear combination of basis functions; \n",
    "5. define integrand as kernel times basis-function-1 times basis-function-2; \n",
    "6. define residual 3-vector by integration; \n",
    "7. define 3-by-3 MoM matrix by computing the Jacobian of the residual vector; "
   ]
  },
  {
   "cell_type": "markdown",
   "id": "72bdf8f0",
   "metadata": {},
   "source": [
    "## Section 2: Definition of the Integrand "
   ]
  },
  {
   "cell_type": "code",
   "execution_count": 5,
   "id": "ef4ab64c",
   "metadata": {},
   "outputs": [
    {
     "name": "stdout",
     "output_type": "stream",
     "text": [
      "  183.455 ns (3 allocations: 128 bytes)\n"
     ]
    },
    {
     "data": {
      "text/plain": [
       "3-element SizedVector{3, Float64, Vector{Float64}} with indices SOneTo(3):\n",
       " -1.0\n",
       "  0.0\n",
       "  0.0"
      ]
     },
     "execution_count": 5,
     "metadata": {},
     "output_type": "execute_result"
    }
   ],
   "source": [
    "# failing version 1-of-3 - the version below *allocates* three times \n",
    "# we assume (?) that one allocation is due to storage of intermediate r - rp (p for prime)\n",
    "# we fail to understand what causes the other 2 allocations  \n",
    "# observe the use of the in-place normalize!() (with a bang!) function \n",
    "# the in-place normalize!() does not accept SVectors as input. The type is therefore casted to SizedArray.  \n",
    "r = Point3D(0.,0,0); rp = Point3D(5.,0,0)\n",
    "@btime normalize!(SizedArray(r-rp))"
   ]
  },
  {
   "cell_type": "code",
   "execution_count": 6,
   "id": "90671983",
   "metadata": {},
   "outputs": [
    {
     "name": "stdout",
     "output_type": "stream",
     "text": [
      "  152.879 ns (2 allocations: 64 bytes)\n"
     ]
    },
    {
     "data": {
      "text/plain": [
       "3-element MVector{3, Float64} with indices SOneTo(3):\n",
       " -1.0\n",
       "  0.0\n",
       "  0.0"
      ]
     },
     "execution_count": 6,
     "metadata": {},
     "output_type": "execute_result"
    }
   ],
   "source": [
    "# failing version 2-of-3 - the version below *allocates* twice  \n",
    "# we again assume that one allocation is due to storage of intermediate r - rp\n",
    "# we fail to understand why the change from SizedArray to MArray lowers the allocation count by one \n",
    "# observe the use of the in-place normalize!() (with a bang!) function \n",
    "# the in-place normalize!() does not accept SVectors as input. The type is therefore casted to MArray.  \n",
    "r = Point3D(0.,0,0); rp = Point3D(5.,0,0)\n",
    "@btime normalize!(MArray(r-rp))"
   ]
  },
  {
   "cell_type": "code",
   "execution_count": 7,
   "id": "fed59b74",
   "metadata": {},
   "outputs": [
    {
     "name": "stdout",
     "output_type": "stream",
     "text": [
      "  47.902 ns (1 allocation: 32 bytes)\n"
     ]
    },
    {
     "data": {
      "text/plain": [
       "3-element SVector{3, Float64} with indices SOneTo(3):\n",
       " -1.0\n",
       "  0.0\n",
       "  0.0"
      ]
     },
     "execution_count": 7,
     "metadata": {},
     "output_type": "execute_result"
    }
   ],
   "source": [
    "# failing version 3-of-3 - the version below allocates once \n",
    "# allocation occurs even though the construction of the intermediate r - rp is placed *outside* \n",
    "# of the profiling\n",
    "# observe the use of the normalize() (without a bang) function\n",
    "r = Point3D(0.,0,0); rp = Point3D(5.,0,0)\n",
    "diff = r-rp\n",
    "@btime normalize(diff)"
   ]
  },
  {
   "cell_type": "code",
   "execution_count": 8,
   "id": "9f65f45a",
   "metadata": {},
   "outputs": [
    {
     "name": "stdout",
     "output_type": "stream",
     "text": [
      "  40.783 ns (0 allocations: 0 bytes)\n"
     ]
    },
    {
     "data": {
      "text/plain": [
       "3-element SizedVector{3, Float64, Vector{Float64}} with indices SOneTo(3):\n",
       " -1.0\n",
       "  0.0\n",
       "  0.0"
      ]
     },
     "execution_count": 8,
     "metadata": {},
     "output_type": "execute_result"
    }
   ],
   "source": [
    "# partially working version - the version below does *not* allocate (hurray!)\n",
    "# observe the use of inplace normalize!()\n",
    "# works for both the MArray and SizedArray \n",
    "# the allocation required to compute the difference vector is not taken in account in profiling\n",
    "# this is probably fine - we expect to allocate the memory for the difference vector once only. \n",
    "r = Point3D(0.,0,0); rp = Point3D(5.,0,0)\n",
    "diff = MArray(r-rp)\n",
    "diff = SizedArray(r - rp) \n",
    "@btime normalize!(diff)"
   ]
  },
  {
   "cell_type": "markdown",
   "id": "dbd7301d",
   "metadata": {},
   "source": [
    "##  Section 3: Computing the Integral using hcubature \n",
    "This section was developed given the input on discourse at [avoiding-allocations-when-normalizing-a-vector](https://discourse.julialang.org/t/avoiding-allocations-when-normalizing-a-vector/113913/6). \n",
    "\n",
    "In normal usage, hcubature(...) will allocate a buffer for internal computations. You can instead pass a preallocated buffer allocated using [hcubature_buffer](@ref) as thebuffer argument. This buffer can be used across multiple calls to avoid repeated allocation."
   ]
  },
  {
   "cell_type": "code",
   "execution_count": 9,
   "id": "8ccaf766",
   "metadata": {},
   "outputs": [
    {
     "data": {
      "text/plain": [
       "integrand (generic function with 1 method)"
      ]
     },
     "execution_count": 9,
     "metadata": {},
     "output_type": "execute_result"
    }
   ],
   "source": [
    "# define the integrand - p stands for prime \n",
    "function integrand(r,rp)\n",
    "    return normalize(r-rp) \n",
    "end"
   ]
  },
  {
   "cell_type": "code",
   "execution_count": 10,
   "id": "c9dbbc6c",
   "metadata": {},
   "outputs": [
    {
     "name": "stdout",
     "output_type": "stream",
     "text": [
      "  49.131 ns (1 allocation: 32 bytes)\n"
     ]
    },
    {
     "data": {
      "text/plain": [
       "3-element SVector{3, Float64} with indices SOneTo(3):\n",
       " -1.0\n",
       "  0.0\n",
       "  0.0"
      ]
     },
     "execution_count": 10,
     "metadata": {},
     "output_type": "execute_result"
    }
   ],
   "source": [
    "# evaluate the integrand \n",
    "r = Point3D(0.,0,0); rp = Point3D(5.,0,0)\n",
    "@btime integrand(r,rp)"
   ]
  },
  {
   "cell_type": "code",
   "execution_count": 13,
   "id": "f9f0dd75",
   "metadata": {},
   "outputs": [
    {
     "name": "stdout",
     "output_type": "stream",
     "text": [
      "search: \u001b[0m\u001b[1mh\u001b[22m\u001b[0m\u001b[1mc\u001b[22m\u001b[0m\u001b[1mu\u001b[22m\u001b[0m\u001b[1mb\u001b[22m\u001b[0m\u001b[1ma\u001b[22m\u001b[0m\u001b[1mt\u001b[22m\u001b[0m\u001b[1mu\u001b[22m\u001b[0m\u001b[1mr\u001b[22m\u001b[0m\u001b[1me\u001b[22m \u001b[0m\u001b[1mH\u001b[22m\u001b[0m\u001b[1mC\u001b[22m\u001b[0m\u001b[1mu\u001b[22m\u001b[0m\u001b[1mb\u001b[22m\u001b[0m\u001b[1ma\u001b[22m\u001b[0m\u001b[1mt\u001b[22m\u001b[0m\u001b[1mu\u001b[22m\u001b[0m\u001b[1mr\u001b[22m\u001b[0m\u001b[1me\u001b[22m \u001b[0m\u001b[1mh\u001b[22m\u001b[0m\u001b[1mc\u001b[22m\u001b[0m\u001b[1mu\u001b[22m\u001b[0m\u001b[1mb\u001b[22m\u001b[0m\u001b[1ma\u001b[22m\u001b[0m\u001b[1mt\u001b[22m\u001b[0m\u001b[1mu\u001b[22m\u001b[0m\u001b[1mr\u001b[22m\u001b[0m\u001b[1me\u001b[22m_buffer\n",
      "\n"
     ]
    },
    {
     "data": {
      "text/latex": [
       "\\begin{verbatim}\n",
       "hcubature(f, a, b; norm=norm, rtol=sqrt(eps), atol=0, maxevals=typemax(Int),\n",
       "initdiv=1, buffer=nothing)\n",
       "\\end{verbatim}\n",
       "Compute the n-dimensional integral of f(x), where \\texttt{n == length(a) == length(b)}, over the hypercube whose corners are given by the vectors (or tuples) \\texttt{a} and \\texttt{b}. That is, dimension \\texttt{x[i]} is integrated from \\texttt{a[i]} to \\texttt{b[i]}.  The return value of \\texttt{hcubature} is a tuple \\texttt{(I, E)} of the estimated integral \\texttt{I} and an estimated error \\texttt{E}.\n",
       "\n",
       "\\texttt{f} should be a function \\texttt{f(x)} that takes an n-dimensional vector \\texttt{x} and returns the integrand at \\texttt{x}.   The integrand can be any type that supports \\texttt{+}, \\texttt{-}, \\texttt{*} real, and \\texttt{norm} functions.  For example, the integrand can be real or complex numbers, vectors, matrices, etcetera.\n",
       "\n",
       "The integrand \\texttt{f(x)} will be always be passed an \\texttt{SVector\\{n,T\\}}, where \\texttt{SVector} is an efficient vector type defined in the \\texttt{StaticArrays} package and \\texttt{T} is a floating-point type determined by promoting the endpoint \\texttt{a} and \\texttt{b} coordinates to a floating-point type. (Your integrand \\texttt{f} should be type-stable: it should always return a value of the same type, given this type of \\texttt{x}.)\n",
       "\n",
       "The integrand will never be evaluated exactly at the boundaries of the integration volume.  (So, for example, it is possible to have an integrand that blows up at the boundaries, as long as the integral is finite, though such singularities will slow convergence.)\n",
       "\n",
       "The integration volume is adaptively subdivided, using a cubature rule due to Genz and Malik (1980), until the estimated error \\texttt{E} satisfies \\texttt{E ≤ max(rtol*norm(I), atol)}, i.e. \\texttt{rtol} and \\texttt{atol} are the relative and absolute tolerances requested, respectively. It also stops if the number of \\texttt{f} evaluations exceeds \\texttt{maxevals}. If neither \\texttt{atol} nor \\texttt{rtol} are specified, the default \\texttt{rtol} is the square root of the precision \\texttt{eps(T)} of the coordinate type \\texttt{T} described above. Initially, the volume is divided into \\texttt{initdiv} segments along each dimension.\n",
       "\n",
       "The error is estimated by \\texttt{norm(I - I′)}, where \\texttt{I′} is an alternative estimated integral (via an \"embedded\" lower-order cubature rule.) By default, the norm function used (for both this and the convergence test above) is \\texttt{norm}, but you can pass an alternative norm by the \\texttt{norm} keyword argument.  (This is especially useful when \\texttt{f} returns a vector of integrands with different scalings.)\n",
       "\n",
       "In normal usage, \\texttt{hcubature(...)} will allocate a buffer for internal computations. You can instead pass a preallocated buffer allocated using \\href{@ref}{`hcubature\\_buffer'} as the \\texttt{buffer} argument. This buffer can be used across multiple calls to avoid repeated allocation.\n",
       "\n"
      ],
      "text/markdown": [
       "```\n",
       "hcubature(f, a, b; norm=norm, rtol=sqrt(eps), atol=0, maxevals=typemax(Int),\n",
       "initdiv=1, buffer=nothing)\n",
       "```\n",
       "\n",
       "Compute the n-dimensional integral of f(x), where `n == length(a) == length(b)`, over the hypercube whose corners are given by the vectors (or tuples) `a` and `b`. That is, dimension `x[i]` is integrated from `a[i]` to `b[i]`.  The return value of `hcubature` is a tuple `(I, E)` of the estimated integral `I` and an estimated error `E`.\n",
       "\n",
       "`f` should be a function `f(x)` that takes an n-dimensional vector `x` and returns the integrand at `x`.   The integrand can be any type that supports `+`, `-`, `*` real, and `norm` functions.  For example, the integrand can be real or complex numbers, vectors, matrices, etcetera.\n",
       "\n",
       "The integrand `f(x)` will be always be passed an `SVector{n,T}`, where `SVector` is an efficient vector type defined in the `StaticArrays` package and `T` is a floating-point type determined by promoting the endpoint `a` and `b` coordinates to a floating-point type. (Your integrand `f` should be type-stable: it should always return a value of the same type, given this type of `x`.)\n",
       "\n",
       "The integrand will never be evaluated exactly at the boundaries of the integration volume.  (So, for example, it is possible to have an integrand that blows up at the boundaries, as long as the integral is finite, though such singularities will slow convergence.)\n",
       "\n",
       "The integration volume is adaptively subdivided, using a cubature rule due to Genz and Malik (1980), until the estimated error `E` satisfies `E ≤ max(rtol*norm(I), atol)`, i.e. `rtol` and `atol` are the relative and absolute tolerances requested, respectively. It also stops if the number of `f` evaluations exceeds `maxevals`. If neither `atol` nor `rtol` are specified, the default `rtol` is the square root of the precision `eps(T)` of the coordinate type `T` described above. Initially, the volume is divided into `initdiv` segments along each dimension.\n",
       "\n",
       "The error is estimated by `norm(I - I′)`, where `I′` is an alternative estimated integral (via an \"embedded\" lower-order cubature rule.) By default, the norm function used (for both this and the convergence test above) is `norm`, but you can pass an alternative norm by the `norm` keyword argument.  (This is especially useful when `f` returns a vector of integrands with different scalings.)\n",
       "\n",
       "In normal usage, `hcubature(...)` will allocate a buffer for internal computations. You can instead pass a preallocated buffer allocated using [`hcubature_buffer'](@ref) as the `buffer` argument. This buffer can be used across multiple calls to avoid repeated allocation.\n"
      ],
      "text/plain": [
       "  \u001b[38;5;81mhcubature\u001b[0m(\u001b[0m\u001b[39mf\u001b[0m\u001b[39m,\u001b[0m \u001b[0m\u001b[39ma\u001b[0m\u001b[39m,\u001b[0m \u001b[0m\u001b[39mb\u001b[0m\u001b[39m;\u001b[0m \u001b[0m\u001b[39mnorm\u001b[0m\u001b[38;5;197m=\u001b[0m\u001b[39mnorm\u001b[0m\u001b[39m,\u001b[0m \u001b[0m\u001b[39mrtol\u001b[0m\u001b[38;5;197m=\u001b[0m\u001b[38;5;81msqrt\u001b[0m(\u001b[0m\u001b[39meps\u001b[0m\u001b[39m)\u001b[0m\u001b[39m,\u001b[0m \u001b[0m\u001b[39matol\u001b[0m\u001b[38;5;197m=\u001b[0m\u001b[38;5;141m0\u001b[0m\u001b[39m,\u001b[0m \u001b[0m\u001b[39mmaxevals\u001b[0m\u001b[38;5;197m=\u001b[0m\u001b[38;5;81mtypemax\u001b[0m(\u001b[0m\u001b[39mInt\u001b[0m\u001b[39m)\u001b[0m\u001b[39m,\u001b[0m\n",
       "  \u001b[0m\u001b[39minitdiv\u001b[0m\u001b[38;5;197m=\u001b[0m\u001b[38;5;141m1\u001b[0m\u001b[39m,\u001b[0m \u001b[0m\u001b[39mbuffer\u001b[0m\u001b[38;5;197m=\u001b[0m\u001b[39mnothing\u001b[0m\u001b[39m)\u001b[0m\n",
       "\n",
       "\n",
       "  Compute the n-dimensional integral of f(x), where \u001b[36mn == length(a) ==\n",
       "  length(b)\u001b[39m, over the hypercube whose corners are given by the vectors (or\n",
       "  tuples) \u001b[36ma\u001b[39m and \u001b[36mb\u001b[39m. That is, dimension \u001b[36mx[i]\u001b[39m is integrated from \u001b[36ma[i]\u001b[39m to \u001b[36mb[i]\u001b[39m.\n",
       "  The return value of \u001b[36mhcubature\u001b[39m is a tuple \u001b[36m(I, E)\u001b[39m of the estimated integral \u001b[36mI\u001b[39m\n",
       "  and an estimated error \u001b[36mE\u001b[39m.\n",
       "\n",
       "  \u001b[36mf\u001b[39m should be a function \u001b[36mf(x)\u001b[39m that takes an n-dimensional vector \u001b[36mx\u001b[39m and returns\n",
       "  the integrand at \u001b[36mx\u001b[39m. The integrand can be any type that supports \u001b[36m+\u001b[39m, \u001b[36m-\u001b[39m, \u001b[36m*\u001b[39m\n",
       "  real, and \u001b[36mnorm\u001b[39m functions. For example, the integrand can be real or complex\n",
       "  numbers, vectors, matrices, etcetera.\n",
       "\n",
       "  The integrand \u001b[36mf(x)\u001b[39m will be always be passed an \u001b[36mSVector{n,T}\u001b[39m, where \u001b[36mSVector\u001b[39m\n",
       "  is an efficient vector type defined in the \u001b[36mStaticArrays\u001b[39m package and \u001b[36mT\u001b[39m is a\n",
       "  floating-point type determined by promoting the endpoint \u001b[36ma\u001b[39m and \u001b[36mb\u001b[39m coordinates\n",
       "  to a floating-point type. (Your integrand \u001b[36mf\u001b[39m should be type-stable: it should\n",
       "  always return a value of the same type, given this type of \u001b[36mx\u001b[39m.)\n",
       "\n",
       "  The integrand will never be evaluated exactly at the boundaries of the\n",
       "  integration volume. (So, for example, it is possible to have an integrand\n",
       "  that blows up at the boundaries, as long as the integral is finite, though\n",
       "  such singularities will slow convergence.)\n",
       "\n",
       "  The integration volume is adaptively subdivided, using a cubature rule due\n",
       "  to Genz and Malik (1980), until the estimated error \u001b[36mE\u001b[39m satisfies \u001b[36mE ≤\n",
       "  max(rtol*norm(I), atol)\u001b[39m, i.e. \u001b[36mrtol\u001b[39m and \u001b[36matol\u001b[39m are the relative and absolute\n",
       "  tolerances requested, respectively. It also stops if the number of \u001b[36mf\u001b[39m\n",
       "  evaluations exceeds \u001b[36mmaxevals\u001b[39m. If neither \u001b[36matol\u001b[39m nor \u001b[36mrtol\u001b[39m are specified, the\n",
       "  default \u001b[36mrtol\u001b[39m is the square root of the precision \u001b[36meps(T)\u001b[39m of the coordinate\n",
       "  type \u001b[36mT\u001b[39m described above. Initially, the volume is divided into \u001b[36minitdiv\u001b[39m\n",
       "  segments along each dimension.\n",
       "\n",
       "  The error is estimated by \u001b[36mnorm(I - I′)\u001b[39m, where \u001b[36mI′\u001b[39m is an alternative estimated\n",
       "  integral (via an \"embedded\" lower-order cubature rule.) By default, the norm\n",
       "  function used (for both this and the convergence test above) is \u001b[36mnorm\u001b[39m, but\n",
       "  you can pass an alternative norm by the \u001b[36mnorm\u001b[39m keyword argument. (This is\n",
       "  especially useful when \u001b[36mf\u001b[39m returns a vector of integrands with different\n",
       "  scalings.)\n",
       "\n",
       "  In normal usage, \u001b[36mhcubature(...)\u001b[39m will allocate a buffer for internal\n",
       "  computations. You can instead pass a preallocated buffer allocated using\n",
       "  `hcubature_buffer' as the \u001b[36mbuffer\u001b[39m argument. This buffer can be used across\n",
       "  multiple calls to avoid repeated allocation."
      ]
     },
     "execution_count": 13,
     "metadata": {},
     "output_type": "execute_result"
    }
   ],
   "source": [
    "?hcubature"
   ]
  },
  {
   "cell_type": "code",
   "execution_count": 12,
   "id": "a466362e",
   "metadata": {},
   "outputs": [
    {
     "name": "stdout",
     "output_type": "stream",
     "text": [
      "  69.541 μs (5 allocations: 65.80 KiB)\n"
     ]
    }
   ],
   "source": [
    "# avoid global variables in benchmarking \n",
    "foo(r) = hcubature(rp->integrand(r, Point3D(rp[1],rp[2],0)), (0,0), (1,1))[1]\n",
    "@btime foo($(Point3D(0,0,0)));"
   ]
  },
  {
   "cell_type": "code",
   "execution_count": 66,
   "id": "10882195",
   "metadata": {},
   "outputs": [
    {
     "name": "stdout",
     "output_type": "stream",
     "text": [
      "  2.003 ms (59838 allocations: 2.02 MiB)\n"
     ]
    },
    {
     "data": {
      "text/plain": [
       "3-element SVector{3, Float64} with indices SOneTo(3):\n",
       " -0.6477935749432309\n",
       " -0.6477935748958243\n",
       "  0.0"
      ]
     },
     "execution_count": 66,
     "metadata": {},
     "output_type": "execute_result"
    }
   ],
   "source": [
    "function integrand(r,rp)\n",
    "    return normalize(r-rp)\n",
    "end\n",
    "\n",
    "r = Point3D(0.,0,0); rp = Point3D(5.,0,0)\n",
    "\n",
    "@btime hcubature($(rp->integrand(r, Point3D(rp[1],rp[2],0))), $(0,0), $(1,1))[1]"
   ]
  },
  {
   "cell_type": "code",
   "execution_count": null,
   "id": "d4f15712",
   "metadata": {},
   "outputs": [],
   "source": []
  }
 ],
 "metadata": {
  "kernelspec": {
   "display_name": "Julia 1.8.1",
   "language": "julia",
   "name": "julia-1.8"
  },
  "language_info": {
   "file_extension": ".jl",
   "mimetype": "application/julia",
   "name": "julia",
   "version": "1.8.1"
  }
 },
 "nbformat": 4,
 "nbformat_minor": 5
}
