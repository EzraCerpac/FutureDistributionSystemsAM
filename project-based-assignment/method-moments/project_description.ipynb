{
 "cells": [
  {
   "cell_type": "markdown",
   "id": "9be874da",
   "metadata": {},
   "source": [
    "# Master Thesis Proposal \n",
    "# Volume Integral Equations for the Magnetic Field \n",
    "# in Thin-Walled Steel Structures"
   ]
  },
  {
   "cell_type": "markdown",
   "id": "21a083de",
   "metadata": {},
   "source": [
    "## Section 1: Introduction \n",
    "\n",
    "- consider thin-walled steel structures immersed in earth magnetic field. The wish is to render these structures non-detectable for radar (and thus incoming electromagnetic fields). This is accomplished by applying [degaussing](https://en.wikipedia.org/wiki/Degaussing); \n",
    "- computing magnetization ${\\mathbf M}$ induced in the steel structure by current in the coil; \n",
    "- model is assumed to be **linear**. The effect of saturation and hysteresis will be neglected; \n",
    "\n",
    "## Section 2: Time Line \n",
    "\n",
    "From December 10th, 2023 to July 10h, 2024.  "
   ]
  },
  {
   "cell_type": "markdown",
   "id": "98860ffa",
   "metadata": {},
   "source": [
    "## Section 3: Continuous Problem Formulation \n",
    "\n",
    "### No External Current Sources \n",
    "\n",
    "See e.g. [magnetism](https://en.wikipedia.org/wiki/Magnetism). \n",
    "\n",
    "$ \\nabla \\times {\\mathbf H} = {\\mathbf 0} \\hspace{.5cm} \\nabla \\cdot {\\mathbf B} = 0 \\hspace{.5cm} \n",
    "  {\\mathbf B} = \\mu_0 \\, {\\mathbf H + \\mathbf M}$\n",
    "  \n",
    "Magnetic scalar potential $\\phi_m({\\mathbf x})$ such that ${\\mathbf H} = - \\nabla \\phi_m$. \n",
    "\n",
    "Poisson equation for $\\phi_m$ given by $ - \\nabla \\cdot [ \\mu \\, \\nabla \\phi_m ] = \\nabla \\cdot {\\mathbf M}$ supplied with boundary conditions.  \n",
    "\n",
    "Integral equation: $ \\int_{\\Omega} G(x,s) \\, u(s) \\, ds = f(x)$ where $f(x) = $ where $G(x,s) = \\nabla \\cdot {\\mathbf M}$ is the [Green function](https://en.wikipedia.org/wiki/Green's_function). \n",
    "\n",
    "Upon introducing the magnetic susceptibility\n",
    "\n",
    "$ {\\mathbf M} = \\chi \\, {\\mathbf H} = \\frac{1}{\\mu} \\, \\chi \\, {\\mathbf B} = \n",
    "  \\frac{1}{\\mu} \\, \\chi \\, [ {\\mathbf B}_M + {\\mathbf B}_J ]  $ and thus \n",
    "\n",
    "$ \\mu_0 [ \\mathbf{H} + \\mathbf{M} ] = \\mu_0(1 + \\chi) \\,\\mathbf{H} = \n",
    "  \\mu_r \\, \\mu_0 \\, \\mathbf{H} = \\mu \\, \\mathbf{H} $ \n",
    "\n",
    "### With External Current Sources \n",
    "\n",
    "Volume integral formulation \n",
    "\n",
    "$ {\\mathbf B}_J = \\frac{\\mu_0}{4 \\, \\pi} \\int_{\\tau_J} \n",
    "  \\frac{ \\mathbf{J}(\\mathbf{r}') \\times \\left[ \\mathbf{r} - \\mathbf{r}' \\right]}\n",
    "       {\\| \\mathbf{r} - \\mathbf{r}'\\|^3} d\\mathbf{r}'$ \n",
    "\n",
    "$ {\\mathbf B}_M = \\nabla \\times A_M \\hspace{.5cm} A_M = \\frac{\\mu_0}{4 \\, \\pi} \\int_{\\tau_M} \n",
    "  \\frac{ \\mathbf{M}(\\mathbf{r}') \\times \\left[ \\mathbf{r} - \\mathbf{r}' \\right]}\n",
    "       {\\| \\mathbf{r} - \\mathbf{r}'\\|^3} d\\mathbf{r}'$\n",
    "       \n",
    "$ {\\mathbf M} = \\frac{\\chi}{\\mu} \\, [ {\\mathbf B}_M + {\\mathbf B}_J ] \n",
    "  = \\frac{\\mu_0 \\, \\chi}{4 \\, \\pi \\, \\mu} \\, \\nabla \\times \\int_{\\tau_M} \n",
    "    \\frac{ \\mathbf{M}(\\mathbf{r}') \\times \\left[ \\mathbf{r} - \\mathbf{r}' \\right]}\n",
    "         {\\| \\mathbf{r} - \\mathbf{r}'\\|^3} d\\mathbf{r}'\n",
    "  + \\frac{\\mu_0 \\, \\chi}{4 \\, \\pi \\, \\mu} \\, \\int_{\\tau_J} \n",
    "  \\frac{ \\mathbf{J}(\\mathbf{r}') \\times \\left[ \\mathbf{r} - \\mathbf{r}' \\right]}\n",
    "       {\\| \\mathbf{r} - \\mathbf{r}'\\|^3} d\\mathbf{r}' $  \n",
    "\n",
    "choice of the basis function: Morandi-2009 chooses Dirac delta functions (collocation)."
   ]
  },
  {
   "cell_type": "markdown",
   "id": "b5b13269",
   "metadata": {},
   "source": [
    "## Section 4: Discrete Problem Formulation \n",
    "\n",
    "### No External Current Sources\n",
    "\n",
    "### With External Current Sources\n",
    "\n",
    "Weighted residual approach. Expansion of solution in set of basis vectors. \n",
    "\n",
    "Face basis function: $W_f({\\mathbf r}) = \\int_{S_f} \\frac{1}{\\| \\mathbf{r} - \\mathbf{r}' \\|} d\\mathbf{r}' $\n",
    "\n",
    "Gradient of face basis function: $\\nabla W_f({\\mathbf r}) = \\sum_{\\ell_e \\in S_f} {\\mathbf n}_f \\times {\\mathbf t}_e \\, w_e(\\mathbf{r}) \n",
    "                           - {\\mathbf n}_f \\, \\Omega_f(\\mathbf{r})$ \n",
    "                           \n",
    "Edge basis function for $e$ connecting ${\\mathbf r}_1$ and ${\\mathbf r}_2$: \n",
    "$w_e({\\mathbf r}) = \\log \\frac{\\|\\mathbf{r}_2 - \\mathbf{r}\\| + \\|\\mathbf{r}_1 - \\mathbf{r}\\| +\n",
    "                               \\|\\mathbf{r}_2 - \\mathbf{r}_1\\|}\n",
    "                              {\\|\\mathbf{r}_2 - \\mathbf{r}\\| + \\|\\mathbf{r}_1 - \\mathbf{r}\\| -\n",
    "                               \\|\\mathbf{r}_2 - \\mathbf{r}_1\\|}$  \n",
    "                               \n",
    "Solid angle subtended to face $S_f$ as seen from point ${\\mathbf r}$ $\\Omega_f$.                                "
   ]
  },
  {
   "cell_type": "markdown",
   "id": "9c11196f",
   "metadata": {},
   "source": [
    "## Section 5: Implementation  \n",
    "\n",
    "### Geometry Definition \n",
    "\n",
    "Create STL-file (or equivalent) of the geomtry using Blender (or equivalent). \n",
    "\n",
    "### Mesh Generation \n",
    "\n",
    "Use Gmsh (or equivalent) to generate the mesh. Either import the STL-file into the GUI of GMSH or use the plugin for Gmsh in Blender; \n",
    "\n",
    "### Choice of the Basis Functions \n",
    "\n",
    "Nodal vs. edge basis functions of a given polynomial order. \n",
    "Collocation vs. Galerkin. (Non)-symmetry of the coefficients matrix. \n",
    "\n",
    "### Generate the Coefficient Matrix and the Right-Hand Side Vector \n",
    "\n",
    "Import the mesh into Julia and perform loop over the elements to construct the right-hand side vector. \n",
    "[Automatic differentiation](automatic_differentiation.ipynb) and [additional_automatic_diffferentiation](additional_automatic_diffferentiation.ipynb) for assembly. \n",
    "\n",
    "### Post-Processing \n",
    "\n",
    "Write solution to STL-file and use Paraview to view the computed solution. Use of [writeVTK](https://github.com/JuliaVTK/WriteVTK.jl) or higher in abstraction level such as [gridap.Visualization](https://gridap.github.io/Gridap.jl/stable/Visualization/). "
   ]
  },
  {
   "cell_type": "markdown",
   "id": "16690540",
   "metadata": {},
   "source": [
    "## Section 6: Test Cases \n",
    "\n",
    "### Section 1.6:  Thin Plate\n",
    "With end effects. \n",
    "See notebook [AppendixE-vijn-master-thesis](appendixE-vijn-master-thesis.ipynb). \n",
    "\n",
    "### Section 2.6: Spherical Shell  \n",
    "No end effects. \n",
    "\n",
    "###  Section 3.6: Ship M4 Mock-up "
   ]
  },
  {
   "cell_type": "markdown",
   "id": "eba95682",
   "metadata": {},
   "source": [
    "## Section 7: Publically Available Software Components\n",
    "\n",
    "1. [BEAST](https://github.com/krcools/BEAST.jl) and example of Magnetic Field Integral Equation (MFIE) [mfie.jl](https://github.com/krcools/BEAST.jl/blob/master/examples/mfie.jl) \n",
    "2. [HMatrices](https://github.com/WaveProp/HMatrices.jl) and [related documentation](https://waveprop.github.io/HMatrices.jl/dev/)\n",
    "3. [PETSc](https://github.com/JuliaParallel/PETSc.jl) \n",
    "4. [iterativesolvers](https://iterativesolvers.julialinearalgebra.org/stable/), [KrylovKit](https://github.com/Jutho/KrylovKit.jl) or any of the alternatives mentioned by the latter\n",
    "5. [LowRankApprox](https://github.com/JuliaLinearAlgebra/LowRankApprox.jl): provides low-rank approximations; \n",
    "6. [ACAFact](https://github.com/cgeoga/ACAFact.jl): adaptive cross-approximation. References Bebendorf-Rjasanov-2002. This paper uses the TEAM-10 as benchmark. "
   ]
  },
  {
   "cell_type": "markdown",
   "id": "a92c5652",
   "metadata": {},
   "source": [
    "## Section 8: Project Overview \n",
    "\n",
    "### Section 8.1: Theory \n",
    "\n",
    "Project requires literature on state of the art. Morandi-2009 is more than 20 years old. References cited by Lepelaars-2018 are more than 10 years old. \n",
    "\n",
    "### Section 8.2: Implementation \n",
    "\n",
    "### Section 8.1: Organization "
   ]
  },
  {
   "cell_type": "markdown",
   "id": "6ea51aeb",
   "metadata": {},
   "source": [
    "## References \n",
    "\n",
    "1. Morandi-2010 \n",
    "2. Fabbri-2009 \n",
    "3. book Mario Bebendorf Springer-2003"
   ]
  },
  {
   "cell_type": "code",
   "execution_count": null,
   "id": "4e8865d9",
   "metadata": {},
   "outputs": [],
   "source": []
  }
 ],
 "metadata": {
  "kernelspec": {
   "display_name": "Julia 1.8.1",
   "language": "julia",
   "name": "julia-1.8"
  },
  "language_info": {
   "file_extension": ".jl",
   "mimetype": "application/julia",
   "name": "julia",
   "version": "1.8.1"
  }
 },
 "nbformat": 4,
 "nbformat_minor": 5
}
