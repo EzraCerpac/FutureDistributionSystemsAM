{
 "cells": [
  {
   "cell_type": "markdown",
   "metadata": {},
   "source": [
    "# Read Mesh Generated using GMSH "
   ]
  },
  {
   "cell_type": "markdown",
   "metadata": {},
   "source": [
    "Reads mesh using of the [GMSH](https://gmsh.info) package for geometry and mesh generation."
   ]
  },
  {
   "cell_type": "markdown",
   "metadata": {},
   "source": [
    "## Import Packages"
   ]
  },
  {
   "cell_type": "code",
   "execution_count": 1,
   "metadata": {},
   "outputs": [],
   "source": [
    "import Gmsh: gmsh \n",
    "using GR \n",
    "using LinearAlgebra\n",
    "using SparseArrays \n",
    "using Plots\n",
    "using LaTeXStrings"
   ]
  },
  {
   "cell_type": "markdown",
   "metadata": {},
   "source": [
    "## Section 1: Unit Square Geometry  "
   ]
  },
  {
   "cell_type": "code",
   "execution_count": 3,
   "metadata": {},
   "outputs": [
    {
     "name": "stdout",
     "output_type": "stream",
     "text": [
      "Info    : Reading 'sloep-first-mesh.msh'...\n",
      "Info    : 1 entity\n",
      "Info    : 41631 nodes\n",
      "Info    : 80128 elements\n",
      "Info    : Done reading 'sloep-first-mesh.msh'\n",
      "-------------------------------------------------------\n",
      "Version       : 4.10.2\n",
      "License       : GNU General Public License\n",
      "Build OS      : MacOSX-sdk\n",
      "Build date    : 19700101\n",
      "Build host    : amdci7\n",
      "Build options : 64Bit ALGLIB[contrib] ANN[contrib] Bamg Blossom Cairo DIntegration Dlopen DomHex Eigen[contrib] Fltk GMP Gmm[contrib] Hxt Jpeg Kbipack MathEx[contrib] Mesh Metis[contrib] Mmg Mpeg Netgen ONELAB ONELABMetamodel OpenCASCADE OpenCASCADE-CAF OpenGL OpenMP OptHom Parser Plugins Png Post QuadMeshingTools QuadTri Solver TetGen/BR Voro++[contrib] WinslowUntangler Zlib\n",
      "FLTK version  : 1.3.8\n",
      "OCC version   : 7.6.2\n",
      "Packaged by   : root\n",
      "Web site      : https://gmsh.info\n",
      "Issue tracker : https://gitlab.onelab.info/gmsh/gmsh/issues\n",
      "-------------------------------------------------------\n"
     ]
    }
   ],
   "source": [
    "#..1/4: Finalize gmsh\n",
    "gmsh.initialize()\n",
    "\n",
    "#..2/4: Read mesh from file\n",
    "gmsh.open(\"sloep-first-mesh.msh\")\n",
    "\n",
    "#..if true, visualize mesh through the GUI \n",
    "if (true) gmsh.fltk.run() end \n",
    "\n",
    "#..3/4: perform loop over the elemements \n",
    "element_types, element_ids, element_connectivity = gmsh.model.mesh.getElements(2)\n",
    "nelements = length(element_ids[1])\n",
    "  \n",
    "for element_id in 1:nelements\n",
    "\n",
    "    #....retrieve global numbering of the local nodes of the current element\n",
    "    node1_id = element_connectivity[1][3*(element_id-1)+1]\n",
    "    node2_id = element_connectivity[1][3*(element_id-1)+2]\n",
    "    node3_id = element_connectivity[1][3*(element_id-1)+3]\n",
    "\n",
    "    if (false)\n",
    "      println(\"on element \", element_id, \" node-1 has global number \", node1_id)\n",
    "      println(\"on element \", element_id, \" node-2 has global number \", node2_id)\n",
    "      println(\"on element \", element_id, \" node-3 has global number \", node3_id)\n",
    "      println(\" \")\n",
    "    end \n",
    "\n",
    "end \n",
    "\n",
    "#..4/4: Finalize gmsh\n",
    "gmsh.finalize()"
   ]
  },
  {
   "cell_type": "code",
   "execution_count": null,
   "metadata": {},
   "outputs": [],
   "source": []
  }
 ],
 "metadata": {
  "kernelspec": {
   "display_name": "Julia 1.8.1",
   "language": "julia",
   "name": "julia-1.8"
  },
  "language_info": {
   "file_extension": ".jl",
   "mimetype": "application/julia",
   "name": "julia",
   "version": "1.8.1"
  }
 },
 "nbformat": 4,
 "nbformat_minor": 2
}
