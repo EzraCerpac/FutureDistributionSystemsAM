{
 "cells": [
  {
   "cell_type": "markdown",
   "id": "07a306bf",
   "metadata": {},
   "source": [
    "# Towards a Type-Stable Generation of Vectors Containing User Defined Types\n",
    "\n",
    "We wish to work with vectors (one-dimensional arrays or lists) with elements whose type is used-defined. We seek to understand how to allocate of such vectors. And we seek to understand how to construct such vectors in such a way that the number of allocations is independent of (or only depends mildly on) the length of the vector. This implies that we seek to avoid allocating memory in the loop over elements in which the vector is constructed.\n",
    "\n",
    "We wonder whether the use of static arrays can be avoided. We wish to understand the intrinsics of Julia. And possibly (?) the use of static arrays does not carry over (?) to user-defined types.   \n",
    "\n",
    "We wish to understand the mechanism that static arrays adds (at compiler level?) to avoid memory allocations? \n",
    "\n",
    "This notebook is divided into various sections. More ... "
   ]
  },
  {
   "cell_type": "markdown",
   "id": "af64a92d",
   "metadata": {},
   "source": [
    "## Import Packages"
   ]
  },
  {
   "cell_type": "code",
   "execution_count": 1,
   "id": "c0a61411",
   "metadata": {},
   "outputs": [],
   "source": [
    "using LinearAlgebra\n",
    "using StructArrays \n",
    "using Statistics\n",
    "using StaticArrays\n",
    "using BenchmarkTools"
   ]
  },
  {
   "cell_type": "markdown",
   "id": "4f3bbc8b",
   "metadata": {},
   "source": [
    "## Section 1: Generate N-Vector of Single Int64 \n",
    "\n",
    "We start elementary by considering vectors of long integers. \n",
    "\n",
    "<b> The good news</b>: Using the macro @btime we show that vector allocation and construction takes one (single) allocation independent of problem size. The solution we provide here acts as a model for more complex constructions. \n",
    "\n",
    "<b> Lessons Learned </b>: \n",
    "1. <i>undef</i> means <i>uninitialized</i>.  \n",
    "2. the keyword <i>missing</i> is explained at [Julia manual for missing](https://docs.julialang.org/en/v1/manual/missing/);"
   ]
  },
  {
   "cell_type": "code",
   "execution_count": 2,
   "id": "224b7570",
   "metadata": {},
   "outputs": [
    {
     "data": {
      "text/plain": [
       "genvec1 (generic function with 1 method)"
      ]
     },
     "execution_count": 2,
     "metadata": {},
     "output_type": "execute_result"
    }
   ],
   "source": [
    "function genvec1(N)\n",
    "    result = Vector{Int64}(undef,N)\n",
    "    for i=1:N\n",
    "        result[i] = 2*i \n",
    "    end \n",
    "    return result\n",
    "end "
   ]
  },
  {
   "cell_type": "code",
   "execution_count": 3,
   "id": "2f0b03c7",
   "metadata": {},
   "outputs": [
    {
     "data": {
      "text/plain": [
       "5-element Vector{Int64}:\n",
       "  2\n",
       "  4\n",
       "  6\n",
       "  8\n",
       " 10"
      ]
     },
     "execution_count": 3,
     "metadata": {},
     "output_type": "execute_result"
    }
   ],
   "source": [
    "# test run for a given input \n",
    "genvec1(5)"
   ]
  },
  {
   "cell_type": "code",
   "execution_count": 4,
   "id": "bfd5fdbb",
   "metadata": {},
   "outputs": [
    {
     "name": "stdout",
     "output_type": "stream",
     "text": [
      "  29.816 ns (1 allocation: 144 bytes)\n",
      "  48.077 ns (1 allocation: 896 bytes)\n",
      "  358.537 ns (1 allocation: 7.94 KiB)\n"
     ]
    }
   ],
   "source": [
    "N = 10;    @btime genvec1(N); \n",
    "N = 100;   @btime genvec1(N);\n",
    "N = 1000;  @btime genvec1(N);"
   ]
  },
  {
   "cell_type": "code",
   "execution_count": 5,
   "id": "cf3284f0",
   "metadata": {},
   "outputs": [],
   "source": [
    "#@code_warntype genvec1(5)"
   ]
  },
  {
   "cell_type": "code",
   "execution_count": 6,
   "id": "b3766538",
   "metadata": {},
   "outputs": [],
   "source": [
    "#@code_lowered genvec1(5)"
   ]
  },
  {
   "cell_type": "markdown",
   "id": "afb5b706",
   "metadata": {},
   "source": [
    "## Section 2: Generate N-Vector of 2-Tuple of Int64\n",
    "\n",
    "Here we consider vectors of two-vectors on long integer. "
   ]
  },
  {
   "cell_type": "markdown",
   "id": "baef4ab7",
   "metadata": {},
   "source": [
    "### Native Bad Solutions to Avoid  \n",
    "\n",
    "In thec solution that follows, a vector of size two is allocated for each value in the loop. The number that @btime increases proportionally with problem size. This solution provides a prototype we wish to avoid. "
   ]
  },
  {
   "cell_type": "code",
   "execution_count": 7,
   "id": "9f2fa426",
   "metadata": {},
   "outputs": [
    {
     "data": {
      "text/plain": [
       "genvec2 (generic function with 1 method)"
      ]
     },
     "execution_count": 7,
     "metadata": {},
     "output_type": "execute_result"
    }
   ],
   "source": [
    "function genvec2(N)\n",
    "    result = Vector{Vector{Int64}}(undef, N) # allocate one Vector\n",
    "    for i = 1:N\n",
    "        result[i] = [2i, 2i+1] # allocate one Vector per loop\n",
    "    end \n",
    "    return result\n",
    "end"
   ]
  },
  {
   "cell_type": "code",
   "execution_count": 8,
   "id": "d75696c7",
   "metadata": {},
   "outputs": [
    {
     "name": "stdout",
     "output_type": "stream",
     "text": [
      "  207.957 ns (11 allocations: 928 bytes)\n",
      "  1.733 μs (101 allocations: 8.69 KiB)\n",
      "  16.917 μs (1001 allocations: 86.06 KiB)\n"
     ]
    }
   ],
   "source": [
    "N = 10;    @btime genvec2(N); \n",
    "N = 100;   @btime genvec2(N);\n",
    "N = 1000;  @btime genvec2(N);"
   ]
  },
  {
   "cell_type": "code",
   "execution_count": 54,
   "id": "f74d18fd",
   "metadata": {},
   "outputs": [
    {
     "data": {
      "text/plain": [
       "genvec3 (generic function with 1 method)"
      ]
     },
     "execution_count": 54,
     "metadata": {},
     "output_type": "execute_result"
    }
   ],
   "source": [
    "function genvec3(N)\n",
    "    result = [zeros(Int64,2) for i=1:N] \n",
    "    # result = Vector{Vector{Int64}}(undef, N) # UndefRefError: access to undefined reference in line 5 \n",
    "    for i=1:N\n",
    "        # result[i] = (2*i, 2i+1) # using a generator - cannot convert Tuple{Int64, Int64} to Vector{Int64}  \n",
    "        result[i] .= (2*i, 2i+1) # using a generator   \n",
    "    end \n",
    "    return result\n",
    "end "
   ]
  },
  {
   "cell_type": "code",
   "execution_count": 55,
   "id": "0fa64e1b",
   "metadata": {},
   "outputs": [
    {
     "name": "stdout",
     "output_type": "stream",
     "text": [
      "  237.330 ns (11 allocations: 928 bytes)\n",
      "  1.944 μs (101 allocations: 8.69 KiB)\n",
      "  19.125 μs (1001 allocations: 86.06 KiB)\n"
     ]
    }
   ],
   "source": [
    "N = 10;    @btime genvec3(N); \n",
    "N = 100;   @btime genvec3(N);\n",
    "N = 1000;  @btime genvec3(N);"
   ]
  },
  {
   "cell_type": "code",
   "execution_count": 11,
   "id": "fd74946f",
   "metadata": {},
   "outputs": [
    {
     "data": {
      "text/plain": [
       "genvec4 (generic function with 1 method)"
      ]
     },
     "execution_count": 11,
     "metadata": {},
     "output_type": "execute_result"
    }
   ],
   "source": [
    "# this implementation fails while it does work for mikmore. Unclear why. \n",
    "function genvec4(N)\n",
    "    result = eachcol(zeros(Int64, 2, N)) # allocate one Matrix but read it like many Vectors\n",
    "    for i = 1:N\n",
    "        result[i] .= (2i, 2i+1) # fill the sliced matrix with values\n",
    "    end \n",
    "    return result\n",
    "end"
   ]
  },
  {
   "cell_type": "markdown",
   "id": "ae65fba5",
   "metadata": {},
   "source": [
    "### More Bad Solutions Even Though Static Arrays Are Used "
   ]
  },
  {
   "cell_type": "code",
   "execution_count": 34,
   "id": "56ecbadf",
   "metadata": {},
   "outputs": [
    {
     "data": {
      "text/plain": [
       "genvec5 (generic function with 1 method)"
      ]
     },
     "execution_count": 34,
     "metadata": {},
     "output_type": "execute_result"
    }
   ],
   "source": [
    "function genvec5(N)\n",
    "    # result = Vector{Vector{Int64}}(undef, N)\n",
    "    result = [zeros(Int64,2) for i=1:N]\n",
    "    # result = eachcol(zeros(Int64, 2, N)) # allocate one Matrix but read it like many Vectors\n",
    "    for i = 1:N\n",
    "        result[i] .= SVector(2i, 2i+1) # fill the sliced matrix with values\n",
    "    end \n",
    "    return result\n",
    "end"
   ]
  },
  {
   "cell_type": "code",
   "execution_count": 24,
   "id": "f14ba84c",
   "metadata": {},
   "outputs": [
    {
     "name": "stdout",
     "output_type": "stream",
     "text": [
      "  234.541 ns (11 allocations: 928 bytes)\n",
      "  1.931 μs (101 allocations: 8.69 KiB)\n",
      "  18.667 μs (1001 allocations: 86.06 KiB)\n"
     ]
    }
   ],
   "source": [
    "N = 10;    @btime genvec5(N); \n",
    "N = 100;   @btime genvec5(N);\n",
    "N = 1000;  @btime genvec5(N);"
   ]
  },
  {
   "cell_type": "code",
   "execution_count": 29,
   "id": "1b7f879f",
   "metadata": {},
   "outputs": [
    {
     "data": {
      "text/plain": [
       "5-element SVector{5, Tuple{Int64, Int64}} with indices SOneTo(5):\n",
       " (2, 3)\n",
       " (4, 5)\n",
       " (6, 7)\n",
       " (8, 9)\n",
       " (10, 11)"
      ]
     },
     "execution_count": 29,
     "metadata": {},
     "output_type": "execute_result"
    }
   ],
   "source": [
    "# use as script - intermediate for next version \n",
    "result = @SVector [ ( 2*i, 2*i+1 ) for i=1:5 ]"
   ]
  },
  {
   "cell_type": "code",
   "execution_count": 30,
   "id": "f2df3487",
   "metadata": {},
   "outputs": [
    {
     "data": {
      "text/plain": [
       "genvec6 (generic function with 1 method)"
      ]
     },
     "execution_count": 30,
     "metadata": {},
     "output_type": "execute_result"
    }
   ],
   "source": [
    "# use as function \n",
    "function genvec6(N) \n",
    "    result = @SVector [ ( 2*i, 2*i+1 ) for i=1:N ]\n",
    "    return result\n",
    "end"
   ]
  },
  {
   "cell_type": "code",
   "execution_count": 37,
   "id": "a0d4eaeb",
   "metadata": {},
   "outputs": [],
   "source": [
    "# takes age to run - what is wrong here?  \n",
    "# genvec6(5)"
   ]
  },
  {
   "cell_type": "code",
   "execution_count": 31,
   "id": "33d8c7b9",
   "metadata": {},
   "outputs": [
    {
     "name": "stdout",
     "output_type": "stream",
     "text": [
      "  336.788 ns (0 allocations: 0 bytes)\n",
      "  336.611 ns (0 allocations: 0 bytes)\n",
      "  336.406 ns (0 allocations: 0 bytes)\n"
     ]
    }
   ],
   "source": [
    "N = 10;    @btime genvec6(N); \n",
    "N = 100;   @btime genvec6(N);\n",
    "N = 1000;  @btime genvec6(N);"
   ]
  },
  {
   "cell_type": "markdown",
   "id": "f2a8ed3e",
   "metadata": {},
   "source": [
    "### Finally a Good Solution - Hurray! \n",
    "\n",
    "The solution that follows employs both static arrays and map. Can "
   ]
  },
  {
   "cell_type": "code",
   "execution_count": 32,
   "id": "0bed82f5",
   "metadata": {},
   "outputs": [
    {
     "data": {
      "text/plain": [
       "genvec7 (generic function with 1 method)"
      ]
     },
     "execution_count": 32,
     "metadata": {},
     "output_type": "execute_result"
    }
   ],
   "source": [
    "function genvec7(N)\n",
    "    result = map(i -> @SVector[2i,2i+1], 1:N) # allocate one Vector\n",
    "    return result\n",
    "end"
   ]
  },
  {
   "cell_type": "code",
   "execution_count": 33,
   "id": "f1dc4e2d",
   "metadata": {},
   "outputs": [
    {
     "name": "stdout",
     "output_type": "stream",
     "text": [
      "  31.061 ns (1 allocation: 224 bytes)\n",
      "  60.106 ns (1 allocation: 1.77 KiB)\n",
      "  356.118 ns (1 allocation: 15.75 KiB)\n"
     ]
    }
   ],
   "source": [
    "N = 10;    @btime genvec7(N); \n",
    "N = 100;   @btime genvec7(N);\n",
    "N = 1000;  @btime genvec7(N);"
   ]
  },
  {
   "cell_type": "code",
   "execution_count": null,
   "id": "591fac87",
   "metadata": {},
   "outputs": [],
   "source": []
  }
 ],
 "metadata": {
  "kernelspec": {
   "display_name": "Julia 1.8.1",
   "language": "julia",
   "name": "julia-1.8"
  },
  "language_info": {
   "file_extension": ".jl",
   "mimetype": "application/julia",
   "name": "julia",
   "version": "1.8.1"
  }
 },
 "nbformat": 4,
 "nbformat_minor": 5
}
