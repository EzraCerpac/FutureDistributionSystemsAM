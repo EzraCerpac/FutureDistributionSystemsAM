{
 "cells": [
  {
   "cell_type": "markdown",
   "id": "6d5333c0",
   "metadata": {},
   "source": [
    "# Metallic Flat Plate Magnetized in Exterior Field \n",
    "# Test Case in TU Delft Master Thesis of Lisette de Bruin \n",
    "# 2D Toy Version \n",
    "\n",
    "<b>Goal</b>: The goal of this notebook is to compute a 2D numerical reference solution for the magnetization vector of metallic plate $\\vec{M}(\\vec{x})$ placed in homogeneous external magnetic field; "
   ]
  },
  {
   "cell_type": "markdown",
   "id": "7b692504",
   "metadata": {},
   "source": [
    "## Import Packages"
   ]
  },
  {
   "cell_type": "code",
   "execution_count": 1,
   "id": "20af491b",
   "metadata": {},
   "outputs": [],
   "source": [
    "using Ferrite, SparseArrays"
   ]
  },
  {
   "cell_type": "markdown",
   "id": "572c54cc",
   "metadata": {},
   "source": [
    "## Section 1: Using Ferrite.jl "
   ]
  },
  {
   "cell_type": "markdown",
   "id": "56ce0e4d",
   "metadata": {},
   "source": [
    "### Ferrite.jl Howto: What are cellvalues ? "
   ]
  },
  {
   "cell_type": "code",
   "execution_count": 2,
   "id": "b0c97002",
   "metadata": {},
   "outputs": [
    {
     "name": "stdout",
     "output_type": "stream",
     "text": [
      "search: \u001b[0m\u001b[1mg\u001b[22m\u001b[0m\u001b[1me\u001b[22m\u001b[0m\u001b[1mn\u001b[22m\u001b[0m\u001b[1me\u001b[22m\u001b[0m\u001b[1mr\u001b[22m\u001b[0m\u001b[1ma\u001b[22m\u001b[0m\u001b[1mt\u001b[22m\u001b[0m\u001b[1me\u001b[22m\u001b[0m\u001b[1m_\u001b[22m\u001b[0m\u001b[1mg\u001b[22m\u001b[0m\u001b[1mr\u001b[22m\u001b[0m\u001b[1mi\u001b[22m\u001b[0m\u001b[1md\u001b[22m\n",
      "\n"
     ]
    },
    {
     "data": {
      "text/latex": [
       "\\begin{verbatim}\n",
       "generate_grid(celltype::Cell, nel::NTuple, [left::Vec, right::Vec)\n",
       "\\end{verbatim}\n",
       "Return a \\texttt{Grid} for a rectangle in 1, 2 or 3 dimensions. \\texttt{celltype} defined the type of cells, e.g. \\texttt{Triangle} or \\texttt{Hexahedron}. \\texttt{nel} is a tuple of the number of elements in each direction. \\texttt{left} and \\texttt{right} are optional endpoints of the domain. Defaults to -1 and 1 in all directions.\n",
       "\n"
      ],
      "text/markdown": [
       "```\n",
       "generate_grid(celltype::Cell, nel::NTuple, [left::Vec, right::Vec)\n",
       "```\n",
       "\n",
       "Return a `Grid` for a rectangle in 1, 2 or 3 dimensions. `celltype` defined the type of cells, e.g. `Triangle` or `Hexahedron`. `nel` is a tuple of the number of elements in each direction. `left` and `right` are optional endpoints of the domain. Defaults to -1 and 1 in all directions.\n"
      ],
      "text/plain": [
       "  \u001b[38;5;81mgenerate_grid\u001b[0m(\u001b[0m\u001b[39mcelltype\u001b[0m\u001b[38;5;197m::\u001b[0m\u001b[39mCell\u001b[0m\u001b[39m,\u001b[0m \u001b[0m\u001b[39mnel\u001b[0m\u001b[38;5;197m::\u001b[0m\u001b[39mNTuple\u001b[0m\u001b[39m,\u001b[0m \u001b[0m\u001b[39m[\u001b[0m\u001b[39mleft\u001b[0m\u001b[38;5;197m::\u001b[0m\u001b[39mVec\u001b[0m\u001b[39m,\u001b[0m \u001b[0m\u001b[39mright\u001b[0m\u001b[38;5;197m::\u001b[0m\u001b[39mVec\u001b[0m\u001b[39m)\u001b[0m\n",
       "\n",
       "\n",
       "  Return a \u001b[36mGrid\u001b[39m for a rectangle in 1, 2 or 3 dimensions. \u001b[36mcelltype\u001b[39m defined the\n",
       "  type of cells, e.g. \u001b[36mTriangle\u001b[39m or \u001b[36mHexahedron\u001b[39m. \u001b[36mnel\u001b[39m is a tuple of the number of\n",
       "  elements in each direction. \u001b[36mleft\u001b[39m and \u001b[36mright\u001b[39m are optional endpoints of the\n",
       "  domain. Defaults to -1 and 1 in all directions."
      ]
     },
     "execution_count": 2,
     "metadata": {},
     "output_type": "execute_result"
    }
   ],
   "source": [
    "?generate_grid"
   ]
  },
  {
   "cell_type": "code",
   "execution_count": 3,
   "id": "b9b8b76e",
   "metadata": {},
   "outputs": [
    {
     "data": {
      "text/plain": [
       "Grid{2, Quadrilateral, Float64} with 4 Quadrilateral cells and 9 nodes"
      ]
     },
     "execution_count": 3,
     "metadata": {},
     "output_type": "execute_result"
    }
   ],
   "source": [
    "grid = generate_grid(Quadrilateral, (2, 2))"
   ]
  },
  {
   "cell_type": "code",
   "execution_count": 4,
   "id": "d045fae0",
   "metadata": {},
   "outputs": [
    {
     "data": {
      "text/plain": [
       "CellScalarValues{2, Float64, RefCube} with 4 shape functions and 4 quadrature points"
      ]
     },
     "execution_count": 4,
     "metadata": {},
     "output_type": "execute_result"
    }
   ],
   "source": [
    "dim = 2\n",
    "ip = Lagrange{dim, RefCube, 1}()\n",
    "qr = QuadratureRule{dim, RefCube}(2)\n",
    "cellvalues = CellScalarValues(qr, ip)"
   ]
  },
  {
   "cell_type": "markdown",
   "id": "815c087d",
   "metadata": {},
   "source": [
    "### Ferrite.jl Howto: What does re-init do? "
   ]
  },
  {
   "cell_type": "code",
   "execution_count": 5,
   "id": "3dadd90b",
   "metadata": {},
   "outputs": [
    {
     "name": "stdout",
     "output_type": "stream",
     "text": [
      "search: \u001b[0m\u001b[1mr\u001b[22m\u001b[0m\u001b[1me\u001b[22m\u001b[0m\u001b[1mi\u001b[22m\u001b[0m\u001b[1mn\u001b[22m\u001b[0m\u001b[1mi\u001b[22m\u001b[0m\u001b[1mt\u001b[22m\u001b[0m\u001b[1m!\u001b[22m at\u001b[0m\u001b[1mr\u001b[22m\u001b[0m\u001b[1me\u001b[22mpl\u001b[0m\u001b[1mi\u001b[22m\u001b[0m\u001b[1mn\u001b[22m\u001b[0m\u001b[1mi\u001b[22m\u001b[0m\u001b[1mt\u001b[22m pa\u001b[0m\u001b[1mr\u001b[22m\u001b[0m\u001b[1me\u001b[22mnt\u001b[0m\u001b[1mi\u001b[22m\u001b[0m\u001b[1mn\u001b[22md\u001b[0m\u001b[1mi\u001b[22mces Ca\u001b[0m\u001b[1mr\u001b[22mt\u001b[0m\u001b[1me\u001b[22ms\u001b[0m\u001b[1mi\u001b[22ma\u001b[0m\u001b[1mn\u001b[22m\u001b[0m\u001b[1mI\u001b[22mndex Ca\u001b[0m\u001b[1mr\u001b[22mt\u001b[0m\u001b[1me\u001b[22ms\u001b[0m\u001b[1mi\u001b[22ma\u001b[0m\u001b[1mn\u001b[22m\u001b[0m\u001b[1mI\u001b[22mndices\n",
      "\n"
     ]
    },
    {
     "data": {
      "text/latex": [
       "\\begin{verbatim}\n",
       "reinit!(cv::CellValues, x::Vector)\n",
       "reinit!(bv::FaceValues, x::Vector, face::Int)\n",
       "\\end{verbatim}\n",
       "Update the \\texttt{CellValues}/\\texttt{FaceValues} object for a cell or face with coordinates \\texttt{x}. The derivatives of the shape functions, and the new integration weights are computed.\n",
       "\n"
      ],
      "text/markdown": [
       "```\n",
       "reinit!(cv::CellValues, x::Vector)\n",
       "reinit!(bv::FaceValues, x::Vector, face::Int)\n",
       "```\n",
       "\n",
       "Update the `CellValues`/`FaceValues` object for a cell or face with coordinates `x`. The derivatives of the shape functions, and the new integration weights are computed.\n"
      ],
      "text/plain": [
       "  \u001b[38;5;81mreinit!\u001b[0m(\u001b[0m\u001b[39mcv\u001b[0m\u001b[38;5;197m::\u001b[0m\u001b[39mCellValues\u001b[0m\u001b[39m,\u001b[0m \u001b[0m\u001b[39mx\u001b[0m\u001b[38;5;197m::\u001b[0m\u001b[39mVector\u001b[0m\u001b[39m)\u001b[0m\n",
       "  \u001b[0m\u001b[38;5;81mreinit!\u001b[0m(\u001b[0m\u001b[39mbv\u001b[0m\u001b[38;5;197m::\u001b[0m\u001b[39mFaceValues\u001b[0m\u001b[39m,\u001b[0m \u001b[0m\u001b[39mx\u001b[0m\u001b[38;5;197m::\u001b[0m\u001b[39mVector\u001b[0m\u001b[39m,\u001b[0m \u001b[0m\u001b[39mface\u001b[0m\u001b[38;5;197m::\u001b[0m\u001b[39mInt\u001b[0m\u001b[39m)\u001b[0m\n",
       "\n",
       "\n",
       "  Update the \u001b[36mCellValues\u001b[39m/\u001b[36mFaceValues\u001b[39m object for a cell or face with coordinates\n",
       "  \u001b[36mx\u001b[39m. The derivatives of the shape functions, and the new integration weights\n",
       "  are computed."
      ]
     },
     "execution_count": 5,
     "metadata": {},
     "output_type": "execute_result"
    }
   ],
   "source": [
    "?reinit!"
   ]
  },
  {
   "cell_type": "markdown",
   "id": "a5d830e4",
   "metadata": {},
   "source": [
    "### Ferrite.jl Howto:  How to get coords and coord_qp? "
   ]
  },
  {
   "cell_type": "code",
   "execution_count": 6,
   "id": "d3062c71",
   "metadata": {},
   "outputs": [
    {
     "data": {
      "text/plain": [
       "my_diff_coeff (generic function with 1 method)"
      ]
     },
     "execution_count": 6,
     "metadata": {},
     "output_type": "execute_result"
    }
   ],
   "source": [
    "function my_diff_coeff(coord_qp)\n",
    "    return coord_qp[1] + coord_qp[2]\n",
    "end "
   ]
  },
  {
   "cell_type": "code",
   "execution_count": 7,
   "id": "a87696fa",
   "metadata": {},
   "outputs": [
    {
     "data": {
      "text/plain": [
       "my_get_coords (generic function with 1 method)"
      ]
     },
     "execution_count": 7,
     "metadata": {},
     "output_type": "execute_result"
    }
   ],
   "source": [
    "function my_get_coords(dh::DofHandler)\n",
    "    # Loop over all cels\n",
    "    for (cellcount, cell) in enumerate(CellIterator(dh))\n",
    "        coords = getcoordinates(cell)\n",
    "        # display(coords)\n",
    "        reinit!(cellvalues, cell)\n",
    "        for q_point in 1:getnquadpoints(cellvalues)\n",
    "            coords_qp = spatial_coordinate(cellvalues, q_point, coords)\n",
    "            # display(my_diff_coeff(coords_qp)) \n",
    "        end\n",
    "    end\n",
    "    return 0\n",
    "end"
   ]
  },
  {
   "cell_type": "code",
   "execution_count": 8,
   "id": "c6f93cd7",
   "metadata": {},
   "outputs": [],
   "source": [
    "dh = DofHandler(grid)\n",
    "add!(dh, :u, 1)\n",
    "close!(dh);"
   ]
  },
  {
   "cell_type": "code",
   "execution_count": 9,
   "id": "92e5f694",
   "metadata": {},
   "outputs": [],
   "source": [
    "my_coords = my_get_coords(dh)\n",
    "my_coords;"
   ]
  },
  {
   "cell_type": "markdown",
   "id": "4efeccc4",
   "metadata": {},
   "source": [
    "## Section 2: 2D Mockup of the Magnetized Plate  "
   ]
  },
  {
   "cell_type": "code",
   "execution_count": 11,
   "id": "b0d2843c",
   "metadata": {},
   "outputs": [
    {
     "data": {
      "text/plain": [
       "my_diff_coeff (generic function with 1 method)"
      ]
     },
     "execution_count": 11,
     "metadata": {},
     "output_type": "execute_result"
    }
   ],
   "source": [
    "# define spatially varying diffusion coefficient \n",
    "function my_diff_coeff(coord_qp)\n",
    "    xbound = abs(coord_qp[1])<0.3\n",
    "    ybound = abs(coord_qp[2])<0.1    \n",
    "    return 1+1e6*(xbound*ybound) \n",
    "end "
   ]
  },
  {
   "cell_type": "code",
   "execution_count": 12,
   "id": "5e0616c3",
   "metadata": {},
   "outputs": [
    {
     "data": {
      "text/plain": [
       "assemble_element! (generic function with 1 method)"
      ]
     },
     "execution_count": 12,
     "metadata": {},
     "output_type": "execute_result"
    }
   ],
   "source": [
    "# Ke: added spatially varying diffusion coefficient \n",
    "# fe: forces zero source term \n",
    "function assemble_element!(Ke::Matrix, fe::Vector, cellvalues::CellScalarValues, mycoords)\n",
    "    n_basefuncs = getnbasefunctions(cellvalues)\n",
    "    # Reset to 0\n",
    "    fill!(Ke, 0)\n",
    "    fill!(fe, 0)\n",
    "    # Loop over quadrature points\n",
    "    for q_point in 1:getnquadpoints(cellvalues)\n",
    "        # Get the quadrature weight\n",
    "        dΩ = getdetJdV(cellvalues, q_point)\n",
    "        # ADDED: Get coord of quadrature point\n",
    "        coords_qp = spatial_coordinate(cellvalues, q_point, mycoords)\n",
    "        # ADDED: Evaluate spatially dependent diffusion coefficient in quad point \n",
    "        val_diff_coeff = my_diff_coeff(coords_qp)\n",
    "        # Loop over test shape functions\n",
    "        for i in 1:n_basefuncs\n",
    "            δu  = shape_value(cellvalues, q_point, i)\n",
    "            ∇δu = shape_gradient(cellvalues, q_point, i)\n",
    "            # Add contribution to fe\n",
    "            fe[i] += 0 * δu * dΩ\n",
    "            # Loop over trial shape functions\n",
    "            for j in 1:n_basefuncs\n",
    "                ∇u = shape_gradient(cellvalues, q_point, j)\n",
    "                # MODIFIED: Add contribution to Ke\n",
    "                Ke[i, j] += val_diff_coeff * (∇δu ⋅ ∇u) * dΩ\n",
    "            end\n",
    "        end\n",
    "    end\n",
    "    return Ke, fe\n",
    "end"
   ]
  },
  {
   "cell_type": "code",
   "execution_count": null,
   "id": "0f88a3d9",
   "metadata": {},
   "outputs": [],
   "source": [
    "coords = getcoordinates(cell)\n",
    "\n",
    "coords_qp = spatial_coordinate(cellvalues, q_point, coords)\n",
    "        \n",
    "val_diff_coeff = my_diff_coeff(coords_qp)\n",
    "\n"
   ]
  },
  {
   "cell_type": "code",
   "execution_count": 13,
   "id": "bf40a0d1",
   "metadata": {},
   "outputs": [
    {
     "data": {
      "text/plain": [
       "assemble_global (generic function with 1 method)"
      ]
     },
     "execution_count": 13,
     "metadata": {},
     "output_type": "execute_result"
    }
   ],
   "source": [
    "function assemble_global(cellvalues::CellScalarValues, K::SparseMatrixCSC, dh::DofHandler)\n",
    "    # Allocate the element stiffness matrix and element force vector\n",
    "    n_basefuncs = getnbasefunctions(cellvalues)\n",
    "    Ke = zeros(n_basefuncs, n_basefuncs)\n",
    "    fe = zeros(n_basefuncs)\n",
    "    # Allocate global force vector f\n",
    "    f = zeros(ndofs(dh))\n",
    "    # Create an assembler\n",
    "    assembler = start_assemble(K, f)\n",
    "    # Loop over all cels\n",
    "    for cell in CellIterator(dh)\n",
    "        # Added: Get coordinates from current cell \n",
    "        coords = getcoordinates(cell)\n",
    "        # Reinitialize cellvalues for this cell\n",
    "        reinit!(cellvalues, cell)\n",
    "        # Modified - Compute element contribution\n",
    "        assemble_element!(Ke, fe, cellvalues, coords)\n",
    "        # Assemble Ke and fe into K and f\n",
    "        assemble!(assembler, celldofs(cell), Ke, fe)\n",
    "    end\n",
    "    return K, f\n",
    "end"
   ]
  },
  {
   "cell_type": "code",
   "execution_count": 100,
   "id": "118c25c7",
   "metadata": {},
   "outputs": [],
   "source": [
    "nels  = (100, 100) # number of elements in each spatial direction\n",
    "left  = Vec((-10.0, -10.0)) # start point for geometry \n",
    "right = Vec((10.0, 10.0,))    # end point for geometry\n",
    "grid = generate_grid(Quadrilateral, (100, 100));\n",
    "\n",
    "# nels  = (100, 50) # number of elements in each spatial direction\n",
    "# left  = Vec((0.0, 0.0)) # start point for geometry \n",
    "# right = Vec((2.0, 1.0,))    # end point for geometry\n",
    "# grid = generate_grid(Quadrilateral, (50, 50),left, right);\n",
    "#grid "
   ]
  },
  {
   "cell_type": "code",
   "execution_count": 101,
   "id": "46e4fe42",
   "metadata": {},
   "outputs": [],
   "source": [
    "dim = 2\n",
    "ip = Lagrange{dim, RefCube, 1}()\n",
    "qr = QuadratureRule{dim, RefCube}(2)\n",
    "cellvalues = CellScalarValues(qr, ip);"
   ]
  },
  {
   "cell_type": "code",
   "execution_count": 102,
   "id": "35d16e60",
   "metadata": {},
   "outputs": [],
   "source": [
    "dh = DofHandler(grid)\n",
    "add!(dh, :u, 1)\n",
    "close!(dh);"
   ]
  },
  {
   "cell_type": "code",
   "execution_count": 103,
   "id": "0fb329ff",
   "metadata": {},
   "outputs": [],
   "source": [
    "K = create_sparsity_pattern(dh);"
   ]
  },
  {
   "cell_type": "code",
   "execution_count": 104,
   "id": "c76de664",
   "metadata": {},
   "outputs": [],
   "source": [
    "ch = ConstraintHandler(dh);"
   ]
  },
  {
   "cell_type": "code",
   "execution_count": 105,
   "id": "c370e26b",
   "metadata": {},
   "outputs": [],
   "source": [
    "∂Ω = union(\n",
    "    getfaceset(grid, \"left\"),\n",
    "    getfaceset(grid, \"right\"),\n",
    "    getfaceset(grid, \"top\"),\n",
    "    getfaceset(grid, \"bottom\"),\n",
    ");\n",
    "\n",
    "# ∂Ω = union(\n",
    "#    getfaceset(grid, \"right\"),\n",
    "#    getfaceset(grid, \"top\"),\n",
    "# );"
   ]
  },
  {
   "cell_type": "code",
   "execution_count": 106,
   "id": "bb8f460f",
   "metadata": {},
   "outputs": [],
   "source": [
    "dbc = Dirichlet(:u, ∂Ω, (x, t) -> x[1])\n",
    "add!(ch, dbc);"
   ]
  },
  {
   "cell_type": "code",
   "execution_count": 107,
   "id": "e1b1a037",
   "metadata": {},
   "outputs": [
    {
     "data": {
      "text/plain": [
       "ConstraintHandler:\n",
       "  BCs:\n",
       "    Field: u, Components: [1]"
      ]
     },
     "execution_count": 107,
     "metadata": {},
     "output_type": "execute_result"
    }
   ],
   "source": [
    "close!(ch)"
   ]
  },
  {
   "cell_type": "code",
   "execution_count": 108,
   "id": "410e8e05",
   "metadata": {},
   "outputs": [],
   "source": [
    "K, f = assemble_global(cellvalues, K, dh);"
   ]
  },
  {
   "cell_type": "code",
   "execution_count": 109,
   "id": "aa8fcc63",
   "metadata": {},
   "outputs": [],
   "source": [
    "apply!(K, f, ch)\n",
    "u = K \\ f;"
   ]
  },
  {
   "cell_type": "markdown",
   "id": "03c1120e",
   "metadata": {},
   "source": [
    "### Computing Fluxes"
   ]
  },
  {
   "cell_type": "code",
   "execution_count": 118,
   "id": "a9eaa43d",
   "metadata": {},
   "outputs": [
    {
     "data": {
      "text/plain": [
       "compute_hfield (generic function with 1 method)"
      ]
     },
     "execution_count": 118,
     "metadata": {},
     "output_type": "execute_result"
    }
   ],
   "source": [
    "function compute_hfield(cellvalues::CellScalarValues{dim,T}, dh::DofHandler, a) where {dim,T}\n",
    "\n",
    "    n = getnbasefunctions(cellvalues)\n",
    "    cell_dofs = zeros(Int, n)\n",
    "    nqp = getnquadpoints(cellvalues)\n",
    "\n",
    "    # Allocate storage for the fluxes to store\n",
    "    q = [Vec{2,T}[] for _ in 1:getncells(dh.grid)]\n",
    "\n",
    "    for (cell_num, cell) in enumerate(CellIterator(dh))\n",
    "        q_cell = q[cell_num]\n",
    "        celldofs!(cell_dofs, dh, cell_num)\n",
    "        aᵉ = a[cell_dofs]\n",
    "        reinit!(cellvalues, cell)\n",
    "\n",
    "        for q_point in 1:nqp\n",
    "            q_qp = - function_gradient(cellvalues, q_point, aᵉ)\n",
    "            push!(q_cell, q_qp)\n",
    "        end\n",
    "    end\n",
    "    return q\n",
    "end\n",
    "\n",
    "function compute_bfield(cellvalues::CellScalarValues{dim,T}, dh::DofHandler, a) where {dim,T}\n",
    "\n",
    "    n = getnbasefunctions(cellvalues)\n",
    "    cell_dofs = zeros(Int, n)\n",
    "    nqp = getnquadpoints(cellvalues)\n",
    "\n",
    "    # Allocate storage for the fluxes to store\n",
    "    q = [Vec{2,T}[] for _ in 1:getncells(dh.grid)]\n",
    "\n",
    "    for (cell_num, cell) in enumerate(CellIterator(dh))\n",
    "        q_cell = q[cell_num]\n",
    "        celldofs!(cell_dofs, dh, cell_num)\n",
    "        aᵉ = a[cell_dofs]\n",
    "        reinit!(cellvalues, cell)\n",
    "\n",
    "        for q_point in 1:nqp\n",
    "            q_qp = - function_gradient(cellvalues, q_point, aᵉ)\n",
    "            push!(q_cell, q_qp)\n",
    "        end\n",
    "    end\n",
    "    return q\n",
    "end"
   ]
  },
  {
   "cell_type": "code",
   "execution_count": 119,
   "id": "72cbe085",
   "metadata": {},
   "outputs": [],
   "source": [
    "q_gp = compute_hfield(cellvalues, dh, u);\n",
    "#q_gp"
   ]
  },
  {
   "cell_type": "code",
   "execution_count": 112,
   "id": "28cc61ba",
   "metadata": {},
   "outputs": [],
   "source": [
    "projector = L2Projector(ip, grid);\n",
    "#projector "
   ]
  },
  {
   "cell_type": "code",
   "execution_count": 113,
   "id": "c3e16866",
   "metadata": {},
   "outputs": [],
   "source": [
    "#?project"
   ]
  },
  {
   "cell_type": "code",
   "execution_count": 114,
   "id": "63000e7a",
   "metadata": {},
   "outputs": [],
   "source": [
    "q_projected = project(projector, q_gp, qr; project_to_nodes=false);\n",
    "# q_projected"
   ]
  },
  {
   "cell_type": "code",
   "execution_count": null,
   "id": "c709f94d",
   "metadata": {},
   "outputs": [],
   "source": []
  },
  {
   "cell_type": "markdown",
   "id": "994647f8",
   "metadata": {},
   "source": [
    "### Exporting to VTK "
   ]
  },
  {
   "cell_type": "code",
   "execution_count": 115,
   "id": "abb978bc",
   "metadata": {},
   "outputs": [
    {
     "data": {
      "text/plain": [
       "1-element Vector{String}:\n",
       " \"magnetic_plate.vtu\""
      ]
     },
     "execution_count": 115,
     "metadata": {},
     "output_type": "execute_result"
    }
   ],
   "source": [
    "vtk_grid(\"magnetic_plate\", dh) do vtk\n",
    "    vtk_point_data(vtk, dh, u)\n",
    "    vtk_point_data(vtk, projector, q_projected, \"q\")\n",
    "end"
   ]
  },
  {
   "cell_type": "code",
   "execution_count": null,
   "id": "358941bb",
   "metadata": {},
   "outputs": [],
   "source": []
  }
 ],
 "metadata": {
  "kernelspec": {
   "display_name": "Julia 1.8.1",
   "language": "julia",
   "name": "julia-1.8"
  },
  "language_info": {
   "file_extension": ".jl",
   "mimetype": "application/julia",
   "name": "julia",
   "version": "1.8.1"
  }
 },
 "nbformat": 4,
 "nbformat_minor": 5
}
