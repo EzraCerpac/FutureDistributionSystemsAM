{
 "cells": [
  {
   "cell_type": "markdown",
   "metadata": {},
   "source": [
    "# Read Mesh Generated using GMSH "
   ]
  },
  {
   "cell_type": "markdown",
   "metadata": {},
   "source": [
    "Reads mesh using of the [GMSH](https://gmsh.info) package for geometry and mesh generation."
   ]
  },
  {
   "cell_type": "markdown",
   "metadata": {},
   "source": [
    "## Import Packages"
   ]
  },
  {
   "cell_type": "code",
   "execution_count": 1,
   "metadata": {},
   "outputs": [],
   "source": [
    "import Gmsh: gmsh \n",
    "using GR \n",
    "using LinearAlgebra\n",
    "using SparseArrays \n",
    "using Plots"
   ]
  },
  {
   "cell_type": "markdown",
   "metadata": {},
   "source": [
    "## Section 1: Unit Square Geometry  "
   ]
  },
  {
   "cell_type": "code",
   "execution_count": 3,
   "metadata": {},
   "outputs": [
    {
     "name": "stdout",
     "output_type": "stream",
     "text": [
      "Info    : Reading 'sloep-first-mesh.msh'...\n",
      "Info    : 1 entity\n",
      "Info    : 41631 nodes\n",
      "Info    : 80128 elements\n",
      "Info    : Done reading 'sloep-first-mesh.msh'\n"
     ]
    }
   ],
   "source": [
    "#..1/4: Finalize gmsh\n",
    "gmsh.initialize()\n",
    "\n",
    "#..2/4: Read mesh from file\n",
    "gmsh.open(\"sloep-first-mesh.msh\")\n",
    "\n",
    "#..if true, visualize mesh through the GUI \n",
    "if (false) gmsh.fltk.run() end \n",
    "\n",
    "#..3/4: perform loop over the elemements \n",
    "element_types, element_ids, element_connectivity = gmsh.model.mesh.getElements(2)\n",
    "nelements = length(element_ids[1])\n",
    "  \n",
    "for element_id in 1:nelements\n",
    "\n",
    "    #....retrieve global numbering of the local nodes of the current element\n",
    "    node1_id = element_connectivity[1][3*(element_id-1)+1]\n",
    "    node2_id = element_connectivity[1][3*(element_id-1)+2]\n",
    "    node3_id = element_connectivity[1][3*(element_id-1)+3]\n",
    "\n",
    "    if (false)\n",
    "      println(\"on element \", element_id, \" node-1 has global number \", node1_id)\n",
    "      println(\"on element \", element_id, \" node-2 has global number \", node2_id)\n",
    "      println(\"on element \", element_id, \" node-3 has global number \", node3_id)\n",
    "      println(\" \")\n",
    "    end \n",
    "\n",
    "end \n",
    "\n",
    "#..4/4: Finalize gmsh\n",
    "gmsh.finalize()"
   ]
  },
  {
   "cell_type": "markdown",
   "metadata": {},
   "source": [
    "## 3D Plate Geometry  "
   ]
  },
  {
   "cell_type": "code",
   "execution_count": 12,
   "metadata": {},
   "outputs": [],
   "source": [
    "gmsh.finalize()"
   ]
  },
  {
   "cell_type": "code",
   "execution_count": 25,
   "metadata": {},
   "outputs": [
    {
     "name": "stdout",
     "output_type": "stream",
     "text": [
      "Info    : Meshing 1D...\n",
      "Info    : [  0%] Meshing curve 1 (Line)\n",
      "Info    : [ 10%] Meshing curve 2 (Line)\n",
      "Info    : [ 20%] Meshing curve 3 (Line)\n",
      "Info    : [ 30%] Meshing curve 4 (Line)\n",
      "Info    : [ 40%] Meshing curve 5 (Line)\n",
      "Info    : [ 50%] Meshing curve 6 (Line)\n",
      "Info    : [ 50%] Meshing curve 7 (Line)\n",
      "Info    : [ 60%] Meshing curve 8 (Line)\n",
      "Info    : [ 70%] Meshing curve 9 (Line)\n",
      "Info    : [ 80%] Meshing curve 10 (Line)\n",
      "Info    : [ 90%] Meshing curve 11 (Line)\n",
      "Info    : [100%] Meshing curve 12 (Line)\n",
      "Info    : Done meshing 1D (Wall 0.00147062s, CPU 0.001449s)\n",
      "Info    : Meshing 2D...\n",
      "Info    : [  0%] Meshing surface 1 (Plane, Frontal-Delaunay)\n",
      "Info    : [ 20%] Meshing surface 2 (Plane, Frontal-Delaunay)\n",
      "Info    : [ 40%] Meshing surface 3 (Plane, Frontal-Delaunay)\n",
      "Info    : [ 50%] Meshing surface 4 (Plane, Frontal-Delaunay)\n",
      "Info    : [ 70%] Meshing surface 5 (Plane, Frontal-Delaunay)\n",
      "Info    : [ 90%] Meshing surface 6 (Plane, Frontal-Delaunay)\n",
      "Info    : Done meshing 2D (Wall 0.03304s, CPU 0.03286s)\n",
      "Info    : Meshing 3D...\n",
      "Info    : 3D Meshing 1 volume with 1 connected component\n",
      "Info    : Tetrahedrizing 1040 nodes...\n",
      "Info    : Done tetrahedrizing 1048 nodes (Wall 0.0228313s, CPU 0.011326s)\n",
      "Info    : Reconstructing mesh...\n",
      "Info    :  - Creating surface mesh\n",
      "Info    :  - Identifying boundary edges\n",
      "Info    :  - Recovering boundary\n",
      "Info    : Done reconstructing mesh (Wall 0.0347027s, CPU 0.02106s)\n",
      "Info    : Found volume 1\n",
      "Info    : It. 0 - 0 nodes created - worst tet radius 0.881417 (nodes removed 0 0)\n",
      "Info    : 3D refinement terminated (1040 nodes total):\n",
      "Info    :  - 0 Delaunay cavities modified for star shapeness\n",
      "Info    :  - 0 nodes could not be inserted\n",
      "Info    :  - 3070 tetrahedra created in 3.98746e-05 sec. (76991414 tets/s)\n",
      "Info    : Done meshing 3D (Wall 0.0543415s, CPU 0.038549s)\n",
      "Info    : Optimizing mesh...\n",
      "Info    : Optimizing volume 1\n",
      "Info    : Optimization starts (volume = 0.02) with worst = 0.00993654 / average = 0.665696:\n",
      "Info    : 0.00 < quality < 0.10 :        29 elements\n",
      "Info    : 0.10 < quality < 0.20 :        19 elements\n",
      "Info    : 0.20 < quality < 0.30 :        18 elements\n",
      "Info    : 0.30 < quality < 0.40 :        63 elements\n",
      "Info    : 0.40 < quality < 0.50 :       116 elements\n",
      "Info    : 0.50 < quality < 0.60 :       319 elements\n",
      "Info    : 0.60 < quality < 0.70 :      1038 elements\n",
      "Info    : 0.70 < quality < 0.80 :      1214 elements\n",
      "Info    : 0.80 < quality < 0.90 :       254 elements\n",
      "Info    : 0.90 < quality < 1.00 :         0 elements\n",
      "Info    : 62 edge swaps, 0 node relocations (volume = 0.02): worst = 0.0103647 / average = 0.675629 (Wall 0.00078575s, CPU 0.000787s)\n",
      "Info    : 66 edge swaps, 0 node relocations (volume = 0.02): worst = 0.0103647 / average = 0.675565 (Wall 0.000954584s, CPU 0.000955s)\n",
      "Info    : No ill-shaped tets in the mesh :-)\n",
      "Info    : 0.00 < quality < 0.10 :         4 elements\n",
      "Info    : 0.10 < quality < 0.20 :         0 elements\n",
      "Info    : 0.20 < quality < 0.30 :         0 elements\n",
      "Info    : 0.30 < quality < 0.40 :        66 elements\n",
      "Info    : 0.40 < quality < 0.50 :       115 elements\n",
      "Info    : 0.50 < quality < 0.60 :       314 elements\n",
      "Info    : 0.60 < quality < 0.70 :      1048 elements\n",
      "Info    : 0.70 < quality < 0.80 :      1211 elements\n",
      "Info    : 0.80 < quality < 0.90 :       254 elements\n",
      "Info    : 0.90 < quality < 1.00 :         0 elements\n",
      "Info    : Done optimizing mesh (Wall 0.0025645s, CPU 0.002566s)\n",
      "Info    : 1040 nodes 5263 elements\n",
      "-------------------------------------------------------\n",
      "Version       : 4.10.2\n",
      "License       : GNU General Public License\n",
      "Build OS      : MacOSX-sdk\n",
      "Build date    : 19700101\n",
      "Build host    : amdci7\n",
      "Build options : 64Bit ALGLIB[contrib] ANN[contrib] Bamg Blossom Cairo DIntegration Dlopen DomHex Eigen[contrib] Fltk GMP Gmm[contrib] Hxt Jpeg Kbipack MathEx[contrib] Mesh Metis[contrib] Mmg Mpeg Netgen ONELAB ONELABMetamodel OpenCASCADE OpenCASCADE-CAF OpenGL OpenMP OptHom Parser Plugins Png Post QuadMeshingTools QuadTri Solver TetGen/BR Voro++[contrib] WinslowUntangler Zlib\n",
      "FLTK version  : 1.3.8\n",
      "OCC version   : 7.6.2\n",
      "Packaged by   : root\n",
      "Web site      : https://gmsh.info\n",
      "Issue tracker : https://gitlab.onelab.info/gmsh/gmsh/issues\n",
      "-------------------------------------------------------\n"
     ]
    }
   ],
   "source": [
    "# Instead of constructing a model in a bottom-up fashion with Gmsh's built-in\n",
    "# geometry kernel, starting with |version 3 Gmsh allows you to directly use\n",
    "# alternative geometry kernels. Here we use the OpenCASCADE kernel:\n",
    "\n",
    "#..1/4: Finalize gmsh\n",
    "gmsh.initialize()\n",
    "\n",
    "tag1 = 1\n",
    "gmsh.model.occ.addBox(-0.5, -0.5, -0.01, 1, 1, 0.02, tag1)\n",
    "tag2 = 2\n",
    "#gmsh.model.occ.addBox(-1, -1, -0.1, 2, 2, 0.2, tag2)\n",
    "gmsh.model.occ.synchronize()\n",
    "\n",
    "#gmsh.option.setNumber(\"Mesh.MeshSizeMin\", 0.01)\n",
    "gmsh.option.setNumber(\"Mesh.MeshSizeMax\", 0.05)\n",
    "\n",
    "gmsh.model.mesh.generate(3)\n",
    "\n",
    "if (false) gmsh.write(\"plate.msh\") end\n",
    "\n",
    "if (true) gmsh.fltk.run() end\n",
    "\n",
    "gmsh.finalize()"
   ]
  },
  {
   "cell_type": "code",
   "execution_count": null,
   "metadata": {},
   "outputs": [],
   "source": []
  },
  {
   "cell_type": "code",
   "execution_count": null,
   "metadata": {},
   "outputs": [],
   "source": []
  },
  {
   "cell_type": "code",
   "execution_count": null,
   "metadata": {},
   "outputs": [],
   "source": []
  }
 ],
 "metadata": {
  "kernelspec": {
   "display_name": "Julia 1.8.1",
   "language": "julia",
   "name": "julia-1.8"
  },
  "language_info": {
   "file_extension": ".jl",
   "mimetype": "application/julia",
   "name": "julia",
   "version": "1.8.1"
  }
 },
 "nbformat": 4,
 "nbformat_minor": 2
}
