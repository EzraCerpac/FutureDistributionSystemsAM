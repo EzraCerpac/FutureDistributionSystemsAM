{
 "cells": [
  {
   "cell_type": "markdown",
   "id": "e8be430d",
   "metadata": {},
   "source": [
    "# Computation on Single Prism "
   ]
  },
  {
   "cell_type": "markdown",
   "id": "117cf9a9",
   "metadata": {},
   "source": [
    "## Import Packages "
   ]
  },
  {
   "cell_type": "code",
   "execution_count": 2,
   "id": "1fbde818",
   "metadata": {},
   "outputs": [],
   "source": [
    "using ForwardDiff\n",
    "using QuadGK\n",
    "using StaticArrays \n",
    "using LinearAlgebra\n",
    "using BenchmarkTools\n",
    "using Plots "
   ]
  },
  {
   "cell_type": "code",
   "execution_count": 3,
   "id": "b236e614",
   "metadata": {},
   "outputs": [
    {
     "data": {
      "text/plain": [
       "SVector{3, Float64}\u001b[90m (alias for \u001b[39m\u001b[90mSArray{Tuple{3}, Float64, 1, 3}\u001b[39m\u001b[90m)\u001b[39m"
      ]
     },
     "execution_count": 3,
     "metadata": {},
     "output_type": "execute_result"
    }
   ],
   "source": [
    "const Point3D = SVector{3,Float64}"
   ]
  },
  {
   "cell_type": "markdown",
   "id": "da2a7f61",
   "metadata": {},
   "source": [
    "## Section 1: "
   ]
  },
  {
   "cell_type": "code",
   "execution_count": 4,
   "id": "a466362e",
   "metadata": {},
   "outputs": [],
   "source": [
    "# struct to hold a single mesh element\n",
    "# compared to 4-lab-session, we extend a line segment to a triangle \n",
    "struct Element\n",
    "  p1::Point3D       # coordinates first node \n",
    "  p2::Point3D       # coordinates second node \n",
    "  p3::Point3D       # coordinates third node     \n",
    "  n1::Point3D       \n",
    "  n2::Point3D       \n",
    "  n3::Point3D       \n",
    "  volume::Float64   # area of the element \n",
    "end"
   ]
  },
  {
   "cell_type": "code",
   "execution_count": null,
   "id": "ec97c828",
   "metadata": {},
   "outputs": [],
   "source": []
  }
 ],
 "metadata": {
  "kernelspec": {
   "display_name": "Julia 1.8.1",
   "language": "julia",
   "name": "julia-1.8"
  },
  "language_info": {
   "file_extension": ".jl",
   "mimetype": "application/julia",
   "name": "julia",
   "version": "1.8.1"
  }
 },
 "nbformat": 4,
 "nbformat_minor": 5
}
