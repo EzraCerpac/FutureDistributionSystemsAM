{
 "cells": [
  {
   "cell_type": "markdown",
   "id": "534e848e",
   "metadata": {},
   "source": [
    "# Lisette Werk - Aangepast door Domenico "
   ]
  },
  {
   "cell_type": "code",
   "execution_count": 3,
   "id": "d2f2c7b4-df8a-49fc-9561-957555f260d7",
   "metadata": {},
   "outputs": [],
   "source": [
    "using StaticArrays\n",
    "using ForwardDiff\n",
    "import Gmsh: gmsh"
   ]
  },
  {
   "cell_type": "code",
   "execution_count": 4,
   "id": "4e7b38aa",
   "metadata": {},
   "outputs": [],
   "source": [
    "# a point in 3D is a tuple of 3 coordinates \n",
    "# we here introduce static vectors that appear to be vital to reduce the number of allocations \n",
    "const Point3D = SVector{3,Float64};\n",
    "const Triangle = SVector{7,Point3D};"
   ]
  },
  {
   "cell_type": "code",
   "execution_count": 5,
   "id": "dab6733f",
   "metadata": {},
   "outputs": [
    {
     "data": {
      "text/plain": [
       "\"C:\\\\Users\\\\bruinlmd\\\\Documents\\\\Afstuderen\\\\MoM\\\\\""
      ]
     },
     "execution_count": 5,
     "metadata": {},
     "output_type": "execute_result"
    }
   ],
   "source": [
    "path = \"C:\\\\Users\\\\bruinlmd\\\\Documents\\\\Afstuderen\\\\MoM\\\\\" \n",
    "\n",
    "#include(path * \"Visualize_results.jl\")\n",
    "#include(path * \"Create_mesh.jl\")\n",
    "#include(path * \"Solve_step.jl\")\n",
    "#include(path * \"Assembly.jl\")"
   ]
  },
  {
   "cell_type": "code",
   "execution_count": 6,
   "id": "404d16bd-7d82-4bcf-8272-cbb80aeb5445",
   "metadata": {},
   "outputs": [
    {
     "data": {
      "text/plain": [
       "checkForEvent (generic function with 1 method)"
      ]
     },
     "execution_count": 6,
     "metadata": {},
     "output_type": "execute_result"
    }
   ],
   "source": [
    "function createGeometryAndMesh_rectangular_plate(x_max, y_max, lc)\n",
    "    \n",
    "    # Clear all models and create a new one\n",
    "    gmsh.clear()\n",
    "\n",
    "    gmsh.model.geo.addPoint(0, 0, 0, lc, 1)\n",
    "    gmsh.model.geo.addPoint(x_max, 0,  0, lc, 2)\n",
    "    gmsh.model.geo.addPoint(x_max, y_max, 0, lc, 3)\n",
    "    gmsh.model.geo.addPoint(0, y_max, 0, lc, 4)\n",
    "    \n",
    "    gmsh.model.geo.addLine(1, 2, 1)\n",
    "    gmsh.model.geo.addLine(3, 2, 2)\n",
    "    gmsh.model.geo.addLine(3, 4, 3)\n",
    "    gmsh.model.geo.addLine(4, 1, 4)\n",
    "    \n",
    "    gmsh.model.geo.addCurveLoop([4, 1, -2, 3], 1)\n",
    "    gmsh.model.geo.addPlaneSurface([1], 1)\n",
    "    gmsh.model.geo.synchronize()\n",
    "    gmsh.model.mesh.generate(2)\n",
    "end\n",
    "\n",
    "function checkForEvent()\n",
    "    action = gmsh.onelab.getString(\"ONELAB/Action\")\n",
    "    if length(action) > 0 && action[1] == \"check\"\n",
    "        gmsh.onelab.setString(\"ONELAB/Action\", [\"\"])\n",
    "        createGeometryAndMesh()\n",
    "        gmsh.graphics.draw()\n",
    "    end\n",
    "    return true\n",
    "end"
   ]
  },
  {
   "cell_type": "code",
   "execution_count": 7,
   "id": "9d5cefa2-6d33-474a-86de-508a9c02fd40",
   "metadata": {},
   "outputs": [
    {
     "data": {
      "text/plain": [
       "process_mesh (generic function with 1 method)"
      ]
     },
     "execution_count": 7,
     "metadata": {},
     "output_type": "execute_result"
    }
   ],
   "source": [
    "# t: half thickness of the plate - see z-coordinate definition \n",
    "function process_mesh(nelements, element_connectivity, xnode, ynode, t)\n",
    "        \n",
    "    x0=0.; y0=0.; z0=0.; x1=1.; y1=1.;z1=1.;\n",
    "    # six vertices of the elements (?)\n",
    "    v1 = Point3D(x0,y0,z0)\n",
    "    v2 = Point3D(x1,y0,z0)\n",
    "    v3 = Point3D(x1,y1,z0)\n",
    "    v4 = Point3D(x0,y1,z0)\n",
    "    v5 = Point3D(x0,y0,z1)\n",
    "    v6 = Point3D(x1,y0,z1)\n",
    "    \n",
    "    f1 = Triangle(v1, v2, v3, v1, v1, v1, v1)\n",
    "    f2 = Triangle(v1, v3, v4, v1, v1, v1, v1)\n",
    "    f3 = Triangle(v1, v2, v3, v1, v1, v1, v1)\n",
    "    f4 = Triangle(v1, v2, v3, v1, v1, v1, v1)\n",
    "    f5 = Triangle(v1, v2, v6, v1, v1, v1, v1)\n",
    "    f6 = Triangle(v1, v6, v5, v1, v1, v1, v1)\n",
    "    f7 = Triangle(v1, v2, v3, v1, v1, v1, v1)\n",
    "    f8 = Triangle(v1, v2, v3, v1, v1, v1, v1)\n",
    "        \n",
    "    # define the vertex type and face type \n",
    "    vertextype = typeof(@SVector [v1,v2,v3,v4,v5,v6]) \n",
    "    facetype = typeof(@SVector [f1,f2,f3,f4,f5,f6,f7,f8])\n",
    "    \n",
    "    num_boxes = nelements\n",
    "    vertices_list = Vector{vertextype}(undef,num_boxes)\n",
    "    faces_list = Vector{facetype}(undef,num_boxes)\n",
    "    \n",
    "    for element_id in 1:nelements\n",
    "    \n",
    "        #....retrieve global numbering of the local nodes of the current element\n",
    "        node1_id = element_connectivity[1][3*(element_id-1)+1]\n",
    "        node2_id = element_connectivity[1][3*(element_id-1)+2]\n",
    "        node3_id = element_connectivity[1][3*(element_id-1)+3]\n",
    "    \n",
    "        if (false)\n",
    "          println(\"on element \", element_id, \" node-1 has global number \", node1_id, \" and the (x,y)-coordinate is \",  xnode[node1_id] ,\", \",ynode[node1_id])\n",
    "          println(\"on element \", element_id, \" node-2 has global number \", node2_id, \" and the (x,y)-coordinate is \",  xnode[node2_id] ,\", \",ynode[node2_id])\n",
    "          println(\"on element \", element_id, \" node-3 has global number \", node3_id, \" and the (x,y)-coordinate is \",  xnode[node3_id] ,\", \",ynode[node3_id])\n",
    "          println(\" \")\n",
    "        end \n",
    "    \n",
    "        node11_x = xnode[node1_id] ; node11_y = ynode[node1_id]; node11_z = -t\n",
    "        node12_x = xnode[node1_id] ; node12_y = ynode[node1_id]; node12_z = t\n",
    "        \n",
    "        node21_x = xnode[node2_id] ; node21_y = ynode[node2_id]; node21_z = -t\n",
    "        node22_x = xnode[node2_id] ; node22_y = ynode[node2_id]; node22_z = t\n",
    "    \n",
    "        node31_x = xnode[node3_id] ; node31_y = ynode[node3_id]; node31_z = -t\n",
    "        node32_x = xnode[node3_id] ; node32_y = ynode[node3_id]; node32_z = t\n",
    "    \n",
    "        vertices = vertextype( Point3D(node11_x, node11_y, node11_z), Point3D(node12_x, node12_y, node12_z), Point3D(node21_x, node21_y, node21_z), Point3D(node22_x, node22_y, node22_z), Point3D(node31_x, node31_y, node31_z), Point3D(node32_x, node32_y, node32_z)) \n",
    "        vertices_list[element_id] = vertices\n",
    "\n",
    "        v1, v2, v3, v4, v5, v6 = vertices\n",
    "    \n",
    "        r_k = find_center_element(vertices)\n",
    "   \n",
    "        faces = facetype(\n",
    "                create_triangle_uniform(v1, v3, v5, r_k),\n",
    "                create_triangle_uniform(v2, v4, v6, r_k),\n",
    "                create_triangle_uniform(v1, v3, v2, r_k),\n",
    "                create_triangle_uniform(v2, v3, v4, r_k),\n",
    "                create_triangle_uniform(v3, v5, v4, r_k),\n",
    "                create_triangle_uniform(v4, v5, v6, r_k),\n",
    "                create_triangle_uniform(v1, v5, v2, r_k),\n",
    "                create_triangle_uniform(v2, v5, v6, r_k))\n",
    "        \n",
    "        faces_list[element_id] = faces\n",
    "    \n",
    "    end \n",
    "    \n",
    "    return vertices_list, faces_list\n",
    "end"
   ]
  },
  {
   "cell_type": "markdown",
   "id": "5ffe5f34-d092-409a-9af2-2163107e7b1d",
   "metadata": {},
   "source": [
    "A mesh is created with four elements. Then, we make a list of the vertices and the faces per element. "
   ]
  },
  {
   "cell_type": "code",
   "execution_count": 8,
   "id": "95ba532b-12cc-40fd-8f27-31027dfeee82",
   "metadata": {},
   "outputs": [
    {
     "name": "stdout",
     "output_type": "stream",
     "text": [
      "Info    : Clearing all models and views...\n",
      "Info    : Done clearing all models and views\n",
      "Info    : Meshing 1D...\n",
      "Info    : [  0%] Meshing curve 1 (Line)\n",
      "Info    : [ 30%] Meshing curve 2 (Line)\n",
      "Info    : [ 50%] Meshing curve 3 (Line)\n",
      "Info    : [ 80%] Meshing curve 4 (Line)\n",
      "Info    : Done meshing 1D (Wall 0.000164208s, CPU 0.000156s)\n",
      "Info    : Meshing 2D...\n",
      "Info    : Meshing surface 1 (Plane, Frontal-Delaunay)\n",
      "Info    : Done meshing 2D (Wall 0.000131208s, CPU 0.000104s)\n",
      "Info    : 5 nodes 12 elements\n"
     ]
    },
    {
     "ename": "LoadError",
     "evalue": "UndefVarError: find_center_element not defined",
     "output_type": "error",
     "traceback": [
      "UndefVarError: find_center_element not defined",
      "",
      "Stacktrace:",
      " [1] process_mesh(nelements::Int64, element_connectivity::Vector{Vector{UInt64}}, xnode::Vector{Float64}, ynode::Vector{Float64}, t::Float64)",
      "   @ Main ./In[7]:58",
      " [2] top-level scope",
      "   @ In[8]:22"
     ]
    }
   ],
   "source": [
    "x_max = 1\n",
    "y_max = 1\n",
    "lc = 1\n",
    "\n",
    "gmsh.initialize()\n",
    "createGeometryAndMesh_rectangular_plate(x_max, y_max, lc)\n",
    "\n",
    "t = 0.001\n",
    "\n",
    "element_types, element_ids, element_connectivity = gmsh.model.mesh.getElements(2);\n",
    "node_ids, node_coord, _ = gmsh.model.mesh.getNodes()\n",
    "\n",
    "tosort = [node_ids node_coord[1:3:end] node_coord[2:3:end]];\n",
    "sorted = sortslices(tosort , dims = 1);\n",
    "node_ids = sorted[:,1]\n",
    "xnode = sorted[:,2]\n",
    "ynode = sorted[:,3]\n",
    "\n",
    "nelements = length(element_ids[1]);\n",
    "nNodes = length(node_coord[1]);\n",
    "\n",
    "vertices_list, faces_list = process_mesh(nelements, element_connectivity, xnode, ynode, t);\n"
   ]
  },
  {
   "cell_type": "markdown",
   "id": "bc9dcf5c-96aa-401a-ae24-037a9cd24e3b",
   "metadata": {},
   "source": [
    "In the following code, the function f_vector is the function over which we want to integrate. The function curl_of_function takes the curl of an abritrary function."
   ]
  },
  {
   "cell_type": "code",
   "execution_count": null,
   "id": "593855b7-819f-41cd-93c0-dffb7951cd51",
   "metadata": {},
   "outputs": [],
   "source": [
    "function f_vector(r_accent, r, M)\n",
    "    \n",
    "    teller = cross(M, (r - r_accent))\n",
    "    noemer = norm(r - r_accent)^3\n",
    "    result = teller/noemer\n",
    "    return @SVector[result[1], result[2], result[3]]\n",
    "   \n",
    "end\n",
    "\n",
    "function curl_of_function(f, r)\n",
    "    y = similar(r)\n",
    "    cfg = ForwardDiff.JacobianConfig(f, y, r, ForwardDiff.Chunk{3}())\n",
    "    Jac = Matrix{Float64}(undef, length(y), length(r))\n",
    "    ForwardDiff.jacobian!(Jac, f, y, r, cfg)\n",
    "    curl_x = Jac[3,2] - Jac[2,3]\n",
    "    curl_y = Jac[1,3] - Jac[3,1]\n",
    "    curl_z = Jac[2,1] - Jac[1,2]\n",
    "    \n",
    "    return @SVector[curl_x, curl_y, curl_z] \n",
    "end"
   ]
  },
  {
   "cell_type": "markdown",
   "id": "0ceb6b56-cc1e-4ee2-b531-58ff6e988b56",
   "metadata": {},
   "source": [
    "The following functions takes as input the vertices of the prism. It transforms the variables such that the integration in the x- and y-direction is from (0,0) (1,1). "
   ]
  },
  {
   "cell_type": "code",
   "execution_count": null,
   "id": "e9fb8c9e-5512-45e4-84c0-c555534c8b31",
   "metadata": {},
   "outputs": [],
   "source": [
    "function integrate_over_prism_using_HCubature(f, M, r1_int, r2_int, r3_int, t, r, r_tol)\n",
    "\n",
    "    g(u,v) = (1-u)*r1_int[1] + u* ((1 - v) * r2_int[1] + v * r3_int[1])\n",
    "    h(u,v) = (1-u)*r1_int[2] + u* ((1 - v) * r2_int[2] + v * r3_int[2])\n",
    "\n",
    "    dxdu(u,v) = -r1_int[1] + (1-v)*r2_int[1] + v*r3_int[1]\n",
    "    dxdv(u,v) = -u * r2_int[1] + u * r3_int[1]\n",
    "\n",
    "    dydu(u,v) = -r1_int[2] + (1-v)*r2_int[2] + v*r3_int[2]\n",
    "    dydv(u,v) = -u * r2_int[2] + u * r3_int[2]\n",
    "\n",
    "    J(u,v) = abs(dxdu(u,v) * dydv(u,v) - dxdv(u,v) * dydu(u,v))\n",
    "\n",
    "    integrand(u,v,z) = f(@SVector[g(u,v),h(u,v),z], r, M) * J(u,v)\n",
    "\n",
    "\n",
    "    integrand_result = hcubature(x -> integrand(x[1], x[2], x[3]), (0.0, 0.0, -t), (1.0, 1.0, t), rtol = r_tol)[1]\n",
    "    return @SVector[integrand_result[1],integrand_result[2],integrand_result[3]]\n",
    "    \n",
    "end"
   ]
  },
  {
   "cell_type": "markdown",
   "id": "cc70c4f4-f127-4472-9372-1c0a5780eae3",
   "metadata": {},
   "source": [
    "Since the singularity arise when the \"self-term\" is calculated, we first calculate the integral at the center of the first element and also integrating over the first element. As an example $\\vec{M} = [1,0,0]$. "
   ]
  },
  {
   "cell_type": "code",
   "execution_count": null,
   "id": "3a382f6e-8f5b-423e-94df-b7d9af352867",
   "metadata": {},
   "outputs": [],
   "source": [
    "r_tol = 10^(-5)\n",
    "M = @SVector[1,0,0]\n",
    "vertices_ele1 = vertices_list[1]\n",
    "\n",
    "#Define the vertices of the prism\n",
    "r1_int = (vertices_ele1[1] + vertices_ele1[2])/2\n",
    "r2_int = (vertices_ele1[3] + vertices_ele1[4])/2\n",
    "r3_int = (vertices_ele1[5] + vertices_ele1[6])/2\n",
    "\n",
    "#I want to evaluate the function at the center of the first element\n",
    "r = find_center_element(vertices_list[1])\n",
    "\n",
    "a(r) = integrate_over_prism_using_HCubature(f_vector, M, r1_int, r2_int, r3_int, t, r, r_tol)\n",
    "\n",
    "function a_wrapper!(y, r)\n",
    "    copyto!(y, a(r))\n",
    "end\n",
    "\n",
    "B = μ0_div_4π*curl_of_function( a_wrapper!, r)"
   ]
  },
  {
   "cell_type": "code",
   "execution_count": null,
   "id": "cd997c2f-c87e-4b65-ac64-f6bd7ebd9c1f",
   "metadata": {},
   "outputs": [],
   "source": [
    "println(a(r))"
   ]
  },
  {
   "cell_type": "markdown",
   "id": "034b1d95-d33d-43ff-8742-f68154e18532",
   "metadata": {},
   "source": [
    "Now, we calculate the integral at the center of the second element, but integrating over the first element."
   ]
  },
  {
   "cell_type": "code",
   "execution_count": null,
   "id": "5fc1588f-5aa8-43a2-8ef8-b4a32fd2735a",
   "metadata": {},
   "outputs": [],
   "source": [
    "r_tol = 10^(-5)\n",
    "M = @SVector[1,0,0]\n",
    "vertices_ele1 = vertices_list[1]\n",
    "\n",
    "#Define the vertices of the prism\n",
    "r1_int = (vertices_ele1[1] + vertices_ele1[2])/2\n",
    "r2_int = (vertices_ele1[3] + vertices_ele1[4])/2\n",
    "r3_int = (vertices_ele1[5] + vertices_ele1[6])/2\n",
    "\n",
    "#I want to evaluate the function at the center of the second element\n",
    "r = find_center_element(vertices_list[2])\n",
    "\n",
    "a(r) = integrate_over_prism_using_HCubature(f_vector, M, r1_int, r2_int, r3_int, t, r, r_tol)\n",
    "\n",
    "function a_wrapper!(y, r)\n",
    "    copyto!(y, a(r))\n",
    "end\n",
    "\n",
    "B = μ0_div_4π*curl_of_function( a_wrapper!, r)"
   ]
  },
  {
   "cell_type": "code",
   "execution_count": null,
   "id": "41826233-f654-449e-992b-02d07b640103",
   "metadata": {},
   "outputs": [],
   "source": [
    "println(a(r))"
   ]
  },
  {
   "cell_type": "markdown",
   "id": "197220f2-6615-40e7-b255-5ac539f80977",
   "metadata": {},
   "source": [
    "We see that calculating the self-term gives a vector potential only containing NaN-values. "
   ]
  },
  {
   "cell_type": "code",
   "execution_count": null,
   "id": "f8c9b33c-bd44-415d-936b-37ffd0fc83e4",
   "metadata": {},
   "outputs": [],
   "source": []
  }
 ],
 "metadata": {
  "kernelspec": {
   "display_name": "Julia 1.8.1",
   "language": "julia",
   "name": "julia-1.8"
  },
  "language_info": {
   "file_extension": ".jl",
   "mimetype": "application/julia",
   "name": "julia",
   "version": "1.8.1"
  }
 },
 "nbformat": 4,
 "nbformat_minor": 5
}
