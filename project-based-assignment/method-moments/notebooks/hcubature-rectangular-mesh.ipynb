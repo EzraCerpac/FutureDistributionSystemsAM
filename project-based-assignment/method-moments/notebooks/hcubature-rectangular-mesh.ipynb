{
 "cells": [
  {
   "cell_type": "markdown",
   "id": "7849702b",
   "metadata": {},
   "source": [
    "# Using hcubature on uniform mesh of rectangular elements"
   ]
  },
  {
   "cell_type": "markdown",
   "id": "822bae6a",
   "metadata": {},
   "source": [
    "## Import Packages"
   ]
  },
  {
   "cell_type": "code",
   "execution_count": 50,
   "id": "868a432f",
   "metadata": {},
   "outputs": [],
   "source": [
    "using ForwardDiff\n",
    "using QuadGK\n",
    "using HCubature \n",
    "using StaticArrays \n",
    "using LinearAlgebra\n",
    "using BenchmarkTools\n",
    "using Plots"
   ]
  },
  {
   "cell_type": "code",
   "execution_count": 4,
   "id": "899a1b86",
   "metadata": {},
   "outputs": [],
   "source": [
    "# a point in 3D is a tuple of 3 coordinates \n",
    "# we here introduce static vectors that appear to be vital to reduce the number of allocations \n",
    "const Point3D = SVector{3,Float64};"
   ]
  },
  {
   "cell_type": "markdown",
   "id": "a627f98a",
   "metadata": {},
   "source": [
    "## Section 1: Define Vector Potential Density  "
   ]
  },
  {
   "cell_type": "code",
   "execution_count": null,
   "id": "e1776494",
   "metadata": {},
   "outputs": [],
   "source": []
  },
  {
   "cell_type": "code",
   "execution_count": 10,
   "id": "583e7398",
   "metadata": {},
   "outputs": [
    {
     "data": {
      "text/plain": [
       "vp_density (generic function with 1 method)"
      ]
     },
     "execution_count": 10,
     "metadata": {},
     "output_type": "execute_result"
    }
   ],
   "source": [
    "# define vector potential density \n",
    "function vp_density(r, rprime, M)\n",
    "    num = cross(M, (r - rprime))\n",
    "    denom = norm(r - rprime)^3\n",
    "    result = num/denom\n",
    "    return result   \n",
    "end"
   ]
  },
  {
   "cell_type": "code",
   "execution_count": 13,
   "id": "712da4d3",
   "metadata": {},
   "outputs": [
    {
     "data": {
      "text/plain": [
       "3-element Vector{Float64}:\n",
       "  0.3535533905932737\n",
       "  0.3535533905932737\n",
       " -0.0"
      ]
     },
     "execution_count": 13,
     "metadata": {},
     "output_type": "execute_result"
    }
   ],
   "source": [
    "M = [0.,0.,1.]\n",
    "r = [1.,0.,0.]\n",
    "rp = [0.,1.,0.]\n",
    "vp_density(r,rp,M)"
   ]
  },
  {
   "cell_type": "code",
   "execution_count": 16,
   "id": "6d9e3c9f",
   "metadata": {},
   "outputs": [
    {
     "data": {
      "text/plain": [
       "3-element Vector{Float64}:\n",
       " 1.551694097302116\n",
       " 1.5516940972927296\n",
       " 0.0"
      ]
     },
     "execution_count": 16,
     "metadata": {},
     "output_type": "execute_result"
    }
   ],
   "source": [
    "M = [0.,0.,1.]\n",
    "r = [1.,0.,0.]\n",
    "t = 0.5 \n",
    "hcubature(rp -> vp_density(r,rp,M), (0.0, 0.0, -t), (1.0, 1.0, t))[1]"
   ]
  },
  {
   "cell_type": "markdown",
   "id": "9d6c7fe3",
   "metadata": {},
   "source": [
    "## Section 2: Perform Integration over Mesh "
   ]
  },
  {
   "cell_type": "code",
   "execution_count": 17,
   "id": "541c11ec",
   "metadata": {},
   "outputs": [],
   "source": [
    "# loop over midpoints of elements \n",
    "N = 5; h = 1/N;\n",
    "xmesh = Vector(0:h:1)\n",
    "ymesh = Vector(0:h:1)\n",
    "for xi in xmesh[1:end-1] \n",
    "    for yj in ymesh[1:end-1] \n",
    "      mid = Point3D(xi+h/2,yj+h/2,0)\n",
    "      # display(mid)\n",
    "   end \n",
    "end "
   ]
  },
  {
   "cell_type": "code",
   "execution_count": null,
   "id": "42c16ccb",
   "metadata": {},
   "outputs": [],
   "source": []
  },
  {
   "cell_type": "code",
   "execution_count": 52,
   "id": "8afd117d",
   "metadata": {},
   "outputs": [],
   "source": [
    "# test integration assuming integrand for which answer can be checked analytically \n",
    "function settoone(rp)\n",
    "    return 1.0\n",
    "end \n",
    "\n",
    "N = 5; h = 1/N;\n",
    "xmesh = Vector(0:h:1)\n",
    "ymesh = Vector(0:h:1)\n",
    "result = zeros(N,N)\n",
    "for (i,xi) in enumerate(xmesh[1:end-1]) \n",
    "    for (j,yj) in enumerate(ymesh[1:end-1])  \n",
    "      mid = Point3D(xi+h/2,yj+h/2,0)\n",
    "      result[i,j] = hcubature(rp -> settoone(rp), (xi, yj, -t), (xi+h, yj+h, t))[1]\n",
    "    end \n",
    "end"
   ]
  },
  {
   "cell_type": "code",
   "execution_count": 49,
   "id": "bacb8d1f",
   "metadata": {},
   "outputs": [
    {
     "data": {
      "text/plain": [
       "5×5 Matrix{Float64}:\n",
       " 0.04  0.04  0.04  0.04  0.04\n",
       " 0.04  0.04  0.04  0.04  0.04\n",
       " 0.04  0.04  0.04  0.04  0.04\n",
       " 0.04  0.04  0.04  0.04  0.04\n",
       " 0.04  0.04  0.04  0.04  0.04"
      ]
     },
     "execution_count": 49,
     "metadata": {},
     "output_type": "execute_result"
    }
   ],
   "source": [
    "result"
   ]
  },
  {
   "cell_type": "code",
   "execution_count": 53,
   "id": "af77272b",
   "metadata": {},
   "outputs": [],
   "source": [
    "# assume r to coincide with midpoint of the element\n",
    "N = 100; h = 1/N;\n",
    "xmesh = Vector(0:h:1)\n",
    "ymesh = Vector(0:h:1)\n",
    "result = fill(zeros(3),N,N)\n",
    "for (i,xi) in enumerate(xmesh[1:end-1]) \n",
    "    for (j,yj) in enumerate(ymesh[1:end-1])  \n",
    "      mid = Point3D(xi+h/2,yj+h/2,0)\n",
    "      result[i,j] = hcubature(rp -> vp_density(mid,rp,M), (xi, yj, -t), (xi+h, yj+h, t))[1]\n",
    "    end \n",
    "end"
   ]
  },
  {
   "cell_type": "code",
   "execution_count": 41,
   "id": "8175fe56",
   "metadata": {},
   "outputs": [
    {
     "data": {
      "text/plain": [
       "5×5 Matrix{Vector{Float64}}:\n",
       " [-8.05737e-17, 1.0516e-12, 0.0]   …  [4.33192e-18, 1.06581e-12, 0.0]\n",
       " [-7.91297e-17, 5.68434e-14, 0.0]     [-1.44397e-18, 7.10543e-14, 0.0]\n",
       " [-8.34616e-17, -9.9476e-14, 0.0]     [-2.88794e-18, -1.13687e-13, 0.0]\n",
       " [-4.33192e-18, -9.9476e-14, 0.0]     [0.0, -1.13687e-13, 0.0]\n",
       " [5.77589e-18, 0.0, 0.0]              [-4.33192e-18, 0.0, 0.0]"
      ]
     },
     "execution_count": 41,
     "metadata": {},
     "output_type": "execute_result"
    }
   ],
   "source": [
    "result"
   ]
  },
  {
   "cell_type": "code",
   "execution_count": 56,
   "id": "9fc0e62d",
   "metadata": {},
   "outputs": [],
   "source": [
    "# assume r to coincide with midpoint of the element\n",
    "N = 5; h = 1/N;\n",
    "xmesh = Vector(0:h:1)\n",
    "ymesh = Vector(0:h:1)\n",
    "result = fill(zeros(3),N,N)\n",
    "for (i,xi) in enumerate(xmesh[1:end-1]) \n",
    "    for (j,yj) in enumerate(ymesh[1:end-1])  \n",
    "      r = Point3D(xi,yj,-t)\n",
    "      result[i,j] = hcubature(rp -> vp_density(r,rp,M), (xi, yj, -t), (xi+h, yj+h, t))[1]\n",
    "    end \n",
    "end"
   ]
  },
  {
   "cell_type": "code",
   "execution_count": null,
   "id": "b13a7462",
   "metadata": {},
   "outputs": [],
   "source": []
  }
 ],
 "metadata": {
  "kernelspec": {
   "display_name": "Julia 1.8.1",
   "language": "julia",
   "name": "julia-1.8"
  },
  "language_info": {
   "file_extension": ".jl",
   "mimetype": "application/julia",
   "name": "julia",
   "version": "1.8.1"
  }
 },
 "nbformat": 4,
 "nbformat_minor": 5
}
