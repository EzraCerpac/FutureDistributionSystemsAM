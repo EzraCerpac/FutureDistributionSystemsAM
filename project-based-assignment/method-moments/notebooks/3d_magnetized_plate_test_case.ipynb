{
 "cells": [
  {
   "cell_type": "markdown",
   "id": "6d5333c0",
   "metadata": {},
   "source": [
    "# 2D Metallic Flat Plate Magnetized in Exterior Field \n",
    "# FEM Solution of the Poisson Equation with Discontinuous Coefficient \n",
    "# using Ferrite.jl  \n",
    "\n",
    "<b>Goal</b>: The goal of this notebook is to compute a numerical reference solution for the magnetization vector of metallic plate $\\vec{M}(\\vec{x})$ placed in homogeneous external magnetic field. This solution will be computed in the following two steps: \n",
    "1. solve the Poisson equation for the scalar magnetic potential $V_m(\\vec{x})$;\n",
    "2. compute the gradient of the potential times the magnetic susceptibility $\\chi_m$ on the magnetic plate; "
   ]
  },
  {
   "cell_type": "markdown",
   "id": "97f1d46e",
   "metadata": {},
   "source": [
    "Include figures here. "
   ]
  },
  {
   "cell_type": "markdown",
   "id": "816dcc39",
   "metadata": {},
   "source": [
    "## Next Steps \n",
    "\n",
    "<b>Post Processing</b> \n",
    "1. compute magnetic field $\\vec{H}$ components and its magnitude. Write data to VTK file. See [Ferrite postprocessing](https://ferrite-fem.github.io/Ferrite.jl/stable/examples/postprocessing/); \n",
    "2. idem for magnetic flux $\\vec{B}$;\n",
    "3. idem for magnetization vector $\\vec{M}$;\n",
    "\n",
    "<b>Proper 2D Model Definition</b>\n",
    "1. set geometry and material coefficients; \n",
    "\n",
    "<b> Extend from 2D to 3D</b>"
   ]
  },
  {
   "cell_type": "markdown",
   "id": "7b692504",
   "metadata": {},
   "source": [
    "## Import Packages"
   ]
  },
  {
   "cell_type": "code",
   "execution_count": 1,
   "id": "20af491b",
   "metadata": {},
   "outputs": [],
   "source": [
    "using Ferrite, SparseArrays"
   ]
  },
  {
   "cell_type": "markdown",
   "id": "8396f307",
   "metadata": {},
   "source": [
    "## Section 1: Test Case Description \n",
    "### Geometry \n",
    "\n",
    "The geometry consists of the following two elements: \n",
    "1. a plate represented as a cube of $10$ by $10$ by $0.02$ meters along the $x$, $y$ and $z$ axis. Origin in the middle of the plate; \n",
    "2. a surrounding box of air as a cube $20$ by $20$ by $0.04$ meters along the $x$, $y$ and $z$ axix; \n",
    "\n",
    "Remarks: \n",
    "1. Boundaries of the air box represent the far-field. Not sure whether box of air is large enough; \n",
    "2. Possibly take advance of symmetry in the field to reduce the computational domain to first octant of the coordinate axes. Use symmetry boundary conditions; "
   ]
  },
  {
   "cell_type": "markdown",
   "id": "ff8b8389",
   "metadata": {},
   "source": [
    "### Mesh \n",
    "\n",
    "Generate the mesh. \n",
    "\n",
    "Remarks\n",
    "1. Mesh allowed to be coarser in air than in plate domain; "
   ]
  },
  {
   "cell_type": "markdown",
   "id": "16e567bf",
   "metadata": {},
   "source": [
    "### Physics \n",
    "\n",
    "<b>Air</b> has exterior (unperturbed) magnetic field in $x$-direction given by $\\vec{H}_0(\\vec{x}) = (H_0,0,0)$ (units A/m). The scalar magnetic potential $V_m(\\vec{x})$ for this field is given by $V_m(\\vec{x}) = H_0 \\, x$ (units A). Indeed, we have that by definition of the potential that $\\vec{H}_0(\\vec{x}) = \\text{grad} \\, V_m(\\vec{x}) = \\nabla V_m(\\vec{x}) = (H_0,0,0)$. The potential $V_m(\\vec{x}) = H_0 \\, x$ will be applied as Dirichlet (fixedValue) boundary condition for the potential.   \n",
    "\n",
    "<b>Magnetic plate</b> has magnetic susceptibility $\\chi_m$, e.g., $\\chi_m = 100$ (dimensionless). Plate placed in magnetic field will deform field locally (higher $\\chi_m$ implies larger deformation of the exterior field due to metallic plate).  \n",
    "\n",
    "The governing equations for stationary magnetic field are: \n",
    "\n",
    "$ \\nabla \\times \\vec{H}(\\vec{x}) = \\vec{0}$ \n",
    "\n",
    "$ \\nabla \\cdot \\vec{B}(\\vec{x}) = 0 $\n",
    "\n",
    "$\\vec{B}(\\vec{x}) = \\mu_0 \\, \\vec{H}(\\vec{x})$ (in air) \n",
    "and $\\vec{B}(\\vec{x}) = \\mu_0 \\, (1 + \\chi_m) \\, \\vec{H}(\\vec{x})$\n",
    "\n",
    "<b>Differential Equation</b> \n",
    "\n",
    "The Poisson equation for the scalar magnetic potential $V_m(\\vec{x})$ such that $\\vec{H}(\\vec{x}) = \\nabla V_m(\\vec{x})$ is given by \n",
    "\n",
    "$$\n",
    "\\nabla \\cdot \\left[ \\mu_0 \\, (1 + \\chi_m) \\, V_m(\\vec{x}) \\right] = 0 \\text{ for } \\vec{x} \\in \\Omega = \\Omega_{air} \\cup \\Omega_{plate} \n",
    "$$\n",
    "\n",
    "where $\\chi_m = 0$ for $\\vec{x} \\in \\Omega_{air}$ and $\\chi_m = 100$ (dimensionless) for $\\vec{x} \\in \\Omega_{plate}$.\n",
    "\n",
    "<b>Boundary Conditions</b> \n",
    "\n",
    "As boundary condition on the scalar field $V_m(\\vec{x})$ we impose that \n",
    " \n",
    "$$ V_m(\\vec{x}) = H_0 \\, x  \\text{ for } \\vec{x} \\in \\partial \\Omega $$. \n"
   ]
  },
  {
   "cell_type": "markdown",
   "id": "4f1db5e4",
   "metadata": {},
   "source": [
    "### Solver\n",
    "\n",
    "Using [Ferrite](https://ferrite-fem.github.io/Ferrite.jl/stable/examples/heat_equation/). Possibly consider [Gridap](https://gridap.github.io/Tutorials/dev/pages/t001_poisson/) as alternative in a later stage should the neeed arrise. "
   ]
  },
  {
   "cell_type": "markdown",
   "id": "c75e6889",
   "metadata": {},
   "source": [
    "### Post-Processing \n",
    "\n",
    "Compute the following quantities : \n",
    "1. the magnetic field $\\vec{H} = \\text{grad} [ u(\\vec{x}) ]$ (the $x$, $y$, $z$ component and the magnitude) in the plate and air domain;\n",
    "2. the magnetic flux $\\vec{B} = \\mu_0 \\, \\vec{H}$ (in air) and $\\vec{B} = \\mu_0 \\, (1 + \\chi_m) \\, \\vec{H}$; (as before)\n",
    "3. the magnetization vector $\\vec{M} = \\chi_m \\, \\vec{H}$ in plate; (as before)"
   ]
  },
  {
   "cell_type": "markdown",
   "id": "4efeccc4",
   "metadata": {},
   "source": [
    "## Section 3: 3D Mockup of the Magnetized Plate  "
   ]
  },
  {
   "cell_type": "code",
   "execution_count": 2,
   "id": "b0d2843c",
   "metadata": {},
   "outputs": [
    {
     "data": {
      "text/plain": [
       "my_diff_coeff (generic function with 1 method)"
      ]
     },
     "execution_count": 2,
     "metadata": {},
     "output_type": "execute_result"
    }
   ],
   "source": [
    "# define spatially varying diffusion coefficient \n",
    "function my_diff_coeff(coord_qp)\n",
    "    xbound = abs(coord_qp[1])<0.3\n",
    "    ybound = abs(coord_qp[2])<0.3\n",
    "    zbound = abs(coord_qp[3])<0.05    \n",
    "    return 4*pi*1e-6*(1+99*(xbound*ybound*zbound))\n",
    "end "
   ]
  },
  {
   "cell_type": "code",
   "execution_count": 3,
   "id": "5e0616c3",
   "metadata": {},
   "outputs": [
    {
     "data": {
      "text/plain": [
       "assemble_element! (generic function with 1 method)"
      ]
     },
     "execution_count": 3,
     "metadata": {},
     "output_type": "execute_result"
    }
   ],
   "source": [
    "# Ke: added spatially varying diffusion coefficient \n",
    "# fe: forces zero source term \n",
    "function assemble_element!(Ke::Matrix, fe::Vector, cellvalues::CellScalarValues, mycoords)\n",
    "    n_basefuncs = getnbasefunctions(cellvalues)\n",
    "    # Reset to 0\n",
    "    fill!(Ke, 0)\n",
    "    fill!(fe, 0)\n",
    "    # Loop over quadrature points\n",
    "    for q_point in 1:getnquadpoints(cellvalues)\n",
    "        # Get the quadrature weight\n",
    "        dΩ = getdetJdV(cellvalues, q_point)\n",
    "        # ADDED: Get coord of quadrature point\n",
    "        coords_qp = spatial_coordinate(cellvalues, q_point, mycoords)\n",
    "        # ADDED: Evaluate spatially dependent diffusion coefficient in quad point \n",
    "        val_diff_coeff = my_diff_coeff(coords_qp)\n",
    "        # Loop over test shape functions\n",
    "        for i in 1:n_basefuncs\n",
    "            δu  = shape_value(cellvalues, q_point, i)\n",
    "            ∇δu = shape_gradient(cellvalues, q_point, i)\n",
    "            # Add contribution to fe\n",
    "            fe[i] += 0 * δu * dΩ\n",
    "            # Loop over trial shape functions\n",
    "            for j in 1:n_basefuncs\n",
    "                ∇u = shape_gradient(cellvalues, q_point, j)\n",
    "                # MODIFIED: Add contribution to Ke\n",
    "                Ke[i, j] += val_diff_coeff * (∇δu ⋅ ∇u) * dΩ\n",
    "            end\n",
    "        end\n",
    "    end\n",
    "    return Ke, fe\n",
    "end"
   ]
  },
  {
   "cell_type": "code",
   "execution_count": 4,
   "id": "bf40a0d1",
   "metadata": {},
   "outputs": [
    {
     "data": {
      "text/plain": [
       "assemble_global (generic function with 1 method)"
      ]
     },
     "execution_count": 4,
     "metadata": {},
     "output_type": "execute_result"
    }
   ],
   "source": [
    "function assemble_global(cellvalues::CellScalarValues, K::SparseMatrixCSC, dh::DofHandler)\n",
    "    # Allocate the element stiffness matrix and element force vector\n",
    "    n_basefuncs = getnbasefunctions(cellvalues)\n",
    "    Ke = zeros(n_basefuncs, n_basefuncs)\n",
    "    fe = zeros(n_basefuncs)\n",
    "    # Allocate global force vector f\n",
    "    f = zeros(ndofs(dh))\n",
    "    # Create an assembler\n",
    "    assembler = start_assemble(K, f)\n",
    "    # Loop over all cels\n",
    "    for cell in CellIterator(dh)\n",
    "        # Added: Get coordinates from current cell \n",
    "        coords = getcoordinates(cell)\n",
    "        # Reinitialize cellvalues for this cell\n",
    "        reinit!(cellvalues, cell)\n",
    "        # Modified - Compute element contribution\n",
    "        assemble_element!(Ke, fe, cellvalues, coords)\n",
    "        # Assemble Ke and fe into K and f\n",
    "        assemble!(assembler, celldofs(cell), Ke, fe)\n",
    "    end\n",
    "    return K, f\n",
    "end"
   ]
  },
  {
   "cell_type": "code",
   "execution_count": 5,
   "id": "a94829b2",
   "metadata": {},
   "outputs": [
    {
     "data": {
      "text/plain": [
       "Grid{3, Tetrahedron, Float64} with 600000 Tetrahedron cells and 112211 nodes"
      ]
     },
     "execution_count": 5,
     "metadata": {},
     "output_type": "execute_result"
    }
   ],
   "source": [
    "nels  = (100, 100, 10) # number of elements in each spatial direction\n",
    "left  = Vec((-1.0, -1.0, -0.1)) # start point for geometry \n",
    "right = Vec((1.0, 1.0, 0.1))    # end point for geometry\n",
    "grid  = generate_grid(Tetrahedron, nels, left, right)"
   ]
  },
  {
   "cell_type": "code",
   "execution_count": 6,
   "id": "9e97e067",
   "metadata": {},
   "outputs": [],
   "source": [
    "#grid"
   ]
  },
  {
   "cell_type": "code",
   "execution_count": 7,
   "id": "46e4fe42",
   "metadata": {},
   "outputs": [],
   "source": [
    "dim = 3\n",
    "ip = Lagrange{dim, RefTetrahedron, 1}()\n",
    "#ip = Lagrange{dim, RefCube, 1}()\n",
    "qr = QuadratureRule{dim, RefTetrahedron}(1)\n",
    "#qr = QuadratureRule{dim, RefCube}(1)\n",
    "cellvalues = CellScalarValues(qr, ip);"
   ]
  },
  {
   "cell_type": "code",
   "execution_count": 8,
   "id": "35d16e60",
   "metadata": {},
   "outputs": [],
   "source": [
    "dh = DofHandler(grid)\n",
    "add!(dh, :u, 1)\n",
    "close!(dh);"
   ]
  },
  {
   "cell_type": "code",
   "execution_count": 9,
   "id": "0fb329ff",
   "metadata": {},
   "outputs": [],
   "source": [
    "K = create_sparsity_pattern(dh);"
   ]
  },
  {
   "cell_type": "code",
   "execution_count": 10,
   "id": "c76de664",
   "metadata": {},
   "outputs": [],
   "source": [
    "ch = ConstraintHandler(dh);"
   ]
  },
  {
   "cell_type": "code",
   "execution_count": 11,
   "id": "b373abfb",
   "metadata": {},
   "outputs": [
    {
     "data": {
      "text/plain": [
       "Grid{3, Tetrahedron, Float64} with 600000 Tetrahedron cells and 112211 nodes"
      ]
     },
     "execution_count": 11,
     "metadata": {},
     "output_type": "execute_result"
    }
   ],
   "source": [
    "grid"
   ]
  },
  {
   "cell_type": "code",
   "execution_count": 12,
   "id": "ecba8340",
   "metadata": {},
   "outputs": [],
   "source": [
    "# getfaceset(grid,\"back\")"
   ]
  },
  {
   "cell_type": "code",
   "execution_count": 13,
   "id": "c370e26b",
   "metadata": {},
   "outputs": [],
   "source": [
    "∂Ω = union(\n",
    "    getfaceset(grid, \"left\"),\n",
    "    getfaceset(grid, \"right\"),\n",
    "    getfaceset(grid, \"front\"),\n",
    "    getfaceset(grid, \"back\"),\n",
    "    getfaceset(grid, \"top\"),\n",
    "    getfaceset(grid, \"bottom\"),\n",
    ");"
   ]
  },
  {
   "cell_type": "code",
   "execution_count": 14,
   "id": "bb8f460f",
   "metadata": {},
   "outputs": [],
   "source": [
    "dbc = Dirichlet(:u, ∂Ω, (x, t) -> x[1])\n",
    "add!(ch, dbc);"
   ]
  },
  {
   "cell_type": "code",
   "execution_count": 15,
   "id": "e1b1a037",
   "metadata": {},
   "outputs": [
    {
     "data": {
      "text/plain": [
       "ConstraintHandler:\n",
       "  BCs:\n",
       "    Field: u, Components: [1]"
      ]
     },
     "execution_count": 15,
     "metadata": {},
     "output_type": "execute_result"
    }
   ],
   "source": [
    "close!(ch)"
   ]
  },
  {
   "cell_type": "code",
   "execution_count": 16,
   "id": "410e8e05",
   "metadata": {},
   "outputs": [],
   "source": [
    "K, f = assemble_global(cellvalues, K, dh);"
   ]
  },
  {
   "cell_type": "code",
   "execution_count": 17,
   "id": "aa8fcc63",
   "metadata": {},
   "outputs": [],
   "source": [
    "apply!(K, f, ch)\n",
    "u = K \\ f;"
   ]
  },
  {
   "cell_type": "markdown",
   "id": "826229ea",
   "metadata": {},
   "source": [
    "### Computing Fluxes"
   ]
  },
  {
   "cell_type": "code",
   "execution_count": 18,
   "id": "4b847387",
   "metadata": {},
   "outputs": [
    {
     "data": {
      "text/plain": [
       "compute_bfield (generic function with 1 method)"
      ]
     },
     "execution_count": 18,
     "metadata": {},
     "output_type": "execute_result"
    }
   ],
   "source": [
    "function compute_hfield(cellvalues::CellScalarValues{dim,T}, dh::DofHandler, a) where {dim,T}\n",
    "\n",
    "    n = getnbasefunctions(cellvalues)\n",
    "    cell_dofs = zeros(Int, n)\n",
    "    nqp = getnquadpoints(cellvalues)\n",
    "\n",
    "    # Allocate storage for the fluxes to store\n",
    "    q = [Vec{3,T}[] for _ in 1:getncells(dh.grid)]\n",
    "\n",
    "    for (cell_num, cell) in enumerate(CellIterator(dh))\n",
    "        q_cell = q[cell_num]\n",
    "        celldofs!(cell_dofs, dh, cell_num)\n",
    "        aᵉ = a[cell_dofs]\n",
    "        reinit!(cellvalues, cell)\n",
    "\n",
    "        for q_point in 1:nqp\n",
    "            q_qp = - function_gradient(cellvalues, q_point, aᵉ)\n",
    "            push!(q_cell, q_qp)\n",
    "        end\n",
    "    end\n",
    "    return q\n",
    "end\n",
    "\n",
    "function compute_bfield(cellvalues::CellScalarValues{dim,T}, dh::DofHandler, a) where {dim,T}\n",
    "\n",
    "    n = getnbasefunctions(cellvalues)\n",
    "    cell_dofs = zeros(Int, n)\n",
    "    nqp = getnquadpoints(cellvalues)\n",
    "\n",
    "    # Allocate storage for the fluxes to store\n",
    "    q = [Vec{3,T}[] for _ in 1:getncells(dh.grid)]\n",
    "\n",
    "    for (cell_num, cell) in enumerate(CellIterator(dh))\n",
    "        q_cell = q[cell_num]\n",
    "        celldofs!(cell_dofs, dh, cell_num)\n",
    "        aᵉ = a[cell_dofs]\n",
    "        reinit!(cellvalues, cell)\n",
    "        coords = getcoordinates(cell)\n",
    "        \n",
    "        for q_point in 1:nqp\n",
    "            coords_qp = spatial_coordinate(cellvalues, q_point, coords)\n",
    "            val_diff_coeff = my_diff_coeff(coords_qp)\n",
    "            q_qp = - val_diff_coeff*function_gradient(cellvalues, q_point, aᵉ)\n",
    "            push!(q_cell, q_qp)\n",
    "        end\n",
    "    end\n",
    "    return q\n",
    "end"
   ]
  },
  {
   "cell_type": "code",
   "execution_count": 19,
   "id": "ad9ed2ca",
   "metadata": {},
   "outputs": [],
   "source": [
    "h_gp = compute_hfield(cellvalues, dh, u);\n",
    "b_gp = compute_bfield(cellvalues, dh, u);\n",
    "#q_gp"
   ]
  },
  {
   "cell_type": "code",
   "execution_count": 20,
   "id": "d709ae98",
   "metadata": {},
   "outputs": [],
   "source": [
    "projector = L2Projector(ip, grid);\n",
    "#projector "
   ]
  },
  {
   "cell_type": "code",
   "execution_count": 21,
   "id": "403ed9ae",
   "metadata": {},
   "outputs": [],
   "source": [
    "h_projected = project(projector, h_gp, qr; project_to_nodes=false);\n",
    "b_projected = project(projector, b_gp, qr; project_to_nodes=false);\n",
    "# q_projected"
   ]
  },
  {
   "cell_type": "markdown",
   "id": "eae86a5d",
   "metadata": {},
   "source": [
    "### Exporting to VTK "
   ]
  },
  {
   "cell_type": "code",
   "execution_count": 22,
   "id": "abb978bc",
   "metadata": {},
   "outputs": [
    {
     "data": {
      "text/plain": [
       "1-element Vector{String}:\n",
       " \"3d-uniform-magn_plate.vtu\""
      ]
     },
     "execution_count": 22,
     "metadata": {},
     "output_type": "execute_result"
    }
   ],
   "source": [
    "vtk_grid(\"3d-uniform-magn_plate\", dh) do vtk\n",
    "    vtk_point_data(vtk, dh, u)\n",
    "    vtk_point_data(vtk, projector, h_projected, \"H\")\n",
    "    vtk_point_data(vtk, projector, b_projected, \"B\")\n",
    "end"
   ]
  },
  {
   "cell_type": "code",
   "execution_count": null,
   "id": "358941bb",
   "metadata": {},
   "outputs": [],
   "source": []
  },
  {
   "cell_type": "code",
   "execution_count": null,
   "id": "864791ff",
   "metadata": {},
   "outputs": [],
   "source": []
  }
 ],
 "metadata": {
  "kernelspec": {
   "display_name": "Julia 1.8.1",
   "language": "julia",
   "name": "julia-1.8"
  },
  "language_info": {
   "file_extension": ".jl",
   "mimetype": "application/julia",
   "name": "julia",
   "version": "1.8.1"
  }
 },
 "nbformat": 4,
 "nbformat_minor": 5
}
