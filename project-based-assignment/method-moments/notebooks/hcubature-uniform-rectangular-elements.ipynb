{
 "cells": [
  {
   "cell_type": "markdown",
   "id": "1aeef30d",
   "metadata": {},
   "source": [
    "# Using hcubature on uniform mesh of rectangular elements"
   ]
  },
  {
   "cell_type": "markdown",
   "id": "e224d3b4",
   "metadata": {},
   "source": [
    "## Import Packages"
   ]
  },
  {
   "cell_type": "code",
   "execution_count": 50,
   "id": "a587c22c",
   "metadata": {},
   "outputs": [],
   "source": [
    "using ForwardDiff\n",
    "using QuadGK\n",
    "using HCubature \n",
    "using StaticArrays \n",
    "using LinearAlgebra\n",
    "using BenchmarkTools\n",
    "using Plots"
   ]
  },
  {
   "cell_type": "code",
   "execution_count": 4,
   "id": "dee67b24",
   "metadata": {},
   "outputs": [],
   "source": [
    "# a point in 3D is a tuple of 3 coordinates \n",
    "# we here introduce static vectors that appear to be vital to reduce the number of allocations \n",
    "const Point3D = SVector{3,Float64};"
   ]
  },
  {
   "cell_type": "code",
   "execution_count": 88,
   "id": "8ef2424a",
   "metadata": {},
   "outputs": [
    {
     "data": {
      "text/plain": [
       "hcubature_count (generic function with 1 method)"
      ]
     },
     "execution_count": 88,
     "metadata": {},
     "output_type": "execute_result"
    }
   ],
   "source": [
    "function hcubature_count(f, a, b; kws...)\n",
    "    count = 0\n",
    "    i = hcubature(a, b; kws...) do x\n",
    "        count += 1\n",
    "        # display(count)\n",
    "        f(x)\n",
    "    end\n",
    "    return (i..., count)\n",
    "end"
   ]
  },
  {
   "cell_type": "code",
   "execution_count": 89,
   "id": "db18a224",
   "metadata": {},
   "outputs": [
    {
     "data": {
      "text/plain": [
       "(0.08562994005985379, 1.2758662568828662e-9)"
      ]
     },
     "execution_count": 89,
     "metadata": {},
     "output_type": "execute_result"
    }
   ],
   "source": [
    "# non-singular example \n",
    "hcubature(x -> x[1]/norm(x)^3, (1,1,1), (2,2,2))"
   ]
  },
  {
   "cell_type": "code",
   "execution_count": 90,
   "id": "8439536c",
   "metadata": {},
   "outputs": [
    {
     "data": {
      "text/plain": [
       "10659"
      ]
     },
     "execution_count": 90,
     "metadata": {},
     "output_type": "execute_result"
    }
   ],
   "source": [
    "# non-singular example with count \n",
    "hcubature_count(x -> x[1]/norm(x)^3, (1,1,1), (2,2,2))[3]"
   ]
  },
  {
   "cell_type": "code",
   "execution_count": 91,
   "id": "24fa6c6b",
   "metadata": {},
   "outputs": [
    {
     "data": {
      "text/plain": [
       "(0.9693880526621552, 1.4444861385160079e-8)"
      ]
     },
     "execution_count": 91,
     "metadata": {},
     "output_type": "execute_result"
    }
   ],
   "source": [
    "# singular example \n",
    "hcubature(x -> x[1]/norm(x)^3, (0,0,0), (1,1,1))"
   ]
  },
  {
   "cell_type": "code",
   "execution_count": 114,
   "id": "f1bbfb58",
   "metadata": {},
   "outputs": [
    {
     "data": {
      "text/plain": [
       "(Inf, NaN, 67287)"
      ]
     },
     "execution_count": 114,
     "metadata": {},
     "output_type": "execute_result"
    }
   ],
   "source": [
    "# singular example with count \n",
    "hcubature_count(x -> 1/norm(x)^3, (0,0,0), (1,1,1))"
   ]
  },
  {
   "cell_type": "code",
   "execution_count": 119,
   "id": "3677161d",
   "metadata": {},
   "outputs": [
    {
     "data": {
      "text/plain": [
       "(0.9693880526621552, 1.4444861385160079e-8, 1098471)"
      ]
     },
     "execution_count": 119,
     "metadata": {},
     "output_type": "execute_result"
    }
   ],
   "source": [
    "# singular example with count - constant magnetization - m(y) = a \n",
    "hcubature_count(x -> x[1]/norm(x)^3, (0,0,0), (1,1,1))"
   ]
  },
  {
   "cell_type": "code",
   "execution_count": 117,
   "id": "4c6fdb1b",
   "metadata": {},
   "outputs": [
    {
     "data": {
      "text/plain": [
       "(1.366067613186112, 2.0355841500269953e-8, 943965)"
      ]
     },
     "execution_count": 117,
     "metadata": {},
     "output_type": "execute_result"
    }
   ],
   "source": [
    "# singular example with count - linear magnetization - m(y) = a * y + b \n",
    "hcubature_count(x -> ((x[1]+1)*x[1])/norm(x)^3, (0,0,0), (1,1,1))"
   ]
  },
  {
   "cell_type": "code",
   "execution_count": 120,
   "id": "2899f692",
   "metadata": {},
   "outputs": [
    {
     "data": {
      "text/plain": [
       "(0.396679560641997, 5.910556231655236e-9, 427911)"
      ]
     },
     "execution_count": 120,
     "metadata": {},
     "output_type": "execute_result"
    }
   ],
   "source": [
    "# second singular example with count - homogeneous linear magn - m(y) = a * y \n",
    "hcubature_count(x -> (x[1]*x[1])/norm(x)^3, (0,0,0), (1,1,1))"
   ]
  },
  {
   "cell_type": "markdown",
   "id": "855bc19f",
   "metadata": {},
   "source": [
    "## Section 1: Define Vector Potential Density  "
   ]
  },
  {
   "cell_type": "code",
   "execution_count": null,
   "id": "f618b8c1",
   "metadata": {},
   "outputs": [],
   "source": []
  },
  {
   "cell_type": "code",
   "execution_count": 93,
   "id": "6e48e2bd",
   "metadata": {},
   "outputs": [
    {
     "data": {
      "text/plain": [
       "vp_density (generic function with 1 method)"
      ]
     },
     "execution_count": 93,
     "metadata": {},
     "output_type": "execute_result"
    }
   ],
   "source": [
    "# define vector potential density \n",
    "function vp_density(r, rprime, M)\n",
    "    num = cross(M, (r - rprime))\n",
    "    denom = norm(r - rprime)^3\n",
    "    result = num/denom\n",
    "    return result   \n",
    "end"
   ]
  },
  {
   "cell_type": "code",
   "execution_count": 94,
   "id": "a595b7fa",
   "metadata": {},
   "outputs": [
    {
     "data": {
      "text/plain": [
       "3-element Vector{Float64}:\n",
       "  0.3535533905932737\n",
       "  0.3535533905932737\n",
       " -0.0"
      ]
     },
     "execution_count": 94,
     "metadata": {},
     "output_type": "execute_result"
    }
   ],
   "source": [
    "M = [0.,0.,1.]\n",
    "r = [1.,0.,0.]\n",
    "rp = [0.,1.,0.]\n",
    "vp_density(r,rp,M)"
   ]
  },
  {
   "cell_type": "code",
   "execution_count": 95,
   "id": "7de3b373",
   "metadata": {},
   "outputs": [
    {
     "data": {
      "text/plain": [
       "3-element Vector{Float64}:\n",
       " 1.551694097302116\n",
       " 1.5516940972927296\n",
       " 0.0"
      ]
     },
     "execution_count": 95,
     "metadata": {},
     "output_type": "execute_result"
    }
   ],
   "source": [
    "M = [0.,0.,1.]\n",
    "r = [1.,0.,0.]\n",
    "t = 0.5 \n",
    "hcubature(rp -> vp_density(r,rp,M), (0.0, 0.0, -t), (1.0, 1.0, t))[1]"
   ]
  },
  {
   "cell_type": "code",
   "execution_count": 96,
   "id": "ab0261f1",
   "metadata": {},
   "outputs": [
    {
     "data": {
      "text/plain": [
       "([1.551694097302116, 1.5516940972927296, 0.0], 3.26994515627534e-8, 2377155)"
      ]
     },
     "execution_count": 96,
     "metadata": {},
     "output_type": "execute_result"
    }
   ],
   "source": [
    "M = [0.,0.,1.]\n",
    "r = [1.,0.,0.]\n",
    "t = 0.5 \n",
    "hcubature_count(rp -> vp_density(r,rp,M), (0.0, 0.0, -t), (1.0, 1.0, t))"
   ]
  },
  {
   "cell_type": "markdown",
   "id": "72773c8a",
   "metadata": {},
   "source": [
    "## Section 2: Perform Integration over Mesh "
   ]
  },
  {
   "cell_type": "code",
   "execution_count": 17,
   "id": "5eb6cfe3",
   "metadata": {},
   "outputs": [],
   "source": [
    "# loop over midpoints of elements \n",
    "N = 5; h = 1/N;\n",
    "xmesh = Vector(0:h:1)\n",
    "ymesh = Vector(0:h:1)\n",
    "for xi in xmesh[1:end-1] \n",
    "    for yj in ymesh[1:end-1] \n",
    "      mid = Point3D(xi+h/2,yj+h/2,0)\n",
    "      # display(mid)\n",
    "   end \n",
    "end "
   ]
  },
  {
   "cell_type": "code",
   "execution_count": null,
   "id": "5c33b190",
   "metadata": {},
   "outputs": [],
   "source": []
  },
  {
   "cell_type": "code",
   "execution_count": 52,
   "id": "cf47f372",
   "metadata": {},
   "outputs": [],
   "source": [
    "# test integration assuming integrand for which answer can be checked analytically \n",
    "function settoone(rp)\n",
    "    return 1.0\n",
    "end \n",
    "\n",
    "N = 5; h = 1/N;\n",
    "xmesh = Vector(0:h:1)\n",
    "ymesh = Vector(0:h:1)\n",
    "result = zeros(N,N)\n",
    "for (i,xi) in enumerate(xmesh[1:end-1]) \n",
    "    for (j,yj) in enumerate(ymesh[1:end-1])  \n",
    "      mid = Point3D(xi+h/2,yj+h/2,0)\n",
    "      result[i,j] = hcubature(rp -> settoone(rp), (xi, yj, -t), (xi+h, yj+h, t))[1]\n",
    "    end \n",
    "end"
   ]
  },
  {
   "cell_type": "code",
   "execution_count": 49,
   "id": "15fc6b6d",
   "metadata": {},
   "outputs": [
    {
     "data": {
      "text/plain": [
       "5×5 Matrix{Float64}:\n",
       " 0.04  0.04  0.04  0.04  0.04\n",
       " 0.04  0.04  0.04  0.04  0.04\n",
       " 0.04  0.04  0.04  0.04  0.04\n",
       " 0.04  0.04  0.04  0.04  0.04\n",
       " 0.04  0.04  0.04  0.04  0.04"
      ]
     },
     "execution_count": 49,
     "metadata": {},
     "output_type": "execute_result"
    }
   ],
   "source": [
    "result"
   ]
  },
  {
   "cell_type": "code",
   "execution_count": 109,
   "id": "107557be",
   "metadata": {},
   "outputs": [
    {
     "data": {
      "text/plain": [
       "0.0"
      ]
     },
     "metadata": {},
     "output_type": "display_data"
    },
    {
     "data": {
      "text/plain": [
       "0.0"
      ]
     },
     "metadata": {},
     "output_type": "display_data"
    },
    {
     "data": {
      "text/plain": [
       "0.2"
      ]
     },
     "metadata": {},
     "output_type": "display_data"
    },
    {
     "data": {
      "text/plain": [
       "0.4"
      ]
     },
     "metadata": {},
     "output_type": "display_data"
    },
    {
     "data": {
      "text/plain": [
       "0.6"
      ]
     },
     "metadata": {},
     "output_type": "display_data"
    },
    {
     "data": {
      "text/plain": [
       "0.8"
      ]
     },
     "metadata": {},
     "output_type": "display_data"
    },
    {
     "data": {
      "text/plain": [
       "0.2"
      ]
     },
     "metadata": {},
     "output_type": "display_data"
    },
    {
     "data": {
      "text/plain": [
       "0.0"
      ]
     },
     "metadata": {},
     "output_type": "display_data"
    },
    {
     "data": {
      "text/plain": [
       "0.2"
      ]
     },
     "metadata": {},
     "output_type": "display_data"
    },
    {
     "data": {
      "text/plain": [
       "0.4"
      ]
     },
     "metadata": {},
     "output_type": "display_data"
    },
    {
     "data": {
      "text/plain": [
       "0.6"
      ]
     },
     "metadata": {},
     "output_type": "display_data"
    },
    {
     "data": {
      "text/plain": [
       "0.8"
      ]
     },
     "metadata": {},
     "output_type": "display_data"
    },
    {
     "data": {
      "text/plain": [
       "0.4"
      ]
     },
     "metadata": {},
     "output_type": "display_data"
    },
    {
     "data": {
      "text/plain": [
       "0.0"
      ]
     },
     "metadata": {},
     "output_type": "display_data"
    },
    {
     "data": {
      "text/plain": [
       "0.2"
      ]
     },
     "metadata": {},
     "output_type": "display_data"
    },
    {
     "data": {
      "text/plain": [
       "0.4"
      ]
     },
     "metadata": {},
     "output_type": "display_data"
    },
    {
     "data": {
      "text/plain": [
       "0.6"
      ]
     },
     "metadata": {},
     "output_type": "display_data"
    },
    {
     "data": {
      "text/plain": [
       "0.8"
      ]
     },
     "metadata": {},
     "output_type": "display_data"
    },
    {
     "data": {
      "text/plain": [
       "0.6"
      ]
     },
     "metadata": {},
     "output_type": "display_data"
    },
    {
     "data": {
      "text/plain": [
       "0.0"
      ]
     },
     "metadata": {},
     "output_type": "display_data"
    },
    {
     "data": {
      "text/plain": [
       "0.2"
      ]
     },
     "metadata": {},
     "output_type": "display_data"
    },
    {
     "data": {
      "text/plain": [
       "0.4"
      ]
     },
     "metadata": {},
     "output_type": "display_data"
    },
    {
     "data": {
      "text/plain": [
       "0.6"
      ]
     },
     "metadata": {},
     "output_type": "display_data"
    },
    {
     "data": {
      "text/plain": [
       "0.8"
      ]
     },
     "metadata": {},
     "output_type": "display_data"
    },
    {
     "data": {
      "text/plain": [
       "0.8"
      ]
     },
     "metadata": {},
     "output_type": "display_data"
    },
    {
     "data": {
      "text/plain": [
       "0.0"
      ]
     },
     "metadata": {},
     "output_type": "display_data"
    },
    {
     "data": {
      "text/plain": [
       "0.2"
      ]
     },
     "metadata": {},
     "output_type": "display_data"
    },
    {
     "data": {
      "text/plain": [
       "0.4"
      ]
     },
     "metadata": {},
     "output_type": "display_data"
    },
    {
     "data": {
      "text/plain": [
       "0.6"
      ]
     },
     "metadata": {},
     "output_type": "display_data"
    },
    {
     "data": {
      "text/plain": [
       "0.8"
      ]
     },
     "metadata": {},
     "output_type": "display_data"
    }
   ],
   "source": [
    "# assume r to coincide with midpoint of the element\n",
    "N = 5; h = 1/N;\n",
    "xmesh = Vector(0:h:1)\n",
    "ymesh = Vector(0:h:1)\n",
    "result = fill(zeros(3),N,N)\n",
    "for (i,xi) in enumerate(xmesh[1:end-1]) \n",
    "    for (j,yj) in enumerate(ymesh[1:end-1])  \n",
    "      mid = Point3D(xi,yj,-t)\n",
    "      result[i,j] = hcubature(rp -> vp_density(mid,rp,M), (xi, yj, -t), (xi+h, yj+h, t))[1]\n",
    "    end \n",
    "end"
   ]
  },
  {
   "cell_type": "code",
   "execution_count": 107,
   "id": "f25094a7",
   "metadata": {},
   "outputs": [
    {
     "data": {
      "text/plain": [
       "5×5 Matrix{Vector{Float64}}:\n",
       " [0.224443, -0.224443, 0.0]  …  [0.224443, -0.224443, 0.0]\n",
       " [0.224443, -0.224443, 0.0]     [0.224443, -0.224443, 0.0]\n",
       " [0.224443, -0.224443, 0.0]     [0.224443, -0.224443, 0.0]\n",
       " [0.224443, -0.224443, 0.0]     [0.224443, -0.224443, 0.0]\n",
       " [0.224443, -0.224443, 0.0]     [0.224443, -0.224443, 0.0]"
      ]
     },
     "execution_count": 107,
     "metadata": {},
     "output_type": "execute_result"
    }
   ],
   "source": [
    "result"
   ]
  },
  {
   "cell_type": "code",
   "execution_count": 58,
   "id": "ec469b19",
   "metadata": {},
   "outputs": [],
   "source": [
    "# assume r to coincide with midpoint of the element\n",
    "N = 5; h = 1/N;\n",
    "xmesh = Vector(0:h:1)\n",
    "ymesh = Vector(0:h:1)\n",
    "result = fill(zeros(3),N,N)\n",
    "for (i,xi) in enumerate(xmesh[1:end-1]) \n",
    "    for (j,yj) in enumerate(ymesh[1:end-1])  \n",
    "      r = Point3D(xi,yj,-t)\n",
    "      result[i,j] = hcubature_count(rp -> vp_density(r,rp,M), (xi, yj, -t), (xi+h, yj+h, t))[1]\n",
    "    end \n",
    "end"
   ]
  },
  {
   "cell_type": "code",
   "execution_count": 59,
   "id": "65503ce1",
   "metadata": {},
   "outputs": [
    {
     "data": {
      "text/plain": [
       "5×5 Matrix{Vector{Float64}}:\n",
       " [0.224443, -0.224443, 0.0]  …  [0.224443, -0.224443, 0.0]\n",
       " [0.224443, -0.224443, 0.0]     [0.224443, -0.224443, 0.0]\n",
       " [0.224443, -0.224443, 0.0]     [0.224443, -0.224443, 0.0]\n",
       " [0.224443, -0.224443, 0.0]     [0.224443, -0.224443, 0.0]\n",
       " [0.224443, -0.224443, 0.0]     [0.224443, -0.224443, 0.0]"
      ]
     },
     "execution_count": 59,
     "metadata": {},
     "output_type": "execute_result"
    }
   ],
   "source": [
    "result"
   ]
  },
  {
   "cell_type": "code",
   "execution_count": 67,
   "id": "488de7ca",
   "metadata": {},
   "outputs": [
    {
     "data": {
      "text/plain": [
       "3-element SVector{3, Float64} with indices SOneTo(3):\n",
       "  0.0\n",
       "  0.0\n",
       " -0.5"
      ]
     },
     "metadata": {},
     "output_type": "display_data"
    },
    {
     "data": {
      "text/plain": [
       "3-element SVector{3, Float64} with indices SOneTo(3):\n",
       "  0.0\n",
       "  0.2\n",
       " -0.5"
      ]
     },
     "metadata": {},
     "output_type": "display_data"
    },
    {
     "data": {
      "text/plain": [
       "3-element SVector{3, Float64} with indices SOneTo(3):\n",
       "  0.0\n",
       "  0.4\n",
       " -0.5"
      ]
     },
     "metadata": {},
     "output_type": "display_data"
    },
    {
     "data": {
      "text/plain": [
       "3-element SVector{3, Float64} with indices SOneTo(3):\n",
       "  0.0\n",
       "  0.6\n",
       " -0.5"
      ]
     },
     "metadata": {},
     "output_type": "display_data"
    },
    {
     "data": {
      "text/plain": [
       "3-element SVector{3, Float64} with indices SOneTo(3):\n",
       "  0.0\n",
       "  0.8\n",
       " -0.5"
      ]
     },
     "metadata": {},
     "output_type": "display_data"
    },
    {
     "data": {
      "text/plain": [
       "3-element SVector{3, Float64} with indices SOneTo(3):\n",
       "  0.2\n",
       "  0.0\n",
       " -0.5"
      ]
     },
     "metadata": {},
     "output_type": "display_data"
    },
    {
     "data": {
      "text/plain": [
       "3-element SVector{3, Float64} with indices SOneTo(3):\n",
       "  0.2\n",
       "  0.2\n",
       " -0.5"
      ]
     },
     "metadata": {},
     "output_type": "display_data"
    },
    {
     "data": {
      "text/plain": [
       "3-element SVector{3, Float64} with indices SOneTo(3):\n",
       "  0.2\n",
       "  0.4\n",
       " -0.5"
      ]
     },
     "metadata": {},
     "output_type": "display_data"
    },
    {
     "data": {
      "text/plain": [
       "3-element SVector{3, Float64} with indices SOneTo(3):\n",
       "  0.2\n",
       "  0.6\n",
       " -0.5"
      ]
     },
     "metadata": {},
     "output_type": "display_data"
    },
    {
     "data": {
      "text/plain": [
       "3-element SVector{3, Float64} with indices SOneTo(3):\n",
       "  0.2\n",
       "  0.8\n",
       " -0.5"
      ]
     },
     "metadata": {},
     "output_type": "display_data"
    },
    {
     "data": {
      "text/plain": [
       "3-element SVector{3, Float64} with indices SOneTo(3):\n",
       "  0.4\n",
       "  0.0\n",
       " -0.5"
      ]
     },
     "metadata": {},
     "output_type": "display_data"
    },
    {
     "data": {
      "text/plain": [
       "3-element SVector{3, Float64} with indices SOneTo(3):\n",
       "  0.4\n",
       "  0.2\n",
       " -0.5"
      ]
     },
     "metadata": {},
     "output_type": "display_data"
    },
    {
     "data": {
      "text/plain": [
       "3-element SVector{3, Float64} with indices SOneTo(3):\n",
       "  0.4\n",
       "  0.4\n",
       " -0.5"
      ]
     },
     "metadata": {},
     "output_type": "display_data"
    },
    {
     "data": {
      "text/plain": [
       "3-element SVector{3, Float64} with indices SOneTo(3):\n",
       "  0.4\n",
       "  0.6\n",
       " -0.5"
      ]
     },
     "metadata": {},
     "output_type": "display_data"
    },
    {
     "data": {
      "text/plain": [
       "3-element SVector{3, Float64} with indices SOneTo(3):\n",
       "  0.4\n",
       "  0.8\n",
       " -0.5"
      ]
     },
     "metadata": {},
     "output_type": "display_data"
    },
    {
     "data": {
      "text/plain": [
       "3-element SVector{3, Float64} with indices SOneTo(3):\n",
       "  0.6\n",
       "  0.0\n",
       " -0.5"
      ]
     },
     "metadata": {},
     "output_type": "display_data"
    },
    {
     "data": {
      "text/plain": [
       "3-element SVector{3, Float64} with indices SOneTo(3):\n",
       "  0.6\n",
       "  0.2\n",
       " -0.5"
      ]
     },
     "metadata": {},
     "output_type": "display_data"
    },
    {
     "data": {
      "text/plain": [
       "3-element SVector{3, Float64} with indices SOneTo(3):\n",
       "  0.6\n",
       "  0.4\n",
       " -0.5"
      ]
     },
     "metadata": {},
     "output_type": "display_data"
    },
    {
     "data": {
      "text/plain": [
       "3-element SVector{3, Float64} with indices SOneTo(3):\n",
       "  0.6\n",
       "  0.6\n",
       " -0.5"
      ]
     },
     "metadata": {},
     "output_type": "display_data"
    },
    {
     "data": {
      "text/plain": [
       "3-element SVector{3, Float64} with indices SOneTo(3):\n",
       "  0.6\n",
       "  0.8\n",
       " -0.5"
      ]
     },
     "metadata": {},
     "output_type": "display_data"
    },
    {
     "data": {
      "text/plain": [
       "3-element SVector{3, Float64} with indices SOneTo(3):\n",
       "  0.8\n",
       "  0.0\n",
       " -0.5"
      ]
     },
     "metadata": {},
     "output_type": "display_data"
    },
    {
     "data": {
      "text/plain": [
       "3-element SVector{3, Float64} with indices SOneTo(3):\n",
       "  0.8\n",
       "  0.2\n",
       " -0.5"
      ]
     },
     "metadata": {},
     "output_type": "display_data"
    },
    {
     "data": {
      "text/plain": [
       "3-element SVector{3, Float64} with indices SOneTo(3):\n",
       "  0.8\n",
       "  0.4\n",
       " -0.5"
      ]
     },
     "metadata": {},
     "output_type": "display_data"
    },
    {
     "data": {
      "text/plain": [
       "3-element SVector{3, Float64} with indices SOneTo(3):\n",
       "  0.8\n",
       "  0.6\n",
       " -0.5"
      ]
     },
     "metadata": {},
     "output_type": "display_data"
    },
    {
     "data": {
      "text/plain": [
       "3-element SVector{3, Float64} with indices SOneTo(3):\n",
       "  0.8\n",
       "  0.8\n",
       " -0.5"
      ]
     },
     "metadata": {},
     "output_type": "display_data"
    }
   ],
   "source": [
    "# assume r to coincide with midpoint of the element\n",
    "N = 5; h = 1/N;\n",
    "xmesh = Vector(0:h:1)\n",
    "ymesh = Vector(0:h:1)\n",
    "result = zeros(Int64,N,N)\n",
    "for (i,xi) in enumerate(xmesh[1:end-1]) \n",
    "    for (j,yj) in enumerate(ymesh[1:end-1])  \n",
    "      r = Point3D(xi,yj,-t)\n",
    "      display(r)\n",
    "      result[i,j] = hcubature_count(rp -> vp_density(r,rp,M), (xi, yj, -t), (xi+h, yj+h, t))[3]\n",
    "    end \n",
    "end"
   ]
  },
  {
   "cell_type": "code",
   "execution_count": 66,
   "id": "81eedbb6",
   "metadata": {},
   "outputs": [
    {
     "data": {
      "text/plain": [
       "5×5 Matrix{Int64}:\n",
       " 1265781  1265781  1265781  1265781  1265781\n",
       " 1265781  1265781  1265781  1265781  1265781\n",
       " 1265781  1265781  1265781  1265781  1265781\n",
       " 1265781  1265781  1265781  1265781  1265781\n",
       " 1265781  1265781  1265781  1265781  1265781"
      ]
     },
     "execution_count": 66,
     "metadata": {},
     "output_type": "execute_result"
    }
   ],
   "source": [
    "result"
   ]
  },
  {
   "cell_type": "code",
   "execution_count": null,
   "id": "1c7fe205",
   "metadata": {},
   "outputs": [],
   "source": []
  }
 ],
 "metadata": {
  "kernelspec": {
   "display_name": "Julia 1.8.1",
   "language": "julia",
   "name": "julia-1.8"
  },
  "language_info": {
   "file_extension": ".jl",
   "mimetype": "application/julia",
   "name": "julia",
   "version": "1.8.1"
  }
 },
 "nbformat": 4,
 "nbformat_minor": 5
}
