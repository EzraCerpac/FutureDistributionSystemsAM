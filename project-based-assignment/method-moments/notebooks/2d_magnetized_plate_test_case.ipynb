{
 "cells": [
  {
   "cell_type": "markdown",
   "id": "6d5333c0",
   "metadata": {},
   "source": [
    "# Metallic Flat Plate Magnetized in Exterior Field \n",
    "# Test Case in TU Delft Master Thesis of Lisette de Bruin \n",
    "# 2D Toy Version \n",
    "\n",
    "<b>Goal</b>: The goal of this notebook is to compute a 2D numerical reference solution for the magnetization vector of metallic plate $\\vec{M}(\\vec{x})$ placed in homogeneous external magnetic field; "
   ]
  },
  {
   "cell_type": "markdown",
   "id": "7b692504",
   "metadata": {},
   "source": [
    "## Import Packages"
   ]
  },
  {
   "cell_type": "code",
   "execution_count": 2,
   "id": "20af491b",
   "metadata": {},
   "outputs": [],
   "source": [
    "using Ferrite, SparseArrays"
   ]
  },
  {
   "cell_type": "markdown",
   "id": "572c54cc",
   "metadata": {},
   "source": [
    "## Section 1: Using Ferrite.jl "
   ]
  },
  {
   "cell_type": "markdown",
   "id": "56ce0e4d",
   "metadata": {},
   "source": [
    "### Ferrite.jl Howto: What are cellvalues ? "
   ]
  },
  {
   "cell_type": "code",
   "execution_count": 3,
   "id": "b0c97002",
   "metadata": {},
   "outputs": [
    {
     "name": "stdout",
     "output_type": "stream",
     "text": [
      "search: \u001b[0m\u001b[1mg\u001b[22m\u001b[0m\u001b[1me\u001b[22m\u001b[0m\u001b[1mn\u001b[22m\u001b[0m\u001b[1me\u001b[22m\u001b[0m\u001b[1mr\u001b[22m\u001b[0m\u001b[1ma\u001b[22m\u001b[0m\u001b[1mt\u001b[22m\u001b[0m\u001b[1me\u001b[22m\u001b[0m\u001b[1m_\u001b[22m\u001b[0m\u001b[1mg\u001b[22m\u001b[0m\u001b[1mr\u001b[22m\u001b[0m\u001b[1mi\u001b[22m\u001b[0m\u001b[1md\u001b[22m\n",
      "\n"
     ]
    },
    {
     "data": {
      "text/latex": [
       "\\begin{verbatim}\n",
       "generate_grid(celltype::Cell, nel::NTuple, [left::Vec, right::Vec)\n",
       "\\end{verbatim}\n",
       "Return a \\texttt{Grid} for a rectangle in 1, 2 or 3 dimensions. \\texttt{celltype} defined the type of cells, e.g. \\texttt{Triangle} or \\texttt{Hexahedron}. \\texttt{nel} is a tuple of the number of elements in each direction. \\texttt{left} and \\texttt{right} are optional endpoints of the domain. Defaults to -1 and 1 in all directions.\n",
       "\n"
      ],
      "text/markdown": [
       "```\n",
       "generate_grid(celltype::Cell, nel::NTuple, [left::Vec, right::Vec)\n",
       "```\n",
       "\n",
       "Return a `Grid` for a rectangle in 1, 2 or 3 dimensions. `celltype` defined the type of cells, e.g. `Triangle` or `Hexahedron`. `nel` is a tuple of the number of elements in each direction. `left` and `right` are optional endpoints of the domain. Defaults to -1 and 1 in all directions.\n"
      ],
      "text/plain": [
       "  \u001b[38;5;81mgenerate_grid\u001b[0m(\u001b[0m\u001b[39mcelltype\u001b[0m\u001b[38;5;197m::\u001b[0m\u001b[39mCell\u001b[0m\u001b[39m,\u001b[0m \u001b[0m\u001b[39mnel\u001b[0m\u001b[38;5;197m::\u001b[0m\u001b[39mNTuple\u001b[0m\u001b[39m,\u001b[0m \u001b[0m\u001b[39m[\u001b[0m\u001b[39mleft\u001b[0m\u001b[38;5;197m::\u001b[0m\u001b[39mVec\u001b[0m\u001b[39m,\u001b[0m \u001b[0m\u001b[39mright\u001b[0m\u001b[38;5;197m::\u001b[0m\u001b[39mVec\u001b[0m\u001b[39m)\u001b[0m\n",
       "\n",
       "\n",
       "  Return a \u001b[36mGrid\u001b[39m for a rectangle in 1, 2 or 3 dimensions. \u001b[36mcelltype\u001b[39m defined the\n",
       "  type of cells, e.g. \u001b[36mTriangle\u001b[39m or \u001b[36mHexahedron\u001b[39m. \u001b[36mnel\u001b[39m is a tuple of the number of\n",
       "  elements in each direction. \u001b[36mleft\u001b[39m and \u001b[36mright\u001b[39m are optional endpoints of the\n",
       "  domain. Defaults to -1 and 1 in all directions."
      ]
     },
     "execution_count": 3,
     "metadata": {},
     "output_type": "execute_result"
    }
   ],
   "source": [
    "?generate_grid"
   ]
  },
  {
   "cell_type": "code",
   "execution_count": 6,
   "id": "b9b8b76e",
   "metadata": {},
   "outputs": [
    {
     "data": {
      "text/plain": [
       "Grid{2, Quadrilateral, Float64} with 4 Quadrilateral cells and 9 nodes"
      ]
     },
     "execution_count": 6,
     "metadata": {},
     "output_type": "execute_result"
    }
   ],
   "source": [
    "# generate tiny grid for testing purposes \n",
    "nels  = (2, 2) # number of elements in each spatial direction\n",
    "left  = Vec((0.0, 0.0)) # start point for geometry \n",
    "right = Vec((1.0, 1.0,))    # end point for geometry\n",
    "grid = generate_grid(Quadrilateral, nels,left, right) "
   ]
  },
  {
   "cell_type": "code",
   "execution_count": 7,
   "id": "d045fae0",
   "metadata": {},
   "outputs": [
    {
     "data": {
      "text/plain": [
       "CellScalarValues{2, Float64, RefCube} with 4 shape functions and 4 quadrature points"
      ]
     },
     "execution_count": 7,
     "metadata": {},
     "output_type": "execute_result"
    }
   ],
   "source": [
    "dim = 2\n",
    "ip = Lagrange{dim, RefCube, 1}()\n",
    "qr = QuadratureRule{dim, RefCube}(2)\n",
    "cellvalues = CellScalarValues(qr, ip)"
   ]
  },
  {
   "cell_type": "markdown",
   "id": "815c087d",
   "metadata": {},
   "source": [
    "### Ferrite.jl Howto: What does re-init do? "
   ]
  },
  {
   "cell_type": "code",
   "execution_count": 8,
   "id": "3dadd90b",
   "metadata": {},
   "outputs": [
    {
     "name": "stdout",
     "output_type": "stream",
     "text": [
      "search: \u001b[0m\u001b[1mr\u001b[22m\u001b[0m\u001b[1me\u001b[22m\u001b[0m\u001b[1mi\u001b[22m\u001b[0m\u001b[1mn\u001b[22m\u001b[0m\u001b[1mi\u001b[22m\u001b[0m\u001b[1mt\u001b[22m\u001b[0m\u001b[1m!\u001b[22m at\u001b[0m\u001b[1mr\u001b[22m\u001b[0m\u001b[1me\u001b[22mpl\u001b[0m\u001b[1mi\u001b[22m\u001b[0m\u001b[1mn\u001b[22m\u001b[0m\u001b[1mi\u001b[22m\u001b[0m\u001b[1mt\u001b[22m pa\u001b[0m\u001b[1mr\u001b[22m\u001b[0m\u001b[1me\u001b[22mnt\u001b[0m\u001b[1mi\u001b[22m\u001b[0m\u001b[1mn\u001b[22md\u001b[0m\u001b[1mi\u001b[22mces Ca\u001b[0m\u001b[1mr\u001b[22mt\u001b[0m\u001b[1me\u001b[22ms\u001b[0m\u001b[1mi\u001b[22ma\u001b[0m\u001b[1mn\u001b[22m\u001b[0m\u001b[1mI\u001b[22mndex Ca\u001b[0m\u001b[1mr\u001b[22mt\u001b[0m\u001b[1me\u001b[22ms\u001b[0m\u001b[1mi\u001b[22ma\u001b[0m\u001b[1mn\u001b[22m\u001b[0m\u001b[1mI\u001b[22mndices\n",
      "\n"
     ]
    },
    {
     "data": {
      "text/latex": [
       "\\begin{verbatim}\n",
       "reinit!(cv::CellValues, x::Vector)\n",
       "reinit!(bv::FaceValues, x::Vector, face::Int)\n",
       "\\end{verbatim}\n",
       "Update the \\texttt{CellValues}/\\texttt{FaceValues} object for a cell or face with coordinates \\texttt{x}. The derivatives of the shape functions, and the new integration weights are computed.\n",
       "\n"
      ],
      "text/markdown": [
       "```\n",
       "reinit!(cv::CellValues, x::Vector)\n",
       "reinit!(bv::FaceValues, x::Vector, face::Int)\n",
       "```\n",
       "\n",
       "Update the `CellValues`/`FaceValues` object for a cell or face with coordinates `x`. The derivatives of the shape functions, and the new integration weights are computed.\n"
      ],
      "text/plain": [
       "  \u001b[38;5;81mreinit!\u001b[0m(\u001b[0m\u001b[39mcv\u001b[0m\u001b[38;5;197m::\u001b[0m\u001b[39mCellValues\u001b[0m\u001b[39m,\u001b[0m \u001b[0m\u001b[39mx\u001b[0m\u001b[38;5;197m::\u001b[0m\u001b[39mVector\u001b[0m\u001b[39m)\u001b[0m\n",
       "  \u001b[0m\u001b[38;5;81mreinit!\u001b[0m(\u001b[0m\u001b[39mbv\u001b[0m\u001b[38;5;197m::\u001b[0m\u001b[39mFaceValues\u001b[0m\u001b[39m,\u001b[0m \u001b[0m\u001b[39mx\u001b[0m\u001b[38;5;197m::\u001b[0m\u001b[39mVector\u001b[0m\u001b[39m,\u001b[0m \u001b[0m\u001b[39mface\u001b[0m\u001b[38;5;197m::\u001b[0m\u001b[39mInt\u001b[0m\u001b[39m)\u001b[0m\n",
       "\n",
       "\n",
       "  Update the \u001b[36mCellValues\u001b[39m/\u001b[36mFaceValues\u001b[39m object for a cell or face with coordinates\n",
       "  \u001b[36mx\u001b[39m. The derivatives of the shape functions, and the new integration weights\n",
       "  are computed."
      ]
     },
     "execution_count": 8,
     "metadata": {},
     "output_type": "execute_result"
    }
   ],
   "source": [
    "?reinit!"
   ]
  },
  {
   "cell_type": "markdown",
   "id": "a5d830e4",
   "metadata": {},
   "source": [
    "### Ferrite.jl Howto:  How to get coords and coord_qp?\n",
    "Obtain coordinates of quadrature points in each cell by \n",
    "1. loop over cells in the mesh using CellIterator(dh);\n",
    "2. for each cell, retrieve the coordinates for each cell using getcoordinates() yielding coord as output; \n",
    "3. reinit cellvalues for each cell using reinit!;   \n",
    "4. loop over quad points of cell and retrieve spatial coordinate for each quad point in the cell using spatial_coordinate() and coords as input; "
   ]
  },
  {
   "cell_type": "code",
   "execution_count": 9,
   "id": "3bb8f55a",
   "metadata": {},
   "outputs": [],
   "source": [
    "dh = DofHandler(grid)\n",
    "add!(dh, :u, 1)\n",
    "close!(dh);"
   ]
  },
  {
   "cell_type": "code",
   "execution_count": 10,
   "id": "d3062c71",
   "metadata": {},
   "outputs": [
    {
     "data": {
      "text/plain": [
       "my_diff_coeff (generic function with 1 method)"
      ]
     },
     "execution_count": 10,
     "metadata": {},
     "output_type": "execute_result"
    }
   ],
   "source": [
    "function my_diff_coeff(coord_qp)\n",
    "    return coord_qp[1] + coord_qp[2]\n",
    "end "
   ]
  },
  {
   "cell_type": "code",
   "execution_count": 12,
   "id": "77130a94",
   "metadata": {},
   "outputs": [
    {
     "data": {
      "text/plain": [
       "0"
      ]
     },
     "execution_count": 12,
     "metadata": {},
     "output_type": "execute_result"
    }
   ],
   "source": [
    "function my_get_coords(dh::DofHandler)\n",
    "    # Loop over all cels\n",
    "    for (cellcount, cell) in enumerate(CellIterator(dh))\n",
    "        coords = getcoordinates(cell)\n",
    "        # display(coords)\n",
    "        reinit!(cellvalues, cell)\n",
    "        for q_point in 1:getnquadpoints(cellvalues)\n",
    "            coords_qp = spatial_coordinate(cellvalues, q_point, coords)\n",
    "            # display(my_diff_coeff(coords_qp)) \n",
    "        end\n",
    "    end\n",
    "    return 0\n",
    "end\n",
    "\n",
    "my_get_coords(dh) "
   ]
  },
  {
   "cell_type": "code",
   "execution_count": 13,
   "id": "a87696fa",
   "metadata": {},
   "outputs": [
    {
     "data": {
      "text/plain": [
       "my_get_coords (generic function with 1 method)"
      ]
     },
     "execution_count": 13,
     "metadata": {},
     "output_type": "execute_result"
    }
   ],
   "source": [
    "function my_get_coords(dh::DofHandler)\n",
    "    # Loop over all cels\n",
    "    for (cellcount, cell) in enumerate(CellIterator(dh))\n",
    "        coords = getcoordinates(cell)\n",
    "        # display(coords)\n",
    "        reinit!(cellvalues, cell)\n",
    "        for q_point in 1:getnquadpoints(cellvalues)\n",
    "            coords_qp = spatial_coordinate(cellvalues, q_point, coords)\n",
    "            # display(my_diff_coeff(coords_qp)) \n",
    "        end\n",
    "    end\n",
    "    return 0\n",
    "end"
   ]
  },
  {
   "cell_type": "code",
   "execution_count": 14,
   "id": "92e5f694",
   "metadata": {},
   "outputs": [],
   "source": [
    "my_coords = my_get_coords(dh)\n",
    "my_coords;"
   ]
  },
  {
   "cell_type": "markdown",
   "id": "4efeccc4",
   "metadata": {},
   "source": [
    "## Section 2: 2D Mockup of the Magnetized Plate  "
   ]
  },
  {
   "cell_type": "code",
   "execution_count": 15,
   "id": "b0d2843c",
   "metadata": {},
   "outputs": [
    {
     "data": {
      "text/plain": [
       "my_diff_coeff (generic function with 1 method)"
      ]
     },
     "execution_count": 15,
     "metadata": {},
     "output_type": "execute_result"
    }
   ],
   "source": [
    "# define spatially varying diffusion coefficient \n",
    "function my_diff_coeff(coord_qp)\n",
    "    xbound = abs(coord_qp[1])<0.3\n",
    "    ybound = abs(coord_qp[2])<0.1    \n",
    "    return 1+1e6*(xbound*ybound) \n",
    "end "
   ]
  },
  {
   "cell_type": "code",
   "execution_count": 16,
   "id": "5e0616c3",
   "metadata": {},
   "outputs": [
    {
     "data": {
      "text/plain": [
       "assemble_element! (generic function with 1 method)"
      ]
     },
     "execution_count": 16,
     "metadata": {},
     "output_type": "execute_result"
    }
   ],
   "source": [
    "# Ke: added spatially varying diffusion coefficient \n",
    "# fe: forces zero source term \n",
    "function assemble_element!(Ke::Matrix, fe::Vector, cellvalues::CellScalarValues, mycoords)\n",
    "    n_basefuncs = getnbasefunctions(cellvalues)\n",
    "    # Reset to 0\n",
    "    fill!(Ke, 0)\n",
    "    fill!(fe, 0)\n",
    "    # Loop over quadrature points\n",
    "    for q_point in 1:getnquadpoints(cellvalues)\n",
    "        # Get the quadrature weight\n",
    "        dΩ = getdetJdV(cellvalues, q_point)\n",
    "        # ADDED: Get coord of quadrature point\n",
    "        coords_qp = spatial_coordinate(cellvalues, q_point, mycoords)\n",
    "        # ADDED: Evaluate spatially dependent diffusion coefficient in quad point \n",
    "        val_diff_coeff = my_diff_coeff(coords_qp)\n",
    "        # Loop over test shape functions\n",
    "        for i in 1:n_basefuncs\n",
    "            δu  = shape_value(cellvalues, q_point, i)\n",
    "            ∇δu = shape_gradient(cellvalues, q_point, i)\n",
    "            # Add contribution to fe\n",
    "            fe[i] += 0 * δu * dΩ\n",
    "            # Loop over trial shape functions\n",
    "            for j in 1:n_basefuncs\n",
    "                ∇u = shape_gradient(cellvalues, q_point, j)\n",
    "                # MODIFIED: Add contribution to Ke\n",
    "                Ke[i, j] += val_diff_coeff * (∇δu ⋅ ∇u) * dΩ\n",
    "            end\n",
    "        end\n",
    "    end\n",
    "    return Ke, fe\n",
    "end"
   ]
  },
  {
   "cell_type": "code",
   "execution_count": 17,
   "id": "bf40a0d1",
   "metadata": {},
   "outputs": [
    {
     "data": {
      "text/plain": [
       "assemble_global (generic function with 1 method)"
      ]
     },
     "execution_count": 17,
     "metadata": {},
     "output_type": "execute_result"
    }
   ],
   "source": [
    "function assemble_global(cellvalues::CellScalarValues, K::SparseMatrixCSC, dh::DofHandler)\n",
    "    # Allocate the element stiffness matrix and element force vector\n",
    "    n_basefuncs = getnbasefunctions(cellvalues)\n",
    "    Ke = zeros(n_basefuncs, n_basefuncs)\n",
    "    fe = zeros(n_basefuncs)\n",
    "    # Allocate global force vector f\n",
    "    f = zeros(ndofs(dh))\n",
    "    # Create an assembler\n",
    "    assembler = start_assemble(K, f)\n",
    "    # Loop over all cels\n",
    "    for cell in CellIterator(dh)\n",
    "        # Added: Get coordinates from current cell \n",
    "        coords = getcoordinates(cell)\n",
    "        # Reinitialize cellvalues for this cell\n",
    "        reinit!(cellvalues, cell)\n",
    "        # Modified - Compute element contribution\n",
    "        assemble_element!(Ke, fe, cellvalues, coords)\n",
    "        # Assemble Ke and fe into K and f\n",
    "        assemble!(assembler, celldofs(cell), Ke, fe)\n",
    "    end\n",
    "    return K, f\n",
    "end"
   ]
  },
  {
   "cell_type": "code",
   "execution_count": 141,
   "id": "118c25c7",
   "metadata": {},
   "outputs": [],
   "source": [
    "nels  = (5, 5) # number of elements in each spatial direction\n",
    "left  = Vec((-1.0, -1.0)) # start point for geometry \n",
    "right = Vec((1.0, 1.0,))    # end point for geometry\n",
    "grid = generate_grid(Quadrilateral,nels,left,right);\n",
    "\n",
    "# nels  = (100, 50) # number of elements in each spatial direction\n",
    "# left  = Vec((0.0, 0.0)) # start point for geometry \n",
    "# right = Vec((2.0, 1.0,))    # end point for geometry\n",
    "# grid = generate_grid(Quadrilateral,nels,left,right);\n",
    "#grid "
   ]
  },
  {
   "cell_type": "code",
   "execution_count": 142,
   "id": "46e4fe42",
   "metadata": {},
   "outputs": [],
   "source": [
    "dim = 2\n",
    "ip = Lagrange{dim, RefCube, 1}()\n",
    "qr = QuadratureRule{dim, RefCube}(2)\n",
    "cellvalues = CellScalarValues(qr, ip);"
   ]
  },
  {
   "cell_type": "code",
   "execution_count": 143,
   "id": "35d16e60",
   "metadata": {},
   "outputs": [],
   "source": [
    "dh = DofHandler(grid)\n",
    "add!(dh, :u, 1)\n",
    "close!(dh);"
   ]
  },
  {
   "cell_type": "code",
   "execution_count": 144,
   "id": "0fb329ff",
   "metadata": {},
   "outputs": [],
   "source": [
    "K = create_sparsity_pattern(dh);"
   ]
  },
  {
   "cell_type": "code",
   "execution_count": 145,
   "id": "c76de664",
   "metadata": {},
   "outputs": [],
   "source": [
    "ch = ConstraintHandler(dh);"
   ]
  },
  {
   "cell_type": "code",
   "execution_count": 146,
   "id": "c370e26b",
   "metadata": {},
   "outputs": [],
   "source": [
    "∂Ω = union(\n",
    "    getfaceset(grid, \"left\"),\n",
    "    getfaceset(grid, \"right\"),\n",
    "    getfaceset(grid, \"top\"),\n",
    "    getfaceset(grid, \"bottom\"),\n",
    ");\n",
    "\n",
    "# ∂Ω = union(\n",
    "#    getfaceset(grid, \"right\"),\n",
    "#    getfaceset(grid, \"top\"),\n",
    "# );"
   ]
  },
  {
   "cell_type": "code",
   "execution_count": 147,
   "id": "bb8f460f",
   "metadata": {},
   "outputs": [],
   "source": [
    "dbc = Dirichlet(:u, ∂Ω, (x, t) -> x[1])\n",
    "add!(ch, dbc);"
   ]
  },
  {
   "cell_type": "code",
   "execution_count": 148,
   "id": "e1b1a037",
   "metadata": {},
   "outputs": [
    {
     "data": {
      "text/plain": [
       "ConstraintHandler:\n",
       "  BCs:\n",
       "    Field: u, Components: [1]"
      ]
     },
     "execution_count": 148,
     "metadata": {},
     "output_type": "execute_result"
    }
   ],
   "source": [
    "close!(ch)"
   ]
  },
  {
   "cell_type": "code",
   "execution_count": 149,
   "id": "410e8e05",
   "metadata": {},
   "outputs": [],
   "source": [
    "K, f = assemble_global(cellvalues, K, dh);"
   ]
  },
  {
   "cell_type": "code",
   "execution_count": 150,
   "id": "aa8fcc63",
   "metadata": {},
   "outputs": [],
   "source": [
    "apply!(K, f, ch)\n",
    "u = K \\ f;"
   ]
  },
  {
   "cell_type": "code",
   "execution_count": 151,
   "id": "2cc6af34",
   "metadata": {},
   "outputs": [
    {
     "data": {
      "text/plain": [
       "36-element Vector{Float64}:\n",
       " -1.0\n",
       " -0.6000000000000001\n",
       " -7.069147921125653e-6\n",
       " -1.0\n",
       " -0.19999999999999993\n",
       " -9.216068649105236e-7\n",
       "  0.19999999999999993\n",
       "  9.216068643896823e-7\n",
       "  0.6000000000000001\n",
       "  7.0691479206048145e-6\n",
       "  1.0\n",
       "  1.0\n",
       " -2.232044708101914e-6\n",
       "  ⋮\n",
       " -7.069147921125656e-6\n",
       " -1.0\n",
       " -9.216068649105247e-7\n",
       "  9.216068643896813e-7\n",
       "  7.069147920604817e-6\n",
       "  1.0\n",
       " -0.6000000000000001\n",
       " -1.0\n",
       " -0.19999999999999993\n",
       "  0.19999999999999993\n",
       "  0.6000000000000001\n",
       "  1.0"
      ]
     },
     "execution_count": 151,
     "metadata": {},
     "output_type": "execute_result"
    }
   ],
   "source": [
    "u"
   ]
  },
  {
   "cell_type": "code",
   "execution_count": 152,
   "id": "ff9ba5fe",
   "metadata": {},
   "outputs": [
    {
     "data": {
      "text/plain": [
       "1-element Vector{String}:\n",
       " \"magnetic_plate.vtu\""
      ]
     },
     "execution_count": 152,
     "metadata": {},
     "output_type": "execute_result"
    }
   ],
   "source": [
    "vtk_grid(\"magnetic_plate\", dh) do vtk\n",
    "    vtk_point_data(vtk, dh, u)\n",
    "end"
   ]
  },
  {
   "cell_type": "markdown",
   "id": "03c1120e",
   "metadata": {},
   "source": [
    "### Computing Fluxes"
   ]
  },
  {
   "cell_type": "code",
   "execution_count": 153,
   "id": "575f2a21",
   "metadata": {},
   "outputs": [
    {
     "data": {
      "text/plain": [
       "my_get_coords (generic function with 1 method)"
      ]
     },
     "execution_count": 153,
     "metadata": {},
     "output_type": "execute_result"
    }
   ],
   "source": [
    "function my_get_coords(dh::DofHandler)\n",
    "    # Loop over all cels\n",
    "    for (cellcount, cell) in enumerate(CellIterator(dh))\n",
    "        coords = getcoordinates(cell)\n",
    "        display(coords)\n",
    "        reinit!(cellvalues, cell)\n",
    "        for q_point in 1:getnquadpoints(cellvalues)\n",
    "            coords_qp = spatial_coordinate(cellvalues, q_point, coords)\n",
    "            # display(my_diff_coeff(coords_qp)) \n",
    "        end\n",
    "    end\n",
    "    return 0\n",
    "end"
   ]
  },
  {
   "cell_type": "code",
   "execution_count": 157,
   "id": "2b000328",
   "metadata": {},
   "outputs": [
    {
     "data": {
      "text/plain": [
       "my_diff_coeff (generic function with 1 method)"
      ]
     },
     "execution_count": 157,
     "metadata": {},
     "output_type": "execute_result"
    }
   ],
   "source": [
    "# define spatially varying diffusion coefficient \n",
    "function my_diff_coeff(coord_qp)\n",
    "    xbound = abs(coord_qp[1])<0.3\n",
    "    ybound = abs(coord_qp[2])<0.2 \n",
    "    return 1+1e6*(xbound*ybound) \n",
    "end "
   ]
  },
  {
   "cell_type": "code",
   "execution_count": 158,
   "id": "a9eaa43d",
   "metadata": {},
   "outputs": [
    {
     "data": {
      "text/plain": [
       "compute_bfield (generic function with 1 method)"
      ]
     },
     "execution_count": 158,
     "metadata": {},
     "output_type": "execute_result"
    }
   ],
   "source": [
    "function compute_hfield(cellvalues::CellScalarValues{dim,T}, dh::DofHandler, a) where {dim,T}\n",
    "\n",
    "    n = getnbasefunctions(cellvalues)\n",
    "    cell_dofs = zeros(Int, n)\n",
    "    nqp = getnquadpoints(cellvalues)\n",
    "\n",
    "    # Allocate storage for the fluxes to store\n",
    "    q = [Vec{2,T}[] for _ in 1:getncells(dh.grid)]\n",
    "\n",
    "    for (cell_num, cell) in enumerate(CellIterator(dh))\n",
    "        q_cell = q[cell_num]\n",
    "        celldofs!(cell_dofs, dh, cell_num)\n",
    "        aᵉ = a[cell_dofs]\n",
    "        reinit!(cellvalues, cell)\n",
    "\n",
    "        for q_point in 1:nqp\n",
    "            q_qp = - function_gradient(cellvalues, q_point, aᵉ)\n",
    "            push!(q_cell, q_qp)\n",
    "        end\n",
    "    end\n",
    "    return q\n",
    "end\n",
    "\n",
    "function compute_bfield(cellvalues::CellScalarValues{dim,T}, dh::DofHandler, a) where {dim,T}\n",
    "\n",
    "    n = getnbasefunctions(cellvalues)\n",
    "    cell_dofs = zeros(Int, n)\n",
    "    nqp = getnquadpoints(cellvalues)\n",
    "\n",
    "    # Allocate storage for the fluxes to store\n",
    "    q = [Vec{2,T}[] for _ in 1:getncells(dh.grid)]\n",
    "\n",
    "    for (cell_num, cell) in enumerate(CellIterator(dh))\n",
    "        q_cell = q[cell_num]\n",
    "        celldofs!(cell_dofs, dh, cell_num)\n",
    "        aᵉ = a[cell_dofs]\n",
    "        reinit!(cellvalues, cell)\n",
    "        coords = getcoordinates(cell)\n",
    "        \n",
    "        for q_point in 1:nqp\n",
    "            coords_qp = spatial_coordinate(cellvalues, q_point, coords)\n",
    "            val_diff_coeff = my_diff_coeff(coords_qp)\n",
    "            display(coords_qp)\n",
    "            display(val_diff_coeff)\n",
    "            q_qp = - val_diff_coeff*function_gradient(cellvalues, q_point, aᵉ)\n",
    "            push!(q_cell, q_qp)\n",
    "        end\n",
    "    end\n",
    "    return q\n",
    "end"
   ]
  },
  {
   "cell_type": "code",
   "execution_count": 159,
   "id": "72cbe085",
   "metadata": {},
   "outputs": [
    {
     "data": {
      "text/plain": [
       "2-element Vec{2, Float64}:\n",
       " -0.9154700538379252\n",
       " -0.9154700538379251"
      ]
     },
     "metadata": {},
     "output_type": "display_data"
    },
    {
     "data": {
      "text/plain": [
       "1.0"
      ]
     },
     "metadata": {},
     "output_type": "display_data"
    },
    {
     "data": {
      "text/plain": [
       "2-element Vec{2, Float64}:\n",
       " -0.684529946162075\n",
       " -0.9154700538379251"
      ]
     },
     "metadata": {},
     "output_type": "display_data"
    },
    {
     "data": {
      "text/plain": [
       "1.0"
      ]
     },
     "metadata": {},
     "output_type": "display_data"
    },
    {
     "data": {
      "text/plain": [
       "2-element Vec{2, Float64}:\n",
       " -0.9154700538379252\n",
       " -0.684529946162075"
      ]
     },
     "metadata": {},
     "output_type": "display_data"
    },
    {
     "data": {
      "text/plain": [
       "1.0"
      ]
     },
     "metadata": {},
     "output_type": "display_data"
    },
    {
     "data": {
      "text/plain": [
       "2-element Vec{2, Float64}:\n",
       " -0.6845299461620751\n",
       " -0.684529946162075"
      ]
     },
     "metadata": {},
     "output_type": "display_data"
    },
    {
     "data": {
      "text/plain": [
       "1.0"
      ]
     },
     "metadata": {},
     "output_type": "display_data"
    },
    {
     "data": {
      "text/plain": [
       "2-element Vec{2, Float64}:\n",
       " -0.5154700538379252\n",
       " -0.9154700538379251"
      ]
     },
     "metadata": {},
     "output_type": "display_data"
    },
    {
     "data": {
      "text/plain": [
       "1.0"
      ]
     },
     "metadata": {},
     "output_type": "display_data"
    },
    {
     "data": {
      "text/plain": [
       "2-element Vec{2, Float64}:\n",
       " -0.28452994616207483\n",
       " -0.9154700538379251"
      ]
     },
     "metadata": {},
     "output_type": "display_data"
    },
    {
     "data": {
      "text/plain": [
       "1.0"
      ]
     },
     "metadata": {},
     "output_type": "display_data"
    },
    {
     "data": {
      "text/plain": [
       "2-element Vec{2, Float64}:\n",
       " -0.5154700538379252\n",
       " -0.684529946162075"
      ]
     },
     "metadata": {},
     "output_type": "display_data"
    },
    {
     "data": {
      "text/plain": [
       "1.0"
      ]
     },
     "metadata": {},
     "output_type": "display_data"
    },
    {
     "data": {
      "text/plain": [
       "2-element Vec{2, Float64}:\n",
       " -0.28452994616207483\n",
       " -0.684529946162075"
      ]
     },
     "metadata": {},
     "output_type": "display_data"
    },
    {
     "data": {
      "text/plain": [
       "1.0"
      ]
     },
     "metadata": {},
     "output_type": "display_data"
    },
    {
     "data": {
      "text/plain": [
       "2-element Vec{2, Float64}:\n",
       " -0.11547005383792514\n",
       " -0.9154700538379251"
      ]
     },
     "metadata": {},
     "output_type": "display_data"
    },
    {
     "data": {
      "text/plain": [
       "1.0"
      ]
     },
     "metadata": {},
     "output_type": "display_data"
    },
    {
     "data": {
      "text/plain": [
       "2-element Vec{2, Float64}:\n",
       "  0.11547005383792514\n",
       " -0.9154700538379251"
      ]
     },
     "metadata": {},
     "output_type": "display_data"
    },
    {
     "data": {
      "text/plain": [
       "1.0"
      ]
     },
     "metadata": {},
     "output_type": "display_data"
    },
    {
     "data": {
      "text/plain": [
       "2-element Vec{2, Float64}:\n",
       " -0.11547005383792514\n",
       " -0.684529946162075"
      ]
     },
     "metadata": {},
     "output_type": "display_data"
    },
    {
     "data": {
      "text/plain": [
       "1.0"
      ]
     },
     "metadata": {},
     "output_type": "display_data"
    },
    {
     "data": {
      "text/plain": [
       "2-element Vec{2, Float64}:\n",
       "  0.11547005383792514\n",
       " -0.684529946162075"
      ]
     },
     "metadata": {},
     "output_type": "display_data"
    },
    {
     "data": {
      "text/plain": [
       "1.0"
      ]
     },
     "metadata": {},
     "output_type": "display_data"
    },
    {
     "data": {
      "text/plain": [
       "2-element Vec{2, Float64}:\n",
       "  0.28452994616207483\n",
       " -0.9154700538379251"
      ]
     },
     "metadata": {},
     "output_type": "display_data"
    },
    {
     "data": {
      "text/plain": [
       "1.0"
      ]
     },
     "metadata": {},
     "output_type": "display_data"
    },
    {
     "data": {
      "text/plain": [
       "2-element Vec{2, Float64}:\n",
       "  0.5154700538379252\n",
       " -0.9154700538379251"
      ]
     },
     "metadata": {},
     "output_type": "display_data"
    },
    {
     "data": {
      "text/plain": [
       "1.0"
      ]
     },
     "metadata": {},
     "output_type": "display_data"
    },
    {
     "data": {
      "text/plain": [
       "2-element Vec{2, Float64}:\n",
       "  0.28452994616207483\n",
       " -0.684529946162075"
      ]
     },
     "metadata": {},
     "output_type": "display_data"
    },
    {
     "data": {
      "text/plain": [
       "1.0"
      ]
     },
     "metadata": {},
     "output_type": "display_data"
    },
    {
     "data": {
      "text/plain": [
       "2-element Vec{2, Float64}:\n",
       "  0.5154700538379252\n",
       " -0.684529946162075"
      ]
     },
     "metadata": {},
     "output_type": "display_data"
    },
    {
     "data": {
      "text/plain": [
       "1.0"
      ]
     },
     "metadata": {},
     "output_type": "display_data"
    },
    {
     "data": {
      "text/plain": [
       "2-element Vec{2, Float64}:\n",
       "  0.684529946162075\n",
       " -0.9154700538379251"
      ]
     },
     "metadata": {},
     "output_type": "display_data"
    },
    {
     "data": {
      "text/plain": [
       "1.0"
      ]
     },
     "metadata": {},
     "output_type": "display_data"
    },
    {
     "data": {
      "text/plain": [
       "2-element Vec{2, Float64}:\n",
       "  0.9154700538379252\n",
       " -0.9154700538379251"
      ]
     },
     "metadata": {},
     "output_type": "display_data"
    },
    {
     "data": {
      "text/plain": [
       "1.0"
      ]
     },
     "metadata": {},
     "output_type": "display_data"
    },
    {
     "data": {
      "text/plain": [
       "2-element Vec{2, Float64}:\n",
       "  0.684529946162075\n",
       " -0.684529946162075"
      ]
     },
     "metadata": {},
     "output_type": "display_data"
    },
    {
     "data": {
      "text/plain": [
       "1.0"
      ]
     },
     "metadata": {},
     "output_type": "display_data"
    },
    {
     "data": {
      "text/plain": [
       "2-element Vec{2, Float64}:\n",
       "  0.9154700538379251\n",
       " -0.684529946162075"
      ]
     },
     "metadata": {},
     "output_type": "display_data"
    },
    {
     "data": {
      "text/plain": [
       "1.0"
      ]
     },
     "metadata": {},
     "output_type": "display_data"
    },
    {
     "data": {
      "text/plain": [
       "2-element Vec{2, Float64}:\n",
       " -0.9154700538379252\n",
       " -0.5154700538379253"
      ]
     },
     "metadata": {},
     "output_type": "display_data"
    },
    {
     "data": {
      "text/plain": [
       "1.0"
      ]
     },
     "metadata": {},
     "output_type": "display_data"
    },
    {
     "data": {
      "text/plain": [
       "2-element Vec{2, Float64}:\n",
       " -0.684529946162075\n",
       " -0.5154700538379252"
      ]
     },
     "metadata": {},
     "output_type": "display_data"
    },
    {
     "data": {
      "text/plain": [
       "1.0"
      ]
     },
     "metadata": {},
     "output_type": "display_data"
    },
    {
     "data": {
      "text/plain": [
       "2-element Vec{2, Float64}:\n",
       " -0.9154700538379252\n",
       " -0.28452994616207483"
      ]
     },
     "metadata": {},
     "output_type": "display_data"
    },
    {
     "data": {
      "text/plain": [
       "1.0"
      ]
     },
     "metadata": {},
     "output_type": "display_data"
    },
    {
     "data": {
      "text/plain": [
       "2-element Vec{2, Float64}:\n",
       " -0.6845299461620751\n",
       " -0.28452994616207483"
      ]
     },
     "metadata": {},
     "output_type": "display_data"
    },
    {
     "data": {
      "text/plain": [
       "1.0"
      ]
     },
     "metadata": {},
     "output_type": "display_data"
    },
    {
     "data": {
      "text/plain": [
       "2-element Vec{2, Float64}:\n",
       " -0.5154700538379252\n",
       " -0.5154700538379253"
      ]
     },
     "metadata": {},
     "output_type": "display_data"
    },
    {
     "data": {
      "text/plain": [
       "1.0"
      ]
     },
     "metadata": {},
     "output_type": "display_data"
    },
    {
     "data": {
      "text/plain": [
       "2-element Vec{2, Float64}:\n",
       " -0.28452994616207483\n",
       " -0.5154700538379252"
      ]
     },
     "metadata": {},
     "output_type": "display_data"
    },
    {
     "data": {
      "text/plain": [
       "1.0"
      ]
     },
     "metadata": {},
     "output_type": "display_data"
    },
    {
     "data": {
      "text/plain": [
       "2-element Vec{2, Float64}:\n",
       " -0.5154700538379252\n",
       " -0.28452994616207483"
      ]
     },
     "metadata": {},
     "output_type": "display_data"
    },
    {
     "data": {
      "text/plain": [
       "1.0"
      ]
     },
     "metadata": {},
     "output_type": "display_data"
    },
    {
     "data": {
      "text/plain": [
       "2-element Vec{2, Float64}:\n",
       " -0.28452994616207483\n",
       " -0.28452994616207483"
      ]
     },
     "metadata": {},
     "output_type": "display_data"
    },
    {
     "data": {
      "text/plain": [
       "1.0"
      ]
     },
     "metadata": {},
     "output_type": "display_data"
    },
    {
     "data": {
      "text/plain": [
       "2-element Vec{2, Float64}:\n",
       " -0.11547005383792514\n",
       " -0.5154700538379253"
      ]
     },
     "metadata": {},
     "output_type": "display_data"
    },
    {
     "data": {
      "text/plain": [
       "1.0"
      ]
     },
     "metadata": {},
     "output_type": "display_data"
    },
    {
     "data": {
      "text/plain": [
       "2-element Vec{2, Float64}:\n",
       "  0.11547005383792514\n",
       " -0.5154700538379252"
      ]
     },
     "metadata": {},
     "output_type": "display_data"
    },
    {
     "data": {
      "text/plain": [
       "1.0"
      ]
     },
     "metadata": {},
     "output_type": "display_data"
    },
    {
     "data": {
      "text/plain": [
       "2-element Vec{2, Float64}:\n",
       " -0.11547005383792514\n",
       " -0.28452994616207483"
      ]
     },
     "metadata": {},
     "output_type": "display_data"
    },
    {
     "data": {
      "text/plain": [
       "1.0"
      ]
     },
     "metadata": {},
     "output_type": "display_data"
    },
    {
     "data": {
      "text/plain": [
       "2-element Vec{2, Float64}:\n",
       "  0.11547005383792514\n",
       " -0.28452994616207483"
      ]
     },
     "metadata": {},
     "output_type": "display_data"
    },
    {
     "data": {
      "text/plain": [
       "1.0"
      ]
     },
     "metadata": {},
     "output_type": "display_data"
    },
    {
     "data": {
      "text/plain": [
       "2-element Vec{2, Float64}:\n",
       "  0.28452994616207483\n",
       " -0.5154700538379253"
      ]
     },
     "metadata": {},
     "output_type": "display_data"
    },
    {
     "data": {
      "text/plain": [
       "1.0"
      ]
     },
     "metadata": {},
     "output_type": "display_data"
    },
    {
     "data": {
      "text/plain": [
       "2-element Vec{2, Float64}:\n",
       "  0.5154700538379252\n",
       " -0.5154700538379252"
      ]
     },
     "metadata": {},
     "output_type": "display_data"
    },
    {
     "data": {
      "text/plain": [
       "1.0"
      ]
     },
     "metadata": {},
     "output_type": "display_data"
    },
    {
     "data": {
      "text/plain": [
       "2-element Vec{2, Float64}:\n",
       "  0.28452994616207483\n",
       " -0.28452994616207483"
      ]
     },
     "metadata": {},
     "output_type": "display_data"
    },
    {
     "data": {
      "text/plain": [
       "1.0"
      ]
     },
     "metadata": {},
     "output_type": "display_data"
    },
    {
     "data": {
      "text/plain": [
       "2-element Vec{2, Float64}:\n",
       "  0.5154700538379252\n",
       " -0.28452994616207483"
      ]
     },
     "metadata": {},
     "output_type": "display_data"
    },
    {
     "data": {
      "text/plain": [
       "1.0"
      ]
     },
     "metadata": {},
     "output_type": "display_data"
    },
    {
     "data": {
      "text/plain": [
       "2-element Vec{2, Float64}:\n",
       "  0.684529946162075\n",
       " -0.5154700538379253"
      ]
     },
     "metadata": {},
     "output_type": "display_data"
    },
    {
     "data": {
      "text/plain": [
       "1.0"
      ]
     },
     "metadata": {},
     "output_type": "display_data"
    },
    {
     "data": {
      "text/plain": [
       "2-element Vec{2, Float64}:\n",
       "  0.9154700538379252\n",
       " -0.5154700538379252"
      ]
     },
     "metadata": {},
     "output_type": "display_data"
    },
    {
     "data": {
      "text/plain": [
       "1.0"
      ]
     },
     "metadata": {},
     "output_type": "display_data"
    },
    {
     "data": {
      "text/plain": [
       "2-element Vec{2, Float64}:\n",
       "  0.684529946162075\n",
       " -0.28452994616207483"
      ]
     },
     "metadata": {},
     "output_type": "display_data"
    },
    {
     "data": {
      "text/plain": [
       "1.0"
      ]
     },
     "metadata": {},
     "output_type": "display_data"
    },
    {
     "data": {
      "text/plain": [
       "2-element Vec{2, Float64}:\n",
       "  0.9154700538379251\n",
       " -0.28452994616207483"
      ]
     },
     "metadata": {},
     "output_type": "display_data"
    },
    {
     "data": {
      "text/plain": [
       "1.0"
      ]
     },
     "metadata": {},
     "output_type": "display_data"
    },
    {
     "data": {
      "text/plain": [
       "2-element Vec{2, Float64}:\n",
       " -0.9154700538379252\n",
       " -0.11547005383792514"
      ]
     },
     "metadata": {},
     "output_type": "display_data"
    },
    {
     "data": {
      "text/plain": [
       "1.0"
      ]
     },
     "metadata": {},
     "output_type": "display_data"
    },
    {
     "data": {
      "text/plain": [
       "2-element Vec{2, Float64}:\n",
       " -0.684529946162075\n",
       " -0.11547005383792514"
      ]
     },
     "metadata": {},
     "output_type": "display_data"
    },
    {
     "data": {
      "text/plain": [
       "1.0"
      ]
     },
     "metadata": {},
     "output_type": "display_data"
    },
    {
     "data": {
      "text/plain": [
       "2-element Vec{2, Float64}:\n",
       " -0.9154700538379252\n",
       "  0.11547005383792514"
      ]
     },
     "metadata": {},
     "output_type": "display_data"
    },
    {
     "data": {
      "text/plain": [
       "1.0"
      ]
     },
     "metadata": {},
     "output_type": "display_data"
    },
    {
     "data": {
      "text/plain": [
       "2-element Vec{2, Float64}:\n",
       " -0.6845299461620751\n",
       "  0.11547005383792514"
      ]
     },
     "metadata": {},
     "output_type": "display_data"
    },
    {
     "data": {
      "text/plain": [
       "1.0"
      ]
     },
     "metadata": {},
     "output_type": "display_data"
    },
    {
     "data": {
      "text/plain": [
       "2-element Vec{2, Float64}:\n",
       " -0.5154700538379252\n",
       " -0.11547005383792514"
      ]
     },
     "metadata": {},
     "output_type": "display_data"
    },
    {
     "data": {
      "text/plain": [
       "1.0"
      ]
     },
     "metadata": {},
     "output_type": "display_data"
    },
    {
     "data": {
      "text/plain": [
       "2-element Vec{2, Float64}:\n",
       " -0.28452994616207483\n",
       " -0.11547005383792514"
      ]
     },
     "metadata": {},
     "output_type": "display_data"
    },
    {
     "data": {
      "text/plain": [
       "1.000001e6"
      ]
     },
     "metadata": {},
     "output_type": "display_data"
    },
    {
     "data": {
      "text/plain": [
       "2-element Vec{2, Float64}:\n",
       " -0.5154700538379252\n",
       "  0.11547005383792514"
      ]
     },
     "metadata": {},
     "output_type": "display_data"
    },
    {
     "data": {
      "text/plain": [
       "1.0"
      ]
     },
     "metadata": {},
     "output_type": "display_data"
    },
    {
     "data": {
      "text/plain": [
       "2-element Vec{2, Float64}:\n",
       " -0.28452994616207483\n",
       "  0.11547005383792514"
      ]
     },
     "metadata": {},
     "output_type": "display_data"
    },
    {
     "data": {
      "text/plain": [
       "1.000001e6"
      ]
     },
     "metadata": {},
     "output_type": "display_data"
    },
    {
     "data": {
      "text/plain": [
       "2-element Vec{2, Float64}:\n",
       " -0.11547005383792514\n",
       " -0.11547005383792514"
      ]
     },
     "metadata": {},
     "output_type": "display_data"
    },
    {
     "data": {
      "text/plain": [
       "1.000001e6"
      ]
     },
     "metadata": {},
     "output_type": "display_data"
    },
    {
     "data": {
      "text/plain": [
       "2-element Vec{2, Float64}:\n",
       "  0.11547005383792514\n",
       " -0.11547005383792514"
      ]
     },
     "metadata": {},
     "output_type": "display_data"
    },
    {
     "data": {
      "text/plain": [
       "1.000001e6"
      ]
     },
     "metadata": {},
     "output_type": "display_data"
    },
    {
     "data": {
      "text/plain": [
       "2-element Vec{2, Float64}:\n",
       " -0.11547005383792514\n",
       "  0.11547005383792514"
      ]
     },
     "metadata": {},
     "output_type": "display_data"
    },
    {
     "data": {
      "text/plain": [
       "1.000001e6"
      ]
     },
     "metadata": {},
     "output_type": "display_data"
    },
    {
     "data": {
      "text/plain": [
       "2-element Vec{2, Float64}:\n",
       " 0.11547005383792514\n",
       " 0.11547005383792514"
      ]
     },
     "metadata": {},
     "output_type": "display_data"
    },
    {
     "data": {
      "text/plain": [
       "1.000001e6"
      ]
     },
     "metadata": {},
     "output_type": "display_data"
    },
    {
     "data": {
      "text/plain": [
       "2-element Vec{2, Float64}:\n",
       "  0.28452994616207483\n",
       " -0.11547005383792514"
      ]
     },
     "metadata": {},
     "output_type": "display_data"
    },
    {
     "data": {
      "text/plain": [
       "1.000001e6"
      ]
     },
     "metadata": {},
     "output_type": "display_data"
    },
    {
     "data": {
      "text/plain": [
       "2-element Vec{2, Float64}:\n",
       "  0.5154700538379252\n",
       " -0.11547005383792514"
      ]
     },
     "metadata": {},
     "output_type": "display_data"
    },
    {
     "data": {
      "text/plain": [
       "1.0"
      ]
     },
     "metadata": {},
     "output_type": "display_data"
    },
    {
     "data": {
      "text/plain": [
       "2-element Vec{2, Float64}:\n",
       " 0.28452994616207483\n",
       " 0.11547005383792514"
      ]
     },
     "metadata": {},
     "output_type": "display_data"
    },
    {
     "data": {
      "text/plain": [
       "1.000001e6"
      ]
     },
     "metadata": {},
     "output_type": "display_data"
    },
    {
     "data": {
      "text/plain": [
       "2-element Vec{2, Float64}:\n",
       " 0.5154700538379252\n",
       " 0.11547005383792514"
      ]
     },
     "metadata": {},
     "output_type": "display_data"
    },
    {
     "data": {
      "text/plain": [
       "1.0"
      ]
     },
     "metadata": {},
     "output_type": "display_data"
    },
    {
     "data": {
      "text/plain": [
       "2-element Vec{2, Float64}:\n",
       "  0.684529946162075\n",
       " -0.11547005383792514"
      ]
     },
     "metadata": {},
     "output_type": "display_data"
    },
    {
     "data": {
      "text/plain": [
       "1.0"
      ]
     },
     "metadata": {},
     "output_type": "display_data"
    },
    {
     "data": {
      "text/plain": [
       "2-element Vec{2, Float64}:\n",
       "  0.9154700538379252\n",
       " -0.11547005383792514"
      ]
     },
     "metadata": {},
     "output_type": "display_data"
    },
    {
     "data": {
      "text/plain": [
       "1.0"
      ]
     },
     "metadata": {},
     "output_type": "display_data"
    },
    {
     "data": {
      "text/plain": [
       "2-element Vec{2, Float64}:\n",
       " 0.684529946162075\n",
       " 0.11547005383792514"
      ]
     },
     "metadata": {},
     "output_type": "display_data"
    },
    {
     "data": {
      "text/plain": [
       "1.0"
      ]
     },
     "metadata": {},
     "output_type": "display_data"
    },
    {
     "data": {
      "text/plain": [
       "2-element Vec{2, Float64}:\n",
       " 0.9154700538379251\n",
       " 0.11547005383792514"
      ]
     },
     "metadata": {},
     "output_type": "display_data"
    },
    {
     "data": {
      "text/plain": [
       "1.0"
      ]
     },
     "metadata": {},
     "output_type": "display_data"
    },
    {
     "data": {
      "text/plain": [
       "2-element Vec{2, Float64}:\n",
       " -0.9154700538379252\n",
       "  0.28452994616207483"
      ]
     },
     "metadata": {},
     "output_type": "display_data"
    },
    {
     "data": {
      "text/plain": [
       "1.0"
      ]
     },
     "metadata": {},
     "output_type": "display_data"
    },
    {
     "data": {
      "text/plain": [
       "2-element Vec{2, Float64}:\n",
       " -0.684529946162075\n",
       "  0.28452994616207483"
      ]
     },
     "metadata": {},
     "output_type": "display_data"
    },
    {
     "data": {
      "text/plain": [
       "1.0"
      ]
     },
     "metadata": {},
     "output_type": "display_data"
    },
    {
     "data": {
      "text/plain": [
       "2-element Vec{2, Float64}:\n",
       " -0.9154700538379252\n",
       "  0.5154700538379252"
      ]
     },
     "metadata": {},
     "output_type": "display_data"
    },
    {
     "data": {
      "text/plain": [
       "1.0"
      ]
     },
     "metadata": {},
     "output_type": "display_data"
    },
    {
     "data": {
      "text/plain": [
       "2-element Vec{2, Float64}:\n",
       " -0.6845299461620751\n",
       "  0.5154700538379252"
      ]
     },
     "metadata": {},
     "output_type": "display_data"
    },
    {
     "data": {
      "text/plain": [
       "1.0"
      ]
     },
     "metadata": {},
     "output_type": "display_data"
    },
    {
     "data": {
      "text/plain": [
       "2-element Vec{2, Float64}:\n",
       " -0.5154700538379252\n",
       "  0.28452994616207483"
      ]
     },
     "metadata": {},
     "output_type": "display_data"
    },
    {
     "data": {
      "text/plain": [
       "1.0"
      ]
     },
     "metadata": {},
     "output_type": "display_data"
    },
    {
     "data": {
      "text/plain": [
       "2-element Vec{2, Float64}:\n",
       " -0.28452994616207483\n",
       "  0.28452994616207483"
      ]
     },
     "metadata": {},
     "output_type": "display_data"
    },
    {
     "data": {
      "text/plain": [
       "1.0"
      ]
     },
     "metadata": {},
     "output_type": "display_data"
    },
    {
     "data": {
      "text/plain": [
       "2-element Vec{2, Float64}:\n",
       " -0.5154700538379252\n",
       "  0.5154700538379252"
      ]
     },
     "metadata": {},
     "output_type": "display_data"
    },
    {
     "data": {
      "text/plain": [
       "1.0"
      ]
     },
     "metadata": {},
     "output_type": "display_data"
    },
    {
     "data": {
      "text/plain": [
       "2-element Vec{2, Float64}:\n",
       " -0.28452994616207483\n",
       "  0.5154700538379252"
      ]
     },
     "metadata": {},
     "output_type": "display_data"
    },
    {
     "data": {
      "text/plain": [
       "1.0"
      ]
     },
     "metadata": {},
     "output_type": "display_data"
    },
    {
     "data": {
      "text/plain": [
       "2-element Vec{2, Float64}:\n",
       " -0.11547005383792514\n",
       "  0.28452994616207483"
      ]
     },
     "metadata": {},
     "output_type": "display_data"
    },
    {
     "data": {
      "text/plain": [
       "1.0"
      ]
     },
     "metadata": {},
     "output_type": "display_data"
    },
    {
     "data": {
      "text/plain": [
       "2-element Vec{2, Float64}:\n",
       " 0.11547005383792514\n",
       " 0.28452994616207483"
      ]
     },
     "metadata": {},
     "output_type": "display_data"
    },
    {
     "data": {
      "text/plain": [
       "1.0"
      ]
     },
     "metadata": {},
     "output_type": "display_data"
    },
    {
     "data": {
      "text/plain": [
       "2-element Vec{2, Float64}:\n",
       " -0.11547005383792514\n",
       "  0.5154700538379252"
      ]
     },
     "metadata": {},
     "output_type": "display_data"
    },
    {
     "data": {
      "text/plain": [
       "1.0"
      ]
     },
     "metadata": {},
     "output_type": "display_data"
    },
    {
     "data": {
      "text/plain": [
       "2-element Vec{2, Float64}:\n",
       " 0.11547005383792514\n",
       " 0.5154700538379252"
      ]
     },
     "metadata": {},
     "output_type": "display_data"
    },
    {
     "data": {
      "text/plain": [
       "1.0"
      ]
     },
     "metadata": {},
     "output_type": "display_data"
    },
    {
     "data": {
      "text/plain": [
       "2-element Vec{2, Float64}:\n",
       " 0.28452994616207483\n",
       " 0.28452994616207483"
      ]
     },
     "metadata": {},
     "output_type": "display_data"
    },
    {
     "data": {
      "text/plain": [
       "1.0"
      ]
     },
     "metadata": {},
     "output_type": "display_data"
    },
    {
     "data": {
      "text/plain": [
       "2-element Vec{2, Float64}:\n",
       " 0.5154700538379252\n",
       " 0.28452994616207483"
      ]
     },
     "metadata": {},
     "output_type": "display_data"
    },
    {
     "data": {
      "text/plain": [
       "1.0"
      ]
     },
     "metadata": {},
     "output_type": "display_data"
    },
    {
     "data": {
      "text/plain": [
       "2-element Vec{2, Float64}:\n",
       " 0.28452994616207483\n",
       " 0.5154700538379252"
      ]
     },
     "metadata": {},
     "output_type": "display_data"
    },
    {
     "data": {
      "text/plain": [
       "1.0"
      ]
     },
     "metadata": {},
     "output_type": "display_data"
    },
    {
     "data": {
      "text/plain": [
       "2-element Vec{2, Float64}:\n",
       " 0.5154700538379252\n",
       " 0.5154700538379252"
      ]
     },
     "metadata": {},
     "output_type": "display_data"
    },
    {
     "data": {
      "text/plain": [
       "1.0"
      ]
     },
     "metadata": {},
     "output_type": "display_data"
    },
    {
     "data": {
      "text/plain": [
       "2-element Vec{2, Float64}:\n",
       " 0.684529946162075\n",
       " 0.28452994616207483"
      ]
     },
     "metadata": {},
     "output_type": "display_data"
    },
    {
     "data": {
      "text/plain": [
       "1.0"
      ]
     },
     "metadata": {},
     "output_type": "display_data"
    },
    {
     "data": {
      "text/plain": [
       "2-element Vec{2, Float64}:\n",
       " 0.9154700538379252\n",
       " 0.28452994616207483"
      ]
     },
     "metadata": {},
     "output_type": "display_data"
    },
    {
     "data": {
      "text/plain": [
       "1.0"
      ]
     },
     "metadata": {},
     "output_type": "display_data"
    },
    {
     "data": {
      "text/plain": [
       "2-element Vec{2, Float64}:\n",
       " 0.684529946162075\n",
       " 0.5154700538379252"
      ]
     },
     "metadata": {},
     "output_type": "display_data"
    },
    {
     "data": {
      "text/plain": [
       "1.0"
      ]
     },
     "metadata": {},
     "output_type": "display_data"
    },
    {
     "data": {
      "text/plain": [
       "2-element Vec{2, Float64}:\n",
       " 0.9154700538379251\n",
       " 0.5154700538379252"
      ]
     },
     "metadata": {},
     "output_type": "display_data"
    },
    {
     "data": {
      "text/plain": [
       "1.0"
      ]
     },
     "metadata": {},
     "output_type": "display_data"
    },
    {
     "data": {
      "text/plain": [
       "2-element Vec{2, Float64}:\n",
       " -0.9154700538379252\n",
       "  0.6845299461620751"
      ]
     },
     "metadata": {},
     "output_type": "display_data"
    },
    {
     "data": {
      "text/plain": [
       "1.0"
      ]
     },
     "metadata": {},
     "output_type": "display_data"
    },
    {
     "data": {
      "text/plain": [
       "2-element Vec{2, Float64}:\n",
       " -0.684529946162075\n",
       "  0.684529946162075"
      ]
     },
     "metadata": {},
     "output_type": "display_data"
    },
    {
     "data": {
      "text/plain": [
       "1.0"
      ]
     },
     "metadata": {},
     "output_type": "display_data"
    },
    {
     "data": {
      "text/plain": [
       "2-element Vec{2, Float64}:\n",
       " -0.9154700538379252\n",
       "  0.9154700538379252"
      ]
     },
     "metadata": {},
     "output_type": "display_data"
    },
    {
     "data": {
      "text/plain": [
       "1.0"
      ]
     },
     "metadata": {},
     "output_type": "display_data"
    },
    {
     "data": {
      "text/plain": [
       "2-element Vec{2, Float64}:\n",
       " -0.6845299461620751\n",
       "  0.9154700538379252"
      ]
     },
     "metadata": {},
     "output_type": "display_data"
    },
    {
     "data": {
      "text/plain": [
       "1.0"
      ]
     },
     "metadata": {},
     "output_type": "display_data"
    },
    {
     "data": {
      "text/plain": [
       "2-element Vec{2, Float64}:\n",
       " -0.5154700538379252\n",
       "  0.6845299461620751"
      ]
     },
     "metadata": {},
     "output_type": "display_data"
    },
    {
     "data": {
      "text/plain": [
       "1.0"
      ]
     },
     "metadata": {},
     "output_type": "display_data"
    },
    {
     "data": {
      "text/plain": [
       "2-element Vec{2, Float64}:\n",
       " -0.28452994616207483\n",
       "  0.684529946162075"
      ]
     },
     "metadata": {},
     "output_type": "display_data"
    },
    {
     "data": {
      "text/plain": [
       "1.0"
      ]
     },
     "metadata": {},
     "output_type": "display_data"
    },
    {
     "data": {
      "text/plain": [
       "2-element Vec{2, Float64}:\n",
       " -0.5154700538379252\n",
       "  0.9154700538379252"
      ]
     },
     "metadata": {},
     "output_type": "display_data"
    },
    {
     "data": {
      "text/plain": [
       "1.0"
      ]
     },
     "metadata": {},
     "output_type": "display_data"
    },
    {
     "data": {
      "text/plain": [
       "2-element Vec{2, Float64}:\n",
       " -0.28452994616207483\n",
       "  0.9154700538379252"
      ]
     },
     "metadata": {},
     "output_type": "display_data"
    },
    {
     "data": {
      "text/plain": [
       "1.0"
      ]
     },
     "metadata": {},
     "output_type": "display_data"
    },
    {
     "data": {
      "text/plain": [
       "2-element Vec{2, Float64}:\n",
       " -0.11547005383792514\n",
       "  0.6845299461620751"
      ]
     },
     "metadata": {},
     "output_type": "display_data"
    },
    {
     "data": {
      "text/plain": [
       "1.0"
      ]
     },
     "metadata": {},
     "output_type": "display_data"
    },
    {
     "data": {
      "text/plain": [
       "2-element Vec{2, Float64}:\n",
       " 0.11547005383792514\n",
       " 0.684529946162075"
      ]
     },
     "metadata": {},
     "output_type": "display_data"
    },
    {
     "data": {
      "text/plain": [
       "1.0"
      ]
     },
     "metadata": {},
     "output_type": "display_data"
    },
    {
     "data": {
      "text/plain": [
       "2-element Vec{2, Float64}:\n",
       " -0.11547005383792514\n",
       "  0.9154700538379252"
      ]
     },
     "metadata": {},
     "output_type": "display_data"
    },
    {
     "data": {
      "text/plain": [
       "1.0"
      ]
     },
     "metadata": {},
     "output_type": "display_data"
    },
    {
     "data": {
      "text/plain": [
       "2-element Vec{2, Float64}:\n",
       " 0.11547005383792514\n",
       " 0.9154700538379252"
      ]
     },
     "metadata": {},
     "output_type": "display_data"
    },
    {
     "data": {
      "text/plain": [
       "1.0"
      ]
     },
     "metadata": {},
     "output_type": "display_data"
    },
    {
     "data": {
      "text/plain": [
       "2-element Vec{2, Float64}:\n",
       " 0.28452994616207483\n",
       " 0.6845299461620751"
      ]
     },
     "metadata": {},
     "output_type": "display_data"
    },
    {
     "data": {
      "text/plain": [
       "1.0"
      ]
     },
     "metadata": {},
     "output_type": "display_data"
    },
    {
     "data": {
      "text/plain": [
       "2-element Vec{2, Float64}:\n",
       " 0.5154700538379252\n",
       " 0.684529946162075"
      ]
     },
     "metadata": {},
     "output_type": "display_data"
    },
    {
     "data": {
      "text/plain": [
       "1.0"
      ]
     },
     "metadata": {},
     "output_type": "display_data"
    },
    {
     "data": {
      "text/plain": [
       "2-element Vec{2, Float64}:\n",
       " 0.28452994616207483\n",
       " 0.9154700538379252"
      ]
     },
     "metadata": {},
     "output_type": "display_data"
    },
    {
     "data": {
      "text/plain": [
       "1.0"
      ]
     },
     "metadata": {},
     "output_type": "display_data"
    },
    {
     "data": {
      "text/plain": [
       "2-element Vec{2, Float64}:\n",
       " 0.5154700538379252\n",
       " 0.9154700538379252"
      ]
     },
     "metadata": {},
     "output_type": "display_data"
    },
    {
     "data": {
      "text/plain": [
       "1.0"
      ]
     },
     "metadata": {},
     "output_type": "display_data"
    },
    {
     "data": {
      "text/plain": [
       "2-element Vec{2, Float64}:\n",
       " 0.684529946162075\n",
       " 0.6845299461620751"
      ]
     },
     "metadata": {},
     "output_type": "display_data"
    },
    {
     "data": {
      "text/plain": [
       "1.0"
      ]
     },
     "metadata": {},
     "output_type": "display_data"
    },
    {
     "data": {
      "text/plain": [
       "2-element Vec{2, Float64}:\n",
       " 0.9154700538379252\n",
       " 0.684529946162075"
      ]
     },
     "metadata": {},
     "output_type": "display_data"
    },
    {
     "data": {
      "text/plain": [
       "1.0"
      ]
     },
     "metadata": {},
     "output_type": "display_data"
    },
    {
     "data": {
      "text/plain": [
       "2-element Vec{2, Float64}:\n",
       " 0.684529946162075\n",
       " 0.9154700538379252"
      ]
     },
     "metadata": {},
     "output_type": "display_data"
    },
    {
     "data": {
      "text/plain": [
       "1.0"
      ]
     },
     "metadata": {},
     "output_type": "display_data"
    },
    {
     "data": {
      "text/plain": [
       "2-element Vec{2, Float64}:\n",
       " 0.9154700538379251\n",
       " 0.9154700538379252"
      ]
     },
     "metadata": {},
     "output_type": "display_data"
    },
    {
     "data": {
      "text/plain": [
       "1.0"
      ]
     },
     "metadata": {},
     "output_type": "display_data"
    }
   ],
   "source": [
    "h_gp = compute_hfield(cellvalues, dh, u);\n",
    "b_gp = compute_bfield(cellvalues, dh, u);\n",
    "#q_gp"
   ]
  },
  {
   "cell_type": "code",
   "execution_count": 162,
   "id": "47e6a5b1",
   "metadata": {},
   "outputs": [
    {
     "data": {
      "text/plain": [
       "25-element Vector{Vec{2, Float64}}:\n",
       " [-1.3169835633909486, -0.3169835633909486]\n",
       " [-0.7886783824155286, -1.2886607095457259]\n",
       " [-0.7886761083870458, -0.28867380436988366]\n",
       " [-0.7886783824155287, 0.7113193135673105]\n",
       " [-1.3169835633909481, 1.1829987637392503]\n",
       " [-2.4999848826306614, -2.5555004636856893e-6]\n",
       " [-1.2892116028171218e-5, -9.616021420192745e-6]\n",
       " [-4.450506620767515e-6, -2.151868433915737e-7]\n",
       " [-1.2892116028171227e-5, 2.8494511582411787e-6]\n",
       " [-2.499984882630662, 9.537257569250742e-6]\n",
       " [-2.499994419888231, -0.0]\n",
       " [-3.648809153853049e-6, -8.470329472543003e-22]\n",
       " [-3.8626052315013614e-6, 6.352747104407253e-22]\n",
       " [-3.648809153853048e-6, 1.6940658945086007e-21]\n",
       " [-2.4999944198882313, 3.361966941276516e-16]\n",
       " [-2.4999918643877663, 2.5555004636856893e-6]\n",
       " [-6.125545766219649e-6, 9.61602142019275e-6]\n",
       " [-4.020132933984363e-6, 2.1518684339157602e-7]\n",
       " [-6.125545766219648e-6, -2.8494511582411796e-6]\n",
       " [-2.4999918643877668, -9.537257568615064e-6]\n",
       " [-2.1829987637392496, 0.31698356339094835]\n",
       " [-0.21133698643711196, 1.288660709545726]\n",
       " [-0.21132849964727715, 0.28867380436988366]\n",
       " [-0.21133698643711202, -0.7113193135673106]\n",
       " [-2.18299876373925, -1.18299876373925]"
      ]
     },
     "execution_count": 162,
     "metadata": {},
     "output_type": "execute_result"
    }
   ],
   "source": [
    "[h_gp[i][1] for i=1:25]"
   ]
  },
  {
   "cell_type": "code",
   "execution_count": 164,
   "id": "0d20ab40",
   "metadata": {},
   "outputs": [
    {
     "data": {
      "text/plain": [
       "25-element Vector{Vec{2, Float64}}:\n",
       " [0.0, 0.0]\n",
       " [0.0, 0.0]\n",
       " [0.0, 0.0]\n",
       " [0.0, 0.0]\n",
       " [0.0, 0.0]\n",
       " [0.0, 0.0]\n",
       " [0.0, 0.0]\n",
       " [0.0, 0.0]\n",
       " [0.0, 0.0]\n",
       " [0.0, 0.0]\n",
       " [0.0, 0.0]\n",
       " [0.0, 0.0]\n",
       " [3.8626052315013615, -6.352747104407253e-16]\n",
       " [3.6488091538530476, -1.6940658945086007e-15]\n",
       " [0.0, 0.0]\n",
       " [0.0, 0.0]\n",
       " [0.0, 0.0]\n",
       " [0.0, 0.0]\n",
       " [0.0, 0.0]\n",
       " [0.0, 0.0]\n",
       " [0.0, 0.0]\n",
       " [0.0, 0.0]\n",
       " [0.0, 0.0]\n",
       " [0.0, 0.0]\n",
       " [0.0, 0.0]"
      ]
     },
     "execution_count": 164,
     "metadata": {},
     "output_type": "execute_result"
    }
   ],
   "source": [
    "[h_gp[i][1] - b_gp[i][1] for i=1:25]"
   ]
  },
  {
   "cell_type": "code",
   "execution_count": 165,
   "id": "28cc61ba",
   "metadata": {},
   "outputs": [],
   "source": [
    "projector = L2Projector(ip, grid);\n",
    "#projector "
   ]
  },
  {
   "cell_type": "code",
   "execution_count": 166,
   "id": "c3e16866",
   "metadata": {},
   "outputs": [],
   "source": [
    "#?project"
   ]
  },
  {
   "cell_type": "code",
   "execution_count": 167,
   "id": "63000e7a",
   "metadata": {},
   "outputs": [],
   "source": [
    "h_projected = project(projector, h_gp, qr; project_to_nodes=false);\n",
    "b_projected = project(projector, b_gp, qr; project_to_nodes=false);\n",
    "# q_projected"
   ]
  },
  {
   "cell_type": "code",
   "execution_count": null,
   "id": "c709f94d",
   "metadata": {},
   "outputs": [],
   "source": []
  },
  {
   "cell_type": "markdown",
   "id": "994647f8",
   "metadata": {},
   "source": [
    "### Exporting to VTK "
   ]
  },
  {
   "cell_type": "code",
   "execution_count": 168,
   "id": "4f2e0248",
   "metadata": {},
   "outputs": [
    {
     "name": "stdout",
     "output_type": "stream",
     "text": [
      "search: \u001b[0m\u001b[1mv\u001b[22m\u001b[0m\u001b[1mt\u001b[22m\u001b[0m\u001b[1mk\u001b[22m\u001b[0m\u001b[1m_\u001b[22m\u001b[0m\u001b[1mp\u001b[22m\u001b[0m\u001b[1mo\u001b[22m\u001b[0m\u001b[1mi\u001b[22m\u001b[0m\u001b[1mn\u001b[22m\u001b[0m\u001b[1mt\u001b[22m\u001b[0m\u001b[1m_\u001b[22m\u001b[0m\u001b[1md\u001b[22m\u001b[0m\u001b[1ma\u001b[22m\u001b[0m\u001b[1mt\u001b[22m\u001b[0m\u001b[1ma\u001b[22m\n",
      "\n"
     ]
    },
    {
     "data": {
      "text/latex": [
       "\\begin{verbatim}\n",
       "vtk_point_data(vtk, data::Vector{<:AbstractTensor}, name)\n",
       "\\end{verbatim}\n",
       "Write the tensor field \\texttt{data} to the vtk file. Two-dimensional tensors are padded with zeros.\n",
       "\n",
       "For second order tensors the following indexing ordering is used: \\texttt{[11, 22, 33, 23, 13, 12, 32, 31, 21]}. This is the default Voigt order in Tensors.jl.\n",
       "\n"
      ],
      "text/markdown": [
       "```\n",
       "vtk_point_data(vtk, data::Vector{<:AbstractTensor}, name)\n",
       "```\n",
       "\n",
       "Write the tensor field `data` to the vtk file. Two-dimensional tensors are padded with zeros.\n",
       "\n",
       "For second order tensors the following indexing ordering is used: `[11, 22, 33, 23, 13, 12, 32, 31, 21]`. This is the default Voigt order in Tensors.jl.\n"
      ],
      "text/plain": [
       "  \u001b[38;5;81mvtk_point_data\u001b[0m(\u001b[0m\u001b[39mvtk\u001b[0m\u001b[39m,\u001b[0m \u001b[0m\u001b[39mdata\u001b[0m\u001b[38;5;197m::\u001b[0m\u001b[39mVector\u001b[0m\u001b[39m{\u001b[0m\u001b[38;5;197m<:\u001b[0m\u001b[39mAbstractTensor\u001b[0m\u001b[39m}\u001b[0m\u001b[39m,\u001b[0m \u001b[0m\u001b[39mname\u001b[0m\u001b[39m)\u001b[0m\n",
       "\n",
       "\n",
       "  Write the tensor field \u001b[36mdata\u001b[39m to the vtk file. Two-dimensional tensors are\n",
       "  padded with zeros.\n",
       "\n",
       "  For second order tensors the following indexing ordering is used: \u001b[36m[11, 22,\n",
       "  33, 23, 13, 12, 32, 31, 21]\u001b[39m. This is the default Voigt order in Tensors.jl."
      ]
     },
     "execution_count": 168,
     "metadata": {},
     "output_type": "execute_result"
    }
   ],
   "source": [
    "?vtk_point_data"
   ]
  },
  {
   "cell_type": "code",
   "execution_count": 169,
   "id": "abb978bc",
   "metadata": {},
   "outputs": [
    {
     "data": {
      "text/plain": [
       "1-element Vector{String}:\n",
       " \"magnetic_plate.vtu\""
      ]
     },
     "execution_count": 169,
     "metadata": {},
     "output_type": "execute_result"
    }
   ],
   "source": [
    "vtk_grid(\"magnetic_plate\", dh) do vtk\n",
    "    vtk_point_data(vtk, dh, u)\n",
    "    vtk_point_data(vtk, projector, h_projected, \"H\")\n",
    "    vtk_point_data(vtk, projector, b_projected, \"B\")\n",
    "end"
   ]
  },
  {
   "cell_type": "code",
   "execution_count": null,
   "id": "358941bb",
   "metadata": {},
   "outputs": [],
   "source": []
  },
  {
   "cell_type": "code",
   "execution_count": null,
   "id": "3fb31bf0",
   "metadata": {},
   "outputs": [],
   "source": []
  }
 ],
 "metadata": {
  "kernelspec": {
   "display_name": "Julia 1.8.1",
   "language": "julia",
   "name": "julia-1.8"
  },
  "language_info": {
   "file_extension": ".jl",
   "mimetype": "application/julia",
   "name": "julia",
   "version": "1.8.1"
  }
 },
 "nbformat": 4,
 "nbformat_minor": 5
}
