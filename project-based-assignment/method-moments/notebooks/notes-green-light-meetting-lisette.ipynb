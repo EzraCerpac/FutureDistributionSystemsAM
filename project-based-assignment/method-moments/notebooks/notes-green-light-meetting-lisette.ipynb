{
 "cells": [
  {
   "cell_type": "markdown",
   "id": "e5e0a3b4",
   "metadata": {},
   "source": [
    "# Green Light Meeting after May 29th \n",
    "Ideas collected after green light meeting on May 29th. "
   ]
  },
  {
   "cell_type": "code",
   "execution_count": 1,
   "id": "fa74124f",
   "metadata": {},
   "outputs": [],
   "source": [
    "using ForwardDiff\n",
    "using QuadGK\n",
    "using HCubature \n",
    "using StaticArrays \n",
    "using LinearAlgebra\n",
    "using BenchmarkTools\n",
    "using Plots "
   ]
  },
  {
   "cell_type": "markdown",
   "id": "6e7b07f2",
   "metadata": {},
   "source": [
    "## Section 1: hcubature for 3D integrals result in NaN  \n",
    "Q: Galerkin using uniform weighting functions (cfr. Morandi-2010) requires three-dimensional integrals dx dy dz. A NaN is encountered when evaluating these integrals using the hcubature function. The NaN error message disappears when integrating a small quantity away from the lower and upper bounds. \n",
    "\n",
    "Note that: \n",
    "1. Morandi-2010 computes these integrals using a quadrature rule with predefined quadrature points and weights. The hcubature function instead performs an adaptive integral computation. This in part explains the confusion; \n",
    "2. The NaN error message is related to the 2D/3D nature of the integral. In merely 1D, hcubature does much better in handling the singularity of the integral;\n",
    "\n",
    "Dixit Steven G. Johnson (stevengj) in [this Discourse thread](https://discourse.julialang.org/t/how-do-i-choose-between-quadgk-and-cubature-when-i-do-singular-integral-of-a-complex-valued-function/94198) : That being said, if you are doing lots of near-singular integrals like this, especially in higher dimensions, you should consider using a semi-analytical singularity-subtraction procedure to handle the near-singular part analytically and only use quadrature for the rest. This is a common procedure in integral-equation methods, for example, where the integrands often have integrable singularities. \n",
    "\n",
    "Below the same error message is reproced on a small example. "
   ]
  },
  {
   "cell_type": "code",
   "execution_count": null,
   "id": "c5c80061",
   "metadata": {},
   "outputs": [],
   "source": []
  },
  {
   "cell_type": "code",
   "execution_count": null,
   "id": "375b722b",
   "metadata": {},
   "outputs": [],
   "source": []
  },
  {
   "cell_type": "code",
   "execution_count": null,
   "id": "6c2d7716",
   "metadata": {},
   "outputs": [],
   "source": []
  },
  {
   "cell_type": "code",
   "execution_count": 2,
   "id": "9755d40a",
   "metadata": {},
   "outputs": [
    {
     "data": {
      "text/plain": [
       "(21.988908597000837, 0.12438925065792539)"
      ]
     },
     "execution_count": 2,
     "metadata": {},
     "output_type": "execute_result"
    }
   ],
   "source": [
    "hcubature(x -> log(1/abs((x[1]-.5))^13), (0,), (1,))"
   ]
  },
  {
   "cell_type": "code",
   "execution_count": 3,
   "id": "691e0c0d",
   "metadata": {},
   "outputs": [
    {
     "data": {
      "text/plain": [
       "(43.80483843339491, 0.8177138447179466)"
      ]
     },
     "execution_count": 3,
     "metadata": {},
     "output_type": "execute_result"
    }
   ],
   "source": [
    "hcubature(x -> log(1/abs((x[1]-.5))^13), (0,0), (1,2)) "
   ]
  },
  {
   "cell_type": "markdown",
   "id": "dcf2c7e1",
   "metadata": {},
   "source": [
    "###  Section 1.1: The dimension of the integration matters "
   ]
  },
  {
   "cell_type": "code",
   "execution_count": 5,
   "id": "13a6e06c",
   "metadata": {},
   "outputs": [
    {
     "data": {
      "text/plain": [
       "(Inf, NaN)"
      ]
     },
     "execution_count": 5,
     "metadata": {},
     "output_type": "execute_result"
    }
   ],
   "source": [
    "# assuming that destination location is the origin (0,0,0)\n",
    "hcubature(x -> x[1]/norm(x)^3, (0,0), (1,1))"
   ]
  },
  {
   "cell_type": "code",
   "execution_count": 6,
   "id": "f7b84863",
   "metadata": {},
   "outputs": [
    {
     "data": {
      "text/plain": [
       "(0.9693880526621552, 1.4444861385160079e-8)"
      ]
     },
     "execution_count": 6,
     "metadata": {},
     "output_type": "execute_result"
    }
   ],
   "source": [
    "# assuming that destination location is the origin (0,0,0)\n",
    "hcubature(x -> x[1]/norm(x)^3, (0,0,0), (1,1,1)) "
   ]
  },
  {
   "cell_type": "code",
   "execution_count": 7,
   "id": "1182f468",
   "metadata": {},
   "outputs": [
    {
     "data": {
      "text/plain": [
       "(Inf, NaN)"
      ]
     },
     "execution_count": 7,
     "metadata": {},
     "output_type": "execute_result"
    }
   ],
   "source": [
    "# taking the derivative of the previous case \n",
    "hcubature(x -> 1/norm(x)^3, (0,0,0), (1,1,1)) "
   ]
  },
  {
   "cell_type": "markdown",
   "id": "05f252dc",
   "metadata": {},
   "source": [
    "## Section 2: Transform Integrals to Polar Coordinates \n",
    "How to handle the phi coordinate? Semi-analytical approach. "
   ]
  },
  {
   "cell_type": "code",
   "execution_count": null,
   "id": "0120d9f4",
   "metadata": {},
   "outputs": [],
   "source": []
  },
  {
   "cell_type": "code",
   "execution_count": null,
   "id": "571e6874",
   "metadata": {},
   "outputs": [],
   "source": []
  }
 ],
 "metadata": {
  "kernelspec": {
   "display_name": "Julia 1.8.1",
   "language": "julia",
   "name": "julia-1.8"
  },
  "language_info": {
   "file_extension": ".jl",
   "mimetype": "application/julia",
   "name": "julia",
   "version": "1.8.1"
  }
 },
 "nbformat": 4,
 "nbformat_minor": 5
}
