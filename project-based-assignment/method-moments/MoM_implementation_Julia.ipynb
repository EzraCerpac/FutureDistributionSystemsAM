{
 "cells": [
  {
   "cell_type": "markdown",
   "id": "4dd16ad6-e7e3-4eba-b924-3fd9189f890d",
   "metadata": {},
   "source": [
    "# MoM implementation in Julia\n",
    "# Initiated by Lisette \n",
    "# Editted by Domenico in Attempt to Render Implementation Type-Stable "
   ]
  },
  {
   "cell_type": "markdown",
   "id": "ba97a33d",
   "metadata": {},
   "source": [
    "## Import Packages "
   ]
  },
  {
   "cell_type": "code",
   "execution_count": 3,
   "id": "07cd8532-d4ca-41f2-a72c-751b50a0049b",
   "metadata": {},
   "outputs": [],
   "source": [
    "using LinearAlgebra\n",
    "using StructArrays \n",
    "using Statistics\n",
    "using StaticArrays\n",
    "#using PhysicalConstants.CODATA2018\n",
    "using BenchmarkTools"
   ]
  },
  {
   "cell_type": "code",
   "execution_count": 4,
   "id": "8f7cd9fa",
   "metadata": {},
   "outputs": [],
   "source": [
    "# a point in 3D is a tuple of 3 coordinates \n",
    "# we here introduce static vectors that appear to be vital to reduce the number of allocations \n",
    "const Point3D = SVector{3,Float64};"
   ]
  },
  {
   "cell_type": "markdown",
   "id": "6faf0588",
   "metadata": {},
   "source": [
    "## Section 1: Introduction \n",
    "1. method of moments as in Morandi;\n",
    "2. magnetization vector assumed constant per element - shape functions are element-wise constant;\n",
    "3. collaction or point matching - test function are Dirac delta distributions; \n",
    "4. more later; "
   ]
  },
  {
   "cell_type": "markdown",
   "id": "2d0b11c7",
   "metadata": {},
   "source": [
    "## Section 2: Space for Experimentation "
   ]
  },
  {
   "cell_type": "code",
   "execution_count": 5,
   "id": "3ea7b188",
   "metadata": {},
   "outputs": [
    {
     "data": {
      "text/plain": [
       "gen_multi_box_vertices (generic function with 1 method)"
      ]
     },
     "execution_count": 5,
     "metadata": {},
     "output_type": "execute_result"
    }
   ],
   "source": [
    "# generate list of vertices \n",
    "# here we consider the list of vertices only \n",
    "# this function is intended for testing  \n",
    "function gen_multi_box_vertices(length::Float64, width::Float64, height::Float64, \n",
    "                                num_boxes_x::Int64, num_boxes_y::Int64, num_boxes_z::Int64)\n",
    "\n",
    "    # define a setv of points \n",
    "    x0=0.; y0=0.; z0=0.; x1=1.; y1=1.;z1=1.;\n",
    "    v1 = Point3D(x0,y0,z0) \n",
    "    v2 = Point3D(x1,y0,z0)\n",
    "    v3 = Point3D(x1,y1,z0) \n",
    "    v4 = Point3D(x0,y1,z0)\n",
    "    v5 = Point3D(x0,y0,z1) \n",
    "    v6 = Point3D(x1,y0,z1)\n",
    "    v7 = Point3D(x1,y1,z1) \n",
    "    v8 = Point3D(x0,y1,z1)\n",
    "    # define the total number of boxes  \n",
    "    num_boxes = num_boxes_x * num_boxes_y * num_boxes_z \n",
    "    # define the vertex type - this type contains the (x,y,z)-coordinates of the 8 vertices of block \n",
    "    vertextype   = typeof(@SVector [v1,v2,v3,v4,v5,v6,v7,v8])\n",
    "    # define num_boxes sized vectors of 8-sized SVectors of 3-sized SVectors \n",
    "    vertices_list = Vector{vertextype}(undef,num_boxes)   \n",
    "    count_boxes = 1; \n",
    "    for i in 1:num_boxes_x\n",
    "        for j in 1:num_boxes_y\n",
    "            for k in 1:num_boxes_z\n",
    "                x_start = (i - 1) * length\n",
    "                x_end = i * length\n",
    "                y_start = (j - 1) * width\n",
    "                y_end = j * width\n",
    "                z_start = (k - 1) * height\n",
    "                z_end = k * height\n",
    "\n",
    "                vertices = vertextype(\n",
    "                    Point3D(x_start, y_start, z_start),\n",
    "                    Point3D(x_end, y_start, z_start),\n",
    "                    Point3D(x_end, y_end, z_start),\n",
    "                    Point3D(x_start, y_end, z_start),\n",
    "                    Point3D(x_start, y_start, z_end),\n",
    "                    Point3D(x_end, y_start, z_end),\n",
    "                    Point3D(x_end, y_end, z_end),\n",
    "                    Point3D(x_start, y_end, z_end)\n",
    "                )   \n",
    "\n",
    "                vertices_list[count_boxes] = vertices\n",
    "                            \n",
    "                count_boxes += 1 \n",
    "                                \n",
    "            end\n",
    "        end\n",
    "    end\n",
    "\n",
    "    return vertices_list\n",
    "end"
   ]
  },
  {
   "cell_type": "code",
   "execution_count": 6,
   "id": "0c7f2d11",
   "metadata": {},
   "outputs": [
    {
     "name": "stdout",
     "output_type": "stream",
     "text": [
      "  63.866 ns (1 allocation: 1.98 KiB)\n",
      "  442.963 ns (2 allocations: 18.80 KiB)\n"
     ]
    }
   ],
   "source": [
    "length_box = 1.0; width = 1.0; height = 1.0\n",
    "num_boxes_x = 10; num_boxes_y = 1; num_boxes_z = 1\n",
    "vertices_list = gen_multi_box_vertices(length_box, width, height, num_boxes_x, num_boxes_y, num_boxes_z)\n",
    "\n",
    "length_box = 1.0; width = 1.0; height = 1.0\n",
    "num_boxes_x = 10; num_boxes_y = 1; num_boxes_z = 1\n",
    "@btime gen_multi_box_vertices(length_box, width, height, num_boxes_x, num_boxes_y, num_boxes_z)\n",
    "\n",
    "length_box = 1.0; width = 1.0; height = 1.0\n",
    "num_boxes_x = 100; num_boxes_y = 1; num_boxes_z = 1\n",
    "@btime gen_multi_box_vertices(length_box, width, height, num_boxes_x, num_boxes_y, num_boxes_z); "
   ]
  },
  {
   "cell_type": "code",
   "execution_count": 7,
   "id": "4d3b20c7",
   "metadata": {},
   "outputs": [
    {
     "data": {
      "text/plain": [
       "gen_multi_box (generic function with 1 method)"
      ]
     },
     "execution_count": 7,
     "metadata": {},
     "output_type": "execute_result"
    }
   ],
   "source": [
    "# generate list of vertices \n",
    "# here we consider the list of vertices only \n",
    "# this function is intended for testing  \n",
    "function gen_multi_box(length::Float64, width::Float64, height::Float64, \n",
    "                       num_boxes_x::Int64, num_boxes_y::Int64, num_boxes_z::Int64)\n",
    "\n",
    "    # define a setv of points \n",
    "    x0=0.; y0=0.; z0=0.; x1=1.; y1=1.;z1=1.;\n",
    "    v1 = Point3D(x0,y0,z0) \n",
    "    v2 = Point3D(x1,y0,z0)\n",
    "    v3 = Point3D(x1,y1,z0) \n",
    "    v4 = Point3D(x0,y1,z0)\n",
    "    v5 = Point3D(x0,y0,z1) \n",
    "    v6 = Point3D(x1,y0,z1)\n",
    "    v7 = Point3D(x1,y1,z1) \n",
    "    v8 = Point3D(x0,y1,z1)\n",
    "    # define the total number of boxes  \n",
    "    num_boxes = num_boxes_x * num_boxes_y * num_boxes_z \n",
    "    # define the vertex type - this type contains the (x,y,z)-coordinates of the 8 vertices of block \n",
    "    vertextype   = typeof(@SVector [v1,v2,v3,v4,v5,v6,v7,v8])\n",
    "    triangletype = typeof(@SVector [v1,v2,v3])\n",
    "    t1 = triangletype(v1,v2,v3);  t2  = triangletype(v1,v3,v4)  \n",
    "    t3 = triangletype(v5,v6,v7);  t4  = triangletype(v5,v7,v8)  \n",
    "    t5 = triangletype(v1,v2,v6);  t6  = triangletype(v1,v6,v5)  \n",
    "    t7 = triangletype(v3,v4,v8);  t8  = triangletype(v3,v8,v7)  \n",
    "    t9 = triangletype(v2,v3,v7);  t10 = triangletype(v2,v7,v6)  \n",
    "    t11 = triangletype(v1,v4,v8); t12 = triangletype(v1,v8,v5)  \n",
    "    facetype     = typeof(@SVector [t1,t2,t3,t4,t5,t6,t7,t8,t9,t10,t11,t12])\n",
    "    # define num_boxes sized vectors of 8-sized SVectors of 3-sized SVectors \n",
    "    vertices_list = Vector{vertextype}(undef,num_boxes)   \n",
    "    faces_list    = Vector{facetype}(undef,num_boxes)   \n",
    "    count_boxes = 1; \n",
    "    for i in 1:num_boxes_x\n",
    "        for j in 1:num_boxes_y\n",
    "            for k in 1:num_boxes_z\n",
    "                x_start = (i - 1) * length\n",
    "                x_end = i * length\n",
    "                y_start = (j - 1) * width\n",
    "                y_end = j * width\n",
    "                z_start = (k - 1) * height\n",
    "                z_end = k * height\n",
    "\n",
    "                vertices = vertextype(\n",
    "                    Point3D(x_start, y_start, z_start),\n",
    "                    Point3D(x_end, y_start, z_start),\n",
    "                    Point3D(x_end, y_end, z_start),\n",
    "                    Point3D(x_start, y_end, z_start),\n",
    "                    Point3D(x_start, y_start, z_end),\n",
    "                    Point3D(x_end, y_start, z_end),\n",
    "                    Point3D(x_end, y_end, z_end),\n",
    "                    Point3D(x_start, y_end, z_end)\n",
    "                )   \n",
    "\n",
    "                vertices_list[count_boxes] = vertices\n",
    "                \n",
    "                faces = facetype(\n",
    "                    triangletype(vertices[1], vertices[2], vertices[3]),\n",
    "                    triangletype(vertices[1], vertices[3], vertices[4]),\n",
    "\n",
    "                    triangletype(vertices[5], vertices[6], vertices[7]),\n",
    "                    triangletype(vertices[5], vertices[7], vertices[8]),\n",
    "\n",
    "                    triangletype(vertices[1], vertices[2], vertices[6]),\n",
    "                    triangletype(vertices[1], vertices[6], vertices[5]),\n",
    "\n",
    "                    triangletype(vertices[3], vertices[4], vertices[8]),\n",
    "                    triangletype(vertices[3], vertices[8], vertices[7]),\n",
    "\n",
    "                    triangletype(vertices[2], vertices[3], vertices[7]),\n",
    "                    triangletype(vertices[2], vertices[7], vertices[6]),\n",
    "\n",
    "                    triangletype(vertices[1], vertices[4], vertices[8]),\n",
    "                    triangletype(vertices[1], vertices[8], vertices[5]) \n",
    "                ) \n",
    "\n",
    "                faces_list[count_boxes] = faces \n",
    "                \n",
    "                count_boxes += 1 \n",
    "                                \n",
    "            end\n",
    "        end\n",
    "    end\n",
    "\n",
    "    return vertices_list, faces_list \n",
    "end"
   ]
  },
  {
   "cell_type": "code",
   "execution_count": 8,
   "id": "ce42c7a2",
   "metadata": {},
   "outputs": [
    {
     "name": "stdout",
     "output_type": "stream",
     "text": [
      "  292.180 ns (2 allocations: 10.55 KiB)\n",
      "  2.097 μs (4 allocations: 103.22 KiB)\n",
      "  18.917 μs (4 allocations: 1.01 MiB)\n"
     ]
    }
   ],
   "source": [
    "length_box = 1.0; width = 1.0; height = 1.0\n",
    "num_boxes_x = 10; num_boxes_y = 1; num_boxes_z = 1\n",
    "@btime gen_multi_box(length_box, width, height, num_boxes_x, num_boxes_y, num_boxes_z)\n",
    "\n",
    "length_box = 1.0; width = 1.0; height = 1.0\n",
    "num_boxes_x = 100; num_boxes_y = 1; num_boxes_z = 1\n",
    "@btime gen_multi_box(length_box, width, height, num_boxes_x, num_boxes_y, num_boxes_z); \n",
    "\n",
    "length_box = 1.0; width = 1.0; height = 1.0\n",
    "num_boxes_x = 1000; num_boxes_y = 1; num_boxes_z = 1\n",
    "@btime gen_multi_box(length_box, width, height, num_boxes_x, num_boxes_y, num_boxes_z); "
   ]
  },
  {
   "cell_type": "markdown",
   "id": "1f27eee2",
   "metadata": {},
   "source": [
    "## Section 3: Mesh Generation \n",
    "We first define 3 user defined types, namely Point3D, Vertices and Faces  "
   ]
  },
  {
   "cell_type": "markdown",
   "id": "a9061dde",
   "metadata": {},
   "source": [
    "## Section 4: Utility Functions "
   ]
  },
  {
   "cell_type": "code",
   "execution_count": 44,
   "id": "529502db-0da4-455b-acc0-1e7a76ffd41b",
   "metadata": {},
   "outputs": [
    {
     "data": {
      "text/plain": [
       "myCross! (generic function with 1 method)"
      ]
     },
     "execution_count": 44,
     "metadata": {},
     "output_type": "execute_result"
    }
   ],
   "source": [
    "function calculate_normal(face_vertices)\n",
    "    u = face_vertices[2] - face_vertices[1]\n",
    "    v = face_vertices[3] - face_vertices[1]\n",
    "\n",
    "    normal_vector = cross(u, v)\n",
    "    normal_unit_vector = normal_vector / norm(normal_vector)\n",
    "\n",
    "    return normal_unit_vector\n",
    "end\n",
    "\n",
    "function calculate_normal!(result,face_vertices)\n",
    "    u = face_vertices[2] - face_vertices[1]\n",
    "    v = face_vertices[3] - face_vertices[1]\n",
    "\n",
    "    result = myCross!(result,u, v)\n",
    "    result = result / norm(result)\n",
    "\n",
    "    return result \n",
    "end\n",
    "\n",
    "function find_center_r_k(vertices)\n",
    "    return sum(vertices) / length(vertices)\n",
    "end\n",
    "\n",
    "function r_norm(r_1, r_2, epsilon)\n",
    "    return sqrt(norm(r_1 - r_2)^2 + epsilon^2)\n",
    "end\n",
    "\n",
    "function find_w_e(r_1, r_2, r_k, epsilon)\n",
    "    return log((r_norm(r_2, r_k, epsilon) + r_norm(r_1, r_k, epsilon) + r_norm(r_2, r_1, epsilon)) / (r_norm(r_2, r_k, epsilon) + r_norm(r_1, r_k, epsilon) - r_norm(r_2, r_1, epsilon)))\n",
    "end\n",
    "\n",
    "function solid_angle_triangular_plane(r_1, r_2, r_3, r_k, epsilon)\n",
    "    D_r = r_norm(r_1, r_k, epsilon) * r_norm(r_2, r_k, epsilon) * r_norm(r_3, r_k, epsilon) + r_norm(r_1, r_k, epsilon) * dot((r_2 - r_k), (r_3 - r_k)) + r_norm(r_2, r_k, epsilon) * dot((r_1 - r_k), (r_3 - r_k)) + r_norm(r_3, r_k, epsilon) * dot((r_1 - r_k), (r_2 - r_k))\n",
    "    x1 = dot((r_1 - r_k), SVector{3}(cross(SVector{3}((r_2 - r_k)), SVector{3}(((r_3 - r_k))))))\n",
    "    return 2 * atan(x1, D_r)\n",
    "end\n",
    "\n",
    "function myCross!(result,a,b)\n",
    "# computes outer product of a and b and stores results in w\n",
    "# assumption is that memory for w has been allocated outside this function\n",
    "# not sure whether this is necessary at all     \n",
    "    result[1] = a[2]*b[3] - a[3]*b[2]\n",
    "    result[2] = -a[1]*b[3] + a[3]*b[1]\n",
    "    result[3] = a[1]*b[3] - a[3]*b[1]\n",
    "    return result\n",
    "end "
   ]
  },
  {
   "cell_type": "markdown",
   "id": "da0d0b94",
   "metadata": {},
   "source": [
    "## Section 4: Code by Lisette to Compute the Matrix "
   ]
  },
  {
   "cell_type": "code",
   "execution_count": null,
   "id": "0b6d08d3",
   "metadata": {},
   "outputs": [],
   "source": [
    "function orig_build_C_matrix(vertices_list, faces_list)\n",
    "    N = length(vertices_list)\n",
    "    eps = 0.001\n",
    "    I_3 = Matrix{Float64}(I, 3, 3)\n",
    "    C = zeros(3 * N, 3 * N)\n",
    "\n",
    "\n",
    "    for (ele, vertex_set) in enumerate(vertices_list)\n",
    "        r_k = find_center_r_k(vertex_set)\n",
    "\n",
    "        for (source, face_set) in enumerate(faces_list)\n",
    "            \n",
    "            #C_subblock = SMatrix{3, 3}(zeros(3, 3))\n",
    "            C_subblock = zeros(3, 3)\n",
    "            for (S_f, face) in enumerate(face_set)\n",
    "                \n",
    "                # Calculate the normal vector on the plane\n",
    "                n_f = calculate_normal(face)\n",
    "\n",
    "                # Calculate center of the face\n",
    "                r_k_face = find_center_r_k(vertices_list[source])\n",
    "\n",
    "                # Calculate vector from vertex to center\n",
    "                centroid_face = mean(face, dims=1)\n",
    "                \n",
    "                if dot(n_f, r_k_face - centroid_face[1]) > 0\n",
    "                    n_f = -n_f\n",
    "                    face = [face[1], face[3], face[2]]\n",
    "                end\n",
    "\n",
    "                r_1 = face[1]\n",
    "                r_2 = face[2]\n",
    "                r_3 = face[3]\n",
    "\n",
    "                solid_angle = solid_angle_triangular_plane(r_1, r_2, r_3, r_k, eps)\n",
    "\n",
    "                t_e_w_e = zeros(Float64,3,)\n",
    "                for (v, vertex) in enumerate(face)\n",
    "                    v_next = mod(v, 3) + 1\n",
    "                    current_edge = face[v_next] - face[v]\n",
    "\n",
    "                    t_e = current_edge / norm(current_edge)\n",
    "                    w_e = find_w_e(face[v], face[v_next], r_k, eps)\n",
    "                    t_e_w_e = t_e_w_e + w_e* t_e\n",
    "                end\n",
    "\n",
    "                gradient_W = cross(n_f, cross(t_e_w_e, n_f)) + n_f * solid_angle\n",
    "                \n",
    "                for i in 1:size(I_3, 1)\n",
    "                    u_i = I_3[:, i]\n",
    "                    u_i_transposed = reshape(u_i, 1, :)\n",
    "                    #C_subblock -= SMatrix{3,3}((1.25663706212e-6/ (4 * pi)) * cross(cross(u_i, n_f), gradient_W) * u_i_transposed)\n",
    "                    C_subblock -= ((1.25663706212e-6/ (4 * pi)) * cross(cross(u_i, n_f), gradient_W) * u_i_transposed)\n",
    "                    \n",
    "                end\n",
    "            end\n",
    "\n",
    "            C[3 * (ele - 1) + 1:3 * ele, 3 * (source - 1) + 1:3 * source] = C_subblock\n",
    "        end\n",
    "    end\n",
    "\n",
    "    return C\n",
    "end"
   ]
  },
  {
   "cell_type": "code",
   "execution_count": 48,
   "id": "f9b3a7f7",
   "metadata": {},
   "outputs": [
    {
     "name": "stdout",
     "output_type": "stream",
     "text": [
      "  53.083 μs (1846 allocations: 143.98 KiB)\n"
     ]
    },
    {
     "data": {
      "text/plain": [
       "6×6 Matrix{Float64}:\n",
       " 8.37757e-7   0.0          0.0         1.69372e-7   0.0          0.0\n",
       " 0.0          8.37757e-7   0.0         0.0         -8.46861e-8  -1.38919e-7\n",
       " 0.0          0.0          8.37757e-7  0.0          1.38919e-7  -8.46861e-8\n",
       " 1.69372e-7   0.0          0.0         8.37757e-7   0.0          0.0\n",
       " 0.0         -8.46861e-8   1.38919e-7  0.0          8.37757e-7   0.0\n",
       " 0.0         -1.38919e-7  -8.46861e-8  0.0          0.0          8.37757e-7"
      ]
     },
     "execution_count": 48,
     "metadata": {},
     "output_type": "execute_result"
    }
   ],
   "source": [
    "length_box = 1.0\n",
    "width = 1.0\n",
    "height = 1.0\n",
    "\n",
    "num_boxes_x = 2; num_boxes_y = 1; num_boxes_z = 1\n",
    "vertices_list, faces_list = generate_multi_box(length_box, width, height, num_boxes_x, num_boxes_y, num_boxes_z)\n",
    "@btime C = orig_build_C_matrix(vertices_list, faces_list)"
   ]
  },
  {
   "cell_type": "markdown",
   "id": "16c2adcd",
   "metadata": {},
   "source": [
    "## Section 6: Sandbox for Domenico to Play in \n",
    "The function blank_C_matrix() allocates too much. "
   ]
  },
  {
   "cell_type": "code",
   "execution_count": 40,
   "id": "7482eccc",
   "metadata": {},
   "outputs": [],
   "source": [
    "length_box = 1.\n",
    "width = 1.\n",
    "height = 1.\n",
    "\n",
    "num_boxes_x = 2\n",
    "num_boxes_y = 1\n",
    "num_boxes_z = 1\n",
    "\n",
    "vertices_list, faces_list = generate_multi_box(length_box, width, height, num_boxes_x, num_boxes_y, num_boxes_z);"
   ]
  },
  {
   "cell_type": "code",
   "execution_count": 45,
   "id": "d7eb28f1",
   "metadata": {},
   "outputs": [
    {
     "data": {
      "text/plain": [
       "blank_C_matrix (generic function with 1 method)"
      ]
     },
     "execution_count": 45,
     "metadata": {},
     "output_type": "execute_result"
    }
   ],
   "source": [
    "function blank_C_matrix(vertices_list, faces_list)\n",
    "    N = length(vertices_list)\n",
    "    eps = 0.001\n",
    "    I_3 = Matrix{Float64}(I, 3, 3)\n",
    "    C = zeros(3 * N, 3 * N)\n",
    "    # added by domenico \n",
    "    C_subblock = zeros(Float64,3,3) \n",
    "    nf = zeros(3)\n",
    "    w1 = zeros(3) # first temporary vector of size 3 \n",
    "    w2 = zeros(3) # first temporary vector of size 3 \n",
    "\n",
    "    for (ele, vertex_set) in enumerate(vertices_list)\n",
    "\n",
    "        r_k = find_center_r_k(vertex_set)\n",
    "\n",
    "        for (source, face_set) in enumerate(faces_list)\n",
    "                        \n",
    "            for (S_f, face) in enumerate(face_set)\n",
    "                \n",
    "                # Calculate the normal vector on the plane\n",
    "                n_f = calculate_normal!(w1,face)\n",
    "\n",
    "                for i in 1:3\n",
    "                    for j in 1:3\n",
    "                        C_subblock[i,j] -= 1.0*(i+j)\n",
    "                    end \n",
    "                end\n",
    "            end\n",
    "\n",
    "            C[3 * (ele - 1) + 1:3 * ele, 3 * (source - 1) + 1:3 * source] = C_subblock\n",
    "        end\n",
    "    end\n",
    "\n",
    "    return C\n",
    "end"
   ]
  },
  {
   "cell_type": "code",
   "execution_count": 50,
   "id": "0761c6b6",
   "metadata": {},
   "outputs": [
    {
     "name": "stdout",
     "output_type": "stream",
     "text": [
      "  1.904 μs (54 allocations: 4.59 KiB)\n",
      "  43.334 μs (1206 allocations: 101.42 KiB)\n"
     ]
    },
    {
     "data": {
      "text/plain": [
       "30×30 Matrix{Float64}:\n",
       "   -24.0    -36.0    -48.0    -48.0  …   -432.0   -240.0   -360.0   -480.0\n",
       "   -36.0    -48.0    -60.0    -72.0      -540.0   -360.0   -480.0   -600.0\n",
       "   -48.0    -60.0    -72.0    -96.0      -648.0   -480.0   -600.0   -720.0\n",
       "  -264.0   -396.0   -528.0   -288.0      -912.0   -480.0   -720.0   -960.0\n",
       "  -396.0   -528.0   -660.0   -432.0     -1140.0   -720.0   -960.0  -1200.0\n",
       "  -528.0   -660.0   -792.0   -576.0  …  -1368.0   -960.0  -1200.0  -1440.0\n",
       "  -504.0   -756.0  -1008.0   -528.0     -1392.0   -720.0  -1080.0  -1440.0\n",
       "  -756.0  -1008.0  -1260.0   -792.0     -1740.0  -1080.0  -1440.0  -1800.0\n",
       " -1008.0  -1260.0  -1512.0  -1056.0     -2088.0  -1440.0  -1800.0  -2160.0\n",
       "  -744.0  -1116.0  -1488.0   -768.0     -1872.0   -960.0  -1440.0  -1920.0\n",
       " -1116.0  -1488.0  -1860.0  -1152.0  …  -2340.0  -1440.0  -1920.0  -2400.0\n",
       " -1488.0  -1860.0  -2232.0  -1536.0     -2808.0  -1920.0  -2400.0  -2880.0\n",
       "  -984.0  -1476.0  -1968.0  -1008.0     -2352.0  -1200.0  -1800.0  -2400.0\n",
       "     ⋮                               ⋱                             \n",
       " -1464.0  -2196.0  -2928.0  -1488.0     -3312.0  -1680.0  -2520.0  -3360.0\n",
       " -2196.0  -2928.0  -3660.0  -2232.0     -4140.0  -2520.0  -3360.0  -4200.0\n",
       " -2928.0  -3660.0  -4392.0  -2976.0  …  -4968.0  -3360.0  -4200.0  -5040.0\n",
       " -1704.0  -2556.0  -3408.0  -1728.0     -3792.0  -1920.0  -2880.0  -3840.0\n",
       " -2556.0  -3408.0  -4260.0  -2592.0     -4740.0  -2880.0  -3840.0  -4800.0\n",
       " -3408.0  -4260.0  -5112.0  -3456.0     -5688.0  -3840.0  -4800.0  -5760.0\n",
       " -1944.0  -2916.0  -3888.0  -1968.0     -4272.0  -2160.0  -3240.0  -4320.0\n",
       " -2916.0  -3888.0  -4860.0  -2952.0  …  -5340.0  -3240.0  -4320.0  -5400.0\n",
       " -3888.0  -4860.0  -5832.0  -3936.0     -6408.0  -4320.0  -5400.0  -6480.0\n",
       " -2184.0  -3276.0  -4368.0  -2208.0     -4752.0  -2400.0  -3600.0  -4800.0\n",
       " -3276.0  -4368.0  -5460.0  -3312.0     -5940.0  -3600.0  -4800.0  -6000.0\n",
       " -4368.0  -5460.0  -6552.0  -4416.0     -7128.0  -4800.0  -6000.0  -7200.0"
      ]
     },
     "execution_count": 50,
     "metadata": {},
     "output_type": "execute_result"
    }
   ],
   "source": [
    "length_box = 1.0\n",
    "width = 1.0\n",
    "height = 1.0\n",
    "\n",
    "num_boxes_x = 2; num_boxes_y = 1; num_boxes_z = 1\n",
    "vertices_list, faces_list = generate_multi_box(length_box, width, height, num_boxes_x, num_boxes_y, num_boxes_z)\n",
    "@btime C = blank_C_matrix(vertices_list, faces_list)\n",
    "\n",
    "num_boxes_x = 10; num_boxes_y = 1; num_boxes_z = 1\n",
    "vertices_list, faces_list = generate_multi_box(length_box, width, height, num_boxes_x, num_boxes_y, num_boxes_z)\n",
    "@btime C = blank_C_matrix(vertices_list, faces_list)"
   ]
  },
  {
   "cell_type": "markdown",
   "id": "4aa37b8a",
   "metadata": {},
   "source": [
    "## Section 7: More Functions "
   ]
  },
  {
   "cell_type": "code",
   "execution_count": 5,
   "id": "b20d9bab-a22f-4d24-b7e1-dc74709d9750",
   "metadata": {},
   "outputs": [
    {
     "data": {
      "text/plain": [
       "find_M (generic function with 1 method)"
      ]
     },
     "execution_count": 5,
     "metadata": {},
     "output_type": "execute_result"
    }
   ],
   "source": [
    "function create_B_app(vertices_list, direction, magnitude)\n",
    "    N = length(vertices_list)\n",
    "    B_app = zeros(3*N)\n",
    "    \n",
    "    for n in 1:N\n",
    "        B_app[(n-1)*3+1:n*3] .= magnitude * direction\n",
    "    end\n",
    "\n",
    "    return B_app\n",
    "end\n",
    "\n",
    "function create_AA_chi(vertices_list, chi, C)\n",
    "    N = length(vertices_list)\n",
    "    A_chi = I(3*N) - chi / (1.25663706212e-6 * (1 + chi)) * C\n",
    "    return A_chi\n",
    "end\n",
    "\n",
    "function find_M(A_chi, chi, B_app)\n",
    "    M = A_chi \\ (chi / (1.25663706212e-6 * (1 + chi)) * B_app)\n",
    "    return M\n",
    "end\n",
    "\n",
    "\n"
   ]
  },
  {
   "cell_type": "code",
   "execution_count": 6,
   "id": "25062848-567c-4739-ae5f-d1b410884dfa",
   "metadata": {},
   "outputs": [
    {
     "ename": "LoadError",
     "evalue": "UndefVarError: SVector not defined",
     "output_type": "error",
     "traceback": [
      "UndefVarError: SVector not defined",
      "",
      "Stacktrace:",
      " [1] solid_angle_triangular_plane(r_1::Vector{Int64}, r_2::Vector{Int64}, r_3::Vector{Int64}, r_k::Vector{Float64}, epsilon::Float64)",
      "   @ Main ./In[3]:25",
      " [2] build_C_matrix(vertices_list::Vector{Any}, faces_list::Vector{Any})",
      "   @ Main ./In[4]:35",
      " [3] top-level scope",
      "   @ In[6]:10"
     ]
    }
   ],
   "source": [
    "length_box = 1\n",
    "width = 1\n",
    "height = 1\n",
    "\n",
    "num_boxes_x = 10\n",
    "num_boxes_y = 1\n",
    "num_boxes_z = 1\n",
    "\n",
    "vertices_list, faces_list = generate_multi_box(length_box, width, height, num_boxes_x, num_boxes_y, num_boxes_z)\n",
    "C = build_C_matrix(vertices_list, faces_list)\n",
    "\n",
    "direction_B_0 = [1, 0, 0]\n",
    "magnitude = 1e-5\n",
    "chi = 100\n",
    "\n",
    "B_app = create_B_app(vertices_list, direction_B_0, magnitude)\n",
    "A_chi = create_A_chi(vertices_list, chi, C)\n",
    "M = find_M(A_chi, chi, B_app)\n",
    "\n"
   ]
  },
  {
   "cell_type": "code",
   "execution_count": 85,
   "id": "3b58d423-6adc-400d-9d26-a506b7220b63",
   "metadata": {},
   "outputs": [
    {
     "name": "stdout",
     "output_type": "stream",
     "text": [
      "Iteration 1 - Total number of boxes: 1  0.000236 seconds (1.91 k allocations: 127.609 KiB)\n",
      "\n",
      "  0.000014 seconds (9 allocations: 800 bytes)\n",
      "\n",
      "Iteration 2 - Total number of boxes: 8  0.009613 seconds (120.06 k allocations: 7.810 MiB)\n",
      "\n",
      "  0.000024 seconds (17 allocations: 15.656 KiB)\n",
      "\n",
      "Iteration 3 - Total number of boxes: 27  0.108511 seconds (1.37 M allocations: 88.804 MiB, 6.57% gc time)\n",
      "\n",
      "  0.000099 seconds (39 allocations: 159.281 KiB)\n",
      "\n",
      "Iteration 4 - Total number of boxes: 64  0.610801 seconds (7.67 M allocations: 498.750 MiB, 4.89% gc time)\n",
      "\n",
      "  0.009106 seconds (76 allocations: 875.844 KiB)\n",
      "\n",
      "Iteration 5 - Total number of boxes: 125  2.352016 seconds (29.25 M allocations: 1.858 GiB, 5.10% gc time)\n",
      "\n",
      "  0.004522 seconds (137 allocations: 3.241 MiB)\n",
      "\n",
      "Iteration 6 - Total number of boxes: 216  7.216018 seconds (87.35 M allocations: 5.547 GiB, 5.07% gc time)\n",
      "\n",
      "  0.009161 seconds (228 allocations: 9.648 MiB)\n",
      "\n",
      "Iteration 7 - Total number of boxes: 343 17.785363 seconds (220.25 M allocations: 13.986 GiB, 4.95% gc time)\n",
      "\n",
      "  0.019797 seconds (355 allocations: 24.295 MiB, 13.79% gc time)\n",
      "\n"
     ]
    }
   ],
   "source": [
    "length_box = 1\n",
    "width = 1\n",
    "height = 1\n",
    "\n",
    "\n",
    "for i in 1:7\n",
    "    num_boxes_x = i\n",
    "    num_boxes_y = i\n",
    "    num_boxes_z = i\n",
    "\n",
    "    total_boxes = num_boxes_x * num_boxes_y * num_boxes_z\n",
    "    print(\"Iteration $i - Total number of boxes: $total_boxes\")\n",
    "    @time begin\n",
    "        vertices_list, faces_list = generate_multi_box(length_box, width, height, num_boxes_x, num_boxes_y, num_boxes_z)\n",
    "        C = build_C_matrix(vertices_list, faces_list)\n",
    "    end\n",
    "    println()\n",
    "    @time begin\n",
    "        direction_B_0 = [1, 0, 0]\n",
    "        magnitude = 1e-5\n",
    "        chi = 100\n",
    "\n",
    "        B_app = create_B_app(vertices_list, direction_B_0, magnitude)\n",
    "        A_chi = create_A_chi(vertices_list, chi, C)\n",
    "        M = find_M(A_chi, chi, B_app)\n",
    "    end\n",
    "    M\n",
    "    println()\n",
    "end"
   ]
  },
  {
   "cell_type": "code",
   "execution_count": null,
   "id": "9a458138-5b75-4366-9609-d047bbaccc40",
   "metadata": {},
   "outputs": [],
   "source": []
  },
  {
   "cell_type": "code",
   "execution_count": null,
   "id": "2fdb38ae-e556-45c9-b0ea-f556cad9afc3",
   "metadata": {},
   "outputs": [],
   "source": []
  }
 ],
 "metadata": {
  "kernelspec": {
   "display_name": "Julia 1.8.1",
   "language": "julia",
   "name": "julia-1.8"
  },
  "language_info": {
   "file_extension": ".jl",
   "mimetype": "application/julia",
   "name": "julia",
   "version": "1.8.1"
  }
 },
 "nbformat": 4,
 "nbformat_minor": 5
}
