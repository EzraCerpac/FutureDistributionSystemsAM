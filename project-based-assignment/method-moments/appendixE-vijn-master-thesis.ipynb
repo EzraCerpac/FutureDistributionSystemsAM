{
 "cells": [
  {
   "cell_type": "markdown",
   "id": "51dae8f1",
   "metadata": {},
   "source": [
    "# Appendix E in Master Thesis Aad Vijn \n",
    "# Magnetized Steel Plates - Plotting the Magnetic Field Components  \n",
    "\n",
    "Here we explore Appendix E of [Vijn's master thesis](https://repository.tudelft.nl/islandora/object/uuid%3A89f31ad6-e8c4-4db5-ac6e-eb6fdeb3f7e0?collection=education). "
   ]
  },
  {
   "cell_type": "markdown",
   "id": "9ec258d3",
   "metadata": {},
   "source": [
    "## Import Packages "
   ]
  },
  {
   "cell_type": "code",
   "execution_count": 1,
   "id": "7928422c",
   "metadata": {},
   "outputs": [],
   "source": [
    "using StaticArrays\n",
    "using LinearAlgebra\n",
    "\n",
    "using BenchmarkTools \n",
    "\n",
    "using Plots"
   ]
  },
  {
   "cell_type": "markdown",
   "id": "75f261d5",
   "metadata": {},
   "source": [
    "## Section 1: Plate and Air Surrounding Plate"
   ]
  },
  {
   "cell_type": "code",
   "execution_count": 56,
   "id": "3a337ade",
   "metadata": {},
   "outputs": [],
   "source": [
    "const Point3D = SVector{3,Float64}\n",
    "\n",
    "struct Plate \n",
    "    L::Float64 \n",
    "    W::Float64 \n",
    "    T::Float64 \n",
    "end\n",
    "\n",
    "#..set dimension of the plate \n",
    "L = 1. \n",
    "W = 1\n",
    "T = 0.05 \n",
    "\n",
    "#..initialize the plate \n",
    "plate = Plate(L,W,T)\n",
    "\n",
    "#..set dimension of the box of air around the plate \n",
    "Lair = 2*L\n",
    "Wair = 2*W\n",
    "\n",
    "#..construct uniform mesh on the air domain \n",
    "LVec = Vector(-Lair:Lair/50:Lair)\n",
    "WVec = Vector(-Wair:Wair/50:Wair) \n",
    "R = [ Point3D(x,y,0) for x in LVec, y in WVec ];"
   ]
  },
  {
   "cell_type": "markdown",
   "id": "1961a09c",
   "metadata": {},
   "source": [
    "## Section 2: Analytical Expressions for the Magnetic Flux Components "
   ]
  },
  {
   "cell_type": "code",
   "execution_count": 34,
   "id": "c7f4d396",
   "metadata": {},
   "outputs": [
    {
     "data": {
      "text/plain": [
       "By (generic function with 1 method)"
      ]
     },
     "execution_count": 34,
     "metadata": {},
     "output_type": "execute_result"
    }
   ],
   "source": [
    "function F1(r,t,plate)\n",
    "    W = plate.W\n",
    "    L = plate.L\n",
    "    denom1 = (r.x+L/2)^2+(r.z)^2\n",
    "    numer2 = r.y - W/2*t\n",
    "    denom2 = sqrt( (r.x+L/2)^2+(r.y+W/2*t)^2+(r.z)^2 )\n",
    "    return 1/denom1*numer2/denom2 \n",
    "end \n",
    "\n",
    "function F2(r,t,plate)\n",
    "    W = plate.W\n",
    "    L = plate.L\n",
    "    denom1 = (r.x-L/2)^2+(r.z)^2\n",
    "    numer2 = r.y - W/2*t\n",
    "    denom2 = sqrt( (r.x-L/2)^2+(r.y+W/2*t)^2+(r.z)^2 )\n",
    "    return 1/denom1*numer2/denom2 \n",
    "end \n",
    "\n",
    "function F3(r,t,plate)\n",
    "    W = plate.W\n",
    "    L = plate.L\n",
    "    denom1 = sqrt( (r.x+L/2)^2+(r.y-W/2*t)^2+(r.z)^2 )\n",
    "    return 1/denom1 \n",
    "end \n",
    "\n",
    "function F4(r,t,plate)\n",
    "    W = plate.W\n",
    "    L = plate.L\n",
    "    denom1 = sqrt( (r.x-L/2)^2+(r.y-W/2*t)^2+(r.z)^2 )\n",
    "    return 1/denom1 \n",
    "end \n",
    "\n",
    "function I1(r,t,plate)\n",
    "    W = plate.W\n",
    "    return 2/W*( F1(r,1.,plate) - F1(r,-1.,plate) )\n",
    "end \n",
    "\n",
    "function I2(r,t,plate)\n",
    "    W = plate.W\n",
    "    return 2/W*( F2(r,1.,plate) - F2(r,-1.,plate) )\n",
    "end \n",
    "\n",
    "function I3(r,t,plate)\n",
    "    W = plate.W\n",
    "    return 2/W*( F3(r,1.,plate) - F3(r,-1.,plate) )\n",
    "end \n",
    "\n",
    "function I4(r,t,plate)\n",
    "    W = plate.W\n",
    "    return 2/W*( F4(r,1.,plate) - F4(r,-1.,plate) )\n",
    "end \n",
    "\n",
    "function Bx(r,plate)\n",
    "    mu0 = 4*pi*1e-7\n",
    "    I1 = F1(r,1.,plate) - F1(r,-1.,plate)\n",
    "    I2 = F2(r,1.,plate) - F2(r,-1.,plate)\n",
    "    val = (r.x+L/2)*I1 - (r.x-L/2)*I2 \n",
    "    return val \n",
    "end \n",
    "\n",
    "function By(r,plate)\n",
    "    mu0 = 4*pi*1e-7\n",
    "    I3 = F3(r,1.,plate) - F3(r,-1.,plate)\n",
    "    I4 = F4(r,1.,plate) - F4(r,-1.,plate)\n",
    "    val = I3 - I4 \n",
    "    return val \n",
    "end"
   ]
  },
  {
   "cell_type": "markdown",
   "id": "2a7a40b4",
   "metadata": {},
   "source": [
    "## Section 3: Evaluation and Plotting of the Analytical Expressions"
   ]
  },
  {
   "cell_type": "code",
   "execution_count": null,
   "id": "7749d00a",
   "metadata": {},
   "outputs": [],
   "source": [
    "x = [ r.x for r in R]\n",
    "y = [ r.y for r in R]\n",
    "valx = [ Bx(r, plate) for r in R]\n",
    "valy = [ By(r, plate) for r in R]\n",
    "p1 = contour(valx)\n",
    "p2 = contour(valy)\n",
    "plot(p1,p2)"
   ]
  },
  {
   "cell_type": "code",
   "execution_count": null,
   "id": "acfa3e34",
   "metadata": {},
   "outputs": [],
   "source": []
  },
  {
   "cell_type": "code",
   "execution_count": null,
   "id": "7cb79ec8",
   "metadata": {},
   "outputs": [],
   "source": []
  },
  {
   "cell_type": "code",
   "execution_count": null,
   "id": "6e494cc5",
   "metadata": {},
   "outputs": [],
   "source": []
  }
 ],
 "metadata": {
  "kernelspec": {
   "display_name": "Julia 1.8.1",
   "language": "julia",
   "name": "julia-1.8"
  },
  "language_info": {
   "file_extension": ".jl",
   "mimetype": "application/julia",
   "name": "julia",
   "version": "1.8.1"
  }
 },
 "nbformat": 4,
 "nbformat_minor": 5
}
