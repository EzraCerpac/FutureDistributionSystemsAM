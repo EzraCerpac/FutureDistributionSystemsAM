{
 "cells": [
  {
   "cell_type": "markdown",
   "id": "202e9b31",
   "metadata": {},
   "source": [
    "# Constructing the Method of Moment Matrix\n",
    "# by Allowing Automatic Differentiation (ForwardDiff, Zygote or Otherwise)\n",
    "# to Operate Twice on Quadrature  (QuadGK, HCubature or Otherwise) Output "
   ]
  },
  {
   "cell_type": "markdown",
   "id": "6528034e",
   "metadata": {},
   "source": [
    "## Import Packages"
   ]
  },
  {
   "cell_type": "code",
   "execution_count": 1,
   "id": "92372490",
   "metadata": {},
   "outputs": [],
   "source": [
    "using ForwardDiff\n",
    "using QuadGK\n",
    "using HCubature \n",
    "using StaticArrays \n",
    "using LinearAlgebra\n",
    "using BenchmarkTools\n",
    "using Plots "
   ]
  },
  {
   "cell_type": "markdown",
   "id": "e6133516",
   "metadata": {},
   "source": [
    "## Section 1: Introduction \n",
    "<b>Motivation</b> We wish to generate the MoM matrix as the linear transformation matrix (sensitivity matrix, input-output matrix) mapping magnetization vector $\\vec{M}(\\vec{x})$ to the magnetic flux vector $\\vec{B}(\\vec{x})$ after spatial discretization (first discretize, then differentiate) (need to include magnetic field $\\vec{H}(\\vec{x})$). In the following, we make this idea more precise. \n",
    "\n",
    "Assume a 3D computational domain $\\vec{x} \\in \\Omega$ with a subset $\\Omega_M$ on with the magnetic sources are defined. In a continuous setting (i.e. prior to spatial discretization), the magnetic vector potential $\\vec{A}(\\vec{x})$ is a function of the magnetization vector $\\vec{M}(\\vec{x})$. A [Biot-Savart](https://en.wikipedia.org/wiki/Biot–Savart_law) type relation yields that \n",
    "$$\\vec{A}(\\vec{x}) = \\frac{\\mu_0}{4 \\pi} \\int_{\\Omega_m} \n",
    "                \\frac{\\vec{M}(\\vec{x}') \\times (\\vec{x}-\\vec{x}')}{|\\vec{x}-\\vec{x}'|^3} \\, d\\vec{x}' \\, = \\int_{\\Omega_m} \\vec{M}(\\vec{x}') \\times K(\\vec{x}, \\vec{x}') \\, d\\vec{x}' $$, where the kernel $K(\\vec{x}, \\vec{x}')$ is given by \n",
    "$$K(\\vec{x},\\vec{x}') = \\frac{\\mu_0}{4 \\pi}  \n",
    "                \\frac{(\\vec{x}-\\vec{x}')}{\\|\\vec{x}-\\vec{x}'\\|^3} = \n",
    "                \\frac{\\mu_0}{4 \\pi} \\nabla \\frac{1}{\\|\\vec{x}-\\vec{x}'\\|} \\, . $$              The magnetic flux $\\vec{B}(\\vec{x})$ is then obtained via \n",
    "$$ \\vec{B}(\\vec{x}) = \\nabla \\times \\vec{A}(\\vec{x}) \\, . $$\n",
    "The magnetic field $\\vec{H}(\\vec{x})$ can be obtain as $\\mu \\, \\vec{B}(\\vec{x})$ in the ferromagnetic region and from $\\mu \\, \\vec{B}(\\vec{x}) + \\vec{M}(\\vec{x})$ in the magnetic region.  \n",
    "\n",
    "A mesh $\\Omega^h$ on $\\Omega$ with $N$ nodes is defined. The numerical approximation to vector $\\vec{M}(\\vec{x})$ is expressed as a linear combination on shape function (or basis functions) as (three components of $\\vec{M}^h(\\vec{x}$ expressed in the same linear nodal first order Lagrange basis functions, the summation upper therefore denoted by $3N$)\n",
    "$$ \\vec{M}(\\vec{x}) \\thickapprox \\vec{M}^h(\\vec{x})= \\sum_{i=1}^{3N} m_i \\, \\phi_i(\\vec{x}) \\, .$$ \n",
    "Replacing $\\vec{M}(\\vec{x})$ by $\\vec{M}^h(\\vec{x})$ in the expression for $\\vec{A}(\\vec{x})$ yiels the numerical approximation $\\vec{A}^h(\\vec{x})$. Similarly, replacing $\\vec{A}(\\vec{x})$ by $\\vec{A}^h(\\vec{x})$ in the expression for $\\vec{B}(\\vec{x})$, yiels the numerical approximation $\\vec{B}^h(\\vec{x})$. Let $\\vec{m}$ denote the $3N$-vector of expansion coefficients of $\\vec{M}^h(\\vec{x})$ in the basis of $\\phi_i{(\\vec{x})}$ for $1 \\leq i \\leq N$ shape functions. Let $\\vec{a}$ and $\\vec{b}$ denote the $3N$-vectors obtained by point-matching the relationships that define them. Then clearly both $\\vec{a}$ and $\\vec{b}$ are vector-valued functions with $3N$ components that map $\\vec{m}$ to $\\vec{a}(\\vec{m})$ and $\\vec{b}(\\vec{m})$, respectively. We can thus write formally that $\\vec{a}: \\vec{m} \\in R^{3N} \\rightarrow \\vec{a}(\\vec{m}) \\in R^{3N}$ and  \n",
    "$\\vec{b}: \\vec{m} \\in R^{3N} \\rightarrow \\vec{b}(\\vec{m}) \\in R^{3N}$. The Jacobian of mapping \n",
    "$\\partial b_i / \\partial m_j$ is the MoM matrix. We wish to develop a procedure that compute this Jacobian by going through the following three steps: \n",
    "1. apply (adaptive) quadrature (including handling of singular integrals) to compute the mapping $\\vec{a}(\\vec{m})$, i.e., a vector function of $3N$ components $a_i$ that each depend on the $3N$ vector $\\vec{a}$. The quadrature on $\\Omega$ is carried out element-wise;\n",
    "2. compute $\\vec{b} = \\nabla \\times \\vec{a}(\\vec{x})$  \n",
    "3. apply automatic differentiation to differentiate (compute the Jacobian) the magnetic flux $\\vec{b}(\\vec{m}) = \\vec{b}(\\vec{a}(\\vec{m})))$ wrt to $\\vec{m}$ to obtain the MoM matrix;\n",
    "\n",
    "The above ideas are borrowed from non-linear FEM analysis is which the Jacobian is formed as the derivative of the residual vector w.r.t. the state vector. More details of both steps will be outlined below. These steps focuss on the <b>generation</b> MoM matrix. Solving of the linear system with the MoM will be discussed elsewhere.  "
   ]
  },
  {
   "cell_type": "markdown",
   "id": "d9239573",
   "metadata": {},
   "source": [
    "### Section 1.2: First Proof of Concept\n",
    "Below we give a proof of concept of composing quadrature and automatic differentiation on a synthetic test case. This examples assummes a one-dimensional domain and uses smooth (harmless) integration kernel. This test case can be <b>verified</b> analytically by performing computations by hand or using a symbolic computing toolbox. More effort is required to treat singular kernels in three-dimensional computational domains (as required in MoM)."
   ]
  },
  {
   "cell_type": "code",
   "execution_count": 89,
   "id": "a14c9f81",
   "metadata": {},
   "outputs": [
    {
     "data": {
      "text/plain": [
       "2×2 Matrix{Float64}:\n",
       " 0.63662  3.77101e-17\n",
       " 0.63662  3.77101e-17"
      ]
     },
     "execution_count": 89,
     "metadata": {},
     "output_type": "execute_result"
    }
   ],
   "source": [
    "# define the magnetization\n",
    "# define the kernel of integration. Here p stands p for prime. \n",
    "# define the vector potential density as magnetization times kernel \n",
    "magnetization(x,m) = m[1]*sin(π*x[1])+m[2]*cos(π*x[1]) \n",
    "kernel(x,xp) = (x[1]-xp[1])\n",
    "vpdens(x,xp,m) = magnetization(xp,m)*kernel(x,xp)\n",
    "\n",
    "# define the vector potential (denoted by vp) by integrating in the integration variable xp \n",
    "# over the magnetization domain, here assumed to be domain from 0 to 1. \n",
    "vp(x,m) = quadgk(xp -> vpdens(x,xp,m), 0, 1)\n",
    "#vp(x,m) = hcubature(xp -> vpdens(x,xp,m), (0,), (1,))\n",
    "\n",
    "# define the magnetic flux as the partial derivative of the potential wrt x (keeping m fixed)\n",
    "bflux(x,m) = ForwardDiff.derivative(x -> vp(x,m)[1],x)\n",
    "\n",
    "## define the sampling points in x (space) and m (coefficients of the expansion on magnetization in the function basis) \n",
    "xx = [.25, .75]\n",
    "mm = [1., 2.]\n",
    "\n",
    "# collocate the field on the grid in x - do point matching \n",
    "# observe depency in m remains \n",
    "bfluxsamp(m) = [bflux(xi,m) for xi in xx]\n",
    "\n",
    "# compute the Jacobian\n",
    "# to do: preallocate memory of the Jacobian \n",
    "C = ForwardDiff.jacobian(bfluxsamp, mm)"
   ]
  },
  {
   "cell_type": "markdown",
   "id": "df82da35",
   "metadata": {},
   "source": [
    "### Section 2.1: Second Proof of Concept (requires further verification using symbolic computations) \n",
    "One-dimensional test case assuming $0 < x < 1$ and assuming the magnetization to be <b>piece-wise constant</b> or constant over each element in the mesh. A singular kernel of integration is introduced. The number of degrees of freedom thus introduced is $N$ (as opposed to $N+1$). Integration is performed element-wise as $\\int_0^1 g(x) \\, dx = \\sum_{k=1}^N \\int_{x_k}^{x_{k+1}} g(x) \\, dx $. Both collocation (point-matching on the midpoint of the cell) and Galerkin (averaged formulation over the cell) are implemented.  \n",
    "\n",
    "Note on the <b>singularity</b> of the kernel of integration: \n",
    "1. it is non-trivial to introduce a representative one-dimensional test-case without artifically introducing complexities that are absent in the real application. The subsequent cell shows how increasing the dimension reduces the diffuculty of the numerical integration;\n",
    "2. below we regularize the kernel by introducing epsilon. We have observed a larger number of function evaluations for smaller values of epsilon; \n",
    "\n",
    "It remains <b>unclear</b> how the matrix obtained using collocation and point-matching differ. A bit of analyasis helps here. Point-matching viewed as special case of averaging using single intergration point only. "
   ]
  },
  {
   "cell_type": "markdown",
   "id": "e2f0b970",
   "metadata": {},
   "source": [
    "#### Singular Integrand and Dimension of the Domain of Integration \n",
    "We provide an example showing how a singular integrand is easier to integrate in higher dimensions. Similar observations have been made in literature (requires citing Duffy and citing Carley). "
   ]
  },
  {
   "cell_type": "code",
   "execution_count": 81,
   "id": "3bc0fb21",
   "metadata": {},
   "outputs": [
    {
     "data": {
      "text/plain": [
       "(Inf, Inf)"
      ]
     },
     "execution_count": 81,
     "metadata": {},
     "output_type": "execute_result"
    }
   ],
   "source": [
    "# one-dimensional integration fails \n",
    "hcubature(x -> x[1]/norm(x)^3, (0,), (1,))"
   ]
  },
  {
   "cell_type": "code",
   "execution_count": 82,
   "id": "d0900817",
   "metadata": {},
   "outputs": [
    {
     "data": {
      "text/plain": [
       "(Inf, NaN)"
      ]
     },
     "execution_count": 82,
     "metadata": {},
     "output_type": "execute_result"
    }
   ],
   "source": [
    "# two-dimensional integration fails - the error message, however, differs. \n",
    "# we still need to understand why the error message differs \n",
    "hcubature(x -> x[1]/norm(x)^3, (0,0), (1,1))"
   ]
  },
  {
   "cell_type": "code",
   "execution_count": 83,
   "id": "990cb0c3",
   "metadata": {},
   "outputs": [
    {
     "data": {
      "text/plain": [
       "(0.9693880526621552, 1.4444861385160079e-8)"
      ]
     },
     "execution_count": 83,
     "metadata": {},
     "output_type": "execute_result"
    }
   ],
   "source": [
    "# three-dimensional integration works - a reference answer is still to be computed \n",
    "hcubature(x -> x[1]/norm(x)^3, (0,0,0), (1,1,1))"
   ]
  },
  {
   "cell_type": "markdown",
   "id": "67734b56",
   "metadata": {},
   "source": [
    "#### Larger Polynomial Degree in the Numerator Eases Integration \n",
    "We providing an example showing that larger polynomial degree renders integration easier to perform. "
   ]
  },
  {
   "cell_type": "code",
   "execution_count": 80,
   "id": "84baa68d",
   "metadata": {},
   "outputs": [
    {
     "data": {
      "text/plain": [
       "(1.0, 0.0)"
      ]
     },
     "execution_count": 80,
     "metadata": {},
     "output_type": "execute_result"
    }
   ],
   "source": [
    "hcubature(x -> x[1]^3/norm(x)^3, (0,), (1,))"
   ]
  },
  {
   "cell_type": "markdown",
   "id": "d6d96bbd",
   "metadata": {},
   "source": [
    "#### The Actual Proof of Concept "
   ]
  },
  {
   "cell_type": "code",
   "execution_count": null,
   "id": "1f7aa3b2",
   "metadata": {},
   "outputs": [],
   "source": []
  },
  {
   "cell_type": "code",
   "execution_count": 116,
   "id": "5fecadf1",
   "metadata": {},
   "outputs": [
    {
     "data": {
      "text/plain": [
       "5×5 Matrix{Float64}:\n",
       "  3.12953     0.0728696  -0.875293   -0.358433   -0.157458\n",
       "  0.0728696   3.12953     0.0728696  -0.875293   -0.358433\n",
       " -0.875293    0.0728696   3.12953     0.0728696  -0.875293\n",
       " -0.358433   -0.875293    0.0728696   3.12953     0.0728696\n",
       " -0.157458   -0.358433   -0.875293    0.0728696   3.12953"
      ]
     },
     "execution_count": 116,
     "metadata": {},
     "output_type": "execute_result"
    }
   ],
   "source": [
    "# define the mesh with N elements e_k = [x_k, x_{k+1}] for 1 <= k <= N \n",
    "# the mesh contains N+1 nodes of which N-1 internal and 2 (left and right) boundary nodes  \n",
    "N = 5; h = 1/N;  \n",
    "xmesh = Vector(0:h:1)\n",
    "xmid = Vector(h/2:h:1-h/2)\n",
    "\n",
    "# define the magnetization coefficients  \n",
    "m = ones(N)  \n",
    "\n",
    "# define integration kernel with two inputs  \n",
    "epsilon = 0.01\n",
    "kernel(x,xp) = (x-xp)/(abs(x - xp)^3+epsilon) \n",
    "testkernel1(x,xp) = (x-xp) \n",
    "\n",
    "# compute integral by quadrature over second input (xp) over all elements e_k \n",
    "# on e_k the integral is x-dependent and stored in a array of functions \n",
    "# observe that in the definition of vparray[k] kernel-broadcast-(x,xp) is essential \n",
    "# in the evaluation of vparray[k] in *all* elements of x \n",
    "vparray = Array{Function}(undef, N)\n",
    "for k=1:N\n",
    "   vparray[k] = (x,m,xmesh) -> quadgk(xp -> m[k]*kernel.(x,xp), xmesh[k], xmesh[k+1])[1]\n",
    "end \n",
    "\n",
    "# compute bflux as x-derivative over all elements of vparray \n",
    "# observe syntax used to define an array of functions\n",
    "bfluxarray = Array{Function}(undef, N) \n",
    "for k=1:N\n",
    "  bfluxarray[k] = (x,m,xmesh) -> ForwardDiff.derivative(x -> vparray[k](x,m,xmesh)[1],x)\n",
    "end \n",
    "\n",
    "# sum over source location or xp contributions over N elements in the mesh  \n",
    "vp(x,m,xmesh) = sum([vparray[k](x,m,xmesh) for k=1:N])\n",
    "bflux(x,m,xmesh) = sum([bfluxarray[k](x,m,xmesh) for k=1:N])\n",
    "\n",
    "# collocate the field on the grid in x - do point matching \n",
    "# observe depency in m remains \n",
    "bfluxpointsampled(m) = [bflux(xi,m,xmesh) for xi in xmid]\n",
    "\n",
    "# average over destination or x contributions \n",
    "bfluxaverage(m) = [quadgk(x -> bflux(x,m,xmesh), xmesh[k], xmesh[k+1])[1] for k=1:N]\n",
    "\n",
    "# compute the Jacobian\n",
    "# to do: preallocate memory of the Jacobian \n",
    "Cp = ForwardDiff.jacobian(bfluxpointsampled, m)\n",
    "Ca = ForwardDiff.jacobian(bfluxaverage, m)"
   ]
  },
  {
   "cell_type": "code",
   "execution_count": 117,
   "id": "9aef96d7",
   "metadata": {},
   "outputs": [
    {
     "data": {
      "text/plain": [
       "5×5 Matrix{Float64}:\n",
       " 18.1818    -0.982801  -4.4044    -1.7207    -0.765141\n",
       " -0.982801  18.1818    -0.982801  -4.4044    -1.7207\n",
       " -4.4044    -0.982801  18.1818    -0.982801  -4.4044\n",
       " -1.7207    -4.4044    -0.982801  18.1818    -0.982801\n",
       " -0.765141  -1.7207    -4.4044    -0.982801  18.1818"
      ]
     },
     "execution_count": 117,
     "metadata": {},
     "output_type": "execute_result"
    }
   ],
   "source": [
    "Cp"
   ]
  },
  {
   "cell_type": "code",
   "execution_count": 115,
   "id": "687c89e2",
   "metadata": {},
   "outputs": [
    {
     "data": {
      "text/plain": [
       "6-element Vector{Float64}:\n",
       " -0.5\n",
       " -0.3\n",
       " -0.09999999999999998\n",
       "  0.09999999999999998\n",
       "  0.30000000000000004\n",
       "  0.5"
      ]
     },
     "execution_count": 115,
     "metadata": {},
     "output_type": "execute_result"
    }
   ],
   "source": [
    "vp(xmesh,m,xmesh)"
   ]
  },
  {
   "cell_type": "code",
   "execution_count": 109,
   "id": "c1532a76",
   "metadata": {},
   "outputs": [
    {
     "data": {
      "text/plain": [
       "5-element Vector{Float64}:\n",
       " 1.0\n",
       " 1.0\n",
       " 1.0\n",
       " 1.0\n",
       " 1.0"
      ]
     },
     "execution_count": 109,
     "metadata": {},
     "output_type": "execute_result"
    }
   ],
   "source": [
    "bfluxpointsampled(m)"
   ]
  },
  {
   "cell_type": "code",
   "execution_count": null,
   "id": "261d2993",
   "metadata": {},
   "outputs": [],
   "source": []
  },
  {
   "cell_type": "code",
   "execution_count": 38,
   "id": "9ad496e8",
   "metadata": {},
   "outputs": [
    {
     "data": {
      "text/plain": [
       "11-element Vector{Float64}:\n",
       " -4.61509306381835\n",
       " -4.02411125832991\n",
       " -2.803880330794418\n",
       " -1.6584646139872339\n",
       " -0.7623402502436649\n",
       "  0.0\n",
       "  0.7623402502436651\n",
       "  1.6584646139872323\n",
       "  2.803880330794419\n",
       "  4.02411125832991\n",
       "  4.61509306381835"
      ]
     },
     "execution_count": 38,
     "metadata": {},
     "output_type": "execute_result"
    }
   ],
   "source": [
    "vp(xmesh,m,xmesh)"
   ]
  },
  {
   "cell_type": "markdown",
   "id": "e2541b9f",
   "metadata": {},
   "source": [
    "### Section 3.1: Third Proof of Concept\n",
    "Same as second example, this time using linear basis functions. "
   ]
  },
  {
   "cell_type": "code",
   "execution_count": null,
   "id": "9b48f918",
   "metadata": {},
   "outputs": [],
   "source": [
    "# generate set of basis functions centered on node i including the boundary nodes \n",
    "# here we cheat and code an explicit representation of the linear basis functions \n",
    "# this renders the coding that follows easier \n",
    "function basisfct(x, xmesh, i)\n",
    "    Np1 = length(xmesh)\n",
    "    left = 0.\n",
    "    right = 0.  \n",
    "    if (i==1)\n",
    "        right_domain = (x>=xmesh[i])*(x<=xmesh[i+1])\n",
    "        right_value = (x-xmesh[i+1])/(xmesh[i]-xmesh[i+1])\n",
    "        right = right_value*right_domain        \n",
    "    end \n",
    "    if ((i>1)&&(i<Np1))\n",
    "        left_domain = (x>=xmesh[i-1])*(x<=xmesh[i])\n",
    "        left_value = (xmesh[i-1]-x)/(xmesh[i-1]-xmesh[i])\n",
    "        left = left_value*left_domain        \n",
    "        right_domain = (x>xmesh[i])*(x<=xmesh[i+1])\n",
    "        right_value = (x-xmesh[i+1])/(xmesh[i]-xmesh[i+1])\n",
    "        right = right_value*right_domain        \n",
    "    end \n",
    "    if (i==Np1)\n",
    "        left_domain = (x>=xmesh[i-1])*(x<=xmesh[i])\n",
    "        left_value = (xmesh[i-1]-x)/(xmesh[i-1]-xmesh[i])\n",
    "        left = left_value*left_domain\n",
    "    end \n",
    "    result = left+right\n",
    "    return result \n",
    "end \n",
    "\n",
    "# expand the magnetization in the bais \n",
    "function magnetization(x,m,xmesh)\n",
    "    Np1 = length(xmesh)\n",
    "    result = 0. \n",
    "    for i=1:Np1 \n",
    "        result += m[i]*basisfct(x,xmesh,i)\n",
    "    end \n",
    "    return result  \n",
    "end "
   ]
  },
  {
   "cell_type": "code",
   "execution_count": null,
   "id": "b629407e",
   "metadata": {},
   "outputs": [],
   "source": [
    "# generate the mesh  with N elements (intervals) and N+1 nodes\n",
    "N = 5; h = 1/N; Np1 = N+1; \n",
    "xmesh = Vector(0:h:1)\n",
    "\n",
    "# set the magnetization coefficients  \n",
    "m = ones(Np1) \n",
    "\n",
    "# define integration kernel with two inputs  \n",
    "epsilon = 0.01 \n",
    "kernel(x,xp) = (x-xp)/(abs(x - xp)^3+epsilon) \n",
    "\n",
    "# compute integral by quadrature over second input (xp) over all nodes x_k  \n",
    "# on e_k the integral is x-dependent and stored in a array of functions \n",
    "vparray = Array{Function}(undef, N)\n",
    "for k=1:N \n",
    "   vparray[k] = (x,m,xmesh) -> quadgk(xp -> magnetization(xp,m,xmesh)*kernel(x,xp), xmesh[k], xmesh[k+1])[1]\n",
    "end \n",
    "\n",
    "# compute bflux as x-derivative over all elements of vparray \n",
    "bfluxarray = Array{Function}(undef, N) \n",
    "for k=1:N\n",
    "  bfluxarray[k] = (x,m,xmesh) -> ForwardDiff.derivative(x -> vparray[k](x,m,xmesh)[1],x)\n",
    "end \n",
    "\n",
    "# sum over source location or xp contributions over N elements in the mesh  \n",
    "vp(x,m,xmesh) = sum([vparray[k](x,m,xmesh) for k=1:N])\n",
    "bflux(x,m,xmesh) = sum([bfluxarray[k](x,m,xmesh) for k=1:N])\n",
    "\n",
    "# collocate the field on the grid in x - do point matching \n",
    "# observe depency in m remains \n",
    "bfluxpointsampled(m) = [bflux(xi,m,xmesh) for xi in xmesh]\n",
    "\n",
    "#average over destination or x contributions \n",
    "bfluxaverage(m) = [quadgk(x -> bflux(x,m,xmesh), xmesh[k], xmesh[k+1])[1] for k=1:N]\n",
    "\n",
    "# compute the Jacobian\n",
    "# to do: preallocate memory of the Jacobian \n",
    "ForwardDiff.jacobian(bfluxpointsampled, m)\n",
    "ForwardDiff.jacobian(bfluxaverage, m)"
   ]
  },
  {
   "cell_type": "markdown",
   "id": "0614cbc7",
   "metadata": {},
   "source": [
    "### Section 4.1: Fourth Proof of Concept\n",
    "Extension from line (bar) to rectangle (plate with zero thickness) assuming in-plane magnetization (i.e. $\\vec{M} = (M_x(x,y), M_y(x,y), 0)$) and thus ($\\vec{A} = (0, 0, A_z(x,y))$ and $\\vec{B} = (B_x(x,y), B_y(x,y), 0)$). \n",
    "\n",
    "1. in case of element-wise constant magnetization: asssume both $M_x(x,y)$ and $M_y(x,y)$ to be constant on each rectangular element in the mesh; \n",
    "2. in case of linear magnetization: assume both $M_x(x,y)$ and $M_y(x,y)$ to be expanded in a tensor product basis of linear basis element (aka Q1 finite elements, need to include a reference here); "
   ]
  },
  {
   "cell_type": "code",
   "execution_count": null,
   "id": "63cb9e32",
   "metadata": {},
   "outputs": [],
   "source": [
    "?ForwardDiff.derivative"
   ]
  },
  {
   "cell_type": "code",
   "execution_count": null,
   "id": "568cc2fd",
   "metadata": {},
   "outputs": [],
   "source": [
    "# generate the mesh  with N elements (intervals) and N+1 nodes\n",
    "N = 3; h = 1/N; Np1 = N+1; \n",
    "xmesh = [ [(i-1)*h, (j-1)*h] for i=1:Np1, j=1:Np1]\n",
    "\n",
    "# set the magnetization coefficients  \n",
    "m = ones(Np1,Np1) \n",
    "\n",
    "# define integration kernel with two inputs  \n",
    "epsilon = 0.01 \n",
    "kernel(x,xp) = (x-xp)/(norm(x - xp)^3+epsilon)  \n",
    "\n",
    "vparray = Array{Function}(undef, N, N)\n",
    "for k=1:N\n",
    "   for l=1:N \n",
    "      lb = (xmesh[k],xmesh[l])\n",
    "      ub = (xmesh[k+1],xmesh[l+1])\n",
    "      vparray[k,l] = (x,m,xmesh) -> hcubature(xp -> m[k,l]*kernel(x,xp), lb, ub)[1]\n",
    "   end \n",
    "end \n",
    "\n",
    "# compute bflux as x-derivative over all elements of vparray \n",
    "# observe syntax used to define an array of functions\n",
    "bxfluxarray = Array{Function}(undef, N, N) \n",
    "byfluxarray = Array{Function}(undef, N, N) \n",
    "for k=1:N\n",
    "   for l=1:N     \n",
    "     bxfluxarray[k,l] = (x,m,xmesh) -> ForwardDiff.derivative(x -> vparray[k](x,m,xmesh)[1],x)\n",
    "     byfluxarray[k,l] = (x,m,xmesh) -> ForwardDiff.derivative(x -> vparray[k](x,m,xmesh)[1],y)\n",
    "    end \n",
    "end "
   ]
  },
  {
   "cell_type": "code",
   "execution_count": null,
   "id": "8a78acf2",
   "metadata": {},
   "outputs": [],
   "source": []
  },
  {
   "cell_type": "markdown",
   "id": "23d4a990",
   "metadata": {},
   "source": [
    " <b>Potential Gains</b> We perceive the following gains \n",
    "1. allow automatic differentiation to perform half the work. We can thus focus on the remaining part of the work. (do we need to pay a price (toll) later? We need to ensure that in performing the integral computation over xprime, the result remains differentiable wrt x); \n",
    "2. preserve order of computations as the math reads, i.e., first integration of the source domain, then differentiate in the destination variables. Code thus easier to read and maintain?;\n",
    "3. avoid differentiating the integral, thus avoid increasing the singularity of the integrand? \n",
    "4. avoid splitting integral as a sum of multiple integrals (and thus simplify the overall bookkeeping); \n",
    "5. avoid replacing volume integrals $dx'\\,dy'\\,dz'$ over elements $e_k$ in the finite element mesh as sum of integrsals over faces of $e_k$ (how to compute singular integrals over tetrahedra?); \n",
    "6. allow for more general basis functions; \n",
    "7. extend to non-linear constitutive relations (as similar ideas apply);   \n",
    "8. show-case distinct use of multiple dispatch allowing to compose two Julia packages (cfr. earlier case of combined used of interval arithmetic and ODE solver by Chris Raukaucas);  \n",
    "\n",
    "<b>Assumptions Made</b> We assume (falsily?) that \n",
    "1. the eventual computational overhead of adaptive quadrature (for singular intregrals on tetrahedra) can be amortized by thread-parallel computations (as shown earlier by the heroin in this project);\n",
    "2. residual weighting of the MoM equations (weak or variational formulations) occurs using Dirac delta (pulse) functions (distribution). Residual weighting thus reduces to point matching;\n",
    "3. adaptive quadrature carries over from 1D (only x) to 2D (xy) and 3D (xyz); \n",
    "\n",
    "<b>One-Dimensional Case</b> <b>What is the good kernel to use?</b> In one spatial dimension ($x$-only), the vector valued problem reduces to a scalar problem. Given the magnitization vector $\\vec{M}(\\vec{x}) = (0,0,M_z(x))$, we wish to compute (confusing noation: rectify by specifying what $\\Omega$ and $\\Omega_m$ are)\n",
    "1. the magnetic vector potential $\\vec{A}(\\vec{x}) = (0,A_y(x),0)$ where \n",
    "$A_y(x) = \\frac{\\mu_0}{4 \\pi} \\int_a^b \\frac{M_z(x') \\, (x-x')}{|x-x'|^3} \\, dx'$ using quadrature implemented in QuadGK.jl; \n",
    "2. the magnetic flux $\\vec{B}(\\vec{x}) = (0,0,B_z(x))$ where $B_z(x) = - \\frac{\\partial A_y(x)}{\\partial x}$ using automatic differentiation implemented in ForwardDiff.jl;  \n",
    "\n",
    "<b>Spatial Discretization of the One-Dimensional Case</b> Introduce computational mesh $\\Omega^h$ of $N$ elements $e_k = [x_k, x_{k+1}]$ and $N+1$ nodes $x_i$ on the domain of computation $\\Omega$. On $e_k$ linear nodal shape function $\\phi_i(x)$ can be defined. Express numerical approximation to $M_z(x)$ as $M^h_z(x) = \\sum_i m_i \\, \\phi_i(x)$. Denote $\\vec{m}$ the (N+1)-dimensional vector (one per node) of the mesh. Replacing $M_z(x)$ as $M^h_z(x)$ in the expression for $A_y(x)$ yields $A^h_y(x)$. The evaluation of $A^h_y(x)$ in the nodes $x_i$ yields a (N+1)-dimensional vector $\\vec{a}$. This vector depends on $\\vec{m}$. We thus write $\\vec{a}(\\vec{m})$. Given its importance in later discussions, we emphasize the point by formulating $\\vec{a}$ as a mapping from $R^{N+1}$ to $R^{N+1}$ mapping $\\vec{m}$ to $\\vec{a}(\\vec{m})$. A similar discourse holds for $B_z(x)$ by first differentiating $A^h_y(x)$ wrt to $x$ and then point-evaluation (order obviously matters here). We again obtain a mapping from $R^{N+1}$ to $R^{N+1}$ mapping $\\vec{m}$ this time to $\\vec{b}[\\vec{a}(\\vec{m})]$. The Jacobian of this mapping wrt $\\vec{m}$ is the much desired $(N+1)-by-(N+1)$ MoM matrix.   \n",
    "\n",
    "<b>Resulting Algorithm for a Forward Computation</b>\n",
    "\n",
    "1. Generate mesh of $\\Omega$\n",
    "2. Generate set basis functions \n",
    "3. (to be extended) \n",
    "\n",
    "<b>Two-Dimensional Perpendicular Magnetization Case</b> To be discussed.\n",
    "\n",
    "<b>Two-Dimensional In-Plane Magnetization Case</b> To be discussed.\n",
    "\n",
    "<b>Three-Dimensional Mesh Generation</b> To be discussed.\n",
    "1. integrate 6D integral with singular kernel using Curbature.jl; allow adaptive integration to do the heavy work. \n",
    "2. as above with task parallel implementation; \n",
    "3. as above with analytical computation of the inner 3D integral; \n",
    "\n",
    "<b>Spatial Discretization of the Three-Dimensional Case</b> To be discussed. \n",
    "\n",
    "<b>Reference on Quadrature in Julia</b>\n",
    "1. [QuadGK.jl](https://juliamath.github.io/QuadGK.jl/stable/) for adaptive quadrature (requires context on quadrature (adaptive and non-adaptive) on meshes in Julia - ask our heroin for first draft); \n",
    "2. [Integrals.jl](https://docs.sciml.ai/Integrals/stable/) a unified interface for the numerical approximation of integrals (quadrature) in Julia; \n",
    "3. [Cubature of singular integrand](https://discourse.julialang.org/t/cubature-of-singular-integrand/113003) \n",
    "4. [ForwardDiff.jl](https://juliadiff.org/ForwardDiff.jl/stable/) for automatic differentiation (requires context on automatic (forward mode and backward mode) differentiation in Julia - ask our heroin for first draft); \n",
    "5. [How-do-i-choose-between-quadgk-and-cubature-when-i-do-singular-integral-of-a-complex-valued-function](https://discourse.julialang.org/t/how-do-i-choose-between-quadgk-and-cubature-when-i-do-singular-integral-of-a-complex-valued-function/94198/1) (including link to interesting paper). The [paper](https://math.mit.edu/~stevenj/papers/ReidWhJo14.pdf).  \n",
    "6. [Cubature on non-rectangular domains](https://discourse.julialang.org/t/2d-integration-over-non-rectangular-domain-using-cubature/2991/6); Quote: In general, a 2d cubature code can be more efficient than nested 1d quadratures, assuming you are using adaptive quadrature/cubature. This is because the inner 1d integral, if it is performed as an independent 1d adaptive quadrature, can waste a lot of integrand evaluations trying to refine the 1d integral to high relative accuracy even if its overall contribution to the integral is small. End-quote. Quote: to integrate f(x,y) for x=0…t and y=0…x (i.e. a triangle), just do the change of variables y=ux and integrate f(x,u*x)*x for x=0…t , u=0…1 (note the Jacobian factor *x multiplying f). End-quote. \n",
    "\n",
    "<b>Reference to Automatic Differentiation in Julia</b>\n",
    "1. [ForwardDiff (Forward Mode AD)](https://juliadiff.org/ForwardDiff.jl/stable/) for automatic differentiation (requires context on automatic (forward mode and backward mode) differentiation in Julia - ask our heroin for first draft); \n",
    "2. [When Zygote (Reverse Mode AD) Meets Quadgk](https://discourse.julialang.org/t/when-zygote-jl-meets-quadgk-jl-mutating-arrays-is-not-supported-called-setindex-vector-quadgk-segment/84042) \n",
    "3. [AutodiffTutorial by G. Dalle](https://gdalle.github.io/AutodiffTutorial/)\n",
    "4. [How-do-i-choose-between-quadgk-and-cubature-when-i-do-singular-integral-of-a-complex-valued-function](https://discourse.julialang.org/t/how-do-i-choose-between-quadgk-and-cubature-when-i-do-singular-integral-of-a-complex-valued-function/94198/1) (including [link](https://math.mit.edu/~stevenj/papers/ReidWhJo14.pdf) to paper on Taylor-Duffy method for analytically handling the singularity of the integrand in the scuff-em library).  \n",
    "5. [Tutorials on differentiating_integrals](https://docs.sciml.ai/Integrals/stable/tutorials/differentiating_integrals/)\n",
    "6. [forwarddiff-hessian-with-staticarrays-unexpected-allocations-and-performance](https://discourse.julialang.org/t/forwarddiff-hessian-with-staticarrays-unexpected-allocations-and-performance/114082) \n",
    "\n",
    "<b>References to Related Tools in Julia</b>\n",
    "1. [Monte-Carlo Integration](https://numericaleft.github.io/NumericalEFT.jl/stable/readme/MCIntegration/): is this a good test for analytically handling the singularity? \n",
    "\n",
    "\n",
    "The magic resides in the multiple dispatch that allows to chain QuadGK.jl and ForwardDiff.jl.\n",
    "\n",
    "<b>Related Packages</b> \n",
    "\n",
    "- [Meshes.jl](https://juliageometry.github.io/MeshesDocs/stable/) and related Zulip channel; \n",
    "- [MeshIntegrals.jl](https://github.com/mikeingold/MeshIntegrals.jl) \n",
    "- [SingularIntegralEquations.jl](https://github.com/JuliaApproximation/SingularIntegralEquations.jl)\n",
    "\n",
    "\n",
    "\n",
    "<b>How to Procede from Here?</b>\n",
    "1. replace implementation that employ an array of function to code the basis function by common loop over elements; \n",
    "2. extend to 2D\n",
    "\n",
    "<b>References</b> (ask our heroin to expand) \n",
    "1. Book Roman Szewczyk (Springer LNEE 491 2018)\n",
    "2. Caorsi, Moreno and Sidoti, 1993: test case of block profile in Figure 4; \n",
    "\n",
    "<b>Notation</b> We use the following notation: \n",
    "- xp for xprime; \n",
    "- vpdens for vector potential density;\n",
    "- vp for vector potential; \n",
    "- $k$ and $ell$: outer loop over elements (k) and DOF per element (ell); \n",
    "- $m$ and $n$: outer loop over elements (m) and DOF per element (n); \n",
    "- i: loop over nodes; \n",
    "- C: matrix \n",
    "- A = I - chi / (mu_0 (1+chi)) C "
   ]
  },
  {
   "cell_type": "markdown",
   "id": "37fac845",
   "metadata": {},
   "source": [
    "## Section 2.1: Singular Integrals (sandbox)"
   ]
  },
  {
   "cell_type": "markdown",
   "id": "4b89a56c",
   "metadata": {},
   "source": [
    "The thing is that as long as r∉∂V, the integrand is a differentiable function, so standard refinement eventually works fine.\n",
    "\n",
    "But to make it even better, if Fi are the faces of the cube, for each i, you look for the r∗i∈Fi that is closest to r, this is where the almost singularity will be. Then divide the face in 4 sections, where r∗ is the point of intersection of this 4 sections. Now you have 4 integrals that they have almost-singularities in one corner.\n",
    "\n",
    "Replacing the volume integral over a cell by a set of surface integrals over the faces to allow a better grip on the singularity. Operations on 3D mesh thus required: \n",
    "1. retrieve faces belonging to a cell;\n",
    "2. subdivide a face;\n",
    "3. compute distance to nearest vertex; "
   ]
  },
  {
   "cell_type": "markdown",
   "id": "2c48f223",
   "metadata": {},
   "source": [
    "## Section 3.1: Linear Basis Functions (in progress)"
   ]
  },
  {
   "cell_type": "code",
   "execution_count": null,
   "id": "d17f2018",
   "metadata": {},
   "outputs": [],
   "source": []
  },
  {
   "cell_type": "code",
   "execution_count": null,
   "id": "b7e03036",
   "metadata": {},
   "outputs": [],
   "source": []
  },
  {
   "cell_type": "code",
   "execution_count": null,
   "id": "a54da901",
   "metadata": {},
   "outputs": [],
   "source": []
  },
  {
   "cell_type": "markdown",
   "id": "3ccd633b",
   "metadata": {},
   "source": [
    "## Section 2: QuadQK, HCurbature, ForwardDiff and Their Combined Use "
   ]
  },
  {
   "cell_type": "markdown",
   "id": "d8aa177c",
   "metadata": {},
   "source": [
    "### Section 1.2: Examples of Using QuadQK for Scalar Function  \n",
    "Small example of QuadQK. Singular integrals on purpose avoided (see next Section). Outputs integral value and error. Morer later (amount of function evaluations). "
   ]
  },
  {
   "cell_type": "code",
   "execution_count": null,
   "id": "dfad824e",
   "metadata": {},
   "outputs": [],
   "source": [
    "# define single input integrand\n",
    "integrand(x) = x^2 \n",
    "\n",
    "I = quadgk(x -> integrand(x), 0, 1)"
   ]
  },
  {
   "cell_type": "markdown",
   "id": "0559b738",
   "metadata": {},
   "source": [
    "### Section 2.2: Examples of Using HCubature for Scalar Function "
   ]
  },
  {
   "cell_type": "code",
   "execution_count": null,
   "id": "a3230a30",
   "metadata": {},
   "outputs": [],
   "source": [
    "# define single input integrand\n",
    "integrand(x) = x[1]^2 # observe that typing x^2 here does not work \n",
    "\n",
    "I = hcubature(x->integrand(x), (0.,), (1.,)) "
   ]
  },
  {
   "cell_type": "markdown",
   "id": "d3f8095f",
   "metadata": {},
   "source": [
    "### Section 3.2: Examples of Using HCubature for Vector-Valued Function\n",
    "Example found [here](https://stackoverflow.com/questions/77446561/integrating-with-hcubature-in-julia). "
   ]
  },
  {
   "cell_type": "code",
   "execution_count": null,
   "id": "8dd52068",
   "metadata": {},
   "outputs": [],
   "source": [
    "f(x,y,z) = x+y+z;"
   ]
  },
  {
   "cell_type": "markdown",
   "id": "bbd476a9",
   "metadata": {},
   "source": [
    "### Section 4.2: Nested QuadGK vs. HCubature"
   ]
  },
  {
   "cell_type": "code",
   "execution_count": null,
   "id": "9bddb1e2",
   "metadata": {},
   "outputs": [],
   "source": [
    "# integration over a unit square \n",
    "hcubature(r->f(r[1],r[2],0), (0,0), (1,1))"
   ]
  },
  {
   "cell_type": "code",
   "execution_count": null,
   "id": "f827d946",
   "metadata": {},
   "outputs": [],
   "source": [
    "h(x,y,z) = x+y "
   ]
  },
  {
   "cell_type": "code",
   "execution_count": null,
   "id": "f08f3815",
   "metadata": {},
   "outputs": [],
   "source": [
    "H(y) = quadgk(x -> h(x,y,0),0,1)[1]"
   ]
  },
  {
   "cell_type": "code",
   "execution_count": null,
   "id": "7bd7edb9",
   "metadata": {},
   "outputs": [],
   "source": [
    "H(.5)"
   ]
  },
  {
   "cell_type": "code",
   "execution_count": null,
   "id": "130fe1e3",
   "metadata": {},
   "outputs": [],
   "source": [
    "integral = quadgk(y ->H(y),0,1)[1]"
   ]
  },
  {
   "cell_type": "code",
   "execution_count": null,
   "id": "52fd0735",
   "metadata": {},
   "outputs": [],
   "source": [
    "# integration over a unit square \n",
    "hcubature(r->h(r[1],r[2],0), (0,0), (1,1))[1]"
   ]
  },
  {
   "cell_type": "markdown",
   "id": "1f36a808",
   "metadata": {},
   "source": [
    "### Section 5.2: Examples of ForwardDiff for Scalar Case \n",
    "Small examples of ForwardDiff. More later (Jacobian and preallocating memory for dense Jacobian). "
   ]
  },
  {
   "cell_type": "code",
   "execution_count": null,
   "id": "d2171853",
   "metadata": {},
   "outputs": [],
   "source": [
    "ForwardDiff.derivative(x -> x^3, 1)"
   ]
  },
  {
   "cell_type": "markdown",
   "id": "32e04caa",
   "metadata": {},
   "source": [
    "### Section 6.2: Examples of ForwardDiff for Vector-Valued Case\n",
    "See this [notebook](./fem_matrix_assembly_using_ad.ipynb) for other examples. "
   ]
  },
  {
   "cell_type": "code",
   "execution_count": null,
   "id": "0a38fbbf",
   "metadata": {},
   "outputs": [],
   "source": [
    "function residual(m)\n",
    "    r = similar(m)\n",
    "    r[1] = m[1]\n",
    "    for i=2:length(m)-1\n",
    "        r[i] = -m[i-1] + 2*m[i] - m[i+1] \n",
    "    end \n",
    "    r[end] = m[end]\n",
    "    return r\n",
    "end"
   ]
  },
  {
   "cell_type": "code",
   "execution_count": null,
   "id": "082d3e49",
   "metadata": {},
   "outputs": [],
   "source": [
    "m = ones(5)\n",
    "r = residual(m)\n",
    "display(r)"
   ]
  },
  {
   "cell_type": "code",
   "execution_count": null,
   "id": "1817112b",
   "metadata": {},
   "outputs": [],
   "source": [
    "ForwardDiff.jacobian(residual, m) "
   ]
  },
  {
   "cell_type": "markdown",
   "id": "2a5fc944",
   "metadata": {},
   "source": [
    "### Section 7.2: Examples Involving Generic Functions "
   ]
  },
  {
   "cell_type": "code",
   "execution_count": null,
   "id": "472d33c7",
   "metadata": {},
   "outputs": [],
   "source": [
    "g = m->m.^4"
   ]
  },
  {
   "cell_type": "code",
   "execution_count": null,
   "id": "36d8fd2f",
   "metadata": {},
   "outputs": [],
   "source": [
    "m = ones(5)\n",
    "ForwardDiff.jacobian(g, m)"
   ]
  },
  {
   "cell_type": "code",
   "execution_count": null,
   "id": "bad6200a",
   "metadata": {},
   "outputs": [],
   "source": [
    "g = (m,n) -> m.*n # vector values output \n",
    "m = ones(5)\n",
    "n = 2*ones(5)\n",
    "h = m->g(m,n)\n",
    "ForwardDiff.jacobian(h, m)"
   ]
  },
  {
   "cell_type": "markdown",
   "id": "2069972b",
   "metadata": {},
   "source": [
    "### Section 8.2: Entire workflow on Complete Example "
   ]
  },
  {
   "cell_type": "code",
   "execution_count": null,
   "id": "c7d01393",
   "metadata": {},
   "outputs": [],
   "source": [
    "# define function in three variables \n",
    "# x: spatial variables: location of observation points \n",
    "# m: expansion coefficient of magnetization in basis functions \n",
    "# p: parameters: in practise the mesh parameters \n",
    "g = (x,m,p) -> (x.*m.^5).*p # vector values output \n",
    "# Step (1/2): fix x - do point matching\n",
    "# after point matching we are left with a function depending on m and p \n",
    "# this function is named h(m,p)\n",
    "x = ones(5)\n",
    "h = (m,p)->g(x,m,p)\n",
    "# Step (2/2): take the gradient wrt m to \n",
    "hgrad(m,p) = ForwardDiff.jacobian(m->h(m,p), m)"
   ]
  },
  {
   "cell_type": "code",
   "execution_count": null,
   "id": "7fd0b43a",
   "metadata": {},
   "outputs": [],
   "source": [
    "m = ones(5)\n",
    "p = ones(5)\n",
    "hgrad(m,p) "
   ]
  },
  {
   "cell_type": "markdown",
   "id": "4bca7007",
   "metadata": {},
   "source": [
    "### Section 9.2: Example of Derivate of an Integral \n",
    "Small example of derivative of an integral. More later. "
   ]
  },
  {
   "cell_type": "code",
   "execution_count": null,
   "id": "f719f2e8",
   "metadata": {},
   "outputs": [],
   "source": [
    "# define two input integrand (here p stands for prime)\n",
    "integrand(x,xp) = x[1] - xp[1]\n",
    "\n",
    "# compute integral by quadrature over second input - results in u(x) = x - 0.5\n",
    "# u(x) = quadgk(xp -> integrand(x,xp), 0, 1)\n",
    "u(x) = hcubature(xp -> integrand(x,xp), (0,), (1,))\n",
    "\n",
    "# compute derivative - should result in du/dx = 1\n",
    "ForwardDiff.derivative(x -> u(x)[1], 1)"
   ]
  },
  {
   "cell_type": "markdown",
   "id": "8fc948e3",
   "metadata": {},
   "source": [
    "## Section 3: QuadQK for Singular Integrals  \n",
    "The following example was constructed to illustrate difficulties with singular kernels. See [QuadQK.jl](https://juliamath.github.io/QuadGK.jl/stable/) for treating singular integrals.  "
   ]
  },
  {
   "cell_type": "markdown",
   "id": "44f95c64",
   "metadata": {},
   "source": [
    "### Section 1.3: Converging Improper Integral "
   ]
  },
  {
   "cell_type": "code",
   "execution_count": null,
   "id": "53634acb",
   "metadata": {},
   "outputs": [],
   "source": [
    "# define two input integrand\n",
    "integrand(x,xp) = (x-xp)/abs(x - xp)^1.5\n",
    "\n",
    "# compute integral by quadrature over second input\n",
    "u(x) = quadgk(xp -> integrand(x,xp), 0, 1)\n",
    "\n",
    "# compute derivative - should result in du/dx = 1\n",
    "ForwardDiff.derivative(x -> u(x)[1], 1)"
   ]
  },
  {
   "cell_type": "markdown",
   "id": "48cb6615",
   "metadata": {},
   "source": [
    "Please <b>observe</b> that in the previous cell the function $u(x)$ is <b>never</b> evaluated. This is particulary interesting, as we can evaluate $u(x)$ for $x$ such that $0 < x < 1$ (i.e. $x$ not coinciding with bounds of domain of integration, and integrand singular in the interior of the interval) (quadrature fails) and $x=1$ (i.e. $x$ coinciding with upper integration bound) (quadrature works).  "
   ]
  },
  {
   "cell_type": "code",
   "execution_count": null,
   "id": "51bd6d9f",
   "metadata": {},
   "outputs": [],
   "source": [
    "u(0.)"
   ]
  },
  {
   "cell_type": "code",
   "execution_count": null,
   "id": "51dfd407",
   "metadata": {},
   "outputs": [],
   "source": [
    "u(1)"
   ]
  },
  {
   "cell_type": "markdown",
   "id": "bf4b79a6",
   "metadata": {},
   "source": [
    "### Section 2.3: Diverging Improper Integral \n",
    "This subsection shows that the magic that the function quadqk() can perform remains limited. In case that the singularity is to strong, quadqk() is not able to resolve it, even in case that the point of singularity matches with the bound on the integration domain. Possibly looking into singularity extraction becomes of interest here. "
   ]
  },
  {
   "cell_type": "code",
   "execution_count": null,
   "id": "7d49b437",
   "metadata": {},
   "outputs": [],
   "source": [
    "?quadgk"
   ]
  },
  {
   "cell_type": "code",
   "execution_count": null,
   "id": "dd4084ed",
   "metadata": {},
   "outputs": [],
   "source": [
    "# define two input integrand\n",
    "function integrand(x)\n",
    "    # print the input value for xp allowing to understand \n",
    "    # in which locations adaptive integration evaluates the integrand \n",
    "    println(x)\n",
    "    return 1/x\n",
    "end \n",
    "\n",
    "# compute integral by quadrature over second input\n",
    "int = quadgk(x -> integrand(x), 0, 1;rtol=5e-1,atol=10,order=5)"
   ]
  },
  {
   "cell_type": "code",
   "execution_count": null,
   "id": "02ab3b12",
   "metadata": {},
   "outputs": [],
   "source": [
    "u(0)"
   ]
  },
  {
   "cell_type": "markdown",
   "id": "75a44541",
   "metadata": {},
   "source": [
    "## Section 4: Generation of Basis Functions on 1D Mesh "
   ]
  },
  {
   "cell_type": "markdown",
   "id": "fb2438f2",
   "metadata": {},
   "source": [
    "### Section 1.4: Generate Family of 1D Basis Hat Functions"
   ]
  },
  {
   "cell_type": "code",
   "execution_count": null,
   "id": "b9f4256d",
   "metadata": {},
   "outputs": [],
   "source": [
    "# generate basis function centered on node i \n",
    "function basisfct(x, xmesh, i)\n",
    "    Np1 = length(xmesh)\n",
    "    left = 0.\n",
    "    right = 0.  \n",
    "    if (i==1)\n",
    "        right_domain = (x>=xmesh[i])*(x<=xmesh[i+1])\n",
    "        right_value = (x-xmesh[i+1])/(xmesh[i]-xmesh[i+1])\n",
    "        right = right_value*right_domain        \n",
    "    end \n",
    "    if ((i>1)&&(i<Np1))\n",
    "        left_domain = (x>=xmesh[i-1])*(x<=xmesh[i])\n",
    "        left_value = (xmesh[i-1]-x)/(xmesh[i-1]-xmesh[i])\n",
    "        left = left_value*left_domain        \n",
    "        right_domain = (x>xmesh[i])*(x<=xmesh[i+1])\n",
    "        right_value = (x-xmesh[i+1])/(xmesh[i]-xmesh[i+1])\n",
    "        right = right_value*right_domain        \n",
    "    end \n",
    "    if (i==Np1)\n",
    "        left_domain = (x>=xmesh[i-1])*(x<=xmesh[i])\n",
    "        left_value = (xmesh[i-1]-x)/(xmesh[i-1]-xmesh[i])\n",
    "        left = left_value*left_domain\n",
    "    end \n",
    "    result = left+right\n",
    "    return result \n",
    "end \n",
    "\n",
    "# generate the mesh with N elements and Np1 nodes \n",
    "N = 5; h = 1/N; Np1 = N+1; \n",
    "xmesh = Vector(0:h:1)\n",
    "\n",
    "# generate plots \n",
    "xsampled = Vector(0:h/10:1);\n",
    "p1 = plot(xsampled,basisfct.(xsampled,Ref(xmesh),6))\n",
    "p2 = plot(xsampled,basisfct.(xsampled,Ref(xmesh),1) + (1)*basisfct.(xsampled,Ref(xmesh),4))\n",
    "plot(p1,p2,layout=(1,2))"
   ]
  },
  {
   "cell_type": "markdown",
   "id": "d85dac93",
   "metadata": {},
   "source": [
    "### Section 2.5: Expand Magnetization in Basis of Hat Functions"
   ]
  },
  {
   "cell_type": "code",
   "execution_count": null,
   "id": "36a8a8e1",
   "metadata": {},
   "outputs": [],
   "source": [
    "function magnetization(x,m,xmesh)\n",
    "    Np1 = length(xmesh)\n",
    "    result = 0. \n",
    "    for i=1:Np1 \n",
    "        result += m[i]*basisfct(x,xmesh,i)\n",
    "    end \n",
    "    return result  \n",
    "end \n",
    "\n",
    "# generate the mesh with N elements and Np1 nodes \n",
    "N = 5; h = 1/N; Np1 = N+1; \n",
    "xmesh = Vector(0:h:1)\n",
    "xsampled = Vector(0:h/2:1)\n",
    "\n",
    "# generate plots \n",
    "m = ones(length(xmesh)) \n",
    "m[2] = 2; m[4] = -3; \n",
    "magnsampled = magnetization.(xsampled,Ref(m),Ref(xmesh))\n",
    "plot(xsampled,magnsampled)\n",
    "#display(magnsampled)"
   ]
  },
  {
   "cell_type": "markdown",
   "id": "a51eeeff",
   "metadata": {},
   "source": [
    "## Section 5: Explicit (or Direct) Construction - Assume Magnetic Sources Known - Compute Magnetic Vector Potential A_y and Magnetic Flux B_z \n",
    "Here we assume that the magnetization is a given block profile. We compute the vector potential component and the magnetic flux component. Results in this section can be verified by solving the one-dimensional Poisson equation for the scalar magnetic vector potential ($\\phi_m$ such that $\\vec{H} = \\nabla \\phi_m$). This can easily be accomplished using a shooting method for the boundary value problem. Such a shooting method is implemented in DifferentialEquations.jl. See the EE4375 course for example. "
   ]
  },
  {
   "cell_type": "markdown",
   "id": "f87c1aca",
   "metadata": {},
   "source": [
    "### Section 1.5: Assume $M_z(x) = 1$ between $x=0.4$ and $x=0.6$: First Alternative \n",
    "This construction fails as quadgk is unable to treat the singular kernel without guidance. "
   ]
  },
  {
   "cell_type": "code",
   "execution_count": null,
   "id": "6a0db262",
   "metadata": {},
   "outputs": [],
   "source": [
    "# define two input integrand\n",
    "a = 0.4; b = 0.6; \n",
    "magnetization(x) = ((x>a)*(x<b))\n",
    "kernel(x,xp) = (x-xp)/abs(x - xp)^3\n",
    "vpdens(x,xp) = magnetization(xp)*kernel(x,xp)\n",
    "\n",
    "# compute integral by quadrature over second input \n",
    "# observe the integration bounds \n",
    "vp(x) = quadgk(xp -> vpdens(x,xp), 0, 1)\n",
    "\n",
    "# compute flux as x-derivative of potential  \n",
    "bflux(x) = ForwardDiff.derivative(x -> vp(x)[1])\n",
    "\n",
    "# generate plot \n",
    "N = 100; h = 1/N; \n",
    "xs = Vector(0:h:1)\n",
    "ms = magnetization.(xs)\n",
    "vps = vp.(xs)\n",
    "bfluxs = bflux.(xs)\n",
    "\n",
    "p1 = plot(xs, ms)\n",
    "p2 = plot(xs, vps)\n",
    "p3 = plot(xs, bfluxs)\n",
    "plot(p1,p2,p3,layout=(1,3))"
   ]
  },
  {
   "cell_type": "markdown",
   "id": "4bd42503",
   "metadata": {},
   "source": [
    "### Section 2.5: Assume $M_z(x) = 1$ between $x=0.4$ and $x=0.6$: Second Alternative\n",
    "Remark: results in this section are <b>very</b> sensitive to the kernel definition. Here we use as kernel definition \n",
    "$$ K(x,x') = \\frac{x-x'}{|x-x'|^{1.5}} $$\n",
    "(observe the exponent 1.5 in the denominatior) for the lousy argumemt that anything else does not work (at least yet). \n",
    "\n",
    "Guide quadgk in performing integration of singular kernel by divide-and-conquer. We apply a mesh on the interval $\\Omega = (0,1)$, perform integration on each element on the mesh and evaluate the integral on the nodes of the mesh. In this way we ensure that <b>singularity of integrand is always on the boundary of the integration domain</b>. \n",
    "\n",
    "We proceed in two steps. In the first step, we evaluate the vector potential component as a sum of contributions per element \n",
    "\n",
    "$A_y(x) = \\frac{\\mu_0}{4 \\pi} \\int_0^1 \\frac{M_z(x') \\, (x-x')}{|x-x'|^{1.5}} \\, dx' \n",
    "        = \\frac{\\mu_0}{4 \\pi} \\sum_{k=1}^{N} \\int_{x_k}^{x_{k+1}} \\frac{M_z(x') \\, (x-x')}{|x-x'|^{1.5}} \\, dx' \\, . $\n",
    "        \n",
    "This component is a function of $x$. In the second step, we evaluate $A_y(x)$ in the nodes of the mesh. "
   ]
  },
  {
   "cell_type": "code",
   "execution_count": null,
   "id": "19b032d8",
   "metadata": {},
   "outputs": [],
   "source": [
    "# generate the mesh with N elements (intervals) and N+1 nodes \n",
    "N = 99; h = 1/N; Np1 = N+1; \n",
    "# N = 1000; h = 1/N; Np1 = N+1; \n",
    "xmesh = Vector(0:h:1)\n",
    "\n",
    "# define two input integrand\n",
    "a = 0.4; b = 0.6; \n",
    "#a = 0.; b = 1.; \n",
    "magnetization(x) = ((x>=a)*(x<=b)) \n",
    "kernel(x,xp) = (x-xp)/abs(x - xp)^1.5 # works and yield nice plot \n",
    "vpdens(x,xp) = magnetization(xp)*kernel(x,xp)\n",
    " \n",
    "vparray = Array{Function}(undef, N)\n",
    "# compute integral by quadrature over second input over all elements [x_k, x_{k+1}]\n",
    "# observe syntax used to define an array of functions \n",
    "for k=1:N\n",
    "    vparray[k] = x -> quadgk(xp -> vpdens(x,xp), xmesh[k], xmesh[k+1])[1]\n",
    "end \n",
    "\n",
    "bfluxarray = Array{Function}(undef, N)\n",
    "# compute bflux as x-derivative over all elements of vparray \n",
    "# observe syntax used to define an array of functions \n",
    "for k=1:N\n",
    "  bfluxarray[k] = x -> ForwardDiff.derivative(x -> vparray[k](x)[1],x)\n",
    "end "
   ]
  },
  {
   "cell_type": "code",
   "execution_count": null,
   "id": "744394b9",
   "metadata": {
    "scrolled": false
   },
   "outputs": [],
   "source": [
    "plot(xmesh, magnetization.(xmesh),xaxis=\"x (m)\",yaxis=\"M_z(x)\",label=\"Prescribed Magnetization\")"
   ]
  },
  {
   "cell_type": "code",
   "execution_count": null,
   "id": "cf989b5c",
   "metadata": {},
   "outputs": [],
   "source": [
    "plot(xmesh,[vparray[k].(xmesh) for k=1:N],xaxis=\"x (m)\",yaxis=\"A_y(x)\",title=\"vp per element\")"
   ]
  },
  {
   "cell_type": "code",
   "execution_count": null,
   "id": "9054ddfb",
   "metadata": {},
   "outputs": [],
   "source": [
    "# evaluate vector potential as sum of contribution over N elements \n",
    "vparrayvec = sum([vparray[k].(xmesh) for k=1:N],dims=1)\n",
    "plot(xmesh,vparrayvec)"
   ]
  },
  {
   "cell_type": "code",
   "execution_count": null,
   "id": "bd459773",
   "metadata": {},
   "outputs": [],
   "source": [
    "bfluxarrayvec = sum([bfluxarray[k].(xmesh) for k=1:N],dims=1)\n",
    "plot(xmesh,bfluxarrayvec,xaxis=\"x (m)\",yaxis=\"B_z(x)\",title=\"magnetic flux component\")"
   ]
  },
  {
   "cell_type": "markdown",
   "id": "5b6555db",
   "metadata": {},
   "source": [
    "### Section 3.5: Magnitization Expanded in a Basis "
   ]
  },
  {
   "cell_type": "code",
   "execution_count": null,
   "id": "18d0f4b0",
   "metadata": {
    "scrolled": true
   },
   "outputs": [],
   "source": [
    "function magnetization(x,m,xmesh)\n",
    "    Np1 = length(xmesh)\n",
    "    result = 0. \n",
    "    for i=1:Np1 \n",
    "        result += m[i]*basisfct(x,xmesh,i)\n",
    "    end \n",
    "    return result  \n",
    "end "
   ]
  },
  {
   "cell_type": "code",
   "execution_count": null,
   "id": "6b0946a3",
   "metadata": {},
   "outputs": [],
   "source": [
    "# generate the mesh  with N elements (intervals) and N+1 nodes\n",
    "N = 100; h = 1/N; Np1 = N+1; \n",
    "xmesh = Vector(0:h:1)\n",
    "\n",
    "# set the magnetization coefficients  \n",
    "m = zeros(length(xmesh)) \n",
    "for i=div(N,4):3*div(N,4) m[i] = 1. end \n",
    "\n",
    "# define two input integrand\n",
    "kernel(x,xp) = (x-xp)/abs(x - xp)^1.5\n",
    "vpdens(x,xp,m,xmesh) = magnetization(xp,m,xmesh)*kernel(x,xp)\n",
    "\n",
    "# intermediate auxilary \n",
    "#vptest = (x,m,xmesh) -> quadgk(xp -> vpdens(x,xp,m,xmesh), xmesh[1], xmesh[2])[1]\n",
    "\n",
    "vparray = Array{Function}(undef, N)\n",
    "# compute integral by quadrature over second input over all elements [x_k, x_{k+1}]\n",
    "# observe syntax used to define an array of functions \n",
    "for k=1:N\n",
    "   vparray[k] = (x,m,xmesh) -> quadgk(xp -> vpdens(x,xp,m,xmesh), xmesh[k], xmesh[k+1])[1]\n",
    "end \n",
    "\n",
    "bfluxarray = Array{Function}(undef, N)\n",
    "# compute bflux as x-derivative over all elements of vparray \n",
    "# observe syntax used to define an array of functions \n",
    "for k=1:N\n",
    "  bfluxarray[k] = (x,m,xmesh) -> ForwardDiff.derivative(x -> vparray[k](x,m,xmesh)[1],x)\n",
    "end \n",
    "\n",
    "# sum over elements \n",
    "vp(x,m,xmesh) = sum([vparray[k](x,m,xmesh) for k=1:N])\n",
    "bflux(x,m,xmesh) = sum([bfluxarray[k](x,m,xmesh) for k=1:N])"
   ]
  },
  {
   "cell_type": "code",
   "execution_count": null,
   "id": "65ae2f8f",
   "metadata": {},
   "outputs": [],
   "source": [
    "bflux.(xmesh,Ref(m),Ref(xmesh)) ;"
   ]
  },
  {
   "cell_type": "code",
   "execution_count": null,
   "id": "e3dab2f1",
   "metadata": {},
   "outputs": [],
   "source": [
    "# fix first argument - define a trace function \n",
    "vpsampled = (m,xmesh) -> vptest.(xmesh,Ref(m),Ref(xmesh)) "
   ]
  },
  {
   "cell_type": "code",
   "execution_count": null,
   "id": "49dd579a",
   "metadata": {},
   "outputs": [],
   "source": [
    "# why ? \n",
    "vpsampled.(m,xmesh)"
   ]
  },
  {
   "cell_type": "code",
   "execution_count": null,
   "id": "ed9ac5f0",
   "metadata": {},
   "outputs": [],
   "source": []
  },
  {
   "cell_type": "code",
   "execution_count": null,
   "id": "463bf823",
   "metadata": {},
   "outputs": [],
   "source": []
  },
  {
   "cell_type": "code",
   "execution_count": null,
   "id": "8b59ee68",
   "metadata": {},
   "outputs": [],
   "source": [
    "bfluxsampled = (m,xmesh) -> bflux(xmesh,m,xmesh)"
   ]
  },
  {
   "cell_type": "code",
   "execution_count": null,
   "id": "77635adb",
   "metadata": {},
   "outputs": [],
   "source": [
    "bfluxsampled.(m,Ref(xmesh))"
   ]
  },
  {
   "cell_type": "code",
   "execution_count": null,
   "id": "dc409073",
   "metadata": {},
   "outputs": [],
   "source": [
    "bfluxgrad(m,xmesh) = ForwardDiff.jacobian(m->bfluxsampled(m,xmesh), m)"
   ]
  },
  {
   "cell_type": "code",
   "execution_count": null,
   "id": "f9759b7a",
   "metadata": {},
   "outputs": [],
   "source": [
    "bfluxgrad(m,xmesh)"
   ]
  },
  {
   "cell_type": "code",
   "execution_count": null,
   "id": "ea7064db",
   "metadata": {},
   "outputs": [],
   "source": [
    "# vparray[1].(xmesh,Ref(m),Ref(xmesh)) # works \n",
    "vparray[1].(Ref(xmesh),m,Ref(xmesh)) # fails - due to how QuadQK expects its inputs "
   ]
  },
  {
   "cell_type": "code",
   "execution_count": null,
   "id": "668c19d6",
   "metadata": {},
   "outputs": [],
   "source": [
    "magnsampled = magnetization.(xsampled,Ref(m),Ref(xmesh))\n",
    "plot(xsampled,magnsampled,xaxis=\"x (m)\",yaxis=\"M_z(x)\",label=\"Prescribed Magnetization\")"
   ]
  },
  {
   "cell_type": "code",
   "execution_count": null,
   "id": "e8c0a37f",
   "metadata": {},
   "outputs": [],
   "source": [
    "plot(xmesh,[vparray[k].(xmesh,Ref(m),Ref(xmesh)) for k=1:N],xaxis=\"x (m)\",yaxis=\"A_y(x)\",title=\"vp per element\")"
   ]
  },
  {
   "cell_type": "code",
   "execution_count": null,
   "id": "38d0d29f",
   "metadata": {},
   "outputs": [],
   "source": [
    "# evaluate vector potential as sum of contribution over N elements \n",
    "vparrayvec = sum([vparray[k].(xmesh,Ref(m),Ref(xmesh)) for k=1:N],dims=1)\n",
    "plot(xmesh,vparrayvec,xaxis=\"x (m)\",yaxis=\"A_y(x)\",title=\"vector potential component\")"
   ]
  },
  {
   "cell_type": "code",
   "execution_count": null,
   "id": "e157476f",
   "metadata": {},
   "outputs": [],
   "source": []
  },
  {
   "cell_type": "code",
   "execution_count": null,
   "id": "44a5f2b7",
   "metadata": {},
   "outputs": [],
   "source": [
    "bfluxarray[1](xmesh[1],m[1],xmesh[1])"
   ]
  },
  {
   "cell_type": "code",
   "execution_count": null,
   "id": "b0a1d8d3",
   "metadata": {},
   "outputs": [],
   "source": [
    "# evaluate magnetic flux as sum of contribution over N elements\n",
    "bfluxarrayvec = sum([bfluxarray[k].(xmesh,Ref(m),Ref(xmesh)) for k=1:N],dims=1)\n",
    "plot(xmesh,bfluxarrayvec,xaxis=\"x (m)\",yaxis=\"B_z(x)\",title=\"magnetic flux component\")"
   ]
  },
  {
   "cell_type": "markdown",
   "id": "961c7f6a",
   "metadata": {},
   "source": [
    "## Section 6: Implicit Construction: Magnetic Source Unknown - Vector Potential and Magnetic Flux Defined in Terms of Expansion of Numerical Approximation to Magnetization\n",
    "Creating a function mapping m to a vector-valued output is the <b>key</b> here. This function is the magnetic flux colllocated in the nodes of the mesh.  "
   ]
  },
  {
   "cell_type": "code",
   "execution_count": null,
   "id": "b5ff419f",
   "metadata": {},
   "outputs": [],
   "source": [
    "blabla = m->sum([bfluxarray[k](xmesh,m,xmesh) for k=1:N],dims=1)\n",
    "\n"
   ]
  },
  {
   "cell_type": "code",
   "execution_count": null,
   "id": "713bd5fb",
   "metadata": {},
   "outputs": [],
   "source": []
  },
  {
   "cell_type": "code",
   "execution_count": null,
   "id": "0c972691",
   "metadata": {},
   "outputs": [],
   "source": [
    "mm = ones(size(xmesh));"
   ]
  },
  {
   "cell_type": "code",
   "execution_count": null,
   "id": "2dbaff3d",
   "metadata": {},
   "outputs": [],
   "source": [
    "blabla(mm)"
   ]
  },
  {
   "cell_type": "code",
   "execution_count": null,
   "id": "256e3e29",
   "metadata": {},
   "outputs": [],
   "source": [
    "methods(bfluxarray[1])"
   ]
  },
  {
   "cell_type": "code",
   "execution_count": null,
   "id": "e6324055",
   "metadata": {},
   "outputs": [],
   "source": [
    "bfluxarray[1](0.1,0.1,0.1)"
   ]
  },
  {
   "cell_type": "code",
   "execution_count": null,
   "id": "d57c2774",
   "metadata": {},
   "outputs": [],
   "source": [
    "function bfluxarrayvec(m)\n",
    "    results = zeros(size(m))\n",
    "    N = length(m)-1 \n",
    "    for k=1:N \n",
    "       results +=  \n",
    "    end \n",
    "    return result\n",
    "    \n",
    "sum([bfluxarray[k].(xmesh,m,xmesh) for k=1:N],dims=1)"
   ]
  },
  {
   "cell_type": "code",
   "execution_count": null,
   "id": "92f1df33",
   "metadata": {},
   "outputs": [],
   "source": [
    "bfluxarrayvec2(mm)"
   ]
  },
  {
   "cell_type": "code",
   "execution_count": null,
   "id": "fda08ffd",
   "metadata": {},
   "outputs": [],
   "source": [
    "[bfluxarray[1](xi,mm,xi) for xi in xmesh]"
   ]
  },
  {
   "cell_type": "code",
   "execution_count": null,
   "id": "97f61b1e",
   "metadata": {},
   "outputs": [],
   "source": [
    "bfluxsamp(m) = sum([bfluxarray[k](xi,m,xi) for xi in xmesh for k=1:N])"
   ]
  },
  {
   "cell_type": "code",
   "execution_count": null,
   "id": "32a616d7",
   "metadata": {},
   "outputs": [],
   "source": [
    "# compute the Jacobian  \n",
    "mm = ones(size(xmesh))\n",
    "bfluxsamp(mm)\n",
    "##ForwardDiff.jacobian(bfluxsamp, mm) "
   ]
  },
  {
   "cell_type": "markdown",
   "id": "e201cc4c",
   "metadata": {},
   "source": [
    "## Section 7: Memory Allocation for Automatic Differentiation of Jacobian "
   ]
  },
  {
   "cell_type": "code",
   "execution_count": null,
   "id": "b12328b7",
   "metadata": {},
   "outputs": [],
   "source": [
    "M = @SVector([10.0, 0.0, 0.0])\n",
    "r = Vector([2.0, 1.0, 0.0]) \n",
    "y = Vector([0., 0., 0.])\n",
    "\n",
    "function f!(y, r, M)\n",
    "    y[1] = M * r[3]/norm(r)\n",
    "    y[2] = M * r[1]/norm(r)\n",
    "    y[3] = M * r[2]/norm(r)\n",
    "end\n",
    "\n",
    "function curl_of_function(f!, r)\n",
    "    out=zeros(3)\n",
    "    \n",
    "    config = ForwardDiff.JacobianConfig(f!, out, r, ForwardDiff.Chunk{3}())\n",
    "    Jac = Matrix{Float64}(undef, length(out), length(r))\n",
    "\n",
    "    ForwardDiff.jacobian!(Jac, f!, out, r, config)\n",
    "    curl_x = Jac[3,2] - Jac[2,3]\n",
    "    curl_y = Jac[1,3] - Jac[3,1]\n",
    "    curl_z = Jac[2,1] - Jac[1,2]\n",
    "    return @SVector[curl_x, curl_y, curl_z]\n",
    "end\n",
    "\n",
    "@btime curl_of_function(f!, [2.0, 1.0, 0.0])"
   ]
  },
  {
   "cell_type": "code",
   "execution_count": null,
   "id": "4f299c56",
   "metadata": {},
   "outputs": [],
   "source": [
    "y"
   ]
  },
  {
   "cell_type": "code",
   "execution_count": null,
   "id": "b0dd21e5",
   "metadata": {},
   "outputs": [],
   "source": [
    "f!(y,r,M)"
   ]
  },
  {
   "cell_type": "code",
   "execution_count": null,
   "id": "bc2e09a7",
   "metadata": {},
   "outputs": [],
   "source": [
    "function f(x,y,z, r)\n",
    "    r_prime = [x,y,z]\n",
    "    #r_prime = [x,y,z]\n",
    "    return (r - r_prime)/norm(r - r_prime)\n",
    "end"
   ]
  },
  {
   "cell_type": "code",
   "execution_count": null,
   "id": "00782466",
   "metadata": {},
   "outputs": [],
   "source": [
    "g(x,y,r) = quadgk(z -> f(x, y, z, r), 0, 1)[1]\n",
    "h(x, r) = quadgk(y -> g(x, y, r), 0, 1)[1]\n",
    "l(r) =  quadgk(x -> h(x, r), 0, 1)[1]"
   ]
  },
  {
   "cell_type": "code",
   "execution_count": null,
   "id": "a95a6f8e",
   "metadata": {},
   "outputs": [],
   "source": [
    "function curl_of_integral(f, r)\n",
    "\n",
    "    out=zeros(3)\n",
    "    \n",
    "    config = ForwardDiff.JacobianConfig(l_wrapper!, out, r, ForwardDiff.Chunk{1}())\n",
    "    Jac = Matrix{Float64}(undef, length(out), length(r))\n",
    "    \n",
    "    @btime ForwardDiff.jacobian!(l_wrapper!, r, $config)\n",
    "    \n",
    "    curl_x = Jac[3,2] - Jac[2,3]\n",
    "    curl_y = Jac[1,3] - Jac[3,1]\n",
    "    curl_z = Jac[2,1] - Jac[1,2]\n",
    "    \n",
    "    return [curl_x, curl_y, curl_z]\n",
    "end     "
   ]
  },
  {
   "cell_type": "code",
   "execution_count": null,
   "id": "e036417a",
   "metadata": {},
   "outputs": [],
   "source": [
    "curl_of_integral(f, [2.0, 1.0, 0.0])"
   ]
  },
  {
   "cell_type": "code",
   "execution_count": null,
   "id": "056dadce",
   "metadata": {},
   "outputs": [],
   "source": []
  }
 ],
 "metadata": {
  "kernelspec": {
   "display_name": "Julia 1.8.1",
   "language": "julia",
   "name": "julia-1.8"
  },
  "language_info": {
   "file_extension": ".jl",
   "mimetype": "application/julia",
   "name": "julia",
   "version": "1.8.1"
  }
 },
 "nbformat": 4,
 "nbformat_minor": 5
}
