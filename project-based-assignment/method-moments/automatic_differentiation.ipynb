{
 "cells": [
  {
   "cell_type": "markdown",
   "id": "202e9b31",
   "metadata": {},
   "source": [
    "# Constructing the Method of Moment Matrix\n",
    "# by Allowing Automatic Differentiation (ForwardDiff, Zygote, GTPSA or Otherwise)\n",
    "# to Operate Twice on Quadrature  (QuadGK, HCubature or Otherwise) Output "
   ]
  },
  {
   "cell_type": "markdown",
   "id": "6528034e",
   "metadata": {},
   "source": [
    "## Import Packages"
   ]
  },
  {
   "cell_type": "code",
   "execution_count": 1,
   "id": "92372490",
   "metadata": {},
   "outputs": [],
   "source": [
    "using ForwardDiff\n",
    "using QuadGK\n",
    "using HCubature \n",
    "using StaticArrays \n",
    "using LinearAlgebra\n",
    "using BenchmarkTools\n",
    "using Plots "
   ]
  },
  {
   "cell_type": "markdown",
   "id": "e6133516",
   "metadata": {},
   "source": [
    "## To do: \n",
    "Stress explicit and explicit constructions. \n",
    "\n",
    "## Section 1: Introduction \n",
    "<b>Motivation</b> We wish to generate the Method of Moment (MoM) matrix as the linear transformation matrix (sensitivity matrix, input-output matrix) mapping magnetization vector $\\vec{M}(\\vec{x})$ to the magnetic flux vector $\\vec{B}(\\vec{x})$ after spatial discretization (first discretize, then differentiate) (need to include magnetic field $\\vec{H}(\\vec{x})$). In the following, we make this idea more precise. \n",
    "\n",
    "Assume a 3D computational domain $\\vec{x} \\in \\Omega$ with a subset $\\Omega_M$ on with the magnetic sources are defined. In a continuous setting (i.e. prior to spatial discretization), the magnetic vector potential $\\vec{A}(\\vec{x})$ is a function of the magnetization vector $\\vec{M}(\\vec{x})$. A [Biot-Savart](https://en.wikipedia.org/wiki/Biot–Savart_law) type relation yields that \n",
    "$$\\vec{A}(\\vec{x}) = \\frac{\\mu_0}{4 \\pi} \\int_{\\Omega_m} \n",
    "                \\frac{\\vec{M}(\\vec{x}') \\times (\\vec{x}-\\vec{x}')}{|\\vec{x}-\\vec{x}'|^3} \\, d\\vec{x}' \\, = \\int_{\\Omega_m} \\vec{M}(\\vec{x}') \\times K(\\vec{x}, \\vec{x}') \\, d\\vec{x}' $$, where the kernel $K(\\vec{x}, \\vec{x}')$ is given by \n",
    "$$K(\\vec{x},\\vec{x}') = \\frac{\\mu_0}{4 \\pi}  \n",
    "                \\frac{(\\vec{x}-\\vec{x}')}{\\|\\vec{x}-\\vec{x}'\\|^3} = \n",
    "                \\frac{\\mu_0}{4 \\pi} \\nabla \\frac{1}{\\|\\vec{x}-\\vec{x}'\\|} \\, . $$              The magnetic flux $\\vec{B}(\\vec{x})$ is then obtained via \n",
    "$$ \\vec{B}(\\vec{x}) = \\nabla \\times \\vec{A}(\\vec{x}) \\, . $$\n",
    "The magnetic field $\\vec{H}(\\vec{x})$ can be obtain as $\\mu \\, \\vec{B}(\\vec{x})$ in the ferromagnetic region and from $\\mu \\, \\vec{B}(\\vec{x}) + \\vec{M}(\\vec{x})$ in the magnetic region.  \n",
    "\n",
    "A mesh $\\Omega^h$ on $\\Omega$ with $N$ nodes is defined. The numerical approximation to vector $\\vec{M}(\\vec{x})$ is expressed as a linear combination on shape function (or basis functions) as (three components of $\\vec{M}^h(\\vec{x}$ expressed in the same linear nodal first order Lagrange basis functions, the summation upper therefore denoted by $3N$)\n",
    "$$ \\vec{M}(\\vec{x}) \\thickapprox \\vec{M}^h(\\vec{x})= \\sum_{i=1}^{3N} m_i \\, \\phi_i(\\vec{x}) \\, .$$ \n",
    "Replacing $\\vec{M}(\\vec{x})$ by $\\vec{M}^h(\\vec{x})$ in the expression for $\\vec{A}(\\vec{x})$ yiels the numerical approximation $\\vec{A}^h(\\vec{x})$. Similarly, replacing $\\vec{A}(\\vec{x})$ by $\\vec{A}^h(\\vec{x})$ in the expression for $\\vec{B}(\\vec{x})$, yiels the numerical approximation $\\vec{B}^h(\\vec{x})$. Let $\\vec{m}$ denote the $3N$-vector of expansion coefficients of $\\vec{M}^h(\\vec{x})$ in the basis of $\\phi_i{(\\vec{x})}$ for $1 \\leq i \\leq N$ shape functions. Let $\\vec{a}$ and $\\vec{b}$ denote the $3N$-vectors obtained by point-matching the relationships that define them. Then clearly both $\\vec{a}$ and $\\vec{b}$ are vector-valued functions with $3N$ components that map $\\vec{m}$ to $\\vec{a}(\\vec{m})$ and $\\vec{b}(\\vec{m})$, respectively. We can thus write formally that $\\vec{a}: \\vec{m} \\in R^{3N} \\rightarrow \\vec{a}(\\vec{m}) \\in R^{3N}$ and  \n",
    "$\\vec{b}: \\vec{m} \\in R^{3N} \\rightarrow \\vec{b}(\\vec{m}) \\in R^{3N}$. The Jacobian of mapping \n",
    "$\\partial b_i / \\partial m_j$ is the MoM matrix. We wish to develop a procedure that compute this Jacobian by going through the following three steps: \n",
    "1. apply (adaptive) quadrature (including handling of singular integrals) to compute the mapping $\\vec{a}(\\vec{m})$, i.e., a vector function of $3N$ components $a_i$ that each depend on the $3N$ vector $\\vec{a}$. The quadrature on $\\Omega$ is carried out element-wise;\n",
    "2. compute $\\vec{b} = \\nabla \\times \\vec{a}(\\vec{x})$  \n",
    "3. apply automatic differentiation to differentiate (compute the Jacobian) the magnetic flux $\\vec{b}(\\vec{m}) = \\vec{b}(\\vec{a}(\\vec{m})))$ wrt to $\\vec{m}$ to obtain the MoM matrix;\n",
    "\n",
    "The above ideas are borrowed from non-linear FEM analysis is which the Jacobian is formed as the derivative of the residual vector w.r.t. the state vector. More details of both steps will be outlined below. These steps focuss on the <b>generation</b> MoM matrix. Solving of the linear system with the MoM will be discussed elsewhere.  "
   ]
  },
  {
   "cell_type": "markdown",
   "id": "2b564bad",
   "metadata": {},
   "source": [
    "### Section 1.1: Note on the use of Broadcast Within this Notebook \n",
    "We use Ref() to avoid broadcasr over variables. A small example follows.  "
   ]
  },
  {
   "cell_type": "code",
   "execution_count": 20,
   "id": "de0be18c",
   "metadata": {
    "scrolled": true
   },
   "outputs": [
    {
     "data": {
      "text/plain": [
       "2-element Vector{Float64}:\n",
       "  60.0\n",
       " 120.0"
      ]
     },
     "execution_count": 20,
     "metadata": {},
     "output_type": "execute_result"
    }
   ],
   "source": [
    "x = [10., 20.]\n",
    "p = [1.,2.,3.]\n",
    "\n",
    "foo(x,p) = sum(x*p)\n",
    "\n",
    "# below results in a dimension mismatch \n",
    "#foo.(x,p)\n",
    "\n",
    "foo.(x,Ref(p))"
   ]
  },
  {
   "cell_type": "markdown",
   "id": "d9239573",
   "metadata": {},
   "source": [
    "### Section 2.1: First Proof of Concept Using Non-Singular Integration Kernel \n",
    "Below we give a proof of concept of composing quadrature and automatic differentiation on a synthetic test case. This examples assummes a one-dimensional domain and uses smooth (harmless) integration kernel. This test case can be <b>verified</b> analytically by performing computations by hand or using a symbolic computing toolbox. More effort is required to treat singular kernels in three-dimensional computational domains (as required in MoM)."
   ]
  },
  {
   "cell_type": "code",
   "execution_count": 4,
   "id": "a14c9f81",
   "metadata": {},
   "outputs": [
    {
     "data": {
      "text/plain": [
       "2×2 Matrix{Float64}:\n",
       " 0.63662  3.77101e-17\n",
       " 0.63662  3.77101e-17"
      ]
     },
     "execution_count": 4,
     "metadata": {},
     "output_type": "execute_result"
    }
   ],
   "source": [
    "# define the magnetization\n",
    "# define the kernel of integration. Here p stands p for prime. \n",
    "# define the vector potential density as magnetization times kernel \n",
    "magnetization(x,m) = m[1]*sin(π*x[1])+m[2]*cos(π*x[1]) \n",
    "kernel(x,xp) = (x[1]-xp[1])\n",
    "vpdens(x,xp,m) = magnetization(xp,m)*kernel(x,xp)\n",
    "\n",
    "# define the vector potential (denoted by vp) by integrating in the integration variable xp \n",
    "# over the magnetization domain, here assumed to be domain from 0 to 1. \n",
    "vp(x,m) = quadgk(xp -> vpdens(x,xp,m), 0, 1)\n",
    "#vp(x,m) = hcubature(xp -> vpdens(x,xp,m), (0,), (1,))\n",
    "\n",
    "# define the magnetic flux as the partial derivative of the potential wrt x (keeping m fixed)\n",
    "bflux(x,m) = ForwardDiff.derivative(x -> vp(x,m)[1],x)\n",
    "\n",
    "## define the sampling points in x (space) and m (coefficients of the expansion on magnetization in the function basis) \n",
    "xx = [.25, .75]\n",
    "mm = [1., 2.]\n",
    "\n",
    "# collocate the field on the grid in x - do point matching \n",
    "# observe depency in m remains \n",
    "bfluxsamp(m) = [bflux(xi,m) for xi in xx]\n",
    "\n",
    "# compute the Jacobian\n",
    "# to do: preallocate memory of the Jacobian \n",
    "C = ForwardDiff.jacobian(bfluxsamp, mm)"
   ]
  },
  {
   "cell_type": "markdown",
   "id": "2d890383",
   "metadata": {},
   "source": [
    "### Section 2.1: Second Proof of Concept - Classical FEM \n",
    "The concept of using automatic differentiaton to derive the residual vector to obtain the Jacobian matrix is often used in classical finite element methods (required a citation). We therefore give [in this notebook](./fem_matrix_assembly_using_ad.ipynb) a proof of concept for one-dimensional finite element methods.  "
   ]
  },
  {
   "cell_type": "markdown",
   "id": "df82da35",
   "metadata": {},
   "source": [
    "### Section 3.1: Third Proof of Concept - Cheating to Allow Verification using Symbolic Computations\n",
    "One-dimensional test case assuming $0 < x < 1$. Assuming a singular kernel of integration that allows for verification using symbolic computations. To allow for symbolic computations, we \n",
    "1. replace $|x-xp|$ by merely $x-xp$ (thus omitting $|\\cdot|$); \n",
    "2. assume exponent $1/2$ in the denominator of the kernel (thus replacing $3/2$ by a smaller exponent);\n",
    "3. evaluate quantities outside of the interval $0 < x < 1$ (thus avoiding thje evaluation of singular integrals).  \n",
    "\n",
    "Assuming the magnetization to be <b>piece-wise constant</b> or constant over each element in the mesh. The number of degrees of freedom thus introduced is $N$ (as opposed to $N+1$). Integration is performed element-wise as $\\int_0^1 g(x) \\, dx = \\sum_{k=1}^N \\int_{x_k}^{x_{k+1}} g(x) \\, dx $. Both collocation (point-matching on the midpoint of the cell) and Galerkin (averaged formulation over the cell) are implemented.  \n",
    "\n",
    "Note on the <b>singularity</b> of the kernel of integration: \n",
    "1. it is non-trivial to introduce a representative one-dimensional test-case without artifically introducing complexities that are absent in the real application. The subsequent cell shows how increasing the dimension reduces the diffuculty of the numerical integration;\n",
    "2. below we regularize the kernel by introducing epsilon. We have observed a larger number of function evaluations for smaller values of epsilon; \n",
    "\n",
    "It remains <b>unclear</b> how the matrix obtained using collocation (aka point-matching) and Galerkin differ. A bit of analyasis helps here. Point-matching viewed as special case of averaging using single intergration point only. "
   ]
  },
  {
   "cell_type": "markdown",
   "id": "e2f0b970",
   "metadata": {},
   "source": [
    "#### Singular Integrand and Dimension of the Domain of Integration \n",
    "We provide an example showing how a singular integrand is easier to integrate in higher dimensions. Similar observations have been made in literature (requires citing Duffy and citing Carley). "
   ]
  },
  {
   "cell_type": "code",
   "execution_count": 5,
   "id": "3bc0fb21",
   "metadata": {},
   "outputs": [
    {
     "data": {
      "text/plain": [
       "(Inf, Inf)"
      ]
     },
     "execution_count": 5,
     "metadata": {},
     "output_type": "execute_result"
    }
   ],
   "source": [
    "# one-dimensional integration fails \n",
    "hcubature(x -> x[1]/norm(x)^3, (0,), (1,))"
   ]
  },
  {
   "cell_type": "code",
   "execution_count": 6,
   "id": "d0900817",
   "metadata": {},
   "outputs": [
    {
     "data": {
      "text/plain": [
       "(Inf, NaN)"
      ]
     },
     "execution_count": 6,
     "metadata": {},
     "output_type": "execute_result"
    }
   ],
   "source": [
    "# two-dimensional integration fails - the error message, however, differs. \n",
    "# we still need to understand why the error message differs \n",
    "hcubature(x -> x[1]/norm(x)^3, (0,0), (1,1))"
   ]
  },
  {
   "cell_type": "code",
   "execution_count": 7,
   "id": "990cb0c3",
   "metadata": {},
   "outputs": [
    {
     "data": {
      "text/plain": [
       "(0.9693880526621552, 1.4444861385160079e-8)"
      ]
     },
     "execution_count": 7,
     "metadata": {},
     "output_type": "execute_result"
    }
   ],
   "source": [
    "# three-dimensional integration works - a reference answer is still to be computed \n",
    "hcubature(x -> x[1]/norm(x)^3, (0,0,0), (1,1,1))"
   ]
  },
  {
   "cell_type": "markdown",
   "id": "67734b56",
   "metadata": {},
   "source": [
    "#### Larger Polynomial Degree in the Numerator Eases Integration \n",
    "We providing an example showing that larger polynomial degree renders integration easier to perform. "
   ]
  },
  {
   "cell_type": "code",
   "execution_count": 8,
   "id": "84baa68d",
   "metadata": {},
   "outputs": [
    {
     "data": {
      "text/plain": [
       "(1.0, 0.0)"
      ]
     },
     "execution_count": 8,
     "metadata": {},
     "output_type": "execute_result"
    }
   ],
   "source": [
    "hcubature(x -> x[1]^3/norm(x)^3, (0,), (1,))"
   ]
  },
  {
   "cell_type": "markdown",
   "id": "d6d96bbd",
   "metadata": {},
   "source": [
    "#### Integration of kernel times magnetization over the magnetization domain in single pass\n",
    "Here we show that integration of a singular kernel over the magnetization domain $0<x<1$ in a single pass (i.e. without the use of a mesh, <b>single call</b> of the function quadgk() with domain of integration $0<x<1$) potentially results in runtime errors. In case that $x = xp$, singularities are introduced in the interior of the domain of integration. \n",
    "\n",
    "We explore the use of <b>broadcast</b> to perform integration in all mesh points. We compare broadcast with an explicit for-loop.  "
   ]
  },
  {
   "cell_type": "code",
   "execution_count": 9,
   "id": "8d87ca6c",
   "metadata": {},
   "outputs": [
    {
     "data": {
      "image/svg+xml": [
       "<?xml version=\"1.0\" encoding=\"utf-8\"?>\n",
       "<svg xmlns=\"http://www.w3.org/2000/svg\" xmlns:xlink=\"http://www.w3.org/1999/xlink\" width=\"600\" height=\"400\" viewBox=\"0 0 2400 1600\">\n",
       "<defs>\n",
       "  <clipPath id=\"clip590\">\n",
       "    <rect x=\"0\" y=\"0\" width=\"2400\" height=\"1600\"/>\n",
       "  </clipPath>\n",
       "</defs>\n",
       "<path clip-path=\"url(#clip590)\" d=\"M0 1600 L2400 1600 L2400 0 L0 0  Z\" fill=\"#ffffff\" fill-rule=\"evenodd\" fill-opacity=\"1\"/>\n",
       "<defs>\n",
       "  <clipPath id=\"clip591\">\n",
       "    <rect x=\"480\" y=\"0\" width=\"1681\" height=\"1600\"/>\n",
       "  </clipPath>\n",
       "</defs>\n",
       "<path clip-path=\"url(#clip590)\" d=\"M250.028 623.18 L1134.09 623.18 L1134.09 47.2441 L250.028 47.2441  Z\" fill=\"#ffffff\" fill-rule=\"evenodd\" fill-opacity=\"1\"/>\n",
       "<defs>\n",
       "  <clipPath id=\"clip592\">\n",
       "    <rect x=\"250\" y=\"47\" width=\"885\" height=\"577\"/>\n",
       "  </clipPath>\n",
       "</defs>\n",
       "<polyline clip-path=\"url(#clip592)\" style=\"stroke:#000000; stroke-linecap:round; stroke-linejoin:round; stroke-width:2; stroke-opacity:0.1; fill:none\" points=\"275.049,623.18 275.049,47.2441 \"/>\n",
       "<polyline clip-path=\"url(#clip592)\" style=\"stroke:#000000; stroke-linecap:round; stroke-linejoin:round; stroke-width:2; stroke-opacity:0.1; fill:none\" points=\"483.553,623.18 483.553,47.2441 \"/>\n",
       "<polyline clip-path=\"url(#clip592)\" style=\"stroke:#000000; stroke-linecap:round; stroke-linejoin:round; stroke-width:2; stroke-opacity:0.1; fill:none\" points=\"692.058,623.18 692.058,47.2441 \"/>\n",
       "<polyline clip-path=\"url(#clip592)\" style=\"stroke:#000000; stroke-linecap:round; stroke-linejoin:round; stroke-width:2; stroke-opacity:0.1; fill:none\" points=\"900.562,623.18 900.562,47.2441 \"/>\n",
       "<polyline clip-path=\"url(#clip592)\" style=\"stroke:#000000; stroke-linecap:round; stroke-linejoin:round; stroke-width:2; stroke-opacity:0.1; fill:none\" points=\"1109.07,623.18 1109.07,47.2441 \"/>\n",
       "<polyline clip-path=\"url(#clip590)\" style=\"stroke:#000000; stroke-linecap:round; stroke-linejoin:round; stroke-width:4; stroke-opacity:1; fill:none\" points=\"250.028,623.18 1134.09,623.18 \"/>\n",
       "<polyline clip-path=\"url(#clip590)\" style=\"stroke:#000000; stroke-linecap:round; stroke-linejoin:round; stroke-width:4; stroke-opacity:1; fill:none\" points=\"275.049,623.18 275.049,604.282 \"/>\n",
       "<polyline clip-path=\"url(#clip590)\" style=\"stroke:#000000; stroke-linecap:round; stroke-linejoin:round; stroke-width:4; stroke-opacity:1; fill:none\" points=\"483.553,623.18 483.553,604.282 \"/>\n",
       "<polyline clip-path=\"url(#clip590)\" style=\"stroke:#000000; stroke-linecap:round; stroke-linejoin:round; stroke-width:4; stroke-opacity:1; fill:none\" points=\"692.058,623.18 692.058,604.282 \"/>\n",
       "<polyline clip-path=\"url(#clip590)\" style=\"stroke:#000000; stroke-linecap:round; stroke-linejoin:round; stroke-width:4; stroke-opacity:1; fill:none\" points=\"900.562,623.18 900.562,604.282 \"/>\n",
       "<polyline clip-path=\"url(#clip590)\" style=\"stroke:#000000; stroke-linecap:round; stroke-linejoin:round; stroke-width:4; stroke-opacity:1; fill:none\" points=\"1109.07,623.18 1109.07,604.282 \"/>\n",
       "<path clip-path=\"url(#clip590)\" d=\"M231.206 681.645 L247.526 681.645 L247.526 685.58 L225.581 685.58 L225.581 681.645 Q228.243 678.89 232.827 674.26 Q237.433 669.608 238.614 668.265 Q240.859 665.742 241.739 664.006 Q242.641 662.247 242.641 660.557 Q242.641 657.802 240.697 656.066 Q238.776 654.33 235.674 654.33 Q233.475 654.33 231.021 655.094 Q228.591 655.858 225.813 657.409 L225.813 652.687 Q228.637 651.552 231.091 650.974 Q233.544 650.395 235.581 650.395 Q240.952 650.395 244.146 653.08 Q247.34 655.765 247.34 660.256 Q247.34 662.386 246.53 664.307 Q245.743 666.205 243.637 668.798 Q243.058 669.469 239.956 672.686 Q236.854 675.881 231.206 681.645 Z\" fill=\"#000000\" fill-rule=\"nonzero\" fill-opacity=\"1\" /><path clip-path=\"url(#clip590)\" d=\"M257.34 679.7 L262.225 679.7 L262.225 685.58 L257.34 685.58 L257.34 679.7 Z\" fill=\"#000000\" fill-rule=\"nonzero\" fill-opacity=\"1\" /><path clip-path=\"url(#clip590)\" d=\"M282.41 654.099 Q278.799 654.099 276.97 657.663 Q275.164 661.205 275.164 668.335 Q275.164 675.441 276.97 679.006 Q278.799 682.547 282.41 682.547 Q286.044 682.547 287.85 679.006 Q289.678 675.441 289.678 668.335 Q289.678 661.205 287.85 657.663 Q286.044 654.099 282.41 654.099 M282.41 650.395 Q288.22 650.395 291.275 655.001 Q294.354 659.585 294.354 668.335 Q294.354 677.061 291.275 681.668 Q288.22 686.251 282.41 686.251 Q276.6 686.251 273.521 681.668 Q270.465 677.061 270.465 668.335 Q270.465 659.585 273.521 655.001 Q276.6 650.395 282.41 650.395 Z\" fill=\"#000000\" fill-rule=\"nonzero\" fill-opacity=\"1\" /><path clip-path=\"url(#clip590)\" d=\"M312.572 654.099 Q308.961 654.099 307.132 657.663 Q305.326 661.205 305.326 668.335 Q305.326 675.441 307.132 679.006 Q308.961 682.547 312.572 682.547 Q316.206 682.547 318.011 679.006 Q319.84 675.441 319.84 668.335 Q319.84 661.205 318.011 657.663 Q316.206 654.099 312.572 654.099 M312.572 650.395 Q318.382 650.395 321.437 655.001 Q324.516 659.585 324.516 668.335 Q324.516 677.061 321.437 681.668 Q318.382 686.251 312.572 686.251 Q306.761 686.251 303.683 681.668 Q300.627 677.061 300.627 668.335 Q300.627 659.585 303.683 655.001 Q306.761 650.395 312.572 650.395 Z\" fill=\"#000000\" fill-rule=\"nonzero\" fill-opacity=\"1\" /><path clip-path=\"url(#clip590)\" d=\"M440.208 681.645 L456.528 681.645 L456.528 685.58 L434.583 685.58 L434.583 681.645 Q437.246 678.89 441.829 674.26 Q446.435 669.608 447.616 668.265 Q449.861 665.742 450.741 664.006 Q451.644 662.247 451.644 660.557 Q451.644 657.802 449.699 656.066 Q447.778 654.33 444.676 654.33 Q442.477 654.33 440.023 655.094 Q437.593 655.858 434.815 657.409 L434.815 652.687 Q437.639 651.552 440.093 650.974 Q442.546 650.395 444.583 650.395 Q449.954 650.395 453.148 653.08 Q456.343 655.765 456.343 660.256 Q456.343 662.386 455.532 664.307 Q454.745 666.205 452.639 668.798 Q452.06 669.469 448.958 672.686 Q445.857 675.881 440.208 681.645 Z\" fill=\"#000000\" fill-rule=\"nonzero\" fill-opacity=\"1\" /><path clip-path=\"url(#clip590)\" d=\"M466.343 679.7 L471.227 679.7 L471.227 685.58 L466.343 685.58 L466.343 679.7 Z\" fill=\"#000000\" fill-rule=\"nonzero\" fill-opacity=\"1\" /><path clip-path=\"url(#clip590)\" d=\"M485.44 681.645 L501.759 681.645 L501.759 685.58 L479.815 685.58 L479.815 681.645 Q482.477 678.89 487.06 674.26 Q491.667 669.608 492.847 668.265 Q495.092 665.742 495.972 664.006 Q496.875 662.247 496.875 660.557 Q496.875 657.802 494.93 656.066 Q493.009 654.33 489.907 654.33 Q487.708 654.33 485.255 655.094 Q482.824 655.858 480.046 657.409 L480.046 652.687 Q482.87 651.552 485.324 650.974 Q487.778 650.395 489.815 650.395 Q495.185 650.395 498.379 653.08 Q501.574 655.765 501.574 660.256 Q501.574 662.386 500.764 664.307 Q499.977 666.205 497.87 668.798 Q497.291 669.469 494.19 672.686 Q491.088 675.881 485.44 681.645 Z\" fill=\"#000000\" fill-rule=\"nonzero\" fill-opacity=\"1\" /><path clip-path=\"url(#clip590)\" d=\"M511.62 651.02 L529.976 651.02 L529.976 654.955 L515.902 654.955 L515.902 663.427 Q516.921 663.08 517.94 662.918 Q518.958 662.733 519.977 662.733 Q525.764 662.733 529.143 665.904 Q532.523 669.075 532.523 674.492 Q532.523 680.071 529.051 683.172 Q525.578 686.251 519.259 686.251 Q517.083 686.251 514.815 685.881 Q512.569 685.51 510.162 684.77 L510.162 680.071 Q512.245 681.205 514.467 681.76 Q516.69 682.316 519.166 682.316 Q523.171 682.316 525.509 680.21 Q527.847 678.103 527.847 674.492 Q527.847 670.881 525.509 668.774 Q523.171 666.668 519.166 666.668 Q517.291 666.668 515.416 667.085 Q513.565 667.501 511.62 668.381 L511.62 651.02 Z\" fill=\"#000000\" fill-rule=\"nonzero\" fill-opacity=\"1\" /><path clip-path=\"url(#clip590)\" d=\"M648.215 681.645 L664.535 681.645 L664.535 685.58 L642.59 685.58 L642.59 681.645 Q645.252 678.89 649.836 674.26 Q654.442 669.608 655.623 668.265 Q657.868 665.742 658.748 664.006 Q659.65 662.247 659.65 660.557 Q659.65 657.802 657.706 656.066 Q655.785 654.33 652.683 654.33 Q650.484 654.33 648.03 655.094 Q645.599 655.858 642.822 657.409 L642.822 652.687 Q645.646 651.552 648.099 650.974 Q650.553 650.395 652.59 650.395 Q657.961 650.395 661.155 653.08 Q664.349 655.765 664.349 660.256 Q664.349 662.386 663.539 664.307 Q662.752 666.205 660.646 668.798 Q660.067 669.469 656.965 672.686 Q653.863 675.881 648.215 681.645 Z\" fill=\"#000000\" fill-rule=\"nonzero\" fill-opacity=\"1\" /><path clip-path=\"url(#clip590)\" d=\"M674.349 679.7 L679.234 679.7 L679.234 685.58 L674.349 685.58 L674.349 679.7 Z\" fill=\"#000000\" fill-rule=\"nonzero\" fill-opacity=\"1\" /><path clip-path=\"url(#clip590)\" d=\"M689.465 651.02 L707.821 651.02 L707.821 654.955 L693.747 654.955 L693.747 663.427 Q694.766 663.08 695.784 662.918 Q696.803 662.733 697.821 662.733 Q703.608 662.733 706.988 665.904 Q710.368 669.075 710.368 674.492 Q710.368 680.071 706.895 683.172 Q703.423 686.251 697.104 686.251 Q694.928 686.251 692.659 685.881 Q690.414 685.51 688.007 684.77 L688.007 680.071 Q690.09 681.205 692.312 681.76 Q694.534 682.316 697.011 682.316 Q701.016 682.316 703.354 680.21 Q705.692 678.103 705.692 674.492 Q705.692 670.881 703.354 668.774 Q701.016 666.668 697.011 666.668 Q695.136 666.668 693.261 667.085 Q691.409 667.501 689.465 668.381 L689.465 651.02 Z\" fill=\"#000000\" fill-rule=\"nonzero\" fill-opacity=\"1\" /><path clip-path=\"url(#clip590)\" d=\"M729.581 654.099 Q725.969 654.099 724.141 657.663 Q722.335 661.205 722.335 668.335 Q722.335 675.441 724.141 679.006 Q725.969 682.547 729.581 682.547 Q733.215 682.547 735.02 679.006 Q736.849 675.441 736.849 668.335 Q736.849 661.205 735.02 657.663 Q733.215 654.099 729.581 654.099 M729.581 650.395 Q735.391 650.395 738.446 655.001 Q741.525 659.585 741.525 668.335 Q741.525 677.061 738.446 681.668 Q735.391 686.251 729.581 686.251 Q723.77 686.251 720.692 681.668 Q717.636 677.061 717.636 668.335 Q717.636 659.585 720.692 655.001 Q723.77 650.395 729.581 650.395 Z\" fill=\"#000000\" fill-rule=\"nonzero\" fill-opacity=\"1\" /><path clip-path=\"url(#clip590)\" d=\"M857.217 681.645 L873.537 681.645 L873.537 685.58 L851.592 685.58 L851.592 681.645 Q854.254 678.89 858.838 674.26 Q863.444 669.608 864.625 668.265 Q866.87 665.742 867.75 664.006 Q868.652 662.247 868.652 660.557 Q868.652 657.802 866.708 656.066 Q864.787 654.33 861.685 654.33 Q859.486 654.33 857.032 655.094 Q854.602 655.858 851.824 657.409 L851.824 652.687 Q854.648 651.552 857.102 650.974 Q859.555 650.395 861.592 650.395 Q866.963 650.395 870.157 653.08 Q873.352 655.765 873.352 660.256 Q873.352 662.386 872.541 664.307 Q871.754 666.205 869.648 668.798 Q869.069 669.469 865.967 672.686 Q862.865 675.881 857.217 681.645 Z\" fill=\"#000000\" fill-rule=\"nonzero\" fill-opacity=\"1\" /><path clip-path=\"url(#clip590)\" d=\"M883.351 679.7 L888.236 679.7 L888.236 685.58 L883.351 685.58 L883.351 679.7 Z\" fill=\"#000000\" fill-rule=\"nonzero\" fill-opacity=\"1\" /><path clip-path=\"url(#clip590)\" d=\"M897.24 651.02 L919.462 651.02 L919.462 653.011 L906.916 685.58 L902.032 685.58 L913.837 654.955 L897.24 654.955 L897.24 651.02 Z\" fill=\"#000000\" fill-rule=\"nonzero\" fill-opacity=\"1\" /><path clip-path=\"url(#clip590)\" d=\"M928.629 651.02 L946.985 651.02 L946.985 654.955 L932.911 654.955 L932.911 663.427 Q933.93 663.08 934.948 662.918 Q935.967 662.733 936.985 662.733 Q942.772 662.733 946.152 665.904 Q949.532 669.075 949.532 674.492 Q949.532 680.071 946.059 683.172 Q942.587 686.251 936.268 686.251 Q934.092 686.251 931.823 685.881 Q929.578 685.51 927.171 684.77 L927.171 680.071 Q929.254 681.205 931.476 681.76 Q933.698 682.316 936.175 682.316 Q940.18 682.316 942.518 680.21 Q944.856 678.103 944.856 674.492 Q944.856 670.881 942.518 668.774 Q940.18 666.668 936.175 666.668 Q934.3 666.668 932.425 667.085 Q930.573 667.501 928.629 668.381 L928.629 651.02 Z\" fill=\"#000000\" fill-rule=\"nonzero\" fill-opacity=\"1\" /><path clip-path=\"url(#clip590)\" d=\"M1075.29 666.946 Q1078.65 667.663 1080.52 669.932 Q1082.42 672.2 1082.42 675.534 Q1082.42 680.649 1078.9 683.45 Q1075.39 686.251 1068.9 686.251 Q1066.73 686.251 1064.41 685.811 Q1062.12 685.395 1059.67 684.538 L1059.67 680.024 Q1061.61 681.159 1063.93 681.737 Q1066.24 682.316 1068.77 682.316 Q1073.16 682.316 1075.46 680.58 Q1077.77 678.844 1077.77 675.534 Q1077.77 672.478 1075.62 670.765 Q1073.49 669.029 1069.67 669.029 L1065.64 669.029 L1065.64 665.186 L1069.85 665.186 Q1073.3 665.186 1075.13 663.821 Q1076.96 662.432 1076.96 659.839 Q1076.96 657.177 1075.06 655.765 Q1073.19 654.33 1069.67 654.33 Q1067.75 654.33 1065.55 654.747 Q1063.35 655.163 1060.71 656.043 L1060.71 651.876 Q1063.37 651.136 1065.69 650.765 Q1068.03 650.395 1070.09 650.395 Q1075.41 650.395 1078.51 652.825 Q1081.61 655.233 1081.61 659.353 Q1081.61 662.223 1079.97 664.214 Q1078.33 666.182 1075.29 666.946 Z\" fill=\"#000000\" fill-rule=\"nonzero\" fill-opacity=\"1\" /><path clip-path=\"url(#clip590)\" d=\"M1091.29 679.7 L1096.17 679.7 L1096.17 685.58 L1091.29 685.58 L1091.29 679.7 Z\" fill=\"#000000\" fill-rule=\"nonzero\" fill-opacity=\"1\" /><path clip-path=\"url(#clip590)\" d=\"M1116.36 654.099 Q1112.75 654.099 1110.92 657.663 Q1109.11 661.205 1109.11 668.335 Q1109.11 675.441 1110.92 679.006 Q1112.75 682.547 1116.36 682.547 Q1119.99 682.547 1121.8 679.006 Q1123.63 675.441 1123.63 668.335 Q1123.63 661.205 1121.8 657.663 Q1119.99 654.099 1116.36 654.099 M1116.36 650.395 Q1122.17 650.395 1125.22 655.001 Q1128.3 659.585 1128.3 668.335 Q1128.3 677.061 1125.22 681.668 Q1122.17 686.251 1116.36 686.251 Q1110.55 686.251 1107.47 681.668 Q1104.41 677.061 1104.41 668.335 Q1104.41 659.585 1107.47 655.001 Q1110.55 650.395 1116.36 650.395 Z\" fill=\"#000000\" fill-rule=\"nonzero\" fill-opacity=\"1\" /><path clip-path=\"url(#clip590)\" d=\"M1146.52 654.099 Q1142.91 654.099 1141.08 657.663 Q1139.27 661.205 1139.27 668.335 Q1139.27 675.441 1141.08 679.006 Q1142.91 682.547 1146.52 682.547 Q1150.15 682.547 1151.96 679.006 Q1153.79 675.441 1153.79 668.335 Q1153.79 661.205 1151.96 657.663 Q1150.15 654.099 1146.52 654.099 M1146.52 650.395 Q1152.33 650.395 1155.39 655.001 Q1158.46 659.585 1158.46 668.335 Q1158.46 677.061 1155.39 681.668 Q1152.33 686.251 1146.52 686.251 Q1140.71 686.251 1137.63 681.668 Q1134.58 677.061 1134.58 668.335 Q1134.58 659.585 1137.63 655.001 Q1140.71 650.395 1146.52 650.395 Z\" fill=\"#000000\" fill-rule=\"nonzero\" fill-opacity=\"1\" /><path clip-path=\"url(#clip590)\" d=\"M708.672 732.396 L695.782 749.742 L709.34 768.044 L702.434 768.044 L692.058 754.039 L681.681 768.044 L674.775 768.044 L688.62 749.392 L675.952 732.396 L682.859 732.396 L692.312 745.095 L701.765 732.396 L708.672 732.396 Z\" fill=\"#000000\" fill-rule=\"nonzero\" fill-opacity=\"1\" /><polyline clip-path=\"url(#clip592)\" style=\"stroke:#000000; stroke-linecap:round; stroke-linejoin:round; stroke-width:2; stroke-opacity:0.1; fill:none\" points=\"250.028,584.544 1134.09,584.544 \"/>\n",
       "<polyline clip-path=\"url(#clip592)\" style=\"stroke:#000000; stroke-linecap:round; stroke-linejoin:round; stroke-width:2; stroke-opacity:0.1; fill:none\" points=\"250.028,475.633 1134.09,475.633 \"/>\n",
       "<polyline clip-path=\"url(#clip592)\" style=\"stroke:#000000; stroke-linecap:round; stroke-linejoin:round; stroke-width:2; stroke-opacity:0.1; fill:none\" points=\"250.028,366.722 1134.09,366.722 \"/>\n",
       "<polyline clip-path=\"url(#clip592)\" style=\"stroke:#000000; stroke-linecap:round; stroke-linejoin:round; stroke-width:2; stroke-opacity:0.1; fill:none\" points=\"250.028,257.811 1134.09,257.811 \"/>\n",
       "<polyline clip-path=\"url(#clip592)\" style=\"stroke:#000000; stroke-linecap:round; stroke-linejoin:round; stroke-width:2; stroke-opacity:0.1; fill:none\" points=\"250.028,148.9 1134.09,148.9 \"/>\n",
       "<polyline clip-path=\"url(#clip590)\" style=\"stroke:#000000; stroke-linecap:round; stroke-linejoin:round; stroke-width:4; stroke-opacity:1; fill:none\" points=\"250.028,623.18 250.028,47.2441 \"/>\n",
       "<polyline clip-path=\"url(#clip590)\" style=\"stroke:#000000; stroke-linecap:round; stroke-linejoin:round; stroke-width:4; stroke-opacity:1; fill:none\" points=\"250.028,584.544 268.926,584.544 \"/>\n",
       "<polyline clip-path=\"url(#clip590)\" style=\"stroke:#000000; stroke-linecap:round; stroke-linejoin:round; stroke-width:4; stroke-opacity:1; fill:none\" points=\"250.028,475.633 268.926,475.633 \"/>\n",
       "<polyline clip-path=\"url(#clip590)\" style=\"stroke:#000000; stroke-linecap:round; stroke-linejoin:round; stroke-width:4; stroke-opacity:1; fill:none\" points=\"250.028,366.722 268.926,366.722 \"/>\n",
       "<polyline clip-path=\"url(#clip590)\" style=\"stroke:#000000; stroke-linecap:round; stroke-linejoin:round; stroke-width:4; stroke-opacity:1; fill:none\" points=\"250.028,257.811 268.926,257.811 \"/>\n",
       "<polyline clip-path=\"url(#clip590)\" style=\"stroke:#000000; stroke-linecap:round; stroke-linejoin:round; stroke-width:4; stroke-opacity:1; fill:none\" points=\"250.028,148.9 268.926,148.9 \"/>\n",
       "<path clip-path=\"url(#clip590)\" d=\"M126.205 570.343 Q122.593 570.343 120.765 573.908 Q118.959 577.449 118.959 584.579 Q118.959 591.685 120.765 595.25 Q122.593 598.792 126.205 598.792 Q129.839 598.792 131.644 595.25 Q133.473 591.685 133.473 584.579 Q133.473 577.449 131.644 573.908 Q129.839 570.343 126.205 570.343 M126.205 566.639 Q132.015 566.639 135.07 571.246 Q138.149 575.829 138.149 584.579 Q138.149 593.306 135.07 597.912 Q132.015 602.496 126.205 602.496 Q120.394 602.496 117.316 597.912 Q114.26 593.306 114.26 584.579 Q114.26 575.829 117.316 571.246 Q120.394 566.639 126.205 566.639 Z\" fill=\"#000000\" fill-rule=\"nonzero\" fill-opacity=\"1\" /><path clip-path=\"url(#clip590)\" d=\"M146.366 595.945 L151.251 595.945 L151.251 601.824 L146.366 601.824 L146.366 595.945 Z\" fill=\"#000000\" fill-rule=\"nonzero\" fill-opacity=\"1\" /><path clip-path=\"url(#clip590)\" d=\"M161.482 567.264 L179.839 567.264 L179.839 571.199 L165.765 571.199 L165.765 579.672 Q166.783 579.324 167.802 579.162 Q168.82 578.977 169.839 578.977 Q175.626 578.977 179.005 582.148 Q182.385 585.32 182.385 590.736 Q182.385 596.315 178.913 599.417 Q175.44 602.496 169.121 602.496 Q166.945 602.496 164.677 602.125 Q162.431 601.755 160.024 601.014 L160.024 596.315 Q162.107 597.449 164.329 598.005 Q166.552 598.56 169.028 598.56 Q173.033 598.56 175.371 596.454 Q177.709 594.347 177.709 590.736 Q177.709 587.125 175.371 585.019 Q173.033 582.912 169.028 582.912 Q167.153 582.912 165.278 583.329 Q163.427 583.746 161.482 584.625 L161.482 567.264 Z\" fill=\"#000000\" fill-rule=\"nonzero\" fill-opacity=\"1\" /><path clip-path=\"url(#clip590)\" d=\"M204.445 571.338 L192.639 589.787 L204.445 589.787 L204.445 571.338 M203.218 567.264 L209.098 567.264 L209.098 589.787 L214.028 589.787 L214.028 593.676 L209.098 593.676 L209.098 601.824 L204.445 601.824 L204.445 593.676 L188.843 593.676 L188.843 589.162 L203.218 567.264 Z\" fill=\"#000000\" fill-rule=\"nonzero\" fill-opacity=\"1\" /><path clip-path=\"url(#clip590)\" d=\"M126.529 461.432 Q122.918 461.432 121.089 464.997 Q119.283 468.538 119.283 475.668 Q119.283 482.774 121.089 486.339 Q122.918 489.881 126.529 489.881 Q130.163 489.881 131.968 486.339 Q133.797 482.774 133.797 475.668 Q133.797 468.538 131.968 464.997 Q130.163 461.432 126.529 461.432 M126.529 457.728 Q132.339 457.728 135.394 462.335 Q138.473 466.918 138.473 475.668 Q138.473 484.395 135.394 489.001 Q132.339 493.585 126.529 493.585 Q120.718 493.585 117.64 489.001 Q114.584 484.395 114.584 475.668 Q114.584 466.918 117.64 462.335 Q120.718 457.728 126.529 457.728 Z\" fill=\"#000000\" fill-rule=\"nonzero\" fill-opacity=\"1\" /><path clip-path=\"url(#clip590)\" d=\"M146.691 487.034 L151.575 487.034 L151.575 492.913 L146.691 492.913 L146.691 487.034 Z\" fill=\"#000000\" fill-rule=\"nonzero\" fill-opacity=\"1\" /><path clip-path=\"url(#clip590)\" d=\"M161.806 458.353 L180.163 458.353 L180.163 462.288 L166.089 462.288 L166.089 470.761 Q167.107 470.413 168.126 470.251 Q169.144 470.066 170.163 470.066 Q175.95 470.066 179.329 473.237 Q182.709 476.409 182.709 481.825 Q182.709 487.404 179.237 490.506 Q175.764 493.585 169.445 493.585 Q167.269 493.585 165.001 493.214 Q162.755 492.844 160.348 492.103 L160.348 487.404 Q162.431 488.538 164.653 489.094 Q166.876 489.649 169.352 489.649 Q173.357 489.649 175.695 487.543 Q178.033 485.436 178.033 481.825 Q178.033 478.214 175.695 476.108 Q173.357 474.001 169.352 474.001 Q167.477 474.001 165.602 474.418 Q163.751 474.835 161.806 475.714 L161.806 458.353 Z\" fill=\"#000000\" fill-rule=\"nonzero\" fill-opacity=\"1\" /><path clip-path=\"url(#clip590)\" d=\"M202.5 473.77 Q199.352 473.77 197.5 475.923 Q195.672 478.075 195.672 481.825 Q195.672 485.552 197.5 487.728 Q199.352 489.881 202.5 489.881 Q205.649 489.881 207.477 487.728 Q209.329 485.552 209.329 481.825 Q209.329 478.075 207.477 475.923 Q205.649 473.77 202.5 473.77 M211.783 459.117 L211.783 463.376 Q210.024 462.543 208.218 462.103 Q206.436 461.663 204.676 461.663 Q200.047 461.663 197.593 464.788 Q195.163 467.913 194.815 474.233 Q196.181 472.219 198.241 471.154 Q200.301 470.066 202.778 470.066 Q207.987 470.066 210.996 473.237 Q214.028 476.386 214.028 481.825 Q214.028 487.149 210.88 490.367 Q207.732 493.585 202.5 493.585 Q196.505 493.585 193.334 489.001 Q190.163 484.395 190.163 475.668 Q190.163 467.474 194.051 462.612 Q197.94 457.728 204.491 457.728 Q206.25 457.728 208.033 458.075 Q209.838 458.423 211.783 459.117 Z\" fill=\"#000000\" fill-rule=\"nonzero\" fill-opacity=\"1\" /><path clip-path=\"url(#clip590)\" d=\"M126.783 352.521 Q123.172 352.521 121.343 356.086 Q119.538 359.627 119.538 366.757 Q119.538 373.863 121.343 377.428 Q123.172 380.97 126.783 380.97 Q130.417 380.97 132.223 377.428 Q134.052 373.863 134.052 366.757 Q134.052 359.627 132.223 356.086 Q130.417 352.521 126.783 352.521 M126.783 348.817 Q132.593 348.817 135.649 353.424 Q138.728 358.007 138.728 366.757 Q138.728 375.484 135.649 380.09 Q132.593 384.674 126.783 384.674 Q120.973 384.674 117.894 380.09 Q114.839 375.484 114.839 366.757 Q114.839 358.007 117.894 353.424 Q120.973 348.817 126.783 348.817 Z\" fill=\"#000000\" fill-rule=\"nonzero\" fill-opacity=\"1\" /><path clip-path=\"url(#clip590)\" d=\"M146.945 378.123 L151.829 378.123 L151.829 384.002 L146.945 384.002 L146.945 378.123 Z\" fill=\"#000000\" fill-rule=\"nonzero\" fill-opacity=\"1\" /><path clip-path=\"url(#clip590)\" d=\"M162.061 349.442 L180.417 349.442 L180.417 353.377 L166.343 353.377 L166.343 361.85 Q167.362 361.502 168.38 361.34 Q169.399 361.155 170.417 361.155 Q176.204 361.155 179.584 364.326 Q182.963 367.498 182.963 372.914 Q182.963 378.493 179.491 381.595 Q176.019 384.674 169.7 384.674 Q167.524 384.674 165.255 384.303 Q163.01 383.933 160.603 383.192 L160.603 378.493 Q162.686 379.627 164.908 380.183 Q167.13 380.738 169.607 380.738 Q173.612 380.738 175.95 378.632 Q178.288 376.525 178.288 372.914 Q178.288 369.303 175.95 367.197 Q173.612 365.09 169.607 365.09 Q167.732 365.09 165.857 365.507 Q164.005 365.924 162.061 366.803 L162.061 349.442 Z\" fill=\"#000000\" fill-rule=\"nonzero\" fill-opacity=\"1\" /><path clip-path=\"url(#clip590)\" d=\"M202.176 367.59 Q198.843 367.59 196.922 369.373 Q195.024 371.155 195.024 374.28 Q195.024 377.405 196.922 379.188 Q198.843 380.97 202.176 380.97 Q205.51 380.97 207.431 379.188 Q209.352 377.382 209.352 374.28 Q209.352 371.155 207.431 369.373 Q205.533 367.59 202.176 367.59 M197.5 365.6 Q194.491 364.859 192.801 362.799 Q191.135 360.739 191.135 357.776 Q191.135 353.632 194.075 351.225 Q197.037 348.817 202.176 348.817 Q207.338 348.817 210.278 351.225 Q213.218 353.632 213.218 357.776 Q213.218 360.739 211.528 362.799 Q209.861 364.859 206.875 365.6 Q210.255 366.387 212.13 368.678 Q214.028 370.97 214.028 374.28 Q214.028 379.303 210.949 381.988 Q207.894 384.674 202.176 384.674 Q196.459 384.674 193.38 381.988 Q190.325 379.303 190.325 374.28 Q190.325 370.97 192.223 368.678 Q194.121 366.387 197.5 365.6 M195.787 358.215 Q195.787 360.901 197.454 362.405 Q199.144 363.91 202.176 363.91 Q205.186 363.91 206.875 362.405 Q208.588 360.901 208.588 358.215 Q208.588 355.53 206.875 354.026 Q205.186 352.521 202.176 352.521 Q199.144 352.521 197.454 354.026 Q195.787 355.53 195.787 358.215 Z\" fill=\"#000000\" fill-rule=\"nonzero\" fill-opacity=\"1\" /><path clip-path=\"url(#clip590)\" d=\"M126.691 243.61 Q123.08 243.61 121.251 247.175 Q119.445 250.716 119.445 257.846 Q119.445 264.952 121.251 268.517 Q123.08 272.059 126.691 272.059 Q130.325 272.059 132.13 268.517 Q133.959 264.952 133.959 257.846 Q133.959 250.716 132.13 247.175 Q130.325 243.61 126.691 243.61 M126.691 239.906 Q132.501 239.906 135.556 244.513 Q138.635 249.096 138.635 257.846 Q138.635 266.573 135.556 271.179 Q132.501 275.763 126.691 275.763 Q120.88 275.763 117.802 271.179 Q114.746 266.573 114.746 257.846 Q114.746 249.096 117.802 244.513 Q120.88 239.906 126.691 239.906 Z\" fill=\"#000000\" fill-rule=\"nonzero\" fill-opacity=\"1\" /><path clip-path=\"url(#clip590)\" d=\"M146.853 269.212 L151.737 269.212 L151.737 275.091 L146.853 275.091 L146.853 269.212 Z\" fill=\"#000000\" fill-rule=\"nonzero\" fill-opacity=\"1\" /><path clip-path=\"url(#clip590)\" d=\"M172.501 255.948 Q169.352 255.948 167.501 258.101 Q165.672 260.253 165.672 264.003 Q165.672 267.73 167.501 269.906 Q169.352 272.059 172.501 272.059 Q175.649 272.059 177.477 269.906 Q179.329 267.73 179.329 264.003 Q179.329 260.253 177.477 258.101 Q175.649 255.948 172.501 255.948 M181.783 241.295 L181.783 245.554 Q180.024 244.721 178.218 244.281 Q176.436 243.841 174.677 243.841 Q170.047 243.841 167.593 246.966 Q165.163 250.091 164.815 256.411 Q166.181 254.397 168.241 253.332 Q170.302 252.244 172.778 252.244 Q177.987 252.244 180.996 255.416 Q184.028 258.564 184.028 264.003 Q184.028 269.327 180.88 272.545 Q177.732 275.763 172.501 275.763 Q166.505 275.763 163.334 271.179 Q160.163 266.573 160.163 257.846 Q160.163 249.652 164.052 244.791 Q167.94 239.906 174.491 239.906 Q176.251 239.906 178.033 240.254 Q179.839 240.601 181.783 241.295 Z\" fill=\"#000000\" fill-rule=\"nonzero\" fill-opacity=\"1\" /><path clip-path=\"url(#clip590)\" d=\"M202.084 243.61 Q198.473 243.61 196.644 247.175 Q194.838 250.716 194.838 257.846 Q194.838 264.952 196.644 268.517 Q198.473 272.059 202.084 272.059 Q205.718 272.059 207.524 268.517 Q209.352 264.952 209.352 257.846 Q209.352 250.716 207.524 247.175 Q205.718 243.61 202.084 243.61 M202.084 239.906 Q207.894 239.906 210.949 244.513 Q214.028 249.096 214.028 257.846 Q214.028 266.573 210.949 271.179 Q207.894 275.763 202.084 275.763 Q196.274 275.763 193.195 271.179 Q190.139 266.573 190.139 257.846 Q190.139 249.096 193.195 244.513 Q196.274 239.906 202.084 239.906 Z\" fill=\"#000000\" fill-rule=\"nonzero\" fill-opacity=\"1\" /><path clip-path=\"url(#clip590)\" d=\"M128.288 134.699 Q124.677 134.699 122.848 138.264 Q121.043 141.805 121.043 148.935 Q121.043 156.042 122.848 159.606 Q124.677 163.148 128.288 163.148 Q131.922 163.148 133.728 159.606 Q135.556 156.042 135.556 148.935 Q135.556 141.805 133.728 138.264 Q131.922 134.699 128.288 134.699 M128.288 130.995 Q134.098 130.995 137.154 135.602 Q140.232 140.185 140.232 148.935 Q140.232 157.662 137.154 162.268 Q134.098 166.852 128.288 166.852 Q122.478 166.852 119.399 162.268 Q116.343 157.662 116.343 148.935 Q116.343 140.185 119.399 135.602 Q122.478 130.995 128.288 130.995 Z\" fill=\"#000000\" fill-rule=\"nonzero\" fill-opacity=\"1\" /><path clip-path=\"url(#clip590)\" d=\"M148.45 160.301 L153.334 160.301 L153.334 166.18 L148.45 166.18 L148.45 160.301 Z\" fill=\"#000000\" fill-rule=\"nonzero\" fill-opacity=\"1\" /><path clip-path=\"url(#clip590)\" d=\"M174.098 147.037 Q170.95 147.037 169.098 149.19 Q167.269 151.342 167.269 155.092 Q167.269 158.819 169.098 160.995 Q170.95 163.148 174.098 163.148 Q177.246 163.148 179.075 160.995 Q180.926 158.819 180.926 155.092 Q180.926 151.342 179.075 149.19 Q177.246 147.037 174.098 147.037 M183.38 132.384 L183.38 136.643 Q181.621 135.81 179.815 135.37 Q178.033 134.931 176.274 134.931 Q171.644 134.931 169.19 138.056 Q166.76 141.18 166.413 147.5 Q167.778 145.486 169.839 144.421 Q171.899 143.333 174.376 143.333 Q179.584 143.333 182.593 146.505 Q185.626 149.653 185.626 155.092 Q185.626 160.417 182.477 163.634 Q179.329 166.852 174.098 166.852 Q168.102 166.852 164.931 162.268 Q161.76 157.662 161.76 148.935 Q161.76 140.741 165.649 135.88 Q169.538 130.995 176.089 130.995 Q177.848 130.995 179.63 131.343 Q181.436 131.69 183.38 132.384 Z\" fill=\"#000000\" fill-rule=\"nonzero\" fill-opacity=\"1\" /><path clip-path=\"url(#clip590)\" d=\"M197.709 162.245 L214.028 162.245 L214.028 166.18 L192.084 166.18 L192.084 162.245 Q194.746 159.491 199.329 154.861 Q203.936 150.208 205.116 148.866 Q207.362 146.343 208.241 144.606 Q209.144 142.847 209.144 141.157 Q209.144 138.403 207.199 136.667 Q205.278 134.931 202.176 134.931 Q199.977 134.931 197.524 135.694 Q195.093 136.458 192.315 138.009 L192.315 133.287 Q195.139 132.153 197.593 131.574 Q200.047 130.995 202.084 130.995 Q207.454 130.995 210.649 133.681 Q213.843 136.366 213.843 140.856 Q213.843 142.986 213.033 144.907 Q212.246 146.805 210.139 149.398 Q209.561 150.069 206.459 153.287 Q203.357 156.481 197.709 162.245 Z\" fill=\"#000000\" fill-rule=\"nonzero\" fill-opacity=\"1\" /><path clip-path=\"url(#clip590)\" d=\"M22.818 410.805 L46.4666 419.526 L46.4666 402.052 L22.818 410.805 M16.4842 414.433 L16.4842 407.144 L64.0042 389.034 L64.0042 395.718 L51.8138 400.047 L51.8138 421.467 L64.0042 425.796 L64.0042 432.575 L16.4842 414.433 Z\" fill=\"#000000\" fill-rule=\"nonzero\" fill-opacity=\"1\" /><path clip-path=\"url(#clip590)\" d=\"M74.8259 355.264 L79.3773 355.264 L79.3773 389.13 L74.8259 389.13 L74.8259 355.264 Z\" fill=\"#000000\" fill-rule=\"nonzero\" fill-opacity=\"1\" /><path clip-path=\"url(#clip590)\" d=\"M28.3562 352.304 L28.3562 324.486 L33.7034 324.486 L59.3254 346.511 L59.3254 324.486 L64.0042 324.486 L64.0042 353.1 L58.657 353.1 L33.035 331.074 L33.035 352.304 L28.3562 352.304 Z\" fill=\"#000000\" fill-rule=\"nonzero\" fill-opacity=\"1\" /><path clip-path=\"url(#clip590)\" d=\"M14.5426 301.474 Q21.8632 305.739 29.0246 307.808 Q36.186 309.876 43.5384 309.876 Q50.8908 309.876 58.1159 307.808 Q65.3091 305.707 72.5979 301.474 L72.5979 306.566 Q65.1182 311.341 57.8931 313.728 Q50.668 316.083 43.5384 316.083 Q36.4406 316.083 29.2474 313.728 Q22.0542 311.372 14.5426 306.566 L14.5426 301.474 Z\" fill=\"#000000\" fill-rule=\"nonzero\" fill-opacity=\"1\" /><path clip-path=\"url(#clip590)\" d=\"M28.3562 260.479 L45.7028 273.369 L64.0042 259.81 L64.0042 266.717 L49.9996 277.093 L64.0042 287.469 L64.0042 294.376 L45.3526 280.531 L28.3562 293.198 L28.3562 286.292 L41.0558 276.838 L28.3562 267.385 L28.3562 260.479 Z\" fill=\"#000000\" fill-rule=\"nonzero\" fill-opacity=\"1\" /><path clip-path=\"url(#clip590)\" d=\"M14.5426 252.458 L14.5426 247.365 Q22.0542 242.591 29.2474 240.236 Q36.4406 237.848 43.5384 237.848 Q50.668 237.848 57.8931 240.236 Q65.1182 242.591 72.5979 247.365 L72.5979 252.458 Q65.3091 248.225 58.1159 246.156 Q50.8908 244.055 43.5384 244.055 Q36.186 244.055 29.0246 246.156 Q21.8632 248.225 14.5426 252.458 Z\" fill=\"#000000\" fill-rule=\"nonzero\" fill-opacity=\"1\" /><polyline clip-path=\"url(#clip592)\" style=\"stroke:#009af9; stroke-linecap:round; stroke-linejoin:round; stroke-width:4; stroke-opacity:1; fill:none\" points=\"275.049,63.5442 283.389,70.5883 291.729,77.5889 300.069,84.5467 308.409,91.4619 316.75,98.335 325.09,105.167 333.43,111.957 341.77,118.706 350.11,125.415 358.45,132.084 366.791,138.714 375.131,145.304 383.471,151.856 391.811,158.369 400.151,164.844 408.492,171.281 416.832,177.681 425.172,184.044 433.512,190.371 441.852,196.661 450.192,202.916 458.533,209.135 466.873,215.318 475.213,221.467 483.553,227.582 491.893,233.662 500.233,239.708 508.574,245.721 516.914,251.7 525.254,257.647 533.594,263.56 541.934,269.442 550.275,275.291 558.615,281.109 566.955,286.895 575.295,292.651 583.635,298.375 591.975,304.068 600.316,309.732 608.656,315.365 616.996,320.968 625.336,326.542 633.676,332.087 642.017,337.602 650.357,343.089 658.697,348.547 667.037,353.977 675.377,359.379 683.717,364.753 692.058,370.1 700.398,375.419 708.738,380.712 717.078,385.977 725.418,391.216 733.758,396.429 742.099,401.615 750.439,406.775 758.779,411.91 767.119,417.019 775.459,422.103 783.8,427.162 792.14,432.196 800.48,437.205 808.82,442.19 817.16,447.15 825.5,452.087 833.841,456.999 842.181,461.888 850.521,466.753 858.861,471.596 867.201,476.415 875.542,481.211 883.882,485.984 892.222,490.735 900.562,495.463 908.902,500.169 917.242,504.853 925.583,509.515 933.923,514.156 942.263,518.775 950.603,523.373 958.943,527.949 967.283,532.504 975.624,537.039 983.964,541.553 992.304,546.046 1000.64,550.519 1008.98,554.972 1017.32,559.404 1025.66,563.817 1034,568.21 1042.35,572.583 1050.69,576.937 1059.03,581.271 1067.37,585.587 1075.71,589.883 1084.05,594.16 1092.39,598.419 1100.73,602.658 1109.07,606.88 \"/>\n",
       "<path clip-path=\"url(#clip590)\" d=\"M963.782 170.122 L1104.62 170.122 L1104.62 66.442 L963.782 66.442  Z\" fill=\"#ffffff\" fill-rule=\"evenodd\" fill-opacity=\"1\"/>\n",
       "<polyline clip-path=\"url(#clip590)\" style=\"stroke:#000000; stroke-linecap:round; stroke-linejoin:round; stroke-width:4; stroke-opacity:1; fill:none\" points=\"963.782,170.122 1104.62,170.122 1104.62,66.442 963.782,66.442 963.782,170.122 \"/>\n",
       "<polyline clip-path=\"url(#clip590)\" style=\"stroke:#009af9; stroke-linecap:round; stroke-linejoin:round; stroke-width:4; stroke-opacity:1; fill:none\" points=\"973.605,118.282 1032.54,118.282 \"/>\n",
       "<path clip-path=\"url(#clip590)\" d=\"M1056.21 137.969 Q1054.4 142.599 1052.69 144.011 Q1050.98 145.423 1048.11 145.423 L1044.7 145.423 L1044.7 141.858 L1047.2 141.858 Q1048.96 141.858 1049.93 141.025 Q1050.91 140.192 1052.09 137.09 L1052.85 135.145 L1042.37 109.636 L1046.88 109.636 L1054.98 129.914 L1063.08 109.636 L1067.6 109.636 L1056.21 137.969 Z\" fill=\"#000000\" fill-rule=\"nonzero\" fill-opacity=\"1\" /><path clip-path=\"url(#clip590)\" d=\"M1074.89 131.627 L1082.53 131.627 L1082.53 105.261 L1074.22 106.928 L1074.22 102.669 L1082.48 101.002 L1087.16 101.002 L1087.16 131.627 L1094.8 131.627 L1094.8 135.562 L1074.89 135.562 L1074.89 131.627 Z\" fill=\"#000000\" fill-rule=\"nonzero\" fill-opacity=\"1\" /><path clip-path=\"url(#clip590)\" d=\"M1468.7 623.18 L2352.76 623.18 L2352.76 47.2441 L1468.7 47.2441  Z\" fill=\"#ffffff\" fill-rule=\"evenodd\" fill-opacity=\"1\"/>\n",
       "<defs>\n",
       "  <clipPath id=\"clip593\">\n",
       "    <rect x=\"1468\" y=\"47\" width=\"885\" height=\"577\"/>\n",
       "  </clipPath>\n",
       "</defs>\n",
       "<polyline clip-path=\"url(#clip593)\" style=\"stroke:#000000; stroke-linecap:round; stroke-linejoin:round; stroke-width:2; stroke-opacity:0.1; fill:none\" points=\"1493.72,623.18 1493.72,47.2441 \"/>\n",
       "<polyline clip-path=\"url(#clip593)\" style=\"stroke:#000000; stroke-linecap:round; stroke-linejoin:round; stroke-width:2; stroke-opacity:0.1; fill:none\" points=\"1702.22,623.18 1702.22,47.2441 \"/>\n",
       "<polyline clip-path=\"url(#clip593)\" style=\"stroke:#000000; stroke-linecap:round; stroke-linejoin:round; stroke-width:2; stroke-opacity:0.1; fill:none\" points=\"1910.73,623.18 1910.73,47.2441 \"/>\n",
       "<polyline clip-path=\"url(#clip593)\" style=\"stroke:#000000; stroke-linecap:round; stroke-linejoin:round; stroke-width:2; stroke-opacity:0.1; fill:none\" points=\"2119.23,623.18 2119.23,47.2441 \"/>\n",
       "<polyline clip-path=\"url(#clip593)\" style=\"stroke:#000000; stroke-linecap:round; stroke-linejoin:round; stroke-width:2; stroke-opacity:0.1; fill:none\" points=\"2327.74,623.18 2327.74,47.2441 \"/>\n",
       "<polyline clip-path=\"url(#clip590)\" style=\"stroke:#000000; stroke-linecap:round; stroke-linejoin:round; stroke-width:4; stroke-opacity:1; fill:none\" points=\"1468.7,623.18 2352.76,623.18 \"/>\n",
       "<polyline clip-path=\"url(#clip590)\" style=\"stroke:#000000; stroke-linecap:round; stroke-linejoin:round; stroke-width:4; stroke-opacity:1; fill:none\" points=\"1493.72,623.18 1493.72,604.282 \"/>\n",
       "<polyline clip-path=\"url(#clip590)\" style=\"stroke:#000000; stroke-linecap:round; stroke-linejoin:round; stroke-width:4; stroke-opacity:1; fill:none\" points=\"1702.22,623.18 1702.22,604.282 \"/>\n",
       "<polyline clip-path=\"url(#clip590)\" style=\"stroke:#000000; stroke-linecap:round; stroke-linejoin:round; stroke-width:4; stroke-opacity:1; fill:none\" points=\"1910.73,623.18 1910.73,604.282 \"/>\n",
       "<polyline clip-path=\"url(#clip590)\" style=\"stroke:#000000; stroke-linecap:round; stroke-linejoin:round; stroke-width:4; stroke-opacity:1; fill:none\" points=\"2119.23,623.18 2119.23,604.282 \"/>\n",
       "<polyline clip-path=\"url(#clip590)\" style=\"stroke:#000000; stroke-linecap:round; stroke-linejoin:round; stroke-width:4; stroke-opacity:1; fill:none\" points=\"2327.74,623.18 2327.74,604.282 \"/>\n",
       "<path clip-path=\"url(#clip590)\" d=\"M1449.88 681.645 L1466.19 681.645 L1466.19 685.58 L1444.25 685.58 L1444.25 681.645 Q1446.91 678.89 1451.5 674.26 Q1456.1 669.608 1457.28 668.265 Q1459.53 665.742 1460.41 664.006 Q1461.31 662.247 1461.31 660.557 Q1461.31 657.802 1459.37 656.066 Q1457.44 654.33 1454.34 654.33 Q1452.14 654.33 1449.69 655.094 Q1447.26 655.858 1444.48 657.409 L1444.48 652.687 Q1447.31 651.552 1449.76 650.974 Q1452.21 650.395 1454.25 650.395 Q1459.62 650.395 1462.81 653.08 Q1466.01 655.765 1466.01 660.256 Q1466.01 662.386 1465.2 664.307 Q1464.41 666.205 1462.31 668.798 Q1461.73 669.469 1458.63 672.686 Q1455.52 675.881 1449.88 681.645 Z\" fill=\"#000000\" fill-rule=\"nonzero\" fill-opacity=\"1\" /><path clip-path=\"url(#clip590)\" d=\"M1476.01 679.7 L1480.89 679.7 L1480.89 685.58 L1476.01 685.58 L1476.01 679.7 Z\" fill=\"#000000\" fill-rule=\"nonzero\" fill-opacity=\"1\" /><path clip-path=\"url(#clip590)\" d=\"M1501.08 654.099 Q1497.47 654.099 1495.64 657.663 Q1493.83 661.205 1493.83 668.335 Q1493.83 675.441 1495.64 679.006 Q1497.47 682.547 1501.08 682.547 Q1504.71 682.547 1506.52 679.006 Q1508.35 675.441 1508.35 668.335 Q1508.35 661.205 1506.52 657.663 Q1504.71 654.099 1501.08 654.099 M1501.08 650.395 Q1506.89 650.395 1509.94 655.001 Q1513.02 659.585 1513.02 668.335 Q1513.02 677.061 1509.94 681.668 Q1506.89 686.251 1501.08 686.251 Q1495.27 686.251 1492.19 681.668 Q1489.13 677.061 1489.13 668.335 Q1489.13 659.585 1492.19 655.001 Q1495.27 650.395 1501.08 650.395 Z\" fill=\"#000000\" fill-rule=\"nonzero\" fill-opacity=\"1\" /><path clip-path=\"url(#clip590)\" d=\"M1531.24 654.099 Q1527.63 654.099 1525.8 657.663 Q1524 661.205 1524 668.335 Q1524 675.441 1525.8 679.006 Q1527.63 682.547 1531.24 682.547 Q1534.87 682.547 1536.68 679.006 Q1538.51 675.441 1538.51 668.335 Q1538.51 661.205 1536.68 657.663 Q1534.87 654.099 1531.24 654.099 M1531.24 650.395 Q1537.05 650.395 1540.11 655.001 Q1543.18 659.585 1543.18 668.335 Q1543.18 677.061 1540.11 681.668 Q1537.05 686.251 1531.24 686.251 Q1525.43 686.251 1522.35 681.668 Q1519.3 677.061 1519.3 668.335 Q1519.3 659.585 1522.35 655.001 Q1525.43 650.395 1531.24 650.395 Z\" fill=\"#000000\" fill-rule=\"nonzero\" fill-opacity=\"1\" /><path clip-path=\"url(#clip590)\" d=\"M1658.88 681.645 L1675.2 681.645 L1675.2 685.58 L1653.25 685.58 L1653.25 681.645 Q1655.91 678.89 1660.5 674.26 Q1665.1 669.608 1666.28 668.265 Q1668.53 665.742 1669.41 664.006 Q1670.31 662.247 1670.31 660.557 Q1670.31 657.802 1668.37 656.066 Q1666.45 654.33 1663.34 654.33 Q1661.15 654.33 1658.69 655.094 Q1656.26 655.858 1653.48 657.409 L1653.48 652.687 Q1656.31 651.552 1658.76 650.974 Q1661.22 650.395 1663.25 650.395 Q1668.62 650.395 1671.82 653.08 Q1675.01 655.765 1675.01 660.256 Q1675.01 662.386 1674.2 664.307 Q1673.41 666.205 1671.31 668.798 Q1670.73 669.469 1667.63 672.686 Q1664.53 675.881 1658.88 681.645 Z\" fill=\"#000000\" fill-rule=\"nonzero\" fill-opacity=\"1\" /><path clip-path=\"url(#clip590)\" d=\"M1685.01 679.7 L1689.9 679.7 L1689.9 685.58 L1685.01 685.58 L1685.01 679.7 Z\" fill=\"#000000\" fill-rule=\"nonzero\" fill-opacity=\"1\" /><path clip-path=\"url(#clip590)\" d=\"M1704.11 681.645 L1720.43 681.645 L1720.43 685.58 L1698.48 685.58 L1698.48 681.645 Q1701.15 678.89 1705.73 674.26 Q1710.34 669.608 1711.52 668.265 Q1713.76 665.742 1714.64 664.006 Q1715.54 662.247 1715.54 660.557 Q1715.54 657.802 1713.6 656.066 Q1711.68 654.33 1708.58 654.33 Q1706.38 654.33 1703.92 655.094 Q1701.49 655.858 1698.72 657.409 L1698.72 652.687 Q1701.54 651.552 1703.99 650.974 Q1706.45 650.395 1708.48 650.395 Q1713.85 650.395 1717.05 653.08 Q1720.24 655.765 1720.24 660.256 Q1720.24 662.386 1719.43 664.307 Q1718.65 666.205 1716.54 668.798 Q1715.96 669.469 1712.86 672.686 Q1709.76 675.881 1704.11 681.645 Z\" fill=\"#000000\" fill-rule=\"nonzero\" fill-opacity=\"1\" /><path clip-path=\"url(#clip590)\" d=\"M1730.29 651.02 L1748.65 651.02 L1748.65 654.955 L1734.57 654.955 L1734.57 663.427 Q1735.59 663.08 1736.61 662.918 Q1737.63 662.733 1738.65 662.733 Q1744.43 662.733 1747.81 665.904 Q1751.19 669.075 1751.19 674.492 Q1751.19 680.071 1747.72 683.172 Q1744.25 686.251 1737.93 686.251 Q1735.75 686.251 1733.48 685.881 Q1731.24 685.51 1728.83 684.77 L1728.83 680.071 Q1730.91 681.205 1733.14 681.76 Q1735.36 682.316 1737.84 682.316 Q1741.84 682.316 1744.18 680.21 Q1746.52 678.103 1746.52 674.492 Q1746.52 670.881 1744.18 668.774 Q1741.84 666.668 1737.84 666.668 Q1735.96 666.668 1734.09 667.085 Q1732.23 667.501 1730.29 668.381 L1730.29 651.02 Z\" fill=\"#000000\" fill-rule=\"nonzero\" fill-opacity=\"1\" /><path clip-path=\"url(#clip590)\" d=\"M1866.88 681.645 L1883.2 681.645 L1883.2 685.58 L1861.26 685.58 L1861.26 681.645 Q1863.92 678.89 1868.5 674.26 Q1873.11 669.608 1874.29 668.265 Q1876.54 665.742 1877.42 664.006 Q1878.32 662.247 1878.32 660.557 Q1878.32 657.802 1876.37 656.066 Q1874.45 654.33 1871.35 654.33 Q1869.15 654.33 1866.7 655.094 Q1864.27 655.858 1861.49 657.409 L1861.49 652.687 Q1864.31 651.552 1866.77 650.974 Q1869.22 650.395 1871.26 650.395 Q1876.63 650.395 1879.82 653.08 Q1883.02 655.765 1883.02 660.256 Q1883.02 662.386 1882.21 664.307 Q1881.42 666.205 1879.31 668.798 Q1878.74 669.469 1875.63 672.686 Q1872.53 675.881 1866.88 681.645 Z\" fill=\"#000000\" fill-rule=\"nonzero\" fill-opacity=\"1\" /><path clip-path=\"url(#clip590)\" d=\"M1893.02 679.7 L1897.9 679.7 L1897.9 685.58 L1893.02 685.58 L1893.02 679.7 Z\" fill=\"#000000\" fill-rule=\"nonzero\" fill-opacity=\"1\" /><path clip-path=\"url(#clip590)\" d=\"M1908.13 651.02 L1926.49 651.02 L1926.49 654.955 L1912.42 654.955 L1912.42 663.427 Q1913.43 663.08 1914.45 662.918 Q1915.47 662.733 1916.49 662.733 Q1922.28 662.733 1925.66 665.904 Q1929.04 669.075 1929.04 674.492 Q1929.04 680.071 1925.56 683.172 Q1922.09 686.251 1915.77 686.251 Q1913.6 686.251 1911.33 685.881 Q1909.08 685.51 1906.68 684.77 L1906.68 680.071 Q1908.76 681.205 1910.98 681.76 Q1913.2 682.316 1915.68 682.316 Q1919.68 682.316 1922.02 680.21 Q1924.36 678.103 1924.36 674.492 Q1924.36 670.881 1922.02 668.774 Q1919.68 666.668 1915.68 666.668 Q1913.81 666.668 1911.93 667.085 Q1910.08 667.501 1908.13 668.381 L1908.13 651.02 Z\" fill=\"#000000\" fill-rule=\"nonzero\" fill-opacity=\"1\" /><path clip-path=\"url(#clip590)\" d=\"M1948.25 654.099 Q1944.64 654.099 1942.81 657.663 Q1941 661.205 1941 668.335 Q1941 675.441 1942.81 679.006 Q1944.64 682.547 1948.25 682.547 Q1951.88 682.547 1953.69 679.006 Q1955.52 675.441 1955.52 668.335 Q1955.52 661.205 1953.69 657.663 Q1951.88 654.099 1948.25 654.099 M1948.25 650.395 Q1954.06 650.395 1957.12 655.001 Q1960.19 659.585 1960.19 668.335 Q1960.19 677.061 1957.12 681.668 Q1954.06 686.251 1948.25 686.251 Q1942.44 686.251 1939.36 681.668 Q1936.31 677.061 1936.31 668.335 Q1936.31 659.585 1939.36 655.001 Q1942.44 650.395 1948.25 650.395 Z\" fill=\"#000000\" fill-rule=\"nonzero\" fill-opacity=\"1\" /><path clip-path=\"url(#clip590)\" d=\"M2075.89 681.645 L2092.21 681.645 L2092.21 685.58 L2070.26 685.58 L2070.26 681.645 Q2072.92 678.89 2077.51 674.26 Q2082.11 669.608 2083.29 668.265 Q2085.54 665.742 2086.42 664.006 Q2087.32 662.247 2087.32 660.557 Q2087.32 657.802 2085.38 656.066 Q2083.46 654.33 2080.35 654.33 Q2078.15 654.33 2075.7 655.094 Q2073.27 655.858 2070.49 657.409 L2070.49 652.687 Q2073.32 651.552 2075.77 650.974 Q2078.22 650.395 2080.26 650.395 Q2085.63 650.395 2088.83 653.08 Q2092.02 655.765 2092.02 660.256 Q2092.02 662.386 2091.21 664.307 Q2090.42 666.205 2088.32 668.798 Q2087.74 669.469 2084.64 672.686 Q2081.53 675.881 2075.89 681.645 Z\" fill=\"#000000\" fill-rule=\"nonzero\" fill-opacity=\"1\" /><path clip-path=\"url(#clip590)\" d=\"M2102.02 679.7 L2106.9 679.7 L2106.9 685.58 L2102.02 685.58 L2102.02 679.7 Z\" fill=\"#000000\" fill-rule=\"nonzero\" fill-opacity=\"1\" /><path clip-path=\"url(#clip590)\" d=\"M2115.91 651.02 L2138.13 651.02 L2138.13 653.011 L2125.59 685.58 L2120.7 685.58 L2132.51 654.955 L2115.91 654.955 L2115.91 651.02 Z\" fill=\"#000000\" fill-rule=\"nonzero\" fill-opacity=\"1\" /><path clip-path=\"url(#clip590)\" d=\"M2147.3 651.02 L2165.65 651.02 L2165.65 654.955 L2151.58 654.955 L2151.58 663.427 Q2152.6 663.08 2153.62 662.918 Q2154.64 662.733 2155.65 662.733 Q2161.44 662.733 2164.82 665.904 Q2168.2 669.075 2168.2 674.492 Q2168.2 680.071 2164.73 683.172 Q2161.26 686.251 2154.94 686.251 Q2152.76 686.251 2150.49 685.881 Q2148.25 685.51 2145.84 684.77 L2145.84 680.071 Q2147.92 681.205 2150.15 681.76 Q2152.37 682.316 2154.84 682.316 Q2158.85 682.316 2161.19 680.21 Q2163.52 678.103 2163.52 674.492 Q2163.52 670.881 2161.19 668.774 Q2158.85 666.668 2154.84 666.668 Q2152.97 666.668 2151.09 667.085 Q2149.24 667.501 2147.3 668.381 L2147.3 651.02 Z\" fill=\"#000000\" fill-rule=\"nonzero\" fill-opacity=\"1\" /><path clip-path=\"url(#clip590)\" d=\"M2293.96 666.946 Q2297.32 667.663 2299.19 669.932 Q2301.09 672.2 2301.09 675.534 Q2301.09 680.649 2297.57 683.45 Q2294.05 686.251 2287.57 686.251 Q2285.4 686.251 2283.08 685.811 Q2280.79 685.395 2278.34 684.538 L2278.34 680.024 Q2280.28 681.159 2282.6 681.737 Q2284.91 682.316 2287.43 682.316 Q2291.83 682.316 2294.12 680.58 Q2296.44 678.844 2296.44 675.534 Q2296.44 672.478 2294.29 670.765 Q2292.16 669.029 2288.34 669.029 L2284.31 669.029 L2284.31 665.186 L2288.52 665.186 Q2291.97 665.186 2293.8 663.821 Q2295.63 662.432 2295.63 659.839 Q2295.63 657.177 2293.73 655.765 Q2291.86 654.33 2288.34 654.33 Q2286.42 654.33 2284.22 654.747 Q2282.02 655.163 2279.38 656.043 L2279.38 651.876 Q2282.04 651.136 2284.36 650.765 Q2286.69 650.395 2288.75 650.395 Q2294.08 650.395 2297.18 652.825 Q2300.28 655.233 2300.28 659.353 Q2300.28 662.223 2298.64 664.214 Q2296.99 666.182 2293.96 666.946 Z\" fill=\"#000000\" fill-rule=\"nonzero\" fill-opacity=\"1\" /><path clip-path=\"url(#clip590)\" d=\"M2309.96 679.7 L2314.84 679.7 L2314.84 685.58 L2309.96 685.58 L2309.96 679.7 Z\" fill=\"#000000\" fill-rule=\"nonzero\" fill-opacity=\"1\" /><path clip-path=\"url(#clip590)\" d=\"M2335.03 654.099 Q2331.42 654.099 2329.59 657.663 Q2327.78 661.205 2327.78 668.335 Q2327.78 675.441 2329.59 679.006 Q2331.42 682.547 2335.03 682.547 Q2338.66 682.547 2340.47 679.006 Q2342.3 675.441 2342.3 668.335 Q2342.3 661.205 2340.47 657.663 Q2338.66 654.099 2335.03 654.099 M2335.03 650.395 Q2340.84 650.395 2343.89 655.001 Q2346.97 659.585 2346.97 668.335 Q2346.97 677.061 2343.89 681.668 Q2340.84 686.251 2335.03 686.251 Q2329.22 686.251 2326.14 681.668 Q2323.08 677.061 2323.08 668.335 Q2323.08 659.585 2326.14 655.001 Q2329.22 650.395 2335.03 650.395 Z\" fill=\"#000000\" fill-rule=\"nonzero\" fill-opacity=\"1\" /><path clip-path=\"url(#clip590)\" d=\"M2365.19 654.099 Q2361.58 654.099 2359.75 657.663 Q2357.94 661.205 2357.94 668.335 Q2357.94 675.441 2359.75 679.006 Q2361.58 682.547 2365.19 682.547 Q2368.82 682.547 2370.63 679.006 Q2372.46 675.441 2372.46 668.335 Q2372.46 661.205 2370.63 657.663 Q2368.82 654.099 2365.19 654.099 M2365.19 650.395 Q2371 650.395 2374.05 655.001 Q2377.13 659.585 2377.13 668.335 Q2377.13 677.061 2374.05 681.668 Q2371 686.251 2365.19 686.251 Q2359.38 686.251 2356.3 681.668 Q2353.24 677.061 2353.24 668.335 Q2353.24 659.585 2356.3 655.001 Q2359.38 650.395 2365.19 650.395 Z\" fill=\"#000000\" fill-rule=\"nonzero\" fill-opacity=\"1\" /><path clip-path=\"url(#clip590)\" d=\"M1927.34 732.396 L1914.45 749.742 L1928.01 768.044 L1921.1 768.044 L1910.73 754.039 L1900.35 768.044 L1893.44 768.044 L1907.29 749.392 L1894.62 732.396 L1901.53 732.396 L1910.98 745.095 L1920.43 732.396 L1927.34 732.396 Z\" fill=\"#000000\" fill-rule=\"nonzero\" fill-opacity=\"1\" /><polyline clip-path=\"url(#clip593)\" style=\"stroke:#000000; stroke-linecap:round; stroke-linejoin:round; stroke-width:2; stroke-opacity:0.1; fill:none\" points=\"1468.7,609.404 2352.76,609.404 \"/>\n",
       "<polyline clip-path=\"url(#clip593)\" style=\"stroke:#000000; stroke-linecap:round; stroke-linejoin:round; stroke-width:2; stroke-opacity:0.1; fill:none\" points=\"1468.7,505.727 2352.76,505.727 \"/>\n",
       "<polyline clip-path=\"url(#clip593)\" style=\"stroke:#000000; stroke-linecap:round; stroke-linejoin:round; stroke-width:2; stroke-opacity:0.1; fill:none\" points=\"1468.7,402.049 2352.76,402.049 \"/>\n",
       "<polyline clip-path=\"url(#clip593)\" style=\"stroke:#000000; stroke-linecap:round; stroke-linejoin:round; stroke-width:2; stroke-opacity:0.1; fill:none\" points=\"1468.7,298.371 2352.76,298.371 \"/>\n",
       "<polyline clip-path=\"url(#clip593)\" style=\"stroke:#000000; stroke-linecap:round; stroke-linejoin:round; stroke-width:2; stroke-opacity:0.1; fill:none\" points=\"1468.7,194.694 2352.76,194.694 \"/>\n",
       "<polyline clip-path=\"url(#clip593)\" style=\"stroke:#000000; stroke-linecap:round; stroke-linejoin:round; stroke-width:2; stroke-opacity:0.1; fill:none\" points=\"1468.7,91.0159 2352.76,91.0159 \"/>\n",
       "<polyline clip-path=\"url(#clip590)\" style=\"stroke:#000000; stroke-linecap:round; stroke-linejoin:round; stroke-width:4; stroke-opacity:1; fill:none\" points=\"1468.7,623.18 1468.7,47.2441 \"/>\n",
       "<polyline clip-path=\"url(#clip590)\" style=\"stroke:#000000; stroke-linecap:round; stroke-linejoin:round; stroke-width:4; stroke-opacity:1; fill:none\" points=\"1468.7,609.404 1487.59,609.404 \"/>\n",
       "<polyline clip-path=\"url(#clip590)\" style=\"stroke:#000000; stroke-linecap:round; stroke-linejoin:round; stroke-width:4; stroke-opacity:1; fill:none\" points=\"1468.7,505.727 1487.59,505.727 \"/>\n",
       "<polyline clip-path=\"url(#clip590)\" style=\"stroke:#000000; stroke-linecap:round; stroke-linejoin:round; stroke-width:4; stroke-opacity:1; fill:none\" points=\"1468.7,402.049 1487.59,402.049 \"/>\n",
       "<polyline clip-path=\"url(#clip590)\" style=\"stroke:#000000; stroke-linecap:round; stroke-linejoin:round; stroke-width:4; stroke-opacity:1; fill:none\" points=\"1468.7,298.371 1487.59,298.371 \"/>\n",
       "<polyline clip-path=\"url(#clip590)\" style=\"stroke:#000000; stroke-linecap:round; stroke-linejoin:round; stroke-width:4; stroke-opacity:1; fill:none\" points=\"1468.7,194.694 1487.59,194.694 \"/>\n",
       "<polyline clip-path=\"url(#clip590)\" style=\"stroke:#000000; stroke-linecap:round; stroke-linejoin:round; stroke-width:4; stroke-opacity:1; fill:none\" points=\"1468.7,91.0159 1487.59,91.0159 \"/>\n",
       "<path clip-path=\"url(#clip590)\" d=\"M1296.24 609.856 L1325.92 609.856 L1325.92 613.791 L1296.24 613.791 L1296.24 609.856 Z\" fill=\"#000000\" fill-rule=\"nonzero\" fill-opacity=\"1\" /><path clip-path=\"url(#clip590)\" d=\"M1346.01 595.203 Q1342.4 595.203 1340.57 598.768 Q1338.76 602.309 1338.76 609.439 Q1338.76 616.545 1340.57 620.11 Q1342.4 623.652 1346.01 623.652 Q1349.64 623.652 1351.45 620.11 Q1353.28 616.545 1353.28 609.439 Q1353.28 602.309 1351.45 598.768 Q1349.64 595.203 1346.01 595.203 M1346.01 591.499 Q1351.82 591.499 1354.87 596.106 Q1357.95 600.689 1357.95 609.439 Q1357.95 618.166 1354.87 622.772 Q1351.82 627.355 1346.01 627.355 Q1340.2 627.355 1337.12 622.772 Q1334.06 618.166 1334.06 609.439 Q1334.06 600.689 1337.12 596.106 Q1340.2 591.499 1346.01 591.499 Z\" fill=\"#000000\" fill-rule=\"nonzero\" fill-opacity=\"1\" /><path clip-path=\"url(#clip590)\" d=\"M1366.17 620.805 L1371.05 620.805 L1371.05 626.684 L1366.17 626.684 L1366.17 620.805 Z\" fill=\"#000000\" fill-rule=\"nonzero\" fill-opacity=\"1\" /><path clip-path=\"url(#clip590)\" d=\"M1382.05 622.749 L1389.69 622.749 L1389.69 596.383 L1381.38 598.05 L1381.38 593.791 L1389.64 592.124 L1394.32 592.124 L1394.32 622.749 L1401.96 622.749 L1401.96 626.684 L1382.05 626.684 L1382.05 622.749 Z\" fill=\"#000000\" fill-rule=\"nonzero\" fill-opacity=\"1\" /><path clip-path=\"url(#clip590)\" d=\"M1425.57 608.05 Q1428.92 608.768 1430.8 611.036 Q1432.7 613.305 1432.7 616.638 Q1432.7 621.754 1429.18 624.555 Q1425.66 627.355 1419.18 627.355 Q1417 627.355 1414.69 626.916 Q1412.4 626.499 1409.94 625.643 L1409.94 621.129 Q1411.89 622.263 1414.2 622.842 Q1416.52 623.42 1419.04 623.42 Q1423.44 623.42 1425.73 621.684 Q1428.04 619.948 1428.04 616.638 Q1428.04 613.582 1425.89 611.869 Q1423.76 610.133 1419.94 610.133 L1415.91 610.133 L1415.91 606.291 L1420.13 606.291 Q1423.58 606.291 1425.41 604.925 Q1427.23 603.536 1427.23 600.944 Q1427.23 598.282 1425.34 596.87 Q1423.46 595.434 1419.94 595.434 Q1418.02 595.434 1415.82 595.851 Q1413.62 596.268 1410.98 597.147 L1410.98 592.981 Q1413.65 592.24 1415.96 591.87 Q1418.3 591.499 1420.36 591.499 Q1425.68 591.499 1428.79 593.93 Q1431.89 596.337 1431.89 600.457 Q1431.89 603.328 1430.24 605.319 Q1428.6 607.286 1425.57 608.05 Z\" fill=\"#000000\" fill-rule=\"nonzero\" fill-opacity=\"1\" /><path clip-path=\"url(#clip590)\" d=\"M1297.19 506.178 L1326.86 506.178 L1326.86 510.113 L1297.19 510.113 L1297.19 506.178 Z\" fill=\"#000000\" fill-rule=\"nonzero\" fill-opacity=\"1\" /><path clip-path=\"url(#clip590)\" d=\"M1346.96 491.525 Q1343.35 491.525 1341.52 495.09 Q1339.71 498.632 1339.71 505.761 Q1339.71 512.868 1341.52 516.433 Q1343.35 519.974 1346.96 519.974 Q1350.59 519.974 1352.4 516.433 Q1354.23 512.868 1354.23 505.761 Q1354.23 498.632 1352.4 495.09 Q1350.59 491.525 1346.96 491.525 M1346.96 487.822 Q1352.77 487.822 1355.82 492.428 Q1358.9 497.011 1358.9 505.761 Q1358.9 514.488 1355.82 519.095 Q1352.77 523.678 1346.96 523.678 Q1341.15 523.678 1338.07 519.095 Q1335.01 514.488 1335.01 505.761 Q1335.01 497.011 1338.07 492.428 Q1341.15 487.822 1346.96 487.822 Z\" fill=\"#000000\" fill-rule=\"nonzero\" fill-opacity=\"1\" /><path clip-path=\"url(#clip590)\" d=\"M1367.12 517.127 L1372 517.127 L1372 523.007 L1367.12 523.007 L1367.12 517.127 Z\" fill=\"#000000\" fill-rule=\"nonzero\" fill-opacity=\"1\" /><path clip-path=\"url(#clip590)\" d=\"M1383 519.071 L1390.64 519.071 L1390.64 492.706 L1382.33 494.372 L1382.33 490.113 L1390.59 488.447 L1395.27 488.447 L1395.27 519.071 L1402.91 519.071 L1402.91 523.007 L1383 523.007 L1383 519.071 Z\" fill=\"#000000\" fill-rule=\"nonzero\" fill-opacity=\"1\" /><path clip-path=\"url(#clip590)\" d=\"M1416.38 519.071 L1432.7 519.071 L1432.7 523.007 L1410.75 523.007 L1410.75 519.071 Q1413.41 516.317 1418 511.687 Q1422.6 507.034 1423.79 505.692 Q1426.03 503.169 1426.91 501.433 Q1427.81 499.673 1427.81 497.984 Q1427.81 495.229 1425.87 493.493 Q1423.95 491.757 1420.85 491.757 Q1418.65 491.757 1416.19 492.521 Q1413.76 493.284 1410.98 494.835 L1410.98 490.113 Q1413.81 488.979 1416.26 488.4 Q1418.72 487.822 1420.75 487.822 Q1426.12 487.822 1429.32 490.507 Q1432.51 493.192 1432.51 497.683 Q1432.51 499.812 1431.7 501.734 Q1430.91 503.632 1428.81 506.224 Q1428.23 506.896 1425.13 510.113 Q1422.03 513.308 1416.38 519.071 Z\" fill=\"#000000\" fill-rule=\"nonzero\" fill-opacity=\"1\" /><path clip-path=\"url(#clip590)\" d=\"M1296.82 402.5 L1326.49 402.5 L1326.49 406.435 L1296.82 406.435 L1296.82 402.5 Z\" fill=\"#000000\" fill-rule=\"nonzero\" fill-opacity=\"1\" /><path clip-path=\"url(#clip590)\" d=\"M1346.59 387.848 Q1342.98 387.848 1341.15 391.412 Q1339.34 394.954 1339.34 402.084 Q1339.34 409.19 1341.15 412.755 Q1342.98 416.297 1346.59 416.297 Q1350.22 416.297 1352.03 412.755 Q1353.85 409.19 1353.85 402.084 Q1353.85 394.954 1352.03 391.412 Q1350.22 387.848 1346.59 387.848 M1346.59 384.144 Q1352.4 384.144 1355.45 388.75 Q1358.53 393.334 1358.53 402.084 Q1358.53 410.81 1355.45 415.417 Q1352.4 420 1346.59 420 Q1340.78 420 1337.7 415.417 Q1334.64 410.81 1334.64 402.084 Q1334.64 393.334 1337.7 388.75 Q1340.78 384.144 1346.59 384.144 Z\" fill=\"#000000\" fill-rule=\"nonzero\" fill-opacity=\"1\" /><path clip-path=\"url(#clip590)\" d=\"M1366.75 413.449 L1371.63 413.449 L1371.63 419.329 L1366.75 419.329 L1366.75 413.449 Z\" fill=\"#000000\" fill-rule=\"nonzero\" fill-opacity=\"1\" /><path clip-path=\"url(#clip590)\" d=\"M1382.63 415.394 L1390.27 415.394 L1390.27 389.028 L1381.96 390.695 L1381.96 386.436 L1390.22 384.769 L1394.9 384.769 L1394.9 415.394 L1402.54 415.394 L1402.54 419.329 L1382.63 419.329 L1382.63 415.394 Z\" fill=\"#000000\" fill-rule=\"nonzero\" fill-opacity=\"1\" /><path clip-path=\"url(#clip590)\" d=\"M1412.79 415.394 L1420.43 415.394 L1420.43 389.028 L1412.12 390.695 L1412.12 386.436 L1420.38 384.769 L1425.06 384.769 L1425.06 415.394 L1432.7 415.394 L1432.7 419.329 L1412.79 419.329 L1412.79 415.394 Z\" fill=\"#000000\" fill-rule=\"nonzero\" fill-opacity=\"1\" /><path clip-path=\"url(#clip590)\" d=\"M1295.59 298.823 L1325.27 298.823 L1325.27 302.758 L1295.59 302.758 L1295.59 298.823 Z\" fill=\"#000000\" fill-rule=\"nonzero\" fill-opacity=\"1\" /><path clip-path=\"url(#clip590)\" d=\"M1345.36 284.17 Q1341.75 284.17 1339.92 287.735 Q1338.11 291.276 1338.11 298.406 Q1338.11 305.512 1339.92 309.077 Q1341.75 312.619 1345.36 312.619 Q1348.99 312.619 1350.8 309.077 Q1352.63 305.512 1352.63 298.406 Q1352.63 291.276 1350.8 287.735 Q1348.99 284.17 1345.36 284.17 M1345.36 280.466 Q1351.17 280.466 1354.23 285.073 Q1357.3 289.656 1357.3 298.406 Q1357.3 307.133 1354.23 311.739 Q1351.17 316.323 1345.36 316.323 Q1339.55 316.323 1336.47 311.739 Q1333.42 307.133 1333.42 298.406 Q1333.42 289.656 1336.47 285.073 Q1339.55 280.466 1345.36 280.466 Z\" fill=\"#000000\" fill-rule=\"nonzero\" fill-opacity=\"1\" /><path clip-path=\"url(#clip590)\" d=\"M1365.52 309.772 L1370.41 309.772 L1370.41 315.651 L1365.52 315.651 L1365.52 309.772 Z\" fill=\"#000000\" fill-rule=\"nonzero\" fill-opacity=\"1\" /><path clip-path=\"url(#clip590)\" d=\"M1381.4 311.716 L1389.04 311.716 L1389.04 285.35 L1380.73 287.017 L1380.73 282.758 L1388.99 281.091 L1393.67 281.091 L1393.67 311.716 L1401.31 311.716 L1401.31 315.651 L1381.4 315.651 L1381.4 311.716 Z\" fill=\"#000000\" fill-rule=\"nonzero\" fill-opacity=\"1\" /><path clip-path=\"url(#clip590)\" d=\"M1420.75 284.17 Q1417.14 284.17 1415.31 287.735 Q1413.51 291.276 1413.51 298.406 Q1413.51 305.512 1415.31 309.077 Q1417.14 312.619 1420.75 312.619 Q1424.39 312.619 1426.19 309.077 Q1428.02 305.512 1428.02 298.406 Q1428.02 291.276 1426.19 287.735 Q1424.39 284.17 1420.75 284.17 M1420.75 280.466 Q1426.56 280.466 1429.62 285.073 Q1432.7 289.656 1432.7 298.406 Q1432.7 307.133 1429.62 311.739 Q1426.56 316.323 1420.75 316.323 Q1414.94 316.323 1411.86 311.739 Q1408.81 307.133 1408.81 298.406 Q1408.81 289.656 1411.86 285.073 Q1414.94 280.466 1420.75 280.466 Z\" fill=\"#000000\" fill-rule=\"nonzero\" fill-opacity=\"1\" /><path clip-path=\"url(#clip590)\" d=\"M1295.78 195.145 L1325.45 195.145 L1325.45 199.08 L1295.78 199.08 L1295.78 195.145 Z\" fill=\"#000000\" fill-rule=\"nonzero\" fill-opacity=\"1\" /><path clip-path=\"url(#clip590)\" d=\"M1345.54 180.492 Q1341.93 180.492 1340.1 184.057 Q1338.3 187.599 1338.3 194.728 Q1338.3 201.835 1340.1 205.4 Q1341.93 208.941 1345.54 208.941 Q1349.18 208.941 1350.98 205.4 Q1352.81 201.835 1352.81 194.728 Q1352.81 187.599 1350.98 184.057 Q1349.18 180.492 1345.54 180.492 M1345.54 176.789 Q1351.35 176.789 1354.41 181.395 Q1357.49 185.978 1357.49 194.728 Q1357.49 203.455 1354.41 208.062 Q1351.35 212.645 1345.54 212.645 Q1339.73 212.645 1336.66 208.062 Q1333.6 203.455 1333.6 194.728 Q1333.6 185.978 1336.66 181.395 Q1339.73 176.789 1345.54 176.789 Z\" fill=\"#000000\" fill-rule=\"nonzero\" fill-opacity=\"1\" /><path clip-path=\"url(#clip590)\" d=\"M1365.71 206.094 L1370.59 206.094 L1370.59 211.974 L1365.71 211.974 L1365.71 206.094 Z\" fill=\"#000000\" fill-rule=\"nonzero\" fill-opacity=\"1\" /><path clip-path=\"url(#clip590)\" d=\"M1390.78 180.492 Q1387.16 180.492 1385.34 184.057 Q1383.53 187.599 1383.53 194.728 Q1383.53 201.835 1385.34 205.4 Q1387.16 208.941 1390.78 208.941 Q1394.41 208.941 1396.22 205.4 Q1398.04 201.835 1398.04 194.728 Q1398.04 187.599 1396.22 184.057 Q1394.41 180.492 1390.78 180.492 M1390.78 176.789 Q1396.59 176.789 1399.64 181.395 Q1402.72 185.978 1402.72 194.728 Q1402.72 203.455 1399.64 208.062 Q1396.59 212.645 1390.78 212.645 Q1384.97 212.645 1381.89 208.062 Q1378.83 203.455 1378.83 194.728 Q1378.83 185.978 1381.89 181.395 Q1384.97 176.789 1390.78 176.789 Z\" fill=\"#000000\" fill-rule=\"nonzero\" fill-opacity=\"1\" /><path clip-path=\"url(#clip590)\" d=\"M1411.08 211.256 L1411.08 206.997 Q1412.84 207.83 1414.64 208.27 Q1416.45 208.71 1418.18 208.71 Q1422.81 208.71 1425.24 205.608 Q1427.7 202.483 1428.04 196.14 Q1426.7 198.131 1424.64 199.196 Q1422.58 200.261 1420.08 200.261 Q1414.9 200.261 1411.86 197.136 Q1408.85 193.988 1408.85 188.548 Q1408.85 183.224 1412 180.006 Q1415.15 176.789 1420.38 176.789 Q1426.38 176.789 1429.53 181.395 Q1432.7 185.978 1432.7 194.728 Q1432.7 202.9 1428.81 207.784 Q1424.94 212.645 1418.39 212.645 Q1416.63 212.645 1414.83 212.298 Q1413.02 211.95 1411.08 211.256 M1420.38 196.603 Q1423.53 196.603 1425.36 194.451 Q1427.21 192.298 1427.21 188.548 Q1427.21 184.821 1425.36 182.668 Q1423.53 180.492 1420.38 180.492 Q1417.23 180.492 1415.38 182.668 Q1413.55 184.821 1413.55 188.548 Q1413.55 192.298 1415.38 194.451 Q1417.23 196.603 1420.38 196.603 Z\" fill=\"#000000\" fill-rule=\"nonzero\" fill-opacity=\"1\" /><path clip-path=\"url(#clip590)\" d=\"M1295.68 91.4673 L1325.36 91.4673 L1325.36 95.4025 L1295.68 95.4025 L1295.68 91.4673 Z\" fill=\"#000000\" fill-rule=\"nonzero\" fill-opacity=\"1\" /><path clip-path=\"url(#clip590)\" d=\"M1345.45 76.8146 Q1341.84 76.8146 1340.01 80.3794 Q1338.21 83.9211 1338.21 91.0507 Q1338.21 98.1571 1340.01 101.722 Q1341.84 105.264 1345.45 105.264 Q1349.09 105.264 1350.89 101.722 Q1352.72 98.1571 1352.72 91.0507 Q1352.72 83.9211 1350.89 80.3794 Q1349.09 76.8146 1345.45 76.8146 M1345.45 73.111 Q1351.26 73.111 1354.32 77.7174 Q1357.4 82.3007 1357.4 91.0507 Q1357.4 99.7775 1354.32 104.384 Q1351.26 108.967 1345.45 108.967 Q1339.64 108.967 1336.56 104.384 Q1333.51 99.7775 1333.51 91.0507 Q1333.51 82.3007 1336.56 77.7174 Q1339.64 73.111 1345.45 73.111 Z\" fill=\"#000000\" fill-rule=\"nonzero\" fill-opacity=\"1\" /><path clip-path=\"url(#clip590)\" d=\"M1365.61 102.416 L1370.5 102.416 L1370.5 108.296 L1365.61 108.296 L1365.61 102.416 Z\" fill=\"#000000\" fill-rule=\"nonzero\" fill-opacity=\"1\" /><path clip-path=\"url(#clip590)\" d=\"M1390.68 76.8146 Q1387.07 76.8146 1385.24 80.3794 Q1383.44 83.9211 1383.44 91.0507 Q1383.44 98.1571 1385.24 101.722 Q1387.07 105.264 1390.68 105.264 Q1394.32 105.264 1396.12 101.722 Q1397.95 98.1571 1397.95 91.0507 Q1397.95 83.9211 1396.12 80.3794 Q1394.32 76.8146 1390.68 76.8146 M1390.68 73.111 Q1396.49 73.111 1399.55 77.7174 Q1402.63 82.3007 1402.63 91.0507 Q1402.63 99.7775 1399.55 104.384 Q1396.49 108.967 1390.68 108.967 Q1384.87 108.967 1381.79 104.384 Q1378.74 99.7775 1378.74 91.0507 Q1378.74 82.3007 1381.79 77.7174 Q1384.87 73.111 1390.68 73.111 Z\" fill=\"#000000\" fill-rule=\"nonzero\" fill-opacity=\"1\" /><path clip-path=\"url(#clip590)\" d=\"M1420.85 91.884 Q1417.51 91.884 1415.59 93.6664 Q1413.69 95.4488 1413.69 98.5738 Q1413.69 101.699 1415.59 103.481 Q1417.51 105.264 1420.85 105.264 Q1424.18 105.264 1426.1 103.481 Q1428.02 101.676 1428.02 98.5738 Q1428.02 95.4488 1426.1 93.6664 Q1424.2 91.884 1420.85 91.884 M1416.17 89.8933 Q1413.16 89.1525 1411.47 87.0924 Q1409.8 85.0322 1409.8 82.0692 Q1409.8 77.9257 1412.74 75.5183 Q1415.71 73.111 1420.85 73.111 Q1426.01 73.111 1428.95 75.5183 Q1431.89 77.9257 1431.89 82.0692 Q1431.89 85.0322 1430.2 87.0924 Q1428.53 89.1525 1425.54 89.8933 Q1428.92 90.6803 1430.8 92.972 Q1432.7 95.2636 1432.7 98.5738 Q1432.7 103.597 1429.62 106.282 Q1426.56 108.967 1420.85 108.967 Q1415.13 108.967 1412.05 106.282 Q1408.99 103.597 1408.99 98.5738 Q1408.99 95.2636 1410.89 92.972 Q1412.79 90.6803 1416.17 89.8933 M1414.46 82.5091 Q1414.46 85.1942 1416.12 86.6988 Q1417.81 88.2035 1420.85 88.2035 Q1423.85 88.2035 1425.54 86.6988 Q1427.26 85.1942 1427.26 82.5091 Q1427.26 79.8239 1425.54 78.3193 Q1423.85 76.8146 1420.85 76.8146 Q1417.81 76.8146 1416.12 78.3193 Q1414.46 79.8239 1414.46 82.5091 Z\" fill=\"#000000\" fill-rule=\"nonzero\" fill-opacity=\"1\" /><path clip-path=\"url(#clip590)\" d=\"M1222.64 425.446 L1240.05 425.446 L1240.05 415.133 Q1240.05 409.945 1237.92 407.463 Q1235.75 404.948 1231.33 404.948 Q1226.87 404.948 1224.77 407.463 Q1222.64 409.945 1222.64 415.133 L1222.64 425.446 M1203.1 425.446 L1217.42 425.446 L1217.42 415.929 Q1217.42 411.219 1215.67 408.927 Q1213.89 406.603 1210.26 406.603 Q1206.66 406.603 1204.88 408.927 Q1203.1 411.219 1203.1 415.929 L1203.1 425.446 M1197.82 431.875 L1197.82 415.452 Q1197.82 408.099 1200.87 404.121 Q1203.93 400.142 1209.56 400.142 Q1213.92 400.142 1216.5 402.179 Q1219.08 404.216 1219.71 408.163 Q1220.73 403.421 1223.98 400.811 Q1227.19 398.169 1232.03 398.169 Q1238.4 398.169 1241.87 402.497 Q1245.34 406.826 1245.34 414.815 L1245.34 431.875 L1197.82 431.875 Z\" fill=\"#000000\" fill-rule=\"nonzero\" fill-opacity=\"1\" /><path clip-path=\"url(#clip590)\" d=\"M1256.16 360.325 L1260.71 360.325 L1260.71 394.19 L1256.16 394.19 L1256.16 360.325 Z\" fill=\"#000000\" fill-rule=\"nonzero\" fill-opacity=\"1\" /><path clip-path=\"url(#clip590)\" d=\"M1248.65 339.986 Q1255.01 342.469 1256.95 344.824 Q1258.89 347.179 1258.89 351.126 L1258.89 355.805 L1253.99 355.805 L1253.99 352.368 Q1253.99 349.949 1252.85 348.612 Q1251.7 347.275 1247.44 345.652 L1244.76 344.601 L1209.69 359.02 L1209.69 352.813 L1237.57 341.673 L1209.69 330.533 L1209.69 324.327 L1248.65 339.986 Z\" fill=\"#000000\" fill-rule=\"nonzero\" fill-opacity=\"1\" /><path clip-path=\"url(#clip590)\" d=\"M1195.87 302.174 Q1203.19 306.439 1210.36 308.508 Q1217.52 310.577 1224.87 310.577 Q1232.22 310.577 1239.45 308.508 Q1246.64 306.407 1253.93 302.174 L1253.93 307.267 Q1246.45 312.041 1239.22 314.428 Q1232 316.783 1224.87 316.783 Q1217.77 316.783 1210.58 314.428 Q1203.39 312.073 1195.87 307.267 L1195.87 302.174 Z\" fill=\"#000000\" fill-rule=\"nonzero\" fill-opacity=\"1\" /><path clip-path=\"url(#clip590)\" d=\"M1209.69 261.179 L1227.03 274.069 L1245.34 260.51 L1245.34 267.417 L1231.33 277.793 L1245.34 288.169 L1245.34 295.076 L1226.68 281.231 L1209.69 293.899 L1209.69 286.992 L1222.39 277.539 L1209.69 268.086 L1209.69 261.179 Z\" fill=\"#000000\" fill-rule=\"nonzero\" fill-opacity=\"1\" /><path clip-path=\"url(#clip590)\" d=\"M1195.87 253.158 L1195.87 248.065 Q1203.39 243.291 1210.58 240.936 Q1217.77 238.549 1224.87 238.549 Q1232 238.549 1239.22 240.936 Q1246.45 243.291 1253.93 248.065 L1253.93 253.158 Q1246.64 248.925 1239.45 246.856 Q1232.22 244.755 1224.87 244.755 Q1217.52 244.755 1210.36 246.856 Q1203.19 248.925 1195.87 253.158 Z\" fill=\"#000000\" fill-rule=\"nonzero\" fill-opacity=\"1\" /><polyline clip-path=\"url(#clip593)\" style=\"stroke:#009af9; stroke-linecap:round; stroke-linejoin:round; stroke-width:4; stroke-opacity:1; fill:none\" points=\"1493.72,606.88 1502.06,598.572 1510.4,590.35 1518.74,582.214 1527.08,574.161 1535.42,566.191 1543.76,558.302 1552.1,550.494 1560.44,542.764 1568.78,535.112 1577.12,527.537 1585.46,520.038 1593.8,512.614 1602.14,505.263 1610.48,497.985 1618.82,490.778 1627.16,483.642 1635.5,476.575 1643.84,469.577 1652.18,462.647 1660.52,455.784 1668.86,448.986 1677.2,442.253 1685.54,435.585 1693.88,428.98 1702.22,422.437 1710.56,415.955 1718.9,409.535 1727.24,403.174 1735.58,396.873 1743.92,390.63 1752.26,384.444 1760.6,378.316 1768.94,372.243 1777.28,366.226 1785.62,360.264 1793.96,354.355 1802.3,348.5 1810.64,342.698 1818.98,336.947 1827.32,331.248 1835.66,325.6 1844.01,320.001 1852.35,314.452 1860.69,308.952 1869.03,303.5 1877.37,298.095 1885.71,292.738 1894.05,287.427 1902.39,282.161 1910.73,276.942 1919.07,271.766 1927.41,266.635 1935.75,261.548 1944.09,256.504 1952.43,251.503 1960.77,246.543 1969.11,241.626 1977.45,236.749 1985.79,231.913 1994.13,227.118 2002.47,222.362 2010.81,217.645 2019.15,212.967 2027.49,208.328 2035.83,203.726 2044.17,199.162 2052.51,194.635 2060.85,190.144 2069.19,185.69 2077.53,181.271 2085.87,176.888 2094.21,172.54 2102.55,168.226 2110.89,163.947 2119.23,159.701 2127.57,155.489 2135.91,151.31 2144.25,147.164 2152.59,143.05 2160.93,138.968 2169.27,134.918 2177.61,130.899 2185.95,126.911 2194.29,122.953 2202.63,119.026 2210.97,115.129 2219.31,111.262 2227.65,107.424 2235.99,103.615 2244.33,99.8341 2252.67,96.0821 2261.01,92.3582 2269.35,88.6621 2277.69,84.9935 2286.03,81.3522 2294.37,77.7378 2302.71,74.1501 2311.06,70.5887 2319.4,67.0535 2327.74,63.5442 \"/>\n",
       "<path clip-path=\"url(#clip590)\" d=\"M1498.17 170.122 L1639 170.122 L1639 66.442 L1498.17 66.442  Z\" fill=\"#ffffff\" fill-rule=\"evenodd\" fill-opacity=\"1\"/>\n",
       "<polyline clip-path=\"url(#clip590)\" style=\"stroke:#000000; stroke-linecap:round; stroke-linejoin:round; stroke-width:4; stroke-opacity:1; fill:none\" points=\"1498.17,170.122 1639,170.122 1639,66.442 1498.17,66.442 1498.17,170.122 \"/>\n",
       "<polyline clip-path=\"url(#clip590)\" style=\"stroke:#009af9; stroke-linecap:round; stroke-linejoin:round; stroke-width:4; stroke-opacity:1; fill:none\" points=\"1507.99,118.282 1566.93,118.282 \"/>\n",
       "<path clip-path=\"url(#clip590)\" d=\"M1590.59 137.969 Q1588.79 142.599 1587.07 144.011 Q1585.36 145.423 1582.49 145.423 L1579.09 145.423 L1579.09 141.858 L1581.59 141.858 Q1583.35 141.858 1584.32 141.025 Q1585.29 140.192 1586.47 137.09 L1587.23 135.145 L1576.75 109.636 L1581.26 109.636 L1589.36 129.914 L1597.47 109.636 L1601.98 109.636 L1590.59 137.969 Z\" fill=\"#000000\" fill-rule=\"nonzero\" fill-opacity=\"1\" /><path clip-path=\"url(#clip590)\" d=\"M1609.27 131.627 L1616.91 131.627 L1616.91 105.261 L1608.6 106.928 L1608.6 102.669 L1616.86 101.002 L1621.54 101.002 L1621.54 131.627 L1629.18 131.627 L1629.18 135.562 L1609.27 135.562 L1609.27 131.627 Z\" fill=\"#000000\" fill-rule=\"nonzero\" fill-opacity=\"1\" /><path clip-path=\"url(#clip590)\" d=\"M250.028 1423.18 L1134.09 1423.18 L1134.09 847.244 L250.028 847.244  Z\" fill=\"#ffffff\" fill-rule=\"evenodd\" fill-opacity=\"1\"/>\n",
       "<defs>\n",
       "  <clipPath id=\"clip594\">\n",
       "    <rect x=\"250\" y=\"847\" width=\"885\" height=\"577\"/>\n",
       "  </clipPath>\n",
       "</defs>\n",
       "<polyline clip-path=\"url(#clip594)\" style=\"stroke:#000000; stroke-linecap:round; stroke-linejoin:round; stroke-width:2; stroke-opacity:0.1; fill:none\" points=\"293.97,1423.18 293.97,847.244 \"/>\n",
       "<polyline clip-path=\"url(#clip594)\" style=\"stroke:#000000; stroke-linecap:round; stroke-linejoin:round; stroke-width:2; stroke-opacity:0.1; fill:none\" points=\"489.111,1423.18 489.111,847.244 \"/>\n",
       "<polyline clip-path=\"url(#clip594)\" style=\"stroke:#000000; stroke-linecap:round; stroke-linejoin:round; stroke-width:2; stroke-opacity:0.1; fill:none\" points=\"684.252,1423.18 684.252,847.244 \"/>\n",
       "<polyline clip-path=\"url(#clip594)\" style=\"stroke:#000000; stroke-linecap:round; stroke-linejoin:round; stroke-width:2; stroke-opacity:0.1; fill:none\" points=\"879.393,1423.18 879.393,847.244 \"/>\n",
       "<polyline clip-path=\"url(#clip594)\" style=\"stroke:#000000; stroke-linecap:round; stroke-linejoin:round; stroke-width:2; stroke-opacity:0.1; fill:none\" points=\"1074.53,1423.18 1074.53,847.244 \"/>\n",
       "<polyline clip-path=\"url(#clip590)\" style=\"stroke:#000000; stroke-linecap:round; stroke-linejoin:round; stroke-width:4; stroke-opacity:1; fill:none\" points=\"250.028,1423.18 1134.09,1423.18 \"/>\n",
       "<polyline clip-path=\"url(#clip590)\" style=\"stroke:#000000; stroke-linecap:round; stroke-linejoin:round; stroke-width:4; stroke-opacity:1; fill:none\" points=\"293.97,1423.18 293.97,1404.28 \"/>\n",
       "<polyline clip-path=\"url(#clip590)\" style=\"stroke:#000000; stroke-linecap:round; stroke-linejoin:round; stroke-width:4; stroke-opacity:1; fill:none\" points=\"489.111,1423.18 489.111,1404.28 \"/>\n",
       "<polyline clip-path=\"url(#clip590)\" style=\"stroke:#000000; stroke-linecap:round; stroke-linejoin:round; stroke-width:4; stroke-opacity:1; fill:none\" points=\"684.252,1423.18 684.252,1404.28 \"/>\n",
       "<polyline clip-path=\"url(#clip590)\" style=\"stroke:#000000; stroke-linecap:round; stroke-linejoin:round; stroke-width:4; stroke-opacity:1; fill:none\" points=\"879.393,1423.18 879.393,1404.28 \"/>\n",
       "<polyline clip-path=\"url(#clip590)\" style=\"stroke:#000000; stroke-linecap:round; stroke-linejoin:round; stroke-width:4; stroke-opacity:1; fill:none\" points=\"1074.53,1423.18 1074.53,1404.28 \"/>\n",
       "<path clip-path=\"url(#clip590)\" d=\"M293.97 1454.1 Q290.358 1454.1 288.53 1457.66 Q286.724 1461.2 286.724 1468.33 Q286.724 1475.44 288.53 1479.01 Q290.358 1482.55 293.97 1482.55 Q297.604 1482.55 299.409 1479.01 Q301.238 1475.44 301.238 1468.33 Q301.238 1461.2 299.409 1457.66 Q297.604 1454.1 293.97 1454.1 M293.97 1450.39 Q299.78 1450.39 302.835 1455 Q305.914 1459.58 305.914 1468.33 Q305.914 1477.06 302.835 1481.67 Q299.78 1486.25 293.97 1486.25 Q288.159 1486.25 285.081 1481.67 Q282.025 1477.06 282.025 1468.33 Q282.025 1459.58 285.081 1455 Q288.159 1450.39 293.97 1450.39 Z\" fill=\"#000000\" fill-rule=\"nonzero\" fill-opacity=\"1\" /><path clip-path=\"url(#clip590)\" d=\"M468.382 1481.64 L484.701 1481.64 L484.701 1485.58 L462.757 1485.58 L462.757 1481.64 Q465.419 1478.89 470.002 1474.26 Q474.609 1469.61 475.789 1468.27 Q478.034 1465.74 478.914 1464.01 Q479.817 1462.25 479.817 1460.56 Q479.817 1457.8 477.872 1456.07 Q475.951 1454.33 472.849 1454.33 Q470.65 1454.33 468.197 1455.09 Q465.766 1455.86 462.988 1457.41 L462.988 1452.69 Q465.812 1451.55 468.266 1450.97 Q470.72 1450.39 472.757 1450.39 Q478.127 1450.39 481.321 1453.08 Q484.516 1455.77 484.516 1460.26 Q484.516 1462.39 483.706 1464.31 Q482.919 1466.2 480.812 1468.8 Q480.233 1469.47 477.132 1472.69 Q474.03 1475.88 468.382 1481.64 Z\" fill=\"#000000\" fill-rule=\"nonzero\" fill-opacity=\"1\" /><path clip-path=\"url(#clip590)\" d=\"M494.562 1451.02 L512.918 1451.02 L512.918 1454.96 L498.844 1454.96 L498.844 1463.43 Q499.863 1463.08 500.882 1462.92 Q501.9 1462.73 502.919 1462.73 Q508.706 1462.73 512.085 1465.9 Q515.465 1469.08 515.465 1474.49 Q515.465 1480.07 511.993 1483.17 Q508.52 1486.25 502.201 1486.25 Q500.025 1486.25 497.757 1485.88 Q495.511 1485.51 493.104 1484.77 L493.104 1480.07 Q495.187 1481.2 497.409 1481.76 Q499.632 1482.32 502.108 1482.32 Q506.113 1482.32 508.451 1480.21 Q510.789 1478.1 510.789 1474.49 Q510.789 1470.88 508.451 1468.77 Q506.113 1466.67 502.108 1466.67 Q500.233 1466.67 498.358 1467.08 Q496.507 1467.5 494.562 1468.38 L494.562 1451.02 Z\" fill=\"#000000\" fill-rule=\"nonzero\" fill-opacity=\"1\" /><path clip-path=\"url(#clip590)\" d=\"M658.951 1451.02 L677.308 1451.02 L677.308 1454.96 L663.234 1454.96 L663.234 1463.43 Q664.252 1463.08 665.271 1462.92 Q666.289 1462.73 667.308 1462.73 Q673.095 1462.73 676.474 1465.9 Q679.854 1469.08 679.854 1474.49 Q679.854 1480.07 676.382 1483.17 Q672.909 1486.25 666.59 1486.25 Q664.414 1486.25 662.146 1485.88 Q659.9 1485.51 657.493 1484.77 L657.493 1480.07 Q659.576 1481.2 661.798 1481.76 Q664.021 1482.32 666.497 1482.32 Q670.502 1482.32 672.84 1480.21 Q675.178 1478.1 675.178 1474.49 Q675.178 1470.88 672.84 1468.77 Q670.502 1466.67 666.497 1466.67 Q664.622 1466.67 662.747 1467.08 Q660.896 1467.5 658.951 1468.38 L658.951 1451.02 Z\" fill=\"#000000\" fill-rule=\"nonzero\" fill-opacity=\"1\" /><path clip-path=\"url(#clip590)\" d=\"M699.067 1454.1 Q695.456 1454.1 693.627 1457.66 Q691.821 1461.2 691.821 1468.33 Q691.821 1475.44 693.627 1479.01 Q695.456 1482.55 699.067 1482.55 Q702.701 1482.55 704.506 1479.01 Q706.335 1475.44 706.335 1468.33 Q706.335 1461.2 704.506 1457.66 Q702.701 1454.1 699.067 1454.1 M699.067 1450.39 Q704.877 1450.39 707.932 1455 Q711.011 1459.58 711.011 1468.33 Q711.011 1477.06 707.932 1481.67 Q704.877 1486.25 699.067 1486.25 Q693.257 1486.25 690.178 1481.67 Q687.122 1477.06 687.122 1468.33 Q687.122 1459.58 690.178 1455 Q693.257 1450.39 699.067 1450.39 Z\" fill=\"#000000\" fill-rule=\"nonzero\" fill-opacity=\"1\" /><path clip-path=\"url(#clip590)\" d=\"M853.247 1451.02 L875.47 1451.02 L875.47 1453.01 L862.923 1485.58 L858.039 1485.58 L869.845 1454.96 L853.247 1454.96 L853.247 1451.02 Z\" fill=\"#000000\" fill-rule=\"nonzero\" fill-opacity=\"1\" /><path clip-path=\"url(#clip590)\" d=\"M884.636 1451.02 L902.993 1451.02 L902.993 1454.96 L888.919 1454.96 L888.919 1463.43 Q889.937 1463.08 890.956 1462.92 Q891.974 1462.73 892.993 1462.73 Q898.78 1462.73 902.159 1465.9 Q905.539 1469.08 905.539 1474.49 Q905.539 1480.07 902.067 1483.17 Q898.594 1486.25 892.275 1486.25 Q890.099 1486.25 887.831 1485.88 Q885.585 1485.51 883.178 1484.77 L883.178 1480.07 Q885.261 1481.2 887.483 1481.76 Q889.706 1482.32 892.182 1482.32 Q896.187 1482.32 898.525 1480.21 Q900.863 1478.1 900.863 1474.49 Q900.863 1470.88 898.525 1468.77 Q896.187 1466.67 892.182 1466.67 Q890.307 1466.67 888.432 1467.08 Q886.581 1467.5 884.636 1468.38 L884.636 1451.02 Z\" fill=\"#000000\" fill-rule=\"nonzero\" fill-opacity=\"1\" /><path clip-path=\"url(#clip590)\" d=\"M1034.14 1481.64 L1041.78 1481.64 L1041.78 1455.28 L1033.47 1456.95 L1033.47 1452.69 L1041.73 1451.02 L1046.41 1451.02 L1046.41 1481.64 L1054.05 1481.64 L1054.05 1485.58 L1034.14 1485.58 L1034.14 1481.64 Z\" fill=\"#000000\" fill-rule=\"nonzero\" fill-opacity=\"1\" /><path clip-path=\"url(#clip590)\" d=\"M1073.49 1454.1 Q1069.88 1454.1 1068.05 1457.66 Q1066.25 1461.2 1066.25 1468.33 Q1066.25 1475.44 1068.05 1479.01 Q1069.88 1482.55 1073.49 1482.55 Q1077.13 1482.55 1078.93 1479.01 Q1080.76 1475.44 1080.76 1468.33 Q1080.76 1461.2 1078.93 1457.66 Q1077.13 1454.1 1073.49 1454.1 M1073.49 1450.39 Q1079.3 1450.39 1082.36 1455 Q1085.44 1459.58 1085.44 1468.33 Q1085.44 1477.06 1082.36 1481.67 Q1079.3 1486.25 1073.49 1486.25 Q1067.68 1486.25 1064.6 1481.67 Q1061.55 1477.06 1061.55 1468.33 Q1061.55 1459.58 1064.6 1455 Q1067.68 1450.39 1073.49 1450.39 Z\" fill=\"#000000\" fill-rule=\"nonzero\" fill-opacity=\"1\" /><path clip-path=\"url(#clip590)\" d=\"M1103.65 1454.1 Q1100.04 1454.1 1098.21 1457.66 Q1096.41 1461.2 1096.41 1468.33 Q1096.41 1475.44 1098.21 1479.01 Q1100.04 1482.55 1103.65 1482.55 Q1107.29 1482.55 1109.09 1479.01 Q1110.92 1475.44 1110.92 1468.33 Q1110.92 1461.2 1109.09 1457.66 Q1107.29 1454.1 1103.65 1454.1 M1103.65 1450.39 Q1109.46 1450.39 1112.52 1455 Q1115.6 1459.58 1115.6 1468.33 Q1115.6 1477.06 1112.52 1481.67 Q1109.46 1486.25 1103.65 1486.25 Q1097.84 1486.25 1094.77 1481.67 Q1091.71 1477.06 1091.71 1468.33 Q1091.71 1459.58 1094.77 1455 Q1097.84 1450.39 1103.65 1450.39 Z\" fill=\"#000000\" fill-rule=\"nonzero\" fill-opacity=\"1\" /><path clip-path=\"url(#clip590)\" d=\"M534.697 1548.76 L534.697 1551.62 L507.77 1551.62 Q508.152 1557.67 511.399 1560.85 Q514.677 1564 520.502 1564 Q523.876 1564 527.027 1563.17 Q530.209 1562.35 533.329 1560.69 L533.329 1566.23 Q530.178 1567.57 526.867 1568.27 Q523.557 1568.97 520.152 1568.97 Q511.622 1568.97 506.625 1564 Q501.659 1559.04 501.659 1550.57 Q501.659 1541.82 506.37 1536.69 Q511.112 1531.54 519.133 1531.54 Q526.326 1531.54 530.496 1536.18 Q534.697 1540.8 534.697 1548.76 M528.841 1547.04 Q528.777 1542.23 526.135 1539.37 Q523.525 1536.5 519.197 1536.5 Q514.295 1536.5 511.335 1539.27 Q508.407 1542.04 507.961 1547.07 L528.841 1547.04 Z\" fill=\"#000000\" fill-rule=\"nonzero\" fill-opacity=\"1\" /><path clip-path=\"url(#clip590)\" d=\"M544.31 1518.52 L550.166 1518.52 L550.166 1568.04 L544.31 1568.04 L544.31 1518.52 Z\" fill=\"#000000\" fill-rule=\"nonzero\" fill-opacity=\"1\" /><path clip-path=\"url(#clip590)\" d=\"M592.912 1548.76 L592.912 1551.62 L565.985 1551.62 Q566.367 1557.67 569.613 1560.85 Q572.892 1564 578.716 1564 Q582.09 1564 585.241 1563.17 Q588.424 1562.35 591.543 1560.69 L591.543 1566.23 Q588.392 1567.57 585.082 1568.27 Q581.772 1568.97 578.366 1568.97 Q569.836 1568.97 564.839 1564 Q559.874 1559.04 559.874 1550.57 Q559.874 1541.82 564.584 1536.69 Q569.327 1531.54 577.348 1531.54 Q584.541 1531.54 588.71 1536.18 Q592.912 1540.8 592.912 1548.76 M587.055 1547.04 Q586.992 1542.23 584.35 1539.37 Q581.74 1536.5 577.411 1536.5 Q572.51 1536.5 569.55 1539.27 Q566.621 1542.04 566.176 1547.07 L587.055 1547.04 Z\" fill=\"#000000\" fill-rule=\"nonzero\" fill-opacity=\"1\" /><path clip-path=\"url(#clip590)\" d=\"M630.278 1539.24 Q632.475 1535.29 635.53 1533.41 Q638.586 1531.54 642.723 1531.54 Q648.293 1531.54 651.317 1535.45 Q654.341 1539.33 654.341 1546.53 L654.341 1568.04 L648.452 1568.04 L648.452 1546.72 Q648.452 1541.59 646.638 1539.11 Q644.824 1536.63 641.1 1536.63 Q636.549 1536.63 633.907 1539.65 Q631.265 1542.68 631.265 1547.9 L631.265 1568.04 L625.377 1568.04 L625.377 1546.72 Q625.377 1541.56 623.563 1539.11 Q621.748 1536.63 617.961 1536.63 Q613.473 1536.63 610.831 1539.68 Q608.189 1542.71 608.189 1547.9 L608.189 1568.04 L602.301 1568.04 L602.301 1532.4 L608.189 1532.4 L608.189 1537.93 Q610.195 1534.66 612.996 1533.1 Q615.796 1531.54 619.648 1531.54 Q623.531 1531.54 626.236 1533.51 Q628.973 1535.48 630.278 1539.24 Z\" fill=\"#000000\" fill-rule=\"nonzero\" fill-opacity=\"1\" /><path clip-path=\"url(#clip590)\" d=\"M696.514 1548.76 L696.514 1551.62 L669.587 1551.62 Q669.969 1557.67 673.215 1560.85 Q676.493 1564 682.318 1564 Q685.692 1564 688.843 1563.17 Q692.026 1562.35 695.145 1560.69 L695.145 1566.23 Q691.994 1567.57 688.684 1568.27 Q685.374 1568.97 681.968 1568.97 Q673.438 1568.97 668.441 1564 Q663.476 1559.04 663.476 1550.57 Q663.476 1541.82 668.186 1536.69 Q672.929 1531.54 680.949 1531.54 Q688.143 1531.54 692.312 1536.18 Q696.514 1540.8 696.514 1548.76 M690.657 1547.04 Q690.593 1542.23 687.952 1539.37 Q685.342 1536.5 681.013 1536.5 Q676.111 1536.5 673.151 1539.27 Q670.223 1542.04 669.778 1547.07 L690.657 1547.04 Z\" fill=\"#000000\" fill-rule=\"nonzero\" fill-opacity=\"1\" /><path clip-path=\"url(#clip590)\" d=\"M735.758 1546.53 L735.758 1568.04 L729.902 1568.04 L729.902 1546.72 Q729.902 1541.66 727.928 1539.14 Q725.955 1536.63 722.008 1536.63 Q717.266 1536.63 714.529 1539.65 Q711.791 1542.68 711.791 1547.9 L711.791 1568.04 L705.903 1568.04 L705.903 1532.4 L711.791 1532.4 L711.791 1537.93 Q713.892 1534.72 716.725 1533.13 Q719.589 1531.54 723.313 1531.54 Q729.456 1531.54 732.607 1535.36 Q735.758 1539.14 735.758 1546.53 Z\" fill=\"#000000\" fill-rule=\"nonzero\" fill-opacity=\"1\" /><path clip-path=\"url(#clip590)\" d=\"M753.232 1522.27 L753.232 1532.4 L765.295 1532.4 L765.295 1536.95 L753.232 1536.95 L753.232 1556.3 Q753.232 1560.66 754.41 1561.9 Q755.619 1563.14 759.279 1563.14 L765.295 1563.14 L765.295 1568.04 L759.279 1568.04 Q752.5 1568.04 749.922 1565.53 Q747.344 1562.98 747.344 1556.3 L747.344 1536.95 L743.047 1536.95 L743.047 1532.4 L747.344 1532.4 L747.344 1522.27 L753.232 1522.27 Z\" fill=\"#000000\" fill-rule=\"nonzero\" fill-opacity=\"1\" /><path clip-path=\"url(#clip590)\" d=\"M793.718 1532.4 L799.574 1532.4 L799.574 1568.04 L793.718 1568.04 L793.718 1532.4 M793.718 1518.52 L799.574 1518.52 L799.574 1525.93 L793.718 1525.93 L793.718 1518.52 Z\" fill=\"#000000\" fill-rule=\"nonzero\" fill-opacity=\"1\" /><path clip-path=\"url(#clip590)\" d=\"M841.461 1546.53 L841.461 1568.04 L835.604 1568.04 L835.604 1546.72 Q835.604 1541.66 833.631 1539.14 Q831.658 1536.63 827.711 1536.63 Q822.968 1536.63 820.231 1539.65 Q817.494 1542.68 817.494 1547.9 L817.494 1568.04 L811.606 1568.04 L811.606 1532.4 L817.494 1532.4 L817.494 1537.93 Q819.595 1534.72 822.427 1533.13 Q825.292 1531.54 829.016 1531.54 Q835.159 1531.54 838.31 1535.36 Q841.461 1539.14 841.461 1546.53 Z\" fill=\"#000000\" fill-rule=\"nonzero\" fill-opacity=\"1\" /><path clip-path=\"url(#clip590)\" d=\"M876.599 1537.81 L876.599 1518.52 L882.456 1518.52 L882.456 1568.04 L876.599 1568.04 L876.599 1562.7 Q874.753 1565.88 871.921 1567.44 Q869.12 1568.97 865.173 1568.97 Q858.712 1568.97 854.638 1563.81 Q850.596 1558.65 850.596 1550.25 Q850.596 1541.85 854.638 1536.69 Q858.712 1531.54 865.173 1531.54 Q869.12 1531.54 871.921 1533.1 Q874.753 1534.62 876.599 1537.81 M856.643 1550.25 Q856.643 1556.71 859.285 1560.4 Q861.958 1564.07 866.605 1564.07 Q871.252 1564.07 873.926 1560.4 Q876.599 1556.71 876.599 1550.25 Q876.599 1543.79 873.926 1540.13 Q871.252 1536.44 866.605 1536.44 Q861.958 1536.44 859.285 1540.13 Q856.643 1543.79 856.643 1550.25 Z\" fill=\"#000000\" fill-rule=\"nonzero\" fill-opacity=\"1\" /><polyline clip-path=\"url(#clip594)\" style=\"stroke:#000000; stroke-linecap:round; stroke-linejoin:round; stroke-width:2; stroke-opacity:0.1; fill:none\" points=\"250.028,1423.18 1134.09,1423.18 \"/>\n",
       "<polyline clip-path=\"url(#clip594)\" style=\"stroke:#000000; stroke-linecap:round; stroke-linejoin:round; stroke-width:2; stroke-opacity:0.1; fill:none\" points=\"250.028,1231.2 1134.09,1231.2 \"/>\n",
       "<polyline clip-path=\"url(#clip594)\" style=\"stroke:#000000; stroke-linecap:round; stroke-linejoin:round; stroke-width:2; stroke-opacity:0.1; fill:none\" points=\"250.028,1039.22 1134.09,1039.22 \"/>\n",
       "<polyline clip-path=\"url(#clip594)\" style=\"stroke:#000000; stroke-linecap:round; stroke-linejoin:round; stroke-width:2; stroke-opacity:0.1; fill:none\" points=\"250.028,847.244 1134.09,847.244 \"/>\n",
       "<polyline clip-path=\"url(#clip590)\" style=\"stroke:#000000; stroke-linecap:round; stroke-linejoin:round; stroke-width:4; stroke-opacity:1; fill:none\" points=\"250.028,1423.18 250.028,847.244 \"/>\n",
       "<polyline clip-path=\"url(#clip590)\" style=\"stroke:#000000; stroke-linecap:round; stroke-linejoin:round; stroke-width:4; stroke-opacity:1; fill:none\" points=\"250.028,1423.18 268.926,1423.18 \"/>\n",
       "<polyline clip-path=\"url(#clip590)\" style=\"stroke:#000000; stroke-linecap:round; stroke-linejoin:round; stroke-width:4; stroke-opacity:1; fill:none\" points=\"250.028,1231.2 268.926,1231.2 \"/>\n",
       "<polyline clip-path=\"url(#clip590)\" style=\"stroke:#000000; stroke-linecap:round; stroke-linejoin:round; stroke-width:4; stroke-opacity:1; fill:none\" points=\"250.028,1039.22 268.926,1039.22 \"/>\n",
       "<polyline clip-path=\"url(#clip590)\" style=\"stroke:#000000; stroke-linecap:round; stroke-linejoin:round; stroke-width:4; stroke-opacity:1; fill:none\" points=\"250.028,847.244 268.926,847.244 \"/>\n",
       "<path clip-path=\"url(#clip590)\" d=\"M202.084 1408.98 Q198.473 1408.98 196.644 1412.54 Q194.838 1416.08 194.838 1423.21 Q194.838 1430.32 196.644 1433.89 Q198.473 1437.43 202.084 1437.43 Q205.718 1437.43 207.524 1433.89 Q209.352 1430.32 209.352 1423.21 Q209.352 1416.08 207.524 1412.54 Q205.718 1408.98 202.084 1408.98 M202.084 1405.27 Q207.894 1405.27 210.949 1409.88 Q214.028 1414.46 214.028 1423.21 Q214.028 1431.94 210.949 1436.55 Q207.894 1441.13 202.084 1441.13 Q196.274 1441.13 193.195 1436.55 Q190.139 1431.94 190.139 1423.21 Q190.139 1414.46 193.195 1409.88 Q196.274 1405.27 202.084 1405.27 Z\" fill=\"#000000\" fill-rule=\"nonzero\" fill-opacity=\"1\" /><path clip-path=\"url(#clip590)\" d=\"M193.125 1213.92 L211.482 1213.92 L211.482 1217.86 L197.408 1217.86 L197.408 1226.33 Q198.426 1225.98 199.445 1225.82 Q200.463 1225.63 201.482 1225.63 Q207.269 1225.63 210.649 1228.81 Q214.028 1231.98 214.028 1237.39 Q214.028 1242.97 210.556 1246.07 Q207.084 1249.15 200.764 1249.15 Q198.588 1249.15 196.32 1248.78 Q194.075 1248.41 191.667 1247.67 L191.667 1242.97 Q193.75 1244.11 195.973 1244.66 Q198.195 1245.22 200.672 1245.22 Q204.676 1245.22 207.014 1243.11 Q209.352 1241 209.352 1237.39 Q209.352 1233.78 207.014 1231.68 Q204.676 1229.57 200.672 1229.57 Q198.797 1229.57 196.922 1229.99 Q195.07 1230.4 193.125 1231.28 L193.125 1213.92 Z\" fill=\"#000000\" fill-rule=\"nonzero\" fill-opacity=\"1\" /><path clip-path=\"url(#clip590)\" d=\"M162.732 1052.57 L170.371 1052.57 L170.371 1026.2 L162.061 1027.87 L162.061 1023.61 L170.325 1021.94 L175.001 1021.94 L175.001 1052.57 L182.639 1052.57 L182.639 1056.5 L162.732 1056.5 L162.732 1052.57 Z\" fill=\"#000000\" fill-rule=\"nonzero\" fill-opacity=\"1\" /><path clip-path=\"url(#clip590)\" d=\"M202.084 1025.02 Q198.473 1025.02 196.644 1028.59 Q194.838 1032.13 194.838 1039.26 Q194.838 1046.36 196.644 1049.93 Q198.473 1053.47 202.084 1053.47 Q205.718 1053.47 207.524 1049.93 Q209.352 1046.36 209.352 1039.26 Q209.352 1032.13 207.524 1028.59 Q205.718 1025.02 202.084 1025.02 M202.084 1021.32 Q207.894 1021.32 210.949 1025.92 Q214.028 1030.51 214.028 1039.26 Q214.028 1047.98 210.949 1052.59 Q207.894 1057.17 202.084 1057.17 Q196.274 1057.17 193.195 1052.59 Q190.139 1047.98 190.139 1039.26 Q190.139 1030.51 193.195 1025.92 Q196.274 1021.32 202.084 1021.32 Z\" fill=\"#000000\" fill-rule=\"nonzero\" fill-opacity=\"1\" /><path clip-path=\"url(#clip590)\" d=\"M163.727 860.589 L171.366 860.589 L171.366 834.223 L163.056 835.89 L163.056 831.631 L171.32 829.964 L175.996 829.964 L175.996 860.589 L183.635 860.589 L183.635 864.524 L163.727 864.524 L163.727 860.589 Z\" fill=\"#000000\" fill-rule=\"nonzero\" fill-opacity=\"1\" /><path clip-path=\"url(#clip590)\" d=\"M193.125 829.964 L211.482 829.964 L211.482 833.899 L197.408 833.899 L197.408 842.371 Q198.426 842.024 199.445 841.862 Q200.463 841.677 201.482 841.677 Q207.269 841.677 210.649 844.848 Q214.028 848.02 214.028 853.436 Q214.028 859.015 210.556 862.117 Q207.084 865.195 200.764 865.195 Q198.588 865.195 196.32 864.825 Q194.075 864.455 191.667 863.714 L191.667 859.015 Q193.75 860.149 195.973 860.705 Q198.195 861.26 200.672 861.26 Q204.676 861.26 207.014 859.154 Q209.352 857.047 209.352 853.436 Q209.352 849.825 207.014 847.719 Q204.676 845.612 200.672 845.612 Q198.797 845.612 196.922 846.029 Q195.07 846.445 193.125 847.325 L193.125 829.964 Z\" fill=\"#000000\" fill-rule=\"nonzero\" fill-opacity=\"1\" /><path clip-path=\"url(#clip590)\" d=\"M90.2887 1251.26 L111.805 1251.26 L111.805 1257.12 L90.4797 1257.12 Q85.419 1257.12 82.9045 1259.09 Q80.3901 1261.06 80.3901 1265.01 Q80.3901 1269.75 83.4138 1272.49 Q86.4375 1275.23 91.6574 1275.23 L111.805 1275.23 L111.805 1281.11 L76.1569 1281.11 L76.1569 1275.23 L81.695 1275.23 Q78.4804 1273.13 76.8889 1270.29 Q75.2975 1267.43 75.2975 1263.7 Q75.2975 1257.56 79.1169 1254.41 Q82.9045 1251.26 90.2887 1251.26 Z\" fill=\"#000000\" fill-rule=\"nonzero\" fill-opacity=\"1\" /><path clip-path=\"url(#clip590)\" d=\"M62.2796 1200.81 L67.1494 1200.81 L67.1494 1206.41 Q67.1494 1209.56 68.4225 1210.8 Q69.6957 1212.01 73.0058 1212.01 L76.1569 1212.01 L76.1569 1202.37 L80.7084 1202.37 L80.7084 1212.01 L111.805 1212.01 L111.805 1217.9 L80.7084 1217.9 L80.7084 1223.5 L76.1569 1223.5 L76.1569 1217.9 L73.6742 1217.9 Q67.7223 1217.9 65.0169 1215.13 Q62.2796 1212.36 62.2796 1206.35 L62.2796 1200.81 Z\" fill=\"#000000\" fill-rule=\"nonzero\" fill-opacity=\"1\" /><path clip-path=\"url(#clip590)\" d=\"M77.5255 1170.26 L83 1170.26 Q81.6314 1172.74 80.963 1175.25 Q80.2628 1177.73 80.2628 1180.28 Q80.2628 1185.98 83.8912 1189.13 Q87.4878 1192.28 94.0127 1192.28 Q100.538 1192.28 104.166 1189.13 Q107.763 1185.98 107.763 1180.28 Q107.763 1177.73 107.094 1175.25 Q106.394 1172.74 105.025 1170.26 L110.436 1170.26 Q111.582 1172.71 112.155 1175.35 Q112.728 1177.96 112.728 1180.92 Q112.728 1188.97 107.667 1193.71 Q102.606 1198.46 94.0127 1198.46 Q85.2917 1198.46 80.2946 1193.68 Q75.2975 1188.87 75.2975 1180.54 Q75.2975 1177.83 75.8704 1175.25 Q76.4115 1172.67 77.5255 1170.26 Z\" fill=\"#000000\" fill-rule=\"nonzero\" fill-opacity=\"1\" /><path clip-path=\"url(#clip590)\" d=\"M66.0354 1154.28 L76.1569 1154.28 L76.1569 1142.21 L80.7084 1142.21 L80.7084 1154.28 L100.06 1154.28 Q104.421 1154.28 105.662 1153.1 Q106.903 1151.89 106.903 1148.23 L106.903 1142.21 L111.805 1142.21 L111.805 1148.23 Q111.805 1155.01 109.29 1157.59 Q106.744 1160.17 100.06 1160.17 L80.7084 1160.17 L80.7084 1164.46 L76.1569 1164.46 L76.1569 1160.17 L66.0354 1160.17 L66.0354 1154.28 Z\" fill=\"#000000\" fill-rule=\"nonzero\" fill-opacity=\"1\" /><path clip-path=\"url(#clip590)\" d=\"M92.5167 1083.3 L95.3813 1083.3 L95.3813 1110.23 Q101.429 1109.84 104.612 1106.6 Q107.763 1103.32 107.763 1097.5 Q107.763 1094.12 106.935 1090.97 Q106.108 1087.79 104.452 1084.67 L109.991 1084.67 Q111.327 1087.82 112.028 1091.13 Q112.728 1094.44 112.728 1097.85 Q112.728 1106.38 107.763 1111.37 Q102.797 1116.34 94.331 1116.34 Q85.5781 1116.34 80.4537 1111.63 Q75.2975 1106.88 75.2975 1098.86 Q75.2975 1091.67 79.9445 1087.5 Q84.5596 1083.3 92.5167 1083.3 M90.798 1089.16 Q85.9919 1089.22 83.1273 1091.86 Q80.2628 1094.47 80.2628 1098.8 Q80.2628 1103.7 83.0318 1106.66 Q85.8009 1109.59 90.8298 1110.04 L90.798 1089.16 Z\" fill=\"#000000\" fill-rule=\"nonzero\" fill-opacity=\"1\" /><path clip-path=\"url(#clip590)\" d=\"M76.1569 1077.89 L76.1569 1071.68 L106.076 1060.54 L76.1569 1049.4 L76.1569 1043.2 L111.805 1056.56 L111.805 1064.52 L76.1569 1077.89 Z\" fill=\"#000000\" fill-rule=\"nonzero\" fill-opacity=\"1\" /><path clip-path=\"url(#clip590)\" d=\"M93.8854 1018.91 Q93.8854 1026.01 95.5086 1028.75 Q97.1319 1031.48 101.047 1031.48 Q104.166 1031.48 106.012 1029.45 Q107.826 1027.38 107.826 1023.84 Q107.826 1018.97 104.389 1016.05 Q100.919 1013.09 95.1903 1013.09 L93.8854 1013.09 L93.8854 1018.91 M91.4664 1007.23 L111.805 1007.23 L111.805 1013.09 L106.394 1013.09 Q109.64 1015.09 111.2 1018.08 Q112.728 1021.07 112.728 1025.4 Q112.728 1030.88 109.672 1034.12 Q106.585 1037.34 101.429 1037.34 Q95.4131 1037.34 92.3576 1033.33 Q89.3021 1029.29 89.3021 1021.3 L89.3021 1013.09 L88.7291 1013.09 Q84.6869 1013.09 82.4907 1015.76 Q80.2628 1018.4 80.2628 1023.21 Q80.2628 1026.26 80.9948 1029.16 Q81.7269 1032.06 83.191 1034.73 L77.7801 1034.73 Q76.5388 1031.51 75.9341 1028.49 Q75.2975 1025.47 75.2975 1022.6 Q75.2975 1014.87 79.3079 1011.05 Q83.3183 1007.23 91.4664 1007.23 Z\" fill=\"#000000\" fill-rule=\"nonzero\" fill-opacity=\"1\" /><path clip-path=\"url(#clip590)\" d=\"M62.2796 995.166 L62.2796 989.31 L111.805 989.31 L111.805 995.166 L62.2796 995.166 Z\" fill=\"#000000\" fill-rule=\"nonzero\" fill-opacity=\"1\" /><path clip-path=\"url(#clip594)\" d=\"M298.653 847.244 L298.653 1423.18 L304.897 1423.18 L304.897 847.244 L298.653 847.244 L298.653 847.244  Z\" fill=\"#009af9\" fill-rule=\"evenodd\" fill-opacity=\"1\"/>\n",
       "<polyline clip-path=\"url(#clip594)\" style=\"stroke:#000000; stroke-linecap:round; stroke-linejoin:round; stroke-width:4; stroke-opacity:1; fill:none\" points=\"298.653,847.244 298.653,1423.18 304.897,1423.18 304.897,847.244 298.653,847.244 \"/>\n",
       "<path clip-path=\"url(#clip594)\" d=\"M306.459 847.244 L306.459 1423.18 L312.703 1423.18 L312.703 847.244 L306.459 847.244 L306.459 847.244  Z\" fill=\"#009af9\" fill-rule=\"evenodd\" fill-opacity=\"1\"/>\n",
       "<polyline clip-path=\"url(#clip594)\" style=\"stroke:#000000; stroke-linecap:round; stroke-linejoin:round; stroke-width:4; stroke-opacity:1; fill:none\" points=\"306.459,847.244 306.459,1423.18 312.703,1423.18 312.703,847.244 306.459,847.244 \"/>\n",
       "<path clip-path=\"url(#clip594)\" d=\"M314.264 847.244 L314.264 1423.18 L320.509 1423.18 L320.509 847.244 L314.264 847.244 L314.264 847.244  Z\" fill=\"#009af9\" fill-rule=\"evenodd\" fill-opacity=\"1\"/>\n",
       "<polyline clip-path=\"url(#clip594)\" style=\"stroke:#000000; stroke-linecap:round; stroke-linejoin:round; stroke-width:4; stroke-opacity:1; fill:none\" points=\"314.264,847.244 314.264,1423.18 320.509,1423.18 320.509,847.244 314.264,847.244 \"/>\n",
       "<path clip-path=\"url(#clip594)\" d=\"M322.07 847.244 L322.07 1423.18 L328.314 1423.18 L328.314 847.244 L322.07 847.244 L322.07 847.244  Z\" fill=\"#009af9\" fill-rule=\"evenodd\" fill-opacity=\"1\"/>\n",
       "<polyline clip-path=\"url(#clip594)\" style=\"stroke:#000000; stroke-linecap:round; stroke-linejoin:round; stroke-width:4; stroke-opacity:1; fill:none\" points=\"322.07,847.244 322.07,1423.18 328.314,1423.18 328.314,847.244 322.07,847.244 \"/>\n",
       "<path clip-path=\"url(#clip594)\" d=\"M329.876 847.244 L329.876 1423.18 L336.12 1423.18 L336.12 847.244 L329.876 847.244 L329.876 847.244  Z\" fill=\"#009af9\" fill-rule=\"evenodd\" fill-opacity=\"1\"/>\n",
       "<polyline clip-path=\"url(#clip594)\" style=\"stroke:#000000; stroke-linecap:round; stroke-linejoin:round; stroke-width:4; stroke-opacity:1; fill:none\" points=\"329.876,847.244 329.876,1423.18 336.12,1423.18 336.12,847.244 329.876,847.244 \"/>\n",
       "<path clip-path=\"url(#clip594)\" d=\"M337.681 847.244 L337.681 1423.18 L343.926 1423.18 L343.926 847.244 L337.681 847.244 L337.681 847.244  Z\" fill=\"#009af9\" fill-rule=\"evenodd\" fill-opacity=\"1\"/>\n",
       "<polyline clip-path=\"url(#clip594)\" style=\"stroke:#000000; stroke-linecap:round; stroke-linejoin:round; stroke-width:4; stroke-opacity:1; fill:none\" points=\"337.681,847.244 337.681,1423.18 343.926,1423.18 343.926,847.244 337.681,847.244 \"/>\n",
       "<path clip-path=\"url(#clip594)\" d=\"M345.487 847.244 L345.487 1423.18 L351.731 1423.18 L351.731 847.244 L345.487 847.244 L345.487 847.244  Z\" fill=\"#009af9\" fill-rule=\"evenodd\" fill-opacity=\"1\"/>\n",
       "<polyline clip-path=\"url(#clip594)\" style=\"stroke:#000000; stroke-linecap:round; stroke-linejoin:round; stroke-width:4; stroke-opacity:1; fill:none\" points=\"345.487,847.244 345.487,1423.18 351.731,1423.18 351.731,847.244 345.487,847.244 \"/>\n",
       "<path clip-path=\"url(#clip594)\" d=\"M353.292 847.244 L353.292 1423.18 L359.537 1423.18 L359.537 847.244 L353.292 847.244 L353.292 847.244  Z\" fill=\"#009af9\" fill-rule=\"evenodd\" fill-opacity=\"1\"/>\n",
       "<polyline clip-path=\"url(#clip594)\" style=\"stroke:#000000; stroke-linecap:round; stroke-linejoin:round; stroke-width:4; stroke-opacity:1; fill:none\" points=\"353.292,847.244 353.292,1423.18 359.537,1423.18 359.537,847.244 353.292,847.244 \"/>\n",
       "<path clip-path=\"url(#clip594)\" d=\"M361.098 847.244 L361.098 1423.18 L367.343 1423.18 L367.343 847.244 L361.098 847.244 L361.098 847.244  Z\" fill=\"#009af9\" fill-rule=\"evenodd\" fill-opacity=\"1\"/>\n",
       "<polyline clip-path=\"url(#clip594)\" style=\"stroke:#000000; stroke-linecap:round; stroke-linejoin:round; stroke-width:4; stroke-opacity:1; fill:none\" points=\"361.098,847.244 361.098,1423.18 367.343,1423.18 367.343,847.244 361.098,847.244 \"/>\n",
       "<path clip-path=\"url(#clip594)\" d=\"M368.904 847.244 L368.904 1423.18 L375.148 1423.18 L375.148 847.244 L368.904 847.244 L368.904 847.244  Z\" fill=\"#009af9\" fill-rule=\"evenodd\" fill-opacity=\"1\"/>\n",
       "<polyline clip-path=\"url(#clip594)\" style=\"stroke:#000000; stroke-linecap:round; stroke-linejoin:round; stroke-width:4; stroke-opacity:1; fill:none\" points=\"368.904,847.244 368.904,1423.18 375.148,1423.18 375.148,847.244 368.904,847.244 \"/>\n",
       "<path clip-path=\"url(#clip594)\" d=\"M376.709 847.244 L376.709 1423.18 L382.954 1423.18 L382.954 847.244 L376.709 847.244 L376.709 847.244  Z\" fill=\"#009af9\" fill-rule=\"evenodd\" fill-opacity=\"1\"/>\n",
       "<polyline clip-path=\"url(#clip594)\" style=\"stroke:#000000; stroke-linecap:round; stroke-linejoin:round; stroke-width:4; stroke-opacity:1; fill:none\" points=\"376.709,847.244 376.709,1423.18 382.954,1423.18 382.954,847.244 376.709,847.244 \"/>\n",
       "<path clip-path=\"url(#clip594)\" d=\"M384.515 847.244 L384.515 1423.18 L390.76 1423.18 L390.76 847.244 L384.515 847.244 L384.515 847.244  Z\" fill=\"#009af9\" fill-rule=\"evenodd\" fill-opacity=\"1\"/>\n",
       "<polyline clip-path=\"url(#clip594)\" style=\"stroke:#000000; stroke-linecap:round; stroke-linejoin:round; stroke-width:4; stroke-opacity:1; fill:none\" points=\"384.515,847.244 384.515,1423.18 390.76,1423.18 390.76,847.244 384.515,847.244 \"/>\n",
       "<path clip-path=\"url(#clip594)\" d=\"M392.321 847.244 L392.321 1423.18 L398.565 1423.18 L398.565 847.244 L392.321 847.244 L392.321 847.244  Z\" fill=\"#009af9\" fill-rule=\"evenodd\" fill-opacity=\"1\"/>\n",
       "<polyline clip-path=\"url(#clip594)\" style=\"stroke:#000000; stroke-linecap:round; stroke-linejoin:round; stroke-width:4; stroke-opacity:1; fill:none\" points=\"392.321,847.244 392.321,1423.18 398.565,1423.18 398.565,847.244 392.321,847.244 \"/>\n",
       "<path clip-path=\"url(#clip594)\" d=\"M400.126 847.244 L400.126 1423.18 L406.371 1423.18 L406.371 847.244 L400.126 847.244 L400.126 847.244  Z\" fill=\"#009af9\" fill-rule=\"evenodd\" fill-opacity=\"1\"/>\n",
       "<polyline clip-path=\"url(#clip594)\" style=\"stroke:#000000; stroke-linecap:round; stroke-linejoin:round; stroke-width:4; stroke-opacity:1; fill:none\" points=\"400.126,847.244 400.126,1423.18 406.371,1423.18 406.371,847.244 400.126,847.244 \"/>\n",
       "<path clip-path=\"url(#clip594)\" d=\"M407.932 847.244 L407.932 1423.18 L414.177 1423.18 L414.177 847.244 L407.932 847.244 L407.932 847.244  Z\" fill=\"#009af9\" fill-rule=\"evenodd\" fill-opacity=\"1\"/>\n",
       "<polyline clip-path=\"url(#clip594)\" style=\"stroke:#000000; stroke-linecap:round; stroke-linejoin:round; stroke-width:4; stroke-opacity:1; fill:none\" points=\"407.932,847.244 407.932,1423.18 414.177,1423.18 414.177,847.244 407.932,847.244 \"/>\n",
       "<path clip-path=\"url(#clip594)\" d=\"M415.738 847.244 L415.738 1423.18 L421.982 1423.18 L421.982 847.244 L415.738 847.244 L415.738 847.244  Z\" fill=\"#009af9\" fill-rule=\"evenodd\" fill-opacity=\"1\"/>\n",
       "<polyline clip-path=\"url(#clip594)\" style=\"stroke:#000000; stroke-linecap:round; stroke-linejoin:round; stroke-width:4; stroke-opacity:1; fill:none\" points=\"415.738,847.244 415.738,1423.18 421.982,1423.18 421.982,847.244 415.738,847.244 \"/>\n",
       "<path clip-path=\"url(#clip594)\" d=\"M423.543 847.244 L423.543 1423.18 L429.788 1423.18 L429.788 847.244 L423.543 847.244 L423.543 847.244  Z\" fill=\"#009af9\" fill-rule=\"evenodd\" fill-opacity=\"1\"/>\n",
       "<polyline clip-path=\"url(#clip594)\" style=\"stroke:#000000; stroke-linecap:round; stroke-linejoin:round; stroke-width:4; stroke-opacity:1; fill:none\" points=\"423.543,847.244 423.543,1423.18 429.788,1423.18 429.788,847.244 423.543,847.244 \"/>\n",
       "<path clip-path=\"url(#clip594)\" d=\"M431.349 847.244 L431.349 1423.18 L437.593 1423.18 L437.593 847.244 L431.349 847.244 L431.349 847.244  Z\" fill=\"#009af9\" fill-rule=\"evenodd\" fill-opacity=\"1\"/>\n",
       "<polyline clip-path=\"url(#clip594)\" style=\"stroke:#000000; stroke-linecap:round; stroke-linejoin:round; stroke-width:4; stroke-opacity:1; fill:none\" points=\"431.349,847.244 431.349,1423.18 437.593,1423.18 437.593,847.244 431.349,847.244 \"/>\n",
       "<path clip-path=\"url(#clip594)\" d=\"M439.155 847.244 L439.155 1423.18 L445.399 1423.18 L445.399 847.244 L439.155 847.244 L439.155 847.244  Z\" fill=\"#009af9\" fill-rule=\"evenodd\" fill-opacity=\"1\"/>\n",
       "<polyline clip-path=\"url(#clip594)\" style=\"stroke:#000000; stroke-linecap:round; stroke-linejoin:round; stroke-width:4; stroke-opacity:1; fill:none\" points=\"439.155,847.244 439.155,1423.18 445.399,1423.18 445.399,847.244 439.155,847.244 \"/>\n",
       "<path clip-path=\"url(#clip594)\" d=\"M446.96 847.244 L446.96 1423.18 L453.205 1423.18 L453.205 847.244 L446.96 847.244 L446.96 847.244  Z\" fill=\"#009af9\" fill-rule=\"evenodd\" fill-opacity=\"1\"/>\n",
       "<polyline clip-path=\"url(#clip594)\" style=\"stroke:#000000; stroke-linecap:round; stroke-linejoin:round; stroke-width:4; stroke-opacity:1; fill:none\" points=\"446.96,847.244 446.96,1423.18 453.205,1423.18 453.205,847.244 446.96,847.244 \"/>\n",
       "<path clip-path=\"url(#clip594)\" d=\"M454.766 847.244 L454.766 1423.18 L461.01 1423.18 L461.01 847.244 L454.766 847.244 L454.766 847.244  Z\" fill=\"#009af9\" fill-rule=\"evenodd\" fill-opacity=\"1\"/>\n",
       "<polyline clip-path=\"url(#clip594)\" style=\"stroke:#000000; stroke-linecap:round; stroke-linejoin:round; stroke-width:4; stroke-opacity:1; fill:none\" points=\"454.766,847.244 454.766,1423.18 461.01,1423.18 461.01,847.244 454.766,847.244 \"/>\n",
       "<path clip-path=\"url(#clip594)\" d=\"M462.572 847.244 L462.572 1423.18 L468.816 1423.18 L468.816 847.244 L462.572 847.244 L462.572 847.244  Z\" fill=\"#009af9\" fill-rule=\"evenodd\" fill-opacity=\"1\"/>\n",
       "<polyline clip-path=\"url(#clip594)\" style=\"stroke:#000000; stroke-linecap:round; stroke-linejoin:round; stroke-width:4; stroke-opacity:1; fill:none\" points=\"462.572,847.244 462.572,1423.18 468.816,1423.18 468.816,847.244 462.572,847.244 \"/>\n",
       "<path clip-path=\"url(#clip594)\" d=\"M470.377 847.244 L470.377 1423.18 L476.622 1423.18 L476.622 847.244 L470.377 847.244 L470.377 847.244  Z\" fill=\"#009af9\" fill-rule=\"evenodd\" fill-opacity=\"1\"/>\n",
       "<polyline clip-path=\"url(#clip594)\" style=\"stroke:#000000; stroke-linecap:round; stroke-linejoin:round; stroke-width:4; stroke-opacity:1; fill:none\" points=\"470.377,847.244 470.377,1423.18 476.622,1423.18 476.622,847.244 470.377,847.244 \"/>\n",
       "<path clip-path=\"url(#clip594)\" d=\"M478.183 847.244 L478.183 1423.18 L484.427 1423.18 L484.427 847.244 L478.183 847.244 L478.183 847.244  Z\" fill=\"#009af9\" fill-rule=\"evenodd\" fill-opacity=\"1\"/>\n",
       "<polyline clip-path=\"url(#clip594)\" style=\"stroke:#000000; stroke-linecap:round; stroke-linejoin:round; stroke-width:4; stroke-opacity:1; fill:none\" points=\"478.183,847.244 478.183,1423.18 484.427,1423.18 484.427,847.244 478.183,847.244 \"/>\n",
       "<path clip-path=\"url(#clip594)\" d=\"M485.988 847.244 L485.988 1423.18 L492.233 1423.18 L492.233 847.244 L485.988 847.244 L485.988 847.244  Z\" fill=\"#009af9\" fill-rule=\"evenodd\" fill-opacity=\"1\"/>\n",
       "<polyline clip-path=\"url(#clip594)\" style=\"stroke:#000000; stroke-linecap:round; stroke-linejoin:round; stroke-width:4; stroke-opacity:1; fill:none\" points=\"485.988,847.244 485.988,1423.18 492.233,1423.18 492.233,847.244 485.988,847.244 \"/>\n",
       "<path clip-path=\"url(#clip594)\" d=\"M493.794 847.244 L493.794 1423.18 L500.039 1423.18 L500.039 847.244 L493.794 847.244 L493.794 847.244  Z\" fill=\"#009af9\" fill-rule=\"evenodd\" fill-opacity=\"1\"/>\n",
       "<polyline clip-path=\"url(#clip594)\" style=\"stroke:#000000; stroke-linecap:round; stroke-linejoin:round; stroke-width:4; stroke-opacity:1; fill:none\" points=\"493.794,847.244 493.794,1423.18 500.039,1423.18 500.039,847.244 493.794,847.244 \"/>\n",
       "<path clip-path=\"url(#clip594)\" d=\"M501.6 847.244 L501.6 1423.18 L507.844 1423.18 L507.844 847.244 L501.6 847.244 L501.6 847.244  Z\" fill=\"#009af9\" fill-rule=\"evenodd\" fill-opacity=\"1\"/>\n",
       "<polyline clip-path=\"url(#clip594)\" style=\"stroke:#000000; stroke-linecap:round; stroke-linejoin:round; stroke-width:4; stroke-opacity:1; fill:none\" points=\"501.6,847.244 501.6,1423.18 507.844,1423.18 507.844,847.244 501.6,847.244 \"/>\n",
       "<path clip-path=\"url(#clip594)\" d=\"M509.405 847.244 L509.405 1423.18 L515.65 1423.18 L515.65 847.244 L509.405 847.244 L509.405 847.244  Z\" fill=\"#009af9\" fill-rule=\"evenodd\" fill-opacity=\"1\"/>\n",
       "<polyline clip-path=\"url(#clip594)\" style=\"stroke:#000000; stroke-linecap:round; stroke-linejoin:round; stroke-width:4; stroke-opacity:1; fill:none\" points=\"509.405,847.244 509.405,1423.18 515.65,1423.18 515.65,847.244 509.405,847.244 \"/>\n",
       "<path clip-path=\"url(#clip594)\" d=\"M517.211 847.244 L517.211 1423.18 L523.456 1423.18 L523.456 847.244 L517.211 847.244 L517.211 847.244  Z\" fill=\"#009af9\" fill-rule=\"evenodd\" fill-opacity=\"1\"/>\n",
       "<polyline clip-path=\"url(#clip594)\" style=\"stroke:#000000; stroke-linecap:round; stroke-linejoin:round; stroke-width:4; stroke-opacity:1; fill:none\" points=\"517.211,847.244 517.211,1423.18 523.456,1423.18 523.456,847.244 517.211,847.244 \"/>\n",
       "<path clip-path=\"url(#clip594)\" d=\"M525.017 847.244 L525.017 1423.18 L531.261 1423.18 L531.261 847.244 L525.017 847.244 L525.017 847.244  Z\" fill=\"#009af9\" fill-rule=\"evenodd\" fill-opacity=\"1\"/>\n",
       "<polyline clip-path=\"url(#clip594)\" style=\"stroke:#000000; stroke-linecap:round; stroke-linejoin:round; stroke-width:4; stroke-opacity:1; fill:none\" points=\"525.017,847.244 525.017,1423.18 531.261,1423.18 531.261,847.244 525.017,847.244 \"/>\n",
       "<path clip-path=\"url(#clip594)\" d=\"M532.822 847.244 L532.822 1423.18 L539.067 1423.18 L539.067 847.244 L532.822 847.244 L532.822 847.244  Z\" fill=\"#009af9\" fill-rule=\"evenodd\" fill-opacity=\"1\"/>\n",
       "<polyline clip-path=\"url(#clip594)\" style=\"stroke:#000000; stroke-linecap:round; stroke-linejoin:round; stroke-width:4; stroke-opacity:1; fill:none\" points=\"532.822,847.244 532.822,1423.18 539.067,1423.18 539.067,847.244 532.822,847.244 \"/>\n",
       "<path clip-path=\"url(#clip594)\" d=\"M540.628 847.244 L540.628 1423.18 L546.873 1423.18 L546.873 847.244 L540.628 847.244 L540.628 847.244  Z\" fill=\"#009af9\" fill-rule=\"evenodd\" fill-opacity=\"1\"/>\n",
       "<polyline clip-path=\"url(#clip594)\" style=\"stroke:#000000; stroke-linecap:round; stroke-linejoin:round; stroke-width:4; stroke-opacity:1; fill:none\" points=\"540.628,847.244 540.628,1423.18 546.873,1423.18 546.873,847.244 540.628,847.244 \"/>\n",
       "<path clip-path=\"url(#clip594)\" d=\"M548.434 847.244 L548.434 1423.18 L554.678 1423.18 L554.678 847.244 L548.434 847.244 L548.434 847.244  Z\" fill=\"#009af9\" fill-rule=\"evenodd\" fill-opacity=\"1\"/>\n",
       "<polyline clip-path=\"url(#clip594)\" style=\"stroke:#000000; stroke-linecap:round; stroke-linejoin:round; stroke-width:4; stroke-opacity:1; fill:none\" points=\"548.434,847.244 548.434,1423.18 554.678,1423.18 554.678,847.244 548.434,847.244 \"/>\n",
       "<path clip-path=\"url(#clip594)\" d=\"M556.239 847.244 L556.239 1423.18 L562.484 1423.18 L562.484 847.244 L556.239 847.244 L556.239 847.244  Z\" fill=\"#009af9\" fill-rule=\"evenodd\" fill-opacity=\"1\"/>\n",
       "<polyline clip-path=\"url(#clip594)\" style=\"stroke:#000000; stroke-linecap:round; stroke-linejoin:round; stroke-width:4; stroke-opacity:1; fill:none\" points=\"556.239,847.244 556.239,1423.18 562.484,1423.18 562.484,847.244 556.239,847.244 \"/>\n",
       "<path clip-path=\"url(#clip594)\" d=\"M564.045 847.244 L564.045 1423.18 L570.289 1423.18 L570.289 847.244 L564.045 847.244 L564.045 847.244  Z\" fill=\"#009af9\" fill-rule=\"evenodd\" fill-opacity=\"1\"/>\n",
       "<polyline clip-path=\"url(#clip594)\" style=\"stroke:#000000; stroke-linecap:round; stroke-linejoin:round; stroke-width:4; stroke-opacity:1; fill:none\" points=\"564.045,847.244 564.045,1423.18 570.289,1423.18 570.289,847.244 564.045,847.244 \"/>\n",
       "<path clip-path=\"url(#clip594)\" d=\"M571.851 847.244 L571.851 1423.18 L578.095 1423.18 L578.095 847.244 L571.851 847.244 L571.851 847.244  Z\" fill=\"#009af9\" fill-rule=\"evenodd\" fill-opacity=\"1\"/>\n",
       "<polyline clip-path=\"url(#clip594)\" style=\"stroke:#000000; stroke-linecap:round; stroke-linejoin:round; stroke-width:4; stroke-opacity:1; fill:none\" points=\"571.851,847.244 571.851,1423.18 578.095,1423.18 578.095,847.244 571.851,847.244 \"/>\n",
       "<path clip-path=\"url(#clip594)\" d=\"M579.656 847.244 L579.656 1423.18 L585.901 1423.18 L585.901 847.244 L579.656 847.244 L579.656 847.244  Z\" fill=\"#009af9\" fill-rule=\"evenodd\" fill-opacity=\"1\"/>\n",
       "<polyline clip-path=\"url(#clip594)\" style=\"stroke:#000000; stroke-linecap:round; stroke-linejoin:round; stroke-width:4; stroke-opacity:1; fill:none\" points=\"579.656,847.244 579.656,1423.18 585.901,1423.18 585.901,847.244 579.656,847.244 \"/>\n",
       "<path clip-path=\"url(#clip594)\" d=\"M587.462 847.244 L587.462 1423.18 L593.706 1423.18 L593.706 847.244 L587.462 847.244 L587.462 847.244  Z\" fill=\"#009af9\" fill-rule=\"evenodd\" fill-opacity=\"1\"/>\n",
       "<polyline clip-path=\"url(#clip594)\" style=\"stroke:#000000; stroke-linecap:round; stroke-linejoin:round; stroke-width:4; stroke-opacity:1; fill:none\" points=\"587.462,847.244 587.462,1423.18 593.706,1423.18 593.706,847.244 587.462,847.244 \"/>\n",
       "<path clip-path=\"url(#clip594)\" d=\"M595.268 847.244 L595.268 1423.18 L601.512 1423.18 L601.512 847.244 L595.268 847.244 L595.268 847.244  Z\" fill=\"#009af9\" fill-rule=\"evenodd\" fill-opacity=\"1\"/>\n",
       "<polyline clip-path=\"url(#clip594)\" style=\"stroke:#000000; stroke-linecap:round; stroke-linejoin:round; stroke-width:4; stroke-opacity:1; fill:none\" points=\"595.268,847.244 595.268,1423.18 601.512,1423.18 601.512,847.244 595.268,847.244 \"/>\n",
       "<path clip-path=\"url(#clip594)\" d=\"M603.073 847.244 L603.073 1423.18 L609.318 1423.18 L609.318 847.244 L603.073 847.244 L603.073 847.244  Z\" fill=\"#009af9\" fill-rule=\"evenodd\" fill-opacity=\"1\"/>\n",
       "<polyline clip-path=\"url(#clip594)\" style=\"stroke:#000000; stroke-linecap:round; stroke-linejoin:round; stroke-width:4; stroke-opacity:1; fill:none\" points=\"603.073,847.244 603.073,1423.18 609.318,1423.18 609.318,847.244 603.073,847.244 \"/>\n",
       "<path clip-path=\"url(#clip594)\" d=\"M610.879 847.244 L610.879 1423.18 L617.123 1423.18 L617.123 847.244 L610.879 847.244 L610.879 847.244  Z\" fill=\"#009af9\" fill-rule=\"evenodd\" fill-opacity=\"1\"/>\n",
       "<polyline clip-path=\"url(#clip594)\" style=\"stroke:#000000; stroke-linecap:round; stroke-linejoin:round; stroke-width:4; stroke-opacity:1; fill:none\" points=\"610.879,847.244 610.879,1423.18 617.123,1423.18 617.123,847.244 610.879,847.244 \"/>\n",
       "<path clip-path=\"url(#clip594)\" d=\"M618.684 847.244 L618.684 1423.18 L624.929 1423.18 L624.929 847.244 L618.684 847.244 L618.684 847.244  Z\" fill=\"#009af9\" fill-rule=\"evenodd\" fill-opacity=\"1\"/>\n",
       "<polyline clip-path=\"url(#clip594)\" style=\"stroke:#000000; stroke-linecap:round; stroke-linejoin:round; stroke-width:4; stroke-opacity:1; fill:none\" points=\"618.684,847.244 618.684,1423.18 624.929,1423.18 624.929,847.244 618.684,847.244 \"/>\n",
       "<path clip-path=\"url(#clip594)\" d=\"M626.49 847.244 L626.49 1423.18 L632.735 1423.18 L632.735 847.244 L626.49 847.244 L626.49 847.244  Z\" fill=\"#009af9\" fill-rule=\"evenodd\" fill-opacity=\"1\"/>\n",
       "<polyline clip-path=\"url(#clip594)\" style=\"stroke:#000000; stroke-linecap:round; stroke-linejoin:round; stroke-width:4; stroke-opacity:1; fill:none\" points=\"626.49,847.244 626.49,1423.18 632.735,1423.18 632.735,847.244 626.49,847.244 \"/>\n",
       "<path clip-path=\"url(#clip594)\" d=\"M634.296 847.244 L634.296 1423.18 L640.54 1423.18 L640.54 847.244 L634.296 847.244 L634.296 847.244  Z\" fill=\"#009af9\" fill-rule=\"evenodd\" fill-opacity=\"1\"/>\n",
       "<polyline clip-path=\"url(#clip594)\" style=\"stroke:#000000; stroke-linecap:round; stroke-linejoin:round; stroke-width:4; stroke-opacity:1; fill:none\" points=\"634.296,847.244 634.296,1423.18 640.54,1423.18 640.54,847.244 634.296,847.244 \"/>\n",
       "<path clip-path=\"url(#clip594)\" d=\"M642.101 847.244 L642.101 1423.18 L648.346 1423.18 L648.346 847.244 L642.101 847.244 L642.101 847.244  Z\" fill=\"#009af9\" fill-rule=\"evenodd\" fill-opacity=\"1\"/>\n",
       "<polyline clip-path=\"url(#clip594)\" style=\"stroke:#000000; stroke-linecap:round; stroke-linejoin:round; stroke-width:4; stroke-opacity:1; fill:none\" points=\"642.101,847.244 642.101,1423.18 648.346,1423.18 648.346,847.244 642.101,847.244 \"/>\n",
       "<path clip-path=\"url(#clip594)\" d=\"M649.907 847.244 L649.907 1423.18 L656.152 1423.18 L656.152 847.244 L649.907 847.244 L649.907 847.244  Z\" fill=\"#009af9\" fill-rule=\"evenodd\" fill-opacity=\"1\"/>\n",
       "<polyline clip-path=\"url(#clip594)\" style=\"stroke:#000000; stroke-linecap:round; stroke-linejoin:round; stroke-width:4; stroke-opacity:1; fill:none\" points=\"649.907,847.244 649.907,1423.18 656.152,1423.18 656.152,847.244 649.907,847.244 \"/>\n",
       "<path clip-path=\"url(#clip594)\" d=\"M657.713 847.244 L657.713 1423.18 L663.957 1423.18 L663.957 847.244 L657.713 847.244 L657.713 847.244  Z\" fill=\"#009af9\" fill-rule=\"evenodd\" fill-opacity=\"1\"/>\n",
       "<polyline clip-path=\"url(#clip594)\" style=\"stroke:#000000; stroke-linecap:round; stroke-linejoin:round; stroke-width:4; stroke-opacity:1; fill:none\" points=\"657.713,847.244 657.713,1423.18 663.957,1423.18 663.957,847.244 657.713,847.244 \"/>\n",
       "<path clip-path=\"url(#clip594)\" d=\"M665.518 847.244 L665.518 1423.18 L671.763 1423.18 L671.763 847.244 L665.518 847.244 L665.518 847.244  Z\" fill=\"#009af9\" fill-rule=\"evenodd\" fill-opacity=\"1\"/>\n",
       "<polyline clip-path=\"url(#clip594)\" style=\"stroke:#000000; stroke-linecap:round; stroke-linejoin:round; stroke-width:4; stroke-opacity:1; fill:none\" points=\"665.518,847.244 665.518,1423.18 671.763,1423.18 671.763,847.244 665.518,847.244 \"/>\n",
       "<path clip-path=\"url(#clip594)\" d=\"M673.324 847.244 L673.324 1423.18 L679.569 1423.18 L679.569 847.244 L673.324 847.244 L673.324 847.244  Z\" fill=\"#009af9\" fill-rule=\"evenodd\" fill-opacity=\"1\"/>\n",
       "<polyline clip-path=\"url(#clip594)\" style=\"stroke:#000000; stroke-linecap:round; stroke-linejoin:round; stroke-width:4; stroke-opacity:1; fill:none\" points=\"673.324,847.244 673.324,1423.18 679.569,1423.18 679.569,847.244 673.324,847.244 \"/>\n",
       "<path clip-path=\"url(#clip594)\" d=\"M681.13 847.244 L681.13 1423.18 L687.374 1423.18 L687.374 847.244 L681.13 847.244 L681.13 847.244  Z\" fill=\"#009af9\" fill-rule=\"evenodd\" fill-opacity=\"1\"/>\n",
       "<polyline clip-path=\"url(#clip594)\" style=\"stroke:#000000; stroke-linecap:round; stroke-linejoin:round; stroke-width:4; stroke-opacity:1; fill:none\" points=\"681.13,847.244 681.13,1423.18 687.374,1423.18 687.374,847.244 681.13,847.244 \"/>\n",
       "<path clip-path=\"url(#clip594)\" d=\"M688.935 847.244 L688.935 1423.18 L695.18 1423.18 L695.18 847.244 L688.935 847.244 L688.935 847.244  Z\" fill=\"#009af9\" fill-rule=\"evenodd\" fill-opacity=\"1\"/>\n",
       "<polyline clip-path=\"url(#clip594)\" style=\"stroke:#000000; stroke-linecap:round; stroke-linejoin:round; stroke-width:4; stroke-opacity:1; fill:none\" points=\"688.935,847.244 688.935,1423.18 695.18,1423.18 695.18,847.244 688.935,847.244 \"/>\n",
       "<path clip-path=\"url(#clip594)\" d=\"M696.741 847.244 L696.741 1423.18 L702.985 1423.18 L702.985 847.244 L696.741 847.244 L696.741 847.244  Z\" fill=\"#009af9\" fill-rule=\"evenodd\" fill-opacity=\"1\"/>\n",
       "<polyline clip-path=\"url(#clip594)\" style=\"stroke:#000000; stroke-linecap:round; stroke-linejoin:round; stroke-width:4; stroke-opacity:1; fill:none\" points=\"696.741,847.244 696.741,1423.18 702.985,1423.18 702.985,847.244 696.741,847.244 \"/>\n",
       "<path clip-path=\"url(#clip594)\" d=\"M704.547 847.244 L704.547 1423.18 L710.791 1423.18 L710.791 847.244 L704.547 847.244 L704.547 847.244  Z\" fill=\"#009af9\" fill-rule=\"evenodd\" fill-opacity=\"1\"/>\n",
       "<polyline clip-path=\"url(#clip594)\" style=\"stroke:#000000; stroke-linecap:round; stroke-linejoin:round; stroke-width:4; stroke-opacity:1; fill:none\" points=\"704.547,847.244 704.547,1423.18 710.791,1423.18 710.791,847.244 704.547,847.244 \"/>\n",
       "<path clip-path=\"url(#clip594)\" d=\"M712.352 847.244 L712.352 1423.18 L718.597 1423.18 L718.597 847.244 L712.352 847.244 L712.352 847.244  Z\" fill=\"#009af9\" fill-rule=\"evenodd\" fill-opacity=\"1\"/>\n",
       "<polyline clip-path=\"url(#clip594)\" style=\"stroke:#000000; stroke-linecap:round; stroke-linejoin:round; stroke-width:4; stroke-opacity:1; fill:none\" points=\"712.352,847.244 712.352,1423.18 718.597,1423.18 718.597,847.244 712.352,847.244 \"/>\n",
       "<path clip-path=\"url(#clip594)\" d=\"M720.158 847.244 L720.158 1423.18 L726.402 1423.18 L726.402 847.244 L720.158 847.244 L720.158 847.244  Z\" fill=\"#009af9\" fill-rule=\"evenodd\" fill-opacity=\"1\"/>\n",
       "<polyline clip-path=\"url(#clip594)\" style=\"stroke:#000000; stroke-linecap:round; stroke-linejoin:round; stroke-width:4; stroke-opacity:1; fill:none\" points=\"720.158,847.244 720.158,1423.18 726.402,1423.18 726.402,847.244 720.158,847.244 \"/>\n",
       "<path clip-path=\"url(#clip594)\" d=\"M727.964 847.244 L727.964 1423.18 L734.208 1423.18 L734.208 847.244 L727.964 847.244 L727.964 847.244  Z\" fill=\"#009af9\" fill-rule=\"evenodd\" fill-opacity=\"1\"/>\n",
       "<polyline clip-path=\"url(#clip594)\" style=\"stroke:#000000; stroke-linecap:round; stroke-linejoin:round; stroke-width:4; stroke-opacity:1; fill:none\" points=\"727.964,847.244 727.964,1423.18 734.208,1423.18 734.208,847.244 727.964,847.244 \"/>\n",
       "<path clip-path=\"url(#clip594)\" d=\"M735.769 847.244 L735.769 1423.18 L742.014 1423.18 L742.014 847.244 L735.769 847.244 L735.769 847.244  Z\" fill=\"#009af9\" fill-rule=\"evenodd\" fill-opacity=\"1\"/>\n",
       "<polyline clip-path=\"url(#clip594)\" style=\"stroke:#000000; stroke-linecap:round; stroke-linejoin:round; stroke-width:4; stroke-opacity:1; fill:none\" points=\"735.769,847.244 735.769,1423.18 742.014,1423.18 742.014,847.244 735.769,847.244 \"/>\n",
       "<path clip-path=\"url(#clip594)\" d=\"M743.575 847.244 L743.575 1423.18 L749.819 1423.18 L749.819 847.244 L743.575 847.244 L743.575 847.244  Z\" fill=\"#009af9\" fill-rule=\"evenodd\" fill-opacity=\"1\"/>\n",
       "<polyline clip-path=\"url(#clip594)\" style=\"stroke:#000000; stroke-linecap:round; stroke-linejoin:round; stroke-width:4; stroke-opacity:1; fill:none\" points=\"743.575,847.244 743.575,1423.18 749.819,1423.18 749.819,847.244 743.575,847.244 \"/>\n",
       "<path clip-path=\"url(#clip594)\" d=\"M751.381 847.244 L751.381 1423.18 L757.625 1423.18 L757.625 847.244 L751.381 847.244 L751.381 847.244  Z\" fill=\"#009af9\" fill-rule=\"evenodd\" fill-opacity=\"1\"/>\n",
       "<polyline clip-path=\"url(#clip594)\" style=\"stroke:#000000; stroke-linecap:round; stroke-linejoin:round; stroke-width:4; stroke-opacity:1; fill:none\" points=\"751.381,847.244 751.381,1423.18 757.625,1423.18 757.625,847.244 751.381,847.244 \"/>\n",
       "<path clip-path=\"url(#clip594)\" d=\"M759.186 847.244 L759.186 1423.18 L765.431 1423.18 L765.431 847.244 L759.186 847.244 L759.186 847.244  Z\" fill=\"#009af9\" fill-rule=\"evenodd\" fill-opacity=\"1\"/>\n",
       "<polyline clip-path=\"url(#clip594)\" style=\"stroke:#000000; stroke-linecap:round; stroke-linejoin:round; stroke-width:4; stroke-opacity:1; fill:none\" points=\"759.186,847.244 759.186,1423.18 765.431,1423.18 765.431,847.244 759.186,847.244 \"/>\n",
       "<path clip-path=\"url(#clip594)\" d=\"M766.992 847.244 L766.992 1423.18 L773.236 1423.18 L773.236 847.244 L766.992 847.244 L766.992 847.244  Z\" fill=\"#009af9\" fill-rule=\"evenodd\" fill-opacity=\"1\"/>\n",
       "<polyline clip-path=\"url(#clip594)\" style=\"stroke:#000000; stroke-linecap:round; stroke-linejoin:round; stroke-width:4; stroke-opacity:1; fill:none\" points=\"766.992,847.244 766.992,1423.18 773.236,1423.18 773.236,847.244 766.992,847.244 \"/>\n",
       "<path clip-path=\"url(#clip594)\" d=\"M774.797 847.244 L774.797 1423.18 L781.042 1423.18 L781.042 847.244 L774.797 847.244 L774.797 847.244  Z\" fill=\"#009af9\" fill-rule=\"evenodd\" fill-opacity=\"1\"/>\n",
       "<polyline clip-path=\"url(#clip594)\" style=\"stroke:#000000; stroke-linecap:round; stroke-linejoin:round; stroke-width:4; stroke-opacity:1; fill:none\" points=\"774.797,847.244 774.797,1423.18 781.042,1423.18 781.042,847.244 774.797,847.244 \"/>\n",
       "<path clip-path=\"url(#clip594)\" d=\"M782.603 847.244 L782.603 1423.18 L788.848 1423.18 L788.848 847.244 L782.603 847.244 L782.603 847.244  Z\" fill=\"#009af9\" fill-rule=\"evenodd\" fill-opacity=\"1\"/>\n",
       "<polyline clip-path=\"url(#clip594)\" style=\"stroke:#000000; stroke-linecap:round; stroke-linejoin:round; stroke-width:4; stroke-opacity:1; fill:none\" points=\"782.603,847.244 782.603,1423.18 788.848,1423.18 788.848,847.244 782.603,847.244 \"/>\n",
       "<path clip-path=\"url(#clip594)\" d=\"M790.409 847.244 L790.409 1423.18 L796.653 1423.18 L796.653 847.244 L790.409 847.244 L790.409 847.244  Z\" fill=\"#009af9\" fill-rule=\"evenodd\" fill-opacity=\"1\"/>\n",
       "<polyline clip-path=\"url(#clip594)\" style=\"stroke:#000000; stroke-linecap:round; stroke-linejoin:round; stroke-width:4; stroke-opacity:1; fill:none\" points=\"790.409,847.244 790.409,1423.18 796.653,1423.18 796.653,847.244 790.409,847.244 \"/>\n",
       "<path clip-path=\"url(#clip594)\" d=\"M798.214 847.244 L798.214 1423.18 L804.459 1423.18 L804.459 847.244 L798.214 847.244 L798.214 847.244  Z\" fill=\"#009af9\" fill-rule=\"evenodd\" fill-opacity=\"1\"/>\n",
       "<polyline clip-path=\"url(#clip594)\" style=\"stroke:#000000; stroke-linecap:round; stroke-linejoin:round; stroke-width:4; stroke-opacity:1; fill:none\" points=\"798.214,847.244 798.214,1423.18 804.459,1423.18 804.459,847.244 798.214,847.244 \"/>\n",
       "<path clip-path=\"url(#clip594)\" d=\"M806.02 847.244 L806.02 1423.18 L812.265 1423.18 L812.265 847.244 L806.02 847.244 L806.02 847.244  Z\" fill=\"#009af9\" fill-rule=\"evenodd\" fill-opacity=\"1\"/>\n",
       "<polyline clip-path=\"url(#clip594)\" style=\"stroke:#000000; stroke-linecap:round; stroke-linejoin:round; stroke-width:4; stroke-opacity:1; fill:none\" points=\"806.02,847.244 806.02,1423.18 812.265,1423.18 812.265,847.244 806.02,847.244 \"/>\n",
       "<path clip-path=\"url(#clip594)\" d=\"M813.826 847.244 L813.826 1423.18 L820.07 1423.18 L820.07 847.244 L813.826 847.244 L813.826 847.244  Z\" fill=\"#009af9\" fill-rule=\"evenodd\" fill-opacity=\"1\"/>\n",
       "<polyline clip-path=\"url(#clip594)\" style=\"stroke:#000000; stroke-linecap:round; stroke-linejoin:round; stroke-width:4; stroke-opacity:1; fill:none\" points=\"813.826,847.244 813.826,1423.18 820.07,1423.18 820.07,847.244 813.826,847.244 \"/>\n",
       "<path clip-path=\"url(#clip594)\" d=\"M821.631 847.244 L821.631 1423.18 L827.876 1423.18 L827.876 847.244 L821.631 847.244 L821.631 847.244  Z\" fill=\"#009af9\" fill-rule=\"evenodd\" fill-opacity=\"1\"/>\n",
       "<polyline clip-path=\"url(#clip594)\" style=\"stroke:#000000; stroke-linecap:round; stroke-linejoin:round; stroke-width:4; stroke-opacity:1; fill:none\" points=\"821.631,847.244 821.631,1423.18 827.876,1423.18 827.876,847.244 821.631,847.244 \"/>\n",
       "<path clip-path=\"url(#clip594)\" d=\"M829.437 847.244 L829.437 1423.18 L835.681 1423.18 L835.681 847.244 L829.437 847.244 L829.437 847.244  Z\" fill=\"#009af9\" fill-rule=\"evenodd\" fill-opacity=\"1\"/>\n",
       "<polyline clip-path=\"url(#clip594)\" style=\"stroke:#000000; stroke-linecap:round; stroke-linejoin:round; stroke-width:4; stroke-opacity:1; fill:none\" points=\"829.437,847.244 829.437,1423.18 835.681,1423.18 835.681,847.244 829.437,847.244 \"/>\n",
       "<path clip-path=\"url(#clip594)\" d=\"M837.243 847.244 L837.243 1423.18 L843.487 1423.18 L843.487 847.244 L837.243 847.244 L837.243 847.244  Z\" fill=\"#009af9\" fill-rule=\"evenodd\" fill-opacity=\"1\"/>\n",
       "<polyline clip-path=\"url(#clip594)\" style=\"stroke:#000000; stroke-linecap:round; stroke-linejoin:round; stroke-width:4; stroke-opacity:1; fill:none\" points=\"837.243,847.244 837.243,1423.18 843.487,1423.18 843.487,847.244 837.243,847.244 \"/>\n",
       "<path clip-path=\"url(#clip594)\" d=\"M845.048 847.244 L845.048 1423.18 L851.293 1423.18 L851.293 847.244 L845.048 847.244 L845.048 847.244  Z\" fill=\"#009af9\" fill-rule=\"evenodd\" fill-opacity=\"1\"/>\n",
       "<polyline clip-path=\"url(#clip594)\" style=\"stroke:#000000; stroke-linecap:round; stroke-linejoin:round; stroke-width:4; stroke-opacity:1; fill:none\" points=\"845.048,847.244 845.048,1423.18 851.293,1423.18 851.293,847.244 845.048,847.244 \"/>\n",
       "<path clip-path=\"url(#clip594)\" d=\"M852.854 847.244 L852.854 1423.18 L859.098 1423.18 L859.098 847.244 L852.854 847.244 L852.854 847.244  Z\" fill=\"#009af9\" fill-rule=\"evenodd\" fill-opacity=\"1\"/>\n",
       "<polyline clip-path=\"url(#clip594)\" style=\"stroke:#000000; stroke-linecap:round; stroke-linejoin:round; stroke-width:4; stroke-opacity:1; fill:none\" points=\"852.854,847.244 852.854,1423.18 859.098,1423.18 859.098,847.244 852.854,847.244 \"/>\n",
       "<path clip-path=\"url(#clip594)\" d=\"M860.66 847.244 L860.66 1423.18 L866.904 1423.18 L866.904 847.244 L860.66 847.244 L860.66 847.244  Z\" fill=\"#009af9\" fill-rule=\"evenodd\" fill-opacity=\"1\"/>\n",
       "<polyline clip-path=\"url(#clip594)\" style=\"stroke:#000000; stroke-linecap:round; stroke-linejoin:round; stroke-width:4; stroke-opacity:1; fill:none\" points=\"860.66,847.244 860.66,1423.18 866.904,1423.18 866.904,847.244 860.66,847.244 \"/>\n",
       "<path clip-path=\"url(#clip594)\" d=\"M868.465 847.244 L868.465 1423.18 L874.71 1423.18 L874.71 847.244 L868.465 847.244 L868.465 847.244  Z\" fill=\"#009af9\" fill-rule=\"evenodd\" fill-opacity=\"1\"/>\n",
       "<polyline clip-path=\"url(#clip594)\" style=\"stroke:#000000; stroke-linecap:round; stroke-linejoin:round; stroke-width:4; stroke-opacity:1; fill:none\" points=\"868.465,847.244 868.465,1423.18 874.71,1423.18 874.71,847.244 868.465,847.244 \"/>\n",
       "<path clip-path=\"url(#clip594)\" d=\"M876.271 847.244 L876.271 1423.18 L882.515 1423.18 L882.515 847.244 L876.271 847.244 L876.271 847.244  Z\" fill=\"#009af9\" fill-rule=\"evenodd\" fill-opacity=\"1\"/>\n",
       "<polyline clip-path=\"url(#clip594)\" style=\"stroke:#000000; stroke-linecap:round; stroke-linejoin:round; stroke-width:4; stroke-opacity:1; fill:none\" points=\"876.271,847.244 876.271,1423.18 882.515,1423.18 882.515,847.244 876.271,847.244 \"/>\n",
       "<path clip-path=\"url(#clip594)\" d=\"M884.077 847.244 L884.077 1423.18 L890.321 1423.18 L890.321 847.244 L884.077 847.244 L884.077 847.244  Z\" fill=\"#009af9\" fill-rule=\"evenodd\" fill-opacity=\"1\"/>\n",
       "<polyline clip-path=\"url(#clip594)\" style=\"stroke:#000000; stroke-linecap:round; stroke-linejoin:round; stroke-width:4; stroke-opacity:1; fill:none\" points=\"884.077,847.244 884.077,1423.18 890.321,1423.18 890.321,847.244 884.077,847.244 \"/>\n",
       "<path clip-path=\"url(#clip594)\" d=\"M891.882 847.244 L891.882 1423.18 L898.127 1423.18 L898.127 847.244 L891.882 847.244 L891.882 847.244  Z\" fill=\"#009af9\" fill-rule=\"evenodd\" fill-opacity=\"1\"/>\n",
       "<polyline clip-path=\"url(#clip594)\" style=\"stroke:#000000; stroke-linecap:round; stroke-linejoin:round; stroke-width:4; stroke-opacity:1; fill:none\" points=\"891.882,847.244 891.882,1423.18 898.127,1423.18 898.127,847.244 891.882,847.244 \"/>\n",
       "<path clip-path=\"url(#clip594)\" d=\"M899.688 847.244 L899.688 1423.18 L905.932 1423.18 L905.932 847.244 L899.688 847.244 L899.688 847.244  Z\" fill=\"#009af9\" fill-rule=\"evenodd\" fill-opacity=\"1\"/>\n",
       "<polyline clip-path=\"url(#clip594)\" style=\"stroke:#000000; stroke-linecap:round; stroke-linejoin:round; stroke-width:4; stroke-opacity:1; fill:none\" points=\"899.688,847.244 899.688,1423.18 905.932,1423.18 905.932,847.244 899.688,847.244 \"/>\n",
       "<path clip-path=\"url(#clip594)\" d=\"M907.493 847.244 L907.493 1423.18 L913.738 1423.18 L913.738 847.244 L907.493 847.244 L907.493 847.244  Z\" fill=\"#009af9\" fill-rule=\"evenodd\" fill-opacity=\"1\"/>\n",
       "<polyline clip-path=\"url(#clip594)\" style=\"stroke:#000000; stroke-linecap:round; stroke-linejoin:round; stroke-width:4; stroke-opacity:1; fill:none\" points=\"907.493,847.244 907.493,1423.18 913.738,1423.18 913.738,847.244 907.493,847.244 \"/>\n",
       "<path clip-path=\"url(#clip594)\" d=\"M915.299 847.244 L915.299 1423.18 L921.544 1423.18 L921.544 847.244 L915.299 847.244 L915.299 847.244  Z\" fill=\"#009af9\" fill-rule=\"evenodd\" fill-opacity=\"1\"/>\n",
       "<polyline clip-path=\"url(#clip594)\" style=\"stroke:#000000; stroke-linecap:round; stroke-linejoin:round; stroke-width:4; stroke-opacity:1; fill:none\" points=\"915.299,847.244 915.299,1423.18 921.544,1423.18 921.544,847.244 915.299,847.244 \"/>\n",
       "<path clip-path=\"url(#clip594)\" d=\"M923.105 847.244 L923.105 1423.18 L929.349 1423.18 L929.349 847.244 L923.105 847.244 L923.105 847.244  Z\" fill=\"#009af9\" fill-rule=\"evenodd\" fill-opacity=\"1\"/>\n",
       "<polyline clip-path=\"url(#clip594)\" style=\"stroke:#000000; stroke-linecap:round; stroke-linejoin:round; stroke-width:4; stroke-opacity:1; fill:none\" points=\"923.105,847.244 923.105,1423.18 929.349,1423.18 929.349,847.244 923.105,847.244 \"/>\n",
       "<path clip-path=\"url(#clip594)\" d=\"M930.91 847.244 L930.91 1423.18 L937.155 1423.18 L937.155 847.244 L930.91 847.244 L930.91 847.244  Z\" fill=\"#009af9\" fill-rule=\"evenodd\" fill-opacity=\"1\"/>\n",
       "<polyline clip-path=\"url(#clip594)\" style=\"stroke:#000000; stroke-linecap:round; stroke-linejoin:round; stroke-width:4; stroke-opacity:1; fill:none\" points=\"930.91,847.244 930.91,1423.18 937.155,1423.18 937.155,847.244 930.91,847.244 \"/>\n",
       "<path clip-path=\"url(#clip594)\" d=\"M938.716 847.244 L938.716 1423.18 L944.961 1423.18 L944.961 847.244 L938.716 847.244 L938.716 847.244  Z\" fill=\"#009af9\" fill-rule=\"evenodd\" fill-opacity=\"1\"/>\n",
       "<polyline clip-path=\"url(#clip594)\" style=\"stroke:#000000; stroke-linecap:round; stroke-linejoin:round; stroke-width:4; stroke-opacity:1; fill:none\" points=\"938.716,847.244 938.716,1423.18 944.961,1423.18 944.961,847.244 938.716,847.244 \"/>\n",
       "<path clip-path=\"url(#clip594)\" d=\"M946.522 847.244 L946.522 1423.18 L952.766 1423.18 L952.766 847.244 L946.522 847.244 L946.522 847.244  Z\" fill=\"#009af9\" fill-rule=\"evenodd\" fill-opacity=\"1\"/>\n",
       "<polyline clip-path=\"url(#clip594)\" style=\"stroke:#000000; stroke-linecap:round; stroke-linejoin:round; stroke-width:4; stroke-opacity:1; fill:none\" points=\"946.522,847.244 946.522,1423.18 952.766,1423.18 952.766,847.244 946.522,847.244 \"/>\n",
       "<path clip-path=\"url(#clip594)\" d=\"M954.327 847.244 L954.327 1423.18 L960.572 1423.18 L960.572 847.244 L954.327 847.244 L954.327 847.244  Z\" fill=\"#009af9\" fill-rule=\"evenodd\" fill-opacity=\"1\"/>\n",
       "<polyline clip-path=\"url(#clip594)\" style=\"stroke:#000000; stroke-linecap:round; stroke-linejoin:round; stroke-width:4; stroke-opacity:1; fill:none\" points=\"954.327,847.244 954.327,1423.18 960.572,1423.18 960.572,847.244 954.327,847.244 \"/>\n",
       "<path clip-path=\"url(#clip594)\" d=\"M962.133 847.244 L962.133 1423.18 L968.378 1423.18 L968.378 847.244 L962.133 847.244 L962.133 847.244  Z\" fill=\"#009af9\" fill-rule=\"evenodd\" fill-opacity=\"1\"/>\n",
       "<polyline clip-path=\"url(#clip594)\" style=\"stroke:#000000; stroke-linecap:round; stroke-linejoin:round; stroke-width:4; stroke-opacity:1; fill:none\" points=\"962.133,847.244 962.133,1423.18 968.378,1423.18 968.378,847.244 962.133,847.244 \"/>\n",
       "<path clip-path=\"url(#clip594)\" d=\"M969.939 847.244 L969.939 1423.18 L976.183 1423.18 L976.183 847.244 L969.939 847.244 L969.939 847.244  Z\" fill=\"#009af9\" fill-rule=\"evenodd\" fill-opacity=\"1\"/>\n",
       "<polyline clip-path=\"url(#clip594)\" style=\"stroke:#000000; stroke-linecap:round; stroke-linejoin:round; stroke-width:4; stroke-opacity:1; fill:none\" points=\"969.939,847.244 969.939,1423.18 976.183,1423.18 976.183,847.244 969.939,847.244 \"/>\n",
       "<path clip-path=\"url(#clip594)\" d=\"M977.744 847.244 L977.744 1423.18 L983.989 1423.18 L983.989 847.244 L977.744 847.244 L977.744 847.244  Z\" fill=\"#009af9\" fill-rule=\"evenodd\" fill-opacity=\"1\"/>\n",
       "<polyline clip-path=\"url(#clip594)\" style=\"stroke:#000000; stroke-linecap:round; stroke-linejoin:round; stroke-width:4; stroke-opacity:1; fill:none\" points=\"977.744,847.244 977.744,1423.18 983.989,1423.18 983.989,847.244 977.744,847.244 \"/>\n",
       "<path clip-path=\"url(#clip594)\" d=\"M985.55 847.244 L985.55 1423.18 L991.794 1423.18 L991.794 847.244 L985.55 847.244 L985.55 847.244  Z\" fill=\"#009af9\" fill-rule=\"evenodd\" fill-opacity=\"1\"/>\n",
       "<polyline clip-path=\"url(#clip594)\" style=\"stroke:#000000; stroke-linecap:round; stroke-linejoin:round; stroke-width:4; stroke-opacity:1; fill:none\" points=\"985.55,847.244 985.55,1423.18 991.794,1423.18 991.794,847.244 985.55,847.244 \"/>\n",
       "<path clip-path=\"url(#clip594)\" d=\"M993.356 847.244 L993.356 1423.18 L999.6 1423.18 L999.6 847.244 L993.356 847.244 L993.356 847.244  Z\" fill=\"#009af9\" fill-rule=\"evenodd\" fill-opacity=\"1\"/>\n",
       "<polyline clip-path=\"url(#clip594)\" style=\"stroke:#000000; stroke-linecap:round; stroke-linejoin:round; stroke-width:4; stroke-opacity:1; fill:none\" points=\"993.356,847.244 993.356,1423.18 999.6,1423.18 999.6,847.244 993.356,847.244 \"/>\n",
       "<path clip-path=\"url(#clip594)\" d=\"M1001.16 847.244 L1001.16 1423.18 L1007.41 1423.18 L1007.41 847.244 L1001.16 847.244 L1001.16 847.244  Z\" fill=\"#009af9\" fill-rule=\"evenodd\" fill-opacity=\"1\"/>\n",
       "<polyline clip-path=\"url(#clip594)\" style=\"stroke:#000000; stroke-linecap:round; stroke-linejoin:round; stroke-width:4; stroke-opacity:1; fill:none\" points=\"1001.16,847.244 1001.16,1423.18 1007.41,1423.18 1007.41,847.244 1001.16,847.244 \"/>\n",
       "<path clip-path=\"url(#clip594)\" d=\"M1008.97 847.244 L1008.97 1423.18 L1015.21 1423.18 L1015.21 847.244 L1008.97 847.244 L1008.97 847.244  Z\" fill=\"#009af9\" fill-rule=\"evenodd\" fill-opacity=\"1\"/>\n",
       "<polyline clip-path=\"url(#clip594)\" style=\"stroke:#000000; stroke-linecap:round; stroke-linejoin:round; stroke-width:4; stroke-opacity:1; fill:none\" points=\"1008.97,847.244 1008.97,1423.18 1015.21,1423.18 1015.21,847.244 1008.97,847.244 \"/>\n",
       "<path clip-path=\"url(#clip594)\" d=\"M1016.77 847.244 L1016.77 1423.18 L1023.02 1423.18 L1023.02 847.244 L1016.77 847.244 L1016.77 847.244  Z\" fill=\"#009af9\" fill-rule=\"evenodd\" fill-opacity=\"1\"/>\n",
       "<polyline clip-path=\"url(#clip594)\" style=\"stroke:#000000; stroke-linecap:round; stroke-linejoin:round; stroke-width:4; stroke-opacity:1; fill:none\" points=\"1016.77,847.244 1016.77,1423.18 1023.02,1423.18 1023.02,847.244 1016.77,847.244 \"/>\n",
       "<path clip-path=\"url(#clip594)\" d=\"M1024.58 847.244 L1024.58 1423.18 L1030.82 1423.18 L1030.82 847.244 L1024.58 847.244 L1024.58 847.244  Z\" fill=\"#009af9\" fill-rule=\"evenodd\" fill-opacity=\"1\"/>\n",
       "<polyline clip-path=\"url(#clip594)\" style=\"stroke:#000000; stroke-linecap:round; stroke-linejoin:round; stroke-width:4; stroke-opacity:1; fill:none\" points=\"1024.58,847.244 1024.58,1423.18 1030.82,1423.18 1030.82,847.244 1024.58,847.244 \"/>\n",
       "<path clip-path=\"url(#clip594)\" d=\"M1032.38 847.244 L1032.38 1423.18 L1038.63 1423.18 L1038.63 847.244 L1032.38 847.244 L1032.38 847.244  Z\" fill=\"#009af9\" fill-rule=\"evenodd\" fill-opacity=\"1\"/>\n",
       "<polyline clip-path=\"url(#clip594)\" style=\"stroke:#000000; stroke-linecap:round; stroke-linejoin:round; stroke-width:4; stroke-opacity:1; fill:none\" points=\"1032.38,847.244 1032.38,1423.18 1038.63,1423.18 1038.63,847.244 1032.38,847.244 \"/>\n",
       "<path clip-path=\"url(#clip594)\" d=\"M1040.19 847.244 L1040.19 1423.18 L1046.43 1423.18 L1046.43 847.244 L1040.19 847.244 L1040.19 847.244  Z\" fill=\"#009af9\" fill-rule=\"evenodd\" fill-opacity=\"1\"/>\n",
       "<polyline clip-path=\"url(#clip594)\" style=\"stroke:#000000; stroke-linecap:round; stroke-linejoin:round; stroke-width:4; stroke-opacity:1; fill:none\" points=\"1040.19,847.244 1040.19,1423.18 1046.43,1423.18 1046.43,847.244 1040.19,847.244 \"/>\n",
       "<path clip-path=\"url(#clip594)\" d=\"M1048 847.244 L1048 1423.18 L1054.24 1423.18 L1054.24 847.244 L1048 847.244 L1048 847.244  Z\" fill=\"#009af9\" fill-rule=\"evenodd\" fill-opacity=\"1\"/>\n",
       "<polyline clip-path=\"url(#clip594)\" style=\"stroke:#000000; stroke-linecap:round; stroke-linejoin:round; stroke-width:4; stroke-opacity:1; fill:none\" points=\"1048,847.244 1048,1423.18 1054.24,1423.18 1054.24,847.244 1048,847.244 \"/>\n",
       "<path clip-path=\"url(#clip594)\" d=\"M1055.8 847.244 L1055.8 1423.18 L1062.05 1423.18 L1062.05 847.244 L1055.8 847.244 L1055.8 847.244  Z\" fill=\"#009af9\" fill-rule=\"evenodd\" fill-opacity=\"1\"/>\n",
       "<polyline clip-path=\"url(#clip594)\" style=\"stroke:#000000; stroke-linecap:round; stroke-linejoin:round; stroke-width:4; stroke-opacity:1; fill:none\" points=\"1055.8,847.244 1055.8,1423.18 1062.05,1423.18 1062.05,847.244 1055.8,847.244 \"/>\n",
       "<path clip-path=\"url(#clip594)\" d=\"M1063.61 847.244 L1063.61 1423.18 L1069.85 1423.18 L1069.85 847.244 L1063.61 847.244 L1063.61 847.244  Z\" fill=\"#009af9\" fill-rule=\"evenodd\" fill-opacity=\"1\"/>\n",
       "<polyline clip-path=\"url(#clip594)\" style=\"stroke:#000000; stroke-linecap:round; stroke-linejoin:round; stroke-width:4; stroke-opacity:1; fill:none\" points=\"1063.61,847.244 1063.61,1423.18 1069.85,1423.18 1069.85,847.244 1063.61,847.244 \"/>\n",
       "<path clip-path=\"url(#clip594)\" d=\"M1071.41 847.244 L1071.41 1423.18 L1077.66 1423.18 L1077.66 847.244 L1071.41 847.244 L1071.41 847.244  Z\" fill=\"#009af9\" fill-rule=\"evenodd\" fill-opacity=\"1\"/>\n",
       "<polyline clip-path=\"url(#clip594)\" style=\"stroke:#000000; stroke-linecap:round; stroke-linejoin:round; stroke-width:4; stroke-opacity:1; fill:none\" points=\"1071.41,847.244 1071.41,1423.18 1077.66,1423.18 1077.66,847.244 1071.41,847.244 \"/>\n",
       "<path clip-path=\"url(#clip594)\" d=\"M1079.22 847.244 L1079.22 1423.18 L1085.46 1423.18 L1085.46 847.244 L1079.22 847.244 L1079.22 847.244  Z\" fill=\"#009af9\" fill-rule=\"evenodd\" fill-opacity=\"1\"/>\n",
       "<polyline clip-path=\"url(#clip594)\" style=\"stroke:#000000; stroke-linecap:round; stroke-linejoin:round; stroke-width:4; stroke-opacity:1; fill:none\" points=\"1079.22,847.244 1079.22,1423.18 1085.46,1423.18 1085.46,847.244 1079.22,847.244 \"/>\n",
       "<path clip-path=\"url(#clip590)\" d=\"M963.782 1403.98 L1104.62 1403.98 L1104.62 1300.3 L963.782 1300.3  Z\" fill=\"#ffffff\" fill-rule=\"evenodd\" fill-opacity=\"1\"/>\n",
       "<polyline clip-path=\"url(#clip590)\" style=\"stroke:#000000; stroke-linecap:round; stroke-linejoin:round; stroke-width:4; stroke-opacity:1; fill:none\" points=\"963.782,1403.98 1104.62,1403.98 1104.62,1300.3 963.782,1300.3 963.782,1403.98 \"/>\n",
       "<path clip-path=\"url(#clip590)\" d=\"M973.605 1372.88 L1032.54 1372.88 L1032.54 1331.41 L973.605 1331.41 L973.605 1372.88  Z\" fill=\"#009af9\" fill-rule=\"evenodd\" fill-opacity=\"1\"/>\n",
       "<polyline clip-path=\"url(#clip590)\" style=\"stroke:#000000; stroke-linecap:round; stroke-linejoin:round; stroke-width:4; stroke-opacity:1; fill:none\" points=\"973.605,1372.88 1032.54,1372.88 1032.54,1331.41 973.605,1331.41 973.605,1372.88 \"/>\n",
       "<path clip-path=\"url(#clip590)\" d=\"M1056.21 1371.83 Q1054.4 1376.46 1052.69 1377.87 Q1050.98 1379.28 1048.11 1379.28 L1044.7 1379.28 L1044.7 1375.72 L1047.2 1375.72 Q1048.96 1375.72 1049.93 1374.88 Q1050.91 1374.05 1052.09 1370.95 L1052.85 1369.01 L1042.37 1343.5 L1046.88 1343.5 L1054.98 1363.77 L1063.08 1343.5 L1067.6 1343.5 L1056.21 1371.83 Z\" fill=\"#000000\" fill-rule=\"nonzero\" fill-opacity=\"1\" /><path clip-path=\"url(#clip590)\" d=\"M1074.89 1365.49 L1082.53 1365.49 L1082.53 1339.12 L1074.22 1340.79 L1074.22 1336.53 L1082.48 1334.86 L1087.16 1334.86 L1087.16 1365.49 L1094.8 1365.49 L1094.8 1369.42 L1074.89 1369.42 L1074.89 1365.49 Z\" fill=\"#000000\" fill-rule=\"nonzero\" fill-opacity=\"1\" /><path clip-path=\"url(#clip590)\" d=\"M1468.7 1423.18 L2352.76 1423.18 L2352.76 847.244 L1468.7 847.244  Z\" fill=\"#ffffff\" fill-rule=\"evenodd\" fill-opacity=\"1\"/>\n",
       "<defs>\n",
       "  <clipPath id=\"clip595\">\n",
       "    <rect x=\"1468\" y=\"847\" width=\"885\" height=\"577\"/>\n",
       "  </clipPath>\n",
       "</defs>\n",
       "<polyline clip-path=\"url(#clip595)\" style=\"stroke:#000000; stroke-linecap:round; stroke-linejoin:round; stroke-width:2; stroke-opacity:0.1; fill:none\" points=\"1512.64,1423.18 1512.64,847.244 \"/>\n",
       "<polyline clip-path=\"url(#clip595)\" style=\"stroke:#000000; stroke-linecap:round; stroke-linejoin:round; stroke-width:2; stroke-opacity:0.1; fill:none\" points=\"1707.78,1423.18 1707.78,847.244 \"/>\n",
       "<polyline clip-path=\"url(#clip595)\" style=\"stroke:#000000; stroke-linecap:round; stroke-linejoin:round; stroke-width:2; stroke-opacity:0.1; fill:none\" points=\"1902.92,1423.18 1902.92,847.244 \"/>\n",
       "<polyline clip-path=\"url(#clip595)\" style=\"stroke:#000000; stroke-linecap:round; stroke-linejoin:round; stroke-width:2; stroke-opacity:0.1; fill:none\" points=\"2098.06,1423.18 2098.06,847.244 \"/>\n",
       "<polyline clip-path=\"url(#clip595)\" style=\"stroke:#000000; stroke-linecap:round; stroke-linejoin:round; stroke-width:2; stroke-opacity:0.1; fill:none\" points=\"2293.2,1423.18 2293.2,847.244 \"/>\n",
       "<polyline clip-path=\"url(#clip590)\" style=\"stroke:#000000; stroke-linecap:round; stroke-linejoin:round; stroke-width:4; stroke-opacity:1; fill:none\" points=\"1468.7,1423.18 2352.76,1423.18 \"/>\n",
       "<polyline clip-path=\"url(#clip590)\" style=\"stroke:#000000; stroke-linecap:round; stroke-linejoin:round; stroke-width:4; stroke-opacity:1; fill:none\" points=\"1512.64,1423.18 1512.64,1404.28 \"/>\n",
       "<polyline clip-path=\"url(#clip590)\" style=\"stroke:#000000; stroke-linecap:round; stroke-linejoin:round; stroke-width:4; stroke-opacity:1; fill:none\" points=\"1707.78,1423.18 1707.78,1404.28 \"/>\n",
       "<polyline clip-path=\"url(#clip590)\" style=\"stroke:#000000; stroke-linecap:round; stroke-linejoin:round; stroke-width:4; stroke-opacity:1; fill:none\" points=\"1902.92,1423.18 1902.92,1404.28 \"/>\n",
       "<polyline clip-path=\"url(#clip590)\" style=\"stroke:#000000; stroke-linecap:round; stroke-linejoin:round; stroke-width:4; stroke-opacity:1; fill:none\" points=\"2098.06,1423.18 2098.06,1404.28 \"/>\n",
       "<polyline clip-path=\"url(#clip590)\" style=\"stroke:#000000; stroke-linecap:round; stroke-linejoin:round; stroke-width:4; stroke-opacity:1; fill:none\" points=\"2293.2,1423.18 2293.2,1404.28 \"/>\n",
       "<path clip-path=\"url(#clip590)\" d=\"M1512.64 1454.1 Q1509.03 1454.1 1507.2 1457.66 Q1505.39 1461.2 1505.39 1468.33 Q1505.39 1475.44 1507.2 1479.01 Q1509.03 1482.55 1512.64 1482.55 Q1516.27 1482.55 1518.08 1479.01 Q1519.91 1475.44 1519.91 1468.33 Q1519.91 1461.2 1518.08 1457.66 Q1516.27 1454.1 1512.64 1454.1 M1512.64 1450.39 Q1518.45 1450.39 1521.5 1455 Q1524.58 1459.58 1524.58 1468.33 Q1524.58 1477.06 1521.5 1481.67 Q1518.45 1486.25 1512.64 1486.25 Q1506.83 1486.25 1503.75 1481.67 Q1500.69 1477.06 1500.69 1468.33 Q1500.69 1459.58 1503.75 1455 Q1506.83 1450.39 1512.64 1450.39 Z\" fill=\"#000000\" fill-rule=\"nonzero\" fill-opacity=\"1\" /><path clip-path=\"url(#clip590)\" d=\"M1687.05 1481.64 L1703.37 1481.64 L1703.37 1485.58 L1681.43 1485.58 L1681.43 1481.64 Q1684.09 1478.89 1688.67 1474.26 Q1693.28 1469.61 1694.46 1468.27 Q1696.7 1465.74 1697.58 1464.01 Q1698.49 1462.25 1698.49 1460.56 Q1698.49 1457.8 1696.54 1456.07 Q1694.62 1454.33 1691.52 1454.33 Q1689.32 1454.33 1686.87 1455.09 Q1684.43 1455.86 1681.66 1457.41 L1681.66 1452.69 Q1684.48 1451.55 1686.93 1450.97 Q1689.39 1450.39 1691.43 1450.39 Q1696.8 1450.39 1699.99 1453.08 Q1703.18 1455.77 1703.18 1460.26 Q1703.18 1462.39 1702.37 1464.31 Q1701.59 1466.2 1699.48 1468.8 Q1698.9 1469.47 1695.8 1472.69 Q1692.7 1475.88 1687.05 1481.64 Z\" fill=\"#000000\" fill-rule=\"nonzero\" fill-opacity=\"1\" /><path clip-path=\"url(#clip590)\" d=\"M1713.23 1451.02 L1731.59 1451.02 L1731.59 1454.96 L1717.51 1454.96 L1717.51 1463.43 Q1718.53 1463.08 1719.55 1462.92 Q1720.57 1462.73 1721.59 1462.73 Q1727.37 1462.73 1730.75 1465.9 Q1734.13 1469.08 1734.13 1474.49 Q1734.13 1480.07 1730.66 1483.17 Q1727.19 1486.25 1720.87 1486.25 Q1718.69 1486.25 1716.43 1485.88 Q1714.18 1485.51 1711.77 1484.77 L1711.77 1480.07 Q1713.86 1481.2 1716.08 1481.76 Q1718.3 1482.32 1720.78 1482.32 Q1724.78 1482.32 1727.12 1480.21 Q1729.46 1478.1 1729.46 1474.49 Q1729.46 1470.88 1727.12 1468.77 Q1724.78 1466.67 1720.78 1466.67 Q1718.9 1466.67 1717.03 1467.08 Q1715.18 1467.5 1713.23 1468.38 L1713.23 1451.02 Z\" fill=\"#000000\" fill-rule=\"nonzero\" fill-opacity=\"1\" /><path clip-path=\"url(#clip590)\" d=\"M1877.62 1451.02 L1895.98 1451.02 L1895.98 1454.96 L1881.9 1454.96 L1881.9 1463.43 Q1882.92 1463.08 1883.94 1462.92 Q1884.96 1462.73 1885.98 1462.73 Q1891.76 1462.73 1895.14 1465.9 Q1898.52 1469.08 1898.52 1474.49 Q1898.52 1480.07 1895.05 1483.17 Q1891.58 1486.25 1885.26 1486.25 Q1883.08 1486.25 1880.81 1485.88 Q1878.57 1485.51 1876.16 1484.77 L1876.16 1480.07 Q1878.25 1481.2 1880.47 1481.76 Q1882.69 1482.32 1885.17 1482.32 Q1889.17 1482.32 1891.51 1480.21 Q1893.85 1478.1 1893.85 1474.49 Q1893.85 1470.88 1891.51 1468.77 Q1889.17 1466.67 1885.17 1466.67 Q1883.29 1466.67 1881.42 1467.08 Q1879.56 1467.5 1877.62 1468.38 L1877.62 1451.02 Z\" fill=\"#000000\" fill-rule=\"nonzero\" fill-opacity=\"1\" /><path clip-path=\"url(#clip590)\" d=\"M1917.74 1454.1 Q1914.12 1454.1 1912.3 1457.66 Q1910.49 1461.2 1910.49 1468.33 Q1910.49 1475.44 1912.3 1479.01 Q1914.12 1482.55 1917.74 1482.55 Q1921.37 1482.55 1923.18 1479.01 Q1925 1475.44 1925 1468.33 Q1925 1461.2 1923.18 1457.66 Q1921.37 1454.1 1917.74 1454.1 M1917.74 1450.39 Q1923.55 1450.39 1926.6 1455 Q1929.68 1459.58 1929.68 1468.33 Q1929.68 1477.06 1926.6 1481.67 Q1923.55 1486.25 1917.74 1486.25 Q1911.93 1486.25 1908.85 1481.67 Q1905.79 1477.06 1905.79 1468.33 Q1905.79 1459.58 1908.85 1455 Q1911.93 1450.39 1917.74 1450.39 Z\" fill=\"#000000\" fill-rule=\"nonzero\" fill-opacity=\"1\" /><path clip-path=\"url(#clip590)\" d=\"M2071.92 1451.02 L2094.14 1451.02 L2094.14 1453.01 L2081.59 1485.58 L2076.71 1485.58 L2088.51 1454.96 L2071.92 1454.96 L2071.92 1451.02 Z\" fill=\"#000000\" fill-rule=\"nonzero\" fill-opacity=\"1\" /><path clip-path=\"url(#clip590)\" d=\"M2103.31 1451.02 L2121.66 1451.02 L2121.66 1454.96 L2107.59 1454.96 L2107.59 1463.43 Q2108.61 1463.08 2109.62 1462.92 Q2110.64 1462.73 2111.66 1462.73 Q2117.45 1462.73 2120.83 1465.9 Q2124.21 1469.08 2124.21 1474.49 Q2124.21 1480.07 2120.74 1483.17 Q2117.26 1486.25 2110.94 1486.25 Q2108.77 1486.25 2106.5 1485.88 Q2104.25 1485.51 2101.85 1484.77 L2101.85 1480.07 Q2103.93 1481.2 2106.15 1481.76 Q2108.37 1482.32 2110.85 1482.32 Q2114.86 1482.32 2117.19 1480.21 Q2119.53 1478.1 2119.53 1474.49 Q2119.53 1470.88 2117.19 1468.77 Q2114.86 1466.67 2110.85 1466.67 Q2108.98 1466.67 2107.1 1467.08 Q2105.25 1467.5 2103.31 1468.38 L2103.31 1451.02 Z\" fill=\"#000000\" fill-rule=\"nonzero\" fill-opacity=\"1\" /><path clip-path=\"url(#clip590)\" d=\"M2252.81 1481.64 L2260.45 1481.64 L2260.45 1455.28 L2252.14 1456.95 L2252.14 1452.69 L2260.4 1451.02 L2265.08 1451.02 L2265.08 1481.64 L2272.72 1481.64 L2272.72 1485.58 L2252.81 1485.58 L2252.81 1481.64 Z\" fill=\"#000000\" fill-rule=\"nonzero\" fill-opacity=\"1\" /><path clip-path=\"url(#clip590)\" d=\"M2292.16 1454.1 Q2288.55 1454.1 2286.72 1457.66 Q2284.92 1461.2 2284.92 1468.33 Q2284.92 1475.44 2286.72 1479.01 Q2288.55 1482.55 2292.16 1482.55 Q2295.8 1482.55 2297.6 1479.01 Q2299.43 1475.44 2299.43 1468.33 Q2299.43 1461.2 2297.6 1457.66 Q2295.8 1454.1 2292.16 1454.1 M2292.16 1450.39 Q2297.97 1450.39 2301.03 1455 Q2304.11 1459.58 2304.11 1468.33 Q2304.11 1477.06 2301.03 1481.67 Q2297.97 1486.25 2292.16 1486.25 Q2286.35 1486.25 2283.27 1481.67 Q2280.22 1477.06 2280.22 1468.33 Q2280.22 1459.58 2283.27 1455 Q2286.35 1450.39 2292.16 1450.39 Z\" fill=\"#000000\" fill-rule=\"nonzero\" fill-opacity=\"1\" /><path clip-path=\"url(#clip590)\" d=\"M2322.32 1454.1 Q2318.71 1454.1 2316.88 1457.66 Q2315.08 1461.2 2315.08 1468.33 Q2315.08 1475.44 2316.88 1479.01 Q2318.71 1482.55 2322.32 1482.55 Q2325.96 1482.55 2327.76 1479.01 Q2329.59 1475.44 2329.59 1468.33 Q2329.59 1461.2 2327.76 1457.66 Q2325.96 1454.1 2322.32 1454.1 M2322.32 1450.39 Q2328.13 1450.39 2331.19 1455 Q2334.27 1459.58 2334.27 1468.33 Q2334.27 1477.06 2331.19 1481.67 Q2328.13 1486.25 2322.32 1486.25 Q2316.51 1486.25 2313.43 1481.67 Q2310.38 1477.06 2310.38 1468.33 Q2310.38 1459.58 2313.43 1455 Q2316.51 1450.39 2322.32 1450.39 Z\" fill=\"#000000\" fill-rule=\"nonzero\" fill-opacity=\"1\" /><path clip-path=\"url(#clip590)\" d=\"M1753.37 1548.76 L1753.37 1551.62 L1726.44 1551.62 Q1726.82 1557.67 1730.07 1560.85 Q1733.35 1564 1739.17 1564 Q1742.54 1564 1745.7 1563.17 Q1748.88 1562.35 1752 1560.69 L1752 1566.23 Q1748.85 1567.57 1745.54 1568.27 Q1742.23 1568.97 1738.82 1568.97 Q1730.29 1568.97 1725.29 1564 Q1720.33 1559.04 1720.33 1550.57 Q1720.33 1541.82 1725.04 1536.69 Q1729.78 1531.54 1737.8 1531.54 Q1745 1531.54 1749.16 1536.18 Q1753.37 1540.8 1753.37 1548.76 M1747.51 1547.04 Q1747.45 1542.23 1744.8 1539.37 Q1742.19 1536.5 1737.87 1536.5 Q1732.96 1536.5 1730 1539.27 Q1727.08 1542.04 1726.63 1547.07 L1747.51 1547.04 Z\" fill=\"#000000\" fill-rule=\"nonzero\" fill-opacity=\"1\" /><path clip-path=\"url(#clip590)\" d=\"M1762.98 1518.52 L1768.83 1518.52 L1768.83 1568.04 L1762.98 1568.04 L1762.98 1518.52 Z\" fill=\"#000000\" fill-rule=\"nonzero\" fill-opacity=\"1\" /><path clip-path=\"url(#clip590)\" d=\"M1811.58 1548.76 L1811.58 1551.62 L1784.65 1551.62 Q1785.04 1557.67 1788.28 1560.85 Q1791.56 1564 1797.39 1564 Q1800.76 1564 1803.91 1563.17 Q1807.09 1562.35 1810.21 1560.69 L1810.21 1566.23 Q1807.06 1567.57 1803.75 1568.27 Q1800.44 1568.97 1797.03 1568.97 Q1788.5 1568.97 1783.51 1564 Q1778.54 1559.04 1778.54 1550.57 Q1778.54 1541.82 1783.25 1536.69 Q1788 1531.54 1796.02 1531.54 Q1803.21 1531.54 1807.38 1536.18 Q1811.58 1540.8 1811.58 1548.76 M1805.72 1547.04 Q1805.66 1542.23 1803.02 1539.37 Q1800.41 1536.5 1796.08 1536.5 Q1791.18 1536.5 1788.22 1539.27 Q1785.29 1542.04 1784.84 1547.07 L1805.72 1547.04 Z\" fill=\"#000000\" fill-rule=\"nonzero\" fill-opacity=\"1\" /><path clip-path=\"url(#clip590)\" d=\"M1848.95 1539.24 Q1851.14 1535.29 1854.2 1533.41 Q1857.25 1531.54 1861.39 1531.54 Q1866.96 1531.54 1869.99 1535.45 Q1873.01 1539.33 1873.01 1546.53 L1873.01 1568.04 L1867.12 1568.04 L1867.12 1546.72 Q1867.12 1541.59 1865.31 1539.11 Q1863.49 1536.63 1859.77 1536.63 Q1855.22 1536.63 1852.58 1539.65 Q1849.93 1542.68 1849.93 1547.9 L1849.93 1568.04 L1844.05 1568.04 L1844.05 1546.72 Q1844.05 1541.56 1842.23 1539.11 Q1840.42 1536.63 1836.63 1536.63 Q1832.14 1536.63 1829.5 1539.68 Q1826.86 1542.71 1826.86 1547.9 L1826.86 1568.04 L1820.97 1568.04 L1820.97 1532.4 L1826.86 1532.4 L1826.86 1537.93 Q1828.86 1534.66 1831.66 1533.1 Q1834.47 1531.54 1838.32 1531.54 Q1842.2 1531.54 1844.91 1533.51 Q1847.64 1535.48 1848.95 1539.24 Z\" fill=\"#000000\" fill-rule=\"nonzero\" fill-opacity=\"1\" /><path clip-path=\"url(#clip590)\" d=\"M1915.18 1548.76 L1915.18 1551.62 L1888.26 1551.62 Q1888.64 1557.67 1891.88 1560.85 Q1895.16 1564 1900.99 1564 Q1904.36 1564 1907.51 1563.17 Q1910.69 1562.35 1913.81 1560.69 L1913.81 1566.23 Q1910.66 1567.57 1907.35 1568.27 Q1904.04 1568.97 1900.64 1568.97 Q1892.11 1568.97 1887.11 1564 Q1882.14 1559.04 1882.14 1550.57 Q1882.14 1541.82 1886.86 1536.69 Q1891.6 1531.54 1899.62 1531.54 Q1906.81 1531.54 1910.98 1536.18 Q1915.18 1540.8 1915.18 1548.76 M1909.33 1547.04 Q1909.26 1542.23 1906.62 1539.37 Q1904.01 1536.5 1899.68 1536.5 Q1894.78 1536.5 1891.82 1539.27 Q1888.89 1542.04 1888.45 1547.07 L1909.33 1547.04 Z\" fill=\"#000000\" fill-rule=\"nonzero\" fill-opacity=\"1\" /><path clip-path=\"url(#clip590)\" d=\"M1954.43 1546.53 L1954.43 1568.04 L1948.57 1568.04 L1948.57 1546.72 Q1948.57 1541.66 1946.6 1539.14 Q1944.62 1536.63 1940.68 1536.63 Q1935.93 1536.63 1933.2 1539.65 Q1930.46 1542.68 1930.46 1547.9 L1930.46 1568.04 L1924.57 1568.04 L1924.57 1532.4 L1930.46 1532.4 L1930.46 1537.93 Q1932.56 1534.72 1935.39 1533.13 Q1938.26 1531.54 1941.98 1531.54 Q1948.12 1531.54 1951.28 1535.36 Q1954.43 1539.14 1954.43 1546.53 Z\" fill=\"#000000\" fill-rule=\"nonzero\" fill-opacity=\"1\" /><path clip-path=\"url(#clip590)\" d=\"M1971.9 1522.27 L1971.9 1532.4 L1983.96 1532.4 L1983.96 1536.95 L1971.9 1536.95 L1971.9 1556.3 Q1971.9 1560.66 1973.08 1561.9 Q1974.29 1563.14 1977.95 1563.14 L1983.96 1563.14 L1983.96 1568.04 L1977.95 1568.04 Q1971.17 1568.04 1968.59 1565.53 Q1966.01 1562.98 1966.01 1556.3 L1966.01 1536.95 L1961.72 1536.95 L1961.72 1532.4 L1966.01 1532.4 L1966.01 1522.27 L1971.9 1522.27 Z\" fill=\"#000000\" fill-rule=\"nonzero\" fill-opacity=\"1\" /><path clip-path=\"url(#clip590)\" d=\"M2012.39 1532.4 L2018.24 1532.4 L2018.24 1568.04 L2012.39 1568.04 L2012.39 1532.4 M2012.39 1518.52 L2018.24 1518.52 L2018.24 1525.93 L2012.39 1525.93 L2012.39 1518.52 Z\" fill=\"#000000\" fill-rule=\"nonzero\" fill-opacity=\"1\" /><path clip-path=\"url(#clip590)\" d=\"M2060.13 1546.53 L2060.13 1568.04 L2054.27 1568.04 L2054.27 1546.72 Q2054.27 1541.66 2052.3 1539.14 Q2050.33 1536.63 2046.38 1536.63 Q2041.64 1536.63 2038.9 1539.65 Q2036.16 1542.68 2036.16 1547.9 L2036.16 1568.04 L2030.27 1568.04 L2030.27 1532.4 L2036.16 1532.4 L2036.16 1537.93 Q2038.26 1534.72 2041.1 1533.13 Q2043.96 1531.54 2047.68 1531.54 Q2053.83 1531.54 2056.98 1535.36 Q2060.13 1539.14 2060.13 1546.53 Z\" fill=\"#000000\" fill-rule=\"nonzero\" fill-opacity=\"1\" /><path clip-path=\"url(#clip590)\" d=\"M2095.27 1537.81 L2095.27 1518.52 L2101.12 1518.52 L2101.12 1568.04 L2095.27 1568.04 L2095.27 1562.7 Q2093.42 1565.88 2090.59 1567.44 Q2087.79 1568.97 2083.84 1568.97 Q2077.38 1568.97 2073.31 1563.81 Q2069.26 1558.65 2069.26 1550.25 Q2069.26 1541.85 2073.31 1536.69 Q2077.38 1531.54 2083.84 1531.54 Q2087.79 1531.54 2090.59 1533.1 Q2093.42 1534.62 2095.27 1537.81 M2075.31 1550.25 Q2075.31 1556.71 2077.95 1560.4 Q2080.63 1564.07 2085.27 1564.07 Q2089.92 1564.07 2092.59 1560.4 Q2095.27 1556.71 2095.27 1550.25 Q2095.27 1543.79 2092.59 1540.13 Q2089.92 1536.44 2085.27 1536.44 Q2080.63 1536.44 2077.95 1540.13 Q2075.31 1543.79 2075.31 1550.25 Z\" fill=\"#000000\" fill-rule=\"nonzero\" fill-opacity=\"1\" /><polyline clip-path=\"url(#clip595)\" style=\"stroke:#000000; stroke-linecap:round; stroke-linejoin:round; stroke-width:2; stroke-opacity:0.1; fill:none\" points=\"1468.7,1423.18 2352.76,1423.18 \"/>\n",
       "<polyline clip-path=\"url(#clip595)\" style=\"stroke:#000000; stroke-linecap:round; stroke-linejoin:round; stroke-width:2; stroke-opacity:0.1; fill:none\" points=\"1468.7,1231.2 2352.76,1231.2 \"/>\n",
       "<polyline clip-path=\"url(#clip595)\" style=\"stroke:#000000; stroke-linecap:round; stroke-linejoin:round; stroke-width:2; stroke-opacity:0.1; fill:none\" points=\"1468.7,1039.22 2352.76,1039.22 \"/>\n",
       "<polyline clip-path=\"url(#clip595)\" style=\"stroke:#000000; stroke-linecap:round; stroke-linejoin:round; stroke-width:2; stroke-opacity:0.1; fill:none\" points=\"1468.7,847.244 2352.76,847.244 \"/>\n",
       "<polyline clip-path=\"url(#clip590)\" style=\"stroke:#000000; stroke-linecap:round; stroke-linejoin:round; stroke-width:4; stroke-opacity:1; fill:none\" points=\"1468.7,1423.18 1468.7,847.244 \"/>\n",
       "<polyline clip-path=\"url(#clip590)\" style=\"stroke:#000000; stroke-linecap:round; stroke-linejoin:round; stroke-width:4; stroke-opacity:1; fill:none\" points=\"1468.7,1423.18 1487.59,1423.18 \"/>\n",
       "<polyline clip-path=\"url(#clip590)\" style=\"stroke:#000000; stroke-linecap:round; stroke-linejoin:round; stroke-width:4; stroke-opacity:1; fill:none\" points=\"1468.7,1231.2 1487.59,1231.2 \"/>\n",
       "<polyline clip-path=\"url(#clip590)\" style=\"stroke:#000000; stroke-linecap:round; stroke-linejoin:round; stroke-width:4; stroke-opacity:1; fill:none\" points=\"1468.7,1039.22 1487.59,1039.22 \"/>\n",
       "<polyline clip-path=\"url(#clip590)\" style=\"stroke:#000000; stroke-linecap:round; stroke-linejoin:round; stroke-width:4; stroke-opacity:1; fill:none\" points=\"1468.7,847.244 1487.59,847.244 \"/>\n",
       "<path clip-path=\"url(#clip590)\" d=\"M1420.75 1408.98 Q1417.14 1408.98 1415.31 1412.54 Q1413.51 1416.08 1413.51 1423.21 Q1413.51 1430.32 1415.31 1433.89 Q1417.14 1437.43 1420.75 1437.43 Q1424.39 1437.43 1426.19 1433.89 Q1428.02 1430.32 1428.02 1423.21 Q1428.02 1416.08 1426.19 1412.54 Q1424.39 1408.98 1420.75 1408.98 M1420.75 1405.27 Q1426.56 1405.27 1429.62 1409.88 Q1432.7 1414.46 1432.7 1423.21 Q1432.7 1431.94 1429.62 1436.55 Q1426.56 1441.13 1420.75 1441.13 Q1414.94 1441.13 1411.86 1436.55 Q1408.81 1431.94 1408.81 1423.21 Q1408.81 1414.46 1411.86 1409.88 Q1414.94 1405.27 1420.75 1405.27 Z\" fill=\"#000000\" fill-rule=\"nonzero\" fill-opacity=\"1\" /><path clip-path=\"url(#clip590)\" d=\"M1411.79 1213.92 L1430.15 1213.92 L1430.15 1217.86 L1416.08 1217.86 L1416.08 1226.33 Q1417.1 1225.98 1418.11 1225.82 Q1419.13 1225.63 1420.15 1225.63 Q1425.94 1225.63 1429.32 1228.81 Q1432.7 1231.98 1432.7 1237.39 Q1432.7 1242.97 1429.22 1246.07 Q1425.75 1249.15 1419.43 1249.15 Q1417.26 1249.15 1414.99 1248.78 Q1412.74 1248.41 1410.34 1247.67 L1410.34 1242.97 Q1412.42 1244.11 1414.64 1244.66 Q1416.86 1245.22 1419.34 1245.22 Q1423.35 1245.22 1425.68 1243.11 Q1428.02 1241 1428.02 1237.39 Q1428.02 1233.78 1425.68 1231.68 Q1423.35 1229.57 1419.34 1229.57 Q1417.47 1229.57 1415.59 1229.99 Q1413.74 1230.4 1411.79 1231.28 L1411.79 1213.92 Z\" fill=\"#000000\" fill-rule=\"nonzero\" fill-opacity=\"1\" /><path clip-path=\"url(#clip590)\" d=\"M1381.4 1052.57 L1389.04 1052.57 L1389.04 1026.2 L1380.73 1027.87 L1380.73 1023.61 L1388.99 1021.94 L1393.67 1021.94 L1393.67 1052.57 L1401.31 1052.57 L1401.31 1056.5 L1381.4 1056.5 L1381.4 1052.57 Z\" fill=\"#000000\" fill-rule=\"nonzero\" fill-opacity=\"1\" /><path clip-path=\"url(#clip590)\" d=\"M1420.75 1025.02 Q1417.14 1025.02 1415.31 1028.59 Q1413.51 1032.13 1413.51 1039.26 Q1413.51 1046.36 1415.31 1049.93 Q1417.14 1053.47 1420.75 1053.47 Q1424.39 1053.47 1426.19 1049.93 Q1428.02 1046.36 1428.02 1039.26 Q1428.02 1032.13 1426.19 1028.59 Q1424.39 1025.02 1420.75 1025.02 M1420.75 1021.32 Q1426.56 1021.32 1429.62 1025.92 Q1432.7 1030.51 1432.7 1039.26 Q1432.7 1047.98 1429.62 1052.59 Q1426.56 1057.17 1420.75 1057.17 Q1414.94 1057.17 1411.86 1052.59 Q1408.81 1047.98 1408.81 1039.26 Q1408.81 1030.51 1411.86 1025.92 Q1414.94 1021.32 1420.75 1021.32 Z\" fill=\"#000000\" fill-rule=\"nonzero\" fill-opacity=\"1\" /><path clip-path=\"url(#clip590)\" d=\"M1382.4 860.589 L1390.04 860.589 L1390.04 834.223 L1381.73 835.89 L1381.73 831.631 L1389.99 829.964 L1394.66 829.964 L1394.66 860.589 L1402.3 860.589 L1402.3 864.524 L1382.4 864.524 L1382.4 860.589 Z\" fill=\"#000000\" fill-rule=\"nonzero\" fill-opacity=\"1\" /><path clip-path=\"url(#clip590)\" d=\"M1411.79 829.964 L1430.15 829.964 L1430.15 833.899 L1416.08 833.899 L1416.08 842.371 Q1417.1 842.024 1418.11 841.862 Q1419.13 841.677 1420.15 841.677 Q1425.94 841.677 1429.32 844.848 Q1432.7 848.02 1432.7 853.436 Q1432.7 859.015 1429.22 862.117 Q1425.75 865.195 1419.43 865.195 Q1417.26 865.195 1414.99 864.825 Q1412.74 864.455 1410.34 863.714 L1410.34 859.015 Q1412.42 860.149 1414.64 860.705 Q1416.86 861.26 1419.34 861.26 Q1423.35 861.26 1425.68 859.154 Q1428.02 857.047 1428.02 853.436 Q1428.02 849.825 1425.68 847.719 Q1423.35 845.612 1419.34 845.612 Q1417.47 845.612 1415.59 846.029 Q1413.74 846.445 1411.79 847.325 L1411.79 829.964 Z\" fill=\"#000000\" fill-rule=\"nonzero\" fill-opacity=\"1\" /><path clip-path=\"url(#clip590)\" d=\"M1308.96 1251.26 L1330.47 1251.26 L1330.47 1257.12 L1309.15 1257.12 Q1304.09 1257.12 1301.57 1259.09 Q1299.06 1261.06 1299.06 1265.01 Q1299.06 1269.75 1302.08 1272.49 Q1305.11 1275.23 1310.33 1275.23 L1330.47 1275.23 L1330.47 1281.11 L1294.83 1281.11 L1294.83 1275.23 L1300.36 1275.23 Q1297.15 1273.13 1295.56 1270.29 Q1293.97 1267.43 1293.97 1263.7 Q1293.97 1257.56 1297.79 1254.41 Q1301.57 1251.26 1308.96 1251.26 Z\" fill=\"#000000\" fill-rule=\"nonzero\" fill-opacity=\"1\" /><path clip-path=\"url(#clip590)\" d=\"M1280.95 1200.81 L1285.82 1200.81 L1285.82 1206.41 Q1285.82 1209.56 1287.09 1210.8 Q1288.36 1212.01 1291.67 1212.01 L1294.83 1212.01 L1294.83 1202.37 L1299.38 1202.37 L1299.38 1212.01 L1330.47 1212.01 L1330.47 1217.9 L1299.38 1217.9 L1299.38 1223.5 L1294.83 1223.5 L1294.83 1217.9 L1292.34 1217.9 Q1286.39 1217.9 1283.69 1215.13 Q1280.95 1212.36 1280.95 1206.35 L1280.95 1200.81 Z\" fill=\"#000000\" fill-rule=\"nonzero\" fill-opacity=\"1\" /><path clip-path=\"url(#clip590)\" d=\"M1296.19 1170.26 L1301.67 1170.26 Q1300.3 1172.74 1299.63 1175.25 Q1298.93 1177.73 1298.93 1180.28 Q1298.93 1185.98 1302.56 1189.13 Q1306.16 1192.28 1312.68 1192.28 Q1319.21 1192.28 1322.83 1189.13 Q1326.43 1185.98 1326.43 1180.28 Q1326.43 1177.73 1325.76 1175.25 Q1325.06 1172.74 1323.69 1170.26 L1329.11 1170.26 Q1330.25 1172.71 1330.82 1175.35 Q1331.4 1177.96 1331.4 1180.92 Q1331.4 1188.97 1326.34 1193.71 Q1321.28 1198.46 1312.68 1198.46 Q1303.96 1198.46 1298.96 1193.68 Q1293.97 1188.87 1293.97 1180.54 Q1293.97 1177.83 1294.54 1175.25 Q1295.08 1172.67 1296.19 1170.26 Z\" fill=\"#000000\" fill-rule=\"nonzero\" fill-opacity=\"1\" /><path clip-path=\"url(#clip590)\" d=\"M1284.7 1154.28 L1294.83 1154.28 L1294.83 1142.21 L1299.38 1142.21 L1299.38 1154.28 L1318.73 1154.28 Q1323.09 1154.28 1324.33 1153.1 Q1325.57 1151.89 1325.57 1148.23 L1325.57 1142.21 L1330.47 1142.21 L1330.47 1148.23 Q1330.47 1155.01 1327.96 1157.59 Q1325.41 1160.17 1318.73 1160.17 L1299.38 1160.17 L1299.38 1164.46 L1294.83 1164.46 L1294.83 1160.17 L1284.7 1160.17 L1284.7 1154.28 Z\" fill=\"#000000\" fill-rule=\"nonzero\" fill-opacity=\"1\" /><path clip-path=\"url(#clip590)\" d=\"M1311.19 1083.3 L1314.05 1083.3 L1314.05 1110.23 Q1320.1 1109.84 1323.28 1106.6 Q1326.43 1103.32 1326.43 1097.5 Q1326.43 1094.12 1325.6 1090.97 Q1324.78 1087.79 1323.12 1084.67 L1328.66 1084.67 Q1330 1087.82 1330.7 1091.13 Q1331.4 1094.44 1331.4 1097.85 Q1331.4 1106.38 1326.43 1111.37 Q1321.47 1116.34 1313 1116.34 Q1304.25 1116.34 1299.12 1111.63 Q1293.97 1106.88 1293.97 1098.86 Q1293.97 1091.67 1298.61 1087.5 Q1303.23 1083.3 1311.19 1083.3 M1309.47 1089.16 Q1304.66 1089.22 1301.8 1091.86 Q1298.93 1094.47 1298.93 1098.8 Q1298.93 1103.7 1301.7 1106.66 Q1304.47 1109.59 1309.5 1110.04 L1309.47 1089.16 Z\" fill=\"#000000\" fill-rule=\"nonzero\" fill-opacity=\"1\" /><path clip-path=\"url(#clip590)\" d=\"M1294.83 1077.89 L1294.83 1071.68 L1324.74 1060.54 L1294.83 1049.4 L1294.83 1043.2 L1330.47 1056.56 L1330.47 1064.52 L1294.83 1077.89 Z\" fill=\"#000000\" fill-rule=\"nonzero\" fill-opacity=\"1\" /><path clip-path=\"url(#clip590)\" d=\"M1312.55 1018.91 Q1312.55 1026.01 1314.18 1028.75 Q1315.8 1031.48 1319.72 1031.48 Q1322.83 1031.48 1324.68 1029.45 Q1326.5 1027.38 1326.5 1023.84 Q1326.5 1018.97 1323.06 1016.05 Q1319.59 1013.09 1313.86 1013.09 L1312.55 1013.09 L1312.55 1018.91 M1310.14 1007.23 L1330.47 1007.23 L1330.47 1013.09 L1325.06 1013.09 Q1328.31 1015.09 1329.87 1018.08 Q1331.4 1021.07 1331.4 1025.4 Q1331.4 1030.88 1328.34 1034.12 Q1325.25 1037.34 1320.1 1037.34 Q1314.08 1037.34 1311.03 1033.33 Q1307.97 1029.29 1307.97 1021.3 L1307.97 1013.09 L1307.4 1013.09 Q1303.36 1013.09 1301.16 1015.76 Q1298.93 1018.4 1298.93 1023.21 Q1298.93 1026.26 1299.66 1029.16 Q1300.4 1032.06 1301.86 1034.73 L1296.45 1034.73 Q1295.21 1031.51 1294.6 1028.49 Q1293.97 1025.47 1293.97 1022.6 Q1293.97 1014.87 1297.98 1011.05 Q1301.99 1007.23 1310.14 1007.23 Z\" fill=\"#000000\" fill-rule=\"nonzero\" fill-opacity=\"1\" /><path clip-path=\"url(#clip590)\" d=\"M1280.95 995.166 L1280.95 989.31 L1330.47 989.31 L1330.47 995.166 L1280.95 995.166 Z\" fill=\"#000000\" fill-rule=\"nonzero\" fill-opacity=\"1\" /><path clip-path=\"url(#clip595)\" d=\"M1517.32 847.244 L1517.32 1423.18 L1523.57 1423.18 L1523.57 847.244 L1517.32 847.244 L1517.32 847.244  Z\" fill=\"#009af9\" fill-rule=\"evenodd\" fill-opacity=\"1\"/>\n",
       "<polyline clip-path=\"url(#clip595)\" style=\"stroke:#000000; stroke-linecap:round; stroke-linejoin:round; stroke-width:4; stroke-opacity:1; fill:none\" points=\"1517.32,847.244 1517.32,1423.18 1523.57,1423.18 1523.57,847.244 1517.32,847.244 \"/>\n",
       "<path clip-path=\"url(#clip595)\" d=\"M1525.13 847.244 L1525.13 1423.18 L1531.37 1423.18 L1531.37 847.244 L1525.13 847.244 L1525.13 847.244  Z\" fill=\"#009af9\" fill-rule=\"evenodd\" fill-opacity=\"1\"/>\n",
       "<polyline clip-path=\"url(#clip595)\" style=\"stroke:#000000; stroke-linecap:round; stroke-linejoin:round; stroke-width:4; stroke-opacity:1; fill:none\" points=\"1525.13,847.244 1525.13,1423.18 1531.37,1423.18 1531.37,847.244 1525.13,847.244 \"/>\n",
       "<path clip-path=\"url(#clip595)\" d=\"M1532.93 847.244 L1532.93 1423.18 L1539.18 1423.18 L1539.18 847.244 L1532.93 847.244 L1532.93 847.244  Z\" fill=\"#009af9\" fill-rule=\"evenodd\" fill-opacity=\"1\"/>\n",
       "<polyline clip-path=\"url(#clip595)\" style=\"stroke:#000000; stroke-linecap:round; stroke-linejoin:round; stroke-width:4; stroke-opacity:1; fill:none\" points=\"1532.93,847.244 1532.93,1423.18 1539.18,1423.18 1539.18,847.244 1532.93,847.244 \"/>\n",
       "<path clip-path=\"url(#clip595)\" d=\"M1540.74 847.244 L1540.74 1423.18 L1546.98 1423.18 L1546.98 847.244 L1540.74 847.244 L1540.74 847.244  Z\" fill=\"#009af9\" fill-rule=\"evenodd\" fill-opacity=\"1\"/>\n",
       "<polyline clip-path=\"url(#clip595)\" style=\"stroke:#000000; stroke-linecap:round; stroke-linejoin:round; stroke-width:4; stroke-opacity:1; fill:none\" points=\"1540.74,847.244 1540.74,1423.18 1546.98,1423.18 1546.98,847.244 1540.74,847.244 \"/>\n",
       "<path clip-path=\"url(#clip595)\" d=\"M1548.54 847.244 L1548.54 1423.18 L1554.79 1423.18 L1554.79 847.244 L1548.54 847.244 L1548.54 847.244  Z\" fill=\"#009af9\" fill-rule=\"evenodd\" fill-opacity=\"1\"/>\n",
       "<polyline clip-path=\"url(#clip595)\" style=\"stroke:#000000; stroke-linecap:round; stroke-linejoin:round; stroke-width:4; stroke-opacity:1; fill:none\" points=\"1548.54,847.244 1548.54,1423.18 1554.79,1423.18 1554.79,847.244 1548.54,847.244 \"/>\n",
       "<path clip-path=\"url(#clip595)\" d=\"M1556.35 847.244 L1556.35 1423.18 L1562.59 1423.18 L1562.59 847.244 L1556.35 847.244 L1556.35 847.244  Z\" fill=\"#009af9\" fill-rule=\"evenodd\" fill-opacity=\"1\"/>\n",
       "<polyline clip-path=\"url(#clip595)\" style=\"stroke:#000000; stroke-linecap:round; stroke-linejoin:round; stroke-width:4; stroke-opacity:1; fill:none\" points=\"1556.35,847.244 1556.35,1423.18 1562.59,1423.18 1562.59,847.244 1556.35,847.244 \"/>\n",
       "<path clip-path=\"url(#clip595)\" d=\"M1564.16 847.244 L1564.16 1423.18 L1570.4 1423.18 L1570.4 847.244 L1564.16 847.244 L1564.16 847.244  Z\" fill=\"#009af9\" fill-rule=\"evenodd\" fill-opacity=\"1\"/>\n",
       "<polyline clip-path=\"url(#clip595)\" style=\"stroke:#000000; stroke-linecap:round; stroke-linejoin:round; stroke-width:4; stroke-opacity:1; fill:none\" points=\"1564.16,847.244 1564.16,1423.18 1570.4,1423.18 1570.4,847.244 1564.16,847.244 \"/>\n",
       "<path clip-path=\"url(#clip595)\" d=\"M1571.96 847.244 L1571.96 1423.18 L1578.21 1423.18 L1578.21 847.244 L1571.96 847.244 L1571.96 847.244  Z\" fill=\"#009af9\" fill-rule=\"evenodd\" fill-opacity=\"1\"/>\n",
       "<polyline clip-path=\"url(#clip595)\" style=\"stroke:#000000; stroke-linecap:round; stroke-linejoin:round; stroke-width:4; stroke-opacity:1; fill:none\" points=\"1571.96,847.244 1571.96,1423.18 1578.21,1423.18 1578.21,847.244 1571.96,847.244 \"/>\n",
       "<path clip-path=\"url(#clip595)\" d=\"M1579.77 847.244 L1579.77 1423.18 L1586.01 1423.18 L1586.01 847.244 L1579.77 847.244 L1579.77 847.244  Z\" fill=\"#009af9\" fill-rule=\"evenodd\" fill-opacity=\"1\"/>\n",
       "<polyline clip-path=\"url(#clip595)\" style=\"stroke:#000000; stroke-linecap:round; stroke-linejoin:round; stroke-width:4; stroke-opacity:1; fill:none\" points=\"1579.77,847.244 1579.77,1423.18 1586.01,1423.18 1586.01,847.244 1579.77,847.244 \"/>\n",
       "<path clip-path=\"url(#clip595)\" d=\"M1587.57 847.244 L1587.57 1423.18 L1593.82 1423.18 L1593.82 847.244 L1587.57 847.244 L1587.57 847.244  Z\" fill=\"#009af9\" fill-rule=\"evenodd\" fill-opacity=\"1\"/>\n",
       "<polyline clip-path=\"url(#clip595)\" style=\"stroke:#000000; stroke-linecap:round; stroke-linejoin:round; stroke-width:4; stroke-opacity:1; fill:none\" points=\"1587.57,847.244 1587.57,1423.18 1593.82,1423.18 1593.82,847.244 1587.57,847.244 \"/>\n",
       "<path clip-path=\"url(#clip595)\" d=\"M1595.38 847.244 L1595.38 1423.18 L1601.62 1423.18 L1601.62 847.244 L1595.38 847.244 L1595.38 847.244  Z\" fill=\"#009af9\" fill-rule=\"evenodd\" fill-opacity=\"1\"/>\n",
       "<polyline clip-path=\"url(#clip595)\" style=\"stroke:#000000; stroke-linecap:round; stroke-linejoin:round; stroke-width:4; stroke-opacity:1; fill:none\" points=\"1595.38,847.244 1595.38,1423.18 1601.62,1423.18 1601.62,847.244 1595.38,847.244 \"/>\n",
       "<path clip-path=\"url(#clip595)\" d=\"M1603.18 847.244 L1603.18 1423.18 L1609.43 1423.18 L1609.43 847.244 L1603.18 847.244 L1603.18 847.244  Z\" fill=\"#009af9\" fill-rule=\"evenodd\" fill-opacity=\"1\"/>\n",
       "<polyline clip-path=\"url(#clip595)\" style=\"stroke:#000000; stroke-linecap:round; stroke-linejoin:round; stroke-width:4; stroke-opacity:1; fill:none\" points=\"1603.18,847.244 1603.18,1423.18 1609.43,1423.18 1609.43,847.244 1603.18,847.244 \"/>\n",
       "<path clip-path=\"url(#clip595)\" d=\"M1610.99 847.244 L1610.99 1423.18 L1617.23 1423.18 L1617.23 847.244 L1610.99 847.244 L1610.99 847.244  Z\" fill=\"#009af9\" fill-rule=\"evenodd\" fill-opacity=\"1\"/>\n",
       "<polyline clip-path=\"url(#clip595)\" style=\"stroke:#000000; stroke-linecap:round; stroke-linejoin:round; stroke-width:4; stroke-opacity:1; fill:none\" points=\"1610.99,847.244 1610.99,1423.18 1617.23,1423.18 1617.23,847.244 1610.99,847.244 \"/>\n",
       "<path clip-path=\"url(#clip595)\" d=\"M1618.8 847.244 L1618.8 1423.18 L1625.04 1423.18 L1625.04 847.244 L1618.8 847.244 L1618.8 847.244  Z\" fill=\"#009af9\" fill-rule=\"evenodd\" fill-opacity=\"1\"/>\n",
       "<polyline clip-path=\"url(#clip595)\" style=\"stroke:#000000; stroke-linecap:round; stroke-linejoin:round; stroke-width:4; stroke-opacity:1; fill:none\" points=\"1618.8,847.244 1618.8,1423.18 1625.04,1423.18 1625.04,847.244 1618.8,847.244 \"/>\n",
       "<path clip-path=\"url(#clip595)\" d=\"M1626.6 847.244 L1626.6 1423.18 L1632.85 1423.18 L1632.85 847.244 L1626.6 847.244 L1626.6 847.244  Z\" fill=\"#009af9\" fill-rule=\"evenodd\" fill-opacity=\"1\"/>\n",
       "<polyline clip-path=\"url(#clip595)\" style=\"stroke:#000000; stroke-linecap:round; stroke-linejoin:round; stroke-width:4; stroke-opacity:1; fill:none\" points=\"1626.6,847.244 1626.6,1423.18 1632.85,1423.18 1632.85,847.244 1626.6,847.244 \"/>\n",
       "<path clip-path=\"url(#clip595)\" d=\"M1634.41 847.244 L1634.41 1423.18 L1640.65 1423.18 L1640.65 847.244 L1634.41 847.244 L1634.41 847.244  Z\" fill=\"#009af9\" fill-rule=\"evenodd\" fill-opacity=\"1\"/>\n",
       "<polyline clip-path=\"url(#clip595)\" style=\"stroke:#000000; stroke-linecap:round; stroke-linejoin:round; stroke-width:4; stroke-opacity:1; fill:none\" points=\"1634.41,847.244 1634.41,1423.18 1640.65,1423.18 1640.65,847.244 1634.41,847.244 \"/>\n",
       "<path clip-path=\"url(#clip595)\" d=\"M1642.21 847.244 L1642.21 1423.18 L1648.46 1423.18 L1648.46 847.244 L1642.21 847.244 L1642.21 847.244  Z\" fill=\"#009af9\" fill-rule=\"evenodd\" fill-opacity=\"1\"/>\n",
       "<polyline clip-path=\"url(#clip595)\" style=\"stroke:#000000; stroke-linecap:round; stroke-linejoin:round; stroke-width:4; stroke-opacity:1; fill:none\" points=\"1642.21,847.244 1642.21,1423.18 1648.46,1423.18 1648.46,847.244 1642.21,847.244 \"/>\n",
       "<path clip-path=\"url(#clip595)\" d=\"M1650.02 847.244 L1650.02 1423.18 L1656.26 1423.18 L1656.26 847.244 L1650.02 847.244 L1650.02 847.244  Z\" fill=\"#009af9\" fill-rule=\"evenodd\" fill-opacity=\"1\"/>\n",
       "<polyline clip-path=\"url(#clip595)\" style=\"stroke:#000000; stroke-linecap:round; stroke-linejoin:round; stroke-width:4; stroke-opacity:1; fill:none\" points=\"1650.02,847.244 1650.02,1423.18 1656.26,1423.18 1656.26,847.244 1650.02,847.244 \"/>\n",
       "<path clip-path=\"url(#clip595)\" d=\"M1657.82 847.244 L1657.82 1423.18 L1664.07 1423.18 L1664.07 847.244 L1657.82 847.244 L1657.82 847.244  Z\" fill=\"#009af9\" fill-rule=\"evenodd\" fill-opacity=\"1\"/>\n",
       "<polyline clip-path=\"url(#clip595)\" style=\"stroke:#000000; stroke-linecap:round; stroke-linejoin:round; stroke-width:4; stroke-opacity:1; fill:none\" points=\"1657.82,847.244 1657.82,1423.18 1664.07,1423.18 1664.07,847.244 1657.82,847.244 \"/>\n",
       "<path clip-path=\"url(#clip595)\" d=\"M1665.63 847.244 L1665.63 1423.18 L1671.87 1423.18 L1671.87 847.244 L1665.63 847.244 L1665.63 847.244  Z\" fill=\"#009af9\" fill-rule=\"evenodd\" fill-opacity=\"1\"/>\n",
       "<polyline clip-path=\"url(#clip595)\" style=\"stroke:#000000; stroke-linecap:round; stroke-linejoin:round; stroke-width:4; stroke-opacity:1; fill:none\" points=\"1665.63,847.244 1665.63,1423.18 1671.87,1423.18 1671.87,847.244 1665.63,847.244 \"/>\n",
       "<path clip-path=\"url(#clip595)\" d=\"M1673.43 847.244 L1673.43 1423.18 L1679.68 1423.18 L1679.68 847.244 L1673.43 847.244 L1673.43 847.244  Z\" fill=\"#009af9\" fill-rule=\"evenodd\" fill-opacity=\"1\"/>\n",
       "<polyline clip-path=\"url(#clip595)\" style=\"stroke:#000000; stroke-linecap:round; stroke-linejoin:round; stroke-width:4; stroke-opacity:1; fill:none\" points=\"1673.43,847.244 1673.43,1423.18 1679.68,1423.18 1679.68,847.244 1673.43,847.244 \"/>\n",
       "<path clip-path=\"url(#clip595)\" d=\"M1681.24 847.244 L1681.24 1423.18 L1687.48 1423.18 L1687.48 847.244 L1681.24 847.244 L1681.24 847.244  Z\" fill=\"#009af9\" fill-rule=\"evenodd\" fill-opacity=\"1\"/>\n",
       "<polyline clip-path=\"url(#clip595)\" style=\"stroke:#000000; stroke-linecap:round; stroke-linejoin:round; stroke-width:4; stroke-opacity:1; fill:none\" points=\"1681.24,847.244 1681.24,1423.18 1687.48,1423.18 1687.48,847.244 1681.24,847.244 \"/>\n",
       "<path clip-path=\"url(#clip595)\" d=\"M1689.05 847.244 L1689.05 1423.18 L1695.29 1423.18 L1695.29 847.244 L1689.05 847.244 L1689.05 847.244  Z\" fill=\"#009af9\" fill-rule=\"evenodd\" fill-opacity=\"1\"/>\n",
       "<polyline clip-path=\"url(#clip595)\" style=\"stroke:#000000; stroke-linecap:round; stroke-linejoin:round; stroke-width:4; stroke-opacity:1; fill:none\" points=\"1689.05,847.244 1689.05,1423.18 1695.29,1423.18 1695.29,847.244 1689.05,847.244 \"/>\n",
       "<path clip-path=\"url(#clip595)\" d=\"M1696.85 847.244 L1696.85 1423.18 L1703.1 1423.18 L1703.1 847.244 L1696.85 847.244 L1696.85 847.244  Z\" fill=\"#009af9\" fill-rule=\"evenodd\" fill-opacity=\"1\"/>\n",
       "<polyline clip-path=\"url(#clip595)\" style=\"stroke:#000000; stroke-linecap:round; stroke-linejoin:round; stroke-width:4; stroke-opacity:1; fill:none\" points=\"1696.85,847.244 1696.85,1423.18 1703.1,1423.18 1703.1,847.244 1696.85,847.244 \"/>\n",
       "<path clip-path=\"url(#clip595)\" d=\"M1704.66 847.244 L1704.66 1423.18 L1710.9 1423.18 L1710.9 847.244 L1704.66 847.244 L1704.66 847.244  Z\" fill=\"#009af9\" fill-rule=\"evenodd\" fill-opacity=\"1\"/>\n",
       "<polyline clip-path=\"url(#clip595)\" style=\"stroke:#000000; stroke-linecap:round; stroke-linejoin:round; stroke-width:4; stroke-opacity:1; fill:none\" points=\"1704.66,847.244 1704.66,1423.18 1710.9,1423.18 1710.9,847.244 1704.66,847.244 \"/>\n",
       "<path clip-path=\"url(#clip595)\" d=\"M1712.46 847.244 L1712.46 1423.18 L1718.71 1423.18 L1718.71 847.244 L1712.46 847.244 L1712.46 847.244  Z\" fill=\"#009af9\" fill-rule=\"evenodd\" fill-opacity=\"1\"/>\n",
       "<polyline clip-path=\"url(#clip595)\" style=\"stroke:#000000; stroke-linecap:round; stroke-linejoin:round; stroke-width:4; stroke-opacity:1; fill:none\" points=\"1712.46,847.244 1712.46,1423.18 1718.71,1423.18 1718.71,847.244 1712.46,847.244 \"/>\n",
       "<path clip-path=\"url(#clip595)\" d=\"M1720.27 847.244 L1720.27 1423.18 L1726.51 1423.18 L1726.51 847.244 L1720.27 847.244 L1720.27 847.244  Z\" fill=\"#009af9\" fill-rule=\"evenodd\" fill-opacity=\"1\"/>\n",
       "<polyline clip-path=\"url(#clip595)\" style=\"stroke:#000000; stroke-linecap:round; stroke-linejoin:round; stroke-width:4; stroke-opacity:1; fill:none\" points=\"1720.27,847.244 1720.27,1423.18 1726.51,1423.18 1726.51,847.244 1720.27,847.244 \"/>\n",
       "<path clip-path=\"url(#clip595)\" d=\"M1728.07 847.244 L1728.07 1423.18 L1734.32 1423.18 L1734.32 847.244 L1728.07 847.244 L1728.07 847.244  Z\" fill=\"#009af9\" fill-rule=\"evenodd\" fill-opacity=\"1\"/>\n",
       "<polyline clip-path=\"url(#clip595)\" style=\"stroke:#000000; stroke-linecap:round; stroke-linejoin:round; stroke-width:4; stroke-opacity:1; fill:none\" points=\"1728.07,847.244 1728.07,1423.18 1734.32,1423.18 1734.32,847.244 1728.07,847.244 \"/>\n",
       "<path clip-path=\"url(#clip595)\" d=\"M1735.88 847.244 L1735.88 1423.18 L1742.12 1423.18 L1742.12 847.244 L1735.88 847.244 L1735.88 847.244  Z\" fill=\"#009af9\" fill-rule=\"evenodd\" fill-opacity=\"1\"/>\n",
       "<polyline clip-path=\"url(#clip595)\" style=\"stroke:#000000; stroke-linecap:round; stroke-linejoin:round; stroke-width:4; stroke-opacity:1; fill:none\" points=\"1735.88,847.244 1735.88,1423.18 1742.12,1423.18 1742.12,847.244 1735.88,847.244 \"/>\n",
       "<path clip-path=\"url(#clip595)\" d=\"M1743.69 847.244 L1743.69 1423.18 L1749.93 1423.18 L1749.93 847.244 L1743.69 847.244 L1743.69 847.244  Z\" fill=\"#009af9\" fill-rule=\"evenodd\" fill-opacity=\"1\"/>\n",
       "<polyline clip-path=\"url(#clip595)\" style=\"stroke:#000000; stroke-linecap:round; stroke-linejoin:round; stroke-width:4; stroke-opacity:1; fill:none\" points=\"1743.69,847.244 1743.69,1423.18 1749.93,1423.18 1749.93,847.244 1743.69,847.244 \"/>\n",
       "<path clip-path=\"url(#clip595)\" d=\"M1751.49 847.244 L1751.49 1423.18 L1757.74 1423.18 L1757.74 847.244 L1751.49 847.244 L1751.49 847.244  Z\" fill=\"#009af9\" fill-rule=\"evenodd\" fill-opacity=\"1\"/>\n",
       "<polyline clip-path=\"url(#clip595)\" style=\"stroke:#000000; stroke-linecap:round; stroke-linejoin:round; stroke-width:4; stroke-opacity:1; fill:none\" points=\"1751.49,847.244 1751.49,1423.18 1757.74,1423.18 1757.74,847.244 1751.49,847.244 \"/>\n",
       "<path clip-path=\"url(#clip595)\" d=\"M1759.3 847.244 L1759.3 1423.18 L1765.54 1423.18 L1765.54 847.244 L1759.3 847.244 L1759.3 847.244  Z\" fill=\"#009af9\" fill-rule=\"evenodd\" fill-opacity=\"1\"/>\n",
       "<polyline clip-path=\"url(#clip595)\" style=\"stroke:#000000; stroke-linecap:round; stroke-linejoin:round; stroke-width:4; stroke-opacity:1; fill:none\" points=\"1759.3,847.244 1759.3,1423.18 1765.54,1423.18 1765.54,847.244 1759.3,847.244 \"/>\n",
       "<path clip-path=\"url(#clip595)\" d=\"M1767.1 847.244 L1767.1 1423.18 L1773.35 1423.18 L1773.35 847.244 L1767.1 847.244 L1767.1 847.244  Z\" fill=\"#009af9\" fill-rule=\"evenodd\" fill-opacity=\"1\"/>\n",
       "<polyline clip-path=\"url(#clip595)\" style=\"stroke:#000000; stroke-linecap:round; stroke-linejoin:round; stroke-width:4; stroke-opacity:1; fill:none\" points=\"1767.1,847.244 1767.1,1423.18 1773.35,1423.18 1773.35,847.244 1767.1,847.244 \"/>\n",
       "<path clip-path=\"url(#clip595)\" d=\"M1774.91 847.244 L1774.91 1423.18 L1781.15 1423.18 L1781.15 847.244 L1774.91 847.244 L1774.91 847.244  Z\" fill=\"#009af9\" fill-rule=\"evenodd\" fill-opacity=\"1\"/>\n",
       "<polyline clip-path=\"url(#clip595)\" style=\"stroke:#000000; stroke-linecap:round; stroke-linejoin:round; stroke-width:4; stroke-opacity:1; fill:none\" points=\"1774.91,847.244 1774.91,1423.18 1781.15,1423.18 1781.15,847.244 1774.91,847.244 \"/>\n",
       "<path clip-path=\"url(#clip595)\" d=\"M1782.71 847.244 L1782.71 1423.18 L1788.96 1423.18 L1788.96 847.244 L1782.71 847.244 L1782.71 847.244  Z\" fill=\"#009af9\" fill-rule=\"evenodd\" fill-opacity=\"1\"/>\n",
       "<polyline clip-path=\"url(#clip595)\" style=\"stroke:#000000; stroke-linecap:round; stroke-linejoin:round; stroke-width:4; stroke-opacity:1; fill:none\" points=\"1782.71,847.244 1782.71,1423.18 1788.96,1423.18 1788.96,847.244 1782.71,847.244 \"/>\n",
       "<path clip-path=\"url(#clip595)\" d=\"M1790.52 847.244 L1790.52 1423.18 L1796.76 1423.18 L1796.76 847.244 L1790.52 847.244 L1790.52 847.244  Z\" fill=\"#009af9\" fill-rule=\"evenodd\" fill-opacity=\"1\"/>\n",
       "<polyline clip-path=\"url(#clip595)\" style=\"stroke:#000000; stroke-linecap:round; stroke-linejoin:round; stroke-width:4; stroke-opacity:1; fill:none\" points=\"1790.52,847.244 1790.52,1423.18 1796.76,1423.18 1796.76,847.244 1790.52,847.244 \"/>\n",
       "<path clip-path=\"url(#clip595)\" d=\"M1798.33 847.244 L1798.33 1423.18 L1804.57 1423.18 L1804.57 847.244 L1798.33 847.244 L1798.33 847.244  Z\" fill=\"#009af9\" fill-rule=\"evenodd\" fill-opacity=\"1\"/>\n",
       "<polyline clip-path=\"url(#clip595)\" style=\"stroke:#000000; stroke-linecap:round; stroke-linejoin:round; stroke-width:4; stroke-opacity:1; fill:none\" points=\"1798.33,847.244 1798.33,1423.18 1804.57,1423.18 1804.57,847.244 1798.33,847.244 \"/>\n",
       "<path clip-path=\"url(#clip595)\" d=\"M1806.13 847.244 L1806.13 1423.18 L1812.38 1423.18 L1812.38 847.244 L1806.13 847.244 L1806.13 847.244  Z\" fill=\"#009af9\" fill-rule=\"evenodd\" fill-opacity=\"1\"/>\n",
       "<polyline clip-path=\"url(#clip595)\" style=\"stroke:#000000; stroke-linecap:round; stroke-linejoin:round; stroke-width:4; stroke-opacity:1; fill:none\" points=\"1806.13,847.244 1806.13,1423.18 1812.38,1423.18 1812.38,847.244 1806.13,847.244 \"/>\n",
       "<path clip-path=\"url(#clip595)\" d=\"M1813.94 847.244 L1813.94 1423.18 L1820.18 1423.18 L1820.18 847.244 L1813.94 847.244 L1813.94 847.244  Z\" fill=\"#009af9\" fill-rule=\"evenodd\" fill-opacity=\"1\"/>\n",
       "<polyline clip-path=\"url(#clip595)\" style=\"stroke:#000000; stroke-linecap:round; stroke-linejoin:round; stroke-width:4; stroke-opacity:1; fill:none\" points=\"1813.94,847.244 1813.94,1423.18 1820.18,1423.18 1820.18,847.244 1813.94,847.244 \"/>\n",
       "<path clip-path=\"url(#clip595)\" d=\"M1821.74 847.244 L1821.74 1423.18 L1827.99 1423.18 L1827.99 847.244 L1821.74 847.244 L1821.74 847.244  Z\" fill=\"#009af9\" fill-rule=\"evenodd\" fill-opacity=\"1\"/>\n",
       "<polyline clip-path=\"url(#clip595)\" style=\"stroke:#000000; stroke-linecap:round; stroke-linejoin:round; stroke-width:4; stroke-opacity:1; fill:none\" points=\"1821.74,847.244 1821.74,1423.18 1827.99,1423.18 1827.99,847.244 1821.74,847.244 \"/>\n",
       "<path clip-path=\"url(#clip595)\" d=\"M1829.55 847.244 L1829.55 1423.18 L1835.79 1423.18 L1835.79 847.244 L1829.55 847.244 L1829.55 847.244  Z\" fill=\"#009af9\" fill-rule=\"evenodd\" fill-opacity=\"1\"/>\n",
       "<polyline clip-path=\"url(#clip595)\" style=\"stroke:#000000; stroke-linecap:round; stroke-linejoin:round; stroke-width:4; stroke-opacity:1; fill:none\" points=\"1829.55,847.244 1829.55,1423.18 1835.79,1423.18 1835.79,847.244 1829.55,847.244 \"/>\n",
       "<path clip-path=\"url(#clip595)\" d=\"M1837.35 847.244 L1837.35 1423.18 L1843.6 1423.18 L1843.6 847.244 L1837.35 847.244 L1837.35 847.244  Z\" fill=\"#009af9\" fill-rule=\"evenodd\" fill-opacity=\"1\"/>\n",
       "<polyline clip-path=\"url(#clip595)\" style=\"stroke:#000000; stroke-linecap:round; stroke-linejoin:round; stroke-width:4; stroke-opacity:1; fill:none\" points=\"1837.35,847.244 1837.35,1423.18 1843.6,1423.18 1843.6,847.244 1837.35,847.244 \"/>\n",
       "<path clip-path=\"url(#clip595)\" d=\"M1845.16 847.244 L1845.16 1423.18 L1851.4 1423.18 L1851.4 847.244 L1845.16 847.244 L1845.16 847.244  Z\" fill=\"#009af9\" fill-rule=\"evenodd\" fill-opacity=\"1\"/>\n",
       "<polyline clip-path=\"url(#clip595)\" style=\"stroke:#000000; stroke-linecap:round; stroke-linejoin:round; stroke-width:4; stroke-opacity:1; fill:none\" points=\"1845.16,847.244 1845.16,1423.18 1851.4,1423.18 1851.4,847.244 1845.16,847.244 \"/>\n",
       "<path clip-path=\"url(#clip595)\" d=\"M1852.96 847.244 L1852.96 1423.18 L1859.21 1423.18 L1859.21 847.244 L1852.96 847.244 L1852.96 847.244  Z\" fill=\"#009af9\" fill-rule=\"evenodd\" fill-opacity=\"1\"/>\n",
       "<polyline clip-path=\"url(#clip595)\" style=\"stroke:#000000; stroke-linecap:round; stroke-linejoin:round; stroke-width:4; stroke-opacity:1; fill:none\" points=\"1852.96,847.244 1852.96,1423.18 1859.21,1423.18 1859.21,847.244 1852.96,847.244 \"/>\n",
       "<path clip-path=\"url(#clip595)\" d=\"M1860.77 847.244 L1860.77 1423.18 L1867.01 1423.18 L1867.01 847.244 L1860.77 847.244 L1860.77 847.244  Z\" fill=\"#009af9\" fill-rule=\"evenodd\" fill-opacity=\"1\"/>\n",
       "<polyline clip-path=\"url(#clip595)\" style=\"stroke:#000000; stroke-linecap:round; stroke-linejoin:round; stroke-width:4; stroke-opacity:1; fill:none\" points=\"1860.77,847.244 1860.77,1423.18 1867.01,1423.18 1867.01,847.244 1860.77,847.244 \"/>\n",
       "<path clip-path=\"url(#clip595)\" d=\"M1868.58 847.244 L1868.58 1423.18 L1874.82 1423.18 L1874.82 847.244 L1868.58 847.244 L1868.58 847.244  Z\" fill=\"#009af9\" fill-rule=\"evenodd\" fill-opacity=\"1\"/>\n",
       "<polyline clip-path=\"url(#clip595)\" style=\"stroke:#000000; stroke-linecap:round; stroke-linejoin:round; stroke-width:4; stroke-opacity:1; fill:none\" points=\"1868.58,847.244 1868.58,1423.18 1874.82,1423.18 1874.82,847.244 1868.58,847.244 \"/>\n",
       "<path clip-path=\"url(#clip595)\" d=\"M1876.38 847.244 L1876.38 1423.18 L1882.63 1423.18 L1882.63 847.244 L1876.38 847.244 L1876.38 847.244  Z\" fill=\"#009af9\" fill-rule=\"evenodd\" fill-opacity=\"1\"/>\n",
       "<polyline clip-path=\"url(#clip595)\" style=\"stroke:#000000; stroke-linecap:round; stroke-linejoin:round; stroke-width:4; stroke-opacity:1; fill:none\" points=\"1876.38,847.244 1876.38,1423.18 1882.63,1423.18 1882.63,847.244 1876.38,847.244 \"/>\n",
       "<path clip-path=\"url(#clip595)\" d=\"M1884.19 847.244 L1884.19 1423.18 L1890.43 1423.18 L1890.43 847.244 L1884.19 847.244 L1884.19 847.244  Z\" fill=\"#009af9\" fill-rule=\"evenodd\" fill-opacity=\"1\"/>\n",
       "<polyline clip-path=\"url(#clip595)\" style=\"stroke:#000000; stroke-linecap:round; stroke-linejoin:round; stroke-width:4; stroke-opacity:1; fill:none\" points=\"1884.19,847.244 1884.19,1423.18 1890.43,1423.18 1890.43,847.244 1884.19,847.244 \"/>\n",
       "<path clip-path=\"url(#clip595)\" d=\"M1891.99 847.244 L1891.99 1423.18 L1898.24 1423.18 L1898.24 847.244 L1891.99 847.244 L1891.99 847.244  Z\" fill=\"#009af9\" fill-rule=\"evenodd\" fill-opacity=\"1\"/>\n",
       "<polyline clip-path=\"url(#clip595)\" style=\"stroke:#000000; stroke-linecap:round; stroke-linejoin:round; stroke-width:4; stroke-opacity:1; fill:none\" points=\"1891.99,847.244 1891.99,1423.18 1898.24,1423.18 1898.24,847.244 1891.99,847.244 \"/>\n",
       "<path clip-path=\"url(#clip595)\" d=\"M1899.8 847.244 L1899.8 1423.18 L1906.04 1423.18 L1906.04 847.244 L1899.8 847.244 L1899.8 847.244  Z\" fill=\"#009af9\" fill-rule=\"evenodd\" fill-opacity=\"1\"/>\n",
       "<polyline clip-path=\"url(#clip595)\" style=\"stroke:#000000; stroke-linecap:round; stroke-linejoin:round; stroke-width:4; stroke-opacity:1; fill:none\" points=\"1899.8,847.244 1899.8,1423.18 1906.04,1423.18 1906.04,847.244 1899.8,847.244 \"/>\n",
       "<path clip-path=\"url(#clip595)\" d=\"M1907.6 847.244 L1907.6 1423.18 L1913.85 1423.18 L1913.85 847.244 L1907.6 847.244 L1907.6 847.244  Z\" fill=\"#009af9\" fill-rule=\"evenodd\" fill-opacity=\"1\"/>\n",
       "<polyline clip-path=\"url(#clip595)\" style=\"stroke:#000000; stroke-linecap:round; stroke-linejoin:round; stroke-width:4; stroke-opacity:1; fill:none\" points=\"1907.6,847.244 1907.6,1423.18 1913.85,1423.18 1913.85,847.244 1907.6,847.244 \"/>\n",
       "<path clip-path=\"url(#clip595)\" d=\"M1915.41 847.244 L1915.41 1423.18 L1921.65 1423.18 L1921.65 847.244 L1915.41 847.244 L1915.41 847.244  Z\" fill=\"#009af9\" fill-rule=\"evenodd\" fill-opacity=\"1\"/>\n",
       "<polyline clip-path=\"url(#clip595)\" style=\"stroke:#000000; stroke-linecap:round; stroke-linejoin:round; stroke-width:4; stroke-opacity:1; fill:none\" points=\"1915.41,847.244 1915.41,1423.18 1921.65,1423.18 1921.65,847.244 1915.41,847.244 \"/>\n",
       "<path clip-path=\"url(#clip595)\" d=\"M1923.22 847.244 L1923.22 1423.18 L1929.46 1423.18 L1929.46 847.244 L1923.22 847.244 L1923.22 847.244  Z\" fill=\"#009af9\" fill-rule=\"evenodd\" fill-opacity=\"1\"/>\n",
       "<polyline clip-path=\"url(#clip595)\" style=\"stroke:#000000; stroke-linecap:round; stroke-linejoin:round; stroke-width:4; stroke-opacity:1; fill:none\" points=\"1923.22,847.244 1923.22,1423.18 1929.46,1423.18 1929.46,847.244 1923.22,847.244 \"/>\n",
       "<path clip-path=\"url(#clip595)\" d=\"M1931.02 847.244 L1931.02 1423.18 L1937.27 1423.18 L1937.27 847.244 L1931.02 847.244 L1931.02 847.244  Z\" fill=\"#009af9\" fill-rule=\"evenodd\" fill-opacity=\"1\"/>\n",
       "<polyline clip-path=\"url(#clip595)\" style=\"stroke:#000000; stroke-linecap:round; stroke-linejoin:round; stroke-width:4; stroke-opacity:1; fill:none\" points=\"1931.02,847.244 1931.02,1423.18 1937.27,1423.18 1937.27,847.244 1931.02,847.244 \"/>\n",
       "<path clip-path=\"url(#clip595)\" d=\"M1938.83 847.244 L1938.83 1423.18 L1945.07 1423.18 L1945.07 847.244 L1938.83 847.244 L1938.83 847.244  Z\" fill=\"#009af9\" fill-rule=\"evenodd\" fill-opacity=\"1\"/>\n",
       "<polyline clip-path=\"url(#clip595)\" style=\"stroke:#000000; stroke-linecap:round; stroke-linejoin:round; stroke-width:4; stroke-opacity:1; fill:none\" points=\"1938.83,847.244 1938.83,1423.18 1945.07,1423.18 1945.07,847.244 1938.83,847.244 \"/>\n",
       "<path clip-path=\"url(#clip595)\" d=\"M1946.63 847.244 L1946.63 1423.18 L1952.88 1423.18 L1952.88 847.244 L1946.63 847.244 L1946.63 847.244  Z\" fill=\"#009af9\" fill-rule=\"evenodd\" fill-opacity=\"1\"/>\n",
       "<polyline clip-path=\"url(#clip595)\" style=\"stroke:#000000; stroke-linecap:round; stroke-linejoin:round; stroke-width:4; stroke-opacity:1; fill:none\" points=\"1946.63,847.244 1946.63,1423.18 1952.88,1423.18 1952.88,847.244 1946.63,847.244 \"/>\n",
       "<path clip-path=\"url(#clip595)\" d=\"M1954.44 847.244 L1954.44 1423.18 L1960.68 1423.18 L1960.68 847.244 L1954.44 847.244 L1954.44 847.244  Z\" fill=\"#009af9\" fill-rule=\"evenodd\" fill-opacity=\"1\"/>\n",
       "<polyline clip-path=\"url(#clip595)\" style=\"stroke:#000000; stroke-linecap:round; stroke-linejoin:round; stroke-width:4; stroke-opacity:1; fill:none\" points=\"1954.44,847.244 1954.44,1423.18 1960.68,1423.18 1960.68,847.244 1954.44,847.244 \"/>\n",
       "<path clip-path=\"url(#clip595)\" d=\"M1962.24 847.244 L1962.24 1423.18 L1968.49 1423.18 L1968.49 847.244 L1962.24 847.244 L1962.24 847.244  Z\" fill=\"#009af9\" fill-rule=\"evenodd\" fill-opacity=\"1\"/>\n",
       "<polyline clip-path=\"url(#clip595)\" style=\"stroke:#000000; stroke-linecap:round; stroke-linejoin:round; stroke-width:4; stroke-opacity:1; fill:none\" points=\"1962.24,847.244 1962.24,1423.18 1968.49,1423.18 1968.49,847.244 1962.24,847.244 \"/>\n",
       "<path clip-path=\"url(#clip595)\" d=\"M1970.05 847.244 L1970.05 1423.18 L1976.29 1423.18 L1976.29 847.244 L1970.05 847.244 L1970.05 847.244  Z\" fill=\"#009af9\" fill-rule=\"evenodd\" fill-opacity=\"1\"/>\n",
       "<polyline clip-path=\"url(#clip595)\" style=\"stroke:#000000; stroke-linecap:round; stroke-linejoin:round; stroke-width:4; stroke-opacity:1; fill:none\" points=\"1970.05,847.244 1970.05,1423.18 1976.29,1423.18 1976.29,847.244 1970.05,847.244 \"/>\n",
       "<path clip-path=\"url(#clip595)\" d=\"M1977.86 847.244 L1977.86 1423.18 L1984.1 1423.18 L1984.1 847.244 L1977.86 847.244 L1977.86 847.244  Z\" fill=\"#009af9\" fill-rule=\"evenodd\" fill-opacity=\"1\"/>\n",
       "<polyline clip-path=\"url(#clip595)\" style=\"stroke:#000000; stroke-linecap:round; stroke-linejoin:round; stroke-width:4; stroke-opacity:1; fill:none\" points=\"1977.86,847.244 1977.86,1423.18 1984.1,1423.18 1984.1,847.244 1977.86,847.244 \"/>\n",
       "<path clip-path=\"url(#clip595)\" d=\"M1985.66 847.244 L1985.66 1423.18 L1991.91 1423.18 L1991.91 847.244 L1985.66 847.244 L1985.66 847.244  Z\" fill=\"#009af9\" fill-rule=\"evenodd\" fill-opacity=\"1\"/>\n",
       "<polyline clip-path=\"url(#clip595)\" style=\"stroke:#000000; stroke-linecap:round; stroke-linejoin:round; stroke-width:4; stroke-opacity:1; fill:none\" points=\"1985.66,847.244 1985.66,1423.18 1991.91,1423.18 1991.91,847.244 1985.66,847.244 \"/>\n",
       "<path clip-path=\"url(#clip595)\" d=\"M1993.47 847.244 L1993.47 1423.18 L1999.71 1423.18 L1999.71 847.244 L1993.47 847.244 L1993.47 847.244  Z\" fill=\"#009af9\" fill-rule=\"evenodd\" fill-opacity=\"1\"/>\n",
       "<polyline clip-path=\"url(#clip595)\" style=\"stroke:#000000; stroke-linecap:round; stroke-linejoin:round; stroke-width:4; stroke-opacity:1; fill:none\" points=\"1993.47,847.244 1993.47,1423.18 1999.71,1423.18 1999.71,847.244 1993.47,847.244 \"/>\n",
       "<path clip-path=\"url(#clip595)\" d=\"M2001.27 847.244 L2001.27 1423.18 L2007.52 1423.18 L2007.52 847.244 L2001.27 847.244 L2001.27 847.244  Z\" fill=\"#009af9\" fill-rule=\"evenodd\" fill-opacity=\"1\"/>\n",
       "<polyline clip-path=\"url(#clip595)\" style=\"stroke:#000000; stroke-linecap:round; stroke-linejoin:round; stroke-width:4; stroke-opacity:1; fill:none\" points=\"2001.27,847.244 2001.27,1423.18 2007.52,1423.18 2007.52,847.244 2001.27,847.244 \"/>\n",
       "<path clip-path=\"url(#clip595)\" d=\"M2009.08 847.244 L2009.08 1423.18 L2015.32 1423.18 L2015.32 847.244 L2009.08 847.244 L2009.08 847.244  Z\" fill=\"#009af9\" fill-rule=\"evenodd\" fill-opacity=\"1\"/>\n",
       "<polyline clip-path=\"url(#clip595)\" style=\"stroke:#000000; stroke-linecap:round; stroke-linejoin:round; stroke-width:4; stroke-opacity:1; fill:none\" points=\"2009.08,847.244 2009.08,1423.18 2015.32,1423.18 2015.32,847.244 2009.08,847.244 \"/>\n",
       "<path clip-path=\"url(#clip595)\" d=\"M2016.88 847.244 L2016.88 1423.18 L2023.13 1423.18 L2023.13 847.244 L2016.88 847.244 L2016.88 847.244  Z\" fill=\"#009af9\" fill-rule=\"evenodd\" fill-opacity=\"1\"/>\n",
       "<polyline clip-path=\"url(#clip595)\" style=\"stroke:#000000; stroke-linecap:round; stroke-linejoin:round; stroke-width:4; stroke-opacity:1; fill:none\" points=\"2016.88,847.244 2016.88,1423.18 2023.13,1423.18 2023.13,847.244 2016.88,847.244 \"/>\n",
       "<path clip-path=\"url(#clip595)\" d=\"M2024.69 847.244 L2024.69 1423.18 L2030.93 1423.18 L2030.93 847.244 L2024.69 847.244 L2024.69 847.244  Z\" fill=\"#009af9\" fill-rule=\"evenodd\" fill-opacity=\"1\"/>\n",
       "<polyline clip-path=\"url(#clip595)\" style=\"stroke:#000000; stroke-linecap:round; stroke-linejoin:round; stroke-width:4; stroke-opacity:1; fill:none\" points=\"2024.69,847.244 2024.69,1423.18 2030.93,1423.18 2030.93,847.244 2024.69,847.244 \"/>\n",
       "<path clip-path=\"url(#clip595)\" d=\"M2032.49 847.244 L2032.49 1423.18 L2038.74 1423.18 L2038.74 847.244 L2032.49 847.244 L2032.49 847.244  Z\" fill=\"#009af9\" fill-rule=\"evenodd\" fill-opacity=\"1\"/>\n",
       "<polyline clip-path=\"url(#clip595)\" style=\"stroke:#000000; stroke-linecap:round; stroke-linejoin:round; stroke-width:4; stroke-opacity:1; fill:none\" points=\"2032.49,847.244 2032.49,1423.18 2038.74,1423.18 2038.74,847.244 2032.49,847.244 \"/>\n",
       "<path clip-path=\"url(#clip595)\" d=\"M2040.3 847.244 L2040.3 1423.18 L2046.54 1423.18 L2046.54 847.244 L2040.3 847.244 L2040.3 847.244  Z\" fill=\"#009af9\" fill-rule=\"evenodd\" fill-opacity=\"1\"/>\n",
       "<polyline clip-path=\"url(#clip595)\" style=\"stroke:#000000; stroke-linecap:round; stroke-linejoin:round; stroke-width:4; stroke-opacity:1; fill:none\" points=\"2040.3,847.244 2040.3,1423.18 2046.54,1423.18 2046.54,847.244 2040.3,847.244 \"/>\n",
       "<path clip-path=\"url(#clip595)\" d=\"M2048.11 847.244 L2048.11 1423.18 L2054.35 1423.18 L2054.35 847.244 L2048.11 847.244 L2048.11 847.244  Z\" fill=\"#009af9\" fill-rule=\"evenodd\" fill-opacity=\"1\"/>\n",
       "<polyline clip-path=\"url(#clip595)\" style=\"stroke:#000000; stroke-linecap:round; stroke-linejoin:round; stroke-width:4; stroke-opacity:1; fill:none\" points=\"2048.11,847.244 2048.11,1423.18 2054.35,1423.18 2054.35,847.244 2048.11,847.244 \"/>\n",
       "<path clip-path=\"url(#clip595)\" d=\"M2055.91 847.244 L2055.91 1423.18 L2062.16 1423.18 L2062.16 847.244 L2055.91 847.244 L2055.91 847.244  Z\" fill=\"#009af9\" fill-rule=\"evenodd\" fill-opacity=\"1\"/>\n",
       "<polyline clip-path=\"url(#clip595)\" style=\"stroke:#000000; stroke-linecap:round; stroke-linejoin:round; stroke-width:4; stroke-opacity:1; fill:none\" points=\"2055.91,847.244 2055.91,1423.18 2062.16,1423.18 2062.16,847.244 2055.91,847.244 \"/>\n",
       "<path clip-path=\"url(#clip595)\" d=\"M2063.72 847.244 L2063.72 1423.18 L2069.96 1423.18 L2069.96 847.244 L2063.72 847.244 L2063.72 847.244  Z\" fill=\"#009af9\" fill-rule=\"evenodd\" fill-opacity=\"1\"/>\n",
       "<polyline clip-path=\"url(#clip595)\" style=\"stroke:#000000; stroke-linecap:round; stroke-linejoin:round; stroke-width:4; stroke-opacity:1; fill:none\" points=\"2063.72,847.244 2063.72,1423.18 2069.96,1423.18 2069.96,847.244 2063.72,847.244 \"/>\n",
       "<path clip-path=\"url(#clip595)\" d=\"M2071.52 847.244 L2071.52 1423.18 L2077.77 1423.18 L2077.77 847.244 L2071.52 847.244 L2071.52 847.244  Z\" fill=\"#009af9\" fill-rule=\"evenodd\" fill-opacity=\"1\"/>\n",
       "<polyline clip-path=\"url(#clip595)\" style=\"stroke:#000000; stroke-linecap:round; stroke-linejoin:round; stroke-width:4; stroke-opacity:1; fill:none\" points=\"2071.52,847.244 2071.52,1423.18 2077.77,1423.18 2077.77,847.244 2071.52,847.244 \"/>\n",
       "<path clip-path=\"url(#clip595)\" d=\"M2079.33 847.244 L2079.33 1423.18 L2085.57 1423.18 L2085.57 847.244 L2079.33 847.244 L2079.33 847.244  Z\" fill=\"#009af9\" fill-rule=\"evenodd\" fill-opacity=\"1\"/>\n",
       "<polyline clip-path=\"url(#clip595)\" style=\"stroke:#000000; stroke-linecap:round; stroke-linejoin:round; stroke-width:4; stroke-opacity:1; fill:none\" points=\"2079.33,847.244 2079.33,1423.18 2085.57,1423.18 2085.57,847.244 2079.33,847.244 \"/>\n",
       "<path clip-path=\"url(#clip595)\" d=\"M2087.13 847.244 L2087.13 1423.18 L2093.38 1423.18 L2093.38 847.244 L2087.13 847.244 L2087.13 847.244  Z\" fill=\"#009af9\" fill-rule=\"evenodd\" fill-opacity=\"1\"/>\n",
       "<polyline clip-path=\"url(#clip595)\" style=\"stroke:#000000; stroke-linecap:round; stroke-linejoin:round; stroke-width:4; stroke-opacity:1; fill:none\" points=\"2087.13,847.244 2087.13,1423.18 2093.38,1423.18 2093.38,847.244 2087.13,847.244 \"/>\n",
       "<path clip-path=\"url(#clip595)\" d=\"M2094.94 847.244 L2094.94 1423.18 L2101.18 1423.18 L2101.18 847.244 L2094.94 847.244 L2094.94 847.244  Z\" fill=\"#009af9\" fill-rule=\"evenodd\" fill-opacity=\"1\"/>\n",
       "<polyline clip-path=\"url(#clip595)\" style=\"stroke:#000000; stroke-linecap:round; stroke-linejoin:round; stroke-width:4; stroke-opacity:1; fill:none\" points=\"2094.94,847.244 2094.94,1423.18 2101.18,1423.18 2101.18,847.244 2094.94,847.244 \"/>\n",
       "<path clip-path=\"url(#clip595)\" d=\"M2102.75 847.244 L2102.75 1423.18 L2108.99 1423.18 L2108.99 847.244 L2102.75 847.244 L2102.75 847.244  Z\" fill=\"#009af9\" fill-rule=\"evenodd\" fill-opacity=\"1\"/>\n",
       "<polyline clip-path=\"url(#clip595)\" style=\"stroke:#000000; stroke-linecap:round; stroke-linejoin:round; stroke-width:4; stroke-opacity:1; fill:none\" points=\"2102.75,847.244 2102.75,1423.18 2108.99,1423.18 2108.99,847.244 2102.75,847.244 \"/>\n",
       "<path clip-path=\"url(#clip595)\" d=\"M2110.55 847.244 L2110.55 1423.18 L2116.8 1423.18 L2116.8 847.244 L2110.55 847.244 L2110.55 847.244  Z\" fill=\"#009af9\" fill-rule=\"evenodd\" fill-opacity=\"1\"/>\n",
       "<polyline clip-path=\"url(#clip595)\" style=\"stroke:#000000; stroke-linecap:round; stroke-linejoin:round; stroke-width:4; stroke-opacity:1; fill:none\" points=\"2110.55,847.244 2110.55,1423.18 2116.8,1423.18 2116.8,847.244 2110.55,847.244 \"/>\n",
       "<path clip-path=\"url(#clip595)\" d=\"M2118.36 847.244 L2118.36 1423.18 L2124.6 1423.18 L2124.6 847.244 L2118.36 847.244 L2118.36 847.244  Z\" fill=\"#009af9\" fill-rule=\"evenodd\" fill-opacity=\"1\"/>\n",
       "<polyline clip-path=\"url(#clip595)\" style=\"stroke:#000000; stroke-linecap:round; stroke-linejoin:round; stroke-width:4; stroke-opacity:1; fill:none\" points=\"2118.36,847.244 2118.36,1423.18 2124.6,1423.18 2124.6,847.244 2118.36,847.244 \"/>\n",
       "<path clip-path=\"url(#clip595)\" d=\"M2126.16 847.244 L2126.16 1423.18 L2132.41 1423.18 L2132.41 847.244 L2126.16 847.244 L2126.16 847.244  Z\" fill=\"#009af9\" fill-rule=\"evenodd\" fill-opacity=\"1\"/>\n",
       "<polyline clip-path=\"url(#clip595)\" style=\"stroke:#000000; stroke-linecap:round; stroke-linejoin:round; stroke-width:4; stroke-opacity:1; fill:none\" points=\"2126.16,847.244 2126.16,1423.18 2132.41,1423.18 2132.41,847.244 2126.16,847.244 \"/>\n",
       "<path clip-path=\"url(#clip595)\" d=\"M2133.97 847.244 L2133.97 1423.18 L2140.21 1423.18 L2140.21 847.244 L2133.97 847.244 L2133.97 847.244  Z\" fill=\"#009af9\" fill-rule=\"evenodd\" fill-opacity=\"1\"/>\n",
       "<polyline clip-path=\"url(#clip595)\" style=\"stroke:#000000; stroke-linecap:round; stroke-linejoin:round; stroke-width:4; stroke-opacity:1; fill:none\" points=\"2133.97,847.244 2133.97,1423.18 2140.21,1423.18 2140.21,847.244 2133.97,847.244 \"/>\n",
       "<path clip-path=\"url(#clip595)\" d=\"M2141.77 847.244 L2141.77 1423.18 L2148.02 1423.18 L2148.02 847.244 L2141.77 847.244 L2141.77 847.244  Z\" fill=\"#009af9\" fill-rule=\"evenodd\" fill-opacity=\"1\"/>\n",
       "<polyline clip-path=\"url(#clip595)\" style=\"stroke:#000000; stroke-linecap:round; stroke-linejoin:round; stroke-width:4; stroke-opacity:1; fill:none\" points=\"2141.77,847.244 2141.77,1423.18 2148.02,1423.18 2148.02,847.244 2141.77,847.244 \"/>\n",
       "<path clip-path=\"url(#clip595)\" d=\"M2149.58 847.244 L2149.58 1423.18 L2155.82 1423.18 L2155.82 847.244 L2149.58 847.244 L2149.58 847.244  Z\" fill=\"#009af9\" fill-rule=\"evenodd\" fill-opacity=\"1\"/>\n",
       "<polyline clip-path=\"url(#clip595)\" style=\"stroke:#000000; stroke-linecap:round; stroke-linejoin:round; stroke-width:4; stroke-opacity:1; fill:none\" points=\"2149.58,847.244 2149.58,1423.18 2155.82,1423.18 2155.82,847.244 2149.58,847.244 \"/>\n",
       "<path clip-path=\"url(#clip595)\" d=\"M2157.38 847.244 L2157.38 1423.18 L2163.63 1423.18 L2163.63 847.244 L2157.38 847.244 L2157.38 847.244  Z\" fill=\"#009af9\" fill-rule=\"evenodd\" fill-opacity=\"1\"/>\n",
       "<polyline clip-path=\"url(#clip595)\" style=\"stroke:#000000; stroke-linecap:round; stroke-linejoin:round; stroke-width:4; stroke-opacity:1; fill:none\" points=\"2157.38,847.244 2157.38,1423.18 2163.63,1423.18 2163.63,847.244 2157.38,847.244 \"/>\n",
       "<path clip-path=\"url(#clip595)\" d=\"M2165.19 847.244 L2165.19 1423.18 L2171.44 1423.18 L2171.44 847.244 L2165.19 847.244 L2165.19 847.244  Z\" fill=\"#009af9\" fill-rule=\"evenodd\" fill-opacity=\"1\"/>\n",
       "<polyline clip-path=\"url(#clip595)\" style=\"stroke:#000000; stroke-linecap:round; stroke-linejoin:round; stroke-width:4; stroke-opacity:1; fill:none\" points=\"2165.19,847.244 2165.19,1423.18 2171.44,1423.18 2171.44,847.244 2165.19,847.244 \"/>\n",
       "<path clip-path=\"url(#clip595)\" d=\"M2173 847.244 L2173 1423.18 L2179.24 1423.18 L2179.24 847.244 L2173 847.244 L2173 847.244  Z\" fill=\"#009af9\" fill-rule=\"evenodd\" fill-opacity=\"1\"/>\n",
       "<polyline clip-path=\"url(#clip595)\" style=\"stroke:#000000; stroke-linecap:round; stroke-linejoin:round; stroke-width:4; stroke-opacity:1; fill:none\" points=\"2173,847.244 2173,1423.18 2179.24,1423.18 2179.24,847.244 2173,847.244 \"/>\n",
       "<path clip-path=\"url(#clip595)\" d=\"M2180.8 847.244 L2180.8 1423.18 L2187.05 1423.18 L2187.05 847.244 L2180.8 847.244 L2180.8 847.244  Z\" fill=\"#009af9\" fill-rule=\"evenodd\" fill-opacity=\"1\"/>\n",
       "<polyline clip-path=\"url(#clip595)\" style=\"stroke:#000000; stroke-linecap:round; stroke-linejoin:round; stroke-width:4; stroke-opacity:1; fill:none\" points=\"2180.8,847.244 2180.8,1423.18 2187.05,1423.18 2187.05,847.244 2180.8,847.244 \"/>\n",
       "<path clip-path=\"url(#clip595)\" d=\"M2188.61 847.244 L2188.61 1423.18 L2194.85 1423.18 L2194.85 847.244 L2188.61 847.244 L2188.61 847.244  Z\" fill=\"#009af9\" fill-rule=\"evenodd\" fill-opacity=\"1\"/>\n",
       "<polyline clip-path=\"url(#clip595)\" style=\"stroke:#000000; stroke-linecap:round; stroke-linejoin:round; stroke-width:4; stroke-opacity:1; fill:none\" points=\"2188.61,847.244 2188.61,1423.18 2194.85,1423.18 2194.85,847.244 2188.61,847.244 \"/>\n",
       "<path clip-path=\"url(#clip595)\" d=\"M2196.41 847.244 L2196.41 1423.18 L2202.66 1423.18 L2202.66 847.244 L2196.41 847.244 L2196.41 847.244  Z\" fill=\"#009af9\" fill-rule=\"evenodd\" fill-opacity=\"1\"/>\n",
       "<polyline clip-path=\"url(#clip595)\" style=\"stroke:#000000; stroke-linecap:round; stroke-linejoin:round; stroke-width:4; stroke-opacity:1; fill:none\" points=\"2196.41,847.244 2196.41,1423.18 2202.66,1423.18 2202.66,847.244 2196.41,847.244 \"/>\n",
       "<path clip-path=\"url(#clip595)\" d=\"M2204.22 847.244 L2204.22 1423.18 L2210.46 1423.18 L2210.46 847.244 L2204.22 847.244 L2204.22 847.244  Z\" fill=\"#009af9\" fill-rule=\"evenodd\" fill-opacity=\"1\"/>\n",
       "<polyline clip-path=\"url(#clip595)\" style=\"stroke:#000000; stroke-linecap:round; stroke-linejoin:round; stroke-width:4; stroke-opacity:1; fill:none\" points=\"2204.22,847.244 2204.22,1423.18 2210.46,1423.18 2210.46,847.244 2204.22,847.244 \"/>\n",
       "<path clip-path=\"url(#clip595)\" d=\"M2212.02 847.244 L2212.02 1423.18 L2218.27 1423.18 L2218.27 847.244 L2212.02 847.244 L2212.02 847.244  Z\" fill=\"#009af9\" fill-rule=\"evenodd\" fill-opacity=\"1\"/>\n",
       "<polyline clip-path=\"url(#clip595)\" style=\"stroke:#000000; stroke-linecap:round; stroke-linejoin:round; stroke-width:4; stroke-opacity:1; fill:none\" points=\"2212.02,847.244 2212.02,1423.18 2218.27,1423.18 2218.27,847.244 2212.02,847.244 \"/>\n",
       "<path clip-path=\"url(#clip595)\" d=\"M2219.83 847.244 L2219.83 1423.18 L2226.07 1423.18 L2226.07 847.244 L2219.83 847.244 L2219.83 847.244  Z\" fill=\"#009af9\" fill-rule=\"evenodd\" fill-opacity=\"1\"/>\n",
       "<polyline clip-path=\"url(#clip595)\" style=\"stroke:#000000; stroke-linecap:round; stroke-linejoin:round; stroke-width:4; stroke-opacity:1; fill:none\" points=\"2219.83,847.244 2219.83,1423.18 2226.07,1423.18 2226.07,847.244 2219.83,847.244 \"/>\n",
       "<path clip-path=\"url(#clip595)\" d=\"M2227.64 847.244 L2227.64 1423.18 L2233.88 1423.18 L2233.88 847.244 L2227.64 847.244 L2227.64 847.244  Z\" fill=\"#009af9\" fill-rule=\"evenodd\" fill-opacity=\"1\"/>\n",
       "<polyline clip-path=\"url(#clip595)\" style=\"stroke:#000000; stroke-linecap:round; stroke-linejoin:round; stroke-width:4; stroke-opacity:1; fill:none\" points=\"2227.64,847.244 2227.64,1423.18 2233.88,1423.18 2233.88,847.244 2227.64,847.244 \"/>\n",
       "<path clip-path=\"url(#clip595)\" d=\"M2235.44 847.244 L2235.44 1423.18 L2241.69 1423.18 L2241.69 847.244 L2235.44 847.244 L2235.44 847.244  Z\" fill=\"#009af9\" fill-rule=\"evenodd\" fill-opacity=\"1\"/>\n",
       "<polyline clip-path=\"url(#clip595)\" style=\"stroke:#000000; stroke-linecap:round; stroke-linejoin:round; stroke-width:4; stroke-opacity:1; fill:none\" points=\"2235.44,847.244 2235.44,1423.18 2241.69,1423.18 2241.69,847.244 2235.44,847.244 \"/>\n",
       "<path clip-path=\"url(#clip595)\" d=\"M2243.25 847.244 L2243.25 1423.18 L2249.49 1423.18 L2249.49 847.244 L2243.25 847.244 L2243.25 847.244  Z\" fill=\"#009af9\" fill-rule=\"evenodd\" fill-opacity=\"1\"/>\n",
       "<polyline clip-path=\"url(#clip595)\" style=\"stroke:#000000; stroke-linecap:round; stroke-linejoin:round; stroke-width:4; stroke-opacity:1; fill:none\" points=\"2243.25,847.244 2243.25,1423.18 2249.49,1423.18 2249.49,847.244 2243.25,847.244 \"/>\n",
       "<path clip-path=\"url(#clip595)\" d=\"M2251.05 847.244 L2251.05 1423.18 L2257.3 1423.18 L2257.3 847.244 L2251.05 847.244 L2251.05 847.244  Z\" fill=\"#009af9\" fill-rule=\"evenodd\" fill-opacity=\"1\"/>\n",
       "<polyline clip-path=\"url(#clip595)\" style=\"stroke:#000000; stroke-linecap:round; stroke-linejoin:round; stroke-width:4; stroke-opacity:1; fill:none\" points=\"2251.05,847.244 2251.05,1423.18 2257.3,1423.18 2257.3,847.244 2251.05,847.244 \"/>\n",
       "<path clip-path=\"url(#clip595)\" d=\"M2258.86 847.244 L2258.86 1423.18 L2265.1 1423.18 L2265.1 847.244 L2258.86 847.244 L2258.86 847.244  Z\" fill=\"#009af9\" fill-rule=\"evenodd\" fill-opacity=\"1\"/>\n",
       "<polyline clip-path=\"url(#clip595)\" style=\"stroke:#000000; stroke-linecap:round; stroke-linejoin:round; stroke-width:4; stroke-opacity:1; fill:none\" points=\"2258.86,847.244 2258.86,1423.18 2265.1,1423.18 2265.1,847.244 2258.86,847.244 \"/>\n",
       "<path clip-path=\"url(#clip595)\" d=\"M2266.66 847.244 L2266.66 1423.18 L2272.91 1423.18 L2272.91 847.244 L2266.66 847.244 L2266.66 847.244  Z\" fill=\"#009af9\" fill-rule=\"evenodd\" fill-opacity=\"1\"/>\n",
       "<polyline clip-path=\"url(#clip595)\" style=\"stroke:#000000; stroke-linecap:round; stroke-linejoin:round; stroke-width:4; stroke-opacity:1; fill:none\" points=\"2266.66,847.244 2266.66,1423.18 2272.91,1423.18 2272.91,847.244 2266.66,847.244 \"/>\n",
       "<path clip-path=\"url(#clip595)\" d=\"M2274.47 847.244 L2274.47 1423.18 L2280.71 1423.18 L2280.71 847.244 L2274.47 847.244 L2274.47 847.244  Z\" fill=\"#009af9\" fill-rule=\"evenodd\" fill-opacity=\"1\"/>\n",
       "<polyline clip-path=\"url(#clip595)\" style=\"stroke:#000000; stroke-linecap:round; stroke-linejoin:round; stroke-width:4; stroke-opacity:1; fill:none\" points=\"2274.47,847.244 2274.47,1423.18 2280.71,1423.18 2280.71,847.244 2274.47,847.244 \"/>\n",
       "<path clip-path=\"url(#clip595)\" d=\"M2282.28 847.244 L2282.28 1423.18 L2288.52 1423.18 L2288.52 847.244 L2282.28 847.244 L2282.28 847.244  Z\" fill=\"#009af9\" fill-rule=\"evenodd\" fill-opacity=\"1\"/>\n",
       "<polyline clip-path=\"url(#clip595)\" style=\"stroke:#000000; stroke-linecap:round; stroke-linejoin:round; stroke-width:4; stroke-opacity:1; fill:none\" points=\"2282.28,847.244 2282.28,1423.18 2288.52,1423.18 2288.52,847.244 2282.28,847.244 \"/>\n",
       "<path clip-path=\"url(#clip595)\" d=\"M2290.08 847.244 L2290.08 1423.18 L2296.33 1423.18 L2296.33 847.244 L2290.08 847.244 L2290.08 847.244  Z\" fill=\"#009af9\" fill-rule=\"evenodd\" fill-opacity=\"1\"/>\n",
       "<polyline clip-path=\"url(#clip595)\" style=\"stroke:#000000; stroke-linecap:round; stroke-linejoin:round; stroke-width:4; stroke-opacity:1; fill:none\" points=\"2290.08,847.244 2290.08,1423.18 2296.33,1423.18 2296.33,847.244 2290.08,847.244 \"/>\n",
       "<path clip-path=\"url(#clip595)\" d=\"M2297.89 847.244 L2297.89 1423.18 L2304.13 1423.18 L2304.13 847.244 L2297.89 847.244 L2297.89 847.244  Z\" fill=\"#009af9\" fill-rule=\"evenodd\" fill-opacity=\"1\"/>\n",
       "<polyline clip-path=\"url(#clip595)\" style=\"stroke:#000000; stroke-linecap:round; stroke-linejoin:round; stroke-width:4; stroke-opacity:1; fill:none\" points=\"2297.89,847.244 2297.89,1423.18 2304.13,1423.18 2304.13,847.244 2297.89,847.244 \"/>\n",
       "<path clip-path=\"url(#clip590)\" d=\"M2182.45 1403.98 L2323.29 1403.98 L2323.29 1300.3 L2182.45 1300.3  Z\" fill=\"#ffffff\" fill-rule=\"evenodd\" fill-opacity=\"1\"/>\n",
       "<polyline clip-path=\"url(#clip590)\" style=\"stroke:#000000; stroke-linecap:round; stroke-linejoin:round; stroke-width:4; stroke-opacity:1; fill:none\" points=\"2182.45,1403.98 2323.29,1403.98 2323.29,1300.3 2182.45,1300.3 2182.45,1403.98 \"/>\n",
       "<path clip-path=\"url(#clip590)\" d=\"M2192.27 1372.88 L2251.21 1372.88 L2251.21 1331.41 L2192.27 1331.41 L2192.27 1372.88  Z\" fill=\"#009af9\" fill-rule=\"evenodd\" fill-opacity=\"1\"/>\n",
       "<polyline clip-path=\"url(#clip590)\" style=\"stroke:#000000; stroke-linecap:round; stroke-linejoin:round; stroke-width:4; stroke-opacity:1; fill:none\" points=\"2192.27,1372.88 2251.21,1372.88 2251.21,1331.41 2192.27,1331.41 2192.27,1372.88 \"/>\n",
       "<path clip-path=\"url(#clip590)\" d=\"M2274.88 1371.83 Q2273.07 1376.46 2271.36 1377.87 Q2269.65 1379.28 2266.77 1379.28 L2263.37 1379.28 L2263.37 1375.72 L2265.87 1375.72 Q2267.63 1375.72 2268.6 1374.88 Q2269.58 1374.05 2270.76 1370.95 L2271.52 1369.01 L2261.03 1343.5 L2265.55 1343.5 L2273.65 1363.77 L2281.75 1343.5 L2286.27 1343.5 L2274.88 1371.83 Z\" fill=\"#000000\" fill-rule=\"nonzero\" fill-opacity=\"1\" /><path clip-path=\"url(#clip590)\" d=\"M2293.56 1365.49 L2301.2 1365.49 L2301.2 1339.12 L2292.89 1340.79 L2292.89 1336.53 L2301.15 1334.86 L2305.83 1334.86 L2305.83 1365.49 L2313.46 1365.49 L2313.46 1369.42 L2293.56 1369.42 L2293.56 1365.49 Z\" fill=\"#000000\" fill-rule=\"nonzero\" fill-opacity=\"1\" /></svg>\n"
      ]
     },
     "execution_count": 9,
     "metadata": {},
     "output_type": "execute_result"
    }
   ],
   "source": [
    "# integration over entire domain of magnetization for testing purposes\n",
    "N = 100; h = 1/N;  \n",
    "xmesh = Vector(0:h:1)\n",
    "# in setting xeval as below, all the examples work due to the absence of the singularities \n",
    "xeval = Vector(2:h:3)\n",
    "# in setting xeval as below may introduce singularities   \n",
    "#xeval = Vector(0:h:1)\n",
    "\n",
    "# in kernel1, no singularities are introduced. Adaptive integration converges. \n",
    "function kernel1(x,xp) \n",
    "    return 1/sqrt(x + xp);  \n",
    "end \n",
    "\n",
    "# in kernel2, singularities are introduced. Adaptive integration fails in case applied \n",
    "# over the entire domain   \n",
    "function kernel2(x,xp)\n",
    "    return 1/(x + xp)  \n",
    "end \n",
    "\n",
    "# Alternative-1: using broadcast\n",
    "vpfct(x)    = quadgk(xp -> kernel1(x,xp),0,1)[1]\n",
    "bfluxfct(x) = ForwardDiff.derivative(x -> vpfct(x),x)\n",
    "vpsamp1     = vpfct.(xeval)\n",
    "bfluxsamp1  = bfluxfct.(xeval) \n",
    "\n",
    "# Alternative-2: using comprehension \n",
    "# As before, for x fixed, performs integration 0 < xp < 1\n",
    "vpsamp2 = [quadgk(xp -> kernel1(xeval[i],xp),0,1)[1] for i=1:length(xeval)]\n",
    "\n",
    "# Alternative-3: using broadcast + count  \n",
    "vpfct_count(x)  = quadgk_count(xp -> kernel1(x,xp),0,1)\n",
    "vpsamp3 = vpfct_count.(xeval)\n",
    "\n",
    "# Alternative-4: using comprehension + count \n",
    "vpsamp4 = [quadgk_count(xp -> kernel1(xeval[i],xp),0,1) for i=1:length(xeval)]\n",
    "\n",
    "p1 = plot(xeval,vpsamp1); xlabel!(\"x\"); ylabel!(\"A_z(x)\")  \n",
    "p2 = plot(xeval,bfluxsamp1); xlabel!(\"x\"); ylabel!(\"B_y(x)\")\n",
    "p3 = bar([vpsamp3[i][3] for i=1:length(xeval)]); xlabel!(\"element ind\"); ylabel!(\"n fct eval\")\n",
    "p4 = bar([vpsamp4[i][3] for i=1:length(xeval)]); xlabel!(\"element ind\"); ylabel!(\"n fct eval\")\n",
    "plot(p1,p2,p3,p4,layout=(2,2))"
   ]
  },
  {
   "cell_type": "markdown",
   "id": "ba46cc0c",
   "metadata": {},
   "source": [
    "#### Integration of kernel times magnetization element-wise over a mesh \n",
    "Here we perform integration by a loop over elements. The function quadgk() now allows to treat singular kernels. \n",
    "\n",
    "We assume the x-component of the magnetization vector to be constant over each of the N elements of the finite elements. The number of unknowns introduced is thus equal to N. To define N equations in the case of collocation, we choose the start point of the elements as collocation points (choosing midpoint fails as integrand is singular). In the case of Galerkin, we integrate over N elements.  "
   ]
  },
  {
   "cell_type": "code",
   "execution_count": null,
   "id": "31d70c00",
   "metadata": {},
   "outputs": [],
   "source": []
  },
  {
   "cell_type": "code",
   "execution_count": 128,
   "id": "d9994b27",
   "metadata": {},
   "outputs": [
    {
     "ename": "LoadError",
     "evalue": "BoundsError",
     "output_type": "error",
     "traceback": [
      "BoundsError",
      "",
      "Stacktrace:",
      "  [1] getindex(x::Float64, i::Int64)",
      "    @ Base ./number.jl:98",
      "  [2] vp_counter(x::Float64, m::Vector{Float64}, xmesh::Vector{Float64})",
      "    @ Main ./In[128]:60",
      "  [3] _broadcast_getindex_evalf",
      "    @ ./broadcast.jl:670 [inlined]",
      "  [4] _broadcast_getindex",
      "    @ ./broadcast.jl:643 [inlined]",
      "  [5] getindex",
      "    @ ./broadcast.jl:597 [inlined]",
      "  [6] macro expansion",
      "    @ ./broadcast.jl:961 [inlined]",
      "  [7] macro expansion",
      "    @ ./simdloop.jl:77 [inlined]",
      "  [8] copyto!",
      "    @ ./broadcast.jl:960 [inlined]",
      "  [9] copyto!",
      "    @ ./broadcast.jl:913 [inlined]",
      " [10] copy",
      "    @ ./broadcast.jl:885 [inlined]",
      " [11] materialize(bc::Base.Broadcast.Broadcasted{Base.Broadcast.DefaultArrayStyle{1}, Nothing, typeof(vp_counter), Tuple{Vector{Float64}, Base.RefValue{Vector{Float64}}, Base.RefValue{Vector{Float64}}}})",
      "    @ Base.Broadcast ./broadcast.jl:860",
      " [12] top-level scope",
      "    @ In[128]:88"
     ]
    }
   ],
   "source": [
    "# define the mesh with N elements e_k = [x_k, x_{k+1}] for 1 <= k <= N \n",
    "# the mesh contains N+1 nodes of which N-1 internal and 2 (left and right) boundary nodes  \n",
    "N = 100; h = 1/N;\n",
    "xmesh = Vector(0:h:1)\n",
    "xeval = Vector(2:h:3)\n",
    "xeval = Vector(0:h:1) \n",
    "xmid = Vector(h/2:h:1-h/2)\n",
    "\n",
    "# define the magnetization coefficients  \n",
    "m0 = ones(N)  \n",
    "\n",
    "# in kernel1, no singularities are introduced\n",
    "# adaptive integration converges in small number of function evaluations  \n",
    "function kernel1(x,xp) \n",
    "    return 1/(x + xp)\n",
    "end \n",
    "\n",
    "# in kernel2, a mild singularities are introduced\n",
    "# adaptive integration requires a large number of function evaluiations in two sing. points \n",
    "function kernel2(x,xp)\n",
    "    return 1/sqrt(abs(x + xp))  \n",
    "end \n",
    "\n",
    "# in kernel3, a mild singularities are introduced \n",
    "# the singularity is removed by adding a small number \n",
    "# adaptive integration requires a number of function evaluations inversely proportional to \n",
    "# the small number \n",
    "function kernel3(x,xp) \n",
    "    return 1/sqrt(abs(x - xp)+1e-12)\n",
    "end \n",
    "\n",
    "# in setting the kernel as below, strong singularities are introduced. \n",
    "# adaptive integration fails to converge. \n",
    "# This will be fixed in higher dimensions \n",
    "function kernel4(x,xp)\n",
    "    return 1/(x - xp)^3 \n",
    "end\n",
    "\n",
    "# compute integral by quadrature over second input (xp) over all elements e_k \n",
    "# on e_k the integral is x-dependent and stored in a array of functions \n",
    "function vp(x,m,xmesh)\n",
    "   N = length(m) \n",
    "   vparray = Array{Function}(undef, N)\n",
    "   for k=1:N \n",
    "      vparray[k] = (x,m,xmesh) -> quadgk(xp -> m[k]*kernel3(x,xp), xmesh[k], xmesh[k+1])[1]\n",
    "   end\n",
    "   return sum([vparray[k](x,m,xmesh) for k=1:N])\n",
    "end \n",
    "\n",
    "# goal: demonstrate that self-term require bulk of integrand evaluations \n",
    "function vp_counter(x,m,xmesh)\n",
    "   N = length(m) \n",
    "   vparray_count = Array{Function}(undef, N)\n",
    "   result = zeros(N,N)\n",
    "   for k=1:N \n",
    "      vparray_count[k] = (x,m,xmesh) -> quadgk_count(xp -> m[k]*kernel3(x,xp), xmesh[k], xmesh[k+1])[1]\n",
    "   end\n",
    "   for k=1:N \n",
    "        for l=1:N  \n",
    "           result[k,l] = vparray_count[k](xeval[l],m,xmesh)[3]\n",
    "        end\n",
    "    end \n",
    "   return result \n",
    "end \n",
    "\n",
    "# sum over source location or xp contributions over N elements in the mesh  \n",
    "function bflux(x,m,xmesh) \n",
    "    return ForwardDiff.derivative(x -> vp(x,m,xmesh),x)\n",
    "end \n",
    "\n",
    "# collocate the field on the grid in x - do point matching \n",
    "# observe depency in m remains \n",
    "function bfluxpointsampled(x,m,xmesh) \n",
    "    return bflux.(x,Ref(m),Ref(xmesh))\n",
    "end \n",
    "\n",
    "# average over destination or x contributions \n",
    "function bfluxaverage(m,xmesh)\n",
    "    N = length(m) \n",
    "    bfluxvec = zeros(eltype(m), N)\n",
    "    for k=1:N\n",
    "        bfluxvec[k] = quadgk(x -> bflux(x,m,xmesh), xmesh[k], xmesh[k+1];atol=1e-2, rtol=1e-2)[1] \n",
    "    end \n",
    "    return bfluxvec  \n",
    "end\n",
    "\n",
    "vpsamp = vp.(xeval,Ref(m0),Ref(xmesh)) \n",
    "vpcountsamp = vp_counter.(xeval,Ref(m0),Ref(xmesh)) \n",
    "bfluxpm = bfluxpointsampled(xmesh,m0,xmesh)\n",
    "bfluxav = bfluxaverage(m0)\n",
    "\n",
    "#vp_count = zeros(N,N)\n",
    "#[vp_count[k,l] = vparray_count[k](xeval[l],m,xmesh)[3] for k=1:N for l=1:N]\n",
    "        \n",
    "# compute the Jacobian\n",
    "# to do: preallocate memory of the Jacobian \n",
    "Cp = ForwardDiff.jacobian(m -> bfluxpointsampled(xeval,m,xmesh), m0)\n",
    "Ca = ForwardDiff.jacobian(m -> bfluxaverage(m,xmesh), m0)\n",
    "\n",
    "p1 = plot(xeval, vpsamp)\n",
    "p2 = contour(vpcountsamp[2:end-1,2:end-1])\n",
    "p3 = plot(xmesh[2:end-1], bfluxpm[2:end-1])\n",
    "p4 = plot(xmid, bfluxav)\n",
    "plot(p1,p2,p3,p4,layout=(2,2))"
   ]
  },
  {
   "cell_type": "code",
   "execution_count": 126,
   "id": "7525b086",
   "metadata": {},
   "outputs": [
    {
     "data": {
      "text/plain": [
       "101-element Vector{Matrix{Float64}}:\n",
       " [0.1999980000114347 0.19999800001130785 … 0.010127426963106931 0.010075886890901727; 0.08284271247169007 0.19999800001130785 … 0.010179766132673192 0.010127426963106931; … ; 0.010075886890901735 0.01012742696310694 … 0.19999800001434667 0.19999800001434667; 0.01002512578675506 0.010075886890901735 … 0.08284271247169013 0.19999800001434667]\n",
       " [0.1999980000114347 0.19999800001130785 … 0.010127426963106931 0.010075886890901727; 0.08284271247169007 0.19999800001130785 … 0.010179766132673192 0.010127426963106931; … ; 0.010075886890901735 0.01012742696310694 … 0.19999800001434667 0.19999800001434667; 0.01002512578675506 0.010075886890901735 … 0.08284271247169013 0.19999800001434667]\n",
       " [0.1999980000114347 0.19999800001130785 … 0.010127426963106931 0.010075886890901727; 0.08284271247169007 0.19999800001130785 … 0.010179766132673192 0.010127426963106931; … ; 0.010075886890901735 0.01012742696310694 … 0.19999800001434667 0.19999800001434667; 0.01002512578675506 0.010075886890901735 … 0.08284271247169013 0.19999800001434667]\n",
       " [0.1999980000114347 0.19999800001130785 … 0.010127426963106931 0.010075886890901727; 0.08284271247169007 0.19999800001130785 … 0.010179766132673192 0.010127426963106931; … ; 0.010075886890901735 0.01012742696310694 … 0.19999800001434667 0.19999800001434667; 0.01002512578675506 0.010075886890901735 … 0.08284271247169013 0.19999800001434667]\n",
       " [0.1999980000114347 0.19999800001130785 … 0.010127426963106931 0.010075886890901727; 0.08284271247169007 0.19999800001130785 … 0.010179766132673192 0.010127426963106931; … ; 0.010075886890901735 0.01012742696310694 … 0.19999800001434667 0.19999800001434667; 0.01002512578675506 0.010075886890901735 … 0.08284271247169013 0.19999800001434667]\n",
       " [0.1999980000114347 0.19999800001130785 … 0.010127426963106931 0.010075886890901727; 0.08284271247169007 0.19999800001130785 … 0.010179766132673192 0.010127426963106931; … ; 0.010075886890901735 0.01012742696310694 … 0.19999800001434667 0.19999800001434667; 0.01002512578675506 0.010075886890901735 … 0.08284271247169013 0.19999800001434667]\n",
       " [0.1999980000114347 0.19999800001130785 … 0.010127426963106931 0.010075886890901727; 0.08284271247169007 0.19999800001130785 … 0.010179766132673192 0.010127426963106931; … ; 0.010075886890901735 0.01012742696310694 … 0.19999800001434667 0.19999800001434667; 0.01002512578675506 0.010075886890901735 … 0.08284271247169013 0.19999800001434667]\n",
       " [0.1999980000114347 0.19999800001130785 … 0.010127426963106931 0.010075886890901727; 0.08284271247169007 0.19999800001130785 … 0.010179766132673192 0.010127426963106931; … ; 0.010075886890901735 0.01012742696310694 … 0.19999800001434667 0.19999800001434667; 0.01002512578675506 0.010075886890901735 … 0.08284271247169013 0.19999800001434667]\n",
       " [0.1999980000114347 0.19999800001130785 … 0.010127426963106931 0.010075886890901727; 0.08284271247169007 0.19999800001130785 … 0.010179766132673192 0.010127426963106931; … ; 0.010075886890901735 0.01012742696310694 … 0.19999800001434667 0.19999800001434667; 0.01002512578675506 0.010075886890901735 … 0.08284271247169013 0.19999800001434667]\n",
       " [0.1999980000114347 0.19999800001130785 … 0.010127426963106931 0.010075886890901727; 0.08284271247169007 0.19999800001130785 … 0.010179766132673192 0.010127426963106931; … ; 0.010075886890901735 0.01012742696310694 … 0.19999800001434667 0.19999800001434667; 0.01002512578675506 0.010075886890901735 … 0.08284271247169013 0.19999800001434667]\n",
       " [0.1999980000114347 0.19999800001130785 … 0.010127426963106931 0.010075886890901727; 0.08284271247169007 0.19999800001130785 … 0.010179766132673192 0.010127426963106931; … ; 0.010075886890901735 0.01012742696310694 … 0.19999800001434667 0.19999800001434667; 0.01002512578675506 0.010075886890901735 … 0.08284271247169013 0.19999800001434667]\n",
       " [0.1999980000114347 0.19999800001130785 … 0.010127426963106931 0.010075886890901727; 0.08284271247169007 0.19999800001130785 … 0.010179766132673192 0.010127426963106931; … ; 0.010075886890901735 0.01012742696310694 … 0.19999800001434667 0.19999800001434667; 0.01002512578675506 0.010075886890901735 … 0.08284271247169013 0.19999800001434667]\n",
       " [0.1999980000114347 0.19999800001130785 … 0.010127426963106931 0.010075886890901727; 0.08284271247169007 0.19999800001130785 … 0.010179766132673192 0.010127426963106931; … ; 0.010075886890901735 0.01012742696310694 … 0.19999800001434667 0.19999800001434667; 0.01002512578675506 0.010075886890901735 … 0.08284271247169013 0.19999800001434667]\n",
       " ⋮\n",
       " [0.1999980000114347 0.19999800001130785 … 0.010127426963106931 0.010075886890901727; 0.08284271247169007 0.19999800001130785 … 0.010179766132673192 0.010127426963106931; … ; 0.010075886890901735 0.01012742696310694 … 0.19999800001434667 0.19999800001434667; 0.01002512578675506 0.010075886890901735 … 0.08284271247169013 0.19999800001434667]\n",
       " [0.1999980000114347 0.19999800001130785 … 0.010127426963106931 0.010075886890901727; 0.08284271247169007 0.19999800001130785 … 0.010179766132673192 0.010127426963106931; … ; 0.010075886890901735 0.01012742696310694 … 0.19999800001434667 0.19999800001434667; 0.01002512578675506 0.010075886890901735 … 0.08284271247169013 0.19999800001434667]\n",
       " [0.1999980000114347 0.19999800001130785 … 0.010127426963106931 0.010075886890901727; 0.08284271247169007 0.19999800001130785 … 0.010179766132673192 0.010127426963106931; … ; 0.010075886890901735 0.01012742696310694 … 0.19999800001434667 0.19999800001434667; 0.01002512578675506 0.010075886890901735 … 0.08284271247169013 0.19999800001434667]\n",
       " [0.1999980000114347 0.19999800001130785 … 0.010127426963106931 0.010075886890901727; 0.08284271247169007 0.19999800001130785 … 0.010179766132673192 0.010127426963106931; … ; 0.010075886890901735 0.01012742696310694 … 0.19999800001434667 0.19999800001434667; 0.01002512578675506 0.010075886890901735 … 0.08284271247169013 0.19999800001434667]\n",
       " [0.1999980000114347 0.19999800001130785 … 0.010127426963106931 0.010075886890901727; 0.08284271247169007 0.19999800001130785 … 0.010179766132673192 0.010127426963106931; … ; 0.010075886890901735 0.01012742696310694 … 0.19999800001434667 0.19999800001434667; 0.01002512578675506 0.010075886890901735 … 0.08284271247169013 0.19999800001434667]\n",
       " [0.1999980000114347 0.19999800001130785 … 0.010127426963106931 0.010075886890901727; 0.08284271247169007 0.19999800001130785 … 0.010179766132673192 0.010127426963106931; … ; 0.010075886890901735 0.01012742696310694 … 0.19999800001434667 0.19999800001434667; 0.01002512578675506 0.010075886890901735 … 0.08284271247169013 0.19999800001434667]\n",
       " [0.1999980000114347 0.19999800001130785 … 0.010127426963106931 0.010075886890901727; 0.08284271247169007 0.19999800001130785 … 0.010179766132673192 0.010127426963106931; … ; 0.010075886890901735 0.01012742696310694 … 0.19999800001434667 0.19999800001434667; 0.01002512578675506 0.010075886890901735 … 0.08284271247169013 0.19999800001434667]\n",
       " [0.1999980000114347 0.19999800001130785 … 0.010127426963106931 0.010075886890901727; 0.08284271247169007 0.19999800001130785 … 0.010179766132673192 0.010127426963106931; … ; 0.010075886890901735 0.01012742696310694 … 0.19999800001434667 0.19999800001434667; 0.01002512578675506 0.010075886890901735 … 0.08284271247169013 0.19999800001434667]\n",
       " [0.1999980000114347 0.19999800001130785 … 0.010127426963106931 0.010075886890901727; 0.08284271247169007 0.19999800001130785 … 0.010179766132673192 0.010127426963106931; … ; 0.010075886890901735 0.01012742696310694 … 0.19999800001434667 0.19999800001434667; 0.01002512578675506 0.010075886890901735 … 0.08284271247169013 0.19999800001434667]\n",
       " [0.1999980000114347 0.19999800001130785 … 0.010127426963106931 0.010075886890901727; 0.08284271247169007 0.19999800001130785 … 0.010179766132673192 0.010127426963106931; … ; 0.010075886890901735 0.01012742696310694 … 0.19999800001434667 0.19999800001434667; 0.01002512578675506 0.010075886890901735 … 0.08284271247169013 0.19999800001434667]\n",
       " [0.1999980000114347 0.19999800001130785 … 0.010127426963106931 0.010075886890901727; 0.08284271247169007 0.19999800001130785 … 0.010179766132673192 0.010127426963106931; … ; 0.010075886890901735 0.01012742696310694 … 0.19999800001434667 0.19999800001434667; 0.01002512578675506 0.010075886890901735 … 0.08284271247169013 0.19999800001434667]\n",
       " [0.1999980000114347 0.19999800001130785 … 0.010127426963106931 0.010075886890901727; 0.08284271247169007 0.19999800001130785 … 0.010179766132673192 0.010127426963106931; … ; 0.010075886890901735 0.01012742696310694 … 0.19999800001434667 0.19999800001434667; 0.01002512578675506 0.010075886890901735 … 0.08284271247169013 0.19999800001434667]"
      ]
     },
     "execution_count": 126,
     "metadata": {},
     "output_type": "execute_result"
    }
   ],
   "source": [
    "vpcountsamp"
   ]
  },
  {
   "cell_type": "markdown",
   "id": "e2541b9f",
   "metadata": {},
   "source": [
    "### Section 3.1: Fourth Proof of Concept\n",
    "Same as second example, this time using linear basis functions. "
   ]
  },
  {
   "cell_type": "code",
   "execution_count": null,
   "id": "9b48f918",
   "metadata": {},
   "outputs": [],
   "source": [
    "# generate set of basis functions centered on node i including the boundary nodes \n",
    "# here we cheat and code an explicit representation of the linear basis functions \n",
    "# this renders the coding that follows easier \n",
    "function basisfct(x, xmesh, i)\n",
    "    Np1 = length(xmesh)\n",
    "    left = 0.\n",
    "    right = 0.  \n",
    "    if (i==1)\n",
    "        right_domain = (x>=xmesh[i])*(x<=xmesh[i+1])\n",
    "        right_value = (x-xmesh[i+1])/(xmesh[i]-xmesh[i+1])\n",
    "        right = right_value*right_domain        \n",
    "    end \n",
    "    if ((i>1)&&(i<Np1))\n",
    "        left_domain = (x>=xmesh[i-1])*(x<=xmesh[i])\n",
    "        left_value = (xmesh[i-1]-x)/(xmesh[i-1]-xmesh[i])\n",
    "        left = left_value*left_domain        \n",
    "        right_domain = (x>xmesh[i])*(x<=xmesh[i+1])\n",
    "        right_value = (x-xmesh[i+1])/(xmesh[i]-xmesh[i+1])\n",
    "        right = right_value*right_domain        \n",
    "    end \n",
    "    if (i==Np1)\n",
    "        left_domain = (x>=xmesh[i-1])*(x<=xmesh[i])\n",
    "        left_value = (xmesh[i-1]-x)/(xmesh[i-1]-xmesh[i])\n",
    "        left = left_value*left_domain\n",
    "    end \n",
    "    result = left+right\n",
    "    return result \n",
    "end \n",
    "\n",
    "# expand the magnetization in the bais \n",
    "function magnetization(x,m,xmesh)\n",
    "    Np1 = length(xmesh)\n",
    "    result = 0. \n",
    "    for i=1:Np1 \n",
    "        result += m[i]*basisfct(x,xmesh,i)\n",
    "    end \n",
    "    return result  \n",
    "end "
   ]
  },
  {
   "cell_type": "code",
   "execution_count": null,
   "id": "b629407e",
   "metadata": {},
   "outputs": [],
   "source": [
    "# generate the mesh  with N elements (intervals) and N+1 nodes\n",
    "N = 5; h = 1/N; Np1 = N+1; \n",
    "xmesh = Vector(0:h:1)\n",
    "\n",
    "# set the magnetization coefficients  \n",
    "m = ones(Np1) \n",
    "\n",
    "# define integration kernel with two inputs  \n",
    "epsilon = 0.01 \n",
    "kernel(x,xp) = (x-xp)/(abs(x - xp)^3+epsilon) \n",
    "\n",
    "# compute integral by quadrature over second input (xp) over all nodes x_k  \n",
    "# on e_k the integral is x-dependent and stored in a array of functions \n",
    "vparray = Array{Function}(undef, N)\n",
    "for k=1:N \n",
    "   vparray[k] = (x,m,xmesh) -> quadgk(xp -> magnetization(xp,m,xmesh)*kernel(x,xp), xmesh[k], xmesh[k+1])[1]\n",
    "end \n",
    "\n",
    "# compute bflux as x-derivative over all elements of vparray \n",
    "bfluxarray = Array{Function}(undef, N) \n",
    "for k=1:N\n",
    "  bfluxarray[k] = (x,m,xmesh) -> ForwardDiff.derivative(x -> vparray[k](x,m,xmesh)[1],x)\n",
    "end \n",
    "\n",
    "# sum over source location or xp contributions over N elements in the mesh  \n",
    "vp(x,m,xmesh) = sum([vparray[k](x,m,xmesh) for k=1:N])\n",
    "bflux(x,m,xmesh) = sum([bfluxarray[k](x,m,xmesh) for k=1:N])\n",
    "\n",
    "# collocate the field on the grid in x - do point matching \n",
    "# observe depency in m remains \n",
    "bfluxpointsampled(m) = [bflux(xi,m,xmesh) for xi in xmesh]\n",
    "\n",
    "#average over destination or x contributions \n",
    "bfluxaverage(m) = [quadgk(x -> bflux(x,m,xmesh), xmesh[k], xmesh[k+1])[1] for k=1:N]\n",
    "\n",
    "# compute the Jacobian\n",
    "# to do: preallocate memory of the Jacobian \n",
    "ForwardDiff.jacobian(bfluxpointsampled, m)\n",
    "ForwardDiff.jacobian(bfluxaverage, m)"
   ]
  },
  {
   "cell_type": "markdown",
   "id": "0614cbc7",
   "metadata": {},
   "source": [
    "### Section 4.1: Fifth Proof of Concept\n",
    "Extension from line (bar) to rectangle (plate with zero thickness) assuming in-plane magnetization (i.e. $\\vec{M} = (M_x(x,y), M_y(x,y), 0)$) and thus ($\\vec{A} = (0, 0, A_z(x,y))$ and $\\vec{B} = (B_x(x,y), B_y(x,y), 0)$). \n",
    "\n",
    "1. in case of element-wise constant magnetization: asssume both $M_x(x,y)$ and $M_y(x,y)$ to be constant on each rectangular element in the mesh; \n",
    "2. in case of linear magnetization: assume both $M_x(x,y)$ and $M_y(x,y)$ to be expanded in a tensor product basis of linear basis element (aka Q1 finite elements, need to include a reference here); "
   ]
  },
  {
   "cell_type": "code",
   "execution_count": null,
   "id": "63cb9e32",
   "metadata": {},
   "outputs": [],
   "source": [
    "?ForwardDiff.derivative"
   ]
  },
  {
   "cell_type": "code",
   "execution_count": null,
   "id": "568cc2fd",
   "metadata": {},
   "outputs": [],
   "source": [
    "# generate the mesh  with N elements (intervals) and N+1 nodes\n",
    "N = 3; h = 1/N; Np1 = N+1; \n",
    "xmesh = [ [(i-1)*h, (j-1)*h] for i=1:Np1, j=1:Np1]\n",
    "\n",
    "# set the magnetization coefficients  \n",
    "m = ones(Np1,Np1) \n",
    "\n",
    "# define integration kernel with two inputs  \n",
    "epsilon = 0.01 \n",
    "kernel(x,xp) = (x-xp)/(norm(x - xp)^3+epsilon)  \n",
    "\n",
    "vparray = Array{Function}(undef, N, N)\n",
    "for k=1:N\n",
    "   for l=1:N \n",
    "      lb = (xmesh[k],xmesh[l])\n",
    "      ub = (xmesh[k+1],xmesh[l+1])\n",
    "      vparray[k,l] = (x,m,xmesh) -> hcubature(xp -> m[k,l]*kernel(x,xp), lb, ub)[1]\n",
    "   end \n",
    "end \n",
    "\n",
    "# compute bflux as x-derivative over all elements of vparray \n",
    "# observe syntax used to define an array of functions\n",
    "bxfluxarray = Array{Function}(undef, N, N) \n",
    "byfluxarray = Array{Function}(undef, N, N) \n",
    "for k=1:N\n",
    "   for l=1:N     \n",
    "     bxfluxarray[k,l] = (x,m,xmesh) -> ForwardDiff.derivative(x -> vparray[k](x,m,xmesh)[1],x)\n",
    "     byfluxarray[k,l] = (x,m,xmesh) -> ForwardDiff.derivative(x -> vparray[k](x,m,xmesh)[1],y)\n",
    "    end \n",
    "end "
   ]
  },
  {
   "cell_type": "code",
   "execution_count": null,
   "id": "8a78acf2",
   "metadata": {},
   "outputs": [],
   "source": []
  },
  {
   "cell_type": "markdown",
   "id": "23d4a990",
   "metadata": {},
   "source": [
    " <b>Potential Gains</b> We perceive the following gains \n",
    "1. allow automatic differentiation to perform half the work. We can thus focus on the remaining part of the work. (do we need to pay a price (toll) later? We need to ensure that in performing the integral computation over xprime, the result remains differentiable wrt x); \n",
    "2. preserve order of computations as the math reads, i.e., first integration of the source domain, then differentiate in the destination variables. Code thus easier to read and maintain?;\n",
    "3. avoid differentiating the integral, thus avoid increasing the singularity of the integrand? \n",
    "4. avoid splitting integral as a sum of multiple integrals (and thus simplify the overall bookkeeping); \n",
    "5. avoid replacing volume integrals $dx'\\,dy'\\,dz'$ over elements $e_k$ in the finite element mesh as sum of integrsals over faces of $e_k$ (how to compute singular integrals over tetrahedra?); \n",
    "6. allow for more general basis functions; \n",
    "7. extend to non-linear constitutive relations (as similar ideas apply);   \n",
    "8. show-case distinct use of multiple dispatch allowing to compose two Julia packages (cfr. earlier case of combined used of interval arithmetic and ODE solver by Chris Raukaucas);  \n",
    "\n",
    "<b>Assumptions Made</b> We assume (falsily?) that \n",
    "1. the eventual computational overhead of adaptive quadrature (for singular intregrals on tetrahedra) can be amortized by thread-parallel computations (as shown earlier by the heroin in this project);\n",
    "2. residual weighting of the MoM equations (weak or variational formulations) occurs using Dirac delta (pulse) functions (distribution). Residual weighting thus reduces to point matching;\n",
    "3. adaptive quadrature carries over from 1D (only x) to 2D (xy) and 3D (xyz); \n",
    "\n",
    "<b>One-Dimensional Case</b> <b>What is the good kernel to use?</b> In one spatial dimension ($x$-only), the vector valued problem reduces to a scalar problem. Given the magnitization vector $\\vec{M}(\\vec{x}) = (0,0,M_z(x))$, we wish to compute (confusing noation: rectify by specifying what $\\Omega$ and $\\Omega_m$ are)\n",
    "1. the magnetic vector potential $\\vec{A}(\\vec{x}) = (0,A_y(x),0)$ where \n",
    "$A_y(x) = \\frac{\\mu_0}{4 \\pi} \\int_a^b \\frac{M_z(x') \\, (x-x')}{|x-x'|^3} \\, dx'$ using quadrature implemented in QuadGK.jl; \n",
    "2. the magnetic flux $\\vec{B}(\\vec{x}) = (0,0,B_z(x))$ where $B_z(x) = - \\frac{\\partial A_y(x)}{\\partial x}$ using automatic differentiation implemented in ForwardDiff.jl;  \n",
    "\n",
    "<b>Spatial Discretization of the One-Dimensional Case</b> Introduce computational mesh $\\Omega^h$ of $N$ elements $e_k = [x_k, x_{k+1}]$ and $N+1$ nodes $x_i$ on the domain of computation $\\Omega$. On $e_k$ linear nodal shape function $\\phi_i(x)$ can be defined. Express numerical approximation to $M_z(x)$ as $M^h_z(x) = \\sum_i m_i \\, \\phi_i(x)$. Denote $\\vec{m}$ the (N+1)-dimensional vector (one per node) of the mesh. Replacing $M_z(x)$ as $M^h_z(x)$ in the expression for $A_y(x)$ yields $A^h_y(x)$. The evaluation of $A^h_y(x)$ in the nodes $x_i$ yields a (N+1)-dimensional vector $\\vec{a}$. This vector depends on $\\vec{m}$. We thus write $\\vec{a}(\\vec{m})$. Given its importance in later discussions, we emphasize the point by formulating $\\vec{a}$ as a mapping from $R^{N+1}$ to $R^{N+1}$ mapping $\\vec{m}$ to $\\vec{a}(\\vec{m})$. A similar discourse holds for $B_z(x)$ by first differentiating $A^h_y(x)$ wrt to $x$ and then point-evaluation (order obviously matters here). We again obtain a mapping from $R^{N+1}$ to $R^{N+1}$ mapping $\\vec{m}$ this time to $\\vec{b}[\\vec{a}(\\vec{m})]$. The Jacobian of this mapping wrt $\\vec{m}$ is the much desired $(N+1)-by-(N+1)$ MoM matrix.   \n",
    "\n",
    "<b>Resulting Algorithm for a Forward Computation</b>\n",
    "\n",
    "1. Generate mesh of $\\Omega$\n",
    "2. Generate set basis functions \n",
    "3. (to be extended) \n",
    "\n",
    "<b>Two-Dimensional Perpendicular Magnetization Case</b> To be discussed.\n",
    "\n",
    "<b>Two-Dimensional In-Plane Magnetization Case</b> To be discussed.\n",
    "\n",
    "<b>Three-Dimensional Mesh Generation</b> To be discussed.\n",
    "1. integrate 6D integral with singular kernel using Curbature.jl; allow adaptive integration to do the heavy work. \n",
    "2. as above with task parallel implementation; \n",
    "3. as above with analytical computation of the inner 3D integral; \n",
    "\n",
    "<b>Spatial Discretization of the Three-Dimensional Case</b> To be discussed. \n",
    "\n",
    "<b>Reference on Quadrature in Julia</b>\n",
    "1. [QuadGK.jl](https://juliamath.github.io/QuadGK.jl/stable/) for adaptive quadrature (requires context on quadrature (adaptive and non-adaptive) on meshes in Julia - ask our heroin for first draft); \n",
    "2. [Integrals.jl](https://docs.sciml.ai/Integrals/stable/) a unified interface for the numerical approximation of integrals (quadrature) in Julia; \n",
    "3. [Cubature of singular integrand](https://discourse.julialang.org/t/cubature-of-singular-integrand/113003) \n",
    "4. [ForwardDiff.jl](https://juliadiff.org/ForwardDiff.jl/stable/) for automatic differentiation (requires context on automatic (forward mode and backward mode) differentiation in Julia - ask our heroin for first draft); \n",
    "5. [How-do-i-choose-between-quadgk-and-cubature-when-i-do-singular-integral-of-a-complex-valued-function](https://discourse.julialang.org/t/how-do-i-choose-between-quadgk-and-cubature-when-i-do-singular-integral-of-a-complex-valued-function/94198/1) (including link to interesting paper). The [paper](https://math.mit.edu/~stevenj/papers/ReidWhJo14.pdf).  \n",
    "6. [Cubature on non-rectangular domains](https://discourse.julialang.org/t/2d-integration-over-non-rectangular-domain-using-cubature/2991/6); Quote: In general, a 2d cubature code can be more efficient than nested 1d quadratures, assuming you are using adaptive quadrature/cubature. This is because the inner 1d integral, if it is performed as an independent 1d adaptive quadrature, can waste a lot of integrand evaluations trying to refine the 1d integral to high relative accuracy even if its overall contribution to the integral is small. End-quote. Quote: to integrate f(x,y) for x=0…t and y=0…x (i.e. a triangle), just do the change of variables y=ux and integrate f(x,u*x)*x for x=0…t , u=0…1 (note the Jacobian factor *x multiplying f). End-quote. \n",
    "\n",
    "<b>Reference to Automatic Differentiation in Julia</b>\n",
    "1. [ForwardDiff (Forward Mode AD)](https://juliadiff.org/ForwardDiff.jl/stable/) for automatic differentiation (requires context on automatic (forward mode and backward mode) differentiation in Julia - ask our heroin for first draft); \n",
    "2. [When Zygote (Reverse Mode AD) Meets Quadgk](https://discourse.julialang.org/t/when-zygote-jl-meets-quadgk-jl-mutating-arrays-is-not-supported-called-setindex-vector-quadgk-segment/84042) \n",
    "3. [AutodiffTutorial by G. Dalle](https://gdalle.github.io/AutodiffTutorial/)\n",
    "4. [How-do-i-choose-between-quadgk-and-cubature-when-i-do-singular-integral-of-a-complex-valued-function](https://discourse.julialang.org/t/how-do-i-choose-between-quadgk-and-cubature-when-i-do-singular-integral-of-a-complex-valued-function/94198/1) (including [link](https://math.mit.edu/~stevenj/papers/ReidWhJo14.pdf) to paper on Taylor-Duffy method for analytically handling the singularity of the integrand in the scuff-em library).  \n",
    "5. [Tutorials on differentiating_integrals](https://docs.sciml.ai/Integrals/stable/tutorials/differentiating_integrals/)\n",
    "6. [forwarddiff-hessian-with-staticarrays-unexpected-allocations-and-performance](https://discourse.julialang.org/t/forwarddiff-hessian-with-staticarrays-unexpected-allocations-and-performance/114082) \n",
    "\n",
    "<b>References to Related Tools in Julia</b>\n",
    "1. [Monte-Carlo Integration](https://numericaleft.github.io/NumericalEFT.jl/stable/readme/MCIntegration/): is this a good test for analytically handling the singularity? \n",
    "\n",
    "\n",
    "The magic resides in the multiple dispatch that allows to chain QuadGK.jl and ForwardDiff.jl.\n",
    "\n",
    "<b>Related Packages</b> \n",
    "\n",
    "- [Meshes.jl](https://juliageometry.github.io/MeshesDocs/stable/) and related Zulip channel; \n",
    "- [MeshIntegrals.jl](https://github.com/mikeingold/MeshIntegrals.jl) \n",
    "- [SingularIntegralEquations.jl](https://github.com/JuliaApproximation/SingularIntegralEquations.jl)\n",
    "\n",
    "\n",
    "\n",
    "<b>How to Procede from Here?</b>\n",
    "1. replace implementation that employ an array of function to code the basis function by common loop over elements; \n",
    "2. extend to 2D\n",
    "\n",
    "<b>References</b> (ask our heroin to expand) \n",
    "1. Book Roman Szewczyk (Springer LNEE 491 2018)\n",
    "2. Caorsi, Moreno and Sidoti, 1993: test case of block profile in Figure 4; \n",
    "\n",
    "<b>Notation</b> We use the following notation: \n",
    "- xp for xprime; \n",
    "- vpdens for vector potential density;\n",
    "- vp for vector potential; \n",
    "- $k$ and $ell$: outer loop over elements (k) and DOF per element (ell); \n",
    "- $m$ and $n$: outer loop over elements (m) and DOF per element (n); \n",
    "- i: loop over nodes; \n",
    "- C: matrix \n",
    "- A = I - chi / (mu_0 (1+chi)) C "
   ]
  },
  {
   "cell_type": "markdown",
   "id": "37fac845",
   "metadata": {},
   "source": [
    "## Section 2.1: Singular Integrals (sandbox)"
   ]
  },
  {
   "cell_type": "markdown",
   "id": "4b89a56c",
   "metadata": {},
   "source": [
    "The thing is that as long as r∉∂V, the integrand is a differentiable function, so standard refinement eventually works fine.\n",
    "\n",
    "But to make it even better, if Fi are the faces of the cube, for each i, you look for the r∗i∈Fi that is closest to r, this is where the almost singularity will be. Then divide the face in 4 sections, where r∗ is the point of intersection of this 4 sections. Now you have 4 integrals that they have almost-singularities in one corner.\n",
    "\n",
    "Replacing the volume integral over a cell by a set of surface integrals over the faces to allow a better grip on the singularity. Operations on 3D mesh thus required: \n",
    "1. retrieve faces belonging to a cell;\n",
    "2. subdivide a face;\n",
    "3. compute distance to nearest vertex; "
   ]
  },
  {
   "cell_type": "markdown",
   "id": "2c48f223",
   "metadata": {},
   "source": [
    "## Section 3.1: Linear Basis Functions (in progress)"
   ]
  },
  {
   "cell_type": "code",
   "execution_count": null,
   "id": "d17f2018",
   "metadata": {},
   "outputs": [],
   "source": []
  },
  {
   "cell_type": "code",
   "execution_count": null,
   "id": "b7e03036",
   "metadata": {},
   "outputs": [],
   "source": []
  },
  {
   "cell_type": "code",
   "execution_count": null,
   "id": "a54da901",
   "metadata": {},
   "outputs": [],
   "source": []
  },
  {
   "cell_type": "markdown",
   "id": "3ccd633b",
   "metadata": {},
   "source": [
    "## Section 2: QuadQK, HCurbature, ForwardDiff and Their Combined Use "
   ]
  },
  {
   "cell_type": "markdown",
   "id": "d8aa177c",
   "metadata": {},
   "source": [
    "### Section 1.2: Examples of Using QuadQK for Scalar Function  \n",
    "Small example of QuadQK. Singular integrals on purpose avoided (see next Section). Outputs integral value and error. Morer later (amount of function evaluations). "
   ]
  },
  {
   "cell_type": "code",
   "execution_count": null,
   "id": "dfad824e",
   "metadata": {},
   "outputs": [],
   "source": [
    "# define single input integrand\n",
    "integrand(x) = x^2 \n",
    "\n",
    "I = quadgk(x -> integrand(x), 0, 1)"
   ]
  },
  {
   "cell_type": "markdown",
   "id": "0559b738",
   "metadata": {},
   "source": [
    "### Section 2.2: Examples of Using HCubature for Scalar Function "
   ]
  },
  {
   "cell_type": "code",
   "execution_count": null,
   "id": "a3230a30",
   "metadata": {},
   "outputs": [],
   "source": [
    "# define single input integrand\n",
    "integrand(x) = x[1]^2 # observe that typing x^2 here does not work \n",
    "\n",
    "I = hcubature(x->integrand(x), (0.,), (1.,)) "
   ]
  },
  {
   "cell_type": "markdown",
   "id": "d3f8095f",
   "metadata": {},
   "source": [
    "### Section 3.2: Examples of Using HCubature for Vector-Valued Function\n",
    "Example found [here](https://stackoverflow.com/questions/77446561/integrating-with-hcubature-in-julia). "
   ]
  },
  {
   "cell_type": "code",
   "execution_count": null,
   "id": "8dd52068",
   "metadata": {},
   "outputs": [],
   "source": [
    "f(x,y,z) = x+y+z;"
   ]
  },
  {
   "cell_type": "markdown",
   "id": "bbd476a9",
   "metadata": {},
   "source": [
    "### Section 4.2: Nested QuadGK vs. HCubature"
   ]
  },
  {
   "cell_type": "code",
   "execution_count": null,
   "id": "9bddb1e2",
   "metadata": {},
   "outputs": [],
   "source": [
    "# integration over a unit square \n",
    "hcubature(r->f(r[1],r[2],0), (0,0), (1,1))"
   ]
  },
  {
   "cell_type": "code",
   "execution_count": null,
   "id": "f827d946",
   "metadata": {},
   "outputs": [],
   "source": [
    "h(x,y,z) = x+y "
   ]
  },
  {
   "cell_type": "code",
   "execution_count": null,
   "id": "f08f3815",
   "metadata": {},
   "outputs": [],
   "source": [
    "H(y) = quadgk(x -> h(x,y,0),0,1)[1]"
   ]
  },
  {
   "cell_type": "code",
   "execution_count": null,
   "id": "7bd7edb9",
   "metadata": {},
   "outputs": [],
   "source": [
    "H(.5)"
   ]
  },
  {
   "cell_type": "code",
   "execution_count": null,
   "id": "130fe1e3",
   "metadata": {},
   "outputs": [],
   "source": [
    "integral = quadgk(y ->H(y),0,1)[1]"
   ]
  },
  {
   "cell_type": "code",
   "execution_count": null,
   "id": "52fd0735",
   "metadata": {},
   "outputs": [],
   "source": [
    "# integration over a unit square \n",
    "hcubature(r->h(r[1],r[2],0), (0,0), (1,1))[1]"
   ]
  },
  {
   "cell_type": "markdown",
   "id": "1f36a808",
   "metadata": {},
   "source": [
    "### Section 5.2: Examples of ForwardDiff for Scalar Case \n",
    "Small examples of ForwardDiff. More later (Jacobian and preallocating memory for dense Jacobian). "
   ]
  },
  {
   "cell_type": "code",
   "execution_count": null,
   "id": "d2171853",
   "metadata": {},
   "outputs": [],
   "source": [
    "ForwardDiff.derivative(x -> x^3, 1)"
   ]
  },
  {
   "cell_type": "markdown",
   "id": "32e04caa",
   "metadata": {},
   "source": [
    "### Section 6.2: Examples of ForwardDiff for Vector-Valued Case\n",
    "See this [notebook](./fem_matrix_assembly_using_ad.ipynb) for other examples. "
   ]
  },
  {
   "cell_type": "code",
   "execution_count": null,
   "id": "0a38fbbf",
   "metadata": {},
   "outputs": [],
   "source": [
    "function residual(m)\n",
    "    r = similar(m)\n",
    "    r[1] = m[1]\n",
    "    for i=2:length(m)-1\n",
    "        r[i] = -m[i-1] + 2*m[i] - m[i+1] \n",
    "    end \n",
    "    r[end] = m[end]\n",
    "    return r\n",
    "end"
   ]
  },
  {
   "cell_type": "code",
   "execution_count": null,
   "id": "082d3e49",
   "metadata": {},
   "outputs": [],
   "source": [
    "m = ones(5)\n",
    "r = residual(m)\n",
    "display(r)"
   ]
  },
  {
   "cell_type": "code",
   "execution_count": null,
   "id": "1817112b",
   "metadata": {},
   "outputs": [],
   "source": [
    "ForwardDiff.jacobian(residual, m) "
   ]
  },
  {
   "cell_type": "markdown",
   "id": "2a5fc944",
   "metadata": {},
   "source": [
    "### Section 7.2: Examples Involving Generic Functions "
   ]
  },
  {
   "cell_type": "code",
   "execution_count": null,
   "id": "472d33c7",
   "metadata": {},
   "outputs": [],
   "source": [
    "g = m->m.^4"
   ]
  },
  {
   "cell_type": "code",
   "execution_count": null,
   "id": "36d8fd2f",
   "metadata": {},
   "outputs": [],
   "source": [
    "m = ones(5)\n",
    "ForwardDiff.jacobian(g, m)"
   ]
  },
  {
   "cell_type": "code",
   "execution_count": null,
   "id": "bad6200a",
   "metadata": {},
   "outputs": [],
   "source": [
    "g = (m,n) -> m.*n # vector values output \n",
    "m = ones(5)\n",
    "n = 2*ones(5)\n",
    "h = m->g(m,n)\n",
    "ForwardDiff.jacobian(h, m)"
   ]
  },
  {
   "cell_type": "markdown",
   "id": "2069972b",
   "metadata": {},
   "source": [
    "### Section 8.2: Entire workflow on Complete Example "
   ]
  },
  {
   "cell_type": "code",
   "execution_count": null,
   "id": "c7d01393",
   "metadata": {},
   "outputs": [],
   "source": [
    "# define function in three variables \n",
    "# x: spatial variables: location of observation points \n",
    "# m: expansion coefficient of magnetization in basis functions \n",
    "# p: parameters: in practise the mesh parameters \n",
    "g = (x,m,p) -> (x.*m.^5).*p # vector values output \n",
    "# Step (1/2): fix x - do point matching\n",
    "# after point matching we are left with a function depending on m and p \n",
    "# this function is named h(m,p)\n",
    "x = ones(5)\n",
    "h = (m,p)->g(x,m,p)\n",
    "# Step (2/2): take the gradient wrt m to \n",
    "hgrad(m,p) = ForwardDiff.jacobian(m->h(m,p), m)"
   ]
  },
  {
   "cell_type": "code",
   "execution_count": null,
   "id": "7fd0b43a",
   "metadata": {},
   "outputs": [],
   "source": [
    "m = ones(5)\n",
    "p = ones(5)\n",
    "hgrad(m,p) "
   ]
  },
  {
   "cell_type": "markdown",
   "id": "4bca7007",
   "metadata": {},
   "source": [
    "### Section 9.2: Example of Derivate of an Integral \n",
    "Small example of derivative of an integral. More later. "
   ]
  },
  {
   "cell_type": "code",
   "execution_count": null,
   "id": "f719f2e8",
   "metadata": {},
   "outputs": [],
   "source": [
    "# define two input integrand (here p stands for prime)\n",
    "integrand(x,xp) = x[1] - xp[1]\n",
    "\n",
    "# compute integral by quadrature over second input - results in u(x) = x - 0.5\n",
    "# u(x) = quadgk(xp -> integrand(x,xp), 0, 1)\n",
    "u(x) = hcubature(xp -> integrand(x,xp), (0,), (1,))\n",
    "\n",
    "# compute derivative - should result in du/dx = 1\n",
    "ForwardDiff.derivative(x -> u(x)[1], 1)"
   ]
  },
  {
   "cell_type": "markdown",
   "id": "8fc948e3",
   "metadata": {},
   "source": [
    "## Section 3: QuadQK for Singular Integrals  \n",
    "The following example was constructed to illustrate difficulties with singular kernels. See [QuadQK.jl](https://juliamath.github.io/QuadGK.jl/stable/) for treating singular integrals.  "
   ]
  },
  {
   "cell_type": "markdown",
   "id": "44f95c64",
   "metadata": {},
   "source": [
    "### Section 1.3: Converging Improper Integral "
   ]
  },
  {
   "cell_type": "code",
   "execution_count": null,
   "id": "53634acb",
   "metadata": {},
   "outputs": [],
   "source": [
    "# define two input integrand\n",
    "integrand(x,xp) = (x-xp)/abs(x - xp)^1.5\n",
    "\n",
    "# compute integral by quadrature over second input\n",
    "u(x) = quadgk(xp -> integrand(x,xp), 0, 1)\n",
    "\n",
    "# compute derivative - should result in du/dx = 1\n",
    "ForwardDiff.derivative(x -> u(x)[1], 1)"
   ]
  },
  {
   "cell_type": "markdown",
   "id": "48cb6615",
   "metadata": {},
   "source": [
    "Please <b>observe</b> that in the previous cell the function $u(x)$ is <b>never</b> evaluated. This is particulary interesting, as we can evaluate $u(x)$ for $x$ such that $0 < x < 1$ (i.e. $x$ not coinciding with bounds of domain of integration, and integrand singular in the interior of the interval) (quadrature fails) and $x=1$ (i.e. $x$ coinciding with upper integration bound) (quadrature works).  "
   ]
  },
  {
   "cell_type": "code",
   "execution_count": null,
   "id": "51bd6d9f",
   "metadata": {},
   "outputs": [],
   "source": [
    "u(0.)"
   ]
  },
  {
   "cell_type": "code",
   "execution_count": null,
   "id": "51dfd407",
   "metadata": {},
   "outputs": [],
   "source": [
    "u(1)"
   ]
  },
  {
   "cell_type": "markdown",
   "id": "bf4b79a6",
   "metadata": {},
   "source": [
    "### Section 2.3: Diverging Improper Integral \n",
    "This subsection shows that the magic that the function quadqk() can perform remains limited. In case that the singularity is to strong, quadqk() is not able to resolve it, even in case that the point of singularity matches with the bound on the integration domain. Possibly looking into singularity extraction becomes of interest here. "
   ]
  },
  {
   "cell_type": "code",
   "execution_count": null,
   "id": "7d49b437",
   "metadata": {},
   "outputs": [],
   "source": [
    "?quadgk"
   ]
  },
  {
   "cell_type": "code",
   "execution_count": null,
   "id": "dd4084ed",
   "metadata": {},
   "outputs": [],
   "source": [
    "# define two input integrand\n",
    "function integrand(x)\n",
    "    # print the input value for xp allowing to understand \n",
    "    # in which locations adaptive integration evaluates the integrand \n",
    "    println(x)\n",
    "    return 1/x\n",
    "end \n",
    "\n",
    "# compute integral by quadrature over second input\n",
    "int = quadgk(x -> integrand(x), 0, 1;rtol=5e-1,atol=10,order=5)"
   ]
  },
  {
   "cell_type": "code",
   "execution_count": null,
   "id": "02ab3b12",
   "metadata": {},
   "outputs": [],
   "source": [
    "u(0)"
   ]
  },
  {
   "cell_type": "markdown",
   "id": "75a44541",
   "metadata": {},
   "source": [
    "## Section 4: Generation of Basis Functions on 1D Mesh "
   ]
  },
  {
   "cell_type": "markdown",
   "id": "fb2438f2",
   "metadata": {},
   "source": [
    "### Section 1.4: Generate Family of 1D Basis Hat Functions"
   ]
  },
  {
   "cell_type": "code",
   "execution_count": null,
   "id": "b9f4256d",
   "metadata": {},
   "outputs": [],
   "source": [
    "# generate basis function centered on node i \n",
    "function basisfct(x, xmesh, i)\n",
    "    Np1 = length(xmesh)\n",
    "    left = 0.\n",
    "    right = 0.  \n",
    "    if (i==1)\n",
    "        right_domain = (x>=xmesh[i])*(x<=xmesh[i+1])\n",
    "        right_value = (x-xmesh[i+1])/(xmesh[i]-xmesh[i+1])\n",
    "        right = right_value*right_domain        \n",
    "    end \n",
    "    if ((i>1)&&(i<Np1))\n",
    "        left_domain = (x>=xmesh[i-1])*(x<=xmesh[i])\n",
    "        left_value = (xmesh[i-1]-x)/(xmesh[i-1]-xmesh[i])\n",
    "        left = left_value*left_domain        \n",
    "        right_domain = (x>xmesh[i])*(x<=xmesh[i+1])\n",
    "        right_value = (x-xmesh[i+1])/(xmesh[i]-xmesh[i+1])\n",
    "        right = right_value*right_domain        \n",
    "    end \n",
    "    if (i==Np1)\n",
    "        left_domain = (x>=xmesh[i-1])*(x<=xmesh[i])\n",
    "        left_value = (xmesh[i-1]-x)/(xmesh[i-1]-xmesh[i])\n",
    "        left = left_value*left_domain\n",
    "    end \n",
    "    result = left+right\n",
    "    return result \n",
    "end \n",
    "\n",
    "# generate the mesh with N elements and Np1 nodes \n",
    "N = 5; h = 1/N; Np1 = N+1; \n",
    "xmesh = Vector(0:h:1)\n",
    "\n",
    "# generate plots \n",
    "xsampled = Vector(0:h/10:1);\n",
    "p1 = plot(xsampled,basisfct.(xsampled,Ref(xmesh),6))\n",
    "p2 = plot(xsampled,basisfct.(xsampled,Ref(xmesh),1) + (1)*basisfct.(xsampled,Ref(xmesh),4))\n",
    "plot(p1,p2,layout=(1,2))"
   ]
  },
  {
   "cell_type": "markdown",
   "id": "d85dac93",
   "metadata": {},
   "source": [
    "### Section 2.5: Expand Magnetization in Basis of Hat Functions"
   ]
  },
  {
   "cell_type": "code",
   "execution_count": null,
   "id": "36a8a8e1",
   "metadata": {},
   "outputs": [],
   "source": [
    "function magnetization(x,m,xmesh)\n",
    "    Np1 = length(xmesh)\n",
    "    result = 0. \n",
    "    for i=1:Np1 \n",
    "        result += m[i]*basisfct(x,xmesh,i)\n",
    "    end \n",
    "    return result  \n",
    "end \n",
    "\n",
    "# generate the mesh with N elements and Np1 nodes \n",
    "N = 5; h = 1/N; Np1 = N+1; \n",
    "xmesh = Vector(0:h:1)\n",
    "xsampled = Vector(0:h/2:1)\n",
    "\n",
    "# generate plots \n",
    "m = ones(length(xmesh)) \n",
    "m[2] = 2; m[4] = -3; \n",
    "magnsampled = magnetization.(xsampled,Ref(m),Ref(xmesh))\n",
    "plot(xsampled,magnsampled)\n",
    "#display(magnsampled)"
   ]
  },
  {
   "cell_type": "markdown",
   "id": "a51eeeff",
   "metadata": {},
   "source": [
    "## Section 5: Explicit (or Direct) Construction - Assume Magnetic Sources Known - Compute Magnetic Vector Potential A_y and Magnetic Flux B_z \n",
    "Here we assume that the magnetization is a given block profile. We compute the vector potential component and the magnetic flux component. Results in this section can be verified by solving the one-dimensional Poisson equation for the scalar magnetic vector potential ($\\phi_m$ such that $\\vec{H} = \\nabla \\phi_m$). This can easily be accomplished using a shooting method for the boundary value problem. Such a shooting method is implemented in DifferentialEquations.jl. See the EE4375 course for example. "
   ]
  },
  {
   "cell_type": "markdown",
   "id": "f87c1aca",
   "metadata": {},
   "source": [
    "### Section 1.5: Assume $M_z(x) = 1$ between $x=0.4$ and $x=0.6$: First Alternative \n",
    "This construction fails as quadgk is unable to treat the singular kernel without guidance. "
   ]
  },
  {
   "cell_type": "code",
   "execution_count": null,
   "id": "6a0db262",
   "metadata": {},
   "outputs": [],
   "source": [
    "# define two input integrand\n",
    "a = 0.4; b = 0.6; \n",
    "magnetization(x) = ((x>a)*(x<b))\n",
    "kernel(x,xp) = (x-xp)/abs(x - xp)^3\n",
    "vpdens(x,xp) = magnetization(xp)*kernel(x,xp)\n",
    "\n",
    "# compute integral by quadrature over second input \n",
    "# observe the integration bounds \n",
    "vp(x) = quadgk(xp -> vpdens(x,xp), 0, 1)\n",
    "\n",
    "# compute flux as x-derivative of potential  \n",
    "bflux(x) = ForwardDiff.derivative(x -> vp(x)[1])\n",
    "\n",
    "# generate plot \n",
    "N = 100; h = 1/N; \n",
    "xs = Vector(0:h:1)\n",
    "ms = magnetization.(xs)\n",
    "vps = vp.(xs)\n",
    "bfluxs = bflux.(xs)\n",
    "\n",
    "p1 = plot(xs, ms)\n",
    "p2 = plot(xs, vps)\n",
    "p3 = plot(xs, bfluxs)\n",
    "plot(p1,p2,p3,layout=(1,3))"
   ]
  },
  {
   "cell_type": "markdown",
   "id": "4bd42503",
   "metadata": {},
   "source": [
    "### Section 2.5: Assume $M_z(x) = 1$ between $x=0.4$ and $x=0.6$: Second Alternative\n",
    "Remark: results in this section are <b>very</b> sensitive to the kernel definition. Here we use as kernel definition \n",
    "$$ K(x,x') = \\frac{x-x'}{|x-x'|^{1.5}} $$\n",
    "(observe the exponent 1.5 in the denominatior) for the lousy argumemt that anything else does not work (at least yet). \n",
    "\n",
    "Guide quadgk in performing integration of singular kernel by divide-and-conquer. We apply a mesh on the interval $\\Omega = (0,1)$, perform integration on each element on the mesh and evaluate the integral on the nodes of the mesh. In this way we ensure that <b>singularity of integrand is always on the boundary of the integration domain</b>. \n",
    "\n",
    "We proceed in two steps. In the first step, we evaluate the vector potential component as a sum of contributions per element \n",
    "\n",
    "$A_y(x) = \\frac{\\mu_0}{4 \\pi} \\int_0^1 \\frac{M_z(x') \\, (x-x')}{|x-x'|^{1.5}} \\, dx' \n",
    "        = \\frac{\\mu_0}{4 \\pi} \\sum_{k=1}^{N} \\int_{x_k}^{x_{k+1}} \\frac{M_z(x') \\, (x-x')}{|x-x'|^{1.5}} \\, dx' \\, . $\n",
    "        \n",
    "This component is a function of $x$. In the second step, we evaluate $A_y(x)$ in the nodes of the mesh. "
   ]
  },
  {
   "cell_type": "code",
   "execution_count": null,
   "id": "19b032d8",
   "metadata": {},
   "outputs": [],
   "source": [
    "# generate the mesh with N elements (intervals) and N+1 nodes \n",
    "N = 99; h = 1/N; Np1 = N+1; \n",
    "# N = 1000; h = 1/N; Np1 = N+1; \n",
    "xmesh = Vector(0:h:1)\n",
    "\n",
    "# define two input integrand\n",
    "a = 0.4; b = 0.6; \n",
    "#a = 0.; b = 1.; \n",
    "magnetization(x) = ((x>=a)*(x<=b)) \n",
    "kernel(x,xp) = (x-xp)/abs(x - xp)^1.5 # works and yield nice plot \n",
    "vpdens(x,xp) = magnetization(xp)*kernel(x,xp)\n",
    " \n",
    "vparray = Array{Function}(undef, N)\n",
    "# compute integral by quadrature over second input over all elements [x_k, x_{k+1}]\n",
    "# observe syntax used to define an array of functions \n",
    "for k=1:N\n",
    "    vparray[k] = x -> quadgk(xp -> vpdens(x,xp), xmesh[k], xmesh[k+1])[1]\n",
    "end \n",
    "\n",
    "bfluxarray = Array{Function}(undef, N)\n",
    "# compute bflux as x-derivative over all elements of vparray \n",
    "# observe syntax used to define an array of functions \n",
    "for k=1:N\n",
    "  bfluxarray[k] = x -> ForwardDiff.derivative(x -> vparray[k](x)[1],x)\n",
    "end "
   ]
  },
  {
   "cell_type": "code",
   "execution_count": null,
   "id": "744394b9",
   "metadata": {
    "scrolled": false
   },
   "outputs": [],
   "source": [
    "plot(xmesh, magnetization.(xmesh),xaxis=\"x (m)\",yaxis=\"M_z(x)\",label=\"Prescribed Magnetization\")"
   ]
  },
  {
   "cell_type": "code",
   "execution_count": null,
   "id": "cf989b5c",
   "metadata": {},
   "outputs": [],
   "source": [
    "plot(xmesh,[vparray[k].(xmesh) for k=1:N],xaxis=\"x (m)\",yaxis=\"A_y(x)\",title=\"vp per element\")"
   ]
  },
  {
   "cell_type": "code",
   "execution_count": null,
   "id": "9054ddfb",
   "metadata": {},
   "outputs": [],
   "source": [
    "# evaluate vector potential as sum of contribution over N elements \n",
    "vparrayvec = sum([vparray[k].(xmesh) for k=1:N],dims=1)\n",
    "plot(xmesh,vparrayvec)"
   ]
  },
  {
   "cell_type": "code",
   "execution_count": null,
   "id": "bd459773",
   "metadata": {},
   "outputs": [],
   "source": [
    "bfluxarrayvec = sum([bfluxarray[k].(xmesh) for k=1:N],dims=1)\n",
    "plot(xmesh,bfluxarrayvec,xaxis=\"x (m)\",yaxis=\"B_z(x)\",title=\"magnetic flux component\")"
   ]
  },
  {
   "cell_type": "markdown",
   "id": "5b6555db",
   "metadata": {},
   "source": [
    "### Section 3.5: Magnitization Expanded in a Basis "
   ]
  },
  {
   "cell_type": "code",
   "execution_count": null,
   "id": "18d0f4b0",
   "metadata": {
    "scrolled": true
   },
   "outputs": [],
   "source": [
    "function magnetization(x,m,xmesh)\n",
    "    Np1 = length(xmesh)\n",
    "    result = 0. \n",
    "    for i=1:Np1 \n",
    "        result += m[i]*basisfct(x,xmesh,i)\n",
    "    end \n",
    "    return result  \n",
    "end "
   ]
  },
  {
   "cell_type": "code",
   "execution_count": null,
   "id": "6b0946a3",
   "metadata": {},
   "outputs": [],
   "source": [
    "# generate the mesh  with N elements (intervals) and N+1 nodes\n",
    "N = 100; h = 1/N; Np1 = N+1; \n",
    "xmesh = Vector(0:h:1)\n",
    "\n",
    "# set the magnetization coefficients  \n",
    "m = zeros(length(xmesh)) \n",
    "for i=div(N,4):3*div(N,4) m[i] = 1. end \n",
    "\n",
    "# define two input integrand\n",
    "kernel(x,xp) = (x-xp)/abs(x - xp)^1.5\n",
    "vpdens(x,xp,m,xmesh) = magnetization(xp,m,xmesh)*kernel(x,xp)\n",
    "\n",
    "# intermediate auxilary \n",
    "#vptest = (x,m,xmesh) -> quadgk(xp -> vpdens(x,xp,m,xmesh), xmesh[1], xmesh[2])[1]\n",
    "\n",
    "vparray = Array{Function}(undef, N)\n",
    "# compute integral by quadrature over second input over all elements [x_k, x_{k+1}]\n",
    "# observe syntax used to define an array of functions \n",
    "for k=1:N\n",
    "   vparray[k] = (x,m,xmesh) -> quadgk(xp -> vpdens(x,xp,m,xmesh), xmesh[k], xmesh[k+1])[1]\n",
    "end \n",
    "\n",
    "bfluxarray = Array{Function}(undef, N)\n",
    "# compute bflux as x-derivative over all elements of vparray \n",
    "# observe syntax used to define an array of functions \n",
    "for k=1:N\n",
    "  bfluxarray[k] = (x,m,xmesh) -> ForwardDiff.derivative(x -> vparray[k](x,m,xmesh)[1],x)\n",
    "end \n",
    "\n",
    "# sum over elements \n",
    "vp(x,m,xmesh) = sum([vparray[k](x,m,xmesh) for k=1:N])\n",
    "bflux(x,m,xmesh) = sum([bfluxarray[k](x,m,xmesh) for k=1:N])"
   ]
  },
  {
   "cell_type": "code",
   "execution_count": null,
   "id": "65ae2f8f",
   "metadata": {},
   "outputs": [],
   "source": [
    "bflux.(xmesh,Ref(m),Ref(xmesh)) ;"
   ]
  },
  {
   "cell_type": "code",
   "execution_count": null,
   "id": "e3dab2f1",
   "metadata": {},
   "outputs": [],
   "source": [
    "# fix first argument - define a trace function \n",
    "vpsampled = (m,xmesh) -> vptest.(xmesh,Ref(m),Ref(xmesh)) "
   ]
  },
  {
   "cell_type": "code",
   "execution_count": null,
   "id": "49dd579a",
   "metadata": {},
   "outputs": [],
   "source": [
    "# why ? \n",
    "vpsampled.(m,xmesh)"
   ]
  },
  {
   "cell_type": "code",
   "execution_count": null,
   "id": "ed9ac5f0",
   "metadata": {},
   "outputs": [],
   "source": []
  },
  {
   "cell_type": "code",
   "execution_count": null,
   "id": "463bf823",
   "metadata": {},
   "outputs": [],
   "source": []
  },
  {
   "cell_type": "code",
   "execution_count": null,
   "id": "8b59ee68",
   "metadata": {},
   "outputs": [],
   "source": [
    "bfluxsampled = (m,xmesh) -> bflux(xmesh,m,xmesh)"
   ]
  },
  {
   "cell_type": "code",
   "execution_count": null,
   "id": "77635adb",
   "metadata": {},
   "outputs": [],
   "source": [
    "bfluxsampled.(m,Ref(xmesh))"
   ]
  },
  {
   "cell_type": "code",
   "execution_count": null,
   "id": "dc409073",
   "metadata": {},
   "outputs": [],
   "source": [
    "bfluxgrad(m,xmesh) = ForwardDiff.jacobian(m->bfluxsampled(m,xmesh), m)"
   ]
  },
  {
   "cell_type": "code",
   "execution_count": null,
   "id": "f9759b7a",
   "metadata": {},
   "outputs": [],
   "source": [
    "bfluxgrad(m,xmesh)"
   ]
  },
  {
   "cell_type": "code",
   "execution_count": null,
   "id": "ea7064db",
   "metadata": {},
   "outputs": [],
   "source": [
    "# vparray[1].(xmesh,Ref(m),Ref(xmesh)) # works \n",
    "vparray[1].(Ref(xmesh),m,Ref(xmesh)) # fails - due to how QuadQK expects its inputs "
   ]
  },
  {
   "cell_type": "code",
   "execution_count": null,
   "id": "668c19d6",
   "metadata": {},
   "outputs": [],
   "source": [
    "magnsampled = magnetization.(xsampled,Ref(m),Ref(xmesh))\n",
    "plot(xsampled,magnsampled,xaxis=\"x (m)\",yaxis=\"M_z(x)\",label=\"Prescribed Magnetization\")"
   ]
  },
  {
   "cell_type": "code",
   "execution_count": null,
   "id": "e8c0a37f",
   "metadata": {},
   "outputs": [],
   "source": [
    "plot(xmesh,[vparray[k].(xmesh,Ref(m),Ref(xmesh)) for k=1:N],xaxis=\"x (m)\",yaxis=\"A_y(x)\",title=\"vp per element\")"
   ]
  },
  {
   "cell_type": "code",
   "execution_count": null,
   "id": "38d0d29f",
   "metadata": {},
   "outputs": [],
   "source": [
    "# evaluate vector potential as sum of contribution over N elements \n",
    "vparrayvec = sum([vparray[k].(xmesh,Ref(m),Ref(xmesh)) for k=1:N],dims=1)\n",
    "plot(xmesh,vparrayvec,xaxis=\"x (m)\",yaxis=\"A_y(x)\",title=\"vector potential component\")"
   ]
  },
  {
   "cell_type": "code",
   "execution_count": null,
   "id": "e157476f",
   "metadata": {},
   "outputs": [],
   "source": []
  },
  {
   "cell_type": "code",
   "execution_count": null,
   "id": "44a5f2b7",
   "metadata": {},
   "outputs": [],
   "source": [
    "bfluxarray[1](xmesh[1],m[1],xmesh[1])"
   ]
  },
  {
   "cell_type": "code",
   "execution_count": null,
   "id": "b0a1d8d3",
   "metadata": {},
   "outputs": [],
   "source": [
    "# evaluate magnetic flux as sum of contribution over N elements\n",
    "bfluxarrayvec = sum([bfluxarray[k].(xmesh,Ref(m),Ref(xmesh)) for k=1:N],dims=1)\n",
    "plot(xmesh,bfluxarrayvec,xaxis=\"x (m)\",yaxis=\"B_z(x)\",title=\"magnetic flux component\")"
   ]
  },
  {
   "cell_type": "markdown",
   "id": "961c7f6a",
   "metadata": {},
   "source": [
    "## Section 6: Implicit Construction: Magnetic Source Unknown - Vector Potential and Magnetic Flux Defined in Terms of Expansion of Numerical Approximation to Magnetization\n",
    "Creating a function mapping m to a vector-valued output is the <b>key</b> here. This function is the magnetic flux colllocated in the nodes of the mesh.  "
   ]
  },
  {
   "cell_type": "code",
   "execution_count": null,
   "id": "b5ff419f",
   "metadata": {},
   "outputs": [],
   "source": [
    "blabla = m->sum([bfluxarray[k](xmesh,m,xmesh) for k=1:N],dims=1)\n",
    "\n"
   ]
  },
  {
   "cell_type": "code",
   "execution_count": null,
   "id": "713bd5fb",
   "metadata": {},
   "outputs": [],
   "source": []
  },
  {
   "cell_type": "code",
   "execution_count": null,
   "id": "0c972691",
   "metadata": {},
   "outputs": [],
   "source": [
    "mm = ones(size(xmesh));"
   ]
  },
  {
   "cell_type": "code",
   "execution_count": null,
   "id": "2dbaff3d",
   "metadata": {},
   "outputs": [],
   "source": [
    "blabla(mm)"
   ]
  },
  {
   "cell_type": "code",
   "execution_count": null,
   "id": "256e3e29",
   "metadata": {},
   "outputs": [],
   "source": [
    "methods(bfluxarray[1])"
   ]
  },
  {
   "cell_type": "code",
   "execution_count": null,
   "id": "e6324055",
   "metadata": {},
   "outputs": [],
   "source": [
    "bfluxarray[1](0.1,0.1,0.1)"
   ]
  },
  {
   "cell_type": "code",
   "execution_count": null,
   "id": "d57c2774",
   "metadata": {},
   "outputs": [],
   "source": [
    "function bfluxarrayvec(m)\n",
    "    results = zeros(size(m))\n",
    "    N = length(m)-1 \n",
    "    for k=1:N \n",
    "       results +=  \n",
    "    end \n",
    "    return result\n",
    "    \n",
    "sum([bfluxarray[k].(xmesh,m,xmesh) for k=1:N],dims=1)"
   ]
  },
  {
   "cell_type": "code",
   "execution_count": null,
   "id": "92f1df33",
   "metadata": {},
   "outputs": [],
   "source": [
    "bfluxarrayvec2(mm)"
   ]
  },
  {
   "cell_type": "code",
   "execution_count": null,
   "id": "fda08ffd",
   "metadata": {},
   "outputs": [],
   "source": [
    "[bfluxarray[1](xi,mm,xi) for xi in xmesh]"
   ]
  },
  {
   "cell_type": "code",
   "execution_count": null,
   "id": "97f61b1e",
   "metadata": {},
   "outputs": [],
   "source": [
    "bfluxsamp(m) = sum([bfluxarray[k](xi,m,xi) for xi in xmesh for k=1:N])"
   ]
  },
  {
   "cell_type": "code",
   "execution_count": null,
   "id": "32a616d7",
   "metadata": {},
   "outputs": [],
   "source": [
    "# compute the Jacobian  \n",
    "mm = ones(size(xmesh))\n",
    "bfluxsamp(mm)\n",
    "##ForwardDiff.jacobian(bfluxsamp, mm) "
   ]
  },
  {
   "cell_type": "markdown",
   "id": "e201cc4c",
   "metadata": {},
   "source": [
    "## Section 7: Memory Allocation for Automatic Differentiation of Jacobian "
   ]
  },
  {
   "cell_type": "code",
   "execution_count": null,
   "id": "b12328b7",
   "metadata": {},
   "outputs": [],
   "source": [
    "M = @SVector([10.0, 0.0, 0.0])\n",
    "r = Vector([2.0, 1.0, 0.0]) \n",
    "y = Vector([0., 0., 0.])\n",
    "\n",
    "function f!(y, r, M)\n",
    "    y[1] = M * r[3]/norm(r)\n",
    "    y[2] = M * r[1]/norm(r)\n",
    "    y[3] = M * r[2]/norm(r)\n",
    "end\n",
    "\n",
    "function curl_of_function(f!, r)\n",
    "    out=zeros(3)\n",
    "    \n",
    "    config = ForwardDiff.JacobianConfig(f!, out, r, ForwardDiff.Chunk{3}())\n",
    "    Jac = Matrix{Float64}(undef, length(out), length(r))\n",
    "\n",
    "    ForwardDiff.jacobian!(Jac, f!, out, r, config)\n",
    "    curl_x = Jac[3,2] - Jac[2,3]\n",
    "    curl_y = Jac[1,3] - Jac[3,1]\n",
    "    curl_z = Jac[2,1] - Jac[1,2]\n",
    "    return @SVector[curl_x, curl_y, curl_z]\n",
    "end\n",
    "\n",
    "@btime curl_of_function(f!, [2.0, 1.0, 0.0])"
   ]
  },
  {
   "cell_type": "code",
   "execution_count": null,
   "id": "4f299c56",
   "metadata": {},
   "outputs": [],
   "source": [
    "y"
   ]
  },
  {
   "cell_type": "code",
   "execution_count": null,
   "id": "b0dd21e5",
   "metadata": {},
   "outputs": [],
   "source": [
    "f!(y,r,M)"
   ]
  },
  {
   "cell_type": "code",
   "execution_count": null,
   "id": "bc2e09a7",
   "metadata": {},
   "outputs": [],
   "source": [
    "function f(x,y,z, r)\n",
    "    r_prime = [x,y,z]\n",
    "    #r_prime = [x,y,z]\n",
    "    return (r - r_prime)/norm(r - r_prime)\n",
    "end"
   ]
  },
  {
   "cell_type": "code",
   "execution_count": null,
   "id": "00782466",
   "metadata": {},
   "outputs": [],
   "source": [
    "g(x,y,r) = quadgk(z -> f(x, y, z, r), 0, 1)[1]\n",
    "h(x, r) = quadgk(y -> g(x, y, r), 0, 1)[1]\n",
    "l(r) =  quadgk(x -> h(x, r), 0, 1)[1]"
   ]
  },
  {
   "cell_type": "code",
   "execution_count": null,
   "id": "a95a6f8e",
   "metadata": {},
   "outputs": [],
   "source": [
    "function curl_of_integral(f, r)\n",
    "\n",
    "    out=zeros(3)\n",
    "    \n",
    "    config = ForwardDiff.JacobianConfig(l_wrapper!, out, r, ForwardDiff.Chunk{1}())\n",
    "    Jac = Matrix{Float64}(undef, length(out), length(r))\n",
    "    \n",
    "    @btime ForwardDiff.jacobian!(l_wrapper!, r, $config)\n",
    "    \n",
    "    curl_x = Jac[3,2] - Jac[2,3]\n",
    "    curl_y = Jac[1,3] - Jac[3,1]\n",
    "    curl_z = Jac[2,1] - Jac[1,2]\n",
    "    \n",
    "    return [curl_x, curl_y, curl_z]\n",
    "end     "
   ]
  },
  {
   "cell_type": "code",
   "execution_count": null,
   "id": "e036417a",
   "metadata": {},
   "outputs": [],
   "source": [
    "curl_of_integral(f, [2.0, 1.0, 0.0])"
   ]
  },
  {
   "cell_type": "code",
   "execution_count": null,
   "id": "056dadce",
   "metadata": {},
   "outputs": [],
   "source": []
  }
 ],
 "metadata": {
  "kernelspec": {
   "display_name": "Julia 1.8.1",
   "language": "julia",
   "name": "julia-1.8"
  },
  "language_info": {
   "file_extension": ".jl",
   "mimetype": "application/julia",
   "name": "julia",
   "version": "1.8.1"
  }
 },
 "nbformat": 4,
 "nbformat_minor": 5
}
