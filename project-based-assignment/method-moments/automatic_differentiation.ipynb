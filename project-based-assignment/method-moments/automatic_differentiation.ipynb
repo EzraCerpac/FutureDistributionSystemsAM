{
 "cells": [
  {
   "cell_type": "markdown",
   "id": "202e9b31",
   "metadata": {},
   "source": [
    "# Constructing the Method of Moment Matrix\n",
    "# by Allowing ForwardDiff to Operate on QuadGK Output "
   ]
  },
  {
   "cell_type": "markdown",
   "id": "6528034e",
   "metadata": {},
   "source": [
    "## Import Packages"
   ]
  },
  {
   "cell_type": "code",
   "execution_count": 2,
   "id": "92372490",
   "metadata": {},
   "outputs": [],
   "source": [
    "using ForwardDiff\n",
    "using QuadGK\n",
    "using Plots "
   ]
  },
  {
   "cell_type": "markdown",
   "id": "23d4a990",
   "metadata": {},
   "source": [
    "## Section 1: Introduction \n",
    "<b>Motivation</b> We wish to generate the MoM matrix as the linear transformation matrix (sensitivity matrix, input-output matrix) mapping magnetization vector $\\vec{M}(\\vec{x})$ to the magnetic flux vector $\\vec{B}(\\vec{x})$ after spatial discretization (need to include magnetic field $\\vec{H}(\\vec{x})$). More precisely, we wish to develop a procedure that after spatial discretization (on a FEM mesh) goes through the following two steps: \n",
    "1. apply (adaptive) quadrature (including handling of singular integrals) to map $\\vec{M}(\\vec{x})$ to magnetic vector potential $\\vec{A}(\\vec{x})$;\n",
    "2. apply automatic differentiation to differentiate the magnetic flux $\\vec{B}(\\vec{x}) = \\vec{B}(\\vec{A}(\\vec{M})))$ wrt to $\\vec{M}$ to obtain the MoM matrix;\n",
    "\n",
    "More details of both steps will be outlined below. These steps focuss on the <b>generation</b> MoM matrix. Solving of the linear system with the MoM will be discussed elsewhere. \n",
    "\n",
    "<b>Potential Gains</b> We perceive the following gains \n",
    "1. allow automatic differentiation to perform half the work (do we need to pay a price (toll) later?); \n",
    "2. preserve order of computations as the math reads, i.e., first integration of the source domain, then differentiate in the destination variables. Code thus easier to read and maintain?;\n",
    "3. avoid differentiating the integral, thus avoid increasing the singularity of the integrand? \n",
    "4. avoid splitting integral as a sum of multiple integrals; \n",
    "5. avoid replacing volume integrals $dx'\\,dy'\\,dz'$ over elements $e_k$ in the finite element mesh as sum of integrsals over faces of $e_k$ (how to compute singular integrals over tetrahedra?);  \n",
    "6. show-case distinct use of multiple dispatch allowing to compose two Julia packages (cfr. earlier case of combined used of interval arithmetic and ODE solver by Chris Raukaucas);  \n",
    "\n",
    "<b>Assumptions Made</b> We assume that \n",
    "1. the eventual computational overhead of adaptive quadrature (for singular intregrals on tetrahedra) can be amortized by thread-parallel computations (as shown earlier by the heroin in this project);\n",
    "2. residual weighting of the MoM equations (weak or variational formulations) occurs using Dirac delta (pulse) functions (distribution). Residual weighting thus reduces to point matching; \n",
    "\n",
    "<b>Problem Description</b> More here. \n",
    "\n",
    "<b>One-Dimensional Case</b> In one spatial dimension ($x$-only), the vector valued problem reduces to a scalar problem. Given the magnitization vector $\\vec{M}(\\vec{x}) = (0,0,M_z(x))$, we wish to compute \n",
    "1. the magnetic vector potential $\\vec{A}(\\vec{x}) = (0,A_y(x),0)$ where \n",
    "$A_y(x) = \\frac{\\mu_0}{4 \\pi} \\int_a^b \\frac{M_z(x) \\, (x-x')}{|x-x'|^3} \\, dx'$ using quadrature implemented in QuadGK.jl; \n",
    "2. the magnetic flux $\\vec{B}(\\vec{x}) = (0,0,B_z(x))$ where $B_z(x) = - \\frac{\\partial A_y(x)}{\\partial x}$ using automatic differentiation implemented in ForwardDiff.jl;  \n",
    "\n",
    "<b>Spatial Discretization of the One-Dimensional Case</b> Introduce computational mesh $\\Omega^h$ of $N$ elements $e_k = [x_k, x_{k+1}]$ and $N+1$ nodes $x_i$ on the domain of computation $\\Omega$. On $e_k$ linear nodal shape function $\\phi_i(x)$ can be defined. Express numerical approximation to $M_z(x)$ as $M^h_z(x) = \\sum_i m_i \\, \\phi_i(x)$. Denote $\\vec{m}$ the (N+1)-dimensional vector (one per node) of the mesh. Replacing $M_z(x)$ as $M^h_z(x)$ in the expression for $A_y(x)$ yields $A^h_y(x)$. The evaluation of $A^h_y(x)$ in the nodes $x_i$ yields a (N+1)-dimensional vector $\\vec{a}$. This vector depends on $\\vec{m}$. We thus write $\\vec{a}(\\vec{m})$. Given its importance in later discussions, we emphasize the point by formulating $\\vec{a}$ as a mapping from $R^{N+1}$ to $R^{N+1}$ mapping $\\vec{m}$ to $\\vec{a}(\\vec{m})$. A similar discourse holds for $B_z(x)$ by first differentiating $A^h_y(x)$ wrt to $x$ and then point-evaluation (order obviously matters here). We again obtain a mapping from $R^{N+1}$ to $R^{N+1}$ mapping $\\vec{m}$ this time to $\\vec{b}[\\vec{a}(\\vec{m})]$. The Jacobian of this mapping wrt $\\vec{m}$ is the much desired $(N+1)-by-(N+1)$ MoM matrix.   \n",
    "\n",
    "<b>Three-Dimensional Mesh Generation</b> To be discussed.\n",
    "\n",
    "<b>Spatial Discretization of the Three-Dimensional Case</b> To be discussed. \n",
    "\n",
    "<b>Julia Packages Used</b>\n",
    "We will use the following two packages: \n",
    "1. [QuadGK.jl](https://juliamath.github.io/QuadGK.jl/stable/) for adaptive quadrature (requires context on quadrature on meshesw in Julia - ask our heroin for first draft); \n",
    "2. [ForwardDiff.jl](https://juliadiff.org/ForwardDiff.jl/stable/) for automatic differentiation (requires context on automatic differentiation in Julia - ask our heroin for first draft); \n",
    "\n",
    "The magic resides in the multiple dispatch that allows to chain QuadGK.jl and ForwardDiff.jl.\n",
    "\n",
    "<b>Notation</b> In the following xp stands for xprime.\n",
    "\n"
   ]
  },
  {
   "cell_type": "markdown",
   "id": "970560cf",
   "metadata": {},
   "source": [
    "## Section 2: QuadQK, ForwardDiff and Their Combined Use "
   ]
  },
  {
   "cell_type": "markdown",
   "id": "889a115b",
   "metadata": {},
   "source": [
    "### Section 1.2: Examples of QuadQK \n",
    "Small example of QuadQK. Singular integrals on purpose avoided (see next Section). Outputs integral value and error. Morer later (amount of function evaluations). "
   ]
  },
  {
   "cell_type": "code",
   "execution_count": 8,
   "id": "a66d19b7",
   "metadata": {},
   "outputs": [
    {
     "data": {
      "text/plain": [
       "(0.3333333333333333, 0.0)"
      ]
     },
     "execution_count": 8,
     "metadata": {},
     "output_type": "execute_result"
    }
   ],
   "source": [
    "# define single input integrand\n",
    "integrand(x) = x^2 \n",
    "\n",
    "I = quadgk(x -> integrand(x), 0, 1)"
   ]
  },
  {
   "cell_type": "markdown",
   "id": "f6a1bc00",
   "metadata": {},
   "source": [
    "### Section 2.2: Examples of ForwardDiff  \n",
    "Small examples of ForwardDiff. More later (Jacobian and preallocating memory for dense Jacobian). "
   ]
  },
  {
   "cell_type": "code",
   "execution_count": 9,
   "id": "e0ff66d4",
   "metadata": {},
   "outputs": [
    {
     "data": {
      "text/plain": [
       "3"
      ]
     },
     "execution_count": 9,
     "metadata": {},
     "output_type": "execute_result"
    }
   ],
   "source": [
    "ForwardDiff.derivative(x -> x^3, 1)"
   ]
  },
  {
   "cell_type": "markdown",
   "id": "e2a90c14",
   "metadata": {},
   "source": [
    "### Sectiion 3.2: Example of Derivate of an Integral \n",
    "Small example of derivative of an integral. More later. "
   ]
  },
  {
   "cell_type": "code",
   "execution_count": 10,
   "id": "458796f0",
   "metadata": {},
   "outputs": [
    {
     "data": {
      "text/plain": [
       "1.0"
      ]
     },
     "execution_count": 10,
     "metadata": {},
     "output_type": "execute_result"
    }
   ],
   "source": [
    "# define two input integrand\n",
    "integrand(x,xp) = x - xp\n",
    "\n",
    "# compute integral by quadrature over second input - results in u(x) = x - 0.5\n",
    "u(x) = quadgk(xp -> integrand(x,xp), 0, 1)\n",
    "\n",
    "# compute derivative - should result in du/dx = 1\n",
    "ForwardDiff.derivative(x -> u(x)[1], 1)"
   ]
  },
  {
   "cell_type": "markdown",
   "id": "b9a19e33",
   "metadata": {},
   "source": [
    "## Section 3: QuadQK for Singular Integrals  \n",
    "See [QuadQK.jl](https://juliamath.github.io/QuadGK.jl/stable/). "
   ]
  },
  {
   "cell_type": "markdown",
   "id": "a51eeeff",
   "metadata": {},
   "source": [
    "## Section 4: Explicit (or Direct) Construction - Assume Magnetic Sources Known - Compute Magnetic Flux  "
   ]
  },
  {
   "cell_type": "markdown",
   "id": "e9757eb5",
   "metadata": {},
   "source": [
    "### Section 1.4: Synthetic Example Showing the Derivate of an Integral \n",
    "The following example was constructed to allow a closed-form analytical solution. "
   ]
  },
  {
   "cell_type": "code",
   "execution_count": 44,
   "id": "dfa96b77",
   "metadata": {},
   "outputs": [
    {
     "data": {
      "text/plain": [
       "1.0"
      ]
     },
     "execution_count": 44,
     "metadata": {},
     "output_type": "execute_result"
    }
   ],
   "source": []
  },
  {
   "cell_type": "markdown",
   "id": "0fcbc3d3",
   "metadata": {},
   "source": [
    "### Section 2.4: Synthetic Example Showing What Goes in Case of Singular Kernels \n",
    "The following exanmple was constructed to illustrate difficulties with singular kernels. "
   ]
  },
  {
   "cell_type": "code",
   "execution_count": 83,
   "id": "c73590b7",
   "metadata": {},
   "outputs": [
    {
     "data": {
      "text/plain": [
       "-9.514789506324105e7"
      ]
     },
     "execution_count": 83,
     "metadata": {},
     "output_type": "execute_result"
    }
   ],
   "source": [
    "# define two input integrand\n",
    "integrand(x,xp) = (x-xp)/abs(x - xp)^1.5\n",
    "\n",
    "# compute integral by quadrature over second input - results in u(x) = x - 0.5\n",
    "u(x) = quadgk(xp -> integrand(x,xp), 0, 1)\n",
    "\n",
    "# compute derivative - should result in du/dx = 1\n",
    "ForwardDiff.derivative(x -> u(x)[1], 1)"
   ]
  },
  {
   "cell_type": "markdown",
   "id": "f87c1aca",
   "metadata": {},
   "source": [
    "### Section 3.4: Assume $M_z(x) = 1$ between $x=0.4$ and $x=0.6$"
   ]
  },
  {
   "cell_type": "code",
   "execution_count": 84,
   "id": "89c2053d",
   "metadata": {},
   "outputs": [],
   "source": [
    "# define two input integrand\n",
    "aa = 0.4; bb = 0.6; \n",
    "vpdens(x,xp) = ((x>aa)*(x<bb))*(x-xp)/abs(x - xp)^1.5\n",
    "\n",
    "N = 100; h = 1/N; Np1 = N+1; \n",
    "xs = Vector(0:h:1)\n",
    "\n",
    "# compute integral by quadrature over second input \n",
    "vpp = Array{Function}(undef, N-1)\n",
    "for i =1:N-1\n",
    "   vpp[i] = x -> quadgk(xp -> vpdens(x,xp), xs[i], xs[i+1])[1]\n",
    "end \n",
    "\n",
    "# compute derivative \n",
    "#b(x) = ForwardDiff.derivative(x -> vpp[1](x)[1])"
   ]
  },
  {
   "cell_type": "code",
   "execution_count": 85,
   "id": "9054ddfb",
   "metadata": {},
   "outputs": [
    {
     "data": {
      "image/svg+xml": [
       "<?xml version=\"1.0\" encoding=\"utf-8\"?>\n",
       "<svg xmlns=\"http://www.w3.org/2000/svg\" xmlns:xlink=\"http://www.w3.org/1999/xlink\" width=\"600\" height=\"400\" viewBox=\"0 0 2400 1600\">\n",
       "<defs>\n",
       "  <clipPath id=\"clip900\">\n",
       "    <rect x=\"0\" y=\"0\" width=\"2400\" height=\"1600\"/>\n",
       "  </clipPath>\n",
       "</defs>\n",
       "<path clip-path=\"url(#clip900)\" d=\"M0 1600 L2400 1600 L2400 0 L0 0  Z\" fill=\"#ffffff\" fill-rule=\"evenodd\" fill-opacity=\"1\"/>\n",
       "<defs>\n",
       "  <clipPath id=\"clip901\">\n",
       "    <rect x=\"480\" y=\"0\" width=\"1681\" height=\"1600\"/>\n",
       "  </clipPath>\n",
       "</defs>\n",
       "<path clip-path=\"url(#clip900)\" d=\"M224.098 1486.45 L2352.76 1486.45 L2352.76 47.2441 L224.098 47.2441  Z\" fill=\"#ffffff\" fill-rule=\"evenodd\" fill-opacity=\"1\"/>\n",
       "<defs>\n",
       "  <clipPath id=\"clip902\">\n",
       "    <rect x=\"224\" y=\"47\" width=\"2130\" height=\"1440\"/>\n",
       "  </clipPath>\n",
       "</defs>\n",
       "<polyline clip-path=\"url(#clip902)\" style=\"stroke:#000000; stroke-linecap:round; stroke-linejoin:round; stroke-width:2; stroke-opacity:0.1; fill:none\" points=\"263.851,1486.45 263.851,47.2441 \"/>\n",
       "<polyline clip-path=\"url(#clip902)\" style=\"stroke:#000000; stroke-linecap:round; stroke-linejoin:round; stroke-width:2; stroke-opacity:0.1; fill:none\" points=\"776.139,1486.45 776.139,47.2441 \"/>\n",
       "<polyline clip-path=\"url(#clip902)\" style=\"stroke:#000000; stroke-linecap:round; stroke-linejoin:round; stroke-width:2; stroke-opacity:0.1; fill:none\" points=\"1288.43,1486.45 1288.43,47.2441 \"/>\n",
       "<polyline clip-path=\"url(#clip902)\" style=\"stroke:#000000; stroke-linecap:round; stroke-linejoin:round; stroke-width:2; stroke-opacity:0.1; fill:none\" points=\"1800.71,1486.45 1800.71,47.2441 \"/>\n",
       "<polyline clip-path=\"url(#clip902)\" style=\"stroke:#000000; stroke-linecap:round; stroke-linejoin:round; stroke-width:2; stroke-opacity:0.1; fill:none\" points=\"2313,1486.45 2313,47.2441 \"/>\n",
       "<polyline clip-path=\"url(#clip900)\" style=\"stroke:#000000; stroke-linecap:round; stroke-linejoin:round; stroke-width:4; stroke-opacity:1; fill:none\" points=\"224.098,1486.45 2352.76,1486.45 \"/>\n",
       "<polyline clip-path=\"url(#clip900)\" style=\"stroke:#000000; stroke-linecap:round; stroke-linejoin:round; stroke-width:4; stroke-opacity:1; fill:none\" points=\"263.851,1486.45 263.851,1467.55 \"/>\n",
       "<polyline clip-path=\"url(#clip900)\" style=\"stroke:#000000; stroke-linecap:round; stroke-linejoin:round; stroke-width:4; stroke-opacity:1; fill:none\" points=\"776.139,1486.45 776.139,1467.55 \"/>\n",
       "<polyline clip-path=\"url(#clip900)\" style=\"stroke:#000000; stroke-linecap:round; stroke-linejoin:round; stroke-width:4; stroke-opacity:1; fill:none\" points=\"1288.43,1486.45 1288.43,1467.55 \"/>\n",
       "<polyline clip-path=\"url(#clip900)\" style=\"stroke:#000000; stroke-linecap:round; stroke-linejoin:round; stroke-width:4; stroke-opacity:1; fill:none\" points=\"1800.71,1486.45 1800.71,1467.55 \"/>\n",
       "<polyline clip-path=\"url(#clip900)\" style=\"stroke:#000000; stroke-linecap:round; stroke-linejoin:round; stroke-width:4; stroke-opacity:1; fill:none\" points=\"2313,1486.45 2313,1467.55 \"/>\n",
       "<path clip-path=\"url(#clip900)\" d=\"M263.851 1517.37 Q260.24 1517.37 258.412 1520.93 Q256.606 1524.47 256.606 1531.6 Q256.606 1538.71 258.412 1542.27 Q260.24 1545.82 263.851 1545.82 Q267.486 1545.82 269.291 1542.27 Q271.12 1538.71 271.12 1531.6 Q271.12 1524.47 269.291 1520.93 Q267.486 1517.37 263.851 1517.37 M263.851 1513.66 Q269.662 1513.66 272.717 1518.27 Q275.796 1522.85 275.796 1531.6 Q275.796 1540.33 272.717 1544.94 Q269.662 1549.52 263.851 1549.52 Q258.041 1549.52 254.963 1544.94 Q251.907 1540.33 251.907 1531.6 Q251.907 1522.85 254.963 1518.27 Q258.041 1513.66 263.851 1513.66 Z\" fill=\"#000000\" fill-rule=\"nonzero\" fill-opacity=\"1\" /><path clip-path=\"url(#clip900)\" d=\"M755.41 1544.91 L771.729 1544.91 L771.729 1548.85 L749.785 1548.85 L749.785 1544.91 Q752.447 1542.16 757.03 1537.53 Q761.637 1532.88 762.817 1531.53 Q765.063 1529.01 765.942 1527.27 Q766.845 1525.51 766.845 1523.82 Q766.845 1521.07 764.901 1519.33 Q762.979 1517.6 759.878 1517.6 Q757.679 1517.6 755.225 1518.36 Q752.794 1519.13 750.017 1520.68 L750.017 1515.95 Q752.841 1514.82 755.294 1514.24 Q757.748 1513.66 759.785 1513.66 Q765.155 1513.66 768.35 1516.35 Q771.544 1519.03 771.544 1523.52 Q771.544 1525.65 770.734 1527.57 Q769.947 1529.47 767.841 1532.07 Q767.262 1532.74 764.16 1535.95 Q761.058 1539.15 755.41 1544.91 Z\" fill=\"#000000\" fill-rule=\"nonzero\" fill-opacity=\"1\" /><path clip-path=\"url(#clip900)\" d=\"M781.591 1514.29 L799.947 1514.29 L799.947 1518.22 L785.873 1518.22 L785.873 1526.7 Q786.891 1526.35 787.91 1526.19 Q788.928 1526 789.947 1526 Q795.734 1526 799.114 1529.17 Q802.493 1532.34 802.493 1537.76 Q802.493 1543.34 799.021 1546.44 Q795.549 1549.52 789.229 1549.52 Q787.053 1549.52 784.785 1549.15 Q782.54 1548.78 780.132 1548.04 L780.132 1543.34 Q782.216 1544.47 784.438 1545.03 Q786.66 1545.58 789.137 1545.58 Q793.141 1545.58 795.479 1543.48 Q797.817 1541.37 797.817 1537.76 Q797.817 1534.15 795.479 1532.04 Q793.141 1529.94 789.137 1529.94 Q787.262 1529.94 785.387 1530.35 Q783.535 1530.77 781.591 1531.65 L781.591 1514.29 Z\" fill=\"#000000\" fill-rule=\"nonzero\" fill-opacity=\"1\" /><path clip-path=\"url(#clip900)\" d=\"M1263.13 1514.29 L1281.48 1514.29 L1281.48 1518.22 L1267.41 1518.22 L1267.41 1526.7 Q1268.43 1526.35 1269.45 1526.19 Q1270.46 1526 1271.48 1526 Q1277.27 1526 1280.65 1529.17 Q1284.03 1532.34 1284.03 1537.76 Q1284.03 1543.34 1280.56 1546.44 Q1277.08 1549.52 1270.76 1549.52 Q1268.59 1549.52 1266.32 1549.15 Q1264.08 1548.78 1261.67 1548.04 L1261.67 1543.34 Q1263.75 1544.47 1265.97 1545.03 Q1268.2 1545.58 1270.67 1545.58 Q1274.68 1545.58 1277.01 1543.48 Q1279.35 1541.37 1279.35 1537.76 Q1279.35 1534.15 1277.01 1532.04 Q1274.68 1529.94 1270.67 1529.94 Q1268.8 1529.94 1266.92 1530.35 Q1265.07 1530.77 1263.13 1531.65 L1263.13 1514.29 Z\" fill=\"#000000\" fill-rule=\"nonzero\" fill-opacity=\"1\" /><path clip-path=\"url(#clip900)\" d=\"M1303.24 1517.37 Q1299.63 1517.37 1297.8 1520.93 Q1296 1524.47 1296 1531.6 Q1296 1538.71 1297.8 1542.27 Q1299.63 1545.82 1303.24 1545.82 Q1306.88 1545.82 1308.68 1542.27 Q1310.51 1538.71 1310.51 1531.6 Q1310.51 1524.47 1308.68 1520.93 Q1306.88 1517.37 1303.24 1517.37 M1303.24 1513.66 Q1309.05 1513.66 1312.11 1518.27 Q1315.19 1522.85 1315.19 1531.6 Q1315.19 1540.33 1312.11 1544.94 Q1309.05 1549.52 1303.24 1549.52 Q1297.43 1549.52 1294.35 1544.94 Q1291.3 1540.33 1291.3 1531.6 Q1291.3 1522.85 1294.35 1518.27 Q1297.43 1513.66 1303.24 1513.66 Z\" fill=\"#000000\" fill-rule=\"nonzero\" fill-opacity=\"1\" /><path clip-path=\"url(#clip900)\" d=\"M1774.57 1514.29 L1796.79 1514.29 L1796.79 1516.28 L1784.24 1548.85 L1779.36 1548.85 L1791.17 1518.22 L1774.57 1518.22 L1774.57 1514.29 Z\" fill=\"#000000\" fill-rule=\"nonzero\" fill-opacity=\"1\" /><path clip-path=\"url(#clip900)\" d=\"M1805.96 1514.29 L1824.31 1514.29 L1824.31 1518.22 L1810.24 1518.22 L1810.24 1526.7 Q1811.26 1526.35 1812.28 1526.19 Q1813.3 1526 1814.31 1526 Q1820.1 1526 1823.48 1529.17 Q1826.86 1532.34 1826.86 1537.76 Q1826.86 1543.34 1823.39 1546.44 Q1819.92 1549.52 1813.6 1549.52 Q1811.42 1549.52 1809.15 1549.15 Q1806.91 1548.78 1804.5 1548.04 L1804.5 1543.34 Q1806.58 1544.47 1808.8 1545.03 Q1811.03 1545.58 1813.5 1545.58 Q1817.51 1545.58 1819.85 1543.48 Q1822.18 1541.37 1822.18 1537.76 Q1822.18 1534.15 1819.85 1532.04 Q1817.51 1529.94 1813.5 1529.94 Q1811.63 1529.94 1809.75 1530.35 Q1807.9 1530.77 1805.96 1531.65 L1805.96 1514.29 Z\" fill=\"#000000\" fill-rule=\"nonzero\" fill-opacity=\"1\" /><path clip-path=\"url(#clip900)\" d=\"M2272.61 1544.91 L2280.25 1544.91 L2280.25 1518.55 L2271.94 1520.21 L2271.94 1515.95 L2280.2 1514.29 L2284.88 1514.29 L2284.88 1544.91 L2292.52 1544.91 L2292.52 1548.85 L2272.61 1548.85 L2272.61 1544.91 Z\" fill=\"#000000\" fill-rule=\"nonzero\" fill-opacity=\"1\" /><path clip-path=\"url(#clip900)\" d=\"M2311.96 1517.37 Q2308.35 1517.37 2306.52 1520.93 Q2304.72 1524.47 2304.72 1531.6 Q2304.72 1538.71 2306.52 1542.27 Q2308.35 1545.82 2311.96 1545.82 Q2315.59 1545.82 2317.4 1542.27 Q2319.23 1538.71 2319.23 1531.6 Q2319.23 1524.47 2317.4 1520.93 Q2315.59 1517.37 2311.96 1517.37 M2311.96 1513.66 Q2317.77 1513.66 2320.83 1518.27 Q2323.91 1522.85 2323.91 1531.6 Q2323.91 1540.33 2320.83 1544.94 Q2317.77 1549.52 2311.96 1549.52 Q2306.15 1549.52 2303.07 1544.94 Q2300.02 1540.33 2300.02 1531.6 Q2300.02 1522.85 2303.07 1518.27 Q2306.15 1513.66 2311.96 1513.66 Z\" fill=\"#000000\" fill-rule=\"nonzero\" fill-opacity=\"1\" /><path clip-path=\"url(#clip900)\" d=\"M2342.12 1517.37 Q2338.51 1517.37 2336.68 1520.93 Q2334.88 1524.47 2334.88 1531.6 Q2334.88 1538.71 2336.68 1542.27 Q2338.51 1545.82 2342.12 1545.82 Q2345.76 1545.82 2347.56 1542.27 Q2349.39 1538.71 2349.39 1531.6 Q2349.39 1524.47 2347.56 1520.93 Q2345.76 1517.37 2342.12 1517.37 M2342.12 1513.66 Q2347.93 1513.66 2350.99 1518.27 Q2354.07 1522.85 2354.07 1531.6 Q2354.07 1540.33 2350.99 1544.94 Q2347.93 1549.52 2342.12 1549.52 Q2336.31 1549.52 2333.23 1544.94 Q2330.18 1540.33 2330.18 1531.6 Q2330.18 1522.85 2333.23 1518.27 Q2336.31 1513.66 2342.12 1513.66 Z\" fill=\"#000000\" fill-rule=\"nonzero\" fill-opacity=\"1\" /><polyline clip-path=\"url(#clip902)\" style=\"stroke:#000000; stroke-linecap:round; stroke-linejoin:round; stroke-width:2; stroke-opacity:0.1; fill:none\" points=\"224.098,1350.88 2352.76,1350.88 \"/>\n",
       "<polyline clip-path=\"url(#clip902)\" style=\"stroke:#000000; stroke-linecap:round; stroke-linejoin:round; stroke-width:2; stroke-opacity:0.1; fill:none\" points=\"224.098,1156.2 2352.76,1156.2 \"/>\n",
       "<polyline clip-path=\"url(#clip902)\" style=\"stroke:#000000; stroke-linecap:round; stroke-linejoin:round; stroke-width:2; stroke-opacity:0.1; fill:none\" points=\"224.098,961.525 2352.76,961.525 \"/>\n",
       "<polyline clip-path=\"url(#clip902)\" style=\"stroke:#000000; stroke-linecap:round; stroke-linejoin:round; stroke-width:2; stroke-opacity:0.1; fill:none\" points=\"224.098,766.846 2352.76,766.846 \"/>\n",
       "<polyline clip-path=\"url(#clip902)\" style=\"stroke:#000000; stroke-linecap:round; stroke-linejoin:round; stroke-width:2; stroke-opacity:0.1; fill:none\" points=\"224.098,572.167 2352.76,572.167 \"/>\n",
       "<polyline clip-path=\"url(#clip902)\" style=\"stroke:#000000; stroke-linecap:round; stroke-linejoin:round; stroke-width:2; stroke-opacity:0.1; fill:none\" points=\"224.098,377.488 2352.76,377.488 \"/>\n",
       "<polyline clip-path=\"url(#clip902)\" style=\"stroke:#000000; stroke-linecap:round; stroke-linejoin:round; stroke-width:2; stroke-opacity:0.1; fill:none\" points=\"224.098,182.808 2352.76,182.808 \"/>\n",
       "<polyline clip-path=\"url(#clip900)\" style=\"stroke:#000000; stroke-linecap:round; stroke-linejoin:round; stroke-width:4; stroke-opacity:1; fill:none\" points=\"224.098,1486.45 224.098,47.2441 \"/>\n",
       "<polyline clip-path=\"url(#clip900)\" style=\"stroke:#000000; stroke-linecap:round; stroke-linejoin:round; stroke-width:4; stroke-opacity:1; fill:none\" points=\"224.098,1350.88 242.996,1350.88 \"/>\n",
       "<polyline clip-path=\"url(#clip900)\" style=\"stroke:#000000; stroke-linecap:round; stroke-linejoin:round; stroke-width:4; stroke-opacity:1; fill:none\" points=\"224.098,1156.2 242.996,1156.2 \"/>\n",
       "<polyline clip-path=\"url(#clip900)\" style=\"stroke:#000000; stroke-linecap:round; stroke-linejoin:round; stroke-width:4; stroke-opacity:1; fill:none\" points=\"224.098,961.525 242.996,961.525 \"/>\n",
       "<polyline clip-path=\"url(#clip900)\" style=\"stroke:#000000; stroke-linecap:round; stroke-linejoin:round; stroke-width:4; stroke-opacity:1; fill:none\" points=\"224.098,766.846 242.996,766.846 \"/>\n",
       "<polyline clip-path=\"url(#clip900)\" style=\"stroke:#000000; stroke-linecap:round; stroke-linejoin:round; stroke-width:4; stroke-opacity:1; fill:none\" points=\"224.098,572.167 242.996,572.167 \"/>\n",
       "<polyline clip-path=\"url(#clip900)\" style=\"stroke:#000000; stroke-linecap:round; stroke-linejoin:round; stroke-width:4; stroke-opacity:1; fill:none\" points=\"224.098,377.488 242.996,377.488 \"/>\n",
       "<polyline clip-path=\"url(#clip900)\" style=\"stroke:#000000; stroke-linecap:round; stroke-linejoin:round; stroke-width:4; stroke-opacity:1; fill:none\" points=\"224.098,182.808 242.996,182.808 \"/>\n",
       "<path clip-path=\"url(#clip900)\" d=\"M51.9875 1351.34 L81.6633 1351.34 L81.6633 1355.27 L51.9875 1355.27 L51.9875 1351.34 Z\" fill=\"#000000\" fill-rule=\"nonzero\" fill-opacity=\"1\" /><path clip-path=\"url(#clip900)\" d=\"M101.756 1336.68 Q98.1447 1336.68 96.316 1340.25 Q94.5104 1343.79 94.5104 1350.92 Q94.5104 1358.02 96.316 1361.59 Q98.1447 1365.13 101.756 1365.13 Q105.39 1365.13 107.196 1361.59 Q109.024 1358.02 109.024 1350.92 Q109.024 1343.79 107.196 1340.25 Q105.39 1336.68 101.756 1336.68 M101.756 1332.98 Q107.566 1332.98 110.621 1337.59 Q113.7 1342.17 113.7 1350.92 Q113.7 1359.65 110.621 1364.25 Q107.566 1368.84 101.756 1368.84 Q95.9456 1368.84 92.8669 1364.25 Q89.8114 1359.65 89.8114 1350.92 Q89.8114 1342.17 92.8669 1337.59 Q95.9456 1332.98 101.756 1332.98 Z\" fill=\"#000000\" fill-rule=\"nonzero\" fill-opacity=\"1\" /><path clip-path=\"url(#clip900)\" d=\"M121.918 1362.28 L126.802 1362.28 L126.802 1368.16 L121.918 1368.16 L121.918 1362.28 Z\" fill=\"#000000\" fill-rule=\"nonzero\" fill-opacity=\"1\" /><path clip-path=\"url(#clip900)\" d=\"M135.806 1333.6 L158.029 1333.6 L158.029 1335.59 L145.482 1368.16 L140.598 1368.16 L152.404 1337.54 L135.806 1337.54 L135.806 1333.6 Z\" fill=\"#000000\" fill-rule=\"nonzero\" fill-opacity=\"1\" /><path clip-path=\"url(#clip900)\" d=\"M167.195 1333.6 L185.552 1333.6 L185.552 1337.54 L171.478 1337.54 L171.478 1346.01 Q172.496 1345.66 173.515 1345.5 Q174.533 1345.32 175.552 1345.32 Q181.339 1345.32 184.718 1348.49 Q188.098 1351.66 188.098 1357.08 Q188.098 1362.65 184.626 1365.76 Q181.153 1368.84 174.834 1368.84 Q172.658 1368.84 170.39 1368.46 Q168.144 1368.09 165.737 1367.35 L165.737 1362.65 Q167.82 1363.79 170.042 1364.34 Q172.265 1364.9 174.741 1364.9 Q178.746 1364.9 181.084 1362.79 Q183.422 1360.69 183.422 1357.08 Q183.422 1353.46 181.084 1351.36 Q178.746 1349.25 174.741 1349.25 Q172.866 1349.25 170.991 1349.67 Q169.14 1350.09 167.195 1350.96 L167.195 1333.6 Z\" fill=\"#000000\" fill-rule=\"nonzero\" fill-opacity=\"1\" /><path clip-path=\"url(#clip900)\" d=\"M50.9921 1156.66 L80.6679 1156.66 L80.6679 1160.59 L50.9921 1160.59 L50.9921 1156.66 Z\" fill=\"#000000\" fill-rule=\"nonzero\" fill-opacity=\"1\" /><path clip-path=\"url(#clip900)\" d=\"M100.76 1142 Q97.1493 1142 95.3206 1145.57 Q93.515 1149.11 93.515 1156.24 Q93.515 1163.35 95.3206 1166.91 Q97.1493 1170.45 100.76 1170.45 Q104.395 1170.45 106.2 1166.91 Q108.029 1163.35 108.029 1156.24 Q108.029 1149.11 106.2 1145.57 Q104.395 1142 100.76 1142 M100.76 1138.3 Q106.571 1138.3 109.626 1142.91 Q112.705 1147.49 112.705 1156.24 Q112.705 1164.97 109.626 1169.57 Q106.571 1174.16 100.76 1174.16 Q94.9502 1174.16 91.8715 1169.57 Q88.816 1164.97 88.816 1156.24 Q88.816 1147.49 91.8715 1142.91 Q94.9502 1138.3 100.76 1138.3 Z\" fill=\"#000000\" fill-rule=\"nonzero\" fill-opacity=\"1\" /><path clip-path=\"url(#clip900)\" d=\"M120.922 1167.6 L125.807 1167.6 L125.807 1173.48 L120.922 1173.48 L120.922 1167.6 Z\" fill=\"#000000\" fill-rule=\"nonzero\" fill-opacity=\"1\" /><path clip-path=\"url(#clip900)\" d=\"M136.038 1138.92 L154.394 1138.92 L154.394 1142.86 L140.32 1142.86 L140.32 1151.33 Q141.339 1150.98 142.357 1150.82 Q143.376 1150.64 144.394 1150.64 Q150.181 1150.64 153.561 1153.81 Q156.941 1156.98 156.941 1162.4 Q156.941 1167.98 153.468 1171.08 Q149.996 1174.16 143.677 1174.16 Q141.501 1174.16 139.232 1173.79 Q136.987 1173.42 134.58 1172.67 L134.58 1167.98 Q136.663 1169.11 138.885 1169.67 Q141.107 1170.22 143.584 1170.22 Q147.589 1170.22 149.927 1168.11 Q152.265 1166.01 152.265 1162.4 Q152.265 1158.79 149.927 1156.68 Q147.589 1154.57 143.584 1154.57 Q141.709 1154.57 139.834 1154.99 Q137.982 1155.41 136.038 1156.29 L136.038 1138.92 Z\" fill=\"#000000\" fill-rule=\"nonzero\" fill-opacity=\"1\" /><path clip-path=\"url(#clip900)\" d=\"M176.153 1142 Q172.542 1142 170.714 1145.57 Q168.908 1149.11 168.908 1156.24 Q168.908 1163.35 170.714 1166.91 Q172.542 1170.45 176.153 1170.45 Q179.788 1170.45 181.593 1166.91 Q183.422 1163.35 183.422 1156.24 Q183.422 1149.11 181.593 1145.57 Q179.788 1142 176.153 1142 M176.153 1138.3 Q181.964 1138.3 185.019 1142.91 Q188.098 1147.49 188.098 1156.24 Q188.098 1164.97 185.019 1169.57 Q181.964 1174.16 176.153 1174.16 Q170.343 1174.16 167.265 1169.57 Q164.209 1164.97 164.209 1156.24 Q164.209 1147.49 167.265 1142.91 Q170.343 1138.3 176.153 1138.3 Z\" fill=\"#000000\" fill-rule=\"nonzero\" fill-opacity=\"1\" /><path clip-path=\"url(#clip900)\" d=\"M51.9875 961.977 L81.6633 961.977 L81.6633 965.912 L51.9875 965.912 L51.9875 961.977 Z\" fill=\"#000000\" fill-rule=\"nonzero\" fill-opacity=\"1\" /><path clip-path=\"url(#clip900)\" d=\"M101.756 947.324 Q98.1447 947.324 96.316 950.889 Q94.5104 954.43 94.5104 961.56 Q94.5104 968.666 96.316 972.231 Q98.1447 975.773 101.756 975.773 Q105.39 975.773 107.196 972.231 Q109.024 968.666 109.024 961.56 Q109.024 954.43 107.196 950.889 Q105.39 947.324 101.756 947.324 M101.756 943.62 Q107.566 943.62 110.621 948.227 Q113.7 952.81 113.7 961.56 Q113.7 970.287 110.621 974.893 Q107.566 979.477 101.756 979.477 Q95.9456 979.477 92.8669 974.893 Q89.8114 970.287 89.8114 961.56 Q89.8114 952.81 92.8669 948.227 Q95.9456 943.62 101.756 943.62 Z\" fill=\"#000000\" fill-rule=\"nonzero\" fill-opacity=\"1\" /><path clip-path=\"url(#clip900)\" d=\"M121.918 972.926 L126.802 972.926 L126.802 978.805 L121.918 978.805 L121.918 972.926 Z\" fill=\"#000000\" fill-rule=\"nonzero\" fill-opacity=\"1\" /><path clip-path=\"url(#clip900)\" d=\"M141.015 974.87 L157.334 974.87 L157.334 978.805 L135.39 978.805 L135.39 974.87 Q138.052 972.115 142.635 967.486 Q147.242 962.833 148.422 961.491 Q150.668 958.967 151.547 957.231 Q152.45 955.472 152.45 953.782 Q152.45 951.028 150.505 949.291 Q148.584 947.555 145.482 947.555 Q143.283 947.555 140.83 948.319 Q138.399 949.083 135.621 950.634 L135.621 945.912 Q138.445 944.778 140.899 944.199 Q143.353 943.62 145.39 943.62 Q150.76 943.62 153.955 946.305 Q157.149 948.991 157.149 953.481 Q157.149 955.611 156.339 957.532 Q155.552 959.43 153.445 962.023 Q152.867 962.694 149.765 965.912 Q146.663 969.106 141.015 974.87 Z\" fill=\"#000000\" fill-rule=\"nonzero\" fill-opacity=\"1\" /><path clip-path=\"url(#clip900)\" d=\"M167.195 944.245 L185.552 944.245 L185.552 948.18 L171.478 948.18 L171.478 956.653 Q172.496 956.305 173.515 956.143 Q174.533 955.958 175.552 955.958 Q181.339 955.958 184.718 959.129 Q188.098 962.301 188.098 967.717 Q188.098 973.296 184.626 976.398 Q181.153 979.477 174.834 979.477 Q172.658 979.477 170.39 979.106 Q168.144 978.736 165.737 977.995 L165.737 973.296 Q167.82 974.43 170.042 974.986 Q172.265 975.541 174.741 975.541 Q178.746 975.541 181.084 973.435 Q183.422 971.328 183.422 967.717 Q183.422 964.106 181.084 962 Q178.746 959.893 174.741 959.893 Q172.866 959.893 170.991 960.31 Q169.14 960.727 167.195 961.606 L167.195 944.245 Z\" fill=\"#000000\" fill-rule=\"nonzero\" fill-opacity=\"1\" /><path clip-path=\"url(#clip900)\" d=\"M100.76 752.645 Q97.1493 752.645 95.3206 756.209 Q93.515 759.751 93.515 766.881 Q93.515 773.987 95.3206 777.552 Q97.1493 781.094 100.76 781.094 Q104.395 781.094 106.2 777.552 Q108.029 773.987 108.029 766.881 Q108.029 759.751 106.2 756.209 Q104.395 752.645 100.76 752.645 M100.76 748.941 Q106.571 748.941 109.626 753.547 Q112.705 758.131 112.705 766.881 Q112.705 775.608 109.626 780.214 Q106.571 784.797 100.76 784.797 Q94.9502 784.797 91.8715 780.214 Q88.816 775.608 88.816 766.881 Q88.816 758.131 91.8715 753.547 Q94.9502 748.941 100.76 748.941 Z\" fill=\"#000000\" fill-rule=\"nonzero\" fill-opacity=\"1\" /><path clip-path=\"url(#clip900)\" d=\"M120.922 778.246 L125.807 778.246 L125.807 784.126 L120.922 784.126 L120.922 778.246 Z\" fill=\"#000000\" fill-rule=\"nonzero\" fill-opacity=\"1\" /><path clip-path=\"url(#clip900)\" d=\"M145.992 752.645 Q142.381 752.645 140.552 756.209 Q138.746 759.751 138.746 766.881 Q138.746 773.987 140.552 777.552 Q142.381 781.094 145.992 781.094 Q149.626 781.094 151.431 777.552 Q153.26 773.987 153.26 766.881 Q153.26 759.751 151.431 756.209 Q149.626 752.645 145.992 752.645 M145.992 748.941 Q151.802 748.941 154.857 753.547 Q157.936 758.131 157.936 766.881 Q157.936 775.608 154.857 780.214 Q151.802 784.797 145.992 784.797 Q140.181 784.797 137.103 780.214 Q134.047 775.608 134.047 766.881 Q134.047 758.131 137.103 753.547 Q140.181 748.941 145.992 748.941 Z\" fill=\"#000000\" fill-rule=\"nonzero\" fill-opacity=\"1\" /><path clip-path=\"url(#clip900)\" d=\"M176.153 752.645 Q172.542 752.645 170.714 756.209 Q168.908 759.751 168.908 766.881 Q168.908 773.987 170.714 777.552 Q172.542 781.094 176.153 781.094 Q179.788 781.094 181.593 777.552 Q183.422 773.987 183.422 766.881 Q183.422 759.751 181.593 756.209 Q179.788 752.645 176.153 752.645 M176.153 748.941 Q181.964 748.941 185.019 753.547 Q188.098 758.131 188.098 766.881 Q188.098 775.608 185.019 780.214 Q181.964 784.797 176.153 784.797 Q170.343 784.797 167.265 780.214 Q164.209 775.608 164.209 766.881 Q164.209 758.131 167.265 753.547 Q170.343 748.941 176.153 748.941 Z\" fill=\"#000000\" fill-rule=\"nonzero\" fill-opacity=\"1\" /><path clip-path=\"url(#clip900)\" d=\"M101.756 557.965 Q98.1447 557.965 96.316 561.53 Q94.5104 565.072 94.5104 572.201 Q94.5104 579.308 96.316 582.873 Q98.1447 586.414 101.756 586.414 Q105.39 586.414 107.196 582.873 Q109.024 579.308 109.024 572.201 Q109.024 565.072 107.196 561.53 Q105.39 557.965 101.756 557.965 M101.756 554.262 Q107.566 554.262 110.621 558.868 Q113.7 563.452 113.7 572.201 Q113.7 580.928 110.621 585.535 Q107.566 590.118 101.756 590.118 Q95.9456 590.118 92.8669 585.535 Q89.8114 580.928 89.8114 572.201 Q89.8114 563.452 92.8669 558.868 Q95.9456 554.262 101.756 554.262 Z\" fill=\"#000000\" fill-rule=\"nonzero\" fill-opacity=\"1\" /><path clip-path=\"url(#clip900)\" d=\"M121.918 583.567 L126.802 583.567 L126.802 589.447 L121.918 589.447 L121.918 583.567 Z\" fill=\"#000000\" fill-rule=\"nonzero\" fill-opacity=\"1\" /><path clip-path=\"url(#clip900)\" d=\"M141.015 585.512 L157.334 585.512 L157.334 589.447 L135.39 589.447 L135.39 585.512 Q138.052 582.757 142.635 578.127 Q147.242 573.475 148.422 572.132 Q150.668 569.609 151.547 567.873 Q152.45 566.114 152.45 564.424 Q152.45 561.669 150.505 559.933 Q148.584 558.197 145.482 558.197 Q143.283 558.197 140.83 558.961 Q138.399 559.725 135.621 561.276 L135.621 556.553 Q138.445 555.419 140.899 554.84 Q143.353 554.262 145.39 554.262 Q150.76 554.262 153.955 556.947 Q157.149 559.632 157.149 564.123 Q157.149 566.252 156.339 568.174 Q155.552 570.072 153.445 572.664 Q152.867 573.336 149.765 576.553 Q146.663 579.748 141.015 585.512 Z\" fill=\"#000000\" fill-rule=\"nonzero\" fill-opacity=\"1\" /><path clip-path=\"url(#clip900)\" d=\"M167.195 554.887 L185.552 554.887 L185.552 558.822 L171.478 558.822 L171.478 567.294 Q172.496 566.947 173.515 566.785 Q174.533 566.6 175.552 566.6 Q181.339 566.6 184.718 569.771 Q188.098 572.942 188.098 578.359 Q188.098 583.938 184.626 587.039 Q181.153 590.118 174.834 590.118 Q172.658 590.118 170.39 589.748 Q168.144 589.377 165.737 588.637 L165.737 583.938 Q167.82 585.072 170.042 585.627 Q172.265 586.183 174.741 586.183 Q178.746 586.183 181.084 584.076 Q183.422 581.97 183.422 578.359 Q183.422 574.748 181.084 572.641 Q178.746 570.535 174.741 570.535 Q172.866 570.535 170.991 570.951 Q169.14 571.368 167.195 572.248 L167.195 554.887 Z\" fill=\"#000000\" fill-rule=\"nonzero\" fill-opacity=\"1\" /><path clip-path=\"url(#clip900)\" d=\"M100.76 363.286 Q97.1493 363.286 95.3206 366.851 Q93.515 370.393 93.515 377.522 Q93.515 384.629 95.3206 388.193 Q97.1493 391.735 100.76 391.735 Q104.395 391.735 106.2 388.193 Q108.029 384.629 108.029 377.522 Q108.029 370.393 106.2 366.851 Q104.395 363.286 100.76 363.286 M100.76 359.583 Q106.571 359.583 109.626 364.189 Q112.705 368.772 112.705 377.522 Q112.705 386.249 109.626 390.855 Q106.571 395.439 100.76 395.439 Q94.9502 395.439 91.8715 390.855 Q88.816 386.249 88.816 377.522 Q88.816 368.772 91.8715 364.189 Q94.9502 359.583 100.76 359.583 Z\" fill=\"#000000\" fill-rule=\"nonzero\" fill-opacity=\"1\" /><path clip-path=\"url(#clip900)\" d=\"M120.922 388.888 L125.807 388.888 L125.807 394.768 L120.922 394.768 L120.922 388.888 Z\" fill=\"#000000\" fill-rule=\"nonzero\" fill-opacity=\"1\" /><path clip-path=\"url(#clip900)\" d=\"M136.038 360.208 L154.394 360.208 L154.394 364.143 L140.32 364.143 L140.32 372.615 Q141.339 372.268 142.357 372.106 Q143.376 371.92 144.394 371.92 Q150.181 371.92 153.561 375.092 Q156.941 378.263 156.941 383.68 Q156.941 389.258 153.468 392.36 Q149.996 395.439 143.677 395.439 Q141.501 395.439 139.232 395.068 Q136.987 394.698 134.58 393.957 L134.58 389.258 Q136.663 390.393 138.885 390.948 Q141.107 391.504 143.584 391.504 Q147.589 391.504 149.927 389.397 Q152.265 387.291 152.265 383.68 Q152.265 380.069 149.927 377.962 Q147.589 375.856 143.584 375.856 Q141.709 375.856 139.834 376.272 Q137.982 376.689 136.038 377.569 L136.038 360.208 Z\" fill=\"#000000\" fill-rule=\"nonzero\" fill-opacity=\"1\" /><path clip-path=\"url(#clip900)\" d=\"M176.153 363.286 Q172.542 363.286 170.714 366.851 Q168.908 370.393 168.908 377.522 Q168.908 384.629 170.714 388.193 Q172.542 391.735 176.153 391.735 Q179.788 391.735 181.593 388.193 Q183.422 384.629 183.422 377.522 Q183.422 370.393 181.593 366.851 Q179.788 363.286 176.153 363.286 M176.153 359.583 Q181.964 359.583 185.019 364.189 Q188.098 368.772 188.098 377.522 Q188.098 386.249 185.019 390.855 Q181.964 395.439 176.153 395.439 Q170.343 395.439 167.265 390.855 Q164.209 386.249 164.209 377.522 Q164.209 368.772 167.265 364.189 Q170.343 359.583 176.153 359.583 Z\" fill=\"#000000\" fill-rule=\"nonzero\" fill-opacity=\"1\" /><path clip-path=\"url(#clip900)\" d=\"M101.756 168.607 Q98.1447 168.607 96.316 172.172 Q94.5104 175.713 94.5104 182.843 Q94.5104 189.949 96.316 193.514 Q98.1447 197.056 101.756 197.056 Q105.39 197.056 107.196 193.514 Q109.024 189.949 109.024 182.843 Q109.024 175.713 107.196 172.172 Q105.39 168.607 101.756 168.607 M101.756 164.903 Q107.566 164.903 110.621 169.51 Q113.7 174.093 113.7 182.843 Q113.7 191.57 110.621 196.176 Q107.566 200.76 101.756 200.76 Q95.9456 200.76 92.8669 196.176 Q89.8114 191.57 89.8114 182.843 Q89.8114 174.093 92.8669 169.51 Q95.9456 164.903 101.756 164.903 Z\" fill=\"#000000\" fill-rule=\"nonzero\" fill-opacity=\"1\" /><path clip-path=\"url(#clip900)\" d=\"M121.918 194.209 L126.802 194.209 L126.802 200.088 L121.918 200.088 L121.918 194.209 Z\" fill=\"#000000\" fill-rule=\"nonzero\" fill-opacity=\"1\" /><path clip-path=\"url(#clip900)\" d=\"M135.806 165.528 L158.029 165.528 L158.029 167.519 L145.482 200.088 L140.598 200.088 L152.404 169.463 L135.806 169.463 L135.806 165.528 Z\" fill=\"#000000\" fill-rule=\"nonzero\" fill-opacity=\"1\" /><path clip-path=\"url(#clip900)\" d=\"M167.195 165.528 L185.552 165.528 L185.552 169.463 L171.478 169.463 L171.478 177.936 Q172.496 177.588 173.515 177.426 Q174.533 177.241 175.552 177.241 Q181.339 177.241 184.718 180.412 Q188.098 183.584 188.098 189 Q188.098 194.579 184.626 197.681 Q181.153 200.76 174.834 200.76 Q172.658 200.76 170.39 200.389 Q168.144 200.019 165.737 199.278 L165.737 194.579 Q167.82 195.713 170.042 196.269 Q172.265 196.824 174.741 196.824 Q178.746 196.824 181.084 194.718 Q183.422 192.611 183.422 189 Q183.422 185.389 181.084 183.283 Q178.746 181.176 174.741 181.176 Q172.866 181.176 170.991 181.593 Q169.14 182.01 167.195 182.889 L167.195 165.528 Z\" fill=\"#000000\" fill-rule=\"nonzero\" fill-opacity=\"1\" /><polyline clip-path=\"url(#clip902)\" style=\"stroke:#009af9; stroke-linecap:round; stroke-linejoin:round; stroke-width:4; stroke-opacity:1; fill:none\" points=\"284.343,555.566 304.834,553.357 325.326,551.076 345.817,548.719 366.309,546.282 386.8,543.761 407.292,541.149 427.783,538.442 448.275,535.633 468.766,532.716 489.258,529.684 509.75,526.528 530.241,523.24 550.733,519.809 571.224,516.226 591.716,512.478 612.207,508.552 632.699,504.433 653.19,500.103 673.682,495.544 694.173,490.734 714.665,485.649 735.156,480.259 755.648,474.532 776.139,468.429 796.631,461.905 817.122,454.907 837.614,447.369 858.105,439.214 878.597,430.347 899.088,420.646 919.58,409.96 940.071,398.088 960.563,384.766 981.054,369.621 1001.55,352.115 1022.04,331.414 1042.53,306.1 1063.02,273.395 1083.51,226.084 1104,87.9763 1124.49,261.826 1144.99,344.954 1165.48,413.628 1185.97,475.141 1206.46,532.36 1226.95,586.797 1247.44,639.393 1267.94,690.812 1288.43,741.572 1308.92,792.12 1329.41,842.88 1349.9,894.299 1370.39,946.895 1390.88,1001.33 1411.38,1058.55 1431.87,1120.06 1452.36,1188.74 1472.85,1271.87 1493.34,1445.72 1513.83,1307.61 1534.33,1260.3 1554.82,1227.59 1575.31,1202.28 1595.8,1181.58 1616.29,1164.07 1636.78,1148.93 1657.27,1135.6 1677.77,1123.73 1698.26,1113.05 1718.75,1103.35 1739.24,1094.48 1759.73,1086.32 1780.22,1078.79 1800.71,1071.79 1821.21,1065.26 1841.7,1059.16 1862.19,1053.43 1882.68,1048.04 1903.17,1042.96 1923.66,1038.15 1944.16,1033.59 1964.65,1029.26 1985.14,1025.14 2005.63,1021.21 2026.12,1017.47 2046.61,1013.88 2067.1,1010.45 2087.6,1007.16 2108.09,1004.01 2128.58,1000.98 2149.07,998.059 2169.56,995.25 2190.05,992.543 2210.54,989.931 2231.04,987.41 2251.53,984.973 2272.02,982.616 2292.51,980.335 \"/>\n",
       "<path clip-path=\"url(#clip900)\" d=\"M2016.5 198.898 L2281.8 198.898 L2281.8 95.2176 L2016.5 95.2176  Z\" fill=\"#ffffff\" fill-rule=\"evenodd\" fill-opacity=\"1\"/>\n",
       "<polyline clip-path=\"url(#clip900)\" style=\"stroke:#000000; stroke-linecap:round; stroke-linejoin:round; stroke-width:4; stroke-opacity:1; fill:none\" points=\"2016.5,198.898 2281.8,198.898 2281.8,95.2176 2016.5,95.2176 2016.5,198.898 \"/>\n",
       "<polyline clip-path=\"url(#clip900)\" style=\"stroke:#009af9; stroke-linecap:round; stroke-linejoin:round; stroke-width:4; stroke-opacity:1; fill:none\" points=\"2040.16,147.058 2182.07,147.058 \"/>\n",
       "<path clip-path=\"url(#clip900)\" d=\"M2219.56 166.745 Q2217.76 171.375 2216.04 172.787 Q2214.33 174.199 2211.46 174.199 L2208.06 174.199 L2208.06 170.634 L2210.56 170.634 Q2212.32 170.634 2213.29 169.8 Q2214.26 168.967 2215.44 165.865 L2216.2 163.921 L2205.72 138.412 L2210.23 138.412 L2218.33 158.689 L2226.44 138.412 L2230.95 138.412 L2219.56 166.745 Z\" fill=\"#000000\" fill-rule=\"nonzero\" fill-opacity=\"1\" /><path clip-path=\"url(#clip900)\" d=\"M2238.24 160.402 L2245.88 160.402 L2245.88 134.037 L2237.57 135.703 L2237.57 131.444 L2245.83 129.778 L2250.51 129.778 L2250.51 160.402 L2258.15 160.402 L2258.15 164.338 L2238.24 164.338 L2238.24 160.402 Z\" fill=\"#000000\" fill-rule=\"nonzero\" fill-opacity=\"1\" /></svg>\n"
      ]
     },
     "execution_count": 85,
     "metadata": {},
     "output_type": "execute_result"
    }
   ],
   "source": [
    "vpps = sum.([vpp[k].(xs) for k=1:N-1])\n",
    "plot(vpps)"
   ]
  },
  {
   "cell_type": "markdown",
   "id": "a67ae33f",
   "metadata": {},
   "source": [
    "## Section 5: Implicit (or Inverse) Construction - Derive the MoM Transformation Matrix - Given the Magnetic Flux - Compute the Magnetic Sources "
   ]
  },
  {
   "cell_type": "code",
   "execution_count": 86,
   "id": "b02ae4bb",
   "metadata": {},
   "outputs": [
    {
     "data": {
      "text/plain": [
       "vp (generic function with 2 methods)"
      ]
     },
     "execution_count": 86,
     "metadata": {},
     "output_type": "execute_result"
    }
   ],
   "source": [
    "vp"
   ]
  },
  {
   "cell_type": "code",
   "execution_count": null,
   "id": "e8403d6e",
   "metadata": {},
   "outputs": [],
   "source": []
  },
  {
   "cell_type": "code",
   "execution_count": null,
   "id": "0a17aaf6",
   "metadata": {},
   "outputs": [],
   "source": []
  },
  {
   "cell_type": "markdown",
   "id": "bd4c286f",
   "metadata": {},
   "source": [
    "### Section 1.5: Synthetic Example Using Smooth Kernel "
   ]
  },
  {
   "cell_type": "code",
   "execution_count": 87,
   "id": "dcef0334",
   "metadata": {},
   "outputs": [
    {
     "data": {
      "text/plain": [
       "b (generic function with 2 methods)"
      ]
     },
     "execution_count": 87,
     "metadata": {},
     "output_type": "execute_result"
    }
   ],
   "source": [
    "# define the vector potential density as magnetization times kernel \n",
    "vpdens(x,xp,m) = (m[1]*sin(π*xp)+m[2]*cos(π*xp))*(x - xp)\n",
    "\n",
    "# define the vector potential by integrating in the dummy xp over the magnetization domain  \n",
    "vp(x,m) = quadgk(xp -> vpdens(x,xp,m), 0, 1)\n",
    "\n",
    "# define the flux as the partial derivative of the potential wrt x (keeping m fixed)\n",
    "b(x,m) = ForwardDiff.derivative(x -> vp(x,m)[1],x) "
   ]
  },
  {
   "cell_type": "code",
   "execution_count": 88,
   "id": "55629d51",
   "metadata": {},
   "outputs": [
    {
     "data": {
      "text/plain": [
       "2×2 Matrix{Float64}:\n",
       " 0.63662  3.77101e-17\n",
       " 0.63662  3.77101e-17"
      ]
     },
     "execution_count": 88,
     "metadata": {},
     "output_type": "execute_result"
    }
   ],
   "source": [
    "## sampling points in x and m \n",
    "xx = [.25, .75]\n",
    "mm = [1., 2.]\n",
    "\n",
    "# collocate the field on the grid in x - do point matching \n",
    "bsamp(m) = [b(xi,m) for xi in xx]\n",
    "\n",
    "# compute the Jacobian  \n",
    "ForwardDiff.jacobian(bsamp, mm) "
   ]
  },
  {
   "cell_type": "markdown",
   "id": "ca8eb19e",
   "metadata": {},
   "source": [
    "## Section 6: Example of Jacobian of a Function in Multiple Variables\n",
    "Can we re-formulate this example by reformulating the computation of $r[i]$ as \n",
    "$r[i] = \\int_{x_{i-1}}^{x_{i+1}} u'_h(x) \\, \\phi'_i(x) \\, dx $"
   ]
  },
  {
   "cell_type": "code",
   "execution_count": 89,
   "id": "d3799ebc",
   "metadata": {},
   "outputs": [
    {
     "data": {
      "text/plain": [
       "residual (generic function with 1 method)"
      ]
     },
     "execution_count": 89,
     "metadata": {},
     "output_type": "execute_result"
    }
   ],
   "source": [
    "function residual(m)\n",
    "    r = similar(m)\n",
    "    r[1] = m[1]\n",
    "    for i=2:length(m)-1\n",
    "        r[i] = -m[i-1] + 2*m[i] - m[i+1] \n",
    "    end \n",
    "    r[end] = m[end]\n",
    "    return r\n",
    "end"
   ]
  },
  {
   "cell_type": "code",
   "execution_count": 90,
   "id": "90245174",
   "metadata": {},
   "outputs": [
    {
     "data": {
      "text/plain": [
       "5-element Vector{Float64}:\n",
       " 1.0\n",
       " 0.0\n",
       " 0.0\n",
       " 0.0\n",
       " 1.0"
      ]
     },
     "metadata": {},
     "output_type": "display_data"
    }
   ],
   "source": [
    "m = ones(5)\n",
    "r = residual(m)\n",
    "display(r)"
   ]
  },
  {
   "cell_type": "code",
   "execution_count": 91,
   "id": "6107713c",
   "metadata": {},
   "outputs": [
    {
     "data": {
      "text/plain": [
       "5×5 Matrix{Float64}:\n",
       "  1.0   0.0   0.0   0.0   0.0\n",
       " -1.0   2.0  -1.0   0.0   0.0\n",
       "  0.0  -1.0   2.0  -1.0   0.0\n",
       "  0.0   0.0  -1.0   2.0  -1.0\n",
       "  0.0   0.0   0.0   0.0   1.0"
      ]
     },
     "execution_count": 91,
     "metadata": {},
     "output_type": "execute_result"
    }
   ],
   "source": [
    "ForwardDiff.jacobian(residual, m) "
   ]
  },
  {
   "cell_type": "code",
   "execution_count": null,
   "id": "9ffbb20e",
   "metadata": {},
   "outputs": [],
   "source": []
  },
  {
   "cell_type": "code",
   "execution_count": null,
   "id": "fa80670d",
   "metadata": {},
   "outputs": [],
   "source": []
  }
 ],
 "metadata": {
  "kernelspec": {
   "display_name": "Julia 1.8.1",
   "language": "julia",
   "name": "julia-1.8"
  },
  "language_info": {
   "file_extension": ".jl",
   "mimetype": "application/julia",
   "name": "julia",
   "version": "1.8.1"
  }
 },
 "nbformat": 4,
 "nbformat_minor": 5
}
