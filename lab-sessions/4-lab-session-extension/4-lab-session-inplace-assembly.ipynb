{
 "cells": [
  {
   "cell_type": "markdown",
   "id": "f465a445",
   "metadata": {},
   "source": [
    "# EE4375: Extension of Fourth Lab Session: Revisit Assembly in Finite Element Method for the Poisson Equation on the Unit Interval"
   ]
  },
  {
   "cell_type": "markdown",
   "id": "5fe7a3e4",
   "metadata": {},
   "source": [
    "Here we further explore the assembly in the finite element method. We illustrate an approach that avoids static arrays. Our intention here is to compare the approach that uses static arrays with an approach that avoids static arrays.  "
   ]
  },
  {
   "cell_type": "code",
   "execution_count": 1,
   "id": "d01480a6",
   "metadata": {},
   "outputs": [],
   "source": [
    "using LinearAlgebra \n",
    "using SparseArrays \n",
    "\n",
    "using BenchmarkTools\n",
    "using Profile\n",
    "using ProfileView\n",
    "\n",
    "using Plots "
   ]
  },
  {
   "cell_type": "markdown",
   "id": "19664a6c",
   "metadata": {},
   "source": [
    "## Section 1: Introduction  \n",
    "\n",
    "Fill in later. "
   ]
  },
  {
   "cell_type": "markdown",
   "id": "dc2ca550",
   "metadata": {},
   "source": [
    "## Section 2: Refresher on Type-Stable Generation of Vectors\n",
    "This section is intended as a reminder on how to construct vectors in a type-stable manner. "
   ]
  },
  {
   "cell_type": "markdown",
   "id": "146f99ba",
   "metadata": {},
   "source": [
    "### Section 1.2: Failing Versions \n",
    "We first show failing versions to reveal the art of getting to working versions. \n",
    "\n",
    "The version that follows uses a number of memory allocations proportional to problem size. Too many allocations are thus used. Not sure how to fix this except for using a double for-loop (see also below). "
   ]
  },
  {
   "cell_type": "code",
   "execution_count": 2,
   "id": "7a67ce4d",
   "metadata": {},
   "outputs": [
    {
     "data": {
      "text/plain": [
       "genvec1 (generic function with 1 method)"
      ]
     },
     "execution_count": 2,
     "metadata": {},
     "output_type": "execute_result"
    }
   ],
   "source": [
    "function genvec1(N)\n",
    "    #..allocate memory for the result.. \n",
    "    result = zeros(Float64,4*N)\n",
    "    #..loop over entries.. \n",
    "    for i=1:N \n",
    "        result[4*i-3:4*i] .= (1.0*i*j for j=1:4)   \n",
    "    end \n",
    "    return result \n",
    "end"
   ]
  },
  {
   "cell_type": "code",
   "execution_count": 3,
   "id": "8f7ee0d8",
   "metadata": {},
   "outputs": [
    {
     "name": "stdout",
     "output_type": "stream",
     "text": [
      "  0.000007 seconds (6 allocations: 704 bytes)\n",
      "  0.000002 seconds (11 allocations: 1.328 KiB)\n",
      "  0.000004 seconds (101 allocations: 12.625 KiB)\n"
     ]
    }
   ],
   "source": [
    "@time genvec1(5);\n",
    "@time genvec1(10);\n",
    "@time genvec1(100);"
   ]
  },
  {
   "cell_type": "markdown",
   "id": "76ad6901",
   "metadata": {},
   "source": [
    "### Section 2.2: A Working Version \n",
    "The version that follows uses a double for-loop. Not sure whether the inner loop can be avoided (see also above). "
   ]
  },
  {
   "cell_type": "code",
   "execution_count": 4,
   "id": "1debb615",
   "metadata": {},
   "outputs": [
    {
     "data": {
      "text/plain": [
       "genvec2 (generic function with 1 method)"
      ]
     },
     "execution_count": 4,
     "metadata": {},
     "output_type": "execute_result"
    }
   ],
   "source": [
    "function genvec2(N)\n",
    "    result = zeros(Float64,4*N)\n",
    "    for i=1:N \n",
    "        for j=1:4 \n",
    "            result[4*(i-1)+j] = 1.0*i*j  \n",
    "        end \n",
    "    end \n",
    "    return result \n",
    "end "
   ]
  },
  {
   "cell_type": "code",
   "execution_count": 5,
   "id": "e1348a18",
   "metadata": {},
   "outputs": [
    {
     "name": "stdout",
     "output_type": "stream",
     "text": [
      "  0.000005 seconds (1 allocation: 224 bytes)\n",
      "  0.000001 seconds (1 allocation: 400 bytes)\n",
      "  0.000002 seconds (1 allocation: 3.250 KiB)\n"
     ]
    }
   ],
   "source": [
    "@time genvec2(5);\n",
    "@time genvec2(10);\n",
    "@time genvec2(100);"
   ]
  },
  {
   "cell_type": "markdown",
   "id": "b87ee8bf",
   "metadata": {},
   "source": [
    "## Section 3: One-Dimensional Mesh Generation \n",
    "\n",
    "Exercise: extend from uniform to non-uniform mesh with local refinements to capture local variations in the solution (e.g. material interfaces, local features in the geometry, or large gradients near the boundary).  "
   ]
  },
  {
   "cell_type": "code",
   "execution_count": 6,
   "id": "63264a43",
   "metadata": {},
   "outputs": [],
   "source": [
    "# struct to hold a single mesh element\n",
    "# all the members of the struct should be concrete type \n",
    "struct Element\n",
    "  p1::Float64    # coordinate left-most node\n",
    "  p2::Float64    # coordinate right-most node\n",
    "  e1::Int64      # global index left-most node\n",
    "  e2::Int64      # global index right-most node\n",
    "  area::Float64  # area of the element \n",
    "end\n",
    "\n",
    "# struct to hold entire mesh\n",
    "struct Mesh\n",
    "  nnodes::Int64\n",
    "  nelements::Int64 \n",
    "  Elements::Array{Element,1}\n",
    "  Nodes::Vector{Float64}\n",
    "  bndNodeIds::Vector{Int64}\n",
    "  dofPerElem::Int64       \n",
    "end "
   ]
  },
  {
   "cell_type": "code",
   "execution_count": 9,
   "id": "890d6048",
   "metadata": {},
   "outputs": [
    {
     "data": {
      "text/plain": [
       "genMesh (generic function with 1 method)"
      ]
     },
     "execution_count": 9,
     "metadata": {},
     "output_type": "execute_result"
    }
   ],
   "source": [
    "# function to generate a mesh on the interval 0 <= x <= 1.   \n",
    "# we limit the type of input to be Int64 \n",
    "function genMesh(nelements::Int64)::Mesh\n",
    "    h = 1/nelements \n",
    "    nnodes = nelements+1\n",
    "    dofPerElem = 2 \n",
    "    x = Vector{Float64}(0:h:1)    \n",
    "    # what does the undef do here? \n",
    "    Elements = Array{Element,1}(undef,nelements)\n",
    "    for i in 1:nelements\n",
    "        Elements[i] = Element(x[i],x[i+1],i,i+1,x[i+1]-x[i])\n",
    "    end\n",
    "    mesh = Mesh(nnodes,nelements,Elements,x,[1,nelements+1],dofPerElem)     \n",
    "    return mesh;\n",
    "end "
   ]
  },
  {
   "cell_type": "code",
   "execution_count": 10,
   "id": "80903e88",
   "metadata": {},
   "outputs": [
    {
     "data": {
      "text/plain": [
       "Mesh"
      ]
     },
     "execution_count": 10,
     "metadata": {},
     "output_type": "execute_result"
    }
   ],
   "source": [
    "# test function for correctness of output \n",
    "mesh = genMesh(4)\n",
    "typeof(mesh)"
   ]
  },
  {
   "cell_type": "markdown",
   "id": "9b0c3e72",
   "metadata": {},
   "source": [
    "## Section 4: Linear System Assembly "
   ]
  },
  {
   "cell_type": "markdown",
   "id": "0eae7de2",
   "metadata": {},
   "source": [
    "### Section 1.4: Assemble Stiffness Matrix (free of static arrays)\n",
    "\n",
    "Note that in the function generateMatrix!() given below performs in-place compuations (observe the use of ! - function with a bang). In this version the variables Iloc, Jloc, Aloc <b>do require</b> pre-allocation. Declaring these variables instead as static arrays is sufficient to obtain a type stable function.  "
   ]
  },
  {
   "cell_type": "code",
   "execution_count": 11,
   "id": "e37289df",
   "metadata": {},
   "outputs": [
    {
     "data": {
      "text/plain": [
       "genStiffMat (generic function with 1 method)"
      ]
     },
     "execution_count": 11,
     "metadata": {},
     "output_type": "execute_result"
    }
   ],
   "source": [
    "# generates local stiffness matrix \n",
    "function genLocStiffMat!(Iloc,Jloc,Aloc,element::Element)\n",
    "    h     = element.area \n",
    "    e1    = element.e1\n",
    "    e2    = element.e2\n",
    "    Iloc  = (e1, e1, e2, e2) \n",
    "    Jloc  = (e1, e2, e1, e2) \n",
    "    Aloc  = (1/h, -1/h, -1/h, 1/h) \n",
    "    return Iloc, Jloc, Aloc\n",
    "end\n",
    "\n",
    "# generate global stiffness matrix \n",
    "function genStiffMat(mesh::Mesh)\n",
    "    \n",
    "    #..recover number of elements  \n",
    "    nelements = mesh.nelements\n",
    "    dofPerElem = mesh.dofPerElem; dofPerElem2 = dofPerElem^2;  \n",
    "    \n",
    "    #..preallocate the memory for global matrix \n",
    "    Avalues = zeros(Float64,dofPerElem2*nelements)\n",
    "    I = zeros(Int64,length(Avalues))\n",
    "    J = zeros(Int64,length(Avalues))\n",
    "    \n",
    "    #..preallocate the memory for local matrix \n",
    "    Aloc = zeros(Float64,4)\n",
    "    Iloc = zeros(Int64,4)\n",
    "    Jloc = zeros(Int64,4)    \n",
    "\n",
    "    for i = 1:nelements #..loop over number of elements..\n",
    "        element = mesh.Elements[i]\n",
    "        Iloc, Jloc, Aloc = genLocStiffMat!(Iloc,Jloc,Aloc,element) \n",
    "        for j=1:dofPerElem2\n",
    "            I[4*(i-1)+j] = Iloc[j] \n",
    "            J[4*(i-1)+j] = Jloc[j] \n",
    "            Avalues[4*(i-1)+j] = Aloc[j]     \n",
    "        end \n",
    "    end\n",
    "    \n",
    "    A = sparse(I,J,Avalues)\n",
    "       \n",
    "    return A; \n",
    "end"
   ]
  },
  {
   "cell_type": "code",
   "execution_count": 12,
   "id": "6f5a4690",
   "metadata": {},
   "outputs": [
    {
     "data": {
      "text/plain": [
       "11×11 SparseMatrixCSC{Float64, Int64} with 31 stored entries:\n",
       "  10.0  -10.0     ⋅      ⋅      ⋅      ⋅      ⋅      ⋅      ⋅      ⋅      ⋅ \n",
       " -10.0   20.0  -10.0     ⋅      ⋅      ⋅      ⋅      ⋅      ⋅      ⋅      ⋅ \n",
       "    ⋅   -10.0   20.0  -10.0     ⋅      ⋅      ⋅      ⋅      ⋅      ⋅      ⋅ \n",
       "    ⋅      ⋅   -10.0   20.0  -10.0     ⋅      ⋅      ⋅      ⋅      ⋅      ⋅ \n",
       "    ⋅      ⋅      ⋅   -10.0   20.0  -10.0     ⋅      ⋅      ⋅      ⋅      ⋅ \n",
       "    ⋅      ⋅      ⋅      ⋅   -10.0   20.0  -10.0     ⋅      ⋅      ⋅      ⋅ \n",
       "    ⋅      ⋅      ⋅      ⋅      ⋅   -10.0   20.0  -10.0     ⋅      ⋅      ⋅ \n",
       "    ⋅      ⋅      ⋅      ⋅      ⋅      ⋅   -10.0   20.0  -10.0     ⋅      ⋅ \n",
       "    ⋅      ⋅      ⋅      ⋅      ⋅      ⋅      ⋅   -10.0   20.0  -10.0     ⋅ \n",
       "    ⋅      ⋅      ⋅      ⋅      ⋅      ⋅      ⋅      ⋅   -10.0   20.0  -10.0\n",
       "    ⋅      ⋅      ⋅      ⋅      ⋅      ⋅      ⋅      ⋅      ⋅   -10.0   10.0"
      ]
     },
     "execution_count": 12,
     "metadata": {},
     "output_type": "execute_result"
    }
   ],
   "source": [
    "mesh = genMesh(10);\n",
    "A = genStiffMat(mesh)\n",
    "#@code_warntype generateMatrix(mesh)"
   ]
  },
  {
   "cell_type": "code",
   "execution_count": 13,
   "id": "a1439c10",
   "metadata": {},
   "outputs": [
    {
     "name": "stdout",
     "output_type": "stream",
     "text": [
      "  0.000013 seconds (16 allocations: 3.359 KiB)\n",
      "  0.000009 seconds (16 allocations: 3.359 KiB)\n",
      "  0.000015 seconds (16 allocations: 24.203 KiB)\n",
      "  0.000046 seconds (23 allocations: 228.094 KiB)\n",
      "  0.000548 seconds (26 allocations: 2.214 MiB)\n"
     ]
    }
   ],
   "source": [
    "mesh = genMesh(10);    @time genStiffMat(mesh); # force function compilation \n",
    "mesh = genMesh(10);    @time genStiffMat(mesh); \n",
    "mesh = genMesh(100);   @time genStiffMat(mesh);\n",
    "mesh = genMesh(1000);  @time genStiffMat(mesh); \n",
    "mesh = genMesh(10000); @time genStiffMat(mesh); "
   ]
  },
  {
   "cell_type": "markdown",
   "id": "4b009bbd",
   "metadata": {},
   "source": [
    "### Section 2.4: Assemble Right-Hand Side Vector (again free of static arrays)"
   ]
  },
  {
   "cell_type": "code",
   "execution_count": 14,
   "id": "95dc37e1",
   "metadata": {},
   "outputs": [
    {
     "data": {
      "text/plain": [
       "genVec (generic function with 1 method)"
      ]
     },
     "execution_count": 14,
     "metadata": {},
     "output_type": "execute_result"
    }
   ],
   "source": [
    "fsource(x) = x*(x-1)\n",
    "\n",
    "function genLocVec!(Iloc,floc,element,sourceFct)\n",
    "    h = element.area \n",
    "    e1    = element.e1\n",
    "    e2    = element.e2\n",
    "    Iloc  = (e1, e2)\n",
    "    floc  = ((h/2)*sourceFct(element.p1), (h/2)*sourceFct(element.p2))\n",
    "    return Iloc, floc\n",
    "end\n",
    "\n",
    "function genVec(mesh, sourceFct::F) where F \n",
    "    \n",
    "    #..recover number of elements  \n",
    "    nelements = mesh.nelements \n",
    "    nnodes = mesh.nnodes \n",
    "    dofperelem = 2;\n",
    "    \n",
    "    #..initialize global vector  \n",
    "    f = zeros(Float64,nnodes)\n",
    "\n",
    "    #..preallocate the memory for local vector \n",
    "    floc = zeros(Float64,2)\n",
    "    Iloc = zeros(Int64,2)\n",
    "\n",
    "    for i = 1:nelements #..loop over number of elements..\n",
    "        element = mesh.Elements[i]\n",
    "        Iloc, floc = genLocVec!(Iloc,floc,element,sourceFct) \n",
    "        for j=1:dofperelem\n",
    "            f[Iloc[j]] = floc[j] \n",
    "        end \n",
    "    end\n",
    "   \n",
    "    return f; \n",
    "end"
   ]
  },
  {
   "cell_type": "code",
   "execution_count": 15,
   "id": "7a7d0fc3",
   "metadata": {},
   "outputs": [
    {
     "name": "stdout",
     "output_type": "stream",
     "text": [
      "  0.013579 seconds (83.49 k allocations: 4.361 MiB, 99.83% compilation time)\n",
      "  0.000003 seconds (3 allocations: 304 bytes)\n",
      "  0.000002 seconds (3 allocations: 1.031 KiB)\n",
      "  0.000004 seconds (3 allocations: 8.156 KiB)\n",
      "  0.000015 seconds (4 allocations: 78.391 KiB)\n"
     ]
    }
   ],
   "source": [
    "# observe again how the number of memory allocations only depends midly on the mesh size\n",
    "N=10;    mesh = genMesh(N); @time genVec(mesh,fsource); # force function compilation\n",
    "N=10;    mesh = genMesh(N); @time genVec(mesh,fsource);\n",
    "N=100;   mesh = genMesh(N); @time genVec(mesh,fsource);\n",
    "N=1000;  mesh = genMesh(N); @time genVec(mesh,fsource);\n",
    "N=10000; mesh = genMesh(N); @time genVec(mesh,fsource);"
   ]
  },
  {
   "cell_type": "markdown",
   "id": "17785985",
   "metadata": {},
   "source": [
    "## Section 5: Handle Essential Boundary Conditions "
   ]
  },
  {
   "cell_type": "code",
   "execution_count": 16,
   "id": "91ab5db5",
   "metadata": {},
   "outputs": [
    {
     "data": {
      "text/plain": [
       "handleBoundaries! (generic function with 1 method)"
      ]
     },
     "execution_count": 16,
     "metadata": {},
     "output_type": "execute_result"
    }
   ],
   "source": [
    "function handleBoundaries!(A,f)\n",
    "    #..handle essential boundary conditions \n",
    "    A[1,1] = 1.; A[1,2] = 0.; f[1] = 0.;\n",
    "    A[end,end] = 1.; A[end,end-1] = 0.; f[end] = 0.;\n",
    "    return A,f \n",
    "end "
   ]
  },
  {
   "cell_type": "code",
   "execution_count": 17,
   "id": "bdbce882",
   "metadata": {},
   "outputs": [
    {
     "data": {
      "text/plain": [
       "5×5 SparseMatrixCSC{Float64, Int64} with 13 stored entries:\n",
       "  1.0   0.0    ⋅     ⋅     ⋅ \n",
       " -4.0   8.0  -4.0    ⋅     ⋅ \n",
       "   ⋅   -4.0   8.0  -4.0    ⋅ \n",
       "   ⋅     ⋅   -4.0   8.0  -4.0\n",
       "   ⋅     ⋅     ⋅    0.0   1.0"
      ]
     },
     "metadata": {},
     "output_type": "display_data"
    },
    {
     "data": {
      "text/plain": [
       "5-element Vector{Float64}:\n",
       "  0.0\n",
       " -0.0234375\n",
       " -0.03125\n",
       " -0.0234375\n",
       "  0.0"
      ]
     },
     "metadata": {},
     "output_type": "display_data"
    }
   ],
   "source": [
    "N=4; mesh = genMesh(4); A = genStiffMat(mesh); f = genVec(mesh,fsource); A,f = handleBoundaries!(A,f)\n",
    "display(A)\n",
    "display(f)"
   ]
  },
  {
   "cell_type": "markdown",
   "id": "aecb5685",
   "metadata": {},
   "source": [
    "## Section 6: Solve Process "
   ]
  },
  {
   "cell_type": "code",
   "execution_count": 18,
   "id": "5e74adb3",
   "metadata": {},
   "outputs": [
    {
     "data": {
      "text/plain": [
       "linSolve (generic function with 1 method)"
      ]
     },
     "execution_count": 18,
     "metadata": {},
     "output_type": "execute_result"
    }
   ],
   "source": [
    "function linSolve(A,f)\n",
    "    u = A \\ f \n",
    "    return u \n",
    "end"
   ]
  },
  {
   "cell_type": "code",
   "execution_count": 20,
   "id": "7cf11018",
   "metadata": {},
   "outputs": [
    {
     "data": {
      "image/svg+xml": [
       "<?xml version=\"1.0\" encoding=\"utf-8\"?>\n",
       "<svg xmlns=\"http://www.w3.org/2000/svg\" xmlns:xlink=\"http://www.w3.org/1999/xlink\" width=\"600\" height=\"400\" viewBox=\"0 0 2400 1600\">\n",
       "<defs>\n",
       "  <clipPath id=\"clip450\">\n",
       "    <rect x=\"0\" y=\"0\" width=\"2400\" height=\"1600\"/>\n",
       "  </clipPath>\n",
       "</defs>\n",
       "<path clip-path=\"url(#clip450)\" d=\"M0 1600 L2400 1600 L2400 0 L0 0  Z\" fill=\"#ffffff\" fill-rule=\"evenodd\" fill-opacity=\"1\"/>\n",
       "<defs>\n",
       "  <clipPath id=\"clip451\">\n",
       "    <rect x=\"480\" y=\"0\" width=\"1681\" height=\"1600\"/>\n",
       "  </clipPath>\n",
       "</defs>\n",
       "<path clip-path=\"url(#clip450)\" d=\"M254.746 1486.45 L2352.76 1486.45 L2352.76 47.2441 L254.746 47.2441  Z\" fill=\"#ffffff\" fill-rule=\"evenodd\" fill-opacity=\"1\"/>\n",
       "<defs>\n",
       "  <clipPath id=\"clip452\">\n",
       "    <rect x=\"254\" y=\"47\" width=\"2099\" height=\"1440\"/>\n",
       "  </clipPath>\n",
       "</defs>\n",
       "<polyline clip-path=\"url(#clip452)\" style=\"stroke:#000000; stroke-linecap:round; stroke-linejoin:round; stroke-width:2; stroke-opacity:0.1; fill:none\" points=\"314.123,1486.45 314.123,47.2441 \"/>\n",
       "<polyline clip-path=\"url(#clip452)\" style=\"stroke:#000000; stroke-linecap:round; stroke-linejoin:round; stroke-width:2; stroke-opacity:0.1; fill:none\" points=\"808.937,1486.45 808.937,47.2441 \"/>\n",
       "<polyline clip-path=\"url(#clip452)\" style=\"stroke:#000000; stroke-linecap:round; stroke-linejoin:round; stroke-width:2; stroke-opacity:0.1; fill:none\" points=\"1303.75,1486.45 1303.75,47.2441 \"/>\n",
       "<polyline clip-path=\"url(#clip452)\" style=\"stroke:#000000; stroke-linecap:round; stroke-linejoin:round; stroke-width:2; stroke-opacity:0.1; fill:none\" points=\"1798.56,1486.45 1798.56,47.2441 \"/>\n",
       "<polyline clip-path=\"url(#clip452)\" style=\"stroke:#000000; stroke-linecap:round; stroke-linejoin:round; stroke-width:2; stroke-opacity:0.1; fill:none\" points=\"2293.38,1486.45 2293.38,47.2441 \"/>\n",
       "<polyline clip-path=\"url(#clip450)\" style=\"stroke:#000000; stroke-linecap:round; stroke-linejoin:round; stroke-width:4; stroke-opacity:1; fill:none\" points=\"254.746,1486.45 2352.76,1486.45 \"/>\n",
       "<polyline clip-path=\"url(#clip450)\" style=\"stroke:#000000; stroke-linecap:round; stroke-linejoin:round; stroke-width:4; stroke-opacity:1; fill:none\" points=\"314.123,1486.45 314.123,1467.55 \"/>\n",
       "<polyline clip-path=\"url(#clip450)\" style=\"stroke:#000000; stroke-linecap:round; stroke-linejoin:round; stroke-width:4; stroke-opacity:1; fill:none\" points=\"808.937,1486.45 808.937,1467.55 \"/>\n",
       "<polyline clip-path=\"url(#clip450)\" style=\"stroke:#000000; stroke-linecap:round; stroke-linejoin:round; stroke-width:4; stroke-opacity:1; fill:none\" points=\"1303.75,1486.45 1303.75,1467.55 \"/>\n",
       "<polyline clip-path=\"url(#clip450)\" style=\"stroke:#000000; stroke-linecap:round; stroke-linejoin:round; stroke-width:4; stroke-opacity:1; fill:none\" points=\"1798.56,1486.45 1798.56,1467.55 \"/>\n",
       "<polyline clip-path=\"url(#clip450)\" style=\"stroke:#000000; stroke-linecap:round; stroke-linejoin:round; stroke-width:4; stroke-opacity:1; fill:none\" points=\"2293.38,1486.45 2293.38,1467.55 \"/>\n",
       "<path clip-path=\"url(#clip450)\" d=\"M276.427 1517.37 Q272.816 1517.37 270.987 1520.93 Q269.182 1524.47 269.182 1531.6 Q269.182 1538.71 270.987 1542.27 Q272.816 1545.82 276.427 1545.82 Q280.061 1545.82 281.867 1542.27 Q283.695 1538.71 283.695 1531.6 Q283.695 1524.47 281.867 1520.93 Q280.061 1517.37 276.427 1517.37 M276.427 1513.66 Q282.237 1513.66 285.293 1518.27 Q288.371 1522.85 288.371 1531.6 Q288.371 1540.33 285.293 1544.94 Q282.237 1549.52 276.427 1549.52 Q270.617 1549.52 267.538 1544.94 Q264.483 1540.33 264.483 1531.6 Q264.483 1522.85 267.538 1518.27 Q270.617 1513.66 276.427 1513.66 Z\" fill=\"#000000\" fill-rule=\"nonzero\" fill-opacity=\"1\" /><path clip-path=\"url(#clip450)\" d=\"M296.589 1542.97 L301.473 1542.97 L301.473 1548.85 L296.589 1548.85 L296.589 1542.97 Z\" fill=\"#000000\" fill-rule=\"nonzero\" fill-opacity=\"1\" /><path clip-path=\"url(#clip450)\" d=\"M321.658 1517.37 Q318.047 1517.37 316.218 1520.93 Q314.413 1524.47 314.413 1531.6 Q314.413 1538.71 316.218 1542.27 Q318.047 1545.82 321.658 1545.82 Q325.292 1545.82 327.098 1542.27 Q328.927 1538.71 328.927 1531.6 Q328.927 1524.47 327.098 1520.93 Q325.292 1517.37 321.658 1517.37 M321.658 1513.66 Q327.468 1513.66 330.524 1518.27 Q333.603 1522.85 333.603 1531.6 Q333.603 1540.33 330.524 1544.94 Q327.468 1549.52 321.658 1549.52 Q315.848 1549.52 312.769 1544.94 Q309.714 1540.33 309.714 1531.6 Q309.714 1522.85 312.769 1518.27 Q315.848 1513.66 321.658 1513.66 Z\" fill=\"#000000\" fill-rule=\"nonzero\" fill-opacity=\"1\" /><path clip-path=\"url(#clip450)\" d=\"M351.82 1517.37 Q348.209 1517.37 346.38 1520.93 Q344.575 1524.47 344.575 1531.6 Q344.575 1538.71 346.38 1542.27 Q348.209 1545.82 351.82 1545.82 Q355.454 1545.82 357.26 1542.27 Q359.089 1538.71 359.089 1531.6 Q359.089 1524.47 357.26 1520.93 Q355.454 1517.37 351.82 1517.37 M351.82 1513.66 Q357.63 1513.66 360.686 1518.27 Q363.764 1522.85 363.764 1531.6 Q363.764 1540.33 360.686 1544.94 Q357.63 1549.52 351.82 1549.52 Q346.01 1549.52 342.931 1544.94 Q339.876 1540.33 339.876 1531.6 Q339.876 1522.85 342.931 1518.27 Q346.01 1513.66 351.82 1513.66 Z\" fill=\"#000000\" fill-rule=\"nonzero\" fill-opacity=\"1\" /><path clip-path=\"url(#clip450)\" d=\"M771.738 1517.37 Q768.127 1517.37 766.299 1520.93 Q764.493 1524.47 764.493 1531.6 Q764.493 1538.71 766.299 1542.27 Q768.127 1545.82 771.738 1545.82 Q775.373 1545.82 777.178 1542.27 Q779.007 1538.71 779.007 1531.6 Q779.007 1524.47 777.178 1520.93 Q775.373 1517.37 771.738 1517.37 M771.738 1513.66 Q777.548 1513.66 780.604 1518.27 Q783.683 1522.85 783.683 1531.6 Q783.683 1540.33 780.604 1544.94 Q777.548 1549.52 771.738 1549.52 Q765.928 1549.52 762.849 1544.94 Q759.794 1540.33 759.794 1531.6 Q759.794 1522.85 762.849 1518.27 Q765.928 1513.66 771.738 1513.66 Z\" fill=\"#000000\" fill-rule=\"nonzero\" fill-opacity=\"1\" /><path clip-path=\"url(#clip450)\" d=\"M791.9 1542.97 L796.784 1542.97 L796.784 1548.85 L791.9 1548.85 L791.9 1542.97 Z\" fill=\"#000000\" fill-rule=\"nonzero\" fill-opacity=\"1\" /><path clip-path=\"url(#clip450)\" d=\"M810.997 1544.91 L827.317 1544.91 L827.317 1548.85 L805.372 1548.85 L805.372 1544.91 Q808.034 1542.16 812.618 1537.53 Q817.224 1532.88 818.405 1531.53 Q820.65 1529.01 821.53 1527.27 Q822.432 1525.51 822.432 1523.82 Q822.432 1521.07 820.488 1519.33 Q818.567 1517.6 815.465 1517.6 Q813.266 1517.6 810.812 1518.36 Q808.382 1519.13 805.604 1520.68 L805.604 1515.95 Q808.428 1514.82 810.882 1514.24 Q813.335 1513.66 815.372 1513.66 Q820.743 1513.66 823.937 1516.35 Q827.132 1519.03 827.132 1523.52 Q827.132 1525.65 826.321 1527.57 Q825.534 1529.47 823.428 1532.07 Q822.849 1532.74 819.747 1535.95 Q816.645 1539.15 810.997 1544.91 Z\" fill=\"#000000\" fill-rule=\"nonzero\" fill-opacity=\"1\" /><path clip-path=\"url(#clip450)\" d=\"M837.178 1514.29 L855.534 1514.29 L855.534 1518.22 L841.46 1518.22 L841.46 1526.7 Q842.479 1526.35 843.497 1526.19 Q844.516 1526 845.534 1526 Q851.321 1526 854.701 1529.17 Q858.08 1532.34 858.08 1537.76 Q858.08 1543.34 854.608 1546.44 Q851.136 1549.52 844.817 1549.52 Q842.641 1549.52 840.372 1549.15 Q838.127 1548.78 835.719 1548.04 L835.719 1543.34 Q837.803 1544.47 840.025 1545.03 Q842.247 1545.58 844.724 1545.58 Q848.729 1545.58 851.067 1543.48 Q853.405 1541.37 853.405 1537.76 Q853.405 1534.15 851.067 1532.04 Q848.729 1529.94 844.724 1529.94 Q842.849 1529.94 840.974 1530.35 Q839.122 1530.77 837.178 1531.65 L837.178 1514.29 Z\" fill=\"#000000\" fill-rule=\"nonzero\" fill-opacity=\"1\" /><path clip-path=\"url(#clip450)\" d=\"M1266.05 1517.37 Q1262.44 1517.37 1260.61 1520.93 Q1258.81 1524.47 1258.81 1531.6 Q1258.81 1538.71 1260.61 1542.27 Q1262.44 1545.82 1266.05 1545.82 Q1269.69 1545.82 1271.49 1542.27 Q1273.32 1538.71 1273.32 1531.6 Q1273.32 1524.47 1271.49 1520.93 Q1269.69 1517.37 1266.05 1517.37 M1266.05 1513.66 Q1271.86 1513.66 1274.92 1518.27 Q1278 1522.85 1278 1531.6 Q1278 1540.33 1274.92 1544.94 Q1271.86 1549.52 1266.05 1549.52 Q1260.24 1549.52 1257.17 1544.94 Q1254.11 1540.33 1254.11 1531.6 Q1254.11 1522.85 1257.17 1518.27 Q1260.24 1513.66 1266.05 1513.66 Z\" fill=\"#000000\" fill-rule=\"nonzero\" fill-opacity=\"1\" /><path clip-path=\"url(#clip450)\" d=\"M1286.22 1542.97 L1291.1 1542.97 L1291.1 1548.85 L1286.22 1548.85 L1286.22 1542.97 Z\" fill=\"#000000\" fill-rule=\"nonzero\" fill-opacity=\"1\" /><path clip-path=\"url(#clip450)\" d=\"M1301.33 1514.29 L1319.69 1514.29 L1319.69 1518.22 L1305.61 1518.22 L1305.61 1526.7 Q1306.63 1526.35 1307.65 1526.19 Q1308.67 1526 1309.69 1526 Q1315.48 1526 1318.85 1529.17 Q1322.23 1532.34 1322.23 1537.76 Q1322.23 1543.34 1318.76 1546.44 Q1315.29 1549.52 1308.97 1549.52 Q1306.79 1549.52 1304.53 1549.15 Q1302.28 1548.78 1299.87 1548.04 L1299.87 1543.34 Q1301.96 1544.47 1304.18 1545.03 Q1306.4 1545.58 1308.88 1545.58 Q1312.88 1545.58 1315.22 1543.48 Q1317.56 1541.37 1317.56 1537.76 Q1317.56 1534.15 1315.22 1532.04 Q1312.88 1529.94 1308.88 1529.94 Q1307 1529.94 1305.13 1530.35 Q1303.28 1530.77 1301.33 1531.65 L1301.33 1514.29 Z\" fill=\"#000000\" fill-rule=\"nonzero\" fill-opacity=\"1\" /><path clip-path=\"url(#clip450)\" d=\"M1341.45 1517.37 Q1337.84 1517.37 1336.01 1520.93 Q1334.2 1524.47 1334.2 1531.6 Q1334.2 1538.71 1336.01 1542.27 Q1337.84 1545.82 1341.45 1545.82 Q1345.08 1545.82 1346.89 1542.27 Q1348.72 1538.71 1348.72 1531.6 Q1348.72 1524.47 1346.89 1520.93 Q1345.08 1517.37 1341.45 1517.37 M1341.45 1513.66 Q1347.26 1513.66 1350.31 1518.27 Q1353.39 1522.85 1353.39 1531.6 Q1353.39 1540.33 1350.31 1544.94 Q1347.26 1549.52 1341.45 1549.52 Q1335.64 1549.52 1332.56 1544.94 Q1329.5 1540.33 1329.5 1531.6 Q1329.5 1522.85 1332.56 1518.27 Q1335.64 1513.66 1341.45 1513.66 Z\" fill=\"#000000\" fill-rule=\"nonzero\" fill-opacity=\"1\" /><path clip-path=\"url(#clip450)\" d=\"M1761.37 1517.37 Q1757.75 1517.37 1755.93 1520.93 Q1754.12 1524.47 1754.12 1531.6 Q1754.12 1538.71 1755.93 1542.27 Q1757.75 1545.82 1761.37 1545.82 Q1765 1545.82 1766.81 1542.27 Q1768.63 1538.71 1768.63 1531.6 Q1768.63 1524.47 1766.81 1520.93 Q1765 1517.37 1761.37 1517.37 M1761.37 1513.66 Q1767.18 1513.66 1770.23 1518.27 Q1773.31 1522.85 1773.31 1531.6 Q1773.31 1540.33 1770.23 1544.94 Q1767.18 1549.52 1761.37 1549.52 Q1755.56 1549.52 1752.48 1544.94 Q1749.42 1540.33 1749.42 1531.6 Q1749.42 1522.85 1752.48 1518.27 Q1755.56 1513.66 1761.37 1513.66 Z\" fill=\"#000000\" fill-rule=\"nonzero\" fill-opacity=\"1\" /><path clip-path=\"url(#clip450)\" d=\"M1781.53 1542.97 L1786.41 1542.97 L1786.41 1548.85 L1781.53 1548.85 L1781.53 1542.97 Z\" fill=\"#000000\" fill-rule=\"nonzero\" fill-opacity=\"1\" /><path clip-path=\"url(#clip450)\" d=\"M1795.42 1514.29 L1817.64 1514.29 L1817.64 1516.28 L1805.09 1548.85 L1800.21 1548.85 L1812.01 1518.22 L1795.42 1518.22 L1795.42 1514.29 Z\" fill=\"#000000\" fill-rule=\"nonzero\" fill-opacity=\"1\" /><path clip-path=\"url(#clip450)\" d=\"M1826.81 1514.29 L1845.16 1514.29 L1845.16 1518.22 L1831.09 1518.22 L1831.09 1526.7 Q1832.11 1526.35 1833.12 1526.19 Q1834.14 1526 1835.16 1526 Q1840.95 1526 1844.33 1529.17 Q1847.71 1532.34 1847.71 1537.76 Q1847.71 1543.34 1844.24 1546.44 Q1840.76 1549.52 1834.44 1549.52 Q1832.27 1549.52 1830 1549.15 Q1827.75 1548.78 1825.35 1548.04 L1825.35 1543.34 Q1827.43 1544.47 1829.65 1545.03 Q1831.87 1545.58 1834.35 1545.58 Q1838.36 1545.58 1840.69 1543.48 Q1843.03 1541.37 1843.03 1537.76 Q1843.03 1534.15 1840.69 1532.04 Q1838.36 1529.94 1834.35 1529.94 Q1832.48 1529.94 1830.6 1530.35 Q1828.75 1530.77 1826.81 1531.65 L1826.81 1514.29 Z\" fill=\"#000000\" fill-rule=\"nonzero\" fill-opacity=\"1\" /><path clip-path=\"url(#clip450)\" d=\"M2245.45 1544.91 L2253.09 1544.91 L2253.09 1518.55 L2244.78 1520.21 L2244.78 1515.95 L2253.04 1514.29 L2257.72 1514.29 L2257.72 1544.91 L2265.36 1544.91 L2265.36 1548.85 L2245.45 1548.85 L2245.45 1544.91 Z\" fill=\"#000000\" fill-rule=\"nonzero\" fill-opacity=\"1\" /><path clip-path=\"url(#clip450)\" d=\"M2274.8 1542.97 L2279.69 1542.97 L2279.69 1548.85 L2274.8 1548.85 L2274.8 1542.97 Z\" fill=\"#000000\" fill-rule=\"nonzero\" fill-opacity=\"1\" /><path clip-path=\"url(#clip450)\" d=\"M2299.87 1517.37 Q2296.26 1517.37 2294.43 1520.93 Q2292.63 1524.47 2292.63 1531.6 Q2292.63 1538.71 2294.43 1542.27 Q2296.26 1545.82 2299.87 1545.82 Q2303.51 1545.82 2305.31 1542.27 Q2307.14 1538.71 2307.14 1531.6 Q2307.14 1524.47 2305.31 1520.93 Q2303.51 1517.37 2299.87 1517.37 M2299.87 1513.66 Q2305.68 1513.66 2308.74 1518.27 Q2311.82 1522.85 2311.82 1531.6 Q2311.82 1540.33 2308.74 1544.94 Q2305.68 1549.52 2299.87 1549.52 Q2294.06 1549.52 2290.98 1544.94 Q2287.93 1540.33 2287.93 1531.6 Q2287.93 1522.85 2290.98 1518.27 Q2294.06 1513.66 2299.87 1513.66 Z\" fill=\"#000000\" fill-rule=\"nonzero\" fill-opacity=\"1\" /><path clip-path=\"url(#clip450)\" d=\"M2330.03 1517.37 Q2326.42 1517.37 2324.59 1520.93 Q2322.79 1524.47 2322.79 1531.6 Q2322.79 1538.71 2324.59 1542.27 Q2326.42 1545.82 2330.03 1545.82 Q2333.67 1545.82 2335.47 1542.27 Q2337.3 1538.71 2337.3 1531.6 Q2337.3 1524.47 2335.47 1520.93 Q2333.67 1517.37 2330.03 1517.37 M2330.03 1513.66 Q2335.84 1513.66 2338.9 1518.27 Q2341.98 1522.85 2341.98 1531.6 Q2341.98 1540.33 2338.9 1544.94 Q2335.84 1549.52 2330.03 1549.52 Q2324.22 1549.52 2321.14 1544.94 Q2318.09 1540.33 2318.09 1531.6 Q2318.09 1522.85 2321.14 1518.27 Q2324.22 1513.66 2330.03 1513.66 Z\" fill=\"#000000\" fill-rule=\"nonzero\" fill-opacity=\"1\" /><polyline clip-path=\"url(#clip452)\" style=\"stroke:#000000; stroke-linecap:round; stroke-linejoin:round; stroke-width:2; stroke-opacity:0.1; fill:none\" points=\"254.746,1339.17 2352.76,1339.17 \"/>\n",
       "<polyline clip-path=\"url(#clip452)\" style=\"stroke:#000000; stroke-linecap:round; stroke-linejoin:round; stroke-width:2; stroke-opacity:0.1; fill:none\" points=\"254.746,1130.64 2352.76,1130.64 \"/>\n",
       "<polyline clip-path=\"url(#clip452)\" style=\"stroke:#000000; stroke-linecap:round; stroke-linejoin:round; stroke-width:2; stroke-opacity:0.1; fill:none\" points=\"254.746,922.105 2352.76,922.105 \"/>\n",
       "<polyline clip-path=\"url(#clip452)\" style=\"stroke:#000000; stroke-linecap:round; stroke-linejoin:round; stroke-width:2; stroke-opacity:0.1; fill:none\" points=\"254.746,713.573 2352.76,713.573 \"/>\n",
       "<polyline clip-path=\"url(#clip452)\" style=\"stroke:#000000; stroke-linecap:round; stroke-linejoin:round; stroke-width:2; stroke-opacity:0.1; fill:none\" points=\"254.746,505.04 2352.76,505.04 \"/>\n",
       "<polyline clip-path=\"url(#clip452)\" style=\"stroke:#000000; stroke-linecap:round; stroke-linejoin:round; stroke-width:2; stroke-opacity:0.1; fill:none\" points=\"254.746,296.508 2352.76,296.508 \"/>\n",
       "<polyline clip-path=\"url(#clip452)\" style=\"stroke:#000000; stroke-linecap:round; stroke-linejoin:round; stroke-width:2; stroke-opacity:0.1; fill:none\" points=\"254.746,87.9763 2352.76,87.9763 \"/>\n",
       "<polyline clip-path=\"url(#clip450)\" style=\"stroke:#000000; stroke-linecap:round; stroke-linejoin:round; stroke-width:4; stroke-opacity:1; fill:none\" points=\"254.746,1486.45 254.746,47.2441 \"/>\n",
       "<polyline clip-path=\"url(#clip450)\" style=\"stroke:#000000; stroke-linecap:round; stroke-linejoin:round; stroke-width:4; stroke-opacity:1; fill:none\" points=\"254.746,1339.17 273.643,1339.17 \"/>\n",
       "<polyline clip-path=\"url(#clip450)\" style=\"stroke:#000000; stroke-linecap:round; stroke-linejoin:round; stroke-width:4; stroke-opacity:1; fill:none\" points=\"254.746,1130.64 273.643,1130.64 \"/>\n",
       "<polyline clip-path=\"url(#clip450)\" style=\"stroke:#000000; stroke-linecap:round; stroke-linejoin:round; stroke-width:4; stroke-opacity:1; fill:none\" points=\"254.746,922.105 273.643,922.105 \"/>\n",
       "<polyline clip-path=\"url(#clip450)\" style=\"stroke:#000000; stroke-linecap:round; stroke-linejoin:round; stroke-width:4; stroke-opacity:1; fill:none\" points=\"254.746,713.573 273.643,713.573 \"/>\n",
       "<polyline clip-path=\"url(#clip450)\" style=\"stroke:#000000; stroke-linecap:round; stroke-linejoin:round; stroke-width:4; stroke-opacity:1; fill:none\" points=\"254.746,505.04 273.643,505.04 \"/>\n",
       "<polyline clip-path=\"url(#clip450)\" style=\"stroke:#000000; stroke-linecap:round; stroke-linejoin:round; stroke-width:4; stroke-opacity:1; fill:none\" points=\"254.746,296.508 273.643,296.508 \"/>\n",
       "<polyline clip-path=\"url(#clip450)\" style=\"stroke:#000000; stroke-linecap:round; stroke-linejoin:round; stroke-width:4; stroke-opacity:1; fill:none\" points=\"254.746,87.9763 273.643,87.9763 \"/>\n",
       "<path clip-path=\"url(#clip450)\" d=\"M53.0754 1339.62 L82.7512 1339.62 L82.7512 1343.56 L53.0754 1343.56 L53.0754 1339.62 Z\" fill=\"#000000\" fill-rule=\"nonzero\" fill-opacity=\"1\" /><path clip-path=\"url(#clip450)\" d=\"M102.844 1324.97 Q99.2326 1324.97 97.4039 1328.53 Q95.5984 1332.07 95.5984 1339.2 Q95.5984 1346.31 97.4039 1349.87 Q99.2326 1353.42 102.844 1353.42 Q106.478 1353.42 108.283 1349.87 Q110.112 1346.31 110.112 1339.2 Q110.112 1332.07 108.283 1328.53 Q106.478 1324.97 102.844 1324.97 M102.844 1321.26 Q108.654 1321.26 111.709 1325.87 Q114.788 1330.45 114.788 1339.2 Q114.788 1347.93 111.709 1352.54 Q108.654 1357.12 102.844 1357.12 Q97.0335 1357.12 93.9549 1352.54 Q90.8993 1347.93 90.8993 1339.2 Q90.8993 1330.45 93.9549 1325.87 Q97.0335 1321.26 102.844 1321.26 Z\" fill=\"#000000\" fill-rule=\"nonzero\" fill-opacity=\"1\" /><path clip-path=\"url(#clip450)\" d=\"M123.006 1350.57 L127.89 1350.57 L127.89 1356.45 L123.006 1356.45 L123.006 1350.57 Z\" fill=\"#000000\" fill-rule=\"nonzero\" fill-opacity=\"1\" /><path clip-path=\"url(#clip450)\" d=\"M148.075 1324.97 Q144.464 1324.97 142.635 1328.53 Q140.83 1332.07 140.83 1339.2 Q140.83 1346.31 142.635 1349.87 Q144.464 1353.42 148.075 1353.42 Q151.709 1353.42 153.515 1349.87 Q155.343 1346.31 155.343 1339.2 Q155.343 1332.07 153.515 1328.53 Q151.709 1324.97 148.075 1324.97 M148.075 1321.26 Q153.885 1321.26 156.941 1325.87 Q160.019 1330.45 160.019 1339.2 Q160.019 1347.93 156.941 1352.54 Q153.885 1357.12 148.075 1357.12 Q142.265 1357.12 139.186 1352.54 Q136.131 1347.93 136.131 1339.2 Q136.131 1330.45 139.186 1325.87 Q142.265 1321.26 148.075 1321.26 Z\" fill=\"#000000\" fill-rule=\"nonzero\" fill-opacity=\"1\" /><path clip-path=\"url(#clip450)\" d=\"M169.047 1352.51 L176.686 1352.51 L176.686 1326.15 L168.376 1327.81 L168.376 1323.56 L176.64 1321.89 L181.316 1321.89 L181.316 1352.51 L188.954 1352.51 L188.954 1356.45 L169.047 1356.45 L169.047 1352.51 Z\" fill=\"#000000\" fill-rule=\"nonzero\" fill-opacity=\"1\" /><path clip-path=\"url(#clip450)\" d=\"M202.426 1352.51 L218.746 1352.51 L218.746 1356.45 L196.802 1356.45 L196.802 1352.51 Q199.464 1349.76 204.047 1345.13 Q208.653 1340.48 209.834 1339.13 Q212.079 1336.61 212.959 1334.87 Q213.862 1333.12 213.862 1331.43 Q213.862 1328.67 211.917 1326.94 Q209.996 1325.2 206.894 1325.2 Q204.695 1325.2 202.241 1325.96 Q199.811 1326.73 197.033 1328.28 L197.033 1323.56 Q199.857 1322.42 202.311 1321.84 Q204.764 1321.26 206.801 1321.26 Q212.172 1321.26 215.366 1323.95 Q218.561 1326.63 218.561 1331.12 Q218.561 1333.25 217.75 1335.18 Q216.963 1337.07 214.857 1339.67 Q214.278 1340.34 211.176 1343.56 Q208.075 1346.75 202.426 1352.51 Z\" fill=\"#000000\" fill-rule=\"nonzero\" fill-opacity=\"1\" /><path clip-path=\"url(#clip450)\" d=\"M51.4782 1131.09 L81.154 1131.09 L81.154 1135.02 L51.4782 1135.02 L51.4782 1131.09 Z\" fill=\"#000000\" fill-rule=\"nonzero\" fill-opacity=\"1\" /><path clip-path=\"url(#clip450)\" d=\"M101.246 1116.44 Q97.6354 1116.44 95.8067 1120 Q94.0012 1123.54 94.0012 1130.67 Q94.0012 1137.78 95.8067 1141.34 Q97.6354 1144.88 101.246 1144.88 Q104.881 1144.88 106.686 1141.34 Q108.515 1137.78 108.515 1130.67 Q108.515 1123.54 106.686 1120 Q104.881 1116.44 101.246 1116.44 M101.246 1112.73 Q107.057 1112.73 110.112 1117.34 Q113.191 1121.92 113.191 1130.67 Q113.191 1139.4 110.112 1144 Q107.057 1148.59 101.246 1148.59 Q95.4363 1148.59 92.3576 1144 Q89.3021 1139.4 89.3021 1130.67 Q89.3021 1121.92 92.3576 1117.34 Q95.4363 1112.73 101.246 1112.73 Z\" fill=\"#000000\" fill-rule=\"nonzero\" fill-opacity=\"1\" /><path clip-path=\"url(#clip450)\" d=\"M121.408 1142.04 L126.293 1142.04 L126.293 1147.92 L121.408 1147.92 L121.408 1142.04 Z\" fill=\"#000000\" fill-rule=\"nonzero\" fill-opacity=\"1\" /><path clip-path=\"url(#clip450)\" d=\"M146.478 1116.44 Q142.867 1116.44 141.038 1120 Q139.232 1123.54 139.232 1130.67 Q139.232 1137.78 141.038 1141.34 Q142.867 1144.88 146.478 1144.88 Q150.112 1144.88 151.918 1141.34 Q153.746 1137.78 153.746 1130.67 Q153.746 1123.54 151.918 1120 Q150.112 1116.44 146.478 1116.44 M146.478 1112.73 Q152.288 1112.73 155.343 1117.34 Q158.422 1121.92 158.422 1130.67 Q158.422 1139.4 155.343 1144 Q152.288 1148.59 146.478 1148.59 Q140.668 1148.59 137.589 1144 Q134.533 1139.4 134.533 1130.67 Q134.533 1121.92 137.589 1117.34 Q140.668 1112.73 146.478 1112.73 Z\" fill=\"#000000\" fill-rule=\"nonzero\" fill-opacity=\"1\" /><path clip-path=\"url(#clip450)\" d=\"M167.45 1143.98 L175.089 1143.98 L175.089 1117.62 L166.779 1119.28 L166.779 1115.02 L175.042 1113.36 L179.718 1113.36 L179.718 1143.98 L187.357 1143.98 L187.357 1147.92 L167.45 1147.92 L167.45 1143.98 Z\" fill=\"#000000\" fill-rule=\"nonzero\" fill-opacity=\"1\" /><path clip-path=\"url(#clip450)\" d=\"M206.801 1116.44 Q203.19 1116.44 201.362 1120 Q199.556 1123.54 199.556 1130.67 Q199.556 1137.78 201.362 1141.34 Q203.19 1144.88 206.801 1144.88 Q210.436 1144.88 212.241 1141.34 Q214.07 1137.78 214.07 1130.67 Q214.07 1123.54 212.241 1120 Q210.436 1116.44 206.801 1116.44 M206.801 1112.73 Q212.612 1112.73 215.667 1117.34 Q218.746 1121.92 218.746 1130.67 Q218.746 1139.4 215.667 1144 Q212.612 1148.59 206.801 1148.59 Q200.991 1148.59 197.913 1144 Q194.857 1139.4 194.857 1130.67 Q194.857 1121.92 197.913 1117.34 Q200.991 1112.73 206.801 1112.73 Z\" fill=\"#000000\" fill-rule=\"nonzero\" fill-opacity=\"1\" /><path clip-path=\"url(#clip450)\" d=\"M51.5708 922.556 L81.2466 922.556 L81.2466 926.491 L51.5708 926.491 L51.5708 922.556 Z\" fill=\"#000000\" fill-rule=\"nonzero\" fill-opacity=\"1\" /><path clip-path=\"url(#clip450)\" d=\"M101.339 907.903 Q97.728 907.903 95.8993 911.468 Q94.0937 915.01 94.0937 922.139 Q94.0937 929.246 95.8993 932.811 Q97.728 936.352 101.339 936.352 Q104.973 936.352 106.779 932.811 Q108.608 929.246 108.608 922.139 Q108.608 915.01 106.779 911.468 Q104.973 907.903 101.339 907.903 M101.339 904.2 Q107.149 904.2 110.205 908.806 Q113.283 913.389 113.283 922.139 Q113.283 930.866 110.205 935.473 Q107.149 940.056 101.339 940.056 Q95.5289 940.056 92.4502 935.473 Q89.3947 930.866 89.3947 922.139 Q89.3947 913.389 92.4502 908.806 Q95.5289 904.2 101.339 904.2 Z\" fill=\"#000000\" fill-rule=\"nonzero\" fill-opacity=\"1\" /><path clip-path=\"url(#clip450)\" d=\"M121.501 933.505 L126.385 933.505 L126.385 939.385 L121.501 939.385 L121.501 933.505 Z\" fill=\"#000000\" fill-rule=\"nonzero\" fill-opacity=\"1\" /><path clip-path=\"url(#clip450)\" d=\"M146.57 907.903 Q142.959 907.903 141.131 911.468 Q139.325 915.01 139.325 922.139 Q139.325 929.246 141.131 932.811 Q142.959 936.352 146.57 936.352 Q150.205 936.352 152.01 932.811 Q153.839 929.246 153.839 922.139 Q153.839 915.01 152.01 911.468 Q150.205 907.903 146.57 907.903 M146.57 904.2 Q152.38 904.2 155.436 908.806 Q158.515 913.389 158.515 922.139 Q158.515 930.866 155.436 935.473 Q152.38 940.056 146.57 940.056 Q140.76 940.056 137.681 935.473 Q134.626 930.866 134.626 922.139 Q134.626 913.389 137.681 908.806 Q140.76 904.2 146.57 904.2 Z\" fill=\"#000000\" fill-rule=\"nonzero\" fill-opacity=\"1\" /><path clip-path=\"url(#clip450)\" d=\"M176.732 907.903 Q173.121 907.903 171.292 911.468 Q169.487 915.01 169.487 922.139 Q169.487 929.246 171.292 932.811 Q173.121 936.352 176.732 936.352 Q180.366 936.352 182.172 932.811 Q184.001 929.246 184.001 922.139 Q184.001 915.01 182.172 911.468 Q180.366 907.903 176.732 907.903 M176.732 904.2 Q182.542 904.2 185.598 908.806 Q188.677 913.389 188.677 922.139 Q188.677 930.866 185.598 935.473 Q182.542 940.056 176.732 940.056 Q170.922 940.056 167.843 935.473 Q164.788 930.866 164.788 922.139 Q164.788 913.389 167.843 908.806 Q170.922 904.2 176.732 904.2 Z\" fill=\"#000000\" fill-rule=\"nonzero\" fill-opacity=\"1\" /><path clip-path=\"url(#clip450)\" d=\"M206.894 922.973 Q203.561 922.973 201.639 924.755 Q199.741 926.537 199.741 929.662 Q199.741 932.787 201.639 934.57 Q203.561 936.352 206.894 936.352 Q210.227 936.352 212.149 934.57 Q214.07 932.764 214.07 929.662 Q214.07 926.537 212.149 924.755 Q210.251 922.973 206.894 922.973 M202.218 920.982 Q199.209 920.241 197.519 918.181 Q195.852 916.121 195.852 913.158 Q195.852 909.014 198.792 906.607 Q201.755 904.2 206.894 904.2 Q212.056 904.2 214.996 906.607 Q217.936 909.014 217.936 913.158 Q217.936 916.121 216.246 918.181 Q214.579 920.241 211.593 920.982 Q214.973 921.769 216.848 924.061 Q218.746 926.352 218.746 929.662 Q218.746 934.686 215.667 937.371 Q212.612 940.056 206.894 940.056 Q201.177 940.056 198.098 937.371 Q195.042 934.686 195.042 929.662 Q195.042 926.352 196.94 924.061 Q198.839 921.769 202.218 920.982 M200.505 913.598 Q200.505 916.283 202.172 917.788 Q203.862 919.292 206.894 919.292 Q209.903 919.292 211.593 917.788 Q213.306 916.283 213.306 913.598 Q213.306 910.913 211.593 909.408 Q209.903 907.903 206.894 907.903 Q203.862 907.903 202.172 909.408 Q200.505 910.913 200.505 913.598 Z\" fill=\"#000000\" fill-rule=\"nonzero\" fill-opacity=\"1\" /><path clip-path=\"url(#clip450)\" d=\"M51.3162 714.024 L80.992 714.024 L80.992 717.959 L51.3162 717.959 L51.3162 714.024 Z\" fill=\"#000000\" fill-rule=\"nonzero\" fill-opacity=\"1\" /><path clip-path=\"url(#clip450)\" d=\"M101.084 699.371 Q97.4734 699.371 95.6447 702.936 Q93.8391 706.478 93.8391 713.607 Q93.8391 720.714 95.6447 724.279 Q97.4734 727.82 101.084 727.82 Q104.719 727.82 106.524 724.279 Q108.353 720.714 108.353 713.607 Q108.353 706.478 106.524 702.936 Q104.719 699.371 101.084 699.371 M101.084 695.668 Q106.895 695.668 109.95 700.274 Q113.029 704.857 113.029 713.607 Q113.029 722.334 109.95 726.941 Q106.895 731.524 101.084 731.524 Q95.2743 731.524 92.1956 726.941 Q89.1401 722.334 89.1401 713.607 Q89.1401 704.857 92.1956 700.274 Q95.2743 695.668 101.084 695.668 Z\" fill=\"#000000\" fill-rule=\"nonzero\" fill-opacity=\"1\" /><path clip-path=\"url(#clip450)\" d=\"M121.246 724.973 L126.131 724.973 L126.131 730.853 L121.246 730.853 L121.246 724.973 Z\" fill=\"#000000\" fill-rule=\"nonzero\" fill-opacity=\"1\" /><path clip-path=\"url(#clip450)\" d=\"M146.316 699.371 Q142.705 699.371 140.876 702.936 Q139.07 706.478 139.07 713.607 Q139.07 720.714 140.876 724.279 Q142.705 727.82 146.316 727.82 Q149.95 727.82 151.755 724.279 Q153.584 720.714 153.584 713.607 Q153.584 706.478 151.755 702.936 Q149.95 699.371 146.316 699.371 M146.316 695.668 Q152.126 695.668 155.181 700.274 Q158.26 704.857 158.26 713.607 Q158.26 722.334 155.181 726.941 Q152.126 731.524 146.316 731.524 Q140.506 731.524 137.427 726.941 Q134.371 722.334 134.371 713.607 Q134.371 704.857 137.427 700.274 Q140.506 695.668 146.316 695.668 Z\" fill=\"#000000\" fill-rule=\"nonzero\" fill-opacity=\"1\" /><path clip-path=\"url(#clip450)\" d=\"M176.478 699.371 Q172.866 699.371 171.038 702.936 Q169.232 706.478 169.232 713.607 Q169.232 720.714 171.038 724.279 Q172.866 727.82 176.478 727.82 Q180.112 727.82 181.917 724.279 Q183.746 720.714 183.746 713.607 Q183.746 706.478 181.917 702.936 Q180.112 699.371 176.478 699.371 M176.478 695.668 Q182.288 695.668 185.343 700.274 Q188.422 704.857 188.422 713.607 Q188.422 722.334 185.343 726.941 Q182.288 731.524 176.478 731.524 Q170.667 731.524 167.589 726.941 Q164.533 722.334 164.533 713.607 Q164.533 704.857 167.589 700.274 Q170.667 695.668 176.478 695.668 Z\" fill=\"#000000\" fill-rule=\"nonzero\" fill-opacity=\"1\" /><path clip-path=\"url(#clip450)\" d=\"M207.218 711.709 Q204.07 711.709 202.218 713.862 Q200.389 716.015 200.389 719.765 Q200.389 723.491 202.218 725.667 Q204.07 727.82 207.218 727.82 Q210.366 727.82 212.195 725.667 Q214.047 723.491 214.047 719.765 Q214.047 716.015 212.195 713.862 Q210.366 711.709 207.218 711.709 M216.5 697.056 L216.5 701.316 Q214.741 700.482 212.936 700.043 Q211.153 699.603 209.394 699.603 Q204.764 699.603 202.311 702.728 Q199.88 705.853 199.533 712.172 Q200.899 710.158 202.959 709.093 Q205.019 708.005 207.496 708.005 Q212.704 708.005 215.713 711.177 Q218.746 714.325 218.746 719.765 Q218.746 725.089 215.598 728.306 Q212.45 731.524 207.218 731.524 Q201.223 731.524 198.052 726.941 Q194.88 722.334 194.88 713.607 Q194.88 705.413 198.769 700.552 Q202.658 695.668 209.209 695.668 Q210.968 695.668 212.751 696.015 Q214.556 696.362 216.5 697.056 Z\" fill=\"#000000\" fill-rule=\"nonzero\" fill-opacity=\"1\" /><path clip-path=\"url(#clip450)\" d=\"M50.9921 505.492 L80.6679 505.492 L80.6679 509.427 L50.9921 509.427 L50.9921 505.492 Z\" fill=\"#000000\" fill-rule=\"nonzero\" fill-opacity=\"1\" /><path clip-path=\"url(#clip450)\" d=\"M100.76 490.839 Q97.1493 490.839 95.3206 494.404 Q93.515 497.946 93.515 505.075 Q93.515 512.182 95.3206 515.746 Q97.1493 519.288 100.76 519.288 Q104.395 519.288 106.2 515.746 Q108.029 512.182 108.029 505.075 Q108.029 497.946 106.2 494.404 Q104.395 490.839 100.76 490.839 M100.76 487.135 Q106.571 487.135 109.626 491.742 Q112.705 496.325 112.705 505.075 Q112.705 513.802 109.626 518.408 Q106.571 522.992 100.76 522.992 Q94.9502 522.992 91.8715 518.408 Q88.816 513.802 88.816 505.075 Q88.816 496.325 91.8715 491.742 Q94.9502 487.135 100.76 487.135 Z\" fill=\"#000000\" fill-rule=\"nonzero\" fill-opacity=\"1\" /><path clip-path=\"url(#clip450)\" d=\"M120.922 516.441 L125.807 516.441 L125.807 522.32 L120.922 522.32 L120.922 516.441 Z\" fill=\"#000000\" fill-rule=\"nonzero\" fill-opacity=\"1\" /><path clip-path=\"url(#clip450)\" d=\"M145.992 490.839 Q142.381 490.839 140.552 494.404 Q138.746 497.946 138.746 505.075 Q138.746 512.182 140.552 515.746 Q142.381 519.288 145.992 519.288 Q149.626 519.288 151.431 515.746 Q153.26 512.182 153.26 505.075 Q153.26 497.946 151.431 494.404 Q149.626 490.839 145.992 490.839 M145.992 487.135 Q151.802 487.135 154.857 491.742 Q157.936 496.325 157.936 505.075 Q157.936 513.802 154.857 518.408 Q151.802 522.992 145.992 522.992 Q140.181 522.992 137.103 518.408 Q134.047 513.802 134.047 505.075 Q134.047 496.325 137.103 491.742 Q140.181 487.135 145.992 487.135 Z\" fill=\"#000000\" fill-rule=\"nonzero\" fill-opacity=\"1\" /><path clip-path=\"url(#clip450)\" d=\"M176.153 490.839 Q172.542 490.839 170.714 494.404 Q168.908 497.946 168.908 505.075 Q168.908 512.182 170.714 515.746 Q172.542 519.288 176.153 519.288 Q179.788 519.288 181.593 515.746 Q183.422 512.182 183.422 505.075 Q183.422 497.946 181.593 494.404 Q179.788 490.839 176.153 490.839 M176.153 487.135 Q181.964 487.135 185.019 491.742 Q188.098 496.325 188.098 505.075 Q188.098 513.802 185.019 518.408 Q181.964 522.992 176.153 522.992 Q170.343 522.992 167.265 518.408 Q164.209 513.802 164.209 505.075 Q164.209 496.325 167.265 491.742 Q170.343 487.135 176.153 487.135 Z\" fill=\"#000000\" fill-rule=\"nonzero\" fill-opacity=\"1\" /><path clip-path=\"url(#clip450)\" d=\"M209.163 491.835 L197.357 510.283 L209.163 510.283 L209.163 491.835 M207.936 487.76 L213.815 487.76 L213.815 510.283 L218.746 510.283 L218.746 514.172 L213.815 514.172 L213.815 522.32 L209.163 522.32 L209.163 514.172 L193.561 514.172 L193.561 509.658 L207.936 487.76 Z\" fill=\"#000000\" fill-rule=\"nonzero\" fill-opacity=\"1\" /><path clip-path=\"url(#clip450)\" d=\"M53.0754 296.96 L82.7512 296.96 L82.7512 300.895 L53.0754 300.895 L53.0754 296.96 Z\" fill=\"#000000\" fill-rule=\"nonzero\" fill-opacity=\"1\" /><path clip-path=\"url(#clip450)\" d=\"M102.844 282.307 Q99.2326 282.307 97.4039 285.872 Q95.5984 289.413 95.5984 296.543 Q95.5984 303.65 97.4039 307.214 Q99.2326 310.756 102.844 310.756 Q106.478 310.756 108.283 307.214 Q110.112 303.65 110.112 296.543 Q110.112 289.413 108.283 285.872 Q106.478 282.307 102.844 282.307 M102.844 278.603 Q108.654 278.603 111.709 283.21 Q114.788 287.793 114.788 296.543 Q114.788 305.27 111.709 309.876 Q108.654 314.46 102.844 314.46 Q97.0335 314.46 93.9549 309.876 Q90.8993 305.27 90.8993 296.543 Q90.8993 287.793 93.9549 283.21 Q97.0335 278.603 102.844 278.603 Z\" fill=\"#000000\" fill-rule=\"nonzero\" fill-opacity=\"1\" /><path clip-path=\"url(#clip450)\" d=\"M123.006 307.909 L127.89 307.909 L127.89 313.788 L123.006 313.788 L123.006 307.909 Z\" fill=\"#000000\" fill-rule=\"nonzero\" fill-opacity=\"1\" /><path clip-path=\"url(#clip450)\" d=\"M148.075 282.307 Q144.464 282.307 142.635 285.872 Q140.83 289.413 140.83 296.543 Q140.83 303.65 142.635 307.214 Q144.464 310.756 148.075 310.756 Q151.709 310.756 153.515 307.214 Q155.343 303.65 155.343 296.543 Q155.343 289.413 153.515 285.872 Q151.709 282.307 148.075 282.307 M148.075 278.603 Q153.885 278.603 156.941 283.21 Q160.019 287.793 160.019 296.543 Q160.019 305.27 156.941 309.876 Q153.885 314.46 148.075 314.46 Q142.265 314.46 139.186 309.876 Q136.131 305.27 136.131 296.543 Q136.131 287.793 139.186 283.21 Q142.265 278.603 148.075 278.603 Z\" fill=\"#000000\" fill-rule=\"nonzero\" fill-opacity=\"1\" /><path clip-path=\"url(#clip450)\" d=\"M178.237 282.307 Q174.626 282.307 172.797 285.872 Q170.991 289.413 170.991 296.543 Q170.991 303.65 172.797 307.214 Q174.626 310.756 178.237 310.756 Q181.871 310.756 183.677 307.214 Q185.505 303.65 185.505 296.543 Q185.505 289.413 183.677 285.872 Q181.871 282.307 178.237 282.307 M178.237 278.603 Q184.047 278.603 187.103 283.21 Q190.181 287.793 190.181 296.543 Q190.181 305.27 187.103 309.876 Q184.047 314.46 178.237 314.46 Q172.427 314.46 169.348 309.876 Q166.292 305.27 166.292 296.543 Q166.292 287.793 169.348 283.21 Q172.427 278.603 178.237 278.603 Z\" fill=\"#000000\" fill-rule=\"nonzero\" fill-opacity=\"1\" /><path clip-path=\"url(#clip450)\" d=\"M202.426 309.853 L218.746 309.853 L218.746 313.788 L196.802 313.788 L196.802 309.853 Q199.464 307.099 204.047 302.469 Q208.653 297.816 209.834 296.474 Q212.079 293.951 212.959 292.214 Q213.862 290.455 213.862 288.765 Q213.862 286.011 211.917 284.275 Q209.996 282.539 206.894 282.539 Q204.695 282.539 202.241 283.302 Q199.811 284.066 197.033 285.617 L197.033 280.895 Q199.857 279.761 202.311 279.182 Q204.764 278.603 206.801 278.603 Q212.172 278.603 215.366 281.289 Q218.561 283.974 218.561 288.464 Q218.561 290.594 217.75 292.515 Q216.963 294.413 214.857 297.006 Q214.278 297.677 211.176 300.895 Q208.075 304.089 202.426 309.853 Z\" fill=\"#000000\" fill-rule=\"nonzero\" fill-opacity=\"1\" /><path clip-path=\"url(#clip450)\" d=\"M101.246 73.775 Q97.6354 73.775 95.8067 77.3398 Q94.0012 80.8814 94.0012 88.011 Q94.0012 95.1174 95.8067 98.6822 Q97.6354 102.224 101.246 102.224 Q104.881 102.224 106.686 98.6822 Q108.515 95.1174 108.515 88.011 Q108.515 80.8814 106.686 77.3398 Q104.881 73.775 101.246 73.775 M101.246 70.0713 Q107.057 70.0713 110.112 74.6777 Q113.191 79.261 113.191 88.011 Q113.191 96.7378 110.112 101.344 Q107.057 105.928 101.246 105.928 Q95.4363 105.928 92.3576 101.344 Q89.3021 96.7378 89.3021 88.011 Q89.3021 79.261 92.3576 74.6777 Q95.4363 70.0713 101.246 70.0713 Z\" fill=\"#000000\" fill-rule=\"nonzero\" fill-opacity=\"1\" /><path clip-path=\"url(#clip450)\" d=\"M121.408 99.3767 L126.293 99.3767 L126.293 105.256 L121.408 105.256 L121.408 99.3767 Z\" fill=\"#000000\" fill-rule=\"nonzero\" fill-opacity=\"1\" /><path clip-path=\"url(#clip450)\" d=\"M146.478 73.775 Q142.867 73.775 141.038 77.3398 Q139.232 80.8814 139.232 88.011 Q139.232 95.1174 141.038 98.6822 Q142.867 102.224 146.478 102.224 Q150.112 102.224 151.918 98.6822 Q153.746 95.1174 153.746 88.011 Q153.746 80.8814 151.918 77.3398 Q150.112 73.775 146.478 73.775 M146.478 70.0713 Q152.288 70.0713 155.343 74.6777 Q158.422 79.261 158.422 88.011 Q158.422 96.7378 155.343 101.344 Q152.288 105.928 146.478 105.928 Q140.668 105.928 137.589 101.344 Q134.533 96.7378 134.533 88.011 Q134.533 79.261 137.589 74.6777 Q140.668 70.0713 146.478 70.0713 Z\" fill=\"#000000\" fill-rule=\"nonzero\" fill-opacity=\"1\" /><path clip-path=\"url(#clip450)\" d=\"M176.64 73.775 Q173.029 73.775 171.2 77.3398 Q169.394 80.8814 169.394 88.011 Q169.394 95.1174 171.2 98.6822 Q173.029 102.224 176.64 102.224 Q180.274 102.224 182.079 98.6822 Q183.908 95.1174 183.908 88.011 Q183.908 80.8814 182.079 77.3398 Q180.274 73.775 176.64 73.775 M176.64 70.0713 Q182.45 70.0713 185.505 74.6777 Q188.584 79.261 188.584 88.011 Q188.584 96.7378 185.505 101.344 Q182.45 105.928 176.64 105.928 Q170.829 105.928 167.751 101.344 Q164.695 96.7378 164.695 88.011 Q164.695 79.261 167.751 74.6777 Q170.829 70.0713 176.64 70.0713 Z\" fill=\"#000000\" fill-rule=\"nonzero\" fill-opacity=\"1\" /><path clip-path=\"url(#clip450)\" d=\"M206.801 73.775 Q203.19 73.775 201.362 77.3398 Q199.556 80.8814 199.556 88.011 Q199.556 95.1174 201.362 98.6822 Q203.19 102.224 206.801 102.224 Q210.436 102.224 212.241 98.6822 Q214.07 95.1174 214.07 88.011 Q214.07 80.8814 212.241 77.3398 Q210.436 73.775 206.801 73.775 M206.801 70.0713 Q212.612 70.0713 215.667 74.6777 Q218.746 79.261 218.746 88.011 Q218.746 96.7378 215.667 101.344 Q212.612 105.928 206.801 105.928 Q200.991 105.928 197.913 101.344 Q194.857 96.7378 194.857 88.011 Q194.857 79.261 197.913 74.6777 Q200.991 70.0713 206.801 70.0713 Z\" fill=\"#000000\" fill-rule=\"nonzero\" fill-opacity=\"1\" /><polyline clip-path=\"url(#clip452)\" style=\"stroke:#009af9; stroke-linecap:round; stroke-linejoin:round; stroke-width:4; stroke-opacity:1; fill:none\" points=\"314.123,87.9763 333.916,131.416 353.709,174.804 373.501,218.09 393.294,261.225 413.086,304.159 432.879,346.845 452.671,389.238 472.464,431.291 492.256,472.96 512.049,514.203 531.842,554.976 551.634,595.239 571.427,634.951 591.219,674.074 611.012,712.569 630.804,750.399 650.597,787.529 670.389,823.923 690.182,859.548 709.974,894.37 729.767,928.358 749.56,961.481 769.352,993.71 789.145,1025.02 808.937,1055.37 828.73,1084.75 848.522,1113.12 868.315,1140.47 888.107,1166.76 907.9,1191.98 927.692,1216.11 947.485,1239.12 967.278,1261 987.07,1281.73 1006.86,1301.28 1026.66,1319.65 1046.45,1336.82 1066.24,1352.77 1086.03,1367.5 1105.83,1380.98 1125.62,1393.21 1145.41,1404.18 1165.2,1413.89 1185,1422.31 1204.79,1429.45 1224.58,1435.3 1244.37,1439.85 1264.17,1443.11 1283.96,1445.06 1303.75,1445.72 1323.54,1445.06 1343.34,1443.11 1363.13,1439.85 1382.92,1435.3 1402.71,1429.45 1422.51,1422.31 1442.3,1413.89 1462.09,1404.18 1481.88,1393.21 1501.68,1380.98 1521.47,1367.5 1541.26,1352.77 1561.05,1336.82 1580.85,1319.65 1600.64,1301.28 1620.43,1281.73 1640.22,1261 1660.02,1239.12 1679.81,1216.11 1699.6,1191.98 1719.39,1166.76 1739.19,1140.47 1758.98,1113.12 1778.77,1084.75 1798.56,1055.37 1818.36,1025.02 1838.15,993.71 1857.94,961.481 1877.73,928.358 1897.53,894.37 1917.32,859.548 1937.11,823.923 1956.9,787.529 1976.7,750.399 1996.49,712.569 2016.28,674.074 2036.08,634.951 2055.87,595.239 2075.66,554.976 2095.45,514.203 2115.25,472.96 2135.04,431.291 2154.83,389.238 2174.62,346.845 2194.42,304.159 2214.21,261.225 2234,218.09 2253.79,174.804 2273.59,131.416 2293.38,87.9763 \"/>\n",
       "<path clip-path=\"url(#clip450)\" d=\"M2020.59 1438.47 L2282.82 1438.47 L2282.82 1334.79 L2020.59 1334.79  Z\" fill=\"#ffffff\" fill-rule=\"evenodd\" fill-opacity=\"1\"/>\n",
       "<polyline clip-path=\"url(#clip450)\" style=\"stroke:#000000; stroke-linecap:round; stroke-linejoin:round; stroke-width:4; stroke-opacity:1; fill:none\" points=\"2020.59,1438.47 2282.82,1438.47 2282.82,1334.79 2020.59,1334.79 2020.59,1438.47 \"/>\n",
       "<polyline clip-path=\"url(#clip450)\" style=\"stroke:#009af9; stroke-linecap:round; stroke-linejoin:round; stroke-width:4; stroke-opacity:1; fill:none\" points=\"2043.9,1386.63 2183.77,1386.63 \"/>\n",
       "<path clip-path=\"url(#clip450)\" d=\"M2220.92 1406.32 Q2219.12 1410.95 2217.4 1412.36 Q2215.69 1413.78 2212.82 1413.78 L2209.42 1413.78 L2209.42 1410.21 L2211.92 1410.21 Q2213.68 1410.21 2214.65 1409.38 Q2215.62 1408.54 2216.8 1405.44 L2217.57 1403.5 L2207.08 1377.99 L2211.59 1377.99 L2219.7 1398.27 L2227.8 1377.99 L2232.31 1377.99 L2220.92 1406.32 Z\" fill=\"#000000\" fill-rule=\"nonzero\" fill-opacity=\"1\" /><path clip-path=\"url(#clip450)\" d=\"M2239.6 1399.98 L2247.24 1399.98 L2247.24 1373.61 L2238.93 1375.28 L2238.93 1371.02 L2247.2 1369.35 L2251.87 1369.35 L2251.87 1399.98 L2259.51 1399.98 L2259.51 1403.91 L2239.6 1403.91 L2239.6 1399.98 Z\" fill=\"#000000\" fill-rule=\"nonzero\" fill-opacity=\"1\" /></svg>\n"
      ]
     },
     "execution_count": 20,
     "metadata": {},
     "output_type": "execute_result"
    }
   ],
   "source": [
    "N=100; mesh = genMesh(N); \n",
    "A = genStiffMat(mesh); f = genVec(mesh,fsource); A,f = handleBoundaries!(A,f); \n",
    "u = linSolve(A,f)\n",
    "plot(mesh.Nodes,u)"
   ]
  },
  {
   "cell_type": "code",
   "execution_count": 21,
   "id": "daf0fca8",
   "metadata": {},
   "outputs": [
    {
     "name": "stdout",
     "output_type": "stream",
     "text": [
      "  36.791 μs (67 allocations: 124.55 KiB)\n",
      "  342.666 μs (69 allocations: 1.06 MiB)\n",
      "  3.606 ms (73 allocations: 10.45 MiB)\n"
     ]
    },
    {
     "data": {
      "text/plain": [
       "10001-element Vector{Float64}:\n",
       "  0.0\n",
       " -4.166666625392205e-6\n",
       " -8.33333275083441e-6\n",
       " -1.2499997876476613e-5\n",
       " -1.6666661502568816e-5\n",
       " -2.0833323129461016e-5\n",
       " -2.4999982257603213e-5\n",
       " -2.9166638387545404e-5\n",
       " -3.33332910199376e-5\n",
       " -3.749993965552978e-5\n",
       " -4.166658379517196e-5\n",
       " -4.583322293981413e-5\n",
       " -4.999985659050631e-5\n",
       "  ⋮\n",
       " -4.5833222932784917e-5\n",
       " -4.166658378878216e-5\n",
       " -3.749993964977941e-5\n",
       " -3.333329101482666e-5\n",
       " -2.9166638383073907e-5\n",
       " -2.4999982253771154e-5\n",
       " -2.0833323126263775e-5\n",
       " -1.666666150001102e-5\n",
       " -1.2499997874558264e-5\n",
       " -8.33333274955551e-6\n",
       " -4.166666624752754e-6\n",
       "  0.0"
      ]
     },
     "execution_count": 21,
     "metadata": {},
     "output_type": "execute_result"
    }
   ],
   "source": [
    "N=100; mesh = genMesh(N); \n",
    "A = genStiffMat(mesh); f = genVec(mesh,fsource); A,f = handleBoundaries!(A,f); \n",
    "@btime linSolve(A,f)\n",
    "N=1000; mesh = genMesh(N); \n",
    "A = genStiffMat(mesh); f = genVec(mesh,fsource); A,f = handleBoundaries!(A,f); \n",
    "@btime linSolve(A,f)\n",
    "N=10000; mesh = genMesh(N); \n",
    "A = genStiffMat(mesh); f = genVec(mesh,fsource); A,f = handleBoundaries!(A,f); \n",
    "@btime linSolve(A,f)"
   ]
  },
  {
   "cell_type": "code",
   "execution_count": null,
   "id": "82a796f5",
   "metadata": {},
   "outputs": [],
   "source": []
  },
  {
   "cell_type": "markdown",
   "id": "f8fd3a1f",
   "metadata": {},
   "source": [
    "## Sandbox"
   ]
  },
  {
   "cell_type": "code",
   "execution_count": null,
   "id": "194e5694",
   "metadata": {},
   "outputs": [],
   "source": []
  },
  {
   "cell_type": "code",
   "execution_count": null,
   "id": "896f581c",
   "metadata": {},
   "outputs": [],
   "source": []
  },
  {
   "cell_type": "code",
   "execution_count": null,
   "id": "6755d902",
   "metadata": {},
   "outputs": [],
   "source": []
  }
 ],
 "metadata": {
  "kernelspec": {
   "display_name": "Julia 1.8.1",
   "language": "julia",
   "name": "julia-1.8"
  },
  "language_info": {
   "file_extension": ".jl",
   "mimetype": "application/julia",
   "name": "julia",
   "version": "1.8.1"
  }
 },
 "nbformat": 4,
 "nbformat_minor": 5
}
