{
 "cells": [
  {
   "cell_type": "markdown",
   "id": "c2ce2251",
   "metadata": {},
   "source": [
    "# Type Stable Assembly of Vectors and Matrices \n",
    "# Using Preallocation and Static Arrays \n",
    "\n",
    "Here we collect various ideas on the type-stable generation of matrices and vectors. \n",
    "\n",
    "Information in this notebook was discussed on Discourse at [this post](https://discourse.julialang.org/t/vector-of-vectors-non-allocating/109762/6). "
   ]
  },
  {
   "cell_type": "markdown",
   "id": "86f26159",
   "metadata": {},
   "source": [
    "## Import Package"
   ]
  },
  {
   "cell_type": "code",
   "execution_count": 1,
   "id": "4c8b85fa",
   "metadata": {},
   "outputs": [],
   "source": [
    "using LinearAlgebra # to obtain the cross product in later examples \n",
    "using StaticArrays\n",
    "using BenchmarkTools"
   ]
  },
  {
   "cell_type": "markdown",
   "id": "7dba20f5",
   "metadata": {},
   "source": [
    "## Section 1: Generate  N-Vectors of Float64\n",
    "\n",
    "<b> Lessons Learned </b>: \n",
    "1. <i>undef</i> means <i>uninitialized</i>.  \n",
    "2. the keyword <i>missing</i> is explained at [Julia manual for missing](https://docs.julialang.org/en/v1/manual/missing/);"
   ]
  },
  {
   "cell_type": "markdown",
   "id": "79b2ad42",
   "metadata": {},
   "source": [
    "#### Working Version: Size of Vector Known at Compile Time \n",
    "This version is type-stable. This versions generates a static vector. This version might be inappropriate to generate very large vectors. "
   ]
  },
  {
   "cell_type": "code",
   "execution_count": 23,
   "id": "22a79455",
   "metadata": {},
   "outputs": [
    {
     "data": {
      "text/plain": [
       "genvec1 (generic function with 1 method)"
      ]
     },
     "execution_count": 23,
     "metadata": {},
     "output_type": "execute_result"
    }
   ],
   "source": [
    "function genvec1()\n",
    "    length = 4 \n",
    "    aaa = SVector{length, Float64}(ones(length)) \n",
    "    return aaa \n",
    "end"
   ]
  },
  {
   "cell_type": "code",
   "execution_count": 24,
   "id": "81298551",
   "metadata": {},
   "outputs": [
    {
     "data": {
      "text/plain": [
       "4-element SVector{4, Float64} with indices SOneTo(4):\n",
       " 1.0\n",
       " 1.0\n",
       " 1.0\n",
       " 1.0"
      ]
     },
     "execution_count": 24,
     "metadata": {},
     "output_type": "execute_result"
    }
   ],
   "source": [
    "a = genvec1()"
   ]
  },
  {
   "cell_type": "code",
   "execution_count": 25,
   "id": "18748e45",
   "metadata": {},
   "outputs": [
    {
     "name": "stdout",
     "output_type": "stream",
     "text": [
      "MethodInstance for genvec1()\n",
      "  from genvec1() in Main at In[23]:1\n",
      "Arguments\n",
      "  #self#\u001b[36m::Core.Const(genvec1)\u001b[39m\n",
      "Locals\n",
      "  aaa\u001b[36m::SVector{4, Float64}\u001b[39m\n",
      "  length\u001b[36m::Int64\u001b[39m\n",
      "Body\u001b[36m::SVector{4, Float64}\u001b[39m\n",
      "\u001b[90m1 ─\u001b[39m      (length = 4)\n",
      "\u001b[90m│  \u001b[39m %2 = Core.apply_type(Main.SVector, length::Core.Const(4), Main.Float64)\u001b[36m::Core.Const(SVector{4, Float64})\u001b[39m\n",
      "\u001b[90m│  \u001b[39m %3 = Main.ones(length::Core.Const(4))\u001b[36m::Vector{Float64}\u001b[39m\n",
      "\u001b[90m│  \u001b[39m      (aaa = (%2)(%3))\n",
      "\u001b[90m└──\u001b[39m      return aaa\n",
      "\n"
     ]
    }
   ],
   "source": [
    "@code_warntype genvec1()"
   ]
  },
  {
   "cell_type": "markdown",
   "id": "2942c0d9",
   "metadata": {},
   "source": [
    "#### Another Working Version: Generates a Non-static Vector"
   ]
  },
  {
   "cell_type": "code",
   "execution_count": null,
   "id": "55c2bb43",
   "metadata": {},
   "outputs": [],
   "source": [
    "function genvec2(N)\n",
    "    result = Vector{Float64}(undef,N)\n",
    "    for i=1:N\n",
    "        result[i] = 2*i \n",
    "    end \n",
    "    return result\n",
    "end "
   ]
  },
  {
   "cell_type": "code",
   "execution_count": 26,
   "id": "1971886f",
   "metadata": {},
   "outputs": [
    {
     "name": "stdout",
     "output_type": "stream",
     "text": [
      "  745.629 ns (11 allocations: 752 bytes)\n",
      "  834.507 ns (11 allocations: 2.17 KiB)\n",
      "  1.333 μs (12 allocations: 16.33 KiB)\n"
     ]
    }
   ],
   "source": [
    "N = 10;    @btime genvec2(N); \n",
    "N = 100;   @btime genvec2(N);\n",
    "N = 1000;  @btime genvec2(N);"
   ]
  },
  {
   "cell_type": "markdown",
   "id": "fbfa9b45",
   "metadata": {},
   "source": [
    "### Failing Version: Size of Vector Unknown at Compile Time\n",
    "\n",
    "This version is *not* type-stable. The macro @btime generates text is red font.  "
   ]
  },
  {
   "cell_type": "code",
   "execution_count": 10,
   "id": "f161d761",
   "metadata": {},
   "outputs": [
    {
     "data": {
      "text/plain": [
       "genvec2 (generic function with 1 method)"
      ]
     },
     "execution_count": 10,
     "metadata": {},
     "output_type": "execute_result"
    }
   ],
   "source": [
    "function genvec3(length::Int64)\n",
    "    aaa = SVector{length, Float64}(ones(length)) # value of length unknown at compile time \n",
    "    return aaa \n",
    "end"
   ]
  },
  {
   "cell_type": "code",
   "execution_count": 11,
   "id": "bc67ee85",
   "metadata": {
    "scrolled": true
   },
   "outputs": [
    {
     "data": {
      "text/plain": [
       "4-element SVector{4, Float64} with indices SOneTo(4):\n",
       " 1.0\n",
       " 1.0\n",
       " 1.0\n",
       " 1.0"
      ]
     },
     "execution_count": 11,
     "metadata": {},
     "output_type": "execute_result"
    }
   ],
   "source": [
    "genvec3(4)"
   ]
  },
  {
   "cell_type": "code",
   "execution_count": 12,
   "id": "0163d19e",
   "metadata": {
    "scrolled": true
   },
   "outputs": [
    {
     "name": "stdout",
     "output_type": "stream",
     "text": [
      "MethodInstance for genvec2(::Int64)\n",
      "  from genvec2(length::Int64) in Main at In[10]:1\n",
      "Arguments\n",
      "  #self#\u001b[36m::Core.Const(genvec2)\u001b[39m\n",
      "  length\u001b[36m::Int64\u001b[39m\n",
      "Locals\n",
      "  aaa\u001b[91m\u001b[1m::Any\u001b[22m\u001b[39m\n",
      "Body\u001b[91m\u001b[1m::Any\u001b[22m\u001b[39m\n",
      "\u001b[90m1 ─\u001b[39m %1 = Core.apply_type(Main.SVector, length, Main.Float64)\u001b[91m\u001b[1m::Type{SVector{_A, Float64}} where _A\u001b[22m\u001b[39m\n",
      "\u001b[90m│  \u001b[39m %2 = Main.ones(length)\u001b[36m::Vector{Float64}\u001b[39m\n",
      "\u001b[90m│  \u001b[39m      (aaa = (%1)(%2))\n",
      "\u001b[90m└──\u001b[39m      return aaa\n",
      "\n"
     ]
    }
   ],
   "source": [
    "@code_warntype genvec3(4)"
   ]
  },
  {
   "cell_type": "markdown",
   "id": "2d7ff741",
   "metadata": {},
   "source": [
    "## Section 2: Generate N-Vector of 2-Tuple of Int64\n",
    "\n",
    "Here we consider generating N-vectors of two-vectors on long integer.   "
   ]
  },
  {
   "cell_type": "markdown",
   "id": "bdd98050",
   "metadata": {},
   "source": [
    "### Native Bad Solutions to Avoid  \n",
    "\n",
    "In the solution that follows, a vector of size two is allocated for each value in the loop. The number that @btime increases proportionally with problem size. This solution provides a prototype we wish to avoid. "
   ]
  },
  {
   "cell_type": "code",
   "execution_count": 27,
   "id": "c781d247",
   "metadata": {},
   "outputs": [
    {
     "data": {
      "text/plain": [
       "genvectuple2 (generic function with 1 method)"
      ]
     },
     "execution_count": 27,
     "metadata": {},
     "output_type": "execute_result"
    }
   ],
   "source": [
    "# uses a Vector of Vector and thus need to allocate 1 outer Vector and N small Vectors\n",
    "function genvectuple2(N)\n",
    "    result = Vector{Vector{Int64}}(undef, N) # allocate one Vector\n",
    "    for i = 1:N\n",
    "        result[i] = [2i, 2i+1] # allocate one Vector per loop\n",
    "    end \n",
    "    return result\n",
    "end"
   ]
  },
  {
   "cell_type": "code",
   "execution_count": null,
   "id": "086931eb",
   "metadata": {},
   "outputs": [],
   "source": [
    "N = 10;    @btime genvectuple2(N); \n",
    "N = 100;   @btime genvectuple2(N);\n",
    "N = 1000;  @btime genvectuple2(N);"
   ]
  },
  {
   "cell_type": "code",
   "execution_count": 30,
   "id": "575c7a1c",
   "metadata": {},
   "outputs": [
    {
     "data": {
      "text/plain": [
       "genvectuple3 (generic function with 1 method)"
      ]
     },
     "execution_count": 30,
     "metadata": {},
     "output_type": "execute_result"
    }
   ],
   "source": [
    "# like genvectuple2 uses a Vector of Vector and thus need to allocate 1 outer Vector and N small Vectors\n",
    "function genvectuple3(N)\n",
    "    result = [zeros(Int64,2) for i=1:N] \n",
    "    # result = Vector{Vector{Int64}}(undef, N) # UndefRefError: access to undefined reference in line 5 \n",
    "    for i=1:N\n",
    "        # result[i] = (2*i, 2i+1) # using a generator - cannot convert Tuple{Int64, Int64} to Vector{Int64}  \n",
    "        result[i] .= (2*i, 2i+1) # using a generator   \n",
    "    end \n",
    "    return result\n",
    "end "
   ]
  },
  {
   "cell_type": "code",
   "execution_count": 29,
   "id": "1cf2b9d8",
   "metadata": {},
   "outputs": [
    {
     "name": "stdout",
     "output_type": "stream",
     "text": [
      "  244.975 ns (11 allocations: 928 bytes)\n",
      "  2.009 μs (101 allocations: 8.69 KiB)\n",
      "  19.625 μs (1001 allocations: 86.06 KiB)\n"
     ]
    }
   ],
   "source": [
    "N = 10;    @btime genvectuple3(N); \n",
    "N = 100;   @btime genvectuple3(N);\n",
    "N = 1000;  @btime genvectuple3(N);"
   ]
  },
  {
   "cell_type": "code",
   "execution_count": 31,
   "id": "e265e388",
   "metadata": {},
   "outputs": [
    {
     "data": {
      "text/plain": [
       "genvectuple4 (generic function with 1 method)"
      ]
     },
     "execution_count": 31,
     "metadata": {},
     "output_type": "execute_result"
    }
   ],
   "source": [
    "# this implementation fails while it does work for both mikmore and abraemer \n",
    "# probably need to update version of Julia used \n",
    "# needs only 1 allocation because it then uses views into the memory. \n",
    "# however each view is an indirection and so it is not as fast as it could be\n",
    "function genvectuple4(N)\n",
    "    result = eachcol(zeros(Int64, 2, N)) # allocate one Matrix but read it like many Vectors\n",
    "    for i = 1:N\n",
    "        result[i] .= (2i, 2i+1) # fill the sliced matrix with values\n",
    "    end \n",
    "    return result\n",
    "end"
   ]
  },
  {
   "cell_type": "markdown",
   "id": "db7cf901",
   "metadata": {},
   "source": [
    "### More Bad Solutions Even Though Static Arrays Are Used "
   ]
  },
  {
   "cell_type": "code",
   "execution_count": null,
   "id": "d86fa43c",
   "metadata": {},
   "outputs": [],
   "source": [
    "# genvectuple5 is really the very same thing as genvectuple3. \n",
    "# In some sense a SVector is just a fancy tuple, so are genvec5 and genvec3 identical.\n",
    "function genvectuple5(N)\n",
    "    # result = Vector{Vector{Int64}}(undef, N)\n",
    "    result = [zeros(Int64,2) for i=1:N]\n",
    "    # result = eachcol(zeros(Int64, 2, N)) # allocate one Matrix but read it like many Vectors\n",
    "    for i = 1:N\n",
    "        result[i] .= SVector(2i, 2i+1) # fill the sliced matrix with values\n",
    "    end \n",
    "    return result\n",
    "end"
   ]
  },
  {
   "cell_type": "code",
   "execution_count": 32,
   "id": "a47eb960",
   "metadata": {},
   "outputs": [
    {
     "data": {
      "text/plain": [
       "genvectuple6 (generic function with 1 method)"
      ]
     },
     "execution_count": 32,
     "metadata": {},
     "output_type": "execute_result"
    }
   ],
   "source": [
    "# use as function \n",
    "# genvec6 does not work for me. \n",
    "# But conceptually it would use a SVector of SVectors which is theoretically fine\n",
    "# but would cause a lot of trouble for the compiler as it now has to compile a new method \n",
    "# for every length of the outer vector. \n",
    "# That’s why StaticArrays.jl recommends not using it beyond ~100 elements or so.\n",
    "function genvectuple6(N) \n",
    "    result = @SVector [ ( 2*i, 2*i+1 ) for i=1:N ]\n",
    "    return result\n",
    "end"
   ]
  },
  {
   "cell_type": "markdown",
   "id": "499666ae",
   "metadata": {},
   "source": [
    "### Finally a Good Solution - Hurray! \n",
    "\n",
    "The implementations genvec7 and genvec8 do the most sensible thing: They use a Vector of SVector. That is best of both worlds. We can have a varying amount of small vectors without troubling the compiler but operations on the small vectors is still fast because Julia knows their length. In fact Julia can optimize away even the allocation of the small vectors because they all have the same known size and are thus stored inline inside the outer array (this is not possible with Vector because a Vector can grow in size thus needs to live in the heap separately). Btw: This approach is conceptually very close to genvec4. The data of the inner vectors is packed together in a single large array in memory. The main difference is just the way of accessing it. Here SVector makes a large difference compared to views, because again views can have varying sizes and thus Julia cannot optimize them away and so there is an additional layer of indirection.\n",
    "\n",
    "The solution that follows employs both static arrays and map. Can both of these ingredients be avoided? "
   ]
  },
  {
   "cell_type": "code",
   "execution_count": 33,
   "id": "eb767344",
   "metadata": {},
   "outputs": [
    {
     "data": {
      "text/plain": [
       "genvec7 (generic function with 1 method)"
      ]
     },
     "execution_count": 33,
     "metadata": {},
     "output_type": "execute_result"
    }
   ],
   "source": [
    "function genvec7(N)\n",
    "    result = map(i -> @SVector[2i,2i+1], 1:N) # allocate one Vector\n",
    "    return result\n",
    "end"
   ]
  },
  {
   "cell_type": "code",
   "execution_count": 35,
   "id": "c258274e",
   "metadata": {},
   "outputs": [
    {
     "data": {
      "text/plain": [
       "genvec8 (generic function with 1 method)"
      ]
     },
     "execution_count": 35,
     "metadata": {},
     "output_type": "execute_result"
    }
   ],
   "source": [
    "function genvec8(N)\n",
    "    elemtype = typeof(@SVector[1,2])\n",
    "    result = Vector{elemtype}(undef,N) # vector of SVector\n",
    "    for i = eachindex(result)\n",
    "        result[i] = @SVector[2i, 2i+1] # fill the slots (no broadcast!)\n",
    "    end\n",
    "    return result\n",
    "end"
   ]
  },
  {
   "cell_type": "code",
   "execution_count": 36,
   "id": "d643e1f2",
   "metadata": {},
   "outputs": [
    {
     "name": "stdout",
     "output_type": "stream",
     "text": [
      "  31.617 ns (1 allocation: 224 bytes)\n",
      "  77.246 ns (1 allocation: 1.77 KiB)\n",
      "  630.737 ns (1 allocation: 15.75 KiB)\n"
     ]
    }
   ],
   "source": [
    "N = 10;    @btime genvec8(N); \n",
    "N = 100;   @btime genvec8(N);\n",
    "N = 1000;  @btime genvec8(N);"
   ]
  },
  {
   "cell_type": "markdown",
   "id": "a6da15cd",
   "metadata": {},
   "source": [
    "## Section 3: Constructing Matrices   "
   ]
  },
  {
   "cell_type": "markdown",
   "id": "d9a4ce9c",
   "metadata": {},
   "source": [
    "### Script Version for easy experimenting"
   ]
  },
  {
   "cell_type": "code",
   "execution_count": null,
   "id": "1984e82c",
   "metadata": {},
   "outputs": [],
   "source": [
    "N = 3;\n",
    "A = zeros(3*N, 3*N)\n",
    "display(A)"
   ]
  },
  {
   "cell_type": "markdown",
   "id": "753371ea",
   "metadata": {},
   "source": [
    "### Function Version for benchmarking: Version 1: Using Generator and Static Arrays "
   ]
  },
  {
   "cell_type": "code",
   "execution_count": 14,
   "id": "8f2708ca",
   "metadata": {},
   "outputs": [
    {
     "data": {
      "text/plain": [
       "genMat1 (generic function with 1 method)"
      ]
     },
     "execution_count": 14,
     "metadata": {},
     "output_type": "execute_result"
    }
   ],
   "source": [
    "function genMat1(N)\n",
    "\n",
    "    #..initizalize \n",
    "    A = zeros(3*N, 3*N)\n",
    "    \n",
    "    #..loop over element in the mesh \n",
    "    for i = 1:N \n",
    "       for j = 1:N \n",
    "          Aloc = SMatrix{3,3}(i+j for i=1:3, j=1:3)\n",
    "          A[3*(i-1)+1:3*i,3*(j-1)+1:3*j] = Aloc \n",
    "       end\n",
    "    end    \n",
    "    \n",
    "    return A \n",
    "end "
   ]
  },
  {
   "cell_type": "code",
   "execution_count": 15,
   "id": "68c30752",
   "metadata": {},
   "outputs": [
    {
     "name": "stdout",
     "output_type": "stream",
     "text": [
      "  1.683 μs (1 allocation: 7.19 KiB)\n",
      "  151.917 μs (2 allocations: 703.17 KiB)\n",
      "  19.650 ms (2 allocations: 68.66 MiB)\n",
      "  3.003 s (2 allocations: 6.71 GiB)\n"
     ]
    }
   ],
   "source": [
    "N = 10;    @btime genMat1(N); \n",
    "N = 100;   @btime genMat1(N); \n",
    "N = 1000;  @btime genMat1(N); \n",
    "N = 10000; @btime genMat1(N); "
   ]
  },
  {
   "cell_type": "markdown",
   "id": "aaa81e65",
   "metadata": {},
   "source": [
    "### Function Version 2: Using Preallocation and Explicit Double For Loop  "
   ]
  },
  {
   "cell_type": "code",
   "execution_count": 16,
   "id": "5b21e438",
   "metadata": {},
   "outputs": [
    {
     "data": {
      "text/plain": [
       "genMat2 (generic function with 1 method)"
      ]
     },
     "execution_count": 16,
     "metadata": {},
     "output_type": "execute_result"
    }
   ],
   "source": [
    "function genMat2(N)\n",
    "\n",
    "    #..initizalize \n",
    "    A = zeros(3*N, 3*N)\n",
    "    Aloc = zeros(3,3)\n",
    "    \n",
    "    #..loop over element in the mesh \n",
    "    for i = 1:N \n",
    "       for j = 1:N \n",
    "            \n",
    "            for ii=1:3\n",
    "                for jj=1:3\n",
    "                    Aloc[ii,jj] = i+j \n",
    "                end \n",
    "            end \n",
    "            \n",
    "          A[3*(i-1)+1:3*i,3*(j-1)+1:3*j] = Aloc \n",
    "       end\n",
    "    end    \n",
    "    \n",
    "    return A \n",
    "end "
   ]
  },
  {
   "cell_type": "code",
   "execution_count": null,
   "id": "ef25a11a",
   "metadata": {},
   "outputs": [],
   "source": [
    "N = 10;    @btime genMat2(N); \n",
    "N = 100;   @btime genMat2(N); \n",
    "#N = 1000;  @btime genMat2(N); \n",
    "#N = 10000; @btime genMat2(N); "
   ]
  },
  {
   "cell_type": "markdown",
   "id": "969633d2",
   "metadata": {},
   "source": [
    "### Function Version 3: Fails: Using Preallocation Avoiding Explicit Double For Loop  "
   ]
  },
  {
   "cell_type": "code",
   "execution_count": 18,
   "id": "c17294a2",
   "metadata": {},
   "outputs": [
    {
     "data": {
      "text/plain": [
       "genMat3 (generic function with 1 method)"
      ]
     },
     "execution_count": 18,
     "metadata": {},
     "output_type": "execute_result"
    }
   ],
   "source": [
    "function genMat3(N)\n",
    "\n",
    "    #..initizalize \n",
    "    A = zeros(3*N, 3*N)\n",
    "    Aloc = zeros(3,3)\n",
    "    \n",
    "    #..loop over element in the mesh \n",
    "    for i = 1:N \n",
    "       for j = 1:N \n",
    "                        \n",
    "          [Aloc[i,j] = i+j for i=1:3, j=1:3]\n",
    "            \n",
    "          A[3*(i-1)+1:3*i,3*(j-1)+1:3*j] = Aloc \n",
    "       end\n",
    "    end    \n",
    "    \n",
    "    return A \n",
    "end "
   ]
  },
  {
   "cell_type": "code",
   "execution_count": 19,
   "id": "a0bae5ed",
   "metadata": {},
   "outputs": [
    {
     "name": "stdout",
     "output_type": "stream",
     "text": [
      "  4.101 μs (102 allocations: 19.81 KiB)\n",
      "  393.459 μs (10003 allocations: 1.91 MiB)\n"
     ]
    }
   ],
   "source": [
    "N = 10;    @btime genMat3(N); \n",
    "N = 100;   @btime genMat3(N); \n",
    "#N = 1000;  @btime genMat2(N); \n",
    "#N = 10000; @btime genMat2(N);|"
   ]
  },
  {
   "cell_type": "markdown",
   "id": "7cfc75d2",
   "metadata": {},
   "source": [
    "### Function Version 4: Using Preallocation and Explicit Double For Loop: More Complex Example "
   ]
  },
  {
   "cell_type": "code",
   "execution_count": 20,
   "id": "218dacef",
   "metadata": {},
   "outputs": [
    {
     "data": {
      "text/plain": [
       "myCross! (generic function with 1 method)"
      ]
     },
     "execution_count": 20,
     "metadata": {},
     "output_type": "execute_result"
    }
   ],
   "source": [
    "function myCross!(result,a,b)\n",
    "# computes outer product of a and b and stores results oin w\n",
    "# assumption is that memory for w has been allocated outside this function     \n",
    "    result[1] = a[2]*b[3] - a[3]*b[2]\n",
    "    result[2] = -a[1]*b[3] + a[3]*b[1]\n",
    "    result[3] = a[1]*b[3] - a[3]*b[1]\n",
    "    return result\n",
    "end "
   ]
  },
  {
   "cell_type": "code",
   "execution_count": 21,
   "id": "ea18aaed",
   "metadata": {},
   "outputs": [
    {
     "data": {
      "text/plain": [
       "genMat4 (generic function with 1 method)"
      ]
     },
     "execution_count": 21,
     "metadata": {},
     "output_type": "execute_result"
    }
   ],
   "source": [
    "function genMat4(N)\n",
    "\n",
    "    #..initizalize \n",
    "    A = zeros(3*N, 3*N)\n",
    "    Aloc = zeros(3,3)\n",
    "    a = [0.;1;0]\n",
    "    at = [0. 1 0]\n",
    "    b = [0.;0;1]\n",
    "    w = zeros(3)\n",
    "    \n",
    "    #..loop over element in the mesh \n",
    "    for i = 1:N \n",
    "       for j = 1:N \n",
    "\n",
    "            for ii=1:3\n",
    "                for jj=1:3\n",
    "                    w = myCross!(w,a,b)\n",
    "                    Aloc[ii,jj] = norm(w) \n",
    "                end \n",
    "            end \n",
    "            \n",
    "          A[3*(i-1)+1:3*i,3*(j-1)+1:3*j] = Aloc \n",
    "       end\n",
    "    end    \n",
    "    \n",
    "    return A \n",
    "end"
   ]
  },
  {
   "cell_type": "code",
   "execution_count": 22,
   "id": "3d5af74f",
   "metadata": {},
   "outputs": [
    {
     "name": "stdout",
     "output_type": "stream",
     "text": [
      "  10.667 μs (18 allocations: 7.95 KiB)\n",
      "  1.028 ms (19 allocations: 703.94 KiB)\n"
     ]
    }
   ],
   "source": [
    "N = 10;    @btime genMat4(N); \n",
    "N = 100;   @btime genMat4(N); \n",
    "#N = 1000;  @btime genMat2(N); \n",
    "#N = 10000; @btime genMat2(N);"
   ]
  },
  {
   "cell_type": "code",
   "execution_count": null,
   "id": "0b0d5de9",
   "metadata": {},
   "outputs": [],
   "source": []
  }
 ],
 "metadata": {
  "kernelspec": {
   "display_name": "Julia 1.8.1",
   "language": "julia",
   "name": "julia-1.8"
  },
  "language_info": {
   "file_extension": ".jl",
   "mimetype": "application/julia",
   "name": "julia",
   "version": "1.8.1"
  }
 },
 "nbformat": 4,
 "nbformat_minor": 5
}
