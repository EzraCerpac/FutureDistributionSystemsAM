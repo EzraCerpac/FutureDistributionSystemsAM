{
 "cells": [
  {
   "cell_type": "markdown",
   "id": "0bebbc9c",
   "metadata": {},
   "source": [
    "# Generating Structs and  StructArrays "
   ]
  },
  {
   "cell_type": "markdown",
   "id": "43dac0a0",
   "metadata": {},
   "source": [
    "## Import Libraries"
   ]
  },
  {
   "cell_type": "code",
   "execution_count": 3,
   "id": "2d8f56f7",
   "metadata": {},
   "outputs": [],
   "source": [
    "using LinearAlgebra\n",
    "using StructArrays \n",
    "using Statistics\n",
    "using StaticArrays\n",
    "using BenchmarkTools"
   ]
  },
  {
   "cell_type": "code",
   "execution_count": 4,
   "id": "f0f41c7a",
   "metadata": {},
   "outputs": [
    {
     "data": {
      "text/plain": [
       "3-element Vector{MyPair}:\n",
       " MyPair(1.0, 10.0)\n",
       " MyPair(2.0, 20.0)\n",
       " MyPair(3.0, 30.0)"
      ]
     },
     "metadata": {},
     "output_type": "display_data"
    },
    {
     "data": {
      "text/plain": [
       "MyPair[]"
      ]
     },
     "execution_count": 4,
     "metadata": {},
     "output_type": "execute_result"
    }
   ],
   "source": [
    "struct MyPair\n",
    "  x::Float64\n",
    "  y::Float64\n",
    "end\n",
    "\n",
    "# works fine \n",
    "vec = Vector{MyPair}()\n",
    "push!(vec, MyPair(1,10))\n",
    "push!(vec, MyPair(2,20))\n",
    "push!(vec, MyPair(3,30))\n",
    "display(vec)\n",
    "\n",
    "# fails \n",
    "#vec2 = Vector{StructVector{MyPair}}()\n",
    "vec2 = Vector{MyPair}()\n",
    "# push!(vec2, StructVector{MyPair}((1,10)))\n",
    "# push!(vec2, StructVector{MyPair}((2,20)))\n",
    "# push!(vec2, StructVector{MyPair}((3,30)))\n",
    "# display(vec2)"
   ]
  },
  {
   "cell_type": "code",
   "execution_count": 5,
   "id": "465b3b17",
   "metadata": {},
   "outputs": [
    {
     "data": {
      "text/plain": [
       "Foo{Int64}(1, 10)"
      ]
     },
     "metadata": {},
     "output_type": "display_data"
    },
    {
     "data": {
      "text/plain": [
       "1"
      ]
     },
     "metadata": {},
     "output_type": "display_data"
    },
    {
     "data": {
      "text/plain": [
       "3-element Vector{Int64}:\n",
       " 1\n",
       " 2\n",
       " 3"
      ]
     },
     "execution_count": 5,
     "metadata": {},
     "output_type": "execute_result"
    }
   ],
   "source": [
    "struct Foo{N<:Number}\n",
    "           a::N\n",
    "           b::N\n",
    "end\n",
    "\n",
    "# vector of structs - individual members of the struct are NOT iterable - we get stuck \n",
    "# foo[1] does return first element of structure \n",
    "# foo[1][1] results in getindex error \n",
    "foo = [Foo(1, 10), Foo(2, 20), Foo(3, 30)]\n",
    "display(foo[1])\n",
    "\n",
    "# convert into a structarray \n",
    "foo = [Foo(1, 1), Foo(2, 2), Foo(3, 30)] |> StructArray\n",
    "display(foo.a[1])\n",
    "\n",
    "# collect all first elements in a list \n",
    "as = foo.a "
   ]
  },
  {
   "cell_type": "code",
   "execution_count": null,
   "id": "b9ec0ba8",
   "metadata": {},
   "outputs": [],
   "source": []
  }
 ],
 "metadata": {
  "kernelspec": {
   "display_name": "Julia 1.8.1",
   "language": "julia",
   "name": "julia-1.8"
  },
  "language_info": {
   "file_extension": ".jl",
   "mimetype": "application/julia",
   "name": "julia",
   "version": "1.8.1"
  }
 },
 "nbformat": 4,
 "nbformat_minor": 5
}
