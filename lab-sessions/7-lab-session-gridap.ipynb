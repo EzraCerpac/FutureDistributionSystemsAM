{
 "cells": [
  {
   "cell_type": "markdown",
   "id": "8d3b3a2c",
   "metadata": {},
   "source": [
    "# Scalar diffusion and convection-diffusion problem on channel geometry with uniform mesh using Gridap  "
   ]
  },
  {
   "cell_type": "markdown",
   "id": "19ed2fd7",
   "metadata": {},
   "source": [
    "## Import libraries "
   ]
  },
  {
   "cell_type": "code",
   "execution_count": 104,
   "id": "11d2582e",
   "metadata": {},
   "outputs": [],
   "source": [
    "using Gridap"
   ]
  },
  {
   "cell_type": "markdown",
   "id": "4efe360f",
   "metadata": {},
   "source": [
    "## Section 1:/ Diffusion Problem \n",
    "1. how to extend to non-linear diffusion? See [example](https://gridap.github.io/Tutorials/stable/pages/t004_p_laplacian/)\n",
    "2. how to extend to time-dependent diffusion? See [example](https://gridap.github.io/Tutorials/dev/pages/t017_poisson_transient/). \n",
    "3. how to extend to vector-valued problems? See [example](https://gridap.github.io/Tutorials/stable/pages/t009_stokes/)\n",
    "4. how to accomodate parallel computing? See [tutorial](https://gridap.github.io/Tutorials/dev/pages/t016_poisson_distributed/)"
   ]
  },
  {
   "cell_type": "code",
   "execution_count": 223,
   "id": "675ab8d4",
   "metadata": {},
   "outputs": [
    {
     "data": {
      "text/plain": [
       "CartesianDiscreteModel()"
      ]
     },
     "execution_count": 223,
     "metadata": {},
     "output_type": "execute_result"
    }
   ],
   "source": [
    "domain = (0,3,0,1)\n",
    "partition = (30,10)\n",
    "model = CartesianDiscreteModel(domain,partition)"
   ]
  },
  {
   "cell_type": "code",
   "execution_count": 224,
   "id": "393170ff",
   "metadata": {},
   "outputs": [
    {
     "data": {
      "text/plain": [
       "TrialFESpace()"
      ]
     },
     "execution_count": 224,
     "metadata": {},
     "output_type": "execute_result"
    }
   ],
   "source": [
    "# Define Lagrangian reference element\n",
    "order = 1\n",
    "reffe = ReferenceFE(lagrangian,Float64,order)\n",
    "Vh = FESpace(model, reffe; conformity=:H1, dirichlet_tags = [7,8])\n",
    "Uh = TrialFESpace(Vh, [0, 1]) # Left boundary: u = 0, right boundary: u = 1"
   ]
  },
  {
   "cell_type": "code",
   "execution_count": 225,
   "id": "6b9f30fc",
   "metadata": {},
   "outputs": [
    {
     "data": {
      "text/plain": [
       "Measure()"
      ]
     },
     "execution_count": 225,
     "metadata": {},
     "output_type": "execute_result"
    }
   ],
   "source": [
    "degree = 2\n",
    "Ω = Triangulation(model)\n",
    "dΩ = Measure(Ω,degree)"
   ]
  },
  {
   "cell_type": "code",
   "execution_count": 238,
   "id": "15c25133",
   "metadata": {},
   "outputs": [
    {
     "data": {
      "text/plain": [
       "b (generic function with 1 method)"
      ]
     },
     "execution_count": 238,
     "metadata": {},
     "output_type": "execute_result"
    }
   ],
   "source": [
    "# working version \n",
    "ff(x) = 0\n",
    "a(u,v) = ∫( ∇(v)⋅∇(u) + u*u*v)*dΩ\n",
    "b(v) = ∫( ff*v )*dΩ"
   ]
  },
  {
   "cell_type": "code",
   "execution_count": 239,
   "id": "70377638",
   "metadata": {},
   "outputs": [
    {
     "data": {
      "text/plain": [
       "AffineFEOperator()"
      ]
     },
     "execution_count": 239,
     "metadata": {},
     "output_type": "execute_result"
    }
   ],
   "source": [
    "op = AffineFEOperator(a,b,Uh,Vh)"
   ]
  },
  {
   "cell_type": "code",
   "execution_count": 240,
   "id": "48a7adb1",
   "metadata": {},
   "outputs": [
    {
     "data": {
      "text/plain": [
       "LinearFESolver()"
      ]
     },
     "execution_count": 240,
     "metadata": {},
     "output_type": "execute_result"
    }
   ],
   "source": [
    "ls = LUSolver()\n",
    "solver = LinearFESolver(ls)"
   ]
  },
  {
   "cell_type": "code",
   "execution_count": 244,
   "id": "16949ff2",
   "metadata": {},
   "outputs": [
    {
     "name": "stdout",
     "output_type": "stream",
     "text": [
      "search: \u001b[0m\u001b[1mL\u001b[22m\u001b[0m\u001b[1mU\u001b[22m\u001b[0m\u001b[1mS\u001b[22m\u001b[0m\u001b[1mo\u001b[22m\u001b[0m\u001b[1ml\u001b[22m\u001b[0m\u001b[1mv\u001b[22m\u001b[0m\u001b[1me\u001b[22m\u001b[0m\u001b[1mr\u001b[22m\n",
      "\n"
     ]
    },
    {
     "data": {
      "text/latex": [
       "\\begin{verbatim}\n",
       "struct LUSolver <: LinearSolver end\n",
       "\\end{verbatim}\n",
       "Wrapper of the LU solver available in julia\n",
       "\n"
      ],
      "text/markdown": [
       "```\n",
       "struct LUSolver <: LinearSolver end\n",
       "```\n",
       "\n",
       "Wrapper of the LU solver available in julia\n"
      ],
      "text/plain": [
       "  \u001b[38;5;197mstruct\u001b[0m \u001b[0m\u001b[39mLUSolver\u001b[0m \u001b[0m\u001b[38;5;197m<:\u001b[0m \u001b[0m\u001b[39mLinearSolver\u001b[0m \u001b[0m\u001b[38;5;197mend\u001b[0m\u001b[39m\u001b[0m\n",
       "\n",
       "\n",
       "  Wrapper of the LU solver available in julia"
      ]
     },
     "execution_count": 244,
     "metadata": {},
     "output_type": "execute_result"
    }
   ],
   "source": [
    "?LUSolver"
   ]
  },
  {
   "cell_type": "code",
   "execution_count": 249,
   "id": "596d22b8",
   "metadata": {},
   "outputs": [
    {
     "name": "stdout",
     "output_type": "stream",
     "text": [
      "AffineFEOperator()"
     ]
    }
   ],
   "source": [
    "print(op)"
   ]
  },
  {
   "cell_type": "code",
   "execution_count": 241,
   "id": "360e3535",
   "metadata": {},
   "outputs": [
    {
     "data": {
      "text/plain": [
       "SingleFieldFEFunction():\n",
       " num_cells: 300\n",
       " DomainStyle: ReferenceDomain()\n",
       " Triangulation: BodyFittedTriangulation()\n",
       " Triangulation id: 10336619661980285595"
      ]
     },
     "execution_count": 241,
     "metadata": {},
     "output_type": "execute_result"
    }
   ],
   "source": [
    "uh = solve(solver,op)"
   ]
  },
  {
   "cell_type": "code",
   "execution_count": 243,
   "id": "9ad76cd9",
   "metadata": {},
   "outputs": [
    {
     "name": "stdout",
     "output_type": "stream",
     "text": [
      "search: \u001b[0m\u001b[1ms\u001b[22m\u001b[0m\u001b[1mo\u001b[22m\u001b[0m\u001b[1ml\u001b[22m\u001b[0m\u001b[1mv\u001b[22m\u001b[0m\u001b[1me\u001b[22m \u001b[0m\u001b[1ms\u001b[22m\u001b[0m\u001b[1mo\u001b[22m\u001b[0m\u001b[1ml\u001b[22m\u001b[0m\u001b[1mv\u001b[22m\u001b[0m\u001b[1me\u001b[22m! \u001b[0m\u001b[1ms\u001b[22m\u001b[0m\u001b[1mo\u001b[22m\u001b[0m\u001b[1ml\u001b[22m\u001b[0m\u001b[1mv\u001b[22m\u001b[0m\u001b[1me\u001b[22mr NL\u001b[0m\u001b[1mS\u001b[22m\u001b[0m\u001b[1mo\u001b[22m\u001b[0m\u001b[1ml\u001b[22m\u001b[0m\u001b[1mv\u001b[22m\u001b[0m\u001b[1me\u001b[22mr LU\u001b[0m\u001b[1mS\u001b[22m\u001b[0m\u001b[1mo\u001b[22m\u001b[0m\u001b[1ml\u001b[22m\u001b[0m\u001b[1mv\u001b[22m\u001b[0m\u001b[1me\u001b[22mr FE\u001b[0m\u001b[1mS\u001b[22m\u001b[0m\u001b[1mo\u001b[22m\u001b[0m\u001b[1ml\u001b[22m\u001b[0m\u001b[1mv\u001b[22m\u001b[0m\u001b[1me\u001b[22mr LinearFE\u001b[0m\u001b[1mS\u001b[22m\u001b[0m\u001b[1mo\u001b[22m\u001b[0m\u001b[1ml\u001b[22m\u001b[0m\u001b[1mv\u001b[22m\u001b[0m\u001b[1me\u001b[22mr\n",
      "\n"
     ]
    },
    {
     "data": {
      "text/latex": [
       "\\begin{verbatim}\n",
       "solve(nls::NonlinearSolver,op::NonlinearOperator)\n",
       "\\end{verbatim}\n",
       "Creates and uses a zero initial guess.\n",
       "\n",
       "\\rule{\\textwidth}{1pt}\n",
       "\\begin{verbatim}\n",
       "solve(ls::LinearSolver,A::AbstractMatrix,b::AbstractVector)\n",
       "\\end{verbatim}\n",
       "\\rule{\\textwidth}{1pt}\n",
       "Solve that allocates, and sets initial guess to zero and returns the solution\n",
       "\n",
       "\\rule{\\textwidth}{1pt}\n"
      ],
      "text/markdown": [
       "```\n",
       "solve(nls::NonlinearSolver,op::NonlinearOperator)\n",
       "```\n",
       "\n",
       "Creates and uses a zero initial guess.\n",
       "\n",
       "---\n",
       "\n",
       "```\n",
       "solve(ls::LinearSolver,A::AbstractMatrix,b::AbstractVector)\n",
       "```\n",
       "\n",
       "---\n",
       "\n",
       "Solve that allocates, and sets initial guess to zero and returns the solution\n",
       "\n",
       "---\n",
       "\n"
      ],
      "text/plain": [
       "  \u001b[38;5;81msolve\u001b[0m(\u001b[0m\u001b[39mnls\u001b[0m\u001b[38;5;81m::\u001b[0m\u001b[38;5;81mNonlinearSolver\u001b[0m\u001b[39m,\u001b[0m\u001b[39mop\u001b[0m\u001b[38;5;81m::\u001b[0m\u001b[38;5;81mNonlinearOperator\u001b[0m\u001b[39m)\u001b[0m\u001b[39m\u001b[0m\n",
       "\n",
       "\n",
       "  Creates and uses a zero initial guess.\n",
       "\n",
       "  ────────────────────────────────────────────────────────────────────────────\n",
       "\n",
       "  \u001b[38;5;81msolve\u001b[0m(\u001b[0m\u001b[39mls\u001b[0m\u001b[38;5;81m::\u001b[0m\u001b[38;5;81mLinearSolver\u001b[0m\u001b[39m,\u001b[0m\u001b[39mA\u001b[0m\u001b[38;5;81m::\u001b[0m\u001b[38;5;81mAbstractMatrix\u001b[0m\u001b[39m,\u001b[0m\u001b[39mb\u001b[0m\u001b[38;5;81m::\u001b[0m\u001b[38;5;81mAbstractVector\u001b[0m\u001b[39m)\u001b[0m\u001b[39m\u001b[0m\n",
       "\n",
       "\n",
       "  ────────────────────────────────────────────────────────────────────────────\n",
       "\n",
       "  Solve that allocates, and sets initial guess to zero and returns the\n",
       "  solution\n",
       "\n",
       "  ────────────────────────────────────────────────────────────────────────────\n",
       "\n"
      ]
     },
     "execution_count": 243,
     "metadata": {},
     "output_type": "execute_result"
    }
   ],
   "source": [
    "?solve"
   ]
  },
  {
   "cell_type": "code",
   "execution_count": 242,
   "id": "ed154d61",
   "metadata": {},
   "outputs": [
    {
     "data": {
      "text/plain": [
       "([\"results.vtu\"],)"
      ]
     },
     "execution_count": 242,
     "metadata": {},
     "output_type": "execute_result"
    }
   ],
   "source": [
    "writevtk(Ω,\"results\",cellfields=[\"uh\"=>uh])"
   ]
  },
  {
   "cell_type": "markdown",
   "id": "8da6e819",
   "metadata": {},
   "source": [
    "## Section 2:/ Convection-Diffusion Problem "
   ]
  },
  {
   "cell_type": "code",
   "execution_count": 215,
   "id": "8a4220fa",
   "metadata": {},
   "outputs": [
    {
     "data": {
      "text/plain": [
       "CartesianDiscreteModel()"
      ]
     },
     "execution_count": 215,
     "metadata": {},
     "output_type": "execute_result"
    }
   ],
   "source": [
    "domain = (0,3,0,1)\n",
    "partition = (30,10)\n",
    "model = CartesianDiscreteModel(domain,partition)"
   ]
  },
  {
   "cell_type": "code",
   "execution_count": 216,
   "id": "a919e53c",
   "metadata": {},
   "outputs": [
    {
     "data": {
      "text/plain": [
       "TrialFESpace()"
      ]
     },
     "execution_count": 216,
     "metadata": {},
     "output_type": "execute_result"
    }
   ],
   "source": [
    "# Define Lagrangian reference element\n",
    "order = 1\n",
    "reffe = ReferenceFE(lagrangian,Float64,order)\n",
    "Vh = FESpace(model, reffe; conformity=:H1, dirichlet_tags = [7,8])\n",
    "Uh = TrialFESpace(Vh, [0, 1]) # Left boundary: u = 0, right boundary: u = 1"
   ]
  },
  {
   "cell_type": "code",
   "execution_count": 217,
   "id": "94647738",
   "metadata": {},
   "outputs": [
    {
     "data": {
      "text/plain": [
       "Measure()"
      ]
     },
     "execution_count": 217,
     "metadata": {},
     "output_type": "execute_result"
    }
   ],
   "source": [
    "degree = 1\n",
    "Ω = Triangulation(model)\n",
    "dΩ = Measure(Ω,degree)"
   ]
  },
  {
   "cell_type": "code",
   "execution_count": 218,
   "id": "fc4b5c82",
   "metadata": {},
   "outputs": [
    {
     "data": {
      "text/plain": [
       "b (generic function with 1 method)"
      ]
     },
     "execution_count": 218,
     "metadata": {},
     "output_type": "execute_result"
    }
   ],
   "source": [
    "# working version \n",
    "ff(x) = 0\n",
    "velocity(x) = VectorValue( 1.0, 0.0 )\n",
    "a(u,v) = ∫( 0.1*∇(v)⋅∇(u) + (velocity ⋅ ∇(u))*v)*dΩ\n",
    "b(v) = ∫( v*ff )*dΩ"
   ]
  },
  {
   "cell_type": "code",
   "execution_count": 219,
   "id": "06148f40",
   "metadata": {},
   "outputs": [
    {
     "data": {
      "text/plain": [
       "AffineFEOperator()"
      ]
     },
     "execution_count": 219,
     "metadata": {},
     "output_type": "execute_result"
    }
   ],
   "source": [
    "op = AffineFEOperator(a,b,Uh,Vh)"
   ]
  },
  {
   "cell_type": "code",
   "execution_count": 220,
   "id": "483d8996",
   "metadata": {},
   "outputs": [
    {
     "data": {
      "text/plain": [
       "LinearFESolver()"
      ]
     },
     "execution_count": 220,
     "metadata": {},
     "output_type": "execute_result"
    }
   ],
   "source": [
    "ls = LUSolver()\n",
    "solver = LinearFESolver(ls)"
   ]
  },
  {
   "cell_type": "code",
   "execution_count": 221,
   "id": "638507f3",
   "metadata": {},
   "outputs": [
    {
     "data": {
      "text/plain": [
       "SingleFieldFEFunction():\n",
       " num_cells: 300\n",
       " DomainStyle: ReferenceDomain()\n",
       " Triangulation: BodyFittedTriangulation()\n",
       " Triangulation id: 221304387296365017"
      ]
     },
     "execution_count": 221,
     "metadata": {},
     "output_type": "execute_result"
    }
   ],
   "source": [
    "uh = solve(solver,op)"
   ]
  },
  {
   "cell_type": "code",
   "execution_count": 222,
   "id": "df95028c",
   "metadata": {},
   "outputs": [
    {
     "data": {
      "text/plain": [
       "([\"results.vtu\"],)"
      ]
     },
     "execution_count": 222,
     "metadata": {},
     "output_type": "execute_result"
    }
   ],
   "source": [
    "writevtk(Ω,\"results\",cellfields=[\"uh\"=>uh])"
   ]
  },
  {
   "cell_type": "code",
   "execution_count": null,
   "id": "9d77d72b",
   "metadata": {},
   "outputs": [],
   "source": []
  },
  {
   "cell_type": "code",
   "execution_count": null,
   "id": "040c50e0",
   "metadata": {},
   "outputs": [],
   "source": []
  }
 ],
 "metadata": {
  "kernelspec": {
   "display_name": "Julia 1.8.1",
   "language": "julia",
   "name": "julia-1.8"
  },
  "language_info": {
   "file_extension": ".jl",
   "mimetype": "application/julia",
   "name": "julia",
   "version": "1.8.1"
  }
 },
 "nbformat": 4,
 "nbformat_minor": 5
}
