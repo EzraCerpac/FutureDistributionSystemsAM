{
 "cells": [
  {
   "cell_type": "markdown",
   "metadata": {},
   "source": [
    "# EE4375: Seventh Lab Session: Two Dimensional Finite Element Simulation of an Inductor\n",
    "# Geometry Definition and Mesh Generation  "
   ]
  },
  {
   "cell_type": "markdown",
   "metadata": {},
   "source": [
    "## Import Packages"
   ]
  },
  {
   "cell_type": "code",
   "execution_count": 1,
   "metadata": {},
   "outputs": [
    {
     "name": "stderr",
     "output_type": "stream",
     "text": [
      "\u001b[36m\u001b[1m[ \u001b[22m\u001b[39m\u001b[36m\u001b[1mInfo: \u001b[22m\u001b[39mPrecompiling GRUtils [0337cf30-a0fd-11e9-31db-a79914c9d7ac]\n"
     ]
    }
   ],
   "source": [
    "import Gmsh: gmsh \n",
    "using GR \n",
    "using GRUtils\n",
    "using Plots"
   ]
  },
  {
   "cell_type": "markdown",
   "metadata": {},
   "source": [
    "## Section 1: Geometry Definition and Mesh Generation (requires improvememts)"
   ]
  },
  {
   "cell_type": "markdown",
   "metadata": {},
   "source": [
    "### Set Geometrical Constants"
   ]
  },
  {
   "cell_type": "code",
   "execution_count": 2,
   "metadata": {},
   "outputs": [
    {
     "data": {
      "text/plain": [
       "0.7"
      ]
     },
     "execution_count": 2,
     "metadata": {},
     "output_type": "execute_result"
    }
   ],
   "source": [
    "#..set air gap thickness (in mm)\n",
    "lg = 0.7    "
   ]
  },
  {
   "cell_type": "markdown",
   "metadata": {},
   "source": [
    "### Set Meshing Constants "
   ]
  },
  {
   "cell_type": "code",
   "execution_count": 13,
   "metadata": {},
   "outputs": [
    {
     "data": {
      "text/plain": [
       "2"
      ]
     },
     "execution_count": 13,
     "metadata": {},
     "output_type": "execute_result"
    }
   ],
   "source": [
    "cl = 5     #mesh size at bounday\n",
    "c2 = lg/2  #mesh size at airgap\n",
    "c3 = 2     #mesh size at component"
   ]
  },
  {
   "cell_type": "markdown",
   "metadata": {},
   "source": [
    "### Main Cell "
   ]
  },
  {
   "cell_type": "code",
   "execution_count": 14,
   "metadata": {},
   "outputs": [
    {
     "name": "stdout",
     "output_type": "stream",
     "text": [
      "Info    : Meshing 1D...\n",
      "Info    : [  0%] Meshing curve 101 (Line)\n",
      "Info    : [ 10%] Meshing curve 102 (Line)\n",
      "Info    : [ 10%] Meshing curve 103 (Line)\n",
      "Info    : [ 10%] Meshing curve 104 (Line)\n",
      "Info    : [ 10%] Meshing curve 105 (Line)\n",
      "Info    : [ 20%] Meshing curve 106 (Line)\n",
      "Info    : [ 20%] Meshing curve 107 (Line)\n",
      "Info    : [ 20%] Meshing curve 108 (Line)\n",
      "Info    : [ 20%] Meshing curve 109 (Line)\n",
      "Info    : [ 30%] Meshing curve 110 (Line)\n",
      "Info    : [ 30%] Meshing curve 111 (Line)\n",
      "Info    : [ 30%] Meshing curve 112 (Line)\n",
      "Info    : [ 30%] Meshing curve 113 (Line)\n",
      "Info    : [ 40%] Meshing curve 114 (Line)\n",
      "Info    : [ 40%] Meshing curve 115 (Line)\n",
      "Info    : [ 40%] Meshing curve 116 (Line)\n",
      "Info    : [ 40%] Meshing curve 117 (Line)\n",
      "Info    : [ 50%] Meshing curve 118 (Line)\n",
      "Info    : [ 50%] Meshing curve 119 (Line)\n",
      "Info    : [ 50%] Meshing curve 120 (Line)\n",
      "Info    : [ 50%] Meshing curve 121 (Line)\n",
      "Info    : [ 60%] Meshing curve 122 (Line)\n",
      "Info    : [ 60%] Meshing curve 123 (Line)\n",
      "Info    : [ 60%] Meshing curve 124 (Line)\n",
      "Info    : [ 60%] Meshing curve 125 (Line)\n",
      "Info    : [ 70%] Meshing curve 126 (Line)\n",
      "Info    : [ 70%] Meshing curve 127 (Line)\n",
      "Info    : [ 70%] Meshing curve 128 (Line)\n",
      "Info    : [ 70%] Meshing curve 129 (Line)\n",
      "Info    : [ 80%] Meshing curve 130 (Line)\n",
      "Info    : [ 80%] Meshing curve 131 (Line)\n",
      "Info    : [ 80%] Meshing curve 132 (Line)\n",
      "Info    : [ 80%] Meshing curve 133 (Line)\n",
      "Info    : [ 90%] Meshing curve 134 (Line)\n",
      "Info    : [ 90%] Meshing curve 135 (Line)\n",
      "Info    : [ 90%] Meshing curve 136 (Line)\n",
      "Info    : [ 90%] Meshing curve 137 (Line)\n",
      "Info    : [100%] Meshing curve 138 (Line)\n",
      "Info    : [100%] Meshing curve 139 (Line)\n",
      "Info    : [100%] Meshing curve 140 (Line)\n",
      "Info    : Done meshing 1D (Wall 0.0165328s, CPU 0.016469s)\n",
      "Info    : Meshing 2D...\n",
      "Info    : [  0%] Meshing surface 301 (Plane, Frontal-Delaunay)\n",
      "Info    : [ 20%] Meshing surface 302 (Plane, Frontal-Delaunay)\n",
      "Info    : [ 30%] Meshing surface 303 (Plane, Frontal-Delaunay)\n",
      "Info    : [ 50%] Meshing surface 304 (Plane, Frontal-Delaunay)\n",
      "Info    : [ 60%] Meshing surface 305 (Plane, Frontal-Delaunay)\n",
      "Info    : [ 80%] Meshing surface 306 (Plane, Frontal-Delaunay)\n",
      "Info    : [ 90%] Meshing surface 307 (Plane, Frontal-Delaunay)\n",
      "Info    : Done meshing 2D (Wall 0.115432s, CPU 0.115189s)\n",
      "Info    : 5887 nodes 12354 elements\n",
      "Info    : Writing 'data/inductor.msh'...\n",
      "Info    : Done writing 'data/inductor.msh'\n",
      "-------------------------------------------------------\n",
      "Version       : 4.12.2\n",
      "License       : GNU General Public License\n",
      "Build OS      : MacOSX-sdk\n",
      "Build date    : 19700101\n",
      "Build host    : amdci7.julia.csail.mit.edu\n",
      "Build options : 64Bit ALGLIB[contrib] ANN[contrib] Bamg Blossom Cairo DIntegration Dlopen DomHex Eigen[contrib] Fltk GMP Gmm[contrib] Hxt Jpeg Kbipack MathEx[contrib] Mesh Metis[contrib] Mmg Mpeg Netgen ONELAB ONELABMetamodel OpenCASCADE OpenCASCADE-CAF OpenGL OpenMP OptHom Parser Plugins Png Post QuadMeshingTools QuadTri Solver TetGen/BR Voro++[contrib] WinslowUntangler Zlib\n",
      "FLTK version  : 1.3.8\n",
      "OCC version   : 7.6.2\n",
      "Packaged by   : root\n",
      "Web site      : https://gmsh.info\n",
      "Issue tracker : https://gitlab.onelab.info/gmsh/gmsh/issues\n",
      "-------------------------------------------------------\n"
     ]
    },
    {
     "name": "stderr",
     "output_type": "stream",
     "text": [
      "Warning : Unknown entity of dimension 2 and tag 301 in physical group 401\n",
      "Warning : Unknown entity of dimension 2 and tag 302 in physical group 401\n",
      "Warning : Unknown entity of dimension 2 and tag 307 in physical group 401\n",
      "Warning : Unknown entity of dimension 2 and tag 303 in physical group 402\n",
      "Warning : Unknown entity of dimension 2 and tag 304 in physical group 403\n",
      "Warning : Unknown entity of dimension 2 and tag 305 in physical group 404\n",
      "Warning : Unknown entity of dimension 2 and tag 306 in physical group 405\n"
     ]
    }
   ],
   "source": [
    "#..1/5: initialize gmsh\n",
    "gmsh.initialize()\n",
    "\n",
    "#..2/5: generate geometry\n",
    "gmsh.option.setNumber(\"General.Terminal\", 1)\n",
    "#..define the model\n",
    "model = gmsh.model\n",
    "model.add(\"Inductor\")\n",
    "\n",
    "#..define four points in the geometry\n",
    "gmsh.model.geo.addPoint(50, 50, 0., cl, 1)\n",
    "gmsh.model.geo.addPoint(-50, 50, 0., cl, 2)\n",
    "gmsh.model.geo.addPoint(-50, -50,0., cl, 3)\n",
    "gmsh.model.geo.addPoint(50, -50, 0., cl, 4)\n",
    "\n",
    "#..upper half of core\n",
    "gmsh.model.geo.addPoint(-27.25, lg/2, 0., c2, 5)\n",
    "gmsh.model.geo.addPoint(-27.25, 27.6+lg/2, 0., c3, 6)\n",
    "gmsh.model.geo.addPoint(27.25, 27.6+lg/2, 0., c3, 7)\n",
    "gmsh.model.geo.addPoint(27.25, lg/2, 0., c2, 8)\n",
    "gmsh.model.geo.addPoint(20.6, lg/2, 0., c2, 9)\n",
    "gmsh.model.geo.addPoint(20.6, 20.2+lg/2, 0., c3, 10)\n",
    "gmsh.model.geo.addPoint(7.422, 20.2+lg/2, 0., c3, 11)\n",
    "gmsh.model.geo.addPoint(7.422, lg/2, 0., c2, 12)\n",
    "gmsh.model.geo.addPoint(-7.422, lg/2, 0., c2, 13)\n",
    "gmsh.model.geo.addPoint(-7.422, 20.2+lg/2, 0., c3, 14)\n",
    "gmsh.model.geo.addPoint(-20.6, 20.2+lg/2, 0., c3, 15)\n",
    "gmsh.model.geo.addPoint(-20.6, lg/2, 0., c2, 16)\n",
    "\n",
    "#..lower half of core\n",
    "gmsh.model.geo.addPoint(-27.25, -lg/2, 0., c2, 17)\n",
    "gmsh.model.geo.addPoint(-27.25, -27.6-lg/2, 0., c3, 18)\n",
    "gmsh.model.geo.addPoint(27.25, -27.6-lg/2, 0., c3, 19)\n",
    "gmsh.model.geo.addPoint(27.25, -lg/2, 0., c2, 20)\n",
    "gmsh.model.geo.addPoint(20.6, -lg/2, 0., c2, 21)\n",
    "gmsh.model.geo.addPoint(20.6, -20.2-lg/2, 0., c3, 22)\n",
    "gmsh.model.geo.addPoint(7.422, -20.2-lg/2, 0., c3, 23)\n",
    "gmsh.model.geo.addPoint(7.422, -lg/2, 0., c2, 24)\n",
    "gmsh.model.geo.addPoint(-7.422, -lg/2, 0., c2, 25)\n",
    "gmsh.model.geo.addPoint(-7.422, -20.2-lg/2, 0., c3, 26)\n",
    "gmsh.model.geo.addPoint(-20.6, -20.2-lg/2, 0., c3, 27)\n",
    "gmsh.model.geo.addPoint(-20.6, -lg/2, 0., c2, 28)\n",
    "\n",
    "#..define four edges in the geometry\n",
    "gmsh.model.geo.addLine(1, 2, 101)\n",
    "gmsh.model.geo.addLine(2, 3, 102)\n",
    "gmsh.model.geo.addLine(3, 4, 103)\n",
    "gmsh.model.geo.addLine(4, 1, 104)\n",
    "\n",
    "#..upper half of core\n",
    "gmsh.model.geo.addLine(5, 6, 105)\n",
    "gmsh.model.geo.addLine(6, 7, 106)\n",
    "gmsh.model.geo.addLine(7, 8, 107)\n",
    "gmsh.model.geo.addLine(8, 9, 108)\n",
    "gmsh.model.geo.addLine(9, 10, 109)\n",
    "gmsh.model.geo.addLine(10, 11, 110)\n",
    "gmsh.model.geo.addLine(11, 12, 111)\n",
    "gmsh.model.geo.addLine(12, 13, 112)\n",
    "gmsh.model.geo.addLine(13, 14, 113)\n",
    "gmsh.model.geo.addLine(14, 15, 114)\n",
    "gmsh.model.geo.addLine(15, 16, 115)\n",
    "gmsh.model.geo.addLine(16, 5, 116)\n",
    "\n",
    "#..lower half of core\n",
    "gmsh.model.geo.addLine(18, 17, 117)\n",
    "gmsh.model.geo.addLine(19, 18, 118)\n",
    "gmsh.model.geo.addLine(20, 19, 119)\n",
    "gmsh.model.geo.addLine(21, 20, 120)\n",
    "gmsh.model.geo.addLine(22, 21, 121)\n",
    "gmsh.model.geo.addLine(23, 22, 122)\n",
    "gmsh.model.geo.addLine(24, 23, 123)\n",
    "gmsh.model.geo.addLine(25, 24, 124)\n",
    "gmsh.model.geo.addLine(26, 25, 125)\n",
    "gmsh.model.geo.addLine(27, 26, 126)\n",
    "gmsh.model.geo.addLine(28, 27, 127)\n",
    "gmsh.model.geo.addLine(17, 28, 128)\n",
    "\n",
    "# close off winding slots (right to left)\n",
    "gmsh.model.geo.addLine(21, 9, 129)\n",
    "gmsh.model.geo.addLine(12, 24, 130)\n",
    "gmsh.model.geo.addLine(25, 13, 131)\n",
    "gmsh.model.geo.addLine(16, 28, 132)\n",
    "\n",
    "# link core area to outside\n",
    "gmsh.model.geo.addLine(2, 6, 133)\n",
    "gmsh.model.geo.addLine(19, 4, 134)\n",
    "gmsh.model.geo.addLine(9, 21, 135)\n",
    "gmsh.model.geo.addLine(6, 2, 136)\n",
    "gmsh.model.geo.addLine(4, 19, 137)\n",
    "gmsh.model.geo.addLine(28,16, 138)\n",
    "\n",
    "# redefine air gap lines for middle gap\n",
    "gmsh.model.geo.addLine(24, 12, 139)\n",
    "gmsh.model.geo.addLine(13, 25, 140)\n",
    "\n",
    "#..define outer boundary\n",
    "gmsh.model.geo.addCurveLoop([101, 133, 106, 107, 108, 135, 120, 119, 134, 104], 201) # air 1\n",
    "gmsh.model.geo.addCurveLoop([102, 103, 137, 118, 117, 128, 138, 116, 105, 136], 202) # air 2\n",
    "gmsh.model.geo.addCurveLoop([105, 106, 107, 108, 109, 110, 111, 112, 113, 114, 115, 116], 203) # upper core\n",
    "gmsh.model.geo.addCurveLoop([117, 118, 119, 120, 121, 122, 123, 124, 125, 126, 127, 128], 204) # lower core\n",
    "gmsh.model.geo.addCurveLoop([109, 110, 111, 130, 123, 122 , 121, 129], 205) # right winding gap\n",
    "gmsh.model.geo.addCurveLoop([113, 114, 115, 131, 125, 126 ,127, 132], 206) # left winding gap\n",
    "gmsh.model.geo.addCurveLoop([112, 140, 124, 139], 207) # middle air gap\n",
    "\n",
    "#..define planar surface\n",
    "gmsh.model.geo.addPlaneSurface([201], 301)\n",
    "gmsh.model.geo.addPlaneSurface([202], 302)\n",
    "gmsh.model.geo.addPlaneSurface([203], 303)\n",
    "gmsh.model.geo.addPlaneSurface([204], 304)\n",
    "gmsh.model.geo.addPlaneSurface([205], 305)\n",
    "gmsh.model.geo.addPlaneSurface([206], 306)\n",
    "gmsh.model.geo.addPlaneSurface([207], 307)\n",
    "\n",
    "#..define physical groups \n",
    "gmsh.model.addPhysicalGroup(2,[301; 302; 307],401)\n",
    "gmsh.model.addPhysicalGroup(2,[303],402)\n",
    "gmsh.model.addPhysicalGroup(2,[304],403)\n",
    "gmsh.model.addPhysicalGroup(2,[305],404)\n",
    "gmsh.model.addPhysicalGroup(2,[306],405)\n",
    "#..synchronize geometry model \n",
    "gmsh.model.geo.synchronize()\n",
    "\n",
    "#..3/5: generate two-dimensional mesh \n",
    "gmsh.model.mesh.generate(2)\n",
    "\n",
    "#..4/5: write mesh to mesh and visualize the mesh  \n",
    "#..if true, write mesh to file for further processing \n",
    "if (true) gmsh.write(\"data/inductor.msh\") end \n",
    "#..if true, visualize mesh through the GUI \n",
    "if (true) gmsh.fltk.run() end \n",
    "\n",
    "#..5/5: finalize gmsh \n",
    "gmsh.finalize()"
   ]
  },
  {
   "cell_type": "markdown",
   "metadata": {},
   "source": [
    "## Section 2:/ Read Mesh from file and perform loop over the elements "
   ]
  },
  {
   "cell_type": "code",
   "execution_count": 5,
   "metadata": {},
   "outputs": [
    {
     "name": "stdout",
     "output_type": "stream",
     "text": [
      "Info    : Reading 'data/inductor.msh'...\n",
      "Info    : 75 entities\n",
      "Info    : 5863 nodes\n",
      "Info    : 11600 elements\n",
      "Info    : Done reading 'data/inductor.msh'\n"
     ]
    }
   ],
   "source": [
    "#..1/4: Finalize gmsh\n",
    "gmsh.initialize()\n",
    "\n",
    "#..2/4: Read mesh from file\n",
    "gmsh.open(\"data/inductor.msh\")\n",
    "\n",
    "#..3/4: perform loop over the elemements \n",
    "element_types, element_ids, element_connectivity = gmsh.model.mesh.getElements(2)\n",
    "nelements = length(element_ids[1])\n",
    "  \n",
    "for element_id in 1:nelements\n",
    "\n",
    "    #....retrieve global numbering of the local nodes of the current element\n",
    "    node1_id = element_connectivity[1][3*(element_id-1)+1]\n",
    "    node2_id = element_connectivity[1][3*(element_id-1)+2]\n",
    "    node3_id = element_connectivity[1][3*(element_id-1)+3]\n",
    "\n",
    "    if (false)\n",
    "      println(\"on element \", element_id, \" node-1 has global number \", node1_id)\n",
    "      println(\"on element \", element_id, \" node-2 has global number \", node2_id)\n",
    "      println(\"on element \", element_id, \" node-3 has global number \", node3_id)\n",
    "      println(\" \")\n",
    "    end \n",
    "\n",
    "end \n",
    "\n",
    "#..4/4: Finalize gmsh\n",
    "# gmsh.finalize()"
   ]
  },
  {
   "cell_type": "markdown",
   "metadata": {},
   "source": [
    "## Section 3: Extracting Data from the Gmsh data structure"
   ]
  },
  {
   "cell_type": "markdown",
   "metadata": {},
   "source": [
    "### Section 1.3: Get Elements"
   ]
  },
  {
   "cell_type": "code",
   "execution_count": 17,
   "metadata": {},
   "outputs": [
    {
     "name": "stderr",
     "output_type": "stream",
     "text": [
      "Error   : Gmsh has not been initialized\n",
      "Error   : Gmsh has not been initialized\n"
     ]
    },
    {
     "ename": "LoadError",
     "evalue": "UndefVarError: error not defined",
     "output_type": "error",
     "traceback": [
      "UndefVarError: error not defined",
      "",
      "Stacktrace:",
      " [1] getLastError",
      "   @ ~/.julia/artifacts/835fc05f6f7e503b21e62e0fc5254a561e109e10/lib/gmsh.jl:7498 [inlined]",
      " [2] getElements(dim::Int64, tag::Int64)",
      "   @ Gmsh.gmsh.model.mesh ~/.julia/artifacts/835fc05f6f7e503b21e62e0fc5254a561e109e10/lib/gmsh.jl:1762",
      " [3] getElements(dim::Int64)",
      "   @ Gmsh.gmsh.model.mesh ~/.julia/artifacts/835fc05f6f7e503b21e62e0fc5254a561e109e10/lib/gmsh.jl:1750",
      " [4] top-level scope",
      "   @ In[17]:1"
     ]
    }
   ],
   "source": [
    "element_types, element_ids, element_connectivity = gmsh.model.mesh.getElements(2)"
   ]
  },
  {
   "cell_type": "code",
   "execution_count": 7,
   "metadata": {},
   "outputs": [
    {
     "data": {
      "text/plain": [
       "1-element Vector{Int32}:\n",
       " 2"
      ]
     },
     "metadata": {},
     "output_type": "display_data"
    }
   ],
   "source": [
    "display(element_types)"
   ]
  },
  {
   "cell_type": "markdown",
   "metadata": {},
   "source": [
    "### Section 2.3: Label Elements with Physical Group ID "
   ]
  },
  {
   "cell_type": "code",
   "execution_count": 18,
   "metadata": {},
   "outputs": [
    {
     "data": {
      "text/plain": [
       "groupElements (generic function with 1 method)"
      ]
     },
     "execution_count": 18,
     "metadata": {},
     "output_type": "execute_result"
    }
   ],
   "source": [
    "function groupElements(gmshModel)\n",
    "\n",
    "    #..Get elements from the mesh (more)\n",
    "    element_types, element_ids, element_connectivity = gmshModel.mesh.getElements(2)\n",
    "    nelems = length(element_ids[1])\n",
    "     \n",
    "    #..Get nodes from physical subdomains (more)\n",
    "    ngroup1 = gmsh.model.mesh.getNodesForPhysicalGroup(2, 401)\n",
    "    ngroup2 = gmsh.model.mesh.getNodesForPhysicalGroup(2, 402)\n",
    "    ngroup3 = gmsh.model.mesh.getNodesForPhysicalGroup(2, 403)\n",
    "    ngroup4 = gmsh.model.mesh.getNodesForPhysicalGroup(2, 404)\n",
    "    ngroup5 = gmsh.model.mesh.getNodesForPhysicalGroup(2, 405)\n",
    "\n",
    "    #..Set group number on each element\n",
    "    e_group = zeros(1,nelements)\n",
    "    for element_id in 1:nelements\n",
    "        node1_id = element_connectivity[1][3*(element_id-1)+1]\n",
    "        node2_id = element_connectivity[1][3*(element_id-1)+2]\n",
    "        node3_id = element_connectivity[1][3*(element_id-1)+3]\n",
    "        G1 = sum(node1_id.== ngroup1[1])+sum(node2_id.== ngroup1[1])+sum(node3_id.== ngroup1[1]) #Air\n",
    "        G2 = sum(node1_id.== ngroup2[1])+sum(node2_id.== ngroup2[1])+sum(node3_id.== ngroup2[1]) #upper core\n",
    "        G3 = sum(node1_id.== ngroup3[1])+sum(node2_id.== ngroup3[1])+sum(node3_id.== ngroup3[1]) #lower core\n",
    "        G4 = sum(node1_id.== ngroup4[1])+sum(node2_id.== ngroup4[1])+sum(node3_id.== ngroup4[1]) #winding right\n",
    "        G5 = sum(node1_id.== ngroup5[1])+sum(node2_id.== ngroup5[1])+sum(node3_id.== ngroup5[1]) #winding left\n",
    "        if G1 == 3\n",
    "           e_group[element_id] = 1;\n",
    "        elseif G2 == 3 || G3 == 3\n",
    "           e_group[element_id] = 2;\n",
    "        elseif G4 == 3\n",
    "           e_group[element_id] = 4;\n",
    "        elseif G5 == 3\n",
    "           e_group[element_id] = 5;\n",
    "        end\n",
    "        \n",
    "        if (false)\n",
    "           println(\"on element \", element_id, \" e_group[element_id] = \", e_group[element_id])\n",
    "        end\n",
    "     end \n",
    "     return e_group \n",
    "end"
   ]
  },
  {
   "cell_type": "code",
   "execution_count": 25,
   "metadata": {},
   "outputs": [
    {
     "name": "stdout",
     "output_type": "stream",
     "text": [
      "Info    : Reading 'data/inductor.msh'...\n",
      "Info    : 75 entities\n",
      "Info    : 5863 nodes\n",
      "Info    : 11600 elements\n",
      "Info    : Done reading 'data/inductor.msh'\n"
     ]
    },
    {
     "name": "stderr",
     "output_type": "stream",
     "text": [
      "Warning : Gmsh has aleady been initialized\n"
     ]
    },
    {
     "data": {
      "text/plain": [
       "(UInt64[0x000000000000001d, 0x000000000000001e, 0x000000000000001f, 0x0000000000000020, 0x0000000000000021, 0x0000000000000022, 0x0000000000000023, 0x0000000000000024, 0x0000000000000025, 0x0000000000000026, 0x0000000000000027, 0x0000000000000028, 0x0000000000000029, 0x000000000000002a, 0x000000000000002b, 0x000000000000002c, 0x000000000000002d, 0x000000000000002e, 0x000000000000002f], [45.00000000000846, 50.0, 0.0, 40.00000000001693, 50.0, 0.0, 35.00000000004316, 50.0, 0.0, 30.00000000008132  …  0.0, -34.99999999991881, 50.0, 0.0, -39.99999999994589, 50.0, 0.0, -44.99999999997296, 50.0, 0.0], Float64[])"
      ]
     },
     "execution_count": 25,
     "metadata": {},
     "output_type": "execute_result"
    }
   ],
   "source": [
    "#..1/4: Finalize gmsh\n",
    "gmsh.initialize()\n",
    "\n",
    "#..2/4: Read mesh from file\n",
    "gmsh.open(\"data/inductor.msh\")\n",
    "\n",
    "#e_group = groupElements(gmsh.model)\n",
    "\n",
    "gmsh.model.mesh.getNodes(1,101)"
   ]
  },
  {
   "cell_type": "code",
   "execution_count": null,
   "metadata": {},
   "outputs": [],
   "source": []
  },
  {
   "cell_type": "code",
   "execution_count": 26,
   "metadata": {},
   "outputs": [
    {
     "ename": "LoadError",
     "evalue": "UndefVarError: Element not defined",
     "output_type": "error",
     "traceback": [
      "UndefVarError: Element not defined",
      "",
      "Stacktrace:",
      " [1] top-level scope",
      "   @ In[26]:1"
     ]
    }
   ],
   "source": []
  },
  {
   "cell_type": "code",
   "execution_count": null,
   "metadata": {},
   "outputs": [],
   "source": []
  }
 ],
 "metadata": {
  "kernelspec": {
   "display_name": "Julia 1.8.1",
   "language": "julia",
   "name": "julia-1.8"
  },
  "language_info": {
   "file_extension": ".jl",
   "mimetype": "application/julia",
   "name": "julia",
   "version": "1.8.1"
  }
 },
 "nbformat": 4,
 "nbformat_minor": 2
}
