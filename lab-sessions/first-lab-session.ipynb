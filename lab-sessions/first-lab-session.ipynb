{
 "cells": [
  {
   "cell_type": "markdown",
   "metadata": {},
   "source": [
    "# EE4375-2022: First Lab Session: GMSH for Geometry Definition and Mesh Generation "
   ]
  },
  {
   "cell_type": "markdown",
   "metadata": {},
   "source": [
    "We install GMSH as a Julia package, define the geometry and generate the mesh. "
   ]
  },
  {
   "cell_type": "markdown",
   "metadata": {},
   "source": [
    "## Import All Required Packages"
   ]
  },
  {
   "cell_type": "code",
   "execution_count": 1,
   "metadata": {},
   "outputs": [],
   "source": [
    "using LinearAlgebra\n",
    "using SparseArrays\n",
    "using Plots\n",
    "using LaTeXStrings\n",
    "using BenchmarkTools "
   ]
  },
  {
   "cell_type": "markdown",
   "metadata": {},
   "source": [
    "## Section 1:/ Introduction\n",
    "\n",
    "[GMSH](https://gmsh.info) is a package for geometry definition and mesh generation. \n",
    "\n",
    "Tutorials on the use of GMSH are listed at [GMSH Julia Tutorials](https://gitlab.onelab.info/gmsh/gmsh/-/tree/master/tutorials/julia)."
   ]
  },
  {
   "cell_type": "markdown",
   "metadata": {},
   "source": [
    "## Section 2:/ Installing GMSH as a Julia Package\n",
    "\n",
    "Install GMSH as a Julia following the instructions provided at [GMSH.jl](https://github.com/JuliaFEM/Gmsh.jl). \n",
    "\n",
    "In case of difficulties on a Windows, proceed as described below. \n",
    "\n",
    "### Problem on Windows\n",
    "Installing Gmsh.jl via the Pkg manager yields an error on Windows machines.\n",
    "```\n",
    "julia> using Pkg; Pkg.add(\"Gmsh\")\n",
    "ERROR: Error building `Gmsh`:\n",
    "ERROR: LoadError: Your platform (\"x86_64-w64-mingw32\", parsed as \"x86_64-w64-mingw32-gcc8-cxx11\") is not supported by this package!\n",
    "```\n",
    "\n",
    "### Workaround\n",
    "1. Download the Gmsh SDK from https://gmsh.info/ and unzip the contents.\n",
    "2. Now, Gmsh can be used in Julia by executing\n",
    "```\n",
    "include(\"PATH_TO_SDK/lib/gmsh.jl\")\n",
    "```\n",
    "where `PATH_TO_SDK` is the location where you unzipped the SDK files.\n",
    "3. This is not ideal as permanent solution. To improve this, we can add the SDK /lib folder to Julia\\'s `LOAD_PATH` and load it using the normal package inclusion methods. To do this, execute\n",
    "```\n",
    "push!(LOAD_PATH, \"PATH_TO_SDK/lib\")\n",
    "using gmsh\n",
    "```\n",
    "4. To make this change permanent, the line\n",
    "```\n",
    "push!(LOAD_PATH, \"PATH_TO_SDK/lib\")\n",
    "```\n",
    "can be placed in the startup script located at `C:\\Users\\$user\\.julia\\config\\startup.jl`. If this script is not present you can create it. Take care that the extension is `.jl` and not `.jl.txt`, which Windows is likely to do for you.\n",
    "5. After making this change and restarting the Julia command prompt, you should be able to use\n",
    "```\n",
    "using gmsh\n",
    "```\n",
    "or\n",
    "```\n",
    "import gmsh\n",
    "```\n",
    "to use Gmsh as a package. Try this by executing one of the tutorial scripts in `PATH_TO_SDK\\share\\doc\\gmsh\\tutorials\\julia`."
   ]
  },
  {
   "cell_type": "markdown",
   "metadata": {},
   "source": [
    "## Section 3:/ First Example "
   ]
  },
  {
   "cell_type": "markdown",
   "metadata": {},
   "source": [
    "1. Describe how geometry is generated using points, lines and surfaces; \n",
    "2. Describe how mesh is generated using mesh parameter setting and mesh generation; "
   ]
  },
  {
   "cell_type": "markdown",
   "metadata": {},
   "source": [
    "## Section 4:/ More Examples"
   ]
  },
  {
   "cell_type": "markdown",
   "metadata": {},
   "source": []
  },
  {
   "cell_type": "markdown",
   "metadata": {},
   "source": [
    "## References"
   ]
  },
  {
   "cell_type": "markdown",
   "metadata": {},
   "source": []
  },
  {
   "cell_type": "markdown",
   "metadata": {},
   "source": []
  },
  {
   "cell_type": "code",
   "execution_count": null,
   "metadata": {},
   "outputs": [],
   "source": []
  }
 ],
 "metadata": {
  "kernelspec": {
   "display_name": "Julia 1.6.2",
   "language": "julia",
   "name": "julia-1.6"
  },
  "language_info": {
   "file_extension": ".jl",
   "mimetype": "application/julia",
   "name": "julia",
   "version": "1.6.2"
  }
 },
 "nbformat": 4,
 "nbformat_minor": 2
}
