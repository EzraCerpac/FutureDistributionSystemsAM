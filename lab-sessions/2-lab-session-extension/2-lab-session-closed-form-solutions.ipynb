{
 "cells": [
  {
   "cell_type": "markdown",
   "id": "f65dc250",
   "metadata": {},
   "source": [
    "# Extension of Second Lab Session: Closed Form Expressions 1D Solutions"
   ]
  },
  {
   "cell_type": "code",
   "execution_count": 1,
   "id": "49b2fb28",
   "metadata": {},
   "outputs": [
    {
     "name": "stdout",
     "output_type": "stream",
     "text": [
      "Succesfully imported numpy -- Version: 1.21.6\n",
      "Succesfully imported scipy -- Version: 1.7.3\n",
      "Succesfully imported sympy -- Version: 1.8\n",
      "Succesfully imported matplotlib.pyplot\n"
     ]
    }
   ],
   "source": [
    "import numpy as np\n",
    "print(\"Succesfully imported %s -- Version: %s\"%(np.__name__,np.__version__))\n",
    "import scipy\n",
    "print(\"Succesfully imported %s -- Version: %s\"%(scipy.__name__,scipy.__version__))\n",
    "import sympy as sym \n",
    "print(\"Succesfully imported %s -- Version: %s\"%(sym.__name__,sym.__version__))\n",
    "import matplotlib.pyplot as plt\n",
    "print(\"Succesfully imported %s\"% plt.__name__)"
   ]
  },
  {
   "cell_type": "code",
   "execution_count": 32,
   "id": "5260d5fb",
   "metadata": {},
   "outputs": [
    {
     "name": "stdout",
     "output_type": "stream",
     "text": [
      "The computed solution is Piecewise((-x**2/2 + x/20, Abs(x - 0.5) < 0.1), (-x**2/20 + x/20, True))\n"
     ]
    },
    {
     "data": {
      "image/png": "[encoded data removed]",
      "text/plain": [
       "<Figure size 432x288 with 1 Axes>"
      ]
     },
     "metadata": {
      "needs_background": "light"
     },
     "output_type": "display_data"
    }
   ],
   "source": [
    "#..define symbol x (spatial coordinate), function f (source) and function u (unknown)\n",
    "x = sym.symbols('x')\n",
    "f = sym.Function(\"f\")\n",
    "u = sym.Function(\"u\") \n",
    "\n",
    "#..define the expression for the right-hand side function \n",
    "f = sym.Piecewise((1, abs(x-.5)<0.1),(.1,True))\n",
    "#f = sym.Piecewise((1, abs(x-.4)<.05),(0,True)) + sym.Piecewise((-1, abs(x-.6)<.05),(0,True))\n",
    "\n",
    "#..solve the differential equation - u''(x) = f(x) + BC symbolically\n",
    "computed = sym.dsolve(sym.Derivative(u(x), x, x) + f,ics={u(0):0,u(1):0})\n",
    "\n",
    "#..print the expression for the symbolic solution \n",
    "print(\"The computed solution is\", computed.rhs)\n",
    "\n",
    "#..to switch from symbolic to numerical computation\n",
    "#..we need to perform a \"lambdification\" of the right-hand side of the solution\n",
    "#..the function created accepts vector arguments \n",
    "computed_sol = sym.lambdify(x, computed.rhs)\n",
    "#computed_sol = sym.lambdify(x, f)\n",
    "\n",
    "#..sample the lambda expression for the computed solution \n",
    "N = 100; Np1 = N+1;  \n",
    "xvec = np.linspace(0,1,Np1)\n",
    "computed_sol_vec = computed_sol(xvec)\n",
    "\n",
    "#..plot the computed solution \n",
    "plt.plot(xvec,computed_sol_vec,label='computed u(x)')\n",
    "plt.xlabel('x')\n",
    "plt.ylabel('u(x)')\n",
    "plt.legend(loc='best')\n",
    "plt.grid()\n",
    "plt.show()"
   ]
  },
  {
   "cell_type": "code",
   "execution_count": null,
   "id": "2602d770",
   "metadata": {},
   "outputs": [],
   "source": []
  }
 ],
 "metadata": {
  "kernelspec": {
   "display_name": "Python 3",
   "language": "python",
   "name": "python3"
  },
  "language_info": {
   "codemirror_mode": {
    "name": "ipython",
    "version": 3
   },
   "file_extension": ".py",
   "mimetype": "text/x-python",
   "name": "python",
   "nbconvert_exporter": "python",
   "pygments_lexer": "ipython3",
   "version": "3.7.10"
  }
 },
 "nbformat": 4,
 "nbformat_minor": 5
}
