{
 "cells": [
  {
   "cell_type": "markdown",
   "metadata": {},
   "source": [
    "# Finite Difference Method for the Heat Equation on the Unit Interval"
   ]
  },
  {
   "cell_type": "markdown",
   "metadata": {},
   "source": [
    "Here we solve the wave equation $\\frac{\\partial \\, u}{\\partial t} = c^2 \\frac{\\partial^2 \\, u}{\\partial x^2}$ on the spatial domain $x \\in \\Omega=(0,1)$ and time domain $t \\in [0,T]$ supplied with homogeneous Dirichlet boundary conditions and initial conditions for displacement and velocity. For the spatial discretization, the finite difference method on an uniform mesh is employed. For the time discretization, a fixed time step is employed.  "
   ]
  },
  {
   "cell_type": "markdown",
   "metadata": {},
   "source": [
    "## Import Packages"
   ]
  },
  {
   "cell_type": "code",
   "execution_count": 2,
   "metadata": {},
   "outputs": [],
   "source": [
    "using LinearAlgebra\n",
    "using DifferentialEquations\n",
    "using SparseArrays\n",
    "using Plots\n",
    "using BenchmarkTools "
   ]
  },
  {
   "cell_type": "markdown",
   "metadata": {},
   "source": [
    "Documentation of DifferentialEquations.jl  \n",
    "<ul>\n",
    "<li> <a href=\"https://diffeq.sciml.ai/dev/tutorials/ode_example/\"> Examples </a>   \n",
    "<li> <a href=\"https://diffeq.sciml.ai/stable/\"> Documentation of DifferentialEquations.jl on Github </a>  \n",
    "<li> <a href=\"https://diffeq.sciml.ai/dev/features/performance_overloads/#Function-Type-Definitions\"> Specifying Jacobian types using DifferentialEquations.jl </a>   \n",
    "</ul>   "
   ]
  },
  {
   "cell_type": "markdown",
   "metadata": {},
   "source": [
    "## References"
   ]
  },
  {
   "cell_type": "markdown",
   "metadata": {},
   "source": []
  },
  {
   "cell_type": "code",
   "execution_count": null,
   "metadata": {},
   "outputs": [],
   "source": []
  }
 ],
 "metadata": {
  "kernelspec": {
   "display_name": "Julia 1.8.1",
   "language": "julia",
   "name": "julia-1.8"
  },
  "language_info": {
   "file_extension": ".jl",
   "mimetype": "application/julia",
   "name": "julia",
   "version": "1.8.1"
  }
 },
 "nbformat": 4,
 "nbformat_minor": 2
}
