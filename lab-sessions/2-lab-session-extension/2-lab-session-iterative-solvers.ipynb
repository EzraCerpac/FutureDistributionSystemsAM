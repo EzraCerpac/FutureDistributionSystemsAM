{
 "cells": [
  {
   "cell_type": "markdown",
   "metadata": {},
   "source": [
    "# EE4375: Second Lab Session: Finite Difference Method for the Poisson Equation on the Unit Interval"
   ]
  },
  {
   "cell_type": "markdown",
   "metadata": {},
   "source": [
    "Extension examples of on how to use iterative solution methods for systems of linear equatiobns."
   ]
  },
  {
   "cell_type": "markdown",
   "metadata": {},
   "source": [
    "## Import Packages"
   ]
  },
  {
   "cell_type": "code",
   "execution_count": 1,
   "metadata": {},
   "outputs": [],
   "source": [
    "using LinearAlgebra\n",
    "using SparseArrays\n",
    "using IterativeSolvers\n",
    "using Preconditioners\n",
    "using IncompleteLU\n",
    "\n",
    "using BenchmarkTools \n",
    "\n",
    "using Plots"
   ]
  },
  {
   "cell_type": "markdown",
   "metadata": {},
   "source": [
    "## Section 1: One-Dimensional Mesh Generation"
   ]
  },
  {
   "cell_type": "code",
   "execution_count": 2,
   "metadata": {},
   "outputs": [],
   "source": [
    "# struct to hold entire mesh\n",
    "struct Mesh\n",
    "  #..number of nodes of the mesh..   \n",
    "  nnodes::Int64\n",
    "  #..number of elements of the mesh..\n",
    "  nelements::Int64 \n",
    "  #..vector of x-coordinates of nodes of the mesh..\n",
    "  Nodes::Vector{Float64}\n",
    "end "
   ]
  },
  {
   "cell_type": "code",
   "execution_count": 3,
   "metadata": {},
   "outputs": [
    {
     "data": {
      "text/plain": [
       "genMesh (generic function with 1 method)"
      ]
     },
     "execution_count": 3,
     "metadata": {},
     "output_type": "execute_result"
    }
   ],
   "source": [
    "# function to generate a mesh on the interval 0 <= x <= 1.   \n",
    "# we limit the type of input to be Int64 \n",
    "function genMesh(nelements::Int64)::Mesh\n",
    "    h = 1/nelements \n",
    "    nnodes = nelements+1\n",
    "    Nodes = Vector{Float64}(0:h:1)    \n",
    "    mesh = Mesh(nnodes,nelements,Nodes)     \n",
    "    return mesh;\n",
    "end "
   ]
  },
  {
   "cell_type": "code",
   "execution_count": 4,
   "metadata": {},
   "outputs": [],
   "source": [
    "# test function for type stability \n",
    "#@code_warntype genMesh(4);"
   ]
  },
  {
   "cell_type": "code",
   "execution_count": 5,
   "metadata": {},
   "outputs": [
    {
     "name": "stdout",
     "output_type": "stream",
     "text": [
      "  0.000023 seconds (1 allocation: 144 bytes)\n",
      "  0.000003 seconds (1 allocation: 896 bytes)\n",
      "  0.000004 seconds (1 allocation: 8.000 KiB)\n",
      "  0.000013 seconds (2 allocations: 78.234 KiB)\n"
     ]
    }
   ],
   "source": [
    "# test function for number of allocations and CPU time\n",
    "# observe how the number of memory allocations only depends midly on the mesh size \n",
    "@time genMesh(10);\n",
    "@time genMesh(100);\n",
    "@time genMesh(1000);\n",
    "@time genMesh(10000);"
   ]
  },
  {
   "cell_type": "markdown",
   "metadata": {},
   "source": [
    "## Section 2: Linear System Assembly"
   ]
  },
  {
   "cell_type": "markdown",
   "metadata": {},
   "source": [
    "### Section 1.2: Assemble Stiffness Matrix"
   ]
  },
  {
   "cell_type": "code",
   "execution_count": 6,
   "metadata": {},
   "outputs": [
    {
     "data": {
      "text/plain": [
       "genStiffMat (generic function with 1 method)"
      ]
     },
     "execution_count": 6,
     "metadata": {},
     "output_type": "execute_result"
    }
   ],
   "source": [
    "# generate global stiffness matrix \n",
    "function genStiffMat(mesh::Mesh)\n",
    "\n",
    "    #..recover number of elements and nodes  \n",
    "    nelements = mesh.nelements\n",
    "    nnodes    = nelements+1\n",
    "    \n",
    "    #..set mesh width and square of mesh width \n",
    "    h = 1/nelements; h2=h*h; \n",
    "\n",
    "    #..construct the coefficient matrix with our the boundary conditions \n",
    "    e = ones(nnodes); #..note that ones(N+1,1) does *not* work here \n",
    "    A = Tridiagonal(-e[2:end], 2*e, -e[2:end]); \n",
    "    A = (1/h2)*A;     \n",
    "   \n",
    "    return A; \n",
    "    \n",
    "end"
   ]
  },
  {
   "cell_type": "code",
   "execution_count": 7,
   "metadata": {},
   "outputs": [],
   "source": [
    "#mesh = genMesh(10);\n",
    "#code_warntype genStiffMat(mesh)"
   ]
  },
  {
   "cell_type": "code",
   "execution_count": 8,
   "metadata": {},
   "outputs": [
    {
     "name": "stdout",
     "output_type": "stream",
     "text": [
      "  0.000015 seconds (11 allocations: 1.359 KiB)\n",
      "  0.000002 seconds (11 allocations: 1.359 KiB)\n",
      "  0.000002 seconds (11 allocations: 7.969 KiB)\n",
      "  0.000003 seconds (11 allocations: 71.719 KiB)\n",
      "  0.000061 seconds (20 allocations: 703.828 KiB)\n"
     ]
    }
   ],
   "source": [
    "# test function for number of allocations and CPU time\n",
    "# observe how the number of memory allocations only depends midly on the mesh size\n",
    "mesh = genMesh(10);    @time genStiffMat(mesh); # force function compilation \n",
    "mesh = genMesh(10);    @time genStiffMat(mesh); \n",
    "mesh = genMesh(100);   @time genStiffMat(mesh);\n",
    "mesh = genMesh(1000);  @time genStiffMat(mesh); \n",
    "mesh = genMesh(10000); @time genStiffMat(mesh);"
   ]
  },
  {
   "cell_type": "markdown",
   "metadata": {},
   "source": [
    "### Section 2.2: Assemble Right-Hand Side Vector"
   ]
  },
  {
   "cell_type": "code",
   "execution_count": 9,
   "metadata": {},
   "outputs": [
    {
     "data": {
      "text/plain": [
       "genVector (generic function with 1 method)"
      ]
     },
     "execution_count": 9,
     "metadata": {},
     "output_type": "execute_result"
    }
   ],
   "source": [
    "fsource(x) = x*(x-1)\n",
    "fsource(x) = sin(π*x)\n",
    "\n",
    "function genVector(mesh, sourceFct::F) where F \n",
    "\n",
    "    #..recover mesh nodes  \n",
    "    nodes = mesh.Nodes\n",
    "    \n",
    "    #..set vector values using broadcasting (dot syntax)  \n",
    "    f = sourceFct.(nodes)\n",
    "   \n",
    "    return f; \n",
    "end"
   ]
  },
  {
   "cell_type": "code",
   "execution_count": 10,
   "metadata": {},
   "outputs": [],
   "source": [
    "#mesh = genMesh(10);\n",
    "#@code_warntype genVector(mesh, fsource)"
   ]
  },
  {
   "cell_type": "code",
   "execution_count": 11,
   "metadata": {},
   "outputs": [
    {
     "name": "stdout",
     "output_type": "stream",
     "text": [
      "  0.061642 seconds (144.19 k allocations: 7.559 MiB, 99.94% compilation time)\n",
      "  0.000002 seconds (1 allocation: 144 bytes)\n",
      "  0.000002 seconds (1 allocation: 896 bytes)\n",
      "  0.000006 seconds (1 allocation: 8.000 KiB)\n",
      "  0.000045 seconds (2 allocations: 78.234 KiB)\n"
     ]
    }
   ],
   "source": [
    "# observe again how the number of memory allocations only depends midly on the mesh size\n",
    "mesh = genMesh(10);    @time f = genVector(mesh,fsource); # force function compilation\n",
    "mesh = genMesh(10);    @time f = genVector(mesh,fsource);\n",
    "mesh = genMesh(100);   @time f = genVector(mesh,fsource);\n",
    "mesh = genMesh(1000);  @time f = genVector(mesh,fsource);\n",
    "mesh = genMesh(10000); @time f = genVector(mesh,fsource);"
   ]
  },
  {
   "cell_type": "markdown",
   "metadata": {},
   "source": [
    "## Section 3: Solve Process "
   ]
  },
  {
   "cell_type": "code",
   "execution_count": 12,
   "metadata": {},
   "outputs": [
    {
     "data": {
      "text/plain": [
       "fsourceFct5 (generic function with 1 method)"
      ]
     },
     "execution_count": 12,
     "metadata": {},
     "output_type": "execute_result"
    }
   ],
   "source": [
    "#..set exact solution with homogeneous Dirichlet boundary conditions on both sides.. \n",
    "#..fourth derivative is zero - three point difference scheme is exact \n",
    "uexactFct1(x) = x*(x-1)\n",
    "uexactFct2(x) = sin(π*x)\n",
    "\n",
    "#..set exact solution with homogeneous Dirichlet left and homogeneous Neumann on the right..  \n",
    "#..fourth derivative is zero - three point difference scheme is exact \n",
    "uexactFct3(x) = -0.5*x*x + x \n",
    "uexactFct4(x) = sin(π/2*x)\n",
    "\n",
    "#..set exact solution with periodic boundary conditions: equal values and equal normal derivatives..    \n",
    "uexactFct5(x) = sin(2*π*x) \n",
    "\n",
    "#..set source function: observe the minus sign: f(x) = - u''(x).. \n",
    "#..(we would like to set f(x) automatically given u(x))..  \n",
    "fsourceFct1(x) = -2\n",
    "fsourceFct2(x) = π*π*sin(π*x)\n",
    "\n",
    "fsourceFct3(x) = 1. \n",
    "fsourceFct4(x) = π^2/4*sin(π/2*x)\n",
    "\n",
    "fsourceFct5(x) = (4*π*π+1)*sin(2*π*x)"
   ]
  },
  {
   "cell_type": "code",
   "execution_count": 13,
   "metadata": {},
   "outputs": [
    {
     "data": {
      "image/svg+xml": [
       "<?xml version=\"1.0\" encoding=\"utf-8\"?>\n",
       "<svg xmlns=\"http://www.w3.org/2000/svg\" xmlns:xlink=\"http://www.w3.org/1999/xlink\" width=\"600\" height=\"400\" viewBox=\"0 0 2400 1600\">\n",
       "<defs>\n",
       "  <clipPath id=\"clip110\">\n",
       "    <rect x=\"0\" y=\"0\" width=\"2400\" height=\"1600\"/>\n",
       "  </clipPath>\n",
       "</defs>\n",
       "<path clip-path=\"url(#clip110)\" d=\"M0 1600 L2400 1600 L2400 0 L0 0  Z\" fill=\"#ffffff\" fill-rule=\"evenodd\" fill-opacity=\"1\"/>\n",
       "<defs>\n",
       "  <clipPath id=\"clip111\">\n",
       "    <rect x=\"480\" y=\"0\" width=\"1681\" height=\"1600\"/>\n",
       "  </clipPath>\n",
       "</defs>\n",
       "<path clip-path=\"url(#clip110)\" d=\"M193.936 1486.45 L2352.76 1486.45 L2352.76 47.2441 L193.936 47.2441  Z\" fill=\"#ffffff\" fill-rule=\"evenodd\" fill-opacity=\"1\"/>\n",
       "<defs>\n",
       "  <clipPath id=\"clip112\">\n",
       "    <rect x=\"193\" y=\"47\" width=\"2160\" height=\"1440\"/>\n",
       "  </clipPath>\n",
       "</defs>\n",
       "<polyline clip-path=\"url(#clip112)\" style=\"stroke:#000000; stroke-linecap:round; stroke-linejoin:round; stroke-width:2; stroke-opacity:0.1; fill:none\" points=\"234.668,1486.45 234.668,47.2441 \"/>\n",
       "<polyline clip-path=\"url(#clip112)\" style=\"stroke:#000000; stroke-linecap:round; stroke-linejoin:round; stroke-width:2; stroke-opacity:0.1; fill:none\" points=\"743.824,1486.45 743.824,47.2441 \"/>\n",
       "<polyline clip-path=\"url(#clip112)\" style=\"stroke:#000000; stroke-linecap:round; stroke-linejoin:round; stroke-width:2; stroke-opacity:0.1; fill:none\" points=\"1252.98,1486.45 1252.98,47.2441 \"/>\n",
       "<polyline clip-path=\"url(#clip112)\" style=\"stroke:#000000; stroke-linecap:round; stroke-linejoin:round; stroke-width:2; stroke-opacity:0.1; fill:none\" points=\"1762.14,1486.45 1762.14,47.2441 \"/>\n",
       "<polyline clip-path=\"url(#clip112)\" style=\"stroke:#000000; stroke-linecap:round; stroke-linejoin:round; stroke-width:2; stroke-opacity:0.1; fill:none\" points=\"2271.29,1486.45 2271.29,47.2441 \"/>\n",
       "<polyline clip-path=\"url(#clip110)\" style=\"stroke:#000000; stroke-linecap:round; stroke-linejoin:round; stroke-width:4; stroke-opacity:1; fill:none\" points=\"193.936,1486.45 2352.76,1486.45 \"/>\n",
       "<polyline clip-path=\"url(#clip110)\" style=\"stroke:#000000; stroke-linecap:round; stroke-linejoin:round; stroke-width:4; stroke-opacity:1; fill:none\" points=\"234.668,1486.45 234.668,1467.55 \"/>\n",
       "<polyline clip-path=\"url(#clip110)\" style=\"stroke:#000000; stroke-linecap:round; stroke-linejoin:round; stroke-width:4; stroke-opacity:1; fill:none\" points=\"743.824,1486.45 743.824,1467.55 \"/>\n",
       "<polyline clip-path=\"url(#clip110)\" style=\"stroke:#000000; stroke-linecap:round; stroke-linejoin:round; stroke-width:4; stroke-opacity:1; fill:none\" points=\"1252.98,1486.45 1252.98,1467.55 \"/>\n",
       "<polyline clip-path=\"url(#clip110)\" style=\"stroke:#000000; stroke-linecap:round; stroke-linejoin:round; stroke-width:4; stroke-opacity:1; fill:none\" points=\"1762.14,1486.45 1762.14,1467.55 \"/>\n",
       "<polyline clip-path=\"url(#clip110)\" style=\"stroke:#000000; stroke-linecap:round; stroke-linejoin:round; stroke-width:4; stroke-opacity:1; fill:none\" points=\"2271.29,1486.45 2271.29,1467.55 \"/>\n",
       "<path clip-path=\"url(#clip110)\" d=\"M234.668 1517.37 Q231.057 1517.37 229.229 1520.93 Q227.423 1524.47 227.423 1531.6 Q227.423 1538.71 229.229 1542.27 Q231.057 1545.82 234.668 1545.82 Q238.303 1545.82 240.108 1542.27 Q241.937 1538.71 241.937 1531.6 Q241.937 1524.47 240.108 1520.93 Q238.303 1517.37 234.668 1517.37 M234.668 1513.66 Q240.479 1513.66 243.534 1518.27 Q246.613 1522.85 246.613 1531.6 Q246.613 1540.33 243.534 1544.94 Q240.479 1549.52 234.668 1549.52 Q228.858 1549.52 225.78 1544.94 Q222.724 1540.33 222.724 1531.6 Q222.724 1522.85 225.78 1518.27 Q228.858 1513.66 234.668 1513.66 Z\" fill=\"#000000\" fill-rule=\"nonzero\" fill-opacity=\"1\" /><path clip-path=\"url(#clip110)\" d=\"M723.095 1544.91 L739.414 1544.91 L739.414 1548.85 L717.47 1548.85 L717.47 1544.91 Q720.132 1542.16 724.715 1537.53 Q729.322 1532.88 730.502 1531.53 Q732.748 1529.01 733.627 1527.27 Q734.53 1525.51 734.53 1523.82 Q734.53 1521.07 732.586 1519.33 Q730.664 1517.6 727.563 1517.6 Q725.364 1517.6 722.91 1518.36 Q720.479 1519.13 717.702 1520.68 L717.702 1515.95 Q720.526 1514.82 722.979 1514.24 Q725.433 1513.66 727.47 1513.66 Q732.84 1513.66 736.035 1516.35 Q739.229 1519.03 739.229 1523.52 Q739.229 1525.65 738.419 1527.57 Q737.632 1529.47 735.526 1532.07 Q734.947 1532.74 731.845 1535.95 Q728.743 1539.15 723.095 1544.91 Z\" fill=\"#000000\" fill-rule=\"nonzero\" fill-opacity=\"1\" /><path clip-path=\"url(#clip110)\" d=\"M749.275 1514.29 L767.632 1514.29 L767.632 1518.22 L753.558 1518.22 L753.558 1526.7 Q754.576 1526.35 755.595 1526.19 Q756.613 1526 757.632 1526 Q763.419 1526 766.799 1529.17 Q770.178 1532.34 770.178 1537.76 Q770.178 1543.34 766.706 1546.44 Q763.234 1549.52 756.914 1549.52 Q754.738 1549.52 752.47 1549.15 Q750.225 1548.78 747.817 1548.04 L747.817 1543.34 Q749.9 1544.47 752.123 1545.03 Q754.345 1545.58 756.822 1545.58 Q760.826 1545.58 763.164 1543.48 Q765.502 1541.37 765.502 1537.76 Q765.502 1534.15 763.164 1532.04 Q760.826 1529.94 756.822 1529.94 Q754.947 1529.94 753.072 1530.35 Q751.22 1530.77 749.275 1531.65 L749.275 1514.29 Z\" fill=\"#000000\" fill-rule=\"nonzero\" fill-opacity=\"1\" /><path clip-path=\"url(#clip110)\" d=\"M1227.68 1514.29 L1246.04 1514.29 L1246.04 1518.22 L1231.96 1518.22 L1231.96 1526.7 Q1232.98 1526.35 1234 1526.19 Q1235.02 1526 1236.04 1526 Q1241.82 1526 1245.2 1529.17 Q1248.58 1532.34 1248.58 1537.76 Q1248.58 1543.34 1245.11 1546.44 Q1241.64 1549.52 1235.32 1549.52 Q1233.14 1549.52 1230.87 1549.15 Q1228.63 1548.78 1226.22 1548.04 L1226.22 1543.34 Q1228.3 1544.47 1230.53 1545.03 Q1232.75 1545.58 1235.23 1545.58 Q1239.23 1545.58 1241.57 1543.48 Q1243.91 1541.37 1243.91 1537.76 Q1243.91 1534.15 1241.57 1532.04 Q1239.23 1529.94 1235.23 1529.94 Q1233.35 1529.94 1231.48 1530.35 Q1229.62 1530.77 1227.68 1531.65 L1227.68 1514.29 Z\" fill=\"#000000\" fill-rule=\"nonzero\" fill-opacity=\"1\" /><path clip-path=\"url(#clip110)\" d=\"M1267.79 1517.37 Q1264.18 1517.37 1262.35 1520.93 Q1260.55 1524.47 1260.55 1531.6 Q1260.55 1538.71 1262.35 1542.27 Q1264.18 1545.82 1267.79 1545.82 Q1271.43 1545.82 1273.23 1542.27 Q1275.06 1538.71 1275.06 1531.6 Q1275.06 1524.47 1273.23 1520.93 Q1271.43 1517.37 1267.79 1517.37 M1267.79 1513.66 Q1273.6 1513.66 1276.66 1518.27 Q1279.74 1522.85 1279.74 1531.6 Q1279.74 1540.33 1276.66 1544.94 Q1273.6 1549.52 1267.79 1549.52 Q1261.98 1549.52 1258.91 1544.94 Q1255.85 1540.33 1255.85 1531.6 Q1255.85 1522.85 1258.91 1518.27 Q1261.98 1513.66 1267.79 1513.66 Z\" fill=\"#000000\" fill-rule=\"nonzero\" fill-opacity=\"1\" /><path clip-path=\"url(#clip110)\" d=\"M1735.99 1514.29 L1758.21 1514.29 L1758.21 1516.28 L1745.67 1548.85 L1740.78 1548.85 L1752.59 1518.22 L1735.99 1518.22 L1735.99 1514.29 Z\" fill=\"#000000\" fill-rule=\"nonzero\" fill-opacity=\"1\" /><path clip-path=\"url(#clip110)\" d=\"M1767.38 1514.29 L1785.73 1514.29 L1785.73 1518.22 L1771.66 1518.22 L1771.66 1526.7 Q1772.68 1526.35 1773.7 1526.19 Q1774.72 1526 1775.73 1526 Q1781.52 1526 1784.9 1529.17 Q1788.28 1532.34 1788.28 1537.76 Q1788.28 1543.34 1784.81 1546.44 Q1781.34 1549.52 1775.02 1549.52 Q1772.84 1549.52 1770.57 1549.15 Q1768.33 1548.78 1765.92 1548.04 L1765.92 1543.34 Q1768 1544.47 1770.23 1545.03 Q1772.45 1545.58 1774.92 1545.58 Q1778.93 1545.58 1781.27 1543.48 Q1783.61 1541.37 1783.61 1537.76 Q1783.61 1534.15 1781.27 1532.04 Q1778.93 1529.94 1774.92 1529.94 Q1773.05 1529.94 1771.17 1530.35 Q1769.32 1530.77 1767.38 1531.65 L1767.38 1514.29 Z\" fill=\"#000000\" fill-rule=\"nonzero\" fill-opacity=\"1\" /><path clip-path=\"url(#clip110)\" d=\"M2230.9 1544.91 L2238.54 1544.91 L2238.54 1518.55 L2230.23 1520.21 L2230.23 1515.95 L2238.49 1514.29 L2243.17 1514.29 L2243.17 1544.91 L2250.81 1544.91 L2250.81 1548.85 L2230.9 1548.85 L2230.9 1544.91 Z\" fill=\"#000000\" fill-rule=\"nonzero\" fill-opacity=\"1\" /><path clip-path=\"url(#clip110)\" d=\"M2270.25 1517.37 Q2266.64 1517.37 2264.81 1520.93 Q2263 1524.47 2263 1531.6 Q2263 1538.71 2264.81 1542.27 Q2266.64 1545.82 2270.25 1545.82 Q2273.88 1545.82 2275.69 1542.27 Q2277.52 1538.71 2277.52 1531.6 Q2277.52 1524.47 2275.69 1520.93 Q2273.88 1517.37 2270.25 1517.37 M2270.25 1513.66 Q2276.06 1513.66 2279.12 1518.27 Q2282.19 1522.85 2282.19 1531.6 Q2282.19 1540.33 2279.12 1544.94 Q2276.06 1549.52 2270.25 1549.52 Q2264.44 1549.52 2261.36 1544.94 Q2258.3 1540.33 2258.3 1531.6 Q2258.3 1522.85 2261.36 1518.27 Q2264.44 1513.66 2270.25 1513.66 Z\" fill=\"#000000\" fill-rule=\"nonzero\" fill-opacity=\"1\" /><path clip-path=\"url(#clip110)\" d=\"M2300.41 1517.37 Q2296.8 1517.37 2294.97 1520.93 Q2293.17 1524.47 2293.17 1531.6 Q2293.17 1538.71 2294.97 1542.27 Q2296.8 1545.82 2300.41 1545.82 Q2304.05 1545.82 2305.85 1542.27 Q2307.68 1538.71 2307.68 1531.6 Q2307.68 1524.47 2305.85 1520.93 Q2304.05 1517.37 2300.41 1517.37 M2300.41 1513.66 Q2306.22 1513.66 2309.28 1518.27 Q2312.36 1522.85 2312.36 1531.6 Q2312.36 1540.33 2309.28 1544.94 Q2306.22 1549.52 2300.41 1549.52 Q2294.6 1549.52 2291.52 1544.94 Q2288.47 1540.33 2288.47 1531.6 Q2288.47 1522.85 2291.52 1518.27 Q2294.6 1513.66 2300.41 1513.66 Z\" fill=\"#000000\" fill-rule=\"nonzero\" fill-opacity=\"1\" /><polyline clip-path=\"url(#clip112)\" style=\"stroke:#000000; stroke-linecap:round; stroke-linejoin:round; stroke-width:2; stroke-opacity:0.1; fill:none\" points=\"193.936,1428.73 2352.76,1428.73 \"/>\n",
       "<polyline clip-path=\"url(#clip112)\" style=\"stroke:#000000; stroke-linecap:round; stroke-linejoin:round; stroke-width:2; stroke-opacity:0.1; fill:none\" points=\"193.936,1097.79 2352.76,1097.79 \"/>\n",
       "<polyline clip-path=\"url(#clip112)\" style=\"stroke:#000000; stroke-linecap:round; stroke-linejoin:round; stroke-width:2; stroke-opacity:0.1; fill:none\" points=\"193.936,766.846 2352.76,766.846 \"/>\n",
       "<polyline clip-path=\"url(#clip112)\" style=\"stroke:#000000; stroke-linecap:round; stroke-linejoin:round; stroke-width:2; stroke-opacity:0.1; fill:none\" points=\"193.936,435.906 2352.76,435.906 \"/>\n",
       "<polyline clip-path=\"url(#clip112)\" style=\"stroke:#000000; stroke-linecap:round; stroke-linejoin:round; stroke-width:2; stroke-opacity:0.1; fill:none\" points=\"193.936,104.965 2352.76,104.965 \"/>\n",
       "<polyline clip-path=\"url(#clip110)\" style=\"stroke:#000000; stroke-linecap:round; stroke-linejoin:round; stroke-width:4; stroke-opacity:1; fill:none\" points=\"193.936,1486.45 193.936,47.2441 \"/>\n",
       "<polyline clip-path=\"url(#clip110)\" style=\"stroke:#000000; stroke-linecap:round; stroke-linejoin:round; stroke-width:4; stroke-opacity:1; fill:none\" points=\"193.936,1428.73 212.834,1428.73 \"/>\n",
       "<polyline clip-path=\"url(#clip110)\" style=\"stroke:#000000; stroke-linecap:round; stroke-linejoin:round; stroke-width:4; stroke-opacity:1; fill:none\" points=\"193.936,1097.79 212.834,1097.79 \"/>\n",
       "<polyline clip-path=\"url(#clip110)\" style=\"stroke:#000000; stroke-linecap:round; stroke-linejoin:round; stroke-width:4; stroke-opacity:1; fill:none\" points=\"193.936,766.846 212.834,766.846 \"/>\n",
       "<polyline clip-path=\"url(#clip110)\" style=\"stroke:#000000; stroke-linecap:round; stroke-linejoin:round; stroke-width:4; stroke-opacity:1; fill:none\" points=\"193.936,435.906 212.834,435.906 \"/>\n",
       "<polyline clip-path=\"url(#clip110)\" style=\"stroke:#000000; stroke-linecap:round; stroke-linejoin:round; stroke-width:4; stroke-opacity:1; fill:none\" points=\"193.936,104.965 212.834,104.965 \"/>\n",
       "<path clip-path=\"url(#clip110)\" d=\"M50.9921 1429.18 L80.6679 1429.18 L80.6679 1433.11 L50.9921 1433.11 L50.9921 1429.18 Z\" fill=\"#000000\" fill-rule=\"nonzero\" fill-opacity=\"1\" /><path clip-path=\"url(#clip110)\" d=\"M91.5706 1442.07 L99.2095 1442.07 L99.2095 1415.71 L90.8993 1417.37 L90.8993 1413.11 L99.1632 1411.45 L103.839 1411.45 L103.839 1442.07 L111.478 1442.07 L111.478 1446.01 L91.5706 1446.01 L91.5706 1442.07 Z\" fill=\"#000000\" fill-rule=\"nonzero\" fill-opacity=\"1\" /><path clip-path=\"url(#clip110)\" d=\"M120.922 1440.13 L125.807 1440.13 L125.807 1446.01 L120.922 1446.01 L120.922 1440.13 Z\" fill=\"#000000\" fill-rule=\"nonzero\" fill-opacity=\"1\" /><path clip-path=\"url(#clip110)\" d=\"M145.992 1414.53 Q142.381 1414.53 140.552 1418.09 Q138.746 1421.63 138.746 1428.76 Q138.746 1435.87 140.552 1439.43 Q142.381 1442.97 145.992 1442.97 Q149.626 1442.97 151.431 1439.43 Q153.26 1435.87 153.26 1428.76 Q153.26 1421.63 151.431 1418.09 Q149.626 1414.53 145.992 1414.53 M145.992 1410.82 Q151.802 1410.82 154.857 1415.43 Q157.936 1420.01 157.936 1428.76 Q157.936 1437.49 154.857 1442.09 Q151.802 1446.68 145.992 1446.68 Q140.181 1446.68 137.103 1442.09 Q134.047 1437.49 134.047 1428.76 Q134.047 1420.01 137.103 1415.43 Q140.181 1410.82 145.992 1410.82 Z\" fill=\"#000000\" fill-rule=\"nonzero\" fill-opacity=\"1\" /><path clip-path=\"url(#clip110)\" d=\"M51.9875 1098.24 L81.6633 1098.24 L81.6633 1102.17 L51.9875 1102.17 L51.9875 1098.24 Z\" fill=\"#000000\" fill-rule=\"nonzero\" fill-opacity=\"1\" /><path clip-path=\"url(#clip110)\" d=\"M101.756 1083.59 Q98.1447 1083.59 96.316 1087.15 Q94.5104 1090.69 94.5104 1097.82 Q94.5104 1104.93 96.316 1108.49 Q98.1447 1112.03 101.756 1112.03 Q105.39 1112.03 107.196 1108.49 Q109.024 1104.93 109.024 1097.82 Q109.024 1090.69 107.196 1087.15 Q105.39 1083.59 101.756 1083.59 M101.756 1079.88 Q107.566 1079.88 110.621 1084.49 Q113.7 1089.07 113.7 1097.82 Q113.7 1106.55 110.621 1111.15 Q107.566 1115.74 101.756 1115.74 Q95.9456 1115.74 92.8669 1111.15 Q89.8114 1106.55 89.8114 1097.82 Q89.8114 1089.07 92.8669 1084.49 Q95.9456 1079.88 101.756 1079.88 Z\" fill=\"#000000\" fill-rule=\"nonzero\" fill-opacity=\"1\" /><path clip-path=\"url(#clip110)\" d=\"M121.918 1109.19 L126.802 1109.19 L126.802 1115.07 L121.918 1115.07 L121.918 1109.19 Z\" fill=\"#000000\" fill-rule=\"nonzero\" fill-opacity=\"1\" /><path clip-path=\"url(#clip110)\" d=\"M137.033 1080.51 L155.39 1080.51 L155.39 1084.44 L141.316 1084.44 L141.316 1092.91 Q142.334 1092.57 143.353 1092.4 Q144.371 1092.22 145.39 1092.22 Q151.177 1092.22 154.556 1095.39 Q157.936 1098.56 157.936 1103.98 Q157.936 1109.56 154.464 1112.66 Q150.992 1115.74 144.672 1115.74 Q142.496 1115.74 140.228 1115.37 Q137.982 1115 135.575 1114.26 L135.575 1109.56 Q137.658 1110.69 139.881 1111.25 Q142.103 1111.8 144.58 1111.8 Q148.584 1111.8 150.922 1109.7 Q153.26 1107.59 153.26 1103.98 Q153.26 1100.37 150.922 1098.26 Q148.584 1096.15 144.58 1096.15 Q142.705 1096.15 140.83 1096.57 Q138.978 1096.99 137.033 1097.87 L137.033 1080.51 Z\" fill=\"#000000\" fill-rule=\"nonzero\" fill-opacity=\"1\" /><path clip-path=\"url(#clip110)\" d=\"M100.76 752.645 Q97.1493 752.645 95.3206 756.209 Q93.515 759.751 93.515 766.881 Q93.515 773.987 95.3206 777.552 Q97.1493 781.094 100.76 781.094 Q104.395 781.094 106.2 777.552 Q108.029 773.987 108.029 766.881 Q108.029 759.751 106.2 756.209 Q104.395 752.645 100.76 752.645 M100.76 748.941 Q106.571 748.941 109.626 753.547 Q112.705 758.131 112.705 766.881 Q112.705 775.608 109.626 780.214 Q106.571 784.797 100.76 784.797 Q94.9502 784.797 91.8715 780.214 Q88.816 775.608 88.816 766.881 Q88.816 758.131 91.8715 753.547 Q94.9502 748.941 100.76 748.941 Z\" fill=\"#000000\" fill-rule=\"nonzero\" fill-opacity=\"1\" /><path clip-path=\"url(#clip110)\" d=\"M120.922 778.246 L125.807 778.246 L125.807 784.126 L120.922 784.126 L120.922 778.246 Z\" fill=\"#000000\" fill-rule=\"nonzero\" fill-opacity=\"1\" /><path clip-path=\"url(#clip110)\" d=\"M145.992 752.645 Q142.381 752.645 140.552 756.209 Q138.746 759.751 138.746 766.881 Q138.746 773.987 140.552 777.552 Q142.381 781.094 145.992 781.094 Q149.626 781.094 151.431 777.552 Q153.26 773.987 153.26 766.881 Q153.26 759.751 151.431 756.209 Q149.626 752.645 145.992 752.645 M145.992 748.941 Q151.802 748.941 154.857 753.547 Q157.936 758.131 157.936 766.881 Q157.936 775.608 154.857 780.214 Q151.802 784.797 145.992 784.797 Q140.181 784.797 137.103 780.214 Q134.047 775.608 134.047 766.881 Q134.047 758.131 137.103 753.547 Q140.181 748.941 145.992 748.941 Z\" fill=\"#000000\" fill-rule=\"nonzero\" fill-opacity=\"1\" /><path clip-path=\"url(#clip110)\" d=\"M101.756 421.704 Q98.1447 421.704 96.316 425.269 Q94.5104 428.811 94.5104 435.94 Q94.5104 443.047 96.316 446.612 Q98.1447 450.153 101.756 450.153 Q105.39 450.153 107.196 446.612 Q109.024 443.047 109.024 435.94 Q109.024 428.811 107.196 425.269 Q105.39 421.704 101.756 421.704 M101.756 418.001 Q107.566 418.001 110.621 422.607 Q113.7 427.19 113.7 435.94 Q113.7 444.667 110.621 449.274 Q107.566 453.857 101.756 453.857 Q95.9456 453.857 92.8669 449.274 Q89.8114 444.667 89.8114 435.94 Q89.8114 427.19 92.8669 422.607 Q95.9456 418.001 101.756 418.001 Z\" fill=\"#000000\" fill-rule=\"nonzero\" fill-opacity=\"1\" /><path clip-path=\"url(#clip110)\" d=\"M121.918 447.306 L126.802 447.306 L126.802 453.186 L121.918 453.186 L121.918 447.306 Z\" fill=\"#000000\" fill-rule=\"nonzero\" fill-opacity=\"1\" /><path clip-path=\"url(#clip110)\" d=\"M137.033 418.626 L155.39 418.626 L155.39 422.561 L141.316 422.561 L141.316 431.033 Q142.334 430.686 143.353 430.524 Q144.371 430.339 145.39 430.339 Q151.177 430.339 154.556 433.51 Q157.936 436.681 157.936 442.098 Q157.936 447.676 154.464 450.778 Q150.992 453.857 144.672 453.857 Q142.496 453.857 140.228 453.487 Q137.982 453.116 135.575 452.375 L135.575 447.676 Q137.658 448.811 139.881 449.366 Q142.103 449.922 144.58 449.922 Q148.584 449.922 150.922 447.815 Q153.26 445.709 153.26 442.098 Q153.26 438.487 150.922 436.38 Q148.584 434.274 144.58 434.274 Q142.705 434.274 140.83 434.69 Q138.978 435.107 137.033 435.987 L137.033 418.626 Z\" fill=\"#000000\" fill-rule=\"nonzero\" fill-opacity=\"1\" /><path clip-path=\"url(#clip110)\" d=\"M91.5706 118.31 L99.2095 118.31 L99.2095 91.9445 L90.8993 93.6111 L90.8993 89.3519 L99.1632 87.6852 L103.839 87.6852 L103.839 118.31 L111.478 118.31 L111.478 122.245 L91.5706 122.245 L91.5706 118.31 Z\" fill=\"#000000\" fill-rule=\"nonzero\" fill-opacity=\"1\" /><path clip-path=\"url(#clip110)\" d=\"M120.922 116.366 L125.807 116.366 L125.807 122.245 L120.922 122.245 L120.922 116.366 Z\" fill=\"#000000\" fill-rule=\"nonzero\" fill-opacity=\"1\" /><path clip-path=\"url(#clip110)\" d=\"M145.992 90.7639 Q142.381 90.7639 140.552 94.3287 Q138.746 97.8704 138.746 105 Q138.746 112.106 140.552 115.671 Q142.381 119.213 145.992 119.213 Q149.626 119.213 151.431 115.671 Q153.26 112.106 153.26 105 Q153.26 97.8704 151.431 94.3287 Q149.626 90.7639 145.992 90.7639 M145.992 87.0602 Q151.802 87.0602 154.857 91.6667 Q157.936 96.25 157.936 105 Q157.936 113.727 154.857 118.333 Q151.802 122.917 145.992 122.917 Q140.181 122.917 137.103 118.333 Q134.047 113.727 134.047 105 Q134.047 96.25 137.103 91.6667 Q140.181 87.0602 145.992 87.0602 Z\" fill=\"#000000\" fill-rule=\"nonzero\" fill-opacity=\"1\" /><polyline clip-path=\"url(#clip112)\" style=\"stroke:#009af9; stroke-linecap:round; stroke-linejoin:round; stroke-width:4; stroke-opacity:1; fill:none\" points=\"255.035,766.846 275.401,724.219 295.767,681.761 316.133,639.638 336.5,598.018 356.866,557.064 377.232,516.937 397.598,477.797 417.964,439.798 438.331,403.089 458.697,367.816 479.063,334.118 499.429,302.128 519.796,271.971 540.162,243.768 560.528,217.629 580.894,193.657 601.261,171.948 621.627,152.586 641.993,135.649 662.359,121.203 682.725,109.304 703.092,100.001 723.458,93.3294 743.824,89.3159 764.19,87.9763 784.557,89.3159 804.923,93.3294 825.289,100.001 845.655,109.304 866.021,121.203 886.388,135.649 906.754,152.586 927.12,171.948 947.486,193.657 967.853,217.629 988.219,243.768 1008.59,271.971 1028.95,302.128 1049.32,334.118 1069.68,367.816 1090.05,403.089 1110.42,439.798 1130.78,477.797 1151.15,516.937 1171.51,557.064 1191.88,598.018 1212.25,639.638 1232.61,681.761 1252.98,724.219 1273.35,766.846 1293.71,809.473 1314.08,851.931 1334.44,894.053 1354.81,935.674 1375.18,976.628 1395.54,1016.75 1415.91,1055.89 1436.28,1093.89 1456.64,1130.6 1477.01,1165.88 1497.37,1199.57 1517.74,1231.56 1538.11,1261.72 1558.47,1289.92 1578.84,1316.06 1599.21,1340.03 1619.57,1361.74 1639.94,1381.11 1660.3,1398.04 1680.67,1412.49 1701.04,1424.39 1721.4,1433.69 1741.77,1440.36 1762.14,1444.38 1782.5,1445.72 1802.87,1444.38 1823.23,1440.36 1843.6,1433.69 1863.97,1424.39 1884.33,1412.49 1904.7,1398.04 1925.07,1381.11 1945.43,1361.74 1965.8,1340.03 1986.16,1316.06 2006.53,1289.92 2026.9,1261.72 2047.26,1231.56 2067.63,1199.57 2087.99,1165.88 2108.36,1130.6 2128.73,1093.89 2149.09,1055.89 2169.46,1016.75 2189.83,976.628 2210.19,935.674 2230.56,894.053 2250.92,851.931 2271.29,809.473 2291.66,766.846 \"/>\n",
       "<path clip-path=\"url(#clip110)\" d=\"M2012.48 198.898 L2280.8 198.898 L2280.8 95.2176 L2012.48 95.2176  Z\" fill=\"#ffffff\" fill-rule=\"evenodd\" fill-opacity=\"1\"/>\n",
       "<polyline clip-path=\"url(#clip110)\" style=\"stroke:#000000; stroke-linecap:round; stroke-linejoin:round; stroke-width:4; stroke-opacity:1; fill:none\" points=\"2012.48,198.898 2280.8,198.898 2280.8,95.2176 2012.48,95.2176 2012.48,198.898 \"/>\n",
       "<polyline clip-path=\"url(#clip110)\" style=\"stroke:#009af9; stroke-linecap:round; stroke-linejoin:round; stroke-width:4; stroke-opacity:1; fill:none\" points=\"2036.47,147.058 2180.39,147.058 \"/>\n",
       "<path clip-path=\"url(#clip110)\" d=\"M2218.22 166.745 Q2216.42 171.375 2214.7 172.787 Q2212.99 174.199 2210.12 174.199 L2206.72 174.199 L2206.72 170.634 L2209.22 170.634 Q2210.98 170.634 2211.95 169.8 Q2212.92 168.967 2214.1 165.865 L2214.86 163.921 L2204.38 138.412 L2208.89 138.412 L2216.99 158.689 L2225.1 138.412 L2229.61 138.412 L2218.22 166.745 Z\" fill=\"#000000\" fill-rule=\"nonzero\" fill-opacity=\"1\" /><path clip-path=\"url(#clip110)\" d=\"M2236.9 160.402 L2244.54 160.402 L2244.54 134.037 L2236.23 135.703 L2236.23 131.444 L2244.49 129.778 L2249.17 129.778 L2249.17 160.402 L2256.81 160.402 L2256.81 164.338 L2236.9 164.338 L2236.9 160.402 Z\" fill=\"#000000\" fill-rule=\"nonzero\" fill-opacity=\"1\" /></svg>\n"
      ]
     },
     "execution_count": 13,
     "metadata": {},
     "output_type": "execute_result"
    }
   ],
   "source": [
    "function genSolution(mesh,A,f)\n",
    "    \n",
    "    #..recover number of elements and nodes  \n",
    "    nelements = mesh.nelements\n",
    "    nnodes = mesh.nnodes \n",
    "    \n",
    "    #..set mesh width and square of mesh width \n",
    "    h = 1/nelements; h2=h*h; \n",
    "    \n",
    "    #..set homogeneous Dirichlet boundary conditions at both end points  \n",
    "    if (true)\n",
    "        A[1,1] = 1.; A[1,2] = 0.; f[1] = 0.;\n",
    "        A[end,end] = 1.; A[end,end-1] = 0.; f[end] = 0.;\n",
    "    elseif (false)\n",
    "        #..set homogeneous Dirichlet left and homogeneous Neumann right\n",
    "        display(\" Setting homogeneous Neumann conditions on the right hand side:: Option-1\")\n",
    "        A[1,1] = 1.;        A[1,2] = 0.;         f[1] = 0.;\n",
    "        A[end,end] = 1/h ;  A[end,end-1] = -1/h; f[end] = 0;        \n",
    "    elseif (false)\n",
    "        #..set homogeneous Dirichlet left and homogeneous Neumann right\n",
    "        display(\" Setting homogeneous Neumann conditions on the right hand side:: Option-2\")\n",
    "        A[1,1] = 1.;        A[1,2] = 0.;         f[1] = 0.;\n",
    "        A[end,end] = 1/h ;  A[end,end-1] = -1/h; f[end] = h/2*f[end];        \n",
    "    elseif (true)\n",
    "        display(\" Setting periodic boundary conditions \")\n",
    "        A = sparse(A)\n",
    "        A[1,end-1] = -1/h2; \n",
    "        A[end,2]   = -1/h2;\n",
    "    else \n",
    "        error(\" genSolution::Error::Boundary conditions not set\")\n",
    "    end \n",
    "    u = A\\f \n",
    "    return u,A,f  \n",
    "end\n",
    "\n",
    "N = 100\n",
    "#N = 4 \n",
    "mesh = genMesh(N)\n",
    "A = genStiffMat(mesh) # force compilation \n",
    "f = genVector(mesh,fsourceFct5) # force compilation\n",
    "u, A, f = genSolution(mesh,A,f) # force compilation \n",
    "# @time u = genSolution(A,f)\n",
    "\n",
    "plot(u)"
   ]
  },
  {
   "cell_type": "code",
   "execution_count": 14,
   "metadata": {},
   "outputs": [
    {
     "name": "stdout",
     "output_type": "stream",
     "text": [
      "  0.000004 seconds (11 allocations: 1.359 KiB)\n",
      "  0.000030 seconds (12 allocations: 1.047 KiB)\n",
      "  0.000005 seconds (11 allocations: 7.969 KiB)\n",
      "  0.000020 seconds (12 allocations: 5.469 KiB)\n",
      "  0.000008 seconds (11 allocations: 71.719 KiB)\n",
      "  0.000036 seconds (12 allocations: 48.031 KiB)\n",
      "  0.000035 seconds (20 allocations: 703.828 KiB)\n",
      "  0.000219 seconds (18 allocations: 469.438 KiB)\n"
     ]
    }
   ],
   "source": [
    "# observe again how the number of memory allocations only depends midly on the mesh size\n",
    "# observe how assembly is much faster than the solve \n",
    "mesh = genMesh(10);    @time A = genStiffMat(mesh); f = genVector(mesh,fsource); \n",
    "@time u,A,f = genSolution(mesh,A,f);\n",
    "mesh = genMesh(100);   @time A = genStiffMat(mesh); f = genVector(mesh,fsource); \n",
    "@time u,A,f = genSolution(mesh,A,f);\n",
    "mesh = genMesh(1000);  @time A = genStiffMat(mesh); f = genVector(mesh,fsource); \n",
    "@time u,A,f = genSolution(mesh,A,f);\n",
    "mesh = genMesh(10000); @time A = genStiffMat(mesh); f = genVector(mesh,fsource); \n",
    "@time u,A,f = genSolution(mesh,A,f);"
   ]
  },
  {
   "cell_type": "markdown",
   "metadata": {},
   "source": [
    "## Section 4: Solve Iteratively "
   ]
  },
  {
   "cell_type": "code",
   "execution_count": 30,
   "metadata": {},
   "outputs": [
    {
     "data": {
      "text/plain": [
       "Converged after 5 iterations."
      ]
     },
     "metadata": {},
     "output_type": "display_data"
    },
    {
     "data": {
      "image/svg+xml": [
       "<?xml version=\"1.0\" encoding=\"utf-8\"?>\n",
       "<svg xmlns=\"http://www.w3.org/2000/svg\" xmlns:xlink=\"http://www.w3.org/1999/xlink\" width=\"600\" height=\"400\" viewBox=\"0 0 2400 1600\">\n",
       "<defs>\n",
       "  <clipPath id=\"clip510\">\n",
       "    <rect x=\"0\" y=\"0\" width=\"2400\" height=\"1600\"/>\n",
       "  </clipPath>\n",
       "</defs>\n",
       "<path clip-path=\"url(#clip510)\" d=\"M0 1600 L2400 1600 L2400 0 L0 0  Z\" fill=\"#ffffff\" fill-rule=\"evenodd\" fill-opacity=\"1\"/>\n",
       "<defs>\n",
       "  <clipPath id=\"clip511\">\n",
       "    <rect x=\"480\" y=\"0\" width=\"1681\" height=\"1600\"/>\n",
       "  </clipPath>\n",
       "</defs>\n",
       "<path clip-path=\"url(#clip510)\" d=\"M250.028 1423.18 L1151.99 1423.18 L1151.99 123.472 L250.028 123.472  Z\" fill=\"#ffffff\" fill-rule=\"evenodd\" fill-opacity=\"1\"/>\n",
       "<defs>\n",
       "  <clipPath id=\"clip512\">\n",
       "    <rect x=\"250\" y=\"123\" width=\"903\" height=\"1301\"/>\n",
       "  </clipPath>\n",
       "</defs>\n",
       "<polyline clip-path=\"url(#clip512)\" style=\"stroke:#000000; stroke-linecap:round; stroke-linejoin:round; stroke-width:2; stroke-opacity:0.1; fill:none\" points=\"275.555,1423.18 275.555,123.472 \"/>\n",
       "<polyline clip-path=\"url(#clip512)\" style=\"stroke:#000000; stroke-linecap:round; stroke-linejoin:round; stroke-width:2; stroke-opacity:0.1; fill:none\" points=\"488.282,1423.18 488.282,123.472 \"/>\n",
       "<polyline clip-path=\"url(#clip512)\" style=\"stroke:#000000; stroke-linecap:round; stroke-linejoin:round; stroke-width:2; stroke-opacity:0.1; fill:none\" points=\"701.009,1423.18 701.009,123.472 \"/>\n",
       "<polyline clip-path=\"url(#clip512)\" style=\"stroke:#000000; stroke-linecap:round; stroke-linejoin:round; stroke-width:2; stroke-opacity:0.1; fill:none\" points=\"913.736,1423.18 913.736,123.472 \"/>\n",
       "<polyline clip-path=\"url(#clip512)\" style=\"stroke:#000000; stroke-linecap:round; stroke-linejoin:round; stroke-width:2; stroke-opacity:0.1; fill:none\" points=\"1126.46,1423.18 1126.46,123.472 \"/>\n",
       "<polyline clip-path=\"url(#clip510)\" style=\"stroke:#000000; stroke-linecap:round; stroke-linejoin:round; stroke-width:4; stroke-opacity:1; fill:none\" points=\"250.028,1423.18 1151.99,1423.18 \"/>\n",
       "<polyline clip-path=\"url(#clip510)\" style=\"stroke:#000000; stroke-linecap:round; stroke-linejoin:round; stroke-width:4; stroke-opacity:1; fill:none\" points=\"275.555,1423.18 275.555,1404.28 \"/>\n",
       "<polyline clip-path=\"url(#clip510)\" style=\"stroke:#000000; stroke-linecap:round; stroke-linejoin:round; stroke-width:4; stroke-opacity:1; fill:none\" points=\"488.282,1423.18 488.282,1404.28 \"/>\n",
       "<polyline clip-path=\"url(#clip510)\" style=\"stroke:#000000; stroke-linecap:round; stroke-linejoin:round; stroke-width:4; stroke-opacity:1; fill:none\" points=\"701.009,1423.18 701.009,1404.28 \"/>\n",
       "<polyline clip-path=\"url(#clip510)\" style=\"stroke:#000000; stroke-linecap:round; stroke-linejoin:round; stroke-width:4; stroke-opacity:1; fill:none\" points=\"913.736,1423.18 913.736,1404.28 \"/>\n",
       "<polyline clip-path=\"url(#clip510)\" style=\"stroke:#000000; stroke-linecap:round; stroke-linejoin:round; stroke-width:4; stroke-opacity:1; fill:none\" points=\"1126.46,1423.18 1126.46,1404.28 \"/>\n",
       "<path clip-path=\"url(#clip510)\" d=\"M237.859 1454.1 Q234.248 1454.1 232.419 1457.66 Q230.613 1461.2 230.613 1468.33 Q230.613 1475.44 232.419 1479.01 Q234.248 1482.55 237.859 1482.55 Q241.493 1482.55 243.299 1479.01 Q245.127 1475.44 245.127 1468.33 Q245.127 1461.2 243.299 1457.66 Q241.493 1454.1 237.859 1454.1 M237.859 1450.39 Q243.669 1450.39 246.724 1455 Q249.803 1459.58 249.803 1468.33 Q249.803 1477.06 246.724 1481.67 Q243.669 1486.25 237.859 1486.25 Q232.049 1486.25 228.97 1481.67 Q225.914 1477.06 225.914 1468.33 Q225.914 1459.58 228.97 1455 Q232.049 1450.39 237.859 1450.39 Z\" fill=\"#000000\" fill-rule=\"nonzero\" fill-opacity=\"1\" /><path clip-path=\"url(#clip510)\" d=\"M258.021 1479.7 L262.905 1479.7 L262.905 1485.58 L258.021 1485.58 L258.021 1479.7 Z\" fill=\"#000000\" fill-rule=\"nonzero\" fill-opacity=\"1\" /><path clip-path=\"url(#clip510)\" d=\"M283.09 1454.1 Q279.479 1454.1 277.65 1457.66 Q275.845 1461.2 275.845 1468.33 Q275.845 1475.44 277.65 1479.01 Q279.479 1482.55 283.09 1482.55 Q286.724 1482.55 288.53 1479.01 Q290.359 1475.44 290.359 1468.33 Q290.359 1461.2 288.53 1457.66 Q286.724 1454.1 283.09 1454.1 M283.09 1450.39 Q288.9 1450.39 291.956 1455 Q295.034 1459.58 295.034 1468.33 Q295.034 1477.06 291.956 1481.67 Q288.9 1486.25 283.09 1486.25 Q277.28 1486.25 274.201 1481.67 Q271.146 1477.06 271.146 1468.33 Q271.146 1459.58 274.201 1455 Q277.28 1450.39 283.09 1450.39 Z\" fill=\"#000000\" fill-rule=\"nonzero\" fill-opacity=\"1\" /><path clip-path=\"url(#clip510)\" d=\"M313.252 1454.1 Q309.641 1454.1 307.812 1457.66 Q306.007 1461.2 306.007 1468.33 Q306.007 1475.44 307.812 1479.01 Q309.641 1482.55 313.252 1482.55 Q316.886 1482.55 318.692 1479.01 Q320.52 1475.44 320.52 1468.33 Q320.52 1461.2 318.692 1457.66 Q316.886 1454.1 313.252 1454.1 M313.252 1450.39 Q319.062 1450.39 322.118 1455 Q325.196 1459.58 325.196 1468.33 Q325.196 1477.06 322.118 1481.67 Q319.062 1486.25 313.252 1486.25 Q307.442 1486.25 304.363 1481.67 Q301.308 1477.06 301.308 1468.33 Q301.308 1459.58 304.363 1455 Q307.442 1450.39 313.252 1450.39 Z\" fill=\"#000000\" fill-rule=\"nonzero\" fill-opacity=\"1\" /><path clip-path=\"url(#clip510)\" d=\"M451.083 1454.1 Q447.472 1454.1 445.644 1457.66 Q443.838 1461.2 443.838 1468.33 Q443.838 1475.44 445.644 1479.01 Q447.472 1482.55 451.083 1482.55 Q454.718 1482.55 456.523 1479.01 Q458.352 1475.44 458.352 1468.33 Q458.352 1461.2 456.523 1457.66 Q454.718 1454.1 451.083 1454.1 M451.083 1450.39 Q456.893 1450.39 459.949 1455 Q463.028 1459.58 463.028 1468.33 Q463.028 1477.06 459.949 1481.67 Q456.893 1486.25 451.083 1486.25 Q445.273 1486.25 442.194 1481.67 Q439.139 1477.06 439.139 1468.33 Q439.139 1459.58 442.194 1455 Q445.273 1450.39 451.083 1450.39 Z\" fill=\"#000000\" fill-rule=\"nonzero\" fill-opacity=\"1\" /><path clip-path=\"url(#clip510)\" d=\"M471.245 1479.7 L476.129 1479.7 L476.129 1485.58 L471.245 1485.58 L471.245 1479.7 Z\" fill=\"#000000\" fill-rule=\"nonzero\" fill-opacity=\"1\" /><path clip-path=\"url(#clip510)\" d=\"M490.342 1481.64 L506.662 1481.64 L506.662 1485.58 L484.717 1485.58 L484.717 1481.64 Q487.379 1478.89 491.963 1474.26 Q496.569 1469.61 497.75 1468.27 Q499.995 1465.74 500.875 1464.01 Q501.777 1462.25 501.777 1460.56 Q501.777 1457.8 499.833 1456.07 Q497.912 1454.33 494.81 1454.33 Q492.611 1454.33 490.157 1455.09 Q487.727 1455.86 484.949 1457.41 L484.949 1452.69 Q487.773 1451.55 490.227 1450.97 Q492.68 1450.39 494.717 1450.39 Q500.088 1450.39 503.282 1453.08 Q506.477 1455.77 506.477 1460.26 Q506.477 1462.39 505.666 1464.31 Q504.879 1466.2 502.773 1468.8 Q502.194 1469.47 499.092 1472.69 Q495.99 1475.88 490.342 1481.64 Z\" fill=\"#000000\" fill-rule=\"nonzero\" fill-opacity=\"1\" /><path clip-path=\"url(#clip510)\" d=\"M516.523 1451.02 L534.879 1451.02 L534.879 1454.96 L520.805 1454.96 L520.805 1463.43 Q521.824 1463.08 522.842 1462.92 Q523.861 1462.73 524.879 1462.73 Q530.666 1462.73 534.046 1465.9 Q537.425 1469.08 537.425 1474.49 Q537.425 1480.07 533.953 1483.17 Q530.481 1486.25 524.162 1486.25 Q521.986 1486.25 519.717 1485.88 Q517.472 1485.51 515.064 1484.77 L515.064 1480.07 Q517.148 1481.2 519.37 1481.76 Q521.592 1482.32 524.069 1482.32 Q528.074 1482.32 530.412 1480.21 Q532.75 1478.1 532.75 1474.49 Q532.75 1470.88 530.412 1468.77 Q528.074 1466.67 524.069 1466.67 Q522.194 1466.67 520.319 1467.08 Q518.467 1467.5 516.523 1468.38 L516.523 1451.02 Z\" fill=\"#000000\" fill-rule=\"nonzero\" fill-opacity=\"1\" /><path clip-path=\"url(#clip510)\" d=\"M663.312 1454.1 Q659.701 1454.1 657.873 1457.66 Q656.067 1461.2 656.067 1468.33 Q656.067 1475.44 657.873 1479.01 Q659.701 1482.55 663.312 1482.55 Q666.947 1482.55 668.752 1479.01 Q670.581 1475.44 670.581 1468.33 Q670.581 1461.2 668.752 1457.66 Q666.947 1454.1 663.312 1454.1 M663.312 1450.39 Q669.123 1450.39 672.178 1455 Q675.257 1459.58 675.257 1468.33 Q675.257 1477.06 672.178 1481.67 Q669.123 1486.25 663.312 1486.25 Q657.502 1486.25 654.424 1481.67 Q651.368 1477.06 651.368 1468.33 Q651.368 1459.58 654.424 1455 Q657.502 1450.39 663.312 1450.39 Z\" fill=\"#000000\" fill-rule=\"nonzero\" fill-opacity=\"1\" /><path clip-path=\"url(#clip510)\" d=\"M683.474 1479.7 L688.359 1479.7 L688.359 1485.58 L683.474 1485.58 L683.474 1479.7 Z\" fill=\"#000000\" fill-rule=\"nonzero\" fill-opacity=\"1\" /><path clip-path=\"url(#clip510)\" d=\"M698.59 1451.02 L716.946 1451.02 L716.946 1454.96 L702.872 1454.96 L702.872 1463.43 Q703.891 1463.08 704.909 1462.92 Q705.928 1462.73 706.946 1462.73 Q712.733 1462.73 716.113 1465.9 Q719.493 1469.08 719.493 1474.49 Q719.493 1480.07 716.02 1483.17 Q712.548 1486.25 706.229 1486.25 Q704.053 1486.25 701.784 1485.88 Q699.539 1485.51 697.132 1484.77 L697.132 1480.07 Q699.215 1481.2 701.437 1481.76 Q703.659 1482.32 706.136 1482.32 Q710.141 1482.32 712.479 1480.21 Q714.817 1478.1 714.817 1474.49 Q714.817 1470.88 712.479 1468.77 Q710.141 1466.67 706.136 1466.67 Q704.261 1466.67 702.386 1467.08 Q700.534 1467.5 698.59 1468.38 L698.59 1451.02 Z\" fill=\"#000000\" fill-rule=\"nonzero\" fill-opacity=\"1\" /><path clip-path=\"url(#clip510)\" d=\"M738.706 1454.1 Q735.094 1454.1 733.266 1457.66 Q731.46 1461.2 731.46 1468.33 Q731.46 1475.44 733.266 1479.01 Q735.094 1482.55 738.706 1482.55 Q742.34 1482.55 744.145 1479.01 Q745.974 1475.44 745.974 1468.33 Q745.974 1461.2 744.145 1457.66 Q742.34 1454.1 738.706 1454.1 M738.706 1450.39 Q744.516 1450.39 747.571 1455 Q750.65 1459.58 750.65 1468.33 Q750.65 1477.06 747.571 1481.67 Q744.516 1486.25 738.706 1486.25 Q732.895 1486.25 729.817 1481.67 Q726.761 1477.06 726.761 1468.33 Q726.761 1459.58 729.817 1455 Q732.895 1450.39 738.706 1450.39 Z\" fill=\"#000000\" fill-rule=\"nonzero\" fill-opacity=\"1\" /><path clip-path=\"url(#clip510)\" d=\"M876.537 1454.1 Q872.926 1454.1 871.097 1457.66 Q869.292 1461.2 869.292 1468.33 Q869.292 1475.44 871.097 1479.01 Q872.926 1482.55 876.537 1482.55 Q880.171 1482.55 881.977 1479.01 Q883.805 1475.44 883.805 1468.33 Q883.805 1461.2 881.977 1457.66 Q880.171 1454.1 876.537 1454.1 M876.537 1450.39 Q882.347 1450.39 885.403 1455 Q888.481 1459.58 888.481 1468.33 Q888.481 1477.06 885.403 1481.67 Q882.347 1486.25 876.537 1486.25 Q870.727 1486.25 867.648 1481.67 Q864.593 1477.06 864.593 1468.33 Q864.593 1459.58 867.648 1455 Q870.727 1450.39 876.537 1450.39 Z\" fill=\"#000000\" fill-rule=\"nonzero\" fill-opacity=\"1\" /><path clip-path=\"url(#clip510)\" d=\"M896.699 1479.7 L901.583 1479.7 L901.583 1485.58 L896.699 1485.58 L896.699 1479.7 Z\" fill=\"#000000\" fill-rule=\"nonzero\" fill-opacity=\"1\" /><path clip-path=\"url(#clip510)\" d=\"M910.588 1451.02 L932.81 1451.02 L932.81 1453.01 L920.264 1485.58 L915.379 1485.58 L927.185 1454.96 L910.588 1454.96 L910.588 1451.02 Z\" fill=\"#000000\" fill-rule=\"nonzero\" fill-opacity=\"1\" /><path clip-path=\"url(#clip510)\" d=\"M941.976 1451.02 L960.333 1451.02 L960.333 1454.96 L946.259 1454.96 L946.259 1463.43 Q947.277 1463.08 948.296 1462.92 Q949.314 1462.73 950.333 1462.73 Q956.12 1462.73 959.499 1465.9 Q962.879 1469.08 962.879 1474.49 Q962.879 1480.07 959.407 1483.17 Q955.935 1486.25 949.615 1486.25 Q947.439 1486.25 945.171 1485.88 Q942.925 1485.51 940.518 1484.77 L940.518 1480.07 Q942.601 1481.2 944.824 1481.76 Q947.046 1482.32 949.523 1482.32 Q953.527 1482.32 955.865 1480.21 Q958.203 1478.1 958.203 1474.49 Q958.203 1470.88 955.865 1468.77 Q953.527 1466.67 949.523 1466.67 Q947.648 1466.67 945.773 1467.08 Q943.921 1467.5 941.976 1468.38 L941.976 1451.02 Z\" fill=\"#000000\" fill-rule=\"nonzero\" fill-opacity=\"1\" /><path clip-path=\"url(#clip510)\" d=\"M1078.53 1481.64 L1086.17 1481.64 L1086.17 1455.28 L1077.86 1456.95 L1077.86 1452.69 L1086.13 1451.02 L1090.8 1451.02 L1090.8 1481.64 L1098.44 1481.64 L1098.44 1485.58 L1078.53 1485.58 L1078.53 1481.64 Z\" fill=\"#000000\" fill-rule=\"nonzero\" fill-opacity=\"1\" /><path clip-path=\"url(#clip510)\" d=\"M1107.89 1479.7 L1112.77 1479.7 L1112.77 1485.58 L1107.89 1485.58 L1107.89 1479.7 Z\" fill=\"#000000\" fill-rule=\"nonzero\" fill-opacity=\"1\" /><path clip-path=\"url(#clip510)\" d=\"M1132.96 1454.1 Q1129.34 1454.1 1127.52 1457.66 Q1125.71 1461.2 1125.71 1468.33 Q1125.71 1475.44 1127.52 1479.01 Q1129.34 1482.55 1132.96 1482.55 Q1136.59 1482.55 1138.4 1479.01 Q1140.22 1475.44 1140.22 1468.33 Q1140.22 1461.2 1138.4 1457.66 Q1136.59 1454.1 1132.96 1454.1 M1132.96 1450.39 Q1138.77 1450.39 1141.82 1455 Q1144.9 1459.58 1144.9 1468.33 Q1144.9 1477.06 1141.82 1481.67 Q1138.77 1486.25 1132.96 1486.25 Q1127.15 1486.25 1124.07 1481.67 Q1121.01 1477.06 1121.01 1468.33 Q1121.01 1459.58 1124.07 1455 Q1127.15 1450.39 1132.96 1450.39 Z\" fill=\"#000000\" fill-rule=\"nonzero\" fill-opacity=\"1\" /><path clip-path=\"url(#clip510)\" d=\"M1163.12 1454.1 Q1159.51 1454.1 1157.68 1457.66 Q1155.87 1461.2 1155.87 1468.33 Q1155.87 1475.44 1157.68 1479.01 Q1159.51 1482.55 1163.12 1482.55 Q1166.75 1482.55 1168.56 1479.01 Q1170.39 1475.44 1170.39 1468.33 Q1170.39 1461.2 1168.56 1457.66 Q1166.75 1454.1 1163.12 1454.1 M1163.12 1450.39 Q1168.93 1450.39 1171.98 1455 Q1175.06 1459.58 1175.06 1468.33 Q1175.06 1477.06 1171.98 1481.67 Q1168.93 1486.25 1163.12 1486.25 Q1157.31 1486.25 1154.23 1481.67 Q1151.17 1477.06 1151.17 1468.33 Q1151.17 1459.58 1154.23 1455 Q1157.31 1450.39 1163.12 1450.39 Z\" fill=\"#000000\" fill-rule=\"nonzero\" fill-opacity=\"1\" /><path clip-path=\"url(#clip510)\" d=\"M717.623 1532.4 L704.733 1549.74 L718.292 1568.04 L711.385 1568.04 L701.009 1554.04 L690.633 1568.04 L683.726 1568.04 L697.572 1549.39 L684.904 1532.4 L691.811 1532.4 L701.264 1545.1 L710.717 1532.4 L717.623 1532.4 Z\" fill=\"#000000\" fill-rule=\"nonzero\" fill-opacity=\"1\" /><polyline clip-path=\"url(#clip512)\" style=\"stroke:#000000; stroke-linecap:round; stroke-linejoin:round; stroke-width:2; stroke-opacity:0.1; fill:none\" points=\"250.028,1182.9 1151.99,1182.9 \"/>\n",
       "<polyline clip-path=\"url(#clip512)\" style=\"stroke:#000000; stroke-linecap:round; stroke-linejoin:round; stroke-width:2; stroke-opacity:0.1; fill:none\" points=\"250.028,940.889 1151.99,940.889 \"/>\n",
       "<polyline clip-path=\"url(#clip512)\" style=\"stroke:#000000; stroke-linecap:round; stroke-linejoin:round; stroke-width:2; stroke-opacity:0.1; fill:none\" points=\"250.028,698.879 1151.99,698.879 \"/>\n",
       "<polyline clip-path=\"url(#clip512)\" style=\"stroke:#000000; stroke-linecap:round; stroke-linejoin:round; stroke-width:2; stroke-opacity:0.1; fill:none\" points=\"250.028,456.868 1151.99,456.868 \"/>\n",
       "<polyline clip-path=\"url(#clip512)\" style=\"stroke:#000000; stroke-linecap:round; stroke-linejoin:round; stroke-width:2; stroke-opacity:0.1; fill:none\" points=\"250.028,214.858 1151.99,214.858 \"/>\n",
       "<polyline clip-path=\"url(#clip510)\" style=\"stroke:#000000; stroke-linecap:round; stroke-linejoin:round; stroke-width:4; stroke-opacity:1; fill:none\" points=\"250.028,1423.18 250.028,123.472 \"/>\n",
       "<polyline clip-path=\"url(#clip510)\" style=\"stroke:#000000; stroke-linecap:round; stroke-linejoin:round; stroke-width:4; stroke-opacity:1; fill:none\" points=\"250.028,1182.9 268.926,1182.9 \"/>\n",
       "<polyline clip-path=\"url(#clip510)\" style=\"stroke:#000000; stroke-linecap:round; stroke-linejoin:round; stroke-width:4; stroke-opacity:1; fill:none\" points=\"250.028,940.889 268.926,940.889 \"/>\n",
       "<polyline clip-path=\"url(#clip510)\" style=\"stroke:#000000; stroke-linecap:round; stroke-linejoin:round; stroke-width:4; stroke-opacity:1; fill:none\" points=\"250.028,698.879 268.926,698.879 \"/>\n",
       "<polyline clip-path=\"url(#clip510)\" style=\"stroke:#000000; stroke-linecap:round; stroke-linejoin:round; stroke-width:4; stroke-opacity:1; fill:none\" points=\"250.028,456.868 268.926,456.868 \"/>\n",
       "<polyline clip-path=\"url(#clip510)\" style=\"stroke:#000000; stroke-linecap:round; stroke-linejoin:round; stroke-width:4; stroke-opacity:1; fill:none\" points=\"250.028,214.858 268.926,214.858 \"/>\n",
       "<path clip-path=\"url(#clip510)\" d=\"M128.288 1168.7 Q124.677 1168.7 122.848 1172.26 Q121.043 1175.8 121.043 1182.93 Q121.043 1190.04 122.848 1193.61 Q124.677 1197.15 128.288 1197.15 Q131.922 1197.15 133.728 1193.61 Q135.556 1190.04 135.556 1182.93 Q135.556 1175.8 133.728 1172.26 Q131.922 1168.7 128.288 1168.7 M128.288 1164.99 Q134.098 1164.99 137.154 1169.6 Q140.232 1174.18 140.232 1182.93 Q140.232 1191.66 137.154 1196.27 Q134.098 1200.85 128.288 1200.85 Q122.478 1200.85 119.399 1196.27 Q116.343 1191.66 116.343 1182.93 Q116.343 1174.18 119.399 1169.6 Q122.478 1164.99 128.288 1164.99 Z\" fill=\"#000000\" fill-rule=\"nonzero\" fill-opacity=\"1\" /><path clip-path=\"url(#clip510)\" d=\"M148.45 1194.3 L153.334 1194.3 L153.334 1200.18 L148.45 1200.18 L148.45 1194.3 Z\" fill=\"#000000\" fill-rule=\"nonzero\" fill-opacity=\"1\" /><path clip-path=\"url(#clip510)\" d=\"M173.519 1168.7 Q169.908 1168.7 168.079 1172.26 Q166.274 1175.8 166.274 1182.93 Q166.274 1190.04 168.079 1193.61 Q169.908 1197.15 173.519 1197.15 Q177.153 1197.15 178.959 1193.61 Q180.788 1190.04 180.788 1182.93 Q180.788 1175.8 178.959 1172.26 Q177.153 1168.7 173.519 1168.7 M173.519 1164.99 Q179.329 1164.99 182.385 1169.6 Q185.463 1174.18 185.463 1182.93 Q185.463 1191.66 182.385 1196.27 Q179.329 1200.85 173.519 1200.85 Q167.709 1200.85 164.63 1196.27 Q161.575 1191.66 161.575 1182.93 Q161.575 1174.18 164.63 1169.6 Q167.709 1164.99 173.519 1164.99 Z\" fill=\"#000000\" fill-rule=\"nonzero\" fill-opacity=\"1\" /><path clip-path=\"url(#clip510)\" d=\"M197.709 1196.24 L214.028 1196.24 L214.028 1200.18 L192.084 1200.18 L192.084 1196.24 Q194.746 1193.49 199.329 1188.86 Q203.936 1184.21 205.116 1182.86 Q207.362 1180.34 208.241 1178.61 Q209.144 1176.85 209.144 1175.16 Q209.144 1172.4 207.199 1170.67 Q205.278 1168.93 202.176 1168.93 Q199.977 1168.93 197.524 1169.69 Q195.093 1170.46 192.315 1172.01 L192.315 1167.29 Q195.139 1166.15 197.593 1165.57 Q200.047 1164.99 202.084 1164.99 Q207.454 1164.99 210.649 1167.68 Q213.843 1170.36 213.843 1174.86 Q213.843 1176.99 213.033 1178.91 Q212.246 1180.8 210.139 1183.4 Q209.561 1184.07 206.459 1187.29 Q203.357 1190.48 197.709 1196.24 Z\" fill=\"#000000\" fill-rule=\"nonzero\" fill-opacity=\"1\" /><path clip-path=\"url(#clip510)\" d=\"M126.205 926.688 Q122.593 926.688 120.765 930.253 Q118.959 933.794 118.959 940.924 Q118.959 948.03 120.765 951.595 Q122.593 955.137 126.205 955.137 Q129.839 955.137 131.644 951.595 Q133.473 948.03 133.473 940.924 Q133.473 933.794 131.644 930.253 Q129.839 926.688 126.205 926.688 M126.205 922.984 Q132.015 922.984 135.07 927.59 Q138.149 932.174 138.149 940.924 Q138.149 949.651 135.07 954.257 Q132.015 958.84 126.205 958.84 Q120.394 958.84 117.316 954.257 Q114.26 949.651 114.26 940.924 Q114.26 932.174 117.316 927.59 Q120.394 922.984 126.205 922.984 Z\" fill=\"#000000\" fill-rule=\"nonzero\" fill-opacity=\"1\" /><path clip-path=\"url(#clip510)\" d=\"M146.366 952.289 L151.251 952.289 L151.251 958.169 L146.366 958.169 L146.366 952.289 Z\" fill=\"#000000\" fill-rule=\"nonzero\" fill-opacity=\"1\" /><path clip-path=\"url(#clip510)\" d=\"M171.436 926.688 Q167.825 926.688 165.996 930.253 Q164.19 933.794 164.19 940.924 Q164.19 948.03 165.996 951.595 Q167.825 955.137 171.436 955.137 Q175.07 955.137 176.876 951.595 Q178.704 948.03 178.704 940.924 Q178.704 933.794 176.876 930.253 Q175.07 926.688 171.436 926.688 M171.436 922.984 Q177.246 922.984 180.301 927.59 Q183.38 932.174 183.38 940.924 Q183.38 949.651 180.301 954.257 Q177.246 958.84 171.436 958.84 Q165.626 958.84 162.547 954.257 Q159.491 949.651 159.491 940.924 Q159.491 932.174 162.547 927.59 Q165.626 922.984 171.436 922.984 Z\" fill=\"#000000\" fill-rule=\"nonzero\" fill-opacity=\"1\" /><path clip-path=\"url(#clip510)\" d=\"M204.445 927.683 L192.639 946.132 L204.445 946.132 L204.445 927.683 M203.218 923.609 L209.098 923.609 L209.098 946.132 L214.028 946.132 L214.028 950.021 L209.098 950.021 L209.098 958.169 L204.445 958.169 L204.445 950.021 L188.843 950.021 L188.843 945.507 L203.218 923.609 Z\" fill=\"#000000\" fill-rule=\"nonzero\" fill-opacity=\"1\" /><path clip-path=\"url(#clip510)\" d=\"M126.529 684.677 Q122.918 684.677 121.089 688.242 Q119.283 691.784 119.283 698.913 Q119.283 706.02 121.089 709.585 Q122.918 713.126 126.529 713.126 Q130.163 713.126 131.968 709.585 Q133.797 706.02 133.797 698.913 Q133.797 691.784 131.968 688.242 Q130.163 684.677 126.529 684.677 M126.529 680.974 Q132.339 680.974 135.394 685.58 Q138.473 690.163 138.473 698.913 Q138.473 707.64 135.394 712.247 Q132.339 716.83 126.529 716.83 Q120.718 716.83 117.64 712.247 Q114.584 707.64 114.584 698.913 Q114.584 690.163 117.64 685.58 Q120.718 680.974 126.529 680.974 Z\" fill=\"#000000\" fill-rule=\"nonzero\" fill-opacity=\"1\" /><path clip-path=\"url(#clip510)\" d=\"M146.691 710.279 L151.575 710.279 L151.575 716.159 L146.691 716.159 L146.691 710.279 Z\" fill=\"#000000\" fill-rule=\"nonzero\" fill-opacity=\"1\" /><path clip-path=\"url(#clip510)\" d=\"M171.76 684.677 Q168.149 684.677 166.32 688.242 Q164.515 691.784 164.515 698.913 Q164.515 706.02 166.32 709.585 Q168.149 713.126 171.76 713.126 Q175.394 713.126 177.2 709.585 Q179.028 706.02 179.028 698.913 Q179.028 691.784 177.2 688.242 Q175.394 684.677 171.76 684.677 M171.76 680.974 Q177.57 680.974 180.626 685.58 Q183.704 690.163 183.704 698.913 Q183.704 707.64 180.626 712.247 Q177.57 716.83 171.76 716.83 Q165.95 716.83 162.871 712.247 Q159.815 707.64 159.815 698.913 Q159.815 690.163 162.871 685.58 Q165.95 680.974 171.76 680.974 Z\" fill=\"#000000\" fill-rule=\"nonzero\" fill-opacity=\"1\" /><path clip-path=\"url(#clip510)\" d=\"M202.5 697.015 Q199.352 697.015 197.5 699.168 Q195.672 701.321 195.672 705.071 Q195.672 708.798 197.5 710.974 Q199.352 713.126 202.5 713.126 Q205.649 713.126 207.477 710.974 Q209.329 708.798 209.329 705.071 Q209.329 701.321 207.477 699.168 Q205.649 697.015 202.5 697.015 M211.783 682.363 L211.783 686.622 Q210.024 685.789 208.218 685.349 Q206.436 684.909 204.676 684.909 Q200.047 684.909 197.593 688.034 Q195.163 691.159 194.815 697.478 Q196.181 695.464 198.241 694.4 Q200.301 693.312 202.778 693.312 Q207.987 693.312 210.996 696.483 Q214.028 699.631 214.028 705.071 Q214.028 710.395 210.88 713.612 Q207.732 716.83 202.5 716.83 Q196.505 716.83 193.334 712.247 Q190.163 707.64 190.163 698.913 Q190.163 690.719 194.051 685.858 Q197.94 680.974 204.491 680.974 Q206.25 680.974 208.033 681.321 Q209.838 681.668 211.783 682.363 Z\" fill=\"#000000\" fill-rule=\"nonzero\" fill-opacity=\"1\" /><path clip-path=\"url(#clip510)\" d=\"M126.783 442.667 Q123.172 442.667 121.343 446.232 Q119.538 449.774 119.538 456.903 Q119.538 464.01 121.343 467.574 Q123.172 471.116 126.783 471.116 Q130.417 471.116 132.223 467.574 Q134.052 464.01 134.052 456.903 Q134.052 449.774 132.223 446.232 Q130.417 442.667 126.783 442.667 M126.783 438.963 Q132.593 438.963 135.649 443.57 Q138.728 448.153 138.728 456.903 Q138.728 465.63 135.649 470.236 Q132.593 474.82 126.783 474.82 Q120.973 474.82 117.894 470.236 Q114.839 465.63 114.839 456.903 Q114.839 448.153 117.894 443.57 Q120.973 438.963 126.783 438.963 Z\" fill=\"#000000\" fill-rule=\"nonzero\" fill-opacity=\"1\" /><path clip-path=\"url(#clip510)\" d=\"M146.945 468.269 L151.829 468.269 L151.829 474.148 L146.945 474.148 L146.945 468.269 Z\" fill=\"#000000\" fill-rule=\"nonzero\" fill-opacity=\"1\" /><path clip-path=\"url(#clip510)\" d=\"M172.014 442.667 Q168.403 442.667 166.575 446.232 Q164.769 449.774 164.769 456.903 Q164.769 464.01 166.575 467.574 Q168.403 471.116 172.014 471.116 Q175.649 471.116 177.454 467.574 Q179.283 464.01 179.283 456.903 Q179.283 449.774 177.454 446.232 Q175.649 442.667 172.014 442.667 M172.014 438.963 Q177.825 438.963 180.88 443.57 Q183.959 448.153 183.959 456.903 Q183.959 465.63 180.88 470.236 Q177.825 474.82 172.014 474.82 Q166.204 474.82 163.126 470.236 Q160.07 465.63 160.07 456.903 Q160.07 448.153 163.126 443.57 Q166.204 438.963 172.014 438.963 Z\" fill=\"#000000\" fill-rule=\"nonzero\" fill-opacity=\"1\" /><path clip-path=\"url(#clip510)\" d=\"M202.176 457.736 Q198.843 457.736 196.922 459.519 Q195.024 461.301 195.024 464.426 Q195.024 467.551 196.922 469.334 Q198.843 471.116 202.176 471.116 Q205.51 471.116 207.431 469.334 Q209.352 467.528 209.352 464.426 Q209.352 461.301 207.431 459.519 Q205.533 457.736 202.176 457.736 M197.5 455.746 Q194.491 455.005 192.801 452.945 Q191.135 450.885 191.135 447.922 Q191.135 443.778 194.075 441.371 Q197.037 438.963 202.176 438.963 Q207.338 438.963 210.278 441.371 Q213.218 443.778 213.218 447.922 Q213.218 450.885 211.528 452.945 Q209.861 455.005 206.875 455.746 Q210.255 456.533 212.13 458.824 Q214.028 461.116 214.028 464.426 Q214.028 469.449 210.949 472.135 Q207.894 474.82 202.176 474.82 Q196.459 474.82 193.38 472.135 Q190.325 469.449 190.325 464.426 Q190.325 461.116 192.223 458.824 Q194.121 456.533 197.5 455.746 M195.787 448.362 Q195.787 451.047 197.454 452.551 Q199.144 454.056 202.176 454.056 Q205.186 454.056 206.875 452.551 Q208.588 451.047 208.588 448.362 Q208.588 445.676 206.875 444.172 Q205.186 442.667 202.176 442.667 Q199.144 442.667 197.454 444.172 Q195.787 445.676 195.787 448.362 Z\" fill=\"#000000\" fill-rule=\"nonzero\" fill-opacity=\"1\" /><path clip-path=\"url(#clip510)\" d=\"M126.691 200.657 Q123.08 200.657 121.251 204.222 Q119.445 207.763 119.445 214.893 Q119.445 221.999 121.251 225.564 Q123.08 229.106 126.691 229.106 Q130.325 229.106 132.13 225.564 Q133.959 221.999 133.959 214.893 Q133.959 207.763 132.13 204.222 Q130.325 200.657 126.691 200.657 M126.691 196.953 Q132.501 196.953 135.556 201.56 Q138.635 206.143 138.635 214.893 Q138.635 223.62 135.556 228.226 Q132.501 232.809 126.691 232.809 Q120.88 232.809 117.802 228.226 Q114.746 223.62 114.746 214.893 Q114.746 206.143 117.802 201.56 Q120.88 196.953 126.691 196.953 Z\" fill=\"#000000\" fill-rule=\"nonzero\" fill-opacity=\"1\" /><path clip-path=\"url(#clip510)\" d=\"M146.853 226.259 L151.737 226.259 L151.737 232.138 L146.853 232.138 L146.853 226.259 Z\" fill=\"#000000\" fill-rule=\"nonzero\" fill-opacity=\"1\" /><path clip-path=\"url(#clip510)\" d=\"M162.732 228.203 L170.371 228.203 L170.371 201.837 L162.061 203.504 L162.061 199.245 L170.325 197.578 L175.001 197.578 L175.001 228.203 L182.639 228.203 L182.639 232.138 L162.732 232.138 L162.732 228.203 Z\" fill=\"#000000\" fill-rule=\"nonzero\" fill-opacity=\"1\" /><path clip-path=\"url(#clip510)\" d=\"M202.084 200.657 Q198.473 200.657 196.644 204.222 Q194.838 207.763 194.838 214.893 Q194.838 221.999 196.644 225.564 Q198.473 229.106 202.084 229.106 Q205.718 229.106 207.524 225.564 Q209.352 221.999 209.352 214.893 Q209.352 207.763 207.524 204.222 Q205.718 200.657 202.084 200.657 M202.084 196.953 Q207.894 196.953 210.949 201.56 Q214.028 206.143 214.028 214.893 Q214.028 223.62 210.949 228.226 Q207.894 232.809 202.084 232.809 Q196.274 232.809 193.195 228.226 Q190.139 223.62 190.139 214.893 Q190.139 206.143 193.195 201.56 Q196.274 196.953 202.084 196.953 Z\" fill=\"#000000\" fill-rule=\"nonzero\" fill-opacity=\"1\" /><path clip-path=\"url(#clip510)\" d=\"M49.9359 833.132 L28.3562 833.132 L28.3562 827.275 L49.7131 827.275 Q54.7739 827.275 57.3202 825.302 Q59.8346 823.329 59.8346 819.382 Q59.8346 814.639 56.8109 811.902 Q53.7872 809.133 48.5673 809.133 L28.3562 809.133 L28.3562 803.277 L64.0042 803.277 L64.0042 809.133 L58.5296 809.133 Q61.7762 811.266 63.3676 814.098 Q64.9272 816.899 64.9272 820.623 Q64.9272 826.766 61.1078 829.949 Q57.2883 833.132 49.9359 833.132 M27.4968 818.395 L27.4968 818.395 Z\" fill=\"#000000\" fill-rule=\"nonzero\" fill-opacity=\"1\" /><path clip-path=\"url(#clip510)\" d=\"M14.5426 777.145 Q21.8632 781.41 29.0246 783.479 Q36.186 785.548 43.5384 785.548 Q50.8908 785.548 58.1159 783.479 Q65.3091 781.379 72.5979 777.145 L72.5979 782.238 Q65.1182 787.012 57.8931 789.399 Q50.668 791.755 43.5384 791.755 Q36.4406 791.755 29.2474 789.399 Q22.0542 787.044 14.5426 782.238 L14.5426 777.145 Z\" fill=\"#000000\" fill-rule=\"nonzero\" fill-opacity=\"1\" /><path clip-path=\"url(#clip510)\" d=\"M28.3562 736.15 L45.7028 749.041 L64.0042 735.482 L64.0042 742.389 L49.9996 752.765 L64.0042 763.141 L64.0042 770.048 L45.3526 756.202 L28.3562 768.87 L28.3562 761.963 L41.0558 752.51 L28.3562 743.057 L28.3562 736.15 Z\" fill=\"#000000\" fill-rule=\"nonzero\" fill-opacity=\"1\" /><path clip-path=\"url(#clip510)\" d=\"M14.5426 728.129 L14.5426 723.037 Q22.0542 718.263 29.2474 715.907 Q36.4406 713.52 43.5384 713.52 Q50.668 713.52 57.8931 715.907 Q65.1182 718.263 72.5979 723.037 L72.5979 728.129 Q65.3091 723.896 58.1159 721.827 Q50.8908 719.727 43.5384 719.727 Q36.186 719.727 29.0246 721.827 Q21.8632 723.896 14.5426 728.129 Z\" fill=\"#000000\" fill-rule=\"nonzero\" fill-opacity=\"1\" /><path clip-path=\"url(#clip510)\" d=\"M60.9864 12.096 L72.0048 12.096 L98.8218 62.6918 L98.8218 12.096 L106.762 12.096 L106.762 72.576 L95.7431 72.576 L68.9262 21.9802 L68.9262 72.576 L60.9864 72.576 L60.9864 12.096 Z\" fill=\"#000000\" fill-rule=\"nonzero\" fill-opacity=\"1\" /><path clip-path=\"url(#clip510)\" d=\"M121.952 54.671 L121.952 27.2059 L129.406 27.2059 L129.406 54.3874 Q129.406 60.8284 131.918 64.0691 Q134.429 67.2693 139.452 67.2693 Q145.488 67.2693 148.972 63.421 Q152.496 59.5726 152.496 52.9291 L152.496 27.2059 L159.95 27.2059 L159.95 72.576 L152.496 72.576 L152.496 65.6084 Q149.782 69.7404 146.177 71.7658 Q142.612 73.7508 137.873 73.7508 Q130.054 73.7508 126.003 68.8897 Q121.952 64.0286 121.952 54.671 M140.708 26.1121 L140.708 26.1121 Z\" fill=\"#000000\" fill-rule=\"nonzero\" fill-opacity=\"1\" /><path clip-path=\"url(#clip510)\" d=\"M210.627 35.9153 Q213.422 30.8922 217.311 28.5022 Q221.2 26.1121 226.466 26.1121 Q233.555 26.1121 237.403 31.0947 Q241.252 36.0368 241.252 45.1919 L241.252 72.576 L233.757 72.576 L233.757 45.4349 Q233.757 38.913 231.448 35.7533 Q229.139 32.5936 224.4 32.5936 Q218.607 32.5936 215.245 36.4419 Q211.883 40.2903 211.883 46.9338 L211.883 72.576 L204.388 72.576 L204.388 45.4349 Q204.388 38.8725 202.079 35.7533 Q199.77 32.5936 194.95 32.5936 Q189.238 32.5936 185.876 36.4824 Q182.514 40.3308 182.514 46.9338 L182.514 72.576 L175.019 72.576 L175.019 27.2059 L182.514 27.2059 L182.514 34.2544 Q185.066 30.082 188.63 28.0971 Q192.195 26.1121 197.097 26.1121 Q202.039 26.1121 205.482 28.6237 Q208.966 31.1352 210.627 35.9153 Z\" fill=\"#000000\" fill-rule=\"nonzero\" fill-opacity=\"1\" /><path clip-path=\"url(#clip510)\" d=\"M294.926 48.0275 L294.926 51.6733 L260.655 51.6733 Q261.142 59.3701 265.273 63.421 Q269.446 67.4314 276.859 67.4314 Q281.153 67.4314 285.163 66.3781 Q289.214 65.3249 293.184 63.2184 L293.184 70.267 Q289.174 71.9684 284.961 72.8596 Q280.748 73.7508 276.413 73.7508 Q265.557 73.7508 259.197 67.4314 Q252.878 61.1119 252.878 50.3365 Q252.878 39.1965 258.873 32.6746 Q264.909 26.1121 275.117 26.1121 Q284.272 26.1121 289.579 32.0264 Q294.926 37.9003 294.926 48.0275 M287.472 45.84 Q287.391 39.7232 284.029 36.0774 Q280.707 32.4315 275.198 32.4315 Q268.96 32.4315 265.192 35.9558 Q261.466 39.4801 260.899 45.8805 L287.472 45.84 Z\" fill=\"#000000\" fill-rule=\"nonzero\" fill-opacity=\"1\" /><path clip-path=\"url(#clip510)\" d=\"M333.45 34.1734 Q332.194 33.4443 330.696 33.1202 Q329.237 32.7556 327.455 32.7556 Q321.135 32.7556 317.733 36.8875 Q314.37 40.9789 314.37 48.6757 L314.37 72.576 L306.876 72.576 L306.876 27.2059 L314.37 27.2059 L314.37 34.2544 Q316.72 30.1225 320.487 28.1376 Q324.255 26.1121 329.642 26.1121 Q330.412 26.1121 331.344 26.2337 Q332.275 26.3147 333.41 26.5172 L333.45 34.1734 Z\" fill=\"#000000\" fill-rule=\"nonzero\" fill-opacity=\"1\" /><path clip-path=\"url(#clip510)\" d=\"M341.268 27.2059 L348.722 27.2059 L348.722 72.576 L341.268 72.576 L341.268 27.2059 M341.268 9.54393 L348.722 9.54393 L348.722 18.9825 L341.268 18.9825 L341.268 9.54393 Z\" fill=\"#000000\" fill-rule=\"nonzero\" fill-opacity=\"1\" /><path clip-path=\"url(#clip510)\" d=\"M396.968 28.9478 L396.968 35.9153 Q393.809 34.1734 390.608 33.3227 Q387.449 32.4315 384.208 32.4315 Q376.957 32.4315 372.947 37.0496 Q368.936 41.6271 368.936 49.9314 Q368.936 58.2358 372.947 62.8538 Q376.957 67.4314 384.208 67.4314 Q387.449 67.4314 390.608 66.5807 Q393.809 65.6895 396.968 63.9476 L396.968 70.8341 Q393.849 72.2924 390.487 73.0216 Q387.165 73.7508 383.398 73.7508 Q373.149 73.7508 367.113 67.3098 Q361.077 60.8689 361.077 49.9314 Q361.077 38.832 367.154 32.472 Q373.271 26.1121 383.884 26.1121 Q387.327 26.1121 390.608 26.8413 Q393.89 27.5299 396.968 28.9478 Z\" fill=\"#000000\" fill-rule=\"nonzero\" fill-opacity=\"1\" /><path clip-path=\"url(#clip510)\" d=\"M430.55 49.7694 Q421.517 49.7694 418.033 51.8354 Q414.549 53.9013 414.549 58.8839 Q414.549 62.8538 417.142 65.2034 Q419.775 67.5124 424.271 67.5124 Q430.469 67.5124 434.196 63.1374 Q437.964 58.7219 437.964 51.4303 L437.964 49.7694 L430.55 49.7694 M445.417 46.6907 L445.417 72.576 L437.964 72.576 L437.964 65.6895 Q435.411 69.8214 431.604 71.8063 Q427.796 73.7508 422.287 73.7508 Q415.319 73.7508 411.187 69.8619 Q407.096 65.9325 407.096 59.3701 Q407.096 51.7138 412.2 47.825 Q417.344 43.9361 427.512 43.9361 L437.964 43.9361 L437.964 43.2069 Q437.964 38.0623 434.561 35.2672 Q431.199 32.4315 425.082 32.4315 Q421.193 32.4315 417.506 33.3632 Q413.82 34.295 410.417 36.1584 L410.417 29.2718 Q414.509 27.692 418.357 26.9223 Q422.206 26.1121 425.851 26.1121 Q435.695 26.1121 440.556 31.2163 Q445.417 36.3204 445.417 46.6907 Z\" fill=\"#000000\" fill-rule=\"nonzero\" fill-opacity=\"1\" /><path clip-path=\"url(#clip510)\" d=\"M460.77 9.54393 L468.224 9.54393 L468.224 72.576 L460.77 72.576 L460.77 9.54393 Z\" fill=\"#000000\" fill-rule=\"nonzero\" fill-opacity=\"1\" /><path clip-path=\"url(#clip510)\" d=\"M483.82 9.54393 L491.273 9.54393 L491.273 72.576 L483.82 72.576 L483.82 9.54393 Z\" fill=\"#000000\" fill-rule=\"nonzero\" fill-opacity=\"1\" /><path clip-path=\"url(#clip510)\" d=\"M525.747 76.7889 Q522.587 84.8907 519.589 87.3618 Q516.592 89.8329 511.568 89.8329 L505.614 89.8329 L505.614 83.5945 L509.989 83.5945 Q513.067 83.5945 514.769 82.1361 Q516.47 80.6778 518.536 75.2496 L519.873 71.8468 L501.522 27.2059 L509.421 27.2059 L523.6 62.6918 L537.778 27.2059 L545.677 27.2059 L525.747 76.7889 Z\" fill=\"#000000\" fill-rule=\"nonzero\" fill-opacity=\"1\" /><path clip-path=\"url(#clip510)\" d=\"M614.988 28.9478 L614.988 35.9153 Q611.828 34.1734 608.628 33.3227 Q605.468 32.4315 602.228 32.4315 Q594.977 32.4315 590.966 37.0496 Q586.956 41.6271 586.956 49.9314 Q586.956 58.2358 590.966 62.8538 Q594.977 67.4314 602.228 67.4314 Q605.468 67.4314 608.628 66.5807 Q611.828 65.6895 614.988 63.9476 L614.988 70.8341 Q611.869 72.2924 608.507 73.0216 Q605.185 73.7508 601.418 73.7508 Q591.169 73.7508 585.133 67.3098 Q579.097 60.8689 579.097 49.9314 Q579.097 38.832 585.173 32.472 Q591.29 26.1121 601.904 26.1121 Q605.347 26.1121 608.628 26.8413 Q611.909 27.5299 614.988 28.9478 Z\" fill=\"#000000\" fill-rule=\"nonzero\" fill-opacity=\"1\" /><path clip-path=\"url(#clip510)\" d=\"M645.532 32.4315 Q639.537 32.4315 636.053 37.1306 Q632.569 41.7891 632.569 49.9314 Q632.569 58.0738 636.012 62.7728 Q639.496 67.4314 645.532 67.4314 Q651.487 67.4314 654.97 62.7323 Q658.454 58.0333 658.454 49.9314 Q658.454 41.8701 654.97 37.1711 Q651.487 32.4315 645.532 32.4315 M645.532 26.1121 Q655.254 26.1121 660.804 32.4315 Q666.354 38.7509 666.354 49.9314 Q666.354 61.0714 660.804 67.4314 Q655.254 73.7508 645.532 73.7508 Q635.769 73.7508 630.219 67.4314 Q624.71 61.0714 624.71 49.9314 Q624.71 38.7509 630.219 32.4315 Q635.769 26.1121 645.532 26.1121 Z\" fill=\"#000000\" fill-rule=\"nonzero\" fill-opacity=\"1\" /><path clip-path=\"url(#clip510)\" d=\"M714.033 35.9153 Q716.828 30.8922 720.717 28.5022 Q724.606 26.1121 729.872 26.1121 Q736.961 26.1121 740.809 31.0947 Q744.657 36.0368 744.657 45.1919 L744.657 72.576 L737.163 72.576 L737.163 45.4349 Q737.163 38.913 734.854 35.7533 Q732.545 32.5936 727.806 32.5936 Q722.013 32.5936 718.651 36.4419 Q715.288 40.2903 715.288 46.9338 L715.288 72.576 L707.794 72.576 L707.794 45.4349 Q707.794 38.8725 705.485 35.7533 Q703.176 32.5936 698.356 32.5936 Q692.644 32.5936 689.282 36.4824 Q685.919 40.3308 685.919 46.9338 L685.919 72.576 L678.425 72.576 L678.425 27.2059 L685.919 27.2059 L685.919 34.2544 Q688.471 30.082 692.036 28.0971 Q695.601 26.1121 700.503 26.1121 Q705.445 26.1121 708.888 28.6237 Q712.372 31.1352 714.033 35.9153 Z\" fill=\"#000000\" fill-rule=\"nonzero\" fill-opacity=\"1\" /><path clip-path=\"url(#clip510)\" d=\"M766.735 65.7705 L766.735 89.8329 L759.241 89.8329 L759.241 27.2059 L766.735 27.2059 L766.735 34.0924 Q769.084 30.0415 772.649 28.0971 Q776.255 26.1121 781.237 26.1121 Q789.501 26.1121 794.646 32.6746 Q799.831 39.2371 799.831 49.9314 Q799.831 60.6258 794.646 67.1883 Q789.501 73.7508 781.237 73.7508 Q776.255 73.7508 772.649 71.8063 Q769.084 69.8214 766.735 65.7705 M792.094 49.9314 Q792.094 41.7081 788.691 37.0496 Q785.329 32.3505 779.414 32.3505 Q773.5 32.3505 770.097 37.0496 Q766.735 41.7081 766.735 49.9314 Q766.735 58.1548 770.097 62.8538 Q773.5 67.5124 779.414 67.5124 Q785.329 67.5124 788.691 62.8538 Q792.094 58.1548 792.094 49.9314 Z\" fill=\"#000000\" fill-rule=\"nonzero\" fill-opacity=\"1\" /><path clip-path=\"url(#clip510)\" d=\"M811.416 54.671 L811.416 27.2059 L818.87 27.2059 L818.87 54.3874 Q818.87 60.8284 821.382 64.0691 Q823.893 67.2693 828.916 67.2693 Q834.952 67.2693 838.436 63.421 Q841.96 59.5726 841.96 52.9291 L841.96 27.2059 L849.414 27.2059 L849.414 72.576 L841.96 72.576 L841.96 65.6084 Q839.246 69.7404 835.641 71.7658 Q832.076 73.7508 827.336 73.7508 Q819.518 73.7508 815.467 68.8897 Q811.416 64.0286 811.416 54.671 M830.172 26.1121 L830.172 26.1121 Z\" fill=\"#000000\" fill-rule=\"nonzero\" fill-opacity=\"1\" /><path clip-path=\"url(#clip510)\" d=\"M872.139 14.324 L872.139 27.2059 L887.492 27.2059 L887.492 32.9987 L872.139 32.9987 L872.139 57.6282 Q872.139 63.1779 873.638 64.7578 Q875.178 66.3376 879.836 66.3376 L887.492 66.3376 L887.492 72.576 L879.836 72.576 Q871.208 72.576 867.927 69.3758 Q864.645 66.1351 864.645 57.6282 L864.645 32.9987 L859.177 32.9987 L859.177 27.2059 L864.645 27.2059 L864.645 14.324 L872.139 14.324 Z\" fill=\"#000000\" fill-rule=\"nonzero\" fill-opacity=\"1\" /><path clip-path=\"url(#clip510)\" d=\"M936.103 48.0275 L936.103 51.6733 L901.833 51.6733 Q902.319 59.3701 906.451 63.421 Q910.623 67.4314 918.036 67.4314 Q922.33 67.4314 926.341 66.3781 Q930.391 65.3249 934.361 63.2184 L934.361 70.267 Q930.351 71.9684 926.138 72.8596 Q921.925 73.7508 917.591 73.7508 Q906.734 73.7508 900.374 67.4314 Q894.055 61.1119 894.055 50.3365 Q894.055 39.1965 900.05 32.6746 Q906.086 26.1121 916.294 26.1121 Q925.449 26.1121 930.756 32.0264 Q936.103 37.9003 936.103 48.0275 M928.65 45.84 Q928.569 39.7232 925.206 36.0774 Q921.885 32.4315 916.375 32.4315 Q910.137 32.4315 906.37 35.9558 Q902.643 39.4801 902.076 45.8805 L928.65 45.84 Z\" fill=\"#000000\" fill-rule=\"nonzero\" fill-opacity=\"1\" /><path clip-path=\"url(#clip510)\" d=\"M978.192 34.0924 L978.192 9.54393 L985.646 9.54393 L985.646 72.576 L978.192 72.576 L978.192 65.7705 Q975.843 69.8214 972.237 71.8063 Q968.672 73.7508 963.649 73.7508 Q955.426 73.7508 950.241 67.1883 Q945.096 60.6258 945.096 49.9314 Q945.096 39.2371 950.241 32.6746 Q955.426 26.1121 963.649 26.1121 Q968.672 26.1121 972.237 28.0971 Q975.843 30.0415 978.192 34.0924 M952.793 49.9314 Q952.793 58.1548 956.155 62.8538 Q959.558 67.5124 965.472 67.5124 Q971.387 67.5124 974.789 62.8538 Q978.192 58.1548 978.192 49.9314 Q978.192 41.7081 974.789 37.0496 Q971.387 32.3505 965.472 32.3505 Q959.558 32.3505 956.155 37.0496 Q952.793 41.7081 952.793 49.9314 Z\" fill=\"#000000\" fill-rule=\"nonzero\" fill-opacity=\"1\" /><path clip-path=\"url(#clip510)\" d=\"M1056.29 28.5427 L1056.29 35.5912 Q1053.13 33.9709 1049.73 33.1607 Q1046.33 32.3505 1042.68 32.3505 Q1037.13 32.3505 1034.34 34.0519 Q1031.58 35.7533 1031.58 39.156 Q1031.58 41.7486 1033.57 43.2475 Q1035.55 44.7058 1041.55 46.0426 L1044.1 46.6097 Q1052.04 48.3111 1055.36 51.4303 Q1058.72 54.509 1058.72 60.0587 Q1058.72 66.3781 1053.7 70.0644 Q1048.72 73.7508 1039.97 73.7508 Q1036.32 73.7508 1032.35 73.0216 Q1028.42 72.3329 1024.05 70.9151 L1024.05 63.2184 Q1028.18 65.3654 1032.19 66.4591 Q1036.2 67.5124 1040.13 67.5124 Q1045.4 67.5124 1048.23 65.73 Q1051.07 63.9071 1051.07 60.6258 Q1051.07 57.5877 1049 55.9673 Q1046.98 54.3469 1040.05 52.8481 L1037.46 52.2405 Q1030.53 50.7821 1027.45 47.7845 Q1024.37 44.7463 1024.37 39.4801 Q1024.37 33.0797 1028.91 29.5959 Q1033.45 26.1121 1041.79 26.1121 Q1045.92 26.1121 1049.57 26.7198 Q1053.21 27.3274 1056.29 28.5427 Z\" fill=\"#000000\" fill-rule=\"nonzero\" fill-opacity=\"1\" /><path clip-path=\"url(#clip510)\" d=\"M1088.17 32.4315 Q1082.18 32.4315 1078.7 37.1306 Q1075.21 41.7891 1075.21 49.9314 Q1075.21 58.0738 1078.65 62.7728 Q1082.14 67.4314 1088.17 67.4314 Q1094.13 67.4314 1097.61 62.7323 Q1101.1 58.0333 1101.1 49.9314 Q1101.1 41.8701 1097.61 37.1711 Q1094.13 32.4315 1088.17 32.4315 M1088.17 26.1121 Q1097.9 26.1121 1103.45 32.4315 Q1109 38.7509 1109 49.9314 Q1109 61.0714 1103.45 67.4314 Q1097.9 73.7508 1088.17 73.7508 Q1078.41 73.7508 1072.86 67.4314 Q1067.35 61.0714 1067.35 49.9314 Q1067.35 38.7509 1072.86 32.4315 Q1078.41 26.1121 1088.17 26.1121 Z\" fill=\"#000000\" fill-rule=\"nonzero\" fill-opacity=\"1\" /><path clip-path=\"url(#clip510)\" d=\"M1121.35 9.54393 L1128.8 9.54393 L1128.8 72.576 L1121.35 72.576 L1121.35 9.54393 Z\" fill=\"#000000\" fill-rule=\"nonzero\" fill-opacity=\"1\" /><path clip-path=\"url(#clip510)\" d=\"M1143.63 54.671 L1143.63 27.2059 L1151.08 27.2059 L1151.08 54.3874 Q1151.08 60.8284 1153.6 64.0691 Q1156.11 67.2693 1161.13 67.2693 Q1167.17 67.2693 1170.65 63.421 Q1174.17 59.5726 1174.17 52.9291 L1174.17 27.2059 L1181.63 27.2059 L1181.63 72.576 L1174.17 72.576 L1174.17 65.6084 Q1171.46 69.7404 1167.86 71.7658 Q1164.29 73.7508 1159.55 73.7508 Q1151.73 73.7508 1147.68 68.8897 Q1143.63 64.0286 1143.63 54.671 M1162.39 26.1121 L1162.39 26.1121 Z\" fill=\"#000000\" fill-rule=\"nonzero\" fill-opacity=\"1\" /><path clip-path=\"url(#clip510)\" d=\"M1204.35 14.324 L1204.35 27.2059 L1219.71 27.2059 L1219.71 32.9987 L1204.35 32.9987 L1204.35 57.6282 Q1204.35 63.1779 1205.85 64.7578 Q1207.39 66.3376 1212.05 66.3376 L1219.71 66.3376 L1219.71 72.576 L1212.05 72.576 Q1203.42 72.576 1200.14 69.3758 Q1196.86 66.1351 1196.86 57.6282 L1196.86 32.9987 L1191.39 32.9987 L1191.39 27.2059 L1196.86 27.2059 L1196.86 14.324 L1204.35 14.324 Z\" fill=\"#000000\" fill-rule=\"nonzero\" fill-opacity=\"1\" /><path clip-path=\"url(#clip510)\" d=\"M1229.51 27.2059 L1236.96 27.2059 L1236.96 72.576 L1229.51 72.576 L1229.51 27.2059 M1229.51 9.54393 L1236.96 9.54393 L1236.96 18.9825 L1229.51 18.9825 L1229.51 9.54393 Z\" fill=\"#000000\" fill-rule=\"nonzero\" fill-opacity=\"1\" /><path clip-path=\"url(#clip510)\" d=\"M1270.14 32.4315 Q1264.15 32.4315 1260.66 37.1306 Q1257.18 41.7891 1257.18 49.9314 Q1257.18 58.0738 1260.62 62.7728 Q1264.1 67.4314 1270.14 67.4314 Q1276.1 67.4314 1279.58 62.7323 Q1283.06 58.0333 1283.06 49.9314 Q1283.06 41.8701 1279.58 37.1711 Q1276.1 32.4315 1270.14 32.4315 M1270.14 26.1121 Q1279.86 26.1121 1285.41 32.4315 Q1290.96 38.7509 1290.96 49.9314 Q1290.96 61.0714 1285.41 67.4314 Q1279.86 73.7508 1270.14 73.7508 Q1260.38 73.7508 1254.83 67.4314 Q1249.32 61.0714 1249.32 49.9314 Q1249.32 38.7509 1254.83 32.4315 Q1260.38 26.1121 1270.14 26.1121 Z\" fill=\"#000000\" fill-rule=\"nonzero\" fill-opacity=\"1\" /><path clip-path=\"url(#clip510)\" d=\"M1341.03 45.1919 L1341.03 72.576 L1333.58 72.576 L1333.58 45.4349 Q1333.58 38.994 1331.07 35.7938 Q1328.55 32.5936 1323.53 32.5936 Q1317.5 32.5936 1314.01 36.4419 Q1310.53 40.2903 1310.53 46.9338 L1310.53 72.576 L1303.03 72.576 L1303.03 27.2059 L1310.53 27.2059 L1310.53 34.2544 Q1313.2 30.163 1316.81 28.1376 Q1320.45 26.1121 1325.19 26.1121 Q1333.01 26.1121 1337.02 30.9732 Q1341.03 35.7938 1341.03 45.1919 Z\" fill=\"#000000\" fill-rule=\"nonzero\" fill-opacity=\"1\" /><polyline clip-path=\"url(#clip512)\" style=\"stroke:#009af9; stroke-linecap:round; stroke-linejoin:round; stroke-width:8; stroke-opacity:1; fill:none\" points=\"275.555,1386.4 284.064,1347.88 292.574,1309.41 301.083,1271.01 309.592,1232.72 318.101,1194.59 326.61,1156.64 335.119,1118.92 343.628,1081.47 352.137,1044.31 360.646,1007.5 369.155,971.056 377.664,935.024 386.173,899.437 394.682,864.331 403.191,829.74 411.701,795.699 420.21,762.24 428.719,729.397 437.228,697.203 445.737,665.689 454.246,634.886 462.755,604.825 471.264,575.535 479.773,547.046 488.282,519.384 496.791,492.579 505.3,466.655 513.809,441.639 522.318,417.556 530.828,394.428 539.337,372.28 547.846,351.132 556.355,331.006 564.864,311.922 573.373,293.897 581.882,276.952 590.391,261.101 598.9,246.36 607.409,232.745 615.918,220.268 624.427,208.942 632.936,198.778 641.445,189.786 649.955,181.975 658.464,175.352 666.973,169.925 675.482,165.698 683.991,162.676 692.5,160.861 701.009,160.256 709.518,160.861 718.027,162.676 726.536,165.698 735.045,169.925 743.554,175.352 752.063,181.975 760.573,189.786 769.082,198.778 777.591,208.942 786.1,220.268 794.609,232.745 803.118,246.36 811.627,261.101 820.136,276.952 828.645,293.897 837.154,311.922 845.663,331.006 854.172,351.132 862.681,372.28 871.19,394.428 879.7,417.556 888.209,441.639 896.718,466.655 905.227,492.579 913.736,519.384 922.245,547.046 930.754,575.535 939.263,604.825 947.772,634.886 956.281,665.689 964.79,697.203 973.299,729.397 981.808,762.24 990.317,795.699 998.827,829.74 1007.34,864.331 1015.84,899.437 1024.35,935.024 1032.86,971.056 1041.37,1007.5 1049.88,1044.31 1058.39,1081.47 1066.9,1118.92 1075.41,1156.64 1083.92,1194.59 1092.43,1232.72 1100.94,1271.01 1109.44,1309.41 1117.95,1347.88 1126.46,1386.4 \"/>\n",
       "<circle clip-path=\"url(#clip512)\" cx=\"275.555\" cy=\"1386.4\" r=\"14.4\" fill=\"#009af9\" fill-rule=\"evenodd\" fill-opacity=\"1\" stroke=\"#000000\" stroke-opacity=\"1\" stroke-width=\"3.2\"/>\n",
       "<circle clip-path=\"url(#clip512)\" cx=\"284.064\" cy=\"1347.88\" r=\"14.4\" fill=\"#009af9\" fill-rule=\"evenodd\" fill-opacity=\"1\" stroke=\"#000000\" stroke-opacity=\"1\" stroke-width=\"3.2\"/>\n",
       "<circle clip-path=\"url(#clip512)\" cx=\"292.574\" cy=\"1309.41\" r=\"14.4\" fill=\"#009af9\" fill-rule=\"evenodd\" fill-opacity=\"1\" stroke=\"#000000\" stroke-opacity=\"1\" stroke-width=\"3.2\"/>\n",
       "<circle clip-path=\"url(#clip512)\" cx=\"301.083\" cy=\"1271.01\" r=\"14.4\" fill=\"#009af9\" fill-rule=\"evenodd\" fill-opacity=\"1\" stroke=\"#000000\" stroke-opacity=\"1\" stroke-width=\"3.2\"/>\n",
       "<circle clip-path=\"url(#clip512)\" cx=\"309.592\" cy=\"1232.72\" r=\"14.4\" fill=\"#009af9\" fill-rule=\"evenodd\" fill-opacity=\"1\" stroke=\"#000000\" stroke-opacity=\"1\" stroke-width=\"3.2\"/>\n",
       "<circle clip-path=\"url(#clip512)\" cx=\"318.101\" cy=\"1194.59\" r=\"14.4\" fill=\"#009af9\" fill-rule=\"evenodd\" fill-opacity=\"1\" stroke=\"#000000\" stroke-opacity=\"1\" stroke-width=\"3.2\"/>\n",
       "<circle clip-path=\"url(#clip512)\" cx=\"326.61\" cy=\"1156.64\" r=\"14.4\" fill=\"#009af9\" fill-rule=\"evenodd\" fill-opacity=\"1\" stroke=\"#000000\" stroke-opacity=\"1\" stroke-width=\"3.2\"/>\n",
       "<circle clip-path=\"url(#clip512)\" cx=\"335.119\" cy=\"1118.92\" r=\"14.4\" fill=\"#009af9\" fill-rule=\"evenodd\" fill-opacity=\"1\" stroke=\"#000000\" stroke-opacity=\"1\" stroke-width=\"3.2\"/>\n",
       "<circle clip-path=\"url(#clip512)\" cx=\"343.628\" cy=\"1081.47\" r=\"14.4\" fill=\"#009af9\" fill-rule=\"evenodd\" fill-opacity=\"1\" stroke=\"#000000\" stroke-opacity=\"1\" stroke-width=\"3.2\"/>\n",
       "<circle clip-path=\"url(#clip512)\" cx=\"352.137\" cy=\"1044.31\" r=\"14.4\" fill=\"#009af9\" fill-rule=\"evenodd\" fill-opacity=\"1\" stroke=\"#000000\" stroke-opacity=\"1\" stroke-width=\"3.2\"/>\n",
       "<circle clip-path=\"url(#clip512)\" cx=\"360.646\" cy=\"1007.5\" r=\"14.4\" fill=\"#009af9\" fill-rule=\"evenodd\" fill-opacity=\"1\" stroke=\"#000000\" stroke-opacity=\"1\" stroke-width=\"3.2\"/>\n",
       "<circle clip-path=\"url(#clip512)\" cx=\"369.155\" cy=\"971.056\" r=\"14.4\" fill=\"#009af9\" fill-rule=\"evenodd\" fill-opacity=\"1\" stroke=\"#000000\" stroke-opacity=\"1\" stroke-width=\"3.2\"/>\n",
       "<circle clip-path=\"url(#clip512)\" cx=\"377.664\" cy=\"935.024\" r=\"14.4\" fill=\"#009af9\" fill-rule=\"evenodd\" fill-opacity=\"1\" stroke=\"#000000\" stroke-opacity=\"1\" stroke-width=\"3.2\"/>\n",
       "<circle clip-path=\"url(#clip512)\" cx=\"386.173\" cy=\"899.437\" r=\"14.4\" fill=\"#009af9\" fill-rule=\"evenodd\" fill-opacity=\"1\" stroke=\"#000000\" stroke-opacity=\"1\" stroke-width=\"3.2\"/>\n",
       "<circle clip-path=\"url(#clip512)\" cx=\"394.682\" cy=\"864.331\" r=\"14.4\" fill=\"#009af9\" fill-rule=\"evenodd\" fill-opacity=\"1\" stroke=\"#000000\" stroke-opacity=\"1\" stroke-width=\"3.2\"/>\n",
       "<circle clip-path=\"url(#clip512)\" cx=\"403.191\" cy=\"829.74\" r=\"14.4\" fill=\"#009af9\" fill-rule=\"evenodd\" fill-opacity=\"1\" stroke=\"#000000\" stroke-opacity=\"1\" stroke-width=\"3.2\"/>\n",
       "<circle clip-path=\"url(#clip512)\" cx=\"411.701\" cy=\"795.699\" r=\"14.4\" fill=\"#009af9\" fill-rule=\"evenodd\" fill-opacity=\"1\" stroke=\"#000000\" stroke-opacity=\"1\" stroke-width=\"3.2\"/>\n",
       "<circle clip-path=\"url(#clip512)\" cx=\"420.21\" cy=\"762.24\" r=\"14.4\" fill=\"#009af9\" fill-rule=\"evenodd\" fill-opacity=\"1\" stroke=\"#000000\" stroke-opacity=\"1\" stroke-width=\"3.2\"/>\n",
       "<circle clip-path=\"url(#clip512)\" cx=\"428.719\" cy=\"729.397\" r=\"14.4\" fill=\"#009af9\" fill-rule=\"evenodd\" fill-opacity=\"1\" stroke=\"#000000\" stroke-opacity=\"1\" stroke-width=\"3.2\"/>\n",
       "<circle clip-path=\"url(#clip512)\" cx=\"437.228\" cy=\"697.203\" r=\"14.4\" fill=\"#009af9\" fill-rule=\"evenodd\" fill-opacity=\"1\" stroke=\"#000000\" stroke-opacity=\"1\" stroke-width=\"3.2\"/>\n",
       "<circle clip-path=\"url(#clip512)\" cx=\"445.737\" cy=\"665.689\" r=\"14.4\" fill=\"#009af9\" fill-rule=\"evenodd\" fill-opacity=\"1\" stroke=\"#000000\" stroke-opacity=\"1\" stroke-width=\"3.2\"/>\n",
       "<circle clip-path=\"url(#clip512)\" cx=\"454.246\" cy=\"634.886\" r=\"14.4\" fill=\"#009af9\" fill-rule=\"evenodd\" fill-opacity=\"1\" stroke=\"#000000\" stroke-opacity=\"1\" stroke-width=\"3.2\"/>\n",
       "<circle clip-path=\"url(#clip512)\" cx=\"462.755\" cy=\"604.825\" r=\"14.4\" fill=\"#009af9\" fill-rule=\"evenodd\" fill-opacity=\"1\" stroke=\"#000000\" stroke-opacity=\"1\" stroke-width=\"3.2\"/>\n",
       "<circle clip-path=\"url(#clip512)\" cx=\"471.264\" cy=\"575.535\" r=\"14.4\" fill=\"#009af9\" fill-rule=\"evenodd\" fill-opacity=\"1\" stroke=\"#000000\" stroke-opacity=\"1\" stroke-width=\"3.2\"/>\n",
       "<circle clip-path=\"url(#clip512)\" cx=\"479.773\" cy=\"547.046\" r=\"14.4\" fill=\"#009af9\" fill-rule=\"evenodd\" fill-opacity=\"1\" stroke=\"#000000\" stroke-opacity=\"1\" stroke-width=\"3.2\"/>\n",
       "<circle clip-path=\"url(#clip512)\" cx=\"488.282\" cy=\"519.384\" r=\"14.4\" fill=\"#009af9\" fill-rule=\"evenodd\" fill-opacity=\"1\" stroke=\"#000000\" stroke-opacity=\"1\" stroke-width=\"3.2\"/>\n",
       "<circle clip-path=\"url(#clip512)\" cx=\"496.791\" cy=\"492.579\" r=\"14.4\" fill=\"#009af9\" fill-rule=\"evenodd\" fill-opacity=\"1\" stroke=\"#000000\" stroke-opacity=\"1\" stroke-width=\"3.2\"/>\n",
       "<circle clip-path=\"url(#clip512)\" cx=\"505.3\" cy=\"466.655\" r=\"14.4\" fill=\"#009af9\" fill-rule=\"evenodd\" fill-opacity=\"1\" stroke=\"#000000\" stroke-opacity=\"1\" stroke-width=\"3.2\"/>\n",
       "<circle clip-path=\"url(#clip512)\" cx=\"513.809\" cy=\"441.639\" r=\"14.4\" fill=\"#009af9\" fill-rule=\"evenodd\" fill-opacity=\"1\" stroke=\"#000000\" stroke-opacity=\"1\" stroke-width=\"3.2\"/>\n",
       "<circle clip-path=\"url(#clip512)\" cx=\"522.318\" cy=\"417.556\" r=\"14.4\" fill=\"#009af9\" fill-rule=\"evenodd\" fill-opacity=\"1\" stroke=\"#000000\" stroke-opacity=\"1\" stroke-width=\"3.2\"/>\n",
       "<circle clip-path=\"url(#clip512)\" cx=\"530.828\" cy=\"394.428\" r=\"14.4\" fill=\"#009af9\" fill-rule=\"evenodd\" fill-opacity=\"1\" stroke=\"#000000\" stroke-opacity=\"1\" stroke-width=\"3.2\"/>\n",
       "<circle clip-path=\"url(#clip512)\" cx=\"539.337\" cy=\"372.28\" r=\"14.4\" fill=\"#009af9\" fill-rule=\"evenodd\" fill-opacity=\"1\" stroke=\"#000000\" stroke-opacity=\"1\" stroke-width=\"3.2\"/>\n",
       "<circle clip-path=\"url(#clip512)\" cx=\"547.846\" cy=\"351.132\" r=\"14.4\" fill=\"#009af9\" fill-rule=\"evenodd\" fill-opacity=\"1\" stroke=\"#000000\" stroke-opacity=\"1\" stroke-width=\"3.2\"/>\n",
       "<circle clip-path=\"url(#clip512)\" cx=\"556.355\" cy=\"331.006\" r=\"14.4\" fill=\"#009af9\" fill-rule=\"evenodd\" fill-opacity=\"1\" stroke=\"#000000\" stroke-opacity=\"1\" stroke-width=\"3.2\"/>\n",
       "<circle clip-path=\"url(#clip512)\" cx=\"564.864\" cy=\"311.922\" r=\"14.4\" fill=\"#009af9\" fill-rule=\"evenodd\" fill-opacity=\"1\" stroke=\"#000000\" stroke-opacity=\"1\" stroke-width=\"3.2\"/>\n",
       "<circle clip-path=\"url(#clip512)\" cx=\"573.373\" cy=\"293.897\" r=\"14.4\" fill=\"#009af9\" fill-rule=\"evenodd\" fill-opacity=\"1\" stroke=\"#000000\" stroke-opacity=\"1\" stroke-width=\"3.2\"/>\n",
       "<circle clip-path=\"url(#clip512)\" cx=\"581.882\" cy=\"276.952\" r=\"14.4\" fill=\"#009af9\" fill-rule=\"evenodd\" fill-opacity=\"1\" stroke=\"#000000\" stroke-opacity=\"1\" stroke-width=\"3.2\"/>\n",
       "<circle clip-path=\"url(#clip512)\" cx=\"590.391\" cy=\"261.101\" r=\"14.4\" fill=\"#009af9\" fill-rule=\"evenodd\" fill-opacity=\"1\" stroke=\"#000000\" stroke-opacity=\"1\" stroke-width=\"3.2\"/>\n",
       "<circle clip-path=\"url(#clip512)\" cx=\"598.9\" cy=\"246.36\" r=\"14.4\" fill=\"#009af9\" fill-rule=\"evenodd\" fill-opacity=\"1\" stroke=\"#000000\" stroke-opacity=\"1\" stroke-width=\"3.2\"/>\n",
       "<circle clip-path=\"url(#clip512)\" cx=\"607.409\" cy=\"232.745\" r=\"14.4\" fill=\"#009af9\" fill-rule=\"evenodd\" fill-opacity=\"1\" stroke=\"#000000\" stroke-opacity=\"1\" stroke-width=\"3.2\"/>\n",
       "<circle clip-path=\"url(#clip512)\" cx=\"615.918\" cy=\"220.268\" r=\"14.4\" fill=\"#009af9\" fill-rule=\"evenodd\" fill-opacity=\"1\" stroke=\"#000000\" stroke-opacity=\"1\" stroke-width=\"3.2\"/>\n",
       "<circle clip-path=\"url(#clip512)\" cx=\"624.427\" cy=\"208.942\" r=\"14.4\" fill=\"#009af9\" fill-rule=\"evenodd\" fill-opacity=\"1\" stroke=\"#000000\" stroke-opacity=\"1\" stroke-width=\"3.2\"/>\n",
       "<circle clip-path=\"url(#clip512)\" cx=\"632.936\" cy=\"198.778\" r=\"14.4\" fill=\"#009af9\" fill-rule=\"evenodd\" fill-opacity=\"1\" stroke=\"#000000\" stroke-opacity=\"1\" stroke-width=\"3.2\"/>\n",
       "<circle clip-path=\"url(#clip512)\" cx=\"641.445\" cy=\"189.786\" r=\"14.4\" fill=\"#009af9\" fill-rule=\"evenodd\" fill-opacity=\"1\" stroke=\"#000000\" stroke-opacity=\"1\" stroke-width=\"3.2\"/>\n",
       "<circle clip-path=\"url(#clip512)\" cx=\"649.955\" cy=\"181.975\" r=\"14.4\" fill=\"#009af9\" fill-rule=\"evenodd\" fill-opacity=\"1\" stroke=\"#000000\" stroke-opacity=\"1\" stroke-width=\"3.2\"/>\n",
       "<circle clip-path=\"url(#clip512)\" cx=\"658.464\" cy=\"175.352\" r=\"14.4\" fill=\"#009af9\" fill-rule=\"evenodd\" fill-opacity=\"1\" stroke=\"#000000\" stroke-opacity=\"1\" stroke-width=\"3.2\"/>\n",
       "<circle clip-path=\"url(#clip512)\" cx=\"666.973\" cy=\"169.925\" r=\"14.4\" fill=\"#009af9\" fill-rule=\"evenodd\" fill-opacity=\"1\" stroke=\"#000000\" stroke-opacity=\"1\" stroke-width=\"3.2\"/>\n",
       "<circle clip-path=\"url(#clip512)\" cx=\"675.482\" cy=\"165.698\" r=\"14.4\" fill=\"#009af9\" fill-rule=\"evenodd\" fill-opacity=\"1\" stroke=\"#000000\" stroke-opacity=\"1\" stroke-width=\"3.2\"/>\n",
       "<circle clip-path=\"url(#clip512)\" cx=\"683.991\" cy=\"162.676\" r=\"14.4\" fill=\"#009af9\" fill-rule=\"evenodd\" fill-opacity=\"1\" stroke=\"#000000\" stroke-opacity=\"1\" stroke-width=\"3.2\"/>\n",
       "<circle clip-path=\"url(#clip512)\" cx=\"692.5\" cy=\"160.861\" r=\"14.4\" fill=\"#009af9\" fill-rule=\"evenodd\" fill-opacity=\"1\" stroke=\"#000000\" stroke-opacity=\"1\" stroke-width=\"3.2\"/>\n",
       "<circle clip-path=\"url(#clip512)\" cx=\"701.009\" cy=\"160.256\" r=\"14.4\" fill=\"#009af9\" fill-rule=\"evenodd\" fill-opacity=\"1\" stroke=\"#000000\" stroke-opacity=\"1\" stroke-width=\"3.2\"/>\n",
       "<circle clip-path=\"url(#clip512)\" cx=\"709.518\" cy=\"160.861\" r=\"14.4\" fill=\"#009af9\" fill-rule=\"evenodd\" fill-opacity=\"1\" stroke=\"#000000\" stroke-opacity=\"1\" stroke-width=\"3.2\"/>\n",
       "<circle clip-path=\"url(#clip512)\" cx=\"718.027\" cy=\"162.676\" r=\"14.4\" fill=\"#009af9\" fill-rule=\"evenodd\" fill-opacity=\"1\" stroke=\"#000000\" stroke-opacity=\"1\" stroke-width=\"3.2\"/>\n",
       "<circle clip-path=\"url(#clip512)\" cx=\"726.536\" cy=\"165.698\" r=\"14.4\" fill=\"#009af9\" fill-rule=\"evenodd\" fill-opacity=\"1\" stroke=\"#000000\" stroke-opacity=\"1\" stroke-width=\"3.2\"/>\n",
       "<circle clip-path=\"url(#clip512)\" cx=\"735.045\" cy=\"169.925\" r=\"14.4\" fill=\"#009af9\" fill-rule=\"evenodd\" fill-opacity=\"1\" stroke=\"#000000\" stroke-opacity=\"1\" stroke-width=\"3.2\"/>\n",
       "<circle clip-path=\"url(#clip512)\" cx=\"743.554\" cy=\"175.352\" r=\"14.4\" fill=\"#009af9\" fill-rule=\"evenodd\" fill-opacity=\"1\" stroke=\"#000000\" stroke-opacity=\"1\" stroke-width=\"3.2\"/>\n",
       "<circle clip-path=\"url(#clip512)\" cx=\"752.063\" cy=\"181.975\" r=\"14.4\" fill=\"#009af9\" fill-rule=\"evenodd\" fill-opacity=\"1\" stroke=\"#000000\" stroke-opacity=\"1\" stroke-width=\"3.2\"/>\n",
       "<circle clip-path=\"url(#clip512)\" cx=\"760.573\" cy=\"189.786\" r=\"14.4\" fill=\"#009af9\" fill-rule=\"evenodd\" fill-opacity=\"1\" stroke=\"#000000\" stroke-opacity=\"1\" stroke-width=\"3.2\"/>\n",
       "<circle clip-path=\"url(#clip512)\" cx=\"769.082\" cy=\"198.778\" r=\"14.4\" fill=\"#009af9\" fill-rule=\"evenodd\" fill-opacity=\"1\" stroke=\"#000000\" stroke-opacity=\"1\" stroke-width=\"3.2\"/>\n",
       "<circle clip-path=\"url(#clip512)\" cx=\"777.591\" cy=\"208.942\" r=\"14.4\" fill=\"#009af9\" fill-rule=\"evenodd\" fill-opacity=\"1\" stroke=\"#000000\" stroke-opacity=\"1\" stroke-width=\"3.2\"/>\n",
       "<circle clip-path=\"url(#clip512)\" cx=\"786.1\" cy=\"220.268\" r=\"14.4\" fill=\"#009af9\" fill-rule=\"evenodd\" fill-opacity=\"1\" stroke=\"#000000\" stroke-opacity=\"1\" stroke-width=\"3.2\"/>\n",
       "<circle clip-path=\"url(#clip512)\" cx=\"794.609\" cy=\"232.745\" r=\"14.4\" fill=\"#009af9\" fill-rule=\"evenodd\" fill-opacity=\"1\" stroke=\"#000000\" stroke-opacity=\"1\" stroke-width=\"3.2\"/>\n",
       "<circle clip-path=\"url(#clip512)\" cx=\"803.118\" cy=\"246.36\" r=\"14.4\" fill=\"#009af9\" fill-rule=\"evenodd\" fill-opacity=\"1\" stroke=\"#000000\" stroke-opacity=\"1\" stroke-width=\"3.2\"/>\n",
       "<circle clip-path=\"url(#clip512)\" cx=\"811.627\" cy=\"261.101\" r=\"14.4\" fill=\"#009af9\" fill-rule=\"evenodd\" fill-opacity=\"1\" stroke=\"#000000\" stroke-opacity=\"1\" stroke-width=\"3.2\"/>\n",
       "<circle clip-path=\"url(#clip512)\" cx=\"820.136\" cy=\"276.952\" r=\"14.4\" fill=\"#009af9\" fill-rule=\"evenodd\" fill-opacity=\"1\" stroke=\"#000000\" stroke-opacity=\"1\" stroke-width=\"3.2\"/>\n",
       "<circle clip-path=\"url(#clip512)\" cx=\"828.645\" cy=\"293.897\" r=\"14.4\" fill=\"#009af9\" fill-rule=\"evenodd\" fill-opacity=\"1\" stroke=\"#000000\" stroke-opacity=\"1\" stroke-width=\"3.2\"/>\n",
       "<circle clip-path=\"url(#clip512)\" cx=\"837.154\" cy=\"311.922\" r=\"14.4\" fill=\"#009af9\" fill-rule=\"evenodd\" fill-opacity=\"1\" stroke=\"#000000\" stroke-opacity=\"1\" stroke-width=\"3.2\"/>\n",
       "<circle clip-path=\"url(#clip512)\" cx=\"845.663\" cy=\"331.006\" r=\"14.4\" fill=\"#009af9\" fill-rule=\"evenodd\" fill-opacity=\"1\" stroke=\"#000000\" stroke-opacity=\"1\" stroke-width=\"3.2\"/>\n",
       "<circle clip-path=\"url(#clip512)\" cx=\"854.172\" cy=\"351.132\" r=\"14.4\" fill=\"#009af9\" fill-rule=\"evenodd\" fill-opacity=\"1\" stroke=\"#000000\" stroke-opacity=\"1\" stroke-width=\"3.2\"/>\n",
       "<circle clip-path=\"url(#clip512)\" cx=\"862.681\" cy=\"372.28\" r=\"14.4\" fill=\"#009af9\" fill-rule=\"evenodd\" fill-opacity=\"1\" stroke=\"#000000\" stroke-opacity=\"1\" stroke-width=\"3.2\"/>\n",
       "<circle clip-path=\"url(#clip512)\" cx=\"871.19\" cy=\"394.428\" r=\"14.4\" fill=\"#009af9\" fill-rule=\"evenodd\" fill-opacity=\"1\" stroke=\"#000000\" stroke-opacity=\"1\" stroke-width=\"3.2\"/>\n",
       "<circle clip-path=\"url(#clip512)\" cx=\"879.7\" cy=\"417.556\" r=\"14.4\" fill=\"#009af9\" fill-rule=\"evenodd\" fill-opacity=\"1\" stroke=\"#000000\" stroke-opacity=\"1\" stroke-width=\"3.2\"/>\n",
       "<circle clip-path=\"url(#clip512)\" cx=\"888.209\" cy=\"441.639\" r=\"14.4\" fill=\"#009af9\" fill-rule=\"evenodd\" fill-opacity=\"1\" stroke=\"#000000\" stroke-opacity=\"1\" stroke-width=\"3.2\"/>\n",
       "<circle clip-path=\"url(#clip512)\" cx=\"896.718\" cy=\"466.655\" r=\"14.4\" fill=\"#009af9\" fill-rule=\"evenodd\" fill-opacity=\"1\" stroke=\"#000000\" stroke-opacity=\"1\" stroke-width=\"3.2\"/>\n",
       "<circle clip-path=\"url(#clip512)\" cx=\"905.227\" cy=\"492.579\" r=\"14.4\" fill=\"#009af9\" fill-rule=\"evenodd\" fill-opacity=\"1\" stroke=\"#000000\" stroke-opacity=\"1\" stroke-width=\"3.2\"/>\n",
       "<circle clip-path=\"url(#clip512)\" cx=\"913.736\" cy=\"519.384\" r=\"14.4\" fill=\"#009af9\" fill-rule=\"evenodd\" fill-opacity=\"1\" stroke=\"#000000\" stroke-opacity=\"1\" stroke-width=\"3.2\"/>\n",
       "<circle clip-path=\"url(#clip512)\" cx=\"922.245\" cy=\"547.046\" r=\"14.4\" fill=\"#009af9\" fill-rule=\"evenodd\" fill-opacity=\"1\" stroke=\"#000000\" stroke-opacity=\"1\" stroke-width=\"3.2\"/>\n",
       "<circle clip-path=\"url(#clip512)\" cx=\"930.754\" cy=\"575.535\" r=\"14.4\" fill=\"#009af9\" fill-rule=\"evenodd\" fill-opacity=\"1\" stroke=\"#000000\" stroke-opacity=\"1\" stroke-width=\"3.2\"/>\n",
       "<circle clip-path=\"url(#clip512)\" cx=\"939.263\" cy=\"604.825\" r=\"14.4\" fill=\"#009af9\" fill-rule=\"evenodd\" fill-opacity=\"1\" stroke=\"#000000\" stroke-opacity=\"1\" stroke-width=\"3.2\"/>\n",
       "<circle clip-path=\"url(#clip512)\" cx=\"947.772\" cy=\"634.886\" r=\"14.4\" fill=\"#009af9\" fill-rule=\"evenodd\" fill-opacity=\"1\" stroke=\"#000000\" stroke-opacity=\"1\" stroke-width=\"3.2\"/>\n",
       "<circle clip-path=\"url(#clip512)\" cx=\"956.281\" cy=\"665.689\" r=\"14.4\" fill=\"#009af9\" fill-rule=\"evenodd\" fill-opacity=\"1\" stroke=\"#000000\" stroke-opacity=\"1\" stroke-width=\"3.2\"/>\n",
       "<circle clip-path=\"url(#clip512)\" cx=\"964.79\" cy=\"697.203\" r=\"14.4\" fill=\"#009af9\" fill-rule=\"evenodd\" fill-opacity=\"1\" stroke=\"#000000\" stroke-opacity=\"1\" stroke-width=\"3.2\"/>\n",
       "<circle clip-path=\"url(#clip512)\" cx=\"973.299\" cy=\"729.397\" r=\"14.4\" fill=\"#009af9\" fill-rule=\"evenodd\" fill-opacity=\"1\" stroke=\"#000000\" stroke-opacity=\"1\" stroke-width=\"3.2\"/>\n",
       "<circle clip-path=\"url(#clip512)\" cx=\"981.808\" cy=\"762.24\" r=\"14.4\" fill=\"#009af9\" fill-rule=\"evenodd\" fill-opacity=\"1\" stroke=\"#000000\" stroke-opacity=\"1\" stroke-width=\"3.2\"/>\n",
       "<circle clip-path=\"url(#clip512)\" cx=\"990.317\" cy=\"795.699\" r=\"14.4\" fill=\"#009af9\" fill-rule=\"evenodd\" fill-opacity=\"1\" stroke=\"#000000\" stroke-opacity=\"1\" stroke-width=\"3.2\"/>\n",
       "<circle clip-path=\"url(#clip512)\" cx=\"998.827\" cy=\"829.74\" r=\"14.4\" fill=\"#009af9\" fill-rule=\"evenodd\" fill-opacity=\"1\" stroke=\"#000000\" stroke-opacity=\"1\" stroke-width=\"3.2\"/>\n",
       "<circle clip-path=\"url(#clip512)\" cx=\"1007.34\" cy=\"864.331\" r=\"14.4\" fill=\"#009af9\" fill-rule=\"evenodd\" fill-opacity=\"1\" stroke=\"#000000\" stroke-opacity=\"1\" stroke-width=\"3.2\"/>\n",
       "<circle clip-path=\"url(#clip512)\" cx=\"1015.84\" cy=\"899.437\" r=\"14.4\" fill=\"#009af9\" fill-rule=\"evenodd\" fill-opacity=\"1\" stroke=\"#000000\" stroke-opacity=\"1\" stroke-width=\"3.2\"/>\n",
       "<circle clip-path=\"url(#clip512)\" cx=\"1024.35\" cy=\"935.024\" r=\"14.4\" fill=\"#009af9\" fill-rule=\"evenodd\" fill-opacity=\"1\" stroke=\"#000000\" stroke-opacity=\"1\" stroke-width=\"3.2\"/>\n",
       "<circle clip-path=\"url(#clip512)\" cx=\"1032.86\" cy=\"971.056\" r=\"14.4\" fill=\"#009af9\" fill-rule=\"evenodd\" fill-opacity=\"1\" stroke=\"#000000\" stroke-opacity=\"1\" stroke-width=\"3.2\"/>\n",
       "<circle clip-path=\"url(#clip512)\" cx=\"1041.37\" cy=\"1007.5\" r=\"14.4\" fill=\"#009af9\" fill-rule=\"evenodd\" fill-opacity=\"1\" stroke=\"#000000\" stroke-opacity=\"1\" stroke-width=\"3.2\"/>\n",
       "<circle clip-path=\"url(#clip512)\" cx=\"1049.88\" cy=\"1044.31\" r=\"14.4\" fill=\"#009af9\" fill-rule=\"evenodd\" fill-opacity=\"1\" stroke=\"#000000\" stroke-opacity=\"1\" stroke-width=\"3.2\"/>\n",
       "<circle clip-path=\"url(#clip512)\" cx=\"1058.39\" cy=\"1081.47\" r=\"14.4\" fill=\"#009af9\" fill-rule=\"evenodd\" fill-opacity=\"1\" stroke=\"#000000\" stroke-opacity=\"1\" stroke-width=\"3.2\"/>\n",
       "<circle clip-path=\"url(#clip512)\" cx=\"1066.9\" cy=\"1118.92\" r=\"14.4\" fill=\"#009af9\" fill-rule=\"evenodd\" fill-opacity=\"1\" stroke=\"#000000\" stroke-opacity=\"1\" stroke-width=\"3.2\"/>\n",
       "<circle clip-path=\"url(#clip512)\" cx=\"1075.41\" cy=\"1156.64\" r=\"14.4\" fill=\"#009af9\" fill-rule=\"evenodd\" fill-opacity=\"1\" stroke=\"#000000\" stroke-opacity=\"1\" stroke-width=\"3.2\"/>\n",
       "<circle clip-path=\"url(#clip512)\" cx=\"1083.92\" cy=\"1194.59\" r=\"14.4\" fill=\"#009af9\" fill-rule=\"evenodd\" fill-opacity=\"1\" stroke=\"#000000\" stroke-opacity=\"1\" stroke-width=\"3.2\"/>\n",
       "<circle clip-path=\"url(#clip512)\" cx=\"1092.43\" cy=\"1232.72\" r=\"14.4\" fill=\"#009af9\" fill-rule=\"evenodd\" fill-opacity=\"1\" stroke=\"#000000\" stroke-opacity=\"1\" stroke-width=\"3.2\"/>\n",
       "<circle clip-path=\"url(#clip512)\" cx=\"1100.94\" cy=\"1271.01\" r=\"14.4\" fill=\"#009af9\" fill-rule=\"evenodd\" fill-opacity=\"1\" stroke=\"#000000\" stroke-opacity=\"1\" stroke-width=\"3.2\"/>\n",
       "<circle clip-path=\"url(#clip512)\" cx=\"1109.44\" cy=\"1309.41\" r=\"14.4\" fill=\"#009af9\" fill-rule=\"evenodd\" fill-opacity=\"1\" stroke=\"#000000\" stroke-opacity=\"1\" stroke-width=\"3.2\"/>\n",
       "<circle clip-path=\"url(#clip512)\" cx=\"1117.95\" cy=\"1347.88\" r=\"14.4\" fill=\"#009af9\" fill-rule=\"evenodd\" fill-opacity=\"1\" stroke=\"#000000\" stroke-opacity=\"1\" stroke-width=\"3.2\"/>\n",
       "<circle clip-path=\"url(#clip512)\" cx=\"1126.46\" cy=\"1386.4\" r=\"14.4\" fill=\"#009af9\" fill-rule=\"evenodd\" fill-opacity=\"1\" stroke=\"#000000\" stroke-opacity=\"1\" stroke-width=\"3.2\"/>\n",
       "<path clip-path=\"url(#clip510)\" d=\"M1450.79 1423.18 L2352.76 1423.18 L2352.76 123.472 L1450.79 123.472  Z\" fill=\"#ffffff\" fill-rule=\"evenodd\" fill-opacity=\"1\"/>\n",
       "<defs>\n",
       "  <clipPath id=\"clip513\">\n",
       "    <rect x=\"1450\" y=\"123\" width=\"903\" height=\"1301\"/>\n",
       "  </clipPath>\n",
       "</defs>\n",
       "<polyline clip-path=\"url(#clip513)\" style=\"stroke:#000000; stroke-linecap:round; stroke-linejoin:round; stroke-width:2; stroke-opacity:0.1; fill:none\" points=\"1476.32,1423.18 1476.32,123.472 \"/>\n",
       "<polyline clip-path=\"url(#clip513)\" style=\"stroke:#000000; stroke-linecap:round; stroke-linejoin:round; stroke-width:2; stroke-opacity:0.1; fill:none\" points=\"1689.05,1423.18 1689.05,123.472 \"/>\n",
       "<polyline clip-path=\"url(#clip513)\" style=\"stroke:#000000; stroke-linecap:round; stroke-linejoin:round; stroke-width:2; stroke-opacity:0.1; fill:none\" points=\"1901.78,1423.18 1901.78,123.472 \"/>\n",
       "<polyline clip-path=\"url(#clip513)\" style=\"stroke:#000000; stroke-linecap:round; stroke-linejoin:round; stroke-width:2; stroke-opacity:0.1; fill:none\" points=\"2114.5,1423.18 2114.5,123.472 \"/>\n",
       "<polyline clip-path=\"url(#clip513)\" style=\"stroke:#000000; stroke-linecap:round; stroke-linejoin:round; stroke-width:2; stroke-opacity:0.1; fill:none\" points=\"2327.23,1423.18 2327.23,123.472 \"/>\n",
       "<polyline clip-path=\"url(#clip510)\" style=\"stroke:#000000; stroke-linecap:round; stroke-linejoin:round; stroke-width:4; stroke-opacity:1; fill:none\" points=\"1450.79,1423.18 2352.76,1423.18 \"/>\n",
       "<polyline clip-path=\"url(#clip510)\" style=\"stroke:#000000; stroke-linecap:round; stroke-linejoin:round; stroke-width:4; stroke-opacity:1; fill:none\" points=\"1476.32,1423.18 1476.32,1404.28 \"/>\n",
       "<polyline clip-path=\"url(#clip510)\" style=\"stroke:#000000; stroke-linecap:round; stroke-linejoin:round; stroke-width:4; stroke-opacity:1; fill:none\" points=\"1689.05,1423.18 1689.05,1404.28 \"/>\n",
       "<polyline clip-path=\"url(#clip510)\" style=\"stroke:#000000; stroke-linecap:round; stroke-linejoin:round; stroke-width:4; stroke-opacity:1; fill:none\" points=\"1901.78,1423.18 1901.78,1404.28 \"/>\n",
       "<polyline clip-path=\"url(#clip510)\" style=\"stroke:#000000; stroke-linecap:round; stroke-linejoin:round; stroke-width:4; stroke-opacity:1; fill:none\" points=\"2114.5,1423.18 2114.5,1404.28 \"/>\n",
       "<polyline clip-path=\"url(#clip510)\" style=\"stroke:#000000; stroke-linecap:round; stroke-linejoin:round; stroke-width:4; stroke-opacity:1; fill:none\" points=\"2327.23,1423.18 2327.23,1404.28 \"/>\n",
       "<path clip-path=\"url(#clip510)\" d=\"M1466.7 1481.64 L1474.34 1481.64 L1474.34 1455.28 L1466.03 1456.95 L1466.03 1452.69 L1474.3 1451.02 L1478.97 1451.02 L1478.97 1481.64 L1486.61 1481.64 L1486.61 1485.58 L1466.7 1485.58 L1466.7 1481.64 Z\" fill=\"#000000\" fill-rule=\"nonzero\" fill-opacity=\"1\" /><path clip-path=\"url(#clip510)\" d=\"M1683.7 1481.64 L1700.02 1481.64 L1700.02 1485.58 L1678.08 1485.58 L1678.08 1481.64 Q1680.74 1478.89 1685.32 1474.26 Q1689.93 1469.61 1691.11 1468.27 Q1693.35 1465.74 1694.23 1464.01 Q1695.14 1462.25 1695.14 1460.56 Q1695.14 1457.8 1693.19 1456.07 Q1691.27 1454.33 1688.17 1454.33 Q1685.97 1454.33 1683.52 1455.09 Q1681.09 1455.86 1678.31 1457.41 L1678.31 1452.69 Q1681.13 1451.55 1683.59 1450.97 Q1686.04 1450.39 1688.08 1450.39 Q1693.45 1450.39 1696.64 1453.08 Q1699.84 1455.77 1699.84 1460.26 Q1699.84 1462.39 1699.03 1464.31 Q1698.24 1466.2 1696.13 1468.8 Q1695.55 1469.47 1692.45 1472.69 Q1689.35 1475.88 1683.7 1481.64 Z\" fill=\"#000000\" fill-rule=\"nonzero\" fill-opacity=\"1\" /><path clip-path=\"url(#clip510)\" d=\"M1906.02 1466.95 Q1909.38 1467.66 1911.25 1469.93 Q1913.15 1472.2 1913.15 1475.53 Q1913.15 1480.65 1909.63 1483.45 Q1906.12 1486.25 1899.63 1486.25 Q1897.46 1486.25 1895.14 1485.81 Q1892.85 1485.39 1890.4 1484.54 L1890.4 1480.02 Q1892.34 1481.16 1894.66 1481.74 Q1896.97 1482.32 1899.49 1482.32 Q1903.89 1482.32 1906.18 1480.58 Q1908.5 1478.84 1908.5 1475.53 Q1908.5 1472.48 1906.35 1470.77 Q1904.22 1469.03 1900.4 1469.03 L1896.37 1469.03 L1896.37 1465.19 L1900.58 1465.19 Q1904.03 1465.19 1905.86 1463.82 Q1907.69 1462.43 1907.69 1459.84 Q1907.69 1457.18 1905.79 1455.77 Q1903.92 1454.33 1900.4 1454.33 Q1898.48 1454.33 1896.28 1454.75 Q1894.08 1455.16 1891.44 1456.04 L1891.44 1451.88 Q1894.1 1451.14 1896.42 1450.77 Q1898.75 1450.39 1900.81 1450.39 Q1906.14 1450.39 1909.24 1452.83 Q1912.34 1455.23 1912.34 1459.35 Q1912.34 1462.22 1910.7 1464.21 Q1909.06 1466.18 1906.02 1466.95 Z\" fill=\"#000000\" fill-rule=\"nonzero\" fill-opacity=\"1\" /><path clip-path=\"url(#clip510)\" d=\"M2117.51 1455.09 L2105.71 1473.54 L2117.51 1473.54 L2117.51 1455.09 M2116.28 1451.02 L2122.16 1451.02 L2122.16 1473.54 L2127.09 1473.54 L2127.09 1477.43 L2122.16 1477.43 L2122.16 1485.58 L2117.51 1485.58 L2117.51 1477.43 L2101.91 1477.43 L2101.91 1472.92 L2116.28 1451.02 Z\" fill=\"#000000\" fill-rule=\"nonzero\" fill-opacity=\"1\" /><path clip-path=\"url(#clip510)\" d=\"M2317.51 1451.02 L2335.86 1451.02 L2335.86 1454.96 L2321.79 1454.96 L2321.79 1463.43 Q2322.81 1463.08 2323.83 1462.92 Q2324.84 1462.73 2325.86 1462.73 Q2331.65 1462.73 2335.03 1465.9 Q2338.41 1469.08 2338.41 1474.49 Q2338.41 1480.07 2334.94 1483.17 Q2331.46 1486.25 2325.15 1486.25 Q2322.97 1486.25 2320.7 1485.88 Q2318.46 1485.51 2316.05 1484.77 L2316.05 1480.07 Q2318.13 1481.2 2320.35 1481.76 Q2322.58 1482.32 2325.05 1482.32 Q2329.06 1482.32 2331.4 1480.21 Q2333.73 1478.1 2333.73 1474.49 Q2333.73 1470.88 2331.4 1468.77 Q2329.06 1466.67 2325.05 1466.67 Q2323.18 1466.67 2321.3 1467.08 Q2319.45 1467.5 2317.51 1468.38 L2317.51 1451.02 Z\" fill=\"#000000\" fill-rule=\"nonzero\" fill-opacity=\"1\" /><path clip-path=\"url(#clip510)\" d=\"M1602.17 1546.53 L1602.17 1568.04 L1596.32 1568.04 L1596.32 1546.72 Q1596.32 1541.66 1594.34 1539.14 Q1592.37 1536.63 1588.42 1536.63 Q1583.68 1536.63 1580.94 1539.65 Q1578.21 1542.68 1578.21 1547.9 L1578.21 1568.04 L1572.32 1568.04 L1572.32 1532.4 L1578.21 1532.4 L1578.21 1537.93 Q1580.31 1534.72 1583.14 1533.13 Q1586 1531.54 1589.73 1531.54 Q1595.87 1531.54 1599.02 1535.36 Q1602.17 1539.14 1602.17 1546.53 Z\" fill=\"#000000\" fill-rule=\"nonzero\" fill-opacity=\"1\" /><path clip-path=\"url(#clip510)\" d=\"M1613.25 1553.98 L1613.25 1532.4 L1619.11 1532.4 L1619.11 1553.75 Q1619.11 1558.81 1621.08 1561.36 Q1623.05 1563.87 1627 1563.87 Q1631.74 1563.87 1634.48 1560.85 Q1637.25 1557.83 1637.25 1552.61 L1637.25 1532.4 L1643.1 1532.4 L1643.1 1568.04 L1637.25 1568.04 L1637.25 1562.57 Q1635.12 1565.82 1632.28 1567.41 Q1629.48 1568.97 1625.76 1568.97 Q1619.62 1568.97 1616.43 1565.15 Q1613.25 1561.33 1613.25 1553.98 M1627.99 1531.54 L1627.99 1531.54 Z\" fill=\"#000000\" fill-rule=\"nonzero\" fill-opacity=\"1\" /><path clip-path=\"url(#clip510)\" d=\"M1682.92 1539.24 Q1685.12 1535.29 1688.17 1533.41 Q1691.23 1531.54 1695.37 1531.54 Q1700.94 1531.54 1703.96 1535.45 Q1706.98 1539.33 1706.98 1546.53 L1706.98 1568.04 L1701.1 1568.04 L1701.1 1546.72 Q1701.1 1541.59 1699.28 1539.11 Q1697.47 1536.63 1693.74 1536.63 Q1689.19 1536.63 1686.55 1539.65 Q1683.91 1542.68 1683.91 1547.9 L1683.91 1568.04 L1678.02 1568.04 L1678.02 1546.72 Q1678.02 1541.56 1676.21 1539.11 Q1674.39 1536.63 1670.6 1536.63 Q1666.12 1536.63 1663.47 1539.68 Q1660.83 1542.71 1660.83 1547.9 L1660.83 1568.04 L1654.94 1568.04 L1654.94 1532.4 L1660.83 1532.4 L1660.83 1537.93 Q1662.84 1534.66 1665.64 1533.1 Q1668.44 1531.54 1672.29 1531.54 Q1676.17 1531.54 1678.88 1533.51 Q1681.62 1535.48 1682.92 1539.24 Z\" fill=\"#000000\" fill-rule=\"nonzero\" fill-opacity=\"1\" /><path clip-path=\"url(#clip510)\" d=\"M1744.26 1550.25 Q1744.26 1543.79 1741.58 1540.13 Q1738.94 1536.44 1734.29 1536.44 Q1729.65 1536.44 1726.97 1540.13 Q1724.33 1543.79 1724.33 1550.25 Q1724.33 1556.71 1726.97 1560.4 Q1729.65 1564.07 1734.29 1564.07 Q1738.94 1564.07 1741.58 1560.4 Q1744.26 1556.71 1744.26 1550.25 M1724.33 1537.81 Q1726.18 1534.62 1728.98 1533.1 Q1731.81 1531.54 1735.73 1531.54 Q1742.22 1531.54 1746.26 1536.69 Q1750.33 1541.85 1750.33 1550.25 Q1750.33 1558.65 1746.26 1563.81 Q1742.22 1568.97 1735.73 1568.97 Q1731.81 1568.97 1728.98 1567.44 Q1726.18 1565.88 1724.33 1562.7 L1724.33 1568.04 L1718.44 1568.04 L1718.44 1518.52 L1724.33 1518.52 L1724.33 1537.81 Z\" fill=\"#000000\" fill-rule=\"nonzero\" fill-opacity=\"1\" /><path clip-path=\"url(#clip510)\" d=\"M1790.53 1548.76 L1790.53 1551.62 L1763.61 1551.62 Q1763.99 1557.67 1767.24 1560.85 Q1770.51 1564 1776.34 1564 Q1779.71 1564 1782.86 1563.17 Q1786.05 1562.35 1789.17 1560.69 L1789.17 1566.23 Q1786.01 1567.57 1782.7 1568.27 Q1779.39 1568.97 1775.99 1568.97 Q1767.46 1568.97 1762.46 1564 Q1757.5 1559.04 1757.5 1550.57 Q1757.5 1541.82 1762.21 1536.69 Q1766.95 1531.54 1774.97 1531.54 Q1782.16 1531.54 1786.33 1536.18 Q1790.53 1540.8 1790.53 1548.76 M1784.68 1547.04 Q1784.61 1542.23 1781.97 1539.37 Q1779.36 1536.5 1775.03 1536.5 Q1770.13 1536.5 1767.17 1539.27 Q1764.24 1542.04 1763.8 1547.07 L1784.68 1547.04 Z\" fill=\"#000000\" fill-rule=\"nonzero\" fill-opacity=\"1\" /><path clip-path=\"url(#clip510)\" d=\"M1820.8 1537.87 Q1819.82 1537.3 1818.64 1537.04 Q1817.49 1536.76 1816.09 1536.76 Q1811.13 1536.76 1808.45 1540 Q1805.81 1543.22 1805.81 1549.27 L1805.81 1568.04 L1799.92 1568.04 L1799.92 1532.4 L1805.81 1532.4 L1805.81 1537.93 Q1807.66 1534.69 1810.62 1533.13 Q1813.58 1531.54 1817.81 1531.54 Q1818.42 1531.54 1819.15 1531.63 Q1819.88 1531.7 1820.77 1531.85 L1820.8 1537.87 Z\" fill=\"#000000\" fill-rule=\"nonzero\" fill-opacity=\"1\" /><path clip-path=\"url(#clip510)\" d=\"M1861.48 1536.5 Q1856.77 1536.5 1854.03 1540.19 Q1851.29 1543.85 1851.29 1550.25 Q1851.29 1556.65 1854 1560.34 Q1856.74 1564 1861.48 1564 Q1866.16 1564 1868.9 1560.31 Q1871.63 1556.62 1871.63 1550.25 Q1871.63 1543.92 1868.9 1540.23 Q1866.16 1536.5 1861.48 1536.5 M1861.48 1531.54 Q1869.12 1531.54 1873.48 1536.5 Q1877.84 1541.47 1877.84 1550.25 Q1877.84 1559 1873.48 1564 Q1869.12 1568.97 1861.48 1568.97 Q1853.81 1568.97 1849.45 1564 Q1845.12 1559 1845.12 1550.25 Q1845.12 1541.47 1849.45 1536.5 Q1853.81 1531.54 1861.48 1531.54 Z\" fill=\"#000000\" fill-rule=\"nonzero\" fill-opacity=\"1\" /><path clip-path=\"url(#clip510)\" d=\"M1905.59 1518.52 L1905.59 1523.39 L1899.99 1523.39 Q1896.84 1523.39 1895.6 1524.66 Q1894.39 1525.93 1894.39 1529.24 L1894.39 1532.4 L1904.03 1532.4 L1904.03 1536.95 L1894.39 1536.95 L1894.39 1568.04 L1888.5 1568.04 L1888.5 1536.95 L1882.9 1536.95 L1882.9 1532.4 L1888.5 1532.4 L1888.5 1529.91 Q1888.5 1523.96 1891.27 1521.26 Q1894.04 1518.52 1900.06 1518.52 L1905.59 1518.52 Z\" fill=\"#000000\" fill-rule=\"nonzero\" fill-opacity=\"1\" /><path clip-path=\"url(#clip510)\" d=\"M1931.22 1532.4 L1937.07 1532.4 L1937.07 1568.04 L1931.22 1568.04 L1931.22 1532.4 M1931.22 1518.52 L1937.07 1518.52 L1937.07 1525.93 L1931.22 1525.93 L1931.22 1518.52 Z\" fill=\"#000000\" fill-rule=\"nonzero\" fill-opacity=\"1\" /><path clip-path=\"url(#clip510)\" d=\"M1955.12 1522.27 L1955.12 1532.4 L1967.18 1532.4 L1967.18 1536.95 L1955.12 1536.95 L1955.12 1556.3 Q1955.12 1560.66 1956.3 1561.9 Q1957.51 1563.14 1961.17 1563.14 L1967.18 1563.14 L1967.18 1568.04 L1961.17 1568.04 Q1954.39 1568.04 1951.81 1565.53 Q1949.23 1562.98 1949.23 1556.3 L1949.23 1536.95 L1944.93 1536.95 L1944.93 1532.4 L1949.23 1532.4 L1949.23 1522.27 L1955.12 1522.27 Z\" fill=\"#000000\" fill-rule=\"nonzero\" fill-opacity=\"1\" /><path clip-path=\"url(#clip510)\" d=\"M2005.38 1548.76 L2005.38 1551.62 L1978.45 1551.62 Q1978.83 1557.67 1982.08 1560.85 Q1985.36 1564 1991.18 1564 Q1994.56 1564 1997.71 1563.17 Q2000.89 1562.35 2004.01 1560.69 L2004.01 1566.23 Q2000.86 1567.57 1997.55 1568.27 Q1994.24 1568.97 1990.83 1568.97 Q1982.3 1568.97 1977.3 1564 Q1972.34 1559.04 1972.34 1550.57 Q1972.34 1541.82 1977.05 1536.69 Q1981.79 1531.54 1989.81 1531.54 Q1997.01 1531.54 2001.18 1536.18 Q2005.38 1540.8 2005.38 1548.76 M1999.52 1547.04 Q1999.46 1542.23 1996.82 1539.37 Q1994.21 1536.5 1989.88 1536.5 Q1984.97 1536.5 1982.01 1539.27 Q1979.09 1542.04 1978.64 1547.07 L1999.52 1547.04 Z\" fill=\"#000000\" fill-rule=\"nonzero\" fill-opacity=\"1\" /><path clip-path=\"url(#clip510)\" d=\"M2035.65 1537.87 Q2034.66 1537.3 2033.48 1537.04 Q2032.34 1536.76 2030.94 1536.76 Q2025.97 1536.76 2023.3 1540 Q2020.65 1543.22 2020.65 1549.27 L2020.65 1568.04 L2014.77 1568.04 L2014.77 1532.4 L2020.65 1532.4 L2020.65 1537.93 Q2022.5 1534.69 2025.46 1533.13 Q2028.42 1531.54 2032.65 1531.54 Q2033.26 1531.54 2033.99 1531.63 Q2034.72 1531.7 2035.61 1531.85 L2035.65 1537.87 Z\" fill=\"#000000\" fill-rule=\"nonzero\" fill-opacity=\"1\" /><path clip-path=\"url(#clip510)\" d=\"M2057.99 1550.12 Q2050.89 1550.12 2048.15 1551.75 Q2045.42 1553.37 2045.42 1557.29 Q2045.42 1560.4 2047.45 1562.25 Q2049.52 1564.07 2053.06 1564.07 Q2057.93 1564.07 2060.85 1560.63 Q2063.81 1557.16 2063.81 1551.43 L2063.81 1550.12 L2057.99 1550.12 M2069.67 1547.71 L2069.67 1568.04 L2063.81 1568.04 L2063.81 1562.63 Q2061.81 1565.88 2058.82 1567.44 Q2055.83 1568.97 2051.5 1568.97 Q2046.02 1568.97 2042.78 1565.91 Q2039.56 1562.82 2039.56 1557.67 Q2039.56 1551.65 2043.57 1548.6 Q2047.61 1545.54 2055.6 1545.54 L2063.81 1545.54 L2063.81 1544.97 Q2063.81 1540.93 2061.14 1538.73 Q2058.5 1536.5 2053.69 1536.5 Q2050.64 1536.5 2047.74 1537.23 Q2044.84 1537.97 2042.17 1539.43 L2042.17 1534.02 Q2045.39 1532.78 2048.41 1532.17 Q2051.43 1531.54 2054.3 1531.54 Q2062.03 1531.54 2065.85 1535.55 Q2069.67 1539.56 2069.67 1547.71 Z\" fill=\"#000000\" fill-rule=\"nonzero\" fill-opacity=\"1\" /><path clip-path=\"url(#clip510)\" d=\"M2087.53 1522.27 L2087.53 1532.4 L2099.59 1532.4 L2099.59 1536.95 L2087.53 1536.95 L2087.53 1556.3 Q2087.53 1560.66 2088.7 1561.9 Q2089.91 1563.14 2093.57 1563.14 L2099.59 1563.14 L2099.59 1568.04 L2093.57 1568.04 Q2086.79 1568.04 2084.22 1565.53 Q2081.64 1562.98 2081.64 1556.3 L2081.64 1536.95 L2077.34 1536.95 L2077.34 1532.4 L2081.64 1532.4 L2081.64 1522.27 L2087.53 1522.27 Z\" fill=\"#000000\" fill-rule=\"nonzero\" fill-opacity=\"1\" /><path clip-path=\"url(#clip510)\" d=\"M2107.29 1532.4 L2113.15 1532.4 L2113.15 1568.04 L2107.29 1568.04 L2107.29 1532.4 M2107.29 1518.52 L2113.15 1518.52 L2113.15 1525.93 L2107.29 1525.93 L2107.29 1518.52 Z\" fill=\"#000000\" fill-rule=\"nonzero\" fill-opacity=\"1\" /><path clip-path=\"url(#clip510)\" d=\"M2139.22 1536.5 Q2134.51 1536.5 2131.77 1540.19 Q2129.03 1543.85 2129.03 1550.25 Q2129.03 1556.65 2131.74 1560.34 Q2134.47 1564 2139.22 1564 Q2143.89 1564 2146.63 1560.31 Q2149.37 1556.62 2149.37 1550.25 Q2149.37 1543.92 2146.63 1540.23 Q2143.89 1536.5 2139.22 1536.5 M2139.22 1531.54 Q2146.85 1531.54 2151.22 1536.5 Q2155.58 1541.47 2155.58 1550.25 Q2155.58 1559 2151.22 1564 Q2146.85 1568.97 2139.22 1568.97 Q2131.55 1568.97 2127.18 1564 Q2122.86 1559 2122.86 1550.25 Q2122.86 1541.47 2127.18 1536.5 Q2131.55 1531.54 2139.22 1531.54 Z\" fill=\"#000000\" fill-rule=\"nonzero\" fill-opacity=\"1\" /><path clip-path=\"url(#clip510)\" d=\"M2194.92 1546.53 L2194.92 1568.04 L2189.06 1568.04 L2189.06 1546.72 Q2189.06 1541.66 2187.09 1539.14 Q2185.11 1536.63 2181.17 1536.63 Q2176.42 1536.63 2173.69 1539.65 Q2170.95 1542.68 2170.95 1547.9 L2170.95 1568.04 L2165.06 1568.04 L2165.06 1532.4 L2170.95 1532.4 L2170.95 1537.93 Q2173.05 1534.72 2175.88 1533.13 Q2178.75 1531.54 2182.47 1531.54 Q2188.61 1531.54 2191.76 1535.36 Q2194.92 1539.14 2194.92 1546.53 Z\" fill=\"#000000\" fill-rule=\"nonzero\" fill-opacity=\"1\" /><path clip-path=\"url(#clip510)\" d=\"M2229.32 1533.45 L2229.32 1538.98 Q2226.84 1537.71 2224.17 1537.07 Q2221.49 1536.44 2218.63 1536.44 Q2214.27 1536.44 2212.07 1537.77 Q2209.91 1539.11 2209.91 1541.79 Q2209.91 1543.82 2211.47 1545 Q2213.03 1546.15 2217.74 1547.2 L2219.74 1547.64 Q2225.98 1548.98 2228.59 1551.43 Q2231.23 1553.85 2231.23 1558.21 Q2231.23 1563.17 2227.29 1566.07 Q2223.37 1568.97 2216.5 1568.97 Q2213.63 1568.97 2210.51 1568.39 Q2207.42 1567.85 2203.99 1566.74 L2203.99 1560.69 Q2207.23 1562.38 2210.38 1563.24 Q2213.54 1564.07 2216.62 1564.07 Q2220.76 1564.07 2222.99 1562.66 Q2225.22 1561.23 2225.22 1558.65 Q2225.22 1556.27 2223.59 1554.99 Q2222 1553.72 2216.56 1552.54 L2214.52 1552.07 Q2209.08 1550.92 2206.66 1548.56 Q2204.24 1546.18 2204.24 1542.04 Q2204.24 1537.01 2207.81 1534.27 Q2211.37 1531.54 2217.93 1531.54 Q2221.17 1531.54 2224.04 1532.01 Q2226.9 1532.49 2229.32 1533.45 Z\" fill=\"#000000\" fill-rule=\"nonzero\" fill-opacity=\"1\" /><polyline clip-path=\"url(#clip513)\" style=\"stroke:#000000; stroke-linecap:round; stroke-linejoin:round; stroke-width:2; stroke-opacity:0.1; fill:none\" points=\"1450.79,918.204 2352.76,918.204 \"/>\n",
       "<polyline clip-path=\"url(#clip513)\" style=\"stroke:#000000; stroke-linecap:round; stroke-linejoin:round; stroke-width:2; stroke-opacity:0.1; fill:none\" points=\"1450.79,147.333 2352.76,147.333 \"/>\n",
       "<polyline clip-path=\"url(#clip510)\" style=\"stroke:#000000; stroke-linecap:round; stroke-linejoin:round; stroke-width:4; stroke-opacity:1; fill:none\" points=\"1450.79,1423.18 1450.79,123.472 \"/>\n",
       "<polyline clip-path=\"url(#clip510)\" style=\"stroke:#000000; stroke-linecap:round; stroke-linejoin:round; stroke-width:4; stroke-opacity:1; fill:none\" points=\"1450.79,918.204 1469.69,918.204 \"/>\n",
       "<polyline clip-path=\"url(#clip510)\" style=\"stroke:#000000; stroke-linecap:round; stroke-linejoin:round; stroke-width:4; stroke-opacity:1; fill:none\" points=\"1450.79,147.333 1469.69,147.333 \"/>\n",
       "<path clip-path=\"url(#clip510)\" d=\"M1314.17 937.996 L1321.8 937.996 L1321.8 911.631 L1313.49 913.297 L1313.49 909.038 L1321.76 907.372 L1326.43 907.372 L1326.43 937.996 L1334.07 937.996 L1334.07 941.932 L1314.17 941.932 L1314.17 937.996 Z\" fill=\"#000000\" fill-rule=\"nonzero\" fill-opacity=\"1\" /><path clip-path=\"url(#clip510)\" d=\"M1353.52 910.45 Q1349.91 910.45 1348.08 914.015 Q1346.27 917.557 1346.27 924.686 Q1346.27 931.793 1348.08 935.358 Q1349.91 938.899 1353.52 938.899 Q1357.15 938.899 1358.96 935.358 Q1360.79 931.793 1360.79 924.686 Q1360.79 917.557 1358.96 914.015 Q1357.15 910.45 1353.52 910.45 M1353.52 906.747 Q1359.33 906.747 1362.38 911.353 Q1365.46 915.936 1365.46 924.686 Q1365.46 933.413 1362.38 938.02 Q1359.33 942.603 1353.52 942.603 Q1347.71 942.603 1344.63 938.02 Q1341.57 933.413 1341.57 924.686 Q1341.57 915.936 1344.63 911.353 Q1347.71 906.747 1353.52 906.747 Z\" fill=\"#000000\" fill-rule=\"nonzero\" fill-opacity=\"1\" /><path clip-path=\"url(#clip510)\" d=\"M1365.46 900.848 L1389.57 900.848 L1389.57 904.045 L1365.46 904.045 L1365.46 900.848 Z\" fill=\"#000000\" fill-rule=\"nonzero\" fill-opacity=\"1\" /><path clip-path=\"url(#clip510)\" d=\"M1397.81 886.441 L1412.73 886.441 L1412.73 889.638 L1401.29 889.638 L1401.29 896.522 Q1402.12 896.24 1402.95 896.108 Q1403.77 895.958 1404.6 895.958 Q1409.3 895.958 1412.05 898.535 Q1414.79 901.111 1414.79 905.512 Q1414.79 910.045 1411.97 912.565 Q1409.15 915.067 1404.02 915.067 Q1402.25 915.067 1400.41 914.766 Q1398.58 914.465 1396.63 913.863 L1396.63 910.045 Q1398.32 910.966 1400.12 911.418 Q1401.93 911.869 1403.94 911.869 Q1407.2 911.869 1409.1 910.158 Q1411 908.446 1411 905.512 Q1411 902.578 1409.1 900.867 Q1407.2 899.155 1403.94 899.155 Q1402.42 899.155 1400.9 899.494 Q1399.39 899.832 1397.81 900.547 L1397.81 886.441 Z\" fill=\"#000000\" fill-rule=\"nonzero\" fill-opacity=\"1\" /><path clip-path=\"url(#clip510)\" d=\"M1344.09 167.126 L1351.73 167.126 L1351.73 140.76 L1343.42 142.427 L1343.42 138.168 L1351.68 136.501 L1356.36 136.501 L1356.36 167.126 L1364 167.126 L1364 171.061 L1344.09 171.061 L1344.09 167.126 Z\" fill=\"#000000\" fill-rule=\"nonzero\" fill-opacity=\"1\" /><path clip-path=\"url(#clip510)\" d=\"M1383.44 139.58 Q1379.83 139.58 1378 143.145 Q1376.19 146.686 1376.19 153.816 Q1376.19 160.922 1378 164.487 Q1379.83 168.029 1383.44 168.029 Q1387.07 168.029 1388.88 164.487 Q1390.71 160.922 1390.71 153.816 Q1390.71 146.686 1388.88 143.145 Q1387.07 139.58 1383.44 139.58 M1383.44 135.876 Q1389.25 135.876 1392.31 140.483 Q1395.38 145.066 1395.38 153.816 Q1395.38 162.543 1392.31 167.149 Q1389.25 171.732 1383.44 171.732 Q1377.63 171.732 1374.55 167.149 Q1371.5 162.543 1371.5 153.816 Q1371.5 145.066 1374.55 140.483 Q1377.63 135.876 1383.44 135.876 Z\" fill=\"#000000\" fill-rule=\"nonzero\" fill-opacity=\"1\" /><path clip-path=\"url(#clip510)\" d=\"M1405.09 118.072 Q1402.16 118.072 1400.67 120.968 Q1399.2 123.846 1399.2 129.639 Q1399.2 135.413 1400.67 138.309 Q1402.16 141.187 1405.09 141.187 Q1408.04 141.187 1409.51 138.309 Q1411 135.413 1411 129.639 Q1411 123.846 1409.51 120.968 Q1408.04 118.072 1405.09 118.072 M1405.09 115.063 Q1409.81 115.063 1412.29 118.806 Q1414.79 122.53 1414.79 129.639 Q1414.79 136.729 1412.29 140.472 Q1409.81 144.196 1405.09 144.196 Q1400.37 144.196 1397.87 140.472 Q1395.38 136.729 1395.38 129.639 Q1395.38 122.53 1397.87 118.806 Q1400.37 115.063 1405.09 115.063 Z\" fill=\"#000000\" fill-rule=\"nonzero\" fill-opacity=\"1\" /><path clip-path=\"url(#clip510)\" d=\"M1233.06 971.395 Q1232.49 972.382 1232.24 973.559 Q1231.95 974.705 1231.95 976.106 Q1231.95 981.071 1235.2 983.744 Q1238.41 986.386 1244.46 986.386 L1263.24 986.386 L1263.24 992.274 L1227.59 992.274 L1227.59 986.386 L1233.13 986.386 Q1229.88 984.54 1228.32 981.58 Q1226.73 978.62 1226.73 974.387 Q1226.73 973.782 1226.83 973.05 Q1226.89 972.318 1227.05 971.427 L1233.06 971.395 Z\" fill=\"#000000\" fill-rule=\"nonzero\" fill-opacity=\"1\" /><path clip-path=\"url(#clip510)\" d=\"M1243.95 936.193 L1246.81 936.193 L1246.81 963.12 Q1252.86 962.738 1256.04 959.491 Q1259.2 956.213 1259.2 950.388 Q1259.2 947.014 1258.37 943.863 Q1257.54 940.68 1255.89 937.561 L1261.42 937.561 Q1262.76 940.712 1263.46 944.022 Q1264.16 947.333 1264.16 950.738 Q1264.16 959.268 1259.2 964.265 Q1254.23 969.231 1245.76 969.231 Q1237.01 969.231 1231.89 964.52 Q1226.73 959.778 1226.73 951.757 Q1226.73 944.563 1231.38 940.394 Q1235.99 936.193 1243.95 936.193 M1242.23 942.049 Q1237.43 942.113 1234.56 944.754 Q1231.7 947.364 1231.7 951.693 Q1231.7 956.595 1234.47 959.555 Q1237.23 962.483 1242.26 962.929 L1242.23 942.049 Z\" fill=\"#000000\" fill-rule=\"nonzero\" fill-opacity=\"1\" /><path clip-path=\"url(#clip510)\" d=\"M1228.64 903.855 L1234.18 903.855 Q1232.91 906.337 1232.27 909.011 Q1231.63 911.685 1231.63 914.549 Q1231.63 918.91 1232.97 921.106 Q1234.31 923.27 1236.98 923.27 Q1239.02 923.27 1240.19 921.711 Q1241.34 920.151 1242.39 915.44 L1242.84 913.435 Q1244.17 907.197 1246.62 904.587 Q1249.04 901.945 1253.4 901.945 Q1258.37 901.945 1261.26 905.892 Q1264.16 909.807 1264.16 916.682 Q1264.16 919.546 1263.59 922.665 Q1263.05 925.753 1261.93 929.19 L1255.89 929.19 Q1257.57 925.944 1258.43 922.793 Q1259.26 919.642 1259.26 916.554 Q1259.26 912.417 1257.86 910.189 Q1256.43 907.961 1253.85 907.961 Q1251.46 907.961 1250.19 909.584 Q1248.92 911.175 1247.74 916.618 L1247.26 918.655 Q1246.11 924.098 1243.76 926.517 Q1241.37 928.936 1237.23 928.936 Q1232.21 928.936 1229.47 925.371 Q1226.73 921.806 1226.73 915.249 Q1226.73 912.003 1227.21 909.138 Q1227.69 906.274 1228.64 903.855 Z\" fill=\"#000000\" fill-rule=\"nonzero\" fill-opacity=\"1\" /><path clip-path=\"url(#clip510)\" d=\"M1227.59 892.619 L1227.59 886.763 L1263.24 886.763 L1263.24 892.619 L1227.59 892.619 M1213.71 892.619 L1213.71 886.763 L1221.13 886.763 L1221.13 892.619 L1213.71 892.619 Z\" fill=\"#000000\" fill-rule=\"nonzero\" fill-opacity=\"1\" /><path clip-path=\"url(#clip510)\" d=\"M1233 851.051 L1213.71 851.051 L1213.71 845.195 L1263.24 845.195 L1263.24 851.051 L1257.89 851.051 Q1261.07 852.897 1262.63 855.73 Q1264.16 858.531 1264.16 862.478 Q1264.16 868.939 1259 873.013 Q1253.85 877.055 1245.45 877.055 Q1237.04 877.055 1231.89 873.013 Q1226.73 868.939 1226.73 862.478 Q1226.73 858.531 1228.29 855.73 Q1229.82 852.897 1233 851.051 M1245.45 871.008 Q1251.91 871.008 1255.6 868.366 Q1259.26 865.692 1259.26 861.045 Q1259.26 856.398 1255.6 853.725 Q1251.91 851.051 1245.45 851.051 Q1238.98 851.051 1235.32 853.725 Q1231.63 856.398 1231.63 861.045 Q1231.63 865.692 1235.32 868.366 Q1238.98 871.008 1245.45 871.008 Z\" fill=\"#000000\" fill-rule=\"nonzero\" fill-opacity=\"1\" /><path clip-path=\"url(#clip510)\" d=\"M1249.17 833.737 L1227.59 833.737 L1227.59 827.88 L1248.95 827.88 Q1254.01 827.88 1256.55 825.907 Q1259.07 823.933 1259.07 819.987 Q1259.07 815.244 1256.04 812.507 Q1253.02 809.738 1247.8 809.738 L1227.59 809.738 L1227.59 803.881 L1263.24 803.881 L1263.24 809.738 L1257.76 809.738 Q1261.01 811.87 1262.6 814.703 Q1264.16 817.504 1264.16 821.228 Q1264.16 827.371 1260.34 830.554 Q1256.52 833.737 1249.17 833.737 M1226.73 819 L1226.73 819 Z\" fill=\"#000000\" fill-rule=\"nonzero\" fill-opacity=\"1\" /><path clip-path=\"url(#clip510)\" d=\"M1245.32 775.618 Q1245.32 782.715 1246.94 785.453 Q1248.57 788.19 1252.48 788.19 Q1255.6 788.19 1257.45 786.153 Q1259.26 784.084 1259.26 780.551 Q1259.26 775.681 1255.82 772.753 Q1252.35 769.793 1246.62 769.793 L1245.32 769.793 L1245.32 775.618 M1242.9 763.937 L1263.24 763.937 L1263.24 769.793 L1257.83 769.793 Q1261.07 771.798 1262.63 774.79 Q1264.16 777.782 1264.16 782.111 Q1264.16 787.585 1261.11 790.832 Q1258.02 794.046 1252.86 794.046 Q1246.85 794.046 1243.79 790.036 Q1240.74 785.994 1240.74 778.005 L1240.74 769.793 L1240.16 769.793 Q1236.12 769.793 1233.92 772.467 Q1231.7 775.108 1231.7 779.914 Q1231.7 782.97 1232.43 785.866 Q1233.16 788.763 1234.62 791.436 L1229.21 791.436 Q1227.97 788.222 1227.37 785.198 Q1226.73 782.174 1226.73 779.31 Q1226.73 771.575 1230.74 767.756 Q1234.75 763.937 1242.9 763.937 Z\" fill=\"#000000\" fill-rule=\"nonzero\" fill-opacity=\"1\" /><path clip-path=\"url(#clip510)\" d=\"M1213.71 751.874 L1213.71 746.017 L1263.24 746.017 L1263.24 751.874 L1213.71 751.874 Z\" fill=\"#000000\" fill-rule=\"nonzero\" fill-opacity=\"1\" /><path clip-path=\"url(#clip510)\" d=\"M1241.72 683.41 L1263.24 683.41 L1263.24 689.267 L1241.91 689.267 Q1236.85 689.267 1234.34 691.24 Q1231.82 693.214 1231.82 697.16 Q1231.82 701.903 1234.85 704.64 Q1237.87 707.377 1243.09 707.377 L1263.24 707.377 L1263.24 713.266 L1227.59 713.266 L1227.59 707.377 L1233.13 707.377 Q1229.91 705.277 1228.32 702.444 Q1226.73 699.579 1226.73 695.855 Q1226.73 689.712 1230.55 686.561 Q1234.34 683.41 1241.72 683.41 Z\" fill=\"#000000\" fill-rule=\"nonzero\" fill-opacity=\"1\" /><path clip-path=\"url(#clip510)\" d=\"M1231.7 657.916 Q1231.7 662.626 1235.39 665.364 Q1239.05 668.101 1245.45 668.101 Q1251.84 668.101 1255.54 665.395 Q1259.2 662.658 1259.2 657.916 Q1259.2 653.237 1255.5 650.5 Q1251.81 647.762 1245.45 647.762 Q1239.11 647.762 1235.42 650.5 Q1231.7 653.237 1231.7 657.916 M1226.73 657.916 Q1226.73 650.277 1231.7 645.916 Q1236.66 641.556 1245.45 641.556 Q1254.2 641.556 1259.2 645.916 Q1264.16 650.277 1264.16 657.916 Q1264.16 665.586 1259.2 669.947 Q1254.2 674.276 1245.45 674.276 Q1236.66 674.276 1231.7 669.947 Q1226.73 665.586 1226.73 657.916 Z\" fill=\"#000000\" fill-rule=\"nonzero\" fill-opacity=\"1\" /><path clip-path=\"url(#clip510)\" d=\"M1233.06 611.191 Q1232.49 612.178 1232.24 613.356 Q1231.95 614.502 1231.95 615.902 Q1231.95 620.867 1235.2 623.541 Q1238.41 626.183 1244.46 626.183 L1263.24 626.183 L1263.24 632.071 L1227.59 632.071 L1227.59 626.183 L1233.13 626.183 Q1229.88 624.337 1228.32 621.377 Q1226.73 618.417 1226.73 614.183 Q1226.73 613.579 1226.83 612.847 Q1226.89 612.114 1227.05 611.223 L1233.06 611.191 Z\" fill=\"#000000\" fill-rule=\"nonzero\" fill-opacity=\"1\" /><path clip-path=\"url(#clip510)\" d=\"M1234.43 578.44 Q1230.49 576.244 1228.61 573.188 Q1226.73 570.133 1226.73 565.995 Q1226.73 560.425 1230.65 557.401 Q1234.53 554.378 1241.72 554.378 L1263.24 554.378 L1263.24 560.266 L1241.91 560.266 Q1236.79 560.266 1234.31 562.08 Q1231.82 563.894 1231.82 567.618 Q1231.82 572.17 1234.85 574.811 Q1237.87 577.453 1243.09 577.453 L1263.24 577.453 L1263.24 583.341 L1241.91 583.341 Q1236.76 583.341 1234.31 585.156 Q1231.82 586.97 1231.82 590.758 Q1231.82 595.245 1234.88 597.887 Q1237.9 600.529 1243.09 600.529 L1263.24 600.529 L1263.24 606.417 L1227.59 606.417 L1227.59 600.529 L1233.13 600.529 Q1229.85 598.524 1228.29 595.723 Q1226.73 592.922 1226.73 589.071 Q1226.73 585.188 1228.7 582.482 Q1230.68 579.745 1234.43 578.44 Z\" fill=\"#000000\" fill-rule=\"nonzero\" fill-opacity=\"1\" /><path clip-path=\"url(#clip510)\" d=\"M1524.76 16.7545 L1524.76 25.383 Q1520.63 21.5346 1515.93 19.6307 Q1511.27 17.7268 1506 17.7268 Q1495.63 17.7268 1490.12 24.0867 Q1484.61 30.4061 1484.61 42.3968 Q1484.61 54.3469 1490.12 60.7069 Q1495.63 67.0263 1506 67.0263 Q1511.27 67.0263 1515.93 65.1223 Q1520.63 63.2184 1524.76 59.3701 L1524.76 67.9175 Q1520.46 70.8341 1515.64 72.2924 Q1510.86 73.7508 1505.52 73.7508 Q1491.78 73.7508 1483.88 65.3654 Q1475.98 56.9395 1475.98 42.3968 Q1475.98 27.8135 1483.88 19.4281 Q1491.78 11.0023 1505.52 11.0023 Q1510.94 11.0023 1515.72 12.4606 Q1520.54 13.8784 1524.76 16.7545 Z\" fill=\"#000000\" fill-rule=\"nonzero\" fill-opacity=\"1\" /><path clip-path=\"url(#clip510)\" d=\"M1554.65 32.4315 Q1548.66 32.4315 1545.17 37.1306 Q1541.69 41.7891 1541.69 49.9314 Q1541.69 58.0738 1545.13 62.7728 Q1548.62 67.4314 1554.65 67.4314 Q1560.61 67.4314 1564.09 62.7323 Q1567.58 58.0333 1567.58 49.9314 Q1567.58 41.8701 1564.09 37.1711 Q1560.61 32.4315 1554.65 32.4315 M1554.65 26.1121 Q1564.38 26.1121 1569.92 32.4315 Q1575.47 38.7509 1575.47 49.9314 Q1575.47 61.0714 1569.92 67.4314 Q1564.38 73.7508 1554.65 73.7508 Q1544.89 73.7508 1539.34 67.4314 Q1533.83 61.0714 1533.83 49.9314 Q1533.83 38.7509 1539.34 32.4315 Q1544.89 26.1121 1554.65 26.1121 Z\" fill=\"#000000\" fill-rule=\"nonzero\" fill-opacity=\"1\" /><path clip-path=\"url(#clip510)\" d=\"M1625.54 45.1919 L1625.54 72.576 L1618.09 72.576 L1618.09 45.4349 Q1618.09 38.994 1615.58 35.7938 Q1613.07 32.5936 1608.04 32.5936 Q1602.01 32.5936 1598.52 36.4419 Q1595.04 40.2903 1595.04 46.9338 L1595.04 72.576 L1587.55 72.576 L1587.55 27.2059 L1595.04 27.2059 L1595.04 34.2544 Q1597.71 30.163 1601.32 28.1376 Q1604.97 26.1121 1609.7 26.1121 Q1617.52 26.1121 1621.53 30.9732 Q1625.54 35.7938 1625.54 45.1919 Z\" fill=\"#000000\" fill-rule=\"nonzero\" fill-opacity=\"1\" /><path clip-path=\"url(#clip510)\" d=\"M1635.06 27.2059 L1642.96 27.2059 L1657.14 65.2844 L1671.32 27.2059 L1679.22 27.2059 L1662.2 72.576 L1652.08 72.576 L1635.06 27.2059 Z\" fill=\"#000000\" fill-rule=\"nonzero\" fill-opacity=\"1\" /><path clip-path=\"url(#clip510)\" d=\"M1728.32 48.0275 L1728.32 51.6733 L1694.04 51.6733 Q1694.53 59.3701 1698.66 63.421 Q1702.84 67.4314 1710.25 67.4314 Q1714.54 67.4314 1718.55 66.3781 Q1722.6 65.3249 1726.57 63.2184 L1726.57 70.267 Q1722.56 71.9684 1718.35 72.8596 Q1714.14 73.7508 1709.8 73.7508 Q1698.95 73.7508 1692.59 67.4314 Q1686.27 61.1119 1686.27 50.3365 Q1686.27 39.1965 1692.26 32.6746 Q1698.3 26.1121 1708.51 26.1121 Q1717.66 26.1121 1722.97 32.0264 Q1728.32 37.9003 1728.32 48.0275 M1720.86 45.84 Q1720.78 39.7232 1717.42 36.0774 Q1714.1 32.4315 1708.59 32.4315 Q1702.35 32.4315 1698.58 35.9558 Q1694.85 39.4801 1694.29 45.8805 L1720.86 45.84 Z\" fill=\"#000000\" fill-rule=\"nonzero\" fill-opacity=\"1\" /><path clip-path=\"url(#clip510)\" d=\"M1766.84 34.1734 Q1765.58 33.4443 1764.08 33.1202 Q1762.63 32.7556 1760.84 32.7556 Q1754.52 32.7556 1751.12 36.8875 Q1747.76 40.9789 1747.76 48.6757 L1747.76 72.576 L1740.27 72.576 L1740.27 27.2059 L1747.76 27.2059 L1747.76 34.2544 Q1750.11 30.1225 1753.88 28.1376 Q1757.64 26.1121 1763.03 26.1121 Q1763.8 26.1121 1764.73 26.2337 Q1765.66 26.3147 1766.8 26.5172 L1766.84 34.1734 Z\" fill=\"#000000\" fill-rule=\"nonzero\" fill-opacity=\"1\" /><path clip-path=\"url(#clip510)\" d=\"M1803.05 49.3643 Q1803.05 41.2625 1799.69 36.8065 Q1796.37 32.3505 1790.33 32.3505 Q1784.34 32.3505 1780.98 36.8065 Q1777.66 41.2625 1777.66 49.3643 Q1777.66 57.4256 1780.98 61.8816 Q1784.34 66.3376 1790.33 66.3376 Q1796.37 66.3376 1799.69 61.8816 Q1803.05 57.4256 1803.05 49.3643 M1810.51 66.9452 Q1810.51 78.5308 1805.36 84.1616 Q1800.22 89.8329 1789.61 89.8329 Q1785.68 89.8329 1782.19 89.2252 Q1778.71 88.6581 1775.43 87.4428 L1775.43 80.1917 Q1778.71 81.9741 1781.91 82.8248 Q1785.11 83.6755 1788.43 83.6755 Q1795.76 83.6755 1799.41 79.8271 Q1803.05 76.0193 1803.05 68.282 L1803.05 64.5957 Q1800.75 68.6061 1797.14 70.5911 Q1793.53 72.576 1788.51 72.576 Q1780.17 72.576 1775.06 66.2161 Q1769.96 59.8562 1769.96 49.3643 Q1769.96 38.832 1775.06 32.472 Q1780.17 26.1121 1788.51 26.1121 Q1793.53 26.1121 1797.14 28.0971 Q1800.75 30.082 1803.05 34.0924 L1803.05 27.2059 L1810.51 27.2059 L1810.51 66.9452 Z\" fill=\"#000000\" fill-rule=\"nonzero\" fill-opacity=\"1\" /><path clip-path=\"url(#clip510)\" d=\"M1864.67 48.0275 L1864.67 51.6733 L1830.4 51.6733 Q1830.88 59.3701 1835.02 63.421 Q1839.19 67.4314 1846.6 67.4314 Q1850.9 67.4314 1854.91 66.3781 Q1858.96 65.3249 1862.93 63.2184 L1862.93 70.267 Q1858.92 71.9684 1854.7 72.8596 Q1850.49 73.7508 1846.16 73.7508 Q1835.3 73.7508 1828.94 67.4314 Q1822.62 61.1119 1822.62 50.3365 Q1822.62 39.1965 1828.62 32.6746 Q1834.65 26.1121 1844.86 26.1121 Q1854.01 26.1121 1859.32 32.0264 Q1864.67 37.9003 1864.67 48.0275 M1857.22 45.84 Q1857.13 39.7232 1853.77 36.0774 Q1850.45 32.4315 1844.94 32.4315 Q1838.7 32.4315 1834.94 35.9558 Q1831.21 39.4801 1830.64 45.8805 L1857.22 45.84 Z\" fill=\"#000000\" fill-rule=\"nonzero\" fill-opacity=\"1\" /><path clip-path=\"url(#clip510)\" d=\"M1914.62 45.1919 L1914.62 72.576 L1907.16 72.576 L1907.16 45.4349 Q1907.16 38.994 1904.65 35.7938 Q1902.14 32.5936 1897.12 32.5936 Q1891.08 32.5936 1887.6 36.4419 Q1884.11 40.2903 1884.11 46.9338 L1884.11 72.576 L1876.62 72.576 L1876.62 27.2059 L1884.11 27.2059 L1884.11 34.2544 Q1886.79 30.163 1890.39 28.1376 Q1894.04 26.1121 1898.78 26.1121 Q1906.6 26.1121 1910.61 30.9732 Q1914.62 35.7938 1914.62 45.1919 Z\" fill=\"#000000\" fill-rule=\"nonzero\" fill-opacity=\"1\" /><path clip-path=\"url(#clip510)\" d=\"M1962.13 28.9478 L1962.13 35.9153 Q1958.97 34.1734 1955.77 33.3227 Q1952.61 32.4315 1949.37 32.4315 Q1942.12 32.4315 1938.11 37.0496 Q1934.1 41.6271 1934.1 49.9314 Q1934.1 58.2358 1938.11 62.8538 Q1942.12 67.4314 1949.37 67.4314 Q1952.61 67.4314 1955.77 66.5807 Q1958.97 65.6895 1962.13 63.9476 L1962.13 70.8341 Q1959.01 72.2924 1955.65 73.0216 Q1952.33 73.7508 1948.56 73.7508 Q1938.31 73.7508 1932.28 67.3098 Q1926.24 60.8689 1926.24 49.9314 Q1926.24 38.832 1932.32 32.472 Q1938.44 26.1121 1949.05 26.1121 Q1952.49 26.1121 1955.77 26.8413 Q1959.05 27.5299 1962.13 28.9478 Z\" fill=\"#000000\" fill-rule=\"nonzero\" fill-opacity=\"1\" /><path clip-path=\"url(#clip510)\" d=\"M2013.9 48.0275 L2013.9 51.6733 L1979.63 51.6733 Q1980.12 59.3701 1984.25 63.421 Q1988.42 67.4314 1995.84 67.4314 Q2000.13 67.4314 2004.14 66.3781 Q2008.19 65.3249 2012.16 63.2184 L2012.16 70.267 Q2008.15 71.9684 2003.94 72.8596 Q1999.73 73.7508 1995.39 73.7508 Q1984.54 73.7508 1978.18 67.4314 Q1971.86 61.1119 1971.86 50.3365 Q1971.86 39.1965 1977.85 32.6746 Q1983.89 26.1121 1994.1 26.1121 Q2003.25 26.1121 2008.56 32.0264 Q2013.9 37.9003 2013.9 48.0275 M2006.45 45.84 Q2006.37 39.7232 2003.01 36.0774 Q1999.69 32.4315 1994.18 32.4315 Q1987.94 32.4315 1984.17 35.9558 Q1980.44 39.4801 1979.88 45.8805 L2006.45 45.84 Z\" fill=\"#000000\" fill-rule=\"nonzero\" fill-opacity=\"1\" /><path clip-path=\"url(#clip510)\" d=\"M2090.22 45.1919 L2090.22 72.576 L2082.77 72.576 L2082.77 45.4349 Q2082.77 38.994 2080.26 35.7938 Q2077.75 32.5936 2072.72 32.5936 Q2066.69 32.5936 2063.2 36.4419 Q2059.72 40.2903 2059.72 46.9338 L2059.72 72.576 L2052.23 72.576 L2052.23 9.54393 L2059.72 9.54393 L2059.72 34.2544 Q2062.39 30.163 2066 28.1376 Q2069.64 26.1121 2074.38 26.1121 Q2082.2 26.1121 2086.21 30.9732 Q2090.22 35.7938 2090.22 45.1919 Z\" fill=\"#000000\" fill-rule=\"nonzero\" fill-opacity=\"1\" /><path clip-path=\"url(#clip510)\" d=\"M2105.09 27.2059 L2112.54 27.2059 L2112.54 72.576 L2105.09 72.576 L2105.09 27.2059 M2105.09 9.54393 L2112.54 9.54393 L2112.54 18.9825 L2105.09 18.9825 L2105.09 9.54393 Z\" fill=\"#000000\" fill-rule=\"nonzero\" fill-opacity=\"1\" /><path clip-path=\"url(#clip510)\" d=\"M2157.06 28.5427 L2157.06 35.5912 Q2153.9 33.9709 2150.5 33.1607 Q2147.1 32.3505 2143.45 32.3505 Q2137.9 32.3505 2135.11 34.0519 Q2132.35 35.7533 2132.35 39.156 Q2132.35 41.7486 2134.34 43.2475 Q2136.32 44.7058 2142.32 46.0426 L2144.87 46.6097 Q2152.81 48.3111 2156.13 51.4303 Q2159.49 54.509 2159.49 60.0587 Q2159.49 66.3781 2154.47 70.0644 Q2149.49 73.7508 2140.74 73.7508 Q2137.09 73.7508 2133.12 73.0216 Q2129.19 72.3329 2124.82 70.9151 L2124.82 63.2184 Q2128.95 65.3654 2132.96 66.4591 Q2136.97 67.5124 2140.9 67.5124 Q2146.17 67.5124 2149 65.73 Q2151.84 63.9071 2151.84 60.6258 Q2151.84 57.5877 2149.77 55.9673 Q2147.75 54.3469 2140.82 52.8481 L2138.23 52.2405 Q2131.3 50.7821 2128.22 47.7845 Q2125.14 44.7463 2125.14 39.4801 Q2125.14 33.0797 2129.68 29.5959 Q2134.22 26.1121 2142.56 26.1121 Q2146.69 26.1121 2150.34 26.7198 Q2153.98 27.3274 2157.06 28.5427 Z\" fill=\"#000000\" fill-rule=\"nonzero\" fill-opacity=\"1\" /><path clip-path=\"url(#clip510)\" d=\"M2178.74 14.324 L2178.74 27.2059 L2194.09 27.2059 L2194.09 32.9987 L2178.74 32.9987 L2178.74 57.6282 Q2178.74 63.1779 2180.23 64.7578 Q2181.77 66.3376 2186.43 66.3376 L2194.09 66.3376 L2194.09 72.576 L2186.43 72.576 Q2177.8 72.576 2174.52 69.3758 Q2171.24 66.1351 2171.24 57.6282 L2171.24 32.9987 L2165.77 32.9987 L2165.77 27.2059 L2171.24 27.2059 L2171.24 14.324 L2178.74 14.324 Z\" fill=\"#000000\" fill-rule=\"nonzero\" fill-opacity=\"1\" /><path clip-path=\"url(#clip510)\" d=\"M2221.47 32.4315 Q2215.48 32.4315 2211.99 37.1306 Q2208.51 41.7891 2208.51 49.9314 Q2208.51 58.0738 2211.95 62.7728 Q2215.44 67.4314 2221.47 67.4314 Q2227.43 67.4314 2230.91 62.7323 Q2234.39 58.0333 2234.39 49.9314 Q2234.39 41.8701 2230.91 37.1711 Q2227.43 32.4315 2221.47 32.4315 M2221.47 26.1121 Q2231.19 26.1121 2236.74 32.4315 Q2242.29 38.7509 2242.29 49.9314 Q2242.29 61.0714 2236.74 67.4314 Q2231.19 73.7508 2221.47 73.7508 Q2211.71 73.7508 2206.16 67.4314 Q2200.65 61.0714 2200.65 49.9314 Q2200.65 38.7509 2206.16 32.4315 Q2211.71 26.1121 2221.47 26.1121 Z\" fill=\"#000000\" fill-rule=\"nonzero\" fill-opacity=\"1\" /><path clip-path=\"url(#clip510)\" d=\"M2280.94 34.1734 Q2279.68 33.4443 2278.19 33.1202 Q2276.73 32.7556 2274.94 32.7556 Q2268.62 32.7556 2265.22 36.8875 Q2261.86 40.9789 2261.86 48.6757 L2261.86 72.576 L2254.37 72.576 L2254.37 27.2059 L2261.86 27.2059 L2261.86 34.2544 Q2264.21 30.1225 2267.98 28.1376 Q2271.74 26.1121 2277.13 26.1121 Q2277.9 26.1121 2278.83 26.2337 Q2279.76 26.3147 2280.9 26.5172 L2280.94 34.1734 Z\" fill=\"#000000\" fill-rule=\"nonzero\" fill-opacity=\"1\" /><path clip-path=\"url(#clip510)\" d=\"M2307.64 76.7889 Q2304.48 84.8907 2301.48 87.3618 Q2298.48 89.8329 2293.46 89.8329 L2287.5 89.8329 L2287.5 83.5945 L2291.88 83.5945 Q2294.96 83.5945 2296.66 82.1361 Q2298.36 80.6778 2300.42 75.2496 L2301.76 71.8468 L2283.41 27.2059 L2291.31 27.2059 L2305.49 62.6918 L2319.67 27.2059 L2327.57 27.2059 L2307.64 76.7889 Z\" fill=\"#000000\" fill-rule=\"nonzero\" fill-opacity=\"1\" /><polyline clip-path=\"url(#clip513)\" style=\"stroke:#009af9; stroke-linecap:round; stroke-linejoin:round; stroke-width:8; stroke-opacity:1; fill:none\" points=\"1476.32,160.256 1689.05,456.99 1901.78,740.706 2114.5,1089.43 2327.23,1386.4 \"/>\n",
       "</svg>\n"
      ]
     },
     "execution_count": 30,
     "metadata": {},
     "output_type": "execute_result"
    }
   ],
   "source": [
    "mesh = genMesh(100); A = genStiffMat(mesh); f = genVector(mesh,fsource);\n",
    "\n",
    "A     = sparse(A)\n",
    "#A     = A*A; # bi-harmonic \n",
    "prec  = ilu(A, τ = 0.1)\n",
    "prec  = Diagonal(A);\n",
    "prec  = AMGPreconditioner{RugeStuben}(A)\n",
    "u, ch = cg(A, f, Pl=prec, maxiter=100000, log=true)\n",
    "\n",
    "display(ch)\n",
    "\n",
    "p1=plot(mesh.Nodes,u,shape=:circle,lw=2,legend=false)\n",
    "xlabel!(\"x\") \n",
    "ylabel!(\"u(x)\")\n",
    "title!(\"Numerically computed solution\")\n",
    "\n",
    "p2=plot(ch[:resnorm], yaxis=:log,lw=2,legend=false)\n",
    "xlabel!(\"number of iterations\") \n",
    "ylabel!(\"residual norm\")\n",
    "title!(\"Convergence history\")\n",
    "\n",
    "plot(p1,p2)"
   ]
  },
  {
   "cell_type": "markdown",
   "metadata": {},
   "source": [
    "We explain the succes (failure) of the Ruge-Stueben approach to AMG applied to Poisson (bi-harmonic) by showing that the inverse of the matrix is positive (is not positive) element-wise. The matrix is thus (fails to be) a so-called [M-matrix](https://en.wikipedia.org/wiki/M-matrix).  "
   ]
  },
  {
   "cell_type": "code",
   "execution_count": 31,
   "metadata": {},
   "outputs": [
    {
     "data": {
      "text/plain": [
       "10201"
      ]
     },
     "execution_count": 31,
     "metadata": {},
     "output_type": "execute_result"
    }
   ],
   "source": [
    "# A     = A*A\n",
    "B = inv(Matrix(A))\n",
    "sum(B .>= 0)"
   ]
  },
  {
   "cell_type": "code",
   "execution_count": 37,
   "metadata": {},
   "outputs": [
    {
     "name": "stdout",
     "output_type": "stream",
     "text": [
      "AMGPreconditioner{RugeStuben, AlgebraicMultigrid.MultiLevel{AlgebraicMultigrid.Pinv{Float64}, AlgebraicMultigrid.GaussSeidel{AlgebraicMultigrid.SymmetricSweep}, AlgebraicMultigrid.GaussSeidel{AlgebraicMultigrid.SymmetricSweep}, SparseMatrixCSC{Float64, Int64}, Adjoint{Float64, SparseMatrixCSC{Float64, Int64}}, SparseMatrixCSC{Float64, Int64}, AlgebraicMultigrid.MultiLevelWorkspace{Vector{Float64}, 1}}, AlgebraicMultigrid.V}\n",
      "  ml: AlgebraicMultigrid.MultiLevel{AlgebraicMultigrid.Pinv{Float64}, AlgebraicMultigrid.GaussSeidel{AlgebraicMultigrid.SymmetricSweep}, AlgebraicMultigrid.GaussSeidel{AlgebraicMultigrid.SymmetricSweep}, SparseMatrixCSC{Float64, Int64}, Adjoint{Float64, SparseMatrixCSC{Float64, Int64}}, SparseMatrixCSC{Float64, Int64}, AlgebraicMultigrid.MultiLevelWorkspace{Vector{Float64}, 1}}\n",
      "    levels: Array{AlgebraicMultigrid.Level{SparseMatrixCSC{Float64, Int64}, Adjoint{Float64, SparseMatrixCSC{Float64, Int64}}, SparseMatrixCSC{Float64, Int64}}}((4,))\n",
      "      1: AlgebraicMultigrid.Level{SparseMatrixCSC{Float64, Int64}, Adjoint{Float64, SparseMatrixCSC{Float64, Int64}}, SparseMatrixCSC{Float64, Int64}}\n",
      "        A: SparseMatrixCSC{Float64, Int64}\n",
      "          m: Int64 101\n",
      "          n: Int64 101\n",
      "          colptr: Array{Int64}((102,)) [1, 3, 6, 9, 12, 15, 18, 21, 24, 27  …  276, 279, 282, 285, 288, 291, 294, 297, 300, 302]\n",
      "          rowval: Array{Int64}((301,)) [1, 2, 1, 2, 3, 2, 3, 4, 3, 4  …  98, 99, 98, 99, 100, 99, 100, 101, 100, 101]\n",
      "          nzval: Array{Float64}((301,)) [20000.0, -10000.0, -10000.0, 20000.0, -10000.0, -10000.0, 20000.0, -10000.0, -10000.0, 20000.0  …  20000.0, -10000.0, -10000.0, 20000.0, -10000.0, -10000.0, 20000.0, -10000.0, -10000.0, 20000.0]\n",
      "        P: Adjoint{Float64, SparseMatrixCSC{Float64, Int64}}\n",
      "          parent: SparseMatrixCSC{Float64, Int64}\n",
      "            m: Int64 50\n",
      "            n: Int64 101\n",
      "            colptr: Array{Int64}((102,)) [1, 2, 3, 5, 6, 8, 9, 11, 12, 14  …  138, 140, 141, 143, 144, 146, 147, 149, 150, 151]\n",
      "            rowval: Array{Int64}((150,)) [1, 1, 1, 2, 2, 2, 3, 3, 3, 4  …  47, 48, 48, 48, 49, 49, 49, 50, 50, 50]\n",
      "            nzval: Array{Float64}((150,)) [0.5, 1.0, 0.5, 0.5, 1.0, 0.5, 0.5, 1.0, 0.5, 0.5  …  0.5, 0.5, 1.0, 0.5, 0.5, 1.0, 0.5, 0.5, 1.0, 0.5]\n",
      "        R: SparseMatrixCSC{Float64, Int64}\n",
      "          m: Int64 50\n",
      "          n: Int64 101\n",
      "          colptr: Array{Int64}((102,)) [1, 2, 3, 5, 6, 8, 9, 11, 12, 14  …  138, 140, 141, 143, 144, 146, 147, 149, 150, 151]\n",
      "          rowval: Array{Int64}((150,)) [1, 1, 1, 2, 2, 2, 3, 3, 3, 4  …  47, 48, 48, 48, 49, 49, 49, 50, 50, 50]\n",
      "          nzval: Array{Float64}((150,)) [0.5, 1.0, 0.5, 0.5, 1.0, 0.5, 0.5, 1.0, 0.5, 0.5  …  0.5, 0.5, 1.0, 0.5, 0.5, 1.0, 0.5, 0.5, 1.0, 0.5]\n",
      "      2: AlgebraicMultigrid.Level{SparseMatrixCSC{Float64, Int64}, Adjoint{Float64, SparseMatrixCSC{Float64, Int64}}, SparseMatrixCSC{Float64, Int64}}\n",
      "        A: SparseMatrixCSC{Float64, Int64}\n",
      "          m: Int64 50\n",
      "          n: Int64 50\n",
      "          colptr: Array{Int64}((51,)) [1, 3, 6, 9, 12, 15, 18, 21, 24, 27  …  123, 126, 129, 132, 135, 138, 141, 144, 147, 149]\n",
      "          rowval: Array{Int64}((148,)) [1, 2, 1, 2, 3, 2, 3, 4, 3, 4  …  47, 48, 47, 48, 49, 48, 49, 50, 49, 50]\n",
      "          nzval: Array{Float64}((148,)) [10000.0, -5000.0, -5000.0, 10000.0, -5000.0, -5000.0, 10000.0, -5000.0, -5000.0, 10000.0  …  10000.0, -5000.0, -5000.0, 10000.0, -5000.0, -5000.0, 10000.0, -5000.0, -5000.0, 10000.0]\n",
      "        P: Adjoint{Float64, SparseMatrixCSC{Float64, Int64}}\n",
      "          parent: SparseMatrixCSC{Float64, Int64}\n",
      "            m: Int64 25\n",
      "            n: Int64 50\n",
      "            colptr: Array{Int64}((51,)) [1, 2, 4, 5, 7, 8, 10, 11, 13, 14  …  62, 64, 65, 67, 68, 70, 71, 73, 74, 75]\n",
      "            rowval: Array{Int64}((74,)) [1, 1, 2, 2, 2, 3, 3, 3, 4, 4  …  22, 23, 23, 23, 24, 24, 24, 25, 25, 25]\n",
      "            nzval: Array{Float64}((74,)) [1.0, 0.5, 0.5, 1.0, 0.5, 0.5, 1.0, 0.5, 0.5, 1.0  …  0.5, 0.5, 1.0, 0.5, 0.5, 1.0, 0.5, 0.5, 1.0, 0.5]\n",
      "        R: SparseMatrixCSC{Float64, Int64}\n",
      "          m: Int64 25\n",
      "          n: Int64 50\n",
      "          colptr: Array{Int64}((51,)) [1, 2, 4, 5, 7, 8, 10, 11, 13, 14  …  62, 64, 65, 67, 68, 70, 71, 73, 74, 75]\n",
      "          rowval: Array{Int64}((74,)) [1, 1, 2, 2, 2, 3, 3, 3, 4, 4  …  22, 23, 23, 23, 24, 24, 24, 25, 25, 25]\n",
      "          nzval: Array{Float64}((74,)) [1.0, 0.5, 0.5, 1.0, 0.5, 0.5, 1.0, 0.5, 0.5, 1.0  …  0.5, 0.5, 1.0, 0.5, 0.5, 1.0, 0.5, 0.5, 1.0, 0.5]\n",
      "      3: AlgebraicMultigrid.Level{SparseMatrixCSC{Float64, Int64}, Adjoint{Float64, SparseMatrixCSC{Float64, Int64}}, SparseMatrixCSC{Float64, Int64}}\n",
      "        A: SparseMatrixCSC{Float64, Int64}\n",
      "          m: Int64 25\n",
      "          n: Int64 25\n",
      "          colptr: Array{Int64}((26,)) [1, 3, 6, 9, 12, 15, 18, 21, 24, 27  …  48, 51, 54, 57, 60, 63, 66, 69, 72, 74]\n",
      "          rowval: Array{Int64}((73,)) [1, 2, 1, 2, 3, 2, 3, 4, 3, 4  …  22, 23, 22, 23, 24, 23, 24, 25, 24, 25]\n",
      "          nzval: Array{Float64}((73,)) [7500.0, -2500.0, -2500.0, 5000.0, -2500.0, -2500.0, 5000.0, -2500.0, -2500.0, 5000.0  …  5000.0, -2500.0, -2500.0, 5000.0, -2500.0, -2500.0, 5000.0, -2500.0, -2500.0, 5000.0]\n",
      "        P: Adjoint{Float64, SparseMatrixCSC{Float64, Int64}}\n",
      "          parent: SparseMatrixCSC{Float64, Int64}\n",
      "            m: Int64 12\n",
      "            n: Int64 25\n",
      "            colptr: Array{Int64}((26,)) [1, 2, 3, 5, 6, 8, 9, 11, 12, 14  …  24, 26, 27, 29, 30, 32, 33, 35, 36, 37]\n",
      "            rowval: Array{Int64}((36,)) [1, 1, 1, 2, 2, 2, 3, 3, 3, 4  …  9, 10, 10, 10, 11, 11, 11, 12, 12, 12]\n",
      "            nzval: Array{Float64}((36,)) [0.33333333333333337, 1.0, 0.5, 0.5, 1.0, 0.5, 0.5, 1.0, 0.5, 0.5  …  0.5, 0.5, 1.0, 0.5, 0.5, 1.0, 0.5, 0.5, 1.0, 0.5]\n",
      "        R: SparseMatrixCSC{Float64, Int64}\n",
      "          m: Int64 12\n",
      "          n: Int64 25\n",
      "          colptr: Array{Int64}((26,)) [1, 2, 3, 5, 6, 8, 9, 11, 12, 14  …  24, 26, 27, 29, 30, 32, 33, 35, 36, 37]\n",
      "          rowval: Array{Int64}((36,)) [1, 1, 1, 2, 2, 2, 3, 3, 3, 4  …  9, 10, 10, 10, 11, 11, 11, 12, 12, 12]\n",
      "          nzval: Array{Float64}((36,)) [0.33333333333333337, 1.0, 0.5, 0.5, 1.0, 0.5, 0.5, 1.0, 0.5, 0.5  …  0.5, 0.5, 1.0, 0.5, 0.5, 1.0, 0.5, 0.5, 1.0, 0.5]\n",
      "      4: AlgebraicMultigrid.Level{SparseMatrixCSC{Float64, Int64}, Adjoint{Float64, SparseMatrixCSC{Float64, Int64}}, SparseMatrixCSC{Float64, Int64}}\n",
      "        A: SparseMatrixCSC{Float64, Int64}\n",
      "          m: Int64 12\n",
      "          n: Int64 12\n",
      "          colptr: Array{Int64}((13,)) [1, 3, 6, 9, 12, 15, 18, 21, 24, 27, 30, 33, 35]\n",
      "          rowval: Array{Int64}((34,)) [1, 2, 1, 2, 3, 2, 3, 4, 3, 4  …  9, 10, 9, 10, 11, 10, 11, 12, 11, 12]\n",
      "          nzval: Array{Float64}((34,)) [2916.666666666667, -1250.0, -1250.0, 2500.0, -1250.0, -1250.0, 2500.0, -1250.0, -1250.0, 2500.0  …  2500.0, -1250.0, -1250.0, 2500.0, -1250.0, -1250.0, 2500.0, -1250.0, -1250.0, 2500.0]\n",
      "        P: Adjoint{Float64, SparseMatrixCSC{Float64, Int64}}\n",
      "          parent: SparseMatrixCSC{Float64, Int64}\n",
      "            m: Int64 6\n",
      "            n: Int64 12\n",
      "            colptr: Array{Int64}((13,)) [1, 2, 4, 5, 7, 8, 10, 11, 13, 14, 16, 17, 18]\n",
      "            rowval: Array{Int64}((17,)) [1, 1, 2, 2, 2, 3, 3, 3, 4, 4, 4, 5, 5, 5, 6, 6, 6]\n",
      "            nzval: Array{Float64}((17,)) [1.0, 0.5, 0.5, 1.0, 0.5, 0.5, 1.0, 0.5, 0.5, 1.0, 0.5, 0.5, 1.0, 0.5, 0.5, 1.0, 0.5]\n",
      "        R: SparseMatrixCSC{Float64, Int64}\n",
      "          m: Int64 6\n",
      "          n: Int64 12\n",
      "          colptr: Array{Int64}((13,)) [1, 2, 4, 5, 7, 8, 10, 11, 13, 14, 16, 17, 18]\n",
      "          rowval: Array{Int64}((17,)) [1, 1, 2, 2, 2, 3, 3, 3, 4, 4, 4, 5, 5, 5, 6, 6, 6]\n",
      "          nzval: Array{Float64}((17,)) [1.0, 0.5, 0.5, 1.0, 0.5, 0.5, 1.0, 0.5, 0.5, 1.0, 0.5, 0.5, 1.0, 0.5, 0.5, 1.0, 0.5]\n",
      "    final_A: SparseMatrixCSC{Float64, Int64}\n",
      "      m: Int64 6\n",
      "      n: Int64 6\n",
      "      colptr: Array{Int64}((7,)) [1, 3, 6, 9, 12, 15, 17]\n",
      "      rowval: Array{Int64}((16,)) [1, 2, 1, 2, 3, 2, 3, 4, 3, 4, 5, 4, 5, 6, 5, 6]\n",
      "      nzval: Array{Float64}((16,)) [2291.666666666667, -625.0, -625.0, 1250.0, -625.0, -625.0, 1250.0, -625.0, -625.0, 1250.0, -625.0, -625.0, 1250.0, -625.0, -625.0, 1250.0]\n",
      "    coarse_solver: AlgebraicMultigrid.Pinv{Float64}\n",
      "      pinvA: Array{Float64}((6, 6)) [0.0005647058823529411 0.00047058823529411777 … 0.00018823529411764688 9.411764705882356e-5; 0.0004705882352941178 0.0017254901960784314 … 0.0006901960784313719 0.0003450980392156862; … ; 0.00018823529411764683 0.000690196078431372 … 0.002196078431372548 0.0010980392156862743; 9.411764705882337e-5 0.0003450980392156861 … 0.0010980392156862734 0.0013490196078431368]\n",
      "    presmoother: AlgebraicMultigrid.GaussSeidel{AlgebraicMultigrid.SymmetricSweep}\n",
      "      sweep: AlgebraicMultigrid.SymmetricSweep AlgebraicMultigrid.SymmetricSweep()\n",
      "      iter: Int64 1\n",
      "    postsmoother: AlgebraicMultigrid.GaussSeidel{AlgebraicMultigrid.SymmetricSweep}\n",
      "      sweep: AlgebraicMultigrid.SymmetricSweep AlgebraicMultigrid.SymmetricSweep()\n",
      "      iter: Int64 1\n",
      "    workspace: AlgebraicMultigrid.MultiLevelWorkspace{Vector{Float64}, 1}\n",
      "      coarse_xs: Array{Vector{Float64}}((4,))\n",
      "        1: Array{Float64}((50,)) [-1.3509592686872107e-11, -2.1859331954788128e-11, -1.8673424973980806e-11, -9.16619869882563e-12, -2.7171983657375284e-12, -1.6638757883538386e-12, -7.926408722479717e-12, -1.737583087449918e-11, -2.276599643310004e-11, -1.8539887347868268e-11  …  5.4001306376148543e-11, 5.3080798434090725e-11, 4.6741144682129244e-11, 3.227752891317383e-11, 2.51746306291029e-11, 2.4960982974993195e-11, 2.5290970613692096e-11, 2.2931148374659017e-11, 1.778396261512419e-11, 1.076610312405805e-11]\n",
      "        2: Array{Float64}((25,)) [-5.964720167857161e-12, -1.249569655551123e-11, -7.325061482554324e-12, -9.97081187670241e-12, -1.5672411980787666e-11, -1.0233865301301523e-11, -8.860264433875663e-12, -1.4679434117583738e-11, -2.600880285572e-11, -2.743779026351665e-11  …  1.1807012078661845e-11, 2.0582848980474216e-11, 2.5911414991347416e-11, 3.085071628987827e-11, 4.362375653029892e-11, 4.8544906981796285e-11, 4.236842567997961e-11, 2.95986799296827e-11, 2.35523854847075e-11, 1.470515042329608e-11]\n",
      "        3: Array{Float64}((12,)) [-6.00522210024459e-12, -9.938453079846556e-12, -1.2195003042015351e-11, -1.653215837240964e-11, -2.2297704795562832e-11, -1.7779510404389693e-11, -9.06679576414228e-12, 8.964140289288676e-12, 2.4489524313773495e-11, 3.6094740274857885e-11, 3.536243164304773e-11, 2.0361511440150046e-11]\n",
      "        4: Array{Float64}((6,)) [-3.279120325906026e-12, -1.0930028190510346e-11, -1.414180896729464e-11, -3.0541701894812408e-12, 1.7235556173912743e-11, 2.15775585206706e-11]\n",
      "      coarse_bs: Array{Vector{Float64}}((4,))\n",
      "        1: Array{Float64}((50,)) [-2.579926709478042e-8, -6.225872048607528e-8, -3.064545505404338e-8, 1.5850189403204812e-8, 2.6764201039175583e-8, 3.938830758449921e-8, 1.5845647795575347e-8, -2.2107399681079015e-8, -4.773315138503595e-8, -4.346833374472686e-8  …  6.978653006755718e-9, 2.992200257734411e-8, 4.008201774017038e-8, -3.8467556178732894e-8, -3.4267837203366526e-8, -3.393212376341244e-9, 1.3263712870578182e-8, 1.538378831987632e-8, 9.126641802019462e-9, 2.0087945843251345e-8]\n",
      "        2: Array{Float64}((25,)) [-1.3496159870150632e-8, -2.925092678019625e-8, 1.971010218583015e-8, 7.738151954867118e-9, -2.8751623824784407e-8, 1.0238618702469206e-8, 1.9186613027841044e-8, 1.3873730742935092e-8, -2.59261488815533e-8, -1.1973929728712338e-8  …  1.84859173236078e-8, 9.344242668762286e-9, 6.740265567056804e-10, -1.964639510244783e-8, 1.9393601456061845e-8, 3.0103075793177655e-8, 1.578607272784751e-8, -1.6719753894408834e-8, 6.880620298577623e-9, 1.554679355371173e-8]\n",
      "        3: Array{Float64}((12,)) [-5.0921647759051955e-9, -2.2472343849282966e-9, 2.7844733324237146e-9, 1.5213297905187029e-9, -1.2582044930868565e-8, -6.080949139272825e-9, -1.1564579079183177e-8, 3.2226250475890536e-9, 4.5036151458381275e-9, 1.685823464096687e-8, 1.7326288931953488e-8, 7.52807347132752e-9]\n",
      "        4: Array{Float64}((6,)) [-6.833831277990056e-10, -2.7744544298875053e-9, -8.937137221623555e-9, -5.751304740987859e-9, 9.967327510397564e-9, 1.6199725542142797e-8]\n",
      "      res_vecs: Array{Vector{Float64}}((5,))\n",
      "        1: Array{Float64}((101,)) [-6.7547963434360534e-12, -1.3509592686872107e-11, -1.768446232083012e-11, -2.1859331954788128e-11, -2.0266378464384467e-11, -1.8673424973980806e-11, -1.3919811836403217e-11, -9.16619869882563e-12, -5.941698532281579e-12, -2.7171983657375284e-12  …  2.4960982974993195e-11, 2.5125976794342646e-11, 2.5290970613692096e-11, 2.411105949417556e-11, 2.2931148374659017e-11, 2.0357555494891603e-11, 1.778396261512419e-11, 1.4275032869591119e-11, 1.076610312405805e-11, 5.383051562029025e-12]\n"
     ]
    },
    {
     "name": "stdout",
     "output_type": "stream",
     "text": [
      "        2: Array{Float64}((50,)) [-5.964720167857161e-12, -9.230208361684197e-12, -1.249569655551123e-11, -9.910379019032777e-12, -7.325061482554324e-12, -8.647936679628367e-12, -9.97081187670241e-12, -1.2821611928745037e-11, -1.5672411980787666e-11, -1.2953138641044596e-11  …  4.8544906981796285e-11, 4.545666633088795e-11, 4.236842567997961e-11, 3.598355280483116e-11, 2.95986799296827e-11, 2.65755327071951e-11, 2.35523854847075e-11, 1.912876795400179e-11, 1.470515042329608e-11, 7.35257521164804e-12]\n",
      "        3: Array{Float64}((25,)) [-2.0017407000815305e-12, -6.00522210024459e-12, -7.971837590045573e-12, -9.938453079846556e-12, -1.1066728060930953e-11, -1.2195003042015351e-11, -1.4363580707212496e-11, -1.653215837240964e-11, -1.9414931583986237e-11, -2.2297704795562832e-11  …  8.964140289288676e-12, 1.6726832301531086e-11, 2.4489524313773495e-11, 3.029213229431569e-11, 3.6094740274857885e-11, 3.5728585958952804e-11, 3.536243164304773e-11, 2.7861971541598886e-11, 2.0361511440150046e-11, 1.0180755720075023e-11]\n",
      "        4: Array{Float64}((12,)) [-3.279120325906026e-12, -7.104574258208187e-12, -1.0930028190510346e-11, -1.2535918578902492e-11, -1.414180896729464e-11, -8.597989578387941e-12, -3.0541701894812408e-12, 7.0906929922157515e-12, 1.7235556173912743e-11, 1.9406557347291674e-11, 2.15775585206706e-11, 1.07887792603353e-11]\n",
      "        5: Array{Float64}((6,)) [3.854e-321, 6.5e-322, 2.5976583536e-314, 3.864e-321, 6.5e-322, 2.597647097e-314]\n",
      "  cycle: AlgebraicMultigrid.V AlgebraicMultigrid.V()\n"
     ]
    }
   ],
   "source": [
    "dump(prec)"
   ]
  },
  {
   "cell_type": "markdown",
   "metadata": {},
   "source": [
    "## Section 5: Sandbox "
   ]
  },
  {
   "cell_type": "markdown",
   "metadata": {},
   "source": []
  },
  {
   "cell_type": "markdown",
   "metadata": {},
   "source": []
  },
  {
   "cell_type": "code",
   "execution_count": null,
   "metadata": {},
   "outputs": [],
   "source": []
  }
 ],
 "metadata": {
  "kernelspec": {
   "display_name": "Julia 1.8.1",
   "language": "julia",
   "name": "julia-1.8"
  },
  "language_info": {
   "file_extension": ".jl",
   "mimetype": "application/julia",
   "name": "julia",
   "version": "1.8.1"
  }
 },
 "nbformat": 4,
 "nbformat_minor": 2
}
