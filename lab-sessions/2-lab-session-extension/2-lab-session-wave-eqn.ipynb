{
 "cells": [
  {
   "cell_type": "markdown",
   "metadata": {},
   "source": [
    "# Finite Difference Method for the Wave Equation on the Unit Interval"
   ]
  },
  {
   "cell_type": "markdown",
   "metadata": {},
   "source": [
    "Here we solve the wave equation $\\frac{\\partial^2 \\, u}{\\partial t^2} = c^2 \\frac{\\partial^2 \\, u}{\\partial x^2}$ on the spatial domain $x \\in \\Omega=(0,1)$ and time domain $t \\in [0,T]$ supplied with homogeneous Dirichlet boundary conditions and initial conditions for displacement and velocity. For the spatial discretization, the finite difference method on an uniform mesh is employed. For the time discretization, a fixed time step is employed.  "
   ]
  },
  {
   "cell_type": "markdown",
   "metadata": {},
   "source": [
    "## Import Packages"
   ]
  },
  {
   "cell_type": "code",
   "execution_count": null,
   "metadata": {},
   "outputs": [],
   "source": [
    "using LinearAlgebra\n",
    "using DifferentialEquations\n",
    "using SparseArrays\n",
    "using Plots\n",
    "using BenchmarkTools "
   ]
  },
  {
   "cell_type": "markdown",
   "metadata": {},
   "source": [
    "Documentation of DifferentialEquations.jl  \n",
    "<ul>\n",
    "<li> <a href=\"https://diffeq.sciml.ai/dev/tutorials/ode_example/\"> Examples </a>   \n",
    "<li> <a href=\"https://diffeq.sciml.ai/stable/\"> Documentation of DifferentialEquations.jl on Github </a>  \n",
    "<li> <a href=\"https://diffeq.sciml.ai/dev/features/performance_overloads/#Function-Type-Definitions\"> Specifying Jacobian types using DifferentialEquations.jl </a>   \n",
    "</ul>   "
   ]
  },
  {
   "cell_type": "markdown",
   "metadata": {},
   "source": [
    "## Section 1: Construct Traveling Gauss-Pulse as a Reference Analytical Solution + plot"
   ]
  },
  {
   "cell_type": "markdown",
   "metadata": {},
   "source": [
    "In this part, we construct a d'Alembert reference solution using method of characteristics. This method is explained and illustrated e.g. in the slides  [http://www-thphys.physics.ox.ac.uk/people/FrancescoHautmann/Cp4p/sl_wv_3pp_12.pdf]. This solution assumes the domain in space to be unbounded. The reflection from the boundaries are *not* taken into account. An analytical reference solution is valuable to have a reference for the subsequent numerical solution.    "
   ]
  },
  {
   "cell_type": "code",
   "execution_count": null,
   "metadata": {},
   "outputs": [],
   "source": [
    "#..Define analytical reference solution\n",
    "#..We choose as reference solution a Gauss pulse travelling to the right\n",
    "#..The part of the d'Alembert solution traveling to the right is not taken into account  \n",
    "#..c:  velocity of propagation \n",
    "#..x0: center of the Gauss pulse \n",
    "#..sigma: width of the Gauss pulse \n",
    "function gauss_pulse(x,t,c,x0,sigma)\n",
    "    xi = x - c*t; \n",
    "    return exp(-(xi-x0)^2/sigma^2)\n",
    "end\n",
    "\n",
    "function ddt_gauss_pulse(x,t,c,x0,sigma)\n",
    "    # d/dt [f(xi)] = d/dt[exp(-(xi-x0)^2)/sigma^2] = [exp(-(xi-x0)^2)/sigma^2]*[-2*(xi-x0)/sigma^2]*[d xi / dt]\n",
    "    # = [exp(-(xi-x0)^2)/sigma^2]*[-2*(xi-x0)/sigma^2]*[-c]\n",
    "    xi = x - c*t;\n",
    "    return exp(-(xi-x0)^2/sigma^2)*(-2*(xi-x0)/sigma^2)*(-c)\n",
    "end\n",
    "\n",
    "#..construct the 1D mesh\n",
    "nelements = 100; nnodes = nelements+1; h = 1/nelements; h2=h*h;\n",
    "N = 100; Np1 = N+1; h = 1/N; h2=h*h; \n",
    "x = Vector(0:h:1); \n",
    "\n",
    "#..temporal mesh and set the velocity  \n",
    "T = 10; Nt = 10000; dt = T/Nt; \n",
    "t = Vector(0:dt:T); \n",
    "c = .2; #..wave velocity \n",
    "\n",
    "#..Evaluate the initial condition  \n",
    "#..hurray for broadcast in Julia \n",
    "u0 = gauss_pulse.(x,0,c,0.3,0.1)\n",
    "u1 = gauss_pulse.(x,1,c,0.3,0.1)\n",
    "u2 = gauss_pulse.(x,2,c,0.3,0.1)\n",
    "u3 = gauss_pulse.(x,3,c,0.3,0.1)\n",
    "\n",
    "#..Evaluate initial velocity \n",
    "v0 = ddt_gauss_pulse.(x,0,c,0.3,0.1)\n",
    "\n",
    "#..Evaluate the analytical solution in space-time domain\n",
    "#..hurray for comprehension \n",
    "Uex = [gauss_pulse(xi,tk,.01,0.3,0.1) for  xi in x, tk in t]\n",
    "\n",
    "#..plot the initial solution  \n",
    "p1=plot(x,u0,lw=2,legend=false)\n",
    "xlabel!(\"x\") \n",
    "ylabel!(\"u_0(x)\")\n",
    "p2=plot(x,v0,lw=2,legend=false)\n",
    "xlabel!(\"x\") \n",
    "ylabel!(\"v_0(x)\")\n",
    "p3=plot(x,u2,lw=2,legend=false)\n",
    "xlabel!(\"x\") \n",
    "ylabel!(\"u_2(x)\")\n",
    "p4=plot(x,u3,lw=2,legend=false)\n",
    "xlabel!(\"x\") \n",
    "ylabel!(\"u_3(x)\")\n",
    "\n",
    "#..plot the initial solution  \n",
    "p5=contour(t,x,Uex)\n",
    "xlabel!(\"t\") \n",
    "ylabel!(\"x\")\n",
    "#..plot the initial solution  \n",
    "p6=surface(t,x,Uex)\n",
    "xlabel!(\"t\") \n",
    "ylabel!(\"x\")\n",
    "\n",
    "p7=plot(p1, p2, p3, p4, p5, p6, layout = (3, 2))"
   ]
  },
  {
   "cell_type": "markdown",
   "metadata": {},
   "source": [
    "## Section 2: Spatial Discretization: Construct the One-Dimensional Matrix"
   ]
  },
  {
   "cell_type": "code",
   "execution_count": null,
   "metadata": {},
   "outputs": [],
   "source": [
    "# struct to hold entire mesh\n",
    "struct Mesh\n",
    "  #..number of nodes of the mesh..   \n",
    "  nnodes::Int64\n",
    "  #..number of elements of the mesh..\n",
    "  nelements::Int64 \n",
    "  #..vector of x-coordinates of nodes of the mesh..\n",
    "  Nodes::Vector{Float64}\n",
    "end "
   ]
  },
  {
   "cell_type": "code",
   "execution_count": null,
   "metadata": {},
   "outputs": [],
   "source": [
    "# function to generate a mesh on the interval 0 <= x <= 1.   \n",
    "# we limit the type of input to be Int64 \n",
    "function genMesh(nelements::Int64)::Mesh\n",
    "    h = 1/nelements \n",
    "    nnodes = nelements+1\n",
    "    Nodes = Vector{Float64}(0:h:1)    \n",
    "    mesh = Mesh(nnodes,nelements,Nodes)     \n",
    "    return mesh;\n",
    "end \n",
    "\n",
    "# generate global stiffness matrix \n",
    "function genStiffMat(mesh::Mesh)\n",
    "\n",
    "    #..recover number of elements and nodes  \n",
    "    nelements = mesh.nelements\n",
    "    nnodes    = nelements+1\n",
    "    \n",
    "    #..set mesh width and square of mesh width \n",
    "    h = 1/nelements; h2=h*h; \n",
    "\n",
    "    #..construct the coefficient matrix with our the boundary conditions \n",
    "    e = ones(nnodes); #..note that ones(N+1,1) does *not* work here \n",
    "    A = Tridiagonal(-e[2:end], 2*e, -e[2:end]); \n",
    "    A = (1/h2)*A;     \n",
    "   \n",
    "    return A; \n",
    "    \n",
    "end\n",
    "\n",
    "function genVector(mesh, sourceFct::F) where F \n",
    "\n",
    "    #..recover mesh nodes  \n",
    "    nodes = mesh.Nodes\n",
    "    \n",
    "    #..set vector values using broadcasting (dot syntax)  \n",
    "    f = sourceFct.(nodes)\n",
    "   \n",
    "    return f; \n",
    "end\n",
    "\n",
    "function genSolution(A,f)\n",
    "    #..handle essential boundary conditions \n",
    "    A[1,1] = 1.; A[1,2] = 0.; f[1] = 0.;\n",
    "    A[end,end] = 1.; A[end,end-1] = 0.; f[end] = 0.;\n",
    "    u = A\\f \n",
    "    return u \n",
    "end"
   ]
  },
  {
   "cell_type": "markdown",
   "metadata": {},
   "source": [
    "## Section 3: Implicit Integration Using Home-Brewed Code and Fixed Time Step "
   ]
  },
  {
   "cell_type": "markdown",
   "metadata": {},
   "source": [
    "Here we perform implicit time-integration using a home-brewed code and a fixed time step. Here we cheat and use the d'Alembert solution for the first two time steps. We do so an an intermediate step. "
   ]
  },
  {
   "cell_type": "markdown",
   "metadata": {},
   "source": [
    "Implicit time integration \n",
    "\n",
    "Na discretisatie in de ruimte: \\vec{u}_tt = (c^2) A \\vec{u} with A having *negative* diagonal elements \n",
    "\n",
    "Na discretisation in cde tijd: \\vec{u}^{k-1} - 2\\vec{u}^k + \\vec{u}^{k+1} =  (dt*c)^2 (A) \\vec{u}^{k+1}\n",
    "\n",
    "of [ I - (dt*c)^2 A] \\vec{u}^{k+1} = 2\\vec{u}^k  - \\vec{u}^{k-1} \n",
    "\n",
    "Time advancement: B \\vec{u}^{k+1} = 2 \\vec{u}^k  - vec{u}^{k-1} where B = I - (dt*c)^2 A "
   ]
  },
  {
   "cell_type": "code",
   "execution_count": null,
   "metadata": {},
   "outputs": [],
   "source": [
    "nelements = 100; nnodes = nelements+1;\n",
    "mesh = genMesh(nelements); A = -genStiffMat(mesh);"
   ]
  },
  {
   "cell_type": "code",
   "execution_count": null,
   "metadata": {},
   "outputs": [],
   "source": [
    "#..perform implicit time integration \n",
    "U = zeros(Np1,Nt+1)\n",
    "U[:,1] = Uex[:,1];\n",
    "U[:,2] = Uex[:,2];\n",
    "B = Diagonal(ones(nnodes)) - (dt*c)^2*A\n",
    "B[1,1] = 1; B[1,2] = 0; B[end,end]=1; B[end,end-1]=0; \n",
    "for k in 3:Nt\n",
    "  rhs = 2*U[:,k-1] - U[:,k-2]\n",
    "  U[:,k] = B \\ rhs; \n",
    "end \n",
    "p1 = contour(t,x,U)\n",
    "p2 = plot(x,U[:,1])\n",
    "p3 = plot(x,U[:,1000])\n",
    "p4 = plot(x,U[:,2000])\n",
    "p5 = plot(x,U[:,5000])\n",
    "p6 = plot(x,U[:,9000])\n",
    "plot(p1,p2, p3,p4,p5,p6,layout=(3,2))"
   ]
  },
  {
   "cell_type": "markdown",
   "metadata": {},
   "source": [
    "## Section 4: Explicit Time Integration using Home-Brewed Code and Fixed Time Step  "
   ]
  },
  {
   "cell_type": "markdown",
   "metadata": {},
   "source": [
    "Here we perform explicit time-integration using a home-brewed code and a fixed time step. Here we cheat and use the d'Alembert solution for the first two time steps. We do so an an intermediate step. "
   ]
  },
  {
   "cell_type": "markdown",
   "metadata": {},
   "source": [
    "Explicit time integration - how to handle the boundary conditions?  \n",
    "\n",
    "Na discretisatie in de ruimte: \\vec{u}_tt = (c^2) A \\vec{u} with A having *negative* diagonal elements\n",
    "\n",
    "Na discretisation in cde tijd: \\vec{u}^{k-1} - 2\\vec{u}^k + \\vec{u}^{k+1} =  (dt*c)^2 (A) \\vec{u}^{k}\n",
    "\n",
    "A met negatieve elementen op de diagonaal \n",
    "\n",
    "of \\vec{u}^{k+1} = 2\\vec{u}^k  - \\vec{u}^{k-1} + (dt*c)^2 (A) \\vec{u}^{k}"
   ]
  },
  {
   "cell_type": "code",
   "execution_count": null,
   "metadata": {},
   "outputs": [],
   "source": [
    "#..perform explicit time integration \n",
    "U = zeros(Np1,Nt+1)\n",
    "U[:,1] = Uex[:,1];\n",
    "U[:,2] = Uex[:,2];\n",
    "B[1,1] = 1; B[1,2] = 0; B[end,end]=1; B[end,end-1]=0; \n",
    "for k in 3:Nt\n",
    "  rhs = 2*U[:,k-1] - U[:,k-2] + (dt*c)^2*A*U[:,k-1]\n",
    "  U[:,k] = B \\ rhs; \n",
    "end \n",
    "p1 = contour(t,x,U)\n",
    "p2 = plot(x,U[:,1])\n",
    "p3 = plot(x,U[:,1000])\n",
    "p4 = plot(x,U[:,2000])\n",
    "p5 = plot(x,U[:,5000])\n",
    "p6 = plot(x,U[:,9000])\n",
    "plot(p1,p2, p3,p4,p5,p6,layout=(3,2))"
   ]
  },
  {
   "cell_type": "markdown",
   "metadata": {},
   "source": [
    "## Section 5: Plug and Play using DifferentialEquations.jl   "
   ]
  },
  {
   "cell_type": "code",
   "execution_count": null,
   "metadata": {},
   "outputs": [],
   "source": [
    "function wave_system!(du,u,p,t)\n",
    "    A*u\n",
    "end\n",
    "\n",
    "u0 = gauss_pulse.(x,0,c,0.3,0.1)\n",
    "v0 = ddt_gauss_pulse.(x,0,c,0.3,0.1)\n",
    "\n",
    "tspan = (0.0,5.0)               \n",
    "\n",
    "prob = SecondOrderODEProblem(wave_system!,v0,u0,tspan)\n",
    "sol = solve(prob)\n",
    "\n",
    "p1=plot(sol)"
   ]
  },
  {
   "cell_type": "code",
   "execution_count": null,
   "metadata": {},
   "outputs": [],
   "source": [
    "plot(sol.u[100,:])"
   ]
  },
  {
   "cell_type": "markdown",
   "metadata": {},
   "source": [
    "## References"
   ]
  },
  {
   "cell_type": "markdown",
   "metadata": {},
   "source": []
  },
  {
   "cell_type": "code",
   "execution_count": null,
   "metadata": {},
   "outputs": [],
   "source": []
  }
 ],
 "metadata": {
  "kernelspec": {
   "display_name": "Julia 1.8.1",
   "language": "julia",
   "name": "julia-1.8"
  },
  "language_info": {
   "file_extension": ".jl",
   "mimetype": "application/julia",
   "name": "julia",
   "version": "1.8.1"
  }
 },
 "nbformat": 4,
 "nbformat_minor": 2
}
