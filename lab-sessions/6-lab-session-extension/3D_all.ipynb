{
 "cells": [
  {
   "cell_type": "code",
   "execution_count": 1,
   "id": "4a91dba3",
   "metadata": {},
   "outputs": [],
   "source": [
    "try\n",
    "    using Gmsh: gmsh\n",
    "catch\n",
    "    using gmsh\n",
    "end\n",
    "\n",
    "using GR \n",
    "\n",
    "using LinearAlgebra \n",
    "using SparseArrays \n",
    "using StaticArrays\n",
    "using StaticRanges\n",
    "\n",
    "using BenchmarkTools\n",
    "\n",
    "using Test \n",
    "\n",
    "using Plots "
   ]
  },
  {
   "cell_type": "code",
   "execution_count": 2,
   "id": "120494fe",
   "metadata": {},
   "outputs": [],
   "source": [
    "struct Point\n",
    "    x::Float64   # x coordinates\n",
    "    y::Float64   # y coordinates \n",
    "    z::Float64   # z coordinates\n",
    "end\n",
    "\n",
    "struct Element\n",
    "    p1::Point\n",
    "    p2::Point\n",
    "    p3::Point\n",
    "    p4::Point\n",
    "    e1::Int64\n",
    "    e2::Int64\n",
    "    e3::Int64\n",
    "    e4::Int64\n",
    "    vol::Float64\n",
    "end\n",
    "\n",
    "struct Mesh\n",
    "    nnodes::Int64\n",
    "    nelements::Int64 \n",
    "    # specify one-dimensional array of elements as an array of structs. \n",
    "    # we worry about using structArray (if as all) later. \n",
    "    Elements::Array{Element,1}\n",
    "    bndNodeIds::Vector{Int64}\n",
    "    dofPerElement::Int64       \n",
    "end "
   ]
  },
  {
   "cell_type": "code",
   "execution_count": 3,
   "id": "ce4dda4e",
   "metadata": {},
   "outputs": [
    {
     "data": {
      "text/plain": [
       "volume_tetrahedron (generic function with 1 method)"
      ]
     },
     "execution_count": 3,
     "metadata": {},
     "output_type": "execute_result"
    }
   ],
   "source": [
    "function volume_tetrahedron(x1::Float64,x2::Float64,x3::Float64,x4::Float64,y1::Float64,y2::Float64,y3::Float64,y4::Float64,z1::Float64,z2::Float64,z3::Float64,z4::Float64)::Float64\n",
    "    mat = [[x1 y1 z1 1]; [x2 y2 z2 1]; [x3 y3 z3 1]; [x4 y4 z4 1]];\n",
    "    volume = abs(det(mat))/6;\n",
    "    return volume\n",
    "end"
   ]
  },
  {
   "cell_type": "code",
   "execution_count": 4,
   "id": "26538bb3",
   "metadata": {},
   "outputs": [
    {
     "data": {
      "text/plain": [
       "nodesFromGmsh (generic function with 1 method)"
      ]
     },
     "execution_count": 4,
     "metadata": {},
     "output_type": "execute_result"
    }
   ],
   "source": [
    "# read elements from mesh file \n",
    "function meshFromGmsh(meshFile)    \n",
    "    #the function takes the name of the file as input\n",
    "    dofPerElement = 16; # DoF per element: 3 translations (along x, y, z directions) and temperature\n",
    "    \n",
    "    gmsh.initialize()\n",
    "    gmsh.open(meshFile)\n",
    "    \n",
    "    node_ids, node_coord, _ = gmsh.model.mesh.getNodes()\n",
    "    nnodes = length(node_ids)\n",
    "\n",
    "    #..sort the node coordinates by ID, such that Node one sits at row 1\n",
    "    tosort = [node_ids node_coord[1:3:end] node_coord[2:3:end] node_coord[3:3:end]]; \n",
    "    sorted = sortslices(tosort , dims = 1);\n",
    "\n",
    "    node_ids = sorted[:,1]\n",
    "    xnode = sorted[:,2]\n",
    "    ynode = sorted[:,3]\n",
    "    znode = sorted[:,4]\n",
    "\n",
    "    #get the mesh elements\n",
    "    element_types, element_ids, element_connectivity = gmsh.model.mesh.getElements(3)\n",
    "    nelements = length(element_ids[1])\n",
    "    #boundary elements\n",
    "    bnd_types, bnd_el_ids, bnd_element_connectivity = gmsh.model.mesh.getElements(2)\n",
    "    \n",
    "    bnd_node_ids = [];\n",
    "    #print(bnd_el_ids)\n",
    "    for i in 1:length(bnd_el_ids[1])\n",
    "        #retrieve global numbering of the local nodes of the current BOUNDARY element\n",
    "        bnd_node1_id = bnd_element_connectivity[1][3*(i-1)+1]\n",
    "        bnd_node2_id = bnd_element_connectivity[1][3*(i-1)+2]\n",
    "        bnd_node3_id = bnd_element_connectivity[1][3*(i-1)+3]\n",
    "        if !(bnd_node1_id in bnd_node_ids)\n",
    "            push!(bnd_node_ids, bnd_node1_id)\n",
    "        end\n",
    "        if !(bnd_node2_id in bnd_node_ids)\n",
    "            push!(bnd_node_ids, bnd_node2_id)\n",
    "        end\n",
    "        if !(bnd_node3_id in bnd_node_ids)\n",
    "            push!(bnd_node_ids, bnd_node3_id)\n",
    "        end\n",
    "        \n",
    "    end\n",
    "    bnd_node_ids = sort(bnd_node_ids)\n",
    "    \n",
    "    Elements = Array{Element,1}(undef,nelements);\n",
    "    total_volume = 0;\n",
    "    for i in 1:nelements\n",
    "        \n",
    "        #....retrieve global numbering of the local nodes of the current element\n",
    "        e1 = element_connectivity[1][4*(i-1)+1]\n",
    "        e2 = element_connectivity[1][4*(i-1)+2]\n",
    "        e3 = element_connectivity[1][4*(i-1)+3]\n",
    "        e4 = element_connectivity[1][4*(i-1)+4]\n",
    "        \n",
    "        #....retrieve the x and y coordinates of the local nodes of the current element\n",
    "        p1 = Point(sorted[e1,2], sorted[e1,3], sorted[e1,4])\n",
    "        p2 = Point(sorted[e2,2], sorted[e2,3], sorted[e2,4])\n",
    "        p3 = Point(sorted[e3,2], sorted[e3,3], sorted[e3,4])\n",
    "        p4 = Point(sorted[e4,2], sorted[e4,3], sorted[e4,4])\n",
    "        #calculate volume of the element and add it to the total volume\n",
    "        vol = volume_tetrahedron(p1.x, p2.x, p3.x, p4.x, p1.y, p2.y, p3.y, p4.y, p1.z, p2.z, p3.z, p4.z)\n",
    "        #total_volume = total_volume + vol;\n",
    "        #save nodes coordinates, nodes IDs and the volume of one element\n",
    "        Elements[i] = Element(p1, p2, p3, p4, e1, e2, e3, e4, vol)\n",
    "    end\n",
    "    #print(total_volume) #using cube_3D.msh the volume should be 1\n",
    "    mesh = Mesh(nnodes, nelements, Elements, bnd_node_ids, dofPerElement)\n",
    "    gmsh.finalize()\n",
    "    \n",
    "    return mesh\n",
    "    \n",
    "end\n",
    "\n",
    "#..read nodes from mesh file (useful for post-processing)\n",
    "function nodesFromGmsh(meshFile)\n",
    "    \n",
    "    #..Initialize GMSH\n",
    "    gmsh.initialize()\n",
    "    \n",
    "    #..Read mesh from file\n",
    "    gmsh.open(meshFile)\n",
    "\n",
    "    #..Get the mesh nodes\n",
    "    #..Observe that although the mesh is two-dimensional,\n",
    "    #..the z-coordinate that is equal to zero is stored as well.\n",
    "    #..Observe that the coordinates are stored contiguously for computational\n",
    "    #..efficiency\n",
    "    node_ids, node_coord, _ = gmsh.model.mesh.getNodes()\n",
    "    nnodes = length(node_ids)\n",
    "    #..sort the node coordinates by ID, such that Node one sits at row 1\n",
    "    tosort = [node_ids node_coord[1:3:end] node_coord[2:3:end] node_coord[3:3:end]]; \n",
    "    sorted = sortslices(tosort , dims = 1);\n",
    "    node_ids = sorted[:,1]\n",
    "    xnode = sorted[:,2]\n",
    "    ynode = sorted[:,3]\n",
    "    znode = sorted[:,4]\n",
    "\n",
    "    #..Finalize gmsh\n",
    "    gmsh.finalize()\n",
    "    \n",
    "    return xnode,ynode,znode \n",
    "end"
   ]
  },
  {
   "cell_type": "code",
   "execution_count": 7,
   "id": "0a172039",
   "metadata": {},
   "outputs": [
    {
     "name": "stdout",
     "output_type": "stream",
     "text": [
      "Info    : Reading 'cube_3D.msh'...\n",
      "Info    : 27 entities\n",
      "Info    : 14 nodes\n",
      "Info    : 68 elements\n",
      "Info    : Done reading 'cube_3D.msh'\n",
      "Info    : Reading 'cube_3D.msh'...\n",
      "Info    : 27 entities\n",
      "Info    : 14 nodes\n",
      "Info    : 68 elements\n",
      "Info    : Done reading 'cube_3D.msh'\n"
     ]
    }
   ],
   "source": [
    "mesh = meshFromGmsh(\"cube_3D.msh\");\n",
    "xnode, ynode, znode = nodesFromGmsh(\"cube_3D.msh\"); \n",
    "#display(mesh)"
   ]
  },
  {
   "cell_type": "code",
   "execution_count": 8,
   "id": "31a029fc",
   "metadata": {},
   "outputs": [
    {
     "data": {
      "text/plain": [
       "genStiffMat (generic function with 1 method)"
      ]
     },
     "execution_count": 8,
     "metadata": {},
     "output_type": "execute_result"
    }
   ],
   "source": [
    "function genLocStiffMat(element::Element)\n",
    "    p1 = element.p1; p2 = element.p2; p3 = element.p3; p4 = element.p4;\n",
    "    e1 = element.e1; e2 = element.e2; e3 = element.e3; e4 = element.e4; \n",
    "    vol = element.vol \n",
    "    Iloc = SVector(e1, e1, e1, e1, e2, e2, e2, e2, e3, e3, e3, e3, e4, e4, e4, e4)\n",
    "    Jloc = SVector(e1, e2, e3, e4, e1, e2, e3, e4, e1, e2, e3, e4, e1, e2, e3, e4)\n",
    "    Xmat = SMatrix{4,4}(p1.x, p2.x, p3.x, p4.x, p1.y, p2.y, p3.y, p4.y, p1.z, p2.z, p3.z, p4.z, 1, 1, 1, 1) \n",
    "    rhs  = SMatrix{4,4}(1., 0., 0., 0., 0., 1., 0., 0., 0., 0., 1., 0., 0., 0., 0., 1.) \n",
    "    Emat = MMatrix{4,4}(Xmat\\rhs);\n",
    "    Emat[4,:] .= 0.;  \n",
    "    Amat = SMatrix{4,4}(vol*(transpose(Emat)*Emat));\n",
    "    Aloc = [Amat[1,:] ; Amat[2,:] ; Amat[3,:] ; Amat[4,:]] \n",
    "    return Iloc, Jloc, Aloc\n",
    "end\n",
    "\n",
    "function genStiffMat(mesh::Mesh)\n",
    " \n",
    "    #..recover number of elements  \n",
    "    nelems     = mesh.nelements \n",
    "    dofPerElem = mesh.dofPerElement;\n",
    "     \n",
    "    #..preallocate the memory for local matrix contributions \n",
    "    Avalues = zeros(Float64,dofPerElem*nelems)\n",
    "    I = zeros(Int64,length(Avalues))\n",
    "    J = zeros(Int64,length(Avalues)) \n",
    "\n",
    "    for i = 1:nelems #..loop over number of elements..\n",
    "        element          = mesh.Elements[i]\n",
    "        Iloc, Jloc, Aloc = genLocStiffMat(element)\n",
    "        irng             = mrange(dofPerElem*i-15, dofPerElem*i) \n",
    "        I[irng]          = Iloc \n",
    "        J[irng]          = Jloc \n",
    "        Avalues[irng]    = Aloc         \n",
    "    end\n",
    "    \n",
    "    A = sparse(I,J,Avalues)\n",
    "   \n",
    "    return A; \n",
    "end"
   ]
  },
  {
   "cell_type": "code",
   "execution_count": 9,
   "id": "2582cb3b",
   "metadata": {},
   "outputs": [
    {
     "data": {
      "text/plain": [
       "([13, 13, 13, 13, 10, 10, 10, 10, 14, 14, 14, 14, 12, 12, 12, 12], [13, 10, 14, 12, 13, 10, 14, 12, 13, 10, 14, 12, 13, 10, 14, 12], [0.16666666666666666, -5.39691748081673e-18, -0.08333333333333333, -0.08333333333333333, -5.39691748081673e-18, 0.16666666666666674, -0.08333333333333334, -0.08333333333333337, -0.08333333333333333, -0.08333333333333334, 0.125, 0.041666666666666685, -0.08333333333333333, -0.08333333333333337, 0.041666666666666685, 0.125])"
      ]
     },
     "execution_count": 9,
     "metadata": {},
     "output_type": "execute_result"
    }
   ],
   "source": [
    "Iloc, Jloc, Aloc = genLocStiffMat(mesh.Elements[1])\n",
    "#@test Aloc == testAloc"
   ]
  },
  {
   "cell_type": "code",
   "execution_count": 10,
   "id": "4e2569aa",
   "metadata": {},
   "outputs": [
    {
     "data": {
      "text/plain": [
       "genMassMat (generic function with 1 method)"
      ]
     },
     "execution_count": 10,
     "metadata": {},
     "output_type": "execute_result"
    }
   ],
   "source": [
    "function genLocMassMat(element::Element)\n",
    "    p1 = element.p1; p2 = element.p2; p3 = element.p3; p4 = element.p4;\n",
    "    e1 = element.e1; e2 = element.e2; e3 = element.e3; e4 = element.e4; \n",
    "    vol = element.vol\n",
    "    Iloc = SVector(e1, e1, e1, e1, e2, e2, e2, e2, e3, e3, e3, e3, e4, e4, e4, e4)\n",
    "    Jloc = SVector(e1, e2, e3, e4, e1, e2, e3, e4, e1, e2, e3, e4, e1, e2, e3, e4)\n",
    "    Mloc = SMatrix{3,3}(vol/4, 0., 0., 0., 0., vol/4, 0., 0., 0., 0., vol/4, 0., 0., 0., 0., vol/4) \n",
    "    return Iloc, Jloc, Mloc\n",
    "end\n",
    "\n",
    "function genMassMat(mesh::Mesh)\n",
    " \n",
    "    #..recover number of elements  \n",
    "    nelems     = mesh.nelements \n",
    "    dofPerElem = mesh.dofPerElement;\n",
    "     \n",
    "    #..preallocate the memory for local matrix contributions \n",
    "    Mvalues = zeros(Float64,dofPerElem*nelems)\n",
    "    I = zeros(Int64,length(Mvalues))\n",
    "    J = zeros(Int64,length(Mvalues)) \n",
    "\n",
    "    for i = 1:nelems #..loop over number of elements..\n",
    "        element          = mesh.Elements[i]\n",
    "        Iloc, Jloc, Mloc = genLocMassMat(element)\n",
    "        irng             = mrange(dofPerElem*i-15, dofPerElem*i) \n",
    "        I[irng]          = Iloc \n",
    "        J[irng]          = Jloc \n",
    "        Mvalues[irng]    = Mloc         \n",
    "    end\n",
    "    \n",
    "    M = sparse(I,J,Mvalues)\n",
    "   \n",
    "    return M; \n",
    "end"
   ]
  },
  {
   "cell_type": "code",
   "execution_count": 11,
   "id": "d902ca09",
   "metadata": {},
   "outputs": [
    {
     "data": {
      "text/plain": [
       "([13, 13, 13, 13, 10, 10, 10, 10, 14, 14, 14, 14, 12, 12, 12, 12], [13, 10, 14, 12, 13, 10, 14, 12, 13, 10, 14, 12, 13, 10, 14, 12], [0.16666666666666666, -5.39691748081673e-18, -0.08333333333333333, -0.08333333333333333, -5.39691748081673e-18, 0.16666666666666674, -0.08333333333333334, -0.08333333333333337, -0.08333333333333333, -0.08333333333333334, 0.125, 0.041666666666666685, -0.08333333333333333, -0.08333333333333337, 0.041666666666666685, 0.125])"
      ]
     },
     "execution_count": 11,
     "metadata": {},
     "output_type": "execute_result"
    }
   ],
   "source": [
    "Iloc, Jloc, Mloc = genLocStiffMat(mesh.Elements[1])\n",
    "#@test Aloc == testAloc"
   ]
  },
  {
   "cell_type": "code",
   "execution_count": 12,
   "id": "917d326b",
   "metadata": {},
   "outputs": [
    {
     "data": {
      "text/plain": [
       "genVector (generic function with 1 method)"
      ]
     },
     "execution_count": 12,
     "metadata": {},
     "output_type": "execute_result"
    }
   ],
   "source": [
    "mySourceFct(x,y,z) = x+y+z\n",
    "\n",
    "function genLocVector(element::Element, sourceFct::Function)\n",
    "    p1 = element.p1; p2 = element.p2; p3 = element.p3; p4 = element.p4;\n",
    "    e1 = element.e1; e2 = element.e2; e3 = element.e3; e4 = element.e4; \n",
    "    vol = element.vol\n",
    "    Iloc = SVector(e1, e2, e3, e4) \n",
    "    # use broadcast for the lines below instead \n",
    "    f1 = vol/4*sourceFct(p1.x,p1.y,p1.z)\n",
    "    f2 = vol/4*sourceFct(p2.x,p2.y,p2.z)\n",
    "    f3 = vol/4*sourceFct(p3.x,p3.y,p3.z)\n",
    "    f4 = vol/4*sourceFct(p4.x,p4.y,p4.z)\n",
    "    floc = SVector(f1, f2, f3, f4) \n",
    "    return Iloc, floc\n",
    "end\n",
    "\n",
    "function genVector(mesh, sourceFct::F) where F \n",
    " \n",
    "    #..recover number of elements  \n",
    "    nelems  = mesh.nelements \n",
    "    nnodes = mesh.nnodes \n",
    "     \n",
    "    #..preallocate the memory for local matrix contributions \n",
    "    f = zeros(Float64,nnodes)\n",
    "\n",
    "    for i = 1:nelems #..loop over number of elements..\n",
    "        element::Element = mesh.Elements[i]\n",
    "        Iloc, floc = genLocVector(element,sourceFct)\n",
    "        f[Iloc] += floc \n",
    "    end\n",
    "       \n",
    "    return f; \n",
    "end"
   ]
  },
  {
   "cell_type": "code",
   "execution_count": 13,
   "id": "5bd29c6f",
   "metadata": {},
   "outputs": [
    {
     "data": {
      "text/plain": [
       "handleBoundary! (generic function with 1 method)"
      ]
     },
     "execution_count": 13,
     "metadata": {},
     "output_type": "execute_result"
    }
   ],
   "source": [
    "function handleBoundary!(mesh,A,f)\n",
    "    bndNodeIds = mesh.bndNodeIds; \n",
    "    #..handle essential boundary conditions \n",
    "    A[bndNodeIds,:] .= 0;\n",
    "    A[bndNodeIds,bndNodeIds] = Diagonal(ones(size(bndNodeIds)))\n",
    "    f[bndNodeIds] .= 1/(3*(pi)^2);\n",
    "    return A, f  \n",
    "end"
   ]
  },
  {
   "cell_type": "code",
   "execution_count": 15,
   "id": "163f6f50",
   "metadata": {},
   "outputs": [
    {
     "name": "stdout",
     "output_type": "stream",
     "text": [
      "Info    : Reading 'cube_3D.msh'...\n",
      "Info    : 27 entities\n",
      "Info    : 14 nodes\n",
      "Info    : 68 elements\n",
      "Info    : Done reading 'cube_3D.msh'\n"
     ]
    }
   ],
   "source": [
    "mesh = meshFromGmsh(\"cube_3D.msh\"); A = genStiffMat(mesh); f = genVector(mesh,mySourceFct);\n",
    "A,f = handleBoundary!(mesh,A,f);"
   ]
  },
  {
   "cell_type": "code",
   "execution_count": 16,
   "id": "9be08990",
   "metadata": {},
   "outputs": [
    {
     "data": {
      "text/plain": [
       "generateSolution (generic function with 1 method)"
      ]
     },
     "execution_count": 16,
     "metadata": {},
     "output_type": "execute_result"
    }
   ],
   "source": [
    "function generateSolution(mesh,A,f)\n",
    "\n",
    "    A, f = handleBoundary!(mesh,A,f)\n",
    "    u = A\\f \n",
    "    return u \n",
    "end"
   ]
  },
  {
   "cell_type": "code",
   "execution_count": 17,
   "id": "fc0f8953",
   "metadata": {},
   "outputs": [
    {
     "data": {
      "text/plain": [
       "14-element Vector{Float64}:\n",
       " 0.03377372788077926\n",
       " 0.03377372788077926\n",
       " 0.03377372788077926\n",
       " 0.03377372788077926\n",
       " 0.03377372788077926\n",
       " 0.03377372788077926\n",
       " 0.03377372788077926\n",
       " 0.03377372788077926\n",
       " 0.03377372788077926\n",
       " 0.03377372788077926\n",
       " 0.03377372788077926\n",
       " 0.03377372788077926\n",
       " 0.03377372788077926\n",
       " 0.03377372788077926"
      ]
     },
     "execution_count": 17,
     "metadata": {},
     "output_type": "execute_result"
    }
   ],
   "source": [
    "#mesh = meshFromGmsh(\"square-10.msh\");   \n",
    "#A = genStiffMat(mesh); f= generateVector(mesh,mySourceFct); # <= force recompilation\n",
    "u = generateSolution(mesh,A,f)"
   ]
  },
  {
   "cell_type": "code",
   "execution_count": 18,
   "id": "8f54c6cd",
   "metadata": {},
   "outputs": [],
   "source": [
    "#GR.trisurf(xnode,ynode,znode,u)"
   ]
  },
  {
   "cell_type": "code",
   "execution_count": 19,
   "id": "135be88d",
   "metadata": {},
   "outputs": [
    {
     "ename": "LoadError",
     "evalue": "UndefVarError: nodes not defined",
     "output_type": "error",
     "traceback": [
      "UndefVarError: nodes not defined",
      "",
      "Stacktrace:",
      " [1] top-level scope",
      "   @ In[19]:28"
     ]
    }
   ],
   "source": [
    "# write 3D mesh data to file \n",
    "# 3D mesh\n",
    "function mesh_data_VTK(mesh, nodes,u)\n",
    "\n",
    "    # Create cells (all hexahedrons in this case) and cell data.\n",
    "    celltype = VTKCellTypes.VTK_TETRAHEDRON\n",
    "    cells = MeshCell{VTKCellType, SVector{4, Int}}[]\n",
    "\n",
    "    for i = 1:nelements #..loop over number of elements..\n",
    "        element = mesh.Elements[i]\n",
    "        inds = MVector{4, Int}(undef)\n",
    "        inds[1] = u[element.e1]\n",
    "        inds[2] = u[element.e2]\n",
    "        inds[3] = u[element.e3]\n",
    "        inds[4] = u[element.e4]\n",
    "\n",
    "        # Define cell.\n",
    "        c = MeshCell(celltype, SVector(inds))\n",
    "\n",
    "        push!(cells, c)\n",
    "    end\n",
    "\n",
    "    return pts, cells\n",
    "\n",
    "end\n",
    "\n",
    "points, cells = mesh_data_VTK(mesh, nodes, u)\n",
    "vtk_grid(\"filename\", points, cells) do vtk\n",
    "    vtk[\"solution\"] = u \n",
    "end"
   ]
  },
  {
   "cell_type": "code",
   "execution_count": null,
   "id": "a1724338",
   "metadata": {},
   "outputs": [],
   "source": [
    "#mesh_data_VTK(mesh, nodes,u)"
   ]
  }
 ],
 "metadata": {
  "kernelspec": {
   "display_name": "Julia 1.8.1",
   "language": "julia",
   "name": "julia-1.8"
  },
  "language_info": {
   "file_extension": ".jl",
   "mimetype": "application/julia",
   "name": "julia",
   "version": "1.8.1"
  }
 },
 "nbformat": 4,
 "nbformat_minor": 5
}
