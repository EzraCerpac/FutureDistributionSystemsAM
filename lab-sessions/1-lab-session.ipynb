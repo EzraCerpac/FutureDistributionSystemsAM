{
 "cells": [
  {
   "cell_type": "markdown",
   "metadata": {},
   "source": [
    "# EE4375: First Lab Session: Introduction to Julia, GMSH and Paraview"
   ]
  },
  {
   "cell_type": "markdown",
   "metadata": {},
   "source": [
    "The **goal** of this first lab session is to introduce three software components required in the remainder of the course. These components are:\n",
    "1. [Julia](http://www.julialang.org) as a programming language;\n",
    "2. [GMSH](https://gmsh.info) as package for geometry handling and mesh generation;\n",
    "3. [Paraview](https://www.paraview.org) as package for data visualization."
   ]
  },
  {
   "cell_type": "markdown",
   "metadata": {},
   "source": [
    "# Section 1: Introduction to Julia\n",
    "\n",
    "## Section 1.1: Installation of Software and Packages\n",
    "Please proceed as follows: \n",
    "- download and install [Jupyter](https://jupyterbook.org/en/stable/intro.html) locally on your laptop; \n",
    "- download and install [Julia](http://www.julialang.org) locally on your laptop; \n",
    "- start the Julia REPL to install [IJulia](https://julialang.github.io/IJulia.jl/stable/); \n",
    "- download this notebook from and run this notebookl with Jupyter; \n",
    "- install the Julia packages [LinearAlgebra](https://docs.julialang.org/en/v1/stdlib/LinearAlgebra/), [Plots](https://docs.juliaplots.org/stable/), [BenchmarkTools](https://juliaci.github.io/BenchmarkTools.jl/stable/) and [WriteVTK](https://github.com/JuliaVTK/WriteVTK.jl); "
   ]
  },
  {
   "cell_type": "code",
   "execution_count": 2,
   "metadata": {},
   "outputs": [],
   "source": [
    "# type yes when prompted to install the software \n",
    "using LinearAlgebra"
   ]
  },
  {
   "cell_type": "code",
   "execution_count": 3,
   "metadata": {},
   "outputs": [],
   "source": [
    "# type yes when prompted to install the software \n",
    "using Plots"
   ]
  },
  {
   "cell_type": "code",
   "execution_count": 4,
   "metadata": {},
   "outputs": [],
   "source": [
    "# type yes when prompted to install the software \n",
    "using BenchmarkTools"
   ]
  },
  {
   "cell_type": "code",
   "execution_count": 5,
   "metadata": {},
   "outputs": [],
   "source": [
    "# type yes when prompted to install the software \n",
    "using WriteVTK"
   ]
  },
  {
   "cell_type": "markdown",
   "metadata": {},
   "source": [
    "## Section 2.1: Define a mesh on the interval \n",
    "Study code that follows. What is the size of the resulting vector x? Decrease the value of the meshwidth h (keeping xstart and xend fixed). Consult the documentation of the typeof() function. What is the type of x? Replace the Vector() function by an explicit for-loop. Plot x vs. x using various line styles. "
   ]
  },
  {
   "cell_type": "code",
   "execution_count": 6,
   "metadata": {},
   "outputs": [
    {
     "data": {
      "text/plain": [
       "11-element Vector{Float64}:\n",
       " 0.0\n",
       " 0.1\n",
       " 0.2\n",
       " 0.3\n",
       " 0.4\n",
       " 0.5\n",
       " 0.6\n",
       " 0.7\n",
       " 0.8\n",
       " 0.9\n",
       " 1.0"
      ]
     },
     "metadata": {},
     "output_type": "display_data"
    }
   ],
   "source": [
    "N = 10; \n",
    "h = 1/N;\n",
    "xstart = 0. \n",
    "xend = 1.\n",
    "x = Vector(xstart:h:xend)\n",
    "display(x)"
   ]
  },
  {
   "cell_type": "markdown",
   "metadata": {},
   "source": [
    "##  Section 3.1: Define a source vector \n",
    "Study code that follows. What is the size of the resulting vector f? Decrease the value of the meshwidth h (keeping xstart and xend fixed). Plot f versus x. Try various values of mu and sigma. What is the type of sourceFct? Consult the documentation of the methods() function. Apply the methods function to sourceFct. Consult the documentation of the map() function. Replace the dot-syntax (referred to as broadcast in Julia) using the map() function. "
   ]
  },
  {
   "cell_type": "code",
   "execution_count": 7,
   "metadata": {},
   "outputs": [
    {
     "data": {
      "text/plain": [
       "sourceFct (generic function with 1 method)"
      ]
     },
     "execution_count": 7,
     "metadata": {},
     "output_type": "execute_result"
    }
   ],
   "source": [
    "# define the so-called source function \n",
    "function sourceFct(x)\n",
    "    mu = 0.3\n",
    "    sigma = .1\n",
    "    return exp( -(x-mu)^2/sigma^2)\n",
    "end "
   ]
  },
  {
   "cell_type": "code",
   "execution_count": 8,
   "metadata": {},
   "outputs": [
    {
     "data": {
      "text/plain": [
       "11-element Vector{Float64}:\n",
       " 0.00012340980408667978\n",
       " 0.018315638888734203\n",
       " 0.36787944117144256\n",
       " 1.0\n",
       " 0.36787944117144217\n",
       " 0.01831563888873418\n",
       " 0.00012340980408667978\n",
       " 1.1253517471925971e-7\n",
       " 1.388794386496407e-11\n",
       " 2.319522830243569e-16\n",
       " 5.242885663363538e-22"
      ]
     },
     "execution_count": 8,
     "metadata": {},
     "output_type": "execute_result"
    }
   ],
   "source": [
    "# apply the source to the previously defined vector. Observe the dot-syntax. \n",
    "f = sourceFct.(x)"
   ]
  },
  {
   "cell_type": "markdown",
   "metadata": {},
   "source": [
    "##  Section 4.1: Define a matrix \n",
    "Study code that follows. What is the size and type of the resulting vector A? Decrease the value of the meshwidth h. Contruct the matrix A using map to replace the for-loop. Consult the documentation the function Tridiagonal() in the LinearAlgebra package. Contruct the matrix A using the function Tridiagonal(). "
   ]
  },
  {
   "cell_type": "code",
   "execution_count": 9,
   "metadata": {},
   "outputs": [
    {
     "data": {
      "text/plain": [
       "11×11 Matrix{Float64}:\n",
       "  200.0  -100.0     0.0     0.0     0.0  …     0.0     0.0     0.0     0.0\n",
       " -100.0   200.0  -100.0     0.0     0.0        0.0     0.0     0.0     0.0\n",
       "    0.0  -100.0   200.0  -100.0     0.0        0.0     0.0     0.0     0.0\n",
       "    0.0     0.0  -100.0   200.0  -100.0        0.0     0.0     0.0     0.0\n",
       "    0.0     0.0     0.0  -100.0   200.0        0.0     0.0     0.0     0.0\n",
       "    0.0     0.0     0.0     0.0  -100.0  …     0.0     0.0     0.0     0.0\n",
       "    0.0     0.0     0.0     0.0     0.0     -100.0     0.0     0.0     0.0\n",
       "    0.0     0.0     0.0     0.0     0.0      200.0  -100.0     0.0     0.0\n",
       "    0.0     0.0     0.0     0.0     0.0     -100.0   200.0  -100.0     0.0\n",
       "    0.0     0.0     0.0     0.0     0.0        0.0  -100.0   200.0  -100.0\n",
       "    0.0     0.0     0.0     0.0     0.0  …     0.0     0.0  -100.0   200.0"
      ]
     },
     "execution_count": 9,
     "metadata": {},
     "output_type": "execute_result"
    }
   ],
   "source": [
    "h2 = h*h;\n",
    "Np1 = N+1; \n",
    "# initialize to zero matrix \n",
    "A = zeros(Np1,Np1)\n",
    "\n",
    "# loop over rows and columns to set values of matrix A \n",
    "for i ∈ axes(A,1), j ∈ axes(A,2)\n",
    "    if (i==j) A[i,j] = 2/h2 end \n",
    "    if ((i==j-1) || (i==j+1)) A[i,j] = -1/h2 end \n",
    "end\n",
    "\n",
    "A"
   ]
  },
  {
   "cell_type": "code",
   "execution_count": 10,
   "metadata": {},
   "outputs": [
    {
     "data": {
      "text/plain": [
       "11×11 Matrix{Float64}:\n",
       "  200.0  -100.0     0.0     0.0     0.0  …     0.0     0.0     0.0     0.0\n",
       " -100.0   200.0  -100.0     0.0     0.0        0.0     0.0     0.0     0.0\n",
       "    0.0  -100.0   200.0  -100.0     0.0        0.0     0.0     0.0     0.0\n",
       "    0.0     0.0  -100.0   200.0  -100.0        0.0     0.0     0.0     0.0\n",
       "    0.0     0.0     0.0  -100.0   200.0        0.0     0.0     0.0     0.0\n",
       "    0.0     0.0     0.0     0.0  -100.0  …     0.0     0.0     0.0     0.0\n",
       "    0.0     0.0     0.0     0.0     0.0     -100.0     0.0     0.0     0.0\n",
       "    0.0     0.0     0.0     0.0     0.0      200.0  -100.0     0.0     0.0\n",
       "    0.0     0.0     0.0     0.0     0.0     -100.0   200.0  -100.0     0.0\n",
       "    0.0     0.0     0.0     0.0     0.0        0.0  -100.0   200.0  -100.0\n",
       "    0.0     0.0     0.0     0.0     0.0  …     0.0     0.0  -100.0   200.0"
      ]
     },
     "execution_count": 10,
     "metadata": {},
     "output_type": "execute_result"
    }
   ],
   "source": [
    "h2 = h*h;\n",
    "Np1 = N+1; \n",
    "# initialize to zero matrix \n",
    "A = zeros(Np1,Np1)\n",
    "\n",
    "# loop over rows and columns to set values of matrix A \n",
    "for i in axes(A,1), j in axes(A,2)\n",
    "    if (i==j) A[i,j] = 2/h2 end \n",
    "    if ((i==j-1) || (i==j+1)) A[i,j] = -1/h2 end \n",
    "end\n",
    "\n",
    "A"
   ]
  },
  {
   "cell_type": "markdown",
   "metadata": {},
   "source": [
    "## Section 5.1: Perform a bit of Black Magic Explained Later in the Course "
   ]
  },
  {
   "cell_type": "code",
   "execution_count": 11,
   "metadata": {},
   "outputs": [
    {
     "data": {
      "text/plain": [
       "11×11 Matrix{Float64}:\n",
       "    1.0     0.0     0.0     0.0     0.0  …     0.0     0.0     0.0     0.0\n",
       " -100.0   200.0  -100.0     0.0     0.0        0.0     0.0     0.0     0.0\n",
       "    0.0  -100.0   200.0  -100.0     0.0        0.0     0.0     0.0     0.0\n",
       "    0.0     0.0  -100.0   200.0  -100.0        0.0     0.0     0.0     0.0\n",
       "    0.0     0.0     0.0  -100.0   200.0        0.0     0.0     0.0     0.0\n",
       "    0.0     0.0     0.0     0.0  -100.0  …     0.0     0.0     0.0     0.0\n",
       "    0.0     0.0     0.0     0.0     0.0     -100.0     0.0     0.0     0.0\n",
       "    0.0     0.0     0.0     0.0     0.0      200.0  -100.0     0.0     0.0\n",
       "    0.0     0.0     0.0     0.0     0.0     -100.0   200.0  -100.0     0.0\n",
       "    0.0     0.0     0.0     0.0     0.0        0.0  -100.0   200.0  -100.0\n",
       "    0.0     0.0     0.0     0.0     0.0  …     0.0     0.0     0.0     1.0"
      ]
     },
     "execution_count": 11,
     "metadata": {},
     "output_type": "execute_result"
    }
   ],
   "source": [
    "# modify the first row of matrix A \n",
    "A[1,1] = 1; A[1,2] = 0; \n",
    "# modify the last row of matrix A \n",
    "A[end,end] = 1; A[end,end-1] = 0;  \n",
    "A"
   ]
  },
  {
   "cell_type": "markdown",
   "metadata": {},
   "source": [
    "## Section 6.1: Solve a Linear System and Plot the Computed Solution\n",
    "Study code that follows. Study how the linear systems is being solved. Consult the documentation of the lu() function. Perform the explicit LU-decompostioon of the matrix A. Extend the size of the system being solved. Extend the plotting function with labeling of axis, title and legend. Extend the plotting function to plot both f vs. x and u vs. x. Try various values of mu and sigma. Replace the monopole source function by a dipole source function.   "
   ]
  },
  {
   "cell_type": "code",
   "execution_count": 12,
   "metadata": {},
   "outputs": [
    {
     "data": {
      "image/svg+xml": [
       "<?xml version=\"1.0\" encoding=\"utf-8\"?>\n",
       "<svg xmlns=\"http://www.w3.org/2000/svg\" xmlns:xlink=\"http://www.w3.org/1999/xlink\" width=\"600\" height=\"400\" viewBox=\"0 0 2400 1600\">\n",
       "<defs>\n",
       "  <clipPath id=\"clip290\">\n",
       "    <rect x=\"0\" y=\"0\" width=\"2400\" height=\"1600\"/>\n",
       "  </clipPath>\n",
       "</defs>\n",
       "<path clip-path=\"url(#clip290)\" d=\"M0 1600 L2400 1600 L2400 0 L0 0  Z\" fill=\"#ffffff\" fill-rule=\"evenodd\" fill-opacity=\"1\"/>\n",
       "<defs>\n",
       "  <clipPath id=\"clip291\">\n",
       "    <rect x=\"480\" y=\"0\" width=\"1681\" height=\"1600\"/>\n",
       "  </clipPath>\n",
       "</defs>\n",
       "<path clip-path=\"url(#clip290)\" d=\"M186.274 1486.45 L2352.76 1486.45 L2352.76 47.2441 L186.274 47.2441  Z\" fill=\"#ffffff\" fill-rule=\"evenodd\" fill-opacity=\"1\"/>\n",
       "<defs>\n",
       "  <clipPath id=\"clip292\">\n",
       "    <rect x=\"186\" y=\"47\" width=\"2167\" height=\"1440\"/>\n",
       "  </clipPath>\n",
       "</defs>\n",
       "<polyline clip-path=\"url(#clip292)\" style=\"stroke:#000000; stroke-linecap:round; stroke-linejoin:round; stroke-width:2; stroke-opacity:0.1; fill:none\" points=\"247.59,1486.45 247.59,47.2441 \"/>\n",
       "<polyline clip-path=\"url(#clip292)\" style=\"stroke:#000000; stroke-linecap:round; stroke-linejoin:round; stroke-width:2; stroke-opacity:0.1; fill:none\" points=\"758.552,1486.45 758.552,47.2441 \"/>\n",
       "<polyline clip-path=\"url(#clip292)\" style=\"stroke:#000000; stroke-linecap:round; stroke-linejoin:round; stroke-width:2; stroke-opacity:0.1; fill:none\" points=\"1269.51,1486.45 1269.51,47.2441 \"/>\n",
       "<polyline clip-path=\"url(#clip292)\" style=\"stroke:#000000; stroke-linecap:round; stroke-linejoin:round; stroke-width:2; stroke-opacity:0.1; fill:none\" points=\"1780.48,1486.45 1780.48,47.2441 \"/>\n",
       "<polyline clip-path=\"url(#clip292)\" style=\"stroke:#000000; stroke-linecap:round; stroke-linejoin:round; stroke-width:2; stroke-opacity:0.1; fill:none\" points=\"2291.44,1486.45 2291.44,47.2441 \"/>\n",
       "<polyline clip-path=\"url(#clip290)\" style=\"stroke:#000000; stroke-linecap:round; stroke-linejoin:round; stroke-width:4; stroke-opacity:1; fill:none\" points=\"186.274,1486.45 2352.76,1486.45 \"/>\n",
       "<polyline clip-path=\"url(#clip290)\" style=\"stroke:#000000; stroke-linecap:round; stroke-linejoin:round; stroke-width:4; stroke-opacity:1; fill:none\" points=\"247.59,1486.45 247.59,1467.55 \"/>\n",
       "<polyline clip-path=\"url(#clip290)\" style=\"stroke:#000000; stroke-linecap:round; stroke-linejoin:round; stroke-width:4; stroke-opacity:1; fill:none\" points=\"758.552,1486.45 758.552,1467.55 \"/>\n",
       "<polyline clip-path=\"url(#clip290)\" style=\"stroke:#000000; stroke-linecap:round; stroke-linejoin:round; stroke-width:4; stroke-opacity:1; fill:none\" points=\"1269.51,1486.45 1269.51,1467.55 \"/>\n",
       "<polyline clip-path=\"url(#clip290)\" style=\"stroke:#000000; stroke-linecap:round; stroke-linejoin:round; stroke-width:4; stroke-opacity:1; fill:none\" points=\"1780.48,1486.45 1780.48,1467.55 \"/>\n",
       "<polyline clip-path=\"url(#clip290)\" style=\"stroke:#000000; stroke-linecap:round; stroke-linejoin:round; stroke-width:4; stroke-opacity:1; fill:none\" points=\"2291.44,1486.45 2291.44,1467.55 \"/>\n",
       "<path clip-path=\"url(#clip290)\" d=\"M209.893 1517.37 Q206.282 1517.37 204.453 1520.93 Q202.648 1524.47 202.648 1531.6 Q202.648 1538.71 204.453 1542.27 Q206.282 1545.82 209.893 1545.82 Q213.527 1545.82 215.333 1542.27 Q217.161 1538.71 217.161 1531.6 Q217.161 1524.47 215.333 1520.93 Q213.527 1517.37 209.893 1517.37 M209.893 1513.66 Q215.703 1513.66 218.759 1518.27 Q221.837 1522.85 221.837 1531.6 Q221.837 1540.33 218.759 1544.94 Q215.703 1549.52 209.893 1549.52 Q204.083 1549.52 201.004 1544.94 Q197.949 1540.33 197.949 1531.6 Q197.949 1522.85 201.004 1518.27 Q204.083 1513.66 209.893 1513.66 Z\" fill=\"#000000\" fill-rule=\"nonzero\" fill-opacity=\"1\" /><path clip-path=\"url(#clip290)\" d=\"M230.055 1542.97 L234.939 1542.97 L234.939 1548.85 L230.055 1548.85 L230.055 1542.97 Z\" fill=\"#000000\" fill-rule=\"nonzero\" fill-opacity=\"1\" /><path clip-path=\"url(#clip290)\" d=\"M255.124 1517.37 Q251.513 1517.37 249.684 1520.93 Q247.879 1524.47 247.879 1531.6 Q247.879 1538.71 249.684 1542.27 Q251.513 1545.82 255.124 1545.82 Q258.758 1545.82 260.564 1542.27 Q262.393 1538.71 262.393 1531.6 Q262.393 1524.47 260.564 1520.93 Q258.758 1517.37 255.124 1517.37 M255.124 1513.66 Q260.934 1513.66 263.99 1518.27 Q267.069 1522.85 267.069 1531.6 Q267.069 1540.33 263.99 1544.94 Q260.934 1549.52 255.124 1549.52 Q249.314 1549.52 246.235 1544.94 Q243.18 1540.33 243.18 1531.6 Q243.18 1522.85 246.235 1518.27 Q249.314 1513.66 255.124 1513.66 Z\" fill=\"#000000\" fill-rule=\"nonzero\" fill-opacity=\"1\" /><path clip-path=\"url(#clip290)\" d=\"M285.286 1517.37 Q281.675 1517.37 279.846 1520.93 Q278.041 1524.47 278.041 1531.6 Q278.041 1538.71 279.846 1542.27 Q281.675 1545.82 285.286 1545.82 Q288.92 1545.82 290.726 1542.27 Q292.555 1538.71 292.555 1531.6 Q292.555 1524.47 290.726 1520.93 Q288.92 1517.37 285.286 1517.37 M285.286 1513.66 Q291.096 1513.66 294.152 1518.27 Q297.23 1522.85 297.23 1531.6 Q297.23 1540.33 294.152 1544.94 Q291.096 1549.52 285.286 1549.52 Q279.476 1549.52 276.397 1544.94 Q273.342 1540.33 273.342 1531.6 Q273.342 1522.85 276.397 1518.27 Q279.476 1513.66 285.286 1513.66 Z\" fill=\"#000000\" fill-rule=\"nonzero\" fill-opacity=\"1\" /><path clip-path=\"url(#clip290)\" d=\"M721.353 1517.37 Q717.742 1517.37 715.914 1520.93 Q714.108 1524.47 714.108 1531.6 Q714.108 1538.71 715.914 1542.27 Q717.742 1545.82 721.353 1545.82 Q724.988 1545.82 726.793 1542.27 Q728.622 1538.71 728.622 1531.6 Q728.622 1524.47 726.793 1520.93 Q724.988 1517.37 721.353 1517.37 M721.353 1513.66 Q727.164 1513.66 730.219 1518.27 Q733.298 1522.85 733.298 1531.6 Q733.298 1540.33 730.219 1544.94 Q727.164 1549.52 721.353 1549.52 Q715.543 1549.52 712.465 1544.94 Q709.409 1540.33 709.409 1531.6 Q709.409 1522.85 712.465 1518.27 Q715.543 1513.66 721.353 1513.66 Z\" fill=\"#000000\" fill-rule=\"nonzero\" fill-opacity=\"1\" /><path clip-path=\"url(#clip290)\" d=\"M741.515 1542.97 L746.4 1542.97 L746.4 1548.85 L741.515 1548.85 L741.515 1542.97 Z\" fill=\"#000000\" fill-rule=\"nonzero\" fill-opacity=\"1\" /><path clip-path=\"url(#clip290)\" d=\"M760.612 1544.91 L776.932 1544.91 L776.932 1548.85 L754.987 1548.85 L754.987 1544.91 Q757.649 1542.16 762.233 1537.53 Q766.839 1532.88 768.02 1531.53 Q770.265 1529.01 771.145 1527.27 Q772.048 1525.51 772.048 1523.82 Q772.048 1521.07 770.103 1519.33 Q768.182 1517.6 765.08 1517.6 Q762.881 1517.6 760.427 1518.36 Q757.997 1519.13 755.219 1520.68 L755.219 1515.95 Q758.043 1514.82 760.497 1514.24 Q762.95 1513.66 764.987 1513.66 Q770.358 1513.66 773.552 1516.35 Q776.747 1519.03 776.747 1523.52 Q776.747 1525.65 775.936 1527.57 Q775.149 1529.47 773.043 1532.07 Q772.464 1532.74 769.362 1535.95 Q766.261 1539.15 760.612 1544.91 Z\" fill=\"#000000\" fill-rule=\"nonzero\" fill-opacity=\"1\" /><path clip-path=\"url(#clip290)\" d=\"M786.793 1514.29 L805.149 1514.29 L805.149 1518.22 L791.075 1518.22 L791.075 1526.7 Q792.094 1526.35 793.112 1526.19 Q794.131 1526 795.149 1526 Q800.936 1526 804.316 1529.17 Q807.695 1532.34 807.695 1537.76 Q807.695 1543.34 804.223 1546.44 Q800.751 1549.52 794.432 1549.52 Q792.256 1549.52 789.987 1549.15 Q787.742 1548.78 785.335 1548.04 L785.335 1543.34 Q787.418 1544.47 789.64 1545.03 Q791.862 1545.58 794.339 1545.58 Q798.344 1545.58 800.682 1543.48 Q803.02 1541.37 803.02 1537.76 Q803.02 1534.15 800.682 1532.04 Q798.344 1529.94 794.339 1529.94 Q792.464 1529.94 790.589 1530.35 Q788.737 1530.77 786.793 1531.65 L786.793 1514.29 Z\" fill=\"#000000\" fill-rule=\"nonzero\" fill-opacity=\"1\" /><path clip-path=\"url(#clip290)\" d=\"M1231.82 1517.37 Q1228.21 1517.37 1226.38 1520.93 Q1224.57 1524.47 1224.57 1531.6 Q1224.57 1538.71 1226.38 1542.27 Q1228.21 1545.82 1231.82 1545.82 Q1235.45 1545.82 1237.26 1542.27 Q1239.09 1538.71 1239.09 1531.6 Q1239.09 1524.47 1237.26 1520.93 Q1235.45 1517.37 1231.82 1517.37 M1231.82 1513.66 Q1237.63 1513.66 1240.68 1518.27 Q1243.76 1522.85 1243.76 1531.6 Q1243.76 1540.33 1240.68 1544.94 Q1237.63 1549.52 1231.82 1549.52 Q1226.01 1549.52 1222.93 1544.94 Q1219.87 1540.33 1219.87 1531.6 Q1219.87 1522.85 1222.93 1518.27 Q1226.01 1513.66 1231.82 1513.66 Z\" fill=\"#000000\" fill-rule=\"nonzero\" fill-opacity=\"1\" /><path clip-path=\"url(#clip290)\" d=\"M1251.98 1542.97 L1256.86 1542.97 L1256.86 1548.85 L1251.98 1548.85 L1251.98 1542.97 Z\" fill=\"#000000\" fill-rule=\"nonzero\" fill-opacity=\"1\" /><path clip-path=\"url(#clip290)\" d=\"M1267.1 1514.29 L1285.45 1514.29 L1285.45 1518.22 L1271.38 1518.22 L1271.38 1526.7 Q1272.4 1526.35 1273.42 1526.19 Q1274.43 1526 1275.45 1526 Q1281.24 1526 1284.62 1529.17 Q1288 1532.34 1288 1537.76 Q1288 1543.34 1284.53 1546.44 Q1281.05 1549.52 1274.73 1549.52 Q1272.56 1549.52 1270.29 1549.15 Q1268.05 1548.78 1265.64 1548.04 L1265.64 1543.34 Q1267.72 1544.47 1269.94 1545.03 Q1272.17 1545.58 1274.64 1545.58 Q1278.65 1545.58 1280.98 1543.48 Q1283.32 1541.37 1283.32 1537.76 Q1283.32 1534.15 1280.98 1532.04 Q1278.65 1529.94 1274.64 1529.94 Q1272.77 1529.94 1270.89 1530.35 Q1269.04 1530.77 1267.1 1531.65 L1267.1 1514.29 Z\" fill=\"#000000\" fill-rule=\"nonzero\" fill-opacity=\"1\" /><path clip-path=\"url(#clip290)\" d=\"M1307.21 1517.37 Q1303.6 1517.37 1301.77 1520.93 Q1299.97 1524.47 1299.97 1531.6 Q1299.97 1538.71 1301.77 1542.27 Q1303.6 1545.82 1307.21 1545.82 Q1310.85 1545.82 1312.65 1542.27 Q1314.48 1538.71 1314.48 1531.6 Q1314.48 1524.47 1312.65 1520.93 Q1310.85 1517.37 1307.21 1517.37 M1307.21 1513.66 Q1313.02 1513.66 1316.08 1518.27 Q1319.16 1522.85 1319.16 1531.6 Q1319.16 1540.33 1316.08 1544.94 Q1313.02 1549.52 1307.21 1549.52 Q1301.4 1549.52 1298.32 1544.94 Q1295.27 1540.33 1295.27 1531.6 Q1295.27 1522.85 1298.32 1518.27 Q1301.4 1513.66 1307.21 1513.66 Z\" fill=\"#000000\" fill-rule=\"nonzero\" fill-opacity=\"1\" /><path clip-path=\"url(#clip290)\" d=\"M1743.28 1517.37 Q1739.67 1517.37 1737.84 1520.93 Q1736.03 1524.47 1736.03 1531.6 Q1736.03 1538.71 1737.84 1542.27 Q1739.67 1545.82 1743.28 1545.82 Q1746.91 1545.82 1748.72 1542.27 Q1750.55 1538.71 1750.55 1531.6 Q1750.55 1524.47 1748.72 1520.93 Q1746.91 1517.37 1743.28 1517.37 M1743.28 1513.66 Q1749.09 1513.66 1752.14 1518.27 Q1755.22 1522.85 1755.22 1531.6 Q1755.22 1540.33 1752.14 1544.94 Q1749.09 1549.52 1743.28 1549.52 Q1737.47 1549.52 1734.39 1544.94 Q1731.33 1540.33 1731.33 1531.6 Q1731.33 1522.85 1734.39 1518.27 Q1737.47 1513.66 1743.28 1513.66 Z\" fill=\"#000000\" fill-rule=\"nonzero\" fill-opacity=\"1\" /><path clip-path=\"url(#clip290)\" d=\"M1763.44 1542.97 L1768.32 1542.97 L1768.32 1548.85 L1763.44 1548.85 L1763.44 1542.97 Z\" fill=\"#000000\" fill-rule=\"nonzero\" fill-opacity=\"1\" /><path clip-path=\"url(#clip290)\" d=\"M1777.33 1514.29 L1799.55 1514.29 L1799.55 1516.28 L1787.01 1548.85 L1782.12 1548.85 L1793.93 1518.22 L1777.33 1518.22 L1777.33 1514.29 Z\" fill=\"#000000\" fill-rule=\"nonzero\" fill-opacity=\"1\" /><path clip-path=\"url(#clip290)\" d=\"M1808.72 1514.29 L1827.07 1514.29 L1827.07 1518.22 L1813 1518.22 L1813 1526.7 Q1814.02 1526.35 1815.04 1526.19 Q1816.06 1526 1817.07 1526 Q1822.86 1526 1826.24 1529.17 Q1829.62 1532.34 1829.62 1537.76 Q1829.62 1543.34 1826.15 1546.44 Q1822.68 1549.52 1816.36 1549.52 Q1814.18 1549.52 1811.91 1549.15 Q1809.67 1548.78 1807.26 1548.04 L1807.26 1543.34 Q1809.34 1544.47 1811.57 1545.03 Q1813.79 1545.58 1816.26 1545.58 Q1820.27 1545.58 1822.61 1543.48 Q1824.95 1541.37 1824.95 1537.76 Q1824.95 1534.15 1822.61 1532.04 Q1820.27 1529.94 1816.26 1529.94 Q1814.39 1529.94 1812.51 1530.35 Q1810.66 1530.77 1808.72 1531.65 L1808.72 1514.29 Z\" fill=\"#000000\" fill-rule=\"nonzero\" fill-opacity=\"1\" /><path clip-path=\"url(#clip290)\" d=\"M2243.51 1544.91 L2251.15 1544.91 L2251.15 1518.55 L2242.84 1520.21 L2242.84 1515.95 L2251.1 1514.29 L2255.78 1514.29 L2255.78 1544.91 L2263.42 1544.91 L2263.42 1548.85 L2243.51 1548.85 L2243.51 1544.91 Z\" fill=\"#000000\" fill-rule=\"nonzero\" fill-opacity=\"1\" /><path clip-path=\"url(#clip290)\" d=\"M2272.86 1542.97 L2277.75 1542.97 L2277.75 1548.85 L2272.86 1548.85 L2272.86 1542.97 Z\" fill=\"#000000\" fill-rule=\"nonzero\" fill-opacity=\"1\" /><path clip-path=\"url(#clip290)\" d=\"M2297.93 1517.37 Q2294.32 1517.37 2292.49 1520.93 Q2290.69 1524.47 2290.69 1531.6 Q2290.69 1538.71 2292.49 1542.27 Q2294.32 1545.82 2297.93 1545.82 Q2301.57 1545.82 2303.37 1542.27 Q2305.2 1538.71 2305.2 1531.6 Q2305.2 1524.47 2303.37 1520.93 Q2301.57 1517.37 2297.93 1517.37 M2297.93 1513.66 Q2303.74 1513.66 2306.8 1518.27 Q2309.88 1522.85 2309.88 1531.6 Q2309.88 1540.33 2306.8 1544.94 Q2303.74 1549.52 2297.93 1549.52 Q2292.12 1549.52 2289.04 1544.94 Q2285.99 1540.33 2285.99 1531.6 Q2285.99 1522.85 2289.04 1518.27 Q2292.12 1513.66 2297.93 1513.66 Z\" fill=\"#000000\" fill-rule=\"nonzero\" fill-opacity=\"1\" /><path clip-path=\"url(#clip290)\" d=\"M2328.1 1517.37 Q2324.48 1517.37 2322.66 1520.93 Q2320.85 1524.47 2320.85 1531.6 Q2320.85 1538.71 2322.66 1542.27 Q2324.48 1545.82 2328.1 1545.82 Q2331.73 1545.82 2333.54 1542.27 Q2335.36 1538.71 2335.36 1531.6 Q2335.36 1524.47 2333.54 1520.93 Q2331.73 1517.37 2328.1 1517.37 M2328.1 1513.66 Q2333.91 1513.66 2336.96 1518.27 Q2340.04 1522.85 2340.04 1531.6 Q2340.04 1540.33 2336.96 1544.94 Q2333.91 1549.52 2328.1 1549.52 Q2322.29 1549.52 2319.21 1544.94 Q2316.15 1540.33 2316.15 1531.6 Q2316.15 1522.85 2319.21 1518.27 Q2322.29 1513.66 2328.1 1513.66 Z\" fill=\"#000000\" fill-rule=\"nonzero\" fill-opacity=\"1\" /><polyline clip-path=\"url(#clip292)\" style=\"stroke:#000000; stroke-linecap:round; stroke-linejoin:round; stroke-width:2; stroke-opacity:0.1; fill:none\" points=\"186.274,1445.72 2352.76,1445.72 \"/>\n",
       "<polyline clip-path=\"url(#clip292)\" style=\"stroke:#000000; stroke-linecap:round; stroke-linejoin:round; stroke-width:2; stroke-opacity:0.1; fill:none\" points=\"186.274,1037.53 2352.76,1037.53 \"/>\n",
       "<polyline clip-path=\"url(#clip292)\" style=\"stroke:#000000; stroke-linecap:round; stroke-linejoin:round; stroke-width:2; stroke-opacity:0.1; fill:none\" points=\"186.274,629.348 2352.76,629.348 \"/>\n",
       "<polyline clip-path=\"url(#clip292)\" style=\"stroke:#000000; stroke-linecap:round; stroke-linejoin:round; stroke-width:2; stroke-opacity:0.1; fill:none\" points=\"186.274,221.165 2352.76,221.165 \"/>\n",
       "<polyline clip-path=\"url(#clip290)\" style=\"stroke:#000000; stroke-linecap:round; stroke-linejoin:round; stroke-width:4; stroke-opacity:1; fill:none\" points=\"186.274,1486.45 186.274,47.2441 \"/>\n",
       "<polyline clip-path=\"url(#clip290)\" style=\"stroke:#000000; stroke-linecap:round; stroke-linejoin:round; stroke-width:4; stroke-opacity:1; fill:none\" points=\"186.274,1445.72 205.172,1445.72 \"/>\n",
       "<polyline clip-path=\"url(#clip290)\" style=\"stroke:#000000; stroke-linecap:round; stroke-linejoin:round; stroke-width:4; stroke-opacity:1; fill:none\" points=\"186.274,1037.53 205.172,1037.53 \"/>\n",
       "<polyline clip-path=\"url(#clip290)\" style=\"stroke:#000000; stroke-linecap:round; stroke-linejoin:round; stroke-width:4; stroke-opacity:1; fill:none\" points=\"186.274,629.348 205.172,629.348 \"/>\n",
       "<polyline clip-path=\"url(#clip290)\" style=\"stroke:#000000; stroke-linecap:round; stroke-linejoin:round; stroke-width:4; stroke-opacity:1; fill:none\" points=\"186.274,221.165 205.172,221.165 \"/>\n",
       "<path clip-path=\"url(#clip290)\" d=\"M62.9365 1431.51 Q59.3254 1431.51 57.4967 1435.08 Q55.6912 1438.62 55.6912 1445.75 Q55.6912 1452.86 57.4967 1456.42 Q59.3254 1459.96 62.9365 1459.96 Q66.5707 1459.96 68.3763 1456.42 Q70.205 1452.86 70.205 1445.75 Q70.205 1438.62 68.3763 1435.08 Q66.5707 1431.51 62.9365 1431.51 M62.9365 1427.81 Q68.7467 1427.81 71.8022 1432.42 Q74.8809 1437 74.8809 1445.75 Q74.8809 1454.48 71.8022 1459.08 Q68.7467 1463.67 62.9365 1463.67 Q57.1264 1463.67 54.0477 1459.08 Q50.9921 1454.48 50.9921 1445.75 Q50.9921 1437 54.0477 1432.42 Q57.1264 1427.81 62.9365 1427.81 Z\" fill=\"#000000\" fill-rule=\"nonzero\" fill-opacity=\"1\" /><path clip-path=\"url(#clip290)\" d=\"M83.0984 1457.12 L87.9827 1457.12 L87.9827 1463 L83.0984 1463 L83.0984 1457.12 Z\" fill=\"#000000\" fill-rule=\"nonzero\" fill-opacity=\"1\" /><path clip-path=\"url(#clip290)\" d=\"M108.168 1431.51 Q104.557 1431.51 102.728 1435.08 Q100.922 1438.62 100.922 1445.75 Q100.922 1452.86 102.728 1456.42 Q104.557 1459.96 108.168 1459.96 Q111.802 1459.96 113.608 1456.42 Q115.436 1452.86 115.436 1445.75 Q115.436 1438.62 113.608 1435.08 Q111.802 1431.51 108.168 1431.51 M108.168 1427.81 Q113.978 1427.81 117.033 1432.42 Q120.112 1437 120.112 1445.75 Q120.112 1454.48 117.033 1459.08 Q113.978 1463.67 108.168 1463.67 Q102.358 1463.67 99.2789 1459.08 Q96.2234 1454.48 96.2234 1445.75 Q96.2234 1437 99.2789 1432.42 Q102.358 1427.81 108.168 1427.81 Z\" fill=\"#000000\" fill-rule=\"nonzero\" fill-opacity=\"1\" /><path clip-path=\"url(#clip290)\" d=\"M138.33 1431.51 Q134.719 1431.51 132.89 1435.08 Q131.084 1438.62 131.084 1445.75 Q131.084 1452.86 132.89 1456.42 Q134.719 1459.96 138.33 1459.96 Q141.964 1459.96 143.769 1456.42 Q145.598 1452.86 145.598 1445.75 Q145.598 1438.62 143.769 1435.08 Q141.964 1431.51 138.33 1431.51 M138.33 1427.81 Q144.14 1427.81 147.195 1432.42 Q150.274 1437 150.274 1445.75 Q150.274 1454.48 147.195 1459.08 Q144.14 1463.67 138.33 1463.67 Q132.519 1463.67 129.441 1459.08 Q126.385 1454.48 126.385 1445.75 Q126.385 1437 129.441 1432.42 Q132.519 1427.81 138.33 1427.81 Z\" fill=\"#000000\" fill-rule=\"nonzero\" fill-opacity=\"1\" /><path clip-path=\"url(#clip290)\" d=\"M64.1634 1023.33 Q60.5523 1023.33 58.7236 1026.9 Q56.918 1030.44 56.918 1037.57 Q56.918 1044.67 58.7236 1048.24 Q60.5523 1051.78 64.1634 1051.78 Q67.7976 1051.78 69.6031 1048.24 Q71.4318 1044.67 71.4318 1037.57 Q71.4318 1030.44 69.6031 1026.9 Q67.7976 1023.33 64.1634 1023.33 M64.1634 1019.63 Q69.9735 1019.63 73.029 1024.23 Q76.1077 1028.82 76.1077 1037.57 Q76.1077 1046.29 73.029 1050.9 Q69.9735 1055.48 64.1634 1055.48 Q58.3532 1055.48 55.2745 1050.9 Q52.219 1046.29 52.219 1037.57 Q52.219 1028.82 55.2745 1024.23 Q58.3532 1019.63 64.1634 1019.63 Z\" fill=\"#000000\" fill-rule=\"nonzero\" fill-opacity=\"1\" /><path clip-path=\"url(#clip290)\" d=\"M84.3253 1048.93 L89.2095 1048.93 L89.2095 1054.81 L84.3253 1054.81 L84.3253 1048.93 Z\" fill=\"#000000\" fill-rule=\"nonzero\" fill-opacity=\"1\" /><path clip-path=\"url(#clip290)\" d=\"M109.395 1023.33 Q105.783 1023.33 103.955 1026.9 Q102.149 1030.44 102.149 1037.57 Q102.149 1044.67 103.955 1048.24 Q105.783 1051.78 109.395 1051.78 Q113.029 1051.78 114.834 1048.24 Q116.663 1044.67 116.663 1037.57 Q116.663 1030.44 114.834 1026.9 Q113.029 1023.33 109.395 1023.33 M109.395 1019.63 Q115.205 1019.63 118.26 1024.23 Q121.339 1028.82 121.339 1037.57 Q121.339 1046.29 118.26 1050.9 Q115.205 1055.48 109.395 1055.48 Q103.584 1055.48 100.506 1050.9 Q97.4502 1046.29 97.4502 1037.57 Q97.4502 1028.82 100.506 1024.23 Q103.584 1019.63 109.395 1019.63 Z\" fill=\"#000000\" fill-rule=\"nonzero\" fill-opacity=\"1\" /><path clip-path=\"url(#clip290)\" d=\"M130.367 1050.88 L138.006 1050.88 L138.006 1024.51 L129.695 1026.18 L129.695 1021.92 L137.959 1020.25 L142.635 1020.25 L142.635 1050.88 L150.274 1050.88 L150.274 1054.81 L130.367 1054.81 L130.367 1050.88 Z\" fill=\"#000000\" fill-rule=\"nonzero\" fill-opacity=\"1\" /><path clip-path=\"url(#clip290)\" d=\"M64.5337 615.147 Q60.9226 615.147 59.0939 618.712 Q57.2884 622.254 57.2884 629.383 Q57.2884 636.49 59.0939 640.054 Q60.9226 643.596 64.5337 643.596 Q68.168 643.596 69.9735 640.054 Q71.8022 636.49 71.8022 629.383 Q71.8022 622.254 69.9735 618.712 Q68.168 615.147 64.5337 615.147 M64.5337 611.443 Q70.3439 611.443 73.3994 616.05 Q76.4781 620.633 76.4781 629.383 Q76.4781 638.11 73.3994 642.716 Q70.3439 647.3 64.5337 647.3 Q58.7236 647.3 55.6449 642.716 Q52.5893 638.11 52.5893 629.383 Q52.5893 620.633 55.6449 616.05 Q58.7236 611.443 64.5337 611.443 Z\" fill=\"#000000\" fill-rule=\"nonzero\" fill-opacity=\"1\" /><path clip-path=\"url(#clip290)\" d=\"M84.6956 640.749 L89.5799 640.749 L89.5799 646.628 L84.6956 646.628 L84.6956 640.749 Z\" fill=\"#000000\" fill-rule=\"nonzero\" fill-opacity=\"1\" /><path clip-path=\"url(#clip290)\" d=\"M109.765 615.147 Q106.154 615.147 104.325 618.712 Q102.52 622.254 102.52 629.383 Q102.52 636.49 104.325 640.054 Q106.154 643.596 109.765 643.596 Q113.399 643.596 115.205 640.054 Q117.033 636.49 117.033 629.383 Q117.033 622.254 115.205 618.712 Q113.399 615.147 109.765 615.147 M109.765 611.443 Q115.575 611.443 118.631 616.05 Q121.709 620.633 121.709 629.383 Q121.709 638.11 118.631 642.716 Q115.575 647.3 109.765 647.3 Q103.955 647.3 100.876 642.716 Q97.8206 638.11 97.8206 629.383 Q97.8206 620.633 100.876 616.05 Q103.955 611.443 109.765 611.443 Z\" fill=\"#000000\" fill-rule=\"nonzero\" fill-opacity=\"1\" /><path clip-path=\"url(#clip290)\" d=\"M133.955 642.693 L150.274 642.693 L150.274 646.628 L128.33 646.628 L128.33 642.693 Q130.992 639.939 135.575 635.309 Q140.181 630.656 141.362 629.314 Q143.607 626.791 144.487 625.054 Q145.39 623.295 145.39 621.605 Q145.39 618.851 143.445 617.115 Q141.524 615.379 138.422 615.379 Q136.223 615.379 133.769 616.142 Q131.339 616.906 128.561 618.457 L128.561 613.735 Q131.385 612.601 133.839 612.022 Q136.293 611.443 138.33 611.443 Q143.7 611.443 146.894 614.129 Q150.089 616.814 150.089 621.304 Q150.089 623.434 149.279 625.355 Q148.492 627.254 146.385 629.846 Q145.806 630.517 142.705 633.735 Q139.603 636.929 133.955 642.693 Z\" fill=\"#000000\" fill-rule=\"nonzero\" fill-opacity=\"1\" /><path clip-path=\"url(#clip290)\" d=\"M63.5847 206.963 Q59.9736 206.963 58.1449 210.528 Q56.3393 214.07 56.3393 221.199 Q56.3393 228.306 58.1449 231.871 Q59.9736 235.412 63.5847 235.412 Q67.2189 235.412 69.0244 231.871 Q70.8531 228.306 70.8531 221.199 Q70.8531 214.07 69.0244 210.528 Q67.2189 206.963 63.5847 206.963 M63.5847 203.26 Q69.3948 203.26 72.4503 207.866 Q75.529 212.45 75.529 221.199 Q75.529 229.926 72.4503 234.533 Q69.3948 239.116 63.5847 239.116 Q57.7745 239.116 54.6958 234.533 Q51.6403 229.926 51.6403 221.199 Q51.6403 212.45 54.6958 207.866 Q57.7745 203.26 63.5847 203.26 Z\" fill=\"#000000\" fill-rule=\"nonzero\" fill-opacity=\"1\" /><path clip-path=\"url(#clip290)\" d=\"M83.7466 232.565 L88.6308 232.565 L88.6308 238.445 L83.7466 238.445 L83.7466 232.565 Z\" fill=\"#000000\" fill-rule=\"nonzero\" fill-opacity=\"1\" /><path clip-path=\"url(#clip290)\" d=\"M108.816 206.963 Q105.205 206.963 103.376 210.528 Q101.571 214.07 101.571 221.199 Q101.571 228.306 103.376 231.871 Q105.205 235.412 108.816 235.412 Q112.45 235.412 114.256 231.871 Q116.084 228.306 116.084 221.199 Q116.084 214.07 114.256 210.528 Q112.45 206.963 108.816 206.963 M108.816 203.26 Q114.626 203.26 117.682 207.866 Q120.76 212.45 120.76 221.199 Q120.76 229.926 117.682 234.533 Q114.626 239.116 108.816 239.116 Q103.006 239.116 99.927 234.533 Q96.8715 229.926 96.8715 221.199 Q96.8715 212.45 99.927 207.866 Q103.006 203.26 108.816 203.26 Z\" fill=\"#000000\" fill-rule=\"nonzero\" fill-opacity=\"1\" /><path clip-path=\"url(#clip290)\" d=\"M143.144 219.811 Q146.501 220.528 148.376 222.797 Q150.274 225.065 150.274 228.399 Q150.274 233.514 146.756 236.315 Q143.237 239.116 136.756 239.116 Q134.58 239.116 132.265 238.676 Q129.973 238.26 127.519 237.403 L127.519 232.889 Q129.464 234.023 131.779 234.602 Q134.094 235.181 136.617 235.181 Q141.015 235.181 143.306 233.445 Q145.621 231.709 145.621 228.399 Q145.621 225.343 143.468 223.63 Q141.339 221.894 137.519 221.894 L133.492 221.894 L133.492 218.051 L137.705 218.051 Q141.154 218.051 142.982 216.686 Q144.811 215.297 144.811 212.704 Q144.811 210.042 142.913 208.63 Q141.038 207.195 137.519 207.195 Q135.598 207.195 133.399 207.612 Q131.2 208.028 128.561 208.908 L128.561 204.741 Q131.223 204.001 133.538 203.63 Q135.876 203.26 137.936 203.26 Q143.26 203.26 146.362 205.69 Q149.464 208.098 149.464 212.218 Q149.464 215.088 147.82 217.079 Q146.177 219.047 143.144 219.811 Z\" fill=\"#000000\" fill-rule=\"nonzero\" fill-opacity=\"1\" /><polyline clip-path=\"url(#clip292)\" style=\"stroke:#009af9; stroke-linecap:round; stroke-linejoin:round; stroke-width:4; stroke-opacity:1; fill:none\" points=\"247.59,1440.68 451.975,934.739 656.36,436.277 860.745,87.9763 1065.13,147.86 1269.51,357.905 1473.9,575.427 1678.29,792.999 1882.67,1010.57 2087.06,1228.14 2291.44,1445.72 \"/>\n",
       "<path clip-path=\"url(#clip290)\" d=\"M2011.46 198.898 L2280.54 198.898 L2280.54 95.2176 L2011.46 95.2176  Z\" fill=\"#ffffff\" fill-rule=\"evenodd\" fill-opacity=\"1\"/>\n",
       "<polyline clip-path=\"url(#clip290)\" style=\"stroke:#000000; stroke-linecap:round; stroke-linejoin:round; stroke-width:4; stroke-opacity:1; fill:none\" points=\"2011.46,198.898 2280.54,198.898 2280.54,95.2176 2011.46,95.2176 2011.46,198.898 \"/>\n",
       "<polyline clip-path=\"url(#clip290)\" style=\"stroke:#009af9; stroke-linecap:round; stroke-linejoin:round; stroke-width:4; stroke-opacity:1; fill:none\" points=\"2035.53,147.058 2179.97,147.058 \"/>\n",
       "<path clip-path=\"url(#clip290)\" d=\"M2217.88 166.745 Q2216.07 171.375 2214.36 172.787 Q2212.65 174.199 2209.78 174.199 L2206.38 174.199 L2206.38 170.634 L2208.88 170.634 Q2210.63 170.634 2211.61 169.8 Q2212.58 168.967 2213.76 165.865 L2214.52 163.921 L2204.04 138.412 L2208.55 138.412 L2216.65 158.689 L2224.76 138.412 L2229.27 138.412 L2217.88 166.745 Z\" fill=\"#000000\" fill-rule=\"nonzero\" fill-opacity=\"1\" /><path clip-path=\"url(#clip290)\" d=\"M2236.56 160.402 L2244.2 160.402 L2244.2 134.037 L2235.89 135.703 L2235.89 131.444 L2244.15 129.778 L2248.83 129.778 L2248.83 160.402 L2256.47 160.402 L2256.47 164.338 L2236.56 164.338 L2236.56 160.402 Z\" fill=\"#000000\" fill-rule=\"nonzero\" fill-opacity=\"1\" /></svg>\n"
      ]
     },
     "execution_count": 12,
     "metadata": {},
     "output_type": "execute_result"
    }
   ],
   "source": [
    "u  = A \\ f\n",
    "plot(x,u)"
   ]
  },
  {
   "cell_type": "markdown",
   "metadata": {},
   "source": [
    "## Section 6.1: Write the computed solution to file \n",
    "The cell below write the solution to a file. Visualize the solution in paraview. "
   ]
  },
  {
   "cell_type": "code",
   "execution_count": 13,
   "metadata": {},
   "outputs": [
    {
     "data": {
      "text/plain": [
       "1-element Vector{String}:\n",
       " \"data/data.vtr\""
      ]
     },
     "execution_count": 13,
     "metadata": {},
     "output_type": "execute_result"
    }
   ],
   "source": [
    "# Create VTK file structure using x and u \n",
    "# vtkfile = vtk_grid(\"data\", x; compress = false, append = true, ascii = true) do vtk \n",
    "vtkfile = vtk_grid(\"data/data\", x,[0.],[0.]; compress = false, append = true, ascii = true) do vtk \n",
    "    vtk[\"solution\"] = u \n",
    "end "
   ]
  },
  {
   "cell_type": "markdown",
   "metadata": {},
   "source": [
    "# Section 2: Introduction to GMSH"
   ]
  },
  {
   "cell_type": "markdown",
   "metadata": {},
   "source": [
    "## Section 1.2: Introduction\n",
    "\n",
    "[GMSH](https://gmsh.info) is a package for geometry definition and mesh generation. \n",
    "\n",
    "Tutorials on the use of GMSH are listed at [GMSH Julia Tutorials](https://gitlab.onelab.info/gmsh/gmsh/-/tree/master/tutorials/julia)."
   ]
  },
  {
   "cell_type": "markdown",
   "metadata": {},
   "source": [
    "## Section 2.2: Installing GMSH as a Julia Package\n",
    "\n",
    "Install GMSH as a Julia following the instructions provided at [GMSH.jl](https://github.com/JuliaFEM/Gmsh.jl). \n",
    "\n",
    "In case of difficulties on a Windows, proceed as described below. \n",
    "\n",
    "### Problem on Windows\n",
    "Installing Gmsh.jl via the Pkg manager yields an error on Windows machines.\n",
    "```\n",
    "julia> using Pkg; Pkg.add(\"Gmsh\")\n",
    "ERROR: Error building `Gmsh`:\n",
    "ERROR: LoadError: Your platform (\"x86_64-w64-mingw32\", parsed as \"x86_64-w64-mingw32-gcc8-cxx11\") is not supported by this package!\n",
    "```\n",
    "\n",
    "### Workaround\n",
    "1. Download the Gmsh SDK from https://gmsh.info/ and unzip the contents.\n",
    "2. Now, Gmsh can be used in Julia by executing\n",
    "```\n",
    "include(\"PATH_TO_SDK/lib/gmsh.jl\")\n",
    "```\n",
    "where `PATH_TO_SDK` is the location where you unzipped the SDK files.\n",
    "3. This is not ideal as permanent solution. To improve this, we can add the SDK /lib folder to Julia\\'s `LOAD_PATH` and load it using the normal package inclusion methods. To do this, execute\n",
    "```\n",
    "push!(LOAD_PATH, \"PATH_TO_SDK/lib\")\n",
    "using gmsh\n",
    "```\n",
    "4. To make this change permanent, the line\n",
    "```\n",
    "push!(LOAD_PATH, \"PATH_TO_SDK/lib\")\n",
    "```\n",
    "can be placed in the startup script located at `C:\\Users\\$user\\.julia\\config\\startup.jl`. If this script is not present you can create it. Take care that the extension is `.jl` and not `.jl.txt`, which Windows is likely to do for you.\n",
    "5. After making this change and restarting the Julia command prompt, you should be able to use\n",
    "```\n",
    "using gmsh\n",
    "```\n",
    "or\n",
    "```\n",
    "import gmsh\n",
    "```\n",
    "to use Gmsh as a package. Try this by executing one of the tutorial scripts in `PATH_TO_SDK\\share\\doc\\gmsh\\tutorials\\julia`."
   ]
  },
  {
   "cell_type": "markdown",
   "metadata": {},
   "source": [
    "## Section 3.2: First Example - Tutorial t1.jl \n",
    "1. Study the [tutorial example t1.jl](https://gitlab.onelab.info/gmsh/gmsh/-/blob/master/tutorials/julia/t1.jl);  \n",
    "2. Describe how geometry is generated using points, lines and surfaces; \n",
    "3. Describe how mesh is generated using mesh parameter setting and mesh generation; "
   ]
  },
  {
   "cell_type": "markdown",
   "metadata": {},
   "source": [
    "## Section 4.2: More Examples on geometry defintion and mesh generation \n",
    "Study the [tutorial example t2.jl](https://gitlab.onelab.info/gmsh/gmsh/-/blob/master/tutorials/julia/t2.jl), other geometries (circle, L-shape, square with boundary defined by a spline, geometry that changes by a script) or other GMSH tutorial examples of choice.  "
   ]
  },
  {
   "cell_type": "markdown",
   "metadata": {},
   "source": [
    "## Section 5.2: Write the generated mesh to file\n",
    "The cells that follows goes through the following steps: \n",
    "1. read a GMSH file from file (in this case the file square.msh); \n",
    "2. extract points and cells from the mesh; \n",
    "3. write the points and the cells to a file that can be read by paraview; \n",
    "This allows to visualize the mesh in paraview. It is instructive to study how points and cells are extracted from the mesh data structure. The alternative is to use the GMSH graphical users interface to visualize the mesh. "
   ]
  },
  {
   "cell_type": "code",
   "execution_count": 14,
   "metadata": {},
   "outputs": [],
   "source": [
    "try\n",
    "    using Gmsh: gmsh\n",
    "catch\n",
    "    using gmsh\n",
    "end"
   ]
  },
  {
   "cell_type": "code",
   "execution_count": 15,
   "metadata": {},
   "outputs": [
    {
     "name": "stdout",
     "output_type": "stream",
     "text": [
      "Info    : Reading 'data/square.msh'...\n",
      "Info    : 9 entities\n",
      "Info    : 3014 nodes\n",
      "Info    : 6030 elements\n",
      "Info    : Done reading 'data/square.msh'\n"
     ]
    }
   ],
   "source": [
    "#..1/7: Initialize gmsh engine \n",
    "gmsh.initialize()\n",
    "\n",
    "#..2/7: Read the mesh from file the mesh\n",
    "gmsh.open(\"data/square.msh\")\n",
    "\n",
    "#..3/7: Get and sort the mesh nodes\n",
    "#..Observe that although the mesh is two-dimensional,\n",
    "#..the z-coordinate that is equal to zero is stored as well.\n",
    "#..Observe that the coordinates are stored contiguously for computational\n",
    "#..efficiency\n",
    "node_ids, node_coord, _ = gmsh.model.mesh.getNodes()\n",
    "nnodes = length(node_ids)\n",
    "#..sort the node coordinates by ID, such that Node one sits at row 1\n",
    "tosort = [node_ids node_coord[1:3:end] node_coord[2:3:end]];\n",
    "sorted = sortslices(tosort , dims = 1);\n",
    "node_ids = sorted[:,1]\n",
    "xnode = sorted[:,2]\n",
    "ynode = sorted[:,3]\n",
    "\n",
    "#..4/7: Get the mesh elements\n",
    "#..observe that we get all the two-dimensional triangular elements from the mesh\n",
    "element_types, element_ids, element_connectivity = gmsh.model.mesh.getElements(2)\n",
    "nelements = length(element_ids[1])\n",
    "\n",
    "#..initialize elements \n",
    "elements = [zeros(Int, 3) for i in 1:nelements];\n",
    "#..loop over elements and store data into elements     \n",
    "for element_id in 1:nelements\n",
    "    node1_id = element_connectivity[1][3*(element_id-1)+1]\n",
    "    node2_id = element_connectivity[1][3*(element_id-1)+2]\n",
    "    node3_id = element_connectivity[1][3*(element_id-1)+3]\n",
    "        \n",
    "    # Store connectivity in a convenient format\n",
    "    elements[element_id] = [node1_id, node2_id, node3_id]\n",
    "end\n",
    "\n",
    "#..5/7: Define nodes (points) and elements (cells)\n",
    "#..The MeshCell data structure in provided by the WriteVTK.jl package   \n",
    "points = [xnode ynode]';\n",
    "cells = [MeshCell(VTKCellTypes.VTK_TRIANGLE, el) for el in elements];\n",
    "\n",
    "#..6/7: Create VTK file structure using nodes and elements\n",
    "vtkfile  = vtk_grid(\"data/mesh\", points, cells);\n",
    "outfiles = vtk_save(vtkfile);\n",
    "\n",
    "#..7/7: Finalize gmsh engine \n",
    "gmsh.finalize()"
   ]
  },
  {
   "cell_type": "markdown",
   "metadata": {},
   "source": [
    "## References"
   ]
  },
  {
   "cell_type": "code",
   "execution_count": null,
   "metadata": {},
   "outputs": [],
   "source": []
  }
 ],
 "metadata": {
  "kernelspec": {
   "display_name": "Julia 1.8.1",
   "language": "julia",
   "name": "julia-1.8"
  },
  "language_info": {
   "file_extension": ".jl",
   "mimetype": "application/julia",
   "name": "julia",
   "version": "1.8.1"
  }
 },
 "nbformat": 4,
 "nbformat_minor": 2
}
