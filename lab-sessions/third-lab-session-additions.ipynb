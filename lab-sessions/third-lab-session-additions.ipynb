{
 "cells": [
  {
   "cell_type": "markdown",
   "id": "f465a445",
   "metadata": {},
   "source": [
    "# EE4375-2022: Third Lab Session: Using DiffEqOperators in Two Dimensions"
   ]
  },
  {
   "cell_type": "markdown",
   "id": "9ee67a60",
   "metadata": {},
   "source": [
    "This example is taken from [https://rveltz.github.io/BifurcationKit.jl/stable/tutorials2/]. Seems that interior nodes only are taken into account. "
   ]
  },
  {
   "cell_type": "code",
   "execution_count": 32,
   "id": "25c6fe8c",
   "metadata": {},
   "outputs": [
    {
     "name": "stdout",
     "output_type": "stream",
     "text": [
      "\n",
      " -16.0    4.0    4.0     ⋅ \n",
      "   4.0  -16.0     ⋅     4.0\n",
      "   4.0     ⋅   -16.0    4.0\n",
      "    ⋅     4.0    4.0  -16.0"
     ]
    }
   ],
   "source": [
    "using DiffEqOperators\n",
    "using LinearAlgebra, Plots, SparseArrays\n",
    "\n",
    "# helper function to plot solution\n",
    "#heatmapsol(x) = heatmap(reshape(x,Nx,Ny)',color=:viridis)\n",
    "\n",
    "Nx = 2\n",
    "Ny = 2 \n",
    "hx = 1/Nx\n",
    "hy = 1/Ny \n",
    "\n",
    "# we use DiffEqOperators to compute the Laplacian operator\n",
    "function Laplacian2D(Nx, Ny, hx, hy)\n",
    "\tD2x = CenteredDifference(2, 2, hx, Nx)\n",
    "\tD2y = CenteredDifference(2, 2, hy, Ny)\n",
    "\tQx = Neumann0BC(hx)\n",
    "\tQy = Neumann0BC(hy)\n",
    "\tQx = Dirichlet0BC(Float64)\n",
    "    Qy = Dirichlet0BC(Float64)\n",
    "\tA = kron(sparse(I, Ny, Ny), sparse(D2x * Qx)[1]) + kron(sparse(D2y * Qy)[1], sparse(I, Nx, Nx))\n",
    "\treturn A\n",
    "end\n",
    "\n",
    "A = Laplacian2D(Nx, Ny, hx, hy)\n",
    "\n",
    "print(A)"
   ]
  },
  {
   "cell_type": "code",
   "execution_count": 28,
   "id": "7bb5d3c3",
   "metadata": {},
   "outputs": [
    {
     "name": "stdout",
     "output_type": "stream",
     "text": [
      "Prior handling bc [1.0, 1.0]\n",
      "\n",
      "After handling bc [-1.0, 1.0, 1.0, 6.0]\n",
      "\n"
     ]
    }
   ],
   "source": [
    "using Test\n",
    "using DiffEqOperators, OrdinaryDiffEq, LinearAlgebra\n",
    "\n",
    "# Space domain and grids\n",
    "N = 3\n",
    "Δx = 1. #/(N-1)\n",
    "c = 1\n",
    "x = 0:Δx:1;\n",
    "t = 0. \n",
    "\n",
    "# solution of the single forward moving wave\n",
    "ϕ(x,t) = 1. #(1/2)*sech.((x .- t)/2).^2 \n",
    "\n",
    "# Discretizing the PDE at t = 0\n",
    "u0 = ones(size(x));\n",
    "du = zeros(size(x)); \n",
    "\n",
    "# Declaring the Upwind operator with winding = -1 since the wave travels from left to right \n",
    "A = UpwindDifference{Float64}(1,3,Δx,length(x),-1);\n",
    "\n",
    "# Qx = Neumann0BC(Δx)\n",
    "# Qx = NeumannBC((2.,2.),Δx)\n",
    "Qx = NeumannBC((2.,5.),Δx) # Left and right node \n",
    "\n",
    "# for Robin boundary conditions\n",
    "# use two (left and right) tuples of three (alpha, beta and gamma). \n",
    "\n",
    "bc = GeneralBC([0,1,-6*ϕ(-10,t),0,-1],[0,1,-6*ϕ(10,t),0,-1],Δx,3)\n",
    "\n",
    "y0 = Qx*u0 \n",
    "\n",
    "print(\"Prior handling bc \", u0,\"\\n\\n\")\n",
    "print(\"After handling bc \", y0,\"\\n\\n\")"
   ]
  },
  {
   "cell_type": "code",
   "execution_count": 8,
   "id": "3f18763e",
   "metadata": {},
   "outputs": [
    {
     "data": {
      "text/plain": [
       "GeneralBC{Float64, Vector{Float64}, Vector{Float64}}"
      ]
     },
     "execution_count": 8,
     "metadata": {},
     "output_type": "execute_result"
    }
   ],
   "source": [
    "typeof(bc)"
   ]
  },
  {
   "cell_type": "code",
   "execution_count": null,
   "id": "b6288633",
   "metadata": {},
   "outputs": [],
   "source": []
  },
  {
   "cell_type": "code",
   "execution_count": null,
   "id": "d0ecbcd0",
   "metadata": {},
   "outputs": [],
   "source": [
    "using ModelingToolkit, MethodOfLines, DomainSets, NonlinearSolve\n",
    "\n",
    "# Define the system of equations\n",
    "@parameters x y\n",
    "@variables u(..)\n",
    "\n",
    "Dxx = Differential(x)^2\n",
    "Dyy = Differential(y)^2\n",
    "\n",
    "xmin = 0.\n",
    "xmax = 1.\n",
    "ymin = 0.\n",
    "ymax = 1.\n",
    "\n",
    "f(x,y) = x^2 + y^2 #If you have array data, define a piecewise function or use an interpolation\n",
    "\n",
    "eq = Dxx(u(x,y)) + Dyy(u(x,y)) + u(x,y) ~ f(x,y)\n",
    "\n",
    "domain = [x ∈ Interval(xmin,xmax), \n",
    "          y ∈ Interval(ymin,ymax)]\n",
    "\n",
    "# Arbitrary bcs can be defined in a natural way\n",
    "# Dirichlet 0 would be u(xmin,y) ~ 0.\n",
    "# Neumann would be Differential(x)(u(xmin,y)) ~ α(x, y) where α is a function, can be replaced with a constant value.\n",
    "# Periodic would be u(xmin,y) ~ u(xmax,y)\n",
    "bcs = [u(xmin, y) ~ u(xmax, y),\n",
    "       u(x, ymin) ~ u(x, ymax)]\n",
    "\n",
    "@named pdesys = PDESystem(eq, bcs, domain, [x, y], [u(x,y)])\n",
    "\n",
    "# Create discretization\n",
    "\n",
    "dx = 0.01\n",
    "dy = 0.01\n",
    "\n",
    "order = 2 # Order of the finite element approximation, must be even\n",
    "\n",
    "discretization = MOLFiniteDifference([x => dx, y => dy], approx_order = order, grid_align = center_align) # edge_align gives better results with Neumann BCs, though uses extra grid points\n",
    "\n",
    "prob = discretize(pdesys, discretization)\n",
    "\n",
    "sol = NonlinearSolve.solve(prob, NewtonRaphson())\n",
    "\n",
    "# Center aligned grid\n",
    "disc_x = xmin:dx:xmax\n",
    "disc_y = ymin:dy:ymax\n",
    "\n",
    "# Edge aligned grid\n",
    "# disc_x_e = xmin-dx/2:dx:xmax+dx/2\n",
    "# disc_y_e = ymin-dy/2:dy:ymax+dy/2\n",
    "\n",
    "sol_u = reshape(sol.u, (length(disc_x), length(disc_y)))\n",
    "\n",
    "# Plot the solution\n",
    "using Plots\n",
    "heatmap(disc_x, disc_y, sol_u)"
   ]
  },
  {
   "cell_type": "code",
   "execution_count": null,
   "id": "a27c99f3",
   "metadata": {},
   "outputs": [],
   "source": []
  },
  {
   "cell_type": "code",
   "execution_count": null,
   "id": "a37ecbf3",
   "metadata": {},
   "outputs": [],
   "source": []
  }
 ],
 "metadata": {
  "kernelspec": {
   "display_name": "Julia 1.6.2",
   "language": "julia",
   "name": "julia-1.6"
  },
  "language_info": {
   "file_extension": ".jl",
   "mimetype": "application/julia",
   "name": "julia",
   "version": "1.6.2"
  }
 },
 "nbformat": 4,
 "nbformat_minor": 5
}
