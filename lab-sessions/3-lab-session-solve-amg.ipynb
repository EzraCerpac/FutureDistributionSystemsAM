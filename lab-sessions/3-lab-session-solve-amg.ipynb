{
 "cells": [
  {
   "cell_type": "markdown",
   "id": "f465a445",
   "metadata": {},
   "source": [
    "# EE4375-2022: Third Lab Session: Solve 2D Poisson Using Ruge-Stueben en Smoothed Aggregation AMG"
   ]
  },
  {
   "cell_type": "markdown",
   "id": "74e5abda",
   "metadata": {},
   "source": [
    "## Import Packages  "
   ]
  },
  {
   "cell_type": "code",
   "execution_count": 14,
   "id": "d01480a6",
   "metadata": {},
   "outputs": [],
   "source": [
    "using Kronecker \n",
    "\n",
    "using LinearAlgebra \n",
    "using SparseArrays \n",
    "\n",
    "using IterativeSolvers\n",
    "using Preconditioners\n",
    "using AlgebraicMultigrid\n",
    "\n",
    "using BenchmarkTools\n",
    "using Profile\n",
    "using ProfileView"
   ]
  },
  {
   "cell_type": "markdown",
   "id": "9b0c3e72",
   "metadata": {},
   "source": [
    "## Section 1: Build Linear System as Sparse From the Start\n",
    "Motivation \n",
    "1. Build matrix as sparse directly, i.e., avoid convection from dense to sparse matrix; \n",
    "\n",
    "To do \n",
    "1. incorporate boundary conditions in 2D matrix properly; \n",
    "2. illustrate how lazy Kronecker saves memory - still need to figure out how to save CPU time. Does size continue to work for the lazy format. "
   ]
  },
  {
   "cell_type": "markdown",
   "id": "4f59f5b3",
   "metadata": {},
   "source": [
    "### Section 1.1: Build Coefficient Matrix "
   ]
  },
  {
   "cell_type": "code",
   "execution_count": 15,
   "id": "d7abe1b2",
   "metadata": {},
   "outputs": [
    {
     "data": {
      "text/plain": [
       "buildMat2DAnis (generic function with 1 method)"
      ]
     },
     "execution_count": 15,
     "metadata": {},
     "output_type": "execute_result"
    }
   ],
   "source": [
    "function buildMat1D(N)\n",
    "  Nm1 = N-1; Np1 = N+1 \n",
    "  h = 1/N; h2 = h*h; \n",
    "  stencil = [-1/h2, 2/h2, -1/h2]; \n",
    "  #..Allocate row, column and value vector \n",
    "  I = zeros(Int64,3*Nm1) # allocate 1D array of Int64 \n",
    "  J = zeros(Int64,3*Nm1) # allocate 1D array of Int64 \n",
    "  vals = zeros(3*Nm1)\n",
    "  #..Construct row, column and value vector \n",
    "  for i in 2:N\n",
    "    offset = 3*(i-2)\n",
    "    I[[offset+1, offset+2, offset+3]] = [i,i,i]\n",
    "    J[[offset+1, offset+2, offset+3]] = [i-1,i,i+1]\n",
    "    vals[[offset+1, offset+2, offset+3]] = stencil\n",
    "  end \n",
    "  #..Build matrix for interior rows   \n",
    "  A = sparse(I,J,vals,Np1,Np1)\n",
    "  #..Build matrix for boundary rows\n",
    "  A[1,1] = 1; A[end,end]=1; A[2,1] =0; A[end-1,end]=0; \n",
    "  return A \n",
    "end \n",
    "\n",
    "function buildMat2D(N)\n",
    "    A1d = buildMat1D(N)\n",
    "    A2d = KroneckerSum(A1d, A1d)\n",
    "    return A2d \n",
    "end \n",
    "\n",
    "function buildMat2DAnis(N,epsilon)\n",
    "    A1d = buildMat1D(N)\n",
    "    I   = range(1, N); J = range(1, N); vals = ones(Float64, N);\n",
    "    D   = sparse(I,J,vals,N,N)\n",
    "    A2d = kronecker(A1d, D) + epsilon * kronecker(D,A1d)  \n",
    "    return A2d\n",
    "end "
   ]
  },
  {
   "cell_type": "code",
   "execution_count": 99,
   "id": "e3a7b51d",
   "metadata": {},
   "outputs": [],
   "source": [
    "A2d = buildMat2D(30)\n",
    "A2d = buildMat2DAnis(30,0.0001);\n",
    "# A2dCollected = collect(A2d)\n",
    "#varinfo()"
   ]
  },
  {
   "cell_type": "code",
   "execution_count": 100,
   "id": "776d9fce",
   "metadata": {},
   "outputs": [
    {
     "name": "stdout",
     "output_type": "stream",
     "text": [
      "AMGPreconditioner{RugeStuben, AlgebraicMultigrid.MultiLevel{AlgebraicMultigrid.Pinv{Float64}, GaussSeidel{SymmetricSweep}, GaussSeidel{SymmetricSweep}, SparseMatrixCSC{Float64, Int64}, Adjoint{Float64, SparseMatrixCSC{Float64, Int64}}, SparseMatrixCSC{Float64, Int64}, AlgebraicMultigrid.MultiLevelWorkspace{Vector{Float64}, 1}}, AlgebraicMultigrid.V}(Multilevel Solver\n",
      "-----------------\n",
      "Operator Complexity: 2.45\n",
      "Grid Complexity: 1.937\n",
      "No. of Levels: 7\n",
      "Coarse Solver: Pinv\n",
      "Level     Unknowns     NonZeros\n",
      "-----     --------     --------\n",
      "    1          930         4290 [40.81%]\n",
      "    2          463         3307 [31.46%]\n",
      "    3          230         1822 [17.33%]\n",
      "    4          110          826 [ 7.86%]\n",
      "    5           46          202 [ 1.92%]\n",
      "    6           16           48 [ 0.46%]\n",
      "    7            6           16 [ 0.15%]\n",
      ", AlgebraicMultigrid.V())\n"
     ]
    }
   ],
   "source": [
    "A = sparse(collect(A2d))\n",
    "p = AMGPreconditioner{RugeStuben}(A);\n",
    "# p = AMGPreconditioner{SmoothedAggregation}(A);\n",
    "println(p)"
   ]
  },
  {
   "cell_type": "markdown",
   "id": "8f20f33f",
   "metadata": {},
   "source": [
    "### Section 1.2: Construction of the Right-Hand Side Vector"
   ]
  },
  {
   "cell_type": "code",
   "execution_count": 26,
   "id": "13364bca",
   "metadata": {},
   "outputs": [],
   "source": [
    "A = collect(A2d)\n",
    "N,_ = size(A)\n",
    "x = ones(N); \n",
    "f = A2d*x;"
   ]
  },
  {
   "cell_type": "markdown",
   "id": "82f7c4fb",
   "metadata": {},
   "source": [
    "## Section 2: Intermediate Stuff "
   ]
  },
  {
   "cell_type": "code",
   "execution_count": 18,
   "id": "c39c5508",
   "metadata": {},
   "outputs": [
    {
     "name": "stdout",
     "output_type": "stream",
     "text": [
      "MethodInstance for buildMat2D(::Int64)\n",
      "  from buildMat2D(N) in Main at In[15]:23\n",
      "Arguments\n",
      "  #self#\u001b[36m::Core.Const(buildMat2D)\u001b[39m\n",
      "  N\u001b[36m::Int64\u001b[39m\n",
      "Locals\n",
      "  A2d\u001b[36m::KroneckerSum{Float64, SparseMatrixCSC{Float64, Int64}, SparseMatrixCSC{Float64, Int64}}\u001b[39m\n",
      "  A1d\u001b[36m::SparseMatrixCSC{Float64, Int64}\u001b[39m\n",
      "Body\u001b[36m::KroneckerSum{Float64, SparseMatrixCSC{Float64, Int64}, SparseMatrixCSC{Float64, Int64}}\u001b[39m\n",
      "\u001b[90m1 ─\u001b[39m     (A1d = Main.buildMat1D(N))\n",
      "\u001b[90m│  \u001b[39m     (A2d = Main.KroneckerSum(A1d, A1d))\n",
      "\u001b[90m└──\u001b[39m     return A2d\n",
      "\n"
     ]
    }
   ],
   "source": [
    "@code_warntype buildMat2D(5)"
   ]
  },
  {
   "cell_type": "code",
   "execution_count": 19,
   "id": "bb6187e4",
   "metadata": {},
   "outputs": [
    {
     "name": "stdout",
     "output_type": "stream",
     "text": [
      "[2.0 0.0 0.0 0.0 0.0 0.0 0.0 0.0 0.0 0.0 0.0 0.0 0.0 0.0 0.0 0.0 0.0 0.0 0.0 0.0; 0.0 33.0 -16.0 0.0 0.0 0.0 0.0 0.0 0.0 0.0 0.0 0.0 0.0 0.0 0.0 0.0 0.0 0.0 0.0 0.0; 0.0 -16.0 33.0 -16.0 0.0 0.0 0.0 0.0 0.0 0.0 0.0 0.0 0.0 0.0 0.0 0.0 0.0 0.0 0.0 0.0; 0.0 0.0 -16.0 33.0 0.0 0.0 0.0 0.0 0.0 0.0 0.0 0.0 0.0 0.0 0.0 0.0 0.0 0.0 0.0 0.0; 0.0 0.0 0.0 0.0 33.0 0.0 0.0 0.0 -16.0 0.0 0.0 0.0 0.0 0.0 0.0 0.0 0.0 0.0 0.0 0.0; 0.0 0.0 0.0 0.0 0.0 33.0 0.0 0.0 0.0 -16.0 0.0 0.0 0.0 0.0 0.0 0.0 0.0 0.0 0.0 0.0; 0.0 0.0 0.0 0.0 0.0 0.0 64.0 -16.0 0.0 0.0 -16.0 0.0 0.0 0.0 0.0 0.0 0.0 0.0 0.0 0.0; 0.0 0.0 0.0 0.0 0.0 0.0 -16.0 64.0 -16.0 0.0 0.0 -16.0 0.0 0.0 0.0 0.0 0.0 0.0 0.0 0.0; 0.0 0.0 0.0 0.0 -16.0 0.0 0.0 -16.0 64.0 0.0 0.0 0.0 -16.0 0.0 0.0 0.0 0.0 0.0 0.0 0.0; 0.0 0.0 0.0 0.0 0.0 -16.0 0.0 0.0 0.0 33.0 0.0 0.0 0.0 -16.0 0.0 0.0 0.0 0.0 0.0 0.0; 0.0 0.0 0.0 0.0 0.0 0.0 -16.0 0.0 0.0 0.0 33.0 0.0 0.0 0.0 -16.0 0.0 0.0 0.0 0.0 0.0; 0.0 0.0 0.0 0.0 0.0 0.0 0.0 -16.0 0.0 0.0 0.0 64.0 -16.0 0.0 0.0 -16.0 0.0 0.0 0.0 0.0; 0.0 0.0 0.0 0.0 0.0 0.0 0.0 0.0 -16.0 0.0 0.0 -16.0 64.0 -16.0 0.0 0.0 0.0 0.0 0.0 0.0; 0.0 0.0 0.0 0.0 0.0 0.0 0.0 0.0 0.0 -16.0 0.0 0.0 -16.0 64.0 0.0 0.0 0.0 0.0 0.0 0.0; 0.0 0.0 0.0 0.0 0.0 0.0 0.0 0.0 0.0 0.0 -16.0 0.0 0.0 0.0 33.0 0.0 0.0 0.0 0.0 0.0; 0.0 0.0 0.0 0.0 0.0 0.0 0.0 0.0 0.0 0.0 0.0 -16.0 0.0 0.0 0.0 33.0 0.0 0.0 0.0 0.0; 0.0 0.0 0.0 0.0 0.0 0.0 0.0 0.0 0.0 0.0 0.0 0.0 0.0 0.0 0.0 0.0 33.0 -16.0 0.0 0.0; 0.0 0.0 0.0 0.0 0.0 0.0 0.0 0.0 0.0 0.0 0.0 0.0 0.0 0.0 0.0 0.0 -16.0 33.0 -16.0 0.0; 0.0 0.0 0.0 0.0 0.0 0.0 0.0 0.0 0.0 0.0 0.0 0.0 0.0 0.0 0.0 0.0 0.0 -16.0 33.0 0.0; 0.0 0.0 0.0 0.0 0.0 0.0 0.0 0.0 0.0 0.0 0.0 0.0 0.0 0.0 0.0 0.0 0.0 0.0 0.0 2.0]\n"
     ]
    }
   ],
   "source": [
    "A = buildMat2D(100);\n",
    "A = buildMat2DAnis(4,1);\n",
    "println(A)"
   ]
  },
  {
   "cell_type": "code",
   "execution_count": 20,
   "id": "f540ce31",
   "metadata": {},
   "outputs": [
    {
     "data": {
      "text/plain": [
       "Matrix{Float64}\u001b[90m (alias for \u001b[39m\u001b[90mArray{Float64, 2}\u001b[39m\u001b[90m)\u001b[39m"
      ]
     },
     "execution_count": 20,
     "metadata": {},
     "output_type": "execute_result"
    }
   ],
   "source": [
    "typeof(A)"
   ]
  },
  {
   "cell_type": "code",
   "execution_count": 21,
   "id": "f9ec7021",
   "metadata": {},
   "outputs": [
    {
     "ename": "LoadError",
     "evalue": "UndefVarError: b not defined",
     "output_type": "error",
     "traceback": [
      "UndefVarError: b not defined",
      "",
      "Stacktrace:",
      " [1] top-level scope",
      "   @ In[21]:1",
      " [2] eval",
      "   @ ./boot.jl:368 [inlined]",
      " [3] include_string(mapexpr::typeof(REPL.softscope), mod::Module, code::String, filename::String)",
      "   @ Base ./loading.jl:1428"
     ]
    }
   ],
   "source": [
    "@which A*b"
   ]
  },
  {
   "cell_type": "code",
   "execution_count": 22,
   "id": "0749274c",
   "metadata": {},
   "outputs": [
    {
     "name": "stdout",
     "output_type": "stream",
     "text": [
      "  254.654 ns (1 allocation: 224 bytes)\n",
      "  255.021 ns (1 allocation: 224 bytes)\n",
      "  556.978 ns (3 allocations: 672 bytes)\n",
      "  621.818 ns (4 allocations: 896 bytes)\n",
      "  797.622 ns (4 allocations: 896 bytes)\n"
     ]
    },
    {
     "data": {
      "text/plain": [
       "20-element Vector{Float64}:\n",
       "   0.0\n",
       " -16.0\n",
       " -48.0\n",
       " -32.0\n",
       " -16.0\n",
       " -16.0\n",
       " -32.0\n",
       " -64.0\n",
       " -80.0\n",
       " -48.0\n",
       " -48.0\n",
       " -64.0\n",
       " -80.0\n",
       " -64.0\n",
       " -32.0\n",
       " -32.0\n",
       " -16.0\n",
       " -48.0\n",
       " -32.0\n",
       "   0.0"
      ]
     },
     "execution_count": 22,
     "metadata": {},
     "output_type": "execute_result"
    }
   ],
   "source": [
    "Np1,_ = size(A)\n",
    "b = ones(Np1)\n",
    "L = tril(A,-1); U = triu(A,1); D = Diagonal(A)\n",
    "@btime A*b\n",
    "@btime L*b \n",
    "@btime L*b + U*b \n",
    "@btime L*b + U*b + D*b \n",
    "@btime L*b + U*b + L*b "
   ]
  },
  {
   "cell_type": "code",
   "execution_count": 23,
   "id": "4968db29",
   "metadata": {},
   "outputs": [],
   "source": [
    "# issparse(D)"
   ]
  },
  {
   "cell_type": "markdown",
   "id": "94959ceb",
   "metadata": {},
   "source": [
    "## Section 3: Linear System Solve with the Laplacian"
   ]
  },
  {
   "cell_type": "code",
   "execution_count": 30,
   "id": "a37ecbf3",
   "metadata": {},
   "outputs": [
    {
     "name": "stdout",
     "output_type": "stream",
     "text": [
      "AMGPreconditioner{RugeStuben, AlgebraicMultigrid.MultiLevel{AlgebraicMultigrid.Pinv{Float64}, GaussSeidel{SymmetricSweep}, GaussSeidel{SymmetricSweep}, SparseMatrixCSC{Float64, Int64}, Adjoint{Float64, SparseMatrixCSC{Float64, Int64}}, SparseMatrixCSC{Float64, Int64}, AlgebraicMultigrid.MultiLevelWorkspace{Vector{Float64}, 1}}, AlgebraicMultigrid.V}(Multilevel Solver\n",
      "-----------------\n",
      "Operator Complexity: 2.122\n",
      "Grid Complexity: 1.694\n",
      "No. of Levels: 6\n",
      "Coarse Solver: Pinv\n",
      "Level     Unknowns     NonZeros\n",
      "-----     --------     --------\n",
      "    1          961         4433 [47.12%]\n",
      "    2          478         3720 [39.54%]\n",
      "    3          135          977 [10.38%]\n",
      "    4           39          227 [ 2.41%]\n",
      "    5           12           46 [ 0.49%]\n",
      "    6            3            5 [ 0.05%]\n",
      ", AlgebraicMultigrid.V())\n"
     ]
    }
   ],
   "source": [
    "p = AMGPreconditioner{RugeStuben}(A);\n",
    "println(p)\n",
    "# bm = @benchmark cg(A, f, Pl=p, log=true)"
   ]
  },
  {
   "cell_type": "code",
   "execution_count": null,
   "id": "d07776ed",
   "metadata": {},
   "outputs": [],
   "source": []
  }
 ],
 "metadata": {
  "kernelspec": {
   "display_name": "Julia 1.8.1",
   "language": "julia",
   "name": "julia-1.8"
  },
  "language_info": {
   "file_extension": ".jl",
   "mimetype": "application/julia",
   "name": "julia",
   "version": "1.8.1"
  }
 },
 "nbformat": 4,
 "nbformat_minor": 5
}
