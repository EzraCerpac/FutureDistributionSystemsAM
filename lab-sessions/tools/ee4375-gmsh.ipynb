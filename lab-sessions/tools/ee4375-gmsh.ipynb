{
 "cells": [
  {
   "cell_type": "markdown",
   "id": "488a0973",
   "metadata": {},
   "source": [
    "# EE4375 Using GMSH for Geometry Definition and Mesh Creation \n",
    "\n",
    "This notebook gives guidelines for using install and running [GMSH](https://gmsh.info) in the EE4375 course.\n",
    "\n",
    "## Import Packages "
   ]
  },
  {
   "cell_type": "code",
   "execution_count": 2,
   "id": "1ba40491",
   "metadata": {},
   "outputs": [],
   "source": [
    "try\n",
    "    using Gmsh: gmsh\n",
    "catch\n",
    "    using gmsh\n",
    "end "
   ]
  },
  {
   "cell_type": "markdown",
   "id": "aecc275c",
   "metadata": {},
   "source": [
    "## Section 1: Installation \n",
    "\n",
    "Install the [GMSH.jl](https://github.com/JuliaFEM/Gmsh.jl/tree/master) package. \n",
    "\n",
    "The initialization and finalization of the GMSH engine requires calling `initialize()` and `finalize()`, respectively. \n",
    "\n",
    "## Section 2: Geometry Definition\n",
    "\n",
    "### Using Geometry Primitives \n",
    "\n",
    "How to create geometries in 2D by the sequence of following steps\n",
    "1. define a <b>point</b> by specifying three inputs. The first input is a tuple of (x,y,z)-coordinates of the point. The second is the mesh density in the vicinity of the point (here defined by lc). The third is a unique label for the point. For example: to add a point in th origin with mesh density lc and label 1, use `addPoint(0, 0, 0, lc, 1)`. Notes: labels serve as unique references in subsequent function call. Note that even when defining two-dimensional geometries, a point has a z-coordinate;   \n",
    "\n",
    "1. define a <b>line</b> (or straight segment) by providing three inputs. The first is the label of the starting point. The second is the label of the ending point. The third is a unique label of the line. For example, to define a line starting in a point labeled by 1, ending in a point labeled by 2 and with a label 1 for this line, use `addLine(1, 2, 1)`. Note: a line has an orientation. The line starting in the point with label 2 and ending in the point with label 1 is the oppossite of the line defined before. Curved segment (e.g. to create circles) will be discussed later;  \n",
    "\n",
    "1. define a <b>closed loop</b> by providing two inputs. The first is a ordered list on oriented lines. This list is defined by square brackets (by concatenation of lines or segments) and providing labels. The second argument is a unique label for the closed loop. For example: to add a closed loop formed by lines with labels 1, 2, 3 and 4 and with label 1 for this loop, use `addCurveLoop([1, 2, 3, 4], 1)`. Closed loops are typically used as boundary of a two-dimensional domain; \n",
    "\n",
    "1. define a <b>surface</b> by providing two inputs. The first is a list (hence square brackets) of curved loops at th boundary of the surface. The second is a label for this surface. For example: to add a surface bounded by closed loop 1 and with label 1, use `addPlaneSurface([1], 1)`;\n",
    "\n",
    "1. synchronize the geo module of GMSH by calling the 'synchronize()' function;\n",
    "\n",
    "### Exercise: Create Geometry of a Triangle \n",
    "\n",
    "We create the geometry of a triangle. The mesh generation is postponed to a later stage.  "
   ]
  },
  {
   "cell_type": "code",
   "execution_count": 3,
   "id": "637daf2b",
   "metadata": {},
   "outputs": [
    {
     "name": "stdout",
     "output_type": "stream",
     "text": [
      "-------------------------------------------------------\n",
      "Version       : 4.10.2\n",
      "License       : GNU General Public License\n",
      "Build OS      : MacOSX-sdk\n",
      "Build date    : 19700101\n",
      "Build host    : amdci7\n",
      "Build options : 64Bit ALGLIB[contrib] ANN[contrib] Bamg Blossom Cairo DIntegration Dlopen DomHex Eigen[contrib] Fltk GMP Gmm[contrib] Hxt Jpeg Kbipack MathEx[contrib] Mesh Metis[contrib] Mmg Mpeg Netgen ONELAB ONELABMetamodel OpenCASCADE OpenCASCADE-CAF OpenGL OpenMP OptHom Parser Plugins Png Post QuadMeshingTools QuadTri Solver TetGen/BR Voro++[contrib] WinslowUntangler Zlib\n",
      "FLTK version  : 1.3.8\n",
      "OCC version   : 7.6.2\n",
      "Packaged by   : root\n",
      "Web site      : https://gmsh.info\n",
      "Issue tracker : https://gitlab.onelab.info/gmsh/gmsh/issues\n",
      "-------------------------------------------------------\n"
     ]
    }
   ],
   "source": [
    "#..1/5: initialize gmsh \n",
    "gmsh.initialize()\n",
    "\n",
    "#..2/5: generate geometry \n",
    "gmsh.option.setNumber(\"General.Terminal\", 1)\n",
    "gmsh.model.add(\"square\")\n",
    "#..set mesh density parameter \n",
    "lc1 = .1\n",
    "lc2 = .5\n",
    "lc3 = .01\n",
    "#..define four points via (x,y,z) coordinates \n",
    "p1 = gmsh.model.geo.addPoint(0, 0, 0, lc1, 1)\n",
    "p2 = gmsh.model.geo.addPoint(2., 0,  0, lc2, 2)\n",
    "p3 = gmsh.model.geo.addPoint(1., 1., 0, lc3, 3)\n",
    "#..define four edges by connecting point labels pairwise  \n",
    "l1 = gmsh.model.geo.addLine(1, 2, 1)\n",
    "l2 = gmsh.model.geo.addLine(2, 3, 2)\n",
    "l3 = gmsh.model.geo.addLine(3, 1, 3)\n",
    "#..define curved loop by connecting four edge labels  \n",
    "loop = gmsh.model.geo.addCurveLoop([1, 2, 3], 1)\n",
    "#..define surface by curved loop \n",
    "surf = gmsh.model.geo.addPlaneSurface([1], 1)\n",
    "\n",
    "#..3/5: synchronize the CAD model \n",
    "gmsh.model.geo.synchronize()\n",
    "\n",
    "#..4/5: write mesh to mesh and visualize the mesh  \n",
    "#..if true, write mesh to file for further processing \n",
    "if (false) gmsh.write(\"my-mesh-file.msh\") end \n",
    "#..if true, visualize mesh through the GUI \n",
    "if (false) gmsh.fltk.run() end \n",
    "\n",
    "#..5/5: finalize gmsh \n",
    "gmsh.finalize()"
   ]
  },
  {
   "cell_type": "markdown",
   "id": "a1e9f0bf",
   "metadata": {},
   "source": [
    "### Exercises\n",
    "\n",
    "Giving code that follows: \n",
    "1. transform triangle into quadrilateral;\n",
    "1. create quadrilateral with curved edge;\n",
    "1. create quadrilateral minus interior triangle;\n",
    "1. create quadrilateral with seperate regions inside and outside of triangle; \n",
    "\n",
    "### Examples  \n",
    "\n",
    "1. moving geometry (linear actuator - rotating machines) using scripting;\n",
    "1. curved shaped using spline using scripting to enable shape optimization at a later stage; \n",
    "1. 3D geometries using SALOME or Open-Cascade for parametric CAD models;\n",
    "\n",
    "## Section 3:  Mesh Generation \n",
    "\n",
    "1. theory: what algorithms are available to create triangular, quadrilaterals meshes and 3D meshes;\n",
    "1. use gmsh.generate(1) to create boundary mesh. use gmsh.generate(2) to create boundary+interior mesh.  \n",
    "1. use gmsh.generate to generate mesh with triangles, quadrilaterals, mixed, first or second order \n",
    "1. how to use these algorithms in practical cases; \n",
    "1. how to read the output of gmsh.generate(). What is an element for gmsh (1D lines segments plus 2D triangular elements)"
   ]
  },
  {
   "cell_type": "markdown",
   "id": "21bef97f",
   "metadata": {},
   "source": [
    "###  Create Geometry of an Interval, Generate Mesh and Check Output Generated \n",
    "\n",
    "1. observe the non-uniformity in the mesh caused by unequal lc settings in left and right node; \n",
    "1. what does number of nodes and elements refer to? \n",
    "1. what happens in case interior points are added to the interval?\n",
    "1. what happens in case higher order elements are generated? "
   ]
  },
  {
   "cell_type": "code",
   "execution_count": 44,
   "id": "b45c3788",
   "metadata": {},
   "outputs": [
    {
     "name": "stdout",
     "output_type": "stream",
     "text": [
      "Info    : Meshing 1D...\n",
      "Info    : Meshing curve 1 (Line)\n",
      "Info    : Done meshing 1D (Wall 0.00238475s, CPU 0.00225s)\n",
      "Info    : 10 nodes 11 elements\n",
      "Info    : Writing 'bar.msh'...\n",
      "Info    : Done writing 'bar.msh'\n"
     ]
    },
    {
     "name": "stderr",
     "output_type": "stream",
     "text": [
      "Warning : Gmsh has aleady been initialized\n"
     ]
    }
   ],
   "source": [
    "#..1/6: initialize gmsh \n",
    "gmsh.initialize()\n",
    "\n",
    "#..2/6: generate geometry \n",
    "gmsh.option.setNumber(\"General.Terminal\", 1)\n",
    "gmsh.model.add(\"bar\")\n",
    "#..set mesh density parameter \n",
    "lc1 = .1\n",
    "lc2 = .5\n",
    "#..define four points via (x,y,z) coordinates \n",
    "p1 = gmsh.model.geo.addPoint(0, 0, 0, lc1, 1)\n",
    "p2 = gmsh.model.geo.addPoint(2., 0,  0, lc2, 2)\n",
    "#..define four edges by connecting point labels pairwise  \n",
    "l1 = gmsh.model.geo.addLine(1, 2, 1)\n",
    "\n",
    "#..3/6: synchronize the CAD model \n",
    "gmsh.model.geo.synchronize()\n",
    "\n",
    "#..4/6: generate two-dimensional mesh \n",
    "gmsh.option.setNumber(\"Mesh.ElementOrder\", 1)\n",
    "gmsh.model.mesh.generate(1)\n",
    "\n",
    "#..5/6: write mesh to mesh and visualize the mesh  \n",
    "#..if true, write mesh to file for further processing \n",
    "if (true) gmsh.write(\"bar.msh\") end \n",
    "#..if true, visualize mesh through the GUI \n",
    "if (false) gmsh.fltk.run() end \n",
    "\n",
    "#..6/6: finalize gmsh \n",
    "gmsh.finalize()"
   ]
  },
  {
   "cell_type": "markdown",
   "id": "73c6bfde",
   "metadata": {},
   "source": [
    "###  Create Geometry of a Triangle, Generate Mesh and Check Output Generated \n",
    "\n",
    "1. what does number of elements refer to? "
   ]
  },
  {
   "cell_type": "code",
   "execution_count": 9,
   "id": "89c58890",
   "metadata": {},
   "outputs": [
    {
     "name": "stdout",
     "output_type": "stream",
     "text": [
      "Info    : Meshing 1D...\n",
      "Info    : [  0%] Meshing curve 1 (Line)\n",
      "Info    : [ 40%] Meshing curve 2 (Line)\n",
      "Info    : [ 70%] Meshing curve 3 (Line)\n",
      "Info    : Done meshing 1D (Wall 0.00926367s, CPU 0.008652s)\n",
      "Info    : 58 nodes 61 elements\n",
      "-------------------------------------------------------\n",
      "Version       : 4.10.2\n",
      "License       : GNU General Public License\n",
      "Build OS      : MacOSX-sdk\n",
      "Build date    : 19700101\n",
      "Build host    : amdci7\n",
      "Build options : 64Bit ALGLIB[contrib] ANN[contrib] Bamg Blossom Cairo DIntegration Dlopen DomHex Eigen[contrib] Fltk GMP Gmm[contrib] Hxt Jpeg Kbipack MathEx[contrib] Mesh Metis[contrib] Mmg Mpeg Netgen ONELAB ONELABMetamodel OpenCASCADE OpenCASCADE-CAF OpenGL OpenMP OptHom Parser Plugins Png Post QuadMeshingTools QuadTri Solver TetGen/BR Voro++[contrib] WinslowUntangler Zlib\n",
      "FLTK version  : 1.3.8\n",
      "OCC version   : 7.6.2\n",
      "Packaged by   : root\n",
      "Web site      : https://gmsh.info\n",
      "Issue tracker : https://gitlab.onelab.info/gmsh/gmsh/issues\n",
      "-------------------------------------------------------\n"
     ]
    }
   ],
   "source": [
    "#..1/6: initialize gmsh \n",
    "gmsh.initialize()\n",
    "\n",
    "#..2/6: generate geometry \n",
    "gmsh.option.setNumber(\"General.Terminal\", 1)\n",
    "gmsh.model.add(\"square\")\n",
    "#..set mesh density parameter \n",
    "lc1 = .1\n",
    "lc2 = .5\n",
    "lc3 = .01\n",
    "#..define four points via (x,y,z) coordinates \n",
    "p1 = gmsh.model.geo.addPoint(0, 0, 0, lc1, 1)\n",
    "p2 = gmsh.model.geo.addPoint(2., 0,  0, lc2, 2)\n",
    "p3 = gmsh.model.geo.addPoint(1., 1., 0, lc3, 3)\n",
    "#..define four edges by connecting point labels pairwise  \n",
    "l1 = gmsh.model.geo.addLine(1, 2, 1)\n",
    "l2 = gmsh.model.geo.addLine(2, 3, 2)\n",
    "l3 = gmsh.model.geo.addLine(3, 1, 3)\n",
    "#..define curved loop by connecting four edge labels  \n",
    "loop = gmsh.model.geo.addCurveLoop([1, 2, 3], 1)\n",
    "#..define surface by curved loop \n",
    "surf = gmsh.model.geo.addPlaneSurface([1], 1)\n",
    "\n",
    "#..3/6: synchronize the CAD model \n",
    "gmsh.model.geo.synchronize()\n",
    "\n",
    "#..4/6: generate two-dimensional mesh \n",
    "gmsh.model.mesh.generate(1)\n",
    "\n",
    "#..5/6: write mesh to mesh and visualize the mesh  \n",
    "#..if true, write mesh to file for further processing \n",
    "if (false) gmsh.write(\"my-mesh-file.msh\") end \n",
    "#..if true, visualize mesh through the GUI \n",
    "if (true) gmsh.fltk.run() end \n",
    "\n",
    "#..6/6: finalize gmsh \n",
    "gmsh.finalize()"
   ]
  },
  {
   "cell_type": "code",
   "execution_count": 14,
   "id": "81a3efc0",
   "metadata": {},
   "outputs": [],
   "source": [
    "#..3/4: generate two-dimensional mesh \n",
    "#gmsh.option.setNumber(\"Mesh.ElementOrder\", 2)\n",
    "#gmsh.option.setNumber(\"Mesh.SecondOrderLinear\", 1)"
   ]
  },
  {
   "cell_type": "markdown",
   "id": "41699811",
   "metadata": {},
   "source": [
    "### Geometry Definition and Mesh Generation Using GMSH  \n",
    "See [gijswl/ee4375_fem_ta/tree/main/general](https://github.com/gijswl/ee4375_fem_ta/tree/main/general); (Domenico needs to reread)\n",
    "\n",
    "Existing Documentation \n",
    "1. [Post on stackexchange: Connectivity matrix in Finite Element Method in Triangular elements](https://scicomp.stackexchange.com/questions/30169/connectivity-matrix-in-finite-element-method-in-triangular-elements): small mesh on square geometry with clear illustration labeling nodes and elements;\n",
    "1. [21 Tutorial Examples from GMSH tutorials/julia](https://gitlab.onelab.info/gmsh/gmsh/-/tree/master/tutorials/julia)\n",
    "1. [2 Test Examples t1.geo and 16.go from GMSH.jl](https://github.com/JuliaFEM/Gmsh.jl)\n",
    "\n",
    "### Add as exercises on the use of GMSH  \n",
    "1. semi-circle from Victoria Hernandez (parametrize geometry with r and a, take r=0.133 m and a = 0.01 m) (need to solve radiation problem using gridap.jl); \n",
    "1. STEDIN distribution transformer (cfd. Max van Dijk);\n",
    "1. linear actuator (need to recover dimensions from papers); \n",
    "1. machine from Jianning Dong (see hard drive); \n",
    "1. Contactless energy transfer - Litz wire \n",
    "\n",
    "## Section 4: Writing Mesh to File \n",
    "\n",
    "Using gmsh.write(\"mesh-file.msh\"). \n",
    "\n",
    "## Section 5: Visualizing the Mesh \n",
    "\n",
    "1. using the GMSH GUI \n",
    "1. writing the mesn to file and load into Paraview \n",
    "\n",
    "## Section 6: Reading Mesh From File \n",
    "\n",
    "Using gmsh.open(\"mesh-file.msh\").  \n",
    "\n",
    "## Section 7: Adding Physical Groups   "
   ]
  },
  {
   "cell_type": "code",
   "execution_count": null,
   "id": "2ffcae44",
   "metadata": {},
   "outputs": [],
   "source": [
    "#..1/7: initialize gmsh \n",
    "gmsh.initialize()\n",
    "\n",
    "#..2/7: generate geometry \n",
    "gmsh.option.setNumber(\"General.Terminal\", 1)\n",
    "gmsh.model.add(\"square\")\n",
    "#..set mesh density parameter \n",
    "lc = .1\n",
    "#..define four points via (x,y,z) coordinates \n",
    "p1 = gmsh.model.geo.addPoint(0, 0, 0, lc, 1)\n",
    "p2 = gmsh.model.geo.addPoint(1., 0,  0, lc, 2)\n",
    "p3 = gmsh.model.geo.addPoint(1., 1., 0, lc, 3)\n",
    "p4 = gmsh.model.geo.addPoint(0, 1., 0, lc, 4)\n",
    "#..define four edges by connecting point labels pairwise  \n",
    "l1 = gmsh.model.geo.addLine(1, 2, 1)\n",
    "l2 = gmsh.model.geo.addLine(2, 3, 2)\n",
    "l3 = gmsh.model.geo.addLine(3, 4, 3)\n",
    "l4 = gmsh.model.geo.addLine(4, 1, 4)\n",
    "#..define curved loop by connecting four edge labels  \n",
    "loop = gmsh.model.geo.addCurveLoop([1, 2, 3, 4], 1)\n",
    "#..define surface by curved loop \n",
    "surf = gmsh.model.geo.addPlaneSurface([1], 1)\n",
    "\n",
    "#..3/7: synchronize the CAD model \n",
    "gmsh.model.geo.synchronize()\n",
    "\n",
    "#..4/7: assign physical groups\n",
    "gmsh.model.addPhysicalGroup(1, [l1], -1, \"bottom\")\n",
    "gmsh.model.addPhysicalGroup(1, [l2], -1, \"right\")\n",
    "gmsh.model.addPhysicalGroup(1, [l3], -1, \"top\")\n",
    "gmsh.model.addPhysicalGroup(1, [l4], -1, \"left\")\n",
    "gmsh.model.addPhysicalGroup(2, [surf], -1, \"omega\")\n",
    "\n",
    "#..5/7: generate two-dimensional mesh \n",
    "gmsh.model.mesh.generate(2)\n",
    "\n",
    "#..6/7: write mesh to mesh and visualize the mesh  \n",
    "#..if true, write mesh to file for further processing \n",
    "if (true) gmsh.write(\"data/square.msh\") end \n",
    "#..if true, visualize mesh through the GUI \n",
    "if (false) gmsh.fltk.run() end \n",
    "\n",
    "#..7/7: finalize gmsh \n",
    "gmsh.finalize()"
   ]
  },
  {
   "cell_type": "markdown",
   "id": "dc9902b1",
   "metadata": {},
   "source": [
    "## Section 8: GMSH Mesh Traversals\n",
    "\n",
    "1. how is connectivity of 2D/surface mesh encoded? How to traverse over elements in the 2D mesh?\n",
    "1. element__connectivity is a vector of (unsigned long) integers as long as the number of elements times the number of elements on each mesh. For instance for 1D line elements, length of element_connectivity is 2* nelement. The global node IDs are stacked consecutively in element__connectivity.    \n",
    "1. what happens in case of first and second order triangle / quadrilateral meshes?\n",
    "1. can the element area and Jacobian be extracted?\n",
    "1. how is connectivity of 1D/boundary mesh encoded? How to traverse over elements in the 1D mesh?"
   ]
  },
  {
   "cell_type": "code",
   "execution_count": 46,
   "id": "9f7173e7",
   "metadata": {},
   "outputs": [],
   "source": [
    "gmsh.finalize()"
   ]
  },
  {
   "cell_type": "code",
   "execution_count": 49,
   "id": "2c768ef8",
   "metadata": {},
   "outputs": [
    {
     "name": "stdout",
     "output_type": "stream",
     "text": [
      "Info    : Reading 'bar.msh'...\n",
      "Info    : 3 entities\n",
      "Info    : 10 nodes\n",
      "Info    : 11 elements\n",
      "Info    : Done reading 'bar.msh'\n",
      "on element 1 node-1 has global number 1\n",
      "on element 1 node-2 has global number 3\n",
      " \n",
      "on element 2 node-1 has global number 3\n",
      "on element 2 node-2 has global number 4\n",
      " \n",
      "on element 3 node-1 has global number 4\n",
      "on element 3 node-2 has global number 5\n",
      " \n",
      "on element 4 node-1 has global number 5\n",
      "on element 4 node-2 has global number 6\n",
      " \n",
      "on element 5 node-1 has global number 6\n",
      "on element 5 node-2 has global number 7\n",
      " \n",
      "on element 6 node-1 has global number 7\n",
      "on element 6 node-2 has global number 8\n",
      " \n",
      "on element 7 node-1 has global number 8\n",
      "on element 7 node-2 has global number 9\n",
      " \n",
      "on element 8 node-1 has global number 9\n",
      "on element 8 node-2 has global number 10\n",
      " \n",
      "on element 9 node-1 has global number 10\n",
      "on element 9 node-2 has global number 2\n",
      " \n"
     ]
    },
    {
     "name": "stderr",
     "output_type": "stream",
     "text": [
      "Warning : Gmsh has aleady been initialized\n",
      "Warning : Gmsh has aleady been initialized\n"
     ]
    }
   ],
   "source": [
    "#..1/4: Finalize gmsh\n",
    "gmsh.initialize()\n",
    "\n",
    "#..2/4: Read mesh from file\n",
    "gmsh.open(\"bar.msh\")\n",
    "\n",
    "#..3/4: perform loop over the elemements \n",
    "element_types, element_ids, element_connectivity = gmsh.model.mesh.getElements(1)\n",
    "nelements = length(element_ids[1])\n",
    "  \n",
    "for element_id in 1:nelements\n",
    "\n",
    "    #....retrieve global numbering of the local nodes of the current element\n",
    "    node1_id = element_connectivity[1][2*(element_id-1)+1]\n",
    "    node2_id = element_connectivity[1][2*(element_id-1)+2]\n",
    "\n",
    "    if (true)\n",
    "      println(\"on element \", element_id, \" node-1 has global number \", node1_id)\n",
    "      println(\"on element \", element_id, \" node-2 has global number \", node2_id)\n",
    "      println(\" \")\n",
    "    end \n",
    "\n",
    "end \n",
    "\n",
    "#..4/4: Finalize gmsh\n",
    "gmsh.initialize()"
   ]
  },
  {
   "cell_type": "code",
   "execution_count": 53,
   "id": "6b964a4d",
   "metadata": {},
   "outputs": [
    {
     "data": {
      "text/plain": [
       "18-element Vector{UInt64}:\n",
       " 0x0000000000000001\n",
       " 0x0000000000000003\n",
       " 0x0000000000000003\n",
       " 0x0000000000000004\n",
       " 0x0000000000000004\n",
       " 0x0000000000000005\n",
       " 0x0000000000000005\n",
       " 0x0000000000000006\n",
       " 0x0000000000000006\n",
       " 0x0000000000000007\n",
       " 0x0000000000000007\n",
       " 0x0000000000000008\n",
       " 0x0000000000000008\n",
       " 0x0000000000000009\n",
       " 0x0000000000000009\n",
       " 0x000000000000000a\n",
       " 0x000000000000000a\n",
       " 0x0000000000000002"
      ]
     },
     "execution_count": 53,
     "metadata": {},
     "output_type": "execute_result"
    }
   ],
   "source": [
    "element_connectivity[1]"
   ]
  },
  {
   "cell_type": "markdown",
   "id": "2a49633d",
   "metadata": {},
   "source": [
    "## Section 9: Auxiliary Tools \n",
    "\n",
    "1. [FerriteGmsh.jl](https://github.com/Ferrite-FEM/FerriteGmsh.jl)\n",
    "1. [GridapGmsh.jl](https://github.com/gridap/GridapGmsh.jl)\n",
    "1. [Meshes.jl](https://github.com/JuliaGeometry/Meshes.jl)\n",
    "1. [ExtendableGrids.jl](https://github.com/j-fu/ExtendableGrids.jl)\n",
    "1. [WriteVTK.jl](https://juliavtk.github.io/WriteVTK.jl/dev/): how to adapt to second order elements \n",
    "5. [MakieCore.mesh function](https://docs.makie.org/stable/reference/plots/mesh#colormap) for plotting \n",
    "\n",
    "## Section 10: Alternatives for GMSH \n",
    "\n",
    "1. [Triangle.jl](https://cvdlab.github.io/Triangle.jl/)\n",
    "2. [TetGen.jl](https://juliageometry.github.io/TetGen.jl/stable/)\n",
    "3. [DistMesh.jl](https://distmesh.juliageometry.org/dev/)\n",
    "\n",
    "## References"
   ]
  },
  {
   "cell_type": "code",
   "execution_count": null,
   "id": "414b8cb1",
   "metadata": {},
   "outputs": [],
   "source": []
  }
 ],
 "metadata": {
  "kernelspec": {
   "display_name": "Julia 1.8.1",
   "language": "julia",
   "name": "julia-1.8"
  },
  "language_info": {
   "file_extension": ".jl",
   "mimetype": "application/julia",
   "name": "julia",
   "version": "1.8.1"
  }
 },
 "nbformat": 4,
 "nbformat_minor": 5
}
