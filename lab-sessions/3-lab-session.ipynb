{
 "cells": [
  {
   "cell_type": "markdown",
   "metadata": {},
   "source": [
    "# EE4375-2022: Third Lab Session: Finite Difference Method for the Poisson Equation on the Unit Square"
   ]
  },
  {
   "cell_type": "markdown",
   "metadata": {},
   "source": [
    "Solves the Poisson equation $- \\bigtriangleup u(x,y) = f(x,uy)$ on the unit square domain $\\Omega=(0,1)^2$ supplied with various boundary conditions and various source terms. The finite difference method on a uniform mesh is employed. "
   ]
  },
  {
   "cell_type": "markdown",
   "metadata": {},
   "source": [
    "## Import Packages"
   ]
  },
  {
   "cell_type": "code",
   "execution_count": 1,
   "metadata": {},
   "outputs": [],
   "source": [
    "using LinearAlgebra\n",
    "using SparseArrays\n",
    "using Plots\n",
    "using LaTeXStrings\n",
    "using BenchmarkTools "
   ]
  },
  {
   "cell_type": "markdown",
   "metadata": {},
   "source": [
    "## Section 1/6: (Compulsory) First Example: Two-Dimensional Finite Difference Code"
   ]
  },
  {
   "cell_type": "markdown",
   "metadata": {},
   "source": [
    "The example that follows has an analytical reference solution.   "
   ]
  },
  {
   "cell_type": "markdown",
   "metadata": {},
   "source": [
    "<b> Exercises </b>: \n",
    "1. Mesh indicator matrix IG: print the matrix IG for a small mesh; understand its meaning; plot the matrix IG in such a way that its meaning becomes clear; \n",
    "2. Right-hand side vector f: print its values for a small mesh before and after the use of the reshape command; understand the use of the broadcast (with dot-syntax) to construct the right-hand side vector;\n",
    "3. Kronecker product: for the construction of the matrices Axx and Ayy, the Kronecker product of matrices is used. This product is explained e.g. on https://en.wikipedia.org/wiki/Kronecker_product. Assume that $A = \\begin{pmatrix} 2 & -1 \\\\ -1 & 2\\end{pmatrix}$ and $B = \\begin{pmatrix} 1 & 0 \\\\ 0 & 1\\end{pmatrix}$. Compute $A \\otimes B$ and $B \\otimes A$  . Observe the size of the answer. Observe that $A \\otimes B \\neq B \\otimes A$; extend this example to higher dimensions;  \n",
    "4. Matrix Axx: print the matrix Axx for a small mesh; understand its meaning; construct an auxilary vector g that is linear in x by modifying the function sourceterm(); linear here means a polynomial of degree one in x; multiply Axx and g; observe and explain the result; \n",
    "5. Matrix Ayy: proceed as for Axx; assume the auxilary vector g to be linear in y; \n",
    "6. Computed solution u: compute and plot the finite difference solution u by solving the linear system; \n",
    "7. change the analytical reference solution and the corresponding source term;  "
   ]
  },
  {
   "cell_type": "code",
   "execution_count": 11,
   "metadata": {},
   "outputs": [
    {
     "data": {
      "image/svg+xml": [
       "<?xml version=\"1.0\" encoding=\"utf-8\"?>\n",
       "<svg xmlns=\"http://www.w3.org/2000/svg\" xmlns:xlink=\"http://www.w3.org/1999/xlink\" width=\"600\" height=\"400\" viewBox=\"0 0 2400 1600\">\n",
       "<defs>\n",
       "  <clipPath id=\"clip540\">\n",
       "    <rect x=\"0\" y=\"0\" width=\"2400\" height=\"1600\"/>\n",
       "  </clipPath>\n",
       "</defs>\n",
       "<path clip-path=\"url(#clip540)\" d=\"\n",
       "M0 1600 L2400 1600 L2400 0 L0 0  Z\n",
       "  \" fill=\"#ffffff\" fill-rule=\"evenodd\" fill-opacity=\"1\"/>\n",
       "<defs>\n",
       "  <clipPath id=\"clip541\">\n",
       "    <rect x=\"480\" y=\"0\" width=\"1681\" height=\"1600\"/>\n",
       "  </clipPath>\n",
       "</defs>\n",
       "<path clip-path=\"url(#clip540)\" d=\"\n",
       "M219.866 1423.18 L2112.76 1423.18 L2112.76 47.2441 L219.866 47.2441  Z\n",
       "  \" fill=\"#ffffff\" fill-rule=\"evenodd\" fill-opacity=\"1\"/>\n",
       "<defs>\n",
       "  <clipPath id=\"clip542\">\n",
       "    <rect x=\"219\" y=\"47\" width=\"1894\" height=\"1377\"/>\n",
       "  </clipPath>\n",
       "</defs>\n",
       "<polyline clip-path=\"url(#clip542)\" style=\"stroke:#000000; stroke-linecap:round; stroke-linejoin:round; stroke-width:2; stroke-opacity:0.1; fill:none\" points=\"\n",
       "  219.866,1423.18 219.866,47.2441 \n",
       "  \"/>\n",
       "<polyline clip-path=\"url(#clip542)\" style=\"stroke:#000000; stroke-linecap:round; stroke-linejoin:round; stroke-width:2; stroke-opacity:0.1; fill:none\" points=\"\n",
       "  598.444,1423.18 598.444,47.2441 \n",
       "  \"/>\n",
       "<polyline clip-path=\"url(#clip542)\" style=\"stroke:#000000; stroke-linecap:round; stroke-linejoin:round; stroke-width:2; stroke-opacity:0.1; fill:none\" points=\"\n",
       "  977.022,1423.18 977.022,47.2441 \n",
       "  \"/>\n",
       "<polyline clip-path=\"url(#clip542)\" style=\"stroke:#000000; stroke-linecap:round; stroke-linejoin:round; stroke-width:2; stroke-opacity:0.1; fill:none\" points=\"\n",
       "  1355.6,1423.18 1355.6,47.2441 \n",
       "  \"/>\n",
       "<polyline clip-path=\"url(#clip542)\" style=\"stroke:#000000; stroke-linecap:round; stroke-linejoin:round; stroke-width:2; stroke-opacity:0.1; fill:none\" points=\"\n",
       "  1734.18,1423.18 1734.18,47.2441 \n",
       "  \"/>\n",
       "<polyline clip-path=\"url(#clip542)\" style=\"stroke:#000000; stroke-linecap:round; stroke-linejoin:round; stroke-width:2; stroke-opacity:0.1; fill:none\" points=\"\n",
       "  2112.76,1423.18 2112.76,47.2441 \n",
       "  \"/>\n",
       "<polyline clip-path=\"url(#clip540)\" style=\"stroke:#000000; stroke-linecap:round; stroke-linejoin:round; stroke-width:4; stroke-opacity:1; fill:none\" points=\"\n",
       "  219.866,1423.18 2112.76,1423.18 \n",
       "  \"/>\n",
       "<polyline clip-path=\"url(#clip540)\" style=\"stroke:#000000; stroke-linecap:round; stroke-linejoin:round; stroke-width:4; stroke-opacity:1; fill:none\" points=\"\n",
       "  219.866,1423.18 219.866,1404.28 \n",
       "  \"/>\n",
       "<polyline clip-path=\"url(#clip540)\" style=\"stroke:#000000; stroke-linecap:round; stroke-linejoin:round; stroke-width:4; stroke-opacity:1; fill:none\" points=\"\n",
       "  598.444,1423.18 598.444,1404.28 \n",
       "  \"/>\n",
       "<polyline clip-path=\"url(#clip540)\" style=\"stroke:#000000; stroke-linecap:round; stroke-linejoin:round; stroke-width:4; stroke-opacity:1; fill:none\" points=\"\n",
       "  977.022,1423.18 977.022,1404.28 \n",
       "  \"/>\n",
       "<polyline clip-path=\"url(#clip540)\" style=\"stroke:#000000; stroke-linecap:round; stroke-linejoin:round; stroke-width:4; stroke-opacity:1; fill:none\" points=\"\n",
       "  1355.6,1423.18 1355.6,1404.28 \n",
       "  \"/>\n",
       "<polyline clip-path=\"url(#clip540)\" style=\"stroke:#000000; stroke-linecap:round; stroke-linejoin:round; stroke-width:4; stroke-opacity:1; fill:none\" points=\"\n",
       "  1734.18,1423.18 1734.18,1404.28 \n",
       "  \"/>\n",
       "<polyline clip-path=\"url(#clip540)\" style=\"stroke:#000000; stroke-linecap:round; stroke-linejoin:round; stroke-width:4; stroke-opacity:1; fill:none\" points=\"\n",
       "  2112.76,1423.18 2112.76,1404.28 \n",
       "  \"/>\n",
       "<path clip-path=\"url(#clip540)\" d=\"M197.251 1454.1 Q193.64 1454.1 191.811 1457.66 Q190.005 1461.2 190.005 1468.33 Q190.005 1475.44 191.811 1479.01 Q193.64 1482.55 197.251 1482.55 Q200.885 1482.55 202.69 1479.01 Q204.519 1475.44 204.519 1468.33 Q204.519 1461.2 202.69 1457.66 Q200.885 1454.1 197.251 1454.1 M197.251 1450.39 Q203.061 1450.39 206.116 1455 Q209.195 1459.58 209.195 1468.33 Q209.195 1477.06 206.116 1481.67 Q203.061 1486.25 197.251 1486.25 Q191.44 1486.25 188.362 1481.67 Q185.306 1477.06 185.306 1468.33 Q185.306 1459.58 188.362 1455 Q191.44 1450.39 197.251 1450.39 Z\" fill=\"#000000\" fill-rule=\"evenodd\" fill-opacity=\"1\" /><path clip-path=\"url(#clip540)\" d=\"M217.413 1479.7 L222.297 1479.7 L222.297 1485.58 L217.413 1485.58 L217.413 1479.7 Z\" fill=\"#000000\" fill-rule=\"evenodd\" fill-opacity=\"1\" /><path clip-path=\"url(#clip540)\" d=\"M242.482 1454.1 Q238.871 1454.1 237.042 1457.66 Q235.237 1461.2 235.237 1468.33 Q235.237 1475.44 237.042 1479.01 Q238.871 1482.55 242.482 1482.55 Q246.116 1482.55 247.922 1479.01 Q249.75 1475.44 249.75 1468.33 Q249.75 1461.2 247.922 1457.66 Q246.116 1454.1 242.482 1454.1 M242.482 1450.39 Q248.292 1450.39 251.348 1455 Q254.426 1459.58 254.426 1468.33 Q254.426 1477.06 251.348 1481.67 Q248.292 1486.25 242.482 1486.25 Q236.672 1486.25 233.593 1481.67 Q230.538 1477.06 230.538 1468.33 Q230.538 1459.58 233.593 1455 Q236.672 1450.39 242.482 1450.39 Z\" fill=\"#000000\" fill-rule=\"evenodd\" fill-opacity=\"1\" /><path clip-path=\"url(#clip540)\" d=\"M576.627 1454.1 Q573.016 1454.1 571.187 1457.66 Q569.382 1461.2 569.382 1468.33 Q569.382 1475.44 571.187 1479.01 Q573.016 1482.55 576.627 1482.55 Q580.261 1482.55 582.067 1479.01 Q583.896 1475.44 583.896 1468.33 Q583.896 1461.2 582.067 1457.66 Q580.261 1454.1 576.627 1454.1 M576.627 1450.39 Q582.437 1450.39 585.493 1455 Q588.572 1459.58 588.572 1468.33 Q588.572 1477.06 585.493 1481.67 Q582.437 1486.25 576.627 1486.25 Q570.817 1486.25 567.738 1481.67 Q564.683 1477.06 564.683 1468.33 Q564.683 1459.58 567.738 1455 Q570.817 1450.39 576.627 1450.39 Z\" fill=\"#000000\" fill-rule=\"evenodd\" fill-opacity=\"1\" /><path clip-path=\"url(#clip540)\" d=\"M596.789 1479.7 L601.673 1479.7 L601.673 1485.58 L596.789 1485.58 L596.789 1479.7 Z\" fill=\"#000000\" fill-rule=\"evenodd\" fill-opacity=\"1\" /><path clip-path=\"url(#clip540)\" d=\"M615.886 1481.64 L632.206 1481.64 L632.206 1485.58 L610.261 1485.58 L610.261 1481.64 Q612.923 1478.89 617.507 1474.26 Q622.113 1469.61 623.294 1468.27 Q625.539 1465.74 626.419 1464.01 Q627.321 1462.25 627.321 1460.56 Q627.321 1457.8 625.377 1456.07 Q623.456 1454.33 620.354 1454.33 Q618.155 1454.33 615.701 1455.09 Q613.271 1455.86 610.493 1457.41 L610.493 1452.69 Q613.317 1451.55 615.77 1450.97 Q618.224 1450.39 620.261 1450.39 Q625.632 1450.39 628.826 1453.08 Q632.02 1455.77 632.02 1460.26 Q632.02 1462.39 631.21 1464.31 Q630.423 1466.2 628.317 1468.8 Q627.738 1469.47 624.636 1472.69 Q621.534 1475.88 615.886 1481.64 Z\" fill=\"#000000\" fill-rule=\"evenodd\" fill-opacity=\"1\" /><path clip-path=\"url(#clip540)\" d=\"M954.163 1454.1 Q950.552 1454.1 948.724 1457.66 Q946.918 1461.2 946.918 1468.33 Q946.918 1475.44 948.724 1479.01 Q950.552 1482.55 954.163 1482.55 Q957.798 1482.55 959.603 1479.01 Q961.432 1475.44 961.432 1468.33 Q961.432 1461.2 959.603 1457.66 Q957.798 1454.1 954.163 1454.1 M954.163 1450.39 Q959.974 1450.39 963.029 1455 Q966.108 1459.58 966.108 1468.33 Q966.108 1477.06 963.029 1481.67 Q959.974 1486.25 954.163 1486.25 Q948.353 1486.25 945.275 1481.67 Q942.219 1477.06 942.219 1468.33 Q942.219 1459.58 945.275 1455 Q948.353 1450.39 954.163 1450.39 Z\" fill=\"#000000\" fill-rule=\"evenodd\" fill-opacity=\"1\" /><path clip-path=\"url(#clip540)\" d=\"M974.325 1479.7 L979.21 1479.7 L979.21 1485.58 L974.325 1485.58 L974.325 1479.7 Z\" fill=\"#000000\" fill-rule=\"evenodd\" fill-opacity=\"1\" /><path clip-path=\"url(#clip540)\" d=\"M1002.24 1455.09 L990.436 1473.54 L1002.24 1473.54 L1002.24 1455.09 M1001.02 1451.02 L1006.89 1451.02 L1006.89 1473.54 L1011.83 1473.54 L1011.83 1477.43 L1006.89 1477.43 L1006.89 1485.58 L1002.24 1485.58 L1002.24 1477.43 L986.64 1477.43 L986.64 1472.92 L1001.02 1451.02 Z\" fill=\"#000000\" fill-rule=\"evenodd\" fill-opacity=\"1\" /><path clip-path=\"url(#clip540)\" d=\"M1332.9 1454.1 Q1329.29 1454.1 1327.46 1457.66 Q1325.66 1461.2 1325.66 1468.33 Q1325.66 1475.44 1327.46 1479.01 Q1329.29 1482.55 1332.9 1482.55 Q1336.54 1482.55 1338.34 1479.01 Q1340.17 1475.44 1340.17 1468.33 Q1340.17 1461.2 1338.34 1457.66 Q1336.54 1454.1 1332.9 1454.1 M1332.9 1450.39 Q1338.71 1450.39 1341.77 1455 Q1344.85 1459.58 1344.85 1468.33 Q1344.85 1477.06 1341.77 1481.67 Q1338.71 1486.25 1332.9 1486.25 Q1327.09 1486.25 1324.01 1481.67 Q1320.96 1477.06 1320.96 1468.33 Q1320.96 1459.58 1324.01 1455 Q1327.09 1450.39 1332.9 1450.39 Z\" fill=\"#000000\" fill-rule=\"evenodd\" fill-opacity=\"1\" /><path clip-path=\"url(#clip540)\" d=\"M1353.07 1479.7 L1357.95 1479.7 L1357.95 1485.58 L1353.07 1485.58 L1353.07 1479.7 Z\" fill=\"#000000\" fill-rule=\"evenodd\" fill-opacity=\"1\" /><path clip-path=\"url(#clip540)\" d=\"M1378.71 1466.44 Q1375.57 1466.44 1373.71 1468.59 Q1371.88 1470.74 1371.88 1474.49 Q1371.88 1478.22 1373.71 1480.39 Q1375.57 1482.55 1378.71 1482.55 Q1381.86 1482.55 1383.69 1480.39 Q1385.54 1478.22 1385.54 1474.49 Q1385.54 1470.74 1383.69 1468.59 Q1381.86 1466.44 1378.71 1466.44 M1388 1451.78 L1388 1456.04 Q1386.24 1455.21 1384.43 1454.77 Q1382.65 1454.33 1380.89 1454.33 Q1376.26 1454.33 1373.81 1457.45 Q1371.38 1460.58 1371.03 1466.9 Q1372.39 1464.89 1374.45 1463.82 Q1376.51 1462.73 1378.99 1462.73 Q1384.2 1462.73 1387.21 1465.9 Q1390.24 1469.05 1390.24 1474.49 Q1390.24 1479.82 1387.09 1483.03 Q1383.94 1486.25 1378.71 1486.25 Q1372.72 1486.25 1369.55 1481.67 Q1366.38 1477.06 1366.38 1468.33 Q1366.38 1460.14 1370.26 1455.28 Q1374.15 1450.39 1380.7 1450.39 Q1382.46 1450.39 1384.25 1450.74 Q1386.05 1451.09 1388 1451.78 Z\" fill=\"#000000\" fill-rule=\"evenodd\" fill-opacity=\"1\" /><path clip-path=\"url(#clip540)\" d=\"M1711.61 1454.1 Q1708 1454.1 1706.17 1457.66 Q1704.36 1461.2 1704.36 1468.33 Q1704.36 1475.44 1706.17 1479.01 Q1708 1482.55 1711.61 1482.55 Q1715.24 1482.55 1717.05 1479.01 Q1718.88 1475.44 1718.88 1468.33 Q1718.88 1461.2 1717.05 1457.66 Q1715.24 1454.1 1711.61 1454.1 M1711.61 1450.39 Q1717.42 1450.39 1720.47 1455 Q1723.55 1459.58 1723.55 1468.33 Q1723.55 1477.06 1720.47 1481.67 Q1717.42 1486.25 1711.61 1486.25 Q1705.8 1486.25 1702.72 1481.67 Q1699.66 1477.06 1699.66 1468.33 Q1699.66 1459.58 1702.72 1455 Q1705.8 1450.39 1711.61 1450.39 Z\" fill=\"#000000\" fill-rule=\"evenodd\" fill-opacity=\"1\" /><path clip-path=\"url(#clip540)\" d=\"M1731.77 1479.7 L1736.65 1479.7 L1736.65 1485.58 L1731.77 1485.58 L1731.77 1479.7 Z\" fill=\"#000000\" fill-rule=\"evenodd\" fill-opacity=\"1\" /><path clip-path=\"url(#clip540)\" d=\"M1756.84 1469.17 Q1753.51 1469.17 1751.59 1470.95 Q1749.69 1472.73 1749.69 1475.86 Q1749.69 1478.98 1751.59 1480.77 Q1753.51 1482.55 1756.84 1482.55 Q1760.17 1482.55 1762.09 1480.77 Q1764.02 1478.96 1764.02 1475.86 Q1764.02 1472.73 1762.09 1470.95 Q1760.2 1469.17 1756.84 1469.17 M1752.16 1467.18 Q1749.15 1466.44 1747.46 1464.38 Q1745.8 1462.32 1745.8 1459.35 Q1745.8 1455.21 1748.74 1452.8 Q1751.7 1450.39 1756.84 1450.39 Q1762 1450.39 1764.94 1452.8 Q1767.88 1455.21 1767.88 1459.35 Q1767.88 1462.32 1766.19 1464.38 Q1764.53 1466.44 1761.54 1467.18 Q1764.92 1467.96 1766.79 1470.26 Q1768.69 1472.55 1768.69 1475.86 Q1768.69 1480.88 1765.61 1483.57 Q1762.56 1486.25 1756.84 1486.25 Q1751.12 1486.25 1748.04 1483.57 Q1744.99 1480.88 1744.99 1475.86 Q1744.99 1472.55 1746.89 1470.26 Q1748.78 1467.96 1752.16 1467.18 M1750.45 1459.79 Q1750.45 1462.48 1752.12 1463.98 Q1753.81 1465.49 1756.84 1465.49 Q1759.85 1465.49 1761.54 1463.98 Q1763.25 1462.48 1763.25 1459.79 Q1763.25 1457.11 1761.54 1455.6 Q1759.85 1454.1 1756.84 1454.1 Q1753.81 1454.1 1752.12 1455.6 Q1750.45 1457.11 1750.45 1459.79 Z\" fill=\"#000000\" fill-rule=\"evenodd\" fill-opacity=\"1\" /><path clip-path=\"url(#clip540)\" d=\"M2079.91 1481.64 L2087.55 1481.64 L2087.55 1455.28 L2079.24 1456.95 L2079.24 1452.69 L2087.5 1451.02 L2092.18 1451.02 L2092.18 1481.64 L2099.82 1481.64 L2099.82 1485.58 L2079.91 1485.58 L2079.91 1481.64 Z\" fill=\"#000000\" fill-rule=\"evenodd\" fill-opacity=\"1\" /><path clip-path=\"url(#clip540)\" d=\"M2109.26 1479.7 L2114.14 1479.7 L2114.14 1485.58 L2109.26 1485.58 L2109.26 1479.7 Z\" fill=\"#000000\" fill-rule=\"evenodd\" fill-opacity=\"1\" /><path clip-path=\"url(#clip540)\" d=\"M2134.33 1454.1 Q2130.72 1454.1 2128.89 1457.66 Q2127.08 1461.2 2127.08 1468.33 Q2127.08 1475.44 2128.89 1479.01 Q2130.72 1482.55 2134.33 1482.55 Q2137.96 1482.55 2139.77 1479.01 Q2141.6 1475.44 2141.6 1468.33 Q2141.6 1461.2 2139.77 1457.66 Q2137.96 1454.1 2134.33 1454.1 M2134.33 1450.39 Q2140.14 1450.39 2143.2 1455 Q2146.27 1459.58 2146.27 1468.33 Q2146.27 1477.06 2143.2 1481.67 Q2140.14 1486.25 2134.33 1486.25 Q2128.52 1486.25 2125.44 1481.67 Q2122.39 1477.06 2122.39 1468.33 Q2122.39 1459.58 2125.44 1455 Q2128.52 1450.39 2134.33 1450.39 Z\" fill=\"#000000\" fill-rule=\"evenodd\" fill-opacity=\"1\" /><path clip-path=\"url(#clip540)\" d=\"M1182.93 1532.4 L1170.04 1549.74 L1183.59 1568.04 L1176.69 1568.04 L1166.31 1554.04 L1155.93 1568.04 L1149.03 1568.04 L1162.87 1549.39 L1150.21 1532.4 L1157.11 1532.4 L1166.57 1545.1 L1176.02 1532.4 L1182.93 1532.4 Z\" fill=\"#000000\" fill-rule=\"evenodd\" fill-opacity=\"1\" /><polyline clip-path=\"url(#clip542)\" style=\"stroke:#000000; stroke-linecap:round; stroke-linejoin:round; stroke-width:2; stroke-opacity:0.1; fill:none\" points=\"\n",
       "  219.866,1423.18 2112.76,1423.18 \n",
       "  \"/>\n",
       "<polyline clip-path=\"url(#clip542)\" style=\"stroke:#000000; stroke-linecap:round; stroke-linejoin:round; stroke-width:2; stroke-opacity:0.1; fill:none\" points=\"\n",
       "  219.866,1147.99 2112.76,1147.99 \n",
       "  \"/>\n",
       "<polyline clip-path=\"url(#clip542)\" style=\"stroke:#000000; stroke-linecap:round; stroke-linejoin:round; stroke-width:2; stroke-opacity:0.1; fill:none\" points=\"\n",
       "  219.866,872.806 2112.76,872.806 \n",
       "  \"/>\n",
       "<polyline clip-path=\"url(#clip542)\" style=\"stroke:#000000; stroke-linecap:round; stroke-linejoin:round; stroke-width:2; stroke-opacity:0.1; fill:none\" points=\"\n",
       "  219.866,597.618 2112.76,597.618 \n",
       "  \"/>\n",
       "<polyline clip-path=\"url(#clip542)\" style=\"stroke:#000000; stroke-linecap:round; stroke-linejoin:round; stroke-width:2; stroke-opacity:0.1; fill:none\" points=\"\n",
       "  219.866,322.431 2112.76,322.431 \n",
       "  \"/>\n",
       "<polyline clip-path=\"url(#clip542)\" style=\"stroke:#000000; stroke-linecap:round; stroke-linejoin:round; stroke-width:2; stroke-opacity:0.1; fill:none\" points=\"\n",
       "  219.866,47.2441 2112.76,47.2441 \n",
       "  \"/>\n",
       "<polyline clip-path=\"url(#clip540)\" style=\"stroke:#000000; stroke-linecap:round; stroke-linejoin:round; stroke-width:4; stroke-opacity:1; fill:none\" points=\"\n",
       "  219.866,1423.18 219.866,47.2441 \n",
       "  \"/>\n",
       "<polyline clip-path=\"url(#clip540)\" style=\"stroke:#000000; stroke-linecap:round; stroke-linejoin:round; stroke-width:4; stroke-opacity:1; fill:none\" points=\"\n",
       "  219.866,1423.18 236.637,1423.18 \n",
       "  \"/>\n",
       "<polyline clip-path=\"url(#clip540)\" style=\"stroke:#000000; stroke-linecap:round; stroke-linejoin:round; stroke-width:4; stroke-opacity:1; fill:none\" points=\"\n",
       "  219.866,1147.99 236.637,1147.99 \n",
       "  \"/>\n",
       "<polyline clip-path=\"url(#clip540)\" style=\"stroke:#000000; stroke-linecap:round; stroke-linejoin:round; stroke-width:4; stroke-opacity:1; fill:none\" points=\"\n",
       "  219.866,872.806 236.637,872.806 \n",
       "  \"/>\n",
       "<polyline clip-path=\"url(#clip540)\" style=\"stroke:#000000; stroke-linecap:round; stroke-linejoin:round; stroke-width:4; stroke-opacity:1; fill:none\" points=\"\n",
       "  219.866,597.618 236.637,597.618 \n",
       "  \"/>\n",
       "<polyline clip-path=\"url(#clip540)\" style=\"stroke:#000000; stroke-linecap:round; stroke-linejoin:round; stroke-width:4; stroke-opacity:1; fill:none\" points=\"\n",
       "  219.866,322.431 236.637,322.431 \n",
       "  \"/>\n",
       "<polyline clip-path=\"url(#clip540)\" style=\"stroke:#000000; stroke-linecap:round; stroke-linejoin:round; stroke-width:4; stroke-opacity:1; fill:none\" points=\"\n",
       "  219.866,47.2441 236.637,47.2441 \n",
       "  \"/>\n",
       "<path clip-path=\"url(#clip540)\" d=\"M126.691 1408.98 Q123.08 1408.98 121.251 1412.54 Q119.445 1416.08 119.445 1423.21 Q119.445 1430.32 121.251 1433.89 Q123.08 1437.43 126.691 1437.43 Q130.325 1437.43 132.13 1433.89 Q133.959 1430.32 133.959 1423.21 Q133.959 1416.08 132.13 1412.54 Q130.325 1408.98 126.691 1408.98 M126.691 1405.27 Q132.501 1405.27 135.556 1409.88 Q138.635 1414.46 138.635 1423.21 Q138.635 1431.94 135.556 1436.55 Q132.501 1441.13 126.691 1441.13 Q120.88 1441.13 117.802 1436.55 Q114.746 1431.94 114.746 1423.21 Q114.746 1414.46 117.802 1409.88 Q120.88 1405.27 126.691 1405.27 Z\" fill=\"#000000\" fill-rule=\"evenodd\" fill-opacity=\"1\" /><path clip-path=\"url(#clip540)\" d=\"M146.853 1434.58 L151.737 1434.58 L151.737 1440.46 L146.853 1440.46 L146.853 1434.58 Z\" fill=\"#000000\" fill-rule=\"evenodd\" fill-opacity=\"1\" /><path clip-path=\"url(#clip540)\" d=\"M171.922 1408.98 Q168.311 1408.98 166.482 1412.54 Q164.677 1416.08 164.677 1423.21 Q164.677 1430.32 166.482 1433.89 Q168.311 1437.43 171.922 1437.43 Q175.556 1437.43 177.362 1433.89 Q179.19 1430.32 179.19 1423.21 Q179.19 1416.08 177.362 1412.54 Q175.556 1408.98 171.922 1408.98 M171.922 1405.27 Q177.732 1405.27 180.788 1409.88 Q183.866 1414.46 183.866 1423.21 Q183.866 1431.94 180.788 1436.55 Q177.732 1441.13 171.922 1441.13 Q166.112 1441.13 163.033 1436.55 Q159.978 1431.94 159.978 1423.21 Q159.978 1414.46 163.033 1409.88 Q166.112 1405.27 171.922 1405.27 Z\" fill=\"#000000\" fill-rule=\"evenodd\" fill-opacity=\"1\" /><path clip-path=\"url(#clip540)\" d=\"M128.288 1133.79 Q124.677 1133.79 122.848 1137.36 Q121.043 1140.9 121.043 1148.03 Q121.043 1155.13 122.848 1158.7 Q124.677 1162.24 128.288 1162.24 Q131.922 1162.24 133.728 1158.7 Q135.556 1155.13 135.556 1148.03 Q135.556 1140.9 133.728 1137.36 Q131.922 1133.79 128.288 1133.79 M128.288 1130.09 Q134.098 1130.09 137.154 1134.69 Q140.232 1139.28 140.232 1148.03 Q140.232 1156.75 137.154 1161.36 Q134.098 1165.94 128.288 1165.94 Q122.478 1165.94 119.399 1161.36 Q116.343 1156.75 116.343 1148.03 Q116.343 1139.28 119.399 1134.69 Q122.478 1130.09 128.288 1130.09 Z\" fill=\"#000000\" fill-rule=\"evenodd\" fill-opacity=\"1\" /><path clip-path=\"url(#clip540)\" d=\"M148.45 1159.39 L153.334 1159.39 L153.334 1165.27 L148.45 1165.27 L148.45 1159.39 Z\" fill=\"#000000\" fill-rule=\"evenodd\" fill-opacity=\"1\" /><path clip-path=\"url(#clip540)\" d=\"M167.547 1161.34 L183.866 1161.34 L183.866 1165.27 L161.922 1165.27 L161.922 1161.34 Q164.584 1158.58 169.167 1153.95 Q173.774 1149.3 174.954 1147.96 Q177.2 1145.43 178.079 1143.7 Q178.982 1141.94 178.982 1140.25 Q178.982 1137.5 177.038 1135.76 Q175.116 1134.02 172.014 1134.02 Q169.815 1134.02 167.362 1134.79 Q164.931 1135.55 162.153 1137.1 L162.153 1132.38 Q164.977 1131.25 167.431 1130.67 Q169.885 1130.09 171.922 1130.09 Q177.292 1130.09 180.487 1132.77 Q183.681 1135.46 183.681 1139.95 Q183.681 1142.08 182.871 1144 Q182.084 1145.9 179.977 1148.49 Q179.399 1149.16 176.297 1152.38 Q173.195 1155.57 167.547 1161.34 Z\" fill=\"#000000\" fill-rule=\"evenodd\" fill-opacity=\"1\" /><path clip-path=\"url(#clip540)\" d=\"M126.205 858.604 Q122.593 858.604 120.765 862.169 Q118.959 865.711 118.959 872.84 Q118.959 879.947 120.765 883.512 Q122.593 887.053 126.205 887.053 Q129.839 887.053 131.644 883.512 Q133.473 879.947 133.473 872.84 Q133.473 865.711 131.644 862.169 Q129.839 858.604 126.205 858.604 M126.205 854.901 Q132.015 854.901 135.07 859.507 Q138.149 864.09 138.149 872.84 Q138.149 881.567 135.07 886.174 Q132.015 890.757 126.205 890.757 Q120.394 890.757 117.316 886.174 Q114.26 881.567 114.26 872.84 Q114.26 864.09 117.316 859.507 Q120.394 854.901 126.205 854.901 Z\" fill=\"#000000\" fill-rule=\"evenodd\" fill-opacity=\"1\" /><path clip-path=\"url(#clip540)\" d=\"M146.366 884.206 L151.251 884.206 L151.251 890.086 L146.366 890.086 L146.366 884.206 Z\" fill=\"#000000\" fill-rule=\"evenodd\" fill-opacity=\"1\" /><path clip-path=\"url(#clip540)\" d=\"M174.283 859.6 L162.477 878.049 L174.283 878.049 L174.283 859.6 M173.056 855.526 L178.936 855.526 L178.936 878.049 L183.866 878.049 L183.866 881.937 L178.936 881.937 L178.936 890.086 L174.283 890.086 L174.283 881.937 L158.681 881.937 L158.681 877.424 L173.056 855.526 Z\" fill=\"#000000\" fill-rule=\"evenodd\" fill-opacity=\"1\" /><path clip-path=\"url(#clip540)\" d=\"M126.529 583.417 Q122.918 583.417 121.089 586.982 Q119.283 590.524 119.283 597.653 Q119.283 604.76 121.089 608.324 Q122.918 611.866 126.529 611.866 Q130.163 611.866 131.968 608.324 Q133.797 604.76 133.797 597.653 Q133.797 590.524 131.968 586.982 Q130.163 583.417 126.529 583.417 M126.529 579.713 Q132.339 579.713 135.394 584.32 Q138.473 588.903 138.473 597.653 Q138.473 606.38 135.394 610.986 Q132.339 615.57 126.529 615.57 Q120.718 615.57 117.64 610.986 Q114.584 606.38 114.584 597.653 Q114.584 588.903 117.64 584.32 Q120.718 579.713 126.529 579.713 Z\" fill=\"#000000\" fill-rule=\"evenodd\" fill-opacity=\"1\" /><path clip-path=\"url(#clip540)\" d=\"M146.691 609.019 L151.575 609.019 L151.575 614.898 L146.691 614.898 L146.691 609.019 Z\" fill=\"#000000\" fill-rule=\"evenodd\" fill-opacity=\"1\" /><path clip-path=\"url(#clip540)\" d=\"M172.339 595.755 Q169.19 595.755 167.339 597.908 Q165.51 600.061 165.51 603.81 Q165.51 607.537 167.339 609.713 Q169.19 611.866 172.339 611.866 Q175.487 611.866 177.315 609.713 Q179.167 607.537 179.167 603.81 Q179.167 600.061 177.315 597.908 Q175.487 595.755 172.339 595.755 M181.621 581.102 L181.621 585.362 Q179.862 584.528 178.056 584.088 Q176.274 583.649 174.514 583.649 Q169.885 583.649 167.431 586.774 Q165.001 589.899 164.653 596.218 Q166.019 594.204 168.079 593.139 Q170.139 592.051 172.616 592.051 Q177.825 592.051 180.834 595.223 Q183.866 598.371 183.866 603.81 Q183.866 609.135 180.718 612.352 Q177.57 615.57 172.339 615.57 Q166.343 615.57 163.172 610.986 Q160.001 606.38 160.001 597.653 Q160.001 589.459 163.89 584.598 Q167.778 579.713 174.329 579.713 Q176.089 579.713 177.871 580.061 Q179.676 580.408 181.621 581.102 Z\" fill=\"#000000\" fill-rule=\"evenodd\" fill-opacity=\"1\" /><path clip-path=\"url(#clip540)\" d=\"M126.783 308.23 Q123.172 308.23 121.343 311.795 Q119.538 315.336 119.538 322.466 Q119.538 329.572 121.343 333.137 Q123.172 336.679 126.783 336.679 Q130.417 336.679 132.223 333.137 Q134.052 329.572 134.052 322.466 Q134.052 315.336 132.223 311.795 Q130.417 308.23 126.783 308.23 M126.783 304.526 Q132.593 304.526 135.649 309.133 Q138.728 313.716 138.728 322.466 Q138.728 331.193 135.649 335.799 Q132.593 340.383 126.783 340.383 Q120.973 340.383 117.894 335.799 Q114.839 331.193 114.839 322.466 Q114.839 313.716 117.894 309.133 Q120.973 304.526 126.783 304.526 Z\" fill=\"#000000\" fill-rule=\"evenodd\" fill-opacity=\"1\" /><path clip-path=\"url(#clip540)\" d=\"M146.945 333.832 L151.829 333.832 L151.829 339.711 L146.945 339.711 L146.945 333.832 Z\" fill=\"#000000\" fill-rule=\"evenodd\" fill-opacity=\"1\" /><path clip-path=\"url(#clip540)\" d=\"M172.014 323.299 Q168.681 323.299 166.76 325.082 Q164.862 326.864 164.862 329.989 Q164.862 333.114 166.76 334.896 Q168.681 336.679 172.014 336.679 Q175.348 336.679 177.269 334.896 Q179.19 333.091 179.19 329.989 Q179.19 326.864 177.269 325.082 Q175.371 323.299 172.014 323.299 M167.339 321.309 Q164.329 320.568 162.64 318.508 Q160.973 316.447 160.973 313.485 Q160.973 309.341 163.913 306.934 Q166.876 304.526 172.014 304.526 Q177.176 304.526 180.116 306.934 Q183.056 309.341 183.056 313.485 Q183.056 316.447 181.366 318.508 Q179.7 320.568 176.714 321.309 Q180.093 322.096 181.968 324.387 Q183.866 326.679 183.866 329.989 Q183.866 335.012 180.788 337.697 Q177.732 340.383 172.014 340.383 Q166.297 340.383 163.218 337.697 Q160.163 335.012 160.163 329.989 Q160.163 326.679 162.061 324.387 Q163.959 322.096 167.339 321.309 M165.626 313.924 Q165.626 316.61 167.292 318.114 Q168.982 319.619 172.014 319.619 Q175.024 319.619 176.714 318.114 Q178.426 316.61 178.426 313.924 Q178.426 311.239 176.714 309.735 Q175.024 308.23 172.014 308.23 Q168.982 308.23 167.292 309.735 Q165.626 311.239 165.626 313.924 Z\" fill=\"#000000\" fill-rule=\"evenodd\" fill-opacity=\"1\" /><path clip-path=\"url(#clip540)\" d=\"M117.501 60.5889 L125.14 60.5889 L125.14 34.2233 L116.83 35.89 L116.83 31.6308 L125.093 29.9641 L129.769 29.9641 L129.769 60.5889 L137.408 60.5889 L137.408 64.5241 L117.501 64.5241 L117.501 60.5889 Z\" fill=\"#000000\" fill-rule=\"evenodd\" fill-opacity=\"1\" /><path clip-path=\"url(#clip540)\" d=\"M146.853 58.6445 L151.737 58.6445 L151.737 64.5241 L146.853 64.5241 L146.853 58.6445 Z\" fill=\"#000000\" fill-rule=\"evenodd\" fill-opacity=\"1\" /><path clip-path=\"url(#clip540)\" d=\"M171.922 33.0428 Q168.311 33.0428 166.482 36.6076 Q164.677 40.1492 164.677 47.2788 Q164.677 54.3853 166.482 57.9501 Q168.311 61.4917 171.922 61.4917 Q175.556 61.4917 177.362 57.9501 Q179.19 54.3853 179.19 47.2788 Q179.19 40.1492 177.362 36.6076 Q175.556 33.0428 171.922 33.0428 M171.922 29.3391 Q177.732 29.3391 180.788 33.9456 Q183.866 38.5289 183.866 47.2788 Q183.866 56.0056 180.788 60.6121 Q177.732 65.1954 171.922 65.1954 Q166.112 65.1954 163.033 60.6121 Q159.978 56.0056 159.978 47.2788 Q159.978 38.5289 163.033 33.9456 Q166.112 29.3391 171.922 29.3391 Z\" fill=\"#000000\" fill-rule=\"evenodd\" fill-opacity=\"1\" /><path clip-path=\"url(#clip540)\" d=\"M67.3143 733.525 Q73.68 736.008 75.6216 738.363 Q77.5631 740.718 77.5631 744.665 L77.5631 749.344 L72.6615 749.344 L72.6615 745.906 Q72.6615 743.487 71.5157 742.151 Q70.3699 740.814 66.1048 739.191 L63.4312 738.14 L28.3562 752.559 L28.3562 746.352 L56.238 735.212 L28.3562 724.072 L28.3562 717.865 L67.3143 733.525 Z\" fill=\"#000000\" fill-rule=\"evenodd\" fill-opacity=\"1\" /><polyline clip-path=\"url(#clip542)\" style=\"stroke:#090621; stroke-linecap:round; stroke-linejoin:round; stroke-width:4; stroke-opacity:1; fill:none\" points=\"\n",
       "  850.829,1394.51 259.301,964.535 259.301,505.889 850.829,75.9094 1481.79,75.9094 2073.32,505.889 2073.32,964.535 1481.79,1394.51 850.829,1394.51 \n",
       "  \"/>\n",
       "<polyline clip-path=\"url(#clip542)\" style=\"stroke:#1f0c47; stroke-linecap:round; stroke-linejoin:round; stroke-width:4; stroke-opacity:1; fill:none\" points=\"\n",
       "  850.829,1365.85 298.737,964.535 298.737,505.889 850.829,104.575 1481.79,104.575 2033.89,505.889 2033.89,964.535 1481.79,1365.85 850.829,1365.85 \n",
       "  \"/>\n",
       "<polyline clip-path=\"url(#clip542)\" style=\"stroke:#3b0964; stroke-linecap:round; stroke-linejoin:round; stroke-width:4; stroke-opacity:1; fill:none\" points=\"\n",
       "  850.829,1337.18 338.172,964.535 338.172,505.889 850.829,133.24 1481.79,133.24 1994.45,505.889 1994.45,964.535 1481.79,1337.18 850.829,1337.18 \n",
       "  \"/>\n",
       "<polyline clip-path=\"url(#clip542)\" style=\"stroke:#550f6d; stroke-linecap:round; stroke-linejoin:round; stroke-width:4; stroke-opacity:1; fill:none\" points=\"\n",
       "  850.829,1308.52 377.607,964.535 377.607,505.889 850.829,161.905 1481.79,161.905 1955.02,505.889 1955.02,964.535 1481.79,1308.52 850.829,1308.52 \n",
       "  \"/>\n",
       "<polyline clip-path=\"url(#clip542)\" style=\"stroke:#6e186e; stroke-linecap:round; stroke-linejoin:round; stroke-width:4; stroke-opacity:1; fill:none\" points=\"\n",
       "  850.829,1279.85 417.042,964.535 417.042,505.889 850.829,190.571 1481.79,190.571 1915.58,505.889 1915.58,964.535 1481.79,1279.85 850.829,1279.85 \n",
       "  \"/>\n",
       "<polyline clip-path=\"url(#clip542)\" style=\"stroke:#88216a; stroke-linecap:round; stroke-linejoin:round; stroke-width:4; stroke-opacity:1; fill:none\" points=\"\n",
       "  850.829,1251.19 456.477,964.535 456.477,505.889 850.829,219.236 1481.79,219.236 1876.14,505.889 1876.14,964.535 1481.79,1251.19 850.829,1251.19 \n",
       "  \"/>\n",
       "<polyline clip-path=\"url(#clip542)\" style=\"stroke:#a12b61; stroke-linecap:round; stroke-linejoin:round; stroke-width:4; stroke-opacity:1; fill:none\" points=\"\n",
       "  850.829,1222.52 495.913,964.535 495.913,505.889 850.829,247.901 1481.79,247.901 1836.71,505.889 1836.71,964.535 1481.79,1222.52 850.829,1222.52 \n",
       "  \"/>\n",
       "<polyline clip-path=\"url(#clip542)\" style=\"stroke:#ba3655; stroke-linecap:round; stroke-linejoin:round; stroke-width:4; stroke-opacity:1; fill:none\" points=\"\n",
       "  850.829,1193.86 535.348,964.535 535.348,505.889 850.829,276.567 1481.79,276.567 1797.27,505.889 1797.27,964.535 1481.79,1193.86 850.829,1193.86 \n",
       "  \"/>\n",
       "<polyline clip-path=\"url(#clip542)\" style=\"stroke:#d04544; stroke-linecap:round; stroke-linejoin:round; stroke-width:4; stroke-opacity:1; fill:none\" points=\"\n",
       "  850.829,1165.19 574.783,964.535 574.783,505.889 850.829,305.232 1481.79,305.232 1757.84,505.889 1757.84,964.535 1481.79,1165.19 850.829,1165.19 \n",
       "  \"/>\n",
       "<polyline clip-path=\"url(#clip542)\" style=\"stroke:#e35832; stroke-linecap:round; stroke-linejoin:round; stroke-width:4; stroke-opacity:1; fill:none\" points=\"\n",
       "  850.829,1136.53 614.218,964.535 614.218,505.889 850.829,333.897 1481.79,333.897 1718.4,505.889 1718.4,964.535 1481.79,1136.53 850.829,1136.53 \n",
       "  \"/>\n",
       "<polyline clip-path=\"url(#clip542)\" style=\"stroke:#f0701e; stroke-linecap:round; stroke-linejoin:round; stroke-width:4; stroke-opacity:1; fill:none\" points=\"\n",
       "  850.829,1107.86 653.653,964.535 653.653,505.889 850.829,362.563 1481.79,362.563 1678.97,505.889 1678.97,964.535 1481.79,1107.86 850.829,1107.86 \n",
       "  \"/>\n",
       "<polyline clip-path=\"url(#clip542)\" style=\"stroke:#f98c09; stroke-linecap:round; stroke-linejoin:round; stroke-width:4; stroke-opacity:1; fill:none\" points=\"\n",
       "  850.829,1079.2 693.089,964.535 693.089,505.889 850.829,391.228 1481.79,391.228 1639.53,505.889 1639.53,964.535 1481.79,1079.2 850.829,1079.2 \n",
       "  \"/>\n",
       "<polyline clip-path=\"url(#clip542)\" style=\"stroke:#fbaa0e; stroke-linecap:round; stroke-linejoin:round; stroke-width:4; stroke-opacity:1; fill:none\" points=\"\n",
       "  850.829,1050.53 732.524,964.535 732.524,505.889 850.829,419.893 1481.79,419.893 1600.1,505.889 1600.1,964.535 1481.79,1050.53 850.829,1050.53 \n",
       "  \"/>\n",
       "<polyline clip-path=\"url(#clip542)\" style=\"stroke:#f8c931; stroke-linecap:round; stroke-linejoin:round; stroke-width:4; stroke-opacity:1; fill:none\" points=\"\n",
       "  850.829,1021.87 771.959,964.535 771.959,505.889 850.829,448.559 1481.79,448.559 1560.66,505.889 1560.66,964.535 1481.79,1021.87 850.829,1021.87 \n",
       "  \"/>\n",
       "<polyline clip-path=\"url(#clip542)\" style=\"stroke:#f1e864; stroke-linecap:round; stroke-linejoin:round; stroke-width:4; stroke-opacity:1; fill:none\" points=\"\n",
       "  850.829,993.2 811.394,964.535 811.394,505.889 850.829,477.224 1481.79,477.224 1521.23,505.889 1521.23,964.535 1481.79,993.2 850.829,993.2 \n",
       "  \"/>\n",
       "<defs>\n",
       "  <clipPath id=\"clip543\">\n",
       "    <rect x=\"2160\" y=\"47\" width=\"73\" height=\"1377\"/>\n",
       "  </clipPath>\n",
       "</defs>\n",
       "<polyline clip-path=\"url(#clip543)\" style=\"stroke:#0a0723; stroke-linecap:round; stroke-linejoin:round; stroke-width:4; stroke-opacity:1; fill:none\" points=\"\n",
       "  2160.76,1337.18 2232.76,1337.18 \n",
       "  \"/>\n",
       "<polyline clip-path=\"url(#clip543)\" style=\"stroke:#200c4a; stroke-linecap:round; stroke-linejoin:round; stroke-width:4; stroke-opacity:1; fill:none\" points=\"\n",
       "  2160.76,1251.19 2232.76,1251.19 \n",
       "  \"/>\n",
       "<polyline clip-path=\"url(#clip543)\" style=\"stroke:#3c0965; stroke-linecap:round; stroke-linejoin:round; stroke-width:4; stroke-opacity:1; fill:none\" points=\"\n",
       "  2160.76,1165.19 2232.76,1165.19 \n",
       "  \"/>\n",
       "<polyline clip-path=\"url(#clip543)\" style=\"stroke:#570f6d; stroke-linecap:round; stroke-linejoin:round; stroke-width:4; stroke-opacity:1; fill:none\" points=\"\n",
       "  2160.76,1079.2 2232.76,1079.2 \n",
       "  \"/>\n",
       "<polyline clip-path=\"url(#clip543)\" style=\"stroke:#70196e; stroke-linecap:round; stroke-linejoin:round; stroke-width:4; stroke-opacity:1; fill:none\" points=\"\n",
       "  2160.76,993.2 2232.76,993.2 \n",
       "  \"/>\n",
       "<polyline clip-path=\"url(#clip543)\" style=\"stroke:#892269; stroke-linecap:round; stroke-linejoin:round; stroke-width:4; stroke-opacity:1; fill:none\" points=\"\n",
       "  2160.76,907.204 2232.76,907.204 \n",
       "  \"/>\n",
       "<polyline clip-path=\"url(#clip543)\" style=\"stroke:#a32b61; stroke-linecap:round; stroke-linejoin:round; stroke-width:4; stroke-opacity:1; fill:none\" points=\"\n",
       "  2160.76,821.208 2232.76,821.208 \n",
       "  \"/>\n",
       "<polyline clip-path=\"url(#clip543)\" style=\"stroke:#bb3754; stroke-linecap:round; stroke-linejoin:round; stroke-width:4; stroke-opacity:1; fill:none\" points=\"\n",
       "  2160.76,735.212 2232.76,735.212 \n",
       "  \"/>\n",
       "<polyline clip-path=\"url(#clip543)\" style=\"stroke:#d04544; stroke-linecap:round; stroke-linejoin:round; stroke-width:4; stroke-opacity:1; fill:none\" points=\"\n",
       "  2160.76,649.216 2232.76,649.216 \n",
       "  \"/>\n",
       "<polyline clip-path=\"url(#clip543)\" style=\"stroke:#e35832; stroke-linecap:round; stroke-linejoin:round; stroke-width:4; stroke-opacity:1; fill:none\" points=\"\n",
       "  2160.76,563.22 2232.76,563.22 \n",
       "  \"/>\n",
       "<polyline clip-path=\"url(#clip543)\" style=\"stroke:#f0701e; stroke-linecap:round; stroke-linejoin:round; stroke-width:4; stroke-opacity:1; fill:none\" points=\"\n",
       "  2160.76,477.224 2232.76,477.224 \n",
       "  \"/>\n",
       "<polyline clip-path=\"url(#clip543)\" style=\"stroke:#f98c09; stroke-linecap:round; stroke-linejoin:round; stroke-width:4; stroke-opacity:1; fill:none\" points=\"\n",
       "  2160.76,391.228 2232.76,391.228 \n",
       "  \"/>\n",
       "<polyline clip-path=\"url(#clip543)\" style=\"stroke:#fbaa0e; stroke-linecap:round; stroke-linejoin:round; stroke-width:4; stroke-opacity:1; fill:none\" points=\"\n",
       "  2160.76,305.232 2232.76,305.232 \n",
       "  \"/>\n",
       "<polyline clip-path=\"url(#clip543)\" style=\"stroke:#f8c931; stroke-linecap:round; stroke-linejoin:round; stroke-width:4; stroke-opacity:1; fill:none\" points=\"\n",
       "  2160.76,219.236 2232.76,219.236 \n",
       "  \"/>\n",
       "<polyline clip-path=\"url(#clip543)\" style=\"stroke:#f1e864; stroke-linecap:round; stroke-linejoin:round; stroke-width:4; stroke-opacity:1; fill:none\" points=\"\n",
       "  2160.76,133.24 2232.76,133.24 \n",
       "  \"/>\n",
       "<path clip-path=\"url(#clip540)\" d=\"M2280.7 1405.35 Q2277.09 1405.35 2275.26 1408.91 Q2273.45 1412.46 2273.45 1419.59 Q2273.45 1426.69 2275.26 1430.26 Q2277.09 1433.8 2280.7 1433.8 Q2284.33 1433.8 2286.14 1430.26 Q2287.97 1426.69 2287.97 1419.59 Q2287.97 1412.46 2286.14 1408.91 Q2284.33 1405.35 2280.7 1405.35 M2280.7 1401.65 Q2286.51 1401.65 2289.57 1406.25 Q2292.64 1410.84 2292.64 1419.59 Q2292.64 1428.31 2289.57 1432.92 Q2286.51 1437.5 2280.7 1437.5 Q2274.89 1437.5 2271.81 1432.92 Q2268.76 1428.31 2268.76 1419.59 Q2268.76 1410.84 2271.81 1406.25 Q2274.89 1401.65 2280.7 1401.65 Z\" fill=\"#000000\" fill-rule=\"evenodd\" fill-opacity=\"1\" /><path clip-path=\"url(#clip540)\" d=\"M2280.7 1250.56 Q2277.09 1250.56 2275.26 1254.12 Q2273.45 1257.66 2273.45 1264.79 Q2273.45 1271.9 2275.26 1275.46 Q2277.09 1279.01 2280.7 1279.01 Q2284.33 1279.01 2286.14 1275.46 Q2287.97 1271.9 2287.97 1264.79 Q2287.97 1257.66 2286.14 1254.12 Q2284.33 1250.56 2280.7 1250.56 M2280.7 1246.85 Q2286.51 1246.85 2289.57 1251.46 Q2292.64 1256.04 2292.64 1264.79 Q2292.64 1273.52 2289.57 1278.13 Q2286.51 1282.71 2280.7 1282.71 Q2274.89 1282.71 2271.81 1278.13 Q2268.76 1273.52 2268.76 1264.79 Q2268.76 1256.04 2271.81 1251.46 Q2274.89 1246.85 2280.7 1246.85 Z\" fill=\"#000000\" fill-rule=\"evenodd\" fill-opacity=\"1\" /><path clip-path=\"url(#clip540)\" d=\"M2300.86 1276.16 L2305.75 1276.16 L2305.75 1282.04 L2300.86 1282.04 L2300.86 1276.16 Z\" fill=\"#000000\" fill-rule=\"evenodd\" fill-opacity=\"1\" /><path clip-path=\"url(#clip540)\" d=\"M2325.93 1250.56 Q2322.32 1250.56 2320.49 1254.12 Q2318.69 1257.66 2318.69 1264.79 Q2318.69 1271.9 2320.49 1275.46 Q2322.32 1279.01 2325.93 1279.01 Q2329.57 1279.01 2331.37 1275.46 Q2333.2 1271.9 2333.2 1264.79 Q2333.2 1257.66 2331.37 1254.12 Q2329.57 1250.56 2325.93 1250.56 M2325.93 1246.85 Q2331.74 1246.85 2334.8 1251.46 Q2337.88 1256.04 2337.88 1264.79 Q2337.88 1273.52 2334.8 1278.13 Q2331.74 1282.71 2325.93 1282.71 Q2320.12 1282.71 2317.04 1278.13 Q2313.99 1273.52 2313.99 1264.79 Q2313.99 1256.04 2317.04 1251.46 Q2320.12 1246.85 2325.93 1246.85 Z\" fill=\"#000000\" fill-rule=\"evenodd\" fill-opacity=\"1\" /><path clip-path=\"url(#clip540)\" d=\"M2346.14 1247.48 L2364.5 1247.48 L2364.5 1251.41 L2350.42 1251.41 L2350.42 1259.89 Q2351.44 1259.54 2352.46 1259.38 Q2353.48 1259.19 2354.5 1259.19 Q2360.28 1259.19 2363.66 1262.36 Q2367.04 1265.53 2367.04 1270.95 Q2367.04 1276.53 2363.57 1279.63 Q2360.1 1282.71 2353.78 1282.71 Q2351.6 1282.71 2349.33 1282.34 Q2347.09 1281.97 2344.68 1281.23 L2344.68 1276.53 Q2346.76 1277.66 2348.99 1278.22 Q2351.21 1278.77 2353.69 1278.77 Q2357.69 1278.77 2360.03 1276.67 Q2362.37 1274.56 2362.37 1270.95 Q2362.37 1267.34 2360.03 1265.23 Q2357.69 1263.13 2353.69 1263.13 Q2351.81 1263.13 2349.94 1263.54 Q2348.08 1263.96 2346.14 1264.84 L2346.14 1247.48 Z\" fill=\"#000000\" fill-rule=\"evenodd\" fill-opacity=\"1\" /><path clip-path=\"url(#clip540)\" d=\"M2280.7 1095.76 Q2277.09 1095.76 2275.26 1099.33 Q2273.45 1102.87 2273.45 1110 Q2273.45 1117.11 2275.26 1120.67 Q2277.09 1124.21 2280.7 1124.21 Q2284.33 1124.21 2286.14 1120.67 Q2287.97 1117.11 2287.97 1110 Q2287.97 1102.87 2286.14 1099.33 Q2284.33 1095.76 2280.7 1095.76 M2280.7 1092.06 Q2286.51 1092.06 2289.57 1096.67 Q2292.64 1101.25 2292.64 1110 Q2292.64 1118.73 2289.57 1123.33 Q2286.51 1127.92 2280.7 1127.92 Q2274.89 1127.92 2271.81 1123.33 Q2268.76 1118.73 2268.76 1110 Q2268.76 1101.25 2271.81 1096.67 Q2274.89 1092.06 2280.7 1092.06 Z\" fill=\"#000000\" fill-rule=\"evenodd\" fill-opacity=\"1\" /><path clip-path=\"url(#clip540)\" d=\"M2300.86 1121.37 L2305.75 1121.37 L2305.75 1127.25 L2300.86 1127.25 L2300.86 1121.37 Z\" fill=\"#000000\" fill-rule=\"evenodd\" fill-opacity=\"1\" /><path clip-path=\"url(#clip540)\" d=\"M2316.74 1123.31 L2324.38 1123.31 L2324.38 1096.94 L2316.07 1098.61 L2316.07 1094.35 L2324.33 1092.69 L2329.01 1092.69 L2329.01 1123.31 L2336.65 1123.31 L2336.65 1127.25 L2316.74 1127.25 L2316.74 1123.31 Z\" fill=\"#000000\" fill-rule=\"evenodd\" fill-opacity=\"1\" /><path clip-path=\"url(#clip540)\" d=\"M2356.09 1095.76 Q2352.48 1095.76 2350.65 1099.33 Q2348.85 1102.87 2348.85 1110 Q2348.85 1117.11 2350.65 1120.67 Q2352.48 1124.21 2356.09 1124.21 Q2359.73 1124.21 2361.53 1120.67 Q2363.36 1117.11 2363.36 1110 Q2363.36 1102.87 2361.53 1099.33 Q2359.73 1095.76 2356.09 1095.76 M2356.09 1092.06 Q2361.9 1092.06 2364.96 1096.67 Q2368.04 1101.25 2368.04 1110 Q2368.04 1118.73 2364.96 1123.33 Q2361.9 1127.92 2356.09 1127.92 Q2350.28 1127.92 2347.2 1123.33 Q2344.15 1118.73 2344.15 1110 Q2344.15 1101.25 2347.2 1096.67 Q2350.28 1092.06 2356.09 1092.06 Z\" fill=\"#000000\" fill-rule=\"evenodd\" fill-opacity=\"1\" /><path clip-path=\"url(#clip540)\" d=\"M2280.7 940.971 Q2277.09 940.971 2275.26 944.536 Q2273.45 948.078 2273.45 955.207 Q2273.45 962.314 2275.26 965.879 Q2277.09 969.42 2280.7 969.42 Q2284.33 969.42 2286.14 965.879 Q2287.97 962.314 2287.97 955.207 Q2287.97 948.078 2286.14 944.536 Q2284.33 940.971 2280.7 940.971 M2280.7 937.268 Q2286.51 937.268 2289.57 941.874 Q2292.64 946.457 2292.64 955.207 Q2292.64 963.934 2289.57 968.541 Q2286.51 973.124 2280.7 973.124 Q2274.89 973.124 2271.81 968.541 Q2268.76 963.934 2268.76 955.207 Q2268.76 946.457 2271.81 941.874 Q2274.89 937.268 2280.7 937.268 Z\" fill=\"#000000\" fill-rule=\"evenodd\" fill-opacity=\"1\" /><path clip-path=\"url(#clip540)\" d=\"M2300.86 966.573 L2305.75 966.573 L2305.75 972.453 L2300.86 972.453 L2300.86 966.573 Z\" fill=\"#000000\" fill-rule=\"evenodd\" fill-opacity=\"1\" /><path clip-path=\"url(#clip540)\" d=\"M2316.74 968.518 L2324.38 968.518 L2324.38 942.152 L2316.07 943.819 L2316.07 939.559 L2324.33 937.893 L2329.01 937.893 L2329.01 968.518 L2336.65 968.518 L2336.65 972.453 L2316.74 972.453 L2316.74 968.518 Z\" fill=\"#000000\" fill-rule=\"evenodd\" fill-opacity=\"1\" /><path clip-path=\"url(#clip540)\" d=\"M2346.14 937.893 L2364.5 937.893 L2364.5 941.828 L2350.42 941.828 L2350.42 950.3 Q2351.44 949.953 2352.46 949.791 Q2353.48 949.606 2354.5 949.606 Q2360.28 949.606 2363.66 952.777 Q2367.04 955.948 2367.04 961.365 Q2367.04 966.943 2363.57 970.045 Q2360.1 973.124 2353.78 973.124 Q2351.6 973.124 2349.33 972.754 Q2347.09 972.383 2344.68 971.643 L2344.68 966.943 Q2346.76 968.078 2348.99 968.633 Q2351.21 969.189 2353.69 969.189 Q2357.69 969.189 2360.03 967.082 Q2362.37 964.976 2362.37 961.365 Q2362.37 957.754 2360.03 955.647 Q2357.69 953.541 2353.69 953.541 Q2351.81 953.541 2349.94 953.957 Q2348.08 954.374 2346.14 955.254 L2346.14 937.893 Z\" fill=\"#000000\" fill-rule=\"evenodd\" fill-opacity=\"1\" /><path clip-path=\"url(#clip540)\" d=\"M2280.7 786.179 Q2277.09 786.179 2275.26 789.743 Q2273.45 793.285 2273.45 800.415 Q2273.45 807.521 2275.26 811.086 Q2277.09 814.628 2280.7 814.628 Q2284.33 814.628 2286.14 811.086 Q2287.97 807.521 2287.97 800.415 Q2287.97 793.285 2286.14 789.743 Q2284.33 786.179 2280.7 786.179 M2280.7 782.475 Q2286.51 782.475 2289.57 787.081 Q2292.64 791.665 2292.64 800.415 Q2292.64 809.141 2289.57 813.748 Q2286.51 818.331 2280.7 818.331 Q2274.89 818.331 2271.81 813.748 Q2268.76 809.141 2268.76 800.415 Q2268.76 791.665 2271.81 787.081 Q2274.89 782.475 2280.7 782.475 Z\" fill=\"#000000\" fill-rule=\"evenodd\" fill-opacity=\"1\" /><path clip-path=\"url(#clip540)\" d=\"M2300.86 811.78 L2305.75 811.78 L2305.75 817.66 L2300.86 817.66 L2300.86 811.78 Z\" fill=\"#000000\" fill-rule=\"evenodd\" fill-opacity=\"1\" /><path clip-path=\"url(#clip540)\" d=\"M2319.96 813.725 L2336.28 813.725 L2336.28 817.66 L2314.33 817.66 L2314.33 813.725 Q2317 810.97 2321.58 806.341 Q2326.19 801.688 2327.37 800.345 Q2329.61 797.822 2330.49 796.086 Q2331.39 794.327 2331.39 792.637 Q2331.39 789.882 2329.45 788.146 Q2327.53 786.41 2324.43 786.41 Q2322.23 786.41 2319.77 787.174 Q2317.34 787.938 2314.57 789.489 L2314.57 784.767 Q2317.39 783.632 2319.84 783.054 Q2322.3 782.475 2324.33 782.475 Q2329.7 782.475 2332.9 785.16 Q2336.09 787.845 2336.09 792.336 Q2336.09 794.466 2335.28 796.387 Q2334.5 798.285 2332.39 800.878 Q2331.81 801.549 2328.71 804.767 Q2325.61 807.961 2319.96 813.725 Z\" fill=\"#000000\" fill-rule=\"evenodd\" fill-opacity=\"1\" /><path clip-path=\"url(#clip540)\" d=\"M2356.09 786.179 Q2352.48 786.179 2350.65 789.743 Q2348.85 793.285 2348.85 800.415 Q2348.85 807.521 2350.65 811.086 Q2352.48 814.628 2356.09 814.628 Q2359.73 814.628 2361.53 811.086 Q2363.36 807.521 2363.36 800.415 Q2363.36 793.285 2361.53 789.743 Q2359.73 786.179 2356.09 786.179 M2356.09 782.475 Q2361.9 782.475 2364.96 787.081 Q2368.04 791.665 2368.04 800.415 Q2368.04 809.141 2364.96 813.748 Q2361.9 818.331 2356.09 818.331 Q2350.28 818.331 2347.2 813.748 Q2344.15 809.141 2344.15 800.415 Q2344.15 791.665 2347.2 787.081 Q2350.28 782.475 2356.09 782.475 Z\" fill=\"#000000\" fill-rule=\"evenodd\" fill-opacity=\"1\" /><path clip-path=\"url(#clip540)\" d=\"M2280.7 631.386 Q2277.09 631.386 2275.26 634.951 Q2273.45 638.492 2273.45 645.622 Q2273.45 652.728 2275.26 656.293 Q2277.09 659.835 2280.7 659.835 Q2284.33 659.835 2286.14 656.293 Q2287.97 652.728 2287.97 645.622 Q2287.97 638.492 2286.14 634.951 Q2284.33 631.386 2280.7 631.386 M2280.7 627.682 Q2286.51 627.682 2289.57 632.289 Q2292.64 636.872 2292.64 645.622 Q2292.64 654.349 2289.57 658.955 Q2286.51 663.538 2280.7 663.538 Q2274.89 663.538 2271.81 658.955 Q2268.76 654.349 2268.76 645.622 Q2268.76 636.872 2271.81 632.289 Q2274.89 627.682 2280.7 627.682 Z\" fill=\"#000000\" fill-rule=\"evenodd\" fill-opacity=\"1\" /><path clip-path=\"url(#clip540)\" d=\"M2300.86 656.988 L2305.75 656.988 L2305.75 662.867 L2300.86 662.867 L2300.86 656.988 Z\" fill=\"#000000\" fill-rule=\"evenodd\" fill-opacity=\"1\" /><path clip-path=\"url(#clip540)\" d=\"M2319.96 658.932 L2336.28 658.932 L2336.28 662.867 L2314.33 662.867 L2314.33 658.932 Q2317 656.177 2321.58 651.548 Q2326.19 646.895 2327.37 645.552 Q2329.61 643.029 2330.49 641.293 Q2331.39 639.534 2331.39 637.844 Q2331.39 635.09 2329.45 633.353 Q2327.53 631.617 2324.43 631.617 Q2322.23 631.617 2319.77 632.381 Q2317.34 633.145 2314.57 634.696 L2314.57 629.974 Q2317.39 628.84 2319.84 628.261 Q2322.3 627.682 2324.33 627.682 Q2329.7 627.682 2332.9 630.367 Q2336.09 633.053 2336.09 637.543 Q2336.09 639.673 2335.28 641.594 Q2334.5 643.492 2332.39 646.085 Q2331.81 646.756 2328.71 649.974 Q2325.61 653.168 2319.96 658.932 Z\" fill=\"#000000\" fill-rule=\"evenodd\" fill-opacity=\"1\" /><path clip-path=\"url(#clip540)\" d=\"M2346.14 628.307 L2364.5 628.307 L2364.5 632.242 L2350.42 632.242 L2350.42 640.715 Q2351.44 640.367 2352.46 640.205 Q2353.48 640.02 2354.5 640.02 Q2360.28 640.02 2363.66 643.191 Q2367.04 646.363 2367.04 651.779 Q2367.04 657.358 2363.57 660.46 Q2360.1 663.538 2353.78 663.538 Q2351.6 663.538 2349.33 663.168 Q2347.09 662.798 2344.68 662.057 L2344.68 657.358 Q2346.76 658.492 2348.99 659.048 Q2351.21 659.603 2353.69 659.603 Q2357.69 659.603 2360.03 657.497 Q2362.37 655.39 2362.37 651.779 Q2362.37 648.168 2360.03 646.062 Q2357.69 643.955 2353.69 643.955 Q2351.81 643.955 2349.94 644.372 Q2348.08 644.789 2346.14 645.668 L2346.14 628.307 Z\" fill=\"#000000\" fill-rule=\"evenodd\" fill-opacity=\"1\" /><path clip-path=\"url(#clip540)\" d=\"M2280.7 476.593 Q2277.09 476.593 2275.26 480.158 Q2273.45 483.7 2273.45 490.829 Q2273.45 497.936 2275.26 501.5 Q2277.09 505.042 2280.7 505.042 Q2284.33 505.042 2286.14 501.5 Q2287.97 497.936 2287.97 490.829 Q2287.97 483.7 2286.14 480.158 Q2284.33 476.593 2280.7 476.593 M2280.7 472.889 Q2286.51 472.889 2289.57 477.496 Q2292.64 482.079 2292.64 490.829 Q2292.64 499.556 2289.57 504.162 Q2286.51 508.746 2280.7 508.746 Q2274.89 508.746 2271.81 504.162 Q2268.76 499.556 2268.76 490.829 Q2268.76 482.079 2271.81 477.496 Q2274.89 472.889 2280.7 472.889 Z\" fill=\"#000000\" fill-rule=\"evenodd\" fill-opacity=\"1\" /><path clip-path=\"url(#clip540)\" d=\"M2300.86 502.195 L2305.75 502.195 L2305.75 508.074 L2300.86 508.074 L2300.86 502.195 Z\" fill=\"#000000\" fill-rule=\"evenodd\" fill-opacity=\"1\" /><path clip-path=\"url(#clip540)\" d=\"M2330.1 489.44 Q2333.45 490.158 2335.33 492.426 Q2337.23 494.695 2337.23 498.028 Q2337.23 503.144 2333.71 505.945 Q2330.19 508.746 2323.71 508.746 Q2321.53 508.746 2319.22 508.306 Q2316.93 507.889 2314.47 507.033 L2314.47 502.519 Q2316.42 503.653 2318.73 504.232 Q2321.05 504.811 2323.57 504.811 Q2327.97 504.811 2330.26 503.074 Q2332.58 501.338 2332.58 498.028 Q2332.58 494.973 2330.42 493.26 Q2328.29 491.524 2324.47 491.524 L2320.45 491.524 L2320.45 487.681 L2324.66 487.681 Q2328.11 487.681 2329.94 486.315 Q2331.76 484.926 2331.76 482.334 Q2331.76 479.672 2329.87 478.26 Q2327.99 476.825 2324.47 476.825 Q2322.55 476.825 2320.35 477.241 Q2318.15 477.658 2315.51 478.538 L2315.51 474.371 Q2318.18 473.63 2320.49 473.26 Q2322.83 472.889 2324.89 472.889 Q2330.21 472.889 2333.32 475.32 Q2336.42 477.727 2336.42 481.848 Q2336.42 484.718 2334.77 486.709 Q2333.13 488.676 2330.1 489.44 Z\" fill=\"#000000\" fill-rule=\"evenodd\" fill-opacity=\"1\" /><path clip-path=\"url(#clip540)\" d=\"M2356.09 476.593 Q2352.48 476.593 2350.65 480.158 Q2348.85 483.7 2348.85 490.829 Q2348.85 497.936 2350.65 501.5 Q2352.48 505.042 2356.09 505.042 Q2359.73 505.042 2361.53 501.5 Q2363.36 497.936 2363.36 490.829 Q2363.36 483.7 2361.53 480.158 Q2359.73 476.593 2356.09 476.593 M2356.09 472.889 Q2361.9 472.889 2364.96 477.496 Q2368.04 482.079 2368.04 490.829 Q2368.04 499.556 2364.96 504.162 Q2361.9 508.746 2356.09 508.746 Q2350.28 508.746 2347.2 504.162 Q2344.15 499.556 2344.15 490.829 Q2344.15 482.079 2347.2 477.496 Q2350.28 472.889 2356.09 472.889 Z\" fill=\"#000000\" fill-rule=\"evenodd\" fill-opacity=\"1\" /><path clip-path=\"url(#clip540)\" d=\"M2280.7 321.8 Q2277.09 321.8 2275.26 325.365 Q2273.45 328.907 2273.45 336.036 Q2273.45 343.143 2275.26 346.708 Q2277.09 350.249 2280.7 350.249 Q2284.33 350.249 2286.14 346.708 Q2287.97 343.143 2287.97 336.036 Q2287.97 328.907 2286.14 325.365 Q2284.33 321.8 2280.7 321.8 M2280.7 318.097 Q2286.51 318.097 2289.57 322.703 Q2292.64 327.286 2292.64 336.036 Q2292.64 344.763 2289.57 349.37 Q2286.51 353.953 2280.7 353.953 Q2274.89 353.953 2271.81 349.37 Q2268.76 344.763 2268.76 336.036 Q2268.76 327.286 2271.81 322.703 Q2274.89 318.097 2280.7 318.097 Z\" fill=\"#000000\" fill-rule=\"evenodd\" fill-opacity=\"1\" /><path clip-path=\"url(#clip540)\" d=\"M2300.86 347.402 L2305.75 347.402 L2305.75 353.282 L2300.86 353.282 L2300.86 347.402 Z\" fill=\"#000000\" fill-rule=\"evenodd\" fill-opacity=\"1\" /><path clip-path=\"url(#clip540)\" d=\"M2330.1 334.647 Q2333.45 335.365 2335.33 337.634 Q2337.23 339.902 2337.23 343.235 Q2337.23 348.351 2333.71 351.152 Q2330.19 353.953 2323.71 353.953 Q2321.53 353.953 2319.22 353.513 Q2316.93 353.096 2314.47 352.24 L2314.47 347.726 Q2316.42 348.86 2318.73 349.439 Q2321.05 350.018 2323.57 350.018 Q2327.97 350.018 2330.26 348.282 Q2332.58 346.546 2332.58 343.235 Q2332.58 340.18 2330.42 338.467 Q2328.29 336.731 2324.47 336.731 L2320.45 336.731 L2320.45 332.888 L2324.66 332.888 Q2328.11 332.888 2329.94 331.522 Q2331.76 330.134 2331.76 327.541 Q2331.76 324.879 2329.87 323.467 Q2327.99 322.032 2324.47 322.032 Q2322.55 322.032 2320.35 322.448 Q2318.15 322.865 2315.51 323.745 L2315.51 319.578 Q2318.18 318.837 2320.49 318.467 Q2322.83 318.097 2324.89 318.097 Q2330.21 318.097 2333.32 320.527 Q2336.42 322.935 2336.42 327.055 Q2336.42 329.925 2334.77 331.916 Q2333.13 333.884 2330.1 334.647 Z\" fill=\"#000000\" fill-rule=\"evenodd\" fill-opacity=\"1\" /><path clip-path=\"url(#clip540)\" d=\"M2346.14 318.722 L2364.5 318.722 L2364.5 322.657 L2350.42 322.657 L2350.42 331.129 Q2351.44 330.782 2352.46 330.62 Q2353.48 330.435 2354.5 330.435 Q2360.28 330.435 2363.66 333.606 Q2367.04 336.777 2367.04 342.194 Q2367.04 347.772 2363.57 350.874 Q2360.1 353.953 2353.78 353.953 Q2351.6 353.953 2349.33 353.583 Q2347.09 353.212 2344.68 352.471 L2344.68 347.772 Q2346.76 348.907 2348.99 349.462 Q2351.21 350.018 2353.69 350.018 Q2357.69 350.018 2360.03 347.911 Q2362.37 345.805 2362.37 342.194 Q2362.37 338.583 2360.03 336.476 Q2357.69 334.37 2353.69 334.37 Q2351.81 334.37 2349.94 334.786 Q2348.08 335.203 2346.14 336.083 L2346.14 318.722 Z\" fill=\"#000000\" fill-rule=\"evenodd\" fill-opacity=\"1\" /><path clip-path=\"url(#clip540)\" d=\"M2280.7 167.008 Q2277.09 167.008 2275.26 170.572 Q2273.45 174.114 2273.45 181.244 Q2273.45 188.35 2275.26 191.915 Q2277.09 195.456 2280.7 195.456 Q2284.33 195.456 2286.14 191.915 Q2287.97 188.35 2287.97 181.244 Q2287.97 174.114 2286.14 170.572 Q2284.33 167.008 2280.7 167.008 M2280.7 163.304 Q2286.51 163.304 2289.57 167.91 Q2292.64 172.494 2292.64 181.244 Q2292.64 189.97 2289.57 194.577 Q2286.51 199.16 2280.7 199.16 Q2274.89 199.16 2271.81 194.577 Q2268.76 189.97 2268.76 181.244 Q2268.76 172.494 2271.81 167.91 Q2274.89 163.304 2280.7 163.304 Z\" fill=\"#000000\" fill-rule=\"evenodd\" fill-opacity=\"1\" /><path clip-path=\"url(#clip540)\" d=\"M2300.86 192.609 L2305.75 192.609 L2305.75 198.489 L2300.86 198.489 L2300.86 192.609 Z\" fill=\"#000000\" fill-rule=\"evenodd\" fill-opacity=\"1\" /><path clip-path=\"url(#clip540)\" d=\"M2328.78 168.003 L2316.97 186.452 L2328.78 186.452 L2328.78 168.003 M2327.55 163.929 L2333.43 163.929 L2333.43 186.452 L2338.36 186.452 L2338.36 190.341 L2333.43 190.341 L2333.43 198.489 L2328.78 198.489 L2328.78 190.341 L2313.18 190.341 L2313.18 185.827 L2327.55 163.929 Z\" fill=\"#000000\" fill-rule=\"evenodd\" fill-opacity=\"1\" /><path clip-path=\"url(#clip540)\" d=\"M2356.09 167.008 Q2352.48 167.008 2350.65 170.572 Q2348.85 174.114 2348.85 181.244 Q2348.85 188.35 2350.65 191.915 Q2352.48 195.456 2356.09 195.456 Q2359.73 195.456 2361.53 191.915 Q2363.36 188.35 2363.36 181.244 Q2363.36 174.114 2361.53 170.572 Q2359.73 167.008 2356.09 167.008 M2356.09 163.304 Q2361.9 163.304 2364.96 167.91 Q2368.04 172.494 2368.04 181.244 Q2368.04 189.97 2364.96 194.577 Q2361.9 199.16 2356.09 199.16 Q2350.28 199.16 2347.2 194.577 Q2344.15 189.97 2344.15 181.244 Q2344.15 172.494 2347.2 167.91 Q2350.28 163.304 2356.09 163.304 Z\" fill=\"#000000\" fill-rule=\"evenodd\" fill-opacity=\"1\" /><polyline clip-path=\"url(#clip540)\" style=\"stroke:#000000; stroke-linecap:round; stroke-linejoin:round; stroke-width:4; stroke-opacity:1; fill:none\" points=\"\n",
       "  2232.76,1423.18 2232.76,1423.18 2256.76,1423.18 2232.76,1423.18 2232.76,1268.39 2256.76,1268.39 2232.76,1268.39 2232.76,1113.59 2256.76,1113.59 2232.76,1113.59 \n",
       "  2232.76,958.802 2256.76,958.802 2232.76,958.802 2232.76,804.009 2256.76,804.009 2232.76,804.009 2232.76,649.216 2256.76,649.216 2232.76,649.216 2232.76,494.423 \n",
       "  2256.76,494.423 2232.76,494.423 2232.76,339.63 2256.76,339.63 2232.76,339.63 2232.76,184.838 2256.76,184.838 2232.76,184.838 2232.76,47.2441 \n",
       "  \"/>\n",
       "</svg>\n"
      ]
     },
     "execution_count": 11,
     "metadata": {},
     "output_type": "execute_result"
    }
   ],
   "source": [
    "#..set number of intervals (N)\n",
    "N = 3; \n",
    "#..compute derived numbers such as \n",
    "#..the points on the boundary (Nbnd) and the mesh width (h)\n",
    "Np1 = N+1; Nm1 = N-1; Np2 = Np1*Np1; Nm2 = Nm1*Nm1; Nbnd = 4*N; h = 1/N; h2=h*h; \n",
    "\n",
    "#..construct the 2D mesh (X) starting from the 1D mesh (x)  \n",
    "#..observe that we make in the 2D mesh the x coordinate increase from left to right and \n",
    "#..the y coordinate increase from top to bottom (as expected)\n",
    "x = Vector(0:h:1); \n",
    "y = Vector(0:h:1); \n",
    "X = repeat(reshape(x, 1, :), length(y), 1);\n",
    "Y = repeat(y, 1, length(x));\n",
    "\n",
    "#..construct the mesh indicator matrix IG \n",
    "#..this indicator matrix will allow to distinguish interior and boundary nodes \n",
    "#..in this indicator matrix the boundary nodes are easy to identify \n",
    "#..for interior nodes IG(i,j) = 0 and for the boundary nodes IG(i,j) = 1\n",
    "#..next construct the indicator vector IGvec by reshaping the indicator matrix IG  \n",
    "IG = ones(Np1,Np1); \n",
    "IG[2:end-1,2:end-1] = zeros(Nm1,Nm1); \n",
    "IGvec = reshape(IG,Np2,1); \n",
    "#..construct array with linear indices allowing to define interior and boundary nodes \n",
    "#..interior: index array with all indices of the interior nodes \n",
    "#..boundary: index array with indices of all the boundary nodes \n",
    "L = LinearIndices(IGvec); \n",
    "interior_cartesian = findall(x->x==0,IGvec);  interior = L[interior_cartesian]; \n",
    "boundary_cartesian = findall(x->x>0,IGvec); boundary = L[boundary_cartesian]; \n",
    "\n",
    "#..construct auxiliary vectors used in the 1D code as well \n",
    "e = ones(Np1);            #..same as in 1D.. \n",
    "e_bnd = ones(Nbnd); #..used to handle the boundary nodes \n",
    "\n",
    "#..Construct one-dimensional matrix\n",
    "A1 = Tridiagonal(-e[2:end], 2*e, -e[2:end]); \n",
    "I = Diagonal(e); \n",
    "I_bnd = Diagonal(e_bnd); \n",
    "\n",
    "#..Construct the 2D matrix using Kronecker products \n",
    "Axx = kron(A1,I); \n",
    "Ayy = kron(I,A1); \n",
    "A = Axx+Ayy; \n",
    "\n",
    "#..Construct the right-hand side vector \n",
    "#..Define the source function \n",
    "#..Observe the use of double brackets to make f work on a tuple of coordinates (x,y)\n",
    "sourceterm(x,y) = - 2*x*(x-1) - 2*y*(y-1); \n",
    "#..Evaluate fsource on each node of the grid (Xh)\n",
    "#..Observe the use of the dot syntax to evaluate fsource in all mesh nodes in X \n",
    "F = sourceterm.(X,Y); \n",
    "#..Reshape the F 2D array into an f vector \n",
    "f = reshape(F,Np2); \n",
    "\n",
    "#..Handle the Dirichlet boundary conditions in the matrix and the right-hand side vector \n",
    "A[boundary,boundary] = I_bnd; A[boundary,interior] = zeros(Nbnd, Nm2); \n",
    "f[boundary] = zeros(Nbnd); \n",
    "\n",
    "#..solve the linear system for the finite difference approximation \n",
    "u = A \\ f; \n",
    "\n",
    "#..reshape the computed approximation \n",
    "U = reshape(u,Np1,Np1); \n",
    "\n",
    "#..plot the computed approximation as a contour plot \n",
    "contour(x, y, U, xlabel=\"x\", ylabel=\"y\")"
   ]
  },
  {
   "cell_type": "markdown",
   "metadata": {},
   "source": [
    "## Section 2/6: Convergence Towards the Exact Solution "
   ]
  },
  {
   "cell_type": "markdown",
   "metadata": {},
   "source": [
    "### First Study: Converge of the Numerical Solution to the Exact Solution as the Mesh is Refined"
   ]
  },
  {
   "cell_type": "markdown",
   "metadata": {},
   "source": [
    "Exercises:  \n",
    "1. Construct using pen and paper an analytical reference solution. This can be done for instance as follows. Assume first that $u(x,y) = \\text{whatever-you-like}(x,y) \\, x \\, (x-1) \\, y \\, (y-1)$ where $\\text{whatever-you-like}(x,y)$ is any function in $x$ and $y$. The multiplication with $x$, $x-1$, $y$ and $y-1$ is such that the function $u(x,y)$ satisfies the Dirichlet boundary conditions. Next compute $f(x,y)$ by computing $-\\bigtriangleup u(x,y)$. The function $f(x,y)$ can subsequently be used as source function in the finite difference code;   \n",
    "2. Verify that the difference between the analytical reference solution and the numerically computed solution decreases as the mesh is refined; "
   ]
  },
  {
   "cell_type": "markdown",
   "metadata": {},
   "source": [
    "### Second Study: Converge of the Numerical Solution to the Exact Solution as the Polynomial Degree of the Appproximation is Increased "
   ]
  },
  {
   "cell_type": "markdown",
   "metadata": {},
   "source": [
    "Replace code as above by code that employ DiffEqOperators.jl https://diffeqoperators.sciml.ai/stable/. "
   ]
  },
  {
   "cell_type": "markdown",
   "metadata": {},
   "source": [
    "## Section 3/6: A Closer Look into the Linear Algebra"
   ]
  },
  {
   "cell_type": "markdown",
   "metadata": {},
   "source": [
    "### First Study: dense vs. sparse "
   ]
  },
  {
   "cell_type": "markdown",
   "metadata": {},
   "source": [
    "Compare runtime of solver with A dense and A sparse. The sparse command allow to convert from dense to sparse. Use the @btime macro to compare both variants."
   ]
  },
  {
   "cell_type": "markdown",
   "metadata": {},
   "source": [
    "### (experimental) Second Study: direct vs. iterative"
   ]
  },
  {
   "cell_type": "markdown",
   "metadata": {},
   "source": [
    "Compare runtime of solver using direct and iterative (CG preconditioned by for instance algebraic multigrid) for various problem sizes."
   ]
  },
  {
   "cell_type": "markdown",
   "metadata": {},
   "source": [
    "## Section (4/6): An Application: Coil in Air "
   ]
  },
  {
   "cell_type": "markdown",
   "metadata": {},
   "source": [
    "### Computation of the potential "
   ]
  },
  {
   "cell_type": "code",
   "execution_count": null,
   "metadata": {},
   "outputs": [],
   "source": [
    "#..set number of intervals (N)\n",
    "N = 50; \n",
    "#..compute derived numbers such as \n",
    "#..the points on the boundary (Nbnd) and the mesh width (h)\n",
    "Np1 = N+1; Nm1 = N-1; Np2 = Np1*Np1; Nm2 = Nm1*Nm1; Nbnd = 4*N; h = 1/N; h2=h*h; \n",
    "\n",
    "#..construct the 2D mesh (X) starting from the 1D mesh (x)  \n",
    "#..observe that we make in the 2D mesh the x coordinate increase from left to right and \n",
    "#..the y coordinate increase from top to bottom (as expected)\n",
    "x = Vector(0:h:1); \n",
    "y = Vector(0:h:1); \n",
    "X = repeat(reshape(x, 1, :), length(y), 1);\n",
    "Y = repeat(y, 1, length(x));\n",
    "\n",
    "#..construct the mesh indicator matrix IG \n",
    "#..this indicator matrix will allow to distinguish interior and boundary nodes \n",
    "#..in this indicator matrix the boundary nodes are easy to identify \n",
    "#..for interior nodes IG(i,j) = 0 and for the boundary nodes IG(i,j) = 1\n",
    "#..next construct the indicator vector IGvec by reshaping the indicator matrix IG  \n",
    "IG = ones(Np1,Np1); \n",
    "IG[2:end-1,2:end-1] = zeros(Nm1,Nm1); \n",
    "IGvec = reshape(IG,Np2,1); \n",
    "#..construct array with linear indices allowing to define interior and boundary nodes \n",
    "#..interior: index array with all indices of the interior nodes \n",
    "#..boundary: index array with indices of all the boundary nodes \n",
    "L = LinearIndices(IGvec); \n",
    "interior_cartesian = findall(x->x==0,IGvec);  interior = L[interior_cartesian]; \n",
    "boundary_cartesian = findall(x->x>0,IGvec); boundary = L[boundary_cartesian]; \n",
    "\n",
    "#..construct auxiliary vectors used in the 1D code as well \n",
    "e = ones(Np1);            #..same as in 1D.. \n",
    "e_bnd = ones(Nbnd); #..used to handle the boundary nodes \n",
    "\n",
    "#..Construct one-dimensional matrix\n",
    "A1 = Tridiagonal(-e[2:end], 2*e, -e[2:end]); \n",
    "I = Diagonal(e); \n",
    "I_bnd = Diagonal(e_bnd); \n",
    "\n",
    "#..Construct the 2D matrix using Kronecker products \n",
    "A = kron(A1,I) + kron(I,A1); \n",
    "\n",
    "#..Construct the right-hand side vector \n",
    "#..Define the source function \n",
    "#..Observe the use of double brackets to make f work on a tuple of coordinates (x,y)\n",
    "sourceterm(x,y) = (x.>=.35).*(x.<=.45).*(y.>=.45).*(y.<=.55) .- (x.>=.55).*(x.<=.65).*(y.>=.45).*(y.<=.55); \n",
    "#..Evaluate fsource on each node of the grid (Xh)\n",
    "#..Observe the use of the dot syntax to evaluate fsource in all mesh nodes in X \n",
    "F = sourceterm.(X,Y); \n",
    "#..Reshape the F 2D array into an f vector \n",
    "f = reshape(F,Np2); \n",
    "\n",
    "#..Handle the Dirichlet boundary conditions in the matrix and the right-hand side vector \n",
    "A[boundary,boundary] = I_bnd; A[boundary,interior] = zeros(Nbnd, Nm2); \n",
    "f[boundary] = zeros(Nbnd); \n",
    "\n",
    "#..solve the linear system for the finite difference approximation \n",
    "u = A \\ f; \n",
    "\n",
    "#..reshape the computed approximation \n",
    "U = reshape(u,Np1,Np1); \n",
    "\n",
    "#..plot the computed approximation as a contour plot \n",
    "contour(x, y, U, xlabel=\"x\", ylabel=\"y\")"
   ]
  },
  {
   "cell_type": "markdown",
   "metadata": {},
   "source": [
    "### (in development): Computation of the flux "
   ]
  },
  {
   "cell_type": "markdown",
   "metadata": {},
   "source": [
    "The flux is computed as the gradient of the potential. Details are to be filled in. "
   ]
  },
  {
   "cell_type": "code",
   "execution_count": 50,
   "metadata": {},
   "outputs": [
    {
     "ename": "LoadError",
     "evalue": "Cannot convert Matrix{Any} to series data for plotting",
     "output_type": "error",
     "traceback": [
      "Cannot convert Matrix{Any} to series data for plotting",
      "",
      "Stacktrace:",
      "  [1] error(s::String)",
      "    @ Base ./error.jl:33",
      "  [2] _prepare_series_data(x::Matrix{Any})",
      "    @ RecipesPipeline ~/.julia/packages/RecipesPipeline/7ijBv/src/series.jl:8",
      "  [3] _series_data_vector(x::Matrix{Any}, plotattributes::Dict{Symbol, Any})",
      "    @ RecipesPipeline ~/.julia/packages/RecipesPipeline/7ijBv/src/series.jl:27",
      "  [4] macro expansion",
      "    @ ~/.julia/packages/RecipesPipeline/7ijBv/src/series.jl:126 [inlined]",
      "  [5] apply_recipe(plotattributes::AbstractDict{Symbol, Any}, #unused#::Type{RecipesPipeline.SliceIt}, x::Any, y::Any, z::Any)",
      "    @ RecipesPipeline ~/.julia/packages/RecipesBase/qpxEX/src/RecipesBase.jl:289",
      "  [6] _process_userrecipes!(plt::Any, plotattributes::Any, args::Any)",
      "    @ RecipesPipeline ~/.julia/packages/RecipesPipeline/7ijBv/src/user_recipe.jl:36",
      "  [7] recipe_pipeline!(plt::Any, plotattributes::Any, args::Any)",
      "    @ RecipesPipeline ~/.julia/packages/RecipesPipeline/7ijBv/src/RecipesPipeline.jl:70",
      "  [8] _plot!(plt::Plots.Plot, plotattributes::Any, args::Any)",
      "    @ Plots ~/.julia/packages/Plots/hxZ0l/src/plot.jl:208",
      "  [9] plot(::Any, ::Vararg{Any, N} where N; kw::Any)",
      "    @ Plots ~/.julia/packages/Plots/hxZ0l/src/plot.jl:91",
      " [10] quiver(::Any, ::Vararg{Any, N} where N; kw::Any)",
      "    @ Plots ~/.julia/packages/RecipesBase/qpxEX/src/RecipesBase.jl:410",
      " [11] quiver(::Any, ::Vararg{Any, N} where N)",
      "    @ Plots ~/.julia/packages/RecipesBase/qpxEX/src/RecipesBase.jl:410",
      " [12] top-level scope",
      "    @ In[50]:82",
      " [13] eval",
      "    @ ./boot.jl:360 [inlined]",
      " [14] include_string(mapexpr::typeof(REPL.softscope), mod::Module, code::String, filename::String)",
      "    @ Base ./loading.jl:1116"
     ]
    }
   ],
   "source": [
    "#..set number of intervals (N)\n",
    "N = 50; \n",
    "#..compute derived numbers such as \n",
    "#..the points on the boundary (Nbnd) and the mesh width (h)\n",
    "Np1 = N+1; Nm1 = N-1; Np2 = Np1*Np1; Nm2 = Nm1*Nm1; Nbnd = 4*N; h = 1/N; h2=h*h; \n",
    "\n",
    "#..construct the 2D mesh (X) starting from the 1D mesh (x)  \n",
    "#..observe that we make in the 2D mesh the x coordinate increase from left to right and \n",
    "#..the y coordinate increase from top to bottom (as expected)\n",
    "x = Vector(0:h:1); \n",
    "y = Vector(0:h:1); \n",
    "X = repeat(reshape(x, 1, :), length(y), 1);\n",
    "Y = repeat(y, 1, length(x));\n",
    "xmid = x[1:end-1].+h/2; \n",
    "ymid = y[1:end-1].+h/2; \n",
    "\n",
    "#..construct the mesh indicator matrix IG \n",
    "#..this indicator matrix will allow to distinguish interior and boundary nodes \n",
    "#..in this indicator matrix the boundary nodes are easy to identify \n",
    "#..for interior nodes IG(i,j) = 0 and for the boundary nodes IG(i,j) = 1\n",
    "#..next construct the indicator vector IGvec by reshaping the indicator matrix IG  \n",
    "IG = ones(Np1,Np1); \n",
    "IG[2:end-1,2:end-1] = zeros(Nm1,Nm1); \n",
    "IGvec = reshape(IG,Np2,1); \n",
    "#..construct array with linear indices allowing to define interior and boundary nodes \n",
    "#..interior: index array with all indices of the interior nodes \n",
    "#..boundary: index array with indices of all the boundary nodes \n",
    "L = LinearIndices(IGvec); \n",
    "interior_cartesian = findall(x->x==0,IGvec);  interior = L[interior_cartesian]; \n",
    "boundary_cartesian = findall(x->x>0,IGvec); boundary = L[boundary_cartesian]; \n",
    "\n",
    "#..construct auxiliary vectors used in the 1D code as well \n",
    "e = ones(Np1);            #..same as in 1D.. \n",
    "e_bnd = ones(Nbnd); #..used to handle the boundary nodes \n",
    "\n",
    "#..Construct one-dimensional matrix\n",
    "A1 = Tridiagonal(-e[2:end], 2*e, -e[2:end]); \n",
    "I = Diagonal(e); \n",
    "I_bnd = Diagonal(e_bnd); \n",
    "\n",
    "#..construct the matrix enabling the computation of ux and uy  \n",
    "#..we use comprehension to construct the rectangular matrix B \n",
    "B = [i==j ? -1/h : i==j-1 ? 1/h : 0 for i = 1:N, j=1:Np1]\n",
    "\n",
    "#..Construct the 2D matrix using Kronecker products \n",
    "A = kron(A1,I) + kron(I,A1); \n",
    "Bx = kron(B,I);\n",
    "By = kron(I,B);\n",
    "\n",
    "#..Construct the right-hand side vector \n",
    "#..Define the source function \n",
    "#..Observe the use of double brackets to make f work on a tuple of coordinates (x,y)\n",
    "sourceterm(x,y) = (x.>=.35).*(x.<=.45).*(y.>=.45).*(y.<=.55) .- (x.>=.55).*(x.<=.65).*(y.>=.45).*(y.<=.55); \n",
    "#..Evaluate fsource on each node of the grid (Xh)\n",
    "#..Observe the use of the dot syntax to evaluate fsource in all mesh nodes in X \n",
    "F = sourceterm.(X,Y); \n",
    "#..Reshape the F 2D array into an f vector \n",
    "f = reshape(F,Np2); \n",
    "\n",
    "#..Handle the Dirichlet boundary conditions in the matrix and the right-hand side vector \n",
    "A[boundary,boundary] = I_bnd; A[boundary,interior] = zeros(Nbnd, Nm2); \n",
    "f[boundary] = zeros(Nbnd); \n",
    "\n",
    "#..solve the linear system for the finite difference approximation \n",
    "u = A \\ f; \n",
    "ux = Bx*u; \n",
    "uy = By*u; \n",
    "\n",
    "#..reshape the computed approximation \n",
    "#..observe the fact that Ux and Uy live on a coarser mesh \n",
    "U = reshape(u,Np1,Np1); \n",
    "Ux = reshape(ux,Np1,N); \n",
    "Uy = reshape(uy,N,Np1); \n",
    "\n",
    "#..plot the computed approximation as a contour plot \n",
    "#p1 = contour(x, y, U, xlabel=\"x\", ylabel=\"y\")\n",
    "\n",
    "p2 = heatmap(Ux, xlabel=\"x\", ylabel=\"y\")\n",
    "\n",
    "p3 = heatmap(Uy, xlabel=\"x\", ylabel=\"y\")\n",
    "\n",
    "p4 = quiver(Ux, Uy) \n",
    "\n",
    "plot(p1,p2,p3,p4,layout=(4,1))"
   ]
  },
  {
   "cell_type": "markdown",
   "metadata": {},
   "source": [
    "## Section 5/6: A Closer Look into Julia"
   ]
  },
  {
   "cell_type": "markdown",
   "metadata": {},
   "source": [
    "In both the second and third lab session, we saw the use of broadcast (with dot-syntax) to apply a function (the source function) to a set of points (the mesh). This notion extends in Julia by so-called iterable collections and the function map. More information is provided e.g. here https://docs.julialang.org/en/v1/base/collections/#Iterable-Collections .   "
   ]
  },
  {
   "cell_type": "markdown",
   "metadata": {},
   "source": [
    "## Section 6/6: References"
   ]
  },
  {
   "cell_type": "markdown",
   "metadata": {},
   "source": [
    "1. The finite difference method on wikipedia [wiki](https://en.wikipedia.org/wiki/Finite_difference_method). Especially Section 5 of this page is revelant here. \n",
    "2. The construction of the matrix $A$ using the sum of two Kronecker products is described on https://en.wikipedia.org/wiki/Kronecker_sum_of_discrete_Laplacians. "
   ]
  },
  {
   "cell_type": "markdown",
   "metadata": {},
   "source": [
    "## Sandbox"
   ]
  },
  {
   "cell_type": "markdown",
   "metadata": {},
   "source": [
    "### Eigenvalues and positive definiteness of matrices "
   ]
  },
  {
   "cell_type": "code",
   "execution_count": 6,
   "metadata": {},
   "outputs": [
    {
     "data": {
      "text/plain": [
       "false"
      ]
     },
     "execution_count": 6,
     "metadata": {},
     "output_type": "execute_result"
    }
   ],
   "source": [
    "# construct 5-by-5 example for A \n",
    "# and check whether A is positive definite \n",
    "A = [1 0 0 0 0; -1 2 -1 0 0; 0 -1 2 -1 0; 0 0 -1 2 -1; 0 0 0 0 1]\n",
    "isposdef(A)"
   ]
  },
  {
   "cell_type": "code",
   "execution_count": 7,
   "metadata": {},
   "outputs": [
    {
     "data": {
      "text/plain": [
       "5-element Vector{Float64}:\n",
       " 0.5857864376269047\n",
       " 1.0\n",
       " 1.0\n",
       " 1.9999999999999993\n",
       " 3.4142135623730914"
      ]
     },
     "execution_count": 7,
     "metadata": {},
     "output_type": "execute_result"
    }
   ],
   "source": [
    "eigvals(A)"
   ]
  },
  {
   "cell_type": "code",
   "execution_count": 8,
   "metadata": {},
   "outputs": [
    {
     "data": {
      "text/plain": [
       "true"
      ]
     },
     "execution_count": 8,
     "metadata": {},
     "output_type": "execute_result"
    }
   ],
   "source": [
    "Amod = [1 0 0 0 0; 0 2 -1 0 0; 0 -1 2 -1 0; 0 0 -1 2 0; 0 0 0 0 1]\n",
    "isposdef(Amod)"
   ]
  },
  {
   "cell_type": "code",
   "execution_count": 9,
   "metadata": {},
   "outputs": [
    {
     "data": {
      "text/plain": [
       "5-element Vector{Float64}:\n",
       " 0.5857864376269047\n",
       " 1.0\n",
       " 1.0\n",
       " 1.9999999999999993\n",
       " 3.4142135623730914"
      ]
     },
     "execution_count": 9,
     "metadata": {},
     "output_type": "execute_result"
    }
   ],
   "source": [
    "eigvals(A)"
   ]
  },
  {
   "cell_type": "markdown",
   "metadata": {},
   "source": [
    "### More on LinearIndices"
   ]
  },
  {
   "cell_type": "code",
   "execution_count": 10,
   "metadata": {},
   "outputs": [
    {
     "data": {
      "text/plain": [
       "2×2 LinearIndices{2, Tuple{Base.OneTo{Int64}, Base.OneTo{Int64}}}:\n",
       " 1  3\n",
       " 2  4"
      ]
     },
     "execution_count": 10,
     "metadata": {},
     "output_type": "execute_result"
    }
   ],
   "source": [
    "A = [10 20; 30 40]\n",
    "IG = LinearIndices(A)"
   ]
  },
  {
   "cell_type": "code",
   "execution_count": 3,
   "metadata": {},
   "outputs": [
    {
     "name": "stdout",
     "output_type": "stream",
     "text": [
      "search: \u001b[0m\u001b[1mL\u001b[22m\u001b[0m\u001b[1mi\u001b[22m\u001b[0m\u001b[1mn\u001b[22m\u001b[0m\u001b[1me\u001b[22m\u001b[0m\u001b[1ma\u001b[22m\u001b[0m\u001b[1mr\u001b[22m\u001b[0m\u001b[1mI\u001b[22m\u001b[0m\u001b[1mn\u001b[22m\u001b[0m\u001b[1md\u001b[22m\u001b[0m\u001b[1mi\u001b[22m\u001b[0m\u001b[1mc\u001b[22m\u001b[0m\u001b[1me\u001b[22m\u001b[0m\u001b[1ms\u001b[22m\n",
      "\n"
     ]
    },
    {
     "data": {
      "text/latex": [
       "\\begin{verbatim}\n",
       "LinearIndices(A::AbstractArray)\n",
       "\\end{verbatim}\n",
       "Return a \\texttt{LinearIndices} array with the same shape and \\href{@ref}{\\texttt{axes}} as \\texttt{A}, holding the linear index of each entry in \\texttt{A}. Indexing this array with cartesian indices allows mapping them to linear indices.\n",
       "\n",
       "For arrays with conventional indexing (indices start at 1), or any multidimensional array, linear indices range from 1 to \\texttt{length(A)}. However, for \\texttt{AbstractVector}s linear indices are \\texttt{axes(A, 1)}, and therefore do not start at 1 for vectors with unconventional indexing.\n",
       "\n",
       "Calling this function is the \"safe\" way to write algorithms that exploit linear indexing.\n",
       "\n",
       "\\section{Examples}\n",
       "\\begin{verbatim}\n",
       "julia> A = fill(1, (5,6,7));\n",
       "\n",
       "julia> b = LinearIndices(A);\n",
       "\n",
       "julia> extrema(b)\n",
       "(1, 210)\n",
       "\\end{verbatim}\n",
       "\\begin{verbatim}\n",
       "LinearIndices(inds::CartesianIndices) -> R\n",
       "LinearIndices(sz::Dims) -> R\n",
       "LinearIndices((istart:istop, jstart:jstop, ...)) -> R\n",
       "\\end{verbatim}\n",
       "Return a \\texttt{LinearIndices} array with the specified shape or \\href{@ref}{\\texttt{axes}}.\n",
       "\n",
       "\\section{Example}\n",
       "The main purpose of this constructor is intuitive conversion from cartesian to linear indexing:\n",
       "\n",
       "\\begin{verbatim}\n",
       "julia> linear = LinearIndices((1:3, 1:2))\n",
       "3×2 LinearIndices{2, Tuple{UnitRange{Int64}, UnitRange{Int64}}}:\n",
       " 1  4\n",
       " 2  5\n",
       " 3  6\n",
       "\n",
       "julia> linear[1,2]\n",
       "4\n",
       "\\end{verbatim}\n"
      ],
      "text/markdown": [
       "```\n",
       "LinearIndices(A::AbstractArray)\n",
       "```\n",
       "\n",
       "Return a `LinearIndices` array with the same shape and [`axes`](@ref) as `A`, holding the linear index of each entry in `A`. Indexing this array with cartesian indices allows mapping them to linear indices.\n",
       "\n",
       "For arrays with conventional indexing (indices start at 1), or any multidimensional array, linear indices range from 1 to `length(A)`. However, for `AbstractVector`s linear indices are `axes(A, 1)`, and therefore do not start at 1 for vectors with unconventional indexing.\n",
       "\n",
       "Calling this function is the \"safe\" way to write algorithms that exploit linear indexing.\n",
       "\n",
       "# Examples\n",
       "\n",
       "```jldoctest\n",
       "julia> A = fill(1, (5,6,7));\n",
       "\n",
       "julia> b = LinearIndices(A);\n",
       "\n",
       "julia> extrema(b)\n",
       "(1, 210)\n",
       "```\n",
       "\n",
       "```\n",
       "LinearIndices(inds::CartesianIndices) -> R\n",
       "LinearIndices(sz::Dims) -> R\n",
       "LinearIndices((istart:istop, jstart:jstop, ...)) -> R\n",
       "```\n",
       "\n",
       "Return a `LinearIndices` array with the specified shape or [`axes`](@ref).\n",
       "\n",
       "# Example\n",
       "\n",
       "The main purpose of this constructor is intuitive conversion from cartesian to linear indexing:\n",
       "\n",
       "```jldoctest\n",
       "julia> linear = LinearIndices((1:3, 1:2))\n",
       "3×2 LinearIndices{2, Tuple{UnitRange{Int64}, UnitRange{Int64}}}:\n",
       " 1  4\n",
       " 2  5\n",
       " 3  6\n",
       "\n",
       "julia> linear[1,2]\n",
       "4\n",
       "```\n"
      ],
      "text/plain": [
       "  \u001b[38;5;81mLinearIndices\u001b[0m(\u001b[0m\u001b[39mA\u001b[0m\u001b[38;5;81m::\u001b[0m\u001b[38;5;81mAbstractArray\u001b[0m\u001b[39m)\u001b[0m\u001b[39m\u001b[0m\n",
       "\n",
       "\n",
       "  Return a \u001b[36mLinearIndices\u001b[39m array with the same shape and \u001b[36maxes\u001b[39m as \u001b[36mA\u001b[39m, holding the\n",
       "  linear index of each entry in \u001b[36mA\u001b[39m. Indexing this array with cartesian indices\n",
       "  allows mapping them to linear indices.\n",
       "\n",
       "  For arrays with conventional indexing (indices start at 1), or any\n",
       "  multidimensional array, linear indices range from 1 to \u001b[36mlength(A)\u001b[39m. However,\n",
       "  for \u001b[36mAbstractVector\u001b[39ms linear indices are \u001b[36maxes(A, 1)\u001b[39m, and therefore do not\n",
       "  start at 1 for vectors with unconventional indexing.\n",
       "\n",
       "  Calling this function is the \"safe\" way to write algorithms that exploit\n",
       "  linear indexing.\n",
       "\n",
       "\u001b[1m  Examples\u001b[22m\n",
       "\u001b[1m  ≡≡≡≡≡≡≡≡≡≡\u001b[22m\n",
       "\n",
       "  \u001b[31;1mjulia> \u001b[0m\u001b[39mA\u001b[0m \u001b[0m\u001b[38;5;197m=\u001b[0m \u001b[0m\u001b[38;5;81mfill\u001b[0m(\u001b[0m\u001b[38;5;141m1\u001b[0m\u001b[39m,\u001b[0m \u001b[0m(\u001b[0m\u001b[38;5;141m5\u001b[0m\u001b[39m,\u001b[0m\u001b[38;5;141m6\u001b[0m\u001b[39m,\u001b[0m\u001b[38;5;141m7\u001b[0m\u001b[39m)\u001b[0m\u001b[39m)\u001b[0m\u001b[39m;\u001b[0m\n",
       "  \u001b[0m\u001b[39m\u001b[0m\n",
       "  \u001b[31;1mjulia> \u001b[0m\u001b[39mb\u001b[0m \u001b[0m\u001b[38;5;197m=\u001b[0m \u001b[0m\u001b[38;5;81mLinearIndices\u001b[0m(\u001b[0m\u001b[39mA\u001b[0m\u001b[39m)\u001b[0m\u001b[39m;\u001b[0m\n",
       "  \u001b[0m\u001b[39m\u001b[0m\n",
       "  \u001b[31;1mjulia> \u001b[0m\u001b[38;5;81mextrema\u001b[0m(\u001b[0m\u001b[39mb\u001b[0m\u001b[39m)\u001b[0m\n",
       "  \u001b[0m\u001b[39m\u001b[0m(1, 210)\n",
       "\n",
       "\n",
       "  \u001b[38;5;81mLinearIndices\u001b[0m(\u001b[0m\u001b[39minds\u001b[0m\u001b[38;5;81m::\u001b[0m\u001b[38;5;81mCartesianIndices\u001b[0m\u001b[39m)\u001b[0m \u001b[0m\u001b[38;5;197m->\u001b[0m \u001b[0m\u001b[39mR\u001b[0m\n",
       "  \u001b[0m\u001b[38;5;81mLinearIndices\u001b[0m(\u001b[0m\u001b[39msz\u001b[0m\u001b[38;5;81m::\u001b[0m\u001b[38;5;81mDims\u001b[0m\u001b[39m)\u001b[0m \u001b[0m\u001b[38;5;197m->\u001b[0m \u001b[0m\u001b[39mR\u001b[0m\n",
       "  \u001b[0m\u001b[38;5;81mLinearIndices\u001b[0m(\u001b[0m(\u001b[0m\u001b[39mistart\u001b[0m\u001b[38;5;197m:\u001b[0m\u001b[39mistop\u001b[0m\u001b[39m,\u001b[0m \u001b[0m\u001b[39mjstart\u001b[0m\u001b[38;5;197m:\u001b[0m\u001b[39mjstop\u001b[0m\u001b[39m,\u001b[0m \u001b[0m\u001b[38;5;197m...\u001b[0m\u001b[39m)\u001b[0m\u001b[39m)\u001b[0m \u001b[0m\u001b[38;5;197m->\u001b[0m \u001b[0m\u001b[39mR\u001b[0m\u001b[39m\u001b[0m\n",
       "\n",
       "\n",
       "  Return a \u001b[36mLinearIndices\u001b[39m array with the specified shape or \u001b[36maxes\u001b[39m.\n",
       "\n",
       "\u001b[1m  Example\u001b[22m\n",
       "\u001b[1m  ≡≡≡≡≡≡≡≡≡\u001b[22m\n",
       "\n",
       "  The main purpose of this constructor is intuitive conversion from cartesian\n",
       "  to linear indexing:\n",
       "\n",
       "  \u001b[31;1mjulia> \u001b[0m\u001b[39mlinear\u001b[0m \u001b[0m\u001b[38;5;197m=\u001b[0m \u001b[0m\u001b[38;5;81mLinearIndices\u001b[0m(\u001b[0m(\u001b[0m\u001b[38;5;141m1\u001b[0m\u001b[38;5;197m:\u001b[0m\u001b[38;5;141m3\u001b[0m\u001b[39m,\u001b[0m \u001b[0m\u001b[38;5;141m1\u001b[0m\u001b[38;5;197m:\u001b[0m\u001b[38;5;141m2\u001b[0m\u001b[39m)\u001b[0m\u001b[39m)\u001b[0m\n",
       "  \u001b[0m\u001b[39m\u001b[0m3×2 LinearIndices{2, Tuple{UnitRange{Int64}, UnitRange{Int64}}}:\n",
       "   1  4\n",
       "   2  5\n",
       "   3  6\n",
       "  \n",
       "  \u001b[31;1mjulia> \u001b[0m\u001b[39mlinear\u001b[0m\u001b[39m[\u001b[0m\u001b[38;5;141m1\u001b[0m\u001b[39m,\u001b[0m\u001b[38;5;141m2\u001b[0m\u001b[39m]\u001b[0m\n",
       "  \u001b[0m\u001b[39m\u001b[0m4\n"
      ]
     },
     "execution_count": 3,
     "metadata": {},
     "output_type": "execute_result"
    }
   ],
   "source": [
    "?LinearIndices"
   ]
  },
  {
   "cell_type": "code",
   "execution_count": null,
   "metadata": {},
   "outputs": [],
   "source": []
  },
  {
   "cell_type": "code",
   "execution_count": null,
   "metadata": {},
   "outputs": [],
   "source": []
  }
 ],
 "metadata": {
  "kernelspec": {
   "display_name": "Julia 1.8.1",
   "language": "julia",
   "name": "julia-1.8"
  },
  "language_info": {
   "file_extension": ".jl",
   "mimetype": "application/julia",
   "name": "julia",
   "version": "1.8.1"
  }
 },
 "nbformat": 4,
 "nbformat_minor": 2
}
