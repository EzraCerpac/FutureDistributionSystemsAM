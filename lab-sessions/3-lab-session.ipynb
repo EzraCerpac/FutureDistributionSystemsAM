{
 "cells": [
  {
   "cell_type": "markdown",
   "metadata": {},
   "source": [
    "# EE4375-2022: Third Lab Session: Finite Difference Method for the Poisson Equation on the Unit Square"
   ]
  },
  {
   "cell_type": "markdown",
   "metadata": {},
   "source": [
    "Solves the Poisson equation $- \\bigtriangleup u(x,y) = f(x,uy)$ on the unit square domain $\\Omega=(0,1)^2$ supplied with various boundary conditions and various source terms. The finite difference method on a uniform mesh is employed. "
   ]
  },
  {
   "cell_type": "markdown",
   "metadata": {},
   "source": [
    "## Import Packages"
   ]
  },
  {
   "cell_type": "code",
   "execution_count": 7,
   "metadata": {},
   "outputs": [],
   "source": [
    "using LinearAlgebra\n",
    "using SparseArrays\n",
    "using Plots\n",
    "using LaTeXStrings\n",
    "using BenchmarkTools "
   ]
  },
  {
   "cell_type": "markdown",
   "metadata": {},
   "source": [
    "## Section 1/6: (Compulsory) First Example: Two-Dimensional Finite Difference Code"
   ]
  },
  {
   "cell_type": "markdown",
   "metadata": {},
   "source": [
    "The example that follows has an analytical reference solution.   "
   ]
  },
  {
   "cell_type": "markdown",
   "metadata": {},
   "source": [
    "Exercises: \n",
    "1. Mesh indicator matrix IG: print the matrix IG for a small mesh; understand its meaning; plot the matrix IG in such a way that its meaning becomes clear; \n",
    "2. Right-hand side vector f: print its values for a small mesh before and after the use of the reshape command; understand the use of the broadcast (with dot-syntax) to construct the right-hand side vector;\n",
    "3. Kronecker product: for the construction of the matrices Axx and Ayy, the Kronecker product of matrices is used. This product is explained e.g. on https://en.wikipedia.org/wiki/Kronecker_product. Assume that $A = \\begin{pmatrix} 2 & -1 \\\\ -1 & 2\\end{pmatrix}$ and $B = \\begin{pmatrix} 1 & 0 \\\\ 0 & 1\\end{pmatrix}$. Compute $A \\otimes B$ and $B \\otimes A$  . Observe the size of the answer. Observe that $A \\otimes B \\neq B \\otimes A$; extend this example to higher dimensions;  \n",
    "4. Matrix Axx: print the matrix Axx for a small mesh; understand its meaning; construct an auxilary vector g that is linear in x by modifying the function sourceterm(); linear here means a polynomial of degree one in x; multiply Axx and g; observe and explain the result; \n",
    "5. Matrix Ayy: proceed as for Axx; assume the auxilary vector g to be linear in y; \n",
    "6. Computed solution u: compute and plot the finite difference solution u by solving the linear system; "
   ]
  },
  {
   "cell_type": "code",
   "execution_count": null,
   "metadata": {},
   "outputs": [],
   "source": []
  },
  {
   "cell_type": "code",
   "execution_count": 52,
   "metadata": {},
   "outputs": [
    {
     "name": "stdout",
     "output_type": "stream",
     "text": [
      "[1.0 1.0 1.0 1.0; 1.0 0.0 0.0 1.0; 1.0 0.0 0.0 1.0; 1.0 1.0 1.0 1.0][1; 2; 3; 4; 5; 6; 7; 8; 9; 10; 11; 12; 13; 14; 15; 16]"
     ]
    }
   ],
   "source": [
    "#..set number of intervals (N)\n",
    "N = 3; \n",
    "#..compute derived numbers such as \n",
    "#..the points on the boundary (Nbnd) and the mesh width (h)\n",
    "Np1 = N+1; Nm1 = N-1; Np2 = Np1*Np1; Nm2 = Nm1*Nm1; Nbnd = 4*N; h = 1/N; h2=h*h; \n",
    "\n",
    "#..construct the 2D mesh (X) starting from the 1D mesh (x)  \n",
    "#..observe that we make in the 2D mesh the x coordinate increase from left to right and \n",
    "#..the y coordinate increase from top to bottom (as expected)\n",
    "x = Vector(0:h:1); \n",
    "y = Vector(0:h:1); \n",
    "X = repeat(reshape(x, 1, :), length(y), 1);\n",
    "Y = repeat(y, 1, length(x));\n",
    "\n",
    "#..construct the mesh indicator matrix IG \n",
    "#..this indicator matrix will allow to distinguish interior and boundary nodes \n",
    "#..in this indicator matrix the boundary nodes are easy to identify \n",
    "#..for interior nodes IG(i,j) = 0 and for the boundary nodes IG(i,j) = 1\n",
    "#..next construct the indicator vector IGvec by reshaping the indicator matrix IG  \n",
    "IG = ones(Np1,Np1); \n",
    "IG[2:end-1,2:end-1] = zeros(Nm1,Nm1); \n",
    "IGvec = reshape(IG,Np2,1); \n",
    "#..construct array with linear indices allowing to define interior and boundary nodes \n",
    "#..interior: index array with all indices of the interior nodes \n",
    "#..boundary: index array with indices of all the boundary nodes \n",
    "L = LinearIndices(IGvec); \n",
    "interior_cartesian = findall(x->x==0,IGvec);  interior = L[interior_cartesian]; \n",
    "boundary_cartesian = findall(x->x>0,IGvec); boundary = L[boundary_cartesian]; \n",
    "\n",
    "#..construct auxiliary vectors used in the 1D code as well \n",
    "e = ones(Np1);            #..same as in 1D.. \n",
    "e_bnd = ones(Nbnd); #..used to handle the boundary nodes \n",
    "\n",
    "#..Construct one-dimensional matrix\n",
    "A1 = Tridiagonal(-e[2:end], 2*e, -e[2:end]); \n",
    "I = Diagonal(e); \n",
    "I_bnd = Diagonal(e_bnd); \n",
    "\n",
    "#..Construct the 2D matrix using Kronecker products \n",
    "Axx = kron(A1,I); \n",
    "Ayy = kron(I,A1); \n",
    "A = Axx+Ayy; \n",
    "\n",
    "#..Construct the right-hand side vector \n",
    "#..Define the source function \n",
    "#..Observe the use of double brackets to make f work on a tuple of coordinates (x,y)\n",
    "sourceterm(x,y) = - 2*x*(x-1) - 2*y*(y-1); \n",
    "#..Evaluate fsource on each node of the grid (Xh)\n",
    "#..Observe the use of the dot syntax to evaluate fsource in all mesh nodes in X \n",
    "F = sourceterm.(X,Y); \n",
    "#..Reshape the F 2D array into an f vector \n",
    "f = reshape(F,Np2); \n",
    "\n",
    "#..Handle the Dirichlet boundary conditions in the matrix and the right-hand side vector \n",
    "A[boundary,boundary] = I_bnd; A[boundary,interior] = zeros(Nbnd, Nm2); \n",
    "f[boundary] = zeros(Nbnd); \n",
    "\n",
    "#..solve the linear system for the finite difference approximation \n",
    "u = A \\ f; \n",
    "\n",
    "#..reshape the computed approximation \n",
    "U = reshape(u,Np1,Np1); \n",
    "\n",
    "#..plot the computed approximation as a contour plot \n",
    "contour(x, y, U, xlabel=\"x\", ylabel=\"y\")\n",
    "\n",
    "print(IG)\n",
    "print(L)"
   ]
  },
  {
   "cell_type": "code",
   "execution_count": 18,
   "metadata": {},
   "outputs": [
    {
     "data": {
      "text/plain": [
       "3×4 Matrix{Float64}:\n",
       " 1.0  1.0  1.0  1.0\n",
       " 1.0  0.0  0.0  1.0\n",
       " 1.0  1.0  1.0  1.0"
      ]
     },
     "metadata": {},
     "output_type": "display_data"
    },
    {
     "data": {
      "text/plain": [
       "12×1 Matrix{Float64}:\n",
       " 1.0\n",
       " 1.0\n",
       " 1.0\n",
       " 1.0\n",
       " 0.0\n",
       " 1.0\n",
       " 1.0\n",
       " 0.0\n",
       " 1.0\n",
       " 1.0\n",
       " 1.0\n",
       " 1.0"
      ]
     },
     "metadata": {},
     "output_type": "display_data"
    },
    {
     "data": {
      "text/plain": [
       "12×1 LinearIndices{2, Tuple{Base.OneTo{Int64}, Base.OneTo{Int64}}}:\n",
       "  1\n",
       "  2\n",
       "  3\n",
       "  4\n",
       "  5\n",
       "  6\n",
       "  7\n",
       "  8\n",
       "  9\n",
       " 10\n",
       " 11\n",
       " 12"
      ]
     },
     "metadata": {},
     "output_type": "display_data"
    },
    {
     "data": {
      "text/plain": [
       "2-element Vector{CartesianIndex{2}}:\n",
       " CartesianIndex(5, 1)\n",
       " CartesianIndex(8, 1)"
      ]
     },
     "metadata": {},
     "output_type": "display_data"
    },
    {
     "data": {
      "image/svg+xml": [
       "<?xml version=\"1.0\" encoding=\"utf-8\"?>\n",
       "<svg xmlns=\"http://www.w3.org/2000/svg\" xmlns:xlink=\"http://www.w3.org/1999/xlink\" width=\"600\" height=\"400\" viewBox=\"0 0 2400 1600\">\n",
       "<defs>\n",
       "  <clipPath id=\"clip520\">\n",
       "    <rect x=\"0\" y=\"0\" width=\"2400\" height=\"1600\"/>\n",
       "  </clipPath>\n",
       "</defs>\n",
       "<path clip-path=\"url(#clip520)\" d=\"\n",
       "M0 1600 L2400 1600 L2400 0 L0 0  Z\n",
       "  \" fill=\"#ffffff\" fill-rule=\"evenodd\" fill-opacity=\"1\"/>\n",
       "<defs>\n",
       "  <clipPath id=\"clip521\">\n",
       "    <rect x=\"480\" y=\"0\" width=\"1681\" height=\"1600\"/>\n",
       "  </clipPath>\n",
       "</defs>\n",
       "<path clip-path=\"url(#clip520)\" d=\"\n",
       "M828.871 686.448 L1468.08 686.448 L1468.08 47.2441 L828.871 47.2441  Z\n",
       "  \" fill=\"#ffffff\" fill-rule=\"evenodd\" fill-opacity=\"1\"/>\n",
       "<defs>\n",
       "  <clipPath id=\"clip522\">\n",
       "    <rect x=\"828\" y=\"47\" width=\"640\" height=\"640\"/>\n",
       "  </clipPath>\n",
       "</defs>\n",
       "<polyline clip-path=\"url(#clip520)\" style=\"stroke:#000000; stroke-linecap:butt; stroke-linejoin:round; stroke-width:4; stroke-opacity:1; fill:none\" points=\"\n",
       "  828.871,686.448 1468.08,686.448 \n",
       "  \"/>\n",
       "<polyline clip-path=\"url(#clip520)\" style=\"stroke:#000000; stroke-linecap:butt; stroke-linejoin:round; stroke-width:4; stroke-opacity:1; fill:none\" points=\"\n",
       "  929.192,686.448 929.192,667.55 \n",
       "  \"/>\n",
       "<polyline clip-path=\"url(#clip520)\" style=\"stroke:#000000; stroke-linecap:butt; stroke-linejoin:round; stroke-width:4; stroke-opacity:1; fill:none\" points=\"\n",
       "  1066.24,686.448 1066.24,667.55 \n",
       "  \"/>\n",
       "<polyline clip-path=\"url(#clip520)\" style=\"stroke:#000000; stroke-linecap:butt; stroke-linejoin:round; stroke-width:4; stroke-opacity:1; fill:none\" points=\"\n",
       "  1203.29,686.448 1203.29,667.55 \n",
       "  \"/>\n",
       "<polyline clip-path=\"url(#clip520)\" style=\"stroke:#000000; stroke-linecap:butt; stroke-linejoin:round; stroke-width:4; stroke-opacity:1; fill:none\" points=\"\n",
       "  1340.34,686.448 1340.34,667.55 \n",
       "  \"/>\n",
       "<path clip-path=\"url(#clip520)\" d=\"M900.929 744.913 L917.248 744.913 L917.248 748.848 L895.304 748.848 L895.304 744.913 Q897.966 742.158 902.549 737.528 Q907.155 732.876 908.336 731.533 Q910.581 729.01 911.461 727.274 Q912.364 725.515 912.364 723.825 Q912.364 721.07 910.419 719.334 Q908.498 717.598 905.396 717.598 Q903.197 717.598 900.743 718.362 Q898.313 719.126 895.535 720.677 L895.535 715.955 Q898.359 714.82 900.813 714.242 Q903.267 713.663 905.304 713.663 Q910.674 713.663 913.868 716.348 Q917.063 719.033 917.063 723.524 Q917.063 725.654 916.253 727.575 Q915.466 729.473 913.359 732.066 Q912.78 732.737 909.679 735.954 Q906.577 739.149 900.929 744.913 Z\" fill=\"#000000\" fill-rule=\"evenodd\" fill-opacity=\"1\" /><path clip-path=\"url(#clip520)\" d=\"M927.063 742.968 L931.947 742.968 L931.947 748.848 L927.063 748.848 L927.063 742.968 Z\" fill=\"#000000\" fill-rule=\"evenodd\" fill-opacity=\"1\" /><path clip-path=\"url(#clip520)\" d=\"M942.178 714.288 L960.535 714.288 L960.535 718.223 L946.461 718.223 L946.461 726.695 Q947.479 726.348 948.498 726.186 Q949.516 726.001 950.535 726.001 Q956.322 726.001 959.702 729.172 Q963.081 732.343 963.081 737.76 Q963.081 743.339 959.609 746.44 Q956.137 749.519 949.817 749.519 Q947.641 749.519 945.373 749.149 Q943.128 748.778 940.72 748.038 L940.72 743.339 Q942.803 744.473 945.026 745.028 Q947.248 745.584 949.725 745.584 Q953.729 745.584 956.067 743.478 Q958.405 741.371 958.405 737.76 Q958.405 734.149 956.067 732.042 Q953.729 729.936 949.725 729.936 Q947.85 729.936 945.975 730.353 Q944.123 730.769 942.178 731.649 L942.178 714.288 Z\" fill=\"#000000\" fill-rule=\"evenodd\" fill-opacity=\"1\" /><path clip-path=\"url(#clip520)\" d=\"M1033.41 714.288 L1051.76 714.288 L1051.76 718.223 L1037.69 718.223 L1037.69 726.695 Q1038.71 726.348 1039.73 726.186 Q1040.75 726.001 1041.76 726.001 Q1047.55 726.001 1050.93 729.172 Q1054.31 732.343 1054.31 737.76 Q1054.31 743.339 1050.84 746.44 Q1047.37 749.519 1041.05 749.519 Q1038.87 749.519 1036.6 749.149 Q1034.36 748.778 1031.95 748.038 L1031.95 743.339 Q1034.03 744.473 1036.25 745.028 Q1038.48 745.584 1040.95 745.584 Q1044.96 745.584 1047.3 743.478 Q1049.63 741.371 1049.63 737.76 Q1049.63 734.149 1047.3 732.042 Q1044.96 729.936 1040.95 729.936 Q1039.08 729.936 1037.2 730.353 Q1035.35 730.769 1033.41 731.649 L1033.41 714.288 Z\" fill=\"#000000\" fill-rule=\"evenodd\" fill-opacity=\"1\" /><path clip-path=\"url(#clip520)\" d=\"M1063.52 742.968 L1068.41 742.968 L1068.41 748.848 L1063.52 748.848 L1063.52 742.968 Z\" fill=\"#000000\" fill-rule=\"evenodd\" fill-opacity=\"1\" /><path clip-path=\"url(#clip520)\" d=\"M1088.59 717.367 Q1084.98 717.367 1083.15 720.931 Q1081.35 724.473 1081.35 731.603 Q1081.35 738.709 1083.15 742.274 Q1084.98 745.815 1088.59 745.815 Q1092.23 745.815 1094.03 742.274 Q1095.86 738.709 1095.86 731.603 Q1095.86 724.473 1094.03 720.931 Q1092.23 717.367 1088.59 717.367 M1088.59 713.663 Q1094.4 713.663 1097.46 718.269 Q1100.54 722.853 1100.54 731.603 Q1100.54 740.329 1097.46 744.936 Q1094.4 749.519 1088.59 749.519 Q1082.78 749.519 1079.7 744.936 Q1076.65 740.329 1076.65 731.603 Q1076.65 722.853 1079.7 718.269 Q1082.78 713.663 1088.59 713.663 Z\" fill=\"#000000\" fill-rule=\"evenodd\" fill-opacity=\"1\" /><path clip-path=\"url(#clip520)\" d=\"M1169.61 714.288 L1191.84 714.288 L1191.84 716.279 L1179.29 748.848 L1174.4 748.848 L1186.21 718.223 L1169.61 718.223 L1169.61 714.288 Z\" fill=\"#000000\" fill-rule=\"evenodd\" fill-opacity=\"1\" /><path clip-path=\"url(#clip520)\" d=\"M1200.96 742.968 L1205.84 742.968 L1205.84 748.848 L1200.96 748.848 L1200.96 742.968 Z\" fill=\"#000000\" fill-rule=\"evenodd\" fill-opacity=\"1\" /><path clip-path=\"url(#clip520)\" d=\"M1216.07 714.288 L1234.43 714.288 L1234.43 718.223 L1220.35 718.223 L1220.35 726.695 Q1221.37 726.348 1222.39 726.186 Q1223.41 726.001 1224.43 726.001 Q1230.21 726.001 1233.59 729.172 Q1236.97 732.343 1236.97 737.76 Q1236.97 743.339 1233.5 746.44 Q1230.03 749.519 1223.71 749.519 Q1221.53 749.519 1219.27 749.149 Q1217.02 748.778 1214.61 748.038 L1214.61 743.339 Q1216.7 744.473 1218.92 745.028 Q1221.14 745.584 1223.62 745.584 Q1227.62 745.584 1229.96 743.478 Q1232.3 741.371 1232.3 737.76 Q1232.3 734.149 1229.96 732.042 Q1227.62 729.936 1223.62 729.936 Q1221.74 729.936 1219.87 730.353 Q1218.02 730.769 1216.07 731.649 L1216.07 714.288 Z\" fill=\"#000000\" fill-rule=\"evenodd\" fill-opacity=\"1\" /><path clip-path=\"url(#clip520)\" d=\"M1292.42 744.913 L1300.05 744.913 L1300.05 718.547 L1291.74 720.214 L1291.74 715.955 L1300.01 714.288 L1304.68 714.288 L1304.68 744.913 L1312.32 744.913 L1312.32 748.848 L1292.42 748.848 L1292.42 744.913 Z\" fill=\"#000000\" fill-rule=\"evenodd\" fill-opacity=\"1\" /><path clip-path=\"url(#clip520)\" d=\"M1331.77 717.367 Q1328.16 717.367 1326.33 720.931 Q1324.52 724.473 1324.52 731.603 Q1324.52 738.709 1326.33 742.274 Q1328.16 745.815 1331.77 745.815 Q1335.4 745.815 1337.21 742.274 Q1339.04 738.709 1339.04 731.603 Q1339.04 724.473 1337.21 720.931 Q1335.4 717.367 1331.77 717.367 M1331.77 713.663 Q1337.58 713.663 1340.63 718.269 Q1343.71 722.853 1343.71 731.603 Q1343.71 740.329 1340.63 744.936 Q1337.58 749.519 1331.77 749.519 Q1325.96 749.519 1322.88 744.936 Q1319.82 740.329 1319.82 731.603 Q1319.82 722.853 1322.88 718.269 Q1325.96 713.663 1331.77 713.663 Z\" fill=\"#000000\" fill-rule=\"evenodd\" fill-opacity=\"1\" /><path clip-path=\"url(#clip520)\" d=\"M1351.93 742.968 L1356.81 742.968 L1356.81 748.848 L1351.93 748.848 L1351.93 742.968 Z\" fill=\"#000000\" fill-rule=\"evenodd\" fill-opacity=\"1\" /><path clip-path=\"url(#clip520)\" d=\"M1377 717.367 Q1373.39 717.367 1371.56 720.931 Q1369.75 724.473 1369.75 731.603 Q1369.75 738.709 1371.56 742.274 Q1373.39 745.815 1377 745.815 Q1380.63 745.815 1382.44 742.274 Q1384.27 738.709 1384.27 731.603 Q1384.27 724.473 1382.44 720.931 Q1380.63 717.367 1377 717.367 M1377 713.663 Q1382.81 713.663 1385.86 718.269 Q1388.94 722.853 1388.94 731.603 Q1388.94 740.329 1385.86 744.936 Q1382.81 749.519 1377 749.519 Q1371.19 749.519 1368.11 744.936 Q1365.05 740.329 1365.05 731.603 Q1365.05 722.853 1368.11 718.269 Q1371.19 713.663 1377 713.663 Z\" fill=\"#000000\" fill-rule=\"evenodd\" fill-opacity=\"1\" /><polyline clip-path=\"url(#clip520)\" style=\"stroke:#000000; stroke-linecap:butt; stroke-linejoin:round; stroke-width:4; stroke-opacity:1; fill:none\" points=\"\n",
       "  828.871,47.2441 828.871,686.448 \n",
       "  \"/>\n",
       "<polyline clip-path=\"url(#clip520)\" style=\"stroke:#000000; stroke-linecap:butt; stroke-linejoin:round; stroke-width:4; stroke-opacity:1; fill:none\" points=\"\n",
       "  828.871,147.565 834.442,147.565 \n",
       "  \"/>\n",
       "<polyline clip-path=\"url(#clip520)\" style=\"stroke:#000000; stroke-linecap:butt; stroke-linejoin:round; stroke-width:4; stroke-opacity:1; fill:none\" points=\"\n",
       "  828.871,284.616 834.442,284.616 \n",
       "  \"/>\n",
       "<polyline clip-path=\"url(#clip520)\" style=\"stroke:#000000; stroke-linecap:butt; stroke-linejoin:round; stroke-width:4; stroke-opacity:1; fill:none\" points=\"\n",
       "  828.871,421.666 834.442,421.666 \n",
       "  \"/>\n",
       "<polyline clip-path=\"url(#clip520)\" style=\"stroke:#000000; stroke-linecap:butt; stroke-linejoin:round; stroke-width:4; stroke-opacity:1; fill:none\" points=\"\n",
       "  828.871,558.717 834.442,558.717 \n",
       "  \"/>\n",
       "<path clip-path=\"url(#clip520)\" d=\"M730.719 160.91 L747.038 160.91 L747.038 164.845 L725.094 164.845 L725.094 160.91 Q727.756 158.155 732.339 153.526 Q736.946 148.873 738.126 147.53 Q740.372 145.007 741.251 143.271 Q742.154 141.512 742.154 139.822 Q742.154 137.067 740.21 135.331 Q738.288 133.595 735.187 133.595 Q732.987 133.595 730.534 134.359 Q728.103 135.123 725.325 136.674 L725.325 131.952 Q728.15 130.818 730.603 130.239 Q733.057 129.66 735.094 129.66 Q740.464 129.66 743.659 132.345 Q746.853 135.03 746.853 139.521 Q746.853 141.651 746.043 143.572 Q745.256 145.47 743.149 148.063 Q742.571 148.734 739.469 151.952 Q736.367 155.146 730.719 160.91 Z\" fill=\"#000000\" fill-rule=\"evenodd\" fill-opacity=\"1\" /><path clip-path=\"url(#clip520)\" d=\"M756.853 158.966 L761.737 158.966 L761.737 164.845 L756.853 164.845 L756.853 158.966 Z\" fill=\"#000000\" fill-rule=\"evenodd\" fill-opacity=\"1\" /><path clip-path=\"url(#clip520)\" d=\"M771.969 130.285 L790.325 130.285 L790.325 134.22 L776.251 134.22 L776.251 142.692 Q777.27 142.345 778.288 142.183 Q779.307 141.998 780.325 141.998 Q786.112 141.998 789.492 145.169 Q792.871 148.341 792.871 153.757 Q792.871 159.336 789.399 162.438 Q785.927 165.516 779.608 165.516 Q777.432 165.516 775.163 165.146 Q772.918 164.776 770.51 164.035 L770.51 159.336 Q772.594 160.47 774.816 161.026 Q777.038 161.581 779.515 161.581 Q783.52 161.581 785.858 159.475 Q788.196 157.368 788.196 153.757 Q788.196 150.146 785.858 148.04 Q783.52 145.933 779.515 145.933 Q777.64 145.933 775.765 146.35 Q773.913 146.766 771.969 147.646 L771.969 130.285 Z\" fill=\"#000000\" fill-rule=\"evenodd\" fill-opacity=\"1\" /><path clip-path=\"url(#clip520)\" d=\"M725.742 267.336 L744.099 267.336 L744.099 271.271 L730.025 271.271 L730.025 279.743 Q731.043 279.396 732.062 279.234 Q733.08 279.049 734.099 279.049 Q739.886 279.049 743.265 282.22 Q746.645 285.391 746.645 290.808 Q746.645 296.386 743.173 299.488 Q739.7 302.567 733.381 302.567 Q731.205 302.567 728.937 302.197 Q726.691 301.826 724.284 301.085 L724.284 296.386 Q726.367 297.521 728.589 298.076 Q730.812 298.632 733.288 298.632 Q737.293 298.632 739.631 296.525 Q741.969 294.419 741.969 290.808 Q741.969 287.197 739.631 285.09 Q737.293 282.984 733.288 282.984 Q731.413 282.984 729.538 283.4 Q727.687 283.817 725.742 284.697 L725.742 267.336 Z\" fill=\"#000000\" fill-rule=\"evenodd\" fill-opacity=\"1\" /><path clip-path=\"url(#clip520)\" d=\"M755.858 296.016 L760.742 296.016 L760.742 301.896 L755.858 301.896 L755.858 296.016 Z\" fill=\"#000000\" fill-rule=\"evenodd\" fill-opacity=\"1\" /><path clip-path=\"url(#clip520)\" d=\"M780.927 270.414 Q777.316 270.414 775.487 273.979 Q773.682 277.521 773.682 284.65 Q773.682 291.757 775.487 295.322 Q777.316 298.863 780.927 298.863 Q784.561 298.863 786.367 295.322 Q788.196 291.757 788.196 284.65 Q788.196 277.521 786.367 273.979 Q784.561 270.414 780.927 270.414 M780.927 266.711 Q786.737 266.711 789.793 271.317 Q792.871 275.9 792.871 284.65 Q792.871 293.377 789.793 297.984 Q786.737 302.567 780.927 302.567 Q775.117 302.567 772.038 297.984 Q768.983 293.377 768.983 284.65 Q768.983 275.9 772.038 271.317 Q775.117 266.711 780.927 266.711 Z\" fill=\"#000000\" fill-rule=\"evenodd\" fill-opacity=\"1\" /><path clip-path=\"url(#clip520)\" d=\"M725.511 404.386 L747.733 404.386 L747.733 406.377 L735.187 438.946 L730.302 438.946 L742.108 408.321 L725.511 408.321 L725.511 404.386 Z\" fill=\"#000000\" fill-rule=\"evenodd\" fill-opacity=\"1\" /><path clip-path=\"url(#clip520)\" d=\"M756.853 433.067 L761.737 433.067 L761.737 438.946 L756.853 438.946 L756.853 433.067 Z\" fill=\"#000000\" fill-rule=\"evenodd\" fill-opacity=\"1\" /><path clip-path=\"url(#clip520)\" d=\"M771.969 404.386 L790.325 404.386 L790.325 408.321 L776.251 408.321 L776.251 416.794 Q777.27 416.446 778.288 416.284 Q779.307 416.099 780.325 416.099 Q786.112 416.099 789.492 419.27 Q792.871 422.442 792.871 427.858 Q792.871 433.437 789.399 436.539 Q785.927 439.617 779.608 439.617 Q777.432 439.617 775.163 439.247 Q772.918 438.877 770.51 438.136 L770.51 433.437 Q772.594 434.571 774.816 435.127 Q777.038 435.682 779.515 435.682 Q783.52 435.682 785.858 433.576 Q788.196 431.469 788.196 427.858 Q788.196 424.247 785.858 422.141 Q783.52 420.034 779.515 420.034 Q777.64 420.034 775.765 420.451 Q773.913 420.868 771.969 421.747 L771.969 404.386 Z\" fill=\"#000000\" fill-rule=\"evenodd\" fill-opacity=\"1\" /><path clip-path=\"url(#clip520)\" d=\"M696.344 572.062 L703.983 572.062 L703.983 545.696 L695.673 547.363 L695.673 543.103 L703.937 541.437 L708.613 541.437 L708.613 572.062 L716.251 572.062 L716.251 575.997 L696.344 575.997 L696.344 572.062 Z\" fill=\"#000000\" fill-rule=\"evenodd\" fill-opacity=\"1\" /><path clip-path=\"url(#clip520)\" d=\"M735.696 544.515 Q732.085 544.515 730.256 548.08 Q728.45 551.622 728.45 558.751 Q728.45 565.858 730.256 569.423 Q732.085 572.964 735.696 572.964 Q739.33 572.964 741.136 569.423 Q742.964 565.858 742.964 558.751 Q742.964 551.622 741.136 548.08 Q739.33 544.515 735.696 544.515 M735.696 540.812 Q741.506 540.812 744.561 545.418 Q747.64 550.002 747.64 558.751 Q747.64 567.478 744.561 572.085 Q741.506 576.668 735.696 576.668 Q729.886 576.668 726.807 572.085 Q723.751 567.478 723.751 558.751 Q723.751 550.002 726.807 545.418 Q729.886 540.812 735.696 540.812 Z\" fill=\"#000000\" fill-rule=\"evenodd\" fill-opacity=\"1\" /><path clip-path=\"url(#clip520)\" d=\"M755.858 570.117 L760.742 570.117 L760.742 575.997 L755.858 575.997 L755.858 570.117 Z\" fill=\"#000000\" fill-rule=\"evenodd\" fill-opacity=\"1\" /><path clip-path=\"url(#clip520)\" d=\"M780.927 544.515 Q777.316 544.515 775.487 548.08 Q773.682 551.622 773.682 558.751 Q773.682 565.858 775.487 569.423 Q777.316 572.964 780.927 572.964 Q784.561 572.964 786.367 569.423 Q788.196 565.858 788.196 558.751 Q788.196 551.622 786.367 548.08 Q784.561 544.515 780.927 544.515 M780.927 540.812 Q786.737 540.812 789.793 545.418 Q792.871 550.002 792.871 558.751 Q792.871 567.478 789.793 572.085 Q786.737 576.668 780.927 576.668 Q775.117 576.668 772.038 572.085 Q768.983 567.478 768.983 558.751 Q768.983 550.002 772.038 545.418 Q775.117 540.812 780.927 540.812 Z\" fill=\"#000000\" fill-rule=\"evenodd\" fill-opacity=\"1\" /><circle clip-path=\"url(#clip522)\" cx=\"846.962\" cy=\"65.3348\" r=\"3\" fill=\"#fcfea4\" fill-rule=\"evenodd\" fill-opacity=\"1\" stroke=\"#000000\" stroke-opacity=\"1\" stroke-width=\"0\"/>\n",
       "<circle clip-path=\"url(#clip522)\" cx=\"846.962\" cy=\"229.795\" r=\"3\" fill=\"#000003\" fill-rule=\"evenodd\" fill-opacity=\"1\" stroke=\"#000000\" stroke-opacity=\"1\" stroke-width=\"0\"/>\n",
       "<circle clip-path=\"url(#clip522)\" cx=\"901.782\" cy=\"120.155\" r=\"3\" fill=\"#fcfea4\" fill-rule=\"evenodd\" fill-opacity=\"1\" stroke=\"#000000\" stroke-opacity=\"1\" stroke-width=\"0\"/>\n",
       "<circle clip-path=\"url(#clip522)\" cx=\"901.782\" cy=\"284.616\" r=\"3\" fill=\"#000003\" fill-rule=\"evenodd\" fill-opacity=\"1\" stroke=\"#000000\" stroke-opacity=\"1\" stroke-width=\"0\"/>\n",
       "<circle clip-path=\"url(#clip522)\" cx=\"956.603\" cy=\"174.975\" r=\"3\" fill=\"#fcfea4\" fill-rule=\"evenodd\" fill-opacity=\"1\" stroke=\"#000000\" stroke-opacity=\"1\" stroke-width=\"0\"/>\n",
       "<circle clip-path=\"url(#clip522)\" cx=\"956.603\" cy=\"339.436\" r=\"3\" fill=\"#000003\" fill-rule=\"evenodd\" fill-opacity=\"1\" stroke=\"#000000\" stroke-opacity=\"1\" stroke-width=\"0\"/>\n",
       "<circle clip-path=\"url(#clip522)\" cx=\"1011.42\" cy=\"65.3348\" r=\"3\" fill=\"#000003\" fill-rule=\"evenodd\" fill-opacity=\"1\" stroke=\"#000000\" stroke-opacity=\"1\" stroke-width=\"0\"/>\n",
       "<circle clip-path=\"url(#clip522)\" cx=\"1011.42\" cy=\"229.795\" r=\"3\" fill=\"#fcfea4\" fill-rule=\"evenodd\" fill-opacity=\"1\" stroke=\"#000000\" stroke-opacity=\"1\" stroke-width=\"0\"/>\n",
       "<circle clip-path=\"url(#clip522)\" cx=\"1011.42\" cy=\"394.256\" r=\"3\" fill=\"#000003\" fill-rule=\"evenodd\" fill-opacity=\"1\" stroke=\"#000000\" stroke-opacity=\"1\" stroke-width=\"0\"/>\n",
       "<circle clip-path=\"url(#clip522)\" cx=\"1066.24\" cy=\"120.155\" r=\"3\" fill=\"#000003\" fill-rule=\"evenodd\" fill-opacity=\"1\" stroke=\"#000000\" stroke-opacity=\"1\" stroke-width=\"0\"/>\n",
       "<circle clip-path=\"url(#clip522)\" cx=\"1066.24\" cy=\"284.616\" r=\"3\" fill=\"#fcfea4\" fill-rule=\"evenodd\" fill-opacity=\"1\" stroke=\"#000000\" stroke-opacity=\"1\" stroke-width=\"0\"/>\n",
       "<circle clip-path=\"url(#clip522)\" cx=\"1066.24\" cy=\"449.076\" r=\"3\" fill=\"#000003\" fill-rule=\"evenodd\" fill-opacity=\"1\" stroke=\"#000000\" stroke-opacity=\"1\" stroke-width=\"0\"/>\n",
       "<circle clip-path=\"url(#clip522)\" cx=\"1121.06\" cy=\"174.975\" r=\"3\" fill=\"#000003\" fill-rule=\"evenodd\" fill-opacity=\"1\" stroke=\"#000000\" stroke-opacity=\"1\" stroke-width=\"0\"/>\n",
       "<circle clip-path=\"url(#clip522)\" cx=\"1121.06\" cy=\"339.436\" r=\"3\" fill=\"#fcfea4\" fill-rule=\"evenodd\" fill-opacity=\"1\" stroke=\"#000000\" stroke-opacity=\"1\" stroke-width=\"0\"/>\n",
       "<circle clip-path=\"url(#clip522)\" cx=\"1121.06\" cy=\"503.897\" r=\"3\" fill=\"#000003\" fill-rule=\"evenodd\" fill-opacity=\"1\" stroke=\"#000000\" stroke-opacity=\"1\" stroke-width=\"0\"/>\n",
       "<circle clip-path=\"url(#clip522)\" cx=\"1175.88\" cy=\"229.795\" r=\"3\" fill=\"#000003\" fill-rule=\"evenodd\" fill-opacity=\"1\" stroke=\"#000000\" stroke-opacity=\"1\" stroke-width=\"0\"/>\n",
       "<circle clip-path=\"url(#clip522)\" cx=\"1175.88\" cy=\"394.256\" r=\"3\" fill=\"#fcfea4\" fill-rule=\"evenodd\" fill-opacity=\"1\" stroke=\"#000000\" stroke-opacity=\"1\" stroke-width=\"0\"/>\n",
       "<circle clip-path=\"url(#clip522)\" cx=\"1175.88\" cy=\"558.717\" r=\"3\" fill=\"#000003\" fill-rule=\"evenodd\" fill-opacity=\"1\" stroke=\"#000000\" stroke-opacity=\"1\" stroke-width=\"0\"/>\n",
       "<circle clip-path=\"url(#clip522)\" cx=\"1230.7\" cy=\"284.616\" r=\"3\" fill=\"#000003\" fill-rule=\"evenodd\" fill-opacity=\"1\" stroke=\"#000000\" stroke-opacity=\"1\" stroke-width=\"0\"/>\n",
       "<circle clip-path=\"url(#clip522)\" cx=\"1230.7\" cy=\"449.076\" r=\"3\" fill=\"#fcfea4\" fill-rule=\"evenodd\" fill-opacity=\"1\" stroke=\"#000000\" stroke-opacity=\"1\" stroke-width=\"0\"/>\n",
       "<circle clip-path=\"url(#clip522)\" cx=\"1230.7\" cy=\"613.537\" r=\"3\" fill=\"#000003\" fill-rule=\"evenodd\" fill-opacity=\"1\" stroke=\"#000000\" stroke-opacity=\"1\" stroke-width=\"0\"/>\n",
       "<circle clip-path=\"url(#clip522)\" cx=\"1285.52\" cy=\"339.436\" r=\"3\" fill=\"#000003\" fill-rule=\"evenodd\" fill-opacity=\"1\" stroke=\"#000000\" stroke-opacity=\"1\" stroke-width=\"0\"/>\n",
       "<circle clip-path=\"url(#clip522)\" cx=\"1285.52\" cy=\"503.897\" r=\"3\" fill=\"#fcfea4\" fill-rule=\"evenodd\" fill-opacity=\"1\" stroke=\"#000000\" stroke-opacity=\"1\" stroke-width=\"0\"/>\n",
       "<circle clip-path=\"url(#clip522)\" cx=\"1285.52\" cy=\"668.357\" r=\"3\" fill=\"#000003\" fill-rule=\"evenodd\" fill-opacity=\"1\" stroke=\"#000000\" stroke-opacity=\"1\" stroke-width=\"0\"/>\n",
       "<circle clip-path=\"url(#clip522)\" cx=\"1340.34\" cy=\"394.256\" r=\"3\" fill=\"#000003\" fill-rule=\"evenodd\" fill-opacity=\"1\" stroke=\"#000000\" stroke-opacity=\"1\" stroke-width=\"0\"/>\n",
       "<circle clip-path=\"url(#clip522)\" cx=\"1340.34\" cy=\"558.717\" r=\"3\" fill=\"#fcfea4\" fill-rule=\"evenodd\" fill-opacity=\"1\" stroke=\"#000000\" stroke-opacity=\"1\" stroke-width=\"0\"/>\n",
       "<circle clip-path=\"url(#clip522)\" cx=\"1395.16\" cy=\"449.076\" r=\"3\" fill=\"#000003\" fill-rule=\"evenodd\" fill-opacity=\"1\" stroke=\"#000000\" stroke-opacity=\"1\" stroke-width=\"0\"/>\n",
       "<circle clip-path=\"url(#clip522)\" cx=\"1395.16\" cy=\"613.537\" r=\"3\" fill=\"#fcfea4\" fill-rule=\"evenodd\" fill-opacity=\"1\" stroke=\"#000000\" stroke-opacity=\"1\" stroke-width=\"0\"/>\n",
       "<circle clip-path=\"url(#clip522)\" cx=\"1449.98\" cy=\"503.897\" r=\"3\" fill=\"#000003\" fill-rule=\"evenodd\" fill-opacity=\"1\" stroke=\"#000000\" stroke-opacity=\"1\" stroke-width=\"0\"/>\n",
       "<circle clip-path=\"url(#clip522)\" cx=\"1449.98\" cy=\"668.357\" r=\"3\" fill=\"#fcfea4\" fill-rule=\"evenodd\" fill-opacity=\"1\" stroke=\"#000000\" stroke-opacity=\"1\" stroke-width=\"0\"/>\n",
       "<defs>\n",
       "  <clipPath id=\"clip523\">\n",
       "    <rect x=\"1516\" y=\"47\" width=\"73\" height=\"640\"/>\n",
       "  </clipPath>\n",
       "</defs>\n",
       "<g clip-path=\"url(#clip523)\">\n",
       "<image width=\"72\" height=\"639\" xlink:href=\"data:image/png;base64,\n",
       "iVBORw0KGgoAAAANSUhEUgAAAEgAAAJ/CAYAAADbDZV7AAAGP0lEQVR4nO3dwbEjNwxAQcqF/KNw\n",
       "lvaSjsB4R+nQHYEK9YTh8GtrP//ev9/hf/317Q/w6wwozH3/fvsz/DQFhXnvz7c/w09TUDCgYEkH\n",
       "BYV5ClopKBhQmHd9xTYKCpZ0UFAwoOArFhQUPOaDgoIBhTmW9EpBwWM+KCgYUJjjHLRSUJhz//n2\n",
       "Z/hpCgoGFJykg4KCx3xQUDCg4CsWFBQ85oOCggGF+VjSKwWFOdfvpDcKCgYULOmgoGBJBwUFAwqu\n",
       "O4KCwnws6ZWCggEFN4pBQcGSDgoKBhS8rAYFBUs6KCgYULCkg4KCJR0UFAwozLn325/hpykoWNJB\n",
       "QcGAgpN0UFBQUFBQMKAwHyfplYKCJR0UFAwouO4ICgoe80FBwYCCc1BQUPCYDwoKBhR8xYKCgj8c\n",
       "BgUFAwqWdFBQUFBQUDCg4CsWFBQUFBQUDCjMeb5iGwUFSzooKBhQ8BULCgoKCgoKBhTm3Pftz/DT\n",
       "FBQs6aCgYEDBkg4KCpZ0UFAwoGBJBwWFOXb0SkHBgMKcZ0lvFBQs6aCgYEDBVywoKIyfB+0UFAwo\n",
       "WNJBQUFBQUHBgMKc+/n2Z/hpCgrznoI2CgoGFJyDgoKCx3xQUDCgMO+a0cZ0giUdFBQMKMzxsrpS\n",
       "UJhnSa8UFAwozHGSXplOsKSDgoIBBSfpoKDgwiyYTjCg4EYxKCg4SQcFBQMK854ZbUwneMwHBQUD\n",
       "Cs5BQUFhjsf8ynSCAQVLOigoKCgoKBhQ8IfDoKDgD4fBdIIBBf+oNygoOEkHBQUDCn4nHUwneMwH\n",
       "BQUDCs5BQUHBkg4KCgYU3CgG0wmWdFBQMKDgJB0UFCzpoKBgQME/RQgKCv45VDCdYEDBOSgoKHgX\n",
       "CwoKBhQs6aCgMFdBKwUFAwr+cBhMJ3jMBwUFAwq+YkFBwXVHUFAwoGBJBwUFBQUFBQMK/jYfTCfM\n",
       "dZJeKSgYUHAOCgoKCgoKCgYUfMWCgoJfdwQFBQMKlnRQUFBQUFAwoOBOOphOcCcdFBQMKDgHBQUF\n",
       "BQUFBQMKbhSDgoIlHRQUDCjMO75iGwUFj/mgoGBAwTkoKChY0kFBwYCCJR0UFCzpoKBgQMGSDgoK\n",
       "CgoKCgYU5rqTXikoWNJBQcG7WFBQMKAw7337I/w2BQVLOigoGFDw+6CgoGBJBwUFAwquO4KCgivX\n",
       "oKBgQMF1R1BQcJIOCgoGFJykg4KCk3RQUDCg4BwUFBS8iwUFBQMKzkFBQcG7WFBQMKAw99uf4Mcp\n",
       "KFjSQUHBgILrjqCg4DEfFBQMKDgHBQUFSzooKBhQsKSDgoJ3saCgYEBh/Gl+p6BgSQcFBQMKXlaD\n",
       "goJ3saCgYEDBkg4KCpZ0UFAwoDDXfcdKQcFjPigoGFBwDgoKCpZ0UFAwoOAf9QYFBf9mNSgoGFBw\n",
       "3REUFPw+KCgoGFDwA6qgoOBdLCgoGFBwoxgUFPxVIygoGFCwpIOCgguzoKBgQMGNYlBQsKSDgoIB\n",
       "BTeKQUHBrzuCgoIBBeegoKDgXSwoKBhQsKSDgoIlHRQUDChY0kFBQUFBQcGAgnNQUFCwpIOCggEF\n",
       "SzooKFjSQUHBgIJfdwQFBb+0DwoKBhScg4KCwrwjoY2CggEFSzooKHgXCwoKBhS8rAYFBY/5oKBg\n",
       "QMHLalBQsKSDgoIBBb/uCAoKc913rBQUDCi47ggKCvMs6ZWCggEFSzooKDhJBwUFAwquO4KCwlx/\n",
       "1VgpKBhQcA4KCgr+9BwUFAwouO4ICgpO0kFBwYCCc1BQUJh7POg3CgoGFJyDgoKCgoKCggEFJ+mg\n",
       "oOAkHRQUDCjM/VjSGwUFSzooKBhQmOcrtlJQsKSDgoIBhbkfX7GNgoIlHRQUDCg4SQcFBUs6KCgY\n",
       "UPAVCwoK3sWCgoIBhXnnz7c/w09TUPCYDwoKBhRcdwQFhbnPY36joGBAwZIOCgpzvYutFBQMKFjS\n",
       "QUHBkg4KCgYU5j1LeqOg4DEfFBQMKLhRDAoKlnRQUDCgMM+SXikoWNJBQcGAwlzXHSsFBT/iDAoK\n",
       "BhTcSQcFBSfpoKBgQMGSDgoKCgoKCgYUvKwGBQVLOigoGFCY42V1paBgSQcFBQMKbhSDgsIcS3ql\n",
       "oGBAwXVHUFDwLhYUFAwoOAcFBQX/S2ZQUDCg4BwUFBTmWNIrBYX/APIr6A39AlZDAAAAAElFTkSu\n",
       "QmCC\n",
       "\" transform=\"translate(1516, 47)\"/>\n",
       "</g>\n",
       "<path clip-path=\"url(#clip520)\" d=\"M1624.08 683.27 L1653.75 683.27 L1653.75 687.206 L1624.08 687.206 L1624.08 683.27 Z\" fill=\"#000000\" fill-rule=\"evenodd\" fill-opacity=\"1\" /><path clip-path=\"url(#clip520)\" d=\"M1664.65 696.164 L1672.29 696.164 L1672.29 669.798 L1663.98 671.465 L1663.98 667.206 L1672.25 665.539 L1676.92 665.539 L1676.92 696.164 L1684.56 696.164 L1684.56 700.099 L1664.65 700.099 L1664.65 696.164 Z\" fill=\"#000000\" fill-rule=\"evenodd\" fill-opacity=\"1\" /><path clip-path=\"url(#clip520)\" d=\"M1694.01 694.219 L1698.89 694.219 L1698.89 700.099 L1694.01 700.099 L1694.01 694.219 Z\" fill=\"#000000\" fill-rule=\"evenodd\" fill-opacity=\"1\" /><path clip-path=\"url(#clip520)\" d=\"M1719.07 668.618 Q1715.46 668.618 1713.63 672.183 Q1711.83 675.724 1711.83 682.854 Q1711.83 689.96 1713.63 693.525 Q1715.46 697.067 1719.07 697.067 Q1722.71 697.067 1724.51 693.525 Q1726.34 689.96 1726.34 682.854 Q1726.34 675.724 1724.51 672.183 Q1722.71 668.618 1719.07 668.618 M1719.07 664.914 Q1724.88 664.914 1727.94 669.521 Q1731.02 674.104 1731.02 682.854 Q1731.02 691.581 1727.94 696.187 Q1724.88 700.77 1719.07 700.77 Q1713.26 700.77 1710.19 696.187 Q1707.13 691.581 1707.13 682.854 Q1707.13 674.104 1710.19 669.521 Q1713.26 664.914 1719.07 664.914 Z\" fill=\"#000000\" fill-rule=\"evenodd\" fill-opacity=\"1\" /><path clip-path=\"url(#clip520)\" d=\"M1624.08 576.736 L1653.75 576.736 L1653.75 580.672 L1624.08 580.672 L1624.08 576.736 Z\" fill=\"#000000\" fill-rule=\"evenodd\" fill-opacity=\"1\" /><path clip-path=\"url(#clip520)\" d=\"M1673.84 562.084 Q1670.23 562.084 1668.4 565.649 Q1666.6 569.19 1666.6 576.32 Q1666.6 583.426 1668.4 586.991 Q1670.23 590.533 1673.84 590.533 Q1677.48 590.533 1679.28 586.991 Q1681.11 583.426 1681.11 576.32 Q1681.11 569.19 1679.28 565.649 Q1677.48 562.084 1673.84 562.084 M1673.84 558.38 Q1679.65 558.38 1682.71 562.987 Q1685.79 567.57 1685.79 576.32 Q1685.79 585.047 1682.71 589.653 Q1679.65 594.236 1673.84 594.236 Q1668.03 594.236 1664.95 589.653 Q1661.9 585.047 1661.9 576.32 Q1661.9 567.57 1664.95 562.987 Q1668.03 558.38 1673.84 558.38 Z\" fill=\"#000000\" fill-rule=\"evenodd\" fill-opacity=\"1\" /><path clip-path=\"url(#clip520)\" d=\"M1694.01 587.686 L1698.89 587.686 L1698.89 593.565 L1694.01 593.565 L1694.01 587.686 Z\" fill=\"#000000\" fill-rule=\"evenodd\" fill-opacity=\"1\" /><path clip-path=\"url(#clip520)\" d=\"M1709.12 559.005 L1727.48 559.005 L1727.48 562.94 L1713.4 562.94 L1713.4 571.412 Q1714.42 571.065 1715.44 570.903 Q1716.46 570.718 1717.48 570.718 Q1723.26 570.718 1726.64 573.889 Q1730.02 577.061 1730.02 582.477 Q1730.02 588.056 1726.55 591.158 Q1723.08 594.236 1716.76 594.236 Q1714.58 594.236 1712.32 593.866 Q1710.07 593.496 1707.66 592.755 L1707.66 588.056 Q1709.75 589.19 1711.97 589.746 Q1714.19 590.301 1716.67 590.301 Q1720.67 590.301 1723.01 588.195 Q1725.35 586.088 1725.35 582.477 Q1725.35 578.866 1723.01 576.76 Q1720.67 574.653 1716.67 574.653 Q1714.79 574.653 1712.92 575.07 Q1711.07 575.487 1709.12 576.366 L1709.12 559.005 Z\" fill=\"#000000\" fill-rule=\"evenodd\" fill-opacity=\"1\" /><path clip-path=\"url(#clip520)\" d=\"M1636.02 455.55 Q1632.41 455.55 1630.58 459.115 Q1628.77 462.656 1628.77 469.786 Q1628.77 476.892 1630.58 480.457 Q1632.41 483.999 1636.02 483.999 Q1639.65 483.999 1641.46 480.457 Q1643.29 476.892 1643.29 469.786 Q1643.29 462.656 1641.46 459.115 Q1639.65 455.55 1636.02 455.55 M1636.02 451.846 Q1641.83 451.846 1644.89 456.453 Q1647.96 461.036 1647.96 469.786 Q1647.96 478.513 1644.89 483.119 Q1641.83 487.702 1636.02 487.702 Q1630.21 487.702 1627.13 483.119 Q1624.08 478.513 1624.08 469.786 Q1624.08 461.036 1627.13 456.453 Q1630.21 451.846 1636.02 451.846 Z\" fill=\"#000000\" fill-rule=\"evenodd\" fill-opacity=\"1\" /><path clip-path=\"url(#clip520)\" d=\"M1636.02 349.016 Q1632.41 349.016 1630.58 352.581 Q1628.77 356.122 1628.77 363.252 Q1628.77 370.358 1630.58 373.923 Q1632.41 377.465 1636.02 377.465 Q1639.65 377.465 1641.46 373.923 Q1643.29 370.358 1643.29 363.252 Q1643.29 356.122 1641.46 352.581 Q1639.65 349.016 1636.02 349.016 M1636.02 345.312 Q1641.83 345.312 1644.89 349.919 Q1647.96 354.502 1647.96 363.252 Q1647.96 371.979 1644.89 376.585 Q1641.83 381.168 1636.02 381.168 Q1630.21 381.168 1627.13 376.585 Q1624.08 371.979 1624.08 363.252 Q1624.08 354.502 1627.13 349.919 Q1630.21 345.312 1636.02 345.312 Z\" fill=\"#000000\" fill-rule=\"evenodd\" fill-opacity=\"1\" /><path clip-path=\"url(#clip520)\" d=\"M1656.18 374.618 L1661.07 374.618 L1661.07 380.497 L1656.18 380.497 L1656.18 374.618 Z\" fill=\"#000000\" fill-rule=\"evenodd\" fill-opacity=\"1\" /><path clip-path=\"url(#clip520)\" d=\"M1671.3 345.937 L1689.65 345.937 L1689.65 349.872 L1675.58 349.872 L1675.58 358.345 Q1676.6 357.997 1677.62 357.835 Q1678.64 357.65 1679.65 357.65 Q1685.44 357.65 1688.82 360.821 Q1692.2 363.993 1692.2 369.409 Q1692.2 374.988 1688.73 378.09 Q1685.26 381.168 1678.94 381.168 Q1676.76 381.168 1674.49 380.798 Q1672.25 380.428 1669.84 379.687 L1669.84 374.988 Q1671.92 376.122 1674.14 376.678 Q1676.37 377.233 1678.84 377.233 Q1682.85 377.233 1685.19 375.127 Q1687.52 373.02 1687.52 369.409 Q1687.52 365.798 1685.19 363.692 Q1682.85 361.585 1678.84 361.585 Q1676.97 361.585 1675.09 362.002 Q1673.24 362.419 1671.3 363.298 L1671.3 345.937 Z\" fill=\"#000000\" fill-rule=\"evenodd\" fill-opacity=\"1\" /><path clip-path=\"url(#clip520)\" d=\"M1624.75 270.028 L1632.39 270.028 L1632.39 243.662 L1624.08 245.329 L1624.08 241.07 L1632.34 239.403 L1637.01 239.403 L1637.01 270.028 L1644.65 270.028 L1644.65 273.963 L1624.75 273.963 L1624.75 270.028 Z\" fill=\"#000000\" fill-rule=\"evenodd\" fill-opacity=\"1\" /><path clip-path=\"url(#clip520)\" d=\"M1654.1 268.084 L1658.98 268.084 L1658.98 273.963 L1654.1 273.963 L1654.1 268.084 Z\" fill=\"#000000\" fill-rule=\"evenodd\" fill-opacity=\"1\" /><path clip-path=\"url(#clip520)\" d=\"M1679.17 242.482 Q1675.56 242.482 1673.73 246.047 Q1671.92 249.588 1671.92 256.718 Q1671.92 263.824 1673.73 267.389 Q1675.56 270.931 1679.17 270.931 Q1682.8 270.931 1684.61 267.389 Q1686.44 263.824 1686.44 256.718 Q1686.44 249.588 1684.61 246.047 Q1682.8 242.482 1679.17 242.482 M1679.17 238.778 Q1684.98 238.778 1688.03 243.385 Q1691.11 247.968 1691.11 256.718 Q1691.11 265.445 1688.03 270.051 Q1684.98 274.635 1679.17 274.635 Q1673.36 274.635 1670.28 270.051 Q1667.22 265.445 1667.22 256.718 Q1667.22 247.968 1670.28 243.385 Q1673.36 238.778 1679.17 238.778 Z\" fill=\"#000000\" fill-rule=\"evenodd\" fill-opacity=\"1\" /><path clip-path=\"url(#clip520)\" d=\"M1624.75 163.494 L1632.39 163.494 L1632.39 137.128 L1624.08 138.795 L1624.08 134.536 L1632.34 132.869 L1637.01 132.869 L1637.01 163.494 L1644.65 163.494 L1644.65 167.429 L1624.75 167.429 L1624.75 163.494 Z\" fill=\"#000000\" fill-rule=\"evenodd\" fill-opacity=\"1\" /><path clip-path=\"url(#clip520)\" d=\"M1654.1 161.55 L1658.98 161.55 L1658.98 167.429 L1654.1 167.429 L1654.1 161.55 Z\" fill=\"#000000\" fill-rule=\"evenodd\" fill-opacity=\"1\" /><path clip-path=\"url(#clip520)\" d=\"M1669.21 132.869 L1687.57 132.869 L1687.57 136.804 L1673.5 136.804 L1673.5 145.277 Q1674.51 144.929 1675.53 144.767 Q1676.55 144.582 1677.57 144.582 Q1683.36 144.582 1686.74 147.753 Q1690.12 150.925 1690.12 156.341 Q1690.12 161.92 1686.64 165.022 Q1683.17 168.101 1676.85 168.101 Q1674.68 168.101 1672.41 167.73 Q1670.16 167.36 1667.76 166.619 L1667.76 161.92 Q1669.84 163.054 1672.06 163.61 Q1674.28 164.165 1676.76 164.165 Q1680.76 164.165 1683.1 162.059 Q1685.44 159.952 1685.44 156.341 Q1685.44 152.73 1683.1 150.624 Q1680.76 148.517 1676.76 148.517 Q1674.89 148.517 1673.01 148.934 Q1671.16 149.351 1669.21 150.23 L1669.21 132.869 Z\" fill=\"#000000\" fill-rule=\"evenodd\" fill-opacity=\"1\" /><path clip-path=\"url(#clip520)\" d=\"M1629.7 56.9601 L1646.02 56.9601 L1646.02 60.8953 L1624.08 60.8953 L1624.08 56.9601 Q1626.74 54.2055 1631.32 49.5759 Q1635.93 44.9232 1637.11 43.5806 Q1639.35 41.0574 1640.23 39.3213 Q1641.14 37.5621 1641.14 35.8723 Q1641.14 33.1177 1639.19 31.3816 Q1637.27 29.6455 1634.17 29.6455 Q1631.97 29.6455 1629.51 30.4093 Q1627.08 31.1732 1624.31 32.7241 L1624.31 28.002 Q1627.13 26.8677 1629.58 26.289 Q1632.04 25.7103 1634.08 25.7103 Q1639.45 25.7103 1642.64 28.3955 Q1645.83 31.0806 1645.83 35.5714 Q1645.83 37.701 1645.02 39.6223 Q1644.24 41.5204 1642.13 44.113 Q1641.55 44.7843 1638.45 48.0018 Q1635.35 51.1963 1629.7 56.9601 Z\" fill=\"#000000\" fill-rule=\"evenodd\" fill-opacity=\"1\" /><path clip-path=\"url(#clip520)\" d=\"M1655.83 55.0157 L1660.72 55.0157 L1660.72 60.8953 L1655.83 60.8953 L1655.83 55.0157 Z\" fill=\"#000000\" fill-rule=\"evenodd\" fill-opacity=\"1\" /><path clip-path=\"url(#clip520)\" d=\"M1680.9 29.414 Q1677.29 29.414 1675.46 32.9788 Q1673.66 36.5204 1673.66 43.65 Q1673.66 50.7565 1675.46 54.3213 Q1677.29 57.8629 1680.9 57.8629 Q1684.54 57.8629 1686.34 54.3213 Q1688.17 50.7565 1688.17 43.65 Q1688.17 36.5204 1686.34 32.9788 Q1684.54 29.414 1680.9 29.414 M1680.9 25.7103 Q1686.71 25.7103 1689.77 30.3168 Q1692.85 34.9001 1692.85 43.65 Q1692.85 52.3768 1689.77 56.9833 Q1686.71 61.5666 1680.9 61.5666 Q1675.09 61.5666 1672.01 56.9833 Q1668.96 52.3768 1668.96 43.65 Q1668.96 34.9001 1672.01 30.3168 Q1675.09 25.7103 1680.9 25.7103 Z\" fill=\"#000000\" fill-rule=\"evenodd\" fill-opacity=\"1\" /><polyline clip-path=\"url(#clip520)\" style=\"stroke:#000000; stroke-linecap:butt; stroke-linejoin:round; stroke-width:4; stroke-opacity:1; fill:none\" points=\"\n",
       "  1588.08,686.448 1588.08,686.448 1612.08,686.448 1588.08,686.448 1588.08,579.914 1612.08,579.914 1588.08,579.914 1588.08,473.38 1612.08,473.38 1588.08,473.38 \n",
       "  1588.08,366.846 1612.08,366.846 1588.08,366.846 1588.08,260.312 1612.08,260.312 1588.08,260.312 1588.08,153.778 1612.08,153.778 1588.08,153.778 1588.08,47.2441 \n",
       "  1612.08,47.2441 1588.08,47.2441 \n",
       "  \"/>\n",
       "<path clip-path=\"url(#clip520)\" d=\"\n",
       "M828.871 1486.45 L1468.08 1486.45 L1468.08 847.244 L828.871 847.244  Z\n",
       "  \" fill=\"#ffffff\" fill-rule=\"evenodd\" fill-opacity=\"1\"/>\n",
       "<defs>\n",
       "  <clipPath id=\"clip524\">\n",
       "    <rect x=\"828\" y=\"847\" width=\"640\" height=\"640\"/>\n",
       "  </clipPath>\n",
       "</defs>\n",
       "<polyline clip-path=\"url(#clip520)\" style=\"stroke:#000000; stroke-linecap:butt; stroke-linejoin:round; stroke-width:4; stroke-opacity:1; fill:none\" points=\"\n",
       "  828.871,1486.45 1468.08,1486.45 \n",
       "  \"/>\n",
       "<polyline clip-path=\"url(#clip520)\" style=\"stroke:#000000; stroke-linecap:butt; stroke-linejoin:round; stroke-width:4; stroke-opacity:1; fill:none\" points=\"\n",
       "  929.192,1486.45 929.192,1467.55 \n",
       "  \"/>\n",
       "<polyline clip-path=\"url(#clip520)\" style=\"stroke:#000000; stroke-linecap:butt; stroke-linejoin:round; stroke-width:4; stroke-opacity:1; fill:none\" points=\"\n",
       "  1066.24,1486.45 1066.24,1467.55 \n",
       "  \"/>\n",
       "<polyline clip-path=\"url(#clip520)\" style=\"stroke:#000000; stroke-linecap:butt; stroke-linejoin:round; stroke-width:4; stroke-opacity:1; fill:none\" points=\"\n",
       "  1203.29,1486.45 1203.29,1467.55 \n",
       "  \"/>\n",
       "<polyline clip-path=\"url(#clip520)\" style=\"stroke:#000000; stroke-linecap:butt; stroke-linejoin:round; stroke-width:4; stroke-opacity:1; fill:none\" points=\"\n",
       "  1340.34,1486.45 1340.34,1467.55 \n",
       "  \"/>\n",
       "<path clip-path=\"url(#clip520)\" d=\"M900.929 1544.91 L917.248 1544.91 L917.248 1548.85 L895.304 1548.85 L895.304 1544.91 Q897.966 1542.16 902.549 1537.53 Q907.155 1532.88 908.336 1531.53 Q910.581 1529.01 911.461 1527.27 Q912.364 1525.51 912.364 1523.82 Q912.364 1521.07 910.419 1519.33 Q908.498 1517.6 905.396 1517.6 Q903.197 1517.6 900.743 1518.36 Q898.313 1519.13 895.535 1520.68 L895.535 1515.95 Q898.359 1514.82 900.813 1514.24 Q903.267 1513.66 905.304 1513.66 Q910.674 1513.66 913.868 1516.35 Q917.063 1519.03 917.063 1523.52 Q917.063 1525.65 916.253 1527.57 Q915.466 1529.47 913.359 1532.07 Q912.78 1532.74 909.679 1535.95 Q906.577 1539.15 900.929 1544.91 Z\" fill=\"#000000\" fill-rule=\"evenodd\" fill-opacity=\"1\" /><path clip-path=\"url(#clip520)\" d=\"M927.063 1542.97 L931.947 1542.97 L931.947 1548.85 L927.063 1548.85 L927.063 1542.97 Z\" fill=\"#000000\" fill-rule=\"evenodd\" fill-opacity=\"1\" /><path clip-path=\"url(#clip520)\" d=\"M942.178 1514.29 L960.535 1514.29 L960.535 1518.22 L946.461 1518.22 L946.461 1526.7 Q947.479 1526.35 948.498 1526.19 Q949.516 1526 950.535 1526 Q956.322 1526 959.702 1529.17 Q963.081 1532.34 963.081 1537.76 Q963.081 1543.34 959.609 1546.44 Q956.137 1549.52 949.817 1549.52 Q947.641 1549.52 945.373 1549.15 Q943.128 1548.78 940.72 1548.04 L940.72 1543.34 Q942.803 1544.47 945.026 1545.03 Q947.248 1545.58 949.725 1545.58 Q953.729 1545.58 956.067 1543.48 Q958.405 1541.37 958.405 1537.76 Q958.405 1534.15 956.067 1532.04 Q953.729 1529.94 949.725 1529.94 Q947.85 1529.94 945.975 1530.35 Q944.123 1530.77 942.178 1531.65 L942.178 1514.29 Z\" fill=\"#000000\" fill-rule=\"evenodd\" fill-opacity=\"1\" /><path clip-path=\"url(#clip520)\" d=\"M1033.41 1514.29 L1051.76 1514.29 L1051.76 1518.22 L1037.69 1518.22 L1037.69 1526.7 Q1038.71 1526.35 1039.73 1526.19 Q1040.75 1526 1041.76 1526 Q1047.55 1526 1050.93 1529.17 Q1054.31 1532.34 1054.31 1537.76 Q1054.31 1543.34 1050.84 1546.44 Q1047.37 1549.52 1041.05 1549.52 Q1038.87 1549.52 1036.6 1549.15 Q1034.36 1548.78 1031.95 1548.04 L1031.95 1543.34 Q1034.03 1544.47 1036.25 1545.03 Q1038.48 1545.58 1040.95 1545.58 Q1044.96 1545.58 1047.3 1543.48 Q1049.63 1541.37 1049.63 1537.76 Q1049.63 1534.15 1047.3 1532.04 Q1044.96 1529.94 1040.95 1529.94 Q1039.08 1529.94 1037.2 1530.35 Q1035.35 1530.77 1033.41 1531.65 L1033.41 1514.29 Z\" fill=\"#000000\" fill-rule=\"evenodd\" fill-opacity=\"1\" /><path clip-path=\"url(#clip520)\" d=\"M1063.52 1542.97 L1068.41 1542.97 L1068.41 1548.85 L1063.52 1548.85 L1063.52 1542.97 Z\" fill=\"#000000\" fill-rule=\"evenodd\" fill-opacity=\"1\" /><path clip-path=\"url(#clip520)\" d=\"M1088.59 1517.37 Q1084.98 1517.37 1083.15 1520.93 Q1081.35 1524.47 1081.35 1531.6 Q1081.35 1538.71 1083.15 1542.27 Q1084.98 1545.82 1088.59 1545.82 Q1092.23 1545.82 1094.03 1542.27 Q1095.86 1538.71 1095.86 1531.6 Q1095.86 1524.47 1094.03 1520.93 Q1092.23 1517.37 1088.59 1517.37 M1088.59 1513.66 Q1094.4 1513.66 1097.46 1518.27 Q1100.54 1522.85 1100.54 1531.6 Q1100.54 1540.33 1097.46 1544.94 Q1094.4 1549.52 1088.59 1549.52 Q1082.78 1549.52 1079.7 1544.94 Q1076.65 1540.33 1076.65 1531.6 Q1076.65 1522.85 1079.7 1518.27 Q1082.78 1513.66 1088.59 1513.66 Z\" fill=\"#000000\" fill-rule=\"evenodd\" fill-opacity=\"1\" /><path clip-path=\"url(#clip520)\" d=\"M1169.61 1514.29 L1191.84 1514.29 L1191.84 1516.28 L1179.29 1548.85 L1174.4 1548.85 L1186.21 1518.22 L1169.61 1518.22 L1169.61 1514.29 Z\" fill=\"#000000\" fill-rule=\"evenodd\" fill-opacity=\"1\" /><path clip-path=\"url(#clip520)\" d=\"M1200.96 1542.97 L1205.84 1542.97 L1205.84 1548.85 L1200.96 1548.85 L1200.96 1542.97 Z\" fill=\"#000000\" fill-rule=\"evenodd\" fill-opacity=\"1\" /><path clip-path=\"url(#clip520)\" d=\"M1216.07 1514.29 L1234.43 1514.29 L1234.43 1518.22 L1220.35 1518.22 L1220.35 1526.7 Q1221.37 1526.35 1222.39 1526.19 Q1223.41 1526 1224.43 1526 Q1230.21 1526 1233.59 1529.17 Q1236.97 1532.34 1236.97 1537.76 Q1236.97 1543.34 1233.5 1546.44 Q1230.03 1549.52 1223.71 1549.52 Q1221.53 1549.52 1219.27 1549.15 Q1217.02 1548.78 1214.61 1548.04 L1214.61 1543.34 Q1216.7 1544.47 1218.92 1545.03 Q1221.14 1545.58 1223.62 1545.58 Q1227.62 1545.58 1229.96 1543.48 Q1232.3 1541.37 1232.3 1537.76 Q1232.3 1534.15 1229.96 1532.04 Q1227.62 1529.94 1223.62 1529.94 Q1221.74 1529.94 1219.87 1530.35 Q1218.02 1530.77 1216.07 1531.65 L1216.07 1514.29 Z\" fill=\"#000000\" fill-rule=\"evenodd\" fill-opacity=\"1\" /><path clip-path=\"url(#clip520)\" d=\"M1292.42 1544.91 L1300.05 1544.91 L1300.05 1518.55 L1291.74 1520.21 L1291.74 1515.95 L1300.01 1514.29 L1304.68 1514.29 L1304.68 1544.91 L1312.32 1544.91 L1312.32 1548.85 L1292.42 1548.85 L1292.42 1544.91 Z\" fill=\"#000000\" fill-rule=\"evenodd\" fill-opacity=\"1\" /><path clip-path=\"url(#clip520)\" d=\"M1331.77 1517.37 Q1328.16 1517.37 1326.33 1520.93 Q1324.52 1524.47 1324.52 1531.6 Q1324.52 1538.71 1326.33 1542.27 Q1328.16 1545.82 1331.77 1545.82 Q1335.4 1545.82 1337.21 1542.27 Q1339.04 1538.71 1339.04 1531.6 Q1339.04 1524.47 1337.21 1520.93 Q1335.4 1517.37 1331.77 1517.37 M1331.77 1513.66 Q1337.58 1513.66 1340.63 1518.27 Q1343.71 1522.85 1343.71 1531.6 Q1343.71 1540.33 1340.63 1544.94 Q1337.58 1549.52 1331.77 1549.52 Q1325.96 1549.52 1322.88 1544.94 Q1319.82 1540.33 1319.82 1531.6 Q1319.82 1522.85 1322.88 1518.27 Q1325.96 1513.66 1331.77 1513.66 Z\" fill=\"#000000\" fill-rule=\"evenodd\" fill-opacity=\"1\" /><path clip-path=\"url(#clip520)\" d=\"M1351.93 1542.97 L1356.81 1542.97 L1356.81 1548.85 L1351.93 1548.85 L1351.93 1542.97 Z\" fill=\"#000000\" fill-rule=\"evenodd\" fill-opacity=\"1\" /><path clip-path=\"url(#clip520)\" d=\"M1377 1517.37 Q1373.39 1517.37 1371.56 1520.93 Q1369.75 1524.47 1369.75 1531.6 Q1369.75 1538.71 1371.56 1542.27 Q1373.39 1545.82 1377 1545.82 Q1380.63 1545.82 1382.44 1542.27 Q1384.27 1538.71 1384.27 1531.6 Q1384.27 1524.47 1382.44 1520.93 Q1380.63 1517.37 1377 1517.37 M1377 1513.66 Q1382.81 1513.66 1385.86 1518.27 Q1388.94 1522.85 1388.94 1531.6 Q1388.94 1540.33 1385.86 1544.94 Q1382.81 1549.52 1377 1549.52 Q1371.19 1549.52 1368.11 1544.94 Q1365.05 1540.33 1365.05 1531.6 Q1365.05 1522.85 1368.11 1518.27 Q1371.19 1513.66 1377 1513.66 Z\" fill=\"#000000\" fill-rule=\"evenodd\" fill-opacity=\"1\" /><polyline clip-path=\"url(#clip520)\" style=\"stroke:#000000; stroke-linecap:butt; stroke-linejoin:round; stroke-width:4; stroke-opacity:1; fill:none\" points=\"\n",
       "  828.871,847.244 828.871,1486.45 \n",
       "  \"/>\n",
       "<polyline clip-path=\"url(#clip520)\" style=\"stroke:#000000; stroke-linecap:butt; stroke-linejoin:round; stroke-width:4; stroke-opacity:1; fill:none\" points=\"\n",
       "  828.871,947.565 834.442,947.565 \n",
       "  \"/>\n",
       "<polyline clip-path=\"url(#clip520)\" style=\"stroke:#000000; stroke-linecap:butt; stroke-linejoin:round; stroke-width:4; stroke-opacity:1; fill:none\" points=\"\n",
       "  828.871,1084.62 834.442,1084.62 \n",
       "  \"/>\n",
       "<polyline clip-path=\"url(#clip520)\" style=\"stroke:#000000; stroke-linecap:butt; stroke-linejoin:round; stroke-width:4; stroke-opacity:1; fill:none\" points=\"\n",
       "  828.871,1221.67 834.442,1221.67 \n",
       "  \"/>\n",
       "<polyline clip-path=\"url(#clip520)\" style=\"stroke:#000000; stroke-linecap:butt; stroke-linejoin:round; stroke-width:4; stroke-opacity:1; fill:none\" points=\"\n",
       "  828.871,1358.72 834.442,1358.72 \n",
       "  \"/>\n",
       "<path clip-path=\"url(#clip520)\" d=\"M730.719 960.91 L747.038 960.91 L747.038 964.845 L725.094 964.845 L725.094 960.91 Q727.756 958.155 732.339 953.526 Q736.946 948.873 738.126 947.53 Q740.372 945.007 741.251 943.271 Q742.154 941.512 742.154 939.822 Q742.154 937.067 740.21 935.331 Q738.288 933.595 735.187 933.595 Q732.987 933.595 730.534 934.359 Q728.103 935.123 725.325 936.674 L725.325 931.952 Q728.15 930.818 730.603 930.239 Q733.057 929.66 735.094 929.66 Q740.464 929.66 743.659 932.345 Q746.853 935.03 746.853 939.521 Q746.853 941.651 746.043 943.572 Q745.256 945.47 743.149 948.063 Q742.571 948.734 739.469 951.952 Q736.367 955.146 730.719 960.91 Z\" fill=\"#000000\" fill-rule=\"evenodd\" fill-opacity=\"1\" /><path clip-path=\"url(#clip520)\" d=\"M756.853 958.966 L761.737 958.966 L761.737 964.845 L756.853 964.845 L756.853 958.966 Z\" fill=\"#000000\" fill-rule=\"evenodd\" fill-opacity=\"1\" /><path clip-path=\"url(#clip520)\" d=\"M771.969 930.285 L790.325 930.285 L790.325 934.22 L776.251 934.22 L776.251 942.692 Q777.27 942.345 778.288 942.183 Q779.307 941.998 780.325 941.998 Q786.112 941.998 789.492 945.169 Q792.871 948.341 792.871 953.757 Q792.871 959.336 789.399 962.438 Q785.927 965.516 779.608 965.516 Q777.432 965.516 775.163 965.146 Q772.918 964.776 770.51 964.035 L770.51 959.336 Q772.594 960.47 774.816 961.026 Q777.038 961.581 779.515 961.581 Q783.52 961.581 785.858 959.475 Q788.196 957.368 788.196 953.757 Q788.196 950.146 785.858 948.04 Q783.52 945.933 779.515 945.933 Q777.64 945.933 775.765 946.35 Q773.913 946.766 771.969 947.646 L771.969 930.285 Z\" fill=\"#000000\" fill-rule=\"evenodd\" fill-opacity=\"1\" /><path clip-path=\"url(#clip520)\" d=\"M725.742 1067.34 L744.099 1067.34 L744.099 1071.27 L730.025 1071.27 L730.025 1079.74 Q731.043 1079.4 732.062 1079.23 Q733.08 1079.05 734.099 1079.05 Q739.886 1079.05 743.265 1082.22 Q746.645 1085.39 746.645 1090.81 Q746.645 1096.39 743.173 1099.49 Q739.7 1102.57 733.381 1102.57 Q731.205 1102.57 728.937 1102.2 Q726.691 1101.83 724.284 1101.09 L724.284 1096.39 Q726.367 1097.52 728.589 1098.08 Q730.812 1098.63 733.288 1098.63 Q737.293 1098.63 739.631 1096.53 Q741.969 1094.42 741.969 1090.81 Q741.969 1087.2 739.631 1085.09 Q737.293 1082.98 733.288 1082.98 Q731.413 1082.98 729.538 1083.4 Q727.687 1083.82 725.742 1084.7 L725.742 1067.34 Z\" fill=\"#000000\" fill-rule=\"evenodd\" fill-opacity=\"1\" /><path clip-path=\"url(#clip520)\" d=\"M755.858 1096.02 L760.742 1096.02 L760.742 1101.9 L755.858 1101.9 L755.858 1096.02 Z\" fill=\"#000000\" fill-rule=\"evenodd\" fill-opacity=\"1\" /><path clip-path=\"url(#clip520)\" d=\"M780.927 1070.41 Q777.316 1070.41 775.487 1073.98 Q773.682 1077.52 773.682 1084.65 Q773.682 1091.76 775.487 1095.32 Q777.316 1098.86 780.927 1098.86 Q784.561 1098.86 786.367 1095.32 Q788.196 1091.76 788.196 1084.65 Q788.196 1077.52 786.367 1073.98 Q784.561 1070.41 780.927 1070.41 M780.927 1066.71 Q786.737 1066.71 789.793 1071.32 Q792.871 1075.9 792.871 1084.65 Q792.871 1093.38 789.793 1097.98 Q786.737 1102.57 780.927 1102.57 Q775.117 1102.57 772.038 1097.98 Q768.983 1093.38 768.983 1084.65 Q768.983 1075.9 772.038 1071.32 Q775.117 1066.71 780.927 1066.71 Z\" fill=\"#000000\" fill-rule=\"evenodd\" fill-opacity=\"1\" /><path clip-path=\"url(#clip520)\" d=\"M725.511 1204.39 L747.733 1204.39 L747.733 1206.38 L735.187 1238.95 L730.302 1238.95 L742.108 1208.32 L725.511 1208.32 L725.511 1204.39 Z\" fill=\"#000000\" fill-rule=\"evenodd\" fill-opacity=\"1\" /><path clip-path=\"url(#clip520)\" d=\"M756.853 1233.07 L761.737 1233.07 L761.737 1238.95 L756.853 1238.95 L756.853 1233.07 Z\" fill=\"#000000\" fill-rule=\"evenodd\" fill-opacity=\"1\" /><path clip-path=\"url(#clip520)\" d=\"M771.969 1204.39 L790.325 1204.39 L790.325 1208.32 L776.251 1208.32 L776.251 1216.79 Q777.27 1216.45 778.288 1216.28 Q779.307 1216.1 780.325 1216.1 Q786.112 1216.1 789.492 1219.27 Q792.871 1222.44 792.871 1227.86 Q792.871 1233.44 789.399 1236.54 Q785.927 1239.62 779.608 1239.62 Q777.432 1239.62 775.163 1239.25 Q772.918 1238.88 770.51 1238.14 L770.51 1233.44 Q772.594 1234.57 774.816 1235.13 Q777.038 1235.68 779.515 1235.68 Q783.52 1235.68 785.858 1233.58 Q788.196 1231.47 788.196 1227.86 Q788.196 1224.25 785.858 1222.14 Q783.52 1220.03 779.515 1220.03 Q777.64 1220.03 775.765 1220.45 Q773.913 1220.87 771.969 1221.75 L771.969 1204.39 Z\" fill=\"#000000\" fill-rule=\"evenodd\" fill-opacity=\"1\" /><path clip-path=\"url(#clip520)\" d=\"M696.344 1372.06 L703.983 1372.06 L703.983 1345.7 L695.673 1347.36 L695.673 1343.1 L703.937 1341.44 L708.613 1341.44 L708.613 1372.06 L716.251 1372.06 L716.251 1376 L696.344 1376 L696.344 1372.06 Z\" fill=\"#000000\" fill-rule=\"evenodd\" fill-opacity=\"1\" /><path clip-path=\"url(#clip520)\" d=\"M735.696 1344.52 Q732.085 1344.52 730.256 1348.08 Q728.45 1351.62 728.45 1358.75 Q728.45 1365.86 730.256 1369.42 Q732.085 1372.96 735.696 1372.96 Q739.33 1372.96 741.136 1369.42 Q742.964 1365.86 742.964 1358.75 Q742.964 1351.62 741.136 1348.08 Q739.33 1344.52 735.696 1344.52 M735.696 1340.81 Q741.506 1340.81 744.561 1345.42 Q747.64 1350 747.64 1358.75 Q747.64 1367.48 744.561 1372.08 Q741.506 1376.67 735.696 1376.67 Q729.886 1376.67 726.807 1372.08 Q723.751 1367.48 723.751 1358.75 Q723.751 1350 726.807 1345.42 Q729.886 1340.81 735.696 1340.81 Z\" fill=\"#000000\" fill-rule=\"evenodd\" fill-opacity=\"1\" /><path clip-path=\"url(#clip520)\" d=\"M755.858 1370.12 L760.742 1370.12 L760.742 1376 L755.858 1376 L755.858 1370.12 Z\" fill=\"#000000\" fill-rule=\"evenodd\" fill-opacity=\"1\" /><path clip-path=\"url(#clip520)\" d=\"M780.927 1344.52 Q777.316 1344.52 775.487 1348.08 Q773.682 1351.62 773.682 1358.75 Q773.682 1365.86 775.487 1369.42 Q777.316 1372.96 780.927 1372.96 Q784.561 1372.96 786.367 1369.42 Q788.196 1365.86 788.196 1358.75 Q788.196 1351.62 786.367 1348.08 Q784.561 1344.52 780.927 1344.52 M780.927 1340.81 Q786.737 1340.81 789.793 1345.42 Q792.871 1350 792.871 1358.75 Q792.871 1367.48 789.793 1372.08 Q786.737 1376.67 780.927 1376.67 Q775.117 1376.67 772.038 1372.08 Q768.983 1367.48 768.983 1358.75 Q768.983 1350 772.038 1345.42 Q775.117 1340.81 780.927 1340.81 Z\" fill=\"#000000\" fill-rule=\"evenodd\" fill-opacity=\"1\" /><circle clip-path=\"url(#clip524)\" cx=\"846.962\" cy=\"865.335\" r=\"3\" fill=\"#fcfea4\" fill-rule=\"evenodd\" fill-opacity=\"1\" stroke=\"#000000\" stroke-opacity=\"1\" stroke-width=\"0\"/>\n",
       "<circle clip-path=\"url(#clip524)\" cx=\"846.962\" cy=\"920.155\" r=\"3\" fill=\"#000003\" fill-rule=\"evenodd\" fill-opacity=\"1\" stroke=\"#000000\" stroke-opacity=\"1\" stroke-width=\"0\"/>\n",
       "<circle clip-path=\"url(#clip524)\" cx=\"901.782\" cy=\"865.335\" r=\"3\" fill=\"#000003\" fill-rule=\"evenodd\" fill-opacity=\"1\" stroke=\"#000000\" stroke-opacity=\"1\" stroke-width=\"0\"/>\n",
       "<circle clip-path=\"url(#clip524)\" cx=\"901.782\" cy=\"920.155\" r=\"3\" fill=\"#fcfea4\" fill-rule=\"evenodd\" fill-opacity=\"1\" stroke=\"#000000\" stroke-opacity=\"1\" stroke-width=\"0\"/>\n",
       "<circle clip-path=\"url(#clip524)\" cx=\"901.782\" cy=\"974.975\" r=\"3\" fill=\"#000003\" fill-rule=\"evenodd\" fill-opacity=\"1\" stroke=\"#000000\" stroke-opacity=\"1\" stroke-width=\"0\"/>\n",
       "<circle clip-path=\"url(#clip524)\" cx=\"956.603\" cy=\"920.155\" r=\"3\" fill=\"#000003\" fill-rule=\"evenodd\" fill-opacity=\"1\" stroke=\"#000000\" stroke-opacity=\"1\" stroke-width=\"0\"/>\n",
       "<circle clip-path=\"url(#clip524)\" cx=\"956.603\" cy=\"974.975\" r=\"3\" fill=\"#fcfea4\" fill-rule=\"evenodd\" fill-opacity=\"1\" stroke=\"#000000\" stroke-opacity=\"1\" stroke-width=\"0\"/>\n",
       "<circle clip-path=\"url(#clip524)\" cx=\"1011.42\" cy=\"1029.8\" r=\"3\" fill=\"#fcfea4\" fill-rule=\"evenodd\" fill-opacity=\"1\" stroke=\"#000000\" stroke-opacity=\"1\" stroke-width=\"0\"/>\n",
       "<circle clip-path=\"url(#clip524)\" cx=\"1011.42\" cy=\"1084.62\" r=\"3\" fill=\"#000003\" fill-rule=\"evenodd\" fill-opacity=\"1\" stroke=\"#000000\" stroke-opacity=\"1\" stroke-width=\"0\"/>\n",
       "<circle clip-path=\"url(#clip524)\" cx=\"1066.24\" cy=\"1029.8\" r=\"3\" fill=\"#000003\" fill-rule=\"evenodd\" fill-opacity=\"1\" stroke=\"#000000\" stroke-opacity=\"1\" stroke-width=\"0\"/>\n",
       "<circle clip-path=\"url(#clip524)\" cx=\"1066.24\" cy=\"1084.62\" r=\"3\" fill=\"#fcfea4\" fill-rule=\"evenodd\" fill-opacity=\"1\" stroke=\"#000000\" stroke-opacity=\"1\" stroke-width=\"0\"/>\n",
       "<circle clip-path=\"url(#clip524)\" cx=\"1066.24\" cy=\"1139.44\" r=\"3\" fill=\"#000003\" fill-rule=\"evenodd\" fill-opacity=\"1\" stroke=\"#000000\" stroke-opacity=\"1\" stroke-width=\"0\"/>\n",
       "<circle clip-path=\"url(#clip524)\" cx=\"1121.06\" cy=\"1084.62\" r=\"3\" fill=\"#000003\" fill-rule=\"evenodd\" fill-opacity=\"1\" stroke=\"#000000\" stroke-opacity=\"1\" stroke-width=\"0\"/>\n",
       "<circle clip-path=\"url(#clip524)\" cx=\"1121.06\" cy=\"1139.44\" r=\"3\" fill=\"#fcfea4\" fill-rule=\"evenodd\" fill-opacity=\"1\" stroke=\"#000000\" stroke-opacity=\"1\" stroke-width=\"0\"/>\n",
       "<circle clip-path=\"url(#clip524)\" cx=\"1175.88\" cy=\"1194.26\" r=\"3\" fill=\"#fcfea4\" fill-rule=\"evenodd\" fill-opacity=\"1\" stroke=\"#000000\" stroke-opacity=\"1\" stroke-width=\"0\"/>\n",
       "<circle clip-path=\"url(#clip524)\" cx=\"1175.88\" cy=\"1249.08\" r=\"3\" fill=\"#000003\" fill-rule=\"evenodd\" fill-opacity=\"1\" stroke=\"#000000\" stroke-opacity=\"1\" stroke-width=\"0\"/>\n",
       "<circle clip-path=\"url(#clip524)\" cx=\"1230.7\" cy=\"1194.26\" r=\"3\" fill=\"#000003\" fill-rule=\"evenodd\" fill-opacity=\"1\" stroke=\"#000000\" stroke-opacity=\"1\" stroke-width=\"0\"/>\n",
       "<circle clip-path=\"url(#clip524)\" cx=\"1230.7\" cy=\"1249.08\" r=\"3\" fill=\"#fcfea4\" fill-rule=\"evenodd\" fill-opacity=\"1\" stroke=\"#000000\" stroke-opacity=\"1\" stroke-width=\"0\"/>\n",
       "<circle clip-path=\"url(#clip524)\" cx=\"1230.7\" cy=\"1303.9\" r=\"3\" fill=\"#000003\" fill-rule=\"evenodd\" fill-opacity=\"1\" stroke=\"#000000\" stroke-opacity=\"1\" stroke-width=\"0\"/>\n",
       "<circle clip-path=\"url(#clip524)\" cx=\"1285.52\" cy=\"1249.08\" r=\"3\" fill=\"#000003\" fill-rule=\"evenodd\" fill-opacity=\"1\" stroke=\"#000000\" stroke-opacity=\"1\" stroke-width=\"0\"/>\n",
       "<circle clip-path=\"url(#clip524)\" cx=\"1285.52\" cy=\"1303.9\" r=\"3\" fill=\"#fcfea4\" fill-rule=\"evenodd\" fill-opacity=\"1\" stroke=\"#000000\" stroke-opacity=\"1\" stroke-width=\"0\"/>\n",
       "<circle clip-path=\"url(#clip524)\" cx=\"1340.34\" cy=\"1358.72\" r=\"3\" fill=\"#fcfea4\" fill-rule=\"evenodd\" fill-opacity=\"1\" stroke=\"#000000\" stroke-opacity=\"1\" stroke-width=\"0\"/>\n",
       "<circle clip-path=\"url(#clip524)\" cx=\"1340.34\" cy=\"1413.54\" r=\"3\" fill=\"#000003\" fill-rule=\"evenodd\" fill-opacity=\"1\" stroke=\"#000000\" stroke-opacity=\"1\" stroke-width=\"0\"/>\n",
       "<circle clip-path=\"url(#clip524)\" cx=\"1395.16\" cy=\"1358.72\" r=\"3\" fill=\"#000003\" fill-rule=\"evenodd\" fill-opacity=\"1\" stroke=\"#000000\" stroke-opacity=\"1\" stroke-width=\"0\"/>\n",
       "<circle clip-path=\"url(#clip524)\" cx=\"1395.16\" cy=\"1413.54\" r=\"3\" fill=\"#fcfea4\" fill-rule=\"evenodd\" fill-opacity=\"1\" stroke=\"#000000\" stroke-opacity=\"1\" stroke-width=\"0\"/>\n",
       "<circle clip-path=\"url(#clip524)\" cx=\"1395.16\" cy=\"1468.36\" r=\"3\" fill=\"#000003\" fill-rule=\"evenodd\" fill-opacity=\"1\" stroke=\"#000000\" stroke-opacity=\"1\" stroke-width=\"0\"/>\n",
       "<circle clip-path=\"url(#clip524)\" cx=\"1449.98\" cy=\"1413.54\" r=\"3\" fill=\"#000003\" fill-rule=\"evenodd\" fill-opacity=\"1\" stroke=\"#000000\" stroke-opacity=\"1\" stroke-width=\"0\"/>\n",
       "<circle clip-path=\"url(#clip524)\" cx=\"1449.98\" cy=\"1468.36\" r=\"3\" fill=\"#fcfea4\" fill-rule=\"evenodd\" fill-opacity=\"1\" stroke=\"#000000\" stroke-opacity=\"1\" stroke-width=\"0\"/>\n",
       "<defs>\n",
       "  <clipPath id=\"clip525\">\n",
       "    <rect x=\"1516\" y=\"847\" width=\"73\" height=\"640\"/>\n",
       "  </clipPath>\n",
       "</defs>\n",
       "<g clip-path=\"url(#clip525)\">\n",
       "<image width=\"72\" height=\"639\" xlink:href=\"data:image/png;base64,\n",
       "iVBORw0KGgoAAAANSUhEUgAAAEgAAAJ/CAYAAADbDZV7AAAGP0lEQVR4nO3dwbEjNwxAQcqF/KNw\n",
       "lvaSjsB4R+nQHYEK9YTh8GtrP//ev9/hf/317Q/w6wwozH3/fvsz/DQFhXnvz7c/w09TUDCgYEkH\n",
       "BYV5ClopKBhQmHd9xTYKCpZ0UFAwoOArFhQUPOaDgoIBhTmW9EpBwWM+KCgYUJjjHLRSUJhz//n2\n",
       "Z/hpCgoGFJykg4KCx3xQUDCg4CsWFBQ85oOCggGF+VjSKwWFOdfvpDcKCgYULOmgoGBJBwUFAwqu\n",
       "O4KCwnws6ZWCggEFN4pBQcGSDgoKBhS8rAYFBUs6KCgYULCkg4KCJR0UFAwozLn325/hpykoWNJB\n",
       "QcGAgpN0UFBQUFBQMKAwHyfplYKCJR0UFAwouO4ICgoe80FBwYCCc1BQUPCYDwoKBhR8xYKCgj8c\n",
       "BgUFAwqWdFBQUFBQUDCg4CsWFBQUFBQUDCjMeb5iGwUFSzooKBhQ8BULCgoKCgoKBhTm3Pftz/DT\n",
       "FBQs6aCgYEDBkg4KCpZ0UFAwoGBJBwWFOXb0SkHBgMKcZ0lvFBQs6aCgYEDBVywoKIyfB+0UFAwo\n",
       "WNJBQUFBQUHBgMKc+/n2Z/hpCgrznoI2CgoGFJyDgoKCx3xQUDCgMO+a0cZ0giUdFBQMKMzxsrpS\n",
       "UJhnSa8UFAwozHGSXplOsKSDgoIBBSfpoKDgwiyYTjCg4EYxKCg4SQcFBQMK854ZbUwneMwHBQUD\n",
       "Cs5BQUFhjsf8ynSCAQVLOigoKCgoKBhQ8IfDoKDgD4fBdIIBBf+oNygoOEkHBQUDCn4nHUwneMwH\n",
       "BQUDCs5BQUHBkg4KCgYU3CgG0wmWdFBQMKDgJB0UFCzpoKBgQME/RQgKCv45VDCdYEDBOSgoKHgX\n",
       "CwoKBhQs6aCgMFdBKwUFAwr+cBhMJ3jMBwUFAwq+YkFBwXVHUFAwoGBJBwUFBQUFBQMK/jYfTCfM\n",
       "dZJeKSgYUHAOCgoKCgoKCgYUfMWCgoJfdwQFBQMKlnRQUFBQUFAwoOBOOphOcCcdFBQMKDgHBQUF\n",
       "BQUFBQMKbhSDgoIlHRQUDCjMO75iGwUFj/mgoGBAwTkoKChY0kFBwYCCJR0UFCzpoKBgQMGSDgoK\n",
       "CgoKCgYU5rqTXikoWNJBQcG7WFBQMKAw7337I/w2BQVLOigoGFDw+6CgoGBJBwUFAwquO4KCgivX\n",
       "oKBgQMF1R1BQcJIOCgoGFJykg4KCk3RQUDCg4BwUFBS8iwUFBQMKzkFBQcG7WFBQMKAw99uf4Mcp\n",
       "KFjSQUHBgILrjqCg4DEfFBQMKDgHBQUFSzooKBhQsKSDgoJ3saCgYEBh/Gl+p6BgSQcFBQMKXlaD\n",
       "goJ3saCgYEDBkg4KCpZ0UFAwoDDXfcdKQcFjPigoGFBwDgoKCpZ0UFAwoOAf9QYFBf9mNSgoGFBw\n",
       "3REUFPw+KCgoGFDwA6qgoOBdLCgoGFBwoxgUFPxVIygoGFCwpIOCgguzoKBgQMGNYlBQsKSDgoIB\n",
       "BTeKQUHBrzuCgoIBBeegoKDgXSwoKBhQsKSDgoIlHRQUDChY0kFBQUFBQcGAgnNQUFCwpIOCggEF\n",
       "SzooKFjSQUHBgIJfdwQFBb+0DwoKBhScg4KCwrwjoY2CggEFSzooKHgXCwoKBhS8rAYFBY/5oKBg\n",
       "QMHLalBQsKSDgoIBBb/uCAoKc913rBQUDCi47ggKCvMs6ZWCggEFSzooKDhJBwUFAwquO4KCwlx/\n",
       "1VgpKBhQcA4KCgr+9BwUFAwouO4ICgpO0kFBwYCCc1BQUJh7POg3CgoGFJyDgoKCgoKCggEFJ+mg\n",
       "oOAkHRQUDCjM/VjSGwUFSzooKBhQmOcrtlJQsKSDgoIBhbkfX7GNgoIlHRQUDCg4SQcFBUs6KCgY\n",
       "UPAVCwoK3sWCgoIBhXnnz7c/w09TUPCYDwoKBhRcdwQFhbnPY36joGBAwZIOCgpzvYutFBQMKFjS\n",
       "QUHBkg4KCgYU5j1LeqOg4DEfFBQMKLhRDAoKlnRQUDCgMM+SXikoWNJBQcGAwlzXHSsFBT/iDAoK\n",
       "BhTcSQcFBSfpoKBgQMGSDgoKCgoKCgYUvKwGBQVLOigoGFCY42V1paBgSQcFBQMKbhSDgsIcS3ql\n",
       "oGBAwXVHUFDwLhYUFAwoOAcFBQX/S2ZQUDCg4BwUFBTmWNIrBYX/APIr6A39AlZDAAAAAElFTkSu\n",
       "QmCC\n",
       "\" transform=\"translate(1516, 847)\"/>\n",
       "</g>\n",
       "<path clip-path=\"url(#clip520)\" d=\"M1624.08 1483.27 L1653.75 1483.27 L1653.75 1487.21 L1624.08 1487.21 L1624.08 1483.27 Z\" fill=\"#000000\" fill-rule=\"evenodd\" fill-opacity=\"1\" /><path clip-path=\"url(#clip520)\" d=\"M1664.65 1496.16 L1672.29 1496.16 L1672.29 1469.8 L1663.98 1471.46 L1663.98 1467.21 L1672.25 1465.54 L1676.92 1465.54 L1676.92 1496.16 L1684.56 1496.16 L1684.56 1500.1 L1664.65 1500.1 L1664.65 1496.16 Z\" fill=\"#000000\" fill-rule=\"evenodd\" fill-opacity=\"1\" /><path clip-path=\"url(#clip520)\" d=\"M1694.01 1494.22 L1698.89 1494.22 L1698.89 1500.1 L1694.01 1500.1 L1694.01 1494.22 Z\" fill=\"#000000\" fill-rule=\"evenodd\" fill-opacity=\"1\" /><path clip-path=\"url(#clip520)\" d=\"M1719.07 1468.62 Q1715.46 1468.62 1713.63 1472.18 Q1711.83 1475.72 1711.83 1482.85 Q1711.83 1489.96 1713.63 1493.53 Q1715.46 1497.07 1719.07 1497.07 Q1722.71 1497.07 1724.51 1493.53 Q1726.34 1489.96 1726.34 1482.85 Q1726.34 1475.72 1724.51 1472.18 Q1722.71 1468.62 1719.07 1468.62 M1719.07 1464.91 Q1724.88 1464.91 1727.94 1469.52 Q1731.02 1474.1 1731.02 1482.85 Q1731.02 1491.58 1727.94 1496.19 Q1724.88 1500.77 1719.07 1500.77 Q1713.26 1500.77 1710.19 1496.19 Q1707.13 1491.58 1707.13 1482.85 Q1707.13 1474.1 1710.19 1469.52 Q1713.26 1464.91 1719.07 1464.91 Z\" fill=\"#000000\" fill-rule=\"evenodd\" fill-opacity=\"1\" /><path clip-path=\"url(#clip520)\" d=\"M1624.08 1376.74 L1653.75 1376.74 L1653.75 1380.67 L1624.08 1380.67 L1624.08 1376.74 Z\" fill=\"#000000\" fill-rule=\"evenodd\" fill-opacity=\"1\" /><path clip-path=\"url(#clip520)\" d=\"M1673.84 1362.08 Q1670.23 1362.08 1668.4 1365.65 Q1666.6 1369.19 1666.6 1376.32 Q1666.6 1383.43 1668.4 1386.99 Q1670.23 1390.53 1673.84 1390.53 Q1677.48 1390.53 1679.28 1386.99 Q1681.11 1383.43 1681.11 1376.32 Q1681.11 1369.19 1679.28 1365.65 Q1677.48 1362.08 1673.84 1362.08 M1673.84 1358.38 Q1679.65 1358.38 1682.71 1362.99 Q1685.79 1367.57 1685.79 1376.32 Q1685.79 1385.05 1682.71 1389.65 Q1679.65 1394.24 1673.84 1394.24 Q1668.03 1394.24 1664.95 1389.65 Q1661.9 1385.05 1661.9 1376.32 Q1661.9 1367.57 1664.95 1362.99 Q1668.03 1358.38 1673.84 1358.38 Z\" fill=\"#000000\" fill-rule=\"evenodd\" fill-opacity=\"1\" /><path clip-path=\"url(#clip520)\" d=\"M1694.01 1387.69 L1698.89 1387.69 L1698.89 1393.57 L1694.01 1393.57 L1694.01 1387.69 Z\" fill=\"#000000\" fill-rule=\"evenodd\" fill-opacity=\"1\" /><path clip-path=\"url(#clip520)\" d=\"M1709.12 1359.01 L1727.48 1359.01 L1727.48 1362.94 L1713.4 1362.94 L1713.4 1371.41 Q1714.42 1371.07 1715.44 1370.9 Q1716.46 1370.72 1717.48 1370.72 Q1723.26 1370.72 1726.64 1373.89 Q1730.02 1377.06 1730.02 1382.48 Q1730.02 1388.06 1726.55 1391.16 Q1723.08 1394.24 1716.76 1394.24 Q1714.58 1394.24 1712.32 1393.87 Q1710.07 1393.5 1707.66 1392.75 L1707.66 1388.06 Q1709.75 1389.19 1711.97 1389.75 Q1714.19 1390.3 1716.67 1390.3 Q1720.67 1390.3 1723.01 1388.19 Q1725.35 1386.09 1725.35 1382.48 Q1725.35 1378.87 1723.01 1376.76 Q1720.67 1374.65 1716.67 1374.65 Q1714.79 1374.65 1712.92 1375.07 Q1711.07 1375.49 1709.12 1376.37 L1709.12 1359.01 Z\" fill=\"#000000\" fill-rule=\"evenodd\" fill-opacity=\"1\" /><path clip-path=\"url(#clip520)\" d=\"M1636.02 1255.55 Q1632.41 1255.55 1630.58 1259.11 Q1628.77 1262.66 1628.77 1269.79 Q1628.77 1276.89 1630.58 1280.46 Q1632.41 1284 1636.02 1284 Q1639.65 1284 1641.46 1280.46 Q1643.29 1276.89 1643.29 1269.79 Q1643.29 1262.66 1641.46 1259.11 Q1639.65 1255.55 1636.02 1255.55 M1636.02 1251.85 Q1641.83 1251.85 1644.89 1256.45 Q1647.96 1261.04 1647.96 1269.79 Q1647.96 1278.51 1644.89 1283.12 Q1641.83 1287.7 1636.02 1287.7 Q1630.21 1287.7 1627.13 1283.12 Q1624.08 1278.51 1624.08 1269.79 Q1624.08 1261.04 1627.13 1256.45 Q1630.21 1251.85 1636.02 1251.85 Z\" fill=\"#000000\" fill-rule=\"evenodd\" fill-opacity=\"1\" /><path clip-path=\"url(#clip520)\" d=\"M1636.02 1149.02 Q1632.41 1149.02 1630.58 1152.58 Q1628.77 1156.12 1628.77 1163.25 Q1628.77 1170.36 1630.58 1173.92 Q1632.41 1177.46 1636.02 1177.46 Q1639.65 1177.46 1641.46 1173.92 Q1643.29 1170.36 1643.29 1163.25 Q1643.29 1156.12 1641.46 1152.58 Q1639.65 1149.02 1636.02 1149.02 M1636.02 1145.31 Q1641.83 1145.31 1644.89 1149.92 Q1647.96 1154.5 1647.96 1163.25 Q1647.96 1171.98 1644.89 1176.59 Q1641.83 1181.17 1636.02 1181.17 Q1630.21 1181.17 1627.13 1176.59 Q1624.08 1171.98 1624.08 1163.25 Q1624.08 1154.5 1627.13 1149.92 Q1630.21 1145.31 1636.02 1145.31 Z\" fill=\"#000000\" fill-rule=\"evenodd\" fill-opacity=\"1\" /><path clip-path=\"url(#clip520)\" d=\"M1656.18 1174.62 L1661.07 1174.62 L1661.07 1180.5 L1656.18 1180.5 L1656.18 1174.62 Z\" fill=\"#000000\" fill-rule=\"evenodd\" fill-opacity=\"1\" /><path clip-path=\"url(#clip520)\" d=\"M1671.3 1145.94 L1689.65 1145.94 L1689.65 1149.87 L1675.58 1149.87 L1675.58 1158.34 Q1676.6 1158 1677.62 1157.84 Q1678.64 1157.65 1679.65 1157.65 Q1685.44 1157.65 1688.82 1160.82 Q1692.2 1163.99 1692.2 1169.41 Q1692.2 1174.99 1688.73 1178.09 Q1685.26 1181.17 1678.94 1181.17 Q1676.76 1181.17 1674.49 1180.8 Q1672.25 1180.43 1669.84 1179.69 L1669.84 1174.99 Q1671.92 1176.12 1674.14 1176.68 Q1676.37 1177.23 1678.84 1177.23 Q1682.85 1177.23 1685.19 1175.13 Q1687.52 1173.02 1687.52 1169.41 Q1687.52 1165.8 1685.19 1163.69 Q1682.85 1161.59 1678.84 1161.59 Q1676.97 1161.59 1675.09 1162 Q1673.24 1162.42 1671.3 1163.3 L1671.3 1145.94 Z\" fill=\"#000000\" fill-rule=\"evenodd\" fill-opacity=\"1\" /><path clip-path=\"url(#clip520)\" d=\"M1624.75 1070.03 L1632.39 1070.03 L1632.39 1043.66 L1624.08 1045.33 L1624.08 1041.07 L1632.34 1039.4 L1637.01 1039.4 L1637.01 1070.03 L1644.65 1070.03 L1644.65 1073.96 L1624.75 1073.96 L1624.75 1070.03 Z\" fill=\"#000000\" fill-rule=\"evenodd\" fill-opacity=\"1\" /><path clip-path=\"url(#clip520)\" d=\"M1654.1 1068.08 L1658.98 1068.08 L1658.98 1073.96 L1654.1 1073.96 L1654.1 1068.08 Z\" fill=\"#000000\" fill-rule=\"evenodd\" fill-opacity=\"1\" /><path clip-path=\"url(#clip520)\" d=\"M1679.17 1042.48 Q1675.56 1042.48 1673.73 1046.05 Q1671.92 1049.59 1671.92 1056.72 Q1671.92 1063.82 1673.73 1067.39 Q1675.56 1070.93 1679.17 1070.93 Q1682.8 1070.93 1684.61 1067.39 Q1686.44 1063.82 1686.44 1056.72 Q1686.44 1049.59 1684.61 1046.05 Q1682.8 1042.48 1679.17 1042.48 M1679.17 1038.78 Q1684.98 1038.78 1688.03 1043.38 Q1691.11 1047.97 1691.11 1056.72 Q1691.11 1065.44 1688.03 1070.05 Q1684.98 1074.63 1679.17 1074.63 Q1673.36 1074.63 1670.28 1070.05 Q1667.22 1065.44 1667.22 1056.72 Q1667.22 1047.97 1670.28 1043.38 Q1673.36 1038.78 1679.17 1038.78 Z\" fill=\"#000000\" fill-rule=\"evenodd\" fill-opacity=\"1\" /><path clip-path=\"url(#clip520)\" d=\"M1624.75 963.494 L1632.39 963.494 L1632.39 937.128 L1624.08 938.795 L1624.08 934.536 L1632.34 932.869 L1637.01 932.869 L1637.01 963.494 L1644.65 963.494 L1644.65 967.429 L1624.75 967.429 L1624.75 963.494 Z\" fill=\"#000000\" fill-rule=\"evenodd\" fill-opacity=\"1\" /><path clip-path=\"url(#clip520)\" d=\"M1654.1 961.55 L1658.98 961.55 L1658.98 967.429 L1654.1 967.429 L1654.1 961.55 Z\" fill=\"#000000\" fill-rule=\"evenodd\" fill-opacity=\"1\" /><path clip-path=\"url(#clip520)\" d=\"M1669.21 932.869 L1687.57 932.869 L1687.57 936.804 L1673.5 936.804 L1673.5 945.277 Q1674.51 944.929 1675.53 944.767 Q1676.55 944.582 1677.57 944.582 Q1683.36 944.582 1686.74 947.753 Q1690.12 950.925 1690.12 956.341 Q1690.12 961.92 1686.64 965.022 Q1683.17 968.101 1676.85 968.101 Q1674.68 968.101 1672.41 967.73 Q1670.16 967.36 1667.76 966.619 L1667.76 961.92 Q1669.84 963.054 1672.06 963.61 Q1674.28 964.165 1676.76 964.165 Q1680.76 964.165 1683.1 962.059 Q1685.44 959.952 1685.44 956.341 Q1685.44 952.73 1683.1 950.624 Q1680.76 948.517 1676.76 948.517 Q1674.89 948.517 1673.01 948.934 Q1671.16 949.351 1669.21 950.23 L1669.21 932.869 Z\" fill=\"#000000\" fill-rule=\"evenodd\" fill-opacity=\"1\" /><path clip-path=\"url(#clip520)\" d=\"M1629.7 856.96 L1646.02 856.96 L1646.02 860.895 L1624.08 860.895 L1624.08 856.96 Q1626.74 854.206 1631.32 849.576 Q1635.93 844.923 1637.11 843.581 Q1639.35 841.057 1640.23 839.321 Q1641.14 837.562 1641.14 835.872 Q1641.14 833.118 1639.19 831.382 Q1637.27 829.645 1634.17 829.645 Q1631.97 829.645 1629.51 830.409 Q1627.08 831.173 1624.31 832.724 L1624.31 828.002 Q1627.13 826.868 1629.58 826.289 Q1632.04 825.71 1634.08 825.71 Q1639.45 825.71 1642.64 828.395 Q1645.83 831.081 1645.83 835.571 Q1645.83 837.701 1645.02 839.622 Q1644.24 841.52 1642.13 844.113 Q1641.55 844.784 1638.45 848.002 Q1635.35 851.196 1629.7 856.96 Z\" fill=\"#000000\" fill-rule=\"evenodd\" fill-opacity=\"1\" /><path clip-path=\"url(#clip520)\" d=\"M1655.83 855.016 L1660.72 855.016 L1660.72 860.895 L1655.83 860.895 L1655.83 855.016 Z\" fill=\"#000000\" fill-rule=\"evenodd\" fill-opacity=\"1\" /><path clip-path=\"url(#clip520)\" d=\"M1680.9 829.414 Q1677.29 829.414 1675.46 832.979 Q1673.66 836.52 1673.66 843.65 Q1673.66 850.756 1675.46 854.321 Q1677.29 857.863 1680.9 857.863 Q1684.54 857.863 1686.34 854.321 Q1688.17 850.756 1688.17 843.65 Q1688.17 836.52 1686.34 832.979 Q1684.54 829.414 1680.9 829.414 M1680.9 825.71 Q1686.71 825.71 1689.77 830.317 Q1692.85 834.9 1692.85 843.65 Q1692.85 852.377 1689.77 856.983 Q1686.71 861.567 1680.9 861.567 Q1675.09 861.567 1672.01 856.983 Q1668.96 852.377 1668.96 843.65 Q1668.96 834.9 1672.01 830.317 Q1675.09 825.71 1680.9 825.71 Z\" fill=\"#000000\" fill-rule=\"evenodd\" fill-opacity=\"1\" /><polyline clip-path=\"url(#clip520)\" style=\"stroke:#000000; stroke-linecap:butt; stroke-linejoin:round; stroke-width:4; stroke-opacity:1; fill:none\" points=\"\n",
       "  1588.08,1486.45 1588.08,1486.45 1612.08,1486.45 1588.08,1486.45 1588.08,1379.91 1612.08,1379.91 1588.08,1379.91 1588.08,1273.38 1612.08,1273.38 1588.08,1273.38 \n",
       "  1588.08,1166.85 1612.08,1166.85 1588.08,1166.85 1588.08,1060.31 1612.08,1060.31 1588.08,1060.31 1588.08,953.778 1612.08,953.778 1588.08,953.778 1588.08,847.244 \n",
       "  1612.08,847.244 1588.08,847.244 \n",
       "  \"/>\n",
       "</svg>\n"
      ]
     },
     "execution_count": 18,
     "metadata": {},
     "output_type": "execute_result"
    }
   ],
   "source": [
    "#..set number of intervals (N)\n",
    "Nx = 3;\n",
    "Ny = 2; \n",
    "#..compute derived numbers such as \n",
    "#..the points on the boundary (Nbnd) and the mesh width (h)\n",
    "Nxp1 = Nx+1; Nxm1 = Nx-1; \n",
    "Nyp1 = Ny+1; Nym1 = Ny-1; \n",
    "Np2 = Nxp1*Nyp1; Nm2 = Nxm1*Nym1; \n",
    "Nbnd = 2*Nx+2*Ny-2; \n",
    "hx = 1/Nx;\n",
    "hy = 1/Ny;\n",
    "# h2=h*h; \n",
    "\n",
    "#..construct the 2D mesh (X) starting from the 1D mesh (x)  \n",
    "#..observe that we make in the 2D mesh the x coordinate increase from left to right and \n",
    "#..the y coordinate increase from top to bottom (as expected)\n",
    "x = Vector(0:hx:1); \n",
    "y = Vector(0:hy:1); \n",
    "X = repeat(reshape(x, 1, :), length(y), 1);\n",
    "Y = repeat(y, 1, length(x));\n",
    "\n",
    "#..construct the mesh indicator matrix IG \n",
    "#..this indicator matrix will allow to distinguish interior and boundary nodes \n",
    "#..in this indicator matrix the boundary nodes are easy to identify \n",
    "#..for interior nodes IG(i,j) = 0 and for the boundary nodes IG(i,j) = 1\n",
    "#..next construct the indicator vector IGvec by reshaping the indicator matrix IG  \n",
    "IG = ones(Nyp1,Nxp1); \n",
    "IG[2:end-1,2:end-1] = zeros(Nxm1,Nym1); \n",
    "IGvec = reshape(IG,Np2,1); \n",
    "#..construct array with linear indices allowing to define interior and boundary nodes \n",
    "#..interior: index array with all indices of the interior nodes \n",
    "#..boundary: index array with indices of all the boundary nodes \n",
    "L = LinearIndices(IGvec); \n",
    "interior_cartesian = findall(x->x==0,IGvec);  interior = L[interior_cartesian]; \n",
    "boundary_cartesian = findall(x->x>0,IGvec); boundary = L[boundary_cartesian]; \n",
    "\n",
    "#..construct auxiliary vectors used in the 1D code as well \n",
    "ex = ones(Nxp1);            #..same as in 1D.. \n",
    "ex_bnd = ones(Nbnd); #..used to handle the boundary nodes \n",
    "ey = ones(Nyp1);            #..same as in 1D.. \n",
    "ey_bnd = ones(Nbnd); #..used to handle the boundary nodes \n",
    "\n",
    "#..Construct one-dimensional matrix\n",
    "Ax = Tridiagonal(-ex[2:end], 2*ex, -ex[2:end]); \n",
    "Ix = Diagonal(ex);\n",
    "Ay = Tridiagonal(-ey[2:end], 2*ey, -ey[2:end]); \n",
    "Iy = Diagonal(ey);\n",
    "\n",
    "Ix_bnd = Diagonal(ex_bnd); \n",
    "Iy_bnd = Diagonal(ey_bnd);\n",
    "\n",
    "#..Construct the 2D matrix using Kronecker products \n",
    "Axx = kron(Ax,Iy); \n",
    "Ayy = kron(Ix,Ay); \n",
    "A = Axx+Ayy; \n",
    "\n",
    "# display(X)\n",
    "# display(Y)\n",
    "display(IG)\n",
    "display(IGvec)\n",
    "display(L)\n",
    "display(interior_cartesian)\n",
    "p1 = spy(Axx)\n",
    "p2 = spy(Ayy)\n",
    "plot(p1,p2,layout=(2,1))"
   ]
  },
  {
   "cell_type": "markdown",
   "metadata": {},
   "source": [
    "## Section 2/6: Convergence Towards the Exact Solution "
   ]
  },
  {
   "cell_type": "markdown",
   "metadata": {},
   "source": [
    "### First Study: Converge of the Numerical Solution to the Exact Solution as the Mesh is Refined"
   ]
  },
  {
   "cell_type": "markdown",
   "metadata": {},
   "source": [
    "Exercises:  \n",
    "1. Construct using pen and paper an analytical reference solution. This can be done for instance as follows. Assume first that $u(x,y) = \\text{whatever-you-like}(x,y) \\, x \\, (x-1) \\, y \\, (y-1)$ where $\\text{whatever-you-like}(x,y)$ is any function in $x$ and $y$. The multiplication with $x$, $x-1$, $y$ and $y-1$ is such that the function $u(x,y)$ satisfies the Dirichlet boundary conditions. Next compute $f(x,y)$ by computing $-\\bigtriangleup u(x,y)$. The function $f(x,y)$ can subsequently be used as source function in the finite difference code;   \n",
    "2. Verify that the difference between the analytical reference solution and the numerically computed solution decreases as the mesh is refined; "
   ]
  },
  {
   "cell_type": "markdown",
   "metadata": {},
   "source": [
    "### Second Study: Converge of the Numerical Solution to the Exact Solution as the Polynomial Degree of the Appproximation is Increased "
   ]
  },
  {
   "cell_type": "markdown",
   "metadata": {},
   "source": [
    "Replace code as above by code that employ DiffEqOperators.jl https://diffeqoperators.sciml.ai/stable/. "
   ]
  },
  {
   "cell_type": "markdown",
   "metadata": {},
   "source": [
    "## Section 3/6: A Closer Look into the Linear Algebra"
   ]
  },
  {
   "cell_type": "markdown",
   "metadata": {},
   "source": [
    "### First Study: dense vs. sparse "
   ]
  },
  {
   "cell_type": "markdown",
   "metadata": {},
   "source": [
    "Compare runtime of solver with A dense and A sparse. The sparse command allow to convert from dense to sparse. Use the @btime macro to compare both variants."
   ]
  },
  {
   "cell_type": "markdown",
   "metadata": {},
   "source": [
    "### (experimental) Second Study: direct vs. iterative"
   ]
  },
  {
   "cell_type": "markdown",
   "metadata": {},
   "source": [
    "Compare runtime of solver using direct and iterative (CG preconditioned by for instance algebraic multigrid) for various problem sizes."
   ]
  },
  {
   "cell_type": "markdown",
   "metadata": {},
   "source": [
    "## Section (4/6): An Application: Coil in Air "
   ]
  },
  {
   "cell_type": "markdown",
   "metadata": {},
   "source": [
    "### Computation of the potential "
   ]
  },
  {
   "cell_type": "code",
   "execution_count": null,
   "metadata": {},
   "outputs": [],
   "source": [
    "#..set number of intervals (N)\n",
    "N = 50; \n",
    "#..compute derived numbers such as \n",
    "#..the points on the boundary (Nbnd) and the mesh width (h)\n",
    "Np1 = N+1; Nm1 = N-1; Np2 = Np1*Np1; Nm2 = Nm1*Nm1; Nbnd = 4*N; h = 1/N; h2=h*h; \n",
    "\n",
    "#..construct the 2D mesh (X) starting from the 1D mesh (x)  \n",
    "#..observe that we make in the 2D mesh the x coordinate increase from left to right and \n",
    "#..the y coordinate increase from top to bottom (as expected)\n",
    "x = Vector(0:h:1); \n",
    "y = Vector(0:h:1); \n",
    "X = repeat(reshape(x, 1, :), length(y), 1);\n",
    "Y = repeat(y, 1, length(x));\n",
    "\n",
    "#..construct the mesh indicator matrix IG \n",
    "#..this indicator matrix will allow to distinguish interior and boundary nodes \n",
    "#..in this indicator matrix the boundary nodes are easy to identify \n",
    "#..for interior nodes IG(i,j) = 0 and for the boundary nodes IG(i,j) = 1\n",
    "#..next construct the indicator vector IGvec by reshaping the indicator matrix IG  \n",
    "IG = ones(Np1,Np1); \n",
    "IG[2:end-1,2:end-1] = zeros(Nm1,Nm1); \n",
    "IGvec = reshape(IG,Np2,1); \n",
    "#..construct array with linear indices allowing to define interior and boundary nodes \n",
    "#..interior: index array with all indices of the interior nodes \n",
    "#..boundary: index array with indices of all the boundary nodes \n",
    "L = LinearIndices(IGvec); \n",
    "interior_cartesian = findall(x->x==0,IGvec);  interior = L[interior_cartesian]; \n",
    "boundary_cartesian = findall(x->x>0,IGvec); boundary = L[boundary_cartesian]; \n",
    "\n",
    "#..construct auxiliary vectors used in the 1D code as well \n",
    "e = ones(Np1);            #..same as in 1D.. \n",
    "e_bnd = ones(Nbnd); #..used to handle the boundary nodes \n",
    "\n",
    "#..Construct one-dimensional matrix\n",
    "A1 = Tridiagonal(-e[2:end], 2*e, -e[2:end]); \n",
    "I = Diagonal(e); \n",
    "I_bnd = Diagonal(e_bnd); \n",
    "\n",
    "#..Construct the 2D matrix using Kronecker products \n",
    "A = kron(A1,I) + kron(I,A1); \n",
    "\n",
    "#..Construct the right-hand side vector \n",
    "#..Define the source function \n",
    "#..Observe the use of double brackets to make f work on a tuple of coordinates (x,y)\n",
    "sourceterm(x,y) = (x.>=.35).*(x.<=.45).*(y.>=.45).*(y.<=.55) .- (x.>=.55).*(x.<=.65).*(y.>=.45).*(y.<=.55); \n",
    "#..Evaluate fsource on each node of the grid (Xh)\n",
    "#..Observe the use of the dot syntax to evaluate fsource in all mesh nodes in X \n",
    "F = sourceterm.(X,Y); \n",
    "#..Reshape the F 2D array into an f vector \n",
    "f = reshape(F,Np2); \n",
    "\n",
    "#..Handle the Dirichlet boundary conditions in the matrix and the right-hand side vector \n",
    "A[boundary,boundary] = I_bnd; A[boundary,interior] = zeros(Nbnd, Nm2); \n",
    "f[boundary] = zeros(Nbnd); \n",
    "\n",
    "#..solve the linear system for the finite difference approximation \n",
    "u = A \\ f; \n",
    "\n",
    "#..reshape the computed approximation \n",
    "U = reshape(u,Np1,Np1); \n",
    "\n",
    "#..plot the computed approximation as a contour plot \n",
    "contour(x, y, U, xlabel=\"x\", ylabel=\"y\")"
   ]
  },
  {
   "cell_type": "markdown",
   "metadata": {},
   "source": [
    "### (in development): Computation of the flux "
   ]
  },
  {
   "cell_type": "markdown",
   "metadata": {},
   "source": [
    "The flux is computed as the gradient of the potential. Details are to be filled in. "
   ]
  },
  {
   "cell_type": "code",
   "execution_count": 50,
   "metadata": {},
   "outputs": [
    {
     "ename": "LoadError",
     "evalue": "Cannot convert Matrix{Any} to series data for plotting",
     "output_type": "error",
     "traceback": [
      "Cannot convert Matrix{Any} to series data for plotting",
      "",
      "Stacktrace:",
      "  [1] error(s::String)",
      "    @ Base ./error.jl:33",
      "  [2] _prepare_series_data(x::Matrix{Any})",
      "    @ RecipesPipeline ~/.julia/packages/RecipesPipeline/7ijBv/src/series.jl:8",
      "  [3] _series_data_vector(x::Matrix{Any}, plotattributes::Dict{Symbol, Any})",
      "    @ RecipesPipeline ~/.julia/packages/RecipesPipeline/7ijBv/src/series.jl:27",
      "  [4] macro expansion",
      "    @ ~/.julia/packages/RecipesPipeline/7ijBv/src/series.jl:126 [inlined]",
      "  [5] apply_recipe(plotattributes::AbstractDict{Symbol, Any}, #unused#::Type{RecipesPipeline.SliceIt}, x::Any, y::Any, z::Any)",
      "    @ RecipesPipeline ~/.julia/packages/RecipesBase/qpxEX/src/RecipesBase.jl:289",
      "  [6] _process_userrecipes!(plt::Any, plotattributes::Any, args::Any)",
      "    @ RecipesPipeline ~/.julia/packages/RecipesPipeline/7ijBv/src/user_recipe.jl:36",
      "  [7] recipe_pipeline!(plt::Any, plotattributes::Any, args::Any)",
      "    @ RecipesPipeline ~/.julia/packages/RecipesPipeline/7ijBv/src/RecipesPipeline.jl:70",
      "  [8] _plot!(plt::Plots.Plot, plotattributes::Any, args::Any)",
      "    @ Plots ~/.julia/packages/Plots/hxZ0l/src/plot.jl:208",
      "  [9] plot(::Any, ::Vararg{Any, N} where N; kw::Any)",
      "    @ Plots ~/.julia/packages/Plots/hxZ0l/src/plot.jl:91",
      " [10] quiver(::Any, ::Vararg{Any, N} where N; kw::Any)",
      "    @ Plots ~/.julia/packages/RecipesBase/qpxEX/src/RecipesBase.jl:410",
      " [11] quiver(::Any, ::Vararg{Any, N} where N)",
      "    @ Plots ~/.julia/packages/RecipesBase/qpxEX/src/RecipesBase.jl:410",
      " [12] top-level scope",
      "    @ In[50]:82",
      " [13] eval",
      "    @ ./boot.jl:360 [inlined]",
      " [14] include_string(mapexpr::typeof(REPL.softscope), mod::Module, code::String, filename::String)",
      "    @ Base ./loading.jl:1116"
     ]
    }
   ],
   "source": [
    "#..set number of intervals (N)\n",
    "N = 50; \n",
    "#..compute derived numbers such as \n",
    "#..the points on the boundary (Nbnd) and the mesh width (h)\n",
    "Np1 = N+1; Nm1 = N-1; Np2 = Np1*Np1; Nm2 = Nm1*Nm1; Nbnd = 4*N; h = 1/N; h2=h*h; \n",
    "\n",
    "#..construct the 2D mesh (X) starting from the 1D mesh (x)  \n",
    "#..observe that we make in the 2D mesh the x coordinate increase from left to right and \n",
    "#..the y coordinate increase from top to bottom (as expected)\n",
    "x = Vector(0:h:1); \n",
    "y = Vector(0:h:1); \n",
    "X = repeat(reshape(x, 1, :), length(y), 1);\n",
    "Y = repeat(y, 1, length(x));\n",
    "xmid = x[1:end-1].+h/2; \n",
    "ymid = y[1:end-1].+h/2; \n",
    "\n",
    "#..construct the mesh indicator matrix IG \n",
    "#..this indicator matrix will allow to distinguish interior and boundary nodes \n",
    "#..in this indicator matrix the boundary nodes are easy to identify \n",
    "#..for interior nodes IG(i,j) = 0 and for the boundary nodes IG(i,j) = 1\n",
    "#..next construct the indicator vector IGvec by reshaping the indicator matrix IG  \n",
    "IG = ones(Np1,Np1); \n",
    "IG[2:end-1,2:end-1] = zeros(Nm1,Nm1); \n",
    "IGvec = reshape(IG,Np2,1); \n",
    "#..construct array with linear indices allowing to define interior and boundary nodes \n",
    "#..interior: index array with all indices of the interior nodes \n",
    "#..boundary: index array with indices of all the boundary nodes \n",
    "L = LinearIndices(IGvec); \n",
    "interior_cartesian = findall(x->x==0,IGvec);  interior = L[interior_cartesian]; \n",
    "boundary_cartesian = findall(x->x>0,IGvec); boundary = L[boundary_cartesian]; \n",
    "\n",
    "#..construct auxiliary vectors used in the 1D code as well \n",
    "e = ones(Np1);            #..same as in 1D.. \n",
    "e_bnd = ones(Nbnd); #..used to handle the boundary nodes \n",
    "\n",
    "#..Construct one-dimensional matrix\n",
    "A1 = Tridiagonal(-e[2:end], 2*e, -e[2:end]); \n",
    "I = Diagonal(e); \n",
    "I_bnd = Diagonal(e_bnd); \n",
    "\n",
    "#..construct the matrix enabling the computation of ux and uy  \n",
    "#..we use comprehension to construct the rectangular matrix B \n",
    "B = [i==j ? -1/h : i==j-1 ? 1/h : 0 for i = 1:N, j=1:Np1]\n",
    "\n",
    "#..Construct the 2D matrix using Kronecker products \n",
    "A = kron(A1,I) + kron(I,A1); \n",
    "Bx = kron(B,I);\n",
    "By = kron(I,B);\n",
    "\n",
    "#..Construct the right-hand side vector \n",
    "#..Define the source function \n",
    "#..Observe the use of double brackets to make f work on a tuple of coordinates (x,y)\n",
    "sourceterm(x,y) = (x.>=.35).*(x.<=.45).*(y.>=.45).*(y.<=.55) .- (x.>=.55).*(x.<=.65).*(y.>=.45).*(y.<=.55); \n",
    "#..Evaluate fsource on each node of the grid (Xh)\n",
    "#..Observe the use of the dot syntax to evaluate fsource in all mesh nodes in X \n",
    "F = sourceterm.(X,Y); \n",
    "#..Reshape the F 2D array into an f vector \n",
    "f = reshape(F,Np2); \n",
    "\n",
    "#..Handle the Dirichlet boundary conditions in the matrix and the right-hand side vector \n",
    "A[boundary,boundary] = I_bnd; A[boundary,interior] = zeros(Nbnd, Nm2); \n",
    "f[boundary] = zeros(Nbnd); \n",
    "\n",
    "#..solve the linear system for the finite difference approximation \n",
    "u = A \\ f; \n",
    "ux = Bx*u; \n",
    "uy = By*u; \n",
    "\n",
    "#..reshape the computed approximation \n",
    "#..observe the fact that Ux and Uy live on a coarser mesh \n",
    "U = reshape(u,Np1,Np1); \n",
    "Ux = reshape(ux,Np1,N); \n",
    "Uy = reshape(uy,N,Np1); \n",
    "\n",
    "#..plot the computed approximation as a contour plot \n",
    "#p1 = contour(x, y, U, xlabel=\"x\", ylabel=\"y\")\n",
    "\n",
    "p2 = heatmap(Ux, xlabel=\"x\", ylabel=\"y\")\n",
    "\n",
    "p3 = heatmap(Uy, xlabel=\"x\", ylabel=\"y\")\n",
    "\n",
    "p4 = quiver(Ux, Uy) \n",
    "\n",
    "plot(p1,p2,p3,p4,layout=(4,1))"
   ]
  },
  {
   "cell_type": "markdown",
   "metadata": {},
   "source": [
    "## Section 5/6: A Closer Look into Julia"
   ]
  },
  {
   "cell_type": "markdown",
   "metadata": {},
   "source": [
    "In both the second and third lab session, we saw the use of broadcast (with dot-syntax) to apply a function (the source function) to a set of points (the mesh). This notion extends in Julia by so-called iterable collections and the function map. More information is provided e.g. here https://docs.julialang.org/en/v1/base/collections/#Iterable-Collections .   "
   ]
  },
  {
   "cell_type": "markdown",
   "metadata": {},
   "source": [
    "## Section 6/6: References"
   ]
  },
  {
   "cell_type": "markdown",
   "metadata": {},
   "source": [
    "1. The finite difference method on wikipedia [wiki](https://en.wikipedia.org/wiki/Finite_difference_method). Especially Section 5 of this page is revelant here. \n",
    "2. The construction of the matrix $A$ using the sum of two Kronecker products is described on https://en.wikipedia.org/wiki/Kronecker_sum_of_discrete_Laplacians. "
   ]
  },
  {
   "cell_type": "code",
   "execution_count": 95,
   "metadata": {},
   "outputs": [
    {
     "data": {
      "text/plain": [
       "false"
      ]
     },
     "execution_count": 95,
     "metadata": {},
     "output_type": "execute_result"
    }
   ],
   "source": [
    "A = [1 0 0 0 0; -1 2 -1 0 0; 0 -1 2 -1 0; 0 0 -1 2 -1; 0 0 0 0 1]\n",
    "isposdef(A)"
   ]
  },
  {
   "cell_type": "code",
   "execution_count": 97,
   "metadata": {},
   "outputs": [
    {
     "data": {
      "text/plain": [
       "true"
      ]
     },
     "execution_count": 97,
     "metadata": {},
     "output_type": "execute_result"
    }
   ],
   "source": [
    "Amod = [1 0 0 0 0; 0 2 -1 0 0; 0 -1 2 -1 0; 0 0 -1 2 0; 0 0 0 0 1]\n",
    "isposdef(Amod)"
   ]
  },
  {
   "cell_type": "code",
   "execution_count": 88,
   "metadata": {},
   "outputs": [
    {
     "data": {
      "text/plain": [
       "2-element Vector{Float64}:\n",
       "  0.9185028934362909\n",
       " 50.08149710656371"
      ]
     },
     "execution_count": 88,
     "metadata": {},
     "output_type": "execute_result"
    }
   ],
   "source": [
    "eigvals(B)"
   ]
  },
  {
   "cell_type": "code",
   "execution_count": 85,
   "metadata": {},
   "outputs": [
    {
     "name": "stdout",
     "output_type": "stream",
     "text": [
      "search: \u001b[0m\u001b[1mi\u001b[22m\u001b[0m\u001b[1ms\u001b[22m\u001b[0m\u001b[1mp\u001b[22m\u001b[0m\u001b[1mo\u001b[22m\u001b[0m\u001b[1ms\u001b[22m\u001b[0m\u001b[1md\u001b[22m\u001b[0m\u001b[1me\u001b[22m\u001b[0m\u001b[1mf\u001b[22m \u001b[0m\u001b[1mi\u001b[22m\u001b[0m\u001b[1ms\u001b[22m\u001b[0m\u001b[1mp\u001b[22m\u001b[0m\u001b[1mo\u001b[22m\u001b[0m\u001b[1ms\u001b[22m\u001b[0m\u001b[1md\u001b[22m\u001b[0m\u001b[1me\u001b[22m\u001b[0m\u001b[1mf\u001b[22m!\n",
      "\n"
     ]
    },
    {
     "data": {
      "text/latex": [
       "\\begin{verbatim}\n",
       "isposdef(A) -> Bool\n",
       "\\end{verbatim}\n",
       "Test whether a matrix is positive definite (and Hermitian) by trying to perform a Cholesky factorization of \\texttt{A}. See also \\href{@ref}{\\texttt{isposdef!}}\n",
       "\n",
       "\\section{Examples}\n",
       "\\begin{verbatim}\n",
       "julia> A = [1 2; 2 50]\n",
       "2×2 Matrix{Int64}:\n",
       " 1   2\n",
       " 2  50\n",
       "\n",
       "julia> isposdef(A)\n",
       "true\n",
       "\\end{verbatim}\n"
      ],
      "text/markdown": [
       "```\n",
       "isposdef(A) -> Bool\n",
       "```\n",
       "\n",
       "Test whether a matrix is positive definite (and Hermitian) by trying to perform a Cholesky factorization of `A`. See also [`isposdef!`](@ref)\n",
       "\n",
       "# Examples\n",
       "\n",
       "```jldoctest\n",
       "julia> A = [1 2; 2 50]\n",
       "2×2 Matrix{Int64}:\n",
       " 1   2\n",
       " 2  50\n",
       "\n",
       "julia> isposdef(A)\n",
       "true\n",
       "```\n"
      ],
      "text/plain": [
       "  \u001b[38;5;81misposdef\u001b[0m(\u001b[0m\u001b[39mA\u001b[0m\u001b[39m)\u001b[0m \u001b[0m\u001b[38;5;197m->\u001b[0m \u001b[0m\u001b[39mBool\u001b[0m\u001b[39m\u001b[0m\n",
       "\n",
       "\n",
       "  Test whether a matrix is positive definite (and Hermitian) by trying to\n",
       "  perform a Cholesky factorization of \u001b[36mA\u001b[39m. See also \u001b[36misposdef!\u001b[39m\n",
       "\n",
       "\u001b[1m  Examples\u001b[22m\n",
       "\u001b[1m  ≡≡≡≡≡≡≡≡≡≡\u001b[22m\n",
       "\n",
       "  \u001b[31;1mjulia> \u001b[0m\u001b[39mA\u001b[0m \u001b[0m\u001b[38;5;197m=\u001b[0m \u001b[0m\u001b[39m[\u001b[0m\u001b[38;5;141m1\u001b[0m \u001b[0m\u001b[38;5;141m2\u001b[0m\u001b[39m;\u001b[0m \u001b[0m\u001b[38;5;141m2\u001b[0m \u001b[0m\u001b[38;5;141m50\u001b[0m\u001b[39m]\u001b[0m\n",
       "  \u001b[0m\u001b[39m\u001b[0m2×2 Matrix{Int64}:\n",
       "   1   2\n",
       "   2  50\n",
       "  \n",
       "  \u001b[31;1mjulia> \u001b[0m\u001b[38;5;81misposdef\u001b[0m(\u001b[0m\u001b[39mA\u001b[0m\u001b[39m)\u001b[0m\n",
       "  \u001b[0m\u001b[39m\u001b[0mtrue\n"
      ]
     },
     "execution_count": 85,
     "metadata": {},
     "output_type": "execute_result"
    }
   ],
   "source": [
    "?isposdef"
   ]
  },
  {
   "cell_type": "code",
   "execution_count": 84,
   "metadata": {},
   "outputs": [
    {
     "data": {
      "text/plain": [
       "3-element Vector{Float64}:\n",
       " 1.0\n",
       " 1.0\n",
       " 2.0"
      ]
     },
     "execution_count": 84,
     "metadata": {},
     "output_type": "execute_result"
    }
   ],
   "source": [
    "eigvals(A)"
   ]
  },
  {
   "cell_type": "code",
   "execution_count": 90,
   "metadata": {},
   "outputs": [
    {
     "data": {
      "text/plain": [
       "false"
      ]
     },
     "execution_count": 90,
     "metadata": {},
     "output_type": "execute_result"
    }
   ],
   "source": [
    "isposdef(A)"
   ]
  },
  {
   "cell_type": "markdown",
   "metadata": {},
   "source": [
    "## More on LinearIndices"
   ]
  },
  {
   "cell_type": "code",
   "execution_count": 2,
   "metadata": {},
   "outputs": [
    {
     "data": {
      "text/plain": [
       "2×2 LinearIndices{2, Tuple{Base.OneTo{Int64}, Base.OneTo{Int64}}}:\n",
       " 1  3\n",
       " 2  4"
      ]
     },
     "execution_count": 2,
     "metadata": {},
     "output_type": "execute_result"
    }
   ],
   "source": [
    "A = [10 20; 30 40]\n",
    "IG = LinearIndices(A)"
   ]
  },
  {
   "cell_type": "code",
   "execution_count": 3,
   "metadata": {},
   "outputs": [
    {
     "name": "stdout",
     "output_type": "stream",
     "text": [
      "search: \u001b[0m\u001b[1mL\u001b[22m\u001b[0m\u001b[1mi\u001b[22m\u001b[0m\u001b[1mn\u001b[22m\u001b[0m\u001b[1me\u001b[22m\u001b[0m\u001b[1ma\u001b[22m\u001b[0m\u001b[1mr\u001b[22m\u001b[0m\u001b[1mI\u001b[22m\u001b[0m\u001b[1mn\u001b[22m\u001b[0m\u001b[1md\u001b[22m\u001b[0m\u001b[1mi\u001b[22m\u001b[0m\u001b[1mc\u001b[22m\u001b[0m\u001b[1me\u001b[22m\u001b[0m\u001b[1ms\u001b[22m\n",
      "\n"
     ]
    },
    {
     "data": {
      "text/latex": [
       "\\begin{verbatim}\n",
       "LinearIndices(A::AbstractArray)\n",
       "\\end{verbatim}\n",
       "Return a \\texttt{LinearIndices} array with the same shape and \\href{@ref}{\\texttt{axes}} as \\texttt{A}, holding the linear index of each entry in \\texttt{A}. Indexing this array with cartesian indices allows mapping them to linear indices.\n",
       "\n",
       "For arrays with conventional indexing (indices start at 1), or any multidimensional array, linear indices range from 1 to \\texttt{length(A)}. However, for \\texttt{AbstractVector}s linear indices are \\texttt{axes(A, 1)}, and therefore do not start at 1 for vectors with unconventional indexing.\n",
       "\n",
       "Calling this function is the \"safe\" way to write algorithms that exploit linear indexing.\n",
       "\n",
       "\\section{Examples}\n",
       "\\begin{verbatim}\n",
       "julia> A = fill(1, (5,6,7));\n",
       "\n",
       "julia> b = LinearIndices(A);\n",
       "\n",
       "julia> extrema(b)\n",
       "(1, 210)\n",
       "\\end{verbatim}\n",
       "\\begin{verbatim}\n",
       "LinearIndices(inds::CartesianIndices) -> R\n",
       "LinearIndices(sz::Dims) -> R\n",
       "LinearIndices((istart:istop, jstart:jstop, ...)) -> R\n",
       "\\end{verbatim}\n",
       "Return a \\texttt{LinearIndices} array with the specified shape or \\href{@ref}{\\texttt{axes}}.\n",
       "\n",
       "\\section{Example}\n",
       "The main purpose of this constructor is intuitive conversion from cartesian to linear indexing:\n",
       "\n",
       "\\begin{verbatim}\n",
       "julia> linear = LinearIndices((1:3, 1:2))\n",
       "3×2 LinearIndices{2, Tuple{UnitRange{Int64}, UnitRange{Int64}}}:\n",
       " 1  4\n",
       " 2  5\n",
       " 3  6\n",
       "\n",
       "julia> linear[1,2]\n",
       "4\n",
       "\\end{verbatim}\n"
      ],
      "text/markdown": [
       "```\n",
       "LinearIndices(A::AbstractArray)\n",
       "```\n",
       "\n",
       "Return a `LinearIndices` array with the same shape and [`axes`](@ref) as `A`, holding the linear index of each entry in `A`. Indexing this array with cartesian indices allows mapping them to linear indices.\n",
       "\n",
       "For arrays with conventional indexing (indices start at 1), or any multidimensional array, linear indices range from 1 to `length(A)`. However, for `AbstractVector`s linear indices are `axes(A, 1)`, and therefore do not start at 1 for vectors with unconventional indexing.\n",
       "\n",
       "Calling this function is the \"safe\" way to write algorithms that exploit linear indexing.\n",
       "\n",
       "# Examples\n",
       "\n",
       "```jldoctest\n",
       "julia> A = fill(1, (5,6,7));\n",
       "\n",
       "julia> b = LinearIndices(A);\n",
       "\n",
       "julia> extrema(b)\n",
       "(1, 210)\n",
       "```\n",
       "\n",
       "```\n",
       "LinearIndices(inds::CartesianIndices) -> R\n",
       "LinearIndices(sz::Dims) -> R\n",
       "LinearIndices((istart:istop, jstart:jstop, ...)) -> R\n",
       "```\n",
       "\n",
       "Return a `LinearIndices` array with the specified shape or [`axes`](@ref).\n",
       "\n",
       "# Example\n",
       "\n",
       "The main purpose of this constructor is intuitive conversion from cartesian to linear indexing:\n",
       "\n",
       "```jldoctest\n",
       "julia> linear = LinearIndices((1:3, 1:2))\n",
       "3×2 LinearIndices{2, Tuple{UnitRange{Int64}, UnitRange{Int64}}}:\n",
       " 1  4\n",
       " 2  5\n",
       " 3  6\n",
       "\n",
       "julia> linear[1,2]\n",
       "4\n",
       "```\n"
      ],
      "text/plain": [
       "  \u001b[38;5;81mLinearIndices\u001b[0m(\u001b[0m\u001b[39mA\u001b[0m\u001b[38;5;81m::\u001b[0m\u001b[38;5;81mAbstractArray\u001b[0m\u001b[39m)\u001b[0m\u001b[39m\u001b[0m\n",
       "\n",
       "\n",
       "  Return a \u001b[36mLinearIndices\u001b[39m array with the same shape and \u001b[36maxes\u001b[39m as \u001b[36mA\u001b[39m, holding the\n",
       "  linear index of each entry in \u001b[36mA\u001b[39m. Indexing this array with cartesian indices\n",
       "  allows mapping them to linear indices.\n",
       "\n",
       "  For arrays with conventional indexing (indices start at 1), or any\n",
       "  multidimensional array, linear indices range from 1 to \u001b[36mlength(A)\u001b[39m. However,\n",
       "  for \u001b[36mAbstractVector\u001b[39ms linear indices are \u001b[36maxes(A, 1)\u001b[39m, and therefore do not\n",
       "  start at 1 for vectors with unconventional indexing.\n",
       "\n",
       "  Calling this function is the \"safe\" way to write algorithms that exploit\n",
       "  linear indexing.\n",
       "\n",
       "\u001b[1m  Examples\u001b[22m\n",
       "\u001b[1m  ≡≡≡≡≡≡≡≡≡≡\u001b[22m\n",
       "\n",
       "  \u001b[31;1mjulia> \u001b[0m\u001b[39mA\u001b[0m \u001b[0m\u001b[38;5;197m=\u001b[0m \u001b[0m\u001b[38;5;81mfill\u001b[0m(\u001b[0m\u001b[38;5;141m1\u001b[0m\u001b[39m,\u001b[0m \u001b[0m(\u001b[0m\u001b[38;5;141m5\u001b[0m\u001b[39m,\u001b[0m\u001b[38;5;141m6\u001b[0m\u001b[39m,\u001b[0m\u001b[38;5;141m7\u001b[0m\u001b[39m)\u001b[0m\u001b[39m)\u001b[0m\u001b[39m;\u001b[0m\n",
       "  \u001b[0m\u001b[39m\u001b[0m\n",
       "  \u001b[31;1mjulia> \u001b[0m\u001b[39mb\u001b[0m \u001b[0m\u001b[38;5;197m=\u001b[0m \u001b[0m\u001b[38;5;81mLinearIndices\u001b[0m(\u001b[0m\u001b[39mA\u001b[0m\u001b[39m)\u001b[0m\u001b[39m;\u001b[0m\n",
       "  \u001b[0m\u001b[39m\u001b[0m\n",
       "  \u001b[31;1mjulia> \u001b[0m\u001b[38;5;81mextrema\u001b[0m(\u001b[0m\u001b[39mb\u001b[0m\u001b[39m)\u001b[0m\n",
       "  \u001b[0m\u001b[39m\u001b[0m(1, 210)\n",
       "\n",
       "\n",
       "  \u001b[38;5;81mLinearIndices\u001b[0m(\u001b[0m\u001b[39minds\u001b[0m\u001b[38;5;81m::\u001b[0m\u001b[38;5;81mCartesianIndices\u001b[0m\u001b[39m)\u001b[0m \u001b[0m\u001b[38;5;197m->\u001b[0m \u001b[0m\u001b[39mR\u001b[0m\n",
       "  \u001b[0m\u001b[38;5;81mLinearIndices\u001b[0m(\u001b[0m\u001b[39msz\u001b[0m\u001b[38;5;81m::\u001b[0m\u001b[38;5;81mDims\u001b[0m\u001b[39m)\u001b[0m \u001b[0m\u001b[38;5;197m->\u001b[0m \u001b[0m\u001b[39mR\u001b[0m\n",
       "  \u001b[0m\u001b[38;5;81mLinearIndices\u001b[0m(\u001b[0m(\u001b[0m\u001b[39mistart\u001b[0m\u001b[38;5;197m:\u001b[0m\u001b[39mistop\u001b[0m\u001b[39m,\u001b[0m \u001b[0m\u001b[39mjstart\u001b[0m\u001b[38;5;197m:\u001b[0m\u001b[39mjstop\u001b[0m\u001b[39m,\u001b[0m \u001b[0m\u001b[38;5;197m...\u001b[0m\u001b[39m)\u001b[0m\u001b[39m)\u001b[0m \u001b[0m\u001b[38;5;197m->\u001b[0m \u001b[0m\u001b[39mR\u001b[0m\u001b[39m\u001b[0m\n",
       "\n",
       "\n",
       "  Return a \u001b[36mLinearIndices\u001b[39m array with the specified shape or \u001b[36maxes\u001b[39m.\n",
       "\n",
       "\u001b[1m  Example\u001b[22m\n",
       "\u001b[1m  ≡≡≡≡≡≡≡≡≡\u001b[22m\n",
       "\n",
       "  The main purpose of this constructor is intuitive conversion from cartesian\n",
       "  to linear indexing:\n",
       "\n",
       "  \u001b[31;1mjulia> \u001b[0m\u001b[39mlinear\u001b[0m \u001b[0m\u001b[38;5;197m=\u001b[0m \u001b[0m\u001b[38;5;81mLinearIndices\u001b[0m(\u001b[0m(\u001b[0m\u001b[38;5;141m1\u001b[0m\u001b[38;5;197m:\u001b[0m\u001b[38;5;141m3\u001b[0m\u001b[39m,\u001b[0m \u001b[0m\u001b[38;5;141m1\u001b[0m\u001b[38;5;197m:\u001b[0m\u001b[38;5;141m2\u001b[0m\u001b[39m)\u001b[0m\u001b[39m)\u001b[0m\n",
       "  \u001b[0m\u001b[39m\u001b[0m3×2 LinearIndices{2, Tuple{UnitRange{Int64}, UnitRange{Int64}}}:\n",
       "   1  4\n",
       "   2  5\n",
       "   3  6\n",
       "  \n",
       "  \u001b[31;1mjulia> \u001b[0m\u001b[39mlinear\u001b[0m\u001b[39m[\u001b[0m\u001b[38;5;141m1\u001b[0m\u001b[39m,\u001b[0m\u001b[38;5;141m2\u001b[0m\u001b[39m]\u001b[0m\n",
       "  \u001b[0m\u001b[39m\u001b[0m4\n"
      ]
     },
     "execution_count": 3,
     "metadata": {},
     "output_type": "execute_result"
    }
   ],
   "source": [
    "?LinearIndices"
   ]
  },
  {
   "cell_type": "code",
   "execution_count": 4,
   "metadata": {},
   "outputs": [
    {
     "name": "stdout",
     "output_type": "stream",
     "text": [
      "search: \u001b[0m\u001b[1ma\u001b[22m\u001b[0m\u001b[1mx\u001b[22m\u001b[0m\u001b[1me\u001b[22m\u001b[0m\u001b[1ms\u001b[22m ProcessF\u001b[0m\u001b[1ma\u001b[22miledE\u001b[0m\u001b[1mx\u001b[22mc\u001b[0m\u001b[1me\u001b[22mption C\u001b[0m\u001b[1ma\u001b[22mpturedE\u001b[0m\u001b[1mx\u001b[22mc\u001b[0m\u001b[1me\u001b[22mption T\u001b[0m\u001b[1ma\u001b[22mskFailedE\u001b[0m\u001b[1mx\u001b[22mc\u001b[0m\u001b[1me\u001b[22mption\n",
      "\n"
     ]
    },
    {
     "data": {
      "text/latex": [
       "\\begin{verbatim}\n",
       "axes(A, d)\n",
       "\\end{verbatim}\n",
       "Return the valid range of indices for array \\texttt{A} along dimension \\texttt{d}.\n",
       "\n",
       "See also \\href{@ref}{\\texttt{size}}, and the manual chapter on \\href{@ref man-custom-indices}{arrays with custom indices}.\n",
       "\n",
       "\\section{Examples}\n",
       "\\begin{verbatim}\n",
       "julia> A = fill(1, (5,6,7));\n",
       "\n",
       "julia> axes(A, 2)\n",
       "Base.OneTo(6)\n",
       "\\end{verbatim}\n",
       "\\section{Usage note}\n",
       "Each of the indices has to be an \\texttt{AbstractUnitRange\\{<:Integer\\}}, but at the same time can be a type that uses custom indices. So, for example, if you need a subset, use generalized indexing constructs like \\texttt{begin}/\\texttt{end} or \\href{@ref}{\\texttt{firstindex}}/\\href{@ref}{\\texttt{lastindex}}:\n",
       "\n",
       "\\begin{verbatim}\n",
       "ix = axes(v, 1)\n",
       "ix[2:end]          # will work for eg Vector, but may fail in general\n",
       "ix[(begin+1):end]  # works for generalized indexes\n",
       "\\end{verbatim}\n",
       "\\rule{\\textwidth}{1pt}\n",
       "\\begin{verbatim}\n",
       "axes(A)\n",
       "\\end{verbatim}\n",
       "Return the tuple of valid indices for array \\texttt{A}.\n",
       "\n",
       "\\section{Examples}\n",
       "\\begin{verbatim}\n",
       "julia> A = fill(1, (5,6,7));\n",
       "\n",
       "julia> axes(A)\n",
       "(Base.OneTo(5), Base.OneTo(6), Base.OneTo(7))\n",
       "\\end{verbatim}\n"
      ],
      "text/markdown": [
       "```\n",
       "axes(A, d)\n",
       "```\n",
       "\n",
       "Return the valid range of indices for array `A` along dimension `d`.\n",
       "\n",
       "See also [`size`](@ref), and the manual chapter on [arrays with custom indices](@ref man-custom-indices).\n",
       "\n",
       "# Examples\n",
       "\n",
       "```jldoctest\n",
       "julia> A = fill(1, (5,6,7));\n",
       "\n",
       "julia> axes(A, 2)\n",
       "Base.OneTo(6)\n",
       "```\n",
       "\n",
       "# Usage note\n",
       "\n",
       "Each of the indices has to be an `AbstractUnitRange{<:Integer}`, but at the same time can be a type that uses custom indices. So, for example, if you need a subset, use generalized indexing constructs like `begin`/`end` or [`firstindex`](@ref)/[`lastindex`](@ref):\n",
       "\n",
       "```julia\n",
       "ix = axes(v, 1)\n",
       "ix[2:end]          # will work for eg Vector, but may fail in general\n",
       "ix[(begin+1):end]  # works for generalized indexes\n",
       "```\n",
       "\n",
       "---\n",
       "\n",
       "```\n",
       "axes(A)\n",
       "```\n",
       "\n",
       "Return the tuple of valid indices for array `A`.\n",
       "\n",
       "# Examples\n",
       "\n",
       "```jldoctest\n",
       "julia> A = fill(1, (5,6,7));\n",
       "\n",
       "julia> axes(A)\n",
       "(Base.OneTo(5), Base.OneTo(6), Base.OneTo(7))\n",
       "```\n"
      ],
      "text/plain": [
       "  \u001b[38;5;81maxes\u001b[0m(\u001b[0m\u001b[39mA\u001b[0m\u001b[39m,\u001b[0m \u001b[0m\u001b[39md\u001b[0m\u001b[39m)\u001b[0m\u001b[39m\u001b[0m\n",
       "\n",
       "\n",
       "  Return the valid range of indices for array \u001b[36mA\u001b[39m along dimension \u001b[36md\u001b[39m.\n",
       "\n",
       "  See also \u001b[36msize\u001b[39m, and the manual chapter on arrays with custom indices.\n",
       "\n",
       "\u001b[1m  Examples\u001b[22m\n",
       "\u001b[1m  ≡≡≡≡≡≡≡≡≡≡\u001b[22m\n",
       "\n",
       "  \u001b[31;1mjulia> \u001b[0m\u001b[39mA\u001b[0m \u001b[0m\u001b[38;5;197m=\u001b[0m \u001b[0m\u001b[38;5;81mfill\u001b[0m(\u001b[0m\u001b[38;5;141m1\u001b[0m\u001b[39m,\u001b[0m \u001b[0m(\u001b[0m\u001b[38;5;141m5\u001b[0m\u001b[39m,\u001b[0m\u001b[38;5;141m6\u001b[0m\u001b[39m,\u001b[0m\u001b[38;5;141m7\u001b[0m\u001b[39m)\u001b[0m\u001b[39m)\u001b[0m\u001b[39m;\u001b[0m\n",
       "  \u001b[0m\u001b[39m\u001b[0m\n",
       "  \u001b[31;1mjulia> \u001b[0m\u001b[38;5;81maxes\u001b[0m(\u001b[0m\u001b[39mA\u001b[0m\u001b[39m,\u001b[0m \u001b[0m\u001b[38;5;141m2\u001b[0m\u001b[39m)\u001b[0m\n",
       "  \u001b[0m\u001b[39m\u001b[0mBase.OneTo(6)\n",
       "\n",
       "\n",
       "\u001b[1m  Usage note\u001b[22m\n",
       "\u001b[1m  ≡≡≡≡≡≡≡≡≡≡≡≡\u001b[22m\n",
       "\n",
       "  Each of the indices has to be an \u001b[36mAbstractUnitRange{<:Integer}\u001b[39m, but at the\n",
       "  same time can be a type that uses custom indices. So, for example, if you\n",
       "  need a subset, use generalized indexing constructs like \u001b[36mbegin\u001b[39m/\u001b[36mend\u001b[39m or\n",
       "  \u001b[36mfirstindex\u001b[39m/\u001b[36mlastindex\u001b[39m:\n",
       "\n",
       "  \u001b[39mix\u001b[0m \u001b[0m\u001b[38;5;197m=\u001b[0m \u001b[0m\u001b[38;5;81maxes\u001b[0m(\u001b[0m\u001b[39mv\u001b[0m\u001b[39m,\u001b[0m \u001b[0m\u001b[38;5;141m1\u001b[0m\u001b[39m)\u001b[0m\n",
       "  \u001b[0m\u001b[39mix\u001b[0m\u001b[39m[\u001b[0m\u001b[38;5;141m2\u001b[0m\u001b[38;5;197m:\u001b[0m\u001b[38;5;197mend\u001b[0m\u001b[39m]\u001b[0m          \u001b[0m\u001b[38;5;240m# will work for eg Vector, but may fail in general\u001b[0m\n",
       "  \u001b[0m\u001b[39mix\u001b[0m\u001b[39m[\u001b[0m(\u001b[0m\u001b[38;5;197mbegin\u001b[0m\u001b[38;5;197m+\u001b[0m\u001b[38;5;141m1\u001b[0m\u001b[39m)\u001b[0m\u001b[38;5;197m:\u001b[0m\u001b[38;5;197mend\u001b[0m\u001b[39m]\u001b[0m  \u001b[0m\u001b[38;5;240m# works for generalized indexes\u001b[0m\u001b[39m\u001b[0m\n",
       "\n",
       "\n",
       "  ────────────────────────────────────────────────────────────────────────────\n",
       "\n",
       "  \u001b[38;5;81maxes\u001b[0m(\u001b[0m\u001b[39mA\u001b[0m\u001b[39m)\u001b[0m\u001b[39m\u001b[0m\n",
       "\n",
       "\n",
       "  Return the tuple of valid indices for array \u001b[36mA\u001b[39m.\n",
       "\n",
       "\u001b[1m  Examples\u001b[22m\n",
       "\u001b[1m  ≡≡≡≡≡≡≡≡≡≡\u001b[22m\n",
       "\n",
       "  \u001b[31;1mjulia> \u001b[0m\u001b[39mA\u001b[0m \u001b[0m\u001b[38;5;197m=\u001b[0m \u001b[0m\u001b[38;5;81mfill\u001b[0m(\u001b[0m\u001b[38;5;141m1\u001b[0m\u001b[39m,\u001b[0m \u001b[0m(\u001b[0m\u001b[38;5;141m5\u001b[0m\u001b[39m,\u001b[0m\u001b[38;5;141m6\u001b[0m\u001b[39m,\u001b[0m\u001b[38;5;141m7\u001b[0m\u001b[39m)\u001b[0m\u001b[39m)\u001b[0m\u001b[39m;\u001b[0m\n",
       "  \u001b[0m\u001b[39m\u001b[0m\n",
       "  \u001b[31;1mjulia> \u001b[0m\u001b[38;5;81maxes\u001b[0m(\u001b[0m\u001b[39mA\u001b[0m\u001b[39m)\u001b[0m\n",
       "  \u001b[0m\u001b[39m\u001b[0m(Base.OneTo(5), Base.OneTo(6), Base.OneTo(7))\n"
      ]
     },
     "execution_count": 4,
     "metadata": {},
     "output_type": "execute_result"
    }
   ],
   "source": [
    "?axes"
   ]
  },
  {
   "cell_type": "code",
   "execution_count": null,
   "metadata": {},
   "outputs": [],
   "source": []
  },
  {
   "cell_type": "code",
   "execution_count": null,
   "metadata": {},
   "outputs": [],
   "source": []
  }
 ],
 "metadata": {
  "kernelspec": {
   "display_name": "Julia 1.8.1",
   "language": "julia",
   "name": "julia-1.8"
  },
  "language_info": {
   "file_extension": ".jl",
   "mimetype": "application/julia",
   "name": "julia",
   "version": "1.8.1"
  }
 },
 "nbformat": 4,
 "nbformat_minor": 2
}
