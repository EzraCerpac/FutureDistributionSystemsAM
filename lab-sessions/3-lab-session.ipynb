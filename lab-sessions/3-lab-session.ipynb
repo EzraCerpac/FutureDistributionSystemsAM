{
 "cells": [
  {
   "cell_type": "markdown",
   "metadata": {},
   "source": [
    "# EE4375-2022: Third Lab Session: Finite Difference Method for the Poisson Equation on the Unit Square"
   ]
  },
  {
   "cell_type": "markdown",
   "metadata": {},
   "source": [
    "Solves the Poisson equation $- \\bigtriangleup u(x,y) = f(x,uy)$ on the unit square domain $\\Omega=(0,1)^2$ supplied with various boundary conditions and various source terms. The finite difference method on a uniform mesh is employed. "
   ]
  },
  {
   "cell_type": "markdown",
   "metadata": {},
   "source": [
    "## Import Packages"
   ]
  },
  {
   "cell_type": "code",
   "execution_count": 1,
   "metadata": {},
   "outputs": [],
   "source": [
    "using LinearAlgebra\n",
    "using SparseArrays\n",
    "using Plots\n",
    "using LaTeXStrings\n",
    "using BenchmarkTools "
   ]
  },
  {
   "cell_type": "markdown",
   "metadata": {},
   "source": [
    "## Section 1/6: (Compulsory) First Example: Two-Dimensional Finite Difference Code"
   ]
  },
  {
   "cell_type": "markdown",
   "metadata": {},
   "source": [
    "The example that follows has an analytical reference solution.   "
   ]
  },
  {
   "cell_type": "markdown",
   "metadata": {},
   "source": [
    "<b> Exercises </b>: \n",
    "1. Mesh indicator matrix IG: print the matrix IG for a small mesh; understand its meaning; plot the matrix IG in such a way that its meaning becomes clear; \n",
    "2. Right-hand side vector f: print its values for a small mesh before and after the use of the reshape command; understand the use of the broadcast (with dot-syntax) to construct the right-hand side vector;\n",
    "3. Kronecker product: for the construction of the matrices Axx and Ayy, the Kronecker product of matrices is used. This product is explained e.g. on https://en.wikipedia.org/wiki/Kronecker_product. Assume that $A = \\begin{pmatrix} 2 & -1 \\\\ -1 & 2\\end{pmatrix}$ and $B = \\begin{pmatrix} 1 & 0 \\\\ 0 & 1\\end{pmatrix}$. Compute $A \\otimes B$ and $B \\otimes A$  . Observe the size of the answer. Observe that $A \\otimes B \\neq B \\otimes A$; extend this example to higher dimensions;  \n",
    "4. Matrix Axx: print the matrix Axx for a small mesh; understand its meaning; construct an auxilary vector g that is linear in x by modifying the function sourceterm(); linear here means a polynomial of degree one in x; multiply Axx and g; observe and explain the result; \n",
    "5. Matrix Ayy: proceed as for Axx; assume the auxilary vector g to be linear in y; \n",
    "6. Computed solution u: compute and plot the finite difference solution u by solving the linear system; \n",
    "7. change the analytical reference solution and the corresponding source term;  "
   ]
  },
  {
   "cell_type": "code",
   "execution_count": 2,
   "metadata": {},
   "outputs": [
    {
     "data": {
      "image/svg+xml": [
       "<?xml version=\"1.0\" encoding=\"utf-8\"?>\n",
       "<svg xmlns=\"http://www.w3.org/2000/svg\" xmlns:xlink=\"http://www.w3.org/1999/xlink\" width=\"600\" height=\"400\" viewBox=\"0 0 2400 1600\">\n",
       "<defs>\n",
       "  <clipPath id=\"clip050\">\n",
       "    <rect x=\"0\" y=\"0\" width=\"2400\" height=\"1600\"/>\n",
       "  </clipPath>\n",
       "</defs>\n",
       "<path clip-path=\"url(#clip050)\" d=\"\n",
       "M0 1600 L2400 1600 L2400 0 L0 0  Z\n",
       "  \" fill=\"#ffffff\" fill-rule=\"evenodd\" fill-opacity=\"1\"/>\n",
       "<defs>\n",
       "  <clipPath id=\"clip051\">\n",
       "    <rect x=\"480\" y=\"0\" width=\"1681\" height=\"1600\"/>\n",
       "  </clipPath>\n",
       "</defs>\n",
       "<path clip-path=\"url(#clip050)\" d=\"\n",
       "M219.866 1423.18 L2112.76 1423.18 L2112.76 47.2441 L219.866 47.2441  Z\n",
       "  \" fill=\"#ffffff\" fill-rule=\"evenodd\" fill-opacity=\"1\"/>\n",
       "<defs>\n",
       "  <clipPath id=\"clip052\">\n",
       "    <rect x=\"219\" y=\"47\" width=\"1894\" height=\"1377\"/>\n",
       "  </clipPath>\n",
       "</defs>\n",
       "<polyline clip-path=\"url(#clip052)\" style=\"stroke:#000000; stroke-linecap:round; stroke-linejoin:round; stroke-width:2; stroke-opacity:0.1; fill:none\" points=\"\n",
       "  219.866,1423.18 219.866,47.2441 \n",
       "  \"/>\n",
       "<polyline clip-path=\"url(#clip052)\" style=\"stroke:#000000; stroke-linecap:round; stroke-linejoin:round; stroke-width:2; stroke-opacity:0.1; fill:none\" points=\"\n",
       "  598.444,1423.18 598.444,47.2441 \n",
       "  \"/>\n",
       "<polyline clip-path=\"url(#clip052)\" style=\"stroke:#000000; stroke-linecap:round; stroke-linejoin:round; stroke-width:2; stroke-opacity:0.1; fill:none\" points=\"\n",
       "  977.022,1423.18 977.022,47.2441 \n",
       "  \"/>\n",
       "<polyline clip-path=\"url(#clip052)\" style=\"stroke:#000000; stroke-linecap:round; stroke-linejoin:round; stroke-width:2; stroke-opacity:0.1; fill:none\" points=\"\n",
       "  1355.6,1423.18 1355.6,47.2441 \n",
       "  \"/>\n",
       "<polyline clip-path=\"url(#clip052)\" style=\"stroke:#000000; stroke-linecap:round; stroke-linejoin:round; stroke-width:2; stroke-opacity:0.1; fill:none\" points=\"\n",
       "  1734.18,1423.18 1734.18,47.2441 \n",
       "  \"/>\n",
       "<polyline clip-path=\"url(#clip052)\" style=\"stroke:#000000; stroke-linecap:round; stroke-linejoin:round; stroke-width:2; stroke-opacity:0.1; fill:none\" points=\"\n",
       "  2112.76,1423.18 2112.76,47.2441 \n",
       "  \"/>\n",
       "<polyline clip-path=\"url(#clip050)\" style=\"stroke:#000000; stroke-linecap:round; stroke-linejoin:round; stroke-width:4; stroke-opacity:1; fill:none\" points=\"\n",
       "  219.866,1423.18 2112.76,1423.18 \n",
       "  \"/>\n",
       "<polyline clip-path=\"url(#clip050)\" style=\"stroke:#000000; stroke-linecap:round; stroke-linejoin:round; stroke-width:4; stroke-opacity:1; fill:none\" points=\"\n",
       "  219.866,1423.18 219.866,1404.28 \n",
       "  \"/>\n",
       "<polyline clip-path=\"url(#clip050)\" style=\"stroke:#000000; stroke-linecap:round; stroke-linejoin:round; stroke-width:4; stroke-opacity:1; fill:none\" points=\"\n",
       "  598.444,1423.18 598.444,1404.28 \n",
       "  \"/>\n",
       "<polyline clip-path=\"url(#clip050)\" style=\"stroke:#000000; stroke-linecap:round; stroke-linejoin:round; stroke-width:4; stroke-opacity:1; fill:none\" points=\"\n",
       "  977.022,1423.18 977.022,1404.28 \n",
       "  \"/>\n",
       "<polyline clip-path=\"url(#clip050)\" style=\"stroke:#000000; stroke-linecap:round; stroke-linejoin:round; stroke-width:4; stroke-opacity:1; fill:none\" points=\"\n",
       "  1355.6,1423.18 1355.6,1404.28 \n",
       "  \"/>\n",
       "<polyline clip-path=\"url(#clip050)\" style=\"stroke:#000000; stroke-linecap:round; stroke-linejoin:round; stroke-width:4; stroke-opacity:1; fill:none\" points=\"\n",
       "  1734.18,1423.18 1734.18,1404.28 \n",
       "  \"/>\n",
       "<polyline clip-path=\"url(#clip050)\" style=\"stroke:#000000; stroke-linecap:round; stroke-linejoin:round; stroke-width:4; stroke-opacity:1; fill:none\" points=\"\n",
       "  2112.76,1423.18 2112.76,1404.28 \n",
       "  \"/>\n",
       "<path clip-path=\"url(#clip050)\" d=\"M197.251 1454.1 Q193.64 1454.1 191.811 1457.66 Q190.005 1461.2 190.005 1468.33 Q190.005 1475.44 191.811 1479.01 Q193.64 1482.55 197.251 1482.55 Q200.885 1482.55 202.69 1479.01 Q204.519 1475.44 204.519 1468.33 Q204.519 1461.2 202.69 1457.66 Q200.885 1454.1 197.251 1454.1 M197.251 1450.39 Q203.061 1450.39 206.116 1455 Q209.195 1459.58 209.195 1468.33 Q209.195 1477.06 206.116 1481.67 Q203.061 1486.25 197.251 1486.25 Q191.44 1486.25 188.362 1481.67 Q185.306 1477.06 185.306 1468.33 Q185.306 1459.58 188.362 1455 Q191.44 1450.39 197.251 1450.39 Z\" fill=\"#000000\" fill-rule=\"evenodd\" fill-opacity=\"1\" /><path clip-path=\"url(#clip050)\" d=\"M217.413 1479.7 L222.297 1479.7 L222.297 1485.58 L217.413 1485.58 L217.413 1479.7 Z\" fill=\"#000000\" fill-rule=\"evenodd\" fill-opacity=\"1\" /><path clip-path=\"url(#clip050)\" d=\"M242.482 1454.1 Q238.871 1454.1 237.042 1457.66 Q235.237 1461.2 235.237 1468.33 Q235.237 1475.44 237.042 1479.01 Q238.871 1482.55 242.482 1482.55 Q246.116 1482.55 247.922 1479.01 Q249.75 1475.44 249.75 1468.33 Q249.75 1461.2 247.922 1457.66 Q246.116 1454.1 242.482 1454.1 M242.482 1450.39 Q248.292 1450.39 251.348 1455 Q254.426 1459.58 254.426 1468.33 Q254.426 1477.06 251.348 1481.67 Q248.292 1486.25 242.482 1486.25 Q236.672 1486.25 233.593 1481.67 Q230.538 1477.06 230.538 1468.33 Q230.538 1459.58 233.593 1455 Q236.672 1450.39 242.482 1450.39 Z\" fill=\"#000000\" fill-rule=\"evenodd\" fill-opacity=\"1\" /><path clip-path=\"url(#clip050)\" d=\"M576.627 1454.1 Q573.016 1454.1 571.187 1457.66 Q569.382 1461.2 569.382 1468.33 Q569.382 1475.44 571.187 1479.01 Q573.016 1482.55 576.627 1482.55 Q580.261 1482.55 582.067 1479.01 Q583.896 1475.44 583.896 1468.33 Q583.896 1461.2 582.067 1457.66 Q580.261 1454.1 576.627 1454.1 M576.627 1450.39 Q582.437 1450.39 585.493 1455 Q588.572 1459.58 588.572 1468.33 Q588.572 1477.06 585.493 1481.67 Q582.437 1486.25 576.627 1486.25 Q570.817 1486.25 567.738 1481.67 Q564.683 1477.06 564.683 1468.33 Q564.683 1459.58 567.738 1455 Q570.817 1450.39 576.627 1450.39 Z\" fill=\"#000000\" fill-rule=\"evenodd\" fill-opacity=\"1\" /><path clip-path=\"url(#clip050)\" d=\"M596.789 1479.7 L601.673 1479.7 L601.673 1485.58 L596.789 1485.58 L596.789 1479.7 Z\" fill=\"#000000\" fill-rule=\"evenodd\" fill-opacity=\"1\" /><path clip-path=\"url(#clip050)\" d=\"M615.886 1481.64 L632.206 1481.64 L632.206 1485.58 L610.261 1485.58 L610.261 1481.64 Q612.923 1478.89 617.507 1474.26 Q622.113 1469.61 623.294 1468.27 Q625.539 1465.74 626.419 1464.01 Q627.321 1462.25 627.321 1460.56 Q627.321 1457.8 625.377 1456.07 Q623.456 1454.33 620.354 1454.33 Q618.155 1454.33 615.701 1455.09 Q613.271 1455.86 610.493 1457.41 L610.493 1452.69 Q613.317 1451.55 615.77 1450.97 Q618.224 1450.39 620.261 1450.39 Q625.632 1450.39 628.826 1453.08 Q632.02 1455.77 632.02 1460.26 Q632.02 1462.39 631.21 1464.31 Q630.423 1466.2 628.317 1468.8 Q627.738 1469.47 624.636 1472.69 Q621.534 1475.88 615.886 1481.64 Z\" fill=\"#000000\" fill-rule=\"evenodd\" fill-opacity=\"1\" /><path clip-path=\"url(#clip050)\" d=\"M954.163 1454.1 Q950.552 1454.1 948.724 1457.66 Q946.918 1461.2 946.918 1468.33 Q946.918 1475.44 948.724 1479.01 Q950.552 1482.55 954.163 1482.55 Q957.798 1482.55 959.603 1479.01 Q961.432 1475.44 961.432 1468.33 Q961.432 1461.2 959.603 1457.66 Q957.798 1454.1 954.163 1454.1 M954.163 1450.39 Q959.974 1450.39 963.029 1455 Q966.108 1459.58 966.108 1468.33 Q966.108 1477.06 963.029 1481.67 Q959.974 1486.25 954.163 1486.25 Q948.353 1486.25 945.275 1481.67 Q942.219 1477.06 942.219 1468.33 Q942.219 1459.58 945.275 1455 Q948.353 1450.39 954.163 1450.39 Z\" fill=\"#000000\" fill-rule=\"evenodd\" fill-opacity=\"1\" /><path clip-path=\"url(#clip050)\" d=\"M974.325 1479.7 L979.21 1479.7 L979.21 1485.58 L974.325 1485.58 L974.325 1479.7 Z\" fill=\"#000000\" fill-rule=\"evenodd\" fill-opacity=\"1\" /><path clip-path=\"url(#clip050)\" d=\"M1002.24 1455.09 L990.436 1473.54 L1002.24 1473.54 L1002.24 1455.09 M1001.02 1451.02 L1006.89 1451.02 L1006.89 1473.54 L1011.83 1473.54 L1011.83 1477.43 L1006.89 1477.43 L1006.89 1485.58 L1002.24 1485.58 L1002.24 1477.43 L986.64 1477.43 L986.64 1472.92 L1001.02 1451.02 Z\" fill=\"#000000\" fill-rule=\"evenodd\" fill-opacity=\"1\" /><path clip-path=\"url(#clip050)\" d=\"M1332.9 1454.1 Q1329.29 1454.1 1327.46 1457.66 Q1325.66 1461.2 1325.66 1468.33 Q1325.66 1475.44 1327.46 1479.01 Q1329.29 1482.55 1332.9 1482.55 Q1336.54 1482.55 1338.34 1479.01 Q1340.17 1475.44 1340.17 1468.33 Q1340.17 1461.2 1338.34 1457.66 Q1336.54 1454.1 1332.9 1454.1 M1332.9 1450.39 Q1338.71 1450.39 1341.77 1455 Q1344.85 1459.58 1344.85 1468.33 Q1344.85 1477.06 1341.77 1481.67 Q1338.71 1486.25 1332.9 1486.25 Q1327.09 1486.25 1324.01 1481.67 Q1320.96 1477.06 1320.96 1468.33 Q1320.96 1459.58 1324.01 1455 Q1327.09 1450.39 1332.9 1450.39 Z\" fill=\"#000000\" fill-rule=\"evenodd\" fill-opacity=\"1\" /><path clip-path=\"url(#clip050)\" d=\"M1353.07 1479.7 L1357.95 1479.7 L1357.95 1485.58 L1353.07 1485.58 L1353.07 1479.7 Z\" fill=\"#000000\" fill-rule=\"evenodd\" fill-opacity=\"1\" /><path clip-path=\"url(#clip050)\" d=\"M1378.71 1466.44 Q1375.57 1466.44 1373.71 1468.59 Q1371.88 1470.74 1371.88 1474.49 Q1371.88 1478.22 1373.71 1480.39 Q1375.57 1482.55 1378.71 1482.55 Q1381.86 1482.55 1383.69 1480.39 Q1385.54 1478.22 1385.54 1474.49 Q1385.54 1470.74 1383.69 1468.59 Q1381.86 1466.44 1378.71 1466.44 M1388 1451.78 L1388 1456.04 Q1386.24 1455.21 1384.43 1454.77 Q1382.65 1454.33 1380.89 1454.33 Q1376.26 1454.33 1373.81 1457.45 Q1371.38 1460.58 1371.03 1466.9 Q1372.39 1464.89 1374.45 1463.82 Q1376.51 1462.73 1378.99 1462.73 Q1384.2 1462.73 1387.21 1465.9 Q1390.24 1469.05 1390.24 1474.49 Q1390.24 1479.82 1387.09 1483.03 Q1383.94 1486.25 1378.71 1486.25 Q1372.72 1486.25 1369.55 1481.67 Q1366.38 1477.06 1366.38 1468.33 Q1366.38 1460.14 1370.26 1455.28 Q1374.15 1450.39 1380.7 1450.39 Q1382.46 1450.39 1384.25 1450.74 Q1386.05 1451.09 1388 1451.78 Z\" fill=\"#000000\" fill-rule=\"evenodd\" fill-opacity=\"1\" /><path clip-path=\"url(#clip050)\" d=\"M1711.61 1454.1 Q1708 1454.1 1706.17 1457.66 Q1704.36 1461.2 1704.36 1468.33 Q1704.36 1475.44 1706.17 1479.01 Q1708 1482.55 1711.61 1482.55 Q1715.24 1482.55 1717.05 1479.01 Q1718.88 1475.44 1718.88 1468.33 Q1718.88 1461.2 1717.05 1457.66 Q1715.24 1454.1 1711.61 1454.1 M1711.61 1450.39 Q1717.42 1450.39 1720.47 1455 Q1723.55 1459.58 1723.55 1468.33 Q1723.55 1477.06 1720.47 1481.67 Q1717.42 1486.25 1711.61 1486.25 Q1705.8 1486.25 1702.72 1481.67 Q1699.66 1477.06 1699.66 1468.33 Q1699.66 1459.58 1702.72 1455 Q1705.8 1450.39 1711.61 1450.39 Z\" fill=\"#000000\" fill-rule=\"evenodd\" fill-opacity=\"1\" /><path clip-path=\"url(#clip050)\" d=\"M1731.77 1479.7 L1736.65 1479.7 L1736.65 1485.58 L1731.77 1485.58 L1731.77 1479.7 Z\" fill=\"#000000\" fill-rule=\"evenodd\" fill-opacity=\"1\" /><path clip-path=\"url(#clip050)\" d=\"M1756.84 1469.17 Q1753.51 1469.17 1751.59 1470.95 Q1749.69 1472.73 1749.69 1475.86 Q1749.69 1478.98 1751.59 1480.77 Q1753.51 1482.55 1756.84 1482.55 Q1760.17 1482.55 1762.09 1480.77 Q1764.02 1478.96 1764.02 1475.86 Q1764.02 1472.73 1762.09 1470.95 Q1760.2 1469.17 1756.84 1469.17 M1752.16 1467.18 Q1749.15 1466.44 1747.46 1464.38 Q1745.8 1462.32 1745.8 1459.35 Q1745.8 1455.21 1748.74 1452.8 Q1751.7 1450.39 1756.84 1450.39 Q1762 1450.39 1764.94 1452.8 Q1767.88 1455.21 1767.88 1459.35 Q1767.88 1462.32 1766.19 1464.38 Q1764.53 1466.44 1761.54 1467.18 Q1764.92 1467.96 1766.79 1470.26 Q1768.69 1472.55 1768.69 1475.86 Q1768.69 1480.88 1765.61 1483.57 Q1762.56 1486.25 1756.84 1486.25 Q1751.12 1486.25 1748.04 1483.57 Q1744.99 1480.88 1744.99 1475.86 Q1744.99 1472.55 1746.89 1470.26 Q1748.78 1467.96 1752.16 1467.18 M1750.45 1459.79 Q1750.45 1462.48 1752.12 1463.98 Q1753.81 1465.49 1756.84 1465.49 Q1759.85 1465.49 1761.54 1463.98 Q1763.25 1462.48 1763.25 1459.79 Q1763.25 1457.11 1761.54 1455.6 Q1759.85 1454.1 1756.84 1454.1 Q1753.81 1454.1 1752.12 1455.6 Q1750.45 1457.11 1750.45 1459.79 Z\" fill=\"#000000\" fill-rule=\"evenodd\" fill-opacity=\"1\" /><path clip-path=\"url(#clip050)\" d=\"M2079.91 1481.64 L2087.55 1481.64 L2087.55 1455.28 L2079.24 1456.95 L2079.24 1452.69 L2087.5 1451.02 L2092.18 1451.02 L2092.18 1481.64 L2099.82 1481.64 L2099.82 1485.58 L2079.91 1485.58 L2079.91 1481.64 Z\" fill=\"#000000\" fill-rule=\"evenodd\" fill-opacity=\"1\" /><path clip-path=\"url(#clip050)\" d=\"M2109.26 1479.7 L2114.14 1479.7 L2114.14 1485.58 L2109.26 1485.58 L2109.26 1479.7 Z\" fill=\"#000000\" fill-rule=\"evenodd\" fill-opacity=\"1\" /><path clip-path=\"url(#clip050)\" d=\"M2134.33 1454.1 Q2130.72 1454.1 2128.89 1457.66 Q2127.08 1461.2 2127.08 1468.33 Q2127.08 1475.44 2128.89 1479.01 Q2130.72 1482.55 2134.33 1482.55 Q2137.96 1482.55 2139.77 1479.01 Q2141.6 1475.44 2141.6 1468.33 Q2141.6 1461.2 2139.77 1457.66 Q2137.96 1454.1 2134.33 1454.1 M2134.33 1450.39 Q2140.14 1450.39 2143.2 1455 Q2146.27 1459.58 2146.27 1468.33 Q2146.27 1477.06 2143.2 1481.67 Q2140.14 1486.25 2134.33 1486.25 Q2128.52 1486.25 2125.44 1481.67 Q2122.39 1477.06 2122.39 1468.33 Q2122.39 1459.58 2125.44 1455 Q2128.52 1450.39 2134.33 1450.39 Z\" fill=\"#000000\" fill-rule=\"evenodd\" fill-opacity=\"1\" /><path clip-path=\"url(#clip050)\" d=\"M1182.93 1532.4 L1170.04 1549.74 L1183.59 1568.04 L1176.69 1568.04 L1166.31 1554.04 L1155.93 1568.04 L1149.03 1568.04 L1162.87 1549.39 L1150.21 1532.4 L1157.11 1532.4 L1166.57 1545.1 L1176.02 1532.4 L1182.93 1532.4 Z\" fill=\"#000000\" fill-rule=\"evenodd\" fill-opacity=\"1\" /><polyline clip-path=\"url(#clip052)\" style=\"stroke:#000000; stroke-linecap:round; stroke-linejoin:round; stroke-width:2; stroke-opacity:0.1; fill:none\" points=\"\n",
       "  219.866,1423.18 2112.76,1423.18 \n",
       "  \"/>\n",
       "<polyline clip-path=\"url(#clip052)\" style=\"stroke:#000000; stroke-linecap:round; stroke-linejoin:round; stroke-width:2; stroke-opacity:0.1; fill:none\" points=\"\n",
       "  219.866,1147.99 2112.76,1147.99 \n",
       "  \"/>\n",
       "<polyline clip-path=\"url(#clip052)\" style=\"stroke:#000000; stroke-linecap:round; stroke-linejoin:round; stroke-width:2; stroke-opacity:0.1; fill:none\" points=\"\n",
       "  219.866,872.806 2112.76,872.806 \n",
       "  \"/>\n",
       "<polyline clip-path=\"url(#clip052)\" style=\"stroke:#000000; stroke-linecap:round; stroke-linejoin:round; stroke-width:2; stroke-opacity:0.1; fill:none\" points=\"\n",
       "  219.866,597.618 2112.76,597.618 \n",
       "  \"/>\n",
       "<polyline clip-path=\"url(#clip052)\" style=\"stroke:#000000; stroke-linecap:round; stroke-linejoin:round; stroke-width:2; stroke-opacity:0.1; fill:none\" points=\"\n",
       "  219.866,322.431 2112.76,322.431 \n",
       "  \"/>\n",
       "<polyline clip-path=\"url(#clip052)\" style=\"stroke:#000000; stroke-linecap:round; stroke-linejoin:round; stroke-width:2; stroke-opacity:0.1; fill:none\" points=\"\n",
       "  219.866,47.2441 2112.76,47.2441 \n",
       "  \"/>\n",
       "<polyline clip-path=\"url(#clip050)\" style=\"stroke:#000000; stroke-linecap:round; stroke-linejoin:round; stroke-width:4; stroke-opacity:1; fill:none\" points=\"\n",
       "  219.866,1423.18 219.866,47.2441 \n",
       "  \"/>\n",
       "<polyline clip-path=\"url(#clip050)\" style=\"stroke:#000000; stroke-linecap:round; stroke-linejoin:round; stroke-width:4; stroke-opacity:1; fill:none\" points=\"\n",
       "  219.866,1423.18 236.637,1423.18 \n",
       "  \"/>\n",
       "<polyline clip-path=\"url(#clip050)\" style=\"stroke:#000000; stroke-linecap:round; stroke-linejoin:round; stroke-width:4; stroke-opacity:1; fill:none\" points=\"\n",
       "  219.866,1147.99 236.637,1147.99 \n",
       "  \"/>\n",
       "<polyline clip-path=\"url(#clip050)\" style=\"stroke:#000000; stroke-linecap:round; stroke-linejoin:round; stroke-width:4; stroke-opacity:1; fill:none\" points=\"\n",
       "  219.866,872.806 236.637,872.806 \n",
       "  \"/>\n",
       "<polyline clip-path=\"url(#clip050)\" style=\"stroke:#000000; stroke-linecap:round; stroke-linejoin:round; stroke-width:4; stroke-opacity:1; fill:none\" points=\"\n",
       "  219.866,597.618 236.637,597.618 \n",
       "  \"/>\n",
       "<polyline clip-path=\"url(#clip050)\" style=\"stroke:#000000; stroke-linecap:round; stroke-linejoin:round; stroke-width:4; stroke-opacity:1; fill:none\" points=\"\n",
       "  219.866,322.431 236.637,322.431 \n",
       "  \"/>\n",
       "<polyline clip-path=\"url(#clip050)\" style=\"stroke:#000000; stroke-linecap:round; stroke-linejoin:round; stroke-width:4; stroke-opacity:1; fill:none\" points=\"\n",
       "  219.866,47.2441 236.637,47.2441 \n",
       "  \"/>\n",
       "<path clip-path=\"url(#clip050)\" d=\"M126.691 1408.98 Q123.08 1408.98 121.251 1412.54 Q119.445 1416.08 119.445 1423.21 Q119.445 1430.32 121.251 1433.89 Q123.08 1437.43 126.691 1437.43 Q130.325 1437.43 132.13 1433.89 Q133.959 1430.32 133.959 1423.21 Q133.959 1416.08 132.13 1412.54 Q130.325 1408.98 126.691 1408.98 M126.691 1405.27 Q132.501 1405.27 135.556 1409.88 Q138.635 1414.46 138.635 1423.21 Q138.635 1431.94 135.556 1436.55 Q132.501 1441.13 126.691 1441.13 Q120.88 1441.13 117.802 1436.55 Q114.746 1431.94 114.746 1423.21 Q114.746 1414.46 117.802 1409.88 Q120.88 1405.27 126.691 1405.27 Z\" fill=\"#000000\" fill-rule=\"evenodd\" fill-opacity=\"1\" /><path clip-path=\"url(#clip050)\" d=\"M146.853 1434.58 L151.737 1434.58 L151.737 1440.46 L146.853 1440.46 L146.853 1434.58 Z\" fill=\"#000000\" fill-rule=\"evenodd\" fill-opacity=\"1\" /><path clip-path=\"url(#clip050)\" d=\"M171.922 1408.98 Q168.311 1408.98 166.482 1412.54 Q164.677 1416.08 164.677 1423.21 Q164.677 1430.32 166.482 1433.89 Q168.311 1437.43 171.922 1437.43 Q175.556 1437.43 177.362 1433.89 Q179.19 1430.32 179.19 1423.21 Q179.19 1416.08 177.362 1412.54 Q175.556 1408.98 171.922 1408.98 M171.922 1405.27 Q177.732 1405.27 180.788 1409.88 Q183.866 1414.46 183.866 1423.21 Q183.866 1431.94 180.788 1436.55 Q177.732 1441.13 171.922 1441.13 Q166.112 1441.13 163.033 1436.55 Q159.978 1431.94 159.978 1423.21 Q159.978 1414.46 163.033 1409.88 Q166.112 1405.27 171.922 1405.27 Z\" fill=\"#000000\" fill-rule=\"evenodd\" fill-opacity=\"1\" /><path clip-path=\"url(#clip050)\" d=\"M128.288 1133.79 Q124.677 1133.79 122.848 1137.36 Q121.043 1140.9 121.043 1148.03 Q121.043 1155.13 122.848 1158.7 Q124.677 1162.24 128.288 1162.24 Q131.922 1162.24 133.728 1158.7 Q135.556 1155.13 135.556 1148.03 Q135.556 1140.9 133.728 1137.36 Q131.922 1133.79 128.288 1133.79 M128.288 1130.09 Q134.098 1130.09 137.154 1134.69 Q140.232 1139.28 140.232 1148.03 Q140.232 1156.75 137.154 1161.36 Q134.098 1165.94 128.288 1165.94 Q122.478 1165.94 119.399 1161.36 Q116.343 1156.75 116.343 1148.03 Q116.343 1139.28 119.399 1134.69 Q122.478 1130.09 128.288 1130.09 Z\" fill=\"#000000\" fill-rule=\"evenodd\" fill-opacity=\"1\" /><path clip-path=\"url(#clip050)\" d=\"M148.45 1159.39 L153.334 1159.39 L153.334 1165.27 L148.45 1165.27 L148.45 1159.39 Z\" fill=\"#000000\" fill-rule=\"evenodd\" fill-opacity=\"1\" /><path clip-path=\"url(#clip050)\" d=\"M167.547 1161.34 L183.866 1161.34 L183.866 1165.27 L161.922 1165.27 L161.922 1161.34 Q164.584 1158.58 169.167 1153.95 Q173.774 1149.3 174.954 1147.96 Q177.2 1145.43 178.079 1143.7 Q178.982 1141.94 178.982 1140.25 Q178.982 1137.5 177.038 1135.76 Q175.116 1134.02 172.014 1134.02 Q169.815 1134.02 167.362 1134.79 Q164.931 1135.55 162.153 1137.1 L162.153 1132.38 Q164.977 1131.25 167.431 1130.67 Q169.885 1130.09 171.922 1130.09 Q177.292 1130.09 180.487 1132.77 Q183.681 1135.46 183.681 1139.95 Q183.681 1142.08 182.871 1144 Q182.084 1145.9 179.977 1148.49 Q179.399 1149.16 176.297 1152.38 Q173.195 1155.57 167.547 1161.34 Z\" fill=\"#000000\" fill-rule=\"evenodd\" fill-opacity=\"1\" /><path clip-path=\"url(#clip050)\" d=\"M126.205 858.604 Q122.593 858.604 120.765 862.169 Q118.959 865.711 118.959 872.84 Q118.959 879.947 120.765 883.512 Q122.593 887.053 126.205 887.053 Q129.839 887.053 131.644 883.512 Q133.473 879.947 133.473 872.84 Q133.473 865.711 131.644 862.169 Q129.839 858.604 126.205 858.604 M126.205 854.901 Q132.015 854.901 135.07 859.507 Q138.149 864.09 138.149 872.84 Q138.149 881.567 135.07 886.174 Q132.015 890.757 126.205 890.757 Q120.394 890.757 117.316 886.174 Q114.26 881.567 114.26 872.84 Q114.26 864.09 117.316 859.507 Q120.394 854.901 126.205 854.901 Z\" fill=\"#000000\" fill-rule=\"evenodd\" fill-opacity=\"1\" /><path clip-path=\"url(#clip050)\" d=\"M146.366 884.206 L151.251 884.206 L151.251 890.086 L146.366 890.086 L146.366 884.206 Z\" fill=\"#000000\" fill-rule=\"evenodd\" fill-opacity=\"1\" /><path clip-path=\"url(#clip050)\" d=\"M174.283 859.6 L162.477 878.049 L174.283 878.049 L174.283 859.6 M173.056 855.526 L178.936 855.526 L178.936 878.049 L183.866 878.049 L183.866 881.937 L178.936 881.937 L178.936 890.086 L174.283 890.086 L174.283 881.937 L158.681 881.937 L158.681 877.424 L173.056 855.526 Z\" fill=\"#000000\" fill-rule=\"evenodd\" fill-opacity=\"1\" /><path clip-path=\"url(#clip050)\" d=\"M126.529 583.417 Q122.918 583.417 121.089 586.982 Q119.283 590.524 119.283 597.653 Q119.283 604.76 121.089 608.324 Q122.918 611.866 126.529 611.866 Q130.163 611.866 131.968 608.324 Q133.797 604.76 133.797 597.653 Q133.797 590.524 131.968 586.982 Q130.163 583.417 126.529 583.417 M126.529 579.713 Q132.339 579.713 135.394 584.32 Q138.473 588.903 138.473 597.653 Q138.473 606.38 135.394 610.986 Q132.339 615.57 126.529 615.57 Q120.718 615.57 117.64 610.986 Q114.584 606.38 114.584 597.653 Q114.584 588.903 117.64 584.32 Q120.718 579.713 126.529 579.713 Z\" fill=\"#000000\" fill-rule=\"evenodd\" fill-opacity=\"1\" /><path clip-path=\"url(#clip050)\" d=\"M146.691 609.019 L151.575 609.019 L151.575 614.898 L146.691 614.898 L146.691 609.019 Z\" fill=\"#000000\" fill-rule=\"evenodd\" fill-opacity=\"1\" /><path clip-path=\"url(#clip050)\" d=\"M172.339 595.755 Q169.19 595.755 167.339 597.908 Q165.51 600.061 165.51 603.81 Q165.51 607.537 167.339 609.713 Q169.19 611.866 172.339 611.866 Q175.487 611.866 177.315 609.713 Q179.167 607.537 179.167 603.81 Q179.167 600.061 177.315 597.908 Q175.487 595.755 172.339 595.755 M181.621 581.102 L181.621 585.362 Q179.862 584.528 178.056 584.088 Q176.274 583.649 174.514 583.649 Q169.885 583.649 167.431 586.774 Q165.001 589.899 164.653 596.218 Q166.019 594.204 168.079 593.139 Q170.139 592.051 172.616 592.051 Q177.825 592.051 180.834 595.223 Q183.866 598.371 183.866 603.81 Q183.866 609.135 180.718 612.352 Q177.57 615.57 172.339 615.57 Q166.343 615.57 163.172 610.986 Q160.001 606.38 160.001 597.653 Q160.001 589.459 163.89 584.598 Q167.778 579.713 174.329 579.713 Q176.089 579.713 177.871 580.061 Q179.676 580.408 181.621 581.102 Z\" fill=\"#000000\" fill-rule=\"evenodd\" fill-opacity=\"1\" /><path clip-path=\"url(#clip050)\" d=\"M126.783 308.23 Q123.172 308.23 121.343 311.795 Q119.538 315.336 119.538 322.466 Q119.538 329.572 121.343 333.137 Q123.172 336.679 126.783 336.679 Q130.417 336.679 132.223 333.137 Q134.052 329.572 134.052 322.466 Q134.052 315.336 132.223 311.795 Q130.417 308.23 126.783 308.23 M126.783 304.526 Q132.593 304.526 135.649 309.133 Q138.728 313.716 138.728 322.466 Q138.728 331.193 135.649 335.799 Q132.593 340.383 126.783 340.383 Q120.973 340.383 117.894 335.799 Q114.839 331.193 114.839 322.466 Q114.839 313.716 117.894 309.133 Q120.973 304.526 126.783 304.526 Z\" fill=\"#000000\" fill-rule=\"evenodd\" fill-opacity=\"1\" /><path clip-path=\"url(#clip050)\" d=\"M146.945 333.832 L151.829 333.832 L151.829 339.711 L146.945 339.711 L146.945 333.832 Z\" fill=\"#000000\" fill-rule=\"evenodd\" fill-opacity=\"1\" /><path clip-path=\"url(#clip050)\" d=\"M172.014 323.299 Q168.681 323.299 166.76 325.082 Q164.862 326.864 164.862 329.989 Q164.862 333.114 166.76 334.896 Q168.681 336.679 172.014 336.679 Q175.348 336.679 177.269 334.896 Q179.19 333.091 179.19 329.989 Q179.19 326.864 177.269 325.082 Q175.371 323.299 172.014 323.299 M167.339 321.309 Q164.329 320.568 162.64 318.508 Q160.973 316.447 160.973 313.485 Q160.973 309.341 163.913 306.934 Q166.876 304.526 172.014 304.526 Q177.176 304.526 180.116 306.934 Q183.056 309.341 183.056 313.485 Q183.056 316.447 181.366 318.508 Q179.7 320.568 176.714 321.309 Q180.093 322.096 181.968 324.387 Q183.866 326.679 183.866 329.989 Q183.866 335.012 180.788 337.697 Q177.732 340.383 172.014 340.383 Q166.297 340.383 163.218 337.697 Q160.163 335.012 160.163 329.989 Q160.163 326.679 162.061 324.387 Q163.959 322.096 167.339 321.309 M165.626 313.924 Q165.626 316.61 167.292 318.114 Q168.982 319.619 172.014 319.619 Q175.024 319.619 176.714 318.114 Q178.426 316.61 178.426 313.924 Q178.426 311.239 176.714 309.735 Q175.024 308.23 172.014 308.23 Q168.982 308.23 167.292 309.735 Q165.626 311.239 165.626 313.924 Z\" fill=\"#000000\" fill-rule=\"evenodd\" fill-opacity=\"1\" /><path clip-path=\"url(#clip050)\" d=\"M117.501 60.5889 L125.14 60.5889 L125.14 34.2233 L116.83 35.89 L116.83 31.6308 L125.093 29.9641 L129.769 29.9641 L129.769 60.5889 L137.408 60.5889 L137.408 64.5241 L117.501 64.5241 L117.501 60.5889 Z\" fill=\"#000000\" fill-rule=\"evenodd\" fill-opacity=\"1\" /><path clip-path=\"url(#clip050)\" d=\"M146.853 58.6445 L151.737 58.6445 L151.737 64.5241 L146.853 64.5241 L146.853 58.6445 Z\" fill=\"#000000\" fill-rule=\"evenodd\" fill-opacity=\"1\" /><path clip-path=\"url(#clip050)\" d=\"M171.922 33.0428 Q168.311 33.0428 166.482 36.6076 Q164.677 40.1492 164.677 47.2788 Q164.677 54.3853 166.482 57.9501 Q168.311 61.4917 171.922 61.4917 Q175.556 61.4917 177.362 57.9501 Q179.19 54.3853 179.19 47.2788 Q179.19 40.1492 177.362 36.6076 Q175.556 33.0428 171.922 33.0428 M171.922 29.3391 Q177.732 29.3391 180.788 33.9456 Q183.866 38.5289 183.866 47.2788 Q183.866 56.0056 180.788 60.6121 Q177.732 65.1954 171.922 65.1954 Q166.112 65.1954 163.033 60.6121 Q159.978 56.0056 159.978 47.2788 Q159.978 38.5289 163.033 33.9456 Q166.112 29.3391 171.922 29.3391 Z\" fill=\"#000000\" fill-rule=\"evenodd\" fill-opacity=\"1\" /><path clip-path=\"url(#clip050)\" d=\"M67.3143 733.525 Q73.68 736.008 75.6216 738.363 Q77.5631 740.718 77.5631 744.665 L77.5631 749.344 L72.6615 749.344 L72.6615 745.906 Q72.6615 743.487 71.5157 742.151 Q70.3699 740.814 66.1048 739.191 L63.4312 738.14 L28.3562 752.559 L28.3562 746.352 L56.238 735.212 L28.3562 724.072 L28.3562 717.865 L67.3143 733.525 Z\" fill=\"#000000\" fill-rule=\"evenodd\" fill-opacity=\"1\" /><polyline clip-path=\"url(#clip052)\" style=\"stroke:#090621; stroke-linecap:round; stroke-linejoin:round; stroke-width:4; stroke-opacity:1; fill:none\" points=\"\n",
       "  850.829,1394.51 259.301,964.535 259.301,505.889 850.829,75.9094 1481.79,75.9094 2073.32,505.889 2073.32,964.535 1481.79,1394.51 850.829,1394.51 \n",
       "  \"/>\n",
       "<polyline clip-path=\"url(#clip052)\" style=\"stroke:#1f0c47; stroke-linecap:round; stroke-linejoin:round; stroke-width:4; stroke-opacity:1; fill:none\" points=\"\n",
       "  850.829,1365.85 298.737,964.535 298.737,505.889 850.829,104.575 1481.79,104.575 2033.89,505.889 2033.89,964.535 1481.79,1365.85 850.829,1365.85 \n",
       "  \"/>\n",
       "<polyline clip-path=\"url(#clip052)\" style=\"stroke:#3b0964; stroke-linecap:round; stroke-linejoin:round; stroke-width:4; stroke-opacity:1; fill:none\" points=\"\n",
       "  850.829,1337.18 338.172,964.535 338.172,505.889 850.829,133.24 1481.79,133.24 1994.45,505.889 1994.45,964.535 1481.79,1337.18 850.829,1337.18 \n",
       "  \"/>\n",
       "<polyline clip-path=\"url(#clip052)\" style=\"stroke:#550f6d; stroke-linecap:round; stroke-linejoin:round; stroke-width:4; stroke-opacity:1; fill:none\" points=\"\n",
       "  850.829,1308.52 377.607,964.535 377.607,505.889 850.829,161.905 1481.79,161.905 1955.02,505.889 1955.02,964.535 1481.79,1308.52 850.829,1308.52 \n",
       "  \"/>\n",
       "<polyline clip-path=\"url(#clip052)\" style=\"stroke:#6e186e; stroke-linecap:round; stroke-linejoin:round; stroke-width:4; stroke-opacity:1; fill:none\" points=\"\n",
       "  850.829,1279.85 417.042,964.535 417.042,505.889 850.829,190.571 1481.79,190.571 1915.58,505.889 1915.58,964.535 1481.79,1279.85 850.829,1279.85 \n",
       "  \"/>\n",
       "<polyline clip-path=\"url(#clip052)\" style=\"stroke:#88216a; stroke-linecap:round; stroke-linejoin:round; stroke-width:4; stroke-opacity:1; fill:none\" points=\"\n",
       "  850.829,1251.19 456.477,964.535 456.477,505.889 850.829,219.236 1481.79,219.236 1876.14,505.889 1876.14,964.535 1481.79,1251.19 850.829,1251.19 \n",
       "  \"/>\n",
       "<polyline clip-path=\"url(#clip052)\" style=\"stroke:#a12b61; stroke-linecap:round; stroke-linejoin:round; stroke-width:4; stroke-opacity:1; fill:none\" points=\"\n",
       "  850.829,1222.52 495.913,964.535 495.913,505.889 850.829,247.901 1481.79,247.901 1836.71,505.889 1836.71,964.535 1481.79,1222.52 850.829,1222.52 \n",
       "  \"/>\n",
       "<polyline clip-path=\"url(#clip052)\" style=\"stroke:#ba3655; stroke-linecap:round; stroke-linejoin:round; stroke-width:4; stroke-opacity:1; fill:none\" points=\"\n",
       "  850.829,1193.86 535.348,964.535 535.348,505.889 850.829,276.567 1481.79,276.567 1797.27,505.889 1797.27,964.535 1481.79,1193.86 850.829,1193.86 \n",
       "  \"/>\n",
       "<polyline clip-path=\"url(#clip052)\" style=\"stroke:#d04544; stroke-linecap:round; stroke-linejoin:round; stroke-width:4; stroke-opacity:1; fill:none\" points=\"\n",
       "  850.829,1165.19 574.783,964.535 574.783,505.889 850.829,305.232 1481.79,305.232 1757.84,505.889 1757.84,964.535 1481.79,1165.19 850.829,1165.19 \n",
       "  \"/>\n",
       "<polyline clip-path=\"url(#clip052)\" style=\"stroke:#e35832; stroke-linecap:round; stroke-linejoin:round; stroke-width:4; stroke-opacity:1; fill:none\" points=\"\n",
       "  850.829,1136.53 614.218,964.535 614.218,505.889 850.829,333.897 1481.79,333.897 1718.4,505.889 1718.4,964.535 1481.79,1136.53 850.829,1136.53 \n",
       "  \"/>\n",
       "<polyline clip-path=\"url(#clip052)\" style=\"stroke:#f0701e; stroke-linecap:round; stroke-linejoin:round; stroke-width:4; stroke-opacity:1; fill:none\" points=\"\n",
       "  850.829,1107.86 653.653,964.535 653.653,505.889 850.829,362.563 1481.79,362.563 1678.97,505.889 1678.97,964.535 1481.79,1107.86 850.829,1107.86 \n",
       "  \"/>\n",
       "<polyline clip-path=\"url(#clip052)\" style=\"stroke:#f98c09; stroke-linecap:round; stroke-linejoin:round; stroke-width:4; stroke-opacity:1; fill:none\" points=\"\n",
       "  850.829,1079.2 693.089,964.535 693.089,505.889 850.829,391.228 1481.79,391.228 1639.53,505.889 1639.53,964.535 1481.79,1079.2 850.829,1079.2 \n",
       "  \"/>\n",
       "<polyline clip-path=\"url(#clip052)\" style=\"stroke:#fbaa0e; stroke-linecap:round; stroke-linejoin:round; stroke-width:4; stroke-opacity:1; fill:none\" points=\"\n",
       "  850.829,1050.53 732.524,964.535 732.524,505.889 850.829,419.893 1481.79,419.893 1600.1,505.889 1600.1,964.535 1481.79,1050.53 850.829,1050.53 \n",
       "  \"/>\n",
       "<polyline clip-path=\"url(#clip052)\" style=\"stroke:#f8c931; stroke-linecap:round; stroke-linejoin:round; stroke-width:4; stroke-opacity:1; fill:none\" points=\"\n",
       "  850.829,1021.87 771.959,964.535 771.959,505.889 850.829,448.559 1481.79,448.559 1560.66,505.889 1560.66,964.535 1481.79,1021.87 850.829,1021.87 \n",
       "  \"/>\n",
       "<polyline clip-path=\"url(#clip052)\" style=\"stroke:#f1e864; stroke-linecap:round; stroke-linejoin:round; stroke-width:4; stroke-opacity:1; fill:none\" points=\"\n",
       "  850.829,993.2 811.394,964.535 811.394,505.889 850.829,477.224 1481.79,477.224 1521.23,505.889 1521.23,964.535 1481.79,993.2 850.829,993.2 \n",
       "  \"/>\n",
       "<defs>\n",
       "  <clipPath id=\"clip053\">\n",
       "    <rect x=\"2160\" y=\"47\" width=\"73\" height=\"1377\"/>\n",
       "  </clipPath>\n",
       "</defs>\n",
       "<polyline clip-path=\"url(#clip053)\" style=\"stroke:#0a0723; stroke-linecap:round; stroke-linejoin:round; stroke-width:4; stroke-opacity:1; fill:none\" points=\"\n",
       "  2160.76,1337.18 2232.76,1337.18 \n",
       "  \"/>\n",
       "<polyline clip-path=\"url(#clip053)\" style=\"stroke:#200c4a; stroke-linecap:round; stroke-linejoin:round; stroke-width:4; stroke-opacity:1; fill:none\" points=\"\n",
       "  2160.76,1251.19 2232.76,1251.19 \n",
       "  \"/>\n",
       "<polyline clip-path=\"url(#clip053)\" style=\"stroke:#3c0965; stroke-linecap:round; stroke-linejoin:round; stroke-width:4; stroke-opacity:1; fill:none\" points=\"\n",
       "  2160.76,1165.19 2232.76,1165.19 \n",
       "  \"/>\n",
       "<polyline clip-path=\"url(#clip053)\" style=\"stroke:#570f6d; stroke-linecap:round; stroke-linejoin:round; stroke-width:4; stroke-opacity:1; fill:none\" points=\"\n",
       "  2160.76,1079.2 2232.76,1079.2 \n",
       "  \"/>\n",
       "<polyline clip-path=\"url(#clip053)\" style=\"stroke:#70196e; stroke-linecap:round; stroke-linejoin:round; stroke-width:4; stroke-opacity:1; fill:none\" points=\"\n",
       "  2160.76,993.2 2232.76,993.2 \n",
       "  \"/>\n",
       "<polyline clip-path=\"url(#clip053)\" style=\"stroke:#892269; stroke-linecap:round; stroke-linejoin:round; stroke-width:4; stroke-opacity:1; fill:none\" points=\"\n",
       "  2160.76,907.204 2232.76,907.204 \n",
       "  \"/>\n",
       "<polyline clip-path=\"url(#clip053)\" style=\"stroke:#a32b61; stroke-linecap:round; stroke-linejoin:round; stroke-width:4; stroke-opacity:1; fill:none\" points=\"\n",
       "  2160.76,821.208 2232.76,821.208 \n",
       "  \"/>\n",
       "<polyline clip-path=\"url(#clip053)\" style=\"stroke:#bb3754; stroke-linecap:round; stroke-linejoin:round; stroke-width:4; stroke-opacity:1; fill:none\" points=\"\n",
       "  2160.76,735.212 2232.76,735.212 \n",
       "  \"/>\n",
       "<polyline clip-path=\"url(#clip053)\" style=\"stroke:#d04544; stroke-linecap:round; stroke-linejoin:round; stroke-width:4; stroke-opacity:1; fill:none\" points=\"\n",
       "  2160.76,649.216 2232.76,649.216 \n",
       "  \"/>\n",
       "<polyline clip-path=\"url(#clip053)\" style=\"stroke:#e35832; stroke-linecap:round; stroke-linejoin:round; stroke-width:4; stroke-opacity:1; fill:none\" points=\"\n",
       "  2160.76,563.22 2232.76,563.22 \n",
       "  \"/>\n",
       "<polyline clip-path=\"url(#clip053)\" style=\"stroke:#f0701e; stroke-linecap:round; stroke-linejoin:round; stroke-width:4; stroke-opacity:1; fill:none\" points=\"\n",
       "  2160.76,477.224 2232.76,477.224 \n",
       "  \"/>\n",
       "<polyline clip-path=\"url(#clip053)\" style=\"stroke:#f98c09; stroke-linecap:round; stroke-linejoin:round; stroke-width:4; stroke-opacity:1; fill:none\" points=\"\n",
       "  2160.76,391.228 2232.76,391.228 \n",
       "  \"/>\n",
       "<polyline clip-path=\"url(#clip053)\" style=\"stroke:#fbaa0e; stroke-linecap:round; stroke-linejoin:round; stroke-width:4; stroke-opacity:1; fill:none\" points=\"\n",
       "  2160.76,305.232 2232.76,305.232 \n",
       "  \"/>\n",
       "<polyline clip-path=\"url(#clip053)\" style=\"stroke:#f8c931; stroke-linecap:round; stroke-linejoin:round; stroke-width:4; stroke-opacity:1; fill:none\" points=\"\n",
       "  2160.76,219.236 2232.76,219.236 \n",
       "  \"/>\n",
       "<polyline clip-path=\"url(#clip053)\" style=\"stroke:#f1e864; stroke-linecap:round; stroke-linejoin:round; stroke-width:4; stroke-opacity:1; fill:none\" points=\"\n",
       "  2160.76,133.24 2232.76,133.24 \n",
       "  \"/>\n",
       "<path clip-path=\"url(#clip050)\" d=\"M2280.7 1405.35 Q2277.09 1405.35 2275.26 1408.91 Q2273.45 1412.46 2273.45 1419.59 Q2273.45 1426.69 2275.26 1430.26 Q2277.09 1433.8 2280.7 1433.8 Q2284.33 1433.8 2286.14 1430.26 Q2287.97 1426.69 2287.97 1419.59 Q2287.97 1412.46 2286.14 1408.91 Q2284.33 1405.35 2280.7 1405.35 M2280.7 1401.65 Q2286.51 1401.65 2289.57 1406.25 Q2292.64 1410.84 2292.64 1419.59 Q2292.64 1428.31 2289.57 1432.92 Q2286.51 1437.5 2280.7 1437.5 Q2274.89 1437.5 2271.81 1432.92 Q2268.76 1428.31 2268.76 1419.59 Q2268.76 1410.84 2271.81 1406.25 Q2274.89 1401.65 2280.7 1401.65 Z\" fill=\"#000000\" fill-rule=\"evenodd\" fill-opacity=\"1\" /><path clip-path=\"url(#clip050)\" d=\"M2280.7 1266.04 Q2277.09 1266.04 2275.26 1269.6 Q2273.45 1273.14 2273.45 1280.27 Q2273.45 1287.38 2275.26 1290.94 Q2277.09 1294.49 2280.7 1294.49 Q2284.33 1294.49 2286.14 1290.94 Q2287.97 1287.38 2287.97 1280.27 Q2287.97 1273.14 2286.14 1269.6 Q2284.33 1266.04 2280.7 1266.04 M2280.7 1262.33 Q2286.51 1262.33 2289.57 1266.94 Q2292.64 1271.52 2292.64 1280.27 Q2292.64 1289 2289.57 1293.61 Q2286.51 1298.19 2280.7 1298.19 Q2274.89 1298.19 2271.81 1293.61 Q2268.76 1289 2268.76 1280.27 Q2268.76 1271.52 2271.81 1266.94 Q2274.89 1262.33 2280.7 1262.33 Z\" fill=\"#000000\" fill-rule=\"evenodd\" fill-opacity=\"1\" /><path clip-path=\"url(#clip050)\" d=\"M2300.86 1291.64 L2305.75 1291.64 L2305.75 1297.52 L2300.86 1297.52 L2300.86 1291.64 Z\" fill=\"#000000\" fill-rule=\"evenodd\" fill-opacity=\"1\" /><path clip-path=\"url(#clip050)\" d=\"M2325.93 1266.04 Q2322.32 1266.04 2320.49 1269.6 Q2318.69 1273.14 2318.69 1280.27 Q2318.69 1287.38 2320.49 1290.94 Q2322.32 1294.49 2325.93 1294.49 Q2329.57 1294.49 2331.37 1290.94 Q2333.2 1287.38 2333.2 1280.27 Q2333.2 1273.14 2331.37 1269.6 Q2329.57 1266.04 2325.93 1266.04 M2325.93 1262.33 Q2331.74 1262.33 2334.8 1266.94 Q2337.88 1271.52 2337.88 1280.27 Q2337.88 1289 2334.8 1293.61 Q2331.74 1298.19 2325.93 1298.19 Q2320.12 1298.19 2317.04 1293.61 Q2313.99 1289 2313.99 1280.27 Q2313.99 1271.52 2317.04 1266.94 Q2320.12 1262.33 2325.93 1262.33 Z\" fill=\"#000000\" fill-rule=\"evenodd\" fill-opacity=\"1\" /><path clip-path=\"url(#clip050)\" d=\"M2356.09 1266.04 Q2352.48 1266.04 2350.65 1269.6 Q2348.85 1273.14 2348.85 1280.27 Q2348.85 1287.38 2350.65 1290.94 Q2352.48 1294.49 2356.09 1294.49 Q2359.73 1294.49 2361.53 1290.94 Q2363.36 1287.38 2363.36 1280.27 Q2363.36 1273.14 2361.53 1269.6 Q2359.73 1266.04 2356.09 1266.04 M2356.09 1262.33 Q2361.9 1262.33 2364.96 1266.94 Q2368.04 1271.52 2368.04 1280.27 Q2368.04 1289 2364.96 1293.61 Q2361.9 1298.19 2356.09 1298.19 Q2350.28 1298.19 2347.2 1293.61 Q2344.15 1289 2344.15 1280.27 Q2344.15 1271.52 2347.2 1266.94 Q2350.28 1262.33 2356.09 1262.33 Z\" fill=\"#000000\" fill-rule=\"evenodd\" fill-opacity=\"1\" /><path clip-path=\"url(#clip050)\" d=\"M2376.3 1262.96 L2394.66 1262.96 L2394.66 1266.89 L2380.58 1266.89 L2380.58 1275.36 Q2381.6 1275.02 2382.62 1274.86 Q2383.64 1274.67 2384.66 1274.67 Q2390.45 1274.67 2393.82 1277.84 Q2397.2 1281.01 2397.2 1286.43 Q2397.2 1292.01 2393.73 1295.11 Q2390.26 1298.19 2383.94 1298.19 Q2381.76 1298.19 2379.5 1297.82 Q2377.25 1297.45 2374.84 1296.71 L2374.84 1292.01 Q2376.93 1293.14 2379.15 1293.7 Q2381.37 1294.25 2383.85 1294.25 Q2387.85 1294.25 2390.19 1292.15 Q2392.53 1290.04 2392.53 1286.43 Q2392.53 1282.82 2390.19 1280.71 Q2387.85 1278.61 2383.85 1278.61 Q2381.97 1278.61 2380.1 1279.02 Q2378.25 1279.44 2376.3 1280.32 L2376.3 1262.96 Z\" fill=\"#000000\" fill-rule=\"evenodd\" fill-opacity=\"1\" /><path clip-path=\"url(#clip050)\" d=\"M2280.7 1126.72 Q2277.09 1126.72 2275.26 1130.29 Q2273.45 1133.83 2273.45 1140.96 Q2273.45 1148.07 2275.26 1151.63 Q2277.09 1155.17 2280.7 1155.17 Q2284.33 1155.17 2286.14 1151.63 Q2287.97 1148.07 2287.97 1140.96 Q2287.97 1133.83 2286.14 1130.29 Q2284.33 1126.72 2280.7 1126.72 M2280.7 1123.02 Q2286.51 1123.02 2289.57 1127.63 Q2292.64 1132.21 2292.64 1140.96 Q2292.64 1149.69 2289.57 1154.29 Q2286.51 1158.88 2280.7 1158.88 Q2274.89 1158.88 2271.81 1154.29 Q2268.76 1149.69 2268.76 1140.96 Q2268.76 1132.21 2271.81 1127.63 Q2274.89 1123.02 2280.7 1123.02 Z\" fill=\"#000000\" fill-rule=\"evenodd\" fill-opacity=\"1\" /><path clip-path=\"url(#clip050)\" d=\"M2300.86 1152.32 L2305.75 1152.32 L2305.75 1158.2 L2300.86 1158.2 L2300.86 1152.32 Z\" fill=\"#000000\" fill-rule=\"evenodd\" fill-opacity=\"1\" /><path clip-path=\"url(#clip050)\" d=\"M2325.93 1126.72 Q2322.32 1126.72 2320.49 1130.29 Q2318.69 1133.83 2318.69 1140.96 Q2318.69 1148.07 2320.49 1151.63 Q2322.32 1155.17 2325.93 1155.17 Q2329.57 1155.17 2331.37 1151.63 Q2333.2 1148.07 2333.2 1140.96 Q2333.2 1133.83 2331.37 1130.29 Q2329.57 1126.72 2325.93 1126.72 M2325.93 1123.02 Q2331.74 1123.02 2334.8 1127.63 Q2337.88 1132.21 2337.88 1140.96 Q2337.88 1149.69 2334.8 1154.29 Q2331.74 1158.88 2325.93 1158.88 Q2320.12 1158.88 2317.04 1154.29 Q2313.99 1149.69 2313.99 1140.96 Q2313.99 1132.21 2317.04 1127.63 Q2320.12 1123.02 2325.93 1123.02 Z\" fill=\"#000000\" fill-rule=\"evenodd\" fill-opacity=\"1\" /><path clip-path=\"url(#clip050)\" d=\"M2346.9 1154.27 L2354.54 1154.27 L2354.54 1127.9 L2346.23 1129.57 L2346.23 1125.31 L2354.5 1123.64 L2359.17 1123.64 L2359.17 1154.27 L2366.81 1154.27 L2366.81 1158.2 L2346.9 1158.2 L2346.9 1154.27 Z\" fill=\"#000000\" fill-rule=\"evenodd\" fill-opacity=\"1\" /><path clip-path=\"url(#clip050)\" d=\"M2386.26 1126.72 Q2382.64 1126.72 2380.82 1130.29 Q2379.01 1133.83 2379.01 1140.96 Q2379.01 1148.07 2380.82 1151.63 Q2382.64 1155.17 2386.26 1155.17 Q2389.89 1155.17 2391.7 1151.63 Q2393.52 1148.07 2393.52 1140.96 Q2393.52 1133.83 2391.7 1130.29 Q2389.89 1126.72 2386.26 1126.72 M2386.26 1123.02 Q2392.07 1123.02 2395.12 1127.63 Q2398.2 1132.21 2398.2 1140.96 Q2398.2 1149.69 2395.12 1154.29 Q2392.07 1158.88 2386.26 1158.88 Q2380.45 1158.88 2377.37 1154.29 Q2374.31 1149.69 2374.31 1140.96 Q2374.31 1132.21 2377.37 1127.63 Q2380.45 1123.02 2386.26 1123.02 Z\" fill=\"#000000\" fill-rule=\"evenodd\" fill-opacity=\"1\" /><path clip-path=\"url(#clip050)\" d=\"M2280.7 987.409 Q2277.09 987.409 2275.26 990.974 Q2273.45 994.516 2273.45 1001.65 Q2273.45 1008.75 2275.26 1012.32 Q2277.09 1015.86 2280.7 1015.86 Q2284.33 1015.86 2286.14 1012.32 Q2287.97 1008.75 2287.97 1001.65 Q2287.97 994.516 2286.14 990.974 Q2284.33 987.409 2280.7 987.409 M2280.7 983.706 Q2286.51 983.706 2289.57 988.312 Q2292.64 992.895 2292.64 1001.65 Q2292.64 1010.37 2289.57 1014.98 Q2286.51 1019.56 2280.7 1019.56 Q2274.89 1019.56 2271.81 1014.98 Q2268.76 1010.37 2268.76 1001.65 Q2268.76 992.895 2271.81 988.312 Q2274.89 983.706 2280.7 983.706 Z\" fill=\"#000000\" fill-rule=\"evenodd\" fill-opacity=\"1\" /><path clip-path=\"url(#clip050)\" d=\"M2300.86 1013.01 L2305.75 1013.01 L2305.75 1018.89 L2300.86 1018.89 L2300.86 1013.01 Z\" fill=\"#000000\" fill-rule=\"evenodd\" fill-opacity=\"1\" /><path clip-path=\"url(#clip050)\" d=\"M2325.93 987.409 Q2322.32 987.409 2320.49 990.974 Q2318.69 994.516 2318.69 1001.65 Q2318.69 1008.75 2320.49 1012.32 Q2322.32 1015.86 2325.93 1015.86 Q2329.57 1015.86 2331.37 1012.32 Q2333.2 1008.75 2333.2 1001.65 Q2333.2 994.516 2331.37 990.974 Q2329.57 987.409 2325.93 987.409 M2325.93 983.706 Q2331.74 983.706 2334.8 988.312 Q2337.88 992.895 2337.88 1001.65 Q2337.88 1010.37 2334.8 1014.98 Q2331.74 1019.56 2325.93 1019.56 Q2320.12 1019.56 2317.04 1014.98 Q2313.99 1010.37 2313.99 1001.65 Q2313.99 992.895 2317.04 988.312 Q2320.12 983.706 2325.93 983.706 Z\" fill=\"#000000\" fill-rule=\"evenodd\" fill-opacity=\"1\" /><path clip-path=\"url(#clip050)\" d=\"M2346.9 1014.96 L2354.54 1014.96 L2354.54 988.59 L2346.23 990.256 L2346.23 985.997 L2354.5 984.331 L2359.17 984.331 L2359.17 1014.96 L2366.81 1014.96 L2366.81 1018.89 L2346.9 1018.89 L2346.9 1014.96 Z\" fill=\"#000000\" fill-rule=\"evenodd\" fill-opacity=\"1\" /><path clip-path=\"url(#clip050)\" d=\"M2376.3 984.331 L2394.66 984.331 L2394.66 988.266 L2380.58 988.266 L2380.58 996.738 Q2381.6 996.391 2382.62 996.229 Q2383.64 996.043 2384.66 996.043 Q2390.45 996.043 2393.82 999.215 Q2397.2 1002.39 2397.2 1007.8 Q2397.2 1013.38 2393.73 1016.48 Q2390.26 1019.56 2383.94 1019.56 Q2381.76 1019.56 2379.5 1019.19 Q2377.25 1018.82 2374.84 1018.08 L2374.84 1013.38 Q2376.93 1014.52 2379.15 1015.07 Q2381.37 1015.63 2383.85 1015.63 Q2387.85 1015.63 2390.19 1013.52 Q2392.53 1011.41 2392.53 1007.8 Q2392.53 1004.19 2390.19 1002.09 Q2387.85 999.979 2383.85 999.979 Q2381.97 999.979 2380.1 1000.4 Q2378.25 1000.81 2376.3 1001.69 L2376.3 984.331 Z\" fill=\"#000000\" fill-rule=\"evenodd\" fill-opacity=\"1\" /><path clip-path=\"url(#clip050)\" d=\"M2280.7 848.096 Q2277.09 848.096 2275.26 851.661 Q2273.45 855.202 2273.45 862.332 Q2273.45 869.438 2275.26 873.003 Q2277.09 876.545 2280.7 876.545 Q2284.33 876.545 2286.14 873.003 Q2287.97 869.438 2287.97 862.332 Q2287.97 855.202 2286.14 851.661 Q2284.33 848.096 2280.7 848.096 M2280.7 844.392 Q2286.51 844.392 2289.57 848.999 Q2292.64 853.582 2292.64 862.332 Q2292.64 871.059 2289.57 875.665 Q2286.51 880.248 2280.7 880.248 Q2274.89 880.248 2271.81 875.665 Q2268.76 871.059 2268.76 862.332 Q2268.76 853.582 2271.81 848.999 Q2274.89 844.392 2280.7 844.392 Z\" fill=\"#000000\" fill-rule=\"evenodd\" fill-opacity=\"1\" /><path clip-path=\"url(#clip050)\" d=\"M2300.86 873.697 L2305.75 873.697 L2305.75 879.577 L2300.86 879.577 L2300.86 873.697 Z\" fill=\"#000000\" fill-rule=\"evenodd\" fill-opacity=\"1\" /><path clip-path=\"url(#clip050)\" d=\"M2325.93 848.096 Q2322.32 848.096 2320.49 851.661 Q2318.69 855.202 2318.69 862.332 Q2318.69 869.438 2320.49 873.003 Q2322.32 876.545 2325.93 876.545 Q2329.57 876.545 2331.37 873.003 Q2333.2 869.438 2333.2 862.332 Q2333.2 855.202 2331.37 851.661 Q2329.57 848.096 2325.93 848.096 M2325.93 844.392 Q2331.74 844.392 2334.8 848.999 Q2337.88 853.582 2337.88 862.332 Q2337.88 871.059 2334.8 875.665 Q2331.74 880.248 2325.93 880.248 Q2320.12 880.248 2317.04 875.665 Q2313.99 871.059 2313.99 862.332 Q2313.99 853.582 2317.04 848.999 Q2320.12 844.392 2325.93 844.392 Z\" fill=\"#000000\" fill-rule=\"evenodd\" fill-opacity=\"1\" /><path clip-path=\"url(#clip050)\" d=\"M2350.12 875.642 L2366.44 875.642 L2366.44 879.577 L2344.5 879.577 L2344.5 875.642 Q2347.16 872.887 2351.74 868.258 Q2356.35 863.605 2357.53 862.262 Q2359.77 859.739 2360.65 858.003 Q2361.56 856.244 2361.56 854.554 Q2361.56 851.799 2359.61 850.063 Q2357.69 848.327 2354.59 848.327 Q2352.39 848.327 2349.94 849.091 Q2347.51 849.855 2344.73 851.406 L2344.73 846.684 Q2347.55 845.549 2350.01 844.971 Q2352.46 844.392 2354.5 844.392 Q2359.87 844.392 2363.06 847.077 Q2366.26 849.762 2366.26 854.253 Q2366.26 856.383 2365.45 858.304 Q2364.66 860.202 2362.55 862.795 Q2361.97 863.466 2358.87 866.684 Q2355.77 869.878 2350.12 875.642 Z\" fill=\"#000000\" fill-rule=\"evenodd\" fill-opacity=\"1\" /><path clip-path=\"url(#clip050)\" d=\"M2386.26 848.096 Q2382.64 848.096 2380.82 851.661 Q2379.01 855.202 2379.01 862.332 Q2379.01 869.438 2380.82 873.003 Q2382.64 876.545 2386.26 876.545 Q2389.89 876.545 2391.7 873.003 Q2393.52 869.438 2393.52 862.332 Q2393.52 855.202 2391.7 851.661 Q2389.89 848.096 2386.26 848.096 M2386.26 844.392 Q2392.07 844.392 2395.12 848.999 Q2398.2 853.582 2398.2 862.332 Q2398.2 871.059 2395.12 875.665 Q2392.07 880.248 2386.26 880.248 Q2380.45 880.248 2377.37 875.665 Q2374.31 871.059 2374.31 862.332 Q2374.31 853.582 2377.37 848.999 Q2380.45 844.392 2386.26 844.392 Z\" fill=\"#000000\" fill-rule=\"evenodd\" fill-opacity=\"1\" /><path clip-path=\"url(#clip050)\" d=\"M2280.7 708.782 Q2277.09 708.782 2275.26 712.347 Q2273.45 715.889 2273.45 723.018 Q2273.45 730.125 2275.26 733.69 Q2277.09 737.231 2280.7 737.231 Q2284.33 737.231 2286.14 733.69 Q2287.97 730.125 2287.97 723.018 Q2287.97 715.889 2286.14 712.347 Q2284.33 708.782 2280.7 708.782 M2280.7 705.079 Q2286.51 705.079 2289.57 709.685 Q2292.64 714.268 2292.64 723.018 Q2292.64 731.745 2289.57 736.352 Q2286.51 740.935 2280.7 740.935 Q2274.89 740.935 2271.81 736.352 Q2268.76 731.745 2268.76 723.018 Q2268.76 714.268 2271.81 709.685 Q2274.89 705.079 2280.7 705.079 Z\" fill=\"#000000\" fill-rule=\"evenodd\" fill-opacity=\"1\" /><path clip-path=\"url(#clip050)\" d=\"M2300.86 734.384 L2305.75 734.384 L2305.75 740.264 L2300.86 740.264 L2300.86 734.384 Z\" fill=\"#000000\" fill-rule=\"evenodd\" fill-opacity=\"1\" /><path clip-path=\"url(#clip050)\" d=\"M2325.93 708.782 Q2322.32 708.782 2320.49 712.347 Q2318.69 715.889 2318.69 723.018 Q2318.69 730.125 2320.49 733.69 Q2322.32 737.231 2325.93 737.231 Q2329.57 737.231 2331.37 733.69 Q2333.2 730.125 2333.2 723.018 Q2333.2 715.889 2331.37 712.347 Q2329.57 708.782 2325.93 708.782 M2325.93 705.079 Q2331.74 705.079 2334.8 709.685 Q2337.88 714.268 2337.88 723.018 Q2337.88 731.745 2334.8 736.352 Q2331.74 740.935 2325.93 740.935 Q2320.12 740.935 2317.04 736.352 Q2313.99 731.745 2313.99 723.018 Q2313.99 714.268 2317.04 709.685 Q2320.12 705.079 2325.93 705.079 Z\" fill=\"#000000\" fill-rule=\"evenodd\" fill-opacity=\"1\" /><path clip-path=\"url(#clip050)\" d=\"M2350.12 736.328 L2366.44 736.328 L2366.44 740.264 L2344.5 740.264 L2344.5 736.328 Q2347.16 733.574 2351.74 728.944 Q2356.35 724.291 2357.53 722.949 Q2359.77 720.426 2360.65 718.69 Q2361.56 716.93 2361.56 715.241 Q2361.56 712.486 2359.61 710.75 Q2357.69 709.014 2354.59 709.014 Q2352.39 709.014 2349.94 709.778 Q2347.51 710.542 2344.73 712.092 L2344.73 707.37 Q2347.55 706.236 2350.01 705.657 Q2352.46 705.079 2354.5 705.079 Q2359.87 705.079 2363.06 707.764 Q2366.26 710.449 2366.26 714.94 Q2366.26 717.069 2365.45 718.991 Q2364.66 720.889 2362.55 723.481 Q2361.97 724.153 2358.87 727.37 Q2355.77 730.565 2350.12 736.328 Z\" fill=\"#000000\" fill-rule=\"evenodd\" fill-opacity=\"1\" /><path clip-path=\"url(#clip050)\" d=\"M2376.3 705.704 L2394.66 705.704 L2394.66 709.639 L2380.58 709.639 L2380.58 718.111 Q2381.6 717.764 2382.62 717.602 Q2383.64 717.416 2384.66 717.416 Q2390.45 717.416 2393.82 720.588 Q2397.2 723.759 2397.2 729.176 Q2397.2 734.754 2393.73 737.856 Q2390.26 740.935 2383.94 740.935 Q2381.76 740.935 2379.5 740.564 Q2377.25 740.194 2374.84 739.453 L2374.84 734.754 Q2376.93 735.889 2379.15 736.444 Q2381.37 737 2383.85 737 Q2387.85 737 2390.19 734.893 Q2392.53 732.787 2392.53 729.176 Q2392.53 725.565 2390.19 723.458 Q2387.85 721.352 2383.85 721.352 Q2381.97 721.352 2380.1 721.768 Q2378.25 722.185 2376.3 723.065 L2376.3 705.704 Z\" fill=\"#000000\" fill-rule=\"evenodd\" fill-opacity=\"1\" /><path clip-path=\"url(#clip050)\" d=\"M2280.7 569.469 Q2277.09 569.469 2275.26 573.034 Q2273.45 576.575 2273.45 583.705 Q2273.45 590.811 2275.26 594.376 Q2277.09 597.918 2280.7 597.918 Q2284.33 597.918 2286.14 594.376 Q2287.97 590.811 2287.97 583.705 Q2287.97 576.575 2286.14 573.034 Q2284.33 569.469 2280.7 569.469 M2280.7 565.765 Q2286.51 565.765 2289.57 570.372 Q2292.64 574.955 2292.64 583.705 Q2292.64 592.432 2289.57 597.038 Q2286.51 601.621 2280.7 601.621 Q2274.89 601.621 2271.81 597.038 Q2268.76 592.432 2268.76 583.705 Q2268.76 574.955 2271.81 570.372 Q2274.89 565.765 2280.7 565.765 Z\" fill=\"#000000\" fill-rule=\"evenodd\" fill-opacity=\"1\" /><path clip-path=\"url(#clip050)\" d=\"M2300.86 595.07 L2305.75 595.07 L2305.75 600.95 L2300.86 600.95 L2300.86 595.07 Z\" fill=\"#000000\" fill-rule=\"evenodd\" fill-opacity=\"1\" /><path clip-path=\"url(#clip050)\" d=\"M2325.93 569.469 Q2322.32 569.469 2320.49 573.034 Q2318.69 576.575 2318.69 583.705 Q2318.69 590.811 2320.49 594.376 Q2322.32 597.918 2325.93 597.918 Q2329.57 597.918 2331.37 594.376 Q2333.2 590.811 2333.2 583.705 Q2333.2 576.575 2331.37 573.034 Q2329.57 569.469 2325.93 569.469 M2325.93 565.765 Q2331.74 565.765 2334.8 570.372 Q2337.88 574.955 2337.88 583.705 Q2337.88 592.432 2334.8 597.038 Q2331.74 601.621 2325.93 601.621 Q2320.12 601.621 2317.04 597.038 Q2313.99 592.432 2313.99 583.705 Q2313.99 574.955 2317.04 570.372 Q2320.12 565.765 2325.93 565.765 Z\" fill=\"#000000\" fill-rule=\"evenodd\" fill-opacity=\"1\" /><path clip-path=\"url(#clip050)\" d=\"M2360.26 582.316 Q2363.62 583.034 2365.49 585.302 Q2367.39 587.571 2367.39 590.904 Q2367.39 596.02 2363.87 598.82 Q2360.35 601.621 2353.87 601.621 Q2351.7 601.621 2349.38 601.182 Q2347.09 600.765 2344.64 599.908 L2344.64 595.395 Q2346.58 596.529 2348.89 597.108 Q2351.21 597.686 2353.73 597.686 Q2358.13 597.686 2360.42 595.95 Q2362.74 594.214 2362.74 590.904 Q2362.74 587.848 2360.58 586.135 Q2358.45 584.399 2354.64 584.399 L2350.61 584.399 L2350.61 580.557 L2354.82 580.557 Q2358.27 580.557 2360.1 579.191 Q2361.93 577.802 2361.93 575.209 Q2361.93 572.547 2360.03 571.135 Q2358.15 569.7 2354.64 569.7 Q2352.71 569.7 2350.51 570.117 Q2348.32 570.534 2345.68 571.413 L2345.68 567.247 Q2348.34 566.506 2350.65 566.135 Q2352.99 565.765 2355.05 565.765 Q2360.38 565.765 2363.48 568.196 Q2366.58 570.603 2366.58 574.723 Q2366.58 577.594 2364.94 579.584 Q2363.29 581.552 2360.26 582.316 Z\" fill=\"#000000\" fill-rule=\"evenodd\" fill-opacity=\"1\" /><path clip-path=\"url(#clip050)\" d=\"M2386.26 569.469 Q2382.64 569.469 2380.82 573.034 Q2379.01 576.575 2379.01 583.705 Q2379.01 590.811 2380.82 594.376 Q2382.64 597.918 2386.26 597.918 Q2389.89 597.918 2391.7 594.376 Q2393.52 590.811 2393.52 583.705 Q2393.52 576.575 2391.7 573.034 Q2389.89 569.469 2386.26 569.469 M2386.26 565.765 Q2392.07 565.765 2395.12 570.372 Q2398.2 574.955 2398.2 583.705 Q2398.2 592.432 2395.12 597.038 Q2392.07 601.621 2386.26 601.621 Q2380.45 601.621 2377.37 597.038 Q2374.31 592.432 2374.31 583.705 Q2374.31 574.955 2377.37 570.372 Q2380.45 565.765 2386.26 565.765 Z\" fill=\"#000000\" fill-rule=\"evenodd\" fill-opacity=\"1\" /><path clip-path=\"url(#clip050)\" d=\"M2280.7 430.155 Q2277.09 430.155 2275.26 433.72 Q2273.45 437.262 2273.45 444.391 Q2273.45 451.498 2275.26 455.063 Q2277.09 458.604 2280.7 458.604 Q2284.33 458.604 2286.14 455.063 Q2287.97 451.498 2287.97 444.391 Q2287.97 437.262 2286.14 433.72 Q2284.33 430.155 2280.7 430.155 M2280.7 426.452 Q2286.51 426.452 2289.57 431.058 Q2292.64 435.641 2292.64 444.391 Q2292.64 453.118 2289.57 457.725 Q2286.51 462.308 2280.7 462.308 Q2274.89 462.308 2271.81 457.725 Q2268.76 453.118 2268.76 444.391 Q2268.76 435.641 2271.81 431.058 Q2274.89 426.452 2280.7 426.452 Z\" fill=\"#000000\" fill-rule=\"evenodd\" fill-opacity=\"1\" /><path clip-path=\"url(#clip050)\" d=\"M2300.86 455.757 L2305.75 455.757 L2305.75 461.637 L2300.86 461.637 L2300.86 455.757 Z\" fill=\"#000000\" fill-rule=\"evenodd\" fill-opacity=\"1\" /><path clip-path=\"url(#clip050)\" d=\"M2325.93 430.155 Q2322.32 430.155 2320.49 433.72 Q2318.69 437.262 2318.69 444.391 Q2318.69 451.498 2320.49 455.063 Q2322.32 458.604 2325.93 458.604 Q2329.57 458.604 2331.37 455.063 Q2333.2 451.498 2333.2 444.391 Q2333.2 437.262 2331.37 433.72 Q2329.57 430.155 2325.93 430.155 M2325.93 426.452 Q2331.74 426.452 2334.8 431.058 Q2337.88 435.641 2337.88 444.391 Q2337.88 453.118 2334.8 457.725 Q2331.74 462.308 2325.93 462.308 Q2320.12 462.308 2317.04 457.725 Q2313.99 453.118 2313.99 444.391 Q2313.99 435.641 2317.04 431.058 Q2320.12 426.452 2325.93 426.452 Z\" fill=\"#000000\" fill-rule=\"evenodd\" fill-opacity=\"1\" /><path clip-path=\"url(#clip050)\" d=\"M2360.26 443.002 Q2363.62 443.72 2365.49 445.989 Q2367.39 448.257 2367.39 451.59 Q2367.39 456.706 2363.87 459.507 Q2360.35 462.308 2353.87 462.308 Q2351.7 462.308 2349.38 461.868 Q2347.09 461.451 2344.64 460.595 L2344.64 456.081 Q2346.58 457.215 2348.89 457.794 Q2351.21 458.373 2353.73 458.373 Q2358.13 458.373 2360.42 456.637 Q2362.74 454.901 2362.74 451.59 Q2362.74 448.535 2360.58 446.822 Q2358.45 445.086 2354.64 445.086 L2350.61 445.086 L2350.61 441.243 L2354.82 441.243 Q2358.27 441.243 2360.1 439.877 Q2361.93 438.489 2361.93 435.896 Q2361.93 433.234 2360.03 431.822 Q2358.15 430.387 2354.64 430.387 Q2352.71 430.387 2350.51 430.803 Q2348.32 431.22 2345.68 432.1 L2345.68 427.933 Q2348.34 427.192 2350.65 426.822 Q2352.99 426.452 2355.05 426.452 Q2360.38 426.452 2363.48 428.882 Q2366.58 431.29 2366.58 435.41 Q2366.58 438.28 2364.94 440.271 Q2363.29 442.239 2360.26 443.002 Z\" fill=\"#000000\" fill-rule=\"evenodd\" fill-opacity=\"1\" /><path clip-path=\"url(#clip050)\" d=\"M2376.3 427.077 L2394.66 427.077 L2394.66 431.012 L2380.58 431.012 L2380.58 439.484 Q2381.6 439.137 2382.62 438.975 Q2383.64 438.789 2384.66 438.789 Q2390.45 438.789 2393.82 441.961 Q2397.2 445.132 2397.2 450.549 Q2397.2 456.127 2393.73 459.229 Q2390.26 462.308 2383.94 462.308 Q2381.76 462.308 2379.5 461.938 Q2377.25 461.567 2374.84 460.826 L2374.84 456.127 Q2376.93 457.262 2379.15 457.817 Q2381.37 458.373 2383.85 458.373 Q2387.85 458.373 2390.19 456.266 Q2392.53 454.16 2392.53 450.549 Q2392.53 446.938 2390.19 444.831 Q2387.85 442.725 2383.85 442.725 Q2381.97 442.725 2380.1 443.141 Q2378.25 443.558 2376.3 444.438 L2376.3 427.077 Z\" fill=\"#000000\" fill-rule=\"evenodd\" fill-opacity=\"1\" /><path clip-path=\"url(#clip050)\" d=\"M2280.7 290.842 Q2277.09 290.842 2275.26 294.407 Q2273.45 297.948 2273.45 305.078 Q2273.45 312.184 2275.26 315.749 Q2277.09 319.291 2280.7 319.291 Q2284.33 319.291 2286.14 315.749 Q2287.97 312.184 2287.97 305.078 Q2287.97 297.948 2286.14 294.407 Q2284.33 290.842 2280.7 290.842 M2280.7 287.138 Q2286.51 287.138 2289.57 291.745 Q2292.64 296.328 2292.64 305.078 Q2292.64 313.805 2289.57 318.411 Q2286.51 322.994 2280.7 322.994 Q2274.89 322.994 2271.81 318.411 Q2268.76 313.805 2268.76 305.078 Q2268.76 296.328 2271.81 291.745 Q2274.89 287.138 2280.7 287.138 Z\" fill=\"#000000\" fill-rule=\"evenodd\" fill-opacity=\"1\" /><path clip-path=\"url(#clip050)\" d=\"M2300.86 316.443 L2305.75 316.443 L2305.75 322.323 L2300.86 322.323 L2300.86 316.443 Z\" fill=\"#000000\" fill-rule=\"evenodd\" fill-opacity=\"1\" /><path clip-path=\"url(#clip050)\" d=\"M2325.93 290.842 Q2322.32 290.842 2320.49 294.407 Q2318.69 297.948 2318.69 305.078 Q2318.69 312.184 2320.49 315.749 Q2322.32 319.291 2325.93 319.291 Q2329.57 319.291 2331.37 315.749 Q2333.2 312.184 2333.2 305.078 Q2333.2 297.948 2331.37 294.407 Q2329.57 290.842 2325.93 290.842 M2325.93 287.138 Q2331.74 287.138 2334.8 291.745 Q2337.88 296.328 2337.88 305.078 Q2337.88 313.805 2334.8 318.411 Q2331.74 322.994 2325.93 322.994 Q2320.12 322.994 2317.04 318.411 Q2313.99 313.805 2313.99 305.078 Q2313.99 296.328 2317.04 291.745 Q2320.12 287.138 2325.93 287.138 Z\" fill=\"#000000\" fill-rule=\"evenodd\" fill-opacity=\"1\" /><path clip-path=\"url(#clip050)\" d=\"M2358.94 291.837 L2347.14 310.286 L2358.94 310.286 L2358.94 291.837 M2357.71 287.763 L2363.59 287.763 L2363.59 310.286 L2368.52 310.286 L2368.52 314.175 L2363.59 314.175 L2363.59 322.323 L2358.94 322.323 L2358.94 314.175 L2343.34 314.175 L2343.34 309.661 L2357.71 287.763 Z\" fill=\"#000000\" fill-rule=\"evenodd\" fill-opacity=\"1\" /><path clip-path=\"url(#clip050)\" d=\"M2386.26 290.842 Q2382.64 290.842 2380.82 294.407 Q2379.01 297.948 2379.01 305.078 Q2379.01 312.184 2380.82 315.749 Q2382.64 319.291 2386.26 319.291 Q2389.89 319.291 2391.7 315.749 Q2393.52 312.184 2393.52 305.078 Q2393.52 297.948 2391.7 294.407 Q2389.89 290.842 2386.26 290.842 M2386.26 287.138 Q2392.07 287.138 2395.12 291.745 Q2398.2 296.328 2398.2 305.078 Q2398.2 313.805 2395.12 318.411 Q2392.07 322.994 2386.26 322.994 Q2380.45 322.994 2377.37 318.411 Q2374.31 313.805 2374.31 305.078 Q2374.31 296.328 2377.37 291.745 Q2380.45 287.138 2386.26 287.138 Z\" fill=\"#000000\" fill-rule=\"evenodd\" fill-opacity=\"1\" /><path clip-path=\"url(#clip050)\" d=\"M2280.7 151.528 Q2277.09 151.528 2275.26 155.093 Q2273.45 158.635 2273.45 165.764 Q2273.45 172.871 2275.26 176.436 Q2277.09 179.977 2280.7 179.977 Q2284.33 179.977 2286.14 176.436 Q2287.97 172.871 2287.97 165.764 Q2287.97 158.635 2286.14 155.093 Q2284.33 151.528 2280.7 151.528 M2280.7 147.825 Q2286.51 147.825 2289.57 152.431 Q2292.64 157.014 2292.64 165.764 Q2292.64 174.491 2289.57 179.098 Q2286.51 183.681 2280.7 183.681 Q2274.89 183.681 2271.81 179.098 Q2268.76 174.491 2268.76 165.764 Q2268.76 157.014 2271.81 152.431 Q2274.89 147.825 2280.7 147.825 Z\" fill=\"#000000\" fill-rule=\"evenodd\" fill-opacity=\"1\" /><path clip-path=\"url(#clip050)\" d=\"M2300.86 177.13 L2305.75 177.13 L2305.75 183.01 L2300.86 183.01 L2300.86 177.13 Z\" fill=\"#000000\" fill-rule=\"evenodd\" fill-opacity=\"1\" /><path clip-path=\"url(#clip050)\" d=\"M2325.93 151.528 Q2322.32 151.528 2320.49 155.093 Q2318.69 158.635 2318.69 165.764 Q2318.69 172.871 2320.49 176.436 Q2322.32 179.977 2325.93 179.977 Q2329.57 179.977 2331.37 176.436 Q2333.2 172.871 2333.2 165.764 Q2333.2 158.635 2331.37 155.093 Q2329.57 151.528 2325.93 151.528 M2325.93 147.825 Q2331.74 147.825 2334.8 152.431 Q2337.88 157.014 2337.88 165.764 Q2337.88 174.491 2334.8 179.098 Q2331.74 183.681 2325.93 183.681 Q2320.12 183.681 2317.04 179.098 Q2313.99 174.491 2313.99 165.764 Q2313.99 157.014 2317.04 152.431 Q2320.12 147.825 2325.93 147.825 Z\" fill=\"#000000\" fill-rule=\"evenodd\" fill-opacity=\"1\" /><path clip-path=\"url(#clip050)\" d=\"M2358.94 152.524 L2347.14 170.973 L2358.94 170.973 L2358.94 152.524 M2357.71 148.45 L2363.59 148.45 L2363.59 170.973 L2368.52 170.973 L2368.52 174.861 L2363.59 174.861 L2363.59 183.01 L2358.94 183.01 L2358.94 174.861 L2343.34 174.861 L2343.34 170.348 L2357.71 148.45 Z\" fill=\"#000000\" fill-rule=\"evenodd\" fill-opacity=\"1\" /><path clip-path=\"url(#clip050)\" d=\"M2376.3 148.45 L2394.66 148.45 L2394.66 152.385 L2380.58 152.385 L2380.58 160.857 Q2381.6 160.51 2382.62 160.348 Q2383.64 160.162 2384.66 160.162 Q2390.45 160.162 2393.82 163.334 Q2397.2 166.505 2397.2 171.922 Q2397.2 177.5 2393.73 180.602 Q2390.26 183.681 2383.94 183.681 Q2381.76 183.681 2379.5 183.311 Q2377.25 182.94 2374.84 182.199 L2374.84 177.5 Q2376.93 178.635 2379.15 179.19 Q2381.37 179.746 2383.85 179.746 Q2387.85 179.746 2390.19 177.639 Q2392.53 175.533 2392.53 171.922 Q2392.53 168.311 2390.19 166.204 Q2387.85 164.098 2383.85 164.098 Q2381.97 164.098 2380.1 164.514 Q2378.25 164.931 2376.3 165.811 L2376.3 148.45 Z\" fill=\"#000000\" fill-rule=\"evenodd\" fill-opacity=\"1\" /><polyline clip-path=\"url(#clip050)\" style=\"stroke:#000000; stroke-linecap:round; stroke-linejoin:round; stroke-width:4; stroke-opacity:1; fill:none\" points=\"\n",
       "  2232.76,1423.18 2232.76,1423.18 2256.76,1423.18 2232.76,1423.18 2232.76,1283.87 2256.76,1283.87 2232.76,1283.87 2232.76,1144.55 2256.76,1144.55 2232.76,1144.55 \n",
       "  2232.76,1005.24 2256.76,1005.24 2232.76,1005.24 2232.76,865.926 2256.76,865.926 2232.76,865.926 2232.76,726.612 2256.76,726.612 2232.76,726.612 2232.76,587.299 \n",
       "  2256.76,587.299 2232.76,587.299 2232.76,447.985 2256.76,447.985 2232.76,447.985 2232.76,308.672 2256.76,308.672 2232.76,308.672 2232.76,169.358 2256.76,169.358 \n",
       "  2232.76,169.358 2232.76,47.2441 \n",
       "  \"/>\n",
       "</svg>\n"
      ]
     },
     "execution_count": 2,
     "metadata": {},
     "output_type": "execute_result"
    }
   ],
   "source": [
    "#..set number of intervals (N)\n",
    "N = 3; \n",
    "#..compute derived numbers such as \n",
    "#..the points on the boundary (Nbnd) and the mesh width (h)\n",
    "Np1 = N+1; Nm1 = N-1; Np2 = Np1*Np1; Nm2 = Nm1*Nm1; Nbnd = 4*N; h = 1/N; h2=h*h; \n",
    "\n",
    "#..construct the 2D mesh (X) starting from the 1D mesh (x)  \n",
    "#..observe that we make in the 2D mesh the x coordinate increase from left to right and \n",
    "#..the y coordinate increase from top to bottom (as expected)\n",
    "x = Vector(0:h:1); \n",
    "y = Vector(0:h:1); \n",
    "X = repeat(reshape(x, 1, :), length(y), 1);\n",
    "Y = repeat(y, 1, length(x));\n",
    "\n",
    "#..construct the mesh indicator matrix IG \n",
    "#..this indicator matrix will allow to distinguish interior and boundary nodes \n",
    "#..in this indicator matrix the boundary nodes are easy to identify \n",
    "#..for interior nodes IG(i,j) = 0 and for the boundary nodes IG(i,j) = 1\n",
    "#..next construct the indicator vector IGvec by reshaping the indicator matrix IG  \n",
    "IG = ones(Np1,Np1); \n",
    "IG[2:end-1,2:end-1] = zeros(Nm1,Nm1); \n",
    "IGvec = reshape(IG,Np2,1); \n",
    "#..construct array with linear indices allowing to define interior and boundary nodes \n",
    "#..interior: index array with all indices of the interior nodes \n",
    "#..boundary: index array with indices of all the boundary nodes \n",
    "L = LinearIndices(IGvec); \n",
    "interior_cartesian = findall(x->x==0,IGvec);  interior = L[interior_cartesian]; \n",
    "boundary_cartesian = findall(x->x>0,IGvec); boundary = L[boundary_cartesian]; \n",
    "\n",
    "#..construct auxiliary vectors used in the 1D code as well \n",
    "e = ones(Np1);            #..same as in 1D.. \n",
    "e_bnd = ones(Nbnd); #..used to handle the boundary nodes \n",
    "\n",
    "#..Construct one-dimensional matrix\n",
    "A1 = Tridiagonal(-e[2:end], 2*e, -e[2:end]); \n",
    "A1 = (1/h2)*A1;\n",
    "I = Diagonal(e); \n",
    "I_bnd = Diagonal(e_bnd); \n",
    "\n",
    "#..Construct the 2D matrix using Kronecker products \n",
    "Axx = kron(A1,I); \n",
    "Ayy = kron(I,A1); \n",
    "A = Axx+Ayy; \n",
    "\n",
    "#..Construct the right-hand side vector \n",
    "#..Define the source function \n",
    "#..Observe the use of double brackets to make f work on a tuple of coordinates (x,y)\n",
    "sourceterm(x,y) = - 2*x*(x-1) - 2*y*(y-1); \n",
    "#..Evaluate fsource on each node of the grid (Xh)\n",
    "#..Observe the use of the dot syntax to evaluate fsource in all mesh nodes in X \n",
    "F = sourceterm.(X,Y); \n",
    "#..Reshape the F 2D array into an f vector \n",
    "f = reshape(F,Np2); \n",
    "\n",
    "#..Handle the Dirichlet boundary conditions in the matrix and the right-hand side vector \n",
    "A[boundary,boundary] = I_bnd; A[boundary,interior] = zeros(Nbnd, Nm2); \n",
    "f[boundary] = zeros(Nbnd); \n",
    "\n",
    "#..solve the linear system for the finite difference approximation \n",
    "u = A \\ f; \n",
    "\n",
    "#..reshape the computed approximation \n",
    "U = reshape(u,Np1,Np1); \n",
    "\n",
    "#..plot the computed approximation as a contour plot \n",
    "contour(x, y, U, xlabel=\"x\", ylabel=\"y\")"
   ]
  },
  {
   "cell_type": "markdown",
   "metadata": {},
   "source": [
    "## Section 2/6: Convergence Towards the Exact Solution "
   ]
  },
  {
   "cell_type": "markdown",
   "metadata": {},
   "source": [
    "### First Study: Converge of the Numerical Solution to the Exact Solution as the Mesh is Refined"
   ]
  },
  {
   "cell_type": "markdown",
   "metadata": {},
   "source": [
    "Exercises:  \n",
    "1. Construct using pen and paper an analytical reference solution. This can be done for instance as follows. Assume first that $u(x,y) = \\text{whatever-you-like}(x,y) \\, x \\, (x-1) \\, y \\, (y-1)$ where $\\text{whatever-you-like}(x,y)$ is any function in $x$ and $y$. The multiplication with $x$, $x-1$, $y$ and $y-1$ is such that the function $u(x,y)$ satisfies the Dirichlet boundary conditions. Next compute $f(x,y)$ by computing $-\\bigtriangleup u(x,y)$. The function $f(x,y)$ can subsequently be used as source function in the finite difference code;   \n",
    "2. Verify that the difference between the analytical reference solution and the numerically computed solution decreases as the mesh is refined; "
   ]
  },
  {
   "cell_type": "markdown",
   "metadata": {},
   "source": [
    "### Second Study: Converge of the Numerical Solution to the Exact Solution as the Polynomial Degree of the Appproximation is Increased "
   ]
  },
  {
   "cell_type": "markdown",
   "metadata": {},
   "source": [
    "Replace code as above by code that employ DiffEqOperators.jl https://diffeqoperators.sciml.ai/stable/. "
   ]
  },
  {
   "cell_type": "markdown",
   "metadata": {},
   "source": [
    "## Section 3/6: A Closer Look into the Linear Algebra"
   ]
  },
  {
   "cell_type": "markdown",
   "metadata": {},
   "source": [
    "### First Study: dense vs. sparse "
   ]
  },
  {
   "cell_type": "markdown",
   "metadata": {},
   "source": [
    "Compare runtime of solver with A dense and A sparse. The sparse command allow to convert from dense to sparse. Use the @btime macro to compare both variants."
   ]
  },
  {
   "cell_type": "markdown",
   "metadata": {},
   "source": [
    "### (experimental) Second Study: direct vs. iterative"
   ]
  },
  {
   "cell_type": "markdown",
   "metadata": {},
   "source": [
    "Compare runtime of solver using direct and iterative (CG preconditioned by for instance algebraic multigrid) for various problem sizes."
   ]
  },
  {
   "cell_type": "markdown",
   "metadata": {},
   "source": [
    "## Section (4/6): An Application: Coil in Air "
   ]
  },
  {
   "cell_type": "markdown",
   "metadata": {},
   "source": [
    "### Computation of the potential "
   ]
  },
  {
   "cell_type": "code",
   "execution_count": null,
   "metadata": {},
   "outputs": [],
   "source": [
    "#..set number of intervals (N)\n",
    "N = 50; \n",
    "#..compute derived numbers such as \n",
    "#..the points on the boundary (Nbnd) and the mesh width (h)\n",
    "Np1 = N+1; Nm1 = N-1; Np2 = Np1*Np1; Nm2 = Nm1*Nm1; Nbnd = 4*N; h = 1/N; h2=h*h; \n",
    "\n",
    "#..construct the 2D mesh (X) starting from the 1D mesh (x)  \n",
    "#..observe that we make in the 2D mesh the x coordinate increase from left to right and \n",
    "#..the y coordinate increase from top to bottom (as expected)\n",
    "x = Vector(0:h:1); \n",
    "y = Vector(0:h:1); \n",
    "X = repeat(reshape(x, 1, :), length(y), 1);\n",
    "Y = repeat(y, 1, length(x));\n",
    "\n",
    "#..construct the mesh indicator matrix IG \n",
    "#..this indicator matrix will allow to distinguish interior and boundary nodes \n",
    "#..in this indicator matrix the boundary nodes are easy to identify \n",
    "#..for interior nodes IG(i,j) = 0 and for the boundary nodes IG(i,j) = 1\n",
    "#..next construct the indicator vector IGvec by reshaping the indicator matrix IG  \n",
    "IG = ones(Np1,Np1); \n",
    "IG[2:end-1,2:end-1] = zeros(Nm1,Nm1); \n",
    "IGvec = reshape(IG,Np2,1); \n",
    "#..construct array with linear indices allowing to define interior and boundary nodes \n",
    "#..interior: index array with all indices of the interior nodes \n",
    "#..boundary: index array with indices of all the boundary nodes \n",
    "L = LinearIndices(IGvec); \n",
    "interior_cartesian = findall(x->x==0,IGvec);  interior = L[interior_cartesian]; \n",
    "boundary_cartesian = findall(x->x>0,IGvec); boundary = L[boundary_cartesian]; \n",
    "\n",
    "#..construct auxiliary vectors used in the 1D code as well \n",
    "e = ones(Np1);            #..same as in 1D.. \n",
    "e_bnd = ones(Nbnd); #..used to handle the boundary nodes \n",
    "\n",
    "#..Construct one-dimensional matrix\n",
    "A1 = Tridiagonal(-e[2:end], 2*e, -e[2:end]); \n",
    "A1 = (1/h2)*A1;\n",
    "I = Diagonal(e); \n",
    "I_bnd = Diagonal(e_bnd); \n",
    "\n",
    "#..Construct the 2D matrix using Kronecker products \n",
    "A = kron(A1,I) + kron(I,A1); \n",
    "\n",
    "#..Construct the right-hand side vector \n",
    "#..Define the source function \n",
    "#..Observe the use of double brackets to make f work on a tuple of coordinates (x,y)\n",
    "sourceterm(x,y) = (x.>=.35).*(x.<=.45).*(y.>=.45).*(y.<=.55) .- (x.>=.55).*(x.<=.65).*(y.>=.45).*(y.<=.55); \n",
    "#..Evaluate fsource on each node of the grid (Xh)\n",
    "#..Observe the use of the dot syntax to evaluate fsource in all mesh nodes in X \n",
    "F = sourceterm.(X,Y); \n",
    "#..Reshape the F 2D array into an f vector \n",
    "f = reshape(F,Np2); \n",
    "\n",
    "#..Handle the Dirichlet boundary conditions in the matrix and the right-hand side vector \n",
    "A[boundary,boundary] = I_bnd; A[boundary,interior] = zeros(Nbnd, Nm2); \n",
    "f[boundary] = zeros(Nbnd); \n",
    "\n",
    "#..solve the linear system for the finite difference approximation \n",
    "u = A \\ f; \n",
    "\n",
    "#..reshape the computed approximation \n",
    "U = reshape(u,Np1,Np1); \n",
    "\n",
    "#..plot the computed approximation as a contour plot \n",
    "contour(x, y, U, xlabel=\"x\", ylabel=\"y\")"
   ]
  },
  {
   "cell_type": "markdown",
   "metadata": {},
   "source": [
    "### (in development): Computation of the flux "
   ]
  },
  {
   "cell_type": "markdown",
   "metadata": {},
   "source": [
    "The flux is computed as the gradient of the potential. Details are to be filled in. "
   ]
  },
  {
   "cell_type": "code",
   "execution_count": 50,
   "metadata": {},
   "outputs": [
    {
     "ename": "LoadError",
     "evalue": "Cannot convert Matrix{Any} to series data for plotting",
     "output_type": "error",
     "traceback": [
      "Cannot convert Matrix{Any} to series data for plotting",
      "",
      "Stacktrace:",
      "  [1] error(s::String)",
      "    @ Base ./error.jl:33",
      "  [2] _prepare_series_data(x::Matrix{Any})",
      "    @ RecipesPipeline ~/.julia/packages/RecipesPipeline/7ijBv/src/series.jl:8",
      "  [3] _series_data_vector(x::Matrix{Any}, plotattributes::Dict{Symbol, Any})",
      "    @ RecipesPipeline ~/.julia/packages/RecipesPipeline/7ijBv/src/series.jl:27",
      "  [4] macro expansion",
      "    @ ~/.julia/packages/RecipesPipeline/7ijBv/src/series.jl:126 [inlined]",
      "  [5] apply_recipe(plotattributes::AbstractDict{Symbol, Any}, #unused#::Type{RecipesPipeline.SliceIt}, x::Any, y::Any, z::Any)",
      "    @ RecipesPipeline ~/.julia/packages/RecipesBase/qpxEX/src/RecipesBase.jl:289",
      "  [6] _process_userrecipes!(plt::Any, plotattributes::Any, args::Any)",
      "    @ RecipesPipeline ~/.julia/packages/RecipesPipeline/7ijBv/src/user_recipe.jl:36",
      "  [7] recipe_pipeline!(plt::Any, plotattributes::Any, args::Any)",
      "    @ RecipesPipeline ~/.julia/packages/RecipesPipeline/7ijBv/src/RecipesPipeline.jl:70",
      "  [8] _plot!(plt::Plots.Plot, plotattributes::Any, args::Any)",
      "    @ Plots ~/.julia/packages/Plots/hxZ0l/src/plot.jl:208",
      "  [9] plot(::Any, ::Vararg{Any, N} where N; kw::Any)",
      "    @ Plots ~/.julia/packages/Plots/hxZ0l/src/plot.jl:91",
      " [10] quiver(::Any, ::Vararg{Any, N} where N; kw::Any)",
      "    @ Plots ~/.julia/packages/RecipesBase/qpxEX/src/RecipesBase.jl:410",
      " [11] quiver(::Any, ::Vararg{Any, N} where N)",
      "    @ Plots ~/.julia/packages/RecipesBase/qpxEX/src/RecipesBase.jl:410",
      " [12] top-level scope",
      "    @ In[50]:82",
      " [13] eval",
      "    @ ./boot.jl:360 [inlined]",
      " [14] include_string(mapexpr::typeof(REPL.softscope), mod::Module, code::String, filename::String)",
      "    @ Base ./loading.jl:1116"
     ]
    }
   ],
   "source": [
    "#..set number of intervals (N)\n",
    "N = 50; \n",
    "#..compute derived numbers such as \n",
    "#..the points on the boundary (Nbnd) and the mesh width (h)\n",
    "Np1 = N+1; Nm1 = N-1; Np2 = Np1*Np1; Nm2 = Nm1*Nm1; Nbnd = 4*N; h = 1/N; h2=h*h; \n",
    "\n",
    "#..construct the 2D mesh (X) starting from the 1D mesh (x)  \n",
    "#..observe that we make in the 2D mesh the x coordinate increase from left to right and \n",
    "#..the y coordinate increase from top to bottom (as expected)\n",
    "x = Vector(0:h:1); \n",
    "y = Vector(0:h:1); \n",
    "X = repeat(reshape(x, 1, :), length(y), 1);\n",
    "Y = repeat(y, 1, length(x));\n",
    "xmid = x[1:end-1].+h/2; \n",
    "ymid = y[1:end-1].+h/2; \n",
    "\n",
    "#..construct the mesh indicator matrix IG \n",
    "#..this indicator matrix will allow to distinguish interior and boundary nodes \n",
    "#..in this indicator matrix the boundary nodes are easy to identify \n",
    "#..for interior nodes IG(i,j) = 0 and for the boundary nodes IG(i,j) = 1\n",
    "#..next construct the indicator vector IGvec by reshaping the indicator matrix IG  \n",
    "IG = ones(Np1,Np1); \n",
    "IG[2:end-1,2:end-1] = zeros(Nm1,Nm1); \n",
    "IGvec = reshape(IG,Np2,1); \n",
    "#..construct array with linear indices allowing to define interior and boundary nodes \n",
    "#..interior: index array with all indices of the interior nodes \n",
    "#..boundary: index array with indices of all the boundary nodes \n",
    "L = LinearIndices(IGvec); \n",
    "interior_cartesian = findall(x->x==0,IGvec);  interior = L[interior_cartesian]; \n",
    "boundary_cartesian = findall(x->x>0,IGvec); boundary = L[boundary_cartesian]; \n",
    "\n",
    "#..construct auxiliary vectors used in the 1D code as well \n",
    "e = ones(Np1);            #..same as in 1D.. \n",
    "e_bnd = ones(Nbnd); #..used to handle the boundary nodes \n",
    "\n",
    "#..Construct one-dimensional matrix\n",
    "A1 = Tridiagonal(-e[2:end], 2*e, -e[2:end]); \n",
    "A1 = (1/h2)*A1;\n",
    "I = Diagonal(e); \n",
    "I_bnd = Diagonal(e_bnd); \n",
    "\n",
    "#..construct the matrix enabling the computation of ux and uy  \n",
    "#..we use comprehension to construct the rectangular matrix B \n",
    "B = [i==j ? -1/h : i==j-1 ? 1/h : 0 for i = 1:N, j=1:Np1]\n",
    "\n",
    "#..Construct the 2D matrix using Kronecker products \n",
    "A = kron(A1,I) + kron(I,A1); \n",
    "Bx = kron(B,I);\n",
    "By = kron(I,B);\n",
    "\n",
    "#..Construct the right-hand side vector \n",
    "#..Define the source function \n",
    "#..Observe the use of double brackets to make f work on a tuple of coordinates (x,y)\n",
    "sourceterm(x,y) = (x.>=.35).*(x.<=.45).*(y.>=.45).*(y.<=.55) .- (x.>=.55).*(x.<=.65).*(y.>=.45).*(y.<=.55); \n",
    "#..Evaluate fsource on each node of the grid (Xh)\n",
    "#..Observe the use of the dot syntax to evaluate fsource in all mesh nodes in X \n",
    "F = sourceterm.(X,Y); \n",
    "#..Reshape the F 2D array into an f vector \n",
    "f = reshape(F,Np2); \n",
    "\n",
    "#..Handle the Dirichlet boundary conditions in the matrix and the right-hand side vector \n",
    "A[boundary,boundary] = I_bnd; A[boundary,interior] = zeros(Nbnd, Nm2); \n",
    "f[boundary] = zeros(Nbnd); \n",
    "\n",
    "#..solve the linear system for the finite difference approximation \n",
    "u = A \\ f; \n",
    "ux = Bx*u; \n",
    "uy = By*u; \n",
    "\n",
    "#..reshape the computed approximation \n",
    "#..observe the fact that Ux and Uy live on a coarser mesh \n",
    "U = reshape(u,Np1,Np1); \n",
    "Ux = reshape(ux,Np1,N); \n",
    "Uy = reshape(uy,N,Np1); \n",
    "\n",
    "#..plot the computed approximation as a contour plot \n",
    "#p1 = contour(x, y, U, xlabel=\"x\", ylabel=\"y\")\n",
    "\n",
    "p2 = heatmap(Ux, xlabel=\"x\", ylabel=\"y\")\n",
    "\n",
    "p3 = heatmap(Uy, xlabel=\"x\", ylabel=\"y\")\n",
    "\n",
    "p4 = quiver(Ux, Uy) \n",
    "\n",
    "plot(p1,p2,p3,p4,layout=(4,1))"
   ]
  },
  {
   "cell_type": "markdown",
   "metadata": {},
   "source": [
    "## Section 5/6: A Closer Look into Julia"
   ]
  },
  {
   "cell_type": "markdown",
   "metadata": {},
   "source": [
    "In both the second and third lab session, we saw the use of broadcast (with dot-syntax) to apply a function (the source function) to a set of points (the mesh). This notion extends in Julia by so-called iterable collections and the function map. More information is provided e.g. here https://docs.julialang.org/en/v1/base/collections/#Iterable-Collections .   "
   ]
  },
  {
   "cell_type": "markdown",
   "metadata": {},
   "source": [
    "## Section 6/6: References"
   ]
  },
  {
   "cell_type": "markdown",
   "metadata": {},
   "source": [
    "1. The finite difference method on wikipedia [wiki](https://en.wikipedia.org/wiki/Finite_difference_method). Especially Section 5 of this page is revelant here. \n",
    "2. The construction of the matrix $A$ using the sum of two Kronecker products is described on https://en.wikipedia.org/wiki/Kronecker_sum_of_discrete_Laplacians. "
   ]
  },
  {
   "cell_type": "markdown",
   "metadata": {},
   "source": [
    "## Sandbox"
   ]
  },
  {
   "cell_type": "markdown",
   "metadata": {},
   "source": [
    "### Eigenvalues and positive definiteness of matrices "
   ]
  },
  {
   "cell_type": "code",
   "execution_count": 6,
   "metadata": {},
   "outputs": [
    {
     "data": {
      "text/plain": [
       "false"
      ]
     },
     "execution_count": 6,
     "metadata": {},
     "output_type": "execute_result"
    }
   ],
   "source": [
    "# construct 5-by-5 example for A \n",
    "# and check whether A is positive definite \n",
    "A = [1 0 0 0 0; -1 2 -1 0 0; 0 -1 2 -1 0; 0 0 -1 2 -1; 0 0 0 0 1]\n",
    "isposdef(A)"
   ]
  },
  {
   "cell_type": "code",
   "execution_count": 7,
   "metadata": {},
   "outputs": [
    {
     "data": {
      "text/plain": [
       "5-element Vector{Float64}:\n",
       " 0.5857864376269047\n",
       " 1.0\n",
       " 1.0\n",
       " 1.9999999999999993\n",
       " 3.4142135623730914"
      ]
     },
     "execution_count": 7,
     "metadata": {},
     "output_type": "execute_result"
    }
   ],
   "source": [
    "eigvals(A)"
   ]
  },
  {
   "cell_type": "code",
   "execution_count": 8,
   "metadata": {},
   "outputs": [
    {
     "data": {
      "text/plain": [
       "true"
      ]
     },
     "execution_count": 8,
     "metadata": {},
     "output_type": "execute_result"
    }
   ],
   "source": [
    "Amod = [1 0 0 0 0; 0 2 -1 0 0; 0 -1 2 -1 0; 0 0 -1 2 0; 0 0 0 0 1]\n",
    "isposdef(Amod)"
   ]
  },
  {
   "cell_type": "code",
   "execution_count": 9,
   "metadata": {},
   "outputs": [
    {
     "data": {
      "text/plain": [
       "5-element Vector{Float64}:\n",
       " 0.5857864376269047\n",
       " 1.0\n",
       " 1.0\n",
       " 1.9999999999999993\n",
       " 3.4142135623730914"
      ]
     },
     "execution_count": 9,
     "metadata": {},
     "output_type": "execute_result"
    }
   ],
   "source": [
    "eigvals(A)"
   ]
  },
  {
   "cell_type": "markdown",
   "metadata": {},
   "source": [
    "### More on LinearIndices"
   ]
  },
  {
   "cell_type": "code",
   "execution_count": 10,
   "metadata": {},
   "outputs": [
    {
     "data": {
      "text/plain": [
       "2×2 LinearIndices{2, Tuple{Base.OneTo{Int64}, Base.OneTo{Int64}}}:\n",
       " 1  3\n",
       " 2  4"
      ]
     },
     "execution_count": 10,
     "metadata": {},
     "output_type": "execute_result"
    }
   ],
   "source": [
    "A = [10 20; 30 40]\n",
    "IG = LinearIndices(A)"
   ]
  },
  {
   "cell_type": "code",
   "execution_count": 3,
   "metadata": {},
   "outputs": [
    {
     "name": "stdout",
     "output_type": "stream",
     "text": [
      "search: \u001b[0m\u001b[1mL\u001b[22m\u001b[0m\u001b[1mi\u001b[22m\u001b[0m\u001b[1mn\u001b[22m\u001b[0m\u001b[1me\u001b[22m\u001b[0m\u001b[1ma\u001b[22m\u001b[0m\u001b[1mr\u001b[22m\u001b[0m\u001b[1mI\u001b[22m\u001b[0m\u001b[1mn\u001b[22m\u001b[0m\u001b[1md\u001b[22m\u001b[0m\u001b[1mi\u001b[22m\u001b[0m\u001b[1mc\u001b[22m\u001b[0m\u001b[1me\u001b[22m\u001b[0m\u001b[1ms\u001b[22m\n",
      "\n"
     ]
    },
    {
     "data": {
      "text/latex": [
       "\\begin{verbatim}\n",
       "LinearIndices(A::AbstractArray)\n",
       "\\end{verbatim}\n",
       "Return a \\texttt{LinearIndices} array with the same shape and \\href{@ref}{\\texttt{axes}} as \\texttt{A}, holding the linear index of each entry in \\texttt{A}. Indexing this array with cartesian indices allows mapping them to linear indices.\n",
       "\n",
       "For arrays with conventional indexing (indices start at 1), or any multidimensional array, linear indices range from 1 to \\texttt{length(A)}. However, for \\texttt{AbstractVector}s linear indices are \\texttt{axes(A, 1)}, and therefore do not start at 1 for vectors with unconventional indexing.\n",
       "\n",
       "Calling this function is the \"safe\" way to write algorithms that exploit linear indexing.\n",
       "\n",
       "\\section{Examples}\n",
       "\\begin{verbatim}\n",
       "julia> A = fill(1, (5,6,7));\n",
       "\n",
       "julia> b = LinearIndices(A);\n",
       "\n",
       "julia> extrema(b)\n",
       "(1, 210)\n",
       "\\end{verbatim}\n",
       "\\begin{verbatim}\n",
       "LinearIndices(inds::CartesianIndices) -> R\n",
       "LinearIndices(sz::Dims) -> R\n",
       "LinearIndices((istart:istop, jstart:jstop, ...)) -> R\n",
       "\\end{verbatim}\n",
       "Return a \\texttt{LinearIndices} array with the specified shape or \\href{@ref}{\\texttt{axes}}.\n",
       "\n",
       "\\section{Example}\n",
       "The main purpose of this constructor is intuitive conversion from cartesian to linear indexing:\n",
       "\n",
       "\\begin{verbatim}\n",
       "julia> linear = LinearIndices((1:3, 1:2))\n",
       "3×2 LinearIndices{2, Tuple{UnitRange{Int64}, UnitRange{Int64}}}:\n",
       " 1  4\n",
       " 2  5\n",
       " 3  6\n",
       "\n",
       "julia> linear[1,2]\n",
       "4\n",
       "\\end{verbatim}\n"
      ],
      "text/markdown": [
       "```\n",
       "LinearIndices(A::AbstractArray)\n",
       "```\n",
       "\n",
       "Return a `LinearIndices` array with the same shape and [`axes`](@ref) as `A`, holding the linear index of each entry in `A`. Indexing this array with cartesian indices allows mapping them to linear indices.\n",
       "\n",
       "For arrays with conventional indexing (indices start at 1), or any multidimensional array, linear indices range from 1 to `length(A)`. However, for `AbstractVector`s linear indices are `axes(A, 1)`, and therefore do not start at 1 for vectors with unconventional indexing.\n",
       "\n",
       "Calling this function is the \"safe\" way to write algorithms that exploit linear indexing.\n",
       "\n",
       "# Examples\n",
       "\n",
       "```jldoctest\n",
       "julia> A = fill(1, (5,6,7));\n",
       "\n",
       "julia> b = LinearIndices(A);\n",
       "\n",
       "julia> extrema(b)\n",
       "(1, 210)\n",
       "```\n",
       "\n",
       "```\n",
       "LinearIndices(inds::CartesianIndices) -> R\n",
       "LinearIndices(sz::Dims) -> R\n",
       "LinearIndices((istart:istop, jstart:jstop, ...)) -> R\n",
       "```\n",
       "\n",
       "Return a `LinearIndices` array with the specified shape or [`axes`](@ref).\n",
       "\n",
       "# Example\n",
       "\n",
       "The main purpose of this constructor is intuitive conversion from cartesian to linear indexing:\n",
       "\n",
       "```jldoctest\n",
       "julia> linear = LinearIndices((1:3, 1:2))\n",
       "3×2 LinearIndices{2, Tuple{UnitRange{Int64}, UnitRange{Int64}}}:\n",
       " 1  4\n",
       " 2  5\n",
       " 3  6\n",
       "\n",
       "julia> linear[1,2]\n",
       "4\n",
       "```\n"
      ],
      "text/plain": [
       "  \u001b[38;5;81mLinearIndices\u001b[0m(\u001b[0m\u001b[39mA\u001b[0m\u001b[38;5;81m::\u001b[0m\u001b[38;5;81mAbstractArray\u001b[0m\u001b[39m)\u001b[0m\u001b[39m\u001b[0m\n",
       "\n",
       "\n",
       "  Return a \u001b[36mLinearIndices\u001b[39m array with the same shape and \u001b[36maxes\u001b[39m as \u001b[36mA\u001b[39m, holding the\n",
       "  linear index of each entry in \u001b[36mA\u001b[39m. Indexing this array with cartesian indices\n",
       "  allows mapping them to linear indices.\n",
       "\n",
       "  For arrays with conventional indexing (indices start at 1), or any\n",
       "  multidimensional array, linear indices range from 1 to \u001b[36mlength(A)\u001b[39m. However,\n",
       "  for \u001b[36mAbstractVector\u001b[39ms linear indices are \u001b[36maxes(A, 1)\u001b[39m, and therefore do not\n",
       "  start at 1 for vectors with unconventional indexing.\n",
       "\n",
       "  Calling this function is the \"safe\" way to write algorithms that exploit\n",
       "  linear indexing.\n",
       "\n",
       "\u001b[1m  Examples\u001b[22m\n",
       "\u001b[1m  ≡≡≡≡≡≡≡≡≡≡\u001b[22m\n",
       "\n",
       "  \u001b[31;1mjulia> \u001b[0m\u001b[39mA\u001b[0m \u001b[0m\u001b[38;5;197m=\u001b[0m \u001b[0m\u001b[38;5;81mfill\u001b[0m(\u001b[0m\u001b[38;5;141m1\u001b[0m\u001b[39m,\u001b[0m \u001b[0m(\u001b[0m\u001b[38;5;141m5\u001b[0m\u001b[39m,\u001b[0m\u001b[38;5;141m6\u001b[0m\u001b[39m,\u001b[0m\u001b[38;5;141m7\u001b[0m\u001b[39m)\u001b[0m\u001b[39m)\u001b[0m\u001b[39m;\u001b[0m\n",
       "  \u001b[0m\u001b[39m\u001b[0m\n",
       "  \u001b[31;1mjulia> \u001b[0m\u001b[39mb\u001b[0m \u001b[0m\u001b[38;5;197m=\u001b[0m \u001b[0m\u001b[38;5;81mLinearIndices\u001b[0m(\u001b[0m\u001b[39mA\u001b[0m\u001b[39m)\u001b[0m\u001b[39m;\u001b[0m\n",
       "  \u001b[0m\u001b[39m\u001b[0m\n",
       "  \u001b[31;1mjulia> \u001b[0m\u001b[38;5;81mextrema\u001b[0m(\u001b[0m\u001b[39mb\u001b[0m\u001b[39m)\u001b[0m\n",
       "  \u001b[0m\u001b[39m\u001b[0m(1, 210)\n",
       "\n",
       "\n",
       "  \u001b[38;5;81mLinearIndices\u001b[0m(\u001b[0m\u001b[39minds\u001b[0m\u001b[38;5;81m::\u001b[0m\u001b[38;5;81mCartesianIndices\u001b[0m\u001b[39m)\u001b[0m \u001b[0m\u001b[38;5;197m->\u001b[0m \u001b[0m\u001b[39mR\u001b[0m\n",
       "  \u001b[0m\u001b[38;5;81mLinearIndices\u001b[0m(\u001b[0m\u001b[39msz\u001b[0m\u001b[38;5;81m::\u001b[0m\u001b[38;5;81mDims\u001b[0m\u001b[39m)\u001b[0m \u001b[0m\u001b[38;5;197m->\u001b[0m \u001b[0m\u001b[39mR\u001b[0m\n",
       "  \u001b[0m\u001b[38;5;81mLinearIndices\u001b[0m(\u001b[0m(\u001b[0m\u001b[39mistart\u001b[0m\u001b[38;5;197m:\u001b[0m\u001b[39mistop\u001b[0m\u001b[39m,\u001b[0m \u001b[0m\u001b[39mjstart\u001b[0m\u001b[38;5;197m:\u001b[0m\u001b[39mjstop\u001b[0m\u001b[39m,\u001b[0m \u001b[0m\u001b[38;5;197m...\u001b[0m\u001b[39m)\u001b[0m\u001b[39m)\u001b[0m \u001b[0m\u001b[38;5;197m->\u001b[0m \u001b[0m\u001b[39mR\u001b[0m\u001b[39m\u001b[0m\n",
       "\n",
       "\n",
       "  Return a \u001b[36mLinearIndices\u001b[39m array with the specified shape or \u001b[36maxes\u001b[39m.\n",
       "\n",
       "\u001b[1m  Example\u001b[22m\n",
       "\u001b[1m  ≡≡≡≡≡≡≡≡≡\u001b[22m\n",
       "\n",
       "  The main purpose of this constructor is intuitive conversion from cartesian\n",
       "  to linear indexing:\n",
       "\n",
       "  \u001b[31;1mjulia> \u001b[0m\u001b[39mlinear\u001b[0m \u001b[0m\u001b[38;5;197m=\u001b[0m \u001b[0m\u001b[38;5;81mLinearIndices\u001b[0m(\u001b[0m(\u001b[0m\u001b[38;5;141m1\u001b[0m\u001b[38;5;197m:\u001b[0m\u001b[38;5;141m3\u001b[0m\u001b[39m,\u001b[0m \u001b[0m\u001b[38;5;141m1\u001b[0m\u001b[38;5;197m:\u001b[0m\u001b[38;5;141m2\u001b[0m\u001b[39m)\u001b[0m\u001b[39m)\u001b[0m\n",
       "  \u001b[0m\u001b[39m\u001b[0m3×2 LinearIndices{2, Tuple{UnitRange{Int64}, UnitRange{Int64}}}:\n",
       "   1  4\n",
       "   2  5\n",
       "   3  6\n",
       "  \n",
       "  \u001b[31;1mjulia> \u001b[0m\u001b[39mlinear\u001b[0m\u001b[39m[\u001b[0m\u001b[38;5;141m1\u001b[0m\u001b[39m,\u001b[0m\u001b[38;5;141m2\u001b[0m\u001b[39m]\u001b[0m\n",
       "  \u001b[0m\u001b[39m\u001b[0m4\n"
      ]
     },
     "execution_count": 3,
     "metadata": {},
     "output_type": "execute_result"
    }
   ],
   "source": [
    "?LinearIndices"
   ]
  },
  {
   "cell_type": "code",
   "execution_count": null,
   "metadata": {},
   "outputs": [],
   "source": []
  },
  {
   "cell_type": "code",
   "execution_count": null,
   "metadata": {},
   "outputs": [],
   "source": []
  }
 ],
 "metadata": {
  "kernelspec": {
   "display_name": "Julia 1.8.1",
   "language": "julia",
   "name": "julia-1.8"
  },
  "language_info": {
   "file_extension": ".jl",
   "mimetype": "application/julia",
   "name": "julia",
   "version": "1.8.1"
  }
 },
 "nbformat": 4,
 "nbformat_minor": 2
}
