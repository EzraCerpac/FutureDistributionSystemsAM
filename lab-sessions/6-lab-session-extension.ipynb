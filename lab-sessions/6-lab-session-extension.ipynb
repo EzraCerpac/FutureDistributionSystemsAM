{
 "cells": [
  {
   "cell_type": "markdown",
   "metadata": {},
   "source": [
    "# EE4375: Sixth Lab Session Extensions: Galerkin Finite Element Method for the Heat and Wave Equation on the Unit Square "
   ]
  },
  {
   "cell_type": "markdown",
   "metadata": {},
   "source": [
    "Solves the Heat equation and the wave on the unit square domain $\\Omega=(0,1)^2$ supplied with the homogeneous Dirichlet boundary condition $u = 0$ on $\\Gamma$. Linear finite elements on triangular elements are used for the spatial discretization. DifferentialEquations.jl is used for the time integration. "
   ]
  },
  {
   "cell_type": "markdown",
   "metadata": {},
   "source": [
    "## Import Packages"
   ]
  },
  {
   "cell_type": "code",
   "execution_count": 1,
   "metadata": {},
   "outputs": [],
   "source": [
    "import Gmsh: gmsh \n",
    "using GR \n",
    "using LinearAlgebra\n",
    "using SparseArrays \n",
    "using DifferentialEquations\n",
    "using Plots "
   ]
  },
  {
   "cell_type": "markdown",
   "metadata": {},
   "source": [
    "## Section 1: Spatial discretization (take from 6th lab session)"
   ]
  },
  {
   "cell_type": "code",
   "execution_count": null,
   "metadata": {},
   "outputs": [],
   "source": []
  },
  {
   "cell_type": "markdown",
   "metadata": {},
   "source": [
    "## Section 2: Solving the Scalar Diffusion Equation in Time Domain "
   ]
  },
  {
   "cell_type": "markdown",
   "metadata": {},
   "source": [
    "### Defining the Problem "
   ]
  },
  {
   "cell_type": "code",
   "execution_count": 9,
   "metadata": {},
   "outputs": [],
   "source": [
    "#..define the right-hand side of the ordinary differential equation of the equation of motion \n",
    "function scalarDiffusionEquation!(du,u,p,t)\n",
    "    du .= M \\ (sin(2*π*50*t)*f - A*u)\n",
    "end\n",
    "\n",
    "#..set initial position and velocity\n",
    "u0 = fill(1.,nnodes)\n",
    "                                    \n",
    "#..set time begin and end forward\n",
    "t0 = 0.0\n",
    "tf = 2.0\n",
    "tspan = (t0,tf)\n",
    "\n",
    "#..define ODE problem to be solved  \n",
    "prob_scalarDiffusion = ODEProblem(scalarDiffusionEquation!, u0, tspan)\n",
    "\n",
    "#..solve ODE problem \n",
    "sol = DifferentialEquations.solve(prob_scalarDiffusion);"
   ]
  },
  {
   "cell_type": "markdown",
   "metadata": {},
   "source": [
    "### Plotting the computed solution \n",
    "Requires code optimization (unclear why and how). "
   ]
  },
  {
   "cell_type": "code",
   "execution_count": null,
   "metadata": {},
   "outputs": [],
   "source": [
    "dt = 2\n",
    "tvec = Vector(t0:dt:tf)\n",
    "\n",
    "Plots.plot(sol)\n",
    "for i in 2:nnodes-1\n",
    "    Plots.plot!(sol,vars=i)\n",
    "end\n",
    "p1 = Plots.plot!(sol)\n",
    "title!(\"Displacement\")\n",
    "\n",
    "#..plot solution of velocity and position as function of time  \n",
    "Plots.plot(p1)"
   ]
  },
  {
   "cell_type": "code",
   "execution_count": null,
   "metadata": {},
   "outputs": [],
   "source": [
    "anim = @animate for i in t0:tf\n",
    "    Plots.surface(xnode,ynode,sol(i/10),st=:surface)\n",
    "    zlims!(-.2, 1.5)\n",
    "end\n",
    "gif(anim, \"my-animation.gif\", fps = 1)"
   ]
  },
  {
   "cell_type": "markdown",
   "metadata": {},
   "source": [
    "## Section 3: Solving a Wave Equation in Time Domain "
   ]
  },
  {
   "cell_type": "code",
   "execution_count": null,
   "metadata": {},
   "outputs": [],
   "source": [
    "# set damping matrix\n",
    "C = .005*M \n",
    "\n",
    "#..define the right-hand side of the ordinary differential equation of the equation of motion \n",
    "function scalarWaveEquation!(ddu,du,u,p,t)\n",
    "    ddu .= M \\ (f - A*u - C*du)\n",
    "end\n",
    "\n",
    "#..set initial position and velocity\n",
    "u0 = fill(0.,nnodes)\n",
    "\n",
    "v0 = zeros(nnodes)\n",
    "# v0[4] = 1\n",
    "                                    \n",
    "#..set time begin and end forward\n",
    "t0 = 0.0\n",
    "tf = 20.0\n",
    "tspan = (t0,tf)           \n",
    "\n",
    "#..define ODE problem to be solved  \n",
    "prob = SecondOrderODEProblem(scalarWaveEquation!,v0,u0,tspan)\n",
    "\n",
    "#..solve ODE problem \n",
    "sol = DifferentialEquations.solve(prob);"
   ]
  },
  {
   "cell_type": "markdown",
   "metadata": {},
   "source": [
    "### Post-plotting the Solution using time-traces  "
   ]
  },
  {
   "cell_type": "code",
   "execution_count": null,
   "metadata": {},
   "outputs": [],
   "source": [
    "dt = 1\n",
    "tvec = Vector(t0:dt:tf)\n",
    "\n",
    "#..velocity and position have vars=(1:N) and vars=(N+1,2N), respectively. \n",
    "Plots.plot(sol,vars=1)\n",
    "for i in 2:nnodes-1\n",
    "    Plots.plot!(sol,vars=i)\n",
    "end\n",
    "p1 = Plots.plot!(sol,vars=nnodes)\n",
    "title!(\"Velocity\")\n",
    "\n",
    "plot(sol,vars=nnodes+1)\n",
    "for i in nnodes+2:2*nnodes-1\n",
    "    Plots.plot!(sol,vars=i)\n",
    "end\n",
    "p2 = Plots.plot!(sol,vars=2*nnodes)\n",
    "title!(\"Displacement\")\n",
    "\n",
    "#..plot solution of velocity and position as function of time  \n",
    "Plots.plot(p1,p2,layout=(2,1))"
   ]
  },
  {
   "cell_type": "markdown",
   "metadata": {},
   "source": [
    "### Post-plotting using animation "
   ]
  },
  {
   "cell_type": "code",
   "execution_count": null,
   "metadata": {},
   "outputs": [],
   "source": [
    "anim = @animate for i in t0:tf\n",
    "    Plots.surface(xnode,ynode,sol(i/10)[nnodes+1:2*nnodes],st=:surface)\n",
    "    zlims!(-.2, .4)\n",
    "end\n",
    "gif(anim, \"my-animation.gif\", fps = 15)"
   ]
  },
  {
   "cell_type": "code",
   "execution_count": null,
   "metadata": {},
   "outputs": [],
   "source": []
  }
 ],
 "metadata": {
  "kernelspec": {
   "display_name": "Julia 1.8.1",
   "language": "julia",
   "name": "julia-1.8"
  },
  "language_info": {
   "file_extension": ".jl",
   "mimetype": "application/julia",
   "name": "julia",
   "version": "1.8.1"
  }
 },
 "nbformat": 4,
 "nbformat_minor": 2
}
