{
 "cells": [
  {
   "cell_type": "markdown",
   "metadata": {
    "collapsed": true
   },
   "source": [
    "# 1D FEM: Symbolic Computation of Elementary Stiffness and Mass Matrix "
   ]
  },
  {
   "cell_type": "code",
   "execution_count": 1,
   "metadata": {},
   "outputs": [
    {
     "name": "stdout",
     "output_type": "stream",
     "text": [
      "Succesfully imported numpy -- Version: 1.21.6\n",
      "Succesfully imported scipy -- Version: 1.7.3\n",
      "Succesfully imported sympy -- Version: 1.8\n",
      "Succesfully imported matplotlib.pyplot\n"
     ]
    }
   ],
   "source": [
    "import numpy as np\n",
    "print(\"Succesfully imported %s -- Version: %s\"%(np.__name__,np.__version__))\n",
    "import scipy\n",
    "print(\"Succesfully imported %s -- Version: %s\"%(scipy.__name__,scipy.__version__))\n",
    "import sympy as sym \n",
    "print(\"Succesfully imported %s -- Version: %s\"%(sym.__name__,sym.__version__))\n",
    "import matplotlib.pyplot as plt\n",
    "print(\"Succesfully imported %s\"% plt.__name__)"
   ]
  },
  {
   "cell_type": "markdown",
   "metadata": {},
   "source": [
    "## Section 1/2: One-Dimensional Linear Lagrange Shape Function"
   ]
  },
  {
   "cell_type": "markdown",
   "metadata": {},
   "source": [
    "### Assume element length 1 and thus no scaling with mesh width"
   ]
  },
  {
   "cell_type": "code",
   "execution_count": 2,
   "metadata": {},
   "outputs": [
    {
     "name": "stdout",
     "output_type": "stream",
     "text": [
      "contribution to the stiffness matrix\n",
      "⎡1   -1⎤\n",
      "⎢      ⎥\n",
      "⎣-1  1 ⎦\n",
      "contribution to the mass matrix\n",
      "⎡1/3  1/6⎤\n",
      "⎢        ⎥\n",
      "⎣1/6  1/3⎦\n"
     ]
    },
    {
     "data": {
      "image/png": "[encoded data removed]",
      "text/plain": [
       "<Figure size 432x288 with 1 Axes>"
      ]
     },
     "metadata": {
      "needs_background": "light"
     },
     "output_type": "display_data"
    }
   ],
   "source": [
    "sym.var('x')\n",
    "phi1 = 1-x\n",
    "phi2 = x\n",
    "phi = sym.Matrix([phi1, phi2])\n",
    "dphi = sym.diff(phi, x)\n",
    "A = sym.integrate(dphi*sym.Transpose(dphi), (x, 0.,1))\n",
    "M = sym.integrate(phi*sym.Transpose(phi), (x, 0.,1))\n",
    "print('contribution to the stiffness matrix'), sym.pprint(A)\n",
    "print('contribution to the mass matrix'), sym.pprint(M)\n",
    "\n",
    "#..lambdify the symbolic expression \n",
    "phi1_lambda = sym.lambdify(x, phi1)\n",
    "phi2_lambda = sym.lambdify(x, phi2)\n",
    "\n",
    "#..sample the lambda expression for the computed solution \n",
    "nsamples = 100 \n",
    "xvec = np.linspace(0,1,nsamples)\n",
    "phi1_vec = phi1_lambda(xvec)\n",
    "phi2_vec = phi2_lambda(xvec)\n",
    "\n",
    "#..plot the computed solution \n",
    "plt.plot(xvec,phi1_vec,label='phi1')\n",
    "plt.plot(xvec,phi2_vec,label='phi2')\n",
    "plt.xlabel('x')\n",
    "plt.legend(loc='best')\n",
    "plt.grid()\n",
    "plt.show()"
   ]
  },
  {
   "cell_type": "markdown",
   "metadata": {},
   "source": [
    "### Assume element length h and thus scaling with h "
   ]
  },
  {
   "cell_type": "code",
   "execution_count": 3,
   "metadata": {},
   "outputs": [
    {
     "name": "stdout",
     "output_type": "stream",
     "text": [
      "contribution to the stiffness matrix\n",
      "⎡ 1   -1 ⎤\n",
      "⎢ ─   ───⎥\n",
      "⎢ h    h ⎥\n",
      "⎢        ⎥\n",
      "⎢-1    1 ⎥\n",
      "⎢───   ─ ⎥\n",
      "⎣ h    h ⎦\n",
      "contribution to the mass matrix\n",
      "⎡h  h⎤\n",
      "⎢─  ─⎥\n",
      "⎢3  6⎥\n",
      "⎢    ⎥\n",
      "⎢h  h⎥\n",
      "⎢─  ─⎥\n",
      "⎣6  3⎦\n"
     ]
    },
    {
     "data": {
      "text/plain": [
       "(None, None)"
      ]
     },
     "execution_count": 3,
     "metadata": {},
     "output_type": "execute_result"
    }
   ],
   "source": [
    "sym.var('x')\n",
    "sym.var('xl')\n",
    "sym.var('h')\n",
    "phi1 = (xl-x)/(h)\n",
    "phi2 = (x-xl-h)/(h)\n",
    "phi = sym.Matrix([phi1, phi2])\n",
    "dphi = sym.diff(phi, x)\n",
    "A = sym.integrate(dphi*sym.Transpose(dphi), (x, xl, xl+h))\n",
    "M = sym.integrate(phi*sym.Transpose(phi), (x, xl, xl+h))\n",
    "print('contribution to the stiffness matrix'), sym.pprint(sym.simplify(A))\n",
    "print('contribution to the mass matrix'), sym.pprint(sym.simplify(M))"
   ]
  },
  {
   "cell_type": "markdown",
   "metadata": {},
   "source": [
    "## Section 2.2: One-Dimensional Quadratic Lagrange Shape Functions"
   ]
  },
  {
   "cell_type": "markdown",
   "metadata": {},
   "source": [
    "### Assume element length 1 and thus no scaling with mesh width"
   ]
  },
  {
   "cell_type": "code",
   "execution_count": 4,
   "metadata": {},
   "outputs": [
    {
     "name": "stdout",
     "output_type": "stream",
     "text": [
      "contribution to the stiffness matrix\n",
      "⎡2.33333333333333   -2.66666666666667  0.333333333333332⎤\n",
      "⎢                                                       ⎥\n",
      "⎢-2.66666666666667        16/3         -2.66666666666667⎥\n",
      "⎢                                                       ⎥\n",
      "⎣0.333333333333332  -2.66666666666667  2.33333333333333 ⎦\n",
      "contribution to the mass matrix\n",
      "⎡ 0.133333333333333   0.0666666666666673  -0.0333333333333332⎤\n",
      "⎢                                                            ⎥\n",
      "⎢0.0666666666666673          8/15         0.0666666666666667 ⎥\n",
      "⎢                                                            ⎥\n",
      "⎣-0.0333333333333332  0.0666666666666667   0.133333333333333 ⎦\n"
     ]
    },
    {
     "data": {
      "image/png": "[encoded data removed]",
      "text/plain": [
       "<Figure size 432x288 with 1 Axes>"
      ]
     },
     "metadata": {
      "needs_background": "light"
     },
     "output_type": "display_data"
    }
   ],
   "source": [
    "sym.var('x')\n",
    "phi1 = 2*(1-x)*(0.5-x)\n",
    "phi2 = 4*x*(1-x)\n",
    "phi3 = 2*x*(x-0.5)\n",
    "phi = sym.Matrix([phi1, phi2, phi3])\n",
    "dphi = sym.diff(phi, x)\n",
    "A = sym.integrate(dphi*sym.Transpose(dphi), (x, 0.,1))\n",
    "M = sym.integrate(phi*sym.Transpose(phi), (x, 0.,1))\n",
    "print('contribution to the stiffness matrix'), sym.pprint(A)\n",
    "print('contribution to the mass matrix'), sym.pprint(M)\n",
    "\n",
    "#..lambdify the symbolic expression \n",
    "phi1_lambda = sym.lambdify(x, phi1)\n",
    "phi2_lambda = sym.lambdify(x, phi2)\n",
    "phi3_lambda = sym.lambdify(x, phi3)\n",
    "\n",
    "#..sample the lambda expression for the computed solution \n",
    "nsamples = 100 \n",
    "xvec = np.linspace(0,1,nsamples)\n",
    "phi1_vec = phi1_lambda(xvec)\n",
    "phi2_vec = phi2_lambda(xvec)\n",
    "phi3_vec = phi3_lambda(xvec)\n",
    "\n",
    "#..plot the computed solution \n",
    "plt.plot(xvec,phi1_vec,label='phi1')\n",
    "plt.plot(xvec,phi2_vec,label='phi2')\n",
    "plt.plot(xvec,phi3_vec,label='phi3')\n",
    "plt.xlabel('x')\n",
    "plt.legend(loc='best')\n",
    "plt.grid()\n",
    "plt.show()"
   ]
  },
  {
   "cell_type": "markdown",
   "metadata": {},
   "source": [
    "### Assume element length h and thus scaling with h"
   ]
  },
  {
   "cell_type": "code",
   "execution_count": 5,
   "metadata": {},
   "outputs": [
    {
     "name": "stdout",
     "output_type": "stream",
     "text": [
      "contribution to the stiffness matrix\n",
      "⎡ 7   -8    1 ⎤\n",
      "⎢───  ───  ───⎥\n",
      "⎢3⋅h  3⋅h  3⋅h⎥\n",
      "⎢             ⎥\n",
      "⎢-8    16  -8 ⎥\n",
      "⎢───  ───  ───⎥\n",
      "⎢3⋅h  3⋅h  3⋅h⎥\n",
      "⎢             ⎥\n",
      "⎢ 1   -8    7 ⎥\n",
      "⎢───  ───  ───⎥\n",
      "⎣3⋅h  3⋅h  3⋅h⎦\n",
      "contribution to the mass matrix\n",
      "⎡2⋅h  h    -h ⎤\n",
      "⎢───  ──   ───⎥\n",
      "⎢ 15  15    30⎥\n",
      "⎢             ⎥\n",
      "⎢h    8⋅h  h  ⎥\n",
      "⎢──   ───  ── ⎥\n",
      "⎢15    15  15 ⎥\n",
      "⎢             ⎥\n",
      "⎢-h   h    2⋅h⎥\n",
      "⎢───  ──   ───⎥\n",
      "⎣ 30  15    15⎦\n"
     ]
    },
    {
     "data": {
      "image/png": "[encoded data removed]",
      "text/plain": [
       "<Figure size 432x288 with 1 Axes>"
      ]
     },
     "metadata": {
      "needs_background": "light"
     },
     "output_type": "display_data"
    }
   ],
   "source": [
    "sym.var('x')\n",
    "sym.var('xl')\n",
    "sym.var('h')\n",
    "phi1 = (x-xl-h/2)*(x-xl-h)/(h*h/2)\n",
    "phi2 = -(x-xl)*(x-xl-h)/(h*h/4)\n",
    "phi3 = (x-xl)*(x-xl-h/2)/(h*h/2)\n",
    "phi = sym.Matrix([phi1, phi2, phi3])\n",
    "dphi = sym.diff(phi, x)\n",
    "A = sym.integrate(dphi*sym.Transpose(dphi), (x, xl, xl+h))\n",
    "M = sym.integrate(phi*sym.Transpose(phi), (x, xl, xl+h))\n",
    "print('contribution to the stiffness matrix'), sym.pprint(sym.simplify(A))\n",
    "print('contribution to the mass matrix'), sym.pprint(sym.simplify(M))\n",
    "\n",
    "#..lambdify the symbolic expression \n",
    "phi1_lambda = sym.lambdify([x, xl, h], phi1)\n",
    "phi2_lambda = sym.lambdify([x, xl, h], phi2)\n",
    "phi3_lambda = sym.lambdify([x, xl, h], phi3)\n",
    "\n",
    "#..sample the lambda expression for the computed solution \n",
    "nsamples = 100 \n",
    "xl = 0.2; h = 0.1 \n",
    "xvec = np.linspace(xl,xl+h,nsamples)\n",
    "phi1_vec = phi1_lambda(xvec,xl,h)\n",
    "phi2_vec = phi2_lambda(xvec,xl,h)\n",
    "phi3_vec = phi3_lambda(xvec,xl,h)\n",
    "\n",
    "#..plot the computed solution \n",
    "plt.plot(xvec,phi1_vec,label='phi1')\n",
    "plt.plot(xvec,phi2_vec,label='phi2')\n",
    "plt.plot(xvec,phi3_vec,label='phi3')\n",
    "plt.xlabel('x')\n",
    "plt.legend(loc='best')\n",
    "plt.grid()\n",
    "plt.show()"
   ]
  },
  {
   "cell_type": "markdown",
   "metadata": {},
   "source": [
    "## Section 3.2: One-Dimensional Cubic Hermite Shape Functions"
   ]
  },
  {
   "cell_type": "code",
   "execution_count": 6,
   "metadata": {},
   "outputs": [
    {
     "data": {
      "image/png": "[encoded data removed]",
      "text/plain": [
       "<Figure size 432x288 with 1 Axes>"
      ]
     },
     "metadata": {
      "needs_background": "light"
     },
     "output_type": "display_data"
    }
   ],
   "source": [
    "sym.var('x')\n",
    "phi1 = (2 + 3 * x - pow(x,3))/4\n",
    "phi2 = (1 - x - pow(x,2) + pow(x,3))/4\n",
    "phi3 = (2 - 3 * x + pow(x,3))/4\n",
    "phi4 = (-1 - x + pow(x,2) + pow(x,3))/4\n",
    "phi = sym.Matrix([phi1, phi2, phi3, phi4])\n",
    "d2phi = sym.diff(phi,x,x)\n",
    "A = sym.integrate(d2phi*sym.Transpose(d2phi), (x, -1,1))\n",
    "M = sym.integrate(phi*sym.Transpose(phi), (x, -1,1))\n",
    "\n",
    "#..lambdify the symbolic expression \n",
    "phi1_lambda = sym.lambdify(x, phi1)\n",
    "phi2_lambda = sym.lambdify(x, phi2)\n",
    "phi3_lambda = sym.lambdify(x, phi3)\n",
    "phi4_lambda = sym.lambdify(x, phi4)\n",
    "\n",
    "#..sample the lambda expression for the computed solution \n",
    "nsamples = 100 \n",
    "xvec = np.linspace(-1,1,nsamples)\n",
    "phi1_vec = phi1_lambda(xvec)\n",
    "phi2_vec = phi2_lambda(xvec)\n",
    "phi3_vec = phi3_lambda(xvec)\n",
    "phi4_vec = phi4_lambda(xvec)\n",
    "\n",
    "#..plot the computed solution \n",
    "plt.plot(xvec,phi1_vec,label='phi1')\n",
    "plt.plot(xvec,phi2_vec,label='phi2')\n",
    "plt.plot(xvec,phi3_vec,label='phi3')\n",
    "plt.plot(xvec,phi4_vec,label='phi4')\n",
    "plt.xlabel('xi')\n",
    "plt.legend(loc='best')\n",
    "plt.grid()\n",
    "plt.show()\n"
   ]
  },
  {
   "cell_type": "code",
   "execution_count": 7,
   "metadata": {},
   "outputs": [
    {
     "data": {
      "text/latex": [
       "$\\displaystyle \\left[\\begin{matrix}3 & -3 & -3 & -3\\\\-3 & 4 & 3 & 2\\\\-3 & 3 & 3 & 3\\\\-3 & 2 & 3 & 4\\end{matrix}\\right]$"
      ],
      "text/plain": [
       "Matrix([\n",
       "[ 3, -3, -3, -3],\n",
       "[-3,  4,  3,  2],\n",
       "[-3,  3,  3,  3],\n",
       "[-3,  2,  3,  4]])"
      ]
     },
     "execution_count": 7,
     "metadata": {},
     "output_type": "execute_result"
    }
   ],
   "source": [
    "2*A"
   ]
  },
  {
   "cell_type": "code",
   "execution_count": 8,
   "metadata": {},
   "outputs": [
    {
     "data": {
      "text/latex": [
       "$\\displaystyle \\left[\\begin{matrix}- \\frac{3 x}{2}\\\\\\frac{3 x - 1}{2}\\\\\\frac{3 x}{2}\\\\\\frac{3 x + 1}{2}\\end{matrix}\\right]$"
      ],
      "text/plain": [
       "Matrix([\n",
       "[     -3*x/2],\n",
       "[(3*x - 1)/2],\n",
       "[      3*x/2],\n",
       "[(3*x + 1)/2]])"
      ]
     },
     "execution_count": 8,
     "metadata": {},
     "output_type": "execute_result"
    }
   ],
   "source": [
    "d2phi"
   ]
  },
  {
   "cell_type": "code",
   "execution_count": 9,
   "metadata": {},
   "outputs": [
    {
     "data": {
      "text/latex": [
       "$\\displaystyle \\left[\\begin{matrix}\\frac{9 x^{2}}{4} & - \\frac{3 x \\left(\\frac{3 x}{2} - \\frac{1}{2}\\right)}{2} & - \\frac{9 x^{2}}{4} & - \\frac{3 x \\left(\\frac{3 x}{2} + \\frac{1}{2}\\right)}{2}\\\\- \\frac{3 x \\left(\\frac{3 x}{2} - \\frac{1}{2}\\right)}{2} & \\left(\\frac{3 x}{2} - \\frac{1}{2}\\right)^{2} & \\frac{3 x \\left(\\frac{3 x}{2} - \\frac{1}{2}\\right)}{2} & \\left(\\frac{3 x}{2} - \\frac{1}{2}\\right) \\left(\\frac{3 x}{2} + \\frac{1}{2}\\right)\\\\- \\frac{9 x^{2}}{4} & \\frac{3 x \\left(\\frac{3 x}{2} - \\frac{1}{2}\\right)}{2} & \\frac{9 x^{2}}{4} & \\frac{3 x \\left(\\frac{3 x}{2} + \\frac{1}{2}\\right)}{2}\\\\- \\frac{3 x \\left(\\frac{3 x}{2} + \\frac{1}{2}\\right)}{2} & \\left(\\frac{3 x}{2} - \\frac{1}{2}\\right) \\left(\\frac{3 x}{2} + \\frac{1}{2}\\right) & \\frac{3 x \\left(\\frac{3 x}{2} + \\frac{1}{2}\\right)}{2} & \\left(\\frac{3 x}{2} + \\frac{1}{2}\\right)^{2}\\end{matrix}\\right]$"
      ],
      "text/plain": [
       "Matrix([\n",
       "[            9*x**2/4,        -3*x*(3*x/2 - 1/2)/2,           -9*x**2/4,        -3*x*(3*x/2 + 1/2)/2],\n",
       "[-3*x*(3*x/2 - 1/2)/2,            (3*x/2 - 1/2)**2, 3*x*(3*x/2 - 1/2)/2, (3*x/2 - 1/2)*(3*x/2 + 1/2)],\n",
       "[           -9*x**2/4,         3*x*(3*x/2 - 1/2)/2,            9*x**2/4,         3*x*(3*x/2 + 1/2)/2],\n",
       "[-3*x*(3*x/2 + 1/2)/2, (3*x/2 - 1/2)*(3*x/2 + 1/2), 3*x*(3*x/2 + 1/2)/2,            (3*x/2 + 1/2)**2]])"
      ]
     },
     "execution_count": 9,
     "metadata": {},
     "output_type": "execute_result"
    }
   ],
   "source": [
    "d2phi*sym.Transpose(d2phi)"
   ]
  },
  {
   "cell_type": "code",
   "execution_count": 10,
   "metadata": {},
   "outputs": [
    {
     "name": "stdout",
     "output_type": "stream",
     "text": [
      "contribution to the stiffness matrix\n",
      "⎡       -23                  ⎤\n",
      "⎢3/10   ────   -3/10   7/160 ⎥\n",
      "⎢       160                  ⎥\n",
      "⎢                            ⎥\n",
      "⎢-23      17     23          ⎥\n",
      "⎢────    ───    ───    -1/30 ⎥\n",
      "⎢160     240    160          ⎥\n",
      "⎢                            ⎥\n",
      "⎢         23                 ⎥\n",
      "⎢-3/10   ───    3/10   -7/160⎥\n",
      "⎢        160                 ⎥\n",
      "⎢                            ⎥\n",
      "⎢                        47  ⎥\n",
      "⎢7/160  -1/30  -7/160   ───  ⎥\n",
      "⎣                       240  ⎦\n"
     ]
    },
    {
     "data": {
      "image/png": "[encoded data removed]",
      "text/plain": [
       "<Figure size 432x288 with 1 Axes>"
      ]
     },
     "metadata": {
      "needs_background": "light"
     },
     "output_type": "display_data"
    }
   ],
   "source": [
    "sym.var('xi')\n",
    "phi1 = (2 - 3 * xi + pow(xi,3))/4\n",
    "phi2 = -(1 - xi - pow(xi,2) + pow(xi,3))/4\n",
    "phi3 = (2 + 3 * xi - pow(xi,3))/4\n",
    "phi4 = -(-1 - xi + pow(xi,2) + pow(xi,3))/4\n",
    "phi = sym.Matrix([phi1, phi2, phi3, phi4])\n",
    "d2phi = sym.diff(phi,xi)\n",
    "A = sym.integrate(d2phi*sym.Transpose(d2phi), (xi, 0,1))\n",
    "M = sym.integrate(phi*sym.Transpose(phi), (xi, 0,1))\n",
    "print('contribution to the stiffness matrix'), sym.pprint(A)\n",
    "# print('contribution to the mass matrix'), sym.pprint(M)\n",
    "\n",
    "#..lambdify the symbolic expression \n",
    "phi1_lambda = sym.lambdify(xi, phi1)\n",
    "phi2_lambda = sym.lambdify(xi, phi2)\n",
    "phi3_lambda = sym.lambdify(xi, phi3)\n",
    "phi4_lambda = sym.lambdify(xi, phi4)\n",
    "\n",
    "#..sample the lambda expression for the computed solution \n",
    "nsamples = 100 \n",
    "xvec = np.linspace(-1,1,nsamples)\n",
    "phi1_vec = phi1_lambda(xvec)\n",
    "phi2_vec = phi2_lambda(xvec)\n",
    "phi3_vec = phi3_lambda(xvec)\n",
    "phi4_vec = phi4_lambda(xvec)\n",
    "\n",
    "#..plot the computed solution \n",
    "plt.plot(xvec,phi1_vec,label='phi1')\n",
    "plt.plot(xvec,phi2_vec,label='phi2')\n",
    "plt.plot(xvec,phi3_vec,label='phi3')\n",
    "plt.plot(xvec,phi4_vec,label='phi4')\n",
    "plt.xlabel('xi')\n",
    "plt.legend(loc='best')\n",
    "plt.grid()\n",
    "plt.show()"
   ]
  },
  {
   "cell_type": "code",
   "execution_count": 11,
   "metadata": {},
   "outputs": [
    {
     "data": {
      "text/latex": [
       "$\\displaystyle \\left[\\begin{matrix}\\frac{3 \\xi^{2}}{4} - \\frac{3}{4}\\\\- \\frac{3 \\xi^{2}}{4} + \\frac{\\xi}{2} + \\frac{1}{4}\\\\\\frac{3}{4} - \\frac{3 \\xi^{2}}{4}\\\\- \\frac{3 \\xi^{2}}{4} - \\frac{\\xi}{2} + \\frac{1}{4}\\end{matrix}\\right]$"
      ],
      "text/plain": [
       "Matrix([\n",
       "[        3*xi**2/4 - 3/4],\n",
       "[-3*xi**2/4 + xi/2 + 1/4],\n",
       "[        3/4 - 3*xi**2/4],\n",
       "[-3*xi**2/4 - xi/2 + 1/4]])"
      ]
     },
     "execution_count": 11,
     "metadata": {},
     "output_type": "execute_result"
    }
   ],
   "source": [
    "d2phi"
   ]
  },
  {
   "cell_type": "code",
   "execution_count": 12,
   "metadata": {},
   "outputs": [
    {
     "data": {
      "text/latex": [
       "$\\displaystyle \\left[\\begin{matrix}\\left(\\frac{3 \\xi^{2}}{4} - \\frac{3}{4}\\right)^{2} & \\left(\\frac{3 \\xi^{2}}{4} - \\frac{3}{4}\\right) \\left(- \\frac{3 \\xi^{2}}{4} + \\frac{\\xi}{2} + \\frac{1}{4}\\right) & \\left(\\frac{3}{4} - \\frac{3 \\xi^{2}}{4}\\right) \\left(\\frac{3 \\xi^{2}}{4} - \\frac{3}{4}\\right) & \\left(\\frac{3 \\xi^{2}}{4} - \\frac{3}{4}\\right) \\left(- \\frac{3 \\xi^{2}}{4} - \\frac{\\xi}{2} + \\frac{1}{4}\\right)\\\\\\left(\\frac{3 \\xi^{2}}{4} - \\frac{3}{4}\\right) \\left(- \\frac{3 \\xi^{2}}{4} + \\frac{\\xi}{2} + \\frac{1}{4}\\right) & \\left(- \\frac{3 \\xi^{2}}{4} + \\frac{\\xi}{2} + \\frac{1}{4}\\right)^{2} & \\left(\\frac{3}{4} - \\frac{3 \\xi^{2}}{4}\\right) \\left(- \\frac{3 \\xi^{2}}{4} + \\frac{\\xi}{2} + \\frac{1}{4}\\right) & \\left(- \\frac{3 \\xi^{2}}{4} - \\frac{\\xi}{2} + \\frac{1}{4}\\right) \\left(- \\frac{3 \\xi^{2}}{4} + \\frac{\\xi}{2} + \\frac{1}{4}\\right)\\\\\\left(\\frac{3}{4} - \\frac{3 \\xi^{2}}{4}\\right) \\left(\\frac{3 \\xi^{2}}{4} - \\frac{3}{4}\\right) & \\left(\\frac{3}{4} - \\frac{3 \\xi^{2}}{4}\\right) \\left(- \\frac{3 \\xi^{2}}{4} + \\frac{\\xi}{2} + \\frac{1}{4}\\right) & \\left(\\frac{3}{4} - \\frac{3 \\xi^{2}}{4}\\right)^{2} & \\left(\\frac{3}{4} - \\frac{3 \\xi^{2}}{4}\\right) \\left(- \\frac{3 \\xi^{2}}{4} - \\frac{\\xi}{2} + \\frac{1}{4}\\right)\\\\\\left(\\frac{3 \\xi^{2}}{4} - \\frac{3}{4}\\right) \\left(- \\frac{3 \\xi^{2}}{4} - \\frac{\\xi}{2} + \\frac{1}{4}\\right) & \\left(- \\frac{3 \\xi^{2}}{4} - \\frac{\\xi}{2} + \\frac{1}{4}\\right) \\left(- \\frac{3 \\xi^{2}}{4} + \\frac{\\xi}{2} + \\frac{1}{4}\\right) & \\left(\\frac{3}{4} - \\frac{3 \\xi^{2}}{4}\\right) \\left(- \\frac{3 \\xi^{2}}{4} - \\frac{\\xi}{2} + \\frac{1}{4}\\right) & \\left(- \\frac{3 \\xi^{2}}{4} - \\frac{\\xi}{2} + \\frac{1}{4}\\right)^{2}\\end{matrix}\\right]$"
      ],
      "text/plain": [
       "Matrix([\n",
       "[                       (3*xi**2/4 - 3/4)**2,         (3*xi**2/4 - 3/4)*(-3*xi**2/4 + xi/2 + 1/4),         (3/4 - 3*xi**2/4)*(3*xi**2/4 - 3/4),         (3*xi**2/4 - 3/4)*(-3*xi**2/4 - xi/2 + 1/4)],\n",
       "[(3*xi**2/4 - 3/4)*(-3*xi**2/4 + xi/2 + 1/4),                        (-3*xi**2/4 + xi/2 + 1/4)**2, (3/4 - 3*xi**2/4)*(-3*xi**2/4 + xi/2 + 1/4), (-3*xi**2/4 - xi/2 + 1/4)*(-3*xi**2/4 + xi/2 + 1/4)],\n",
       "[        (3/4 - 3*xi**2/4)*(3*xi**2/4 - 3/4),         (3/4 - 3*xi**2/4)*(-3*xi**2/4 + xi/2 + 1/4),                        (3/4 - 3*xi**2/4)**2,         (3/4 - 3*xi**2/4)*(-3*xi**2/4 - xi/2 + 1/4)],\n",
       "[(3*xi**2/4 - 3/4)*(-3*xi**2/4 - xi/2 + 1/4), (-3*xi**2/4 - xi/2 + 1/4)*(-3*xi**2/4 + xi/2 + 1/4), (3/4 - 3*xi**2/4)*(-3*xi**2/4 - xi/2 + 1/4),                        (-3*xi**2/4 - xi/2 + 1/4)**2]])"
      ]
     },
     "execution_count": 12,
     "metadata": {},
     "output_type": "execute_result"
    }
   ],
   "source": [
    "d2phi*sym.Transpose(d2phi)"
   ]
  },
  {
   "cell_type": "markdown",
   "metadata": {},
   "source": [
    "# 2D FEM: Symbolic Computation of Elementary Stiffness and Mass Matrix "
   ]
  },
  {
   "cell_type": "markdown",
   "metadata": {},
   "source": [
    "### Linear Lagrange Triangle\n",
    "Remarks: \n",
    "1. For plotting of shape function in Julia, see e.g. [this page](https://discourse.julialang.org/t/contour-plot-for-non-rectangular-domain/57381). Ask chatGTP to translate into Python? \n",
    "2. Plots on the linear basis function are on the documentation of the [MinFEM](https://minfem.github.io/MinFEM.jl/stable/fem/) package.\n",
    "3. Mass-matrix using exact integration results in non-diagonal mass matrices. For linear elements this can be avoided using approximate rules of integration. Not sure how to handle this for quadratic elements (see literature mass-lumping for quadratic elements). "
   ]
  },
  {
   "cell_type": "code",
   "execution_count": 13,
   "metadata": {},
   "outputs": [
    {
     "name": "stdout",
     "output_type": "stream",
     "text": [
      "contribution to the stiffness matrix\n",
      "⎡ 1    -1/2  -1/2⎤\n",
      "⎢                ⎥\n",
      "⎢-1/2  1/2    0  ⎥\n",
      "⎢                ⎥\n",
      "⎣-1/2   0    1/2 ⎦\n",
      "contribution to the mass matrix\n",
      "⎡1/12  1/24  1/24⎤\n",
      "⎢                ⎥\n",
      "⎢1/24  1/12  1/24⎥\n",
      "⎢                ⎥\n",
      "⎣1/24  1/24  1/12⎦\n"
     ]
    },
    {
     "data": {
      "text/plain": [
       "(None, None)"
      ]
     },
     "execution_count": 13,
     "metadata": {},
     "output_type": "execute_result"
    }
   ],
   "source": [
    "sym.var('x')\n",
    "sym.var('y')\n",
    "phi1 = 1-x-y\n",
    "phi2 = x\n",
    "phi3 = y\n",
    "phi = sym.Matrix([phi1, phi2, phi3])\n",
    "dxphi = sym.diff(phi, x)\n",
    "dyphi = sym.diff(phi, y)\n",
    "dxPhidxPhi = dxphi*sym.Transpose(dxphi) \n",
    "dyPhidyPhi = dyphi*sym.Transpose(dyphi)\n",
    "dphidphi   = dxPhidxPhi + dyPhidyPhi \n",
    "A = sym.integrate(sym.integrate(dphidphi, (y,0,1-x)),(x, 0.,1))\n",
    "M = sym.integrate(sym.integrate(phi*sym.Transpose(phi),(y,0,1-x)),(x, 0.,1))\n",
    "print('contribution to the stiffness matrix'), sym.pprint(A)\n",
    "print('contribution to the mass matrix'), sym.pprint(M)"
   ]
  },
  {
   "cell_type": "markdown",
   "metadata": {},
   "source": [
    "### Quadratic Lagrange Triangle\n",
    "For expressions of quadratic shape funcrtions, see e.g. [CE60130 FEM Lecture Slides](https://coast.nd.edu/jjwteach/www/www/60130/New%20Lecture%20Notes_PDF/CE60130_Lecture%2015%20with_footer-v04.pdf) \n",
    "\n",
    "For plots of the shape functions, extension of the linear case should be feasible. "
   ]
  },
  {
   "cell_type": "code",
   "execution_count": 14,
   "metadata": {},
   "outputs": [
    {
     "name": "stdout",
     "output_type": "stream",
     "text": [
      "contribution to the stiffness matrix (rational numbers)\n",
      "⎡ 1    1/6   1/6   -2/3   0    -2/3⎤\n",
      "⎢                                  ⎥\n",
      "⎢1/6   1/2    0    -2/3   0     0  ⎥\n",
      "⎢                                  ⎥\n",
      "⎢1/6    0    1/2    0     0    -2/3⎥\n",
      "⎢                                  ⎥\n",
      "⎢-2/3  -2/3   0    8/3   -4/3   0  ⎥\n",
      "⎢                                  ⎥\n",
      "⎢ 0     0     0    -4/3  8/3   -4/3⎥\n",
      "⎢                                  ⎥\n",
      "⎣-2/3   0    -2/3   0    -4/3  8/3 ⎦\n",
      "contribution to the stiffness matrix (float numbers)\n",
      "⎡  1.0    0.1667   0.1667   -0.6667    0     -0.6667⎤\n",
      "⎢                                                   ⎥\n",
      "⎢0.1667     0.5       0     -0.6667    0        0   ⎥\n",
      "⎢                                                   ⎥\n",
      "⎢0.1667      0       0.5       0       0     -0.6667⎥\n",
      "⎢                                                   ⎥\n",
      "⎢-0.6667  -0.6667     0      2.667   -1.333     0   ⎥\n",
      "⎢                                                   ⎥\n",
      "⎢   0        0        0     -1.333   2.667   -1.333 ⎥\n",
      "⎢                                                   ⎥\n",
      "⎣-0.6667     0     -0.6667     0     -1.333   2.667 ⎦\n",
      "contribution to the mass matrix\n",
      "⎡ 1/60   -1/360  -1/360    0    -1/90    0  ⎤\n",
      "⎢                                           ⎥\n",
      "⎢-1/360   1/60   -1/360    0      0    -1/90⎥\n",
      "⎢                                           ⎥\n",
      "⎢-1/360  -1/360   1/60   -1/90    0      0  ⎥\n",
      "⎢                                           ⎥\n",
      "⎢  0       0     -1/90   4/45   2/45   2/45 ⎥\n",
      "⎢                                           ⎥\n",
      "⎢-1/90     0       0     2/45   4/45   2/45 ⎥\n",
      "⎢                                           ⎥\n",
      "⎣  0     -1/90     0     2/45   2/45   4/45 ⎦\n",
      "contribution to the vector (assuming f(x,y) = 1)\n",
      "⎡  0   ⎤\n",
      "⎢      ⎥\n",
      "⎢  0   ⎥\n",
      "⎢      ⎥\n",
      "⎢  0   ⎥\n",
      "⎢      ⎥\n",
      "⎢0.1667⎥\n",
      "⎢      ⎥\n",
      "⎢0.1667⎥\n",
      "⎢      ⎥\n",
      "⎣0.1667⎦\n"
     ]
    },
    {
     "data": {
      "text/plain": [
       "(None, None)"
      ]
     },
     "execution_count": 14,
     "metadata": {},
     "output_type": "execute_result"
    }
   ],
   "source": [
    "sym.var('x')\n",
    "sym.var('y')\n",
    "xi1 = 1-x-y\n",
    "xi2 = x\n",
    "xi3 = y\n",
    "phi1 = 2*xi1*xi1 - xi1 \n",
    "phi2 = 2*xi2*xi2 - xi2\n",
    "phi3 = 2*xi3*xi3 - xi3\n",
    "phi4 = 4*xi1*xi2\n",
    "phi5 = 4*xi2*xi3\n",
    "phi6 = 4*xi3*xi1\n",
    "phi = sym.Matrix([phi1, phi2, phi3, phi4, phi5, phi6])\n",
    "dxphi = sym.diff(phi, x)\n",
    "dyphi = sym.diff(phi, y)\n",
    "dxPhidxPhi = dxphi*sym.Transpose(dxphi) \n",
    "dyPhidyPhi = dyphi*sym.Transpose(dyphi)\n",
    "dphidphi   = dxPhidxPhi + dyPhidyPhi \n",
    "A = sym.integrate(sym.integrate(dphidphi, (y,0,1-x)),(x, 0.,1))\n",
    "M = sym.integrate(sym.integrate(phi*sym.Transpose(phi),(y,0,1-x)),(x, 0.,1))\n",
    "f = sym.integrate(sym.integrate(phi,(y,0,1-x)),(x, 0.,1))\n",
    "print('contribution to the stiffness matrix (rational numbers)'), sym.pprint(A)\n",
    "print('contribution to the stiffness matrix (float numbers)'), sym.pprint(A.evalf(4))\n",
    "print('contribution to the mass matrix'), sym.pprint(M)\n",
    "print('contribution to the vector (assuming f(x,y) = 1)'), sym.pprint(f.evalf(4))"
   ]
  },
  {
   "cell_type": "code",
   "execution_count": 16,
   "metadata": {},
   "outputs": [
    {
     "data": {
      "text/latex": [
       "$\\displaystyle \\left[\\begin{matrix}2 x^{2} + 4 x y - 3 x + 2 y^{2} - 3 y + 1\\\\2 x^{2} - x\\\\2 y^{2} - y\\\\- 4 x^{2} - 4 x y + 4 x\\\\4 x y\\\\- 4 x y - 4 y^{2} + 4 y\\end{matrix}\\right]$"
      ],
      "text/plain": [
       "Matrix([\n",
       "[2*x**2 + 4*x*y - 3*x + 2*y**2 - 3*y + 1],\n",
       "[                             2*x**2 - x],\n",
       "[                             2*y**2 - y],\n",
       "[                  -4*x**2 - 4*x*y + 4*x],\n",
       "[                                  4*x*y],\n",
       "[                  -4*x*y - 4*y**2 + 4*y]])"
      ]
     },
     "execution_count": 16,
     "metadata": {},
     "output_type": "execute_result"
    }
   ],
   "source": [
    "sym.expand(phi)"
   ]
  },
  {
   "cell_type": "code",
   "execution_count": 19,
   "metadata": {},
   "outputs": [
    {
     "data": {
      "text/latex": [
       "$\\displaystyle \\left[\\begin{matrix}4 x + 4 y - 3\\\\4 x - 1\\\\0\\\\- 8 x - 4 y + 4\\\\4 y\\\\- 4 y\\end{matrix}\\right]$"
      ],
      "text/plain": [
       "Matrix([\n",
       "[ 4*x + 4*y - 3],\n",
       "[       4*x - 1],\n",
       "[             0],\n",
       "[-8*x - 4*y + 4],\n",
       "[           4*y],\n",
       "[          -4*y]])"
      ]
     },
     "execution_count": 19,
     "metadata": {},
     "output_type": "execute_result"
    }
   ],
   "source": [
    "sym.expand(dxphi)"
   ]
  },
  {
   "cell_type": "code",
   "execution_count": 18,
   "metadata": {},
   "outputs": [
    {
     "data": {
      "text/latex": [
       "$\\displaystyle \\left[\\begin{matrix}4 x + 4 y - 3\\\\0\\\\4 y - 1\\\\- 4 x\\\\4 x\\\\- 4 x - 8 y + 4\\end{matrix}\\right]$"
      ],
      "text/plain": [
       "Matrix([\n",
       "[ 4*x + 4*y - 3],\n",
       "[             0],\n",
       "[       4*y - 1],\n",
       "[          -4*x],\n",
       "[           4*x],\n",
       "[-4*x - 8*y + 4]])"
      ]
     },
     "execution_count": 18,
     "metadata": {},
     "output_type": "execute_result"
    }
   ],
   "source": [
    "sym.expand(dyphi)"
   ]
  },
  {
   "cell_type": "code",
   "execution_count": 17,
   "metadata": {},
   "outputs": [
    {
     "data": {
      "text/latex": [
       "$\\displaystyle 2 x^{2} - x$"
      ],
      "text/plain": [
       "2*x**2 - x"
      ]
     },
     "execution_count": 17,
     "metadata": {},
     "output_type": "execute_result"
    }
   ],
   "source": [
    "sym.expand(phi2)"
   ]
  },
  {
   "cell_type": "code",
   "execution_count": 18,
   "metadata": {},
   "outputs": [
    {
     "data": {
      "text/latex": [
       "$\\displaystyle 2 y^{2} - y$"
      ],
      "text/plain": [
       "2*y**2 - y"
      ]
     },
     "execution_count": 18,
     "metadata": {},
     "output_type": "execute_result"
    }
   ],
   "source": [
    "sym.expand(phi3)"
   ]
  },
  {
   "cell_type": "code",
   "execution_count": 19,
   "metadata": {},
   "outputs": [
    {
     "data": {
      "text/latex": [
       "$\\displaystyle - 4 x^{2} - 4 x y + 4 x$"
      ],
      "text/plain": [
       "-4*x**2 - 4*x*y + 4*x"
      ]
     },
     "execution_count": 19,
     "metadata": {},
     "output_type": "execute_result"
    }
   ],
   "source": [
    "sym.expand(phi4)"
   ]
  },
  {
   "cell_type": "code",
   "execution_count": 32,
   "metadata": {},
   "outputs": [
    {
     "data": {
      "text/latex": [
       "$\\displaystyle 4 x y$"
      ],
      "text/plain": [
       "4*x*y"
      ]
     },
     "execution_count": 32,
     "metadata": {},
     "output_type": "execute_result"
    }
   ],
   "source": [
    "sym.expand(phi5)"
   ]
  },
  {
   "cell_type": "code",
   "execution_count": 33,
   "metadata": {},
   "outputs": [
    {
     "data": {
      "text/latex": [
       "$\\displaystyle - 4 x y - 4 y^{2} + 4 y$"
      ],
      "text/plain": [
       "-4*x*y - 4*y**2 + 4*y"
      ]
     },
     "execution_count": 33,
     "metadata": {},
     "output_type": "execute_result"
    }
   ],
   "source": [
    "sym.expand(phi6)"
   ]
  },
  {
   "cell_type": "code",
   "execution_count": 34,
   "metadata": {},
   "outputs": [
    {
     "data": {
      "text/latex": [
       "$\\displaystyle \\left[\\begin{matrix}2 \\left(4 x + 4 y - 3\\right)^{2} & \\left(4 x - 1\\right) \\left(4 x + 4 y - 3\\right) & \\left(4 y - 1\\right) \\left(4 x + 4 y - 3\\right) & - 4 x \\left(4 x + 4 y - 3\\right) + \\left(- 8 x - 4 y + 4\\right) \\left(4 x + 4 y - 3\\right) & 4 x \\left(4 x + 4 y - 3\\right) + 4 y \\left(4 x + 4 y - 3\\right) & - 4 y \\left(4 x + 4 y - 3\\right) + \\left(- 4 x - 8 y + 4\\right) \\left(4 x + 4 y - 3\\right)\\\\\\left(4 x - 1\\right) \\left(4 x + 4 y - 3\\right) & \\left(4 x - 1\\right)^{2} & 0 & \\left(4 x - 1\\right) \\left(- 8 x - 4 y + 4\\right) & 4 y \\left(4 x - 1\\right) & - 4 y \\left(4 x - 1\\right)\\\\\\left(4 y - 1\\right) \\left(4 x + 4 y - 3\\right) & 0 & \\left(4 y - 1\\right)^{2} & - 4 x \\left(4 y - 1\\right) & 4 x \\left(4 y - 1\\right) & \\left(4 y - 1\\right) \\left(- 4 x - 8 y + 4\\right)\\\\- 4 x \\left(4 x + 4 y - 3\\right) + \\left(- 8 x - 4 y + 4\\right) \\left(4 x + 4 y - 3\\right) & \\left(4 x - 1\\right) \\left(- 8 x - 4 y + 4\\right) & - 4 x \\left(4 y - 1\\right) & 16 x^{2} + \\left(- 8 x - 4 y + 4\\right)^{2} & - 16 x^{2} + 4 y \\left(- 8 x - 4 y + 4\\right) & - 4 x \\left(- 4 x - 8 y + 4\\right) - 4 y \\left(- 8 x - 4 y + 4\\right)\\\\4 x \\left(4 x + 4 y - 3\\right) + 4 y \\left(4 x + 4 y - 3\\right) & 4 y \\left(4 x - 1\\right) & 4 x \\left(4 y - 1\\right) & - 16 x^{2} + 4 y \\left(- 8 x - 4 y + 4\\right) & 16 x^{2} + 16 y^{2} & 4 x \\left(- 4 x - 8 y + 4\\right) - 16 y^{2}\\\\- 4 y \\left(4 x + 4 y - 3\\right) + \\left(- 4 x - 8 y + 4\\right) \\left(4 x + 4 y - 3\\right) & - 4 y \\left(4 x - 1\\right) & \\left(4 y - 1\\right) \\left(- 4 x - 8 y + 4\\right) & - 4 x \\left(- 4 x - 8 y + 4\\right) - 4 y \\left(- 8 x - 4 y + 4\\right) & 4 x \\left(- 4 x - 8 y + 4\\right) - 16 y^{2} & 16 y^{2} + \\left(- 4 x - 8 y + 4\\right)^{2}\\end{matrix}\\right]$"
      ],
      "text/plain": [
       "Matrix([\n",
       "[                                   2*(4*x + 4*y - 3)**2,  (4*x - 1)*(4*x + 4*y - 3),  (4*y - 1)*(4*x + 4*y - 3), -4*x*(4*x + 4*y - 3) + (-8*x - 4*y + 4)*(4*x + 4*y - 3), 4*x*(4*x + 4*y - 3) + 4*y*(4*x + 4*y - 3), -4*y*(4*x + 4*y - 3) + (-4*x - 8*y + 4)*(4*x + 4*y - 3)],\n",
       "[                              (4*x - 1)*(4*x + 4*y - 3),               (4*x - 1)**2,                          0,                              (4*x - 1)*(-8*x - 4*y + 4),                             4*y*(4*x - 1),                                          -4*y*(4*x - 1)],\n",
       "[                              (4*y - 1)*(4*x + 4*y - 3),                          0,               (4*y - 1)**2,                                          -4*x*(4*y - 1),                             4*x*(4*y - 1),                              (4*y - 1)*(-4*x - 8*y + 4)],\n",
       "[-4*x*(4*x + 4*y - 3) + (-8*x - 4*y + 4)*(4*x + 4*y - 3), (4*x - 1)*(-8*x - 4*y + 4),             -4*x*(4*y - 1),                           16*x**2 + (-8*x - 4*y + 4)**2,           -16*x**2 + 4*y*(-8*x - 4*y + 4),            -4*x*(-4*x - 8*y + 4) - 4*y*(-8*x - 4*y + 4)],\n",
       "[              4*x*(4*x + 4*y - 3) + 4*y*(4*x + 4*y - 3),              4*y*(4*x - 1),              4*x*(4*y - 1),                         -16*x**2 + 4*y*(-8*x - 4*y + 4),                         16*x**2 + 16*y**2,                          4*x*(-4*x - 8*y + 4) - 16*y**2],\n",
       "[-4*y*(4*x + 4*y - 3) + (-4*x - 8*y + 4)*(4*x + 4*y - 3),             -4*y*(4*x - 1), (4*y - 1)*(-4*x - 8*y + 4),            -4*x*(-4*x - 8*y + 4) - 4*y*(-8*x - 4*y + 4),            4*x*(-4*x - 8*y + 4) - 16*y**2,                           16*y**2 + (-4*x - 8*y + 4)**2]])"
      ]
     },
     "execution_count": 34,
     "metadata": {},
     "output_type": "execute_result"
    }
   ],
   "source": [
    "dphidphi"
   ]
  },
  {
   "cell_type": "markdown",
   "metadata": {},
   "source": [
    "## Sandbox "
   ]
  },
  {
   "cell_type": "code",
   "execution_count": 7,
   "metadata": {},
   "outputs": [
    {
     "data": {
      "text/latex": [
       "$\\displaystyle - 4 \\pi^{2} x^{4} \\sin{\\left(\\pi x^{2} \\right)} + 4 \\pi^{2} x^{3} \\sin{\\left(\\pi x^{2} \\right)} + 10 \\pi x^{2} \\cos{\\left(\\pi x^{2} \\right)} - 6 \\pi x \\cos{\\left(\\pi x^{2} \\right)} + 2 \\sin{\\left(\\pi x^{2} \\right)}$"
      ],
      "text/plain": [
       "-4*pi**2*x**4*sin(pi*x**2) + 4*pi**2*x**3*sin(pi*x**2) + 10*pi*x**2*cos(pi*x**2) - 6*pi*x*cos(pi*x**2) + 2*sin(pi*x**2)"
      ]
     },
     "execution_count": 7,
     "metadata": {},
     "output_type": "execute_result"
    }
   ],
   "source": [
    "from sympy import sin, cos, symbols, pi\n",
    "sym.var('x')\n",
    "phi = x*(x-1)*sin(pi*x*x)\n",
    "sym.simplify(sym.diff(phi,x,x))"
   ]
  },
  {
   "cell_type": "code",
   "execution_count": null,
   "metadata": {},
   "outputs": [],
   "source": []
  }
 ],
 "metadata": {
  "kernelspec": {
   "display_name": "Python 3",
   "language": "python",
   "name": "python3"
  },
  "language_info": {
   "codemirror_mode": {
    "name": "ipython",
    "version": 3
   },
   "file_extension": ".py",
   "mimetype": "text/x-python",
   "name": "python",
   "nbconvert_exporter": "python",
   "pygments_lexer": "ipython3",
   "version": "3.7.10"
  }
 },
 "nbformat": 4,
 "nbformat_minor": 2
}
