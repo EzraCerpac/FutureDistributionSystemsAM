{
 "cells": [
  {
   "cell_type": "markdown",
   "id": "a5cf1680",
   "metadata": {},
   "source": [
    "# Plotting Triangles "
   ]
  },
  {
   "cell_type": "code",
   "execution_count": 5,
   "id": "995701dc",
   "metadata": {},
   "outputs": [],
   "source": [
    "using Printf"
   ]
  },
  {
   "cell_type": "code",
   "execution_count": 11,
   "id": "89f3de5c",
   "metadata": {},
   "outputs": [
    {
     "name": "stdout",
     "output_type": "stream",
     "text": [
      "search: \u001b[0m\u001b[1mm\u001b[22m\u001b[0m\u001b[1me\u001b[22m\u001b[0m\u001b[1ms\u001b[22m\u001b[0m\u001b[1mh\u001b[22m\u001b[0m\u001b[1m3\u001b[22m\u001b[0m\u001b[1md\u001b[22m\n",
      "\n"
     ]
    },
    {
     "data": {
      "text/latex": [
       "No documentation found.\n",
       "\n",
       "\\texttt{PlotlyBase.mesh3d} is a \\texttt{Function}.\n",
       "\n",
       "\\begin{verbatim}\n",
       "# 2 methods for generic function \"mesh3d\":\n",
       "[1] mesh3d(; kwargs...) in PlotlyBase at /Users/djplahaye/.julia/packages/PlotlyBase/4NWbR/src/api.jl:39\n",
       "[2] mesh3d(d::AbstractDict; kwargs...) in PlotlyBase at /Users/djplahaye/.julia/packages/PlotlyBase/4NWbR/src/api.jl:40\n",
       "\\end{verbatim}\n"
      ],
      "text/markdown": [
       "No documentation found.\n",
       "\n",
       "`PlotlyBase.mesh3d` is a `Function`.\n",
       "\n",
       "```\n",
       "# 2 methods for generic function \"mesh3d\":\n",
       "[1] mesh3d(; kwargs...) in PlotlyBase at /Users/djplahaye/.julia/packages/PlotlyBase/4NWbR/src/api.jl:39\n",
       "[2] mesh3d(d::AbstractDict; kwargs...) in PlotlyBase at /Users/djplahaye/.julia/packages/PlotlyBase/4NWbR/src/api.jl:40\n",
       "```\n"
      ],
      "text/plain": [
       "  No documentation found.\n",
       "\n",
       "  \u001b[36mPlotlyBase.mesh3d\u001b[39m is a \u001b[36mFunction\u001b[39m.\n",
       "\n",
       "  \u001b[38;5;240m# 2 methods for generic function \"mesh3d\":\u001b[0m\n",
       "  \u001b[0m\u001b[39m[\u001b[0m\u001b[38;5;141m1\u001b[0m\u001b[39m]\u001b[0m \u001b[0m\u001b[38;5;81mmesh3d\u001b[0m(\u001b[0m\u001b[39m;\u001b[0m \u001b[0m\u001b[39mkwargs\u001b[0m\u001b[38;5;197m...\u001b[0m\u001b[39m)\u001b[0m \u001b[0m\u001b[38;5;197min\u001b[0m \u001b[0m\u001b[39mPlotlyBase\u001b[0m \u001b[0m\u001b[39mat\u001b[0m \u001b[0m\u001b[38;5;197m/\u001b[0m\u001b[39mUsers\u001b[0m\u001b[38;5;197m/\u001b[0m\u001b[39mdjplahaye\u001b[0m\u001b[38;5;197m/\u001b[0m\u001b[38;5;197m.\u001b[0m\u001b[39mjulia\u001b[0m\u001b[38;5;197m/\u001b[0m\u001b[39mpackages\u001b[0m\u001b[38;5;197m/\u001b[0m\u001b[39mPlotlyBase\u001b[0m\u001b[38;5;197m/\u001b[0m\u001b[38;5;141m4\u001b[0m\u001b[39mNWbR\u001b[0m\u001b[38;5;197m/\u001b[0m\u001b[39msrc\u001b[0m\u001b[38;5;197m/\u001b[0m\u001b[39mapi\u001b[0m\u001b[38;5;197m.\u001b[0m\u001b[39mjl\u001b[0m\u001b[38;5;197m:\u001b[0m\u001b[38;5;141m39\u001b[0m\n",
       "  \u001b[0m\u001b[39m[\u001b[0m\u001b[38;5;141m2\u001b[0m\u001b[39m]\u001b[0m \u001b[0m\u001b[38;5;81mmesh3d\u001b[0m(\u001b[0m\u001b[39md\u001b[0m\u001b[38;5;197m::\u001b[0m\u001b[39mAbstractDict\u001b[0m\u001b[39m;\u001b[0m \u001b[0m\u001b[39mkwargs\u001b[0m\u001b[38;5;197m...\u001b[0m\u001b[39m)\u001b[0m \u001b[0m\u001b[38;5;197min\u001b[0m \u001b[0m\u001b[39mPlotlyBase\u001b[0m \u001b[0m\u001b[39mat\u001b[0m \u001b[0m\u001b[38;5;197m/\u001b[0m\u001b[39mUsers\u001b[0m\u001b[38;5;197m/\u001b[0m\u001b[39mdjplahaye\u001b[0m\u001b[38;5;197m/\u001b[0m\u001b[38;5;197m.\u001b[0m\u001b[39mjulia\u001b[0m\u001b[38;5;197m/\u001b[0m\u001b[39mpackages\u001b[0m\u001b[38;5;197m/\u001b[0m\u001b[39mPlotlyBase\u001b[0m\u001b[38;5;197m/\u001b[0m\u001b[38;5;141m4\u001b[0m\u001b[39mNWbR\u001b[0m\u001b[38;5;197m/\u001b[0m\u001b[39msrc\u001b[0m\u001b[38;5;197m/\u001b[0m\u001b[39mapi\u001b[0m\u001b[38;5;197m.\u001b[0m\u001b[39mjl\u001b[0m\u001b[38;5;197m:\u001b[0m\u001b[38;5;141m40\u001b[0m\n"
      ]
     },
     "execution_count": 11,
     "metadata": {},
     "output_type": "execute_result"
    }
   ],
   "source": [
    "?mesh3d"
   ]
  },
  {
   "cell_type": "markdown",
   "id": "be84b379",
   "metadata": {},
   "source": [
    "    triangles=go.Mesh3d(x=x,\n",
    "                     y=y,\n",
    "                     z=z,\n",
    "                     facecolor=facecolor,\n",
    "                     i=I,\n",
    "                     j=J,\n",
    "                     k=K,\n",
    "                     name=''\n",
    "                    )"
   ]
  },
  {
   "cell_type": "code",
   "execution_count": 10,
   "id": "75101d2e",
   "metadata": {},
   "outputs": [
    {
     "ename": "LoadError",
     "evalue": "MethodError: no method matching -(::Vector{Int64}, ::Int64)\nFor element-wise subtraction, use broadcasting with dot syntax: array .- scalar\n\u001b[0mClosest candidates are:\n\u001b[0m  -(\u001b[91m::T\u001b[39m, ::T) where T<:Union{Int128, Int16, Int32, Int64, Int8, UInt128, UInt16, UInt32, UInt64, UInt8} at int.jl:86\n\u001b[0m  -(\u001b[91m::Rational\u001b[39m, ::Integer) at rational.jl:313\n\u001b[0m  -(\u001b[91m::ColorTypes.AbstractGray{Bool}\u001b[39m, ::Number) at ~/.julia/packages/ColorVectorSpace/tLy1N/src/ColorVectorSpace.jl:326\n\u001b[0m  ...",
     "output_type": "error",
     "traceback": [
      "MethodError: no method matching -(::Vector{Int64}, ::Int64)\nFor element-wise subtraction, use broadcasting with dot syntax: array .- scalar\n\u001b[0mClosest candidates are:\n\u001b[0m  -(\u001b[91m::T\u001b[39m, ::T) where T<:Union{Int128, Int16, Int32, Int64, Int8, UInt128, UInt16, UInt32, UInt64, UInt8} at int.jl:86\n\u001b[0m  -(\u001b[91m::Rational\u001b[39m, ::Integer) at rational.jl:313\n\u001b[0m  -(\u001b[91m::ColorTypes.AbstractGray{Bool}\u001b[39m, ::Number) at ~/.julia/packages/ColorVectorSpace/tLy1N/src/ColorVectorSpace.jl:326\n\u001b[0m  ...",
      "",
      "Stacktrace:",
      " [1] triplot(vertices::Matrix{Float64}, faces::Matrix{Int64}, facecolor::Matrix{Float64}; opacity::Float64, cameraEye::Matrix{Int64})",
      "   @ Main ./In[10]:4",
      " [2] triplot(vertices::Matrix{Float64}, faces::Matrix{Int64}, facecolor::Matrix{Float64})",
      "   @ Main ./In[10]:2",
      " [3] top-level scope",
      "   @ In[10]:16"
     ]
    }
   ],
   "source": [
    "using PlotlyJS\n",
    "function triplot(vertices,faces,facecolor;opacity=0.5,cameraEye=[-1 -1 1])\n",
    "    fcStr = [@sprintf(\"rgb(%5.2f,%5.2f,%5.2f)\",255*facecolor[k,1],255*facecolor[k,2],255*facecolor[k,3]) for k = 1:size(facecolor,1) ]\n",
    "    t = mesh3d(\n",
    "        x = vertices[:,1], y = vertices[:,2], z = vertices[:,3],\n",
    "        i = faces[:,1]-1,  j = faces[:,2]-1,  k = faces[:,3]-1, # Zero-based indexing in plotly\n",
    "        facecolor=fcStr,opacity=opacity)\n",
    "        layout = Layout(;title=\"Basic Triangle Plot\",\n",
    "                        scene=attr(;camera=attr(eye=attr(x=cameraEye[1],y=cameraEye[2],z=cameraEye[3]))))\n",
    "    plot(t, layout)\n",
    "end\n",
    "\n",
    "verts = [0. 0. 0.;  1. 0.5 0.; 1. 1. 1.; 0. 1. 0.2]\n",
    "faces = [1 2 4; 2 3 4]\n",
    "fclr  = [1. 0. 0.; 0. 0. 1.]\n",
    "triplot(verts,faces,fclr)"
   ]
  },
  {
   "cell_type": "code",
   "execution_count": 4,
   "id": "82883f06",
   "metadata": {},
   "outputs": [
    {
     "data": {
      "text/latex": [
       "No documentation found.\n",
       "\n",
       "Binding \\texttt{@sprintf} does not exist.\n",
       "\n"
      ],
      "text/markdown": [
       "No documentation found.\n",
       "\n",
       "Binding `@sprintf` does not exist.\n"
      ],
      "text/plain": [
       "  No documentation found.\n",
       "\n",
       "  Binding \u001b[36m@sprintf\u001b[39m does not exist."
      ]
     },
     "execution_count": 4,
     "metadata": {},
     "output_type": "execute_result"
    }
   ],
   "source": [
    "?@sprintf"
   ]
  },
  {
   "cell_type": "code",
   "execution_count": null,
   "id": "6db099b1",
   "metadata": {},
   "outputs": [],
   "source": []
  }
 ],
 "metadata": {
  "kernelspec": {
   "display_name": "Julia 1.8.1",
   "language": "julia",
   "name": "julia-1.8"
  },
  "language_info": {
   "file_extension": ".jl",
   "mimetype": "application/julia",
   "name": "julia",
   "version": "1.8.1"
  }
 },
 "nbformat": 4,
 "nbformat_minor": 5
}
