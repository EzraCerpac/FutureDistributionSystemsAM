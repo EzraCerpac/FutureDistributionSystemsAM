{
 "cells": [
  {
   "cell_type": "markdown",
   "id": "11f52ed6",
   "metadata": {},
   "source": [
    "# DIGIWIND Proposal \n",
    "# EE4375 Course Extension \n",
    "\n",
    "We describe how the course could be extended in the context of the DIGIWIND project. "
   ]
  },
  {
   "cell_type": "markdown",
   "id": "10a84d60",
   "metadata": {},
   "source": [
    "## First Extension: Rotating Machine Tutorial   \n",
    "\n",
    "The EE4375 course of consists of three parts. We to extend Part 3 of the course with theory, example and assignment on a rotor-airgap-stator configuration. This configuration is expected to act as a mock-up of a wind turbine generator. \n",
    "\n",
    "Transform currently existing tutorial on an transformer into rotating machine tutorial by transforming the geometry and the sequences of meshes for the geometry.\n",
    "\n",
    "In case time allows, extend to second order elements (by replacing linear Lagrange shape functions on triangles by quadratic Lagrange shape function on triangles and quadrilaterals). Extend with models for permanent magnets. "
   ]
  },
  {
   "cell_type": "markdown",
   "id": "481b0a80",
   "metadata": {},
   "source": [
    "## Second Extension: Electromagnetic Force and Torque Computation Tutorial \n",
    "\n",
    "Extend Part 3 of the course with theory, functionality and example for the computation of the electromagnatic force on part of the configuration or geometry.  \n",
    "\n",
    "Starting from an existing tutorial, procede in the following three steps: \n",
    "1. first add functionality to compute the magnetic force on a current carrying wire by integrating the Lorentz force density ${\\mathbf J} \\times {\\mathbf B}$ over the cross-section over the wire. The surface integral over the cross-section of the conductor can be computed as the sum over integrals over triangles in the conductor;\n",
    "2. Second, extend the slides with theory on magnetic energy and magnetic force computation using the Maxwell stress tensor approach; \n",
    "3. add functionality to compute the magnetic force andf torque on the rotor of a wind turbine generator;  "
   ]
  },
  {
   "cell_type": "markdown",
   "id": "bab0fc27",
   "metadata": {},
   "source": [
    "## Third Extension: Course Material as Julia Package \n",
    "\n",
    "Bundle the course material as a Julia package. The course material includes the slides and Jupiter notebook with Julia codes. The Julia package will be released in public domain, allowing the course material to be widely shared. The envisioned Julia package is expected to strenghtening the look-and-feel of the course as an independent module. This indepence will allow to deploy the course in hybrid/virtual setting in the future.   "
   ]
  },
  {
   "cell_type": "code",
   "execution_count": null,
   "id": "f53d3f17",
   "metadata": {},
   "outputs": [],
   "source": []
  }
 ],
 "metadata": {
  "kernelspec": {
   "display_name": "Julia 1.8.1",
   "language": "julia",
   "name": "julia-1.8"
  },
  "language_info": {
   "file_extension": ".jl",
   "mimetype": "application/julia",
   "name": "julia",
   "version": "1.8.1"
  }
 },
 "nbformat": 4,
 "nbformat_minor": 5
}
