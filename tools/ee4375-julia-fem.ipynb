{
 "cells": [
  {
   "cell_type": "markdown",
   "id": "3ea2dc9b",
   "metadata": {},
   "source": [
    "# Finite Element Methods in Julia \n",
    "\n",
    "## Section 1: Finite Difference Method in Julia \n",
    "\n",
    "1. [BSplineKit.jl](https://jipolanco.github.io/BSplineKit.jl/dev/): provides both collocation, Galerkin methods and banded matrices;\n",
    "2. [ApproxFun.jl](https://docs.sciml.ai/ApproxFun/stable/): provides a boundary value problem solver and a finite difference solver for the Poisson equation; \n",
    "3. [Kronecker.jl](https://michielstock.github.io/Kronecker.jl/stable/man/basic/): lazy evaluation of Kronecker product of matrices;  "
   ]
  },
  {
   "cell_type": "markdown",
   "id": "19ce5aba",
   "metadata": {},
   "source": [
    "### Tiny Code for Generating FDM Matrices\n",
    "\n",
    "See [Generating Finite Difference Stencils](https://discourse.julialang.org/t/generating-finite-difference-stencils/85876/4) for more information. This has been implemented in the [FiniteDifferenceMatrices.jl](https://github.com/ohno/FiniteDifferenceMatrices.jl) package. Need to check how boundary conditions are implemented (in case at all)."
   ]
  },
  {
   "cell_type": "code",
   "execution_count": 3,
   "id": "65279212",
   "metadata": {},
   "outputs": [
    {
     "data": {
      "text/plain": [
       "stencil (generic function with 1 method)"
      ]
     },
     "execution_count": 3,
     "metadata": {},
     "output_type": "execute_result"
    }
   ],
   "source": [
    "function stencil(x::AbstractVector{<:Real}, x₀::Real, m::Integer)\n",
    "    ℓ = 0:length(x)-1\n",
    "    m in ℓ || throw(ArgumentError(\"order $m ∉ $ℓ\"))\n",
    "    A = @. (x' - x₀)^ℓ / factorial(ℓ)\n",
    "    return A \\ (ℓ .== m) # vector of weights w\n",
    "end"
   ]
  },
  {
   "cell_type": "code",
   "execution_count": 4,
   "id": "5493c083",
   "metadata": {},
   "outputs": [
    {
     "data": {
      "text/plain": [
       "9-element Vector{Rational{Int64}}:\n",
       "    7//240\n",
       "   -2//5\n",
       "  169//60\n",
       " -122//15\n",
       "   91//8\n",
       " -122//15\n",
       "  169//60\n",
       "   -2//5\n",
       "    7//240"
      ]
     },
     "execution_count": 4,
     "metadata": {},
     "output_type": "execute_result"
    }
   ],
   "source": [
    "stencil(-4:4, 0//1, 4)"
   ]
  },
  {
   "cell_type": "markdown",
   "id": "a1e9f0bf",
   "metadata": {},
   "source": [
    "## Section 2: Gridap.jl for Finite Element Analysis Analysis\n",
    "\n",
    "1. Gridap.jl documentation is at [Gridap home page](https://gridap.github.io/Gridap.jl/stable/); \n",
    "2. Gridap tutorials are at [Gridap tutorials](https://gridap.github.io/Tutorials/stable/); \n",
    "3. Gridap Gitter channel [Gridap Gitter](https://gitter.im/Gridap-jl/community) ask questions; \n",
    "4. description of low-level interface [page](https://gridap.github.io/Tutorials/dev/pages/t013_poisson_dev_fe/)\n",
    "5. Verdugo talk during JuliaCon-2020 [talk](https://www.youtube.com/watch?v=txcb3ROQBS4&t=1135s); \n",
    "6. Verdugo-Neiva-Colomes-Badia talk during JuliaCon-2021 [talk](https://www.youtube.com/watch?v=hsQiFP4S5RY&t=109s); \n",
    "7. Colomes talk during JuliaCon-2022 [talk](https://www.youtube.com/watch?v=heeiSoKnlUk); \n",
    "\n",
    "## Section 3: Ferrite-fem.jl for Finite Element Analysis Analysis \n",
    "\n",
    "1. Ferrite-fem.jl documentation is at [Ferrite-fem home page](https://ferrite-fem.github.io/Ferrite.jl/stable/examples/helmholtz/); \n",
    "2. Ferrite-fem slack channel at julialang.slack.com \n",
    "\n",
    "## Section 4: Other Julia Package for Finite Element Analysis Analysis\n",
    "\n",
    "1. [Elfel.jl](https://github.com/PetrKryslUCSD/Elfel.jl); \n",
    "\n",
    "\n",
    "## Section 5: Related Information (Student Projects in 2022-23) \n",
    "\n",
    "1. Shallow Water Equations solved using Gridap at [gridapGeosciences](https://github.com/gridapapps/GridapGeosciences.jl);\n",
    "2. Topology Optimization using Julia at [topopt](https://github.com/JuliaTopOpt/TopOpt.jl); "
   ]
  },
  {
   "cell_type": "code",
   "execution_count": null,
   "id": "89c58890",
   "metadata": {},
   "outputs": [],
   "source": []
  },
  {
   "cell_type": "code",
   "execution_count": null,
   "id": "05786ac8",
   "metadata": {},
   "outputs": [],
   "source": []
  }
 ],
 "metadata": {
  "kernelspec": {
   "display_name": "Julia 1.8.1",
   "language": "julia",
   "name": "julia-1.8"
  },
  "language_info": {
   "file_extension": ".jl",
   "mimetype": "application/julia",
   "name": "julia",
   "version": "1.8.1"
  }
 },
 "nbformat": 4,
 "nbformat_minor": 5
}
