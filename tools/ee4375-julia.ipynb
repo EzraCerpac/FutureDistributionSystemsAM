{
 "cells": [
  {
   "cell_type": "markdown",
   "id": "f5dec432",
   "metadata": {},
   "source": [
    "# EE4375 Usage of Julia \n",
    "\n",
    "This notebook provides information on using [Julia](www.julialang.org) in the EE4375 course. \n",
    "\n",
    "## Section 1: The Julia Programming Language   \n",
    "\n",
    "###  Introductory Books \n",
    "1. [ThinkJulia](https://benlauwens.github.io/ThinkJulia.jl/latest/book.html) by Ben Lauwnens and Allen Downey: Quote <i> This book is for anyone who wants to learn to program. No formal prior knowledge is required. </i>\n",
    "2. [Practical Julia - A Hands-On Introduction for Scientific Minds](https://amzn.in/iAZvOb3) on Amazon with free preview by Lee Phillips\n",
    "3. [Appendix G entitled Julia](https://algorithmsbook.com/files/appendix-g.pdf) of the book <i>Algorithms for Optimization</i> by Mykel Kochenderfer and Tim Wheeler; \n",
    "4. [Matlab-Python-Julia Cheatsheet](https://codeberg.org/AdamWysokinski/BBJ/src/branch/main/MPJ.md) by Adam Wysokinski; \n",
    "5. [Introducing Julia](https://en.wikibooks.org/wiki/Introducing_Julia) Quote <i> This wikibook is intended as an introduction to the language for the less experienced and occasional programmer.</i>\n",
    "6. [Julia Data Science](https://juliadatascience.io/) by Jose Storopoli and Rik Huijzer and Lazaro Alonso: Quote <i> This is an open source and open access book on how to do Data Science using Julia. </i> Chapter 2 and Chapter 3 of the book provide an introduction into Julia;\n",
    "7. [Fundamentals of Numerical Computation](https://tobydriscoll.net/fnc-julia/frontmatter.html) by Tobin Driscoll and Richard Braun. Quote: <i> Julia was designed from its inception to prioritize numerical scientific computing. </i> This book provides background on the linear algebra, calculus and differential equations used in this course. Contains various code examples. \n",
    "8. Other books are available at [julialang learning](https://julialang.org/learning/books) \n",
    "\n",
    "###  Introductory  Videos series\n",
    "1. [Introductory Video Series](www.youtube.com) by Doggo dot jl on youtube; \n",
    "2. [Zero2Hero-JuliaWorkshop](https://github.com/Datseris/Zero2Hero-JuliaWorkshop/tree/main) short workshop; \n",
    "3. [julialang learning notebooks](https://julialang.org/learning/notebooks/) video tutorial;  \n",
    "\n",
    "### Online Sources \n",
    "1. [JuliaNotes](https://m3g.github.io/JuliaNotes.jl/stable/)\n",
    "2. [Modern Julia Workflows](https://modernjuliaworkflows.github.io/) \n",
    "3. [Gens Julia](https://gensjulia.pages.dev)\n",
    "\n",
    "### Papers \n",
    "1. [Julia: A Fresh Approach to Numerical Computing](https://arxiv.org/abs/1411.1607) by Jeff Bezanson, Alan Edelman, Stefan Karpinski, Viral B. Shah; \n",
    "\n",
    "### Code Design \n",
    "\n",
    "1. [Hands on design patterns and best practices with Julia](https://www.perlego.com/book/1365831/handson-design-patterns-and-best-practices-with-julia-proven-solutions-to-common-problems-in-software-design-for-julia-1x-pdf?utm_source=google&utm_medium=cpc&campaignid=15913700346&adgroupid=133123169675&gclid=CjwKCAjwpqCZBhAbEiwAa7pXeYKebELCtsQ6SqNEzJ9OASEoO4lkr5P5QyjKIARICrnFYKq_QQ2yOBoCh14QAvD_BwE) by Tom Kwong. "
   ]
  },
  {
   "cell_type": "markdown",
   "id": "9d766068",
   "metadata": {},
   "source": [
    "## Section 2: Julia Programming Concepts Used in the Course (continue here)\n",
    "\n",
    "In this section we discuss various Julia programming language constructions that will be valuable in the course.   \n",
    "\n",
    "### Multiple Dispatch \n",
    "\n",
    "A key concept in the design and performance of Julia is the concept of multiple dispatch. In our discussion we will follow examples and ideas from the inspiring video [The Unreasonable Effectedness of Multiple Dispatch” by Stefan Karpinski](https://www.youtube.com/watch?v=kc9HwsxE1OY) (this video also provides a good introduction into abstract type, subtype definition, generic code and generic types). Other examples are given in [Chapter 17 of Thinking Julia](https://benlauwens.github.io/ThinkJulia.jl/latest/book.html#chap17) and [Section 4 of Julia: A Fresh Approach to Numerical Computing](https://arxiv.org/abs/1411.1607). More information on how multiple dispatch works in Julia is provided in [section Methods in the Julia manual](https://docs.julialang.org/en/v1/manual/methods/). More background information on multiple dispatch is provided in the [wiki on multiple dispath](https://en.wikipedia.org/wiki/Multiple_dispatch). \n",
    "\n",
    "<b> The type system in Julia </b>\n",
    "\n",
    "Julia is a typed language. This implies that Julia implements various types to store e.g. integers, floats and strings. The function <i>typeof</i> returns the type of a variable. Julia implements a hierarchy (in the form of tree structure) of types. The functions <i>subtypes</i> (with final-s) and <i>supertype</i> (without final-s) return the various sub (or derived) types and the super (or parent) type of a given type. The type hierarchy allows to implement multiple dispatch (binding a function to its most specific type of input). This feature is a key feature in the performance of Julia for scientific computing.  \n",
    "\n",
    "<b> User Defined Types </b>\n",
    "\n",
    "Julia allows the user to defined its own type. A container with elementary data types is build. This allows to register a person in a database with name, adres and phone number. More mathematicallly, a point can be coded with its spatial coordinates, a triangle with its edges and a finite element mesh with its elements. \n",
    "\n",
    "In the code example that follows, first an abstract data type Pet is defined. Next, the two subtypes Dog and Cat are defined as a struct with a field Name. Next, the variable rex of type Dog and the variables whiskers of type Cat are defined. One can verify here the functioning of the functions <i>subtypes</i>, <i>supertype</i> and <i>typeof</i>. "
   ]
  },
  {
   "cell_type": "code",
   "execution_count": null,
   "id": "33b80050",
   "metadata": {},
   "outputs": [],
   "source": [
    "abstract type Pet end\n",
    "struct Dog<:Pet name::String end\n",
    "struct Cat<:Pet name::String end\n",
    "rex = Dog(\"Rex\")\n",
    "whiskers = Cat(\"Whiskers\")"
   ]
  },
  {
   "cell_type": "markdown",
   "id": "61f2efa7",
   "metadata": {},
   "source": [
    "<b> Single dynamic dispatch </b>\n",
    "\n",
    "Julia perform a dispatch of the type of an argument when calling a function. This is shown in the following example. Observe the type annotation in defining the functions. "
   ]
  },
  {
   "cell_type": "code",
   "execution_count": null,
   "id": "211a1915",
   "metadata": {},
   "outputs": [],
   "source": [
    "identify(a::Dog) = \"I am a Dog\"\n",
    "identify(a::Cat) = \"I am a Cat\"\n",
    "identify(whiskers)"
   ]
  },
  {
   "cell_type": "markdown",
   "id": "fbf6a632",
   "metadata": {},
   "source": [
    "The function <i>methods</i> returns the methods table of a function."
   ]
  },
  {
   "cell_type": "code",
   "execution_count": null,
   "id": "b910e72f",
   "metadata": {},
   "outputs": [],
   "source": [
    "methods(identify)"
   ]
  },
  {
   "cell_type": "markdown",
   "id": "006949c8",
   "metadata": {},
   "source": [
    "<b> Multiple dynamic dispatch </b>\n",
    "\n",
    "Julia performs a dispatch on the type of a arguments in the function call. "
   ]
  },
  {
   "cell_type": "code",
   "execution_count": null,
   "id": "144d50f9",
   "metadata": {},
   "outputs": [],
   "source": [
    "function encounter(a::Pet, b::Pet)\n",
    "    verb = meet(a,b) \n",
    "    println(\" $(a.name) meets $(b.name) and $verb\")\n",
    "end \n",
    "meet(a::Dog, b::Dog) = \"sniffs\"\n",
    "meet(a::Dog, b::Cat) = \"chases\"\n",
    "meet(a::Cat, b::Dog) = \"hisses\"\n",
    "meet(a::Cat, b::Cat) = \"slinks\""
   ]
  },
  {
   "cell_type": "code",
   "execution_count": null,
   "id": "a13bf641",
   "metadata": {},
   "outputs": [],
   "source": [
    "encounter(rex, whiskers)"
   ]
  },
  {
   "cell_type": "code",
   "execution_count": null,
   "id": "1409d9fb",
   "metadata": {},
   "outputs": [],
   "source": [
    "methods(meet)"
   ]
  },
  {
   "cell_type": "markdown",
   "id": "80fa727d",
   "metadata": {},
   "source": [
    "<b> Another Example of Multiple Dispatch </b>\n",
    "\n",
    "Another small example of multiple dispatch (including how to add methods to methods from the base library) is given in [the fall-in-love-with-julia course](https://github.com/jolin-io/fall-in-love-with-julia/blob/main/01%20introduction%20-%2002%20matrix%20reusability.ipynb). \n",
    "\n",
    "Another example of multiple dispatch is given in [Dispatch in Java and Julia](https://discourse.julialang.org/t/advantages-of-julia-vs-mojo/111614/24)."
   ]
  },
  {
   "cell_type": "markdown",
   "id": "8039f1db",
   "metadata": {},
   "source": [
    "<b> Type stability, static arrays and mutuable arrays </b>\n",
    "This examples was discussed on the Discourse forum at [Adjoint(A)*A for MArray and Type Stability](https://discourse.julialang.org/t/adjoint-a-a-for-marray-and-type-stability/118201/6) (merits a revisit). The purpose of discussing this examples here is illustrate once again the multiple dispatch using type annotations. The example here is more complex as it involves concrete types using structs parametrized by type to ensure type stability. "
   ]
  },
  {
   "cell_type": "code",
   "execution_count": 9,
   "id": "c1c5fbaa",
   "metadata": {},
   "outputs": [],
   "source": [
    "using StaticArrays\n",
    "\n",
    "# define type struct with static (S) arrays as a field \n",
    "struct SFoo{T}\n",
    "  SGnu::SMatrix{3,3,T,9}\n",
    "end \n",
    "\n",
    "# define type struct with mutable (M) array as a field\n",
    "struct MFoo{T}\n",
    "  MGnu::MMatrix{3,3,T,9}\n",
    "end "
   ]
  },
  {
   "cell_type": "code",
   "execution_count": 2,
   "id": "cca299cb",
   "metadata": {},
   "outputs": [
    {
     "data": {
      "text/plain": [
       "MFoo{Float64}([0.0 0.0 0.0; 0.0 0.0 0.0; 0.0 0.0 0.0])"
      ]
     },
     "execution_count": 2,
     "metadata": {},
     "output_type": "execute_result"
    }
   ],
   "source": [
    "# declare variable of type SFoo holding a static array \n",
    "sgnu = SMatrix{3,3}(0., 0., 0., 0., 0., 0., 0., 0., 0.)\n",
    "sfoo = SFoo(sgnu)\n",
    "\n",
    "# declare variable of type MFoo holding a static array\n",
    "mgnu = MMatrix{3,3}(0., 0., 0., 0., 0., 0., 0., 0., 0.)\n",
    "mfoo = MFoo(mgnu)"
   ]
  },
  {
   "cell_type": "markdown",
   "id": "8a1eae03",
   "metadata": {},
   "source": [
    "Note the difference between adjoint (defined in the standard library) and Adjoint (defined by LinearAlgebra as lazy wrapper for the adjoint view). "
   ]
  },
  {
   "cell_type": "code",
   "execution_count": 16,
   "id": "073a9773",
   "metadata": {},
   "outputs": [
    {
     "data": {
      "text/plain": [
       "bar (generic function with 2 methods)"
      ]
     },
     "execution_count": 16,
     "metadata": {},
     "output_type": "execute_result"
    }
   ],
   "source": [
    "# define function that compute A^H*A for A static array. \n",
    "function bar(sfoo::SFoo)\n",
    "    sgnu = sfoo.SGnu \n",
    "    return adjoint(sgnu)*sgnu \n",
    "end \n",
    "\n",
    "# define function that compute A^H*A for A multable array. \n",
    "function bar(mfoo::MFoo)\n",
    "    mgnu = mfoo.MGnu \n",
    "    return adjoint(mgnu)*mgnu \n",
    "end"
   ]
  },
  {
   "cell_type": "code",
   "execution_count": 17,
   "id": "cc0c9140",
   "metadata": {},
   "outputs": [
    {
     "data": {
      "text/html": [
       "# 2 methods for generic function <b>bar</b>:<ul><li> bar(sfoo::<b>SFoo</b>) in Main at In[16]:2</li> <li> bar(mfoo::<b>MFoo</b>) in Main at In[16]:8</li> </ul>"
      ],
      "text/plain": [
       "# 2 methods for generic function \"bar\":\n",
       "[1] bar(sfoo::SFoo) in Main at In[16]:2\n",
       "[2] bar(mfoo::MFoo) in Main at In[16]:8"
      ]
     },
     "execution_count": 17,
     "metadata": {},
     "output_type": "execute_result"
    }
   ],
   "source": [
    "methods(bar)"
   ]
  },
  {
   "cell_type": "code",
   "execution_count": 18,
   "id": "825a6a05",
   "metadata": {},
   "outputs": [
    {
     "name": "stdout",
     "output_type": "stream",
     "text": [
      "MethodInstance for bar(::SFoo{Float64})\n",
      "  from bar(sfoo::SFoo) in Main at In[16]:2\n",
      "Arguments\n",
      "  #self#\u001b[36m::Core.Const(bar)\u001b[39m\n",
      "  sfoo\u001b[36m::SFoo{Float64}\u001b[39m\n",
      "Locals\n",
      "  sgnu\u001b[36m::SMatrix{3, 3, Float64, 9}\u001b[39m\n",
      "Body\u001b[36m::SMatrix{3, 3, Float64, 9}\u001b[39m\n",
      "\u001b[90m1 ─\u001b[39m      (sgnu = Base.getproperty(sfoo, :SGnu))\n",
      "\u001b[90m│  \u001b[39m %2 = Main.adjoint(sgnu)\u001b[36m::SMatrix{3, 3, Float64, 9}\u001b[39m\n",
      "\u001b[90m│  \u001b[39m %3 = (%2 * sgnu)\u001b[36m::SMatrix{3, 3, Float64, 9}\u001b[39m\n",
      "\u001b[90m└──\u001b[39m      return %3\n",
      "\n",
      "MethodInstance for bar(::MFoo{Float64})\n",
      "  from bar(mfoo::MFoo) in Main at In[16]:8\n",
      "Arguments\n",
      "  #self#\u001b[36m::Core.Const(bar)\u001b[39m\n",
      "  mfoo\u001b[36m::MFoo{Float64}\u001b[39m\n",
      "Locals\n",
      "  mgnu\u001b[36m::MMatrix{3, 3, Float64, 9}\u001b[39m\n",
      "Body\u001b[36m::MMatrix{3, 3, Float64, 9}\u001b[39m\n",
      "\u001b[90m1 ─\u001b[39m      (mgnu = Base.getproperty(mfoo, :MGnu))\n",
      "\u001b[90m│  \u001b[39m %2 = Main.adjoint(mgnu)\u001b[36m::MMatrix{3, 3, Float64, 9}\u001b[39m\n",
      "\u001b[90m│  \u001b[39m %3 = (%2 * mgnu)\u001b[36m::MMatrix{3, 3, Float64, 9}\u001b[39m\n",
      "\u001b[90m└──\u001b[39m      return %3\n",
      "\n"
     ]
    }
   ],
   "source": [
    "@code_warntype bar(sfoo)\n",
    "@code_warntype bar(mfoo)"
   ]
  },
  {
   "cell_type": "markdown",
   "id": "bd870bc6",
   "metadata": {},
   "source": [
    "<b>Use of the macro view @view</b>\n",
    "The macro @view allows to split a vector into subvectors. (This will be useful in defining e.g. the right-hand side function of ordinary differential equations).  "
   ]
  },
  {
   "cell_type": "code",
   "execution_count": null,
   "id": "26a842b4",
   "metadata": {},
   "outputs": [],
   "source": [
    "# use of the macro @view \n",
    "m = [1;2;3;4]\n",
    "m1 = @view m[1:2]\n",
    "m2 = @view m[3:4]\n",
    "m2[1]"
   ]
  },
  {
   "cell_type": "markdown",
   "id": "e7577e98",
   "metadata": {},
   "source": [
    "<b>Notes on using broadcast</b> Using Ref to avoid broadcast over the second argument. "
   ]
  },
  {
   "cell_type": "code",
   "execution_count": null,
   "id": "5cb5a3a4",
   "metadata": {},
   "outputs": [],
   "source": [
    "x = [10., 20.]\n",
    "p = [1.,2.,3.]\n",
    "\n",
    "foo(x,p) = sum(x*p)\n",
    "\n",
    "# below results in a dimension mismatch \n",
    "#foo.(x,p)\n",
    "\n",
    "foo.(x,Ref(p))"
   ]
  },
  {
   "cell_type": "markdown",
   "id": "1b08ab4c",
   "metadata": {},
   "source": [
    "<b>Use of the functions map and mapreduce</b>"
   ]
  },
  {
   "cell_type": "code",
   "execution_count": null,
   "id": "95e8d836",
   "metadata": {},
   "outputs": [],
   "source": [
    "using StaticArrays\n",
    "\n",
    "# a point in 3D is a tuple of 3 coordinates \n",
    "# we here introduce static vectors that appear to be vital to reduce the number of allocations \n",
    "const Point3D = SVector{3,Float64};\n",
    "\n",
    "# use the function mapreduce() to 2D array of 3D-vectors\n",
    "A = Array{Point3D}(undef,2,2)\n",
    "A[1,1] = Point3D(-1.,0.,0.)  \n",
    "A[1,2] = Point3D(-2.,0.,0.)\n",
    "A[2,1] = Point3D(-1.,0.,0.)  \n",
    "A[2,2] = Point3D(-2.,0.,0.)\n",
    "A\n",
    "\n",
    "map(x->2*x,A)\n",
    "\n",
    "mapreduce(x->2*x,+,A)"
   ]
  },
  {
   "cell_type": "markdown",
   "id": "2de27a2c",
   "metadata": {},
   "source": [
    "<b> Type instability and Performance </b>\n",
    "Type stability is an important concept in the computational efficiency of the code. See section on [Type Instability in JuliaNotes](https://m3g.github.io/JuliaNotes.jl/stable/instability/).   \n",
    "\n",
    "Applications of multiple dispatch in coding of FEM:\n",
    "1. FEM assembly (methods used depend on the type of argument);\n",
    "2. FEM solve (method used to solve linear system depends on the type of matrix and right-side vector)."
   ]
  },
  {
   "cell_type": "markdown",
   "id": "a1e9f0bf",
   "metadata": {},
   "source": [
    "### Function-like Objects and Callable Structs  \n",
    "\n",
    "We discussed the need to encapsulate (or to group) user data in a container before when discussing user defined types. Often it is valuable to store a function that operates on the data in the same container. An example is a container that stores the coefficients of a polynomial and a function that evaluates the polynomial in a given input.  \n",
    "\n",
    "See heading Function like objects in [section Methods in the Julia manual](https://docs.julialang.org/en/v1/manual/methods/); struct (data) with a method (function) associated to it; example of polynomial; ask students to read through the documentation, give an example from documentartion and give own example; \n",
    "\n",
    "### Eager vs. Lazy Evaluation\n",
    "\n",
    "A lazily-evaluated list is a list whose elements are not evaluated when it's constructed, but rather when it is accessed.\n",
    "The benefit of lazy operations is that they can be materialized in-place, possible using simplifications. For example, allows to implement BLAS-1 in place operations. Allows allocation free population of vectors using heat, vcat and copy! \n",
    "Examples from https://github.com/MikeInnes/Lazy.jl or https://github.com/JuliaArrays/LazyArrays.jl \n",
    "\n",
    "Application to FEM: list of elementary matrices and vectors as lazy arrays; \n",
    "\n",
    "\n",
    "Application to FEM: FEM assembly process; \n",
    "\n",
    "### Automatic Differentiation\n",
    "\n",
    "See [zygote](https://fluxml.ai/Zygote.jl/latest/) and [enzyme](https://enzyme.mit.edu/julia/); \n",
    "\n",
    "Application to FEM: modeling magnetic saturation (non-linear BH curve, non-linear constitutive equation). Non-linear assembly. Non-linar solve. (see examples of non-linear solve in e.g. Gridap.jl and Ferrite.jl)  \n",
    "\n",
    "### Parallel and GPU Computing\n",
    "\n",
    "<b> Shared Memory </b>\n",
    "\n",
    "Using macro @parallel and SharedArray. See e.g. Section 5.4 of Fresh Approach paper. \n",
    "\n",
    "<b> Distributed Memory</b>\n",
    "\n",
    "Application to FEM: (1/2): parallel assembly and solve of the FEM matrix and right-hand vector by a parallel loop over the elements. Distribution of the elements over the processors. Use of parallel distributed matrices and vectors (layout of submatrices and subvectors connected by interfaces). (2/2) Parallel solve using iterative solution methods.  "
   ]
  },
  {
   "cell_type": "markdown",
   "id": "88fff13a",
   "metadata": {},
   "source": [
    "## Section 3: Julia Packages for FEM\n",
    "See [gijswl/ee4375_fem_ta/tree/main/general/julia](https://github.com/gijswl/ee4375_fem_ta/tree/main/general/julia); (Domenico needs to reread)\n",
    "\n",
    "Refer to \n",
    "1. [gridap.jl](https://gridap.github.io/Gridap.jl/stable/) (functional approach); need to read its documentation at https://gridap.github.io/Tutorials/dev/pages/t013_poisson_dev_fe/ \n",
    "2. [ferritefem.jl](https://ferrite-fem.github.io/Ferrite.jl/stable/) (classical approach); \n",
    "3. [minfem.jl](https://github.com/MinFEM/MinFEM.jl) (good for didactical purpose); \n",
    "4. [EndoBeams.jl](https://gitlab.emse.fr/pierrat/EndoBeams.jl) and [paper](https://www.sciencedirect.com/science/article/pii/S0965997822000849) (good for explanation on how to use structarrays.jl)\n",
    "\n",
    "## Section 4: Post Processing \n",
    "To visualize mesh and computed results, use either \n",
    "1. use Makie.jl (preferred); \n",
    "2. WriteVTK.jl and visualize results using Paraview; "
   ]
  },
  {
   "cell_type": "code",
   "execution_count": null,
   "id": "a8ad5158",
   "metadata": {},
   "outputs": [],
   "source": [
    "# sample post-processing \n",
    "# here we avoid storing x as a vector, resulting in memory savings - use varinfo() to check memory savings\n",
    "myf(x) = x*(x-1)*sin(pi*x)\n",
    "x = 0:1/100:1\n",
    "plot(x,myf.(x))"
   ]
  }
 ],
 "metadata": {
  "kernelspec": {
   "display_name": "Julia 1.8.1",
   "language": "julia",
   "name": "julia-1.8"
  },
  "language_info": {
   "file_extension": ".jl",
   "mimetype": "application/julia",
   "name": "julia",
   "version": "1.8.1"
  }
 },
 "nbformat": 4,
 "nbformat_minor": 5
}
