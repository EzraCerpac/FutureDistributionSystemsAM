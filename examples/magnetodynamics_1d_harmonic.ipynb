{
 "cells": [
  {
   "cell_type": "markdown",
   "id": "f646b240",
   "metadata": {},
   "source": [
    "# Exercise 2: 1D Magnetodynamics (Time-Harmonic)"
   ]
  },
  {
   "cell_type": "code",
   "execution_count": 2,
   "id": "cd185e9b",
   "metadata": {},
   "outputs": [
    {
     "name": "stderr",
     "output_type": "stream",
     "text": [
      "┌ Warning: Replacing docs for `Main.MagnetostaticsFEM.WeakFormProblem :: Union{}` in module `Main.MagnetostaticsFEM`\n",
      "└ @ Base.Docs docs\\Docs.jl:243\n",
      "┌ Warning: Replacing docs for `Main.MagnetostaticsFEM.magnetostatics_weak_form :: Tuple{Gridap.Geometry.Triangulation, Gridap.CellData.Measure, AbstractArray, Any, Any}` in module `Main.MagnetostaticsFEM`\n",
      "└ @ Base.Docs docs\\Docs.jl:243\n",
      "┌ Warning: Replacing docs for `Main.MagnetostaticsFEM.magnetodynamics_harmonic_weak_form :: Tuple{Gridap.Geometry.Triangulation, Gridap.CellData.Measure, AbstractArray, Any, Any, Any, Float64}` in module `Main.MagnetostaticsFEM`\n",
      "└ @ Base.Docs docs\\Docs.jl:243\n",
      "┌ Warning: Replacing docs for `Main.MagnetostaticsFEM.magnetodynamics_harmonic_coupled_weak_form :: Tuple{Gridap.Geometry.Triangulation, Gridap.CellData.Measure, AbstractArray, Any, Any, Any, Float64}` in module `Main.MagnetostaticsFEM`\n",
      "└ @ Base.Docs docs\\Docs.jl:243\n",
      "┌ Warning: Replacing docs for `Main.MagnetostaticsFEM.define_reluctivity :: Tuple{Dict{String, Int64}, Float64, Float64}` in module `Main.MagnetostaticsFEM`\n",
      "└ @ Base.Docs docs\\Docs.jl:243\n",
      "┌ Warning: Replacing docs for `Main.MagnetostaticsFEM.define_nonlinear_reluctivity :: Tuple{Dict{String, Int64}, Vararg{Float64, 4}}` in module `Main.MagnetostaticsFEM`\n",
      "└ @ Base.Docs docs\\Docs.jl:243\n",
      "┌ Warning: Replacing docs for `Main.MagnetostaticsFEM.update_reluctivity_from_field :: Tuple{Any, Any, Any}` in module `Main.MagnetostaticsFEM`\n",
      "└ @ Base.Docs docs\\Docs.jl:243\n",
      "┌ Warning: Replacing docs for `Main.MagnetostaticsFEM.define_current_density :: Tuple{Dict{String, Int64}, Float64}` in module `Main.MagnetostaticsFEM`\n",
      "└ @ Base.Docs docs\\Docs.jl:243\n",
      "┌ Warning: Replacing docs for `Main.MagnetostaticsFEM.define_conductivity :: Tuple{Dict{String, Int64}, Float64}` in module `Main.MagnetostaticsFEM`\n",
      "└ @ Base.Docs docs\\Docs.jl:243\n"
     ]
    }
   ],
   "source": [
    "include(joinpath(dirname(@__DIR__), \"config.jl\"))\n",
    "paths = get_project_paths(\"examples\")\n",
    "\n",
    "# Ensure the module is reloaded if changed\n",
    "if isdefined(Main, :MagnetostaticsFEM)\n",
    "    println(\"Reloading MagnetostaticsFEM...\")\n",
    "    # A simple way to force reload in interactive sessions\n",
    "    try; delete!(LOAD_PATH, joinpath(paths[\"SRC_DIR\"], \"src\")); catch; end\n",
    "    try; delete!(Base.loaded_modules, Base.PkgId(Base.UUID(\"f8a2b3c4-d5e6-f7a8-b9c0-d1e2f3a4b5c6\"), \"MagnetostaticsFEM\")); catch; end\n",
    "end\n",
    "include(joinpath(paths[\"SRC_DIR\"], \"MagnetostaticsFEM.jl\"))\n",
    "\n",
    "using LinearAlgebra\n",
    "using Plots\n",
    "using LaTeXStrings\n",
    "using Gridap\n",
    "using .MagnetostaticsFEM\n",
    "using Printf # For animation title formatting"
   ]
  },
  {
   "cell_type": "markdown",
   "id": "9c2815b1",
   "metadata": {},
   "source": [
    "## Define Parameters and Paths"
   ]
  },
  {
   "cell_type": "code",
   "execution_count": 3,
   "id": "3185b3ae",
   "metadata": {},
   "outputs": [
    {
     "name": "stdout",
     "output_type": "stream",
     "text": [
      "Mesh file: c:\\Users\\Martin\\FutureDistributionSystemsAM\\examples\\geo\\coil_geo.msh\n",
      "Output directory: c:\\Users\\Martin\\FutureDistributionSystemsAM\\examples\\output\n"
     ]
    }
   ],
   "source": [
    "# Model Parameters\n",
    "J0 = 2.2e4       # Source current density [A/m²] (Assumed Real)\n",
    "μ0 = 4e-7 * pi  # Vacuum permeability [H/m]\n",
    "μr_core = 50000.0 # Relative permeability of the core\n",
    "σ_core = 1e7    # Conductivity of the core [S/m]\n",
    "σ_coil = 6e7\n",
    "freq = 50e6    # Frequency [Hz]\n",
    "ω = 2 * pi * freq # Angular frequency [rad/s]\n",
    "\n",
    "# FEM Parameters\n",
    "order = 2\n",
    "field_type = ComplexF64 # Still use ComplexF64 marker for setup_fe_spaces\n",
    "dirichlet_tag = \"D\"\n",
    "dirichlet_value = 0.0 + 0.0im # Dirichlet BC for A = u + iv\n",
    "\n",
    "# Paths\n",
    "mesh_file = joinpath(paths[\"GEO_DIR\"], \"coil_geo.msh\")\n",
    "output_file_base = joinpath(paths[\"OUTPUT_DIR\"], \"magnetodynamics_harmonic_coupled\")\n",
    "\n",
    "println(\"Mesh file: \", mesh_file)\n",
    "println(\"Output directory: \", paths[\"OUTPUT_DIR\"])"
   ]
  },
  {
   "cell_type": "markdown",
   "id": "7236d4d2",
   "metadata": {},
   "source": [
    "## Setup FEM Problem"
   ]
  },
  {
   "cell_type": "code",
   "execution_count": 4,
   "id": "c190d27e",
   "metadata": {},
   "outputs": [
    {
     "name": "stdout",
     "output_type": "stream",
     "text": [
      "Info    : Reading 'c:\\Users\\Martin\\FutureDistributionSystemsAM\\examples\\geo\\coil_geo.msh'...\n",
      "Info    : 15 entities\n",
      "Info    : 114 nodes\n",
      "Info    : 115 elements\n",
      "Info    : Done reading 'c:\\Users\\Martin\\FutureDistributionSystemsAM\\examples\\geo\\coil_geo.msh'\n",
      "Setting up multi-field spaces (Real, Imag) for Complex problem.\n"
     ]
    },
    {
     "data": {
      "text/plain": [
       "WeakFormProblem(Main.MagnetostaticsFEM.var\"#a#39\"{Gridap.CellData.GenericMeasure, Float64, Gridap.CellData.OperationCellField{ReferenceDomain}, Gridap.CellData.OperationCellField{ReferenceDomain}}(GenericMeasure(), 3.141592653589793e8, OperationCellField(), OperationCellField()), Main.MagnetostaticsFEM.var\"#b#40\"{Gridap.CellData.GenericMeasure, Gridap.CellData.OperationCellField{ReferenceDomain}}(GenericMeasure(), OperationCellField()))"
      ]
     },
     "metadata": {},
     "output_type": "display_data"
    }
   ],
   "source": [
    "# Load mesh and tags\n",
    "model, labels, tags = load_mesh_and_tags(mesh_file)\n",
    "\n",
    "# Get material tags dictionary\n",
    "material_tags = get_material_tags(labels)\n",
    "\n",
    "# Set up triangulation and measures\n",
    "Ω = Triangulation(model)\n",
    "dΩ = Measure(Ω, 2*order)\n",
    "\n",
    "# Define material property functions\n",
    "reluctivity_func = define_reluctivity(material_tags, μ0, μr_core)\n",
    "conductivity_func = define_conductivity(material_tags, σ_core)\n",
    "source_current_func = define_current_density(material_tags, J0) # Real source\n",
    "\n",
    "# Setup FE spaces (multi-field: Real, Imag parts)\n",
    "U, V = setup_fe_spaces(model, order, field_type, dirichlet_tag, dirichlet_value)\n",
    "\n",
    "# Define the weak form problem for the coupled system\n",
    "problem = magnetodynamics_harmonic_coupled_weak_form(Ω, dΩ, tags, reluctivity_func, conductivity_func, source_current_func, ω)"
   ]
  },
  {
   "cell_type": "markdown",
   "id": "e74379bd",
   "metadata": {},
   "source": [
    "## Solve FEM Problem"
   ]
  },
  {
   "cell_type": "code",
   "execution_count": 5,
   "id": "55d4d4f8",
   "metadata": {},
   "outputs": [
    {
     "name": "stdout",
     "output_type": "stream",
     "text": [
      "u = SingleFieldFEFunction()\n"
     ]
    }
   ],
   "source": [
    "# Solve the real coupled linear FE system\n",
    "uv = solve_fem_problem(problem, U, V) # uv is a MultiFieldFEFunction\n",
    "\n",
    "# Extract real and imaginary parts\n",
    "u = uv[1] # Real part of Az\n",
    "v = uv[2] # Imag part of Az\n",
    "println(\"u = \", u)"
   ]
  },
  {
   "cell_type": "code",
   "execution_count": 17,
   "id": "b41b0ba0",
   "metadata": {},
   "outputs": [
    {
     "ename": "MethodError",
     "evalue": "MethodError: no method matching length(::Gridap.Geometry.BodyFittedTriangulation{1, 1, Gridap.Geometry.UnstructuredDiscreteModel{1, 1, Float64, Gridap.Geometry.Oriented}, Gridap.Geometry.UnstructuredGrid{1, 1, Float64, Gridap.Geometry.Oriented, Nothing}, Gridap.Arrays.IdentityVector{Int64}})\n\nClosest candidates are:\n  length(!Matched::Combinatorics.CoolLexCombinations)\n   @ Combinatorics C:\\Users\\Martin\\.julia\\packages\\Combinatorics\\Udg6X\\src\\combinations.jl:137\n  length(!Matched::RegexMatch)\n   @ Base regex.jl:285\n  length(!Matched::TranscodingStreams.Buffer)\n   @ TranscodingStreams C:\\Users\\Martin\\.julia\\packages\\TranscodingStreams\\O3BYF\\src\\buffer.jl:43\n  ...\n",
     "output_type": "error",
     "traceback": [
      "MethodError: no method matching length(::Gridap.Geometry.BodyFittedTriangulation{1, 1, Gridap.Geometry.UnstructuredDiscreteModel{1, 1, Float64, Gridap.Geometry.Oriented}, Gridap.Geometry.UnstructuredGrid{1, 1, Float64, Gridap.Geometry.Oriented, Nothing}, Gridap.Arrays.IdentityVector{Int64}})\n",
      "\n",
      "Closest candidates are:\n",
      "  length(!Matched::Combinatorics.CoolLexCombinations)\n",
      "   @ Combinatorics C:\\Users\\Martin\\.julia\\packages\\Combinatorics\\Udg6X\\src\\combinations.jl:137\n",
      "  length(!Matched::RegexMatch)\n",
      "   @ Base regex.jl:285\n",
      "  length(!Matched::TranscodingStreams.Buffer)\n",
      "   @ TranscodingStreams C:\\Users\\Martin\\.julia\\packages\\TranscodingStreams\\O3BYF\\src\\buffer.jl:43\n",
      "  ...\n",
      "\n",
      "\n",
      "Stacktrace:\n",
      " [1] _similar_shape(itr::Gridap.Geometry.BodyFittedTriangulation{1, 1, Gridap.Geometry.UnstructuredDiscreteModel{1, 1, Float64, Gridap.Geometry.Oriented}, Gridap.Geometry.UnstructuredGrid{1, 1, Float64, Gridap.Geometry.Oriented, Nothing}, Gridap.Arrays.IdentityVector{Int64}}, ::Base.HasLength)\n",
      "   @ Base .\\array.jl:710\n",
      " [2] _collect(cont::UnitRange{Int64}, itr::Gridap.Geometry.BodyFittedTriangulation{1, 1, Gridap.Geometry.UnstructuredDiscreteModel{1, 1, Float64, Gridap.Geometry.Oriented}, Gridap.Geometry.UnstructuredGrid{1, 1, Float64, Gridap.Geometry.Oriented, Nothing}, Gridap.Arrays.IdentityVector{Int64}}, ::Base.HasEltype, isz::Base.HasLength)\n",
      "   @ Base .\\array.jl:765\n",
      " [3] collect(itr::Gridap.Geometry.BodyFittedTriangulation{1, 1, Gridap.Geometry.UnstructuredDiscreteModel{1, 1, Float64, Gridap.Geometry.Oriented}, Gridap.Geometry.UnstructuredGrid{1, 1, Float64, Gridap.Geometry.Oriented, Nothing}, Gridap.Arrays.IdentityVector{Int64}})\n",
      "   @ Base .\\array.jl:759\n",
      " [4] define_loss_density(material_tags::Dict{String, Int64}, J_eddy_re::Gridap.CellData.OperationCellField{ReferenceDomain}, J_eddy_im::Gridap.CellData.OperationCellField{ReferenceDomain}, σ_core::Float64, σ_coil::Float64, J0::Float64, tags::Vector{Int8}, Ω::Gridap.Geometry.BodyFittedTriangulation{1, 1, Gridap.Geometry.UnstructuredDiscreteModel{1, 1, Float64, Gridap.Geometry.Oriented}, Gridap.Geometry.UnstructuredGrid{1, 1, Float64, Gridap.Geometry.Oriented, Nothing}, Gridap.Arrays.IdentityVector{Int64}})\n",
      "   @ Main c:\\Users\\Martin\\FutureDistributionSystemsAM\\examples\\jl_notebook_cell_df34fa98e69747e1a8f8a730347b8e2f_X11sZmlsZQ==.jl:17\n",
      " [5] top-level scope\n",
      "   @ c:\\Users\\Martin\\FutureDistributionSystemsAM\\examples\\jl_notebook_cell_df34fa98e69747e1a8f8a730347b8e2f_X11sZmlsZQ==.jl:66"
     ]
    }
   ],
   "source": [
    "\"\"\"\n",
    "    define_loss_density(material_tags::Dict{String, Int}, J_eddy_re, J_eddy_im, σ_core; core_tag_name=\"Core\")\n",
    "\n",
    "Returns a function `loss_density(tag)` that maps a material tag to its eddy current loss density (W/m³).\n",
    "Loss density is calculated as ρJ²/2 where ρ = 1/σ and J is the RMS eddy current density.\n",
    "\"\"\"\n",
    "function define_loss_density(material_tags::Dict{String,Int},\n",
    "                             J_eddy_re, J_eddy_im,\n",
    "                             σ_core, σ_coil, J0,\n",
    "                             tags, Ω)\n",
    "  # Retrieve tag IDs from material_tags\n",
    "  core_tag  = get(material_tags, \"Core\", -1)\n",
    "  coil1_tag = get(material_tags, \"Coil1\", -1)\n",
    "  coil2_tag = get(material_tags, \"Coil2\", -1)\n",
    "  \n",
    "  # Collect cells from the triangulation by iterating directly over Ω\n",
    "  cells = collect(Ω)\n",
    "  n_cells = length(cells)\n",
    "  if n_cells != length(tags)\n",
    "    error(\"The number of cells in Ω does not match the length of tags.\")\n",
    "  end\n",
    "  \n",
    "  loss_values = Vector{Float64}(undef, n_cells)\n",
    "  for i in 1:n_cells\n",
    "    cell = cells[i]\n",
    "    # Get a representative cell point; use the first available point.\n",
    "    cp = first(Gridap.CellData.get_cell_points(cell))\n",
    "    if tags[i] == core_tag\n",
    "      ρ_core = 1 / σ_core\n",
    "      re_val = J_eddy_re(cp)\n",
    "      im_val = J_eddy_im(cp)\n",
    "      loss_values[i] = ρ_core * ((re_val^2 + im_val^2) / 2)\n",
    "    elseif tags[i] == coil1_tag || tags[i] == coil2_tag\n",
    "      ρ_coil = 1 / σ_coil\n",
    "      loss_values[i] = ρ_coil * (J0^2 / 2)\n",
    "    else\n",
    "      loss_values[i] = 0.0\n",
    "    end\n",
    "  end\n",
    "\n",
    "  # Create and return the CellField using the precomputed loss_values and triangulation Ω.\n",
    "  return CellField(loss_values, Ω)\n",
    "end\n",
    "\n",
    "\n",
    "Ω_loss = Triangulation(model)\n",
    "dΩ_loss = Measure(Ω_loss, 2*order)\n",
    "thermal_conductivity_coil = 400.0  # Thermal conductivity of the coil material [W/(m·K)]\n",
    "thermal_conductivity_core = 80.0  # Thermal conductivity of the core material [W/(m·K)]\n",
    "thermal_conductivity_air = 0.025  # Thermal conductivity of air [W/(m·K)]\n",
    "\n",
    "room_temperature = 293.0  # Room temperature in K\n",
    "dirichlet_value = room_temperature\n",
    "\n",
    "material_tags = get_material_tags(labels)\n",
    "conductivity_func = define_conductivity(material_tags, σ_core)\n",
    "conductivity_heat_func = define_heat_conductivity(material_tags, thermal_conductivity_coil, thermal_conductivity_core, thermal_conductivity_air)\n",
    "# Compute the eddy current losses from the magnetodynamic solution uv\n",
    "J_eddy_re, J_eddy_im = calculate_eddy_current(uv, conductivity_func, ω, Ω_loss, tags)\n",
    "\n",
    "# Define helper functions for magnitude squared\n",
    "\n",
    "# Correct the material_tags usage to avoid errors\n",
    "# Ensure the material_tags dictionary is correctly passed and used\n",
    "Ω_loss = Triangulation(model)\n",
    "loss_density_field = define_loss_density(\n",
    "    material_tags,\n",
    "    J_eddy_re,\n",
    "    J_eddy_im,\n",
    "    σ_core,\n",
    "    σ_coil,\n",
    "    J0,\n",
    "    tags,\n",
    "    Ω_loss\n",
    ")\n",
    "\n",
    "source_current_func = define_current_density(material_tags, J0)\n",
    "uv_heat = solve_heatdynamics(\n",
    "  model, \n",
    "  tags, \n",
    "  order, \n",
    "  dirichlet_tag, \n",
    "  dirichlet_value,\n",
    "  loss_density_field, \n",
    "  conductivity_heat_func\n",
    ")\n",
    "# Evaluate and visualize the heat distribution (temperature field)\n",
    "x_int_heat = collect(range(-0.1, 0.1, length=1000))\n",
    "coord_heat = [VectorValue(x) for x in x_int_heat]\n",
    "\n",
    "# Evaluate the temperature field at the interpolation points\n",
    "theta_vals = uv_heat(coord_heat) .- 293.0\n",
    "\n",
    "p_heat = plot(x_int_heat*1e2, theta_vals, xlabel=L\"x\\ \\mathrm{[cm]}\", ylabel=\"Temperature [K]\",\n",
    "    lw=2, color=:red, legend=false, title=\"Heat Distribution\")\n",
    "if !(@isdefined boundaries)\n",
    "    a_len = 100.3e-3; b_len = 73.15e-3; c_len = 27.5e-3\n",
    "    xa1 = -a_len/2; xb1 = -b_len/2; xc1 = -c_len/2\n",
    "    xc2 = c_len/2; xb2 = b_len/2; xa2 = a_len/2\n",
    "    boundaries = [xa1, xb1, xc1, xc2, xb2, xa2]\n",
    "end\n",
    "vline!(p_heat, boundaries * 1e2, color=:grey, linestyle=:dash, label=\"\")\n",
    "display(p_heat)\n",
    "savefig(p_heat, joinpath(paths[\"OUTPUT_DIR\"], \"heat_distribution.pdf\"))\n",
    "\n",
    "# Plot only between -5 and 0 cm\n",
    "mask = (x_int_heat .>= -0.05) .& (x_int_heat .<= 0.0)\n",
    "x_zoom = x_int_heat[mask]\n",
    "theta_zoom = theta_vals[mask]\n",
    "\n",
    "p_heat_zoom = plot(x_zoom*1e2, theta_zoom, xlabel=L\"x\\ \\mathrm{[cm]}\", ylabel=\"Temperature [K]\",\n",
    "    lw=2, color=:blue, legend=false, title=\"Heat Distribution (-5 to 0 cm)\")\n",
    "vline!(p_heat_zoom, boundaries * 1e2, color=:grey, linestyle=:dash, label=\"\")\n",
    "display(p_heat_zoom)\n",
    "savefig(p_heat_zoom, joinpath(paths[\"OUTPUT_DIR\"], \"heat_distribution_zoom_-5to0cm.pdf\"))"
   ]
  },
  {
   "cell_type": "markdown",
   "id": "bf1bfa11",
   "metadata": {},
   "source": [
    "## Post-processing"
   ]
  },
  {
   "cell_type": "code",
   "execution_count": 30,
   "id": "ba32953f",
   "metadata": {},
   "outputs": [
    {
     "name": "stderr",
     "output_type": "stream",
     "text": [
      "WARNING: both MagnetostaticsFEM and MagnetostaticsFEM export \"calculate_b_field\"; uses of it in module Main must be qualified\n"
     ]
    },
    {
     "ename": "UndefVarError",
     "evalue": "UndefVarError: `calculate_b_field` not defined",
     "output_type": "error",
     "traceback": [
      "UndefVarError: `calculate_b_field` not defined\n",
      "\n",
      "Stacktrace:\n",
      " [1] top-level scope\n",
      "   @ c:\\Users\\Martin\\FutureDistributionSystemsAM\\examples\\jl_notebook_cell_df34fa98e69747e1a8f8a730347b8e2f_X13sZmlsZQ==.jl:2"
     ]
    }
   ],
   "source": [
    "# Compute B-field (Real and Imag parts)\n",
    "B_re, B_im = calculate_b_field(uv)\n",
    "\n",
    "# Compute Eddy Currents (Real and Imag parts)\n",
    "J_eddy_re, J_eddy_im = calculate_eddy_current(uv, conductivity_func, ω, Ω, tags)\n",
    "\n",
    "# Define helper functions for magnitude squared\n",
    "mag_sq_scalar(re, im) = re*re + im*im\n",
    "mag_sq_vector(re, im) = inner(re, re) + inner(im, im)\n",
    "\n",
    "# Calculate Magnitudes for saving/plotting using composition\n",
    "Az_mag = sqrt ∘ (mag_sq_scalar ∘ (u, v))\n",
    "B_mag = sqrt ∘ (mag_sq_vector ∘ (B_re, B_im))\n",
    "Jeddy_mag = sqrt ∘ (mag_sq_scalar ∘ (J_eddy_re, J_eddy_im))\n",
    "\n",
    "# Save results to VTK format\n",
    "save_results_vtk(Ω, output_file_base, \n",
    "    Dict(\n",
    "        \"Az_re\" => u, \"Az_im\" => v, \"Az_mag\" => Az_mag,\n",
    "        \"B_re\" => B_re, \"B_im\" => B_im, \"B_mag\" => B_mag,\n",
    "        \"Jeddy_re\" => J_eddy_re, \"Jeddy_im\" => J_eddy_im, \"Jeddy_mag\" => Jeddy_mag\n",
    "    ))"
   ]
  },
  {
   "cell_type": "markdown",
   "id": "2bab8aeb",
   "metadata": {},
   "source": [
    "## Visualization (Magnitudes)"
   ]
  },
  {
   "cell_type": "code",
   "execution_count": null,
   "id": "0b2631ef",
   "metadata": {},
   "outputs": [],
   "source": [
    "# Define geometry boundaries for plotting\n",
    "a_len = 100.3e-3; b_len = 73.15e-3; c_len = 27.5e-3\n",
    "xa1 = -a_len/2; xb1 = -b_len/2; xc1 = -c_len/2\n",
    "xc2 = c_len/2; xb2 = b_len/2; xa2 = a_len/2\n",
    "boundaries = [xa1, xb1, xc1, xc2, xb2, xa2]"
   ]
  },
  {
   "cell_type": "code",
   "execution_count": null,
   "id": "8e8ef136",
   "metadata": {},
   "outputs": [],
   "source": [
    "# Define points for visualization\n",
    "x_int = collect(range(-0.1, 0.1, length=1000))\n",
    "coord = [VectorValue(x_) for x_ in x_int]\n",
    "\n",
    "# Evaluate magnitudes at interpolation points\n",
    "Az_mag_vals = Az_mag(coord)\n",
    "B_mag_vals = B_mag(coord)\n",
    "Jeddy_mag_vals = Jeddy_mag(coord)\n",
    "\n",
    "# Calculate midpoints for region labels\n",
    "x_min_plot = minimum(x_int); x_max_plot = maximum(x_int)\n",
    "midpoints = [(x_min_plot + xa1)/2, (xa1 + xb1)/2, (xb1 + xc1)/2, (xc1 + xc2)/2, (xc2 + xb2)/2, (xb2 + xa2)/2, (xa2 + x_max_plot)/2]\n",
    "region_labels = [\"Air\", \"Core\", \"Coil L\", \"Core\", \"Coil R\", \"Core\", \"Air\"]\n",
    "\n",
    "# Plot Magnitudes\n",
    "p1 = plot(x_int * 1e2, Az_mag_vals * 1e5, xlabel=L\"x\\ \\mathrm{[cm]}\", ylabel=L\"|A_z(x)|\\ \\mathrm{[mWb/cm]}\", color=:black, lw=1, legend=false, title=L\"|A_z|\" *\" Magnitude\")\n",
    "p2 = plot(x_int * 1e2, B_mag_vals * 1e3, xlabel=L\"x\\ \\mathrm{[cm]}\", ylabel=L\"|B_y(x)|\\ \\mathrm{[mT]}\", color=:black, lw=1, legend=false, title=L\"|B_y|\" *\" Magnitude\")\n",
    "p3 = plot(x_int * 1e2, Jeddy_mag_vals * 1e-4, xlabel=L\"x\\ \\mathrm{[cm]}\", ylabel=L\"|J_{eddy}(x)|\\ \\mathrm{[A/cm^2]}\", color=:black, lw=1, legend=false, title=L\"|J_{eddy}|\" *\" Magnitude\")\n",
    "\n",
    "# Add annotations\n",
    "for p in [p1, p2, p3]\n",
    "    vline!(p, boundaries * 1e2, color=:grey, linestyle=:dash, label=\"\")\n",
    "    plot_ylims = Plots.ylims(p)\n",
    "    label_y = plot_ylims[1] - 0.08 * (plot_ylims[2] - plot_ylims[1])\n",
    "    annotate!(p, [(midpoints[i]*1e2, label_y, text(region_labels[i], 8, :center, :top)) for i in eachindex(midpoints)])\n",
    "end\n",
    "\n",
    "plt_mag = plot(p1, p2, p3, layout=(3,1), size=(800, 900))\n",
    "savefig(plt_mag, joinpath(paths[\"OUTPUT_DIR\"], \"magnetodynamics_harmonic_coupled_magnitudes.pdf\"))\n",
    "display(plt_mag)"
   ]
  },
  {
   "cell_type": "markdown",
   "id": "196d0cf0",
   "metadata": {},
   "source": [
    "## Visualization (Animation)"
   ]
  },
  {
   "cell_type": "code",
   "execution_count": null,
   "id": "bec397c5",
   "metadata": {},
   "outputs": [],
   "source": [
    "# Create animation over one period\n",
    "T_period = 1/freq\n",
    "t_vec = range(0, T_period, length=100)\n",
    "\n",
    "anim = @animate for t_step in t_vec\n",
    "    # Calculate instantaneous real value: Re( (u+iv) * exp(jωt) ) = u*cos(ωt) - v*sin(ωt)\n",
    "    cos_wt = cos(ω * t_step)\n",
    "    sin_wt = sin(ω * t_step)\n",
    "    \n",
    "    Az_inst = u * cos_wt - v * sin_wt\n",
    "    B_re_inst = B_re * cos_wt - B_im * sin_wt # Instantaneous B_re\n",
    "    # B_im_inst = B_re * sin_wt + B_im * cos_wt # Instantaneous B_im (not needed for By)\n",
    "    Jeddy_inst = J_eddy_re * cos_wt - J_eddy_im * sin_wt\n",
    "    \n",
    "    # Evaluate at interpolation points\n",
    "    Az_inst_vals = Az_inst(coord)\n",
    "    B_re_inst_vals = B_re_inst(coord)\n",
    "    By_inst_vals = [b[1] for b in B_re_inst_vals] # Extract y-component\n",
    "    Jeddy_inst_vals = Jeddy_inst(coord)\n",
    "    \n",
    "    # Get magnitude limits for consistent y-axis scaling\n",
    "    Az_max = maximum(Az_mag_vals)\n",
    "    By_max = maximum(B_mag_vals)\n",
    "    Jeddy_max = maximum(Jeddy_mag_vals)\n",
    "\n",
    "    # Plot instantaneous real parts at time t\n",
    "    p1_t = plot(x_int * 1e2, Az_inst_vals * 1e5, xlabel=L\"x\\ \\mathrm{[cm]}\", ylabel=L\"A_z(x,t)\\ \\mathrm{[mWb/cm]}\", color=:blue, lw=1, legend=false, title=@sprintf(\"Time-Harmonic (t = %.2e s)\", t_step), ylims=(-Az_max*1.1e5, Az_max*1.1e5))\n",
    "    p2_t = plot(x_int * 1e2, By_inst_vals * 1e3, xlabel=L\"x\\ \\mathrm{[cm]}\", ylabel=L\"B_y(x,t)\\ \\mathrm{[mT]}\", color=:blue, lw=1, legend=false, ylims=(-By_max*1.1e3, By_max*1.1e3))\n",
    "    p3_t = plot(x_int * 1e2, Jeddy_inst_vals * 1e-4, xlabel=L\"x\\ \\mathrm{[cm]}\", ylabel=L\"J_{eddy}(x,t)\\ \\mathrm{[A/cm^2]}\", color=:red, lw=1, legend=false, ylims=(-Jeddy_max*1.1e-4, Jeddy_max*1.1e-4))\n",
    "\n",
    "    # Add annotations\n",
    "    for p in [p1_t, p2_t, p3_t]\n",
    "        vline!(p, boundaries * 1e2, color=:grey, linestyle=:dash, label=\"\")\n",
    "        plot_ylims = Plots.ylims(p)\n",
    "        label_y = plot_ylims[1] - 0.08 * (plot_ylims[2] - plot_ylims[1])\n",
    "        annotate!(p, [(midpoints[i]*1e2, label_y, text(region_labels[i], 8, :center, :top)) for i in eachindex(midpoints)])\n",
    "    end\n",
    "    \n",
    "    plot(p1_t, p2_t, p3_t, layout=(3,1), size=(800, 900))\n",
    "end\n",
    "\n",
    "gif(anim, joinpath(paths[\"OUTPUT_DIR\"], @sprintf(\"magnetodynamics_harmonic_coupled_animation(f=%.2e).gif\", freq)), fps = 15)"
   ]
  },
  {
   "cell_type": "code",
   "execution_count": null,
   "id": "62f12e9b",
   "metadata": {},
   "outputs": [],
   "source": []
  }
 ],
 "metadata": {
  "kernelspec": {
   "display_name": "Julia 1.10.9",
   "language": "julia",
   "name": "julia-1.10"
  },
  "language_info": {
   "file_extension": ".jl",
   "mimetype": "application/julia",
   "name": "julia",
   "version": "1.10.9"
  }
 },
 "nbformat": 4,
 "nbformat_minor": 5
}
