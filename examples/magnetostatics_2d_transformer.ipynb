{
 "cells": [
  {
   "cell_type": "markdown",
   "id": "0e7f8cb8",
   "metadata": {},
   "source": [
    "# 2D Magnetodynamics (Time-Harmonic) - Distribution Transformer"
   ]
  },
  {
   "cell_type": "code",
   "execution_count": 1,
   "id": "aacdec98",
   "metadata": {},
   "outputs": [
    {
     "name": "stderr",
     "output_type": "stream",
     "text": [
      "\u001b[33m\u001b[1m┌ \u001b[22m\u001b[39m\u001b[33m\u001b[1mWarning: \u001b[22m\u001b[39mReplacing docs for `Main.MagnetostaticsFEM.WeakFormProblem :: Union{}` in module `Main.MagnetostaticsFEM`\n",
      "\u001b[33m\u001b[1m└ \u001b[22m\u001b[39m\u001b[90m@ Base.Docs docs/Docs.jl:243\u001b[39m\n",
      "\u001b[33m\u001b[1m┌ \u001b[22m\u001b[39m\u001b[33m\u001b[1mWarning: \u001b[22m\u001b[39mReplacing docs for `Main.MagnetostaticsFEM.magnetostatics_1d_weak_form :: Tuple{Gridap.Geometry.Triangulation, Gridap.CellData.Measure, AbstractArray, Any, Any}` in module `Main.MagnetostaticsFEM`\n",
      "\u001b[33m\u001b[1m└ \u001b[22m\u001b[39m\u001b[90m@ Base.Docs docs/Docs.jl:243\u001b[39m\n",
      "\u001b[33m\u001b[1m┌ \u001b[22m\u001b[39m\u001b[33m\u001b[1mWarning: \u001b[22m\u001b[39mReplacing docs for `Main.MagnetostaticsFEM.magnetodynamics_1d_harmonic_weak_form :: Tuple{Gridap.Geometry.Triangulation, Gridap.CellData.Measure, AbstractArray, Any, Any, Any, Float64}` in module `Main.MagnetostaticsFEM`\n",
      "\u001b[33m\u001b[1m└ \u001b[22m\u001b[39m\u001b[90m@ Base.Docs docs/Docs.jl:243\u001b[39m\n",
      "\u001b[33m\u001b[1m┌ \u001b[22m\u001b[39m\u001b[33m\u001b[1mWarning: \u001b[22m\u001b[39mReplacing docs for `Main.MagnetostaticsFEM.magnetodynamics_1d_harmonic_coupled_weak_form :: Tuple{Gridap.Geometry.Triangulation, Gridap.CellData.Measure, AbstractArray, Any, Any, Any, Float64}` in module `Main.MagnetostaticsFEM`\n",
      "\u001b[33m\u001b[1m└ \u001b[22m\u001b[39m\u001b[90m@ Base.Docs docs/Docs.jl:243\u001b[39m\n",
      "\u001b[33m\u001b[1m┌ \u001b[22m\u001b[39m\u001b[33m\u001b[1mWarning: \u001b[22m\u001b[39mReplacing docs for `Main.MagnetostaticsFEM.magnetodynamics_2d_harmonic_coupled_weak_form :: Tuple{Gridap.Geometry.Triangulation, Gridap.CellData.Measure, AbstractArray, Any, Any, Any, Float64}` in module `Main.MagnetostaticsFEM`\n",
      "\u001b[33m\u001b[1m└ \u001b[22m\u001b[39m\u001b[90m@ Base.Docs docs/Docs.jl:243\u001b[39m\n"
     ]
    }
   ],
   "source": [
    "include(joinpath(@__DIR__, \"config.jl\"))\n",
    "paths = get_project_paths(\"examples\")\n",
    "\n",
    "# Ensure the module is reloaded if changed\n",
    "if isdefined(Main, :MagnetostaticsFEM)\n",
    "    println(\"Reloading MagnetostaticsFEM...\")\n",
    "    # A simple way to force reload in interactive sessions\n",
    "    try; delete!(LOAD_PATH, joinpath(paths[\"SRC_DIR\"], \"src\")); catch; end\n",
    "    try; delete!(Base.loaded_modules, Base.PkgId(Base.UUID(\"f8a2b3c4-d5e6-f7a8-b9c0-d1e2f3a4b5c6\"), \"MagnetostaticsFEM\")); catch; end\n",
    "end\n",
    "include(joinpath(paths[\"SRC_DIR\"], \"MagnetostaticsFEM.jl\"))\n",
    "\n",
    "using LinearAlgebra\n",
    "using Plots\n",
    "using LaTeXStrings\n",
    "using Gridap\n",
    "using GridapGmsh: GmshDiscreteModel\n",
    "using .MagnetostaticsFEM\n",
    "using Printf # For animation title formatting"
   ]
  },
  {
   "cell_type": "markdown",
   "id": "f2b02a81",
   "metadata": {},
   "source": [
    "## Define Parameters and Paths"
   ]
  },
  {
   "cell_type": "code",
   "execution_count": null,
   "id": "b50034e9",
   "metadata": {},
   "outputs": [
    {
     "name": "stdout",
     "output_type": "stream",
     "text": [
      "Mesh file: /Users/ezracerpac/PycharmProjects/FutureDistributionSystemsAM/ta_example_2d_distribution_transformer/geo/transformer_stedin.msh\n",
      "Output directory: /Users/ezracerpac/PycharmProjects/FutureDistributionSystemsAM/examples/output\n"
     ]
    }
   ],
   "source": [
    "# Model Parameters\n",
    "μ0 = 4e-7 * pi  # Vacuum permeability [H/m]\n",
    "μr_core = 1000.0 # Relative permeability of the core (linear case)\n",
    "σ_core = 0.1    # Conductivity of the core [S/m] (Laminated)\n",
    "freq = 50.0     # Frequency [Hz]\n",
    "ω = 2 * pi * freq # Angular frequency [rad/s]\n",
    "\n",
    "# Source Parameters (Secondary Current Driven, Primary Open)\n",
    "Ip = 0.0       # Primary peak phase current [A]\n",
    "Is = 777.62    # Secondary peak phase current [A]\n",
    "Np = 266       # Number of primary turns\n",
    "Ns = 6         # Number of secondary turns\n",
    "\n",
    "# Winding Areas (Approximate - needed for current density)\n",
    "# These values seem missing in the original notebook, using placeholders.\n",
    "# Need to calculate these from the geometry definition if possible, or use values from source.\n",
    "Awhv_approx = 6000e-6 # Approximate area HV winding region [m^2]\n",
    "Awlv_approx = 3000e-6 # Approximate area LV winding region [m^2]\n",
    "\n",
    "Jp = Np * Ip / Awhv_approx # Peak current density primary [A/m^2]\n",
    "Js = Ns * Is / Awlv_approx # Peak current density secondary [A/m^2]\n",
    "\n",
    "# FEM Parameters\n",
    "order = 1 # Linear elements match original notebook\n",
    "field_type = ComplexF64 # Use ComplexF64 marker for setup_fe_spaces\n",
    "dirichlet_tag_name = \"boundary\" # Name of the physical group for Dirichlet BC\n",
    "dirichlet_value = 0.0 + 0.0im # Dirichlet BC for Az = u + iv\n",
    "\n",
    "# Paths\n",
    "mesh_file = joinpath(paths[\"GEO_DIR\"], \"transformer_stedin.msh\")\n",
    "output_file_base = joinpath(paths[\"OUTPUT_DIR\"], \"transformer_linear_dynamics\")\n",
    "\n",
    "println(\"Mesh file: \", mesh_file)\n",
    "println(\"Output directory: \", paths[\"OUTPUT_DIR\"])"
   ]
  },
  {
   "cell_type": "markdown",
   "id": "8a466f08",
   "metadata": {},
   "source": [
    "## Setup FEM Problem (Linear Magnetodynamics)"
   ]
  },
  {
   "cell_type": "code",
   "execution_count": 3,
   "id": "65241f4c",
   "metadata": {},
   "outputs": [
    {
     "name": "stdout",
     "output_type": "stream",
     "text": [
      "Info    : Reading '/Users/ezracerpac/PycharmProjects/FutureDistributionSystemsAM/ta_example_2d_distribution_transformer/geo/transformer_stedin.msh'...\n",
      "Info    : 168 entities\n",
      "Info    : 10393 nodes\n",
      "Info    : 20784 elements\n",
      "Info    : Done reading '/Users/ezracerpac/PycharmProjects/FutureDistributionSystemsAM/ta_example_2d_distribution_transformer/geo/transformer_stedin.msh'\n"
     ]
    },
    {
     "ename": "LoadError",
     "evalue": "Unknown tag name Air",
     "output_type": "error",
     "traceback": [
      "Unknown tag name Air",
      "",
      "Stacktrace:",
      " [1] error(s::String)",
      "   @ Base ./error.jl:35",
      " [2] macro expansion",
      "   @ ~/.julia/packages/Gridap/dKMpW/src/Helpers/Macros.jl:47 [inlined]",
      " [3] get_tag_from_name",
      "   @ ~/.julia/packages/Gridap/dKMpW/src/Geometry/FaceLabelings.jl:190 [inlined]",
      " [4] get_material_tags(labels::Gridap.Geometry.FaceLabeling)",
      "   @ Main.MagnetostaticsFEM ~/PycharmProjects/FutureDistributionSystemsAM/src/mesh_handling.jl:25",
      " [5] top-level scope",
      "   @ In[3]:5"
     ]
    }
   ],
   "source": [
    "# Load mesh and tags\n",
    "model, labels, tags = load_mesh_and_tags(mesh_file)\n",
    "\n",
    "# Get material tags dictionary\n",
    "material_tags = get_material_tags(labels)\n",
    "println(\"Material Tags: \", material_tags)\n",
    "\n",
    "# Set up triangulation and measures\n",
    "Ω = Triangulation(model)\n",
    "dΩ = Measure(Ω, 2*order)\n",
    "\n",
    "# Define material property functions\n",
    "reluctivity_func = define_reluctivity(material_tags, μ0, μr_core; core_tag_name=\"Core\")\n",
    "conductivity_func = define_conductivity(material_tags, σ_core; core_tag_name=\"Core\")\n",
    "\n",
    "# Define source current density function (complex phasors)\n",
    "# Jz = Jp*phase_p*(winding_p_neg - winding_p_pos) + Js*phase_s*(winding_s_pos - winding_s_neg)\n",
    "function source_current_density_2d(tags_dict, Jp, Js)\n",
    "    tag_hv1_l = tags_dict[\"HV winding phase 1 left\"]\n",
    "    tag_hv1_r = tags_dict[\"HV winding phase 1 right\"]\n",
    "    tag_hv2_l = tags_dict[\"HV winding phase 2 left\"]\n",
    "    tag_hv2_r = tags_dict[\"HV winding phase 2 right\"]\n",
    "    tag_hv3_l = tags_dict[\"HV winding phase 3 left\"]\n",
    "    tag_hv3_r = tags_dict[\"HV winding phase 3 right\"]\n",
    "    tag_lv1_l = tags_dict[\"LV winding phase 1 left\"]\n",
    "    tag_lv1_r = tags_dict[\"LV winding phase 1 right\"]\n",
    "    tag_lv2_l = tags_dict[\"LV winding phase 2 left\"]\n",
    "    tag_lv2_r = tags_dict[\"LV winding phase 2 right\"]\n",
    "    tag_lv3_l = tags_dict[\"LV winding phase 3 left\"]\n",
    "    tag_lv3_r = tags_dict[\"LV winding phase 3 right\"]\n",
    "    \n",
    "    phase1 = exp(1im * 2pi/3)\n",
    "    phase2 = 1.0 + 0.0im\n",
    "    phase3 = exp(-1im * 2pi/3)\n",
    "    \n",
    "    function Jz(tag)\n",
    "        current = 0.0 + 0.0im\n",
    "        # Primary (HV)\n",
    "        if tag == tag_hv1_l; current -= Jp * phase1; end\n",
    "        if tag == tag_hv1_r; current += Jp * phase1; end\n",
    "        if tag == tag_hv2_l; current -= Jp * phase2; end\n",
    "        if tag == tag_hv2_r; current += Jp * phase2; end\n",
    "        if tag == tag_hv3_l; current -= Jp * phase3; end\n",
    "        if tag == tag_hv3_r; current += Jp * phase3; end\n",
    "        # Secondary (LV)\n",
    "        if tag == tag_lv1_l; current += Js * phase1; end\n",
    "        if tag == tag_lv1_r; current -= Js * phase1; end\n",
    "        if tag == tag_lv2_l; current += Js * phase2; end\n",
    "        if tag == tag_lv2_r; current -= Js * phase2; end\n",
    "        if tag == tag_lv3_l; current += Js * phase3; end\n",
    "        if tag == tag_lv3_r; current -= Js * phase3; end\n",
    "        return current\n",
    "    end\n",
    "    return Jz\n",
    "end\n",
    "\n",
    "# Note: The original notebook assumes J0 is real and uses the coupled formulation.\n",
    "# Here, we define J0 potentially complex, but the coupled formulation expects real J0.\n",
    "# We need to adjust the formulation or the source definition.\n",
    "# Let's assume J0 is real for now, matching the 1D example's coupled form.\n",
    "# We'll use the magnitude of Js for phase 2 as the reference J0.\n",
    "J0_real_ref = Js # Use magnitude of secondary current density as reference\n",
    "source_current_func_real = define_current_density(material_tags, J0_real_ref; \n",
    "                                            coil_tags_pos=[\"LV winding phase 2 left\"], \n",
    "                                            coil_tags_neg=[\"LV winding phase 2 right\"])\n",
    "# TODO: This is a simplification. A full complex source requires a complex weak form or modification of the coupled form.\n",
    "\n",
    "# Setup FE spaces (multi-field: Real, Imag parts)\n",
    "dirichlet_tag_id = get_tag_from_name(labels, dirichlet_tag_name)\n",
    "U, V = setup_fe_spaces(model, order, field_type, [dirichlet_tag_id], dirichlet_value)\n",
    "\n",
    "# Define the weak form problem for the coupled system\n",
    "problem = magnetodynamics_2d_harmonic_coupled_weak_form(Ω, dΩ, tags, reluctivity_func, conductivity_func, source_current_func_real, ω)"
   ]
  },
  {
   "cell_type": "markdown",
   "id": "ca3b899d",
   "metadata": {},
   "source": [
    "## Solve FEM Problem"
   ]
  },
  {
   "cell_type": "code",
   "execution_count": null,
   "id": "7a56bbeb",
   "metadata": {},
   "outputs": [],
   "source": [
    "# Solve the real coupled linear FE system\n",
    "uv = solve_fem_problem(problem, U, V) # uv is a MultiFieldFEFunction\n",
    "\n",
    "# Extract real and imaginary parts\n",
    "u = uv[1] # Real part of Az\n",
    "v = uv[2] # Imag part of Az"
   ]
  },
  {
   "cell_type": "markdown",
   "id": "dfeaad0b",
   "metadata": {},
   "source": [
    "## Post-processing"
   ]
  },
  {
   "cell_type": "code",
   "execution_count": null,
   "id": "81183cce",
   "metadata": {},
   "outputs": [],
   "source": [
    "# Compute B-field (Real and Imag parts)\n",
    "B_re, B_im = calculate_b_field(uv)\n",
    "\n",
    "# Compute Eddy Currents (Real and Imag parts)\n",
    "J_eddy_re, J_eddy_im = calculate_eddy_current(uv, conductivity_func, ω, Ω, tags)\n",
    "\n",
    "# Define helper functions for magnitude squared\n",
    "mag_sq_scalar(re, im) = re*re + im*im\n",
    "mag_sq_vector(re, im) = inner(re, re) + inner(im, im)\n",
    "\n",
    "# Calculate Magnitudes for saving/plotting using composition\n",
    "Az_mag = sqrt ∘ (mag_sq_scalar ∘ (u, v))\n",
    "B_mag = sqrt ∘ (mag_sq_vector ∘ (B_re, B_im))\n",
    "Jeddy_mag = sqrt ∘ (mag_sq_scalar ∘ (J_eddy_re, J_eddy_im))\n",
    "\n",
    "# Calculate total current density magnitude (approximation)\n",
    "# J_total_re = source_current_func_real(tags) + J_eddy_re # Need CellField source\n",
    "# J_total_im = J_eddy_im\n",
    "# J_total_mag = sqrt ∘ (mag_sq_scalar ∘ (J_total_re, J_total_im))\n",
    "# TODO: Need a better way to handle source current in post-processing\n",
    "\n",
    "# Save results to VTK format\n",
    "save_results_vtk(Ω, output_file_base, \n",
    "    Dict(\n",
    "        \"Az_re\" => u, \"Az_im\" => v, \"Az_mag\" => Az_mag,\n",
    "        \"B_re\" => B_re, \"B_im\" => B_im, \"B_mag\" => B_mag,\n",
    "        \"Jeddy_re\" => J_eddy_re, \"Jeddy_im\" => J_eddy_im, \"Jeddy_mag\" => Jeddy_mag\n",
    "        # \"Jtotal_mag\" => J_total_mag\n",
    "    ))"
   ]
  },
  {
   "cell_type": "markdown",
   "id": "f4ab67bf",
   "metadata": {},
   "source": [
    "## Next Steps\n",
    "\n",
    "1.  **Refine Source Term:** Implement the full complex source current density, potentially requiring a modification to the weak form or using a direct complex formulation if `Gridap` supports it easily.\n",
    "2.  **Non-Linearity:** Extend `MagnetostaticsFEM.jl` to handle non-linear reluctivity (BH curve) using an iterative solver.\n",
    "3.  **Voltage-Driven Coils:** Extend `MagnetostaticsFEM.jl` to handle coupled circuit equations using `MultiFieldFESpace`."
   ]
  }
 ],
 "metadata": {
  "kernelspec": {
   "display_name": "Julia-FutureDistributionSystems 1.10.9",
   "language": "julia",
   "name": "julia-futuredistributionsystems-1.10"
  },
  "language_info": {
   "file_extension": ".jl",
   "mimetype": "application/julia",
   "name": "julia",
   "version": "1.10.9"
  }
 },
 "nbformat": 4,
 "nbformat_minor": 5
}
