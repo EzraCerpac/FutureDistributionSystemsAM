{
 "cells": [
  {
   "cell_type": "markdown",
   "id": "0e7f8cb8",
   "metadata": {},
   "source": [
    "# 2D Magnetodynamics (Time-Harmonic) - Distribution Transformer"
   ]
  },
  {
   "cell_type": "code",
   "execution_count": 1,
   "id": "aacdec98",
   "metadata": {},
   "outputs": [
    {
     "name": "stderr",
     "output_type": "stream",
     "text": [
      "\u001b[33m\u001b[1m┌ \u001b[22m\u001b[39m\u001b[33m\u001b[1mWarning: \u001b[22m\u001b[39mReplacing docs for `Main.MagnetostaticsFEM.WeakFormProblem :: Union{}` in module `Main.MagnetostaticsFEM`\n",
      "\u001b[33m\u001b[1m└ \u001b[22m\u001b[39m\u001b[90m@ Base.Docs docs/Docs.jl:243\u001b[39m\n",
      "\u001b[33m\u001b[1m┌ \u001b[22m\u001b[39m\u001b[33m\u001b[1mWarning: \u001b[22m\u001b[39mReplacing docs for `Main.MagnetostaticsFEM.magnetostatics_1d_weak_form :: Tuple{Gridap.Geometry.Triangulation, Gridap.CellData.Measure, AbstractArray, Any, Any}` in module `Main.MagnetostaticsFEM`\n",
      "\u001b[33m\u001b[1m└ \u001b[22m\u001b[39m\u001b[90m@ Base.Docs docs/Docs.jl:243\u001b[39m\n",
      "\u001b[33m\u001b[1m┌ \u001b[22m\u001b[39m\u001b[33m\u001b[1mWarning: \u001b[22m\u001b[39mReplacing docs for `Main.MagnetostaticsFEM.magnetodynamics_1d_harmonic_weak_form :: Tuple{Gridap.Geometry.Triangulation, Gridap.CellData.Measure, AbstractArray, Any, Any, Any, Float64}` in module `Main.MagnetostaticsFEM`\n",
      "\u001b[33m\u001b[1m└ \u001b[22m\u001b[39m\u001b[90m@ Base.Docs docs/Docs.jl:243\u001b[39m\n",
      "\u001b[33m\u001b[1m┌ \u001b[22m\u001b[39m\u001b[33m\u001b[1mWarning: \u001b[22m\u001b[39mReplacing docs for `Main.MagnetostaticsFEM.magnetodynamics_1d_harmonic_coupled_weak_form :: Tuple{Gridap.Geometry.Triangulation, Gridap.CellData.Measure, AbstractArray, Any, Any, Any, Float64}` in module `Main.MagnetostaticsFEM`\n",
      "\u001b[33m\u001b[1m└ \u001b[22m\u001b[39m\u001b[90m@ Base.Docs docs/Docs.jl:243\u001b[39m\n",
      "\u001b[33m\u001b[1m┌ \u001b[22m\u001b[39m\u001b[33m\u001b[1mWarning: \u001b[22m\u001b[39mReplacing docs for `Main.MagnetostaticsFEM.magnetodynamics_2d_harmonic_coupled_weak_form :: Tuple{Gridap.Geometry.Triangulation, Gridap.CellData.Measure, AbstractArray, Any, Any, Any, Float64}` in module `Main.MagnetostaticsFEM`\n",
      "\u001b[33m\u001b[1m└ \u001b[22m\u001b[39m\u001b[90m@ Base.Docs docs/Docs.jl:243\u001b[39m\n"
     ]
    }
   ],
   "source": [
    "include(joinpath(dirname(@__DIR__), \"config.jl\"))\n",
    "paths = get_project_paths(\"examples\")\n",
    "\n",
    "# Ensure the module is reloaded if changed\n",
    "if isdefined(Main, :MagnetostaticsFEM)\n",
    "    println(\"Reloading MagnetostaticsFEM...\")\n",
    "    # A simple way to force reload in interactive sessions\n",
    "    try; delete!(LOAD_PATH, paths[\"SRC_DIR\"]); catch; end\n",
    "    try; delete!(Base.loaded_modules, Base.PkgId(Base.UUID(\"f8a2b3c4-d5e6-f7a8-b9c0-d1e2f3a4b5c6\"), \"MagnetostaticsFEM\")); catch; end\n",
    "end\n",
    "include(joinpath(paths[\"SRC_DIR\"], \"MagnetostaticsFEM.jl\"))\n",
    "\n",
    "using LinearAlgebra\n",
    "using Plots\n",
    "using LaTeXStrings\n",
    "using Gmsh: gmsh\n",
    "using Gridap\n",
    "using GridapGmsh: GmshDiscreteModel\n",
    "using .MagnetostaticsFEM\n",
    "using Printf # For animation title formatting"
   ]
  },
  {
   "cell_type": "markdown",
   "id": "f2b02a81",
   "metadata": {},
   "source": [
    "## Define Parameters and Paths"
   ]
  },
  {
   "cell_type": "code",
   "execution_count": 2,
   "id": "b50034e9",
   "metadata": {},
   "outputs": [
    {
     "name": "stdout",
     "output_type": "stream",
     "text": [
      "Mesh file: /Users/ezracerpac/PycharmProjects/FutureDistributionSystemsAM/examples/geo/transformer_stedin.msh\n",
      "Output directory: /Users/ezracerpac/PycharmProjects/FutureDistributionSystemsAM/examples/output\n"
     ]
    }
   ],
   "source": [
    "# Model Parameters\n",
    "μ0 = 4e-7 * pi  # Vacuum permeability [H/m]\n",
    "μr_core = 1000.0 # Relative permeability of the core (linear case)\n",
    "σ_core = 0.1    # Conductivity of the core [S/m] (Laminated)\n",
    "freq = 50.0     # Frequency [Hz]\n",
    "ω = 2 * pi * freq # Angular frequency [rad/s]\n",
    "\n",
    "# Source Parameters (Secondary Current Driven, Primary Open)\n",
    "Ip = 0.0       # Primary peak phase current [A]\n",
    "Is = 777.62    # Secondary peak phase current [A]\n",
    "Np = 266       # Number of primary turns\n",
    "Ns = 6         # Number of secondary turns\n",
    "\n",
    "# Winding Areas (Approximate - needed for current density)\n",
    "# These values seem missing in the original notebook, using placeholders.\n",
    "# Need to calculate these from the geometry definition if possible, or use values from source.\n",
    "Awhv_approx = 6000e-6 # Approximate area HV winding region [m^2]\n",
    "Awlv_approx = 3000e-6 # Approximate area LV winding region [m^2]\n",
    "\n",
    "Jp = Np * Ip / Awhv_approx # Peak current density primary [A/m^2]\n",
    "Js = Ns * Is / Awlv_approx # Peak current density secondary [A/m^2]\n",
    "\n",
    "# FEM Parameters\n",
    "order = 1 # Linear elements match original notebook\n",
    "field_type = ComplexF64 # Use ComplexF64 marker for setup_fe_spaces\n",
    "dirichlet_tag_name = \"Enclosure\" # Name of the physical group for Dirichlet BC\n",
    "dirichlet_value = 0.0 + 0.0im # Dirichlet BC for Az = u + iv\n",
    "\n",
    "# Paths\n",
    "mesh_file = joinpath(paths[\"GEO_DIR\"], \"transformer_stedin.msh\")\n",
    "output_file_base = joinpath(paths[\"OUTPUT_DIR\"], \"transformer_linear_dynamics\")\n",
    "\n",
    "println(\"Mesh file: \", mesh_file)\n",
    "println(\"Output directory: \", paths[\"OUTPUT_DIR\"])"
   ]
  },
  {
   "cell_type": "markdown",
   "id": "8a466f08",
   "metadata": {},
   "source": [
    "## Setup FEM Problem (Linear Magnetodynamics)"
   ]
  },
  {
   "cell_type": "code",
   "execution_count": 5,
   "id": "65241f4c",
   "metadata": {},
   "outputs": [
    {
     "name": "stdout",
     "output_type": "stream",
     "text": [
      "Info    : Reading '/Users/ezracerpac/PycharmProjects/FutureDistributionSystemsAM/examples/geo/transformer_stedin.msh'...\n",
      "Info    : 168 entities\n",
      "Info    : 10393 nodes\n",
      "Info    : 20784 elements\n",
      "Info    : Done reading '/Users/ezracerpac/PycharmProjects/FutureDistributionSystemsAM/examples/geo/transformer_stedin.msh'\n",
      "Material Tags: Dict(\"Core\" => 3, \"HV1l\" => 4, \"HV2l\" => 6, \"HV3r\" => 9, \"LV3r\" => 15, \"LV windings\" => 17, \"LV3l\" => 14, \"Air\" => 2, \"HV3l\" => 8, \"HV1r\" => 5, \"LV1l\" => 10, \"HV windings\" => 16, \"Oil\" => 2, \"LV2r\" => 13, \"LV1r\" => 11, \"LV2l\" => 12, \"HV2r\" => 7)\n",
      "Setting up multi-field spaces (Real, Imag) for Complex problem.\n"
     ]
    },
    {
     "data": {
      "text/plain": [
       "WeakFormProblem(Main.MagnetostaticsFEM.var\"#a#45\"{Gridap.CellData.GenericMeasure, Float64, Gridap.CellData.OperationCellField{ReferenceDomain}, Gridap.CellData.OperationCellField{ReferenceDomain}}(GenericMeasure(), 314.1592653589793, OperationCellField(), OperationCellField()), Main.MagnetostaticsFEM.var\"#b#46\"{Gridap.CellData.GenericMeasure, Gridap.CellData.OperationCellField{ReferenceDomain}}(GenericMeasure(), OperationCellField()))"
      ]
     },
     "execution_count": 5,
     "metadata": {},
     "output_type": "execute_result"
    }
   ],
   "source": [
    "# Load mesh and tags\n",
    "model, labels, tags = load_mesh_and_tags(mesh_file)\n",
    "\n",
    "# Get material tags dictionary using the 2D specific function\n",
    "material_tags = get_material_tags_2d(labels)\n",
    "println(\"Material Tags: \", material_tags)\n",
    "\n",
    "# Set up triangulation and measures\n",
    "Ω = Triangulation(model)\n",
    "dΩ = Measure(Ω, 2*order)\n",
    "\n",
    "# Define material property functions\n",
    "# Use 'Oil' as the default low permeability region if 'Air' is not present\n",
    "air_tag_name = haskey(material_tags, \"Air\") ? \"Air\" : \"Oil\"\n",
    "reluctivity_func = define_reluctivity(material_tags, μ0, μr_core; core_tag_name=\"Core\", air_tag_name=air_tag_name)\n",
    "conductivity_func = define_conductivity(material_tags, σ_core; core_tag_name=\"Core\")\n",
    "\n",
    "# Define source current density function (complex phasors)\n",
    "function source_current_density_2d(tags_dict, Jp, Js)\n",
    "    # Use get with default to avoid errors if a tag is missing\n",
    "    tag_hv1_l = get(tags_dict, \"HV1l\", -1)\n",
    "    tag_hv1_r = get(tags_dict, \"HV1r\", -1)\n",
    "    tag_hv2_l = get(tags_dict, \"HV2l\", -1)\n",
    "    tag_hv2_r = get(tags_dict, \"HV2r\", -1)\n",
    "    tag_hv3_l = get(tags_dict, \"HV3l\", -1)\n",
    "    tag_hv3_r = get(tags_dict, \"HV3r\", -1)\n",
    "    tag_lv1_l = get(tags_dict, \"LV1l\", -1)\n",
    "    tag_lv1_r = get(tags_dict, \"LV1r\", -1)\n",
    "    tag_lv2_l = get(tags_dict, \"LV2l\", -1)\n",
    "    tag_lv2_r = get(tags_dict, \"LV2r\", -1)\n",
    "    tag_lv3_l = get(tags_dict, \"LV3l\", -1)\n",
    "    tag_lv3_r = get(tags_dict, \"LV3r\", -1)\n",
    "    \n",
    "    phase1 = exp(1im * 2pi/3)\n",
    "    phase2 = 1.0 + 0.0im\n",
    "    phase3 = exp(-1im * 2pi/3)\n",
    "    \n",
    "    function Jz(tag)\n",
    "        current = 0.0 + 0.0im\n",
    "        # Primary (HV)\n",
    "        if tag == tag_hv1_l; current -= Jp * phase1; end\n",
    "        if tag == tag_hv1_r; current += Jp * phase1; end\n",
    "        if tag == tag_hv2_l; current -= Jp * phase2; end\n",
    "        if tag == tag_hv2_r; current += Jp * phase2; end\n",
    "        if tag == tag_hv3_l; current -= Jp * phase3; end\n",
    "        if tag == tag_hv3_r; current += Jp * phase3; end\n",
    "        # Secondary (LV)\n",
    "        if tag == tag_lv1_l; current += Js * phase1; end\n",
    "        if tag == tag_lv1_r; current -= Js * phase1; end\n",
    "        if tag == tag_lv2_l; current += Js * phase2; end\n",
    "        if tag == tag_lv2_r; current -= Js * phase2; end\n",
    "        if tag == tag_lv3_l; current += Js * phase3; end\n",
    "        if tag == tag_lv3_r; current -= Js * phase3; end\n",
    "        return current\n",
    "    end\n",
    "    return Jz\n",
    "end\n",
    "\n",
    "# Define the actual complex source current density function\n",
    "source_current_complex_func = source_current_density_2d(material_tags, Jp, Js)\n",
    "\n",
    "# For the coupled real/imaginary weak form, we still need a *real* reference source.\n",
    "# Let's use the magnitude of the phase 2 secondary current density.\n",
    "J0_real_ref = Js # Use magnitude of secondary current density as reference\n",
    "# Define the positive/negative tags based on the actual mesh physical names\n",
    "source_current_func_real = define_current_density(material_tags, J0_real_ref; \n",
    "                                            coil_tags_pos=[\"LV2l\"], \n",
    "                                            coil_tags_neg=[\"LV2r\"])\n",
    "# TODO: The coupled weak form using a real source is an approximation.\n",
    "# A full complex source requires a complex weak form or modification of the coupled form.\n",
    "\n",
    "# Setup FE spaces (multi-field: Real, Imag parts)\n",
    "dirichlet_tag_id = get_tag_from_name(labels, dirichlet_tag_name)\n",
    "U, V = setup_fe_spaces(model, order, field_type, dirichlet_tag_name, dirichlet_value)\n",
    "\n",
    "# Define the weak form problem for the coupled system using the real reference source\n",
    "problem = magnetodynamics_1d_harmonic_coupled_weak_form(Ω, dΩ, tags, reluctivity_func, conductivity_func, source_current_func_real, ω)"
   ]
  },
  {
   "cell_type": "markdown",
   "id": "ca3b899d",
   "metadata": {},
   "source": [
    "## Solve FEM Problem"
   ]
  },
  {
   "cell_type": "code",
   "execution_count": 6,
   "id": "7a56bbeb",
   "metadata": {},
   "outputs": [
    {
     "data": {
      "text/plain": [
       "SingleFieldFEFunction():\n",
       " num_cells: 20560\n",
       " DomainStyle: ReferenceDomain()\n",
       " Triangulation: BodyFittedTriangulation()\n",
       " Triangulation id: 10068253004045308322"
      ]
     },
     "execution_count": 6,
     "metadata": {},
     "output_type": "execute_result"
    }
   ],
   "source": [
    "# Solve the real coupled linear FE system\n",
    "uv = solve_fem_problem(problem, U, V) # uv is a MultiFieldFEFunction\n",
    "\n",
    "# Extract real and imaginary parts\n",
    "u = uv[1] # Real part of Az\n",
    "v = uv[2] # Imag part of Az"
   ]
  },
  {
   "cell_type": "markdown",
   "id": "dfeaad0b",
   "metadata": {},
   "source": [
    "## Post-processing"
   ]
  },
  {
   "cell_type": "code",
   "execution_count": 7,
   "id": "81183cce",
   "metadata": {},
   "outputs": [
    {
     "name": "stdout",
     "output_type": "stream",
     "text": [
      "Results saved to /Users/ezracerpac/PycharmProjects/FutureDistributionSystemsAM/examples/output/transformer_linear_dynamics.vtu\n"
     ]
    }
   ],
   "source": [
    "# Compute B-field (Real and Imag parts)\n",
    "B_re, B_im = calculate_b_field(uv)\n",
    "\n",
    "# Compute Eddy Currents (Real and Imag parts)\n",
    "J_eddy_re, J_eddy_im = calculate_eddy_current(uv, conductivity_func, ω, Ω, tags)\n",
    "\n",
    "# Define helper functions for magnitude squared\n",
    "mag_sq_scalar(re, im) = re*re + im*im\n",
    "mag_sq_vector(re, im) = inner(re, re) + inner(im, im)\n",
    "\n",
    "# Calculate Magnitudes for saving/plotting using composition\n",
    "Az_mag = sqrt ∘ (mag_sq_scalar ∘ (u, v))\n",
    "B_mag = sqrt ∘ (mag_sq_vector ∘ (B_re, B_im))\n",
    "Jeddy_mag = sqrt ∘ (mag_sq_scalar ∘ (J_eddy_re, J_eddy_im))\n",
    "\n",
    "# Calculate total current density magnitude (approximation)\n",
    "# J_total_re = source_current_func_real(tags) + J_eddy_re # Need CellField source\n",
    "# J_total_im = J_eddy_im\n",
    "# J_total_mag = sqrt ∘ (mag_sq_scalar ∘ (J_total_re, J_total_im))\n",
    "# TODO: Need a better way to handle source current in post-processing\n",
    "\n",
    "# Save results to VTK format\n",
    "save_results_vtk(Ω, output_file_base, \n",
    "    Dict(\n",
    "        \"Az_re\" => u, \"Az_im\" => v, \"Az_mag\" => Az_mag,\n",
    "        \"B_re\" => B_re, \"B_im\" => B_im, \"B_mag\" => B_mag,\n",
    "        \"Jeddy_re\" => J_eddy_re, \"Jeddy_im\" => J_eddy_im, \"Jeddy_mag\" => Jeddy_mag\n",
    "        # \"Jtotal_mag\" => J_total_mag\n",
    "    ))"
   ]
  },
  {
   "cell_type": "markdown",
   "id": "f4ab67bf",
   "metadata": {},
   "source": [
    "## Next Steps\n",
    "\n",
    "1.  **Refine Source Term:** Implement the full complex source current density, potentially requiring a modification to the weak form or using a direct complex formulation if `Gridap` supports it easily.\n",
    "2.  **Non-Linearity:** Extend `MagnetostaticsFEM.jl` to handle non-linear reluctivity (BH curve) using an iterative solver.\n",
    "3.  **Voltage-Driven Coils:** Extend `MagnetostaticsFEM.jl` to handle coupled circuit equations using `MultiFieldFESpace`."
   ]
  }
 ],
 "metadata": {
  "kernelspec": {
   "display_name": "Julia-FutureDistributionSystems 1.10.9",
   "language": "julia",
   "name": "julia-futuredistributionsystems-1.10"
  },
  "language_info": {
   "file_extension": ".jl",
   "mimetype": "application/julia",
   "name": "julia",
   "version": "1.10.9"
  }
 },
 "nbformat": 4,
 "nbformat_minor": 5
}
