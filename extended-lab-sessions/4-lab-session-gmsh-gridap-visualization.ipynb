{
 "cells": [
  {
   "cell_type": "markdown",
   "metadata": {},
   "source": [
    "# EE4375-2022: Fourth Lab Session: Mesh Generation of Channel  "
   ]
  },
  {
   "cell_type": "markdown",
   "metadata": {},
   "source": [
    "Gives an examples on geometry definition and mesh generation using GMSH followed by PDE solve using Gridap.   "
   ]
  },
  {
   "cell_type": "markdown",
   "metadata": {},
   "source": [
    "## Import Packages"
   ]
  },
  {
   "cell_type": "code",
   "execution_count": 1,
   "metadata": {},
   "outputs": [
    {
     "name": "stderr",
     "output_type": "stream",
     "text": [
      "┌ Info: Precompiling Gmsh [705231aa-382f-11e9-3f0c-b7cb4346fdeb]\n",
      "└ @ Base loading.jl:1662\n"
     ]
    }
   ],
   "source": [
    "using Gmsh\n",
    "using GR \n",
    "using LinearAlgebra\n",
    "#using Plots\n",
    "using LaTeXStrings\n",
    "using SparseArrays\n",
    "#using GLMakie\n",
    "\n",
    "using Gridap\n",
    "using GridapGmsh\n",
    "using Gridap.Algebra;\n",
    "using Gridap.FESpaces\n",
    "using Gridap.ReferenceFEs\n",
    "using Gridap.Arrays\n",
    "using Gridap.Geometry\n",
    "using Gridap.Fields\n",
    "using Gridap.CellData\n",
    "\n",
    "using CairoMakie\n",
    "using GeometryBasics\n",
    "CairoMakie.activate!(type = \"svg\")\n",
    "\n",
    "using WriteVTK # post processing \n",
    "\n",
    "using BenchmarkTools "
   ]
  },
  {
   "cell_type": "markdown",
   "metadata": {},
   "source": [
    "## Section 1/: Geometry Definition and Mesh Generation for Rectangular Channel Geometry "
   ]
  },
  {
   "cell_type": "markdown",
   "metadata": {},
   "source": [
    "Mesh generation for rectangular geometry. \n",
    "\n",
    "<b>Exercise</b>: Extend to uniform meshes. See GMSH Transfinite Mesh generation for more uniform meshes at [GMSH Transfinite Mesh Tutorial](https://gmsh.info/doc/texinfo/gmsh.html#t6)."
   ]
  },
  {
   "cell_type": "code",
   "execution_count": 7,
   "metadata": {},
   "outputs": [
    {
     "name": "stdout",
     "output_type": "stream",
     "text": [
      "Info    : Meshing 1D...\n",
      "Info    : [  0%] Meshing curve 5 (Line)\n",
      "Info    : [ 30%] Meshing curve 6 (Line)\n",
      "Info    : [ 50%] Meshing curve 7 (Line)\n",
      "Info    : [ 80%] Meshing curve 8 (Line)\n",
      "Info    : Done meshing 1D (Wall 0.000584833s, CPU 0.000487s)\n",
      "Info    : Meshing 2D...\n",
      "Info    : Meshing surface 10 (Plane, Frontal-Delaunay)\n",
      "Info    : Done meshing 2D (Wall 0.97023s, CPU 0.966408s)\n",
      "Info    : 1475 nodes 2952 elements\n",
      "Info    : Writing 'channel.msh'...\n",
      "Info    : Done writing 'channel.msh'\n",
      "  number of nodes = 1475\n"
     ]
    },
    {
     "name": "stderr",
     "output_type": "stream",
     "text": [
      "Warning : Gmsh has aleady been initialized\n"
     ]
    }
   ],
   "source": [
    "gmsh.initialize()\n",
    "gmsh.option.setNumber(\"General.Terminal\", 1)\n",
    "# add name to the model \n",
    "gmsh.model.add(\"channel\")\n",
    "# set parameter that controls the density of the mesh on the four points of the geometry \n",
    "lc = 5e-2\n",
    "# add four points with zero z-coordinate and with labels 1 through 4 \n",
    "# point is formed by 3 coordinates \n",
    "gmsh.model.geo.addPoint(0, 0, 0, lc, 1)\n",
    "gmsh.model.geo.addPoint(3., 0,  0, lc, 2)\n",
    "gmsh.model.geo.addPoint(3., 1., 0, lc, 3)\n",
    "gmsh.model.geo.addPoint(0, 1., 0, lc, 4)\n",
    "# add four lines with labels 5 through 8 \n",
    "# line is formed by 2 points \n",
    "gmsh.model.geo.addLine(1, 2, 5)\n",
    "gmsh.model.geo.addLine(2, 3, 6)\n",
    "gmsh.model.geo.addLine(3, 4, 7)\n",
    "gmsh.model.geo.addLine(4, 1, 8)\n",
    "# add curve with label 9\n",
    "# curve is formed by 4 lines \n",
    "gmsh.model.geo.addCurveLoop([5, 6, 7, 8], 9)\n",
    "# add surface with label 10 \n",
    "# surface is formed by single curve \n",
    "gmsh.model.geo.addPlaneSurface([9], 10)\n",
    "gmsh.model.geo.addPhysicalGroup(2, [10], 11)  # Create 2d physical domain (tag = 11) from surface 10\n",
    "gmsh.model.setPhysicalName(2, 10, \"My surface\")\n",
    "tag_left = [8]; tag_right = [6]; \n",
    "\n",
    "#gmsh.model.geo.addPhysicalGroup(dim, tags, tag) # Physical group with tag ‘tag’ containing elements of dimension ‘dim’ and tags ‘tags’\n",
    "#gmsh.model.setPhysicalName(dim, tag, name)       # Sets the name of physical group ‘tag’ and dimension ‘dim’ to ‘name’\n",
    "gmsh.model.geo.addPhysicalGroup(1, tag_left, 11)\n",
    "gmsh.model.setPhysicalName(1, 11, \"bnd_left\") # Left boundary\n",
    "gmsh.model.geo.addPhysicalGroup(1, tag_right, 12)\n",
    "gmsh.model.setPhysicalName(1, 12, \"bnd_right\") # Right boundary\n",
    "\n",
    "gmsh.model.geo.synchronize()\n",
    "# generate the mesh \n",
    "#gmsh.model.mesh.algorithm = 8; # Delaunay for quads\n",
    "gmsh.model.mesh.generate(2)\n",
    "\n",
    "#..Extract the nodes from the mesh \n",
    "#..Observe that the coordinates are stored contiguously for computational\n",
    "#..efficiency\n",
    "node_ids, node_coord, _ = gmsh.model.mesh.getNodes()\n",
    "nnodes = length(node_ids)\n",
    "#..sort the node coordinates by ID, such that Node one sits at row 1\n",
    "tosort = [node_ids node_coord[1:3:end] node_coord[2:3:end]];\n",
    "sorted = sortslices(tosort , dims = 1);\n",
    "node_ids = sorted[:,1]\n",
    "xnode = sorted[:,2]\n",
    "ynode = sorted[:,3]\n",
    "xnode = node_coord[1:3:end]\n",
    "ynode = node_coord[2:3:end]\n",
    "\n",
    "gmsh.write(\"channel.msh\")\n",
    "gmsh.finalize()\n",
    "\n",
    "println(\"  number of nodes = \", nnodes)"
   ]
  },
  {
   "cell_type": "markdown",
   "metadata": {},
   "source": [
    "### Section 1.2:/ Transfinite Meshing\n",
    "plotting does not work for this type of meshes. "
   ]
  },
  {
   "cell_type": "code",
   "execution_count": 3,
   "metadata": {},
   "outputs": [
    {
     "name": "stdout",
     "output_type": "stream",
     "text": [
      "Info    : Meshing 1D...\n",
      "Info    : [  0%] Meshing curve 5 (Line)\n",
      "Info    : [ 30%] Meshing curve 6 (Line)\n",
      "Info    : [ 50%] Meshing curve 7 (Line)\n",
      "Info    : [ 80%] Meshing curve 8 (Line)\n",
      "Info    : Done meshing 1D (Wall 0.000110209s, CPU 0.000107s)\n",
      "Info    : Meshing 2D...\n",
      "Info    : Meshing surface 10 (Transfinite)\n",
      "Info    : Done meshing 2D (Wall 0.000429375s, CPU 8.8e-05s)\n",
      "Info    : 100 nodes 121 elements\n",
      "Info    : Writing 'channel.msh'...\n",
      "Info    : Done writing 'channel.msh'\n"
     ]
    }
   ],
   "source": [
    "gmsh.initialize()\n",
    "gmsh.option.setNumber(\"General.Terminal\", 1)\n",
    "# add name to the model \n",
    "gmsh.model.add(\"channel\")\n",
    "# set parameter that controls the density of the mesh on the four points of the geometry \n",
    "lc = 5e-2\n",
    "# add four points with zero z-coordinate and with labels 1 through 4 \n",
    "# point is formed by 3 coordinates \n",
    "gmsh.model.geo.addPoint(0, 0, 0, lc, 1)\n",
    "gmsh.model.geo.addPoint(3., 0,  0, lc, 2)\n",
    "gmsh.model.geo.addPoint(3., 1., 0, lc, 3)\n",
    "gmsh.model.geo.addPoint(0, 1., 0, lc, 4)\n",
    "# add four lines with labels 5 through 8 \n",
    "# line is formed by 2 points \n",
    "gmsh.model.geo.addLine(1, 2, 5)\n",
    "gmsh.model.geo.addLine(2, 3, 6)\n",
    "gmsh.model.geo.addLine(3, 4, 7)\n",
    "gmsh.model.geo.addLine(4, 1, 8)\n",
    "# add curve with label 9\n",
    "# curve is formed by 4 lines \n",
    "gmsh.model.geo.addCurveLoop([5, 6, 7, 8], 9)\n",
    "# add surface with label 10 \n",
    "# surface is formed by single curve \n",
    "gmsh.model.geo.addPlaneSurface([9], 10)\n",
    "gmsh.model.geo.addPhysicalGroup(2, [10], 11)  # Create 2d physical domain (tag = 11) from surface 10\n",
    "gmsh.model.setPhysicalName(2, 10, \"My surface\")\n",
    "\n",
    "gmsh.model.geo.mesh.setTransfiniteCurve(5, 10)\n",
    "gmsh.model.geo.mesh.setTransfiniteCurve(6, 10)\n",
    "gmsh.model.geo.mesh.setTransfiniteCurve(7, 10)\n",
    "gmsh.model.geo.mesh.setTransfiniteCurve(8, 10)\n",
    "\n",
    "gmsh.model.geo.mesh.setTransfiniteSurface(10, \"Left\")\n",
    "\n",
    "# To create quadrangles instead of triangles, one can use the `setRecombine'\n",
    "# constraint:\n",
    "gmsh.model.geo.mesh.setRecombine(2, 10)\n",
    "\n",
    "gmsh.model.geo.synchronize()\n",
    "# generate the mesh \n",
    "#gmsh.model.mesh.algorithm = 8; # Delaunay for quads\n",
    "\n",
    "# Finally we apply an elliptic smoother to the grid to have a more regular\n",
    "# mesh:\n",
    "gmsh.option.setNumber(\"Mesh.Smoothing\", 100)\n",
    "\n",
    "gmsh.model.mesh.generate(2)\n",
    "\n",
    "gmsh.write(\"channel.msh\")\n"
   ]
  },
  {
   "cell_type": "code",
   "execution_count": 4,
   "metadata": {},
   "outputs": [
    {
     "data": {
      "text/latex": [
       "\\begin{verbatim}\n",
       "gmsh.model.geo.mesh.setTransfiniteSurface(tag, arrangement = \"Left\", cornerTags = Cint[])\n",
       "\\end{verbatim}\n",
       "Set a transfinite meshing constraint on the surface \\texttt{tag} in the built-in CAD kernel representation. \\texttt{arrangement} describes the arrangement of the triangles when the surface is not flagged as recombined: currently supported values are \"Left\", \"Right\", \"AlternateLeft\" and \"AlternateRight\". \\texttt{cornerTags} can be used to specify the (3 or 4) corners of the transfinite interpolation explicitly; specifying the corners explicitly is mandatory if the surface has more that 3 or 4 points on its boundary.\n",
       "\n"
      ],
      "text/markdown": [
       "```\n",
       "gmsh.model.geo.mesh.setTransfiniteSurface(tag, arrangement = \"Left\", cornerTags = Cint[])\n",
       "```\n",
       "\n",
       "Set a transfinite meshing constraint on the surface `tag` in the built-in CAD kernel representation. `arrangement` describes the arrangement of the triangles when the surface is not flagged as recombined: currently supported values are \"Left\", \"Right\", \"AlternateLeft\" and \"AlternateRight\". `cornerTags` can be used to specify the (3 or 4) corners of the transfinite interpolation explicitly; specifying the corners explicitly is mandatory if the surface has more that 3 or 4 points on its boundary.\n"
      ],
      "text/plain": [
       "  \u001b[39mgmsh\u001b[0m\u001b[38;5;197m.\u001b[0m\u001b[39mmodel\u001b[0m\u001b[38;5;197m.\u001b[0m\u001b[39mgeo\u001b[0m\u001b[38;5;197m.\u001b[0m\u001b[39mmesh\u001b[0m\u001b[38;5;197m.\u001b[0m\u001b[38;5;81msetTransfiniteSurface\u001b[0m(\u001b[0m\u001b[39mtag\u001b[0m\u001b[39m,\u001b[0m \u001b[0m\u001b[39marrangement\u001b[0m \u001b[0m\u001b[38;5;197m=\u001b[0m \u001b[0m\u001b[38;5;185m\"Left\"\u001b[0m\u001b[39m,\u001b[0m \u001b[0m\u001b[39mcornerTags\u001b[0m \u001b[0m\u001b[38;5;197m=\u001b[0m \u001b[0m\u001b[39mCint\u001b[0m\u001b[39m[\u001b[0m\u001b[39m]\u001b[0m\u001b[39m)\u001b[0m\u001b[39m\u001b[0m\n",
       "\n",
       "\n",
       "  Set a transfinite meshing constraint on the surface \u001b[36mtag\u001b[39m in the built-in CAD\n",
       "  kernel representation. \u001b[36marrangement\u001b[39m describes the arrangement of the\n",
       "  triangles when the surface is not flagged as recombined: currently supported\n",
       "  values are \"Left\", \"Right\", \"AlternateLeft\" and \"AlternateRight\". \u001b[36mcornerTags\u001b[39m\n",
       "  can be used to specify the (3 or 4) corners of the transfinite interpolation\n",
       "  explicitly; specifying the corners explicitly is mandatory if the surface\n",
       "  has more that 3 or 4 points on its boundary."
      ]
     },
     "execution_count": 4,
     "metadata": {},
     "output_type": "execute_result"
    }
   ],
   "source": [
    "?gmsh.model.geo.mesh.setTransfiniteSurface"
   ]
  },
  {
   "cell_type": "code",
   "execution_count": 5,
   "metadata": {},
   "outputs": [
    {
     "data": {
      "text/latex": [
       "\\begin{verbatim}\n",
       "gmsh.model.geo.mesh.setRecombine(dim, tag, angle = 45.)\n",
       "\\end{verbatim}\n",
       "Set a recombination meshing constraint on the entity of dimension \\texttt{dim} and tag \\texttt{tag} in the built-in CAD kernel representation. Currently only entities of dimension 2 (to recombine triangles into quadrangles) are supported; \\texttt{angle} specifies the threshold angle for the simple recombination algorithm.\n",
       "\n"
      ],
      "text/markdown": [
       "```\n",
       "gmsh.model.geo.mesh.setRecombine(dim, tag, angle = 45.)\n",
       "```\n",
       "\n",
       "Set a recombination meshing constraint on the entity of dimension `dim` and tag `tag` in the built-in CAD kernel representation. Currently only entities of dimension 2 (to recombine triangles into quadrangles) are supported; `angle` specifies the threshold angle for the simple recombination algorithm.\n"
      ],
      "text/plain": [
       "  \u001b[39mgmsh\u001b[0m\u001b[38;5;197m.\u001b[0m\u001b[39mmodel\u001b[0m\u001b[38;5;197m.\u001b[0m\u001b[39mgeo\u001b[0m\u001b[38;5;197m.\u001b[0m\u001b[39mmesh\u001b[0m\u001b[38;5;197m.\u001b[0m\u001b[38;5;81msetRecombine\u001b[0m(\u001b[0m\u001b[39mdim\u001b[0m\u001b[39m,\u001b[0m \u001b[0m\u001b[39mtag\u001b[0m\u001b[39m,\u001b[0m \u001b[0m\u001b[39mangle\u001b[0m \u001b[0m\u001b[38;5;197m=\u001b[0m \u001b[0m\u001b[38;5;141m45.\u001b[0m\u001b[39m)\u001b[0m\u001b[39m\u001b[0m\n",
       "\n",
       "\n",
       "  Set a recombination meshing constraint on the entity of dimension \u001b[36mdim\u001b[39m and\n",
       "  tag \u001b[36mtag\u001b[39m in the built-in CAD kernel representation. Currently only entities\n",
       "  of dimension 2 (to recombine triangles into quadrangles) are supported;\n",
       "  \u001b[36mangle\u001b[39m specifies the threshold angle for the simple recombination algorithm."
      ]
     },
     "execution_count": 5,
     "metadata": {},
     "output_type": "execute_result"
    }
   ],
   "source": [
    "?gmsh.model.geo.mesh.setRecombine"
   ]
  },
  {
   "cell_type": "markdown",
   "metadata": {},
   "source": [
    "## Section 2/: Visualize the Mesh "
   ]
  },
  {
   "cell_type": "code",
   "execution_count": 8,
   "metadata": {},
   "outputs": [
    {
     "data": {
      "text/plain": [
       "get_node_mesh (generic function with 1 method)"
      ]
     },
     "execution_count": 8,
     "metadata": {},
     "output_type": "execute_result"
    }
   ],
   "source": [
    "# Obtain a GeometryBasics.Mesh object suitable for plotting with Makie\n",
    "# Contributed by Gijs Lagerweij \n",
    "function get_node_mesh()\n",
    "    node_ids, node_coord, _ = gmsh.model.mesh.getNodes()\n",
    "    nNode = length(node_ids)\n",
    "\n",
    "    eType, eTag, eConn = gmsh.model.mesh.getElements(2);\n",
    "    nEl = length(eTag[1])\n",
    "\n",
    "    points   = zeros(Point2f, nNode);          # Array of vertex coordinates (x,y)\n",
    "    trif     = zeros(TriangleFace{Int}, nEl);  # Array of triangular faces (n1, n2, n3)\n",
    "    \n",
    "    for n in 1:nNode\n",
    "        points[node_ids[n]] = Point2f(node_coord[3*(n-1) + 1], node_coord[3*(n-1) + 2])\n",
    "    end\n",
    "    for e in 1:nEl\n",
    "        trif[e] = (eConn[1][3*(e-1)+1], eConn[1][3*(e-1)+2], eConn[1][3*(e-1)+3])\n",
    "    end\n",
    "    \n",
    "    msh = GeometryBasics.Mesh(points, trif);\n",
    "    return msh;\n",
    "end"
   ]
  },
  {
   "cell_type": "code",
   "execution_count": 10,
   "metadata": {},
   "outputs": [
    {
     "name": "stdout",
     "output_type": "stream",
     "text": [
      "Info    : Reading 'channel.msh'...\n",
      "Info    : 9 entities\n",
      "Info    : 1475 nodes\n",
      "Info    : 2828 elements\n",
      "Info    : Done reading 'channel.msh'\n"
     ]
    },
    {
     "name": "stderr",
     "output_type": "stream",
     "text": [
      "Warning : Gmsh has aleady been initialized\n"
     ]
    },
    {
     "ename": "LoadError",
     "evalue": "UndefVarError: get_mesh_data not defined",
     "output_type": "error",
     "traceback": [
      "UndefVarError: get_mesh_data not defined",
      "",
      "Stacktrace:",
      " [1] top-level scope",
      "   @ In[10]:3",
      " [2] eval",
      "   @ ./boot.jl:368 [inlined]",
      " [3] include_string(mapexpr::typeof(REPL.softscope), mod::Module, code::String, filename::String)",
      "   @ Base ./loading.jl:1428"
     ]
    }
   ],
   "source": [
    "gmsh.initialize()\n",
    "gmsh.open(\"channel.msh\")\n",
    "mshdata = get_mesh_data();\n",
    "\n",
    "msh = get_node_mesh()\n",
    "\n",
    "f, ax, pl = mesh(msh, shading = false)\n",
    "wireframe!(ax, msh, color=(:black), linewidth=1, transparency=false)\n",
    "ax.aspect = AxisAspect(1)\n",
    "current_figure()"
   ]
  },
  {
   "cell_type": "markdown",
   "metadata": {},
   "source": [
    "## Section 3/: FE Assembly and Solve "
   ]
  },
  {
   "cell_type": "code",
   "execution_count": 29,
   "metadata": {},
   "outputs": [
    {
     "name": "stdout",
     "output_type": "stream",
     "text": [
      "search: \u001b[0m\u001b[1mG\u001b[22m\u001b[0m\u001b[1mm\u001b[22m\u001b[0m\u001b[1ms\u001b[22m\u001b[0m\u001b[1mh\u001b[22m\u001b[0m\u001b[1mD\u001b[22m\u001b[0m\u001b[1mi\u001b[22m\u001b[0m\u001b[1ms\u001b[22m\u001b[0m\u001b[1mc\u001b[22m\u001b[0m\u001b[1mr\u001b[22m\u001b[0m\u001b[1me\u001b[22m\u001b[0m\u001b[1mt\u001b[22m\u001b[0m\u001b[1me\u001b[22m\u001b[0m\u001b[1mM\u001b[22m\u001b[0m\u001b[1mo\u001b[22m\u001b[0m\u001b[1md\u001b[22m\u001b[0m\u001b[1me\u001b[22m\u001b[0m\u001b[1ml\u001b[22m\n",
      "\n"
     ]
    },
    {
     "data": {
      "text/latex": [
       "No documentation found.\n",
       "\n",
       "\\texttt{GridapGmsh.GmshDiscreteModel} is a \\texttt{Function}.\n",
       "\n",
       "\\begin{verbatim}\n",
       "# 1 method for generic function \"GmshDiscreteModel\":\n",
       "[1] GmshDiscreteModel(mshfile; renumber) in GridapGmsh at /Users/djplahaye/.julia/packages/GridapGmsh/Q8ZwW/src/GmshDiscreteModels.jl:6\n",
       "\\end{verbatim}\n"
      ],
      "text/markdown": [
       "No documentation found.\n",
       "\n",
       "`GridapGmsh.GmshDiscreteModel` is a `Function`.\n",
       "\n",
       "```\n",
       "# 1 method for generic function \"GmshDiscreteModel\":\n",
       "[1] GmshDiscreteModel(mshfile; renumber) in GridapGmsh at /Users/djplahaye/.julia/packages/GridapGmsh/Q8ZwW/src/GmshDiscreteModels.jl:6\n",
       "```\n"
      ],
      "text/plain": [
       "  No documentation found.\n",
       "\n",
       "  \u001b[36mGridapGmsh.GmshDiscreteModel\u001b[39m is a \u001b[36mFunction\u001b[39m.\n",
       "\n",
       "  \u001b[38;5;240m# 1 method for generic function \"GmshDiscreteModel\":\u001b[0m\n",
       "  \u001b[0m\u001b[39m[\u001b[0m\u001b[38;5;141m1\u001b[0m\u001b[39m]\u001b[0m \u001b[0m\u001b[38;5;81mGmshDiscreteModel\u001b[0m(\u001b[0m\u001b[39mmshfile\u001b[0m\u001b[39m;\u001b[0m \u001b[0m\u001b[39mrenumber\u001b[0m\u001b[39m)\u001b[0m \u001b[0m\u001b[38;5;197min\u001b[0m \u001b[0m\u001b[39mGridapGmsh\u001b[0m \u001b[0m\u001b[39mat\u001b[0m \u001b[0m\u001b[38;5;197m/\u001b[0m\u001b[39mUsers\u001b[0m\u001b[38;5;197m/\u001b[0m\u001b[39mdjplahaye\u001b[0m\u001b[38;5;197m/\u001b[0m\u001b[38;5;197m.\u001b[0m\u001b[39mjulia\u001b[0m\u001b[38;5;197m/\u001b[0m\u001b[39mpackages\u001b[0m\u001b[38;5;197m/\u001b[0m\u001b[39mGridapGmsh\u001b[0m\u001b[38;5;197m/\u001b[0m\u001b[39mQ8ZwW\u001b[0m\u001b[38;5;197m/\u001b[0m\u001b[39msrc\u001b[0m\u001b[38;5;197m/\u001b[0m\u001b[39mGmshDiscreteModels\u001b[0m\u001b[38;5;197m.\u001b[0m\u001b[39mjl\u001b[0m\u001b[38;5;197m:\u001b[0m\u001b[38;5;141m6\u001b[0m\u001b[39m\u001b[0m\n"
      ]
     },
     "execution_count": 29,
     "metadata": {},
     "output_type": "execute_result"
    }
   ],
   "source": [
    "?GmshDiscreteModel"
   ]
  },
  {
   "cell_type": "code",
   "execution_count": 11,
   "metadata": {},
   "outputs": [
    {
     "name": "stdout",
     "output_type": "stream",
     "text": [
      "Info    : Reading 'channel.msh'...\n",
      "Info    : 9 entities\n",
      "Info    : 1475 nodes\n",
      "Info    : 2828 elements\n",
      "Info    : Done reading 'channel.msh'\n"
     ]
    },
    {
     "name": "stderr",
     "output_type": "stream",
     "text": [
      "Warning : Gmsh has aleady been initialized\n"
     ]
    },
    {
     "data": {
      "text/plain": [
       "UnstructuredDiscreteModel()"
      ]
     },
     "execution_count": 11,
     "metadata": {},
     "output_type": "execute_result"
    }
   ],
   "source": [
    "# Load mesh\n",
    "model = GmshDiscreteModel(\"channel.msh\")\n",
    "#Ω = Triangulation(model)"
   ]
  },
  {
   "cell_type": "code",
   "execution_count": 30,
   "metadata": {},
   "outputs": [
    {
     "data": {
      "text/plain": [
       "TrialFESpace()"
      ]
     },
     "execution_count": 30,
     "metadata": {},
     "output_type": "execute_result"
    }
   ],
   "source": [
    "# Define Lagrangian reference element\n",
    "order = 1\n",
    "reffe = ReferenceFE(lagrangian,Float64,order)\n",
    "Vh = FESpace(model, reffe; conformity=:H1, dirichlet_tags = [\"bnd_left\", \"bnd_right\"])\n",
    "Uh = TrialFESpace(Vh, [0, 1]) # Left boundary: u = 0, right boundary: u = 1"
   ]
  },
  {
   "cell_type": "code",
   "execution_count": 31,
   "metadata": {},
   "outputs": [
    {
     "data": {
      "text/plain": [
       "Measure()"
      ]
     },
     "execution_count": 31,
     "metadata": {},
     "output_type": "execute_result"
    }
   ],
   "source": [
    "degree = 2\n",
    "Ω = Triangulation(model)\n",
    "dΩ = Measure(Ω,degree)"
   ]
  },
  {
   "cell_type": "code",
   "execution_count": 34,
   "metadata": {},
   "outputs": [
    {
     "data": {
      "text/plain": [
       "b (generic function with 1 method)"
      ]
     },
     "execution_count": 34,
     "metadata": {},
     "output_type": "execute_result"
    }
   ],
   "source": [
    "ff(x) = 1.0\n",
    "a(u,v) = ∫( ∇(v)⋅∇(u) )*dΩ\n",
    "b(v) = ∫( v*ff )*dΩ"
   ]
  },
  {
   "cell_type": "code",
   "execution_count": 35,
   "metadata": {},
   "outputs": [
    {
     "data": {
      "text/plain": [
       "AffineFEOperator()"
      ]
     },
     "execution_count": 35,
     "metadata": {},
     "output_type": "execute_result"
    }
   ],
   "source": [
    "op = AffineFEOperator(a,b,Uh,Vh)"
   ]
  },
  {
   "cell_type": "code",
   "execution_count": null,
   "metadata": {},
   "outputs": [],
   "source": []
  },
  {
   "cell_type": "code",
   "execution_count": 36,
   "metadata": {},
   "outputs": [
    {
     "data": {
      "text/plain": [
       "LinearFESolver()"
      ]
     },
     "execution_count": 36,
     "metadata": {},
     "output_type": "execute_result"
    }
   ],
   "source": [
    "ls = LUSolver()\n",
    "solver = LinearFESolver(ls)"
   ]
  },
  {
   "cell_type": "code",
   "execution_count": 37,
   "metadata": {},
   "outputs": [
    {
     "data": {
      "text/plain": [
       "SingleFieldFEFunction():\n",
       " num_cells: 2788\n",
       " DomainStyle: ReferenceDomain()\n",
       " Triangulation: BodyFittedTriangulation()\n",
       " Triangulation id: 14487810350196559622"
      ]
     },
     "execution_count": 37,
     "metadata": {},
     "output_type": "execute_result"
    }
   ],
   "source": [
    "uh = solve(solver,op)"
   ]
  },
  {
   "cell_type": "code",
   "execution_count": 38,
   "metadata": {},
   "outputs": [
    {
     "data": {
      "text/plain": [
       "([\"results.vtu\"],)"
      ]
     },
     "execution_count": 38,
     "metadata": {},
     "output_type": "execute_result"
    }
   ],
   "source": [
    "writevtk(Ω,\"results\",cellfields=[\"uh\"=>uh])"
   ]
  },
  {
   "cell_type": "code",
   "execution_count": null,
   "metadata": {},
   "outputs": [],
   "source": [
    "writevtk(Ω, \"images/transformer_gridap/transformer1\", cellfields=[\"Az\"=>abs(uh)"
   ]
  },
  {
   "cell_type": "markdown",
   "metadata": {},
   "source": [
    "## Section 4:/ Visualize Computed Solution "
   ]
  },
  {
   "cell_type": "code",
   "execution_count": 10,
   "metadata": {},
   "outputs": [
    {
     "data": {
      "text/plain": [
       "get_mesh_data (generic function with 1 method)"
      ]
     },
     "execution_count": 10,
     "metadata": {},
     "output_type": "execute_result"
    }
   ],
   "source": [
    "# mesh_data struct\n",
    "#  saves the nodes and elements of a gmsh geometry, for easy passing around in functions\n",
    "struct mesh_data\n",
    "    nnodes  # number of nodes\n",
    "    xnode   # array of x coordinates\n",
    "    ynode   # array of y coordinates\n",
    "    \n",
    "    nelements   # number of elements\n",
    "    #element_connectivity  # array of connectivity for each element\n",
    "    e_group     # array containing the physical group number of each element\n",
    "    elements    #  more conveniently structured connectivity array\n",
    "end\n",
    "\n",
    "# Loads nodes, elements, and element physical groups from gmsh and stores them in a mesh_data struct\n",
    "function get_mesh_data()\n",
    "    #..2/11 Get and sort the mesh nodes\n",
    "    #..Observe that although the mesh is two-dimensional,\n",
    "    #..the z-coordinate that is equal to zero is stored as well.\n",
    "    #..Observe that the coordinates are stored contiguously for computational\n",
    "    #..efficiency\n",
    "    node_ids, node_coord, _ = gmsh.model.mesh.getNodes()\n",
    "    nnodes = length(node_ids)\n",
    "    #..sort the node coordinates by ID, such that Node one sits at row 1\n",
    "    tosort = [node_ids node_coord[1:3:end] node_coord[2:3:end]];\n",
    "    sorted = sortslices(tosort , dims = 1);\n",
    "    node_ids = sorted[:,1]\n",
    "    xnode = sorted[:,2]\n",
    "    ynode = sorted[:,3]\n",
    "    \n",
    "    #..4/12 Get the mesh elements\n",
    "    #..observe that we get all the two-dimensional triangular elements from the mesh\n",
    "    element_types, element_ids, element_connectivity = gmsh.model.mesh.getElements(2)\n",
    "    nelements = length(element_ids[1])\n",
    "\n",
    "    #..5/12 Create groups of elements for the subdomains\n",
    "    #..for loop that creates a vector describing which physical group an element belongs to\n",
    "    ngroup1 = gmsh.model.mesh.getNodesForPhysicalGroup(2, 1)\n",
    "    e_group = zeros(1,nelements)\n",
    "    \n",
    "    elements = [zeros(Int, 3) for i in 1:nelements];\n",
    "    \n",
    "    for element_id in 1:nelements\n",
    "        node1_id = element_connectivity[1][3*(element_id-1)+1]\n",
    "        node2_id = element_connectivity[1][3*(element_id-1)+2]\n",
    "        node3_id = element_connectivity[1][3*(element_id-1)+3]\n",
    "        \n",
    "        # Store connectivity in a convenient format\n",
    "        elements[element_id] = [node1_id, node2_id, node3_id];\n",
    "        \n",
    "        # Determine which physical group the element belongs to\n",
    "        G1  = sum(node1_id.== ngroup1[1])+sum(node2_id.== ngroup1[1])+sum(node3_id.== ngroup1[1]) # Oil\n",
    "        \n",
    "        if G1 == 3\n",
    "            e_group[element_id] = 1;\n",
    "        end \n",
    "    end\n",
    "    \n",
    "    return mesh_data(nnodes, xnode, ynode, nelements, e_group, elements)\n",
    "end"
   ]
  },
  {
   "cell_type": "code",
   "execution_count": 54,
   "metadata": {},
   "outputs": [
    {
     "data": {
      "text/plain": [
       "1-element Vector{Float64}:\n",
       " 0.7944257323806816"
      ]
     },
     "execution_count": 54,
     "metadata": {},
     "output_type": "execute_result"
    }
   ],
   "source": [
    "typeof(uh);\n",
    "Gridap.CellData.get_data(uh);\n",
    "evaluate(uh,[Gridap.Geometry.Point(0.5,0.5)])"
   ]
  },
  {
   "cell_type": "code",
   "execution_count": 55,
   "metadata": {},
   "outputs": [
    {
     "ename": "LoadError",
     "evalue": "MethodError: no method matching length(::Type{Vector{Float64}})\n\u001b[0mClosest candidates are:\n\u001b[0m  length(\u001b[91m::Union{Base.KeySet, Base.ValueIterator}\u001b[39m) at abstractdict.jl:58\n\u001b[0m  length(\u001b[91m::Union{ZMQ._Message, Base.RefValue{ZMQ._Message}}\u001b[39m) at ~/.julia/packages/ZMQ/lrABE/src/_message.jl:31\n\u001b[0m  length(\u001b[91m::Union{JLD2.Group, JLD2.JLDFile}\u001b[39m) at ~/.julia/packages/JLD2/HnW0g/src/JLD2.jl:457\n\u001b[0m  ...",
     "output_type": "error",
     "traceback": [
      "MethodError: no method matching length(::Type{Vector{Float64}})\n\u001b[0mClosest candidates are:\n\u001b[0m  length(\u001b[91m::Union{Base.KeySet, Base.ValueIterator}\u001b[39m) at abstractdict.jl:58\n\u001b[0m  length(\u001b[91m::Union{ZMQ._Message, Base.RefValue{ZMQ._Message}}\u001b[39m) at ~/.julia/packages/ZMQ/lrABE/src/_message.jl:31\n\u001b[0m  length(\u001b[91m::Union{JLD2.Group, JLD2.JLDFile}\u001b[39m) at ~/.julia/packages/JLD2/HnW0g/src/JLD2.jl:457\n\u001b[0m  ...",
      "",
      "Stacktrace:",
      "  [1] _type_length(#unused#::Type{Vector{Float64}})",
      "    @ WriteVTK ~/.julia/packages/WriteVTK/UoUwH/src/write_data.jl:50",
      "  [2] _eltype_length(#unused#::Vector{Vector{Float64}})",
      "    @ WriteVTK ~/.julia/packages/WriteVTK/UoUwH/src/write_data.jl:56",
      "  [3] num_components(data::Vector{Vector{Float64}}, num_points_or_cells::Int64)",
      "    @ WriteVTK ~/.julia/packages/WriteVTK/UoUwH/src/write_data.jl:59",
      "  [4] num_components(data::Vector{Vector{Float64}}, vtk::WriteVTK.DatasetFile, #unused#::VTKPointData)",
      "    @ WriteVTK ~/.julia/packages/WriteVTK/UoUwH/src/write_data.jl:62",
      "  [5] set_num_components(xDA::LightXML.XMLElement, vtk::WriteVTK.DatasetFile, data::Vector{Vector{Float64}}, loc::VTKPointData)",
      "    @ WriteVTK ~/.julia/packages/WriteVTK/UoUwH/src/write_data.jl:162",
      "  [6] data_to_xml(vtk::WriteVTK.DatasetFile, xParent::LightXML.XMLElement, data::Vector{Vector{Float64}}, name::String, Nc::VTKPointData; component_names::Nothing)",
      "    @ WriteVTK ~/.julia/packages/WriteVTK/UoUwH/src/write_data.jl:204",
      "  [7] add_field_data(vtk::WriteVTK.DatasetFile, data::Vector{Vector{Float64}}, name::String, loc::VTKPointData; component_names::Nothing)",
      "    @ WriteVTK ~/.julia/packages/WriteVTK/UoUwH/src/write_data.jl:382",
      "  [8] add_field_data(vtk::WriteVTK.DatasetFile, data::Vector{Vector{Float64}}, name::String, loc::VTKPointData)",
      "    @ WriteVTK ~/.julia/packages/WriteVTK/UoUwH/src/write_data.jl:363",
      "  [9] setindex!(vtk::WriteVTK.DatasetFile, data::Vector{Vector{Float64}}, name::String, loc::VTKPointData; kwargs::Base.Pairs{Symbol, Union{}, Tuple{}, NamedTuple{(), Tuple{}}})",
      "    @ WriteVTK ~/.julia/packages/WriteVTK/UoUwH/src/write_data.jl:423",
      " [10] setindex!(vtk::WriteVTK.DatasetFile, data::Vector{Vector{Float64}}, name::String, loc::VTKPointData)",
      "    @ WriteVTK ~/.julia/packages/WriteVTK/UoUwH/src/write_data.jl:423",
      " [11] top-level scope",
      "    @ In[55]:11",
      " [12] eval",
      "    @ ./boot.jl:368 [inlined]",
      " [13] include_string(mapexpr::typeof(REPL.softscope), mod::Module, code::String, filename::String)",
      "    @ Base ./loading.jl:1428"
     ]
    }
   ],
   "source": [
    "# Define nodes (points) and elements (cells)\n",
    "points = [mshdata.xnode mshdata.ynode]';\n",
    "cells = [MeshCell(VTKCellTypes.VTK_TRIANGLE, el) for el in mshdata.elements];\n",
    "\n",
    "# Create VTK file structure using nodes and elements\n",
    "vtkfile = vtk_grid(\"channel1.vtu\", points, cells);\n",
    "\n",
    "# Store data in the VTK file\n",
    "vtkfile[\"uh\", VTKPointData()] = uhevaluated;\n",
    "\n",
    "# Save the file\n",
    "outfiles = vtk_save(vtkfile);"
   ]
  },
  {
   "cell_type": "code",
   "execution_count": null,
   "metadata": {},
   "outputs": [],
   "source": []
  }
 ],
 "metadata": {
  "kernelspec": {
   "display_name": "Julia 1.8.1",
   "language": "julia",
   "name": "julia-1.8"
  },
  "language_info": {
   "file_extension": ".jl",
   "mimetype": "application/julia",
   "name": "julia",
   "version": "1.8.1"
  }
 },
 "nbformat": 4,
 "nbformat_minor": 2
}
