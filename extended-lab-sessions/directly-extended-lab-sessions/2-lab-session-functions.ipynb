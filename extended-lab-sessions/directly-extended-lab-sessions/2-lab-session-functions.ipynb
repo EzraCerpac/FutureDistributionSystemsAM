{
 "cells": [
  {
   "cell_type": "markdown",
   "id": "f465a445",
   "metadata": {},
   "source": [
    "# EE4375-2022: Second Lab Session: Functions, Type Stability and Benchmarking"
   ]
  },
  {
   "cell_type": "markdown",
   "id": "74e5abda",
   "metadata": {},
   "source": [
    "## Import Packages  "
   ]
  },
  {
   "cell_type": "code",
   "execution_count": 1,
   "id": "d01480a6",
   "metadata": {},
   "outputs": [],
   "source": [
    "using LinearAlgebra \n",
    "using SparseArrays \n",
    "\n",
    "using IterativeSolvers\n",
    "using Preconditioners\n",
    "\n",
    "using BenchmarkTools\n",
    "using Profile\n",
    "using ProfileView\n",
    "\n",
    "using Plots "
   ]
  },
  {
   "cell_type": "markdown",
   "id": "9b0c3e72",
   "metadata": {},
   "source": [
    "## Section 1: Build Linear System as Sparse From the Start\n",
    "Motivation \n",
    "1. build matrix as sparse directly, i.e., avoid convection from dense to sparse matrix; \n",
    "2. use code as building block for more complex code; \n",
    "3. profile code in terms of type-stability, memory and CPU usage; \n",
    "4. unit test the code (compare with analytical solution or rate of converge); \n",
    "5. upload the code of github to work with github actions; "
   ]
  },
  {
   "cell_type": "markdown",
   "id": "4f59f5b3",
   "metadata": {},
   "source": [
    "### Section 1.1: Build Coefficient Matrix \n",
    "We specify the type of the input argument N to providing the compiler more informartion to perform required optimizations. In the following, we \n",
    "1. test the code on small input values; \n",
    "2. verify the type stability of the code;\n",
    "3. benchmark the code;\n",
    "\n",
    "Note that the type-instability that @code_warntype is considered harmless as reported [here](https://discourse.julialang.org/t/how-to-prevent-type-instability-in-for-loops/30508). "
   ]
  },
  {
   "cell_type": "code",
   "execution_count": 2,
   "id": "d7abe1b2",
   "metadata": {},
   "outputs": [
    {
     "data": {
      "text/plain": [
       "buildMat1D (generic function with 1 method)"
      ]
     },
     "execution_count": 2,
     "metadata": {},
     "output_type": "execute_result"
    }
   ],
   "source": [
    "function buildMat1D(N::Int64)\n",
    "  Nm1::Int64 = N-1; Np1::Int64 = N+1 \n",
    "  h::Float64 = 1/N; h2::Float64 = h*h; \n",
    "  stencil = Vector{Float64}([-1/h2, 2/h2, -1/h2]);\n",
    "  #..Allocate row, column and value vector \n",
    "  I = Int64[]; sizehint!(I, 3*Nm1); \n",
    "  J = Int64[]; sizehint!(J, 3*Nm1); \n",
    "  vals=Float64[]; sizehint!(vals, 3*Nm1);\n",
    "  intervalRows = Vector{Int64}(2:N);\n",
    "  for i in intervalRows \n",
    "    append!(I, [i,i,i])\n",
    "    append!(J, [i-1,i,i+1])\n",
    "    append!(vals,stencil) \n",
    "  end \n",
    "  #..Build matrix for interior rows   \n",
    "  A = sparse(I,J,vals,Np1,Np1)\n",
    "  #..Build matrix for boundary rows\n",
    "  A[1,1] = 1; A[end,end]=1; A[2,1] =0; A[end-1,end]=0; \n",
    "  return A \n",
    "end "
   ]
  },
  {
   "cell_type": "code",
   "execution_count": 3,
   "id": "51322393",
   "metadata": {},
   "outputs": [
    {
     "data": {
      "text/plain": [
       "5×5 SparseMatrixCSC{Float64, Int64} with 11 stored entries:\n",
       " 1.0     ⋅      ⋅      ⋅    ⋅ \n",
       " 0.0   32.0  -16.0     ⋅    ⋅ \n",
       "  ⋅   -16.0   32.0  -16.0   ⋅ \n",
       "  ⋅      ⋅   -16.0   32.0  0.0\n",
       "  ⋅      ⋅      ⋅      ⋅   1.0"
      ]
     },
     "execution_count": 3,
     "metadata": {},
     "output_type": "execute_result"
    }
   ],
   "source": [
    "A = buildMat1D(4)"
   ]
  },
  {
   "cell_type": "code",
   "execution_count": 4,
   "id": "93921a59",
   "metadata": {},
   "outputs": [
    {
     "data": {
      "text/plain": [
       "5×5 Matrix{Float64}:\n",
       " 1.0    0.0    0.0    0.0  0.0\n",
       " 0.0   32.0  -16.0    0.0  0.0\n",
       " 0.0  -16.0   32.0  -16.0  0.0\n",
       " 0.0    0.0  -16.0   32.0  0.0\n",
       " 0.0    0.0    0.0    0.0  1.0"
      ]
     },
     "execution_count": 4,
     "metadata": {},
     "output_type": "execute_result"
    }
   ],
   "source": [
    "B = Matrix(A)"
   ]
  },
  {
   "cell_type": "code",
   "execution_count": 5,
   "id": "384d6c0f",
   "metadata": {},
   "outputs": [
    {
     "data": {
      "text/plain": [
       "Matrix{Float64}\u001b[90m (alias for \u001b[39m\u001b[90mArray{Float64, 2}\u001b[39m\u001b[90m)\u001b[39m"
      ]
     },
     "execution_count": 5,
     "metadata": {},
     "output_type": "execute_result"
    }
   ],
   "source": [
    "typeof(B)"
   ]
  },
  {
   "cell_type": "code",
   "execution_count": 7,
   "id": "13013956",
   "metadata": {},
   "outputs": [],
   "source": [
    "@code_warntype buildMat1D(5.);"
   ]
  },
  {
   "cell_type": "code",
   "execution_count": 8,
   "id": "eafcf027",
   "metadata": {},
   "outputs": [
    {
     "data": {
      "text/plain": [
       "BenchmarkTools.Trial: 10000 samples with 1 evaluation.\n",
       " Range \u001b[90m(\u001b[39m\u001b[36m\u001b[1mmin\u001b[22m\u001b[39m … \u001b[35mmax\u001b[39m\u001b[90m):  \u001b[39m\u001b[36m\u001b[1m 86.416 μs\u001b[22m\u001b[39m … \u001b[35m  5.541 ms\u001b[39m  \u001b[90m┊\u001b[39m GC \u001b[90m(\u001b[39mmin … max\u001b[90m): \u001b[39m 0.00% … 98.13%\n",
       " Time  \u001b[90m(\u001b[39m\u001b[34m\u001b[1mmedian\u001b[22m\u001b[39m\u001b[90m):     \u001b[39m\u001b[34m\u001b[1m 97.208 μs               \u001b[22m\u001b[39m\u001b[90m┊\u001b[39m GC \u001b[90m(\u001b[39mmedian\u001b[90m):    \u001b[39m 0.00%\n",
       " Time  \u001b[90m(\u001b[39m\u001b[32m\u001b[1mmean\u001b[22m\u001b[39m ± \u001b[32mσ\u001b[39m\u001b[90m):   \u001b[39m\u001b[32m\u001b[1m117.298 μs\u001b[22m\u001b[39m ± \u001b[32m260.107 μs\u001b[39m  \u001b[90m┊\u001b[39m GC \u001b[90m(\u001b[39mmean ± σ\u001b[90m):  \u001b[39m15.56% ±  6.82%\n",
       "\n",
       "  \u001b[39m \u001b[39m \u001b[39m \u001b[39m \u001b[39m \u001b[39m \u001b[39m█\u001b[39m▆\u001b[34m▄\u001b[39m\u001b[39m \u001b[39m \u001b[39m \u001b[39m \u001b[39m \u001b[39m \u001b[39m \u001b[39m \u001b[39m \u001b[39m \u001b[39m \u001b[39m \u001b[39m \u001b[32m \u001b[39m\u001b[39m \u001b[39m \u001b[39m \u001b[39m \u001b[39m \u001b[39m \u001b[39m \u001b[39m \u001b[39m \u001b[39m \u001b[39m \u001b[39m \u001b[39m \u001b[39m \u001b[39m \u001b[39m \u001b[39m \u001b[39m \u001b[39m \u001b[39m \u001b[39m \u001b[39m \u001b[39m \u001b[39m \u001b[39m \u001b[39m \u001b[39m \u001b[39m \u001b[39m \u001b[39m \u001b[39m \u001b[39m \u001b[39m \u001b[39m \u001b[39m \u001b[39m \u001b[39m \u001b[39m \u001b[39m \u001b[39m \n",
       "  \u001b[39m▃\u001b[39m▄\u001b[39m▃\u001b[39m▃\u001b[39m▃\u001b[39m▇\u001b[39m█\u001b[39m█\u001b[34m█\u001b[39m\u001b[39m▇\u001b[39m▆\u001b[39m▅\u001b[39m▄\u001b[39m▄\u001b[39m▃\u001b[39m▃\u001b[39m▃\u001b[39m▃\u001b[39m▂\u001b[39m▂\u001b[39m▂\u001b[39m▂\u001b[32m▂\u001b[39m\u001b[39m▂\u001b[39m▂\u001b[39m▂\u001b[39m▂\u001b[39m▂\u001b[39m▂\u001b[39m▂\u001b[39m▂\u001b[39m▂\u001b[39m▂\u001b[39m▂\u001b[39m▂\u001b[39m▁\u001b[39m▂\u001b[39m▁\u001b[39m▁\u001b[39m▁\u001b[39m▂\u001b[39m▂\u001b[39m▂\u001b[39m▂\u001b[39m▂\u001b[39m▂\u001b[39m▂\u001b[39m▂\u001b[39m▂\u001b[39m▂\u001b[39m▂\u001b[39m▂\u001b[39m▂\u001b[39m▂\u001b[39m▂\u001b[39m▂\u001b[39m▁\u001b[39m▂\u001b[39m▁\u001b[39m▂\u001b[39m▂\u001b[39m \u001b[39m▃\n",
       "  86.4 μs\u001b[90m          Histogram: frequency by time\u001b[39m          170 μs \u001b[0m\u001b[1m<\u001b[22m\n",
       "\n",
       " Memory estimate\u001b[90m: \u001b[39m\u001b[33m469.92 KiB\u001b[39m, allocs estimate\u001b[90m: \u001b[39m\u001b[33m2023\u001b[39m."
      ]
     },
     "execution_count": 8,
     "metadata": {},
     "output_type": "execute_result"
    }
   ],
   "source": [
    "@benchmark buildMat1D(1000)"
   ]
  },
  {
   "cell_type": "markdown",
   "id": "8f20f33f",
   "metadata": {},
   "source": [
    "### Section 1.2: Construction of the Right-Hand Side Vector"
   ]
  },
  {
   "cell_type": "code",
   "execution_count": 9,
   "id": "13364bca",
   "metadata": {},
   "outputs": [
    {
     "data": {
      "text/plain": [
       "buildRhs1D (generic function with 1 method)"
      ]
     },
     "execution_count": 9,
     "metadata": {},
     "output_type": "execute_result"
    }
   ],
   "source": [
    "function buildRhs1D(N::Int64,sourceFct::Function)\n",
    "  h = 1/N;\n",
    "  x = Vector(0:h:1)\n",
    "  #..Build vector for interior rows \n",
    "  f = sourceFct(x)\n",
    "  #..Build matrix for boundary rows\n",
    "  f[1] = 0; f[end] = 0; \n",
    "  return f \n",
    "end "
   ]
  },
  {
   "cell_type": "code",
   "execution_count": 10,
   "id": "cedf5112",
   "metadata": {},
   "outputs": [
    {
     "data": {
      "text/plain": [
       "sourceFct (generic function with 1 method)"
      ]
     },
     "execution_count": 10,
     "metadata": {},
     "output_type": "execute_result"
    }
   ],
   "source": [
    "sourceFct(x)= x.*sin.(π*x)"
   ]
  },
  {
   "cell_type": "code",
   "execution_count": 11,
   "id": "fc6d19b2",
   "metadata": {},
   "outputs": [
    {
     "data": {
      "text/plain": [
       "SparseMatrixCSC{Float64, Int64}"
      ]
     },
     "execution_count": 11,
     "metadata": {},
     "output_type": "execute_result"
    }
   ],
   "source": [
    "f = buildRhs1D(5,sourceFct);\n",
    "typeof(A)"
   ]
  },
  {
   "cell_type": "code",
   "execution_count": 12,
   "id": "8be0ceaa",
   "metadata": {},
   "outputs": [
    {
     "name": "stdout",
     "output_type": "stream",
     "text": [
      "MethodInstance for buildRhs1D(::Int64, ::typeof(sourceFct))\n",
      "  from buildRhs1D(N::Int64, sourceFct::Function) in Main at In[9]:1\n",
      "Arguments\n",
      "  #self#\u001b[36m::Core.Const(buildRhs1D)\u001b[39m\n",
      "  N\u001b[36m::Int64\u001b[39m\n",
      "  sourceFct\u001b[36m::Core.Const(sourceFct)\u001b[39m\n",
      "Locals\n",
      "  f\u001b[36m::Vector{Float64}\u001b[39m\n",
      "  x\u001b[36m::Vector{Float64}\u001b[39m\n",
      "  h\u001b[36m::Float64\u001b[39m\n",
      "Body\u001b[36m::Vector{Float64}\u001b[39m\n",
      "\u001b[90m1 ─\u001b[39m      (h = 1 / N)\n",
      "\u001b[90m│  \u001b[39m %2 = (0:h:1)\u001b[36m::StepRangeLen{Float64, Base.TwicePrecision{Float64}, Base.TwicePrecision{Float64}, Int64}\u001b[39m\n",
      "\u001b[90m│  \u001b[39m      (x = Main.Vector(%2))\n",
      "\u001b[90m│  \u001b[39m      (f = (sourceFct)(x))\n",
      "\u001b[90m│  \u001b[39m      Base.setindex!(f, 0, 1)\n",
      "\u001b[90m│  \u001b[39m %6 = f\u001b[36m::Vector{Float64}\u001b[39m\n",
      "\u001b[90m│  \u001b[39m %7 = Base.lastindex(f)\u001b[36m::Int64\u001b[39m\n",
      "\u001b[90m│  \u001b[39m      Base.setindex!(%6, 0, %7)\n",
      "\u001b[90m└──\u001b[39m      return f\n",
      "\n"
     ]
    }
   ],
   "source": [
    "@code_warntype buildRhs1D(5,sourceFct)"
   ]
  },
  {
   "cell_type": "code",
   "execution_count": 13,
   "id": "945b3fd8",
   "metadata": {},
   "outputs": [
    {
     "data": {
      "text/plain": [
       "BenchmarkTools.Trial: 10000 samples with 5 evaluations.\n",
       " Range \u001b[90m(\u001b[39m\u001b[36m\u001b[1mmin\u001b[22m\u001b[39m … \u001b[35mmax\u001b[39m\u001b[90m):  \u001b[39m\u001b[36m\u001b[1m6.067 μs\u001b[22m\u001b[39m … \u001b[35m941.433 μs\u001b[39m  \u001b[90m┊\u001b[39m GC \u001b[90m(\u001b[39mmin … max\u001b[90m): \u001b[39m 0.00% … 99.24%\n",
       " Time  \u001b[90m(\u001b[39m\u001b[34m\u001b[1mmedian\u001b[22m\u001b[39m\u001b[90m):     \u001b[39m\u001b[34m\u001b[1m7.542 μs               \u001b[22m\u001b[39m\u001b[90m┊\u001b[39m GC \u001b[90m(\u001b[39mmedian\u001b[90m):    \u001b[39m 0.00%\n",
       " Time  \u001b[90m(\u001b[39m\u001b[32m\u001b[1mmean\u001b[22m\u001b[39m ± \u001b[32mσ\u001b[39m\u001b[90m):   \u001b[39m\u001b[32m\u001b[1m8.667 μs\u001b[22m\u001b[39m ± \u001b[32m 28.727 μs\u001b[39m  \u001b[90m┊\u001b[39m GC \u001b[90m(\u001b[39mmean ± σ\u001b[90m):  \u001b[39m11.45% ±  3.43%\n",
       "\n",
       "  \u001b[39m \u001b[39m \u001b[39m \u001b[39m \u001b[39m \u001b[39m \u001b[39m \u001b[39m \u001b[39m \u001b[39m \u001b[39m \u001b[39m \u001b[39m \u001b[39m \u001b[39m \u001b[39m \u001b[39m▅\u001b[39m█\u001b[39m▆\u001b[34m▃\u001b[39m\u001b[39m▁\u001b[39m \u001b[39m \u001b[39m \u001b[39m \u001b[39m \u001b[39m \u001b[39m \u001b[39m \u001b[39m \u001b[39m \u001b[39m \u001b[39m \u001b[39m \u001b[32m \u001b[39m\u001b[39m \u001b[39m \u001b[39m \u001b[39m \u001b[39m \u001b[39m \u001b[39m \u001b[39m \u001b[39m \u001b[39m \u001b[39m \u001b[39m \u001b[39m \u001b[39m \u001b[39m \u001b[39m \u001b[39m \u001b[39m \u001b[39m \u001b[39m \u001b[39m \u001b[39m \u001b[39m \u001b[39m \u001b[39m \u001b[39m \n",
       "  \u001b[39m▂\u001b[39m▂\u001b[39m▃\u001b[39m▂\u001b[39m▂\u001b[39m▂\u001b[39m▂\u001b[39m▂\u001b[39m▁\u001b[39m▁\u001b[39m▁\u001b[39m▁\u001b[39m▂\u001b[39m▂\u001b[39m▅\u001b[39m█\u001b[39m█\u001b[39m█\u001b[39m█\u001b[34m█\u001b[39m\u001b[39m█\u001b[39m▇\u001b[39m▇\u001b[39m▇\u001b[39m▆\u001b[39m▄\u001b[39m▄\u001b[39m▃\u001b[39m▃\u001b[39m▃\u001b[39m▃\u001b[39m▂\u001b[39m▂\u001b[39m▂\u001b[32m▂\u001b[39m\u001b[39m▂\u001b[39m▂\u001b[39m▂\u001b[39m▁\u001b[39m▂\u001b[39m▁\u001b[39m▁\u001b[39m▁\u001b[39m▁\u001b[39m▁\u001b[39m▁\u001b[39m▁\u001b[39m▁\u001b[39m▁\u001b[39m▁\u001b[39m▁\u001b[39m▁\u001b[39m▁\u001b[39m▁\u001b[39m▁\u001b[39m▁\u001b[39m▁\u001b[39m▁\u001b[39m▁\u001b[39m \u001b[39m▂\n",
       "  6.07 μs\u001b[90m         Histogram: frequency by time\u001b[39m        10.6 μs \u001b[0m\u001b[1m<\u001b[22m\n",
       "\n",
       " Memory estimate\u001b[90m: \u001b[39m\u001b[33m24.00 KiB\u001b[39m, allocs estimate\u001b[90m: \u001b[39m\u001b[33m3\u001b[39m."
      ]
     },
     "execution_count": 13,
     "metadata": {},
     "output_type": "execute_result"
    }
   ],
   "source": [
    "@benchmark buildRhs1D(1000,sourceFct)"
   ]
  },
  {
   "cell_type": "markdown",
   "id": "d8933541",
   "metadata": {},
   "source": [
    "### Section 1.3: Solve the Linear System - Default Versions \n",
    "Here we employ a sparse direct solver. "
   ]
  },
  {
   "cell_type": "code",
   "execution_count": 21,
   "id": "235bcd50",
   "metadata": {},
   "outputs": [
    {
     "data": {
      "text/plain": [
       "solvePoisson1D (generic function with 1 method)"
      ]
     },
     "execution_count": 21,
     "metadata": {},
     "output_type": "execute_result"
    }
   ],
   "source": [
    "function solvePoisson1D(N::Int64,sourceFct::Function)\n",
    "  A = buildMat1D(N);\n",
    "  f = buildRhs1D(N,sourceFct)\n",
    "  u = A\\f \n",
    "  return u \n",
    "end"
   ]
  },
  {
   "cell_type": "code",
   "execution_count": 22,
   "id": "3939f0ba",
   "metadata": {},
   "outputs": [
    {
     "data": {
      "text/plain": [
       "BenchmarkTools.Trial: 10000 samples with 1 evaluation.\n",
       " Range \u001b[90m(\u001b[39m\u001b[36m\u001b[1mmin\u001b[22m\u001b[39m … \u001b[35mmax\u001b[39m\u001b[90m):  \u001b[39m\u001b[36m\u001b[1m30.083 μs\u001b[22m\u001b[39m … \u001b[35m  8.825 ms\u001b[39m  \u001b[90m┊\u001b[39m GC \u001b[90m(\u001b[39mmin … max\u001b[90m): \u001b[39m0.00% … 51.90%\n",
       " Time  \u001b[90m(\u001b[39m\u001b[34m\u001b[1mmedian\u001b[22m\u001b[39m\u001b[90m):     \u001b[39m\u001b[34m\u001b[1m34.042 μs               \u001b[22m\u001b[39m\u001b[90m┊\u001b[39m GC \u001b[90m(\u001b[39mmedian\u001b[90m):    \u001b[39m0.00%\n",
       " Time  \u001b[90m(\u001b[39m\u001b[32m\u001b[1mmean\u001b[22m\u001b[39m ± \u001b[32mσ\u001b[39m\u001b[90m):   \u001b[39m\u001b[32m\u001b[1m42.430 μs\u001b[22m\u001b[39m ± \u001b[32m250.964 μs\u001b[39m  \u001b[90m┊\u001b[39m GC \u001b[90m(\u001b[39mmean ± σ\u001b[90m):  \u001b[39m9.33% ±  1.57%\n",
       "\n",
       "  \u001b[39m \u001b[39m \u001b[39m \u001b[39m \u001b[39m \u001b[39m \u001b[39m \u001b[39m \u001b[39m \u001b[39m▂\u001b[39m▅\u001b[39m▇\u001b[39m█\u001b[39m▆\u001b[34m▄\u001b[39m\u001b[39m▄\u001b[39m▃\u001b[39m▁\u001b[39m \u001b[39m \u001b[39m \u001b[39m \u001b[39m \u001b[39m \u001b[39m \u001b[39m \u001b[39m \u001b[39m \u001b[39m \u001b[39m \u001b[39m \u001b[39m \u001b[39m \u001b[39m \u001b[39m \u001b[39m \u001b[39m \u001b[39m \u001b[39m \u001b[39m \u001b[39m \u001b[39m \u001b[39m \u001b[32m \u001b[39m\u001b[39m \u001b[39m \u001b[39m \u001b[39m \u001b[39m \u001b[39m \u001b[39m \u001b[39m \u001b[39m \u001b[39m \u001b[39m \u001b[39m \u001b[39m \u001b[39m \u001b[39m \u001b[39m \u001b[39m \u001b[39m \n",
       "  \u001b[39m▁\u001b[39m▁\u001b[39m▂\u001b[39m▄\u001b[39m▄\u001b[39m▄\u001b[39m▄\u001b[39m▅\u001b[39m▇\u001b[39m█\u001b[39m█\u001b[39m█\u001b[39m█\u001b[39m█\u001b[34m█\u001b[39m\u001b[39m█\u001b[39m█\u001b[39m█\u001b[39m▆\u001b[39m▅\u001b[39m▄\u001b[39m▄\u001b[39m▄\u001b[39m▃\u001b[39m▃\u001b[39m▃\u001b[39m▃\u001b[39m▂\u001b[39m▂\u001b[39m▂\u001b[39m▁\u001b[39m▂\u001b[39m▁\u001b[39m▂\u001b[39m▁\u001b[39m▁\u001b[39m▁\u001b[39m▁\u001b[39m▂\u001b[39m▁\u001b[39m▁\u001b[39m▁\u001b[39m▁\u001b[32m▁\u001b[39m\u001b[39m▁\u001b[39m▁\u001b[39m▁\u001b[39m▁\u001b[39m▁\u001b[39m▁\u001b[39m▁\u001b[39m▁\u001b[39m▁\u001b[39m▁\u001b[39m▁\u001b[39m▁\u001b[39m▁\u001b[39m▁\u001b[39m▁\u001b[39m▁\u001b[39m \u001b[39m▃\n",
       "  30.1 μs\u001b[90m         Histogram: frequency by time\u001b[39m         47.4 μs \u001b[0m\u001b[1m<\u001b[22m\n",
       "\n",
       " Memory estimate\u001b[90m: \u001b[39m\u001b[33m95.80 KiB\u001b[39m, allocs estimate\u001b[90m: \u001b[39m\u001b[33m277\u001b[39m."
      ]
     },
     "execution_count": 22,
     "metadata": {},
     "output_type": "execute_result"
    }
   ],
   "source": [
    "@benchmark solvePoisson1D(100,sourceFct)"
   ]
  },
  {
   "cell_type": "code",
   "execution_count": 16,
   "id": "6a25fcaf",
   "metadata": {},
   "outputs": [
    {
     "data": {
      "text/html": [
       "# 1 method for generic function <b>\\</b>:<ul><li> \\(A::<b>SparseArrays.AbstractSparseMatrixCSC</b>, B::<b>AbstractVecOrMat</b>) in SparseArrays at <a href=\"file:///Users/julia/.julia/scratchspaces/a66863c6-20e8-4ff4-8a62-49f30b1f605e/agent-cache/default-macmini-aarch64-5.0/build/default-macmini-aarch64-5-0/julialang/julia-release-1-dot-8/usr/share/julia/stdlib/v1.8/SparseArrays/src/linalg.jl\" target=\"_blank\">/Applications/Julia-1.8.app/Contents/Resources/julia/share/julia/stdlib/v1.8/SparseArrays/src/linalg.jl:1548</a></li> </ul>"
      ],
      "text/plain": [
       "# 1 method for generic function \"\\\":\n",
       "[1] \\(A::SparseArrays.AbstractSparseMatrixCSC, B::AbstractVecOrMat) in SparseArrays at /Applications/Julia-1.8.app/Contents/Resources/julia/share/julia/stdlib/v1.8/SparseArrays/src/linalg.jl:1548"
      ]
     },
     "execution_count": 16,
     "metadata": {},
     "output_type": "execute_result"
    }
   ],
   "source": [
    "# algorithm being used to solve the linear system \n",
    "# use edit(\"/Applications/Julia-1.8.app/Contents/Resources/julia/share/julia/stdlib/v1.8/SparseArrays/src/linalg.jl:1548\")\n",
    "# to view the source code \n",
    "methods(\\, (SparseMatrixCSC{Float64, Int64}, Vector{Float64}))"
   ]
  },
  {
   "cell_type": "markdown",
   "id": "59fe2842",
   "metadata": {},
   "source": [
    "### Section 1.4: Solve the Linear System - Alternative Versions \n",
    "Here we employ a dense direct solver. "
   ]
  },
  {
   "cell_type": "code",
   "execution_count": 28,
   "id": "05ef8614",
   "metadata": {},
   "outputs": [
    {
     "data": {
      "text/plain": [
       "solvePoisson1D (generic function with 1 method)"
      ]
     },
     "execution_count": 28,
     "metadata": {},
     "output_type": "execute_result"
    }
   ],
   "source": [
    "function solvePoisson1D(N::Int64,sourceFct::Function)\n",
    "  A = buildMat1D(N);\n",
    "  # B = Matrix(A)\n",
    "  B = Tridiagonal(A) \n",
    "  B = sparse(B)\n",
    "  f = buildRhs1D(N,sourceFct)\n",
    "  u = B\\f \n",
    "  return u \n",
    "end"
   ]
  },
  {
   "cell_type": "code",
   "execution_count": 29,
   "id": "d2b74350",
   "metadata": {},
   "outputs": [
    {
     "data": {
      "text/plain": [
       "BenchmarkTools.Trial: 10000 samples with 1 evaluation.\n",
       " Range \u001b[90m(\u001b[39m\u001b[36m\u001b[1mmin\u001b[22m\u001b[39m … \u001b[35mmax\u001b[39m\u001b[90m):  \u001b[39m\u001b[36m\u001b[1m38.000 μs\u001b[22m\u001b[39m … \u001b[35m  8.350 ms\u001b[39m  \u001b[90m┊\u001b[39m GC \u001b[90m(\u001b[39mmin … max\u001b[90m): \u001b[39m0.00% … 55.68%\n",
       " Time  \u001b[90m(\u001b[39m\u001b[34m\u001b[1mmedian\u001b[22m\u001b[39m\u001b[90m):     \u001b[39m\u001b[34m\u001b[1m42.209 μs               \u001b[22m\u001b[39m\u001b[90m┊\u001b[39m GC \u001b[90m(\u001b[39mmedian\u001b[90m):    \u001b[39m0.00%\n",
       " Time  \u001b[90m(\u001b[39m\u001b[32m\u001b[1mmean\u001b[22m\u001b[39m ± \u001b[32mσ\u001b[39m\u001b[90m):   \u001b[39m\u001b[32m\u001b[1m51.483 μs\u001b[22m\u001b[39m ± \u001b[32m257.605 μs\u001b[39m  \u001b[90m┊\u001b[39m GC \u001b[90m(\u001b[39mmean ± σ\u001b[90m):  \u001b[39m9.35% ±  1.86%\n",
       "\n",
       "  \u001b[39m \u001b[39m \u001b[39m \u001b[39m \u001b[39m \u001b[39m \u001b[39m \u001b[39m \u001b[39m \u001b[39m \u001b[39m▁\u001b[39m▅\u001b[39m▆\u001b[39m█\u001b[39m█\u001b[34m▆\u001b[39m\u001b[39m▆\u001b[39m▃\u001b[39m▂\u001b[39m \u001b[39m \u001b[39m \u001b[39m \u001b[39m \u001b[39m \u001b[39m \u001b[39m \u001b[39m \u001b[39m \u001b[39m \u001b[39m \u001b[39m \u001b[39m \u001b[39m \u001b[39m \u001b[39m \u001b[39m \u001b[39m \u001b[39m \u001b[39m \u001b[39m \u001b[39m \u001b[39m \u001b[39m \u001b[39m \u001b[39m \u001b[39m \u001b[39m \u001b[32m \u001b[39m\u001b[39m \u001b[39m \u001b[39m \u001b[39m \u001b[39m \u001b[39m \u001b[39m \u001b[39m \u001b[39m \u001b[39m \u001b[39m \u001b[39m \u001b[39m \n",
       "  \u001b[39m▁\u001b[39m▁\u001b[39m▂\u001b[39m▃\u001b[39m▅\u001b[39m▆\u001b[39m▇\u001b[39m▇\u001b[39m▆\u001b[39m▇\u001b[39m█\u001b[39m█\u001b[39m█\u001b[39m█\u001b[39m█\u001b[34m█\u001b[39m\u001b[39m█\u001b[39m█\u001b[39m█\u001b[39m▇\u001b[39m▆\u001b[39m▄\u001b[39m▅\u001b[39m▅\u001b[39m▅\u001b[39m▅\u001b[39m▄\u001b[39m▃\u001b[39m▂\u001b[39m▂\u001b[39m▂\u001b[39m▂\u001b[39m▂\u001b[39m▂\u001b[39m▂\u001b[39m▂\u001b[39m▂\u001b[39m▂\u001b[39m▁\u001b[39m▂\u001b[39m▂\u001b[39m▁\u001b[39m▁\u001b[39m▁\u001b[39m▁\u001b[39m▁\u001b[39m▁\u001b[39m▁\u001b[32m▁\u001b[39m\u001b[39m▁\u001b[39m▁\u001b[39m▁\u001b[39m▁\u001b[39m▁\u001b[39m▁\u001b[39m▁\u001b[39m▁\u001b[39m▁\u001b[39m▁\u001b[39m▁\u001b[39m \u001b[39m▃\n",
       "  38 μs\u001b[90m           Histogram: frequency by time\u001b[39m         54.9 μs \u001b[0m\u001b[1m<\u001b[22m\n",
       "\n",
       " Memory estimate\u001b[90m: \u001b[39m\u001b[33m113.45 KiB\u001b[39m, allocs estimate\u001b[90m: \u001b[39m\u001b[33m305\u001b[39m."
      ]
     },
     "execution_count": 29,
     "metadata": {},
     "output_type": "execute_result"
    }
   ],
   "source": [
    "@benchmark solvePoisson1D(100,sourceFct)"
   ]
  },
  {
   "cell_type": "code",
   "execution_count": 35,
   "id": "4a4991b9",
   "metadata": {},
   "outputs": [
    {
     "data": {
      "text/html": [
       "# 1 method for generic function <b>\\</b>:<ul><li> \\(A::<b>AbstractMatrix</b>, B::<b>AbstractVecOrMat</b>) in LinearAlgebra at <a href=\"file:///Users/julia/.julia/scratchspaces/a66863c6-20e8-4ff4-8a62-49f30b1f605e/agent-cache/default-macmini-aarch64-5.0/build/default-macmini-aarch64-5-0/julialang/julia-release-1-dot-8/usr/share/julia/stdlib/v1.8/LinearAlgebra/src/generic.jl\" target=\"_blank\">/Applications/Julia-1.8.app/Contents/Resources/julia/share/julia/stdlib/v1.8/LinearAlgebra/src/generic.jl:1096</a></li> </ul>"
      ],
      "text/plain": [
       "# 1 method for generic function \"\\\":\n",
       "[1] \\(A::AbstractMatrix, B::AbstractVecOrMat) in LinearAlgebra at /Applications/Julia-1.8.app/Contents/Resources/julia/share/julia/stdlib/v1.8/LinearAlgebra/src/generic.jl:1096"
      ]
     },
     "execution_count": 35,
     "metadata": {},
     "output_type": "execute_result"
    }
   ],
   "source": [
    "# algorithm being used to solve the linear system \n",
    "methods(\\, (Matrix{Float64}, Vector{Float64}))"
   ]
  },
  {
   "cell_type": "markdown",
   "id": "1dea43b8",
   "metadata": {},
   "source": [
    "Here we employ a tri-diagonal matrix (not obvious with solver variant is being used). "
   ]
  },
  {
   "cell_type": "code",
   "execution_count": 50,
   "id": "0f26ef3a",
   "metadata": {},
   "outputs": [
    {
     "data": {
      "text/plain": [
       "solvePoisson1D (generic function with 1 method)"
      ]
     },
     "execution_count": 50,
     "metadata": {},
     "output_type": "execute_result"
    }
   ],
   "source": [
    "function solvePoisson1D(N::Int64,sourceFct::Function)\n",
    "  A = buildMat1D(N);\n",
    "  B = Tridiagonal(A) \n",
    "  f = buildRhs1D(N,sourceFct)\n",
    "  u = B\\f \n",
    "  return u \n",
    "end"
   ]
  },
  {
   "cell_type": "code",
   "execution_count": 51,
   "id": "eb99f0a6",
   "metadata": {},
   "outputs": [
    {
     "data": {
      "text/plain": [
       "BenchmarkTools.Trial: 10000 samples with 1 evaluation.\n",
       " Range \u001b[90m(\u001b[39m\u001b[36m\u001b[1mmin\u001b[22m\u001b[39m … \u001b[35mmax\u001b[39m\u001b[90m):  \u001b[39m\u001b[36m\u001b[1m27.417 μs\u001b[22m\u001b[39m … \u001b[35m  5.577 ms\u001b[39m  \u001b[90m┊\u001b[39m GC \u001b[90m(\u001b[39mmin … max\u001b[90m): \u001b[39m 0.00% … 99.30%\n",
       " Time  \u001b[90m(\u001b[39m\u001b[34m\u001b[1mmedian\u001b[22m\u001b[39m\u001b[90m):     \u001b[39m\u001b[34m\u001b[1m29.750 μs               \u001b[22m\u001b[39m\u001b[90m┊\u001b[39m GC \u001b[90m(\u001b[39mmedian\u001b[90m):    \u001b[39m 0.00%\n",
       " Time  \u001b[90m(\u001b[39m\u001b[32m\u001b[1mmean\u001b[22m\u001b[39m ± \u001b[32mσ\u001b[39m\u001b[90m):   \u001b[39m\u001b[32m\u001b[1m33.891 μs\u001b[22m\u001b[39m ± \u001b[32m140.691 μs\u001b[39m  \u001b[90m┊\u001b[39m GC \u001b[90m(\u001b[39mmean ± σ\u001b[90m):  \u001b[39m10.96% ±  2.62%\n",
       "\n",
       "  \u001b[39m \u001b[39m \u001b[39m \u001b[39m \u001b[39m \u001b[39m \u001b[39m \u001b[39m \u001b[39m▁\u001b[39m▃\u001b[39m█\u001b[34m▅\u001b[39m\u001b[39m▂\u001b[39m \u001b[39m \u001b[39m \u001b[39m \u001b[39m \u001b[39m \u001b[39m \u001b[39m \u001b[39m \u001b[39m \u001b[39m \u001b[39m \u001b[39m \u001b[39m \u001b[39m \u001b[39m \u001b[39m \u001b[32m \u001b[39m\u001b[39m \u001b[39m \u001b[39m \u001b[39m \u001b[39m \u001b[39m \u001b[39m \u001b[39m \u001b[39m \u001b[39m \u001b[39m \u001b[39m \u001b[39m \u001b[39m \u001b[39m \u001b[39m \u001b[39m \u001b[39m \u001b[39m \u001b[39m \u001b[39m \u001b[39m \u001b[39m \u001b[39m \u001b[39m \u001b[39m \u001b[39m \u001b[39m \u001b[39m \u001b[39m \u001b[39m \n",
       "  \u001b[39m▂\u001b[39m▂\u001b[39m▃\u001b[39m▅\u001b[39m▇\u001b[39m█\u001b[39m▆\u001b[39m▇\u001b[39m█\u001b[39m█\u001b[39m█\u001b[34m█\u001b[39m\u001b[39m█\u001b[39m▇\u001b[39m▅\u001b[39m▄\u001b[39m▄\u001b[39m▃\u001b[39m▄\u001b[39m▃\u001b[39m▄\u001b[39m▄\u001b[39m▃\u001b[39m▃\u001b[39m▃\u001b[39m▃\u001b[39m▂\u001b[39m▂\u001b[39m▂\u001b[39m▂\u001b[32m▂\u001b[39m\u001b[39m▂\u001b[39m▂\u001b[39m▂\u001b[39m▂\u001b[39m▂\u001b[39m▂\u001b[39m▂\u001b[39m▂\u001b[39m▂\u001b[39m▂\u001b[39m▂\u001b[39m▂\u001b[39m▂\u001b[39m▂\u001b[39m▂\u001b[39m▁\u001b[39m▂\u001b[39m▂\u001b[39m▂\u001b[39m▂\u001b[39m▂\u001b[39m▂\u001b[39m▂\u001b[39m▂\u001b[39m▂\u001b[39m▂\u001b[39m▂\u001b[39m▂\u001b[39m▂\u001b[39m \u001b[39m▃\n",
       "  27.4 μs\u001b[90m         Histogram: frequency by time\u001b[39m         40.4 μs \u001b[0m\u001b[1m<\u001b[22m\n",
       "\n",
       " Memory estimate\u001b[90m: \u001b[39m\u001b[33m71.66 KiB\u001b[39m, allocs estimate\u001b[90m: \u001b[39m\u001b[33m259\u001b[39m."
      ]
     },
     "execution_count": 51,
     "metadata": {},
     "output_type": "execute_result"
    }
   ],
   "source": [
    "@benchmark solvePoisson1D(100,sourceFct)"
   ]
  },
  {
   "cell_type": "code",
   "execution_count": null,
   "id": "31ff7943",
   "metadata": {},
   "outputs": [],
   "source": []
  },
  {
   "cell_type": "markdown",
   "id": "f8fd3a1f",
   "metadata": {},
   "source": [
    "## Sandbox"
   ]
  },
  {
   "cell_type": "code",
   "execution_count": 39,
   "id": "194e5694",
   "metadata": {},
   "outputs": [
    {
     "name": "stdout",
     "output_type": "stream",
     "text": [
      "search: \u001b[0m\u001b[1ms\u001b[22m\u001b[0m\u001b[1mp\u001b[22m\u001b[0m\u001b[1ma\u001b[22m\u001b[0m\u001b[1mr\u001b[22m\u001b[0m\u001b[1ms\u001b[22m\u001b[0m\u001b[1me\u001b[22m \u001b[0m\u001b[1ms\u001b[22m\u001b[0m\u001b[1mp\u001b[22m\u001b[0m\u001b[1ma\u001b[22m\u001b[0m\u001b[1mr\u001b[22m\u001b[0m\u001b[1ms\u001b[22m\u001b[0m\u001b[1me\u001b[22mvec \u001b[0m\u001b[1ms\u001b[22m\u001b[0m\u001b[1mp\u001b[22m\u001b[0m\u001b[1ma\u001b[22m\u001b[0m\u001b[1mr\u001b[22m\u001b[0m\u001b[1ms\u001b[22m\u001b[0m\u001b[1me\u001b[22m_vcat \u001b[0m\u001b[1ms\u001b[22m\u001b[0m\u001b[1mp\u001b[22m\u001b[0m\u001b[1ma\u001b[22m\u001b[0m\u001b[1mr\u001b[22m\u001b[0m\u001b[1ms\u001b[22m\u001b[0m\u001b[1me\u001b[22m_hcat \u001b[0m\u001b[1ms\u001b[22m\u001b[0m\u001b[1mp\u001b[22m\u001b[0m\u001b[1ma\u001b[22m\u001b[0m\u001b[1mr\u001b[22m\u001b[0m\u001b[1ms\u001b[22m\u001b[0m\u001b[1me\u001b[22m_hvcat \u001b[0m\u001b[1mS\u001b[22m\u001b[0m\u001b[1mp\u001b[22m\u001b[0m\u001b[1ma\u001b[22m\u001b[0m\u001b[1mr\u001b[22m\u001b[0m\u001b[1ms\u001b[22m\u001b[0m\u001b[1me\u001b[22mVector\n",
      "\n"
     ]
    },
    {
     "data": {
      "text/latex": [
       "\\begin{verbatim}\n",
       "sparse(A)\n",
       "\\end{verbatim}\n",
       "Convert an AbstractMatrix \\texttt{A} into a sparse matrix.\n",
       "\n",
       "\\section{Examples}\n",
       "\\begin{verbatim}\n",
       "julia> A = Matrix(1.0I, 3, 3)\n",
       "3×3 Matrix{Float64}:\n",
       " 1.0  0.0  0.0\n",
       " 0.0  1.0  0.0\n",
       " 0.0  0.0  1.0\n",
       "\n",
       "julia> sparse(A)\n",
       "3×3 SparseMatrixCSC{Float64, Int64} with 3 stored entries:\n",
       " 1.0   ⋅    ⋅\n",
       "  ⋅   1.0   ⋅\n",
       "  ⋅    ⋅   1.0\n",
       "\\end{verbatim}\n",
       "\\rule{\\textwidth}{1pt}\n",
       "\\begin{verbatim}\n",
       "sparse(I, J, V,[ m, n, combine])\n",
       "\\end{verbatim}\n",
       "Create a sparse matrix \\texttt{S} of dimensions \\texttt{m x n} such that \\texttt{S[I[k], J[k]] = V[k]}. The \\texttt{combine} function is used to combine duplicates. If \\texttt{m} and \\texttt{n} are not specified, they are set to \\texttt{maximum(I)} and \\texttt{maximum(J)} respectively. If the \\texttt{combine} function is not supplied, \\texttt{combine} defaults to \\texttt{+} unless the elements of \\texttt{V} are Booleans in which case \\texttt{combine} defaults to \\texttt{|}. All elements of \\texttt{I} must satisfy \\texttt{1 <= I[k] <= m}, and all elements of \\texttt{J} must satisfy \\texttt{1 <= J[k] <= n}. Numerical zeros in (\\texttt{I}, \\texttt{J}, \\texttt{V}) are retained as structural nonzeros; to drop numerical zeros, use \\href{@ref}{\\texttt{dropzeros!}}.\n",
       "\n",
       "For additional documentation and an expert driver, see \\texttt{SparseArrays.sparse!}.\n",
       "\n",
       "\\section{Examples}\n",
       "\\begin{verbatim}\n",
       "julia> Is = [1; 2; 3];\n",
       "\n",
       "julia> Js = [1; 2; 3];\n",
       "\n",
       "julia> Vs = [1; 2; 3];\n",
       "\n",
       "julia> sparse(Is, Js, Vs)\n",
       "3×3 SparseMatrixCSC{Int64, Int64} with 3 stored entries:\n",
       " 1  ⋅  ⋅\n",
       " ⋅  2  ⋅\n",
       " ⋅  ⋅  3\n",
       "\\end{verbatim}\n"
      ],
      "text/markdown": [
       "```\n",
       "sparse(A)\n",
       "```\n",
       "\n",
       "Convert an AbstractMatrix `A` into a sparse matrix.\n",
       "\n",
       "# Examples\n",
       "\n",
       "```jldoctest\n",
       "julia> A = Matrix(1.0I, 3, 3)\n",
       "3×3 Matrix{Float64}:\n",
       " 1.0  0.0  0.0\n",
       " 0.0  1.0  0.0\n",
       " 0.0  0.0  1.0\n",
       "\n",
       "julia> sparse(A)\n",
       "3×3 SparseMatrixCSC{Float64, Int64} with 3 stored entries:\n",
       " 1.0   ⋅    ⋅\n",
       "  ⋅   1.0   ⋅\n",
       "  ⋅    ⋅   1.0\n",
       "```\n",
       "\n",
       "---\n",
       "\n",
       "```\n",
       "sparse(I, J, V,[ m, n, combine])\n",
       "```\n",
       "\n",
       "Create a sparse matrix `S` of dimensions `m x n` such that `S[I[k], J[k]] = V[k]`. The `combine` function is used to combine duplicates. If `m` and `n` are not specified, they are set to `maximum(I)` and `maximum(J)` respectively. If the `combine` function is not supplied, `combine` defaults to `+` unless the elements of `V` are Booleans in which case `combine` defaults to `|`. All elements of `I` must satisfy `1 <= I[k] <= m`, and all elements of `J` must satisfy `1 <= J[k] <= n`. Numerical zeros in (`I`, `J`, `V`) are retained as structural nonzeros; to drop numerical zeros, use [`dropzeros!`](@ref).\n",
       "\n",
       "For additional documentation and an expert driver, see `SparseArrays.sparse!`.\n",
       "\n",
       "# Examples\n",
       "\n",
       "```jldoctest\n",
       "julia> Is = [1; 2; 3];\n",
       "\n",
       "julia> Js = [1; 2; 3];\n",
       "\n",
       "julia> Vs = [1; 2; 3];\n",
       "\n",
       "julia> sparse(Is, Js, Vs)\n",
       "3×3 SparseMatrixCSC{Int64, Int64} with 3 stored entries:\n",
       " 1  ⋅  ⋅\n",
       " ⋅  2  ⋅\n",
       " ⋅  ⋅  3\n",
       "```\n"
      ],
      "text/plain": [
       "  \u001b[38;5;81msparse\u001b[0m(\u001b[0m\u001b[39mA\u001b[0m\u001b[39m)\u001b[0m\u001b[39m\u001b[0m\n",
       "\n",
       "\n",
       "  Convert an AbstractMatrix \u001b[36mA\u001b[39m into a sparse matrix.\n",
       "\n",
       "\u001b[1m  Examples\u001b[22m\n",
       "\u001b[1m  ≡≡≡≡≡≡≡≡≡≡\u001b[22m\n",
       "\n",
       "  \u001b[31;1mjulia> \u001b[0m\u001b[39mA\u001b[0m \u001b[0m\u001b[38;5;197m=\u001b[0m \u001b[0m\u001b[38;5;81mMatrix\u001b[0m(\u001b[0m\u001b[38;5;141m1.0\u001b[0m\u001b[39mI\u001b[0m\u001b[39m,\u001b[0m \u001b[0m\u001b[38;5;141m3\u001b[0m\u001b[39m,\u001b[0m \u001b[0m\u001b[38;5;141m3\u001b[0m\u001b[39m)\u001b[0m\n",
       "  \u001b[0m\u001b[39m\u001b[0m3×3 Matrix{Float64}:\n",
       "   1.0  0.0  0.0\n",
       "   0.0  1.0  0.0\n",
       "   0.0  0.0  1.0\n",
       "  \n",
       "  \u001b[31;1mjulia> \u001b[0m\u001b[38;5;81msparse\u001b[0m(\u001b[0m\u001b[39mA\u001b[0m\u001b[39m)\u001b[0m\n",
       "  \u001b[0m\u001b[39m\u001b[0m3×3 SparseMatrixCSC{Float64, Int64} with 3 stored entries:\n",
       "   1.0   ⋅    ⋅\n",
       "    ⋅   1.0   ⋅\n",
       "    ⋅    ⋅   1.0\n",
       "\n",
       "\n",
       "  ────────────────────────────────────────────────────────────────────────────\n",
       "\n",
       "  \u001b[38;5;81msparse\u001b[0m(\u001b[0m\u001b[39mI\u001b[0m\u001b[39m,\u001b[0m \u001b[0m\u001b[39mJ\u001b[0m\u001b[39m,\u001b[0m \u001b[0m\u001b[39mV\u001b[0m\u001b[39m,\u001b[0m\u001b[39m[\u001b[0m \u001b[0m\u001b[39mm\u001b[0m\u001b[39m,\u001b[0m \u001b[0m\u001b[39mn\u001b[0m\u001b[39m,\u001b[0m \u001b[0m\u001b[39mcombine\u001b[0m\u001b[39m]\u001b[0m\u001b[39m)\u001b[0m\u001b[39m\u001b[0m\n",
       "\n",
       "\n",
       "  Create a sparse matrix \u001b[36mS\u001b[39m of dimensions \u001b[36mm x n\u001b[39m such that \u001b[36mS[I[k], J[k]] = V[k]\u001b[39m.\n",
       "  The \u001b[36mcombine\u001b[39m function is used to combine duplicates. If \u001b[36mm\u001b[39m and \u001b[36mn\u001b[39m are not\n",
       "  specified, they are set to \u001b[36mmaximum(I)\u001b[39m and \u001b[36mmaximum(J)\u001b[39m respectively. If the\n",
       "  \u001b[36mcombine\u001b[39m function is not supplied, \u001b[36mcombine\u001b[39m defaults to \u001b[36m+\u001b[39m unless the elements\n",
       "  of \u001b[36mV\u001b[39m are Booleans in which case \u001b[36mcombine\u001b[39m defaults to \u001b[36m|\u001b[39m. All elements of \u001b[36mI\u001b[39m\n",
       "  must satisfy \u001b[36m1 <= I[k] <= m\u001b[39m, and all elements of \u001b[36mJ\u001b[39m must satisfy \u001b[36m1 <= J[k] <=\n",
       "  n\u001b[39m. Numerical zeros in (\u001b[36mI\u001b[39m, \u001b[36mJ\u001b[39m, \u001b[36mV\u001b[39m) are retained as structural nonzeros; to drop\n",
       "  numerical zeros, use \u001b[36mdropzeros!\u001b[39m.\n",
       "\n",
       "  For additional documentation and an expert driver, see \u001b[36mSparseArrays.sparse!\u001b[39m.\n",
       "\n",
       "\u001b[1m  Examples\u001b[22m\n",
       "\u001b[1m  ≡≡≡≡≡≡≡≡≡≡\u001b[22m\n",
       "\n",
       "  \u001b[31;1mjulia> \u001b[0m\u001b[39mIs\u001b[0m \u001b[0m\u001b[38;5;197m=\u001b[0m \u001b[0m\u001b[39m[\u001b[0m\u001b[38;5;141m1\u001b[0m\u001b[39m;\u001b[0m \u001b[0m\u001b[38;5;141m2\u001b[0m\u001b[39m;\u001b[0m \u001b[0m\u001b[38;5;141m3\u001b[0m\u001b[39m]\u001b[0m\u001b[39m;\u001b[0m\n",
       "  \u001b[0m\u001b[39m\u001b[0m\n",
       "  \u001b[31;1mjulia> \u001b[0m\u001b[39mJs\u001b[0m \u001b[0m\u001b[38;5;197m=\u001b[0m \u001b[0m\u001b[39m[\u001b[0m\u001b[38;5;141m1\u001b[0m\u001b[39m;\u001b[0m \u001b[0m\u001b[38;5;141m2\u001b[0m\u001b[39m;\u001b[0m \u001b[0m\u001b[38;5;141m3\u001b[0m\u001b[39m]\u001b[0m\u001b[39m;\u001b[0m\n",
       "  \u001b[0m\u001b[39m\u001b[0m\n",
       "  \u001b[31;1mjulia> \u001b[0m\u001b[39mVs\u001b[0m \u001b[0m\u001b[38;5;197m=\u001b[0m \u001b[0m\u001b[39m[\u001b[0m\u001b[38;5;141m1\u001b[0m\u001b[39m;\u001b[0m \u001b[0m\u001b[38;5;141m2\u001b[0m\u001b[39m;\u001b[0m \u001b[0m\u001b[38;5;141m3\u001b[0m\u001b[39m]\u001b[0m\u001b[39m;\u001b[0m\n",
       "  \u001b[0m\u001b[39m\u001b[0m\n",
       "  \u001b[31;1mjulia> \u001b[0m\u001b[38;5;81msparse\u001b[0m(\u001b[0m\u001b[39mIs\u001b[0m\u001b[39m,\u001b[0m \u001b[0m\u001b[39mJs\u001b[0m\u001b[39m,\u001b[0m \u001b[0m\u001b[39mVs\u001b[0m\u001b[39m)\u001b[0m\n",
       "  \u001b[0m\u001b[39m\u001b[0m3×3 SparseMatrixCSC{Int64, Int64} with 3 stored entries:\n",
       "   1  ⋅  ⋅\n",
       "   ⋅  2  ⋅\n",
       "   ⋅  ⋅  3\n"
      ]
     },
     "execution_count": 39,
     "metadata": {},
     "output_type": "execute_result"
    }
   ],
   "source": [
    "?sparse"
   ]
  },
  {
   "cell_type": "code",
   "execution_count": 40,
   "id": "e289d05e",
   "metadata": {},
   "outputs": [],
   "source": [
    "A = buildMat1D(100);\n",
    "B = Matrix(A); # convert from sparse to dense \n",
    "C = Tridiagonal(B)\n",
    "f = buildRhs1D(100,sourceFct);"
   ]
  },
  {
   "cell_type": "code",
   "execution_count": 37,
   "id": "db86f1fb",
   "metadata": {},
   "outputs": [
    {
     "data": {
      "text/plain": [
       "SparseMatrixCSC{Float64, Int64}"
      ]
     },
     "execution_count": 37,
     "metadata": {},
     "output_type": "execute_result"
    }
   ],
   "source": [
    "typeof(A)"
   ]
  },
  {
   "cell_type": "code",
   "execution_count": 38,
   "id": "f70363e9",
   "metadata": {},
   "outputs": [
    {
     "data": {
      "text/plain": [
       "Matrix{Float64}\u001b[90m (alias for \u001b[39m\u001b[90mArray{Float64, 2}\u001b[39m\u001b[90m)\u001b[39m"
      ]
     },
     "execution_count": 38,
     "metadata": {},
     "output_type": "execute_result"
    }
   ],
   "source": [
    "typeof(B)"
   ]
  },
  {
   "cell_type": "code",
   "execution_count": 35,
   "id": "a63b34f4",
   "metadata": {},
   "outputs": [
    {
     "name": "stdout",
     "output_type": "stream",
     "text": [
      "  156.125 μs (4 allocations: 81.55 KiB)\n"
     ]
    }
   ],
   "source": [
    "@btime B \\ f ;"
   ]
  },
  {
   "cell_type": "code",
   "execution_count": 36,
   "id": "737b60a9",
   "metadata": {},
   "outputs": [
    {
     "name": "stdout",
     "output_type": "stream",
     "text": [
      "  19.083 μs (54 allocations: 43.08 KiB)\n"
     ]
    }
   ],
   "source": [
    "@btime A \\ f ;"
   ]
  },
  {
   "cell_type": "code",
   "execution_count": 41,
   "id": "43ce147f",
   "metadata": {},
   "outputs": [
    {
     "name": "stdout",
     "output_type": "stream",
     "text": [
      "  2.296 μs (8 allocations: 5.34 KiB)\n"
     ]
    }
   ],
   "source": [
    "@btime C \\ f ;"
   ]
  },
  {
   "cell_type": "code",
   "execution_count": 42,
   "id": "5daf4b41",
   "metadata": {},
   "outputs": [
    {
     "data": {
      "text/plain": [
       "Tridiagonal{Float64, Vector{Float64}}"
      ]
     },
     "execution_count": 42,
     "metadata": {},
     "output_type": "execute_result"
    }
   ],
   "source": [
    "typeof(C)"
   ]
  },
  {
   "cell_type": "code",
   "execution_count": 52,
   "id": "388f7014",
   "metadata": {},
   "outputs": [
    {
     "data": {
      "text/html": [
       "# 1 method for generic function <b>\\</b>:<ul><li> \\(A::<b>AbstractMatrix</b>, B::<b>AbstractVecOrMat</b>) in LinearAlgebra at <a href=\"file:///Users/julia/.julia/scratchspaces/a66863c6-20e8-4ff4-8a62-49f30b1f605e/agent-cache/default-macmini-aarch64-5.0/build/default-macmini-aarch64-5-0/julialang/julia-release-1-dot-8/usr/share/julia/stdlib/v1.8/LinearAlgebra/src/generic.jl\" target=\"_blank\">/Applications/Julia-1.8.app/Contents/Resources/julia/share/julia/stdlib/v1.8/LinearAlgebra/src/generic.jl:1096</a></li> </ul>"
      ],
      "text/plain": [
       "# 1 method for generic function \"\\\":\n",
       "[1] \\(A::AbstractMatrix, B::AbstractVecOrMat) in LinearAlgebra at /Applications/Julia-1.8.app/Contents/Resources/julia/share/julia/stdlib/v1.8/LinearAlgebra/src/generic.jl:1096"
      ]
     },
     "execution_count": 52,
     "metadata": {},
     "output_type": "execute_result"
    }
   ],
   "source": [
    "methods(\\, (Tridiagonal{Float64, Vector{Float64}}, Vector{Float64}))"
   ]
  },
  {
   "cell_type": "code",
   "execution_count": 46,
   "id": "5df85fab",
   "metadata": {},
   "outputs": [],
   "source": [
    "edit(\"/Applications/Julia-1.8.app/Contents/Resources/julia/share/julia/stdlib/v1.8/LinearAlgebra/src/tridiag.jl\")"
   ]
  },
  {
   "cell_type": "code",
   "execution_count": null,
   "id": "896f581c",
   "metadata": {},
   "outputs": [],
   "source": []
  }
 ],
 "metadata": {
  "kernelspec": {
   "display_name": "Julia 1.8.1",
   "language": "julia",
   "name": "julia-1.8"
  },
  "language_info": {
   "file_extension": ".jl",
   "mimetype": "application/julia",
   "name": "julia",
   "version": "1.8.1"
  }
 },
 "nbformat": 4,
 "nbformat_minor": 5
}
