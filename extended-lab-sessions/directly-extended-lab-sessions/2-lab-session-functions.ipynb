{
 "cells": [
  {
   "cell_type": "markdown",
   "id": "f465a445",
   "metadata": {},
   "source": [
    "# EE4375-2022: Second Lab Session: Functions, Type Stability and Benchmarking"
   ]
  },
  {
   "cell_type": "markdown",
   "id": "74e5abda",
   "metadata": {},
   "source": [
    "## Import Packages  "
   ]
  },
  {
   "cell_type": "code",
   "execution_count": 1,
   "id": "d01480a6",
   "metadata": {},
   "outputs": [],
   "source": [
    "using LinearAlgebra \n",
    "using SparseArrays \n",
    "\n",
    "using IterativeSolvers\n",
    "using Preconditioners\n",
    "\n",
    "using BenchmarkTools\n",
    "using Profile\n",
    "using ProfileView\n",
    "\n",
    "using Plots "
   ]
  },
  {
   "cell_type": "markdown",
   "id": "9b0c3e72",
   "metadata": {},
   "source": [
    "## Section 1: Build Linear System as Sparse From the Start\n",
    "Motivation \n",
    "1. build matrix as sparse directly, i.e., avoid convection from dense to sparse matrix; \n",
    "2. use code as building block for more complex code; \n",
    "3. profile code in terms of type-stability, memory and CPU usage; \n",
    "4. unit test the code (compare with analytical solution or rate of converge); \n",
    "5. upload the code of github to work with github actions; "
   ]
  },
  {
   "cell_type": "markdown",
   "id": "4f59f5b3",
   "metadata": {},
   "source": [
    "### Section 1.1: Build Coefficient Matrix \n",
    "We specify the type of the input argument N to providing the compiler more informartion to perform required optimizations. In the following, we \n",
    "1. test the code on small input values; \n",
    "2. verify the type stability of the code;\n",
    "3. benchmark the code;\n",
    "\n",
    "Note that the type-instability that @code_warntype is considered harmless as reported [here](https://discourse.julialang.org/t/how-to-prevent-type-instability-in-for-loops/30508). "
   ]
  },
  {
   "cell_type": "code",
   "execution_count": 2,
   "id": "d7abe1b2",
   "metadata": {},
   "outputs": [
    {
     "data": {
      "text/plain": [
       "buildMat1D (generic function with 1 method)"
      ]
     },
     "execution_count": 2,
     "metadata": {},
     "output_type": "execute_result"
    }
   ],
   "source": [
    "function buildMat1D(N::Int64)\n",
    "  Nm1::Int64 = N-1; Np1::Int64 = N+1 \n",
    "  h::Float64 = 1/N; h2::Float64 = h*h; \n",
    "  stencil = Vector{Float64}([-1/h2, 2/h2, -1/h2]);\n",
    "  #..Allocate row, column and value vector \n",
    "  I = Int64[]; sizehint!(I, 3*Nm1); \n",
    "  J = Int64[]; sizehint!(J, 3*Nm1); \n",
    "  vals=Float64[]; sizehint!(vals, 3*Nm1);\n",
    "  intervalRows = Vector{Int64}(2:N);\n",
    "  for i in intervalRows \n",
    "    append!(I, [i,i,i])\n",
    "    append!(J, [i-1,i,i+1])\n",
    "    append!(vals,stencil) \n",
    "  end \n",
    "  #..Build matrix for interior rows   \n",
    "  A = sparse(I,J,vals,Np1,Np1)\n",
    "  #..Build matrix for boundary rows\n",
    "  A[1,1] = 1; A[end,end]=1; A[2,1] =0; A[end-1,end]=0; \n",
    "  return A \n",
    "end "
   ]
  },
  {
   "cell_type": "code",
   "execution_count": 3,
   "id": "51322393",
   "metadata": {},
   "outputs": [
    {
     "data": {
      "text/plain": [
       "5×5 SparseMatrixCSC{Float64, Int64} with 11 stored entries:\n",
       " 1.0     ⋅      ⋅      ⋅    ⋅ \n",
       " 0.0   32.0  -16.0     ⋅    ⋅ \n",
       "  ⋅   -16.0   32.0  -16.0   ⋅ \n",
       "  ⋅      ⋅   -16.0   32.0  0.0\n",
       "  ⋅      ⋅      ⋅      ⋅   1.0"
      ]
     },
     "execution_count": 3,
     "metadata": {},
     "output_type": "execute_result"
    }
   ],
   "source": [
    "A = buildMat1D(4)"
   ]
  },
  {
   "cell_type": "code",
   "execution_count": 15,
   "id": "93921a59",
   "metadata": {},
   "outputs": [
    {
     "data": {
      "text/plain": [
       "5×5 Matrix{Float64}:\n",
       " 1.0    0.0    0.0    0.0  0.0\n",
       " 0.0   32.0  -16.0    0.0  0.0\n",
       " 0.0  -16.0   32.0  -16.0  0.0\n",
       " 0.0    0.0  -16.0   32.0  0.0\n",
       " 0.0    0.0    0.0    0.0  1.0"
      ]
     },
     "execution_count": 15,
     "metadata": {},
     "output_type": "execute_result"
    }
   ],
   "source": [
    "B = Matrix(A)"
   ]
  },
  {
   "cell_type": "code",
   "execution_count": 16,
   "id": "384d6c0f",
   "metadata": {},
   "outputs": [
    {
     "data": {
      "text/plain": [
       "Matrix{Float64}\u001b[90m (alias for \u001b[39m\u001b[90mArray{Float64, 2}\u001b[39m\u001b[90m)\u001b[39m"
      ]
     },
     "execution_count": 16,
     "metadata": {},
     "output_type": "execute_result"
    }
   ],
   "source": [
    "typeof(B)"
   ]
  },
  {
   "cell_type": "code",
   "execution_count": 28,
   "id": "13013956",
   "metadata": {},
   "outputs": [
    {
     "name": "stdout",
     "output_type": "stream",
     "text": [
      "MethodInstance for buildMat1D(::Float64)\n",
      "  from buildMat1D(N) in Main at In[21]:2\n",
      "Arguments\n",
      "  #self#\u001b[36m::Core.Const(buildMat1D)\u001b[39m\n",
      "  N\u001b[36m::Float64\u001b[39m\n",
      "Locals\n",
      "  @_3\u001b[33m\u001b[1m::Union{Nothing, Tuple{Int64, Int64}}\u001b[22m\u001b[39m\n",
      "  A\u001b[36m::SparseMatrixCSC{Float64, Int64}\u001b[39m\n",
      "  intervalRows\u001b[36m::Vector{Int64}\u001b[39m\n",
      "  vals\u001b[36m::Vector{Float64}\u001b[39m\n",
      "  J\u001b[36m::Vector{Int64}\u001b[39m\n",
      "  I\u001b[36m::Vector{Int64}\u001b[39m\n",
      "  stencil\u001b[36m::Vector{Float64}\u001b[39m\n",
      "  h2\u001b[36m::Float64\u001b[39m\n",
      "  h\u001b[36m::Float64\u001b[39m\n",
      "  Np1\u001b[36m::Int64\u001b[39m\n",
      "  Nm1\u001b[36m::Int64\u001b[39m\n",
      "  i\u001b[36m::Int64\u001b[39m\n",
      "Body\u001b[36m::SparseMatrixCSC{Float64, Int64}\u001b[39m\n",
      "\u001b[90m1 ─\u001b[39m       Core.NewvarNode(:(A))\n",
      "\u001b[90m│  \u001b[39m %2  = (N - 1)\u001b[36m::Float64\u001b[39m\n",
      "\u001b[90m│  \u001b[39m %3  = Base.convert(Main.Int64, %2)\u001b[36m::Int64\u001b[39m\n",
      "\u001b[90m│  \u001b[39m       (Nm1 = Core.typeassert(%3, Main.Int64))\n",
      "\u001b[90m│  \u001b[39m %5  = (N + 1)\u001b[36m::Float64\u001b[39m\n",
      "\u001b[90m│  \u001b[39m %6  = Base.convert(Main.Int64, %5)\u001b[36m::Int64\u001b[39m\n",
      "\u001b[90m│  \u001b[39m       (Np1 = Core.typeassert(%6, Main.Int64))\n",
      "\u001b[90m│  \u001b[39m %8  = (1 / N)\u001b[36m::Float64\u001b[39m\n",
      "\u001b[90m│  \u001b[39m %9  = Base.convert(Main.Float64, %8)\u001b[36m::Float64\u001b[39m\n",
      "\u001b[90m│  \u001b[39m       (h = Core.typeassert(%9, Main.Float64))\n",
      "\u001b[90m│  \u001b[39m %11 = (h * h)\u001b[36m::Float64\u001b[39m\n",
      "\u001b[90m│  \u001b[39m %12 = Base.convert(Main.Float64, %11)\u001b[36m::Float64\u001b[39m\n",
      "\u001b[90m│  \u001b[39m       (h2 = Core.typeassert(%12, Main.Float64))\n",
      "\u001b[90m│  \u001b[39m %14 = Core.apply_type(Main.Vector, Main.Float64)\u001b[36m::Core.Const(Vector{Float64})\u001b[39m\n",
      "\u001b[90m│  \u001b[39m %15 = (-1 / h2)\u001b[36m::Float64\u001b[39m\n",
      "\u001b[90m│  \u001b[39m %16 = (2 / h2)\u001b[36m::Float64\u001b[39m\n",
      "\u001b[90m│  \u001b[39m %17 = (-1 / h2)\u001b[36m::Float64\u001b[39m\n",
      "\u001b[90m│  \u001b[39m %18 = Base.vect(%15, %16, %17)\u001b[36m::Vector{Float64}\u001b[39m\n",
      "\u001b[90m│  \u001b[39m       (stencil = (%14)(%18))\n",
      "\u001b[90m│  \u001b[39m       (I = Base.getindex(Main.Int64))\n",
      "\u001b[90m│  \u001b[39m %21 = I\u001b[36m::Vector{Int64}\u001b[39m\n",
      "\u001b[90m│  \u001b[39m %22 = (3 * Nm1)\u001b[36m::Int64\u001b[39m\n",
      "\u001b[90m│  \u001b[39m       Main.sizehint!(%21, %22)\n",
      "\u001b[90m│  \u001b[39m       (J = Base.getindex(Main.Int64))\n",
      "\u001b[90m│  \u001b[39m %25 = J\u001b[36m::Vector{Int64}\u001b[39m\n",
      "\u001b[90m│  \u001b[39m %26 = (3 * Nm1)\u001b[36m::Int64\u001b[39m\n",
      "\u001b[90m│  \u001b[39m       Main.sizehint!(%25, %26)\n",
      "\u001b[90m│  \u001b[39m       (vals = Base.getindex(Main.Float64))\n",
      "\u001b[90m│  \u001b[39m %29 = vals\u001b[36m::Vector{Float64}\u001b[39m\n",
      "\u001b[90m│  \u001b[39m %30 = (3 * Nm1)\u001b[36m::Int64\u001b[39m\n",
      "\u001b[90m│  \u001b[39m       Main.sizehint!(%29, %30)\n",
      "\u001b[90m│  \u001b[39m %32 = Core.apply_type(Main.Vector, Main.Int64)\u001b[36m::Core.Const(Vector{Int64})\u001b[39m\n",
      "\u001b[90m│  \u001b[39m %33 = (2:N)\u001b[36m::StepRangeLen{Float64, Base.TwicePrecision{Float64}, Base.TwicePrecision{Float64}, Int64}\u001b[39m\n",
      "\u001b[90m│  \u001b[39m       (intervalRows = (%32)(%33))\n",
      "\u001b[90m│  \u001b[39m %35 = intervalRows\u001b[36m::Vector{Int64}\u001b[39m\n",
      "\u001b[90m│  \u001b[39m       (@_3 = Base.iterate(%35))\n",
      "\u001b[90m│  \u001b[39m %37 = (@_3 === nothing)\u001b[36m::Bool\u001b[39m\n",
      "\u001b[90m│  \u001b[39m %38 = Base.not_int(%37)\u001b[36m::Bool\u001b[39m\n",
      "\u001b[90m└──\u001b[39m       goto #4 if not %38\n",
      "\u001b[90m2 ┄\u001b[39m %40 = @_3\u001b[36m::Tuple{Int64, Int64}\u001b[39m\n",
      "\u001b[90m│  \u001b[39m       (i = Core.getfield(%40, 1))\n",
      "\u001b[90m│  \u001b[39m %42 = Core.getfield(%40, 2)\u001b[36m::Int64\u001b[39m\n",
      "\u001b[90m│  \u001b[39m %43 = I\u001b[36m::Vector{Int64}\u001b[39m\n",
      "\u001b[90m│  \u001b[39m %44 = Base.vect(i, i, i)\u001b[36m::Vector{Int64}\u001b[39m\n",
      "\u001b[90m│  \u001b[39m       Main.append!(%43, %44)\n",
      "\u001b[90m│  \u001b[39m %46 = J\u001b[36m::Vector{Int64}\u001b[39m\n",
      "\u001b[90m│  \u001b[39m %47 = (i - 1)\u001b[36m::Int64\u001b[39m\n",
      "\u001b[90m│  \u001b[39m %48 = i\u001b[36m::Int64\u001b[39m\n",
      "\u001b[90m│  \u001b[39m %49 = (i + 1)\u001b[36m::Int64\u001b[39m\n",
      "\u001b[90m│  \u001b[39m %50 = Base.vect(%47, %48, %49)\u001b[36m::Vector{Int64}\u001b[39m\n",
      "\u001b[90m│  \u001b[39m       Main.append!(%46, %50)\n",
      "\u001b[90m│  \u001b[39m       Main.append!(vals, stencil)\n",
      "\u001b[90m│  \u001b[39m       (@_3 = Base.iterate(%35, %42))\n",
      "\u001b[90m│  \u001b[39m %54 = (@_3 === nothing)\u001b[36m::Bool\u001b[39m\n",
      "\u001b[90m│  \u001b[39m %55 = Base.not_int(%54)\u001b[36m::Bool\u001b[39m\n",
      "\u001b[90m└──\u001b[39m       goto #4 if not %55\n",
      "\u001b[90m3 ─\u001b[39m       goto #2\n",
      "\u001b[90m4 ┄\u001b[39m       (A = Main.sparse(I, J, vals, Np1, Np1))\n",
      "\u001b[90m│  \u001b[39m       Base.setindex!(A, 1, 1, 1)\n",
      "\u001b[90m│  \u001b[39m %60 = A\u001b[36m::SparseMatrixCSC{Float64, Int64}\u001b[39m\n",
      "\u001b[90m│  \u001b[39m %61 = Base.lastindex(A, 1)\u001b[36m::Int64\u001b[39m\n",
      "\u001b[90m│  \u001b[39m %62 = Base.lastindex(A, 2)\u001b[36m::Int64\u001b[39m\n",
      "\u001b[90m│  \u001b[39m       Base.setindex!(%60, 1, %61, %62)\n",
      "\u001b[90m│  \u001b[39m       Base.setindex!(A, 0, 2, 1)\n",
      "\u001b[90m│  \u001b[39m %65 = A\u001b[36m::SparseMatrixCSC{Float64, Int64}\u001b[39m\n",
      "\u001b[90m│  \u001b[39m %66 = Base.lastindex(A, 1)\u001b[36m::Int64\u001b[39m\n",
      "\u001b[90m│  \u001b[39m %67 = (%66 - 1)\u001b[36m::Int64\u001b[39m\n",
      "\u001b[90m│  \u001b[39m %68 = Base.lastindex(A, 2)\u001b[36m::Int64\u001b[39m\n",
      "\u001b[90m│  \u001b[39m       Base.setindex!(%65, 0, %67, %68)\n",
      "\u001b[90m└──\u001b[39m       return A\n",
      "\n"
     ]
    }
   ],
   "source": [
    "@code_warntype buildMat1D(5.);"
   ]
  },
  {
   "cell_type": "code",
   "execution_count": 25,
   "id": "eafcf027",
   "metadata": {},
   "outputs": [
    {
     "data": {
      "text/plain": [
       "BenchmarkTools.Trial: 10000 samples with 1 evaluation.\n",
       " Range \u001b[90m(\u001b[39m\u001b[36m\u001b[1mmin\u001b[22m\u001b[39m … \u001b[35mmax\u001b[39m\u001b[90m):  \u001b[39m\u001b[36m\u001b[1m 87.333 μs\u001b[22m\u001b[39m … \u001b[35m  5.549 ms\u001b[39m  \u001b[90m┊\u001b[39m GC \u001b[90m(\u001b[39mmin … max\u001b[90m): \u001b[39m 0.00% … 98.09%\n",
       " Time  \u001b[90m(\u001b[39m\u001b[34m\u001b[1mmedian\u001b[22m\u001b[39m\u001b[90m):     \u001b[39m\u001b[34m\u001b[1m 97.166 μs               \u001b[22m\u001b[39m\u001b[90m┊\u001b[39m GC \u001b[90m(\u001b[39mmedian\u001b[90m):    \u001b[39m 0.00%\n",
       " Time  \u001b[90m(\u001b[39m\u001b[32m\u001b[1mmean\u001b[22m\u001b[39m ± \u001b[32mσ\u001b[39m\u001b[90m):   \u001b[39m\u001b[32m\u001b[1m119.481 μs\u001b[22m\u001b[39m ± \u001b[32m289.167 μs\u001b[39m  \u001b[90m┊\u001b[39m GC \u001b[90m(\u001b[39mmean ± σ\u001b[90m):  \u001b[39m17.06% ±  6.86%\n",
       "\n",
       "  \u001b[39m \u001b[39m \u001b[39m \u001b[39m \u001b[39m \u001b[39m \u001b[39m \u001b[39m \u001b[39m \u001b[39m \u001b[39m▂\u001b[39m▇\u001b[39m█\u001b[34m▄\u001b[39m\u001b[39m \u001b[39m \u001b[39m \u001b[39m \u001b[39m \u001b[39m \u001b[39m \u001b[39m \u001b[39m \u001b[39m \u001b[39m \u001b[39m \u001b[39m \u001b[39m \u001b[39m \u001b[39m \u001b[39m \u001b[39m \u001b[39m \u001b[39m \u001b[39m \u001b[39m \u001b[39m \u001b[39m \u001b[39m \u001b[39m \u001b[39m \u001b[39m \u001b[32m \u001b[39m\u001b[39m \u001b[39m \u001b[39m \u001b[39m \u001b[39m \u001b[39m \u001b[39m \u001b[39m \u001b[39m \u001b[39m \u001b[39m \u001b[39m \u001b[39m \u001b[39m \u001b[39m \u001b[39m \u001b[39m \u001b[39m \u001b[39m \u001b[39m \n",
       "  \u001b[39m▁\u001b[39m▂\u001b[39m▂\u001b[39m▂\u001b[39m▂\u001b[39m▂\u001b[39m▂\u001b[39m▂\u001b[39m▃\u001b[39m▆\u001b[39m█\u001b[39m█\u001b[39m█\u001b[34m█\u001b[39m\u001b[39m▇\u001b[39m▅\u001b[39m▄\u001b[39m▄\u001b[39m▃\u001b[39m▃\u001b[39m▃\u001b[39m▃\u001b[39m▂\u001b[39m▂\u001b[39m▂\u001b[39m▂\u001b[39m▂\u001b[39m▂\u001b[39m▂\u001b[39m▂\u001b[39m▂\u001b[39m▂\u001b[39m▂\u001b[39m▁\u001b[39m▁\u001b[39m▁\u001b[39m▁\u001b[39m▁\u001b[39m▁\u001b[39m▁\u001b[39m▁\u001b[39m▁\u001b[32m▁\u001b[39m\u001b[39m▁\u001b[39m▁\u001b[39m▁\u001b[39m▁\u001b[39m▁\u001b[39m▁\u001b[39m▁\u001b[39m▁\u001b[39m▁\u001b[39m▁\u001b[39m▁\u001b[39m▁\u001b[39m▁\u001b[39m▁\u001b[39m▁\u001b[39m▁\u001b[39m▁\u001b[39m▁\u001b[39m \u001b[39m▂\n",
       "  87.3 μs\u001b[90m          Histogram: frequency by time\u001b[39m          134 μs \u001b[0m\u001b[1m<\u001b[22m\n",
       "\n",
       " Memory estimate\u001b[90m: \u001b[39m\u001b[33m469.92 KiB\u001b[39m, allocs estimate\u001b[90m: \u001b[39m\u001b[33m2023\u001b[39m."
      ]
     },
     "execution_count": 25,
     "metadata": {},
     "output_type": "execute_result"
    }
   ],
   "source": [
    "@benchmark buildMat1D(1000)"
   ]
  },
  {
   "cell_type": "markdown",
   "id": "8f20f33f",
   "metadata": {},
   "source": [
    "### Section 1.2: Construction of the Right-Hand Side Vector"
   ]
  },
  {
   "cell_type": "code",
   "execution_count": 22,
   "id": "13364bca",
   "metadata": {},
   "outputs": [
    {
     "data": {
      "text/plain": [
       "buildRhs1D (generic function with 1 method)"
      ]
     },
     "execution_count": 22,
     "metadata": {},
     "output_type": "execute_result"
    }
   ],
   "source": [
    "function buildRhs1D(N::Int64,sourceFct::Function)\n",
    "  h = 1/N;\n",
    "  x = Vector(0:h:1)\n",
    "  #..Build vector for interior rows \n",
    "  f = sourceFct(x)\n",
    "  #..Build matrix for boundary rows\n",
    "  f[1] = 0; f[end] = 0; \n",
    "  return f \n",
    "end "
   ]
  },
  {
   "cell_type": "code",
   "execution_count": 20,
   "id": "cedf5112",
   "metadata": {},
   "outputs": [
    {
     "data": {
      "text/plain": [
       "sourceFct (generic function with 1 method)"
      ]
     },
     "execution_count": 20,
     "metadata": {},
     "output_type": "execute_result"
    }
   ],
   "source": [
    "sourceFct(x)= x.*sin.(π*x)"
   ]
  },
  {
   "cell_type": "code",
   "execution_count": 33,
   "id": "fc6d19b2",
   "metadata": {},
   "outputs": [
    {
     "data": {
      "text/plain": [
       "SparseMatrixCSC{Float64, Int64}"
      ]
     },
     "execution_count": 33,
     "metadata": {},
     "output_type": "execute_result"
    }
   ],
   "source": [
    "f = buildRhs1D(5,sourceFct);\n",
    "typeof(A)"
   ]
  },
  {
   "cell_type": "code",
   "execution_count": 33,
   "id": "8be0ceaa",
   "metadata": {},
   "outputs": [
    {
     "name": "stdout",
     "output_type": "stream",
     "text": [
      "MethodInstance for buildRhs1D(::Int64, ::typeof(sourceFct))\n",
      "  from buildRhs1D(N::Int64, sourceFct::Function) in Main at In[30]:1\n",
      "Arguments\n",
      "  #self#\u001b[36m::Core.Const(buildRhs1D)\u001b[39m\n",
      "  N\u001b[36m::Int64\u001b[39m\n",
      "  sourceFct\u001b[36m::Core.Const(sourceFct)\u001b[39m\n",
      "Locals\n",
      "  f\u001b[36m::Vector{Float64}\u001b[39m\n",
      "  x\u001b[36m::Vector{Float64}\u001b[39m\n",
      "  h\u001b[36m::Float64\u001b[39m\n",
      "Body\u001b[36m::Vector{Float64}\u001b[39m\n",
      "\u001b[90m1 ─\u001b[39m      (h = 1 / N)\n",
      "\u001b[90m│  \u001b[39m %2 = (0:h:1)\u001b[36m::StepRangeLen{Float64, Base.TwicePrecision{Float64}, Base.TwicePrecision{Float64}, Int64}\u001b[39m\n",
      "\u001b[90m│  \u001b[39m      (x = Main.Vector(%2))\n",
      "\u001b[90m│  \u001b[39m      (f = (sourceFct)(x))\n",
      "\u001b[90m│  \u001b[39m      Base.setindex!(f, 0, 1)\n",
      "\u001b[90m│  \u001b[39m %6 = f\u001b[36m::Vector{Float64}\u001b[39m\n",
      "\u001b[90m│  \u001b[39m %7 = Base.lastindex(f)\u001b[36m::Int64\u001b[39m\n",
      "\u001b[90m│  \u001b[39m      Base.setindex!(%6, 0, %7)\n",
      "\u001b[90m└──\u001b[39m      return f\n",
      "\n"
     ]
    }
   ],
   "source": [
    "@code_warntype buildRhs1D(5,sourceFct)"
   ]
  },
  {
   "cell_type": "code",
   "execution_count": 34,
   "id": "945b3fd8",
   "metadata": {},
   "outputs": [
    {
     "data": {
      "text/plain": [
       "BenchmarkTools.Trial: 10000 samples with 5 evaluations.\n",
       " Range \u001b[90m(\u001b[39m\u001b[36m\u001b[1mmin\u001b[22m\u001b[39m … \u001b[35mmax\u001b[39m\u001b[90m):  \u001b[39m\u001b[36m\u001b[1m6.017 μs\u001b[22m\u001b[39m … \u001b[35m 1.082 ms\u001b[39m  \u001b[90m┊\u001b[39m GC \u001b[90m(\u001b[39mmin … max\u001b[90m): \u001b[39m 0.00% … 99.30%\n",
       " Time  \u001b[90m(\u001b[39m\u001b[34m\u001b[1mmedian\u001b[22m\u001b[39m\u001b[90m):     \u001b[39m\u001b[34m\u001b[1m7.542 μs              \u001b[22m\u001b[39m\u001b[90m┊\u001b[39m GC \u001b[90m(\u001b[39mmedian\u001b[90m):    \u001b[39m 0.00%\n",
       " Time  \u001b[90m(\u001b[39m\u001b[32m\u001b[1mmean\u001b[22m\u001b[39m ± \u001b[32mσ\u001b[39m\u001b[90m):   \u001b[39m\u001b[32m\u001b[1m8.621 μs\u001b[22m\u001b[39m ± \u001b[32m31.902 μs\u001b[39m  \u001b[90m┊\u001b[39m GC \u001b[90m(\u001b[39mmean ± σ\u001b[90m):  \u001b[39m12.26% ±  3.29%\n",
       "\n",
       "  \u001b[39m▁\u001b[39m▃\u001b[39m▁\u001b[39m \u001b[39m \u001b[39m \u001b[39m \u001b[39m \u001b[39m \u001b[39m \u001b[39m \u001b[39m \u001b[39m \u001b[39m \u001b[39m \u001b[39m \u001b[39m▁\u001b[39m▃\u001b[39m▄\u001b[39m▅\u001b[39m▇\u001b[39m▇\u001b[39m█\u001b[39m█\u001b[34m▇\u001b[39m\u001b[39m▇\u001b[39m▇\u001b[39m▆\u001b[39m▅\u001b[39m▅\u001b[39m▄\u001b[39m▃\u001b[39m▂\u001b[39m▁\u001b[39m▁\u001b[39m \u001b[39m \u001b[39m \u001b[39m \u001b[39m \u001b[39m \u001b[32m \u001b[39m\u001b[39m \u001b[39m \u001b[39m \u001b[39m \u001b[39m \u001b[39m \u001b[39m \u001b[39m \u001b[39m \u001b[39m \u001b[39m \u001b[39m \u001b[39m \u001b[39m \u001b[39m \u001b[39m \u001b[39m \u001b[39m▃\n",
       "  \u001b[39m█\u001b[39m█\u001b[39m█\u001b[39m█\u001b[39m█\u001b[39m█\u001b[39m▇\u001b[39m▇\u001b[39m█\u001b[39m█\u001b[39m█\u001b[39m▇\u001b[39m▆\u001b[39m▇\u001b[39m▇\u001b[39m█\u001b[39m█\u001b[39m█\u001b[39m█\u001b[39m█\u001b[39m█\u001b[39m█\u001b[39m█\u001b[39m█\u001b[34m█\u001b[39m\u001b[39m█\u001b[39m█\u001b[39m█\u001b[39m█\u001b[39m█\u001b[39m█\u001b[39m█\u001b[39m█\u001b[39m█\u001b[39m█\u001b[39m█\u001b[39m█\u001b[39m▇\u001b[39m█\u001b[39m▆\u001b[39m▄\u001b[32m▅\u001b[39m\u001b[39m▄\u001b[39m▄\u001b[39m▅\u001b[39m▅\u001b[39m▅\u001b[39m▄\u001b[39m▂\u001b[39m▄\u001b[39m▆\u001b[39m▆\u001b[39m▆\u001b[39m▆\u001b[39m▇\u001b[39m▆\u001b[39m▆\u001b[39m▆\u001b[39m \u001b[39m█\n",
       "  6.02 μs\u001b[90m      \u001b[39m\u001b[90mHistogram: \u001b[39m\u001b[90m\u001b[1mlog(\u001b[22m\u001b[39m\u001b[90mfrequency\u001b[39m\u001b[90m\u001b[1m)\u001b[22m\u001b[39m\u001b[90m by time\u001b[39m     9.72 μs \u001b[0m\u001b[1m<\u001b[22m\n",
       "\n",
       " Memory estimate\u001b[90m: \u001b[39m\u001b[33m24.00 KiB\u001b[39m, allocs estimate\u001b[90m: \u001b[39m\u001b[33m3\u001b[39m."
      ]
     },
     "execution_count": 34,
     "metadata": {},
     "output_type": "execute_result"
    }
   ],
   "source": [
    "@benchmark buildRhs1D(1000,sourceFct)"
   ]
  },
  {
   "cell_type": "markdown",
   "id": "d8933541",
   "metadata": {},
   "source": [
    "### Section 1.3: Solve the Linear System - Default Versions \n",
    "Here we employ a sparse direct solver. "
   ]
  },
  {
   "cell_type": "code",
   "execution_count": 25,
   "id": "235bcd50",
   "metadata": {},
   "outputs": [
    {
     "data": {
      "text/plain": [
       "solvePoisson1D (generic function with 1 method)"
      ]
     },
     "execution_count": 25,
     "metadata": {},
     "output_type": "execute_result"
    }
   ],
   "source": [
    "function solvePoisson1D(N::Int64,sourceFct::Function)\n",
    "  A = buildMat1D(N);\n",
    "  f = buildRhs1D(N,sourceFct)\n",
    "  u = A\\f \n",
    "  return u \n",
    "end"
   ]
  },
  {
   "cell_type": "code",
   "execution_count": 26,
   "id": "3939f0ba",
   "metadata": {},
   "outputs": [
    {
     "data": {
      "text/plain": [
       "BenchmarkTools.Trial: 10000 samples with 1 evaluation.\n",
       " Range \u001b[90m(\u001b[39m\u001b[36m\u001b[1mmin\u001b[22m\u001b[39m … \u001b[35mmax\u001b[39m\u001b[90m):  \u001b[39m\u001b[36m\u001b[1m282.958 μs\u001b[22m\u001b[39m … \u001b[35m  9.458 ms\u001b[39m  \u001b[90m┊\u001b[39m GC \u001b[90m(\u001b[39mmin … max\u001b[90m): \u001b[39m0.00% … 81.18%\n",
       " Time  \u001b[90m(\u001b[39m\u001b[34m\u001b[1mmedian\u001b[22m\u001b[39m\u001b[90m):     \u001b[39m\u001b[34m\u001b[1m307.000 μs               \u001b[22m\u001b[39m\u001b[90m┊\u001b[39m GC \u001b[90m(\u001b[39mmedian\u001b[90m):    \u001b[39m0.00%\n",
       " Time  \u001b[90m(\u001b[39m\u001b[32m\u001b[1mmean\u001b[22m\u001b[39m ± \u001b[32mσ\u001b[39m\u001b[90m):   \u001b[39m\u001b[32m\u001b[1m356.168 μs\u001b[22m\u001b[39m ± \u001b[32m490.612 μs\u001b[39m  \u001b[90m┊\u001b[39m GC \u001b[90m(\u001b[39mmean ± σ\u001b[90m):  \u001b[39m9.81% ±  6.73%\n",
       "\n",
       "  \u001b[39m \u001b[39m \u001b[39m \u001b[39m \u001b[39m \u001b[39m \u001b[39m \u001b[39m▅\u001b[39m█\u001b[39m▆\u001b[34m▄\u001b[39m\u001b[39m▂\u001b[39m \u001b[39m \u001b[39m \u001b[39m \u001b[39m \u001b[39m \u001b[39m \u001b[39m \u001b[39m \u001b[39m \u001b[39m \u001b[39m \u001b[39m \u001b[39m \u001b[39m \u001b[39m \u001b[39m \u001b[39m \u001b[32m \u001b[39m\u001b[39m \u001b[39m \u001b[39m \u001b[39m \u001b[39m \u001b[39m \u001b[39m \u001b[39m \u001b[39m \u001b[39m \u001b[39m \u001b[39m \u001b[39m \u001b[39m \u001b[39m \u001b[39m \u001b[39m \u001b[39m \u001b[39m \u001b[39m \u001b[39m \u001b[39m \u001b[39m \u001b[39m \u001b[39m \u001b[39m \u001b[39m \u001b[39m \u001b[39m \u001b[39m \u001b[39m \u001b[39m \n",
       "  \u001b[39m▄\u001b[39m▆\u001b[39m▄\u001b[39m▅\u001b[39m▅\u001b[39m▅\u001b[39m▆\u001b[39m█\u001b[39m█\u001b[39m█\u001b[34m█\u001b[39m\u001b[39m█\u001b[39m█\u001b[39m▇\u001b[39m▆\u001b[39m▆\u001b[39m▅\u001b[39m▅\u001b[39m▄\u001b[39m▄\u001b[39m▃\u001b[39m▃\u001b[39m▃\u001b[39m▃\u001b[39m▃\u001b[39m▃\u001b[39m▃\u001b[39m▃\u001b[39m▂\u001b[39m▂\u001b[32m▂\u001b[39m\u001b[39m▂\u001b[39m▂\u001b[39m▂\u001b[39m▂\u001b[39m▂\u001b[39m▂\u001b[39m▂\u001b[39m▂\u001b[39m▂\u001b[39m▂\u001b[39m▁\u001b[39m▂\u001b[39m▂\u001b[39m▂\u001b[39m▂\u001b[39m▂\u001b[39m▂\u001b[39m▂\u001b[39m▂\u001b[39m▂\u001b[39m▁\u001b[39m▂\u001b[39m▂\u001b[39m▂\u001b[39m▁\u001b[39m▂\u001b[39m▂\u001b[39m▁\u001b[39m▁\u001b[39m▂\u001b[39m \u001b[39m▃\n",
       "  283 μs\u001b[90m           Histogram: frequency by time\u001b[39m          430 μs \u001b[0m\u001b[1m<\u001b[22m\n",
       "\n",
       " Memory estimate\u001b[90m: \u001b[39m\u001b[33m902.95 KiB\u001b[39m, allocs estimate\u001b[90m: \u001b[39m\u001b[33m2087\u001b[39m."
      ]
     },
     "execution_count": 26,
     "metadata": {},
     "output_type": "execute_result"
    }
   ],
   "source": [
    "@benchmark solvePoisson1D(1000,sourceFct)"
   ]
  },
  {
   "cell_type": "code",
   "execution_count": 34,
   "id": "6a25fcaf",
   "metadata": {},
   "outputs": [
    {
     "data": {
      "text/html": [
       "# 1 method for generic function <b>\\</b>:<ul><li> \\(A::<b>SparseArrays.AbstractSparseMatrixCSC</b>, B::<b>AbstractVecOrMat</b>) in SparseArrays at <a href=\"file:///Users/julia/.julia/scratchspaces/a66863c6-20e8-4ff4-8a62-49f30b1f605e/agent-cache/default-macmini-aarch64-5.0/build/default-macmini-aarch64-5-0/julialang/julia-release-1-dot-8/usr/share/julia/stdlib/v1.8/SparseArrays/src/linalg.jl\" target=\"_blank\">/Applications/Julia-1.8.app/Contents/Resources/julia/share/julia/stdlib/v1.8/SparseArrays/src/linalg.jl:1548</a></li> </ul>"
      ],
      "text/plain": [
       "# 1 method for generic function \"\\\":\n",
       "[1] \\(A::SparseArrays.AbstractSparseMatrixCSC, B::AbstractVecOrMat) in SparseArrays at /Applications/Julia-1.8.app/Contents/Resources/julia/share/julia/stdlib/v1.8/SparseArrays/src/linalg.jl:1548"
      ]
     },
     "execution_count": 34,
     "metadata": {},
     "output_type": "execute_result"
    }
   ],
   "source": [
    "# algorithm being used to solve the linear system \n",
    "# use edit(\"/Applications/Julia-1.8.app/Contents/Resources/julia/share/julia/stdlib/v1.8/SparseArrays/src/linalg.jl:1548\")\n",
    "# to view the source code \n",
    "methods(\\, (SparseMatrixCSC{Float64, Int64}, Vector{Float64}))"
   ]
  },
  {
   "cell_type": "markdown",
   "id": "59fe2842",
   "metadata": {},
   "source": [
    "### Section 1.4: Solve the Linear System - Alternative Versions \n",
    "Here we employ a dense direct solver. "
   ]
  },
  {
   "cell_type": "code",
   "execution_count": 29,
   "id": "05ef8614",
   "metadata": {},
   "outputs": [
    {
     "data": {
      "text/plain": [
       "solvePoisson1D (generic function with 1 method)"
      ]
     },
     "execution_count": 29,
     "metadata": {},
     "output_type": "execute_result"
    }
   ],
   "source": [
    "function solvePoisson1D(N::Int64,sourceFct::Function)\n",
    "  A = buildMat1D(N);\n",
    "  B = Matrix(A)\n",
    "  f = buildRhs1D(N,sourceFct)\n",
    "  u = B\\f \n",
    "  return u \n",
    "end"
   ]
  },
  {
   "cell_type": "code",
   "execution_count": 30,
   "id": "d2b74350",
   "metadata": {},
   "outputs": [
    {
     "data": {
      "text/plain": [
       "BenchmarkTools.Trial: 184 samples with 1 evaluation.\n",
       " Range \u001b[90m(\u001b[39m\u001b[36m\u001b[1mmin\u001b[22m\u001b[39m … \u001b[35mmax\u001b[39m\u001b[90m):  \u001b[39m\u001b[36m\u001b[1m10.585 ms\u001b[22m\u001b[39m … \u001b[35m248.194 ms\u001b[39m  \u001b[90m┊\u001b[39m GC \u001b[90m(\u001b[39mmin … max\u001b[90m): \u001b[39m0.00% … 0.00%\n",
       " Time  \u001b[90m(\u001b[39m\u001b[34m\u001b[1mmedian\u001b[22m\u001b[39m\u001b[90m):     \u001b[39m\u001b[34m\u001b[1m16.441 ms               \u001b[22m\u001b[39m\u001b[90m┊\u001b[39m GC \u001b[90m(\u001b[39mmedian\u001b[90m):    \u001b[39m0.00%\n",
       " Time  \u001b[90m(\u001b[39m\u001b[32m\u001b[1mmean\u001b[22m\u001b[39m ± \u001b[32mσ\u001b[39m\u001b[90m):   \u001b[39m\u001b[32m\u001b[1m27.204 ms\u001b[22m\u001b[39m ± \u001b[32m 29.754 ms\u001b[39m  \u001b[90m┊\u001b[39m GC \u001b[90m(\u001b[39mmean ± σ\u001b[90m):  \u001b[39m2.50% ± 6.99%\n",
       "\n",
       "  \u001b[39m█\u001b[39m▅\u001b[34m▅\u001b[39m\u001b[39m▂\u001b[39m▁\u001b[39m \u001b[39m \u001b[32m▂\u001b[39m\u001b[39m \u001b[39m▃\u001b[39m \u001b[39m \u001b[39m \u001b[39m \u001b[39m \u001b[39m \u001b[39m \u001b[39m \u001b[39m \u001b[39m \u001b[39m \u001b[39m \u001b[39m \u001b[39m \u001b[39m \u001b[39m \u001b[39m \u001b[39m \u001b[39m \u001b[39m \u001b[39m \u001b[39m \u001b[39m \u001b[39m \u001b[39m \u001b[39m \u001b[39m \u001b[39m \u001b[39m \u001b[39m \u001b[39m \u001b[39m \u001b[39m \u001b[39m \u001b[39m \u001b[39m \u001b[39m \u001b[39m \u001b[39m \u001b[39m \u001b[39m \u001b[39m \u001b[39m \u001b[39m \u001b[39m \u001b[39m \u001b[39m \u001b[39m \u001b[39m \u001b[39m \u001b[39m \u001b[39m \n",
       "  \u001b[39m█\u001b[39m█\u001b[34m█\u001b[39m\u001b[39m█\u001b[39m█\u001b[39m▇\u001b[39m█\u001b[32m█\u001b[39m\u001b[39m█\u001b[39m█\u001b[39m▇\u001b[39m▇\u001b[39m█\u001b[39m▆\u001b[39m▄\u001b[39m▄\u001b[39m▆\u001b[39m▁\u001b[39m▄\u001b[39m▄\u001b[39m▄\u001b[39m▁\u001b[39m▁\u001b[39m▄\u001b[39m▁\u001b[39m▁\u001b[39m▄\u001b[39m▄\u001b[39m▆\u001b[39m▄\u001b[39m▁\u001b[39m▄\u001b[39m▁\u001b[39m▁\u001b[39m▁\u001b[39m▁\u001b[39m▄\u001b[39m▁\u001b[39m▁\u001b[39m▁\u001b[39m▁\u001b[39m▁\u001b[39m▄\u001b[39m▁\u001b[39m▁\u001b[39m▁\u001b[39m▁\u001b[39m▁\u001b[39m▁\u001b[39m▁\u001b[39m▁\u001b[39m▁\u001b[39m▁\u001b[39m▁\u001b[39m▁\u001b[39m▁\u001b[39m▁\u001b[39m▁\u001b[39m▁\u001b[39m▄\u001b[39m \u001b[39m▄\n",
       "  10.6 ms\u001b[90m       \u001b[39m\u001b[90mHistogram: \u001b[39m\u001b[90m\u001b[1mlog(\u001b[22m\u001b[39m\u001b[90mfrequency\u001b[39m\u001b[90m\u001b[1m)\u001b[22m\u001b[39m\u001b[90m by time\u001b[39m       158 ms \u001b[0m\u001b[1m<\u001b[22m\n",
       "\n",
       " Memory estimate\u001b[90m: \u001b[39m\u001b[33m15.79 MiB\u001b[39m, allocs estimate\u001b[90m: \u001b[39m\u001b[33m2033\u001b[39m."
      ]
     },
     "execution_count": 30,
     "metadata": {},
     "output_type": "execute_result"
    }
   ],
   "source": [
    "@benchmark solvePoisson1D(1000,sourceFct)"
   ]
  },
  {
   "cell_type": "code",
   "execution_count": 35,
   "id": "4a4991b9",
   "metadata": {},
   "outputs": [
    {
     "data": {
      "text/html": [
       "# 1 method for generic function <b>\\</b>:<ul><li> \\(A::<b>AbstractMatrix</b>, B::<b>AbstractVecOrMat</b>) in LinearAlgebra at <a href=\"file:///Users/julia/.julia/scratchspaces/a66863c6-20e8-4ff4-8a62-49f30b1f605e/agent-cache/default-macmini-aarch64-5.0/build/default-macmini-aarch64-5-0/julialang/julia-release-1-dot-8/usr/share/julia/stdlib/v1.8/LinearAlgebra/src/generic.jl\" target=\"_blank\">/Applications/Julia-1.8.app/Contents/Resources/julia/share/julia/stdlib/v1.8/LinearAlgebra/src/generic.jl:1096</a></li> </ul>"
      ],
      "text/plain": [
       "# 1 method for generic function \"\\\":\n",
       "[1] \\(A::AbstractMatrix, B::AbstractVecOrMat) in LinearAlgebra at /Applications/Julia-1.8.app/Contents/Resources/julia/share/julia/stdlib/v1.8/LinearAlgebra/src/generic.jl:1096"
      ]
     },
     "execution_count": 35,
     "metadata": {},
     "output_type": "execute_result"
    }
   ],
   "source": [
    "# algorithm being used to solve the linear system \n",
    "methods(\\, (Matrix{Float64}, Vector{Float64}))"
   ]
  },
  {
   "cell_type": "code",
   "execution_count": null,
   "id": "737b60a9",
   "metadata": {},
   "outputs": [],
   "source": []
  }
 ],
 "metadata": {
  "kernelspec": {
   "display_name": "Julia 1.8.1",
   "language": "julia",
   "name": "julia-1.8"
  },
  "language_info": {
   "file_extension": ".jl",
   "mimetype": "application/julia",
   "name": "julia",
   "version": "1.8.1"
  }
 },
 "nbformat": 4,
 "nbformat_minor": 5
}
