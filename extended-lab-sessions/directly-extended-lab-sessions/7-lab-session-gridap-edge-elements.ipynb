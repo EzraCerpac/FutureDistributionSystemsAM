{
 "cells": [
  {
   "cell_type": "markdown",
   "id": "ad3a7c03",
   "metadata": {},
   "source": [
    "# Edge Elements using Gridap "
   ]
  },
  {
   "cell_type": "code",
   "execution_count": null,
   "id": "7643478a",
   "metadata": {},
   "outputs": [],
   "source": [
    "using Gridap\n",
    "using GridapODEs\n",
    "using GridapMakie, GLMakie\n",
    "using LinearAlgebra\n",
    "using FileIO\n",
    "using GridapGmsh\n",
    "using gmsh\n",
    "\n",
    "model = GmshDiscreteModel(\"modelos/cubo_esfera_tet.msh\")\n",
    "\n",
    "Ω = Triangulation(model)\n",
    "degree = 3\n",
    "dΩ = Measure(Ω,degree)\n",
    "\n",
    "B0=1.\n",
    "A0_x(x)=-(B0/2.)*x[2]\n",
    "A0_y(x)=(B0/2.)*x[1]\n",
    "\n",
    "dirichlet_tags=[\"ext\"]\n",
    "dirichlet_values(x) = VectorValue(A0_x(x),A0_y(x),0.0)\n",
    "\n",
    "\n",
    "order = 0\n",
    "reffe = ReferenceFE(nedelec,Float64,order)\n",
    "V = FESpace(model, reffe, conformity=:HCurl, dirichlet_tags=dirichlet_tags)\n",
    "\n",
    "U= TrialFESpace(V,dirichlet_values)\n",
    "\n",
    "f=VectorValue(1.,1.,1.)# #Source\n",
    "\n",
    "a(u,v) =  ∫( (∇ × v)⋅(∇ × u))*dΩ\n",
    "b(v) =  ∫(f ⋅v)dΩ \n",
    "\n",
    "op = AffineFEOperator(a,b,U,V)\n",
    "\n",
    "ls = LUSolver()\n",
    "solver = LinearFESolver(ls)\n",
    "\n",
    "uh, = solve(solver,op)"
   ]
  }
 ],
 "metadata": {
  "kernelspec": {
   "display_name": "Julia 1.8.1",
   "language": "julia",
   "name": "julia-1.8"
  },
  "language_info": {
   "file_extension": ".jl",
   "mimetype": "application/julia",
   "name": "julia",
   "version": "1.8.1"
  }
 },
 "nbformat": 4,
 "nbformat_minor": 5
}
