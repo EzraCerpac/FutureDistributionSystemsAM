{
 "cells": [
  {
   "cell_type": "markdown",
   "id": "f465a445",
   "metadata": {},
   "source": [
    "# EE4375-2022: Second Lab Session: Matrix Build "
   ]
  },
  {
   "cell_type": "markdown",
   "id": "74e5abda",
   "metadata": {},
   "source": [
    "## Import Packages  "
   ]
  },
  {
   "cell_type": "code",
   "execution_count": 1,
   "id": "d01480a6",
   "metadata": {},
   "outputs": [],
   "source": [
    "using LinearAlgebra \n",
    "using SparseArrays \n",
    "\n",
    "using IterativeSolvers\n",
    "using Preconditioners\n",
    "\n",
    "using BenchmarkTools\n",
    "using Profile\n",
    "using ProfileView\n",
    "\n",
    "using Plots "
   ]
  },
  {
   "cell_type": "markdown",
   "id": "9b0c3e72",
   "metadata": {},
   "source": [
    "## Section 1: Build Linear System as Sparse From the Start"
   ]
  },
  {
   "cell_type": "code",
   "execution_count": 2,
   "id": "e30a1a49",
   "metadata": {},
   "outputs": [
    {
     "data": {
      "text/plain": [
       "buildMat1D (generic function with 1 method)"
      ]
     },
     "execution_count": 2,
     "metadata": {},
     "output_type": "execute_result"
    }
   ],
   "source": [
    "function buildMat1D(N::Int64)\n",
    "  Nm1::Int64 = N-1; Np1::Int64 = N+1 \n",
    "  h::Float64 = 1/N; h2::Float64 = h*h; \n",
    "  stencil = Vector{Float64}([-1/h2, 2/h2, -1/h2]);\n",
    "  #..Allocate row, column and value vector \n",
    "  I = Int64[]; sizehint!(I, 3*Nm1); \n",
    "  J = Int64[]; sizehint!(J, 3*Nm1); \n",
    "  vals=Float64[]; sizehint!(vals, 3*Nm1);\n",
    "  intervalRows = Vector{Int64}(2:N);\n",
    "  for i in intervalRows \n",
    "    append!(I, [i,i,i])\n",
    "    append!(J, [i-1,i,i+1])\n",
    "    append!(vals,stencil) \n",
    "  end \n",
    "  #..Build matrix for interior rows   \n",
    "  A = sparse(I,J,vals,Np1,Np1)\n",
    "  #..Build matrix for boundary rows\n",
    "  A[1,1] = 1; A[end,end]=1; A[2,1] =0; A[end-1,end]=0; \n",
    "  return A \n",
    "end "
   ]
  },
  {
   "cell_type": "code",
   "execution_count": 3,
   "id": "fb7502c2",
   "metadata": {},
   "outputs": [
    {
     "data": {
      "text/plain": [
       "5×5 SparseMatrixCSC{Float64, Int64} with 11 stored entries:\n",
       " 1.0     ⋅      ⋅      ⋅    ⋅ \n",
       " 0.0   32.0  -16.0     ⋅    ⋅ \n",
       "  ⋅   -16.0   32.0  -16.0   ⋅ \n",
       "  ⋅      ⋅   -16.0   32.0  0.0\n",
       "  ⋅      ⋅      ⋅      ⋅   1.0"
      ]
     },
     "execution_count": 3,
     "metadata": {},
     "output_type": "execute_result"
    }
   ],
   "source": [
    "buildMat1D(4)"
   ]
  },
  {
   "cell_type": "code",
   "execution_count": 4,
   "id": "13013956",
   "metadata": {},
   "outputs": [
    {
     "name": "stdout",
     "output_type": "stream",
     "text": [
      "MethodInstance for buildMat1D(::Int64)\n",
      "  from buildMat1D(N::Int64) in Main at In[2]:1\n",
      "Arguments\n",
      "  #self#\u001b[36m::Core.Const(buildMat1D)\u001b[39m\n",
      "  N\u001b[36m::Int64\u001b[39m\n",
      "Locals\n",
      "  @_3\u001b[33m\u001b[1m::Union{Nothing, Tuple{Int64, Int64}}\u001b[22m\u001b[39m\n",
      "  A\u001b[36m::SparseMatrixCSC{Float64, Int64}\u001b[39m\n",
      "  intervalRows\u001b[36m::Vector{Int64}\u001b[39m\n",
      "  vals\u001b[36m::Vector{Float64}\u001b[39m\n",
      "  J\u001b[36m::Vector{Int64}\u001b[39m\n",
      "  I\u001b[36m::Vector{Int64}\u001b[39m\n",
      "  stencil\u001b[36m::Vector{Float64}\u001b[39m\n",
      "  h2\u001b[36m::Float64\u001b[39m\n",
      "  h\u001b[36m::Float64\u001b[39m\n",
      "  Np1\u001b[36m::Int64\u001b[39m\n",
      "  Nm1\u001b[36m::Int64\u001b[39m\n",
      "  i\u001b[36m::Int64\u001b[39m\n",
      "Body\u001b[36m::SparseMatrixCSC{Float64, Int64}\u001b[39m\n",
      "\u001b[90m1 ─\u001b[39m       Core.NewvarNode(:(A))\n",
      "\u001b[90m│  \u001b[39m %2  = (N - 1)\u001b[36m::Int64\u001b[39m\n",
      "\u001b[90m│  \u001b[39m %3  = Base.convert(Main.Int64, %2)\u001b[36m::Int64\u001b[39m\n",
      "\u001b[90m│  \u001b[39m       (Nm1 = Core.typeassert(%3, Main.Int64))\n",
      "\u001b[90m│  \u001b[39m %5  = (N + 1)\u001b[36m::Int64\u001b[39m\n",
      "\u001b[90m│  \u001b[39m %6  = Base.convert(Main.Int64, %5)\u001b[36m::Int64\u001b[39m\n",
      "\u001b[90m│  \u001b[39m       (Np1 = Core.typeassert(%6, Main.Int64))\n",
      "\u001b[90m│  \u001b[39m %8  = (1 / N)\u001b[36m::Float64\u001b[39m\n",
      "\u001b[90m│  \u001b[39m %9  = Base.convert(Main.Float64, %8)\u001b[36m::Float64\u001b[39m\n",
      "\u001b[90m│  \u001b[39m       (h = Core.typeassert(%9, Main.Float64))\n",
      "\u001b[90m│  \u001b[39m %11 = (h * h)\u001b[36m::Float64\u001b[39m\n",
      "\u001b[90m│  \u001b[39m %12 = Base.convert(Main.Float64, %11)\u001b[36m::Float64\u001b[39m\n",
      "\u001b[90m│  \u001b[39m       (h2 = Core.typeassert(%12, Main.Float64))\n",
      "\u001b[90m│  \u001b[39m %14 = Core.apply_type(Main.Vector, Main.Float64)\u001b[36m::Core.Const(Vector{Float64})\u001b[39m\n",
      "\u001b[90m│  \u001b[39m %15 = (-1 / h2)\u001b[36m::Float64\u001b[39m\n",
      "\u001b[90m│  \u001b[39m %16 = (2 / h2)\u001b[36m::Float64\u001b[39m\n",
      "\u001b[90m│  \u001b[39m %17 = (-1 / h2)\u001b[36m::Float64\u001b[39m\n",
      "\u001b[90m│  \u001b[39m %18 = Base.vect(%15, %16, %17)\u001b[36m::Vector{Float64}\u001b[39m\n",
      "\u001b[90m│  \u001b[39m       (stencil = (%14)(%18))\n",
      "\u001b[90m│  \u001b[39m       (I = Base.getindex(Main.Int64))\n",
      "\u001b[90m│  \u001b[39m %21 = I\u001b[36m::Vector{Int64}\u001b[39m\n",
      "\u001b[90m│  \u001b[39m %22 = (3 * Nm1)\u001b[36m::Int64\u001b[39m\n",
      "\u001b[90m│  \u001b[39m       Main.sizehint!(%21, %22)\n",
      "\u001b[90m│  \u001b[39m       (J = Base.getindex(Main.Int64))\n",
      "\u001b[90m│  \u001b[39m %25 = J\u001b[36m::Vector{Int64}\u001b[39m\n",
      "\u001b[90m│  \u001b[39m %26 = (3 * Nm1)\u001b[36m::Int64\u001b[39m\n",
      "\u001b[90m│  \u001b[39m       Main.sizehint!(%25, %26)\n",
      "\u001b[90m│  \u001b[39m       (vals = Base.getindex(Main.Float64))\n",
      "\u001b[90m│  \u001b[39m %29 = vals\u001b[36m::Vector{Float64}\u001b[39m\n",
      "\u001b[90m│  \u001b[39m %30 = (3 * Nm1)\u001b[36m::Int64\u001b[39m\n",
      "\u001b[90m│  \u001b[39m       Main.sizehint!(%29, %30)\n",
      "\u001b[90m│  \u001b[39m %32 = Core.apply_type(Main.Vector, Main.Int64)\u001b[36m::Core.Const(Vector{Int64})\u001b[39m\n",
      "\u001b[90m│  \u001b[39m %33 = (2:N)\u001b[36m::Core.PartialStruct(UnitRange{Int64}, Any[Core.Const(2), Int64])\u001b[39m\n",
      "\u001b[90m│  \u001b[39m       (intervalRows = (%32)(%33))\n",
      "\u001b[90m│  \u001b[39m %35 = intervalRows\u001b[36m::Vector{Int64}\u001b[39m\n",
      "\u001b[90m│  \u001b[39m       (@_3 = Base.iterate(%35))\n",
      "\u001b[90m│  \u001b[39m %37 = (@_3 === nothing)\u001b[36m::Bool\u001b[39m\n",
      "\u001b[90m│  \u001b[39m %38 = Base.not_int(%37)\u001b[36m::Bool\u001b[39m\n",
      "\u001b[90m└──\u001b[39m       goto #4 if not %38\n",
      "\u001b[90m2 ┄\u001b[39m %40 = @_3\u001b[36m::Tuple{Int64, Int64}\u001b[39m\n",
      "\u001b[90m│  \u001b[39m       (i = Core.getfield(%40, 1))\n",
      "\u001b[90m│  \u001b[39m %42 = Core.getfield(%40, 2)\u001b[36m::Int64\u001b[39m\n",
      "\u001b[90m│  \u001b[39m %43 = I\u001b[36m::Vector{Int64}\u001b[39m\n",
      "\u001b[90m│  \u001b[39m %44 = Base.vect(i, i, i)\u001b[36m::Vector{Int64}\u001b[39m\n",
      "\u001b[90m│  \u001b[39m       Main.append!(%43, %44)\n",
      "\u001b[90m│  \u001b[39m %46 = J\u001b[36m::Vector{Int64}\u001b[39m\n",
      "\u001b[90m│  \u001b[39m %47 = (i - 1)\u001b[36m::Int64\u001b[39m\n",
      "\u001b[90m│  \u001b[39m %48 = i\u001b[36m::Int64\u001b[39m\n",
      "\u001b[90m│  \u001b[39m %49 = (i + 1)\u001b[36m::Int64\u001b[39m\n",
      "\u001b[90m│  \u001b[39m %50 = Base.vect(%47, %48, %49)\u001b[36m::Vector{Int64}\u001b[39m\n",
      "\u001b[90m│  \u001b[39m       Main.append!(%46, %50)\n",
      "\u001b[90m│  \u001b[39m       Main.append!(vals, stencil)\n",
      "\u001b[90m│  \u001b[39m       (@_3 = Base.iterate(%35, %42))\n",
      "\u001b[90m│  \u001b[39m %54 = (@_3 === nothing)\u001b[36m::Bool\u001b[39m\n",
      "\u001b[90m│  \u001b[39m %55 = Base.not_int(%54)\u001b[36m::Bool\u001b[39m\n",
      "\u001b[90m└──\u001b[39m       goto #4 if not %55\n",
      "\u001b[90m3 ─\u001b[39m       goto #2\n",
      "\u001b[90m4 ┄\u001b[39m       (A = Main.sparse(I, J, vals, Np1, Np1))\n",
      "\u001b[90m│  \u001b[39m       Base.setindex!(A, 1, 1, 1)\n",
      "\u001b[90m│  \u001b[39m %60 = A\u001b[36m::SparseMatrixCSC{Float64, Int64}\u001b[39m\n",
      "\u001b[90m│  \u001b[39m %61 = Base.lastindex(A, 1)\u001b[36m::Int64\u001b[39m\n",
      "\u001b[90m│  \u001b[39m %62 = Base.lastindex(A, 2)\u001b[36m::Int64\u001b[39m\n",
      "\u001b[90m│  \u001b[39m       Base.setindex!(%60, 1, %61, %62)\n",
      "\u001b[90m│  \u001b[39m       Base.setindex!(A, 0, 2, 1)\n",
      "\u001b[90m│  \u001b[39m %65 = A\u001b[36m::SparseMatrixCSC{Float64, Int64}\u001b[39m\n",
      "\u001b[90m│  \u001b[39m %66 = Base.lastindex(A, 1)\u001b[36m::Int64\u001b[39m\n",
      "\u001b[90m│  \u001b[39m %67 = (%66 - 1)\u001b[36m::Int64\u001b[39m\n",
      "\u001b[90m│  \u001b[39m %68 = Base.lastindex(A, 2)\u001b[36m::Int64\u001b[39m\n",
      "\u001b[90m│  \u001b[39m       Base.setindex!(%65, 0, %67, %68)\n",
      "\u001b[90m└──\u001b[39m       return A\n",
      "\n"
     ]
    }
   ],
   "source": [
    "@code_warntype buildMat1D(5);"
   ]
  },
  {
   "cell_type": "code",
   "execution_count": 18,
   "id": "eafcf027",
   "metadata": {},
   "outputs": [
    {
     "data": {
      "text/plain": [
       "SparseMatrixCSC{Float64, Int64}"
      ]
     },
     "execution_count": 18,
     "metadata": {},
     "output_type": "execute_result"
    }
   ],
   "source": [
    "A = buildMat1D(4);\n",
    "typeof(A)"
   ]
  }
 ],
 "metadata": {
  "kernelspec": {
   "display_name": "Julia 1.8.1",
   "language": "julia",
   "name": "julia-1.8"
  },
  "language_info": {
   "file_extension": ".jl",
   "mimetype": "application/julia",
   "name": "julia",
   "version": "1.8.1"
  }
 },
 "nbformat": 4,
 "nbformat_minor": 5
}
