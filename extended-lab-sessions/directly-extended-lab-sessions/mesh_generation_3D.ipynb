{
 "cells": [
  {
   "cell_type": "markdown",
   "id": "55346662",
   "metadata": {},
   "source": [
    "# Mesh Generation in 3D using GMSH"
   ]
  },
  {
   "cell_type": "markdown",
   "id": "335aa529",
   "metadata": {},
   "source": [
    "## Import Packages"
   ]
  },
  {
   "cell_type": "code",
   "execution_count": 2,
   "id": "1bdcff85",
   "metadata": {},
   "outputs": [],
   "source": [
    "import Gmsh: gmsh \n",
    "using GR \n",
    "using LinearAlgebra\n",
    "using Plots\n",
    "using LaTeXStrings"
   ]
  },
  {
   "cell_type": "code",
   "execution_count": 3,
   "id": "1c396b02",
   "metadata": {},
   "outputs": [],
   "source": [
    "gmsh.initialize()"
   ]
  },
  {
   "cell_type": "markdown",
   "id": "9763a1f5",
   "metadata": {},
   "source": [
    "## Section 1:/ Mesh on Disk  "
   ]
  },
  {
   "cell_type": "code",
   "execution_count": 4,
   "id": "ab4ec563",
   "metadata": {},
   "outputs": [
    {
     "name": "stdout",
     "output_type": "stream",
     "text": [
      "Info    : Meshing 1D...\n",
      "Info    : [  0%] Meshing curve 1 (Circle)\n",
      "Info    : [ 50%] Meshing curve 2 (Circle)\n",
      "Info    : Done meshing 1D (Wall 0.00503279s, CPU 0.005001s)\n",
      "Info    : Meshing 2D...\n",
      "Info    : Meshing surface 1 (Plane, Frontal-Delaunay)\n",
      "Info    : Done meshing 2D (Wall 0.0114595s, CPU 0.011373s)\n",
      "Info    : 591 nodes 1181 elements\n"
     ]
    }
   ],
   "source": [
    "r = 2; # radius of circle \n",
    "mshd  = r / 5; # Mesh density at inner boundary\n",
    "\n",
    "gmsh.model.add(\"coax_cable\")\n",
    "geo = gmsh.model.geo;\n",
    "\n",
    "## Points\n",
    "geo.addPoint(0, 0, 0, mshd/10, 1)\n",
    "geo.addPoint(r, 0, 0, mshd/10, 2)\n",
    "geo.addPoint(-r, 0, 0, mshd, 3)\n",
    "\n",
    "## Curves\n",
    "geo.addCircleArc(2, 1, 3, 1)\n",
    "geo.addCircleArc(3, 1, 2, 2)\n",
    "\n",
    "## Surfaces\n",
    "geo.addCurveLoop([1, 2], 1)\n",
    "geo.addPlaneSurface([1], 1)\n",
    "\n",
    "# Generate mesh\n",
    "geo.synchronize();\n",
    "gmsh.model.mesh.generate(2)\n",
    "\n",
    "#..if true, write mesh to file for further processing \n",
    "if (false) gmsh.write(\"disk-2D.msh\") end \n",
    "#..if true, visualize mesh through the GUI \n",
    "if (false) gmsh.fltk.run() end "
   ]
  },
  {
   "cell_type": "markdown",
   "id": "e891115e",
   "metadata": {},
   "source": [
    "## Section 2:/ First (Failed) Attempt to Extrude Mesh of Disk to Mesh on Cylinder "
   ]
  },
  {
   "cell_type": "code",
   "execution_count": 6,
   "id": "f62367fd",
   "metadata": {},
   "outputs": [
    {
     "data": {
      "text/latex": [
       "\\begin{verbatim}\n",
       "gmsh.model.geo.extrude(dimTags, dx, dy, dz, numElements = Cint[], heights = Cdouble[], recombine = false)\n",
       "\\end{verbatim}\n",
       "Extrude the entities \\texttt{dimTags} in the built-in CAD representation, using a translation along (\\texttt{dx}, \\texttt{dy}, \\texttt{dz}). Return extruded entities in \\texttt{outDimTags}. If \\texttt{numElements} is not empty, also extrude the mesh: the entries in \\texttt{numElements} give the number of elements in each layer. If \\texttt{height} is not empty, it provides the (cumulative) height of the different layers, normalized to 1. If \\texttt{recombine} is set, recombine the mesh in the layers.\n",
       "\n",
       "Return \\texttt{outDimTags}.\n",
       "\n"
      ],
      "text/markdown": [
       "```\n",
       "gmsh.model.geo.extrude(dimTags, dx, dy, dz, numElements = Cint[], heights = Cdouble[], recombine = false)\n",
       "```\n",
       "\n",
       "Extrude the entities `dimTags` in the built-in CAD representation, using a translation along (`dx`, `dy`, `dz`). Return extruded entities in `outDimTags`. If `numElements` is not empty, also extrude the mesh: the entries in `numElements` give the number of elements in each layer. If `height` is not empty, it provides the (cumulative) height of the different layers, normalized to 1. If `recombine` is set, recombine the mesh in the layers.\n",
       "\n",
       "Return `outDimTags`.\n"
      ],
      "text/plain": [
       "  \u001b[39mgmsh\u001b[0m\u001b[38;5;197m.\u001b[0m\u001b[39mmodel\u001b[0m\u001b[38;5;197m.\u001b[0m\u001b[39mgeo\u001b[0m\u001b[38;5;197m.\u001b[0m\u001b[38;5;81mextrude\u001b[0m(\u001b[0m\u001b[39mdimTags\u001b[0m\u001b[39m,\u001b[0m \u001b[0m\u001b[39mdx\u001b[0m\u001b[39m,\u001b[0m \u001b[0m\u001b[39mdy\u001b[0m\u001b[39m,\u001b[0m \u001b[0m\u001b[39mdz\u001b[0m\u001b[39m,\u001b[0m \u001b[0m\u001b[39mnumElements\u001b[0m \u001b[0m\u001b[38;5;197m=\u001b[0m \u001b[0m\u001b[39mCint\u001b[0m\u001b[39m[\u001b[0m\u001b[39m]\u001b[0m\u001b[39m,\u001b[0m \u001b[0m\u001b[39mheights\u001b[0m \u001b[0m\u001b[38;5;197m=\u001b[0m \u001b[0m\u001b[39mCdouble\u001b[0m\u001b[39m[\u001b[0m\u001b[39m]\u001b[0m\u001b[39m,\u001b[0m \u001b[0m\u001b[39mrecombine\u001b[0m \u001b[0m\u001b[38;5;197m=\u001b[0m \u001b[0m\u001b[38;5;197mfalse\u001b[0m\u001b[39m)\u001b[0m\u001b[39m\u001b[0m\n",
       "\n",
       "\n",
       "  Extrude the entities \u001b[36mdimTags\u001b[39m in the built-in CAD representation, using a\n",
       "  translation along (\u001b[36mdx\u001b[39m, \u001b[36mdy\u001b[39m, \u001b[36mdz\u001b[39m). Return extruded entities in \u001b[36moutDimTags\u001b[39m. If\n",
       "  \u001b[36mnumElements\u001b[39m is not empty, also extrude the mesh: the entries in \u001b[36mnumElements\u001b[39m\n",
       "  give the number of elements in each layer. If \u001b[36mheight\u001b[39m is not empty, it\n",
       "  provides the (cumulative) height of the different layers, normalized to 1.\n",
       "  If \u001b[36mrecombine\u001b[39m is set, recombine the mesh in the layers.\n",
       "\n",
       "  Return \u001b[36moutDimTags\u001b[39m."
      ]
     },
     "execution_count": 6,
     "metadata": {},
     "output_type": "execute_result"
    }
   ],
   "source": [
    "?gmsh.model.geo.extrude"
   ]
  },
  {
   "cell_type": "code",
   "execution_count": null,
   "id": "c84d70cb",
   "metadata": {},
   "outputs": [],
   "source": [
    "gmsh.clear()\n",
    "gmsh.model.add(\"coax_cylinder\")\n",
    "geo = gmsh.model.geo;\n",
    "\n",
    "## Points\n",
    "geo.addPoint(0, 0, 0, mshd/10, 1)\n",
    "geo.addPoint(r, 0, 0, mshd/10, 2)\n",
    "geo.addPoint(-r, 0, 0, mshd, 3)\n",
    "\n",
    "## Curves\n",
    "geo.addCircleArc(2, 1, 3, 1)\n",
    "geo.addCircleArc(3, 1, 2, 2)\n",
    "\n",
    "## Surfaces\n",
    "geo.addCurveLoop([1, 2], 1)\n",
    "geo.addPlaneSurface([1], 1)\n",
    "\n",
    "ov = gmsh.model.geo.extrude([(2,1)], 0, 0, 2)\n",
    "\n",
    "# Generate mesh\n",
    "geo.synchronize();\n",
    "gmsh.model.mesh.generate(3)\n",
    "\n",
    "#..if true, write mesh to file for further processing \n",
    "if (false) gmsh.write(\"t1.msh\") end \n",
    "#..if true, visualize mesh through the GUI \n",
    "if (true) gmsh.fltk.run() end "
   ]
  },
  {
   "cell_type": "markdown",
   "id": "cdfed438",
   "metadata": {},
   "source": [
    "## Section 3:/ 3D Mesh on Cuboidal Domain from Tutorial t3 (here used as reference)"
   ]
  },
  {
   "cell_type": "code",
   "execution_count": 15,
   "id": "32e3e848",
   "metadata": {},
   "outputs": [
    {
     "name": "stdout",
     "output_type": "stream",
     "text": [
      "Info    : Clearing all models and views...\n",
      "Info    : Done clearing all models and views\n",
      "Info    : Meshing 1D...\n",
      "Info    : [  0%] Meshing curve 1 (Line)\n",
      "Info    : [ 10%] Meshing curve 2 (Line)\n",
      "Info    : [ 20%] Meshing curve 3 (Line)\n",
      "Info    : [ 30%] Meshing curve 4 (Line)\n",
      "Info    : [ 40%] Meshing curve 8 (Line)\n",
      "Info    : [ 50%] Meshing curve 9 (Line)\n",
      "Info    : [ 50%] Meshing curve 10 (Line)\n",
      "Info    : [ 60%] Meshing curve 11 (Line)\n",
      "Info    : [ 70%] Meshing curve 13 (Line)\n",
      "Info    : [ 80%] Meshing curve 14 (Line)\n",
      "Info    : [ 90%] Meshing curve 18 (Line)\n",
      "Info    : [100%] Meshing curve 22 (Line)\n",
      "Info    : Done meshing 1D (Wall 0.001753s, CPU 0.001659s)\n",
      "Info    : Meshing 2D...\n",
      "Info    : [  0%] Meshing surface 1 (Plane, Frontal-Delaunay)\n",
      "Info    : [ 20%] Meshing surface 15 (Surface, Frontal-Delaunay)\n",
      "Info    : [ 40%] Meshing surface 19 (Surface, Frontal-Delaunay)\n",
      "Info    : [ 50%] Meshing surface 23 (Surface, Frontal-Delaunay)\n",
      "Info    : [ 70%] Meshing surface 27 (Surface, Frontal-Delaunay)\n",
      "Info    : [ 90%] Meshing surface 28 (Plane, Frontal-Delaunay)\n",
      "Info    : Done meshing 2D (Wall 0.00256996s, CPU 0.002481s)\n",
      "Info    : Meshing 3D...\n",
      "Info    : 3D Meshing 1 volume with 1 connected component\n",
      "Info    : Tetrahedrizing 44 nodes...\n",
      "Info    : Done tetrahedrizing 52 nodes (Wall 0.000339083s, CPU 0.000336s)\n",
      "Info    : Reconstructing mesh...\n",
      "Info    :  - Creating surface mesh\n",
      "Info    :  - Identifying boundary edges\n",
      "Info    :  - Recovering boundary\n",
      "Info    : Done reconstructing mesh (Wall 0.0008315s, CPU 0.000812s)\n",
      "Info    : Found volume 1\n",
      "Info    : It. 0 - 0 nodes created - worst tet radius 1.01481 (nodes removed 0 0)\n",
      "Info    : 3D refinement terminated (45 nodes total):\n",
      "Info    :  - 0 Delaunay cavities modified for star shapeness\n",
      "Info    :  - 0 nodes could not be inserted\n",
      "Info    :  - 100 tetrahedra created in 0.00010625 sec. (941177 tets/s)\n",
      "Info    : Done meshing 3D (Wall 0.00581492s, CPU 0.003557s)\n",
      "Info    : Optimizing mesh...\n",
      "Info    : Optimizing volume 1\n",
      "Info    : Optimization starts (volume = 1) with worst = 0.638397 / average = 0.831787:\n",
      "Info    : 0.00 < quality < 0.10 :         0 elements\n",
      "Info    : 0.10 < quality < 0.20 :         0 elements\n",
      "Info    : 0.20 < quality < 0.30 :         0 elements\n",
      "Info    : 0.30 < quality < 0.40 :         0 elements\n",
      "Info    : 0.40 < quality < 0.50 :         0 elements\n",
      "Info    : 0.50 < quality < 0.60 :         0 elements\n",
      "Info    : 0.60 < quality < 0.70 :         4 elements\n",
      "Info    : 0.70 < quality < 0.80 :        30 elements\n",
      "Info    : 0.80 < quality < 0.90 :        51 elements\n",
      "Info    : 0.90 < quality < 1.00 :        15 elements\n",
      "Info    : No ill-shaped tets in the mesh :-)\n",
      "Info    : 0.00 < quality < 0.10 :         0 elements\n",
      "Info    : 0.10 < quality < 0.20 :         0 elements\n",
      "Info    : 0.20 < quality < 0.30 :         0 elements\n",
      "Info    : 0.30 < quality < 0.40 :         0 elements\n",
      "Info    : 0.40 < quality < 0.50 :         0 elements\n",
      "Info    : 0.50 < quality < 0.60 :         0 elements\n",
      "Info    : 0.60 < quality < 0.70 :         4 elements\n",
      "Info    : 0.70 < quality < 0.80 :        30 elements\n",
      "Info    : 0.80 < quality < 0.90 :        51 elements\n",
      "Info    : 0.90 < quality < 1.00 :        15 elements\n",
      "Info    : Done optimizing mesh (Wall 0.000144458s, CPU 0.000133s)\n",
      "Info    : 45 nodes 216 elements\n",
      "Info    : Writing 't3.msh'...\n",
      "Info    : Done writing 't3.msh'\n"
     ]
    }
   ],
   "source": [
    "# Clear all models and create a new one\n",
    "gmsh.clear()\n",
    "gmsh.model.add(\"t3\")\n",
    "\n",
    "# Copied from `t1.jl'...\n",
    "lc = 0.5\n",
    "gmsh.model.geo.addPoint(0, 0, 0, lc, 1)\n",
    "gmsh.model.geo.addPoint(1, 0,  0, lc, 2)\n",
    "gmsh.model.geo.addPoint(1, 1, 0, lc, 3)\n",
    "gmsh.model.geo.addPoint(0, 1, 0, lc, 4)\n",
    "gmsh.model.geo.addLine(1, 2, 1)\n",
    "gmsh.model.geo.addLine(3, 2, 2)\n",
    "gmsh.model.geo.addLine(3, 4, 3)\n",
    "gmsh.model.geo.addLine(4, 1, 4)\n",
    "gmsh.model.geo.addCurveLoop([4, 1, -2, 3], 1)\n",
    "gmsh.model.geo.addPlaneSurface([1], 1)\n",
    "gmsh.model.geo.synchronize()\n",
    "gmsh.model.addPhysicalGroup(1, [1, 2, 4], 5)\n",
    "gmsh.model.addPhysicalGroup(2, [1], -1, \"My surface\")\n",
    "\n",
    "# As in `t2.jl', we plan to perform an extrusion along the z axis.  But\n",
    "# here, instead of only extruding the geometry, we also want to extrude the\n",
    "# 2D mesh. This is done with the same `extrude()' function, but by\n",
    "# specifying element 'Layers' (2 layers in this case, the first one with 8\n",
    "# subdivisions and the second one with 2 subdivisions, both with a height of\n",
    "# h/2). The number of elements for each layer and the (end) height of each\n",
    "# layer are specified in two vectors:\n",
    "h = 1\n",
    "\n",
    "ov = gmsh.model.geo.extrude([(2, 1)], 0, 0, h)\n",
    "\n",
    "# gmsh.model.addPhysicalGroup(3, [ov[1][1]], 101)\n",
    "\n",
    "geo.synchronize();\n",
    "gmsh.model.mesh.generate(3)\n",
    "gmsh.write(\"t3.msh\")\n",
    "if (false) gmsh.fltk.run() end "
   ]
  },
  {
   "cell_type": "code",
   "execution_count": 16,
   "id": "29afb8c6",
   "metadata": {},
   "outputs": [
    {
     "name": "stdout",
     "output_type": "stream",
     "text": [
      "Info    : Clearing all models and views...\n",
      "Info    : Done clearing all models and views\n"
     ]
    },
    {
     "ename": "LoadError",
     "evalue": "BoundsError: attempt to access 0-element Vector{Float64} at index [1]",
     "output_type": "error",
     "traceback": [
      "BoundsError: attempt to access 0-element Vector{Float64} at index [1]",
      "",
      "Stacktrace:",
      " [1] getindex(A::Vector{Float64}, i1::Int64)",
      "   @ Base ./array.jl:924",
      " [2] top-level scope",
      "   @ In[16]:50"
     ]
    }
   ],
   "source": [
    "    # Clear all models and create a new one\n",
    "    gmsh.clear()\n",
    "    gmsh.model.add(\"t3\")\n",
    "\n",
    "    # Copied from `t1.jl'...\n",
    "    lc = 1e-2\n",
    "    gmsh.model.geo.addPoint(0, 0, 0, lc, 1)\n",
    "    gmsh.model.geo.addPoint(.1, 0,  0, lc, 2)\n",
    "    gmsh.model.geo.addPoint(.1, .3, 0, lc, 3)\n",
    "    gmsh.model.geo.addPoint(0, .3, 0, lc, 4)\n",
    "    gmsh.model.geo.addLine(1, 2, 1)\n",
    "    gmsh.model.geo.addLine(3, 2, 2)\n",
    "    gmsh.model.geo.addLine(3, 4, 3)\n",
    "    gmsh.model.geo.addLine(4, 1, 4)\n",
    "    gmsh.model.geo.addCurveLoop([4, 1, -2, 3], 1)\n",
    "    gmsh.model.geo.addPlaneSurface([1], 1)\n",
    "    gmsh.model.geo.synchronize()\n",
    "    gmsh.model.addPhysicalGroup(1, [1, 2, 4], 5)\n",
    "    gmsh.model.addPhysicalGroup(2, [1], -1, \"My surface\")\n",
    "\n",
    "    # As in `t2.jl', we plan to perform an extrusion along the z axis.  But\n",
    "    # here, instead of only extruding the geometry, we also want to extrude the\n",
    "    # 2D mesh. This is done with the same `extrude()' function, but by\n",
    "    # specifying element 'Layers' (2 layers in this case, the first one with 8\n",
    "    # subdivisions and the second one with 2 subdivisions, both with a height of\n",
    "    # h/2). The number of elements for each layer and the (end) height of each\n",
    "    # layer are specified in two vectors:\n",
    "    h = 0.1\n",
    "    angle = 90.\n",
    "\n",
    "    ov = gmsh.model.geo.extrude([(2, 1)], 0, 0, h, [8, 2], [0.5, 1])\n",
    "\n",
    "    # The extrusion can also be performed with a rotation instead of a\n",
    "    # translation, and the resulting mesh can be recombined into prisms (we use\n",
    "    # only one layer here, with 7 subdivisions). All rotations are specified by\n",
    "    # an an axis point (-0.1, 0, 0.1), an axis direction (0, 1, 0), and a\n",
    "    # rotation angle (-Pi/2):\n",
    "    ov = gmsh.model.geo.revolve([(2, 28)], -0.1, 0, 0.1, 0, 1, 0, -pi / 2, [7])\n",
    "\n",
    "    # Using the built-in geometry kernel, only rotations with angles < Pi are\n",
    "    # supported. To do a full turn, you will thus need to apply at least 3\n",
    "    # rotations. The OpenCASCADE geometry kernel does not have this limitation.\n",
    "\n",
    "    # A translation (-2 * h, 0, 0) and a rotation ((0, 0.15, 0.25), (1, 0, 0),\n",
    "    # angle * Pi / 180) can also be combined to form a \"twist\".  The last\n",
    "    # (optional) argument for the extrude() and twist() functions specifies\n",
    "    # whether the extruded mesh should be recombined or not. The `angle'\n",
    "    # parameter is retrieved from the ONELAB database (it can be set\n",
    "    # interactively in the GUI -- see below):\n",
    "    angle = gmsh.onelab.getNumber(\"Parameters/Twisting angle\")[1]\n",
    "    ov = gmsh.model.geo.twist([(2, 50)], 0, 0.15, 0.25, -2 * h, 0, 0, 1, 0, 0,\n",
    "                              angle * pi / 180., [10], [], true)\n",
    "\n",
    "    gmsh.model.geo.synchronize()\n",
    "\n",
    "    # All the extrusion functions return a vector of extruded entities: the\n",
    "    # \"top\" of the extruded surface (in `ov[1]'), the newly created volume (in\n",
    "    # `ov[2]') and the tags of the lateral surfaces (in `ov[3]', `ov[4]', ...).\n",
    "\n",
    "    # We can then define a new physical volume (with tag 101) to group all the\n",
    "    # elementary volumes:\n",
    "    gmsh.model.addPhysicalGroup(3, [1, 2, ov[2][2]], 101)\n",
    "\n",
    "    gmsh.model.mesh.generate(3)\n",
    "    gmsh.write(\"t3.msh\")"
   ]
  },
  {
   "cell_type": "code",
   "execution_count": null,
   "id": "30c2a101",
   "metadata": {},
   "outputs": [],
   "source": []
  }
 ],
 "metadata": {
  "kernelspec": {
   "display_name": "Julia 1.8.1",
   "language": "julia",
   "name": "julia-1.8"
  },
  "language_info": {
   "file_extension": ".jl",
   "mimetype": "application/julia",
   "name": "julia",
   "version": "1.8.1"
  }
 },
 "nbformat": 4,
 "nbformat_minor": 5
}
