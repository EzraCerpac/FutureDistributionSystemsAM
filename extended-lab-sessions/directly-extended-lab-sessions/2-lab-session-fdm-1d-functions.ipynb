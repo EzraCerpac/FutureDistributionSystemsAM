{
 "cells": [
  {
   "cell_type": "markdown",
   "id": "f465a445",
   "metadata": {},
   "source": [
    "# EE4375: Second Lab Session: FDM 1D Poisson: Functions, StaticArrays, Type Stability and Benchmarking"
   ]
  },
  {
   "cell_type": "markdown",
   "id": "74e5abda",
   "metadata": {},
   "source": [
    "## Import Packages  "
   ]
  },
  {
   "cell_type": "code",
   "execution_count": 1,
   "id": "d01480a6",
   "metadata": {},
   "outputs": [],
   "source": [
    "using LinearAlgebra \n",
    "using SparseArrays \n",
    "using StaticArrays\n",
    "\n",
    "using IterativeSolvers\n",
    "using Preconditioners\n",
    "\n",
    "using BenchmarkTools\n",
    "using Profile\n",
    "using ProfileView\n",
    "\n",
    "using Plots "
   ]
  },
  {
   "cell_type": "markdown",
   "id": "19664a6c",
   "metadata": {},
   "source": [
    "## Section 1:/ Introduction \n",
    "Motivation \n",
    "1. build matrix as sparse directly, i.e., avoid convection from dense to sparse matrix;\n",
    "2. use staticArrays in storing the matrix stencil and in building the sparse matrix; \n",
    "3. use code as building block for more complex code; \n",
    "4. profile code in terms of type-stability, memory and CPU usage; \n",
    "5. test single dispatch on direct solver algorithm: should 1D Poisson matrix be solved as tri-diagonal matrix or as a general sparse matrix? \n",
    "6. unit test the code (compare with analytical solution or rate of converge); \n",
    "7. upload the code of github to work with github actions;"
   ]
  },
  {
   "cell_type": "markdown",
   "id": "9b0c3e72",
   "metadata": {},
   "source": [
    "## Section 2/: Build Linear System as Sparse From the Start "
   ]
  },
  {
   "cell_type": "markdown",
   "id": "4f59f5b3",
   "metadata": {},
   "source": [
    "### Section 1.2: Build Coefficient Matrix \n",
    "We specify the type of the input argument N to providing the compiler more informartion to perform required optimizations. In the following, we \n",
    "1. test the code on small input values. Observe that the output is a sparse matrix. This output can be converted to a full matrix using the Matrix()-function; \n",
    "2. verify the type stability of the code;\n",
    "3. benchmark the code for number of allocation and runtime using both @time and @btime macros;\n",
    "\n",
    "Note that the type-instability that @code_warntype is considered harmless as reported [here](https://discourse.julialang.org/t/how-to-prevent-type-instability-in-for-loops/30508). "
   ]
  },
  {
   "cell_type": "code",
   "execution_count": 2,
   "id": "d7abe1b2",
   "metadata": {},
   "outputs": [
    {
     "data": {
      "text/plain": [
       "buildMatAppend1D (generic function with 1 method)"
      ]
     },
     "execution_count": 2,
     "metadata": {},
     "output_type": "execute_result"
    }
   ],
   "source": [
    "function buildMatAppend1D(N::Int64)\n",
    "  Nm1::Int64 = N-1; Np1::Int64 = N+1 \n",
    "  h::Float64 = 1/N; h2::Float64 = h*h; \n",
    "  stencil = Vector{Float64}([-1/h2, 2/h2, -1/h2]);\n",
    "  #..Allocate row, column and value vector \n",
    "  I = Int64[]; sizehint!(I, 3*Nm1); \n",
    "  J = Int64[]; sizehint!(J, 3*Nm1); \n",
    "  vals=Float64[]; sizehint!(vals, 3*Nm1);\n",
    "  for i in 2:N  \n",
    "    append!(I, SA[i,i,i])\n",
    "    append!(J, SA[i-1,i,i+1])\n",
    "    append!(vals,stencil) \n",
    "  end \n",
    "  #..Build matrix for interior rows   \n",
    "  A = sparse(I,J,vals,Np1,Np1)\n",
    "  #..Build matrix for boundary rows\n",
    "  A[1,1] = 1; A[end,end]=1; A[2,1] =0; A[end-1,end]=0; \n",
    "  return A \n",
    "end "
   ]
  },
  {
   "cell_type": "code",
   "execution_count": 3,
   "id": "f5fb7245",
   "metadata": {},
   "outputs": [
    {
     "name": "stdout",
     "output_type": "stream",
     "text": [
      "  0.021762 seconds (2.62 k allocations: 153.141 KiB, 99.75% compilation time)\n"
     ]
    }
   ],
   "source": [
    "@time buildMatAppend1D(128);"
   ]
  },
  {
   "cell_type": "code",
   "execution_count": 4,
   "id": "fc961ce5",
   "metadata": {},
   "outputs": [
    {
     "data": {
      "text/plain": [
       "buildMat1D (generic function with 1 method)"
      ]
     },
     "execution_count": 4,
     "metadata": {},
     "output_type": "execute_result"
    }
   ],
   "source": [
    "function buildMat1D(N::Int64)\n",
    "  Nm1::Int64 = N-1; Np1::Int64 = N+1 \n",
    "  h::Float64 = 1/N; h2::Float64 = h*h; \n",
    "\n",
    "  #..Allocate local irang, Iloc, Jloc and Aloc vector     \n",
    "  irng = UnitRange{Int64}(1,3)\n",
    "  Iloc = Array{Int64}(undef, 3)\n",
    "  Jloc = Array{Int64}(undef, 3)\n",
    "  Aloc = Vector{Float64}([-1/h2, 2/h2, -1/h2]);\n",
    "\n",
    "  #..Allocate global I, J and vals vector \n",
    "  I = zeros(Int64,3*Nm1); \n",
    "  J = zeros(Int64,3*Nm1); \n",
    "  vals = zeros(Float64,3*Nm1);\n",
    "    \n",
    "  for i in 2:N #..loop over internal rows  \n",
    "    irng = UnitRange(3*(i-2)+1,3*(i-1));\n",
    "    I[irng]    .= SA[i,i,i]; #..use .= operator to overwrite elements of a container\n",
    "    J[irng]    .= SA[i-1,i,i+1]; \n",
    "    vals[irng] .= Aloc;         \n",
    "  end \n",
    "    \n",
    "  #..Build matrix for interior rows   \n",
    "  A = sparse(I,J,vals,Np1,Np1)\n",
    "  #..Build matrix for boundary rows\n",
    "  A[1,1] = 1; A[end,end]=1; A[2,1] =0; A[end-1,end]=0; \n",
    "  return A \n",
    "end"
   ]
  },
  {
   "cell_type": "code",
   "execution_count": 5,
   "id": "51322393",
   "metadata": {},
   "outputs": [
    {
     "name": "stdout",
     "output_type": "stream",
     "text": [
      "  0.000018 seconds (17 allocations: 24.766 KiB)\n"
     ]
    },
    {
     "data": {
      "text/plain": [
       "65×65 SparseMatrixCSC{Float64, Int64} with 191 stored entries:\n",
       "⠳⣦⡀⠀⠀⠀⠀⠀⠀⠀⠀⠀⠀⠀⠀⠀⠀⠀⠀⠀⠀⠀⠀⠀⠀⠀⠀⠀⠀⠀⠀⠀⠀\n",
       "⠀⠈⠻⣦⡀⠀⠀⠀⠀⠀⠀⠀⠀⠀⠀⠀⠀⠀⠀⠀⠀⠀⠀⠀⠀⠀⠀⠀⠀⠀⠀⠀⠀\n",
       "⠀⠀⠀⠈⠻⣦⡀⠀⠀⠀⠀⠀⠀⠀⠀⠀⠀⠀⠀⠀⠀⠀⠀⠀⠀⠀⠀⠀⠀⠀⠀⠀⠀\n",
       "⠀⠀⠀⠀⠀⠈⠻⣦⡀⠀⠀⠀⠀⠀⠀⠀⠀⠀⠀⠀⠀⠀⠀⠀⠀⠀⠀⠀⠀⠀⠀⠀⠀\n",
       "⠀⠀⠀⠀⠀⠀⠀⠈⠻⣦⡀⠀⠀⠀⠀⠀⠀⠀⠀⠀⠀⠀⠀⠀⠀⠀⠀⠀⠀⠀⠀⠀⠀\n",
       "⠀⠀⠀⠀⠀⠀⠀⠀⠀⠈⠻⣦⡀⠀⠀⠀⠀⠀⠀⠀⠀⠀⠀⠀⠀⠀⠀⠀⠀⠀⠀⠀⠀\n",
       "⠀⠀⠀⠀⠀⠀⠀⠀⠀⠀⠀⠈⠻⣦⡀⠀⠀⠀⠀⠀⠀⠀⠀⠀⠀⠀⠀⠀⠀⠀⠀⠀⠀\n",
       "⠀⠀⠀⠀⠀⠀⠀⠀⠀⠀⠀⠀⠀⠈⠻⣦⡀⠀⠀⠀⠀⠀⠀⠀⠀⠀⠀⠀⠀⠀⠀⠀⠀\n",
       "⠀⠀⠀⠀⠀⠀⠀⠀⠀⠀⠀⠀⠀⠀⠀⠈⠻⣦⡀⠀⠀⠀⠀⠀⠀⠀⠀⠀⠀⠀⠀⠀⠀\n",
       "⠀⠀⠀⠀⠀⠀⠀⠀⠀⠀⠀⠀⠀⠀⠀⠀⠀⠈⠻⣦⡀⠀⠀⠀⠀⠀⠀⠀⠀⠀⠀⠀⠀\n",
       "⠀⠀⠀⠀⠀⠀⠀⠀⠀⠀⠀⠀⠀⠀⠀⠀⠀⠀⠀⠈⠻⣦⡀⠀⠀⠀⠀⠀⠀⠀⠀⠀⠀\n",
       "⠀⠀⠀⠀⠀⠀⠀⠀⠀⠀⠀⠀⠀⠀⠀⠀⠀⠀⠀⠀⠀⠈⠻⣦⡀⠀⠀⠀⠀⠀⠀⠀⠀\n",
       "⠀⠀⠀⠀⠀⠀⠀⠀⠀⠀⠀⠀⠀⠀⠀⠀⠀⠀⠀⠀⠀⠀⠀⠈⠻⣦⡀⠀⠀⠀⠀⠀⠀\n",
       "⠀⠀⠀⠀⠀⠀⠀⠀⠀⠀⠀⠀⠀⠀⠀⠀⠀⠀⠀⠀⠀⠀⠀⠀⠀⠈⠻⣦⡀⠀⠀⠀⠀\n",
       "⠀⠀⠀⠀⠀⠀⠀⠀⠀⠀⠀⠀⠀⠀⠀⠀⠀⠀⠀⠀⠀⠀⠀⠀⠀⠀⠀⠈⠻⣦⡀⠀⠀\n",
       "⠀⠀⠀⠀⠀⠀⠀⠀⠀⠀⠀⠀⠀⠀⠀⠀⠀⠀⠀⠀⠀⠀⠀⠀⠀⠀⠀⠀⠀⠈⠻⣦⡀\n",
       "⠀⠀⠀⠀⠀⠀⠀⠀⠀⠀⠀⠀⠀⠀⠀⠀⠀⠀⠀⠀⠀⠀⠀⠀⠀⠀⠀⠀⠀⠀⠀⠀⠁"
      ]
     },
     "execution_count": 5,
     "metadata": {},
     "output_type": "execute_result"
    }
   ],
   "source": [
    "@time buildMat1D(64)"
   ]
  },
  {
   "cell_type": "code",
   "execution_count": 6,
   "id": "161da7b5",
   "metadata": {},
   "outputs": [
    {
     "data": {
      "text/latex": [
       "\\begin{verbatim}\n",
       "sparse!(I::AbstractVector{Ti}, J::AbstractVector{Ti}, V::AbstractVector{Tv},\n",
       "        m::Integer, n::Integer, combine, klasttouch::Vector{Ti},\n",
       "        csrrowptr::Vector{Ti}, csrcolval::Vector{Ti}, csrnzval::Vector{Tv},\n",
       "        [csccolptr::Vector{Ti}], [cscrowval::Vector{Ti}, cscnzval::Vector{Tv}] ) where {Tv,Ti<:Integer}\n",
       "\\end{verbatim}\n",
       "Parent of and expert driver for \\href{@ref}{\\texttt{sparse}}; see \\href{@ref}{\\texttt{sparse}} for basic usage. This method allows the user to provide preallocated storage for \\texttt{sparse}'s intermediate objects and result as described below. This capability enables more efficient successive construction of \\href{@ref}{\\texttt{SparseMatrixCSC}}s from coordinate representations, and also enables extraction of an unsorted-column representation of the result's transpose at no additional cost.\n",
       "\n",
       "This method consists of three major steps: (1) Counting-sort the provided coordinate representation into an unsorted-row CSR form including repeated entries. (2) Sweep through the CSR form, simultaneously calculating the desired CSC form's column-pointer array, detecting repeated entries, and repacking the CSR form with repeated entries combined; this stage yields an unsorted-row CSR form with no repeated entries. (3) Counting-sort the preceding CSR form into a fully-sorted CSC form with no repeated entries.\n",
       "\n",
       "Input arrays \\texttt{csrrowptr}, \\texttt{csrcolval}, and \\texttt{csrnzval} constitute storage for the intermediate CSR forms and require \\texttt{length(csrrowptr) >= m + 1}, \\texttt{length(csrcolval) >= length(I)}, and \\texttt{length(csrnzval >= length(I))}. Input array \\texttt{klasttouch}, workspace for the second stage, requires \\texttt{length(klasttouch) >= n}. Optional input arrays \\texttt{csccolptr}, \\texttt{cscrowval}, and \\texttt{cscnzval} constitute storage for the returned CSC form \\texttt{S}. \\texttt{csccolptr} requires \\texttt{length(csccolptr) >= n + 1}. If necessary, \\texttt{cscrowval} and \\texttt{cscnzval} are automatically resized to satisfy \\texttt{length(cscrowval) >= nnz(S)} and \\texttt{length(cscnzval) >= nnz(S)}; hence, if \\texttt{nnz(S)} is unknown at the outset, passing in empty vectors of the appropriate type (\\texttt{Vector\\{Ti\\}()} and \\texttt{Vector\\{Tv\\}()} respectively) suffices, or calling the \\texttt{sparse!} method neglecting \\texttt{cscrowval} and \\texttt{cscnzval}.\n",
       "\n",
       "On return, \\texttt{csrrowptr}, \\texttt{csrcolval}, and \\texttt{csrnzval} contain an unsorted-column representation of the result's transpose.\n",
       "\n",
       "You may reuse the input arrays' storage (\\texttt{I}, \\texttt{J}, \\texttt{V}) for the output arrays (\\texttt{csccolptr}, \\texttt{cscrowval}, \\texttt{cscnzval}). For example, you may call \\texttt{sparse!(I, J, V, csrrowptr, csrcolval, csrnzval, I, J, V)}.\n",
       "\n",
       "For the sake of efficiency, this method performs no argument checking beyond \\texttt{1 <= I[k] <= m} and \\texttt{1 <= J[k] <= n}. Use with care. Testing with \\texttt{--check-bounds=yes} is wise.\n",
       "\n",
       "This method runs in \\texttt{O(m, n, length(I))} time. The HALFPERM algorithm described in F. Gustavson, \"Two fast algorithms for sparse matrices: multiplication and permuted transposition,\" ACM TOMS 4(3), 250-269 (1978) inspired this method's use of a pair of counting sorts.\n",
       "\n"
      ],
      "text/markdown": [
       "```\n",
       "sparse!(I::AbstractVector{Ti}, J::AbstractVector{Ti}, V::AbstractVector{Tv},\n",
       "        m::Integer, n::Integer, combine, klasttouch::Vector{Ti},\n",
       "        csrrowptr::Vector{Ti}, csrcolval::Vector{Ti}, csrnzval::Vector{Tv},\n",
       "        [csccolptr::Vector{Ti}], [cscrowval::Vector{Ti}, cscnzval::Vector{Tv}] ) where {Tv,Ti<:Integer}\n",
       "```\n",
       "\n",
       "Parent of and expert driver for [`sparse`](@ref); see [`sparse`](@ref) for basic usage. This method allows the user to provide preallocated storage for `sparse`'s intermediate objects and result as described below. This capability enables more efficient successive construction of [`SparseMatrixCSC`](@ref)s from coordinate representations, and also enables extraction of an unsorted-column representation of the result's transpose at no additional cost.\n",
       "\n",
       "This method consists of three major steps: (1) Counting-sort the provided coordinate representation into an unsorted-row CSR form including repeated entries. (2) Sweep through the CSR form, simultaneously calculating the desired CSC form's column-pointer array, detecting repeated entries, and repacking the CSR form with repeated entries combined; this stage yields an unsorted-row CSR form with no repeated entries. (3) Counting-sort the preceding CSR form into a fully-sorted CSC form with no repeated entries.\n",
       "\n",
       "Input arrays `csrrowptr`, `csrcolval`, and `csrnzval` constitute storage for the intermediate CSR forms and require `length(csrrowptr) >= m + 1`, `length(csrcolval) >= length(I)`, and `length(csrnzval >= length(I))`. Input array `klasttouch`, workspace for the second stage, requires `length(klasttouch) >= n`. Optional input arrays `csccolptr`, `cscrowval`, and `cscnzval` constitute storage for the returned CSC form `S`. `csccolptr` requires `length(csccolptr) >= n + 1`. If necessary, `cscrowval` and `cscnzval` are automatically resized to satisfy `length(cscrowval) >= nnz(S)` and `length(cscnzval) >= nnz(S)`; hence, if `nnz(S)` is unknown at the outset, passing in empty vectors of the appropriate type (`Vector{Ti}()` and `Vector{Tv}()` respectively) suffices, or calling the `sparse!` method neglecting `cscrowval` and `cscnzval`.\n",
       "\n",
       "On return, `csrrowptr`, `csrcolval`, and `csrnzval` contain an unsorted-column representation of the result's transpose.\n",
       "\n",
       "You may reuse the input arrays' storage (`I`, `J`, `V`) for the output arrays (`csccolptr`, `cscrowval`, `cscnzval`). For example, you may call `sparse!(I, J, V, csrrowptr, csrcolval, csrnzval, I, J, V)`.\n",
       "\n",
       "For the sake of efficiency, this method performs no argument checking beyond `1 <= I[k] <= m` and `1 <= J[k] <= n`. Use with care. Testing with `--check-bounds=yes` is wise.\n",
       "\n",
       "This method runs in `O(m, n, length(I))` time. The HALFPERM algorithm described in F. Gustavson, \"Two fast algorithms for sparse matrices: multiplication and permuted transposition,\" ACM TOMS 4(3), 250-269 (1978) inspired this method's use of a pair of counting sorts.\n"
      ],
      "text/plain": [
       "  \u001b[38;5;81msparse!\u001b[0m(\u001b[0m\u001b[39mI\u001b[0m\u001b[38;5;197m::\u001b[0m\u001b[39mAbstractVector\u001b[0m\u001b[39m{\u001b[0m\u001b[39mTi\u001b[0m\u001b[39m}\u001b[0m\u001b[39m,\u001b[0m \u001b[0m\u001b[39mJ\u001b[0m\u001b[38;5;197m::\u001b[0m\u001b[39mAbstractVector\u001b[0m\u001b[39m{\u001b[0m\u001b[39mTi\u001b[0m\u001b[39m}\u001b[0m\u001b[39m,\u001b[0m \u001b[0m\u001b[39mV\u001b[0m\u001b[38;5;197m::\u001b[0m\u001b[39mAbstractVector\u001b[0m\u001b[39m{\u001b[0m\u001b[39mTv\u001b[0m\u001b[39m}\u001b[0m\u001b[39m,\u001b[0m\n",
       "          \u001b[0m\u001b[39mm\u001b[0m\u001b[38;5;197m::\u001b[0m\u001b[39mInteger\u001b[0m\u001b[39m,\u001b[0m \u001b[0m\u001b[39mn\u001b[0m\u001b[38;5;197m::\u001b[0m\u001b[39mInteger\u001b[0m\u001b[39m,\u001b[0m \u001b[0m\u001b[39mcombine\u001b[0m\u001b[39m,\u001b[0m \u001b[0m\u001b[39mklasttouch\u001b[0m\u001b[38;5;197m::\u001b[0m\u001b[39mVector\u001b[0m\u001b[39m{\u001b[0m\u001b[39mTi\u001b[0m\u001b[39m}\u001b[0m\u001b[39m,\u001b[0m\n",
       "          \u001b[0m\u001b[39mcsrrowptr\u001b[0m\u001b[38;5;197m::\u001b[0m\u001b[39mVector\u001b[0m\u001b[39m{\u001b[0m\u001b[39mTi\u001b[0m\u001b[39m}\u001b[0m\u001b[39m,\u001b[0m \u001b[0m\u001b[39mcsrcolval\u001b[0m\u001b[38;5;197m::\u001b[0m\u001b[39mVector\u001b[0m\u001b[39m{\u001b[0m\u001b[39mTi\u001b[0m\u001b[39m}\u001b[0m\u001b[39m,\u001b[0m \u001b[0m\u001b[39mcsrnzval\u001b[0m\u001b[38;5;197m::\u001b[0m\u001b[39mVector\u001b[0m\u001b[39m{\u001b[0m\u001b[39mTv\u001b[0m\u001b[39m}\u001b[0m\u001b[39m,\u001b[0m\n",
       "          \u001b[0m\u001b[39m[\u001b[0m\u001b[39mcsccolptr\u001b[0m\u001b[38;5;197m::\u001b[0m\u001b[39mVector\u001b[0m\u001b[39m{\u001b[0m\u001b[39mTi\u001b[0m\u001b[39m}\u001b[0m\u001b[39m]\u001b[0m\u001b[39m,\u001b[0m \u001b[0m\u001b[39m[\u001b[0m\u001b[39mcscrowval\u001b[0m\u001b[38;5;197m::\u001b[0m\u001b[39mVector\u001b[0m\u001b[39m{\u001b[0m\u001b[39mTi\u001b[0m\u001b[39m}\u001b[0m\u001b[39m,\u001b[0m \u001b[0m\u001b[39mcscnzval\u001b[0m\u001b[38;5;197m::\u001b[0m\u001b[39mVector\u001b[0m\u001b[39m{\u001b[0m\u001b[39mTv\u001b[0m\u001b[39m}\u001b[0m\u001b[39m]\u001b[0m \u001b[0m\u001b[39m)\u001b[0m \u001b[0m\u001b[38;5;197mwhere\u001b[0m \u001b[0m\u001b[39m{\u001b[0m\u001b[39mTv\u001b[0m\u001b[39m,\u001b[0m\u001b[39mTi\u001b[0m\u001b[38;5;197m<:\u001b[0m\u001b[39mInteger\u001b[0m\u001b[39m}\u001b[0m\n",
       "\n",
       "\n",
       "  Parent of and expert driver for \u001b[36msparse\u001b[39m; see \u001b[36msparse\u001b[39m for basic usage. This\n",
       "  method allows the user to provide preallocated storage for \u001b[36msparse\u001b[39m's\n",
       "  intermediate objects and result as described below. This capability enables\n",
       "  more efficient successive construction of \u001b[36mSparseMatrixCSC\u001b[39ms from coordinate\n",
       "  representations, and also enables extraction of an unsorted-column\n",
       "  representation of the result's transpose at no additional cost.\n",
       "\n",
       "  This method consists of three major steps: (1) Counting-sort the provided\n",
       "  coordinate representation into an unsorted-row CSR form including repeated\n",
       "  entries. (2) Sweep through the CSR form, simultaneously calculating the\n",
       "  desired CSC form's column-pointer array, detecting repeated entries, and\n",
       "  repacking the CSR form with repeated entries combined; this stage yields an\n",
       "  unsorted-row CSR form with no repeated entries. (3) Counting-sort the\n",
       "  preceding CSR form into a fully-sorted CSC form with no repeated entries.\n",
       "\n",
       "  Input arrays \u001b[36mcsrrowptr\u001b[39m, \u001b[36mcsrcolval\u001b[39m, and \u001b[36mcsrnzval\u001b[39m constitute storage for the\n",
       "  intermediate CSR forms and require \u001b[36mlength(csrrowptr) >= m + 1\u001b[39m,\n",
       "  \u001b[36mlength(csrcolval) >= length(I)\u001b[39m, and \u001b[36mlength(csrnzval >= length(I))\u001b[39m. Input\n",
       "  array \u001b[36mklasttouch\u001b[39m, workspace for the second stage, requires\n",
       "  \u001b[36mlength(klasttouch) >= n\u001b[39m. Optional input arrays \u001b[36mcsccolptr\u001b[39m, \u001b[36mcscrowval\u001b[39m, and\n",
       "  \u001b[36mcscnzval\u001b[39m constitute storage for the returned CSC form \u001b[36mS\u001b[39m. \u001b[36mcsccolptr\u001b[39m requires\n",
       "  \u001b[36mlength(csccolptr) >= n + 1\u001b[39m. If necessary, \u001b[36mcscrowval\u001b[39m and \u001b[36mcscnzval\u001b[39m are\n",
       "  automatically resized to satisfy \u001b[36mlength(cscrowval) >= nnz(S)\u001b[39m and\n",
       "  \u001b[36mlength(cscnzval) >= nnz(S)\u001b[39m; hence, if \u001b[36mnnz(S)\u001b[39m is unknown at the outset,\n",
       "  passing in empty vectors of the appropriate type (\u001b[36mVector{Ti}()\u001b[39m and\n",
       "  \u001b[36mVector{Tv}()\u001b[39m respectively) suffices, or calling the \u001b[36msparse!\u001b[39m method\n",
       "  neglecting \u001b[36mcscrowval\u001b[39m and \u001b[36mcscnzval\u001b[39m.\n",
       "\n",
       "  On return, \u001b[36mcsrrowptr\u001b[39m, \u001b[36mcsrcolval\u001b[39m, and \u001b[36mcsrnzval\u001b[39m contain an unsorted-column\n",
       "  representation of the result's transpose.\n",
       "\n",
       "  You may reuse the input arrays' storage (\u001b[36mI\u001b[39m, \u001b[36mJ\u001b[39m, \u001b[36mV\u001b[39m) for the output arrays\n",
       "  (\u001b[36mcsccolptr\u001b[39m, \u001b[36mcscrowval\u001b[39m, \u001b[36mcscnzval\u001b[39m). For example, you may call \u001b[36msparse!(I, J, V,\n",
       "  csrrowptr, csrcolval, csrnzval, I, J, V)\u001b[39m.\n",
       "\n",
       "  For the sake of efficiency, this method performs no argument checking beyond\n",
       "  \u001b[36m1 <= I[k] <= m\u001b[39m and \u001b[36m1 <= J[k] <= n\u001b[39m. Use with care. Testing with\n",
       "  \u001b[36m--check-bounds=yes\u001b[39m is wise.\n",
       "\n",
       "  This method runs in \u001b[36mO(m, n, length(I))\u001b[39m time. The HALFPERM algorithm\n",
       "  described in F. Gustavson, \"Two fast algorithms for sparse matrices:\n",
       "  multiplication and permuted transposition,\" ACM TOMS 4(3), 250-269 (1978)\n",
       "  inspired this method's use of a pair of counting sorts."
      ]
     },
     "execution_count": 6,
     "metadata": {},
     "output_type": "execute_result"
    }
   ],
   "source": [
    "?SparseArrays.sparse!"
   ]
  },
  {
   "cell_type": "code",
   "execution_count": 7,
   "id": "93921a59",
   "metadata": {},
   "outputs": [
    {
     "ename": "LoadError",
     "evalue": "UndefVarError: A not defined",
     "output_type": "error",
     "traceback": [
      "UndefVarError: A not defined",
      "",
      "Stacktrace:",
      " [1] top-level scope",
      "   @ In[7]:1"
     ]
    }
   ],
   "source": [
    "B = Matrix(A)"
   ]
  },
  {
   "cell_type": "code",
   "execution_count": 8,
   "id": "384d6c0f",
   "metadata": {},
   "outputs": [
    {
     "ename": "LoadError",
     "evalue": "UndefVarError: B not defined",
     "output_type": "error",
     "traceback": [
      "UndefVarError: B not defined",
      "",
      "Stacktrace:",
      " [1] top-level scope",
      "   @ In[8]:1"
     ]
    }
   ],
   "source": [
    "typeof(B)"
   ]
  },
  {
   "cell_type": "code",
   "execution_count": 9,
   "id": "13013956",
   "metadata": {},
   "outputs": [
    {
     "name": "stdout",
     "output_type": "stream",
     "text": [
      "MethodInstance for buildMat1D(::Int64)\n",
      "  from buildMat1D(N::Int64) in Main at In[4]:1\n",
      "Arguments\n",
      "  #self#\u001b[36m::Core.Const(buildMat1D)\u001b[39m\n",
      "  N\u001b[36m::Int64\u001b[39m\n",
      "Locals\n",
      "  @_3\u001b[33m\u001b[1m::Union{Nothing, Tuple{Int64, Int64}}\u001b[22m\u001b[39m\n",
      "  A\u001b[36m::SparseMatrixCSC{Float64, Int64}\u001b[39m\n",
      "  vals\u001b[36m::Vector{Float64}\u001b[39m\n",
      "  J\u001b[36m::Vector{Int64}\u001b[39m\n",
      "  I\u001b[36m::Vector{Int64}\u001b[39m\n",
      "  Aloc\u001b[36m::Vector{Float64}\u001b[39m\n",
      "  Jloc\u001b[36m::Vector{Int64}\u001b[39m\n",
      "  Iloc\u001b[36m::Vector{Int64}\u001b[39m\n",
      "  irng\u001b[36m::UnitRange{Int64}\u001b[39m\n",
      "  h2\u001b[36m::Float64\u001b[39m\n",
      "  h\u001b[36m::Float64\u001b[39m\n",
      "  Np1\u001b[36m::Int64\u001b[39m\n",
      "  Nm1\u001b[36m::Int64\u001b[39m\n",
      "  i\u001b[36m::Int64\u001b[39m\n",
      "Body\u001b[36m::SparseMatrixCSC{Float64, Int64}\u001b[39m\n",
      "\u001b[90m1 ─\u001b[39m       Core.NewvarNode(:(A))\n",
      "\u001b[90m│  \u001b[39m %2  = (N - 1)\u001b[36m::Int64\u001b[39m\n",
      "\u001b[90m│  \u001b[39m %3  = Base.convert(Main.Int64, %2)\u001b[36m::Int64\u001b[39m\n",
      "\u001b[90m│  \u001b[39m       (Nm1 = Core.typeassert(%3, Main.Int64))\n",
      "\u001b[90m│  \u001b[39m %5  = (N + 1)\u001b[36m::Int64\u001b[39m\n",
      "\u001b[90m│  \u001b[39m %6  = Base.convert(Main.Int64, %5)\u001b[36m::Int64\u001b[39m\n",
      "\u001b[90m│  \u001b[39m       (Np1 = Core.typeassert(%6, Main.Int64))\n",
      "\u001b[90m│  \u001b[39m %8  = (1 / N)\u001b[36m::Float64\u001b[39m\n",
      "\u001b[90m│  \u001b[39m %9  = Base.convert(Main.Float64, %8)\u001b[36m::Float64\u001b[39m\n",
      "\u001b[90m│  \u001b[39m       (h = Core.typeassert(%9, Main.Float64))\n",
      "\u001b[90m│  \u001b[39m %11 = (h * h)\u001b[36m::Float64\u001b[39m\n",
      "\u001b[90m│  \u001b[39m %12 = Base.convert(Main.Float64, %11)\u001b[36m::Float64\u001b[39m\n",
      "\u001b[90m│  \u001b[39m       (h2 = Core.typeassert(%12, Main.Float64))\n",
      "\u001b[90m│  \u001b[39m %14 = Core.apply_type(Main.UnitRange, Main.Int64)\u001b[36m::Core.Const(UnitRange{Int64})\u001b[39m\n",
      "\u001b[90m│  \u001b[39m       (irng = (%14)(1, 3))\n",
      "\u001b[90m│  \u001b[39m %16 = Core.apply_type(Main.Array, Main.Int64)\u001b[36m::Core.Const(Array{Int64})\u001b[39m\n",
      "\u001b[90m│  \u001b[39m       (Iloc = (%16)(Main.undef, 3))\n",
      "\u001b[90m│  \u001b[39m %18 = Core.apply_type(Main.Array, Main.Int64)\u001b[36m::Core.Const(Array{Int64})\u001b[39m\n",
      "\u001b[90m│  \u001b[39m       (Jloc = (%18)(Main.undef, 3))\n",
      "\u001b[90m│  \u001b[39m %20 = Core.apply_type(Main.Vector, Main.Float64)\u001b[36m::Core.Const(Vector{Float64})\u001b[39m\n",
      "\u001b[90m│  \u001b[39m %21 = (-1 / h2)\u001b[36m::Float64\u001b[39m\n",
      "\u001b[90m│  \u001b[39m %22 = (2 / h2)\u001b[36m::Float64\u001b[39m\n",
      "\u001b[90m│  \u001b[39m %23 = (-1 / h2)\u001b[36m::Float64\u001b[39m\n",
      "\u001b[90m│  \u001b[39m %24 = Base.vect(%21, %22, %23)\u001b[36m::Vector{Float64}\u001b[39m\n",
      "\u001b[90m│  \u001b[39m       (Aloc = (%20)(%24))\n",
      "\u001b[90m│  \u001b[39m %26 = (3 * Nm1)\u001b[36m::Int64\u001b[39m\n",
      "\u001b[90m│  \u001b[39m       (I = Main.zeros(Main.Int64, %26))\n",
      "\u001b[90m│  \u001b[39m %28 = (3 * Nm1)\u001b[36m::Int64\u001b[39m\n",
      "\u001b[90m│  \u001b[39m       (J = Main.zeros(Main.Int64, %28))\n",
      "\u001b[90m│  \u001b[39m %30 = (3 * Nm1)\u001b[36m::Int64\u001b[39m\n",
      "\u001b[90m│  \u001b[39m       (vals = Main.zeros(Main.Float64, %30))\n",
      "\u001b[90m│  \u001b[39m %32 = (2:N)\u001b[36m::Core.PartialStruct(UnitRange{Int64}, Any[Core.Const(2), Int64])\u001b[39m\n",
      "\u001b[90m│  \u001b[39m       (@_3 = Base.iterate(%32))\n",
      "\u001b[90m│  \u001b[39m %34 = (@_3 === nothing)\u001b[36m::Bool\u001b[39m\n",
      "\u001b[90m│  \u001b[39m %35 = Base.not_int(%34)\u001b[36m::Bool\u001b[39m\n",
      "\u001b[90m└──\u001b[39m       goto #4 if not %35\n",
      "\u001b[90m2 ┄\u001b[39m %37 = @_3\u001b[36m::Tuple{Int64, Int64}\u001b[39m\n",
      "\u001b[90m│  \u001b[39m       (i = Core.getfield(%37, 1))\n",
      "\u001b[90m│  \u001b[39m %39 = Core.getfield(%37, 2)\u001b[36m::Int64\u001b[39m\n",
      "\u001b[90m│  \u001b[39m %40 = (i - 2)\u001b[36m::Int64\u001b[39m\n",
      "\u001b[90m│  \u001b[39m %41 = (3 * %40)\u001b[36m::Int64\u001b[39m\n",
      "\u001b[90m│  \u001b[39m %42 = (%41 + 1)\u001b[36m::Int64\u001b[39m\n",
      "\u001b[90m│  \u001b[39m %43 = (i - 1)\u001b[36m::Int64\u001b[39m\n",
      "\u001b[90m│  \u001b[39m %44 = (3 * %43)\u001b[36m::Int64\u001b[39m\n",
      "\u001b[90m│  \u001b[39m       (irng = Main.UnitRange(%42, %44))\n",
      "\u001b[90m│  \u001b[39m %46 = Base.dotview(I, irng)\u001b[36m::Core.PartialStruct(SubArray{Int64, 1, Vector{Int64}, Tuple{UnitRange{Int64}}, true}, Any[Vector{Int64}, Tuple{UnitRange{Int64}}, Int64, Core.Const(1)])\u001b[39m\n",
      "\u001b[90m│  \u001b[39m %47 = Base.getindex(Main.SA, i, i, i)\u001b[36m::SVector{3, Int64}\u001b[39m\n",
      "\u001b[90m│  \u001b[39m %48 = Base.broadcasted(Base.identity, %47)\u001b[36m::Base.Broadcast.Broadcasted{StaticArraysCore.StaticArrayStyle{1}, Nothing, typeof(identity), Tuple{SVector{3, Int64}}}\u001b[39m\n",
      "\u001b[90m│  \u001b[39m       Base.materialize!(%46, %48)\n",
      "\u001b[90m│  \u001b[39m %50 = Base.dotview(J, irng)\u001b[36m::Core.PartialStruct(SubArray{Int64, 1, Vector{Int64}, Tuple{UnitRange{Int64}}, true}, Any[Vector{Int64}, Tuple{UnitRange{Int64}}, Int64, Core.Const(1)])\u001b[39m\n",
      "\u001b[90m│  \u001b[39m %51 = (i - 1)\u001b[36m::Int64\u001b[39m\n",
      "\u001b[90m│  \u001b[39m %52 = i\u001b[36m::Int64\u001b[39m\n",
      "\u001b[90m│  \u001b[39m %53 = (i + 1)\u001b[36m::Int64\u001b[39m\n",
      "\u001b[90m│  \u001b[39m %54 = Base.getindex(Main.SA, %51, %52, %53)\u001b[36m::SVector{3, Int64}\u001b[39m\n",
      "\u001b[90m│  \u001b[39m %55 = Base.broadcasted(Base.identity, %54)\u001b[36m::Base.Broadcast.Broadcasted{StaticArraysCore.StaticArrayStyle{1}, Nothing, typeof(identity), Tuple{SVector{3, Int64}}}\u001b[39m\n",
      "\u001b[90m│  \u001b[39m       Base.materialize!(%50, %55)\n",
      "\u001b[90m│  \u001b[39m %57 = Base.dotview(vals, irng)\u001b[36m::Core.PartialStruct(SubArray{Float64, 1, Vector{Float64}, Tuple{UnitRange{Int64}}, true}, Any[Vector{Float64}, Tuple{UnitRange{Int64}}, Int64, Core.Const(1)])\u001b[39m\n",
      "\u001b[90m│  \u001b[39m %58 = Base.broadcasted(Base.identity, Aloc)\u001b[36m::Base.Broadcast.Broadcasted{Base.Broadcast.DefaultArrayStyle{1}, Nothing, typeof(identity), Tuple{Vector{Float64}}}\u001b[39m\n",
      "\u001b[90m│  \u001b[39m       Base.materialize!(%57, %58)\n",
      "\u001b[90m│  \u001b[39m       (@_3 = Base.iterate(%32, %39))\n",
      "\u001b[90m│  \u001b[39m %61 = (@_3 === nothing)\u001b[36m::Bool\u001b[39m\n",
      "\u001b[90m│  \u001b[39m %62 = Base.not_int(%61)\u001b[36m::Bool\u001b[39m\n",
      "\u001b[90m└──\u001b[39m       goto #4 if not %62\n",
      "\u001b[90m3 ─\u001b[39m       goto #2\n",
      "\u001b[90m4 ┄\u001b[39m       (A = Main.sparse(I, J, vals, Np1, Np1))\n",
      "\u001b[90m│  \u001b[39m       Base.setindex!(A, 1, 1, 1)\n",
      "\u001b[90m│  \u001b[39m %67 = A\u001b[36m::SparseMatrixCSC{Float64, Int64}\u001b[39m\n",
      "\u001b[90m│  \u001b[39m %68 = Base.lastindex(A, 1)\u001b[36m::Int64\u001b[39m\n",
      "\u001b[90m│  \u001b[39m %69 = Base.lastindex(A, 2)\u001b[36m::Int64\u001b[39m\n",
      "\u001b[90m│  \u001b[39m       Base.setindex!(%67, 1, %68, %69)\n",
      "\u001b[90m│  \u001b[39m       Base.setindex!(A, 0, 2, 1)\n",
      "\u001b[90m│  \u001b[39m %72 = A\u001b[36m::SparseMatrixCSC{Float64, Int64}\u001b[39m\n",
      "\u001b[90m│  \u001b[39m %73 = Base.lastindex(A, 1)\u001b[36m::Int64\u001b[39m\n",
      "\u001b[90m│  \u001b[39m %74 = (%73 - 1)\u001b[36m::Int64\u001b[39m\n",
      "\u001b[90m│  \u001b[39m %75 = Base.lastindex(A, 2)\u001b[36m::Int64\u001b[39m\n",
      "\u001b[90m│  \u001b[39m       Base.setindex!(%72, 0, %74, %75)\n",
      "\u001b[90m└──\u001b[39m       return A\n",
      "\n"
     ]
    }
   ],
   "source": [
    "@code_warntype buildMat1D(5)"
   ]
  },
  {
   "cell_type": "code",
   "execution_count": 10,
   "id": "eafcf027",
   "metadata": {},
   "outputs": [
    {
     "data": {
      "text/plain": [
       "BenchmarkTools.Trial: 10000 samples with 1 evaluation.\n",
       " Range \u001b[90m(\u001b[39m\u001b[36m\u001b[1mmin\u001b[22m\u001b[39m … \u001b[35mmax\u001b[39m\u001b[90m):  \u001b[39m\u001b[36m\u001b[1m34.125 μs\u001b[22m\u001b[39m … \u001b[35m  3.612 ms\u001b[39m  \u001b[90m┊\u001b[39m GC \u001b[90m(\u001b[39mmin … max\u001b[90m): \u001b[39m 0.00% … 98.81%\n",
       " Time  \u001b[90m(\u001b[39m\u001b[34m\u001b[1mmedian\u001b[22m\u001b[39m\u001b[90m):     \u001b[39m\u001b[34m\u001b[1m44.750 μs               \u001b[22m\u001b[39m\u001b[90m┊\u001b[39m GC \u001b[90m(\u001b[39mmedian\u001b[90m):    \u001b[39m 0.00%\n",
       " Time  \u001b[90m(\u001b[39m\u001b[32m\u001b[1mmean\u001b[22m\u001b[39m ± \u001b[32mσ\u001b[39m\u001b[90m):   \u001b[39m\u001b[32m\u001b[1m52.949 μs\u001b[22m\u001b[39m ± \u001b[32m163.682 μs\u001b[39m  \u001b[90m┊\u001b[39m GC \u001b[90m(\u001b[39mmean ± σ\u001b[90m):  \u001b[39m15.45% ±  4.92%\n",
       "\n",
       "  \u001b[39m \u001b[39m \u001b[39m \u001b[39m \u001b[39m \u001b[39m \u001b[39m \u001b[39m \u001b[39m \u001b[39m \u001b[39m \u001b[39m \u001b[39m \u001b[39m \u001b[39m \u001b[39m \u001b[39m \u001b[39m \u001b[39m▄\u001b[39m█\u001b[39m█\u001b[34m█\u001b[39m\u001b[39m▃\u001b[39m \u001b[39m \u001b[39m \u001b[39m \u001b[39m \u001b[39m \u001b[39m \u001b[39m \u001b[39m \u001b[39m \u001b[39m \u001b[39m \u001b[39m \u001b[39m \u001b[32m \u001b[39m\u001b[39m \u001b[39m \u001b[39m \u001b[39m \u001b[39m \u001b[39m \u001b[39m \u001b[39m \u001b[39m \u001b[39m \u001b[39m \u001b[39m \u001b[39m \u001b[39m \u001b[39m \u001b[39m \u001b[39m \u001b[39m \u001b[39m \u001b[39m \u001b[39m \u001b[39m \u001b[39m \u001b[39m \n",
       "  \u001b[39m▁\u001b[39m▂\u001b[39m▃\u001b[39m▃\u001b[39m▂\u001b[39m▂\u001b[39m▂\u001b[39m▁\u001b[39m▁\u001b[39m▁\u001b[39m▁\u001b[39m▁\u001b[39m▁\u001b[39m▁\u001b[39m▁\u001b[39m▂\u001b[39m▄\u001b[39m▇\u001b[39m█\u001b[39m█\u001b[39m█\u001b[34m█\u001b[39m\u001b[39m█\u001b[39m▇\u001b[39m▆\u001b[39m▃\u001b[39m▃\u001b[39m▂\u001b[39m▂\u001b[39m▂\u001b[39m▂\u001b[39m▁\u001b[39m▁\u001b[39m▁\u001b[39m▁\u001b[39m▁\u001b[39m▁\u001b[32m▁\u001b[39m\u001b[39m▁\u001b[39m▁\u001b[39m▁\u001b[39m▁\u001b[39m▁\u001b[39m▁\u001b[39m▁\u001b[39m▁\u001b[39m▁\u001b[39m▁\u001b[39m▁\u001b[39m▁\u001b[39m▁\u001b[39m▁\u001b[39m▁\u001b[39m▁\u001b[39m▁\u001b[39m▁\u001b[39m▁\u001b[39m▁\u001b[39m▁\u001b[39m▁\u001b[39m \u001b[39m▂\n",
       "  34.1 μs\u001b[90m         Histogram: frequency by time\u001b[39m           65 μs \u001b[0m\u001b[1m<\u001b[22m\n",
       "\n",
       " Memory estimate\u001b[90m: \u001b[39m\u001b[33m305.66 KiB\u001b[39m, allocs estimate\u001b[90m: \u001b[39m\u001b[33m24\u001b[39m."
      ]
     },
     "execution_count": 10,
     "metadata": {},
     "output_type": "execute_result"
    }
   ],
   "source": [
    "@benchmark buildMat1D(1000)"
   ]
  },
  {
   "cell_type": "markdown",
   "id": "8f20f33f",
   "metadata": {},
   "source": [
    "### Section 2.2: Construction of the Right-Hand Side Vector"
   ]
  },
  {
   "cell_type": "code",
   "execution_count": 11,
   "id": "13364bca",
   "metadata": {},
   "outputs": [
    {
     "data": {
      "text/plain": [
       "buildRhs1D (generic function with 1 method)"
      ]
     },
     "execution_count": 11,
     "metadata": {},
     "output_type": "execute_result"
    }
   ],
   "source": [
    "function buildRhs1D(N::Int64,sourceFct::Function)\n",
    "  h::Float64 = 1/N;\n",
    "  x = Vector(0:h:1)\n",
    "  #..Build vector for interior rows \n",
    "  f = sourceFct.(x)\n",
    "  #..Build matrix for boundary rows\n",
    "  f[1] = 0; f[end] = 0; \n",
    "  return f \n",
    "end "
   ]
  },
  {
   "cell_type": "code",
   "execution_count": 12,
   "id": "cedf5112",
   "metadata": {},
   "outputs": [
    {
     "data": {
      "text/plain": [
       "sourceFct (generic function with 1 method)"
      ]
     },
     "execution_count": 12,
     "metadata": {},
     "output_type": "execute_result"
    }
   ],
   "source": [
    "sourceFct(x)= x*sin(π*x)"
   ]
  },
  {
   "cell_type": "code",
   "execution_count": 13,
   "id": "fc6d19b2",
   "metadata": {},
   "outputs": [
    {
     "data": {
      "text/plain": [
       "6-element Vector{Float64}:\n",
       " 0.0\n",
       " 0.11755705045849463\n",
       " 0.3804226065180614\n",
       " 0.5706339097770922\n",
       " 0.4702282018339786\n",
       " 0.0"
      ]
     },
     "metadata": {},
     "output_type": "display_data"
    }
   ],
   "source": [
    "f = buildRhs1D(5,sourceFct);\n",
    "display(f)"
   ]
  },
  {
   "cell_type": "code",
   "execution_count": 14,
   "id": "8be0ceaa",
   "metadata": {},
   "outputs": [
    {
     "name": "stdout",
     "output_type": "stream",
     "text": [
      "MethodInstance for buildRhs1D(::Int64, ::typeof(sourceFct))\n",
      "  from buildRhs1D(N::Int64, sourceFct::Function) in Main at In[11]:1\n",
      "Arguments\n",
      "  #self#\u001b[36m::Core.Const(buildRhs1D)\u001b[39m\n",
      "  N\u001b[36m::Int64\u001b[39m\n",
      "  sourceFct\u001b[36m::Core.Const(sourceFct)\u001b[39m\n",
      "Locals\n",
      "  f\u001b[36m::Vector{Float64}\u001b[39m\n",
      "  x\u001b[36m::Vector{Float64}\u001b[39m\n",
      "  h\u001b[36m::Float64\u001b[39m\n",
      "Body\u001b[36m::Vector{Float64}\u001b[39m\n",
      "\u001b[90m1 ─\u001b[39m %1  = (1 / N)\u001b[36m::Float64\u001b[39m\n",
      "\u001b[90m│  \u001b[39m %2  = Base.convert(Main.Float64, %1)\u001b[36m::Float64\u001b[39m\n",
      "\u001b[90m│  \u001b[39m       (h = Core.typeassert(%2, Main.Float64))\n",
      "\u001b[90m│  \u001b[39m %4  = (0:h:1)\u001b[36m::StepRangeLen{Float64, Base.TwicePrecision{Float64}, Base.TwicePrecision{Float64}, Int64}\u001b[39m\n",
      "\u001b[90m│  \u001b[39m       (x = Main.Vector(%4))\n",
      "\u001b[90m│  \u001b[39m %6  = Base.broadcasted(sourceFct, x)\u001b[36m::Base.Broadcast.Broadcasted{Base.Broadcast.DefaultArrayStyle{1}, Nothing, typeof(sourceFct), Tuple{Vector{Float64}}}\u001b[39m\n",
      "\u001b[90m│  \u001b[39m       (f = Base.materialize(%6))\n",
      "\u001b[90m│  \u001b[39m       Base.setindex!(f, 0, 1)\n",
      "\u001b[90m│  \u001b[39m %9  = f\u001b[36m::Vector{Float64}\u001b[39m\n",
      "\u001b[90m│  \u001b[39m %10 = Base.lastindex(f)\u001b[36m::Int64\u001b[39m\n",
      "\u001b[90m│  \u001b[39m       Base.setindex!(%9, 0, %10)\n",
      "\u001b[90m└──\u001b[39m       return f\n",
      "\n"
     ]
    }
   ],
   "source": [
    "@code_warntype buildRhs1D(5,sourceFct)"
   ]
  },
  {
   "cell_type": "code",
   "execution_count": 15,
   "id": "945b3fd8",
   "metadata": {},
   "outputs": [
    {
     "data": {
      "text/plain": [
       "BenchmarkTools.Trial: 10000 samples with 5 evaluations.\n",
       " Range \u001b[90m(\u001b[39m\u001b[36m\u001b[1mmin\u001b[22m\u001b[39m … \u001b[35mmax\u001b[39m\u001b[90m):  \u001b[39m\u001b[36m\u001b[1m5.967 μs\u001b[22m\u001b[39m … \u001b[35m 2.349 ms\u001b[39m  \u001b[90m┊\u001b[39m GC \u001b[90m(\u001b[39mmin … max\u001b[90m): \u001b[39m 0.00% … 99.57%\n",
       " Time  \u001b[90m(\u001b[39m\u001b[34m\u001b[1mmedian\u001b[22m\u001b[39m\u001b[90m):     \u001b[39m\u001b[34m\u001b[1m6.950 μs              \u001b[22m\u001b[39m\u001b[90m┊\u001b[39m GC \u001b[90m(\u001b[39mmedian\u001b[90m):    \u001b[39m 0.00%\n",
       " Time  \u001b[90m(\u001b[39m\u001b[32m\u001b[1mmean\u001b[22m\u001b[39m ± \u001b[32mσ\u001b[39m\u001b[90m):   \u001b[39m\u001b[32m\u001b[1m8.042 μs\u001b[22m\u001b[39m ± \u001b[32m39.419 μs\u001b[39m  \u001b[90m┊\u001b[39m GC \u001b[90m(\u001b[39mmean ± σ\u001b[90m):  \u001b[39m12.86% ±  2.81%\n",
       "\n",
       "  \u001b[39m \u001b[39m \u001b[39m \u001b[39m \u001b[39m \u001b[39m \u001b[39m \u001b[39m \u001b[39m \u001b[39m \u001b[39m \u001b[39m \u001b[39m \u001b[39m \u001b[39m▂\u001b[39m▄\u001b[39m▆\u001b[39m█\u001b[34m▇\u001b[39m\u001b[39m▅\u001b[39m▁\u001b[39m \u001b[39m \u001b[39m \u001b[39m \u001b[39m \u001b[39m \u001b[39m \u001b[39m \u001b[39m \u001b[39m \u001b[39m \u001b[39m \u001b[39m \u001b[39m \u001b[39m \u001b[39m \u001b[39m \u001b[32m \u001b[39m\u001b[39m \u001b[39m \u001b[39m \u001b[39m \u001b[39m \u001b[39m \u001b[39m \u001b[39m \u001b[39m \u001b[39m \u001b[39m \u001b[39m \u001b[39m \u001b[39m \u001b[39m \u001b[39m \u001b[39m \u001b[39m \u001b[39m \u001b[39m \u001b[39m \n",
       "  \u001b[39m▂\u001b[39m▂\u001b[39m▂\u001b[39m▂\u001b[39m▂\u001b[39m▂\u001b[39m▂\u001b[39m▁\u001b[39m▂\u001b[39m▂\u001b[39m▂\u001b[39m▂\u001b[39m▄\u001b[39m▅\u001b[39m█\u001b[39m█\u001b[39m█\u001b[39m█\u001b[34m█\u001b[39m\u001b[39m█\u001b[39m█\u001b[39m▅\u001b[39m▅\u001b[39m▃\u001b[39m▃\u001b[39m▃\u001b[39m▂\u001b[39m▂\u001b[39m▂\u001b[39m▂\u001b[39m▂\u001b[39m▂\u001b[39m▁\u001b[39m▁\u001b[39m▁\u001b[39m▁\u001b[39m▁\u001b[39m▁\u001b[32m▁\u001b[39m\u001b[39m▁\u001b[39m▁\u001b[39m▁\u001b[39m▁\u001b[39m▁\u001b[39m▁\u001b[39m▁\u001b[39m▁\u001b[39m▁\u001b[39m▁\u001b[39m▁\u001b[39m▁\u001b[39m▁\u001b[39m▁\u001b[39m▁\u001b[39m▁\u001b[39m▁\u001b[39m▁\u001b[39m▁\u001b[39m \u001b[39m▂\n",
       "  5.97 μs\u001b[90m        Histogram: frequency by time\u001b[39m        9.17 μs \u001b[0m\u001b[1m<\u001b[22m\n",
       "\n",
       " Memory estimate\u001b[90m: \u001b[39m\u001b[33m16.05 KiB\u001b[39m, allocs estimate\u001b[90m: \u001b[39m\u001b[33m5\u001b[39m."
      ]
     },
     "execution_count": 15,
     "metadata": {},
     "output_type": "execute_result"
    }
   ],
   "source": [
    "@benchmark buildRhs1D(1000,sourceFct)"
   ]
  },
  {
   "cell_type": "markdown",
   "id": "d8933541",
   "metadata": {},
   "source": [
    "### Section 3.2: Solve the Linear System - Default Versions \n",
    "Here we employ a sparse direct solver. "
   ]
  },
  {
   "cell_type": "code",
   "execution_count": 16,
   "id": "235bcd50",
   "metadata": {},
   "outputs": [
    {
     "data": {
      "text/plain": [
       "solvePoisson1D (generic function with 1 method)"
      ]
     },
     "execution_count": 16,
     "metadata": {},
     "output_type": "execute_result"
    }
   ],
   "source": [
    "function solvePoisson1D(N::Int64,sourceFct::Function)\n",
    "  A = buildMat1D(N);\n",
    "  f = buildRhs1D(N,sourceFct)\n",
    "  u = A\\f \n",
    "  return u \n",
    "end"
   ]
  },
  {
   "cell_type": "code",
   "execution_count": 17,
   "id": "4074f2bc",
   "metadata": {},
   "outputs": [
    {
     "name": "stdout",
     "output_type": "stream",
     "text": [
      "MethodInstance for solvePoisson1D(::Int64, ::typeof(sourceFct))\n",
      "  from solvePoisson1D(N::Int64, sourceFct::Function) in Main at In[16]:1\n",
      "Arguments\n",
      "  #self#\u001b[36m::Core.Const(solvePoisson1D)\u001b[39m\n",
      "  N\u001b[36m::Int64\u001b[39m\n",
      "  sourceFct\u001b[36m::Core.Const(sourceFct)\u001b[39m\n",
      "Locals\n",
      "  u\u001b[36m::Vector{Float64}\u001b[39m\n",
      "  f\u001b[36m::Vector{Float64}\u001b[39m\n",
      "  A\u001b[36m::SparseMatrixCSC{Float64, Int64}\u001b[39m\n",
      "Body\u001b[36m::Vector{Float64}\u001b[39m\n",
      "\u001b[90m1 ─\u001b[39m     (A = Main.buildMat1D(N))\n",
      "\u001b[90m│  \u001b[39m     (f = Main.buildRhs1D(N, sourceFct))\n",
      "\u001b[90m│  \u001b[39m     (u = A \\ f)\n",
      "\u001b[90m└──\u001b[39m     return u\n",
      "\n"
     ]
    }
   ],
   "source": [
    "@code_warntype solvePoisson1D(5,sourceFct)"
   ]
  },
  {
   "cell_type": "code",
   "execution_count": 18,
   "id": "3939f0ba",
   "metadata": {},
   "outputs": [
    {
     "data": {
      "text/plain": [
       "BenchmarkTools.Trial: 10000 samples with 1 evaluation.\n",
       " Range \u001b[90m(\u001b[39m\u001b[36m\u001b[1mmin\u001b[22m\u001b[39m … \u001b[35mmax\u001b[39m\u001b[90m):  \u001b[39m\u001b[36m\u001b[1m194.125 μs\u001b[22m\u001b[39m … \u001b[35m  8.450 ms\u001b[39m  \u001b[90m┊\u001b[39m GC \u001b[90m(\u001b[39mmin … max\u001b[90m): \u001b[39m0.00% … 76.67%\n",
       " Time  \u001b[90m(\u001b[39m\u001b[34m\u001b[1mmedian\u001b[22m\u001b[39m\u001b[90m):     \u001b[39m\u001b[34m\u001b[1m216.083 μs               \u001b[22m\u001b[39m\u001b[90m┊\u001b[39m GC \u001b[90m(\u001b[39mmedian\u001b[90m):    \u001b[39m0.00%\n",
       " Time  \u001b[90m(\u001b[39m\u001b[32m\u001b[1mmean\u001b[22m\u001b[39m ± \u001b[32mσ\u001b[39m\u001b[90m):   \u001b[39m\u001b[32m\u001b[1m243.493 μs\u001b[22m\u001b[39m ± \u001b[32m315.337 μs\u001b[39m  \u001b[90m┊\u001b[39m GC \u001b[90m(\u001b[39mmean ± σ\u001b[90m):  \u001b[39m5.99% ±  4.39%\n",
       "\n",
       "  \u001b[39m \u001b[39m \u001b[39m \u001b[39m \u001b[39m \u001b[39m \u001b[39m \u001b[39m \u001b[39m \u001b[39m \u001b[39m \u001b[39m \u001b[39m \u001b[39m \u001b[39m \u001b[39m▁\u001b[39m█\u001b[39m▇\u001b[39m▅\u001b[39m▁\u001b[34m \u001b[39m\u001b[39m \u001b[39m \u001b[39m \u001b[39m \u001b[39m \u001b[39m \u001b[39m \u001b[39m \u001b[39m \u001b[39m \u001b[39m \u001b[39m \u001b[39m \u001b[39m \u001b[39m \u001b[39m \u001b[39m \u001b[39m \u001b[39m \u001b[39m \u001b[39m \u001b[39m \u001b[39m \u001b[39m \u001b[32m \u001b[39m\u001b[39m \u001b[39m \u001b[39m \u001b[39m \u001b[39m \u001b[39m \u001b[39m \u001b[39m \u001b[39m \u001b[39m \u001b[39m \u001b[39m \u001b[39m \u001b[39m \u001b[39m \u001b[39m \u001b[39m \n",
       "  \u001b[39m▁\u001b[39m▃\u001b[39m▄\u001b[39m▃\u001b[39m▂\u001b[39m▁\u001b[39m▁\u001b[39m▁\u001b[39m▂\u001b[39m▂\u001b[39m▂\u001b[39m▂\u001b[39m▂\u001b[39m▃\u001b[39m▅\u001b[39m█\u001b[39m█\u001b[39m█\u001b[39m█\u001b[39m█\u001b[34m▇\u001b[39m\u001b[39m▆\u001b[39m▅\u001b[39m▅\u001b[39m▆\u001b[39m▅\u001b[39m▅\u001b[39m▅\u001b[39m▆\u001b[39m▅\u001b[39m▅\u001b[39m▅\u001b[39m▄\u001b[39m▃\u001b[39m▃\u001b[39m▃\u001b[39m▃\u001b[39m▂\u001b[39m▂\u001b[39m▂\u001b[39m▂\u001b[39m▂\u001b[39m▁\u001b[39m▂\u001b[39m▁\u001b[32m▁\u001b[39m\u001b[39m▁\u001b[39m▁\u001b[39m▁\u001b[39m▁\u001b[39m▁\u001b[39m▁\u001b[39m▁\u001b[39m▁\u001b[39m▁\u001b[39m▁\u001b[39m▁\u001b[39m▁\u001b[39m▁\u001b[39m▁\u001b[39m▁\u001b[39m \u001b[39m▃\n",
       "  194 μs\u001b[90m           Histogram: frequency by time\u001b[39m          261 μs \u001b[0m\u001b[1m<\u001b[22m\n",
       "\n",
       " Memory estimate\u001b[90m: \u001b[39m\u001b[33m730.67 KiB\u001b[39m, allocs estimate\u001b[90m: \u001b[39m\u001b[33m88\u001b[39m."
      ]
     },
     "execution_count": 18,
     "metadata": {},
     "output_type": "execute_result"
    }
   ],
   "source": [
    "@benchmark solvePoisson1D(1000,sourceFct)"
   ]
  },
  {
   "cell_type": "code",
   "execution_count": 19,
   "id": "6a25fcaf",
   "metadata": {},
   "outputs": [
    {
     "data": {
      "text/html": [
       "# 1 method for generic function <b>\\</b>:<ul><li> \\(A::<b>SparseArrays.AbstractSparseMatrixCSC</b>, B::<b>AbstractVecOrMat</b>) in SparseArrays at <a href=\"file:///Users/julia/.julia/scratchspaces/a66863c6-20e8-4ff4-8a62-49f30b1f605e/agent-cache/default-macmini-aarch64-5.0/build/default-macmini-aarch64-5-0/julialang/julia-release-1-dot-8/usr/share/julia/stdlib/v1.8/SparseArrays/src/linalg.jl\" target=\"_blank\">/Applications/Julia-1.8.app/Contents/Resources/julia/share/julia/stdlib/v1.8/SparseArrays/src/linalg.jl:1548</a></li> </ul>"
      ],
      "text/plain": [
       "# 1 method for generic function \"\\\":\n",
       "[1] \\(A::SparseArrays.AbstractSparseMatrixCSC, B::AbstractVecOrMat) in SparseArrays at /Applications/Julia-1.8.app/Contents/Resources/julia/share/julia/stdlib/v1.8/SparseArrays/src/linalg.jl:1548"
      ]
     },
     "execution_count": 19,
     "metadata": {},
     "output_type": "execute_result"
    }
   ],
   "source": [
    "# algorithm being used to solve the linear system \n",
    "# use edit(\"/Applications/Julia-1.8.app/Contents/Resources/julia/share/julia/stdlib/v1.8/SparseArrays/src/linalg.jl:1548\")\n",
    "# to view the source code \n",
    "methods(\\, (SparseMatrixCSC{Float64, Int64}, Vector{Float64}))"
   ]
  },
  {
   "cell_type": "markdown",
   "id": "59fe2842",
   "metadata": {},
   "source": [
    "### Section 4.2: Solve the Linear System - Alternative Versions \n",
    "Here we employ a general sparse, tridiagonal and general sparse solver. Conversion from general sparse to tridiagonal requires CPU time as well. "
   ]
  },
  {
   "cell_type": "code",
   "execution_count": 20,
   "id": "05ef8614",
   "metadata": {},
   "outputs": [
    {
     "data": {
      "text/plain": [
       "solvePoisson1D (generic function with 1 method)"
      ]
     },
     "execution_count": 20,
     "metadata": {},
     "output_type": "execute_result"
    }
   ],
   "source": [
    "function solvePoisson1D(N::Int64,sourceFct::Function)\n",
    "  A = buildMat1D(N);\n",
    "  # B = Matrix(A)\n",
    "  # B = Tridiagonal(A) \n",
    "  # B = sparse(B)\n",
    "  #  B = A; \n",
    "  f = buildRhs1D(N,sourceFct)\n",
    "  u = A\\f \n",
    "  return u \n",
    "end"
   ]
  },
  {
   "cell_type": "code",
   "execution_count": 21,
   "id": "d2b74350",
   "metadata": {},
   "outputs": [
    {
     "data": {
      "text/plain": [
       "BenchmarkTools.Trial: 10000 samples with 1 evaluation.\n",
       " Range \u001b[90m(\u001b[39m\u001b[36m\u001b[1mmin\u001b[22m\u001b[39m … \u001b[35mmax\u001b[39m\u001b[90m):  \u001b[39m\u001b[36m\u001b[1m193.708 μs\u001b[22m\u001b[39m … \u001b[35m  5.564 ms\u001b[39m  \u001b[90m┊\u001b[39m GC \u001b[90m(\u001b[39mmin … max\u001b[90m): \u001b[39m0.00% … 40.19%\n",
       " Time  \u001b[90m(\u001b[39m\u001b[34m\u001b[1mmedian\u001b[22m\u001b[39m\u001b[90m):     \u001b[39m\u001b[34m\u001b[1m214.959 μs               \u001b[22m\u001b[39m\u001b[90m┊\u001b[39m GC \u001b[90m(\u001b[39mmedian\u001b[90m):    \u001b[39m0.00%\n",
       " Time  \u001b[90m(\u001b[39m\u001b[32m\u001b[1mmean\u001b[22m\u001b[39m ± \u001b[32mσ\u001b[39m\u001b[90m):   \u001b[39m\u001b[32m\u001b[1m239.251 μs\u001b[22m\u001b[39m ± \u001b[32m298.426 μs\u001b[39m  \u001b[90m┊\u001b[39m GC \u001b[90m(\u001b[39mmean ± σ\u001b[90m):  \u001b[39m5.49% ±  4.17%\n",
       "\n",
       "  \u001b[39m \u001b[39m \u001b[39m \u001b[39m \u001b[39m \u001b[39m \u001b[39m \u001b[39m \u001b[39m \u001b[39m \u001b[39m \u001b[39m \u001b[39m \u001b[39m \u001b[39m \u001b[39m \u001b[39m \u001b[39m \u001b[39m▃\u001b[39m█\u001b[34m▇\u001b[39m\u001b[39m▂\u001b[39m \u001b[39m \u001b[39m \u001b[39m \u001b[39m \u001b[39m \u001b[39m \u001b[39m \u001b[39m \u001b[39m \u001b[39m \u001b[39m \u001b[39m \u001b[39m \u001b[39m \u001b[39m \u001b[39m \u001b[39m \u001b[39m \u001b[39m \u001b[39m \u001b[32m \u001b[39m\u001b[39m \u001b[39m \u001b[39m \u001b[39m \u001b[39m \u001b[39m \u001b[39m \u001b[39m \u001b[39m \u001b[39m \u001b[39m \u001b[39m \u001b[39m \u001b[39m \u001b[39m \u001b[39m \u001b[39m \u001b[39m \u001b[39m \n",
       "  \u001b[39m▂\u001b[39m▃\u001b[39m▄\u001b[39m▃\u001b[39m▂\u001b[39m▁\u001b[39m▁\u001b[39m▁\u001b[39m▁\u001b[39m▁\u001b[39m▁\u001b[39m▁\u001b[39m▁\u001b[39m▂\u001b[39m▂\u001b[39m▃\u001b[39m▄\u001b[39m▆\u001b[39m█\u001b[39m█\u001b[34m█\u001b[39m\u001b[39m█\u001b[39m▆\u001b[39m▅\u001b[39m▃\u001b[39m▃\u001b[39m▂\u001b[39m▂\u001b[39m▂\u001b[39m▂\u001b[39m▂\u001b[39m▃\u001b[39m▂\u001b[39m▂\u001b[39m▂\u001b[39m▂\u001b[39m▂\u001b[39m▂\u001b[39m▂\u001b[39m▂\u001b[39m▁\u001b[39m▁\u001b[39m▁\u001b[32m▁\u001b[39m\u001b[39m▁\u001b[39m▁\u001b[39m▁\u001b[39m▁\u001b[39m▁\u001b[39m▁\u001b[39m▁\u001b[39m▁\u001b[39m▁\u001b[39m▁\u001b[39m▁\u001b[39m▁\u001b[39m▁\u001b[39m▁\u001b[39m▁\u001b[39m▁\u001b[39m▁\u001b[39m \u001b[39m▂\n",
       "  194 μs\u001b[90m           Histogram: frequency by time\u001b[39m          258 μs \u001b[0m\u001b[1m<\u001b[22m\n",
       "\n",
       " Memory estimate\u001b[90m: \u001b[39m\u001b[33m730.67 KiB\u001b[39m, allocs estimate\u001b[90m: \u001b[39m\u001b[33m88\u001b[39m."
      ]
     },
     "execution_count": 21,
     "metadata": {},
     "output_type": "execute_result"
    }
   ],
   "source": [
    "@benchmark solvePoisson1D(1000,sourceFct)"
   ]
  },
  {
   "cell_type": "code",
   "execution_count": 22,
   "id": "4a4991b9",
   "metadata": {},
   "outputs": [
    {
     "data": {
      "text/html": [
       "# 1 method for generic function <b>\\</b>:<ul><li> \\(A::<b>AbstractMatrix</b>, B::<b>AbstractVecOrMat</b>) in LinearAlgebra at <a href=\"file:///Users/julia/.julia/scratchspaces/a66863c6-20e8-4ff4-8a62-49f30b1f605e/agent-cache/default-macmini-aarch64-5.0/build/default-macmini-aarch64-5-0/julialang/julia-release-1-dot-8/usr/share/julia/stdlib/v1.8/LinearAlgebra/src/generic.jl\" target=\"_blank\">/Applications/Julia-1.8.app/Contents/Resources/julia/share/julia/stdlib/v1.8/LinearAlgebra/src/generic.jl:1096</a></li> </ul>"
      ],
      "text/plain": [
       "# 1 method for generic function \"\\\":\n",
       "[1] \\(A::AbstractMatrix, B::AbstractVecOrMat) in LinearAlgebra at /Applications/Julia-1.8.app/Contents/Resources/julia/share/julia/stdlib/v1.8/LinearAlgebra/src/generic.jl:1096"
      ]
     },
     "execution_count": 22,
     "metadata": {},
     "output_type": "execute_result"
    }
   ],
   "source": [
    "# algorithm being used to solve the linear system \n",
    "methods(\\, (Matrix{Float64}, Vector{Float64}))"
   ]
  },
  {
   "cell_type": "markdown",
   "id": "43eff984",
   "metadata": {},
   "source": [
    "## Section 3/: Spectral Analysis of the coefficient matrix \n",
    "\n",
    "Here we compute eigenvalues and eigenvectors of the matrix A. "
   ]
  },
  {
   "cell_type": "code",
   "execution_count": 23,
   "id": "d778ffac",
   "metadata": {},
   "outputs": [],
   "source": [
    "A = buildMat1D(32);"
   ]
  },
  {
   "cell_type": "code",
   "execution_count": 30,
   "id": "dfeb45d8",
   "metadata": {},
   "outputs": [
    {
     "data": {
      "image/svg+xml": [
       "<?xml version=\"1.0\" encoding=\"utf-8\"?>\n",
       "<svg xmlns=\"http://www.w3.org/2000/svg\" xmlns:xlink=\"http://www.w3.org/1999/xlink\" width=\"600\" height=\"400\" viewBox=\"0 0 2400 1600\">\n",
       "<defs>\n",
       "  <clipPath id=\"clip690\">\n",
       "    <rect x=\"0\" y=\"0\" width=\"2400\" height=\"1600\"/>\n",
       "  </clipPath>\n",
       "</defs>\n",
       "<path clip-path=\"url(#clip690)\" d=\"M0 1600 L2400 1600 L2400 0 L0 0  Z\" fill=\"#ffffff\" fill-rule=\"evenodd\" fill-opacity=\"1\"/>\n",
       "<defs>\n",
       "  <clipPath id=\"clip691\">\n",
       "    <rect x=\"480\" y=\"0\" width=\"1681\" height=\"1600\"/>\n",
       "  </clipPath>\n",
       "</defs>\n",
       "<path clip-path=\"url(#clip690)\" d=\"M192.709 1486.45 L2352.76 1486.45 L2352.76 47.2441 L192.709 47.2441  Z\" fill=\"#ffffff\" fill-rule=\"evenodd\" fill-opacity=\"1\"/>\n",
       "<defs>\n",
       "  <clipPath id=\"clip692\">\n",
       "    <rect x=\"192\" y=\"47\" width=\"2161\" height=\"1440\"/>\n",
       "  </clipPath>\n",
       "</defs>\n",
       "<polyline clip-path=\"url(#clip692)\" style=\"stroke:#000000; stroke-linecap:round; stroke-linejoin:round; stroke-width:2; stroke-opacity:0.1; fill:none\" points=\"508.565,1486.45 508.565,47.2441 \"/>\n",
       "<polyline clip-path=\"url(#clip692)\" style=\"stroke:#000000; stroke-linecap:round; stroke-linejoin:round; stroke-width:2; stroke-opacity:0.1; fill:none\" points=\"826.968,1486.45 826.968,47.2441 \"/>\n",
       "<polyline clip-path=\"url(#clip692)\" style=\"stroke:#000000; stroke-linecap:round; stroke-linejoin:round; stroke-width:2; stroke-opacity:0.1; fill:none\" points=\"1145.37,1486.45 1145.37,47.2441 \"/>\n",
       "<polyline clip-path=\"url(#clip692)\" style=\"stroke:#000000; stroke-linecap:round; stroke-linejoin:round; stroke-width:2; stroke-opacity:0.1; fill:none\" points=\"1463.77,1486.45 1463.77,47.2441 \"/>\n",
       "<polyline clip-path=\"url(#clip692)\" style=\"stroke:#000000; stroke-linecap:round; stroke-linejoin:round; stroke-width:2; stroke-opacity:0.1; fill:none\" points=\"1782.18,1486.45 1782.18,47.2441 \"/>\n",
       "<polyline clip-path=\"url(#clip692)\" style=\"stroke:#000000; stroke-linecap:round; stroke-linejoin:round; stroke-width:2; stroke-opacity:0.1; fill:none\" points=\"2100.58,1486.45 2100.58,47.2441 \"/>\n",
       "<polyline clip-path=\"url(#clip690)\" style=\"stroke:#000000; stroke-linecap:round; stroke-linejoin:round; stroke-width:4; stroke-opacity:1; fill:none\" points=\"192.709,1486.45 2352.76,1486.45 \"/>\n",
       "<polyline clip-path=\"url(#clip690)\" style=\"stroke:#000000; stroke-linecap:round; stroke-linejoin:round; stroke-width:4; stroke-opacity:1; fill:none\" points=\"508.565,1486.45 508.565,1467.55 \"/>\n",
       "<polyline clip-path=\"url(#clip690)\" style=\"stroke:#000000; stroke-linecap:round; stroke-linejoin:round; stroke-width:4; stroke-opacity:1; fill:none\" points=\"826.968,1486.45 826.968,1467.55 \"/>\n",
       "<polyline clip-path=\"url(#clip690)\" style=\"stroke:#000000; stroke-linecap:round; stroke-linejoin:round; stroke-width:4; stroke-opacity:1; fill:none\" points=\"1145.37,1486.45 1145.37,1467.55 \"/>\n",
       "<polyline clip-path=\"url(#clip690)\" style=\"stroke:#000000; stroke-linecap:round; stroke-linejoin:round; stroke-width:4; stroke-opacity:1; fill:none\" points=\"1463.77,1486.45 1463.77,1467.55 \"/>\n",
       "<polyline clip-path=\"url(#clip690)\" style=\"stroke:#000000; stroke-linecap:round; stroke-linejoin:round; stroke-width:4; stroke-opacity:1; fill:none\" points=\"1782.18,1486.45 1782.18,1467.55 \"/>\n",
       "<polyline clip-path=\"url(#clip690)\" style=\"stroke:#000000; stroke-linecap:round; stroke-linejoin:round; stroke-width:4; stroke-opacity:1; fill:none\" points=\"2100.58,1486.45 2100.58,1467.55 \"/>\n",
       "<path clip-path=\"url(#clip690)\" d=\"M498.843 1514.29 L517.199 1514.29 L517.199 1518.22 L503.125 1518.22 L503.125 1526.7 Q504.144 1526.35 505.162 1526.19 Q506.181 1526 507.199 1526 Q512.986 1526 516.366 1529.17 Q519.746 1532.34 519.746 1537.76 Q519.746 1543.34 516.273 1546.44 Q512.801 1549.52 506.482 1549.52 Q504.306 1549.52 502.037 1549.15 Q499.792 1548.78 497.385 1548.04 L497.385 1543.34 Q499.468 1544.47 501.69 1545.03 Q503.912 1545.58 506.389 1545.58 Q510.394 1545.58 512.732 1543.48 Q515.07 1541.37 515.07 1537.76 Q515.07 1534.15 512.732 1532.04 Q510.394 1529.94 506.389 1529.94 Q504.514 1529.94 502.639 1530.35 Q500.787 1530.77 498.843 1531.65 L498.843 1514.29 Z\" fill=\"#000000\" fill-rule=\"nonzero\" fill-opacity=\"1\" /><path clip-path=\"url(#clip690)\" d=\"M801.656 1544.91 L809.295 1544.91 L809.295 1518.55 L800.985 1520.21 L800.985 1515.95 L809.248 1514.29 L813.924 1514.29 L813.924 1544.91 L821.563 1544.91 L821.563 1548.85 L801.656 1548.85 L801.656 1544.91 Z\" fill=\"#000000\" fill-rule=\"nonzero\" fill-opacity=\"1\" /><path clip-path=\"url(#clip690)\" d=\"M841.007 1517.37 Q837.396 1517.37 835.568 1520.93 Q833.762 1524.47 833.762 1531.6 Q833.762 1538.71 835.568 1542.27 Q837.396 1545.82 841.007 1545.82 Q844.642 1545.82 846.447 1542.27 Q848.276 1538.71 848.276 1531.6 Q848.276 1524.47 846.447 1520.93 Q844.642 1517.37 841.007 1517.37 M841.007 1513.66 Q846.818 1513.66 849.873 1518.27 Q852.952 1522.85 852.952 1531.6 Q852.952 1540.33 849.873 1544.94 Q846.818 1549.52 841.007 1549.52 Q835.197 1549.52 832.119 1544.94 Q829.063 1540.33 829.063 1531.6 Q829.063 1522.85 832.119 1518.27 Q835.197 1513.66 841.007 1513.66 Z\" fill=\"#000000\" fill-rule=\"nonzero\" fill-opacity=\"1\" /><path clip-path=\"url(#clip690)\" d=\"M1120.56 1544.91 L1128.2 1544.91 L1128.2 1518.55 L1119.89 1520.21 L1119.89 1515.95 L1128.15 1514.29 L1132.83 1514.29 L1132.83 1544.91 L1140.46 1544.91 L1140.46 1548.85 L1120.56 1548.85 L1120.56 1544.91 Z\" fill=\"#000000\" fill-rule=\"nonzero\" fill-opacity=\"1\" /><path clip-path=\"url(#clip690)\" d=\"M1149.95 1514.29 L1168.31 1514.29 L1168.31 1518.22 L1154.24 1518.22 L1154.24 1526.7 Q1155.26 1526.35 1156.27 1526.19 Q1157.29 1526 1158.31 1526 Q1164.1 1526 1167.48 1529.17 Q1170.86 1532.34 1170.86 1537.76 Q1170.86 1543.34 1167.39 1546.44 Q1163.91 1549.52 1157.59 1549.52 Q1155.42 1549.52 1153.15 1549.15 Q1150.9 1548.78 1148.5 1548.04 L1148.5 1543.34 Q1150.58 1544.47 1152.8 1545.03 Q1155.02 1545.58 1157.5 1545.58 Q1161.51 1545.58 1163.84 1543.48 Q1166.18 1541.37 1166.18 1537.76 Q1166.18 1534.15 1163.84 1532.04 Q1161.51 1529.94 1157.5 1529.94 Q1155.63 1529.94 1153.75 1530.35 Q1151.9 1530.77 1149.95 1531.65 L1149.95 1514.29 Z\" fill=\"#000000\" fill-rule=\"nonzero\" fill-opacity=\"1\" /><path clip-path=\"url(#clip690)\" d=\"M1442.55 1544.91 L1458.87 1544.91 L1458.87 1548.85 L1436.92 1548.85 L1436.92 1544.91 Q1439.58 1542.16 1444.17 1537.53 Q1448.77 1532.88 1449.96 1531.53 Q1452.2 1529.01 1453.08 1527.27 Q1453.98 1525.51 1453.98 1523.82 Q1453.98 1521.07 1452.04 1519.33 Q1450.12 1517.6 1447.02 1517.6 Q1444.82 1517.6 1442.36 1518.36 Q1439.93 1519.13 1437.15 1520.68 L1437.15 1515.95 Q1439.98 1514.82 1442.43 1514.24 Q1444.89 1513.66 1446.92 1513.66 Q1452.29 1513.66 1455.49 1516.35 Q1458.68 1519.03 1458.68 1523.52 Q1458.68 1525.65 1457.87 1527.57 Q1457.08 1529.47 1454.98 1532.07 Q1454.4 1532.74 1451.3 1535.95 Q1448.2 1539.15 1442.55 1544.91 Z\" fill=\"#000000\" fill-rule=\"nonzero\" fill-opacity=\"1\" /><path clip-path=\"url(#clip690)\" d=\"M1478.68 1517.37 Q1475.07 1517.37 1473.24 1520.93 Q1471.44 1524.47 1471.44 1531.6 Q1471.44 1538.71 1473.24 1542.27 Q1475.07 1545.82 1478.68 1545.82 Q1482.32 1545.82 1484.12 1542.27 Q1485.95 1538.71 1485.95 1531.6 Q1485.95 1524.47 1484.12 1520.93 Q1482.32 1517.37 1478.68 1517.37 M1478.68 1513.66 Q1484.49 1513.66 1487.55 1518.27 Q1490.63 1522.85 1490.63 1531.6 Q1490.63 1540.33 1487.55 1544.94 Q1484.49 1549.52 1478.68 1549.52 Q1472.87 1549.52 1469.79 1544.94 Q1466.74 1540.33 1466.74 1531.6 Q1466.74 1522.85 1469.79 1518.27 Q1472.87 1513.66 1478.68 1513.66 Z\" fill=\"#000000\" fill-rule=\"nonzero\" fill-opacity=\"1\" /><path clip-path=\"url(#clip690)\" d=\"M1761.45 1544.91 L1777.77 1544.91 L1777.77 1548.85 L1755.82 1548.85 L1755.82 1544.91 Q1758.49 1542.16 1763.07 1537.53 Q1767.68 1532.88 1768.86 1531.53 Q1771.1 1529.01 1771.98 1527.27 Q1772.88 1525.51 1772.88 1523.82 Q1772.88 1521.07 1770.94 1519.33 Q1769.02 1517.6 1765.92 1517.6 Q1763.72 1517.6 1761.26 1518.36 Q1758.83 1519.13 1756.05 1520.68 L1756.05 1515.95 Q1758.88 1514.82 1761.33 1514.24 Q1763.79 1513.66 1765.82 1513.66 Q1771.19 1513.66 1774.39 1516.35 Q1777.58 1519.03 1777.58 1523.52 Q1777.58 1525.65 1776.77 1527.57 Q1775.99 1529.47 1773.88 1532.07 Q1773.3 1532.74 1770.2 1535.95 Q1767.1 1539.15 1761.45 1544.91 Z\" fill=\"#000000\" fill-rule=\"nonzero\" fill-opacity=\"1\" /><path clip-path=\"url(#clip690)\" d=\"M1787.63 1514.29 L1805.99 1514.29 L1805.99 1518.22 L1791.91 1518.22 L1791.91 1526.7 Q1792.93 1526.35 1793.95 1526.19 Q1794.97 1526 1795.99 1526 Q1801.77 1526 1805.15 1529.17 Q1808.53 1532.34 1808.53 1537.76 Q1808.53 1543.34 1805.06 1546.44 Q1801.59 1549.52 1795.27 1549.52 Q1793.09 1549.52 1790.82 1549.15 Q1788.58 1548.78 1786.17 1548.04 L1786.17 1543.34 Q1788.25 1544.47 1790.48 1545.03 Q1792.7 1545.58 1795.18 1545.58 Q1799.18 1545.58 1801.52 1543.48 Q1803.86 1541.37 1803.86 1537.76 Q1803.86 1534.15 1801.52 1532.04 Q1799.18 1529.94 1795.18 1529.94 Q1793.3 1529.94 1791.43 1530.35 Q1789.57 1530.77 1787.63 1531.65 L1787.63 1514.29 Z\" fill=\"#000000\" fill-rule=\"nonzero\" fill-opacity=\"1\" /><path clip-path=\"url(#clip690)\" d=\"M2089.42 1530.21 Q2092.78 1530.93 2094.65 1533.2 Q2096.55 1535.47 2096.55 1538.8 Q2096.55 1543.92 2093.03 1546.72 Q2089.52 1549.52 2083.03 1549.52 Q2080.86 1549.52 2078.54 1549.08 Q2076.25 1548.66 2073.8 1547.81 L2073.8 1543.29 Q2075.74 1544.43 2078.06 1545.01 Q2080.37 1545.58 2082.9 1545.58 Q2087.29 1545.58 2089.59 1543.85 Q2091.9 1542.11 2091.9 1538.8 Q2091.9 1535.75 2089.75 1534.03 Q2087.62 1532.3 2083.8 1532.3 L2079.77 1532.3 L2079.77 1528.45 L2083.98 1528.45 Q2087.43 1528.45 2089.26 1527.09 Q2091.09 1525.7 2091.09 1523.11 Q2091.09 1520.45 2089.19 1519.03 Q2087.32 1517.6 2083.8 1517.6 Q2081.88 1517.6 2079.68 1518.01 Q2077.48 1518.43 2074.84 1519.31 L2074.84 1515.14 Q2077.5 1514.4 2079.82 1514.03 Q2082.15 1513.66 2084.21 1513.66 Q2089.54 1513.66 2092.64 1516.09 Q2095.74 1518.5 2095.74 1522.62 Q2095.74 1525.49 2094.1 1527.48 Q2092.46 1529.45 2089.42 1530.21 Z\" fill=\"#000000\" fill-rule=\"nonzero\" fill-opacity=\"1\" /><path clip-path=\"url(#clip690)\" d=\"M2115.42 1517.37 Q2111.81 1517.37 2109.98 1520.93 Q2108.17 1524.47 2108.17 1531.6 Q2108.17 1538.71 2109.98 1542.27 Q2111.81 1545.82 2115.42 1545.82 Q2119.05 1545.82 2120.86 1542.27 Q2122.69 1538.71 2122.69 1531.6 Q2122.69 1524.47 2120.86 1520.93 Q2119.05 1517.37 2115.42 1517.37 M2115.42 1513.66 Q2121.23 1513.66 2124.28 1518.27 Q2127.36 1522.85 2127.36 1531.6 Q2127.36 1540.33 2124.28 1544.94 Q2121.23 1549.52 2115.42 1549.52 Q2109.61 1549.52 2106.53 1544.94 Q2103.47 1540.33 2103.47 1531.6 Q2103.47 1522.85 2106.53 1518.27 Q2109.61 1513.66 2115.42 1513.66 Z\" fill=\"#000000\" fill-rule=\"nonzero\" fill-opacity=\"1\" /><polyline clip-path=\"url(#clip692)\" style=\"stroke:#000000; stroke-linecap:round; stroke-linejoin:round; stroke-width:2; stroke-opacity:0.1; fill:none\" points=\"192.709,1309.94 2352.76,1309.94 \"/>\n",
       "<polyline clip-path=\"url(#clip692)\" style=\"stroke:#000000; stroke-linecap:round; stroke-linejoin:round; stroke-width:2; stroke-opacity:0.1; fill:none\" points=\"192.709,1038.39 2352.76,1038.39 \"/>\n",
       "<polyline clip-path=\"url(#clip692)\" style=\"stroke:#000000; stroke-linecap:round; stroke-linejoin:round; stroke-width:2; stroke-opacity:0.1; fill:none\" points=\"192.709,766.846 2352.76,766.846 \"/>\n",
       "<polyline clip-path=\"url(#clip692)\" style=\"stroke:#000000; stroke-linecap:round; stroke-linejoin:round; stroke-width:2; stroke-opacity:0.1; fill:none\" points=\"192.709,495.298 2352.76,495.298 \"/>\n",
       "<polyline clip-path=\"url(#clip692)\" style=\"stroke:#000000; stroke-linecap:round; stroke-linejoin:round; stroke-width:2; stroke-opacity:0.1; fill:none\" points=\"192.709,223.75 2352.76,223.75 \"/>\n",
       "<polyline clip-path=\"url(#clip690)\" style=\"stroke:#000000; stroke-linecap:round; stroke-linejoin:round; stroke-width:4; stroke-opacity:1; fill:none\" points=\"192.709,1486.45 192.709,47.2441 \"/>\n",
       "<polyline clip-path=\"url(#clip690)\" style=\"stroke:#000000; stroke-linecap:round; stroke-linejoin:round; stroke-width:4; stroke-opacity:1; fill:none\" points=\"192.709,1309.94 211.607,1309.94 \"/>\n",
       "<polyline clip-path=\"url(#clip690)\" style=\"stroke:#000000; stroke-linecap:round; stroke-linejoin:round; stroke-width:4; stroke-opacity:1; fill:none\" points=\"192.709,1038.39 211.607,1038.39 \"/>\n",
       "<polyline clip-path=\"url(#clip690)\" style=\"stroke:#000000; stroke-linecap:round; stroke-linejoin:round; stroke-width:4; stroke-opacity:1; fill:none\" points=\"192.709,766.846 211.607,766.846 \"/>\n",
       "<polyline clip-path=\"url(#clip690)\" style=\"stroke:#000000; stroke-linecap:round; stroke-linejoin:round; stroke-width:4; stroke-opacity:1; fill:none\" points=\"192.709,495.298 211.607,495.298 \"/>\n",
       "<polyline clip-path=\"url(#clip690)\" style=\"stroke:#000000; stroke-linecap:round; stroke-linejoin:round; stroke-width:4; stroke-opacity:1; fill:none\" points=\"192.709,223.75 211.607,223.75 \"/>\n",
       "<path clip-path=\"url(#clip690)\" d=\"M51.3625 1310.39 L81.0383 1310.39 L81.0383 1314.33 L51.3625 1314.33 L51.3625 1310.39 Z\" fill=\"#000000\" fill-rule=\"nonzero\" fill-opacity=\"1\" /><path clip-path=\"url(#clip690)\" d=\"M101.131 1295.74 Q97.5197 1295.74 95.691 1299.31 Q93.8854 1302.85 93.8854 1309.98 Q93.8854 1317.08 95.691 1320.65 Q97.5197 1324.19 101.131 1324.19 Q104.765 1324.19 106.571 1320.65 Q108.399 1317.08 108.399 1309.98 Q108.399 1302.85 106.571 1299.31 Q104.765 1295.74 101.131 1295.74 M101.131 1292.04 Q106.941 1292.04 109.996 1296.64 Q113.075 1301.23 113.075 1309.98 Q113.075 1318.7 109.996 1323.31 Q106.941 1327.89 101.131 1327.89 Q95.3206 1327.89 92.2419 1323.31 Q89.1864 1318.7 89.1864 1309.98 Q89.1864 1301.23 92.2419 1296.64 Q95.3206 1292.04 101.131 1292.04 Z\" fill=\"#000000\" fill-rule=\"nonzero\" fill-opacity=\"1\" /><path clip-path=\"url(#clip690)\" d=\"M121.293 1321.34 L126.177 1321.34 L126.177 1327.22 L121.293 1327.22 L121.293 1321.34 Z\" fill=\"#000000\" fill-rule=\"nonzero\" fill-opacity=\"1\" /><path clip-path=\"url(#clip690)\" d=\"M140.39 1323.29 L156.709 1323.29 L156.709 1327.22 L134.765 1327.22 L134.765 1323.29 Q137.427 1320.53 142.01 1315.9 Q146.617 1311.25 147.797 1309.91 Q150.043 1307.38 150.922 1305.65 Q151.825 1303.89 151.825 1302.2 Q151.825 1299.44 149.88 1297.71 Q147.959 1295.97 144.857 1295.97 Q142.658 1295.97 140.205 1296.74 Q137.774 1297.5 134.996 1299.05 L134.996 1294.33 Q137.82 1293.19 140.274 1292.62 Q142.728 1292.04 144.765 1292.04 Q150.135 1292.04 153.33 1294.72 Q156.524 1297.41 156.524 1301.9 Q156.524 1304.03 155.714 1305.95 Q154.927 1307.85 152.82 1310.44 Q152.242 1311.11 149.14 1314.33 Q146.038 1317.52 140.39 1323.29 Z\" fill=\"#000000\" fill-rule=\"nonzero\" fill-opacity=\"1\" /><path clip-path=\"url(#clip690)\" d=\"M50.9921 1038.85 L80.6679 1038.85 L80.6679 1042.78 L50.9921 1042.78 L50.9921 1038.85 Z\" fill=\"#000000\" fill-rule=\"nonzero\" fill-opacity=\"1\" /><path clip-path=\"url(#clip690)\" d=\"M100.76 1024.19 Q97.1493 1024.19 95.3206 1027.76 Q93.515 1031.3 93.515 1038.43 Q93.515 1045.54 95.3206 1049.1 Q97.1493 1052.64 100.76 1052.64 Q104.395 1052.64 106.2 1049.1 Q108.029 1045.54 108.029 1038.43 Q108.029 1031.3 106.2 1027.76 Q104.395 1024.19 100.76 1024.19 M100.76 1020.49 Q106.571 1020.49 109.626 1025.1 Q112.705 1029.68 112.705 1038.43 Q112.705 1047.16 109.626 1051.76 Q106.571 1056.35 100.76 1056.35 Q94.9502 1056.35 91.8715 1051.76 Q88.816 1047.16 88.816 1038.43 Q88.816 1029.68 91.8715 1025.1 Q94.9502 1020.49 100.76 1020.49 Z\" fill=\"#000000\" fill-rule=\"nonzero\" fill-opacity=\"1\" /><path clip-path=\"url(#clip690)\" d=\"M120.922 1049.79 L125.807 1049.79 L125.807 1055.67 L120.922 1055.67 L120.922 1049.79 Z\" fill=\"#000000\" fill-rule=\"nonzero\" fill-opacity=\"1\" /><path clip-path=\"url(#clip690)\" d=\"M136.802 1051.74 L144.441 1051.74 L144.441 1025.37 L136.131 1027.04 L136.131 1022.78 L144.394 1021.11 L149.07 1021.11 L149.07 1051.74 L156.709 1051.74 L156.709 1055.67 L136.802 1055.67 L136.802 1051.74 Z\" fill=\"#000000\" fill-rule=\"nonzero\" fill-opacity=\"1\" /><path clip-path=\"url(#clip690)\" d=\"M99.5335 752.645 Q95.9224 752.645 94.0937 756.209 Q92.2882 759.751 92.2882 766.881 Q92.2882 773.987 94.0937 777.552 Q95.9224 781.094 99.5335 781.094 Q103.168 781.094 104.973 777.552 Q106.802 773.987 106.802 766.881 Q106.802 759.751 104.973 756.209 Q103.168 752.645 99.5335 752.645 M99.5335 748.941 Q105.344 748.941 108.399 753.547 Q111.478 758.131 111.478 766.881 Q111.478 775.608 108.399 780.214 Q105.344 784.797 99.5335 784.797 Q93.7234 784.797 90.6447 780.214 Q87.5892 775.608 87.5892 766.881 Q87.5892 758.131 90.6447 753.547 Q93.7234 748.941 99.5335 748.941 Z\" fill=\"#000000\" fill-rule=\"nonzero\" fill-opacity=\"1\" /><path clip-path=\"url(#clip690)\" d=\"M119.695 778.246 L124.58 778.246 L124.58 784.126 L119.695 784.126 L119.695 778.246 Z\" fill=\"#000000\" fill-rule=\"nonzero\" fill-opacity=\"1\" /><path clip-path=\"url(#clip690)\" d=\"M144.765 752.645 Q141.154 752.645 139.325 756.209 Q137.519 759.751 137.519 766.881 Q137.519 773.987 139.325 777.552 Q141.154 781.094 144.765 781.094 Q148.399 781.094 150.205 777.552 Q152.033 773.987 152.033 766.881 Q152.033 759.751 150.205 756.209 Q148.399 752.645 144.765 752.645 M144.765 748.941 Q150.575 748.941 153.63 753.547 Q156.709 758.131 156.709 766.881 Q156.709 775.608 153.63 780.214 Q150.575 784.797 144.765 784.797 Q138.955 784.797 135.876 780.214 Q132.82 775.608 132.82 766.881 Q132.82 758.131 135.876 753.547 Q138.955 748.941 144.765 748.941 Z\" fill=\"#000000\" fill-rule=\"nonzero\" fill-opacity=\"1\" /><path clip-path=\"url(#clip690)\" d=\"M100.76 481.097 Q97.1493 481.097 95.3206 484.662 Q93.515 488.203 93.515 495.333 Q93.515 502.439 95.3206 506.004 Q97.1493 509.546 100.76 509.546 Q104.395 509.546 106.2 506.004 Q108.029 502.439 108.029 495.333 Q108.029 488.203 106.2 484.662 Q104.395 481.097 100.76 481.097 M100.76 477.393 Q106.571 477.393 109.626 482 Q112.705 486.583 112.705 495.333 Q112.705 504.06 109.626 508.666 Q106.571 513.249 100.76 513.249 Q94.9502 513.249 91.8715 508.666 Q88.816 504.06 88.816 495.333 Q88.816 486.583 91.8715 482 Q94.9502 477.393 100.76 477.393 Z\" fill=\"#000000\" fill-rule=\"nonzero\" fill-opacity=\"1\" /><path clip-path=\"url(#clip690)\" d=\"M120.922 506.699 L125.807 506.699 L125.807 512.578 L120.922 512.578 L120.922 506.699 Z\" fill=\"#000000\" fill-rule=\"nonzero\" fill-opacity=\"1\" /><path clip-path=\"url(#clip690)\" d=\"M136.802 508.643 L144.441 508.643 L144.441 482.277 L136.131 483.944 L136.131 479.685 L144.394 478.018 L149.07 478.018 L149.07 508.643 L156.709 508.643 L156.709 512.578 L136.802 512.578 L136.802 508.643 Z\" fill=\"#000000\" fill-rule=\"nonzero\" fill-opacity=\"1\" /><path clip-path=\"url(#clip690)\" d=\"M101.131 209.549 Q97.5197 209.549 95.691 213.114 Q93.8854 216.655 93.8854 223.785 Q93.8854 230.891 95.691 234.456 Q97.5197 237.998 101.131 237.998 Q104.765 237.998 106.571 234.456 Q108.399 230.891 108.399 223.785 Q108.399 216.655 106.571 213.114 Q104.765 209.549 101.131 209.549 M101.131 205.845 Q106.941 205.845 109.996 210.452 Q113.075 215.035 113.075 223.785 Q113.075 232.512 109.996 237.118 Q106.941 241.702 101.131 241.702 Q95.3206 241.702 92.2419 237.118 Q89.1864 232.512 89.1864 223.785 Q89.1864 215.035 92.2419 210.452 Q95.3206 205.845 101.131 205.845 Z\" fill=\"#000000\" fill-rule=\"nonzero\" fill-opacity=\"1\" /><path clip-path=\"url(#clip690)\" d=\"M121.293 235.151 L126.177 235.151 L126.177 241.03 L121.293 241.03 L121.293 235.151 Z\" fill=\"#000000\" fill-rule=\"nonzero\" fill-opacity=\"1\" /><path clip-path=\"url(#clip690)\" d=\"M140.39 237.095 L156.709 237.095 L156.709 241.03 L134.765 241.03 L134.765 237.095 Q137.427 234.34 142.01 229.711 Q146.617 225.058 147.797 223.715 Q150.043 221.192 150.922 219.456 Q151.825 217.697 151.825 216.007 Q151.825 213.253 149.88 211.516 Q147.959 209.78 144.857 209.78 Q142.658 209.78 140.205 210.544 Q137.774 211.308 134.996 212.859 L134.996 208.137 Q137.82 207.003 140.274 206.424 Q142.728 205.845 144.765 205.845 Q150.135 205.845 153.33 208.53 Q156.524 211.216 156.524 215.706 Q156.524 217.836 155.714 219.757 Q154.927 221.655 152.82 224.248 Q152.242 224.919 149.14 228.137 Q146.038 231.331 140.39 237.095 Z\" fill=\"#000000\" fill-rule=\"nonzero\" fill-opacity=\"1\" /><polyline clip-path=\"url(#clip692)\" style=\"stroke:#009af9; stroke-linecap:round; stroke-linejoin:round; stroke-width:4; stroke-opacity:1; fill:none\" points=\"253.843,766.846 317.523,700.305 381.204,634.405 444.884,569.781 508.565,507.054 572.246,446.829 635.926,389.686 699.607,336.176 763.288,286.813 826.968,242.073 890.649,202.386 954.329,168.136 1018.01,139.652 1081.69,117.208 1145.37,101.021 1209.05,91.2452 1272.73,87.9763 1336.41,91.2452 1400.09,101.021 1463.77,117.208 1527.46,139.652 1591.14,168.136 1654.82,202.386 1718.5,242.073 1782.18,286.813 1845.86,336.176 1909.54,389.686 1973.22,446.829 2036.9,507.054 2100.58,569.781 2164.26,634.405 2227.94,700.305 2291.62,766.846 \"/>\n",
       "<polyline clip-path=\"url(#clip692)\" style=\"stroke:#e26f46; stroke-linecap:round; stroke-linejoin:round; stroke-width:4; stroke-opacity:1; fill:none\" points=\"253.843,766.846 317.523,634.405 381.204,507.054 444.884,389.686 508.565,286.813 572.246,202.386 635.926,139.652 699.607,101.021 763.288,87.9763 826.968,101.021 890.649,139.652 954.329,202.386 1018.01,286.813 1081.69,389.686 1145.37,507.054 1209.05,634.405 1272.73,766.846 1336.41,899.287 1400.09,1026.64 1463.77,1144.01 1527.46,1246.88 1591.14,1331.31 1654.82,1394.04 1718.5,1432.67 1782.18,1445.72 1845.86,1432.67 1909.54,1394.04 1973.22,1331.31 2036.9,1246.88 2100.58,1144.01 2164.26,1026.64 2227.94,899.287 2291.62,766.846 \"/>\n",
       "<polyline clip-path=\"url(#clip692)\" style=\"stroke:#3da44d; stroke-linecap:round; stroke-linejoin:round; stroke-width:4; stroke-opacity:1; fill:none\" points=\"253.843,766.846 317.523,963.911 381.204,1144.01 444.884,1291.62 508.565,1394.04 572.246,1442.45 635.926,1432.67 699.607,1365.56 763.288,1246.88 826.968,1086.86 890.649,899.287 954.329,700.305 1018.01,507.054 1081.69,336.176 1145.37,202.386 1209.05,117.208 1272.73,87.9763 1336.41,117.208 1400.09,202.386 1463.77,336.176 1527.46,507.054 1591.14,700.305 1654.82,899.287 1718.5,1086.86 1782.18,1246.88 1845.86,1365.56 1909.54,1432.67 1973.22,1442.45 2036.9,1394.04 2100.58,1291.62 2164.26,1144.01 2227.94,963.911 2291.62,766.846 \"/>\n",
       "<polyline clip-path=\"url(#clip692)\" style=\"stroke:#c271d2; stroke-linecap:round; stroke-linejoin:round; stroke-width:4; stroke-opacity:1; fill:none\" points=\"253.843,766.846 317.523,1026.64 381.204,1246.88 444.884,1394.04 508.565,1445.72 572.246,1394.04 635.926,1246.88 699.607,1026.64 763.288,766.846 826.968,507.054 890.649,286.813 954.329,139.652 1018.01,87.9763 1081.69,139.652 1145.37,286.813 1209.05,507.054 1272.73,766.846 1336.41,1026.64 1400.09,1246.88 1463.77,1394.04 1527.46,1445.72 1591.14,1394.04 1654.82,1246.88 1718.5,1026.64 1782.18,766.846 1845.86,507.054 1909.54,286.813 1973.22,139.652 2036.9,87.9763 2100.58,139.652 2164.26,286.813 2227.94,507.054 2291.62,766.846 \"/>\n",
       "<path clip-path=\"url(#clip690)\" d=\"M264.711 354.418 L534.859 354.418 L534.859 95.2176 L264.711 95.2176  Z\" fill=\"#ffffff\" fill-rule=\"evenodd\" fill-opacity=\"1\"/>\n",
       "<polyline clip-path=\"url(#clip690)\" style=\"stroke:#000000; stroke-linecap:round; stroke-linejoin:round; stroke-width:4; stroke-opacity:1; fill:none\" points=\"264.711,354.418 534.859,354.418 534.859,95.2176 264.711,95.2176 264.711,354.418 \"/>\n",
       "<polyline clip-path=\"url(#clip690)\" style=\"stroke:#009af9; stroke-linecap:round; stroke-linejoin:round; stroke-width:4; stroke-opacity:1; fill:none\" points=\"288.711,147.058 432.714,147.058 \"/>\n",
       "<path clip-path=\"url(#clip690)\" d=\"M470.557 166.745 Q468.752 171.375 467.039 172.787 Q465.326 174.199 462.456 174.199 L459.053 174.199 L459.053 170.634 L461.553 170.634 Q463.312 170.634 464.284 169.8 Q465.256 168.967 466.437 165.865 L467.201 163.921 L456.715 138.412 L461.229 138.412 L469.331 158.689 L477.432 138.412 L481.946 138.412 L470.557 166.745 Z\" fill=\"#000000\" fill-rule=\"nonzero\" fill-opacity=\"1\" /><path clip-path=\"url(#clip690)\" d=\"M489.238 160.402 L496.877 160.402 L496.877 134.037 L488.567 135.703 L488.567 131.444 L496.83 129.778 L501.506 129.778 L501.506 160.402 L509.145 160.402 L509.145 164.338 L489.238 164.338 L489.238 160.402 Z\" fill=\"#000000\" fill-rule=\"nonzero\" fill-opacity=\"1\" /><polyline clip-path=\"url(#clip690)\" style=\"stroke:#e26f46; stroke-linecap:round; stroke-linejoin:round; stroke-width:4; stroke-opacity:1; fill:none\" points=\"288.711,198.898 432.714,198.898 \"/>\n",
       "<path clip-path=\"url(#clip690)\" d=\"M470.557 218.585 Q468.752 223.215 467.039 224.627 Q465.326 226.039 462.456 226.039 L459.053 226.039 L459.053 222.474 L461.553 222.474 Q463.312 222.474 464.284 221.64 Q465.256 220.807 466.437 217.705 L467.201 215.761 L456.715 190.252 L461.229 190.252 L469.331 210.529 L477.432 190.252 L481.946 190.252 L470.557 218.585 Z\" fill=\"#000000\" fill-rule=\"nonzero\" fill-opacity=\"1\" /><path clip-path=\"url(#clip690)\" d=\"M492.455 212.242 L508.775 212.242 L508.775 216.178 L486.83 216.178 L486.83 212.242 Q489.492 209.488 494.076 204.858 Q498.682 200.205 499.863 198.863 Q502.108 196.34 502.988 194.604 Q503.891 192.844 503.891 191.155 Q503.891 188.4 501.946 186.664 Q500.025 184.928 496.923 184.928 Q494.724 184.928 492.27 185.692 Q489.84 186.455 487.062 188.006 L487.062 183.284 Q489.886 182.15 492.34 181.571 Q494.793 180.993 496.83 180.993 Q502.201 180.993 505.395 183.678 Q508.59 186.363 508.59 190.854 Q508.59 192.983 507.779 194.905 Q506.992 196.803 504.886 199.395 Q504.307 200.067 501.205 203.284 Q498.104 206.479 492.455 212.242 Z\" fill=\"#000000\" fill-rule=\"nonzero\" fill-opacity=\"1\" /><polyline clip-path=\"url(#clip690)\" style=\"stroke:#3da44d; stroke-linecap:round; stroke-linejoin:round; stroke-width:4; stroke-opacity:1; fill:none\" points=\"288.711,250.738 432.714,250.738 \"/>\n",
       "<path clip-path=\"url(#clip690)\" d=\"M470.557 270.425 Q468.752 275.055 467.039 276.467 Q465.326 277.879 462.456 277.879 L459.053 277.879 L459.053 274.314 L461.553 274.314 Q463.312 274.314 464.284 273.48 Q465.256 272.647 466.437 269.545 L467.201 267.601 L456.715 242.092 L461.229 242.092 L469.331 262.369 L477.432 242.092 L481.946 242.092 L470.557 270.425 Z\" fill=\"#000000\" fill-rule=\"nonzero\" fill-opacity=\"1\" /><path clip-path=\"url(#clip690)\" d=\"M502.594 249.383 Q505.951 250.101 507.826 252.369 Q509.724 254.638 509.724 257.971 Q509.724 263.087 506.205 265.888 Q502.687 268.689 496.205 268.689 Q494.029 268.689 491.715 268.249 Q489.423 267.832 486.969 266.976 L486.969 262.462 Q488.914 263.596 491.229 264.175 Q493.543 264.754 496.067 264.754 Q500.465 264.754 502.756 263.018 Q505.071 261.281 505.071 257.971 Q505.071 254.916 502.918 253.203 Q500.789 251.467 496.969 251.467 L492.942 251.467 L492.942 247.624 L497.154 247.624 Q500.604 247.624 502.432 246.258 Q504.261 244.87 504.261 242.277 Q504.261 239.615 502.363 238.203 Q500.488 236.768 496.969 236.768 Q495.048 236.768 492.849 237.184 Q490.65 237.601 488.011 238.481 L488.011 234.314 Q490.673 233.573 492.988 233.203 Q495.326 232.833 497.386 232.833 Q502.71 232.833 505.812 235.263 Q508.914 237.67 508.914 241.791 Q508.914 244.661 507.27 246.652 Q505.627 248.62 502.594 249.383 Z\" fill=\"#000000\" fill-rule=\"nonzero\" fill-opacity=\"1\" /><polyline clip-path=\"url(#clip690)\" style=\"stroke:#c271d2; stroke-linecap:round; stroke-linejoin:round; stroke-width:4; stroke-opacity:1; fill:none\" points=\"288.711,302.578 432.714,302.578 \"/>\n",
       "<path clip-path=\"url(#clip690)\" d=\"M470.557 322.265 Q468.752 326.895 467.039 328.307 Q465.326 329.719 462.456 329.719 L459.053 329.719 L459.053 326.154 L461.553 326.154 Q463.312 326.154 464.284 325.32 Q465.256 324.487 466.437 321.385 L467.201 319.441 L456.715 293.932 L461.229 293.932 L469.331 314.209 L477.432 293.932 L481.946 293.932 L470.557 322.265 Z\" fill=\"#000000\" fill-rule=\"nonzero\" fill-opacity=\"1\" /><path clip-path=\"url(#clip690)\" d=\"M501.275 289.372 L489.469 307.821 L501.275 307.821 L501.275 289.372 M500.048 285.298 L505.928 285.298 L505.928 307.821 L510.858 307.821 L510.858 311.709 L505.928 311.709 L505.928 319.858 L501.275 319.858 L501.275 311.709 L485.673 311.709 L485.673 307.196 L500.048 285.298 Z\" fill=\"#000000\" fill-rule=\"nonzero\" fill-opacity=\"1\" /></svg>\n"
      ]
     },
     "execution_count": 30,
     "metadata": {},
     "output_type": "execute_result"
    }
   ],
   "source": [
    "F = eigen(Matrix(A)) # compute eigenvectors and eigenvalues of A converted to full matrix\n",
    "plot(F.vectors[:,3:6]) # plot eigenmodes 3 to 6 "
   ]
  },
  {
   "cell_type": "code",
   "execution_count": null,
   "id": "c0f83fbf",
   "metadata": {},
   "outputs": [],
   "source": []
  },
  {
   "cell_type": "code",
   "execution_count": null,
   "id": "53fd93a1",
   "metadata": {},
   "outputs": [],
   "source": []
  },
  {
   "cell_type": "code",
   "execution_count": null,
   "id": "d08d0603",
   "metadata": {},
   "outputs": [],
   "source": []
  }
 ],
 "metadata": {
  "kernelspec": {
   "display_name": "Julia 1.8.1",
   "language": "julia",
   "name": "julia-1.8"
  },
  "language_info": {
   "file_extension": ".jl",
   "mimetype": "application/julia",
   "name": "julia",
   "version": "1.8.1"
  }
 },
 "nbformat": 4,
 "nbformat_minor": 5
}
