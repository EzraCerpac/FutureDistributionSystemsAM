{
 "cells": [
  {
   "cell_type": "markdown",
   "metadata": {},
   "source": [
    "# EE4375: Sixth Lab Session: Galerkin Finite Element Method for the Poisson Equation on the Unit Square "
   ]
  },
  {
   "cell_type": "markdown",
   "metadata": {},
   "source": [
    "Memory efficicent and type stable implememtation of before.  "
   ]
  },
  {
   "cell_type": "markdown",
   "metadata": {},
   "source": [
    "## Import Packages"
   ]
  },
  {
   "cell_type": "code",
   "execution_count": 2,
   "metadata": {},
   "outputs": [],
   "source": [
    "import Gmsh: gmsh \n",
    "using GR \n",
    "\n",
    "using LinearAlgebra \n",
    "using SparseArrays \n",
    "using StructArrays\n",
    "using StaticArrays\n",
    "using StaticRanges\n",
    "\n",
    "using IterativeSolvers\n",
    "using Preconditioners\n",
    "\n",
    "using BenchmarkTools\n",
    "using Profile\n",
    "using ProfileView\n",
    "\n",
    "using Plots "
   ]
  },
  {
   "cell_type": "markdown",
   "metadata": {},
   "source": [
    "## What to debug next? "
   ]
  },
  {
   "cell_type": "markdown",
   "metadata": {},
   "source": []
  },
  {
   "cell_type": "markdown",
   "metadata": {},
   "source": [
    "## Section 1: Geometry and Mesh Generation of Unit Square Geometry \n",
    "The code that follows performs <b>geometry generation</b> and <b>mesh generation</b> on the unit square geometry. "
   ]
  },
  {
   "cell_type": "code",
   "execution_count": 21,
   "metadata": {},
   "outputs": [
    {
     "name": "stdout",
     "output_type": "stream",
     "text": [
      "Info    : Meshing 1D...\n",
      "Info    : [  0%] Meshing curve 1 (Line)\n",
      "Info    : [ 30%] Meshing curve 2 (Line)\n",
      "Info    : [ 50%] Meshing curve 3 (Line)\n",
      "Info    : [ 80%] Meshing curve 4 (Line)\n",
      "Info    : Done meshing 1D (Wall 0.000424334s, CPU 0.000369s)\n",
      "Info    : Meshing 2D...\n",
      "Info    : Meshing surface 1 (Plane, Frontal-Delaunay)\n",
      "Info    : Done meshing 2D (Wall 0.000228792s, CPU 0.000191s)\n",
      "Info    : 5 nodes 12 elements\n",
      "Info    : Writing 'square.msh'...\n",
      "Info    : Done writing 'square.msh'\n"
     ]
    }
   ],
   "source": [
    "#..1/4: initialize gmsh \n",
    "gmsh.initialize()\n",
    "\n",
    "#..2/4: generate geometry \n",
    "gmsh.option.setNumber(\"General.Terminal\", 1)\n",
    "gmsh.model.add(\"square\")\n",
    "#..set mesh density parameter \n",
    "lc = 1.\n",
    "#lc = 0.001; \n",
    "#..define four points via (x,y,z) coordinates \n",
    "gmsh.model.geo.addPoint(0, 0, 0, lc, 1)\n",
    "gmsh.model.geo.addPoint(1., 0,  0, lc, 2)\n",
    "gmsh.model.geo.addPoint(1., 1., 0, lc, 3)\n",
    "gmsh.model.geo.addPoint(0, 1., 0, lc, 4)\n",
    "#..define four edges by connecting point labels pairwise  \n",
    "gmsh.model.geo.addLine(1, 2, 1)\n",
    "gmsh.model.geo.addLine(2, 3, 2)\n",
    "gmsh.model.geo.addLine(3, 4, 3)\n",
    "gmsh.model.geo.addLine(4, 1, 4)\n",
    "#..define curved loop by connecting four edge labels  \n",
    "gmsh.model.geo.addCurveLoop([1, 2, 3, 4], 1)\n",
    "#..define surface by curved loop \n",
    "gmsh.model.geo.addPlaneSurface([1], 1)\n",
    "#..give label to the surface \n",
    "#..syntax of the function being used is gmsh.model.setPhysicalName(dim, tag, name) \n",
    "gmsh.model.setPhysicalName(2, 1, \"My surface\")\n",
    "#..synchronize model \n",
    "gmsh.model.geo.synchronize()\n",
    "\n",
    "#..3/4: generate two-dimensional mesh \n",
    "gmsh.model.mesh.generate(2)\n",
    "#..if true, write mesh to file for further processing \n",
    "if (true) gmsh.write(\"square.msh\") end \n",
    "#..if true, visualize mesh through the GUI \n",
    "if (false) gmsh.fltk.run() end \n",
    "\n",
    "#..4/4: finalize gmsh \n",
    "gmsh.finalize()"
   ]
  },
  {
   "cell_type": "markdown",
   "metadata": {},
   "source": [
    "## Section 2:/ Read Mesh from file and perform loop over the elements "
   ]
  },
  {
   "cell_type": "markdown",
   "metadata": {},
   "source": [
    "### Section 1.3: Using a struct as in the 1D code"
   ]
  },
  {
   "cell_type": "code",
   "execution_count": 22,
   "metadata": {},
   "outputs": [],
   "source": [
    "# struct to hold 2D point\n",
    "struct Point\n",
    "  x::Float64   # x coordinates\n",
    "  y::Float64   # y coordinates \n",
    "end\n",
    "\n",
    "# struct to hold a single mesh element\n",
    "struct Element\n",
    "  p1::Point       # coordinates first node \n",
    "  p2::Point       # coordinates second node \n",
    "  p3::Point       # coordinates third node     \n",
    "  e1::Int64       # global index first node\n",
    "  e2::Int64       # global index second node\n",
    "  e3::Int64       # global index third node\n",
    "  area::Float64   # area of the element \n",
    "end\n",
    "\n",
    "# struct to hold entire mesh\n",
    "struct Mesh\n",
    "  nnodes::Int64\n",
    "  nelements::Int64\n",
    "  Elements::Array{Element,1}\n",
    "  bndNodeIds::Vector{Int64}\n",
    "  dofPerElement::Int64       \n",
    "end "
   ]
  },
  {
   "cell_type": "code",
   "execution_count": 23,
   "metadata": {},
   "outputs": [
    {
     "data": {
      "text/plain": [
       "area_triangle (generic function with 1 method)"
      ]
     },
     "execution_count": 23,
     "metadata": {},
     "output_type": "execute_result"
    }
   ],
   "source": [
    "# function area_triangle(p1::Point,p2::Point,p3::Point)\n",
    "function area_triangle(p1,p2,p3)    \n",
    "    x12 = p2.x - p1.x; x13 = p3.x-p1.x;\n",
    "    y12 = p2.y - p1.y; y13 = p3.y-p1.y;\n",
    "    area_id = x12*y13 - x13*y12; \n",
    "    area_id = abs(area_id)/2.\n",
    "    return area_id \n",
    "end"
   ]
  },
  {
   "cell_type": "code",
   "execution_count": 24,
   "metadata": {},
   "outputs": [
    {
     "data": {
      "text/plain": [
       "0.5"
      ]
     },
     "execution_count": 24,
     "metadata": {},
     "output_type": "execute_result"
    }
   ],
   "source": [
    "p1 = Point(0.,0.); \n",
    "p2 = Point(1.,0.); \n",
    "p3 = Point(0.,1.); \n",
    "area_triangle(p1,p2,p3)\n",
    "# @code_warntype area_triangle(p1,p2,p3)"
   ]
  },
  {
   "cell_type": "code",
   "execution_count": 25,
   "metadata": {},
   "outputs": [
    {
     "data": {
      "text/plain": [
       "nodesFromGmsh (generic function with 1 method)"
      ]
     },
     "execution_count": 25,
     "metadata": {},
     "output_type": "execute_result"
    }
   ],
   "source": [
    "function meshFromGmsh(meshFile) :: Mesh  \n",
    "    \n",
    "    #..Initialize GMSH\n",
    "    gmsh.initialize()\n",
    "    \n",
    "    #..Read mesh from file\n",
    "    gmsh.open(meshFile)\n",
    "\n",
    "    #..Get the mesh nodes\n",
    "    #..Observe that although the mesh is two-dimensional,\n",
    "    #..the z-coordinate that is equal to zero is stored as well.\n",
    "    #..Observe that the coordinates are stored contiguously for computational\n",
    "    #..efficiency\n",
    "    node_ids, node_coord, _ = gmsh.model.mesh.getNodes()\n",
    "    nnodes = length(node_ids)\n",
    "    #..sort the node coordinates by ID, such that Node one sits at row 1\n",
    "    tosort = [node_ids node_coord[1:3:end] node_coord[2:3:end]];\n",
    "    sorted = sortslices(tosort , dims = 1);\n",
    "    node_ids = sorted[:,1]\n",
    "    xnode = sorted[:,2]\n",
    "    ynode = sorted[:,3]\n",
    "\n",
    "    #..4/12 Get the mesh elements\n",
    "    #..observe that we get all the two-dimensional triangular elements from the mesh\n",
    "    element_types, element_ids, element_connectivity = gmsh.model.mesh.getElements(2)\n",
    "    nelements = length(element_ids[1])\n",
    "      \n",
    "    # what does the undef do here? \n",
    "    Elements = Array{Element,1}(undef,nelements)\n",
    "\n",
    "    for element_id in 1:nelements\n",
    "        e1 = element_connectivity[1][3*(element_id-1)+1]\n",
    "        e2 = element_connectivity[1][3*(element_id-1)+2]\n",
    "        e3 = element_connectivity[1][3*(element_id-1)+3]\n",
    "        p1 = Point(sorted[e1,2], sorted[e1,3])\n",
    "        p2 = Point(sorted[e2,2], sorted[e2,3])\n",
    "        p3 = Point(sorted[e3,2], sorted[e3,3])\n",
    "        area = area_triangle(p1,p2,p3); \n",
    "        Elements[element_id] = Element(p1,p2,p3,e1,e2,e3,area)\n",
    "    end\n",
    "\n",
    "    #..retrieve boundary nodes by loop over corner point and boundary edges\n",
    "    node_ids1=[]; node_ids2=[]; node_ids3=[]; node_ids4=[]; \n",
    "    node_ids5=[]; node_ids6=[]; node_ids7=[]; node_ids8=[]; \n",
    "    node_ids1, node_coord, _ = gmsh.model.mesh.getNodes(0,1)\n",
    "    node_ids2, node_coord, _ = gmsh.model.mesh.getNodes(0,2)\n",
    "    node_ids3, node_coord, _ = gmsh.model.mesh.getNodes(0,3)\n",
    "    node_ids4, node_coord, _ = gmsh.model.mesh.getNodes(0,4)\n",
    "    node_ids5, node_coord, _ = gmsh.model.mesh.getNodes(1,1)\n",
    "    node_ids6, node_coord, _ = gmsh.model.mesh.getNodes(1,2)\n",
    "    node_ids7, node_coord, _ = gmsh.model.mesh.getNodes(1,3)\n",
    "    node_ids8, node_coord, _ = gmsh.model.mesh.getNodes(1,4)\n",
    "    bnd_node_ids = union(node_ids1,node_ids2,node_ids3,node_ids4,node_ids5,node_ids6,node_ids7,node_ids8)\n",
    "    \n",
    "    #..store inside the mesh \n",
    "    dofPerElement = 3\n",
    "    mesh = Mesh(nnodes,nelements,Elements,bnd_node_ids,dofPerElement) \n",
    "    \n",
    "    #..Finalize gmsh\n",
    "    gmsh.finalize()\n",
    "    \n",
    "    return mesh \n",
    "end\n",
    "\n",
    "function nodesFromGmsh(meshFile)\n",
    "    \n",
    "    #..Initialize GMSH\n",
    "    gmsh.initialize()\n",
    "    \n",
    "    #..Read mesh from file\n",
    "    gmsh.open(meshFile)\n",
    "\n",
    "    #..Get the mesh nodes\n",
    "    #..Observe that although the mesh is two-dimensional,\n",
    "    #..the z-coordinate that is equal to zero is stored as well.\n",
    "    #..Observe that the coordinates are stored contiguously for computational\n",
    "    #..efficiency\n",
    "    node_ids, node_coord, _ = gmsh.model.mesh.getNodes()\n",
    "    nnodes = length(node_ids)\n",
    "    #..sort the node coordinates by ID, such that Node one sits at row 1\n",
    "    tosort = [node_ids node_coord[1:3:end] node_coord[2:3:end]];\n",
    "    sorted = sortslices(tosort , dims = 1);\n",
    "    node_ids = sorted[:,1]\n",
    "    xnode = sorted[:,2]\n",
    "    ynode = sorted[:,3]\n",
    "\n",
    "    #..Finalize gmsh\n",
    "    gmsh.finalize()\n",
    "    \n",
    "    return xnode,ynode \n",
    "end"
   ]
  },
  {
   "cell_type": "code",
   "execution_count": 26,
   "metadata": {},
   "outputs": [
    {
     "name": "stdout",
     "output_type": "stream",
     "text": [
      "Info    : Reading 'square-1.msh'...\n",
      "Info    : 9 entities\n",
      "Info    : 5 nodes\n",
      "Info    : 12 elements\n",
      "Info    : Done reading 'square-1.msh'\n"
     ]
    },
    {
     "data": {
      "text/plain": [
       "Mesh(5, 4, Element[Element(Point(0.0, 0.0), Point(1.0, 0.0), Point(0.5, 0.5), 1, 2, 5, 0.25), Element(Point(0.0, 1.0), Point(0.0, 0.0), Point(0.5, 0.5), 4, 1, 5, 0.25), Element(Point(1.0, 0.0), Point(1.0, 1.0), Point(0.5, 0.5), 2, 3, 5, 0.25), Element(Point(1.0, 1.0), Point(0.0, 1.0), Point(0.5, 0.5), 3, 4, 5, 0.25)], [1, 2, 3, 4], 3)"
      ]
     },
     "metadata": {},
     "output_type": "display_data"
    },
    {
     "data": {
      "text/plain": [
       "4-element Vector{Element}:\n",
       " Element(Point(0.0, 0.0), Point(1.0, 0.0), Point(0.5, 0.5), 1, 2, 5, 0.25)\n",
       " Element(Point(0.0, 1.0), Point(0.0, 0.0), Point(0.5, 0.5), 4, 1, 5, 0.25)\n",
       " Element(Point(1.0, 0.0), Point(1.0, 1.0), Point(0.5, 0.5), 2, 3, 5, 0.25)\n",
       " Element(Point(1.0, 1.0), Point(0.0, 1.0), Point(0.5, 0.5), 3, 4, 5, 0.25)"
      ]
     },
     "metadata": {},
     "output_type": "display_data"
    },
    {
     "name": "stdout",
     "output_type": "stream",
     "text": [
      "Info    : Reading 'square-1.msh'...\n",
      "Info    : 9 entities\n",
      "Info    : 5 nodes\n",
      "Info    : 12 elements\n",
      "Info    : Done reading 'square-1.msh'\n"
     ]
    },
    {
     "data": {
      "text/plain": [
       "([0.0, 1.0, 1.0, 0.0, 0.5], [0.0, 0.0, 1.0, 1.0, 0.5])"
      ]
     },
     "execution_count": 26,
     "metadata": {},
     "output_type": "execute_result"
    }
   ],
   "source": [
    "mesh = meshFromGmsh(\"square-1.msh\")\n",
    "display(mesh)\n",
    "typeof(mesh)\n",
    "display(mesh.Elements)\n",
    "length(mesh.Elements)\n",
    "xnode,ynode = nodesFromGmsh(\"square-1.msh\")"
   ]
  },
  {
   "cell_type": "code",
   "execution_count": 27,
   "metadata": {},
   "outputs": [],
   "source": [
    "# dump(mesh)"
   ]
  },
  {
   "cell_type": "code",
   "execution_count": 28,
   "metadata": {},
   "outputs": [
    {
     "name": "stdout",
     "output_type": "stream",
     "text": [
      "Info    : Reading 'square-1.msh'...\n",
      "Info    : 9 entities\n",
      "Info    : 5 nodes\n",
      "Info    : 12 elements\n",
      "Info    : Done reading 'square-1.msh'\n"
     ]
    },
    {
     "data": {
      "text/plain": [
       "([0.0, 1.0, 1.0, 0.0, 0.5], [0.0, 0.0, 1.0, 1.0, 0.5])"
      ]
     },
     "execution_count": 28,
     "metadata": {},
     "output_type": "execute_result"
    }
   ],
   "source": [
    "xnode,ynode = nodesFromGmsh(\"square-1.msh\")"
   ]
  },
  {
   "cell_type": "markdown",
   "metadata": {},
   "source": [
    "## Section 3: Perform a FEM Computation  "
   ]
  },
  {
   "cell_type": "markdown",
   "metadata": {},
   "source": [
    "### Section 1.3: Stiffness Matrix Assembly  "
   ]
  },
  {
   "cell_type": "code",
   "execution_count": 32,
   "metadata": {},
   "outputs": [
    {
     "data": {
      "text/plain": [
       "generateMatrix (generic function with 1 method)"
      ]
     },
     "execution_count": 32,
     "metadata": {},
     "output_type": "execute_result"
    }
   ],
   "source": [
    "function generateLocalMatrix(element::Element)\n",
    "    p1 = element.p1; p2 = element.p2; p3 = element.p3;  \n",
    "    e1 = element.e1; e2 = element.e2; e3 = element.e3;  \n",
    "    area = element.area \n",
    "    Iloc = SVector(e1, e1, e1, e2, e2, e2, e3, e3, e3)\n",
    "    Jloc = SVector(e1, e2, e3, e1, e2, e3, e1, e2, e3)\n",
    "    Xmat = SMatrix{3,3}(p1.x, p2.x, p3.x, p1.y, p2.y, p3.y, 1, 1, 1) \n",
    "    rhs  = SMatrix{3,3}(1., 0., 0., 0., 1., 0., 0., 0., 1.) \n",
    "    Emat = MMatrix{3,3}(Xmat\\rhs);\n",
    "    Emat[3,:] .= 0.;  \n",
    "    Amat = SMatrix{3,3}(area*(transpose(Emat)*Emat));\n",
    "    Aloc = [Amat[1,:] ; Amat[2,:] ; Amat[3,:] ] \n",
    "    return Iloc, Jloc, Aloc\n",
    "end\n",
    "\n",
    "function generateMatrix(mesh::Mesh)\n",
    " \n",
    "    #..recover number of elements  \n",
    "    N::Int64 = length(mesh.Elements) \n",
    "    dofperelem::Int64 = 9;\n",
    "     \n",
    "    #..preallocate the memory for local matrix contributions \n",
    "    Avalues = zeros(Float64,dofperelem*N)\n",
    "    I = zeros(Int64,length(Avalues))\n",
    "    J = zeros(Int64,length(Avalues)) \n",
    "\n",
    "    for i = 1:N #..loop over number of elements..\n",
    "        element          = mesh.Elements[i]\n",
    "        Iloc, Jloc, Aloc = generateLocalMatrix(element)\n",
    "        irng             = mrange(dofperelem*i-8, dofperelem*i) \n",
    "        I[irng]          = Iloc \n",
    "        J[irng]          = Jloc \n",
    "        Avalues[irng]    = Aloc         \n",
    "    end\n",
    "    \n",
    "    A = sparse(I,J,Avalues)\n",
    "   \n",
    "    return A; \n",
    "end"
   ]
  },
  {
   "cell_type": "code",
   "execution_count": 33,
   "metadata": {},
   "outputs": [
    {
     "name": "stdout",
     "output_type": "stream",
     "text": [
      "Info    : Reading 'square-1.msh'...\n",
      "Info    : 9 entities\n",
      "Info    : 5 nodes\n",
      "Info    : 12 elements\n",
      "Info    : Done reading 'square-1.msh'\n"
     ]
    }
   ],
   "source": [
    "mesh = meshFromGmsh(\"square-1.msh\");   A = generateMatrix(mesh); # display(A)"
   ]
  },
  {
   "cell_type": "code",
   "execution_count": 34,
   "metadata": {},
   "outputs": [
    {
     "name": "stdout",
     "output_type": "stream",
     "text": [
      "Info    : Reading 'square-1.msh'...\n",
      "Info    : 9 entities\n",
      "Info    : 5 nodes\n",
      "Info    : 12 elements\n",
      "Info    : Done reading 'square-1.msh'\n",
      "  0.000009 seconds (13 allocations: 2.625 KiB)\n",
      "Info    : Reading 'square-1.msh'...\n",
      "Info    : 9 entities\n",
      "Info    : 5 nodes\n",
      "Info    : 12 elements\n",
      "Info    : Done reading 'square-1.msh'\n",
      "  0.000009 seconds (13 allocations: 2.625 KiB)\n",
      "Info    : Reading 'square-10.msh'...\n",
      "Info    : 9 entities\n",
      "Info    : 142 nodes\n",
      "Info    : 286 elements\n",
      "Info    : Done reading 'square-10.msh'\n",
      "  0.000031 seconds (18 allocations: 103.750 KiB)\n",
      "Info    : Reading 'square-100.msh'...\n",
      "Info    : 9 entities\n",
      "Info    : 11833 nodes\n",
      "Info    : 23668 elements\n",
      "Info    : Done reading 'square-100.msh'\n",
      "  0.003446 seconds (23 allocations: 9.510 MiB)\n"
     ]
    }
   ],
   "source": [
    "mesh = meshFromGmsh(\"square-1.msh\");   @time generateMatrix(mesh); # <= force recompilation \n",
    "mesh = meshFromGmsh(\"square-1.msh\");   @time generateMatrix(mesh); \n",
    "mesh = meshFromGmsh(\"square-10.msh\");  @time generateMatrix(mesh); \n",
    "mesh = meshFromGmsh(\"square-100.msh\"); @time generateMatrix(mesh); "
   ]
  },
  {
   "cell_type": "code",
   "execution_count": 35,
   "metadata": {},
   "outputs": [
    {
     "data": {
      "text/plain": [
       "Mesh"
      ]
     },
     "execution_count": 35,
     "metadata": {},
     "output_type": "execute_result"
    }
   ],
   "source": [
    "typeof(mesh)"
   ]
  },
  {
   "cell_type": "code",
   "execution_count": 36,
   "metadata": {},
   "outputs": [],
   "source": [
    "#display(mesh.Elements[1])"
   ]
  },
  {
   "cell_type": "code",
   "execution_count": 37,
   "metadata": {},
   "outputs": [],
   "source": [
    "#display(mesh.bndNodeIds)"
   ]
  },
  {
   "cell_type": "code",
   "execution_count": null,
   "metadata": {},
   "outputs": [],
   "source": []
  },
  {
   "cell_type": "code",
   "execution_count": 38,
   "metadata": {},
   "outputs": [
    {
     "data": {
      "text/plain": [
       "9-element SVector{9, Int64} with indices SOneTo(9):\n",
       "  7260\n",
       "  7260\n",
       "  7260\n",
       "   450\n",
       "   450\n",
       "   450\n",
       " 11466\n",
       " 11466\n",
       " 11466"
      ]
     },
     "metadata": {},
     "output_type": "display_data"
    },
    {
     "data": {
      "text/plain": [
       "9-element SVector{9, Int64} with indices SOneTo(9):\n",
       "  7260\n",
       "   450\n",
       " 11466\n",
       "  7260\n",
       "   450\n",
       " 11466\n",
       "  7260\n",
       "   450\n",
       " 11466"
      ]
     },
     "metadata": {},
     "output_type": "display_data"
    },
    {
     "data": {
      "text/plain": [
       "9-element SVector{9, Float64} with indices SOneTo(9):\n",
       "  0.6940021149974308\n",
       " -0.3812300851090914\n",
       " -0.3127720298883393\n",
       " -0.3812300851090914\n",
       "  0.5696472233283449\n",
       " -0.18841713821925352\n",
       " -0.3127720298883393\n",
       " -0.18841713821925352\n",
       "  0.5011891681075928"
      ]
     },
     "metadata": {},
     "output_type": "display_data"
    }
   ],
   "source": [
    "Iloc, Jloc, Aloc = generateLocalMatrix(mesh.Elements[1]); \n",
    "display(Iloc)\n",
    "display(Jloc)\n",
    "display(Aloc)"
   ]
  },
  {
   "cell_type": "code",
   "execution_count": 39,
   "metadata": {},
   "outputs": [],
   "source": [
    "#@code_warntype generateLocalMatrix(mesh.Elements[1])"
   ]
  },
  {
   "cell_type": "markdown",
   "metadata": {},
   "source": [
    "### Section 2.3: Mass Matrix Assembly (later)"
   ]
  },
  {
   "cell_type": "code",
   "execution_count": null,
   "metadata": {},
   "outputs": [],
   "source": []
  },
  {
   "cell_type": "markdown",
   "metadata": {},
   "source": [
    "### Section 3.3: Right-Hand Side Assembly  "
   ]
  },
  {
   "cell_type": "code",
   "execution_count": 40,
   "metadata": {},
   "outputs": [
    {
     "data": {
      "text/plain": [
       "sourceFct (generic function with 1 method)"
      ]
     },
     "execution_count": 40,
     "metadata": {},
     "output_type": "execute_result"
    }
   ],
   "source": [
    "sourceFct(x,y) = x+y"
   ]
  },
  {
   "cell_type": "code",
   "execution_count": 41,
   "metadata": {},
   "outputs": [],
   "source": [
    "# callable struct allowing type-stable implementation of RHS-vector assembly \n",
    "struct SrcFunction{Float64}\n",
    "    dummy::Float64\n",
    "end"
   ]
  },
  {
   "cell_type": "code",
   "execution_count": 42,
   "metadata": {},
   "outputs": [],
   "source": [
    "# source function attached to the callable struct \n",
    "function (scrFunction::SrcFunction)(x,y)\n",
    "    return x+y\n",
    "end "
   ]
  },
  {
   "cell_type": "code",
   "execution_count": 43,
   "metadata": {},
   "outputs": [
    {
     "data": {
      "text/plain": [
       "SrcFunction{Float64}(0.0)"
      ]
     },
     "execution_count": 43,
     "metadata": {},
     "output_type": "execute_result"
    }
   ],
   "source": [
    "mySrcFunction = SrcFunction(0.)"
   ]
  },
  {
   "cell_type": "code",
   "execution_count": 44,
   "metadata": {},
   "outputs": [
    {
     "data": {
      "text/plain": [
       "3"
      ]
     },
     "execution_count": 44,
     "metadata": {},
     "output_type": "execute_result"
    }
   ],
   "source": [
    "mySrcFunction(1,2)"
   ]
  },
  {
   "cell_type": "code",
   "execution_count": 45,
   "metadata": {},
   "outputs": [
    {
     "data": {
      "text/plain": [
       "generateVector (generic function with 1 method)"
      ]
     },
     "execution_count": 45,
     "metadata": {},
     "output_type": "execute_result"
    }
   ],
   "source": [
    "function generateLocalVector(element::Element, sourceFct::SrcFunction)\n",
    "    p1 = element.p1; p2 = element.p2; p3 = element.p3;  \n",
    "    e1 = element.e1; e2 = element.e2; e3 = element.e3;  \n",
    "    area = element.area \n",
    "    Iloc = SVector(e1, e2, e3) \n",
    "    # use broadcast for the lines below instead \n",
    "    f1 = area/3*sourceFct(p1.x,p1.y)\n",
    "    f2 = area/3*sourceFct(p2.x,p2.y)\n",
    "    f3 = area/3*sourceFct(p3.x,p3.y)\n",
    "    floc = SVector(f1, f2, f3) \n",
    "    return Iloc, floc\n",
    "end\n",
    "\n",
    "function generateVector(mesh, sourceFct::SrcFunction)\n",
    " \n",
    "    #..recover number of elements  \n",
    "    N::Int64 = length(mesh.Elements)\n",
    "    nnodes = mesh.nnodes \n",
    "     \n",
    "    #..preallocate the memory for local matrix contributions \n",
    "    f = zeros(Float64,nnodes)\n",
    "\n",
    "    for i = 1:N #..loop over number of elements..\n",
    "        element::Element = mesh.Elements[i]\n",
    "        Iloc, floc = generateLocalVector(element,sourceFct)\n",
    "        f[Iloc] += floc \n",
    "    end\n",
    "       \n",
    "    return f; \n",
    "end"
   ]
  },
  {
   "cell_type": "code",
   "execution_count": 46,
   "metadata": {},
   "outputs": [
    {
     "data": {
      "text/plain": [
       "11833-element Vector{Float64}:\n",
       " 0.0\n",
       " 2.4231975485123897e-5\n",
       " 4.8803387171609125e-5\n",
       " 2.4401693585828913e-5\n",
       " 3.9339019913250214e-7\n",
       " 7.667587030139228e-7\n",
       " 1.165841385606723e-6\n",
       " 1.5710936218213712e-6\n",
       " 2.709380367217487e-6\n",
       " 2.1847162526161984e-6\n",
       " 2.9816713271991472e-6\n",
       " 3.4641016151201457e-6\n",
       " 3.897114317010688e-6\n",
       " ⋮\n",
       " 0.0001019480386348757\n",
       " 4.959238992015573e-5\n",
       " 5.442001798246822e-6\n",
       " 1.769693479753941e-5\n",
       " 9.343690649844386e-5\n",
       " 7.109240636943977e-5\n",
       " 8.604923377080728e-5\n",
       " 4.97793745135571e-5\n",
       " 8.051543262111135e-5\n",
       " 5.460400136570139e-5\n",
       " 5.511434192518242e-5\n",
       " 9.958912650151141e-5"
      ]
     },
     "execution_count": 46,
     "metadata": {},
     "output_type": "execute_result"
    }
   ],
   "source": [
    "f = generateVector(mesh,mySrcFunction)"
   ]
  },
  {
   "cell_type": "code",
   "execution_count": 47,
   "metadata": {},
   "outputs": [
    {
     "name": "stdout",
     "output_type": "stream",
     "text": [
      "Info    : Reading 'square-1.msh'...\n",
      "Info    : 9 entities\n",
      "Info    : 5 nodes\n",
      "Info    : 12 elements\n",
      "Info    : Done reading 'square-1.msh'\n",
      "  0.000009 seconds (1 allocation: 96 bytes)\n",
      "Info    : Reading 'square-1.msh'...\n",
      "Info    : 9 entities\n",
      "Info    : 5 nodes\n",
      "Info    : 12 elements\n",
      "Info    : Done reading 'square-1.msh'\n",
      "  0.000003 seconds (1 allocation: 96 bytes)\n",
      "Info    : Reading 'square-10.msh'...\n",
      "Info    : 9 entities\n",
      "Info    : 142 nodes\n",
      "Info    : 286 elements\n",
      "Info    : Done reading 'square-10.msh'\n",
      "  0.000004 seconds (1 allocation: 1.219 KiB)\n",
      "Info    : Reading 'square-100.msh'...\n",
      "Info    : 9 entities\n",
      "Info    : 11833 nodes\n",
      "Info    : 23668 elements\n",
      "Info    : Done reading 'square-100.msh'\n",
      "  0.000055 seconds (2 allocations: 92.547 KiB)\n"
     ]
    }
   ],
   "source": [
    "mesh = meshFromGmsh(\"square-1.msh\");   @time generateVector(mesh,mySrcFunction); # <= force recompilation\n",
    "mesh = meshFromGmsh(\"square-1.msh\");   @time generateVector(mesh,mySrcFunction); \n",
    "mesh = meshFromGmsh(\"square-10.msh\");  @time generateVector(mesh,mySrcFunction); \n",
    "mesh = meshFromGmsh(\"square-100.msh\"); @time generateVector(mesh,mySrcFunction); "
   ]
  },
  {
   "cell_type": "markdown",
   "metadata": {},
   "source": [
    "### Section 4.3: Handle Essential Boundary Conditions "
   ]
  },
  {
   "cell_type": "code",
   "execution_count": 48,
   "metadata": {},
   "outputs": [
    {
     "name": "stdout",
     "output_type": "stream",
     "text": [
      "Info    : Reading 'square-1.msh'...\n",
      "Info    : 9 entities\n",
      "Info    : 5 nodes\n",
      "Info    : 12 elements\n",
      "Info    : Done reading 'square-1.msh'\n"
     ]
    },
    {
     "ename": "LoadError",
     "evalue": "UndefVarError: generateSolution not defined",
     "output_type": "error",
     "traceback": [
      "UndefVarError: generateSolution not defined",
      "",
      "Stacktrace:",
      " [1] top-level scope",
      "   @ ./timing.jl:262 [inlined]",
      " [2] top-level scope",
      "   @ ./In[48]:0"
     ]
    }
   ],
   "source": [
    "mesh = meshFromGmsh(\"square-1.msh\");   \n",
    "A = generateMatrix(mesh); f= generateVector(mesh,mySrcFunction); # <= force recompilation\n",
    "@time u = generateSolution(mesh,A,f)"
   ]
  },
  {
   "cell_type": "code",
   "execution_count": 49,
   "metadata": {},
   "outputs": [
    {
     "data": {
      "text/plain": [
       "handleBoundary! (generic function with 1 method)"
      ]
     },
     "execution_count": 49,
     "metadata": {},
     "output_type": "execute_result"
    }
   ],
   "source": [
    "function handleBoundary!(mesh,A,f)\n",
    "    \n",
    "    bndNodeIds = mesh.bndNodeIds; \n",
    "    \n",
    "    #..handle essential boundary conditions \n",
    "    A[bndNodeIds,:] .= 0;\n",
    "    A[bndNodeIds,bndNodeIds] = Diagonal(ones(size(bndNodeIds)))\n",
    "    f[bndNodeIds] .= 0;\n",
    "    return A, f  \n",
    "end"
   ]
  },
  {
   "cell_type": "code",
   "execution_count": 50,
   "metadata": {},
   "outputs": [
    {
     "data": {
      "text/plain": [
       "(sparse([1, 2, 4, 5, 1, 2, 3, 5, 2, 3  …  5, 1, 3, 4, 5, 1, 2, 3, 4, 5], [1, 1, 1, 1, 2, 2, 2, 2, 3, 3  …  3, 4, 4, 4, 4, 5, 5, 5, 5, 5], [1.0, 0.0, 0.0, -1.0, 0.0, 1.0, 0.0, -1.0, 0.0, 1.0  …  -1.0, 0.0, 0.0, 1.0, -1.0, 0.0, 0.0, 0.0, 0.0, 4.0], 5, 5), [0.0, 0.0, 0.0, 0.0, 0.3333333333333333])"
      ]
     },
     "execution_count": 50,
     "metadata": {},
     "output_type": "execute_result"
    }
   ],
   "source": [
    "A,f = handleBoundary!(mesh,A,f)"
   ]
  },
  {
   "cell_type": "code",
   "execution_count": null,
   "metadata": {},
   "outputs": [],
   "source": []
  },
  {
   "cell_type": "code",
   "execution_count": null,
   "metadata": {},
   "outputs": [],
   "source": []
  },
  {
   "cell_type": "markdown",
   "metadata": {},
   "source": [
    "### Section 5.3: Solve Linear System "
   ]
  },
  {
   "cell_type": "code",
   "execution_count": 51,
   "metadata": {},
   "outputs": [
    {
     "data": {
      "text/plain": [
       "5-element Vector{Float64}:\n",
       " 0.0\n",
       " 0.0\n",
       " 0.0\n",
       " 0.0\n",
       " 0.08333333333333333"
      ]
     },
     "execution_count": 51,
     "metadata": {},
     "output_type": "execute_result"
    }
   ],
   "source": [
    "function generateSolution(mesh,A,f)\n",
    "\n",
    "    A, f = handleBoundary!(mesh,A,f)\n",
    "    u = A\\f \n",
    "    return u \n",
    "end\n",
    "\n",
    "u = generateSolution(mesh,A,f) # force compilation "
   ]
  },
  {
   "cell_type": "code",
   "execution_count": 53,
   "metadata": {},
   "outputs": [
    {
     "name": "stdout",
     "output_type": "stream",
     "text": [
      "Info    : Reading 'square-10.msh'...\n",
      "Info    : 9 entities\n",
      "Info    : 142 nodes\n",
      "Info    : 286 elements\n",
      "Info    : Done reading 'square-10.msh'\n",
      "Info    : Reading 'square-10.msh'...\n",
      "Info    : 9 entities\n",
      "Info    : 142 nodes\n",
      "Info    : 286 elements\n",
      "Info    : Done reading 'square-10.msh'\n",
      "  0.000050 seconds (19 allocations: 103.797 KiB)\n",
      "  0.004568 seconds (79 allocations: 301.445 KiB)\n"
     ]
    },
    {
     "data": {
      "image/svg+xml": [
       "<?xml version=\"1.0\" encoding=\"utf-8\"?>\n",
       "<svg xmlns=\"http://www.w3.org/2000/svg\" xmlns:xlink=\"http://www.w3.org/1999/xlink\" width=\"600\" height=\"450\" viewBox=\"0 0 2400 1800\">\n",
       "<defs>\n",
       "  <clipPath id=\"clip840\">\n",
       "    <rect x=\"435\" y=\"45\" width=\"1441\" height=\"1621\"/>\n",
       "  </clipPath>\n",
       "</defs>\n",
       "<defs>\n",
       "  <clipPath id=\"clip841\">\n",
       "    <rect x=\"0\" y=\"0\" width=\"2400\" height=\"1800\"/>\n",
       "  </clipPath>\n",
       "</defs>\n",
       "<polyline clip-path=\"url(#clip841)\" style=\"stroke:#ededed; stroke-linecap:round; stroke-linejoin:round; stroke-width:3.6; stroke-opacity:1; fill:none\" points=\"631.86,1113.5 1194.67,872.171 \"/>\n",
       "<polyline clip-path=\"url(#clip841)\" style=\"stroke:#ededed; stroke-linecap:round; stroke-linejoin:round; stroke-width:3.6; stroke-opacity:1; fill:none\" points=\"1194.67,872.171 1694.04,1168.52 \"/>\n",
       "<polyline clip-path=\"url(#clip841)\" style=\"stroke:#cccccc; stroke-linecap:round; stroke-linejoin:round; stroke-width:3.6; stroke-opacity:1; fill:none\" points=\"627.302,1075.2 1194.97,837.2 \"/>\n",
       "<polyline clip-path=\"url(#clip841)\" style=\"stroke:#cccccc; stroke-linecap:round; stroke-linejoin:round; stroke-width:3.6; stroke-opacity:1; fill:none\" points=\"1194.97,837.2 1698.88,1129.54 \"/>\n",
       "<polyline clip-path=\"url(#clip841)\" style=\"stroke:#ededed; stroke-linecap:round; stroke-linejoin:round; stroke-width:3.6; stroke-opacity:1; fill:none\" points=\"622.664,1036.23 1195.27,801.698 \"/>\n",
       "<polyline clip-path=\"url(#clip841)\" style=\"stroke:#ededed; stroke-linecap:round; stroke-linejoin:round; stroke-width:3.6; stroke-opacity:1; fill:none\" points=\"1195.27,801.698 1703.81,1089.86 \"/>\n",
       "<polyline clip-path=\"url(#clip841)\" style=\"stroke:#cccccc; stroke-linecap:round; stroke-linejoin:round; stroke-width:3.6; stroke-opacity:1; fill:none\" points=\"617.944,996.574 1195.58,765.652 \"/>\n",
       "<polyline clip-path=\"url(#clip841)\" style=\"stroke:#cccccc; stroke-linecap:round; stroke-linejoin:round; stroke-width:3.6; stroke-opacity:1; fill:none\" points=\"1195.58,765.652 1708.83,1049.45 \"/>\n",
       "<polyline clip-path=\"url(#clip841)\" style=\"stroke:#ededed; stroke-linecap:round; stroke-linejoin:round; stroke-width:3.6; stroke-opacity:1; fill:none\" points=\"613.14,956.205 1195.89,729.049 \"/>\n",
       "<polyline clip-path=\"url(#clip841)\" style=\"stroke:#ededed; stroke-linecap:round; stroke-linejoin:round; stroke-width:3.6; stroke-opacity:1; fill:none\" points=\"1195.89,729.049 1713.94,1008.3 \"/>\n",
       "<polyline clip-path=\"url(#clip841)\" style=\"stroke:#cccccc; stroke-linecap:round; stroke-linejoin:round; stroke-width:3.6; stroke-opacity:1; fill:none\" points=\"608.248,915.106 1196.21,691.877 \"/>\n",
       "<polyline clip-path=\"url(#clip841)\" style=\"stroke:#cccccc; stroke-linecap:round; stroke-linejoin:round; stroke-width:3.6; stroke-opacity:1; fill:none\" points=\"1196.21,691.877 1719.15,966.375 \"/>\n",
       "<polyline clip-path=\"url(#clip841)\" style=\"stroke:#ededed; stroke-linecap:round; stroke-linejoin:round; stroke-width:3.6; stroke-opacity:1; fill:none\" points=\"603.268,873.259 1196.53,654.123 \"/>\n",
       "<polyline clip-path=\"url(#clip841)\" style=\"stroke:#ededed; stroke-linecap:round; stroke-linejoin:round; stroke-width:3.6; stroke-opacity:1; fill:none\" points=\"1196.53,654.123 1724.45,923.666 \"/>\n",
       "<polyline clip-path=\"url(#clip841)\" style=\"stroke:#cccccc; stroke-linecap:round; stroke-linejoin:round; stroke-width:3.6; stroke-opacity:1; fill:none\" points=\"598.196,830.643 1196.86,615.772 \"/>\n",
       "<polyline clip-path=\"url(#clip841)\" style=\"stroke:#cccccc; stroke-linecap:round; stroke-linejoin:round; stroke-width:3.6; stroke-opacity:1; fill:none\" points=\"1196.86,615.772 1729.85,880.147 \"/>\n",
       "<polyline clip-path=\"url(#clip841)\" style=\"stroke:#ededed; stroke-linecap:round; stroke-linejoin:round; stroke-width:3.6; stroke-opacity:1; fill:none\" points=\"593.03,787.236 1197.19,576.811 \"/>\n",
       "<polyline clip-path=\"url(#clip841)\" style=\"stroke:#ededed; stroke-linecap:round; stroke-linejoin:round; stroke-width:3.6; stroke-opacity:1; fill:none\" points=\"1197.19,576.811 1735.36,835.793 \"/>\n",
       "<polyline clip-path=\"url(#clip841)\" style=\"stroke:#cccccc; stroke-linecap:round; stroke-linejoin:round; stroke-width:3.6; stroke-opacity:1; fill:none\" points=\"587.767,743.016 1197.53,537.224 \"/>\n",
       "<polyline clip-path=\"url(#clip841)\" style=\"stroke:#cccccc; stroke-linecap:round; stroke-linejoin:round; stroke-width:3.6; stroke-opacity:1; fill:none\" points=\"1197.53,537.224 1740.98,790.581 \"/>\n",
       "<polyline clip-path=\"url(#clip841)\" style=\"stroke:#ededed; stroke-linecap:round; stroke-linejoin:round; stroke-width:3.6; stroke-opacity:1; fill:none\" points=\"582.405,697.959 1197.88,496.997 \"/>\n",
       "<polyline clip-path=\"url(#clip841)\" style=\"stroke:#ededed; stroke-linecap:round; stroke-linejoin:round; stroke-width:3.6; stroke-opacity:1; fill:none\" points=\"1197.88,496.997 1746.7,744.486 \"/>\n",
       "<polyline clip-path=\"url(#clip841)\" style=\"stroke:#cccccc; stroke-linecap:round; stroke-linejoin:round; stroke-width:3.6; stroke-opacity:1; fill:none\" points=\"576.94,652.043 1198.23,456.113 \"/>\n",
       "<polyline clip-path=\"url(#clip841)\" style=\"stroke:#cccccc; stroke-linecap:round; stroke-linejoin:round; stroke-width:3.6; stroke-opacity:1; fill:none\" points=\"1198.23,456.113 1752.54,697.482 \"/>\n",
       "<polyline clip-path=\"url(#clip841)\" style=\"stroke:#ededed; stroke-linecap:round; stroke-linejoin:round; stroke-width:3.6; stroke-opacity:1; fill:none\" points=\"571.37,605.242 1198.58,414.557 \"/>\n",
       "<polyline clip-path=\"url(#clip841)\" style=\"stroke:#ededed; stroke-linecap:round; stroke-linejoin:round; stroke-width:3.6; stroke-opacity:1; fill:none\" points=\"1198.58,414.557 1758.49,649.541 \"/>\n",
       "<polyline clip-path=\"url(#clip841)\" style=\"stroke:#cccccc; stroke-linecap:round; stroke-linejoin:round; stroke-width:3.6; stroke-opacity:1; fill:none\" points=\"565.692,557.53 1198.94,372.311 \"/>\n",
       "<polyline clip-path=\"url(#clip841)\" style=\"stroke:#cccccc; stroke-linecap:round; stroke-linejoin:round; stroke-width:3.6; stroke-opacity:1; fill:none\" points=\"1198.94,372.311 1764.57,600.635 \"/>\n",
       "<polyline clip-path=\"url(#clip841)\" style=\"stroke:#ededed; stroke-linecap:round; stroke-linejoin:round; stroke-width:3.6; stroke-opacity:1; fill:none\" points=\"559.902,508.881 1199.31,329.36 \"/>\n",
       "<polyline clip-path=\"url(#clip841)\" style=\"stroke:#ededed; stroke-linecap:round; stroke-linejoin:round; stroke-width:3.6; stroke-opacity:1; fill:none\" points=\"1199.31,329.36 1770.76,550.734 \"/>\n",
       "<polyline clip-path=\"url(#clip841)\" style=\"stroke:#ededed; stroke-linecap:round; stroke-linejoin:round; stroke-width:3.6; stroke-opacity:1; fill:none\" points=\"674.941,1185.35 1236.72,932.311 \"/>\n",
       "<polyline clip-path=\"url(#clip841)\" style=\"stroke:#ededed; stroke-linecap:round; stroke-linejoin:round; stroke-width:3.6; stroke-opacity:1; fill:none\" points=\"1236.72,932.311 1247.95,303.583 \"/>\n",
       "<polyline clip-path=\"url(#clip841)\" style=\"stroke:#cccccc; stroke-linecap:round; stroke-linejoin:round; stroke-width:3.6; stroke-opacity:1; fill:none\" points=\"714.999,1220.84 1280.46,958.837 \"/>\n",
       "<polyline clip-path=\"url(#clip841)\" style=\"stroke:#cccccc; stroke-linecap:round; stroke-linejoin:round; stroke-width:3.6; stroke-opacity:1; fill:none\" points=\"1280.46,958.837 1298.01,322.148 \"/>\n",
       "<polyline clip-path=\"url(#clip841)\" style=\"stroke:#ededed; stroke-linecap:round; stroke-linejoin:round; stroke-width:3.6; stroke-opacity:1; fill:none\" points=\"756.597,1257.71 1325.64,986.24 \"/>\n",
       "<polyline clip-path=\"url(#clip841)\" style=\"stroke:#ededed; stroke-linecap:round; stroke-linejoin:round; stroke-width:3.6; stroke-opacity:1; fill:none\" points=\"1325.64,986.24 1349.97,341.415 \"/>\n",
       "<polyline clip-path=\"url(#clip841)\" style=\"stroke:#cccccc; stroke-linecap:round; stroke-linejoin:round; stroke-width:3.6; stroke-opacity:1; fill:none\" points=\"799.827,1296.01 1372.34,1014.57 \"/>\n",
       "<polyline clip-path=\"url(#clip841)\" style=\"stroke:#cccccc; stroke-linecap:round; stroke-linejoin:round; stroke-width:3.6; stroke-opacity:1; fill:none\" points=\"1372.34,1014.57 1403.93,361.425 \"/>\n",
       "<polyline clip-path=\"url(#clip841)\" style=\"stroke:#ededed; stroke-linecap:round; stroke-linejoin:round; stroke-width:3.6; stroke-opacity:1; fill:none\" points=\"844.785,1335.85 1420.64,1043.86 \"/>\n",
       "<polyline clip-path=\"url(#clip841)\" style=\"stroke:#ededed; stroke-linecap:round; stroke-linejoin:round; stroke-width:3.6; stroke-opacity:1; fill:none\" points=\"1420.64,1043.86 1460.01,382.222 \"/>\n",
       "<polyline clip-path=\"url(#clip841)\" style=\"stroke:#cccccc; stroke-linecap:round; stroke-linejoin:round; stroke-width:3.6; stroke-opacity:1; fill:none\" points=\"891.578,1377.32 1470.63,1074.18 \"/>\n",
       "<polyline clip-path=\"url(#clip841)\" style=\"stroke:#cccccc; stroke-linecap:round; stroke-linejoin:round; stroke-width:3.6; stroke-opacity:1; fill:none\" points=\"1470.63,1074.18 1518.33,403.853 \"/>\n",
       "<polyline clip-path=\"url(#clip841)\" style=\"stroke:#ededed; stroke-linecap:round; stroke-linejoin:round; stroke-width:3.6; stroke-opacity:1; fill:none\" points=\"940.32,1420.51 1522.39,1105.57 \"/>\n",
       "<polyline clip-path=\"url(#clip841)\" style=\"stroke:#ededed; stroke-linecap:round; stroke-linejoin:round; stroke-width:3.6; stroke-opacity:1; fill:none\" points=\"1522.39,1105.57 1579.05,426.369 \"/>\n",
       "<polyline clip-path=\"url(#clip841)\" style=\"stroke:#cccccc; stroke-linecap:round; stroke-linejoin:round; stroke-width:3.6; stroke-opacity:1; fill:none\" points=\"991.136,1465.54 1576.01,1138.1 \"/>\n",
       "<polyline clip-path=\"url(#clip841)\" style=\"stroke:#cccccc; stroke-linecap:round; stroke-linejoin:round; stroke-width:3.6; stroke-opacity:1; fill:none\" points=\"1576.01,1138.1 1642.3,449.826 \"/>\n",
       "<polyline clip-path=\"url(#clip841)\" style=\"stroke:#ededed; stroke-linecap:round; stroke-linejoin:round; stroke-width:3.6; stroke-opacity:1; fill:none\" points=\"1044.16,1512.53 1631.61,1171.82 \"/>\n",
       "<polyline clip-path=\"url(#clip841)\" style=\"stroke:#ededed; stroke-linecap:round; stroke-linejoin:round; stroke-width:3.6; stroke-opacity:1; fill:none\" points=\"1631.61,1171.82 1708.26,474.284 \"/>\n",
       "<polyline clip-path=\"url(#clip841)\" style=\"stroke:#cccccc; stroke-linecap:round; stroke-linejoin:round; stroke-width:3.6; stroke-opacity:1; fill:none\" points=\"1099.54,1561.61 1689.29,1206.81 \"/>\n",
       "<polyline clip-path=\"url(#clip841)\" style=\"stroke:#cccccc; stroke-linecap:round; stroke-linejoin:round; stroke-width:3.6; stroke-opacity:1; fill:none\" points=\"1689.29,1206.81 1777.09,499.809 \"/>\n",
       "<polyline clip-path=\"url(#clip841)\" style=\"stroke:#ededed; stroke-linecap:round; stroke-linejoin:round; stroke-width:3.6; stroke-opacity:1; fill:none\" points=\"699.688,1123.38 1168.23,1520.28 \"/>\n",
       "<polyline clip-path=\"url(#clip841)\" style=\"stroke:#ededed; stroke-linecap:round; stroke-linejoin:round; stroke-width:3.6; stroke-opacity:1; fill:none\" points=\"699.688,1123.38 628.659,439.195 \"/>\n",
       "<polyline clip-path=\"url(#clip841)\" style=\"stroke:#cccccc; stroke-linecap:round; stroke-linejoin:round; stroke-width:3.6; stroke-opacity:1; fill:none\" points=\"761.162,1096.44 1234.45,1480.44 \"/>\n",
       "<polyline clip-path=\"url(#clip841)\" style=\"stroke:#cccccc; stroke-linecap:round; stroke-linejoin:round; stroke-width:3.6; stroke-opacity:1; fill:none\" points=\"761.162,1096.44 700.771,419.808 \"/>\n",
       "<polyline clip-path=\"url(#clip841)\" style=\"stroke:#ededed; stroke-linecap:round; stroke-linejoin:round; stroke-width:3.6; stroke-opacity:1; fill:none\" points=\"820.842,1070.29 1298.33,1442.01 \"/>\n",
       "<polyline clip-path=\"url(#clip841)\" style=\"stroke:#ededed; stroke-linecap:round; stroke-linejoin:round; stroke-width:3.6; stroke-opacity:1; fill:none\" points=\"820.842,1070.29 770.463,401.073 \"/>\n",
       "<polyline clip-path=\"url(#clip841)\" style=\"stroke:#cccccc; stroke-linecap:round; stroke-linejoin:round; stroke-width:3.6; stroke-opacity:1; fill:none\" points=\"878.806,1044.9 1360,1404.91 \"/>\n",
       "<polyline clip-path=\"url(#clip841)\" style=\"stroke:#cccccc; stroke-linecap:round; stroke-linejoin:round; stroke-width:3.6; stroke-opacity:1; fill:none\" points=\"878.806,1044.9 837.853,382.956 \"/>\n",
       "<polyline clip-path=\"url(#clip841)\" style=\"stroke:#ededed; stroke-linecap:round; stroke-linejoin:round; stroke-width:3.6; stroke-opacity:1; fill:none\" points=\"935.127,1020.22 1419.56,1369.08 \"/>\n",
       "<polyline clip-path=\"url(#clip841)\" style=\"stroke:#ededed; stroke-linecap:round; stroke-linejoin:round; stroke-width:3.6; stroke-opacity:1; fill:none\" points=\"935.127,1020.22 903.055,365.427 \"/>\n",
       "<polyline clip-path=\"url(#clip841)\" style=\"stroke:#cccccc; stroke-linecap:round; stroke-linejoin:round; stroke-width:3.6; stroke-opacity:1; fill:none\" points=\"989.874,996.228 1477.12,1334.45 \"/>\n",
       "<polyline clip-path=\"url(#clip841)\" style=\"stroke:#cccccc; stroke-linecap:round; stroke-linejoin:round; stroke-width:3.6; stroke-opacity:1; fill:none\" points=\"989.874,996.228 966.173,348.459 \"/>\n",
       "<polyline clip-path=\"url(#clip841)\" style=\"stroke:#ededed; stroke-linecap:round; stroke-linejoin:round; stroke-width:3.6; stroke-opacity:1; fill:none\" points=\"1043.11,972.9 1532.79,1300.96 \"/>\n",
       "<polyline clip-path=\"url(#clip841)\" style=\"stroke:#ededed; stroke-linecap:round; stroke-linejoin:round; stroke-width:3.6; stroke-opacity:1; fill:none\" points=\"1043.11,972.9 1027.31,332.025 \"/>\n",
       "<polyline clip-path=\"url(#clip841)\" style=\"stroke:#cccccc; stroke-linecap:round; stroke-linejoin:round; stroke-width:3.6; stroke-opacity:1; fill:none\" points=\"1094.9,950.207 1586.65,1268.56 \"/>\n",
       "<polyline clip-path=\"url(#clip841)\" style=\"stroke:#cccccc; stroke-linecap:round; stroke-linejoin:round; stroke-width:3.6; stroke-opacity:1; fill:none\" points=\"1094.9,950.207 1086.54,316.099 \"/>\n",
       "<polyline clip-path=\"url(#clip841)\" style=\"stroke:#ededed; stroke-linecap:round; stroke-linejoin:round; stroke-width:3.6; stroke-opacity:1; fill:none\" points=\"1145.3,928.122 1638.79,1237.19 \"/>\n",
       "<polyline clip-path=\"url(#clip841)\" style=\"stroke:#ededed; stroke-linecap:round; stroke-linejoin:round; stroke-width:3.6; stroke-opacity:1; fill:none\" points=\"1145.3,928.122 1143.98,300.659 \"/>\n",
       "<polyline clip-path=\"url(#clip841)\" style=\"stroke:#cccccc; stroke-linecap:round; stroke-linejoin:round; stroke-width:3.6; stroke-opacity:1; fill:none\" points=\"1194.37,906.622 1689.29,1206.81 \"/>\n",
       "<polyline clip-path=\"url(#clip841)\" style=\"stroke:#cccccc; stroke-linecap:round; stroke-linejoin:round; stroke-width:3.6; stroke-opacity:1; fill:none\" points=\"1194.37,906.622 1199.68,285.683 \"/>\n",
       "<path clip-path=\"url(#clip840)\" d=\"M1145.3 928.122 L1189.75 886.44 L1194.37 906.622  Z\" fill=\"#460b5e\" fill-rule=\"evenodd\" fill-opacity=\"1\"/>\n",
       "<polyline clip-path=\"url(#clip840)\" style=\"stroke:#00528a; stroke-linecap:round; stroke-linejoin:round; stroke-width:3.6; stroke-opacity:1; fill:none\" points=\"1145.3,928.122 1189.75,886.44 1194.37,906.622 1145.3,928.122 \"/>\n",
       "<path clip-path=\"url(#clip840)\" d=\"M1194.37 906.622 L1189.75 886.44 L1236.72 932.311  Z\" fill=\"#460b5e\" fill-rule=\"evenodd\" fill-opacity=\"1\"/>\n",
       "<polyline clip-path=\"url(#clip840)\" style=\"stroke:#00528a; stroke-linecap:round; stroke-linejoin:round; stroke-width:3.6; stroke-opacity:1; fill:none\" points=\"1194.37,906.622 1189.75,886.44 1236.72,932.311 1194.37,906.622 \"/>\n",
       "<path clip-path=\"url(#clip840)\" d=\"M1220.86 853.545 L1236.72 932.311 L1189.75 886.44  Z\" fill=\"#482475\" fill-rule=\"evenodd\" fill-opacity=\"1\"/>\n",
       "<polyline clip-path=\"url(#clip840)\" style=\"stroke:#00528a; stroke-linecap:round; stroke-linejoin:round; stroke-width:3.6; stroke-opacity:1; fill:none\" points=\"1220.86,853.545 1236.72,932.311 1189.75,886.44 1220.86,853.545 \"/>\n",
       "<path clip-path=\"url(#clip840)\" d=\"M1189.75 886.44 L1145.3 928.122 L1153.58 847.182  Z\" fill=\"#482475\" fill-rule=\"evenodd\" fill-opacity=\"1\"/>\n",
       "<polyline clip-path=\"url(#clip840)\" style=\"stroke:#00528a; stroke-linecap:round; stroke-linejoin:round; stroke-width:3.6; stroke-opacity:1; fill:none\" points=\"1189.75,886.44 1145.3,928.122 1153.58,847.182 1189.75,886.44 \"/>\n",
       "<path clip-path=\"url(#clip840)\" d=\"M1153.58 847.182 L1145.3 928.122 L1094.9 950.207  Z\" fill=\"#481b6d\" fill-rule=\"evenodd\" fill-opacity=\"1\"/>\n",
       "<polyline clip-path=\"url(#clip840)\" style=\"stroke:#00528a; stroke-linecap:round; stroke-linejoin:round; stroke-width:3.6; stroke-opacity:1; fill:none\" points=\"1153.58,847.182 1145.3,928.122 1094.9,950.207 1153.58,847.182 \"/>\n",
       "<path clip-path=\"url(#clip840)\" d=\"M1280.46 958.837 L1236.72 932.311 L1220.86 853.545  Z\" fill=\"#481b6d\" fill-rule=\"evenodd\" fill-opacity=\"1\"/>\n",
       "<polyline clip-path=\"url(#clip840)\" style=\"stroke:#00528a; stroke-linecap:round; stroke-linejoin:round; stroke-width:3.6; stroke-opacity:1; fill:none\" points=\"1280.46,958.837 1236.72,932.311 1220.86,853.545 1280.46,958.837 \"/>\n",
       "<path clip-path=\"url(#clip840)\" d=\"M1189.75 886.44 L1153.58 847.182 L1220.86 853.545  Z\" fill=\"#443a83\" fill-rule=\"evenodd\" fill-opacity=\"1\"/>\n",
       "<polyline clip-path=\"url(#clip840)\" style=\"stroke:#00528a; stroke-linecap:round; stroke-linejoin:round; stroke-width:3.6; stroke-opacity:1; fill:none\" points=\"1189.75,886.44 1153.58,847.182 1220.86,853.545 1189.75,886.44 \"/>\n",
       "<path clip-path=\"url(#clip840)\" d=\"M1094.9 950.207 L1093.47 870.336 L1153.58 847.182  Z\" fill=\"#472d7b\" fill-rule=\"evenodd\" fill-opacity=\"1\"/>\n",
       "<polyline clip-path=\"url(#clip840)\" style=\"stroke:#00528a; stroke-linecap:round; stroke-linejoin:round; stroke-width:3.6; stroke-opacity:1; fill:none\" points=\"1094.9,950.207 1093.47,870.336 1153.58,847.182 1094.9,950.207 \"/>\n",
       "<path clip-path=\"url(#clip840)\" d=\"M1043.11 972.9 L1093.47 870.336 L1094.9 950.207  Z\" fill=\"#481b6d\" fill-rule=\"evenodd\" fill-opacity=\"1\"/>\n",
       "<polyline clip-path=\"url(#clip840)\" style=\"stroke:#00528a; stroke-linecap:round; stroke-linejoin:round; stroke-width:3.6; stroke-opacity:1; fill:none\" points=\"1043.11,972.9 1093.47,870.336 1094.9,950.207 1043.11,972.9 \"/>\n",
       "<path clip-path=\"url(#clip840)\" d=\"M1220.86 853.545 L1264.41 829.813 L1280.46 958.837  Z\" fill=\"#453681\" fill-rule=\"evenodd\" fill-opacity=\"1\"/>\n",
       "<polyline clip-path=\"url(#clip840)\" style=\"stroke:#00528a; stroke-linecap:round; stroke-linejoin:round; stroke-width:3.6; stroke-opacity:1; fill:none\" points=\"1220.86,853.545 1264.41,829.813 1280.46,958.837 1220.86,853.545 \"/>\n",
       "<path clip-path=\"url(#clip840)\" d=\"M1153.58 847.182 L1197.17 762.953 L1220.86 853.545  Z\" fill=\"#39568c\" fill-rule=\"evenodd\" fill-opacity=\"1\"/>\n",
       "<polyline clip-path=\"url(#clip840)\" style=\"stroke:#00528a; stroke-linecap:round; stroke-linejoin:round; stroke-width:3.6; stroke-opacity:1; fill:none\" points=\"1153.58,847.182 1197.17,762.953 1220.86,853.545 1153.58,847.182 \"/>\n",
       "<path clip-path=\"url(#clip840)\" d=\"M1264.41 829.813 L1325.64 986.24 L1280.46 958.837  Z\" fill=\"#482475\" fill-rule=\"evenodd\" fill-opacity=\"1\"/>\n",
       "<polyline clip-path=\"url(#clip840)\" style=\"stroke:#00528a; stroke-linecap:round; stroke-linejoin:round; stroke-width:3.6; stroke-opacity:1; fill:none\" points=\"1264.41,829.813 1325.64,986.24 1280.46,958.837 1264.41,829.813 \"/>\n",
       "<path clip-path=\"url(#clip840)\" d=\"M1127.17 770.67 L1153.58 847.182 L1093.47 870.336  Z\" fill=\"#39568c\" fill-rule=\"evenodd\" fill-opacity=\"1\"/>\n",
       "<polyline clip-path=\"url(#clip840)\" style=\"stroke:#00528a; stroke-linecap:round; stroke-linejoin:round; stroke-width:3.6; stroke-opacity:1; fill:none\" points=\"1127.17,770.67 1153.58,847.182 1093.47,870.336 1127.17,770.67 \"/>\n",
       "<path clip-path=\"url(#clip840)\" d=\"M1093.47 870.336 L1043.11 972.9 L1050.3 847.35  Z\" fill=\"#453681\" fill-rule=\"evenodd\" fill-opacity=\"1\"/>\n",
       "<polyline clip-path=\"url(#clip840)\" style=\"stroke:#00528a; stroke-linecap:round; stroke-linejoin:round; stroke-width:3.6; stroke-opacity:1; fill:none\" points=\"1093.47,870.336 1043.11,972.9 1050.3,847.35 1093.47,870.336 \"/>\n",
       "<path clip-path=\"url(#clip840)\" d=\"M1197.17 762.953 L1264.41 829.813 L1220.86 853.545  Z\" fill=\"#375b8d\" fill-rule=\"evenodd\" fill-opacity=\"1\"/>\n",
       "<polyline clip-path=\"url(#clip840)\" style=\"stroke:#00528a; stroke-linecap:round; stroke-linejoin:round; stroke-width:3.6; stroke-opacity:1; fill:none\" points=\"1197.17,762.953 1264.41,829.813 1220.86,853.545 1197.17,762.953 \"/>\n",
       "<path clip-path=\"url(#clip840)\" d=\"M1050.3 847.35 L1043.11 972.9 L989.874 996.228  Z\" fill=\"#482475\" fill-rule=\"evenodd\" fill-opacity=\"1\"/>\n",
       "<polyline clip-path=\"url(#clip840)\" style=\"stroke:#00528a; stroke-linecap:round; stroke-linejoin:round; stroke-width:3.6; stroke-opacity:1; fill:none\" points=\"1050.3,847.35 1043.11,972.9 989.874,996.228 1050.3,847.35 \"/>\n",
       "<path clip-path=\"url(#clip840)\" d=\"M1127.17 770.67 L1197.17 762.953 L1153.58 847.182  Z\" fill=\"#31668e\" fill-rule=\"evenodd\" fill-opacity=\"1\"/>\n",
       "<polyline clip-path=\"url(#clip840)\" style=\"stroke:#00528a; stroke-linecap:round; stroke-linejoin:round; stroke-width:3.6; stroke-opacity:1; fill:none\" points=\"1127.17,770.67 1197.17,762.953 1153.58,847.182 1127.17,770.67 \"/>\n",
       "<path clip-path=\"url(#clip840)\" d=\"M1312.58 821.39 L1325.64 986.24 L1264.41 829.813  Z\" fill=\"#414387\" fill-rule=\"evenodd\" fill-opacity=\"1\"/>\n",
       "<polyline clip-path=\"url(#clip840)\" style=\"stroke:#00528a; stroke-linecap:round; stroke-linejoin:round; stroke-width:3.6; stroke-opacity:1; fill:none\" points=\"1312.58,821.39 1325.64,986.24 1264.41,829.813 1312.58,821.39 \"/>\n",
       "<path clip-path=\"url(#clip840)\" d=\"M1093.47 870.336 L1050.3 847.35 L1127.17 770.67  Z\" fill=\"#375b8d\" fill-rule=\"evenodd\" fill-opacity=\"1\"/>\n",
       "<polyline clip-path=\"url(#clip840)\" style=\"stroke:#00528a; stroke-linecap:round; stroke-linejoin:round; stroke-width:3.6; stroke-opacity:1; fill:none\" points=\"1093.47,870.336 1050.3,847.35 1127.17,770.67 1093.47,870.336 \"/>\n",
       "<path clip-path=\"url(#clip840)\" d=\"M1264.41 829.813 L1197.17 762.953 L1244.75 709.638  Z\" fill=\"#2a778e\" fill-rule=\"evenodd\" fill-opacity=\"1\"/>\n",
       "<polyline clip-path=\"url(#clip840)\" style=\"stroke:#00528a; stroke-linecap:round; stroke-linejoin:round; stroke-width:3.6; stroke-opacity:1; fill:none\" points=\"1264.41,829.813 1197.17,762.953 1244.75,709.638 1264.41,829.813 \"/>\n",
       "<path clip-path=\"url(#clip840)\" d=\"M1372.34 1014.57 L1325.64 986.24 L1312.58 821.39  Z\" fill=\"#482979\" fill-rule=\"evenodd\" fill-opacity=\"1\"/>\n",
       "<polyline clip-path=\"url(#clip840)\" style=\"stroke:#00528a; stroke-linecap:round; stroke-linejoin:round; stroke-width:3.6; stroke-opacity:1; fill:none\" points=\"1372.34,1014.57 1325.64,986.24 1312.58,821.39 1372.34,1014.57 \"/>\n",
       "<path clip-path=\"url(#clip840)\" d=\"M989.874 996.228 L984.972 907.843 L1050.3 847.35  Z\" fill=\"#453681\" fill-rule=\"evenodd\" fill-opacity=\"1\"/>\n",
       "<polyline clip-path=\"url(#clip840)\" style=\"stroke:#00528a; stroke-linecap:round; stroke-linejoin:round; stroke-width:3.6; stroke-opacity:1; fill:none\" points=\"989.874,996.228 984.972,907.843 1050.3,847.35 989.874,996.228 \"/>\n",
       "<path clip-path=\"url(#clip840)\" d=\"M984.972 907.843 L989.874 996.228 L935.127 1020.22  Z\" fill=\"#481b6d\" fill-rule=\"evenodd\" fill-opacity=\"1\"/>\n",
       "<polyline clip-path=\"url(#clip840)\" style=\"stroke:#00528a; stroke-linecap:round; stroke-linejoin:round; stroke-width:3.6; stroke-opacity:1; fill:none\" points=\"984.972,907.843 989.874,996.228 935.127,1020.22 984.972,907.843 \"/>\n",
       "<path clip-path=\"url(#clip840)\" d=\"M1172.81 677.384 L1197.17 762.953 L1127.17 770.67  Z\" fill=\"#25848e\" fill-rule=\"evenodd\" fill-opacity=\"1\"/>\n",
       "<polyline clip-path=\"url(#clip840)\" style=\"stroke:#00528a; stroke-linecap:round; stroke-linejoin:round; stroke-width:3.6; stroke-opacity:1; fill:none\" points=\"1172.81,677.384 1197.17,762.953 1127.17,770.67 1172.81,677.384 \"/>\n",
       "<path clip-path=\"url(#clip840)\" d=\"M1127.17 770.67 L1050.3 847.35 L1097.54 712.251  Z\" fill=\"#2a778e\" fill-rule=\"evenodd\" fill-opacity=\"1\"/>\n",
       "<polyline clip-path=\"url(#clip840)\" style=\"stroke:#00528a; stroke-linecap:round; stroke-linejoin:round; stroke-width:3.6; stroke-opacity:1; fill:none\" points=\"1127.17,770.67 1050.3,847.35 1097.54,712.251 1127.17,770.67 \"/>\n",
       "<path clip-path=\"url(#clip840)\" d=\"M1264.41 829.813 L1244.75 709.638 L1312.58 821.39  Z\" fill=\"#2c738e\" fill-rule=\"evenodd\" fill-opacity=\"1\"/>\n",
       "<polyline clip-path=\"url(#clip840)\" style=\"stroke:#00528a; stroke-linecap:round; stroke-linejoin:round; stroke-width:3.6; stroke-opacity:1; fill:none\" points=\"1264.41,829.813 1244.75,709.638 1312.58,821.39 1264.41,829.813 \"/>\n",
       "<path clip-path=\"url(#clip840)\" d=\"M1172.81 677.384 L1244.75 709.638 L1197.17 762.953  Z\" fill=\"#218f8d\" fill-rule=\"evenodd\" fill-opacity=\"1\"/>\n",
       "<polyline clip-path=\"url(#clip840)\" style=\"stroke:#00528a; stroke-linecap:round; stroke-linejoin:round; stroke-width:3.6; stroke-opacity:1; fill:none\" points=\"1172.81,677.384 1244.75,709.638 1197.17,762.953 1172.81,677.384 \"/>\n",
       "<path clip-path=\"url(#clip840)\" d=\"M1363.16 824.541 L1372.34 1014.57 L1312.58 821.39  Z\" fill=\"#3c4f8a\" fill-rule=\"evenodd\" fill-opacity=\"1\"/>\n",
       "<polyline clip-path=\"url(#clip840)\" style=\"stroke:#00528a; stroke-linecap:round; stroke-linejoin:round; stroke-width:3.6; stroke-opacity:1; fill:none\" points=\"1363.16,824.541 1372.34,1014.57 1312.58,821.39 1363.16,824.541 \"/>\n",
       "<path clip-path=\"url(#clip840)\" d=\"M1050.3 847.35 L984.972 907.843 L1021.89 789.776  Z\" fill=\"#355e8d\" fill-rule=\"evenodd\" fill-opacity=\"1\"/>\n",
       "<polyline clip-path=\"url(#clip840)\" style=\"stroke:#00528a; stroke-linecap:round; stroke-linejoin:round; stroke-width:3.6; stroke-opacity:1; fill:none\" points=\"1050.3,847.35 984.972,907.843 1021.89,789.776 1050.3,847.35 \"/>\n",
       "<path clip-path=\"url(#clip840)\" d=\"M943.484 898.868 L984.972 907.843 L935.127 1020.22  Z\" fill=\"#453681\" fill-rule=\"evenodd\" fill-opacity=\"1\"/>\n",
       "<polyline clip-path=\"url(#clip840)\" style=\"stroke:#00528a; stroke-linecap:round; stroke-linejoin:round; stroke-width:3.6; stroke-opacity:1; fill:none\" points=\"943.484,898.868 984.972,907.843 935.127,1020.22 943.484,898.868 \"/>\n",
       "<path clip-path=\"url(#clip840)\" d=\"M1127.17 770.67 L1097.54 712.251 L1172.81 677.384  Z\" fill=\"#218f8d\" fill-rule=\"evenodd\" fill-opacity=\"1\"/>\n",
       "<polyline clip-path=\"url(#clip840)\" style=\"stroke:#00528a; stroke-linecap:round; stroke-linejoin:round; stroke-width:3.6; stroke-opacity:1; fill:none\" points=\"1127.17,770.67 1097.54,712.251 1172.81,677.384 1127.17,770.67 \"/>\n",
       "<path clip-path=\"url(#clip840)\" d=\"M1420.64 1043.86 L1372.34 1014.57 L1363.16 824.541  Z\" fill=\"#472d7b\" fill-rule=\"evenodd\" fill-opacity=\"1\"/>\n",
       "<polyline clip-path=\"url(#clip840)\" style=\"stroke:#00528a; stroke-linecap:round; stroke-linejoin:round; stroke-width:3.6; stroke-opacity:1; fill:none\" points=\"1420.64,1043.86 1372.34,1014.57 1363.16,824.541 1420.64,1043.86 \"/>\n",
       "<path clip-path=\"url(#clip840)\" d=\"M1312.58 821.39 L1244.75 709.638 L1296.11 679.553  Z\" fill=\"#228b8d\" fill-rule=\"evenodd\" fill-opacity=\"1\"/>\n",
       "<polyline clip-path=\"url(#clip840)\" style=\"stroke:#00528a; stroke-linecap:round; stroke-linejoin:round; stroke-width:3.6; stroke-opacity:1; fill:none\" points=\"1312.58,821.39 1244.75,709.638 1296.11,679.553 1312.58,821.39 \"/>\n",
       "<path clip-path=\"url(#clip840)\" d=\"M1021.89 789.776 L1097.54 712.251 L1050.3 847.35  Z\" fill=\"#297a8e\" fill-rule=\"evenodd\" fill-opacity=\"1\"/>\n",
       "<polyline clip-path=\"url(#clip840)\" style=\"stroke:#00528a; stroke-linecap:round; stroke-linejoin:round; stroke-width:3.6; stroke-opacity:1; fill:none\" points=\"1021.89,789.776 1097.54,712.251 1050.3,847.35 1021.89,789.776 \"/>\n",
       "<path clip-path=\"url(#clip840)\" d=\"M878.806 1044.9 L943.484 898.868 L935.127 1020.22  Z\" fill=\"#482070\" fill-rule=\"evenodd\" fill-opacity=\"1\"/>\n",
       "<polyline clip-path=\"url(#clip840)\" style=\"stroke:#00528a; stroke-linecap:round; stroke-linejoin:round; stroke-width:3.6; stroke-opacity:1; fill:none\" points=\"878.806,1044.9 943.484,898.868 935.127,1020.22 878.806,1044.9 \"/>\n",
       "<path clip-path=\"url(#clip840)\" d=\"M1021.89 789.776 L984.972 907.843 L943.484 898.868  Z\" fill=\"#355e8d\" fill-rule=\"evenodd\" fill-opacity=\"1\"/>\n",
       "<polyline clip-path=\"url(#clip840)\" style=\"stroke:#00528a; stroke-linecap:round; stroke-linejoin:round; stroke-width:3.6; stroke-opacity:1; fill:none\" points=\"1021.89,789.776 984.972,907.843 943.484,898.868 1021.89,789.776 \"/>\n",
       "<path clip-path=\"url(#clip840)\" d=\"M1172.81 677.384 L1223.04 611.82 L1244.75 709.638  Z\" fill=\"#23a983\" fill-rule=\"evenodd\" fill-opacity=\"1\"/>\n",
       "<polyline clip-path=\"url(#clip840)\" style=\"stroke:#00528a; stroke-linecap:round; stroke-linejoin:round; stroke-width:3.6; stroke-opacity:1; fill:none\" points=\"1172.81,677.384 1223.04,611.82 1244.75,709.638 1172.81,677.384 \"/>\n",
       "<path clip-path=\"url(#clip840)\" d=\"M1312.58 821.39 L1296.11 679.553 L1363.16 824.541  Z\" fill=\"#26818e\" fill-rule=\"evenodd\" fill-opacity=\"1\"/>\n",
       "<polyline clip-path=\"url(#clip840)\" style=\"stroke:#00528a; stroke-linecap:round; stroke-linejoin:round; stroke-width:3.6; stroke-opacity:1; fill:none\" points=\"1312.58,821.39 1296.11,679.553 1363.16,824.541 1312.58,821.39 \"/>\n",
       "<path clip-path=\"url(#clip840)\" d=\"M1172.81 677.384 L1097.54 712.251 L1145.79 613.912  Z\" fill=\"#23a983\" fill-rule=\"evenodd\" fill-opacity=\"1\"/>\n",
       "<polyline clip-path=\"url(#clip840)\" style=\"stroke:#00528a; stroke-linecap:round; stroke-linejoin:round; stroke-width:3.6; stroke-opacity:1; fill:none\" points=\"1172.81,677.384 1097.54,712.251 1145.79,613.912 1172.81,677.384 \"/>\n",
       "<path clip-path=\"url(#clip840)\" d=\"M1363.16 824.541 L1415.58 839.983 L1420.64 1043.86  Z\" fill=\"#3a538b\" fill-rule=\"evenodd\" fill-opacity=\"1\"/>\n",
       "<polyline clip-path=\"url(#clip840)\" style=\"stroke:#00528a; stroke-linecap:round; stroke-linejoin:round; stroke-width:3.6; stroke-opacity:1; fill:none\" points=\"1363.16,824.541 1415.58,839.983 1420.64,1043.86 1363.16,824.541 \"/>\n",
       "<path clip-path=\"url(#clip840)\" d=\"M1296.11 679.553 L1244.75 709.638 L1223.04 611.82  Z\" fill=\"#23a983\" fill-rule=\"evenodd\" fill-opacity=\"1\"/>\n",
       "<polyline clip-path=\"url(#clip840)\" style=\"stroke:#00528a; stroke-linecap:round; stroke-linejoin:round; stroke-width:3.6; stroke-opacity:1; fill:none\" points=\"1296.11,679.553 1244.75,709.638 1223.04,611.82 1296.11,679.553 \"/>\n",
       "<path clip-path=\"url(#clip840)\" d=\"M1067.36 672.657 L1097.54 712.251 L1021.89 789.776  Z\" fill=\"#1f988b\" fill-rule=\"evenodd\" fill-opacity=\"1\"/>\n",
       "<polyline clip-path=\"url(#clip840)\" style=\"stroke:#00528a; stroke-linecap:round; stroke-linejoin:round; stroke-width:3.6; stroke-opacity:1; fill:none\" points=\"1067.36,672.657 1097.54,712.251 1021.89,789.776 1067.36,672.657 \"/>\n",
       "<path clip-path=\"url(#clip840)\" d=\"M874.45 964.333 L943.484 898.868 L878.806 1044.9  Z\" fill=\"#453681\" fill-rule=\"evenodd\" fill-opacity=\"1\"/>\n",
       "<polyline clip-path=\"url(#clip840)\" style=\"stroke:#00528a; stroke-linecap:round; stroke-linejoin:round; stroke-width:3.6; stroke-opacity:1; fill:none\" points=\"874.45,964.333 943.484,898.868 878.806,1044.9 874.45,964.333 \"/>\n",
       "<path clip-path=\"url(#clip840)\" d=\"M820.842 1070.29 L874.45 964.333 L878.806 1044.9  Z\" fill=\"#481b6d\" fill-rule=\"evenodd\" fill-opacity=\"1\"/>\n",
       "<polyline clip-path=\"url(#clip840)\" style=\"stroke:#00528a; stroke-linecap:round; stroke-linejoin:round; stroke-width:3.6; stroke-opacity:1; fill:none\" points=\"820.842,1070.29 874.45,964.333 878.806,1044.9 820.842,1070.29 \"/>\n",
       "<path clip-path=\"url(#clip840)\" d=\"M992.823 760.487 L1021.89 789.776 L943.484 898.868  Z\" fill=\"#297a8e\" fill-rule=\"evenodd\" fill-opacity=\"1\"/>\n",
       "<polyline clip-path=\"url(#clip840)\" style=\"stroke:#00528a; stroke-linecap:round; stroke-linejoin:round; stroke-width:3.6; stroke-opacity:1; fill:none\" points=\"992.823,760.487 1021.89,789.776 943.484,898.868 992.823,760.487 \"/>\n",
       "<path clip-path=\"url(#clip840)\" d=\"M1145.79 613.912 L1223.04 611.82 L1172.81 677.384  Z\" fill=\"#34b679\" fill-rule=\"evenodd\" fill-opacity=\"1\"/>\n",
       "<polyline clip-path=\"url(#clip840)\" style=\"stroke:#00528a; stroke-linecap:round; stroke-linejoin:round; stroke-width:3.6; stroke-opacity:1; fill:none\" points=\"1145.79,613.912 1223.04,611.82 1172.81,677.384 1145.79,613.912 \"/>\n",
       "<path clip-path=\"url(#clip840)\" d=\"M1415.58 839.983 L1470.63 1074.18 L1420.64 1043.86  Z\" fill=\"#472d7b\" fill-rule=\"evenodd\" fill-opacity=\"1\"/>\n",
       "<polyline clip-path=\"url(#clip840)\" style=\"stroke:#00528a; stroke-linecap:round; stroke-linejoin:round; stroke-width:3.6; stroke-opacity:1; fill:none\" points=\"1415.58,839.983 1470.63,1074.18 1420.64,1043.86 1415.58,839.983 \"/>\n",
       "<path clip-path=\"url(#clip840)\" d=\"M1349.85 671.299 L1363.16 824.541 L1296.11 679.553  Z\" fill=\"#1f988b\" fill-rule=\"evenodd\" fill-opacity=\"1\"/>\n",
       "<polyline clip-path=\"url(#clip840)\" style=\"stroke:#00528a; stroke-linecap:round; stroke-linejoin:round; stroke-width:3.6; stroke-opacity:1; fill:none\" points=\"1349.85,671.299 1363.16,824.541 1296.11,679.553 1349.85,671.299 \"/>\n",
       "<path clip-path=\"url(#clip840)\" d=\"M1097.54 712.251 L1067.36 672.657 L1145.79 613.912  Z\" fill=\"#26ad81\" fill-rule=\"evenodd\" fill-opacity=\"1\"/>\n",
       "<polyline clip-path=\"url(#clip840)\" style=\"stroke:#00528a; stroke-linecap:round; stroke-linejoin:round; stroke-width:3.6; stroke-opacity:1; fill:none\" points=\"1097.54,712.251 1067.36,672.657 1145.79,613.912 1097.54,712.251 \"/>\n",
       "<path clip-path=\"url(#clip840)\" d=\"M1067.36 672.657 L1021.89 789.776 L992.823 760.487  Z\" fill=\"#1f958b\" fill-rule=\"evenodd\" fill-opacity=\"1\"/>\n",
       "<polyline clip-path=\"url(#clip840)\" style=\"stroke:#00528a; stroke-linecap:round; stroke-linejoin:round; stroke-width:3.6; stroke-opacity:1; fill:none\" points=\"1067.36,672.657 1021.89,789.776 992.823,760.487 1067.36,672.657 \"/>\n",
       "<path clip-path=\"url(#clip840)\" d=\"M1296.11 679.553 L1223.04 611.82 L1276.25 574.182  Z\" fill=\"#45c06f\" fill-rule=\"evenodd\" fill-opacity=\"1\"/>\n",
       "<polyline clip-path=\"url(#clip840)\" style=\"stroke:#00528a; stroke-linecap:round; stroke-linejoin:round; stroke-width:3.6; stroke-opacity:1; fill:none\" points=\"1296.11,679.553 1223.04,611.82 1276.25,574.182 1296.11,679.553 \"/>\n",
       "<path clip-path=\"url(#clip840)\" d=\"M1415.58 839.983 L1363.16 824.541 L1349.85 671.299  Z\" fill=\"#228b8d\" fill-rule=\"evenodd\" fill-opacity=\"1\"/>\n",
       "<polyline clip-path=\"url(#clip840)\" style=\"stroke:#00528a; stroke-linecap:round; stroke-linejoin:round; stroke-width:3.6; stroke-opacity:1; fill:none\" points=\"1415.58,839.983 1363.16,824.541 1349.85,671.299 1415.58,839.983 \"/>\n",
       "<path clip-path=\"url(#clip840)\" d=\"M943.484 898.868 L874.45 964.333 L922.19 858.468  Z\" fill=\"#375b8d\" fill-rule=\"evenodd\" fill-opacity=\"1\"/>\n",
       "<polyline clip-path=\"url(#clip840)\" style=\"stroke:#00528a; stroke-linecap:round; stroke-linejoin:round; stroke-width:3.6; stroke-opacity:1; fill:none\" points=\"943.484,898.868 874.45,964.333 922.19,858.468 943.484,898.868 \"/>\n",
       "<path clip-path=\"url(#clip840)\" d=\"M874.45 964.333 L820.842 1070.29 L818.24 1010.91  Z\" fill=\"#472d7b\" fill-rule=\"evenodd\" fill-opacity=\"1\"/>\n",
       "<polyline clip-path=\"url(#clip840)\" style=\"stroke:#00528a; stroke-linecap:round; stroke-linejoin:round; stroke-width:3.6; stroke-opacity:1; fill:none\" points=\"874.45,964.333 820.842,1070.29 818.24,1010.91 874.45,964.333 \"/>\n",
       "<path clip-path=\"url(#clip840)\" d=\"M1145.79 613.912 L1198.14 547.232 L1223.04 611.82  Z\" fill=\"#5bc864\" fill-rule=\"evenodd\" fill-opacity=\"1\"/>\n",
       "<polyline clip-path=\"url(#clip840)\" style=\"stroke:#00528a; stroke-linecap:round; stroke-linejoin:round; stroke-width:3.6; stroke-opacity:1; fill:none\" points=\"1145.79,613.912 1198.14,547.232 1223.04,611.82 1145.79,613.912 \"/>\n",
       "<path clip-path=\"url(#clip840)\" d=\"M943.484 898.868 L922.19 858.468 L992.823 760.487  Z\" fill=\"#2a778e\" fill-rule=\"evenodd\" fill-opacity=\"1\"/>\n",
       "<polyline clip-path=\"url(#clip840)\" style=\"stroke:#00528a; stroke-linecap:round; stroke-linejoin:round; stroke-width:3.6; stroke-opacity:1; fill:none\" points=\"943.484,898.868 922.19,858.468 992.823,760.487 943.484,898.868 \"/>\n",
       "<path clip-path=\"url(#clip840)\" d=\"M1470.63 1074.18 L1415.58 839.983 L1469.29 870.339  Z\" fill=\"#3a538b\" fill-rule=\"evenodd\" fill-opacity=\"1\"/>\n",
       "<polyline clip-path=\"url(#clip840)\" style=\"stroke:#00528a; stroke-linecap:round; stroke-linejoin:round; stroke-width:3.6; stroke-opacity:1; fill:none\" points=\"1470.63,1074.18 1415.58,839.983 1469.29,870.339 1470.63,1074.18 \"/>\n",
       "<path clip-path=\"url(#clip840)\" d=\"M820.842 1070.29 L761.162 1096.44 L818.24 1010.91  Z\" fill=\"#481768\" fill-rule=\"evenodd\" fill-opacity=\"1\"/>\n",
       "<polyline clip-path=\"url(#clip840)\" style=\"stroke:#00528a; stroke-linecap:round; stroke-linejoin:round; stroke-width:3.6; stroke-opacity:1; fill:none\" points=\"820.842,1070.29 761.162,1096.44 818.24,1010.91 820.842,1070.29 \"/>\n",
       "<path clip-path=\"url(#clip840)\" d=\"M1349.85 671.299 L1296.11 679.553 L1276.25 574.182  Z\" fill=\"#39b977\" fill-rule=\"evenodd\" fill-opacity=\"1\"/>\n",
       "<polyline clip-path=\"url(#clip840)\" style=\"stroke:#00528a; stroke-linecap:round; stroke-linejoin:round; stroke-width:3.6; stroke-opacity:1; fill:none\" points=\"1349.85,671.299 1296.11,679.553 1276.25,574.182 1349.85,671.299 \"/>\n",
       "<path clip-path=\"url(#clip840)\" d=\"M1145.79 613.912 L1067.36 672.657 L1118.22 580.796  Z\" fill=\"#4cc26c\" fill-rule=\"evenodd\" fill-opacity=\"1\"/>\n",
       "<polyline clip-path=\"url(#clip840)\" style=\"stroke:#00528a; stroke-linecap:round; stroke-linejoin:round; stroke-width:3.6; stroke-opacity:1; fill:none\" points=\"1145.79,613.912 1067.36,672.657 1118.22,580.796 1145.79,613.912 \"/>\n",
       "<path clip-path=\"url(#clip840)\" d=\"M1469.29 870.339 L1522.39 1105.57 L1470.63 1074.18  Z\" fill=\"#472d7b\" fill-rule=\"evenodd\" fill-opacity=\"1\"/>\n",
       "<polyline clip-path=\"url(#clip840)\" style=\"stroke:#00528a; stroke-linecap:round; stroke-linejoin:round; stroke-width:3.6; stroke-opacity:1; fill:none\" points=\"1469.29,870.339 1522.39,1105.57 1470.63,1074.18 1469.29,870.339 \"/>\n",
       "<path clip-path=\"url(#clip840)\" d=\"M1067.36 672.657 L992.823 760.487 L1040.13 658.769  Z\" fill=\"#26ad81\" fill-rule=\"evenodd\" fill-opacity=\"1\"/>\n",
       "<polyline clip-path=\"url(#clip840)\" style=\"stroke:#00528a; stroke-linecap:round; stroke-linejoin:round; stroke-width:3.6; stroke-opacity:1; fill:none\" points=\"1067.36,672.657 992.823,760.487 1040.13,658.769 1067.36,672.657 \"/>\n",
       "<path clip-path=\"url(#clip840)\" d=\"M1276.25 574.182 L1223.04 611.82 L1198.14 547.232  Z\" fill=\"#6bcd5b\" fill-rule=\"evenodd\" fill-opacity=\"1\"/>\n",
       "<polyline clip-path=\"url(#clip840)\" style=\"stroke:#00528a; stroke-linecap:round; stroke-linejoin:round; stroke-width:3.6; stroke-opacity:1; fill:none\" points=\"1276.25,574.182 1223.04,611.82 1198.14,547.232 1276.25,574.182 \"/>\n",
       "<path clip-path=\"url(#clip840)\" d=\"M1349.85 671.299 L1405.13 689.289 L1415.58 839.983  Z\" fill=\"#1fa088\" fill-rule=\"evenodd\" fill-opacity=\"1\"/>\n",
       "<polyline clip-path=\"url(#clip840)\" style=\"stroke:#00528a; stroke-linecap:round; stroke-linejoin:round; stroke-width:3.6; stroke-opacity:1; fill:none\" points=\"1349.85,671.299 1405.13,689.289 1415.58,839.983 1349.85,671.299 \"/>\n",
       "<path clip-path=\"url(#clip840)\" d=\"M1118.22 580.796 L1198.14 547.232 L1145.79 613.912  Z\" fill=\"#73d056\" fill-rule=\"evenodd\" fill-opacity=\"1\"/>\n",
       "<polyline clip-path=\"url(#clip840)\" style=\"stroke:#00528a; stroke-linecap:round; stroke-linejoin:round; stroke-width:3.6; stroke-opacity:1; fill:none\" points=\"1118.22,580.796 1198.14,547.232 1145.79,613.912 1118.22,580.796 \"/>\n",
       "<path clip-path=\"url(#clip840)\" d=\"M961.794 767.516 L992.823 760.487 L922.19 858.468  Z\" fill=\"#218f8d\" fill-rule=\"evenodd\" fill-opacity=\"1\"/>\n",
       "<polyline clip-path=\"url(#clip840)\" style=\"stroke:#00528a; stroke-linecap:round; stroke-linejoin:round; stroke-width:3.6; stroke-opacity:1; fill:none\" points=\"961.794,767.516 992.823,760.487 922.19,858.468 961.794,767.516 \"/>\n",
       "<path clip-path=\"url(#clip840)\" d=\"M880.486 897.798 L922.19 858.468 L874.45 964.333  Z\" fill=\"#31668e\" fill-rule=\"evenodd\" fill-opacity=\"1\"/>\n",
       "<polyline clip-path=\"url(#clip840)\" style=\"stroke:#00528a; stroke-linecap:round; stroke-linejoin:round; stroke-width:3.6; stroke-opacity:1; fill:none\" points=\"880.486,897.798 922.19,858.468 874.45,964.333 880.486,897.798 \"/>\n",
       "<path clip-path=\"url(#clip840)\" d=\"M818.24 1010.91 L761.162 1096.44 L757.686 1075.38  Z\" fill=\"#482070\" fill-rule=\"evenodd\" fill-opacity=\"1\"/>\n",
       "<polyline clip-path=\"url(#clip840)\" style=\"stroke:#00528a; stroke-linecap:round; stroke-linejoin:round; stroke-width:3.6; stroke-opacity:1; fill:none\" points=\"818.24,1010.91 761.162,1096.44 757.686,1075.38 818.24,1010.91 \"/>\n",
       "<path clip-path=\"url(#clip840)\" d=\"M818.24 1010.91 L880.486 897.798 L874.45 964.333  Z\" fill=\"#3c4f8a\" fill-rule=\"evenodd\" fill-opacity=\"1\"/>\n",
       "<polyline clip-path=\"url(#clip840)\" style=\"stroke:#00528a; stroke-linecap:round; stroke-linejoin:round; stroke-width:3.6; stroke-opacity:1; fill:none\" points=\"818.24,1010.91 880.486,897.798 874.45,964.333 818.24,1010.91 \"/>\n",
       "<path clip-path=\"url(#clip840)\" d=\"M1405.13 689.289 L1469.29 870.339 L1415.58 839.983  Z\" fill=\"#228b8d\" fill-rule=\"evenodd\" fill-opacity=\"1\"/>\n",
       "<polyline clip-path=\"url(#clip840)\" style=\"stroke:#00528a; stroke-linecap:round; stroke-linejoin:round; stroke-width:3.6; stroke-opacity:1; fill:none\" points=\"1405.13,689.289 1469.29,870.339 1415.58,839.983 1405.13,689.289 \"/>\n",
       "<path clip-path=\"url(#clip840)\" d=\"M1276.25 574.182 L1332.09 570.345 L1349.85 671.299  Z\" fill=\"#63cb5f\" fill-rule=\"evenodd\" fill-opacity=\"1\"/>\n",
       "<polyline clip-path=\"url(#clip840)\" style=\"stroke:#00528a; stroke-linecap:round; stroke-linejoin:round; stroke-width:3.6; stroke-opacity:1; fill:none\" points=\"1276.25,574.182 1332.09,570.345 1349.85,671.299 1276.25,574.182 \"/>\n",
       "<path clip-path=\"url(#clip840)\" d=\"M1067.36 672.657 L1040.13 658.769 L1118.22 580.796  Z\" fill=\"#4cc26c\" fill-rule=\"evenodd\" fill-opacity=\"1\"/>\n",
       "<polyline clip-path=\"url(#clip840)\" style=\"stroke:#00528a; stroke-linecap:round; stroke-linejoin:round; stroke-width:3.6; stroke-opacity:1; fill:none\" points=\"1067.36,672.657 1040.13,658.769 1118.22,580.796 1067.36,672.657 \"/>\n",
       "<path clip-path=\"url(#clip840)\" d=\"M761.162 1096.44 L699.688 1123.38 L757.686 1075.38  Z\" fill=\"#460b5e\" fill-rule=\"evenodd\" fill-opacity=\"1\"/>\n",
       "<polyline clip-path=\"url(#clip840)\" style=\"stroke:#00528a; stroke-linecap:round; stroke-linejoin:round; stroke-width:3.6; stroke-opacity:1; fill:none\" points=\"761.162,1096.44 699.688,1123.38 757.686,1075.38 761.162,1096.44 \"/>\n",
       "<path clip-path=\"url(#clip840)\" d=\"M961.794 767.516 L1040.13 658.769 L992.823 760.487  Z\" fill=\"#21a685\" fill-rule=\"evenodd\" fill-opacity=\"1\"/>\n",
       "<polyline clip-path=\"url(#clip840)\" style=\"stroke:#00528a; stroke-linecap:round; stroke-linejoin:round; stroke-width:3.6; stroke-opacity:1; fill:none\" points=\"961.794,767.516 1040.13,658.769 992.823,760.487 961.794,767.516 \"/>\n",
       "<path clip-path=\"url(#clip840)\" d=\"M1198.14 547.232 L1253.01 517.111 L1276.25 574.182  Z\" fill=\"#96d83f\" fill-rule=\"evenodd\" fill-opacity=\"1\"/>\n",
       "<polyline clip-path=\"url(#clip840)\" style=\"stroke:#00528a; stroke-linecap:round; stroke-linejoin:round; stroke-width:3.6; stroke-opacity:1; fill:none\" points=\"1198.14,547.232 1253.01,517.111 1276.25,574.182 1198.14,547.232 \"/>\n",
       "<path clip-path=\"url(#clip840)\" d=\"M1523.62 920.852 L1522.39 1105.57 L1469.29 870.339  Z\" fill=\"#3a538b\" fill-rule=\"evenodd\" fill-opacity=\"1\"/>\n",
       "<polyline clip-path=\"url(#clip840)\" style=\"stroke:#00528a; stroke-linecap:round; stroke-linejoin:round; stroke-width:3.6; stroke-opacity:1; fill:none\" points=\"1523.62,920.852 1522.39,1105.57 1469.29,870.339 1523.62,920.852 \"/>\n",
       "<path clip-path=\"url(#clip840)\" d=\"M922.19 858.468 L880.486 897.798 L961.794 767.516  Z\" fill=\"#26818e\" fill-rule=\"evenodd\" fill-opacity=\"1\"/>\n",
       "<polyline clip-path=\"url(#clip840)\" style=\"stroke:#00528a; stroke-linecap:round; stroke-linejoin:round; stroke-width:3.6; stroke-opacity:1; fill:none\" points=\"922.19,858.468 880.486,897.798 961.794,767.516 922.19,858.468 \"/>\n",
       "<path clip-path=\"url(#clip840)\" d=\"M1332.09 570.345 L1405.13 689.289 L1349.85 671.299  Z\" fill=\"#4cc26c\" fill-rule=\"evenodd\" fill-opacity=\"1\"/>\n",
       "<polyline clip-path=\"url(#clip840)\" style=\"stroke:#00528a; stroke-linecap:round; stroke-linejoin:round; stroke-width:3.6; stroke-opacity:1; fill:none\" points=\"1332.09,570.345 1405.13,689.289 1349.85,671.299 1332.09,570.345 \"/>\n",
       "<path clip-path=\"url(#clip840)\" d=\"M1118.22 580.796 L1170.92 526.4 L1198.14 547.232  Z\" fill=\"#96d83f\" fill-rule=\"evenodd\" fill-opacity=\"1\"/>\n",
       "<polyline clip-path=\"url(#clip840)\" style=\"stroke:#00528a; stroke-linecap:round; stroke-linejoin:round; stroke-width:3.6; stroke-opacity:1; fill:none\" points=\"1118.22,580.796 1170.92,526.4 1198.14,547.232 1118.22,580.796 \"/>\n",
       "<path clip-path=\"url(#clip840)\" d=\"M1522.39 1105.57 L1523.62 920.852 L1576.01 1138.1  Z\" fill=\"#482979\" fill-rule=\"evenodd\" fill-opacity=\"1\"/>\n",
       "<polyline clip-path=\"url(#clip840)\" style=\"stroke:#00528a; stroke-linecap:round; stroke-linejoin:round; stroke-width:3.6; stroke-opacity:1; fill:none\" points=\"1522.39,1105.57 1523.62,920.852 1576.01,1138.1 1522.39,1105.57 \"/>\n",
       "<path clip-path=\"url(#clip840)\" d=\"M757.686 1075.38 L699.688 1123.38 L708.502 1127.38  Z\" fill=\"#481768\" fill-rule=\"evenodd\" fill-opacity=\"1\"/>\n",
       "<polyline clip-path=\"url(#clip840)\" style=\"stroke:#00528a; stroke-linecap:round; stroke-linejoin:round; stroke-width:3.6; stroke-opacity:1; fill:none\" points=\"757.686,1075.38 699.688,1123.38 708.502,1127.38 757.686,1075.38 \"/>\n",
       "<path clip-path=\"url(#clip840)\" d=\"M1118.22 580.796 L1040.13 658.769 L1088.99 587.938  Z\" fill=\"#6bcd5b\" fill-rule=\"evenodd\" fill-opacity=\"1\"/>\n",
       "<polyline clip-path=\"url(#clip840)\" style=\"stroke:#00528a; stroke-linecap:round; stroke-linejoin:round; stroke-width:3.6; stroke-opacity:1; fill:none\" points=\"1118.22,580.796 1040.13,658.769 1088.99,587.938 1118.22,580.796 \"/>\n",
       "<path clip-path=\"url(#clip840)\" d=\"M1276.25 574.182 L1253.01 517.111 L1332.09 570.345  Z\" fill=\"#96d83f\" fill-rule=\"evenodd\" fill-opacity=\"1\"/>\n",
       "<polyline clip-path=\"url(#clip840)\" style=\"stroke:#00528a; stroke-linecap:round; stroke-linejoin:round; stroke-width:3.6; stroke-opacity:1; fill:none\" points=\"1276.25,574.182 1253.01,517.111 1332.09,570.345 1276.25,574.182 \"/>\n",
       "<path clip-path=\"url(#clip840)\" d=\"M1460.28 740.768 L1469.29 870.339 L1405.13 689.289  Z\" fill=\"#1fa088\" fill-rule=\"evenodd\" fill-opacity=\"1\"/>\n",
       "<polyline clip-path=\"url(#clip840)\" style=\"stroke:#00528a; stroke-linecap:round; stroke-linejoin:round; stroke-width:3.6; stroke-opacity:1; fill:none\" points=\"1460.28,740.768 1469.29,870.339 1405.13,689.289 1460.28,740.768 \"/>\n",
       "<path clip-path=\"url(#clip840)\" d=\"M811.363 1006.99 L818.24 1010.91 L757.686 1075.38  Z\" fill=\"#443a83\" fill-rule=\"evenodd\" fill-opacity=\"1\"/>\n",
       "<polyline clip-path=\"url(#clip840)\" style=\"stroke:#00528a; stroke-linecap:round; stroke-linejoin:round; stroke-width:3.6; stroke-opacity:1; fill:none\" points=\"811.363,1006.99 818.24,1010.91 757.686,1075.38 811.363,1006.99 \"/>\n",
       "<path clip-path=\"url(#clip840)\" d=\"M636.339 1151.14 L708.502 1127.38 L699.688 1123.38  Z\" fill=\"#46065a\" fill-rule=\"evenodd\" fill-opacity=\"1\"/>\n",
       "<polyline clip-path=\"url(#clip840)\" style=\"stroke:#00528a; stroke-linecap:round; stroke-linejoin:round; stroke-width:3.6; stroke-opacity:1; fill:none\" points=\"636.339,1151.14 708.502,1127.38 699.688,1123.38 636.339,1151.14 \"/>\n",
       "<path clip-path=\"url(#clip840)\" d=\"M880.486 897.798 L818.24 1010.91 L811.363 1006.99  Z\" fill=\"#39568c\" fill-rule=\"evenodd\" fill-opacity=\"1\"/>\n",
       "<polyline clip-path=\"url(#clip840)\" style=\"stroke:#00528a; stroke-linecap:round; stroke-linejoin:round; stroke-width:3.6; stroke-opacity:1; fill:none\" points=\"880.486,897.798 818.24,1010.91 811.363,1006.99 880.486,897.798 \"/>\n",
       "<path clip-path=\"url(#clip840)\" d=\"M1010.21 686.12 L1040.13 658.769 L961.794 767.516  Z\" fill=\"#34b679\" fill-rule=\"evenodd\" fill-opacity=\"1\"/>\n",
       "<polyline clip-path=\"url(#clip840)\" style=\"stroke:#00528a; stroke-linecap:round; stroke-linejoin:round; stroke-width:3.6; stroke-opacity:1; fill:none\" points=\"1010.21,686.12 1040.13,658.769 961.794,767.516 1010.21,686.12 \"/>\n",
       "<path clip-path=\"url(#clip840)\" d=\"M1170.92 526.4 L1253.01 517.111 L1198.14 547.232  Z\" fill=\"#b3dd2c\" fill-rule=\"evenodd\" fill-opacity=\"1\"/>\n",
       "<polyline clip-path=\"url(#clip840)\" style=\"stroke:#00528a; stroke-linecap:round; stroke-linejoin:round; stroke-width:3.6; stroke-opacity:1; fill:none\" points=\"1170.92,526.4 1253.01,517.111 1198.14,547.232 1170.92,526.4 \"/>\n",
       "<path clip-path=\"url(#clip840)\" d=\"M961.794 767.516 L880.486 897.798 L933.156 808.281  Z\" fill=\"#218f8d\" fill-rule=\"evenodd\" fill-opacity=\"1\"/>\n",
       "<polyline clip-path=\"url(#clip840)\" style=\"stroke:#00528a; stroke-linecap:round; stroke-linejoin:round; stroke-width:3.6; stroke-opacity:1; fill:none\" points=\"961.794,767.516 880.486,897.798 933.156,808.281 961.794,767.516 \"/>\n",
       "<path clip-path=\"url(#clip840)\" d=\"M1469.29 870.339 L1460.28 740.768 L1523.62 920.852  Z\" fill=\"#24888e\" fill-rule=\"evenodd\" fill-opacity=\"1\"/>\n",
       "<polyline clip-path=\"url(#clip840)\" style=\"stroke:#00528a; stroke-linecap:round; stroke-linejoin:round; stroke-width:3.6; stroke-opacity:1; fill:none\" points=\"1469.29,870.339 1460.28,740.768 1523.62,920.852 1469.29,870.339 \"/>\n",
       "<path clip-path=\"url(#clip840)\" d=\"M1332.09 570.345 L1388.57 608.678 L1405.13 689.289  Z\" fill=\"#6bcd5b\" fill-rule=\"evenodd\" fill-opacity=\"1\"/>\n",
       "<polyline clip-path=\"url(#clip840)\" style=\"stroke:#00528a; stroke-linecap:round; stroke-linejoin:round; stroke-width:3.6; stroke-opacity:1; fill:none\" points=\"1332.09,570.345 1388.57,608.678 1405.13,689.289 1332.09,570.345 \"/>\n",
       "<path clip-path=\"url(#clip840)\" d=\"M1088.99 587.938 L1170.92 526.4 L1118.22 580.796  Z\" fill=\"#96d83f\" fill-rule=\"evenodd\" fill-opacity=\"1\"/>\n",
       "<polyline clip-path=\"url(#clip840)\" style=\"stroke:#00528a; stroke-linecap:round; stroke-linejoin:round; stroke-width:3.6; stroke-opacity:1; fill:none\" points=\"1088.99,587.938 1170.92,526.4 1118.22,580.796 1088.99,587.938 \"/>\n",
       "<path clip-path=\"url(#clip840)\" d=\"M708.502 1127.38 L743.431 1113.99 L757.686 1075.38  Z\" fill=\"#482070\" fill-rule=\"evenodd\" fill-opacity=\"1\"/>\n",
       "<polyline clip-path=\"url(#clip840)\" style=\"stroke:#00528a; stroke-linecap:round; stroke-linejoin:round; stroke-width:3.6; stroke-opacity:1; fill:none\" points=\"708.502,1127.38 743.431,1113.99 757.686,1075.38 708.502,1127.38 \"/>\n",
       "<path clip-path=\"url(#clip840)\" d=\"M1576.01 1138.1 L1523.62 920.852 L1576.98 1005.34  Z\" fill=\"#3f4788\" fill-rule=\"evenodd\" fill-opacity=\"1\"/>\n",
       "<polyline clip-path=\"url(#clip840)\" style=\"stroke:#00528a; stroke-linecap:round; stroke-linejoin:round; stroke-width:3.6; stroke-opacity:1; fill:none\" points=\"1576.01,1138.1 1523.62,920.852 1576.98,1005.34 1576.01,1138.1 \"/>\n",
       "<path clip-path=\"url(#clip840)\" d=\"M1040.13 658.769 L1010.21 686.12 L1088.99 587.938  Z\" fill=\"#5bc864\" fill-rule=\"evenodd\" fill-opacity=\"1\"/>\n",
       "<polyline clip-path=\"url(#clip840)\" style=\"stroke:#00528a; stroke-linecap:round; stroke-linejoin:round; stroke-width:3.6; stroke-opacity:1; fill:none\" points=\"1040.13,658.769 1010.21,686.12 1088.99,587.938 1040.13,658.769 \"/>\n",
       "<path clip-path=\"url(#clip840)\" d=\"M1310.12 532.635 L1332.09 570.345 L1253.01 517.111  Z\" fill=\"#b3dd2c\" fill-rule=\"evenodd\" fill-opacity=\"1\"/>\n",
       "<polyline clip-path=\"url(#clip840)\" style=\"stroke:#00528a; stroke-linecap:round; stroke-linejoin:round; stroke-width:3.6; stroke-opacity:1; fill:none\" points=\"1310.12,532.635 1332.09,570.345 1253.01,517.111 1310.12,532.635 \"/>\n",
       "<path clip-path=\"url(#clip840)\" d=\"M674.941 1185.35 L708.502 1127.38 L636.339 1151.14  Z\" fill=\"#46065a\" fill-rule=\"evenodd\" fill-opacity=\"1\"/>\n",
       "<polyline clip-path=\"url(#clip840)\" style=\"stroke:#00528a; stroke-linecap:round; stroke-linejoin:round; stroke-width:3.6; stroke-opacity:1; fill:none\" points=\"674.941,1185.35 708.502,1127.38 636.339,1151.14 674.941,1185.35 \"/>\n",
       "<path clip-path=\"url(#clip840)\" d=\"M1405.13 689.289 L1388.57 608.678 L1460.28 740.768  Z\" fill=\"#45c06f\" fill-rule=\"evenodd\" fill-opacity=\"1\"/>\n",
       "<polyline clip-path=\"url(#clip840)\" style=\"stroke:#00528a; stroke-linecap:round; stroke-linejoin:round; stroke-width:3.6; stroke-opacity:1; fill:none\" points=\"1405.13,689.289 1388.57,608.678 1460.28,740.768 1405.13,689.289 \"/>\n",
       "<path clip-path=\"url(#clip840)\" d=\"M757.686 1075.38 L743.431 1113.99 L811.363 1006.99  Z\" fill=\"#453681\" fill-rule=\"evenodd\" fill-opacity=\"1\"/>\n",
       "<polyline clip-path=\"url(#clip840)\" style=\"stroke:#00528a; stroke-linecap:round; stroke-linejoin:round; stroke-width:3.6; stroke-opacity:1; fill:none\" points=\"757.686,1075.38 743.431,1113.99 811.363,1006.99 757.686,1075.38 \"/>\n",
       "<path clip-path=\"url(#clip840)\" d=\"M933.156 808.281 L1010.21 686.12 L961.794 767.516  Z\" fill=\"#23a983\" fill-rule=\"evenodd\" fill-opacity=\"1\"/>\n",
       "<polyline clip-path=\"url(#clip840)\" style=\"stroke:#00528a; stroke-linecap:round; stroke-linejoin:round; stroke-width:3.6; stroke-opacity:1; fill:none\" points=\"933.156,808.281 1010.21,686.12 961.794,767.516 933.156,808.281 \"/>\n",
       "<path clip-path=\"url(#clip840)\" d=\"M811.363 1006.99 L874.195 912.21 L880.486 897.798  Z\" fill=\"#30698e\" fill-rule=\"evenodd\" fill-opacity=\"1\"/>\n",
       "<polyline clip-path=\"url(#clip840)\" style=\"stroke:#00528a; stroke-linecap:round; stroke-linejoin:round; stroke-width:3.6; stroke-opacity:1; fill:none\" points=\"811.363,1006.99 874.195,912.21 880.486,897.798 811.363,1006.99 \"/>\n",
       "<path clip-path=\"url(#clip840)\" d=\"M1576.98 1005.34 L1631.61 1171.82 L1576.01 1138.1  Z\" fill=\"#482475\" fill-rule=\"evenodd\" fill-opacity=\"1\"/>\n",
       "<polyline clip-path=\"url(#clip840)\" style=\"stroke:#00528a; stroke-linecap:round; stroke-linejoin:round; stroke-width:3.6; stroke-opacity:1; fill:none\" points=\"1576.98,1005.34 1631.61,1171.82 1576.01,1138.1 1576.98,1005.34 \"/>\n",
       "<path clip-path=\"url(#clip840)\" d=\"M1226.77 515.676 L1253.01 517.111 L1170.92 526.4  Z\" fill=\"#d0e11c\" fill-rule=\"evenodd\" fill-opacity=\"1\"/>\n",
       "<polyline clip-path=\"url(#clip840)\" style=\"stroke:#00528a; stroke-linecap:round; stroke-linejoin:round; stroke-width:3.6; stroke-opacity:1; fill:none\" points=\"1226.77,515.676 1253.01,517.111 1170.92,526.4 1226.77,515.676 \"/>\n",
       "<path clip-path=\"url(#clip840)\" d=\"M933.156 808.281 L880.486 897.798 L874.195 912.21  Z\" fill=\"#25848e\" fill-rule=\"evenodd\" fill-opacity=\"1\"/>\n",
       "<polyline clip-path=\"url(#clip840)\" style=\"stroke:#00528a; stroke-linecap:round; stroke-linejoin:round; stroke-width:3.6; stroke-opacity:1; fill:none\" points=\"933.156,808.281 880.486,897.798 874.195,912.21 933.156,808.281 \"/>\n",
       "<path clip-path=\"url(#clip840)\" d=\"M1332.09 570.345 L1310.12 532.635 L1388.57 608.678  Z\" fill=\"#a0da39\" fill-rule=\"evenodd\" fill-opacity=\"1\"/>\n",
       "<polyline clip-path=\"url(#clip840)\" style=\"stroke:#00528a; stroke-linecap:round; stroke-linejoin:round; stroke-width:3.6; stroke-opacity:1; fill:none\" points=\"1332.09,570.345 1310.12,532.635 1388.57,608.678 1332.09,570.345 \"/>\n",
       "<path clip-path=\"url(#clip840)\" d=\"M708.502 1127.38 L674.941 1185.35 L743.431 1113.99  Z\" fill=\"#481768\" fill-rule=\"evenodd\" fill-opacity=\"1\"/>\n",
       "<polyline clip-path=\"url(#clip840)\" style=\"stroke:#00528a; stroke-linecap:round; stroke-linejoin:round; stroke-width:3.6; stroke-opacity:1; fill:none\" points=\"708.502,1127.38 674.941,1185.35 743.431,1113.99 708.502,1127.38 \"/>\n",
       "<path clip-path=\"url(#clip840)\" d=\"M1142.08 555.059 L1170.92 526.4 L1088.99 587.938  Z\" fill=\"#b3dd2c\" fill-rule=\"evenodd\" fill-opacity=\"1\"/>\n",
       "<polyline clip-path=\"url(#clip840)\" style=\"stroke:#00528a; stroke-linecap:round; stroke-linejoin:round; stroke-width:3.6; stroke-opacity:1; fill:none\" points=\"1142.08,555.059 1170.92,526.4 1088.99,587.938 1142.08,555.059 \"/>\n",
       "<path clip-path=\"url(#clip840)\" d=\"M1460.28 740.768 L1518.52 848.802 L1523.62 920.852  Z\" fill=\"#20928c\" fill-rule=\"evenodd\" fill-opacity=\"1\"/>\n",
       "<polyline clip-path=\"url(#clip840)\" style=\"stroke:#00528a; stroke-linecap:round; stroke-linejoin:round; stroke-width:3.6; stroke-opacity:1; fill:none\" points=\"1460.28,740.768 1518.52,848.802 1523.62,920.852 1460.28,740.768 \"/>\n",
       "<path clip-path=\"url(#clip840)\" d=\"M1058.64 641.191 L1088.99 587.938 L1010.21 686.12  Z\" fill=\"#73d056\" fill-rule=\"evenodd\" fill-opacity=\"1\"/>\n",
       "<polyline clip-path=\"url(#clip840)\" style=\"stroke:#00528a; stroke-linecap:round; stroke-linejoin:round; stroke-width:3.6; stroke-opacity:1; fill:none\" points=\"1058.64,641.191 1088.99,587.938 1010.21,686.12 1058.64,641.191 \"/>\n",
       "<path clip-path=\"url(#clip840)\" d=\"M1226.77 515.676 L1310.12 532.635 L1253.01 517.111  Z\" fill=\"#d0e11c\" fill-rule=\"evenodd\" fill-opacity=\"1\"/>\n",
       "<polyline clip-path=\"url(#clip840)\" style=\"stroke:#00528a; stroke-linecap:round; stroke-linejoin:round; stroke-width:3.6; stroke-opacity:1; fill:none\" points=\"1226.77,515.676 1310.12,532.635 1253.01,517.111 1226.77,515.676 \"/>\n",
       "<path clip-path=\"url(#clip840)\" d=\"M1442.12 698.943 L1460.28 740.768 L1388.57 608.678  Z\" fill=\"#54c568\" fill-rule=\"evenodd\" fill-opacity=\"1\"/>\n",
       "<polyline clip-path=\"url(#clip840)\" style=\"stroke:#00528a; stroke-linecap:round; stroke-linejoin:round; stroke-width:3.6; stroke-opacity:1; fill:none\" points=\"1442.12,698.943 1460.28,740.768 1388.57,608.678 1442.12,698.943 \"/>\n",
       "<path clip-path=\"url(#clip840)\" d=\"M1619.8 1110.47 L1631.61 1171.82 L1576.98 1005.34  Z\" fill=\"#46327e\" fill-rule=\"evenodd\" fill-opacity=\"1\"/>\n",
       "<polyline clip-path=\"url(#clip840)\" style=\"stroke:#00528a; stroke-linecap:round; stroke-linejoin:round; stroke-width:3.6; stroke-opacity:1; fill:none\" points=\"1619.8,1110.47 1631.61,1171.82 1576.98,1005.34 1619.8,1110.47 \"/>\n",
       "<path clip-path=\"url(#clip840)\" d=\"M978.547 760.25 L1010.21 686.12 L933.156 808.281  Z\" fill=\"#2ab07f\" fill-rule=\"evenodd\" fill-opacity=\"1\"/>\n",
       "<polyline clip-path=\"url(#clip840)\" style=\"stroke:#00528a; stroke-linecap:round; stroke-linejoin:round; stroke-width:3.6; stroke-opacity:1; fill:none\" points=\"978.547,760.25 1010.21,686.12 933.156,808.281 978.547,760.25 \"/>\n",
       "<path clip-path=\"url(#clip840)\" d=\"M1518.52 848.802 L1576.98 1005.34 L1523.62 920.852  Z\" fill=\"#2a778e\" fill-rule=\"evenodd\" fill-opacity=\"1\"/>\n",
       "<polyline clip-path=\"url(#clip840)\" style=\"stroke:#00528a; stroke-linecap:round; stroke-linejoin:round; stroke-width:3.6; stroke-opacity:1; fill:none\" points=\"1518.52,848.802 1576.98,1005.34 1523.62,920.852 1518.52,848.802 \"/>\n",
       "<path clip-path=\"url(#clip840)\" d=\"M843.027 995.793 L874.195 912.21 L811.363 1006.99  Z\" fill=\"#31668e\" fill-rule=\"evenodd\" fill-opacity=\"1\"/>\n",
       "<polyline clip-path=\"url(#clip840)\" style=\"stroke:#00528a; stroke-linecap:round; stroke-linejoin:round; stroke-width:3.6; stroke-opacity:1; fill:none\" points=\"843.027,995.793 874.195,912.21 811.363,1006.99 843.027,995.793 \"/>\n",
       "<path clip-path=\"url(#clip840)\" d=\"M743.431 1113.99 L780.494 1112.6 L811.363 1006.99  Z\" fill=\"#443a83\" fill-rule=\"evenodd\" fill-opacity=\"1\"/>\n",
       "<polyline clip-path=\"url(#clip840)\" style=\"stroke:#00528a; stroke-linecap:round; stroke-linejoin:round; stroke-width:3.6; stroke-opacity:1; fill:none\" points=\"743.431,1113.99 780.494,1112.6 811.363,1006.99 743.431,1113.99 \"/>\n",
       "<path clip-path=\"url(#clip840)\" d=\"M874.195 912.21 L906.946 886.106 L933.156 808.281  Z\" fill=\"#228b8d\" fill-rule=\"evenodd\" fill-opacity=\"1\"/>\n",
       "<polyline clip-path=\"url(#clip840)\" style=\"stroke:#00528a; stroke-linecap:round; stroke-linejoin:round; stroke-width:3.6; stroke-opacity:1; fill:none\" points=\"874.195,912.21 906.946,886.106 933.156,808.281 874.195,912.21 \"/>\n",
       "<path clip-path=\"url(#clip840)\" d=\"M1226.77 515.676 L1170.92 526.4 L1142.08 555.059  Z\" fill=\"#d0e11c\" fill-rule=\"evenodd\" fill-opacity=\"1\"/>\n",
       "<polyline clip-path=\"url(#clip840)\" style=\"stroke:#00528a; stroke-linecap:round; stroke-linejoin:round; stroke-width:3.6; stroke-opacity:1; fill:none\" points=\"1226.77,515.676 1170.92,526.4 1142.08,555.059 1226.77,515.676 \"/>\n",
       "<path clip-path=\"url(#clip840)\" d=\"M743.431 1113.99 L674.941 1185.35 L714.999 1220.84  Z\" fill=\"#460b5e\" fill-rule=\"evenodd\" fill-opacity=\"1\"/>\n",
       "<polyline clip-path=\"url(#clip840)\" style=\"stroke:#00528a; stroke-linecap:round; stroke-linejoin:round; stroke-width:3.6; stroke-opacity:1; fill:none\" points=\"743.431,1113.99 674.941,1185.35 714.999,1220.84 743.431,1113.99 \"/>\n",
       "<path clip-path=\"url(#clip840)\" d=\"M1310.12 532.635 L1367.74 606.944 L1388.57 608.678  Z\" fill=\"#a9dc33\" fill-rule=\"evenodd\" fill-opacity=\"1\"/>\n",
       "<polyline clip-path=\"url(#clip840)\" style=\"stroke:#00528a; stroke-linecap:round; stroke-linejoin:round; stroke-width:3.6; stroke-opacity:1; fill:none\" points=\"1310.12,532.635 1367.74,606.944 1388.57,608.678 1310.12,532.635 \"/>\n",
       "<path clip-path=\"url(#clip840)\" d=\"M1631.61 1171.82 L1619.8 1110.47 L1689.29 1206.81  Z\" fill=\"#481768\" fill-rule=\"evenodd\" fill-opacity=\"1\"/>\n",
       "<polyline clip-path=\"url(#clip840)\" style=\"stroke:#00528a; stroke-linecap:round; stroke-linejoin:round; stroke-width:3.6; stroke-opacity:1; fill:none\" points=\"1631.61,1171.82 1619.8,1110.47 1689.29,1206.81 1631.61,1171.82 \"/>\n",
       "<path clip-path=\"url(#clip840)\" d=\"M1142.08 555.059 L1088.99 587.938 L1058.64 641.191  Z\" fill=\"#96d83f\" fill-rule=\"evenodd\" fill-opacity=\"1\"/>\n",
       "<polyline clip-path=\"url(#clip840)\" style=\"stroke:#00528a; stroke-linecap:round; stroke-linejoin:round; stroke-width:3.6; stroke-opacity:1; fill:none\" points=\"1142.08,555.059 1088.99,587.938 1058.64,641.191 1142.08,555.059 \"/>\n",
       "<path clip-path=\"url(#clip840)\" d=\"M1442.12 698.943 L1518.52 848.802 L1460.28 740.768  Z\" fill=\"#2ab07f\" fill-rule=\"evenodd\" fill-opacity=\"1\"/>\n",
       "<polyline clip-path=\"url(#clip840)\" style=\"stroke:#00528a; stroke-linecap:round; stroke-linejoin:round; stroke-width:3.6; stroke-opacity:1; fill:none\" points=\"1442.12,698.943 1518.52,848.802 1460.28,740.768 1442.12,698.943 \"/>\n",
       "<path clip-path=\"url(#clip840)\" d=\"M1058.64 641.191 L1010.21 686.12 L978.547 760.25  Z\" fill=\"#54c568\" fill-rule=\"evenodd\" fill-opacity=\"1\"/>\n",
       "<polyline clip-path=\"url(#clip840)\" style=\"stroke:#00528a; stroke-linecap:round; stroke-linejoin:round; stroke-width:3.6; stroke-opacity:1; fill:none\" points=\"1058.64,641.191 1010.21,686.12 978.547,760.25 1058.64,641.191 \"/>\n",
       "<path clip-path=\"url(#clip840)\" d=\"M811.363 1006.99 L780.494 1112.6 L843.027 995.793  Z\" fill=\"#3c4f8a\" fill-rule=\"evenodd\" fill-opacity=\"1\"/>\n",
       "<polyline clip-path=\"url(#clip840)\" style=\"stroke:#00528a; stroke-linecap:round; stroke-linejoin:round; stroke-width:3.6; stroke-opacity:1; fill:none\" points=\"811.363,1006.99 780.494,1112.6 843.027,995.793 811.363,1006.99 \"/>\n",
       "<path clip-path=\"url(#clip840)\" d=\"M843.027 995.793 L906.946 886.106 L874.195 912.21  Z\" fill=\"#297a8e\" fill-rule=\"evenodd\" fill-opacity=\"1\"/>\n",
       "<polyline clip-path=\"url(#clip840)\" style=\"stroke:#00528a; stroke-linecap:round; stroke-linejoin:round; stroke-width:3.6; stroke-opacity:1; fill:none\" points=\"843.027,995.793 906.946,886.106 874.195,912.21 843.027,995.793 \"/>\n",
       "<path clip-path=\"url(#clip840)\" d=\"M1310.12 532.635 L1226.77 515.676 L1284.34 560.9  Z\" fill=\"#d0e11c\" fill-rule=\"evenodd\" fill-opacity=\"1\"/>\n",
       "<polyline clip-path=\"url(#clip840)\" style=\"stroke:#00528a; stroke-linecap:round; stroke-linejoin:round; stroke-width:3.6; stroke-opacity:1; fill:none\" points=\"1310.12,532.635 1226.77,515.676 1284.34,560.9 1310.12,532.635 \"/>\n",
       "<path clip-path=\"url(#clip840)\" d=\"M933.156 808.281 L906.946 886.106 L978.547 760.25  Z\" fill=\"#1fa088\" fill-rule=\"evenodd\" fill-opacity=\"1\"/>\n",
       "<polyline clip-path=\"url(#clip840)\" style=\"stroke:#00528a; stroke-linecap:round; stroke-linejoin:round; stroke-width:3.6; stroke-opacity:1; fill:none\" points=\"933.156,808.281 906.946,886.106 978.547,760.25 933.156,808.281 \"/>\n",
       "<path clip-path=\"url(#clip840)\" d=\"M1388.57 608.678 L1367.74 606.944 L1442.12 698.943  Z\" fill=\"#7bd250\" fill-rule=\"evenodd\" fill-opacity=\"1\"/>\n",
       "<polyline clip-path=\"url(#clip840)\" style=\"stroke:#00528a; stroke-linecap:round; stroke-linejoin:round; stroke-width:3.6; stroke-opacity:1; fill:none\" points=\"1388.57,608.678 1367.74,606.944 1442.12,698.943 1388.57,608.678 \"/>\n",
       "<path clip-path=\"url(#clip840)\" d=\"M1619.8 1110.47 L1576.98 1005.34 L1581.82 1048.95  Z\" fill=\"#3c4f8a\" fill-rule=\"evenodd\" fill-opacity=\"1\"/>\n",
       "<polyline clip-path=\"url(#clip840)\" style=\"stroke:#00528a; stroke-linecap:round; stroke-linejoin:round; stroke-width:3.6; stroke-opacity:1; fill:none\" points=\"1619.8,1110.47 1576.98,1005.34 1581.82,1048.95 1619.8,1110.47 \"/>\n",
       "<path clip-path=\"url(#clip840)\" d=\"M1576.98 1005.34 L1518.52 848.802 L1581.82 1048.95  Z\" fill=\"#2d708e\" fill-rule=\"evenodd\" fill-opacity=\"1\"/>\n",
       "<polyline clip-path=\"url(#clip840)\" style=\"stroke:#00528a; stroke-linecap:round; stroke-linejoin:round; stroke-width:3.6; stroke-opacity:1; fill:none\" points=\"1576.98,1005.34 1518.52,848.802 1581.82,1048.95 1576.98,1005.34 \"/>\n",
       "<path clip-path=\"url(#clip840)\" d=\"M714.999 1220.84 L780.494 1112.6 L743.431 1113.99  Z\" fill=\"#482070\" fill-rule=\"evenodd\" fill-opacity=\"1\"/>\n",
       "<polyline clip-path=\"url(#clip840)\" style=\"stroke:#00528a; stroke-linecap:round; stroke-linejoin:round; stroke-width:3.6; stroke-opacity:1; fill:none\" points=\"714.999,1220.84 780.494,1112.6 743.431,1113.99 714.999,1220.84 \"/>\n",
       "<path clip-path=\"url(#clip840)\" d=\"M1142.08 555.059 L1198.29 571.034 L1226.77 515.676  Z\" fill=\"#d0e11c\" fill-rule=\"evenodd\" fill-opacity=\"1\"/>\n",
       "<polyline clip-path=\"url(#clip840)\" style=\"stroke:#00528a; stroke-linecap:round; stroke-linejoin:round; stroke-width:3.6; stroke-opacity:1; fill:none\" points=\"1142.08,555.059 1198.29,571.034 1226.77,515.676 1142.08,555.059 \"/>\n",
       "<path clip-path=\"url(#clip840)\" d=\"M1689.29 1206.81 L1619.8 1110.47 L1638.79 1237.19  Z\" fill=\"#481768\" fill-rule=\"evenodd\" fill-opacity=\"1\"/>\n",
       "<polyline clip-path=\"url(#clip840)\" style=\"stroke:#00528a; stroke-linecap:round; stroke-linejoin:round; stroke-width:3.6; stroke-opacity:1; fill:none\" points=\"1689.29,1206.81 1619.8,1110.47 1638.79,1237.19 1689.29,1206.81 \"/>\n",
       "<path clip-path=\"url(#clip840)\" d=\"M1481.76 833.431 L1518.52 848.802 L1442.12 698.943  Z\" fill=\"#26ad81\" fill-rule=\"evenodd\" fill-opacity=\"1\"/>\n",
       "<polyline clip-path=\"url(#clip840)\" style=\"stroke:#00528a; stroke-linecap:round; stroke-linejoin:round; stroke-width:3.6; stroke-opacity:1; fill:none\" points=\"1481.76,833.431 1518.52,848.802 1442.12,698.943 1481.76,833.431 \"/>\n",
       "<path clip-path=\"url(#clip840)\" d=\"M1284.34 560.9 L1367.74 606.944 L1310.12 532.635  Z\" fill=\"#bddf26\" fill-rule=\"evenodd\" fill-opacity=\"1\"/>\n",
       "<polyline clip-path=\"url(#clip840)\" style=\"stroke:#00528a; stroke-linecap:round; stroke-linejoin:round; stroke-width:3.6; stroke-opacity:1; fill:none\" points=\"1284.34,560.9 1367.74,606.944 1310.12,532.635 1284.34,560.9 \"/>\n",
       "<path clip-path=\"url(#clip840)\" d=\"M1058.64 641.191 L1112.13 634.195 L1142.08 555.059  Z\" fill=\"#a0da39\" fill-rule=\"evenodd\" fill-opacity=\"1\"/>\n",
       "<polyline clip-path=\"url(#clip840)\" style=\"stroke:#00528a; stroke-linecap:round; stroke-linejoin:round; stroke-width:3.6; stroke-opacity:1; fill:none\" points=\"1058.64,641.191 1112.13,634.195 1142.08,555.059 1058.64,641.191 \"/>\n",
       "<path clip-path=\"url(#clip840)\" d=\"M1581.82 1048.95 L1638.79 1237.19 L1619.8 1110.47  Z\" fill=\"#46327e\" fill-rule=\"evenodd\" fill-opacity=\"1\"/>\n",
       "<polyline clip-path=\"url(#clip840)\" style=\"stroke:#00528a; stroke-linecap:round; stroke-linejoin:round; stroke-width:3.6; stroke-opacity:1; fill:none\" points=\"1581.82,1048.95 1638.79,1237.19 1619.8,1110.47 1581.82,1048.95 \"/>\n",
       "<path clip-path=\"url(#clip840)\" d=\"M1028.08 741.342 L1058.64 641.191 L978.547 760.25  Z\" fill=\"#54c568\" fill-rule=\"evenodd\" fill-opacity=\"1\"/>\n",
       "<polyline clip-path=\"url(#clip840)\" style=\"stroke:#00528a; stroke-linecap:round; stroke-linejoin:round; stroke-width:3.6; stroke-opacity:1; fill:none\" points=\"1028.08,741.342 1058.64,641.191 978.547,760.25 1028.08,741.342 \"/>\n",
       "<path clip-path=\"url(#clip840)\" d=\"M843.027 995.793 L780.494 1112.6 L820.914 1122.92  Z\" fill=\"#3e4b89\" fill-rule=\"evenodd\" fill-opacity=\"1\"/>\n",
       "<polyline clip-path=\"url(#clip840)\" style=\"stroke:#00528a; stroke-linecap:round; stroke-linejoin:round; stroke-width:3.6; stroke-opacity:1; fill:none\" points=\"843.027,995.793 780.494,1112.6 820.914,1122.92 843.027,995.793 \"/>\n",
       "<path clip-path=\"url(#clip840)\" d=\"M884.778 994.287 L906.946 886.106 L843.027 995.793  Z\" fill=\"#2a778e\" fill-rule=\"evenodd\" fill-opacity=\"1\"/>\n",
       "<polyline clip-path=\"url(#clip840)\" style=\"stroke:#00528a; stroke-linecap:round; stroke-linejoin:round; stroke-width:3.6; stroke-opacity:1; fill:none\" points=\"884.778,994.287 906.946,886.106 843.027,995.793 884.778,994.287 \"/>\n",
       "<path clip-path=\"url(#clip840)\" d=\"M1284.34 560.9 L1226.77 515.676 L1198.29 571.034  Z\" fill=\"#d0e11c\" fill-rule=\"evenodd\" fill-opacity=\"1\"/>\n",
       "<polyline clip-path=\"url(#clip840)\" style=\"stroke:#00528a; stroke-linecap:round; stroke-linejoin:round; stroke-width:3.6; stroke-opacity:1; fill:none\" points=\"1284.34,560.9 1226.77,515.676 1198.29,571.034 1284.34,560.9 \"/>\n",
       "<path clip-path=\"url(#clip840)\" d=\"M906.946 886.106 L948.238 879.124 L978.547 760.25  Z\" fill=\"#1fa088\" fill-rule=\"evenodd\" fill-opacity=\"1\"/>\n",
       "<polyline clip-path=\"url(#clip840)\" style=\"stroke:#00528a; stroke-linecap:round; stroke-linejoin:round; stroke-width:3.6; stroke-opacity:1; fill:none\" points=\"906.946,886.106 948.238,879.124 978.547,760.25 906.946,886.106 \"/>\n",
       "<path clip-path=\"url(#clip840)\" d=\"M1367.74 606.944 L1421.82 754.01 L1442.12 698.943  Z\" fill=\"#6bcd5b\" fill-rule=\"evenodd\" fill-opacity=\"1\"/>\n",
       "<polyline clip-path=\"url(#clip840)\" style=\"stroke:#00528a; stroke-linecap:round; stroke-linejoin:round; stroke-width:3.6; stroke-opacity:1; fill:none\" points=\"1367.74,606.944 1421.82,754.01 1442.12,698.943 1367.74,606.944 \"/>\n",
       "<path clip-path=\"url(#clip840)\" d=\"M714.999 1220.84 L756.597 1257.71 L780.494 1112.6  Z\" fill=\"#481768\" fill-rule=\"evenodd\" fill-opacity=\"1\"/>\n",
       "<polyline clip-path=\"url(#clip840)\" style=\"stroke:#00528a; stroke-linecap:round; stroke-linejoin:round; stroke-width:3.6; stroke-opacity:1; fill:none\" points=\"714.999,1220.84 756.597,1257.71 780.494,1112.6 714.999,1220.84 \"/>\n",
       "<path clip-path=\"url(#clip840)\" d=\"M1518.52 848.802 L1532.78 1011.6 L1581.82 1048.95  Z\" fill=\"#2a778e\" fill-rule=\"evenodd\" fill-opacity=\"1\"/>\n",
       "<polyline clip-path=\"url(#clip840)\" style=\"stroke:#00528a; stroke-linecap:round; stroke-linejoin:round; stroke-width:3.6; stroke-opacity:1; fill:none\" points=\"1518.52,848.802 1532.78,1011.6 1581.82,1048.95 1518.52,848.802 \"/>\n",
       "<path clip-path=\"url(#clip840)\" d=\"M1112.13 634.195 L1198.29 571.034 L1142.08 555.059  Z\" fill=\"#bddf26\" fill-rule=\"evenodd\" fill-opacity=\"1\"/>\n",
       "<polyline clip-path=\"url(#clip840)\" style=\"stroke:#00528a; stroke-linecap:round; stroke-linejoin:round; stroke-width:3.6; stroke-opacity:1; fill:none\" points=\"1112.13,634.195 1198.29,571.034 1142.08,555.059 1112.13,634.195 \"/>\n",
       "<path clip-path=\"url(#clip840)\" d=\"M1442.12 698.943 L1421.82 754.01 L1481.76 833.431  Z\" fill=\"#39b977\" fill-rule=\"evenodd\" fill-opacity=\"1\"/>\n",
       "<polyline clip-path=\"url(#clip840)\" style=\"stroke:#00528a; stroke-linecap:round; stroke-linejoin:round; stroke-width:3.6; stroke-opacity:1; fill:none\" points=\"1442.12,698.943 1421.82,754.01 1481.76,833.431 1442.12,698.943 \"/>\n",
       "<path clip-path=\"url(#clip840)\" d=\"M1481.76 833.431 L1532.78 1011.6 L1518.52 848.802  Z\" fill=\"#218f8d\" fill-rule=\"evenodd\" fill-opacity=\"1\"/>\n",
       "<polyline clip-path=\"url(#clip840)\" style=\"stroke:#00528a; stroke-linecap:round; stroke-linejoin:round; stroke-width:3.6; stroke-opacity:1; fill:none\" points=\"1481.76,833.431 1532.78,1011.6 1518.52,848.802 1481.76,833.431 \"/>\n",
       "<path clip-path=\"url(#clip840)\" d=\"M1344.22 678.665 L1367.74 606.944 L1284.34 560.9  Z\" fill=\"#a9dc33\" fill-rule=\"evenodd\" fill-opacity=\"1\"/>\n",
       "<polyline clip-path=\"url(#clip840)\" style=\"stroke:#00528a; stroke-linecap:round; stroke-linejoin:round; stroke-width:3.6; stroke-opacity:1; fill:none\" points=\"1344.22,678.665 1367.74,606.944 1284.34,560.9 1344.22,678.665 \"/>\n",
       "<path clip-path=\"url(#clip840)\" d=\"M1112.13 634.195 L1058.64 641.191 L1028.08 741.342  Z\" fill=\"#73d056\" fill-rule=\"evenodd\" fill-opacity=\"1\"/>\n",
       "<polyline clip-path=\"url(#clip840)\" style=\"stroke:#00528a; stroke-linecap:round; stroke-linejoin:round; stroke-width:3.6; stroke-opacity:1; fill:none\" points=\"1112.13,634.195 1058.64,641.191 1028.08,741.342 1112.13,634.195 \"/>\n",
       "<path clip-path=\"url(#clip840)\" d=\"M1586.65 1268.56 L1638.79 1237.19 L1581.82 1048.95  Z\" fill=\"#482070\" fill-rule=\"evenodd\" fill-opacity=\"1\"/>\n",
       "<polyline clip-path=\"url(#clip840)\" style=\"stroke:#00528a; stroke-linecap:round; stroke-linejoin:round; stroke-width:3.6; stroke-opacity:1; fill:none\" points=\"1586.65,1268.56 1638.79,1237.19 1581.82,1048.95 1586.65,1268.56 \"/>\n",
       "<path clip-path=\"url(#clip840)\" d=\"M843.027 995.793 L820.914 1122.92 L884.778 994.287  Z\" fill=\"#33628d\" fill-rule=\"evenodd\" fill-opacity=\"1\"/>\n",
       "<polyline clip-path=\"url(#clip840)\" style=\"stroke:#00528a; stroke-linecap:round; stroke-linejoin:round; stroke-width:3.6; stroke-opacity:1; fill:none\" points=\"843.027,995.793 820.914,1122.92 884.778,994.287 843.027,995.793 \"/>\n",
       "<path clip-path=\"url(#clip840)\" d=\"M978.547 760.25 L948.238 879.124 L1028.08 741.342  Z\" fill=\"#2eb37c\" fill-rule=\"evenodd\" fill-opacity=\"1\"/>\n",
       "<polyline clip-path=\"url(#clip840)\" style=\"stroke:#00528a; stroke-linecap:round; stroke-linejoin:round; stroke-width:3.6; stroke-opacity:1; fill:none\" points=\"978.547,760.25 948.238,879.124 1028.08,741.342 978.547,760.25 \"/>\n",
       "<path clip-path=\"url(#clip840)\" d=\"M884.778 994.287 L948.238 879.124 L906.946 886.106  Z\" fill=\"#228b8d\" fill-rule=\"evenodd\" fill-opacity=\"1\"/>\n",
       "<polyline clip-path=\"url(#clip840)\" style=\"stroke:#00528a; stroke-linecap:round; stroke-linejoin:round; stroke-width:3.6; stroke-opacity:1; fill:none\" points=\"884.778,994.287 948.238,879.124 906.946,886.106 884.778,994.287 \"/>\n",
       "<path clip-path=\"url(#clip840)\" d=\"M780.494 1112.6 L756.597 1257.71 L820.914 1122.92  Z\" fill=\"#472d7b\" fill-rule=\"evenodd\" fill-opacity=\"1\"/>\n",
       "<polyline clip-path=\"url(#clip840)\" style=\"stroke:#00528a; stroke-linecap:round; stroke-linejoin:round; stroke-width:3.6; stroke-opacity:1; fill:none\" points=\"780.494,1112.6 756.597,1257.71 820.914,1122.92 780.494,1112.6 \"/>\n",
       "<path clip-path=\"url(#clip840)\" d=\"M1284.34 560.9 L1198.29 571.034 L1260.75 652.115  Z\" fill=\"#bddf26\" fill-rule=\"evenodd\" fill-opacity=\"1\"/>\n",
       "<polyline clip-path=\"url(#clip840)\" style=\"stroke:#00528a; stroke-linecap:round; stroke-linejoin:round; stroke-width:3.6; stroke-opacity:1; fill:none\" points=\"1284.34,560.9 1198.29,571.034 1260.75,652.115 1284.34,560.9 \"/>\n",
       "<path clip-path=\"url(#clip840)\" d=\"M1344.22 678.665 L1421.82 754.01 L1367.74 606.944  Z\" fill=\"#7bd250\" fill-rule=\"evenodd\" fill-opacity=\"1\"/>\n",
       "<polyline clip-path=\"url(#clip840)\" style=\"stroke:#00528a; stroke-linecap:round; stroke-linejoin:round; stroke-width:3.6; stroke-opacity:1; fill:none\" points=\"1344.22,678.665 1421.82,754.01 1367.74,606.944 1344.22,678.665 \"/>\n",
       "<path clip-path=\"url(#clip840)\" d=\"M1581.82 1048.95 L1532.78 1011.6 L1586.65 1268.56  Z\" fill=\"#3f4788\" fill-rule=\"evenodd\" fill-opacity=\"1\"/>\n",
       "<polyline clip-path=\"url(#clip840)\" style=\"stroke:#00528a; stroke-linecap:round; stroke-linejoin:round; stroke-width:3.6; stroke-opacity:1; fill:none\" points=\"1581.82,1048.95 1532.78,1011.6 1586.65,1268.56 1581.82,1048.95 \"/>\n",
       "<path clip-path=\"url(#clip840)\" d=\"M1198.29 571.034 L1112.13 634.195 L1169.19 678.257  Z\" fill=\"#a9dc33\" fill-rule=\"evenodd\" fill-opacity=\"1\"/>\n",
       "<polyline clip-path=\"url(#clip840)\" style=\"stroke:#00528a; stroke-linecap:round; stroke-linejoin:round; stroke-width:3.6; stroke-opacity:1; fill:none\" points=\"1198.29,571.034 1112.13,634.195 1169.19,678.257 1198.29,571.034 \"/>\n",
       "<path clip-path=\"url(#clip840)\" d=\"M1421.82 754.01 L1469.39 984.894 L1481.76 833.431  Z\" fill=\"#1fa287\" fill-rule=\"evenodd\" fill-opacity=\"1\"/>\n",
       "<polyline clip-path=\"url(#clip840)\" style=\"stroke:#00528a; stroke-linecap:round; stroke-linejoin:round; stroke-width:3.6; stroke-opacity:1; fill:none\" points=\"1421.82,754.01 1469.39,984.894 1481.76,833.431 1421.82,754.01 \"/>\n",
       "<path clip-path=\"url(#clip840)\" d=\"M1081.7 759.763 L1112.13 634.195 L1028.08 741.342  Z\" fill=\"#6bcd5b\" fill-rule=\"evenodd\" fill-opacity=\"1\"/>\n",
       "<polyline clip-path=\"url(#clip840)\" style=\"stroke:#00528a; stroke-linecap:round; stroke-linejoin:round; stroke-width:3.6; stroke-opacity:1; fill:none\" points=\"1081.7,759.763 1112.13,634.195 1028.08,741.342 1081.7,759.763 \"/>\n",
       "<path clip-path=\"url(#clip840)\" d=\"M1260.75 652.115 L1344.22 678.665 L1284.34 560.9  Z\" fill=\"#a9dc33\" fill-rule=\"evenodd\" fill-opacity=\"1\"/>\n",
       "<polyline clip-path=\"url(#clip840)\" style=\"stroke:#00528a; stroke-linecap:round; stroke-linejoin:round; stroke-width:3.6; stroke-opacity:1; fill:none\" points=\"1260.75,652.115 1344.22,678.665 1284.34,560.9 1260.75,652.115 \"/>\n",
       "<path clip-path=\"url(#clip840)\" d=\"M1469.39 984.894 L1532.78 1011.6 L1481.76 833.431  Z\" fill=\"#24888e\" fill-rule=\"evenodd\" fill-opacity=\"1\"/>\n",
       "<polyline clip-path=\"url(#clip840)\" style=\"stroke:#00528a; stroke-linecap:round; stroke-linejoin:round; stroke-width:3.6; stroke-opacity:1; fill:none\" points=\"1469.39,984.894 1532.78,1011.6 1481.76,833.431 1469.39,984.894 \"/>\n",
       "<path clip-path=\"url(#clip840)\" d=\"M884.778 994.287 L820.914 1122.92 L867.341 1134.36  Z\" fill=\"#375b8d\" fill-rule=\"evenodd\" fill-opacity=\"1\"/>\n",
       "<polyline clip-path=\"url(#clip840)\" style=\"stroke:#00528a; stroke-linecap:round; stroke-linejoin:round; stroke-width:3.6; stroke-opacity:1; fill:none\" points=\"884.778,994.287 820.914,1122.92 867.341,1134.36 884.778,994.287 \"/>\n",
       "<path clip-path=\"url(#clip840)\" d=\"M884.778 994.287 L931.467 1002.35 L948.238 879.124  Z\" fill=\"#25848e\" fill-rule=\"evenodd\" fill-opacity=\"1\"/>\n",
       "<polyline clip-path=\"url(#clip840)\" style=\"stroke:#00528a; stroke-linecap:round; stroke-linejoin:round; stroke-width:3.6; stroke-opacity:1; fill:none\" points=\"884.778,994.287 931.467,1002.35 948.238,879.124 884.778,994.287 \"/>\n",
       "<path clip-path=\"url(#clip840)\" d=\"M948.238 879.124 L998.07 885.444 L1028.08 741.342  Z\" fill=\"#26ad81\" fill-rule=\"evenodd\" fill-opacity=\"1\"/>\n",
       "<polyline clip-path=\"url(#clip840)\" style=\"stroke:#00528a; stroke-linecap:round; stroke-linejoin:round; stroke-width:3.6; stroke-opacity:1; fill:none\" points=\"948.238,879.124 998.07,885.444 1028.08,741.342 948.238,879.124 \"/>\n",
       "<path clip-path=\"url(#clip840)\" d=\"M799.827 1296.01 L820.914 1122.92 L756.597 1257.71  Z\" fill=\"#481b6d\" fill-rule=\"evenodd\" fill-opacity=\"1\"/>\n",
       "<polyline clip-path=\"url(#clip840)\" style=\"stroke:#00528a; stroke-linecap:round; stroke-linejoin:round; stroke-width:3.6; stroke-opacity:1; fill:none\" points=\"799.827,1296.01 820.914,1122.92 756.597,1257.71 799.827,1296.01 \"/>\n",
       "<path clip-path=\"url(#clip840)\" d=\"M1421.82 754.01 L1344.22 678.665 L1397.35 842.399  Z\" fill=\"#4cc26c\" fill-rule=\"evenodd\" fill-opacity=\"1\"/>\n",
       "<polyline clip-path=\"url(#clip840)\" style=\"stroke:#00528a; stroke-linecap:round; stroke-linejoin:round; stroke-width:3.6; stroke-opacity:1; fill:none\" points=\"1421.82,754.01 1344.22,678.665 1397.35,842.399 1421.82,754.01 \"/>\n",
       "<path clip-path=\"url(#clip840)\" d=\"M1260.75 652.115 L1198.29 571.034 L1169.19 678.257  Z\" fill=\"#a9dc33\" fill-rule=\"evenodd\" fill-opacity=\"1\"/>\n",
       "<polyline clip-path=\"url(#clip840)\" style=\"stroke:#00528a; stroke-linecap:round; stroke-linejoin:round; stroke-width:3.6; stroke-opacity:1; fill:none\" points=\"1260.75,652.115 1198.29,571.034 1169.19,678.257 1260.75,652.115 \"/>\n",
       "<path clip-path=\"url(#clip840)\" d=\"M1532.78 1011.6 L1532.79 1300.96 L1586.65 1268.56  Z\" fill=\"#472d7b\" fill-rule=\"evenodd\" fill-opacity=\"1\"/>\n",
       "<polyline clip-path=\"url(#clip840)\" style=\"stroke:#00528a; stroke-linecap:round; stroke-linejoin:round; stroke-width:3.6; stroke-opacity:1; fill:none\" points=\"1532.78,1011.6 1532.79,1300.96 1586.65,1268.56 1532.78,1011.6 \"/>\n",
       "<path clip-path=\"url(#clip840)\" d=\"M1169.19 678.257 L1112.13 634.195 L1081.7 759.763  Z\" fill=\"#7bd250\" fill-rule=\"evenodd\" fill-opacity=\"1\"/>\n",
       "<polyline clip-path=\"url(#clip840)\" style=\"stroke:#00528a; stroke-linecap:round; stroke-linejoin:round; stroke-width:3.6; stroke-opacity:1; fill:none\" points=\"1169.19,678.257 1112.13,634.195 1081.7,759.763 1169.19,678.257 \"/>\n",
       "<path clip-path=\"url(#clip840)\" d=\"M1469.39 984.894 L1421.82 754.01 L1397.35 842.399  Z\" fill=\"#21a685\" fill-rule=\"evenodd\" fill-opacity=\"1\"/>\n",
       "<polyline clip-path=\"url(#clip840)\" style=\"stroke:#00528a; stroke-linecap:round; stroke-linejoin:round; stroke-width:3.6; stroke-opacity:1; fill:none\" points=\"1469.39,984.894 1421.82,754.01 1397.35,842.399 1469.39,984.894 \"/>\n",
       "<path clip-path=\"url(#clip840)\" d=\"M1028.08 741.342 L998.07 885.444 L1081.7 759.763  Z\" fill=\"#3fbc73\" fill-rule=\"evenodd\" fill-opacity=\"1\"/>\n",
       "<polyline clip-path=\"url(#clip840)\" style=\"stroke:#00528a; stroke-linecap:round; stroke-linejoin:round; stroke-width:3.6; stroke-opacity:1; fill:none\" points=\"1028.08,741.342 998.07,885.444 1081.7,759.763 1028.08,741.342 \"/>\n",
       "<path clip-path=\"url(#clip840)\" d=\"M867.341 1134.36 L931.467 1002.35 L884.778 994.287  Z\" fill=\"#2e6d8e\" fill-rule=\"evenodd\" fill-opacity=\"1\"/>\n",
       "<polyline clip-path=\"url(#clip840)\" style=\"stroke:#00528a; stroke-linecap:round; stroke-linejoin:round; stroke-width:3.6; stroke-opacity:1; fill:none\" points=\"867.341,1134.36 931.467,1002.35 884.778,994.287 867.341,1134.36 \"/>\n",
       "<path clip-path=\"url(#clip840)\" d=\"M1532.78 1011.6 L1469.39 984.894 L1532.79 1300.96  Z\" fill=\"#39568c\" fill-rule=\"evenodd\" fill-opacity=\"1\"/>\n",
       "<polyline clip-path=\"url(#clip840)\" style=\"stroke:#00528a; stroke-linecap:round; stroke-linejoin:round; stroke-width:3.6; stroke-opacity:1; fill:none\" points=\"1532.78,1011.6 1469.39,984.894 1532.79,1300.96 1532.78,1011.6 \"/>\n",
       "<path clip-path=\"url(#clip840)\" d=\"M867.341 1134.36 L820.914 1122.92 L799.827 1296.01  Z\" fill=\"#46327e\" fill-rule=\"evenodd\" fill-opacity=\"1\"/>\n",
       "<polyline clip-path=\"url(#clip840)\" style=\"stroke:#00528a; stroke-linecap:round; stroke-linejoin:round; stroke-width:3.6; stroke-opacity:1; fill:none\" points=\"867.341,1134.36 820.914,1122.92 799.827,1296.01 867.341,1134.36 \"/>\n",
       "<path clip-path=\"url(#clip840)\" d=\"M1328.07 830.588 L1344.22 678.665 L1260.75 652.115  Z\" fill=\"#73d056\" fill-rule=\"evenodd\" fill-opacity=\"1\"/>\n",
       "<polyline clip-path=\"url(#clip840)\" style=\"stroke:#00528a; stroke-linecap:round; stroke-linejoin:round; stroke-width:3.6; stroke-opacity:1; fill:none\" points=\"1328.07,830.588 1344.22,678.665 1260.75,652.115 1328.07,830.588 \"/>\n",
       "<path clip-path=\"url(#clip840)\" d=\"M998.07 885.444 L948.238 879.124 L931.467 1002.35  Z\" fill=\"#1f958b\" fill-rule=\"evenodd\" fill-opacity=\"1\"/>\n",
       "<polyline clip-path=\"url(#clip840)\" style=\"stroke:#00528a; stroke-linecap:round; stroke-linejoin:round; stroke-width:3.6; stroke-opacity:1; fill:none\" points=\"998.07,885.444 948.238,879.124 931.467,1002.35 998.07,885.444 \"/>\n",
       "<path clip-path=\"url(#clip840)\" d=\"M1397.35 842.399 L1344.22 678.665 L1328.07 830.588  Z\" fill=\"#45c06f\" fill-rule=\"evenodd\" fill-opacity=\"1\"/>\n",
       "<polyline clip-path=\"url(#clip840)\" style=\"stroke:#00528a; stroke-linecap:round; stroke-linejoin:round; stroke-width:3.6; stroke-opacity:1; fill:none\" points=\"1397.35,842.399 1344.22,678.665 1328.07,830.588 1397.35,842.399 \"/>\n",
       "<path clip-path=\"url(#clip840)\" d=\"M1260.75 652.115 L1169.19 678.257 L1231.4 787.471  Z\" fill=\"#85d44a\" fill-rule=\"evenodd\" fill-opacity=\"1\"/>\n",
       "<polyline clip-path=\"url(#clip840)\" style=\"stroke:#00528a; stroke-linecap:round; stroke-linejoin:round; stroke-width:3.6; stroke-opacity:1; fill:none\" points=\"1260.75,652.115 1169.19,678.257 1231.4,787.471 1260.75,652.115 \"/>\n",
       "<path clip-path=\"url(#clip840)\" d=\"M1397.35 842.399 L1412.89 1063.39 L1469.39 984.894  Z\" fill=\"#218f8d\" fill-rule=\"evenodd\" fill-opacity=\"1\"/>\n",
       "<polyline clip-path=\"url(#clip840)\" style=\"stroke:#00528a; stroke-linecap:round; stroke-linejoin:round; stroke-width:3.6; stroke-opacity:1; fill:none\" points=\"1397.35,842.399 1412.89,1063.39 1469.39,984.894 1397.35,842.399 \"/>\n",
       "<path clip-path=\"url(#clip840)\" d=\"M1081.7 759.763 L1137.89 826.883 L1169.19 678.257  Z\" fill=\"#63cb5f\" fill-rule=\"evenodd\" fill-opacity=\"1\"/>\n",
       "<polyline clip-path=\"url(#clip840)\" style=\"stroke:#00528a; stroke-linecap:round; stroke-linejoin:round; stroke-width:3.6; stroke-opacity:1; fill:none\" points=\"1081.7,759.763 1137.89,826.883 1169.19,678.257 1081.7,759.763 \"/>\n",
       "<path clip-path=\"url(#clip840)\" d=\"M931.467 1002.35 L867.341 1134.36 L916.09 1153.56  Z\" fill=\"#33628d\" fill-rule=\"evenodd\" fill-opacity=\"1\"/>\n",
       "<polyline clip-path=\"url(#clip840)\" style=\"stroke:#00528a; stroke-linecap:round; stroke-linejoin:round; stroke-width:3.6; stroke-opacity:1; fill:none\" points=\"931.467,1002.35 867.341,1134.36 916.09,1153.56 931.467,1002.35 \"/>\n",
       "<path clip-path=\"url(#clip840)\" d=\"M998.07 885.444 L931.467 1002.35 L981.601 1027.73  Z\" fill=\"#228b8d\" fill-rule=\"evenodd\" fill-opacity=\"1\"/>\n",
       "<polyline clip-path=\"url(#clip840)\" style=\"stroke:#00528a; stroke-linecap:round; stroke-linejoin:round; stroke-width:3.6; stroke-opacity:1; fill:none\" points=\"998.07,885.444 931.467,1002.35 981.601,1027.73 998.07,885.444 \"/>\n",
       "<path clip-path=\"url(#clip840)\" d=\"M867.341 1134.36 L799.827 1296.01 L844.785 1335.85  Z\" fill=\"#482070\" fill-rule=\"evenodd\" fill-opacity=\"1\"/>\n",
       "<polyline clip-path=\"url(#clip840)\" style=\"stroke:#00528a; stroke-linecap:round; stroke-linejoin:round; stroke-width:3.6; stroke-opacity:1; fill:none\" points=\"867.341,1134.36 799.827,1296.01 844.785,1335.85 867.341,1134.36 \"/>\n",
       "<path clip-path=\"url(#clip840)\" d=\"M998.07 885.444 L1051.41 924.317 L1081.7 759.763  Z\" fill=\"#2ab07f\" fill-rule=\"evenodd\" fill-opacity=\"1\"/>\n",
       "<polyline clip-path=\"url(#clip840)\" style=\"stroke:#00528a; stroke-linecap:round; stroke-linejoin:round; stroke-width:3.6; stroke-opacity:1; fill:none\" points=\"998.07,885.444 1051.41,924.317 1081.7,759.763 998.07,885.444 \"/>\n",
       "<path clip-path=\"url(#clip840)\" d=\"M1469.39 984.894 L1477.12 1334.45 L1532.79 1300.96  Z\" fill=\"#46327e\" fill-rule=\"evenodd\" fill-opacity=\"1\"/>\n",
       "<polyline clip-path=\"url(#clip840)\" style=\"stroke:#00528a; stroke-linecap:round; stroke-linejoin:round; stroke-width:3.6; stroke-opacity:1; fill:none\" points=\"1469.39,984.894 1477.12,1334.45 1532.79,1300.96 1469.39,984.894 \"/>\n",
       "<path clip-path=\"url(#clip840)\" d=\"M1231.4 787.471 L1328.07 830.588 L1260.75 652.115  Z\" fill=\"#63cb5f\" fill-rule=\"evenodd\" fill-opacity=\"1\"/>\n",
       "<polyline clip-path=\"url(#clip840)\" style=\"stroke:#00528a; stroke-linecap:round; stroke-linejoin:round; stroke-width:3.6; stroke-opacity:1; fill:none\" points=\"1231.4,787.471 1328.07,830.588 1260.75,652.115 1231.4,787.471 \"/>\n",
       "<path clip-path=\"url(#clip840)\" d=\"M1397.35 842.399 L1328.07 830.588 L1412.89 1063.39  Z\" fill=\"#1fa088\" fill-rule=\"evenodd\" fill-opacity=\"1\"/>\n",
       "<polyline clip-path=\"url(#clip840)\" style=\"stroke:#00528a; stroke-linecap:round; stroke-linejoin:round; stroke-width:3.6; stroke-opacity:1; fill:none\" points=\"1397.35,842.399 1328.07,830.588 1412.89,1063.39 1397.35,842.399 \"/>\n",
       "<path clip-path=\"url(#clip840)\" d=\"M1231.4 787.471 L1169.19 678.257 L1137.89 826.883  Z\" fill=\"#63cb5f\" fill-rule=\"evenodd\" fill-opacity=\"1\"/>\n",
       "<polyline clip-path=\"url(#clip840)\" style=\"stroke:#00528a; stroke-linecap:round; stroke-linejoin:round; stroke-width:3.6; stroke-opacity:1; fill:none\" points=\"1231.4,787.471 1169.19,678.257 1137.89,826.883 1231.4,787.471 \"/>\n",
       "<path clip-path=\"url(#clip840)\" d=\"M1469.39 984.894 L1412.89 1063.39 L1477.12 1334.45  Z\" fill=\"#375b8d\" fill-rule=\"evenodd\" fill-opacity=\"1\"/>\n",
       "<polyline clip-path=\"url(#clip840)\" style=\"stroke:#00528a; stroke-linecap:round; stroke-linejoin:round; stroke-width:3.6; stroke-opacity:1; fill:none\" points=\"1469.39,984.894 1412.89,1063.39 1477.12,1334.45 1469.39,984.894 \"/>\n",
       "<path clip-path=\"url(#clip840)\" d=\"M1081.7 759.763 L1051.41 924.317 L1137.89 826.883  Z\" fill=\"#39b977\" fill-rule=\"evenodd\" fill-opacity=\"1\"/>\n",
       "<polyline clip-path=\"url(#clip840)\" style=\"stroke:#00528a; stroke-linecap:round; stroke-linejoin:round; stroke-width:3.6; stroke-opacity:1; fill:none\" points=\"1081.7,759.763 1051.41,924.317 1137.89,826.883 1081.7,759.763 \"/>\n",
       "<path clip-path=\"url(#clip840)\" d=\"M981.601 1027.73 L931.467 1002.35 L916.09 1153.56  Z\" fill=\"#2c738e\" fill-rule=\"evenodd\" fill-opacity=\"1\"/>\n",
       "<polyline clip-path=\"url(#clip840)\" style=\"stroke:#00528a; stroke-linecap:round; stroke-linejoin:round; stroke-width:3.6; stroke-opacity:1; fill:none\" points=\"981.601,1027.73 931.467,1002.35 916.09,1153.56 981.601,1027.73 \"/>\n",
       "<path clip-path=\"url(#clip840)\" d=\"M916.09 1153.56 L867.341 1134.36 L844.785 1335.85  Z\" fill=\"#443a83\" fill-rule=\"evenodd\" fill-opacity=\"1\"/>\n",
       "<polyline clip-path=\"url(#clip840)\" style=\"stroke:#00528a; stroke-linecap:round; stroke-linejoin:round; stroke-width:3.6; stroke-opacity:1; fill:none\" points=\"916.09,1153.56 867.341,1134.36 844.785,1335.85 916.09,1153.56 \"/>\n",
       "<path clip-path=\"url(#clip840)\" d=\"M981.601 1027.73 L1051.41 924.317 L998.07 885.444  Z\" fill=\"#1f988b\" fill-rule=\"evenodd\" fill-opacity=\"1\"/>\n",
       "<polyline clip-path=\"url(#clip840)\" style=\"stroke:#00528a; stroke-linecap:round; stroke-linejoin:round; stroke-width:3.6; stroke-opacity:1; fill:none\" points=\"981.601,1027.73 1051.41,924.317 998.07,885.444 981.601,1027.73 \"/>\n",
       "<path clip-path=\"url(#clip840)\" d=\"M1280.71 949.776 L1328.07 830.588 L1231.4 787.471  Z\" fill=\"#34b679\" fill-rule=\"evenodd\" fill-opacity=\"1\"/>\n",
       "<polyline clip-path=\"url(#clip840)\" style=\"stroke:#00528a; stroke-linecap:round; stroke-linejoin:round; stroke-width:3.6; stroke-opacity:1; fill:none\" points=\"1280.71,949.776 1328.07,830.588 1231.4,787.471 1280.71,949.776 \"/>\n",
       "<path clip-path=\"url(#clip840)\" d=\"M1412.89 1063.39 L1328.07 830.588 L1352.42 1109.25  Z\" fill=\"#228b8d\" fill-rule=\"evenodd\" fill-opacity=\"1\"/>\n",
       "<polyline clip-path=\"url(#clip840)\" style=\"stroke:#00528a; stroke-linecap:round; stroke-linejoin:round; stroke-width:3.6; stroke-opacity:1; fill:none\" points=\"1412.89,1063.39 1328.07,830.588 1352.42,1109.25 1412.89,1063.39 \"/>\n",
       "<path clip-path=\"url(#clip840)\" d=\"M1231.4 787.471 L1137.89 826.883 L1200.03 975.004  Z\" fill=\"#34b679\" fill-rule=\"evenodd\" fill-opacity=\"1\"/>\n",
       "<polyline clip-path=\"url(#clip840)\" style=\"stroke:#00528a; stroke-linecap:round; stroke-linejoin:round; stroke-width:3.6; stroke-opacity:1; fill:none\" points=\"1231.4,787.471 1137.89,826.883 1200.03,975.004 1231.4,787.471 \"/>\n",
       "<path clip-path=\"url(#clip840)\" d=\"M1419.56 1369.08 L1477.12 1334.45 L1412.89 1063.39  Z\" fill=\"#472d7b\" fill-rule=\"evenodd\" fill-opacity=\"1\"/>\n",
       "<polyline clip-path=\"url(#clip840)\" style=\"stroke:#00528a; stroke-linecap:round; stroke-linejoin:round; stroke-width:3.6; stroke-opacity:1; fill:none\" points=\"1419.56,1369.08 1477.12,1334.45 1412.89,1063.39 1419.56,1369.08 \"/>\n",
       "<path clip-path=\"url(#clip840)\" d=\"M916.09 1153.56 L966.104 1191.78 L981.601 1027.73  Z\" fill=\"#31668e\" fill-rule=\"evenodd\" fill-opacity=\"1\"/>\n",
       "<polyline clip-path=\"url(#clip840)\" style=\"stroke:#00528a; stroke-linecap:round; stroke-linejoin:round; stroke-width:3.6; stroke-opacity:1; fill:none\" points=\"916.09,1153.56 966.104,1191.78 981.601,1027.73 916.09,1153.56 \"/>\n",
       "<path clip-path=\"url(#clip840)\" d=\"M1107.42 1002.73 L1137.89 826.883 L1051.41 924.317  Z\" fill=\"#23a983\" fill-rule=\"evenodd\" fill-opacity=\"1\"/>\n",
       "<polyline clip-path=\"url(#clip840)\" style=\"stroke:#00528a; stroke-linecap:round; stroke-linejoin:round; stroke-width:3.6; stroke-opacity:1; fill:none\" points=\"1107.42,1002.73 1137.89,826.883 1051.41,924.317 1107.42,1002.73 \"/>\n",
       "<path clip-path=\"url(#clip840)\" d=\"M1034.86 1080.04 L1051.41 924.317 L981.601 1027.73  Z\" fill=\"#228b8d\" fill-rule=\"evenodd\" fill-opacity=\"1\"/>\n",
       "<polyline clip-path=\"url(#clip840)\" style=\"stroke:#00528a; stroke-linecap:round; stroke-linejoin:round; stroke-width:3.6; stroke-opacity:1; fill:none\" points=\"1034.86,1080.04 1051.41,924.317 981.601,1027.73 1034.86,1080.04 \"/>\n",
       "<path clip-path=\"url(#clip840)\" d=\"M844.785 1335.85 L891.578 1377.32 L916.09 1153.56  Z\" fill=\"#482070\" fill-rule=\"evenodd\" fill-opacity=\"1\"/>\n",
       "<polyline clip-path=\"url(#clip840)\" style=\"stroke:#00528a; stroke-linecap:round; stroke-linejoin:round; stroke-width:3.6; stroke-opacity:1; fill:none\" points=\"844.785,1335.85 891.578,1377.32 916.09,1153.56 844.785,1335.85 \"/>\n",
       "<path clip-path=\"url(#clip840)\" d=\"M1280.71 949.776 L1352.42 1109.25 L1328.07 830.588  Z\" fill=\"#1f988b\" fill-rule=\"evenodd\" fill-opacity=\"1\"/>\n",
       "<polyline clip-path=\"url(#clip840)\" style=\"stroke:#00528a; stroke-linecap:round; stroke-linejoin:round; stroke-width:3.6; stroke-opacity:1; fill:none\" points=\"1280.71,949.776 1352.42,1109.25 1328.07,830.588 1280.71,949.776 \"/>\n",
       "<path clip-path=\"url(#clip840)\" d=\"M1231.4 787.471 L1200.03 975.004 L1280.71 949.776  Z\" fill=\"#26ad81\" fill-rule=\"evenodd\" fill-opacity=\"1\"/>\n",
       "<polyline clip-path=\"url(#clip840)\" style=\"stroke:#00528a; stroke-linecap:round; stroke-linejoin:round; stroke-width:3.6; stroke-opacity:1; fill:none\" points=\"1231.4,787.471 1200.03,975.004 1280.71,949.776 1231.4,787.471 \"/>\n",
       "<path clip-path=\"url(#clip840)\" d=\"M1412.89 1063.39 L1352.42 1109.25 L1419.56 1369.08  Z\" fill=\"#3a538b\" fill-rule=\"evenodd\" fill-opacity=\"1\"/>\n",
       "<polyline clip-path=\"url(#clip840)\" style=\"stroke:#00528a; stroke-linecap:round; stroke-linejoin:round; stroke-width:3.6; stroke-opacity:1; fill:none\" points=\"1412.89,1063.39 1352.42,1109.25 1419.56,1369.08 1412.89,1063.39 \"/>\n",
       "<path clip-path=\"url(#clip840)\" d=\"M1200.03 975.004 L1137.89 826.883 L1107.42 1002.73  Z\" fill=\"#21a685\" fill-rule=\"evenodd\" fill-opacity=\"1\"/>\n",
       "<polyline clip-path=\"url(#clip840)\" style=\"stroke:#00528a; stroke-linecap:round; stroke-linejoin:round; stroke-width:3.6; stroke-opacity:1; fill:none\" points=\"1200.03,975.004 1137.89,826.883 1107.42,1002.73 1200.03,975.004 \"/>\n",
       "<path clip-path=\"url(#clip840)\" d=\"M981.601 1027.73 L966.104 1191.78 L1034.86 1080.04  Z\" fill=\"#2c738e\" fill-rule=\"evenodd\" fill-opacity=\"1\"/>\n",
       "<polyline clip-path=\"url(#clip840)\" style=\"stroke:#00528a; stroke-linecap:round; stroke-linejoin:round; stroke-width:3.6; stroke-opacity:1; fill:none\" points=\"981.601,1027.73 966.104,1191.78 1034.86,1080.04 981.601,1027.73 \"/>\n",
       "<path clip-path=\"url(#clip840)\" d=\"M1051.41 924.317 L1034.86 1080.04 L1107.42 1002.73  Z\" fill=\"#20928c\" fill-rule=\"evenodd\" fill-opacity=\"1\"/>\n",
       "<polyline clip-path=\"url(#clip840)\" style=\"stroke:#00528a; stroke-linecap:round; stroke-linejoin:round; stroke-width:3.6; stroke-opacity:1; fill:none\" points=\"1051.41,924.317 1034.86,1080.04 1107.42,1002.73 1051.41,924.317 \"/>\n",
       "<path clip-path=\"url(#clip840)\" d=\"M891.578 1377.32 L966.104 1191.78 L916.09 1153.56  Z\" fill=\"#423f85\" fill-rule=\"evenodd\" fill-opacity=\"1\"/>\n",
       "<polyline clip-path=\"url(#clip840)\" style=\"stroke:#00528a; stroke-linecap:round; stroke-linejoin:round; stroke-width:3.6; stroke-opacity:1; fill:none\" points=\"891.578,1377.32 966.104,1191.78 916.09,1153.56 891.578,1377.32 \"/>\n",
       "<path clip-path=\"url(#clip840)\" d=\"M1286.98 1160.58 L1352.42 1109.25 L1280.71 949.776  Z\" fill=\"#277e8e\" fill-rule=\"evenodd\" fill-opacity=\"1\"/>\n",
       "<polyline clip-path=\"url(#clip840)\" style=\"stroke:#00528a; stroke-linecap:round; stroke-linejoin:round; stroke-width:3.6; stroke-opacity:1; fill:none\" points=\"1286.98,1160.58 1352.42,1109.25 1280.71,949.776 1286.98,1160.58 \"/>\n",
       "<path clip-path=\"url(#clip840)\" d=\"M1200.03 975.004 L1286.98 1160.58 L1280.71 949.776  Z\" fill=\"#228b8d\" fill-rule=\"evenodd\" fill-opacity=\"1\"/>\n",
       "<polyline clip-path=\"url(#clip840)\" style=\"stroke:#00528a; stroke-linecap:round; stroke-linejoin:round; stroke-width:3.6; stroke-opacity:1; fill:none\" points=\"1200.03,975.004 1286.98,1160.58 1280.71,949.776 1200.03,975.004 \"/>\n",
       "<path clip-path=\"url(#clip840)\" d=\"M1352.42 1109.25 L1360 1404.91 L1419.56 1369.08  Z\" fill=\"#472d7b\" fill-rule=\"evenodd\" fill-opacity=\"1\"/>\n",
       "<polyline clip-path=\"url(#clip840)\" style=\"stroke:#00528a; stroke-linecap:round; stroke-linejoin:round; stroke-width:3.6; stroke-opacity:1; fill:none\" points=\"1352.42,1109.25 1360,1404.91 1419.56,1369.08 1352.42,1109.25 \"/>\n",
       "<path clip-path=\"url(#clip840)\" d=\"M1107.42 1002.73 L1034.86 1080.04 L1074.15 1150.04  Z\" fill=\"#26818e\" fill-rule=\"evenodd\" fill-opacity=\"1\"/>\n",
       "<polyline clip-path=\"url(#clip840)\" style=\"stroke:#00528a; stroke-linecap:round; stroke-linejoin:round; stroke-width:3.6; stroke-opacity:1; fill:none\" points=\"1107.42,1002.73 1034.86,1080.04 1074.15,1150.04 1107.42,1002.73 \"/>\n",
       "<path clip-path=\"url(#clip840)\" d=\"M1143.84 1148.4 L1200.03 975.004 L1107.42 1002.73  Z\" fill=\"#218f8d\" fill-rule=\"evenodd\" fill-opacity=\"1\"/>\n",
       "<polyline clip-path=\"url(#clip840)\" style=\"stroke:#00528a; stroke-linecap:round; stroke-linejoin:round; stroke-width:3.6; stroke-opacity:1; fill:none\" points=\"1143.84,1148.4 1200.03,975.004 1107.42,1002.73 1143.84,1148.4 \"/>\n",
       "<path clip-path=\"url(#clip840)\" d=\"M1034.86 1080.04 L966.104 1191.78 L1012.22 1260.4  Z\" fill=\"#33628d\" fill-rule=\"evenodd\" fill-opacity=\"1\"/>\n",
       "<polyline clip-path=\"url(#clip840)\" style=\"stroke:#00528a; stroke-linecap:round; stroke-linejoin:round; stroke-width:3.6; stroke-opacity:1; fill:none\" points=\"1034.86,1080.04 966.104,1191.78 1012.22,1260.4 1034.86,1080.04 \"/>\n",
       "<path clip-path=\"url(#clip840)\" d=\"M966.104 1191.78 L891.578 1377.32 L940.32 1420.51  Z\" fill=\"#482070\" fill-rule=\"evenodd\" fill-opacity=\"1\"/>\n",
       "<polyline clip-path=\"url(#clip840)\" style=\"stroke:#00528a; stroke-linecap:round; stroke-linejoin:round; stroke-width:3.6; stroke-opacity:1; fill:none\" points=\"966.104,1191.78 891.578,1377.32 940.32,1420.51 966.104,1191.78 \"/>\n",
       "<path clip-path=\"url(#clip840)\" d=\"M1360 1404.91 L1352.42 1109.25 L1286.98 1160.58  Z\" fill=\"#3c4f8a\" fill-rule=\"evenodd\" fill-opacity=\"1\"/>\n",
       "<polyline clip-path=\"url(#clip840)\" style=\"stroke:#00528a; stroke-linecap:round; stroke-linejoin:round; stroke-width:3.6; stroke-opacity:1; fill:none\" points=\"1360,1404.91 1352.42,1109.25 1286.98,1160.58 1360,1404.91 \"/>\n",
       "<path clip-path=\"url(#clip840)\" d=\"M1221.03 1234.67 L1286.98 1160.58 L1200.03 975.004  Z\" fill=\"#2a778e\" fill-rule=\"evenodd\" fill-opacity=\"1\"/>\n",
       "<polyline clip-path=\"url(#clip840)\" style=\"stroke:#00528a; stroke-linecap:round; stroke-linejoin:round; stroke-width:3.6; stroke-opacity:1; fill:none\" points=\"1221.03,1234.67 1286.98,1160.58 1200.03,975.004 1221.03,1234.67 \"/>\n",
       "<path clip-path=\"url(#clip840)\" d=\"M1034.86 1080.04 L1012.22 1260.4 L1074.15 1150.04  Z\" fill=\"#30698e\" fill-rule=\"evenodd\" fill-opacity=\"1\"/>\n",
       "<polyline clip-path=\"url(#clip840)\" style=\"stroke:#00528a; stroke-linecap:round; stroke-linejoin:round; stroke-width:3.6; stroke-opacity:1; fill:none\" points=\"1034.86,1080.04 1012.22,1260.4 1074.15,1150.04 1034.86,1080.04 \"/>\n",
       "<path clip-path=\"url(#clip840)\" d=\"M1074.15 1150.04 L1143.84 1148.4 L1107.42 1002.73  Z\" fill=\"#277e8e\" fill-rule=\"evenodd\" fill-opacity=\"1\"/>\n",
       "<polyline clip-path=\"url(#clip840)\" style=\"stroke:#00528a; stroke-linecap:round; stroke-linejoin:round; stroke-width:3.6; stroke-opacity:1; fill:none\" points=\"1074.15,1150.04 1143.84,1148.4 1107.42,1002.73 1074.15,1150.04 \"/>\n",
       "<path clip-path=\"url(#clip840)\" d=\"M940.32 1420.51 L1012.22 1260.4 L966.104 1191.78  Z\" fill=\"#443a83\" fill-rule=\"evenodd\" fill-opacity=\"1\"/>\n",
       "<polyline clip-path=\"url(#clip840)\" style=\"stroke:#00528a; stroke-linecap:round; stroke-linejoin:round; stroke-width:3.6; stroke-opacity:1; fill:none\" points=\"940.32,1420.51 1012.22,1260.4 966.104,1191.78 940.32,1420.51 \"/>\n",
       "<path clip-path=\"url(#clip840)\" d=\"M1298.33 1442.01 L1360 1404.91 L1286.98 1160.58  Z\" fill=\"#482979\" fill-rule=\"evenodd\" fill-opacity=\"1\"/>\n",
       "<polyline clip-path=\"url(#clip840)\" style=\"stroke:#00528a; stroke-linecap:round; stroke-linejoin:round; stroke-width:3.6; stroke-opacity:1; fill:none\" points=\"1298.33,1442.01 1360,1404.91 1286.98,1160.58 1298.33,1442.01 \"/>\n",
       "<path clip-path=\"url(#clip840)\" d=\"M1200.03 975.004 L1143.84 1148.4 L1221.03 1234.67  Z\" fill=\"#297a8e\" fill-rule=\"evenodd\" fill-opacity=\"1\"/>\n",
       "<polyline clip-path=\"url(#clip840)\" style=\"stroke:#00528a; stroke-linecap:round; stroke-linejoin:round; stroke-width:3.6; stroke-opacity:1; fill:none\" points=\"1200.03,975.004 1143.84,1148.4 1221.03,1234.67 1200.03,975.004 \"/>\n",
       "<path clip-path=\"url(#clip840)\" d=\"M1286.98 1160.58 L1221.03 1234.67 L1298.33 1442.01  Z\" fill=\"#3f4788\" fill-rule=\"evenodd\" fill-opacity=\"1\"/>\n",
       "<polyline clip-path=\"url(#clip840)\" style=\"stroke:#00528a; stroke-linecap:round; stroke-linejoin:round; stroke-width:3.6; stroke-opacity:1; fill:none\" points=\"1286.98,1160.58 1221.03,1234.67 1298.33,1442.01 1286.98,1160.58 \"/>\n",
       "<path clip-path=\"url(#clip840)\" d=\"M1012.22 1260.4 L1075.41 1309.18 L1074.15 1150.04  Z\" fill=\"#39568c\" fill-rule=\"evenodd\" fill-opacity=\"1\"/>\n",
       "<polyline clip-path=\"url(#clip840)\" style=\"stroke:#00528a; stroke-linecap:round; stroke-linejoin:round; stroke-width:3.6; stroke-opacity:1; fill:none\" points=\"1012.22,1260.4 1075.41,1309.18 1074.15,1150.04 1012.22,1260.4 \"/>\n",
       "<path clip-path=\"url(#clip840)\" d=\"M1074.15 1150.04 L1075.41 1309.18 L1143.84 1148.4  Z\" fill=\"#31668e\" fill-rule=\"evenodd\" fill-opacity=\"1\"/>\n",
       "<polyline clip-path=\"url(#clip840)\" style=\"stroke:#00528a; stroke-linecap:round; stroke-linejoin:round; stroke-width:3.6; stroke-opacity:1; fill:none\" points=\"1074.15,1150.04 1075.41,1309.18 1143.84,1148.4 1074.15,1150.04 \"/>\n",
       "<path clip-path=\"url(#clip840)\" d=\"M1012.22 1260.4 L940.32 1420.51 L991.136 1465.54  Z\" fill=\"#481b6d\" fill-rule=\"evenodd\" fill-opacity=\"1\"/>\n",
       "<polyline clip-path=\"url(#clip840)\" style=\"stroke:#00528a; stroke-linecap:round; stroke-linejoin:round; stroke-width:3.6; stroke-opacity:1; fill:none\" points=\"1012.22,1260.4 940.32,1420.51 991.136,1465.54 1012.22,1260.4 \"/>\n",
       "<path clip-path=\"url(#clip840)\" d=\"M1155.37 1332.28 L1221.03 1234.67 L1143.84 1148.4  Z\" fill=\"#375b8d\" fill-rule=\"evenodd\" fill-opacity=\"1\"/>\n",
       "<polyline clip-path=\"url(#clip840)\" style=\"stroke:#00528a; stroke-linecap:round; stroke-linejoin:round; stroke-width:3.6; stroke-opacity:1; fill:none\" points=\"1155.37,1332.28 1221.03,1234.67 1143.84,1148.4 1155.37,1332.28 \"/>\n",
       "<path clip-path=\"url(#clip840)\" d=\"M991.136 1465.54 L1075.41 1309.18 L1012.22 1260.4  Z\" fill=\"#46327e\" fill-rule=\"evenodd\" fill-opacity=\"1\"/>\n",
       "<polyline clip-path=\"url(#clip840)\" style=\"stroke:#00528a; stroke-linecap:round; stroke-linejoin:round; stroke-width:3.6; stroke-opacity:1; fill:none\" points=\"991.136,1465.54 1075.41,1309.18 1012.22,1260.4 991.136,1465.54 \"/>\n",
       "<path clip-path=\"url(#clip840)\" d=\"M1143.84 1148.4 L1075.41 1309.18 L1155.37 1332.28  Z\" fill=\"#39568c\" fill-rule=\"evenodd\" fill-opacity=\"1\"/>\n",
       "<polyline clip-path=\"url(#clip840)\" style=\"stroke:#00528a; stroke-linecap:round; stroke-linejoin:round; stroke-width:3.6; stroke-opacity:1; fill:none\" points=\"1143.84,1148.4 1075.41,1309.18 1155.37,1332.28 1143.84,1148.4 \"/>\n",
       "<path clip-path=\"url(#clip840)\" d=\"M1298.33 1442.01 L1221.03 1234.67 L1234.45 1480.44  Z\" fill=\"#482475\" fill-rule=\"evenodd\" fill-opacity=\"1\"/>\n",
       "<polyline clip-path=\"url(#clip840)\" style=\"stroke:#00528a; stroke-linecap:round; stroke-linejoin:round; stroke-width:3.6; stroke-opacity:1; fill:none\" points=\"1298.33,1442.01 1221.03,1234.67 1234.45,1480.44 1298.33,1442.01 \"/>\n",
       "<path clip-path=\"url(#clip840)\" d=\"M1234.45 1480.44 L1221.03 1234.67 L1155.37 1332.28  Z\" fill=\"#453681\" fill-rule=\"evenodd\" fill-opacity=\"1\"/>\n",
       "<polyline clip-path=\"url(#clip840)\" style=\"stroke:#00528a; stroke-linecap:round; stroke-linejoin:round; stroke-width:3.6; stroke-opacity:1; fill:none\" points=\"1234.45,1480.44 1221.03,1234.67 1155.37,1332.28 1234.45,1480.44 \"/>\n",
       "<path clip-path=\"url(#clip840)\" d=\"M1075.41 1309.18 L1108.29 1430.7 L1155.37 1332.28  Z\" fill=\"#443a83\" fill-rule=\"evenodd\" fill-opacity=\"1\"/>\n",
       "<polyline clip-path=\"url(#clip840)\" style=\"stroke:#00528a; stroke-linecap:round; stroke-linejoin:round; stroke-width:3.6; stroke-opacity:1; fill:none\" points=\"1075.41,1309.18 1108.29,1430.7 1155.37,1332.28 1075.41,1309.18 \"/>\n",
       "<path clip-path=\"url(#clip840)\" d=\"M991.136 1465.54 L1044.16 1512.53 L1075.41 1309.18  Z\" fill=\"#481b6d\" fill-rule=\"evenodd\" fill-opacity=\"1\"/>\n",
       "<polyline clip-path=\"url(#clip840)\" style=\"stroke:#00528a; stroke-linecap:round; stroke-linejoin:round; stroke-width:3.6; stroke-opacity:1; fill:none\" points=\"991.136,1465.54 1044.16,1512.53 1075.41,1309.18 991.136,1465.54 \"/>\n",
       "<path clip-path=\"url(#clip840)\" d=\"M1155.37 1332.28 L1168.23 1520.28 L1234.45 1480.44  Z\" fill=\"#481b6d\" fill-rule=\"evenodd\" fill-opacity=\"1\"/>\n",
       "<polyline clip-path=\"url(#clip840)\" style=\"stroke:#00528a; stroke-linecap:round; stroke-linejoin:round; stroke-width:3.6; stroke-opacity:1; fill:none\" points=\"1155.37,1332.28 1168.23,1520.28 1234.45,1480.44 1155.37,1332.28 \"/>\n",
       "<path clip-path=\"url(#clip840)\" d=\"M1075.41 1309.18 L1044.16 1512.53 L1108.29 1430.7  Z\" fill=\"#482475\" fill-rule=\"evenodd\" fill-opacity=\"1\"/>\n",
       "<polyline clip-path=\"url(#clip840)\" style=\"stroke:#00528a; stroke-linecap:round; stroke-linejoin:round; stroke-width:3.6; stroke-opacity:1; fill:none\" points=\"1075.41,1309.18 1044.16,1512.53 1108.29,1430.7 1075.41,1309.18 \"/>\n",
       "<path clip-path=\"url(#clip840)\" d=\"M1108.29 1430.7 L1168.23 1520.28 L1155.37 1332.28  Z\" fill=\"#482475\" fill-rule=\"evenodd\" fill-opacity=\"1\"/>\n",
       "<polyline clip-path=\"url(#clip840)\" style=\"stroke:#00528a; stroke-linecap:round; stroke-linejoin:round; stroke-width:3.6; stroke-opacity:1; fill:none\" points=\"1108.29,1430.7 1168.23,1520.28 1155.37,1332.28 1108.29,1430.7 \"/>\n",
       "<path clip-path=\"url(#clip840)\" d=\"M1099.54 1561.61 L1108.29 1430.7 L1044.16 1512.53  Z\" fill=\"#460b5e\" fill-rule=\"evenodd\" fill-opacity=\"1\"/>\n",
       "<polyline clip-path=\"url(#clip840)\" style=\"stroke:#00528a; stroke-linecap:round; stroke-linejoin:round; stroke-width:3.6; stroke-opacity:1; fill:none\" points=\"1099.54,1561.61 1108.29,1430.7 1044.16,1512.53 1099.54,1561.61 \"/>\n",
       "<path clip-path=\"url(#clip840)\" d=\"M1099.54 1561.61 L1168.23 1520.28 L1108.29 1430.7  Z\" fill=\"#460b5e\" fill-rule=\"evenodd\" fill-opacity=\"1\"/>\n",
       "<polyline clip-path=\"url(#clip840)\" style=\"stroke:#00528a; stroke-linecap:round; stroke-linejoin:round; stroke-width:3.6; stroke-opacity:1; fill:none\" points=\"1099.54,1561.61 1168.23,1520.28 1108.29,1430.7 1099.54,1561.61 \"/>\n",
       "<path clip-path=\"url(#clip841)\" d=\"M539.89 1112.67 Q539.157 1107.43 540.202 1103.97 Q541.623 1098.88 546.37 1096.9 Q547.375 1096.48 548.453 1096.31 Q549.548 1096.11 551.004 1096.52 Q552.478 1096.92 553.504 1098.14 Q555.464 1100.52 556.186 1105.84 Q556.89 1111.01 555.844 1114.43 Q554.318 1119.42 549.706 1121.37 Q547.971 1122.1 546.085 1122.04 Q544.215 1121.97 542.827 1120.49 Q540.676 1118.29 539.89 1112.67 M543.053 1110.88 Q543.799 1116.25 544.511 1118.2 Q545.304 1120.3 546.727 1120.76 Q548.166 1121.2 549.599 1120.59 Q551.144 1119.94 552.28 1118.35 Q553.432 1116.73 553.513 1114.26 Q553.636 1111.81 552.923 1106.75 Q552.246 1101.8 551.596 1099.97 Q550.769 1097.87 549.28 1097.51 Q547.805 1097.13 546.44 1097.7 Q545.928 1097.91 545.398 1098.28 Q544.886 1098.64 544.163 1099.37 Q543.441 1100.09 542.971 1101.34 Q542.521 1102.58 542.444 1104.2 Q542.409 1106.26 543.053 1110.88 Z\" fill=\"#000000\" fill-rule=\"nonzero\" fill-opacity=\"1\" /><path clip-path=\"url(#clip841)\" d=\"M563.032 1114.32 Q562.375 1114 562.275 1113.25 Q562.175 1112.51 562.684 1111.73 Q563.19 1110.94 564.071 1110.56 Q564.914 1110.21 565.545 1110.49 Q566.193 1110.75 566.304 1111.57 Q566.412 1112.38 565.866 1113.18 Q565.337 1113.95 564.569 1114.27 Q563.689 1114.64 563.032 1114.32 Z\" fill=\"#000000\" fill-rule=\"nonzero\" fill-opacity=\"1\" /><path clip-path=\"url(#clip841)\" d=\"M569.909 1100.08 Q569.217 1094.86 570.264 1091.42 Q571.691 1086.35 576.371 1084.41 Q577.362 1083.99 578.424 1083.83 Q579.502 1083.63 580.932 1084.04 Q582.38 1084.45 583.383 1085.67 Q585.298 1088.05 585.98 1093.34 Q586.644 1098.49 585.597 1101.89 Q584.068 1106.85 579.519 1108.78 Q577.808 1109.5 575.953 1109.43 Q574.114 1109.35 572.756 1107.87 Q570.652 1105.68 569.909 1100.08 M573.031 1098.31 Q573.736 1103.65 574.426 1105.6 Q575.194 1107.7 576.592 1108.16 Q578.005 1108.6 579.418 1108 Q580.942 1107.36 582.068 1105.78 Q583.21 1104.17 583.303 1101.72 Q583.438 1099.28 582.764 1094.23 Q582.125 1089.3 581.496 1087.48 Q580.694 1085.39 579.23 1085.03 Q577.782 1084.64 576.436 1085.2 Q575.931 1085.41 575.407 1085.78 Q574.901 1086.14 574.187 1086.85 Q573.472 1087.57 573.003 1088.81 Q572.553 1090.05 572.469 1091.66 Q572.423 1093.71 573.031 1098.31 Z\" fill=\"#000000\" fill-rule=\"nonzero\" fill-opacity=\"1\" /><path clip-path=\"url(#clip841)\" d=\"M589.743 1082.4 L589.601 1081.29 Q594.167 1079.38 596.234 1076.13 Q596.882 1075.86 597.011 1075.96 Q597.139 1076.05 597.22 1076.69 L599.713 1096.51 Q599.845 1097.55 600.439 1097.65 Q601.032 1097.74 603.442 1096.72 L604.636 1096.22 L604.771 1097.3 Q603.435 1097.75 598.651 1099.77 Q593.855 1101.8 592.557 1102.45 L592.419 1101.37 L593.62 1100.87 Q596.001 1099.86 596.534 1099.31 Q597.064 1098.74 596.93 1097.68 L594.615 1079.38 Q592.75 1081.14 589.743 1082.4 Z\" fill=\"#000000\" fill-rule=\"nonzero\" fill-opacity=\"1\" /><path clip-path=\"url(#clip841)\" d=\"M527.553 1033.56 Q526.792 1028.13 527.852 1024.58 Q529.293 1019.35 534.141 1017.42 Q535.167 1017.01 536.269 1016.86 Q537.387 1016.69 538.877 1017.14 Q540.384 1017.59 541.436 1018.89 Q543.444 1021.39 544.195 1026.9 Q544.926 1032.27 543.865 1035.77 Q542.316 1040.89 537.606 1042.79 Q535.835 1043.5 533.907 1043.39 Q531.996 1043.27 530.573 1041.7 Q528.37 1039.39 527.553 1033.56 M530.782 1031.79 Q531.557 1037.35 532.29 1039.39 Q533.104 1041.58 534.56 1042.09 Q536.032 1042.57 537.495 1041.98 Q539.073 1041.35 540.23 1039.73 Q541.404 1038.09 541.481 1035.54 Q541.602 1033.01 540.861 1027.76 Q540.158 1022.63 539.49 1020.73 Q538.639 1018.53 537.116 1018.13 Q535.608 1017.7 534.215 1018.25 Q533.692 1018.46 533.15 1018.83 Q532.627 1019.19 531.89 1019.92 Q531.153 1020.65 530.676 1021.93 Q530.219 1023.2 530.144 1024.87 Q530.113 1026.99 530.782 1031.79 Z\" fill=\"#000000\" fill-rule=\"nonzero\" fill-opacity=\"1\" /><path clip-path=\"url(#clip841)\" d=\"M551.211 1035.84 Q550.538 1035.49 550.434 1034.72 Q550.33 1033.95 550.849 1033.16 Q551.365 1032.34 552.264 1031.98 Q553.125 1031.64 553.771 1031.94 Q554.433 1032.22 554.548 1033.08 Q554.661 1033.92 554.105 1034.73 Q553.565 1035.51 552.782 1035.83 Q551.883 1036.19 551.211 1035.84 Z\" fill=\"#000000\" fill-rule=\"nonzero\" fill-opacity=\"1\" /><path clip-path=\"url(#clip841)\" d=\"M558.208 1021.3 Q557.489 1015.89 558.551 1012.36 Q559.998 1007.16 564.777 1005.26 Q565.789 1004.86 566.873 1004.72 Q567.974 1004.54 569.437 1005 Q570.917 1005.46 571.945 1006.75 Q573.907 1009.25 574.615 1014.73 Q575.305 1020.08 574.242 1023.56 Q572.69 1028.65 568.047 1030.52 Q566.3 1031.22 564.404 1031.11 Q562.525 1030.98 561.134 1029.42 Q558.979 1027.1 558.208 1021.3 M561.394 1019.55 Q562.126 1025.08 562.835 1027.11 Q563.625 1029.3 565.054 1029.81 Q566.499 1030.3 567.942 1029.72 Q569.497 1029.09 570.645 1027.49 Q571.809 1025.85 571.898 1023.32 Q572.031 1020.81 571.331 1015.58 Q570.667 1010.47 570.021 1008.57 Q569.196 1006.39 567.7 1005.98 Q566.219 1005.54 564.845 1006.09 Q564.329 1006.29 563.794 1006.66 Q563.279 1007.02 562.55 1007.74 Q561.821 1008.47 561.344 1009.74 Q560.887 1011 560.805 1012.66 Q560.763 1014.78 561.394 1019.55 Z\" fill=\"#000000\" fill-rule=\"nonzero\" fill-opacity=\"1\" /><path clip-path=\"url(#clip841)\" d=\"M579.6 1025.02 Q579.516 1024.36 579.547 1024.15 Q579.598 1023.92 579.861 1023.49 L586.28 1012.71 Q589.787 1006.77 589.313 1003 Q589.005 1000.54 587.425 999.329 Q585.862 998.103 583.384 999.087 Q581.68 999.764 580.366 1001.32 Q579.052 1002.88 578.613 1004.91 Q578.723 1004.83 579.121 1004.67 Q580.087 1004.28 580.69 1004.65 Q581.312 1005 581.411 1005.77 Q581.536 1006.76 580.917 1007.51 Q580.314 1008.24 579.651 1008.51 Q579.386 1008.61 579.019 1008.7 Q578.672 1008.78 578.058 1008.5 Q577.442 1008.2 577.324 1007.29 Q576.995 1004.72 578.781 1001.86 Q580.587 998.99 583.731 997.742 Q587.286 996.332 589.861 997.419 Q592.447 998.479 592.835 1001.59 Q592.971 1002.68 592.739 1003.83 Q592.523 1004.95 592.148 1005.9 Q591.793 1006.85 590.705 1008.58 Q589.618 1010.31 588.73 1011.58 Q587.842 1012.85 585.835 1015.61 L582.222 1021.01 L589.17 1018.22 Q592.552 1016.86 592.779 1016.47 Q593.09 1015.8 593.219 1012.89 L594.195 1012.5 L593.897 1019.26 L579.6 1025.02 Z\" fill=\"#000000\" fill-rule=\"nonzero\" fill-opacity=\"1\" /><path clip-path=\"url(#clip841)\" d=\"M515.664 951.134 Q514.874 945.502 515.95 941.859 Q517.412 936.487 522.363 934.622 Q523.411 934.228 524.537 934.1 Q525.68 933.945 527.203 934.456 Q528.745 934.958 529.823 936.324 Q531.881 938.967 532.659 944.677 Q533.418 950.243 532.341 953.841 Q530.77 959.09 525.96 960.932 Q524.151 961.625 522.18 961.461 Q520.226 961.289 518.769 959.633 Q516.512 957.179 515.664 951.134 M518.961 949.389 Q519.765 955.154 520.519 957.279 Q521.356 959.565 522.845 960.13 Q524.35 960.669 525.845 960.097 Q527.456 959.48 528.635 957.837 Q529.832 956.168 529.905 953.54 Q530.022 950.931 529.254 945.48 Q528.525 940.159 527.838 938.176 Q526.964 935.886 525.406 935.429 Q523.864 934.945 522.44 935.482 Q521.906 935.683 521.353 936.049 Q520.82 936.408 520.068 937.146 Q519.316 937.884 518.831 939.192 Q518.366 940.493 518.294 942.217 Q518.267 944.415 518.961 949.389 Z\" fill=\"#000000\" fill-rule=\"nonzero\" fill-opacity=\"1\" /><path clip-path=\"url(#clip841)\" d=\"M539.849 954.093 Q539.161 953.713 539.053 952.916 Q538.945 952.118 539.473 951.312 Q539.999 950.487 540.917 950.136 Q541.796 949.801 542.457 950.133 Q543.134 950.44 543.253 951.329 Q543.37 952.2 542.804 953.021 Q542.254 953.815 541.454 954.121 Q540.537 954.472 539.849 954.093 Z\" fill=\"#000000\" fill-rule=\"nonzero\" fill-opacity=\"1\" /><path clip-path=\"url(#clip841)\" d=\"M546.968 939.242 Q546.222 933.637 547.301 930.016 Q548.768 924.677 553.648 922.839 Q554.681 922.45 555.789 922.326 Q556.914 922.177 558.409 922.69 Q559.923 923.195 560.976 924.557 Q562.985 927.195 563.72 932.879 Q564.436 938.419 563.357 941.994 Q561.782 947.211 557.041 949.027 Q555.258 949.71 553.32 949.54 Q551.4 949.362 549.976 947.709 Q547.769 945.26 546.968 939.242 M550.221 937.518 Q550.98 943.256 551.709 945.373 Q552.52 947.65 553.982 948.218 Q555.459 948.76 556.932 948.196 Q558.52 947.588 559.689 945.957 Q560.875 944.301 560.962 941.686 Q561.092 939.091 560.366 933.666 Q559.678 928.368 559.013 926.393 Q558.166 924.113 556.636 923.652 Q555.122 923.166 553.719 923.694 Q553.193 923.893 552.647 924.255 Q552.12 924.61 551.377 925.342 Q550.634 926.073 550.149 927.373 Q549.685 928.665 549.604 930.38 Q549.566 932.567 550.221 937.518 Z\" fill=\"#000000\" fill-rule=\"nonzero\" fill-opacity=\"1\" /><path clip-path=\"url(#clip841)\" d=\"M567.871 938.661 Q567.726 937.533 568.333 936.739 Q568.939 935.945 569.807 935.615 Q570.713 935.269 571.423 935.6 Q572.148 935.905 572.273 936.884 Q572.407 937.937 571.713 938.822 Q571.037 939.7 569.939 939.964 Q571.077 941.117 572.896 941.137 Q574.732 941.149 576.345 940.532 Q578.034 939.885 579.22 937.964 Q580.424 936.035 579.993 932.604 Q579.627 929.685 578.224 928.455 Q576.838 927.216 574.509 928.101 L572.774 928.759 Q572.176 928.986 571.996 928.997 Q571.815 929.007 571.775 928.692 Q571.728 928.321 572.316 928.02 Q572.914 927.793 573.845 927.323 Q576.127 926.379 577.099 924.01 Q577.972 921.814 577.652 919.271 Q577.36 916.948 576.082 916.417 Q574.819 915.86 573.332 916.42 Q571.941 916.945 570.485 918.079 Q569.027 919.214 568.355 920.775 Q570.811 919.848 571.055 921.764 Q571.161 922.601 570.672 923.37 Q570.2 924.114 569.292 924.457 Q568.422 924.786 567.775 924.486 Q567.125 924.166 567.008 923.254 Q566.729 921.077 568.55 918.808 Q570.389 916.534 573.366 915.412 Q576.301 914.307 578.647 914.982 Q581.009 915.649 581.294 917.933 Q581.575 920.178 580.267 922.596 Q578.959 925.014 576.612 926.7 Q579.684 926.136 581.716 927.418 Q583.742 928.68 584.039 931.062 Q584.407 934.012 582.266 937.108 Q580.123 940.186 576.594 941.538 Q573.328 942.789 570.764 941.991 Q568.196 941.192 567.871 938.661 Z\" fill=\"#000000\" fill-rule=\"nonzero\" fill-opacity=\"1\" /><path clip-path=\"url(#clip841)\" d=\"M503.064 865.694 Q502.243 859.849 503.335 856.108 Q504.818 850.589 509.878 848.789 Q510.949 848.408 512.1 848.305 Q513.268 848.175 514.827 848.743 Q516.405 849.303 517.51 850.743 Q519.621 853.531 520.43 859.458 Q521.218 865.234 520.125 868.927 Q518.529 874.316 513.616 876.096 Q511.767 876.766 509.751 876.545 Q507.753 876.317 506.259 874.566 Q503.945 871.97 503.064 865.694 M506.432 863.976 Q507.267 869.959 508.043 872.177 Q508.904 874.563 510.429 875.186 Q511.969 875.783 513.496 875.23 Q515.142 874.633 516.344 872.964 Q517.564 871.269 517.633 868.552 Q517.747 865.858 516.95 860.2 Q516.191 854.676 515.485 852.607 Q514.586 850.216 512.992 849.703 Q511.413 849.162 509.959 849.68 Q509.413 849.874 508.848 850.239 Q508.303 850.596 507.536 851.34 Q506.769 852.083 506.276 853.424 Q505.803 854.757 505.733 856.539 Q505.711 858.813 506.432 863.976 Z\" fill=\"#000000\" fill-rule=\"nonzero\" fill-opacity=\"1\" /><path clip-path=\"url(#clip841)\" d=\"M527.802 869.382 Q527.098 868.972 526.986 868.145 Q526.874 867.317 527.412 866.497 Q527.948 865.657 528.886 865.318 Q529.784 864.994 530.46 865.355 Q531.153 865.69 531.277 866.613 Q531.398 867.516 530.821 868.35 Q530.261 869.157 529.443 869.453 Q528.506 869.793 527.802 869.382 Z\" fill=\"#000000\" fill-rule=\"nonzero\" fill-opacity=\"1\" /><path clip-path=\"url(#clip841)\" d=\"M535.049 854.208 Q534.274 848.391 535.369 844.674 Q536.858 839.19 541.843 837.416 Q542.898 837.04 544.031 836.942 Q545.18 836.816 546.711 837.386 Q548.259 837.948 549.338 839.384 Q551.398 842.165 552.161 848.062 Q552.905 853.811 551.809 857.48 Q550.21 862.835 545.368 864.589 Q543.547 865.249 541.565 865.023 Q539.601 864.789 538.142 863.042 Q535.88 860.453 535.049 854.208 M538.37 852.51 Q539.159 858.464 539.909 860.672 Q540.743 863.048 542.239 863.673 Q543.75 864.272 545.255 863.727 Q546.877 863.139 548.069 861.483 Q549.277 859.801 549.36 857.099 Q549.488 854.419 548.734 848.789 Q548.019 843.292 547.336 841.232 Q546.465 838.851 544.9 838.335 Q543.351 837.792 541.918 838.302 Q541.38 838.494 540.822 838.855 Q540.285 839.208 539.526 839.945 Q538.768 840.682 538.276 842.014 Q537.804 843.339 537.725 845.11 Q537.69 847.372 538.37 852.51 Z\" fill=\"#000000\" fill-rule=\"nonzero\" fill-opacity=\"1\" /><path clip-path=\"url(#clip841)\" d=\"M555.692 853.167 L555.536 851.958 L565.579 829.011 Q565.833 828.416 566.328 828.26 Q566.781 828.099 566.901 828.238 Q567.021 828.377 567.106 829.053 L569.358 846.978 L573.372 845.532 L573.522 846.737 L569.51 848.184 L569.937 851.591 Q570.079 852.718 570.594 852.912 Q571.129 853.098 573.201 852.348 L574.041 852.044 L574.191 853.246 Q572.536 853.726 568.742 855.1 Q564.96 856.47 563.327 857.181 L563.174 855.977 L564.017 855.671 Q566.097 854.919 566.543 854.397 Q566.987 853.857 566.842 852.709 L566.412 849.302 L555.692 853.167 M556.68 851.546 L566.495 848.009 L564.64 833.319 L556.68 851.546 Z\" fill=\"#000000\" fill-rule=\"nonzero\" fill-opacity=\"1\" /><path clip-path=\"url(#clip841)\" d=\"M491.507 776.442 Q490.656 770.371 491.765 766.529 Q493.27 760.857 498.439 759.129 Q499.533 758.763 500.71 758.687 Q501.904 758.584 503.499 759.214 Q505.113 759.835 506.246 761.355 Q508.409 764.296 509.248 770.451 Q510.065 776.449 508.955 780.241 Q507.335 785.773 502.315 787.485 Q500.427 788.129 498.366 787.847 Q496.323 787.558 494.792 785.707 Q492.42 782.959 491.507 776.442 M494.947 774.753 Q495.813 780.967 496.61 783.282 Q497.496 785.773 499.056 786.459 Q500.631 787.117 502.191 786.585 Q503.872 786.012 505.098 784.317 Q506.342 782.596 506.407 779.787 Q506.518 777.001 505.691 771.126 Q504.905 765.39 504.179 763.23 Q503.255 760.732 501.624 760.158 Q500.009 759.556 498.523 760.054 Q497.966 760.24 497.389 760.602 Q496.833 760.958 496.05 761.706 Q495.267 762.455 494.766 763.83 Q494.286 765.197 494.218 767.039 Q494.199 769.391 494.947 774.753 Z\" fill=\"#000000\" fill-rule=\"nonzero\" fill-opacity=\"1\" /><path clip-path=\"url(#clip841)\" d=\"M516.803 780.916 Q516.082 780.472 515.966 779.613 Q515.85 778.754 516.398 777.919 Q516.944 777.065 517.903 776.739 Q518.82 776.428 519.511 776.819 Q520.22 777.184 520.349 778.142 Q520.475 779.08 519.886 779.928 Q519.315 780.748 518.481 781.033 Q517.523 781.359 516.803 780.916 Z\" fill=\"#000000\" fill-rule=\"nonzero\" fill-opacity=\"1\" /><path clip-path=\"url(#clip841)\" d=\"M524.18 765.408 Q523.377 759.369 524.488 755.552 Q525.999 749.917 531.091 748.215 Q532.169 747.854 533.327 747.782 Q534.501 747.684 536.066 748.314 Q537.649 748.937 538.755 750.452 Q540.866 753.384 541.656 759.506 Q542.427 765.473 541.314 769.24 Q539.691 774.737 534.746 776.424 Q532.886 777.058 530.861 776.771 Q528.853 776.477 527.358 774.631 Q525.042 771.891 524.18 765.408 M527.571 763.739 Q528.389 769.921 529.16 772.226 Q530.017 774.706 531.546 775.393 Q533.092 776.052 534.628 775.528 Q536.285 774.964 537.5 773.282 Q538.732 771.574 538.811 768.781 Q538.936 766.011 538.156 760.166 Q537.415 754.46 536.712 752.31 Q535.818 749.823 534.217 749.247 Q532.633 748.644 531.169 749.134 Q530.62 749.318 530.051 749.676 Q529.502 750.028 528.729 750.77 Q527.955 751.512 527.454 752.877 Q526.974 754.235 526.897 756.066 Q526.866 758.405 527.571 763.739 Z\" fill=\"#000000\" fill-rule=\"nonzero\" fill-opacity=\"1\" /><path clip-path=\"url(#clip841)\" d=\"M546.2 764.734 Q546.044 763.519 546.65 762.835 Q547.253 762.132 547.957 761.893 Q548.902 761.573 549.521 761.987 Q550.158 762.373 550.262 763.19 Q550.366 764.006 549.879 764.793 Q549.411 765.554 548.466 765.875 Q548.004 766.032 547.752 766.035 Q548.534 767.72 550.354 768.511 Q552.19 769.294 554.374 768.549 Q557.116 767.615 558.424 764.418 Q559.19 762.377 558.703 758.502 Q558.273 755.078 557.317 753.615 Q555.844 751.387 553.495 752.179 Q550.157 753.303 548.548 756.825 Q548.352 757.265 548.073 757.381 Q547.67 757.517 547.542 757.331 Q547.43 757.119 547.351 756.5 L545.8 744.366 Q545.674 743.382 546.078 743.247 Q546.24 743.193 546.599 743.198 Q549.348 743.472 552.232 742.527 Q555.191 741.537 557.694 739.447 Q557.88 739.26 558 739.22 Q558.402 739.085 558.48 739.54 Q558.5 739.7 558.218 740.295 Q557.955 740.863 557.329 741.719 Q556.702 742.556 555.87 743.439 Q555.039 744.323 553.762 745.168 Q552.502 745.988 551.053 746.474 Q549.32 747.055 547.477 747.109 L548.495 755.093 Q550.364 752.296 553.462 751.253 Q556.755 750.144 559.351 752.014 Q561.941 753.88 562.398 757.54 Q562.876 761.373 560.527 764.902 Q558.198 768.424 554.598 769.652 Q551.312 770.773 548.928 769.162 Q546.56 767.54 546.2 764.734 Z\" fill=\"#000000\" fill-rule=\"nonzero\" fill-opacity=\"1\" /><path clip-path=\"url(#clip841)\" d=\"M478.215 684.151 Q477.33 677.84 478.456 673.891 Q479.983 668.057 485.27 666.407 Q486.389 666.058 487.593 666.011 Q488.815 665.937 490.449 666.631 Q492.102 667.319 493.265 668.924 Q495.485 672.029 496.357 678.425 Q497.207 684.659 496.08 688.556 Q494.435 694.241 489.302 695.879 Q487.372 696.495 485.261 696.147 Q483.17 695.793 481.599 693.834 Q479.165 690.925 478.215 684.151 M481.732 682.494 Q482.633 688.953 483.454 691.372 Q484.366 693.976 485.964 694.728 Q487.578 695.452 489.173 694.944 Q490.892 694.395 492.143 692.673 Q493.411 690.924 493.471 688.017 Q493.579 685.135 492.72 679.028 Q491.902 673.067 491.154 670.81 Q490.203 668.197 488.532 667.559 Q486.879 666.892 485.359 667.366 Q484.788 667.545 484.199 667.904 Q483.631 668.257 482.831 669.012 Q482.032 669.766 481.522 671.176 Q481.033 672.579 480.968 674.485 Q480.955 676.921 481.732 682.494 Z\" fill=\"#000000\" fill-rule=\"nonzero\" fill-opacity=\"1\" /><path clip-path=\"url(#clip841)\" d=\"M504.112 689.467 Q503.373 688.988 503.252 688.095 Q503.132 687.202 503.691 686.353 Q504.248 685.483 505.228 685.171 Q506.165 684.873 506.874 685.298 Q507.6 685.695 507.734 686.69 Q507.864 687.665 507.264 688.527 Q506.682 689.361 505.829 689.633 Q504.85 689.945 504.112 689.467 Z\" fill=\"#000000\" fill-rule=\"nonzero\" fill-opacity=\"1\" /><path clip-path=\"url(#clip841)\" d=\"M511.625 673.607 Q510.79 667.331 511.919 663.408 Q513.453 657.613 518.659 655.988 Q519.761 655.645 520.945 655.602 Q522.146 655.531 523.749 656.227 Q525.37 656.915 526.504 658.514 Q528.67 661.607 529.492 667.968 Q530.293 674.168 529.163 678.039 Q527.514 683.687 522.459 685.299 Q520.558 685.906 518.485 685.554 Q516.431 685.195 514.897 683.244 Q512.522 680.344 511.625 673.607 M515.092 671.971 Q515.941 678.394 516.735 680.802 Q517.617 683.393 519.184 684.146 Q520.766 684.87 522.337 684.369 Q524.031 683.829 525.269 682.121 Q526.526 680.385 526.601 677.495 Q526.723 674.631 525.912 668.557 Q525.142 662.628 524.419 660.382 Q523.498 657.783 521.86 657.143 Q520.237 656.475 518.741 656.943 Q518.179 657.118 517.598 657.474 Q517.037 657.823 516.247 658.571 Q515.457 659.318 514.948 660.719 Q514.46 662.112 514.385 664.006 Q514.358 666.428 515.092 671.971 Z\" fill=\"#000000\" fill-rule=\"nonzero\" fill-opacity=\"1\" /><path clip-path=\"url(#clip841)\" d=\"M532.978 667.041 Q532.119 660.351 534.978 655.189 Q537.834 650.005 542.18 648.649 Q544.709 647.86 546.27 648.736 Q547.847 649.583 548.097 651.579 Q548.234 652.68 547.658 653.357 Q547.083 654.034 546.426 654.239 Q545.667 654.478 545.007 654.145 Q544.346 653.812 544.229 652.876 Q543.988 650.963 546.309 650.237 Q545.006 648.871 542.396 649.686 Q541.594 649.937 540.802 650.444 Q540.007 650.93 539.037 652.056 Q538.066 653.183 537.401 654.69 Q536.736 656.197 536.458 658.729 Q536.181 661.258 536.571 664.31 L536.701 665.327 Q537.892 660.569 541.431 659.478 Q544.962 658.367 547.741 660.315 Q550.515 662.258 551.015 666.267 Q551.527 670.373 549.336 673.898 Q547.146 677.422 543.59 678.557 Q541.994 679.066 540.453 678.85 Q538.935 678.648 537.386 677.552 Q535.855 676.449 534.677 673.768 Q533.498 671.083 532.978 667.041 M537.336 669.631 Q537.866 673.789 538.879 675.531 Q539.044 675.822 539.368 676.191 Q539.713 676.554 540.261 677.002 Q540.826 677.423 541.675 677.56 Q542.52 677.676 543.441 677.383 Q546.242 676.49 547.246 673.32 Q547.77 671.567 547.249 667.417 Q546.717 663.178 545.764 661.864 Q544.141 659.639 541.514 660.466 Q539.746 661.022 538.668 662.635 Q537.611 664.241 537.347 666.029 Q537.103 667.809 537.336 669.631 Z\" fill=\"#000000\" fill-rule=\"nonzero\" fill-opacity=\"1\" /><path clip-path=\"url(#clip841)\" d=\"M463.505 588.428 Q462.582 581.863 463.726 577.799 Q465.276 571.793 470.688 570.229 Q471.833 569.898 473.067 569.883 Q474.318 569.839 475.994 570.605 Q477.689 571.363 478.884 573.059 Q481.166 576.339 482.075 582.993 Q482.96 589.477 481.815 593.485 Q480.144 599.333 474.891 600.889 Q472.915 601.475 470.753 601.057 Q468.61 600.632 466.995 598.559 Q464.496 595.476 463.505 588.428 M467.104 586.808 Q468.043 593.528 468.89 596.058 Q469.831 598.782 471.469 599.605 Q473.124 600.4 474.756 599.916 Q476.516 599.395 477.793 597.645 Q479.088 595.866 479.142 592.855 Q479.245 589.871 478.35 583.518 Q477.498 577.316 476.726 574.956 Q475.745 572.221 474.033 571.513 Q472.337 570.776 470.781 571.226 Q470.197 571.395 469.594 571.752 Q469.013 572.102 468.196 572.862 Q467.379 573.622 466.86 575.07 Q466.363 576.511 466.301 578.485 Q466.293 581.009 467.104 586.808 Z\" fill=\"#000000\" fill-rule=\"nonzero\" fill-opacity=\"1\" /><path clip-path=\"url(#clip841)\" d=\"M490.043 594.65 Q489.286 594.133 489.16 593.205 Q489.034 592.276 489.605 591.411 Q490.173 590.525 491.176 590.229 Q492.135 589.946 492.862 590.405 Q493.606 590.836 493.746 591.872 Q493.882 592.886 493.269 593.762 Q492.675 594.611 491.802 594.869 Q490.8 595.166 490.043 594.65 Z\" fill=\"#000000\" fill-rule=\"nonzero\" fill-opacity=\"1\" /><path clip-path=\"url(#clip841)\" d=\"M497.699 578.419 Q496.829 571.891 497.976 567.856 Q499.533 561.892 504.86 560.352 Q505.988 560.026 507.2 560.014 Q508.43 559.974 510.073 560.739 Q511.735 561.498 512.9 563.186 Q515.125 566.452 515.981 573.068 Q516.816 579.515 515.668 583.495 Q513.993 589.303 508.821 590.835 Q506.876 591.412 504.753 590.99 Q502.648 590.562 501.073 588.497 Q498.634 585.427 497.699 578.419 M501.245 576.819 Q502.131 583.5 502.949 586.016 Q503.859 588.727 505.465 589.549 Q507.087 590.344 508.694 589.868 Q510.427 589.355 511.691 587.618 Q512.974 585.854 513.044 582.862 Q513.162 579.896 512.318 573.579 Q511.515 567.413 510.769 565.065 Q509.82 562.345 508.141 561.637 Q506.478 560.9 504.946 561.343 Q504.372 561.509 503.777 561.862 Q503.204 562.208 502.397 562.962 Q501.589 563.715 501.071 565.152 Q500.575 566.583 500.503 568.544 Q500.481 571.053 501.245 576.819 Z\" fill=\"#000000\" fill-rule=\"nonzero\" fill-opacity=\"1\" /><path clip-path=\"url(#clip841)\" d=\"M519.282 565.197 L519.526 555.662 L520.604 555.351 Q520.8 555.857 521.042 556.034 Q521.305 556.206 522.554 556.047 Q523.824 555.882 526.333 555.156 L536.78 552.134 Q536.907 553.151 536.597 553.8 L531.841 563.889 Q530.329 567.08 530.129 572.208 Q530.061 575.617 530.582 579.562 L530.865 581.791 Q531.171 584.212 529.183 584.801 Q527.214 585.385 526.905 582.962 Q525.834 574.562 530.09 564.847 Q530.551 563.84 532.251 560.235 Q533.972 556.622 534.04 556.468 L525.125 559.055 Q521.202 560.192 520.919 560.544 Q520.546 561.057 520.359 564.883 L519.282 565.197 Z\" fill=\"#000000\" fill-rule=\"nonzero\" fill-opacity=\"1\" /><polyline clip-path=\"url(#clip841)\" style=\"stroke:#000000; stroke-linecap:round; stroke-linejoin:round; stroke-width:3.6; stroke-opacity:1; fill:none\" points=\"636.339,1151.14 636.339,1151.14 620.658,1158.01 636.339,1151.14 631.86,1113.5 623.957,1116.89 631.86,1113.5 627.302,1075.2 611.312,1081.91 627.302,1075.2 622.664,1036.23 614.605,1039.53 622.664,1036.23 617.944,996.574 601.634,1003.09 617.944,996.574 613.14,956.205 604.918,959.409 613.14,956.205 608.248,915.106 591.604,921.426 608.248,915.106 603.268,873.259 594.877,876.359 603.268,873.259 598.196,830.643 581.205,836.741 598.196,830.643 593.03,787.236 584.462,790.22 593.03,787.236 587.767,743.016 570.414,748.872 587.767,743.016 582.405,697.959 573.653,700.817 582.405,697.959 576.94,652.043 559.21,657.635 576.94,652.043 571.37,605.242 562.426,607.961 571.37,605.242 565.692,557.53 547.567,562.832 565.692,557.53 559.902,508.881 550.758,511.449 559.902,508.881 553.997,459.266 \"/>\n",
       "<path clip-path=\"url(#clip841)\" d=\"M646.219 1253.4 Q642.864 1250.28 642.468 1247.93 Q641.748 1244.49 646.429 1242.33 Q647.42 1241.88 648.615 1241.56 Q649.817 1241.22 651.735 1241.18 Q653.673 1241.13 655.478 1241.69 Q658.949 1242.77 662.373 1245.92 Q665.729 1249.01 666.143 1251.35 Q666.747 1254.79 662.152 1256.94 Q660.424 1257.74 658.128 1258.07 Q655.85 1258.4 653.47 1257.74 Q649.843 1256.78 646.219 1253.4 M649.135 1251.66 Q652.593 1254.87 654.386 1255.96 Q656.349 1257.13 658.28 1257.14 Q660.218 1257.13 661.645 1256.47 Q663.184 1255.75 663.772 1254.52 Q664.367 1253.27 663.263 1251.71 Q662.221 1250.15 658.917 1247.13 Q655.731 1244.19 654.086 1243.19 Q652.1 1242.06 650.165 1242.13 Q648.238 1242.19 646.891 1242.81 Q646.386 1243.05 645.932 1243.38 Q645.497 1243.7 644.985 1244.29 Q644.472 1244.88 644.505 1245.75 Q644.558 1246.6 645.233 1247.62 Q646.168 1248.91 649.135 1251.66 Z\" fill=\"#000000\" fill-rule=\"nonzero\" fill-opacity=\"1\" /><path clip-path=\"url(#clip841)\" d=\"M674.727 1249.86 Q673.776 1249.78 673.291 1249.34 Q672.806 1248.89 673.034 1248.3 Q673.251 1247.7 674.127 1247.3 Q674.965 1246.91 675.862 1246.96 Q676.766 1246.99 677.308 1247.48 Q677.839 1247.97 677.575 1248.58 Q677.318 1249.16 676.554 1249.52 Q675.678 1249.93 674.727 1249.86 Z\" fill=\"#000000\" fill-rule=\"nonzero\" fill-opacity=\"1\" /><path clip-path=\"url(#clip841)\" d=\"M683.774 1246.16 Q683.355 1245.77 683.286 1245.64 Q683.236 1245.49 683.341 1245.17 L685.673 1237.29 Q686.914 1232.99 684.54 1230.84 Q683.002 1229.45 680.576 1229.07 Q678.17 1228.68 675.754 1229.8 Q674.093 1230.56 673.303 1231.77 Q672.513 1232.98 672.962 1234.27 Q673.051 1234.2 673.44 1234.02 Q674.383 1233.59 675.259 1233.67 Q676.154 1233.75 676.637 1234.19 Q677.254 1234.75 676.891 1235.33 Q676.535 1235.9 675.887 1236.2 Q675.628 1236.32 675.242 1236.45 Q674.875 1236.57 674.024 1236.54 Q673.161 1236.49 672.59 1235.97 Q670.989 1234.51 671.713 1232.43 Q672.454 1230.34 675.518 1228.93 Q678.983 1227.33 682.502 1227.42 Q686.028 1227.49 687.983 1229.25 Q688.669 1229.87 688.95 1230.6 Q689.238 1231.31 689.262 1231.96 Q689.305 1232.6 688.866 1233.87 Q688.427 1235.14 688.002 1236.09 Q687.577 1237.04 686.552 1239.13 L684.918 1243.16 L691.749 1239.98 Q695.073 1238.44 695.15 1238.15 Q695.19 1237.69 693.918 1235.91 L694.876 1235.46 L697.844 1239.6 L683.774 1246.16 Z\" fill=\"#000000\" fill-rule=\"nonzero\" fill-opacity=\"1\" /><path clip-path=\"url(#clip841)\" d=\"M728.938 1331.63 Q725.31 1328.25 724.794 1325.7 Q723.894 1321.99 728.668 1319.65 Q729.678 1319.16 730.906 1318.81 Q732.141 1318.45 734.135 1318.4 Q736.147 1318.35 738.048 1318.95 Q741.706 1320.12 745.407 1323.53 Q749.035 1326.87 749.569 1329.41 Q750.351 1333.13 745.667 1335.45 Q743.906 1336.32 741.532 1336.68 Q739.176 1337.03 736.671 1336.31 Q732.856 1335.28 728.938 1331.63 M731.894 1329.74 Q735.632 1333.22 737.545 1334.4 Q739.64 1335.66 741.648 1335.67 Q743.664 1335.66 745.119 1334.94 Q746.688 1334.16 747.245 1332.83 Q747.807 1331.49 746.59 1329.79 Q745.437 1328.11 741.867 1324.84 Q738.423 1321.66 736.668 1320.58 Q734.552 1319.35 732.544 1319.44 Q730.542 1319.5 729.169 1320.17 Q728.654 1320.42 728.197 1320.78 Q727.759 1321.13 727.252 1321.77 Q726.745 1322.41 726.818 1323.35 Q726.91 1324.27 727.657 1325.37 Q728.686 1326.76 731.894 1329.74 Z\" fill=\"#000000\" fill-rule=\"nonzero\" fill-opacity=\"1\" /><path clip-path=\"url(#clip841)\" d=\"M758.431 1327.79 Q757.438 1327.71 756.914 1327.23 Q756.389 1326.75 756.6 1326.11 Q756.799 1325.46 757.692 1325.02 Q758.546 1324.6 759.481 1324.65 Q760.423 1324.69 761.009 1325.22 Q761.583 1325.75 761.336 1326.4 Q761.095 1327.04 760.316 1327.42 Q759.423 1327.87 758.431 1327.79 Z\" fill=\"#000000\" fill-rule=\"nonzero\" fill-opacity=\"1\" /><path clip-path=\"url(#clip841)\" d=\"M762.693 1320.44 L761.926 1319.74 L762.116 1303.33 Q762.114 1302.91 762.595 1302.7 Q763.027 1302.49 763.229 1302.54 Q763.432 1302.59 763.855 1302.97 L775.182 1313.21 L779.031 1311.31 L779.801 1312.01 L775.951 1313.9 L778.129 1315.87 Q778.852 1316.53 779.537 1316.51 Q780.24 1316.49 782.232 1315.51 L783.039 1315.11 L783.813 1315.8 Q782.161 1316.52 778.512 1318.32 Q774.875 1320.12 773.363 1320.97 L772.592 1320.27 L773.403 1319.87 Q775.402 1318.88 775.652 1318.45 Q775.891 1318.01 775.156 1317.34 L772.979 1315.37 L762.693 1320.44 M763.023 1319.2 L772.436 1314.56 L763.147 1306.15 L763.023 1319.2 Z\" fill=\"#000000\" fill-rule=\"nonzero\" fill-opacity=\"1\" /><path clip-path=\"url(#clip841)\" d=\"M820.017 1415.63 Q816.081 1411.97 815.425 1409.2 Q814.315 1405.17 819.176 1402.65 Q820.205 1402.11 821.467 1401.74 Q822.736 1401.34 824.809 1401.29 Q826.902 1401.24 828.91 1401.89 Q832.773 1403.15 836.787 1406.85 Q840.722 1410.47 841.398 1413.22 Q842.389 1417.26 837.619 1419.77 Q835.826 1420.72 833.37 1421.11 Q830.934 1421.49 828.291 1420.71 Q824.268 1419.59 820.017 1415.63 M823.007 1413.59 Q827.063 1417.35 829.111 1418.63 Q831.352 1420 833.444 1420.01 Q835.543 1420 837.025 1419.22 Q838.622 1418.38 839.139 1416.94 Q839.662 1415.48 838.314 1413.64 Q837.034 1411.81 833.162 1408.27 Q829.427 1404.83 827.549 1403.65 Q825.289 1402.32 823.202 1402.41 Q821.12 1402.48 819.723 1403.21 Q819.198 1403.48 818.739 1403.87 Q818.299 1404.25 817.801 1404.94 Q817.303 1405.64 817.422 1406.65 Q817.561 1407.65 818.391 1408.85 Q819.528 1410.36 823.007 1413.59 Z\" fill=\"#000000\" fill-rule=\"nonzero\" fill-opacity=\"1\" /><path clip-path=\"url(#clip841)\" d=\"M850.549 1411.47 Q849.512 1411.38 848.943 1410.86 Q848.374 1410.34 848.564 1409.65 Q848.74 1408.94 849.649 1408.47 Q850.519 1408.01 851.495 1408.07 Q852.477 1408.1 853.113 1408.68 Q853.736 1409.25 853.509 1409.97 Q853.288 1410.66 852.495 1411.07 Q851.586 1411.55 850.549 1411.47 Z\" fill=\"#000000\" fill-rule=\"nonzero\" fill-opacity=\"1\" /><path clip-path=\"url(#clip841)\" d=\"M851.12 1399.49 Q846.885 1395.63 847.451 1391.64 Q848.001 1387.65 852.036 1385.55 Q854.385 1384.32 856.507 1384.39 Q858.636 1384.44 859.897 1385.58 Q860.593 1386.21 860.304 1386.79 Q860.015 1387.37 859.405 1387.69 Q858.698 1388.06 857.816 1388.05 Q856.933 1388.04 856.342 1387.51 Q855.135 1386.42 857.292 1385.29 Q855.205 1384.85 852.78 1386.11 Q852.035 1386.5 851.428 1387.04 Q850.807 1387.57 850.309 1388.54 Q849.812 1389.51 849.832 1390.62 Q849.852 1391.74 850.799 1393.36 Q851.746 1394.99 853.681 1396.75 L854.327 1397.34 Q853.266 1394.07 856.575 1392.36 Q859.865 1390.64 863.866 1391.01 Q867.867 1391.38 870.435 1393.69 Q873.074 1396.07 872.458 1398.9 Q871.84 1401.74 868.504 1403.5 Q867.006 1404.29 865.204 1404.61 Q863.433 1404.93 861.182 1404.7 Q858.95 1404.47 856.319 1403.15 Q853.692 1401.84 851.12 1399.49 M857.162 1399.81 Q859.82 1402.22 861.803 1403.01 Q862.131 1403.14 862.672 1403.27 Q863.233 1403.4 864.06 1403.51 Q864.893 1403.61 865.894 1403.44 Q866.882 1403.26 867.746 1402.81 Q870.373 1401.43 869.869 1399.16 Q869.557 1397.92 866.893 1395.51 Q864.181 1393.07 862.484 1392.54 Q859.605 1391.66 857.155 1392.94 Q855.508 1393.8 855.135 1395.11 Q854.78 1396.4 855.38 1397.58 Q856 1398.75 857.162 1399.81 Z\" fill=\"#000000\" fill-rule=\"nonzero\" fill-opacity=\"1\" /><path clip-path=\"url(#clip841)\" d=\"M918.391 1507.22 Q914.107 1503.23 913.288 1500.22 Q911.935 1495.84 916.883 1493.08 Q917.93 1492.5 919.229 1492.09 Q920.532 1491.66 922.693 1491.61 Q924.873 1491.55 926.999 1492.26 Q931.091 1493.64 935.458 1497.66 Q939.741 1501.6 940.581 1504.6 Q941.813 1508.99 936.96 1511.73 Q935.134 1512.76 932.591 1513.18 Q930.067 1513.6 927.271 1512.75 Q923.019 1511.53 918.391 1507.22 M921.412 1504.99 Q925.827 1509.09 928.026 1510.48 Q930.431 1511.98 932.615 1511.99 Q934.804 1511.98 936.312 1511.13 Q937.937 1510.21 938.406 1508.64 Q938.88 1507.05 937.384 1505.05 Q935.959 1503.06 931.746 1499.21 Q927.682 1495.46 925.665 1494.18 Q923.243 1492.73 921.071 1492.83 Q918.903 1492.9 917.48 1493.7 Q916.946 1493.99 916.486 1494.42 Q916.046 1494.83 915.56 1495.58 Q915.074 1496.34 915.248 1497.44 Q915.442 1498.53 916.365 1499.83 Q917.624 1501.47 921.412 1504.99 Z\" fill=\"#000000\" fill-rule=\"nonzero\" fill-opacity=\"1\" /><path clip-path=\"url(#clip841)\" d=\"M950.042 1502.68 Q948.956 1502.59 948.337 1502.02 Q947.718 1501.46 947.882 1500.7 Q948.031 1499.94 948.955 1499.42 Q949.84 1498.92 950.861 1498.98 Q951.888 1499.02 952.58 1499.66 Q953.257 1500.28 953.056 1501.05 Q952.86 1501.8 952.053 1502.26 Q951.128 1502.78 950.042 1502.68 Z\" fill=\"#000000\" fill-rule=\"nonzero\" fill-opacity=\"1\" /><path clip-path=\"url(#clip841)\" d=\"M954.902 1494.08 Q951.611 1491.08 955.253 1485.92 Q951.541 1486.18 950.734 1486.11 Q947.545 1485.79 945.76 1484.17 Q943.721 1482.31 944.419 1479.85 Q945.122 1477.38 948.12 1475.71 Q950.977 1474.12 954.343 1474.01 Q957.709 1473.91 959.638 1475.65 Q962.357 1478.1 959.374 1482.45 Q964.027 1481.99 965.402 1482.13 Q968.941 1482.48 970.973 1484.31 Q973.34 1486.44 972.525 1489.29 Q971.693 1492.14 968.3 1494.05 Q964.979 1495.93 961.064 1496.03 Q957.149 1496.13 954.902 1494.08 M956.899 1492.96 Q958.728 1494.62 961.813 1494.69 Q964.917 1494.75 967.514 1493.29 Q970.03 1491.87 970.83 1489.85 Q971.647 1487.82 970.059 1486.38 Q969.438 1485.82 968.613 1485.51 Q967.808 1485.18 966.826 1485.12 Q965.85 1485.03 965.312 1485.06 Q964.78 1485.06 963.807 1485.12 L956.614 1485.81 Q953.836 1490.17 956.899 1492.96 M946.376 1482.15 Q947.775 1483.42 950.756 1483.18 L958.053 1482.54 Q960.295 1478.79 957.891 1476.62 Q956.334 1475.22 953.696 1475.19 Q951.043 1475.14 948.807 1476.39 Q946.607 1477.61 945.844 1479.29 Q945.065 1480.95 946.376 1482.15 Z\" fill=\"#000000\" fill-rule=\"nonzero\" fill-opacity=\"1\" /><path clip-path=\"url(#clip841)\" d=\"M1019.64 1598.51 L1018.65 1597.59 Q1023.6 1594.63 1024.13 1591.22 Q1024.83 1590.8 1025.08 1590.85 Q1025.32 1590.89 1025.9 1591.42 L1043.8 1607.98 Q1044.76 1608.86 1045.66 1608.77 Q1046.57 1608.68 1049.2 1607.09 L1050.51 1606.3 L1051.5 1607.21 Q1049.96 1608 1044.72 1611.17 Q1039.48 1614.35 1038.14 1615.31 L1037.15 1614.39 L1038.46 1613.59 Q1041.07 1612.01 1041.41 1611.37 Q1041.74 1610.72 1040.76 1609.82 L1024.22 1594.49 Q1022.9 1596.56 1019.64 1598.51 Z\" fill=\"#000000\" fill-rule=\"nonzero\" fill-opacity=\"1\" /><path clip-path=\"url(#clip841)\" d=\"M1058.42 1602.23 Q1057.28 1602.13 1056.6 1601.5 Q1055.92 1600.88 1056.06 1600.06 Q1056.17 1599.23 1057.11 1598.66 Q1058.01 1598.11 1059.08 1598.18 Q1060.16 1598.23 1060.91 1598.92 Q1061.65 1599.59 1061.48 1600.44 Q1061.31 1601.26 1060.5 1601.76 Q1059.56 1602.33 1058.42 1602.23 Z\" fill=\"#000000\" fill-rule=\"nonzero\" fill-opacity=\"1\" /><path clip-path=\"url(#clip841)\" d=\"M1057.51 1587.95 Q1052.8 1583.67 1051.76 1580.43 Q1050.07 1575.73 1055.02 1572.77 Q1056.07 1572.14 1057.38 1571.7 Q1058.71 1571.24 1060.94 1571.19 Q1063.2 1571.12 1065.45 1571.88 Q1069.78 1573.36 1074.57 1577.68 Q1079.27 1581.91 1080.34 1585.14 Q1081.9 1589.86 1077.05 1592.8 Q1075.23 1593.91 1072.62 1594.36 Q1070.03 1594.81 1067.07 1593.9 Q1062.59 1592.58 1057.51 1587.95 M1060.49 1585.56 Q1065.34 1589.97 1067.71 1591.46 Q1070.3 1593.07 1072.56 1593.08 Q1074.83 1593.07 1076.34 1592.15 Q1077.97 1591.17 1078.35 1589.48 Q1078.73 1587.77 1077.05 1585.63 Q1075.45 1583.49 1070.83 1579.34 Q1066.37 1575.32 1064.19 1573.95 Q1061.59 1572.39 1059.34 1572.5 Q1057.1 1572.58 1055.68 1573.43 Q1055.14 1573.74 1054.69 1574.2 Q1054.27 1574.64 1053.81 1575.45 Q1053.36 1576.26 1053.61 1577.45 Q1053.88 1578.62 1054.92 1580.02 Q1056.34 1581.78 1060.49 1585.56 Z\" fill=\"#000000\" fill-rule=\"nonzero\" fill-opacity=\"1\" /><polyline clip-path=\"url(#clip841)\" style=\"stroke:#000000; stroke-linecap:round; stroke-linejoin:round; stroke-width:3.6; stroke-opacity:1; fill:none\" points=\"636.339,1151.14 636.339,1151.14 620.658,1158.01 636.339,1151.14 674.941,1185.35 667.043,1188.9 674.941,1185.35 714.999,1220.84 699.027,1228.24 714.999,1220.84 756.597,1257.71 748.555,1261.54 756.597,1257.71 799.827,1296.01 783.567,1304.01 799.827,1296.01 844.785,1335.85 836.6,1340 844.785,1335.85 891.578,1377.32 875.035,1385.98 891.578,1377.32 940.32,1420.51 931.997,1425.02 940.32,1420.51 991.136,1465.54 974.319,1474.96 991.136,1465.54 1044.16,1512.53 1035.71,1517.44 1044.16,1512.53 1099.54,1561.61 1082.47,1571.88 1099.54,1561.61 \"/>\n",
       "<path clip-path=\"url(#clip841)\" d=\"M1254.75 1498.06 Q1260.19 1494.74 1264.38 1493.93 Q1270.5 1492.64 1274.57 1495.92 Q1275.44 1496.61 1276.07 1497.5 Q1276.73 1498.39 1276.88 1499.92 Q1277.06 1501.47 1276.14 1503.04 Q1274.34 1506.05 1268.8 1509.46 Q1263.37 1512.81 1259.16 1513.62 Q1253 1514.8 1249.01 1511.53 Q1247.51 1510.31 1246.84 1508.53 Q1246.19 1506.77 1247.29 1504.74 Q1248.87 1501.64 1254.75 1498.06 M1257.96 1500.02 Q1252.36 1503.45 1250.48 1505.1 Q1248.46 1506.92 1248.51 1508.46 Q1248.59 1510.02 1249.83 1511.03 Q1251.17 1512.12 1253.39 1512.35 Q1255.64 1512.57 1258.41 1511.37 Q1261.17 1510.21 1266.47 1506.93 Q1271.63 1503.76 1273.36 1502.23 Q1275.32 1500.4 1275.09 1498.86 Q1274.91 1497.33 1273.73 1496.39 Q1273.29 1496.03 1272.67 1495.74 Q1272.07 1495.46 1270.99 1495.17 Q1269.91 1494.89 1268.36 1495.1 Q1266.83 1495.32 1265.03 1496.07 Q1262.77 1497.08 1257.96 1500.02 Z\" fill=\"#000000\" fill-rule=\"nonzero\" fill-opacity=\"1\" /><path clip-path=\"url(#clip841)\" d=\"M1262.19 1520.28 Q1262.28 1519.49 1263.07 1519 Q1263.85 1518.52 1264.93 1518.59 Q1266.02 1518.64 1266.79 1519.27 Q1267.53 1519.88 1267.48 1520.62 Q1267.46 1521.36 1266.58 1521.9 Q1265.73 1522.43 1264.62 1522.34 Q1263.54 1522.25 1262.87 1521.7 Q1262.1 1521.07 1262.19 1520.28 Z\" fill=\"#000000\" fill-rule=\"nonzero\" fill-opacity=\"1\" /><path clip-path=\"url(#clip841)\" d=\"M1269.26 1526.93 Q1269.94 1526.51 1270.19 1526.42 Q1270.46 1526.35 1271.03 1526.38 L1285.53 1526.72 Q1293.5 1526.88 1297.33 1524.49 Q1299.81 1522.94 1300.38 1520.87 Q1300.96 1518.81 1298.78 1517.06 Q1297.29 1515.85 1295.04 1515.45 Q1292.78 1515.05 1290.43 1515.68 Q1290.57 1515.74 1290.92 1516.02 Q1291.76 1516.71 1291.65 1517.44 Q1291.55 1518.19 1290.77 1518.67 Q1289.77 1519.29 1288.69 1519.11 Q1287.64 1518.94 1287.06 1518.47 Q1286.83 1518.28 1286.57 1517.99 Q1286.32 1517.72 1286.35 1517.01 Q1286.39 1516.3 1287.32 1515.73 Q1289.9 1514.12 1293.75 1514.29 Q1297.61 1514.46 1300.37 1516.69 Q1303.5 1519.2 1303.53 1522.12 Q1303.6 1525.05 1300.45 1527.02 Q1299.34 1527.71 1298.01 1528.09 Q1296.71 1528.47 1295.51 1528.62 Q1294.33 1528.78 1291.98 1528.67 Q1289.62 1528.56 1287.85 1528.4 Q1286.08 1528.24 1282.2 1527.81 L1274.76 1527.27 L1280.88 1532.27 Q1283.88 1534.72 1284.4 1534.72 Q1285.27 1534.67 1288.48 1533.26 L1289.34 1533.97 L1281.87 1537.24 L1269.26 1526.93 Z\" fill=\"#000000\" fill-rule=\"nonzero\" fill-opacity=\"1\" /><path clip-path=\"url(#clip841)\" d=\"M1380.56 1421.32 Q1385.63 1418.23 1389.63 1417.48 Q1395.47 1416.27 1399.58 1419.33 Q1400.45 1419.98 1401.11 1420.8 Q1401.8 1421.63 1402.03 1423.06 Q1402.28 1424.5 1401.48 1425.96 Q1399.91 1428.77 1394.75 1431.94 Q1389.7 1435.05 1385.68 1435.81 Q1379.81 1436.91 1375.77 1433.87 Q1374.26 1432.73 1373.51 1431.08 Q1372.79 1429.44 1373.74 1427.54 Q1375.09 1424.66 1380.56 1421.32 M1383.77 1423.15 Q1378.55 1426.34 1376.83 1427.88 Q1374.99 1429.57 1375.12 1431.01 Q1375.29 1432.46 1376.54 1433.4 Q1377.89 1434.42 1380.04 1434.63 Q1382.23 1434.84 1384.83 1433.71 Q1387.43 1432.63 1392.36 1429.58 Q1397.17 1426.63 1398.75 1425.21 Q1400.54 1423.5 1400.24 1422.07 Q1399.98 1420.65 1398.79 1419.76 Q1398.35 1419.43 1397.74 1419.16 Q1397.14 1418.9 1396.08 1418.64 Q1395.02 1418.37 1393.54 1418.56 Q1392.07 1418.77 1390.38 1419.47 Q1388.25 1420.41 1383.77 1423.15 Z\" fill=\"#000000\" fill-rule=\"nonzero\" fill-opacity=\"1\" /><path clip-path=\"url(#clip841)\" d=\"M1388.97 1442.01 Q1389.02 1441.27 1389.75 1440.82 Q1390.48 1440.37 1391.52 1440.43 Q1392.58 1440.49 1393.36 1441.07 Q1394.1 1441.63 1394.09 1442.32 Q1394.12 1443.02 1393.3 1443.52 Q1392.5 1444.01 1391.43 1443.93 Q1390.39 1443.84 1389.71 1443.33 Q1388.93 1442.74 1388.97 1442.01 Z\" fill=\"#000000\" fill-rule=\"nonzero\" fill-opacity=\"1\" /><path clip-path=\"url(#clip841)\" d=\"M1401.15 1444.07 L1402.22 1443.41 L1428.95 1441.19 Q1429.64 1441.13 1430.04 1441.45 Q1430.43 1441.74 1430.36 1441.9 Q1430.3 1442.05 1429.71 1442.42 L1413.99 1452.24 L1417.44 1454.83 L1416.37 1455.5 L1412.92 1452.91 L1409.9 1454.8 Q1408.89 1455.43 1408.98 1455.93 Q1409.07 1456.45 1410.86 1457.79 L1411.58 1458.34 L1410.51 1459.01 Q1409.2 1457.88 1405.94 1455.42 Q1402.7 1452.98 1401.19 1451.99 L1402.26 1451.32 L1402.98 1451.86 Q1404.76 1453.2 1405.48 1453.32 Q1406.22 1453.44 1407.24 1452.8 L1410.26 1450.92 L1401.15 1444.07 M1403.18 1444.14 L1411.53 1450.4 L1424.43 1442.36 L1403.18 1444.14 Z\" fill=\"#000000\" fill-rule=\"nonzero\" fill-opacity=\"1\" /><path clip-path=\"url(#clip841)\" d=\"M1497.88 1349.77 Q1502.61 1346.88 1506.44 1346.18 Q1512.01 1345.06 1516.14 1347.91 Q1517.02 1348.51 1517.7 1349.29 Q1518.41 1350.06 1518.71 1351.39 Q1519.03 1352.74 1518.33 1354.1 Q1516.97 1356.72 1512.15 1359.68 Q1507.44 1362.59 1503.6 1363.29 Q1497.98 1364.32 1493.92 1361.48 Q1492.4 1360.42 1491.59 1358.87 Q1490.8 1357.35 1491.61 1355.57 Q1492.77 1352.89 1497.88 1349.77 M1501.08 1351.48 Q1496.2 1354.45 1494.62 1355.9 Q1492.93 1357.47 1493.14 1358.82 Q1493.38 1360.16 1494.63 1361.04 Q1495.99 1361.99 1498.09 1362.19 Q1500.21 1362.38 1502.66 1361.34 Q1505.12 1360.33 1509.72 1357.48 Q1514.2 1354.73 1515.66 1353.4 Q1517.3 1351.81 1516.93 1350.47 Q1516.6 1349.14 1515.41 1348.32 Q1514.96 1348.01 1514.35 1347.75 Q1513.77 1347.51 1512.73 1347.26 Q1511.69 1347.01 1510.27 1347.2 Q1508.86 1347.39 1507.27 1348.04 Q1505.26 1348.92 1501.08 1351.48 Z\" fill=\"#000000\" fill-rule=\"nonzero\" fill-opacity=\"1\" /><path clip-path=\"url(#clip841)\" d=\"M1507.11 1369.07 Q1507.11 1368.39 1507.79 1367.97 Q1508.47 1367.55 1509.48 1367.61 Q1510.51 1367.66 1511.29 1368.2 Q1512.04 1368.73 1512.07 1369.37 Q1512.13 1370.02 1511.37 1370.49 Q1510.62 1370.95 1509.58 1370.87 Q1508.57 1370.79 1507.89 1370.31 Q1507.1 1369.76 1507.11 1369.07 Z\" fill=\"#000000\" fill-rule=\"nonzero\" fill-opacity=\"1\" /><path clip-path=\"url(#clip841)\" d=\"M1524.34 1368.31 Q1529.41 1365.17 1535.26 1365.16 Q1541.12 1365.13 1544.68 1367.58 Q1546.76 1369.02 1546.92 1370.43 Q1547.12 1371.84 1545.61 1372.78 Q1544.78 1373.31 1543.89 1373.17 Q1543.01 1373.03 1542.47 1372.66 Q1541.84 1372.22 1541.74 1371.64 Q1541.65 1371.06 1542.35 1370.61 Q1543.8 1369.71 1545.71 1371.03 Q1546.1 1369.61 1543.95 1368.13 Q1543.29 1367.68 1542.43 1367.33 Q1541.58 1366.97 1540.11 1366.73 Q1538.64 1366.5 1537.02 1366.62 Q1535.41 1366.74 1533.16 1367.52 Q1530.91 1368.3 1528.6 1369.74 L1527.83 1370.22 Q1532.44 1369.21 1535.32 1371.23 Q1538.22 1373.24 1538.17 1375.92 Q1538.12 1378.61 1535.06 1380.53 Q1531.91 1382.5 1527.72 1382.34 Q1523.53 1382.19 1520.59 1380.14 Q1519.28 1379.22 1518.61 1378.05 Q1517.94 1376.92 1518 1375.41 Q1518.08 1373.92 1519.68 1372.07 Q1521.27 1370.22 1524.34 1368.31 M1524.6 1372.31 Q1521.42 1374.29 1520.52 1375.67 Q1520.37 1375.89 1520.24 1376.26 Q1520.13 1376.64 1520.05 1377.2 Q1520.01 1377.76 1520.37 1378.41 Q1520.74 1379.04 1521.5 1379.57 Q1523.81 1381.19 1527.03 1380.65 Q1528.8 1380.33 1531.98 1378.34 Q1535.21 1376.32 1535.77 1375.15 Q1536.7 1373.16 1534.54 1371.66 Q1533.1 1370.66 1531.16 1370.54 Q1529.23 1370.43 1527.6 1370.93 Q1525.99 1371.45 1524.6 1372.31 Z\" fill=\"#000000\" fill-rule=\"nonzero\" fill-opacity=\"1\" /><path clip-path=\"url(#clip841)\" d=\"M1607.53 1282.9 Q1611.95 1280.2 1615.62 1279.54 Q1620.95 1278.48 1625.1 1281.15 Q1625.98 1281.72 1626.67 1282.44 Q1627.4 1283.17 1627.76 1284.41 Q1628.14 1285.67 1627.53 1286.94 Q1626.35 1289.4 1621.84 1292.17 Q1617.43 1294.89 1613.75 1295.55 Q1608.38 1296.51 1604.3 1293.85 Q1602.78 1292.86 1601.91 1291.41 Q1601.07 1289.98 1601.77 1288.33 Q1602.74 1285.81 1607.53 1282.9 M1610.71 1284.49 Q1606.15 1287.28 1604.7 1288.63 Q1603.14 1290.1 1603.41 1291.36 Q1603.71 1292.62 1604.97 1293.44 Q1606.33 1294.33 1608.37 1294.51 Q1610.44 1294.7 1612.75 1293.72 Q1615.07 1292.78 1619.38 1290.11 Q1623.57 1287.53 1624.91 1286.29 Q1626.41 1284.8 1625.99 1283.55 Q1625.6 1282.31 1624.41 1281.54 Q1623.96 1281.25 1623.36 1281.01 Q1622.78 1280.78 1621.76 1280.55 Q1620.74 1280.32 1619.38 1280.49 Q1618.03 1280.67 1616.52 1281.28 Q1614.62 1282.1 1610.71 1284.49 Z\" fill=\"#000000\" fill-rule=\"nonzero\" fill-opacity=\"1\" /><path clip-path=\"url(#clip841)\" d=\"M1617.45 1300.95 Q1617.42 1300.31 1618.06 1299.92 Q1618.69 1299.53 1619.67 1299.58 Q1620.66 1299.63 1621.45 1300.14 Q1622.2 1300.63 1622.26 1301.23 Q1622.35 1301.83 1621.64 1302.27 Q1620.95 1302.71 1619.93 1302.63 Q1618.95 1302.55 1618.27 1302.11 Q1617.48 1301.59 1617.45 1300.95 Z\" fill=\"#000000\" fill-rule=\"nonzero\" fill-opacity=\"1\" /><path clip-path=\"url(#clip841)\" d=\"M1629.09 1303.34 Q1632.47 1301.24 1639.62 1303.1 Q1638.75 1300.93 1638.73 1300.45 Q1638.68 1298.56 1640.52 1297.42 Q1642.62 1296.11 1645.89 1296.38 Q1649.19 1296.66 1651.8 1298.33 Q1654.28 1299.93 1654.92 1301.92 Q1655.55 1303.91 1653.57 1305.15 Q1650.78 1306.9 1644.69 1305.36 Q1645.97 1308.09 1645.99 1308.92 Q1646.05 1311.04 1643.97 1312.35 Q1641.54 1313.87 1637.73 1313.52 Q1633.94 1313.17 1630.99 1311.25 Q1628.12 1309.38 1627.45 1307.07 Q1626.78 1304.77 1629.09 1303.34 M1630.8 1304.45 Q1628.92 1305.62 1629.27 1307.44 Q1629.63 1309.28 1631.87 1310.75 Q1634.05 1312.17 1636.78 1312.54 Q1639.52 1312.93 1641.15 1311.91 Q1641.78 1311.51 1642.07 1311 Q1642.38 1310.51 1642.32 1309.92 Q1642.29 1309.34 1642.18 1309.02 Q1642.09 1308.7 1641.88 1308.13 L1639.96 1303.9 Q1633.95 1302.5 1630.8 1304.45 M1643.21 1297.67 Q1641.77 1298.56 1642.51 1300.3 L1644.39 1304.58 Q1649.58 1305.71 1652.05 1304.17 Q1653.65 1303.17 1653.3 1301.6 Q1652.96 1300.03 1651.01 1298.77 Q1649.11 1297.55 1646.83 1297.19 Q1644.56 1296.83 1643.21 1297.67 Z\" fill=\"#000000\" fill-rule=\"nonzero\" fill-opacity=\"1\" /><path clip-path=\"url(#clip841)\" d=\"M1717.32 1215.93 L1718.2 1215.4 Q1722.27 1217.86 1726.18 1218.03 Q1726.76 1218.38 1726.75 1218.51 Q1726.74 1218.64 1726.23 1218.95 L1710.37 1228.66 Q1709.53 1229.18 1709.76 1229.65 Q1710 1230.11 1712.18 1231.44 L1713.26 1232.1 L1712.38 1232.64 Q1711.27 1231.86 1706.94 1229.22 Q1702.63 1226.59 1701.37 1225.92 L1702.25 1225.39 L1703.32 1226.04 Q1705.46 1227.35 1706.22 1227.51 Q1707 1227.66 1707.86 1227.14 L1722.52 1218.17 Q1720 1217.56 1717.32 1215.93 Z\" fill=\"#000000\" fill-rule=\"nonzero\" fill-opacity=\"1\" /><path clip-path=\"url(#clip841)\" d=\"M1719.04 1236.14 Q1718.98 1235.54 1719.57 1235.17 Q1720.17 1234.81 1721.12 1234.86 Q1722.08 1234.9 1722.87 1235.38 Q1723.62 1235.84 1723.71 1236.4 Q1723.83 1236.97 1723.16 1237.38 Q1722.51 1237.78 1721.52 1237.71 Q1720.57 1237.64 1719.89 1237.22 Q1719.1 1236.74 1719.04 1236.14 Z\" fill=\"#000000\" fill-rule=\"nonzero\" fill-opacity=\"1\" /><path clip-path=\"url(#clip841)\" d=\"M1735.1 1235.35 Q1739.25 1232.77 1742.79 1232.15 Q1747.93 1231.14 1752.14 1233.69 Q1753.04 1234.22 1753.76 1234.91 Q1754.52 1235.6 1754.95 1236.79 Q1755.39 1237.99 1754.88 1239.2 Q1753.88 1241.54 1749.66 1244.18 Q1745.52 1246.76 1741.97 1247.39 Q1736.79 1248.31 1732.65 1245.78 Q1731.09 1244.83 1730.16 1243.46 Q1729.25 1242.1 1729.82 1240.52 Q1730.62 1238.12 1735.1 1235.35 M1738.31 1236.87 Q1734.03 1239.52 1732.7 1240.8 Q1731.28 1242.21 1731.62 1243.4 Q1731.99 1244.61 1733.27 1245.39 Q1734.66 1246.24 1736.65 1246.41 Q1738.68 1246.58 1740.88 1245.65 Q1743.09 1244.75 1747.12 1242.21 Q1751.05 1239.76 1752.28 1238.58 Q1753.66 1237.16 1753.17 1235.97 Q1752.71 1234.78 1751.49 1234.05 Q1751.03 1233.77 1750.44 1233.55 Q1749.85 1233.33 1748.85 1233.11 Q1747.84 1232.89 1746.52 1233.05 Q1745.21 1233.22 1743.77 1233.8 Q1741.98 1234.59 1738.31 1236.87 Z\" fill=\"#000000\" fill-rule=\"nonzero\" fill-opacity=\"1\" /><polyline clip-path=\"url(#clip841)\" style=\"stroke:#000000; stroke-linecap:round; stroke-linejoin:round; stroke-width:3.6; stroke-opacity:1; fill:none\" points=\"1099.54,1561.61 1099.54,1561.61 1113.37,1573.86 1099.54,1561.61 1168.23,1520.28 1175.18,1526.17 1168.23,1520.28 1234.45,1480.44 1248.48,1491.83 1234.45,1480.44 1298.33,1442.01 1305.37,1447.49 1298.33,1442.01 1360,1404.91 1374.17,1415.52 1360,1404.91 1419.56,1369.08 1426.65,1374.19 1419.56,1369.08 1477.12,1334.45 1491.39,1344.35 1477.12,1334.45 1532.79,1300.96 1539.92,1305.74 1532.79,1300.96 1586.65,1268.56 1600.97,1277.83 1586.65,1268.56 1638.79,1237.19 1645.94,1241.67 1638.79,1237.19 1689.29,1206.81 1703.63,1215.5 1689.29,1206.81 \"/>\n",
       "<defs>\n",
       "  <clipPath id=\"clip842\">\n",
       "    <rect x=\"2043\" y=\"45\" width=\"73\" height=\"1621\"/>\n",
       "  </clipPath>\n",
       "</defs>\n",
       "<g clip-path=\"url(#clip842)\">\n",
       "<image width=\"72\" height=\"1620\" xlink:href=\"data:image/png;base64,\n",
       "iVBORw0KGgoAAAANSUhEUgAAAEgAAAZUCAYAAABCKUSdAAANfElEQVR4nO3cwQ3jSBAEQXLRrpz/\n",
       "Zq0VHK4F1/mkHhEWCIkCiBlKup+//70X/+vP1x/g1wkUBAoCBYGCQGHOdb7+DD/NgoJAQaAgUBAo\n",
       "zPN6im0sKAgUBAoCBYHCnMuN68aCgkBBoCBQECgIFFy5BgsKAgWBgkBBoDDP67C6saAgUBAoCBQE\n",
       "Cq5cgwUFgYJAQaAgUBAozOMxv7KgIFAQKAgUBAoOq8GCgkBBoCBQECh4cRgsKAgUBAoCBYGCQGF8\n",
       "x3VnQUGgIFAQKAgUvDgMFhQECgIFgYJAYR4PsZUFBYGCQEGgIFAQKLhyDRYUBAoCBYGCQGGe6/76\n",
       "M/w0CwoCBYGCQEGgMMeV68qCgkBBoCBQECgIFBxWgwUFgYJAQaAgUPAUCxYUBAoCBYGCQGHO6ym2\n",
       "saAgUBAoCBQECgIFh9VgQUGgIFAQKAgU5tFopU4QKAgUBAoCBVeuwYKCQEGgIFAQKAgUXLkGCwoC\n",
       "BYGCQEGgMM+r0UadIFAQKAgUBApzNFqpEwQKAgWBgkBBoODKNVhQECgIFAQKAgVXrkGdIFAQKAgU\n",
       "BApznMVWFhQECgIFgYJAQaDgJ5lBnSBQECgIFAQKrlyDOkGgIFAQKAgUfMs1qBMECgIFgYJAQaAw\n",
       "j/8PWllQECgIFAQKAgUvDoM6QaAgUBAoCBTmeHG4UicIFAQKAgWBgkDBYTWoEwQKAgWBgkDBi8Ng\n",
       "QUGgIFAQKAgUfMs1qBMECgIFgYJAQaDgJ5lBnSBQECgIFAQK/gUvWFAQKAgUBAoCBWexoE4QKAgU\n",
       "BAoCBYGCb7kGdYJAQaAgUBAozPEt15UFBYGCQEGgIFBwFgvqBIGCQEGgIFAQKPj/oKBOECgIFAQK\n",
       "AoV5fMt1ZUFBoCBQECgIFJzFgjpBoCBQECgIFAQKDqvBgoJAQaAgUBAoOKwGdYJAQaAgUBAo+GOB\n",
       "oE4QKAgUBAoCBYGCf8ELFhQECgIFgYJAwWE1qBMECgIFgYJAwd/jBAsKAgWBgkBBoCBQ8P9BQZ0g\n",
       "UBAoCBQECg6rwYKCQEGgIFAQKMzRaKVOECgIFAQKAgWBwjwOqysLCgIFgYJAQaDgyjVYUBAoCBQE\n",
       "CgIFf48T1AkCBYGCQEGgIFDwX67BgoJAQaAgUBAouHINFhQECgIFgYJAwZVrUCcIFAQKAgWBgkDB\n",
       "f7kGCwoCBYGCQEGg4LcawYKCQEGgIFAQKLhyDeoEgYJAQaAgUPD1l2BBQaAgUBAoCBQECl4cBgsK\n",
       "AgWBgkBBoOCwGiwoCBQECgIFgYIXh0GdIFAQKAgUBAoCBYfVYEFBoCBQECgIFLw4DBYUBAoCBYGC\n",
       "QMFZLFhQECgIFAQKAgWBgsd8sKAgUBAoCBQECp5iwYKCQEGgIFAQKHiKBQsKAgWBgkBBoCBQ8P2g\n",
       "YEFBoCBQECgIFBxWgwUFgYJAQaAgUPAUCxYUBAoCBYGCQEGg4DEfLCgIFAQKAgWBgqdYsKAgUBAo\n",
       "CBQECvN6iq0sKAgUBAoCBYGCQMG3XIMFBYGCQEGgIFBw5RosKAgUBAoCBYGCK9dgQUGgIFAQKAgU\n",
       "BAoOq8GCgkBBoCBQECg4rAYLCgIFgYJAQaDgLBYsKAgUBAoCBYGCQGHe9+uP8NssKAgUBAoCBYGC\n",
       "32oECwoCBYGCQEGg4MVhsKAgUBAoCBQECgIFb1aDBQWBgkBBoCBQ8OIwWFAQKAgUBAoCBVeuwYKC\n",
       "QEGgIFAQKAgUPOaDBQWBgkBBoCBQ8OIwWFAQKAgUBAoCBS8OgwUFgYJAQaAgUBAouHINFhQECgIF\n",
       "gYJAwVMsWFAQKAgUBAoChXHjurOgIFAQKAgUBAoCBYfVYEFBoCBQECgIFOZyWl1ZUBAoCBQECgIF\n",
       "Z7FgQUGgIFAQKAgUBAp+zBIsKAgUBAoCBYGCw2qwoCBQECgIFAQKc3mKrSwoCBQECgIFgYJAwZVr\n",
       "sKAgUBAoCBQECr7lGiwoCBQECgIFgYIXh8GCgkBBoCBQECgIFBxWgwUFgYJAQaAgUHBYDRYUBAoC\n",
       "BYGCQMFZLFhQECgIFAQKAgWBwlyXw+rGgoJAQaAgUBAoOKwGCwoCBYGCQEGg4CkWLCgIFAQKAgWB\n",
       "gkDB/wcFCwoCBYGCQEGg4O9xggUFgYJAQaAgUHDlGiwoCBQECgIFgYJAwZVrsKAgUBAoCBQECnM7\n",
       "rK4sKAgUBAoCBYGCK9dgQUGgIFAQKAgUBAquXIMFBYGCQEGgIFBwWA0WFAQKAgWBgkDBUyxYUBAo\n",
       "CBQECgIFgYLHfLCgIFAQKAgUBApeHAYLCgIFgYJAQaDgtxrBgoJAQaAgUBAoCBRcuQYLCgIFgYJA\n",
       "QaAgUBAoCBQECgIFgYIr12BBQaAgUBAoCBR8/SVYUBAoCBQECgIFgYIXh8GCgkBBoCBQECh4igUL\n",
       "CgIFgYJAQaDgxWGwoCBQECgIFAQKAgWH1WBBQaAgUBAoCBQ8xYIFBYGCQEGgIFBw5RosKAgUBAoC\n",
       "BYGCQMGPWYIFBYGCQEGgIFBw5RosKAgUBAoCBYGCK9dgQUGgIFAQKAgUBAoOq8GCgkBBoCBQECg4\n",
       "rAYLCgIFgYJAQaDgLBYsKAgUBAoCBYGCQMFjPlhQECgIFAQKAgVXrsGCgkBBoCBQECgIFAQKAgWB\n",
       "gkBBoCBQcOUaLCgIFAQKAgWBgivXYEFBoCBQECgIFJzFggUFgYJAQaAgUBAoeMwHCwoCBYGCQEGg\n",
       "4Mo1WFAQKAgUBAoCBWexYEFBoCBQECgIFAQKDqvBgoJAQaAgUBAoOKwGCwoCBYGCQEGg4CkWLCgI\n",
       "FAQKAgWBgkDBlWuwoCBQECgIFAQKDqvBgoJAQaAgUBAoeIoFCwoCBYGCQEGgIFBw5RosKAgUBAoC\n",
       "BYGCw2qwoCBQECgIFAQKzmLBgoJAQaAgUBAoCBQcVoMFBYGCQEGgIFDwFAsWFAQKAgWBgkBh7q8/\n",
       "wY+zoCBQECgIFAQKAgWH1WBBQaAgUBAoCBR8PyhYUBAoCBQECgIFZ7FgQUGgIFAQKAgUBAoe88GC\n",
       "gkBBoCBQECi4cg0WFAQKAgWBgkDBWSxYUBAoCBQECgIFgYLDarCgIFAQKAgUBAoOq8GCgkBBoCBQ\n",
       "ECg4iwULCgIFgYJAQaAgUHBYDRYUBAoCBYGCQMFTLFhQECgIFAQKAgVXrsGCgkBBoCBQECgIFBxW\n",
       "gwUFgYJAQaAgUJj79RjbWFAQKAgUBAoCBWexYEFBoCBQECgIFAQK3qwGCwoCBYGCQEGg4LAaLCgI\n",
       "FAQKAgWBgrNYsKAgUBAoCBQECgIFh9VgQUGgIFAQKAgUHFaDBQWBgkBBoCBQcBYLFhQECgIFgYJA\n",
       "QaDgsBosKAgUBAoCBYHCXP5YYGVBQaAgUBAoCBScxYIFBYGCQEGgIFAQKHizGiwoCBQECgIFgcLc\n",
       "5+uP8NssKAgUBAoCBYGCs1iwoCBQECgIFAQKAgVvVoMFBYGCQEGgIFDwLddgQUGgIFAQKAgUnMWC\n",
       "BQWBgkBBoCBQ8OIwWFAQKAgUBAoCBYGCw2qwoCBQECgIFAQKXhwGCwoCBYGCQEGg4CwWLCgIFAQK\n",
       "AgWBgkDBm9VgQUGgIFAQKAgUHFaDBQWBgkBBoCBQmOt4jG0sKAgUBAoCBYGCQMGVa7CgIFAQKAgU\n",
       "BAquXIMFBYGCQEGgIFDwW41gQUGgIFAQKAgUBAoOq8GCgkBBoCBQECh4cRgsKAgUBAoCBYHC3K5c\n",
       "VxYUBAoCBYGCQEGgMNf5+iP8NgsKAgWBgkBBoOCwGiwoCBQECgIFgYIXh8GCgkBBoCBQECgIFPyY\n",
       "JVhQECgIFAQKAgW/1QgWFAQKAgWBgkDBWSxYUBAoCBQECgIFgcLcvuW6sqAgUBAoCBQECg6rwYKC\n",
       "QEGgIFAQKPiWa7CgIFAQKAgUBAoCBT/JDBYUBAoCBYGCQMGVa7CgIFAQKAgUBAr+5C1YUBAoCBQE\n",
       "CgIFgYIr12BBQaAgUBAoCBRcuQYLCgIFgYJAQaDgKRYsKAgUBAoCBYGCQMGb1WBBQaAgUBAoCBS8\n",
       "OAwWFAQKAgWBgkDBlWuwoCBQECgIFAQKAgWP+WBBQaAgUBAoCBQ8xYIFBYGCQEGgIFDw9ZdgQUGg\n",
       "IFAQKAgUBAq+HxQsKAgUBAoCBYGCK9dgQUGgIFAQKAgU5jqeYhsLCgIFgYJAQaAgUHBYDRYUBAoC\n",
       "BYGCQMFTLFhQECgIFAQKAgVPsWBBQaAgUBAoCBQECt6sBgsKAgWBgkBBoDDX6zeZGwsKAgWBgkBB\n",
       "oODKNVhQECgIFAQKAgWBgivXYEFBoCBQECgIFBxWgwUFgYJAQaAgUPAUCxYUBAoCBYGCQEGg4DEf\n",
       "LCgIFAQKAgWBwlzHt1w3FhQECgIFgYJAwVksWFAQKAgUBAoCBYGCx3ywoCBQECgIFAQKfqsRLCgI\n",
       "FAQKAgWBwrz+HmdlQUGgIFAQKAgUBAoOq8GCgkBBoCBQECh4cRgsKAgUBAoCBYGC32oECwoCBYGC\n",
       "QEGgIFBwWA0WFAQKAgWBgkBhXofVlQUFgYJAQaAgUHAWCxYUBAoCBYGCQEGg4FuuwYKCQEGgIFAQ\n",
       "KMzlJ5krCwoCBYGCQEGgMK+z2MqCgkBBoCBQECgIFBxWgwUFgYJAQaAgUHBYDRYUBAoCBYGCQMFZ\n",
       "LFhQECgIFAQKAoV/DdWNSSJqhIUAAAAASUVORK5CYII=\n",
       "\" transform=\"translate(2043, 45)\"/>\n",
       "</g>\n",
       "<path clip-path=\"url(#clip841)\" d=\"M2151 1662.46 Q2151 1655 2152.88 1650.93 Q2155.51 1644.89 2161.71 1644.89 Q2163.02 1644.89 2164.39 1645.26 Q2165.77 1645.61 2167.51 1646.97 Q2169.27 1648.33 2170.34 1650.56 Q2172.37 1654.88 2172.37 1662.46 Q2172.37 1669.87 2170.48 1673.91 Q2167.73 1679.81 2161.66 1679.81 Q2159.38 1679.81 2157.05 1678.65 Q2154.74 1677.48 2153.28 1674.68 Q2151 1670.49 2151 1662.46 M2155.21 1661.84 Q2155.21 1669.5 2155.76 1672.55 Q2156.38 1675.85 2158.06 1677.29 Q2159.78 1678.7 2161.66 1678.7 Q2163.69 1678.7 2165.38 1677.19 Q2167.09 1675.65 2167.61 1672.35 Q2168.18 1669.11 2168.15 1661.84 Q2168.15 1654.78 2167.66 1651.95 Q2166.99 1648.65 2165.2 1647.34 Q2163.44 1646 2161.66 1646 Q2160.99 1646 2160.27 1646.2 Q2159.58 1646.4 2158.56 1646.97 Q2157.54 1647.54 2156.75 1648.95 Q2155.98 1650.36 2155.61 1652.5 Q2155.21 1655.25 2155.21 1661.84 Z\" fill=\"#000000\" fill-rule=\"nonzero\" fill-opacity=\"1\" /><path clip-path=\"url(#clip841)\" d=\"M2151 1449.91 Q2151 1442.45 2152.88 1438.38 Q2155.51 1432.33 2161.71 1432.33 Q2163.02 1432.33 2164.39 1432.7 Q2165.77 1433.05 2167.51 1434.41 Q2169.27 1435.78 2170.34 1438.01 Q2172.37 1442.32 2172.37 1449.91 Q2172.37 1457.32 2170.48 1461.36 Q2167.73 1467.26 2161.66 1467.26 Q2159.38 1467.26 2157.05 1466.09 Q2154.74 1464.93 2153.28 1462.13 Q2151 1457.94 2151 1449.91 M2155.21 1449.29 Q2155.21 1456.95 2155.76 1460 Q2156.38 1463.29 2158.06 1464.73 Q2159.78 1466.14 2161.66 1466.14 Q2163.69 1466.14 2165.38 1464.63 Q2167.09 1463.09 2167.61 1459.8 Q2168.18 1456.55 2168.15 1449.29 Q2168.15 1442.22 2167.66 1439.4 Q2166.99 1436.1 2165.2 1434.79 Q2163.44 1433.45 2161.66 1433.45 Q2160.99 1433.45 2160.27 1433.65 Q2159.58 1433.84 2158.56 1434.41 Q2157.54 1434.98 2156.75 1436.4 Q2155.98 1437.81 2155.61 1439.94 Q2155.21 1442.69 2155.21 1449.29 Z\" fill=\"#000000\" fill-rule=\"nonzero\" fill-opacity=\"1\" /><path clip-path=\"url(#clip841)\" d=\"M2179.48 1465.33 Q2178.71 1464.51 2178.71 1463.44 Q2178.71 1462.38 2179.48 1461.61 Q2180.25 1460.81 2181.42 1460.81 Q2182.53 1460.81 2183.28 1461.56 Q2184.04 1462.28 2184.04 1463.47 Q2184.04 1464.63 2183.23 1465.4 Q2182.43 1466.14 2181.42 1466.14 Q2180.25 1466.14 2179.48 1465.33 Z\" fill=\"#000000\" fill-rule=\"nonzero\" fill-opacity=\"1\" /><path clip-path=\"url(#clip841)\" d=\"M2190.49 1449.91 Q2190.49 1442.45 2192.37 1438.38 Q2195 1432.33 2201.2 1432.33 Q2202.51 1432.33 2203.87 1432.7 Q2205.26 1433.05 2207 1434.41 Q2208.76 1435.78 2209.82 1438.01 Q2211.86 1442.32 2211.86 1449.91 Q2211.86 1457.32 2209.97 1461.36 Q2207.22 1467.26 2201.15 1467.26 Q2198.87 1467.26 2196.54 1466.09 Q2194.23 1464.93 2192.77 1462.13 Q2190.49 1457.94 2190.49 1449.91 M2194.7 1449.29 Q2194.7 1456.95 2195.25 1460 Q2195.87 1463.29 2197.55 1464.73 Q2199.26 1466.14 2201.15 1466.14 Q2203.18 1466.14 2204.87 1464.63 Q2206.58 1463.09 2207.1 1459.8 Q2207.67 1456.55 2207.64 1449.29 Q2207.64 1442.22 2207.15 1439.4 Q2206.48 1436.1 2204.69 1434.79 Q2202.93 1433.45 2201.15 1433.45 Q2200.48 1433.45 2199.76 1433.65 Q2199.07 1433.84 2198.05 1434.41 Q2197.03 1434.98 2196.24 1436.4 Q2195.47 1437.81 2195.1 1439.94 Q2194.7 1442.69 2194.7 1449.29 Z\" fill=\"#000000\" fill-rule=\"nonzero\" fill-opacity=\"1\" /><path clip-path=\"url(#clip841)\" d=\"M2218.4 1437.17 L2218.4 1435.58 Q2224.5 1435.58 2227.65 1432.33 Q2228.52 1432.33 2228.66 1432.53 Q2228.81 1432.73 2228.81 1433.65 L2228.81 1462.13 Q2228.81 1463.64 2229.56 1464.11 Q2230.3 1464.58 2233.55 1464.58 L2235.16 1464.58 L2235.16 1466.14 Q2233.37 1466 2226.93 1466 Q2220.48 1466 2218.72 1466.14 L2218.72 1464.58 L2220.33 1464.58 Q2223.53 1464.58 2224.3 1464.14 Q2225.07 1463.67 2225.07 1462.13 L2225.07 1435.83 Q2222.42 1437.17 2218.4 1437.17 Z\" fill=\"#000000\" fill-rule=\"nonzero\" fill-opacity=\"1\" /><path clip-path=\"url(#clip841)\" d=\"M2151 1237.35 Q2151 1229.89 2152.88 1225.83 Q2155.51 1219.78 2161.71 1219.78 Q2163.02 1219.78 2164.39 1220.15 Q2165.77 1220.5 2167.51 1221.86 Q2169.27 1223.22 2170.34 1225.45 Q2172.37 1229.77 2172.37 1237.35 Q2172.37 1244.76 2170.48 1248.81 Q2167.73 1254.7 2161.66 1254.7 Q2159.38 1254.7 2157.05 1253.54 Q2154.74 1252.37 2153.28 1249.57 Q2151 1245.38 2151 1237.35 M2155.21 1236.73 Q2155.21 1244.39 2155.76 1247.44 Q2156.38 1250.74 2158.06 1252.18 Q2159.78 1253.59 2161.66 1253.59 Q2163.69 1253.59 2165.38 1252.08 Q2167.09 1250.54 2167.61 1247.24 Q2168.18 1244 2168.15 1236.73 Q2168.15 1229.67 2167.66 1226.84 Q2166.99 1223.55 2165.2 1222.23 Q2163.44 1220.89 2161.66 1220.89 Q2160.99 1220.89 2160.27 1221.09 Q2159.58 1221.29 2158.56 1221.86 Q2157.54 1222.43 2156.75 1223.84 Q2155.98 1225.26 2155.61 1227.39 Q2155.21 1230.14 2155.21 1236.73 Z\" fill=\"#000000\" fill-rule=\"nonzero\" fill-opacity=\"1\" /><path clip-path=\"url(#clip841)\" d=\"M2179.48 1252.77 Q2178.71 1251.95 2178.71 1250.89 Q2178.71 1249.82 2179.48 1249.05 Q2180.25 1248.26 2181.42 1248.26 Q2182.53 1248.26 2183.28 1249 Q2184.04 1249.72 2184.04 1250.91 Q2184.04 1252.08 2183.23 1252.85 Q2182.43 1253.59 2181.42 1253.59 Q2180.25 1253.59 2179.48 1252.77 Z\" fill=\"#000000\" fill-rule=\"nonzero\" fill-opacity=\"1\" /><path clip-path=\"url(#clip841)\" d=\"M2190.49 1237.35 Q2190.49 1229.89 2192.37 1225.83 Q2195 1219.78 2201.2 1219.78 Q2202.51 1219.78 2203.87 1220.15 Q2205.26 1220.5 2207 1221.86 Q2208.76 1223.22 2209.82 1225.45 Q2211.86 1229.77 2211.86 1237.35 Q2211.86 1244.76 2209.97 1248.81 Q2207.22 1254.7 2201.15 1254.7 Q2198.87 1254.7 2196.54 1253.54 Q2194.23 1252.37 2192.77 1249.57 Q2190.49 1245.38 2190.49 1237.35 M2194.7 1236.73 Q2194.7 1244.39 2195.25 1247.44 Q2195.87 1250.74 2197.55 1252.18 Q2199.26 1253.59 2201.15 1253.59 Q2203.18 1253.59 2204.87 1252.08 Q2206.58 1250.54 2207.1 1247.24 Q2207.67 1244 2207.64 1236.73 Q2207.64 1229.67 2207.15 1226.84 Q2206.48 1223.55 2204.69 1222.23 Q2202.93 1220.89 2201.15 1220.89 Q2200.48 1220.89 2199.76 1221.09 Q2199.07 1221.29 2198.05 1221.86 Q2197.03 1222.43 2196.24 1223.84 Q2195.47 1225.26 2195.1 1227.39 Q2194.7 1230.14 2194.7 1236.73 Z\" fill=\"#000000\" fill-rule=\"nonzero\" fill-opacity=\"1\" /><path clip-path=\"url(#clip841)\" d=\"M2216.42 1253.59 Q2216.42 1252.67 2216.49 1252.4 Q2216.59 1252.13 2216.99 1251.71 L2226.73 1240.85 Q2232.06 1234.85 2232.06 1229.62 Q2232.06 1226.22 2230.28 1223.79 Q2228.52 1221.36 2225.27 1221.36 Q2223.04 1221.36 2221.15 1222.73 Q2219.27 1224.09 2218.4 1226.52 Q2218.55 1226.47 2219.07 1226.47 Q2220.33 1226.47 2221.03 1227.26 Q2221.75 1228.06 2221.75 1229.12 Q2221.75 1230.49 2220.86 1231.16 Q2219.99 1231.8 2219.12 1231.8 Q2218.77 1231.8 2218.3 1231.73 Q2217.86 1231.65 2217.14 1230.96 Q2216.42 1230.24 2216.42 1228.97 Q2216.42 1225.43 2219.1 1222.6 Q2221.8 1219.78 2225.91 1219.78 Q2230.57 1219.78 2233.62 1222.55 Q2236.7 1225.31 2236.7 1229.62 Q2236.7 1231.13 2236.22 1232.52 Q2235.78 1233.88 2235.16 1234.95 Q2234.56 1236.01 2232.93 1237.72 Q2231.29 1239.43 2229.98 1240.65 Q2228.66 1241.86 2225.71 1244.44 L2220.33 1249.67 L2229.48 1249.67 Q2233.94 1249.67 2234.29 1249.28 Q2234.79 1248.56 2235.41 1244.76 L2236.7 1244.76 L2235.26 1253.59 L2216.42 1253.59 Z\" fill=\"#000000\" fill-rule=\"nonzero\" fill-opacity=\"1\" /><path clip-path=\"url(#clip841)\" d=\"M2151 1024.8 Q2151 1017.34 2152.88 1013.27 Q2155.51 1007.22 2161.71 1007.22 Q2163.02 1007.22 2164.39 1007.59 Q2165.77 1007.94 2167.51 1009.3 Q2169.27 1010.67 2170.34 1012.9 Q2172.37 1017.21 2172.37 1024.8 Q2172.37 1032.21 2170.48 1036.25 Q2167.73 1042.15 2161.66 1042.15 Q2159.38 1042.15 2157.05 1040.99 Q2154.74 1039.82 2153.28 1037.02 Q2151 1032.83 2151 1024.8 M2155.21 1024.18 Q2155.21 1031.84 2155.76 1034.89 Q2156.38 1038.18 2158.06 1039.62 Q2159.78 1041.03 2161.66 1041.03 Q2163.69 1041.03 2165.38 1039.52 Q2167.09 1037.99 2167.61 1034.69 Q2168.18 1031.44 2168.15 1024.18 Q2168.15 1017.11 2167.66 1014.29 Q2166.99 1010.99 2165.2 1009.68 Q2163.44 1008.34 2161.66 1008.34 Q2160.99 1008.34 2160.27 1008.54 Q2159.58 1008.73 2158.56 1009.3 Q2157.54 1009.88 2156.75 1011.29 Q2155.98 1012.7 2155.61 1014.83 Q2155.21 1017.58 2155.21 1024.18 Z\" fill=\"#000000\" fill-rule=\"nonzero\" fill-opacity=\"1\" /><path clip-path=\"url(#clip841)\" d=\"M2179.48 1040.22 Q2178.71 1039.4 2178.71 1038.33 Q2178.71 1037.27 2179.48 1036.5 Q2180.25 1035.71 2181.42 1035.71 Q2182.53 1035.71 2183.28 1036.45 Q2184.04 1037.17 2184.04 1038.36 Q2184.04 1039.52 2183.23 1040.29 Q2182.43 1041.03 2181.42 1041.03 Q2180.25 1041.03 2179.48 1040.22 Z\" fill=\"#000000\" fill-rule=\"nonzero\" fill-opacity=\"1\" /><path clip-path=\"url(#clip841)\" d=\"M2190.49 1024.8 Q2190.49 1017.34 2192.37 1013.27 Q2195 1007.22 2201.2 1007.22 Q2202.51 1007.22 2203.87 1007.59 Q2205.26 1007.94 2207 1009.3 Q2208.76 1010.67 2209.82 1012.9 Q2211.86 1017.21 2211.86 1024.8 Q2211.86 1032.21 2209.97 1036.25 Q2207.22 1042.15 2201.15 1042.15 Q2198.87 1042.15 2196.54 1040.99 Q2194.23 1039.82 2192.77 1037.02 Q2190.49 1032.83 2190.49 1024.8 M2194.7 1024.18 Q2194.7 1031.84 2195.25 1034.89 Q2195.87 1038.18 2197.55 1039.62 Q2199.26 1041.03 2201.15 1041.03 Q2203.18 1041.03 2204.87 1039.52 Q2206.58 1037.99 2207.1 1034.69 Q2207.67 1031.44 2207.64 1024.18 Q2207.64 1017.11 2207.15 1014.29 Q2206.48 1010.99 2204.69 1009.68 Q2202.93 1008.34 2201.15 1008.34 Q2200.48 1008.34 2199.76 1008.54 Q2199.07 1008.73 2198.05 1009.3 Q2197.03 1009.88 2196.24 1011.29 Q2195.47 1012.7 2195.1 1014.83 Q2194.7 1017.58 2194.7 1024.18 Z\" fill=\"#000000\" fill-rule=\"nonzero\" fill-opacity=\"1\" /><path clip-path=\"url(#clip841)\" d=\"M2216.02 1034.19 Q2216.02 1032.68 2216.89 1031.96 Q2217.76 1031.24 2218.87 1031.24 Q2220.04 1031.24 2220.86 1032.01 Q2221.7 1032.76 2221.7 1034.07 Q2221.7 1035.48 2220.71 1036.28 Q2219.74 1037.07 2218.35 1036.87 Q2219.57 1038.9 2221.8 1039.82 Q2224.05 1040.74 2226.14 1040.74 Q2228.32 1040.74 2230.08 1038.85 Q2231.86 1036.97 2231.86 1032.36 Q2231.86 1028.44 2230.32 1026.19 Q2228.81 1023.93 2225.81 1023.93 L2223.58 1023.93 Q2222.81 1023.93 2222.59 1023.86 Q2222.37 1023.78 2222.37 1023.36 Q2222.37 1022.86 2223.14 1022.77 Q2223.9 1022.77 2225.12 1022.62 Q2228.07 1022.52 2229.63 1019.96 Q2231.04 1017.58 2231.04 1014.19 Q2231.04 1011.09 2229.56 1009.8 Q2228.09 1008.49 2226.18 1008.49 Q2224.4 1008.49 2222.44 1009.23 Q2220.48 1009.97 2219.42 1011.64 Q2222.57 1011.64 2222.57 1014.19 Q2222.57 1015.3 2221.85 1016.05 Q2221.15 1016.77 2219.99 1016.77 Q2218.87 1016.77 2218.13 1016.07 Q2217.38 1015.35 2217.38 1014.14 Q2217.38 1011.24 2219.96 1009.23 Q2222.57 1007.22 2226.38 1007.22 Q2230.15 1007.22 2232.93 1009.21 Q2235.73 1011.19 2235.73 1014.24 Q2235.73 1017.24 2233.75 1019.69 Q2231.76 1022.15 2228.61 1023.16 Q2232.48 1023.93 2234.79 1026.56 Q2237.09 1029.16 2237.09 1032.36 Q2237.09 1036.32 2233.97 1039.25 Q2230.85 1042.15 2226.28 1042.15 Q2222.07 1042.15 2219.05 1039.87 Q2216.02 1037.59 2216.02 1034.19 Z\" fill=\"#000000\" fill-rule=\"nonzero\" fill-opacity=\"1\" /><path clip-path=\"url(#clip841)\" d=\"M2151 812.244 Q2151 804.782 2152.88 800.717 Q2155.51 794.668 2161.71 794.668 Q2163.02 794.668 2164.39 795.04 Q2165.77 795.387 2167.51 796.75 Q2169.27 798.114 2170.34 800.345 Q2172.37 804.658 2172.37 812.244 Q2172.37 819.655 2170.48 823.696 Q2167.73 829.596 2161.66 829.596 Q2159.38 829.596 2157.05 828.431 Q2154.74 827.266 2153.28 824.465 Q2151 820.275 2151 812.244 M2155.21 811.624 Q2155.21 819.284 2155.76 822.333 Q2156.38 825.63 2158.06 827.067 Q2159.78 828.48 2161.66 828.48 Q2163.69 828.48 2165.38 826.968 Q2167.09 825.431 2167.61 822.134 Q2168.18 818.887 2168.15 811.624 Q2168.15 804.559 2167.66 801.733 Q2166.99 798.436 2165.2 797.122 Q2163.44 795.784 2161.66 795.784 Q2160.99 795.784 2160.27 795.982 Q2159.58 796.18 2158.56 796.75 Q2157.54 797.321 2156.75 798.734 Q2155.98 800.147 2155.61 802.278 Q2155.21 805.03 2155.21 811.624 Z\" fill=\"#000000\" fill-rule=\"nonzero\" fill-opacity=\"1\" /><path clip-path=\"url(#clip841)\" d=\"M2179.48 827.662 Q2178.71 826.844 2178.71 825.778 Q2178.71 824.712 2179.48 823.944 Q2180.25 823.151 2181.42 823.151 Q2182.53 823.151 2183.28 823.894 Q2184.04 824.613 2184.04 825.803 Q2184.04 826.968 2183.23 827.737 Q2182.43 828.48 2181.42 828.48 Q2180.25 828.48 2179.48 827.662 Z\" fill=\"#000000\" fill-rule=\"nonzero\" fill-opacity=\"1\" /><path clip-path=\"url(#clip841)\" d=\"M2190.49 812.244 Q2190.49 804.782 2192.37 800.717 Q2195 794.668 2201.2 794.668 Q2202.51 794.668 2203.87 795.04 Q2205.26 795.387 2207 796.75 Q2208.76 798.114 2209.82 800.345 Q2211.86 804.658 2211.86 812.244 Q2211.86 819.655 2209.97 823.696 Q2207.22 829.596 2201.15 829.596 Q2198.87 829.596 2196.54 828.431 Q2194.23 827.266 2192.77 824.465 Q2190.49 820.275 2190.49 812.244 M2194.7 811.624 Q2194.7 819.284 2195.25 822.333 Q2195.87 825.63 2197.55 827.067 Q2199.26 828.48 2201.15 828.48 Q2203.18 828.48 2204.87 826.968 Q2206.58 825.431 2207.1 822.134 Q2207.67 818.887 2207.64 811.624 Q2207.64 804.559 2207.15 801.733 Q2206.48 798.436 2204.69 797.122 Q2202.93 795.784 2201.15 795.784 Q2200.48 795.784 2199.76 795.982 Q2199.07 796.18 2198.05 796.75 Q2197.03 797.321 2196.24 798.734 Q2195.47 800.147 2195.1 802.278 Q2194.7 805.03 2194.7 811.624 Z\" fill=\"#000000\" fill-rule=\"nonzero\" fill-opacity=\"1\" /><path clip-path=\"url(#clip841)\" d=\"M2215.3 820.102 L2215.3 818.54 L2230.89 794.718 Q2231.29 794.098 2231.91 794.123 Q2232.48 794.123 2232.61 794.346 Q2232.73 794.569 2232.73 795.437 L2232.73 818.54 L2237.81 818.54 L2237.81 820.102 L2232.73 820.102 L2232.73 824.514 Q2232.73 825.977 2233.32 826.448 Q2233.94 826.919 2236.57 826.919 L2237.64 826.919 L2237.64 828.48 Q2235.56 828.332 2230.75 828.332 Q2225.96 828.332 2223.88 828.48 L2223.88 826.919 L2224.95 826.919 Q2227.57 826.919 2228.19 826.472 Q2228.81 826.001 2228.81 824.514 L2228.81 820.102 L2215.3 820.102 M2216.74 818.54 L2229.11 818.54 L2229.11 799.601 L2216.74 818.54 Z\" fill=\"#000000\" fill-rule=\"nonzero\" fill-opacity=\"1\" /><path clip-path=\"url(#clip841)\" d=\"M2151 599.689 Q2151 592.228 2152.88 588.162 Q2155.51 582.114 2161.71 582.114 Q2163.02 582.114 2164.39 582.485 Q2165.77 582.832 2167.51 584.196 Q2169.27 585.559 2170.34 587.79 Q2172.37 592.104 2172.37 599.689 Q2172.37 607.101 2170.48 611.142 Q2167.73 617.041 2161.66 617.041 Q2159.38 617.041 2157.05 615.876 Q2154.74 614.711 2153.28 611.91 Q2151 607.721 2151 599.689 M2155.21 599.069 Q2155.21 606.729 2155.76 609.778 Q2156.38 613.075 2158.06 614.513 Q2159.78 615.926 2161.66 615.926 Q2163.69 615.926 2165.38 614.414 Q2167.09 612.877 2167.61 609.58 Q2168.18 606.332 2168.15 599.069 Q2168.15 592.004 2167.66 589.178 Q2166.99 585.882 2165.2 584.568 Q2163.44 583.229 2161.66 583.229 Q2160.99 583.229 2160.27 583.427 Q2159.58 583.626 2158.56 584.196 Q2157.54 584.766 2156.75 586.179 Q2155.98 587.592 2155.61 589.724 Q2155.21 592.475 2155.21 599.069 Z\" fill=\"#000000\" fill-rule=\"nonzero\" fill-opacity=\"1\" /><path clip-path=\"url(#clip841)\" d=\"M2179.48 615.108 Q2178.71 614.29 2178.71 613.224 Q2178.71 612.158 2179.48 611.389 Q2180.25 610.596 2181.42 610.596 Q2182.53 610.596 2183.28 611.34 Q2184.04 612.059 2184.04 613.249 Q2184.04 614.414 2183.23 615.182 Q2182.43 615.926 2181.42 615.926 Q2180.25 615.926 2179.48 615.108 Z\" fill=\"#000000\" fill-rule=\"nonzero\" fill-opacity=\"1\" /><path clip-path=\"url(#clip841)\" d=\"M2190.49 599.689 Q2190.49 592.228 2192.37 588.162 Q2195 582.114 2201.2 582.114 Q2202.51 582.114 2203.87 582.485 Q2205.26 582.832 2207 584.196 Q2208.76 585.559 2209.82 587.79 Q2211.86 592.104 2211.86 599.689 Q2211.86 607.101 2209.97 611.142 Q2207.22 617.041 2201.15 617.041 Q2198.87 617.041 2196.54 615.876 Q2194.23 614.711 2192.77 611.91 Q2190.49 607.721 2190.49 599.689 M2194.7 599.069 Q2194.7 606.729 2195.25 609.778 Q2195.87 613.075 2197.55 614.513 Q2199.26 615.926 2201.15 615.926 Q2203.18 615.926 2204.87 614.414 Q2206.58 612.877 2207.1 609.58 Q2207.67 606.332 2207.64 599.069 Q2207.64 592.004 2207.15 589.178 Q2206.48 585.882 2204.69 584.568 Q2202.93 583.229 2201.15 583.229 Q2200.48 583.229 2199.76 583.427 Q2199.07 583.626 2198.05 584.196 Q2197.03 584.766 2196.24 586.179 Q2195.47 587.592 2195.1 589.724 Q2194.7 592.475 2194.7 599.069 Z\" fill=\"#000000\" fill-rule=\"nonzero\" fill-opacity=\"1\" /><path clip-path=\"url(#clip841)\" d=\"M2216.42 607.745 Q2216.42 606.233 2217.24 605.663 Q2218.05 605.068 2218.92 605.068 Q2220.09 605.068 2220.76 605.812 Q2221.45 606.531 2221.45 607.547 Q2221.45 608.563 2220.76 609.307 Q2220.09 610.026 2218.92 610.026 Q2218.35 610.026 2218.05 609.927 Q2218.72 612.257 2220.76 613.943 Q2222.81 615.628 2225.52 615.628 Q2228.91 615.628 2230.94 612.331 Q2232.16 610.2 2232.16 605.366 Q2232.16 601.102 2231.24 598.97 Q2229.83 595.723 2226.93 595.723 Q2222.81 595.723 2220.38 599.268 Q2220.09 599.714 2219.74 599.739 Q2219.24 599.739 2219.12 599.466 Q2219.02 599.168 2219.02 598.4 L2219.02 583.378 Q2219.02 582.163 2219.52 582.163 Q2219.72 582.163 2220.14 582.312 Q2223.33 583.725 2226.88 583.75 Q2230.52 583.75 2233.8 582.262 Q2234.04 582.114 2234.19 582.114 Q2234.69 582.114 2234.71 582.684 Q2234.71 582.882 2234.29 583.477 Q2233.89 584.047 2233.03 584.816 Q2232.16 585.559 2231.04 586.278 Q2229.93 586.997 2228.29 587.493 Q2226.68 587.964 2224.9 587.964 Q2222.76 587.964 2220.58 587.295 L2220.58 597.185 Q2223.21 594.607 2227.03 594.607 Q2231.09 594.607 2233.89 597.879 Q2236.7 601.152 2236.7 605.713 Q2236.7 610.497 2233.37 613.769 Q2230.08 617.041 2225.61 617.041 Q2221.55 617.041 2218.97 614.141 Q2216.42 611.241 2216.42 607.745 Z\" fill=\"#000000\" fill-rule=\"nonzero\" fill-opacity=\"1\" /><path clip-path=\"url(#clip841)\" d=\"M2151 387.134 Q2151 379.673 2152.88 375.608 Q2155.51 369.559 2161.71 369.559 Q2163.02 369.559 2164.39 369.931 Q2165.77 370.278 2167.51 371.641 Q2169.27 373.005 2170.34 375.236 Q2172.37 379.549 2172.37 387.134 Q2172.37 394.546 2170.48 398.587 Q2167.73 404.487 2161.66 404.487 Q2159.38 404.487 2157.05 403.322 Q2154.74 402.157 2153.28 399.355 Q2151 395.166 2151 387.134 M2155.21 386.515 Q2155.21 394.175 2155.76 397.224 Q2156.38 400.521 2158.06 401.958 Q2159.78 403.371 2161.66 403.371 Q2163.69 403.371 2165.38 401.859 Q2167.09 400.322 2167.61 397.025 Q2168.18 393.778 2168.15 386.515 Q2168.15 379.45 2167.66 376.624 Q2166.99 373.327 2165.2 372.013 Q2163.44 370.675 2161.66 370.675 Q2160.99 370.675 2160.27 370.873 Q2159.58 371.071 2158.56 371.641 Q2157.54 372.211 2156.75 373.624 Q2155.98 375.037 2155.61 377.169 Q2155.21 379.921 2155.21 386.515 Z\" fill=\"#000000\" fill-rule=\"nonzero\" fill-opacity=\"1\" /><path clip-path=\"url(#clip841)\" d=\"M2179.48 402.553 Q2178.71 401.735 2178.71 400.669 Q2178.71 399.603 2179.48 398.835 Q2180.25 398.042 2181.42 398.042 Q2182.53 398.042 2183.28 398.785 Q2184.04 399.504 2184.04 400.694 Q2184.04 401.859 2183.23 402.628 Q2182.43 403.371 2181.42 403.371 Q2180.25 403.371 2179.48 402.553 Z\" fill=\"#000000\" fill-rule=\"nonzero\" fill-opacity=\"1\" /><path clip-path=\"url(#clip841)\" d=\"M2190.49 387.134 Q2190.49 379.673 2192.37 375.608 Q2195 369.559 2201.2 369.559 Q2202.51 369.559 2203.87 369.931 Q2205.26 370.278 2207 371.641 Q2208.76 373.005 2209.82 375.236 Q2211.86 379.549 2211.86 387.134 Q2211.86 394.546 2209.97 398.587 Q2207.22 404.487 2201.15 404.487 Q2198.87 404.487 2196.54 403.322 Q2194.23 402.157 2192.77 399.355 Q2190.49 395.166 2190.49 387.134 M2194.7 386.515 Q2194.7 394.175 2195.25 397.224 Q2195.87 400.521 2197.55 401.958 Q2199.26 403.371 2201.15 403.371 Q2203.18 403.371 2204.87 401.859 Q2206.58 400.322 2207.1 397.025 Q2207.67 393.778 2207.64 386.515 Q2207.64 379.45 2207.15 376.624 Q2206.48 373.327 2204.69 372.013 Q2202.93 370.675 2201.15 370.675 Q2200.48 370.675 2199.76 370.873 Q2199.07 371.071 2198.05 371.641 Q2197.03 372.211 2196.24 373.624 Q2195.47 375.037 2195.1 377.169 Q2194.7 379.921 2194.7 386.515 Z\" fill=\"#000000\" fill-rule=\"nonzero\" fill-opacity=\"1\" /><path clip-path=\"url(#clip841)\" d=\"M2216.02 387.333 Q2216.02 379.351 2220.09 374.467 Q2224.15 369.559 2229.38 369.559 Q2232.43 369.559 2234.12 371.121 Q2235.83 372.658 2235.83 375.037 Q2235.83 376.351 2235.06 376.921 Q2234.29 377.492 2233.5 377.492 Q2232.58 377.492 2231.86 376.872 Q2231.14 376.252 2231.14 375.137 Q2231.14 372.856 2233.94 372.856 Q2232.63 370.823 2229.48 370.823 Q2228.52 370.823 2227.52 371.121 Q2226.53 371.393 2225.24 372.335 Q2223.95 373.277 2222.96 374.765 Q2221.97 376.252 2221.28 379.053 Q2220.58 381.854 2220.58 385.498 L2220.58 386.713 Q2222.66 381.681 2226.93 381.706 Q2231.19 381.706 2234.14 384.953 Q2237.09 388.2 2237.09 393.009 Q2237.09 397.942 2234.02 401.215 Q2230.94 404.487 2226.63 404.487 Q2224.7 404.487 2222.94 403.669 Q2221.2 402.875 2219.57 401.041 Q2217.96 399.207 2216.99 395.687 Q2216.02 392.167 2216.02 387.333 M2220.68 391.894 Q2220.68 396.877 2221.6 399.256 Q2221.75 399.653 2222.07 400.198 Q2222.42 400.744 2222.99 401.462 Q2223.58 402.157 2224.55 402.628 Q2225.52 403.074 2226.63 403.074 Q2230.03 403.074 2231.66 399.777 Q2232.53 397.942 2232.53 392.96 Q2232.53 387.878 2231.61 386.019 Q2230.05 382.871 2226.88 382.871 Q2224.75 382.871 2223.26 384.333 Q2221.8 385.796 2221.23 387.754 Q2220.68 389.713 2220.68 391.894 Z\" fill=\"#000000\" fill-rule=\"nonzero\" fill-opacity=\"1\" /><path clip-path=\"url(#clip841)\" d=\"M2151 174.58 Q2151 167.118 2152.88 163.053 Q2155.51 157.005 2161.71 157.005 Q2163.02 157.005 2164.39 157.376 Q2165.77 157.723 2167.51 159.087 Q2169.27 160.45 2170.34 162.681 Q2172.37 166.994 2172.37 174.58 Q2172.37 181.992 2170.48 186.032 Q2167.73 191.932 2161.66 191.932 Q2159.38 191.932 2157.05 190.767 Q2154.74 189.602 2153.28 186.801 Q2151 182.612 2151 174.58 M2155.21 173.96 Q2155.21 181.62 2155.76 184.669 Q2156.38 187.966 2158.06 189.404 Q2159.78 190.817 2161.66 190.817 Q2163.69 190.817 2165.38 189.305 Q2167.09 187.768 2167.61 184.471 Q2168.18 181.223 2168.15 173.96 Q2168.15 166.895 2167.66 164.069 Q2166.99 160.772 2165.2 159.459 Q2163.44 158.12 2161.66 158.12 Q2160.99 158.12 2160.27 158.318 Q2159.58 158.517 2158.56 159.087 Q2157.54 159.657 2156.75 161.07 Q2155.98 162.483 2155.61 164.615 Q2155.21 167.366 2155.21 173.96 Z\" fill=\"#000000\" fill-rule=\"nonzero\" fill-opacity=\"1\" /><path clip-path=\"url(#clip841)\" d=\"M2179.48 189.999 Q2178.71 189.181 2178.71 188.115 Q2178.71 187.049 2179.48 186.28 Q2180.25 185.487 2181.42 185.487 Q2182.53 185.487 2183.28 186.231 Q2184.04 186.95 2184.04 188.139 Q2184.04 189.305 2183.23 190.073 Q2182.43 190.817 2181.42 190.817 Q2180.25 190.817 2179.48 189.999 Z\" fill=\"#000000\" fill-rule=\"nonzero\" fill-opacity=\"1\" /><path clip-path=\"url(#clip841)\" d=\"M2190.49 174.58 Q2190.49 167.118 2192.37 163.053 Q2195 157.005 2201.2 157.005 Q2202.51 157.005 2203.87 157.376 Q2205.26 157.723 2207 159.087 Q2208.76 160.45 2209.82 162.681 Q2211.86 166.994 2211.86 174.58 Q2211.86 181.992 2209.97 186.032 Q2207.22 191.932 2201.15 191.932 Q2198.87 191.932 2196.54 190.767 Q2194.23 189.602 2192.77 186.801 Q2190.49 182.612 2190.49 174.58 M2194.7 173.96 Q2194.7 181.62 2195.25 184.669 Q2195.87 187.966 2197.55 189.404 Q2199.26 190.817 2201.15 190.817 Q2203.18 190.817 2204.87 189.305 Q2206.58 187.768 2207.1 184.471 Q2207.67 181.223 2207.64 173.96 Q2207.64 166.895 2207.15 164.069 Q2206.48 160.772 2204.69 159.459 Q2202.93 158.12 2201.15 158.12 Q2200.48 158.12 2199.76 158.318 Q2199.07 158.517 2198.05 159.087 Q2197.03 159.657 2196.24 161.07 Q2195.47 162.483 2195.1 164.615 Q2194.7 167.366 2194.7 173.96 Z\" fill=\"#000000\" fill-rule=\"nonzero\" fill-opacity=\"1\" /><path clip-path=\"url(#clip841)\" d=\"M2216.74 166.945 L2218.4 156.509 L2219.67 156.509 Q2219.81 157.128 2220.06 157.401 Q2220.33 157.674 2221.77 157.897 Q2223.24 158.12 2226.18 158.12 L2238.51 158.12 Q2238.51 159.285 2238.06 159.905 L2231.19 169.548 Q2229.01 172.597 2228.04 178.224 Q2227.47 181.992 2227.5 186.553 L2227.5 189.131 Q2227.5 191.932 2225.14 191.932 Q2222.81 191.932 2222.81 189.131 Q2222.81 179.439 2229.06 170.044 Q2229.73 169.077 2232.18 165.631 Q2234.66 162.185 2234.76 162.037 L2224.25 162.037 Q2219.64 162.037 2219.27 162.334 Q2218.77 162.78 2218 166.945 L2216.74 166.945 Z\" fill=\"#000000\" fill-rule=\"nonzero\" fill-opacity=\"1\" /><polyline clip-path=\"url(#clip841)\" style=\"stroke:#000000; stroke-linecap:round; stroke-linejoin:round; stroke-width:3.6; stroke-opacity:1; fill:none\" points=\"2115,1665 2115,1665 2139,1665 2115,1665 2115,1452.45 2139,1452.45 2115,1452.45 2115,1239.89 2139,1239.89 2115,1239.89 2115,1027.34 2139,1027.34 2115,1027.34 2115,814.782 2139,814.782 2115,814.782 2115,602.227 2139,602.227 2115,602.227 2115,389.673 2139,389.673 2115,389.673 2115,177.118 2139,177.118 2115,177.118 2115,45 \"/>\n",
       "</svg>\n"
      ],
      "text/plain": [
       "GR.SVG(UInt8[0x3c, 0x3f, 0x78, 0x6d, 0x6c, 0x20, 0x76, 0x65, 0x72, 0x73  …  0x2f, 0x3e, 0x0a, 0x3c, 0x2f, 0x73, 0x76, 0x67, 0x3e, 0x0a])"
      ]
     },
     "execution_count": 53,
     "metadata": {},
     "output_type": "execute_result"
    }
   ],
   "source": [
    "mesh = meshFromGmsh(\"square-10.msh\");  \n",
    "xnode,ynode = nodesFromGmsh(\"square-10.msh\")\n",
    "@time A = generateMatrix(mesh); f= generateVector(mesh,mySrcFunction); # <= force recompilation\n",
    "@time u = generateSolution(mesh,A,f)\n",
    "GR.trisurf(xnode,ynode,u)"
   ]
  },
  {
   "cell_type": "code",
   "execution_count": 54,
   "metadata": {},
   "outputs": [
    {
     "name": "stdout",
     "output_type": "stream",
     "text": [
      "Info    : Reading 'square-1.msh'...\n",
      "Info    : 9 entities\n",
      "Info    : 5 nodes\n",
      "Info    : 12 elements\n",
      "Info    : Done reading 'square-1.msh'\n",
      "  0.000070 seconds (14 allocations: 2.672 KiB)\n",
      "  0.000139 seconds (12 allocations: 2.547 KiB)\n",
      "Info    : Reading 'square-1.msh'...\n",
      "Info    : 9 entities\n",
      "Info    : 5 nodes\n",
      "Info    : 12 elements\n",
      "Info    : Done reading 'square-1.msh'\n",
      "  0.000007 seconds (14 allocations: 2.672 KiB)\n",
      "  0.000010 seconds (12 allocations: 2.547 KiB)\n",
      "Info    : Reading 'square-10.msh'...\n",
      "Info    : 9 entities\n",
      "Info    : 142 nodes\n",
      "Info    : 286 elements\n",
      "Info    : Done reading 'square-10.msh'\n",
      "  0.000037 seconds (19 allocations: 103.797 KiB)\n",
      "  0.000372 seconds (79 allocations: 301.445 KiB)\n",
      "Info    : Reading 'square-100.msh'...\n",
      "Info    : 9 entities\n",
      "Info    : 11833 nodes\n",
      "Info    : 23668 elements\n",
      "Info    : Done reading 'square-100.msh'\n",
      "  0.003472 seconds (24 allocations: 9.510 MiB)\n",
      "  0.139013 seconds (88 allocations: 27.141 MiB)\n",
      "Info    : Reading 'square-1000.msh'...\n",
      "Info    : 9 entities\n",
      "Info    : 1157393 nodes\n",
      "Info    : 2314788 elements                                              \n",
      "Info    : Done reading 'square-1000.msh'                                   \n",
      "  0.966426 seconds (24 allocations: 943.337 MiB, 15.43% gc time)\n",
      " 37.699224 seconds (92 allocations: 3.357 GiB, 0.51% gc time)\n"
     ]
    },
    {
     "data": {
      "text/plain": [
       "1157393-element Vector{Float64}:\n",
       " 0.0\n",
       " 0.0\n",
       " 0.0\n",
       " 0.0\n",
       " 0.0\n",
       " 0.0\n",
       " 0.0\n",
       " 0.0\n",
       " 0.0\n",
       " 0.0\n",
       " 0.0\n",
       " 0.0\n",
       " 0.0\n",
       " ⋮\n",
       " 0.0009744498002653742\n",
       " 0.0003775502626040474\n",
       " 0.00018604832240482389\n",
       " 0.0005627265703121411\n",
       " 0.0001129113097057258\n",
       " 0.00022181095679295418\n",
       " 0.00030982583045008013\n",
       " 0.00012320947696512112\n",
       " 0.00027835275746595546\n",
       " 0.0012476520065782951\n",
       " 0.00017620241452888746\n",
       " 0.00035681787553605603"
      ]
     },
     "execution_count": 54,
     "metadata": {},
     "output_type": "execute_result"
    }
   ],
   "source": [
    "mesh = meshFromGmsh(\"square-1.msh\");   \n",
    "@time A = generateMatrix(mesh); f= generateVector(mesh,mySrcFunction); # <= force recompilation\n",
    "@time u = generateSolution(mesh,A,f)\n",
    "\n",
    "mesh = meshFromGmsh(\"square-1.msh\");   \n",
    "@time A = generateMatrix(mesh); f= generateVector(mesh,mySrcFunction); \n",
    "@time u = generateSolution(mesh,A,f)\n",
    "\n",
    "mesh = meshFromGmsh(\"square-10.msh\");  \n",
    "@time A = generateMatrix(mesh); f= generateVector(mesh,mySrcFunction); \n",
    "@time u = generateSolution(mesh,A,f)\n",
    "\n",
    "mesh = meshFromGmsh(\"square-100.msh\"); \n",
    "@time A = generateMatrix(mesh); f= generateVector(mesh,mySrcFunction); \n",
    "@time u = generateSolution(mesh,A,f)\n",
    "\n",
    "mesh = meshFromGmsh(\"square-1000.msh\"); \n",
    "@time A = generateMatrix(mesh); f= generateVector(mesh,mySrcFunction); \n",
    "@time u = generateSolution(mesh,A,f)"
   ]
  },
  {
   "cell_type": "code",
   "execution_count": null,
   "metadata": {},
   "outputs": [],
   "source": []
  }
 ],
 "metadata": {
  "kernelspec": {
   "display_name": "Julia 1.8.1",
   "language": "julia",
   "name": "julia-1.8"
  },
  "language_info": {
   "file_extension": ".jl",
   "mimetype": "application/julia",
   "name": "julia",
   "version": "1.8.1"
  }
 },
 "nbformat": 4,
 "nbformat_minor": 2
}
