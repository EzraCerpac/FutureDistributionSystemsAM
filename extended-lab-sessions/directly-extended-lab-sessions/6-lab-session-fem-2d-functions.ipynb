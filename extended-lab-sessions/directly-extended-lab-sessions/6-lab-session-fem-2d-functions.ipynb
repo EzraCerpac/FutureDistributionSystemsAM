{
 "cells": [
  {
   "cell_type": "markdown",
   "metadata": {},
   "source": [
    "# EE4375: Sixth Lab Session: Galerkin Finite Element Method for the Poisson Equation on the Unit Square "
   ]
  },
  {
   "cell_type": "markdown",
   "metadata": {},
   "source": [
    "Memory efficicent and type stable implememtation of before.  "
   ]
  },
  {
   "cell_type": "markdown",
   "metadata": {},
   "source": [
    "## Import Packages"
   ]
  },
  {
   "cell_type": "code",
   "execution_count": 1,
   "metadata": {},
   "outputs": [],
   "source": [
    "import Gmsh: gmsh \n",
    "using GR \n",
    "\n",
    "using LinearAlgebra \n",
    "using SparseArrays \n",
    "using StructArrays\n",
    "using StaticArrays\n",
    "using StaticRanges\n",
    "\n",
    "using IterativeSolvers\n",
    "using Preconditioners\n",
    "\n",
    "using BenchmarkTools\n",
    "using Profile\n",
    "using ProfileView\n",
    "\n",
    "using Plots "
   ]
  },
  {
   "cell_type": "markdown",
   "metadata": {},
   "source": [
    "## What to debug next? "
   ]
  },
  {
   "cell_type": "markdown",
   "metadata": {},
   "source": [
    "### Issue-1: using callable struct for ther rhs-vector definition."
   ]
  },
  {
   "cell_type": "markdown",
   "metadata": {},
   "source": [
    "## Section 1: Geometry and Mesh Generation of Unit Square Geometry \n",
    "The code that follows performs <b>geometry generation</b> and <b>mesh generation</b> on the unit square geometry. "
   ]
  },
  {
   "cell_type": "code",
   "execution_count": 2,
   "metadata": {},
   "outputs": [
    {
     "name": "stdout",
     "output_type": "stream",
     "text": [
      "Info    : Meshing 1D...\n",
      "Info    : [  0%] Meshing curve 1 (Line)\n",
      "Info    : [ 30%] Meshing curve 2 (Line)\n",
      "Info    : [ 50%] Meshing curve 3 (Line)\n",
      "Info    : [ 80%] Meshing curve 4 (Line)\n",
      "Info    : Done meshing 1D (Wall 0.000167584s, CPU 0.000159s)\n",
      "Info    : Meshing 2D...\n",
      "Info    : Meshing surface 1 (Plane, Frontal-Delaunay)\n",
      "Info    : Done meshing 2D (Wall 0.000143042s, CPU 0.000108s)\n",
      "Info    : 5 nodes 12 elements\n",
      "Info    : Writing 'square.msh'...\n",
      "Info    : Done writing 'square.msh'\n"
     ]
    }
   ],
   "source": [
    "#..1/4: initialize gmsh \n",
    "gmsh.initialize()\n",
    "\n",
    "#..2/4: generate geometry \n",
    "gmsh.option.setNumber(\"General.Terminal\", 1)\n",
    "gmsh.model.add(\"square\")\n",
    "#..set mesh density parameter \n",
    "lc = 1.\n",
    "#lc = 0.001; \n",
    "#..define four points via (x,y,z) coordinates \n",
    "gmsh.model.geo.addPoint(0, 0, 0, lc, 1)\n",
    "gmsh.model.geo.addPoint(1., 0,  0, lc, 2)\n",
    "gmsh.model.geo.addPoint(1., 1., 0, lc, 3)\n",
    "gmsh.model.geo.addPoint(0, 1., 0, lc, 4)\n",
    "#..define four edges by connecting point labels pairwise  \n",
    "gmsh.model.geo.addLine(1, 2, 1)\n",
    "gmsh.model.geo.addLine(2, 3, 2)\n",
    "gmsh.model.geo.addLine(3, 4, 3)\n",
    "gmsh.model.geo.addLine(4, 1, 4)\n",
    "#..define curved loop by connecting four edge labels  \n",
    "gmsh.model.geo.addCurveLoop([1, 2, 3, 4], 1)\n",
    "#..define surface by curved loop \n",
    "gmsh.model.geo.addPlaneSurface([1], 1)\n",
    "#..give label to the surface \n",
    "#..syntax of the function being used is gmsh.model.setPhysicalName(dim, tag, name) \n",
    "gmsh.model.setPhysicalName(2, 1, \"My surface\")\n",
    "#..synchronize model \n",
    "gmsh.model.geo.synchronize()\n",
    "\n",
    "#..3/4: generate two-dimensional mesh \n",
    "gmsh.model.mesh.generate(2)\n",
    "#..if true, write mesh to file for further processing \n",
    "if (true) gmsh.write(\"square.msh\") end \n",
    "#..if true, visualize mesh through the GUI \n",
    "if (false) gmsh.fltk.run() end \n",
    "\n",
    "#..4/4: finalize gmsh \n",
    "gmsh.finalize()"
   ]
  },
  {
   "cell_type": "markdown",
   "metadata": {},
   "source": [
    "## Section 2:/ Read Mesh from file and perform loop over the elements "
   ]
  },
  {
   "cell_type": "markdown",
   "metadata": {},
   "source": [
    "### Section 1.3: Using a struct as in the 1D code"
   ]
  },
  {
   "cell_type": "code",
   "execution_count": 3,
   "metadata": {},
   "outputs": [],
   "source": [
    "# struct to hold 2D point\n",
    "struct Point\n",
    "  x::Float64   # x coordinates\n",
    "  y::Float64   # y coordinates \n",
    "end\n",
    "\n",
    "# struct to hold a single mesh element\n",
    "struct Element\n",
    "  p1::Point       # coordinates first node \n",
    "  p2::Point       # coordinates second node \n",
    "  p3::Point       # coordinates third node     \n",
    "  e1::Int64       # global index first node\n",
    "  e2::Int64       # global index second node\n",
    "  e3::Int64       # global index third node\n",
    "  area::Float64   # area of the element \n",
    "end\n",
    "\n",
    "# struct to hold entire mesh\n",
    "struct Mesh\n",
    "  nnodes::Int64\n",
    "  nelements::Int64\n",
    "  Elements::Array{Element,1}\n",
    "  bndNodeIds::Vector{Int64}\n",
    "  dofPerElement::Int64       \n",
    "end "
   ]
  },
  {
   "cell_type": "code",
   "execution_count": 4,
   "metadata": {},
   "outputs": [
    {
     "data": {
      "text/plain": [
       "area_triangle (generic function with 1 method)"
      ]
     },
     "execution_count": 4,
     "metadata": {},
     "output_type": "execute_result"
    }
   ],
   "source": [
    "# function area_triangle(p1::Point,p2::Point,p3::Point)\n",
    "function area_triangle(p1,p2,p3)    \n",
    "    x12 = p2.x - p1.x; x13 = p3.x-p1.x;\n",
    "    y12 = p2.y - p1.y; y13 = p3.y-p1.y;\n",
    "    area_id = x12*y13 - x13*y12; \n",
    "    area_id = abs(area_id)/2.\n",
    "    return area_id \n",
    "end"
   ]
  },
  {
   "cell_type": "code",
   "execution_count": 5,
   "metadata": {},
   "outputs": [
    {
     "data": {
      "text/plain": [
       "0.5"
      ]
     },
     "execution_count": 5,
     "metadata": {},
     "output_type": "execute_result"
    }
   ],
   "source": [
    "p1 = Point(0.,0.); \n",
    "p2 = Point(1.,0.); \n",
    "p3 = Point(0.,1.); \n",
    "area_triangle(p1,p2,p3)\n",
    "# @code_warntype area_triangle(p1,p2,p3)"
   ]
  },
  {
   "cell_type": "code",
   "execution_count": 6,
   "metadata": {},
   "outputs": [
    {
     "data": {
      "text/plain": [
       "meshFromGmsh (generic function with 1 method)"
      ]
     },
     "execution_count": 6,
     "metadata": {},
     "output_type": "execute_result"
    }
   ],
   "source": [
    "function meshFromGmsh(meshFile) :: Mesh  \n",
    "\n",
    "    #..Initialize GMSH\n",
    "    gmsh.initialize()\n",
    "    \n",
    "    #..Read mesh from file\n",
    "    gmsh.open(meshFile)\n",
    "\n",
    "    #..Get the mesh nodes\n",
    "    #..Observe that although the mesh is two-dimensional,\n",
    "    #..the z-coordinate that is equal to zero is stored as well.\n",
    "    #..Observe that the coordinates are stored contiguously for computational\n",
    "    #..efficiency\n",
    "    node_ids, node_coord, _ = gmsh.model.mesh.getNodes()\n",
    "    nnodes = length(node_ids)\n",
    "    #..sort the node coordinates by ID, such that Node one sits at row 1\n",
    "    tosort = [node_ids node_coord[1:3:end] node_coord[2:3:end]];\n",
    "    sorted = sortslices(tosort , dims = 1);\n",
    "    node_ids = sorted[:,1]\n",
    "    \n",
    "    #..4/12 Get the mesh elements\n",
    "    #..observe that we get all the two-dimensional triangular elements from the mesh\n",
    "    element_types, element_ids, element_connectivity = gmsh.model.mesh.getElements(2)\n",
    "    nelements = length(element_ids[1])\n",
    "      \n",
    "    # what does the undef do here? \n",
    "    Elements = Array{Element,1}(undef,nelements)\n",
    "\n",
    "    for element_id in 1:nelements\n",
    "        e1 = element_connectivity[1][3*(element_id-1)+1]\n",
    "        e2 = element_connectivity[1][3*(element_id-1)+2]\n",
    "        e3 = element_connectivity[1][3*(element_id-1)+3]\n",
    "        p1 = Point(sorted[e1,2], sorted[e1,3])\n",
    "        p2 = Point(sorted[e2,2], sorted[e2,3])\n",
    "        p3 = Point(sorted[e3,2], sorted[e3,3])\n",
    "        area = area_triangle(p1,p2,p3); \n",
    "        Elements[element_id] = Element(p1,p2,p3,e1,e2,e3,area)\n",
    "    end\n",
    "\n",
    "    #..retrieve boundary nodes by loop over corner point and boundary edges\n",
    "    node_ids1=[]; node_ids2=[]; node_ids3=[]; node_ids4=[]; \n",
    "    node_ids5=[]; node_ids6=[]; node_ids7=[]; node_ids8=[]; \n",
    "    node_ids1, node_coord, _ = gmsh.model.mesh.getNodes(0,1)\n",
    "    node_ids2, node_coord, _ = gmsh.model.mesh.getNodes(0,2)\n",
    "    node_ids3, node_coord, _ = gmsh.model.mesh.getNodes(0,3)\n",
    "    node_ids4, node_coord, _ = gmsh.model.mesh.getNodes(0,4)\n",
    "    node_ids5, node_coord, _ = gmsh.model.mesh.getNodes(1,1)\n",
    "    node_ids6, node_coord, _ = gmsh.model.mesh.getNodes(1,2)\n",
    "    node_ids7, node_coord, _ = gmsh.model.mesh.getNodes(1,3)\n",
    "    node_ids8, node_coord, _ = gmsh.model.mesh.getNodes(1,4)\n",
    "    bnd_node_ids = union(node_ids1,node_ids2,node_ids3,node_ids4,node_ids5,node_ids6,node_ids7,node_ids8)\n",
    "    \n",
    "    #..store inside the mesh \n",
    "    dofPerElement = 3\n",
    "    mesh = Mesh(nnodes,nelements,Elements,bnd_node_ids,dofPerElement) \n",
    "    \n",
    "    #..Finalize gmsh\n",
    "    gmsh.finalize()\n",
    "    \n",
    "    return mesh \n",
    "end"
   ]
  },
  {
   "cell_type": "code",
   "execution_count": 7,
   "metadata": {},
   "outputs": [
    {
     "name": "stdout",
     "output_type": "stream",
     "text": [
      "Info    : Reading 'square-1.msh'...\n",
      "Info    : 9 entities\n",
      "Info    : 5 nodes\n",
      "Info    : 12 elements\n",
      "Info    : Done reading 'square-1.msh'\n"
     ]
    },
    {
     "data": {
      "text/plain": [
       "Mesh(5, 4, Element[Element(Point(0.0, 0.0), Point(1.0, 0.0), Point(0.5, 0.5), 1, 2, 5, 0.25), Element(Point(0.0, 1.0), Point(0.0, 0.0), Point(0.5, 0.5), 4, 1, 5, 0.25), Element(Point(1.0, 0.0), Point(1.0, 1.0), Point(0.5, 0.5), 2, 3, 5, 0.25), Element(Point(1.0, 1.0), Point(0.0, 1.0), Point(0.5, 0.5), 3, 4, 5, 0.25)], [1, 2, 3, 4], 3)"
      ]
     },
     "metadata": {},
     "output_type": "display_data"
    },
    {
     "data": {
      "text/plain": [
       "4-element Vector{Element}:\n",
       " Element(Point(0.0, 0.0), Point(1.0, 0.0), Point(0.5, 0.5), 1, 2, 5, 0.25)\n",
       " Element(Point(0.0, 1.0), Point(0.0, 0.0), Point(0.5, 0.5), 4, 1, 5, 0.25)\n",
       " Element(Point(1.0, 0.0), Point(1.0, 1.0), Point(0.5, 0.5), 2, 3, 5, 0.25)\n",
       " Element(Point(1.0, 1.0), Point(0.0, 1.0), Point(0.5, 0.5), 3, 4, 5, 0.25)"
      ]
     },
     "metadata": {},
     "output_type": "display_data"
    },
    {
     "data": {
      "text/plain": [
       "4"
      ]
     },
     "execution_count": 7,
     "metadata": {},
     "output_type": "execute_result"
    }
   ],
   "source": [
    "mesh = meshFromGmsh(\"square-1.msh\")\n",
    "display(mesh)\n",
    "typeof(mesh)\n",
    "display(mesh.Elements)\n",
    "length(mesh.Elements)"
   ]
  },
  {
   "cell_type": "code",
   "execution_count": null,
   "metadata": {},
   "outputs": [],
   "source": [
    "# dump(mesh)"
   ]
  },
  {
   "cell_type": "markdown",
   "metadata": {},
   "source": [
    "## Section 3: Perform a FEM Computation  "
   ]
  },
  {
   "cell_type": "markdown",
   "metadata": {},
   "source": [
    "### Section 1.3: Stiffness Matrix Assembly  "
   ]
  },
  {
   "cell_type": "code",
   "execution_count": 47,
   "metadata": {},
   "outputs": [
    {
     "data": {
      "text/plain": [
       "generateMatrix (generic function with 1 method)"
      ]
     },
     "execution_count": 47,
     "metadata": {},
     "output_type": "execute_result"
    }
   ],
   "source": [
    "function generateLocalMatrix(element::Element)\n",
    "    p1 = element.p1; p2 = element.p2; p3 = element.p3;  \n",
    "    e1 = element.e1; e2 = element.e2; e3 = element.e3;  \n",
    "    area = element.area \n",
    "    Iloc = SVector(e1, e1, e1, e2, e2, e2, e3, e3, e3)\n",
    "    Jloc = SVector(e1, e2, e3, e1, e2, e3, e1, e2, e3)\n",
    "    Xmat = SMatrix{3,3}(p1.x, p1.y, 1, p2.x, p2.y, 1, p3.x, p3.y, 1) \n",
    "    rhs  = SMatrix{3,3}(1., 0., 0., 0., 1., 0., 0., 0., 1.) \n",
    "    Emat = MMatrix{3,3}(Xmat\\rhs);\n",
    "    Emat[3,:] .= 0.;  \n",
    "    Amat = SMatrix{3,3}(area*(transpose(Emat)*Emat));\n",
    "    Aloc = [Amat[1,:] ; Amat[2,:] ; Amat[3,:] ] \n",
    "    return Iloc, Jloc, Aloc\n",
    "end\n",
    "\n",
    "function generateMatrix(mesh::Mesh)\n",
    " \n",
    "    #..recover number of elements  \n",
    "    N::Int64 = length(mesh.Elements) \n",
    "    dofperelem::Int64 = 9;\n",
    "     \n",
    "    #..preallocate the memory for local matrix contributions \n",
    "    Avalues = zeros(Float64,dofperelem*N)\n",
    "    I = zeros(Int64,length(Avalues))\n",
    "    J = zeros(Int64,length(Avalues)) \n",
    "\n",
    "    for i = 1:N #..loop over number of elements..\n",
    "        element          = mesh.Elements[i]\n",
    "        Iloc, Jloc, Aloc = generateLocalMatrix(element)\n",
    "        irng             = mrange(dofperelem*i-8, dofperelem*i) \n",
    "        I[irng]          = Iloc \n",
    "        J[irng]          = Jloc \n",
    "        Avalues[irng]    = Aloc         \n",
    "    end\n",
    "    \n",
    "    A = sparse(I,J,Avalues)\n",
    "   \n",
    "    return A; \n",
    "end"
   ]
  },
  {
   "cell_type": "code",
   "execution_count": 50,
   "metadata": {},
   "outputs": [
    {
     "name": "stdout",
     "output_type": "stream",
     "text": [
      "Info    : Reading 'square-1.msh'...\n",
      "Info    : 9 entities\n",
      "Info    : 5 nodes\n",
      "Info    : 12 elements\n",
      "Info    : Done reading 'square-1.msh'\n"
     ]
    }
   ],
   "source": [
    "mesh = meshFromGmsh(\"square-1.msh\");   A = generateMatrix(mesh); # display(A)"
   ]
  },
  {
   "cell_type": "code",
   "execution_count": 49,
   "metadata": {},
   "outputs": [
    {
     "name": "stdout",
     "output_type": "stream",
     "text": [
      "Info    : Reading 'square-1.msh'...\n",
      "Info    : 9 entities\n",
      "Info    : 5 nodes\n",
      "Info    : 12 elements\n",
      "Info    : Done reading 'square-1.msh'\n",
      "  0.000008 seconds (13 allocations: 2.625 KiB)\n",
      "Info    : Reading 'square-1.msh'...\n",
      "Info    : 9 entities\n",
      "Info    : 5 nodes\n",
      "Info    : 12 elements\n",
      "Info    : Done reading 'square-1.msh'\n",
      "  0.000008 seconds (13 allocations: 2.625 KiB)\n",
      "Info    : Reading 'square-10.msh'...\n",
      "Info    : 9 entities\n",
      "Info    : 142 nodes\n",
      "Info    : 286 elements\n",
      "Info    : Done reading 'square-10.msh'\n",
      "  0.000039 seconds (18 allocations: 103.750 KiB)\n",
      "Info    : Reading 'square-100.msh'...\n",
      "Info    : 9 entities\n",
      "Info    : 11833 nodes\n",
      "Info    : 23668 elements\n",
      "Info    : Done reading 'square-100.msh'\n",
      "  0.002923 seconds (23 allocations: 9.510 MiB)\n"
     ]
    }
   ],
   "source": [
    "mesh = meshFromGmsh(\"square-1.msh\");   @time generateMatrix(mesh); # <= force recompilation \n",
    "mesh = meshFromGmsh(\"square-1.msh\");   @time generateMatrix(mesh); \n",
    "mesh = meshFromGmsh(\"square-10.msh\");  @time generateMatrix(mesh); \n",
    "mesh = meshFromGmsh(\"square-100.msh\"); @time generateMatrix(mesh); "
   ]
  },
  {
   "cell_type": "code",
   "execution_count": 20,
   "metadata": {},
   "outputs": [
    {
     "data": {
      "text/plain": [
       "Mesh"
      ]
     },
     "execution_count": 20,
     "metadata": {},
     "output_type": "execute_result"
    }
   ],
   "source": [
    "typeof(mesh)"
   ]
  },
  {
   "cell_type": "code",
   "execution_count": null,
   "metadata": {},
   "outputs": [],
   "source": [
    "#display(mesh.Elements[1])"
   ]
  },
  {
   "cell_type": "code",
   "execution_count": null,
   "metadata": {},
   "outputs": [],
   "source": [
    "#display(mesh.bndNodeIds)"
   ]
  },
  {
   "cell_type": "code",
   "execution_count": null,
   "metadata": {},
   "outputs": [],
   "source": []
  },
  {
   "cell_type": "code",
   "execution_count": null,
   "metadata": {},
   "outputs": [],
   "source": [
    "Iloc, Jloc, Aloc = generateLocalMatrix(mesh.Elements[1]); \n",
    "display(Iloc)\n",
    "display(Jloc)\n",
    "display(Aloc)"
   ]
  },
  {
   "cell_type": "code",
   "execution_count": 51,
   "metadata": {},
   "outputs": [],
   "source": [
    "#@code_warntype generateLocalMatrix(mesh.Elements[1])"
   ]
  },
  {
   "cell_type": "markdown",
   "metadata": {},
   "source": [
    "### Section 2.3: Mass Matrix Assembly (later)"
   ]
  },
  {
   "cell_type": "code",
   "execution_count": null,
   "metadata": {},
   "outputs": [],
   "source": []
  },
  {
   "cell_type": "markdown",
   "metadata": {},
   "source": [
    "### Section 3.3: Right-Hand Side Assembly  "
   ]
  },
  {
   "cell_type": "code",
   "execution_count": null,
   "metadata": {},
   "outputs": [],
   "source": [
    "sourceFct(x,y) = x+y"
   ]
  },
  {
   "cell_type": "code",
   "execution_count": 54,
   "metadata": {},
   "outputs": [],
   "source": [
    "# callable struct allowing type-stable implementation of RHS-vector assembly \n",
    "struct SrcFunction{Float64}\n",
    "    dummy::Float64\n",
    "end"
   ]
  },
  {
   "cell_type": "code",
   "execution_count": 55,
   "metadata": {},
   "outputs": [],
   "source": [
    "# source function attached to the callable struct \n",
    "function (scrFunction::SrcFunction)(x,y)\n",
    "    return x+y\n",
    "end "
   ]
  },
  {
   "cell_type": "code",
   "execution_count": 56,
   "metadata": {},
   "outputs": [
    {
     "data": {
      "text/plain": [
       "SrcFunction{Float64}(0.0)"
      ]
     },
     "execution_count": 56,
     "metadata": {},
     "output_type": "execute_result"
    }
   ],
   "source": [
    "mySrcFunction = SrcFunction(0.)"
   ]
  },
  {
   "cell_type": "code",
   "execution_count": 57,
   "metadata": {},
   "outputs": [
    {
     "data": {
      "text/plain": [
       "3"
      ]
     },
     "execution_count": 57,
     "metadata": {},
     "output_type": "execute_result"
    }
   ],
   "source": [
    "mySrcFunction(1,2)"
   ]
  },
  {
   "cell_type": "code",
   "execution_count": 62,
   "metadata": {},
   "outputs": [
    {
     "data": {
      "text/plain": [
       "generateVector (generic function with 2 methods)"
      ]
     },
     "execution_count": 62,
     "metadata": {},
     "output_type": "execute_result"
    }
   ],
   "source": [
    "function generateLocalVector(element::Element, sourceFct::SrcFunction)\n",
    "    p1 = element.p1; p2 = element.p2; p3 = element.p3;  \n",
    "    e1 = element.e1; e2 = element.e2; e3 = element.e3;  \n",
    "    area = element.area \n",
    "    Iloc = SVector(e1, e2, e3) \n",
    "    # use broadcast for the lines below instead \n",
    "    f1 = area/3*sourceFct(p1.x,p1.y)\n",
    "    f2 = area/3*sourceFct(p2.x,p2.y)\n",
    "    f3 = area/3*sourceFct(p3.x,p3.y)\n",
    "    floc = SVector(f1, f2, f3) \n",
    "    return Iloc, floc\n",
    "end\n",
    "\n",
    "function generateVector(mesh, sourceFct::SrcFunction)\n",
    " \n",
    "    #..recover number of elements  \n",
    "    N::Int64 = length(mesh.Elements)\n",
    "    nnodes = mesh.nnodes \n",
    "     \n",
    "    #..preallocate the memory for local matrix contributions \n",
    "    f = zeros(Float64,nnodes)\n",
    "\n",
    "    for i = 1:N #..loop over number of elements..\n",
    "        element::Element = mesh.Elements[i]\n",
    "        Iloc, floc = generateLocalVector(element,sourceFct)\n",
    "        f[Iloc] += floc \n",
    "    end\n",
    "       \n",
    "    return f; \n",
    "end"
   ]
  },
  {
   "cell_type": "code",
   "execution_count": 63,
   "metadata": {},
   "outputs": [
    {
     "data": {
      "text/plain": [
       "11833-element Vector{Float64}:\n",
       " 0.0\n",
       " 2.4231975485123897e-5\n",
       " 4.8803387171609125e-5\n",
       " 2.4401693585828913e-5\n",
       " 3.9339019913250214e-7\n",
       " 7.667587030139228e-7\n",
       " 1.165841385606723e-6\n",
       " 1.5710936218213712e-6\n",
       " 2.709380367217487e-6\n",
       " 2.1847162526161984e-6\n",
       " 2.9816713271991472e-6\n",
       " 3.4641016151201457e-6\n",
       " 3.897114317010688e-6\n",
       " ⋮\n",
       " 0.0001019480386348757\n",
       " 4.959238992015573e-5\n",
       " 5.442001798246822e-6\n",
       " 1.769693479753941e-5\n",
       " 9.343690649844386e-5\n",
       " 7.109240636943977e-5\n",
       " 8.604923377080728e-5\n",
       " 4.97793745135571e-5\n",
       " 8.051543262111135e-5\n",
       " 5.460400136570139e-5\n",
       " 5.511434192518242e-5\n",
       " 9.958912650151141e-5"
      ]
     },
     "execution_count": 63,
     "metadata": {},
     "output_type": "execute_result"
    }
   ],
   "source": [
    "f = generateVector(mesh,mySrcFunction)"
   ]
  },
  {
   "cell_type": "code",
   "execution_count": 64,
   "metadata": {},
   "outputs": [
    {
     "name": "stdout",
     "output_type": "stream",
     "text": [
      "Info    : Reading 'square-1.msh'...\n",
      "Info    : 9 entities\n",
      "Info    : 5 nodes\n",
      "Info    : 12 elements\n",
      "Info    : Done reading 'square-1.msh'\n",
      "  0.000016 seconds (1 allocation: 96 bytes)\n",
      "Info    : Reading 'square-1.msh'...\n",
      "Info    : 9 entities\n",
      "Info    : 5 nodes\n",
      "Info    : 12 elements\n",
      "Info    : Done reading 'square-1.msh'\n",
      "  0.000003 seconds (1 allocation: 96 bytes)\n",
      "Info    : Reading 'square-10.msh'...\n",
      "Info    : 9 entities\n",
      "Info    : 142 nodes\n",
      "Info    : 286 elements\n",
      "Info    : Done reading 'square-10.msh'\n",
      "  0.000008 seconds (1 allocation: 1.219 KiB)\n",
      "Info    : Reading 'square-100.msh'...\n",
      "Info    : 9 entities\n",
      "Info    : 11833 nodes\n",
      "Info    : 23668 elements\n",
      "Info    : Done reading 'square-100.msh'\n",
      "  0.000065 seconds (2 allocations: 92.547 KiB)\n"
     ]
    }
   ],
   "source": [
    "mesh = meshFromGmsh(\"square-1.msh\");   @time generateVector(mesh,mySrcFunction); # <= force recompilation\n",
    "mesh = meshFromGmsh(\"square-1.msh\");   @time generateVector(mesh,mySrcFunction); \n",
    "mesh = meshFromGmsh(\"square-10.msh\");  @time generateVector(mesh,mySrcFunction); \n",
    "mesh = meshFromGmsh(\"square-100.msh\"); @time generateVector(mesh,mySrcFunction); "
   ]
  },
  {
   "cell_type": "markdown",
   "metadata": {},
   "source": [
    "### Section 4.3: Handle Essential Boundary Conditions "
   ]
  },
  {
   "cell_type": "code",
   "execution_count": 69,
   "metadata": {},
   "outputs": [
    {
     "name": "stdout",
     "output_type": "stream",
     "text": [
      "Info    : Reading 'square-1.msh'...\n",
      "Info    : 9 entities\n",
      "Info    : 5 nodes\n",
      "Info    : 12 elements\n",
      "Info    : Done reading 'square-1.msh'\n"
     ]
    },
    {
     "ename": "LoadError",
     "evalue": "UndefVarError: generateSolution not defined",
     "output_type": "error",
     "traceback": [
      "UndefVarError: generateSolution not defined",
      "",
      "Stacktrace:",
      " [1] top-level scope",
      "   @ ./timing.jl:262 [inlined]",
      " [2] top-level scope",
      "   @ ./In[69]:0"
     ]
    }
   ],
   "source": [
    "mesh = meshFromGmsh(\"square-1.msh\");   \n",
    "A = generateMatrix(mesh); f= generateVector(mesh,mySrcFunction); # <= force recompilation\n",
    "@time u = generateSolution(mesh,A,f)"
   ]
  },
  {
   "cell_type": "code",
   "execution_count": 70,
   "metadata": {},
   "outputs": [
    {
     "data": {
      "text/plain": [
       "handleBoundary! (generic function with 1 method)"
      ]
     },
     "execution_count": 70,
     "metadata": {},
     "output_type": "execute_result"
    }
   ],
   "source": [
    "function handleBoundary!(mesh,A,f)\n",
    "    \n",
    "    bndNodeIds = mesh.bndNodeIds; \n",
    "    \n",
    "    #..handle essential boundary conditions \n",
    "    A[bndNodeIds,:] .= 0;\n",
    "    A[bndNodeIds,bndNodeIds] = Diagonal(ones(size(bndNodeIds)))\n",
    "    f[bndNodeIds] .= 0;\n",
    "    return A, f  \n",
    "end"
   ]
  },
  {
   "cell_type": "code",
   "execution_count": 71,
   "metadata": {},
   "outputs": [
    {
     "data": {
      "text/plain": [
       "(sparse([1, 2, 4, 5, 1, 2, 3, 5, 2, 3  …  5, 1, 3, 4, 5, 1, 2, 3, 4, 5], [1, 1, 1, 1, 2, 2, 2, 2, 3, 3  …  3, 4, 4, 4, 4, 5, 5, 5, 5, 5], [1.0, 0.0, 0.0, -0.5, 0.0, 1.0, 0.0, -0.5, 0.0, 1.0  …  -0.5, 0.0, 0.0, 1.0, -0.5, 0.0, 0.0, 0.0, 0.0, 1.0], 5, 5), [0.0, 0.0, 0.0, 0.0, 0.3333333333333333])"
      ]
     },
     "execution_count": 71,
     "metadata": {},
     "output_type": "execute_result"
    }
   ],
   "source": [
    "A,f = handleBoundary!(mesh,A,f)"
   ]
  },
  {
   "cell_type": "code",
   "execution_count": null,
   "metadata": {},
   "outputs": [],
   "source": []
  },
  {
   "cell_type": "code",
   "execution_count": null,
   "metadata": {},
   "outputs": [],
   "source": []
  },
  {
   "cell_type": "markdown",
   "metadata": {},
   "source": [
    "### Section 5.3: Solve Linear System "
   ]
  },
  {
   "cell_type": "code",
   "execution_count": 72,
   "metadata": {},
   "outputs": [
    {
     "data": {
      "text/plain": [
       "5-element Vector{Float64}:\n",
       " 0.0\n",
       " 0.0\n",
       " 0.0\n",
       " 0.0\n",
       " 0.3333333333333333"
      ]
     },
     "execution_count": 72,
     "metadata": {},
     "output_type": "execute_result"
    }
   ],
   "source": [
    "function generateSolution(mesh,A,f)\n",
    "\n",
    "    A, f = handleBoundary!(mesh,A,f)\n",
    "    u = A\\f \n",
    "    return u \n",
    "end\n",
    "\n",
    "u = generateSolution(mesh,A,f) # force compilation "
   ]
  },
  {
   "cell_type": "code",
   "execution_count": null,
   "metadata": {},
   "outputs": [
    {
     "name": "stdout",
     "output_type": "stream",
     "text": [
      "Info    : Reading 'square-1.msh'...\n",
      "Info    : 9 entities\n",
      "Info    : 5 nodes\n",
      "Info    : 12 elements\n",
      "Info    : Done reading 'square-1.msh'\n",
      "  0.000054 seconds (14 allocations: 2.672 KiB)\n",
      "  0.000086 seconds (12 allocations: 2.547 KiB)\n",
      "Info    : Reading 'square-1.msh'...\n",
      "Info    : 9 entities\n",
      "Info    : 5 nodes\n",
      "Info    : 12 elements\n",
      "Info    : Done reading 'square-1.msh'\n",
      "  0.000015 seconds (14 allocations: 2.672 KiB)\n",
      "  0.000034 seconds (12 allocations: 2.547 KiB)\n",
      "Info    : Reading 'square-10.msh'...\n",
      "Info    : 9 entities\n",
      "Info    : 142 nodes\n",
      "Info    : 286 elements\n",
      "Info    : Done reading 'square-10.msh'\n",
      "  0.000079 seconds (19 allocations: 103.797 KiB)\n",
      "  0.000434 seconds (79 allocations: 301.445 KiB)\n",
      "Info    : Reading 'square-100.msh'...\n",
      "Info    : 9 entities\n",
      "Info    : 11833 nodes\n",
      "Info    : 23668 elements\n",
      "Info    : Done reading 'square-100.msh'\n",
      "  0.004166 seconds (24 allocations: 9.510 MiB)\n"
     ]
    }
   ],
   "source": [
    "mesh = meshFromGmsh(\"square-1.msh\");   \n",
    "@time A = generateMatrix(mesh); f= generateVector(mesh,mySrcFunction); # <= force recompilation\n",
    "@time u = generateSolution(mesh,A,f)\n",
    "\n",
    "mesh = meshFromGmsh(\"square-1.msh\");   \n",
    "@time A = generateMatrix(mesh); f= generateVector(mesh,mySrcFunction); \n",
    "@time u = generateSolution(mesh,A,f)\n",
    "\n",
    "mesh = meshFromGmsh(\"square-10.msh\");  \n",
    "@time A = generateMatrix(mesh); f= generateVector(mesh,mySrcFunction); \n",
    "@time u = generateSolution(mesh,A,f)\n",
    "\n",
    "mesh = meshFromGmsh(\"square-100.msh\"); \n",
    "@time A = generateMatrix(mesh); f= generateVector(mesh,mySrcFunction); \n",
    "@time u = generateSolution(mesh,A,f)\n",
    "\n",
    "mesh = meshFromGmsh(\"square-1000.msh\"); \n",
    "@time A = generateMatrix(mesh); f= generateVector(mesh,mySrcFunction); \n",
    "@time u = generateSolution(mesh,A,f)"
   ]
  },
  {
   "cell_type": "code",
   "execution_count": null,
   "metadata": {},
   "outputs": [],
   "source": []
  }
 ],
 "metadata": {
  "kernelspec": {
   "display_name": "Julia 1.8.1",
   "language": "julia",
   "name": "julia-1.8"
  },
  "language_info": {
   "file_extension": ".jl",
   "mimetype": "application/julia",
   "name": "julia",
   "version": "1.8.1"
  }
 },
 "nbformat": 4,
 "nbformat_minor": 2
}
