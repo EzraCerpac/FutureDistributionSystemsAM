{
 "cells": [
  {
   "cell_type": "markdown",
   "id": "a7105abd",
   "metadata": {},
   "source": [
    "# Notes on Struct and StructArray \n",
    "\n",
    "Based on [this post](https://discourse.julialang.org/t/understanding-and-avoiding-allocations-with-structarrays/46880/3)."
   ]
  },
  {
   "cell_type": "code",
   "execution_count": 2,
   "id": "9cfb5848",
   "metadata": {},
   "outputs": [],
   "source": [
    "using LinearAlgebra \n",
    "using SparseArrays \n",
    "using StructArrays\n",
    "using StaticArrays\n",
    "\n",
    "using IterativeSolvers\n",
    "using Preconditioners\n",
    "\n",
    "using BenchmarkTools\n",
    "using Profile\n",
    "using ProfileView\n",
    "\n",
    "using Plots "
   ]
  },
  {
   "cell_type": "markdown",
   "id": "6f4ac62e",
   "metadata": {},
   "source": [
    "## Section 1: Parametrized Struct \n",
    "\n",
    "Assign a 3-vector to a point. "
   ]
  },
  {
   "cell_type": "code",
   "execution_count": 19,
   "id": "02a280eb",
   "metadata": {},
   "outputs": [
    {
     "data": {
      "text/plain": [
       "Foo{Int64}(2, [-1, 0, 1])"
      ]
     },
     "metadata": {},
     "output_type": "display_data"
    },
    {
     "data": {
      "text/plain": [
       "2"
      ]
     },
     "metadata": {},
     "output_type": "display_data"
    },
    {
     "data": {
      "text/plain": [
       "3-element SVector{3, Int64} with indices SOneTo(3):\n",
       " -1\n",
       "  0\n",
       "  1"
      ]
     },
     "metadata": {},
     "output_type": "display_data"
    },
    {
     "data": {
      "text/plain": [
       "Foo{Float64}(2, [-1.0, 0.0, 1.0])"
      ]
     },
     "metadata": {},
     "output_type": "display_data"
    },
    {
     "data": {
      "text/plain": [
       "2"
      ]
     },
     "metadata": {},
     "output_type": "display_data"
    },
    {
     "data": {
      "text/plain": [
       "3-element SVector{3, Float64} with indices SOneTo(3):\n",
       " -1.0\n",
       "  0.0\n",
       "  1.0"
      ]
     },
     "metadata": {},
     "output_type": "display_data"
    }
   ],
   "source": [
    "struct Foo{T}\n",
    "    idx::Int \n",
    "    vec::SVector{3,T}\n",
    "end\n",
    "\n",
    "fInt = Foo{Int}(2, @SVector [-1,0,1])\n",
    "\n",
    "display(fInt)\n",
    "display(getfield(fInt, 1))\n",
    "display(getfield(fInt, 2))\n",
    "\n",
    "fFloat = Foo{Float64}(2, @SVector [-1.,0.,1.])\n",
    "\n",
    "display(fFloat)\n",
    "display(getfield(fFloat, 1))\n",
    "display(getfield(fFloat, 2))"
   ]
  },
  {
   "cell_type": "code",
   "execution_count": 21,
   "id": "24ecc2f5",
   "metadata": {},
   "outputs": [
    {
     "name": "stdout",
     "output_type": "stream",
     "text": [
      "search: \u001b[0m\u001b[1mg\u001b[22m\u001b[0m\u001b[1me\u001b[22m\u001b[0m\u001b[1mt\u001b[22m\u001b[0m\u001b[1mp\u001b[22m\u001b[0m\u001b[1mr\u001b[22m\u001b[0m\u001b[1mo\u001b[22m\u001b[0m\u001b[1mp\u001b[22m\u001b[0m\u001b[1me\u001b[22m\u001b[0m\u001b[1mr\u001b[22m\u001b[0m\u001b[1mt\u001b[22m\u001b[0m\u001b[1my\u001b[22m\n",
      "\n"
     ]
    },
    {
     "data": {
      "text/latex": [
       "\\begin{verbatim}\n",
       "getproperty(value, name::Symbol)\n",
       "getproperty(value, name::Symbol, order::Symbol)\n",
       "\\end{verbatim}\n",
       "The syntax \\texttt{a.b} calls \\texttt{getproperty(a, :b)}. The syntax \\texttt{@atomic order a.b} calls \\texttt{getproperty(a, :b, :order)} and the syntax \\texttt{@atomic a.b} calls \\texttt{getproperty(a, :b, :sequentially\\_consistent)}.\n",
       "\n",
       "\\section{Examples}\n",
       "\\begin{verbatim}\n",
       "julia> struct MyType\n",
       "           x\n",
       "       end\n",
       "\n",
       "julia> function Base.getproperty(obj::MyType, sym::Symbol)\n",
       "           if sym === :special\n",
       "               return obj.x + 1\n",
       "           else # fallback to getfield\n",
       "               return getfield(obj, sym)\n",
       "           end\n",
       "       end\n",
       "\n",
       "julia> obj = MyType(1);\n",
       "\n",
       "julia> obj.special\n",
       "2\n",
       "\n",
       "julia> obj.x\n",
       "1\n",
       "\\end{verbatim}\n",
       "See also \\href{@ref Core.getfield}{\\texttt{getfield}}, \\href{@ref Base.propertynames}{\\texttt{propertynames}} and \\href{@ref Base.setproperty!}{\\texttt{setproperty!}}.\n",
       "\n"
      ],
      "text/markdown": [
       "```\n",
       "getproperty(value, name::Symbol)\n",
       "getproperty(value, name::Symbol, order::Symbol)\n",
       "```\n",
       "\n",
       "The syntax `a.b` calls `getproperty(a, :b)`. The syntax `@atomic order a.b` calls `getproperty(a, :b, :order)` and the syntax `@atomic a.b` calls `getproperty(a, :b, :sequentially_consistent)`.\n",
       "\n",
       "# Examples\n",
       "\n",
       "```jldoctest\n",
       "julia> struct MyType\n",
       "           x\n",
       "       end\n",
       "\n",
       "julia> function Base.getproperty(obj::MyType, sym::Symbol)\n",
       "           if sym === :special\n",
       "               return obj.x + 1\n",
       "           else # fallback to getfield\n",
       "               return getfield(obj, sym)\n",
       "           end\n",
       "       end\n",
       "\n",
       "julia> obj = MyType(1);\n",
       "\n",
       "julia> obj.special\n",
       "2\n",
       "\n",
       "julia> obj.x\n",
       "1\n",
       "```\n",
       "\n",
       "See also [`getfield`](@ref Core.getfield), [`propertynames`](@ref Base.propertynames) and [`setproperty!`](@ref Base.setproperty!).\n"
      ],
      "text/plain": [
       "  \u001b[38;5;81mgetproperty\u001b[0m(\u001b[0m\u001b[39mvalue\u001b[0m\u001b[39m,\u001b[0m \u001b[0m\u001b[39mname\u001b[0m\u001b[38;5;197m::\u001b[0m\u001b[39mSymbol\u001b[0m\u001b[39m)\u001b[0m\n",
       "  \u001b[0m\u001b[38;5;81mgetproperty\u001b[0m(\u001b[0m\u001b[39mvalue\u001b[0m\u001b[39m,\u001b[0m \u001b[0m\u001b[39mname\u001b[0m\u001b[38;5;197m::\u001b[0m\u001b[39mSymbol\u001b[0m\u001b[39m,\u001b[0m \u001b[0m\u001b[39morder\u001b[0m\u001b[38;5;197m::\u001b[0m\u001b[39mSymbol\u001b[0m\u001b[39m)\u001b[0m\n",
       "\n",
       "\n",
       "  The syntax \u001b[36ma.b\u001b[39m calls \u001b[36mgetproperty(a, :b)\u001b[39m. The syntax \u001b[36m@atomic order a.b\u001b[39m calls\n",
       "  \u001b[36mgetproperty(a, :b, :order)\u001b[39m and the syntax \u001b[36m@atomic a.b\u001b[39m calls \u001b[36mgetproperty(a,\n",
       "  :b, :sequentially_consistent)\u001b[39m.\n",
       "\n",
       "\u001b[1m  Examples\u001b[22m\n",
       "\u001b[1m  ≡≡≡≡≡≡≡≡≡≡\u001b[22m\n",
       "\n",
       "  \u001b[31;1mjulia> \u001b[0m\u001b[38;5;197m\u001b[0m\u001b[38;5;197mstruct\u001b[0m \u001b[0m\u001b[39mMyType\u001b[0m\n",
       "             \u001b[0m\u001b[39mx\u001b[0m\n",
       "         \u001b[0m\u001b[38;5;197mend\u001b[0m\n",
       "  \u001b[0m\n",
       "  \u001b[31;1mjulia> \u001b[0m\u001b[38;5;197mfunction\u001b[0m \u001b[0m\u001b[39mBase\u001b[0m\u001b[38;5;197m.\u001b[0m\u001b[38;5;81mgetproperty\u001b[0m(\u001b[0m\u001b[39mobj\u001b[0m\u001b[38;5;197m::\u001b[0m\u001b[39mMyType\u001b[0m\u001b[39m,\u001b[0m \u001b[0m\u001b[39msym\u001b[0m\u001b[38;5;197m::\u001b[0m\u001b[39mSymbol\u001b[0m\u001b[39m)\u001b[0m\n",
       "             \u001b[0m\u001b[38;5;197mif\u001b[0m \u001b[0m\u001b[39msym\u001b[0m \u001b[0m\u001b[38;5;197m===\u001b[0m \u001b[0m\u001b[38;5;141m:\u001b[0m\u001b[38;5;141mspecial\u001b[0m\n",
       "                 \u001b[0m\u001b[38;5;197mreturn\u001b[0m \u001b[0m\u001b[39mobj\u001b[0m\u001b[38;5;197m.\u001b[0m\u001b[39mx\u001b[0m \u001b[0m\u001b[38;5;197m+\u001b[0m \u001b[0m\u001b[38;5;141m1\u001b[0m\n",
       "             \u001b[0m\u001b[38;5;197melse\u001b[0m \u001b[0m\u001b[38;5;240m# fallback to getfield\u001b[0m\n",
       "                 \u001b[0m\u001b[38;5;197mreturn\u001b[0m \u001b[0m\u001b[38;5;81mgetfield\u001b[0m(\u001b[0m\u001b[39mobj\u001b[0m\u001b[39m,\u001b[0m \u001b[0m\u001b[39msym\u001b[0m\u001b[39m)\u001b[0m\n",
       "             \u001b[0m\u001b[38;5;197mend\u001b[0m\n",
       "         \u001b[0m\u001b[38;5;197mend\u001b[0m\n",
       "  \u001b[0m\n",
       "  \u001b[31;1mjulia> \u001b[0m\u001b[39mobj\u001b[0m \u001b[0m\u001b[38;5;197m=\u001b[0m \u001b[0m\u001b[38;5;81mMyType\u001b[0m(\u001b[0m\u001b[38;5;141m1\u001b[0m\u001b[39m)\u001b[0m\u001b[39m;\u001b[0m\n",
       "  \u001b[0m\n",
       "  \u001b[31;1mjulia> \u001b[0m\u001b[39mobj\u001b[0m\u001b[38;5;197m.\u001b[0m\u001b[39mspecial\u001b[0m\n",
       "  \u001b[0m2\n",
       "  \n",
       "  \u001b[31;1mjulia> \u001b[0m\u001b[39mobj\u001b[0m\u001b[38;5;197m.\u001b[0m\u001b[39mx\u001b[0m\n",
       "  \u001b[0m1\n",
       "\n",
       "\n",
       "  See also \u001b[36mgetfield\u001b[39m, \u001b[36mpropertynames\u001b[39m and \u001b[36msetproperty!\u001b[39m."
      ]
     },
     "execution_count": 21,
     "metadata": {},
     "output_type": "execute_result"
    }
   ],
   "source": [
    "?getproperty"
   ]
  },
  {
   "cell_type": "code",
   "execution_count": 20,
   "id": "3cbfea61",
   "metadata": {},
   "outputs": [
    {
     "ename": "LoadError",
     "evalue": "type Int64 has no field vec",
     "output_type": "error",
     "traceback": [
      "type Int64 has no field vec",
      "",
      "Stacktrace:",
      " [1] getproperty(x::Int64, f::Symbol)",
      "   @ Base ./Base.jl:38",
      " [2] top-level scope",
      "   @ In[20]:1"
     ]
    }
   ],
   "source": [
    "getproperty(getfield(fFloat, 1), :vec)\n",
    "# getproperty(getfield(fFloat, 1), :vec)[getfield(f, 2)] = val"
   ]
  },
  {
   "cell_type": "code",
   "execution_count": null,
   "id": "ab55be62",
   "metadata": {},
   "outputs": [],
   "source": []
  },
  {
   "cell_type": "code",
   "execution_count": null,
   "id": "930ae6f3",
   "metadata": {},
   "outputs": [],
   "source": []
  },
  {
   "cell_type": "markdown",
   "id": "73275d86",
   "metadata": {},
   "source": [
    "## Section 2: StructArray "
   ]
  },
  {
   "cell_type": "code",
   "execution_count": 22,
   "id": "e937a029",
   "metadata": {},
   "outputs": [
    {
     "data": {
      "text/plain": [
       "testnoalloc (generic function with 1 method)"
      ]
     },
     "execution_count": 22,
     "metadata": {},
     "output_type": "execute_result"
    }
   ],
   "source": [
    "struct Foo{T}\n",
    "    idx::Int \n",
    "    vec::SVector{3,T}\n",
    "end\n",
    "\n",
    "#..structarray holds points and 3-vectors \n",
    "sarr = StructArray(Foo{Float64}(i, zeros(3)) for i in 1:5)\n",
    "\n",
    "#..constant 3-vector\n",
    "val = @SVector [1.,2.,3.]\n",
    "\n",
    "#..assign given 3-vector to each point of array:: version-1:: allocing in older julia \n",
    "function testalloc(sarr, val)\n",
    "    for f in LazyRows(sarr)\n",
    "        f.vec = val\n",
    "    end\n",
    "end\n",
    "\n",
    "# This function does not allocate, I just replaced the f.vec call by the inlined equivalent.\n",
    "function testnoalloc(sarr, val)\n",
    "    for f in LazyRows(sarr)\n",
    "        display(getproperty(getfield(f, 1), :vec))\n",
    "        getproperty(getfield(f, 1), :vec)[getfield(f, 2)] = val\n",
    "    end\n",
    "end"
   ]
  },
  {
   "cell_type": "code",
   "execution_count": 24,
   "id": "47797689",
   "metadata": {},
   "outputs": [
    {
     "data": {
      "text/plain": [
       "5-element Vector{SVector{3, Float64}}:\n",
       " [1.0, 2.0, 3.0]\n",
       " [1.0, 2.0, 3.0]\n",
       " [1.0, 2.0, 3.0]\n",
       " [1.0, 2.0, 3.0]\n",
       " [1.0, 2.0, 3.0]"
      ]
     },
     "metadata": {},
     "output_type": "display_data"
    },
    {
     "data": {
      "text/plain": [
       "5-element Vector{SVector{3, Float64}}:\n",
       " [1.0, 2.0, 3.0]\n",
       " [1.0, 2.0, 3.0]\n",
       " [1.0, 2.0, 3.0]\n",
       " [1.0, 2.0, 3.0]\n",
       " [1.0, 2.0, 3.0]"
      ]
     },
     "metadata": {},
     "output_type": "display_data"
    },
    {
     "data": {
      "text/plain": [
       "5-element Vector{SVector{3, Float64}}:\n",
       " [1.0, 2.0, 3.0]\n",
       " [1.0, 2.0, 3.0]\n",
       " [1.0, 2.0, 3.0]\n",
       " [1.0, 2.0, 3.0]\n",
       " [1.0, 2.0, 3.0]"
      ]
     },
     "metadata": {},
     "output_type": "display_data"
    },
    {
     "data": {
      "text/plain": [
       "5-element Vector{SVector{3, Float64}}:\n",
       " [1.0, 2.0, 3.0]\n",
       " [1.0, 2.0, 3.0]\n",
       " [1.0, 2.0, 3.0]\n",
       " [1.0, 2.0, 3.0]\n",
       " [1.0, 2.0, 3.0]"
      ]
     },
     "metadata": {},
     "output_type": "display_data"
    },
    {
     "data": {
      "text/plain": [
       "5-element Vector{SVector{3, Float64}}:\n",
       " [1.0, 2.0, 3.0]\n",
       " [1.0, 2.0, 3.0]\n",
       " [1.0, 2.0, 3.0]\n",
       " [1.0, 2.0, 3.0]\n",
       " [1.0, 2.0, 3.0]"
      ]
     },
     "metadata": {},
     "output_type": "display_data"
    },
    {
     "data": {
      "text/plain": [
       "5-element StructArray(::Vector{Int64}, ::Vector{SVector{3, Float64}}) with eltype Foo{Float64}:\n",
       " Foo{Float64}(1, [1.0, 2.0, 3.0])\n",
       " Foo{Float64}(2, [1.0, 2.0, 3.0])\n",
       " Foo{Float64}(3, [1.0, 2.0, 3.0])\n",
       " Foo{Float64}(4, [1.0, 2.0, 3.0])\n",
       " Foo{Float64}(5, [1.0, 2.0, 3.0])"
      ]
     },
     "execution_count": 24,
     "metadata": {},
     "output_type": "execute_result"
    }
   ],
   "source": [
    "testnoalloc(sarr, val)\n",
    "sarr"
   ]
  },
  {
   "cell_type": "code",
   "execution_count": null,
   "id": "a3d9dae2",
   "metadata": {},
   "outputs": [],
   "source": []
  },
  {
   "cell_type": "code",
   "execution_count": 5,
   "id": "75fb850a",
   "metadata": {},
   "outputs": [
    {
     "name": "stdout",
     "output_type": "stream",
     "text": [
      "  513.453 ns (0 allocations: 0 bytes)\n",
      "  513.672 ns (0 allocations: 0 bytes)\n"
     ]
    }
   ],
   "source": [
    "@btime testalloc($sarr, $val)\n",
    "@btime testnoalloc($sarr, $val)"
   ]
  },
  {
   "cell_type": "code",
   "execution_count": null,
   "id": "b62ca50b",
   "metadata": {},
   "outputs": [],
   "source": []
  }
 ],
 "metadata": {
  "kernelspec": {
   "display_name": "Julia 1.8.1",
   "language": "julia",
   "name": "julia-1.8"
  },
  "language_info": {
   "file_extension": ".jl",
   "mimetype": "application/julia",
   "name": "julia",
   "version": "1.8.1"
  }
 },
 "nbformat": 4,
 "nbformat_minor": 5
}
