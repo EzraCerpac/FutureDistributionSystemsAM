{
 "cells": [
  {
   "cell_type": "markdown",
   "metadata": {},
   "source": [
    "# EE4375-2022: Extension to Sixth Lab Session to second order elements"
   ]
  },
  {
   "cell_type": "markdown",
   "metadata": {},
   "source": []
  },
  {
   "cell_type": "markdown",
   "metadata": {},
   "source": [
    "## Import Packages"
   ]
  },
  {
   "cell_type": "code",
   "execution_count": 14,
   "metadata": {},
   "outputs": [],
   "source": [
    "import Gmsh: gmsh \n",
    "using GR \n",
    "using LinearAlgebra\n",
    "using SparseArrays \n",
    "using Plots\n",
    "using LaTeXStrings"
   ]
  },
  {
   "cell_type": "markdown",
   "metadata": {},
   "source": [
    "## Section 1: Geometry and Mesh Generation of Unit Square Geometry "
   ]
  },
  {
   "cell_type": "code",
   "execution_count": 15,
   "metadata": {},
   "outputs": [
    {
     "name": "stdout",
     "output_type": "stream",
     "text": [
      "Info    : Meshing 1D...\n",
      "Info    : [  0%] Meshing curve 1 (Line)\n",
      "Info    : [ 30%] Meshing curve 2 (Line)\n",
      "Info    : [ 50%] Meshing curve 3 (Line)\n",
      "Info    : [ 80%] Meshing curve 4 (Line)\n",
      "Info    : Done meshing 1D (Wall 0.000502209s, CPU 0.000388s)\n",
      "Info    : Meshing 2D...\n",
      "Info    : Meshing surface 1 (Plane, Frontal-Delaunay)\n",
      "Info    : Done meshing 2D (Wall 0.000499417s, CPU 0.000422s)\n",
      "Info    : Meshing order 2 (curvilinear off)...\n",
      "Info    : [  0%] Meshing curve 1 order 2\n",
      "Info    : [ 20%] Meshing curve 2 order 2\n",
      "Info    : [ 40%] Meshing curve 3 order 2\n",
      "Info    : [ 60%] Meshing curve 4 order 2\n",
      "Info    : [ 80%] Meshing surface 1 order 2\n",
      "Info    : Surface mesh: worst distortion = 1 (0 elements in ]0, 0.2]); worst gamma = 0.890164\n",
      "Info    : Done meshing order 2 (Wall 0.000129708s, CPU 0.000112s)\n",
      "Info    : 37 nodes 26 elements\n",
      "Info    : Writing 'square-2nd.msh'...\n",
      "Info    : Done writing 'square-2nd.msh'\n"
     ]
    }
   ],
   "source": [
    "#..1/4: initialize gmsh \n",
    "gmsh.initialize()\n",
    "\n",
    "#..2/4: generate geometry \n",
    "gmsh.option.setNumber(\"General.Terminal\", 1)\n",
    "gmsh.model.add(\"square\")\n",
    "#..set mesh density parameter \n",
    "lc = 5e-1\n",
    "#..define four points via (x,y,z) coordinates \n",
    "gmsh.model.geo.addPoint(0, 0, 0, lc, 1)\n",
    "gmsh.model.geo.addPoint(1., 0,  0, lc, 2)\n",
    "gmsh.model.geo.addPoint(1., 1., 0, lc, 3)\n",
    "gmsh.model.geo.addPoint(0, 1., 0, lc, 4)\n",
    "#..define four edges by connecting point labels pairwise  \n",
    "gmsh.model.geo.addLine(1, 2, 1)\n",
    "gmsh.model.geo.addLine(2, 3, 2)\n",
    "gmsh.model.geo.addLine(3, 4, 3)\n",
    "gmsh.model.geo.addLine(4, 1, 4)\n",
    "#..define curved loop by connecting four edge labels  \n",
    "gmsh.model.geo.addCurveLoop([1, 2, 3, 4], 1)\n",
    "#..define surface by curved loop \n",
    "gmsh.model.geo.addPlaneSurface([1], 1)\n",
    "#..give label to the surface \n",
    "#..syntax of the function being used is gmsh.model.setPhysicalName(dim, tag, name) \n",
    "gmsh.model.setPhysicalName(2, 1, \"My surface\")\n",
    "#..synchronize model \n",
    "gmsh.model.geo.synchronize()\n",
    "\n",
    "#..3/4: generate two-dimensional mesh \n",
    "gmsh.option.setNumber(\"Mesh.ElementOrder\", 2)\n",
    "gmsh.option.setNumber(\"Mesh.SecondOrderLinear\", 1)\n",
    "gmsh.model.mesh.generate(2)\n",
    "#..if true, write mesh to file for further processing \n",
    "if (true) gmsh.write(\"square-2nd.msh\") end \n",
    "#..if true, visualize mesh through the GUI \n",
    "if (false) gmsh.fltk.run() end \n",
    "\n",
    "#..4/4: finalize gmsh \n",
    "gmsh.finalize()"
   ]
  },
  {
   "cell_type": "markdown",
   "metadata": {},
   "source": [
    "## Section 2:/ Read Mesh from file and perform loop over the elements \n",
    "\n",
    "Here we turn into the soup. The number of elements that we retriece does not seem to be the correct one. \n",
    "\n",
    "To be investigated further. "
   ]
  },
  {
   "cell_type": "code",
   "execution_count": 16,
   "metadata": {},
   "outputs": [
    {
     "name": "stdout",
     "output_type": "stream",
     "text": [
      "Info    : Reading 'square-2nd.msh'...\n",
      "Info    : 9 entities\n",
      "Info    : 37 nodes\n",
      "Info    : 26 elements\n",
      "Info    : Done reading 'square-2nd.msh'\n"
     ]
    },
    {
     "data": {
      "text/plain": [
       "1-element Vector{Int32}:\n",
       " 9"
      ]
     },
     "metadata": {},
     "output_type": "display_data"
    },
    {
     "data": {
      "text/plain": [
       "14-element Vector{UInt64}:\n",
       " 0x000000000000000d\n",
       " 0x000000000000000e\n",
       " 0x000000000000000f\n",
       " 0x0000000000000010\n",
       " 0x0000000000000011\n",
       " 0x0000000000000012\n",
       " 0x0000000000000013\n",
       " 0x0000000000000014\n",
       " 0x0000000000000015\n",
       " 0x0000000000000016\n",
       " 0x0000000000000017\n",
       " 0x0000000000000018\n",
       " 0x0000000000000019\n",
       " 0x000000000000001a"
      ]
     },
     "metadata": {},
     "output_type": "display_data"
    },
    {
     "data": {
      "text/plain": [
       "84-element Vector{UInt64}:\n",
       " 0x0000000000000008\n",
       " 0x0000000000000003\n",
       " 0x0000000000000013\n",
       " 0x000000000000000a\n",
       " 0x0000000000000015\n",
       " 0x0000000000000016\n",
       " 0x000000000000000e\n",
       " 0x0000000000000001\n",
       " 0x0000000000000012\n",
       " 0x0000000000000010\n",
       " 0x0000000000000017\n",
       " 0x0000000000000018\n",
       " 0x0000000000000001\n",
       "                  ⋮\n",
       " 0x0000000000000013\n",
       " 0x0000000000000012\n",
       " 0x0000000000000014\n",
       " 0x0000000000000023\n",
       " 0x0000000000000025\n",
       " 0x0000000000000021\n",
       " 0x000000000000000b\n",
       " 0x0000000000000011\n",
       " 0x0000000000000013\n",
       " 0x000000000000001f\n",
       " 0x0000000000000024\n",
       " 0x000000000000001a"
      ]
     },
     "metadata": {},
     "output_type": "display_data"
    }
   ],
   "source": [
    "#..1/4: Finalize gmsh\n",
    "gmsh.initialize()\n",
    "\n",
    "#..2/4: Read mesh from file\n",
    "gmsh.open(\"square-2nd.msh\")\n",
    "\n",
    "#..3/4: perform loop over the elemements \n",
    "element_types, element_ids, element_connectivity = gmsh.model.mesh.getElements(2)\n",
    "nelements = length(element_ids[1])\n",
    "\n",
    "#..4/4: Finalize gmsh\n",
    "gmsh.finalize()\n",
    "\n",
    "display(element_types)\n",
    "display(element_ids[1])\n",
    "display(element_connectivity[1])"
   ]
  },
  {
   "cell_type": "code",
   "execution_count": 4,
   "metadata": {},
   "outputs": [
    {
     "name": "stdout",
     "output_type": "stream",
     "text": [
      "Info    : Reading 'square.msh'...\n",
      "Info    : 9 entities\n",
      "Info    : 37 nodes\n",
      "Info    : 26 elements\n",
      "Info    : Done reading 'square.msh'\n",
      "on element 1 node-1 has global number 8\n",
      "on element 1 node-2 has global number 3\n",
      "on element 1 node-3 has global number 19\n",
      " \n",
      "on element 2 node-1 has global number 10\n",
      "on element 2 node-2 has global number 21\n",
      "on element 2 node-3 has global number 22\n",
      " \n",
      "on element 3 node-1 has global number 14\n",
      "on element 3 node-2 has global number 1\n",
      "on element 3 node-3 has global number 18\n",
      " \n",
      "on element 4 node-1 has global number 16\n",
      "on element 4 node-2 has global number 23\n",
      "on element 4 node-3 has global number 24\n",
      " \n",
      "on element 5 node-1 has global number 1\n",
      "on element 5 node-2 has global number 5\n",
      "on element 5 node-3 has global number 18\n",
      " \n",
      "on element 6 node-1 has global number 6\n",
      "on element 6 node-2 has global number 25\n",
      "on element 6 node-3 has global number 23\n",
      " \n",
      "on element 7 node-1 has global number 3\n",
      "on element 7 node-2 has global number 11\n",
      "on element 7 node-3 has global number 19\n",
      " \n",
      "on element 8 node-1 has global number 12\n",
      "on element 8 node-2 has global number 26\n",
      "on element 8 node-3 has global number 21\n",
      " \n",
      "on element 9 node-1 has global number 5\n",
      "on element 9 node-2 has global number 2\n",
      "on element 9 node-3 has global number 20\n",
      " \n",
      "on element 10 node-1 has global number 7\n",
      "on element 10 node-2 has global number 27\n",
      "on element 10 node-3 has global number 28\n",
      " \n",
      "on element 11 node-1 has global number 2\n",
      "on element 11 node-2 has global number 8\n",
      "on element 11 node-3 has global number 20\n",
      " \n",
      "on element 12 node-1 has global number 9\n",
      "on element 12 node-2 has global number 29\n",
      "on element 12 node-3 has global number 27\n",
      " \n",
      "on element 13 node-1 has global number 11\n",
      "on element 13 node-2 has global number 4\n",
      "on element 13 node-3 has global number 17\n",
      " \n",
      "on element 14 node-1 has global number 13\n",
      "on element 14 node-2 has global number 30\n",
      "on element 14 node-3 has global number 31\n",
      " \n"
     ]
    }
   ],
   "source": [
    "#..1/4: Finalize gmsh\n",
    "gmsh.initialize()\n",
    "\n",
    "#..2/4: Read mesh from file\n",
    "gmsh.open(\"square.msh\")\n",
    "\n",
    "#..3/4: perform loop over the elemements \n",
    "element_types, element_ids, element_connectivity = gmsh.model.mesh.getElements(2)\n",
    "nelements = length(element_ids[1])\n",
    "  \n",
    "for element_id in 1:nelements\n",
    "\n",
    "    #....retrieve global numbering of the local nodes of the current element\n",
    "    node1_id = element_connectivity[1][3*(element_id-1)+1]\n",
    "    node2_id = element_connectivity[1][3*(element_id-1)+2]\n",
    "    node3_id = element_connectivity[1][3*(element_id-1)+3]\n",
    "\n",
    "    println(\"on element \", element_id, \" node-1 has global number \", node1_id)\n",
    "    println(\"on element \", element_id, \" node-2 has global number \", node2_id)\n",
    "    println(\"on element \", element_id, \" node-3 has global number \", node3_id)\n",
    "    println(\" \")\n",
    "\n",
    "end \n",
    "\n",
    "#..4/4: Finalize gmsh\n",
    "gmsh.finalize()"
   ]
  },
  {
   "cell_type": "code",
   "execution_count": 7,
   "metadata": {},
   "outputs": [
    {
     "ename": "LoadError",
     "evalue": "no unique matching method found for the specified argument types",
     "output_type": "error",
     "traceback": [
      "no unique matching method found for the specified argument types",
      "",
      "Stacktrace:",
      " [1] error(s::String)",
      "   @ Base ./error.jl:35",
      " [2] _which",
      "   @ ./reflection.jl:1382 [inlined]",
      " [3] _which",
      "   @ ./reflection.jl:1380 [inlined]",
      " [4] which(tt::Any)",
      "   @ Base ./reflection.jl:1408",
      " [5] which(f::Any, t::Any)",
      "   @ Base ./reflection.jl:1399",
      " [6] functionloc(f::Any, types::Any)",
      "   @ Base ./methodshow.jl:178",
      " [7] edit(f::Any, t::Any)",
      "   @ InteractiveUtils /Applications/Julia-1.8.app/Contents/Resources/julia/share/julia/stdlib/v1.8/InteractiveUtils/src/editless.jl:234",
      " [8] top-level scope",
      "   @ In[7]:1"
     ]
    }
   ],
   "source": [
    "@edit gmsh.open()"
   ]
  },
  {
   "cell_type": "code",
   "execution_count": null,
   "metadata": {},
   "outputs": [],
   "source": []
  }
 ],
 "metadata": {
  "kernelspec": {
   "display_name": "Julia 1.8.1",
   "language": "julia",
   "name": "julia-1.8"
  },
  "language_info": {
   "file_extension": ".jl",
   "mimetype": "application/julia",
   "name": "julia",
   "version": "1.8.1"
  }
 },
 "nbformat": 4,
 "nbformat_minor": 2
}
