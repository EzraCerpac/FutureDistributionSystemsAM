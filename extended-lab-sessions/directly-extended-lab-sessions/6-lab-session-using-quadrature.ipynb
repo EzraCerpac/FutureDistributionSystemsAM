{
 "cells": [
  {
   "cell_type": "markdown",
   "id": "8f270b81",
   "metadata": {},
   "source": [
    "# EE4375-2022: Extension of Sixth Lab Session: Quadrature and Second Order Lagrange Elements\n",
    "Extension of 2D FEM using second order elements and quadrature. "
   ]
  },
  {
   "cell_type": "markdown",
   "id": "2bfe6e53",
   "metadata": {},
   "source": [
    "## Import Packages"
   ]
  },
  {
   "cell_type": "code",
   "execution_count": null,
   "id": "4ee32201",
   "metadata": {},
   "outputs": [],
   "source": [
    "using LinearAlgebra\n",
    "using FastGaussQuadrature\n",
    "using Plots\n",
    "using SparseArrays\n",
    "using BenchmarkTools"
   ]
  },
  {
   "cell_type": "markdown",
   "id": "72c5d0f8",
   "metadata": {},
   "source": [
    "## Section 1/: Introduction  "
   ]
  },
  {
   "cell_type": "markdown",
   "id": "2df1983e",
   "metadata": {},
   "source": [
    "## Section 2:/ Quadrature over Triangles \n",
    "Functions taken from [MinFEM.jl](https://github.com/MinFEM/MinFEM.jl/blob/master/src/quadrature.jl)"
   ]
  },
  {
   "cell_type": "code",
   "execution_count": 1,
   "id": "1c5b16a2",
   "metadata": {},
   "outputs": [
    {
     "data": {
      "text/plain": [
       "gausslegendre_points"
      ]
     },
     "execution_count": 1,
     "metadata": {},
     "output_type": "execute_result"
    }
   ],
   "source": [
    "\"\"\"\n",
    "    gausslegendre_points(order::Int64) -> Array{Float64,1}\n",
    "    \n",
    "Returns coordinates of the Gauss-Legendre quadrature points on the default interval [-1,1] \n",
    "for exact integration of polynomials up to the given order.\n",
    "\"\"\"\n",
    "function gausslegendre_points(order::Int64)\n",
    "    if order <= 1\n",
    "        return [0]\n",
    "    elseif order <= 3\n",
    "        val = 1/sqrt(3)\n",
    "        return [-val, val]\n",
    "    elseif order <= 5\n",
    "        val = sqrt(3/5)\n",
    "        return  [-val, 0, val]\n",
    "    elseif order <= 7\n",
    "        val = 2/7 * sqrt(6/5)\n",
    "        val1 = sqrt(3/7 - val)\n",
    "        val2 = sqrt(3/7 + val)\n",
    "        return  [-val2, -val1, val1, val2]\n",
    "    elseif order <= 9\n",
    "        val = 2 * sqrt(10/7)\n",
    "        val1 = 1/3 * sqrt(5 - val)\n",
    "        val2 = 1/3 * sqrt(5 + val)\n",
    "        return  [-val2, -val1, 0, val1, val2]\n",
    "    else\n",
    "        throw(ErrorException(\"Order $order not possible. \" *\n",
    "                                \"Highest possible order for 1D is 9.\"))\n",
    "    end\n",
    "end"
   ]
  },
  {
   "cell_type": "code",
   "execution_count": 3,
   "id": "f86e11c0",
   "metadata": {},
   "outputs": [
    {
     "data": {
      "text/plain": [
       "3-element Vector{Float64}:\n",
       " -0.7745966692414834\n",
       "  0.0\n",
       "  0.7745966692414834"
      ]
     },
     "execution_count": 3,
     "metadata": {},
     "output_type": "execute_result"
    }
   ],
   "source": [
    "gausslegendre_points(5)"
   ]
  },
  {
   "cell_type": "code",
   "execution_count": 4,
   "id": "70fa835e",
   "metadata": {},
   "outputs": [
    {
     "data": {
      "text/plain": [
       "gausslegendre_weights"
      ]
     },
     "execution_count": 4,
     "metadata": {},
     "output_type": "execute_result"
    }
   ],
   "source": [
    "\"\"\"\n",
    "    gausslegendre_weights(order::Int64) -> Array{Float64,1}\n",
    "    \n",
    "Returns weights of the Gauss-Legendre quadrature points on the default interval [-1,1] \n",
    "for exact integration of polynomials up to the given order.\n",
    "\"\"\"\n",
    "function gausslegendre_weights(order::Int64)\n",
    "    if order <= 1\n",
    "        return [2]\n",
    "    elseif order <= 3\n",
    "        return [1, 1]\n",
    "    elseif order <= 5\n",
    "        val = 5/9\n",
    "        return  [val, 8/9, val]\n",
    "    elseif order <= 7\n",
    "        val = sqrt(30)\n",
    "        val1 = (18 + val) / 36\n",
    "        val2 = (18 - val) / 36\n",
    "        return  [val2, val1, val1, val2]\n",
    "    elseif order <= 9\n",
    "        val = 13 * sqrt(70)\n",
    "        val1 = (322 + val) / 900\n",
    "        val2 = (322 - val) / 900\n",
    "        return  [val2, val1, 128/225, val1, val2]\n",
    "    else\n",
    "        throw(ErrorException(\"Order $order not possible. \" *\n",
    "                                \"Highest possible order for 1D is 9.\"))\n",
    "    end\n",
    "end"
   ]
  },
  {
   "cell_type": "code",
   "execution_count": 5,
   "id": "c930efd9",
   "metadata": {},
   "outputs": [
    {
     "data": {
      "text/plain": [
       "2-element Vector{Int64}:\n",
       " 1\n",
       " 1"
      ]
     },
     "execution_count": 5,
     "metadata": {},
     "output_type": "execute_result"
    }
   ],
   "source": [
    "gausslegendre_weights(3)"
   ]
  },
  {
   "cell_type": "code",
   "execution_count": 6,
   "id": "6b4b13b2",
   "metadata": {},
   "outputs": [
    {
     "data": {
      "text/plain": [
       "compute_coordinates_triangle"
      ]
     },
     "execution_count": 6,
     "metadata": {},
     "output_type": "execute_result"
    }
   ],
   "source": [
    "\"\"\"\n",
    "    compute_coordinates_triangle(order::Int64) -> Array{Array{Float64,1},1}\n",
    "    \n",
    "Returns coordinates of the Gauss-Legendre quadrature points \n",
    "on the 2-dimensional FEM reference element \n",
    "for exact integration of polynomials up to the given order.\n",
    "\"\"\"\n",
    "function compute_coordinates_triangle(order::Int64)\n",
    "    order1 = order + 1\n",
    "    p1 = gausslegendre_points(order1)\n",
    "    n = length(p1)\n",
    "\n",
    "    c = Array{Array{Float64,1},1}(undef, n*n)\n",
    "\n",
    "    r = 1\n",
    "    for i = 1:n\n",
    "        for j = 1:n\n",
    "            c[r] = [(1 + p1[i]) / 2 , (1 - p1[i]) * (1 + p1[j]) / 4]\n",
    "            r = r + 1    \n",
    "        end\n",
    "    end\n",
    "    return c\n",
    "end"
   ]
  },
  {
   "cell_type": "code",
   "execution_count": 8,
   "id": "201b03ab",
   "metadata": {},
   "outputs": [
    {
     "data": {
      "text/plain": [
       "25-element Vector{Vector{Float64}}:\n",
       " [0.04691007703066802, 0.04470952170364481]\n",
       " [0.04691007703066802, 0.21994012483967862]\n",
       " [0.04691007703066802, 0.47654496148466596]\n",
       " [0.04691007703066802, 0.7331497981296533]\n",
       " [0.04691007703066802, 0.9083804012656871]\n",
       " [0.2307653449471585, 0.036084856923188136]\n",
       " [0.2307653449471585, 0.17751270051857745]\n",
       " [0.2307653449471585, 0.38461732752642075]\n",
       " [0.2307653449471585, 0.591721954534264]\n",
       " [0.2307653449471585, 0.7331497981296533]\n",
       " [0.5, 0.02345503851533401]\n",
       " [0.5, 0.11538267247357925]\n",
       " [0.5, 0.25]\n",
       " [0.5, 0.38461732752642075]\n",
       " [0.5, 0.47654496148466596]\n",
       " [0.7692346550528415, 0.010825220107479883]\n",
       " [0.7692346550528415, 0.053252644428581054]\n",
       " [0.7692346550528415, 0.11538267247357925]\n",
       " [0.7692346550528415, 0.17751270051857745]\n",
       " [0.7692346550528415, 0.21994012483967862]\n",
       " [0.9530899229693319, 0.002200555327023207]\n",
       " [0.9530899229693319, 0.010825220107479883]\n",
       " [0.9530899229693319, 0.02345503851533401]\n",
       " [0.9530899229693319, 0.036084856923188136]\n",
       " [0.9530899229693319, 0.04470952170364481]"
      ]
     },
     "execution_count": 8,
     "metadata": {},
     "output_type": "execute_result"
    }
   ],
   "source": [
    "compute_coordinates_triangle(7)"
   ]
  },
  {
   "cell_type": "code",
   "execution_count": 9,
   "id": "bd771b6c",
   "metadata": {},
   "outputs": [
    {
     "data": {
      "text/plain": [
       "compute_weights_triangle"
      ]
     },
     "execution_count": 9,
     "metadata": {},
     "output_type": "execute_result"
    }
   ],
   "source": [
    "\"\"\"\n",
    "    compute_weights_triangle(order::Int64) -> Array{Float64,1}\n",
    "    \n",
    "Returns weights of the Gauss-Legendre quadrature points \n",
    "on the 2-dimensional FEM reference element \n",
    "for exact integration of polynomials up to the given order.\n",
    "\"\"\"\n",
    "function compute_weights_triangle(order::Int64)\n",
    "    order1 = order + 1    \n",
    "    p1 = gausslegendre_points(order1)\n",
    "    w1 = gausslegendre_weights(order1)\n",
    "    n = length(p1)\n",
    "    \n",
    "    w = Array{Float64,1}(undef, n*n)\n",
    "\n",
    "    r = 1\n",
    "    for i = 1:n\n",
    "        for j = 1:n\n",
    "            w[r] = (1 - p1[i]) / 8 * w1[i] * w1[j]\n",
    "            r = r + 1    \n",
    "        end\n",
    "    end\n",
    "    return w\n",
    "end"
   ]
  },
  {
   "cell_type": "code",
   "execution_count": 11,
   "id": "ba6a245d",
   "metadata": {},
   "outputs": [
    {
     "data": {
      "text/plain": [
       "16-element Vector{Float64}:\n",
       " 0.02815038307692565\n",
       " 0.0527752773542295\n",
       " 0.0527752773542295\n",
       " 0.02815038307692565\n",
       " 0.03799714764795021\n",
       " 0.0712356204997401\n",
       " 0.0712356204997401\n",
       " 0.03799714764795021\n",
       " 0.018715815315012756\n",
       " 0.0350877052529335\n",
       " 0.0350877052529335\n",
       " 0.018715815315012756\n",
       " 0.0021003652444748482\n",
       " 0.003937685608733464\n",
       " 0.003937685608733464\n",
       " 0.0021003652444748482"
      ]
     },
     "execution_count": 11,
     "metadata": {},
     "output_type": "execute_result"
    }
   ],
   "source": [
    "compute_weights_triangle(5)"
   ]
  },
  {
   "cell_type": "code",
   "execution_count": null,
   "id": "43b8df3a",
   "metadata": {},
   "outputs": [],
   "source": []
  }
 ],
 "metadata": {
  "kernelspec": {
   "display_name": "Julia 1.8.1",
   "language": "julia",
   "name": "julia-1.8"
  },
  "language_info": {
   "file_extension": ".jl",
   "mimetype": "application/julia",
   "name": "julia",
   "version": "1.8.1"
  }
 },
 "nbformat": 4,
 "nbformat_minor": 5
}
