{
 "cells": [
  {
   "cell_type": "markdown",
   "id": "8d3b3a2c",
   "metadata": {},
   "source": [
    "# Scalar diffusion and convection-diffusion problem on channel geometry with uniform mesh using Gridap  "
   ]
  },
  {
   "cell_type": "markdown",
   "id": "19ed2fd7",
   "metadata": {},
   "source": [
    "## Import libraries "
   ]
  },
  {
   "cell_type": "code",
   "execution_count": 1,
   "id": "11d2582e",
   "metadata": {},
   "outputs": [],
   "source": [
    "using Gridap"
   ]
  },
  {
   "cell_type": "markdown",
   "id": "4efe360f",
   "metadata": {},
   "source": [
    "## Section 1:/ Diffusion Problem \n",
    "1. how to extend to non-linear diffusion? See [example](https://gridap.github.io/Tutorials/stable/pages/t004_p_laplacian/)\n",
    "2. how to extend to time-dependent diffusion? See [example](https://gridap.github.io/Tutorials/dev/pages/t017_poisson_transient/). \n",
    "3. how to extend to vector-valued problems? See [example](https://gridap.github.io/Tutorials/stable/pages/t009_stokes/)\n",
    "4. how to accomodate parallel computing? See [tutorial](https://gridap.github.io/Tutorials/dev/pages/t016_poisson_distributed/)"
   ]
  },
  {
   "cell_type": "markdown",
   "id": "6e7493cc",
   "metadata": {},
   "source": [
    "### Section 1.1:/ Linear Diffusion "
   ]
  },
  {
   "cell_type": "code",
   "execution_count": 2,
   "id": "b7b661be",
   "metadata": {},
   "outputs": [
    {
     "data": {
      "text/plain": [
       "CartesianDiscreteModel()"
      ]
     },
     "execution_count": 2,
     "metadata": {},
     "output_type": "execute_result"
    }
   ],
   "source": [
    "domain = (0,3,0,1)\n",
    "partition = (300,100)\n",
    "model = CartesianDiscreteModel(domain,partition)"
   ]
  },
  {
   "cell_type": "code",
   "execution_count": 3,
   "id": "9910a1fe",
   "metadata": {},
   "outputs": [
    {
     "data": {
      "text/plain": [
       "TrialFESpace()"
      ]
     },
     "execution_count": 3,
     "metadata": {},
     "output_type": "execute_result"
    }
   ],
   "source": [
    "# Define Lagrangian reference element\n",
    "order = 1\n",
    "reffe = ReferenceFE(lagrangian,Float64,order)\n",
    "Vh = FESpace(model, reffe; conformity=:H1, dirichlet_tags = [7,8])\n",
    "Uh = TrialFESpace(Vh, [0, 0]) # Left boundary: u = 0, right boundary: u = 0"
   ]
  },
  {
   "cell_type": "code",
   "execution_count": 4,
   "id": "e038b656",
   "metadata": {},
   "outputs": [
    {
     "data": {
      "text/plain": [
       "Measure()"
      ]
     },
     "execution_count": 4,
     "metadata": {},
     "output_type": "execute_result"
    }
   ],
   "source": [
    "degree = 2\n",
    "Ω = Triangulation(model)\n",
    "dΩ = Measure(Ω,degree)"
   ]
  },
  {
   "cell_type": "code",
   "execution_count": 5,
   "id": "78ca8569",
   "metadata": {},
   "outputs": [
    {
     "data": {
      "text/plain": [
       "b (generic function with 1 method)"
      ]
     },
     "execution_count": 5,
     "metadata": {},
     "output_type": "execute_result"
    }
   ],
   "source": [
    "ff(x) = 100*exp(-100*(x[1]-1.5)^2 - 100*(x[2]-.5)^2)\n",
    "sigma(x) = 1+0*((x[1]>1)*(x[1]<2)*(x[2]>.5)*(x[2]<.75)) \n",
    "a(u,v) = ∫( sigma*∇(v)⋅∇(u))*dΩ\n",
    "b(v) = ∫( ff*v )*dΩ"
   ]
  },
  {
   "cell_type": "code",
   "execution_count": 6,
   "id": "c10431ff",
   "metadata": {},
   "outputs": [
    {
     "data": {
      "text/plain": [
       "SingleFieldFEFunction():\n",
       " num_cells: 30000\n",
       " DomainStyle: ReferenceDomain()\n",
       " Triangulation: BodyFittedTriangulation()\n",
       " Triangulation id: 15027091868446829417"
      ]
     },
     "execution_count": 6,
     "metadata": {},
     "output_type": "execute_result"
    }
   ],
   "source": [
    "op = AffineFEOperator(a,b,Uh,Vh)\n",
    "ls = LUSolver()\n",
    "solver = LinearFESolver(ls)\n",
    "uh = solve(solver,op)"
   ]
  },
  {
   "cell_type": "code",
   "execution_count": 7,
   "id": "d4e46d02",
   "metadata": {
    "scrolled": true
   },
   "outputs": [
    {
     "data": {
      "text/plain": [
       "([\"results.vtu\"],)"
      ]
     },
     "execution_count": 7,
     "metadata": {},
     "output_type": "execute_result"
    }
   ],
   "source": [
    "writevtk(Ω,\"results\",cellfields=[\"uh\"=>uh])"
   ]
  },
  {
   "cell_type": "code",
   "execution_count": 8,
   "id": "8125001d",
   "metadata": {},
   "outputs": [
    {
     "data": {
      "text/plain": [
       "([\"results.vtu\"],)"
      ]
     },
     "execution_count": 8,
     "metadata": {},
     "output_type": "execute_result"
    }
   ],
   "source": [
    "domain = (0,3,0,1)\n",
    "partition = (300,100)\n",
    "model = CartesianDiscreteModel(domain,partition)\n",
    "order = 1\n",
    "reffe = ReferenceFE(lagrangian,Float64,order)\n",
    "Vh = FESpace(model, reffe; conformity=:H1, dirichlet_tags = [7,8])\n",
    "Uh = TrialFESpace(Vh, [0, 0]) # Left boundary: u = 0, right boundary: u = 0\n",
    "degree = 2\n",
    "Ω = Triangulation(model)\n",
    "dΩ = Measure(Ω,degree)\n",
    "ff(x) = 100*exp(-100*(x[1]-.15)^2 - 100*(x[2]-.5)^2)\n",
    "a(u,v) = ∫( ∇(v)⋅∇(u))*dΩ\n",
    "b(v) = ∫( ff*v )*dΩ\n",
    "op = AffineFEOperator(a,b,Uh,Vh)\n",
    "ls = LUSolver()\n",
    "solver = LinearFESolver(ls)\n",
    "uh = solve(solver,op)\n",
    "writevtk(Ω,\"results\",cellfields=[\"uh\"=>uh])"
   ]
  },
  {
   "cell_type": "markdown",
   "id": "33ba5abb",
   "metadata": {},
   "source": [
    "### Section 2.1:/ Linear diffusion with assembly of stiffness matrix\n",
    "For explanation, see [Tutorial 13: Low Level Implementation](https://gridap.github.io/Tutorials/dev/pages/t013_poisson_dev_fe/#A-low-level-implementation-of-the-Jacobian-integration-and-assembly-1).  "
   ]
  },
  {
   "cell_type": "code",
   "execution_count": 20,
   "id": "fe0b1247",
   "metadata": {},
   "outputs": [],
   "source": [
    "using Gridap.FESpaces\n",
    "using Gridap.ReferenceFEs\n",
    "using Gridap.Arrays\n",
    "using Gridap.Geometry\n",
    "using Gridap.Fields\n",
    "using Gridap.CellData\n",
    "using FillArrays\n",
    "using Test\n",
    "using InteractiveUtils"
   ]
  },
  {
   "cell_type": "markdown",
   "id": "0e4f54e6",
   "metadata": {},
   "source": [
    "#### Building argument iwq "
   ]
  },
  {
   "cell_type": "code",
   "execution_count": 17,
   "id": "73085747",
   "metadata": {},
   "outputs": [
    {
     "data": {
      "text/plain": [
       "30000-element Fill{Matrix{Float64}}, with entries equal to [0.6666666666666665 -0.16666666666666666 -0.16666666666666666 -0.3333333333333332; -0.16666666666666666 0.6666666666666665 -0.3333333333333332 -0.16666666666666666; -0.16666666666666666 -0.3333333333333332 0.6666666666666665 -0.16666666666666666; -0.3333333333333332 -0.16666666666666666 -0.16666666666666666 0.6666666666666664]"
      ]
     },
     "execution_count": 17,
     "metadata": {},
     "output_type": "execute_result"
    }
   ],
   "source": [
    "Th = Triangulation(model)\n",
    "Qh = CellQuadrature(Th,4*order)\n",
    "\n",
    "du = get_trial_fe_basis(Uh)\n",
    "dv = get_fe_basis(Vh)\n",
    "jac = integrate(∇(dv)⋅∇(du),Qh)\n",
    "\n",
    "iwq = jac"
   ]
  },
  {
   "cell_type": "markdown",
   "id": "70181102",
   "metadata": {},
   "source": [
    "#### Building argument \\sigma_k"
   ]
  },
  {
   "cell_type": "code",
   "execution_count": 18,
   "id": "93104dc6",
   "metadata": {},
   "outputs": [
    {
     "data": {
      "text/plain": [
       "30000-element Table{Int32, Vector{Int32}, Vector{Int32}}:\n",
       " [1, 2, -1, 302]\n",
       " [2, 3, 302, 303]\n",
       " [3, 4, 303, 304]\n",
       " [4, 5, 304, 305]\n",
       " [5, 6, 305, 306]\n",
       " [6, 7, 306, 307]\n",
       " [7, 8, 307, 308]\n",
       " [8, 9, 308, 309]\n",
       " [9, 10, 309, 310]\n",
       " [10, 11, 310, 311]\n",
       " [11, 12, 311, 312]\n",
       " [12, 13, 312, 313]\n",
       " [13, 14, 313, 314]\n",
       " ⋮\n",
       " [29891, 29892, 30191, 30192]\n",
       " [29892, 29893, 30192, 30193]\n",
       " [29893, 29894, 30193, 30194]\n",
       " [29894, 29895, 30194, 30195]\n",
       " [29895, 29896, 30195, 30196]\n",
       " [29896, 29897, 30196, 30197]\n",
       " [29897, 29898, 30197, 30198]\n",
       " [29898, 29899, 30198, 30199]\n",
       " [29899, 29900, 30199, 30200]\n",
       " [29900, 29901, 30200, 30201]\n",
       " [29901, 29902, 30201, 30202]\n",
       " [29902, -198, 30202, 30203]"
      ]
     },
     "execution_count": 18,
     "metadata": {},
     "output_type": "execute_result"
    }
   ],
   "source": [
    "sigmak = get_cell_dof_ids(Uh)"
   ]
  },
  {
   "cell_type": "code",
   "execution_count": 19,
   "id": "f7be6fa7",
   "metadata": {},
   "outputs": [
    {
     "data": {
      "text/plain": [
       "30203×30203 SparseArrays.SparseMatrixCSC{Float64, Int64} with 269415 stored entries:\n",
       "⠻⣦⡀⠀⠀⠀⠀⠀⠀⠀⠀⠀⠀⠀⠀⠀⠀⠀⠀⠀⠀⠀⠀⠀⠀⠀⠀⠀⠀⠀⠀⠀⠀⠀⠀⠀⠀⠀⠀⠀\n",
       "⠀⠈⠻⣦⡀⠀⠀⠀⠀⠀⠀⠀⠀⠀⠀⠀⠀⠀⠀⠀⠀⠀⠀⠀⠀⠀⠀⠀⠀⠀⠀⠀⠀⠀⠀⠀⠀⠀⠀⠀\n",
       "⠀⠀⠀⠈⠻⣦⡀⠀⠀⠀⠀⠀⠀⠀⠀⠀⠀⠀⠀⠀⠀⠀⠀⠀⠀⠀⠀⠀⠀⠀⠀⠀⠀⠀⠀⠀⠀⠀⠀⠀\n",
       "⠀⠀⠀⠀⠀⠈⠻⣦⡀⠀⠀⠀⠀⠀⠀⠀⠀⠀⠀⠀⠀⠀⠀⠀⠀⠀⠀⠀⠀⠀⠀⠀⠀⠀⠀⠀⠀⠀⠀⠀\n",
       "⠀⠀⠀⠀⠀⠀⠀⠈⠻⣦⡀⠀⠀⠀⠀⠀⠀⠀⠀⠀⠀⠀⠀⠀⠀⠀⠀⠀⠀⠀⠀⠀⠀⠀⠀⠀⠀⠀⠀⠀\n",
       "⠀⠀⠀⠀⠀⠀⠀⠀⠀⠈⠻⣦⡀⠀⠀⠀⠀⠀⠀⠀⠀⠀⠀⠀⠀⠀⠀⠀⠀⠀⠀⠀⠀⠀⠀⠀⠀⠀⠀⠀\n",
       "⠀⠀⠀⠀⠀⠀⠀⠀⠀⠀⠀⠈⠻⣦⡀⠀⠀⠀⠀⠀⠀⠀⠀⠀⠀⠀⠀⠀⠀⠀⠀⠀⠀⠀⠀⠀⠀⠀⠀⠀\n",
       "⠀⠀⠀⠀⠀⠀⠀⠀⠀⠀⠀⠀⠀⠈⠻⣦⡀⠀⠀⠀⠀⠀⠀⠀⠀⠀⠀⠀⠀⠀⠀⠀⠀⠀⠀⠀⠀⠀⠀⠀\n",
       "⠀⠀⠀⠀⠀⠀⠀⠀⠀⠀⠀⠀⠀⠀⠀⠈⠻⣦⡀⠀⠀⠀⠀⠀⠀⠀⠀⠀⠀⠀⠀⠀⠀⠀⠀⠀⠀⠀⠀⠀\n",
       "⠀⠀⠀⠀⠀⠀⠀⠀⠀⠀⠀⠀⠀⠀⠀⠀⠀⠈⠻⣦⡀⠀⠀⠀⠀⠀⠀⠀⠀⠀⠀⠀⠀⠀⠀⠀⠀⠀⠀⠀\n",
       "⠀⠀⠀⠀⠀⠀⠀⠀⠀⠀⠀⠀⠀⠀⠀⠀⠀⠀⠀⠈⠻⣦⡀⠀⠀⠀⠀⠀⠀⠀⠀⠀⠀⠀⠀⠀⠀⠀⠀⠀\n",
       "⠀⠀⠀⠀⠀⠀⠀⠀⠀⠀⠀⠀⠀⠀⠀⠀⠀⠀⠀⠀⠀⠈⠻⣦⡀⠀⠀⠀⠀⠀⠀⠀⠀⠀⠀⠀⠀⠀⠀⠀\n",
       "⠀⠀⠀⠀⠀⠀⠀⠀⠀⠀⠀⠀⠀⠀⠀⠀⠀⠀⠀⠀⠀⠀⠀⠈⠻⣦⡀⠀⠀⠀⠀⠀⠀⠀⠀⠀⠀⠀⠀⠀\n",
       "⠀⠀⠀⠀⠀⠀⠀⠀⠀⠀⠀⠀⠀⠀⠀⠀⠀⠀⠀⠀⠀⠀⠀⠀⠀⠈⠻⣦⡀⠀⠀⠀⠀⠀⠀⠀⠀⠀⠀⠀\n",
       "⠀⠀⠀⠀⠀⠀⠀⠀⠀⠀⠀⠀⠀⠀⠀⠀⠀⠀⠀⠀⠀⠀⠀⠀⠀⠀⠀⠈⠻⣦⡀⠀⠀⠀⠀⠀⠀⠀⠀⠀\n",
       "⠀⠀⠀⠀⠀⠀⠀⠀⠀⠀⠀⠀⠀⠀⠀⠀⠀⠀⠀⠀⠀⠀⠀⠀⠀⠀⠀⠀⠀⠈⠻⣦⡀⠀⠀⠀⠀⠀⠀⠀\n",
       "⠀⠀⠀⠀⠀⠀⠀⠀⠀⠀⠀⠀⠀⠀⠀⠀⠀⠀⠀⠀⠀⠀⠀⠀⠀⠀⠀⠀⠀⠀⠀⠈⠻⣦⡀⠀⠀⠀⠀⠀\n",
       "⠀⠀⠀⠀⠀⠀⠀⠀⠀⠀⠀⠀⠀⠀⠀⠀⠀⠀⠀⠀⠀⠀⠀⠀⠀⠀⠀⠀⠀⠀⠀⠀⠀⠈⠻⣦⡀⠀⠀⠀\n",
       "⠀⠀⠀⠀⠀⠀⠀⠀⠀⠀⠀⠀⠀⠀⠀⠀⠀⠀⠀⠀⠀⠀⠀⠀⠀⠀⠀⠀⠀⠀⠀⠀⠀⠀⠀⠈⠻⣦⡀⠀\n",
       "⠀⠀⠀⠀⠀⠀⠀⠀⠀⠀⠀⠀⠀⠀⠀⠀⠀⠀⠀⠀⠀⠀⠀⠀⠀⠀⠀⠀⠀⠀⠀⠀⠀⠀⠀⠀⠀⠈⠻⣦"
      ]
     },
     "execution_count": 19,
     "metadata": {},
     "output_type": "execute_result"
    }
   ],
   "source": [
    "assem = SparseMatrixAssembler(Uh,Vh);\n",
    "\n",
    "rs = ([iwq],[sigmak],[sigmak])\n",
    "\n",
    "A = allocate_matrix(assem,rs)\n",
    "\n",
    "A = assemble_matrix!(A,assem,rs)"
   ]
  },
  {
   "cell_type": "markdown",
   "id": "3c0d9e63",
   "metadata": {},
   "source": [
    "## Section 2:/ Non-Linear Diffusion "
   ]
  },
  {
   "cell_type": "code",
   "execution_count": 223,
   "id": "675ab8d4",
   "metadata": {},
   "outputs": [
    {
     "data": {
      "text/plain": [
       "CartesianDiscreteModel()"
      ]
     },
     "execution_count": 223,
     "metadata": {},
     "output_type": "execute_result"
    }
   ],
   "source": [
    "domain = (0,3,0,1)\n",
    "partition = (30,10)\n",
    "model = CartesianDiscreteModel(domain,partition)"
   ]
  },
  {
   "cell_type": "code",
   "execution_count": 224,
   "id": "393170ff",
   "metadata": {},
   "outputs": [
    {
     "data": {
      "text/plain": [
       "TrialFESpace()"
      ]
     },
     "execution_count": 224,
     "metadata": {},
     "output_type": "execute_result"
    }
   ],
   "source": [
    "# Define Lagrangian reference element\n",
    "order = 1\n",
    "reffe = ReferenceFE(lagrangian,Float64,order)\n",
    "Vh = FESpace(model, reffe; conformity=:H1, dirichlet_tags = [7,8])\n",
    "Uh = TrialFESpace(Vh, [0, 1]) # Left boundary: u = 0, right boundary: u = 1"
   ]
  },
  {
   "cell_type": "code",
   "execution_count": 225,
   "id": "6b9f30fc",
   "metadata": {},
   "outputs": [
    {
     "data": {
      "text/plain": [
       "Measure()"
      ]
     },
     "execution_count": 225,
     "metadata": {},
     "output_type": "execute_result"
    }
   ],
   "source": [
    "degree = 2\n",
    "Ω = Triangulation(model)\n",
    "dΩ = Measure(Ω,degree)"
   ]
  },
  {
   "cell_type": "code",
   "execution_count": 238,
   "id": "15c25133",
   "metadata": {},
   "outputs": [
    {
     "data": {
      "text/plain": [
       "b (generic function with 1 method)"
      ]
     },
     "execution_count": 238,
     "metadata": {},
     "output_type": "execute_result"
    }
   ],
   "source": [
    "# working version \n",
    "ff(x) = 0\n",
    "a(u,v) = ∫( ∇(v)⋅∇(u) + u*u*v)*dΩ\n",
    "b(v) = ∫( ff*v )*dΩ"
   ]
  },
  {
   "cell_type": "code",
   "execution_count": 239,
   "id": "70377638",
   "metadata": {},
   "outputs": [
    {
     "data": {
      "text/plain": [
       "AffineFEOperator()"
      ]
     },
     "execution_count": 239,
     "metadata": {},
     "output_type": "execute_result"
    }
   ],
   "source": [
    "op = AffineFEOperator(a,b,Uh,Vh)"
   ]
  },
  {
   "cell_type": "code",
   "execution_count": 240,
   "id": "48a7adb1",
   "metadata": {},
   "outputs": [
    {
     "data": {
      "text/plain": [
       "LinearFESolver()"
      ]
     },
     "execution_count": 240,
     "metadata": {},
     "output_type": "execute_result"
    }
   ],
   "source": [
    "ls = LUSolver()\n",
    "solver = LinearFESolver(ls)"
   ]
  },
  {
   "cell_type": "code",
   "execution_count": 244,
   "id": "16949ff2",
   "metadata": {},
   "outputs": [
    {
     "name": "stdout",
     "output_type": "stream",
     "text": [
      "search: \u001b[0m\u001b[1mL\u001b[22m\u001b[0m\u001b[1mU\u001b[22m\u001b[0m\u001b[1mS\u001b[22m\u001b[0m\u001b[1mo\u001b[22m\u001b[0m\u001b[1ml\u001b[22m\u001b[0m\u001b[1mv\u001b[22m\u001b[0m\u001b[1me\u001b[22m\u001b[0m\u001b[1mr\u001b[22m\n",
      "\n"
     ]
    },
    {
     "data": {
      "text/latex": [
       "\\begin{verbatim}\n",
       "struct LUSolver <: LinearSolver end\n",
       "\\end{verbatim}\n",
       "Wrapper of the LU solver available in julia\n",
       "\n"
      ],
      "text/markdown": [
       "```\n",
       "struct LUSolver <: LinearSolver end\n",
       "```\n",
       "\n",
       "Wrapper of the LU solver available in julia\n"
      ],
      "text/plain": [
       "  \u001b[38;5;197mstruct\u001b[0m \u001b[0m\u001b[39mLUSolver\u001b[0m \u001b[0m\u001b[38;5;197m<:\u001b[0m \u001b[0m\u001b[39mLinearSolver\u001b[0m \u001b[0m\u001b[38;5;197mend\u001b[0m\u001b[39m\u001b[0m\n",
       "\n",
       "\n",
       "  Wrapper of the LU solver available in julia"
      ]
     },
     "execution_count": 244,
     "metadata": {},
     "output_type": "execute_result"
    }
   ],
   "source": [
    "?LUSolver"
   ]
  },
  {
   "cell_type": "code",
   "execution_count": 249,
   "id": "596d22b8",
   "metadata": {},
   "outputs": [
    {
     "name": "stdout",
     "output_type": "stream",
     "text": [
      "AffineFEOperator()"
     ]
    }
   ],
   "source": [
    "print(op)"
   ]
  },
  {
   "cell_type": "code",
   "execution_count": 241,
   "id": "360e3535",
   "metadata": {},
   "outputs": [
    {
     "data": {
      "text/plain": [
       "SingleFieldFEFunction():\n",
       " num_cells: 300\n",
       " DomainStyle: ReferenceDomain()\n",
       " Triangulation: BodyFittedTriangulation()\n",
       " Triangulation id: 10336619661980285595"
      ]
     },
     "execution_count": 241,
     "metadata": {},
     "output_type": "execute_result"
    }
   ],
   "source": [
    "uh = solve(solver,op)"
   ]
  },
  {
   "cell_type": "code",
   "execution_count": 243,
   "id": "9ad76cd9",
   "metadata": {},
   "outputs": [
    {
     "name": "stdout",
     "output_type": "stream",
     "text": [
      "search: \u001b[0m\u001b[1ms\u001b[22m\u001b[0m\u001b[1mo\u001b[22m\u001b[0m\u001b[1ml\u001b[22m\u001b[0m\u001b[1mv\u001b[22m\u001b[0m\u001b[1me\u001b[22m \u001b[0m\u001b[1ms\u001b[22m\u001b[0m\u001b[1mo\u001b[22m\u001b[0m\u001b[1ml\u001b[22m\u001b[0m\u001b[1mv\u001b[22m\u001b[0m\u001b[1me\u001b[22m! \u001b[0m\u001b[1ms\u001b[22m\u001b[0m\u001b[1mo\u001b[22m\u001b[0m\u001b[1ml\u001b[22m\u001b[0m\u001b[1mv\u001b[22m\u001b[0m\u001b[1me\u001b[22mr NL\u001b[0m\u001b[1mS\u001b[22m\u001b[0m\u001b[1mo\u001b[22m\u001b[0m\u001b[1ml\u001b[22m\u001b[0m\u001b[1mv\u001b[22m\u001b[0m\u001b[1me\u001b[22mr LU\u001b[0m\u001b[1mS\u001b[22m\u001b[0m\u001b[1mo\u001b[22m\u001b[0m\u001b[1ml\u001b[22m\u001b[0m\u001b[1mv\u001b[22m\u001b[0m\u001b[1me\u001b[22mr FE\u001b[0m\u001b[1mS\u001b[22m\u001b[0m\u001b[1mo\u001b[22m\u001b[0m\u001b[1ml\u001b[22m\u001b[0m\u001b[1mv\u001b[22m\u001b[0m\u001b[1me\u001b[22mr LinearFE\u001b[0m\u001b[1mS\u001b[22m\u001b[0m\u001b[1mo\u001b[22m\u001b[0m\u001b[1ml\u001b[22m\u001b[0m\u001b[1mv\u001b[22m\u001b[0m\u001b[1me\u001b[22mr\n",
      "\n"
     ]
    },
    {
     "data": {
      "text/latex": [
       "\\begin{verbatim}\n",
       "solve(nls::NonlinearSolver,op::NonlinearOperator)\n",
       "\\end{verbatim}\n",
       "Creates and uses a zero initial guess.\n",
       "\n",
       "\\rule{\\textwidth}{1pt}\n",
       "\\begin{verbatim}\n",
       "solve(ls::LinearSolver,A::AbstractMatrix,b::AbstractVector)\n",
       "\\end{verbatim}\n",
       "\\rule{\\textwidth}{1pt}\n",
       "Solve that allocates, and sets initial guess to zero and returns the solution\n",
       "\n",
       "\\rule{\\textwidth}{1pt}\n"
      ],
      "text/markdown": [
       "```\n",
       "solve(nls::NonlinearSolver,op::NonlinearOperator)\n",
       "```\n",
       "\n",
       "Creates and uses a zero initial guess.\n",
       "\n",
       "---\n",
       "\n",
       "```\n",
       "solve(ls::LinearSolver,A::AbstractMatrix,b::AbstractVector)\n",
       "```\n",
       "\n",
       "---\n",
       "\n",
       "Solve that allocates, and sets initial guess to zero and returns the solution\n",
       "\n",
       "---\n",
       "\n"
      ],
      "text/plain": [
       "  \u001b[38;5;81msolve\u001b[0m(\u001b[0m\u001b[39mnls\u001b[0m\u001b[38;5;81m::\u001b[0m\u001b[38;5;81mNonlinearSolver\u001b[0m\u001b[39m,\u001b[0m\u001b[39mop\u001b[0m\u001b[38;5;81m::\u001b[0m\u001b[38;5;81mNonlinearOperator\u001b[0m\u001b[39m)\u001b[0m\u001b[39m\u001b[0m\n",
       "\n",
       "\n",
       "  Creates and uses a zero initial guess.\n",
       "\n",
       "  ────────────────────────────────────────────────────────────────────────────\n",
       "\n",
       "  \u001b[38;5;81msolve\u001b[0m(\u001b[0m\u001b[39mls\u001b[0m\u001b[38;5;81m::\u001b[0m\u001b[38;5;81mLinearSolver\u001b[0m\u001b[39m,\u001b[0m\u001b[39mA\u001b[0m\u001b[38;5;81m::\u001b[0m\u001b[38;5;81mAbstractMatrix\u001b[0m\u001b[39m,\u001b[0m\u001b[39mb\u001b[0m\u001b[38;5;81m::\u001b[0m\u001b[38;5;81mAbstractVector\u001b[0m\u001b[39m)\u001b[0m\u001b[39m\u001b[0m\n",
       "\n",
       "\n",
       "  ────────────────────────────────────────────────────────────────────────────\n",
       "\n",
       "  Solve that allocates, and sets initial guess to zero and returns the\n",
       "  solution\n",
       "\n",
       "  ────────────────────────────────────────────────────────────────────────────\n",
       "\n"
      ]
     },
     "execution_count": 243,
     "metadata": {},
     "output_type": "execute_result"
    }
   ],
   "source": [
    "?solve"
   ]
  },
  {
   "cell_type": "code",
   "execution_count": 242,
   "id": "ed154d61",
   "metadata": {},
   "outputs": [
    {
     "data": {
      "text/plain": [
       "([\"results.vtu\"],)"
      ]
     },
     "execution_count": 242,
     "metadata": {},
     "output_type": "execute_result"
    }
   ],
   "source": [
    "writevtk(Ω,\"results\",cellfields=[\"uh\"=>uh])"
   ]
  },
  {
   "cell_type": "markdown",
   "id": "8da6e819",
   "metadata": {},
   "source": [
    "## Section 3:/ Convection-Diffusion Problem "
   ]
  },
  {
   "cell_type": "code",
   "execution_count": 215,
   "id": "8a4220fa",
   "metadata": {},
   "outputs": [
    {
     "data": {
      "text/plain": [
       "CartesianDiscreteModel()"
      ]
     },
     "execution_count": 215,
     "metadata": {},
     "output_type": "execute_result"
    }
   ],
   "source": [
    "domain = (0,3,0,1)\n",
    "partition = (30,10)\n",
    "model = CartesianDiscreteModel(domain,partition)"
   ]
  },
  {
   "cell_type": "code",
   "execution_count": 216,
   "id": "a919e53c",
   "metadata": {},
   "outputs": [
    {
     "data": {
      "text/plain": [
       "TrialFESpace()"
      ]
     },
     "execution_count": 216,
     "metadata": {},
     "output_type": "execute_result"
    }
   ],
   "source": [
    "# Define Lagrangian reference element\n",
    "order = 1\n",
    "reffe = ReferenceFE(lagrangian,Float64,order)\n",
    "Vh = FESpace(model, reffe; conformity=:H1, dirichlet_tags = [7,8])\n",
    "Uh = TrialFESpace(Vh, [0, 1]) # Left boundary: u = 0, right boundary: u = 1"
   ]
  },
  {
   "cell_type": "code",
   "execution_count": 217,
   "id": "94647738",
   "metadata": {},
   "outputs": [
    {
     "data": {
      "text/plain": [
       "Measure()"
      ]
     },
     "execution_count": 217,
     "metadata": {},
     "output_type": "execute_result"
    }
   ],
   "source": [
    "degree = 1\n",
    "Ω = Triangulation(model)\n",
    "dΩ = Measure(Ω,degree)"
   ]
  },
  {
   "cell_type": "code",
   "execution_count": 218,
   "id": "fc4b5c82",
   "metadata": {},
   "outputs": [
    {
     "data": {
      "text/plain": [
       "b (generic function with 1 method)"
      ]
     },
     "execution_count": 218,
     "metadata": {},
     "output_type": "execute_result"
    }
   ],
   "source": [
    "# working version \n",
    "ff(x) = 0\n",
    "velocity(x) = VectorValue( 1.0, 0.0 )\n",
    "a(u,v) = ∫( 0.1*∇(v)⋅∇(u) + (velocity ⋅ ∇(u))*v)*dΩ\n",
    "b(v) = ∫( v*ff )*dΩ"
   ]
  },
  {
   "cell_type": "code",
   "execution_count": 219,
   "id": "06148f40",
   "metadata": {},
   "outputs": [
    {
     "data": {
      "text/plain": [
       "AffineFEOperator()"
      ]
     },
     "execution_count": 219,
     "metadata": {},
     "output_type": "execute_result"
    }
   ],
   "source": [
    "op = AffineFEOperator(a,b,Uh,Vh)"
   ]
  },
  {
   "cell_type": "code",
   "execution_count": 220,
   "id": "483d8996",
   "metadata": {},
   "outputs": [
    {
     "data": {
      "text/plain": [
       "LinearFESolver()"
      ]
     },
     "execution_count": 220,
     "metadata": {},
     "output_type": "execute_result"
    }
   ],
   "source": [
    "ls = LUSolver()\n",
    "solver = LinearFESolver(ls)"
   ]
  },
  {
   "cell_type": "code",
   "execution_count": 221,
   "id": "638507f3",
   "metadata": {},
   "outputs": [
    {
     "data": {
      "text/plain": [
       "SingleFieldFEFunction():\n",
       " num_cells: 300\n",
       " DomainStyle: ReferenceDomain()\n",
       " Triangulation: BodyFittedTriangulation()\n",
       " Triangulation id: 221304387296365017"
      ]
     },
     "execution_count": 221,
     "metadata": {},
     "output_type": "execute_result"
    }
   ],
   "source": [
    "uh = solve(solver,op)"
   ]
  },
  {
   "cell_type": "code",
   "execution_count": 222,
   "id": "df95028c",
   "metadata": {},
   "outputs": [
    {
     "data": {
      "text/plain": [
       "([\"results.vtu\"],)"
      ]
     },
     "execution_count": 222,
     "metadata": {},
     "output_type": "execute_result"
    }
   ],
   "source": [
    "writevtk(Ω,\"results\",cellfields=[\"uh\"=>uh])"
   ]
  },
  {
   "cell_type": "markdown",
   "id": "05c64a29",
   "metadata": {},
   "source": [
    "## Section 4: Linear Elasticity"
   ]
  },
  {
   "cell_type": "code",
   "execution_count": 34,
   "id": "90d50528",
   "metadata": {},
   "outputs": [
    {
     "data": {
      "text/plain": [
       "CartesianDiscreteModel()"
      ]
     },
     "execution_count": 34,
     "metadata": {},
     "output_type": "execute_result"
    }
   ],
   "source": [
    "domain = (0,1,0,1,0,1)\n",
    "partition = (10,10,10)\n",
    "model = CartesianDiscreteModel(domain,partition)"
   ]
  },
  {
   "cell_type": "code",
   "execution_count": 35,
   "id": "82e7e7da",
   "metadata": {},
   "outputs": [
    {
     "data": {
      "text/plain": [
       "(Lagrangian(), (VectorValue{3, Float64}, 1), Base.Pairs{Symbol, Union{}, Tuple{}, NamedTuple{(), Tuple{}}}())"
      ]
     },
     "execution_count": 35,
     "metadata": {},
     "output_type": "execute_result"
    }
   ],
   "source": [
    "order = 1\n",
    "refFE = ReferenceFE(lagrangian,VectorValue{3,Float64},order)"
   ]
  },
  {
   "cell_type": "code",
   "execution_count": 36,
   "id": "051ae801",
   "metadata": {},
   "outputs": [
    {
     "data": {
      "text/plain": [
       "TransientTrialFESpace{Gridap.FESpaces.UnconstrainedFESpace{Vector{Float64}, Gridap.FESpaces.NodeToDofGlue{VectorValue{3, Int32}}}, TrialFESpace{Gridap.FESpaces.UnconstrainedFESpace{Vector{Float64}, Gridap.FESpaces.NodeToDofGlue{VectorValue{3, Int32}}}}}(UnconstrainedFESpace(), [g1, g1], TrialFESpace())"
      ]
     },
     "execution_count": 36,
     "metadata": {},
     "output_type": "execute_result"
    }
   ],
   "source": [
    "V0 = TestFESpace(model, refFE; conformity=:H1,\n",
    "                dirichlet_masks=[(true, true, true), (true, true, true)])\n",
    "g1(x,t::Real) = VectorValue(0.0,0.0,0.0)\n",
    "g1(t::Real) = x -> g1(x,t)\n",
    "U = TransientTrialFESpace(V0,[g1,g1])"
   ]
  },
  {
   "cell_type": "code",
   "execution_count": 37,
   "id": "1d5e13ef",
   "metadata": {},
   "outputs": [
    {
     "data": {
      "text/plain": [
       "Measure()"
      ]
     },
     "execution_count": 37,
     "metadata": {},
     "output_type": "execute_result"
    }
   ],
   "source": [
    "x0 = VectorValue(0.3, 0.05, 0.3)\n",
    "degree = 2*order\n",
    "Ω = Triangulation(model)\n",
    "dΩ = Measure(Ω,degree)"
   ]
  },
  {
   "cell_type": "code",
   "execution_count": 38,
   "id": "691659b4",
   "metadata": {},
   "outputs": [
    {
     "data": {
      "text/plain": [
       "TransientFEOperatorFromWeakForm()"
      ]
     },
     "execution_count": 38,
     "metadata": {},
     "output_type": "execute_result"
    }
   ],
   "source": [
    "amplitude = 1000000000\n",
    "deviation = 100\n",
    "direction = VectorValue(0,0,1)\n",
    "f_t(x) = amplitude*exp(-deviation*norm(x-x0))*direction\n",
    "f = interpolate_everywhere(f_t, V0)\n",
    "\n",
    "m(utt,v) = ∫(v⊙utt)dΩ\n",
    "c(ut,v) = ∫(v⊙ut)dΩ\n",
    "a(u,v) = ∫(ε(v) ⊙ (ε(u)))dΩ \n",
    "b(t,v) = ∫(v⋅f_t)dΩ\n",
    "m(t,utt,v) = m(utt,v)\n",
    "c(t,ut,v) = c(ut,v)\n",
    "a(t,u,v) = a(u,v)\n",
    "res(t,u,v) = m(∂tt(u),v) + c(∂t(u),v) + a(u,v) - b(t,v)\n",
    "jac(t,u,du,v) = a(du,v)\n",
    "jac_t(t,u,dut,v) = c(dut,v)\n",
    "jac_tt(t,u,dutt,v) = m(dutt,v)\n",
    "op = TransientFEOperator(res, U, V0; order=2) # auto differentiation"
   ]
  },
  {
   "cell_type": "code",
   "execution_count": 39,
   "id": "21e25c6d",
   "metadata": {},
   "outputs": [
    {
     "data": {
      "text/plain": [
       "Gridap.ODEs.TransientFETools.TransientFESolution(GenericODESolution(), TransientTrialFESpace{Gridap.FESpaces.UnconstrainedFESpace{Vector{Float64}, Gridap.FESpaces.NodeToDofGlue{VectorValue{3, Int32}}}, TrialFESpace{Gridap.FESpaces.UnconstrainedFESpace{Vector{Float64}, Gridap.FESpaces.NodeToDofGlue{VectorValue{3, Int32}}}}}(UnconstrainedFESpace(), [g1, g1], TrialFESpace()))"
      ]
     },
     "execution_count": 39,
     "metadata": {},
     "output_type": "execute_result"
    }
   ],
   "source": [
    "linear_solver = LUSolver()\n",
    "dt = 0.1\n",
    "γ = 0.5\n",
    "β = 0.25\n",
    "u₀ = interpolate_everywhere(VectorValue(0,0,0),U(0))\n",
    "v₀ = interpolate_everywhere(VectorValue(0,0,0), U(0))\n",
    "a₀ = interpolate_everywhere(VectorValue(0,0,0), U(0))\n",
    "\n",
    "ode_solver = Newmark(linear_solver, dt, γ, β)\n",
    "\n",
    "t₀ = 0.0\n",
    "T = 10.0\n",
    "uht = solve(ode_solver,op,(u₀,v₀, a₀),t₀,T)"
   ]
  },
  {
   "cell_type": "code",
   "execution_count": 42,
   "id": "f318318c",
   "metadata": {},
   "outputs": [
    {
     "data": {
      "text/plain": [
       "101-element Vector{String}:\n",
       " \"elasticity_transient_solution.pvd\"\n",
       " \"elasticity_transient_solution_0.1.vtu\"\n",
       " \"elasticity_transient_solution_0.2.vtu\"\n",
       " \"elasticity_transient_solution_0.30000000000000004.vtu\"\n",
       " \"elasticity_transient_solution_0.4.vtu\"\n",
       " \"elasticity_transient_solution_0.5.vtu\"\n",
       " \"elasticity_transient_solution_0.6.vtu\"\n",
       " \"elasticity_transient_solution_0.7.vtu\"\n",
       " \"elasticity_transient_solution_0.7999999999999999.vtu\"\n",
       " \"elasticity_transient_solution_0.8999999999999999.vtu\"\n",
       " \"elasticity_transient_solution_0.9999999999999999.vtu\"\n",
       " \"elasticity_transient_solution_1.0999999999999999.vtu\"\n",
       " \"elasticity_transient_solution_1.2.vtu\"\n",
       " ⋮\n",
       " \"elasticity_transient_solution_8.899999999999984.vtu\"\n",
       " \"elasticity_transient_solution_8.999999999999984.vtu\"\n",
       " \"elasticity_transient_solution_9.099999999999984.vtu\"\n",
       " \"elasticity_transient_solution_9.199999999999983.vtu\"\n",
       " \"elasticity_transient_solution_9.299999999999983.vtu\"\n",
       " \"elasticity_transient_solution_9.399999999999983.vtu\"\n",
       " \"elasticity_transient_solution_9.499999999999982.vtu\"\n",
       " \"elasticity_transient_solution_9.599999999999982.vtu\"\n",
       " \"elasticity_transient_solution_9.699999999999982.vtu\"\n",
       " \"elasticity_transient_solution_9.799999999999981.vtu\"\n",
       " \"elasticity_transient_solution_9.89999999999998.vtu\"\n",
       " \"elasticity_transient_solution_9.99999999999998.vtu\""
      ]
     },
     "execution_count": 42,
     "metadata": {},
     "output_type": "execute_result"
    }
   ],
   "source": [
    "createpvd(\"elasticity_transient_solution\") do pvd\n",
    "  for (uₕ,t) in uht\n",
    "    pvd[t] = createvtk(Ω,\"elasticity_transient_solution_$t\"*\".vtu\",cellfields=[\"u\"=>uₕ])\n",
    "  end\n",
    "end"
   ]
  },
  {
   "cell_type": "code",
   "execution_count": null,
   "id": "5919e9fa",
   "metadata": {},
   "outputs": [],
   "source": []
  },
  {
   "cell_type": "code",
   "execution_count": null,
   "id": "844108cf",
   "metadata": {},
   "outputs": [],
   "source": []
  }
 ],
 "metadata": {
  "kernelspec": {
   "display_name": "Julia 1.8.1",
   "language": "julia",
   "name": "julia-1.8"
  },
  "language_info": {
   "file_extension": ".jl",
   "mimetype": "application/julia",
   "name": "julia",
   "version": "1.8.1"
  }
 },
 "nbformat": 4,
 "nbformat_minor": 5
}
