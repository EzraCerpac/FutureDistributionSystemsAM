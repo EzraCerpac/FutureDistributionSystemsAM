{
 "cells": [
  {
   "cell_type": "markdown",
   "id": "f465a445",
   "metadata": {},
   "source": [
    "# EE4375: Fourth Lab Session: FEM One-Dimensional Poisson Equation: Functions, StaticArrays, StructArrays, Type Stability and Benchmarking"
   ]
  },
  {
   "cell_type": "markdown",
   "id": "74e5abda",
   "metadata": {},
   "source": [
    "## Import Packages  "
   ]
  },
  {
   "cell_type": "code",
   "execution_count": 4,
   "id": "d01480a6",
   "metadata": {},
   "outputs": [],
   "source": [
    "using LinearAlgebra \n",
    "using SparseArrays \n",
    "using StructArrays\n",
    "using StaticArrays\n",
    "\n",
    "using IterativeSolvers\n",
    "using Preconditioners\n",
    "\n",
    "using BenchmarkTools\n",
    "using Profile\n",
    "using ProfileView\n",
    "\n",
    "using Plots "
   ]
  },
  {
   "cell_type": "markdown",
   "id": "19664a6c",
   "metadata": {},
   "source": [
    "## Section 1:/ Introduction \n",
    "\n",
    "Here we develop a one-dimensional Galerkin finite element code that construct the coefficient matrix as <b>sparse</b> without first constructing a full variant. The code furthermore is <b>type-stable</b> and uses a number of memory <b>allocations</b> that is almost independent of the problem size. We also explore the use of [StructArrays](https://github.com/JuliaArrays/StructArrays.jl) to allows memory-contingent layout is the assembly process. We currently lack the tools to verify the efficiency of this latter tool. "
   ]
  },
  {
   "cell_type": "markdown",
   "id": "b87ee8bf",
   "metadata": {},
   "source": [
    "## Section 2:/ One-Dimensional Mesh Generation \n",
    "\n",
    "Exercise: extend to from uniform mesh to non-uniform with local refinement to capture skin effect on material interfaces.  "
   ]
  },
  {
   "cell_type": "code",
   "execution_count": 5,
   "id": "63264a43",
   "metadata": {},
   "outputs": [],
   "source": [
    "# struct to hold a single mesh element\n",
    "struct Element\n",
    "  p1::Float64   # coordinate left-most node\n",
    "  p2::Float64   # coordinate right-most node\n",
    "  e1::Int64     # global index left-most node\n",
    "  e2::Int64     # global index right-most node\n",
    "end"
   ]
  },
  {
   "cell_type": "code",
   "execution_count": 6,
   "id": "890d6048",
   "metadata": {},
   "outputs": [
    {
     "data": {
      "text/plain": [
       "generateMesh (generic function with 1 method)"
      ]
     },
     "execution_count": 6,
     "metadata": {},
     "output_type": "execute_result"
    }
   ],
   "source": [
    "# function to generate a mesh on the interval 0 <= x <= 1.   \n",
    "function generateMesh(N::Int64)\n",
    "    h::Float64 = 1/N\n",
    "    x = Vector{Float64}(0:h:1) \n",
    "    mesh = StructArray{Element}((x[1:end-1], x[2:end], Vector(1:N), Vector(2:N+1)))\n",
    "    return mesh;\n",
    "end "
   ]
  },
  {
   "cell_type": "code",
   "execution_count": 7,
   "id": "80903e88",
   "metadata": {},
   "outputs": [
    {
     "data": {
      "text/plain": [
       "StructVector{Element, NamedTuple{(:p1, :p2, :e1, :e2), Tuple{Vector{Float64}, Vector{Float64}, Vector{Int64}, Vector{Int64}}}, Int64}\u001b[90m (alias for \u001b[39m\u001b[90mStructArray{Element, 1, NamedTuple{(:p1, :p2, :e1, :e2), Tuple{Array{Float64, 1}, Array{Float64, 1}, Array{Int64, 1}, Array{Int64, 1}}}, Int64}\u001b[39m\u001b[90m)\u001b[39m"
      ]
     },
     "execution_count": 7,
     "metadata": {},
     "output_type": "execute_result"
    }
   ],
   "source": [
    "# test function for correctness of output \n",
    "mesh = generateMesh(4)\n",
    "typeof(mesh)"
   ]
  },
  {
   "cell_type": "code",
   "execution_count": 8,
   "id": "6c64e6be",
   "metadata": {},
   "outputs": [
    {
     "name": "stdout",
     "output_type": "stream",
     "text": [
      "MethodInstance for generateMesh(::Int64)\n",
      "  from generateMesh(N::Int64) in Main at In[6]:2\n",
      "Arguments\n",
      "  #self#\u001b[36m::Core.Const(generateMesh)\u001b[39m\n",
      "  N\u001b[36m::Int64\u001b[39m\n",
      "Locals\n",
      "  mesh\u001b[36m::StructVector{Element, NamedTuple{(:p1, :p2, :e1, :e2), Tuple{Vector{Float64}, Vector{Float64}, Vector{Int64}, Vector{Int64}}}, Int64}\u001b[39m\n",
      "  x\u001b[36m::Vector{Float64}\u001b[39m\n",
      "  h\u001b[36m::Float64\u001b[39m\n",
      "Body\u001b[36m::StructVector{Element, NamedTuple{(:p1, :p2, :e1, :e2), Tuple{Vector{Float64}, Vector{Float64}, Vector{Int64}, Vector{Int64}}}, Int64}\u001b[39m\n",
      "\u001b[90m1 ─\u001b[39m %1  = (1 / N)\u001b[36m::Float64\u001b[39m\n",
      "\u001b[90m│  \u001b[39m %2  = Base.convert(Main.Float64, %1)\u001b[36m::Float64\u001b[39m\n",
      "\u001b[90m│  \u001b[39m       (h = Core.typeassert(%2, Main.Float64))\n",
      "\u001b[90m│  \u001b[39m %4  = Core.apply_type(Main.Vector, Main.Float64)\u001b[36m::Core.Const(Vector{Float64})\u001b[39m\n",
      "\u001b[90m│  \u001b[39m %5  = (0:h:1)\u001b[36m::StepRangeLen{Float64, Base.TwicePrecision{Float64}, Base.TwicePrecision{Float64}, Int64}\u001b[39m\n",
      "\u001b[90m│  \u001b[39m       (x = (%4)(%5))\n",
      "\u001b[90m│  \u001b[39m %7  = Core.apply_type(Main.StructArray, Main.Element)\u001b[36m::Core.Const(StructArray{Element})\u001b[39m\n",
      "\u001b[90m│  \u001b[39m %8  = x\u001b[36m::Vector{Float64}\u001b[39m\n",
      "\u001b[90m│  \u001b[39m %9  = Base.lastindex(x)\u001b[36m::Int64\u001b[39m\n",
      "\u001b[90m│  \u001b[39m %10 = (%9 - 1)\u001b[36m::Int64\u001b[39m\n",
      "\u001b[90m│  \u001b[39m %11 = (1:%10)\u001b[36m::Core.PartialStruct(UnitRange{Int64}, Any[Core.Const(1), Int64])\u001b[39m\n",
      "\u001b[90m│  \u001b[39m %12 = Base.getindex(%8, %11)\u001b[36m::Vector{Float64}\u001b[39m\n",
      "\u001b[90m│  \u001b[39m %13 = x\u001b[36m::Vector{Float64}\u001b[39m\n",
      "\u001b[90m│  \u001b[39m %14 = Base.lastindex(x)\u001b[36m::Int64\u001b[39m\n",
      "\u001b[90m│  \u001b[39m %15 = (2:%14)\u001b[36m::Core.PartialStruct(UnitRange{Int64}, Any[Core.Const(2), Int64])\u001b[39m\n",
      "\u001b[90m│  \u001b[39m %16 = Base.getindex(%13, %15)\u001b[36m::Vector{Float64}\u001b[39m\n",
      "\u001b[90m│  \u001b[39m %17 = (1:N)\u001b[36m::Core.PartialStruct(UnitRange{Int64}, Any[Core.Const(1), Int64])\u001b[39m\n",
      "\u001b[90m│  \u001b[39m %18 = Main.Vector(%17)\u001b[36m::Vector{Int64}\u001b[39m\n",
      "\u001b[90m│  \u001b[39m %19 = (N + 1)\u001b[36m::Int64\u001b[39m\n",
      "\u001b[90m│  \u001b[39m %20 = (2:%19)\u001b[36m::Core.PartialStruct(UnitRange{Int64}, Any[Core.Const(2), Int64])\u001b[39m\n",
      "\u001b[90m│  \u001b[39m %21 = Main.Vector(%20)\u001b[36m::Vector{Int64}\u001b[39m\n",
      "\u001b[90m│  \u001b[39m %22 = Core.tuple(%12, %16, %18, %21)\u001b[36m::Tuple{Vector{Float64}, Vector{Float64}, Vector{Int64}, Vector{Int64}}\u001b[39m\n",
      "\u001b[90m│  \u001b[39m       (mesh = (%7)(%22))\n",
      "\u001b[90m└──\u001b[39m       return mesh\n",
      "\n"
     ]
    }
   ],
   "source": [
    "# test function for type stability \n",
    "@code_warntype generateMesh(4);"
   ]
  },
  {
   "cell_type": "code",
   "execution_count": 15,
   "id": "bc6fae95",
   "metadata": {},
   "outputs": [
    {
     "name": "stdout",
     "output_type": "stream",
     "text": [
      "  0.000051 seconds (5 allocations: 720 bytes)\n",
      "  0.000006 seconds (5 allocations: 4.375 KiB)\n",
      "  0.000007 seconds (5 allocations: 39.750 KiB)\n",
      "  0.000090 seconds (10 allocations: 390.922 KiB)\n"
     ]
    }
   ],
   "source": [
    "# test function for number of allocations and CPU time\n",
    "# observe how the number of memory allocations only depends midly on the mesh size \n",
    "@time generateMesh(10);\n",
    "@time generateMesh(100);\n",
    "@time generateMesh(1000);\n",
    "@time generateMesh(10000);"
   ]
  },
  {
   "cell_type": "markdown",
   "id": "9b0c3e72",
   "metadata": {},
   "source": [
    "## Section 3/: Linear System Generation as Sparse From the Start "
   ]
  },
  {
   "cell_type": "markdown",
   "id": "0eae7de2",
   "metadata": {},
   "source": [
    "### Section 1.3: Coefficient Matrix Generation\n",
    "\n",
    "Note that the function generateMatrix() given below appears to be type-stable although input argument mesh does not carry any type annotation. The precise reason for this is still to be described here. \n",
    "\n",
    "Note that in the function generateMatrix() given below the variables Iloc, Jloc, Aloc do not require pre-allocation. Declaring these variables instead as static arrays appears to be sufficient to obtain a type stable function.  "
   ]
  },
  {
   "cell_type": "code",
   "execution_count": 18,
   "id": "4c4b4d77",
   "metadata": {},
   "outputs": [
    {
     "data": {
      "text/plain": [
       "generateMatrix (generic function with 1 method)"
      ]
     },
     "execution_count": 18,
     "metadata": {},
     "output_type": "execute_result"
    }
   ],
   "source": [
    "function generateLocalMatrix(element::Element)\n",
    "    h::Float64 = element.p2 - element.p1\n",
    "    Iloc = SA[element.e1, element.e1, element.e2, element.e2]\n",
    "    Jloc = SA[element.e1, element.e2, element.e1, element.e2]\n",
    "    Aloc = SA_F64[1/h, -1/h, -1/h, 1/h]\n",
    "    return Iloc, Jloc, Aloc\n",
    "end\n",
    "\n",
    "function generateMatrix(mesh)\n",
    "    \n",
    "    #..recover number of elements  \n",
    "    N::Int64 = length(mesh) \n",
    "    dofperelem::Int64 = 4; \n",
    "    \n",
    "    #..preallocate the memory for local matrix contributions \n",
    "    Avalues = zeros(Float64,dofperelem*N)\n",
    "    I = zeros(Int64,length(Avalues))\n",
    "    J = zeros(Int64,length(Avalues))\n",
    "\n",
    "    for i = 1:N #..loop over number of elements..\n",
    "        element::Element = mesh[i]\n",
    "        Iloc, Jloc, Aloc = generateLocalMatrix(element) \n",
    "        irng = SA[4*i-3, 4*i-2, 4*i-1, 4*i] \n",
    "        I[irng] .= Iloc \n",
    "        J[irng] .= Jloc \n",
    "        Avalues[irng] .= Aloc         \n",
    "    end\n",
    "    \n",
    "    A = sparse(I,J,Avalues)\n",
    "   \n",
    "    return A; \n",
    "end"
   ]
  },
  {
   "cell_type": "code",
   "execution_count": 11,
   "id": "2beea70d",
   "metadata": {},
   "outputs": [
    {
     "name": "stdout",
     "output_type": "stream",
     "text": [
      "MethodInstance for generateMatrix(::StructVector{Element, NamedTuple{(:p1, :p2, :e1, :e2), Tuple{Vector{Float64}, Vector{Float64}, Vector{Int64}, Vector{Int64}}}, Int64})\n",
      "  from generateMatrix(mesh) in Main at In[7]:9\n",
      "Arguments\n",
      "  #self#\u001b[36m::Core.Const(generateMatrix)\u001b[39m\n",
      "  mesh\u001b[36m::StructVector{Element, NamedTuple{(:p1, :p2, :e1, :e2), Tuple{Vector{Float64}, Vector{Float64}, Vector{Int64}, Vector{Int64}}}, Int64}\u001b[39m\n",
      "Locals\n",
      "  @_3\u001b[33m\u001b[1m::Union{Nothing, Tuple{Int64, Int64}}\u001b[22m\u001b[39m\n",
      "  A\u001b[36m::SparseMatrixCSC{Float64, Int64}\u001b[39m\n",
      "  J\u001b[36m::Vector{Int64}\u001b[39m\n",
      "  I\u001b[36m::Vector{Int64}\u001b[39m\n",
      "  Avalues\u001b[36m::Vector{Float64}\u001b[39m\n",
      "  dofperelem\u001b[36m::Int64\u001b[39m\n",
      "  N\u001b[36m::Int64\u001b[39m\n",
      "  @_10\u001b[36m::Int64\u001b[39m\n",
      "  i\u001b[36m::Int64\u001b[39m\n",
      "  irng\u001b[36m::SVector{4, Int64}\u001b[39m\n",
      "  Aloc\u001b[36m::SVector{4, Float64}\u001b[39m\n",
      "  Jloc\u001b[36m::SVector{4, Int64}\u001b[39m\n",
      "  Iloc\u001b[36m::SVector{4, Int64}\u001b[39m\n",
      "  element\u001b[36m::Element\u001b[39m\n",
      "Body\u001b[36m::SparseMatrixCSC{Float64, Int64}\u001b[39m\n",
      "\u001b[90m1 ─\u001b[39m       Core.NewvarNode(:(A))\n",
      "\u001b[90m│  \u001b[39m %2  = Main.length(mesh)\u001b[36m::Int64\u001b[39m\n",
      "\u001b[90m│  \u001b[39m %3  = Base.convert(Main.Int64, %2)\u001b[36m::Int64\u001b[39m\n",
      "\u001b[90m│  \u001b[39m       (N = Core.typeassert(%3, Main.Int64))\n",
      "\u001b[90m│  \u001b[39m %5  = Base.convert(Main.Int64, 4)\u001b[36m::Core.Const(4)\u001b[39m\n",
      "\u001b[90m│  \u001b[39m       (dofperelem = Core.typeassert(%5, Main.Int64))\n",
      "\u001b[90m│  \u001b[39m %7  = (dofperelem::Core.Const(4) * N)\u001b[36m::Int64\u001b[39m\n",
      "\u001b[90m│  \u001b[39m       (Avalues = Main.zeros(Main.Float64, %7))\n",
      "\u001b[90m│  \u001b[39m %9  = Main.length(Avalues)\u001b[36m::Int64\u001b[39m\n",
      "\u001b[90m│  \u001b[39m       (I = Main.zeros(Main.Int64, %9))\n",
      "\u001b[90m│  \u001b[39m %11 = Main.length(Avalues)\u001b[36m::Int64\u001b[39m\n",
      "\u001b[90m│  \u001b[39m       (J = Main.zeros(Main.Int64, %11))\n",
      "\u001b[90m│  \u001b[39m %13 = (1:N)\u001b[36m::Core.PartialStruct(UnitRange{Int64}, Any[Core.Const(1), Int64])\u001b[39m\n",
      "\u001b[90m│  \u001b[39m       (@_3 = Base.iterate(%13))\n",
      "\u001b[90m│  \u001b[39m %15 = (@_3 === nothing)\u001b[36m::Bool\u001b[39m\n",
      "\u001b[90m│  \u001b[39m %16 = Base.not_int(%15)\u001b[36m::Bool\u001b[39m\n",
      "\u001b[90m└──\u001b[39m       goto #4 if not %16\n",
      "\u001b[90m2 ┄\u001b[39m %18 = @_3\u001b[36m::Tuple{Int64, Int64}\u001b[39m\n",
      "\u001b[90m│  \u001b[39m       (i = Core.getfield(%18, 1))\n",
      "\u001b[90m│  \u001b[39m %20 = Core.getfield(%18, 2)\u001b[36m::Int64\u001b[39m\n",
      "\u001b[90m│  \u001b[39m %21 = Base.getindex(mesh, i)\u001b[36m::Element\u001b[39m\n",
      "\u001b[90m│  \u001b[39m %22 = Base.convert(Main.Element, %21)\u001b[36m::Element\u001b[39m\n",
      "\u001b[90m│  \u001b[39m       (element = Core.typeassert(%22, Main.Element))\n",
      "\u001b[90m│  \u001b[39m %24 = Main.generateLocalMatrix(element)\u001b[36m::Tuple{SVector{4, Int64}, SVector{4, Int64}, SVector{4, Float64}}\u001b[39m\n",
      "\u001b[90m│  \u001b[39m %25 = Base.indexed_iterate(%24, 1)\u001b[36m::Core.PartialStruct(Tuple{SVector{4, Int64}, Int64}, Any[SVector{4, Int64}, Core.Const(2)])\u001b[39m\n",
      "\u001b[90m│  \u001b[39m       (Iloc = Core.getfield(%25, 1))\n",
      "\u001b[90m│  \u001b[39m       (@_10 = Core.getfield(%25, 2))\n",
      "\u001b[90m│  \u001b[39m %28 = Base.indexed_iterate(%24, 2, @_10::Core.Const(2))\u001b[36m::Core.PartialStruct(Tuple{SVector{4, Int64}, Int64}, Any[SVector{4, Int64}, Core.Const(3)])\u001b[39m\n",
      "\u001b[90m│  \u001b[39m       (Jloc = Core.getfield(%28, 1))\n",
      "\u001b[90m│  \u001b[39m       (@_10 = Core.getfield(%28, 2))\n",
      "\u001b[90m│  \u001b[39m %31 = Base.indexed_iterate(%24, 3, @_10::Core.Const(3))\u001b[36m::Core.PartialStruct(Tuple{SVector{4, Float64}, Int64}, Any[SVector{4, Float64}, Core.Const(4)])\u001b[39m\n",
      "\u001b[90m│  \u001b[39m       (Aloc = Core.getfield(%31, 1))\n",
      "\u001b[90m│  \u001b[39m %33 = (4 * i)\u001b[36m::Int64\u001b[39m\n",
      "\u001b[90m│  \u001b[39m %34 = (%33 - 3)\u001b[36m::Int64\u001b[39m\n",
      "\u001b[90m│  \u001b[39m %35 = (4 * i)\u001b[36m::Int64\u001b[39m\n",
      "\u001b[90m│  \u001b[39m %36 = (%35 - 2)\u001b[36m::Int64\u001b[39m\n",
      "\u001b[90m│  \u001b[39m %37 = (4 * i)\u001b[36m::Int64\u001b[39m\n",
      "\u001b[90m│  \u001b[39m %38 = (%37 - 1)\u001b[36m::Int64\u001b[39m\n",
      "\u001b[90m│  \u001b[39m %39 = (4 * i)\u001b[36m::Int64\u001b[39m\n",
      "\u001b[90m│  \u001b[39m       (irng = Base.getindex(Main.SA, %34, %36, %38, %39))\n",
      "\u001b[90m│  \u001b[39m %41 = Base.dotview(I, irng)\u001b[36m::Core.PartialStruct(SubArray{Int64, 1, Vector{Int64}, Tuple{SVector{4, Int64}}, false}, Any[Vector{Int64}, Tuple{SVector{4, Int64}}, Core.Const(0), Core.Const(0)])\u001b[39m\n",
      "\u001b[90m│  \u001b[39m %42 = Base.broadcasted(Base.identity, Iloc)\u001b[36m::Base.Broadcast.Broadcasted{StaticArraysCore.StaticArrayStyle{1}, Nothing, typeof(identity), Tuple{SVector{4, Int64}}}\u001b[39m\n",
      "\u001b[90m│  \u001b[39m       Base.materialize!(%41, %42)\n",
      "\u001b[90m│  \u001b[39m %44 = Base.dotview(J, irng)\u001b[36m::Core.PartialStruct(SubArray{Int64, 1, Vector{Int64}, Tuple{SVector{4, Int64}}, false}, Any[Vector{Int64}, Tuple{SVector{4, Int64}}, Core.Const(0), Core.Const(0)])\u001b[39m\n",
      "\u001b[90m│  \u001b[39m %45 = Base.broadcasted(Base.identity, Jloc)\u001b[36m::Base.Broadcast.Broadcasted{StaticArraysCore.StaticArrayStyle{1}, Nothing, typeof(identity), Tuple{SVector{4, Int64}}}\u001b[39m\n",
      "\u001b[90m│  \u001b[39m       Base.materialize!(%44, %45)\n",
      "\u001b[90m│  \u001b[39m %47 = Base.dotview(Avalues, irng)\u001b[36m::Core.PartialStruct(SubArray{Float64, 1, Vector{Float64}, Tuple{SVector{4, Int64}}, false}, Any[Vector{Float64}, Tuple{SVector{4, Int64}}, Core.Const(0), Core.Const(0)])\u001b[39m\n",
      "\u001b[90m│  \u001b[39m %48 = Base.broadcasted(Base.identity, Aloc)\u001b[36m::Base.Broadcast.Broadcasted{StaticArraysCore.StaticArrayStyle{1}, Nothing, typeof(identity), Tuple{SVector{4, Float64}}}\u001b[39m\n",
      "\u001b[90m│  \u001b[39m       Base.materialize!(%47, %48)\n",
      "\u001b[90m│  \u001b[39m       (@_3 = Base.iterate(%13, %20))\n",
      "\u001b[90m│  \u001b[39m %51 = (@_3 === nothing)\u001b[36m::Bool\u001b[39m\n",
      "\u001b[90m│  \u001b[39m %52 = Base.not_int(%51)\u001b[36m::Bool\u001b[39m\n",
      "\u001b[90m└──\u001b[39m       goto #4 if not %52\n",
      "\u001b[90m3 ─\u001b[39m       goto #2\n",
      "\u001b[90m4 ┄\u001b[39m       (A = Main.sparse(I, J, Avalues))\n",
      "\u001b[90m└──\u001b[39m       return A\n",
      "\n"
     ]
    }
   ],
   "source": [
    "@code_warntype generateMatrix(mesh)"
   ]
  },
  {
   "cell_type": "code",
   "execution_count": 21,
   "id": "0b9e1877",
   "metadata": {},
   "outputs": [
    {
     "name": "stdout",
     "output_type": "stream",
     "text": [
      "  0.000063 seconds (14 allocations: 3.125 KiB)\n",
      "  0.000015 seconds (14 allocations: 23.969 KiB)\n",
      "  0.000094 seconds (21 allocations: 227.859 KiB)\n",
      "  0.000634 seconds (24 allocations: 2.214 MiB)\n"
     ]
    }
   ],
   "source": [
    "# test function for number of allocations and CPU time\n",
    "# observe how the number of memory allocations only depends midly on the mesh size\n",
    "mesh = generateMesh(10);    @time generateMatrix(mesh);\n",
    "mesh = generateMesh(100);   @time generateMatrix(mesh);\n",
    "mesh = generateMesh(1000);  @time generateMatrix(mesh); \n",
    "mesh = generateMesh(10000); @time generateMatrix(mesh); "
   ]
  },
  {
   "cell_type": "markdown",
   "id": "4b009bbd",
   "metadata": {},
   "source": [
    "### Section 2.3: Right-Hand Side Vector Generation\n",
    "\n",
    "Providing sourceFct as argument causes implementation to allocate. This is still left to be explained. "
   ]
  },
  {
   "cell_type": "code",
   "execution_count": 23,
   "id": "95dc37e1",
   "metadata": {},
   "outputs": [
    {
     "data": {
      "text/plain": [
       "generateVector (generic function with 1 method)"
      ]
     },
     "execution_count": 23,
     "metadata": {},
     "output_type": "execute_result"
    }
   ],
   "source": [
    "# function generateLocalVector(element::Element,sourceFct::Function)\n",
    "function generateLocalVector(element::Element)\n",
    "    h::Float64 = element.p2 - element.p1\n",
    "    Iloc = SA[element.e1, element.e2]\n",
    "    f1::Float64 = (h/2.)*sourceFct(element.p1)\n",
    "    f2::Float64 = (h/2.)*sourceFct(element.p2)\n",
    "    floc = SA_F64[f1, f2]\n",
    "    return Iloc, floc\n",
    "end\n",
    "\n",
    "# function generateVector(mesh,sourceFct::Function)\n",
    "function generateVector(mesh)\n",
    "    \n",
    "    #..recover number of elements  \n",
    "    N::Int64   = length(mesh)\n",
    "    Np1::Int64 = N+1 \n",
    "    \n",
    "    #..preallocate the memory for local martrix contributions \n",
    "    f = zeros(Float64,Np1)\n",
    "\n",
    "    for i = 1:N #..loop over number of elements..\n",
    "        element::Element = mesh[i]\n",
    "        # Iloc, floc = generateLocalVector(element,sourceFct) \n",
    "        Iloc, floc = generateLocalVector(element)                         \n",
    "        f[Iloc] .+= floc          \n",
    "    end\n",
    "   \n",
    "    return f; \n",
    "end"
   ]
  },
  {
   "cell_type": "code",
   "execution_count": 24,
   "id": "f58b1912",
   "metadata": {},
   "outputs": [
    {
     "data": {
      "text/plain": [
       "sourceFct (generic function with 1 method)"
      ]
     },
     "execution_count": 24,
     "metadata": {},
     "output_type": "execute_result"
    }
   ],
   "source": [
    "function sourceFct(x::Float64)\n",
    "    return x*sin(π*x)\n",
    "end"
   ]
  },
  {
   "cell_type": "code",
   "execution_count": 25,
   "id": "f535a21b",
   "metadata": {},
   "outputs": [],
   "source": [
    "# @code_warntype sourceFct(.2)"
   ]
  },
  {
   "cell_type": "code",
   "execution_count": 27,
   "id": "a40b7f60",
   "metadata": {},
   "outputs": [
    {
     "name": "stdout",
     "output_type": "stream",
     "text": [
      "  0.000010 seconds (1 allocation: 144 bytes)\n",
      "  0.000006 seconds (1 allocation: 896 bytes)\n",
      "  0.000020 seconds (1 allocation: 8.000 KiB)\n",
      "  0.000134 seconds (2 allocations: 78.234 KiB)\n"
     ]
    }
   ],
   "source": [
    "# observe again how the number of memory allocations only depends midly on the mesh size\n",
    "mesh = generateMesh(10);    @time f = generateVector(mesh);\n",
    "mesh = generateMesh(100);   @time f = generateVector(mesh);\n",
    "mesh = generateMesh(1000);  @time f = generateVector(mesh);\n",
    "mesh = generateMesh(10000); @time f = generateVector(mesh);"
   ]
  },
  {
   "cell_type": "code",
   "execution_count": 29,
   "id": "f9acdd0f",
   "metadata": {},
   "outputs": [
    {
     "name": "stdout",
     "output_type": "stream",
     "text": [
      "MethodInstance for generateVector(::StructVector{Element, NamedTuple{(:p1, :p2, :e1, :e2), Tuple{Vector{Float64}, Vector{Float64}, Vector{Int64}, Vector{Int64}}}, Int64})\n",
      "  from generateVector(mesh) in Main at In[23]:12\n",
      "Arguments\n",
      "  #self#\u001b[36m::Core.Const(generateVector)\u001b[39m\n",
      "  mesh\u001b[36m::StructVector{Element, NamedTuple{(:p1, :p2, :e1, :e2), Tuple{Vector{Float64}, Vector{Float64}, Vector{Int64}, Vector{Int64}}}, Int64}\u001b[39m\n",
      "Locals\n",
      "  @_3\u001b[33m\u001b[1m::Union{Nothing, Tuple{Int64, Int64}}\u001b[22m\u001b[39m\n",
      "  f\u001b[36m::Vector{Float64}\u001b[39m\n",
      "  Np1\u001b[36m::Int64\u001b[39m\n",
      "  N\u001b[36m::Int64\u001b[39m\n",
      "  @_7\u001b[36m::Int64\u001b[39m\n",
      "  i\u001b[36m::Int64\u001b[39m\n",
      "  floc\u001b[36m::SVector{2, Float64}\u001b[39m\n",
      "  Iloc\u001b[36m::SVector{2, Int64}\u001b[39m\n",
      "  element\u001b[36m::Element\u001b[39m\n",
      "Body\u001b[36m::Vector{Float64}\u001b[39m\n",
      "\u001b[90m1 ─\u001b[39m %1  = Main.length(mesh)\u001b[36m::Int64\u001b[39m\n",
      "\u001b[90m│  \u001b[39m %2  = Base.convert(Main.Int64, %1)\u001b[36m::Int64\u001b[39m\n",
      "\u001b[90m│  \u001b[39m       (N = Core.typeassert(%2, Main.Int64))\n",
      "\u001b[90m│  \u001b[39m %4  = (N + 1)\u001b[36m::Int64\u001b[39m\n",
      "\u001b[90m│  \u001b[39m %5  = Base.convert(Main.Int64, %4)\u001b[36m::Int64\u001b[39m\n",
      "\u001b[90m│  \u001b[39m       (Np1 = Core.typeassert(%5, Main.Int64))\n",
      "\u001b[90m│  \u001b[39m       (f = Main.zeros(Main.Float64, Np1))\n",
      "\u001b[90m│  \u001b[39m %8  = (1:N)\u001b[36m::Core.PartialStruct(UnitRange{Int64}, Any[Core.Const(1), Int64])\u001b[39m\n",
      "\u001b[90m│  \u001b[39m       (@_3 = Base.iterate(%8))\n",
      "\u001b[90m│  \u001b[39m %10 = (@_3 === nothing)\u001b[36m::Bool\u001b[39m\n",
      "\u001b[90m│  \u001b[39m %11 = Base.not_int(%10)\u001b[36m::Bool\u001b[39m\n",
      "\u001b[90m└──\u001b[39m       goto #4 if not %11\n",
      "\u001b[90m2 ┄\u001b[39m %13 = @_3\u001b[36m::Tuple{Int64, Int64}\u001b[39m\n",
      "\u001b[90m│  \u001b[39m       (i = Core.getfield(%13, 1))\n",
      "\u001b[90m│  \u001b[39m %15 = Core.getfield(%13, 2)\u001b[36m::Int64\u001b[39m\n",
      "\u001b[90m│  \u001b[39m %16 = Base.getindex(mesh, i)\u001b[36m::Element\u001b[39m\n",
      "\u001b[90m│  \u001b[39m %17 = Base.convert(Main.Element, %16)\u001b[36m::Element\u001b[39m\n",
      "\u001b[90m│  \u001b[39m       (element = Core.typeassert(%17, Main.Element))\n",
      "\u001b[90m│  \u001b[39m %19 = Main.generateLocalVector(element)\u001b[36m::Tuple{SVector{2, Int64}, SVector{2, Float64}}\u001b[39m\n",
      "\u001b[90m│  \u001b[39m %20 = Base.indexed_iterate(%19, 1)\u001b[36m::Core.PartialStruct(Tuple{SVector{2, Int64}, Int64}, Any[SVector{2, Int64}, Core.Const(2)])\u001b[39m\n",
      "\u001b[90m│  \u001b[39m       (Iloc = Core.getfield(%20, 1))\n",
      "\u001b[90m│  \u001b[39m       (@_7 = Core.getfield(%20, 2))\n",
      "\u001b[90m│  \u001b[39m %23 = Base.indexed_iterate(%19, 2, @_7::Core.Const(2))\u001b[36m::Core.PartialStruct(Tuple{SVector{2, Float64}, Int64}, Any[SVector{2, Float64}, Core.Const(3)])\u001b[39m\n",
      "\u001b[90m│  \u001b[39m       (floc = Core.getfield(%23, 1))\n",
      "\u001b[90m│  \u001b[39m %25 = Base.dotview(f, Iloc)\u001b[36m::Core.PartialStruct(SubArray{Float64, 1, Vector{Float64}, Tuple{SVector{2, Int64}}, false}, Any[Vector{Float64}, Tuple{SVector{2, Int64}}, Core.Const(0), Core.Const(0)])\u001b[39m\n",
      "\u001b[90m│  \u001b[39m %26 = Base.getindex(f, Iloc)\u001b[36m::SVector{2, Float64}\u001b[39m\n",
      "\u001b[90m│  \u001b[39m %27 = Base.broadcasted(Main.:+, %26, floc)\u001b[36m::Base.Broadcast.Broadcasted{StaticArraysCore.StaticArrayStyle{1}, Nothing, typeof(+), Tuple{SVector{2, Float64}, SVector{2, Float64}}}\u001b[39m\n",
      "\u001b[90m│  \u001b[39m       Base.materialize!(%25, %27)\n",
      "\u001b[90m│  \u001b[39m       (@_3 = Base.iterate(%8, %15))\n",
      "\u001b[90m│  \u001b[39m %30 = (@_3 === nothing)\u001b[36m::Bool\u001b[39m\n",
      "\u001b[90m│  \u001b[39m %31 = Base.not_int(%30)\u001b[36m::Bool\u001b[39m\n",
      "\u001b[90m└──\u001b[39m       goto #4 if not %31\n",
      "\u001b[90m3 ─\u001b[39m       goto #2\n",
      "\u001b[90m4 ┄\u001b[39m       return f\n",
      "\n"
     ]
    }
   ],
   "source": [
    "@code_warntype generateVector(mesh)"
   ]
  },
  {
   "cell_type": "markdown",
   "id": "aecb5685",
   "metadata": {},
   "source": [
    "## Section 4: Solve Process "
   ]
  },
  {
   "cell_type": "code",
   "execution_count": 30,
   "id": "5e74adb3",
   "metadata": {},
   "outputs": [
    {
     "name": "stdout",
     "output_type": "stream",
     "text": [
      "  0.000226 seconds (67 allocations: 552.297 KiB)\n"
     ]
    },
    {
     "data": {
      "image/svg+xml": [
       "<?xml version=\"1.0\" encoding=\"utf-8\"?>\n",
       "<svg xmlns=\"http://www.w3.org/2000/svg\" xmlns:xlink=\"http://www.w3.org/1999/xlink\" width=\"600\" height=\"400\" viewBox=\"0 0 2400 1600\">\n",
       "<defs>\n",
       "  <clipPath id=\"clip470\">\n",
       "    <rect x=\"0\" y=\"0\" width=\"2400\" height=\"1600\"/>\n",
       "  </clipPath>\n",
       "</defs>\n",
       "<path clip-path=\"url(#clip470)\" d=\"M0 1600 L2400 1600 L2400 0 L0 0  Z\" fill=\"#ffffff\" fill-rule=\"evenodd\" fill-opacity=\"1\"/>\n",
       "<defs>\n",
       "  <clipPath id=\"clip471\">\n",
       "    <rect x=\"480\" y=\"0\" width=\"1681\" height=\"1600\"/>\n",
       "  </clipPath>\n",
       "</defs>\n",
       "<path clip-path=\"url(#clip470)\" d=\"M186.274 1486.45 L2352.76 1486.45 L2352.76 47.2441 L186.274 47.2441  Z\" fill=\"#ffffff\" fill-rule=\"evenodd\" fill-opacity=\"1\"/>\n",
       "<defs>\n",
       "  <clipPath id=\"clip472\">\n",
       "    <rect x=\"186\" y=\"47\" width=\"2167\" height=\"1440\"/>\n",
       "  </clipPath>\n",
       "</defs>\n",
       "<polyline clip-path=\"url(#clip472)\" style=\"stroke:#000000; stroke-linecap:round; stroke-linejoin:round; stroke-width:2; stroke-opacity:0.1; fill:none\" points=\"243.502,1486.45 243.502,47.2441 \"/>\n",
       "<polyline clip-path=\"url(#clip472)\" style=\"stroke:#000000; stroke-linecap:round; stroke-linejoin:round; stroke-width:2; stroke-opacity:0.1; fill:none\" points=\"652.272,1486.45 652.272,47.2441 \"/>\n",
       "<polyline clip-path=\"url(#clip472)\" style=\"stroke:#000000; stroke-linecap:round; stroke-linejoin:round; stroke-width:2; stroke-opacity:0.1; fill:none\" points=\"1061.04,1486.45 1061.04,47.2441 \"/>\n",
       "<polyline clip-path=\"url(#clip472)\" style=\"stroke:#000000; stroke-linecap:round; stroke-linejoin:round; stroke-width:2; stroke-opacity:0.1; fill:none\" points=\"1469.81,1486.45 1469.81,47.2441 \"/>\n",
       "<polyline clip-path=\"url(#clip472)\" style=\"stroke:#000000; stroke-linecap:round; stroke-linejoin:round; stroke-width:2; stroke-opacity:0.1; fill:none\" points=\"1878.58,1486.45 1878.58,47.2441 \"/>\n",
       "<polyline clip-path=\"url(#clip472)\" style=\"stroke:#000000; stroke-linecap:round; stroke-linejoin:round; stroke-width:2; stroke-opacity:0.1; fill:none\" points=\"2287.35,1486.45 2287.35,47.2441 \"/>\n",
       "<polyline clip-path=\"url(#clip470)\" style=\"stroke:#000000; stroke-linecap:round; stroke-linejoin:round; stroke-width:4; stroke-opacity:1; fill:none\" points=\"186.274,1486.45 2352.76,1486.45 \"/>\n",
       "<polyline clip-path=\"url(#clip470)\" style=\"stroke:#000000; stroke-linecap:round; stroke-linejoin:round; stroke-width:4; stroke-opacity:1; fill:none\" points=\"243.502,1486.45 243.502,1467.55 \"/>\n",
       "<polyline clip-path=\"url(#clip470)\" style=\"stroke:#000000; stroke-linecap:round; stroke-linejoin:round; stroke-width:4; stroke-opacity:1; fill:none\" points=\"652.272,1486.45 652.272,1467.55 \"/>\n",
       "<polyline clip-path=\"url(#clip470)\" style=\"stroke:#000000; stroke-linecap:round; stroke-linejoin:round; stroke-width:4; stroke-opacity:1; fill:none\" points=\"1061.04,1486.45 1061.04,1467.55 \"/>\n",
       "<polyline clip-path=\"url(#clip470)\" style=\"stroke:#000000; stroke-linecap:round; stroke-linejoin:round; stroke-width:4; stroke-opacity:1; fill:none\" points=\"1469.81,1486.45 1469.81,1467.55 \"/>\n",
       "<polyline clip-path=\"url(#clip470)\" style=\"stroke:#000000; stroke-linecap:round; stroke-linejoin:round; stroke-width:4; stroke-opacity:1; fill:none\" points=\"1878.58,1486.45 1878.58,1467.55 \"/>\n",
       "<polyline clip-path=\"url(#clip470)\" style=\"stroke:#000000; stroke-linecap:round; stroke-linejoin:round; stroke-width:4; stroke-opacity:1; fill:none\" points=\"2287.35,1486.45 2287.35,1467.55 \"/>\n",
       "<path clip-path=\"url(#clip470)\" d=\"M243.502 1517.37 Q239.891 1517.37 238.062 1520.93 Q236.256 1524.47 236.256 1531.6 Q236.256 1538.71 238.062 1542.27 Q239.891 1545.82 243.502 1545.82 Q247.136 1545.82 248.942 1542.27 Q250.77 1538.71 250.77 1531.6 Q250.77 1524.47 248.942 1520.93 Q247.136 1517.37 243.502 1517.37 M243.502 1513.66 Q249.312 1513.66 252.368 1518.27 Q255.446 1522.85 255.446 1531.6 Q255.446 1540.33 252.368 1544.94 Q249.312 1549.52 243.502 1549.52 Q237.692 1549.52 234.613 1544.94 Q231.557 1540.33 231.557 1531.6 Q231.557 1522.85 234.613 1518.27 Q237.692 1513.66 243.502 1513.66 Z\" fill=\"#000000\" fill-rule=\"nonzero\" fill-opacity=\"1\" /><path clip-path=\"url(#clip470)\" d=\"M611.879 1544.91 L619.518 1544.91 L619.518 1518.55 L611.207 1520.21 L611.207 1515.95 L619.471 1514.29 L624.147 1514.29 L624.147 1544.91 L631.786 1544.91 L631.786 1548.85 L611.879 1548.85 L611.879 1544.91 Z\" fill=\"#000000\" fill-rule=\"nonzero\" fill-opacity=\"1\" /><path clip-path=\"url(#clip470)\" d=\"M651.23 1517.37 Q647.619 1517.37 645.791 1520.93 Q643.985 1524.47 643.985 1531.6 Q643.985 1538.71 645.791 1542.27 Q647.619 1545.82 651.23 1545.82 Q654.865 1545.82 656.67 1542.27 Q658.499 1538.71 658.499 1531.6 Q658.499 1524.47 656.67 1520.93 Q654.865 1517.37 651.23 1517.37 M651.23 1513.66 Q657.04 1513.66 660.096 1518.27 Q663.175 1522.85 663.175 1531.6 Q663.175 1540.33 660.096 1544.94 Q657.04 1549.52 651.23 1549.52 Q645.42 1549.52 642.341 1544.94 Q639.286 1540.33 639.286 1531.6 Q639.286 1522.85 642.341 1518.27 Q645.42 1513.66 651.23 1513.66 Z\" fill=\"#000000\" fill-rule=\"nonzero\" fill-opacity=\"1\" /><path clip-path=\"url(#clip470)\" d=\"M681.392 1517.37 Q677.781 1517.37 675.952 1520.93 Q674.147 1524.47 674.147 1531.6 Q674.147 1538.71 675.952 1542.27 Q677.781 1545.82 681.392 1545.82 Q685.026 1545.82 686.832 1542.27 Q688.661 1538.71 688.661 1531.6 Q688.661 1524.47 686.832 1520.93 Q685.026 1517.37 681.392 1517.37 M681.392 1513.66 Q687.202 1513.66 690.258 1518.27 Q693.337 1522.85 693.337 1531.6 Q693.337 1540.33 690.258 1544.94 Q687.202 1549.52 681.392 1549.52 Q675.582 1549.52 672.503 1544.94 Q669.448 1540.33 669.448 1531.6 Q669.448 1522.85 672.503 1518.27 Q675.582 1513.66 681.392 1513.66 Z\" fill=\"#000000\" fill-rule=\"nonzero\" fill-opacity=\"1\" /><path clip-path=\"url(#clip470)\" d=\"M1024.73 1544.91 L1041.05 1544.91 L1041.05 1548.85 L1019.11 1548.85 L1019.11 1544.91 Q1021.77 1542.16 1026.35 1537.53 Q1030.96 1532.88 1032.14 1531.53 Q1034.39 1529.01 1035.27 1527.27 Q1036.17 1525.51 1036.17 1523.82 Q1036.17 1521.07 1034.23 1519.33 Q1032.3 1517.6 1029.2 1517.6 Q1027 1517.6 1024.55 1518.36 Q1022.12 1519.13 1019.34 1520.68 L1019.34 1515.95 Q1022.17 1514.82 1024.62 1514.24 Q1027.07 1513.66 1029.11 1513.66 Q1034.48 1513.66 1037.67 1516.35 Q1040.87 1519.03 1040.87 1523.52 Q1040.87 1525.65 1040.06 1527.57 Q1039.27 1529.47 1037.16 1532.07 Q1036.59 1532.74 1033.48 1535.95 Q1030.38 1539.15 1024.73 1544.91 Z\" fill=\"#000000\" fill-rule=\"nonzero\" fill-opacity=\"1\" /><path clip-path=\"url(#clip470)\" d=\"M1060.87 1517.37 Q1057.26 1517.37 1055.43 1520.93 Q1053.62 1524.47 1053.62 1531.6 Q1053.62 1538.71 1055.43 1542.27 Q1057.26 1545.82 1060.87 1545.82 Q1064.5 1545.82 1066.31 1542.27 Q1068.14 1538.71 1068.14 1531.6 Q1068.14 1524.47 1066.31 1520.93 Q1064.5 1517.37 1060.87 1517.37 M1060.87 1513.66 Q1066.68 1513.66 1069.73 1518.27 Q1072.81 1522.85 1072.81 1531.6 Q1072.81 1540.33 1069.73 1544.94 Q1066.68 1549.52 1060.87 1549.52 Q1055.06 1549.52 1051.98 1544.94 Q1048.92 1540.33 1048.92 1531.6 Q1048.92 1522.85 1051.98 1518.27 Q1055.06 1513.66 1060.87 1513.66 Z\" fill=\"#000000\" fill-rule=\"nonzero\" fill-opacity=\"1\" /><path clip-path=\"url(#clip470)\" d=\"M1091.03 1517.37 Q1087.42 1517.37 1085.59 1520.93 Q1083.79 1524.47 1083.79 1531.6 Q1083.79 1538.71 1085.59 1542.27 Q1087.42 1545.82 1091.03 1545.82 Q1094.66 1545.82 1096.47 1542.27 Q1098.3 1538.71 1098.3 1531.6 Q1098.3 1524.47 1096.47 1520.93 Q1094.66 1517.37 1091.03 1517.37 M1091.03 1513.66 Q1096.84 1513.66 1099.9 1518.27 Q1102.97 1522.85 1102.97 1531.6 Q1102.97 1540.33 1099.9 1544.94 Q1096.84 1549.52 1091.03 1549.52 Q1085.22 1549.52 1082.14 1544.94 Q1079.09 1540.33 1079.09 1531.6 Q1079.09 1522.85 1082.14 1518.27 Q1085.22 1513.66 1091.03 1513.66 Z\" fill=\"#000000\" fill-rule=\"nonzero\" fill-opacity=\"1\" /><path clip-path=\"url(#clip470)\" d=\"M1443.57 1530.21 Q1446.93 1530.93 1448.81 1533.2 Q1450.7 1535.47 1450.7 1538.8 Q1450.7 1543.92 1447.19 1546.72 Q1443.67 1549.52 1437.19 1549.52 Q1435.01 1549.52 1432.69 1549.08 Q1430.4 1548.66 1427.95 1547.81 L1427.95 1543.29 Q1429.89 1544.43 1432.21 1545.01 Q1434.52 1545.58 1437.05 1545.58 Q1441.44 1545.58 1443.74 1543.85 Q1446.05 1542.11 1446.05 1538.8 Q1446.05 1535.75 1443.9 1534.03 Q1441.77 1532.3 1437.95 1532.3 L1433.92 1532.3 L1433.92 1528.45 L1438.13 1528.45 Q1441.58 1528.45 1443.41 1527.09 Q1445.24 1525.7 1445.24 1523.11 Q1445.24 1520.45 1443.34 1519.03 Q1441.47 1517.6 1437.95 1517.6 Q1436.03 1517.6 1433.83 1518.01 Q1431.63 1518.43 1428.99 1519.31 L1428.99 1515.14 Q1431.65 1514.4 1433.97 1514.03 Q1436.31 1513.66 1438.37 1513.66 Q1443.69 1513.66 1446.79 1516.09 Q1449.89 1518.5 1449.89 1522.62 Q1449.89 1525.49 1448.25 1527.48 Q1446.61 1529.45 1443.57 1530.21 Z\" fill=\"#000000\" fill-rule=\"nonzero\" fill-opacity=\"1\" /><path clip-path=\"url(#clip470)\" d=\"M1469.57 1517.37 Q1465.96 1517.37 1464.13 1520.93 Q1462.32 1524.47 1462.32 1531.6 Q1462.32 1538.71 1464.13 1542.27 Q1465.96 1545.82 1469.57 1545.82 Q1473.2 1545.82 1475.01 1542.27 Q1476.84 1538.71 1476.84 1531.6 Q1476.84 1524.47 1475.01 1520.93 Q1473.2 1517.37 1469.57 1517.37 M1469.57 1513.66 Q1475.38 1513.66 1478.43 1518.27 Q1481.51 1522.85 1481.51 1531.6 Q1481.51 1540.33 1478.43 1544.94 Q1475.38 1549.52 1469.57 1549.52 Q1463.76 1549.52 1460.68 1544.94 Q1457.62 1540.33 1457.62 1531.6 Q1457.62 1522.85 1460.68 1518.27 Q1463.76 1513.66 1469.57 1513.66 Z\" fill=\"#000000\" fill-rule=\"nonzero\" fill-opacity=\"1\" /><path clip-path=\"url(#clip470)\" d=\"M1499.73 1517.37 Q1496.12 1517.37 1494.29 1520.93 Q1492.49 1524.47 1492.49 1531.6 Q1492.49 1538.71 1494.29 1542.27 Q1496.12 1545.82 1499.73 1545.82 Q1503.37 1545.82 1505.17 1542.27 Q1507 1538.71 1507 1531.6 Q1507 1524.47 1505.17 1520.93 Q1503.37 1517.37 1499.73 1517.37 M1499.73 1513.66 Q1505.54 1513.66 1508.6 1518.27 Q1511.68 1522.85 1511.68 1531.6 Q1511.68 1540.33 1508.6 1544.94 Q1505.54 1549.52 1499.73 1549.52 Q1493.92 1549.52 1490.84 1544.94 Q1487.79 1540.33 1487.79 1531.6 Q1487.79 1522.85 1490.84 1518.27 Q1493.92 1513.66 1499.73 1513.66 Z\" fill=\"#000000\" fill-rule=\"nonzero\" fill-opacity=\"1\" /><path clip-path=\"url(#clip470)\" d=\"M1851.67 1518.36 L1839.87 1536.81 L1851.67 1536.81 L1851.67 1518.36 M1850.45 1514.29 L1856.33 1514.29 L1856.33 1536.81 L1861.26 1536.81 L1861.26 1540.7 L1856.33 1540.7 L1856.33 1548.85 L1851.67 1548.85 L1851.67 1540.7 L1836.07 1540.7 L1836.07 1536.19 L1850.45 1514.29 Z\" fill=\"#000000\" fill-rule=\"nonzero\" fill-opacity=\"1\" /><path clip-path=\"url(#clip470)\" d=\"M1878.99 1517.37 Q1875.38 1517.37 1873.55 1520.93 Q1871.74 1524.47 1871.74 1531.6 Q1871.74 1538.71 1873.55 1542.27 Q1875.38 1545.82 1878.99 1545.82 Q1882.62 1545.82 1884.43 1542.27 Q1886.26 1538.71 1886.26 1531.6 Q1886.26 1524.47 1884.43 1520.93 Q1882.62 1517.37 1878.99 1517.37 M1878.99 1513.66 Q1884.8 1513.66 1887.85 1518.27 Q1890.93 1522.85 1890.93 1531.6 Q1890.93 1540.33 1887.85 1544.94 Q1884.8 1549.52 1878.99 1549.52 Q1873.18 1549.52 1870.1 1544.94 Q1867.04 1540.33 1867.04 1531.6 Q1867.04 1522.85 1870.1 1518.27 Q1873.18 1513.66 1878.99 1513.66 Z\" fill=\"#000000\" fill-rule=\"nonzero\" fill-opacity=\"1\" /><path clip-path=\"url(#clip470)\" d=\"M1909.15 1517.37 Q1905.54 1517.37 1903.71 1520.93 Q1901.9 1524.47 1901.9 1531.6 Q1901.9 1538.71 1903.71 1542.27 Q1905.54 1545.82 1909.15 1545.82 Q1912.78 1545.82 1914.59 1542.27 Q1916.42 1538.71 1916.42 1531.6 Q1916.42 1524.47 1914.59 1520.93 Q1912.78 1517.37 1909.15 1517.37 M1909.15 1513.66 Q1914.96 1513.66 1918.02 1518.27 Q1921.09 1522.85 1921.09 1531.6 Q1921.09 1540.33 1918.02 1544.94 Q1914.96 1549.52 1909.15 1549.52 Q1903.34 1549.52 1900.26 1544.94 Q1897.21 1540.33 1897.21 1531.6 Q1897.21 1522.85 1900.26 1518.27 Q1903.34 1513.66 1909.15 1513.66 Z\" fill=\"#000000\" fill-rule=\"nonzero\" fill-opacity=\"1\" /><path clip-path=\"url(#clip470)\" d=\"M2246.97 1514.29 L2265.33 1514.29 L2265.33 1518.22 L2251.25 1518.22 L2251.25 1526.7 Q2252.27 1526.35 2253.29 1526.19 Q2254.31 1526 2255.33 1526 Q2261.11 1526 2264.49 1529.17 Q2267.87 1532.34 2267.87 1537.76 Q2267.87 1543.34 2264.4 1546.44 Q2260.93 1549.52 2254.61 1549.52 Q2252.43 1549.52 2250.17 1549.15 Q2247.92 1548.78 2245.51 1548.04 L2245.51 1543.34 Q2247.6 1544.47 2249.82 1545.03 Q2252.04 1545.58 2254.52 1545.58 Q2258.52 1545.58 2260.86 1543.48 Q2263.2 1541.37 2263.2 1537.76 Q2263.2 1534.15 2260.86 1532.04 Q2258.52 1529.94 2254.52 1529.94 Q2252.64 1529.94 2250.77 1530.35 Q2248.92 1530.77 2246.97 1531.65 L2246.97 1514.29 Z\" fill=\"#000000\" fill-rule=\"nonzero\" fill-opacity=\"1\" /><path clip-path=\"url(#clip470)\" d=\"M2287.09 1517.37 Q2283.48 1517.37 2281.65 1520.93 Q2279.84 1524.47 2279.84 1531.6 Q2279.84 1538.71 2281.65 1542.27 Q2283.48 1545.82 2287.09 1545.82 Q2290.72 1545.82 2292.53 1542.27 Q2294.35 1538.71 2294.35 1531.6 Q2294.35 1524.47 2292.53 1520.93 Q2290.72 1517.37 2287.09 1517.37 M2287.09 1513.66 Q2292.9 1513.66 2295.95 1518.27 Q2299.03 1522.85 2299.03 1531.6 Q2299.03 1540.33 2295.95 1544.94 Q2292.9 1549.52 2287.09 1549.52 Q2281.28 1549.52 2278.2 1544.94 Q2275.14 1540.33 2275.14 1531.6 Q2275.14 1522.85 2278.2 1518.27 Q2281.28 1513.66 2287.09 1513.66 Z\" fill=\"#000000\" fill-rule=\"nonzero\" fill-opacity=\"1\" /><path clip-path=\"url(#clip470)\" d=\"M2317.25 1517.37 Q2313.64 1517.37 2311.81 1520.93 Q2310 1524.47 2310 1531.6 Q2310 1538.71 2311.81 1542.27 Q2313.64 1545.82 2317.25 1545.82 Q2320.88 1545.82 2322.69 1542.27 Q2324.52 1538.71 2324.52 1531.6 Q2324.52 1524.47 2322.69 1520.93 Q2320.88 1517.37 2317.25 1517.37 M2317.25 1513.66 Q2323.06 1513.66 2326.11 1518.27 Q2329.19 1522.85 2329.19 1531.6 Q2329.19 1540.33 2326.11 1544.94 Q2323.06 1549.52 2317.25 1549.52 Q2311.44 1549.52 2308.36 1544.94 Q2305.3 1540.33 2305.3 1531.6 Q2305.3 1522.85 2308.36 1518.27 Q2311.44 1513.66 2317.25 1513.66 Z\" fill=\"#000000\" fill-rule=\"nonzero\" fill-opacity=\"1\" /><polyline clip-path=\"url(#clip472)\" style=\"stroke:#000000; stroke-linecap:round; stroke-linejoin:round; stroke-width:2; stroke-opacity:0.1; fill:none\" points=\"186.274,1445.72 2352.76,1445.72 \"/>\n",
       "<polyline clip-path=\"url(#clip472)\" style=\"stroke:#000000; stroke-linecap:round; stroke-linejoin:round; stroke-width:2; stroke-opacity:0.1; fill:none\" points=\"186.274,1087.1 2352.76,1087.1 \"/>\n",
       "<polyline clip-path=\"url(#clip472)\" style=\"stroke:#000000; stroke-linecap:round; stroke-linejoin:round; stroke-width:2; stroke-opacity:0.1; fill:none\" points=\"186.274,728.484 2352.76,728.484 \"/>\n",
       "<polyline clip-path=\"url(#clip472)\" style=\"stroke:#000000; stroke-linecap:round; stroke-linejoin:round; stroke-width:2; stroke-opacity:0.1; fill:none\" points=\"186.274,369.868 2352.76,369.868 \"/>\n",
       "<polyline clip-path=\"url(#clip470)\" style=\"stroke:#000000; stroke-linecap:round; stroke-linejoin:round; stroke-width:4; stroke-opacity:1; fill:none\" points=\"186.274,1486.45 186.274,47.2441 \"/>\n",
       "<polyline clip-path=\"url(#clip470)\" style=\"stroke:#000000; stroke-linecap:round; stroke-linejoin:round; stroke-width:4; stroke-opacity:1; fill:none\" points=\"186.274,1445.72 205.172,1445.72 \"/>\n",
       "<polyline clip-path=\"url(#clip470)\" style=\"stroke:#000000; stroke-linecap:round; stroke-linejoin:round; stroke-width:4; stroke-opacity:1; fill:none\" points=\"186.274,1087.1 205.172,1087.1 \"/>\n",
       "<polyline clip-path=\"url(#clip470)\" style=\"stroke:#000000; stroke-linecap:round; stroke-linejoin:round; stroke-width:4; stroke-opacity:1; fill:none\" points=\"186.274,728.484 205.172,728.484 \"/>\n",
       "<polyline clip-path=\"url(#clip470)\" style=\"stroke:#000000; stroke-linecap:round; stroke-linejoin:round; stroke-width:4; stroke-opacity:1; fill:none\" points=\"186.274,369.868 205.172,369.868 \"/>\n",
       "<path clip-path=\"url(#clip470)\" d=\"M62.9365 1431.51 Q59.3254 1431.51 57.4967 1435.08 Q55.6912 1438.62 55.6912 1445.75 Q55.6912 1452.86 57.4967 1456.42 Q59.3254 1459.96 62.9365 1459.96 Q66.5707 1459.96 68.3763 1456.42 Q70.205 1452.86 70.205 1445.75 Q70.205 1438.62 68.3763 1435.08 Q66.5707 1431.51 62.9365 1431.51 M62.9365 1427.81 Q68.7467 1427.81 71.8022 1432.42 Q74.8809 1437 74.8809 1445.75 Q74.8809 1454.48 71.8022 1459.08 Q68.7467 1463.67 62.9365 1463.67 Q57.1264 1463.67 54.0477 1459.08 Q50.9921 1454.48 50.9921 1445.75 Q50.9921 1437 54.0477 1432.42 Q57.1264 1427.81 62.9365 1427.81 Z\" fill=\"#000000\" fill-rule=\"nonzero\" fill-opacity=\"1\" /><path clip-path=\"url(#clip470)\" d=\"M83.0984 1457.12 L87.9827 1457.12 L87.9827 1463 L83.0984 1463 L83.0984 1457.12 Z\" fill=\"#000000\" fill-rule=\"nonzero\" fill-opacity=\"1\" /><path clip-path=\"url(#clip470)\" d=\"M108.168 1431.51 Q104.557 1431.51 102.728 1435.08 Q100.922 1438.62 100.922 1445.75 Q100.922 1452.86 102.728 1456.42 Q104.557 1459.96 108.168 1459.96 Q111.802 1459.96 113.608 1456.42 Q115.436 1452.86 115.436 1445.75 Q115.436 1438.62 113.608 1435.08 Q111.802 1431.51 108.168 1431.51 M108.168 1427.81 Q113.978 1427.81 117.033 1432.42 Q120.112 1437 120.112 1445.75 Q120.112 1454.48 117.033 1459.08 Q113.978 1463.67 108.168 1463.67 Q102.358 1463.67 99.2789 1459.08 Q96.2234 1454.48 96.2234 1445.75 Q96.2234 1437 99.2789 1432.42 Q102.358 1427.81 108.168 1427.81 Z\" fill=\"#000000\" fill-rule=\"nonzero\" fill-opacity=\"1\" /><path clip-path=\"url(#clip470)\" d=\"M138.33 1431.51 Q134.719 1431.51 132.89 1435.08 Q131.084 1438.62 131.084 1445.75 Q131.084 1452.86 132.89 1456.42 Q134.719 1459.96 138.33 1459.96 Q141.964 1459.96 143.769 1456.42 Q145.598 1452.86 145.598 1445.75 Q145.598 1438.62 143.769 1435.08 Q141.964 1431.51 138.33 1431.51 M138.33 1427.81 Q144.14 1427.81 147.195 1432.42 Q150.274 1437 150.274 1445.75 Q150.274 1454.48 147.195 1459.08 Q144.14 1463.67 138.33 1463.67 Q132.519 1463.67 129.441 1459.08 Q126.385 1454.48 126.385 1445.75 Q126.385 1437 129.441 1432.42 Q132.519 1427.81 138.33 1427.81 Z\" fill=\"#000000\" fill-rule=\"nonzero\" fill-opacity=\"1\" /><path clip-path=\"url(#clip470)\" d=\"M63.9319 1072.9 Q60.3208 1072.9 58.4921 1076.46 Q56.6865 1080 56.6865 1087.13 Q56.6865 1094.24 58.4921 1097.81 Q60.3208 1101.35 63.9319 1101.35 Q67.5661 1101.35 69.3717 1097.81 Q71.2004 1094.24 71.2004 1087.13 Q71.2004 1080 69.3717 1076.46 Q67.5661 1072.9 63.9319 1072.9 M63.9319 1069.19 Q69.742 1069.19 72.7976 1073.8 Q75.8763 1078.38 75.8763 1087.13 Q75.8763 1095.86 72.7976 1100.47 Q69.742 1105.05 63.9319 1105.05 Q58.1217 1105.05 55.043 1100.47 Q51.9875 1095.86 51.9875 1087.13 Q51.9875 1078.38 55.043 1073.8 Q58.1217 1069.19 63.9319 1069.19 Z\" fill=\"#000000\" fill-rule=\"nonzero\" fill-opacity=\"1\" /><path clip-path=\"url(#clip470)\" d=\"M84.0938 1098.5 L88.978 1098.5 L88.978 1104.38 L84.0938 1104.38 L84.0938 1098.5 Z\" fill=\"#000000\" fill-rule=\"nonzero\" fill-opacity=\"1\" /><path clip-path=\"url(#clip470)\" d=\"M109.163 1072.9 Q105.552 1072.9 103.723 1076.46 Q101.918 1080 101.918 1087.13 Q101.918 1094.24 103.723 1097.81 Q105.552 1101.35 109.163 1101.35 Q112.797 1101.35 114.603 1097.81 Q116.432 1094.24 116.432 1087.13 Q116.432 1080 114.603 1076.46 Q112.797 1072.9 109.163 1072.9 M109.163 1069.19 Q114.973 1069.19 118.029 1073.8 Q121.107 1078.38 121.107 1087.13 Q121.107 1095.86 118.029 1100.47 Q114.973 1105.05 109.163 1105.05 Q103.353 1105.05 100.274 1100.47 Q97.2187 1095.86 97.2187 1087.13 Q97.2187 1078.38 100.274 1073.8 Q103.353 1069.19 109.163 1069.19 Z\" fill=\"#000000\" fill-rule=\"nonzero\" fill-opacity=\"1\" /><path clip-path=\"url(#clip470)\" d=\"M129.371 1069.82 L147.728 1069.82 L147.728 1073.75 L133.654 1073.75 L133.654 1082.23 Q134.672 1081.88 135.691 1081.72 Q136.709 1081.53 137.728 1081.53 Q143.515 1081.53 146.894 1084.7 Q150.274 1087.88 150.274 1093.29 Q150.274 1098.87 146.802 1101.97 Q143.33 1105.05 137.01 1105.05 Q134.834 1105.05 132.566 1104.68 Q130.32 1104.31 127.913 1103.57 L127.913 1098.87 Q129.996 1100 132.219 1100.56 Q134.441 1101.12 136.918 1101.12 Q140.922 1101.12 143.26 1099.01 Q145.598 1096.9 145.598 1093.29 Q145.598 1089.68 143.26 1087.57 Q140.922 1085.47 136.918 1085.47 Q135.043 1085.47 133.168 1085.88 Q131.316 1086.3 129.371 1087.18 L129.371 1069.82 Z\" fill=\"#000000\" fill-rule=\"nonzero\" fill-opacity=\"1\" /><path clip-path=\"url(#clip470)\" d=\"M62.9365 714.282 Q59.3254 714.282 57.4967 717.847 Q55.6912 721.389 55.6912 728.518 Q55.6912 735.625 57.4967 739.19 Q59.3254 742.731 62.9365 742.731 Q66.5707 742.731 68.3763 739.19 Q70.205 735.625 70.205 728.518 Q70.205 721.389 68.3763 717.847 Q66.5707 714.282 62.9365 714.282 M62.9365 710.579 Q68.7467 710.579 71.8022 715.185 Q74.8809 719.769 74.8809 728.518 Q74.8809 737.245 71.8022 741.852 Q68.7467 746.435 62.9365 746.435 Q57.1264 746.435 54.0477 741.852 Q50.9921 737.245 50.9921 728.518 Q50.9921 719.769 54.0477 715.185 Q57.1264 710.579 62.9365 710.579 Z\" fill=\"#000000\" fill-rule=\"nonzero\" fill-opacity=\"1\" /><path clip-path=\"url(#clip470)\" d=\"M83.0984 739.884 L87.9827 739.884 L87.9827 745.764 L83.0984 745.764 L83.0984 739.884 Z\" fill=\"#000000\" fill-rule=\"nonzero\" fill-opacity=\"1\" /><path clip-path=\"url(#clip470)\" d=\"M98.978 741.829 L106.617 741.829 L106.617 715.463 L98.3067 717.13 L98.3067 712.87 L106.571 711.204 L111.246 711.204 L111.246 741.829 L118.885 741.829 L118.885 745.764 L98.978 745.764 L98.978 741.829 Z\" fill=\"#000000\" fill-rule=\"nonzero\" fill-opacity=\"1\" /><path clip-path=\"url(#clip470)\" d=\"M138.33 714.282 Q134.719 714.282 132.89 717.847 Q131.084 721.389 131.084 728.518 Q131.084 735.625 132.89 739.19 Q134.719 742.731 138.33 742.731 Q141.964 742.731 143.769 739.19 Q145.598 735.625 145.598 728.518 Q145.598 721.389 143.769 717.847 Q141.964 714.282 138.33 714.282 M138.33 710.579 Q144.14 710.579 147.195 715.185 Q150.274 719.769 150.274 728.518 Q150.274 737.245 147.195 741.852 Q144.14 746.435 138.33 746.435 Q132.519 746.435 129.441 741.852 Q126.385 737.245 126.385 728.518 Q126.385 719.769 129.441 715.185 Q132.519 710.579 138.33 710.579 Z\" fill=\"#000000\" fill-rule=\"nonzero\" fill-opacity=\"1\" /><path clip-path=\"url(#clip470)\" d=\"M63.9319 355.666 Q60.3208 355.666 58.4921 359.231 Q56.6865 362.773 56.6865 369.903 Q56.6865 377.009 58.4921 380.574 Q60.3208 384.115 63.9319 384.115 Q67.5661 384.115 69.3717 380.574 Q71.2004 377.009 71.2004 369.903 Q71.2004 362.773 69.3717 359.231 Q67.5661 355.666 63.9319 355.666 M63.9319 351.963 Q69.742 351.963 72.7976 356.569 Q75.8763 361.153 75.8763 369.903 Q75.8763 378.629 72.7976 383.236 Q69.742 387.819 63.9319 387.819 Q58.1217 387.819 55.043 383.236 Q51.9875 378.629 51.9875 369.903 Q51.9875 361.153 55.043 356.569 Q58.1217 351.963 63.9319 351.963 Z\" fill=\"#000000\" fill-rule=\"nonzero\" fill-opacity=\"1\" /><path clip-path=\"url(#clip470)\" d=\"M84.0938 381.268 L88.978 381.268 L88.978 387.148 L84.0938 387.148 L84.0938 381.268 Z\" fill=\"#000000\" fill-rule=\"nonzero\" fill-opacity=\"1\" /><path clip-path=\"url(#clip470)\" d=\"M99.9733 383.213 L107.612 383.213 L107.612 356.847 L99.3021 358.514 L99.3021 354.254 L107.566 352.588 L112.242 352.588 L112.242 383.213 L119.881 383.213 L119.881 387.148 L99.9733 387.148 L99.9733 383.213 Z\" fill=\"#000000\" fill-rule=\"nonzero\" fill-opacity=\"1\" /><path clip-path=\"url(#clip470)\" d=\"M129.371 352.588 L147.728 352.588 L147.728 356.523 L133.654 356.523 L133.654 364.995 Q134.672 364.648 135.691 364.486 Q136.709 364.301 137.728 364.301 Q143.515 364.301 146.894 367.472 Q150.274 370.643 150.274 376.06 Q150.274 381.639 146.802 384.74 Q143.33 387.819 137.01 387.819 Q134.834 387.819 132.566 387.449 Q130.32 387.078 127.913 386.338 L127.913 381.639 Q129.996 382.773 132.219 383.328 Q134.441 383.884 136.918 383.884 Q140.922 383.884 143.26 381.777 Q145.598 379.671 145.598 376.06 Q145.598 372.449 143.26 370.342 Q140.922 368.236 136.918 368.236 Q135.043 368.236 133.168 368.653 Q131.316 369.069 129.371 369.949 L129.371 352.588 Z\" fill=\"#000000\" fill-rule=\"nonzero\" fill-opacity=\"1\" /><polyline clip-path=\"url(#clip472)\" style=\"stroke:#009af9; stroke-linecap:round; stroke-linejoin:round; stroke-width:4; stroke-opacity:1; fill:none\" points=\"247.59,1445.72 251.677,1441.15 255.765,1436.58 259.853,1432.02 263.94,1427.45 268.028,1422.89 272.116,1418.32 276.203,1413.75 280.291,1409.19 284.379,1404.62 288.467,1400.06 292.554,1395.49 296.642,1390.92 300.73,1386.36 304.817,1381.79 308.905,1377.23 312.993,1372.66 317.08,1368.1 321.168,1363.53 325.256,1358.97 329.344,1354.4 333.431,1349.83 337.519,1345.27 341.607,1340.71 345.694,1336.14 349.782,1331.58 353.87,1327.01 357.957,1322.45 362.045,1317.89 366.133,1313.32 370.221,1308.76 374.308,1304.2 378.396,1299.63 382.484,1295.07 386.571,1290.51 390.659,1285.95 394.747,1281.39 398.834,1276.83 402.922,1272.27 407.01,1267.71 411.098,1263.15 415.185,1258.59 419.273,1254.04 423.361,1249.48 427.448,1244.92 431.536,1240.37 435.624,1235.81 439.712,1231.26 443.799,1226.7 447.887,1222.15 451.975,1217.6 456.062,1213.05 460.15,1208.5 464.238,1203.95 468.325,1199.4 472.413,1194.86 476.501,1190.31 480.589,1185.77 484.676,1181.22 488.764,1176.68 492.852,1172.14 496.939,1167.6 501.027,1163.06 505.115,1158.52 509.202,1153.99 513.29,1149.45 517.378,1144.92 521.466,1140.39 525.553,1135.86 529.641,1131.33 533.729,1126.81 537.816,1122.28 541.904,1117.76 545.992,1113.24 550.079,1108.72 554.167,1104.2 558.255,1099.68 562.343,1095.17 566.43,1090.66 570.518,1086.15 574.606,1081.64 578.693,1077.14 582.781,1072.64 586.869,1068.14 590.956,1063.64 595.044,1059.14 599.132,1054.65 603.22,1050.16 607.307,1045.67 611.395,1041.19 615.483,1036.7 619.57,1032.22 623.658,1027.75 627.746,1023.27 631.833,1018.8 635.921,1014.33 640.009,1009.87 644.097,1005.41 648.184,1000.95 652.272,996.491 656.36,992.039 660.447,987.59 664.535,983.145 668.623,978.703 672.711,974.264 676.798,969.83 680.886,965.399 684.974,960.972 689.061,956.548 693.149,952.129 697.237,947.713 701.324,943.301 705.412,938.894 709.5,934.491 713.588,930.091 717.675,925.697 721.763,921.306 725.851,916.92 729.938,912.539 734.026,908.162 738.114,903.79 742.201,899.422 746.289,895.059 750.377,890.701 754.465,886.348 758.552,882 762.64,877.657 766.728,873.319 770.815,868.987 774.903,864.66 778.991,860.338 783.078,856.021 787.166,851.71 791.254,847.405 795.342,843.105 799.429,838.811 803.517,834.523 807.605,830.241 811.692,825.964 815.78,821.694 819.868,817.43 823.955,813.172 828.043,808.92 832.131,804.675 836.219,800.436 840.306,796.203 844.394,791.978 848.482,787.758 852.569,783.546 856.657,779.34 860.745,775.141 864.832,770.949 868.92,766.765 873.008,762.587 877.096,758.416 881.183,754.253 885.271,750.097 889.359,745.949 893.446,741.808 897.534,737.675 901.622,733.549 905.71,729.431 909.797,725.321 913.885,721.219 917.973,717.125 922.06,713.039 926.148,708.961 930.236,704.891 934.323,700.83 938.411,696.777 942.499,692.732 946.587,688.696 950.674,684.669 954.762,680.65 958.85,676.64 962.937,672.639 967.025,668.647 971.113,664.664 975.2,660.69 979.288,656.725 983.376,652.77 987.464,648.824 991.551,644.887 995.639,640.96 999.727,637.042 1003.81,633.134 1007.9,629.236 1011.99,625.347 1016.08,621.469 1020.17,617.6 1024.25,613.742 1028.34,609.894 1032.43,606.055 1036.52,602.228 1040.6,598.41 1044.69,594.603 1048.78,590.807 1052.87,587.021 1056.95,583.246 1061.04,579.481 1065.13,575.728 1069.22,571.985 1073.31,568.253 1077.39,564.533 1081.48,560.823 1085.57,557.125 1089.66,553.438 1093.74,549.762 1097.83,546.098 1101.92,542.446 1106.01,538.805 1110.09,535.175 1114.18,531.558 1118.27,527.952 1122.36,524.358 1126.45,520.776 1130.53,517.206 1134.62,513.648 1138.71,510.103 1142.8,506.569 1146.88,503.048 1150.97,499.54 1155.06,496.044 1159.15,492.56 1163.23,489.089 1167.32,485.631 1171.41,482.185 1175.5,478.753 1179.59,475.333 1183.67,471.926 1187.76,468.532 1191.85,465.151 1195.94,461.784 1200.02,458.429 1204.11,455.088 1208.2,451.76 1212.29,448.446 1216.37,445.145 1220.46,441.858 1224.55,438.584 1228.64,435.324 1232.73,432.078 1236.81,428.846 1240.9,425.627 1244.99,422.423 1249.08,419.232 1253.16,416.055 1257.25,412.893 1261.34,409.745 1265.43,406.611 1269.51,403.491 1273.6,400.385 1277.69,397.294 1281.78,394.218 1285.87,391.156 1289.95,388.108 1294.04,385.075 1298.13,382.057 1302.22,379.054 1306.3,376.065 1310.39,373.091 1314.48,370.132 1318.57,367.188 1322.66,364.259 1326.74,361.345 1330.83,358.446 1334.92,355.563 1339.01,352.694 1343.09,349.841 1347.18,347.003 1351.27,344.18 1355.36,341.373 1359.44,338.581 1363.53,335.804 1367.62,333.043 1371.71,330.298 1375.8,327.568 1379.88,324.854 1383.97,322.155 1388.06,319.472 1392.15,316.805 1396.23,314.154 1400.32,311.518 1404.41,308.899 1408.5,306.295 1412.58,303.707 1416.67,301.135 1420.76,298.579 1424.85,296.04 1428.94,293.516 1433.02,291.008 1437.11,288.516 1441.2,286.041 1445.29,283.582 1449.37,281.139 1453.46,278.712 1457.55,276.301 1461.64,273.907 1465.72,271.529 1469.81,269.167 1473.9,266.822 1477.99,264.493 1482.08,262.18 1486.16,259.884 1490.25,257.604 1494.34,255.341 1498.43,253.094 1502.51,250.864 1506.6,248.65 1510.69,246.453 1514.78,244.272 1518.86,242.108 1522.95,239.96 1527.04,237.829 1531.13,235.714 1535.22,233.616 1539.3,231.535 1543.39,229.47 1547.48,227.422 1551.57,225.39 1555.65,223.375 1559.74,221.377 1563.83,219.395 1567.92,217.43 1572,215.481 1576.09,213.549 1580.18,211.634 1584.27,209.735 1588.36,207.853 1592.44,205.988 1596.53,204.139 1600.62,202.307 1604.71,200.491 1608.79,198.692 1612.88,196.909 1616.97,195.143 1621.06,193.394 1625.15,191.661 1629.23,189.945 1633.32,188.245 1637.41,186.561 1641.5,184.894 1645.58,183.244 1649.67,181.61 1653.76,179.992 1657.85,178.391 1661.93,176.806 1666.02,175.237 1670.11,173.685 1674.2,172.149 1678.29,170.63 1682.37,169.126 1686.46,167.639 1690.55,166.168 1694.64,164.713 1698.72,163.275 1702.81,161.852 1706.9,160.446 1710.99,159.055 1715.07,157.681 1719.16,156.322 1723.25,154.98 1727.34,153.653 1731.43,152.342 1735.51,151.047 1739.6,149.767 1743.69,148.504 1747.78,147.256 1751.86,146.023 1755.95,144.807 1760.04,143.605 1764.13,142.419 1768.21,141.249 1772.3,140.094 1776.39,138.954 1780.48,137.83 1784.57,136.721 1788.65,135.627 1792.74,134.548 1796.83,133.484 1800.92,132.435 1805,131.401 1809.09,130.382 1813.18,129.378 1817.27,128.388 1821.35,127.413 1825.44,126.453 1829.53,125.507 1833.62,124.576 1837.71,123.659 1841.79,122.756 1845.88,121.868 1849.97,120.994 1854.06,120.134 1858.14,119.288 1862.23,118.456 1866.32,117.638 1870.41,116.834 1874.49,116.044 1878.58,115.267 1882.67,114.503 1886.76,113.754 1890.85,113.017 1894.93,112.294 1899.02,111.584 1903.11,110.888 1907.2,110.204 1911.28,109.533 1915.37,108.876 1919.46,108.231 1923.55,107.598 1927.63,106.979 1931.72,106.372 1935.81,105.777 1939.9,105.195 1943.99,104.624 1948.07,104.066 1952.16,103.52 1956.25,102.986 1960.34,102.464 1964.42,101.953 1968.51,101.454 1972.6,100.967 1976.69,100.491 1980.78,100.026 1984.86,99.5722 1988.95,99.1296 1993.04,98.698 1997.13,98.2773 2001.21,97.8673 2005.3,97.4679 2009.39,97.079 2013.48,96.7005 2017.56,96.3323 2021.65,95.9743 2025.74,95.6262 2029.83,95.2881 2033.92,94.9598 2038,94.6411 2042.09,94.332 2046.18,94.0323 2050.27,93.7419 2054.35,93.4607 2058.44,93.1885 2062.53,92.9252 2066.62,92.6707 2070.7,92.4248 2074.79,92.1875 2078.88,91.9585 2082.97,91.7378 2087.06,91.5253 2091.14,91.3206 2095.23,91.1239 2099.32,90.9348 2103.41,90.7533 2107.49,90.5792 2111.58,90.4124 2115.67,90.2528 2119.76,90.1001 2123.84,89.9543 2127.93,89.8153 2132.02,89.6827 2136.11,89.5566 2140.2,89.4368 2144.28,89.3231 2148.37,89.2153 2152.46,89.1134 2156.55,89.0171 2160.63,88.9264 2164.72,88.841 2168.81,88.7609 2172.9,88.6857 2176.98,88.6155 2181.07,88.55 2185.16,88.4892 2189.25,88.4327 2193.34,88.3805 2197.42,88.3324 2201.51,88.2882 2205.6,88.2478 2209.69,88.211 2213.77,88.1777 2217.86,88.1477 2221.95,88.1208 2226.04,88.0968 2230.12,88.0757 2234.21,88.0571 2238.3,88.041 2242.39,88.0272 2246.48,88.0155 2250.56,88.0057 2254.65,87.9977 2258.74,87.9913 2262.83,87.9863 2266.91,87.9825 2271,87.9799 2275.09,87.9781 2279.18,87.977 2283.26,87.9765 2287.35,87.9763 2291.44,87.9763 \"/>\n",
       "<path clip-path=\"url(#clip470)\" d=\"M258.49 198.898 L527.569 198.898 L527.569 95.2176 L258.49 95.2176  Z\" fill=\"#ffffff\" fill-rule=\"evenodd\" fill-opacity=\"1\"/>\n",
       "<polyline clip-path=\"url(#clip470)\" style=\"stroke:#000000; stroke-linecap:round; stroke-linejoin:round; stroke-width:4; stroke-opacity:1; fill:none\" points=\"258.49,198.898 527.569,198.898 527.569,95.2176 258.49,95.2176 258.49,198.898 \"/>\n",
       "<polyline clip-path=\"url(#clip470)\" style=\"stroke:#009af9; stroke-linecap:round; stroke-linejoin:round; stroke-width:4; stroke-opacity:1; fill:none\" points=\"282.562,147.058 426.994,147.058 \"/>\n",
       "<path clip-path=\"url(#clip470)\" d=\"M464.909 166.745 Q463.103 171.375 461.39 172.787 Q459.677 174.199 456.807 174.199 L453.404 174.199 L453.404 170.634 L455.904 170.634 Q457.663 170.634 458.636 169.8 Q459.608 168.967 460.788 165.865 L461.552 163.921 L451.066 138.412 L455.58 138.412 L463.682 158.689 L471.784 138.412 L476.298 138.412 L464.909 166.745 Z\" fill=\"#000000\" fill-rule=\"nonzero\" fill-opacity=\"1\" /><path clip-path=\"url(#clip470)\" d=\"M483.589 160.402 L491.228 160.402 L491.228 134.037 L482.918 135.703 L482.918 131.444 L491.182 129.778 L495.858 129.778 L495.858 160.402 L503.497 160.402 L503.497 164.338 L483.589 164.338 L483.589 160.402 Z\" fill=\"#000000\" fill-rule=\"nonzero\" fill-opacity=\"1\" /></svg>\n"
      ]
     },
     "execution_count": 30,
     "metadata": {},
     "output_type": "execute_result"
    }
   ],
   "source": [
    "N = 500 \n",
    "mesh = generateMesh(N)\n",
    "\n",
    "function sourceFct(x::Float64)\n",
    "    return x*sin(π*x)\n",
    "end\n",
    "\n",
    "A = generateMatrix(mesh) # force compilation \n",
    "f = generateVector(mesh) # force compilation\n",
    "\n",
    "function generateSolution(A,f)\n",
    "    #..handle essential boundary conditions \n",
    "    A[1,1] = 1.; A[1,2] = 0.; f[1] = 0.;\n",
    "    u = A\\f \n",
    "    return u \n",
    "end\n",
    "\n",
    "u = generateSolution(A,f) # force compilation \n",
    "@time u = generateSolution(A,f)\n",
    "\n",
    "plot(u)"
   ]
  },
  {
   "cell_type": "code",
   "execution_count": 32,
   "id": "c540ff4c",
   "metadata": {},
   "outputs": [
    {
     "name": "stdout",
     "output_type": "stream",
     "text": [
      "  0.000044 seconds (67 allocations: 26.578 KiB)\n",
      "  0.000081 seconds (67 allocations: 124.547 KiB)\n",
      "  0.000453 seconds (69 allocations: 1.061 MiB)\n",
      "  0.004149 seconds (73 allocations: 10.454 MiB)\n"
     ]
    }
   ],
   "source": [
    "# observe again how the number of memory allocations only depends midly on the mesh size\n",
    "# observe how assembly is much faster than the solve \n",
    "mesh = generateMesh(10);    A = generateMatrix(mesh); f = generateVector(mesh); @time u = generateSolution(A,f);\n",
    "mesh = generateMesh(100);   A = generateMatrix(mesh); f = generateVector(mesh); @time u = generateSolution(A,f);\n",
    "mesh = generateMesh(1000);  A = generateMatrix(mesh); f = generateVector(mesh); @time u = generateSolution(A,f);\n",
    "mesh = generateMesh(10000); A = generateMatrix(mesh); f = generateVector(mesh); @time u = generateSolution(A,f);"
   ]
  },
  {
   "cell_type": "markdown",
   "id": "f8fd3a1f",
   "metadata": {},
   "source": [
    "## Sandbox"
   ]
  },
  {
   "cell_type": "code",
   "execution_count": null,
   "id": "194e5694",
   "metadata": {},
   "outputs": [],
   "source": []
  },
  {
   "cell_type": "code",
   "execution_count": null,
   "id": "896f581c",
   "metadata": {},
   "outputs": [],
   "source": []
  }
 ],
 "metadata": {
  "kernelspec": {
   "display_name": "Julia 1.8.1",
   "language": "julia",
   "name": "julia-1.8"
  },
  "language_info": {
   "file_extension": ".jl",
   "mimetype": "application/julia",
   "name": "julia",
   "version": "1.8.1"
  }
 },
 "nbformat": 4,
 "nbformat_minor": 5
}
