{
 "cells": [
  {
   "cell_type": "markdown",
   "id": "f5dec432",
   "metadata": {},
   "source": [
    "# EE4375 Usage of Julia \n",
    "\n",
    "This notebook provides information on using [Julia](www.julialang.org) in the EE4375 course. \n",
    "\n",
    "## Section 1: The Julia Programming Language   \n",
    "\n",
    "###  Introductory Books \n",
    "1. [ThinkJulia](https://benlauwens.github.io/ThinkJulia.jl/latest/book.html) by Ben Lauwnens and Allen Downey: Quote <i> This book is for anyone who wants to learn to program. No formal prior knowledge is required. </i>\n",
    "2. [Introducing Julia](https://en.wikibooks.org/wiki/Introducing_Julia) Quote <i> This wikibook is intended as an introduction to the language for the less experienced and occasional programmer.</i>\n",
    "3. [Julia Data Science](https://juliadatascience.io/) by Jose Storopoli and Rik Huijzer and Lazaro Alonso: Quote <i> This is an open source and open access book on how to do Data Science using Julia. </i> Chapter 2 and Chapter 3 of the book provide an introduction into Julia;\n",
    "4. [Fundamentals of Numerical Computation](https://tobydriscoll.net/fnc-julia/frontmatter.html) by Tobin Driscoll and Richard Braun. Quote: <i> Julia was designed from its inception to prioritize numerical scientific computing. </i> This book provides background on the linear algebra, calculus and differential equations used in this course. Contains various code examples. \n",
    "5. Other books are available at [julialang learning](https://julialang.org/learning/) \n",
    "\n",
    "###  Introductory  Videos series\n",
    "1. [Introductory Video Series](www.youtube.com) by Doggo dot jl on youtube; \n",
    "2. [julialang learning notebooks](https://julialang.org/learning/notebooks/) video tutorial;  \n",
    "\n",
    "### Online Sources \n",
    "1. [JuliaNotes](https://m3g.github.io/JuliaNotes.jl/stable/)\n",
    "2. [Modern Julia Workflows](https://modernjuliaworkflows.github.io/) \n",
    "3. [Gens Julia](gensjulia.pages.dev)\n",
    "\n",
    "### Papers \n",
    "1. [Julia: A Fresh Approach to Numerical Computing](https://arxiv.org/abs/1411.1607) by Jeff Bezanson, Alan Edelman, Stefan Karpinski, Viral B. Shah; \n",
    "\n",
    "### Code Design \n",
    "\n",
    "1. [Hands on design patterns and best practices with Julia](https://www.perlego.com/book/1365831/handson-design-patterns-and-best-practices-with-julia-proven-solutions-to-common-problems-in-software-design-for-julia-1x-pdf?utm_source=google&utm_medium=cpc&campaignid=15913700346&adgroupid=133123169675&gclid=CjwKCAjwpqCZBhAbEiwAa7pXeYKebELCtsQ6SqNEzJ9OASEoO4lkr5P5QyjKIARICrnFYKq_QQ2yOBoCh14QAvD_BwE) by Tom Kwong. "
   ]
  },
  {
   "cell_type": "markdown",
   "id": "9d766068",
   "metadata": {},
   "source": [
    "## Section 2: Julia Programming Concepts Used in the Course (continue here)\n",
    "\n",
    "In this section we discuss various Julia programming language constructions that will be valuable in the course.   \n",
    "\n",
    "### Multiple Dispatch \n",
    "\n",
    "A key concept in the design and performance of Julia is the concept of multiple dispatch. In our discussion we will follow examples and ideas from the inspiring video [The Unreasonable Effectedness of Multiple Dispatch” by Stefan Karpinski](https://www.youtube.com/watch?v=kc9HwsxE1OY) (this video also provides a good introduction into abstract type, subtype definition, generic code and generic types). Other examples are given in [Chapter 17 of Thinking Julia](https://benlauwens.github.io/ThinkJulia.jl/latest/book.html#chap17) and [Section 4 of Julia: A Fresh Approach to Numerical Computing](https://arxiv.org/abs/1411.1607). More information on how multiple dispatch works in Julia is provided in [section Methods in the Julia manual](https://docs.julialang.org/en/v1/manual/methods/). More background information on multiple dispatch is provided in the [wiki on multiple dispath](https://en.wikipedia.org/wiki/Multiple_dispatch). \n",
    "\n",
    "<b> The type system in Julia </b>\n",
    "\n",
    "Julia is a typed language. This implies that Julia implements various types to store e.g. integers, floats and strings. The function <i>typeof</i> returns the type of a variable. Julia implements a hierarchy (in the form of tree structure) of types. The functions <i>subtypes</i> (with final-s) and <i>supertype</i> (without final-s) return the various sub (or derived) types and the super (or parent) type of a given type. The type hierarchy allows to implement multiple dispatch (binding a function to its most specific type of input). This feature is a key feature in the performance of Julia for scientific computing.  \n",
    "\n",
    "<b> User Defined Types </b>\n",
    "\n",
    "Julia allows the user to defined its own type. A container with elementary data types is build. This allows to register a person in a database with name, adres and phone number. More mathematicallly, a point can be coded with its spatial coordinates, a triangle with its edges and a finite element mesh with its elements. \n",
    "\n",
    "In the code example that follows, first an abstract data type Pet is defined. Next, the two subtypes Dog and Cat are defined as a struct with a field Name. Next, the variable rex of type Dog and the variables whiskers of type Cat are defined. One can verify here the functioning of the functions <i>subtypes</i>, <i>supertype</i> and <i>typeof</i>. "
   ]
  },
  {
   "cell_type": "code",
   "execution_count": 1,
   "id": "33b80050",
   "metadata": {},
   "outputs": [
    {
     "data": {
      "text/plain": [
       "Cat(\"Whiskers\")"
      ]
     },
     "execution_count": 1,
     "metadata": {},
     "output_type": "execute_result"
    }
   ],
   "source": [
    "abstract type Pet end\n",
    "struct Dog<:Pet name::String end\n",
    "struct Cat<:Pet name::String end\n",
    "rex = Dog(\"Rex\")\n",
    "whiskers = Cat(\"Whiskers\")"
   ]
  },
  {
   "cell_type": "markdown",
   "id": "61f2efa7",
   "metadata": {},
   "source": [
    "<b> Single dynamic dispatch </b>\n",
    "\n",
    "Julia perform a dispatch of the type of an argument when calling a function. This is shown in the following example. The function <i>methods</i> returns the methods table of a function. "
   ]
  },
  {
   "cell_type": "code",
   "execution_count": 2,
   "id": "211a1915",
   "metadata": {},
   "outputs": [
    {
     "data": {
      "text/plain": [
       "\"I am a Cat\""
      ]
     },
     "execution_count": 2,
     "metadata": {},
     "output_type": "execute_result"
    }
   ],
   "source": [
    "identify(a::Dog) = \"I am a Dog\"\n",
    "identify(a::Cat) = \"I am a Cat\"\n",
    "identify(whiskers)"
   ]
  },
  {
   "cell_type": "markdown",
   "id": "006949c8",
   "metadata": {},
   "source": [
    "<b> Multiple dynamic dispatch </b>\n",
    "\n",
    "Julia performs a dispatch on the type of a arguments in the function call. "
   ]
  },
  {
   "cell_type": "code",
   "execution_count": 3,
   "id": "144d50f9",
   "metadata": {},
   "outputs": [
    {
     "data": {
      "text/plain": [
       "meet (generic function with 4 methods)"
      ]
     },
     "execution_count": 3,
     "metadata": {},
     "output_type": "execute_result"
    }
   ],
   "source": [
    "function encounter(a::Pet, b::Pet)\n",
    "    verb = meet(a,b) \n",
    "    println(\" $(a.name) meets $(b.name) and $verb\")\n",
    "end \n",
    "meet(a::Dog, b::Dog) = \"sniffs\"\n",
    "meet(a::Dog, b::Cat) = \"chases\"\n",
    "meet(a::Cat, b::Dog) = \"hisses\"\n",
    "meet(a::Cat, b::Cat) = \"slinks\""
   ]
  },
  {
   "cell_type": "code",
   "execution_count": 4,
   "id": "a13bf641",
   "metadata": {},
   "outputs": [
    {
     "name": "stdout",
     "output_type": "stream",
     "text": [
      " Rex meets Whiskers and chases\n"
     ]
    }
   ],
   "source": [
    "encounter(rex, whiskers)"
   ]
  },
  {
   "cell_type": "markdown",
   "id": "2de27a2c",
   "metadata": {},
   "source": [
    "<b> Type instability and Performance </b>\n",
    "Type stability is an important concept in the computational efficiency of the code. See section on [Type Instability in JuliaNotes](https://m3g.github.io/JuliaNotes.jl/stable/instability/).   \n",
    "\n",
    "Applications of multiple dispatch in coding of FEM:\n",
    "1. FEM assembly (methods used depend on the type of argument);\n",
    "2. FEM solve (method used to solve linear system depends on the type of matrix and right-side vector)."
   ]
  },
  {
   "cell_type": "markdown",
   "id": "a1e9f0bf",
   "metadata": {},
   "source": [
    "### Function-like Objects and Callable Structs  \n",
    "\n",
    "We discussed the need to encapsulate (or to group) user data in a container before when discussing user defined types. Often it is valuable to store a function that operates on the data in the same container. An example is a container that stores the coefficients of a polynomial and a function that evaluates the polynomial in a given input.  \n",
    "\n",
    "See heading Function like objects in [section Methods in the Julia manual](https://docs.julialang.org/en/v1/manual/methods/); struct (data) with a method (function) associated to it; example of polynomial; ask students to read through the documentation, give an example from documentartion and give own example; \n",
    "\n",
    "### Eager vs. Lazy Evaluation\n",
    "\n",
    "A lazily-evaluated list is a list whose elements are not evaluated when it's constructed, but rather when it is accessed.\n",
    "The benefit of lazy operations is that they can be materialized in-place, possible using simplifications. For example, allows to implement BLAS-1 in place operations. Allows allocation free population of vectors using heat, vcat and copy! \n",
    "Examples from https://github.com/MikeInnes/Lazy.jl or https://github.com/JuliaArrays/LazyArrays.jl \n",
    "\n",
    "Application to FEM: list of elementary matrices and vectors as lazy arrays; \n",
    "\n",
    "\n",
    "Application to FEM: FEM assembly process; \n",
    "\n",
    "### Automatic Differentiation\n",
    "\n",
    "See [zygote](https://fluxml.ai/Zygote.jl/latest/) and [enzyme](https://enzyme.mit.edu/julia/); \n",
    "\n",
    "Application to FEM: modeling magnetic saturation (non-linear BH curve, non-linear constitutive equation). Non-linear assembly. Non-linar solve. (see examples of non-linear solve in e.g. Gridap.jl and Ferrite.jl)  \n",
    "\n",
    "### Parallel and GPU Computing\n",
    "\n",
    "<b> Shared Memory </b>\n",
    "\n",
    "Using macro @parallel and SharedArray. See e.g. Section 5.4 of Fresh Approach paper. \n",
    "\n",
    "<b> Distributed Memory</b>\n",
    "\n",
    "Application to FEM: (1/2): parallel assembly and solve of the FEM matrix and right-hand vector by a parallel loop over the elements. Distribution of the elements over the processors. Use of parallel distributed matrices and vectors (layout of submatrices and subvectors connected by interfaces). (2/2) Parallel solve using iterative solution methods.  "
   ]
  },
  {
   "cell_type": "markdown",
   "id": "88fff13a",
   "metadata": {},
   "source": [
    "## Section 3: Julia Packages for FEM\n",
    "See [gijswl/ee4375_fem_ta/tree/main/general/julia](https://github.com/gijswl/ee4375_fem_ta/tree/main/general/julia); (Domenico needs to reread)\n",
    "\n",
    "Refer to \n",
    "1. [gridap.jl](https://gridap.github.io/Gridap.jl/stable/) (functional approach); need to read its documentation at https://gridap.github.io/Tutorials/dev/pages/t013_poisson_dev_fe/ \n",
    "2. [ferritefem.jl](https://ferrite-fem.github.io/Ferrite.jl/stable/) (classical approach); \n",
    "3. [minfem.jl](https://github.com/MinFEM/MinFEM.jl) (good for didactical purpose); \n",
    "4. [EndoBeams.jl](https://gitlab.emse.fr/pierrat/EndoBeams.jl) and [paper](https://www.sciencedirect.com/science/article/pii/S0965997822000849) (good for explanation on how to use structarrays.jl)\n",
    "\n",
    "## Section 4: Post Processing \n",
    "To visualize mesh and computed results, use either \n",
    "1. use Makie.jl (preferred); \n",
    "2. WriteVTK.jl and visualize results using Paraview; "
   ]
  },
  {
   "cell_type": "code",
   "execution_count": null,
   "id": "a8ad5158",
   "metadata": {},
   "outputs": [],
   "source": []
  }
 ],
 "metadata": {
  "kernelspec": {
   "display_name": "Julia 1.8.1",
   "language": "julia",
   "name": "julia-1.8"
  },
  "language_info": {
   "file_extension": ".jl",
   "mimetype": "application/julia",
   "name": "julia",
   "version": "1.8.1"
  }
 },
 "nbformat": 4,
 "nbformat_minor": 5
}
